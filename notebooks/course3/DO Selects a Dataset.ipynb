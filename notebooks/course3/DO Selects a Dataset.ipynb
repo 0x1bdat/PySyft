{
 "cells": [
  {
   "cell_type": "markdown",
   "id": "783bea85",
   "metadata": {},
   "source": [
    "#### Data Owner selects a dataset from their domain\n",
    "\n",
    "A Data Owner has almost the same view as the Data Scientist, when searching and viewing the datasets on a domain.\n",
    "Although, for a Data Scientist, the properties and values are read-only for any given dataset. While a Data\n",
    "Owner also has write permissions to the datasets that belong to their domain. There a Data Owner can:\n",
    "- Search through datasets\n",
    "- Select any dataset\n",
    "- Delete any dataset\n",
    "- Update the properties of any dataset"
   ]
  },
  {
   "cell_type": "code",
   "execution_count": null,
   "id": "d714e34e",
   "metadata": {},
   "outputs": [],
   "source": [
    "import syft as sy"
   ]
  },
  {
   "cell_type": "code",
   "execution_count": null,
   "id": "d3282541",
   "metadata": {},
   "outputs": [],
   "source": [
    "# Let's login into the canada domain\n",
    "ca_domain = sy.login(email=\"info@openmined.org\", password=\"changethis\", port=8081)"
   ]
  },
  {
   "cell_type": "code",
   "execution_count": 8,
   "id": "87851089",
   "metadata": {},
   "outputs": [
    {
     "data": {
      "text/html": [
       "<div>\n",
       "<style scoped>\n",
       "    .dataframe tbody tr th:only-of-type {\n",
       "        vertical-align: middle;\n",
       "    }\n",
       "\n",
       "    .dataframe tbody tr th {\n",
       "        vertical-align: top;\n",
       "    }\n",
       "\n",
       "    .dataframe thead th {\n",
       "        text-align: right;\n",
       "    }\n",
       "</style>\n",
       "<table border=\"1\" class=\"dataframe\">\n",
       "  <thead>\n",
       "    <tr style=\"text-align: right;\">\n",
       "      <th></th>\n",
       "      <th>Id</th>\n",
       "      <th>Name</th>\n",
       "      <th>Tags</th>\n",
       "      <th>Assets</th>\n",
       "      <th>Description</th>\n",
       "      <th>Domain</th>\n",
       "      <th>Network</th>\n",
       "      <th>Usage</th>\n",
       "      <th>Added On</th>\n",
       "    </tr>\n",
       "  </thead>\n",
       "  <tbody>\n",
       "    <tr>\n",
       "      <th>0</th>\n",
       "      <td>078a61a4a01b4741899263241e603de0</td>\n",
       "      <td>Canada Crop Index Dataset</td>\n",
       "      <td>[Agriculture, Agri-Food Canada]</td>\n",
       "      <td>[\"crop-index-2021\"] -&gt; DataFrame</td>\n",
       "      <td>Crop index dataset indicating relative yield i...</td>\n",
       "      <td>Canada Domain</td>\n",
       "      <td>United Nations</td>\n",
       "      <td>130</td>\n",
       "      <td>Mar 11 2021</td>\n",
       "    </tr>\n",
       "    <tr>\n",
       "      <th>1</th>\n",
       "      <td>e6c42588dbf044cf882faa4ad6098af3</td>\n",
       "      <td>Canada Commodities Dataset</td>\n",
       "      <td>[Commodities, Canada, Trade]</td>\n",
       "      <td>[\"ca-feb2021\"] -&gt; DataFrame</td>\n",
       "      <td>Commodity Trade Dataset</td>\n",
       "      <td>Canada Domain</td>\n",
       "      <td>United Nations</td>\n",
       "      <td>340</td>\n",
       "      <td>Mar 11 2021</td>\n",
       "    </tr>\n",
       "    <tr>\n",
       "      <th>2</th>\n",
       "      <td>d1c1b81270c34912b565615150e65132</td>\n",
       "      <td>Forest Fire Image Dataset</td>\n",
       "      <td>[Forest, Widfire, Climate]</td>\n",
       "      <td>[\"forest-fire\"] -&gt; Tensor</td>\n",
       "      <td>Images of forest fire</td>\n",
       "      <td>Canada Domain</td>\n",
       "      <td>United Nations</td>\n",
       "      <td>440</td>\n",
       "      <td>Mar 11 2021</td>\n",
       "    </tr>\n",
       "  </tbody>\n",
       "</table>\n",
       "</div>"
      ],
      "text/plain": [
       "                                 Id                        Name  \\\n",
       "0  078a61a4a01b4741899263241e603de0   Canada Crop Index Dataset   \n",
       "1  e6c42588dbf044cf882faa4ad6098af3  Canada Commodities Dataset   \n",
       "2  d1c1b81270c34912b565615150e65132   Forest Fire Image Dataset   \n",
       "\n",
       "                              Tags                            Assets  \\\n",
       "0  [Agriculture, Agri-Food Canada]  [\"crop-index-2021\"] -> DataFrame   \n",
       "1     [Commodities, Canada, Trade]       [\"ca-feb2021\"] -> DataFrame   \n",
       "2       [Forest, Widfire, Climate]         [\"forest-fire\"] -> Tensor   \n",
       "\n",
       "                                         Description         Domain  \\\n",
       "0  Crop index dataset indicating relative yield i...  Canada Domain   \n",
       "1                            Commodity Trade Dataset  Canada Domain   \n",
       "2                              Images of forest fire  Canada Domain   \n",
       "\n",
       "          Network  Usage     Added On  \n",
       "0  United Nations    130  Mar 11 2021  \n",
       "1  United Nations    340  Mar 11 2021  \n",
       "2  United Nations    440  Mar 11 2021  "
      ]
     },
     "execution_count": 8,
     "metadata": {},
     "output_type": "execute_result"
    }
   ],
   "source": [
    "# Let's list all the datasets on the Canada domain\n",
    "ca_domain.datasets"
   ]
  },
  {
   "cell_type": "code",
   "execution_count": 11,
   "id": "368547b0",
   "metadata": {},
   "outputs": [
    {
     "name": "stdout",
     "output_type": "stream",
     "text": [
      "\n",
      "Name: Canada Commodities Dataset\n",
      "Description: Commodity Trade Dataset\n",
      "\n"
     ]
    },
    {
     "data": {
      "text/html": [
       "<div>\n",
       "<style scoped>\n",
       "    .dataframe tbody tr th:only-of-type {\n",
       "        vertical-align: middle;\n",
       "    }\n",
       "\n",
       "    .dataframe tbody tr th {\n",
       "        vertical-align: top;\n",
       "    }\n",
       "\n",
       "    .dataframe thead th {\n",
       "        text-align: right;\n",
       "    }\n",
       "</style>\n",
       "<table border=\"1\" class=\"dataframe\">\n",
       "  <thead>\n",
       "    <tr style=\"text-align: right;\">\n",
       "      <th></th>\n",
       "      <th>Asset Key</th>\n",
       "      <th>Type</th>\n",
       "      <th>Shape</th>\n",
       "    </tr>\n",
       "  </thead>\n",
       "  <tbody>\n",
       "    <tr>\n",
       "      <th>0</th>\n",
       "      <td>[\"ca-feb2021\"]</td>\n",
       "      <td>DataFrame</td>\n",
       "      <td>(40000, 7)</td>\n",
       "    </tr>\n",
       "  </tbody>\n",
       "</table>\n",
       "</div>"
      ],
      "text/plain": [
       "        Asset Key       Type       Shape\n",
       "0  [\"ca-feb2021\"]  DataFrame  (40000, 7)"
      ]
     },
     "execution_count": 11,
     "metadata": {},
     "output_type": "execute_result"
    }
   ],
   "source": [
    "# Let's select the commodity data via `index` or `Id`\n",
    "commodity_dataset = ca_domain.datasets[1]\n",
    "# Or\n",
    "commodity_dataset = ca_domain.datasets[\"e6c42588dbf044cf882faa4ad6098af3\"]\n",
    "commodity_dataset"
   ]
  },
  {
   "cell_type": "code",
   "execution_count": 12,
   "id": "33960cce",
   "metadata": {},
   "outputs": [
    {
     "name": "stdout",
     "output_type": "stream",
     "text": [
      "Details of the dataset\n",
      "Name: Canada Commodities Dataset\n",
      "Id: e6c42588dbf044cf882faa4ad6098af3\n",
      "Tags: ['Commodities', 'Canada', 'Trade']\n",
      "Description: Commodity Trade Dataset\n"
     ]
    }
   ],
   "source": [
    "# Let's print the properties of the dataset\n",
    "print(f\"Details of the dataset\")\n",
    "print(f\"Name: {ca_commodity_data.name}\")\n",
    "print(f\"Id: {ca_commodity_data.id}\")\n",
    "print(f\"Tags: {ca_commodity_data.tags}\")\n",
    "print(f\"Description: {ca_commodity_data.description}\")"
   ]
  },
  {
   "cell_type": "code",
   "execution_count": null,
   "id": "abf1088d",
   "metadata": {},
   "outputs": [],
   "source": [
    "# Let's select the asset\n",
    "comm_dataset_ptr = commodity_dataset[\"ca-feb-2021\"]"
   ]
  },
  {
   "cell_type": "code",
   "execution_count": 14,
   "id": "66b51b37",
   "metadata": {},
   "outputs": [
    {
     "name": "stdout",
     "output_type": "stream",
     "text": [
      "\n",
      "    \u001b[91mInvalidAssetKeyError\u001b[0m:\n",
      "        Asset with key `random-feb2021` does not exist.\n",
      "\n"
     ]
    }
   ],
   "source": [
    "# If we select an invalid asset\n",
    "comm_dataset_ptr = commodity_dataset[\"feb-2021\"]"
   ]
  },
  {
   "cell_type": "code",
   "execution_count": 9,
   "id": "4cab3321",
   "metadata": {},
   "outputs": [
    {
     "name": "stdout",
     "output_type": "stream",
     "text": [
      "\n",
      "        You are about to delete the `Forest Fire Image Dataset` ? 🚨\n",
      "        All information related to this dataset will be permanantely deleted.\n",
      "        Please enter Y/N to proceed:\n",
      "    \n",
      "`Forest Fire Image Dataset` was successfully deleted.\n"
     ]
    }
   ],
   "source": [
    "# Now,let's say if the user want to delete a dataset from the domain\n",
    "# The user needs to provide the Id to the dataset, that needs to be deleted.\n",
    "\n",
    "# Let's say we're deleting the forest fire dataset\n",
    "ca_domain.datasets.delete(id=\"d1c1b81270c34912b565615150e65132\")\n",
    "\n",
    "# If the user enter `Y` we will proceed with deleting the dataset and send an acknowledgment message.\n",
    "# else continue."
   ]
  },
  {
   "cell_type": "code",
   "execution_count": 27,
   "id": "50761c52",
   "metadata": {},
   "outputs": [
    {
     "data": {
      "text/html": [
       "<div>\n",
       "<style scoped>\n",
       "    .dataframe tbody tr th:only-of-type {\n",
       "        vertical-align: middle;\n",
       "    }\n",
       "\n",
       "    .dataframe tbody tr th {\n",
       "        vertical-align: top;\n",
       "    }\n",
       "\n",
       "    .dataframe thead th {\n",
       "        text-align: right;\n",
       "    }\n",
       "</style>\n",
       "<table border=\"1\" class=\"dataframe\">\n",
       "  <thead>\n",
       "    <tr style=\"text-align: right;\">\n",
       "      <th></th>\n",
       "      <th>Id</th>\n",
       "      <th>Name</th>\n",
       "      <th>Tags</th>\n",
       "      <th>Assets</th>\n",
       "      <th>Description</th>\n",
       "      <th>Domain</th>\n",
       "      <th>Network</th>\n",
       "      <th>Usage</th>\n",
       "      <th>Added On</th>\n",
       "    </tr>\n",
       "  </thead>\n",
       "  <tbody>\n",
       "    <tr>\n",
       "      <th>0</th>\n",
       "      <td>078a61a4a01b4741899263241e603de0</td>\n",
       "      <td>Canada Crop Index Dataset</td>\n",
       "      <td>[Agriculture, Agri-Food Canada]</td>\n",
       "      <td>[\"crop-index-2021\"] -&gt; DataFrame</td>\n",
       "      <td>Crop index dataset indicating relative yield i...</td>\n",
       "      <td>Canada Domain</td>\n",
       "      <td>United Nations</td>\n",
       "      <td>130</td>\n",
       "      <td>Mar 11 2021</td>\n",
       "    </tr>\n",
       "    <tr>\n",
       "      <th>1</th>\n",
       "      <td>e6c42588dbf044cf882faa4ad6098af3</td>\n",
       "      <td>Canada Commodities Dataset</td>\n",
       "      <td>[Commodities, Canada, Trade]</td>\n",
       "      <td>[\"ca-feb2021\"] -&gt; DataFrame</td>\n",
       "      <td>Commodity Trade Dataset</td>\n",
       "      <td>Canada Domain</td>\n",
       "      <td>United Nations</td>\n",
       "      <td>340</td>\n",
       "      <td>Mar 11 2021</td>\n",
       "    </tr>\n",
       "  </tbody>\n",
       "</table>\n",
       "</div>"
      ],
      "text/plain": [
       "                                 Id                        Name  \\\n",
       "0  078a61a4a01b4741899263241e603de0   Canada Crop Index Dataset   \n",
       "1  e6c42588dbf044cf882faa4ad6098af3  Canada Commodities Dataset   \n",
       "\n",
       "                              Tags                            Assets  \\\n",
       "0  [Agriculture, Agri-Food Canada]  [\"crop-index-2021\"] -> DataFrame   \n",
       "1     [Commodities, Canada, Trade]       [\"ca-feb2021\"] -> DataFrame   \n",
       "\n",
       "                                         Description         Domain  \\\n",
       "0  Crop index dataset indicating relative yield i...  Canada Domain   \n",
       "1                            Commodity Trade Dataset  Canada Domain   \n",
       "\n",
       "          Network  Usage     Added On  \n",
       "0  United Nations    130  Mar 11 2021  \n",
       "1  United Nations    340  Mar 11 2021  "
      ]
     },
     "execution_count": 27,
     "metadata": {},
     "output_type": "execute_result"
    }
   ],
   "source": [
    "# Let's verify if the `Forest Fire Dataset` was deleted\n",
    "ca_domain.datasets"
   ]
  },
  {
   "cell_type": "code",
   "execution_count": null,
   "id": "2cab7061",
   "metadata": {},
   "outputs": [],
   "source": [
    "# Now, let's say we want to update the meta-information w.r.t to a dataset\n",
    "\n",
    "ca_domain.datasets.update(id=\"078a61a4a01b4741899263241e603de0\", data={\"name\": \"Crop-Index Dataset\"})\n",
    "\n",
    "# Or if want to update multiple properties\n",
    "ca_domain.datasets.update(id=\"078a61a4a01b4741899263241e603de0\", data={\"name\": \"Crop-Index Dataset\", \"description\": \"Updated description\"})"
   ]
  },
  {
   "cell_type": "code",
   "execution_count": 33,
   "id": "92814a0b",
   "metadata": {},
   "outputs": [
    {
     "data": {
      "text/html": [
       "<div>\n",
       "<style scoped>\n",
       "    .dataframe tbody tr th:only-of-type {\n",
       "        vertical-align: middle;\n",
       "    }\n",
       "\n",
       "    .dataframe tbody tr th {\n",
       "        vertical-align: top;\n",
       "    }\n",
       "\n",
       "    .dataframe thead th {\n",
       "        text-align: right;\n",
       "    }\n",
       "</style>\n",
       "<table border=\"1\" class=\"dataframe\">\n",
       "  <thead>\n",
       "    <tr style=\"text-align: right;\">\n",
       "      <th></th>\n",
       "      <th>Id</th>\n",
       "      <th>Name</th>\n",
       "      <th>Tags</th>\n",
       "      <th>Assets</th>\n",
       "      <th>Description</th>\n",
       "      <th>Domain</th>\n",
       "      <th>Network</th>\n",
       "      <th>Usage</th>\n",
       "      <th>Added On</th>\n",
       "    </tr>\n",
       "  </thead>\n",
       "  <tbody>\n",
       "    <tr>\n",
       "      <th>0</th>\n",
       "      <td>078a61a4a01b4741899263241e603de0</td>\n",
       "      <td>Crop-Index Dataset</td>\n",
       "      <td>[Agriculture, Agri-Food Canada]</td>\n",
       "      <td>[\"crop-index-2021\"] -&gt; DataFrame</td>\n",
       "      <td>Crop index dataset indicating relative yield i...</td>\n",
       "      <td>Canada Domain</td>\n",
       "      <td>United Nations</td>\n",
       "      <td>130</td>\n",
       "      <td>Mar 11 2021</td>\n",
       "    </tr>\n",
       "    <tr>\n",
       "      <th>1</th>\n",
       "      <td>e6c42588dbf044cf882faa4ad6098af3</td>\n",
       "      <td>Canada Commodities Dataset</td>\n",
       "      <td>[Commodities, Canada, Trade]</td>\n",
       "      <td>[\"ca-feb2021\"] -&gt; DataFrame</td>\n",
       "      <td>Commodity Trade Dataset</td>\n",
       "      <td>Canada Domain</td>\n",
       "      <td>United Nations</td>\n",
       "      <td>340</td>\n",
       "      <td>Mar 11 2021</td>\n",
       "    </tr>\n",
       "  </tbody>\n",
       "</table>\n",
       "</div>"
      ],
      "text/plain": [
       "                                 Id                        Name  \\\n",
       "0  078a61a4a01b4741899263241e603de0          Crop-Index Dataset   \n",
       "1  e6c42588dbf044cf882faa4ad6098af3  Canada Commodities Dataset   \n",
       "\n",
       "                              Tags                            Assets  \\\n",
       "0  [Agriculture, Agri-Food Canada]  [\"crop-index-2021\"] -> DataFrame   \n",
       "1     [Commodities, Canada, Trade]       [\"ca-feb2021\"] -> DataFrame   \n",
       "\n",
       "                                         Description         Domain  \\\n",
       "0  Crop index dataset indicating relative yield i...  Canada Domain   \n",
       "1                            Commodity Trade Dataset  Canada Domain   \n",
       "\n",
       "          Network  Usage     Added On  \n",
       "0  United Nations    130  Mar 11 2021  \n",
       "1  United Nations    340  Mar 11 2021  "
      ]
     },
     "execution_count": 33,
     "metadata": {},
     "output_type": "execute_result"
    }
   ],
   "source": [
    "# Now, if we check the list of datasets, \n",
    "# we can see that the name of the dataset with Id: 078a61a4a01b4741899263241e603de0\n",
    "# is updated.\n",
    "ca_domain.datasets"
   ]
  },
  {
   "cell_type": "code",
   "execution_count": null,
   "id": "e860b576",
   "metadata": {},
   "outputs": [],
   "source": []
  },
  {
   "cell_type": "markdown",
   "id": "c3d1d6f0",
   "metadata": {
    "heading_collapsed": true
   },
   "source": [
    "#### Dummy Data"
   ]
  },
  {
   "cell_type": "code",
   "execution_count": 2,
   "id": "3b06bc4a",
   "metadata": {
    "hidden": true
   },
   "outputs": [],
   "source": [
    "import pandas as pd\n",
    "from enum import Enum\n",
    "import uuid\n",
    "import datetime\n",
    "\n",
    "\n",
    "class bcolors(Enum):\n",
    "    HEADER = \"\\033[95m\"\n",
    "    OKBLUE = \"\\033[94m\"\n",
    "    OKCYAN = \"\\033[96m\"\n",
    "    OKGREEN = \"\\033[92m\"\n",
    "    WARNING = \"\\033[93m\"\n",
    "    FAIL = \"\\033[91m\"\n",
    "    ENDC = \"\\033[0m\"\n",
    "    BOLD = \"\\033[1m\"\n",
    "    UNDERLINE = \"\\033[4m\""
   ]
  },
  {
   "cell_type": "code",
   "execution_count": 6,
   "id": "baa916c5",
   "metadata": {
    "hidden": true
   },
   "outputs": [],
   "source": [
    "datasets = [\n",
    "    {\n",
    "        \"Id\": uuid.uuid4().hex,\n",
    "        \"Name\": \"Canada Crop Index Dataset\",\n",
    "        \"Tags\": [\"Agriculture\", \"Agri-Food Canada\"],\n",
    "        \"Assets\": '''[\"crop-index-2021\"] -> DataFrame''',\n",
    "        \"Description\": \"Crop index dataset indicating relative yield in an area.\",\n",
    "        \"Domain\": \"Canada Domain\",\n",
    "        \"Network\": \"United Nations\",\n",
    "        \"Usage\": 130,\n",
    "        \"Added On\": datetime.datetime.now().replace(month=3, day=11).strftime(\"%b %d %Y\")\n",
    "    },\n",
    "    {\n",
    "        \"Id\": uuid.uuid4().hex,\n",
    "        \"Name\": \"Canada Commodities Dataset\",\n",
    "        \"Tags\": [\"Commodities\", \"Canada\", \"Trade\"],\n",
    "        \"Assets\": '''[\"ca-feb2021\"] -> DataFrame''',\n",
    "        \"Description\": \"Commodity Trade Dataset\",\n",
    "        \"Domain\": \"Canada Domain\",\n",
    "        \"Network\": \"United Nations\",\n",
    "        \"Usage\": 340,\n",
    "        \"Added On\": datetime.datetime.now().replace(month=3, day=11).strftime(\"%b %d %Y\")\n",
    "    },\n",
    "    {\n",
    "        \"Id\": uuid.uuid4().hex,\n",
    "        \"Name\": \"Forest Fire Image Dataset\",\n",
    "        \"Tags\": [\"Forest\", \"Widfire\", \"Climate\"],\n",
    "        \"Assets\": '''[\"forest-fire\"] -> Tensor''',\n",
    "        \"Description\": \"Images of forest fire\",\n",
    "        \"Domain\": \"Canada Domain\",\n",
    "        \"Network\": \"United Nations\",\n",
    "        \"Usage\": 440,\n",
    "        \"Added On\": datetime.datetime.now().replace(month=3, day=11).strftime(\"%b %d %Y\")\n",
    "    },\n",
    "\n",
    "]\n",
    "\n",
    "datasets_df = pd.DataFrame(datasets)"
   ]
  },
  {
   "cell_type": "code",
   "execution_count": 9,
   "id": "425697b0",
   "metadata": {
    "hidden": true
   },
   "outputs": [
    {
     "name": "stdout",
     "output_type": "stream",
     "text": [
      "\n",
      "Name: Canada Commodities Dataset\n",
      "Description: Commodity Trade Dataset\n",
      "\n"
     ]
    }
   ],
   "source": [
    "dataset_detail = [\n",
    "    {\n",
    "        \"Asset Key\": '[\"ca-feb2021\"]',\n",
    "        \"Type\": \"DataFrame\",\n",
    "        \"Shape\": \"(40000, 7)\"\n",
    "    },\n",
    "]\n",
    "print(\"\"\"\n",
    "Name: Canada Commodities Dataset\n",
    "Description: Commodity Trade Dataset\n",
    "\"\"\")\n",
    "dataset_detail_df = pd.DataFrame(dataset_detail)"
   ]
  },
  {
   "cell_type": "code",
   "execution_count": 13,
   "id": "d28bac9f",
   "metadata": {
    "hidden": true
   },
   "outputs": [
    {
     "name": "stdout",
     "output_type": "stream",
     "text": [
      "\n",
      "    \u001b[91mInvalidAssetKeyError\u001b[0m:\n",
      "        Asset with key `random-feb2021` does not exist.\n",
      "\n"
     ]
    }
   ],
   "source": [
    "error_on_invalid_asset_key = f\"\"\"\n",
    "    {bcolors.FAIL.value}InvalidAssetKeyError{bcolors.ENDC.value}:\n",
    "        Asset with key `random-feb2021` does not exist.\n",
    "\"\"\"\n",
    "print(error_on_invalid_asset_key)"
   ]
  },
  {
   "cell_type": "code",
   "execution_count": 24,
   "id": "03dacd1b",
   "metadata": {
    "hidden": true
   },
   "outputs": [],
   "source": [
    "# # Delete dataset confirmation:\n",
    "# delete_confirmation_msg = \"`Forest Fire Image Dataset` was successfully deleted.\"\n",
    "# print(delete_confirmation_msg)\n",
    "\n",
    "# try:\n",
    "#     input(\"\"\"\n",
    "#         You are about to delete the `Forest Fire Image Dataset` ? 🚨\n",
    "#         All information related to this dataset will be permanantely deleted.\n",
    "#         Please enter Y/N to proceed:\n",
    "#     \"\"\")\n",
    "# except:\n",
    "#     print(delete_confirmation_msg)"
   ]
  },
  {
   "cell_type": "code",
   "execution_count": 32,
   "id": "60a2749d",
   "metadata": {
    "hidden": true
   },
   "outputs": [
    {
     "name": "stderr",
     "output_type": "stream",
     "text": [
      "/tmp/ipykernel_9940/789269115.py:1: SettingWithCopyWarning: \n",
      "A value is trying to be set on a copy of a slice from a DataFrame\n",
      "\n",
      "See the caveats in the documentation: https://pandas.pydata.org/pandas-docs/stable/user_guide/indexing.html#returning-a-view-versus-a-copy\n",
      "  datasets_df[\"Name\"][0] = \"Crop-Index Dataset\"\n"
     ]
    }
   ],
   "source": [
    "datasets_df[\"Name\"][0] = \"Crop-Index Dataset\""
   ]
  },
  {
   "cell_type": "code",
   "execution_count": null,
   "id": "aaacf42e",
   "metadata": {
    "hidden": true
   },
   "outputs": [],
   "source": []
  }
 ],
 "metadata": {
  "kernelspec": {
   "display_name": "Python 3",
   "language": "python",
   "name": "python3"
  },
  "language_info": {
   "codemirror_mode": {
    "name": "ipython",
    "version": 3
   },
   "file_extension": ".py",
   "mimetype": "text/x-python",
   "name": "python",
   "nbconvert_exporter": "python",
   "pygments_lexer": "ipython3",
   "version": "3.8.8"
  }
 },
 "nbformat": 4,
 "nbformat_minor": 5
}
