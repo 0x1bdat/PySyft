{
 "cells": [
  {
   "cell_type": "markdown",
   "id": "d59252a1-05b1-485a-a338-8a3d2d6ade71",
   "metadata": {},
   "source": [
    "# Our Goal\n",
    "\n",
    "In the next 15 minutes, we're going to give you a rapid run through where you as a Data Owner, will prepare a dataset, deploy a domain node, upload that dataset to the domain node.\n",
    "Finally, as a Data Scientist, you'll take this data and perform remote data science on it!\n",
    "\n",
    "Note:\n",
    "* We'll walk you through all the steps in much more detail in the next 3 lessons!"
   ]
  },
  {
   "cell_type": "markdown",
   "id": "480edc12-a236-4aba-999b-125aa6867a59",
   "metadata": {},
   "source": [
    "## Steps\n",
    "\n",
    "Run the following commands in a Terminal:\n",
    "\n",
    "### <b>1. Clone the PySyft repository, fetch and checkout the dev branch: </b>"
   ]
  },
  {
   "cell_type": "markdown",
   "id": "a3ecd822-fd2e-40a0-bf21-3c25647a53c2",
   "metadata": {},
   "source": [
    "git clone https://github.com/OpenMined/PySyft && cd PySyft\n",
    "git fetch origin dev\n",
    "git checkout dev"
   ]
  },
  {
   "cell_type": "markdown",
   "id": "0bf548ee-c08b-4b29-b0b7-6517404365a4",
   "metadata": {},
   "source": [
    "### <b>2. Launch <a href=\"https://www.docker.com/products/docker-desktop\">Docker Desktop</a>, and ensure it has atleast 8GB of RAM available. </b>\n"
   ]
  },
  {
   "cell_type": "markdown",
   "id": "efb0a50e-5325-4d3c-a46b-cdba9313c389",
   "metadata": {},
   "source": [
    "### <b>3. Create a Virtual Environment with Python 3.9<b>"
   ]
  },
  {
   "cell_type": "markdown",
   "id": "65be7609-eaf2-46bb-92e5-c87ebec6913b",
   "metadata": {},
   "source": [
    "conda create -n lab python=3.9\n",
    "conda activate lab"
   ]
  },
  {
   "cell_type": "markdown",
   "id": "e178ea4f-dee9-4f99-8ca9-8f12677a8bae",
   "metadata": {},
   "source": [
    "### <b>4. Install & Launch HAGrid</b>"
   ]
  },
  {
   "cell_type": "markdown",
   "id": "94b08236-43ea-416d-8def-2ad7228d1252",
   "metadata": {},
   "source": [
    "cd packages/hagrid && pip install -e .\n",
    "hagrid launch <node_name>"
   ]
  },
  {
   "cell_type": "markdown",
   "id": "96722594-7633-418c-b265-de6dd6abaec8",
   "metadata": {},
   "source": [
    "### <b>5. Install & Launch Syft </b>"
   ]
  },
  {
   "cell_type": "markdown",
   "id": "f625f754-5c89-4b65-8fe0-ab3825522e00",
   "metadata": {},
   "source": [
    "cd packages/syft && pip install -e ."
   ]
  },
  {
   "cell_type": "markdown",
   "id": "202a168d-3f62-4016-a3db-6c5e469d4f8d",
   "metadata": {},
   "source": [
    "### <b>6. Login to the Domain!</b>\n",
    "\n",
    "\n",
    "<i>Voila!</i> You now have a working domain node. To login, go to <b>localhost:\"port_number\"</b> in your browser (port_number is 8081 by default).\n",
    "\n",
    "The default username and password are as follows:\n",
    "\n",
    "- Username: <b> info@openmined.org </b>\n",
    "- PW: <b> changethis </b>"
   ]
  },
  {
   "cell_type": "markdown",
   "id": "b6377bee-1cf4-475e-b256-bef3837ec799",
   "metadata": {},
   "source": [
    "### 7. Upload your Dataset to your Domain!\n",
    "\n",
    "Open Python, and run the following:"
   ]
  },
  {
   "cell_type": "code",
   "execution_count": null,
   "id": "24bf6d91-1004-4b8d-b5e5-0536eb1c3913",
   "metadata": {},
   "outputs": [],
   "source": [
    "import numpy as np\n",
    "data = np.random.choice([0, 1], size=(10))\n",
    "\n",
    "import syft as sy\n",
    "from syft.core.adp.entity import Entity\n",
    "\n",
    "domain_node = sy.login(email=\"info@openmined.org\", password=\"changethis\", port=8081)\n",
    "domain_node.load_dataset({\"COVID Test Results\": data})"
   ]
  },
  {
   "cell_type": "code",
   "execution_count": null,
   "id": "7897821f-f3e2-4c89-9c09-060318385142",
   "metadata": {},
   "outputs": [],
   "source": []
  }
 ],
 "metadata": {
  "kernelspec": {
   "display_name": "Python 3 (ipykernel)",
   "language": "python",
   "name": "python3"
  },
  "language_info": {
   "codemirror_mode": {
    "name": "ipython",
    "version": 3
   },
   "file_extension": ".py",
   "mimetype": "text/x-python",
   "name": "python",
   "nbconvert_exporter": "python",
   "pygments_lexer": "ipython3",
   "version": "3.9.7"
  }
 },
 "nbformat": 4,
 "nbformat_minor": 5
}
