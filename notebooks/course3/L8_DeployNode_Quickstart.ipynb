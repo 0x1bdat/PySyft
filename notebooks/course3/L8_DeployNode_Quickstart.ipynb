{
 "cells": [
  {
   "cell_type": "markdown",
   "id": "725def8a-170f-4e9f-9d66-5643720ec4a9",
   "metadata": {},
   "source": [
    "++++++++++++++++++++++++++++++++++++++\n",
    "======================================\n",
    "(Ishan & Phil)\n",
    "\n",
    "<b>To Do:</b>\n",
    "- This entire installation, but on macOS and Windows as well to see if it differs significantly\n",
    "\n",
    "\n",
    "<b> To Verify: </b>\n",
    "- The branch that will be used for the course is dev\n",
    "- That 8GB of RAM is still the recommended amt. for Docker\n",
    "- If Hagrid needs to be installed this way, or if Course users can expect a `pip install hagrid` \n",
    "- Will they still be using info@openmined.org to login to their domain for the first time?\n",
    "\n",
    "++++++++++++++++++++++++++++++++++++++\n",
    "======================================"
   ]
  },
  {
   "cell_type": "markdown",
   "id": "d59252a1-05b1-485a-a338-8a3d2d6ade71",
   "metadata": {},
   "source": [
    "# Our Goal\n",
    "For those of you who are already familiar with Docker, Virtual Environments (such as <a href=\"https://conda.io\">conda</a>, <a href=\"https://docs.python.org/3/library/venv.html\">venv</a>, or <a href=\"https://github.com/pyenv/pyenv\">pyenv</a>), Version Control (such as <a href=\"https://github.com\">git</a>), here's how to get a local domain node up and running in {} steps / around {} minutes."
   ]
  },
  {
   "cell_type": "markdown",
   "id": "480edc12-a236-4aba-999b-125aa6867a59",
   "metadata": {},
   "source": [
    "## Steps\n",
    "\n",
    "<b> Clone the PySyft repository, fetch the origin and checkout the dev (?) branch: </b>"
   ]
  },
  {
   "cell_type": "code",
   "execution_count": 1,
   "id": "eba29cc9-97f3-41cd-8a68-3b30a668517a",
   "metadata": {},
   "outputs": [
    {
     "ename": "SyntaxError",
     "evalue": "invalid syntax (1220177412.py, line 1)",
     "output_type": "error",
     "traceback": [
      "\u001b[0;36m  File \u001b[0;32m\"/tmp/ipykernel_346006/1220177412.py\"\u001b[0;36m, line \u001b[0;32m1\u001b[0m\n\u001b[0;31m    git clone https://github.com/OpenMined/PySyft\u001b[0m\n\u001b[0m        ^\u001b[0m\n\u001b[0;31mSyntaxError\u001b[0m\u001b[0;31m:\u001b[0m invalid syntax\n"
     ]
    }
   ],
   "source": [
    "# Clone the repository and move inside it\n",
    "!git clone https://github.com/OpenMined/PySyft && cd PySyft"
   ]
  },
  {
   "cell_type": "code",
   "execution_count": null,
   "id": "a219b707-0153-4420-a871-14e736bc8463",
   "metadata": {},
   "outputs": [],
   "source": [
    "# Fetch any changes\n",
    "git fetch origin dev"
   ]
  },
  {
   "cell_type": "code",
   "execution_count": null,
   "id": "887d8288-c8cc-4704-b18c-17542416b9fb",
   "metadata": {},
   "outputs": [],
   "source": [
    "# Checkout the relevant branch <--- This may be the default branch\n",
    "git checkout dev"
   ]
  },
  {
   "cell_type": "markdown",
   "id": "0bf548ee-c08b-4b29-b0b7-6517404365a4",
   "metadata": {},
   "source": [
    "<b> Launch <a href=\"https://www.docker.com/products/docker-desktop\">Docker Desktop</a>, and ensure it has atleast 8GB of RAM available. </b>\n"
   ]
  },
  {
   "cell_type": "code",
   "execution_count": null,
   "id": "88a5626c-e222-4860-ae13-e6e51a7f49b7",
   "metadata": {},
   "outputs": [],
   "source": []
  },
  {
   "cell_type": "markdown",
   "id": "efb0a50e-5325-4d3c-a46b-cdba9313c389",
   "metadata": {},
   "source": [
    "<b> Create a Virtual Environment <b>"
   ]
  },
  {
   "cell_type": "code",
   "execution_count": null,
   "id": "52056c87-5ba2-4d2f-b3c7-89520340bab6",
   "metadata": {},
   "outputs": [],
   "source": [
    "# Using Conda as an example\n",
    "!conda create -n lab python=3.9\n",
    "# Activate it:\n",
    "!conda activate lab"
   ]
  },
  {
   "cell_type": "markdown",
   "id": "e178ea4f-dee9-4f99-8ca9-8f12677a8bae",
   "metadata": {},
   "source": [
    "<b> Install & Launch HAGrid</b>"
   ]
  },
  {
   "cell_type": "code",
   "execution_count": null,
   "id": "96c29e20-c395-4ac2-852c-823f62db4130",
   "metadata": {},
   "outputs": [],
   "source": [
    "# Move to the appropriate directory and install from local source\n",
    "!cd packages/hagrid && pip install -e .\n",
    "\n",
    "# Launch HAGrid!\n",
    "!hagrid launch <node_name>"
   ]
  },
  {
   "cell_type": "markdown",
   "id": "96722594-7633-418c-b265-de6dd6abaec8",
   "metadata": {},
   "source": [
    "<b> Install & Launch Syft </b>"
   ]
  },
  {
   "cell_type": "code",
   "execution_count": null,
   "id": "bc48f74e-7476-429b-9538-d196c7ce2a5a",
   "metadata": {},
   "outputs": [],
   "source": [
    "# Install from source (PySyft/packages/syft)\n",
    "cd packages/syft && pip install -e ."
   ]
  },
  {
   "cell_type": "markdown",
   "id": "202a168d-3f62-4016-a3db-6c5e469d4f8d",
   "metadata": {},
   "source": [
    "<b> Login to the Domain!</b>\n",
    "\n",
    "\n",
    "<i>Voila!</i> You now have a working domain node. To login, go to <b>localhost:port_number</b> in your browser (port_number is 8081 by default).\n",
    "\n",
    "The default username and password are as follows:\n",
    "\n",
    "- Username: info@openmined.org\n",
    "- PW: ________"
   ]
  },
  {
   "cell_type": "code",
   "execution_count": null,
   "id": "62559bcf-52dc-4560-a62e-76c3b1f94c13",
   "metadata": {},
   "outputs": [],
   "source": []
  },
  {
   "cell_type": "code",
   "execution_count": null,
   "id": "139fa209-fc96-4719-83e2-bce5c94ca83d",
   "metadata": {},
   "outputs": [],
   "source": []
  }
 ],
 "metadata": {
  "kernelspec": {
   "display_name": "Python 3 (ipykernel)",
   "language": "python",
   "name": "python3"
  },
  "language_info": {
   "codemirror_mode": {
    "name": "ipython",
    "version": 3
   },
   "file_extension": ".py",
   "mimetype": "text/x-python",
   "name": "python",
   "nbconvert_exporter": "python",
   "pygments_lexer": "ipython3",
   "version": "3.8.11"
  }
 },
 "nbformat": 4,
 "nbformat_minor": 5
}
