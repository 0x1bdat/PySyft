{
 "cells": [
  {
   "cell_type": "markdown",
   "id": "19dc0234",
   "metadata": {},
   "source": [
    "### Select a dataset\n",
    "\n",
    "In order to access a dataset, a user needs to login into a domain to which the dataset belongs.\n",
    "As we know, we can login into a domain via two ways:\n",
    "- If we know the url of the domain\n",
    "- Select domain via Networks\n",
    "\n",
    "Overall the flow for a user to access a dataset:\n",
    "- The user logs into the domain. **[P0]**\n",
    "- The user is able to list datasets available in the domain **[P0]**\n",
    "- The user is able to filter datasets via properties like Id, tags, and title **[P1]**\n",
    "- The user selects the desired dataset via its ID. **[P0]**\n",
    "- The user can view metadata related to the dataset. **[P1]**"
   ]
  },
  {
   "cell_type": "code",
   "execution_count": null,
   "id": "388e6386",
   "metadata": {},
   "outputs": [],
   "source": [
    "import syft as sy"
   ]
  },
  {
   "cell_type": "code",
   "execution_count": 8,
   "id": "f9e82a28",
   "metadata": {},
   "outputs": [
    {
     "data": {
      "text/html": [
       "<div>\n",
       "<style scoped>\n",
       "    .dataframe tbody tr th:only-of-type {\n",
       "        vertical-align: middle;\n",
       "    }\n",
       "\n",
       "    .dataframe tbody tr th {\n",
       "        vertical-align: top;\n",
       "    }\n",
       "\n",
       "    .dataframe thead th {\n",
       "        text-align: right;\n",
       "    }\n",
       "</style>\n",
       "<table border=\"1\" class=\"dataframe\">\n",
       "  <thead>\n",
       "    <tr style=\"text-align: right;\">\n",
       "      <th></th>\n",
       "      <th>Id</th>\n",
       "      <th>Name</th>\n",
       "      <th>Tags</th>\n",
       "      <th>Type</th>\n",
       "      <th>Description</th>\n",
       "      <th>Domain</th>\n",
       "      <th>Network</th>\n",
       "      <th>Usage</th>\n",
       "      <th>Added On</th>\n",
       "    </tr>\n",
       "  </thead>\n",
       "  <tbody>\n",
       "    <tr>\n",
       "      <th>0</th>\n",
       "      <td>1ff01c60d40e4d57be2548718f62b6c3</td>\n",
       "      <td>Diabetes Dataset</td>\n",
       "      <td>[Health, Classification, Dicom]</td>\n",
       "      <td>&lt;class 'torch.Tensor'&gt;</td>\n",
       "      <td>A large set of high-resolution retina images</td>\n",
       "      <td>California Healthcare Foundation</td>\n",
       "      <td>WHO</td>\n",
       "      <td>102</td>\n",
       "      <td>Jan 13 2021</td>\n",
       "    </tr>\n",
       "    <tr>\n",
       "      <th>1</th>\n",
       "      <td>708565507a6847cd9132a4b9b2e3cf6f</td>\n",
       "      <td>Canada Commodities Dataset</td>\n",
       "      <td>[Commodities, Canada, Trade]</td>\n",
       "      <td>DataFrameDatasetPointer</td>\n",
       "      <td>Commodity Trade Dataset</td>\n",
       "      <td>Canada Domain</td>\n",
       "      <td>United Nations</td>\n",
       "      <td>40</td>\n",
       "      <td>Mar 11 2021</td>\n",
       "    </tr>\n",
       "    <tr>\n",
       "      <th>2</th>\n",
       "      <td>fb82efa2c3da4564bd8f5bd6b8bbbef7</td>\n",
       "      <td>Italy Commodities Dataset</td>\n",
       "      <td>[Commodities, Italy, Trade]</td>\n",
       "      <td>DataFrameDatasetPointer</td>\n",
       "      <td>Commodity Trade Dataset</td>\n",
       "      <td>Italy Domain</td>\n",
       "      <td>United Nations</td>\n",
       "      <td>23</td>\n",
       "      <td>Mar 13 2021</td>\n",
       "    </tr>\n",
       "    <tr>\n",
       "      <th>3</th>\n",
       "      <td>89925bd0f07b4e4e85750fd7fbdcfa42</td>\n",
       "      <td>Netherlands Commodities Dataset</td>\n",
       "      <td>[Commodities, Netherlands, Trade]</td>\n",
       "      <td>DataFrameDatasetPointer</td>\n",
       "      <td>Commodity Trade Dataset</td>\n",
       "      <td>Netherland Domain</td>\n",
       "      <td>United Nations</td>\n",
       "      <td>20</td>\n",
       "      <td>Apr 12 2021</td>\n",
       "    </tr>\n",
       "    <tr>\n",
       "      <th>4</th>\n",
       "      <td>28542d7ce1c142eeb3b8abbf8e2eef38</td>\n",
       "      <td>Pnuemonia Dataset</td>\n",
       "      <td>[Health, Pneumonia, X-Ray]</td>\n",
       "      <td>&lt;class 'torch.Tensor'&gt;</td>\n",
       "      <td>Chest X-Ray images. All provided images are in...</td>\n",
       "      <td>RSNA</td>\n",
       "      <td>WHO</td>\n",
       "      <td>334</td>\n",
       "      <td>Jan 13 2021</td>\n",
       "    </tr>\n",
       "  </tbody>\n",
       "</table>\n",
       "</div>"
      ],
      "text/plain": [
       "                                 Id                             Name  \\\n",
       "0  1ff01c60d40e4d57be2548718f62b6c3                 Diabetes Dataset   \n",
       "1  708565507a6847cd9132a4b9b2e3cf6f       Canada Commodities Dataset   \n",
       "2  fb82efa2c3da4564bd8f5bd6b8bbbef7        Italy Commodities Dataset   \n",
       "3  89925bd0f07b4e4e85750fd7fbdcfa42  Netherlands Commodities Dataset   \n",
       "4  28542d7ce1c142eeb3b8abbf8e2eef38                Pnuemonia Dataset   \n",
       "\n",
       "                                Tags                     Type  \\\n",
       "0    [Health, Classification, Dicom]   <class 'torch.Tensor'>   \n",
       "1       [Commodities, Canada, Trade]  DataFrameDatasetPointer   \n",
       "2        [Commodities, Italy, Trade]  DataFrameDatasetPointer   \n",
       "3  [Commodities, Netherlands, Trade]  DataFrameDatasetPointer   \n",
       "4         [Health, Pneumonia, X-Ray]   <class 'torch.Tensor'>   \n",
       "\n",
       "                                         Description  \\\n",
       "0       A large set of high-resolution retina images   \n",
       "1                            Commodity Trade Dataset   \n",
       "2                            Commodity Trade Dataset   \n",
       "3                            Commodity Trade Dataset   \n",
       "4  Chest X-Ray images. All provided images are in...   \n",
       "\n",
       "                             Domain         Network  Usage     Added On  \n",
       "0  California Healthcare Foundation             WHO    102  Jan 13 2021  \n",
       "1                     Canada Domain  United Nations     40  Mar 11 2021  \n",
       "2                      Italy Domain  United Nations     23  Mar 13 2021  \n",
       "3                 Netherland Domain  United Nations     20  Apr 12 2021  \n",
       "4                              RSNA             WHO    334  Jan 13 2021  "
      ]
     },
     "execution_count": 8,
     "metadata": {},
     "output_type": "execute_result"
    }
   ],
   "source": [
    "# Let's quicky list the available datasets\n",
    "sy.datasets"
   ]
  },
  {
   "cell_type": "code",
   "execution_count": 12,
   "id": "588a290d",
   "metadata": {},
   "outputs": [
    {
     "data": {
      "text/html": [
       "<div>\n",
       "<style scoped>\n",
       "    .dataframe tbody tr th:only-of-type {\n",
       "        vertical-align: middle;\n",
       "    }\n",
       "\n",
       "    .dataframe tbody tr th {\n",
       "        vertical-align: top;\n",
       "    }\n",
       "\n",
       "    .dataframe thead th {\n",
       "        text-align: right;\n",
       "    }\n",
       "</style>\n",
       "<table border=\"1\" class=\"dataframe\">\n",
       "  <thead>\n",
       "    <tr style=\"text-align: right;\">\n",
       "      <th></th>\n",
       "      <th>Id</th>\n",
       "      <th>Name</th>\n",
       "      <th>Hosted Domains</th>\n",
       "      <th>Hosted Datasets</th>\n",
       "      <th>Description</th>\n",
       "      <th>Tags</th>\n",
       "      <th>Url</th>\n",
       "    </tr>\n",
       "  </thead>\n",
       "  <tbody>\n",
       "    <tr>\n",
       "      <th>0</th>\n",
       "      <td>bfd98059c7f34b4f8be9156aa7c99201</td>\n",
       "      <td>United Nations</td>\n",
       "      <td>4</td>\n",
       "      <td>6</td>\n",
       "      <td>The UN hosts data related to the commodity and...</td>\n",
       "      <td>[Commodities, Census]</td>\n",
       "      <td>https://un.openmined.org</td>\n",
       "    </tr>\n",
       "  </tbody>\n",
       "</table>\n",
       "</div>"
      ],
      "text/plain": [
       "                                 Id            Name  Hosted Domains  \\\n",
       "0  bfd98059c7f34b4f8be9156aa7c99201  United Nations               4   \n",
       "\n",
       "   Hosted Datasets                                        Description  \\\n",
       "0                6  The UN hosts data related to the commodity and...   \n",
       "\n",
       "                    Tags                       Url  \n",
       "0  [Commodities, Census]  https://un.openmined.org  "
      ]
     },
     "execution_count": 12,
     "metadata": {},
     "output_type": "execute_result"
    }
   ],
   "source": [
    "# We want to access the `Commodity Trade Dataset` from the `Canada Domain`\n",
    "\n",
    "# If we have access to the url of the domain, we can login into the domain directly\n",
    "\n",
    "ca_domain = sy.login(\n",
    "    email=\"sheldon@caltech.edu\", password=\"bazinga\", url=\"https://ca.openmined.org\"\n",
    ")\n",
    "\n",
    "# Or selecting the domain via Network if the url of the domain is unknown\n",
    "\n",
    "# Let's select the network to which the domain belongs to\n",
    "sy.networks.filter(name=\"United Nations\")"
   ]
  },
  {
   "cell_type": "code",
   "execution_count": null,
   "id": "dca0c8ee",
   "metadata": {},
   "outputs": [],
   "source": [
    "# Let's select the network\n",
    "un_network = sy.networks.filter(name=\"United Nations\")[0]\n",
    "\n",
    "# Let's select the `Canada Domain` from the UN network\n",
    "ca_domain = un_network.domains.filter(name=\"Canada Domain\")[0]\n",
    "\n",
    "# Let's login into the canada domain\n",
    "ca_domain_client = ca_domain.login(email=\"sheldon@caltech.edu\", password=\"bazinga\")"
   ]
  },
  {
   "cell_type": "code",
   "execution_count": 17,
   "id": "51dd280d",
   "metadata": {},
   "outputs": [
    {
     "data": {
      "text/html": [
       "<div>\n",
       "<style scoped>\n",
       "    .dataframe tbody tr th:only-of-type {\n",
       "        vertical-align: middle;\n",
       "    }\n",
       "\n",
       "    .dataframe tbody tr th {\n",
       "        vertical-align: top;\n",
       "    }\n",
       "\n",
       "    .dataframe thead th {\n",
       "        text-align: right;\n",
       "    }\n",
       "</style>\n",
       "<table border=\"1\" class=\"dataframe\">\n",
       "  <thead>\n",
       "    <tr style=\"text-align: right;\">\n",
       "      <th></th>\n",
       "      <th>Id</th>\n",
       "      <th>Name</th>\n",
       "      <th>Tags</th>\n",
       "      <th>Type</th>\n",
       "      <th>Description</th>\n",
       "      <th>Domain</th>\n",
       "      <th>Network</th>\n",
       "      <th>Usage</th>\n",
       "      <th>Added On</th>\n",
       "    </tr>\n",
       "  </thead>\n",
       "  <tbody>\n",
       "    <tr>\n",
       "      <th>1</th>\n",
       "      <td>708565507a6847cd9132a4b9b2e3cf6f</td>\n",
       "      <td>Canada Commodities Dataset</td>\n",
       "      <td>[Commodities, Canada, Trade]</td>\n",
       "      <td>DataFrameDatasetPointer</td>\n",
       "      <td>Commodity Trade Dataset</td>\n",
       "      <td>Canada Domain</td>\n",
       "      <td>United Nations</td>\n",
       "      <td>40</td>\n",
       "      <td>Mar 11 2021</td>\n",
       "    </tr>\n",
       "  </tbody>\n",
       "</table>\n",
       "</div>"
      ],
      "text/plain": [
       "                                 Id                        Name  \\\n",
       "1  708565507a6847cd9132a4b9b2e3cf6f  Canada Commodities Dataset   \n",
       "\n",
       "                           Tags                     Type  \\\n",
       "1  [Commodities, Canada, Trade]  DataFrameDatasetPointer   \n",
       "\n",
       "               Description         Domain         Network  Usage     Added On  \n",
       "1  Commodity Trade Dataset  Canada Domain  United Nations     40  Mar 11 2021  "
      ]
     },
     "execution_count": 17,
     "metadata": {},
     "output_type": "execute_result"
    }
   ],
   "source": [
    "# Great, now that we have a client to the domain, \n",
    "# let's list the available datasets on the domain\n",
    "\n",
    "ca_domain_client.datasets"
   ]
  },
  {
   "cell_type": "code",
   "execution_count": 18,
   "id": "4ab1d0e6",
   "metadata": {},
   "outputs": [],
   "source": [
    "# Let's select the commodity dataset. \n",
    "# We select a dataset either via `index` or `Id`\n",
    "ca_commodity_data_ptr = ca_domain_client.datasets[0]\n",
    "\n",
    "# Or via `Id`\n",
    "ca_commodity_data_ptr = ca_domain_client.datasets[\"708565507a6847cd9132a4b9b2e3cf6f\"]"
   ]
  },
  {
   "cell_type": "code",
   "execution_count": 34,
   "id": "cb0ab70e",
   "metadata": {},
   "outputs": [
    {
     "name": "stdout",
     "output_type": "stream",
     "text": [
      "\n",
      "    \u001b[91mDatasetDoesNotExistException\u001b[0m:\n",
      "        The dataset with Id `f6fc3e2b9b4a2319dc7486a705565807` doesn't exists on the domain.\n",
      "\n"
     ]
    }
   ],
   "source": [
    "# If the user enters an invalid Id\n",
    "ca_commodity_data_ptr = ca_domain_client.datasets[\"f6fc3e2b9b4a2319dc7486a705565807\"]"
   ]
  },
  {
   "cell_type": "code",
   "execution_count": 26,
   "id": "f53c9f53",
   "metadata": {},
   "outputs": [
    {
     "name": "stdout",
     "output_type": "stream",
     "text": [
      "Details of the dataset\n",
      "Name: Canada Commodities Dataset\n",
      "Tags: ['Commodities', 'Canada', 'Trade']\n",
      "Type: DataFrameDatasetPointer\n",
      "Description: Commodity Trade Dataset\n"
     ]
    }
   ],
   "source": [
    "# Great !! we have a pointer to the dataset\n",
    "\n",
    "print(f\"Details of the dataset\")\n",
    "print(f\"Name: {ca_commodity_data_ptr.name}\")\n",
    "print(f\"Tags: {ca_commodity_data_ptr.tags}\")\n",
    "print(f\"Type: {ca_commodity_data_ptr.type}\")\n",
    "print(f\"Description: {ca_commodity_data_ptr.description}\")"
   ]
  },
  {
   "cell_type": "code",
   "execution_count": 28,
   "id": "dc4215ce",
   "metadata": {},
   "outputs": [
    {
     "name": "stdout",
     "output_type": "stream",
     "text": [
      "(10000, 8)\n"
     ]
    }
   ],
   "source": [
    "# Let's check the public shape of the dataset\n",
    "ca_commodity_data_ptr.public_shape"
   ]
  },
  {
   "cell_type": "code",
   "execution_count": null,
   "id": "4eec53f8",
   "metadata": {},
   "outputs": [],
   "source": [
    "# TODO: Need to confirm what kind of metadata will be uploaded by the domain\n",
    "ca_commodity_data_ptr.metadata"
   ]
  },
  {
   "cell_type": "code",
   "execution_count": null,
   "id": "eb9c2f28",
   "metadata": {},
   "outputs": [],
   "source": []
  },
  {
   "cell_type": "code",
   "execution_count": null,
   "id": "c7bf6637",
   "metadata": {},
   "outputs": [],
   "source": []
  },
  {
   "cell_type": "code",
   "execution_count": null,
   "id": "cf2d1d2d",
   "metadata": {},
   "outputs": [],
   "source": []
  },
  {
   "cell_type": "markdown",
   "id": "9f67b78d",
   "metadata": {
    "heading_collapsed": true
   },
   "source": [
    "#### Dummy Datasets"
   ]
  },
  {
   "cell_type": "code",
   "execution_count": 2,
   "id": "7834438f",
   "metadata": {
    "hidden": true
   },
   "outputs": [],
   "source": [
    "import pandas as pd\n",
    "from enum import Enum\n",
    "import uuid\n",
    "import torch\n",
    "import datetime\n",
    "\n",
    "\n",
    "class bcolors(Enum):\n",
    "    HEADER = \"\\033[95m\"\n",
    "    OKBLUE = \"\\033[94m\"\n",
    "    OKCYAN = \"\\033[96m\"\n",
    "    OKGREEN = \"\\033[92m\"\n",
    "    WARNING = \"\\033[93m\"\n",
    "    FAIL = \"\\033[91m\"\n",
    "    ENDC = \"\\033[0m\"\n",
    "    BOLD = \"\\033[1m\"\n",
    "    UNDERLINE = \"\\033[4m\""
   ]
  },
  {
   "cell_type": "code",
   "execution_count": 3,
   "id": "880bb408",
   "metadata": {
    "hidden": true
   },
   "outputs": [],
   "source": [
    "all_datasets = [\n",
    "    {\n",
    "        \"Id\": uuid.uuid4().hex,\n",
    "        \"Name\": \"Diabetes Dataset\",\n",
    "        \"Tags\": [\"Health\", \"Classification\", \"Dicom\"],\n",
    "        \"Type\": torch.Tensor,\n",
    "        \"Description\": \"A large set of high-resolution retina images\",\n",
    "        \"Domain\": \"California Healthcare Foundation\",\n",
    "        \"Network\": \"WHO\",\n",
    "        \"Usage\": 102,\n",
    "        \"Added On\": datetime.datetime.now().replace(month=1).strftime(\"%b %d %Y\")\n",
    "    },\n",
    "    {\n",
    "        \"Id\": uuid.uuid4().hex,\n",
    "        \"Name\": \"Canada Commodities Dataset\",\n",
    "        \"Tags\": [\"Commodities\", \"Canada\", \"Trade\"],\n",
    "        \"Type\": \"DataFrameDatasetPointer\",\n",
    "        \"Description\": \"Commodity Trade Dataset\",\n",
    "        \"Domain\": \"Canada Domain\",\n",
    "        \"Network\": \"United Nations\",\n",
    "        \"Usage\": 40,\n",
    "        \"Added On\": datetime.datetime.now().replace(month=3, day=11).strftime(\"%b %d %Y\")\n",
    "    },\n",
    "    {\n",
    "        \"Id\": uuid.uuid4().hex,\n",
    "        \"Name\": \"Italy Commodities Dataset\",\n",
    "        \"Tags\": [\"Commodities\", \"Italy\", \"Trade\"],\n",
    "        \"Type\": \"DataFrameDatasetPointer\",\n",
    "        \"Description\": \"Commodity Trade Dataset\",\n",
    "        \"Domain\": \"Italy Domain\",\n",
    "        \"Network\": \"United Nations\",\n",
    "        \"Usage\": 23,\n",
    "        \"Added On\": datetime.datetime.now().replace(month=3).strftime(\"%b %d %Y\")\n",
    "    },\n",
    "    {\n",
    "        \"Id\": uuid.uuid4().hex,\n",
    "        \"Name\": \"Netherlands Commodities Dataset\",\n",
    "        \"Tags\": [\"Commodities\", \"Netherlands\", \"Trade\"],\n",
    "        \"Type\": \"DataFrameDatasetPointer\",\n",
    "        \"Description\": \"Commodity Trade Dataset\",\n",
    "        \"Domain\": \"Netherland Domain\",\n",
    "        \"Network\": \"United Nations\",\n",
    "        \"Usage\": 20,\n",
    "        \"Added On\": datetime.datetime.now().replace(month=4, day=12).strftime(\"%b %d %Y\")\n",
    "    },\n",
    "    {\n",
    "        \"Id\": uuid.uuid4().hex,\n",
    "        \"Name\": \"Pnuemonia Dataset\",\n",
    "        \"Tags\": [\"Health\", \"Pneumonia\", \"X-Ray\"],\n",
    "        \"Type\": torch.Tensor,\n",
    "        \"Description\": \"Chest X-Ray images. All provided images are in DICOM format.\",\n",
    "        \"Domain\": \"RSNA\",\n",
    "        \"Network\": \"WHO\",\n",
    "        \"Usage\": 334,\n",
    "        \"Added On\": datetime.datetime.now().replace(month=1).strftime(\"%b %d %Y\")\n",
    "    },\n",
    "]\n",
    "\n",
    "all_datasets_df = pd.DataFrame(all_datasets)"
   ]
  },
  {
   "cell_type": "code",
   "execution_count": 11,
   "id": "aef885c4",
   "metadata": {
    "hidden": true
   },
   "outputs": [],
   "source": [
    "filtered_network_via_name = [\n",
    "    {\n",
    "        \"Id\": f\"{uuid.uuid4().hex}\",\n",
    "        \"Name\": \"United Nations\",\n",
    "        \"Hosted Domains\": 4,\n",
    "        \"Hosted Datasets\": 6,\n",
    "        \"Description\": \"The UN hosts data related to the commodity and Census data.\",\n",
    "        \"Tags\": [\"Commodities\", \"Census\"],\n",
    "        \"Url\": \"https://un.openmined.org\",\n",
    "    },\n",
    "]\n",
    "filtered_network_via_name = pd.DataFrame(filtered_network_via_name)"
   ]
  },
  {
   "cell_type": "code",
   "execution_count": 16,
   "id": "0b196f90",
   "metadata": {
    "hidden": true
   },
   "outputs": [],
   "source": [
    "canada_domain_datasets_df = all_datasets_df[all_datasets_df[\"Domain\"] ==  \"Canada Domain\"]"
   ]
  },
  {
   "cell_type": "code",
   "execution_count": 33,
   "id": "b69dc632",
   "metadata": {
    "hidden": true
   },
   "outputs": [
    {
     "name": "stdout",
     "output_type": "stream",
     "text": [
      "\n",
      "    \u001b[91mDatasetDoesNotExistException\u001b[0m:\n",
      "        The dataset with Id `f6fc3e2b9b4a2319dc7486a705565807` doesn't exists on the domain.\n",
      "\n"
     ]
    }
   ],
   "source": [
    "error_on_invalid_dataset = f\"\"\"\n",
    "    {bcolors.FAIL.value}DatasetDoesNotExistException{bcolors.ENDC.value}:\n",
    "        The dataset with Id `f6fc3e2b9b4a2319dc7486a705565807` doesn't exists on the domain.\n",
    "\"\"\"\n",
    "print(error_on_invalid_dataset)"
   ]
  },
  {
   "cell_type": "code",
   "execution_count": null,
   "id": "aac06b26",
   "metadata": {
    "hidden": true
   },
   "outputs": [],
   "source": []
  }
 ],
 "metadata": {
  "kernelspec": {
   "display_name": "Python 3",
   "language": "python",
   "name": "python3"
  },
  "language_info": {
   "codemirror_mode": {
    "name": "ipython",
    "version": 3
   },
   "file_extension": ".py",
   "mimetype": "text/x-python",
   "name": "python",
   "nbconvert_exporter": "python",
   "pygments_lexer": "ipython3",
   "version": "3.9.6"
  }
 },
 "nbformat": 4,
 "nbformat_minor": 5
}
