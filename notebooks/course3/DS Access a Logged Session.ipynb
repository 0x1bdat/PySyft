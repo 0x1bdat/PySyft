{
 "cells": [
  {
   "cell_type": "markdown",
   "id": "ace4a4f8",
   "metadata": {},
   "source": [
    "#### Accessing a logged session\n",
    "\n",
    "Once a user logs into a domain, their session is a saved for the next 24 hours.\n",
    "We will explore how a user can access a saved domain session."
   ]
  },
  {
   "cell_type": "code",
   "execution_count": null,
   "id": "51513882",
   "metadata": {},
   "outputs": [],
   "source": [
    "import syft as sy"
   ]
  },
  {
   "cell_type": "code",
   "execution_count": null,
   "id": "09114a64",
   "metadata": {},
   "outputs": [],
   "source": [
    "# Let's login into a domain via `url`\n",
    "\n",
    "ca_domain_client = sy.login(\n",
    "    url=\"https://ca.openmined.com\",\n",
    "    email=\"sheldon@caltech.edu\",\n",
    "    password=\"bazinga\"\n",
    ")"
   ]
  },
  {
   "cell_type": "markdown",
   "id": "a96d5291",
   "metadata": {},
   "source": [
    "When a user logs into a domain, a `session token` is generated w.r.t to that domain and user. This token can be used to authenticate a user into a domain without asking for username or password. This token has an auto-expiration time of `72 hrs (3 days)`. Once the session expires, then the user has to re-login into the domain via `username` and `password`."
   ]
  },
  {
   "cell_type": "code",
   "execution_count": 19,
   "id": "2afa6cc6",
   "metadata": {},
   "outputs": [
    {
     "data": {
      "text/html": [
       "<div>\n",
       "<style scoped>\n",
       "    .dataframe tbody tr th:only-of-type {\n",
       "        vertical-align: middle;\n",
       "    }\n",
       "\n",
       "    .dataframe tbody tr th {\n",
       "        vertical-align: top;\n",
       "    }\n",
       "\n",
       "    .dataframe thead th {\n",
       "        text-align: right;\n",
       "    }\n",
       "</style>\n",
       "<table border=\"1\" class=\"dataframe\">\n",
       "  <thead>\n",
       "    <tr style=\"text-align: right;\">\n",
       "      <th></th>\n",
       "      <th>Request Id</th>\n",
       "      <th>Domain Name</th>\n",
       "      <th>Last Login</th>\n",
       "    </tr>\n",
       "  </thead>\n",
       "  <tbody>\n",
       "    <tr>\n",
       "      <th>0</th>\n",
       "      <td>f414eb9d688348ccb907c4b6187ad43d</td>\n",
       "      <td>Canada Domain</td>\n",
       "      <td>Sep 12 2021 12:13AM</td>\n",
       "    </tr>\n",
       "    <tr>\n",
       "      <th>1</th>\n",
       "      <td>b4ad9c8c02734f19a355bd59c6087a98</td>\n",
       "      <td>Italy Domain</td>\n",
       "      <td>Sep 12 2021 12:13PM</td>\n",
       "    </tr>\n",
       "    <tr>\n",
       "      <th>2</th>\n",
       "      <td>445892a055c2407a8d2c29882b237b78</td>\n",
       "      <td>WHO</td>\n",
       "      <td>Sep 12 2021 09:13AM</td>\n",
       "    </tr>\n",
       "    <tr>\n",
       "      <th>3</th>\n",
       "      <td>99032d9872dd4a9f96f79e0c8dcdf810</td>\n",
       "      <td>Stark Healthcare</td>\n",
       "      <td>Sep 12 2021 11:13AM</td>\n",
       "    </tr>\n",
       "  </tbody>\n",
       "</table>\n",
       "</div>"
      ],
      "text/plain": [
       "                         Request Id       Domain Name           Last Login\n",
       "0  f414eb9d688348ccb907c4b6187ad43d     Canada Domain  Sep 12 2021 12:13AM\n",
       "1  b4ad9c8c02734f19a355bd59c6087a98      Italy Domain  Sep 12 2021 12:13PM\n",
       "2  445892a055c2407a8d2c29882b237b78               WHO  Sep 12 2021 09:13AM\n",
       "3  99032d9872dd4a9f96f79e0c8dcdf810  Stark Healthcare  Sep 12 2021 11:13AM"
      ]
     },
     "execution_count": 19,
     "metadata": {},
     "output_type": "execute_result"
    }
   ],
   "source": [
    "# Let's list all the saved sessions against each of the domains\n",
    "sy.logins"
   ]
  },
  {
   "cell_type": "markdown",
   "id": "225bf99d",
   "metadata": {},
   "source": [
    "A user can select a saved session via its `Request Id`"
   ]
  },
  {
   "cell_type": "code",
   "execution_count": null,
   "id": "21e920fc",
   "metadata": {},
   "outputs": [],
   "source": [
    "# Let's a select a saved login session\n",
    "# If the session is not expired, then an authenticated domain client is returned. \n",
    "ca_domain_client = sy.logins[\"f414eb9d688348ccb907c4b6187ad43d\"]"
   ]
  },
  {
   "cell_type": "code",
   "execution_count": 32,
   "id": "153f9b14",
   "metadata": {},
   "outputs": [
    {
     "name": "stdout",
     "output_type": "stream",
     "text": [
      "\n",
      "    \u001b[91mSessionExpiredException\u001b[0m:\n",
      "        Hi !!! Your session with the \u001b[1m`Canada Domain`\u001b[0m has expired.\n",
      "        Please re-login into the domain via \u001b[93m`username`\u001b[0m and \u001b[93m`password`\u001b[0m.    \n",
      "\n"
     ]
    }
   ],
   "source": [
    "# If the session has expired, then the same is indicated\n",
    "sy.logins[\"f414eb9d688348ccb907c4b6187ad43d\"]"
   ]
  },
  {
   "cell_type": "code",
   "execution_count": null,
   "id": "931daa87",
   "metadata": {},
   "outputs": [],
   "source": []
  },
  {
   "cell_type": "code",
   "execution_count": null,
   "id": "063bb1f1",
   "metadata": {},
   "outputs": [],
   "source": []
  },
  {
   "cell_type": "markdown",
   "id": "1605a6ab",
   "metadata": {},
   "source": [
    "#### Dummy Data Creation"
   ]
  },
  {
   "cell_type": "code",
   "execution_count": 2,
   "id": "41193eec",
   "metadata": {},
   "outputs": [],
   "source": [
    "import datetime\n",
    "import pandas as pd\n",
    "from enum import Enum\n",
    "import uuid\n",
    "\n",
    "\n",
    "class bcolors(Enum):\n",
    "    HEADER = \"\\033[95m\"\n",
    "    OKBLUE = \"\\033[94m\"\n",
    "    OKCYAN = \"\\033[96m\"\n",
    "    OKGREEN = \"\\033[92m\"\n",
    "    WARNING = \"\\033[93m\"\n",
    "    FAIL = \"\\033[91m\"\n",
    "    ENDC = \"\\033[0m\"\n",
    "    BOLD = \"\\033[1m\"\n",
    "    UNDERLINE = \"\\033[4m\"\n"
   ]
  },
  {
   "cell_type": "code",
   "execution_count": 17,
   "id": "d6f2f3a8",
   "metadata": {},
   "outputs": [],
   "source": [
    "saved_logins = [\n",
    "    {\n",
    "        \"Request Id\": uuid.uuid4().hex,\n",
    "        \"Domain Name\": \"Canada Domain\",\n",
    "        \"Last Login\": datetime.datetime.now().strftime(\"%b %d %Y %I:%M%p\"),\n",
    "    },\n",
    "    {\n",
    "        \"Request Id\": uuid.uuid4().hex,\n",
    "        \"Domain Name\": \"Italy Domain\",\n",
    "        \"Last Login\": datetime.datetime.now().replace(hour=12).strftime(\"%b %d %Y %I:%M%p\"),\n",
    "    },\n",
    "    {\n",
    "        \"Request Id\": uuid.uuid4().hex,\n",
    "        \"Domain Name\": \"WHO\",\n",
    "        \"Last Login\": datetime.datetime.now().replace(hour=9).strftime(\"%b %d %Y %I:%M%p\"),\n",
    "    },\n",
    "    {\n",
    "        \"Request Id\": uuid.uuid4().hex,\n",
    "        \"Domain Name\": \"Stark Healthcare\",\n",
    "        \"Last Login\": datetime.datetime.now().replace(hour=11).strftime(\"%b %d %Y %I:%M%p\"),\n",
    "    },\n",
    "]\n",
    "\n",
    "saved_session_df = pd.DataFrame(saved_logins)"
   ]
  },
  {
   "cell_type": "code",
   "execution_count": 31,
   "id": "4b40fd92",
   "metadata": {},
   "outputs": [
    {
     "name": "stdout",
     "output_type": "stream",
     "text": [
      "\n",
      "    \u001b[91mSessionExpiredException\u001b[0m:\n",
      "        Hi !!! Your session with the \u001b[1m`Canada Domain`\u001b[0m has expired.\n",
      "        Please re-login into the domain via \u001b[93m`username`\u001b[0m and \u001b[93m`password`\u001b[0m.    \n",
      "\n"
     ]
    }
   ],
   "source": [
    "session_expiry_error = f\"\"\"\n",
    "    {bcolors.FAIL.value}SessionExpiredException{bcolors.ENDC.value}:\n",
    "        Hi !!! Your session with the {bcolors.BOLD.value}`Canada Domain`{bcolors.ENDC.value} has expired.\n",
    "        Please re-login into the domain via {bcolors.WARNING.value}`username`{bcolors.ENDC.value} and {bcolors.WARNING.value}`password`{bcolors.ENDC.value}.    \n",
    "\"\"\"\n",
    "\n",
    "print(session_expiry_error)"
   ]
  }
 ],
 "metadata": {
  "kernelspec": {
   "display_name": "Python 3",
   "language": "python",
   "name": "python3"
  },
  "language_info": {
   "codemirror_mode": {
    "name": "ipython",
    "version": 3
   },
   "file_extension": ".py",
   "mimetype": "text/x-python",
   "name": "python",
   "nbconvert_exporter": "python",
   "pygments_lexer": "ipython3",
   "version": "3.9.6"
  }
 },
 "nbformat": 4,
 "nbformat_minor": 5
}
