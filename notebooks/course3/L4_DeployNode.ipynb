{
 "cells": [
  {
   "cell_type": "markdown",
   "id": "725def8a-170f-4e9f-9d66-5643720ec4a9",
   "metadata": {},
   "source": [
    "++++++++++++++++++++++++++++++++++++++\n",
    "======================================\n",
    "(Ishan & Phil)\n",
    "\n",
    "<b>To Do:</b>\n",
    "- This entire installation, but on macOS and Windows as well to see if it differs significantly\n",
    "- Add images to this notebook to make it an easier walk-through for beginners.\n",
    "\n",
    "\n",
    "<b> To Verify: </b>\n",
    "- The branch that will be used for the course is dev\n",
    "- That 8GB of RAM is still the recommended amt. for Docker\n",
    "- If Hagrid needs to be installed this way, or if Course users can expect a `pip install hagrid` \n",
    "- Will they still be using info@openmined.org to login to their domain for the first time?\n",
    "\n",
    "++++++++++++++++++++++++++++++++++++++\n",
    "======================================"
   ]
  },
  {
   "cell_type": "markdown",
   "id": "d59252a1-05b1-485a-a338-8a3d2d6ade71",
   "metadata": {},
   "source": [
    "# Our Goal\n",
    "\n",
    "This is a full, step-by-step walkthrough of how to setup your domain node for the very first time.\n",
    "\n",
    "We assume minimal prior knowledge, and will teach you everything you need to know."
   ]
  },
  {
   "cell_type": "markdown",
   "id": "480edc12-a236-4aba-999b-125aa6867a59",
   "metadata": {},
   "source": [
    "## Steps\n",
    "\n",
    "### <b> 1. Get the PySyft source code: </b>\n",
    "\n",
    "Our PySyft library is fully open source at <a href=\"https://github.com/OpenMined/PySyft\">this GitHub link</a>. Our first step will be to clone our repository into a folder of your choice, using your terminal."
   ]
  },
  {
   "cell_type": "code",
   "execution_count": 1,
   "id": "eba29cc9-97f3-41cd-8a68-3b30a668517a",
   "metadata": {},
   "outputs": [],
   "source": [
    "# Clone the repository and move inside it\n",
    "git clone https://github.com/OpenMined/PySyft && cd PySyft"
   ]
  },
  {
   "cell_type": "code",
   "execution_count": null,
   "id": "a219b707-0153-4420-a871-14e736bc8463",
   "metadata": {},
   "outputs": [],
   "source": [
    "# Fetch any changes\n",
    "git fetch origin dev"
   ]
  },
  {
   "cell_type": "code",
   "execution_count": null,
   "id": "887d8288-c8cc-4704-b18c-17542416b9fb",
   "metadata": {},
   "outputs": [],
   "source": [
    "# Checkout the relevant branch <--- This may be the default branch\n",
    "git checkout dev"
   ]
  },
  {
   "cell_type": "markdown",
   "id": "0bf548ee-c08b-4b29-b0b7-6517404365a4",
   "metadata": {},
   "source": [
    "### <b>2. Launch <a href=\"https://www.docker.com/products/docker-desktop\">Docker Desktop</a></b>\n",
    "\n",
    "If you don't have Docker installed, you may follow the instructions <a href=\"https://docs.docker.com/get-docker/\">here</a>.\n",
    "\n",
    "Once you've installed Docker, you should ensure it has atleast <b> 8GB of available RAM. </b> You can make due with less, Docker will just be a bit slower.\n",
    "\n",
    "If you're not sure how to check how much RAM Docker is able to access, then:\n",
    "- macOS/Windows: Open Docker Desktop, click the gear icon in the top right corner, go to Resources, and move the scrollbar.\n",
    "- Linux: No action needed; Docker will automatically scale its RAM usage.\n",
    "- Cloud: Follow the above steps, depending on which platform your instance uses.\n"
   ]
  },
  {
   "cell_type": "code",
   "execution_count": null,
   "id": "88a5626c-e222-4860-ae13-e6e51a7f49b7",
   "metadata": {},
   "outputs": [],
   "source": []
  },
  {
   "cell_type": "markdown",
   "id": "efb0a50e-5325-4d3c-a46b-cdba9313c389",
   "metadata": {},
   "source": [
    "### <b>3. Create a Virtual Environment </b>\n",
    "\n",
    "If you don't have a virtual environment manager installed, we recommend <a href=\"https://conda.io\">conda</a>, which can be installed at <a href=\"https://docs.conda.io/projects/conda/en/latest/user-guide/install/index.html\">this link</a>.\n",
    "\n",
    "Once that's done, enter the following commands into your terminal:"
   ]
  },
  {
   "cell_type": "code",
   "execution_count": null,
   "id": "52056c87-5ba2-4d2f-b3c7-89520340bab6",
   "metadata": {},
   "outputs": [],
   "source": [
    "# Using Conda as an example\n",
    "!conda create -n lab python=3.9\n",
    "# Activate it:\n",
    "!conda activate lab"
   ]
  },
  {
   "cell_type": "markdown",
   "id": "e178ea4f-dee9-4f99-8ca9-8f12677a8bae",
   "metadata": {},
   "source": [
    "### <b>4. Install & Launch HAGrid</b>"
   ]
  },
  {
   "cell_type": "code",
   "execution_count": null,
   "id": "96c29e20-c395-4ac2-852c-823f62db4130",
   "metadata": {},
   "outputs": [],
   "source": [
    "# Move to the appropriate directory and install from local source\n",
    "!cd packages/hagrid && pip install -e .\n",
    "\n",
    "# Launch HAGrid!\n",
    "!hagrid launch <node_name>"
   ]
  },
  {
   "cell_type": "markdown",
   "id": "96722594-7633-418c-b265-de6dd6abaec8",
   "metadata": {},
   "source": [
    "### <b>5. Install & Launch Syft </b>"
   ]
  },
  {
   "cell_type": "code",
   "execution_count": null,
   "id": "bc48f74e-7476-429b-9538-d196c7ce2a5a",
   "metadata": {},
   "outputs": [],
   "source": [
    "# Install from source (PySyft/packages/syft)\n",
    "cd ../packages/syft && pip install -e ."
   ]
  },
  {
   "cell_type": "markdown",
   "id": "202a168d-3f62-4016-a3db-6c5e469d4f8d",
   "metadata": {},
   "source": [
    "### <b>6. Login to the Domain!</b>\n",
    "\n",
    "\n",
    "<i>Voila!</i> You now have a working domain node. To login, go to <b>localhost:port_number</b> in your browser (port_number is 8081 by default).\n",
    "\n",
    "The default username and password are as follows:\n",
    "\n",
    "- Username: <b> info@openmined.org </b>\n",
    "- PW: <b> changethis </b>"
   ]
  },
  {
   "cell_type": "code",
   "execution_count": null,
   "id": "62559bcf-52dc-4560-a62e-76c3b1f94c13",
   "metadata": {},
   "outputs": [],
   "source": []
  },
  {
   "cell_type": "code",
   "execution_count": null,
   "id": "139fa209-fc96-4719-83e2-bce5c94ca83d",
   "metadata": {},
   "outputs": [],
   "source": []
  }
 ],
 "metadata": {
  "kernelspec": {
   "display_name": "Python 3 (ipykernel)",
   "language": "python",
   "name": "python3"
  },
  "language_info": {
   "codemirror_mode": {
    "name": "ipython",
    "version": 3
   },
   "file_extension": ".py",
   "mimetype": "text/x-python",
   "name": "python",
   "nbconvert_exporter": "python",
   "pygments_lexer": "ipython3",
   "version": "3.8.11"
  }
 },
 "nbformat": 4,
 "nbformat_minor": 5
}
