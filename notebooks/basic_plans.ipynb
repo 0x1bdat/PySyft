{
 "cells": [
  {
   "cell_type": "code",
   "execution_count": 1,
   "metadata": {},
   "outputs": [],
   "source": [
    "%load_ext autoreload\n",
    "%autoreload 2"
   ]
  },
  {
   "cell_type": "markdown",
   "metadata": {},
   "source": [
    "# Plan"
   ]
  },
  {
   "cell_type": "code",
   "execution_count": 2,
   "metadata": {},
   "outputs": [],
   "source": [
    "import syft as sy\n",
    "from syft.core.node.common.action.get_object_action import GetObjectAction\n",
    "from syft.core.node.common.action.function_or_constructor_action import RunFunctionOrConstructorAction\n",
    "from syft.core.node.common.action.common import Action\n",
    "from syft.proto.core.node.common.plan.plan_pb2 import Plan as Plan_PB\n",
    "\n",
    "from google.protobuf.reflection import GeneratedProtocolMessageType\n",
    "\n",
    "from syft.core.common.uid import UID\n",
    "from syft.core.io.address import Address\n",
    "from syft.core.common.serde.deserialize import _deserialize\n",
    "from syft.decorators.syft_decorator_impl import syft_decorator\n",
    "from syft.core.common.object import Serializable"
   ]
  },
  {
   "cell_type": "code",
   "execution_count": 3,
   "metadata": {},
   "outputs": [],
   "source": [
    "from syft.proto.core.node.common.action.action_pb2 import Action as Action_PB\n",
    "import re"
   ]
  },
  {
   "cell_type": "code",
   "execution_count": 4,
   "metadata": {},
   "outputs": [],
   "source": [
    "import syft as sy\n",
    "import torch as th\n",
    "import sys"
   ]
  },
  {
   "cell_type": "code",
   "execution_count": 5,
   "metadata": {},
   "outputs": [],
   "source": [
    "from typing import List"
   ]
  },
  {
   "cell_type": "code",
   "execution_count": 6,
   "metadata": {},
   "outputs": [],
   "source": [
    "CAMEL_TO_SNAKE_PAT = re.compile(r'(?<!^)(?=[A-Z])')\n",
    "\n",
    "\n",
    "class Plan(Serializable):\n",
    "    def __init__(self, actions: List[Action]):\n",
    "        self.actions=actions\n",
    "        \n",
    "    @staticmethod\n",
    "    def get_protobuf_schema() -> GeneratedProtocolMessageType:\n",
    "        \"\"\"Return the type of protobuf object which stores a class of this type\n",
    "\n",
    "        As a part of serialization and deserialization, we need the ability to\n",
    "        lookup the protobuf object type directly from the object type. This\n",
    "        static method allows us to do this.\n",
    "\n",
    "        Importantly, this method is also used to create the reverse lookup ability within\n",
    "        the metaclass of Serializable. In the metaclass, it calls this method and then\n",
    "        it takes whatever type is returned from this method and adds an attribute to it\n",
    "        with the type of this class attached to it. See the MetaSerializable class for details.\n",
    "\n",
    "        :return: the type of protobuf object which corresponds to this class.\n",
    "        :rtype: GeneratedProtocolMessageType\n",
    "\n",
    "        \"\"\"\n",
    "\n",
    "        return Plan_PB\n",
    "    \n",
    "    @syft_decorator(typechecking=True)\n",
    "    def _object2proto(self) -> Plan_PB:\n",
    "        \"\"\"Returns a protobuf serialization of self.\n",
    "\n",
    "        As a requirement of all objects which inherit from Serializable,\n",
    "        this method transforms the current object into the corresponding\n",
    "        Protobuf object so that it can be further serialized.\n",
    "\n",
    "        :return: returns a protobuf object\n",
    "        :rtype: ObjectWithID_PB\n",
    "\n",
    "        .. note::\n",
    "            This method is purely an internal method. Please use object.serialize() or one of\n",
    "            the other public serialization methods if you wish to serialize an\n",
    "            object.\n",
    "        \"\"\"\n",
    "        def camel_to_snake(s ):\n",
    "            return CAMEL_TO_SNAKE_PAT.sub('_', s).lower()\n",
    "\n",
    "        actions_pb = [Action_PB(obj_type = \".\".join([action.__module__, action.__class__.__name__]), \n",
    "                                **{camel_to_snake(action.__class__.__name__): action.serialize()}\n",
    "                               )\n",
    "                      for action in self.actions]\n",
    "        \n",
    "        return Plan_PB(actions=actions_pb)\n",
    "\n",
    "    @staticmethod\n",
    "    def _proto2object(proto: Plan_PB) -> \"GetObjectAction\":\n",
    "        \"\"\"Creates a ObjectWithID from a protobuf\n",
    "\n",
    "        As a requirement of all objects which inherit from Serializable,\n",
    "        this method transforms a protobuf object into an instance of this class.\n",
    "\n",
    "        :return: returns an instance of GetObjectAction\n",
    "        :rtype: GetObjectAction\n",
    "\n",
    "        .. note::\n",
    "            This method is purely an internal method. Please use syft.deserialize()\n",
    "            if you wish to deserialize an object.\n",
    "        \"\"\"\n",
    "        actions = []\n",
    "        \n",
    "        for action_proto in proto.actions:\n",
    "            module_parts = action_proto.obj_type.split(\".\")\n",
    "            klass = module_parts.pop()\n",
    "            obj_type = getattr(sys.modules[\".\".join(module_parts)], klass)\n",
    "            action_type = action_proto.WhichOneof(\"action\")\n",
    "            actions.append(obj_type._proto2object(getattr(action_proto, action_type)))\n",
    "\n",
    "        return Plan(actions=actions)\n",
    "\n"
   ]
  },
  {
   "cell_type": "code",
   "execution_count": 7,
   "metadata": {},
   "outputs": [],
   "source": [
    "address=Address()"
   ]
  },
  {
   "cell_type": "code",
   "execution_count": 8,
   "metadata": {},
   "outputs": [],
   "source": [
    "args = (\n",
    "    th.tensor([1, 2, 3]),\n",
    "    th.tensor([4, 5, 5]),\n",
    ")"
   ]
  },
  {
   "cell_type": "code",
   "execution_count": 9,
   "metadata": {},
   "outputs": [],
   "source": [
    "a1 = GetObjectAction(id_at_location=UID(), address=address, reply_to=Address(), msg_id=UID())\n",
    "a2 = RunFunctionOrConstructorAction(path=\"torch.Tensor.add\",args=tuple(),kwargs={},id_at_location=UID(),\n",
    "                                    address=address,msg_id=UID())"
   ]
  },
  {
   "cell_type": "code",
   "execution_count": 10,
   "metadata": {},
   "outputs": [],
   "source": [
    "plan = Plan([a1,a2])"
   ]
  },
  {
   "cell_type": "code",
   "execution_count": 11,
   "metadata": {},
   "outputs": [],
   "source": [
    "blob = plan.serialize()\n",
    "msg2 = sy.deserialize(blob=blob)"
   ]
  },
  {
   "cell_type": "code",
   "execution_count": 12,
   "metadata": {},
   "outputs": [],
   "source": [
    "# msg2.actions"
   ]
  },
  {
   "cell_type": "markdown",
   "metadata": {},
   "source": [
    "# Execution"
   ]
  },
  {
   "cell_type": "code",
   "execution_count": 13,
   "metadata": {},
   "outputs": [],
   "source": [
    "# alice = sy.VirtualMachine(name=\"alice\")\n",
    "# alice_client = alice.get_client()\n",
    "\n",
    "# # args = (\n",
    "# #     th.tensor([1, 2, 3]).send(alice_client),\n",
    "# #     th.tensor([4, 5, 5]).send(alice_client),\n",
    "# # )\n",
    "\n",
    "# msg = RunFunctionOrConstructorAction(\n",
    "#     path=\"torch.Tensor.add\",\n",
    "#     args=(),\n",
    "#     kwargs={},\n",
    "#     id_at_location=UID(),\n",
    "#     address=alice_client.address,\n",
    "#     msg_id=UID(),\n",
    "# )\n",
    "\n",
    "# blob = msg.serialize()\n",
    "\n",
    "# msg2 = sy.deserialize(blob=blob)"
   ]
  },
  {
   "cell_type": "markdown",
   "metadata": {},
   "source": [
    "# We first need to add plans and actions to the AST to make them sendable"
   ]
  },
  {
   "cell_type": "code",
   "execution_count": 14,
   "metadata": {},
   "outputs": [],
   "source": [
    "alice = sy.VirtualMachine(name=\"alice\")\n",
    "alice_client = alice.get_client()"
   ]
  },
  {
   "cell_type": "code",
   "execution_count": 15,
   "metadata": {},
   "outputs": [],
   "source": [
    "t = th.tensor([1, 2, 3])"
   ]
  },
  {
   "cell_type": "code",
   "execution_count": 16,
   "metadata": {},
   "outputs": [],
   "source": [
    "# alice_client."
   ]
  },
  {
   "cell_type": "code",
   "execution_count": 17,
   "metadata": {},
   "outputs": [
    {
     "data": {
      "text/plain": [
       "<syft.proxy.torch.TensorPointer at 0x7fa2bc0769d0>"
      ]
     },
     "execution_count": 17,
     "metadata": {},
     "output_type": "execute_result"
    }
   ],
   "source": [
    "t.send(alice_client)"
   ]
  },
  {
   "cell_type": "code",
   "execution_count": 18,
   "metadata": {},
   "outputs": [],
   "source": [
    "action = GetObjectAction(id_at_location=UID(), address=address, reply_to=Address(), msg_id=UID())"
   ]
  },
  {
   "cell_type": "code",
   "execution_count": 19,
   "metadata": {},
   "outputs": [],
   "source": [
    "from syft.lib import create_lib_ast"
   ]
  },
  {
   "cell_type": "code",
   "execution_count": 36,
   "metadata": {},
   "outputs": [
    {
     "name": "stderr",
     "output_type": "stream",
     "text": [
      "[2021-02-10T19:29:02.386031+0100][CRITICAL][logger] __getattribute__ failed. If you are trying to access an EnumAttribute or a StaticAttribute, be sure they have been added to the AST. Falling back on__getattr__ to search in self.attrs for the requested field.\n"
     ]
    },
    {
     "data": {
      "text/plain": [
       "<syft.ast.klass.Class at 0x7fa2bc06b280>"
      ]
     },
     "execution_count": 36,
     "metadata": {},
     "output_type": "execute_result"
    },
    {
     "name": "stderr",
     "output_type": "stream",
     "text": [
      "[2021-02-10T19:29:02.386215+0100][CRITICAL][logger] 'Class' object has no attribute '_ipython_canary_method_should_not_exist_'\n",
      "[2021-02-10T19:29:02.386327+0100][CRITICAL][logger] '__getattr__ failed, _ipython_canary_method_should_not_exist_ is not present on the object, nor the AST attributes!'\n",
      "[2021-02-10T19:29:02.386460+0100][CRITICAL][logger] __getattribute__ failed. If you are trying to access an EnumAttribute or a StaticAttribute, be sure they have been added to the AST. Falling back on__getattr__ to search in self.attrs for the requested field.\n",
      "[2021-02-10T19:29:02.386562+0100][CRITICAL][logger] 'Class' object has no attribute '_ipython_canary_method_should_not_exist_'\n",
      "[2021-02-10T19:29:02.386661+0100][CRITICAL][logger] '__getattr__ failed, _ipython_canary_method_should_not_exist_ is not present on the object, nor the AST attributes!'\n",
      "[2021-02-10T19:29:02.386851+0100][CRITICAL][logger] __getattribute__ failed. If you are trying to access an EnumAttribute or a StaticAttribute, be sure they have been added to the AST. Falling back on__getattr__ to search in self.attrs for the requested field.\n",
      "[2021-02-10T19:29:02.386955+0100][CRITICAL][logger] 'Class' object has no attribute '_ipython_canary_method_should_not_exist_'\n",
      "[2021-02-10T19:29:02.387054+0100][CRITICAL][logger] '__getattr__ failed, _ipython_canary_method_should_not_exist_ is not present on the object, nor the AST attributes!'\n",
      "[2021-02-10T19:29:02.387175+0100][CRITICAL][logger] __getattribute__ failed. If you are trying to access an EnumAttribute or a StaticAttribute, be sure they have been added to the AST. Falling back on__getattr__ to search in self.attrs for the requested field.\n",
      "[2021-02-10T19:29:02.387272+0100][CRITICAL][logger] 'Class' object has no attribute '_ipython_canary_method_should_not_exist_'\n",
      "[2021-02-10T19:29:02.387367+0100][CRITICAL][logger] '__getattr__ failed, _ipython_canary_method_should_not_exist_ is not present on the object, nor the AST attributes!'\n",
      "[2021-02-10T19:29:02.387489+0100][CRITICAL][logger] __getattribute__ failed. If you are trying to access an EnumAttribute or a StaticAttribute, be sure they have been added to the AST. Falling back on__getattr__ to search in self.attrs for the requested field.\n",
      "[2021-02-10T19:29:02.387585+0100][CRITICAL][logger] 'Class' object has no attribute '_ipython_canary_method_should_not_exist_'\n",
      "[2021-02-10T19:29:02.387681+0100][CRITICAL][logger] '__getattr__ failed, _ipython_canary_method_should_not_exist_ is not present on the object, nor the AST attributes!'\n",
      "[2021-02-10T19:29:02.387800+0100][CRITICAL][logger] __getattribute__ failed. If you are trying to access an EnumAttribute or a StaticAttribute, be sure they have been added to the AST. Falling back on__getattr__ to search in self.attrs for the requested field.\n",
      "[2021-02-10T19:29:02.387895+0100][CRITICAL][logger] 'Class' object has no attribute '_ipython_canary_method_should_not_exist_'\n",
      "[2021-02-10T19:29:02.387989+0100][CRITICAL][logger] '__getattr__ failed, _ipython_canary_method_should_not_exist_ is not present on the object, nor the AST attributes!'\n",
      "[2021-02-10T19:29:02.388106+0100][CRITICAL][logger] __getattribute__ failed. If you are trying to access an EnumAttribute or a StaticAttribute, be sure they have been added to the AST. Falling back on__getattr__ to search in self.attrs for the requested field.\n",
      "[2021-02-10T19:29:02.388209+0100][CRITICAL][logger] 'Class' object has no attribute '_ipython_canary_method_should_not_exist_'\n",
      "[2021-02-10T19:29:02.388303+0100][CRITICAL][logger] '__getattr__ failed, _ipython_canary_method_should_not_exist_ is not present on the object, nor the AST attributes!'\n",
      "[2021-02-10T19:29:02.388421+0100][CRITICAL][logger] __getattribute__ failed. If you are trying to access an EnumAttribute or a StaticAttribute, be sure they have been added to the AST. Falling back on__getattr__ to search in self.attrs for the requested field.\n",
      "[2021-02-10T19:29:02.388516+0100][CRITICAL][logger] 'Class' object has no attribute '_ipython_canary_method_should_not_exist_'\n",
      "[2021-02-10T19:29:02.388633+0100][CRITICAL][logger] '__getattr__ failed, _ipython_canary_method_should_not_exist_ is not present on the object, nor the AST attributes!'\n",
      "[2021-02-10T19:29:02.388750+0100][CRITICAL][logger] __getattribute__ failed. If you are trying to access an EnumAttribute or a StaticAttribute, be sure they have been added to the AST. Falling back on__getattr__ to search in self.attrs for the requested field.\n",
      "[2021-02-10T19:29:02.388845+0100][CRITICAL][logger] 'Class' object has no attribute '_ipython_canary_method_should_not_exist_'\n",
      "[2021-02-10T19:29:02.388939+0100][CRITICAL][logger] '__getattr__ failed, _ipython_canary_method_should_not_exist_ is not present on the object, nor the AST attributes!'\n",
      "[2021-02-10T19:29:02.389056+0100][CRITICAL][logger] __getattribute__ failed. If you are trying to access an EnumAttribute or a StaticAttribute, be sure they have been added to the AST. Falling back on__getattr__ to search in self.attrs for the requested field.\n",
      "[2021-02-10T19:29:02.389149+0100][CRITICAL][logger] 'Class' object has no attribute '_ipython_canary_method_should_not_exist_'\n",
      "[2021-02-10T19:29:02.389242+0100][CRITICAL][logger] '__getattr__ failed, _ipython_canary_method_should_not_exist_ is not present on the object, nor the AST attributes!'\n",
      "[2021-02-10T19:29:02.389359+0100][CRITICAL][logger] __getattribute__ failed. If you are trying to access an EnumAttribute or a StaticAttribute, be sure they have been added to the AST. Falling back on__getattr__ to search in self.attrs for the requested field.\n",
      "[2021-02-10T19:29:02.389452+0100][CRITICAL][logger] 'Class' object has no attribute '_ipython_canary_method_should_not_exist_'\n",
      "[2021-02-10T19:29:02.389544+0100][CRITICAL][logger] '__getattr__ failed, _ipython_canary_method_should_not_exist_ is not present on the object, nor the AST attributes!'\n"
     ]
    }
   ],
   "source": [
    "alice_client.action.core.node.common.action.get_object_action.GetObjectAction"
   ]
  },
  {
   "cell_type": "code",
   "execution_count": 37,
   "metadata": {},
   "outputs": [
    {
     "name": "stderr",
     "output_type": "stream",
     "text": [
      "[2021-02-10T19:32:24.618319+0100][CRITICAL][logger] Path core.node.common.action.get_object_action.GetObjectAction not present in the AST.\n"
     ]
    },
    {
     "ename": "ValueError",
     "evalue": "Path core.node.common.action.get_object_action.GetObjectAction not present in the AST.",
     "output_type": "error",
     "traceback": [
      "\u001b[0;31m---------------------------------------------------------------------------\u001b[0m",
      "\u001b[0;31mValueError\u001b[0m                                Traceback (most recent call last)",
      "\u001b[0;32m<ipython-input-37-5e80eec5516f>\u001b[0m in \u001b[0;36m<module>\u001b[0;34m\u001b[0m\n\u001b[1;32m      1\u001b[0m alice_client.action.core.node.common.action.get_object_action.GetObjectAction(id_at_location=UID(), address=address,\n\u001b[0;32m----> 2\u001b[0;31m                                                                               reply_to=Address(), msg_id=UID())\n\u001b[0m",
      "\u001b[0;32m~/workspace/PySyft/src/syft/ast/callable.py\u001b[0m in \u001b[0;36m__call__\u001b[0;34m(self, *args, **kwargs)\u001b[0m\n\u001b[1;32m     67\u001b[0m         \u001b[0;32mif\u001b[0m \u001b[0mself\u001b[0m\u001b[0;34m.\u001b[0m\u001b[0mclient\u001b[0m \u001b[0;32mis\u001b[0m \u001b[0;32mnot\u001b[0m \u001b[0;32mNone\u001b[0m\u001b[0;34m:\u001b[0m\u001b[0;34m\u001b[0m\u001b[0;34m\u001b[0m\u001b[0m\n\u001b[1;32m     68\u001b[0m             return_tensor_type_pointer_type = self.client.lib_ast.query(\n\u001b[0;32m---> 69\u001b[0;31m                 \u001b[0mpath\u001b[0m\u001b[0;34m=\u001b[0m\u001b[0mself\u001b[0m\u001b[0;34m.\u001b[0m\u001b[0mreturn_type_name\u001b[0m\u001b[0;34m\u001b[0m\u001b[0;34m\u001b[0m\u001b[0m\n\u001b[0m\u001b[1;32m     70\u001b[0m             ).pointer_type\n\u001b[1;32m     71\u001b[0m \u001b[0;34m\u001b[0m\u001b[0m\n",
      "\u001b[0;32m~/workspace/PySyft/src/syft/ast/attribute.py\u001b[0m in \u001b[0;36mquery\u001b[0;34m(self, path, obj_type)\u001b[0m\n\u001b[1;32m    165\u001b[0m \u001b[0;34m\u001b[0m\u001b[0m\n\u001b[1;32m    166\u001b[0m         \u001b[0;32mif\u001b[0m \u001b[0m_path\u001b[0m\u001b[0;34m[\u001b[0m\u001b[0;36m0\u001b[0m\u001b[0;34m]\u001b[0m \u001b[0;32min\u001b[0m \u001b[0mself\u001b[0m\u001b[0;34m.\u001b[0m\u001b[0mattrs\u001b[0m\u001b[0;34m:\u001b[0m\u001b[0;34m\u001b[0m\u001b[0;34m\u001b[0m\u001b[0m\n\u001b[0;32m--> 167\u001b[0;31m             \u001b[0;32mreturn\u001b[0m \u001b[0mself\u001b[0m\u001b[0;34m.\u001b[0m\u001b[0mattrs\u001b[0m\u001b[0;34m[\u001b[0m\u001b[0m_path\u001b[0m\u001b[0;34m[\u001b[0m\u001b[0;36m0\u001b[0m\u001b[0;34m]\u001b[0m\u001b[0;34m]\u001b[0m\u001b[0;34m.\u001b[0m\u001b[0mquery\u001b[0m\u001b[0;34m(\u001b[0m\u001b[0mpath\u001b[0m\u001b[0;34m=\u001b[0m\u001b[0m_path\u001b[0m\u001b[0;34m[\u001b[0m\u001b[0;36m1\u001b[0m\u001b[0;34m:\u001b[0m\u001b[0;34m]\u001b[0m\u001b[0;34m)\u001b[0m\u001b[0;34m\u001b[0m\u001b[0;34m\u001b[0m\u001b[0m\n\u001b[0m\u001b[1;32m    168\u001b[0m \u001b[0;34m\u001b[0m\u001b[0m\n\u001b[1;32m    169\u001b[0m         traceback_and_raise(\n",
      "\u001b[0;32m~/workspace/PySyft/src/syft/ast/attribute.py\u001b[0m in \u001b[0;36mquery\u001b[0;34m(self, path, obj_type)\u001b[0m\n\u001b[1;32m    168\u001b[0m \u001b[0;34m\u001b[0m\u001b[0m\n\u001b[1;32m    169\u001b[0m         traceback_and_raise(\n\u001b[0;32m--> 170\u001b[0;31m             \u001b[0mValueError\u001b[0m\u001b[0;34m(\u001b[0m\u001b[0;34mf\"Path {'.'.join(_path)} not present in the AST.\"\u001b[0m\u001b[0;34m)\u001b[0m\u001b[0;34m\u001b[0m\u001b[0;34m\u001b[0m\u001b[0m\n\u001b[0m\u001b[1;32m    171\u001b[0m         )\n\u001b[1;32m    172\u001b[0m \u001b[0;34m\u001b[0m\u001b[0m\n",
      "\u001b[0;32m~/workspace/PySyft/src/syft/logger.py\u001b[0m in \u001b[0;36mtraceback_and_raise\u001b[0;34m(e, verbose)\u001b[0m\n\u001b[1;32m     57\u001b[0m     \u001b[0;32mexcept\u001b[0m \u001b[0mBaseException\u001b[0m \u001b[0;32mas\u001b[0m \u001b[0mex\u001b[0m\u001b[0;34m:\u001b[0m\u001b[0;34m\u001b[0m\u001b[0;34m\u001b[0m\u001b[0m\n\u001b[1;32m     58\u001b[0m         \u001b[0mlogger\u001b[0m\u001b[0;34m.\u001b[0m\u001b[0mdebug\u001b[0m\u001b[0;34m(\u001b[0m\u001b[0;34m\"failed to print exception\"\u001b[0m\u001b[0;34m,\u001b[0m \u001b[0mex\u001b[0m\u001b[0;34m)\u001b[0m\u001b[0;34m\u001b[0m\u001b[0;34m\u001b[0m\u001b[0m\n\u001b[0;32m---> 59\u001b[0;31m     \u001b[0;32mraise\u001b[0m \u001b[0me\u001b[0m\u001b[0;34m\u001b[0m\u001b[0;34m\u001b[0m\u001b[0m\n\u001b[0m\u001b[1;32m     60\u001b[0m \u001b[0;34m\u001b[0m\u001b[0m\n\u001b[1;32m     61\u001b[0m \u001b[0;34m\u001b[0m\u001b[0m\n",
      "\u001b[0;31mValueError\u001b[0m: Path core.node.common.action.get_object_action.GetObjectAction not present in the AST."
     ]
    }
   ],
   "source": [
    "alice_client.action.core.node.common.action.get_object_action.GetObjectAction(id_at_location=UID(), address=address,\n",
    "                                                                              reply_to=Address(), msg_id=UID())"
   ]
  },
  {
   "cell_type": "code",
   "execution_count": 22,
   "metadata": {},
   "outputs": [],
   "source": [
    "# action.send(alice_client)"
   ]
  },
  {
   "cell_type": "code",
   "execution_count": 73,
   "metadata": {},
   "outputs": [
    {
     "data": {
      "text/plain": [
       "<UID: bc3477786722490b9ea728e23c5006da>"
      ]
     },
     "execution_count": 73,
     "metadata": {},
     "output_type": "execute_result"
    }
   ],
   "source": [
    "t_pointer.id_at_location"
   ]
  },
  {
   "cell_type": "code",
   "execution_count": 47,
   "metadata": {},
   "outputs": [],
   "source": [
    "t.send??"
   ]
  },
  {
   "cell_type": "code",
   "execution_count": null,
   "metadata": {},
   "outputs": [],
   "source": []
  }
 ],
 "metadata": {
  "kernelspec": {
   "display_name": "Python 3",
   "language": "python",
   "name": "python3"
  },
  "language_info": {
   "codemirror_mode": {
    "name": "ipython",
    "version": 3
   },
   "file_extension": ".py",
   "mimetype": "text/x-python",
   "name": "python",
   "nbconvert_exporter": "python",
   "pygments_lexer": "ipython3",
   "version": "3.7.9"
  },
  "toc": {
   "base_numbering": 1,
   "nav_menu": {},
   "number_sections": true,
   "sideBar": true,
   "skip_h1_title": false,
   "title_cell": "Table of Contents",
   "title_sidebar": "Contents",
   "toc_cell": false,
   "toc_position": {
    "height": "calc(100% - 180px)",
    "left": "10px",
    "top": "150px",
    "width": "374.391px"
   },
   "toc_section_display": true,
   "toc_window_display": true
  }
 },
 "nbformat": 4,
 "nbformat_minor": 4
}
