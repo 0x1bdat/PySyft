{
 "cells": [
  {
   "cell_type": "code",
   "execution_count": 1,
   "id": "ebcd6ad3-3804-492e-b5ad-37c207ab9eea",
   "metadata": {},
   "outputs": [
    {
     "name": "stdout",
     "output_type": "stream",
     "text": [
      "Seeding DB with roles!\n"
     ]
    }
   ],
   "source": [
    "import syft as sy"
   ]
  },
  {
   "cell_type": "code",
   "execution_count": 2,
   "id": "402d845c-e3a2-4e0d-bfd6-e6e306928fd8",
   "metadata": {},
   "outputs": [],
   "source": [
    "from syft.core.common.uid import UID"
   ]
  },
  {
   "cell_type": "code",
   "execution_count": 3,
   "id": "b686ee21-5466-435c-a183-3dfd7b93072c",
   "metadata": {},
   "outputs": [],
   "source": [
    "from syft.core.node.common.node_service.get_remaining_budget.get_remaining_budget_messages import GetRemainingBudgetMessage"
   ]
  },
  {
   "cell_type": "code",
   "execution_count": 4,
   "id": "440563e3-7c00-48fe-8853-e85ccd276e49",
   "metadata": {},
   "outputs": [
    {
     "name": "stdout",
     "output_type": "stream",
     "text": [
      "Seeding DB with roles!\n",
      "Setup hasnt run yet so ignoring set_node_uid\n"
     ]
    }
   ],
   "source": [
    "domain = sy.Domain(\"test\")"
   ]
  },
  {
   "cell_type": "code",
   "execution_count": 5,
   "id": "72ee2ce0-d4ca-49ee-8f35-64a75ac7e383",
   "metadata": {},
   "outputs": [],
   "source": [
    "add = domain.address\n",
    "\n",
    "msg = GetRemainingBudgetMessage(budget=float(1.), address=add, reply_to=add)"
   ]
  },
  {
   "cell_type": "code",
   "execution_count": 6,
   "id": "142de908-8a2a-438b-83a9-c9bda96aa4d0",
   "metadata": {},
   "outputs": [
    {
     "ename": "TypeError",
     "evalue": "data: 1.0\nid {\n  value: \"\\223\\000J\\221A\\210M\\270\\207\\031\\267\\266F\\336\\373\\202\"\n}\n has type Float, but expected one of: int, long, float",
     "output_type": "error",
     "traceback": [
      "\u001b[0;31m---------------------------------------------------------------------------\u001b[0m",
      "\u001b[0;31mTypeError\u001b[0m                                 Traceback (most recent call last)",
      "\u001b[0;32m/var/folders/wj/8nx2_m391gs16rmltrmw42jm0000gn/T/ipykernel_47904/3114767867.py\u001b[0m in \u001b[0;36m<module>\u001b[0;34m\u001b[0m\n\u001b[0;32m----> 1\u001b[0;31m \u001b[0mser_msg\u001b[0m \u001b[0;34m=\u001b[0m \u001b[0msy\u001b[0m\u001b[0;34m.\u001b[0m\u001b[0mserialize\u001b[0m\u001b[0;34m(\u001b[0m\u001b[0mmsg\u001b[0m\u001b[0;34m)\u001b[0m\u001b[0;34m\u001b[0m\u001b[0;34m\u001b[0m\u001b[0m\n\u001b[0m\u001b[1;32m      2\u001b[0m \u001b[0mser_msg\u001b[0m\u001b[0;34m\u001b[0m\u001b[0;34m\u001b[0m\u001b[0m\n",
      "\u001b[0;32m~/Desktop/adp/PySyft/packages/syft/src/syft/core/common/serde/serialize.py\u001b[0m in \u001b[0;36m_serialize\u001b[0;34m(obj, to_proto, to_bytes)\u001b[0m\n\u001b[1;32m     85\u001b[0m         \u001b[0;32mreturn\u001b[0m \u001b[0mvalidate_type\u001b[0m\u001b[0;34m(\u001b[0m\u001b[0mblob\u001b[0m\u001b[0;34m.\u001b[0m\u001b[0mSerializeToString\u001b[0m\u001b[0;34m(\u001b[0m\u001b[0;34m)\u001b[0m\u001b[0;34m,\u001b[0m \u001b[0mbytes\u001b[0m\u001b[0;34m)\u001b[0m\u001b[0;34m\u001b[0m\u001b[0;34m\u001b[0m\u001b[0m\n\u001b[1;32m     86\u001b[0m     \u001b[0;32melif\u001b[0m \u001b[0mto_proto\u001b[0m\u001b[0;34m:\u001b[0m\u001b[0;34m\u001b[0m\u001b[0;34m\u001b[0m\u001b[0m\n\u001b[0;32m---> 87\u001b[0;31m         \u001b[0;32mreturn\u001b[0m \u001b[0mvalidate_type\u001b[0m\u001b[0;34m(\u001b[0m\u001b[0mis_serializable\u001b[0m\u001b[0;34m.\u001b[0m\u001b[0m_object2proto\u001b[0m\u001b[0;34m(\u001b[0m\u001b[0;34m)\u001b[0m\u001b[0;34m,\u001b[0m \u001b[0mMessage\u001b[0m\u001b[0;34m)\u001b[0m\u001b[0;34m\u001b[0m\u001b[0;34m\u001b[0m\u001b[0m\n\u001b[0m\u001b[1;32m     88\u001b[0m     \u001b[0;32melse\u001b[0m\u001b[0;34m:\u001b[0m\u001b[0;34m\u001b[0m\u001b[0;34m\u001b[0m\u001b[0m\n\u001b[1;32m     89\u001b[0m         traceback_and_raise(\n",
      "\u001b[0;32m~/Desktop/adp/PySyft/packages/syft/src/syft/core/node/common/node_service/get_remaining_budget/get_remaining_budget_messages.py\u001b[0m in \u001b[0;36m_object2proto\u001b[0;34m(self)\u001b[0m\n\u001b[1;32m     39\u001b[0m \u001b[0;34m\u001b[0m\u001b[0m\n\u001b[1;32m     40\u001b[0m     \u001b[0;32mdef\u001b[0m \u001b[0m_object2proto\u001b[0m\u001b[0;34m(\u001b[0m\u001b[0mself\u001b[0m\u001b[0;34m)\u001b[0m \u001b[0;34m->\u001b[0m \u001b[0mGetRemainingBudgetMessage_PB\u001b[0m\u001b[0;34m:\u001b[0m\u001b[0;34m\u001b[0m\u001b[0;34m\u001b[0m\u001b[0m\n\u001b[0;32m---> 41\u001b[0;31m         return GetRemainingBudgetMessage_PB(\n\u001b[0m\u001b[1;32m     42\u001b[0m             \u001b[0mbudget\u001b[0m\u001b[0;34m=\u001b[0m\u001b[0mserialize\u001b[0m\u001b[0;34m(\u001b[0m\u001b[0mself\u001b[0m\u001b[0;34m.\u001b[0m\u001b[0mbudget\u001b[0m\u001b[0;34m)\u001b[0m\u001b[0;34m,\u001b[0m\u001b[0;34m\u001b[0m\u001b[0;34m\u001b[0m\u001b[0m\n\u001b[1;32m     43\u001b[0m             \u001b[0;31m# id_at_location=serialize(self.id_at_location),\u001b[0m\u001b[0;34m\u001b[0m\u001b[0;34m\u001b[0m\u001b[0;34m\u001b[0m\u001b[0m\n",
      "\u001b[0;31mTypeError\u001b[0m: data: 1.0\nid {\n  value: \"\\223\\000J\\221A\\210M\\270\\207\\031\\267\\266F\\336\\373\\202\"\n}\n has type Float, but expected one of: int, long, float"
     ]
    }
   ],
   "source": [
    "ser_msg = sy.serialize(msg) \n",
    "ser_msg"
   ]
  },
  {
   "cell_type": "code",
   "execution_count": null,
   "id": "0bd96f07-a9fd-4830-8aec-b0095f56d75c",
   "metadata": {},
   "outputs": [],
   "source": [
    "de_msg = sy.deserialize(ser_msg)\n",
    "de_msg"
   ]
  },
  {
   "cell_type": "code",
   "execution_count": null,
   "id": "6d63f41c-2295-474f-8fec-bea349c70963",
   "metadata": {},
   "outputs": [],
   "source": [
    "msg == de_msg"
   ]
  },
  {
   "cell_type": "code",
   "execution_count": null,
   "id": "e822df8e-7628-4086-aca2-460a804bf099",
   "metadata": {},
   "outputs": [],
   "source": []
  }
 ],
 "metadata": {
  "kernelspec": {
   "display_name": "Python 3 (ipykernel)",
   "language": "python",
   "name": "python3"
  },
  "language_info": {
   "codemirror_mode": {
    "name": "ipython",
    "version": 3
   },
   "file_extension": ".py",
   "mimetype": "text/x-python",
   "name": "python",
   "nbconvert_exporter": "python",
   "pygments_lexer": "ipython3",
   "version": "3.8.10"
  }
 },
 "nbformat": 4,
 "nbformat_minor": 5
}
