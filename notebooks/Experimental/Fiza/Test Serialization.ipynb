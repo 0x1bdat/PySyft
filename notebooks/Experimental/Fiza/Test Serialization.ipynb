{
 "cells": [
  {
   "cell_type": "code",
   "execution_count": 1,
   "id": "ebcd6ad3-3804-492e-b5ad-37c207ab9eea",
   "metadata": {},
   "outputs": [
    {
     "name": "stdout",
     "output_type": "stream",
     "text": [
      "Seeding DB with roles!\n"
     ]
    }
   ],
   "source": [
    "import syft as sy"
   ]
  },
  {
   "cell_type": "code",
   "execution_count": 2,
   "id": "402d845c-e3a2-4e0d-bfd6-e6e306928fd8",
   "metadata": {},
   "outputs": [],
   "source": [
    "from syft.core.common.uid import UID"
   ]
  },
  {
   "cell_type": "code",
   "execution_count": 3,
   "id": "b686ee21-5466-435c-a183-3dfd7b93072c",
   "metadata": {},
   "outputs": [],
   "source": [
    "from syft.core.node.common.node_service.get_remaining_budget.get_remaining_budget_messages import GetRemainingBudgetMessage"
   ]
  },
  {
   "cell_type": "code",
   "execution_count": 4,
   "id": "440563e3-7c00-48fe-8853-e85ccd276e49",
   "metadata": {},
   "outputs": [
    {
     "name": "stdout",
     "output_type": "stream",
     "text": [
      "Seeding DB with roles!\n",
      "Setup hasnt run yet so ignoring set_node_uid\n"
     ]
    }
   ],
   "source": [
    "domain = sy.Domain(\"test\")"
   ]
  },
  {
   "cell_type": "code",
   "execution_count": 5,
   "id": "72ee2ce0-d4ca-49ee-8f35-64a75ac7e383",
   "metadata": {},
   "outputs": [],
   "source": [
    "add = domain.address\n",
    "\n",
    "msg = GetRemainingBudgetMessage(address=add, reply_to=add, id_at_location=UID())"
   ]
  },
  {
   "cell_type": "code",
   "execution_count": 6,
   "id": "142de908-8a2a-438b-83a9-c9bda96aa4d0",
   "metadata": {},
   "outputs": [
    {
     "data": {
      "text/plain": [
       "msg_id {\n",
       "  value: \"\\306J$k\\321`Ib\\253 .\\232\\272g\\374\\321\"\n",
       "}\n",
       "address {\n",
       "  name: \"test\"\n",
       "  has_domain: true\n",
       "  domain {\n",
       "    id {\n",
       "      value: \"Z*r\\337\\275\\032G\\'\\275\\353\\344~]o\\265l\"\n",
       "    }\n",
       "    name: \"test\"\n",
       "  }\n",
       "}\n",
       "reply_to {\n",
       "  name: \"test\"\n",
       "  has_domain: true\n",
       "  domain {\n",
       "    id {\n",
       "      value: \"Z*r\\337\\275\\032G\\'\\275\\353\\344~]o\\265l\"\n",
       "    }\n",
       "    name: \"test\"\n",
       "  }\n",
       "}\n",
       "id_at_location {\n",
       "  value: \"\\357\\r\\223\\225<\\016@\\363\\206\\330\\242\\265\\375@e7\"\n",
       "}"
      ]
     },
     "execution_count": 6,
     "metadata": {},
     "output_type": "execute_result"
    }
   ],
   "source": [
    "ser_msg = sy.serialize(msg) \n",
    "ser_msg"
   ]
  },
  {
   "cell_type": "code",
   "execution_count": 7,
   "id": "0bd96f07-a9fd-4830-8aec-b0095f56d75c",
   "metadata": {},
   "outputs": [
    {
     "data": {
      "text/plain": [
       "<GetRemainingBudgetMessage: c64a246bd1604962ab202e9aba67fcd1>"
      ]
     },
     "execution_count": 7,
     "metadata": {},
     "output_type": "execute_result"
    }
   ],
   "source": [
    "de_msg = sy.deserialize(ser_msg)\n",
    "de_msg"
   ]
  },
  {
   "cell_type": "code",
   "execution_count": 8,
   "id": "6d63f41c-2295-474f-8fec-bea349c70963",
   "metadata": {},
   "outputs": [
    {
     "data": {
      "text/plain": [
       "True"
      ]
     },
     "execution_count": 8,
     "metadata": {},
     "output_type": "execute_result"
    }
   ],
   "source": [
    "msg == de_msg"
   ]
  },
  {
   "cell_type": "code",
   "execution_count": null,
   "id": "e822df8e-7628-4086-aca2-460a804bf099",
   "metadata": {},
   "outputs": [],
   "source": []
  }
 ],
 "metadata": {
  "kernelspec": {
   "display_name": "Python 3 (ipykernel)",
   "language": "python",
   "name": "python3"
  },
  "language_info": {
   "codemirror_mode": {
    "name": "ipython",
    "version": 3
   },
   "file_extension": ".py",
   "mimetype": "text/x-python",
   "name": "python",
   "nbconvert_exporter": "python",
   "pygments_lexer": "ipython3",
   "version": "3.8.10"
  }
 },
 "nbformat": 4,
 "nbformat_minor": 5
}
