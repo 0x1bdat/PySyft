{
 "cells": [
  {
   "cell_type": "code",
   "execution_count": 25,
   "metadata": {},
   "outputs": [
    {
     "name": "stdout",
     "output_type": "stream",
     "text": [
      "The autoreload extension is already loaded. To reload it, use:\n",
      "  %reload_ext autoreload\n"
     ]
    }
   ],
   "source": [
    "# %load_ext autoreload\n",
    "# %autoreload 2"
   ]
  },
  {
   "cell_type": "code",
   "execution_count": 1,
   "metadata": {},
   "outputs": [],
   "source": [
    "import syft as sy\n",
    "import numpy as np\n",
    "import pandas as pd\n",
    "from syft.core.adp.entity_list import EntityList\n",
    "from time import time"
   ]
  },
  {
   "cell_type": "code",
   "execution_count": 2,
   "metadata": {},
   "outputs": [
    {
     "name": "stdout",
     "output_type": "stream",
     "text": [
      "Number of Rows: 1_000_000\n"
     ]
    }
   ],
   "source": [
    "df = pd.read_parquet(\"../Ishan/1M_rows_dataset_sample.parquet\")\n",
    "print(f\"Number of Rows: {df.shape[0]:_}\")"
   ]
  },
  {
   "cell_type": "code",
   "execution_count": 8,
   "metadata": {},
   "outputs": [
    {
     "name": "stdout",
     "output_type": "stream",
     "text": [
      "72\n",
      "2166\n",
      "what type of child do we have now? [902 902 902 ... 970 970 970] <class 'numpy.ndarray'>\n",
      "what type of child do we have now? [902 902 902 ... 970 970 970] <class 'numpy.ndarray'>\n",
      "CPU times: user 159 ms, sys: 0 ns, total: 159 ms\n",
      "Wall time: 155 ms\n"
     ]
    }
   ],
   "source": [
    "%%time\n",
    "name = \"Tweets- 1_000_000 rows dataset \"\n",
    "impressions = df['impressions'].to_numpy(np.int32) // 10\n",
    "print(min(impressions))\n",
    "print(max(impressions))\n",
    "data_subjects = EntityList.from_series(df['user_id'])\n",
    "tweets_data = sy.Tensor(impressions).private(min_val=50, max_val=2500, entities = data_subjects,ndept=True)"
   ]
  },
  {
   "cell_type": "code",
   "execution_count": 9,
   "metadata": {},
   "outputs": [
    {
     "name": "stdout",
     "output_type": "stream",
     "text": [
      "what type of child do we have now? GammaTensor(value=array(1193691800, dtype=int32), data_subjects=<syft.core.adp.entity_list.EntityList object at 0x7f2e97149c40>, min_val=50000000, max_val=-1794967296, is_linear=True, func=<function no_op at 0x7f2ea0f3a8b0>, id='4137491374', state={'0': array([902, 902, 902, ..., 970, 970, 970], dtype=int32)}) <class 'syft.core.tensor.autodp.gamma_tensor.GammaTensor'>\n"
     ]
    }
   ],
   "source": [
    "sum_data = tweets_data.sum()"
   ]
  },
  {
   "cell_type": "code",
   "execution_count": 10,
   "metadata": {},
   "outputs": [
    {
     "name": "stdout",
     "output_type": "stream",
     "text": [
      "Type of value:  <class 'numpy.ndarray'>\n"
     ]
    }
   ],
   "source": [
    "ser_data = sy.serialize(sum_data.child, to_bytes=True)"
   ]
  },
  {
   "cell_type": "code",
   "execution_count": 11,
   "metadata": {},
   "outputs": [],
   "source": [
    "deser_data = sy.deserialize(ser_data, from_bytes=True)"
   ]
  },
  {
   "cell_type": "code",
   "execution_count": 12,
   "metadata": {},
   "outputs": [
    {
     "data": {
      "text/plain": [
       "array(1193691800, dtype=int32)"
      ]
     },
     "execution_count": 12,
     "metadata": {},
     "output_type": "execute_result"
    }
   ],
   "source": [
    "deser_data.value"
   ]
  },
  {
   "cell_type": "code",
   "execution_count": 4,
   "metadata": {},
   "outputs": [
    {
     "name": "stdout",
     "output_type": "stream",
     "text": [
      "WARNING: CHANGE YOUR USERNAME AND PASSWORD!!! \n",
      "\n",
      "Anyone can login as an admin to your node right now because your password is still the default PySyft username and password!!!\n",
      "\n",
      "Connecting to None... done! \t Logging into canada... done!\n"
     ]
    }
   ],
   "source": [
    "domain_node = sy.login(email=\"info@openmined.org\",password=\"changethis\",port=8081)"
   ]
  },
  {
   "cell_type": "code",
   "execution_count": 12,
   "metadata": {},
   "outputs": [
    {
     "name": "stdout",
     "output_type": "stream",
     "text": [
      "Loading dataset...\r",
      "Loading dataset... checking assets...\r",
      "Loading dataset... checking dataset name for uniqueness...\r",
      "Loading dataset... checking dataset name for uniqueness...                                                                                                                    \r",
      "Loading dataset... checking asset types...                              "
     ]
    },
    {
     "name": "stderr",
     "output_type": "stream",
     "text": [
      "kj/filesystem-disk-unix.c++:1690: warning: PWD environment variable doesn't match current directory; pwd = /home/shubham/PySyft\n",
      "Uploading Tweets data- 1647960348.7949307: 100%|██████████████████████████████████████████████████████████████████████████████████████████████████████████████████████████████| 1/1 [00:00<00:00,  3.82it/s]"
     ]
    },
    {
     "name": "stdout",
     "output_type": "stream",
     "text": [
      "\r",
      "Loading dataset... uploading...                        \r",
      "Loading dataset... uploading... SUCCESS!                        \n",
      "\n",
      "Run <your client variable>.datasets to see your new dataset loaded into your machine!\n"
     ]
    },
    {
     "name": "stderr",
     "output_type": "stream",
     "text": [
      "\n"
     ]
    }
   ],
   "source": [
    "name = f\"Tweets data- {time()}\"\n",
    "domain_node.load_dataset(\n",
    "    assets={name: tweets_data},\n",
    "    name=name,\n",
    "    description=\" Tweets- 1B rows\",\n",
    "    use_blob_storage=True\n",
    ")"
   ]
  },
  {
   "cell_type": "code",
   "execution_count": 15,
   "metadata": {},
   "outputs": [],
   "source": [
    "data = domain_node.datasets[-1][\"Tweets data- 1647960348.7949307\"]"
   ]
  },
  {
   "cell_type": "code",
   "execution_count": 4,
   "metadata": {},
   "outputs": [
    {
     "name": "stdout",
     "output_type": "stream",
     "text": [
      "what type of child do we have now? GammaTensor(value=array(-942906630, dtype=int32), data_subjects=<syft.core.adp.entity_list.EntityList object at 0x7fb59e0e7970>, min_val=array(500000000, dtype=int32), max_val=array(-769803776, dtype=int32), is_linear=True, func=<function no_op at 0x7fb5a83689d0>, id='3656634234', state={'0': array([9029, 9029, 9029, ..., 9709, 9709, 9709], dtype=int32)}) <class 'syft.core.tensor.autodp.gamma_tensor.GammaTensor'>\n"
     ]
    }
   ],
   "source": []
  },
  {
   "cell_type": "code",
   "execution_count": 5,
   "metadata": {},
   "outputs": [],
   "source": []
  },
  {
   "cell_type": "code",
   "execution_count": 6,
   "metadata": {},
   "outputs": [
    {
     "name": "stderr",
     "output_type": "stream",
     "text": [
      "WARNING:absl:No GPU/TPU found, falling back to CPU. (Set TF_CPP_MIN_LOG_LEVEL=0 and rerun for more info.)\n"
     ]
    }
   ],
   "source": []
  },
  {
   "cell_type": "code",
   "execution_count": 17,
   "metadata": {},
   "outputs": [
    {
     "data": {
      "text/plain": [
       "syft.core.tensor.autodp.gamma_tensor.GammaTensor"
      ]
     },
     "execution_count": 17,
     "metadata": {},
     "output_type": "execute_result"
    }
   ],
   "source": [
    "gtype(deser_data)"
   ]
  },
  {
   "cell_type": "code",
   "execution_count": 15,
   "metadata": {},
   "outputs": [
    {
     "data": {
      "text/plain": [
       "array(-942906630, dtype=int32)"
      ]
     },
     "execution_count": 15,
     "metadata": {},
     "output_type": "execute_result"
    }
   ],
   "source": []
  },
  {
   "cell_type": "code",
   "execution_count": null,
   "metadata": {},
   "outputs": [],
   "source": []
  }
 ],
 "metadata": {
  "interpreter": {
   "hash": "630449982b6186a6531308cd76ed4d510e9db65154e43844c2906c6a20ad2a6d"
  },
  "kernelspec": {
   "display_name": "Python 3 (ipykernel)",
   "language": "python",
   "name": "python3"
  },
  "language_info": {
   "codemirror_mode": {
    "name": "ipython",
    "version": 3
   },
   "file_extension": ".py",
   "mimetype": "text/x-python",
   "name": "python",
   "nbconvert_exporter": "python",
   "pygments_lexer": "ipython3",
   "version": "3.9.7"
  }
 },
 "nbformat": 4,
 "nbformat_minor": 2
}
