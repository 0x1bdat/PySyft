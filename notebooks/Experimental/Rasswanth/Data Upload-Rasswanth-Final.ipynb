{
 "cells": [
  {
   "cell_type": "code",
   "execution_count": 1,
   "id": "a1148054-2781-48c5-8e02-8cc3e2603610",
   "metadata": {},
   "outputs": [],
   "source": [
    "%load_ext autoreload\n",
    "%autoreload 2\n",
    "%load_ext line_profiler\n",
    "import numpy as np\n",
    "import pandas as pd\n",
    "import torch\n",
    "import gc\n",
    "import syft as sy\n",
    "from syft.core.adp.entity import Entity\n",
    "from pympler.asizeof import asizeof #pip install pympler\n",
    "from syft import serialize\n",
    "from syft import deserialize\n",
    "import timeit\n",
    "from syft.core.tensor.autodp.dp_tensor_converter import convert_to_gamma_tensor\n",
    "\n",
    "from functools import reduce\n",
    "import time\n",
    "import pyarrow as pa"
   ]
  },
  {
   "cell_type": "code",
   "execution_count": 17,
   "id": "944e282f-7d06-4b24-a9ac-2c5800fd2b06",
   "metadata": {},
   "outputs": [
    {
     "name": "stdout",
     "output_type": "stream",
     "text": [
      "Number of Rows:  10000000\n",
      "10000000\n"
     ]
    }
   ],
   "source": [
    "df = pd.read_parquet(\"10M_rows_dataset_sample.parquet\")\n",
    "print(\"Number of Rows: \",df.shape[0])\n",
    "df.head()\n",
    "print(df.shape[0])"
   ]
  },
  {
   "cell_type": "code",
   "execution_count": 3,
   "id": "353daf68-89d4-41d7-9f91-2196f03bc1a1",
   "metadata": {
    "jupyter": {
     "source_hidden": true
    },
    "tags": []
   },
   "outputs": [
    {
     "name": "stdout",
     "output_type": "stream",
     "text": [
      "WARNING: CHANGE YOUR USERNAME AND PASSWORD!!! \n",
      "\n",
      "Anyone can login as an admin to your node right now because your password is still the default PySyft username and password!!!\n",
      "\n",
      "Connecting to None... done! \t Logging into canada... done!\n"
     ]
    }
   ],
   "source": [
    "# Let's login into the domain node\n",
    "domain_node = sy.login(email=\"info@openmined.org\", password=\"changethis\", port=8081)"
   ]
  },
  {
   "cell_type": "code",
   "execution_count": 18,
   "id": "ff5993fd-492c-44de-bc51-3e9a739a0db0",
   "metadata": {},
   "outputs": [],
   "source": [
    "%%time\n",
    "name = \"Tweets- 100000 rows dataset \"\n",
    "impressions = ((np.array(list(df['impressions'])))).astype(np.int32)\n",
    "publication_title = ((list(df['publication_title'])))\n",
    "\n",
    "entities = list()\n",
    "for i in range(len(publication_title)):\n",
    "    entities.append(Entity(name=publication_title[i]))\n",
    "\n",
    "tweets_data = sy.Tensor(impressions).private(min_val=0, max_val=30, entities = entities)"
   ]
  },
  {
   "cell_type": "code",
   "execution_count": 19,
   "id": "191fdf24-0fd2-4fa1-b7fb-36f269d3428b",
   "metadata": {},
   "outputs": [
    {
     "data": {
      "text/plain": [
       "Timer unit: 1e-06 s\n",
       "\n",
       "Total time: 5e-06 s\n",
       "File: /home/azureuser/PySyft/packages/syft/src/syft/core/adp/entity.py\n",
       "Function: simple_assets_for_serde at line 111\n",
       "\n",
       "Line #      Hits         Time  Per Hit   % Time  Line Contents\n",
       "==============================================================\n",
       "   111                                               def simple_assets_for_serde(self) -> list:\n",
       "   112                                                   # assets = list()\n",
       "   113                                                   # assets.append(self.name)\n",
       "   114                                                   # bytes_value = self.id.get_bytes\n",
       "   115                                                   # assets.append(bytes_value)  # type: ignore\n",
       "   116                                                   # return assets\n",
       "   117         1          5.0      5.0    100.0          return [self.name, self.id.get_bytes]"
      ]
     },
     "metadata": {},
     "output_type": "display_data"
    }
   ],
   "source": [
    "%lprun -f tweets_data.child.child[0].entity.simple_assets_for_serde tweets_data.child.child[0].entity.simple_assets_for_serde()"
   ]
  },
  {
   "cell_type": "code",
   "execution_count": null,
   "id": "1555de9e-241d-4608-b244-8cbb7985ba77",
   "metadata": {},
   "outputs": [],
   "source": [
    "%lprun -f tweets_data.child.arrow_serialize tweets_data.child.arrow_serialize()"
   ]
  },
  {
   "cell_type": "code",
   "execution_count": null,
   "id": "adb7b00b-1e2c-4525-96a4-61d14d9727a3",
   "metadata": {
    "tags": []
   },
   "outputs": [],
   "source": [
    "# %%timeit\n",
    "start = time.time()\n",
    "tweets_data.child.arrow_serialize()\n",
    "end= time.time()\n",
    "print(end-start)"
   ]
  },
  {
   "cell_type": "code",
   "execution_count": null,
   "id": "fcc3362f-c96a-4682-bc68-c14eee411c97",
   "metadata": {
    "jupyter": {
     "source_hidden": true
    },
    "tags": []
   },
   "outputs": [],
   "source": [
    "tweets_data.child.child[0].scalar_manager.prime2symbol\n",
    "\n",
    "\n",
    "\n",
    "\n",
    "\n",
    "\n",
    "\n",
    "\n",
    "\n",
    "\n",
    "\n",
    "\n",
    "\n",
    "\n",
    "\n",
    "\n",
    "\n",
    "\n",
    "\n",
    "\n",
    "\n",
    "\n",
    "\n",
    "\n",
    "\n",
    "\n",
    "\n",
    "\n",
    "\n",
    "\n",
    "\n",
    "\n",
    "\n",
    "\n",
    "\n",
    "\n",
    "\n",
    "\n",
    "\n",
    "\n",
    "\n",
    "\n",
    "\n",
    "\n",
    "\n",
    "\n",
    "\n",
    "\n",
    "\n",
    "\n",
    "\n",
    "\n",
    "\n",
    "\n",
    "\n",
    "\n",
    "\n",
    "\n",
    "\n",
    "\n",
    "\n",
    "\n",
    "\n"
   ]
  },
  {
   "cell_type": "code",
   "execution_count": null,
   "id": "86b781bc-dba9-4925-bd15-a2deaf2a041f",
   "metadata": {},
   "outputs": [],
   "source": [
    "%%time\n",
    "pa.serialize(np.random.rand(1_000_000))"
   ]
  },
  {
   "cell_type": "code",
   "execution_count": null,
   "id": "2b15ad4c-6948-445b-90e3-f5838ec27ddd",
   "metadata": {},
   "outputs": [],
   "source": [
    "%%time\n",
    "for i in range(1_000_000):\n",
    "    pa.serialize(np.random.rand(1))"
   ]
  },
  {
   "cell_type": "code",
   "execution_count": null,
   "id": "211e86cf-1f72-4178-b494-434a6d908e80",
   "metadata": {},
   "outputs": [],
   "source": []
  },
  {
   "cell_type": "code",
   "execution_count": null,
   "id": "c4463bbc-7876-43e1-b74b-9bfa361f1582",
   "metadata": {},
   "outputs": [],
   "source": []
  },
  {
   "cell_type": "code",
   "execution_count": null,
   "id": "fceafd8d-de1b-4793-a1c2-f913bcf9bbed",
   "metadata": {},
   "outputs": [],
   "source": []
  },
  {
   "cell_type": "code",
   "execution_count": null,
   "id": "97fea8d2-935f-4f6f-b451-f804f9b88a2b",
   "metadata": {},
   "outputs": [],
   "source": []
  },
  {
   "cell_type": "code",
   "execution_count": null,
   "id": "6987e8ed-f8e8-4296-bdc5-2c2dba3ab7f3",
   "metadata": {},
   "outputs": [],
   "source": []
  },
  {
   "cell_type": "code",
   "execution_count": null,
   "id": "fc994373-18f7-43a2-9735-328c5c7ad556",
   "metadata": {},
   "outputs": [],
   "source": []
  },
  {
   "cell_type": "code",
   "execution_count": null,
   "id": "e67bef6d-3f26-45f9-a525-e04d65a2eeb3",
   "metadata": {},
   "outputs": [],
   "source": [
    "%%time\n",
    "serialize(tweets_data.child.child[0],to_bytes=True)"
   ]
  },
  {
   "cell_type": "code",
   "execution_count": null,
   "id": "a75de277-9a0c-456b-a5d8-40a9ec80e3ac",
   "metadata": {},
   "outputs": [],
   "source": [
    "%%time\n",
    "result = tweets_data.sum()"
   ]
  },
  {
   "cell_type": "code",
   "execution_count": null,
   "id": "3279f933-f16e-456f-800a-663595a8c158",
   "metadata": {},
   "outputs": [],
   "source": [
    "tweets_data.child.serde_concurrency= 1"
   ]
  },
  {
   "cell_type": "code",
   "execution_count": null,
   "id": "e63c0337-590b-4853-b5c2-d2e95d3bf0ec",
   "metadata": {},
   "outputs": [],
   "source": [
    "#measuring size of objects in python is not easy, \n",
    "#as there might be several references in a user defined class\n",
    "#we pympler library to measure the size of an object.\n",
    "#pymler does not give an exact size on disk, but a close accurate instead of sys.getsizeof()\n",
    "\n",
    "print(\"Size of Twitter Tensor Data(MB) ====> \" , asizeof(tweets_data)/(1024*1024)) "
   ]
  },
  {
   "cell_type": "code",
   "execution_count": null,
   "id": "dda90ba6-3f8e-46e7-b9d4-2567a3412822",
   "metadata": {
    "tags": []
   },
   "outputs": [],
   "source": [
    "#Twitter data serialization.\n",
    "start = timeit.default_timer()\n",
    "serialized_data = serialize(tweets_data,to_bytes=True)\n",
    "end = timeit.default_timer()\n",
    "print(\"Serialization Time =====>\" , end-start,\" seconds\" )\n",
    "print(\"Twitter Serialized Data Size \",len(serialized_data)/(1024*1024))\n"
   ]
  },
  {
   "cell_type": "code",
   "execution_count": null,
   "id": "590859a7-57b4-4ebe-9950-fe55603fe7eb",
   "metadata": {
    "tags": []
   },
   "outputs": [],
   "source": [
    "%lprun -f tweets_data.child._object2proto tweets_data.child._object2proto()"
   ]
  },
  {
   "cell_type": "code",
   "execution_count": null,
   "id": "e8b3597b-ee6b-4ad7-82bb-e93ccfc8b195",
   "metadata": {},
   "outputs": [],
   "source": [
    "#Twitter data derserialization\n",
    "start = timeit.default_timer()\n",
    "deserialized_data = deserialize(serialized_data,from_bytes=True)\n",
    "end = timeit.default_timer()\n",
    "print(\"Deserialization Time =====>\" , end-start,\" seconds\" )\n",
    "print(\"Twitter Deserialized Data Size \",asizeof(deserialized_data)/(1024*1024))\n"
   ]
  },
  {
   "cell_type": "code",
   "execution_count": null,
   "id": "94ce5208-3f19-4c69-9c04-4a88118bd0c1",
   "metadata": {
    "tags": []
   },
   "outputs": [],
   "source": [
    "%%time\n",
    "#Uploading Dataset....\n",
    "domain_node.load_dataset(\n",
    "assets={\"tweets\": tweets_data},\n",
    "name=name,\n",
    "description=\"\"\"Tweets- 1M rows \"\"\"\n",
    ")\n",
    "\n",
    "#The main bottleneck is the serialization as uploading dataset is a blocking call(immediate_msg_with_reply), \n",
    "#bottleneck = serialization at client + DeSerialization at node\n"
   ]
  },
  {
   "cell_type": "code",
   "execution_count": null,
   "id": "be4b6dcb-9402-416f-8418-34624dfb1b0d",
   "metadata": {},
   "outputs": [],
   "source": [
    "domain_node.datasets"
   ]
  },
  {
   "cell_type": "code",
   "execution_count": null,
   "id": "c3309a20",
   "metadata": {},
   "outputs": [],
   "source": [
    "dataset = domain_node.datasets[0][\"tweets\"]"
   ]
  },
  {
   "cell_type": "code",
   "execution_count": null,
   "id": "536df25d",
   "metadata": {},
   "outputs": [],
   "source": [
    "%%time\n",
    "res = dataset.sum()\n",
    "res.block"
   ]
  },
  {
   "cell_type": "code",
   "execution_count": null,
   "id": "fe8eb102-f754-4176-885e-da733f9ccd53",
   "metadata": {},
   "outputs": [],
   "source": [
    "res.exists"
   ]
  },
  {
   "cell_type": "code",
   "execution_count": null,
   "id": "aa7f6a96",
   "metadata": {},
   "outputs": [],
   "source": [
    "res = res.publish(sigma=0.1)"
   ]
  },
  {
   "cell_type": "code",
   "execution_count": null,
   "id": "6426ad23-e53f-4a96-adaf-1d0b4ad7d394",
   "metadata": {},
   "outputs": [],
   "source": [
    "res.get()"
   ]
  },
  {
   "cell_type": "code",
   "execution_count": null,
   "id": "929832ca-9b99-4660-b29a-8e0ceacf3eb4",
   "metadata": {},
   "outputs": [],
   "source": [
    "l = tweets_data.child.child"
   ]
  },
  {
   "cell_type": "code",
   "execution_count": null,
   "id": "303dc4dd-fe29-4c97-9e4d-52bc2e9c6368",
   "metadata": {},
   "outputs": [],
   "source": [
    "a = l[0]\n",
    "b= l[50611]\n",
    "c = l[83931]\n",
    "print(a)\n",
    "print(b)\n",
    "print(c)"
   ]
  },
  {
   "cell_type": "code",
   "execution_count": null,
   "id": "5d75aa81-75f4-4872-b007-0fc80c7d19c3",
   "metadata": {},
   "outputs": [],
   "source": [
    "split_lst=[]\n",
    "d = {}\n",
    "c=0\n",
    "for i in l:\n",
    "    if i.entity not in d:\n",
    "        d[i.entity]=c\n",
    "        split_lst.append([i])\n",
    "        c+=1\n",
    "    else:\n",
    "        split_lst[d[i.entity]].append(i)\n",
    "        "
   ]
  },
  {
   "cell_type": "code",
   "execution_count": null,
   "id": "1d5ca309-a923-4382-9701-8a39d39147c8",
   "metadata": {
    "tags": []
   },
   "outputs": [],
   "source": [
    "first= split_lst[0]\n",
    "second = split_lst[1]\n",
    "third = split_lst[2]\n",
    "fourth = split_lst[3]\n"
   ]
  },
  {
   "cell_type": "code",
   "execution_count": null,
   "id": "07d1dd5a-5ad9-413c-8e3b-76d70668bdf7",
   "metadata": {},
   "outputs": [],
   "source": [
    "def list_sum(lst):\n",
    "    s=lst[0]\n",
    "    for i in range(1,len(lst)):\n",
    "        s+=lst[i]\n",
    "    return s"
   ]
  },
  {
   "cell_type": "code",
   "execution_count": null,
   "id": "fd16aa71-6b0a-4f55-bd20-ff6cc5bc9971",
   "metadata": {},
   "outputs": [],
   "source": [
    "s=first[0]\n",
    "for i in first[1::]:\n",
    "    s=s+i\n",
    "print(\"final: \",s)\n",
    "    "
   ]
  },
  {
   "cell_type": "code",
   "execution_count": null,
   "id": "cd9b55fd-2aee-46bf-a6b6-c931cb806a9d",
   "metadata": {},
   "outputs": [],
   "source": [
    "def lst_sum(a,b):\n",
    "    return a+b"
   ]
  },
  {
   "cell_type": "code",
   "execution_count": null,
   "id": "5f7b093c-7a2c-4777-b8d0-c49c7ea46064",
   "metadata": {},
   "outputs": [],
   "source": [
    "t1 = reduce(lst_sum,first)\n",
    "t2 = reduce(lst_sum,second)\n",
    "t3 = reduce(lst_sum,third)\n",
    "t4 = reduce(lst_sum,fourth)"
   ]
  },
  {
   "cell_type": "code",
   "execution_count": null,
   "id": "1f5b1b0e-a562-48bf-9db1-9c7eecbb503b",
   "metadata": {},
   "outputs": [],
   "source": [
    "%%time\n",
    "r1 = t1+t2\n",
    "r2 = t3+t4"
   ]
  },
  {
   "cell_type": "code",
   "execution_count": null,
   "id": "a375708e-1106-4227-8b21-c6ab6c7d426b",
   "metadata": {},
   "outputs": [],
   "source": [
    "tweets_data.child.child[1].dtype"
   ]
  }
 ],
 "metadata": {
  "kernelspec": {
   "display_name": "Python 3 (ipykernel)",
   "language": "python",
   "name": "python3"
  },
  "language_info": {
   "codemirror_mode": {
    "name": "ipython",
    "version": 3
   },
   "file_extension": ".py",
   "mimetype": "text/x-python",
   "name": "python",
   "nbconvert_exporter": "python",
   "pygments_lexer": "ipython3",
   "version": "3.9.4"
  }
 },
 "nbformat": 4,
 "nbformat_minor": 5
}
