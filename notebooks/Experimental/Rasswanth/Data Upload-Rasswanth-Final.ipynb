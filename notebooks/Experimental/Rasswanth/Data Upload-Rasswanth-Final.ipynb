{
 "cells": [
  {
   "cell_type": "code",
   "execution_count": 1,
   "id": "a67f52ab-338f-4a3e-832f-2801bfe78e82",
   "metadata": {},
   "outputs": [
    {
     "name": "stdout",
     "output_type": "stream",
     "text": [
      "Requirement already satisfied: pycapnp in /Users/madhavajay/dev/PySyft/.tox/syft.jupyter/lib/python3.9/site-packages (1.1.0)\n",
      "\u001b[33mWARNING: You are using pip version 21.3.1; however, version 22.0.3 is available.\n",
      "You should consider upgrading via the '/Users/madhavajay/dev/PySyft/.tox/syft.jupyter/bin/python -m pip install --upgrade pip' command.\u001b[0m\n"
     ]
    }
   ],
   "source": [
    "!pip install pycapnp"
   ]
  },
  {
   "cell_type": "code",
   "execution_count": 2,
   "id": "994642ce",
   "metadata": {},
   "outputs": [],
   "source": [
    "%load_ext autoreload\n",
    "%autoreload 2\n",
    "# %load_ext line_profiler\n",
    "import numpy as np\n",
    "import pandas as pd\n",
    "# import torch\n",
    "# import gc\n",
    "import syft as sy\n",
    "from syft.core.adp.entity import Entity\n",
    "# from pympler.asizeof import asizeof #pip install pympler\n",
    "from syft import serialize\n",
    "from syft import deserialize\n",
    "import timeit\n",
    "# from syft.core.tensor.autodp.dp_tensor_converter import convert_to_gamma_tensor\n",
    "\n",
    "# from functools import reduce\n",
    "import time\n",
    "import pyarrow as pa"
   ]
  },
  {
   "cell_type": "code",
   "execution_count": 3,
   "id": "198ade1b",
   "metadata": {},
   "outputs": [
    {
     "name": "stdout",
     "output_type": "stream",
     "text": [
      "Number of Rows:  1000000\n",
      "1000000\n"
     ]
    }
   ],
   "source": [
    "df = pd.read_parquet(\"1M_rows_dataset_sample.parquet\")\n",
    "print(\"Number of Rows: \",df.shape[0])\n",
    "df.head()\n",
    "print(df.shape[0])"
   ]
  },
  {
   "cell_type": "code",
   "execution_count": 4,
   "id": "8edb1b8e",
   "metadata": {},
   "outputs": [],
   "source": [
    "# factor = 1\n",
    "# df = pd.concat([df] * factor, ignore_index=True)"
   ]
  },
  {
   "cell_type": "code",
   "execution_count": 5,
   "id": "b6432db9",
   "metadata": {},
   "outputs": [],
   "source": [
    "# df.shape[0] / 1e6"
   ]
  },
  {
   "cell_type": "code",
   "execution_count": 6,
   "id": "c767668e",
   "metadata": {
    "tags": []
   },
   "outputs": [],
   "source": [
    "# # Let's login into the domain node\n",
    "# domain_node = sy.login(email=\"info@openmined.org\", password=\"changethis\", port=8081)"
   ]
  },
  {
   "cell_type": "code",
   "execution_count": 7,
   "id": "706b4f1c",
   "metadata": {},
   "outputs": [
    {
     "name": "stdout",
     "output_type": "stream",
     "text": [
      "CPU times: user 248 ms, sys: 19 ms, total: 267 ms\n",
      "Wall time: 267 ms\n"
     ]
    }
   ],
   "source": [
    "%%time\n",
    "name = \"Tweets- 100000 rows dataset \"\n",
    "impressions = ((np.array(list(df['impressions'])))).astype(np.int32)\n",
    "publication_title = ((list(df['publication_title'])))"
   ]
  },
  {
   "cell_type": "code",
   "execution_count": 8,
   "id": "098d740b",
   "metadata": {},
   "outputs": [
    {
     "name": "stdout",
     "output_type": "stream",
     "text": [
      "CPU times: user 6.77 s, sys: 1.1 s, total: 7.87 s\n",
      "Wall time: 7.99 s\n"
     ]
    }
   ],
   "source": [
    "%%time\n",
    "entities = list()\n",
    "for i in range(len(publication_title)):\n",
    "    entities.append(Entity(name=publication_title[i]))"
   ]
  },
  {
   "cell_type": "code",
   "execution_count": 9,
   "id": "8f5383da",
   "metadata": {},
   "outputs": [
    {
     "name": "stdout",
     "output_type": "stream",
     "text": [
      "0.6703660488128662\n"
     ]
    }
   ],
   "source": [
    "t0 = time.time()\n",
    "tweets_data = sy.Tensor(impressions).private(min_val=0, max_val=30, entities = entities)\n",
    "tf = time.time() - t0\n",
    "print(tf)"
   ]
  },
  {
   "cell_type": "code",
   "execution_count": 10,
   "id": "51065eda-375b-47a3-8084-b1c15f2cbb40",
   "metadata": {},
   "outputs": [],
   "source": [
    "def extend_tweet_data(data, multiplier: int):\n",
    "    new_data = data.copy()\n",
    "    new_data.child.child = new_data.child.child.repeat(multiplier)\n",
    "    new_data.child._entities = np.array([\"ishan\"] * multiplier * len(new_data.child._entities))\n",
    "    return new_data"
   ]
  },
  {
   "cell_type": "code",
   "execution_count": 11,
   "id": "967ab447-cde9-4b7a-895d-94f076681efa",
   "metadata": {},
   "outputs": [],
   "source": [
    "def benchmark(data):\n",
    "    start = time.time()\n",
    "    data.child.arrow_serialize()\n",
    "    end = time.time()\n",
    "    print(end-start)"
   ]
  },
  {
   "cell_type": "code",
   "execution_count": 12,
   "id": "df8bf10c",
   "metadata": {},
   "outputs": [],
   "source": [
    "mil = tweets_data"
   ]
  },
  {
   "cell_type": "code",
   "execution_count": 13,
   "id": "2a64dc64-6016-45f3-9d80-83f11628c9d7",
   "metadata": {},
   "outputs": [
    {
     "data": {
      "text/plain": [
       "1000000"
      ]
     },
     "execution_count": 13,
     "metadata": {},
     "output_type": "execute_result"
    }
   ],
   "source": [
    "len(mil)"
   ]
  },
  {
   "cell_type": "code",
   "execution_count": 19,
   "id": "f823e749-801b-49a7-9648-c7fe2ab5c5eb",
   "metadata": {},
   "outputs": [
    {
     "name": "stdout",
     "output_type": "stream",
     "text": [
      "step 1: 0.11936402320861816\n",
      "Total Size:  15.345809\n",
      "step 2: 0.007450103759765625\n",
      "0.12944412231445312\n"
     ]
    }
   ],
   "source": [
    "benchmark(mil)"
   ]
  },
  {
   "cell_type": "code",
   "execution_count": 20,
   "id": "c2f28451-d9f3-4f47-8468-78417d3acecd",
   "metadata": {},
   "outputs": [],
   "source": [
    "ten_mil = extend_tweet_data(mil, 10)"
   ]
  },
  {
   "cell_type": "code",
   "execution_count": 21,
   "id": "c51ec7c7-47a2-40ee-a105-63104cb19e70",
   "metadata": {},
   "outputs": [
    {
     "data": {
      "text/plain": [
       "10000000"
      ]
     },
     "execution_count": 21,
     "metadata": {},
     "output_type": "execute_result"
    }
   ],
   "source": [
    "len(ten_mil)"
   ]
  },
  {
   "cell_type": "code",
   "execution_count": 22,
   "id": "cbb9c2c7-b64a-4c88-9ef9-c36fdc89dfb5",
   "metadata": {},
   "outputs": [
    {
     "name": "stdout",
     "output_type": "stream",
     "text": [
      "step 1: 1.198836088180542\n",
      "Total Size:  90.005132\n",
      "step 2: 0.14870095252990723\n",
      "1.3693578243255615\n"
     ]
    }
   ],
   "source": [
    "benchmark(ten_mil)"
   ]
  },
  {
   "cell_type": "code",
   "execution_count": 23,
   "id": "6161ecff-53c9-4997-ac97-9fe364c1cf22",
   "metadata": {},
   "outputs": [],
   "source": [
    "hundred_mil = extend_tweet_data(mil, 100)"
   ]
  },
  {
   "cell_type": "code",
   "execution_count": null,
   "id": "f394d169-1a77-444d-b0f3-fb667a5543b4",
   "metadata": {},
   "outputs": [],
   "source": [
    "# pyarrow record batch\n",
    "# benchmark(hundred_mil)\n",
    "# step 1: 11.958800077438354\n",
    "# Total Size:  900.042533\n",
    "# step 2: 0.91678786277771\n",
    "# 13.002313137054443"
   ]
  },
  {
   "cell_type": "code",
   "execution_count": 24,
   "id": "4607c57f-692e-44d8-84ae-c4b1b876059c",
   "metadata": {},
   "outputs": [
    {
     "name": "stdout",
     "output_type": "stream",
     "text": [
      "step 1: 12.573211908340454\n",
      "Total Size:  900.042533\n"
     ]
    },
    {
     "ename": "KjException",
     "evalue": "capnp/layout.c++:1694: failed: text blob too big\nstack: 156300d8f 15633b869 15633fecc 1561aa298 1561e8db7 1561b2cb5 1561ed539 1067a9d5c 1068498a8 106762f12 10684fb8c 10684ce30 106762f12 10684fb8c 10684cf00 106850ac5 106845d30 106842b7a 1067a5af8 10684fb8c 10684cf00 106774b0e 106848ebe 106774b0e 106848ebe 106774b0e 10676ba8d 10684fb8c 10684ce30 106762f12 10684fb8c",
     "output_type": "error",
     "traceback": [
      "\u001b[0;31m---------------------------------------------------------------------------\u001b[0m",
      "\u001b[0;31mKjException\u001b[0m                               Traceback (most recent call last)",
      "\u001b[0;32m/var/folders/7n/9h84vrpx4yqc69b56ntkjgjr0000gn/T/ipykernel_5182/852599634.py\u001b[0m in \u001b[0;36m<module>\u001b[0;34m\u001b[0m\n\u001b[0;32m----> 1\u001b[0;31m \u001b[0mbenchmark\u001b[0m\u001b[0;34m(\u001b[0m\u001b[0mhundred_mil\u001b[0m\u001b[0;34m)\u001b[0m\u001b[0;34m\u001b[0m\u001b[0;34m\u001b[0m\u001b[0m\n\u001b[0m",
      "\u001b[0;32m/var/folders/7n/9h84vrpx4yqc69b56ntkjgjr0000gn/T/ipykernel_5182/3634350302.py\u001b[0m in \u001b[0;36mbenchmark\u001b[0;34m(data)\u001b[0m\n\u001b[1;32m      1\u001b[0m \u001b[0;32mdef\u001b[0m \u001b[0mbenchmark\u001b[0m\u001b[0;34m(\u001b[0m\u001b[0mdata\u001b[0m\u001b[0;34m)\u001b[0m\u001b[0;34m:\u001b[0m\u001b[0;34m\u001b[0m\u001b[0;34m\u001b[0m\u001b[0m\n\u001b[1;32m      2\u001b[0m     \u001b[0mstart\u001b[0m \u001b[0;34m=\u001b[0m \u001b[0mtime\u001b[0m\u001b[0;34m.\u001b[0m\u001b[0mtime\u001b[0m\u001b[0;34m(\u001b[0m\u001b[0;34m)\u001b[0m\u001b[0;34m\u001b[0m\u001b[0;34m\u001b[0m\u001b[0m\n\u001b[0;32m----> 3\u001b[0;31m     \u001b[0mdata\u001b[0m\u001b[0;34m.\u001b[0m\u001b[0mchild\u001b[0m\u001b[0;34m.\u001b[0m\u001b[0marrow_serialize\u001b[0m\u001b[0;34m(\u001b[0m\u001b[0;34m)\u001b[0m\u001b[0;34m\u001b[0m\u001b[0;34m\u001b[0m\u001b[0m\n\u001b[0m\u001b[1;32m      4\u001b[0m     \u001b[0mend\u001b[0m \u001b[0;34m=\u001b[0m \u001b[0mtime\u001b[0m\u001b[0;34m.\u001b[0m\u001b[0mtime\u001b[0m\u001b[0;34m(\u001b[0m\u001b[0;34m)\u001b[0m\u001b[0;34m\u001b[0m\u001b[0;34m\u001b[0m\u001b[0m\n\u001b[1;32m      5\u001b[0m     \u001b[0mprint\u001b[0m\u001b[0;34m(\u001b[0m\u001b[0mend\u001b[0m\u001b[0;34m-\u001b[0m\u001b[0mstart\u001b[0m\u001b[0;34m)\u001b[0m\u001b[0;34m\u001b[0m\u001b[0;34m\u001b[0m\u001b[0m\n",
      "\u001b[0;32m~/dev/PySyft/packages/syft/src/syft/core/tensor/autodp/row_entity_phi.py\u001b[0m in \u001b[0;36marrow_serialize\u001b[0;34m(self)\u001b[0m\n\u001b[1;32m   1154\u001b[0m         \u001b[0mrept_msg\u001b[0m\u001b[0;34m.\u001b[0m\u001b[0mminVals\u001b[0m \u001b[0;34m=\u001b[0m \u001b[0mmin_vals\u001b[0m\u001b[0;34m\u001b[0m\u001b[0;34m\u001b[0m\u001b[0m\n\u001b[1;32m   1155\u001b[0m         \u001b[0mrept_msg\u001b[0m\u001b[0;34m.\u001b[0m\u001b[0mmaxVals\u001b[0m \u001b[0;34m=\u001b[0m \u001b[0mmax_vals\u001b[0m\u001b[0;34m\u001b[0m\u001b[0;34m\u001b[0m\u001b[0m\n\u001b[0;32m-> 1156\u001b[0;31m         \u001b[0mrept_msg\u001b[0m\u001b[0;34m.\u001b[0m\u001b[0mentities\u001b[0m \u001b[0;34m=\u001b[0m \u001b[0mentities\u001b[0m\u001b[0;34m\u001b[0m\u001b[0;34m\u001b[0m\u001b[0m\n\u001b[0m\u001b[1;32m   1157\u001b[0m         \u001b[0mbyte_stream\u001b[0m \u001b[0;34m=\u001b[0m \u001b[0mrept_msg\u001b[0m\u001b[0;34m.\u001b[0m\u001b[0mto_bytes\u001b[0m\u001b[0;34m(\u001b[0m\u001b[0;34m)\u001b[0m\u001b[0;34m\u001b[0m\u001b[0;34m\u001b[0m\u001b[0m\n\u001b[1;32m   1158\u001b[0m         \u001b[0mend\u001b[0m \u001b[0;34m=\u001b[0m \u001b[0mtime\u001b[0m\u001b[0;34m.\u001b[0m\u001b[0mtime\u001b[0m\u001b[0;34m(\u001b[0m\u001b[0;34m)\u001b[0m\u001b[0;34m\u001b[0m\u001b[0;34m\u001b[0m\u001b[0m\n",
      "\u001b[0;32m~/dev/PySyft/.tox/syft.jupyter/lib/python3.9/site-packages/capnp/lib/capnp.pyx\u001b[0m in \u001b[0;36mcapnp.lib.capnp._DynamicStructBuilder.__setattr__\u001b[0;34m()\u001b[0m\n",
      "\u001b[0;32m~/dev/PySyft/.tox/syft.jupyter/lib/python3.9/site-packages/capnp/lib/capnp.pyx\u001b[0m in \u001b[0;36mcapnp.lib.capnp._DynamicStructBuilder.__setattr__\u001b[0;34m()\u001b[0m\n",
      "\u001b[0;32m~/dev/PySyft/.tox/syft.jupyter/lib/python3.9/site-packages/capnp/lib/capnp.pyx\u001b[0m in \u001b[0;36mcapnp.lib.capnp._DynamicStructBuilder._set\u001b[0;34m()\u001b[0m\n",
      "\u001b[0;32m~/dev/PySyft/.tox/syft.jupyter/lib/python3.9/site-packages/capnp/lib/capnp.pyx\u001b[0m in \u001b[0;36mcapnp.lib.capnp._setDynamicField\u001b[0;34m()\u001b[0m\n",
      "\u001b[0;32m~/dev/PySyft/.tox/syft.jupyter/lib/python3.9/site-packages/capnp/lib/capnp.pyx\u001b[0m in \u001b[0;36mcapnp.lib.capnp._setBytes\u001b[0;34m()\u001b[0m\n",
      "\u001b[0;31mKjException\u001b[0m: capnp/layout.c++:1694: failed: text blob too big\nstack: 156300d8f 15633b869 15633fecc 1561aa298 1561e8db7 1561b2cb5 1561ed539 1067a9d5c 1068498a8 106762f12 10684fb8c 10684ce30 106762f12 10684fb8c 10684cf00 106850ac5 106845d30 106842b7a 1067a5af8 10684fb8c 10684cf00 106774b0e 106848ebe 106774b0e 106848ebe 106774b0e 10676ba8d 10684fb8c 10684ce30 106762f12 10684fb8c"
     ]
    }
   ],
   "source": [
    "benchmark(hundred_mil)"
   ]
  },
  {
   "cell_type": "code",
   "execution_count": null,
   "id": "8f77730f-0923-411f-936d-12b109c133df",
   "metadata": {},
   "outputs": [],
   "source": [
    "bill = extend_tweet_data(mil, 1000)"
   ]
  },
  {
   "cell_type": "code",
   "execution_count": null,
   "id": "d67d9cf4-1888-4759-8e64-2a829e6e1186",
   "metadata": {},
   "outputs": [],
   "source": [
    "len(bill.child._entities)"
   ]
  },
  {
   "cell_type": "code",
   "execution_count": null,
   "id": "6e2139ca-db11-43d7-8348-1f44c520f6fd",
   "metadata": {},
   "outputs": [],
   "source": [
    "benchmark(bill)"
   ]
  },
  {
   "cell_type": "code",
   "execution_count": null,
   "id": "19769ca5-f697-4353-8b7a-d6f486ec3592",
   "metadata": {},
   "outputs": [],
   "source": []
  },
  {
   "cell_type": "code",
   "execution_count": null,
   "id": "481ae62c",
   "metadata": {},
   "outputs": [],
   "source": [
    "# len(tweets_data.child.child)/1e6"
   ]
  },
  {
   "cell_type": "code",
   "execution_count": null,
   "id": "f8fdfcfa",
   "metadata": {},
   "outputs": [],
   "source": [
    "# len(tweets_data.child._entities)/1e6"
   ]
  },
  {
   "cell_type": "code",
   "execution_count": null,
   "id": "76e191bc",
   "metadata": {},
   "outputs": [],
   "source": [
    "# %lprun -f tweets_data.child.child[0].entity.simple_assets_for_serde tweets_data.child.child[0].entity.simple_assets_for_serde()"
   ]
  },
  {
   "cell_type": "code",
   "execution_count": null,
   "id": "f2091864",
   "metadata": {},
   "outputs": [],
   "source": [
    "# %lprun -f tweets_data.child.arrow_serialize tweets_data.child.arrow_serialize()"
   ]
  },
  {
   "cell_type": "code",
   "execution_count": null,
   "id": "c50e2c32",
   "metadata": {
    "tags": []
   },
   "outputs": [],
   "source": []
  },
  {
   "cell_type": "code",
   "execution_count": null,
   "id": "34ca4d20-4274-434e-86aa-004ace2d91ad",
   "metadata": {},
   "outputs": [],
   "source": [
    "benchmark(bill)"
   ]
  },
  {
   "cell_type": "code",
   "execution_count": null,
   "id": "ba0d5993-cf86-4c46-91c1-e9212cbb2b69",
   "metadata": {},
   "outputs": [],
   "source": []
  },
  {
   "cell_type": "code",
   "execution_count": null,
   "id": "8d42f1d5",
   "metadata": {
    "tags": []
   },
   "outputs": [],
   "source": [
    "# tweets_data.child.child[0].scalar_manager.prime2symbol"
   ]
  },
  {
   "cell_type": "code",
   "execution_count": null,
   "id": "3b4ebb51",
   "metadata": {},
   "outputs": [],
   "source": [
    "%%time\n",
    "pa.serialize(np.random.rand(1_000_000))"
   ]
  },
  {
   "cell_type": "code",
   "execution_count": null,
   "id": "bb26e8fa",
   "metadata": {},
   "outputs": [],
   "source": [
    "%%time\n",
    "for i in range(1_000_000):\n",
    "    pa.serialize(np.random.rand(1))"
   ]
  },
  {
   "cell_type": "code",
   "execution_count": null,
   "id": "46ec0409",
   "metadata": {},
   "outputs": [],
   "source": []
  },
  {
   "cell_type": "code",
   "execution_count": null,
   "id": "1c173b15",
   "metadata": {},
   "outputs": [],
   "source": []
  },
  {
   "cell_type": "code",
   "execution_count": null,
   "id": "17a73ead",
   "metadata": {},
   "outputs": [],
   "source": []
  },
  {
   "cell_type": "code",
   "execution_count": null,
   "id": "77b42732",
   "metadata": {},
   "outputs": [],
   "source": []
  },
  {
   "cell_type": "code",
   "execution_count": null,
   "id": "7a5cf4b8",
   "metadata": {},
   "outputs": [],
   "source": []
  },
  {
   "cell_type": "code",
   "execution_count": null,
   "id": "580bab02",
   "metadata": {},
   "outputs": [],
   "source": []
  },
  {
   "cell_type": "code",
   "execution_count": null,
   "id": "3235720c",
   "metadata": {},
   "outputs": [],
   "source": [
    "%%time\n",
    "serialize(tweets_data.child.child[0],to_bytes=True)"
   ]
  },
  {
   "cell_type": "code",
   "execution_count": null,
   "id": "21a63ffb",
   "metadata": {},
   "outputs": [],
   "source": [
    "%%time\n",
    "result = tweets_data.sum()"
   ]
  },
  {
   "cell_type": "code",
   "execution_count": null,
   "id": "23e168c4",
   "metadata": {},
   "outputs": [],
   "source": [
    "tweets_data.child.serde_concurrency= 1"
   ]
  },
  {
   "cell_type": "code",
   "execution_count": null,
   "id": "c4e8f0d8",
   "metadata": {},
   "outputs": [],
   "source": [
    "#measuring size of objects in python is not easy, \n",
    "#as there might be several references in a user defined class\n",
    "#we pympler library to measure the size of an object.\n",
    "#pymler does not give an exact size on disk, but a close accurate instead of sys.getsizeof()\n",
    "\n",
    "print(\"Size of Twitter Tensor Data(MB) ====> \" , asizeof(tweets_data)/(1024*1024)) "
   ]
  },
  {
   "cell_type": "code",
   "execution_count": null,
   "id": "fdfb64e2",
   "metadata": {
    "tags": []
   },
   "outputs": [],
   "source": [
    "#Twitter data serialization.\n",
    "start = timeit.default_timer()\n",
    "serialized_data = serialize(tweets_data,to_bytes=True)\n",
    "end = timeit.default_timer()\n",
    "print(\"Serialization Time =====>\" , end-start,\" seconds\" )\n",
    "print(\"Twitter Serialized Data Size \",len(serialized_data)/(1024*1024))\n"
   ]
  },
  {
   "cell_type": "code",
   "execution_count": null,
   "id": "d9a19b90",
   "metadata": {
    "tags": []
   },
   "outputs": [],
   "source": [
    "%lprun -f tweets_data.child._object2proto tweets_data.child._object2proto()"
   ]
  },
  {
   "cell_type": "code",
   "execution_count": null,
   "id": "401ddf38",
   "metadata": {},
   "outputs": [],
   "source": [
    "#Twitter data derserialization\n",
    "start = timeit.default_timer()\n",
    "deserialized_data = deserialize(serialized_data,from_bytes=True)\n",
    "end = timeit.default_timer()\n",
    "print(\"Deserialization Time =====>\" , end-start,\" seconds\" )\n",
    "print(\"Twitter Deserialized Data Size \",asizeof(deserialized_data)/(1024*1024))\n"
   ]
  },
  {
   "cell_type": "code",
   "execution_count": null,
   "id": "73a3301a",
   "metadata": {
    "tags": []
   },
   "outputs": [],
   "source": [
    "%%time\n",
    "#Uploading Dataset....\n",
    "domain_node.load_dataset(\n",
    "assets={\"tweets\": tweets_data},\n",
    "name=name,\n",
    "description=\"\"\"Tweets- 1M rows \"\"\"\n",
    ")\n",
    "\n",
    "#The main bottleneck is the serialization as uploading dataset is a blocking call(immediate_msg_with_reply), \n",
    "#bottleneck = serialization at client + DeSerialization at node\n"
   ]
  },
  {
   "cell_type": "code",
   "execution_count": null,
   "id": "8bc88069",
   "metadata": {},
   "outputs": [],
   "source": [
    "domain_node.datasets"
   ]
  },
  {
   "cell_type": "code",
   "execution_count": null,
   "id": "dea89923",
   "metadata": {},
   "outputs": [],
   "source": [
    "dataset = domain_node.datasets[0][\"tweets\"]"
   ]
  },
  {
   "cell_type": "code",
   "execution_count": null,
   "id": "de5372c1",
   "metadata": {},
   "outputs": [],
   "source": [
    "%%time\n",
    "res = dataset.sum()\n",
    "res.block"
   ]
  },
  {
   "cell_type": "code",
   "execution_count": null,
   "id": "deadcb75",
   "metadata": {},
   "outputs": [],
   "source": [
    "res.exists"
   ]
  },
  {
   "cell_type": "code",
   "execution_count": null,
   "id": "89430fab",
   "metadata": {},
   "outputs": [],
   "source": [
    "res = res.publish(sigma=0.1)"
   ]
  },
  {
   "cell_type": "code",
   "execution_count": null,
   "id": "6d9f02c5",
   "metadata": {},
   "outputs": [],
   "source": [
    "res.get()"
   ]
  },
  {
   "cell_type": "code",
   "execution_count": null,
   "id": "c4e9efa5",
   "metadata": {},
   "outputs": [],
   "source": [
    "l = tweets_data.child.child"
   ]
  },
  {
   "cell_type": "code",
   "execution_count": null,
   "id": "0d44b7dc",
   "metadata": {},
   "outputs": [],
   "source": [
    "a = l[0]\n",
    "b= l[50611]\n",
    "c = l[83931]\n",
    "print(a)\n",
    "print(b)\n",
    "print(c)"
   ]
  },
  {
   "cell_type": "code",
   "execution_count": null,
   "id": "0973a69c",
   "metadata": {},
   "outputs": [],
   "source": [
    "split_lst=[]\n",
    "d = {}\n",
    "c=0\n",
    "for i in l:\n",
    "    if i.entity not in d:\n",
    "        d[i.entity]=c\n",
    "        split_lst.append([i])\n",
    "        c+=1\n",
    "    else:\n",
    "        split_lst[d[i.entity]].append(i)\n",
    "        "
   ]
  },
  {
   "cell_type": "code",
   "execution_count": null,
   "id": "674b61aa",
   "metadata": {
    "tags": []
   },
   "outputs": [],
   "source": [
    "first= split_lst[0]\n",
    "second = split_lst[1]\n",
    "third = split_lst[2]\n",
    "fourth = split_lst[3]\n"
   ]
  },
  {
   "cell_type": "code",
   "execution_count": null,
   "id": "e3c2db9e",
   "metadata": {},
   "outputs": [],
   "source": [
    "def list_sum(lst):\n",
    "    s=lst[0]\n",
    "    for i in range(1,len(lst)):\n",
    "        s+=lst[i]\n",
    "    return s"
   ]
  },
  {
   "cell_type": "code",
   "execution_count": null,
   "id": "06323e77",
   "metadata": {},
   "outputs": [],
   "source": [
    "s=first[0]\n",
    "for i in first[1::]:\n",
    "    s=s+i\n",
    "print(\"final: \",s)\n",
    "    "
   ]
  },
  {
   "cell_type": "code",
   "execution_count": null,
   "id": "0e3e1205",
   "metadata": {},
   "outputs": [],
   "source": [
    "def lst_sum(a,b):\n",
    "    return a+b"
   ]
  },
  {
   "cell_type": "code",
   "execution_count": null,
   "id": "d0d01aac",
   "metadata": {},
   "outputs": [],
   "source": [
    "t1 = reduce(lst_sum,first)\n",
    "t2 = reduce(lst_sum,second)\n",
    "t3 = reduce(lst_sum,third)\n",
    "t4 = reduce(lst_sum,fourth)"
   ]
  },
  {
   "cell_type": "code",
   "execution_count": null,
   "id": "4fb50eff",
   "metadata": {},
   "outputs": [],
   "source": [
    "%%time\n",
    "r1 = t1+t2\n",
    "r2 = t3+t4"
   ]
  },
  {
   "cell_type": "code",
   "execution_count": null,
   "id": "864a0792",
   "metadata": {},
   "outputs": [],
   "source": [
    "tweets_data.child.child[1].dtype"
   ]
  },
  {
   "cell_type": "code",
   "execution_count": null,
   "id": "f82c4977",
   "metadata": {},
   "outputs": [],
   "source": [
    "from syft.core.adp.entity import Entity"
   ]
  },
  {
   "cell_type": "code",
   "execution_count": null,
   "id": "32ac7128",
   "metadata": {},
   "outputs": [],
   "source": [
    "a = Entity(\"a\")\n",
    "b = Entity(\"a\")"
   ]
  },
  {
   "cell_type": "code",
   "execution_count": null,
   "id": "09bdc0bf",
   "metadata": {},
   "outputs": [],
   "source": [
    "a == b"
   ]
  },
  {
   "cell_type": "code",
   "execution_count": null,
   "id": "0e4c5627",
   "metadata": {},
   "outputs": [],
   "source": [
    "a.id"
   ]
  },
  {
   "cell_type": "code",
   "execution_count": null,
   "id": "e45de3ea",
   "metadata": {},
   "outputs": [],
   "source": [
    "b.id"
   ]
  },
  {
   "cell_type": "code",
   "execution_count": null,
   "id": "3d73dfeb",
   "metadata": {},
   "outputs": [],
   "source": [
    "a = [\"a\", \"b\", \"c\"]"
   ]
  },
  {
   "cell_type": "code",
   "execution_count": null,
   "id": "b4fce963-9dd9-4b58-a306-47bdf771cc1c",
   "metadata": {},
   "outputs": [],
   "source": [
    "x = np.array(a)"
   ]
  },
  {
   "cell_type": "code",
   "execution_count": null,
   "id": "549fd833-5b22-4679-a2e1-97895a8e1b8a",
   "metadata": {},
   "outputs": [],
   "source": [
    "x"
   ]
  },
  {
   "cell_type": "code",
   "execution_count": null,
   "id": "c5894aed-b8d0-4290-bf6f-9431a01c8ab4",
   "metadata": {},
   "outputs": [],
   "source": [
    "y = pa.array(x)"
   ]
  },
  {
   "cell_type": "code",
   "execution_count": null,
   "id": "4bb797d1-b0d2-49a2-adcc-cbe5c018d9b7",
   "metadata": {},
   "outputs": [],
   "source": [
    "y"
   ]
  },
  {
   "cell_type": "code",
   "execution_count": null,
   "id": "9bd45550-e40b-4088-93ad-68522134fe7a",
   "metadata": {},
   "outputs": [],
   "source": [
    "x"
   ]
  },
  {
   "cell_type": "code",
   "execution_count": null,
   "id": "66e255aa-12c7-40b2-9d2d-9025dc83f34f",
   "metadata": {},
   "outputs": [],
   "source": [
    "apache_arrow = pa.Tensor.from_numpy(obj=x)"
   ]
  },
  {
   "cell_type": "code",
   "execution_count": null,
   "id": "d6bba8fe-237d-4aec-98a5-f0416afb914b",
   "metadata": {},
   "outputs": [],
   "source": [
    "rb = pa.RecordBatch.from_pylist([{\"entity\":x}])"
   ]
  },
  {
   "cell_type": "code",
   "execution_count": null,
   "id": "2f5a51a1-9e48-4209-b707-0f56381c179f",
   "metadata": {},
   "outputs": [],
   "source": [
    "rb"
   ]
  },
  {
   "cell_type": "code",
   "execution_count": null,
   "id": "e9578b24-fc74-41d1-8173-1514f2ab24aa",
   "metadata": {},
   "outputs": [],
   "source": [
    "y = rb[0].to_numpy(zero_copy_only=False)"
   ]
  },
  {
   "cell_type": "code",
   "execution_count": null,
   "id": "9c97146b-6db4-468f-b003-eb145f619874",
   "metadata": {},
   "outputs": [],
   "source": [
    "y"
   ]
  },
  {
   "cell_type": "code",
   "execution_count": null,
   "id": "a9c8f9a6-eda8-46a5-b112-e60c122a5671",
   "metadata": {},
   "outputs": [],
   "source": []
  }
 ],
 "metadata": {
  "kernelspec": {
   "display_name": "Python 3 (ipykernel)",
   "language": "python",
   "name": "python3"
  },
  "language_info": {
   "codemirror_mode": {
    "name": "ipython",
    "version": 3
   },
   "file_extension": ".py",
   "mimetype": "text/x-python",
   "name": "python",
   "nbconvert_exporter": "python",
   "pygments_lexer": "ipython3",
   "version": "3.9.9"
  }
 },
 "nbformat": 4,
 "nbformat_minor": 5
}
