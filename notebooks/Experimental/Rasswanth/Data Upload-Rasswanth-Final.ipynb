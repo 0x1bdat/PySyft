{
 "cells": [
  {
   "cell_type": "code",
   "execution_count": 2,
   "id": "994642ce",
   "metadata": {},
   "outputs": [
    {
     "name": "stdout",
     "output_type": "stream",
     "text": [
      "The autoreload extension is already loaded. To reload it, use:\n",
      "  %reload_ext autoreload\n"
     ]
    }
   ],
   "source": [
    "%load_ext autoreload\n",
    "%autoreload 2\n",
    "# %load_ext line_profiler\n",
    "import numpy as np\n",
    "import pandas as pd\n",
    "# import torch\n",
    "# import gc\n",
    "import syft as sy\n",
    "from syft.core.adp.entity import Entity\n",
    "# from pympler.asizeof import asizeof #pip install pympler\n",
    "from syft import serialize\n",
    "from syft import deserialize\n",
    "import timeit\n",
    "# from syft.core.tensor.autodp.dp_tensor_converter import convert_to_gamma_tensor\n",
    "\n",
    "# from functools import reduce\n",
    "import time\n",
    "import pyarrow as pa"
   ]
  },
  {
   "cell_type": "code",
   "execution_count": 3,
   "id": "198ade1b",
   "metadata": {},
   "outputs": [
    {
     "name": "stdout",
     "output_type": "stream",
     "text": [
      "Number of Rows:  1000000\n",
      "1000000\n"
     ]
    }
   ],
   "source": [
    "df = pd.read_parquet(\"1M_rows_dataset_sample.parquet\")\n",
    "print(\"Number of Rows: \",df.shape[0])\n",
    "df.head()\n",
    "print(df.shape[0])"
   ]
  },
  {
   "cell_type": "code",
   "execution_count": 4,
   "id": "8edb1b8e",
   "metadata": {},
   "outputs": [],
   "source": [
    "factor = 1\n",
    "df = pd.concat([df] * factor, ignore_index=True)"
   ]
  },
  {
   "cell_type": "code",
   "execution_count": 5,
   "id": "b6432db9",
   "metadata": {},
   "outputs": [
    {
     "data": {
      "text/plain": [
       "1.0"
      ]
     },
     "execution_count": 5,
     "metadata": {},
     "output_type": "execute_result"
    }
   ],
   "source": [
    "df.shape[0] / 1e6"
   ]
  },
  {
   "cell_type": "code",
   "execution_count": 3,
   "id": "c767668e",
   "metadata": {
    "jupyter": {
     "source_hidden": true
    },
    "tags": []
   },
   "outputs": [
    {
     "name": "stdout",
     "output_type": "stream",
     "text": [
      "WARNING: CHANGE YOUR USERNAME AND PASSWORD!!! \n",
      "\n",
      "Anyone can login as an admin to your node right now because your password is still the default PySyft username and password!!!\n",
      "\n",
      "Connecting to None... done! \t Logging into canada... done!\n"
     ]
    }
   ],
   "source": [
    "# Let's login into the domain node\n",
    "domain_node = sy.login(email=\"info@openmined.org\", password=\"changethis\", port=8081)"
   ]
  },
  {
   "cell_type": "code",
   "execution_count": 6,
   "id": "706b4f1c",
   "metadata": {},
   "outputs": [
    {
     "name": "stdout",
     "output_type": "stream",
     "text": [
      "CPU times: user 137 ms, sys: 8.15 ms, total: 145 ms\n",
      "Wall time: 144 ms\n"
     ]
    }
   ],
   "source": [
    "%%time\n",
    "name = \"Tweets- 100000 rows dataset \"\n",
    "impressions = ((np.array(list(df['impressions'])))).astype(np.int32)\n",
    "publication_title = ((list(df['publication_title'])))"
   ]
  },
  {
   "cell_type": "code",
   "execution_count": 7,
   "id": "098d740b",
   "metadata": {},
   "outputs": [
    {
     "name": "stdout",
     "output_type": "stream",
     "text": [
      "CPU times: user 4.53 s, sys: 459 ms, total: 4.99 s\n",
      "Wall time: 4.99 s\n"
     ]
    }
   ],
   "source": [
    "%%time\n",
    "entities = list()\n",
    "for i in range(len(publication_title)):\n",
    "    entities.append(Entity(name=publication_title[i]))"
   ]
  },
  {
   "cell_type": "code",
   "execution_count": 8,
   "id": "8f5383da",
   "metadata": {},
   "outputs": [
    {
     "name": "stdout",
     "output_type": "stream",
     "text": [
      "0.29117679595947266\n"
     ]
    }
   ],
   "source": [
    "t0 = time.time()\n",
    "tweets_data = sy.Tensor(impressions).private(min_val=0, max_val=30, entities = entities)\n",
    "tf = time.time() - t0\n",
    "print(tf)"
   ]
  },
  {
   "cell_type": "code",
   "execution_count": 23,
   "id": "df8bf10c",
   "metadata": {},
   "outputs": [],
   "source": [
    "f = 10\n",
    "tweets_data.child.child = tweets_data.child.child.repeat(f)\n",
    "entities =pa.array([\"ishan\" for i in range(1_000_000_000)])\n",
    "tweets_data.child._entities = entities"
   ]
  },
  {
   "cell_type": "code",
   "execution_count": 24,
   "id": "481ae62c",
   "metadata": {},
   "outputs": [
    {
     "data": {
      "text/plain": [
       "1000.0"
      ]
     },
     "execution_count": 24,
     "metadata": {},
     "output_type": "execute_result"
    }
   ],
   "source": [
    "len(tweets_data.child.child)/1e6"
   ]
  },
  {
   "cell_type": "code",
   "execution_count": 25,
   "id": "f8fdfcfa",
   "metadata": {},
   "outputs": [
    {
     "data": {
      "text/plain": [
       "1000.0"
      ]
     },
     "execution_count": 25,
     "metadata": {},
     "output_type": "execute_result"
    }
   ],
   "source": [
    "len(tweets_data.child._entities)/1e6"
   ]
  },
  {
   "cell_type": "code",
   "execution_count": 19,
   "id": "76e191bc",
   "metadata": {
    "collapsed": true,
    "jupyter": {
     "outputs_hidden": true
    }
   },
   "outputs": [
    {
     "data": {
      "text/plain": [
       "Timer unit: 1e-06 s\n",
       "\n",
       "Total time: 5e-06 s\n",
       "File: /home/azureuser/PySyft/packages/syft/src/syft/core/adp/entity.py\n",
       "Function: simple_assets_for_serde at line 111\n",
       "\n",
       "Line #      Hits         Time  Per Hit   % Time  Line Contents\n",
       "==============================================================\n",
       "   111                                               def simple_assets_for_serde(self) -> list:\n",
       "   112                                                   # assets = list()\n",
       "   113                                                   # assets.append(self.name)\n",
       "   114                                                   # bytes_value = self.id.get_bytes\n",
       "   115                                                   # assets.append(bytes_value)  # type: ignore\n",
       "   116                                                   # return assets\n",
       "   117         1          5.0      5.0    100.0          return [self.name, self.id.get_bytes]"
      ]
     },
     "metadata": {},
     "output_type": "display_data"
    }
   ],
   "source": [
    "%lprun -f tweets_data.child.child[0].entity.simple_assets_for_serde tweets_data.child.child[0].entity.simple_assets_for_serde()"
   ]
  },
  {
   "cell_type": "code",
   "execution_count": null,
   "id": "f2091864",
   "metadata": {},
   "outputs": [],
   "source": [
    "%lprun -f tweets_data.child.arrow_serialize tweets_data.child.arrow_serialize()"
   ]
  },
  {
   "cell_type": "code",
   "execution_count": 26,
   "id": "c50e2c32",
   "metadata": {
    "tags": []
   },
   "outputs": [
    {
     "name": "stdout",
     "output_type": "stream",
     "text": [
      "Total Size:  9000.367187\n",
      "6.6546947956085205\n"
     ]
    }
   ],
   "source": [
    "# %%timeit\n",
    "start = time.time()\n",
    "tweets_data.child.arrow_serialize()\n",
    "end= time.time()\n",
    "print(end-start)"
   ]
  },
  {
   "cell_type": "code",
   "execution_count": 13,
   "id": "8d42f1d5",
   "metadata": {
    "jupyter": {
     "source_hidden": true
    },
    "tags": []
   },
   "outputs": [
    {
     "ename": "AttributeError",
     "evalue": "'numpy.int32' object has no attribute 'scalar_manager'",
     "output_type": "error",
     "traceback": [
      "\u001b[0;31m---------------------------------------------------------------------------\u001b[0m",
      "\u001b[0;31mAttributeError\u001b[0m                            Traceback (most recent call last)",
      "\u001b[0;32m/tmp/ipykernel_3364152/3711336538.py\u001b[0m in \u001b[0;36m<module>\u001b[0;34m\u001b[0m\n\u001b[0;32m----> 1\u001b[0;31m \u001b[0mtweets_data\u001b[0m\u001b[0;34m.\u001b[0m\u001b[0mchild\u001b[0m\u001b[0;34m.\u001b[0m\u001b[0mchild\u001b[0m\u001b[0;34m[\u001b[0m\u001b[0;36m0\u001b[0m\u001b[0;34m]\u001b[0m\u001b[0;34m.\u001b[0m\u001b[0mscalar_manager\u001b[0m\u001b[0;34m.\u001b[0m\u001b[0mprime2symbol\u001b[0m\u001b[0;34m\u001b[0m\u001b[0;34m\u001b[0m\u001b[0m\n\u001b[0m\u001b[1;32m      2\u001b[0m \u001b[0;34m\u001b[0m\u001b[0m\n\u001b[1;32m      3\u001b[0m \u001b[0;34m\u001b[0m\u001b[0m\n\u001b[1;32m      4\u001b[0m \u001b[0;34m\u001b[0m\u001b[0m\n\u001b[1;32m      5\u001b[0m \u001b[0;34m\u001b[0m\u001b[0m\n",
      "\u001b[0;31mAttributeError\u001b[0m: 'numpy.int32' object has no attribute 'scalar_manager'"
     ]
    }
   ],
   "source": [
    "tweets_data.child.child[0].scalar_manager.prime2symbol\n",
    "\n",
    "\n",
    "\n",
    "\n",
    "\n",
    "\n",
    "\n",
    "\n",
    "\n",
    "\n",
    "\n",
    "\n",
    "\n",
    "\n",
    "\n",
    "\n",
    "\n",
    "\n",
    "\n",
    "\n",
    "\n",
    "\n",
    "\n",
    "\n",
    "\n",
    "\n",
    "\n",
    "\n",
    "\n",
    "\n",
    "\n",
    "\n",
    "\n",
    "\n",
    "\n",
    "\n",
    "\n",
    "\n",
    "\n",
    "\n",
    "\n",
    "\n",
    "\n",
    "\n",
    "\n",
    "\n",
    "\n",
    "\n",
    "\n",
    "\n",
    "\n",
    "\n",
    "\n",
    "\n",
    "\n",
    "\n",
    "\n",
    "\n",
    "\n",
    "\n",
    "\n",
    "\n",
    "\n"
   ]
  },
  {
   "cell_type": "code",
   "execution_count": null,
   "id": "3b4ebb51",
   "metadata": {},
   "outputs": [],
   "source": [
    "%%time\n",
    "pa.serialize(np.random.rand(1_000_000))"
   ]
  },
  {
   "cell_type": "code",
   "execution_count": null,
   "id": "bb26e8fa",
   "metadata": {},
   "outputs": [],
   "source": [
    "%%time\n",
    "for i in range(1_000_000):\n",
    "    pa.serialize(np.random.rand(1))"
   ]
  },
  {
   "cell_type": "code",
   "execution_count": null,
   "id": "46ec0409",
   "metadata": {},
   "outputs": [],
   "source": []
  },
  {
   "cell_type": "code",
   "execution_count": null,
   "id": "1c173b15",
   "metadata": {},
   "outputs": [],
   "source": []
  },
  {
   "cell_type": "code",
   "execution_count": null,
   "id": "17a73ead",
   "metadata": {},
   "outputs": [],
   "source": []
  },
  {
   "cell_type": "code",
   "execution_count": null,
   "id": "77b42732",
   "metadata": {},
   "outputs": [],
   "source": []
  },
  {
   "cell_type": "code",
   "execution_count": null,
   "id": "7a5cf4b8",
   "metadata": {},
   "outputs": [],
   "source": []
  },
  {
   "cell_type": "code",
   "execution_count": null,
   "id": "580bab02",
   "metadata": {},
   "outputs": [],
   "source": []
  },
  {
   "cell_type": "code",
   "execution_count": null,
   "id": "3235720c",
   "metadata": {},
   "outputs": [],
   "source": [
    "%%time\n",
    "serialize(tweets_data.child.child[0],to_bytes=True)"
   ]
  },
  {
   "cell_type": "code",
   "execution_count": null,
   "id": "21a63ffb",
   "metadata": {},
   "outputs": [],
   "source": [
    "%%time\n",
    "result = tweets_data.sum()"
   ]
  },
  {
   "cell_type": "code",
   "execution_count": null,
   "id": "23e168c4",
   "metadata": {},
   "outputs": [],
   "source": [
    "tweets_data.child.serde_concurrency= 1"
   ]
  },
  {
   "cell_type": "code",
   "execution_count": null,
   "id": "c4e8f0d8",
   "metadata": {},
   "outputs": [],
   "source": [
    "#measuring size of objects in python is not easy, \n",
    "#as there might be several references in a user defined class\n",
    "#we pympler library to measure the size of an object.\n",
    "#pymler does not give an exact size on disk, but a close accurate instead of sys.getsizeof()\n",
    "\n",
    "print(\"Size of Twitter Tensor Data(MB) ====> \" , asizeof(tweets_data)/(1024*1024)) "
   ]
  },
  {
   "cell_type": "code",
   "execution_count": null,
   "id": "fdfb64e2",
   "metadata": {
    "tags": []
   },
   "outputs": [],
   "source": [
    "#Twitter data serialization.\n",
    "start = timeit.default_timer()\n",
    "serialized_data = serialize(tweets_data,to_bytes=True)\n",
    "end = timeit.default_timer()\n",
    "print(\"Serialization Time =====>\" , end-start,\" seconds\" )\n",
    "print(\"Twitter Serialized Data Size \",len(serialized_data)/(1024*1024))\n"
   ]
  },
  {
   "cell_type": "code",
   "execution_count": null,
   "id": "d9a19b90",
   "metadata": {
    "tags": []
   },
   "outputs": [],
   "source": [
    "%lprun -f tweets_data.child._object2proto tweets_data.child._object2proto()"
   ]
  },
  {
   "cell_type": "code",
   "execution_count": null,
   "id": "401ddf38",
   "metadata": {},
   "outputs": [],
   "source": [
    "#Twitter data derserialization\n",
    "start = timeit.default_timer()\n",
    "deserialized_data = deserialize(serialized_data,from_bytes=True)\n",
    "end = timeit.default_timer()\n",
    "print(\"Deserialization Time =====>\" , end-start,\" seconds\" )\n",
    "print(\"Twitter Deserialized Data Size \",asizeof(deserialized_data)/(1024*1024))\n"
   ]
  },
  {
   "cell_type": "code",
   "execution_count": null,
   "id": "73a3301a",
   "metadata": {
    "tags": []
   },
   "outputs": [],
   "source": [
    "%%time\n",
    "#Uploading Dataset....\n",
    "domain_node.load_dataset(\n",
    "assets={\"tweets\": tweets_data},\n",
    "name=name,\n",
    "description=\"\"\"Tweets- 1M rows \"\"\"\n",
    ")\n",
    "\n",
    "#The main bottleneck is the serialization as uploading dataset is a blocking call(immediate_msg_with_reply), \n",
    "#bottleneck = serialization at client + DeSerialization at node\n"
   ]
  },
  {
   "cell_type": "code",
   "execution_count": null,
   "id": "8bc88069",
   "metadata": {},
   "outputs": [],
   "source": [
    "domain_node.datasets"
   ]
  },
  {
   "cell_type": "code",
   "execution_count": null,
   "id": "dea89923",
   "metadata": {},
   "outputs": [],
   "source": [
    "dataset = domain_node.datasets[0][\"tweets\"]"
   ]
  },
  {
   "cell_type": "code",
   "execution_count": null,
   "id": "de5372c1",
   "metadata": {},
   "outputs": [],
   "source": [
    "%%time\n",
    "res = dataset.sum()\n",
    "res.block"
   ]
  },
  {
   "cell_type": "code",
   "execution_count": null,
   "id": "deadcb75",
   "metadata": {},
   "outputs": [],
   "source": [
    "res.exists"
   ]
  },
  {
   "cell_type": "code",
   "execution_count": null,
   "id": "89430fab",
   "metadata": {},
   "outputs": [],
   "source": [
    "res = res.publish(sigma=0.1)"
   ]
  },
  {
   "cell_type": "code",
   "execution_count": null,
   "id": "6d9f02c5",
   "metadata": {},
   "outputs": [],
   "source": [
    "res.get()"
   ]
  },
  {
   "cell_type": "code",
   "execution_count": null,
   "id": "c4e9efa5",
   "metadata": {},
   "outputs": [],
   "source": [
    "l = tweets_data.child.child"
   ]
  },
  {
   "cell_type": "code",
   "execution_count": null,
   "id": "0d44b7dc",
   "metadata": {},
   "outputs": [],
   "source": [
    "a = l[0]\n",
    "b= l[50611]\n",
    "c = l[83931]\n",
    "print(a)\n",
    "print(b)\n",
    "print(c)"
   ]
  },
  {
   "cell_type": "code",
   "execution_count": null,
   "id": "0973a69c",
   "metadata": {},
   "outputs": [],
   "source": [
    "split_lst=[]\n",
    "d = {}\n",
    "c=0\n",
    "for i in l:\n",
    "    if i.entity not in d:\n",
    "        d[i.entity]=c\n",
    "        split_lst.append([i])\n",
    "        c+=1\n",
    "    else:\n",
    "        split_lst[d[i.entity]].append(i)\n",
    "        "
   ]
  },
  {
   "cell_type": "code",
   "execution_count": null,
   "id": "674b61aa",
   "metadata": {
    "tags": []
   },
   "outputs": [],
   "source": [
    "first= split_lst[0]\n",
    "second = split_lst[1]\n",
    "third = split_lst[2]\n",
    "fourth = split_lst[3]\n"
   ]
  },
  {
   "cell_type": "code",
   "execution_count": null,
   "id": "e3c2db9e",
   "metadata": {},
   "outputs": [],
   "source": [
    "def list_sum(lst):\n",
    "    s=lst[0]\n",
    "    for i in range(1,len(lst)):\n",
    "        s+=lst[i]\n",
    "    return s"
   ]
  },
  {
   "cell_type": "code",
   "execution_count": null,
   "id": "06323e77",
   "metadata": {},
   "outputs": [],
   "source": [
    "s=first[0]\n",
    "for i in first[1::]:\n",
    "    s=s+i\n",
    "print(\"final: \",s)\n",
    "    "
   ]
  },
  {
   "cell_type": "code",
   "execution_count": null,
   "id": "0e3e1205",
   "metadata": {},
   "outputs": [],
   "source": [
    "def lst_sum(a,b):\n",
    "    return a+b"
   ]
  },
  {
   "cell_type": "code",
   "execution_count": null,
   "id": "d0d01aac",
   "metadata": {},
   "outputs": [],
   "source": [
    "t1 = reduce(lst_sum,first)\n",
    "t2 = reduce(lst_sum,second)\n",
    "t3 = reduce(lst_sum,third)\n",
    "t4 = reduce(lst_sum,fourth)"
   ]
  },
  {
   "cell_type": "code",
   "execution_count": null,
   "id": "4fb50eff",
   "metadata": {},
   "outputs": [],
   "source": [
    "%%time\n",
    "r1 = t1+t2\n",
    "r2 = t3+t4"
   ]
  },
  {
   "cell_type": "code",
   "execution_count": null,
   "id": "864a0792",
   "metadata": {},
   "outputs": [],
   "source": [
    "tweets_data.child.child[1].dtype"
   ]
  },
  {
   "cell_type": "code",
   "execution_count": 27,
   "id": "f82c4977",
   "metadata": {},
   "outputs": [],
   "source": [
    "from syft.core.adp.entity import Entity"
   ]
  },
  {
   "cell_type": "code",
   "execution_count": 28,
   "id": "32ac7128",
   "metadata": {},
   "outputs": [],
   "source": [
    "a = Entity(\"a\")\n",
    "b = Entity(\"a\")"
   ]
  },
  {
   "cell_type": "code",
   "execution_count": 29,
   "id": "09bdc0bf",
   "metadata": {},
   "outputs": [
    {
     "data": {
      "text/plain": [
       "True"
      ]
     },
     "execution_count": 29,
     "metadata": {},
     "output_type": "execute_result"
    }
   ],
   "source": [
    "a == b"
   ]
  },
  {
   "cell_type": "code",
   "execution_count": 30,
   "id": "0e4c5627",
   "metadata": {},
   "outputs": [
    {
     "data": {
      "text/plain": [
       "<UID: 92ab836f2a574724a1ebd235d856bedd>"
      ]
     },
     "execution_count": 30,
     "metadata": {},
     "output_type": "execute_result"
    }
   ],
   "source": [
    "a.id"
   ]
  },
  {
   "cell_type": "code",
   "execution_count": 31,
   "id": "e45de3ea",
   "metadata": {},
   "outputs": [
    {
     "data": {
      "text/plain": [
       "<UID: 831baa758e384f9098fd4838af50a8a7>"
      ]
     },
     "execution_count": 31,
     "metadata": {},
     "output_type": "execute_result"
    }
   ],
   "source": [
    "b.id"
   ]
  },
  {
   "cell_type": "code",
   "execution_count": null,
   "id": "3d73dfeb",
   "metadata": {},
   "outputs": [],
   "source": []
  }
 ],
 "metadata": {
  "kernelspec": {
   "display_name": "syft_dev",
   "language": "python",
   "name": "syft_dev"
  },
  "language_info": {
   "codemirror_mode": {
    "name": "ipython",
    "version": 3
   },
   "file_extension": ".py",
   "mimetype": "text/x-python",
   "name": "python",
   "nbconvert_exporter": "python",
   "pygments_lexer": "ipython3",
   "version": "3.9.7"
  }
 },
 "nbformat": 4,
 "nbformat_minor": 5
}
