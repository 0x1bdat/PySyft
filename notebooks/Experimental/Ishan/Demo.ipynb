{
 "cells": [
  {
   "cell_type": "code",
   "execution_count": 2,
   "id": "2e73b577-5eee-4a9c-b28f-46aa2b06ee81",
   "metadata": {},
   "outputs": [],
   "source": [
    "import syft as sy\n",
    "import torch\n",
    "import numpy as np\n",
    "from syft.core.adp.entity import Entity"
   ]
  },
  {
   "cell_type": "code",
   "execution_count": 3,
   "id": "50b917c4-6f0a-4673-b742-046a03ee7547",
   "metadata": {},
   "outputs": [
    {
     "name": "stdout",
     "output_type": "stream",
     "text": [
      "Connecting to http://localhost:8081... done! \t Logging into adp... done!\n"
     ]
    }
   ],
   "source": [
    "# Login to new Domain \n",
    "uk = sy.login(email=\"info@openmined.org\", password=\"changethis\", port=8081)"
   ]
  },
  {
   "cell_type": "code",
   "execution_count": 4,
   "id": "87f773a4-8372-484c-a5e9-dd9240b8bc6a",
   "metadata": {
    "tags": []
   },
   "outputs": [],
   "source": [
    "# Load some sample data\n",
    "data_batch = np.random.rand(1, 3)\n",
    "label_batch = np.random.rand(1, 3)\n",
    "\n",
    "ishan = Entity(name=\"Ishan\")\n",
    "\n",
    "# Step 1: upload a private dataset as the root owner\n",
    "data = sy.Tensor(data_batch).private(0, 120, entity=ishan).autograd(requires_grad=True).tag(\"data\")\n",
    "target = sy.Tensor(label_batch).private(0.01, 1, entity=ishan).autograd(requires_grad=True).tag(\"target\")\n",
    "\n",
    "assert(type(data) == type(target)), \"Data wasn't initialized correctly\""
   ]
  },
  {
   "cell_type": "code",
   "execution_count": 5,
   "id": "cf0ca05b-128d-4682-993b-db8ad7bfaa1b",
   "metadata": {},
   "outputs": [
    {
     "data": {
      "text/plain": [
       "<syft.proxy.syft.core.tensor.tensor.TensorPointer at 0x1457dbbe0>"
      ]
     },
     "execution_count": 5,
     "metadata": {},
     "output_type": "execute_result"
    }
   ],
   "source": [
    "# Step 2: Send data\n",
    "data.send(uk)"
   ]
  },
  {
   "cell_type": "code",
   "execution_count": null,
   "id": "8e5eefdd-656f-43df-8693-40e843dcbbe1",
   "metadata": {},
   "outputs": [],
   "source": [
    "# Step 3: Verify data was logged correctly\n"
   ]
  },
  {
   "cell_type": "code",
   "execution_count": null,
   "id": "61f7047f-8784-438b-8d2c-c5fb3e5dbcd7",
   "metadata": {},
   "outputs": [],
   "source": []
  },
  {
   "cell_type": "code",
   "execution_count": null,
   "id": "834d3945-ba39-485e-90e6-18c64914610f",
   "metadata": {},
   "outputs": [],
   "source": []
  },
  {
   "cell_type": "code",
   "execution_count": null,
   "id": "5543cc90-994d-428f-bdea-b167233a0d21",
   "metadata": {},
   "outputs": [],
   "source": []
  }
 ],
 "metadata": {
  "kernelspec": {
   "display_name": "Python 3 (ipykernel)",
   "language": "python",
   "name": "python3"
  },
  "language_info": {
   "codemirror_mode": {
    "name": "ipython",
    "version": 3
   },
   "file_extension": ".py",
   "mimetype": "text/x-python",
   "name": "python",
   "nbconvert_exporter": "python",
   "pygments_lexer": "ipython3",
   "version": "3.9.1"
  }
 },
 "nbformat": 4,
 "nbformat_minor": 5
}
