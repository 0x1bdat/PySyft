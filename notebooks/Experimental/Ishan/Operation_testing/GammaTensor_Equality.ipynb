{
 "cells": [
  {
   "cell_type": "code",
   "execution_count": 1,
   "id": "bd04d5a5-3e60-4398-8a83-7ed3dfad5944",
   "metadata": {},
   "outputs": [],
   "source": [
    "import syft as sy\n",
    "import numpy as np\n",
    "from sqlalchemy import create_engine\n",
    "from syft.core.node.common.node_table import Base\n",
    "from nacl.encoding import HexEncoder\n",
    "from nacl.signing import SigningKey\n",
    "from syft.core.adp.scalar.gamma_scalar import GammaScalar\n",
    "from syft.core.tensor.autodp.initial_gamma import InitialGammaTensor\n",
    "from syft.core.tensor.autodp.intermediate_gamma import IntermediateGammaTensor\n",
    "from syft.core.adp.entity import Entity\n",
    "from syft.core.adp.entity import DataSubjectGroup\n",
    "from syft.core.adp.adversarial_accountant import AdversarialAccountant\n",
    "from syft.core.io.virtual import create_virtual_connection"
   ]
  },
  {
   "cell_type": "code",
   "execution_count": 2,
   "id": "2d0108ef-75db-47d3-bd9d-17d591bfaee5",
   "metadata": {},
   "outputs": [
    {
     "name": "stdout",
     "output_type": "stream",
     "text": [
      "Setup hasnt run yet so ignoring set_node_uid\n",
      "Performing initial setup...\n"
     ]
    }
   ],
   "source": [
    "# Initialize domain node\n",
    "alice = sy.Domain(\"alice\").initial_setup()"
   ]
  },
  {
   "cell_type": "code",
   "execution_count": 3,
   "id": "4c9e6441-cdd7-4480-a671-95364b1f7738",
   "metadata": {},
   "outputs": [],
   "source": [
    "# Data\n",
    "child = np.array([1,2,3,4], dtype=np.int32)"
   ]
  },
  {
   "cell_type": "code",
   "execution_count": 4,
   "id": "288d54df-d7db-443c-8b4a-767dc3d78544",
   "metadata": {},
   "outputs": [],
   "source": [
    "# Entities\n",
    "traskmaster = Entity(name=\"Andrew\")\n",
    "amber = Entity(name=\"Amber\")\n",
    "DSG = DataSubjectGroup([traskmaster, amber])\n",
    "\n",
    "ent1 = np.array([traskmaster, traskmaster, traskmaster, traskmaster], dtype=object)\n",
    "ent2 = np.array([amber, amber, amber, amber], dtype=object)"
   ]
  },
  {
   "cell_type": "code",
   "execution_count": 5,
   "id": "dbc2d5d1-3ad1-465e-8166-30012329e1df",
   "metadata": {},
   "outputs": [],
   "source": [
    "# gs = GammaScalar(min_val=0, max_val=5, value=3, prime=13, entity=traskmaster)\n",
    "tensor1 = InitialGammaTensor(values=child, min_vals=np.zeros_like(child), max_vals=np.ones_like(child) * 5, entities=ent1)\n",
    "tensor2 = InitialGammaTensor(values=child, min_vals=np.zeros_like(child), max_vals=np.ones_like(child)* 5, entities=ent2)"
   ]
  },
  {
   "cell_type": "code",
   "execution_count": 6,
   "id": "fa51db77-ba1b-4d26-b5d0-973104f52ee5",
   "metadata": {},
   "outputs": [
    {
     "name": "stdout",
     "output_type": "stream",
     "text": [
      "\n",
      "\n",
      "Has Budget:True\n",
      "YOU'VE SPENT:0.8999352676606419\n",
      "USER BUDGET:5.55\n"
     ]
    },
    {
     "name": "stderr",
     "output_type": "stream",
     "text": [
      "/home/e/.local/lib/python3.8/site-packages/scipy/optimize/optimize.py:2621: RuntimeWarning: invalid value encountered in double_scalars\n",
      "  w = xb - ((xb - xc) * tmp2 - (xb - xa) * tmp1) / denom\n"
     ]
    },
    {
     "data": {
      "text/plain": [
       "array([-61.10096114,  62.53936008,  15.55809723, -38.47603157])"
      ]
     },
     "execution_count": 6,
     "metadata": {},
     "output_type": "execute_result"
    }
   ],
   "source": [
    "tensor1.publish(sigma=50, acc=alice.acc, user_key=alice.verify_key)"
   ]
  },
  {
   "cell_type": "code",
   "execution_count": 7,
   "id": "360e135d-a9dd-4173-b8af-eefa36e17582",
   "metadata": {},
   "outputs": [
    {
     "name": "stdout",
     "output_type": "stream",
     "text": [
      "Andrew\t0.8999352676606419\n"
     ]
    }
   ],
   "source": [
    "alice.acc.print_ledger()"
   ]
  },
  {
   "cell_type": "code",
   "execution_count": 9,
   "id": "4d45a48c-d16d-4e0d-8dcb-c7a921ce3cc9",
   "metadata": {},
   "outputs": [],
   "source": [
    "# Create a 1D IntermediateGammaTensor of just DSGs\n",
    "dsg_ent = np.array([DSG, DSG, DSG, DSG], dtype=object)\n",
    "tensor1 = InitialGammaTensor(values=child, min_vals=np.zeros_like(child), max_vals=np.ones_like(child) * 5, entities=dsg_ent)\n",
    "IGT = tensor1 + tensor1"
   ]
  },
  {
   "cell_type": "code",
   "execution_count": 10,
   "id": "2e0adc41-0da1-40ab-8ef4-db941c18719e",
   "metadata": {},
   "outputs": [
    {
     "data": {
      "text/plain": [
       "array([2., 4., 6., 8.])"
      ]
     },
     "execution_count": 10,
     "metadata": {},
     "output_type": "execute_result"
    }
   ],
   "source": [
    "assert IGT._values().shape == IGT._entities().shape"
   ]
  },
  {
   "cell_type": "code",
   "execution_count": 12,
   "id": "62764da8-bf6b-4c3f-8a4a-9ccc8e194fac",
   "metadata": {},
   "outputs": [],
   "source": [
    "entities = IGT._entities()\n",
    "\n",
    "print(len(entities))\n",
    "for i, e in enumerate(entities):\n",
    "    print(f'index = {i} of type = {type(e)} with value = {e}')"
   ]
  },
  {
   "cell_type": "code",
   "execution_count": 24,
   "id": "39c3907f-1245-46da-93b1-466fc9f5ba0d",
   "metadata": {},
   "outputs": [],
   "source": []
  },
  {
   "cell_type": "code",
   "execution_count": 15,
   "id": "f8bada5b-7288-4ade-b550-986131fad4d6",
   "metadata": {},
   "outputs": [
    {
     "data": {
      "text/plain": [
       "(4,)"
      ]
     },
     "execution_count": 15,
     "metadata": {},
     "output_type": "execute_result"
    }
   ],
   "source": []
  },
  {
   "cell_type": "code",
   "execution_count": 16,
   "id": "d14a6a5d-e8f1-4b85-8afa-059811c1a0c1",
   "metadata": {},
   "outputs": [
    {
     "data": {
      "text/plain": [
       "array([DSG['<Entity:Amber>', '<Entity:Andrew>'],\n",
       "       DSG['<Entity:Amber>', '<Entity:Andrew>'],\n",
       "       DSG['<Entity:Amber>', '<Entity:Andrew>'],\n",
       "       DSG['<Entity:Amber>', '<Entity:Andrew>']], dtype=object)"
      ]
     },
     "execution_count": 16,
     "metadata": {},
     "output_type": "execute_result"
    }
   ],
   "source": [
    "np.array(IGT._entities()).reshape(IGT.shape)"
   ]
  },
  {
   "cell_type": "code",
   "execution_count": 17,
   "id": "5c2aed3c-f92e-4322-98a6-445e92d46647",
   "metadata": {},
   "outputs": [
    {
     "data": {
      "text/plain": [
       "DSG['<Entity:Amber>', '<Entity:Andrew>']"
      ]
     },
     "execution_count": 17,
     "metadata": {},
     "output_type": "execute_result"
    }
   ],
   "source": [
    "IGT.flat_scalars[0].input_scalars[0].entity"
   ]
  },
  {
   "cell_type": "code",
   "execution_count": 18,
   "id": "e50ac540-fb2a-447f-ae7c-e79d5216a83b",
   "metadata": {},
   "outputs": [
    {
     "data": {
      "text/plain": [
       "[<IntermediateGammaScalar: (0.0 < 2.0 < 10.0)>,\n",
       " <IntermediateGammaScalar: (0.0 < 4.0 < 10.0)>,\n",
       " <IntermediateGammaScalar: (0.0 < 6.0 < 10.0)>,\n",
       " <IntermediateGammaScalar: (0.0 < 8.0 < 10.0)>]"
      ]
     },
     "execution_count": 18,
     "metadata": {},
     "output_type": "execute_result"
    }
   ],
   "source": [
    "IGT.flat_scalars"
   ]
  },
  {
   "cell_type": "code",
   "execution_count": 19,
   "id": "453cdb41-5a3f-4875-a69f-3103209b4e1f",
   "metadata": {},
   "outputs": [
    {
     "name": "stdout",
     "output_type": "stream",
     "text": [
      "\n",
      "\n",
      "Has Budget:True\n",
      "YOU'VE SPENT:0.0\n",
      "USER BUDGET:5.55\n",
      "\n",
      "\n",
      "Has Budget:True\n",
      "YOU'VE SPENT:0.8999352676606419\n",
      "USER BUDGET:5.55\n"
     ]
    },
    {
     "data": {
      "text/plain": [
       "array([ 68.47188461, -32.9585616 , -37.93729601,  57.51212366])"
      ]
     },
     "execution_count": 19,
     "metadata": {},
     "output_type": "execute_result"
    }
   ],
   "source": [
    "tensor1.publish(sigma=50, acc=alice.acc, user_key=alice.verify_key)"
   ]
  },
  {
   "cell_type": "code",
   "execution_count": null,
   "id": "551e7e6e-7532-4a04-9744-b42db866f98f",
   "metadata": {},
   "outputs": [],
   "source": []
  },
  {
   "cell_type": "code",
   "execution_count": 20,
   "id": "0df9350e-bdf7-4f43-a56a-5166a7e1fb46",
   "metadata": {},
   "outputs": [
    {
     "name": "stdout",
     "output_type": "stream",
     "text": [
      "Andrew\t1.3049911193525312\n",
      "Amber\t0.8999352676606419\n"
     ]
    }
   ],
   "source": [
    "alice.acc.print_ledger()"
   ]
  },
  {
   "cell_type": "code",
   "execution_count": null,
   "id": "aa443b1e-4027-4e82-914b-a5332402f9ad",
   "metadata": {},
   "outputs": [],
   "source": []
  },
  {
   "cell_type": "code",
   "execution_count": null,
   "id": "ef3a9c9d-012a-4715-88b0-a35988ba8d07",
   "metadata": {},
   "outputs": [],
   "source": []
  },
  {
   "cell_type": "code",
   "execution_count": 21,
   "id": "9825434f-d543-41a4-89c7-0528a27b171f",
   "metadata": {},
   "outputs": [
    {
     "name": "stdout",
     "output_type": "stream",
     "text": [
      "Andrew\t1.3049911193525312\n",
      "Amber\t0.8999352676606419\n"
     ]
    }
   ],
   "source": [
    "alice.acc.print_ledger()"
   ]
  },
  {
   "cell_type": "code",
   "execution_count": 22,
   "id": "300e6d52-2d56-42d6-b6cb-8f9336549db7",
   "metadata": {},
   "outputs": [
    {
     "data": {
      "text/plain": [
       "[<syft.core.node.common.node_table.mechanism.Mechanism at 0x7fa0ea3cc400>,\n",
       " <syft.core.node.common.node_table.mechanism.Mechanism at 0x7fa0ea3cca30>,\n",
       " <syft.core.node.common.node_table.mechanism.Mechanism at 0x7fa0ea3dc640>]"
      ]
     },
     "execution_count": 22,
     "metadata": {},
     "output_type": "execute_result"
    }
   ],
   "source": [
    "alice.acc.entity2ledger.mechanism_manager.all()"
   ]
  },
  {
   "cell_type": "code",
   "execution_count": 23,
   "id": "29204191-126a-4120-80b8-ef08e75e6ab7",
   "metadata": {},
   "outputs": [],
   "source": [
    "# conn = create_virtual_connection(alice)"
   ]
  },
  {
   "cell_type": "code",
   "execution_count": null,
   "id": "882bb4b3-9a0e-40f7-994e-b33a4ac3dc59",
   "metadata": {},
   "outputs": [],
   "source": []
  },
  {
   "cell_type": "code",
   "execution_count": null,
   "id": "553ef09a-e031-4e13-9fc6-8b42647175b2",
   "metadata": {},
   "outputs": [],
   "source": []
  }
 ],
 "metadata": {
  "kernelspec": {
   "display_name": "Python 3 (ipykernel)",
   "language": "python",
   "name": "python3"
  },
  "language_info": {
   "codemirror_mode": {
    "name": "ipython",
    "version": 3
   },
   "file_extension": ".py",
   "mimetype": "text/x-python",
   "name": "python",
   "nbconvert_exporter": "python",
   "pygments_lexer": "ipython3",
   "version": "3.8.11"
  }
 },
 "nbformat": 4,
 "nbformat_minor": 5
}
