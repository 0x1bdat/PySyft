{
 "cells": [
  {
   "cell_type": "markdown",
   "id": "ebcf4fed-6a8e-43b6-a758-46ec1a0e26be",
   "metadata": {},
   "source": [
    "# TODO\n",
    "\n",
    "- Make TensorPointer except IntegerEntityLists instead of Lists of Entity or string objects for NDEPT\n",
    "- Make sum work for Sy.Tensor when .child is an NDEPT\n",
    "- When the result of the above ^ is a GammaTensor, make Sy.Tensor able to have the GammaTensor as its self.child"
   ]
  },
  {
   "cell_type": "code",
   "execution_count": 1,
   "id": "45b6d6f8-c646-48cd-a5c7-79c76fd69cd6",
   "metadata": {},
   "outputs": [],
   "source": [
    "import syft as sy\n",
    "import numpy as np"
   ]
  },
  {
   "cell_type": "code",
   "execution_count": null,
   "id": "c1dfed9c-574a-44cd-97ec-47c36da775b1",
   "metadata": {},
   "outputs": [],
   "source": []
  }
 ],
 "metadata": {
  "kernelspec": {
   "display_name": "Python 3 (ipykernel)",
   "language": "python",
   "name": "python3"
  },
  "language_info": {
   "codemirror_mode": {
    "name": "ipython",
    "version": 3
   },
   "file_extension": ".py",
   "mimetype": "text/x-python",
   "name": "python",
   "nbconvert_exporter": "python",
   "pygments_lexer": "ipython3",
   "version": "3.9.7"
  }
 },
 "nbformat": 4,
 "nbformat_minor": 5
}
