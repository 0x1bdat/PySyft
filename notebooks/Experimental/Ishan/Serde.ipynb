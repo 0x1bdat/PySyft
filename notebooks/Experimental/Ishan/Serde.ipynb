{
 "cells": [
  {
   "cell_type": "code",
   "execution_count": 6,
   "id": "a1148054-2781-48c5-8e02-8cc3e2603610",
   "metadata": {},
   "outputs": [
    {
     "name": "stdout",
     "output_type": "stream",
     "text": [
      "The autoreload extension is already loaded. To reload it, use:\n",
      "  %reload_ext autoreload\n"
     ]
    }
   ],
   "source": [
    "%load_ext autoreload\n",
    "%load_ext line_profiler\n",
    "%autoreload 2\n",
    "\n",
    "import numpy as np\n",
    "import pandas as pd\n",
    "import syft as sy\n",
    "from syft.core.adp.entity import Entity\n",
    "# from pympler.asizeof import asizeof #pip install pympler\n",
    "from syft import serialize\n",
    "from syft import deserialize\n",
    "import timeit\n",
    "from syft.core.tensor.autodp.dp_tensor_converter import convert_to_gamma_tensor"
   ]
  },
  {
   "cell_type": "code",
   "execution_count": 7,
   "id": "944e282f-7d06-4b24-a9ac-2c5800fd2b06",
   "metadata": {},
   "outputs": [
    {
     "name": "stdout",
     "output_type": "stream",
     "text": [
      "Number of Rows:  1000000\n",
      "100\n"
     ]
    }
   ],
   "source": [
    "df = pd.read_parquet(\"1M_rows_dataset_sample.parquet\")\n",
    "print(\"Number of Rows: \",df.shape[0])\n",
    "df.head()\n",
    "df = df[:100]\n",
    "print(df.shape[0])"
   ]
  },
  {
   "cell_type": "code",
   "execution_count": 8,
   "id": "ff5993fd-492c-44de-bc51-3e9a739a0db0",
   "metadata": {},
   "outputs": [],
   "source": [
    "name = \"Tweets- 100000 rows dataset \"\n",
    "impressions = ((np.array(list(df['impressions'])))).astype(np.int32)\n",
    "publication_title = ((list(df['publication_title'])))\n",
    "\n",
    "entities = list()\n",
    "for i in range(len(publication_title)):\n",
    "    entities.append(Entity(name=publication_title[i]))\n",
    "\n",
    "tweets_data = sy.Tensor(impressions).private(min_val=0, max_val=30, entities = entities)"
   ]
  },
  {
   "cell_type": "code",
   "execution_count": 26,
   "id": "fc57df47-e207-44e7-be30-48e87de2c6f2",
   "metadata": {
    "collapsed": true,
    "jupyter": {
     "outputs_hidden": true
    },
    "tags": []
   },
   "outputs": [
    {
     "data": {
      "text/plain": [
       "Timer unit: 1e-06 s\n",
       "\n",
       "Total time: 0.035029 s\n",
       "File: /home/e/PycharmProjects/PySyft/packages/syft/src/syft/core/common/serde/serialize.py\n",
       "Function: _serialize at line 12\n",
       "\n",
       "Line #      Hits         Time  Per Hit   % Time  Line Contents\n",
       "==============================================================\n",
       "    12                                           def _serialize(\n",
       "    13                                               obj: object,\n",
       "    14                                               to_proto: bool = True,\n",
       "    15                                               to_bytes: bool = False,\n",
       "    16                                           ) -> Deserializeable:\n",
       "    17                                               \"\"\"Serialize the object according to the parameters.\n",
       "    18                                           \n",
       "    19                                               This method can be called directly on the syft module::\n",
       "    20                                           \n",
       "    21                                                   import syft as sy\n",
       "    22                                                   serialized_obj = sy.serialize(obj=my_object_to_serialize)\n",
       "    23                                           \n",
       "    24                                               This is the primary serialization method, which processes the above\n",
       "    25                                               flags in a particular order. In general, it is not expected that people\n",
       "    26                                               will set multiple to_<type> flags to True at the same time. We don't\n",
       "    27                                               currently have logic which prevents this, because this may affect\n",
       "    28                                               runtime performance, but if several flags are True, then we will simply\n",
       "    29                                               take return the type of latest supported flag from the following list:\n",
       "    30                                           \n",
       "    31                                                   - proto\n",
       "    32                                                   - binary\n",
       "    33                                           \n",
       "    34                                               TODO: we could also add \"dict\" to this list but it's not clear if it would be used.\n",
       "    35                                           \n",
       "    36                                               :param to_proto: set this flag to TRUE if you want to return a protobuf object\n",
       "    37                                               :type to_proto: bool\n",
       "    38                                               :param to_bytes: set this flag to TRUE if you want to return a binary object\n",
       "    39                                               :type to_bytes: bool\n",
       "    40                                               :return: a serialized form of the object on which serialize() is called.\n",
       "    41                                               :rtype: Union[str, bytes, Message]\n",
       "    42                                               \"\"\"\n",
       "    43                                           \n",
       "    44                                               # relative\n",
       "    45      1917       5012.0      2.6     14.3      from ....lib.python.primitive_factory import isprimitive\n",
       "    46                                           \n",
       "    47                                               # we have an unboxed primitive type so we need to mirror that on deserialize\n",
       "    48      1917       2627.0      1.4      7.5      if isprimitive(obj):\n",
       "    49                                                   # relative\n",
       "    50         4          8.0      2.0      0.0          from ....lib.python.primitive_factory import PrimitiveFactory\n",
       "    51                                           \n",
       "    52         4        333.0     83.2      1.0          obj = PrimitiveFactory.generate_primitive(value=obj, temporary_box=True)\n",
       "    53         4          4.0      1.0      0.0          if hasattr(obj, \"temporary_box\"):\n",
       "    54                                                       # TODO: can remove this once all of PrimitiveFactory.generate_primitive\n",
       "    55                                                       # supports temporary_box and is tested\n",
       "    56         2          2.0      1.0      0.0              obj.temporary_box = True  # type: ignore\n",
       "    57                                           \n",
       "    58      1917       1267.0      0.7      3.6      if hasattr(obj, \"_sy_serializable_wrapper_type\"):\n",
       "    59       302        448.0      1.5      1.3          is_serializable = obj._sy_serializable_wrapper_type(value=obj)  # type: ignore\n",
       "    60                                               else:\n",
       "    61      1615        777.0      0.5      2.2          is_serializable = obj\n",
       "    62                                           \n",
       "    63                                               # traceback_and_raise(\n",
       "    64                                               #     Exception(\n",
       "    65                                               #         f\"Object {type(obj)} is not serializable and has no _sy_serializable_wrapper_type\"\n",
       "    66                                               #     )\n",
       "    67                                               # )\n",
       "    68                                           \n",
       "    69      1917        944.0      0.5      2.7      if to_bytes:\n",
       "    70                                                   # debug(f\"Serializing {type(is_serializable)}\")\n",
       "    71                                                   # indent=None means no white space or \\n in the serialized version\n",
       "    72                                                   # this is compatible with json.dumps(x, indent=None)\n",
       "    73       705       2255.0      3.2      6.4          serialized_data = is_serializable._object2proto().SerializeToString()\n",
       "    74      1410       1536.0      1.1      4.4          blob: Message = DataMessage(\n",
       "    75       705       1319.0      1.9      3.8              obj_type=get_fully_qualified_name(obj=is_serializable),\n",
       "    76       705        378.0      0.5      1.1              content=serialized_data,\n",
       "    77                                                   )\n",
       "    78       705       1602.0      2.3      4.6          return validate_type(blob.SerializeToString(), bytes)\n",
       "    79      1212        602.0      0.5      1.7      elif to_proto:\n",
       "    80      1212      15915.0     13.1     45.4          return validate_type(is_serializable._object2proto(), Message)\n",
       "    81                                               else:\n",
       "    82                                                   traceback_and_raise(\n",
       "    83                                                       Exception(\n",
       "    84                                                           \"\"\"You must specify at least one deserialization format using\n",
       "    85                                                                   one of the arguments of the serialize() method such as:\n",
       "    86                                                                   to_proto, to_bytes.\"\"\"\n",
       "    87                                                       )\n",
       "    88                                                   )"
      ]
     },
     "metadata": {},
     "output_type": "display_data"
    }
   ],
   "source": [
    "%lprun -f serialize serialize(tweets_data.child.a)"
   ]
  },
  {
   "cell_type": "code",
   "execution_count": 27,
   "id": "9733d3c7-6e39-4f1f-826b-040dbdc0cc70",
   "metadata": {},
   "outputs": [],
   "source": [
    "import pyarrow as pa"
   ]
  },
  {
   "cell_type": "code",
   "execution_count": 34,
   "id": "210b66fc-5772-4def-b51d-1633fac22ac8",
   "metadata": {},
   "outputs": [
    {
     "ename": "SerializationCallbackError",
     "evalue": "pyarrow does not know how to serialize objects of type <class 'syft.core.adp.scalar.gamma_scalar.GammaScalar'>.",
     "output_type": "error",
     "traceback": [
      "\u001b[0;31m---------------------------------------------------------------------------\u001b[0m",
      "\u001b[0;31mSerializationCallbackError\u001b[0m                Traceback (most recent call last)",
      "\u001b[0;32m/tmp/ipykernel_29426/2396214304.py\u001b[0m in \u001b[0;36m<module>\u001b[0;34m\u001b[0m\n\u001b[0;32m----> 1\u001b[0;31m \u001b[0mtweets_data\u001b[0m\u001b[0;34m.\u001b[0m\u001b[0mchild\u001b[0m\u001b[0;34m.\u001b[0m\u001b[0mchild\u001b[0m\u001b[0;34m[\u001b[0m\u001b[0;36m0\u001b[0m\u001b[0;34m]\u001b[0m\u001b[0;34m.\u001b[0m\u001b[0marrow_serialize\u001b[0m\u001b[0;34m(\u001b[0m\u001b[0;34m)\u001b[0m\u001b[0;34m\u001b[0m\u001b[0;34m\u001b[0m\u001b[0m\n\u001b[0m",
      "\u001b[0;32m~/PycharmProjects/PySyft/packages/syft/src/syft/core/tensor/autodp/single_entity_phi.py\u001b[0m in \u001b[0;36marrow_serialize\u001b[0;34m(self)\u001b[0m\n\u001b[1;32m   2399\u001b[0m             \u001b[0mself\u001b[0m\u001b[0;34m.\u001b[0m\u001b[0mscalar_manager\u001b[0m\u001b[0;34m.\u001b[0m\u001b[0msimple_assets_for_serde\u001b[0m\u001b[0;34m(\u001b[0m\u001b[0;34m)\u001b[0m\u001b[0;34m,\u001b[0m\u001b[0;34m\u001b[0m\u001b[0;34m\u001b[0m\u001b[0m\n\u001b[1;32m   2400\u001b[0m         ]\n\u001b[0;32m-> 2401\u001b[0;31m         \u001b[0;32mreturn\u001b[0m \u001b[0mpa\u001b[0m\u001b[0;34m.\u001b[0m\u001b[0mserialize\u001b[0m\u001b[0;34m(\u001b[0m\u001b[0massets\u001b[0m\u001b[0;34m)\u001b[0m\u001b[0;34m.\u001b[0m\u001b[0mto_buffer\u001b[0m\u001b[0;34m(\u001b[0m\u001b[0;34m)\u001b[0m\u001b[0;34m\u001b[0m\u001b[0;34m\u001b[0m\u001b[0m\n\u001b[0m\u001b[1;32m   2402\u001b[0m \u001b[0;34m\u001b[0m\u001b[0m\n\u001b[1;32m   2403\u001b[0m     \u001b[0;32mdef\u001b[0m \u001b[0m_object2proto\u001b[0m\u001b[0;34m(\u001b[0m\u001b[0mself\u001b[0m\u001b[0;34m)\u001b[0m \u001b[0;34m->\u001b[0m \u001b[0mSingleEntityPhiTensor_PB\u001b[0m\u001b[0;34m:\u001b[0m\u001b[0;34m\u001b[0m\u001b[0;34m\u001b[0m\u001b[0m\n",
      "\u001b[0;32m~/anaconda3/envs/Hagrid/lib/python3.9/site-packages/pyarrow/serialization.pxi\u001b[0m in \u001b[0;36mpyarrow.lib.serialize\u001b[0;34m()\u001b[0m\n",
      "\u001b[0;32m~/anaconda3/envs/Hagrid/lib/python3.9/site-packages/pyarrow/serialization.pxi\u001b[0m in \u001b[0;36mpyarrow.lib._serialize\u001b[0;34m()\u001b[0m\n",
      "\u001b[0;32m~/anaconda3/envs/Hagrid/lib/python3.9/site-packages/pyarrow/serialization.pxi\u001b[0m in \u001b[0;36mpyarrow.lib.SerializationContext._serialize_callback\u001b[0;34m()\u001b[0m\n",
      "\u001b[0;31mSerializationCallbackError\u001b[0m: pyarrow does not know how to serialize objects of type <class 'syft.core.adp.scalar.gamma_scalar.GammaScalar'>."
     ]
    }
   ],
   "source": [
    "tweets_data.child.child[0].arrow_serialize()"
   ]
  },
  {
   "cell_type": "code",
   "execution_count": 13,
   "id": "0c92dbb0-8208-4810-9f0b-edc1b7a4d421",
   "metadata": {},
   "outputs": [
    {
     "data": {
      "text/plain": [
       "Timer unit: 1e-06 s\n",
       "\n",
       "Total time: 0.016595 s\n",
       "File: /home/e/PycharmProjects/PySyft/packages/syft/src/syft/core/common/serde/serialize.py\n",
       "Function: _serialize at line 12\n",
       "\n",
       "Line #      Hits         Time  Per Hit   % Time  Line Contents\n",
       "==============================================================\n",
       "    12                                           def _serialize(\n",
       "    13                                               obj: object,\n",
       "    14                                               to_proto: bool = True,\n",
       "    15                                               to_bytes: bool = False,\n",
       "    16                                           ) -> Deserializeable:\n",
       "    17                                               \"\"\"Serialize the object according to the parameters.\n",
       "    18                                           \n",
       "    19                                               This method can be called directly on the syft module::\n",
       "    20                                           \n",
       "    21                                                   import syft as sy\n",
       "    22                                                   serialized_obj = sy.serialize(obj=my_object_to_serialize)\n",
       "    23                                           \n",
       "    24                                               This is the primary serialization method, which processes the above\n",
       "    25                                               flags in a particular order. In general, it is not expected that people\n",
       "    26                                               will set multiple to_<type> flags to True at the same time. We don't\n",
       "    27                                               currently have logic which prevents this, because this may affect\n",
       "    28                                               runtime performance, but if several flags are True, then we will simply\n",
       "    29                                               take return the type of latest supported flag from the following list:\n",
       "    30                                           \n",
       "    31                                                   - proto\n",
       "    32                                                   - binary\n",
       "    33                                           \n",
       "    34                                               TODO: we could also add \"dict\" to this list but it's not clear if it would be used.\n",
       "    35                                           \n",
       "    36                                               :param to_proto: set this flag to TRUE if you want to return a protobuf object\n",
       "    37                                               :type to_proto: bool\n",
       "    38                                               :param to_bytes: set this flag to TRUE if you want to return a binary object\n",
       "    39                                               :type to_bytes: bool\n",
       "    40                                               :return: a serialized form of the object on which serialize() is called.\n",
       "    41                                               :rtype: Union[str, bytes, Message]\n",
       "    42                                               \"\"\"\n",
       "    43                                           \n",
       "    44                                               # relative\n",
       "    45       417       1350.0      3.2      8.1      from ....lib.python.primitive_factory import isprimitive\n",
       "    46                                           \n",
       "    47                                               # we have an unboxed primitive type so we need to mirror that on deserialize\n",
       "    48       417        644.0      1.5      3.9      if isprimitive(obj):\n",
       "    49                                                   # relative\n",
       "    50         4          8.0      2.0      0.0          from ....lib.python.primitive_factory import PrimitiveFactory\n",
       "    51                                           \n",
       "    52         4        145.0     36.2      0.9          obj = PrimitiveFactory.generate_primitive(value=obj, temporary_box=True)\n",
       "    53         4          4.0      1.0      0.0          if hasattr(obj, \"temporary_box\"):\n",
       "    54                                                       # TODO: can remove this once all of PrimitiveFactory.generate_primitive\n",
       "    55                                                       # supports temporary_box and is tested\n",
       "    56         2          1.0      0.5      0.0              obj.temporary_box = True  # type: ignore\n",
       "    57                                           \n",
       "    58       417        285.0      0.7      1.7      if hasattr(obj, \"_sy_serializable_wrapper_type\"):\n",
       "    59       302        412.0      1.4      2.5          is_serializable = obj._sy_serializable_wrapper_type(value=obj)  # type: ignore\n",
       "    60                                               else:\n",
       "    61       115         61.0      0.5      0.4          is_serializable = obj\n",
       "    62                                           \n",
       "    63                                               # traceback_and_raise(\n",
       "    64                                               #     Exception(\n",
       "    65                                               #         f\"Object {type(obj)} is not serializable and has no _sy_serializable_wrapper_type\"\n",
       "    66                                               #     )\n",
       "    67                                               # )\n",
       "    68                                           \n",
       "    69       417        207.0      0.5      1.2      if to_bytes:\n",
       "    70                                                   # debug(f\"Serializing {type(is_serializable)}\")\n",
       "    71                                                   # indent=None means no white space or \\n in the serialized version\n",
       "    72                                                   # this is compatible with json.dumps(x, indent=None)\n",
       "    73       105        766.0      7.3      4.6          serialized_data = is_serializable._object2proto().SerializeToString()\n",
       "    74       210        265.0      1.3      1.6          blob: Message = DataMessage(\n",
       "    75       105        241.0      2.3      1.5              obj_type=get_fully_qualified_name(obj=is_serializable),\n",
       "    76       105         56.0      0.5      0.3              content=serialized_data,\n",
       "    77                                                   )\n",
       "    78       105        259.0      2.5      1.6          return validate_type(blob.SerializeToString(), bytes)\n",
       "    79       312        139.0      0.4      0.8      elif to_proto:\n",
       "    80       312      11752.0     37.7     70.8          return validate_type(is_serializable._object2proto(), Message)\n",
       "    81                                               else:\n",
       "    82                                                   traceback_and_raise(\n",
       "    83                                                       Exception(\n",
       "    84                                                           \"\"\"You must specify at least one deserialization format using\n",
       "    85                                                                   one of the arguments of the serialize() method such as:\n",
       "    86                                                                   to_proto, to_bytes.\"\"\"\n",
       "    87                                                       )\n",
       "    88                                                   )"
      ]
     },
     "metadata": {},
     "output_type": "display_data"
    }
   ],
   "source": [
    "%lprun -f tweets_data.ser"
   ]
  },
  {
   "cell_type": "code",
   "execution_count": null,
   "id": "50adc534-46e7-44f6-bb1c-172c746e7783",
   "metadata": {},
   "outputs": [],
   "source": []
  }
 ],
 "metadata": {
  "kernelspec": {
   "display_name": "Python 3 (ipykernel)",
   "language": "python",
   "name": "python3"
  },
  "language_info": {
   "codemirror_mode": {
    "name": "ipython",
    "version": 3
   },
   "file_extension": ".py",
   "mimetype": "text/x-python",
   "name": "python",
   "nbconvert_exporter": "python",
   "pygments_lexer": "ipython3",
   "version": "3.9.7"
  }
 },
 "nbformat": 4,
 "nbformat_minor": 5
}
