{
 "cells": [
  {
   "cell_type": "markdown",
   "id": "18fe22bf-4a82-4a56-917f-1effb75f4221",
   "metadata": {},
   "source": [
    "Problem:\n",
    "- When you add two IGTs, the output scalar manager needs to have all the prime numbers from each of the IGTs that created it\n",
    "- Unfortunately the act of combining IGT scalar managers seems to affect the flat_scalars property, and thus the _values() function that we use to check values\n"
   ]
  },
  {
   "cell_type": "code",
   "execution_count": 1,
   "id": "b73a3662-4efd-4cd4-817f-dda94bb76d7a",
   "metadata": {},
   "outputs": [],
   "source": [
    "from syft.core.tensor.autodp.single_entity_phi import SingleEntityPhiTensor as SEPT\n",
    "from syft.core.tensor.autodp.dp_tensor_converter import convert_to_gamma_tensor\n",
    "import numpy as np"
   ]
  },
  {
   "cell_type": "code",
   "execution_count": 5,
   "id": "d4e60c9a-e178-4195-b5bb-b2cb5f177331",
   "metadata": {},
   "outputs": [],
   "source": [
    "raw_data = np.random.randint(low=1,high=50,size=(5, 5), dtype=np.int32)"
   ]
  },
  {
   "cell_type": "code",
   "execution_count": 6,
   "id": "71b6e8b0-3219-4c48-bc63-71617a74451a",
   "metadata": {},
   "outputs": [
    {
     "data": {
      "text/plain": [
       "array([[47, 40, 34,  4, 18],\n",
       "       [14, 32,  7, 22, 37],\n",
       "       [48,  6, 27, 41, 36],\n",
       "       [31, 37, 15, 13, 22],\n",
       "       [ 9, 14, 18, 32, 32]], dtype=int32)"
      ]
     },
     "execution_count": 6,
     "metadata": {},
     "output_type": "execute_result"
    }
   ],
   "source": [
    "raw_data"
   ]
  },
  {
   "cell_type": "code",
   "execution_count": 7,
   "id": "75eb6f26-628b-413e-a9c0-d4195870e137",
   "metadata": {},
   "outputs": [],
   "source": [
    "from syft.core.adp.entity import Entity"
   ]
  },
  {
   "cell_type": "code",
   "execution_count": 8,
   "id": "fa844d13-6abc-44d5-8399-4d6b5f09420e",
   "metadata": {},
   "outputs": [],
   "source": [
    "ishan = Entity(name=\"Ishan\")\n",
    "trask = Entity(name=\"Trask\")"
   ]
  },
  {
   "cell_type": "code",
   "execution_count": 11,
   "id": "4de4e046-fbad-4682-a854-9ea5a9e11a4e",
   "metadata": {},
   "outputs": [],
   "source": [
    "ishan_sept = SEPT(raw_data, ishan, np.ones_like(raw_data, dtype=np.int32), 50 * np.ones_like(raw_data, dtype=np.int32))\n",
    "trask_sept = SEPT(raw_data, trask, np.ones_like(raw_data, dtype=np.int32), 50 * np.ones_like(raw_data, dtype=np.int32))\n"
   ]
  },
  {
   "cell_type": "code",
   "execution_count": 12,
   "id": "c44481a7-2092-48b5-be9f-59ae539e4050",
   "metadata": {},
   "outputs": [],
   "source": [
    "ishan_igt = convert_to_gamma_tensor(ishan_sept)\n",
    "trask_igt = convert_to_gamma_tensor(trask_sept)"
   ]
  },
  {
   "cell_type": "code",
   "execution_count": 14,
   "id": "ec6766f5-e061-428d-b4cb-3ff6beb0a875",
   "metadata": {},
   "outputs": [
    {
     "data": {
      "text/plain": [
       "{2: <GammaScalar: (1.0 < 47.0 < 50.0)>,\n",
       " 3: <GammaScalar: (1.0 < 40.0 < 50.0)>,\n",
       " 5: <GammaScalar: (1.0 < 34.0 < 50.0)>,\n",
       " 7: <GammaScalar: (1.0 < 4.0 < 50.0)>,\n",
       " 11: <GammaScalar: (1.0 < 18.0 < 50.0)>,\n",
       " 13: <GammaScalar: (1.0 < 14.0 < 50.0)>,\n",
       " 17: <GammaScalar: (1.0 < 32.0 < 50.0)>,\n",
       " 19: <GammaScalar: (1.0 < 7.0 < 50.0)>,\n",
       " 23: <GammaScalar: (1.0 < 22.0 < 50.0)>,\n",
       " 29: <GammaScalar: (1.0 < 37.0 < 50.0)>,\n",
       " 31: <GammaScalar: (1.0 < 48.0 < 50.0)>,\n",
       " 37: <GammaScalar: (1.0 < 6.0 < 50.0)>,\n",
       " 41: <GammaScalar: (1.0 < 27.0 < 50.0)>,\n",
       " 43: <GammaScalar: (1.0 < 41.0 < 50.0)>,\n",
       " 47: <GammaScalar: (1.0 < 36.0 < 50.0)>,\n",
       " 53: <GammaScalar: (1.0 < 31.0 < 50.0)>,\n",
       " 59: <GammaScalar: (1.0 < 37.0 < 50.0)>,\n",
       " 61: <GammaScalar: (1.0 < 15.0 < 50.0)>,\n",
       " 67: <GammaScalar: (1.0 < 13.0 < 50.0)>,\n",
       " 71: <GammaScalar: (1.0 < 22.0 < 50.0)>,\n",
       " 73: <GammaScalar: (1.0 < 9.0 < 50.0)>,\n",
       " 79: <GammaScalar: (1.0 < 14.0 < 50.0)>,\n",
       " 83: <GammaScalar: (1.0 < 18.0 < 50.0)>,\n",
       " 89: <GammaScalar: (1.0 < 32.0 < 50.0)>,\n",
       " 97: <GammaScalar: (1.0 < 32.0 < 50.0)>,\n",
       " 101: <GammaScalar: (1.0 < 47.0 < 50.0)>,\n",
       " 103: <GammaScalar: (1.0 < 40.0 < 50.0)>,\n",
       " 107: <GammaScalar: (1.0 < 34.0 < 50.0)>,\n",
       " 109: <GammaScalar: (1.0 < 4.0 < 50.0)>,\n",
       " 113: <GammaScalar: (1.0 < 18.0 < 50.0)>,\n",
       " 127: <GammaScalar: (1.0 < 14.0 < 50.0)>,\n",
       " 131: <GammaScalar: (1.0 < 32.0 < 50.0)>,\n",
       " 137: <GammaScalar: (1.0 < 7.0 < 50.0)>,\n",
       " 139: <GammaScalar: (1.0 < 22.0 < 50.0)>,\n",
       " 149: <GammaScalar: (1.0 < 37.0 < 50.0)>,\n",
       " 151: <GammaScalar: (1.0 < 48.0 < 50.0)>,\n",
       " 157: <GammaScalar: (1.0 < 6.0 < 50.0)>,\n",
       " 163: <GammaScalar: (1.0 < 27.0 < 50.0)>,\n",
       " 167: <GammaScalar: (1.0 < 41.0 < 50.0)>,\n",
       " 173: <GammaScalar: (1.0 < 36.0 < 50.0)>,\n",
       " 179: <GammaScalar: (1.0 < 31.0 < 50.0)>,\n",
       " 181: <GammaScalar: (1.0 < 37.0 < 50.0)>,\n",
       " 191: <GammaScalar: (1.0 < 15.0 < 50.0)>,\n",
       " 193: <GammaScalar: (1.0 < 13.0 < 50.0)>,\n",
       " 197: <GammaScalar: (1.0 < 22.0 < 50.0)>,\n",
       " 199: <GammaScalar: (1.0 < 9.0 < 50.0)>,\n",
       " 211: <GammaScalar: (1.0 < 14.0 < 50.0)>,\n",
       " 223: <GammaScalar: (1.0 < 18.0 < 50.0)>,\n",
       " 227: <GammaScalar: (1.0 < 32.0 < 50.0)>,\n",
       " 229: <GammaScalar: (1.0 < 32.0 < 50.0)>}"
      ]
     },
     "execution_count": 14,
     "metadata": {},
     "output_type": "execute_result"
    }
   ],
   "source": [
    "ishan_igt.scalar_manager.prime2symbol"
   ]
  },
  {
   "cell_type": "code",
   "execution_count": 15,
   "id": "b9ab91bd-78cb-4eac-812c-340faabe2786",
   "metadata": {},
   "outputs": [
    {
     "data": {
      "text/plain": [
       "{2: <GammaScalar: (1.0 < 47.0 < 50.0)>,\n",
       " 3: <GammaScalar: (1.0 < 40.0 < 50.0)>,\n",
       " 5: <GammaScalar: (1.0 < 34.0 < 50.0)>,\n",
       " 7: <GammaScalar: (1.0 < 4.0 < 50.0)>,\n",
       " 11: <GammaScalar: (1.0 < 18.0 < 50.0)>,\n",
       " 13: <GammaScalar: (1.0 < 14.0 < 50.0)>,\n",
       " 17: <GammaScalar: (1.0 < 32.0 < 50.0)>,\n",
       " 19: <GammaScalar: (1.0 < 7.0 < 50.0)>,\n",
       " 23: <GammaScalar: (1.0 < 22.0 < 50.0)>,\n",
       " 29: <GammaScalar: (1.0 < 37.0 < 50.0)>,\n",
       " 31: <GammaScalar: (1.0 < 48.0 < 50.0)>,\n",
       " 37: <GammaScalar: (1.0 < 6.0 < 50.0)>,\n",
       " 41: <GammaScalar: (1.0 < 27.0 < 50.0)>,\n",
       " 43: <GammaScalar: (1.0 < 41.0 < 50.0)>,\n",
       " 47: <GammaScalar: (1.0 < 36.0 < 50.0)>,\n",
       " 53: <GammaScalar: (1.0 < 31.0 < 50.0)>,\n",
       " 59: <GammaScalar: (1.0 < 37.0 < 50.0)>,\n",
       " 61: <GammaScalar: (1.0 < 15.0 < 50.0)>,\n",
       " 67: <GammaScalar: (1.0 < 13.0 < 50.0)>,\n",
       " 71: <GammaScalar: (1.0 < 22.0 < 50.0)>,\n",
       " 73: <GammaScalar: (1.0 < 9.0 < 50.0)>,\n",
       " 79: <GammaScalar: (1.0 < 14.0 < 50.0)>,\n",
       " 83: <GammaScalar: (1.0 < 18.0 < 50.0)>,\n",
       " 89: <GammaScalar: (1.0 < 32.0 < 50.0)>,\n",
       " 97: <GammaScalar: (1.0 < 32.0 < 50.0)>,\n",
       " 101: <GammaScalar: (1.0 < 47.0 < 50.0)>,\n",
       " 103: <GammaScalar: (1.0 < 40.0 < 50.0)>,\n",
       " 107: <GammaScalar: (1.0 < 34.0 < 50.0)>,\n",
       " 109: <GammaScalar: (1.0 < 4.0 < 50.0)>,\n",
       " 113: <GammaScalar: (1.0 < 18.0 < 50.0)>,\n",
       " 127: <GammaScalar: (1.0 < 14.0 < 50.0)>,\n",
       " 131: <GammaScalar: (1.0 < 32.0 < 50.0)>,\n",
       " 137: <GammaScalar: (1.0 < 7.0 < 50.0)>,\n",
       " 139: <GammaScalar: (1.0 < 22.0 < 50.0)>,\n",
       " 149: <GammaScalar: (1.0 < 37.0 < 50.0)>,\n",
       " 151: <GammaScalar: (1.0 < 48.0 < 50.0)>,\n",
       " 157: <GammaScalar: (1.0 < 6.0 < 50.0)>,\n",
       " 163: <GammaScalar: (1.0 < 27.0 < 50.0)>,\n",
       " 167: <GammaScalar: (1.0 < 41.0 < 50.0)>,\n",
       " 173: <GammaScalar: (1.0 < 36.0 < 50.0)>,\n",
       " 179: <GammaScalar: (1.0 < 31.0 < 50.0)>,\n",
       " 181: <GammaScalar: (1.0 < 37.0 < 50.0)>,\n",
       " 191: <GammaScalar: (1.0 < 15.0 < 50.0)>,\n",
       " 193: <GammaScalar: (1.0 < 13.0 < 50.0)>,\n",
       " 197: <GammaScalar: (1.0 < 22.0 < 50.0)>,\n",
       " 199: <GammaScalar: (1.0 < 9.0 < 50.0)>,\n",
       " 211: <GammaScalar: (1.0 < 14.0 < 50.0)>,\n",
       " 223: <GammaScalar: (1.0 < 18.0 < 50.0)>,\n",
       " 227: <GammaScalar: (1.0 < 32.0 < 50.0)>,\n",
       " 229: <GammaScalar: (1.0 < 32.0 < 50.0)>}"
      ]
     },
     "execution_count": 15,
     "metadata": {},
     "output_type": "execute_result"
    }
   ],
   "source": [
    "trask_igt.scalar_manager.prime2symbol"
   ]
  },
  {
   "cell_type": "code",
   "execution_count": 16,
   "id": "9ed334e0-4fe1-4bc8-88f4-c71510268efb",
   "metadata": {},
   "outputs": [],
   "source": [
    "result = ishan_igt + trask_igt"
   ]
  },
  {
   "cell_type": "code",
   "execution_count": 17,
   "id": "2dfac1e8-c2fe-49aa-a199-57130bb54e82",
   "metadata": {},
   "outputs": [
    {
     "data": {
      "text/plain": [
       "{2: <GammaScalar: (1.0 < 47.0 < 50.0)>,\n",
       " 3: <GammaScalar: (1.0 < 40.0 < 50.0)>,\n",
       " 5: <GammaScalar: (1.0 < 47.0 < 50.0)>,\n",
       " 7: <GammaScalar: (1.0 < 40.0 < 50.0)>,\n",
       " 11: <GammaScalar: (1.0 < 18.0 < 50.0)>,\n",
       " 13: <GammaScalar: (1.0 < 34.0 < 50.0)>,\n",
       " 17: <GammaScalar: (1.0 < 32.0 < 50.0)>,\n",
       " 19: <GammaScalar: (1.0 < 4.0 < 50.0)>,\n",
       " 23: <GammaScalar: (1.0 < 22.0 < 50.0)>,\n",
       " 29: <GammaScalar: (1.0 < 37.0 < 50.0)>,\n",
       " 31: <GammaScalar: (1.0 < 48.0 < 50.0)>,\n",
       " 37: <GammaScalar: (1.0 < 18.0 < 50.0)>,\n",
       " 41: <GammaScalar: (1.0 < 27.0 < 50.0)>,\n",
       " 43: <GammaScalar: (1.0 < 14.0 < 50.0)>,\n",
       " 47: <GammaScalar: (1.0 < 36.0 < 50.0)>,\n",
       " 53: <GammaScalar: (1.0 < 31.0 < 50.0)>,\n",
       " 59: <GammaScalar: (1.0 < 37.0 < 50.0)>,\n",
       " 61: <GammaScalar: (1.0 < 32.0 < 50.0)>,\n",
       " 67: <GammaScalar: (1.0 < 13.0 < 50.0)>,\n",
       " 71: <GammaScalar: (1.0 < 7.0 < 50.0)>,\n",
       " 73: <GammaScalar: (1.0 < 9.0 < 50.0)>,\n",
       " 79: <GammaScalar: (1.0 < 14.0 < 50.0)>,\n",
       " 83: <GammaScalar: (1.0 < 18.0 < 50.0)>,\n",
       " 89: <GammaScalar: (1.0 < 22.0 < 50.0)>,\n",
       " 97: <GammaScalar: (1.0 < 32.0 < 50.0)>,\n",
       " 101: <GammaScalar: (1.0 < 47.0 < 50.0)>,\n",
       " 103: <GammaScalar: (1.0 < 40.0 < 50.0)>,\n",
       " 107: <GammaScalar: (1.0 < 34.0 < 50.0)>,\n",
       " 109: <GammaScalar: (1.0 < 4.0 < 50.0)>,\n",
       " 113: <GammaScalar: (1.0 < 37.0 < 50.0)>,\n",
       " 127: <GammaScalar: (1.0 < 14.0 < 50.0)>,\n",
       " 131: <GammaScalar: (1.0 < 48.0 < 50.0)>,\n",
       " 137: <GammaScalar: (1.0 < 7.0 < 50.0)>,\n",
       " 139: <GammaScalar: (1.0 < 22.0 < 50.0)>,\n",
       " 149: <GammaScalar: (1.0 < 37.0 < 50.0)>,\n",
       " 151: <GammaScalar: (1.0 < 48.0 < 50.0)>,\n",
       " 157: <GammaScalar: (1.0 < 6.0 < 50.0)>,\n",
       " 163: <GammaScalar: (1.0 < 6.0 < 50.0)>,\n",
       " 167: <GammaScalar: (1.0 < 41.0 < 50.0)>,\n",
       " 173: <GammaScalar: (1.0 < 36.0 < 50.0)>,\n",
       " 179: <GammaScalar: (1.0 < 31.0 < 50.0)>,\n",
       " 181: <GammaScalar: (1.0 < 27.0 < 50.0)>,\n",
       " 191: <GammaScalar: (1.0 < 15.0 < 50.0)>,\n",
       " 193: <GammaScalar: (1.0 < 41.0 < 50.0)>,\n",
       " 197: <GammaScalar: (1.0 < 22.0 < 50.0)>,\n",
       " 199: <GammaScalar: (1.0 < 9.0 < 50.0)>,\n",
       " 211: <GammaScalar: (1.0 < 14.0 < 50.0)>,\n",
       " 223: <GammaScalar: (1.0 < 36.0 < 50.0)>,\n",
       " 227: <GammaScalar: (1.0 < 32.0 < 50.0)>,\n",
       " 229: <GammaScalar: (1.0 < 32.0 < 50.0)>,\n",
       " 251: <GammaScalar: (1.0 < 31.0 < 50.0)>,\n",
       " 281: <GammaScalar: (1.0 < 37.0 < 50.0)>,\n",
       " 293: <GammaScalar: (1.0 < 15.0 < 50.0)>,\n",
       " 337: <GammaScalar: (1.0 < 13.0 < 50.0)>,\n",
       " 359: <GammaScalar: (1.0 < 22.0 < 50.0)>,\n",
       " 373: <GammaScalar: (1.0 < 9.0 < 50.0)>,\n",
       " 409: <GammaScalar: (1.0 < 14.0 < 50.0)>,\n",
       " 433: <GammaScalar: (1.0 < 18.0 < 50.0)>,\n",
       " 463: <GammaScalar: (1.0 < 32.0 < 50.0)>,\n",
       " 521: <GammaScalar: (1.0 < 32.0 < 50.0)>,\n",
       " 557: <GammaScalar: (1.0 < 47.0 < 50.0)>,\n",
       " 569: <GammaScalar: (1.0 < 40.0 < 50.0)>,\n",
       " 593: <GammaScalar: (1.0 < 34.0 < 50.0)>,\n",
       " 601: <GammaScalar: (1.0 < 4.0 < 50.0)>,\n",
       " 619: <GammaScalar: (1.0 < 18.0 < 50.0)>,\n",
       " 719: <GammaScalar: (1.0 < 14.0 < 50.0)>,\n",
       " 743: <GammaScalar: (1.0 < 32.0 < 50.0)>,\n",
       " 787: <GammaScalar: (1.0 < 7.0 < 50.0)>,\n",
       " 809: <GammaScalar: (1.0 < 22.0 < 50.0)>,\n",
       " 863: <GammaScalar: (1.0 < 37.0 < 50.0)>,\n",
       " 881: <GammaScalar: (1.0 < 48.0 < 50.0)>,\n",
       " 929: <GammaScalar: (1.0 < 6.0 < 50.0)>,\n",
       " 971: <GammaScalar: (1.0 < 27.0 < 50.0)>,\n",
       " 997: <GammaScalar: (1.0 < 41.0 < 50.0)>,\n",
       " 1033: <GammaScalar: (1.0 < 36.0 < 50.0)>,\n",
       " 1069: <GammaScalar: (1.0 < 31.0 < 50.0)>,\n",
       " 1091: <GammaScalar: (1.0 < 37.0 < 50.0)>,\n",
       " 1163: <GammaScalar: (1.0 < 15.0 < 50.0)>,\n",
       " 1181: <GammaScalar: (1.0 < 13.0 < 50.0)>,\n",
       " 1213: <GammaScalar: (1.0 < 22.0 < 50.0)>,\n",
       " 1223: <GammaScalar: (1.0 < 9.0 < 50.0)>,\n",
       " 1301: <GammaScalar: (1.0 < 14.0 < 50.0)>,\n",
       " 1423: <GammaScalar: (1.0 < 18.0 < 50.0)>,\n",
       " 1439: <GammaScalar: (1.0 < 32.0 < 50.0)>,\n",
       " 1451: <GammaScalar: (1.0 < 32.0 < 50.0)>}"
      ]
     },
     "execution_count": 17,
     "metadata": {},
     "output_type": "execute_result"
    }
   ],
   "source": [
    "result.scalar_manager.prime2symbol"
   ]
  },
  {
   "cell_type": "code",
   "execution_count": 18,
   "id": "1895565c-40a7-4ca3-ac7c-5adeceec8116",
   "metadata": {},
   "outputs": [
    {
     "data": {
      "text/plain": [
       "array([[94., 80., 81., 44., 55.],\n",
       "       [48., 80., 11., 44., 74.],\n",
       "       [96., 24., 33., 55., 72.],\n",
       "       [62., 64., 47., 54., 29.],\n",
       "       [18., 28., 54., 54., 64.]])"
      ]
     },
     "execution_count": 18,
     "metadata": {},
     "output_type": "execute_result"
    }
   ],
   "source": [
    "result._values()"
   ]
  },
  {
   "cell_type": "code",
   "execution_count": 19,
   "id": "52bab00a-ba88-4fc9-8629-7dbd1303c423",
   "metadata": {},
   "outputs": [
    {
     "data": {
      "text/plain": [
       "array([[47., 40., 34.,  4., 18.],\n",
       "       [14., 32.,  7., 22., 37.],\n",
       "       [48.,  6., 27., 41., 36.],\n",
       "       [31., 37., 15., 13., 22.],\n",
       "       [ 9., 14., 18., 32., 32.]])"
      ]
     },
     "execution_count": 19,
     "metadata": {},
     "output_type": "execute_result"
    }
   ],
   "source": [
    "ishan_igt._values()"
   ]
  },
  {
   "cell_type": "code",
   "execution_count": 20,
   "id": "9cd32cf8-1e40-431c-8674-a851f5113a32",
   "metadata": {},
   "outputs": [
    {
     "data": {
      "text/plain": [
       "array([[47., 40., 34.,  4., 18.],\n",
       "       [14., 32.,  7., 22., 37.],\n",
       "       [48.,  6., 27., 41., 36.],\n",
       "       [31., 37., 15., 13., 22.],\n",
       "       [ 9., 14., 18., 32., 32.]])"
      ]
     },
     "execution_count": 20,
     "metadata": {},
     "output_type": "execute_result"
    }
   ],
   "source": [
    "trask_igt._values()"
   ]
  },
  {
   "cell_type": "code",
   "execution_count": null,
   "id": "183ba30b-833e-4cd7-805e-f45bf56030c5",
   "metadata": {},
   "outputs": [],
   "source": []
  }
 ],
 "metadata": {
  "kernelspec": {
   "display_name": "Python 3 (ipykernel)",
   "language": "python",
   "name": "python3"
  },
  "language_info": {
   "codemirror_mode": {
    "name": "ipython",
    "version": 3
   },
   "file_extension": ".py",
   "mimetype": "text/x-python",
   "name": "python",
   "nbconvert_exporter": "python",
   "pygments_lexer": "ipython3",
   "version": "3.9.7"
  }
 },
 "nbformat": 4,
 "nbformat_minor": 5
}
