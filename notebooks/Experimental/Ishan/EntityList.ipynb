{
 "cells": [
  {
   "cell_type": "code",
   "execution_count": 1,
   "id": "d8309d3a-2125-4b5c-83a5-3df354b51c4b",
   "metadata": {},
   "outputs": [
    {
     "name": "stderr",
     "output_type": "stream",
     "text": [
      "UsageError: Line magic function `%%autoreload` not found.\n"
     ]
    }
   ],
   "source": [
    "%load_ext autoreload\n",
    "%%autoreload"
   ]
  },
  {
   "cell_type": "code",
   "execution_count": 2,
   "id": "74209cd6-1df7-4c4d-a58d-10542ae52c79",
   "metadata": {},
   "outputs": [],
   "source": [
    "from syft.core.adp.entity_list import EntityList\n",
    "\n",
    "import syft as sy\n",
    "import numpy as np\n",
    "\n",
    "from syft.core.adp.entity import Entity"
   ]
  },
  {
   "cell_type": "code",
   "execution_count": 14,
   "id": "d05f5664-0c07-4198-9471-f12aa8fb5591",
   "metadata": {},
   "outputs": [],
   "source": [
    "ishan = Entity(name=\"Ishan\")\n",
    "rasswanth = Entity(name=\"Rasswanth\")\n",
    "tensor = sy.Tensor(np.random.randint(0, 5, size=(100), dtype=np.int32)).private(min_val=0, max_val=10, entities=[ishan, rasswanth] * 50)  "
   ]
  },
  {
   "cell_type": "code",
   "execution_count": 15,
   "id": "adba9eb4-8a64-4848-8286-80eee5a7fd7a",
   "metadata": {},
   "outputs": [
    {
     "data": {
      "text/plain": [
       "Tensor(child=NDimEntityPhiTensor(child=(100,), min_vals=<lazyrepeatarray data: 0 -> shape: (100,)>, max_vals=<lazyrepeatarray data: 10 -> shape: (100,)>))"
      ]
     },
     "execution_count": 15,
     "metadata": {},
     "output_type": "execute_result"
    }
   ],
   "source": [
    "tensor"
   ]
  },
  {
   "cell_type": "code",
   "execution_count": 16,
   "id": "6d0c4854-f54a-42ee-bea6-6978540ec14f",
   "metadata": {},
   "outputs": [
    {
     "data": {
      "text/plain": [
       "syft.core.tensor.autodp.ndim_entity_phi.NDimEntityPhiTensor"
      ]
     },
     "execution_count": 16,
     "metadata": {},
     "output_type": "execute_result"
    }
   ],
   "source": [
    "type(tensor.child)"
   ]
  },
  {
   "cell_type": "code",
   "execution_count": 17,
   "id": "19e891d6-a73c-450f-aea5-f3430ce9f334",
   "metadata": {},
   "outputs": [],
   "source": [
    "t = tensor.child.copy()"
   ]
  },
  {
   "cell_type": "code",
   "execution_count": 18,
   "id": "dc93ed50-efdf-46b7-9836-c50a41beb32e",
   "metadata": {},
   "outputs": [
    {
     "data": {
      "text/plain": [
       "array([0, 1, 0, 1, 0, 1, 0, 1, 0, 1, 0, 1, 0, 1, 0, 1, 0, 1, 0, 1, 0, 1,\n",
       "       0, 1, 0, 1, 0, 1, 0, 1, 0, 1, 0, 1, 0, 1, 0, 1, 0, 1, 0, 1, 0, 1,\n",
       "       0, 1, 0, 1, 0, 1, 0, 1, 0, 1, 0, 1, 0, 1, 0, 1, 0, 1, 0, 1, 0, 1,\n",
       "       0, 1, 0, 1, 0, 1, 0, 1, 0, 1, 0, 1, 0, 1, 0, 1, 0, 1, 0, 1, 0, 1,\n",
       "       0, 1, 0, 1, 0, 1, 0, 1, 0, 1, 0, 1])"
      ]
     },
     "execution_count": 18,
     "metadata": {},
     "output_type": "execute_result"
    }
   ],
   "source": [
    "t.entities.entities_indexed"
   ]
  },
  {
   "cell_type": "code",
   "execution_count": 19,
   "id": "075c4dce-81a8-4d77-a40b-f6f4952a5784",
   "metadata": {},
   "outputs": [
    {
     "data": {
      "text/plain": [
       "array([<Entity:Ishan>, <Entity:Rasswanth>], dtype=object)"
      ]
     },
     "execution_count": 19,
     "metadata": {},
     "output_type": "execute_result"
    }
   ],
   "source": [
    "t.entities.one_hot_lookup"
   ]
  },
  {
   "cell_type": "code",
   "execution_count": 20,
   "id": "09574ee6-1e7a-4c7d-9bb8-973094b9a293",
   "metadata": {},
   "outputs": [
    {
     "data": {
      "text/plain": [
       "NDimEntityPhiTensor(child=(100,), min_vals=<lazyrepeatarray data: 0 -> shape: (100,)>, max_vals=<lazyrepeatarray data: 10 -> shape: (100,)>)"
      ]
     },
     "execution_count": 20,
     "metadata": {},
     "output_type": "execute_result"
    }
   ],
   "source": [
    "t"
   ]
  },
  {
   "cell_type": "code",
   "execution_count": 21,
   "id": "4e3b8e2a-c668-4f57-b1c8-d04afb849f4d",
   "metadata": {},
   "outputs": [],
   "source": [
    "t2 = t + 5"
   ]
  },
  {
   "cell_type": "code",
   "execution_count": 23,
   "id": "9a18ee8b-a634-485a-ad0a-e6eccbef66be",
   "metadata": {},
   "outputs": [],
   "source": [
    "andrew = Entity(name=\"Trask\")\n",
    "kritika = Entity(name=\"Kritika\")\n",
    "tensor2 = sy.Tensor(np.random.randint(0, 5, size=(100), dtype=np.int32)).private(min_val=0, max_val=10, entities=[andrew, kritika] * 50)  "
   ]
  },
  {
   "cell_type": "code",
   "execution_count": 24,
   "id": "cfcaafa7-7047-4876-a20c-3bbe62cd934f",
   "metadata": {},
   "outputs": [],
   "source": [
    "t2 = tensor2.child.copy()"
   ]
  },
  {
   "cell_type": "code",
   "execution_count": 26,
   "id": "fc523e79-8426-4194-8516-493beb3836b0",
   "metadata": {},
   "outputs": [
    {
     "data": {
      "text/plain": [
       "array([1, 0, 1, 0, 1, 0, 1, 0, 1, 0, 1, 0, 1, 0, 1, 0, 1, 0, 1, 0, 1, 0,\n",
       "       1, 0, 1, 0, 1, 0, 1, 0, 1, 0, 1, 0, 1, 0, 1, 0, 1, 0, 1, 0, 1, 0,\n",
       "       1, 0, 1, 0, 1, 0, 1, 0, 1, 0, 1, 0, 1, 0, 1, 0, 1, 0, 1, 0, 1, 0,\n",
       "       1, 0, 1, 0, 1, 0, 1, 0, 1, 0, 1, 0, 1, 0, 1, 0, 1, 0, 1, 0, 1, 0,\n",
       "       1, 0, 1, 0, 1, 0, 1, 0, 1, 0, 1, 0])"
      ]
     },
     "execution_count": 26,
     "metadata": {},
     "output_type": "execute_result"
    }
   ],
   "source": [
    "t2.entities.entities_indexed"
   ]
  },
  {
   "cell_type": "code",
   "execution_count": 27,
   "id": "fca9c384-e2b0-462f-b2e0-d68f918a6021",
   "metadata": {},
   "outputs": [
    {
     "data": {
      "text/plain": [
       "array([<Entity:Kritika>, <Entity:Trask>], dtype=object)"
      ]
     },
     "execution_count": 27,
     "metadata": {},
     "output_type": "execute_result"
    }
   ],
   "source": [
    "t2.entities.one_hot_lookup"
   ]
  },
  {
   "cell_type": "code",
   "execution_count": 28,
   "id": "da756231-e212-428f-aa5b-8a4b2efd00f4",
   "metadata": {},
   "outputs": [
    {
     "ename": "AttributeError",
     "evalue": "'lazyrepeatarray' object has no attribute 'flatten'",
     "output_type": "error",
     "traceback": [
      "\u001b[0;31m---------------------------------------------------------------------------\u001b[0m",
      "\u001b[0;31mAttributeError\u001b[0m                            Traceback (most recent call last)",
      "Input \u001b[0;32mIn [28]\u001b[0m, in \u001b[0;36m<cell line: 1>\u001b[0;34m()\u001b[0m\n\u001b[0;32m----> 1\u001b[0m t3 \u001b[38;5;241m=\u001b[39m \u001b[43mt\u001b[49m\u001b[43m \u001b[49m\u001b[38;5;241;43m+\u001b[39;49m\u001b[43m \u001b[49m\u001b[43mt2\u001b[49m\n",
      "File \u001b[0;32m~/PycharmProjects/PySyft/packages/syft/src/syft/core/tensor/autodp/ndim_entity_phi.py:287\u001b[0m, in \u001b[0;36mNDimEntityPhiTensor.__add__\u001b[0;34m(self, other)\u001b[0m\n\u001b[1;32m    285\u001b[0m \u001b[38;5;28;01mif\u001b[39;00m \u001b[38;5;28misinstance\u001b[39m(other, NDimEntityPhiTensor):\n\u001b[1;32m    286\u001b[0m     \u001b[38;5;28;01mif\u001b[39;00m \u001b[38;5;28mself\u001b[39m\u001b[38;5;241m.\u001b[39mentities \u001b[38;5;241m!=\u001b[39m other\u001b[38;5;241m.\u001b[39mentities:\n\u001b[0;32m--> 287\u001b[0m         \u001b[38;5;28;01mreturn\u001b[39;00m \u001b[38;5;28;43mself\u001b[39;49m\u001b[38;5;241;43m.\u001b[39;49m\u001b[43mgamma\u001b[49m \u001b[38;5;241m+\u001b[39m other\u001b[38;5;241m.\u001b[39mgamma\n\u001b[1;32m    289\u001b[0m     \u001b[38;5;28;01mreturn\u001b[39;00m NDimEntityPhiTensor(\n\u001b[1;32m    290\u001b[0m         child\u001b[38;5;241m=\u001b[39m\u001b[38;5;28mself\u001b[39m\u001b[38;5;241m.\u001b[39mchild \u001b[38;5;241m+\u001b[39m other\u001b[38;5;241m.\u001b[39mchild,\n\u001b[1;32m    291\u001b[0m         min_vals\u001b[38;5;241m=\u001b[39m\u001b[38;5;28mself\u001b[39m\u001b[38;5;241m.\u001b[39mmin_vals \u001b[38;5;241m+\u001b[39m other\u001b[38;5;241m.\u001b[39mmin_vals,\n\u001b[0;32m   (...)\u001b[0m\n\u001b[1;32m    294\u001b[0m         \u001b[38;5;66;03m# scalar_manager=self.scalar_manager,\u001b[39;00m\n\u001b[1;32m    295\u001b[0m     )\n\u001b[1;32m    297\u001b[0m \u001b[38;5;66;03m# if the tensor being added is a public tensor / int / float / etc.\u001b[39;00m\n",
      "File \u001b[0;32m~/PycharmProjects/PySyft/packages/syft/src/syft/core/tensor/autodp/ndim_entity_phi.py:180\u001b[0m, in \u001b[0;36mNDimEntityPhiTensor.gamma\u001b[0;34m(self)\u001b[0m\n\u001b[1;32m    177\u001b[0m \u001b[38;5;129m@property\u001b[39m\n\u001b[1;32m    178\u001b[0m \u001b[38;5;28;01mdef\u001b[39;00m \u001b[38;5;21mgamma\u001b[39m(\u001b[38;5;28mself\u001b[39m) \u001b[38;5;241m-\u001b[39m\u001b[38;5;241m>\u001b[39m InitialGammaTensor:\n\u001b[1;32m    179\u001b[0m     \u001b[38;5;124;03m\"\"\"Property to cast this tensor into a GammaTensor\"\"\"\u001b[39;00m\n\u001b[0;32m--> 180\u001b[0m     \u001b[38;5;28;01mreturn\u001b[39;00m \u001b[38;5;28;43mself\u001b[39;49m\u001b[38;5;241;43m.\u001b[39;49m\u001b[43mcreate_gamma\u001b[49m\u001b[43m(\u001b[49m\u001b[43m)\u001b[49m\n",
      "File \u001b[0;32m~/PycharmProjects/PySyft/packages/syft/src/syft/core/tensor/autodp/ndim_entity_phi.py:217\u001b[0m, in \u001b[0;36mNDimEntityPhiTensor.create_gamma\u001b[0;34m(self, scalar_manager)\u001b[0m\n\u001b[1;32m    206\u001b[0m \u001b[38;5;124;03m\"\"\"Return a new Gamma tensor based on this phi tensor\"\"\"\u001b[39;00m\n\u001b[1;32m    208\u001b[0m \u001b[38;5;66;03m# if scalar_manager is None:\u001b[39;00m\n\u001b[1;32m    209\u001b[0m \u001b[38;5;66;03m#     scalar_manager = self.scalar_manager\u001b[39;00m\n\u001b[1;32m    210\u001b[0m \n\u001b[0;32m   (...)\u001b[0m\n\u001b[1;32m    215\u001b[0m \n\u001b[1;32m    216\u001b[0m \u001b[38;5;66;03m# TODO: update InitialGammaTensor to handle EntityList\u001b[39;00m\n\u001b[0;32m--> 217\u001b[0m \u001b[38;5;28;01mreturn\u001b[39;00m \u001b[43mInitialGammaTensor\u001b[49m\u001b[43m(\u001b[49m\n\u001b[1;32m    218\u001b[0m \u001b[43m    \u001b[49m\u001b[43mvalues\u001b[49m\u001b[38;5;241;43m=\u001b[39;49m\u001b[38;5;28;43mself\u001b[39;49m\u001b[38;5;241;43m.\u001b[39;49m\u001b[43mchild\u001b[49m\u001b[43m,\u001b[49m\n\u001b[1;32m    219\u001b[0m \u001b[43m    \u001b[49m\u001b[43mmin_vals\u001b[49m\u001b[38;5;241;43m=\u001b[39;49m\u001b[38;5;28;43mself\u001b[39;49m\u001b[38;5;241;43m.\u001b[39;49m\u001b[43mmin_vals\u001b[49m\u001b[43m,\u001b[49m\n\u001b[1;32m    220\u001b[0m \u001b[43m    \u001b[49m\u001b[43mmax_vals\u001b[49m\u001b[38;5;241;43m=\u001b[39;49m\u001b[38;5;28;43mself\u001b[39;49m\u001b[38;5;241;43m.\u001b[39;49m\u001b[43mmax_vals\u001b[49m\u001b[43m,\u001b[49m\n\u001b[1;32m    221\u001b[0m \u001b[43m    \u001b[49m\u001b[43mentities\u001b[49m\u001b[38;5;241;43m=\u001b[39;49m\u001b[38;5;28;43mself\u001b[39;49m\u001b[38;5;241;43m.\u001b[39;49m\u001b[43mentities\u001b[49m\u001b[43m,\u001b[49m\n\u001b[1;32m    222\u001b[0m \u001b[43m    \u001b[49m\u001b[38;5;66;43;03m# scalar_manager=scalar_manager,\u001b[39;49;00m\n\u001b[1;32m    223\u001b[0m \u001b[43m\u001b[49m\u001b[43m)\u001b[49m\n",
      "File \u001b[0;32m~/PycharmProjects/PySyft/packages/syft/src/syft/core/tensor/autodp/initial_gamma.py:81\u001b[0m, in \u001b[0;36mInitialGammaTensor.__init__\u001b[0;34m(self, values, min_vals, max_vals, entities, scalar_manager)\u001b[0m\n\u001b[1;32m     78\u001b[0m     \u001b[38;5;28mself\u001b[39m\u001b[38;5;241m.\u001b[39mscalar_manager \u001b[38;5;241m=\u001b[39m scalar_manager\n\u001b[1;32m     80\u001b[0m flat_values \u001b[38;5;241m=\u001b[39m \u001b[38;5;28mself\u001b[39m\u001b[38;5;241m.\u001b[39mvalues\u001b[38;5;241m.\u001b[39mflatten()\n\u001b[0;32m---> 81\u001b[0m flat_min_vals \u001b[38;5;241m=\u001b[39m \u001b[38;5;28;43mself\u001b[39;49m\u001b[38;5;241;43m.\u001b[39;49m\u001b[43mmin_vals\u001b[49m\u001b[38;5;241;43m.\u001b[39;49m\u001b[43mflatten\u001b[49m()\n\u001b[1;32m     82\u001b[0m flat_max_vals \u001b[38;5;241m=\u001b[39m \u001b[38;5;28mself\u001b[39m\u001b[38;5;241m.\u001b[39mmax_vals\u001b[38;5;241m.\u001b[39mflatten()\n\u001b[1;32m     84\u001b[0m \u001b[38;5;66;03m# If it's a list of lists, then it should still work\u001b[39;00m\n",
      "\u001b[0;31mAttributeError\u001b[0m: 'lazyrepeatarray' object has no attribute 'flatten'"
     ]
    }
   ],
   "source": [
    "t3 = t + t2"
   ]
  },
  {
   "cell_type": "code",
   "execution_count": 29,
   "id": "1b0ab872-e7e7-42c4-bacc-d5390adfce10",
   "metadata": {},
   "outputs": [
    {
     "data": {
      "text/plain": [
       "<lazyrepeatarray data: 0 -> shape: (100,)>"
      ]
     },
     "execution_count": 29,
     "metadata": {},
     "output_type": "execute_result"
    }
   ],
   "source": [
    "t2.min_vals"
   ]
  },
  {
   "cell_type": "code",
   "execution_count": 30,
   "id": "f736747d-3e64-456e-beb7-fd5439a955c5",
   "metadata": {},
   "outputs": [
    {
     "data": {
      "text/plain": [
       "<lazyrepeatarray data: 10 -> shape: (100,)>"
      ]
     },
     "execution_count": 30,
     "metadata": {},
     "output_type": "execute_result"
    }
   ],
   "source": [
    "t2.max_vals"
   ]
  },
  {
   "cell_type": "code",
   "execution_count": 31,
   "id": "e10c2033-d859-4cb8-9dd6-49f79caebf0b",
   "metadata": {},
   "outputs": [
    {
     "data": {
      "text/plain": [
       "array([4, 2, 2, 3, 4, 2, 1, 4, 1, 0, 2, 1, 3, 2, 4, 0, 0, 1, 2, 2, 0, 2,\n",
       "       3, 2, 2, 1, 0, 2, 3, 3, 1, 2, 1, 3, 4, 1, 2, 1, 2, 3, 0, 2, 4, 3,\n",
       "       0, 1, 2, 2, 0, 0, 4, 2, 2, 3, 4, 1, 0, 1, 0, 1, 1, 0, 0, 0, 3, 1,\n",
       "       2, 2, 0, 3, 0, 2, 2, 2, 0, 3, 1, 3, 0, 0, 3, 4, 0, 4, 0, 0, 2, 0,\n",
       "       4, 3, 1, 2, 0, 2, 1, 0, 2, 1, 0, 2], dtype=int32)"
      ]
     },
     "execution_count": 31,
     "metadata": {},
     "output_type": "execute_result"
    }
   ],
   "source": [
    "t2.value"
   ]
  },
  {
   "cell_type": "code",
   "execution_count": null,
   "id": "5bc81e64-e778-42db-ab54-0cb075f71811",
   "metadata": {},
   "outputs": [],
   "source": [
    "t2."
   ]
  }
 ],
 "metadata": {
  "kernelspec": {
   "display_name": "Python 3 (ipykernel)",
   "language": "python",
   "name": "python3"
  },
  "language_info": {
   "codemirror_mode": {
    "name": "ipython",
    "version": 3
   },
   "file_extension": ".py",
   "mimetype": "text/x-python",
   "name": "python",
   "nbconvert_exporter": "python",
   "pygments_lexer": "ipython3",
   "version": "3.8.10"
  }
 },
 "nbformat": 4,
 "nbformat_minor": 5
}
