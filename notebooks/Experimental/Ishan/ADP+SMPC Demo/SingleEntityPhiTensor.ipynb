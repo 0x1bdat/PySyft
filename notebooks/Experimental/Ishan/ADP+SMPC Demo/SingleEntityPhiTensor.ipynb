{
 "cells": [
  {
   "cell_type": "code",
   "execution_count": 1,
   "id": "53e5ed2c-b9fe-4282-9463-407c4c1d0a49",
   "metadata": {},
   "outputs": [],
   "source": [
    "#!pip install pydantic[email]"
   ]
  },
  {
   "cell_type": "code",
   "execution_count": 2,
   "id": "62c8a01d-6dba-4c19-a5e2-3bff67f79653",
   "metadata": {},
   "outputs": [
    {
     "name": "stdout",
     "output_type": "stream",
     "text": [
      "Seeding DB with roles!\n"
     ]
    }
   ],
   "source": [
    "import syft as sy\n",
    "import numpy as np\n",
    "from syft.core.adp.entity import Entity"
   ]
  },
  {
   "cell_type": "code",
   "execution_count": 3,
   "id": "aeceb1d1-dc1d-4d14-9026-a1ab4088c49e",
   "metadata": {},
   "outputs": [
    {
     "name": "stdout",
     "output_type": "stream",
     "text": [
      "Connecting to http://localhost:8081... done! \t Logging into adp... done!\n"
     ]
    }
   ],
   "source": [
    "new_domain = sy.login(email=\"info@openmined.org\", password=\"changethis\", port=8081)"
   ]
  },
  {
   "cell_type": "code",
   "execution_count": 4,
   "id": "e4d6c36c-46da-45e5-b32d-b317809b41e1",
   "metadata": {},
   "outputs": [],
   "source": [
    "ishan = Entity(name=\"Ishan\")"
   ]
  },
  {
   "cell_type": "code",
   "execution_count": 5,
   "id": "1e5a397e-d6bc-45e1-b1c8-39b936abd307",
   "metadata": {},
   "outputs": [],
   "source": [
    "data = sy.Tensor(np.random.rand(1, 10)).private(0, 10, entity=ishan)"
   ]
  },
  {
   "cell_type": "code",
   "execution_count": 6,
   "id": "8679fa27-4c6d-4c63-b858-83f7b6aada4a",
   "metadata": {},
   "outputs": [
    {
     "data": {
      "text/plain": [
       "Tensor(child=SingleEntityPhiTensor(entity=Ishan, child=[[0.98029834 0.74776842 0.1153548  0.3580842  0.82722226 0.52163634\n",
       "  0.09434249 0.64173596 0.57502927 0.34408987]]))"
      ]
     },
     "execution_count": 6,
     "metadata": {},
     "output_type": "execute_result"
    }
   ],
   "source": [
    "data"
   ]
  },
  {
   "cell_type": "code",
   "execution_count": 7,
   "id": "6bce2a14-53ac-477a-a4da-2ac1d48d1d29",
   "metadata": {},
   "outputs": [
    {
     "data": {
      "text/plain": [
       "<SingleEntityPhiTensorPointer -> adp:e612747d647c4a29b8b46a54a84a9ef0>"
      ]
     },
     "execution_count": 7,
     "metadata": {},
     "output_type": "execute_result"
    }
   ],
   "source": [
    "data.child.init_pointer(client=new_domain)"
   ]
  },
  {
   "cell_type": "code",
   "execution_count": 8,
   "id": "1934c543-6d18-4ff0-9e63-800ad9321d9b",
   "metadata": {},
   "outputs": [],
   "source": [
    "se_ptr = data.child.init_pointer(client=new_domain)"
   ]
  },
  {
   "cell_type": "code",
   "execution_count": 9,
   "id": "d24684c7-b64d-4f95-aecf-c739864b96b5",
   "metadata": {},
   "outputs": [
    {
     "data": {
      "text/plain": [
       "syft.proxy.syft.core.tensor.tensor.SingleEntityPhiTensorPointer"
      ]
     },
     "execution_count": 9,
     "metadata": {},
     "output_type": "execute_result"
    }
   ],
   "source": [
    "type(se_ptr)"
   ]
  },
  {
   "cell_type": "code",
   "execution_count": 10,
   "id": "607bb70e-c290-465a-b852-fdc0158c9746",
   "metadata": {},
   "outputs": [
    {
     "data": {
      "text/plain": [
       "child {\n",
       "  arrow_data: \"\\377\\377\\377\\377\\370\\000\\000\\000\\024\\000\\000\\000\\000\\000\\000\\000\\014\\000\\032\\000\\006\\000\\005\\000\\010\\000\\014\\000\\014\\000\\000\\000\\000\\004\\004\\000 \\000\\000\\000P\\000\\000\\000\\000\\000\\000\\000\\000\\000\\000\\000\\000\\000\\016\\000(\\000\\007\\000\\010\\000\\014\\000\\020\\000\\024\\000\\016\\000\\000\\000\\000\\000\\000\\003\\214\\000\\000\\0004\\000\\000\\000\\030\\000\\000\\000\\000\\000\\000\\000\\000\\000\\000\\000P\\000\\000\\000\\000\\000\\000\\000\\000\\000\\000\\000\\002\\000\\000\\000P\\000\\000\\000\\000\\000\\000\\000\\010\\000\\000\\000\\000\\000\\000\\000\\000\\000\\000\\000\\002\\000\\000\\0000\\000\\000\\000\\014\\000\\000\\000\\010\\000\\020\\000\\010\\000\\004\\000\\010\\000\\000\\000\\014\\000\\000\\000\\n\\000\\000\\000\\000\\000\\000\\000\\000\\000\\000\\000\\000\\000\\000\\000\\010\\000\\024\\000\\010\\000\\004\\000\\010\\000\\000\\000\\020\\000\\000\\000\\001\\000\\000\\000\\000\\000\\000\\000\\000\\000\\000\\000\\000\\000\\000\\000\\000\\000\\006\\000\\010\\000\\006\\000\\006\\000\\000\\000\\000\\000\\002\\000\\000\\000\\000\\000\\000\\000\\000\\000\\000\\000\\000\\000\\000\\000\\000\\000\\000\\000\\000\\000\\000\\000\\000\\000\\000\\000\\000\\000\\000\\000\\000\\000_\\034c\\241\\232^\\357?o\\232\\276\\007\\270\\355\\347?\\260\\354\\rR\\344\\207\\275?\\246\\355e\\000\\332\\352\\326?\\3218\\362\\320\\232x\\352?\\r4\\'\\257>\\261\\340?XG5M\\324&\\270?~)\\201\\332\\031\\211\\344?\\371\\255r\\310\\243f\\342?\\236\\241\\241\\202\\221\\005\\326?\"\n",
       "}\n",
       "entity {\n",
       "  name: \"Ishan\"\n",
       "  id {\n",
       "    value: \"y\\352\\022~\\'SI\\227\\2015fXAk\\203u\"\n",
       "  }\n",
       "}\n",
       "min_vals {\n",
       "  arrow_data: \"\\377\\377\\377\\377\\370\\000\\000\\000\\024\\000\\000\\000\\000\\000\\000\\000\\014\\000\\032\\000\\006\\000\\005\\000\\010\\000\\014\\000\\014\\000\\000\\000\\000\\004\\004\\000 \\000\\000\\000P\\000\\000\\000\\000\\000\\000\\000\\000\\000\\000\\000\\000\\000\\016\\000(\\000\\007\\000\\010\\000\\014\\000\\020\\000\\024\\000\\016\\000\\000\\000\\000\\000\\000\\003\\214\\000\\000\\0004\\000\\000\\000\\030\\000\\000\\000\\000\\000\\000\\000\\000\\000\\000\\000P\\000\\000\\000\\000\\000\\000\\000\\000\\000\\000\\000\\002\\000\\000\\000P\\000\\000\\000\\000\\000\\000\\000\\010\\000\\000\\000\\000\\000\\000\\000\\000\\000\\000\\000\\002\\000\\000\\0000\\000\\000\\000\\014\\000\\000\\000\\010\\000\\020\\000\\010\\000\\004\\000\\010\\000\\000\\000\\014\\000\\000\\000\\n\\000\\000\\000\\000\\000\\000\\000\\000\\000\\000\\000\\000\\000\\000\\000\\010\\000\\024\\000\\010\\000\\004\\000\\010\\000\\000\\000\\020\\000\\000\\000\\001\\000\\000\\000\\000\\000\\000\\000\\000\\000\\000\\000\\000\\000\\000\\000\\000\\000\\006\\000\\010\\000\\006\\000\\006\\000\\000\\000\\000\\000\\002\\000\\000\\000\\000\\000\\000\\000\\000\\000\\000\\000\\000\\000\\000\\000\\000\\000\\000\\000\\000\\000\\000\\000\\000\\000\\000\\000\\000\\000\\000\\000\\000\\000\\000\\000\\000\\000\\000\\000\\000\\000\\000\\000\\000\\000\\000\\000\\000\\000\\000\\000\\000\\000\\000\\000\\000\\000\\000\\000\\000\\000\\000\\000\\000\\000\\000\\000\\000\\000\\000\\000\\000\\000\\000\\000\\000\\000\\000\\000\\000\\000\\000\\000\\000\\000\\000\\000\\000\\000\\000\\000\\000\\000\\000\\000\\000\\000\\000\\000\\000\\000\\000\\000\\000\\000\\000\\000\\000\\000\\000\\000\\000\\000\"\n",
       "}\n",
       "max_vals {\n",
       "  arrow_data: \"\\377\\377\\377\\377\\370\\000\\000\\000\\024\\000\\000\\000\\000\\000\\000\\000\\014\\000\\032\\000\\006\\000\\005\\000\\010\\000\\014\\000\\014\\000\\000\\000\\000\\004\\004\\000 \\000\\000\\000P\\000\\000\\000\\000\\000\\000\\000\\000\\000\\000\\000\\000\\000\\016\\000(\\000\\007\\000\\010\\000\\014\\000\\020\\000\\024\\000\\016\\000\\000\\000\\000\\000\\000\\003\\214\\000\\000\\0004\\000\\000\\000\\030\\000\\000\\000\\000\\000\\000\\000\\000\\000\\000\\000P\\000\\000\\000\\000\\000\\000\\000\\000\\000\\000\\000\\002\\000\\000\\000P\\000\\000\\000\\000\\000\\000\\000\\010\\000\\000\\000\\000\\000\\000\\000\\000\\000\\000\\000\\002\\000\\000\\0000\\000\\000\\000\\014\\000\\000\\000\\010\\000\\020\\000\\010\\000\\004\\000\\010\\000\\000\\000\\014\\000\\000\\000\\n\\000\\000\\000\\000\\000\\000\\000\\000\\000\\000\\000\\000\\000\\000\\000\\010\\000\\024\\000\\010\\000\\004\\000\\010\\000\\000\\000\\020\\000\\000\\000\\001\\000\\000\\000\\000\\000\\000\\000\\000\\000\\000\\000\\000\\000\\000\\000\\000\\000\\006\\000\\010\\000\\006\\000\\006\\000\\000\\000\\000\\000\\002\\000\\000\\000\\000\\000\\000\\000\\000\\000\\000\\000\\000\\000\\000\\000\\000\\000\\000\\000\\000\\000\\000\\000\\000\\000\\000\\000\\000\\000\\000\\000\\000\\000\\000\\000\\000\\000\\000\\000$@\\000\\000\\000\\000\\000\\000$@\\000\\000\\000\\000\\000\\000$@\\000\\000\\000\\000\\000\\000$@\\000\\000\\000\\000\\000\\000$@\\000\\000\\000\\000\\000\\000$@\\000\\000\\000\\000\\000\\000$@\\000\\000\\000\\000\\000\\000$@\\000\\000\\000\\000\\000\\000$@\\000\\000\\000\\000\\000\\000$@\"\n",
       "}\n",
       "location {\n",
       "  name: \"adp\"\n",
       "  has_domain: true\n",
       "  domain {\n",
       "    id {\n",
       "      value: \"\\025)\\247[\\277\\256B\\231\\232\\007md\\353\\320\\273\\206\"\n",
       "    }\n",
       "    name: \"adp\"\n",
       "  }\n",
       "}\n",
       "scalar_manager: \"\\nJsyft.core.adp.vm_private_scalar_manager.VirtualMachinePrivateScalarManager\\022\\263\\004\\n\\344\\003\\n\\024syft.lib.python.Dict\\022\\313\\003\\n=\\n\\026syft.lib.python.String\\022#\\n\\rprime_factory\\022\\022\\n\\020\\321\\\"\\017\\327\\333kK\\202\\223a\\014m\\216\\247@~\\n<\\n\\026syft.lib.python.String\\022\\\"\\n\\014prime2symbol\\022\\022\\n\\020\\341\\202\\211\\324\\235\\301JW\\206\\336%\\347L\\300\\323\\203\\022\\211\\002\\n4syft.core.adp.vm_private_scalar_manager.PrimeFactory\\022\\320\\001\\n\\227\\001\\n\\024syft.lib.python.Dict\\022\\177\\n:\\n\\026syft.lib.python.String\\022 \\n\\nprev_prime\\022\\022\\n\\020\\355_\\234v\\260\\206G\\207\\220;\\216h\\325\\020\\240h\\022-\\n\\023syft.lib.python.Int\\022\\026\\010\\001\\022\\022\\n\\020\\316\\346\\362\\260\\036\\322D\\361\\245X\\0238\\220\\343\\t\\317\\032\\022\\n\\020.e\\301\\373G\\330K/\\230\\336)\\t\\032\\254\\205<\\0224syft.core.adp.vm_private_scalar_manager.PrimeFactory\\022,\\n\\024syft.lib.python.Dict\\022\\024\\032\\022\\n\\020D\\246\\245\\004?\\266A?\\216\\203\\270\\360\\273\\035\\030\\243\\032\\022\\n\\020C\\331\\244\\001\\345OD}\\224\\240T\\331\\255\\313>\\342\\022Jsyft.core.adp.vm_private_scalar_manager.VirtualMachinePrivateScalarManager\"\n",
       "id_at_location {\n",
       "  value: \"\\237Z\\260\\352\\245DK]\\234@Q]\\243\\340\\317[\"\n",
       "}\n",
       "object_type: \"\\n\\026syft.lib.python.String\\022\\026\\022\\022\\n\\020\\024\\370\\345\\252\\277\\305LV\\224\\221\\326f\\030\\027\\320\\372\\030\\001\"\n",
       "tags: \"\\n\\026syft.lib.python.String\\022\\026\\022\\022\\n\\020-\\260!&\\007\\216D\\215\\247\\354\\n\\\"\\035+\\017\\214\\030\\001\""
      ]
     },
     "execution_count": 10,
     "metadata": {},
     "output_type": "execute_result"
    }
   ],
   "source": [
    "sy.serialize(se_ptr)"
   ]
  },
  {
   "cell_type": "code",
   "execution_count": 11,
   "id": "ed6c90e5-2f2c-4fde-bb8e-1e3828b6e88f",
   "metadata": {},
   "outputs": [],
   "source": [
    "serialized_ptr = sy.serialize(se_ptr)"
   ]
  },
  {
   "cell_type": "code",
   "execution_count": 12,
   "id": "a1778d05-741a-40c0-a3cb-692ed81a3023",
   "metadata": {},
   "outputs": [
    {
     "name": "stderr",
     "output_type": "stream",
     "text": [
      "[2021-08-26T18:34:12.966693-0400][CRITICAL][logger]][15753] You tried to deserialize an unsupported type. This can be caused by several reasons. Either you are actively writing Syft code and forgot to create one, or you are trying to deserialize an object which was serialized using a different version of Syft and the object you tried to deserialize is not supported in this version.\n"
     ]
    },
    {
     "ename": "TypeError",
     "evalue": "You tried to deserialize an unsupported type. This can be caused by several reasons. Either you are actively writing Syft code and forgot to create one, or you are trying to deserialize an object which was serialized using a different version of Syft and the object you tried to deserialize is not supported in this version.",
     "output_type": "error",
     "traceback": [
      "\u001b[0;31m---------------------------------------------------------------------------\u001b[0m",
      "\u001b[0;31mTypeError\u001b[0m                                 Traceback (most recent call last)",
      "\u001b[0;32m/var/folders/cs/tql716257t32sb3kr5r9rbkc0000gn/T/ipykernel_15753/910620599.py\u001b[0m in \u001b[0;36m<module>\u001b[0;34m\u001b[0m\n\u001b[0;32m----> 1\u001b[0;31m \u001b[0msy\u001b[0m\u001b[0;34m.\u001b[0m\u001b[0mdeserialize\u001b[0m\u001b[0;34m(\u001b[0m\u001b[0mserialized_ptr\u001b[0m\u001b[0;34m)\u001b[0m\u001b[0;34m\u001b[0m\u001b[0;34m\u001b[0m\u001b[0m\n\u001b[0m",
      "\u001b[0;32m~/PycharmProjects/PySyft/packages/syft/src/syft/core/common/serde/deserialize.py\u001b[0m in \u001b[0;36m_deserialize\u001b[0;34m(blob, from_proto, from_bytes)\u001b[0m\n\u001b[1;32m     83\u001b[0m         \u001b[0mobj_type\u001b[0m \u001b[0;34m=\u001b[0m \u001b[0mgetattr\u001b[0m\u001b[0;34m(\u001b[0m\u001b[0mblob\u001b[0m\u001b[0;34m,\u001b[0m \u001b[0;34m\"obj_type\"\u001b[0m\u001b[0;34m,\u001b[0m \u001b[0;32mNone\u001b[0m\u001b[0;34m)\u001b[0m\u001b[0;34m\u001b[0m\u001b[0;34m\u001b[0m\u001b[0m\n\u001b[1;32m     84\u001b[0m         \u001b[0;32mif\u001b[0m \u001b[0mobj_type\u001b[0m \u001b[0;32mis\u001b[0m \u001b[0;32mNone\u001b[0m\u001b[0;34m:\u001b[0m\u001b[0;34m\u001b[0m\u001b[0;34m\u001b[0m\u001b[0m\n\u001b[0;32m---> 85\u001b[0;31m             \u001b[0mtraceback_and_raise\u001b[0m\u001b[0;34m(\u001b[0m\u001b[0mdeserialization_error\u001b[0m\u001b[0;34m)\u001b[0m\u001b[0;34m\u001b[0m\u001b[0;34m\u001b[0m\u001b[0m\n\u001b[0m\u001b[1;32m     86\u001b[0m         \u001b[0mobj_type\u001b[0m \u001b[0;34m=\u001b[0m \u001b[0mindex_syft_by_module_name\u001b[0m\u001b[0;34m(\u001b[0m\u001b[0mfully_qualified_name\u001b[0m\u001b[0;34m=\u001b[0m\u001b[0mobj_type\u001b[0m\u001b[0;34m)\u001b[0m  \u001b[0;31m# type: ignore\u001b[0m\u001b[0;34m\u001b[0m\u001b[0;34m\u001b[0m\u001b[0m\n\u001b[1;32m     87\u001b[0m         \u001b[0mobj_type\u001b[0m \u001b[0;34m=\u001b[0m \u001b[0mgetattr\u001b[0m\u001b[0;34m(\u001b[0m\u001b[0mobj_type\u001b[0m\u001b[0;34m,\u001b[0m \u001b[0;34m\"_sy_serializable_wrapper_type\"\u001b[0m\u001b[0;34m,\u001b[0m \u001b[0mobj_type\u001b[0m\u001b[0;34m)\u001b[0m\u001b[0;34m\u001b[0m\u001b[0;34m\u001b[0m\u001b[0m\n",
      "\u001b[0;32m~/PycharmProjects/PySyft/packages/syft/src/syft/logger.py\u001b[0m in \u001b[0;36mtraceback_and_raise\u001b[0;34m(e, verbose)\u001b[0m\n\u001b[1;32m     59\u001b[0m     \u001b[0;32mif\u001b[0m \u001b[0;32mnot\u001b[0m \u001b[0missubclass\u001b[0m\u001b[0;34m(\u001b[0m\u001b[0mtype\u001b[0m\u001b[0;34m(\u001b[0m\u001b[0me\u001b[0m\u001b[0;34m)\u001b[0m\u001b[0;34m,\u001b[0m \u001b[0mException\u001b[0m\u001b[0;34m)\u001b[0m\u001b[0;34m:\u001b[0m\u001b[0;34m\u001b[0m\u001b[0;34m\u001b[0m\u001b[0m\n\u001b[1;32m     60\u001b[0m         \u001b[0me\u001b[0m \u001b[0;34m=\u001b[0m \u001b[0mException\u001b[0m\u001b[0;34m(\u001b[0m\u001b[0me\u001b[0m\u001b[0;34m)\u001b[0m\u001b[0;34m\u001b[0m\u001b[0;34m\u001b[0m\u001b[0m\n\u001b[0;32m---> 61\u001b[0;31m     \u001b[0;32mraise\u001b[0m \u001b[0me\u001b[0m\u001b[0;34m\u001b[0m\u001b[0;34m\u001b[0m\u001b[0m\n\u001b[0m\u001b[1;32m     62\u001b[0m \u001b[0;34m\u001b[0m\u001b[0m\n\u001b[1;32m     63\u001b[0m \u001b[0;34m\u001b[0m\u001b[0m\n",
      "\u001b[0;31mTypeError\u001b[0m: You tried to deserialize an unsupported type. This can be caused by several reasons. Either you are actively writing Syft code and forgot to create one, or you are trying to deserialize an object which was serialized using a different version of Syft and the object you tried to deserialize is not supported in this version."
     ]
    }
   ],
   "source": [
    "sy.deserialize(serialized_ptr)"
   ]
  },
  {
   "cell_type": "code",
   "execution_count": 13,
   "id": "00cf3be1-691b-4343-83cb-149efdacf85d",
   "metadata": {},
   "outputs": [
    {
     "data": {
      "text/plain": [
       "proto.core.tensor.single_entity_phi_tensor_pb2.SingleEntityPhiTensorPointer"
      ]
     },
     "execution_count": 13,
     "metadata": {},
     "output_type": "execute_result"
    }
   ],
   "source": [
    "type(serialized_ptr)"
   ]
  },
  {
   "cell_type": "code",
   "execution_count": 14,
   "id": "37c88388-37ba-4b9a-82ef-54ff5b350000",
   "metadata": {},
   "outputs": [
    {
     "data": {
      "text/plain": [
       "[<Entity:Ishan>,\n",
       " array([[0.98029834, 0.74776842, 0.1153548 , 0.3580842 , 0.82722226,\n",
       "         0.52163634, 0.09434249, 0.64173596, 0.57502927, 0.34408987]]),\n",
       " array([[0., 0., 0., 0., 0., 0., 0., 0., 0., 0.]]),\n",
       " array([[10., 10., 10., 10., 10., 10., 10., 10., 10., 10.]]),\n",
       " <Address - Domain:<SpecificLocation:..0bb86>>,\n",
       " <syft.core.adp.vm_private_scalar_manager.VirtualMachinePrivateScalarManager at 0x102b9fc40>,\n",
       " <UID: 9f5ab0eaa5444b5d9c40515da3e0cf5b>,\n",
       " '',\n",
       " '']"
      ]
     },
     "execution_count": 14,
     "metadata": {},
     "output_type": "execute_result"
    }
   ],
   "source": [
    "# Debugging deserialization issues\n",
    "\n",
    "proto = serialized_ptr\n",
    "[sy.deserialize(proto.entity, from_proto=True),\n",
    "sy.deserialize(proto.child),\n",
    "sy.deserialize(proto.min_vals),\n",
    "sy.deserialize(proto.max_vals),\n",
    "sy.deserialize(proto.location)\n",
    ",sy.deserialize(proto.scalar_manager, from_bytes=True)\n",
    ",sy.deserialize(proto.id_at_location, from_proto=True)\n",
    ",sy.deserialize(proto.object_type, from_bytes=True)\n",
    ",sy.deserialize(proto.tags, from_bytes=True)\n",
    "]"
   ]
  },
  {
   "cell_type": "code",
   "execution_count": 15,
   "id": "95eb4ee2-67b5-4f97-b571-6c9066cb79b2",
   "metadata": {},
   "outputs": [
    {
     "name": "stderr",
     "output_type": "stream",
     "text": [
      "[2021-08-26T18:34:43.467291-0400][CRITICAL][logger]][15753] You tried to deserialize an unsupported type. This can be caused by several reasons. Either you are actively writing Syft code and forgot to create one, or you are trying to deserialize an object which was serialized using a different version of Syft and the object you tried to deserialize is not supported in this version.\n"
     ]
    },
    {
     "ename": "TypeError",
     "evalue": "You tried to deserialize an unsupported type. This can be caused by several reasons. Either you are actively writing Syft code and forgot to create one, or you are trying to deserialize an object which was serialized using a different version of Syft and the object you tried to deserialize is not supported in this version.",
     "output_type": "error",
     "traceback": [
      "\u001b[0;31m---------------------------------------------------------------------------\u001b[0m",
      "\u001b[0;31mTypeError\u001b[0m                                 Traceback (most recent call last)",
      "\u001b[0;32m/var/folders/cs/tql716257t32sb3kr5r9rbkc0000gn/T/ipykernel_15753/910620599.py\u001b[0m in \u001b[0;36m<module>\u001b[0;34m\u001b[0m\n\u001b[0;32m----> 1\u001b[0;31m \u001b[0msy\u001b[0m\u001b[0;34m.\u001b[0m\u001b[0mdeserialize\u001b[0m\u001b[0;34m(\u001b[0m\u001b[0mserialized_ptr\u001b[0m\u001b[0;34m)\u001b[0m\u001b[0;34m\u001b[0m\u001b[0;34m\u001b[0m\u001b[0m\n\u001b[0m",
      "\u001b[0;32m~/PycharmProjects/PySyft/packages/syft/src/syft/core/common/serde/deserialize.py\u001b[0m in \u001b[0;36m_deserialize\u001b[0;34m(blob, from_proto, from_bytes)\u001b[0m\n\u001b[1;32m     83\u001b[0m         \u001b[0mobj_type\u001b[0m \u001b[0;34m=\u001b[0m \u001b[0mgetattr\u001b[0m\u001b[0;34m(\u001b[0m\u001b[0mblob\u001b[0m\u001b[0;34m,\u001b[0m \u001b[0;34m\"obj_type\"\u001b[0m\u001b[0;34m,\u001b[0m \u001b[0;32mNone\u001b[0m\u001b[0;34m)\u001b[0m\u001b[0;34m\u001b[0m\u001b[0;34m\u001b[0m\u001b[0m\n\u001b[1;32m     84\u001b[0m         \u001b[0;32mif\u001b[0m \u001b[0mobj_type\u001b[0m \u001b[0;32mis\u001b[0m \u001b[0;32mNone\u001b[0m\u001b[0;34m:\u001b[0m\u001b[0;34m\u001b[0m\u001b[0;34m\u001b[0m\u001b[0m\n\u001b[0;32m---> 85\u001b[0;31m             \u001b[0mtraceback_and_raise\u001b[0m\u001b[0;34m(\u001b[0m\u001b[0mdeserialization_error\u001b[0m\u001b[0;34m)\u001b[0m\u001b[0;34m\u001b[0m\u001b[0;34m\u001b[0m\u001b[0m\n\u001b[0m\u001b[1;32m     86\u001b[0m         \u001b[0mobj_type\u001b[0m \u001b[0;34m=\u001b[0m \u001b[0mindex_syft_by_module_name\u001b[0m\u001b[0;34m(\u001b[0m\u001b[0mfully_qualified_name\u001b[0m\u001b[0;34m=\u001b[0m\u001b[0mobj_type\u001b[0m\u001b[0;34m)\u001b[0m  \u001b[0;31m# type: ignore\u001b[0m\u001b[0;34m\u001b[0m\u001b[0;34m\u001b[0m\u001b[0m\n\u001b[1;32m     87\u001b[0m         \u001b[0mobj_type\u001b[0m \u001b[0;34m=\u001b[0m \u001b[0mgetattr\u001b[0m\u001b[0;34m(\u001b[0m\u001b[0mobj_type\u001b[0m\u001b[0;34m,\u001b[0m \u001b[0;34m\"_sy_serializable_wrapper_type\"\u001b[0m\u001b[0;34m,\u001b[0m \u001b[0mobj_type\u001b[0m\u001b[0;34m)\u001b[0m\u001b[0;34m\u001b[0m\u001b[0;34m\u001b[0m\u001b[0m\n",
      "\u001b[0;32m~/PycharmProjects/PySyft/packages/syft/src/syft/logger.py\u001b[0m in \u001b[0;36mtraceback_and_raise\u001b[0;34m(e, verbose)\u001b[0m\n\u001b[1;32m     59\u001b[0m     \u001b[0;32mif\u001b[0m \u001b[0;32mnot\u001b[0m \u001b[0missubclass\u001b[0m\u001b[0;34m(\u001b[0m\u001b[0mtype\u001b[0m\u001b[0;34m(\u001b[0m\u001b[0me\u001b[0m\u001b[0;34m)\u001b[0m\u001b[0;34m,\u001b[0m \u001b[0mException\u001b[0m\u001b[0;34m)\u001b[0m\u001b[0;34m:\u001b[0m\u001b[0;34m\u001b[0m\u001b[0;34m\u001b[0m\u001b[0m\n\u001b[1;32m     60\u001b[0m         \u001b[0me\u001b[0m \u001b[0;34m=\u001b[0m \u001b[0mException\u001b[0m\u001b[0;34m(\u001b[0m\u001b[0me\u001b[0m\u001b[0;34m)\u001b[0m\u001b[0;34m\u001b[0m\u001b[0;34m\u001b[0m\u001b[0m\n\u001b[0;32m---> 61\u001b[0;31m     \u001b[0;32mraise\u001b[0m \u001b[0me\u001b[0m\u001b[0;34m\u001b[0m\u001b[0;34m\u001b[0m\u001b[0m\n\u001b[0m\u001b[1;32m     62\u001b[0m \u001b[0;34m\u001b[0m\u001b[0m\n\u001b[1;32m     63\u001b[0m \u001b[0;34m\u001b[0m\u001b[0m\n",
      "\u001b[0;31mTypeError\u001b[0m: You tried to deserialize an unsupported type. This can be caused by several reasons. Either you are actively writing Syft code and forgot to create one, or you are trying to deserialize an object which was serialized using a different version of Syft and the object you tried to deserialize is not supported in this version."
     ]
    }
   ],
   "source": [
    "sy.deserialize(serialized_ptr)"
   ]
  },
  {
   "cell_type": "code",
   "execution_count": 16,
   "id": "92835236-4f66-46c8-b8e7-e35742a39325",
   "metadata": {},
   "outputs": [
    {
     "data": {
      "text/plain": [
       "name: \"adp\"\n",
       "has_domain: true\n",
       "domain {\n",
       "  id {\n",
       "    value: \"\\025)\\247[\\277\\256B\\231\\232\\007md\\353\\320\\273\\206\"\n",
       "  }\n",
       "  name: \"adp\"\n",
       "}"
      ]
     },
     "execution_count": 16,
     "metadata": {},
     "output_type": "execute_result"
    }
   ],
   "source": [
    "proto.location"
   ]
  },
  {
   "cell_type": "code",
   "execution_count": null,
   "id": "cf8040ac-7296-4e81-90b2-fca408756efa",
   "metadata": {},
   "outputs": [],
   "source": []
  }
 ],
 "metadata": {
  "kernelspec": {
   "display_name": "Python 3 (ipykernel)",
   "language": "python",
   "name": "python3"
  },
  "language_info": {
   "codemirror_mode": {
    "name": "ipython",
    "version": 3
   },
   "file_extension": ".py",
   "mimetype": "text/x-python",
   "name": "python",
   "nbconvert_exporter": "python",
   "pygments_lexer": "ipython3",
   "version": "3.9.1"
  }
 },
 "nbformat": 4,
 "nbformat_minor": 5
}
