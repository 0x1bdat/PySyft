{
 "cells": [
  {
   "cell_type": "code",
   "execution_count": 2,
   "id": "46b15c0d-aa6f-40f5-9a54-7c73d0ff1486",
   "metadata": {},
   "outputs": [
    {
     "name": "stdout",
     "output_type": "stream",
     "text": [
      "Seeding DB with roles!\n"
     ]
    }
   ],
   "source": [
    "import syft as sy\n",
    "import numpy as np\n",
    "from syft.core.adp.entity import Entity"
   ]
  },
  {
   "cell_type": "code",
   "execution_count": 3,
   "id": "10ab0e54-d21a-40a8-8801-cd0f6b761b07",
   "metadata": {},
   "outputs": [
    {
     "name": "stdout",
     "output_type": "stream",
     "text": [
      "Connecting to http://localhost:8081... done! \t Logging into adp... done!\n"
     ]
    }
   ],
   "source": [
    "new_domain = sy.login(email=\"sponge@bob.com\", password=\"squarepants\", port=8081)"
   ]
  },
  {
   "cell_type": "code",
   "execution_count": 4,
   "id": "2759c0e6-1336-412b-bc98-53b90591bfa0",
   "metadata": {},
   "outputs": [
    {
     "data": {
      "text/html": [
       "<div>\n",
       "<style scoped>\n",
       "    .dataframe tbody tr th:only-of-type {\n",
       "        vertical-align: middle;\n",
       "    }\n",
       "\n",
       "    .dataframe tbody tr th {\n",
       "        vertical-align: top;\n",
       "    }\n",
       "\n",
       "    .dataframe thead th {\n",
       "        text-align: right;\n",
       "    }\n",
       "</style>\n",
       "<table border=\"1\" class=\"dataframe\">\n",
       "  <thead>\n",
       "    <tr style=\"text-align: right;\">\n",
       "      <th></th>\n",
       "      <th>ID</th>\n",
       "      <th>Tags</th>\n",
       "      <th>Description</th>\n",
       "      <th>object_type</th>\n",
       "    </tr>\n",
       "  </thead>\n",
       "  <tbody>\n",
       "    <tr>\n",
       "      <th>0</th>\n",
       "      <td>&lt;UID: 338b73b094b345e39b4ab9e90ab458c2&gt;</td>\n",
       "      <td>[]</td>\n",
       "      <td></td>\n",
       "      <td>&lt;class 'syft.core.tensor.tensor.Tensor'&gt;</td>\n",
       "    </tr>\n",
       "  </tbody>\n",
       "</table>\n",
       "</div>"
      ],
      "text/plain": [
       "[<TensorPointer -> adp:338b73b094b345e39b4ab9e90ab458c2>]"
      ]
     },
     "execution_count": 4,
     "metadata": {},
     "output_type": "execute_result"
    }
   ],
   "source": [
    "new_domain.store"
   ]
  },
  {
   "cell_type": "code",
   "execution_count": 5,
   "id": "be0811a1-e4cf-44c0-bd1f-ddb3e1635f77",
   "metadata": {},
   "outputs": [],
   "source": [
    "ptr = new_domain.store[0]"
   ]
  },
  {
   "cell_type": "code",
   "execution_count": 6,
   "id": "7e1bf599-47e1-4a72-81f0-cbf1f3e0ba48",
   "metadata": {},
   "outputs": [
    {
     "data": {
      "text/plain": [
       "syft.proxy.syft.core.tensor.tensor.TensorPointer"
      ]
     },
     "execution_count": 6,
     "metadata": {},
     "output_type": "execute_result"
    }
   ],
   "source": [
    "type(ptr)"
   ]
  },
  {
   "cell_type": "code",
   "execution_count": 7,
   "id": "2e2b0be5-a0f7-4b35-b4bf-9726acf8bb52",
   "metadata": {},
   "outputs": [
    {
     "data": {
      "text/plain": [
       "points_to_object_with_path: \"syft.core.tensor.tensor.Tensor\"\n",
       "pointer_name: \"TensorPointer\"\n",
       "id_at_location {\n",
       "  value: \"3\\213s\\260\\224\\263E\\343\\233J\\271\\351\\n\\264X\\302\"\n",
       "}\n",
       "location {\n",
       "  name: \"adp\"\n",
       "  has_domain: true\n",
       "  domain {\n",
       "    id {\n",
       "      value: \"\\374Cw\\036\\023\\255K\\320\\220S\\326\\226\\217\\n\\317\\226\"\n",
       "    }\n",
       "    name: \"adp\"\n",
       "  }\n",
       "}\n",
       "object_type: \"<class \\'syft.core.tensor.tensor.Tensor\\'>\"\n",
       "public_shape: \"\\n\\027syft.lib.python._SyNone\\022\\024\\n\\022\\n\\020<\\304\\332\\000,\\214M\\t\\225 \\255\\222\\253\\370\\353\\261\""
      ]
     },
     "execution_count": 7,
     "metadata": {},
     "output_type": "execute_result"
    }
   ],
   "source": [
    "sy.serialize(ptr)"
   ]
  },
  {
   "cell_type": "code",
   "execution_count": 8,
   "id": "1dbe860d-58ff-44d0-a1b8-cf93ae1639bd",
   "metadata": {},
   "outputs": [
    {
     "ename": "AttributeError",
     "evalue": "'TensorPointer' object has no attribute 'child'",
     "output_type": "error",
     "traceback": [
      "\u001b[0;31m---------------------------------------------------------------------------\u001b[0m",
      "\u001b[0;31mAttributeError\u001b[0m                            Traceback (most recent call last)",
      "\u001b[0;32m/var/folders/cs/tql716257t32sb3kr5r9rbkc0000gn/T/ipykernel_4055/1011366968.py\u001b[0m in \u001b[0;36m<module>\u001b[0;34m\u001b[0m\n\u001b[0;32m----> 1\u001b[0;31m \u001b[0mptr\u001b[0m\u001b[0;34m.\u001b[0m\u001b[0mchild\u001b[0m\u001b[0;34m\u001b[0m\u001b[0;34m\u001b[0m\u001b[0m\n\u001b[0m",
      "\u001b[0;31mAttributeError\u001b[0m: 'TensorPointer' object has no attribute 'child'"
     ]
    }
   ],
   "source": []
  },
  {
   "cell_type": "code",
   "execution_count": null,
   "id": "1e9cdb94-35a9-49e8-bef2-b009fcd85cde",
   "metadata": {},
   "outputs": [],
   "source": []
  }
 ],
 "metadata": {
  "kernelspec": {
   "display_name": "Python 3 (ipykernel)",
   "language": "python",
   "name": "python3"
  },
  "language_info": {
   "codemirror_mode": {
    "name": "ipython",
    "version": 3
   },
   "file_extension": ".py",
   "mimetype": "text/x-python",
   "name": "python",
   "nbconvert_exporter": "python",
   "pygments_lexer": "ipython3",
   "version": "3.9.1"
  }
 },
 "nbformat": 4,
 "nbformat_minor": 5
}
