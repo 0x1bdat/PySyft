{
 "cells": [
  {
   "cell_type": "code",
   "execution_count": 1,
   "id": "06e0762e-8abd-44d0-82f1-d6c3a5d12797",
   "metadata": {},
   "outputs": [],
   "source": [
    "import syft as sy\n",
    "import numpy as np"
   ]
  },
  {
   "cell_type": "code",
   "execution_count": null,
   "id": "082d614d-75fe-4d86-a2b1-fe676aafa1f3",
   "metadata": {},
   "outputs": [],
   "source": [
    "new_domain = sy.login"
   ]
  },
  {
   "cell_type": "code",
   "execution_count": 2,
   "id": "55d2d39f-4f82-4597-a81e-74b7b0f113ef",
   "metadata": {},
   "outputs": [],
   "source": [
    "data = np.random.rand(1, 10)"
   ]
  },
  {
   "cell_type": "code",
   "execution_count": 3,
   "id": "e43242d1-3593-4716-9ab8-46e7f05d4fdb",
   "metadata": {},
   "outputs": [],
   "source": [
    "ishan = sy.core.adp.entity.Entity(name=\"Ishan\")"
   ]
  },
  {
   "cell_type": "code",
   "execution_count": null,
   "id": "4c566ca4-a888-4c89-87d1-d27977f13307",
   "metadata": {},
   "outputs": [],
   "source": [
    "tensor = sy.Tensor(data).private(0, 10,"
   ]
  }
 ],
 "metadata": {
  "kernelspec": {
   "display_name": "Python 3 (ipykernel)",
   "language": "python",
   "name": "python3"
  },
  "language_info": {
   "codemirror_mode": {
    "name": "ipython",
    "version": 3
   },
   "file_extension": ".py",
   "mimetype": "text/x-python",
   "name": "python",
   "nbconvert_exporter": "python",
   "pygments_lexer": "ipython3",
   "version": "3.9.1"
  }
 },
 "nbformat": 4,
 "nbformat_minor": 5
}
