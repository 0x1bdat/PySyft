{
 "cells": [
  {
   "cell_type": "code",
   "execution_count": 1,
   "id": "62c8a01d-6dba-4c19-a5e2-3bff67f79653",
   "metadata": {},
   "outputs": [],
   "source": [
    "import syft as sy\n",
    "import numpy as np\n",
    "from syft.core.adp.entity import Entity"
   ]
  },
  {
   "cell_type": "code",
   "execution_count": 8,
   "id": "53e5ed2c-b9fe-4282-9463-407c4c1d0a49",
   "metadata": {},
   "outputs": [
    {
     "name": "stdout",
     "output_type": "stream",
     "text": [
      "Requirement already satisfied: pydantic[email] in /Users/ishanmishra/PycharmProjects/PySyft/.tox/syft.jupyter/lib/python3.9/site-packages (1.8.2)\n",
      "Requirement already satisfied: typing-extensions>=3.7.4.3 in /Users/ishanmishra/PycharmProjects/PySyft/.tox/syft.jupyter/lib/python3.9/site-packages (from pydantic[email]) (3.10.0.0)\n",
      "Collecting email-validator>=1.0.3\n",
      "  Downloading email_validator-1.1.3-py2.py3-none-any.whl (18 kB)\n",
      "Requirement already satisfied: dnspython>=1.15.0 in /Users/ishanmishra/PycharmProjects/PySyft/.tox/syft.jupyter/lib/python3.9/site-packages (from email-validator>=1.0.3->pydantic[email]) (2.1.0)\n",
      "Requirement already satisfied: idna>=2.0.0 in /Users/ishanmishra/PycharmProjects/PySyft/.tox/syft.jupyter/lib/python3.9/site-packages (from email-validator>=1.0.3->pydantic[email]) (3.2)\n",
      "Installing collected packages: email-validator\n",
      "Successfully installed email-validator-1.1.3\n",
      "\u001b[33mWARNING: You are using pip version 21.1.3; however, version 21.2.4 is available.\n",
      "You should consider upgrading via the '/Users/ishanmishra/PycharmProjects/PySyft/.tox/syft.jupyter/bin/python -m pip install --upgrade pip' command.\u001b[0m\n"
     ]
    }
   ],
   "source": [
    "#!pip install pydantic[email]"
   ]
  },
  {
   "cell_type": "code",
   "execution_count": 2,
   "id": "aeceb1d1-dc1d-4d14-9026-a1ab4088c49e",
   "metadata": {},
   "outputs": [
    {
     "name": "stdout",
     "output_type": "stream",
     "text": [
      "Connecting to http://localhost:8081... done! \t Logging into adp... done!\n"
     ]
    }
   ],
   "source": [
    "new_domain = sy.login(email=\"info@openmined.org\", password=\"changethis\", port=8081)"
   ]
  },
  {
   "cell_type": "code",
   "execution_count": 3,
   "id": "e4d6c36c-46da-45e5-b32d-b317809b41e1",
   "metadata": {},
   "outputs": [],
   "source": [
    "ishan = Entity(name=\"Ishan\")"
   ]
  },
  {
   "cell_type": "code",
   "execution_count": 24,
   "id": "1e5a397e-d6bc-45e1-b1c8-39b936abd307",
   "metadata": {},
   "outputs": [],
   "source": [
    "data = sy.Tensor(np.random.rand(1, 10)).private(0, 10, entity=ishan)"
   ]
  },
  {
   "cell_type": "code",
   "execution_count": 25,
   "id": "8679fa27-4c6d-4c63-b858-83f7b6aada4a",
   "metadata": {},
   "outputs": [
    {
     "data": {
      "text/plain": [
       "SingleEntityPhiTensor(entity=Ishan, child=[[0.65325268 0.17524728 0.49741913 0.75002569 0.56098949 0.49329265\n",
       "  0.87210204 0.25951015 0.92570687 0.44150447]])"
      ]
     },
     "execution_count": 25,
     "metadata": {},
     "output_type": "execute_result"
    }
   ],
   "source": [
    "data"
   ]
  },
  {
   "cell_type": "code",
   "execution_count": 29,
   "id": "ed6c90e5-2f2c-4fde-bb8e-1e3828b6e88f",
   "metadata": {},
   "outputs": [
    {
     "name": "stdout",
     "output_type": "stream",
     "text": [
      "<class 'proto.core.common.recursive_serde_pb2.RecursiveSerde'>\n"
     ]
    }
   ],
   "source": [
    "print(type(sy.serialize(data)))"
   ]
  },
  {
   "cell_type": "code",
   "execution_count": 27,
   "id": "a1778d05-741a-40c0-a3cb-692ed81a3023",
   "metadata": {},
   "outputs": [],
   "source": [
    "serialized_prvt = sy.serialize(data)"
   ]
  },
  {
   "cell_type": "code",
   "execution_count": 28,
   "id": "00cf3be1-691b-4343-83cb-149efdacf85d",
   "metadata": {},
   "outputs": [
    {
     "data": {
      "text/plain": [
       "SingleEntityPhiTensor(entity=Ishan, child=[[0.65325268 0.17524728 0.49741913 0.75002569 0.56098949 0.49329265\n",
       "  0.87210204 0.25951015 0.92570687 0.44150447]])"
      ]
     },
     "execution_count": 28,
     "metadata": {},
     "output_type": "execute_result"
    }
   ],
   "source": [
    "sy.deserialize(serialized_prvt)"
   ]
  },
  {
   "cell_type": "code",
   "execution_count": 30,
   "id": "90a4b2c1-0944-445f-9590-6d8fc3a17024",
   "metadata": {},
   "outputs": [
    {
     "ename": "AttributeError",
     "evalue": "'SingleEntityPhiTensor' object has no attribute 'send'",
     "output_type": "error",
     "traceback": [
      "\u001b[0;31m---------------------------------------------------------------------------\u001b[0m",
      "\u001b[0;31mAttributeError\u001b[0m                            Traceback (most recent call last)",
      "\u001b[0;32m/var/folders/cs/tql716257t32sb3kr5r9rbkc0000gn/T/ipykernel_17771/1430169539.py\u001b[0m in \u001b[0;36m<module>\u001b[0;34m\u001b[0m\n\u001b[0;32m----> 1\u001b[0;31m \u001b[0mdata_ptr\u001b[0m \u001b[0;34m=\u001b[0m \u001b[0mdata\u001b[0m\u001b[0;34m.\u001b[0m\u001b[0msend\u001b[0m\u001b[0;34m(\u001b[0m\u001b[0mnew_domain\u001b[0m\u001b[0;34m)\u001b[0m\u001b[0;34m\u001b[0m\u001b[0;34m\u001b[0m\u001b[0m\n\u001b[0m",
      "\u001b[0;31mAttributeError\u001b[0m: 'SingleEntityPhiTensor' object has no attribute 'send'"
     ]
    }
   ],
   "source": [
    "data_ptr = data.send(new_domain)"
   ]
  },
  {
   "cell_type": "code",
   "execution_count": 11,
   "id": "5e301fc8-7b24-46d5-aa14-ef14a24b6108",
   "metadata": {},
   "outputs": [
    {
     "name": "stdout",
     "output_type": "stream",
     "text": [
      "Tensor(child=SingleEntityPhiTensor(entity=Ishan, child=[[0.13346897 0.73264913 0.22598932 0.92814597 0.33466393 0.38566109\n",
      "  0.58716491 0.53503457 0.22101801 0.21010957]]))\n"
     ]
    }
   ],
   "source": [
    "T = sy.Tensor(data)\n",
    "print(T)"
   ]
  },
  {
   "cell_type": "code",
   "execution_count": 12,
   "id": "d7d870ba-0ec4-4598-8c1d-0402a0bbf9e5",
   "metadata": {},
   "outputs": [],
   "source": [
    "T_ptr = T.send(new_domain)"
   ]
  },
  {
   "cell_type": "code",
   "execution_count": 31,
   "id": "dabaaebe-25df-4e46-951c-ba4b8357886d",
   "metadata": {},
   "outputs": [
    {
     "data": {
      "text/html": [
       "<div>\n",
       "<style scoped>\n",
       "    .dataframe tbody tr th:only-of-type {\n",
       "        vertical-align: middle;\n",
       "    }\n",
       "\n",
       "    .dataframe tbody tr th {\n",
       "        vertical-align: top;\n",
       "    }\n",
       "\n",
       "    .dataframe thead th {\n",
       "        text-align: right;\n",
       "    }\n",
       "</style>\n",
       "<table border=\"1\" class=\"dataframe\">\n",
       "  <thead>\n",
       "    <tr style=\"text-align: right;\">\n",
       "      <th></th>\n",
       "      <th>ID</th>\n",
       "      <th>Tags</th>\n",
       "      <th>Description</th>\n",
       "      <th>object_type</th>\n",
       "    </tr>\n",
       "  </thead>\n",
       "  <tbody>\n",
       "    <tr>\n",
       "      <th>0</th>\n",
       "      <td>&lt;UID: 338b73b094b345e39b4ab9e90ab458c2&gt;</td>\n",
       "      <td>[]</td>\n",
       "      <td></td>\n",
       "      <td>&lt;class 'syft.core.tensor.tensor.Tensor'&gt;</td>\n",
       "    </tr>\n",
       "  </tbody>\n",
       "</table>\n",
       "</div>"
      ],
      "text/plain": [
       "[<TensorPointer -> adp:338b73b094b345e39b4ab9e90ab458c2>]"
      ]
     },
     "execution_count": 31,
     "metadata": {},
     "output_type": "execute_result"
    }
   ],
   "source": [
    "new_domain.store"
   ]
  },
  {
   "cell_type": "code",
   "execution_count": 15,
   "id": "7542a32f-f49b-40a6-be69-6b3bddee73c4",
   "metadata": {},
   "outputs": [
    {
     "data": {
      "text/plain": [
       "<UID: e6b9b97cb7ce4f6788b0b91127a9de3f>"
      ]
     },
     "execution_count": 15,
     "metadata": {},
     "output_type": "execute_result"
    }
   ],
   "source": [
    "T_ptr.id_at_location"
   ]
  },
  {
   "cell_type": "code",
   "execution_count": 23,
   "id": "74f97543-064c-411e-8e4f-169aa06c8caf",
   "metadata": {},
   "outputs": [
    {
     "data": {
      "text/plain": [
       "SingleEntityPhiTensor(entity=Ishan, child=[[0.56432745 0.22309294 0.61405204 0.05131955 0.43840195]])"
      ]
     },
     "execution_count": 23,
     "metadata": {},
     "output_type": "execute_result"
    }
   ],
   "source": [
    "sy.Tensor(np.random.rand(1, 5)).private(0, 2, entity=ishan)"
   ]
  },
  {
   "cell_type": "code",
   "execution_count": null,
   "id": "6e25efa4-20fa-4632-b103-6f4b1effee8f",
   "metadata": {},
   "outputs": [],
   "source": [
    "new_domain.users.create(\n",
    "    **{\n",
    "        "
   ]
  }
 ],
 "metadata": {
  "kernelspec": {
   "display_name": "Python 3 (ipykernel)",
   "language": "python",
   "name": "python3"
  },
  "language_info": {
   "codemirror_mode": {
    "name": "ipython",
    "version": 3
   },
   "file_extension": ".py",
   "mimetype": "text/x-python",
   "name": "python",
   "nbconvert_exporter": "python",
   "pygments_lexer": "ipython3",
   "version": "3.8.10"
  }
 },
 "nbformat": 4,
 "nbformat_minor": 5
}
