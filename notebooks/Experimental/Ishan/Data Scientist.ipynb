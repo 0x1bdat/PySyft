{
 "cells": [
  {
   "cell_type": "markdown",
   "metadata": {},
   "source": [
    "### Trade Demo\n",
    "\n",
    "#### Goals:\n",
    "- Login to the Canada domain.\n",
    "- Select the dataset.\n",
    "- Cacluate the sum of total of good imported to Egypt.\n",
    "- Publish the result\n",
    "- Download the results"
   ]
  },
  {
   "cell_type": "markdown",
   "metadata": {},
   "source": [
    "### Step 1: Login into the Canada domain"
   ]
  },
  {
   "cell_type": "code",
   "execution_count": 1,
   "metadata": {},
   "outputs": [],
   "source": [
    "%load_ext autoreload\n",
    "%autoreload 2"
   ]
  },
  {
   "cell_type": "code",
   "execution_count": 2,
   "metadata": {
    "scrolled": true
   },
   "outputs": [
    {
     "name": "stdout",
     "output_type": "stream",
     "text": [
      "Connecting to http://localhost:8081... done! \t Logging into canada... done!\n"
     ]
    }
   ],
   "source": [
    "# As a Data Scientist we want to perform some analysis on the trade dataset available on the Canada domain.\n",
    "# Our goal is to calculate the sum total of the goods imported (imports + re-imports) to Egypt\n",
    "\n",
    "import syft as sy\n",
    "\n",
    "# Let's login into the canada domain\n",
    "canada_domain_node = sy.login(email=\"sheldon@caltech.edu\", password=\"bazinga\", port=8081)"
   ]
  },
  {
   "cell_type": "markdown",
   "metadata": {},
   "source": [
    "### Step 2: Select the dataset"
   ]
  },
  {
   "cell_type": "code",
   "execution_count": 3,
   "metadata": {
    "scrolled": true
   },
   "outputs": [
    {
     "data": {
      "text/html": [
       "<div>\n",
       "<style scoped>\n",
       "    .dataframe tbody tr th:only-of-type {\n",
       "        vertical-align: middle;\n",
       "    }\n",
       "\n",
       "    .dataframe tbody tr th {\n",
       "        vertical-align: top;\n",
       "    }\n",
       "\n",
       "    .dataframe thead th {\n",
       "        text-align: right;\n",
       "    }\n",
       "</style>\n",
       "<table border=\"1\" class=\"dataframe\">\n",
       "  <thead>\n",
       "    <tr style=\"text-align: right;\">\n",
       "      <th></th>\n",
       "      <th>tags</th>\n",
       "      <th>description</th>\n",
       "      <th>blob_metadata</th>\n",
       "      <th>id</th>\n",
       "      <th>manifest</th>\n",
       "      <th>str_metadata</th>\n",
       "      <th>data</th>\n",
       "      <th>name</th>\n",
       "    </tr>\n",
       "  </thead>\n",
       "  <tbody>\n",
       "    <tr>\n",
       "      <th>0</th>\n",
       "      <td>b\"\\n\\x19syft.lib.python.list.List\\x12\\x16\\x12\\...</td>\n",
       "      <td>b\"\\n\\x16syft.lib.python.String\\x12\\xab\\x01\\n\\x...</td>\n",
       "      <td>b'\\n\\x14syft.lib.python.Dict\\x12\\x14\\x1a\\x12\\n...</td>\n",
       "      <td>b'\\n\\x16syft.lib.python.String\\x12&lt;\\n$001329be...</td>\n",
       "      <td>b'\\n\\x16syft.lib.python.String\\x12\\x16\\x12\\x12...</td>\n",
       "      <td>b'\\n\\x14syft.lib.python.Dict\\x12\\x14\\x1a\\x12\\n...</td>\n",
       "      <td>b'\\n\\x19syft.lib.python.list.List\\x12\\xa2\\x04\\...</td>\n",
       "      <td>b'\\n\\x16syft.lib.python.String\\x12&lt;\\n$Canada T...</td>\n",
       "    </tr>\n",
       "  </tbody>\n",
       "</table>\n",
       "</div>"
      ],
      "text/plain": [
       "                                                tags  \\\n",
       "0  b\"\\n\\x19syft.lib.python.list.List\\x12\\x16\\x12\\...   \n",
       "\n",
       "                                         description  \\\n",
       "0  b\"\\n\\x16syft.lib.python.String\\x12\\xab\\x01\\n\\x...   \n",
       "\n",
       "                                       blob_metadata  \\\n",
       "0  b'\\n\\x14syft.lib.python.Dict\\x12\\x14\\x1a\\x12\\n...   \n",
       "\n",
       "                                                  id  \\\n",
       "0  b'\\n\\x16syft.lib.python.String\\x12<\\n$001329be...   \n",
       "\n",
       "                                            manifest  \\\n",
       "0  b'\\n\\x16syft.lib.python.String\\x12\\x16\\x12\\x12...   \n",
       "\n",
       "                                        str_metadata  \\\n",
       "0  b'\\n\\x14syft.lib.python.Dict\\x12\\x14\\x1a\\x12\\n...   \n",
       "\n",
       "                                                data  \\\n",
       "0  b'\\n\\x19syft.lib.python.list.List\\x12\\xa2\\x04\\...   \n",
       "\n",
       "                                                name  \n",
       "0  b'\\n\\x16syft.lib.python.String\\x12<\\n$Canada T...  "
      ]
     },
     "execution_count": 3,
     "metadata": {},
     "output_type": "execute_result"
    }
   ],
   "source": [
    "# Awesome !!! We're logged into the domain node\n",
    "# Let's quickly list all the datasets available on the Canada domain\n",
    "\n",
    "canada_domain_node.datasets.pandas()"
   ]
  },
  {
   "cell_type": "code",
   "execution_count": 4,
   "metadata": {},
   "outputs": [
    {
     "data": {
      "text/html": [
       "<div>\n",
       "<style scoped>\n",
       "    .dataframe tbody tr th:only-of-type {\n",
       "        vertical-align: middle;\n",
       "    }\n",
       "\n",
       "    .dataframe tbody tr th {\n",
       "        vertical-align: top;\n",
       "    }\n",
       "\n",
       "    .dataframe thead th {\n",
       "        text-align: right;\n",
       "    }\n",
       "</style>\n",
       "<table border=\"1\" class=\"dataframe\">\n",
       "  <thead>\n",
       "    <tr style=\"text-align: right;\">\n",
       "      <th></th>\n",
       "      <th>ID</th>\n",
       "      <th>Tags</th>\n",
       "      <th>Description</th>\n",
       "      <th>object_type</th>\n",
       "    </tr>\n",
       "  </thead>\n",
       "  <tbody>\n",
       "    <tr>\n",
       "      <th>0</th>\n",
       "      <td>&lt;UID: ebdbf84829864d188437220b4c4bbc79&gt;</td>\n",
       "      <td>[]</td>\n",
       "      <td></td>\n",
       "      <td>&lt;class 'syft.lib.python.Int'&gt;</td>\n",
       "    </tr>\n",
       "    <tr>\n",
       "      <th>1</th>\n",
       "      <td>&lt;UID: e730ffa9297642b6b26a8b66912479e6&gt;</td>\n",
       "      <td>[]</td>\n",
       "      <td></td>\n",
       "      <td>&lt;class 'syft.lib.python.Float'&gt;</td>\n",
       "    </tr>\n",
       "    <tr>\n",
       "      <th>2</th>\n",
       "      <td>&lt;UID: 49f0a588402b427792d39509da76ea69&gt;</td>\n",
       "      <td>[]</td>\n",
       "      <td></td>\n",
       "      <td>&lt;class 'syft.lib.python.Float'&gt;</td>\n",
       "    </tr>\n",
       "    <tr>\n",
       "      <th>3</th>\n",
       "      <td>&lt;UID: 8cc853e238fb4ae495c3c65bcede6052&gt;</td>\n",
       "      <td>[]</td>\n",
       "      <td></td>\n",
       "      <td>&lt;class 'syft.core.adp.adversarial_accountant.A...</td>\n",
       "    </tr>\n",
       "    <tr>\n",
       "      <th>4</th>\n",
       "      <td>&lt;UID: 59c54aafc40544b8bcf890dbf49c54e2&gt;</td>\n",
       "      <td>[data]</td>\n",
       "      <td></td>\n",
       "      <td>&lt;class 'syft.core.tensor.tensor.Tensor'&gt;</td>\n",
       "    </tr>\n",
       "    <tr>\n",
       "      <th>5</th>\n",
       "      <td>&lt;UID: 3ede51046e004eeebf3edd660e6013b6&gt;</td>\n",
       "      <td>[target]</td>\n",
       "      <td></td>\n",
       "      <td>&lt;class 'syft.core.tensor.tensor.Tensor'&gt;</td>\n",
       "    </tr>\n",
       "    <tr>\n",
       "      <th>6</th>\n",
       "      <td>&lt;UID: b401f3b55c77429eace45f4bae454e00&gt;</td>\n",
       "      <td>[data2]</td>\n",
       "      <td></td>\n",
       "      <td>&lt;class 'syft.core.tensor.tensor.Tensor'&gt;</td>\n",
       "    </tr>\n",
       "    <tr>\n",
       "      <th>7</th>\n",
       "      <td>&lt;UID: abbf8720a7b749a0a543ea7f42d2a772&gt;</td>\n",
       "      <td>[target2]</td>\n",
       "      <td></td>\n",
       "      <td>&lt;class 'syft.core.tensor.tensor.Tensor'&gt;</td>\n",
       "    </tr>\n",
       "    <tr>\n",
       "      <th>8</th>\n",
       "      <td>&lt;UID: fb61e525af384be8aecc218c6ca64ca7&gt;</td>\n",
       "      <td>[data3]</td>\n",
       "      <td></td>\n",
       "      <td>&lt;class 'syft.core.tensor.tensor.Tensor'&gt;</td>\n",
       "    </tr>\n",
       "    <tr>\n",
       "      <th>9</th>\n",
       "      <td>&lt;UID: 74f9797f6f8f40c7bb69606dfe11145f&gt;</td>\n",
       "      <td>[]</td>\n",
       "      <td></td>\n",
       "      <td>&lt;class 'syft.lib.python.Int'&gt;</td>\n",
       "    </tr>\n",
       "    <tr>\n",
       "      <th>10</th>\n",
       "      <td>&lt;UID: 376a3cff30394250985cf79ce1eb195b&gt;</td>\n",
       "      <td>[data4]</td>\n",
       "      <td></td>\n",
       "      <td>&lt;class 'syft.core.tensor.tensor.Tensor'&gt;</td>\n",
       "    </tr>\n",
       "    <tr>\n",
       "      <th>11</th>\n",
       "      <td>&lt;UID: 8f390ecb2faf4468b4f57541d659aada&gt;</td>\n",
       "      <td>[]</td>\n",
       "      <td></td>\n",
       "      <td>&lt;class 'syft.lib.python.Int'&gt;</td>\n",
       "    </tr>\n",
       "    <tr>\n",
       "      <th>12</th>\n",
       "      <td>&lt;UID: eb19f08475084de996b01f5c7ba9feb3&gt;</td>\n",
       "      <td>[]</td>\n",
       "      <td></td>\n",
       "      <td>&lt;class 'syft.lib.python.Int'&gt;</td>\n",
       "    </tr>\n",
       "    <tr>\n",
       "      <th>13</th>\n",
       "      <td>&lt;UID: 2cc8e5521fd945eeb3c3c75164a0ac39&gt;</td>\n",
       "      <td>[]</td>\n",
       "      <td></td>\n",
       "      <td>&lt;class 'syft.lib.python.Int'&gt;</td>\n",
       "    </tr>\n",
       "    <tr>\n",
       "      <th>14</th>\n",
       "      <td>&lt;UID: 3e920438b10d4205b92e36d5b29add40&gt;</td>\n",
       "      <td>[]</td>\n",
       "      <td></td>\n",
       "      <td>&lt;class 'syft.lib.python.Int'&gt;</td>\n",
       "    </tr>\n",
       "    <tr>\n",
       "      <th>15</th>\n",
       "      <td>&lt;UID: 4f5a23846f8542048e2b16ae5b38e63e&gt;</td>\n",
       "      <td>[]</td>\n",
       "      <td></td>\n",
       "      <td>&lt;class 'syft.lib.python.Int'&gt;</td>\n",
       "    </tr>\n",
       "    <tr>\n",
       "      <th>16</th>\n",
       "      <td>&lt;UID: 75f94b2edc3e4553aa4219d318a5a4cd&gt;</td>\n",
       "      <td>[#feb2020]</td>\n",
       "      <td></td>\n",
       "      <td>&lt;class 'syft.core.tensor.tensor.Tensor'&gt;</td>\n",
       "    </tr>\n",
       "  </tbody>\n",
       "</table>\n",
       "</div>"
      ],
      "text/plain": [
       "                                         ID        Tags Description  \\\n",
       "0   <UID: ebdbf84829864d188437220b4c4bbc79>          []               \n",
       "1   <UID: e730ffa9297642b6b26a8b66912479e6>          []               \n",
       "2   <UID: 49f0a588402b427792d39509da76ea69>          []               \n",
       "3   <UID: 8cc853e238fb4ae495c3c65bcede6052>          []               \n",
       "4   <UID: 59c54aafc40544b8bcf890dbf49c54e2>      [data]               \n",
       "5   <UID: 3ede51046e004eeebf3edd660e6013b6>    [target]               \n",
       "6   <UID: b401f3b55c77429eace45f4bae454e00>     [data2]               \n",
       "7   <UID: abbf8720a7b749a0a543ea7f42d2a772>   [target2]               \n",
       "8   <UID: fb61e525af384be8aecc218c6ca64ca7>     [data3]               \n",
       "9   <UID: 74f9797f6f8f40c7bb69606dfe11145f>          []               \n",
       "10  <UID: 376a3cff30394250985cf79ce1eb195b>     [data4]               \n",
       "11  <UID: 8f390ecb2faf4468b4f57541d659aada>          []               \n",
       "12  <UID: eb19f08475084de996b01f5c7ba9feb3>          []               \n",
       "13  <UID: 2cc8e5521fd945eeb3c3c75164a0ac39>          []               \n",
       "14  <UID: 3e920438b10d4205b92e36d5b29add40>          []               \n",
       "15  <UID: 4f5a23846f8542048e2b16ae5b38e63e>          []               \n",
       "16  <UID: 75f94b2edc3e4553aa4219d318a5a4cd>  [#feb2020]               \n",
       "\n",
       "                                          object_type  \n",
       "0                       <class 'syft.lib.python.Int'>  \n",
       "1                     <class 'syft.lib.python.Float'>  \n",
       "2                     <class 'syft.lib.python.Float'>  \n",
       "3   <class 'syft.core.adp.adversarial_accountant.A...  \n",
       "4            <class 'syft.core.tensor.tensor.Tensor'>  \n",
       "5            <class 'syft.core.tensor.tensor.Tensor'>  \n",
       "6            <class 'syft.core.tensor.tensor.Tensor'>  \n",
       "7            <class 'syft.core.tensor.tensor.Tensor'>  \n",
       "8            <class 'syft.core.tensor.tensor.Tensor'>  \n",
       "9                       <class 'syft.lib.python.Int'>  \n",
       "10           <class 'syft.core.tensor.tensor.Tensor'>  \n",
       "11                      <class 'syft.lib.python.Int'>  \n",
       "12                      <class 'syft.lib.python.Int'>  \n",
       "13                      <class 'syft.lib.python.Int'>  \n",
       "14                      <class 'syft.lib.python.Int'>  \n",
       "15                      <class 'syft.lib.python.Int'>  \n",
       "16           <class 'syft.core.tensor.tensor.Tensor'>  "
      ]
     },
     "execution_count": 4,
     "metadata": {},
     "output_type": "execute_result"
    }
   ],
   "source": [
    "canada_domain_node.store.pandas"
   ]
  },
  {
   "cell_type": "code",
   "execution_count": 6,
   "metadata": {},
   "outputs": [],
   "source": [
    "feb2020 = canada_domain_node.store[16]\n",
    "\n",
    "# Alternatively, select the from the dataset\n",
    "# feb2020 = canada_domain_node.datasets[0]\n",
    "# feb2020.tags"
   ]
  },
  {
   "cell_type": "code",
   "execution_count": 7,
   "metadata": {},
   "outputs": [],
   "source": [
    "# Let's try to get the whole dataset itself.\n",
    "feb2020.request(reason=\"Access whole dataset\")"
   ]
  },
  {
   "cell_type": "markdown",
   "metadata": {},
   "source": [
    "#### STOP: Return to Data Owner-Canada.ipynb - STEP 8!!\n",
    "\n",
    "### Step 3: Try to download the whole dataset"
   ]
  },
  {
   "cell_type": "code",
   "execution_count": 8,
   "metadata": {
    "scrolled": true
   },
   "outputs": [
    {
     "name": "stderr",
     "output_type": "stream",
     "text": [
      "[2021-08-12T13:17:33.637836+0100][CRITICAL][logger]][13445] You do not have permission to .get() Object with ID: <UID: 75f94b2edc3e4553aa4219d318a5a4cd>Please submit a request.\n"
     ]
    },
    {
     "ename": "AuthorizationException",
     "evalue": "You do not have permission to .get() Object with ID: <UID: 75f94b2edc3e4553aa4219d318a5a4cd>Please submit a request.",
     "output_type": "error",
     "traceback": [
      "\u001b[0;31m---------------------------------------------------------------------------\u001b[0m",
      "\u001b[0;31mAuthorizationException\u001b[0m                    Traceback (most recent call last)",
      "\u001b[0;32m<ipython-input-8-28a86e750fde>\u001b[0m in \u001b[0;36m<module>\u001b[0;34m\u001b[0m\n\u001b[1;32m      1\u001b[0m \u001b[0;31m# Let's see if our request was accepted\u001b[0m\u001b[0;34m\u001b[0m\u001b[0;34m\u001b[0m\u001b[0;34m\u001b[0m\u001b[0m\n\u001b[0;32m----> 2\u001b[0;31m \u001b[0mfeb2020\u001b[0m\u001b[0;34m.\u001b[0m\u001b[0mget\u001b[0m\u001b[0;34m(\u001b[0m\u001b[0;34m)\u001b[0m\u001b[0;34m\u001b[0m\u001b[0;34m\u001b[0m\u001b[0m\n\u001b[0m",
      "\u001b[0;32m~/Laboratory/openmined/PySyft/packages/syft/src/syft/core/pointer/pointer.py\u001b[0m in \u001b[0;36mget\u001b[0;34m(self, request_block, timeout_secs, reason, delete_obj, verbose)\u001b[0m\n\u001b[1;32m    306\u001b[0m \u001b[0;34m\u001b[0m\u001b[0m\n\u001b[1;32m    307\u001b[0m         \u001b[0;32mif\u001b[0m \u001b[0;32mnot\u001b[0m \u001b[0mrequest_block\u001b[0m\u001b[0;34m:\u001b[0m\u001b[0;34m\u001b[0m\u001b[0;34m\u001b[0m\u001b[0m\n\u001b[0;32m--> 308\u001b[0;31m             \u001b[0mresult\u001b[0m \u001b[0;34m=\u001b[0m \u001b[0mself\u001b[0m\u001b[0;34m.\u001b[0m\u001b[0m_get\u001b[0m\u001b[0;34m(\u001b[0m\u001b[0mdelete_obj\u001b[0m\u001b[0;34m=\u001b[0m\u001b[0mdelete_obj\u001b[0m\u001b[0;34m,\u001b[0m \u001b[0mverbose\u001b[0m\u001b[0;34m=\u001b[0m\u001b[0mverbose\u001b[0m\u001b[0;34m)\u001b[0m\u001b[0;34m\u001b[0m\u001b[0;34m\u001b[0m\u001b[0m\n\u001b[0m\u001b[1;32m    309\u001b[0m         \u001b[0;32melse\u001b[0m\u001b[0;34m:\u001b[0m\u001b[0;34m\u001b[0m\u001b[0;34m\u001b[0m\u001b[0m\n\u001b[1;32m    310\u001b[0m             response_status = self.request(\n",
      "\u001b[0;32m~/Laboratory/openmined/PySyft/packages/syft/src/syft/core/pointer/pointer.py\u001b[0m in \u001b[0;36m_get\u001b[0;34m(self, delete_obj, verbose)\u001b[0m\n\u001b[1;32m    178\u001b[0m         )\n\u001b[1;32m    179\u001b[0m \u001b[0;34m\u001b[0m\u001b[0m\n\u001b[0;32m--> 180\u001b[0;31m         \u001b[0mobj\u001b[0m \u001b[0;34m=\u001b[0m \u001b[0mself\u001b[0m\u001b[0;34m.\u001b[0m\u001b[0mclient\u001b[0m\u001b[0;34m.\u001b[0m\u001b[0msend_immediate_msg_with_reply\u001b[0m\u001b[0;34m(\u001b[0m\u001b[0mmsg\u001b[0m\u001b[0;34m=\u001b[0m\u001b[0mobj_msg\u001b[0m\u001b[0;34m)\u001b[0m\u001b[0;34m.\u001b[0m\u001b[0mdata\u001b[0m\u001b[0;34m\u001b[0m\u001b[0;34m\u001b[0m\u001b[0m\n\u001b[0m\u001b[1;32m    181\u001b[0m         \u001b[0;32mif\u001b[0m \u001b[0mself\u001b[0m\u001b[0;34m.\u001b[0m\u001b[0mis_enum\u001b[0m\u001b[0;34m:\u001b[0m\u001b[0;34m\u001b[0m\u001b[0;34m\u001b[0m\u001b[0m\n\u001b[1;32m    182\u001b[0m             \u001b[0menum_class\u001b[0m \u001b[0;34m=\u001b[0m \u001b[0mself\u001b[0m\u001b[0;34m.\u001b[0m\u001b[0mclient\u001b[0m\u001b[0;34m.\u001b[0m\u001b[0mlib_ast\u001b[0m\u001b[0;34m.\u001b[0m\u001b[0mquery\u001b[0m\u001b[0;34m(\u001b[0m\u001b[0mself\u001b[0m\u001b[0;34m.\u001b[0m\u001b[0mpath_and_name\u001b[0m\u001b[0;34m)\u001b[0m\u001b[0;34m.\u001b[0m\u001b[0mobject_ref\u001b[0m\u001b[0;34m\u001b[0m\u001b[0;34m\u001b[0m\u001b[0m\n",
      "\u001b[0;32m~/Laboratory/openmined/PySyft/packages/syft/src/syft/core/node/common/client.py\u001b[0m in \u001b[0;36msend_immediate_msg_with_reply\u001b[0;34m(self, msg, route_index)\u001b[0m\n\u001b[1;32m    241\u001b[0m                 \u001b[0mexception\u001b[0m \u001b[0;34m=\u001b[0m \u001b[0mexception_msg\u001b[0m\u001b[0;34m.\u001b[0m\u001b[0mexception_type\u001b[0m\u001b[0;34m(\u001b[0m\u001b[0mexception_msg\u001b[0m\u001b[0;34m.\u001b[0m\u001b[0mexception_msg\u001b[0m\u001b[0;34m)\u001b[0m\u001b[0;34m\u001b[0m\u001b[0;34m\u001b[0m\u001b[0m\n\u001b[1;32m    242\u001b[0m                 \u001b[0merror\u001b[0m\u001b[0;34m(\u001b[0m\u001b[0mstr\u001b[0m\u001b[0;34m(\u001b[0m\u001b[0mexception\u001b[0m\u001b[0;34m)\u001b[0m\u001b[0;34m)\u001b[0m\u001b[0;34m\u001b[0m\u001b[0;34m\u001b[0m\u001b[0m\n\u001b[0;32m--> 243\u001b[0;31m                 \u001b[0mtraceback_and_raise\u001b[0m\u001b[0;34m(\u001b[0m\u001b[0mexception\u001b[0m\u001b[0;34m)\u001b[0m\u001b[0;34m\u001b[0m\u001b[0;34m\u001b[0m\u001b[0m\n\u001b[0m\u001b[1;32m    244\u001b[0m             \u001b[0;32melse\u001b[0m\u001b[0;34m:\u001b[0m\u001b[0;34m\u001b[0m\u001b[0;34m\u001b[0m\u001b[0m\n\u001b[1;32m    245\u001b[0m                 \u001b[0;32mreturn\u001b[0m \u001b[0mresponse\u001b[0m\u001b[0;34m.\u001b[0m\u001b[0mmessage\u001b[0m\u001b[0;34m\u001b[0m\u001b[0;34m\u001b[0m\u001b[0m\n",
      "\u001b[0;32m~/Laboratory/openmined/PySyft/packages/syft/src/syft/logger.py\u001b[0m in \u001b[0;36mtraceback_and_raise\u001b[0;34m(e, verbose)\u001b[0m\n\u001b[1;32m     59\u001b[0m     \u001b[0;32mif\u001b[0m \u001b[0;32mnot\u001b[0m \u001b[0missubclass\u001b[0m\u001b[0;34m(\u001b[0m\u001b[0mtype\u001b[0m\u001b[0;34m(\u001b[0m\u001b[0me\u001b[0m\u001b[0;34m)\u001b[0m\u001b[0;34m,\u001b[0m \u001b[0mException\u001b[0m\u001b[0;34m)\u001b[0m\u001b[0;34m:\u001b[0m\u001b[0;34m\u001b[0m\u001b[0;34m\u001b[0m\u001b[0m\n\u001b[1;32m     60\u001b[0m         \u001b[0me\u001b[0m \u001b[0;34m=\u001b[0m \u001b[0mException\u001b[0m\u001b[0;34m(\u001b[0m\u001b[0me\u001b[0m\u001b[0;34m)\u001b[0m\u001b[0;34m\u001b[0m\u001b[0;34m\u001b[0m\u001b[0m\n\u001b[0;32m---> 61\u001b[0;31m     \u001b[0;32mraise\u001b[0m \u001b[0me\u001b[0m\u001b[0;34m\u001b[0m\u001b[0;34m\u001b[0m\u001b[0m\n\u001b[0m\u001b[1;32m     62\u001b[0m \u001b[0;34m\u001b[0m\u001b[0m\n\u001b[1;32m     63\u001b[0m \u001b[0;34m\u001b[0m\u001b[0m\n",
      "\u001b[0;31mAuthorizationException\u001b[0m: You do not have permission to .get() Object with ID: <UID: 75f94b2edc3e4553aa4219d318a5a4cd>Please submit a request."
     ]
    }
   ],
   "source": [
    "# Let's see if our request was accepted\n",
    "feb2020.get()"
   ]
  },
  {
   "cell_type": "code",
   "execution_count": 9,
   "metadata": {},
   "outputs": [],
   "source": [
    "# Seems, like the request to download the whole dataset was denied by the Data Owner."
   ]
  },
  {
   "cell_type": "markdown",
   "metadata": {},
   "source": [
    "### Step 4: Private - Public Mutiplication"
   ]
  },
  {
   "cell_type": "code",
   "execution_count": 10,
   "metadata": {},
   "outputs": [
    {
     "data": {
      "text/plain": [
       "{'Classification': 0,\n",
       " 'Year': 1,\n",
       " 'Period': 2,\n",
       " 'Period Desc.': 3,\n",
       " 'Aggregate Level': 4,\n",
       " 'Is Leaf Code': 5,\n",
       " 'Trade Flow Code': 6,\n",
       " 'Trade Flow': 7,\n",
       " 'Reporter Code': 8,\n",
       " 'Reporter': 9,\n",
       " 'Reporter ISO': 10,\n",
       " 'Partner Code': 11,\n",
       " 'Partner': 12,\n",
       " 'Partner ISO': 13,\n",
       " 'Commodity Code': 14,\n",
       " 'Commodity': 15,\n",
       " 'Qty Unit Code': 16,\n",
       " 'Qty Unit': 17,\n",
       " 'Qty': 18,\n",
       " 'Netweight (kg)': 19,\n",
       " 'Trade Value (US$)': 20,\n",
       " 'Flag': 21}"
      ]
     },
     "execution_count": 10,
     "metadata": {},
     "output_type": "execute_result"
    }
   ],
   "source": [
    "dataset_columns = [\n",
    "    \"Classification\",\n",
    "    \"Year\",\n",
    "    \"Period\",\n",
    "    \"Period Desc.\",\n",
    "    \"Aggregate Level\",\n",
    "    \"Is Leaf Code\",\n",
    "    \"Trade Flow Code\",\n",
    "    \"Trade Flow\",\n",
    "    \"Reporter Code\",\n",
    "    \"Reporter\",\n",
    "    \"Reporter ISO\",\n",
    "    \"Partner Code\",\n",
    "    \"Partner\",\n",
    "    \"Partner ISO\",\n",
    "    \"Commodity Code\",\n",
    "    \"Commodity\",\n",
    "    \"Qty Unit Code\",\n",
    "    \"Qty Unit\",\n",
    "    \"Qty\",\n",
    "    \"Netweight (kg)\",\n",
    "    \"Trade Value (US$)\",\n",
    "    \"Flag\",\n",
    "]\n",
    "\n",
    "# Since the columns are represented by indicies in the private tensor,\n",
    "# let's create a column to index map.\n",
    "column_to_index_map = {c: i for i, c in enumerate(dataset_columns)}\n",
    "column_to_index_map"
   ]
  },
  {
   "cell_type": "code",
   "execution_count": 11,
   "metadata": {},
   "outputs": [],
   "source": [
    "# Let's calculate the value of the goods imported from Egypt.\n",
    "# Patner Code for Egypt is : 818\n",
    "partner_code_for_egypt = 818\n",
    "trade_flow_codes_map = {\n",
    "    \"imports\": 1,\n",
    "    \"exports\": 2,\n",
    "    \"re-exports\":3,\n",
    "    \"re-imports\":4,\n",
    "}"
   ]
  },
  {
   "cell_type": "code",
   "execution_count": 15,
   "metadata": {},
   "outputs": [],
   "source": [
    "left = feb2020[column_to_index_map[\"Partner Code\"]]"
   ]
  },
  {
   "cell_type": "code",
   "execution_count": 22,
   "metadata": {},
   "outputs": [
    {
     "name": "stdout",
     "output_type": "stream",
     "text": [
      "a\n",
      "b\n",
      "c\n",
      "d\n"
     ]
    }
   ],
   "source": [
    "out = left.publish(canada_domain_node, sigma=0.1)"
   ]
  },
  {
   "cell_type": "code",
   "execution_count": 24,
   "metadata": {},
   "outputs": [
    {
     "name": "stderr",
     "output_type": "stream",
     "text": [
      "[2021-08-12T14:12:08.522119+0100][CRITICAL][logger]][13445] UnknownPrivateException has been triggered.\n"
     ]
    },
    {
     "ename": "UnknownPrivateException",
     "evalue": "UnknownPrivateException has been triggered.",
     "output_type": "error",
     "traceback": [
      "\u001b[0;31m---------------------------------------------------------------------------\u001b[0m",
      "\u001b[0;31mUnknownPrivateException\u001b[0m                   Traceback (most recent call last)",
      "\u001b[0;32m<ipython-input-24-2c098e37e18d>\u001b[0m in \u001b[0;36m<module>\u001b[0;34m\u001b[0m\n\u001b[0;32m----> 1\u001b[0;31m \u001b[0mout\u001b[0m\u001b[0;34m.\u001b[0m\u001b[0mget\u001b[0m\u001b[0;34m(\u001b[0m\u001b[0;34m)\u001b[0m\u001b[0;34m\u001b[0m\u001b[0;34m\u001b[0m\u001b[0m\n\u001b[0m",
      "\u001b[0;32m~/Laboratory/openmined/PySyft/packages/syft/src/syft/core/pointer/pointer.py\u001b[0m in \u001b[0;36mget\u001b[0;34m(self, request_block, timeout_secs, reason, delete_obj, verbose)\u001b[0m\n\u001b[1;32m    306\u001b[0m \u001b[0;34m\u001b[0m\u001b[0m\n\u001b[1;32m    307\u001b[0m         \u001b[0;32mif\u001b[0m \u001b[0;32mnot\u001b[0m \u001b[0mrequest_block\u001b[0m\u001b[0;34m:\u001b[0m\u001b[0;34m\u001b[0m\u001b[0;34m\u001b[0m\u001b[0m\n\u001b[0;32m--> 308\u001b[0;31m             \u001b[0mresult\u001b[0m \u001b[0;34m=\u001b[0m \u001b[0mself\u001b[0m\u001b[0;34m.\u001b[0m\u001b[0m_get\u001b[0m\u001b[0;34m(\u001b[0m\u001b[0mdelete_obj\u001b[0m\u001b[0;34m=\u001b[0m\u001b[0mdelete_obj\u001b[0m\u001b[0;34m,\u001b[0m \u001b[0mverbose\u001b[0m\u001b[0;34m=\u001b[0m\u001b[0mverbose\u001b[0m\u001b[0;34m)\u001b[0m\u001b[0;34m\u001b[0m\u001b[0;34m\u001b[0m\u001b[0m\n\u001b[0m\u001b[1;32m    309\u001b[0m         \u001b[0;32melse\u001b[0m\u001b[0;34m:\u001b[0m\u001b[0;34m\u001b[0m\u001b[0;34m\u001b[0m\u001b[0m\n\u001b[1;32m    310\u001b[0m             response_status = self.request(\n",
      "\u001b[0;32m~/Laboratory/openmined/PySyft/packages/syft/src/syft/core/pointer/pointer.py\u001b[0m in \u001b[0;36m_get\u001b[0;34m(self, delete_obj, verbose)\u001b[0m\n\u001b[1;32m    178\u001b[0m         )\n\u001b[1;32m    179\u001b[0m \u001b[0;34m\u001b[0m\u001b[0m\n\u001b[0;32m--> 180\u001b[0;31m         \u001b[0mobj\u001b[0m \u001b[0;34m=\u001b[0m \u001b[0mself\u001b[0m\u001b[0;34m.\u001b[0m\u001b[0mclient\u001b[0m\u001b[0;34m.\u001b[0m\u001b[0msend_immediate_msg_with_reply\u001b[0m\u001b[0;34m(\u001b[0m\u001b[0mmsg\u001b[0m\u001b[0;34m=\u001b[0m\u001b[0mobj_msg\u001b[0m\u001b[0;34m)\u001b[0m\u001b[0;34m.\u001b[0m\u001b[0mdata\u001b[0m\u001b[0;34m\u001b[0m\u001b[0;34m\u001b[0m\u001b[0m\n\u001b[0m\u001b[1;32m    181\u001b[0m         \u001b[0;32mif\u001b[0m \u001b[0mself\u001b[0m\u001b[0;34m.\u001b[0m\u001b[0mis_enum\u001b[0m\u001b[0;34m:\u001b[0m\u001b[0;34m\u001b[0m\u001b[0;34m\u001b[0m\u001b[0m\n\u001b[1;32m    182\u001b[0m             \u001b[0menum_class\u001b[0m \u001b[0;34m=\u001b[0m \u001b[0mself\u001b[0m\u001b[0;34m.\u001b[0m\u001b[0mclient\u001b[0m\u001b[0;34m.\u001b[0m\u001b[0mlib_ast\u001b[0m\u001b[0;34m.\u001b[0m\u001b[0mquery\u001b[0m\u001b[0;34m(\u001b[0m\u001b[0mself\u001b[0m\u001b[0;34m.\u001b[0m\u001b[0mpath_and_name\u001b[0m\u001b[0;34m)\u001b[0m\u001b[0;34m.\u001b[0m\u001b[0mobject_ref\u001b[0m\u001b[0;34m\u001b[0m\u001b[0;34m\u001b[0m\u001b[0m\n",
      "\u001b[0;32m~/Laboratory/openmined/PySyft/packages/syft/src/syft/core/node/common/client.py\u001b[0m in \u001b[0;36msend_immediate_msg_with_reply\u001b[0;34m(self, msg, route_index)\u001b[0m\n\u001b[1;32m    241\u001b[0m                 \u001b[0mexception\u001b[0m \u001b[0;34m=\u001b[0m \u001b[0mexception_msg\u001b[0m\u001b[0;34m.\u001b[0m\u001b[0mexception_type\u001b[0m\u001b[0;34m(\u001b[0m\u001b[0mexception_msg\u001b[0m\u001b[0;34m.\u001b[0m\u001b[0mexception_msg\u001b[0m\u001b[0;34m)\u001b[0m\u001b[0;34m\u001b[0m\u001b[0;34m\u001b[0m\u001b[0m\n\u001b[1;32m    242\u001b[0m                 \u001b[0merror\u001b[0m\u001b[0;34m(\u001b[0m\u001b[0mstr\u001b[0m\u001b[0;34m(\u001b[0m\u001b[0mexception\u001b[0m\u001b[0;34m)\u001b[0m\u001b[0;34m)\u001b[0m\u001b[0;34m\u001b[0m\u001b[0;34m\u001b[0m\u001b[0m\n\u001b[0;32m--> 243\u001b[0;31m                 \u001b[0mtraceback_and_raise\u001b[0m\u001b[0;34m(\u001b[0m\u001b[0mexception\u001b[0m\u001b[0;34m)\u001b[0m\u001b[0;34m\u001b[0m\u001b[0;34m\u001b[0m\u001b[0m\n\u001b[0m\u001b[1;32m    244\u001b[0m             \u001b[0;32melse\u001b[0m\u001b[0;34m:\u001b[0m\u001b[0;34m\u001b[0m\u001b[0;34m\u001b[0m\u001b[0m\n\u001b[1;32m    245\u001b[0m                 \u001b[0;32mreturn\u001b[0m \u001b[0mresponse\u001b[0m\u001b[0;34m.\u001b[0m\u001b[0mmessage\u001b[0m\u001b[0;34m\u001b[0m\u001b[0;34m\u001b[0m\u001b[0m\n",
      "\u001b[0;32m~/Laboratory/openmined/PySyft/packages/syft/src/syft/logger.py\u001b[0m in \u001b[0;36mtraceback_and_raise\u001b[0;34m(e, verbose)\u001b[0m\n\u001b[1;32m     59\u001b[0m     \u001b[0;32mif\u001b[0m \u001b[0;32mnot\u001b[0m \u001b[0missubclass\u001b[0m\u001b[0;34m(\u001b[0m\u001b[0mtype\u001b[0m\u001b[0;34m(\u001b[0m\u001b[0me\u001b[0m\u001b[0;34m)\u001b[0m\u001b[0;34m,\u001b[0m \u001b[0mException\u001b[0m\u001b[0;34m)\u001b[0m\u001b[0;34m:\u001b[0m\u001b[0;34m\u001b[0m\u001b[0;34m\u001b[0m\u001b[0m\n\u001b[1;32m     60\u001b[0m         \u001b[0me\u001b[0m \u001b[0;34m=\u001b[0m \u001b[0mException\u001b[0m\u001b[0;34m(\u001b[0m\u001b[0me\u001b[0m\u001b[0;34m)\u001b[0m\u001b[0;34m\u001b[0m\u001b[0;34m\u001b[0m\u001b[0m\n\u001b[0;32m---> 61\u001b[0;31m     \u001b[0;32mraise\u001b[0m \u001b[0me\u001b[0m\u001b[0;34m\u001b[0m\u001b[0;34m\u001b[0m\u001b[0m\n\u001b[0m\u001b[1;32m     62\u001b[0m \u001b[0;34m\u001b[0m\u001b[0m\n\u001b[1;32m     63\u001b[0m \u001b[0;34m\u001b[0m\u001b[0m\n",
      "\u001b[0;31mUnknownPrivateException\u001b[0m: UnknownPrivateException has been triggered."
     ]
    }
   ],
   "source": [
    "out.get()"
   ]
  },
  {
   "cell_type": "code",
   "execution_count": 16,
   "metadata": {},
   "outputs": [],
   "source": [
    "right = partner_code_for_egypt"
   ]
  },
  {
   "cell_type": "code",
   "execution_count": 18,
   "metadata": {},
   "outputs": [],
   "source": [
    "# ERROR HAPPENS HERE\n",
    "eq = left == right"
   ]
  },
  {
   "cell_type": "code",
   "execution_count": null,
   "metadata": {},
   "outputs": [],
   "source": []
  },
  {
   "cell_type": "code",
   "execution_count": null,
   "metadata": {},
   "outputs": [],
   "source": []
  },
  {
   "cell_type": "code",
   "execution_count": 12,
   "metadata": {
    "scrolled": true
   },
   "outputs": [
    {
     "name": "stderr",
     "output_type": "stream",
     "text": [
      "[2021-08-12T13:17:51.900769+0100][CRITICAL][logger]][13445] UnknownPrivateException has been triggered.\n",
      "[2021-08-12T13:17:51.901774+0100][CRITICAL][logger]][13445] Request to access data length rejected.\n"
     ]
    },
    {
     "name": "stdout",
     "output_type": "stream",
     "text": [
      "{'request_block': True, 'timeout_secs': 25, 'delete_obj': False}\n"
     ]
    },
    {
     "ename": "ValueError",
     "evalue": "Request to access data length rejected.",
     "output_type": "error",
     "traceback": [
      "\u001b[0;31m---------------------------------------------------------------------------\u001b[0m",
      "\u001b[0;31mException\u001b[0m                                 Traceback (most recent call last)",
      "\u001b[0;32m~/Laboratory/openmined/PySyft/packages/syft/src/syft/ast/klass.py\u001b[0m in \u001b[0;36m__len__\u001b[0;34m(self)\u001b[0m\n\u001b[1;32m    458\u001b[0m                 \u001b[0;32mif\u001b[0m \u001b[0mdata_len\u001b[0m \u001b[0;32mis\u001b[0m \u001b[0;32mNone\u001b[0m\u001b[0;34m:\u001b[0m\u001b[0;34m\u001b[0m\u001b[0;34m\u001b[0m\u001b[0m\n\u001b[0;32m--> 459\u001b[0;31m                     \u001b[0;32mraise\u001b[0m \u001b[0mException\u001b[0m\u001b[0;34m\u001b[0m\u001b[0;34m\u001b[0m\u001b[0m\n\u001b[0m\u001b[1;32m    460\u001b[0m \u001b[0;34m\u001b[0m\u001b[0m\n",
      "\u001b[0;31mException\u001b[0m: ",
      "\nDuring handling of the above exception, another exception occurred:\n",
      "\u001b[0;31mValueError\u001b[0m                                Traceback (most recent call last)",
      "\u001b[0;32m<ipython-input-12-cb7513365270>\u001b[0m in \u001b[0;36m<module>\u001b[0;34m\u001b[0m\n\u001b[1;32m      2\u001b[0m \u001b[0;34m\u001b[0m\u001b[0m\n\u001b[1;32m      3\u001b[0m value_of_goods_imported_from_egypt_mask = (\n\u001b[0;32m----> 4\u001b[0;31m     \u001b[0mfeb2020\u001b[0m\u001b[0;34m[\u001b[0m\u001b[0mcolumn_to_index_map\u001b[0m\u001b[0;34m[\u001b[0m\u001b[0;34m\"Partner Code\"\u001b[0m\u001b[0;34m]\u001b[0m\u001b[0;34m]\u001b[0m \u001b[0;34m==\u001b[0m \u001b[0mpartner_code_for_egypt\u001b[0m\u001b[0;34m\u001b[0m\u001b[0;34m\u001b[0m\u001b[0m\n\u001b[0m\u001b[1;32m      5\u001b[0m ) and (feb2020[column_to_index_map[\"Trade Flow Code\"]] == trade_flow_codes_map[\"imports\"])\n",
      "\u001b[0;32m~/Laboratory/openmined/PySyft/packages/syft/src/syft/ast/klass.py\u001b[0m in \u001b[0;36m__len__\u001b[0;34m(self)\u001b[0m\n\u001b[1;32m    462\u001b[0m             \u001b[0;32mexcept\u001b[0m \u001b[0mException\u001b[0m\u001b[0;34m:\u001b[0m\u001b[0;34m\u001b[0m\u001b[0;34m\u001b[0m\u001b[0m\n\u001b[1;32m    463\u001b[0m                 traceback_and_raise(\n\u001b[0;32m--> 464\u001b[0;31m                     \u001b[0mValueError\u001b[0m\u001b[0;34m(\u001b[0m\u001b[0;34m\"Request to access data length rejected.\"\u001b[0m\u001b[0;34m)\u001b[0m\u001b[0;34m\u001b[0m\u001b[0;34m\u001b[0m\u001b[0m\n\u001b[0m\u001b[1;32m    465\u001b[0m                 )\n\u001b[1;32m    466\u001b[0m \u001b[0;34m\u001b[0m\u001b[0m\n",
      "\u001b[0;32m~/Laboratory/openmined/PySyft/packages/syft/src/syft/logger.py\u001b[0m in \u001b[0;36mtraceback_and_raise\u001b[0;34m(e, verbose)\u001b[0m\n\u001b[1;32m     59\u001b[0m     \u001b[0;32mif\u001b[0m \u001b[0;32mnot\u001b[0m \u001b[0missubclass\u001b[0m\u001b[0;34m(\u001b[0m\u001b[0mtype\u001b[0m\u001b[0;34m(\u001b[0m\u001b[0me\u001b[0m\u001b[0;34m)\u001b[0m\u001b[0;34m,\u001b[0m \u001b[0mException\u001b[0m\u001b[0;34m)\u001b[0m\u001b[0;34m:\u001b[0m\u001b[0;34m\u001b[0m\u001b[0;34m\u001b[0m\u001b[0m\n\u001b[1;32m     60\u001b[0m         \u001b[0me\u001b[0m \u001b[0;34m=\u001b[0m \u001b[0mException\u001b[0m\u001b[0;34m(\u001b[0m\u001b[0me\u001b[0m\u001b[0;34m)\u001b[0m\u001b[0;34m\u001b[0m\u001b[0;34m\u001b[0m\u001b[0m\n\u001b[0;32m---> 61\u001b[0;31m     \u001b[0;32mraise\u001b[0m \u001b[0me\u001b[0m\u001b[0;34m\u001b[0m\u001b[0;34m\u001b[0m\u001b[0m\n\u001b[0m\u001b[1;32m     62\u001b[0m \u001b[0;34m\u001b[0m\u001b[0m\n\u001b[1;32m     63\u001b[0m \u001b[0;34m\u001b[0m\u001b[0m\n",
      "\u001b[0;31mValueError\u001b[0m: Request to access data length rejected."
     ]
    }
   ],
   "source": [
    "# Let's calculate the good imported from Egypt\n",
    "\n",
    "value_of_goods_imported_from_egypt_mask = (\n",
    "    feb2020[column_to_index_map[\"Partner Code\"]] == partner_code_for_egypt\n",
    ") and (feb2020[column_to_index_map[\"Trade Flow Code\"]] == trade_flow_codes_map[\"imports\"])"
   ]
  },
  {
   "cell_type": "code",
   "execution_count": null,
   "metadata": {},
   "outputs": [],
   "source": [
    "# Let's continue with the analysis remotely.\n",
    "# Let's calculate the value of the goods import from Egypt.\n",
    "\n",
    "value_of_goods_reimported_from_egypt_mask = (\n",
    "    feb2020[column_to_index_map[\"Partner Code\"]] == partner_code_for_egypt\n",
    ") and (feb2020[column_to_index_map[\"Trade Flow Code\"]] == trade_flow_codes_map[\"re-imports\"])\n",
    "\n",
    "# Selecting Trade values for imports and re-imports (Private - Private Multiplication)\n",
    "value_of_goods_imported_from_egypt = feb2020[column_to_index_map[\"Trade Value (US$)\"]] * value_of_goods_imported_from_egypt_mask\n",
    "value_of_goods_reimported_from_egypt = feb2020[column_to_index_map[\"Trade Value (US$)\"]] * value_of_goods_imported_from_egypt_mask\n",
    "\n",
    "# Let's scale the trade value by 1000 - (Private - Public Multiplication)\n",
    "scaled_value_of_goods_imported_from_egypt = value_of_goods_imported_from_egypt * (0.001)\n",
    "scaled_value_of_goods_reimported_from_egypt = value_of_goods_reimported_from_egypt * (0.001)"
   ]
  },
  {
   "cell_type": "markdown",
   "metadata": {},
   "source": [
    "### Step 5: Private - Private Addition"
   ]
  },
  {
   "cell_type": "code",
   "execution_count": null,
   "metadata": {},
   "outputs": [],
   "source": [
    "# sigma -> Amount of noise added to the response.\n",
    "# Larger the sigma, smaller the budget spent.\n",
    "\n",
    "# Calculating th total imported goods (Private - Private Addition)\n",
    "private_total_imported_goods_value = scaled_value_of_goods_imported_from_egypt + scaled_value_of_goods_reimported_from_egypt\n",
    "private_total_imported_goods_value = private_total_imported_goods_value.sum()\n",
    "public_total_imported_goods_value = private_total_imported_goods_value.publish(client=canada_domain_node ,sigma=1.0)"
   ]
  },
  {
   "cell_type": "markdown",
   "metadata": {},
   "source": [
    "### Step 6: Download Results"
   ]
  },
  {
   "cell_type": "code",
   "execution_count": null,
   "metadata": {},
   "outputs": [],
   "source": [
    "# Let's download the results"
   ]
  },
  {
   "cell_type": "code",
   "execution_count": null,
   "metadata": {},
   "outputs": [],
   "source": [
    "total_imported_goods_value = public_total_imported_goods_value.get()\n",
    "print(f\"Total trade value($) of the goods Imported from Egypt to Canada: ${total_imported_goods_value}\")"
   ]
  },
  {
   "cell_type": "markdown",
   "metadata": {},
   "source": [
    "*Great !!! We successfully, finished our analysis.*"
   ]
  },
  {
   "cell_type": "markdown",
   "metadata": {},
   "source": [
    "# CONGRATULATIONS!!!\n",
    "\n",
    "You've finished the demo!"
   ]
  }
 ],
 "metadata": {
  "kernelspec": {
   "display_name": "Python 3",
   "language": "python",
   "name": "python3"
  },
  "language_info": {
   "codemirror_mode": {
    "name": "ipython",
    "version": 3
   },
   "file_extension": ".py",
   "mimetype": "text/x-python",
   "name": "python",
   "nbconvert_exporter": "python",
   "pygments_lexer": "ipython3",
   "version": "3.7.9"
  }
 },
 "nbformat": 4,
 "nbformat_minor": 5
}
