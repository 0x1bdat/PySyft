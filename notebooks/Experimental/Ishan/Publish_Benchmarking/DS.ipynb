{
 "cells": [
  {
   "cell_type": "code",
   "execution_count": 1,
   "id": "b8d3f5e5-e701-4d95-81b6-22bb4a504d48",
   "metadata": {},
   "outputs": [],
   "source": [
    "import numpy as np\n",
    "import syft as sy"
   ]
  },
  {
   "cell_type": "code",
   "execution_count": 2,
   "id": "86dcb61a-f25b-4304-a216-e7a00e653450",
   "metadata": {},
   "outputs": [
    {
     "name": "stdout",
     "output_type": "stream",
     "text": [
      "Connecting to None... done! \t Logging into adp... done!\n"
     ]
    }
   ],
   "source": [
    "domain_node = sy.login(email=\"sheldon@caltech.edu\", password=\"bazinga\", port=8081)"
   ]
  },
  {
   "cell_type": "code",
   "execution_count": 3,
   "id": "33ea2260-fd6f-41bf-9545-1ec478cb31a8",
   "metadata": {},
   "outputs": [
    {
     "data": {
      "text/html": [
       "<style>\n",
       "                #myInput {\n",
       "                  background-position: 10px 12px; /* Position the search icon */\n",
       "                  background-repeat: no-repeat; /* Do not repeat the icon image */\n",
       "                  background-color: #bbb;\n",
       "                  width: 98%; /* Full-width */\n",
       "                  font-size: 14px; /* Increase font-size */\n",
       "                  padding: 12px 20px 12px 40px; /* Add some padding */\n",
       "                  border: 1px solid #ddd; /* Add a grey border */\n",
       "                  margin-bottom: 12px; /* Add some space below the input */\n",
       "                }\n",
       "\n",
       "                #myTable {\n",
       "                  border-collapse: collapse; /* Collapse borders */\n",
       "                  width: 100%; /* Full-width */\n",
       "                  border: 1px solid #ddd; /* Add a grey border */\n",
       "                  font-size: 14px; /* Increase font-size */\n",
       "                }\n",
       "\n",
       "                #myTable th, #myTable td {\n",
       "                  text-align: left; /* Left-align text */\n",
       "                  padding: 10px; /* Add padding */\n",
       "                }\n",
       "\n",
       "                #myTable tr {\n",
       "                  /* Add a bottom border to all table rows */\n",
       "                  border-bottom: 1px solid #ddd;\n",
       "                }\n",
       "\n",
       "                #myTable tr.header, #myTable tr:hover {\n",
       "                  /* Add a grey background color to the table header and on hover */\n",
       "                  background-color: #777;\n",
       "                }\n",
       "                </style>\n",
       "\n",
       "                <table id=\"myTable\" style=\"width:1000px\">\n",
       "                  <tr class=\"header\">\n",
       "                    <th style=\"width:30px\">Idx</th>\n",
       "                    <th style=\"width:20%;\">Name</th>\n",
       "                    <th style=\"width:35%;\">Description</th>\n",
       "                    <th style=\"width:20%;\">Assets</th>\n",
       "                    <th style=\"width:300px;\">Id</th>\n",
       "                  </tr>\n",
       "                \n",
       "\n",
       "          <tr>\n",
       "            <td>[0]</td>\n",
       "            <td>5</td>\n",
       "            <td>5.0 integers</td>\n",
       "            <td>[\"5\"] -> Tensor<br /><br /></td>\n",
       "            <td>955ff80e-ed94-4a9b-a80c-46ff2af76556</td>\n",
       "          </tr>\n",
       "\n",
       "          <tr>\n",
       "            <td>[1]</td>\n",
       "            <td>10</td>\n",
       "            <td>10.0 integers</td>\n",
       "            <td>[\"10\"] -> Tensor<br /><br /></td>\n",
       "            <td>8ba47b09-205a-4463-8cb9-d902d73b9b4b</td>\n",
       "          </tr>\n",
       "\n",
       "          <tr>\n",
       "            <td>[2]</td>\n",
       "            <td>15</td>\n",
       "            <td>15.0 integers</td>\n",
       "            <td>[\"15\"] -> Tensor<br /><br /></td>\n",
       "            <td>762e054c-ef25-46e7-bee7-c3e669e8be2a</td>\n",
       "          </tr>\n",
       "\n",
       "          <tr>\n",
       "            <td>[3]</td>\n",
       "            <td>20</td>\n",
       "            <td>20.0 integers</td>\n",
       "            <td>[\"20\"] -> Tensor<br /><br /></td>\n",
       "            <td>fb7394ab-13d6-4e65-a052-d3502431c2e1</td>\n",
       "          </tr>\n",
       "\n",
       "          <tr>\n",
       "            <td>[4]</td>\n",
       "            <td>25</td>\n",
       "            <td>25.0 integers</td>\n",
       "            <td>[\"25\"] -> Tensor<br /><br /></td>\n",
       "            <td>1c02354d-7650-49e5-bd51-86ebf089e269</td>\n",
       "          </tr>\n",
       "\n",
       "          <tr>\n",
       "            <td>[5]</td>\n",
       "            <td>30</td>\n",
       "            <td>30.0 integers</td>\n",
       "            <td>[\"30\"] -> Tensor<br /><br /></td>\n",
       "            <td>1e185fe4-0611-4e81-8cca-dadbebf06967</td>\n",
       "          </tr>\n",
       "\n",
       "          <tr>\n",
       "            <td>[6]</td>\n",
       "            <td>35</td>\n",
       "            <td>35.0 integers</td>\n",
       "            <td>[\"35\"] -> Tensor<br /><br /></td>\n",
       "            <td>99fdf2eb-d3d3-436d-bd1c-ee57a35fbe2f</td>\n",
       "          </tr>\n",
       "\n",
       "          <tr>\n",
       "            <td>[7]</td>\n",
       "            <td>40</td>\n",
       "            <td>40.0 integers</td>\n",
       "            <td>[\"40\"] -> Tensor<br /><br /></td>\n",
       "            <td>8c185df5-d16b-4bac-8405-88cfa52d8715</td>\n",
       "          </tr>\n",
       "\n",
       "          <tr>\n",
       "            <td>[8]</td>\n",
       "            <td>45</td>\n",
       "            <td>45.0 integers</td>\n",
       "            <td>[\"45\"] -> Tensor<br /><br /></td>\n",
       "            <td>5ad46ebc-8ce2-4b35-9d1f-fcc9d9d657a1</td>\n",
       "          </tr>\n",
       "\n",
       "          <tr>\n",
       "            <td>[9]</td>\n",
       "            <td>50</td>\n",
       "            <td>50.0 integers</td>\n",
       "            <td>[\"50\"] -> Tensor<br /><br /></td>\n",
       "            <td>141f7349-68fe-4b25-b9cc-2acccdde04b2</td>\n",
       "          </tr>\n",
       "\n",
       "          <tr>\n",
       "            <td>[10]</td>\n",
       "            <td>5</td>\n",
       "            <td>5.0 integers</td>\n",
       "            <td>[\"5\"] -> Tensor<br /><br /></td>\n",
       "            <td>544e1273-faa0-4e20-8a30-f7088dd7eabb</td>\n",
       "          </tr>\n",
       "\n",
       "          <tr>\n",
       "            <td>[11]</td>\n",
       "            <td>10</td>\n",
       "            <td>10.0 integers</td>\n",
       "            <td>[\"10\"] -> Tensor<br /><br /></td>\n",
       "            <td>4ad79e3b-8104-4d64-b0d0-7a8927888092</td>\n",
       "          </tr>\n",
       "\n",
       "          <tr>\n",
       "            <td>[12]</td>\n",
       "            <td>15</td>\n",
       "            <td>15.0 integers</td>\n",
       "            <td>[\"15\"] -> Tensor<br /><br /></td>\n",
       "            <td>157577da-3567-484e-a770-0c818ec38cc3</td>\n",
       "          </tr>\n",
       "\n",
       "          <tr>\n",
       "            <td>[13]</td>\n",
       "            <td>20</td>\n",
       "            <td>20.0 integers</td>\n",
       "            <td>[\"20\"] -> Tensor<br /><br /></td>\n",
       "            <td>04769512-b948-4f8c-9e7e-13304e9940db</td>\n",
       "          </tr>\n",
       "\n",
       "          <tr>\n",
       "            <td>[14]</td>\n",
       "            <td>25</td>\n",
       "            <td>25.0 integers</td>\n",
       "            <td>[\"25\"] -> Tensor<br /><br /></td>\n",
       "            <td>5bb2cfe8-ab0a-42a1-87bd-c0cba9a01fbd</td>\n",
       "          </tr>\n",
       "\n",
       "          <tr>\n",
       "            <td>[15]</td>\n",
       "            <td>30</td>\n",
       "            <td>30.0 integers</td>\n",
       "            <td>[\"30\"] -> Tensor<br /><br /></td>\n",
       "            <td>51794bb1-befa-46a9-b262-b0b7a004e42e</td>\n",
       "          </tr>\n",
       "\n",
       "          <tr>\n",
       "            <td>[16]</td>\n",
       "            <td>35</td>\n",
       "            <td>35.0 integers</td>\n",
       "            <td>[\"35\"] -> Tensor<br /><br /></td>\n",
       "            <td>d0696b55-533d-43fb-a5aa-15af61290729</td>\n",
       "          </tr>\n",
       "\n",
       "          <tr>\n",
       "            <td>[17]</td>\n",
       "            <td>40</td>\n",
       "            <td>40.0 integers</td>\n",
       "            <td>[\"40\"] -> Tensor<br /><br /></td>\n",
       "            <td>bae59550-ddf4-43fa-8779-31ee1dec39da</td>\n",
       "          </tr>\n",
       "\n",
       "          <tr>\n",
       "            <td>[18]</td>\n",
       "            <td>45</td>\n",
       "            <td>45.0 integers</td>\n",
       "            <td>[\"45\"] -> Tensor<br /><br /></td>\n",
       "            <td>29f1cb77-e0cf-4c34-a1b0-06758c8b35d9</td>\n",
       "          </tr>\n",
       "\n",
       "          <tr>\n",
       "            <td>[19]</td>\n",
       "            <td>50</td>\n",
       "            <td>50.0 integers</td>\n",
       "            <td>[\"50\"] -> Tensor<br /><br /></td>\n",
       "            <td>68f74888-6ffd-4d14-ad64-78226bd94910</td>\n",
       "          </tr>\n",
       "        </table>\n",
       "\n",
       "        <script>\n",
       "        function myFunction() {\n",
       "          // Declare variables\n",
       "          var input, filter, table, tr, td, i, txtValue;\n",
       "          input = document.getElementById(\"myInput\");\n",
       "          filter = input.value.toUpperCase();\n",
       "          table = document.getElementById(\"myTable\");\n",
       "          tr = table.getElementsByTagName(\"tr\");\n",
       "\n",
       "          // Loop through all table rows, and hide those who don't match the search query\n",
       "          for (i = 0; i < tr.length; i++) {\n",
       "            name_td = tr[i].getElementsByTagName(\"td\")[1];\n",
       "            desc_td = tr[i].getElementsByTagName(\"td\")[2];\n",
       "            asset_td = tr[i].getElementsByTagName(\"td\")[3];\n",
       "            id_td = tr[i].getElementsByTagName(\"td\")[4];\n",
       "            if (name_td || desc_td || asset_td || id_td) {\n",
       "              name_txtValue = name_td.textContent || name_td.innerText;\n",
       "              desc_txtValue = desc_td.textContent || name_td.innerText;\n",
       "              asset_txtValue = asset_td.textContent || name_td.innerText;\n",
       "              id_txtValue = id_td.textContent || name_td.innerText;\n",
       "              name_bool = name_txtValue.toUpperCase().indexOf(filter) > -1;\n",
       "              desc_bool = desc_txtValue.toUpperCase().indexOf(filter) > -1;\n",
       "              asset_bool = asset_txtValue.toUpperCase().indexOf(filter) > -1;\n",
       "              id_bool = id_txtValue.toUpperCase().indexOf(filter) > -1;\n",
       "              if (name_bool || desc_bool || asset_bool || id_bool) {\n",
       "                tr[i].style.display = \"\";\n",
       "              } else {\n",
       "                tr[i].style.display = \"none\";\n",
       "              }\n",
       "            }\n",
       "          }\n",
       "        }\n",
       "        </script>"
      ],
      "text/plain": [
       "<syft.core.node.common.client_manager.dataset_api.DatasetRequestAPI at 0x7ff491e64dc0>"
      ]
     },
     "execution_count": 3,
     "metadata": {},
     "output_type": "execute_result"
    }
   ],
   "source": [
    "domain_node.datasets"
   ]
  },
  {
   "cell_type": "code",
   "execution_count": 4,
   "id": "e87b7423-083d-416d-9b09-0d09dbc6c5b0",
   "metadata": {},
   "outputs": [
    {
     "data": {
      "text/plain": [
       "array([17, 23, 25, 22, 49], dtype=int32)\n",
       "\n",
       " (The data printed above is synthetic - it's an imitation of the real data.)"
      ]
     },
     "execution_count": 4,
     "metadata": {},
     "output_type": "execute_result"
    }
   ],
   "source": [
    "data = domain_node.datasets[0]['5']\n",
    "data"
   ]
  },
  {
   "cell_type": "code",
   "execution_count": 10,
   "id": "ce70342c-fe96-4afb-a280-1b7488a90a51",
   "metadata": {},
   "outputs": [
    {
     "ename": "TypeError",
     "evalue": "'TensorWrappedSingleEntityPhiTensorPointer' object is not iterable",
     "output_type": "error",
     "traceback": [
      "\u001b[0;31m---------------------------------------------------------------------------\u001b[0m",
      "\u001b[0;31mTypeError\u001b[0m                                 Traceback (most recent call last)",
      "\u001b[0;32m/tmp/ipykernel_10512/3514098912.py\u001b[0m in \u001b[0;36m<module>\u001b[0;34m\u001b[0m\n\u001b[1;32m      1\u001b[0m \u001b[0mresult\u001b[0m \u001b[0;34m=\u001b[0m \u001b[0;36m0\u001b[0m\u001b[0;34m\u001b[0m\u001b[0;34m\u001b[0m\u001b[0m\n\u001b[0;32m----> 2\u001b[0;31m \u001b[0;32mfor\u001b[0m \u001b[0mi\u001b[0m \u001b[0;32min\u001b[0m \u001b[0mdata\u001b[0m\u001b[0;34m:\u001b[0m\u001b[0;34m\u001b[0m\u001b[0;34m\u001b[0m\u001b[0m\n\u001b[0m\u001b[1;32m      3\u001b[0m     \u001b[0mresult\u001b[0m \u001b[0;34m+=\u001b[0m \u001b[0mi\u001b[0m\u001b[0;34m\u001b[0m\u001b[0;34m\u001b[0m\u001b[0m\n",
      "\u001b[0;31mTypeError\u001b[0m: 'TensorWrappedSingleEntityPhiTensorPointer' object is not iterable"
     ]
    }
   ],
   "source": [
    "result = 0\n",
    "for i in data:\n",
    "    result += i"
   ]
  },
  {
   "cell_type": "code",
   "execution_count": 11,
   "id": "8c2dd709-1b27-4f53-bd20-da11a01f9e1f",
   "metadata": {},
   "outputs": [
    {
     "data": {
      "text/plain": [
       "array([16, 49,  8, 33, 12], dtype=int32)\n",
       "\n",
       " (The data printed above is synthetic - it's an imitation of the real data.)"
      ]
     },
     "execution_count": 11,
     "metadata": {},
     "output_type": "execute_result"
    }
   ],
   "source": [
    "data + data"
   ]
  },
  {
   "cell_type": "code",
   "execution_count": null,
   "id": "a2834bc3-3a8d-400b-a67a-7bfdfc3b1795",
   "metadata": {},
   "outputs": [],
   "source": [
    "domain_node.datasets[0]."
   ]
  }
 ],
 "metadata": {
  "kernelspec": {
   "display_name": "Python 3 (ipykernel)",
   "language": "python",
   "name": "python3"
  },
  "language_info": {
   "codemirror_mode": {
    "name": "ipython",
    "version": 3
   },
   "file_extension": ".py",
   "mimetype": "text/x-python",
   "name": "python",
   "nbconvert_exporter": "python",
   "pygments_lexer": "ipython3",
   "version": "3.9.7"
  }
 },
 "nbformat": 4,
 "nbformat_minor": 5
}
