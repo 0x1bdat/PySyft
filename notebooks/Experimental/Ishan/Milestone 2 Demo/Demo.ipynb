{
 "cells": [
  {
   "cell_type": "code",
   "execution_count": 1,
   "metadata": {},
   "outputs": [],
   "source": [
    "import syft as sy\n",
    "import numpy as np\n",
    "import pandas as pd\n",
    "from syft.core.adp.entity_list import EntityList\n",
    "from time import time"
   ]
  },
  {
   "cell_type": "code",
   "execution_count": 2,
   "metadata": {},
   "outputs": [
    {
     "name": "stdout",
     "output_type": "stream",
     "text": [
      "Time taken to read file with 1000.0 million rows : 92.12655973434448 seconds\n"
     ]
    }
   ],
   "source": [
    "t0 = time()\n",
    "df = pd.read_parquet(\"/home/ruchi/1B_rows_dataset_sample.parquet\")\n",
    "# df = pd.read_parquet(\"../Ishan/1M_rows_dataset_sample.parquet\")\n",
    "tf = time() - t0\n",
    "\n",
    "print(f\"Time taken to read file with {df.shape[0]/1e6} million rows : {tf} seconds\")"
   ]
  },
  {
   "cell_type": "code",
   "execution_count": 3,
   "metadata": {},
   "outputs": [
    {
     "name": "stdout",
     "output_type": "stream",
     "text": [
      "Time taken to create inputs for Syft Tensor: 50.22229266166687 seconds\n"
     ]
    }
   ],
   "source": [
    "scale = 1000  # This is put here to reduce the size of the cache :)\n",
    "\n",
    "\n",
    "t0 = time()\n",
    "impressions = df['impressions'].to_numpy(np.int64) // scale\n",
    "data_subjects = EntityList.from_series(df['user_id'])\n",
    "tf = time() - t0\n",
    "\n",
    "print(f\"Time taken to create inputs for Syft Tensor: {tf} seconds\")"
   ]
  },
  {
   "cell_type": "code",
   "execution_count": 4,
   "metadata": {},
   "outputs": [
    {
     "name": "stdout",
     "output_type": "stream",
     "text": [
      "Time make Private Syft Tensor: 2.2126710414886475 seconds\n"
     ]
    }
   ],
   "source": [
    "t0 = time()\n",
    "tweets_data = sy.Tensor(impressions).private(min_val=700_000/scale, max_val=20e6/scale, entities = data_subjects,ndept=True)  # RUn this for 1 billion rows\n",
    "# tweets_data = sy.Tensor(impressions).private(min_val=500/scale, max_val=25000/scale, entities = data_subjects,ndept=True)  # Run this for 1 million rows\n",
    "tf = time() - t0\n",
    "\n",
    "print(f\"Time make Private Syft Tensor: {tf} seconds\")"
   ]
  },
  {
   "cell_type": "code",
   "execution_count": 5,
   "metadata": {},
   "outputs": [
    {
     "name": "stdout",
     "output_type": "stream",
     "text": [
      "WARNING: CHANGE YOUR USERNAME AND PASSWORD!!! \n",
      "\n",
      "Anyone can login as an admin to your node right now because your password is still the default PySyft username and password!!!\n",
      "\n",
      "Connecting to None... done! \t Logging into kind_goodfellow... done!\n"
     ]
    }
   ],
   "source": [
    "domain_node = sy.login(email=\"info@openmined.org\",password=\"changethis\",port=8081)"
   ]
  },
  {
   "cell_type": "code",
   "execution_count": 6,
   "metadata": {},
   "outputs": [
    {
     "data": {
      "text/plain": [
       "9999999.0"
      ]
     },
     "execution_count": 6,
     "metadata": {},
     "output_type": "execute_result"
    }
   ],
   "source": [
    "from syft.core.node.common.node_service.user_manager.user_messages import (\n",
    "    UpdateUserMessage,\n",
    ")\n",
    "\n",
    "# Upgrade admins budget\n",
    "content = {\"user_id\": 1, \"budget\": 9_999_999}\n",
    "domain_node._perform_grid_request(grid_msg=UpdateUserMessage, content=content)\n",
    "\n",
    "domain_node.privacy_budget"
   ]
  },
  {
   "cell_type": "code",
   "execution_count": 7,
   "metadata": {},
   "outputs": [
    {
     "name": "stdout",
     "output_type": "stream",
     "text": [
      "Loading dataset... checking asset types...                                                                                                                                    "
     ]
    },
    {
     "name": "stderr",
     "output_type": "stream",
     "text": [
      "kj/filesystem-disk-unix.c++:1690: warning: PWD environment variable doesn't match current directory; pwd = /home/ruchi/PySyft\n",
      "Uploading Tweets data- 1648062991.2597036: 100%|████████████████████████████████████████████████████████████████████████████████████████████████████████████████| 7/7 [00:08<00:00,  1.24s/it]\n"
     ]
    },
    {
     "name": "stdout",
     "output_type": "stream",
     "text": [
      "Loading dataset... uploading... SUCCESS!                        \n",
      "\n",
      "Run <your client variable>.datasets to see your new dataset loaded into your machine!\n",
      "CPU times: user 40.9 s, sys: 11 s, total: 51.8 s\n",
      "Wall time: 1min 10s\n"
     ]
    }
   ],
   "source": [
    "%%time\n",
    "name = f\"Tweets data- {time()}\"\n",
    "\n",
    "domain_node.load_dataset(\n",
    "    assets={name: tweets_data},\n",
    "    name=name,\n",
    "    description=\" Tweets- 1B rows\",\n",
    "    use_blob_storage=True\n",
    ")"
   ]
  },
  {
   "cell_type": "code",
   "execution_count": 8,
   "metadata": {},
   "outputs": [
    {
     "data": {
      "text/html": [
       "<style>\n",
       "                #myInput {\n",
       "                  background-position: 10px 12px; /* Position the search icon */\n",
       "                  background-repeat: no-repeat; /* Do not repeat the icon image */\n",
       "                  background-color: #bbb;\n",
       "                  width: 98%; /* Full-width */\n",
       "                  font-size: 14px; /* Increase font-size */\n",
       "                  padding: 12px 20px 12px 40px; /* Add some padding */\n",
       "                  border: 1px solid #ddd; /* Add a grey border */\n",
       "                  margin-bottom: 12px; /* Add some space below the input */\n",
       "                }\n",
       "\n",
       "                #myTable {\n",
       "                  border-collapse: collapse; /* Collapse borders */\n",
       "                  width: 100%; /* Full-width */\n",
       "                  border: 1px solid #ddd; /* Add a grey border */\n",
       "                  font-size: 14px; /* Increase font-size */\n",
       "                }\n",
       "\n",
       "                #myTable th, #myTable td {\n",
       "                  text-align: left; /* Left-align text */\n",
       "                  padding: 10px; /* Add padding */\n",
       "                }\n",
       "\n",
       "                #myTable tr {\n",
       "                  /* Add a bottom border to all table rows */\n",
       "                  border-bottom: 1px solid #ddd;\n",
       "                }\n",
       "\n",
       "                #myTable tr.header, #myTable tr:hover {\n",
       "                  /* Add a grey background color to the table header and on hover */\n",
       "                  background-color: #777;\n",
       "                }\n",
       "                </style>\n",
       "\n",
       "                <table id=\"myTable\" style=\"width:1000px\">\n",
       "                  <tr class=\"header\">\n",
       "                    <th style=\"width:30px\">Idx</th>\n",
       "                    <th style=\"width:20%;\">Name</th>\n",
       "                    <th style=\"width:35%;\">Description</th>\n",
       "                    <th style=\"width:20%;\">Assets</th>\n",
       "                    <th style=\"width:300px;\">Id</th>\n",
       "                  </tr>\n",
       "                \n",
       "\n",
       "          <tr>\n",
       "            <td>[0]</td>\n",
       "            <td>Tweets data- 1648062991.2597036</td>\n",
       "            <td> Tweets- 1B rows</td>\n",
       "            <td>[\"Tweets data- 1648062991.2597036\"] -> <class 'syft.core.tensor.tensor.Tensor'><br /><br /></td>\n",
       "            <td>69a7c9fe-f157-483a-8110-236823e27465</td>\n",
       "          </tr>\n",
       "        </table>\n",
       "\n",
       "        <script>\n",
       "        function myFunction() {\n",
       "          // Declare variables\n",
       "          var input, filter, table, tr, td, i, txtValue;\n",
       "          input = document.getElementById(\"myInput\");\n",
       "          filter = input.value.toUpperCase();\n",
       "          table = document.getElementById(\"myTable\");\n",
       "          tr = table.getElementsByTagName(\"tr\");\n",
       "\n",
       "          // Loop through all table rows, and hide those who don't match the search query\n",
       "          for (i = 0; i < tr.length; i++) {\n",
       "            name_td = tr[i].getElementsByTagName(\"td\")[1];\n",
       "            desc_td = tr[i].getElementsByTagName(\"td\")[2];\n",
       "            asset_td = tr[i].getElementsByTagName(\"td\")[3];\n",
       "            id_td = tr[i].getElementsByTagName(\"td\")[4];\n",
       "            if (name_td || desc_td || asset_td || id_td) {\n",
       "              name_txtValue = name_td.textContent || name_td.innerText;\n",
       "              desc_txtValue = desc_td.textContent || name_td.innerText;\n",
       "              asset_txtValue = asset_td.textContent || name_td.innerText;\n",
       "              id_txtValue = id_td.textContent || name_td.innerText;\n",
       "              name_bool = name_txtValue.toUpperCase().indexOf(filter) > -1;\n",
       "              desc_bool = desc_txtValue.toUpperCase().indexOf(filter) > -1;\n",
       "              asset_bool = asset_txtValue.toUpperCase().indexOf(filter) > -1;\n",
       "              id_bool = id_txtValue.toUpperCase().indexOf(filter) > -1;\n",
       "              if (name_bool || desc_bool || asset_bool || id_bool) {\n",
       "                tr[i].style.display = \"\";\n",
       "              } else {\n",
       "                tr[i].style.display = \"none\";\n",
       "              }\n",
       "            }\n",
       "          }\n",
       "        }\n",
       "        </script>"
      ],
      "text/plain": [
       "<syft.core.node.common.client_manager.dataset_api.DatasetRequestAPI at 0x7f17df477c10>"
      ]
     },
     "execution_count": 8,
     "metadata": {},
     "output_type": "execute_result"
    }
   ],
   "source": [
    "domain_node.datasets"
   ]
  },
  {
   "cell_type": "code",
   "execution_count": 9,
   "metadata": {},
   "outputs": [],
   "source": [
    "data = domain_node.datasets[-1][name]"
   ]
  },
  {
   "cell_type": "code",
   "execution_count": 64,
   "metadata": {},
   "outputs": [],
   "source": [
    "res = tweets_data.child.sum()"
   ]
  },
  {
   "cell_type": "code",
   "execution_count": 66,
   "metadata": {},
   "outputs": [
    {
     "name": "stdout",
     "output_type": "stream",
     "text": [
      "700000000000.0\n"
     ]
    }
   ],
   "source": [
    "ser = sy.serialize(res, to_bytes=True)"
   ]
  },
  {
   "cell_type": "code",
   "execution_count": 74,
   "metadata": {},
   "outputs": [
    {
     "data": {
      "text/plain": [
       "b'\\x11\\x056\\xf7\\xd4e\\x01\\x01\\x90\\xd0\\x03\\xff\\x01\\x90\\xd0\\x03\\x02 \\xa1\\x07\\x00\\x0fc\\xc6\\xa0\\x0cP\\x03\\n\\xf8\\x0bh_dB\\xfc@\\xe5\\x9c0\\xb2B\\x01\\x01\\x11%\\xba\\x11-\\x0e\\x11i\\x0e\\x11uF\\x11\\x9d\\x0eQP\\x01\\x01Q\\\\\\x01\\x01Q\\x84\\x01\\x01Q\\x90\\x01\\x01\\x11\\x99R\\xffcapnp:Ga\\x02mmaTensor:capnp\\x001\\x01\\x02\\x03\\xff(\\xb5/\\xfd \\xc8\\xbd\\x02\\x0b\\x00\\x02\\x84\\r\\x19\\xc05s\\xff\\xff\\xae\\xff]\\xd6\\xff\\xff\\xff\\xde\\x81F\\xbax\\x93\\xb2_\\x92\\x94\\xdd$\\x05\\x17IZ\\x00\\xcfN\\xa0\\x8e\\x1b\\x81m\\r\"\\x93UW\"\\xf4\\xeb\\xaa\\x0eS\\xe4\\xda\\x1e\\xb8\\xbb\\x0b\\r\\x00\\x01\\x07\\xab\\x08\\xc2\\xc5\\x10\\xfa\\xc0\\x8a\\x1c\\x06[I\\x00\\xf1>%\\x88\\xcf\\xd1G'"
      ]
     },
     "execution_count": 74,
     "metadata": {},
     "output_type": "execute_result"
    }
   ],
   "source": [
    "ser[:200]"
   ]
  },
  {
   "cell_type": "code",
   "execution_count": 73,
   "metadata": {},
   "outputs": [
    {
     "name": "stdout",
     "output_type": "stream",
     "text": [
      "failed capnp deserialize subsection not found\n"
     ]
    },
    {
     "ename": "ValueError",
     "evalue": "subsection not found",
     "output_type": "error",
     "traceback": [
      "\u001b[0;31m---------------------------------------------------------------------------\u001b[0m",
      "\u001b[0;31mValueError\u001b[0m                                Traceback (most recent call last)",
      "Input \u001b[0;32mIn [73]\u001b[0m, in \u001b[0;36m<cell line: 1>\u001b[0;34m()\u001b[0m\n\u001b[0;32m----> 1\u001b[0m deser \u001b[38;5;241m=\u001b[39m \u001b[43msy\u001b[49m\u001b[38;5;241;43m.\u001b[39;49m\u001b[43mdeserialize\u001b[49m\u001b[43m(\u001b[49m\u001b[43mser\u001b[49m\u001b[43m,\u001b[49m\u001b[43m \u001b[49m\u001b[43mfrom_bytes\u001b[49m\u001b[38;5;241;43m=\u001b[39;49m\u001b[38;5;28;43;01mTrue\u001b[39;49;00m\u001b[43m)\u001b[49m\n",
      "File \u001b[0;32m~/PySyft/packages/syft/src/syft/core/common/serde/deserialize.py:76\u001b[0m, in \u001b[0;36m_deserialize\u001b[0;34m(blob, from_proto, from_bytes)\u001b[0m\n\u001b[1;32m     73\u001b[0m     \u001b[38;5;28;01mexcept\u001b[39;00m \u001b[38;5;167;01mException\u001b[39;00m \u001b[38;5;28;01mas\u001b[39;00m e:\n\u001b[1;32m     74\u001b[0m         \u001b[38;5;66;03m# capnp magic bytes found but another problem has occured\u001b[39;00m\n\u001b[1;32m     75\u001b[0m         \u001b[38;5;28mprint\u001b[39m(\u001b[38;5;124m\"\u001b[39m\u001b[38;5;124mfailed capnp deserialize\u001b[39m\u001b[38;5;124m\"\u001b[39m, e)\n\u001b[0;32m---> 76\u001b[0m         \u001b[38;5;28;01mraise\u001b[39;00m e\n\u001b[1;32m     78\u001b[0m \u001b[38;5;28;01mif\u001b[39;00m from_bytes:\n\u001b[1;32m     79\u001b[0m     data_message \u001b[38;5;241m=\u001b[39m DataMessage()\n",
      "File \u001b[0;32m~/PySyft/packages/syft/src/syft/core/common/serde/deserialize.py:69\u001b[0m, in \u001b[0;36m_deserialize\u001b[0;34m(blob, from_proto, from_bytes)\u001b[0m\n\u001b[1;32m     67\u001b[0m \u001b[38;5;28;01mif\u001b[39;00m \u001b[38;5;28misinstance\u001b[39m(blob, \u001b[38;5;28mbytes\u001b[39m):\n\u001b[1;32m     68\u001b[0m     \u001b[38;5;28;01mtry\u001b[39;00m:\n\u001b[0;32m---> 69\u001b[0m         \u001b[38;5;28;01mreturn\u001b[39;00m \u001b[43mdeserialize_capnp\u001b[49m\u001b[43m(\u001b[49m\u001b[43mbuf\u001b[49m\u001b[38;5;241;43m=\u001b[39;49m\u001b[43mblob\u001b[49m\u001b[43m)\u001b[49m\n\u001b[1;32m     70\u001b[0m     \u001b[38;5;28;01mexcept\u001b[39;00m CapnpMagicBytesNotFound:  \u001b[38;5;66;03m# nosec\u001b[39;00m\n\u001b[1;32m     71\u001b[0m         \u001b[38;5;66;03m# probably not capnp bytes\u001b[39;00m\n\u001b[1;32m     72\u001b[0m         \u001b[38;5;28;01mpass\u001b[39;00m\n",
      "File \u001b[0;32m~/PySyft/packages/syft/src/syft/core/common/serde/deserialize.py:196\u001b[0m, in \u001b[0;36mdeserialize_capnp\u001b[0;34m(buf)\u001b[0m\n\u001b[1;32m    192\u001b[0m     \u001b[38;5;28;01mraise\u001b[39;00m CapnpMagicBytesNotFound(\n\u001b[1;32m    193\u001b[0m         \u001b[38;5;124mf\u001b[39m\u001b[38;5;124m\"\u001b[39m\u001b[38;5;124mcapnp Magic Header \u001b[39m\u001b[38;5;132;01m{\u001b[39;00mCAPNP_START_MAGIC_HEADER\u001b[38;5;132;01m}\u001b[39;00m\u001b[38;5;124m\"\u001b[39m \u001b[38;5;241m+\u001b[39m \u001b[38;5;124m\"\u001b[39m\u001b[38;5;124mnot found in bytes\u001b[39m\u001b[38;5;124m\"\u001b[39m\n\u001b[1;32m    194\u001b[0m     )\n\u001b[1;32m    195\u001b[0m start_index \u001b[38;5;241m+\u001b[39m\u001b[38;5;241m=\u001b[39m \u001b[38;5;28mlen\u001b[39m(CAPNP_START_MAGIC_HEADER_BYTES)\n\u001b[0;32m--> 196\u001b[0m end_index \u001b[38;5;241m=\u001b[39m \u001b[43mheader_bytes\u001b[49m\u001b[38;5;241;43m.\u001b[39;49m\u001b[43mindex\u001b[49m\u001b[43m(\u001b[49m\u001b[43mCAPNP_END_MAGIC_HEADER_BYTES\u001b[49m\u001b[43m)\u001b[49m\n\u001b[1;32m    197\u001b[0m class_name_bytes \u001b[38;5;241m=\u001b[39m header_bytes[start_index:end_index]\n\u001b[1;32m    199\u001b[0m class_name \u001b[38;5;241m=\u001b[39m class_name_bytes\u001b[38;5;241m.\u001b[39mdecode(\u001b[38;5;124m\"\u001b[39m\u001b[38;5;124mutf-8\u001b[39m\u001b[38;5;124m\"\u001b[39m)\n",
      "\u001b[0;31mValueError\u001b[0m: subsection not found"
     ]
    }
   ],
   "source": [
    "deser = sy.deserialize(ser, from_bytes=True)"
   ]
  },
  {
   "cell_type": "code",
   "execution_count": 63,
   "metadata": {},
   "outputs": [
    {
     "name": "stdout",
     "output_type": "stream",
     "text": [
      "700000000000.0\n"
     ]
    },
    {
     "ename": "KeyboardInterrupt",
     "evalue": "",
     "output_type": "error",
     "traceback": [
      "\u001b[0;31m---------------------------------------------------------------------------\u001b[0m",
      "\u001b[0;31mKeyboardInterrupt\u001b[0m                         Traceback (most recent call last)",
      "Input \u001b[0;32mIn [63]\u001b[0m, in \u001b[0;36m<cell line: 1>\u001b[0;34m()\u001b[0m\n\u001b[0;32m----> 1\u001b[0m sy\u001b[38;5;241m.\u001b[39mserialize(tweets_data\u001b[38;5;241m.\u001b[39mchild\u001b[38;5;241m.\u001b[39msum())\n",
      "File \u001b[0;32m~/anaconda3/envs/syft_env/lib/python3.9/site-packages/IPython/core/displayhook.py:268\u001b[0m, in \u001b[0;36mDisplayHook.__call__\u001b[0;34m(self, result)\u001b[0m\n\u001b[1;32m    266\u001b[0m     \u001b[38;5;28mself\u001b[39m\u001b[38;5;241m.\u001b[39mwrite_format_data(format_dict, md_dict)\n\u001b[1;32m    267\u001b[0m     \u001b[38;5;28mself\u001b[39m\u001b[38;5;241m.\u001b[39mlog_output(format_dict)\n\u001b[0;32m--> 268\u001b[0m \u001b[38;5;28;43mself\u001b[39;49m\u001b[38;5;241;43m.\u001b[39;49m\u001b[43mfinish_displayhook\u001b[49m\u001b[43m(\u001b[49m\u001b[43m)\u001b[49m\n",
      "File \u001b[0;32m~/anaconda3/envs/syft_env/lib/python3.9/site-packages/ipykernel/displayhook.py:79\u001b[0m, in \u001b[0;36mZMQShellDisplayHook.finish_displayhook\u001b[0;34m(self)\u001b[0m\n\u001b[1;32m     77\u001b[0m sys\u001b[38;5;241m.\u001b[39mstderr\u001b[38;5;241m.\u001b[39mflush()\n\u001b[1;32m     78\u001b[0m \u001b[38;5;28;01mif\u001b[39;00m \u001b[38;5;28mself\u001b[39m\u001b[38;5;241m.\u001b[39mmsg[\u001b[38;5;124m'\u001b[39m\u001b[38;5;124mcontent\u001b[39m\u001b[38;5;124m'\u001b[39m][\u001b[38;5;124m'\u001b[39m\u001b[38;5;124mdata\u001b[39m\u001b[38;5;124m'\u001b[39m]:\n\u001b[0;32m---> 79\u001b[0m     \u001b[38;5;28;43mself\u001b[39;49m\u001b[38;5;241;43m.\u001b[39;49m\u001b[43msession\u001b[49m\u001b[38;5;241;43m.\u001b[39;49m\u001b[43msend\u001b[49m\u001b[43m(\u001b[49m\u001b[38;5;28;43mself\u001b[39;49m\u001b[38;5;241;43m.\u001b[39;49m\u001b[43mpub_socket\u001b[49m\u001b[43m,\u001b[49m\u001b[43m \u001b[49m\u001b[38;5;28;43mself\u001b[39;49m\u001b[38;5;241;43m.\u001b[39;49m\u001b[43mmsg\u001b[49m\u001b[43m,\u001b[49m\u001b[43m \u001b[49m\u001b[43mident\u001b[49m\u001b[38;5;241;43m=\u001b[39;49m\u001b[38;5;28;43mself\u001b[39;49m\u001b[38;5;241;43m.\u001b[39;49m\u001b[43mtopic\u001b[49m\u001b[43m)\u001b[49m\n\u001b[1;32m     80\u001b[0m \u001b[38;5;28mself\u001b[39m\u001b[38;5;241m.\u001b[39mmsg \u001b[38;5;241m=\u001b[39m \u001b[38;5;28;01mNone\u001b[39;00m\n",
      "File \u001b[0;32m~/anaconda3/envs/syft_env/lib/python3.9/site-packages/jupyter_client/session.py:842\u001b[0m, in \u001b[0;36mSession.send\u001b[0;34m(self, stream, msg_or_type, content, parent, ident, buffers, track, header, metadata)\u001b[0m\n\u001b[1;32m    840\u001b[0m \u001b[38;5;28;01mif\u001b[39;00m \u001b[38;5;28mself\u001b[39m\u001b[38;5;241m.\u001b[39madapt_version:\n\u001b[1;32m    841\u001b[0m     msg \u001b[38;5;241m=\u001b[39m adapt(msg, \u001b[38;5;28mself\u001b[39m\u001b[38;5;241m.\u001b[39madapt_version)\n\u001b[0;32m--> 842\u001b[0m to_send \u001b[38;5;241m=\u001b[39m \u001b[38;5;28;43mself\u001b[39;49m\u001b[38;5;241;43m.\u001b[39;49m\u001b[43mserialize\u001b[49m\u001b[43m(\u001b[49m\u001b[43mmsg\u001b[49m\u001b[43m,\u001b[49m\u001b[43m \u001b[49m\u001b[43mident\u001b[49m\u001b[43m)\u001b[49m\n\u001b[1;32m    843\u001b[0m to_send\u001b[38;5;241m.\u001b[39mextend(buffers)\n\u001b[1;32m    844\u001b[0m longest \u001b[38;5;241m=\u001b[39m \u001b[38;5;28mmax\u001b[39m([\u001b[38;5;28mlen\u001b[39m(s) \u001b[38;5;28;01mfor\u001b[39;00m s \u001b[38;5;129;01min\u001b[39;00m to_send])\n",
      "File \u001b[0;32m~/anaconda3/envs/syft_env/lib/python3.9/site-packages/jupyter_client/session.py:742\u001b[0m, in \u001b[0;36mSession.serialize\u001b[0;34m(self, msg, ident)\u001b[0m\n\u001b[1;32m    739\u001b[0m     to_send\u001b[38;5;241m.\u001b[39mappend(ident)\n\u001b[1;32m    740\u001b[0m to_send\u001b[38;5;241m.\u001b[39mappend(DELIM)\n\u001b[0;32m--> 742\u001b[0m signature \u001b[38;5;241m=\u001b[39m \u001b[38;5;28;43mself\u001b[39;49m\u001b[38;5;241;43m.\u001b[39;49m\u001b[43msign\u001b[49m\u001b[43m(\u001b[49m\u001b[43mreal_message\u001b[49m\u001b[43m)\u001b[49m\n\u001b[1;32m    743\u001b[0m to_send\u001b[38;5;241m.\u001b[39mappend(signature)\n\u001b[1;32m    745\u001b[0m to_send\u001b[38;5;241m.\u001b[39mextend(real_message)\n",
      "File \u001b[0;32m~/anaconda3/envs/syft_env/lib/python3.9/site-packages/jupyter_client/session.py:682\u001b[0m, in \u001b[0;36mSession.sign\u001b[0;34m(self, msg_list)\u001b[0m\n\u001b[1;32m    680\u001b[0m h \u001b[38;5;241m=\u001b[39m \u001b[38;5;28mself\u001b[39m\u001b[38;5;241m.\u001b[39mauth\u001b[38;5;241m.\u001b[39mcopy()\n\u001b[1;32m    681\u001b[0m \u001b[38;5;28;01mfor\u001b[39;00m m \u001b[38;5;129;01min\u001b[39;00m msg_list:\n\u001b[0;32m--> 682\u001b[0m     \u001b[43mh\u001b[49m\u001b[38;5;241;43m.\u001b[39;49m\u001b[43mupdate\u001b[49m\u001b[43m(\u001b[49m\u001b[43mm\u001b[49m\u001b[43m)\u001b[49m\n\u001b[1;32m    683\u001b[0m \u001b[38;5;28;01mreturn\u001b[39;00m h\u001b[38;5;241m.\u001b[39mhexdigest()\u001b[38;5;241m.\u001b[39mencode()\n",
      "File \u001b[0;32m~/anaconda3/envs/syft_env/lib/python3.9/hmac.py:113\u001b[0m, in \u001b[0;36mHMAC.update\u001b[0;34m(self, msg)\u001b[0m\n\u001b[1;32m    111\u001b[0m \u001b[38;5;28;01mdef\u001b[39;00m \u001b[38;5;21mupdate\u001b[39m(\u001b[38;5;28mself\u001b[39m, msg):\n\u001b[1;32m    112\u001b[0m     \u001b[38;5;124;03m\"\"\"Feed data from msg into this hashing object.\"\"\"\u001b[39;00m\n\u001b[0;32m--> 113\u001b[0m     \u001b[38;5;28;43mself\u001b[39;49m\u001b[38;5;241;43m.\u001b[39;49m\u001b[43m_inner\u001b[49m\u001b[38;5;241;43m.\u001b[39;49m\u001b[43mupdate\u001b[49m\u001b[43m(\u001b[49m\u001b[43mmsg\u001b[49m\u001b[43m)\u001b[49m\n",
      "\u001b[0;31mKeyboardInterrupt\u001b[0m: "
     ]
    }
   ],
   "source": [
    "# sy.serialize(tweets_data.child.sum())"
   ]
  },
  {
   "cell_type": "code",
   "execution_count": 10,
   "metadata": {},
   "outputs": [
    {
     "name": "stdout",
     "output_type": "stream",
     "text": [
      "CPU times: user 2.41 s, sys: 141 ms, total: 2.55 s\n",
      "Wall time: 1min 40s\n"
     ]
    },
    {
     "data": {
      "text/plain": [
       "<TensorPointer -> kind_goodfellow:0dcbca0a2b1942258a9fed387d4bb3d1>"
      ]
     },
     "execution_count": 10,
     "metadata": {},
     "output_type": "execute_result"
    }
   ],
   "source": [
    "%%time\n",
    "sum_result = data.sum()\n",
    "sum_result.block"
   ]
  },
  {
   "cell_type": "code",
   "execution_count": 62,
   "metadata": {},
   "outputs": [
    {
     "name": "stdout",
     "output_type": "stream",
     "text": [
      "failed capnp deserialize subsection not found\n",
      "failed capnp deserialize subsection not found\n"
     ]
    },
    {
     "ename": "ValueError",
     "evalue": "subsection not found",
     "output_type": "error",
     "traceback": [
      "\u001b[0;31m---------------------------------------------------------------------------\u001b[0m",
      "\u001b[0;31mValueError\u001b[0m                                Traceback (most recent call last)",
      "Input \u001b[0;32mIn [62]\u001b[0m, in \u001b[0;36m<cell line: 1>\u001b[0;34m()\u001b[0m\n\u001b[0;32m----> 1\u001b[0m s \u001b[38;5;241m=\u001b[39m \u001b[43msum_result\u001b[49m\u001b[38;5;241;43m.\u001b[39;49m\u001b[43mget_copy\u001b[49m\u001b[43m(\u001b[49m\u001b[43m)\u001b[49m\n",
      "File \u001b[0;32m~/PySyft/packages/syft/src/syft/core/pointer/pointer.py:249\u001b[0m, in \u001b[0;36mPointer.get_copy\u001b[0;34m(self, request_block, timeout_secs, reason, verbose)\u001b[0m\n\u001b[1;32m    236\u001b[0m \u001b[38;5;28;01mdef\u001b[39;00m \u001b[38;5;21mget_copy\u001b[39m(\n\u001b[1;32m    237\u001b[0m     \u001b[38;5;28mself\u001b[39m,\n\u001b[1;32m    238\u001b[0m     request_block: \u001b[38;5;28mbool\u001b[39m \u001b[38;5;241m=\u001b[39m \u001b[38;5;28;01mFalse\u001b[39;00m,\n\u001b[0;32m   (...)\u001b[0m\n\u001b[1;32m    241\u001b[0m     verbose: \u001b[38;5;28mbool\u001b[39m \u001b[38;5;241m=\u001b[39m \u001b[38;5;28;01mFalse\u001b[39;00m,\n\u001b[1;32m    242\u001b[0m ) \u001b[38;5;241m-\u001b[39m\u001b[38;5;241m>\u001b[39m Optional[StorableObject]:\n\u001b[1;32m    243\u001b[0m     \u001b[38;5;124;03m\"\"\"Method to download a remote object from a pointer object if you have the right\u001b[39;00m\n\u001b[1;32m    244\u001b[0m \u001b[38;5;124;03m    permissions. Optionally can block while waiting for approval.\u001b[39;00m\n\u001b[1;32m    245\u001b[0m \n\u001b[1;32m    246\u001b[0m \u001b[38;5;124;03m    :return: returns the downloaded data\u001b[39;00m\n\u001b[1;32m    247\u001b[0m \u001b[38;5;124;03m    :rtype: Optional[StorableObject]\u001b[39;00m\n\u001b[1;32m    248\u001b[0m \u001b[38;5;124;03m    \"\"\"\u001b[39;00m\n\u001b[0;32m--> 249\u001b[0m     \u001b[38;5;28;01mreturn\u001b[39;00m \u001b[38;5;28;43mself\u001b[39;49m\u001b[38;5;241;43m.\u001b[39;49m\u001b[43mget\u001b[49m\u001b[43m(\u001b[49m\n\u001b[1;32m    250\u001b[0m \u001b[43m        \u001b[49m\u001b[43mrequest_block\u001b[49m\u001b[38;5;241;43m=\u001b[39;49m\u001b[43mrequest_block\u001b[49m\u001b[43m,\u001b[49m\n\u001b[1;32m    251\u001b[0m \u001b[43m        \u001b[49m\u001b[43mtimeout_secs\u001b[49m\u001b[38;5;241;43m=\u001b[39;49m\u001b[43mtimeout_secs\u001b[49m\u001b[43m,\u001b[49m\n\u001b[1;32m    252\u001b[0m \u001b[43m        \u001b[49m\u001b[43mreason\u001b[49m\u001b[38;5;241;43m=\u001b[39;49m\u001b[43mreason\u001b[49m\u001b[43m,\u001b[49m\n\u001b[1;32m    253\u001b[0m \u001b[43m        \u001b[49m\u001b[43mdelete_obj\u001b[49m\u001b[38;5;241;43m=\u001b[39;49m\u001b[38;5;28;43;01mFalse\u001b[39;49;00m\u001b[43m,\u001b[49m\n\u001b[1;32m    254\u001b[0m \u001b[43m        \u001b[49m\u001b[43mverbose\u001b[49m\u001b[38;5;241;43m=\u001b[39;49m\u001b[43mverbose\u001b[49m\u001b[43m,\u001b[49m\n\u001b[1;32m    255\u001b[0m \u001b[43m    \u001b[49m\u001b[43m)\u001b[49m\n",
      "File \u001b[0;32m~/PySyft/packages/syft/src/syft/core/pointer/pointer.py:364\u001b[0m, in \u001b[0;36mPointer.get\u001b[0;34m(self, request_block, timeout_secs, reason, delete_obj, verbose, proxy_only)\u001b[0m\n\u001b[1;32m    359\u001b[0m     \u001b[38;5;28;01mraise\u001b[39;00m \u001b[38;5;167;01mReferenceError\u001b[39;00m(\n\u001b[1;32m    360\u001b[0m         \u001b[38;5;124m\"\u001b[39m\u001b[38;5;124mObject has already been deleted. This pointer is exhausted\u001b[39m\u001b[38;5;124m\"\u001b[39m\n\u001b[1;32m    361\u001b[0m     )\n\u001b[1;32m    363\u001b[0m \u001b[38;5;28;01mif\u001b[39;00m \u001b[38;5;129;01mnot\u001b[39;00m request_block:\n\u001b[0;32m--> 364\u001b[0m     result \u001b[38;5;241m=\u001b[39m \u001b[38;5;28;43mself\u001b[39;49m\u001b[38;5;241;43m.\u001b[39;49m\u001b[43m_get\u001b[49m\u001b[43m(\u001b[49m\n\u001b[1;32m    365\u001b[0m \u001b[43m        \u001b[49m\u001b[43mdelete_obj\u001b[49m\u001b[38;5;241;43m=\u001b[39;49m\u001b[43mdelete_obj\u001b[49m\u001b[43m,\u001b[49m\u001b[43m \u001b[49m\u001b[43mverbose\u001b[49m\u001b[38;5;241;43m=\u001b[39;49m\u001b[43mverbose\u001b[49m\u001b[43m,\u001b[49m\u001b[43m \u001b[49m\u001b[43mproxy_only\u001b[49m\u001b[38;5;241;43m=\u001b[39;49m\u001b[43mproxy_only\u001b[49m\n\u001b[1;32m    366\u001b[0m \u001b[43m    \u001b[49m\u001b[43m)\u001b[49m\n\u001b[1;32m    367\u001b[0m \u001b[38;5;28;01melse\u001b[39;00m:\n\u001b[1;32m    368\u001b[0m     response_status \u001b[38;5;241m=\u001b[39m \u001b[38;5;28mself\u001b[39m\u001b[38;5;241m.\u001b[39mrequest(\n\u001b[1;32m    369\u001b[0m         reason\u001b[38;5;241m=\u001b[39mreason,\n\u001b[1;32m    370\u001b[0m         block\u001b[38;5;241m=\u001b[39m\u001b[38;5;28;01mTrue\u001b[39;00m,\n\u001b[1;32m    371\u001b[0m         timeout_secs\u001b[38;5;241m=\u001b[39mtimeout_secs,\n\u001b[1;32m    372\u001b[0m         verbose\u001b[38;5;241m=\u001b[39mverbose,\n\u001b[1;32m    373\u001b[0m     )\n",
      "File \u001b[0;32m~/PySyft/packages/syft/src/syft/core/pointer/pointer.py:226\u001b[0m, in \u001b[0;36mPointer._get\u001b[0;34m(self, delete_obj, verbose, proxy_only)\u001b[0m\n\u001b[1;32m    222\u001b[0m     \u001b[38;5;28;01mif\u001b[39;00m response\u001b[38;5;241m.\u001b[39mstatus_code \u001b[38;5;241m!=\u001b[39m \u001b[38;5;241m200\u001b[39m:\n\u001b[1;32m    223\u001b[0m         \u001b[38;5;28;01mraise\u001b[39;00m \u001b[38;5;167;01mException\u001b[39;00m(\n\u001b[1;32m    224\u001b[0m             \u001b[38;5;124mf\u001b[39m\u001b[38;5;124m\"\u001b[39m\u001b[38;5;124mFailed to get object from store. HTTP Status Code: \u001b[39m\u001b[38;5;132;01m{\u001b[39;00mresponse\u001b[38;5;241m.\u001b[39mstatus_code\u001b[38;5;132;01m}\u001b[39;00m\u001b[38;5;124m\"\u001b[39m\n\u001b[1;32m    225\u001b[0m         )\n\u001b[0;32m--> 226\u001b[0m     obj \u001b[38;5;241m=\u001b[39m \u001b[43m_deserialize\u001b[49m\u001b[43m(\u001b[49m\u001b[43mresponse\u001b[49m\u001b[38;5;241;43m.\u001b[39;49m\u001b[43mcontent\u001b[49m\u001b[43m,\u001b[49m\u001b[43m \u001b[49m\u001b[43mfrom_bytes\u001b[49m\u001b[38;5;241;43m=\u001b[39;49m\u001b[38;5;28;43;01mTrue\u001b[39;49;00m\u001b[43m)\u001b[49m\n\u001b[1;32m    227\u001b[0m \u001b[38;5;28;01melse\u001b[39;00m:\n\u001b[1;32m    228\u001b[0m     obj \u001b[38;5;241m=\u001b[39m obj\u001b[38;5;241m.\u001b[39mdata\n",
      "File \u001b[0;32m~/PySyft/packages/syft/src/syft/core/common/serde/deserialize.py:76\u001b[0m, in \u001b[0;36m_deserialize\u001b[0;34m(blob, from_proto, from_bytes)\u001b[0m\n\u001b[1;32m     73\u001b[0m     \u001b[38;5;28;01mexcept\u001b[39;00m \u001b[38;5;167;01mException\u001b[39;00m \u001b[38;5;28;01mas\u001b[39;00m e:\n\u001b[1;32m     74\u001b[0m         \u001b[38;5;66;03m# capnp magic bytes found but another problem has occured\u001b[39;00m\n\u001b[1;32m     75\u001b[0m         \u001b[38;5;28mprint\u001b[39m(\u001b[38;5;124m\"\u001b[39m\u001b[38;5;124mfailed capnp deserialize\u001b[39m\u001b[38;5;124m\"\u001b[39m, e)\n\u001b[0;32m---> 76\u001b[0m         \u001b[38;5;28;01mraise\u001b[39;00m e\n\u001b[1;32m     78\u001b[0m \u001b[38;5;28;01mif\u001b[39;00m from_bytes:\n\u001b[1;32m     79\u001b[0m     data_message \u001b[38;5;241m=\u001b[39m DataMessage()\n",
      "File \u001b[0;32m~/PySyft/packages/syft/src/syft/core/common/serde/deserialize.py:69\u001b[0m, in \u001b[0;36m_deserialize\u001b[0;34m(blob, from_proto, from_bytes)\u001b[0m\n\u001b[1;32m     67\u001b[0m \u001b[38;5;28;01mif\u001b[39;00m \u001b[38;5;28misinstance\u001b[39m(blob, \u001b[38;5;28mbytes\u001b[39m):\n\u001b[1;32m     68\u001b[0m     \u001b[38;5;28;01mtry\u001b[39;00m:\n\u001b[0;32m---> 69\u001b[0m         \u001b[38;5;28;01mreturn\u001b[39;00m \u001b[43mdeserialize_capnp\u001b[49m\u001b[43m(\u001b[49m\u001b[43mbuf\u001b[49m\u001b[38;5;241;43m=\u001b[39;49m\u001b[43mblob\u001b[49m\u001b[43m)\u001b[49m\n\u001b[1;32m     70\u001b[0m     \u001b[38;5;28;01mexcept\u001b[39;00m CapnpMagicBytesNotFound:  \u001b[38;5;66;03m# nosec\u001b[39;00m\n\u001b[1;32m     71\u001b[0m         \u001b[38;5;66;03m# probably not capnp bytes\u001b[39;00m\n\u001b[1;32m     72\u001b[0m         \u001b[38;5;28;01mpass\u001b[39;00m\n",
      "File \u001b[0;32m~/PySyft/packages/syft/src/syft/core/common/serde/deserialize.py:205\u001b[0m, in \u001b[0;36mdeserialize_capnp\u001b[0;34m(buf)\u001b[0m\n\u001b[1;32m    200\u001b[0m \u001b[38;5;28;01mif\u001b[39;00m class_name \u001b[38;5;129;01mnot\u001b[39;00m \u001b[38;5;129;01min\u001b[39;00m CAPNP_REGISTRY:\n\u001b[1;32m    201\u001b[0m     \u001b[38;5;28;01mraise\u001b[39;00m \u001b[38;5;167;01mException\u001b[39;00m(\n\u001b[1;32m    202\u001b[0m         \u001b[38;5;124mf\u001b[39m\u001b[38;5;124m\"\u001b[39m\u001b[38;5;124mFound capnp Magic Header: \u001b[39m\u001b[38;5;132;01m{\u001b[39;00mCAPNP_START_MAGIC_HEADER\u001b[38;5;132;01m}\u001b[39;00m\u001b[38;5;124m \u001b[39m\u001b[38;5;124m\"\u001b[39m\n\u001b[1;32m    203\u001b[0m         \u001b[38;5;241m+\u001b[39m \u001b[38;5;124mf\u001b[39m\u001b[38;5;124m\"\u001b[39m\u001b[38;5;124mand Class \u001b[39m\u001b[38;5;132;01m{\u001b[39;00mclass_name\u001b[38;5;132;01m}\u001b[39;00m\u001b[38;5;124m but no mapping in capnp registry \u001b[39m\u001b[38;5;132;01m{\u001b[39;00mCAPNP_REGISTRY\u001b[38;5;132;01m}\u001b[39;00m\u001b[38;5;124m\"\u001b[39m\n\u001b[1;32m    204\u001b[0m     )\n\u001b[0;32m--> 205\u001b[0m \u001b[38;5;28;01mreturn\u001b[39;00m \u001b[43mCAPNP_REGISTRY\u001b[49m\u001b[43m[\u001b[49m\u001b[43mclass_name\u001b[49m\u001b[43m]\u001b[49m\u001b[43m(\u001b[49m\u001b[43mbuf\u001b[49m\u001b[38;5;241;43m=\u001b[39;49m\u001b[43mbuf\u001b[49m\u001b[43m)\u001b[49m\n",
      "File \u001b[0;32m~/PySyft/packages/syft/src/syft/core/tensor/tensor.py:491\u001b[0m, in \u001b[0;36mTensor._bytes2object\u001b[0;34m(buf)\u001b[0m\n\u001b[1;32m    485\u001b[0m MAX_TRAVERSAL_LIMIT \u001b[38;5;241m=\u001b[39m \u001b[38;5;241m2\u001b[39m\u001b[38;5;241m*\u001b[39m\u001b[38;5;241m*\u001b[39m\u001b[38;5;241m64\u001b[39m \u001b[38;5;241m-\u001b[39m \u001b[38;5;241m1\u001b[39m\n\u001b[1;32m    486\u001b[0m tensor_msg \u001b[38;5;241m=\u001b[39m tensor_struct\u001b[38;5;241m.\u001b[39mfrom_bytes_packed(\n\u001b[1;32m    487\u001b[0m     buf, traversal_limit_in_words\u001b[38;5;241m=\u001b[39mMAX_TRAVERSAL_LIMIT\n\u001b[1;32m    488\u001b[0m )\n\u001b[1;32m    490\u001b[0m tensor \u001b[38;5;241m=\u001b[39m Tensor(\n\u001b[0;32m--> 491\u001b[0m     child\u001b[38;5;241m=\u001b[39m\u001b[43msy\u001b[49m\u001b[38;5;241;43m.\u001b[39;49m\u001b[43mdeserialize\u001b[49m\u001b[43m(\u001b[49m\u001b[43mcombine_bytes\u001b[49m\u001b[43m(\u001b[49m\u001b[43mtensor_msg\u001b[49m\u001b[38;5;241;43m.\u001b[39;49m\u001b[43mchild\u001b[49m\u001b[43m)\u001b[49m\u001b[43m,\u001b[49m\u001b[43m \u001b[49m\u001b[43mfrom_bytes\u001b[49m\u001b[38;5;241;43m=\u001b[39;49m\u001b[38;5;28;43;01mTrue\u001b[39;49;00m\u001b[43m)\u001b[49m,\n\u001b[1;32m    492\u001b[0m     public_shape\u001b[38;5;241m=\u001b[39msy\u001b[38;5;241m.\u001b[39mdeserialize(\n\u001b[1;32m    493\u001b[0m         combine_bytes(tensor_msg\u001b[38;5;241m.\u001b[39mpublicShape), from_bytes\u001b[38;5;241m=\u001b[39m\u001b[38;5;28;01mTrue\u001b[39;00m\n\u001b[1;32m    494\u001b[0m     ),\n\u001b[1;32m    495\u001b[0m     public_dtype\u001b[38;5;241m=\u001b[39msy\u001b[38;5;241m.\u001b[39mdeserialize(\n\u001b[1;32m    496\u001b[0m         combine_bytes(tensor_msg\u001b[38;5;241m.\u001b[39mpublicDtype), from_bytes\u001b[38;5;241m=\u001b[39m\u001b[38;5;28;01mTrue\u001b[39;00m\n\u001b[1;32m    497\u001b[0m     ),\n\u001b[1;32m    498\u001b[0m )\n\u001b[1;32m    499\u001b[0m tensor\u001b[38;5;241m.\u001b[39mtag_name \u001b[38;5;241m=\u001b[39m sy\u001b[38;5;241m.\u001b[39mdeserialize(\n\u001b[1;32m    500\u001b[0m     combine_bytes(tensor_msg\u001b[38;5;241m.\u001b[39mtagName), from_bytes\u001b[38;5;241m=\u001b[39m\u001b[38;5;28;01mTrue\u001b[39;00m\n\u001b[1;32m    501\u001b[0m )\n\u001b[1;32m    503\u001b[0m \u001b[38;5;28;01mreturn\u001b[39;00m tensor\n",
      "File \u001b[0;32m~/PySyft/packages/syft/src/syft/core/common/serde/deserialize.py:76\u001b[0m, in \u001b[0;36m_deserialize\u001b[0;34m(blob, from_proto, from_bytes)\u001b[0m\n\u001b[1;32m     73\u001b[0m     \u001b[38;5;28;01mexcept\u001b[39;00m \u001b[38;5;167;01mException\u001b[39;00m \u001b[38;5;28;01mas\u001b[39;00m e:\n\u001b[1;32m     74\u001b[0m         \u001b[38;5;66;03m# capnp magic bytes found but another problem has occured\u001b[39;00m\n\u001b[1;32m     75\u001b[0m         \u001b[38;5;28mprint\u001b[39m(\u001b[38;5;124m\"\u001b[39m\u001b[38;5;124mfailed capnp deserialize\u001b[39m\u001b[38;5;124m\"\u001b[39m, e)\n\u001b[0;32m---> 76\u001b[0m         \u001b[38;5;28;01mraise\u001b[39;00m e\n\u001b[1;32m     78\u001b[0m \u001b[38;5;28;01mif\u001b[39;00m from_bytes:\n\u001b[1;32m     79\u001b[0m     data_message \u001b[38;5;241m=\u001b[39m DataMessage()\n",
      "File \u001b[0;32m~/PySyft/packages/syft/src/syft/core/common/serde/deserialize.py:69\u001b[0m, in \u001b[0;36m_deserialize\u001b[0;34m(blob, from_proto, from_bytes)\u001b[0m\n\u001b[1;32m     67\u001b[0m \u001b[38;5;28;01mif\u001b[39;00m \u001b[38;5;28misinstance\u001b[39m(blob, \u001b[38;5;28mbytes\u001b[39m):\n\u001b[1;32m     68\u001b[0m     \u001b[38;5;28;01mtry\u001b[39;00m:\n\u001b[0;32m---> 69\u001b[0m         \u001b[38;5;28;01mreturn\u001b[39;00m \u001b[43mdeserialize_capnp\u001b[49m\u001b[43m(\u001b[49m\u001b[43mbuf\u001b[49m\u001b[38;5;241;43m=\u001b[39;49m\u001b[43mblob\u001b[49m\u001b[43m)\u001b[49m\n\u001b[1;32m     70\u001b[0m     \u001b[38;5;28;01mexcept\u001b[39;00m CapnpMagicBytesNotFound:  \u001b[38;5;66;03m# nosec\u001b[39;00m\n\u001b[1;32m     71\u001b[0m         \u001b[38;5;66;03m# probably not capnp bytes\u001b[39;00m\n\u001b[1;32m     72\u001b[0m         \u001b[38;5;28;01mpass\u001b[39;00m\n",
      "File \u001b[0;32m~/PySyft/packages/syft/src/syft/core/common/serde/deserialize.py:196\u001b[0m, in \u001b[0;36mdeserialize_capnp\u001b[0;34m(buf)\u001b[0m\n\u001b[1;32m    192\u001b[0m     \u001b[38;5;28;01mraise\u001b[39;00m CapnpMagicBytesNotFound(\n\u001b[1;32m    193\u001b[0m         \u001b[38;5;124mf\u001b[39m\u001b[38;5;124m\"\u001b[39m\u001b[38;5;124mcapnp Magic Header \u001b[39m\u001b[38;5;132;01m{\u001b[39;00mCAPNP_START_MAGIC_HEADER\u001b[38;5;132;01m}\u001b[39;00m\u001b[38;5;124m\"\u001b[39m \u001b[38;5;241m+\u001b[39m \u001b[38;5;124m\"\u001b[39m\u001b[38;5;124mnot found in bytes\u001b[39m\u001b[38;5;124m\"\u001b[39m\n\u001b[1;32m    194\u001b[0m     )\n\u001b[1;32m    195\u001b[0m start_index \u001b[38;5;241m+\u001b[39m\u001b[38;5;241m=\u001b[39m \u001b[38;5;28mlen\u001b[39m(CAPNP_START_MAGIC_HEADER_BYTES)\n\u001b[0;32m--> 196\u001b[0m end_index \u001b[38;5;241m=\u001b[39m \u001b[43mheader_bytes\u001b[49m\u001b[38;5;241;43m.\u001b[39;49m\u001b[43mindex\u001b[49m\u001b[43m(\u001b[49m\u001b[43mCAPNP_END_MAGIC_HEADER_BYTES\u001b[49m\u001b[43m)\u001b[49m\n\u001b[1;32m    197\u001b[0m class_name_bytes \u001b[38;5;241m=\u001b[39m header_bytes[start_index:end_index]\n\u001b[1;32m    199\u001b[0m class_name \u001b[38;5;241m=\u001b[39m class_name_bytes\u001b[38;5;241m.\u001b[39mdecode(\u001b[38;5;124m\"\u001b[39m\u001b[38;5;124mutf-8\u001b[39m\u001b[38;5;124m\"\u001b[39m)\n",
      "\u001b[0;31mValueError\u001b[0m: subsection not found"
     ]
    }
   ],
   "source": [
    "s = sum_result.get_copy()"
   ]
  },
  {
   "cell_type": "code",
   "execution_count": null,
   "metadata": {},
   "outputs": [],
   "source": []
  },
  {
   "cell_type": "code",
   "execution_count": 11,
   "metadata": {},
   "outputs": [
    {
     "data": {
      "text/plain": [
       "True"
      ]
     },
     "execution_count": 11,
     "metadata": {},
     "output_type": "execute_result"
    }
   ],
   "source": [
    "sum_result.exists"
   ]
  },
  {
   "cell_type": "code",
   "execution_count": 60,
   "metadata": {},
   "outputs": [
    {
     "data": {
      "text/plain": [
       "<UID: 7ca73ddafc00414ab9d170f641bdca5e>"
      ]
     },
     "execution_count": 60,
     "metadata": {},
     "output_type": "execute_result"
    }
   ],
   "source": [
    "sum_result.id_at_location"
   ]
  },
  {
   "cell_type": "code",
   "execution_count": 12,
   "metadata": {},
   "outputs": [],
   "source": [
    "published_result = sum_result.publish(sigma=100)"
   ]
  },
  {
   "cell_type": "code",
   "execution_count": 16,
   "metadata": {},
   "outputs": [
    {
     "data": {
      "text/plain": [
       "True"
      ]
     },
     "execution_count": 16,
     "metadata": {},
     "output_type": "execute_result"
    }
   ],
   "source": [
    "published_result.exists"
   ]
  },
  {
   "cell_type": "code",
   "execution_count": 17,
   "metadata": {},
   "outputs": [
    {
     "data": {
      "text/plain": [
       "<FloatPointer -> hardcore_gardner:14669bffb0d34f63a93322fab4ef416f>"
      ]
     },
     "execution_count": 17,
     "metadata": {},
     "output_type": "execute_result"
    }
   ],
   "source": [
    "# published_result"
   ]
  },
  {
   "cell_type": "code",
   "execution_count": 21,
   "metadata": {},
   "outputs": [],
   "source": [
    "# published_result.request()"
   ]
  },
  {
   "cell_type": "code",
   "execution_count": 22,
   "metadata": {},
   "outputs": [
    {
     "data": {
      "text/html": [
       "<div>\n",
       "<style scoped>\n",
       "    .dataframe tbody tr th:only-of-type {\n",
       "        vertical-align: middle;\n",
       "    }\n",
       "\n",
       "    .dataframe tbody tr th {\n",
       "        vertical-align: top;\n",
       "    }\n",
       "\n",
       "    .dataframe thead th {\n",
       "        text-align: right;\n",
       "    }\n",
       "</style>\n",
       "<table border=\"1\" class=\"dataframe\">\n",
       "  <thead>\n",
       "    <tr style=\"text-align: right;\">\n",
       "      <th></th>\n",
       "      <th>Name</th>\n",
       "      <th>Email</th>\n",
       "      <th>Role</th>\n",
       "      <th>Request Type</th>\n",
       "      <th>Status</th>\n",
       "      <th>Reason</th>\n",
       "      <th>Request ID</th>\n",
       "      <th>Requested Object's ID</th>\n",
       "      <th>Requested Object's tags</th>\n",
       "      <th>Requested Budget</th>\n",
       "      <th>Current Budget</th>\n",
       "    </tr>\n",
       "  </thead>\n",
       "  <tbody>\n",
       "    <tr>\n",
       "      <th>0</th>\n",
       "      <td>Jane Doe</td>\n",
       "      <td>info@openmined.org</td>\n",
       "      <td>Owner</td>\n",
       "      <td>DATA</td>\n",
       "      <td>pending</td>\n",
       "      <td></td>\n",
       "      <td>&lt;UID: 2352122b71e24e6c9826501d7eb3cd28&gt;</td>\n",
       "      <td>&lt;UID: 14669bffb0d34f63a93322fab4ef416f&gt;</td>\n",
       "      <td>[]</td>\n",
       "      <td>None</td>\n",
       "      <td>None</td>\n",
       "    </tr>\n",
       "  </tbody>\n",
       "</table>\n",
       "</div>"
      ],
      "text/plain": [
       "[<RequestMessage: 2352122b71e24e6c9826501d7eb3cd28>]"
      ]
     },
     "execution_count": 22,
     "metadata": {},
     "output_type": "execute_result"
    }
   ],
   "source": [
    "# domain_node.requests"
   ]
  },
  {
   "cell_type": "code",
   "execution_count": 23,
   "metadata": {},
   "outputs": [],
   "source": [
    "# domain_node.requests[-1].accept()"
   ]
  },
  {
   "cell_type": "code",
   "execution_count": 24,
   "metadata": {},
   "outputs": [
    {
     "data": {
      "text/html": [
       "<div>\n",
       "<style scoped>\n",
       "    .dataframe tbody tr th:only-of-type {\n",
       "        vertical-align: middle;\n",
       "    }\n",
       "\n",
       "    .dataframe tbody tr th {\n",
       "        vertical-align: top;\n",
       "    }\n",
       "\n",
       "    .dataframe thead th {\n",
       "        text-align: right;\n",
       "    }\n",
       "</style>\n",
       "<table border=\"1\" class=\"dataframe\">\n",
       "  <thead>\n",
       "    <tr style=\"text-align: right;\">\n",
       "      <th></th>\n",
       "      <th>Name</th>\n",
       "      <th>Email</th>\n",
       "      <th>Role</th>\n",
       "      <th>Request Type</th>\n",
       "      <th>Status</th>\n",
       "      <th>Reason</th>\n",
       "      <th>Request ID</th>\n",
       "      <th>Requested Object's ID</th>\n",
       "      <th>Requested Object's tags</th>\n",
       "      <th>Requested Budget</th>\n",
       "      <th>Current Budget</th>\n",
       "    </tr>\n",
       "  </thead>\n",
       "  <tbody>\n",
       "    <tr>\n",
       "      <th>0</th>\n",
       "      <td>Jane Doe</td>\n",
       "      <td>info@openmined.org</td>\n",
       "      <td>Owner</td>\n",
       "      <td>DATA</td>\n",
       "      <td>accepted</td>\n",
       "      <td></td>\n",
       "      <td>&lt;UID: 2352122b71e24e6c9826501d7eb3cd28&gt;</td>\n",
       "      <td>&lt;UID: 14669bffb0d34f63a93322fab4ef416f&gt;</td>\n",
       "      <td>[]</td>\n",
       "      <td>None</td>\n",
       "      <td>None</td>\n",
       "    </tr>\n",
       "  </tbody>\n",
       "</table>\n",
       "</div>"
      ],
      "text/plain": [
       "[<RequestMessage: 2352122b71e24e6c9826501d7eb3cd28>]"
      ]
     },
     "execution_count": 24,
     "metadata": {},
     "output_type": "execute_result"
    }
   ],
   "source": [
    "# domain_node.requests"
   ]
  },
  {
   "cell_type": "code",
   "execution_count": 25,
   "metadata": {},
   "outputs": [],
   "source": [
    "# result_of_our_hard_labour = published_result.get()"
   ]
  },
  {
   "cell_type": "markdown",
   "metadata": {},
   "source": [
    "# WE GOT AN OVERFLOW ERROR\n",
    "- doesn't occur with 1M rows\n",
    "- publish had completed, tho it took 602 seconds"
   ]
  },
  {
   "cell_type": "code",
   "execution_count": 26,
   "metadata": {},
   "outputs": [
    {
     "data": {
      "text/plain": [
       "array(-2147483648, dtype=int32)"
      ]
     },
     "execution_count": 26,
     "metadata": {},
     "output_type": "execute_result"
    }
   ],
   "source": [
    "# result_of_our_hard_labour"
   ]
  },
  {
   "cell_type": "code",
   "execution_count": 22,
   "metadata": {},
   "outputs": [
    {
     "data": {
      "text/plain": [
       "11941995258"
      ]
     },
     "execution_count": 22,
     "metadata": {},
     "output_type": "execute_result"
    }
   ],
   "source": [
    "# impressions.sum()"
   ]
  },
  {
   "cell_type": "code",
   "execution_count": 23,
   "metadata": {},
   "outputs": [],
   "source": [
    "def percentage_error(true_value, noisy_value):\n",
    "    return (true_value - noisy_value)/true_value * 100"
   ]
  },
  {
   "cell_type": "code",
   "execution_count": 24,
   "metadata": {},
   "outputs": [
    {
     "data": {
      "text/plain": [
       "96.35989431741909"
      ]
     },
     "execution_count": 24,
     "metadata": {},
     "output_type": "execute_result"
    }
   ],
   "source": [
    "# percentage_error(true_value=impressions.sum(), noisy_value=result_of_our_hard_labour)"
   ]
  },
  {
   "cell_type": "code",
   "execution_count": 13,
   "metadata": {},
   "outputs": [
    {
     "data": {
      "text/plain": [
       "-86.22904239642598"
      ]
     },
     "execution_count": 13,
     "metadata": {},
     "output_type": "execute_result"
    }
   ],
   "source": [
    "# (1644527104 - 11941995258)/11941995258 * 100"
   ]
  },
  {
   "cell_type": "code",
   "execution_count": 14,
   "metadata": {},
   "outputs": [
    {
     "data": {
      "text/plain": [
       "11941.995258"
      ]
     },
     "execution_count": 14,
     "metadata": {},
     "output_type": "execute_result"
    }
   ],
   "source": [
    "# 11941995258 /1e6"
   ]
  },
  {
   "cell_type": "code",
   "execution_count": 31,
   "metadata": {},
   "outputs": [],
   "source": [
    "def calculate_bounds_for_mechanism(\n",
    "     min_val_array, max_val_array\n",
    "):\n",
    "    \"\"\"Calculates the squared L2 norm values needed to create a Mechanism, and calculate\n",
    "    privacy budget + spend. If you calculate the privacy budget spend with the worst\n",
    "    case bound, you can show this number to the DS. If you calculate it with the\n",
    "    regular value (the value computed below when public_only = False, you cannot show\n",
    "    the privacy budget to the DS because this violates privacy.\"\"\"\n",
    "    l2_norm_min = np.sqrt(np.sum(np.square(min_val_array)))\n",
    "    l2_norm_max = np.sqrt(np.sum(np.square(max_val_array)))\n",
    "    return l2_norm_min, l2_norm_max"
   ]
  },
  {
   "cell_type": "code",
   "execution_count": 32,
   "metadata": {},
   "outputs": [],
   "source": [
    "def _get_batch_rdp_constants(\n",
    "    sigma, scale, min_val, max_val,  L=1\n",
    ") -> np.ndarray:\n",
    "    min_val = min_val/scale\n",
    "    max_val = max_val/scale\n",
    "    # print(min_val, max_val)\n",
    "    l2_norm_min, l2_norm_max = calculate_bounds_for_mechanism(min_val, max_val)\n",
    "    \n",
    "    # use the indices to get a \"batch\" of the full ledger. this is the only part\n",
    "    # of the ledger we care about (the entries corresponding to specific entities)\n",
    "    squared_Ls = L**2\n",
    "    squared_sigma = sigma**2\n",
    "    squared_L2_norms_min = l2_norm_min**2\n",
    "    squared_L2_norms_max = l2_norm_max**2\n",
    "    \n",
    "    constant_min = (\n",
    "        squared_Ls * squared_L2_norms_min / (2 * squared_sigma)\n",
    "    )\n",
    "    constant_max = (\n",
    "        squared_Ls * squared_L2_norms_max / (2 * squared_sigma)\n",
    "    )\n",
    "    \n",
    "#     constant = np.bincount(batch_entity_ids, weights=constant).take(\n",
    "#         entity_ids_query\n",
    "#     )\n",
    "    # # update our serialized format with the calculated constants\n",
    "    # self._rdp_constants = np.concatenate([self._rdp_constants, constant])\n",
    "    # self._entity_ids_query = np.concatenate(\n",
    "    #     [self._entity_ids_query, entity_ids_query]\n",
    "    # )\n",
    "    return constant_min, constant_max"
   ]
  },
  {
   "cell_type": "code",
   "execution_count": 48,
   "metadata": {
    "tags": []
   },
   "outputs": [
    {
     "data": {
      "text/plain": [
       "(24.5, 20000.0)"
      ]
     },
     "execution_count": 48,
     "metadata": {},
     "output_type": "execute_result"
    }
   ],
   "source": [
    "#_get_batch_rdp_constants(sigma=100, scale=1000, min_val=700_000, max_val=20e6)"
   ]
  },
  {
   "cell_type": "code",
   "execution_count": null,
   "metadata": {},
   "outputs": [],
   "source": []
  }
 ],
 "metadata": {
  "interpreter": {
   "hash": "630449982b6186a6531308cd76ed4d510e9db65154e43844c2906c6a20ad2a6d"
  },
  "kernelspec": {
   "display_name": "Python 3 (ipykernel)",
   "language": "python",
   "name": "python3"
  },
  "language_info": {
   "codemirror_mode": {
    "name": "ipython",
    "version": 3
   },
   "file_extension": ".py",
   "mimetype": "text/x-python",
   "name": "python",
   "nbconvert_exporter": "python",
   "pygments_lexer": "ipython3",
   "version": "3.9.7"
  }
 },
 "nbformat": 4,
 "nbformat_minor": 4
}
