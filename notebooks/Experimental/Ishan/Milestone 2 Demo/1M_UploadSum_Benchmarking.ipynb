{
 "cells": [
  {
   "cell_type": "code",
   "execution_count": 1,
   "metadata": {},
   "outputs": [
    {
     "name": "stdout",
     "output_type": "stream",
     "text": [
      "Loaded constant2epsilon cache of size: (300000,)\n"
     ]
    }
   ],
   "source": [
    "import syft as sy\n",
    "import numpy as np\n",
    "import pandas as pd\n",
    "from syft.core.adp.entity_list import EntityList\n",
    "from time import time, sleep"
   ]
  },
  {
   "cell_type": "code",
   "execution_count": 2,
   "metadata": {},
   "outputs": [
    {
     "name": "stdout",
     "output_type": "stream",
     "text": [
      "Time taken to read file with 1.0 million rows : 0.22391700744628906 seconds\n"
     ]
    }
   ],
   "source": [
    "t0 = time()\n",
    "# df = pd.read_parquet(\"/home/ruchi/1B_rows_dataset_sample.parquet\")\n",
    "df = pd.read_parquet(\"1M_rows_dataset_sample.parquet\")\n",
    "tf = time() - t0\n",
    "\n",
    "print(f\"Time taken to read file with {df.shape[0]/1e6} million rows : {tf} seconds\")"
   ]
  },
  {
   "cell_type": "code",
   "execution_count": 3,
   "metadata": {},
   "outputs": [
    {
     "data": {
      "text/html": [
       "<div>\n",
       "<style scoped>\n",
       "    .dataframe tbody tr th:only-of-type {\n",
       "        vertical-align: middle;\n",
       "    }\n",
       "\n",
       "    .dataframe tbody tr th {\n",
       "        vertical-align: top;\n",
       "    }\n",
       "\n",
       "    .dataframe thead th {\n",
       "        text-align: right;\n",
       "    }\n",
       "</style>\n",
       "<table border=\"1\" class=\"dataframe\">\n",
       "  <thead>\n",
       "    <tr style=\"text-align: right;\">\n",
       "      <th></th>\n",
       "      <th>tweet_id</th>\n",
       "      <th>impressions</th>\n",
       "      <th>tweet_date_time</th>\n",
       "      <th>date</th>\n",
       "      <th>time</th>\n",
       "      <th>user_id</th>\n",
       "      <th>url</th>\n",
       "      <th>publication_title</th>\n",
       "      <th>ad_fontes_bias</th>\n",
       "      <th>ad_fontes_reliability</th>\n",
       "      <th>domain</th>\n",
       "    </tr>\n",
       "  </thead>\n",
       "  <tbody>\n",
       "    <tr>\n",
       "      <th>0</th>\n",
       "      <td>1</td>\n",
       "      <td>9029</td>\n",
       "      <td>2021-03-21 06:29:10</td>\n",
       "      <td>2021-03-21</td>\n",
       "      <td>06:29:10</td>\n",
       "      <td>92256</td>\n",
       "      <td>https://www.aljazeera.com/news/2019/04/trump-v...</td>\n",
       "      <td>Al Jazeera</td>\n",
       "      <td>-0.75</td>\n",
       "      <td>48.0</td>\n",
       "      <td>.aljazeera.com</td>\n",
       "    </tr>\n",
       "    <tr>\n",
       "      <th>1</th>\n",
       "      <td>1</td>\n",
       "      <td>9029</td>\n",
       "      <td>2021-03-21 06:29:10</td>\n",
       "      <td>2021-03-21</td>\n",
       "      <td>06:29:10</td>\n",
       "      <td>418264</td>\n",
       "      <td>https://www.aljazeera.com/news/2019/04/trump-v...</td>\n",
       "      <td>Al Jazeera</td>\n",
       "      <td>-0.75</td>\n",
       "      <td>48.0</td>\n",
       "      <td>.aljazeera.com</td>\n",
       "    </tr>\n",
       "    <tr>\n",
       "      <th>2</th>\n",
       "      <td>1</td>\n",
       "      <td>9029</td>\n",
       "      <td>2021-03-21 06:29:10</td>\n",
       "      <td>2021-03-21</td>\n",
       "      <td>06:29:10</td>\n",
       "      <td>195053</td>\n",
       "      <td>https://www.aljazeera.com/news/2019/04/trump-v...</td>\n",
       "      <td>Al Jazeera</td>\n",
       "      <td>-0.75</td>\n",
       "      <td>48.0</td>\n",
       "      <td>.aljazeera.com</td>\n",
       "    </tr>\n",
       "    <tr>\n",
       "      <th>3</th>\n",
       "      <td>1</td>\n",
       "      <td>9029</td>\n",
       "      <td>2021-03-21 06:29:10</td>\n",
       "      <td>2021-03-21</td>\n",
       "      <td>06:29:10</td>\n",
       "      <td>590420</td>\n",
       "      <td>https://www.aljazeera.com/news/2019/04/trump-v...</td>\n",
       "      <td>Al Jazeera</td>\n",
       "      <td>-0.75</td>\n",
       "      <td>48.0</td>\n",
       "      <td>.aljazeera.com</td>\n",
       "    </tr>\n",
       "    <tr>\n",
       "      <th>4</th>\n",
       "      <td>1</td>\n",
       "      <td>9029</td>\n",
       "      <td>2021-03-21 06:29:10</td>\n",
       "      <td>2021-03-21</td>\n",
       "      <td>06:29:10</td>\n",
       "      <td>602475</td>\n",
       "      <td>https://www.aljazeera.com/news/2019/04/trump-v...</td>\n",
       "      <td>Al Jazeera</td>\n",
       "      <td>-0.75</td>\n",
       "      <td>48.0</td>\n",
       "      <td>.aljazeera.com</td>\n",
       "    </tr>\n",
       "  </tbody>\n",
       "</table>\n",
       "</div>"
      ],
      "text/plain": [
       "   tweet_id  impressions     tweet_date_time        date      time  user_id  \\\n",
       "0         1         9029 2021-03-21 06:29:10  2021-03-21  06:29:10    92256   \n",
       "1         1         9029 2021-03-21 06:29:10  2021-03-21  06:29:10   418264   \n",
       "2         1         9029 2021-03-21 06:29:10  2021-03-21  06:29:10   195053   \n",
       "3         1         9029 2021-03-21 06:29:10  2021-03-21  06:29:10   590420   \n",
       "4         1         9029 2021-03-21 06:29:10  2021-03-21  06:29:10   602475   \n",
       "\n",
       "                                                 url publication_title  \\\n",
       "0  https://www.aljazeera.com/news/2019/04/trump-v...        Al Jazeera   \n",
       "1  https://www.aljazeera.com/news/2019/04/trump-v...        Al Jazeera   \n",
       "2  https://www.aljazeera.com/news/2019/04/trump-v...        Al Jazeera   \n",
       "3  https://www.aljazeera.com/news/2019/04/trump-v...        Al Jazeera   \n",
       "4  https://www.aljazeera.com/news/2019/04/trump-v...        Al Jazeera   \n",
       "\n",
       "   ad_fontes_bias  ad_fontes_reliability          domain  \n",
       "0           -0.75                   48.0  .aljazeera.com  \n",
       "1           -0.75                   48.0  .aljazeera.com  \n",
       "2           -0.75                   48.0  .aljazeera.com  \n",
       "3           -0.75                   48.0  .aljazeera.com  \n",
       "4           -0.75                   48.0  .aljazeera.com  "
      ]
     },
     "execution_count": 3,
     "metadata": {},
     "output_type": "execute_result"
    }
   ],
   "source": [
    "df.head()"
   ]
  },
  {
   "cell_type": "code",
   "execution_count": 4,
   "metadata": {},
   "outputs": [
    {
     "data": {
      "text/plain": [
       "0         9029\n",
       "1         9029\n",
       "2         9029\n",
       "3         9029\n",
       "4         9029\n",
       "          ... \n",
       "999995    9709\n",
       "999996    9709\n",
       "999997    9709\n",
       "999998    9709\n",
       "999999    9709\n",
       "Name: impressions, Length: 1000000, dtype: int64"
      ]
     },
     "execution_count": 4,
     "metadata": {},
     "output_type": "execute_result"
    }
   ],
   "source": [
    "df['impressions']"
   ]
  },
  {
   "cell_type": "code",
   "execution_count": 5,
   "metadata": {},
   "outputs": [
    {
     "ename": "AttributeError",
     "evalue": "'numpy.ndarray' object has no attribute 'to_numpy'",
     "output_type": "error",
     "traceback": [
      "\u001b[0;31m---------------------------------------------------------------------------\u001b[0m",
      "\u001b[0;31mAttributeError\u001b[0m                            Traceback (most recent call last)",
      "Input \u001b[0;32mIn [5]\u001b[0m, in \u001b[0;36m<cell line: 5>\u001b[0;34m()\u001b[0m\n\u001b[1;32m      3\u001b[0m t0 \u001b[38;5;241m=\u001b[39m time()\n\u001b[1;32m      4\u001b[0m impressions \u001b[38;5;241m=\u001b[39m df[\u001b[38;5;124m'\u001b[39m\u001b[38;5;124mimpressions\u001b[39m\u001b[38;5;124m'\u001b[39m]\u001b[38;5;241m.\u001b[39mto_numpy(np\u001b[38;5;241m.\u001b[39mint64) \u001b[38;5;241m/\u001b[39m\u001b[38;5;241m/\u001b[39m scale\n\u001b[0;32m----> 5\u001b[0m data_subjects \u001b[38;5;241m=\u001b[39m \u001b[43mEntityList\u001b[49m\u001b[38;5;241;43m.\u001b[39;49m\u001b[43mfrom_series\u001b[49m\u001b[43m(\u001b[49m\u001b[43mdf\u001b[49m\u001b[43m[\u001b[49m\u001b[38;5;124;43m'\u001b[39;49m\u001b[38;5;124;43muser_id\u001b[39;49m\u001b[38;5;124;43m'\u001b[39;49m\u001b[43m]\u001b[49m\u001b[43m)\u001b[49m\n\u001b[1;32m      6\u001b[0m tf \u001b[38;5;241m=\u001b[39m time() \u001b[38;5;241m-\u001b[39m t0\n\u001b[1;32m      8\u001b[0m \u001b[38;5;28mprint\u001b[39m(\u001b[38;5;124mf\u001b[39m\u001b[38;5;124m\"\u001b[39m\u001b[38;5;124mTime taken to create inputs for Syft Tensor: \u001b[39m\u001b[38;5;132;01m{\u001b[39;00mtf\u001b[38;5;132;01m}\u001b[39;00m\u001b[38;5;124m seconds\u001b[39m\u001b[38;5;124m\"\u001b[39m)\n",
      "File \u001b[0;32m~/PySyft/packages/syft/src/syft/core/adp/entity_list.py:82\u001b[0m, in \u001b[0;36mEntityList.from_series\u001b[0;34m(entities_dataframe_slice)\u001b[0m\n\u001b[1;32m     79\u001b[0m data_subjects \u001b[38;5;241m=\u001b[39m entities_dataframe_slice\u001b[38;5;241m.\u001b[39mto_numpy()\n\u001b[1;32m     81\u001b[0m \u001b[38;5;66;03m# This will be the equivalent of the EntityList.one_hot_indexed- a sorted array of all unique entities\u001b[39;00m\n\u001b[0;32m---> 82\u001b[0m unique_data_subjects \u001b[38;5;241m=\u001b[39m np\u001b[38;5;241m.\u001b[39msort(\u001b[43mentities_dataframe_slice\u001b[49m\u001b[38;5;241;43m.\u001b[39;49m\u001b[43munique\u001b[49m\u001b[43m(\u001b[49m\u001b[43m)\u001b[49m\u001b[38;5;241;43m.\u001b[39;49m\u001b[43mto_numpy\u001b[49m())\n\u001b[1;32m     84\u001b[0m \u001b[38;5;28;01mreturn\u001b[39;00m EntityList(\n\u001b[1;32m     85\u001b[0m     one_hot_lookup\u001b[38;5;241m=\u001b[39munique_data_subjects, entities_indexed\u001b[38;5;241m=\u001b[39mdata_subjects\n\u001b[1;32m     86\u001b[0m )\n",
      "\u001b[0;31mAttributeError\u001b[0m: 'numpy.ndarray' object has no attribute 'to_numpy'"
     ]
    }
   ],
   "source": [
    "scale = 1 #10_000  # This is put here to stop int32 overflow errors\n",
    "\n",
    "t0 = time()\n",
    "impressions = df['impressions'].to_numpy(np.int64) // scale\n",
    "data_subjects = EntityList.from_series(df['user_id'])\n",
    "tf = time() - t0\n",
    "\n",
    "print(f\"Time taken to create inputs for Syft Tensor: {tf} seconds\")"
   ]
  },
  {
   "cell_type": "code",
   "execution_count": null,
   "metadata": {},
   "outputs": [],
   "source": [
    "df['impressions'].min()"
   ]
  },
  {
   "cell_type": "code",
   "execution_count": null,
   "metadata": {},
   "outputs": [],
   "source": [
    "f = lambda sigma: np.square(726)/(2*(sigma**2))"
   ]
  },
  {
   "cell_type": "code",
   "execution_count": null,
   "metadata": {},
   "outputs": [],
   "source": [
    "f(1e5)"
   ]
  },
  {
   "cell_type": "code",
   "execution_count": null,
   "metadata": {},
   "outputs": [],
   "source": [
    "t0 = time()\n",
    "# tweets_data = sy.Tensor(impressions).private(min_val=750_000/scale, max_val=20e6/scale, entities = data_subjects,ndept=True)  # RUn this for 1 billion rows\n",
    "tweets_data = sy.Tensor(impressions).private(min_val=500/scale, max_val=25000/scale, entities = data_subjects,ndept=True)  # Run this for 1 million rows\n",
    "tf = time() - t0\n",
    "\n",
    "print(f\"Time make Private Syft Tensor: {tf} seconds\")"
   ]
  },
  {
   "cell_type": "code",
   "execution_count": null,
   "metadata": {},
   "outputs": [],
   "source": [
    "domain_node = sy.login(email=\"info@openmined.org\",password=\"changethis\",port=8081)"
   ]
  },
  {
   "cell_type": "code",
   "execution_count": null,
   "metadata": {},
   "outputs": [],
   "source": [
    "%%time\n",
    "name = f\"Tweets data- {time()}\"\n",
    "\n",
    "domain_node.load_dataset(\n",
    "    assets={name: tweets_data},\n",
    "    name=name,\n",
    "    description=\" Tweets- 1B rows\",\n",
    "    use_blob_storage=True\n",
    ")"
   ]
  },
  {
   "cell_type": "code",
   "execution_count": null,
   "metadata": {},
   "outputs": [],
   "source": [
    "domain_node.datasets"
   ]
  },
  {
   "cell_type": "code",
   "execution_count": null,
   "metadata": {},
   "outputs": [],
   "source": [
    "data = domain_node.datasets[-1][name]"
   ]
  },
  {
   "cell_type": "code",
   "execution_count": null,
   "metadata": {},
   "outputs": [],
   "source": [
    "%%time\n",
    "sum_result = data.sum()\n",
    "sum_result.block"
   ]
  },
  {
   "cell_type": "code",
   "execution_count": null,
   "metadata": {},
   "outputs": [],
   "source": [
    "sum_result.exists"
   ]
  },
  {
   "cell_type": "code",
   "execution_count": null,
   "metadata": {},
   "outputs": [],
   "source": [
    "published_result = sum_result.publish(sigma=1e5)"
   ]
  },
  {
   "cell_type": "markdown",
   "metadata": {},
   "source": [
    "Sigma, PB_spend\n",
    "- 100, 859.4086891067999\n",
    "- 1e4, 7.766216625311721\n",
    "- 1e5, 7.766216625311721\n",
    "- 2e5, 7.766216625311721\n",
    "- 5e5, 7.766216625311721\n",
    "- 1e7, 7.766216625311721\n",
    "- 1e9, 7.766216625311721\n",
    "\n",
    "Is PB not being calculated correctly?"
   ]
  },
  {
   "cell_type": "code",
   "execution_count": null,
   "metadata": {},
   "outputs": [],
   "source": [
    "while not published_result.exists:\n",
    "    sleep(1)"
   ]
  },
  {
   "cell_type": "code",
   "execution_count": null,
   "metadata": {},
   "outputs": [],
   "source": [
    "published_result"
   ]
  },
  {
   "cell_type": "code",
   "execution_count": null,
   "metadata": {},
   "outputs": [],
   "source": [
    "published_result.request()"
   ]
  },
  {
   "cell_type": "code",
   "execution_count": null,
   "metadata": {},
   "outputs": [],
   "source": [
    "domain_node.requests"
   ]
  },
  {
   "cell_type": "code",
   "execution_count": null,
   "metadata": {},
   "outputs": [],
   "source": [
    "domain_node.requests[-1].accept()"
   ]
  },
  {
   "cell_type": "code",
   "execution_count": null,
   "metadata": {},
   "outputs": [],
   "source": [
    "domain_node.requests"
   ]
  },
  {
   "cell_type": "code",
   "execution_count": null,
   "metadata": {},
   "outputs": [],
   "source": [
    "result_of_our_hard_labour = published_result.get()"
   ]
  },
  {
   "cell_type": "code",
   "execution_count": null,
   "metadata": {},
   "outputs": [],
   "source": [
    "result_of_our_hard_labour"
   ]
  },
  {
   "cell_type": "code",
   "execution_count": null,
   "metadata": {},
   "outputs": [],
   "source": [
    "impressions.sum()"
   ]
  },
  {
   "cell_type": "code",
   "execution_count": null,
   "metadata": {},
   "outputs": [],
   "source": [
    "def percentage_error(true_value, noisy_value):\n",
    "    return (true_value - noisy_value)/true_value * 100"
   ]
  },
  {
   "cell_type": "code",
   "execution_count": null,
   "metadata": {},
   "outputs": [],
   "source": [
    "percentage_error(true_value=impressions.sum(), noisy_value=result_of_our_hard_labour)"
   ]
  },
  {
   "cell_type": "code",
   "execution_count": null,
   "metadata": {},
   "outputs": [],
   "source": [
    "(1644527104 - 11941995258)/11941995258 * 100"
   ]
  },
  {
   "cell_type": "code",
   "execution_count": null,
   "metadata": {},
   "outputs": [],
   "source": [
    "11941995258 /1e6"
   ]
  },
  {
   "cell_type": "code",
   "execution_count": null,
   "metadata": {},
   "outputs": [],
   "source": [
    "domain_node.privacy_budget"
   ]
  },
  {
   "cell_type": "code",
   "execution_count": null,
   "metadata": {},
   "outputs": [],
   "source": []
  }
 ],
 "metadata": {
  "interpreter": {
   "hash": "630449982b6186a6531308cd76ed4d510e9db65154e43844c2906c6a20ad2a6d"
  },
  "kernelspec": {
   "display_name": "Python 3 (ipykernel)",
   "language": "python",
   "name": "python3"
  },
  "language_info": {
   "codemirror_mode": {
    "name": "ipython",
    "version": 3
   },
   "file_extension": ".py",
   "mimetype": "text/x-python",
   "name": "python",
   "nbconvert_exporter": "python",
   "pygments_lexer": "ipython3",
   "version": "3.9.7"
  }
 },
 "nbformat": 4,
 "nbformat_minor": 4
}
