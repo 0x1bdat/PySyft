{
 "cells": [
  {
   "cell_type": "code",
   "execution_count": 1,
   "id": "2e73b577-5eee-4a9c-b28f-46aa2b06ee81",
   "metadata": {},
   "outputs": [],
   "source": [
    "import syft as sy\n",
    "import torch\n",
    "\n",
    "import numpy as np\n",
    "from syft.core.adp.entity import Entity\n",
    "\n",
    "assert(\"Tensor\" in dir(sy)), \"Tensor isn't there\""
   ]
  },
  {
   "cell_type": "code",
   "execution_count": 2,
   "id": "87f773a4-8372-484c-a5e9-dd9240b8bc6a",
   "metadata": {
    "tags": []
   },
   "outputs": [],
   "source": [
    "# Load some sample data\n",
    "data_batch = np.random.rand(1, 3)\n",
    "label_batch = np.random.rand(1, 3)\n",
    "\n",
    "ishan = Entity(name=\"Ishan\")\n",
    "\n",
    "# Step 1: upload a private dataset as the root owner\n",
    "data = sy.Tensor(data_batch).private(0, 120, entity=ishan).autograd(requires_grad=True).tag(\"data\")\n",
    "target = sy.Tensor(label_batch)#.private(0.01, 1, entity=ishan).autograd(requires_grad=True).tag(\"target\")\n",
    "\n",
    "assert(type(data) == type(target)), \"Data wasn't initialized correctly\""
   ]
  },
  {
   "cell_type": "code",
   "execution_count": 3,
   "id": "1d72f16a-9805-4cd9-8e35-a84037857833",
   "metadata": {},
   "outputs": [],
   "source": [
    "# Test serialization\n",
    "ser = sy.serialize(data)"
   ]
  },
  {
   "cell_type": "code",
   "execution_count": 4,
   "id": "f3105db3-f7b0-4230-b8a6-b99731fbc0df",
   "metadata": {},
   "outputs": [
    {
     "data": {
      "text/plain": [
       "obj_type: \"syft.core.tensor.tensor.Tensor\"\n",
       "data: \"\\n\\024syft.lib.python.Dict\\022\\270\\031\\n5\\n\\026syft.lib.python.String\\022\\033\\n\\005child\\022\\022\\n\\020\\345\\026D\\327\\036?JK\\261)\\206\\212\\t\\203\\352\\364\\n8\\n\\026syft.lib.python.String\\022\\036\\n\\010tag_name\\022\\022\\n\\020\\377\\221\\351`\\310\\353O\\272\\240\\246\\275\\214OO\\200\\010\\022\\377\\027\\n/syft.core.tensor.autograd.tensor.AutogradTensor\\022\\313\\027\\n/syft.core.tensor.autograd.tensor.AutogradTensor\\022\\227\\027\\n\\024syft.lib.python.Dict\\022\\376\\026\\n5\\n\\026syft.lib.python.String\\022\\033\\n\\005child\\022\\022\\n\\020\\201\\375LT\\265SK\\350\\266\\260W\\344\\307q\\027\\036\\n5\\n\\026syft.lib.python.String\\022\\033\\n\\005_grad\\022\\022\\n\\020\\327}\\270\\002\\300\\262O\\023\\2004\\265u\\037\\362\\377*\\n8\\n\\026syft.lib.python.String\\022\\036\\n\\010_grad_fn\\022\\022\\n\\020\\277\\306\\023\\244\\206XO\\230\\203\\232\\330\\317^DX\\316\\n3\\n\\026syft.lib.python.String\\022\\031\\n\\003ops\\022\\022\\n\\020\\334\\352\\036itEHY\\205?\\351\\316#\\312<*\\n;\\n\\026syft.lib.python.String\\022!\\n\\013backprop_id\\022\\022\\n\\020\\r_\\031\\177 uM\\251\\223\\024.\\270\\224\\241g\\223\\n;\\n\\026syft.lib.python.String\\022!\\n\\013n_backwards\\022\\022\\n\\020\\023\\252\\376w\\326\\235AE\\267\\203\\255\\276\\201C\\223[\\022\\352\\020\\n?syft.core.tensor.autodp.single_entity_phi.SingleEntityPhiTensor\\022\\246\\020\\n?syft.core.tensor.autodp.single_entity_phi.SingleEntityPhiTensor\\022\\342\\017\\n\\024syft.lib.python.Dict\\022\\311\\017\\n5\\n\\026syft.lib.python.String\\022\\033\\n\\005child\\022\\022\\n\\020r\\341\\350\\210\\260&AC\\226\\310\\2044&\\021\\305d\\n9\\n\\026syft.lib.python.String\\022\\037\\n\\t_min_vals\\022\\022\\n\\020\\005J\\336ymLO\\276\\276\\236\\242\\006\\347\\250\\2415\\n9\\n\\026syft.lib.python.String\\022\\037\\n\\t_max_vals\\022\\022\\n\\020\\307\\016\\350;\\\"\\206E\\243\\212\\266\\000Y\\322xKE\\n6\\n\\026syft.lib.python.String\\022\\034\\n\\006entity\\022\\022\\n\\020\\271I\\330\\030\\256$Nw\\226\\0249x\\350F\\203\\024\\n>\\n\\026syft.lib.python.String\\022$\\n\\016scalar_manager\\022\\022\\n\\020\\033\\255\\242\\371\\373\\360O\\213\\216\\300:\\003\\246\\275rU\\022\\302\\002\\n\\\"syft.wrappers.numpy.ndarrayWrapper\\022\\233\\002\\n\\230\\002\\377\\377\\377\\377\\370\\000\\000\\000\\024\\000\\000\\000\\000\\000\\000\\000\\014\\000\\032\\000\\006\\000\\005\\000\\010\\000\\014\\000\\014\\000\\000\\000\\000\\004\\004\\000 \\000\\000\\000\\030\\000\\000\\000\\000\\000\\000\\000\\000\\000\\000\\000\\000\\000\\016\\000(\\000\\007\\000\\010\\000\\014\\000\\020\\000\\024\\000\\016\\000\\000\\000\\000\\000\\000\\003\\214\\000\\000\\0004\\000\\000\\000\\030\\000\\000\\000\\000\\000\\000\\000\\000\\000\\000\\000\\030\\000\\000\\000\\000\\000\\000\\000\\000\\000\\000\\000\\002\\000\\000\\000\\030\\000\\000\\000\\000\\000\\000\\000\\010\\000\\000\\000\\000\\000\\000\\000\\000\\000\\000\\000\\002\\000\\000\\0000\\000\\000\\000\\014\\000\\000\\000\\010\\000\\020\\000\\010\\000\\004\\000\\010\\000\\000\\000\\014\\000\\000\\000\\003\\000\\000\\000\\000\\000\\000\\000\\000\\000\\000\\000\\000\\000\\000\\000\\010\\000\\024\\000\\010\\000\\004\\000\\010\\000\\000\\000\\020\\000\\000\\000\\001\\000\\000\\000\\000\\000\\000\\000\\000\\000\\000\\000\\000\\000\\000\\000\\000\\000\\006\\000\\010\\000\\006\\000\\006\\000\\000\\000\\000\\000\\002\\000\\000\\000\\000\\000\\000\\000\\000\\000\\000\\000\\000\\000\\000\\000\\000\\000\\000\\000\\000\\000\\000\\000\\000\\000\\000\\000\\000\\000\\000\\000\\000\\000\\220\\206\\231&\\365\\261\\355?\\220QSB#\\033\\352?X\\'#k\\346\\037\\342?\\022\\302\\002\\n\\\"syft.wrappers.numpy.ndarrayWrapper\\022\\233\\002\\n\\230\\002\\377\\377\\377\\377\\370\\000\\000\\000\\024\\000\\000\\000\\000\\000\\000\\000\\014\\000\\032\\000\\006\\000\\005\\000\\010\\000\\014\\000\\014\\000\\000\\000\\000\\004\\004\\000 \\000\\000\\000\\030\\000\\000\\000\\000\\000\\000\\000\\000\\000\\000\\000\\000\\000\\016\\000(\\000\\007\\000\\010\\000\\014\\000\\020\\000\\024\\000\\016\\000\\000\\000\\000\\000\\000\\003\\214\\000\\000\\0004\\000\\000\\000\\030\\000\\000\\000\\000\\000\\000\\000\\000\\000\\000\\000\\030\\000\\000\\000\\000\\000\\000\\000\\000\\000\\000\\000\\002\\000\\000\\000\\030\\000\\000\\000\\000\\000\\000\\000\\010\\000\\000\\000\\000\\000\\000\\000\\000\\000\\000\\000\\002\\000\\000\\0000\\000\\000\\000\\014\\000\\000\\000\\010\\000\\020\\000\\010\\000\\004\\000\\010\\000\\000\\000\\014\\000\\000\\000\\003\\000\\000\\000\\000\\000\\000\\000\\000\\000\\000\\000\\000\\000\\000\\000\\010\\000\\024\\000\\010\\000\\004\\000\\010\\000\\000\\000\\020\\000\\000\\000\\001\\000\\000\\000\\000\\000\\000\\000\\000\\000\\000\\000\\000\\000\\000\\000\\000\\000\\006\\000\\010\\000\\006\\000\\006\\000\\000\\000\\000\\000\\002\\000\\000\\000\\000\\000\\000\\000\\000\\000\\000\\000\\000\\000\\000\\000\\000\\000\\000\\000\\000\\000\\000\\000\\000\\000\\000\\000\\000\\000\\000\\000\\000\\000\\000\\000\\000\\000\\000\\000\\000\\000\\000\\000\\000\\000\\000\\000\\000\\000\\000\\000\\000\\000\\000\\000\\000\\000\\022\\302\\002\\n\\\"syft.wrappers.numpy.ndarrayWrapper\\022\\233\\002\\n\\230\\002\\377\\377\\377\\377\\370\\000\\000\\000\\024\\000\\000\\000\\000\\000\\000\\000\\014\\000\\032\\000\\006\\000\\005\\000\\010\\000\\014\\000\\014\\000\\000\\000\\000\\004\\004\\000 \\000\\000\\000\\030\\000\\000\\000\\000\\000\\000\\000\\000\\000\\000\\000\\000\\000\\016\\000(\\000\\007\\000\\010\\000\\014\\000\\020\\000\\024\\000\\016\\000\\000\\000\\000\\000\\000\\003\\214\\000\\000\\0004\\000\\000\\000\\030\\000\\000\\000\\000\\000\\000\\000\\000\\000\\000\\000\\030\\000\\000\\000\\000\\000\\000\\000\\000\\000\\000\\000\\002\\000\\000\\000\\030\\000\\000\\000\\000\\000\\000\\000\\010\\000\\000\\000\\000\\000\\000\\000\\000\\000\\000\\000\\002\\000\\000\\0000\\000\\000\\000\\014\\000\\000\\000\\010\\000\\020\\000\\010\\000\\004\\000\\010\\000\\000\\000\\014\\000\\000\\000\\003\\000\\000\\000\\000\\000\\000\\000\\000\\000\\000\\000\\000\\000\\000\\000\\010\\000\\024\\000\\010\\000\\004\\000\\010\\000\\000\\000\\020\\000\\000\\000\\001\\000\\000\\000\\000\\000\\000\\000\\000\\000\\000\\000\\000\\000\\000\\000\\000\\000\\006\\000\\010\\000\\006\\000\\006\\000\\000\\000\\000\\000\\002\\000\\000\\000\\000\\000\\000\\000\\000\\000\\000\\000\\000\\000\\000\\000\\000\\000\\000\\000\\000\\000\\000\\000\\000\\000\\000\\000\\000\\000\\000\\000\\000\\000\\000\\000\\000\\000\\000\\000^@\\000\\000\\000\\000\\000\\000^@\\000\\000\\000\\000\\000\\000^@\\022:\\n\\033syft.core.adp.entity.Entity\\022\\033\\n\\005Ishan\\022\\022\\n\\020C%%{\\000@O\\300\\274zE\\224\\355\\243\\272E\\022\\202\\005\\nJsyft.core.adp.vm_private_scalar_manager.VirtualMachinePrivateScalarManager\\022\\263\\004\\nJsyft.core.adp.vm_private_scalar_manager.VirtualMachinePrivateScalarManager\\022\\344\\003\\n\\024syft.lib.python.Dict\\022\\313\\003\\n=\\n\\026syft.lib.python.String\\022#\\n\\rprime_factory\\022\\022\\n\\020f,\\336t*\\213O\\264\\264\\224\\314\\326\\327F$\\374\\n<\\n\\026syft.lib.python.String\\022\\\"\\n\\014prime2symbol\\022\\022\\n\\020\\r\\374\\360?\\020\\016A$\\243\\326^\\343\\032M\\203\\362\\022\\211\\002\\n4syft.core.adp.vm_private_scalar_manager.PrimeFactory\\022\\320\\001\\n4syft.core.adp.vm_private_scalar_manager.PrimeFactory\\022\\227\\001\\n\\024syft.lib.python.Dict\\022\\177\\n:\\n\\026syft.lib.python.String\\022 \\n\\nprev_prime\\022\\022\\n\\020p\\233k}2[MF\\222\\327\\321\\337\\366\\014~\\234\\022-\\n\\023syft.lib.python.Int\\022\\026\\010\\001\\022\\022\\n\\020pe4H\\241\\327G\\340\\261\\361\\215\\363[\\251W\\177\\032\\022\\n\\020i!\\263\\211\\336\\252Fd\\256\\252\\334\\342\\220*\\3261\\022,\\n\\024syft.lib.python.Dict\\022\\024\\032\\022\\n\\020%\\253W\\263\\333\\031L\\261\\255<\\372\\\"\\366e\\226\\254\\032\\022\\n\\020\\035\\207\\227N;mE\\017\\240\\326K\\320qK\\330h\\032\\022\\n\\020w7\\267\\302\\266\\211C\\246\\2312}\\371L\\303\\225\\000\\022~\\n%syft.core.adp.collections.DefaultDict\\022U\\n%syft.core.adp.collections.DefaultDict\\022,\\n\\024syft.lib.python.Dict\\022\\024\\032\\022\\n\\020\\250\\334\\375\\276\\375\\tEY\\214\\334\\273\\341\\354&-^\\022/\\n\\027syft.lib.python._SyNone\\022\\024\\n\\022\\n\\020S\\360\\270\\377\\354hE\\217\\202\\004\\035dC\\236V\\233\\0221\\n\\031syft.lib.python.list.List\\022\\024\\022\\022\\n\\020S!\\253\\317\\332\\322E\\263\\256\\032x\\226l\\3247\\362\\022/\\n\\027syft.lib.python._SyNone\\022\\024\\n\\022\\n\\020S\\360\\270\\377\\354hE\\217\\202\\004\\035dC\\236V\\233\\022\\216\\001\\n-syft.core.adp.collections.SerializableCounter\\022]\\n-syft.core.adp.collections.SerializableCounter\\022,\\n\\024syft.lib.python.Dict\\022\\024\\032\\022\\n\\020+\\302\\223\\2749\\360F\\361\\227$\\215\\262L\\251\\254;\\032\\022\\n\\020\\220\\363`f\\361#F\\n\\261@\\246\\373\\361\\343\\205\\244\\022/\\n\\027syft.lib.python._SyNone\\022\\024\\n\\022\\n\\020S\\360\\270\\377\\354hE\\217\\202\\004\\035dC\\236V\\233\\032\\022\\n\\020\\312\\013\\264\\276\\365\\313M$\\241\\353\\201\\327\\371\\'&\\225\""
      ]
     },
     "execution_count": 4,
     "metadata": {},
     "output_type": "execute_result"
    }
   ],
   "source": [
    "ser"
   ]
  },
  {
   "cell_type": "code",
   "execution_count": 6,
   "id": "50b917c4-6f0a-4673-b742-046a03ee7547",
   "metadata": {},
   "outputs": [
    {
     "name": "stdout",
     "output_type": "stream",
     "text": [
      "Connecting to http://localhost:8081... done! \t Logging into adp... done!\n"
     ]
    }
   ],
   "source": [
    "# Login to new Domain \n",
    "uk = sy.login(email=\"info@openmined.org\", password=\"changethis\", port=8081)"
   ]
  },
  {
   "cell_type": "code",
   "execution_count": 12,
   "id": "5141393d-ae66-4c44-b4cb-f9fad9585813",
   "metadata": {},
   "outputs": [],
   "source": [
    "ptr = data.send(uk)"
   ]
  },
  {
   "cell_type": "code",
   "execution_count": 15,
   "id": "5afe1662-ff3c-4468-b97e-da4d3b79f8e2",
   "metadata": {},
   "outputs": [
    {
     "data": {
      "text/html": [
       "<div>\n",
       "<style scoped>\n",
       "    .dataframe tbody tr th:only-of-type {\n",
       "        vertical-align: middle;\n",
       "    }\n",
       "\n",
       "    .dataframe tbody tr th {\n",
       "        vertical-align: top;\n",
       "    }\n",
       "\n",
       "    .dataframe thead th {\n",
       "        text-align: right;\n",
       "    }\n",
       "</style>\n",
       "<table border=\"1\" class=\"dataframe\">\n",
       "  <thead>\n",
       "    <tr style=\"text-align: right;\">\n",
       "      <th></th>\n",
       "    </tr>\n",
       "  </thead>\n",
       "  <tbody>\n",
       "  </tbody>\n",
       "</table>\n",
       "</div>"
      ],
      "text/plain": [
       "[]"
      ]
     },
     "execution_count": 15,
     "metadata": {},
     "output_type": "execute_result"
    }
   ],
   "source": [
    "uk.store"
   ]
  },
  {
   "cell_type": "code",
   "execution_count": 16,
   "id": "8b6082de-ce22-4f27-822a-c024fca29f9b",
   "metadata": {},
   "outputs": [
    {
     "data": {
      "text/plain": [
       "syft.core.node.common.client.StoreClient"
      ]
     },
     "execution_count": 16,
     "metadata": {},
     "output_type": "execute_result"
    }
   ],
   "source": [
    "type(uk.store)"
   ]
  },
  {
   "cell_type": "code",
   "execution_count": 8,
   "id": "80ce2b55-da70-4708-96db-928e417511c6",
   "metadata": {},
   "outputs": [
    {
     "data": {
      "text/plain": [
       "Counter({1: 1, 2: 1, 3: 1, 4: 1, 5: 1, 6: 1})"
      ]
     },
     "execution_count": 8,
     "metadata": {},
     "output_type": "execute_result"
    }
   ],
   "source": [
    "from collections import Counter\n",
    "l = [1,2,3,4,5,6]\n",
    "a = Counter(l)\n",
    "a"
   ]
  },
  {
   "cell_type": "code",
   "execution_count": 5,
   "id": "e639764c-aa9e-4f27-9ed3-313a42e4d5c0",
   "metadata": {},
   "outputs": [
    {
     "data": {
      "text/html": [
       "<div>\n",
       "<style scoped>\n",
       "    .dataframe tbody tr th:only-of-type {\n",
       "        vertical-align: middle;\n",
       "    }\n",
       "\n",
       "    .dataframe tbody tr th {\n",
       "        vertical-align: top;\n",
       "    }\n",
       "\n",
       "    .dataframe thead th {\n",
       "        text-align: right;\n",
       "    }\n",
       "</style>\n",
       "<table border=\"1\" class=\"dataframe\">\n",
       "  <thead>\n",
       "    <tr style=\"text-align: right;\">\n",
       "      <th></th>\n",
       "    </tr>\n",
       "  </thead>\n",
       "  <tbody>\n",
       "  </tbody>\n",
       "</table>\n",
       "</div>"
      ],
      "text/plain": [
       "Empty DataFrame\n",
       "Columns: []\n",
       "Index: []"
      ]
     },
     "execution_count": 5,
     "metadata": {},
     "output_type": "execute_result"
    }
   ],
   "source": [
    "# sy.serialize(data)\n",
    "uk.requests.pandas"
   ]
  },
  {
   "cell_type": "code",
   "execution_count": 6,
   "id": "cf0ca05b-128d-4682-993b-db8ad7bfaa1b",
   "metadata": {},
   "outputs": [],
   "source": [
    "# Step 2: Send data\n",
    "ptr = data.send(uk)"
   ]
  },
  {
   "cell_type": "code",
   "execution_count": 7,
   "id": "7dea285d-0a9d-4084-82e3-0c070b563fa8",
   "metadata": {},
   "outputs": [],
   "source": [
    "y = ptr + ptr"
   ]
  },
  {
   "cell_type": "code",
   "execution_count": 8,
   "id": "939682dc-b644-4da4-925b-0dd44e7c45f5",
   "metadata": {},
   "outputs": [
    {
     "name": "stderr",
     "output_type": "stream",
     "text": [
      "[2021-08-05T11:15:08.444913-0400][CRITICAL][logger]][96903] UnknownPrivateException has been triggered.\n"
     ]
    },
    {
     "ename": "UnknownPrivateException",
     "evalue": "UnknownPrivateException has been triggered.",
     "output_type": "error",
     "traceback": [
      "\u001b[0;31m---------------------------------------------------------------------------\u001b[0m",
      "\u001b[0;31mUnknownPrivateException\u001b[0m                   Traceback (most recent call last)",
      "\u001b[0;32m/var/folders/cs/tql716257t32sb3kr5r9rbkc0000gn/T/ipykernel_96903/4050748119.py\u001b[0m in \u001b[0;36m<module>\u001b[0;34m\u001b[0m\n\u001b[0;32m----> 1\u001b[0;31m \u001b[0my\u001b[0m\u001b[0;34m.\u001b[0m\u001b[0mget\u001b[0m\u001b[0;34m(\u001b[0m\u001b[0;34m)\u001b[0m\u001b[0;34m\u001b[0m\u001b[0;34m\u001b[0m\u001b[0m\n\u001b[0m",
      "\u001b[0;32m~/PycharmProjects/PySyft/packages/syft/src/syft/core/pointer/pointer.py\u001b[0m in \u001b[0;36mget\u001b[0;34m(self, request_block, timeout_secs, reason, delete_obj, verbose)\u001b[0m\n\u001b[1;32m    273\u001b[0m \u001b[0;34m\u001b[0m\u001b[0m\n\u001b[1;32m    274\u001b[0m         \u001b[0;32mif\u001b[0m \u001b[0;32mnot\u001b[0m \u001b[0mrequest_block\u001b[0m\u001b[0;34m:\u001b[0m\u001b[0;34m\u001b[0m\u001b[0;34m\u001b[0m\u001b[0m\n\u001b[0;32m--> 275\u001b[0;31m             \u001b[0mresult\u001b[0m \u001b[0;34m=\u001b[0m \u001b[0mself\u001b[0m\u001b[0;34m.\u001b[0m\u001b[0m_get\u001b[0m\u001b[0;34m(\u001b[0m\u001b[0mdelete_obj\u001b[0m\u001b[0;34m=\u001b[0m\u001b[0mdelete_obj\u001b[0m\u001b[0;34m,\u001b[0m \u001b[0mverbose\u001b[0m\u001b[0;34m=\u001b[0m\u001b[0mverbose\u001b[0m\u001b[0;34m)\u001b[0m\u001b[0;34m\u001b[0m\u001b[0;34m\u001b[0m\u001b[0m\n\u001b[0m\u001b[1;32m    276\u001b[0m         \u001b[0;32melse\u001b[0m\u001b[0;34m:\u001b[0m\u001b[0;34m\u001b[0m\u001b[0;34m\u001b[0m\u001b[0m\n\u001b[1;32m    277\u001b[0m             response_status = self.request(\n",
      "\u001b[0;32m~/PycharmProjects/PySyft/packages/syft/src/syft/core/pointer/pointer.py\u001b[0m in \u001b[0;36m_get\u001b[0;34m(self, delete_obj, verbose)\u001b[0m\n\u001b[1;32m    177\u001b[0m         )\n\u001b[1;32m    178\u001b[0m \u001b[0;34m\u001b[0m\u001b[0m\n\u001b[0;32m--> 179\u001b[0;31m         \u001b[0mobj\u001b[0m \u001b[0;34m=\u001b[0m \u001b[0mself\u001b[0m\u001b[0;34m.\u001b[0m\u001b[0mclient\u001b[0m\u001b[0;34m.\u001b[0m\u001b[0msend_immediate_msg_with_reply\u001b[0m\u001b[0;34m(\u001b[0m\u001b[0mmsg\u001b[0m\u001b[0;34m=\u001b[0m\u001b[0mobj_msg\u001b[0m\u001b[0;34m)\u001b[0m\u001b[0;34m.\u001b[0m\u001b[0mdata\u001b[0m\u001b[0;34m\u001b[0m\u001b[0;34m\u001b[0m\u001b[0m\n\u001b[0m\u001b[1;32m    180\u001b[0m         \u001b[0;32mif\u001b[0m \u001b[0mself\u001b[0m\u001b[0;34m.\u001b[0m\u001b[0mis_enum\u001b[0m\u001b[0;34m:\u001b[0m\u001b[0;34m\u001b[0m\u001b[0;34m\u001b[0m\u001b[0m\n\u001b[1;32m    181\u001b[0m             \u001b[0menum_class\u001b[0m \u001b[0;34m=\u001b[0m \u001b[0mself\u001b[0m\u001b[0;34m.\u001b[0m\u001b[0mclient\u001b[0m\u001b[0;34m.\u001b[0m\u001b[0mlib_ast\u001b[0m\u001b[0;34m.\u001b[0m\u001b[0mquery\u001b[0m\u001b[0;34m(\u001b[0m\u001b[0mself\u001b[0m\u001b[0;34m.\u001b[0m\u001b[0mpath_and_name\u001b[0m\u001b[0;34m)\u001b[0m\u001b[0;34m.\u001b[0m\u001b[0mobject_ref\u001b[0m\u001b[0;34m\u001b[0m\u001b[0;34m\u001b[0m\u001b[0m\n",
      "\u001b[0;32m~/PycharmProjects/PySyft/packages/syft/src/syft/core/node/common/client.py\u001b[0m in \u001b[0;36msend_immediate_msg_with_reply\u001b[0;34m(self, msg, route_index)\u001b[0m\n\u001b[1;32m    241\u001b[0m                 \u001b[0mexception\u001b[0m \u001b[0;34m=\u001b[0m \u001b[0mexception_msg\u001b[0m\u001b[0;34m.\u001b[0m\u001b[0mexception_type\u001b[0m\u001b[0;34m(\u001b[0m\u001b[0mexception_msg\u001b[0m\u001b[0;34m.\u001b[0m\u001b[0mexception_msg\u001b[0m\u001b[0;34m)\u001b[0m\u001b[0;34m\u001b[0m\u001b[0;34m\u001b[0m\u001b[0m\n\u001b[1;32m    242\u001b[0m                 \u001b[0merror\u001b[0m\u001b[0;34m(\u001b[0m\u001b[0mstr\u001b[0m\u001b[0;34m(\u001b[0m\u001b[0mexception\u001b[0m\u001b[0;34m)\u001b[0m\u001b[0;34m)\u001b[0m\u001b[0;34m\u001b[0m\u001b[0;34m\u001b[0m\u001b[0m\n\u001b[0;32m--> 243\u001b[0;31m                 \u001b[0mtraceback_and_raise\u001b[0m\u001b[0;34m(\u001b[0m\u001b[0mexception\u001b[0m\u001b[0;34m)\u001b[0m\u001b[0;34m\u001b[0m\u001b[0;34m\u001b[0m\u001b[0m\n\u001b[0m\u001b[1;32m    244\u001b[0m             \u001b[0;32melse\u001b[0m\u001b[0;34m:\u001b[0m\u001b[0;34m\u001b[0m\u001b[0;34m\u001b[0m\u001b[0m\n\u001b[1;32m    245\u001b[0m                 \u001b[0;32mreturn\u001b[0m \u001b[0mresponse\u001b[0m\u001b[0;34m.\u001b[0m\u001b[0mmessage\u001b[0m\u001b[0;34m\u001b[0m\u001b[0;34m\u001b[0m\u001b[0m\n",
      "\u001b[0;32m~/PycharmProjects/PySyft/packages/syft/src/syft/logger.py\u001b[0m in \u001b[0;36mtraceback_and_raise\u001b[0;34m(e, verbose)\u001b[0m\n\u001b[1;32m     59\u001b[0m     \u001b[0;32mif\u001b[0m \u001b[0;32mnot\u001b[0m \u001b[0missubclass\u001b[0m\u001b[0;34m(\u001b[0m\u001b[0mtype\u001b[0m\u001b[0;34m(\u001b[0m\u001b[0me\u001b[0m\u001b[0;34m)\u001b[0m\u001b[0;34m,\u001b[0m \u001b[0mException\u001b[0m\u001b[0;34m)\u001b[0m\u001b[0;34m:\u001b[0m\u001b[0;34m\u001b[0m\u001b[0;34m\u001b[0m\u001b[0m\n\u001b[1;32m     60\u001b[0m         \u001b[0me\u001b[0m \u001b[0;34m=\u001b[0m \u001b[0mException\u001b[0m\u001b[0;34m(\u001b[0m\u001b[0me\u001b[0m\u001b[0;34m)\u001b[0m\u001b[0;34m\u001b[0m\u001b[0;34m\u001b[0m\u001b[0m\n\u001b[0;32m---> 61\u001b[0;31m     \u001b[0;32mraise\u001b[0m \u001b[0me\u001b[0m\u001b[0;34m\u001b[0m\u001b[0;34m\u001b[0m\u001b[0m\n\u001b[0m\u001b[1;32m     62\u001b[0m \u001b[0;34m\u001b[0m\u001b[0m\n\u001b[1;32m     63\u001b[0m \u001b[0;34m\u001b[0m\u001b[0m\n",
      "\u001b[0;31mUnknownPrivateException\u001b[0m: UnknownPrivateException has been triggered."
     ]
    }
   ],
   "source": [
    "y.get()"
   ]
  },
  {
   "cell_type": "code",
   "execution_count": null,
   "id": "c9172731-5d87-4158-88c4-621eacd08bc5",
   "metadata": {},
   "outputs": [],
   "source": []
  },
  {
   "cell_type": "code",
   "execution_count": null,
   "id": "8e5eefdd-656f-43df-8693-40e843dcbbe1",
   "metadata": {},
   "outputs": [],
   "source": [
    "# Step 3: Verify data was logged correctly\n"
   ]
  },
  {
   "cell_type": "code",
   "execution_count": 5,
   "id": "630bf671-9cd7-4a77-a297-e7395ff2ace5",
   "metadata": {},
   "outputs": [],
   "source": [
    "## Debugging Serialization Error\n",
    "# See how far the serialization can work\n",
    "\n",
    "# PyTorch Tensor?\n",
    "th_tensor = torch.Tensor([1,2,3,4,5])\n",
    "t1 = sy.serialize(obj=th_tensor)\n",
    "\n",
    "# Syft Tensor?\n",
    "sy_tensor = sy.Tensor([1,2,3,4,5])\n",
    "s1 = sy.serialize(obj=sy_tensor)\n",
    "\n",
    "# Private Syft Tensor?\n",
    "priv_s1 = sy.serialize(obj=sy_tensor.private(0, 120, entity=ishan))\n",
    "\n",
    "# Private AutogradTensor?\n",
    "auto_s1 = sy.serialize(obj=sy.Tensor([1,2,3,4,5]).private(0, 120, entity=ishan).autograd(requires_grad=True))\n",
    "\n",
    "# Private Syft Tensor w/ tag\n",
    "auto_s1 = sy.serialize(obj=sy_tensor.private(0, 120, entity=ishan).tag('private_tagged'))"
   ]
  },
  {
   "cell_type": "code",
   "execution_count": 13,
   "id": "61f7047f-8784-438b-8d2c-c5fb3e5dbcd7",
   "metadata": {},
   "outputs": [],
   "source": []
  },
  {
   "cell_type": "code",
   "execution_count": 14,
   "id": "834d3945-ba39-485e-90e6-18c64914610f",
   "metadata": {},
   "outputs": [
    {
     "data": {
      "text/plain": [
       "dict"
      ]
     },
     "execution_count": 14,
     "metadata": {},
     "output_type": "execute_result"
    }
   ],
   "source": []
  },
  {
   "cell_type": "code",
   "execution_count": null,
   "id": "d552d44f-b4e3-447d-ade4-d114408d3372",
   "metadata": {},
   "outputs": [],
   "source": []
  }
 ],
 "metadata": {
  "kernelspec": {
   "display_name": "Python 3 (ipykernel)",
   "language": "python",
   "name": "python3"
  },
  "language_info": {
   "codemirror_mode": {
    "name": "ipython",
    "version": 3
   },
   "file_extension": ".py",
   "mimetype": "text/x-python",
   "name": "python",
   "nbconvert_exporter": "python",
   "pygments_lexer": "ipython3",
   "version": "3.9.1"
  }
 },
 "nbformat": 4,
 "nbformat_minor": 5
}
