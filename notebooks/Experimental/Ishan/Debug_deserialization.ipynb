{
 "cells": [
  {
   "cell_type": "code",
   "execution_count": 1,
   "id": "1b45ad77-ba20-4d16-b201-6d098e6b64fa",
   "metadata": {},
   "outputs": [],
   "source": [
    "import syft as sy\n",
    "import numpy as np\n",
    "from syft.core.adp.entity import Entity\n"
   ]
  },
  {
   "cell_type": "code",
   "execution_count": 2,
   "id": "2dc4bc7a-75aa-4ef0-a4b1-ae83a5eee1dd",
   "metadata": {},
   "outputs": [
    {
     "name": "stdout",
     "output_type": "stream",
     "text": [
      "Connecting to http://localhost:8081... done! \t Logging into adp... done!\n"
     ]
    }
   ],
   "source": [
    "# Instantiate Domain Object & Entity\n",
    "ishan = Entity(name=\"Ishan\")\n",
    "uk = sy.login(email=\"info@openmined.org\", password=\"changethis\", port=8081)"
   ]
  },
  {
   "cell_type": "code",
   "execution_count": 3,
   "id": "f0992b00-1fae-490e-b054-15c05e009232",
   "metadata": {},
   "outputs": [
    {
     "data": {
      "text/html": [
       "<div>\n",
       "<style scoped>\n",
       "    .dataframe tbody tr th:only-of-type {\n",
       "        vertical-align: middle;\n",
       "    }\n",
       "\n",
       "    .dataframe tbody tr th {\n",
       "        vertical-align: top;\n",
       "    }\n",
       "\n",
       "    .dataframe thead th {\n",
       "        text-align: right;\n",
       "    }\n",
       "</style>\n",
       "<table border=\"1\" class=\"dataframe\">\n",
       "  <thead>\n",
       "    <tr style=\"text-align: right;\">\n",
       "      <th></th>\n",
       "      <th>ID</th>\n",
       "      <th>Tags</th>\n",
       "      <th>Description</th>\n",
       "      <th>object_type</th>\n",
       "    </tr>\n",
       "  </thead>\n",
       "  <tbody>\n",
       "    <tr>\n",
       "      <th>0</th>\n",
       "      <td>&lt;UID: 747a85b4106a485fb09f6c6901a19cc0&gt;</td>\n",
       "      <td>[public_data]</td>\n",
       "      <td></td>\n",
       "      <td>&lt;class 'syft.core.tensor.tensor.Tensor'&gt;</td>\n",
       "    </tr>\n",
       "    <tr>\n",
       "      <th>1</th>\n",
       "      <td>&lt;UID: e86c4c64f64f4344850d6ae70a5dfefe&gt;</td>\n",
       "      <td>[data]</td>\n",
       "      <td></td>\n",
       "      <td>&lt;class 'syft.core.tensor.tensor.Tensor'&gt;</td>\n",
       "    </tr>\n",
       "    <tr>\n",
       "      <th>2</th>\n",
       "      <td>&lt;UID: 8dfb009ca0c649108e196657ab642fae&gt;</td>\n",
       "      <td>[target]</td>\n",
       "      <td></td>\n",
       "      <td>&lt;class 'syft.core.tensor.tensor.Tensor'&gt;</td>\n",
       "    </tr>\n",
       "    <tr>\n",
       "      <th>3</th>\n",
       "      <td>&lt;UID: 9e80b6b73bda40fcb58dee234529f320&gt;</td>\n",
       "      <td>[]</td>\n",
       "      <td></td>\n",
       "      <td>&lt;class 'syft.core.tensor.tensor.Tensor'&gt;</td>\n",
       "    </tr>\n",
       "    <tr>\n",
       "      <th>4</th>\n",
       "      <td>&lt;UID: 78d41cb834a64e1a975d89afc6e16ac6&gt;</td>\n",
       "      <td>[basic]</td>\n",
       "      <td></td>\n",
       "      <td>&lt;class 'syft.core.tensor.tensor.Tensor'&gt;</td>\n",
       "    </tr>\n",
       "    <tr>\n",
       "      <th>5</th>\n",
       "      <td>&lt;UID: f73759e3025d4682a8bbe7905b8d1e36&gt;</td>\n",
       "      <td>[basic]</td>\n",
       "      <td></td>\n",
       "      <td>&lt;class 'syft.core.tensor.tensor.Tensor'&gt;</td>\n",
       "    </tr>\n",
       "  </tbody>\n",
       "</table>\n",
       "</div>"
      ],
      "text/plain": [
       "                                        ID           Tags Description  \\\n",
       "0  <UID: 747a85b4106a485fb09f6c6901a19cc0>  [public_data]               \n",
       "1  <UID: e86c4c64f64f4344850d6ae70a5dfefe>         [data]               \n",
       "2  <UID: 8dfb009ca0c649108e196657ab642fae>       [target]               \n",
       "3  <UID: 9e80b6b73bda40fcb58dee234529f320>             []               \n",
       "4  <UID: 78d41cb834a64e1a975d89afc6e16ac6>        [basic]               \n",
       "5  <UID: f73759e3025d4682a8bbe7905b8d1e36>        [basic]               \n",
       "\n",
       "                                object_type  \n",
       "0  <class 'syft.core.tensor.tensor.Tensor'>  \n",
       "1  <class 'syft.core.tensor.tensor.Tensor'>  \n",
       "2  <class 'syft.core.tensor.tensor.Tensor'>  \n",
       "3  <class 'syft.core.tensor.tensor.Tensor'>  \n",
       "4  <class 'syft.core.tensor.tensor.Tensor'>  \n",
       "5  <class 'syft.core.tensor.tensor.Tensor'>  "
      ]
     },
     "execution_count": 3,
     "metadata": {},
     "output_type": "execute_result"
    }
   ],
   "source": [
    "uk.store.pandas"
   ]
  },
  {
   "cell_type": "code",
   "execution_count": 4,
   "id": "a838f0ca-674d-41bf-ac0c-f7b60d5fd052",
   "metadata": {},
   "outputs": [],
   "source": [
    "data = np.random.rand(1, 3)"
   ]
  },
  {
   "cell_type": "code",
   "execution_count": 5,
   "id": "01d9f88f-389f-47c3-b590-1b064583b285",
   "metadata": {},
   "outputs": [],
   "source": [
    "# Identify the first thing that breaks the deserialization:\n",
    "basic_tensor = sy.Tensor(data).tag(\"basic\")"
   ]
  },
  {
   "cell_type": "code",
   "execution_count": 7,
   "id": "544be7d1-bb77-4f5c-97ea-2009a621704f",
   "metadata": {},
   "outputs": [
    {
     "name": "stdout",
     "output_type": "stream",
     "text": [
      "Tensor(child=[[0.04377075 0.5637327  0.95719141]])\n"
     ]
    }
   ],
   "source": [
    "print(basic_tensor)"
   ]
  },
  {
   "cell_type": "code",
   "execution_count": 8,
   "id": "b40ad805-6d4c-4248-82a7-33cae897d4b4",
   "metadata": {},
   "outputs": [
    {
     "name": "stdout",
     "output_type": "stream",
     "text": [
      "<UID: 16ac150b5c8f48b2a8c96cc43cae0b89>\n"
     ]
    }
   ],
   "source": [
    "basic_ptr = basic_tensor.send(uk)\n",
    "print(basic_ptr.id_at_location)"
   ]
  },
  {
   "cell_type": "code",
   "execution_count": 9,
   "id": "e6a6db80-a2eb-43a0-87cd-b71634d4fe38",
   "metadata": {},
   "outputs": [
    {
     "data": {
      "text/html": [
       "<div>\n",
       "<style scoped>\n",
       "    .dataframe tbody tr th:only-of-type {\n",
       "        vertical-align: middle;\n",
       "    }\n",
       "\n",
       "    .dataframe tbody tr th {\n",
       "        vertical-align: top;\n",
       "    }\n",
       "\n",
       "    .dataframe thead th {\n",
       "        text-align: right;\n",
       "    }\n",
       "</style>\n",
       "<table border=\"1\" class=\"dataframe\">\n",
       "  <thead>\n",
       "    <tr style=\"text-align: right;\">\n",
       "      <th></th>\n",
       "      <th>ID</th>\n",
       "      <th>Tags</th>\n",
       "      <th>Description</th>\n",
       "      <th>object_type</th>\n",
       "    </tr>\n",
       "  </thead>\n",
       "  <tbody>\n",
       "    <tr>\n",
       "      <th>0</th>\n",
       "      <td>&lt;UID: 747a85b4106a485fb09f6c6901a19cc0&gt;</td>\n",
       "      <td>[public_data]</td>\n",
       "      <td></td>\n",
       "      <td>&lt;class 'syft.core.tensor.tensor.Tensor'&gt;</td>\n",
       "    </tr>\n",
       "    <tr>\n",
       "      <th>1</th>\n",
       "      <td>&lt;UID: e86c4c64f64f4344850d6ae70a5dfefe&gt;</td>\n",
       "      <td>[data]</td>\n",
       "      <td></td>\n",
       "      <td>&lt;class 'syft.core.tensor.tensor.Tensor'&gt;</td>\n",
       "    </tr>\n",
       "    <tr>\n",
       "      <th>2</th>\n",
       "      <td>&lt;UID: 8dfb009ca0c649108e196657ab642fae&gt;</td>\n",
       "      <td>[target]</td>\n",
       "      <td></td>\n",
       "      <td>&lt;class 'syft.core.tensor.tensor.Tensor'&gt;</td>\n",
       "    </tr>\n",
       "    <tr>\n",
       "      <th>3</th>\n",
       "      <td>&lt;UID: 9e80b6b73bda40fcb58dee234529f320&gt;</td>\n",
       "      <td>[]</td>\n",
       "      <td></td>\n",
       "      <td>&lt;class 'syft.core.tensor.tensor.Tensor'&gt;</td>\n",
       "    </tr>\n",
       "    <tr>\n",
       "      <th>4</th>\n",
       "      <td>&lt;UID: 78d41cb834a64e1a975d89afc6e16ac6&gt;</td>\n",
       "      <td>[basic]</td>\n",
       "      <td></td>\n",
       "      <td>&lt;class 'syft.core.tensor.tensor.Tensor'&gt;</td>\n",
       "    </tr>\n",
       "    <tr>\n",
       "      <th>5</th>\n",
       "      <td>&lt;UID: f73759e3025d4682a8bbe7905b8d1e36&gt;</td>\n",
       "      <td>[basic]</td>\n",
       "      <td></td>\n",
       "      <td>&lt;class 'syft.core.tensor.tensor.Tensor'&gt;</td>\n",
       "    </tr>\n",
       "    <tr>\n",
       "      <th>6</th>\n",
       "      <td>&lt;UID: 16ac150b5c8f48b2a8c96cc43cae0b89&gt;</td>\n",
       "      <td>[basic]</td>\n",
       "      <td></td>\n",
       "      <td>&lt;class 'syft.core.tensor.tensor.Tensor'&gt;</td>\n",
       "    </tr>\n",
       "  </tbody>\n",
       "</table>\n",
       "</div>"
      ],
      "text/plain": [
       "                                        ID           Tags Description  \\\n",
       "0  <UID: 747a85b4106a485fb09f6c6901a19cc0>  [public_data]               \n",
       "1  <UID: e86c4c64f64f4344850d6ae70a5dfefe>         [data]               \n",
       "2  <UID: 8dfb009ca0c649108e196657ab642fae>       [target]               \n",
       "3  <UID: 9e80b6b73bda40fcb58dee234529f320>             []               \n",
       "4  <UID: 78d41cb834a64e1a975d89afc6e16ac6>        [basic]               \n",
       "5  <UID: f73759e3025d4682a8bbe7905b8d1e36>        [basic]               \n",
       "6  <UID: 16ac150b5c8f48b2a8c96cc43cae0b89>        [basic]               \n",
       "\n",
       "                                object_type  \n",
       "0  <class 'syft.core.tensor.tensor.Tensor'>  \n",
       "1  <class 'syft.core.tensor.tensor.Tensor'>  \n",
       "2  <class 'syft.core.tensor.tensor.Tensor'>  \n",
       "3  <class 'syft.core.tensor.tensor.Tensor'>  \n",
       "4  <class 'syft.core.tensor.tensor.Tensor'>  \n",
       "5  <class 'syft.core.tensor.tensor.Tensor'>  \n",
       "6  <class 'syft.core.tensor.tensor.Tensor'>  "
      ]
     },
     "execution_count": 9,
     "metadata": {},
     "output_type": "execute_result"
    }
   ],
   "source": [
    "uk.store.pandas"
   ]
  },
  {
   "cell_type": "code",
   "execution_count": 11,
   "id": "9f077a8a-10ec-4539-9006-bb8eebdea269",
   "metadata": {},
   "outputs": [
    {
     "name": "stdout",
     "output_type": "stream",
     "text": [
      "Tensor(child=SingleEntityPhiTensor(entity=Ishan, child=[[0.04377075 0.5637327  0.95719141]]))\n"
     ]
    }
   ],
   "source": [
    "private_tensor = sy.Tensor(data).private(0, 1, entity=ishan).tag(\"private\")\n",
    "print(private_tensor)"
   ]
  },
  {
   "cell_type": "code",
   "execution_count": 12,
   "id": "3f2ed900-5ccd-4ece-a32a-80021c28fdc6",
   "metadata": {},
   "outputs": [
    {
     "name": "stdout",
     "output_type": "stream",
     "text": [
      "<UID: 943886a2b45b4ad1b89079781e824ce3>\n"
     ]
    }
   ],
   "source": [
    "private_ptr = private_tensor.send(uk)\n",
    "print(private_ptr.id_at_location)"
   ]
  },
  {
   "cell_type": "code",
   "execution_count": 13,
   "id": "aa60f416-181a-4f8e-a715-2a7501e358a0",
   "metadata": {},
   "outputs": [
    {
     "data": {
      "text/html": [
       "<div>\n",
       "<style scoped>\n",
       "    .dataframe tbody tr th:only-of-type {\n",
       "        vertical-align: middle;\n",
       "    }\n",
       "\n",
       "    .dataframe tbody tr th {\n",
       "        vertical-align: top;\n",
       "    }\n",
       "\n",
       "    .dataframe thead th {\n",
       "        text-align: right;\n",
       "    }\n",
       "</style>\n",
       "<table border=\"1\" class=\"dataframe\">\n",
       "  <thead>\n",
       "    <tr style=\"text-align: right;\">\n",
       "      <th></th>\n",
       "      <th>ID</th>\n",
       "      <th>Tags</th>\n",
       "      <th>Description</th>\n",
       "      <th>object_type</th>\n",
       "    </tr>\n",
       "  </thead>\n",
       "  <tbody>\n",
       "    <tr>\n",
       "      <th>0</th>\n",
       "      <td>&lt;UID: 747a85b4106a485fb09f6c6901a19cc0&gt;</td>\n",
       "      <td>[public_data]</td>\n",
       "      <td></td>\n",
       "      <td>&lt;class 'syft.core.tensor.tensor.Tensor'&gt;</td>\n",
       "    </tr>\n",
       "    <tr>\n",
       "      <th>1</th>\n",
       "      <td>&lt;UID: e86c4c64f64f4344850d6ae70a5dfefe&gt;</td>\n",
       "      <td>[data]</td>\n",
       "      <td></td>\n",
       "      <td>&lt;class 'syft.core.tensor.tensor.Tensor'&gt;</td>\n",
       "    </tr>\n",
       "    <tr>\n",
       "      <th>2</th>\n",
       "      <td>&lt;UID: 8dfb009ca0c649108e196657ab642fae&gt;</td>\n",
       "      <td>[target]</td>\n",
       "      <td></td>\n",
       "      <td>&lt;class 'syft.core.tensor.tensor.Tensor'&gt;</td>\n",
       "    </tr>\n",
       "    <tr>\n",
       "      <th>3</th>\n",
       "      <td>&lt;UID: 9e80b6b73bda40fcb58dee234529f320&gt;</td>\n",
       "      <td>[]</td>\n",
       "      <td></td>\n",
       "      <td>&lt;class 'syft.core.tensor.tensor.Tensor'&gt;</td>\n",
       "    </tr>\n",
       "    <tr>\n",
       "      <th>4</th>\n",
       "      <td>&lt;UID: 78d41cb834a64e1a975d89afc6e16ac6&gt;</td>\n",
       "      <td>[basic]</td>\n",
       "      <td></td>\n",
       "      <td>&lt;class 'syft.core.tensor.tensor.Tensor'&gt;</td>\n",
       "    </tr>\n",
       "    <tr>\n",
       "      <th>5</th>\n",
       "      <td>&lt;UID: f73759e3025d4682a8bbe7905b8d1e36&gt;</td>\n",
       "      <td>[basic]</td>\n",
       "      <td></td>\n",
       "      <td>&lt;class 'syft.core.tensor.tensor.Tensor'&gt;</td>\n",
       "    </tr>\n",
       "    <tr>\n",
       "      <th>6</th>\n",
       "      <td>&lt;UID: 16ac150b5c8f48b2a8c96cc43cae0b89&gt;</td>\n",
       "      <td>[basic]</td>\n",
       "      <td></td>\n",
       "      <td>&lt;class 'syft.core.tensor.tensor.Tensor'&gt;</td>\n",
       "    </tr>\n",
       "  </tbody>\n",
       "</table>\n",
       "</div>"
      ],
      "text/plain": [
       "                                        ID           Tags Description  \\\n",
       "0  <UID: 747a85b4106a485fb09f6c6901a19cc0>  [public_data]               \n",
       "1  <UID: e86c4c64f64f4344850d6ae70a5dfefe>         [data]               \n",
       "2  <UID: 8dfb009ca0c649108e196657ab642fae>       [target]               \n",
       "3  <UID: 9e80b6b73bda40fcb58dee234529f320>             []               \n",
       "4  <UID: 78d41cb834a64e1a975d89afc6e16ac6>        [basic]               \n",
       "5  <UID: f73759e3025d4682a8bbe7905b8d1e36>        [basic]               \n",
       "6  <UID: 16ac150b5c8f48b2a8c96cc43cae0b89>        [basic]               \n",
       "\n",
       "                                object_type  \n",
       "0  <class 'syft.core.tensor.tensor.Tensor'>  \n",
       "1  <class 'syft.core.tensor.tensor.Tensor'>  \n",
       "2  <class 'syft.core.tensor.tensor.Tensor'>  \n",
       "3  <class 'syft.core.tensor.tensor.Tensor'>  \n",
       "4  <class 'syft.core.tensor.tensor.Tensor'>  \n",
       "5  <class 'syft.core.tensor.tensor.Tensor'>  \n",
       "6  <class 'syft.core.tensor.tensor.Tensor'>  "
      ]
     },
     "execution_count": 13,
     "metadata": {},
     "output_type": "execute_result"
    }
   ],
   "source": [
    "uk.store.pandas"
   ]
  },
  {
   "cell_type": "code",
   "execution_count": 15,
   "id": "50f01cc1-8a2b-45e8-9483-9ddb64e22130",
   "metadata": {},
   "outputs": [
    {
     "name": "stdout",
     "output_type": "stream",
     "text": [
      "Tensor(child=AutogradTensor(child=[[0.04377075 0.5637327  0.95719141]]))\n"
     ]
    }
   ],
   "source": [
    "autograd_tensor = sy.Tensor(data).autograd(requires_grad=True).tag(\"autograd\")\n",
    "print(autograd_tensor)"
   ]
  },
  {
   "cell_type": "code",
   "execution_count": 16,
   "id": "ca16be91-e266-4eae-b607-67906012c3de",
   "metadata": {},
   "outputs": [
    {
     "name": "stdout",
     "output_type": "stream",
     "text": [
      "<UID: ed2fe2d72ee048dc9b60b109bb3214a4>\n"
     ]
    }
   ],
   "source": [
    "autograd_ptr = autograd_tensor.send(uk)\n",
    "print(autograd_ptr.id_at_location)"
   ]
  },
  {
   "cell_type": "code",
   "execution_count": 17,
   "id": "38a73cec-b769-4dbc-be9d-cda06ff8c11f",
   "metadata": {},
   "outputs": [
    {
     "data": {
      "text/html": [
       "<div>\n",
       "<style scoped>\n",
       "    .dataframe tbody tr th:only-of-type {\n",
       "        vertical-align: middle;\n",
       "    }\n",
       "\n",
       "    .dataframe tbody tr th {\n",
       "        vertical-align: top;\n",
       "    }\n",
       "\n",
       "    .dataframe thead th {\n",
       "        text-align: right;\n",
       "    }\n",
       "</style>\n",
       "<table border=\"1\" class=\"dataframe\">\n",
       "  <thead>\n",
       "    <tr style=\"text-align: right;\">\n",
       "      <th></th>\n",
       "      <th>ID</th>\n",
       "      <th>Tags</th>\n",
       "      <th>Description</th>\n",
       "      <th>object_type</th>\n",
       "    </tr>\n",
       "  </thead>\n",
       "  <tbody>\n",
       "    <tr>\n",
       "      <th>0</th>\n",
       "      <td>&lt;UID: 747a85b4106a485fb09f6c6901a19cc0&gt;</td>\n",
       "      <td>[public_data]</td>\n",
       "      <td></td>\n",
       "      <td>&lt;class 'syft.core.tensor.tensor.Tensor'&gt;</td>\n",
       "    </tr>\n",
       "    <tr>\n",
       "      <th>1</th>\n",
       "      <td>&lt;UID: e86c4c64f64f4344850d6ae70a5dfefe&gt;</td>\n",
       "      <td>[data]</td>\n",
       "      <td></td>\n",
       "      <td>&lt;class 'syft.core.tensor.tensor.Tensor'&gt;</td>\n",
       "    </tr>\n",
       "    <tr>\n",
       "      <th>2</th>\n",
       "      <td>&lt;UID: 8dfb009ca0c649108e196657ab642fae&gt;</td>\n",
       "      <td>[target]</td>\n",
       "      <td></td>\n",
       "      <td>&lt;class 'syft.core.tensor.tensor.Tensor'&gt;</td>\n",
       "    </tr>\n",
       "    <tr>\n",
       "      <th>3</th>\n",
       "      <td>&lt;UID: 9e80b6b73bda40fcb58dee234529f320&gt;</td>\n",
       "      <td>[]</td>\n",
       "      <td></td>\n",
       "      <td>&lt;class 'syft.core.tensor.tensor.Tensor'&gt;</td>\n",
       "    </tr>\n",
       "    <tr>\n",
       "      <th>4</th>\n",
       "      <td>&lt;UID: 78d41cb834a64e1a975d89afc6e16ac6&gt;</td>\n",
       "      <td>[basic]</td>\n",
       "      <td></td>\n",
       "      <td>&lt;class 'syft.core.tensor.tensor.Tensor'&gt;</td>\n",
       "    </tr>\n",
       "    <tr>\n",
       "      <th>5</th>\n",
       "      <td>&lt;UID: f73759e3025d4682a8bbe7905b8d1e36&gt;</td>\n",
       "      <td>[basic]</td>\n",
       "      <td></td>\n",
       "      <td>&lt;class 'syft.core.tensor.tensor.Tensor'&gt;</td>\n",
       "    </tr>\n",
       "    <tr>\n",
       "      <th>6</th>\n",
       "      <td>&lt;UID: 16ac150b5c8f48b2a8c96cc43cae0b89&gt;</td>\n",
       "      <td>[basic]</td>\n",
       "      <td></td>\n",
       "      <td>&lt;class 'syft.core.tensor.tensor.Tensor'&gt;</td>\n",
       "    </tr>\n",
       "  </tbody>\n",
       "</table>\n",
       "</div>"
      ],
      "text/plain": [
       "                                        ID           Tags Description  \\\n",
       "0  <UID: 747a85b4106a485fb09f6c6901a19cc0>  [public_data]               \n",
       "1  <UID: e86c4c64f64f4344850d6ae70a5dfefe>         [data]               \n",
       "2  <UID: 8dfb009ca0c649108e196657ab642fae>       [target]               \n",
       "3  <UID: 9e80b6b73bda40fcb58dee234529f320>             []               \n",
       "4  <UID: 78d41cb834a64e1a975d89afc6e16ac6>        [basic]               \n",
       "5  <UID: f73759e3025d4682a8bbe7905b8d1e36>        [basic]               \n",
       "6  <UID: 16ac150b5c8f48b2a8c96cc43cae0b89>        [basic]               \n",
       "\n",
       "                                object_type  \n",
       "0  <class 'syft.core.tensor.tensor.Tensor'>  \n",
       "1  <class 'syft.core.tensor.tensor.Tensor'>  \n",
       "2  <class 'syft.core.tensor.tensor.Tensor'>  \n",
       "3  <class 'syft.core.tensor.tensor.Tensor'>  \n",
       "4  <class 'syft.core.tensor.tensor.Tensor'>  \n",
       "5  <class 'syft.core.tensor.tensor.Tensor'>  \n",
       "6  <class 'syft.core.tensor.tensor.Tensor'>  "
      ]
     },
     "execution_count": 17,
     "metadata": {},
     "output_type": "execute_result"
    }
   ],
   "source": [
    "uk.store.pandas"
   ]
  },
  {
   "cell_type": "code",
   "execution_count": 18,
   "id": "4cd19b28-43e8-4d20-828c-7d5e2a480690",
   "metadata": {},
   "outputs": [
    {
     "data": {
      "text/plain": [
       "<UID: bfb53e8991744e65b1eae940b101da80>"
      ]
     },
     "execution_count": 18,
     "metadata": {},
     "output_type": "execute_result"
    }
   ],
   "source": [
    "autograd_tensor.id"
   ]
  },
  {
   "cell_type": "code",
   "execution_count": 19,
   "id": "1bbc2bf1-05e3-42d5-9bfa-11d8529fd232",
   "metadata": {},
   "outputs": [
    {
     "data": {
      "text/plain": [
       "<UID: 3bfacd79fd414417b63aa7da01263802>"
      ]
     },
     "execution_count": 19,
     "metadata": {},
     "output_type": "execute_result"
    }
   ],
   "source": [
    "basic_tensor.id"
   ]
  },
  {
   "cell_type": "code",
   "execution_count": 20,
   "id": "29cfb938-103c-47fa-b115-290acb47015b",
   "metadata": {},
   "outputs": [
    {
     "data": {
      "text/plain": [
       "<UID: 16ac150b5c8f48b2a8c96cc43cae0b89>"
      ]
     },
     "execution_count": 20,
     "metadata": {},
     "output_type": "execute_result"
    }
   ],
   "source": [
    "basic_ptr.id_at_location"
   ]
  },
  {
   "cell_type": "code",
   "execution_count": 21,
   "id": "2982684d-d1aa-4fc2-8223-1edcbc0fdb91",
   "metadata": {},
   "outputs": [
    {
     "data": {
      "text/plain": [
       "<UID: ed2fe2d72ee048dc9b60b109bb3214a4>"
      ]
     },
     "execution_count": 21,
     "metadata": {},
     "output_type": "execute_result"
    }
   ],
   "source": [
    "autograd_ptr.id_at_location"
   ]
  },
  {
   "cell_type": "code",
   "execution_count": 22,
   "id": "27e7b32c-85f6-473e-a6f7-e6a79a53386c",
   "metadata": {},
   "outputs": [
    {
     "data": {
      "text/html": [
       "<div>\n",
       "<style scoped>\n",
       "    .dataframe tbody tr th:only-of-type {\n",
       "        vertical-align: middle;\n",
       "    }\n",
       "\n",
       "    .dataframe tbody tr th {\n",
       "        vertical-align: top;\n",
       "    }\n",
       "\n",
       "    .dataframe thead th {\n",
       "        text-align: right;\n",
       "    }\n",
       "</style>\n",
       "<table border=\"1\" class=\"dataframe\">\n",
       "  <thead>\n",
       "    <tr style=\"text-align: right;\">\n",
       "      <th></th>\n",
       "      <th>ID</th>\n",
       "      <th>Tags</th>\n",
       "      <th>Description</th>\n",
       "      <th>object_type</th>\n",
       "    </tr>\n",
       "  </thead>\n",
       "  <tbody>\n",
       "    <tr>\n",
       "      <th>0</th>\n",
       "      <td>&lt;UID: 747a85b4106a485fb09f6c6901a19cc0&gt;</td>\n",
       "      <td>[public_data]</td>\n",
       "      <td></td>\n",
       "      <td>&lt;class 'syft.core.tensor.tensor.Tensor'&gt;</td>\n",
       "    </tr>\n",
       "    <tr>\n",
       "      <th>1</th>\n",
       "      <td>&lt;UID: e86c4c64f64f4344850d6ae70a5dfefe&gt;</td>\n",
       "      <td>[data]</td>\n",
       "      <td></td>\n",
       "      <td>&lt;class 'syft.core.tensor.tensor.Tensor'&gt;</td>\n",
       "    </tr>\n",
       "    <tr>\n",
       "      <th>2</th>\n",
       "      <td>&lt;UID: 8dfb009ca0c649108e196657ab642fae&gt;</td>\n",
       "      <td>[target]</td>\n",
       "      <td></td>\n",
       "      <td>&lt;class 'syft.core.tensor.tensor.Tensor'&gt;</td>\n",
       "    </tr>\n",
       "    <tr>\n",
       "      <th>3</th>\n",
       "      <td>&lt;UID: 9e80b6b73bda40fcb58dee234529f320&gt;</td>\n",
       "      <td>[]</td>\n",
       "      <td></td>\n",
       "      <td>&lt;class 'syft.core.tensor.tensor.Tensor'&gt;</td>\n",
       "    </tr>\n",
       "    <tr>\n",
       "      <th>4</th>\n",
       "      <td>&lt;UID: 78d41cb834a64e1a975d89afc6e16ac6&gt;</td>\n",
       "      <td>[basic]</td>\n",
       "      <td></td>\n",
       "      <td>&lt;class 'syft.core.tensor.tensor.Tensor'&gt;</td>\n",
       "    </tr>\n",
       "    <tr>\n",
       "      <th>5</th>\n",
       "      <td>&lt;UID: f73759e3025d4682a8bbe7905b8d1e36&gt;</td>\n",
       "      <td>[basic]</td>\n",
       "      <td></td>\n",
       "      <td>&lt;class 'syft.core.tensor.tensor.Tensor'&gt;</td>\n",
       "    </tr>\n",
       "    <tr>\n",
       "      <th>6</th>\n",
       "      <td>&lt;UID: 16ac150b5c8f48b2a8c96cc43cae0b89&gt;</td>\n",
       "      <td>[basic]</td>\n",
       "      <td></td>\n",
       "      <td>&lt;class 'syft.core.tensor.tensor.Tensor'&gt;</td>\n",
       "    </tr>\n",
       "  </tbody>\n",
       "</table>\n",
       "</div>"
      ],
      "text/plain": [
       "                                        ID           Tags Description  \\\n",
       "0  <UID: 747a85b4106a485fb09f6c6901a19cc0>  [public_data]               \n",
       "1  <UID: e86c4c64f64f4344850d6ae70a5dfefe>         [data]               \n",
       "2  <UID: 8dfb009ca0c649108e196657ab642fae>       [target]               \n",
       "3  <UID: 9e80b6b73bda40fcb58dee234529f320>             []               \n",
       "4  <UID: 78d41cb834a64e1a975d89afc6e16ac6>        [basic]               \n",
       "5  <UID: f73759e3025d4682a8bbe7905b8d1e36>        [basic]               \n",
       "6  <UID: 16ac150b5c8f48b2a8c96cc43cae0b89>        [basic]               \n",
       "\n",
       "                                object_type  \n",
       "0  <class 'syft.core.tensor.tensor.Tensor'>  \n",
       "1  <class 'syft.core.tensor.tensor.Tensor'>  \n",
       "2  <class 'syft.core.tensor.tensor.Tensor'>  \n",
       "3  <class 'syft.core.tensor.tensor.Tensor'>  \n",
       "4  <class 'syft.core.tensor.tensor.Tensor'>  \n",
       "5  <class 'syft.core.tensor.tensor.Tensor'>  \n",
       "6  <class 'syft.core.tensor.tensor.Tensor'>  "
      ]
     },
     "execution_count": 22,
     "metadata": {},
     "output_type": "execute_result"
    }
   ],
   "source": [
    "uk.store.pandas"
   ]
  },
  {
   "cell_type": "code",
   "execution_count": 23,
   "id": "58c62a1a-6ef8-4f5b-8624-d8d8c8e173f2",
   "metadata": {},
   "outputs": [
    {
     "data": {
      "text/plain": [
       "[<syft.proxy.syft.core.tensor.tensor.TensorPointer at 0x146bb56d0>,\n",
       " <syft.proxy.syft.core.tensor.tensor.TensorPointer at 0x146bb5550>,\n",
       " <syft.proxy.syft.core.tensor.tensor.TensorPointer at 0x146d1de20>,\n",
       " <syft.proxy.syft.core.tensor.tensor.TensorPointer at 0x1473b0220>,\n",
       " <syft.proxy.syft.core.tensor.tensor.TensorPointer at 0x1473b0700>,\n",
       " <syft.proxy.syft.core.tensor.tensor.TensorPointer at 0x1473b0310>,\n",
       " <syft.proxy.syft.core.tensor.tensor.TensorPointer at 0x1473b0520>]"
      ]
     },
     "execution_count": 23,
     "metadata": {},
     "output_type": "execute_result"
    }
   ],
   "source": [
    "uk.store.store"
   ]
  },
  {
   "cell_type": "code",
   "execution_count": 24,
   "id": "ed971601-0076-4df5-a5cc-55d5f960a390",
   "metadata": {},
   "outputs": [
    {
     "data": {
      "text/plain": [
       "<UID: ed2fe2d72ee048dc9b60b109bb3214a4>"
      ]
     },
     "execution_count": 24,
     "metadata": {},
     "output_type": "execute_result"
    }
   ],
   "source": [
    "autograd_ptr.id_at_location"
   ]
  },
  {
   "cell_type": "code",
   "execution_count": 25,
   "id": "dc2b216f-9f82-4e99-a8a6-9684e8a73e86",
   "metadata": {},
   "outputs": [],
   "source": [
    "private_autograd_tensor = sy.Tensor(data).private(0, 1, entity=ishan).autograd(requires_grad=True).tag(\"priv_autograd\")"
   ]
  },
  {
   "cell_type": "code",
   "execution_count": 26,
   "id": "980d9228-bea9-4204-8531-3bde76d4f4da",
   "metadata": {},
   "outputs": [
    {
     "data": {
      "text/plain": [
       "Tensor(child=AutogradTensor(child=SingleEntityPhiTensor(entity=Ishan, child=[[0.04377075 0.5637327  0.95719141]])))"
      ]
     },
     "execution_count": 26,
     "metadata": {},
     "output_type": "execute_result"
    }
   ],
   "source": [
    "private_autograd_tensor"
   ]
  },
  {
   "cell_type": "code",
   "execution_count": 27,
   "id": "fec15282-f847-4210-91b7-87029aa818ba",
   "metadata": {},
   "outputs": [
    {
     "ename": "AttributeError",
     "evalue": "'Tensor' object has no attribute 'id'",
     "output_type": "error",
     "traceback": [
      "\u001b[0;31m---------------------------------------------------------------------------\u001b[0m",
      "\u001b[0;31mAttributeError\u001b[0m                            Traceback (most recent call last)",
      "\u001b[0;32m/var/folders/cs/tql716257t32sb3kr5r9rbkc0000gn/T/ipykernel_23005/156423978.py\u001b[0m in \u001b[0;36m<module>\u001b[0;34m\u001b[0m\n\u001b[0;32m----> 1\u001b[0;31m \u001b[0mprivate_autograd_tensor\u001b[0m\u001b[0;34m.\u001b[0m\u001b[0mid\u001b[0m\u001b[0;34m\u001b[0m\u001b[0;34m\u001b[0m\u001b[0m\n\u001b[0m",
      "\u001b[0;31mAttributeError\u001b[0m: 'Tensor' object has no attribute 'id'"
     ]
    }
   ],
   "source": [
    "private_autograd_tensor.id"
   ]
  },
  {
   "cell_type": "code",
   "execution_count": 28,
   "id": "debcd53c-b057-4894-bd61-2187359c120c",
   "metadata": {},
   "outputs": [],
   "source": [
    "private_autograd_ptr = private_autograd_tensor.send(uk)"
   ]
  },
  {
   "cell_type": "code",
   "execution_count": 29,
   "id": "c56ed3f4-cf0d-40bc-947b-94993f3a0b26",
   "metadata": {},
   "outputs": [
    {
     "name": "stdout",
     "output_type": "stream",
     "text": [
      "<UID: 85b6881522f647ad9ec467d711db8c7e>\n"
     ]
    }
   ],
   "source": [
    "print(private_autograd_ptr.id_at_location)"
   ]
  },
  {
   "cell_type": "code",
   "execution_count": 30,
   "id": "e7c16c6a-7d03-429b-b23e-b99c2f2a1828",
   "metadata": {},
   "outputs": [
    {
     "data": {
      "text/html": [
       "<div>\n",
       "<style scoped>\n",
       "    .dataframe tbody tr th:only-of-type {\n",
       "        vertical-align: middle;\n",
       "    }\n",
       "\n",
       "    .dataframe tbody tr th {\n",
       "        vertical-align: top;\n",
       "    }\n",
       "\n",
       "    .dataframe thead th {\n",
       "        text-align: right;\n",
       "    }\n",
       "</style>\n",
       "<table border=\"1\" class=\"dataframe\">\n",
       "  <thead>\n",
       "    <tr style=\"text-align: right;\">\n",
       "      <th></th>\n",
       "      <th>ID</th>\n",
       "      <th>Tags</th>\n",
       "      <th>Description</th>\n",
       "      <th>object_type</th>\n",
       "    </tr>\n",
       "  </thead>\n",
       "  <tbody>\n",
       "    <tr>\n",
       "      <th>0</th>\n",
       "      <td>&lt;UID: 747a85b4106a485fb09f6c6901a19cc0&gt;</td>\n",
       "      <td>[public_data]</td>\n",
       "      <td></td>\n",
       "      <td>&lt;class 'syft.core.tensor.tensor.Tensor'&gt;</td>\n",
       "    </tr>\n",
       "    <tr>\n",
       "      <th>1</th>\n",
       "      <td>&lt;UID: e86c4c64f64f4344850d6ae70a5dfefe&gt;</td>\n",
       "      <td>[data]</td>\n",
       "      <td></td>\n",
       "      <td>&lt;class 'syft.core.tensor.tensor.Tensor'&gt;</td>\n",
       "    </tr>\n",
       "    <tr>\n",
       "      <th>2</th>\n",
       "      <td>&lt;UID: 8dfb009ca0c649108e196657ab642fae&gt;</td>\n",
       "      <td>[target]</td>\n",
       "      <td></td>\n",
       "      <td>&lt;class 'syft.core.tensor.tensor.Tensor'&gt;</td>\n",
       "    </tr>\n",
       "    <tr>\n",
       "      <th>3</th>\n",
       "      <td>&lt;UID: 9e80b6b73bda40fcb58dee234529f320&gt;</td>\n",
       "      <td>[]</td>\n",
       "      <td></td>\n",
       "      <td>&lt;class 'syft.core.tensor.tensor.Tensor'&gt;</td>\n",
       "    </tr>\n",
       "    <tr>\n",
       "      <th>4</th>\n",
       "      <td>&lt;UID: 78d41cb834a64e1a975d89afc6e16ac6&gt;</td>\n",
       "      <td>[basic]</td>\n",
       "      <td></td>\n",
       "      <td>&lt;class 'syft.core.tensor.tensor.Tensor'&gt;</td>\n",
       "    </tr>\n",
       "    <tr>\n",
       "      <th>5</th>\n",
       "      <td>&lt;UID: f73759e3025d4682a8bbe7905b8d1e36&gt;</td>\n",
       "      <td>[basic]</td>\n",
       "      <td></td>\n",
       "      <td>&lt;class 'syft.core.tensor.tensor.Tensor'&gt;</td>\n",
       "    </tr>\n",
       "    <tr>\n",
       "      <th>6</th>\n",
       "      <td>&lt;UID: 16ac150b5c8f48b2a8c96cc43cae0b89&gt;</td>\n",
       "      <td>[basic]</td>\n",
       "      <td></td>\n",
       "      <td>&lt;class 'syft.core.tensor.tensor.Tensor'&gt;</td>\n",
       "    </tr>\n",
       "  </tbody>\n",
       "</table>\n",
       "</div>"
      ],
      "text/plain": [
       "                                        ID           Tags Description  \\\n",
       "0  <UID: 747a85b4106a485fb09f6c6901a19cc0>  [public_data]               \n",
       "1  <UID: e86c4c64f64f4344850d6ae70a5dfefe>         [data]               \n",
       "2  <UID: 8dfb009ca0c649108e196657ab642fae>       [target]               \n",
       "3  <UID: 9e80b6b73bda40fcb58dee234529f320>             []               \n",
       "4  <UID: 78d41cb834a64e1a975d89afc6e16ac6>        [basic]               \n",
       "5  <UID: f73759e3025d4682a8bbe7905b8d1e36>        [basic]               \n",
       "6  <UID: 16ac150b5c8f48b2a8c96cc43cae0b89>        [basic]               \n",
       "\n",
       "                                object_type  \n",
       "0  <class 'syft.core.tensor.tensor.Tensor'>  \n",
       "1  <class 'syft.core.tensor.tensor.Tensor'>  \n",
       "2  <class 'syft.core.tensor.tensor.Tensor'>  \n",
       "3  <class 'syft.core.tensor.tensor.Tensor'>  \n",
       "4  <class 'syft.core.tensor.tensor.Tensor'>  \n",
       "5  <class 'syft.core.tensor.tensor.Tensor'>  \n",
       "6  <class 'syft.core.tensor.tensor.Tensor'>  "
      ]
     },
     "execution_count": 30,
     "metadata": {},
     "output_type": "execute_result"
    }
   ],
   "source": [
    "uk.store.pandas"
   ]
  },
  {
   "cell_type": "markdown",
   "id": "02c0e3d6-2ecd-49ef-a55f-ea7d0e696115",
   "metadata": {},
   "source": [
    "## Error spotted on backend_1 when trying to send Tensor to object store:\n",
    "Apparently the syft modules (autograd, autodp) aren't importing?"
   ]
  },
  {
   "cell_type": "markdown",
   "id": "6846e3b7-77f3-4743-8a8d-38d553fc2374",
   "metadata": {
    "tags": []
   },
   "source": [
    "2021-08-09T19:19:10.642462+0000][DEBUG][logger]][47] Serializing <class 'syft.core.common.group._create_VERIFYALL.<locals>.VerifyAll'>\n",
    "[2021-08-09T19:19:10.644311+0000][DEBUG][logger]][47] Serializing <class 'syft.lib.python._SyNone'>\n",
    "[2021-08-09 19:19:10,858: INFO/ForkPoolWorker-1] Task app.worker.msg_without_reply[e8dc5efb-4860-481e-ad5d-df08a64c6efb] succeeded in 0.36394500299866195s: None\n",
    "[2021-08-09 19:19:24,061: INFO/MainProcess] Received task: app.worker.msg_without_reply[40b42308-9c0a-43f8-8950-1441c6e96260]\n",
    "[2021-08-09 19:19:24,166: ERROR/ForkPoolWorker-1] Task app.worker.msg_without_reply[40b42308-9c0a-43f8-8950-1441c6e96260] raised unexpected: KeyError('autodp')\n",
    "Traceback (most recent call last):\n",
    "  File \"/usr/local/lib/python3.7/site-packages/celery/app/trace.py\", line 412, in trace_task\n",
    "    R = retval = fun(*args, **kwargs)\n",
    "  File \"/usr/local/lib/python3.7/site-packages/celery/app/trace.py\", line 704, in __protected_call__\n",
    "    return self.run(*args, **kwargs)\n",
    "  File \"/app/app/worker.py\", line 20, in msg_without_reply\n",
    "    obj_msg = deserialize(blob=msg_bytes, from_bytes=True)\n",
    "  File \"/app/syft/src/syft/core/common/serde/deserialize.py\", line 132, in _deserialize\n",
    "    res = _proto2object(proto=blob)\n",
    "  File \"/app/syft/src/syft/core/common/message.py\", line 183, in _proto2object\n",
    "    _deserialize(blob=proto.message, from_bytes=True), SyftMessage\n",
    "  File \"/app/syft/src/syft/core/common/serde/deserialize.py\", line 132, in _deserialize\n",
    "    res = _proto2object(proto=blob)\n",
    "  File \"/app/syft/src/syft/core/node/common/action/save_object_action.py\", line 59, in _proto2object\n",
    "    obj = _deserialize(blob=proto.obj)\n",
    "  File \"/app/syft/src/syft/core/common/serde/deserialize.py\", line 132, in _deserialize\n",
    "    res = _proto2object(proto=blob)\n",
    "  File \"/app/syft/src/syft/core/store/storeable_object.py\", line 185, in _proto2object\n",
    "    data = data_type._proto2object(proto=data)  # type: ignore\n",
    "  File \"/app/syft/src/syft/core/common/serde/recursive.py\", line 53, in _proto2object\n",
    "    attrs = dict(deserialize(proto.data, from_bytes=True))\n",
    "  File \"/app/syft/src/syft/core/common/serde/deserialize.py\", line 132, in _deserialize\n",
    "    res = _proto2object(proto=blob)\n",
    "  File \"/app/syft/src/syft/lib/python/dict.py\", line 239, in _proto2object\n",
    "    for element in proto.values\n",
    "  File \"/app/syft/src/syft/lib/python/dict.py\", line 239, in <listcomp>\n",
    "    for element in proto.values\n",
    "  File \"/app/syft/src/syft/core/common/serde/deserialize.py\", line 62, in _deserialize\n",
    "    obj_type = index_syft_by_module_name(fully_qualified_name=data_message.obj_type)\n",
    "  File \"/app/syft/src/syft/util.py\", line 123, in index_syft_by_module_name\n",
    "    return index_modules(a_dict=globals()[\"syft\"], keys=attr_list[1:])\n",
    "  File \"/app/syft/src/syft/util.py\", line 87, in index_modules\n",
    "    return index_modules(a_dict=a_dict.__dict__[keys[0]], keys=keys[1:])\n",
    "  File \"/app/syft/src/syft/util.py\", line 87, in index_modules\n",
    "    return index_modules(a_dict=a_dict.__dict__[keys[0]], keys=keys[1:])\n",
    "  File \"/app/syft/src/syft/util.py\", line 87, in index_modules\n",
    "    return index_modules(a_dict=a_dict.__dict__[keys[0]], keys=keys[1:])\n",
    "KeyError: 'autodp'\n",
    "[2021-08-09 19:20:11,214: INFO/MainProcess] Received task: app.worker.msg_without_reply[5e66d116-fc32-482b-b535-c2d6178a9e1c]\n",
    "[2021-08-09 19:20:11,357: ERROR/ForkPoolWorker-1] Task app.worker.msg_without_reply[5e66d116-fc32-482b-b535-c2d6178a9e1c] raised unexpected: KeyError('autograd')\n",
    "Traceback (most recent call last):\n",
    "  File \"/usr/local/lib/python3.7/site-packages/celery/app/trace.py\", line 412, in trace_task\n",
    "    R = retval = fun(*args, **kwargs)\n",
    "  File \"/usr/local/lib/python3.7/site-packages/celery/app/trace.py\", line 704, in __protected_call__\n",
    "    return self.run(*args, **kwargs)\n",
    "  File \"/app/app/worker.py\", line 20, in msg_without_reply\n",
    "    obj_msg = deserialize(blob=msg_bytes, from_bytes=True)\n",
    "  File \"/app/syft/src/syft/core/common/serde/deserialize.py\", line 132, in _deserialize\n",
    "    res = _proto2object(proto=blob)\n",
    "  File \"/app/syft/src/syft/core/common/message.py\", line 183, in _proto2object\n",
    "    _deserialize(blob=proto.message, from_bytes=True), SyftMessage\n",
    "  File \"/app/syft/src/syft/core/common/serde/deserialize.py\", line 132, in _deserialize\n",
    "    res = _proto2object(proto=blob)\n",
    "  File \"/app/syft/src/syft/core/node/common/action/save_object_action.py\", line 59, in _proto2object\n",
    "    obj = _deserialize(blob=proto.obj)\n",
    "  File \"/app/syft/src/syft/core/common/serde/deserialize.py\", line 132, in _deserialize\n",
    "    res = _proto2object(proto=blob)\n",
    "  File \"/app/syft/src/syft/core/store/storeable_object.py\", line 185, in _proto2object\n",
    "    data = data_type._proto2object(proto=data)  # type: ignore\n",
    "  File \"/app/syft/src/syft/core/common/serde/recursive.py\", line 53, in _proto2object\n",
    "    attrs = dict(deserialize(proto.data, from_bytes=True))\n",
    "  File \"/app/syft/src/syft/core/common/serde/deserialize.py\", line 132, in _deserialize\n",
    "    res = _proto2object(proto=blob)\n",
    "  File \"/app/syft/src/syft/lib/python/dict.py\", line 239, in _proto2object\n",
    "    for element in proto.values\n",
    "  File \"/app/syft/src/syft/lib/python/dict.py\", line 239, in <listcomp>\n",
    "    for element in proto.values\n",
    "  File \"/app/syft/src/syft/core/common/serde/deserialize.py\", line 62, in _deserialize\n",
    "    obj_type = index_syft_by_module_name(fully_qualified_name=data_message.obj_type)\n",
    "  File \"/app/syft/src/syft/util.py\", line 123, in index_syft_by_module_name\n",
    "    return index_modules(a_dict=globals()[\"syft\"], keys=attr_list[1:])\n",
    "  File \"/app/syft/src/syft/util.py\", line 87, in index_modules\n",
    "    return index_modules(a_dict=a_dict.__dict__[keys[0]], keys=keys[1:])\n",
    "  File \"/app/syft/src/syft/util.py\", line 87, in index_modules\n",
    "    return index_modules(a_dict=a_dict.__dict__[keys[0]], keys=keys[1:])\n",
    "  File \"/app/syft/src/syft/util.py\", line 87, in index_modules\n",
    "    return index_modules(a_dict=a_dict.__dict__[keys[0]], keys=keys[1:])\n",
    "KeyError: 'autograd'"
   ]
  },
  {
   "cell_type": "markdown",
   "id": "c27b9eef-56ae-4703-aa1b-5a50ee1dbe9f",
   "metadata": {},
   "source": [
    "## The code in question"
   ]
  },
  {
   "cell_type": "code",
   "execution_count": null,
   "id": "65b36651-9d27-4a89-92c0-36d3dadc5f65",
   "metadata": {},
   "outputs": [],
   "source": [
    "def index_modules(a_dict: object, keys: List[str]) -> object:\n",
    "    \"\"\"Recursively find a syft module from its path\n",
    "\n",
    "    This is the recursive inner function of index_syft_by_module_name.\n",
    "    See that method for a full description.\n",
    "\n",
    "    Args:\n",
    "        a_dict: a module we're traversing\n",
    "        keys: the list of string attributes we're using to traverse the module\n",
    "\n",
    "    Returns:\n",
    "        a reference to the final object\n",
    "\n",
    "    \"\"\"\n",
    "\n",
    "    if len(keys) == 0:\n",
    "        return a_dict\n",
    "    return index_modules(a_dict=a_dict.__dict__[keys[0]], keys=keys[1:])\n",
    "\n",
    "def index_syft_by_module_name(fully_qualified_name: str) -> object:\n",
    "    \"\"\"Look up a Syft class/module/function from full path and name\n",
    "\n",
    "    Sometimes we want to use the fully qualified name (such as one\n",
    "    generated from the 'get_fully_qualified_name' method below) to\n",
    "    fetch an actual reference. This is most commonly used in deserialization\n",
    "    so that we can have generic protobuf objects which just have a string\n",
    "    representation of the specific object it is meant to deserialize to.\n",
    "\n",
    "    Args:\n",
    "        fully_qualified_name: the name in str of a module, class, or function\n",
    "\n",
    "    Returns:\n",
    "        a reference to the actual object at that string path\n",
    "\n",
    "    \"\"\"\n",
    "    attr_list = fully_qualified_name.split(\".\")\n",
    "\n",
    "    # we deal with VerifyAll differently, because we don't it be imported and used by users\n",
    "    if attr_list[-1] == \"VerifyAll\":\n",
    "        return type(syft.core.common.group.VERIFYALL)\n",
    "\n",
    "    if attr_list[0] != \"syft\":\n",
    "        raise ReferenceError(f\"Reference don't match: {attr_list[0]}\")\n",
    "\n",
    "    if (\n",
    "        attr_list[1] != \"core\"\n",
    "        and attr_list[1] != \"lib\"\n",
    "        and attr_list[1] != \"grid\"\n",
    "        and attr_list[1] != \"wrappers\"\n",
    "    ):\n",
    "        raise ReferenceError(f\"Reference don't match: {attr_list[1]}\")\n",
    "\n",
    "    return index_modules(a_dict=globals()[\"syft\"], keys=attr_list[1:])"
   ]
  },
  {
   "cell_type": "code",
   "execution_count": 2,
   "id": "269f4f46-38f2-42ba-835f-68cf0256d7e0",
   "metadata": {},
   "outputs": [],
   "source": [
    "import syft as sy"
   ]
  },
  {
   "cell_type": "code",
   "execution_count": 4,
   "id": "19995c80-4bf4-4d13-831c-d64bc8513e7d",
   "metadata": {},
   "outputs": [],
   "source": [
    "import numpy as np\n",
    "\n",
    "ishan = sy.core.adp.entity.Entity(name='Ishan')\n",
    "data = np.random.rand(1, 3)\n",
    "private_tensor = sy.core.tensor.Tensor(data).private(0, 1, entity=ishan)"
   ]
  },
  {
   "cell_type": "code",
   "execution_count": 5,
   "id": "0544a2fd-855d-47ac-aceb-79abb29f3f5b",
   "metadata": {},
   "outputs": [
    {
     "name": "stdout",
     "output_type": "stream",
     "text": [
      "Connecting to http://localhost:8081... done! \t Logging into adp... done!\n"
     ]
    }
   ],
   "source": [
    "uk = sy.login(email=\"info@openmined.org\", password=\"changethis\", port=8081)"
   ]
  },
  {
   "cell_type": "code",
   "execution_count": 6,
   "id": "92ffe94d-f144-412c-af89-1946946ef4b2",
   "metadata": {},
   "outputs": [
    {
     "data": {
      "text/html": [
       "<div>\n",
       "<style scoped>\n",
       "    .dataframe tbody tr th:only-of-type {\n",
       "        vertical-align: middle;\n",
       "    }\n",
       "\n",
       "    .dataframe tbody tr th {\n",
       "        vertical-align: top;\n",
       "    }\n",
       "\n",
       "    .dataframe thead th {\n",
       "        text-align: right;\n",
       "    }\n",
       "</style>\n",
       "<table border=\"1\" class=\"dataframe\">\n",
       "  <thead>\n",
       "    <tr style=\"text-align: right;\">\n",
       "      <th></th>\n",
       "      <th>ID</th>\n",
       "      <th>Tags</th>\n",
       "      <th>Description</th>\n",
       "      <th>object_type</th>\n",
       "    </tr>\n",
       "  </thead>\n",
       "  <tbody>\n",
       "    <tr>\n",
       "      <th>0</th>\n",
       "      <td>&lt;UID: 747a85b4106a485fb09f6c6901a19cc0&gt;</td>\n",
       "      <td>[public_data]</td>\n",
       "      <td></td>\n",
       "      <td>&lt;class 'syft.core.tensor.tensor.Tensor'&gt;</td>\n",
       "    </tr>\n",
       "    <tr>\n",
       "      <th>1</th>\n",
       "      <td>&lt;UID: e86c4c64f64f4344850d6ae70a5dfefe&gt;</td>\n",
       "      <td>[data]</td>\n",
       "      <td></td>\n",
       "      <td>&lt;class 'syft.core.tensor.tensor.Tensor'&gt;</td>\n",
       "    </tr>\n",
       "    <tr>\n",
       "      <th>2</th>\n",
       "      <td>&lt;UID: 8dfb009ca0c649108e196657ab642fae&gt;</td>\n",
       "      <td>[target]</td>\n",
       "      <td></td>\n",
       "      <td>&lt;class 'syft.core.tensor.tensor.Tensor'&gt;</td>\n",
       "    </tr>\n",
       "    <tr>\n",
       "      <th>3</th>\n",
       "      <td>&lt;UID: 9e80b6b73bda40fcb58dee234529f320&gt;</td>\n",
       "      <td>[]</td>\n",
       "      <td></td>\n",
       "      <td>&lt;class 'syft.core.tensor.tensor.Tensor'&gt;</td>\n",
       "    </tr>\n",
       "    <tr>\n",
       "      <th>4</th>\n",
       "      <td>&lt;UID: 78d41cb834a64e1a975d89afc6e16ac6&gt;</td>\n",
       "      <td>[basic]</td>\n",
       "      <td></td>\n",
       "      <td>&lt;class 'syft.core.tensor.tensor.Tensor'&gt;</td>\n",
       "    </tr>\n",
       "    <tr>\n",
       "      <th>5</th>\n",
       "      <td>&lt;UID: f73759e3025d4682a8bbe7905b8d1e36&gt;</td>\n",
       "      <td>[basic]</td>\n",
       "      <td></td>\n",
       "      <td>&lt;class 'syft.core.tensor.tensor.Tensor'&gt;</td>\n",
       "    </tr>\n",
       "    <tr>\n",
       "      <th>6</th>\n",
       "      <td>&lt;UID: 16ac150b5c8f48b2a8c96cc43cae0b89&gt;</td>\n",
       "      <td>[basic]</td>\n",
       "      <td></td>\n",
       "      <td>&lt;class 'syft.core.tensor.tensor.Tensor'&gt;</td>\n",
       "    </tr>\n",
       "  </tbody>\n",
       "</table>\n",
       "</div>"
      ],
      "text/plain": [
       "                                        ID           Tags Description  \\\n",
       "0  <UID: 747a85b4106a485fb09f6c6901a19cc0>  [public_data]               \n",
       "1  <UID: e86c4c64f64f4344850d6ae70a5dfefe>         [data]               \n",
       "2  <UID: 8dfb009ca0c649108e196657ab642fae>       [target]               \n",
       "3  <UID: 9e80b6b73bda40fcb58dee234529f320>             []               \n",
       "4  <UID: 78d41cb834a64e1a975d89afc6e16ac6>        [basic]               \n",
       "5  <UID: f73759e3025d4682a8bbe7905b8d1e36>        [basic]               \n",
       "6  <UID: 16ac150b5c8f48b2a8c96cc43cae0b89>        [basic]               \n",
       "\n",
       "                                object_type  \n",
       "0  <class 'syft.core.tensor.tensor.Tensor'>  \n",
       "1  <class 'syft.core.tensor.tensor.Tensor'>  \n",
       "2  <class 'syft.core.tensor.tensor.Tensor'>  \n",
       "3  <class 'syft.core.tensor.tensor.Tensor'>  \n",
       "4  <class 'syft.core.tensor.tensor.Tensor'>  \n",
       "5  <class 'syft.core.tensor.tensor.Tensor'>  \n",
       "6  <class 'syft.core.tensor.tensor.Tensor'>  "
      ]
     },
     "execution_count": 6,
     "metadata": {},
     "output_type": "execute_result"
    }
   ],
   "source": [
    "uk.store.pandas"
   ]
  },
  {
   "cell_type": "code",
   "execution_count": 7,
   "id": "d909e48b-9e35-490f-aef9-9260d6027e83",
   "metadata": {},
   "outputs": [
    {
     "name": "stdout",
     "output_type": "stream",
     "text": [
      "<UID: 0a141b20f3ca4fb49db19c754d2cb1b6>\n"
     ]
    }
   ],
   "source": [
    "private_ptr = private_tensor.send(uk)\n",
    "print(private_ptr.id_at_location)"
   ]
  },
  {
   "cell_type": "code",
   "execution_count": 8,
   "id": "a1acb210-ddbc-411e-bba4-e18c453d22d8",
   "metadata": {},
   "outputs": [
    {
     "data": {
      "text/html": [
       "<div>\n",
       "<style scoped>\n",
       "    .dataframe tbody tr th:only-of-type {\n",
       "        vertical-align: middle;\n",
       "    }\n",
       "\n",
       "    .dataframe tbody tr th {\n",
       "        vertical-align: top;\n",
       "    }\n",
       "\n",
       "    .dataframe thead th {\n",
       "        text-align: right;\n",
       "    }\n",
       "</style>\n",
       "<table border=\"1\" class=\"dataframe\">\n",
       "  <thead>\n",
       "    <tr style=\"text-align: right;\">\n",
       "      <th></th>\n",
       "      <th>ID</th>\n",
       "      <th>Tags</th>\n",
       "      <th>Description</th>\n",
       "      <th>object_type</th>\n",
       "    </tr>\n",
       "  </thead>\n",
       "  <tbody>\n",
       "    <tr>\n",
       "      <th>0</th>\n",
       "      <td>&lt;UID: 747a85b4106a485fb09f6c6901a19cc0&gt;</td>\n",
       "      <td>[public_data]</td>\n",
       "      <td></td>\n",
       "      <td>&lt;class 'syft.core.tensor.tensor.Tensor'&gt;</td>\n",
       "    </tr>\n",
       "    <tr>\n",
       "      <th>1</th>\n",
       "      <td>&lt;UID: e86c4c64f64f4344850d6ae70a5dfefe&gt;</td>\n",
       "      <td>[data]</td>\n",
       "      <td></td>\n",
       "      <td>&lt;class 'syft.core.tensor.tensor.Tensor'&gt;</td>\n",
       "    </tr>\n",
       "    <tr>\n",
       "      <th>2</th>\n",
       "      <td>&lt;UID: 8dfb009ca0c649108e196657ab642fae&gt;</td>\n",
       "      <td>[target]</td>\n",
       "      <td></td>\n",
       "      <td>&lt;class 'syft.core.tensor.tensor.Tensor'&gt;</td>\n",
       "    </tr>\n",
       "    <tr>\n",
       "      <th>3</th>\n",
       "      <td>&lt;UID: 9e80b6b73bda40fcb58dee234529f320&gt;</td>\n",
       "      <td>[]</td>\n",
       "      <td></td>\n",
       "      <td>&lt;class 'syft.core.tensor.tensor.Tensor'&gt;</td>\n",
       "    </tr>\n",
       "    <tr>\n",
       "      <th>4</th>\n",
       "      <td>&lt;UID: 78d41cb834a64e1a975d89afc6e16ac6&gt;</td>\n",
       "      <td>[basic]</td>\n",
       "      <td></td>\n",
       "      <td>&lt;class 'syft.core.tensor.tensor.Tensor'&gt;</td>\n",
       "    </tr>\n",
       "    <tr>\n",
       "      <th>5</th>\n",
       "      <td>&lt;UID: f73759e3025d4682a8bbe7905b8d1e36&gt;</td>\n",
       "      <td>[basic]</td>\n",
       "      <td></td>\n",
       "      <td>&lt;class 'syft.core.tensor.tensor.Tensor'&gt;</td>\n",
       "    </tr>\n",
       "    <tr>\n",
       "      <th>6</th>\n",
       "      <td>&lt;UID: 16ac150b5c8f48b2a8c96cc43cae0b89&gt;</td>\n",
       "      <td>[basic]</td>\n",
       "      <td></td>\n",
       "      <td>&lt;class 'syft.core.tensor.tensor.Tensor'&gt;</td>\n",
       "    </tr>\n",
       "  </tbody>\n",
       "</table>\n",
       "</div>"
      ],
      "text/plain": [
       "                                        ID           Tags Description  \\\n",
       "0  <UID: 747a85b4106a485fb09f6c6901a19cc0>  [public_data]               \n",
       "1  <UID: e86c4c64f64f4344850d6ae70a5dfefe>         [data]               \n",
       "2  <UID: 8dfb009ca0c649108e196657ab642fae>       [target]               \n",
       "3  <UID: 9e80b6b73bda40fcb58dee234529f320>             []               \n",
       "4  <UID: 78d41cb834a64e1a975d89afc6e16ac6>        [basic]               \n",
       "5  <UID: f73759e3025d4682a8bbe7905b8d1e36>        [basic]               \n",
       "6  <UID: 16ac150b5c8f48b2a8c96cc43cae0b89>        [basic]               \n",
       "\n",
       "                                object_type  \n",
       "0  <class 'syft.core.tensor.tensor.Tensor'>  \n",
       "1  <class 'syft.core.tensor.tensor.Tensor'>  \n",
       "2  <class 'syft.core.tensor.tensor.Tensor'>  \n",
       "3  <class 'syft.core.tensor.tensor.Tensor'>  \n",
       "4  <class 'syft.core.tensor.tensor.Tensor'>  \n",
       "5  <class 'syft.core.tensor.tensor.Tensor'>  \n",
       "6  <class 'syft.core.tensor.tensor.Tensor'>  "
      ]
     },
     "execution_count": 8,
     "metadata": {},
     "output_type": "execute_result"
    }
   ],
   "source": [
    "uk.store.pandas"
   ]
  },
  {
   "cell_type": "code",
   "execution_count": 10,
   "id": "c5a453bc-e717-4796-9177-407233c9393e",
   "metadata": {},
   "outputs": [],
   "source": [
    "autograd_tensor = sy.Tensor(data).autograd(requires_grad=True)"
   ]
  },
  {
   "cell_type": "code",
   "execution_count": 11,
   "id": "e0e855e7-8043-4e10-8c73-74c50f599541",
   "metadata": {},
   "outputs": [
    {
     "data": {
      "text/plain": [
       "Tensor(child=AutogradTensor(child=[[0.99739723 0.33187595 0.48598055]]))"
      ]
     },
     "execution_count": 11,
     "metadata": {},
     "output_type": "execute_result"
    }
   ],
   "source": [
    "autograd_tensor"
   ]
  },
  {
   "cell_type": "code",
   "execution_count": 12,
   "id": "f4084b9e-e5f6-4040-81af-4146d8c4c098",
   "metadata": {},
   "outputs": [
    {
     "name": "stderr",
     "output_type": "stream",
     "text": [
      "[2021-08-10T02:23:20.301797-0400][CRITICAL][logger]][26578] Object <class 'syft.core.tensor.autograd.backward_ops.transpose.TransposeOp'> is not serializable and has no _sy_serializable_wrapper_type\n"
     ]
    },
    {
     "ename": "Exception",
     "evalue": "Object <class 'syft.core.tensor.autograd.backward_ops.transpose.TransposeOp'> is not serializable and has no _sy_serializable_wrapper_type",
     "output_type": "error",
     "traceback": [
      "\u001b[0;31m---------------------------------------------------------------------------\u001b[0m",
      "\u001b[0;31mException\u001b[0m                                 Traceback (most recent call last)",
      "\u001b[0;32m/var/folders/cs/tql716257t32sb3kr5r9rbkc0000gn/T/ipykernel_26578/1777805898.py\u001b[0m in \u001b[0;36m<module>\u001b[0;34m\u001b[0m\n\u001b[0;32m----> 1\u001b[0;31m \u001b[0mautograd_ptr\u001b[0m \u001b[0;34m=\u001b[0m \u001b[0mautograd_tensor\u001b[0m\u001b[0;34m.\u001b[0m\u001b[0msend\u001b[0m\u001b[0;34m(\u001b[0m\u001b[0muk\u001b[0m\u001b[0;34m)\u001b[0m\u001b[0;34m\u001b[0m\u001b[0;34m\u001b[0m\u001b[0m\n\u001b[0m",
      "\u001b[0;32m~/PycharmProjects/PySyft/packages/syft/src/syft/ast/klass.py\u001b[0m in \u001b[0;36msend\u001b[0;34m(self, client, pointable, description, tags, searchable)\u001b[0m\n\u001b[1;32m    732\u001b[0m \u001b[0;34m\u001b[0m\u001b[0m\n\u001b[1;32m    733\u001b[0m             \u001b[0;31m# Step 3: send message\u001b[0m\u001b[0;34m\u001b[0m\u001b[0;34m\u001b[0m\u001b[0;34m\u001b[0m\u001b[0m\n\u001b[0;32m--> 734\u001b[0;31m             \u001b[0mclient\u001b[0m\u001b[0;34m.\u001b[0m\u001b[0msend_immediate_msg_without_reply\u001b[0m\u001b[0;34m(\u001b[0m\u001b[0mmsg\u001b[0m\u001b[0;34m=\u001b[0m\u001b[0mobj_msg\u001b[0m\u001b[0;34m)\u001b[0m\u001b[0;34m\u001b[0m\u001b[0;34m\u001b[0m\u001b[0m\n\u001b[0m\u001b[1;32m    735\u001b[0m \u001b[0;34m\u001b[0m\u001b[0m\n\u001b[1;32m    736\u001b[0m             \u001b[0;31m# Step 4: return pointer\u001b[0m\u001b[0;34m\u001b[0m\u001b[0;34m\u001b[0m\u001b[0;34m\u001b[0m\u001b[0m\n",
      "\u001b[0;32m~/PycharmProjects/PySyft/packages/syft/src/syft/core/node/common/client.py\u001b[0m in \u001b[0;36msend_immediate_msg_without_reply\u001b[0;34m(self, msg, route_index)\u001b[0m\n\u001b[1;32m    266\u001b[0m             )\n\u001b[1;32m    267\u001b[0m             \u001b[0mdebug\u001b[0m\u001b[0;34m(\u001b[0m\u001b[0moutput\u001b[0m\u001b[0;34m)\u001b[0m\u001b[0;34m\u001b[0m\u001b[0;34m\u001b[0m\u001b[0m\n\u001b[0;32m--> 268\u001b[0;31m             \u001b[0mmsg\u001b[0m \u001b[0;34m=\u001b[0m \u001b[0mmsg\u001b[0m\u001b[0;34m.\u001b[0m\u001b[0msign\u001b[0m\u001b[0;34m(\u001b[0m\u001b[0msigning_key\u001b[0m\u001b[0;34m=\u001b[0m\u001b[0mself\u001b[0m\u001b[0;34m.\u001b[0m\u001b[0msigning_key\u001b[0m\u001b[0;34m)\u001b[0m\u001b[0;34m\u001b[0m\u001b[0;34m\u001b[0m\u001b[0m\n\u001b[0m\u001b[1;32m    269\u001b[0m         \u001b[0mdebug\u001b[0m\u001b[0;34m(\u001b[0m\u001b[0;34mf\"> Sending {msg.pprint} {self.pprint} ➡️  {msg.address.pprint}\"\u001b[0m\u001b[0;34m)\u001b[0m\u001b[0;34m\u001b[0m\u001b[0;34m\u001b[0m\u001b[0m\n\u001b[1;32m    270\u001b[0m         \u001b[0mself\u001b[0m\u001b[0;34m.\u001b[0m\u001b[0mroutes\u001b[0m\u001b[0;34m[\u001b[0m\u001b[0mroute_index\u001b[0m\u001b[0;34m]\u001b[0m\u001b[0;34m.\u001b[0m\u001b[0msend_immediate_msg_without_reply\u001b[0m\u001b[0;34m(\u001b[0m\u001b[0mmsg\u001b[0m\u001b[0;34m=\u001b[0m\u001b[0mmsg\u001b[0m\u001b[0;34m)\u001b[0m\u001b[0;34m\u001b[0m\u001b[0;34m\u001b[0m\u001b[0m\n",
      "\u001b[0;32m~/PycharmProjects/PySyft/packages/syft/src/syft/core/common/message.py\u001b[0m in \u001b[0;36msign\u001b[0;34m(self, signing_key)\u001b[0m\n\u001b[1;32m     89\u001b[0m         \"\"\"\n\u001b[1;32m     90\u001b[0m         \u001b[0mdebug\u001b[0m\u001b[0;34m(\u001b[0m\u001b[0;34mf\"> Signing with {self.address.key_emoji(key=signing_key.verify_key)}\"\u001b[0m\u001b[0;34m)\u001b[0m\u001b[0;34m\u001b[0m\u001b[0;34m\u001b[0m\u001b[0m\n\u001b[0;32m---> 91\u001b[0;31m         \u001b[0msigned_message\u001b[0m \u001b[0;34m=\u001b[0m \u001b[0msigning_key\u001b[0m\u001b[0;34m.\u001b[0m\u001b[0msign\u001b[0m\u001b[0;34m(\u001b[0m\u001b[0mserialize\u001b[0m\u001b[0;34m(\u001b[0m\u001b[0mself\u001b[0m\u001b[0;34m,\u001b[0m \u001b[0mto_bytes\u001b[0m\u001b[0;34m=\u001b[0m\u001b[0;32mTrue\u001b[0m\u001b[0;34m)\u001b[0m\u001b[0;34m)\u001b[0m\u001b[0;34m\u001b[0m\u001b[0;34m\u001b[0m\u001b[0m\n\u001b[0m\u001b[1;32m     92\u001b[0m \u001b[0;34m\u001b[0m\u001b[0m\n\u001b[1;32m     93\u001b[0m         \u001b[0;31m# signed_type will be the final subclass callee's closest parent signed_type\u001b[0m\u001b[0;34m\u001b[0m\u001b[0;34m\u001b[0m\u001b[0;34m\u001b[0m\u001b[0m\n",
      "\u001b[0;32m~/PycharmProjects/PySyft/packages/syft/src/syft/core/common/serde/serialize.py\u001b[0m in \u001b[0;36m_serialize\u001b[0;34m(obj, to_proto, to_bytes)\u001b[0m\n\u001b[1;32m     78\u001b[0m         \u001b[0;31m# indent=None means no white space or \\n in the serialized version\u001b[0m\u001b[0;34m\u001b[0m\u001b[0;34m\u001b[0m\u001b[0;34m\u001b[0m\u001b[0m\n\u001b[1;32m     79\u001b[0m         \u001b[0;31m# this is compatible with json.dumps(x, indent=None)\u001b[0m\u001b[0;34m\u001b[0m\u001b[0;34m\u001b[0m\u001b[0;34m\u001b[0m\u001b[0m\n\u001b[0;32m---> 80\u001b[0;31m         \u001b[0mserialized_data\u001b[0m \u001b[0;34m=\u001b[0m \u001b[0mis_serializable\u001b[0m\u001b[0;34m.\u001b[0m\u001b[0m_object2proto\u001b[0m\u001b[0;34m(\u001b[0m\u001b[0;34m)\u001b[0m\u001b[0;34m.\u001b[0m\u001b[0mSerializeToString\u001b[0m\u001b[0;34m(\u001b[0m\u001b[0;34m)\u001b[0m\u001b[0;34m\u001b[0m\u001b[0;34m\u001b[0m\u001b[0m\n\u001b[0m\u001b[1;32m     81\u001b[0m         blob: Message = DataMessage(\n\u001b[1;32m     82\u001b[0m             \u001b[0mobj_type\u001b[0m\u001b[0;34m=\u001b[0m\u001b[0mget_fully_qualified_name\u001b[0m\u001b[0;34m(\u001b[0m\u001b[0mobj\u001b[0m\u001b[0;34m=\u001b[0m\u001b[0mis_serializable\u001b[0m\u001b[0;34m)\u001b[0m\u001b[0;34m,\u001b[0m\u001b[0;34m\u001b[0m\u001b[0;34m\u001b[0m\u001b[0m\n",
      "\u001b[0;32m~/PycharmProjects/PySyft/packages/syft/src/syft/core/node/common/action/save_object_action.py\u001b[0m in \u001b[0;36m_object2proto\u001b[0;34m(self)\u001b[0m\n\u001b[1;32m     51\u001b[0m \u001b[0;34m\u001b[0m\u001b[0m\n\u001b[1;32m     52\u001b[0m     \u001b[0;32mdef\u001b[0m \u001b[0m_object2proto\u001b[0m\u001b[0;34m(\u001b[0m\u001b[0mself\u001b[0m\u001b[0;34m)\u001b[0m \u001b[0;34m->\u001b[0m \u001b[0mSaveObjectAction_PB\u001b[0m\u001b[0;34m:\u001b[0m\u001b[0;34m\u001b[0m\u001b[0;34m\u001b[0m\u001b[0m\n\u001b[0;32m---> 53\u001b[0;31m         \u001b[0mobj\u001b[0m \u001b[0;34m=\u001b[0m \u001b[0mself\u001b[0m\u001b[0;34m.\u001b[0m\u001b[0mobj\u001b[0m\u001b[0;34m.\u001b[0m\u001b[0m_object2proto\u001b[0m\u001b[0;34m(\u001b[0m\u001b[0;34m)\u001b[0m\u001b[0;34m\u001b[0m\u001b[0;34m\u001b[0m\u001b[0m\n\u001b[0m\u001b[1;32m     54\u001b[0m         \u001b[0maddr\u001b[0m \u001b[0;34m=\u001b[0m \u001b[0mserialize\u001b[0m\u001b[0;34m(\u001b[0m\u001b[0mself\u001b[0m\u001b[0;34m.\u001b[0m\u001b[0maddress\u001b[0m\u001b[0;34m)\u001b[0m\u001b[0;34m\u001b[0m\u001b[0;34m\u001b[0m\u001b[0m\n\u001b[1;32m     55\u001b[0m         \u001b[0;32mreturn\u001b[0m \u001b[0mSaveObjectAction_PB\u001b[0m\u001b[0;34m(\u001b[0m\u001b[0mobj\u001b[0m\u001b[0;34m=\u001b[0m\u001b[0mobj\u001b[0m\u001b[0;34m,\u001b[0m \u001b[0maddress\u001b[0m\u001b[0;34m=\u001b[0m\u001b[0maddr\u001b[0m\u001b[0;34m)\u001b[0m\u001b[0;34m\u001b[0m\u001b[0;34m\u001b[0m\u001b[0m\n",
      "\u001b[0;32m~/PycharmProjects/PySyft/packages/syft/src/syft/core/store/storeable_object.py\u001b[0m in \u001b[0;36m_object2proto\u001b[0;34m(self)\u001b[0m\n\u001b[1;32m    131\u001b[0m \u001b[0;34m\u001b[0m\u001b[0m\n\u001b[1;32m    132\u001b[0m         \u001b[0;31m# Step 3: Serialize data to protobuf and pack into proto\u001b[0m\u001b[0;34m\u001b[0m\u001b[0;34m\u001b[0m\u001b[0;34m\u001b[0m\u001b[0m\n\u001b[0;32m--> 133\u001b[0;31m         \u001b[0mdata\u001b[0m \u001b[0;34m=\u001b[0m \u001b[0mself\u001b[0m\u001b[0;34m.\u001b[0m\u001b[0m_data\u001b[0m\u001b[0;34m.\u001b[0m\u001b[0m_object2proto\u001b[0m\u001b[0;34m(\u001b[0m\u001b[0;34m)\u001b[0m\u001b[0;34m\u001b[0m\u001b[0;34m\u001b[0m\u001b[0m\n\u001b[0m\u001b[1;32m    134\u001b[0m \u001b[0;34m\u001b[0m\u001b[0m\n\u001b[1;32m    135\u001b[0m         \u001b[0mproto\u001b[0m\u001b[0;34m.\u001b[0m\u001b[0mdata\u001b[0m\u001b[0;34m.\u001b[0m\u001b[0mPack\u001b[0m\u001b[0;34m(\u001b[0m\u001b[0mdata\u001b[0m\u001b[0;34m)\u001b[0m\u001b[0;34m\u001b[0m\u001b[0;34m\u001b[0m\u001b[0m\n",
      "\u001b[0;32m~/PycharmProjects/PySyft/packages/syft/src/syft/core/common/serde/recursive.py\u001b[0m in \u001b[0;36m_object2proto\u001b[0;34m(self)\u001b[0m\n\u001b[1;32m     44\u001b[0m \u001b[0;34m\u001b[0m\u001b[0m\n\u001b[1;32m     45\u001b[0m         return RecursiveSerde_PB(\n\u001b[0;32m---> 46\u001b[0;31m             \u001b[0mdata\u001b[0m\u001b[0;34m=\u001b[0m\u001b[0mserialize\u001b[0m\u001b[0;34m(\u001b[0m\u001b[0mDict\u001b[0m\u001b[0;34m(\u001b[0m\u001b[0mattrs\u001b[0m\u001b[0;34m)\u001b[0m\u001b[0;34m,\u001b[0m \u001b[0mto_bytes\u001b[0m\u001b[0;34m=\u001b[0m\u001b[0;32mTrue\u001b[0m\u001b[0;34m)\u001b[0m\u001b[0;34m,\u001b[0m\u001b[0;34m\u001b[0m\u001b[0;34m\u001b[0m\u001b[0m\n\u001b[0m\u001b[1;32m     47\u001b[0m             \u001b[0mfully_qualified_name\u001b[0m\u001b[0;34m=\u001b[0m\u001b[0mget_fully_qualified_name\u001b[0m\u001b[0;34m(\u001b[0m\u001b[0mself\u001b[0m\u001b[0;34m)\u001b[0m\u001b[0;34m,\u001b[0m\u001b[0;34m\u001b[0m\u001b[0;34m\u001b[0m\u001b[0m\n\u001b[1;32m     48\u001b[0m         )\n",
      "\u001b[0;32m~/PycharmProjects/PySyft/packages/syft/src/syft/core/common/serde/serialize.py\u001b[0m in \u001b[0;36m_serialize\u001b[0;34m(obj, to_proto, to_bytes)\u001b[0m\n\u001b[1;32m     78\u001b[0m         \u001b[0;31m# indent=None means no white space or \\n in the serialized version\u001b[0m\u001b[0;34m\u001b[0m\u001b[0;34m\u001b[0m\u001b[0;34m\u001b[0m\u001b[0m\n\u001b[1;32m     79\u001b[0m         \u001b[0;31m# this is compatible with json.dumps(x, indent=None)\u001b[0m\u001b[0;34m\u001b[0m\u001b[0;34m\u001b[0m\u001b[0;34m\u001b[0m\u001b[0m\n\u001b[0;32m---> 80\u001b[0;31m         \u001b[0mserialized_data\u001b[0m \u001b[0;34m=\u001b[0m \u001b[0mis_serializable\u001b[0m\u001b[0;34m.\u001b[0m\u001b[0m_object2proto\u001b[0m\u001b[0;34m(\u001b[0m\u001b[0;34m)\u001b[0m\u001b[0;34m.\u001b[0m\u001b[0mSerializeToString\u001b[0m\u001b[0;34m(\u001b[0m\u001b[0;34m)\u001b[0m\u001b[0;34m\u001b[0m\u001b[0;34m\u001b[0m\u001b[0m\n\u001b[0m\u001b[1;32m     81\u001b[0m         blob: Message = DataMessage(\n\u001b[1;32m     82\u001b[0m             \u001b[0mobj_type\u001b[0m\u001b[0;34m=\u001b[0m\u001b[0mget_fully_qualified_name\u001b[0m\u001b[0;34m(\u001b[0m\u001b[0mobj\u001b[0m\u001b[0;34m=\u001b[0m\u001b[0mis_serializable\u001b[0m\u001b[0;34m)\u001b[0m\u001b[0;34m,\u001b[0m\u001b[0;34m\u001b[0m\u001b[0;34m\u001b[0m\u001b[0m\n",
      "\u001b[0;32m~/PycharmProjects/PySyft/packages/syft/src/syft/lib/python/dict.py\u001b[0m in \u001b[0;36m_object2proto\u001b[0;34m(self)\u001b[0m\n\u001b[1;32m    214\u001b[0m         ]\n\u001b[1;32m    215\u001b[0m \u001b[0;34m\u001b[0m\u001b[0m\n\u001b[0;32m--> 216\u001b[0;31m         values = [\n\u001b[0m\u001b[1;32m    217\u001b[0m             \u001b[0mserialize\u001b[0m\u001b[0;34m(\u001b[0m\u001b[0mobj\u001b[0m\u001b[0;34m=\u001b[0m\u001b[0mdowncast\u001b[0m\u001b[0;34m(\u001b[0m\u001b[0mvalue\u001b[0m\u001b[0;34m=\u001b[0m\u001b[0melement\u001b[0m\u001b[0;34m)\u001b[0m\u001b[0;34m,\u001b[0m \u001b[0mto_bytes\u001b[0m\u001b[0;34m=\u001b[0m\u001b[0;32mTrue\u001b[0m\u001b[0;34m)\u001b[0m\u001b[0;34m\u001b[0m\u001b[0;34m\u001b[0m\u001b[0m\n\u001b[1;32m    218\u001b[0m             \u001b[0;32mfor\u001b[0m \u001b[0melement\u001b[0m \u001b[0;32min\u001b[0m \u001b[0mself\u001b[0m\u001b[0;34m.\u001b[0m\u001b[0mdata\u001b[0m\u001b[0;34m.\u001b[0m\u001b[0mvalues\u001b[0m\u001b[0;34m(\u001b[0m\u001b[0;34m)\u001b[0m\u001b[0;34m\u001b[0m\u001b[0;34m\u001b[0m\u001b[0m\n",
      "\u001b[0;32m~/PycharmProjects/PySyft/packages/syft/src/syft/lib/python/dict.py\u001b[0m in \u001b[0;36m<listcomp>\u001b[0;34m(.0)\u001b[0m\n\u001b[1;32m    215\u001b[0m \u001b[0;34m\u001b[0m\u001b[0m\n\u001b[1;32m    216\u001b[0m         values = [\n\u001b[0;32m--> 217\u001b[0;31m             \u001b[0mserialize\u001b[0m\u001b[0;34m(\u001b[0m\u001b[0mobj\u001b[0m\u001b[0;34m=\u001b[0m\u001b[0mdowncast\u001b[0m\u001b[0;34m(\u001b[0m\u001b[0mvalue\u001b[0m\u001b[0;34m=\u001b[0m\u001b[0melement\u001b[0m\u001b[0;34m)\u001b[0m\u001b[0;34m,\u001b[0m \u001b[0mto_bytes\u001b[0m\u001b[0;34m=\u001b[0m\u001b[0;32mTrue\u001b[0m\u001b[0;34m)\u001b[0m\u001b[0;34m\u001b[0m\u001b[0;34m\u001b[0m\u001b[0m\n\u001b[0m\u001b[1;32m    218\u001b[0m             \u001b[0;32mfor\u001b[0m \u001b[0melement\u001b[0m \u001b[0;32min\u001b[0m \u001b[0mself\u001b[0m\u001b[0;34m.\u001b[0m\u001b[0mdata\u001b[0m\u001b[0;34m.\u001b[0m\u001b[0mvalues\u001b[0m\u001b[0;34m(\u001b[0m\u001b[0;34m)\u001b[0m\u001b[0;34m\u001b[0m\u001b[0;34m\u001b[0m\u001b[0m\n\u001b[1;32m    219\u001b[0m         ]\n",
      "\u001b[0;32m~/PycharmProjects/PySyft/packages/syft/src/syft/core/common/serde/serialize.py\u001b[0m in \u001b[0;36m_serialize\u001b[0;34m(obj, to_proto, to_bytes)\u001b[0m\n\u001b[1;32m     78\u001b[0m         \u001b[0;31m# indent=None means no white space or \\n in the serialized version\u001b[0m\u001b[0;34m\u001b[0m\u001b[0;34m\u001b[0m\u001b[0;34m\u001b[0m\u001b[0m\n\u001b[1;32m     79\u001b[0m         \u001b[0;31m# this is compatible with json.dumps(x, indent=None)\u001b[0m\u001b[0;34m\u001b[0m\u001b[0;34m\u001b[0m\u001b[0;34m\u001b[0m\u001b[0m\n\u001b[0;32m---> 80\u001b[0;31m         \u001b[0mserialized_data\u001b[0m \u001b[0;34m=\u001b[0m \u001b[0mis_serializable\u001b[0m\u001b[0;34m.\u001b[0m\u001b[0m_object2proto\u001b[0m\u001b[0;34m(\u001b[0m\u001b[0;34m)\u001b[0m\u001b[0;34m.\u001b[0m\u001b[0mSerializeToString\u001b[0m\u001b[0;34m(\u001b[0m\u001b[0;34m)\u001b[0m\u001b[0;34m\u001b[0m\u001b[0;34m\u001b[0m\u001b[0m\n\u001b[0m\u001b[1;32m     81\u001b[0m         blob: Message = DataMessage(\n\u001b[1;32m     82\u001b[0m             \u001b[0mobj_type\u001b[0m\u001b[0;34m=\u001b[0m\u001b[0mget_fully_qualified_name\u001b[0m\u001b[0;34m(\u001b[0m\u001b[0mobj\u001b[0m\u001b[0;34m=\u001b[0m\u001b[0mis_serializable\u001b[0m\u001b[0;34m)\u001b[0m\u001b[0;34m,\u001b[0m\u001b[0;34m\u001b[0m\u001b[0;34m\u001b[0m\u001b[0m\n",
      "\u001b[0;32m~/PycharmProjects/PySyft/packages/syft/src/syft/core/common/serde/recursive.py\u001b[0m in \u001b[0;36m_object2proto\u001b[0;34m(self)\u001b[0m\n\u001b[1;32m     44\u001b[0m \u001b[0;34m\u001b[0m\u001b[0m\n\u001b[1;32m     45\u001b[0m         return RecursiveSerde_PB(\n\u001b[0;32m---> 46\u001b[0;31m             \u001b[0mdata\u001b[0m\u001b[0;34m=\u001b[0m\u001b[0mserialize\u001b[0m\u001b[0;34m(\u001b[0m\u001b[0mDict\u001b[0m\u001b[0;34m(\u001b[0m\u001b[0mattrs\u001b[0m\u001b[0;34m)\u001b[0m\u001b[0;34m,\u001b[0m \u001b[0mto_bytes\u001b[0m\u001b[0;34m=\u001b[0m\u001b[0;32mTrue\u001b[0m\u001b[0;34m)\u001b[0m\u001b[0;34m,\u001b[0m\u001b[0;34m\u001b[0m\u001b[0;34m\u001b[0m\u001b[0m\n\u001b[0m\u001b[1;32m     47\u001b[0m             \u001b[0mfully_qualified_name\u001b[0m\u001b[0;34m=\u001b[0m\u001b[0mget_fully_qualified_name\u001b[0m\u001b[0;34m(\u001b[0m\u001b[0mself\u001b[0m\u001b[0;34m)\u001b[0m\u001b[0;34m,\u001b[0m\u001b[0;34m\u001b[0m\u001b[0;34m\u001b[0m\u001b[0m\n\u001b[1;32m     48\u001b[0m         )\n",
      "\u001b[0;32m~/PycharmProjects/PySyft/packages/syft/src/syft/core/common/serde/serialize.py\u001b[0m in \u001b[0;36m_serialize\u001b[0;34m(obj, to_proto, to_bytes)\u001b[0m\n\u001b[1;32m     78\u001b[0m         \u001b[0;31m# indent=None means no white space or \\n in the serialized version\u001b[0m\u001b[0;34m\u001b[0m\u001b[0;34m\u001b[0m\u001b[0;34m\u001b[0m\u001b[0m\n\u001b[1;32m     79\u001b[0m         \u001b[0;31m# this is compatible with json.dumps(x, indent=None)\u001b[0m\u001b[0;34m\u001b[0m\u001b[0;34m\u001b[0m\u001b[0;34m\u001b[0m\u001b[0m\n\u001b[0;32m---> 80\u001b[0;31m         \u001b[0mserialized_data\u001b[0m \u001b[0;34m=\u001b[0m \u001b[0mis_serializable\u001b[0m\u001b[0;34m.\u001b[0m\u001b[0m_object2proto\u001b[0m\u001b[0;34m(\u001b[0m\u001b[0;34m)\u001b[0m\u001b[0;34m.\u001b[0m\u001b[0mSerializeToString\u001b[0m\u001b[0;34m(\u001b[0m\u001b[0;34m)\u001b[0m\u001b[0;34m\u001b[0m\u001b[0;34m\u001b[0m\u001b[0m\n\u001b[0m\u001b[1;32m     81\u001b[0m         blob: Message = DataMessage(\n\u001b[1;32m     82\u001b[0m             \u001b[0mobj_type\u001b[0m\u001b[0;34m=\u001b[0m\u001b[0mget_fully_qualified_name\u001b[0m\u001b[0;34m(\u001b[0m\u001b[0mobj\u001b[0m\u001b[0;34m=\u001b[0m\u001b[0mis_serializable\u001b[0m\u001b[0;34m)\u001b[0m\u001b[0;34m,\u001b[0m\u001b[0;34m\u001b[0m\u001b[0;34m\u001b[0m\u001b[0m\n",
      "\u001b[0;32m~/PycharmProjects/PySyft/packages/syft/src/syft/lib/python/dict.py\u001b[0m in \u001b[0;36m_object2proto\u001b[0;34m(self)\u001b[0m\n\u001b[1;32m    214\u001b[0m         ]\n\u001b[1;32m    215\u001b[0m \u001b[0;34m\u001b[0m\u001b[0m\n\u001b[0;32m--> 216\u001b[0;31m         values = [\n\u001b[0m\u001b[1;32m    217\u001b[0m             \u001b[0mserialize\u001b[0m\u001b[0;34m(\u001b[0m\u001b[0mobj\u001b[0m\u001b[0;34m=\u001b[0m\u001b[0mdowncast\u001b[0m\u001b[0;34m(\u001b[0m\u001b[0mvalue\u001b[0m\u001b[0;34m=\u001b[0m\u001b[0melement\u001b[0m\u001b[0;34m)\u001b[0m\u001b[0;34m,\u001b[0m \u001b[0mto_bytes\u001b[0m\u001b[0;34m=\u001b[0m\u001b[0;32mTrue\u001b[0m\u001b[0;34m)\u001b[0m\u001b[0;34m\u001b[0m\u001b[0;34m\u001b[0m\u001b[0m\n\u001b[1;32m    218\u001b[0m             \u001b[0;32mfor\u001b[0m \u001b[0melement\u001b[0m \u001b[0;32min\u001b[0m \u001b[0mself\u001b[0m\u001b[0;34m.\u001b[0m\u001b[0mdata\u001b[0m\u001b[0;34m.\u001b[0m\u001b[0mvalues\u001b[0m\u001b[0;34m(\u001b[0m\u001b[0;34m)\u001b[0m\u001b[0;34m\u001b[0m\u001b[0;34m\u001b[0m\u001b[0m\n",
      "\u001b[0;32m~/PycharmProjects/PySyft/packages/syft/src/syft/lib/python/dict.py\u001b[0m in \u001b[0;36m<listcomp>\u001b[0;34m(.0)\u001b[0m\n\u001b[1;32m    215\u001b[0m \u001b[0;34m\u001b[0m\u001b[0m\n\u001b[1;32m    216\u001b[0m         values = [\n\u001b[0;32m--> 217\u001b[0;31m             \u001b[0mserialize\u001b[0m\u001b[0;34m(\u001b[0m\u001b[0mobj\u001b[0m\u001b[0;34m=\u001b[0m\u001b[0mdowncast\u001b[0m\u001b[0;34m(\u001b[0m\u001b[0mvalue\u001b[0m\u001b[0;34m=\u001b[0m\u001b[0melement\u001b[0m\u001b[0;34m)\u001b[0m\u001b[0;34m,\u001b[0m \u001b[0mto_bytes\u001b[0m\u001b[0;34m=\u001b[0m\u001b[0;32mTrue\u001b[0m\u001b[0;34m)\u001b[0m\u001b[0;34m\u001b[0m\u001b[0;34m\u001b[0m\u001b[0m\n\u001b[0m\u001b[1;32m    218\u001b[0m             \u001b[0;32mfor\u001b[0m \u001b[0melement\u001b[0m \u001b[0;32min\u001b[0m \u001b[0mself\u001b[0m\u001b[0;34m.\u001b[0m\u001b[0mdata\u001b[0m\u001b[0;34m.\u001b[0m\u001b[0mvalues\u001b[0m\u001b[0;34m(\u001b[0m\u001b[0;34m)\u001b[0m\u001b[0;34m\u001b[0m\u001b[0;34m\u001b[0m\u001b[0m\n\u001b[1;32m    219\u001b[0m         ]\n",
      "\u001b[0;32m~/PycharmProjects/PySyft/packages/syft/src/syft/core/common/serde/serialize.py\u001b[0m in \u001b[0;36m_serialize\u001b[0;34m(obj, to_proto, to_bytes)\u001b[0m\n\u001b[1;32m     78\u001b[0m         \u001b[0;31m# indent=None means no white space or \\n in the serialized version\u001b[0m\u001b[0;34m\u001b[0m\u001b[0;34m\u001b[0m\u001b[0;34m\u001b[0m\u001b[0m\n\u001b[1;32m     79\u001b[0m         \u001b[0;31m# this is compatible with json.dumps(x, indent=None)\u001b[0m\u001b[0;34m\u001b[0m\u001b[0;34m\u001b[0m\u001b[0;34m\u001b[0m\u001b[0m\n\u001b[0;32m---> 80\u001b[0;31m         \u001b[0mserialized_data\u001b[0m \u001b[0;34m=\u001b[0m \u001b[0mis_serializable\u001b[0m\u001b[0;34m.\u001b[0m\u001b[0m_object2proto\u001b[0m\u001b[0;34m(\u001b[0m\u001b[0;34m)\u001b[0m\u001b[0;34m.\u001b[0m\u001b[0mSerializeToString\u001b[0m\u001b[0;34m(\u001b[0m\u001b[0;34m)\u001b[0m\u001b[0;34m\u001b[0m\u001b[0;34m\u001b[0m\u001b[0m\n\u001b[0m\u001b[1;32m     81\u001b[0m         blob: Message = DataMessage(\n\u001b[1;32m     82\u001b[0m             \u001b[0mobj_type\u001b[0m\u001b[0;34m=\u001b[0m\u001b[0mget_fully_qualified_name\u001b[0m\u001b[0;34m(\u001b[0m\u001b[0mobj\u001b[0m\u001b[0;34m=\u001b[0m\u001b[0mis_serializable\u001b[0m\u001b[0;34m)\u001b[0m\u001b[0;34m,\u001b[0m\u001b[0;34m\u001b[0m\u001b[0;34m\u001b[0m\u001b[0m\n",
      "\u001b[0;32m~/PycharmProjects/PySyft/packages/syft/src/syft/lib/python/list.py\u001b[0m in \u001b[0;36m_object2proto\u001b[0;34m(self)\u001b[0m\n\u001b[1;32m    157\u001b[0m         \u001b[0mid_\u001b[0m \u001b[0;34m=\u001b[0m \u001b[0mserialize\u001b[0m\u001b[0;34m(\u001b[0m\u001b[0mobj\u001b[0m\u001b[0;34m=\u001b[0m\u001b[0mself\u001b[0m\u001b[0;34m.\u001b[0m\u001b[0mid\u001b[0m\u001b[0;34m)\u001b[0m\u001b[0;34m\u001b[0m\u001b[0;34m\u001b[0m\u001b[0m\n\u001b[1;32m    158\u001b[0m         \u001b[0mdowncasted\u001b[0m \u001b[0;34m=\u001b[0m \u001b[0;34m[\u001b[0m\u001b[0mdowncast\u001b[0m\u001b[0;34m(\u001b[0m\u001b[0mvalue\u001b[0m\u001b[0;34m=\u001b[0m\u001b[0melement\u001b[0m\u001b[0;34m)\u001b[0m \u001b[0;32mfor\u001b[0m \u001b[0melement\u001b[0m \u001b[0;32min\u001b[0m \u001b[0mself\u001b[0m\u001b[0;34m.\u001b[0m\u001b[0mdata\u001b[0m\u001b[0;34m]\u001b[0m\u001b[0;34m\u001b[0m\u001b[0;34m\u001b[0m\u001b[0m\n\u001b[0;32m--> 159\u001b[0;31m         \u001b[0mdata\u001b[0m \u001b[0;34m=\u001b[0m \u001b[0;34m[\u001b[0m\u001b[0mserialize\u001b[0m\u001b[0;34m(\u001b[0m\u001b[0mobj\u001b[0m\u001b[0;34m=\u001b[0m\u001b[0melement\u001b[0m\u001b[0;34m,\u001b[0m \u001b[0mto_bytes\u001b[0m\u001b[0;34m=\u001b[0m\u001b[0;32mTrue\u001b[0m\u001b[0;34m)\u001b[0m \u001b[0;32mfor\u001b[0m \u001b[0melement\u001b[0m \u001b[0;32min\u001b[0m \u001b[0mdowncasted\u001b[0m\u001b[0;34m]\u001b[0m\u001b[0;34m\u001b[0m\u001b[0;34m\u001b[0m\u001b[0m\n\u001b[0m\u001b[1;32m    160\u001b[0m         return List_PB(\n\u001b[1;32m    161\u001b[0m             \u001b[0mid\u001b[0m\u001b[0;34m=\u001b[0m\u001b[0mid_\u001b[0m\u001b[0;34m,\u001b[0m\u001b[0;34m\u001b[0m\u001b[0;34m\u001b[0m\u001b[0m\n",
      "\u001b[0;32m~/PycharmProjects/PySyft/packages/syft/src/syft/lib/python/list.py\u001b[0m in \u001b[0;36m<listcomp>\u001b[0;34m(.0)\u001b[0m\n\u001b[1;32m    157\u001b[0m         \u001b[0mid_\u001b[0m \u001b[0;34m=\u001b[0m \u001b[0mserialize\u001b[0m\u001b[0;34m(\u001b[0m\u001b[0mobj\u001b[0m\u001b[0;34m=\u001b[0m\u001b[0mself\u001b[0m\u001b[0;34m.\u001b[0m\u001b[0mid\u001b[0m\u001b[0;34m)\u001b[0m\u001b[0;34m\u001b[0m\u001b[0;34m\u001b[0m\u001b[0m\n\u001b[1;32m    158\u001b[0m         \u001b[0mdowncasted\u001b[0m \u001b[0;34m=\u001b[0m \u001b[0;34m[\u001b[0m\u001b[0mdowncast\u001b[0m\u001b[0;34m(\u001b[0m\u001b[0mvalue\u001b[0m\u001b[0;34m=\u001b[0m\u001b[0melement\u001b[0m\u001b[0;34m)\u001b[0m \u001b[0;32mfor\u001b[0m \u001b[0melement\u001b[0m \u001b[0;32min\u001b[0m \u001b[0mself\u001b[0m\u001b[0;34m.\u001b[0m\u001b[0mdata\u001b[0m\u001b[0;34m]\u001b[0m\u001b[0;34m\u001b[0m\u001b[0;34m\u001b[0m\u001b[0m\n\u001b[0;32m--> 159\u001b[0;31m         \u001b[0mdata\u001b[0m \u001b[0;34m=\u001b[0m \u001b[0;34m[\u001b[0m\u001b[0mserialize\u001b[0m\u001b[0;34m(\u001b[0m\u001b[0mobj\u001b[0m\u001b[0;34m=\u001b[0m\u001b[0melement\u001b[0m\u001b[0;34m,\u001b[0m \u001b[0mto_bytes\u001b[0m\u001b[0;34m=\u001b[0m\u001b[0;32mTrue\u001b[0m\u001b[0;34m)\u001b[0m \u001b[0;32mfor\u001b[0m \u001b[0melement\u001b[0m \u001b[0;32min\u001b[0m \u001b[0mdowncasted\u001b[0m\u001b[0;34m]\u001b[0m\u001b[0;34m\u001b[0m\u001b[0;34m\u001b[0m\u001b[0m\n\u001b[0m\u001b[1;32m    160\u001b[0m         return List_PB(\n\u001b[1;32m    161\u001b[0m             \u001b[0mid\u001b[0m\u001b[0;34m=\u001b[0m\u001b[0mid_\u001b[0m\u001b[0;34m,\u001b[0m\u001b[0;34m\u001b[0m\u001b[0;34m\u001b[0m\u001b[0m\n",
      "\u001b[0;32m~/PycharmProjects/PySyft/packages/syft/src/syft/core/common/serde/serialize.py\u001b[0m in \u001b[0;36m_serialize\u001b[0;34m(obj, to_proto, to_bytes)\u001b[0m\n\u001b[1;32m     66\u001b[0m \u001b[0;34m\u001b[0m\u001b[0m\n\u001b[1;32m     67\u001b[0m         \u001b[0;32melse\u001b[0m\u001b[0;34m:\u001b[0m\u001b[0;34m\u001b[0m\u001b[0;34m\u001b[0m\u001b[0m\n\u001b[0;32m---> 68\u001b[0;31m             traceback_and_raise(\n\u001b[0m\u001b[1;32m     69\u001b[0m                 Exception(\n\u001b[1;32m     70\u001b[0m                     \u001b[0;34mf\"Object {type(obj)} is not serializable and has no _sy_serializable_wrapper_type\"\u001b[0m\u001b[0;34m\u001b[0m\u001b[0;34m\u001b[0m\u001b[0m\n",
      "\u001b[0;32m~/PycharmProjects/PySyft/packages/syft/src/syft/logger.py\u001b[0m in \u001b[0;36mtraceback_and_raise\u001b[0;34m(e, verbose)\u001b[0m\n\u001b[1;32m     59\u001b[0m     \u001b[0;32mif\u001b[0m \u001b[0;32mnot\u001b[0m \u001b[0missubclass\u001b[0m\u001b[0;34m(\u001b[0m\u001b[0mtype\u001b[0m\u001b[0;34m(\u001b[0m\u001b[0me\u001b[0m\u001b[0;34m)\u001b[0m\u001b[0;34m,\u001b[0m \u001b[0mException\u001b[0m\u001b[0;34m)\u001b[0m\u001b[0;34m:\u001b[0m\u001b[0;34m\u001b[0m\u001b[0;34m\u001b[0m\u001b[0m\n\u001b[1;32m     60\u001b[0m         \u001b[0me\u001b[0m \u001b[0;34m=\u001b[0m \u001b[0mException\u001b[0m\u001b[0;34m(\u001b[0m\u001b[0me\u001b[0m\u001b[0;34m)\u001b[0m\u001b[0;34m\u001b[0m\u001b[0;34m\u001b[0m\u001b[0m\n\u001b[0;32m---> 61\u001b[0;31m     \u001b[0;32mraise\u001b[0m \u001b[0me\u001b[0m\u001b[0;34m\u001b[0m\u001b[0;34m\u001b[0m\u001b[0m\n\u001b[0m\u001b[1;32m     62\u001b[0m \u001b[0;34m\u001b[0m\u001b[0m\n\u001b[1;32m     63\u001b[0m \u001b[0;34m\u001b[0m\u001b[0m\n",
      "\u001b[0;31mException\u001b[0m: Object <class 'syft.core.tensor.autograd.backward_ops.transpose.TransposeOp'> is not serializable and has no _sy_serializable_wrapper_type"
     ]
    }
   ],
   "source": [
    "autograd_ptr = autograd_tensor.send(uk)"
   ]
  },
  {
   "cell_type": "code",
   "execution_count": null,
   "id": "893ac3d8-b24c-480e-9f3f-175349a09324",
   "metadata": {},
   "outputs": [],
   "source": []
  }
 ],
 "metadata": {
  "kernelspec": {
   "display_name": "Python 3 (ipykernel)",
   "language": "python",
   "name": "python3"
  },
  "language_info": {
   "codemirror_mode": {
    "name": "ipython",
    "version": 3
   },
   "file_extension": ".py",
   "mimetype": "text/x-python",
   "name": "python",
   "nbconvert_exporter": "python",
   "pygments_lexer": "ipython3",
   "version": "3.9.1"
  }
 },
 "nbformat": 4,
 "nbformat_minor": 5
}
