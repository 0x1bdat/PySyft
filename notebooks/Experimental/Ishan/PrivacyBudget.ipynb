{
 "cells": [
  {
   "cell_type": "code",
   "execution_count": 1,
   "id": "0d242b77-b767-4d8f-ba28-9b73f5f08e25",
   "metadata": {},
   "outputs": [],
   "source": [
    "%load_ext autoreload\n",
    "%autoreload"
   ]
  },
  {
   "cell_type": "code",
   "execution_count": 2,
   "id": "26f5b88c-9421-4db3-aa64-79b98ffced13",
   "metadata": {},
   "outputs": [],
   "source": [
    "import syft as sy\n",
    "import numpy as np\n",
    "from syft.core.adp.entity import Entity\n",
    "sy.logger.remove()"
   ]
  },
  {
   "cell_type": "code",
   "execution_count": 3,
   "id": "836477c9-0247-45ed-91ab-fb9d4ceaad74",
   "metadata": {},
   "outputs": [
    {
     "name": "stdout",
     "output_type": "stream",
     "text": [
      "WARNING: CHANGE YOUR USERNAME AND PASSWORD!!! \n",
      "\n",
      "Anyone can login as an admin to your node right now because your password is still the default PySyft username and password!!!\n",
      "\n",
      "Connecting to None... done! \t Logging into canada... done!\n",
      "WARNING: CHANGE YOUR USERNAME AND PASSWORD!!! \n",
      "\n",
      "Anyone can login as an admin to your node right now because your password is still the default PySyft username and password!!!\n",
      "\n",
      "Connecting to None... done! \t Logging into italy... done!\n"
     ]
    }
   ],
   "source": [
    "domain1 = sy.login(email=\"info@openmined.org\", password=\"changethis\", port=8081)\n",
    "domain2 = sy.login(email=\"info@openmined.org\", password=\"changethis\", port=8082)"
   ]
  },
  {
   "cell_type": "code",
   "execution_count": 42,
   "id": "5a3ddbf6-e633-4c58-8686-368c46717849",
   "metadata": {},
   "outputs": [
    {
     "data": {
      "text/html": [
       "<div>\n",
       "<style scoped>\n",
       "    .dataframe tbody tr th:only-of-type {\n",
       "        vertical-align: middle;\n",
       "    }\n",
       "\n",
       "    .dataframe tbody tr th {\n",
       "        vertical-align: top;\n",
       "    }\n",
       "\n",
       "    .dataframe thead th {\n",
       "        text-align: right;\n",
       "    }\n",
       "</style>\n",
       "<table border=\"1\" class=\"dataframe\">\n",
       "  <thead>\n",
       "    <tr style=\"text-align: right;\">\n",
       "      <th></th>\n",
       "      <th>id</th>\n",
       "      <th>email</th>\n",
       "      <th>name</th>\n",
       "      <th>budget</th>\n",
       "      <th>verify_key</th>\n",
       "      <th>role</th>\n",
       "      <th>added_by</th>\n",
       "      <th>website</th>\n",
       "      <th>institution</th>\n",
       "      <th>daa_pdf</th>\n",
       "      <th>created_at</th>\n",
       "      <th>budget_spent</th>\n",
       "    </tr>\n",
       "  </thead>\n",
       "  <tbody>\n",
       "    <tr>\n",
       "      <th>0</th>\n",
       "      <td>1</td>\n",
       "      <td>info@openmined.org</td>\n",
       "      <td>Jane Doe</td>\n",
       "      <td>5.55</td>\n",
       "      <td>e16384f64d5aaa351235a9d75531ea9f500e897a989592...</td>\n",
       "      <td>Owner</td>\n",
       "      <td>None</td>\n",
       "      <td>None</td>\n",
       "      <td>None</td>\n",
       "      <td>NaN</td>\n",
       "      <td>2022-03-03 11:03:00.567137</td>\n",
       "      <td>5.550000</td>\n",
       "    </tr>\n",
       "    <tr>\n",
       "      <th>1</th>\n",
       "      <td>2</td>\n",
       "      <td>sheldon@caltech.edu</td>\n",
       "      <td>Sheldon Cooper</td>\n",
       "      <td>200.00</td>\n",
       "      <td>ab6992db0aa875d47fd2b377e92feae135f56a4a3b7a1c...</td>\n",
       "      <td>Data Scientist</td>\n",
       "      <td>Jane Doe</td>\n",
       "      <td></td>\n",
       "      <td></td>\n",
       "      <td>1.0</td>\n",
       "      <td>2022-03-09 16:28:42.447273</td>\n",
       "      <td>98.551903</td>\n",
       "    </tr>\n",
       "    <tr>\n",
       "      <th>2</th>\n",
       "      <td>3</td>\n",
       "      <td>cd0613a2-fc09-4055-8381-504cfc1a54a5@caltech.edu</td>\n",
       "      <td>Sheldon Cooper</td>\n",
       "      <td>10.00</td>\n",
       "      <td>eb30bf6d31c478aebd9e7021333de793544ec00ad7e4fe...</td>\n",
       "      <td>Data Scientist</td>\n",
       "      <td>Jane Doe</td>\n",
       "      <td></td>\n",
       "      <td></td>\n",
       "      <td>2.0</td>\n",
       "      <td>2022-03-09 16:57:26.496910</td>\n",
       "      <td>10.000000</td>\n",
       "    </tr>\n",
       "    <tr>\n",
       "      <th>3</th>\n",
       "      <td>4</td>\n",
       "      <td>41aa6ef4-0aa5-49bb-8a56-3e8124f80a82@caltech.edu</td>\n",
       "      <td>Sheldon Cooper</td>\n",
       "      <td>210.00</td>\n",
       "      <td>27d6f45bb0c1d0228e9e9d8a8d87bdec8858970c846eff...</td>\n",
       "      <td>Data Scientist</td>\n",
       "      <td>Jane Doe</td>\n",
       "      <td></td>\n",
       "      <td></td>\n",
       "      <td>3.0</td>\n",
       "      <td>2022-03-09 16:57:43.625608</td>\n",
       "      <td>116.965649</td>\n",
       "    </tr>\n",
       "    <tr>\n",
       "      <th>4</th>\n",
       "      <td>5</td>\n",
       "      <td>16b23028-d9db-4f77-bad2-23c1cbf02966@caltech.edu</td>\n",
       "      <td>Sheldon Cooper</td>\n",
       "      <td>210.00</td>\n",
       "      <td>f9a5fd5e8cfdd3cedf7116cf445a0c184f2607e6effc59...</td>\n",
       "      <td>Data Scientist</td>\n",
       "      <td>Jane Doe</td>\n",
       "      <td></td>\n",
       "      <td></td>\n",
       "      <td>4.0</td>\n",
       "      <td>2022-03-09 17:02:28.740731</td>\n",
       "      <td>51.567847</td>\n",
       "    </tr>\n",
       "    <tr>\n",
       "      <th>5</th>\n",
       "      <td>6</td>\n",
       "      <td>b4b72d36-ccda-4ec4-9cbe-8e4b9cd722bc@caltech.edu</td>\n",
       "      <td>Sheldon Cooper</td>\n",
       "      <td>210.00</td>\n",
       "      <td>720c551ac7955ec1295a758aa6e87ac86cf9d935ef0859...</td>\n",
       "      <td>Data Scientist</td>\n",
       "      <td>Jane Doe</td>\n",
       "      <td></td>\n",
       "      <td></td>\n",
       "      <td>5.0</td>\n",
       "      <td>2022-03-09 17:05:41.568509</td>\n",
       "      <td>49.330925</td>\n",
       "    </tr>\n",
       "  </tbody>\n",
       "</table>\n",
       "</div>"
      ],
      "text/plain": [
       "<syft.core.node.common.client_manager.user_api.UserRequestAPI at 0x7f279850c730>"
      ]
     },
     "execution_count": 42,
     "metadata": {},
     "output_type": "execute_result"
    }
   ],
   "source": [
    "domain1.users"
   ]
  },
  {
   "cell_type": "code",
   "execution_count": 44,
   "metadata": {},
   "outputs": [
    {
     "data": {
      "text/html": [
       "<div>\n",
       "<style scoped>\n",
       "    .dataframe tbody tr th:only-of-type {\n",
       "        vertical-align: middle;\n",
       "    }\n",
       "\n",
       "    .dataframe tbody tr th {\n",
       "        vertical-align: top;\n",
       "    }\n",
       "\n",
       "    .dataframe thead th {\n",
       "        text-align: right;\n",
       "    }\n",
       "</style>\n",
       "<table border=\"1\" class=\"dataframe\">\n",
       "  <thead>\n",
       "    <tr style=\"text-align: right;\">\n",
       "      <th></th>\n",
       "      <th>id</th>\n",
       "      <th>email</th>\n",
       "      <th>name</th>\n",
       "      <th>budget</th>\n",
       "      <th>verify_key</th>\n",
       "      <th>role</th>\n",
       "      <th>added_by</th>\n",
       "      <th>website</th>\n",
       "      <th>institution</th>\n",
       "      <th>daa_pdf</th>\n",
       "      <th>created_at</th>\n",
       "      <th>budget_spent</th>\n",
       "    </tr>\n",
       "  </thead>\n",
       "  <tbody>\n",
       "    <tr>\n",
       "      <th>0</th>\n",
       "      <td>1</td>\n",
       "      <td>info@openmined.org</td>\n",
       "      <td>Jane Doe</td>\n",
       "      <td>5.55</td>\n",
       "      <td>16a83ec72ae1691ae69ed825aea0c88a927fbf31d74dd7...</td>\n",
       "      <td>Owner</td>\n",
       "      <td>None</td>\n",
       "      <td>None</td>\n",
       "      <td>None</td>\n",
       "      <td>NaN</td>\n",
       "      <td>2022-03-03 11:03:27.098890</td>\n",
       "      <td>5.550000</td>\n",
       "    </tr>\n",
       "    <tr>\n",
       "      <th>1</th>\n",
       "      <td>2</td>\n",
       "      <td>sheldon@caltech.edu</td>\n",
       "      <td>Sheldon Cooper</td>\n",
       "      <td>200.00</td>\n",
       "      <td>65d8967d85aac13d5416f94d0894f0304834818c54ac8e...</td>\n",
       "      <td>Data Scientist</td>\n",
       "      <td>Jane Doe</td>\n",
       "      <td></td>\n",
       "      <td></td>\n",
       "      <td>1.0</td>\n",
       "      <td>2022-03-09 16:34:59.356103</td>\n",
       "      <td>98.551903</td>\n",
       "    </tr>\n",
       "    <tr>\n",
       "      <th>2</th>\n",
       "      <td>3</td>\n",
       "      <td>cd0613a2-fc09-4055-8381-504cfc1a54a5@caltech.edu</td>\n",
       "      <td>Sheldon Cooper</td>\n",
       "      <td>10.00</td>\n",
       "      <td>204da300dfc5f9d6954548f6017c6b7f09b4abde34bfbf...</td>\n",
       "      <td>Data Scientist</td>\n",
       "      <td>Jane Doe</td>\n",
       "      <td></td>\n",
       "      <td></td>\n",
       "      <td>2.0</td>\n",
       "      <td>2022-03-09 16:57:28.897189</td>\n",
       "      <td>10.000000</td>\n",
       "    </tr>\n",
       "    <tr>\n",
       "      <th>3</th>\n",
       "      <td>4</td>\n",
       "      <td>41aa6ef4-0aa5-49bb-8a56-3e8124f80a82@caltech.edu</td>\n",
       "      <td>Sheldon Cooper</td>\n",
       "      <td>210.00</td>\n",
       "      <td>65f37a0926e3f0800f6f03a722e98b7b51fa5b0783960c...</td>\n",
       "      <td>Data Scientist</td>\n",
       "      <td>Jane Doe</td>\n",
       "      <td></td>\n",
       "      <td></td>\n",
       "      <td>3.0</td>\n",
       "      <td>2022-03-09 16:57:46.034250</td>\n",
       "      <td>116.965649</td>\n",
       "    </tr>\n",
       "    <tr>\n",
       "      <th>4</th>\n",
       "      <td>5</td>\n",
       "      <td>16b23028-d9db-4f77-bad2-23c1cbf02966@caltech.edu</td>\n",
       "      <td>Sheldon Cooper</td>\n",
       "      <td>210.00</td>\n",
       "      <td>2a4b7933066ca6ca0066d061620ff2e2c3d571d8050bbc...</td>\n",
       "      <td>Data Scientist</td>\n",
       "      <td>Jane Doe</td>\n",
       "      <td></td>\n",
       "      <td></td>\n",
       "      <td>4.0</td>\n",
       "      <td>2022-03-09 17:02:31.270027</td>\n",
       "      <td>51.567847</td>\n",
       "    </tr>\n",
       "    <tr>\n",
       "      <th>5</th>\n",
       "      <td>6</td>\n",
       "      <td>b4b72d36-ccda-4ec4-9cbe-8e4b9cd722bc@caltech.edu</td>\n",
       "      <td>Sheldon Cooper</td>\n",
       "      <td>210.00</td>\n",
       "      <td>f85244c0c58c866874cd58e9ec899eeec7a337a6440711...</td>\n",
       "      <td>Data Scientist</td>\n",
       "      <td>Jane Doe</td>\n",
       "      <td></td>\n",
       "      <td></td>\n",
       "      <td>5.0</td>\n",
       "      <td>2022-03-09 17:05:53.901936</td>\n",
       "      <td>49.330925</td>\n",
       "    </tr>\n",
       "  </tbody>\n",
       "</table>\n",
       "</div>"
      ],
      "text/plain": [
       "<syft.core.node.common.client_manager.user_api.UserRequestAPI at 0x7f2793fc0910>"
      ]
     },
     "execution_count": 44,
     "metadata": {},
     "output_type": "execute_result"
    }
   ],
   "source": [
    "domain2.users"
   ]
  },
  {
   "cell_type": "code",
   "execution_count": 45,
   "id": "0fcdfb08-89b3-45bc-961c-f6a9a28b8358",
   "metadata": {},
   "outputs": [],
   "source": [
    "\n",
    "for domain in [domain1,domain2]:\n",
    "    if domain.users.pandas().shape[0] == 1:\n",
    "        domain.users.create(\n",
    "            **{\n",
    "                \"name\": \"Sheldon Cooper\",\n",
    "                \"email\": \"sheldon@caltech.edu\",\n",
    "                \"password\": \"bazinga\",\n",
    "                \"budget\":200\n",
    "            }\n",
    "        )\n",
    "        \n",
    "        domain.users"
   ]
  },
  {
   "cell_type": "code",
   "execution_count": 46,
   "id": "63fabb12-a51d-4d60-8fb4-d8533348fe61",
   "metadata": {},
   "outputs": [],
   "source": [
    "data = np.random.randint(1, 100, size=(5, 5), dtype=np.int32)\n",
    "ishan = Entity(name=\"Ishan\")\n",
    "\n",
    "tensor = sy.Tensor(data).private(min_val=0, max_val=100, entities=ishan)"
   ]
  },
  {
   "cell_type": "code",
   "execution_count": 7,
   "id": "b374e997-4019-4493-8fd2-6dff382a3388",
   "metadata": {},
   "outputs": [
    {
     "data": {
      "text/plain": [
       "array([[36, 58, 57, 58, 27],\n",
       "       [40, 29, 19, 13, 75],\n",
       "       [89, 12, 10, 97, 16],\n",
       "       [69, 93, 48, 24,  7],\n",
       "       [96, 99, 41, 45,  4]], dtype=int32)"
      ]
     },
     "execution_count": 7,
     "metadata": {},
     "output_type": "execute_result"
    }
   ],
   "source": [
    "data"
   ]
  },
  {
   "cell_type": "code",
   "execution_count": 47,
   "id": "e67a7c21-41c0-422d-9b2c-200aaea042ee",
   "metadata": {},
   "outputs": [
    {
     "name": "stdout",
     "output_type": "stream",
     "text": [
      "Loading dataset... uploading... SUCCESS!                        \n",
      "\n",
      "Run <your client variable>.datasets to see your new dataset loaded into your machine!\n",
      "Loading dataset... uploading... SUCCESS!                        \n",
      "\n",
      "Run <your client variable>.datasets to see your new dataset loaded into your machine!\n"
     ]
    }
   ],
   "source": [
    "domain1.load_dataset(\n",
    "    assets={\"data\": tensor},\n",
    "    name=\"Sample data\",\n",
    "    description=\"Sample data to test privacy budget is being updated\"\n",
    ")\n",
    "domain2.load_dataset(\n",
    "    assets={\"data\": tensor},\n",
    "    name=\"Sample data\",\n",
    "    description=\"Sample data to test privacy budget is being updated\"\n",
    ")\n"
   ]
  },
  {
   "cell_type": "code",
   "execution_count": 48,
   "id": "643c0b6c-b007-41c6-bcd0-c53da09a7528",
   "metadata": {},
   "outputs": [
    {
     "data": {
      "text/html": [
       "<style>\n",
       "                #myInput {\n",
       "                  background-position: 10px 12px; /* Position the search icon */\n",
       "                  background-repeat: no-repeat; /* Do not repeat the icon image */\n",
       "                  background-color: #bbb;\n",
       "                  width: 98%; /* Full-width */\n",
       "                  font-size: 14px; /* Increase font-size */\n",
       "                  padding: 12px 20px 12px 40px; /* Add some padding */\n",
       "                  border: 1px solid #ddd; /* Add a grey border */\n",
       "                  margin-bottom: 12px; /* Add some space below the input */\n",
       "                }\n",
       "\n",
       "                #myTable {\n",
       "                  border-collapse: collapse; /* Collapse borders */\n",
       "                  width: 100%; /* Full-width */\n",
       "                  border: 1px solid #ddd; /* Add a grey border */\n",
       "                  font-size: 14px; /* Increase font-size */\n",
       "                }\n",
       "\n",
       "                #myTable th, #myTable td {\n",
       "                  text-align: left; /* Left-align text */\n",
       "                  padding: 10px; /* Add padding */\n",
       "                }\n",
       "\n",
       "                #myTable tr {\n",
       "                  /* Add a bottom border to all table rows */\n",
       "                  border-bottom: 1px solid #ddd;\n",
       "                }\n",
       "\n",
       "                #myTable tr.header, #myTable tr:hover {\n",
       "                  /* Add a grey background color to the table header and on hover */\n",
       "                  background-color: #777;\n",
       "                }\n",
       "                </style>\n",
       "\n",
       "                <table id=\"myTable\" style=\"width:1000px\">\n",
       "                  <tr class=\"header\">\n",
       "                    <th style=\"width:30px\">Idx</th>\n",
       "                    <th style=\"width:20%;\">Name</th>\n",
       "                    <th style=\"width:35%;\">Description</th>\n",
       "                    <th style=\"width:20%;\">Assets</th>\n",
       "                    <th style=\"width:300px;\">Id</th>\n",
       "                  </tr>\n",
       "                \n",
       "\n",
       "          <tr>\n",
       "            <td>[0]</td>\n",
       "            <td>Sample data</td>\n",
       "            <td>Sample data to test privacy budget is being updated</td>\n",
       "            <td>[\"data\"] -> Tensor<br /><br /></td>\n",
       "            <td>e5616a3a-f58e-48de-9500-ebcc0a3f4d4e</td>\n",
       "          </tr>\n",
       "\n",
       "          <tr>\n",
       "            <td>[1]</td>\n",
       "            <td>Sample data</td>\n",
       "            <td>Sample data to test privacy budget is being updated</td>\n",
       "            <td>[\"data\"] -> Tensor<br /><br /></td>\n",
       "            <td>b9fe3680-c931-440e-8792-7f61823fe1fa</td>\n",
       "          </tr>\n",
       "\n",
       "          <tr>\n",
       "            <td>[2]</td>\n",
       "            <td>Sample data</td>\n",
       "            <td>Sample data to test privacy budget is being updated</td>\n",
       "            <td>[\"data\"] -> Tensor<br /><br /></td>\n",
       "            <td>4f4fe946-b072-40a9-bd38-7f72c9c86d00</td>\n",
       "          </tr>\n",
       "\n",
       "          <tr>\n",
       "            <td>[3]</td>\n",
       "            <td>Canada Trade Data - First few rows</td>\n",
       "            <td>A collection of reports from Canada's statistics bureau about how much it thinks it imports and exports from other countries.</td>\n",
       "            <td>[\"Canada Trade\"] -> Tensor<br /><br /></td>\n",
       "            <td>f4572bf4-e693-4b7f-97ad-4814a1edeff7</td>\n",
       "          </tr>\n",
       "\n",
       "          <tr>\n",
       "            <td>[4]</td>\n",
       "            <td>Canada Trade Data - First few rows</td>\n",
       "            <td>A collection of reports from Canada's statistics bureau about how much it thinks it imports and exports from other countries.</td>\n",
       "            <td>[\"Canada Trade\"] -> Tensor<br /><br /></td>\n",
       "            <td>cf35f228-5db8-4d40-9beb-4ec28b7f2e0f</td>\n",
       "          </tr>\n",
       "\n",
       "          <tr>\n",
       "            <td>[5]</td>\n",
       "            <td>Canada Trade Data - First few rows</td>\n",
       "            <td>A collection of reports from Canada's statistics bureau about how much it thinks it imports and exports from other countries.</td>\n",
       "            <td>[\"Canada Trade\"] -> Tensor<br /><br /></td>\n",
       "            <td>d854aa89-93d5-4bce-ba48-33f016a8d300</td>\n",
       "          </tr>\n",
       "\n",
       "          <tr>\n",
       "            <td>[6]</td>\n",
       "            <td>Canada Trade Data - First few rows</td>\n",
       "            <td>A collection of reports from Canada's statistics bureau about how much it thinks it imports and exports from other countries.</td>\n",
       "            <td>[\"Canada Trade\"] -> Tensor<br /><br /></td>\n",
       "            <td>68f847ab-180c-4b5e-8992-ceb932db7317</td>\n",
       "          </tr>\n",
       "\n",
       "          <tr>\n",
       "            <td>[7]</td>\n",
       "            <td>Canada Trade Data - First few rows</td>\n",
       "            <td>A collection of reports from Canada's statistics bureau about how much it thinks it imports and exports from other countries.</td>\n",
       "            <td>[\"Canada Trade\"] -> Tensor<br /><br /></td>\n",
       "            <td>7318a1d9-456e-404e-80ef-e182569d399e</td>\n",
       "          </tr>\n",
       "\n",
       "          <tr>\n",
       "            <td>[8]</td>\n",
       "            <td>Sample data</td>\n",
       "            <td>Sample data to test privacy budget is being updated</td>\n",
       "            <td>[\"data\"] -> Tensor<br /><br /></td>\n",
       "            <td>a5554db9-3dcc-4212-9173-3cfd9ea8366c</td>\n",
       "          </tr>\n",
       "        </table>\n",
       "\n",
       "        <script>\n",
       "        function myFunction() {\n",
       "          // Declare variables\n",
       "          var input, filter, table, tr, td, i, txtValue;\n",
       "          input = document.getElementById(\"myInput\");\n",
       "          filter = input.value.toUpperCase();\n",
       "          table = document.getElementById(\"myTable\");\n",
       "          tr = table.getElementsByTagName(\"tr\");\n",
       "\n",
       "          // Loop through all table rows, and hide those who don't match the search query\n",
       "          for (i = 0; i < tr.length; i++) {\n",
       "            name_td = tr[i].getElementsByTagName(\"td\")[1];\n",
       "            desc_td = tr[i].getElementsByTagName(\"td\")[2];\n",
       "            asset_td = tr[i].getElementsByTagName(\"td\")[3];\n",
       "            id_td = tr[i].getElementsByTagName(\"td\")[4];\n",
       "            if (name_td || desc_td || asset_td || id_td) {\n",
       "              name_txtValue = name_td.textContent || name_td.innerText;\n",
       "              desc_txtValue = desc_td.textContent || name_td.innerText;\n",
       "              asset_txtValue = asset_td.textContent || name_td.innerText;\n",
       "              id_txtValue = id_td.textContent || name_td.innerText;\n",
       "              name_bool = name_txtValue.toUpperCase().indexOf(filter) > -1;\n",
       "              desc_bool = desc_txtValue.toUpperCase().indexOf(filter) > -1;\n",
       "              asset_bool = asset_txtValue.toUpperCase().indexOf(filter) > -1;\n",
       "              id_bool = id_txtValue.toUpperCase().indexOf(filter) > -1;\n",
       "              if (name_bool || desc_bool || asset_bool || id_bool) {\n",
       "                tr[i].style.display = \"\";\n",
       "              } else {\n",
       "                tr[i].style.display = \"none\";\n",
       "              }\n",
       "            }\n",
       "          }\n",
       "        }\n",
       "        </script>"
      ],
      "text/plain": [
       "<syft.core.node.common.client_manager.dataset_api.DatasetRequestAPI at 0x7f279850c7c0>"
      ]
     },
     "execution_count": 48,
     "metadata": {},
     "output_type": "execute_result"
    }
   ],
   "source": [
    "domain1.datasets"
   ]
  },
  {
   "cell_type": "markdown",
   "id": "7b95beb9-2f55-4cff-abbf-f292d1dc9001",
   "metadata": {},
   "source": [
    "## Log in as Data Scientist"
   ]
  },
  {
   "cell_type": "code",
   "execution_count": 4,
   "id": "a878f45b-8410-4c9c-ab51-ff4d45bbb1c9",
   "metadata": {},
   "outputs": [
    {
     "name": "stdout",
     "output_type": "stream",
     "text": [
      "Connecting to None... done! \t Logging into canada... done!\n",
      "Connecting to None... done! \t Logging into italy... done!\n"
     ]
    }
   ],
   "source": [
    "ds1 = sy.login(email=\"sheldon@caltech.edu\", password=\"bazinga\", port=8081)\n",
    "ds2 = sy.login(email=\"sheldon@caltech.edu\", password=\"bazinga\", port=8082)"
   ]
  },
  {
   "cell_type": "code",
   "execution_count": 50,
   "id": "ae7e6fec-b2c4-406f-893b-10bfa461a5a3",
   "metadata": {},
   "outputs": [
    {
     "data": {
      "text/html": [
       "<style>\n",
       "                #myInput {\n",
       "                  background-position: 10px 12px; /* Position the search icon */\n",
       "                  background-repeat: no-repeat; /* Do not repeat the icon image */\n",
       "                  background-color: #bbb;\n",
       "                  width: 98%; /* Full-width */\n",
       "                  font-size: 14px; /* Increase font-size */\n",
       "                  padding: 12px 20px 12px 40px; /* Add some padding */\n",
       "                  border: 1px solid #ddd; /* Add a grey border */\n",
       "                  margin-bottom: 12px; /* Add some space below the input */\n",
       "                }\n",
       "\n",
       "                #myTable {\n",
       "                  border-collapse: collapse; /* Collapse borders */\n",
       "                  width: 100%; /* Full-width */\n",
       "                  border: 1px solid #ddd; /* Add a grey border */\n",
       "                  font-size: 14px; /* Increase font-size */\n",
       "                }\n",
       "\n",
       "                #myTable th, #myTable td {\n",
       "                  text-align: left; /* Left-align text */\n",
       "                  padding: 10px; /* Add padding */\n",
       "                }\n",
       "\n",
       "                #myTable tr {\n",
       "                  /* Add a bottom border to all table rows */\n",
       "                  border-bottom: 1px solid #ddd;\n",
       "                }\n",
       "\n",
       "                #myTable tr.header, #myTable tr:hover {\n",
       "                  /* Add a grey background color to the table header and on hover */\n",
       "                  background-color: #777;\n",
       "                }\n",
       "                </style>\n",
       "\n",
       "                <table id=\"myTable\" style=\"width:1000px\">\n",
       "                  <tr class=\"header\">\n",
       "                    <th style=\"width:30px\">Idx</th>\n",
       "                    <th style=\"width:20%;\">Name</th>\n",
       "                    <th style=\"width:35%;\">Description</th>\n",
       "                    <th style=\"width:20%;\">Assets</th>\n",
       "                    <th style=\"width:300px;\">Id</th>\n",
       "                  </tr>\n",
       "                \n",
       "\n",
       "          <tr>\n",
       "            <td>[0]</td>\n",
       "            <td>Sample data</td>\n",
       "            <td>Sample data to test privacy budget is being updated</td>\n",
       "            <td>[\"data\"] -> Tensor<br /><br /></td>\n",
       "            <td>e5616a3a-f58e-48de-9500-ebcc0a3f4d4e</td>\n",
       "          </tr>\n",
       "\n",
       "          <tr>\n",
       "            <td>[1]</td>\n",
       "            <td>Sample data</td>\n",
       "            <td>Sample data to test privacy budget is being updated</td>\n",
       "            <td>[\"data\"] -> Tensor<br /><br /></td>\n",
       "            <td>b9fe3680-c931-440e-8792-7f61823fe1fa</td>\n",
       "          </tr>\n",
       "\n",
       "          <tr>\n",
       "            <td>[2]</td>\n",
       "            <td>Sample data</td>\n",
       "            <td>Sample data to test privacy budget is being updated</td>\n",
       "            <td>[\"data\"] -> Tensor<br /><br /></td>\n",
       "            <td>4f4fe946-b072-40a9-bd38-7f72c9c86d00</td>\n",
       "          </tr>\n",
       "\n",
       "          <tr>\n",
       "            <td>[3]</td>\n",
       "            <td>Canada Trade Data - First few rows</td>\n",
       "            <td>A collection of reports from Canada's statistics bureau about how much it thinks it imports and exports from other countries.</td>\n",
       "            <td>[\"Canada Trade\"] -> Tensor<br /><br /></td>\n",
       "            <td>f4572bf4-e693-4b7f-97ad-4814a1edeff7</td>\n",
       "          </tr>\n",
       "\n",
       "          <tr>\n",
       "            <td>[4]</td>\n",
       "            <td>Canada Trade Data - First few rows</td>\n",
       "            <td>A collection of reports from Canada's statistics bureau about how much it thinks it imports and exports from other countries.</td>\n",
       "            <td>[\"Canada Trade\"] -> Tensor<br /><br /></td>\n",
       "            <td>cf35f228-5db8-4d40-9beb-4ec28b7f2e0f</td>\n",
       "          </tr>\n",
       "\n",
       "          <tr>\n",
       "            <td>[5]</td>\n",
       "            <td>Canada Trade Data - First few rows</td>\n",
       "            <td>A collection of reports from Canada's statistics bureau about how much it thinks it imports and exports from other countries.</td>\n",
       "            <td>[\"Canada Trade\"] -> Tensor<br /><br /></td>\n",
       "            <td>d854aa89-93d5-4bce-ba48-33f016a8d300</td>\n",
       "          </tr>\n",
       "\n",
       "          <tr>\n",
       "            <td>[6]</td>\n",
       "            <td>Canada Trade Data - First few rows</td>\n",
       "            <td>A collection of reports from Canada's statistics bureau about how much it thinks it imports and exports from other countries.</td>\n",
       "            <td>[\"Canada Trade\"] -> Tensor<br /><br /></td>\n",
       "            <td>68f847ab-180c-4b5e-8992-ceb932db7317</td>\n",
       "          </tr>\n",
       "\n",
       "          <tr>\n",
       "            <td>[7]</td>\n",
       "            <td>Canada Trade Data - First few rows</td>\n",
       "            <td>A collection of reports from Canada's statistics bureau about how much it thinks it imports and exports from other countries.</td>\n",
       "            <td>[\"Canada Trade\"] -> Tensor<br /><br /></td>\n",
       "            <td>7318a1d9-456e-404e-80ef-e182569d399e</td>\n",
       "          </tr>\n",
       "\n",
       "          <tr>\n",
       "            <td>[8]</td>\n",
       "            <td>Sample data</td>\n",
       "            <td>Sample data to test privacy budget is being updated</td>\n",
       "            <td>[\"data\"] -> Tensor<br /><br /></td>\n",
       "            <td>a5554db9-3dcc-4212-9173-3cfd9ea8366c</td>\n",
       "          </tr>\n",
       "        </table>\n",
       "\n",
       "        <script>\n",
       "        function myFunction() {\n",
       "          // Declare variables\n",
       "          var input, filter, table, tr, td, i, txtValue;\n",
       "          input = document.getElementById(\"myInput\");\n",
       "          filter = input.value.toUpperCase();\n",
       "          table = document.getElementById(\"myTable\");\n",
       "          tr = table.getElementsByTagName(\"tr\");\n",
       "\n",
       "          // Loop through all table rows, and hide those who don't match the search query\n",
       "          for (i = 0; i < tr.length; i++) {\n",
       "            name_td = tr[i].getElementsByTagName(\"td\")[1];\n",
       "            desc_td = tr[i].getElementsByTagName(\"td\")[2];\n",
       "            asset_td = tr[i].getElementsByTagName(\"td\")[3];\n",
       "            id_td = tr[i].getElementsByTagName(\"td\")[4];\n",
       "            if (name_td || desc_td || asset_td || id_td) {\n",
       "              name_txtValue = name_td.textContent || name_td.innerText;\n",
       "              desc_txtValue = desc_td.textContent || name_td.innerText;\n",
       "              asset_txtValue = asset_td.textContent || name_td.innerText;\n",
       "              id_txtValue = id_td.textContent || name_td.innerText;\n",
       "              name_bool = name_txtValue.toUpperCase().indexOf(filter) > -1;\n",
       "              desc_bool = desc_txtValue.toUpperCase().indexOf(filter) > -1;\n",
       "              asset_bool = asset_txtValue.toUpperCase().indexOf(filter) > -1;\n",
       "              id_bool = id_txtValue.toUpperCase().indexOf(filter) > -1;\n",
       "              if (name_bool || desc_bool || asset_bool || id_bool) {\n",
       "                tr[i].style.display = \"\";\n",
       "              } else {\n",
       "                tr[i].style.display = \"none\";\n",
       "              }\n",
       "            }\n",
       "          }\n",
       "        }\n",
       "        </script>"
      ],
      "text/plain": [
       "<syft.core.node.common.client_manager.dataset_api.DatasetRequestAPI at 0x7f2793b27b50>"
      ]
     },
     "execution_count": 50,
     "metadata": {},
     "output_type": "execute_result"
    }
   ],
   "source": [
    "ds1.datasets"
   ]
  },
  {
   "cell_type": "code",
   "execution_count": 56,
   "id": "a3ad791b-c1ba-45bf-b4cd-ddc637000397",
   "metadata": {},
   "outputs": [
    {
     "name": "stdout",
     "output_type": "stream",
     "text": [
      "Requested 200 epsilon of budget. Call .privacy_budget to see if your budget has arrived!\n",
      "Requested 200 epsilon of budget. Call .privacy_budget to see if your budget has arrived!\n"
     ]
    }
   ],
   "source": [
    "ds1.request_budget(eps=200,reason=\"I really want it.\")\n",
    "ds2.request_budget(eps=200,reason=\"I really want it.\")"
   ]
  },
  {
   "cell_type": "code",
   "execution_count": 60,
   "metadata": {},
   "outputs": [],
   "source": [
    "domain1.requests[-1].accept()\n",
    "domain2.requests[-1].accept()"
   ]
  },
  {
   "cell_type": "code",
   "execution_count": 7,
   "metadata": {},
   "outputs": [
    {
     "data": {
      "text/plain": [
       "298.55190303438684"
      ]
     },
     "execution_count": 7,
     "metadata": {},
     "output_type": "execute_result"
    }
   ],
   "source": [
    "ds1.privacy_budget"
   ]
  },
  {
   "cell_type": "code",
   "execution_count": 8,
   "id": "bcb633c3-1cdd-4802-b51a-7bc630a25ff0",
   "metadata": {},
   "outputs": [],
   "source": [
    "ptr1 = ds1.datasets[-1][\"data\"]\n",
    "ptr2 = ds2.datasets[-1][\"data\"]"
   ]
  },
  {
   "cell_type": "code",
   "execution_count": 63,
   "id": "1464c207-db33-45a8-bdf6-caaa9e190b51",
   "metadata": {},
   "outputs": [
    {
     "name": "stdout",
     "output_type": "stream",
     "text": [
      "<DomainClient - canada: <UID: b0ddc973a42e4f24bfd8db02a13f91dd>>\n",
      "<DomainClient - italy: <UID: 3eba7458a9ac4907ad30e5231857b2d1>>\n"
     ]
    }
   ],
   "source": [
    "print(ptr1.client)\n",
    "print(ptr2.client)"
   ]
  },
  {
   "cell_type": "code",
   "execution_count": 31,
   "id": "5fd653d2-584b-4637-9d25-66ea0376c7ad",
   "metadata": {},
   "outputs": [],
   "source": [
    "result = ptr1 + ptr2"
   ]
  },
  {
   "cell_type": "code",
   "execution_count": 65,
   "metadata": {},
   "outputs": [
    {
     "data": {
      "text/plain": [
       "syft.core.tensor.smpc.mpc_tensor.MPCTensor"
      ]
     },
     "execution_count": 65,
     "metadata": {},
     "output_type": "execute_result"
    }
   ],
   "source": [
    "type(result)"
   ]
  },
  {
   "cell_type": "code",
   "execution_count": 32,
   "id": "8960e23d-06e8-4895-8fce-b4d0c5f99b5e",
   "metadata": {},
   "outputs": [],
   "source": [
    "published_result = result.publish(sigma=100)"
   ]
  },
  {
   "cell_type": "code",
   "execution_count": 33,
   "metadata": {},
   "outputs": [
    {
     "data": {
      "text/plain": [
       "34.40456180157662"
      ]
     },
     "execution_count": 33,
     "metadata": {},
     "output_type": "execute_result"
    }
   ],
   "source": [
    "ds1.privacy_budget"
   ]
  },
  {
   "cell_type": "code",
   "execution_count": 19,
   "metadata": {},
   "outputs": [
    {
     "data": {
      "text/plain": [
       "True"
      ]
     },
     "execution_count": 19,
     "metadata": {},
     "output_type": "execute_result"
    }
   ],
   "source": [
    "published_result.child[1].exists"
   ]
  },
  {
   "cell_type": "code",
   "execution_count": 34,
   "id": "9b58e566-f405-4991-9bab-4c2baf3c62fb",
   "metadata": {},
   "outputs": [
    {
     "name": "stdout",
     "output_type": "stream",
     "text": [
      "You do not have sufficient privacy budget. Kindly request for additional privacy budget. \n",
      "\n",
      "Before clip [[ 113  215 -420  -80  183]\n",
      " [-215 -241  -72 -259   -9]\n",
      " [  29   58  270 -273    4]\n",
      " [ -85  135  111  107   50]\n",
      " [  59  -27  -99   58  118]]\n",
      "min_vals [[0 0 0 0 0]\n",
      " [0 0 0 0 0]\n",
      " [0 0 0 0 0]\n",
      " [0 0 0 0 0]\n",
      " [0 0 0 0 0]]\n",
      "max_vals [[200 200 200 200 200]\n",
      " [200 200 200 200 200]\n",
      " [200 200 200 200 200]\n",
      " [200 200 200 200 200]\n",
      " [200 200 200 200 200]]\n"
     ]
    },
    {
     "data": {
      "text/plain": [
       "array([[113, 200,   0,   0, 183],\n",
       "       [  0,   0,   0,   0,   0],\n",
       "       [ 29,  58, 200,   0,   4],\n",
       "       [  0, 135, 111, 107,  50],\n",
       "       [ 59,   0,   0,  58, 118]], dtype=int32)"
      ]
     },
     "execution_count": 34,
     "metadata": {},
     "output_type": "execute_result"
    }
   ],
   "source": [
    "published_result.get()"
   ]
  },
  {
   "cell_type": "code",
   "execution_count": 24,
   "id": "1258b8cd-c3b6-419f-bfb2-db9eea619bf3",
   "metadata": {},
   "outputs": [
    {
     "data": {
      "text/plain": [
       "200.0"
      ]
     },
     "execution_count": 24,
     "metadata": {},
     "output_type": "execute_result"
    }
   ],
   "source": [
    "ds2.privacy_budget"
   ]
  },
  {
   "cell_type": "code",
   "execution_count": null,
   "id": "d8693bc4-10bf-49b1-ab11-f4f4731d21d3",
   "metadata": {},
   "outputs": [],
   "source": []
  }
 ],
 "metadata": {
  "interpreter": {
   "hash": "630449982b6186a6531308cd76ed4d510e9db65154e43844c2906c6a20ad2a6d"
  },
  "kernelspec": {
   "display_name": "Python 3.9.4 64-bit ('python39-2vM0bQN-': pipenv)",
   "name": "python3"
  },
  "language_info": {
   "codemirror_mode": {
    "name": "ipython",
    "version": 3
   },
   "file_extension": ".py",
   "mimetype": "text/x-python",
   "name": "python",
   "nbconvert_exporter": "python",
   "pygments_lexer": "ipython3",
   "version": "3.9.4"
  }
 },
 "nbformat": 4,
 "nbformat_minor": 5
}
