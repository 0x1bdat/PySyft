{
 "cells": [
  {
   "cell_type": "code",
   "execution_count": 1,
   "id": "0d242b77-b767-4d8f-ba28-9b73f5f08e25",
   "metadata": {},
   "outputs": [],
   "source": [
    "%load_ext autoreload\n",
    "%autoreload"
   ]
  },
  {
   "cell_type": "code",
   "execution_count": 2,
   "id": "26f5b88c-9421-4db3-aa64-79b98ffced13",
   "metadata": {},
   "outputs": [],
   "source": [
    "import syft as sy\n",
    "import numpy as np\n",
    "from syft.core.adp.entity import Entity"
   ]
  },
  {
   "cell_type": "code",
   "execution_count": 3,
   "id": "836477c9-0247-45ed-91ab-fb9d4ceaad74",
   "metadata": {},
   "outputs": [
    {
     "name": "stdout",
     "output_type": "stream",
     "text": [
      "WARNING: CHANGE YOUR USERNAME AND PASSWORD!!! \n",
      "\n",
      "Anyone can login as an admin to your node right now because your password is still the default PySyft username and password!!!\n",
      "\n",
      "Connecting to None... done! \t Logging into adp... done!\n"
     ]
    }
   ],
   "source": [
    "domain = sy.login(email=\"info@openmined.org\", password=\"changethis\", port=8081)"
   ]
  },
  {
   "cell_type": "code",
   "execution_count": 4,
   "id": "5a3ddbf6-e633-4c58-8686-368c46717849",
   "metadata": {},
   "outputs": [
    {
     "data": {
      "text/html": [
       "<div>\n",
       "<style scoped>\n",
       "    .dataframe tbody tr th:only-of-type {\n",
       "        vertical-align: middle;\n",
       "    }\n",
       "\n",
       "    .dataframe tbody tr th {\n",
       "        vertical-align: top;\n",
       "    }\n",
       "\n",
       "    .dataframe thead th {\n",
       "        text-align: right;\n",
       "    }\n",
       "</style>\n",
       "<table border=\"1\" class=\"dataframe\">\n",
       "  <thead>\n",
       "    <tr style=\"text-align: right;\">\n",
       "      <th></th>\n",
       "      <th>id</th>\n",
       "      <th>email</th>\n",
       "      <th>name</th>\n",
       "      <th>budget</th>\n",
       "      <th>verify_key</th>\n",
       "      <th>role</th>\n",
       "      <th>added_by</th>\n",
       "      <th>website</th>\n",
       "      <th>institution</th>\n",
       "      <th>daa_pdf</th>\n",
       "      <th>created_at</th>\n",
       "      <th>budget_spent</th>\n",
       "    </tr>\n",
       "  </thead>\n",
       "  <tbody>\n",
       "    <tr>\n",
       "      <th>0</th>\n",
       "      <td>1</td>\n",
       "      <td>info@openmined.org</td>\n",
       "      <td>Jane Doe</td>\n",
       "      <td>5.55</td>\n",
       "      <td>e579a4936c038c75509daf6103acf84b1fececd7caf95c...</td>\n",
       "      <td>Owner</td>\n",
       "      <td>None</td>\n",
       "      <td>None</td>\n",
       "      <td>None</td>\n",
       "      <td>NaN</td>\n",
       "      <td>2022-02-18 23:15:46.389452</td>\n",
       "      <td>5.55</td>\n",
       "    </tr>\n",
       "    <tr>\n",
       "      <th>1</th>\n",
       "      <td>2</td>\n",
       "      <td>sheldon@caltech.edu</td>\n",
       "      <td>Sheldon Cooper</td>\n",
       "      <td>200.00</td>\n",
       "      <td>c1fcf0d3610ad186ac6cc37505af1f3d9d19f07e43ca47...</td>\n",
       "      <td>Data Scientist</td>\n",
       "      <td>Jane Doe</td>\n",
       "      <td></td>\n",
       "      <td></td>\n",
       "      <td>1.0</td>\n",
       "      <td>2022-02-18 23:19:23.689799</td>\n",
       "      <td>200.00</td>\n",
       "    </tr>\n",
       "  </tbody>\n",
       "</table>\n",
       "</div>"
      ],
      "text/plain": [
       "<syft.core.node.common.client_manager.user_api.UserRequestAPI at 0x7ff956d39160>"
      ]
     },
     "execution_count": 4,
     "metadata": {},
     "output_type": "execute_result"
    }
   ],
   "source": [
    "domain.users"
   ]
  },
  {
   "cell_type": "code",
   "execution_count": 26,
   "id": "0fcdfb08-89b3-45bc-961c-f6a9a28b8358",
   "metadata": {},
   "outputs": [],
   "source": [
    "if domain.users.pandas().shape[0] == 1:\n",
    "    domain.users.create(\n",
    "        **{\n",
    "            \"name\": \"Sheldon Cooper\",\n",
    "            \"email\": \"sheldon@caltech.edu\",\n",
    "            \"password\": \"bazinga\",\n",
    "            \"budget\":200\n",
    "        }\n",
    "    )\n",
    "    \n",
    "    domain.users"
   ]
  },
  {
   "cell_type": "code",
   "execution_count": 6,
   "id": "63fabb12-a51d-4d60-8fb4-d8533348fe61",
   "metadata": {},
   "outputs": [],
   "source": [
    "data = np.random.randint(1, 100, size=(5, 5), dtype=np.int32)\n",
    "ishan = Entity(name=\"Ishan\")\n",
    "\n",
    "tensor = sy.Tensor(data).private(min_val=0, max_val=100, entities=ishan)"
   ]
  },
  {
   "cell_type": "code",
   "execution_count": 7,
   "id": "b374e997-4019-4493-8fd2-6dff382a3388",
   "metadata": {},
   "outputs": [
    {
     "data": {
      "text/plain": [
       "array([[68, 29, 56, 70, 81],\n",
       "       [36,  7, 17, 74, 92],\n",
       "       [71, 89, 63, 17, 85],\n",
       "       [28, 93, 74, 60, 55],\n",
       "       [ 2, 85, 57, 39, 97]], dtype=int32)"
      ]
     },
     "execution_count": 7,
     "metadata": {},
     "output_type": "execute_result"
    }
   ],
   "source": [
    "data"
   ]
  },
  {
   "cell_type": "code",
   "execution_count": 8,
   "id": "e67a7c21-41c0-422d-9b2c-200aaea042ee",
   "metadata": {},
   "outputs": [
    {
     "name": "stdout",
     "output_type": "stream",
     "text": [
      "Loading dataset... uploading... SUCCESS!                                                                                                                                      \n",
      "\n",
      "Run <your client variable>.datasets to see your new dataset loaded into your machine!\n"
     ]
    }
   ],
   "source": [
    "domain.load_dataset(\n",
    "    assets={\"data\": tensor},\n",
    "    name=\"Sample data\",\n",
    "    description=\"Sample data to test privacy budget is being updated\"\n",
    ")"
   ]
  },
  {
   "cell_type": "code",
   "execution_count": 9,
   "id": "643c0b6c-b007-41c6-bcd0-c53da09a7528",
   "metadata": {},
   "outputs": [
    {
     "data": {
      "text/html": [
       "<style>\n",
       "                #myInput {\n",
       "                  background-position: 10px 12px; /* Position the search icon */\n",
       "                  background-repeat: no-repeat; /* Do not repeat the icon image */\n",
       "                  background-color: #bbb;\n",
       "                  width: 98%; /* Full-width */\n",
       "                  font-size: 14px; /* Increase font-size */\n",
       "                  padding: 12px 20px 12px 40px; /* Add some padding */\n",
       "                  border: 1px solid #ddd; /* Add a grey border */\n",
       "                  margin-bottom: 12px; /* Add some space below the input */\n",
       "                }\n",
       "\n",
       "                #myTable {\n",
       "                  border-collapse: collapse; /* Collapse borders */\n",
       "                  width: 100%; /* Full-width */\n",
       "                  border: 1px solid #ddd; /* Add a grey border */\n",
       "                  font-size: 14px; /* Increase font-size */\n",
       "                }\n",
       "\n",
       "                #myTable th, #myTable td {\n",
       "                  text-align: left; /* Left-align text */\n",
       "                  padding: 10px; /* Add padding */\n",
       "                }\n",
       "\n",
       "                #myTable tr {\n",
       "                  /* Add a bottom border to all table rows */\n",
       "                  border-bottom: 1px solid #ddd;\n",
       "                }\n",
       "\n",
       "                #myTable tr.header, #myTable tr:hover {\n",
       "                  /* Add a grey background color to the table header and on hover */\n",
       "                  background-color: #777;\n",
       "                }\n",
       "                </style>\n",
       "\n",
       "                <table id=\"myTable\" style=\"width:1000px\">\n",
       "                  <tr class=\"header\">\n",
       "                    <th style=\"width:30px\">Idx</th>\n",
       "                    <th style=\"width:20%;\">Name</th>\n",
       "                    <th style=\"width:35%;\">Description</th>\n",
       "                    <th style=\"width:20%;\">Assets</th>\n",
       "                    <th style=\"width:300px;\">Id</th>\n",
       "                  </tr>\n",
       "                \n",
       "\n",
       "          <tr>\n",
       "            <td>[0]</td>\n",
       "            <td>Sample data</td>\n",
       "            <td>Sample data to test privacy budget is being updated</td>\n",
       "            <td>[\"data\"] -> Tensor<br /><br /></td>\n",
       "            <td>c8f54eba-cbf0-4b0e-a6d9-c3c49c619334</td>\n",
       "          </tr>\n",
       "\n",
       "          <tr>\n",
       "            <td>[1]</td>\n",
       "            <td>Sample data</td>\n",
       "            <td>Sample data to test privacy budget is being updated</td>\n",
       "            <td>[\"data\"] -> Tensor<br /><br /></td>\n",
       "            <td>2ab1f895-a89e-4856-a1e0-965c10ffc221</td>\n",
       "          </tr>\n",
       "\n",
       "          <tr>\n",
       "            <td>[2]</td>\n",
       "            <td>Sample data</td>\n",
       "            <td>Sample data to test privacy budget is being updated</td>\n",
       "            <td>[\"data\"] -> Tensor<br /><br /></td>\n",
       "            <td>797f4d15-71a9-41c0-a584-0063d9711685</td>\n",
       "          </tr>\n",
       "        </table>\n",
       "\n",
       "        <script>\n",
       "        function myFunction() {\n",
       "          // Declare variables\n",
       "          var input, filter, table, tr, td, i, txtValue;\n",
       "          input = document.getElementById(\"myInput\");\n",
       "          filter = input.value.toUpperCase();\n",
       "          table = document.getElementById(\"myTable\");\n",
       "          tr = table.getElementsByTagName(\"tr\");\n",
       "\n",
       "          // Loop through all table rows, and hide those who don't match the search query\n",
       "          for (i = 0; i < tr.length; i++) {\n",
       "            name_td = tr[i].getElementsByTagName(\"td\")[1];\n",
       "            desc_td = tr[i].getElementsByTagName(\"td\")[2];\n",
       "            asset_td = tr[i].getElementsByTagName(\"td\")[3];\n",
       "            id_td = tr[i].getElementsByTagName(\"td\")[4];\n",
       "            if (name_td || desc_td || asset_td || id_td) {\n",
       "              name_txtValue = name_td.textContent || name_td.innerText;\n",
       "              desc_txtValue = desc_td.textContent || name_td.innerText;\n",
       "              asset_txtValue = asset_td.textContent || name_td.innerText;\n",
       "              id_txtValue = id_td.textContent || name_td.innerText;\n",
       "              name_bool = name_txtValue.toUpperCase().indexOf(filter) > -1;\n",
       "              desc_bool = desc_txtValue.toUpperCase().indexOf(filter) > -1;\n",
       "              asset_bool = asset_txtValue.toUpperCase().indexOf(filter) > -1;\n",
       "              id_bool = id_txtValue.toUpperCase().indexOf(filter) > -1;\n",
       "              if (name_bool || desc_bool || asset_bool || id_bool) {\n",
       "                tr[i].style.display = \"\";\n",
       "              } else {\n",
       "                tr[i].style.display = \"none\";\n",
       "              }\n",
       "            }\n",
       "          }\n",
       "        }\n",
       "        </script>"
      ],
      "text/plain": [
       "<syft.core.node.common.client_manager.dataset_api.DatasetRequestAPI at 0x7ff956d39340>"
      ]
     },
     "execution_count": 9,
     "metadata": {},
     "output_type": "execute_result"
    }
   ],
   "source": [
    "domain.datasets"
   ]
  },
  {
   "cell_type": "markdown",
   "id": "7b95beb9-2f55-4cff-abbf-f292d1dc9001",
   "metadata": {},
   "source": [
    "## Log in as Data Scientist"
   ]
  },
  {
   "cell_type": "code",
   "execution_count": 10,
   "id": "a878f45b-8410-4c9c-ab51-ff4d45bbb1c9",
   "metadata": {},
   "outputs": [
    {
     "name": "stdout",
     "output_type": "stream",
     "text": [
      "Connecting to None... done! \t Logging into adp... done!\n"
     ]
    }
   ],
   "source": [
    "ds_node = sy.login(email=\"sheldon@caltech.edu\", password=\"bazinga\", port=8081)"
   ]
  },
  {
   "cell_type": "code",
   "execution_count": 11,
   "id": "ae7e6fec-b2c4-406f-893b-10bfa461a5a3",
   "metadata": {},
   "outputs": [
    {
     "data": {
      "text/html": [
       "<style>\n",
       "                #myInput {\n",
       "                  background-position: 10px 12px; /* Position the search icon */\n",
       "                  background-repeat: no-repeat; /* Do not repeat the icon image */\n",
       "                  background-color: #bbb;\n",
       "                  width: 98%; /* Full-width */\n",
       "                  font-size: 14px; /* Increase font-size */\n",
       "                  padding: 12px 20px 12px 40px; /* Add some padding */\n",
       "                  border: 1px solid #ddd; /* Add a grey border */\n",
       "                  margin-bottom: 12px; /* Add some space below the input */\n",
       "                }\n",
       "\n",
       "                #myTable {\n",
       "                  border-collapse: collapse; /* Collapse borders */\n",
       "                  width: 100%; /* Full-width */\n",
       "                  border: 1px solid #ddd; /* Add a grey border */\n",
       "                  font-size: 14px; /* Increase font-size */\n",
       "                }\n",
       "\n",
       "                #myTable th, #myTable td {\n",
       "                  text-align: left; /* Left-align text */\n",
       "                  padding: 10px; /* Add padding */\n",
       "                }\n",
       "\n",
       "                #myTable tr {\n",
       "                  /* Add a bottom border to all table rows */\n",
       "                  border-bottom: 1px solid #ddd;\n",
       "                }\n",
       "\n",
       "                #myTable tr.header, #myTable tr:hover {\n",
       "                  /* Add a grey background color to the table header and on hover */\n",
       "                  background-color: #777;\n",
       "                }\n",
       "                </style>\n",
       "\n",
       "                <table id=\"myTable\" style=\"width:1000px\">\n",
       "                  <tr class=\"header\">\n",
       "                    <th style=\"width:30px\">Idx</th>\n",
       "                    <th style=\"width:20%;\">Name</th>\n",
       "                    <th style=\"width:35%;\">Description</th>\n",
       "                    <th style=\"width:20%;\">Assets</th>\n",
       "                    <th style=\"width:300px;\">Id</th>\n",
       "                  </tr>\n",
       "                \n",
       "\n",
       "          <tr>\n",
       "            <td>[0]</td>\n",
       "            <td>Sample data</td>\n",
       "            <td>Sample data to test privacy budget is being updated</td>\n",
       "            <td>[\"data\"] -> Tensor<br /><br /></td>\n",
       "            <td>c8f54eba-cbf0-4b0e-a6d9-c3c49c619334</td>\n",
       "          </tr>\n",
       "\n",
       "          <tr>\n",
       "            <td>[1]</td>\n",
       "            <td>Sample data</td>\n",
       "            <td>Sample data to test privacy budget is being updated</td>\n",
       "            <td>[\"data\"] -> Tensor<br /><br /></td>\n",
       "            <td>2ab1f895-a89e-4856-a1e0-965c10ffc221</td>\n",
       "          </tr>\n",
       "\n",
       "          <tr>\n",
       "            <td>[2]</td>\n",
       "            <td>Sample data</td>\n",
       "            <td>Sample data to test privacy budget is being updated</td>\n",
       "            <td>[\"data\"] -> Tensor<br /><br /></td>\n",
       "            <td>797f4d15-71a9-41c0-a584-0063d9711685</td>\n",
       "          </tr>\n",
       "        </table>\n",
       "\n",
       "        <script>\n",
       "        function myFunction() {\n",
       "          // Declare variables\n",
       "          var input, filter, table, tr, td, i, txtValue;\n",
       "          input = document.getElementById(\"myInput\");\n",
       "          filter = input.value.toUpperCase();\n",
       "          table = document.getElementById(\"myTable\");\n",
       "          tr = table.getElementsByTagName(\"tr\");\n",
       "\n",
       "          // Loop through all table rows, and hide those who don't match the search query\n",
       "          for (i = 0; i < tr.length; i++) {\n",
       "            name_td = tr[i].getElementsByTagName(\"td\")[1];\n",
       "            desc_td = tr[i].getElementsByTagName(\"td\")[2];\n",
       "            asset_td = tr[i].getElementsByTagName(\"td\")[3];\n",
       "            id_td = tr[i].getElementsByTagName(\"td\")[4];\n",
       "            if (name_td || desc_td || asset_td || id_td) {\n",
       "              name_txtValue = name_td.textContent || name_td.innerText;\n",
       "              desc_txtValue = desc_td.textContent || name_td.innerText;\n",
       "              asset_txtValue = asset_td.textContent || name_td.innerText;\n",
       "              id_txtValue = id_td.textContent || name_td.innerText;\n",
       "              name_bool = name_txtValue.toUpperCase().indexOf(filter) > -1;\n",
       "              desc_bool = desc_txtValue.toUpperCase().indexOf(filter) > -1;\n",
       "              asset_bool = asset_txtValue.toUpperCase().indexOf(filter) > -1;\n",
       "              id_bool = id_txtValue.toUpperCase().indexOf(filter) > -1;\n",
       "              if (name_bool || desc_bool || asset_bool || id_bool) {\n",
       "                tr[i].style.display = \"\";\n",
       "              } else {\n",
       "                tr[i].style.display = \"none\";\n",
       "              }\n",
       "            }\n",
       "          }\n",
       "        }\n",
       "        </script>"
      ],
      "text/plain": [
       "<syft.core.node.common.client_manager.dataset_api.DatasetRequestAPI at 0x7ff9567f2a30>"
      ]
     },
     "execution_count": 11,
     "metadata": {},
     "output_type": "execute_result"
    }
   ],
   "source": [
    "ds_node.datasets"
   ]
  },
  {
   "cell_type": "code",
   "execution_count": 12,
   "id": "a3ad791b-c1ba-45bf-b4cd-ddc637000397",
   "metadata": {},
   "outputs": [
    {
     "data": {
      "text/plain": [
       "200.0"
      ]
     },
     "execution_count": 12,
     "metadata": {},
     "output_type": "execute_result"
    }
   ],
   "source": [
    "ds_node.privacy_budget"
   ]
  },
  {
   "cell_type": "code",
   "execution_count": 13,
   "id": "bcb633c3-1cdd-4802-b51a-7bc630a25ff0",
   "metadata": {},
   "outputs": [],
   "source": [
    "ptr = ds_node.datasets[-1][\"data\"]"
   ]
  },
  {
   "cell_type": "code",
   "execution_count": 14,
   "id": "1464c207-db33-45a8-bdf6-caaa9e190b51",
   "metadata": {},
   "outputs": [
    {
     "data": {
      "text/plain": [
       "array([[94, 66, 37, 15,  6],\n",
       "       [ 6, 16, 57,  9, 96],\n",
       "       [39,  0, 88, 87, 17],\n",
       "       [21, 56, 10, 79, 33],\n",
       "       [27, 72, 97, 51, 53]], dtype=int32)\n",
       "\n",
       " (The data printed above is synthetic - it's an imitation of the real data.)"
      ]
     },
     "execution_count": 14,
     "metadata": {},
     "output_type": "execute_result"
    }
   ],
   "source": [
    "ptr"
   ]
  },
  {
   "cell_type": "code",
   "execution_count": 15,
   "id": "5fd653d2-584b-4637-9d25-66ea0376c7ad",
   "metadata": {},
   "outputs": [],
   "source": [
    "result = ptr + ptr"
   ]
  },
  {
   "cell_type": "code",
   "execution_count": 16,
   "id": "8960e23d-06e8-4895-8fce-b4d0c5f99b5e",
   "metadata": {},
   "outputs": [],
   "source": [
    "published_result = result.publish(sigma=2)"
   ]
  },
  {
   "cell_type": "code",
   "execution_count": 17,
   "id": "9b58e566-f405-4991-9bab-4c2baf3c62fb",
   "metadata": {},
   "outputs": [
    {
     "name": "stdout",
     "output_type": "stream",
     "text": [
      "[[ 0.25794939  3.92859779 -3.95740089  0.46080803 -3.22837979]\n",
      " [-1.24034939  2.98564661 -2.15095737  0.70116107 -1.91253445]\n",
      " [ 3.27461891  1.87878446  1.67048117 -1.1635581   0.53179833]\n",
      " [-2.80881363 -1.120212   -0.90967872  2.69871674  1.50395289]\n",
      " [ 2.97687841  0.61946438  0.81029721  0.65812988  1.56049942]]\n",
      "You might have run out of privacy budget :(\n"
     ]
    },
    {
     "data": {
      "text/plain": [
       "array([[ 0.25794939,  3.92859779, -3.95740089,  0.46080803, -3.22837979],\n",
       "       [-1.24034939,  2.98564661, -2.15095737,  0.70116107, -1.91253445],\n",
       "       [ 3.27461891,  1.87878446,  1.67048117, -1.1635581 ,  0.53179833],\n",
       "       [-2.80881363, -1.120212  , -0.90967872,  2.69871674,  1.50395289],\n",
       "       [ 2.97687841,  0.61946438,  0.81029721,  0.65812988,  1.56049942]])"
      ]
     },
     "execution_count": 17,
     "metadata": {},
     "output_type": "execute_result"
    }
   ],
   "source": [
    "published_result.get()"
   ]
  },
  {
   "cell_type": "code",
   "execution_count": 22,
   "id": "1258b8cd-c3b6-419f-bfb2-db9eea619bf3",
   "metadata": {},
   "outputs": [
    {
     "data": {
      "text/plain": [
       "200.0"
      ]
     },
     "execution_count": 22,
     "metadata": {},
     "output_type": "execute_result"
    }
   ],
   "source": [
    "ds_node.privacy_budget"
   ]
  },
  {
   "cell_type": "code",
   "execution_count": null,
   "id": "d8693bc4-10bf-49b1-ab11-f4f4731d21d3",
   "metadata": {},
   "outputs": [],
   "source": []
  }
 ],
 "metadata": {
  "kernelspec": {
   "display_name": "Python 3 (ipykernel)",
   "language": "python",
   "name": "python3"
  },
  "language_info": {
   "codemirror_mode": {
    "name": "ipython",
    "version": 3
   },
   "file_extension": ".py",
   "mimetype": "text/x-python",
   "name": "python",
   "nbconvert_exporter": "python",
   "pygments_lexer": "ipython3",
   "version": "3.9.7"
  }
 },
 "nbformat": 4,
 "nbformat_minor": 5
}
