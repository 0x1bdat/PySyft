{
 "cells": [
  {
   "cell_type": "markdown",
   "id": "4f2fed2f",
   "metadata": {},
   "source": [
    "<h1>Data Owner </h1>"
   ]
  },
  {
   "cell_type": "code",
   "execution_count": 1,
   "id": "9486d2e0",
   "metadata": {},
   "outputs": [],
   "source": [
    "# Import libraries\n",
    "import syft as sy\n",
    "import torch\n",
    "import numpy as np\n",
    "from syft.core.adp.entity import Entity"
   ]
  },
  {
   "cell_type": "code",
   "execution_count": 2,
   "id": "4543e99c",
   "metadata": {},
   "outputs": [
    {
     "name": "stdout",
     "output_type": "stream",
     "text": [
      "Connecting to http://localhost:8081... done! \t Logging into romantic_lecun... done!\n"
     ]
    }
   ],
   "source": [
    "# Login to new Domain\n",
    "\n",
    "uk = sy.login(email=\"info@openmined.org\", password=\"changethis\", port=8081)"
   ]
  },
  {
   "cell_type": "code",
   "execution_count": 3,
   "id": "8673a880",
   "metadata": {},
   "outputs": [
    {
     "data": {
      "text/html": [
       "<div>\n",
       "<style scoped>\n",
       "    .dataframe tbody tr th:only-of-type {\n",
       "        vertical-align: middle;\n",
       "    }\n",
       "\n",
       "    .dataframe tbody tr th {\n",
       "        vertical-align: top;\n",
       "    }\n",
       "\n",
       "    .dataframe thead th {\n",
       "        text-align: right;\n",
       "    }\n",
       "</style>\n",
       "<table border=\"1\" class=\"dataframe\">\n",
       "  <thead>\n",
       "    <tr style=\"text-align: right;\">\n",
       "      <th></th>\n",
       "      <th>ID</th>\n",
       "      <th>Tags</th>\n",
       "      <th>Description</th>\n",
       "      <th>object_type</th>\n",
       "    </tr>\n",
       "  </thead>\n",
       "  <tbody>\n",
       "    <tr>\n",
       "      <th>0</th>\n",
       "      <td>&lt;UID: 8827daa9b93b42ae9caefe81914df504&gt;</td>\n",
       "      <td>[data2]</td>\n",
       "      <td></td>\n",
       "      <td>&lt;class 'syft.core.tensor.tensor.Tensor'&gt;</td>\n",
       "    </tr>\n",
       "    <tr>\n",
       "      <th>1</th>\n",
       "      <td>&lt;UID: 6b632fddc52941c9a273415a0010f975&gt;</td>\n",
       "      <td>[]</td>\n",
       "      <td></td>\n",
       "      <td>&lt;class 'syft.lib.python.Int'&gt;</td>\n",
       "    </tr>\n",
       "    <tr>\n",
       "      <th>2</th>\n",
       "      <td>&lt;UID: 36d519216f4e4d78bed05f7cfb2124a4&gt;</td>\n",
       "      <td>[]</td>\n",
       "      <td></td>\n",
       "      <td>&lt;class 'syft.lib.python.Int'&gt;</td>\n",
       "    </tr>\n",
       "  </tbody>\n",
       "</table>\n",
       "</div>"
      ],
      "text/plain": [
       "[<syft.proxy.syft.core.tensor.tensor.TensorPointer object at 0x159f1f970>, <syft.proxy.syft.lib.python.IntPointer object at 0x159f1fee0>, <syft.proxy.syft.lib.python.IntPointer object at 0x159c560a0>]"
      ]
     },
     "execution_count": 3,
     "metadata": {},
     "output_type": "execute_result"
    }
   ],
   "source": [
    "# Look at data already in the Domain\n",
    "uk.store"
   ]
  },
  {
   "cell_type": "code",
   "execution_count": 4,
   "id": "88b2364a",
   "metadata": {
    "tags": []
   },
   "outputs": [],
   "source": [
    "n = 10\n",
    "\n",
    "data_batch = np.array([13] * n)\n",
    "\n",
    "entities = list()\n",
    "for i in range(n):\n",
    "    entities.append(Entity(name=str(i)))\n",
    "\n",
    "# Upload a private dataset to the Domain object, as the root owner\n",
    "data = sy.Tensor(data_batch).private(0, 20, entities=entities).tag(\"data2\")\n",
    "# target = sy.Tensor(label_batch).private(0.01, 1, entity=ishan).autograd(requires_grad=True).tag(\"target2\")"
   ]
  },
  {
   "cell_type": "code",
   "execution_count": 5,
   "id": "eb77cf0a-30b3-400e-b5c0-d696a844ce18",
   "metadata": {},
   "outputs": [
    {
     "data": {
      "text/plain": [
       "Tensor(child=RowEntityPhiTensor(child=[SingleEntityPhiTensor(entity=0, child=[13]), SingleEntityPhiTensor(entity=1, child=[13]), SingleEntityPhiTensor(entity=2, child=[13]), SingleEntityPhiTensor(entity=3, child=[13]), SingleEntityPhiTensor(entity=4, child=[13]), SingleEntityPhiTensor(entity=5, child=[13]), SingleEntityPhiTensor(entity=6, child=[13]), SingleEntityPhiTensor(entity=7, child=[13]), SingleEntityPhiTensor(entity=8, child=[13]), SingleEntityPhiTensor(entity=9, child=[13])]))"
      ]
     },
     "execution_count": 5,
     "metadata": {},
     "output_type": "execute_result"
    }
   ],
   "source": [
    "data"
   ]
  },
  {
   "cell_type": "code",
   "execution_count": 6,
   "id": "155eea88-b09d-4acb-ae9f-def4d59bc950",
   "metadata": {},
   "outputs": [
    {
     "data": {
      "text/plain": [
       "array([13, 13, 13, 13, 13, 13, 13, 13, 13, 13])"
      ]
     },
     "execution_count": 6,
     "metadata": {},
     "output_type": "execute_result"
    }
   ],
   "source": [
    "data_batch"
   ]
  },
  {
   "cell_type": "code",
   "execution_count": 13,
   "id": "1425024c",
   "metadata": {},
   "outputs": [],
   "source": [
    "# Send data to the domain object\n",
    "data_ptr = data.send(uk)"
   ]
  },
  {
   "cell_type": "code",
   "execution_count": 8,
   "id": "44db0b64",
   "metadata": {},
   "outputs": [],
   "source": [
    "# target_ptr = target.send(uk)"
   ]
  },
  {
   "cell_type": "code",
   "execution_count": 14,
   "id": "e991f92d",
   "metadata": {},
   "outputs": [
    {
     "data": {
      "text/html": [
       "<div>\n",
       "<style scoped>\n",
       "    .dataframe tbody tr th:only-of-type {\n",
       "        vertical-align: middle;\n",
       "    }\n",
       "\n",
       "    .dataframe tbody tr th {\n",
       "        vertical-align: top;\n",
       "    }\n",
       "\n",
       "    .dataframe thead th {\n",
       "        text-align: right;\n",
       "    }\n",
       "</style>\n",
       "<table border=\"1\" class=\"dataframe\">\n",
       "  <thead>\n",
       "    <tr style=\"text-align: right;\">\n",
       "      <th></th>\n",
       "      <th>ID</th>\n",
       "      <th>Tags</th>\n",
       "      <th>Description</th>\n",
       "      <th>object_type</th>\n",
       "    </tr>\n",
       "  </thead>\n",
       "  <tbody>\n",
       "    <tr>\n",
       "      <th>0</th>\n",
       "      <td>&lt;UID: 86722d5665b04b6e9e62adf63fe55197&gt;</td>\n",
       "      <td>[data2]</td>\n",
       "      <td></td>\n",
       "      <td>&lt;class 'syft.core.tensor.tensor.Tensor'&gt;</td>\n",
       "    </tr>\n",
       "  </tbody>\n",
       "</table>\n",
       "</div>"
      ],
      "text/plain": [
       "[<syft.proxy.syft.core.tensor.tensor.TensorPointer object at 0x1094a79d0>]"
      ]
     },
     "execution_count": 14,
     "metadata": {},
     "output_type": "execute_result"
    }
   ],
   "source": [
    "uk.store"
   ]
  },
  {
   "cell_type": "code",
   "execution_count": 15,
   "id": "25f2b62a",
   "metadata": {},
   "outputs": [],
   "source": [
    "# # Step 3: Verify data was logged correctly\n",
    "# print([i.id_at_location for i in (data_ptr, target_ptr)])"
   ]
  },
  {
   "cell_type": "code",
   "execution_count": 16,
   "id": "e4fb3806",
   "metadata": {},
   "outputs": [
    {
     "data": {
      "text/html": [
       "<div>\n",
       "<style scoped>\n",
       "    .dataframe tbody tr th:only-of-type {\n",
       "        vertical-align: middle;\n",
       "    }\n",
       "\n",
       "    .dataframe tbody tr th {\n",
       "        vertical-align: top;\n",
       "    }\n",
       "\n",
       "    .dataframe thead th {\n",
       "        text-align: right;\n",
       "    }\n",
       "</style>\n",
       "<table border=\"1\" class=\"dataframe\">\n",
       "  <thead>\n",
       "    <tr style=\"text-align: right;\">\n",
       "      <th></th>\n",
       "      <th>ID</th>\n",
       "      <th>Tags</th>\n",
       "      <th>Description</th>\n",
       "      <th>object_type</th>\n",
       "    </tr>\n",
       "  </thead>\n",
       "  <tbody>\n",
       "    <tr>\n",
       "      <th>0</th>\n",
       "      <td>&lt;UID: 86722d5665b04b6e9e62adf63fe55197&gt;</td>\n",
       "      <td>[data2]</td>\n",
       "      <td></td>\n",
       "      <td>&lt;class 'syft.core.tensor.tensor.Tensor'&gt;</td>\n",
       "    </tr>\n",
       "  </tbody>\n",
       "</table>\n",
       "</div>"
      ],
      "text/plain": [
       "[<syft.proxy.syft.core.tensor.tensor.TensorPointer object at 0x10938ea00>]"
      ]
     },
     "execution_count": 16,
     "metadata": {},
     "output_type": "execute_result"
    }
   ],
   "source": [
    "uk.store"
   ]
  },
  {
   "cell_type": "code",
   "execution_count": null,
   "id": "0745934a",
   "metadata": {},
   "outputs": [],
   "source": []
  },
  {
   "cell_type": "code",
   "execution_count": null,
   "id": "8212866a",
   "metadata": {},
   "outputs": [],
   "source": []
  }
 ],
 "metadata": {
  "kernelspec": {
   "display_name": "Python 3 (ipykernel)",
   "language": "python",
   "name": "python3"
  },
  "language_info": {
   "codemirror_mode": {
    "name": "ipython",
    "version": 3
   },
   "file_extension": ".py",
   "mimetype": "text/x-python",
   "name": "python",
   "nbconvert_exporter": "python",
   "pygments_lexer": "ipython3",
   "version": "3.9.4"
  }
 },
 "nbformat": 4,
 "nbformat_minor": 5
}
