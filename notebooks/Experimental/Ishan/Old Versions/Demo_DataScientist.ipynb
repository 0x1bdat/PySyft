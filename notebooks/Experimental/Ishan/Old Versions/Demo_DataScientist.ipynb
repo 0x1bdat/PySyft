{
 "cells": [
  {
   "cell_type": "markdown",
   "id": "c9930324",
   "metadata": {},
   "source": [
    "<h1>Data Scientist</h1>"
   ]
  },
  {
   "cell_type": "code",
   "execution_count": 1,
   "id": "13e2161e",
   "metadata": {},
   "outputs": [],
   "source": [
    "# Import libraries\n",
    "import syft as sy\n",
    "import torch\n",
    "import numpy as np\n",
    "from syft.core.adp.entity import Entity"
   ]
  },
  {
   "cell_type": "code",
   "execution_count": 2,
   "id": "5a29a8d8",
   "metadata": {},
   "outputs": [
    {
     "name": "stdout",
     "output_type": "stream",
     "text": [
      "Connecting to http://localhost:8081... done! \t Logging into gracious_winston... done!\n"
     ]
    }
   ],
   "source": [
    "# Login to new Domain \n",
    "uk = sy.login(email=\"info@openmined.org\", password=\"changethis\", port=8081)"
   ]
  },
  {
   "cell_type": "code",
   "execution_count": 3,
   "id": "804e4b8c",
   "metadata": {},
   "outputs": [
    {
     "data": {
      "text/html": [
       "<div>\n",
       "<style scoped>\n",
       "    .dataframe tbody tr th:only-of-type {\n",
       "        vertical-align: middle;\n",
       "    }\n",
       "\n",
       "    .dataframe tbody tr th {\n",
       "        vertical-align: top;\n",
       "    }\n",
       "\n",
       "    .dataframe thead th {\n",
       "        text-align: right;\n",
       "    }\n",
       "</style>\n",
       "<table border=\"1\" class=\"dataframe\">\n",
       "  <thead>\n",
       "    <tr style=\"text-align: right;\">\n",
       "      <th></th>\n",
       "      <th>ID</th>\n",
       "      <th>Tags</th>\n",
       "      <th>Description</th>\n",
       "      <th>object_type</th>\n",
       "    </tr>\n",
       "  </thead>\n",
       "  <tbody>\n",
       "    <tr>\n",
       "      <th>0</th>\n",
       "      <td>&lt;UID: 00431e35a3b84d6098531ee5ff16a544&gt;</td>\n",
       "      <td>[data2]</td>\n",
       "      <td></td>\n",
       "      <td>&lt;class 'syft.core.tensor.tensor.Tensor'&gt;</td>\n",
       "    </tr>\n",
       "  </tbody>\n",
       "</table>\n",
       "</div>"
      ],
      "text/plain": [
       "[<syft.proxy.syft.core.tensor.tensor.TensorPointer object at 0x154d91ee0>]"
      ]
     },
     "execution_count": 3,
     "metadata": {},
     "output_type": "execute_result"
    }
   ],
   "source": [
    "# Look at data already in the Domain\n",
    "uk.store"
   ]
  },
  {
   "cell_type": "code",
   "execution_count": 4,
   "id": "19709bcf",
   "metadata": {},
   "outputs": [],
   "source": [
    "data_ptr = uk.store['data2']\n",
    "# target_ptr = uk.store['target']"
   ]
  },
  {
   "cell_type": "code",
   "execution_count": 5,
   "id": "5d7d393e",
   "metadata": {},
   "outputs": [],
   "source": [
    "s_ptr = data_ptr.sum(0) / 10"
   ]
  },
  {
   "cell_type": "code",
   "execution_count": 15,
   "id": "9f69f5ac-c0cb-4924-abcc-2dc2391ee4b6",
   "metadata": {},
   "outputs": [],
   "source": [
    "s_ptr = data_ptr.sum(0) / 10"
   ]
  },
  {
   "cell_type": "code",
   "execution_count": null,
   "id": "fddc2e09-b9c6-4d3c-a833-67736634fd3e",
   "metadata": {},
   "outputs": [],
   "source": []
  },
  {
   "cell_type": "code",
   "execution_count": null,
   "id": "70c8a194-1669-4140-956e-36293db2a87a",
   "metadata": {},
   "outputs": [],
   "source": []
  },
  {
   "cell_type": "code",
   "execution_count": 16,
   "id": "b9236850",
   "metadata": {},
   "outputs": [
    {
     "name": "stdout",
     "output_type": "stream",
     "text": [
      "a\n",
      "b\n",
      "c\n",
      "d\n"
     ]
    }
   ],
   "source": [
    "out = s_ptr.publish(client=uk,sigma=1)"
   ]
  },
  {
   "cell_type": "code",
   "execution_count": 10,
   "id": "aaccbfda",
   "metadata": {},
   "outputs": [
    {
     "data": {
      "text/plain": [
       "Tensor(child=[14.13445102])"
      ]
     },
     "execution_count": 10,
     "metadata": {},
     "output_type": "execute_result"
    }
   ],
   "source": [
    "out.get()"
   ]
  },
  {
   "cell_type": "code",
   "execution_count": null,
   "id": "9ac5f4b2",
   "metadata": {},
   "outputs": [],
   "source": []
  },
  {
   "cell_type": "code",
   "execution_count": null,
   "id": "cb00e0cf",
   "metadata": {},
   "outputs": [],
   "source": []
  },
  {
   "cell_type": "code",
   "execution_count": 14,
   "id": "00a83e0c",
   "metadata": {},
   "outputs": [
    {
     "name": "stdout",
     "output_type": "stream",
     "text": [
      "a\n",
      "b\n",
      "c\n",
      "d\n",
      "a\n",
      "b\n",
      "c\n",
      "d\n",
      "a\n",
      "b\n",
      "c\n",
      "d\n",
      "a\n",
      "b\n",
      "c\n",
      "d\n",
      "a\n",
      "b\n",
      "c\n",
      "d\n",
      "a\n",
      "b\n",
      "c\n",
      "d\n",
      "a\n",
      "b\n",
      "c\n",
      "d\n",
      "a\n",
      "b\n",
      "c\n",
      "d\n",
      "a\n",
      "b\n",
      "c\n",
      "d\n",
      "a\n",
      "b\n",
      "c\n",
      "d\n"
     ]
    }
   ],
   "source": [
    "for i in range(10):\n",
    "    s_ptr = data_ptr.sum(0) / 10\n",
    "    out = s_ptr.publish(client=uk,sigma=1)"
   ]
  },
  {
   "cell_type": "code",
   "execution_count": 13,
   "id": "e69faf95",
   "metadata": {},
   "outputs": [
    {
     "name": "stdout",
     "output_type": "stream",
     "text": [
      "done\n"
     ]
    }
   ],
   "source": [
    "print(\"done\")"
   ]
  },
  {
   "cell_type": "code",
   "execution_count": null,
   "id": "8f005f5d",
   "metadata": {},
   "outputs": [],
   "source": []
  },
  {
   "cell_type": "code",
   "execution_count": null,
   "id": "409e32af",
   "metadata": {},
   "outputs": [],
   "source": []
  },
  {
   "cell_type": "code",
   "execution_count": null,
   "id": "604ca80d",
   "metadata": {},
   "outputs": [],
   "source": [
    "data_ptr.get()"
   ]
  },
  {
   "cell_type": "code",
   "execution_count": null,
   "id": "184b3cd0",
   "metadata": {},
   "outputs": [],
   "source": [
    "o = ac.send(uk)"
   ]
  },
  {
   "cell_type": "code",
   "execution_count": null,
   "id": "c02632c7",
   "metadata": {},
   "outputs": [],
   "source": [
    "uk.store"
   ]
  },
  {
   "cell_type": "code",
   "execution_count": null,
   "id": "9f7b2ad7",
   "metadata": {},
   "outputs": [],
   "source": []
  },
  {
   "cell_type": "code",
   "execution_count": null,
   "id": "7f43faa4",
   "metadata": {},
   "outputs": [],
   "source": [
    "import syft as sy"
   ]
  },
  {
   "cell_type": "code",
   "execution_count": null,
   "id": "e898edc6",
   "metadata": {},
   "outputs": [],
   "source": []
  },
  {
   "cell_type": "code",
   "execution_count": null,
   "id": "440e2d25",
   "metadata": {},
   "outputs": [],
   "source": [
    "blob = sy.serialize(ac)"
   ]
  },
  {
   "cell_type": "code",
   "execution_count": null,
   "id": "65fb3c53",
   "metadata": {},
   "outputs": [],
   "source": [
    "sy.deserialize(blob)"
   ]
  },
  {
   "cell_type": "code",
   "execution_count": null,
   "id": "cb1169e1",
   "metadata": {},
   "outputs": [],
   "source": []
  },
  {
   "cell_type": "code",
   "execution_count": null,
   "id": "938553c3",
   "metadata": {},
   "outputs": [],
   "source": []
  },
  {
   "cell_type": "code",
   "execution_count": null,
   "id": "2096aa30",
   "metadata": {},
   "outputs": [],
   "source": [
    "out = target_ptr.publish(sigma=uk)"
   ]
  },
  {
   "cell_type": "code",
   "execution_count": null,
   "id": "a55ace27",
   "metadata": {},
   "outputs": [],
   "source": [
    "out"
   ]
  },
  {
   "cell_type": "code",
   "execution_count": null,
   "id": "fb447e18",
   "metadata": {},
   "outputs": [],
   "source": [
    "sy.serialize(uk)"
   ]
  },
  {
   "cell_type": "code",
   "execution_count": null,
   "id": "4cc31610",
   "metadata": {},
   "outputs": [],
   "source": []
  },
  {
   "cell_type": "code",
   "execution_count": null,
   "id": "bf05eb1f",
   "metadata": {},
   "outputs": [],
   "source": []
  },
  {
   "cell_type": "code",
   "execution_count": null,
   "id": "14125486",
   "metadata": {},
   "outputs": [],
   "source": []
  },
  {
   "cell_type": "code",
   "execution_count": null,
   "id": "377e8135",
   "metadata": {},
   "outputs": [],
   "source": []
  },
  {
   "cell_type": "code",
   "execution_count": null,
   "id": "08405e76",
   "metadata": {},
   "outputs": [],
   "source": []
  },
  {
   "cell_type": "code",
   "execution_count": null,
   "id": "097159b0",
   "metadata": {},
   "outputs": [],
   "source": []
  },
  {
   "cell_type": "code",
   "execution_count": null,
   "id": "9e9c8949",
   "metadata": {},
   "outputs": [],
   "source": []
  },
  {
   "cell_type": "code",
   "execution_count": null,
   "id": "466bf3e5",
   "metadata": {},
   "outputs": [],
   "source": []
  },
  {
   "cell_type": "code",
   "execution_count": null,
   "id": "aa0242a7",
   "metadata": {},
   "outputs": [],
   "source": []
  },
  {
   "cell_type": "code",
   "execution_count": null,
   "id": "86567465",
   "metadata": {},
   "outputs": [],
   "source": [
    "data_ptr.request(\"I need this data to solve a case\")"
   ]
  },
  {
   "cell_type": "code",
   "execution_count": null,
   "id": "308dcddd",
   "metadata": {},
   "outputs": [],
   "source": [
    "data = data_ptr.get()"
   ]
  },
  {
   "cell_type": "code",
   "execution_count": null,
   "id": "0d8a3dd0",
   "metadata": {},
   "outputs": [],
   "source": [
    "weights = sy.Tensor(np.random.rand(3, 3)).autograd(requires_grad=True).tag(\"my_weights\")\n",
    "weights_ptr = weights.send(uk)"
   ]
  },
  {
   "cell_type": "code",
   "execution_count": null,
   "id": "f1d04476",
   "metadata": {
    "tags": []
   },
   "outputs": [],
   "source": [
    "print(weights)"
   ]
  },
  {
   "cell_type": "code",
   "execution_count": null,
   "id": "8bbe8da5",
   "metadata": {},
   "outputs": [],
   "source": [
    "autograd_tensor = sy.Tensor(np.random.randn(1, 3)).autograd(requires_grad=True).tag(\"autograd\")\n",
    "autograd_ptr = autograd_tensor.send(uk)"
   ]
  },
  {
   "cell_type": "code",
   "execution_count": null,
   "id": "a93994e9",
   "metadata": {},
   "outputs": [],
   "source": [
    "for i in range(1):\n",
    "    pred = data_ptr.dot(weights_ptr)\n",
    "    diff = target_ptr - pred\n",
    "\n",
    "    pre_loss = diff * diff\n",
    "\n",
    "    loss = np.mean(pre_loss, axis=1)\n",
    "    loss.backward()\n",
    "\n",
    "    wdiff = weights_ptr.grad * 0.01\n",
    "    weights_ptr = -wdiff + weights_ptr\n",
    "\n",
    "gamma_ptr = weights_ptr.gamma"
   ]
  },
  {
   "cell_type": "code",
   "execution_count": null,
   "id": "30819962",
   "metadata": {},
   "outputs": [],
   "source": [
    "uk.store.pandas"
   ]
  }
 ],
 "metadata": {
  "kernelspec": {
   "display_name": "Python 3 (ipykernel)",
   "language": "python",
   "name": "python3"
  },
  "language_info": {
   "codemirror_mode": {
    "name": "ipython",
    "version": 3
   },
   "file_extension": ".py",
   "mimetype": "text/x-python",
   "name": "python",
   "nbconvert_exporter": "python",
   "pygments_lexer": "ipython3",
   "version": "3.9.4"
  }
 },
 "nbformat": 4,
 "nbformat_minor": 5
}
