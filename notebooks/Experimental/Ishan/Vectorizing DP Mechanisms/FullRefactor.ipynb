{
 "cells": [
  {
   "cell_type": "markdown",
   "id": "970131ce-f54c-46fc-b09b-17e540e8d99e",
   "metadata": {},
   "source": [
    "### The Goal\n",
    "\n",
    "iDPGaussianMechanism relies very heavily on the `autodp` library, so I figured I would pull all the autodp code involved in the iDPGaussianMechanism class into one notebook, and see what could be vectorized and sped up, and what couldn't"
   ]
  },
  {
   "cell_type": "code",
   "execution_count": 1,
   "id": "908318e7-4906-442d-a0b6-382240139359",
   "metadata": {},
   "outputs": [],
   "source": [
    "import numpy as np\n",
    "from functools import lru_cache\n",
    "from scipy.optimize import minimize_scalar, root_scalar\n",
    "from scipy.stats import norm\n",
    "import math"
   ]
  },
  {
   "cell_type": "code",
   "execution_count": 2,
   "id": "55133f06-453a-4743-9adf-c0de7d1b09e4",
   "metadata": {},
   "outputs": [],
   "source": [
    "## Type hints\n",
    "\n",
    "# stdlib\n",
    "from typing import Dict\n",
    "from typing import List\n",
    "from typing import Optional\n",
    "from typing import Iterable\n",
    "from typing import Tuple\n",
    "\n",
    "# third party\n",
    "from nacl.signing import VerifyKey"
   ]
  },
  {
   "cell_type": "markdown",
   "id": "b3e6119a-86e4-4b05-a61c-9a849c54a5c6",
   "metadata": {},
   "source": [
    "### autodp code begins here\n",
    "\n",
    "#### UTILS.PY"
   ]
  },
  {
   "cell_type": "code",
   "execution_count": 3,
   "id": "af1b5439-4b78-4180-b811-9626d47a433e",
   "metadata": {},
   "outputs": [],
   "source": [
    "def stable_log_diff_exp(x, y):\n",
    "    # ensure that y > x\n",
    "    # this function returns the stable version of log(exp(y)-exp(x)) if y > x\n",
    "    if y > x:\n",
    "        s = True\n",
    "        mag = y + np.log(1 - np.exp(x - y))\n",
    "    elif y < x:\n",
    "        s = False\n",
    "        mag = x + np.log(1 - np.exp(y - x))\n",
    "    else:\n",
    "        s = True\n",
    "        mag = -np.inf\n",
    "\n",
    "    return s, mag"
   ]
  },
  {
   "cell_type": "code",
   "execution_count": 4,
   "id": "f4fd0625-e16e-4ed1-b9ad-64af1d2e8e8c",
   "metadata": {},
   "outputs": [],
   "source": [
    "def stable_log_sinh(x):\n",
    "    assert(x >= 0)\n",
    "    s, mag = stable_log_diff_exp(x, -x)\n",
    "    return np.log(0.5) + mag"
   ]
  },
  {
   "cell_type": "code",
   "execution_count": 5,
   "id": "b1257993-f780-4809-b009-0cccf6a03778",
   "metadata": {},
   "outputs": [
    {
     "data": {
      "text/plain": [
       "(True, 4.854586542131141)"
      ]
     },
     "execution_count": 5,
     "metadata": {},
     "output_type": "execute_result"
    }
   ],
   "source": [
    "stable_log_diff_exp(3, 5)"
   ]
  },
  {
   "cell_type": "code",
   "execution_count": 6,
   "id": "a7946239-7080-433c-b0cf-064e778e7a48",
   "metadata": {},
   "outputs": [
    {
     "data": {
      "text/plain": [
       "4.306807418479684"
      ]
     },
     "execution_count": 6,
     "metadata": {},
     "output_type": "execute_result"
    }
   ],
   "source": [
    "stable_log_sinh(5)"
   ]
  },
  {
   "cell_type": "markdown",
   "id": "a53061fe-1c3d-4018-9684-2e80ecded372",
   "metadata": {},
   "source": [
    "#### CONVERTER.PY"
   ]
  },
  {
   "cell_type": "code",
   "execution_count": 7,
   "id": "f165a93f-b57f-438a-a0cc-43633fc5a065",
   "metadata": {},
   "outputs": [],
   "source": [
    "def get_logdelta_ana_gaussian(sigma,eps):\n",
    "    \"\"\" This function calculates the delta parameter for analytical gaussian mechanism given eps\"\"\"\n",
    "    assert(eps>=0)\n",
    "    s, mag = stable_log_diff_exp(norm.logcdf(0.5 / sigma - eps * sigma),\n",
    "                                       eps + norm.logcdf(-0.5/sigma - eps * sigma))\n",
    "    return mag"
   ]
  },
  {
   "cell_type": "code",
   "execution_count": 8,
   "id": "9116dc7b-d208-4f30-9967-a66c3dcb257f",
   "metadata": {},
   "outputs": [
    {
     "data": {
      "text/plain": [
       "-2.9480794551996623"
      ]
     },
     "execution_count": 8,
     "metadata": {},
     "output_type": "execute_result"
    }
   ],
   "source": [
    "get_logdelta_ana_gaussian(sigma=2, eps=0.5)"
   ]
  },
  {
   "cell_type": "code",
   "execution_count": 9,
   "id": "71a5b25e-8644-4148-9096-c9d51873d803",
   "metadata": {},
   "outputs": [],
   "source": [
    "def get_eps_ana_gaussian(sigma, delta):\n",
    "    \"\"\" This function calculates the gaussian mechanism given sigma and delta using analytical GM\"\"\"\n",
    "    # Basically inverting the above function by solving a nonlinear equation\n",
    "    assert(delta >=0 and delta <=1)\n",
    "\n",
    "    if delta == 0:\n",
    "        return np.inf\n",
    "    if np.log(delta) >= get_logdelta_ana_gaussian(sigma, 0.0):\n",
    "        return 0.0\n",
    "\n",
    "    def fun(x):\n",
    "        if x < 0:\n",
    "            return np.inf\n",
    "        else:\n",
    "            return get_logdelta_ana_gaussian(sigma, x) - np.log(delta)\n",
    "    \n",
    "    \n",
    "    eps_upperbound = 1/2/sigma**2+1/sigma*np.sqrt(2*np.log(1/delta))\n",
    "    results = root_scalar(fun,bracket=[0, eps_upperbound])\n",
    "    if results.converged:\n",
    "        return results.root\n",
    "    else:\n",
    "        raise RuntimeError(f\"Failed to find epsilon: {results.flag}\")\n"
   ]
  },
  {
   "cell_type": "code",
   "execution_count": 10,
   "id": "0caafe85-5624-44a2-9b21-2f8c011a7025",
   "metadata": {},
   "outputs": [
    {
     "data": {
      "text/plain": [
       "2.2540846502197414"
      ]
     },
     "execution_count": 10,
     "metadata": {},
     "output_type": "execute_result"
    }
   ],
   "source": [
    "get_eps_ana_gaussian(2, 1e-6)"
   ]
  },
  {
   "cell_type": "code",
   "execution_count": 11,
   "id": "f3207990-6347-4394-9fb0-cee74eee9089",
   "metadata": {},
   "outputs": [],
   "source": [
    "def rdp_to_approxdp(rdp, alpha_max=np.inf, BBGHS_conversion=True):\n",
    "    # from RDP to approx DP\n",
    "    # alpha_max is an optional input which sometimes helps avoid numerical issues\n",
    "    # By default, we are using the RDP to approx-DP conversion due to BBGHS'19's Theorem 21\n",
    "    # paper: https://arxiv.org/pdf/1905.09982.pdf\n",
    "    # if you need to use the simpler RDP to approxDP conversion for some reason, turn the flag off\n",
    "\n",
    "    def approxdp(delta):\n",
    "        \"\"\"\n",
    "        approxdp outputs eps as a function of delta based on rdp calculations\n",
    "        :param delta:\n",
    "        :return: the \\epsilon with a given delta\n",
    "        \"\"\"\n",
    "\n",
    "        if delta < 0 or delta > 1:\n",
    "            print(\"Error! delta is a probability and must be between 0 and 1\")\n",
    "        if delta == 0:\n",
    "            return rdp(np.inf)\n",
    "        else:\n",
    "            def fun(x):  # the input is the RDP's \\alpha\n",
    "                if x <= 1:\n",
    "                    return np.inf\n",
    "                else:\n",
    "                    if BBGHS_conversion:\n",
    "                        return np.maximum(rdp(x) + np.log((x-1)/x)\n",
    "                                          - (np.log(delta) + np.log(x))/(x-1), 0)\n",
    "                    else:\n",
    "                        return np.log(1 / delta) / (x - 1) + rdp(x)\n",
    "\n",
    "            results = minimize_scalar(fun, method='Brent', bracket=(1,2), bounds=[1, alpha_max])\n",
    "            if results.success:\n",
    "                return results.fun\n",
    "            else:\n",
    "                # There are cases when certain \\delta is not feasible.\n",
    "                # For example, let p and q be uniform the privacy R.V. is either 0 or \\infty and unless all \\infty\n",
    "                # events are taken cared of by \\delta, \\epsilon cannot be < \\infty\n",
    "                return np.inf\n",
    "    return approxdp"
   ]
  },
  {
   "cell_type": "code",
   "execution_count": 12,
   "id": "4decd11f-6120-4c91-9223-72d32afbbdf3",
   "metadata": {},
   "outputs": [
    {
     "name": "stderr",
     "output_type": "stream",
     "text": [
      "/home/e/PycharmProjects/PySyft/.tox/syft.jupyter/lib/python3.8/site-packages/scipy/optimize/_optimize.py:2782: RuntimeWarning: invalid value encountered in double_scalars\n",
      "  w = xb - ((xb - xc) * tmp2 - (xb - xa) * tmp1) / denom\n"
     ]
    },
    {
     "data": {
      "text/plain": [
       "8.199899241413727"
      ]
     },
     "execution_count": 12,
     "metadata": {},
     "output_type": "execute_result"
    }
   ],
   "source": [
    "rdp_to_approxdp(lambda x:(x-1.5)**2)(1e-6)"
   ]
  },
  {
   "cell_type": "code",
   "execution_count": 13,
   "id": "69d983a3-eeaf-4f33-bba1-52826951ee9c",
   "metadata": {},
   "outputs": [],
   "source": [
    "def puredp_to_rdp(eps):\n",
    "    # From pure dp to RDP\n",
    "    assert(eps >= 0)\n",
    "\n",
    "    def rdp(alpha):\n",
    "        assert(alpha >= 0)\n",
    "        if alpha==1:\n",
    "            # Calculate this by l'Hospital rule\n",
    "            return eps*(math.cosh(eps)-1)/math.sinh(eps)\n",
    "        elif np.isinf(alpha):\n",
    "            return eps\n",
    "        elif alpha>1:\n",
    "            # in the proof of Lemma 4 of Bun et al. (2016)\n",
    "            s, mag = stable_log_diff_exp(stable_log_sinh(alpha*eps),\n",
    "                                               stable_log_sinh((alpha-1)*eps))\n",
    "            return (mag - stable_log_sinh(eps))/(alpha-1)\n",
    "        else:\n",
    "            return min(alpha * eps * eps /2, eps*(math.cosh(eps)-1)/math.sinh(eps))\n",
    "\n",
    "    return rdp"
   ]
  },
  {
   "cell_type": "code",
   "execution_count": 14,
   "id": "61de6cc4-b20a-4cf5-b599-db30e50c26af",
   "metadata": {},
   "outputs": [
    {
     "data": {
      "text/plain": [
       "1.309634466865841"
      ]
     },
     "execution_count": 14,
     "metadata": {},
     "output_type": "execute_result"
    }
   ],
   "source": [
    "puredp_to_rdp(1.5)(2)"
   ]
  },
  {
   "cell_type": "code",
   "execution_count": 15,
   "id": "2384677f-cc12-4e87-83bc-a5b35ee84b91",
   "metadata": {},
   "outputs": [],
   "source": [
    "def approxdp_func_to_approxrdp(eps_func):\n",
    "    # from an approximate_dp function to approxrdp function\n",
    "    def approxrdp(alpha, delta):\n",
    "        rdp = puredp_to_rdp(eps_func(delta))\n",
    "        return rdp(alpha)\n",
    "\n",
    "    return approxrdp"
   ]
  },
  {
   "cell_type": "code",
   "execution_count": 16,
   "id": "66401712-2892-4e1d-83fb-ac3c3b520da3",
   "metadata": {},
   "outputs": [
    {
     "data": {
      "text/plain": [
       "-1.4264145420384011e-11"
      ]
     },
     "execution_count": 16,
     "metadata": {},
     "output_type": "execute_result"
    }
   ],
   "source": [
    "approxdp_func_to_approxrdp(lambda x: x)(2, 1e-6)"
   ]
  },
  {
   "cell_type": "code",
   "execution_count": 17,
   "id": "afbe2429-85ea-4431-97e9-ee10db90c371",
   "metadata": {},
   "outputs": [],
   "source": [
    "def approxdp_to_fdp(eps, delta):\n",
    "    # from a single eps, delta approxdp to fdp\n",
    "    assert(eps >= 0 and 0 <= delta <= 1)\n",
    "\n",
    "    def fdp(fpr):\n",
    "        assert(0 <= fpr <= 1)\n",
    "        if fpr == 0: # deal with log(0) below\n",
    "            return 1-delta\n",
    "        elif np.isinf(eps):\n",
    "            return 0\n",
    "        else:\n",
    "            return np.max(np.array([0, 1-delta-np.exp(eps)*fpr, np.exp(-eps)*(1-delta-fpr)]))\n",
    "    return fdp"
   ]
  },
  {
   "cell_type": "code",
   "execution_count": 18,
   "id": "3a05e9ca-9bb9-4203-b3c0-d74b893659d4",
   "metadata": {},
   "outputs": [
    {
     "data": {
      "text/plain": [
       "0.08925184092921178"
      ]
     },
     "execution_count": 18,
     "metadata": {},
     "output_type": "execute_result"
    }
   ],
   "source": [
    "approxdp_to_fdp(1.5, 1e-6)(0.6)"
   ]
  },
  {
   "cell_type": "code",
   "execution_count": 26,
   "id": "204a1597-156d-4108-9c41-a89796c6927a",
   "metadata": {},
   "outputs": [],
   "source": [
    "def approxdp_func_to_fdp(func):\n",
    "    \"\"\"\n",
    "    from an approxdp function to fdp\n",
    "    :param func: epsilon as a function of delta by default.\n",
    "    :param delta_func: if the flag is True, then 'func' is a delta as a function of epsilon.\n",
    "    :return: fdp function\n",
    "    \"\"\"\n",
    "    #\n",
    "    # By default, logdelta_func is False, and func is eps as a function of delta\n",
    "    # fpr = maximize_{delta} approxdp_to_fdp(eps(delta),delta)(fpr)\n",
    "    # if delta_func is True, it means that 'func' is a delta as a function of eps, then\n",
    "    # fpr = maximize_{delta} approxdp_to_fdp(eps,delta(eps))(fpr)\n",
    "    def fdp(fpr):\n",
    "        print(fpr)\n",
    "\n",
    "        assert(0 <= fpr <= 1)\n",
    "        if fpr == 1:\n",
    "            return 0\n",
    "\n",
    "        def fun(eps):\n",
    "            fdp_eps = approxdp_to_fdp(eps, func(eps))\n",
    "            fnr = fdp_eps(fpr)\n",
    "            return -fnr\n",
    "\n",
    "        results = minimize_scalar(fun, bounds=[0, +np.inf], options={'disp': False})\n",
    "        if results.success:\n",
    "            return -results.fun\n",
    "        else:\n",
    "            return 0\n",
    "    return fdp"
   ]
  },
  {
   "cell_type": "code",
   "execution_count": 20,
   "id": "24858b39-fe5d-4e3a-8a42-e634b85ac592",
   "metadata": {},
   "outputs": [
    {
     "data": {
      "text/plain": [
       "<function __main__.approxdp_to_fdp.<locals>.fdp(fpr)>"
      ]
     },
     "execution_count": 20,
     "metadata": {},
     "output_type": "execute_result"
    }
   ],
   "source": [
    "approxdp_to_fdp(1.5, 1e-6)"
   ]
  },
  {
   "cell_type": "code",
   "execution_count": 21,
   "id": "752cfdea-aa9b-4e43-83c4-d757f359d51e",
   "metadata": {},
   "outputs": [
    {
     "data": {
      "text/plain": [
       "<function __main__.approxdp_func_to_fdp.<locals>.fdp(fpr)>"
      ]
     },
     "execution_count": 21,
     "metadata": {},
     "output_type": "execute_result"
    }
   ],
   "source": [
    "approxdp_func_to_fdp(approxdp_to_fdp(1.5, 1e-6))"
   ]
  },
  {
   "cell_type": "code",
   "execution_count": 28,
   "id": "92a91605-2b24-4e27-be65-e36f319e32c3",
   "metadata": {},
   "outputs": [],
   "source": [
    "#approxdp_func_to_fdp(approxdp_to_fdp(0.5, 1e-6))(0.6)"
   ]
  },
  {
   "cell_type": "code",
   "execution_count": 29,
   "id": "b7f2ac80-2589-4dc4-99b6-30d1a5955044",
   "metadata": {},
   "outputs": [],
   "source": [
    "def pointwise_minimum(f1, f2):\n",
    "    def min_f1_f2(x):\n",
    "        return np.minimum(f1(x), f2(x))\n",
    "    return min_f1_f2\n",
    "\n",
    "def pointwise_minimum_two_arguments(f1, f2):\n",
    "    def min_f1_f2(x, y):\n",
    "        return np.minimum(f1(x, y), f2(x, y))\n",
    "    return min_f1_f2\n",
    "\n",
    "def pointwise_maximum(f1, f2):\n",
    "    def max_f1_f2(x):\n",
    "        return np.maximum(f1(x), f2(x))\n",
    "    return max_f1_f2"
   ]
  },
  {
   "cell_type": "code",
   "execution_count": 30,
   "id": "5447e4c8-bd91-45a8-903a-c0276ff2a5f4",
   "metadata": {},
   "outputs": [],
   "source": [
    "class Mechanism():\n",
    "    \"\"\"\n",
    "     The base mechanism will use typically two functions to describe the mechanism\n",
    "\n",
    "    # Attributes (actually functions as well):\n",
    "    # 1: Approximate DP:   epsilon as a function of delta\n",
    "    # 2. Renyi DP:   RDP epsilon as a function of \\alpha\n",
    "    # 3. Approximate RDP:  approximate RDP. RDP conditioning on a failure probability delta0.\n",
    "    # 4. f-DP:  Type II error as a function of Type I error. You can get that from Approximate-DP\n",
    "    #           or FDP directly.\n",
    "    # 5. epsilon:  Pure DP bound.  If not infinity, then the mechanism satisfies pure DP.\n",
    "    # 6. delta0:  Failure probability which documents the delta to use for approximate RDP\n",
    "    #             in the case when there are no information available about the failure event.\n",
    "\n",
    "    # If we specify RDP only then it will propagate the RDP calculations to approximate-DP\n",
    "    # and to f-DP\n",
    "    # If we specify pure-DP only then it propagates to RDP,  Approximate-DP, f-DP and so on.\n",
    "    # If we specify approximate-DP only, then it implies an approximate RDP bound with \\delta_0.\n",
    "    # If we specify f-DP only then it propagates to other specifications.\n",
    "    \n",
    "    \n",
    "    # If we specify multiple calculations, then it will take the minimum of all of them\n",
    "    #      in each category\n",
    "    \"\"\"\n",
    "\n",
    "\n",
    "    def __init__(self):\n",
    "        # Initialize everything with trivial (non-private) defaults\n",
    "        def RenyiDP(alpha):\n",
    "            return np.inf\n",
    "\n",
    "        def approxRDP(delta, alpha):\n",
    "            return np.inf\n",
    "\n",
    "        def approxDP(delta):\n",
    "            return np.inf\n",
    "\n",
    "        def fDP(fpr):\n",
    "            fnr = 0.0\n",
    "            return fnr\n",
    "\n",
    "        self.RenyiDP = RenyiDP\n",
    "        self.approxRDP = approxRDP\n",
    "        self.approxDP = approxDP\n",
    "        self.fDP = fDP\n",
    "        self.eps_pureDP = np.inf\n",
    "\n",
    "        self.delta0 = np.inf  # indicate the smallest allowable \\delta0 in approxRDP that is not inf\n",
    "        #  We can convert localDP to curator DP by parallel composition and by shuffling.\n",
    "        \n",
    "    def get_approxDP(self, delta):\n",
    "        # Output eps as a function of delta\n",
    "        return self.approxDP(delta)\n",
    "\n",
    "    def get_approxRDP(self, delta, alpha):\n",
    "        # Output eps as a function of delta and alpha\n",
    "        return self.approxRDP(delta, alpha)\n",
    "\n",
    "    def get_RDP(self, alpha):\n",
    "        # Output RDP eps as a function of alpha\n",
    "        return self.RenyiDP(alpha)\n",
    "\n",
    "    def get_fDP(self, fpr):\n",
    "        # Output false negative rate as a function of false positive rate\n",
    "        return self.fDP(fpr)\n",
    "\n",
    "    def propagate_updates(self, func, type_of_update,\n",
    "                          delta0=0,\n",
    "                          BBGHS_conversion=True,\n",
    "                          fDP_based_conversion=False):\n",
    "        # This function receives a new description of the mechanisms and updates all functions\n",
    "        # based on what is new by calling converters.\n",
    "\n",
    "        if type_of_update == 'approxDP_func':\n",
    "            # func outputs eps as a function of delta\n",
    "            # optional input delta0, telling us from where \\epsilon becomes infinity\n",
    "\n",
    "            self.delta0 = np.minimum(delta0, self.delta0)  # How is this ever anything except 0?!\n",
    "            self.approxRDP = pointwise_minimum_two_arguments(self.approxRDP,\n",
    "                                 approxdp_func_to_approxrdp(func))\n",
    "            self.approxDP = pointwise_minimum(self.approxDP, func)\n",
    "            \n",
    "        elif type_of_update == 'RDP':\n",
    "            # function output RDP eps as a function of alpha\n",
    "            self.RenyiDP = pointwise_minimum(self.RenyiDP, func)\n",
    "            self.approxDP = pointwise_minimum(self.approxDP,\n",
    "                     rdp_to_approxdp(self.RenyiDP, BBGHS_conversion=BBGHS_conversion))\n",
    "        else:\n",
    "            print(type_of_update, ' not recognized.')"
   ]
  },
  {
   "cell_type": "code",
   "execution_count": 31,
   "id": "9168d773-05fe-4bec-9f0d-d16ad1a4c97b",
   "metadata": {},
   "outputs": [],
   "source": [
    "class Transformer():\n",
    "    \"\"\"\n",
    "    A transformer is a callable object that takes one or more mechanism as input and\n",
    "    **transform** them into a new mechanism\n",
    "    \"\"\"\n",
    "\n",
    "    def __init__(self):\n",
    "        self.name = 'generic_transformer'\n",
    "        self.unary_operator = False  # If true it takes one mechanism as an input,\n",
    "        # otherwise it could take many, e.g., composition\n",
    "        self.preprocessing = False  # Relevant if unary is true, it specifies whether the operation\n",
    "        # is before or after the mechanism, e.g., amplification by sampling is before applying the\n",
    "        # mechanism, \"amplification by shuffling\" is after applying the LDP mechanisms\n",
    "        self.transform = lambda x: x\n",
    "\n",
    "    def __call__(self, *args, **kwargs):\n",
    "        return self.transform(*args, **kwargs)"
   ]
  },
  {
   "cell_type": "code",
   "execution_count": 32,
   "id": "be460cd5-a061-473d-99a9-68357fffcba0",
   "metadata": {},
   "outputs": [],
   "source": [
    "# The generic composition class\n",
    "class Composition(Transformer):\n",
    "    \"\"\" Composition is a transformer that takes a list of Mechanisms and number of times they appear,\n",
    "    and output a Mechanism that represents the composed mechanism\"\"\"\n",
    "    def __init__(self):\n",
    "        Transformer.__init__(self)\n",
    "        self.name = 'Composition'\n",
    "\n",
    "        # Update the function that is callable\n",
    "        self.transform = self.compose\n",
    "\n",
    "    def compose(self, mechanism_list, coeff_list):\n",
    "        # Make sure that the mechanism has a unique list\n",
    "        # for example, if there are two Gaussian mechanism with two different sigmas, call it\n",
    "        # Gaussian1, and Gaussian2\n",
    "\n",
    "\n",
    "        newmech = Mechanism()\n",
    "\n",
    "        # update the functions\n",
    "        def newrdp(x):\n",
    "            return sum([c * mech.RenyiDP(x) for (mech, c) in zip(mechanism_list, coeff_list)])\n",
    "        newmech.propagate_updates(newrdp, 'RDP')\n",
    "\n",
    "        # TODO: the fDP_based_conversion sometimes fails due to undefined RDP with alpha < 1\n",
    "\n",
    "        newmech.eps_pureDP = sum([c * mech.eps_pureDP for (mech, c)\n",
    "                                  in zip(mechanism_list, coeff_list)])\n",
    "        newmech.delta0 = max([mech.delta0 for (mech, c)\n",
    "                              in zip(mechanism_list, coeff_list)])\n",
    "\n",
    "        # Other book keeping\n",
    "        newmech.name = self.update_name(mechanism_list, coeff_list)\n",
    "        # keep track of all parameters of the composed mechanisms\n",
    "        newmech.params = self.update_params(mechanism_list)\n",
    "\n",
    "        return newmech\n",
    "\n",
    "    def update_name(self,mechanism_list, coeff_list):\n",
    "        separator = ', '\n",
    "        s = separator.join([mech.name + ': ' + str(c) for (mech, c)\n",
    "                           in zip(mechanism_list, coeff_list)])\n",
    "\n",
    "        return 'Compose:{'+ s +'}'\n",
    "\n",
    "    def update_params(self, mechanism_list):\n",
    "        params = {}\n",
    "        for mech in mechanism_list:\n",
    "            params_cur = {mech.name+':'+k: v for k,v in mech.params.items()}\n",
    "            params.update(params_cur)\n",
    "        return params"
   ]
  },
  {
   "cell_type": "markdown",
   "id": "953d7617-8ae9-4c42-9dfa-aedff4cbb373",
   "metadata": {},
   "source": [
    "#### Our PySyft classes begin from here on\n",
    "\n",
    "\n",
    "#### PUBLISH.PY"
   ]
  },
  {
   "cell_type": "code",
   "execution_count": 33,
   "id": "3733d069-304f-4b48-94b6-45f56b318d17",
   "metadata": {},
   "outputs": [],
   "source": [
    "# returns the privacy budget spent by each entity\n",
    "@lru_cache(maxsize=None)\n",
    "def _individual_RDP_gaussian(\n",
    "    sigma: float, value: float, L: float, alpha: float\n",
    ") -> float:\n",
    "    return (alpha * (L**2) * (value**2)) / (2 * (sigma**2))"
   ]
  },
  {
   "cell_type": "code",
   "execution_count": 34,
   "id": "91de559c-f9c2-4bc7-a545-ccd4f4b2b424",
   "metadata": {},
   "outputs": [],
   "source": [
    "def individual_RDP_gaussian(params: Dict, alpha: float) -> np.float64:\n",
    "    \"\"\"\n",
    "    :param params:\n",
    "        'sigma' --- is the normalized noise level: std divided by global L2 sensitivity\n",
    "        'value' --- is the output of query on a data point\n",
    "        'L' --- is the Lipschitz constant of query with respect to the output of query on a data point\n",
    "    :param alpha: The order of the Renyi Divergence\n",
    "    :return: Evaluation of the RDP's epsilon\n",
    "    \"\"\"\n",
    "    sigma = params[\"sigma\"]\n",
    "    value = params[\"value\"]\n",
    "    L = params[\"L\"]\n",
    "    if sigma <= 0:\n",
    "        raise Exception(\"Sigma should be above 0\")\n",
    "    if alpha < 0:\n",
    "        raise Exception(\"Sigma should not be below 0\")\n",
    "\n",
    "    return _individual_RDP_gaussian(sigma=sigma, alpha=alpha, value=value, L=L)"
   ]
  },
  {
   "cell_type": "code",
   "execution_count": 35,
   "id": "b096870a-94d7-4137-9397-9b2f6fd78b83",
   "metadata": {},
   "outputs": [],
   "source": [
    "# Example of a specific mechanism that inherits the Mechanism class\n",
    "# @serializable(recursive_serde=True)\n",
    "class iDPGaussianMechanism(Mechanism):\n",
    "    __attr_allowlist__ = [\n",
    "        \"name\",\n",
    "        \"params\",\n",
    "        \"entity_name\",\n",
    "        \"delta0\",\n",
    "        \"RDP_off\",\n",
    "        \"approxDP_off\",\n",
    "        \"user_key\",\n",
    "    ]\n",
    "\n",
    "    def __init__(\n",
    "        self,\n",
    "        sigma: float,\n",
    "        squared_l2_norm: float,\n",
    "        squared_l2_norm_upper_bound: float,\n",
    "        L: float,\n",
    "        entity_name: str,\n",
    "        name: str = \"Gaussian\",\n",
    "        RDP: bool = True,\n",
    "        approxDP: bool = True,\n",
    "        user_key: Optional[VerifyKey] = None,  #TODO: Why isn't it mandatory to provide a User Key?\n",
    "    ):\n",
    "\n",
    "        Mechanism.__init__(self)\n",
    "\n",
    "        self.user_key = user_key\n",
    "\n",
    "        self.name = name  # When composing\n",
    "        self.params = {\n",
    "            \"sigma\": float(sigma),\n",
    "            \"private_value\": float(squared_l2_norm),\n",
    "            \"public_value\": float(squared_l2_norm_upper_bound),\n",
    "            \"L\": float(L),\n",
    "        }  # This will be useful for the Calibrator\n",
    "\n",
    "        self.entity_name = entity_name\n",
    "\n",
    "        self.delta0 = 0\n",
    "        if RDP:\n",
    "            # Tudor: i'll fix these  \n",
    "            # x is the alpha value of the RDP here\n",
    "            new_rdp = lambda x: individual_RDP_gaussian(self.params, x)  # noqa: E731\n",
    "            self.propagate_updates(new_rdp, \"RDP\")\n",
    "\n",
    "        if approxDP:  # Direct implementation of approxDP\n",
    "            new_approxdp = lambda x: dp_bank.get_eps_ana_gaussian(  # noqa: E731\n",
    "                sigma, x\n",
    "            )\n",
    "            self.propagate_updates(new_approxdp, \"approxDP_func\")"
   ]
  },
  {
   "cell_type": "code",
   "execution_count": 36,
   "id": "e20cbe80-ffb2-4f2a-8507-76e24c749411",
   "metadata": {},
   "outputs": [],
   "source": [
    "m = Mechanism()"
   ]
  },
  {
   "cell_type": "code",
   "execution_count": 41,
   "id": "e27ff2d2-9944-40dd-8a50-751693843d3d",
   "metadata": {},
   "outputs": [],
   "source": [
    "idpgm = iDPGaussianMechanism(sigma=1, squared_l2_norm=40, squared_l2_norm_upper_bound=10, L=5, entity_name=\"Bob\")\n",
    "idpgm.params[\"value\"] = idpgm.params[\"public_value\"]"
   ]
  },
  {
   "cell_type": "markdown",
   "id": "5aba5578-9ac7-4a38-9c43-de527e599ece",
   "metadata": {},
   "source": [
    "#### ADVERSARIAL ACCOUNTANT.PY"
   ]
  },
  {
   "cell_type": "code",
   "execution_count": 38,
   "id": "430e9d9d-a4d9-41c3-aae0-7d372d8d6494",
   "metadata": {},
   "outputs": [],
   "source": [
    "def compose_mechanisms(\n",
    "    mechanisms: Iterable[iDPGaussianMechanism], delta: float\n",
    ") -> float:\n",
    "    sigmas = list()\n",
    "    squared_l2_norms = list()\n",
    "    squared_l2_norm_upper_bounds = list()\n",
    "    Ls = list()\n",
    "    values = list()\n",
    "\n",
    "    for m in mechanisms:\n",
    "        sigmas.append(m.params[\"sigma\"])\n",
    "        squared_l2_norms.append(m.params[\"private_value\"])\n",
    "        squared_l2_norm_upper_bounds.append(m.params[\"public_value\"])\n",
    "        Ls.append(m.params[\"L\"])\n",
    "        values.append(m.params[\"value\"])\n",
    "\n",
    "    return compose_mechanisms_via_simplified_args_for_lru_cache(\n",
    "        tuple(sigmas),\n",
    "        tuple(squared_l2_norms),\n",
    "        tuple(squared_l2_norm_upper_bounds),\n",
    "        tuple(Ls),\n",
    "        tuple(values),\n",
    "        delta,\n",
    "    )\n",
    "\n",
    "\n",
    "@lru_cache(maxsize=None)\n",
    "def compose_mechanisms_via_simplified_args_for_lru_cache(\n",
    "    sigmas: Tuple[float],\n",
    "    squared_l2_norms: Tuple[float],\n",
    "    squared_l2_norm_upper_bounds: Tuple[float],\n",
    "    Ls: Tuple[float],\n",
    "    values: Tuple[float],\n",
    "    delta: float,\n",
    ") -> float:\n",
    "    mechanisms = list()\n",
    "    for i in range(len(sigmas)):\n",
    "\n",
    "        m = iDPGaussianMechanism(\n",
    "            sigma=sigmas[i],\n",
    "            squared_l2_norm=squared_l2_norms[i],\n",
    "            squared_l2_norm_upper_bound=squared_l2_norm_upper_bounds[i],\n",
    "            L=Ls[i],\n",
    "            entity_name=\"\",\n",
    "        )\n",
    "        m.params[\"value\"] = values[i]\n",
    "        mechanisms.append(m)\n",
    "    # compose them with the transformation: compose\n",
    "    compose = Composition()\n",
    "    composed_mech = compose(mechanisms, [1] * len(mechanisms))\n",
    "    eps = composed_mech.get_approxDP(delta)\n",
    "    return eps\n"
   ]
  },
  {
   "cell_type": "markdown",
   "id": "0dd5b12e-6c80-4172-9dcb-15a50658e414",
   "metadata": {},
   "source": [
    "<hr>\n",
    "<hr>\n",
    "<h2> TESTING </h2>"
   ]
  },
  {
   "cell_type": "code",
   "execution_count": 42,
   "id": "49499769-1f35-4969-bda3-04924b3527ac",
   "metadata": {},
   "outputs": [
    {
     "data": {
      "text/plain": [
       "1509.5210004705532"
      ]
     },
     "execution_count": 42,
     "metadata": {},
     "output_type": "execute_result"
    }
   ],
   "source": [
    "c = Composition()\n",
    "\n",
    "m = c.compose([idpgm], [1])\n",
    "m.get_approxDP(1e-6)"
   ]
  },
  {
   "cell_type": "code",
   "execution_count": 45,
   "id": "f973a9db-8e23-4b6a-82c7-a72a54d1e006",
   "metadata": {},
   "outputs": [
    {
     "data": {
      "text/plain": [
       "<function __main__.pointwise_minimum.<locals>.min_f1_f2(x)>"
      ]
     },
     "execution_count": 45,
     "metadata": {},
     "output_type": "execute_result"
    }
   ],
   "source": [
    "idpgm.RenyiDP"
   ]
  },
  {
   "cell_type": "code",
   "execution_count": 46,
   "id": "dd404e1b-b32a-4588-8971-d18b32a4fe89",
   "metadata": {},
   "outputs": [
    {
     "data": {
      "text/plain": [
       "{'Gaussian:sigma': 1.0,\n",
       " 'Gaussian:private_value': 40.0,\n",
       " 'Gaussian:public_value': 10.0,\n",
       " 'Gaussian:L': 5.0,\n",
       " 'Gaussian:value': 10.0}"
      ]
     },
     "execution_count": 46,
     "metadata": {},
     "output_type": "execute_result"
    }
   ],
   "source": [
    "m.params"
   ]
  },
  {
   "cell_type": "code",
   "execution_count": 47,
   "id": "97acc0d7-abf7-4071-bf8d-250d48c8d0f2",
   "metadata": {},
   "outputs": [
    {
     "data": {
      "text/plain": [
       "False"
      ]
     },
     "execution_count": 47,
     "metadata": {},
     "output_type": "execute_result"
    }
   ],
   "source": [
    "m.params == idpgm.params"
   ]
  },
  {
   "cell_type": "code",
   "execution_count": 48,
   "id": "33ab1ecd-15a6-430c-8e8b-8b879e6030d5",
   "metadata": {},
   "outputs": [
    {
     "data": {
      "text/plain": [
       "{'sigma': 1.0,\n",
       " 'private_value': 40.0,\n",
       " 'public_value': 10.0,\n",
       " 'L': 5.0,\n",
       " 'value': 10.0}"
      ]
     },
     "execution_count": 48,
     "metadata": {},
     "output_type": "execute_result"
    }
   ],
   "source": [
    "idpgm.params"
   ]
  },
  {
   "cell_type": "code",
   "execution_count": 44,
   "id": "b5a2d3fb-1fa7-46ba-a1fe-0128bc6d4e26",
   "metadata": {},
   "outputs": [
    {
     "data": {
      "text/plain": [
       "1509.5210004705532"
      ]
     },
     "execution_count": 44,
     "metadata": {},
     "output_type": "execute_result"
    }
   ],
   "source": [
    "compose_mechanisms([idpgm], 1e-6)"
   ]
  },
  {
   "cell_type": "code",
   "execution_count": 49,
   "id": "4ee261aa-8741-4e9a-9f6b-0a9d961bd866",
   "metadata": {},
   "outputs": [
    {
     "data": {
      "text/plain": [
       "inf"
      ]
     },
     "execution_count": 49,
     "metadata": {},
     "output_type": "execute_result"
    }
   ],
   "source": [
    "idpgm.eps_pureDP"
   ]
  },
  {
   "cell_type": "code",
   "execution_count": 50,
   "id": "d3f8c009-1cf1-4f76-8a3c-2a02382f7b82",
   "metadata": {},
   "outputs": [],
   "source": [
    "inputs = []\n",
    "\n",
    "for i in range(10**6):\n",
    "    inputs.append(iDPGaussianMechanism(sigma=2, squared_l2_norm=5 + i, squared_l2_norm_upper_bound=7 + i, L=4, entity_name=str(i)))\n",
    "    inputs[i].params[\"value\"] = inputs[i].params[\"private_value\"]"
   ]
  },
  {
   "cell_type": "code",
   "execution_count": 51,
   "id": "5d13e29a-9bc0-43b8-ada6-47a2b092658b",
   "metadata": {},
   "outputs": [
    {
     "name": "stdout",
     "output_type": "stream",
     "text": [
      "CPU times: user 2min 47s, sys: 4.18 s, total: 2min 52s\n",
      "Wall time: 2min 51s\n"
     ]
    },
    {
     "data": {
      "text/plain": [
       "6.66675677715008e+17"
      ]
     },
     "execution_count": 51,
     "metadata": {},
     "output_type": "execute_result"
    }
   ],
   "source": [
    "%%time\n",
    "compose_mechanisms(inputs, delta=1e-6)"
   ]
  },
  {
   "cell_type": "code",
   "execution_count": 52,
   "id": "6356aa21-0d40-4221-af65-b1eae917115f",
   "metadata": {},
   "outputs": [],
   "source": [
    "inputs = []\n",
    "\n",
    "for i in range(10**6):\n",
    "    inputs.append(iDPGaussianMechanism(sigma=2, squared_l2_norm=50, squared_l2_norm_upper_bound=7, L=4, entity_name=str(i)))\n",
    "    inputs[i].params[\"value\"] = inputs[i].params[\"private_value\"]"
   ]
  },
  {
   "cell_type": "code",
   "execution_count": 53,
   "id": "a2a6337d-0eb3-45b5-aa6a-26dfe966b6e1",
   "metadata": {},
   "outputs": [
    {
     "name": "stdout",
     "output_type": "stream",
     "text": [
      "CPU times: user 1min 57s, sys: 1.18 s, total: 1min 59s\n",
      "Wall time: 1min 59s\n"
     ]
    },
    {
     "data": {
      "text/plain": [
       "5000525641.237593"
      ]
     },
     "execution_count": 53,
     "metadata": {},
     "output_type": "execute_result"
    }
   ],
   "source": [
    "%%time\n",
    "compose_mechanisms(inputs, delta=1e-6)"
   ]
  },
  {
   "cell_type": "markdown",
   "id": "c0acec25-8f51-4e36-a74c-ff9035b944a1",
   "metadata": {
    "tags": []
   },
   "source": [
    "<hr>\n",
    "<hr>\n",
    "\n",
    "<h2> NEW PROTOTYPE </h2>"
   ]
  },
  {
   "cell_type": "markdown",
   "id": "c1948401-d0b6-46ae-bd17-2e404374a93c",
   "metadata": {},
   "source": [
    "Things to include:\n",
    "- Composition class\n",
    "    - Methods:\n",
    "        - `compose`\n",
    "\n",
    "\n",
    "- Mechanism class\n",
    "    - Perhaps we can store all the values as arrays in a single Mechanism?\n",
    "    - Methods:\n",
    "        - `propagate_updates`\n",
    "            - RDP:\n",
    "                - Converters:\n",
    "                    - `rdp_to_approxdp`\n",
    "                - Utilities:\n",
    "                    - `pointwise_minimum`\n",
    "            - ApproxDP_func\n",
    "                - Converters:\n",
    "                    - `approxdp_func_to_approxrdp`\n",
    "                - Utilities:\n",
    "                    - `pointwise_minimum`\n",
    "                    - `pointwise_minimum_two_arguments`\n",
    "        - `get_approxDP`\n",
    "\n",
    "What affects approxDP?\n",
    "\n",
    "\n",
    "- DP Bank\n",
    "    - Methods:\n",
    "        - `rdp gaussian mechanism` equivalent for RDP\n",
    "        - `get_eps_ana_gaussian` for approxDP initialization of GaussianMechanisms\n",
    "            - scipy `root_scalar`\n",
    "            - `get_logdelta_ana_gaussian`\n",
    "                - `stable_log_diff_exp` (utils)\n",
    "                \n",
    "        \n",
    "Things to remove:\n",
    "- fDP; we don't use it\n",
    "- pureDP\n",
    "- Transformer class\n",
    "- coeff_list- it's always 1s since we never seem to modify it"
   ]
  },
  {
   "cell_type": "code",
   "execution_count": 66,
   "id": "d4c570bc-500c-46c0-87ef-0b1622dc081d",
   "metadata": {},
   "outputs": [],
   "source": [
    "##TODO: Figure out if this can actually be vectorized\n",
    "\"\"\"\n",
    "Can we \n",
    "\"\"\"\n",
    "\n",
    "\n",
    "def vectorized_rdp_to_approxdp(rdp, alpha_max=np.inf, BBGHS_conversion=True):\n",
    "    # from RDP to approx DP\n",
    "    # alpha_max is an optional input which sometimes helps avoid numerical issues\n",
    "    # By default, we are using the RDP to approx-DP conversion due to BBGHS'19's Theorem 21\n",
    "    # paper: https://arxiv.org/pdf/1905.09982.pdf\n",
    "    # if you need to use the simpler RDP to approxDP conversion for some reason, turn the flag off\n",
    "\n",
    "    def approxdp(delta):\n",
    "        \"\"\"\n",
    "        approxdp outputs eps as a function of delta based on rdp calculations\n",
    "        :param delta:\n",
    "        :return: the \\epsilon with a given delta\n",
    "        \"\"\"\n",
    "\n",
    "        if delta < 0 or delta > 1:\n",
    "            print(\"Error! delta is a probability and must be between 0 and 1\")\n",
    "        if delta == 0:\n",
    "            return rdp(np.inf)\n",
    "        else:\n",
    "            def fun(x):  # the input is the RDP's \\alpha\n",
    "                if x <= 1:\n",
    "                    return np.inf\n",
    "                else:\n",
    "                    if BBGHS_conversion:\n",
    "                        return np.maximum(rdp(x) + np.log((x-1)/x)\n",
    "                                          - (np.log(delta) + np.log(x))/(x-1), 0)\n",
    "                    else:\n",
    "                        return np.log(1 / delta) / (x - 1) + rdp(x)\n",
    "\n",
    "            results = minimize_scalar(fun, method='Brent', bracket=(1,2), bounds=[1, alpha_max])\n",
    "            if results.success:\n",
    "                return results.fun\n",
    "            else:\n",
    "                # There are cases when certain \\delta is not feasible.\n",
    "                # For example, let p and q be uniform the privacy R.V. is either 0 or \\infty and unless all \\infty\n",
    "                # events are taken cared of by \\delta, \\epsilon cannot be < \\infty\n",
    "                return np.inf\n",
    "    return approxdp"
   ]
  },
  {
   "cell_type": "code",
   "execution_count": 86,
   "id": "ec01883e-4f7c-4774-abcf-5b4a035f83d3",
   "metadata": {},
   "outputs": [],
   "source": [
    "def minimum(f1, f2):\n",
    "    def min_f1_f2(x):\n",
    "        print(x)\n",
    "        return np.minimum(f1(x), f2(x))\n",
    "    return min_f1_f2\n",
    "\n",
    "# def pointwise_minimum_two_arguments(f1, f2):\n",
    "#     def min_f1_f2(x, y):\n",
    "#         return np.minimum(f1(x, y), f2(x, y))\n",
    "#     return min_f1_f2\n",
    "\n",
    "# def pointwise_maximum(f1, f2):\n",
    "#     def max_f1_f2(x):\n",
    "#         return np.maximum(f1(x), f2(x))\n",
    "#     return max_f1_f2\n"
   ]
  },
  {
   "cell_type": "code",
   "execution_count": 131,
   "id": "6d97a020-e6be-4818-a2f8-4c02099b0fe6",
   "metadata": {},
   "outputs": [],
   "source": [
    "import flax\n",
    "from jax import numpy as jnp\n",
    "from functools import partial\n",
    "\n",
    "def rdp_epsilon_spent_per_entity(sigma: float, value: jnp.array, lipschitz_bound: float, alpha: int):\n",
    "    assert isinstance(alpha, int)\n",
    "    assert alpha > 0\n",
    "    assert sigma != 0\n",
    "    return alpha * (lipschitz_bound ** 2) * value/(2 * (sigma ** 2))\n",
    "\n",
    "def RenyiDP(alpha):\n",
    "    return np.inf\n",
    "\n",
    "def approxDP(delta):\n",
    "    return np.inf\n",
    "\n",
    "def individual_rdp(sigma, value, lipschitz_bound, alpha):\n",
    "    return np.sum(rdp_epsilon_spent_per_entity(sigma=sigma, value=value, lipschitz_bound=lipschitz_bound, alpha=alpha))\n",
    "\n",
    "\n",
    "\n",
    "\n",
    "\n",
    "@flax.struct.dataclass\n",
    "class GaussianMechanism:\n",
    "    sigma: float\n",
    "    public_sq_l2_norm: jnp.array\n",
    "    private_sq_l2_norm: jnp.array\n",
    "    lipschitz_bound: float\n",
    "    RenyiDP = RenyiDP\n",
    "    approxDP = approxDP\n",
    "    new_rdp = lambda x: individual_rdp(sigma=self.sigma, value=self.public_sq_l2_norm, lipschitz_bound=self.lipschitz_bound, alpha=x)\n",
    "    RenyiDP = minimum(RenyiDP, new_rdp)\n",
    "    approxDP = minimum(approxDP, vectorized_rdp_to_approxdp(RenyiDP, BBGHS_conversion=True))"
   ]
  },
  {
   "cell_type": "code",
   "execution_count": 132,
   "id": "8b9e1dec-d528-4757-a2cd-c58d0043b2a8",
   "metadata": {},
   "outputs": [],
   "source": [
    "gm = GaussianMechanism(sigma=2, public_sq_l2_norm=np.ones(10)*10, private_sq_l2_norm=np.random.random(10)*10, lipschitz_bound=5)"
   ]
  },
  {
   "cell_type": "code",
   "execution_count": 133,
   "id": "6edbff32-e0f3-46bd-a485-89dbcd9dedb4",
   "metadata": {},
   "outputs": [
    {
     "name": "stdout",
     "output_type": "stream",
     "text": [
      "GaussianMechanism(sigma=2, public_sq_l2_norm=array([10., 10., 10., 10., 10., 10., 10., 10., 10., 10.]), private_sq_l2_norm=array([1.56316717, 5.35318345, 4.50843204, 5.41385034, 8.39196365,\n",
      "       4.91364736, 1.04187097, 7.11736102, 6.62465895, 0.68744885]), lipschitz_bound=5)\n"
     ]
    },
    {
     "ename": "NameError",
     "evalue": "name 'self' is not defined",
     "output_type": "error",
     "traceback": [
      "\u001b[0;31m---------------------------------------------------------------------------\u001b[0m",
      "\u001b[0;31mNameError\u001b[0m                                 Traceback (most recent call last)",
      "Input \u001b[0;32mIn [133]\u001b[0m, in \u001b[0;36m<cell line: 1>\u001b[0;34m()\u001b[0m\n\u001b[0;32m----> 1\u001b[0m \u001b[43mgm\u001b[49m\u001b[38;5;241;43m.\u001b[39;49m\u001b[43mRenyiDP\u001b[49m\u001b[43m(\u001b[49m\u001b[43m)\u001b[49m\n",
      "Input \u001b[0;32mIn [86]\u001b[0m, in \u001b[0;36mminimum.<locals>.min_f1_f2\u001b[0;34m(x)\u001b[0m\n\u001b[1;32m      2\u001b[0m \u001b[38;5;28;01mdef\u001b[39;00m \u001b[38;5;21mmin_f1_f2\u001b[39m(x):\n\u001b[1;32m      3\u001b[0m     \u001b[38;5;28mprint\u001b[39m(x)\n\u001b[0;32m----> 4\u001b[0m     \u001b[38;5;28;01mreturn\u001b[39;00m np\u001b[38;5;241m.\u001b[39mminimum(f1(x), \u001b[43mf2\u001b[49m\u001b[43m(\u001b[49m\u001b[43mx\u001b[49m\u001b[43m)\u001b[49m)\n",
      "Input \u001b[0;32mIn [131]\u001b[0m, in \u001b[0;36mGaussianMechanism.<lambda>\u001b[0;34m(x)\u001b[0m\n\u001b[1;32m     30\u001b[0m RenyiDP \u001b[38;5;241m=\u001b[39m RenyiDP\n\u001b[1;32m     31\u001b[0m approxDP \u001b[38;5;241m=\u001b[39m approxDP\n\u001b[0;32m---> 32\u001b[0m new_rdp \u001b[38;5;241m=\u001b[39m \u001b[38;5;28;01mlambda\u001b[39;00m x: individual_rdp(sigma\u001b[38;5;241m=\u001b[39m\u001b[38;5;28;43mself\u001b[39;49m\u001b[38;5;241m.\u001b[39msigma, value\u001b[38;5;241m=\u001b[39m\u001b[38;5;28mself\u001b[39m\u001b[38;5;241m.\u001b[39mpublic_sq_l2_norm, lipschitz_bound\u001b[38;5;241m=\u001b[39m\u001b[38;5;28mself\u001b[39m\u001b[38;5;241m.\u001b[39mlipschitz_bound, alpha\u001b[38;5;241m=\u001b[39mx)\n\u001b[1;32m     33\u001b[0m RenyiDP \u001b[38;5;241m=\u001b[39m minimum(RenyiDP, new_rdp)\n\u001b[1;32m     34\u001b[0m approxDP \u001b[38;5;241m=\u001b[39m minimum(approxDP, vectorized_rdp_to_approxdp(RenyiDP, BBGHS_conversion\u001b[38;5;241m=\u001b[39m\u001b[38;5;28;01mTrue\u001b[39;00m))\n",
      "\u001b[0;31mNameError\u001b[0m: name 'self' is not defined"
     ]
    }
   ],
   "source": [
    "gm.RenyiDP()"
   ]
  },
  {
   "cell_type": "code",
   "execution_count": 100,
   "id": "438ca6ef-d554-4f67-ad73-eb4fd1593460",
   "metadata": {},
   "outputs": [
    {
     "data": {
      "text/plain": [
       "312.5"
      ]
     },
     "execution_count": 100,
     "metadata": {},
     "output_type": "execute_result"
    }
   ],
   "source": [
    "gm.new_rdp(1)"
   ]
  },
  {
   "cell_type": "code",
   "execution_count": 101,
   "id": "b502a52c-00fc-41cf-b503-874be5ee751f",
   "metadata": {},
   "outputs": [
    {
     "data": {
      "text/plain": [
       "<bound method minimum.<locals>.min_f1_f2 of GaussianMechanism(sigma=2, public_sq_l2_norm=array([10., 10., 10., 10., 10., 10., 10., 10., 10., 10.]), private_sq_l2_norm=array([9.10913388, 4.15553652, 1.38336822, 9.22487024, 0.3755091 ,\n",
       "       8.43498463, 0.06588135, 9.58663139, 2.82460943, 8.99324287]), lipschitz_bound=5)>"
      ]
     },
     "execution_count": 101,
     "metadata": {},
     "output_type": "execute_result"
    }
   ],
   "source": [
    "gm.RenyiDP"
   ]
  },
  {
   "cell_type": "code",
   "execution_count": 91,
   "id": "e00875bf-a0bc-4a7a-9a06-f2c0abb061d6",
   "metadata": {},
   "outputs": [
    {
     "ename": "TypeError",
     "evalue": "new_rdp() missing 1 required positional argument: 'x'",
     "output_type": "error",
     "traceback": [
      "\u001b[0;31m---------------------------------------------------------------------------\u001b[0m",
      "\u001b[0;31mTypeError\u001b[0m                                 Traceback (most recent call last)",
      "Input \u001b[0;32mIn [91]\u001b[0m, in \u001b[0;36m<cell line: 1>\u001b[0;34m()\u001b[0m\n\u001b[0;32m----> 1\u001b[0m \u001b[43mgm\u001b[49m\u001b[38;5;241;43m.\u001b[39;49m\u001b[43mRenyiDP\u001b[49m\u001b[43m(\u001b[49m\u001b[43m)\u001b[49m\n",
      "Input \u001b[0;32mIn [69]\u001b[0m, in \u001b[0;36mminimum.<locals>.min_f1_f2\u001b[0;34m(x)\u001b[0m\n\u001b[1;32m      2\u001b[0m \u001b[38;5;28;01mdef\u001b[39;00m \u001b[38;5;21mmin_f1_f2\u001b[39m(x):\n\u001b[0;32m----> 3\u001b[0m     \u001b[38;5;28;01mreturn\u001b[39;00m np\u001b[38;5;241m.\u001b[39mminimum(f1(x), \u001b[43mf2\u001b[49m\u001b[43m(\u001b[49m\u001b[43mx\u001b[49m\u001b[43m)\u001b[49m)\n",
      "\u001b[0;31mTypeError\u001b[0m: new_rdp() missing 1 required positional argument: 'x'"
     ]
    }
   ],
   "source": [
    "gm.RenyiDP()"
   ]
  },
  {
   "cell_type": "code",
   "execution_count": null,
   "id": "49d9cfd2-294f-497d-9708-48180f6a6eb2",
   "metadata": {},
   "outputs": [],
   "source": [
    "class VectorizedComposition:\n",
    "        \"\"\" Composition is a transformer that takes a list of Mechanisms and number of times they appear,\n",
    "    and output a Mechanism that represents the composed mechanism\"\"\"\n",
    "    \"\"\"\n",
    "    A transformer is a callable object that takes one or more mechanism as input and\n",
    "    **transform** them into a new mechanism\n",
    "    \"\"\"\n",
    "        \n",
    "    def __init__(self):\n",
    "\n",
    "        # Update the function that is callable\n",
    "        self.transform = self.compose\n",
    "\n",
    "    def compose(self, mechanism_list, coeff_list):\n",
    "        # Make sure that the mechanism has a unique list\n",
    "        # for example, if there are two Gaussian mechanism with two different sigmas, call it\n",
    "        # Gaussian1, and Gaussian2\n",
    "\n",
    "\n",
    "        newmech = Mechanism()\n",
    "\n",
    "        # update the functions\n",
    "        def newrdp(x):\n",
    "            return sum([mech.RenyiDP(x) for mech in mechanism_list])\n",
    "\n",
    "        newmech.RenyiDP = pointwise_minimum(newmech.RenyiDP, new_rdp)\n",
    "        newmech.approxDP = pointwise_minimum(newmech.approxDP, vectorized_rdp_to_approxdp(newmech.RenyiDP, BBGHS_conversion=True))\n",
    "\n",
    "        # TODO: the fDP_based_conversion sometimes fails due to undefined RDP with alpha < 1\n",
    "\n",
    "        newmech.eps_pureDP = sum([c * mech.eps_pureDP for (mech, c)\n",
    "                                  in zip(mechanism_list, coeff_list)])\n",
    "        newmech.delta0 = max([mech.delta0 for (mech, c)\n",
    "                              in zip(mechanism_list, coeff_list)])\n",
    "\n",
    "        return newmech\n",
    "    \n",
    "    \n",
    "    def __call__(self, *args, **kwargs):\n",
    "        return self.compose(*args, **kwargs)"
   ]
  },
  {
   "cell_type": "code",
   "execution_count": 65,
   "id": "f88fbde0-8efb-4305-b4e1-5087952152e4",
   "metadata": {},
   "outputs": [
    {
     "data": {
      "text/plain": [
       "array([0.000000e+00, 6.123234e-17])"
      ]
     },
     "execution_count": 65,
     "metadata": {},
     "output_type": "execute_result"
    }
   ],
   "source": [
    "pi = math.pi\n",
    "pointwise_minimum(np.sin, np.cos)([0, pi/2])"
   ]
  },
  {
   "cell_type": "code",
   "execution_count": 63,
   "id": "0c65a47c-0079-4ab3-9ca9-53bdbe27cf54",
   "metadata": {},
   "outputs": [
    {
     "data": {
      "text/plain": [
       "array([ 0.84147098,  0.90929743,  0.14112001, -0.7568025 ])"
      ]
     },
     "execution_count": 63,
     "metadata": {},
     "output_type": "execute_result"
    }
   ],
   "source": [
    "np.sin([1,2,3,4])"
   ]
  },
  {
   "cell_type": "code",
   "execution_count": 64,
   "id": "5deb14ac-9f25-4b68-bcff-f3ad2010bf78",
   "metadata": {},
   "outputs": [
    {
     "data": {
      "text/plain": [
       "array([ 0.54030231, -0.41614684, -0.9899925 , -0.65364362])"
      ]
     },
     "execution_count": 64,
     "metadata": {},
     "output_type": "execute_result"
    }
   ],
   "source": [
    "np.cos([1,2,3,4])"
   ]
  },
  {
   "cell_type": "code",
   "execution_count": null,
   "id": "a35c094b-b645-4797-9a31-7cee649a4987",
   "metadata": {},
   "outputs": [],
   "source": []
  }
 ],
 "metadata": {
  "kernelspec": {
   "display_name": "Python 3 (ipykernel)",
   "language": "python",
   "name": "python3"
  },
  "language_info": {
   "codemirror_mode": {
    "name": "ipython",
    "version": 3
   },
   "file_extension": ".py",
   "mimetype": "text/x-python",
   "name": "python",
   "nbconvert_exporter": "python",
   "pygments_lexer": "ipython3",
   "version": "3.8.10"
  }
 },
 "nbformat": 4,
 "nbformat_minor": 5
}
