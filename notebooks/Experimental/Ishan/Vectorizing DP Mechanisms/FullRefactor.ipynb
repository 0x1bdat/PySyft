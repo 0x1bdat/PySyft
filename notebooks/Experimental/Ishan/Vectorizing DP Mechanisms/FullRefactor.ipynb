{
 "cells": [
  {
   "cell_type": "markdown",
   "id": "970131ce-f54c-46fc-b09b-17e540e8d99e",
   "metadata": {},
   "source": [
    "### The Goal\n",
    "\n",
    "iDPGaussianMechanism relies very heavily on the `autodp` library, so I figured I would pull all the autodp code involved in the iDPGaussianMechanism class into one notebook, and see what could be vectorized and sped up, and what couldn't"
   ]
  },
  {
   "cell_type": "code",
   "execution_count": 44,
   "id": "908318e7-4906-442d-a0b6-382240139359",
   "metadata": {},
   "outputs": [],
   "source": [
    "import numpy as np\n",
    "from functools import lru_cache\n",
    "from scipy.optimize import minimize_scalar\n",
    "import math"
   ]
  },
  {
   "cell_type": "code",
   "execution_count": 2,
   "id": "55133f06-453a-4743-9adf-c0de7d1b09e4",
   "metadata": {},
   "outputs": [],
   "source": [
    "## Type hints\n",
    "\n",
    "# stdlib\n",
    "from typing import Dict\n",
    "from typing import List\n",
    "from typing import Optional\n",
    "from typing import Iterable\n",
    "from typing import Tuple\n",
    "\n",
    "# third party\n",
    "from nacl.signing import VerifyKey"
   ]
  },
  {
   "cell_type": "markdown",
   "id": "b3e6119a-86e4-4b05-a61c-9a849c54a5c6",
   "metadata": {},
   "source": [
    "#### autodp code begins here"
   ]
  },
  {
   "cell_type": "code",
   "execution_count": 3,
   "id": "71a5b25e-8644-4148-9096-c9d51873d803",
   "metadata": {},
   "outputs": [],
   "source": [
    "def get_eps_ana_gaussian(sigma, delta):\n",
    "    \"\"\" This function calculates the gaussian mechanism given sigma and delta using analytical GM\"\"\"\n",
    "    # Basically inverting the above function by solving a nonlinear equation\n",
    "    assert(delta >=0 and delta <=1)\n",
    "\n",
    "    if delta == 0:\n",
    "        return np.inf\n",
    "    if np.log(delta) >= get_logdelta_ana_gaussian(sigma, 0.0):\n",
    "        return 0.0\n",
    "\n",
    "    def fun(x):\n",
    "        if x < 0:\n",
    "            return np.inf\n",
    "        else:\n",
    "            return get_logdelta_ana_gaussian(sigma, x) - np.log(delta)"
   ]
  },
  {
   "cell_type": "code",
   "execution_count": 4,
   "id": "f3207990-6347-4394-9fb0-cee74eee9089",
   "metadata": {},
   "outputs": [],
   "source": [
    "def rdp_to_approxdp(rdp, alpha_max=np.inf, BBGHS_conversion=True):\n",
    "    # from RDP to approx DP\n",
    "    # alpha_max is an optional input which sometimes helps avoid numerical issues\n",
    "    # By default, we are using the RDP to approx-DP conversion due to BBGHS'19's Theorem 21\n",
    "    # paper: https://arxiv.org/pdf/1905.09982.pdf\n",
    "    # if you need to use the simpler RDP to approxDP conversion for some reason, turn the flag off\n",
    "\n",
    "    def approxdp(delta):\n",
    "        \"\"\"\n",
    "        approxdp outputs eps as a function of delta based on rdp calculations\n",
    "        :param delta:\n",
    "        :return: the \\epsilon with a given delta\n",
    "        \"\"\"\n",
    "\n",
    "        if delta < 0 or delta > 1:\n",
    "            print(\"Error! delta is a probability and must be between 0 and 1\")\n",
    "        if delta == 0:\n",
    "            return rdp(np.inf)\n",
    "        else:\n",
    "            def fun(x):  # the input the RDP's \\alpha\n",
    "                if x <= 1:\n",
    "                    return np.inf\n",
    "                else:\n",
    "                    if BBGHS_conversion:\n",
    "                        return np.maximum(rdp(x) + np.log((x-1)/x)\n",
    "                                          - (np.log(delta) + np.log(x))/(x-1), 0)\n",
    "                    else:\n",
    "                        return np.log(1 / delta) / (x - 1) + rdp(x)\n",
    "\n",
    "            results = minimize_scalar(fun, method='Brent', bracket=(1,2), bounds=[1, alpha_max])\n",
    "            if results.success:\n",
    "                return results.fun\n",
    "            else:\n",
    "                # There are cases when certain \\delta is not feasible.\n",
    "                # For example, let p and q be uniform the privacy R.V. is either 0 or \\infty and unless all \\infty\n",
    "                # events are taken cared of by \\delta, \\epsilon cannot be < \\infty\n",
    "                return np.inf\n",
    "    return approxdp"
   ]
  },
  {
   "cell_type": "code",
   "execution_count": 5,
   "id": "2384677f-cc12-4e87-83bc-a5b35ee84b91",
   "metadata": {},
   "outputs": [],
   "source": [
    "def approxdp_func_to_approxrdp(eps_func):\n",
    "    # from an approximate_dp function to approxrdp function\n",
    "    def approxrdp(alpha, delta):\n",
    "        rdp = puredp_to_rdp(eps_func(delta))\n",
    "        return rdp(alpha)\n",
    "\n",
    "    return approxrdp"
   ]
  },
  {
   "cell_type": "code",
   "execution_count": 6,
   "id": "204a1597-156d-4108-9c41-a89796c6927a",
   "metadata": {},
   "outputs": [],
   "source": [
    "def approxdp_func_to_fdp(func):\n",
    "    \"\"\"\n",
    "    from an approxdp function to fdp\n",
    "    :param func: epsilon as a function of delta by default.\n",
    "    :param delta_func: if the flag is True, then 'func' is a delta as a function of epsilon.\n",
    "    :return: fdp function\n",
    "    \"\"\"\n",
    "    #\n",
    "    # By default, logdelta_func is False, and func is eps as a function of delta\n",
    "    # fpr = maximize_{delta} approxdp_to_fdp(eps(delta),delta)(fpr)\n",
    "    # if delta_func is True, it means that 'func' is a delta as a function of eps, then\n",
    "    # fpr = maximize_{delta} approxdp_to_fdp(eps,delta(eps))(fpr)\n",
    "    def fdp(fpr):\n",
    "\n",
    "        assert(0 <= fpr <= 1)\n",
    "        if fpr == 1:\n",
    "            return 0\n",
    "\n",
    "        def fun(eps):\n",
    "            fdp_eps = approxdp_to_fdp(eps, func(eps))\n",
    "            fnr = fdp_eps(fpr)\n",
    "            return -fnr\n",
    "\n",
    "        results = minimize_scalar(fun, bounds=[0, +np.inf], options={'disp': False})\n",
    "        if results.success:\n",
    "            return -results.fun\n",
    "        else:\n",
    "            return 0\n",
    "    return fdp"
   ]
  },
  {
   "cell_type": "code",
   "execution_count": 7,
   "id": "b7f2ac80-2589-4dc4-99b6-30d1a5955044",
   "metadata": {},
   "outputs": [],
   "source": [
    "def pointwise_minimum(f1, f2):\n",
    "    def min_f1_f2(x):\n",
    "        return np.minimum(f1(x), f2(x))\n",
    "    return min_f1_f2\n",
    "\n",
    "def pointwise_minimum_two_arguments(f1, f2):\n",
    "    def min_f1_f2(x, y):\n",
    "        return np.minimum(f1(x, y), f2(x, y))\n",
    "    return min_f1_f2\n",
    "\n",
    "def pointwise_maximum(f1, f2):\n",
    "    def max_f1_f2(x):\n",
    "        return np.maximum(f1(x), f2(x))\n",
    "    return max_f1_f2"
   ]
  },
  {
   "cell_type": "code",
   "execution_count": 8,
   "id": "5447e4c8-bd91-45a8-903a-c0276ff2a5f4",
   "metadata": {},
   "outputs": [],
   "source": [
    "class Mechanism():\n",
    "    \"\"\"\n",
    "     The base mechanism will use typically two functions to describe the mechanism\n",
    "\n",
    "    # Attributes (actually functions as well):\n",
    "    # 1: Approximate DP:   epsilon as a function of delta\n",
    "    # 2. Renyi DP:   RDP epsilon as a function of \\alpha\n",
    "    # 3. Approximate RDP:  approximate RDP. RDP conditioning on a failure probability delta0.\n",
    "    # 4. f-DP:  Type II error as a function of Type I error. You can get that from Approximate-DP\n",
    "    #           or FDP directly.\n",
    "    # 5. epsilon:  Pure DP bound.  If not infinity, then the mechanism satisfies pure DP.\n",
    "    # 6. delta0:  Failure probability which documents the delta to use for approximate RDP\n",
    "    #             in the case when there are no information available about the failure event.\n",
    "\n",
    "    # If we specify RDP only then it will propagate the RDP calculations to approximate-DP\n",
    "    # and to f-DP\n",
    "    # If we specify pure-DP only then it propagates to RDP,  Approximate-DP, f-DP and so on.\n",
    "    # If we specify approximate-DP only, then it implies an approximate RDP bound with \\delta_0.\n",
    "    # If we specify f-DP only then it propagates to other specifications.\n",
    "    \n",
    "    \n",
    "    # If we specify multiple calculations, then it will take the minimum of all of them\n",
    "    #      in each category\n",
    "    \"\"\"\n",
    "\n",
    "\n",
    "    def __init__(self):\n",
    "        # Initialize everything with trivial (non-private) defaults\n",
    "        def RenyiDP(alpha):\n",
    "            return np.inf\n",
    "\n",
    "        def approxRDP(delta, alpha):\n",
    "            return np.inf\n",
    "\n",
    "        def approxDP(delta):\n",
    "            return np.inf\n",
    "\n",
    "        def fDP(fpr):\n",
    "            fnr = 0.0\n",
    "            return fnr\n",
    "\n",
    "        self.RenyiDP = RenyiDP\n",
    "        self.approxRDP = approxRDP\n",
    "        self.approxDP = approxDP\n",
    "        self.fDP = fDP\n",
    "        self.eps_pureDP = np.inf\n",
    "\n",
    "        self.delta0 = np.inf  # indicate the smallest allowable \\delta0 in approxRDP that is not inf\n",
    "        #  We can convert localDP to curator DP by parallel composition and by shuffling.\n",
    "        \n",
    "    def get_approxDP(self, delta):\n",
    "        # Output eps as a function of delta\n",
    "        return self.approxDP(delta)\n",
    "\n",
    "    def get_approxRDP(self, delta, alpha):\n",
    "        # Output eps as a function of delta and alpha\n",
    "        return self.approxRDP(delta, alpha)\n",
    "\n",
    "    def get_RDP(self, alpha):\n",
    "        # Output RDP eps as a function of alpha\n",
    "        return self.RenyiDP(alpha)\n",
    "\n",
    "    def get_fDP(self, fpr):\n",
    "        # Output false negative rate as a function of false positive rate\n",
    "        return self.fDP(fpr)\n",
    "\n",
    "    def propagate_updates(self, func, type_of_update,\n",
    "                          delta0=0,\n",
    "                          BBGHS_conversion=True,\n",
    "                          fDP_based_conversion=False):\n",
    "        # This function receives a new description of the mechanisms and updates all functions\n",
    "        # based on what is new by calling converters.\n",
    "\n",
    "        if type_of_update == 'approxDP_func':\n",
    "            # func outputs eps as a function of delta\n",
    "            # optional input delta0, telling us from where \\epsilon becomes infinity\n",
    "\n",
    "            self.delta0 = np.minimum(delta0, self.delta0)  # How is this ever anything except 0?!\n",
    "            self.fDP = pointwise_maximum(self.fDP, approxdp_func_to_fdp(func))\n",
    "            self.approxRDP = pointwise_minimum_two_arguments(self.approxRDP,\n",
    "                                 approxdp_func_to_approxrdp(func))\n",
    "            self.approxDP = pointwise_minimum(self.approxDP, func)\n",
    "            \n",
    "        elif type_of_update == 'RDP':\n",
    "            # function output RDP eps as a function of alpha\n",
    "            self.RenyiDP = pointwise_minimum(self.RenyiDP, func)\n",
    "            self.approxDP = pointwise_minimum(self.approxDP,\n",
    "                     rdp_to_approxdp(self.RenyiDP, BBGHS_conversion=BBGHS_conversion))\n",
    "            self.fDP = pointwise_maximum(self.fDP,\n",
    "                                                   approxdp_func_to_fdp(\n",
    "                                                       self.approxDP))\n",
    "        else:\n",
    "            print(type_of_update, ' not recognized.')"
   ]
  },
  {
   "cell_type": "markdown",
   "id": "953d7617-8ae9-4c42-9dfa-aedff4cbb373",
   "metadata": {},
   "source": [
    "#### Our PySyft classes begin from here on"
   ]
  },
  {
   "cell_type": "code",
   "execution_count": 9,
   "id": "3733d069-304f-4b48-94b6-45f56b318d17",
   "metadata": {},
   "outputs": [],
   "source": [
    "# returns the privacy budget spent by each entity\n",
    "@lru_cache(maxsize=None)\n",
    "def _individual_RDP_gaussian(\n",
    "    sigma: float, value: float, L: float, alpha: float\n",
    ") -> float:\n",
    "    return (alpha * (L**2) * (value**2)) / (2 * (sigma**2))"
   ]
  },
  {
   "cell_type": "code",
   "execution_count": 10,
   "id": "91de559c-f9c2-4bc7-a545-ccd4f4b2b424",
   "metadata": {},
   "outputs": [],
   "source": [
    "def individual_RDP_gaussian(params: Dict, alpha: float) -> np.float64:\n",
    "    \"\"\"\n",
    "    :param params:\n",
    "        'sigma' --- is the normalized noise level: std divided by global L2 sensitivity\n",
    "        'value' --- is the output of query on a data point\n",
    "        'L' --- is the Lipschitz constant of query with respect to the output of query on a data point\n",
    "    :param alpha: The order of the Renyi Divergence\n",
    "    :return: Evaluation of the RDP's epsilon\n",
    "    \"\"\"\n",
    "    sigma = params[\"sigma\"]\n",
    "    value = params[\"value\"]\n",
    "    L = params[\"L\"]\n",
    "    if sigma <= 0:\n",
    "        raise Exception(\"Sigma should be above 0\")\n",
    "    if alpha < 0:\n",
    "        raise Exception(\"Sigma should not be below 0\")\n",
    "\n",
    "    return _individual_RDP_gaussian(sigma=sigma, alpha=alpha, value=value, L=L)"
   ]
  },
  {
   "cell_type": "code",
   "execution_count": 11,
   "id": "b096870a-94d7-4137-9397-9b2f6fd78b83",
   "metadata": {},
   "outputs": [],
   "source": [
    "# Example of a specific mechanism that inherits the Mechanism class\n",
    "# @serializable(recursive_serde=True)\n",
    "class iDPGaussianMechanism(Mechanism):\n",
    "    __attr_allowlist__ = [\n",
    "        \"name\",\n",
    "        \"params\",\n",
    "        \"entity_name\",\n",
    "        \"delta0\",\n",
    "        \"RDP_off\",\n",
    "        \"approxDP_off\",\n",
    "        \"user_key\",\n",
    "    ]\n",
    "\n",
    "    def __init__(\n",
    "        self,\n",
    "        sigma: float,\n",
    "        squared_l2_norm: float,\n",
    "        squared_l2_norm_upper_bound: float,\n",
    "        L: float,\n",
    "        entity_name: str,\n",
    "        name: str = \"Gaussian\",\n",
    "        RDP: bool = True,\n",
    "        approxDP: bool = True,\n",
    "        user_key: Optional[VerifyKey] = None,  #TODO: Why isn't it mandatory to provide a User Key?\n",
    "    ):\n",
    "\n",
    "        Mechanism.__init__(self)\n",
    "\n",
    "        self.user_key = user_key\n",
    "\n",
    "        self.name = name  # When composing\n",
    "        self.params = {\n",
    "            \"sigma\": float(sigma),\n",
    "            \"private_value\": float(squared_l2_norm),\n",
    "            \"public_value\": float(squared_l2_norm_upper_bound),\n",
    "            \"L\": float(L),\n",
    "        }  # This will be useful for the Calibrator\n",
    "\n",
    "        self.entity_name = entity_name\n",
    "\n",
    "        self.delta0 = 0\n",
    "        if RDP:\n",
    "            # Tudor: i'll fix these  \n",
    "            # x is the alpha value of the RDP here\n",
    "            new_rdp = lambda x: individual_RDP_gaussian(self.params, x)  # noqa: E731\n",
    "            self.propagate_updates(new_rdp, \"RDP\")\n",
    "\n",
    "        if approxDP:  # Direct implementation of approxDP\n",
    "            new_approxdp = lambda x: dp_bank.get_eps_ana_gaussian(  # noqa: E731\n",
    "                sigma, x\n",
    "            )\n",
    "            self.propagate_updates(new_approxdp, \"approxDP_func\")"
   ]
  },
  {
   "cell_type": "code",
   "execution_count": 12,
   "id": "e20cbe80-ffb2-4f2a-8507-76e24c749411",
   "metadata": {},
   "outputs": [],
   "source": [
    "m = Mechanism()"
   ]
  },
  {
   "cell_type": "code",
   "execution_count": 13,
   "id": "e27ff2d2-9944-40dd-8a50-751693843d3d",
   "metadata": {},
   "outputs": [],
   "source": [
    "idpgm = iDPGaussianMechanism(sigma=1, squared_l2_norm=40, squared_l2_norm_upper_bound=10, L=5, entity_name=\"Bob\")"
   ]
  },
  {
   "cell_type": "code",
   "execution_count": 14,
   "id": "c1cf229f-3dd5-4c5a-8011-096c449f68a2",
   "metadata": {},
   "outputs": [
    {
     "data": {
      "text/plain": [
       "0"
      ]
     },
     "execution_count": 14,
     "metadata": {},
     "output_type": "execute_result"
    }
   ],
   "source": [
    "idpgm.delta0"
   ]
  },
  {
   "cell_type": "markdown",
   "id": "5aba5578-9ac7-4a38-9c43-de527e599ece",
   "metadata": {},
   "source": [
    "#### This part was in the adversarial accountant"
   ]
  },
  {
   "cell_type": "code",
   "execution_count": 15,
   "id": "06ce26c0-1d1b-42ee-8e57-f0e188927c03",
   "metadata": {},
   "outputs": [],
   "source": [
    "class Transformer():\n",
    "    \"\"\"\n",
    "    A transformer is a callable object that takes one or more mechanism as input and\n",
    "    **transform** them into a new mechanism\n",
    "    \"\"\"\n",
    "\n",
    "    def __init__(self):\n",
    "        self.name = 'generic_transformer'\n",
    "        self.unary_operator = False  # If true it takes one mechanism as an input,\n",
    "        # otherwise it could take many, e.g., composition\n",
    "        self.preprocessing = False  # Relevant if unary is true, it specifies whether the operation\n",
    "        # is before or after the mechanism, e.g., amplification by sampling is before applying the\n",
    "        # mechanism, \"amplification by shuffling\" is after applying the LDP mechanisms\n",
    "        self.transform = lambda x: x\n",
    "\n",
    "    def __call__(self, *args, **kwargs):\n",
    "        return self.transform(*args, **kwargs)"
   ]
  },
  {
   "cell_type": "code",
   "execution_count": 16,
   "id": "203ffee7-b890-4385-a213-6e4bf1f842e1",
   "metadata": {},
   "outputs": [],
   "source": [
    "t = Transformer()"
   ]
  },
  {
   "cell_type": "code",
   "execution_count": 26,
   "id": "7bcfaf5e-e9a7-4776-8c2f-44ba6e92e4a9",
   "metadata": {},
   "outputs": [],
   "source": [
    "import math\n",
    "\n",
    "# The generic composition class\n",
    "class Composition(Transformer):\n",
    "    \"\"\" Composition is a transformer that takes a list of Mechanisms and number of times they appear,\n",
    "    and output a Mechanism that represents the composed mechanism\"\"\"\n",
    "    def __init__(self):\n",
    "        Transformer.__init__(self)\n",
    "        self.name = 'Composition'\n",
    "\n",
    "        # Update the function that is callable\n",
    "        self.transform = self.compose\n",
    "\n",
    "    def compose(self, mechanism_list, coeff_list):\n",
    "        # Make sure that the mechanism has a unique list\n",
    "        # for example, if there are two Gaussian mechanism with two different sigmas, call it\n",
    "        # Gaussian1, and Gaussian2\n",
    "\n",
    "\n",
    "        newmech = Mechanism()\n",
    "\n",
    "        # update the functions\n",
    "        def newrdp(x):\n",
    "            return sum([c * mech.RenyiDP(x) for (mech, c) in zip(mechanism_list, coeff_list)])\n",
    "        newmech.propagate_updates(newrdp, 'RDP')\n",
    "\n",
    "        # TODO: the fDP_based_conversion sometimes fails due to undefined RDP with alpha < 1\n",
    "\n",
    "        newmech.eps_pureDP = sum([c * mech.eps_pureDP for (mech, c)\n",
    "                                  in zip(mechanism_list, coeff_list)])\n",
    "        newmech.delta0 = max([mech.delta0 for (mech, c)\n",
    "                              in zip(mechanism_list, coeff_list)])\n",
    "\n",
    "        # Other book keeping\n",
    "        newmech.name = self.update_name(mechanism_list, coeff_list)\n",
    "        # keep track of all parameters of the composed mechanisms\n",
    "        newmech.params = self.update_params(mechanism_list)\n",
    "\n",
    "        return newmech\n",
    "\n",
    "    def update_name(self,mechanism_list, coeff_list):\n",
    "        separator = ', '\n",
    "        s = separator.join([mech.name + ': ' + str(c) for (mech, c)\n",
    "                           in zip(mechanism_list, coeff_list)])\n",
    "\n",
    "        return 'Compose:{'+ s +'}'\n",
    "\n",
    "    def update_params(self, mechanism_list):\n",
    "        params = {}\n",
    "        for mech in mechanism_list:\n",
    "            params_cur = {mech.name+':'+k: v for k,v in mech.params.items()}\n",
    "            params.update(params_cur)\n",
    "        return params"
   ]
  },
  {
   "cell_type": "code",
   "execution_count": 27,
   "id": "49499769-1f35-4969-bda3-04924b3527ac",
   "metadata": {},
   "outputs": [],
   "source": [
    "c = Composition()\n",
    "m = c.compose([idpgm], [1])"
   ]
  },
  {
   "cell_type": "code",
   "execution_count": 29,
   "id": "430e9d9d-a4d9-41c3-aae0-7d372d8d6494",
   "metadata": {},
   "outputs": [],
   "source": [
    "def compose_mechanisms(\n",
    "    mechanisms: Iterable[iDPGaussianMechanism], delta: float\n",
    ") -> float:\n",
    "    sigmas = list()\n",
    "    squared_l2_norms = list()\n",
    "    squared_l2_norm_upper_bounds = list()\n",
    "    Ls = list()\n",
    "    values = list()\n",
    "\n",
    "    for m in mechanisms:\n",
    "        sigmas.append(m.params[\"sigma\"])\n",
    "        squared_l2_norms.append(m.params[\"private_value\"])\n",
    "        squared_l2_norm_upper_bounds.append(m.params[\"public_value\"])\n",
    "        Ls.append(m.params[\"L\"])\n",
    "        values.append(m.params[\"value\"])\n",
    "\n",
    "    return compose_mechanisms_via_simplified_args_for_lru_cache(\n",
    "        tuple(sigmas),\n",
    "        tuple(squared_l2_norms),\n",
    "        tuple(squared_l2_norm_upper_bounds),\n",
    "        tuple(Ls),\n",
    "        tuple(values),\n",
    "        delta,\n",
    "    )\n",
    "\n",
    "\n",
    "@lru_cache(maxsize=None)\n",
    "def compose_mechanisms_via_simplified_args_for_lru_cache(\n",
    "    sigmas: Tuple[float],\n",
    "    squared_l2_norms: Tuple[float],\n",
    "    squared_l2_norm_upper_bounds: Tuple[float],\n",
    "    Ls: Tuple[float],\n",
    "    values: Tuple[float],\n",
    "    delta: float,\n",
    ") -> float:\n",
    "    mechanisms = list()\n",
    "    for i in range(len(sigmas)):\n",
    "\n",
    "        m = iDPGaussianMechanism(\n",
    "            sigma=sigmas[i],\n",
    "            squared_l2_norm=squared_l2_norms[i],\n",
    "            squared_l2_norm_upper_bound=squared_l2_norm_upper_bounds[i],\n",
    "            L=Ls[i],\n",
    "            entity_name=\"\",\n",
    "        )\n",
    "        m.params[\"value\"] = values[i]\n",
    "        mechanisms.append(m)\n",
    "    # compose them with the transformation: compose\n",
    "    compose = Composition()\n",
    "    composed_mech = compose(mechanisms, [1] * len(mechanisms))\n",
    "    eps = composed_mech.get_approxDP(delta)\n",
    "    return eps\n"
   ]
  },
  {
   "cell_type": "code",
   "execution_count": 30,
   "id": "b5a2d3fb-1fa7-46ba-a1fe-0128bc6d4e26",
   "metadata": {},
   "outputs": [
    {
     "data": {
      "text/plain": [
       "<__main__.iDPGaussianMechanism at 0x7ff0a49c1f10>"
      ]
     },
     "execution_count": 30,
     "metadata": {},
     "output_type": "execute_result"
    }
   ],
   "source": [
    "idpgm"
   ]
  },
  {
   "cell_type": "code",
   "execution_count": 50,
   "id": "d3f8c009-1cf1-4f76-8a3c-2a02382f7b82",
   "metadata": {},
   "outputs": [],
   "source": [
    "inputs = []\n",
    "\n",
    "for i in range(10**6):\n",
    "    inputs.append(iDPGaussianMechanism(sigma=2, squared_l2_norm=5 + i, squared_l2_norm_upper_bound=7 + i, L=4, entity_name=str(i)))\n",
    "    inputs[i].params[\"value\"] = inputs[i].params[\"private_value\"]"
   ]
  },
  {
   "cell_type": "code",
   "execution_count": 51,
   "id": "5d13e29a-9bc0-43b8-ada6-47a2b092658b",
   "metadata": {},
   "outputs": [
    {
     "name": "stdout",
     "output_type": "stream",
     "text": [
      "CPU times: user 2min 47s, sys: 4.18 s, total: 2min 52s\n",
      "Wall time: 2min 51s\n"
     ]
    },
    {
     "data": {
      "text/plain": [
       "6.66675677715008e+17"
      ]
     },
     "execution_count": 51,
     "metadata": {},
     "output_type": "execute_result"
    }
   ],
   "source": [
    "%%time\n",
    "compose_mechanisms(inputs, delta=1e-6)"
   ]
  },
  {
   "cell_type": "code",
   "execution_count": 52,
   "id": "6356aa21-0d40-4221-af65-b1eae917115f",
   "metadata": {},
   "outputs": [],
   "source": [
    "inputs = []\n",
    "\n",
    "for i in range(10**6):\n",
    "    inputs.append(iDPGaussianMechanism(sigma=2, squared_l2_norm=50, squared_l2_norm_upper_bound=7, L=4, entity_name=str(i)))\n",
    "    inputs[i].params[\"value\"] = inputs[i].params[\"private_value\"]"
   ]
  },
  {
   "cell_type": "code",
   "execution_count": 53,
   "id": "a2a6337d-0eb3-45b5-aa6a-26dfe966b6e1",
   "metadata": {},
   "outputs": [
    {
     "name": "stdout",
     "output_type": "stream",
     "text": [
      "CPU times: user 1min 57s, sys: 1.18 s, total: 1min 59s\n",
      "Wall time: 1min 59s\n"
     ]
    },
    {
     "data": {
      "text/plain": [
       "5000525641.237593"
      ]
     },
     "execution_count": 53,
     "metadata": {},
     "output_type": "execute_result"
    }
   ],
   "source": [
    "%%time\n",
    "compose_mechanisms(inputs, delta=1e-6)"
   ]
  },
  {
   "cell_type": "code",
   "execution_count": null,
   "id": "6ffe2a21-ffc2-4ad0-abbb-4cdb3e4ab03d",
   "metadata": {},
   "outputs": [],
   "source": []
  }
 ],
 "metadata": {
  "kernelspec": {
   "display_name": "Python 3 (ipykernel)",
   "language": "python",
   "name": "python3"
  },
  "language_info": {
   "codemirror_mode": {
    "name": "ipython",
    "version": 3
   },
   "file_extension": ".py",
   "mimetype": "text/x-python",
   "name": "python",
   "nbconvert_exporter": "python",
   "pygments_lexer": "ipython3",
   "version": "3.8.10"
  }
 },
 "nbformat": 4,
 "nbformat_minor": 5
}
