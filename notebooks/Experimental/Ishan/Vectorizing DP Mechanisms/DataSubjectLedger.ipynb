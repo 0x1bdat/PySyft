{
 "cells": [
  {
   "cell_type": "code",
   "execution_count": 1,
   "metadata": {},
   "outputs": [],
   "source": [
    "import numpy as np\n",
    "from scipy.optimize import minimize_scalar\n",
    "\n",
    "class DataSubjectLedger:\n",
    "    \"\"\"for a particular data subject, this is the list\n",
    "    of all mechanisms releasing informationo about this\n",
    "    particular subject, stored in a vectorized form\"\"\"\n",
    "    \n",
    "    def __init__(self, n_mechanisms=2):\n",
    "        self.sigma = np.ones(n_mechanisms)\n",
    "        self.l2_norms = np.ones(n_mechanisms) * 10\n",
    "        self.l2_norms_bound = np.ones(n_mechanisms) * 40\n",
    "        self.Ls = np.ones(n_mechanisms)*5\n",
    "        self.coeffs = np.ones(n_mechanisms)\n",
    "        self.deltas = np.zeros(n_mechanisms) + 1e-6\n",
    "        self.entity = 'Bob'\n",
    "        \n",
    "    def get_rdp_func(self, private=True):\n",
    "        \n",
    "        squared_Ls = self.Ls**2\n",
    "        squared_sigma = self.sigma**2\n",
    "        \n",
    "\n",
    "        \n",
    "        if private:\n",
    "            \n",
    "            squared_L2_norms = self.l2_norms**2            \n",
    "            private_constant = squared_Ls * squared_L2_norms / (2 * squared_sigma)            \n",
    "\n",
    "            def private_rdp_func(alpha):\n",
    "                return alpha * private_constant\n",
    "            \n",
    "            return private_rdp_func\n",
    "        \n",
    "        else:\n",
    "            squared_L2_norm_bounds = self.l2_norms_bound**2            \n",
    "            public_constant = squared_Ls * squared_L2_norm_bounds / (2 * squared_sigma)            \n",
    "            def public_rdp_func(alpha):\n",
    "                return alpha * public_constant\n",
    "            return public_rdp_func\n",
    "\n",
    "    def get_rdp_compose_func(self, private=True):\n",
    "        \n",
    "        func = self.get_rdp_func(private=private)\n",
    "        \n",
    "        # update the functions\n",
    "        def rdp_compose_func(alpha):\n",
    "            return np.dot(func(alpha), self.coeffs)\n",
    "        \n",
    "        return rdp_compose_func\n",
    "    \n",
    "    def get_alpha_search_function(self):\n",
    "        rdp_compose_func = self.get_rdp_compose_func()\n",
    "        delta = np.max(self.deltas)\n",
    "        log_delta = np.log(delta)\n",
    "        def fun(alpha):  # the input is the RDP's \\alpha\n",
    "            if alpha <= 1:\n",
    "                return np.inf\n",
    "            else:\n",
    "                alpha_minus_1 = alpha-1\n",
    "                return np.maximum(rdp_compose_func(alpha) + np.log(alpha_minus_1/alpha)\n",
    "                                  - (log_delta + np.log(alpha))/alpha_minus_1, 0)\n",
    "        return fun    \n",
    "    \n",
    "    def get_epsilon_spend(self, alpha_max = np.inf):\n",
    "        search_fun = self.get_alpha_search_function()\n",
    "        results = minimize_scalar(search_fun, method='Brent', bracket=(1,2), bounds=[1, alpha_max])\n",
    "\n",
    "        if results.success:\n",
    "            return results.fun\n",
    "        else:\n",
    "            # There are cases when certain \\delta is not feasible.\n",
    "            # For example, let p and q be uniform the privacy R.V. is either 0 or \\infty and unless all \\infty\n",
    "            # events are taken cared of by \\delta, \\epsilon cannot be < \\infty\n",
    "            return np.inf\n",
    "\n",
    "bob_ledger = DataSubjectLedger()"
   ]
  },
  {
   "cell_type": "code",
   "execution_count": null,
   "metadata": {},
   "outputs": [],
   "source": []
  },
  {
   "cell_type": "code",
   "execution_count": 51,
   "metadata": {},
   "outputs": [],
   "source": []
  },
  {
   "cell_type": "code",
   "execution_count": 52,
   "metadata": {},
   "outputs": [
    {
     "data": {
      "text/plain": [
       "2868.0555591748666"
      ]
     },
     "execution_count": 52,
     "metadata": {},
     "output_type": "execute_result"
    }
   ],
   "source": [
    "bob_ledger.get_epsilon_spend()"
   ]
  },
  {
   "cell_type": "code",
   "execution_count": 46,
   "metadata": {},
   "outputs": [
    {
     "name": "stdout",
     "output_type": "stream",
     "text": [
      "private constant:[1250. 1250.]\n"
     ]
    }
   ],
   "source": [
    "fun = bob_ledger.get_alpha_search_function()"
   ]
  },
  {
   "cell_type": "code",
   "execution_count": 34,
   "metadata": {},
   "outputs": [
    {
     "data": {
      "text/plain": [
       "4201.395491448622"
      ]
     },
     "execution_count": 34,
     "metadata": {},
     "output_type": "execute_result"
    }
   ],
   "source": [
    "fun(1.0605677746852211)"
   ]
  },
  {
   "cell_type": "code",
   "execution_count": 35,
   "metadata": {},
   "outputs": [
    {
     "data": {
      "text/plain": [
       "4206.719971768788"
      ]
     },
     "execution_count": 35,
     "metadata": {},
     "output_type": "execute_result"
    }
   ],
   "source": [
    "fun(1.0705677746852211)"
   ]
  },
  {
   "cell_type": "code",
   "execution_count": 30,
   "metadata": {},
   "outputs": [
    {
     "data": {
      "text/plain": [
       "4208.827647823999"
      ]
     },
     "execution_count": 30,
     "metadata": {},
     "output_type": "execute_result"
    }
   ],
   "source": [
    "fun(1.0505677746852211)"
   ]
  },
  {
   "cell_type": "code",
   "execution_count": 83,
   "metadata": {},
   "outputs": [
    {
     "data": {
      "text/plain": [
       "     fun: 4201.395491448622\n",
       "    nfev: 19\n",
       "     nit: 15\n",
       " success: True\n",
       "       x: 1.0605677746852211"
      ]
     },
     "execution_count": 83,
     "metadata": {},
     "output_type": "execute_result"
    }
   ],
   "source": []
  },
  {
   "cell_type": "code",
   "execution_count": null,
   "metadata": {},
   "outputs": [],
   "source": []
  }
 ],
 "metadata": {
  "kernelspec": {
   "display_name": "Python 3",
   "language": "python",
   "name": "python3"
  },
  "language_info": {
   "codemirror_mode": {
    "name": "ipython",
    "version": 3
   },
   "file_extension": ".py",
   "mimetype": "text/x-python",
   "name": "python",
   "nbconvert_exporter": "python",
   "pygments_lexer": "ipython3",
   "version": "3.7.9"
  }
 },
 "nbformat": 4,
 "nbformat_minor": 4
}
