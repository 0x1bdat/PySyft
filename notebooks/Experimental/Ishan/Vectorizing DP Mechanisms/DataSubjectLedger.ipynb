{
 "cells": [
  {
   "cell_type": "markdown",
   "metadata": {},
   "source": [
    "TODO:\n",
    "- Rewrite overbudgeted entities code to use vectorized code (replace rows with 0s)\n",
    "- Figure out how to read/write to databases effectively?\n",
    "    - Make it so the ledger remembers what it got from the DB, and what it got locally (make a diff object, and make it so that it can read that effectively)\n",
    "\n",
    "Later:\n",
    "- Give each DataSubject a unique integer ID\n",
    "- Custom deltas? (please no)"
   ]
  },
  {
   "cell_type": "code",
   "execution_count": 101,
   "metadata": {},
   "outputs": [],
   "source": [
    "import numpy as np\n",
    "from scipy.optimize import minimize_scalar\n",
    "\n",
    "class DataSubjectLedger:\n",
    "    \"\"\"for a particular data subject, this is the list\n",
    "    of all mechanisms releasing informationo about this\n",
    "    particular subject, stored in a vectorized form\"\"\"\n",
    "    \n",
    "    def __init__(self, default_cache_size=1e3):\n",
    "        \n",
    "        self.delta = 1e-6  # WARNING: CHANGING DELTA INVALIDATES THE CACHE\n",
    "        self.reset()\n",
    "        self.cache_constant2epsilon = list()\n",
    "        self.increase_max_cache(int(default_cache_size))        \n",
    "\n",
    "    def reset(self):\n",
    "        self.sigmas = np.array([])\n",
    "        self.l2_norms = np.array([])\n",
    "        self.l2_norm_bounds = np.array([])\n",
    "        self.Ls = np.array([])\n",
    "        self.coeffs = np.array([])\n",
    "        self.entity_ids = np.array([])\n",
    "        self.entity2budget = np.array([])\n",
    "        \n",
    "    def batch_append(self, \n",
    "                     sigmas: np.ndarray, \n",
    "                     l2_norms: np.ndarray, \n",
    "                     l2_norm_bounds: np.ndarray, \n",
    "                     Ls: np.ndarray, \n",
    "                     coeffs: np.ndarray, \n",
    "                     entity_ids: np.ndarray):\n",
    "        \n",
    "        self.sigmas = np.concatenate([self.sigmas, sigmas])\n",
    "        self.l2_norms = np.concatenate([self.l2_norms, l2_norms])        \n",
    "        self.l2_norm_bounds = np.concatenate([self.l2_norm_bounds, l2_norm_bounds])        \n",
    "        self.Ls = np.concatenate([self.Ls, Ls])        \n",
    "        self.coeffs = np.concatenate([self.coeffs, coeffs])               \n",
    "        self.entity_ids = np.concatenate([self.entity_ids, entity_ids])\n",
    "        \n",
    "    def increase_max_cache(self, new_size):\n",
    "        new_entries = []\n",
    "        current_size = len(self.cache_constant2epsilon)\n",
    "        for i in range(new_size - current_size):\n",
    "            alpha, eps = self.get_optimal_alpha_for_constant(i+1 + current_size)\n",
    "            new_entries.append(eps)\n",
    "        self.cache_constant2epsilon = np.concatenate([self.cache_constant2epsilon, np.array(new_entries)])\n",
    "        # print(self.cache_constant2epsilon)\n",
    "        \n",
    "    def get_fake_rdp_func(self, constant):\n",
    "        \n",
    "        def func(alpha):\n",
    "            return alpha * constant\n",
    "        \n",
    "        return func\n",
    "\n",
    "    def get_alpha_search_function(self, rdp_compose_func):\n",
    "            \n",
    "        # if len(self.deltas) > 0:\n",
    "            # delta = np.max(self.deltas)\n",
    "        # else:\n",
    "        log_delta = np.log(self.delta)\n",
    "        \n",
    "        def fun(alpha):  # the input is the RDP's \\alpha\n",
    "            \n",
    "            if alpha <= 1:\n",
    "                return np.inf\n",
    "            else:\n",
    "                alpha_minus_1 = alpha-1\n",
    "                return np.maximum(rdp_compose_func(alpha) + np.log(alpha_minus_1/alpha)\n",
    "                                  - (log_delta + np.log(alpha))/alpha_minus_1, 0)\n",
    "        return fun    \n",
    "    \n",
    "    def get_optimal_alpha_for_constant(self, constant=3):\n",
    "        \n",
    "        f = self.get_fake_rdp_func(constant)\n",
    "        f2 = self.get_alpha_search_function(rdp_compose_func=f)\n",
    "        results = minimize_scalar(f2, method='Brent', bracket=(1,2), bounds=[1, np.inf])\n",
    "        \n",
    "        return results.x, results.fun\n",
    "\n",
    "        \n",
    "    def get_batch_rdp_constants(self, entity_ids_query, private=True):\n",
    "        \n",
    "        # get indices for all ledger rows corresponding to any of the entities in entity_ids_query\n",
    "        indices_batch = np.where(np.in1d(self.entity_ids, entity_ids_query))[0]\n",
    "        \n",
    "        # use the indices to get a \"batch\" of the full ledger. this is the only part\n",
    "        # of the ledger we care about (the entries corresponding to specific entities)\n",
    "        batch_sigmas = self.sigmas.take(indices_batch)\n",
    "        batch_Ls = self.Ls.take(indices_batch)\n",
    "        batch_l2_norms = self.l2_norms.take(indices_batch)\n",
    "        batch_l2_norm_bounds = self.l2_norm_bounds.take(indices_batch)\n",
    "        batch_coeffs = self.coeffs.take(indices_batch)\n",
    "        batch_entity_ids = self.entity_ids.take(indices_batch).astype(np.int64)\n",
    "        \n",
    "        squared_Ls = batch_Ls**2\n",
    "        squared_sigma = batch_sigmas**2\n",
    "        \n",
    "        if private:\n",
    "            squared_L2_norms = batch_l2_norms**2\n",
    "            constant = (squared_Ls * squared_L2_norms / (2 * squared_sigma)) * batch_coeffs\n",
    "            constant = np.bincount(batch_entity_ids, weights=constant).take(entity_ids_query)\n",
    "            return constant\n",
    "        else:\n",
    "            squared_L2_norm_bounds = batch_l2_norm_bounds**2\n",
    "            constant = (squared_Ls * squared_L2_norm_bounds / (2 * squared_sigma)) * batch_coeffs\n",
    "            constant = np.bincount(batch_entity_ids, weights=constant).take(entity_ids_query)\n",
    "            return constant\n",
    "        \n",
    "    def get_epsilon_spend(self, entity_ids_query):\n",
    "        rdp_constants = self.get_batch_rdp_constants(entity_ids_query=entity_ids_query).astype(np.int64)\n",
    "        rdp_constants_lookup = rdp_constants - 1\n",
    "        try:\n",
    "            eps_spend = self.cache_constant2epsilon.take(rdp_constants_lookup)\n",
    "        except IndexError:\n",
    "            self.increase_max_cache(int(max(rdp_constants_lookup) * 1.1))\n",
    "            eps_spend = self.cache_constant2epsilon.take(rdp_constants_lookup)\n",
    "        return eps_spend"
   ]
  },
  {
   "cell_type": "code",
   "execution_count": 102,
   "metadata": {
    "tags": []
   },
   "outputs": [],
   "source": [
    "ledger = DataSubjectLedger()"
   ]
  },
  {
   "cell_type": "code",
   "execution_count": 103,
   "metadata": {},
   "outputs": [],
   "source": [
    "ledger.reset()\n",
    "n = int(1e5)"
   ]
  },
  {
   "cell_type": "code",
   "execution_count": 104,
   "metadata": {},
   "outputs": [],
   "source": [
    "ledger.batch_append(sigmas=np.ones(n),\n",
    "                    l2_norms=np.ones(n)*10,\n",
    "                    l2_norm_bounds=np.ones(n)*40,\n",
    "                    Ls=np.ones(n)*5,\n",
    "                    coeffs=np.ones(n),\n",
    "                    entity_ids=np.arange(n))"
   ]
  },
  {
   "cell_type": "code",
   "execution_count": 105,
   "metadata": {},
   "outputs": [],
   "source": [
    "query = np.arange(n)"
   ]
  },
  {
   "cell_type": "code",
   "execution_count": 106,
   "metadata": {},
   "outputs": [
    {
     "name": "stdout",
     "output_type": "stream",
     "text": [
      "CPU times: user 126 ms, sys: 28 µs, total: 126 ms\n",
      "Wall time: 124 ms\n"
     ]
    }
   ],
   "source": [
    "%%time\n",
    "eps = ledger.get_epsilon_spend(entity_ids_query=query)"
   ]
  },
  {
   "cell_type": "code",
   "execution_count": 107,
   "metadata": {
    "tags": []
   },
   "outputs": [],
   "source": [
    "eps = ledger.get_epsilon_spend(entity_ids_query=query)"
   ]
  },
  {
   "cell_type": "code",
   "execution_count": 108,
   "metadata": {},
   "outputs": [
    {
     "data": {
      "text/plain": [
       "array([1536.02310579, 1537.12684825, 1538.23055018, 1539.33421162,\n",
       "       1540.43783261, 1541.54141321, 1542.64495347, 1543.74845342,\n",
       "       1544.85191313, 1545.95533262, 1547.05871196, 1548.16205119,\n",
       "       1549.26535035, 1550.36860949, 1551.47182866, 1552.5750079 ,\n",
       "       1553.67814727, 1554.7812468 , 1555.88430654, 1556.98732655,\n",
       "       1558.09030686, 1559.19324752, 1560.29614858, 1561.39901007,\n",
       "       1562.50183206, 1563.60461459, 1564.70735769, 1565.81006141,\n",
       "       1566.91272581, 1568.01535092, 1569.11793679, 1570.22048347,\n",
       "       1571.322991  , 1572.42545942, 1573.52788878, 1574.63027913,\n",
       "       1575.7326305 , 1576.83494295, 1577.93721652, 1579.03945125,\n",
       "       1580.14164719, 1581.24380438, 1582.34592286, 1583.44800268,\n",
       "       1584.55004389, 1585.65204652, 1586.75401062, 1587.85593624,\n",
       "       1588.95782341, 1590.05967219, 1591.16148261, 1592.26325472,\n",
       "       1593.36498856, 1594.46668417, 1595.56834161, 1596.6699609 ,\n",
       "       1597.7715421 , 1598.87308524, 1599.97459038, 1601.07605754,\n",
       "       1602.17748678, 1603.27887814, 1604.38023166, 1605.48154738,\n",
       "       1606.58282534, 1607.68406559, 1608.78526817, 1609.88643312,\n",
       "       1610.98756048, 1612.0886503 , 1613.18970262, 1614.29071747,\n",
       "       1615.3916949 , 1616.49263496, 1617.59353768, 1618.6944031 ,\n",
       "       1619.79523127, 1620.89602222, 1621.99677601, 1623.09749266,\n",
       "       1624.19817223, 1625.29881474, 1626.39942025, 1627.49998879,\n",
       "       1628.60052041, 1629.70101514, 1630.80147303, 1631.90189411,\n",
       "       1633.00227843, 1634.10262603, 1635.20293695, 1636.30321122,\n",
       "       1637.40344889, 1638.50365   , 1639.60381458, 1640.70394269,\n",
       "       1641.80403435, 1642.90408961, 1644.0041085 , 1645.10409107])"
      ]
     },
     "execution_count": 108,
     "metadata": {},
     "output_type": "execute_result"
    }
   ],
   "source": [
    "ledger.cache_constant2epsilon[-100:]"
   ]
  },
  {
   "cell_type": "code",
   "execution_count": 82,
   "metadata": {},
   "outputs": [
    {
     "data": {
      "text/plain": [
       "1373"
      ]
     },
     "execution_count": 82,
     "metadata": {},
     "output_type": "execute_result"
    }
   ],
   "source": [
    "len(ledger.cache_constant2epsilon)"
   ]
  },
  {
   "cell_type": "code",
   "execution_count": 31,
   "metadata": {},
   "outputs": [
    {
     "data": {
      "text/plain": [
       "False"
      ]
     },
     "execution_count": 31,
     "metadata": {},
     "output_type": "execute_result"
    }
   ],
   "source": [
    "eps.any()"
   ]
  },
  {
   "cell_type": "code",
   "execution_count": null,
   "metadata": {},
   "outputs": [],
   "source": [
    "len(ledger.sigmas)/1e8"
   ]
  },
  {
   "cell_type": "code",
   "execution_count": null,
   "metadata": {},
   "outputs": [],
   "source": [
    "%%time\n",
    "eps = ledger.get_epsilon_spend(entity_ids_query=query)"
   ]
  },
  {
   "cell_type": "code",
   "execution_count": null,
   "metadata": {},
   "outputs": [],
   "source": [
    "eps[0:20]"
   ]
  },
  {
   "cell_type": "code",
   "execution_count": null,
   "metadata": {},
   "outputs": [],
   "source": []
  },
  {
   "cell_type": "code",
   "execution_count": null,
   "metadata": {},
   "outputs": [],
   "source": []
  }
 ],
 "metadata": {
  "kernelspec": {
   "display_name": "Python 3 (ipykernel)",
   "language": "python",
   "name": "python3"
  },
  "language_info": {
   "codemirror_mode": {
    "name": "ipython",
    "version": 3
   },
   "file_extension": ".py",
   "mimetype": "text/x-python",
   "name": "python",
   "nbconvert_exporter": "python",
   "pygments_lexer": "ipython3",
   "version": "3.8.10"
  }
 },
 "nbformat": 4,
 "nbformat_minor": 4
}
