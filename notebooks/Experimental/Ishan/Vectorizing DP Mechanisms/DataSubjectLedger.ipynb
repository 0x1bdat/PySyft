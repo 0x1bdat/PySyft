{
 "cells": [
  {
   "cell_type": "markdown",
   "metadata": {},
   "source": [
    "TODO:\n",
    "- Rewrite overbudgeted entities code to use vectorized code (replace rows with 0s)\n",
    "- Figure out how to read/write to databases effectively?\n",
    "    - Make it so the ledger remembers what it got from the DB, and what it got locally (make a diff object, and make it so that it can read that effectively)\n",
    "\n",
    "Later:\n",
    "- Give each DataSubject a unique integer ID\n",
    "- Custom deltas? (please no)"
   ]
  },
  {
   "cell_type": "code",
   "execution_count": 292,
   "metadata": {},
   "outputs": [],
   "source": [
    "import time\n",
    "\n",
    "class LedgerUpdate:\n",
    "    def __init__(self, sigmas, l2_norms, l2_norm_bounds, Ls, coeffs, entity_ids, update_number, timestamp):\n",
    "        self.sigmas = sigmas\n",
    "        self.l2_norms = l2_norms\n",
    "        self.l2_norm_bounds = l2_norm_bounds \n",
    "        self.Ls = Ls\n",
    "        self.coeffs = coeffs \n",
    "        self.entity_ids = entity_ids\n",
    "        self.update_number = update_number\n",
    "        self.timestamp = time.time()\n"
   ]
  },
  {
   "cell_type": "code",
   "execution_count": 293,
   "metadata": {},
   "outputs": [],
   "source": [
    "import numpy as np\n",
    "from scipy.optimize import minimize_scalar\n",
    "import time\n",
    "\n",
    "class DataSubjectLedger:\n",
    "    \"\"\"for a particular data subject, this is the list\n",
    "    of all mechanisms releasing informationo about this\n",
    "    particular subject, stored in a vectorized form\"\"\"\n",
    "    \n",
    "    def __init__(self, default_cache_size=1e3):\n",
    "        \n",
    "        self.delta = 1e-6  # WARNING: CHANGING DELTA INVALIDATES THE CACHE\n",
    "        self.reset()\n",
    "        self.cache_constant2epsilon = list()\n",
    "        self.increase_max_cache(int(default_cache_size))\n",
    "        \n",
    "        # save initial size (number of rows from DB) when deserialized\n",
    "        self.known_db_size = 0\n",
    "        self.update_number = 0\n",
    "        self.timestamp_of_last_update = None\n",
    "    \n",
    "    def write_to_db(self):\n",
    "        self.update_number += 1\n",
    "    \n",
    "        result = LedgerUpdate(sigmas=self.sigmas[self.known_db_size:],\n",
    "                            l2_norms=self.l2_norms[self.known_db_size:],\n",
    "                            l2_norm_bounds=self.l2_norms[self.known_db_size:],\n",
    "                            Ls=self.Ls[self.known_db_size:],\n",
    "                            coeffs=self.coeffs[self.known_db_size:],\n",
    "                            entity_ids=self.entity_ids[self.known_db_size:],\n",
    "                            update_number=self.update_number,\n",
    "                            timestamp=time.time()\n",
    "                           )\n",
    "        self.known_db_size += len(self.sigmas)\n",
    "        return result\n",
    "\n",
    "    def read_from_db(self, update: LedgerUpdate):\n",
    "        if update.update_number == self.update_number + 1:\n",
    "            if self.timestamp_of_last_update is not None and update.timestamp < self.timestamp:\n",
    "                raise Exception(\"It appears that updates were created out of order.\" +  \n",
    "                \"This is probably due to multiple python threads creating updates- which should NOT happen.\" + \n",
    "                \"This is a very serious error- please contact OpenMined immediately.\" + \"Thank you!\")\n",
    "            self.sigmas = np.concatenate([self.sigmas, update.sigmas])\n",
    "            self.l2_norms = np.concatenate([self.l2_norms, update.l2_norms])\n",
    "            self.l2_norm_bounds = np.concatenate([self.l2_norm_bounds, update.l2_norm_bounds]) \n",
    "            self.Ls = np.concatenate([self.Ls, update.Ls])\n",
    "            self.coeffs = np.concatenate([self.coeffs, update.coeffs]) \n",
    "            self.entity_ids = np.concatenate([self.entity_ids, update.entity_ids])\n",
    "            self.update_number = update.update_number\n",
    "            self.timestamp = update.timestamp\n",
    "        else:\n",
    "            raise Exception(\"Cannot add update to Ledger\")\n",
    "                                                   \n",
    "                                                   \n",
    "    def reset(self):\n",
    "        self.sigmas = np.array([])\n",
    "        self.l2_norms = np.array([])\n",
    "        self.l2_norm_bounds = np.array([])\n",
    "        self.Ls = np.array([])\n",
    "        self.coeffs = np.array([])\n",
    "        self.entity_ids = np.array([])\n",
    "        self.entity2budget = np.array([])\n",
    "        \n",
    "    def batch_append(self, \n",
    "                     sigmas: np.ndarray, \n",
    "                     l2_norms: np.ndarray, \n",
    "                     l2_norm_bounds: np.ndarray, \n",
    "                     Ls: np.ndarray, \n",
    "                     coeffs: np.ndarray, \n",
    "                     entity_ids: np.ndarray):\n",
    "        \n",
    "        self.sigmas = np.concatenate([self.sigmas, sigmas])\n",
    "        self.l2_norms = np.concatenate([self.l2_norms, l2_norms])        \n",
    "        self.l2_norm_bounds = np.concatenate([self.l2_norm_bounds, l2_norm_bounds])        \n",
    "        self.Ls = np.concatenate([self.Ls, Ls])        \n",
    "        self.coeffs = np.concatenate([self.coeffs, coeffs])               \n",
    "        self.entity_ids = np.concatenate([self.entity_ids, entity_ids])\n",
    "        \n",
    "    def increase_max_cache(self, new_size):\n",
    "        new_entries = []\n",
    "        current_size = len(self.cache_constant2epsilon)\n",
    "        for i in range(new_size - current_size):\n",
    "            alpha, eps = self.get_optimal_alpha_for_constant(i+1 + current_size)\n",
    "            new_entries.append(eps)\n",
    "        self.cache_constant2epsilon = np.concatenate([self.cache_constant2epsilon, np.array(new_entries)])\n",
    "        # print(self.cache_constant2epsilon)\n",
    "        \n",
    "    def get_fake_rdp_func(self, constant):\n",
    "        \n",
    "        def func(alpha):\n",
    "            return alpha * constant\n",
    "        \n",
    "        return func\n",
    "\n",
    "    def get_alpha_search_function(self, rdp_compose_func):\n",
    "            \n",
    "        # if len(self.deltas) > 0:\n",
    "            # delta = np.max(self.deltas)\n",
    "        # else:\n",
    "        log_delta = np.log(self.delta)\n",
    "        \n",
    "        def fun(alpha):  # the input is the RDP's \\alpha\n",
    "            \n",
    "            if alpha <= 1:\n",
    "                return np.inf\n",
    "            else:\n",
    "                alpha_minus_1 = alpha-1\n",
    "                return np.maximum(rdp_compose_func(alpha) + np.log(alpha_minus_1/alpha)\n",
    "                                  - (log_delta + np.log(alpha))/alpha_minus_1, 0)\n",
    "        return fun    \n",
    "    \n",
    "    def get_optimal_alpha_for_constant(self, constant=3):\n",
    "        \n",
    "        f = self.get_fake_rdp_func(constant)\n",
    "        f2 = self.get_alpha_search_function(rdp_compose_func=f)\n",
    "        results = minimize_scalar(f2, method='Brent', bracket=(1,2), bounds=[1, np.inf])\n",
    "        \n",
    "        return results.x, results.fun\n",
    "\n",
    "        \n",
    "    def get_batch_rdp_constants(self, entity_ids_query, private=True):\n",
    "        \n",
    "        # get indices for all ledger rows corresponding to any of the entities in entity_ids_query\n",
    "        indices_batch = np.where(np.in1d(self.entity_ids, entity_ids_query))[0]\n",
    "        \n",
    "        # use the indices to get a \"batch\" of the full ledger. this is the only part\n",
    "        # of the ledger we care about (the entries corresponding to specific entities)\n",
    "        batch_sigmas = self.sigmas.take(indices_batch)\n",
    "        batch_Ls = self.Ls.take(indices_batch)\n",
    "        batch_l2_norms = self.l2_norms.take(indices_batch)\n",
    "        batch_l2_norm_bounds = self.l2_norm_bounds.take(indices_batch)\n",
    "        batch_coeffs = self.coeffs.take(indices_batch)\n",
    "        batch_entity_ids = self.entity_ids.take(indices_batch).astype(np.int64)\n",
    "        \n",
    "        squared_Ls = batch_Ls**2\n",
    "        squared_sigma = batch_sigmas**2\n",
    "        \n",
    "        if private:\n",
    "            squared_L2_norms = batch_l2_norms**2\n",
    "            constant = (squared_Ls * squared_L2_norms / (2 * squared_sigma)) * batch_coeffs\n",
    "            constant = np.bincount(batch_entity_ids, weights=constant).take(entity_ids_query)\n",
    "            return constant\n",
    "        else:\n",
    "            squared_L2_norm_bounds = batch_l2_norm_bounds**2\n",
    "            constant = (squared_Ls * squared_L2_norm_bounds / (2 * squared_sigma)) * batch_coeffs\n",
    "            constant = np.bincount(batch_entity_ids, weights=constant).take(entity_ids_query)\n",
    "            return constant\n",
    "        \n",
    "    def get_epsilon_spend(self, entity_ids_query):\n",
    "        rdp_constants = self.get_batch_rdp_constants(entity_ids_query=entity_ids_query).astype(np.int64)\n",
    "        rdp_constants_lookup = rdp_constants - 1\n",
    "        try:\n",
    "            eps_spend = self.cache_constant2epsilon.take(rdp_constants_lookup)\n",
    "        except IndexError:\n",
    "            self.increase_max_cache(int(max(rdp_constants_lookup) * 1.1))\n",
    "            eps_spend = self.cache_constant2epsilon.take(rdp_constants_lookup)\n",
    "        return eps_spend\n",
    "    \n",
    "    def get_overbudgeted_entities(self, user_budget: float): \n",
    "        \"\"\" TODO: \n",
    "        In our current implementation, user_budget is obtained by querying the Adversarial Accountant's entity2ledger with the Data Scientist's User Key.\n",
    "        When we replace the entity2ledger with something else, we could perhaps directly add it into this method\n",
    "        \"\"\"\n",
    "        \n",
    "        # Get the privacy budget spent by all the entities\n",
    "        epsilon_spent = self.get_epsilon_spend(self.entity_ids.astype(np.int64))\n",
    "        \n",
    "        # Create a mask\n",
    "        is_overbudget = np.ones_like(epsilon_spent) * user_budget < epsilon_spent\n",
    "        return is_overbudget"
   ]
  },
  {
   "cell_type": "code",
   "execution_count": 241,
   "metadata": {},
   "outputs": [],
   "source": [
    "from syft.core.tensor.autodp.gamma_tensor import GammaTensor"
   ]
  },
  {
   "cell_type": "code",
   "execution_count": 245,
   "metadata": {},
   "outputs": [],
   "source": [
    "from random import gauss"
   ]
  },
  {
   "cell_type": "code",
   "execution_count": 246,
   "metadata": {},
   "outputs": [],
   "source": [
    "def publish(gamma_tensor: GammaTensor, ledger: DataSubjectLedger, sigma:float = 2, user_budget = 100, private=False):\n",
    "    \"\"\" Incomplete\"\"\"\n",
    "    \n",
    "    # entities = gamma_tensor.data_subjects.entities_indexed\n",
    "    output = gamma_tensor.value * (ledger.get_overbudgeted_entities(user_budget=user_budget)^1) + gauss(sigma)\n",
    "    pass"
   ]
  },
  {
   "cell_type": "markdown",
   "metadata": {},
   "source": [
    "### Testing DataSubjectLedger"
   ]
  },
  {
   "cell_type": "code",
   "execution_count": 250,
   "metadata": {
    "tags": []
   },
   "outputs": [
    {
     "name": "stderr",
     "output_type": "stream",
     "text": [
      "/home/e/PycharmProjects/PySyft/.tox/syft.jupyter/lib/python3.8/site-packages/scipy/optimize/_optimize.py:2782: RuntimeWarning: invalid value encountered in double_scalars\n",
      "  w = xb - ((xb - xc) * tmp2 - (xb - xa) * tmp1) / denom\n"
     ]
    }
   ],
   "source": [
    "ledger = DataSubjectLedger()"
   ]
  },
  {
   "cell_type": "code",
   "execution_count": 310,
   "metadata": {},
   "outputs": [],
   "source": [
    "ledger.reset()\n",
    "n = int(1e3)"
   ]
  },
  {
   "cell_type": "code",
   "execution_count": 305,
   "metadata": {},
   "outputs": [],
   "source": [
    "ledger.batch_append(sigmas=np.ones(n),\n",
    "                    l2_norms=np.ones(n)*10,\n",
    "                    l2_norm_bounds=np.ones(n)*40,\n",
    "                    Ls=np.random.randn(n)*5,\n",
    "                    coeffs=np.ones(n),\n",
    "                    entity_ids=np.arange(n))"
   ]
  },
  {
   "cell_type": "code",
   "execution_count": 262,
   "metadata": {},
   "outputs": [],
   "source": [
    "query = np.arange(n)"
   ]
  },
  {
   "cell_type": "code",
   "execution_count": 263,
   "metadata": {},
   "outputs": [
    {
     "name": "stdout",
     "output_type": "stream",
     "text": [
      "CPU times: user 3.42 s, sys: 0 ns, total: 3.42 s\n",
      "Wall time: 3.42 s\n"
     ]
    }
   ],
   "source": [
    "%%time\n",
    "eps = ledger.get_epsilon_spend(entity_ids_query=query)"
   ]
  },
  {
   "cell_type": "code",
   "execution_count": 308,
   "metadata": {
    "tags": []
   },
   "outputs": [],
   "source": [
    "eps = ledger.get_epsilon_spend(entity_ids_query=query)"
   ]
  },
  {
   "cell_type": "code",
   "execution_count": 309,
   "metadata": {},
   "outputs": [
    {
     "data": {
      "text/plain": [
       "1000"
      ]
     },
     "execution_count": 309,
     "metadata": {},
     "output_type": "execute_result"
    }
   ],
   "source": [
    "len(eps)"
   ]
  },
  {
   "cell_type": "code",
   "execution_count": 267,
   "metadata": {},
   "outputs": [
    {
     "data": {
      "text/plain": [
       "7.766216625311721"
      ]
     },
     "execution_count": 267,
     "metadata": {},
     "output_type": "execute_result"
    }
   ],
   "source": [
    "min(eps)"
   ]
  },
  {
   "cell_type": "code",
   "execution_count": 268,
   "metadata": {},
   "outputs": [
    {
     "data": {
      "text/plain": [
       "14814.25443357862"
      ]
     },
     "execution_count": 268,
     "metadata": {},
     "output_type": "execute_result"
    }
   ],
   "source": [
    "max(eps)"
   ]
  },
  {
   "cell_type": "code",
   "execution_count": 269,
   "metadata": {
    "collapsed": true,
    "jupyter": {
     "outputs_hidden": true
    },
    "tags": []
   },
   "outputs": [
    {
     "data": {
      "text/plain": [
       "array([False,  True, False,  True,  True,  True, False, False, False,\n",
       "        True,  True, False, False, False,  True,  True, False, False,\n",
       "       False, False, False,  True, False, False, False,  True,  True,\n",
       "       False, False, False,  True, False,  True,  True,  True,  True,\n",
       "        True,  True, False, False,  True,  True,  True, False, False,\n",
       "        True,  True, False,  True, False, False,  True,  True, False,\n",
       "       False, False, False,  True,  True, False, False, False,  True,\n",
       "       False, False,  True,  True, False, False, False,  True, False,\n",
       "        True, False,  True,  True,  True,  True, False,  True, False,\n",
       "       False, False,  True,  True, False, False, False, False, False,\n",
       "        True, False,  True,  True, False, False, False, False,  True,\n",
       "        True, False, False, False, False, False, False, False,  True,\n",
       "       False,  True, False, False,  True,  True,  True,  True, False,\n",
       "       False, False,  True, False, False,  True,  True, False,  True,\n",
       "        True, False, False,  True, False, False, False,  True,  True,\n",
       "       False,  True,  True,  True, False, False, False, False,  True,\n",
       "        True, False,  True, False, False,  True, False, False, False,\n",
       "       False, False,  True, False, False,  True,  True, False, False,\n",
       "        True, False,  True,  True, False,  True, False,  True, False,\n",
       "       False, False,  True,  True, False, False,  True,  True,  True,\n",
       "        True, False,  True,  True, False,  True,  True, False, False,\n",
       "       False,  True,  True, False, False, False, False,  True,  True,\n",
       "        True, False,  True, False,  True, False, False, False,  True,\n",
       "        True, False, False,  True, False,  True,  True, False, False,\n",
       "       False,  True, False, False, False, False, False,  True,  True,\n",
       "        True, False, False, False,  True,  True,  True, False,  True,\n",
       "       False, False,  True, False,  True,  True,  True, False,  True,\n",
       "        True,  True, False, False,  True, False,  True, False, False,\n",
       "        True, False,  True,  True, False, False, False,  True,  True,\n",
       "       False, False, False, False,  True, False, False,  True,  True,\n",
       "        True, False, False, False, False,  True, False,  True, False,\n",
       "       False, False,  True,  True,  True,  True, False, False, False,\n",
       "       False, False, False, False,  True, False,  True, False,  True,\n",
       "        True,  True, False, False,  True, False,  True, False,  True,\n",
       "       False, False,  True, False,  True, False, False, False,  True,\n",
       "        True, False, False,  True, False, False,  True, False, False,\n",
       "        True,  True,  True, False,  True,  True, False, False,  True,\n",
       "       False, False,  True,  True, False, False,  True,  True, False,\n",
       "        True,  True,  True,  True,  True, False, False, False,  True,\n",
       "       False,  True,  True, False, False, False,  True,  True,  True,\n",
       "        True, False,  True,  True, False,  True, False, False,  True,\n",
       "       False, False,  True, False, False,  True,  True, False,  True,\n",
       "        True, False,  True,  True, False, False, False, False,  True,\n",
       "       False, False,  True,  True,  True, False,  True,  True, False,\n",
       "       False,  True, False, False, False,  True,  True,  True, False,\n",
       "       False,  True,  True, False, False, False, False, False, False,\n",
       "       False, False,  True, False,  True,  True, False,  True, False,\n",
       "       False, False, False,  True, False, False, False, False,  True,\n",
       "        True, False, False,  True,  True, False, False,  True, False,\n",
       "       False, False, False,  True,  True, False,  True,  True, False,\n",
       "       False,  True,  True, False,  True,  True, False,  True,  True,\n",
       "       False, False, False, False, False, False,  True, False,  True,\n",
       "        True,  True, False,  True,  True,  True, False,  True,  True,\n",
       "       False,  True,  True,  True, False, False, False, False,  True,\n",
       "        True,  True, False, False,  True, False, False, False, False,\n",
       "       False, False, False,  True, False,  True, False, False,  True,\n",
       "        True, False, False,  True,  True, False, False,  True,  True,\n",
       "        True,  True,  True,  True,  True,  True, False,  True,  True,\n",
       "        True, False, False,  True,  True,  True, False,  True, False,\n",
       "       False,  True,  True, False, False, False,  True, False, False,\n",
       "        True,  True, False,  True,  True,  True, False, False, False,\n",
       "        True, False,  True, False, False,  True, False,  True, False,\n",
       "        True,  True, False,  True,  True,  True,  True,  True, False,\n",
       "        True, False,  True, False, False, False, False, False, False,\n",
       "       False,  True,  True, False,  True, False, False,  True,  True,\n",
       "       False, False, False, False,  True,  True, False,  True,  True,\n",
       "        True, False,  True, False,  True, False,  True, False, False,\n",
       "       False,  True, False, False, False, False,  True, False,  True,\n",
       "       False,  True,  True,  True,  True,  True,  True, False,  True,\n",
       "        True, False, False,  True,  True, False, False, False,  True,\n",
       "       False,  True,  True, False, False, False,  True, False, False,\n",
       "        True,  True, False, False, False, False, False,  True, False,\n",
       "        True, False, False, False,  True, False, False,  True, False,\n",
       "        True,  True,  True, False, False,  True,  True, False, False,\n",
       "        True, False,  True,  True,  True, False, False,  True, False,\n",
       "       False,  True, False, False, False,  True,  True,  True, False,\n",
       "        True,  True,  True,  True,  True, False, False, False, False,\n",
       "        True, False, False, False, False, False,  True,  True, False,\n",
       "       False,  True, False, False,  True,  True,  True, False,  True,\n",
       "       False,  True,  True, False, False, False, False,  True,  True,\n",
       "        True,  True, False, False,  True, False,  True,  True,  True,\n",
       "        True, False, False,  True, False,  True, False,  True, False,\n",
       "       False,  True,  True,  True, False,  True, False,  True, False,\n",
       "       False, False,  True, False, False, False, False,  True,  True,\n",
       "       False, False,  True,  True,  True, False, False, False,  True,\n",
       "        True, False,  True, False,  True,  True, False,  True, False,\n",
       "        True,  True, False,  True, False, False, False,  True, False,\n",
       "        True, False, False, False, False,  True,  True, False, False,\n",
       "        True,  True,  True, False, False, False,  True, False, False,\n",
       "       False,  True,  True, False, False, False,  True, False, False,\n",
       "        True,  True, False, False,  True, False, False,  True, False,\n",
       "       False,  True, False,  True, False, False, False,  True, False,\n",
       "        True,  True,  True,  True,  True,  True, False, False, False,\n",
       "        True, False,  True, False, False,  True, False, False,  True,\n",
       "        True,  True, False, False, False,  True,  True, False,  True,\n",
       "        True, False,  True, False, False,  True,  True,  True, False,\n",
       "       False, False, False,  True, False, False,  True, False,  True,\n",
       "        True,  True, False, False, False, False, False, False, False,\n",
       "        True, False, False, False,  True,  True,  True, False, False,\n",
       "       False, False, False, False,  True, False, False, False,  True,\n",
       "       False,  True, False,  True, False, False, False,  True, False,\n",
       "        True, False, False, False, False,  True, False,  True, False,\n",
       "        True, False, False, False, False, False, False, False, False,\n",
       "       False, False,  True,  True,  True,  True,  True, False, False,\n",
       "       False,  True, False, False,  True,  True,  True, False, False,\n",
       "        True, False,  True,  True,  True,  True, False, False,  True,\n",
       "       False, False, False, False, False, False, False, False, False,\n",
       "       False,  True, False,  True, False,  True,  True,  True, False,\n",
       "        True, False, False, False, False, False, False, False, False,\n",
       "        True, False, False, False, False,  True, False,  True, False,\n",
       "        True, False, False, False, False, False, False,  True,  True,\n",
       "       False])"
      ]
     },
     "execution_count": 269,
     "metadata": {},
     "output_type": "execute_result"
    }
   ],
   "source": [
    "ledger.get_overbudgeted_entities(1000)"
   ]
  },
  {
   "cell_type": "code",
   "execution_count": 278,
   "metadata": {},
   "outputs": [],
   "source": [
    "test_values = np.random.randn(n) * 1000"
   ]
  },
  {
   "cell_type": "code",
   "execution_count": 279,
   "metadata": {},
   "outputs": [
    {
     "data": {
      "text/plain": [
       "-2851.152450896803"
      ]
     },
     "execution_count": 279,
     "metadata": {},
     "output_type": "execute_result"
    }
   ],
   "source": [
    "test_values.min()"
   ]
  },
  {
   "cell_type": "code",
   "execution_count": 280,
   "metadata": {},
   "outputs": [
    {
     "data": {
      "text/plain": [
       "3621.2325581495047"
      ]
     },
     "execution_count": 280,
     "metadata": {},
     "output_type": "execute_result"
    }
   ],
   "source": [
    "test_values.max()"
   ]
  },
  {
   "cell_type": "code",
   "execution_count": 281,
   "metadata": {},
   "outputs": [
    {
     "data": {
      "text/plain": [
       "(1000,)"
      ]
     },
     "execution_count": 281,
     "metadata": {},
     "output_type": "execute_result"
    }
   ],
   "source": [
    "test_values.shape"
   ]
  },
  {
   "cell_type": "code",
   "execution_count": 282,
   "metadata": {},
   "outputs": [
    {
     "data": {
      "text/plain": [
       "(1000,)"
      ]
     },
     "execution_count": 282,
     "metadata": {},
     "output_type": "execute_result"
    }
   ],
   "source": [
    "ledger.sigmas.shape"
   ]
  },
  {
   "cell_type": "code",
   "execution_count": 285,
   "metadata": {},
   "outputs": [
    {
     "data": {
      "text/plain": [
       "array([ 3.34124798e+02,  4.20372456e-01,  1.22164906e+03,  4.20372456e-01,\n",
       "        4.20372456e-01,  4.20372456e-01, -4.10603554e+02, -8.70251422e+02,\n",
       "       -3.85631358e+02,  4.20372456e-01,  4.20372456e-01, -3.04409431e+02,\n",
       "        4.40686765e+02,  1.12595898e+02,  4.20372456e-01,  4.20372456e-01,\n",
       "        9.28116733e+02, -3.44710671e+02, -2.72191436e+02,  2.19666545e+02,\n",
       "        8.90626317e+02,  4.20372456e-01, -8.79948909e+02,  1.26564781e+03,\n",
       "       -1.16540887e+03,  4.20372456e-01,  4.20372456e-01,  5.05205241e+02,\n",
       "       -2.87578357e+02, -2.31595962e+02,  4.20372456e-01,  1.32666856e+03,\n",
       "        4.20372456e-01,  4.20372456e-01,  4.20372456e-01,  4.20372456e-01,\n",
       "        4.20372456e-01,  4.20372456e-01, -1.02788287e+03,  6.62813594e+02,\n",
       "        4.20372456e-01,  4.20372456e-01,  4.20372456e-01, -1.36458721e+03,\n",
       "       -7.04913202e+02,  4.20372456e-01,  4.20372456e-01,  1.37228130e+03,\n",
       "        4.20372456e-01, -6.39644693e+02, -9.14918573e+02,  4.20372456e-01,\n",
       "        4.20372456e-01,  6.37949401e+02, -5.84605372e+02, -1.11400696e+02,\n",
       "       -4.76654188e+01,  4.20372456e-01,  4.20372456e-01, -6.00943063e+02,\n",
       "        3.17584160e+02, -4.82422606e+01,  4.20372456e-01, -1.46671524e+03,\n",
       "       -5.63773830e+02,  4.20372456e-01,  4.20372456e-01,  6.54571837e+02,\n",
       "       -1.14016841e+03, -1.33722842e+02,  4.20372456e-01,  4.35586094e+02,\n",
       "        4.20372456e-01, -5.71607348e+01,  4.20372456e-01,  4.20372456e-01,\n",
       "        4.20372456e-01,  4.20372456e-01, -1.17717571e+03,  4.20372456e-01,\n",
       "       -4.60152193e+02,  2.09473163e+01, -1.46582928e+02,  4.20372456e-01,\n",
       "        4.20372456e-01,  2.90166272e+02, -1.12658100e+03,  3.46249136e+02,\n",
       "       -1.11902981e+03, -6.38755521e+02,  4.20372456e-01, -1.47460271e+03,\n",
       "        4.20372456e-01,  4.20372456e-01,  4.23085548e+01,  9.65860295e+02,\n",
       "       -1.19552439e+02, -1.07190056e+03,  4.20372456e-01,  4.20372456e-01,\n",
       "       -1.52833275e+03,  1.74949633e+03,  1.01907758e+03, -8.95988271e+02,\n",
       "        4.52763707e+02, -2.07197766e+02,  9.95676545e+02,  4.20372456e-01,\n",
       "        2.96096890e+02,  4.20372456e-01, -1.34843531e+03,  1.06288448e+03,\n",
       "        4.20372456e-01,  4.20372456e-01,  4.20372456e-01,  4.20372456e-01,\n",
       "       -2.36204942e+02, -8.95835088e+02,  1.77196499e+03,  4.20372456e-01,\n",
       "       -8.62057845e+01,  6.28011290e+02,  4.20372456e-01,  4.20372456e-01,\n",
       "       -4.22757759e+02,  4.20372456e-01,  4.20372456e-01, -6.68241768e+02,\n",
       "       -1.58386334e+03,  4.20372456e-01, -2.24875232e+02, -8.58565603e+02,\n",
       "       -1.65704013e+03,  4.20372456e-01,  4.20372456e-01, -1.39095324e+03,\n",
       "        4.20372456e-01,  4.20372456e-01,  4.20372456e-01, -7.01702227e+02,\n",
       "        5.94154025e+02,  4.16936556e+02, -5.45011616e+02,  4.20372456e-01,\n",
       "        4.20372456e-01, -3.73499509e+02,  4.20372456e-01,  1.44091102e+02,\n",
       "        1.18905860e+03,  4.20372456e-01, -4.87129088e+02, -1.59276954e+03,\n",
       "       -2.62862325e+02, -5.94124210e+02, -5.02419050e+02,  4.20372456e-01,\n",
       "       -1.11506178e+03, -5.44753264e+02,  4.20372456e-01,  4.20372456e-01,\n",
       "        1.66500134e+01, -1.02866097e+03,  4.20372456e-01, -1.37177861e+03,\n",
       "        4.20372456e-01,  4.20372456e-01, -7.66083767e+01,  4.20372456e-01,\n",
       "       -1.59344959e+02,  4.20372456e-01, -4.19835484e+02,  2.01148552e+03,\n",
       "        1.26610806e+03,  4.20372456e-01,  4.20372456e-01, -1.64614588e+02,\n",
       "       -2.74320869e+03,  4.20372456e-01,  4.20372456e-01,  4.20372456e-01,\n",
       "        4.20372456e-01, -1.96048507e+01,  4.20372456e-01,  4.20372456e-01,\n",
       "       -1.46402867e+03,  4.20372456e-01,  4.20372456e-01, -2.11060989e+02,\n",
       "       -8.94526269e+02,  6.70887131e+02,  4.20372456e-01,  4.20372456e-01,\n",
       "       -2.99877656e+02, -1.34502797e+03, -1.13971319e+03,  3.86933217e+02,\n",
       "        4.20372456e-01,  4.20372456e-01,  4.20372456e-01, -1.56208327e+02,\n",
       "        4.20372456e-01,  2.24549224e+03,  4.20372456e-01,  6.65167178e+02,\n",
       "       -5.58199230e+01, -1.00049088e+03,  4.20372456e-01,  4.20372456e-01,\n",
       "        1.66962382e+03, -7.60700598e+02,  4.20372456e-01,  4.91581391e+02,\n",
       "        4.20372456e-01,  4.20372456e-01, -2.20052541e+03, -1.04666835e+03,\n",
       "        8.07850636e+02,  4.20372456e-01,  1.03886123e+03, -6.82843963e+01,\n",
       "       -9.46668416e+02,  2.03067595e+03, -1.44774389e+03,  4.20372456e-01,\n",
       "        4.20372456e-01,  4.20372456e-01,  2.16074603e+03,  1.04977693e+03,\n",
       "        1.04646481e+03,  4.20372456e-01,  4.20372456e-01,  4.20372456e-01,\n",
       "       -9.20897875e+02,  4.20372456e-01, -3.58010497e+02, -6.42363055e+02,\n",
       "        4.20372456e-01,  7.55960078e+02,  4.20372456e-01,  4.20372456e-01,\n",
       "        4.20372456e-01, -1.29844898e+03,  4.20372456e-01,  4.20372456e-01,\n",
       "        4.20372456e-01,  7.74790328e+02,  6.55521157e+02,  4.20372456e-01,\n",
       "        1.51697508e+03,  4.20372456e-01,  8.06218520e+01,  4.35186384e+02,\n",
       "        4.20372456e-01,  3.54430656e+02,  4.20372456e-01,  4.20372456e-01,\n",
       "       -3.43626453e+02, -1.02509469e+03,  5.90826501e+02,  4.20372456e-01,\n",
       "        4.20372456e-01, -4.31981390e+02, -1.32497655e+01,  3.76881879e+02,\n",
       "       -3.38217424e+02,  4.20372456e-01,  1.16057981e+03, -3.86474306e+01,\n",
       "        4.20372456e-01,  4.20372456e-01,  4.20372456e-01,  5.01310877e+02,\n",
       "       -3.50422679e+02, -2.29859380e+02, -2.28588364e+03,  4.20372456e-01,\n",
       "        6.97328757e+02,  4.20372456e-01,  8.86687440e+01, -5.70262196e+02,\n",
       "        4.49789779e+02,  4.20372456e-01,  4.20372456e-01,  4.20372456e-01,\n",
       "        4.20372456e-01,  8.70783476e+02,  7.92454714e+02,  2.04456036e+03,\n",
       "        7.02005966e+02, -7.46618800e+02,  3.82173349e+02,  2.53305461e+02,\n",
       "        4.20372456e-01, -2.89366491e+02,  4.20372456e-01,  9.62024013e+01,\n",
       "        4.20372456e-01,  4.20372456e-01,  4.20372456e-01,  6.63674921e+02,\n",
       "       -9.08496863e+02,  4.20372456e-01, -2.64995101e+02,  4.20372456e-01,\n",
       "       -8.79853002e+02,  4.20372456e-01, -7.32371306e+02, -5.05696350e+02,\n",
       "        4.20372456e-01,  1.05356235e+03,  4.20372456e-01,  7.42801714e+02,\n",
       "       -1.82368066e+02, -9.11327170e+02,  4.20372456e-01,  4.20372456e-01,\n",
       "        1.00809871e+03, -2.09241911e+02,  4.20372456e-01, -1.29796943e+03,\n",
       "       -1.33442841e+03,  4.20372456e-01, -1.02839870e+03, -7.02602265e+02,\n",
       "        4.20372456e-01,  4.20372456e-01,  4.20372456e-01,  1.06943370e+03,\n",
       "        4.20372456e-01,  4.20372456e-01, -1.78592329e+02,  3.13239442e+02,\n",
       "        4.20372456e-01,  1.17094192e+03, -6.09762327e+02,  4.20372456e-01,\n",
       "        4.20372456e-01, -2.05661502e+03,  1.18632143e+02,  4.20372456e-01,\n",
       "        4.20372456e-01, -3.29227497e+02,  4.20372456e-01,  4.20372456e-01,\n",
       "        4.20372456e-01,  4.20372456e-01,  4.20372456e-01, -1.40964907e+01,\n",
       "       -9.51109474e+01,  1.97600238e+02,  4.20372456e-01, -2.14467466e+03,\n",
       "        4.20372456e-01,  4.20372456e-01,  7.10140119e+02,  8.55841141e+01,\n",
       "        3.75154047e+02,  4.20372456e-01,  4.20372456e-01,  4.20372456e-01,\n",
       "        4.20372456e-01,  1.79328028e+03,  4.20372456e-01,  4.20372456e-01,\n",
       "       -1.14364962e+03,  4.20372456e-01, -1.65562120e+03, -2.39695815e+01,\n",
       "        4.20372456e-01, -7.40301944e+02, -1.03715397e+03,  4.20372456e-01,\n",
       "       -1.24630764e+03,  3.61884520e+02,  4.20372456e-01,  4.20372456e-01,\n",
       "       -8.02923131e+02,  4.20372456e-01,  4.20372456e-01,  1.08936699e+03,\n",
       "        4.20372456e-01,  4.20372456e-01,  5.19991247e+02,  1.48168682e+02,\n",
       "        1.16235658e+03,  1.58292858e+03,  4.20372456e-01, -1.75190447e+02,\n",
       "       -3.23260389e+02,  4.20372456e-01,  4.20372456e-01,  4.20372456e-01,\n",
       "        1.26955815e+03,  4.20372456e-01,  4.20372456e-01, -7.01646093e+02,\n",
       "       -2.60498077e+02,  4.20372456e-01, -9.22699662e+01, -3.15597900e+02,\n",
       "        2.43994744e+03,  4.20372456e-01,  4.20372456e-01,  4.20372456e-01,\n",
       "       -6.42691058e+02,  9.55213010e+02,  4.20372456e-01,  4.20372456e-01,\n",
       "       -8.38127405e+00, -4.41210975e+02,  5.30442114e+02, -1.11958746e+03,\n",
       "        1.09516059e+03,  1.01270121e+03, -9.40566100e+01, -4.51190196e+01,\n",
       "        4.20372456e-01, -1.85481892e+03,  4.20372456e-01,  4.20372456e-01,\n",
       "        9.26335387e+02,  4.20372456e-01, -5.95636533e+02, -7.62001634e+02,\n",
       "       -3.66993208e+02, -4.83774980e+02,  4.20372456e-01,  1.07909468e+02,\n",
       "       -2.34184272e+03, -3.85793210e+02,  1.02565405e+03,  4.20372456e-01,\n",
       "        4.20372456e-01, -7.17584101e+02, -7.26880888e+02,  4.20372456e-01,\n",
       "        4.20372456e-01,  1.75741694e+02, -8.48237810e+02,  4.20372456e-01,\n",
       "       -7.08172167e+02, -4.75810455e+02,  2.85180670e+02,  8.56484791e+02,\n",
       "        4.20372456e-01,  4.20372456e-01,  3.73216347e+02,  4.20372456e-01,\n",
       "        4.20372456e-01, -3.66436322e+02,  2.18453872e+03,  4.20372456e-01,\n",
       "        4.20372456e-01,  2.76768287e+02,  4.20372456e-01,  4.20372456e-01,\n",
       "       -5.48924653e+02,  4.20372456e-01,  4.20372456e-01, -7.33039099e+02,\n",
       "        1.08897981e+03, -1.25059763e+03, -2.92048003e+02, -2.35946089e+03,\n",
       "       -2.09415355e+03,  4.20372456e-01, -1.49332684e+02,  4.20372456e-01,\n",
       "        4.20372456e-01,  4.20372456e-01, -4.96935519e+02,  4.20372456e-01,\n",
       "        4.20372456e-01,  4.20372456e-01,  1.15077929e+03,  4.20372456e-01,\n",
       "        4.20372456e-01, -3.90129615e+02,  4.20372456e-01,  4.20372456e-01,\n",
       "        4.20372456e-01, -1.70066077e+03, -8.43691957e+02,  5.86538131e+02,\n",
       "       -1.14173878e+03,  4.20372456e-01,  4.20372456e-01,  4.20372456e-01,\n",
       "        4.21885312e+02, -2.23543480e+02,  4.20372456e-01,  5.10808946e+02,\n",
       "       -1.78857023e+01, -4.36865204e+02, -1.72750060e+02,  4.10176376e+01,\n",
       "       -9.90144766e+02,  4.58420167e+02,  4.20372456e-01, -1.61866615e+03,\n",
       "        4.20372456e-01, -6.16515616e+02,  1.17990854e+03,  4.20372456e-01,\n",
       "        4.20372456e-01,  1.37485809e+03, -4.76632921e+02,  4.20372456e-01,\n",
       "        4.20372456e-01, -9.33610660e+02,  4.54646366e+02,  4.20372456e-01,\n",
       "        4.20372456e-01,  4.20372456e-01,  4.20372456e-01,  4.20372456e-01,\n",
       "        4.20372456e-01,  4.20372456e-01,  4.20372456e-01,  2.72954640e+03,\n",
       "        4.20372456e-01,  4.20372456e-01,  4.20372456e-01, -2.81821151e+02,\n",
       "       -2.55379329e+00,  4.20372456e-01,  4.20372456e-01,  4.20372456e-01,\n",
       "        7.09731955e+01,  4.20372456e-01,  2.81920674e+02, -1.67581197e+03,\n",
       "        4.20372456e-01,  4.20372456e-01,  8.04877034e+02, -1.51339349e+02,\n",
       "       -6.91171068e+02,  4.20372456e-01, -4.14173481e+02, -1.36407278e+03,\n",
       "        4.20372456e-01,  4.20372456e-01, -9.72335430e+02,  4.20372456e-01,\n",
       "        4.20372456e-01,  4.20372456e-01,  5.65472538e+02,  2.67046110e+02,\n",
       "        2.34757433e+02,  4.20372456e-01, -2.52756896e+02,  4.20372456e-01,\n",
       "        3.30495234e+02,  6.76895326e+02,  4.20372456e-01,  1.63350080e+03,\n",
       "        4.20372456e-01,  1.16182014e+03,  4.20372456e-01,  4.20372456e-01,\n",
       "       -4.72711829e+02,  4.20372456e-01,  4.20372456e-01,  4.20372456e-01,\n",
       "        4.20372456e-01,  4.20372456e-01,  5.90701258e+02,  4.20372456e-01,\n",
       "       -1.28482482e+03,  4.20372456e-01,  1.21200851e+03, -3.29738058e+02,\n",
       "        4.70156720e+02,  4.42946093e+02, -3.34399380e+02,  2.07755971e+03,\n",
       "        3.90049711e+02,  4.20372456e-01,  4.20372456e-01,  5.80037978e+02,\n",
       "        4.20372456e-01, -3.42010391e+02, -1.27332463e+03,  4.20372456e-01,\n",
       "        4.20372456e-01,  3.82335634e+02,  6.90474643e+02, -2.85073208e+03,\n",
       "       -7.93448131e+02,  4.20372456e-01,  4.20372456e-01,  3.52375938e+02,\n",
       "        4.20372456e-01,  4.20372456e-01,  4.20372456e-01, -8.15887621e+02,\n",
       "        4.20372456e-01,  1.70000475e+03,  4.20372456e-01,  7.50759101e+02,\n",
       "        4.20372456e-01, -2.25475253e+02,  8.21565195e+01, -5.92887189e+02,\n",
       "        4.20372456e-01, -5.93442132e+02,  7.31323571e+02,  1.54751033e+03,\n",
       "       -5.22229780e+00,  4.20372456e-01, -2.70478508e+03,  4.20372456e-01,\n",
       "        6.68475385e+02,  4.20372456e-01,  4.20372456e-01,  4.20372456e-01,\n",
       "        4.20372456e-01,  4.20372456e-01,  4.20372456e-01, -1.89853758e+00,\n",
       "        4.20372456e-01,  4.20372456e-01, -1.10117814e+03,  5.76249039e+02,\n",
       "        4.20372456e-01,  4.20372456e-01,  1.05197938e+02, -1.14405946e+02,\n",
       "       -8.66870901e+02,  4.20372456e-01,  7.17095603e+02,  4.20372456e-01,\n",
       "        4.20372456e-01,  5.32840346e+02,  6.98730342e+01, -4.87185221e+02,\n",
       "        4.20372456e-01,  3.51367962e+02, -8.62711963e+01,  4.20372456e-01,\n",
       "        4.20372456e-01,  1.11974947e+03,  2.56905681e+01, -1.60276578e+03,\n",
       "       -3.53785244e+02, -6.64007318e+01,  4.20372456e-01,  7.80946616e+02,\n",
       "        4.20372456e-01,  1.70519278e+02,  1.18846324e+03, -4.14302280e+02,\n",
       "        4.20372456e-01, -3.60334171e+02,  1.00084941e+03,  4.20372456e-01,\n",
       "       -1.27126927e+03,  4.20372456e-01,  4.20372456e-01,  4.20372456e-01,\n",
       "       -4.44536420e+02,  3.52919583e+02,  4.20372456e-01,  4.20372456e-01,\n",
       "       -9.73007541e+02, -5.37003455e+02,  4.20372456e-01,  1.12435011e+02,\n",
       "        4.20372456e-01,  4.20372456e-01,  4.20372456e-01, -6.84104005e+02,\n",
       "        5.68865787e+02,  4.20372456e-01,  3.40952645e+02,  1.70524070e+03,\n",
       "        4.20372456e-01, -1.26498918e+03, -9.12616680e+02, -3.16695786e+02,\n",
       "        4.20372456e-01,  4.20372456e-01,  4.20372456e-01, -7.97090380e+02,\n",
       "        4.20372456e-01,  4.20372456e-01,  4.20372456e-01,  4.20372456e-01,\n",
       "        4.20372456e-01,  1.23711180e+03, -3.31350653e+02,  1.43372764e+03,\n",
       "        6.68615358e+02,  4.20372456e-01,  8.28800828e+02,  1.48775309e+03,\n",
       "       -2.03952906e+02,  6.07823142e+02,  1.30490837e+02,  4.20372456e-01,\n",
       "        4.20372456e-01,  5.66245106e+02,  5.02436182e+02,  4.20372456e-01,\n",
       "        7.47742323e+02,  3.26032882e+01,  4.20372456e-01,  4.20372456e-01,\n",
       "        4.20372456e-01, -1.53390266e+03,  4.20372456e-01, -1.00203250e+03,\n",
       "        4.20372456e-01,  4.20372456e-01, -7.74700934e+02,  1.66059384e+02,\n",
       "       -6.96546957e+02,  4.58996784e+02,  4.20372456e-01,  4.20372456e-01,\n",
       "        4.20372456e-01,  4.20372456e-01, -2.86383964e+02, -7.55469144e+02,\n",
       "        4.20372456e-01,  2.31130599e+02,  4.20372456e-01,  4.20372456e-01,\n",
       "        4.20372456e-01,  4.20372456e-01, -1.27628629e+03, -2.99029053e+02,\n",
       "        4.20372456e-01,  1.90022055e+03,  4.20372456e-01, -7.62091602e+02,\n",
       "        4.20372456e-01, -1.46578902e+03, -5.72556936e+02,  4.20372456e-01,\n",
       "        4.20372456e-01,  4.20372456e-01, -1.73596172e+03,  4.20372456e-01,\n",
       "       -7.03702647e+01,  4.20372456e-01,  1.40333634e+03,  4.45447732e+02,\n",
       "        1.06118860e+03,  4.20372456e-01, -7.86555116e+02,  2.84548435e+02,\n",
       "       -5.84742167e+01,  2.54736767e+02,  4.20372456e-01,  4.20372456e-01,\n",
       "       -1.82644752e+03,  6.44051941e+02,  4.20372456e-01,  4.20372456e-01,\n",
       "        4.20372456e-01,  1.65900523e+03, -5.27929927e+02,  5.20909817e+02,\n",
       "        4.20372456e-01,  4.20372456e-01,  1.57183905e+03,  4.20372456e-01,\n",
       "       -1.96274645e+02,  4.20372456e-01,  4.20372456e-01, -1.16842419e+03,\n",
       "        4.20372456e-01,  2.13065993e+01,  4.20372456e-01,  4.20372456e-01,\n",
       "       -3.09171017e+01,  4.20372456e-01, -1.21483019e+02,  8.92413020e+02,\n",
       "        4.76179755e+00,  4.20372456e-01,  2.48042243e+02,  4.20372456e-01,\n",
       "        2.21818757e+03,  1.53771252e+03,  2.27444107e+02, -2.83427518e+02,\n",
       "        4.20372456e-01,  4.20372456e-01, -1.34234650e+02,  1.20256010e+03,\n",
       "        4.20372456e-01,  4.20372456e-01,  4.20372456e-01,  9.50268991e+00,\n",
       "        1.11188643e+03,  4.79807166e+02,  4.20372456e-01,  1.38754411e+03,\n",
       "        3.35356949e+02, -2.59225769e+02,  4.20372456e-01,  4.20372456e-01,\n",
       "        9.65727419e+02, -1.21526843e+03,  1.70817095e+02,  4.20372456e-01,\n",
       "       -7.68132716e+02,  9.66160013e+01,  4.20372456e-01,  4.20372456e-01,\n",
       "        1.11336829e+03,  9.83116999e+02,  4.20372456e-01,  2.71599916e+02,\n",
       "        3.00527922e+02,  4.20372456e-01,  2.34740198e+02, -7.64724127e+02,\n",
       "        4.20372456e-01, -5.91339549e+02,  4.20372456e-01,  8.81302277e+02,\n",
       "       -1.57323222e+03, -6.48195705e+02,  4.20372456e-01,  9.10266666e+02,\n",
       "        4.20372456e-01,  4.20372456e-01,  4.20372456e-01,  4.20372456e-01,\n",
       "        4.20372456e-01,  4.20372456e-01, -1.32428959e+03, -5.39672276e+02,\n",
       "        1.71393290e+03,  4.20372456e-01, -4.80030347e+02,  4.20372456e-01,\n",
       "        2.81793807e+02,  4.73166002e+02,  4.20372456e-01,  9.59872233e+02,\n",
       "        9.13382404e+02,  4.20372456e-01,  4.20372456e-01,  4.20372456e-01,\n",
       "       -7.17791636e+02, -4.75801049e+01, -1.28948982e+03,  4.20372456e-01,\n",
       "        4.20372456e-01, -1.04857798e+03,  4.20372456e-01,  4.20372456e-01,\n",
       "       -7.13813490e+02,  4.20372456e-01, -6.41240866e+02, -9.44358365e+02,\n",
       "        4.20372456e-01,  4.20372456e-01,  4.20372456e-01,  9.28907089e+02,\n",
       "       -1.66417949e+03,  2.10445321e+03, -2.82745871e+02,  4.20372456e-01,\n",
       "        3.58582686e+02, -4.59357502e+02,  4.20372456e-01,  6.60746452e+02,\n",
       "        4.20372456e-01,  4.20372456e-01,  4.20372456e-01, -5.66478669e+01,\n",
       "       -1.45217951e+03, -2.10473980e+03, -2.43648944e+02,  4.68781873e+01,\n",
       "       -1.81161006e+02, -1.03268587e+03,  4.20372456e-01,  1.82914762e+02,\n",
       "        6.65413489e+02, -6.13109041e+02,  4.20372456e-01,  4.20372456e-01,\n",
       "        4.20372456e-01, -7.85584392e+02, -1.10853547e+03, -8.28589766e+02,\n",
       "        5.41476255e+02,  7.24069401e+02,  1.89409819e+01,  4.20372456e-01,\n",
       "        1.49367965e+03, -2.25846730e+03, -6.40192343e+02,  4.20372456e-01,\n",
       "        1.40593010e+03,  4.20372456e-01,  4.23608091e+02,  4.20372456e-01,\n",
       "       -1.50921083e+03,  1.29400855e+03,  1.03553489e+02,  4.20372456e-01,\n",
       "       -1.43905176e+03,  4.20372456e-01,  6.68087118e+01,  1.80040356e+03,\n",
       "        9.86014279e+01,  5.78136019e+02,  4.20372456e-01,  1.41590009e+03,\n",
       "        4.20372456e-01, -5.05804164e+02,  4.20372456e-01,  1.33695714e+02,\n",
       "       -5.31423194e+02,  2.65523316e+02, -2.12103282e+03, -1.03092096e+03,\n",
       "        1.59523467e+03,  1.74303053e+02,  1.96255995e+02, -1.13178032e+03,\n",
       "        2.39543719e+02,  4.20372456e-01,  4.20372456e-01,  4.20372456e-01,\n",
       "        4.20372456e-01,  4.20372456e-01, -3.52220505e+02,  1.49179220e+03,\n",
       "       -9.78345029e+02,  4.20372456e-01, -8.12156582e+02,  6.18288406e+02,\n",
       "        4.20372456e-01,  4.20372456e-01,  4.20372456e-01,  8.18013960e+02,\n",
       "        8.37883080e+02,  4.20372456e-01, -4.90736921e+02,  4.20372456e-01,\n",
       "        4.20372456e-01,  4.20372456e-01,  4.20372456e-01, -1.77198832e+02,\n",
       "        9.17337136e+01,  4.20372456e-01, -6.57422922e+02,  5.63992084e+02,\n",
       "       -2.96683527e+02,  2.89543875e+02, -1.32509949e+03,  1.08427279e+03,\n",
       "        1.18986998e+03, -4.27247168e+02, -2.51482678e+02, -1.44398116e+03,\n",
       "        4.20372456e-01, -4.84527084e+02,  4.20372456e-01, -1.48583148e+03,\n",
       "        4.20372456e-01,  4.20372456e-01,  4.20372456e-01,  4.44108596e+02,\n",
       "        4.20372456e-01,  2.50992566e+02, -1.72564263e+02,  3.52640036e+02,\n",
       "       -7.84507421e+01, -6.43538016e+02,  3.67326779e+02,  1.82414500e+03,\n",
       "        2.95508203e+02,  4.20372456e-01,  1.09301809e+01,  1.46984190e+03,\n",
       "       -7.75127894e+01,  2.36396084e+02,  4.20372456e-01,  3.24509414e+03,\n",
       "        4.20372456e-01,  1.04608565e+03,  4.20372456e-01,  6.51985781e+02,\n",
       "        4.00173742e+02,  1.67471449e+03, -7.23187026e+02, -1.78631550e+03,\n",
       "        7.15187180e+01,  4.20372456e-01,  4.20372456e-01,  1.06444957e+03])"
      ]
     },
     "execution_count": 285,
     "metadata": {},
     "output_type": "execute_result"
    }
   ],
   "source": [
    "(test_values * (ledger.get_overbudgeted_entities(user_budget=1000)^1) + gauss(0, 2))"
   ]
  },
  {
   "cell_type": "code",
   "execution_count": 290,
   "metadata": {},
   "outputs": [
    {
     "data": {
      "text/plain": [
       "array([ 3.3350e+02, -2.0000e-01,  1.2211e+03, -2.0000e-01, -2.0000e-01,\n",
       "       -2.0000e-01, -4.1120e+02, -8.7080e+02, -3.8620e+02, -2.0000e-01,\n",
       "       -2.0000e-01, -3.0500e+02,  4.4010e+02,  1.1200e+02, -2.0000e-01,\n",
       "       -2.0000e-01,  9.2750e+02, -3.4530e+02, -2.7280e+02,  2.1910e+02,\n",
       "        8.9010e+02, -2.0000e-01, -8.8050e+02,  1.2651e+03, -1.1660e+03,\n",
       "       -2.0000e-01, -2.0000e-01,  5.0460e+02, -2.8820e+02, -2.3220e+02,\n",
       "       -2.0000e-01,  1.3261e+03, -2.0000e-01, -2.0000e-01, -2.0000e-01,\n",
       "       -2.0000e-01, -2.0000e-01, -2.0000e-01, -1.0285e+03,  6.6220e+02,\n",
       "       -2.0000e-01, -2.0000e-01, -2.0000e-01, -1.3652e+03, -7.0550e+02,\n",
       "       -2.0000e-01, -2.0000e-01,  1.3717e+03, -2.0000e-01, -6.4020e+02,\n",
       "       -9.1550e+02, -2.0000e-01, -2.0000e-01,  6.3740e+02, -5.8520e+02,\n",
       "       -1.1200e+02, -4.8200e+01, -2.0000e-01, -2.0000e-01, -6.0150e+02,\n",
       "        3.1700e+02, -4.8800e+01, -2.0000e-01, -1.4673e+03, -5.6430e+02,\n",
       "       -2.0000e-01, -2.0000e-01,  6.5400e+02, -1.1407e+03, -1.3430e+02,\n",
       "       -2.0000e-01,  4.3500e+02, -2.0000e-01, -5.7700e+01, -2.0000e-01,\n",
       "       -2.0000e-01, -2.0000e-01, -2.0000e-01, -1.1778e+03, -2.0000e-01,\n",
       "       -4.6070e+02,  2.0400e+01, -1.4720e+02, -2.0000e-01, -2.0000e-01,\n",
       "        2.8960e+02, -1.1272e+03,  3.4570e+02, -1.1196e+03, -6.3930e+02,\n",
       "       -2.0000e-01, -1.4752e+03, -2.0000e-01, -2.0000e-01,  4.1700e+01,\n",
       "        9.6530e+02, -1.2010e+02, -1.0725e+03, -2.0000e-01, -2.0000e-01,\n",
       "       -1.5289e+03,  1.7489e+03,  1.0185e+03, -8.9660e+02,  4.5220e+02,\n",
       "       -2.0780e+02,  9.9510e+02, -2.0000e-01,  2.9550e+02, -2.0000e-01,\n",
       "       -1.3490e+03,  1.0623e+03, -2.0000e-01, -2.0000e-01, -2.0000e-01,\n",
       "       -2.0000e-01, -2.3680e+02, -8.9640e+02,  1.7714e+03, -2.0000e-01,\n",
       "       -8.6800e+01,  6.2740e+02, -2.0000e-01, -2.0000e-01, -4.2330e+02,\n",
       "       -2.0000e-01, -2.0000e-01, -6.6880e+02, -1.5844e+03, -2.0000e-01,\n",
       "       -2.2550e+02, -8.5910e+02, -1.6576e+03, -2.0000e-01, -2.0000e-01,\n",
       "       -1.3915e+03, -2.0000e-01, -2.0000e-01, -2.0000e-01, -7.0230e+02,\n",
       "        5.9360e+02,  4.1640e+02, -5.4560e+02, -2.0000e-01, -2.0000e-01,\n",
       "       -3.7410e+02, -2.0000e-01,  1.4350e+02,  1.1885e+03, -2.0000e-01,\n",
       "       -4.8770e+02, -1.5933e+03, -2.6340e+02, -5.9470e+02, -5.0300e+02,\n",
       "       -2.0000e-01, -1.1156e+03, -5.4530e+02, -2.0000e-01, -2.0000e-01,\n",
       "        1.6100e+01, -1.0292e+03, -2.0000e-01, -1.3724e+03, -2.0000e-01,\n",
       "       -2.0000e-01, -7.7200e+01, -2.0000e-01, -1.5990e+02, -2.0000e-01,\n",
       "       -4.2040e+02,  2.0109e+03,  1.2655e+03, -2.0000e-01, -2.0000e-01,\n",
       "       -1.6520e+02, -2.7438e+03, -2.0000e-01, -2.0000e-01, -2.0000e-01,\n",
       "       -2.0000e-01, -2.0200e+01, -2.0000e-01, -2.0000e-01, -1.4646e+03,\n",
       "       -2.0000e-01, -2.0000e-01, -2.1160e+02, -8.9510e+02,  6.7030e+02,\n",
       "       -2.0000e-01, -2.0000e-01, -3.0050e+02, -1.3456e+03, -1.1403e+03,\n",
       "        3.8640e+02, -2.0000e-01, -2.0000e-01, -2.0000e-01, -1.5680e+02,\n",
       "       -2.0000e-01,  2.2449e+03, -2.0000e-01,  6.6460e+02, -5.6400e+01,\n",
       "       -1.0011e+03, -2.0000e-01, -2.0000e-01,  1.6690e+03, -7.6130e+02,\n",
       "       -2.0000e-01,  4.9100e+02, -2.0000e-01, -2.0000e-01, -2.2011e+03,\n",
       "       -1.0472e+03,  8.0730e+02, -2.0000e-01,  1.0383e+03, -6.8900e+01,\n",
       "       -9.4720e+02,  2.0301e+03, -1.4483e+03, -2.0000e-01, -2.0000e-01,\n",
       "       -2.0000e-01,  2.1602e+03,  1.0492e+03,  1.0459e+03, -2.0000e-01,\n",
       "       -2.0000e-01, -2.0000e-01, -9.2150e+02, -2.0000e-01, -3.5860e+02,\n",
       "       -6.4290e+02, -2.0000e-01,  7.5540e+02, -2.0000e-01, -2.0000e-01,\n",
       "       -2.0000e-01, -1.2990e+03, -2.0000e-01, -2.0000e-01, -2.0000e-01,\n",
       "        7.7420e+02,  6.5490e+02, -2.0000e-01,  1.5164e+03, -2.0000e-01,\n",
       "        8.0000e+01,  4.3460e+02, -2.0000e-01,  3.5390e+02, -2.0000e-01,\n",
       "       -2.0000e-01, -3.4420e+02, -1.0257e+03,  5.9030e+02, -2.0000e-01,\n",
       "       -2.0000e-01, -4.3260e+02, -1.3800e+01,  3.7630e+02, -3.3880e+02,\n",
       "       -2.0000e-01,  1.1600e+03, -3.9200e+01, -2.0000e-01, -2.0000e-01,\n",
       "       -2.0000e-01,  5.0070e+02, -3.5100e+02, -2.3040e+02, -2.2865e+03,\n",
       "       -2.0000e-01,  6.9680e+02, -2.0000e-01,  8.8100e+01, -5.7080e+02,\n",
       "        4.4920e+02, -2.0000e-01, -2.0000e-01, -2.0000e-01, -2.0000e-01,\n",
       "        8.7020e+02,  7.9190e+02,  2.0440e+03,  7.0140e+02, -7.4720e+02,\n",
       "        3.8160e+02,  2.5270e+02, -2.0000e-01, -2.8990e+02, -2.0000e-01,\n",
       "        9.5600e+01, -2.0000e-01, -2.0000e-01, -2.0000e-01,  6.6310e+02,\n",
       "       -9.0910e+02, -2.0000e-01, -2.6560e+02, -2.0000e-01, -8.8040e+02,\n",
       "       -2.0000e-01, -7.3290e+02, -5.0630e+02, -2.0000e-01,  1.0530e+03,\n",
       "       -2.0000e-01,  7.4220e+02, -1.8290e+02, -9.1190e+02, -2.0000e-01,\n",
       "       -2.0000e-01,  1.0075e+03, -2.0980e+02, -2.0000e-01, -1.2985e+03,\n",
       "       -1.3350e+03, -2.0000e-01, -1.0290e+03, -7.0320e+02, -2.0000e-01,\n",
       "       -2.0000e-01, -2.0000e-01,  1.0689e+03, -2.0000e-01, -2.0000e-01,\n",
       "       -1.7920e+02,  3.1270e+02, -2.0000e-01,  1.1704e+03, -6.1030e+02,\n",
       "       -2.0000e-01, -2.0000e-01, -2.0572e+03,  1.1810e+02, -2.0000e-01,\n",
       "       -2.0000e-01, -3.2980e+02, -2.0000e-01, -2.0000e-01, -2.0000e-01,\n",
       "       -2.0000e-01, -2.0000e-01, -1.4700e+01, -9.5700e+01,  1.9700e+02,\n",
       "       -2.0000e-01, -2.1453e+03, -2.0000e-01, -2.0000e-01,  7.0960e+02,\n",
       "        8.5000e+01,  3.7460e+02, -2.0000e-01, -2.0000e-01, -2.0000e-01,\n",
       "       -2.0000e-01,  1.7927e+03, -2.0000e-01, -2.0000e-01, -1.1442e+03,\n",
       "       -2.0000e-01, -1.6562e+03, -2.4500e+01, -2.0000e-01, -7.4090e+02,\n",
       "       -1.0377e+03, -2.0000e-01, -1.2469e+03,  3.6130e+02, -2.0000e-01,\n",
       "       -2.0000e-01, -8.0350e+02, -2.0000e-01, -2.0000e-01,  1.0888e+03,\n",
       "       -2.0000e-01, -2.0000e-01,  5.1940e+02,  1.4760e+02,  1.1618e+03,\n",
       "        1.5824e+03, -2.0000e-01, -1.7580e+02, -3.2380e+02, -2.0000e-01,\n",
       "       -2.0000e-01, -2.0000e-01,  1.2690e+03, -2.0000e-01, -2.0000e-01,\n",
       "       -7.0220e+02, -2.6110e+02, -2.0000e-01, -9.2800e+01, -3.1620e+02,\n",
       "        2.4394e+03, -2.0000e-01, -2.0000e-01, -2.0000e-01, -6.4330e+02,\n",
       "        9.5460e+02, -2.0000e-01, -2.0000e-01, -9.0000e+00, -4.4180e+02,\n",
       "        5.2990e+02, -1.1202e+03,  1.0946e+03,  1.0121e+03, -9.4600e+01,\n",
       "       -4.5700e+01, -2.0000e-01, -1.8554e+03, -2.0000e-01, -2.0000e-01,\n",
       "        9.2580e+02, -2.0000e-01, -5.9620e+02, -7.6260e+02, -3.6760e+02,\n",
       "       -4.8440e+02, -2.0000e-01,  1.0730e+02, -2.3424e+03, -3.8640e+02,\n",
       "        1.0251e+03, -2.0000e-01, -2.0000e-01, -7.1820e+02, -7.2750e+02,\n",
       "       -2.0000e-01, -2.0000e-01,  1.7520e+02, -8.4880e+02, -2.0000e-01,\n",
       "       -7.0870e+02, -4.7640e+02,  2.8460e+02,  8.5590e+02, -2.0000e-01,\n",
       "       -2.0000e-01,  3.7260e+02, -2.0000e-01, -2.0000e-01, -3.6700e+02,\n",
       "        2.1840e+03, -2.0000e-01, -2.0000e-01,  2.7620e+02, -2.0000e-01,\n",
       "       -2.0000e-01, -5.4950e+02, -2.0000e-01, -2.0000e-01, -7.3360e+02,\n",
       "        1.0884e+03, -1.2512e+03, -2.9260e+02, -2.3600e+03, -2.0947e+03,\n",
       "       -2.0000e-01, -1.4990e+02, -2.0000e-01, -2.0000e-01, -2.0000e-01,\n",
       "       -4.9750e+02, -2.0000e-01, -2.0000e-01, -2.0000e-01,  1.1502e+03,\n",
       "       -2.0000e-01, -2.0000e-01, -3.9070e+02, -2.0000e-01, -2.0000e-01,\n",
       "       -2.0000e-01, -1.7012e+03, -8.4430e+02,  5.8600e+02, -1.1423e+03,\n",
       "       -2.0000e-01, -2.0000e-01, -2.0000e-01,  4.2130e+02, -2.2410e+02,\n",
       "       -2.0000e-01,  5.1020e+02, -1.8500e+01, -4.3740e+02, -1.7330e+02,\n",
       "        4.0400e+01, -9.9070e+02,  4.5780e+02, -2.0000e-01, -1.6192e+03,\n",
       "       -2.0000e-01, -6.1710e+02,  1.1793e+03, -2.0000e-01, -2.0000e-01,\n",
       "        1.3743e+03, -4.7720e+02, -2.0000e-01, -2.0000e-01, -9.3420e+02,\n",
       "        4.5410e+02, -2.0000e-01, -2.0000e-01, -2.0000e-01, -2.0000e-01,\n",
       "       -2.0000e-01, -2.0000e-01, -2.0000e-01, -2.0000e-01,  2.7290e+03,\n",
       "       -2.0000e-01, -2.0000e-01, -2.0000e-01, -2.8240e+02, -3.1000e+00,\n",
       "       -2.0000e-01, -2.0000e-01, -2.0000e-01,  7.0400e+01, -2.0000e-01,\n",
       "        2.8130e+02, -1.6764e+03, -2.0000e-01, -2.0000e-01,  8.0430e+02,\n",
       "       -1.5190e+02, -6.9170e+02, -2.0000e-01, -4.1470e+02, -1.3646e+03,\n",
       "       -2.0000e-01, -2.0000e-01, -9.7290e+02, -2.0000e-01, -2.0000e-01,\n",
       "       -2.0000e-01,  5.6490e+02,  2.6650e+02,  2.3420e+02, -2.0000e-01,\n",
       "       -2.5330e+02, -2.0000e-01,  3.2990e+02,  6.7630e+02, -2.0000e-01,\n",
       "        1.6329e+03, -2.0000e-01,  1.1612e+03, -2.0000e-01, -2.0000e-01,\n",
       "       -4.7330e+02, -2.0000e-01, -2.0000e-01, -2.0000e-01, -2.0000e-01,\n",
       "       -2.0000e-01,  5.9010e+02, -2.0000e-01, -1.2854e+03, -2.0000e-01,\n",
       "        1.2114e+03, -3.3030e+02,  4.6960e+02,  4.4240e+02, -3.3500e+02,\n",
       "        2.0770e+03,  3.8950e+02, -2.0000e-01, -2.0000e-01,  5.7950e+02,\n",
       "       -2.0000e-01, -3.4260e+02, -1.2739e+03, -2.0000e-01, -2.0000e-01,\n",
       "        3.8180e+02,  6.8990e+02, -2.8513e+03, -7.9400e+02, -2.0000e-01,\n",
       "       -2.0000e-01,  3.5180e+02, -2.0000e-01, -2.0000e-01, -2.0000e-01,\n",
       "       -8.1650e+02, -2.0000e-01,  1.6994e+03, -2.0000e-01,  7.5020e+02,\n",
       "       -2.0000e-01, -2.2610e+02,  8.1600e+01, -5.9350e+02, -2.0000e-01,\n",
       "       -5.9400e+02,  7.3070e+02,  1.5469e+03, -5.8000e+00, -2.0000e-01,\n",
       "       -2.7054e+03, -2.0000e-01,  6.6790e+02, -2.0000e-01, -2.0000e-01,\n",
       "       -2.0000e-01, -2.0000e-01, -2.0000e-01, -2.0000e-01, -2.5000e+00,\n",
       "       -2.0000e-01, -2.0000e-01, -1.1018e+03,  5.7570e+02, -2.0000e-01,\n",
       "       -2.0000e-01,  1.0460e+02, -1.1500e+02, -8.6740e+02, -2.0000e-01,\n",
       "        7.1650e+02, -2.0000e-01, -2.0000e-01,  5.3230e+02,  6.9300e+01,\n",
       "       -4.8780e+02, -2.0000e-01,  3.5080e+02, -8.6800e+01, -2.0000e-01,\n",
       "       -2.0000e-01,  1.1192e+03,  2.5100e+01, -1.6033e+03, -3.5440e+02,\n",
       "       -6.7000e+01, -2.0000e-01,  7.8040e+02, -2.0000e-01,  1.6990e+02,\n",
       "        1.1879e+03, -4.1490e+02, -2.0000e-01, -3.6090e+02,  1.0003e+03,\n",
       "       -2.0000e-01, -1.2718e+03, -2.0000e-01, -2.0000e-01, -2.0000e-01,\n",
       "       -4.4510e+02,  3.5230e+02, -2.0000e-01, -2.0000e-01, -9.7360e+02,\n",
       "       -5.3760e+02, -2.0000e-01,  1.1190e+02, -2.0000e-01, -2.0000e-01,\n",
       "       -2.0000e-01, -6.8470e+02,  5.6830e+02, -2.0000e-01,  3.4040e+02,\n",
       "        1.7047e+03, -2.0000e-01, -1.2656e+03, -9.1320e+02, -3.1730e+02,\n",
       "       -2.0000e-01, -2.0000e-01, -2.0000e-01, -7.9770e+02, -2.0000e-01,\n",
       "       -2.0000e-01, -2.0000e-01, -2.0000e-01, -2.0000e-01,  1.2365e+03,\n",
       "       -3.3190e+02,  1.4332e+03,  6.6800e+02, -2.0000e-01,  8.2820e+02,\n",
       "        1.4872e+03, -2.0450e+02,  6.0720e+02,  1.2990e+02, -2.0000e-01,\n",
       "       -2.0000e-01,  5.6570e+02,  5.0190e+02, -2.0000e-01,  7.4720e+02,\n",
       "        3.2000e+01, -2.0000e-01, -2.0000e-01, -2.0000e-01, -1.5345e+03,\n",
       "       -2.0000e-01, -1.0026e+03, -2.0000e-01, -2.0000e-01, -7.7530e+02,\n",
       "        1.6550e+02, -6.9710e+02,  4.5840e+02, -2.0000e-01, -2.0000e-01,\n",
       "       -2.0000e-01, -2.0000e-01, -2.8700e+02, -7.5600e+02, -2.0000e-01,\n",
       "        2.3060e+02, -2.0000e-01, -2.0000e-01, -2.0000e-01, -2.0000e-01,\n",
       "       -1.2769e+03, -2.9960e+02, -2.0000e-01,  1.8996e+03, -2.0000e-01,\n",
       "       -7.6270e+02, -2.0000e-01, -1.4664e+03, -5.7310e+02, -2.0000e-01,\n",
       "       -2.0000e-01, -2.0000e-01, -1.7365e+03, -2.0000e-01, -7.0900e+01,\n",
       "       -2.0000e-01,  1.4028e+03,  4.4490e+02,  1.0606e+03, -2.0000e-01,\n",
       "       -7.8710e+02,  2.8400e+02, -5.9000e+01,  2.5420e+02, -2.0000e-01,\n",
       "       -2.0000e-01, -1.8270e+03,  6.4350e+02, -2.0000e-01, -2.0000e-01,\n",
       "       -2.0000e-01,  1.6584e+03, -5.2850e+02,  5.2030e+02, -2.0000e-01,\n",
       "       -2.0000e-01,  1.5713e+03, -2.0000e-01, -1.9690e+02, -2.0000e-01,\n",
       "       -2.0000e-01, -1.1690e+03, -2.0000e-01,  2.0700e+01, -2.0000e-01,\n",
       "       -2.0000e-01, -3.1500e+01, -2.0000e-01, -1.2210e+02,  8.9180e+02,\n",
       "        4.2000e+00, -2.0000e-01,  2.4750e+02, -2.0000e-01,  2.2176e+03,\n",
       "        1.5371e+03,  2.2690e+02, -2.8400e+02, -2.0000e-01, -2.0000e-01,\n",
       "       -1.3480e+02,  1.2020e+03, -2.0000e-01, -2.0000e-01, -2.0000e-01,\n",
       "        8.9000e+00,  1.1113e+03,  4.7920e+02, -2.0000e-01,  1.3870e+03,\n",
       "        3.3480e+02, -2.5980e+02, -2.0000e-01, -2.0000e-01,  9.6520e+02,\n",
       "       -1.2158e+03,  1.7020e+02, -2.0000e-01, -7.6870e+02,  9.6000e+01,\n",
       "       -2.0000e-01, -2.0000e-01,  1.1128e+03,  9.8250e+02, -2.0000e-01,\n",
       "        2.7100e+02,  3.0000e+02, -2.0000e-01,  2.3420e+02, -7.6530e+02,\n",
       "       -2.0000e-01, -5.9190e+02, -2.0000e-01,  8.8070e+02, -1.5738e+03,\n",
       "       -6.4880e+02, -2.0000e-01,  9.0970e+02, -2.0000e-01, -2.0000e-01,\n",
       "       -2.0000e-01, -2.0000e-01, -2.0000e-01, -2.0000e-01, -1.3249e+03,\n",
       "       -5.4020e+02,  1.7134e+03, -2.0000e-01, -4.8060e+02, -2.0000e-01,\n",
       "        2.8120e+02,  4.7260e+02, -2.0000e-01,  9.5930e+02,  9.1280e+02,\n",
       "       -2.0000e-01, -2.0000e-01, -2.0000e-01, -7.1840e+02, -4.8200e+01,\n",
       "       -1.2901e+03, -2.0000e-01, -2.0000e-01, -1.0492e+03, -2.0000e-01,\n",
       "       -2.0000e-01, -7.1440e+02, -2.0000e-01, -6.4180e+02, -9.4490e+02,\n",
       "       -2.0000e-01, -2.0000e-01, -2.0000e-01,  9.2830e+02, -1.6648e+03,\n",
       "        2.1039e+03, -2.8330e+02, -2.0000e-01,  3.5800e+02, -4.5990e+02,\n",
       "       -2.0000e-01,  6.6020e+02, -2.0000e-01, -2.0000e-01, -2.0000e-01,\n",
       "       -5.7200e+01, -1.4528e+03, -2.1053e+03, -2.4420e+02,  4.6300e+01,\n",
       "       -1.8170e+02, -1.0333e+03, -2.0000e-01,  1.8230e+02,  6.6480e+02,\n",
       "       -6.1370e+02, -2.0000e-01, -2.0000e-01, -2.0000e-01, -7.8620e+02,\n",
       "       -1.1091e+03, -8.2920e+02,  5.4090e+02,  7.2350e+02,  1.8400e+01,\n",
       "       -2.0000e-01,  1.4931e+03, -2.2590e+03, -6.4080e+02, -2.0000e-01,\n",
       "        1.4054e+03, -2.0000e-01,  4.2300e+02, -2.0000e-01, -1.5098e+03,\n",
       "        1.2934e+03,  1.0300e+02, -2.0000e-01, -1.4396e+03, -2.0000e-01,\n",
       "        6.6200e+01,  1.7998e+03,  9.8000e+01,  5.7760e+02, -2.0000e-01,\n",
       "        1.4153e+03, -2.0000e-01, -5.0640e+02, -2.0000e-01,  1.3310e+02,\n",
       "       -5.3200e+02,  2.6490e+02, -2.1216e+03, -1.0315e+03,  1.5947e+03,\n",
       "        1.7370e+02,  1.9570e+02, -1.1324e+03,  2.3900e+02, -2.0000e-01,\n",
       "       -2.0000e-01, -2.0000e-01, -2.0000e-01, -2.0000e-01, -3.5280e+02,\n",
       "        1.4912e+03, -9.7890e+02, -2.0000e-01, -8.1270e+02,  6.1770e+02,\n",
       "       -2.0000e-01, -2.0000e-01, -2.0000e-01,  8.1740e+02,  8.3730e+02,\n",
       "       -2.0000e-01, -4.9130e+02, -2.0000e-01, -2.0000e-01, -2.0000e-01,\n",
       "       -2.0000e-01, -1.7780e+02,  9.1200e+01, -2.0000e-01, -6.5800e+02,\n",
       "        5.6340e+02, -2.9730e+02,  2.8900e+02, -1.3257e+03,  1.0837e+03,\n",
       "        1.1893e+03, -4.2780e+02, -2.5210e+02, -1.4446e+03, -2.0000e-01,\n",
       "       -4.8510e+02, -2.0000e-01, -1.4864e+03, -2.0000e-01, -2.0000e-01,\n",
       "       -2.0000e-01,  4.4350e+02, -2.0000e-01,  2.5040e+02, -1.7310e+02,\n",
       "        3.5210e+02, -7.9000e+01, -6.4410e+02,  3.6680e+02,  1.8236e+03,\n",
       "        2.9490e+02, -2.0000e-01,  1.0400e+01,  1.4693e+03, -7.8100e+01,\n",
       "        2.3580e+02, -2.0000e-01,  3.2445e+03, -2.0000e-01,  1.0455e+03,\n",
       "       -2.0000e-01,  6.5140e+02,  3.9960e+02,  1.6741e+03, -7.2380e+02,\n",
       "       -1.7869e+03,  7.0900e+01, -2.0000e-01, -2.0000e-01,  1.0639e+03])"
      ]
     },
     "execution_count": 290,
     "metadata": {},
     "output_type": "execute_result"
    }
   ],
   "source": [
    "np.round(test_values * (ledger.get_overbudgeted_entities(user_budget=1000)^1) + gauss(0, 2), 1)"
   ]
  },
  {
   "cell_type": "code",
   "execution_count": 220,
   "metadata": {},
   "outputs": [],
   "source": [
    "update1 = ledger.write_to_db()"
   ]
  },
  {
   "cell_type": "code",
   "execution_count": 221,
   "metadata": {},
   "outputs": [
    {
     "data": {
      "text/plain": [
       "array([1., 1., 1., ..., 1., 1., 1.])"
      ]
     },
     "execution_count": 221,
     "metadata": {},
     "output_type": "execute_result"
    }
   ],
   "source": [
    "ledger.sigmas"
   ]
  },
  {
   "cell_type": "code",
   "execution_count": 222,
   "metadata": {},
   "outputs": [
    {
     "data": {
      "text/plain": [
       "array([1., 1., 1., ..., 1., 1., 1.])"
      ]
     },
     "execution_count": 222,
     "metadata": {},
     "output_type": "execute_result"
    }
   ],
   "source": [
    "update1.sigmas"
   ]
  },
  {
   "cell_type": "code",
   "execution_count": 223,
   "metadata": {},
   "outputs": [
    {
     "ename": "Exception",
     "evalue": "Cannot add update to Ledger",
     "output_type": "error",
     "traceback": [
      "\u001b[0;31m---------------------------------------------------------------------------\u001b[0m",
      "\u001b[0;31mException\u001b[0m                                 Traceback (most recent call last)",
      "Input \u001b[0;32mIn [223]\u001b[0m, in \u001b[0;36m<cell line: 1>\u001b[0;34m()\u001b[0m\n\u001b[0;32m----> 1\u001b[0m \u001b[43mledger\u001b[49m\u001b[38;5;241;43m.\u001b[39;49m\u001b[43mread_from_db\u001b[49m\u001b[43m(\u001b[49m\u001b[43mupdate1\u001b[49m\u001b[43m)\u001b[49m\n",
      "Input \u001b[0;32mIn [212]\u001b[0m, in \u001b[0;36mDataSubjectLedger.read_from_db\u001b[0;34m(self, update)\u001b[0m\n\u001b[1;32m     49\u001b[0m     \u001b[38;5;28mself\u001b[39m\u001b[38;5;241m.\u001b[39mtimestamp \u001b[38;5;241m=\u001b[39m update\u001b[38;5;241m.\u001b[39mtimestamp\n\u001b[1;32m     50\u001b[0m \u001b[38;5;28;01melse\u001b[39;00m:\n\u001b[0;32m---> 51\u001b[0m     \u001b[38;5;28;01mraise\u001b[39;00m \u001b[38;5;167;01mException\u001b[39;00m(\u001b[38;5;124m\"\u001b[39m\u001b[38;5;124mCannot add update to Ledger\u001b[39m\u001b[38;5;124m\"\u001b[39m)\n",
      "\u001b[0;31mException\u001b[0m: Cannot add update to Ledger"
     ]
    }
   ],
   "source": [
    "ledger.read_from_db(update1)"
   ]
  },
  {
   "cell_type": "code",
   "execution_count": 82,
   "metadata": {},
   "outputs": [
    {
     "data": {
      "text/plain": [
       "1373"
      ]
     },
     "execution_count": 82,
     "metadata": {},
     "output_type": "execute_result"
    }
   ],
   "source": [
    "len(ledger.cache_constant2epsilon)"
   ]
  },
  {
   "cell_type": "code",
   "execution_count": 31,
   "metadata": {},
   "outputs": [
    {
     "data": {
      "text/plain": [
       "False"
      ]
     },
     "execution_count": 31,
     "metadata": {},
     "output_type": "execute_result"
    }
   ],
   "source": [
    "eps.any()"
   ]
  },
  {
   "cell_type": "code",
   "execution_count": null,
   "metadata": {},
   "outputs": [],
   "source": [
    "len(ledger.sigmas)/1e8"
   ]
  },
  {
   "cell_type": "code",
   "execution_count": null,
   "metadata": {},
   "outputs": [],
   "source": [
    "%%time\n",
    "eps = ledger.get_epsilon_spend(entity_ids_query=query)"
   ]
  },
  {
   "cell_type": "code",
   "execution_count": null,
   "metadata": {},
   "outputs": [],
   "source": [
    "eps[0:20]"
   ]
  },
  {
   "cell_type": "code",
   "execution_count": null,
   "metadata": {},
   "outputs": [],
   "source": []
  },
  {
   "cell_type": "code",
   "execution_count": null,
   "metadata": {},
   "outputs": [],
   "source": []
  }
 ],
 "metadata": {
  "kernelspec": {
   "display_name": "Python 3 (ipykernel)",
   "language": "python",
   "name": "python3"
  },
  "language_info": {
   "codemirror_mode": {
    "name": "ipython",
    "version": 3
   },
   "file_extension": ".py",
   "mimetype": "text/x-python",
   "name": "python",
   "nbconvert_exporter": "python",
   "pygments_lexer": "ipython3",
   "version": "3.8.10"
  }
 },
 "nbformat": 4,
 "nbformat_minor": 4
}
