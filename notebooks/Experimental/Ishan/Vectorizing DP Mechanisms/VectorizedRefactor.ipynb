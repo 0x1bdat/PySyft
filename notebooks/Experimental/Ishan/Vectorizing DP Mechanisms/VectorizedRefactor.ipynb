{
 "cells": [
  {
   "cell_type": "markdown",
   "id": "26ee77a5-e7f5-4189-b4ee-7bc6c67a66f5",
   "metadata": {},
   "source": [
    "Starting from the SimplerRefactor, going to start vectorization"
   ]
  },
  {
   "cell_type": "code",
   "execution_count": 1,
   "id": "2cebb5b4-bca8-45ce-8f36-a1a4184aa1a5",
   "metadata": {},
   "outputs": [],
   "source": [
    "import numpy as np\n",
    "import flax\n",
    "from jax import numpy as jnp"
   ]
  },
  {
   "cell_type": "code",
   "execution_count": 51,
   "id": "9b2e95e0-1d1d-4df3-939d-73ec1952cb0b",
   "metadata": {},
   "outputs": [],
   "source": [
    "from scipy.optimize import minimize_scalar"
   ]
  },
  {
   "cell_type": "code",
   "execution_count": 25,
   "id": "0765d4d4-3f17-4f19-95d9-fc5a03725ff5",
   "metadata": {},
   "outputs": [],
   "source": [
    "from nacl.signing import VerifyKey\n",
    "from typing import Optional, Callable"
   ]
  },
  {
   "cell_type": "code",
   "execution_count": 38,
   "id": "48e40f2a-c2ab-4b08-a4d2-a93274c3057c",
   "metadata": {},
   "outputs": [],
   "source": [
    "# @lru_cache(maxsize=None)\n",
    "def _IRDP_gaussian(\n",
    "    sigma: float, value: jnp.array, L: float, alpha: float\n",
    ") -> jnp.array:\n",
    "    return (alpha * (L**2) * np.square(value)) / (2 * (sigma**2))\n",
    "\n",
    "def IRDP_gaussian(sigma, value, L, alpha: float) -> np.ndarray:\n",
    "    \"\"\"\n",
    "    :param params:\n",
    "        'sigma' --- is the normalized noise level: std divided by global L2 sensitivity\n",
    "        'value' --- is the output of query on a data point\n",
    "        'L' --- is the Lipschitz constant of query with respect to the output of query on a data point\n",
    "    :param alpha: The order of the Renyi Divergence\n",
    "    :return: Evaluation of the RDP's epsilon\n",
    "    \"\"\"\n",
    "    if sigma <= 0:\n",
    "        raise Exception(\"Sigma should be above 0\")\n",
    "    if alpha < 0:\n",
    "        raise Exception(\"Sigma should not be below 0\")\n",
    "    return _IRDP_gaussian(sigma=sigma, alpha=alpha, value=value, L=L)"
   ]
  },
  {
   "cell_type": "code",
   "execution_count": 39,
   "id": "f558395a-1c40-418d-ae07-b32e643f0cfb",
   "metadata": {},
   "outputs": [
    {
     "data": {
      "text/plain": [
       "array([24., 24., 24., 24., 24., 24., 24., 24., 24., 24.])"
      ]
     },
     "execution_count": 39,
     "metadata": {},
     "output_type": "execute_result"
    }
   ],
   "source": [
    "IRDP_gaussian(sigma=1, value=np.ones(10), L=4, alpha=3)"
   ]
  },
  {
   "cell_type": "markdown",
   "id": "2c8edab9-d686-47cc-b94a-c79d2b96ede3",
   "metadata": {},
   "source": [
    "## TODO:\n",
    "- Make `rdp_to_approxdp` below work when rdp gives arrays instead of single values"
   ]
  },
  {
   "cell_type": "code",
   "execution_count": 71,
   "id": "5dad1f78-47be-4947-81dc-2e81fc5bbf53",
   "metadata": {},
   "outputs": [],
   "source": [
    "def rdp_to_approxdp(rdp, alpha_max=np.inf):\n",
    "    # from RDP to approx DP\n",
    "    # alpha_max is an optional input which sometimes helps avoid numerical issues\n",
    "    # By default, we are using the RDP to approx-DP conversion due to BBGHS'19's Theorem 21\n",
    "    # paper: https://arxiv.org/pdf/1905.09982.pdf\n",
    "    # if you need to use the simpler RDP to approxDP conversion for some reason, turn the flag off\n",
    "\n",
    "    def approxdp(delta):\n",
    "        \"\"\"\n",
    "        approxdp outputs eps as a function of delta based on rdp calculations\n",
    "        :param delta:\n",
    "        :return: the \\epsilon with a given delta\n",
    "        \"\"\"\n",
    "\n",
    "        if delta < 0 or delta > 1:\n",
    "            print(\"Error! delta is a probability and must be between 0 and 1\")\n",
    "        if delta == 0:\n",
    "            return rdp(np.inf)\n",
    "        else:\n",
    "            def fun(x):  # the input is the RDP's \\alpha\n",
    "                if x <= 1:\n",
    "                    return np.inf\n",
    "                else:\n",
    "                    return np.maximum(rdp(x) + np.log((x-1)/x) - (np.log(delta) + np.log(x))/(x-1), 0)\n",
    "                    \n",
    "            results = minimize_scalar(fun, method='Brent', bracket=(1,2), bounds=[1, alpha_max])\n",
    "            if results.success:\n",
    "                return results.fun\n",
    "            else:\n",
    "                # There are cases when certain \\delta is not feasible.\n",
    "                # For example, let p and q be uniform the privacy R.V. is either 0 or \\infty and unless all \\infty\n",
    "                # events are taken cared of by \\delta, \\epsilon cannot be < \\infty\n",
    "                return np.inf\n",
    "    return approxdp"
   ]
  },
  {
   "cell_type": "code",
   "execution_count": null,
   "id": "4ac63d64-bf52-46fd-be63-c0c62aab6375",
   "metadata": {},
   "outputs": [],
   "source": []
  },
  {
   "cell_type": "code",
   "execution_count": 70,
   "id": "0ba49561-81fe-4d10-b2f9-99d4d3eb9ff8",
   "metadata": {},
   "outputs": [],
   "source": [
    "@flax.struct.dataclass\n",
    "class VectorizedGaussianMechanism:\n",
    "    \"\"\" We're going to store all the values for the Gaussian Mechanisms in a single instance of this class.\"\"\"\n",
    "    \n",
    "    sigma: float\n",
    "    public_values: jnp.array  # squared L2 norm on min/max metadata\n",
    "    private_values: jnp.array  # squared L2 norm on raw values\n",
    "    L: float\n",
    "    # These two are from the EntityList class\n",
    "    entity_indices: jnp.array\n",
    "    entity_lookup: Optional[jnp.array] = None\n",
    "    use_private: bool = False\n",
    "    user_key: Optional[VerifyKey] = None\n",
    "    \n",
    "    \n",
    "    def RDP(self, alpha: int) -> jnp.array:\n",
    "        if self.use_private:\n",
    "            return IRDP_gaussian(sigma=self.sigma, value=self.private_values, L=self.L, alpha=alpha)\n",
    "        else:\n",
    "            return IRDP_gaussian(sigma=self.sigma, value=self.public_values, L=self.L, alpha=alpha)\n",
    "    \n",
    "    def total_RDP(self, alpha:int) -> float:\n",
    "        return np.sum(self.RDP(alpha))\n",
    "    \n",
    "    def approxDP(self, delta: float, alpha: int) -> jnp.array:\n",
    "        return np.minimum(self.RDP(alpha), rdp_to_approxdp(self.RDP)(delta)) #### IF I CAN FIX THIS THEN EVERYTHING WILL WORK\n",
    "    \n",
    "    def compose_and_get_epsilon(self, delta: float = 1e-6):\n",
    "        # Combine previous steps and directly return privacy budget\n",
    "        # Since compose() creates a new mechanism, propagate_updates() really just uses the `newrdp()` function defined there, which in our case is equivalent to the total_RDP function.\n",
    "        # Since we're just interested in the total privacy budget spend, we just need to calculate the new approxDP value and evaluate it at the value of delta\n",
    "        return np.minimum(self.total_RDP, rdp_to_approxdp(self.total_RDP))(delta)  # REPLACE THIS WITH WHATEVER FIX MAKES `approxDP` work"
   ]
  },
  {
   "cell_type": "code",
   "execution_count": 65,
   "id": "f64312f4-ae81-4bb7-ad10-3c06ce616839",
   "metadata": {},
   "outputs": [],
   "source": [
    "size = 10\n",
    "vgm = VectorizedGaussianMechanism(\n",
    "    sigma=2, \n",
    "    public_values=np.arange(1, 6), \n",
    "    private_values=np.random.randint(low=1, high=6, size=size), \n",
    "    L=3, \n",
    "    entity_indices=np.arange(size)\n",
    ")"
   ]
  },
  {
   "cell_type": "code",
   "execution_count": 66,
   "id": "cb3acefa-1527-4d90-9ec0-041141d21cae",
   "metadata": {},
   "outputs": [
    {
     "data": {
      "text/plain": [
       "array([  5.625,  22.5  ,  50.625,  90.   , 140.625])"
      ]
     },
     "execution_count": 66,
     "metadata": {},
     "output_type": "execute_result"
    }
   ],
   "source": [
    "vgm.RDP(alpha=5)"
   ]
  },
  {
   "cell_type": "code",
   "execution_count": 67,
   "id": "6d939f02-bb07-4028-94dc-08264780336e",
   "metadata": {},
   "outputs": [
    {
     "data": {
      "text/plain": [
       "309.375"
      ]
     },
     "execution_count": 67,
     "metadata": {},
     "output_type": "execute_result"
    }
   ],
   "source": [
    "sum(vgm.RDP(alpha=5))"
   ]
  },
  {
   "cell_type": "code",
   "execution_count": 68,
   "id": "155ea69d-1ac7-4fb1-af21-fc464dd2bb19",
   "metadata": {},
   "outputs": [
    {
     "data": {
      "text/plain": [
       "309.375"
      ]
     },
     "execution_count": 68,
     "metadata": {},
     "output_type": "execute_result"
    }
   ],
   "source": [
    "vgm.total_RDP(alpha=5)"
   ]
  },
  {
   "cell_type": "code",
   "execution_count": 69,
   "id": "444c88d0-5eee-4ca3-9f63-de680ace6014",
   "metadata": {},
   "outputs": [
    {
     "ename": "ValueError",
     "evalue": "The truth value of an array with more than one element is ambiguous. Use a.any() or a.all()",
     "output_type": "error",
     "traceback": [
      "\u001b[0;31m---------------------------------------------------------------------------\u001b[0m",
      "\u001b[0;31mValueError\u001b[0m                                Traceback (most recent call last)",
      "Input \u001b[0;32mIn [69]\u001b[0m, in \u001b[0;36m<cell line: 1>\u001b[0;34m()\u001b[0m\n\u001b[0;32m----> 1\u001b[0m \u001b[43mvgm\u001b[49m\u001b[38;5;241;43m.\u001b[39;49m\u001b[43mapproxDP\u001b[49m\u001b[43m(\u001b[49m\u001b[43mdelta\u001b[49m\u001b[38;5;241;43m=\u001b[39;49m\u001b[38;5;241;43m1e-6\u001b[39;49m\u001b[43m,\u001b[49m\u001b[43m \u001b[49m\u001b[43malpha\u001b[49m\u001b[38;5;241;43m=\u001b[39;49m\u001b[38;5;241;43m5\u001b[39;49m\u001b[43m)\u001b[49m\n",
      "Input \u001b[0;32mIn [64]\u001b[0m, in \u001b[0;36mVectorizedGaussianMechanism.approxDP\u001b[0;34m(self, delta, alpha)\u001b[0m\n\u001b[1;32m     25\u001b[0m \u001b[38;5;28;01mdef\u001b[39;00m \u001b[38;5;21mapproxDP\u001b[39m(\u001b[38;5;28mself\u001b[39m, delta: \u001b[38;5;28mfloat\u001b[39m, alpha: \u001b[38;5;28mint\u001b[39m) \u001b[38;5;241m-\u001b[39m\u001b[38;5;241m>\u001b[39m jnp\u001b[38;5;241m.\u001b[39marray:\n\u001b[0;32m---> 26\u001b[0m     \u001b[38;5;28;01mreturn\u001b[39;00m np\u001b[38;5;241m.\u001b[39mminimum(\u001b[38;5;28mself\u001b[39m\u001b[38;5;241m.\u001b[39mRDP(alpha), \u001b[43mrdp_to_approxdp\u001b[49m\u001b[43m(\u001b[49m\u001b[38;5;28;43mself\u001b[39;49m\u001b[38;5;241;43m.\u001b[39;49m\u001b[43mRDP\u001b[49m\u001b[43m)\u001b[49m\u001b[43m(\u001b[49m\u001b[43mdelta\u001b[49m\u001b[43m)\u001b[49m)\n",
      "Input \u001b[0;32mIn [43]\u001b[0m, in \u001b[0;36mrdp_to_approxdp.<locals>.approxdp\u001b[0;34m(delta)\u001b[0m\n\u001b[1;32m     27\u001b[0m         \u001b[38;5;28;01melse\u001b[39;00m:\n\u001b[1;32m     28\u001b[0m             \u001b[38;5;28;01mreturn\u001b[39;00m np\u001b[38;5;241m.\u001b[39mlog(\u001b[38;5;241m1\u001b[39m \u001b[38;5;241m/\u001b[39m delta) \u001b[38;5;241m/\u001b[39m (x \u001b[38;5;241m-\u001b[39m \u001b[38;5;241m1\u001b[39m) \u001b[38;5;241m+\u001b[39m rdp(x)\n\u001b[0;32m---> 30\u001b[0m results \u001b[38;5;241m=\u001b[39m \u001b[43mminimize_scalar\u001b[49m\u001b[43m(\u001b[49m\u001b[43mfun\u001b[49m\u001b[43m,\u001b[49m\u001b[43m \u001b[49m\u001b[43mmethod\u001b[49m\u001b[38;5;241;43m=\u001b[39;49m\u001b[38;5;124;43m'\u001b[39;49m\u001b[38;5;124;43mBrent\u001b[39;49m\u001b[38;5;124;43m'\u001b[39;49m\u001b[43m,\u001b[49m\u001b[43m \u001b[49m\u001b[43mbracket\u001b[49m\u001b[38;5;241;43m=\u001b[39;49m\u001b[43m(\u001b[49m\u001b[38;5;241;43m1\u001b[39;49m\u001b[43m,\u001b[49m\u001b[38;5;241;43m2\u001b[39;49m\u001b[43m)\u001b[49m\u001b[43m,\u001b[49m\u001b[43m \u001b[49m\u001b[43mbounds\u001b[49m\u001b[38;5;241;43m=\u001b[39;49m\u001b[43m[\u001b[49m\u001b[38;5;241;43m1\u001b[39;49m\u001b[43m,\u001b[49m\u001b[43m \u001b[49m\u001b[43malpha_max\u001b[49m\u001b[43m]\u001b[49m\u001b[43m)\u001b[49m\n\u001b[1;32m     31\u001b[0m \u001b[38;5;28;01mif\u001b[39;00m results\u001b[38;5;241m.\u001b[39msuccess:\n\u001b[1;32m     32\u001b[0m     \u001b[38;5;28;01mreturn\u001b[39;00m results\u001b[38;5;241m.\u001b[39mfun\n",
      "File \u001b[0;32m~/PycharmProjects/PySyft/.tox/syft.jupyter/lib/python3.8/site-packages/scipy/optimize/_minimize.py:868\u001b[0m, in \u001b[0;36mminimize_scalar\u001b[0;34m(fun, bracket, bounds, args, method, tol, options)\u001b[0m\n\u001b[1;32m    866\u001b[0m     \u001b[38;5;28;01mreturn\u001b[39;00m method(fun, args\u001b[38;5;241m=\u001b[39margs, bracket\u001b[38;5;241m=\u001b[39mbracket, bounds\u001b[38;5;241m=\u001b[39mbounds, \u001b[38;5;241m*\u001b[39m\u001b[38;5;241m*\u001b[39moptions)\n\u001b[1;32m    867\u001b[0m \u001b[38;5;28;01melif\u001b[39;00m meth \u001b[38;5;241m==\u001b[39m \u001b[38;5;124m'\u001b[39m\u001b[38;5;124mbrent\u001b[39m\u001b[38;5;124m'\u001b[39m:\n\u001b[0;32m--> 868\u001b[0m     \u001b[38;5;28;01mreturn\u001b[39;00m \u001b[43m_minimize_scalar_brent\u001b[49m\u001b[43m(\u001b[49m\u001b[43mfun\u001b[49m\u001b[43m,\u001b[49m\u001b[43m \u001b[49m\u001b[43mbracket\u001b[49m\u001b[43m,\u001b[49m\u001b[43m \u001b[49m\u001b[43margs\u001b[49m\u001b[43m,\u001b[49m\u001b[43m \u001b[49m\u001b[38;5;241;43m*\u001b[39;49m\u001b[38;5;241;43m*\u001b[39;49m\u001b[43moptions\u001b[49m\u001b[43m)\u001b[49m\n\u001b[1;32m    869\u001b[0m \u001b[38;5;28;01melif\u001b[39;00m meth \u001b[38;5;241m==\u001b[39m \u001b[38;5;124m'\u001b[39m\u001b[38;5;124mbounded\u001b[39m\u001b[38;5;124m'\u001b[39m:\n\u001b[1;32m    870\u001b[0m     \u001b[38;5;28;01mif\u001b[39;00m bounds \u001b[38;5;129;01mis\u001b[39;00m \u001b[38;5;28;01mNone\u001b[39;00m:\n",
      "File \u001b[0;32m~/PycharmProjects/PySyft/.tox/syft.jupyter/lib/python3.8/site-packages/scipy/optimize/_optimize.py:2511\u001b[0m, in \u001b[0;36m_minimize_scalar_brent\u001b[0;34m(func, brack, args, xtol, maxiter, disp, **unknown_options)\u001b[0m\n\u001b[1;32m   2508\u001b[0m brent \u001b[38;5;241m=\u001b[39m Brent(func\u001b[38;5;241m=\u001b[39mfunc, args\u001b[38;5;241m=\u001b[39margs, tol\u001b[38;5;241m=\u001b[39mtol,\n\u001b[1;32m   2509\u001b[0m               full_output\u001b[38;5;241m=\u001b[39m\u001b[38;5;28;01mTrue\u001b[39;00m, maxiter\u001b[38;5;241m=\u001b[39mmaxiter, disp\u001b[38;5;241m=\u001b[39mdisp)\n\u001b[1;32m   2510\u001b[0m brent\u001b[38;5;241m.\u001b[39mset_bracket(brack)\n\u001b[0;32m-> 2511\u001b[0m \u001b[43mbrent\u001b[49m\u001b[38;5;241;43m.\u001b[39;49m\u001b[43moptimize\u001b[49m\u001b[43m(\u001b[49m\u001b[43m)\u001b[49m\n\u001b[1;32m   2512\u001b[0m x, fval, nit, nfev \u001b[38;5;241m=\u001b[39m brent\u001b[38;5;241m.\u001b[39mget_result(full_output\u001b[38;5;241m=\u001b[39m\u001b[38;5;28;01mTrue\u001b[39;00m)\n\u001b[1;32m   2514\u001b[0m success \u001b[38;5;241m=\u001b[39m nit \u001b[38;5;241m<\u001b[39m maxiter \u001b[38;5;129;01mand\u001b[39;00m \u001b[38;5;129;01mnot\u001b[39;00m (np\u001b[38;5;241m.\u001b[39misnan(x) \u001b[38;5;129;01mor\u001b[39;00m np\u001b[38;5;241m.\u001b[39misnan(fval))\n",
      "File \u001b[0;32m~/PycharmProjects/PySyft/.tox/syft.jupyter/lib/python3.8/site-packages/scipy/optimize/_optimize.py:2281\u001b[0m, in \u001b[0;36mBrent.optimize\u001b[0;34m(self)\u001b[0m\n\u001b[1;32m   2278\u001b[0m \u001b[38;5;28;01mdef\u001b[39;00m \u001b[38;5;21moptimize\u001b[39m(\u001b[38;5;28mself\u001b[39m):\n\u001b[1;32m   2279\u001b[0m     \u001b[38;5;66;03m# set up for optimization\u001b[39;00m\n\u001b[1;32m   2280\u001b[0m     func \u001b[38;5;241m=\u001b[39m \u001b[38;5;28mself\u001b[39m\u001b[38;5;241m.\u001b[39mfunc\n\u001b[0;32m-> 2281\u001b[0m     xa, xb, xc, fa, fb, fc, funcalls \u001b[38;5;241m=\u001b[39m \u001b[38;5;28;43mself\u001b[39;49m\u001b[38;5;241;43m.\u001b[39;49m\u001b[43mget_bracket_info\u001b[49m\u001b[43m(\u001b[49m\u001b[43m)\u001b[49m\n\u001b[1;32m   2282\u001b[0m     _mintol \u001b[38;5;241m=\u001b[39m \u001b[38;5;28mself\u001b[39m\u001b[38;5;241m.\u001b[39m_mintol\n\u001b[1;32m   2283\u001b[0m     _cg \u001b[38;5;241m=\u001b[39m \u001b[38;5;28mself\u001b[39m\u001b[38;5;241m.\u001b[39m_cg\n",
      "File \u001b[0;32m~/PycharmProjects/PySyft/.tox/syft.jupyter/lib/python3.8/site-packages/scipy/optimize/_optimize.py:2257\u001b[0m, in \u001b[0;36mBrent.get_bracket_info\u001b[0;34m(self)\u001b[0m\n\u001b[1;32m   2255\u001b[0m     xa, xb, xc, fa, fb, fc, funcalls \u001b[38;5;241m=\u001b[39m bracket(func, args\u001b[38;5;241m=\u001b[39margs)\n\u001b[1;32m   2256\u001b[0m \u001b[38;5;28;01melif\u001b[39;00m \u001b[38;5;28mlen\u001b[39m(brack) \u001b[38;5;241m==\u001b[39m \u001b[38;5;241m2\u001b[39m:\n\u001b[0;32m-> 2257\u001b[0m     xa, xb, xc, fa, fb, fc, funcalls \u001b[38;5;241m=\u001b[39m \u001b[43mbracket\u001b[49m\u001b[43m(\u001b[49m\u001b[43mfunc\u001b[49m\u001b[43m,\u001b[49m\u001b[43m \u001b[49m\u001b[43mxa\u001b[49m\u001b[38;5;241;43m=\u001b[39;49m\u001b[43mbrack\u001b[49m\u001b[43m[\u001b[49m\u001b[38;5;241;43m0\u001b[39;49m\u001b[43m]\u001b[49m\u001b[43m,\u001b[49m\n\u001b[1;32m   2258\u001b[0m \u001b[43m                                               \u001b[49m\u001b[43mxb\u001b[49m\u001b[38;5;241;43m=\u001b[39;49m\u001b[43mbrack\u001b[49m\u001b[43m[\u001b[49m\u001b[38;5;241;43m1\u001b[39;49m\u001b[43m]\u001b[49m\u001b[43m,\u001b[49m\u001b[43m \u001b[49m\u001b[43margs\u001b[49m\u001b[38;5;241;43m=\u001b[39;49m\u001b[43margs\u001b[49m\u001b[43m)\u001b[49m\n\u001b[1;32m   2259\u001b[0m \u001b[38;5;28;01melif\u001b[39;00m \u001b[38;5;28mlen\u001b[39m(brack) \u001b[38;5;241m==\u001b[39m \u001b[38;5;241m3\u001b[39m:\n\u001b[1;32m   2260\u001b[0m     xa, xb, xc \u001b[38;5;241m=\u001b[39m brack\n",
      "File \u001b[0;32m~/PycharmProjects/PySyft/.tox/syft.jupyter/lib/python3.8/site-packages/scipy/optimize/_optimize.py:2767\u001b[0m, in \u001b[0;36mbracket\u001b[0;34m(func, xa, xb, args, grow_limit, maxiter)\u001b[0m\n\u001b[1;32m   2765\u001b[0m fa \u001b[38;5;241m=\u001b[39m func(\u001b[38;5;241m*\u001b[39m(xa,) \u001b[38;5;241m+\u001b[39m args)\n\u001b[1;32m   2766\u001b[0m fb \u001b[38;5;241m=\u001b[39m func(\u001b[38;5;241m*\u001b[39m(xb,) \u001b[38;5;241m+\u001b[39m args)\n\u001b[0;32m-> 2767\u001b[0m \u001b[38;5;28;01mif\u001b[39;00m (fa \u001b[38;5;241m<\u001b[39m fb):                      \u001b[38;5;66;03m# Switch so fa > fb\u001b[39;00m\n\u001b[1;32m   2768\u001b[0m     xa, xb \u001b[38;5;241m=\u001b[39m xb, xa\n\u001b[1;32m   2769\u001b[0m     fa, fb \u001b[38;5;241m=\u001b[39m fb, fa\n",
      "\u001b[0;31mValueError\u001b[0m: The truth value of an array with more than one element is ambiguous. Use a.any() or a.all()"
     ]
    }
   ],
   "source": [
    "vgm.approxDP(delta=1e-6, alpha=5)"
   ]
  },
  {
   "cell_type": "code",
   "execution_count": null,
   "id": "50c1280d-f147-43ba-a4ea-840304654e13",
   "metadata": {},
   "outputs": [],
   "source": []
  },
  {
   "cell_type": "code",
   "execution_count": null,
   "id": "b5a81b2a-b7c9-45a0-ac54-180d755f528b",
   "metadata": {},
   "outputs": [],
   "source": []
  }
 ],
 "metadata": {
  "kernelspec": {
   "display_name": "Python 3 (ipykernel)",
   "language": "python",
   "name": "python3"
  },
  "language_info": {
   "codemirror_mode": {
    "name": "ipython",
    "version": 3
   },
   "file_extension": ".py",
   "mimetype": "text/x-python",
   "name": "python",
   "nbconvert_exporter": "python",
   "pygments_lexer": "ipython3",
   "version": "3.8.10"
  }
 },
 "nbformat": 4,
 "nbformat_minor": 5
}
