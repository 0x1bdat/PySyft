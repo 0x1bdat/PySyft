{
 "cells": [
  {
   "cell_type": "code",
   "execution_count": 4,
   "id": "6f871115-0813-4bfc-a0e4-0d250abcf706",
   "metadata": {},
   "outputs": [
    {
     "name": "stdout",
     "output_type": "stream",
     "text": [
      "The autoreload extension is already loaded. To reload it, use:\n",
      "  %reload_ext autoreload\n"
     ]
    }
   ],
   "source": [
    "%load_ext autoreload\n",
    "%autoreload 2\n",
    "\n",
    "import syft as sy\n",
    "import numpy as np"
   ]
  },
  {
   "cell_type": "code",
   "execution_count": 6,
   "id": "11a6c311-6487-4147-94d5-305c71dd2fab",
   "metadata": {
    "collapsed": true,
    "jupyter": {
     "outputs_hidden": true
    },
    "tags": []
   },
   "outputs": [
    {
     "name": "stdout",
     "output_type": "stream",
     "text": [
      "Collecting flax\n",
      "  Using cached flax-0.4.0-py3-none-any.whl (176 kB)\n",
      "Collecting jax\n",
      "  Downloading jax-0.3.1.tar.gz (912 kB)\n",
      "\u001b[2K     \u001b[90m━━━━━━━━━━━━━━━━━━━━━━━━━━━━━━━━━━━━━━━\u001b[0m \u001b[32m912.1/912.1 KB\u001b[0m \u001b[31m8.5 MB/s\u001b[0m eta \u001b[36m0:00:00\u001b[0ma \u001b[36m0:00:01\u001b[0m\n",
      "\u001b[?25h  Preparing metadata (setup.py) ... \u001b[?25ldone\n",
      "\u001b[?25hRequirement already satisfied: numpy>=1.12 in /home/e/PycharmProjects/PySyft/.tox/syft.jupyter/lib/python3.8/site-packages (from flax) (1.22.3)\n",
      "Collecting optax\n",
      "  Using cached optax-0.1.1-py3-none-any.whl (136 kB)\n",
      "Requirement already satisfied: matplotlib in /home/e/PycharmProjects/PySyft/.tox/syft.jupyter/lib/python3.8/site-packages (from flax) (3.5.1)\n",
      "Collecting msgpack\n",
      "  Downloading msgpack-1.0.3-cp38-cp38-manylinux_2_17_x86_64.manylinux2014_x86_64.whl (322 kB)\n",
      "\u001b[2K     \u001b[90m━━━━━━━━━━━━━━━━━━━━━━━━━━━━━━━━━━━━━━\u001b[0m \u001b[32m322.4/322.4 KB\u001b[0m \u001b[31m21.6 MB/s\u001b[0m eta \u001b[36m0:00:00\u001b[0m\n",
      "\u001b[?25hCollecting absl-py\n",
      "  Using cached absl_py-1.0.0-py3-none-any.whl (126 kB)\n",
      "Collecting opt_einsum\n",
      "  Using cached opt_einsum-3.3.0-py3-none-any.whl (65 kB)\n",
      "Requirement already satisfied: scipy>=1.2.1 in /home/e/PycharmProjects/PySyft/.tox/syft.jupyter/lib/python3.8/site-packages (from jax) (1.8.0)\n",
      "Requirement already satisfied: typing_extensions in /home/e/PycharmProjects/PySyft/.tox/syft.jupyter/lib/python3.8/site-packages (from jax) (4.1.1)\n",
      "Requirement already satisfied: six in /home/e/PycharmProjects/PySyft/.tox/syft.jupyter/lib/python3.8/site-packages (from absl-py->jax) (1.16.0)\n",
      "Requirement already satisfied: fonttools>=4.22.0 in /home/e/PycharmProjects/PySyft/.tox/syft.jupyter/lib/python3.8/site-packages (from matplotlib->flax) (4.30.0)\n",
      "Requirement already satisfied: packaging>=20.0 in /home/e/PycharmProjects/PySyft/.tox/syft.jupyter/lib/python3.8/site-packages (from matplotlib->flax) (21.3)\n",
      "Requirement already satisfied: pillow>=6.2.0 in /home/e/PycharmProjects/PySyft/.tox/syft.jupyter/lib/python3.8/site-packages (from matplotlib->flax) (9.0.1)\n",
      "Requirement already satisfied: python-dateutil>=2.7 in /home/e/PycharmProjects/PySyft/.tox/syft.jupyter/lib/python3.8/site-packages (from matplotlib->flax) (2.8.2)\n",
      "Requirement already satisfied: kiwisolver>=1.0.1 in /home/e/PycharmProjects/PySyft/.tox/syft.jupyter/lib/python3.8/site-packages (from matplotlib->flax) (1.3.2)\n",
      "Requirement already satisfied: cycler>=0.10 in /home/e/PycharmProjects/PySyft/.tox/syft.jupyter/lib/python3.8/site-packages (from matplotlib->flax) (0.11.0)\n",
      "Requirement already satisfied: pyparsing>=2.2.1 in /home/e/PycharmProjects/PySyft/.tox/syft.jupyter/lib/python3.8/site-packages (from matplotlib->flax) (3.0.7)\n",
      "Collecting jaxlib>=0.1.37\n",
      "  Downloading jaxlib-0.3.0-cp38-none-manylinux2010_x86_64.whl (65.4 MB)\n",
      "\u001b[2K     \u001b[90m━━━━━━━━━━━━━━━━━━━━━━━━━━━━━━━━━━━━━━━━\u001b[0m \u001b[32m65.4/65.4 MB\u001b[0m \u001b[31m9.5 MB/s\u001b[0m eta \u001b[36m0:00:00\u001b[0m:00:01\u001b[0m00:01\u001b[0m\n",
      "\u001b[?25hCollecting chex>=0.0.4\n",
      "  Using cached chex-0.1.1-py3-none-any.whl (70 kB)\n",
      "Collecting toolz>=0.9.0\n",
      "  Using cached toolz-0.11.2-py3-none-any.whl (55 kB)\n",
      "Collecting dm-tree>=0.1.5\n",
      "  Downloading dm_tree-0.1.6-cp38-cp38-manylinux_2_24_x86_64.whl (94 kB)\n",
      "\u001b[2K     \u001b[90m━━━━━━━━━━━━━━━━━━━━━━━━━━━━━━━━━━━━━━━━\u001b[0m \u001b[32m94.7/94.7 KB\u001b[0m \u001b[31m13.8 MB/s\u001b[0m eta \u001b[36m0:00:00\u001b[0m\n",
      "\u001b[?25hCollecting flatbuffers<3.0,>=1.12\n",
      "  Using cached flatbuffers-2.0-py2.py3-none-any.whl (26 kB)\n",
      "Building wheels for collected packages: jax\n",
      "  Building wheel for jax (setup.py) ... \u001b[?25ldone\n",
      "\u001b[?25h  Created wheel for jax: filename=jax-0.3.1-py3-none-any.whl size=1054280 sha256=e11e9ffd7d9afebb585cba87c1255f727aa717061ffe0ef06d25edd57977579b\n",
      "  Stored in directory: /home/e/.cache/pip/wheels/98/c3/90/e1acae597e44d78506ce11b219919f4e43ef85bf4a3cb8bfc5\n",
      "Successfully built jax\n",
      "Installing collected packages: msgpack, flatbuffers, toolz, opt_einsum, dm-tree, absl-py, jaxlib, jax, chex, optax, flax\n",
      "Successfully installed absl-py-1.0.0 chex-0.1.1 dm-tree-0.1.6 flatbuffers-2.0 flax-0.4.0 jax-0.3.1 jaxlib-0.3.0 msgpack-1.0.3 opt_einsum-3.3.0 optax-0.1.1 toolz-0.11.2\n"
     ]
    }
   ],
   "source": [
    "!pip install flax jax"
   ]
  },
  {
   "cell_type": "code",
   "execution_count": 7,
   "id": "e08c7448-3ec4-4b24-a36f-3446f36e7078",
   "metadata": {},
   "outputs": [],
   "source": [
    "from syft.core.tensor.autodp.gamma_tensor import GammaTensor"
   ]
  },
  {
   "cell_type": "code",
   "execution_count": 8,
   "id": "e0b09fee-a6da-4a39-ba1c-4ef9a70eae34",
   "metadata": {},
   "outputs": [],
   "source": [
    "a = GammaTensor(\n",
    "    value=np.random.randint(0, 10, dtype=np.int32),\n",
    "    min_val=0,\n",
    "    max_val=10\n",
    ")\n",
    "\n",
    "b = GammaTensor(\n",
    "    value=np.random.randint(0, 10, dtype=np.int32),\n",
    "    min_val=0,\n",
    "    max_val=10\n",
    ")"
   ]
  },
  {
   "cell_type": "code",
   "execution_count": 25,
   "id": "80f378f2-2a1e-460f-a17d-71fc911adc73",
   "metadata": {},
   "outputs": [
    {
     "data": {
      "text/plain": [
       "{'1405610970': GammaTensor(value=9, min_val=0, max_val=10, func=<function no_op at 0x7f835f2ff940>, id='1405610970', state={'1405610970': ...})}"
      ]
     },
     "execution_count": 25,
     "metadata": {},
     "output_type": "execute_result"
    }
   ],
   "source": [
    "a.func(a.state)"
   ]
  },
  {
   "cell_type": "code",
   "execution_count": 35,
   "id": "14a09765-5133-4452-9933-8e08d9216e58",
   "metadata": {},
   "outputs": [
    {
     "data": {
      "text/plain": [
       "syft.core.tensor.autodp.gamma_tensor.GammaTensor"
      ]
     },
     "execution_count": 35,
     "metadata": {},
     "output_type": "execute_result"
    }
   ],
   "source": [
    "type(list(a.state.values())[0])"
   ]
  },
  {
   "cell_type": "code",
   "execution_count": 38,
   "id": "f493bdc7-31b6-4997-82b2-1d955ca38c2c",
   "metadata": {},
   "outputs": [
    {
     "name": "stdout",
     "output_type": "stream",
     "text": [
      "0\n",
      "1405610970\n"
     ]
    }
   ],
   "source": [
    "for index, key in enumerate(a.state.keys()):\n",
    "    print(index)\n",
    "    print(key)"
   ]
  },
  {
   "cell_type": "code",
   "execution_count": 9,
   "id": "cbb54422-48c8-409d-96d3-88953c5cd887",
   "metadata": {},
   "outputs": [
    {
     "data": {
      "text/plain": [
       "GammaTensor(value=12, min_val=0, max_val=20, func=<function GammaTensor.__add__.<locals>.<lambda> at 0x7f837c3cc550>, id='1616356894', state={'1405610970': GammaTensor(value=9, min_val=0, max_val=10, func=<function no_op at 0x7f835f2ff940>, id='1405610970', state={'1405610970': ...}), '1449339888': GammaTensor(value=3, min_val=0, max_val=10, func=<function no_op at 0x7f835f2ff940>, id='1449339888', state={'1449339888': ...})})"
      ]
     },
     "execution_count": 9,
     "metadata": {},
     "output_type": "execute_result"
    }
   ],
   "source": [
    "a + b"
   ]
  },
  {
   "cell_type": "code",
   "execution_count": 10,
   "id": "0e2c0124-90b9-4d9c-a166-885ed9e685c3",
   "metadata": {},
   "outputs": [
    {
     "name": "stderr",
     "output_type": "stream",
     "text": [
      "WARNING:absl:No GPU/TPU found, falling back to CPU. (Set TF_CPP_MIN_LOG_LEVEL=0 and rerun for more info.)\n"
     ]
    },
    {
     "data": {
      "text/plain": [
       "GammaTensor(value=DeviceArray(12, dtype=int32), min_val=DeviceArray(0, dtype=int32), max_val=DeviceArray(20, dtype=int32), func=<function GammaTensor.sum.<locals>.<lambda> at 0x7f837c3cc3a0>, id='741768246', state={'1405610970': GammaTensor(value=9, min_val=0, max_val=10, func=<function no_op at 0x7f835f2ff940>, id='1405610970', state={'1405610970': ...}), '1449339888': GammaTensor(value=3, min_val=0, max_val=10, func=<function no_op at 0x7f835f2ff940>, id='1449339888', state={'1449339888': ...})})"
      ]
     },
     "execution_count": 10,
     "metadata": {},
     "output_type": "execute_result"
    }
   ],
   "source": [
    "c = a + b\n",
    "c.sum()"
   ]
  },
  {
   "cell_type": "code",
   "execution_count": null,
   "id": "d04bfa3f-e49e-4548-8d37-7d0ae30c70d7",
   "metadata": {},
   "outputs": [],
   "source": []
  },
  {
   "cell_type": "code",
   "execution_count": 18,
   "id": "cb63b13a-515d-44cb-928b-1a9b2bbd3dfe",
   "metadata": {},
   "outputs": [],
   "source": [
    "from time import time"
   ]
  },
  {
   "cell_type": "code",
   "execution_count": 22,
   "id": "ade01b5d-5977-4ecb-84e2-22ce07108856",
   "metadata": {},
   "outputs": [
    {
     "name": "stdout",
     "output_type": "stream",
     "text": [
      "Time taken to sum 1.0 million: 0.0003554821014404297 seconds!\n",
      "Time taken to sum 10.0 million: 0.0017631053924560547 seconds!\n",
      "Time taken to sum 100.0 million: 0.017727136611938477 seconds!\n",
      "Time taken to sum 1000.0 million: 0.17698359489440918 seconds!\n"
     ]
    }
   ],
   "source": [
    "sizes = [10 ** e for e in range(6, 10)]\n",
    "\n",
    "for size in sizes:\n",
    "    large_array = GammaTensor(\n",
    "        # value=np.random.randint(0, 10, size=(sizes), dtype=np.int32),\n",
    "        value=np.ones(size, dtype=np.int32),\n",
    "        min_val=0,\n",
    "        max_val=10\n",
    "    )\n",
    "    t0 = time()\n",
    "    result = large_array.sum()\n",
    "    tf = time() - t0\n",
    "    print(f'Time taken to sum {size/1e6} million: {tf} seconds!')\n",
    "    assert result.value/size == 1.0\n",
    "    "
   ]
  },
  {
   "cell_type": "markdown",
   "id": "b473f8ad-f5c9-4c72-b98f-52b986410a87",
   "metadata": {},
   "source": [
    "## TODO\n",
    "\n",
    "- Incorporate entity information\n",
    "- Add conversion method for NDEPT, REPT -> GammaTensor\n",
    "- Add Lipschitz bound property"
   ]
  },
  {
   "cell_type": "code",
   "execution_count": 39,
   "id": "78b479bc-c419-4672-beed-89cf530d8504",
   "metadata": {},
   "outputs": [
    {
     "name": "stderr",
     "output_type": "stream",
     "text": [
      "[autoreload of syft.core.tensor.autodp.gamma_tensor failed: Traceback (most recent call last):\n",
      "  File \"/home/e/PycharmProjects/PySyft/.tox/syft.jupyter/lib/python3.8/site-packages/IPython/extensions/autoreload.py\", line 257, in check\n",
      "    superreload(m, reload, self.old_objects)\n",
      "  File \"/home/e/PycharmProjects/PySyft/.tox/syft.jupyter/lib/python3.8/site-packages/IPython/extensions/autoreload.py\", line 480, in superreload\n",
      "    update_generic(old_obj, new_obj)\n",
      "  File \"/home/e/PycharmProjects/PySyft/.tox/syft.jupyter/lib/python3.8/site-packages/IPython/extensions/autoreload.py\", line 377, in update_generic\n",
      "    update(a, b)\n",
      "  File \"/home/e/PycharmProjects/PySyft/.tox/syft.jupyter/lib/python3.8/site-packages/IPython/extensions/autoreload.py\", line 345, in update_class\n",
      "    update_instances(old, new)\n",
      "  File \"/home/e/PycharmProjects/PySyft/.tox/syft.jupyter/lib/python3.8/site-packages/IPython/extensions/autoreload.py\", line 303, in update_instances\n",
      "    ref.__class__ = new\n",
      "  File \"<string>\", line 4, in __setattr__\n",
      "dataclasses.FrozenInstanceError: cannot assign to field '__class__'\n",
      "]\n"
     ]
    },
    {
     "data": {
      "text/plain": [
       "(1000000000,)"
      ]
     },
     "execution_count": 39,
     "metadata": {},
     "output_type": "execute_result"
    }
   ],
   "source": [
    "large_array.shape"
   ]
  },
  {
   "cell_type": "code",
   "execution_count": 62,
   "id": "b11857cc-84a2-43f1-b483-aaee2fefe2d6",
   "metadata": {},
   "outputs": [],
   "source": [
    "d = GammaTensor(\n",
    "        # value=np.random.randint(0, 10, size=(sizes), dtype=np.int32),\n",
    "        value=np.ones(10, dtype=np.int32),\n",
    "        min_val=0,\n",
    "        max_val=10\n",
    "    )"
   ]
  },
  {
   "cell_type": "code",
   "execution_count": 70,
   "id": "eec8b23f-8657-4d19-b9c2-6783453b47f1",
   "metadata": {},
   "outputs": [
    {
     "name": "stderr",
     "output_type": "stream",
     "text": [
      "[autoreload of syft.core.tensor.autodp.gamma_tensor failed: Traceback (most recent call last):\n",
      "  File \"/home/e/PycharmProjects/PySyft/.tox/syft.jupyter/lib/python3.8/site-packages/IPython/extensions/autoreload.py\", line 257, in check\n",
      "    superreload(m, reload, self.old_objects)\n",
      "  File \"/home/e/PycharmProjects/PySyft/.tox/syft.jupyter/lib/python3.8/site-packages/IPython/extensions/autoreload.py\", line 480, in superreload\n",
      "    update_generic(old_obj, new_obj)\n",
      "  File \"/home/e/PycharmProjects/PySyft/.tox/syft.jupyter/lib/python3.8/site-packages/IPython/extensions/autoreload.py\", line 377, in update_generic\n",
      "    update(a, b)\n",
      "  File \"/home/e/PycharmProjects/PySyft/.tox/syft.jupyter/lib/python3.8/site-packages/IPython/extensions/autoreload.py\", line 345, in update_class\n",
      "    update_instances(old, new)\n",
      "  File \"/home/e/PycharmProjects/PySyft/.tox/syft.jupyter/lib/python3.8/site-packages/IPython/extensions/autoreload.py\", line 303, in update_instances\n",
      "    ref.__class__ = new\n",
      "  File \"<string>\", line 4, in __setattr__\n",
      "dataclasses.FrozenInstanceError: cannot assign to field '__class__'\n",
      "]\n"
     ]
    },
    {
     "ename": "ValueError",
     "evalue": "Zero-dimensional arrays cannot be concatenated.",
     "output_type": "error",
     "traceback": [
      "\u001b[0;31m---------------------------------------------------------------------------\u001b[0m",
      "\u001b[0;31mValueError\u001b[0m                                Traceback (most recent call last)",
      "Input \u001b[0;32mIn [70]\u001b[0m, in \u001b[0;36m<cell line: 1>\u001b[0;34m()\u001b[0m\n\u001b[0;32m----> 1\u001b[0m \u001b[43md\u001b[49m\u001b[38;5;241;43m.\u001b[39;49m\u001b[43mlipschitz_bound\u001b[49m\n",
      "File \u001b[0;32m~/PycharmProjects/PySyft/packages/syft/src/syft/core/tensor/autodp/gamma_tensor.py:149\u001b[0m, in \u001b[0;36mGammaTensor.lipschitz_bound\u001b[0;34m(self)\u001b[0m\n\u001b[1;32m    146\u001b[0m grad_fn \u001b[38;5;241m=\u001b[39m jax\u001b[38;5;241m.\u001b[39mgrad(fn)\n\u001b[1;32m    147\u001b[0m i2k, k2i, i2v, i2s \u001b[38;5;241m=\u001b[39m create_new_lookup_tables(\u001b[38;5;28mself\u001b[39m\u001b[38;5;241m.\u001b[39mstate)\n\u001b[0;32m--> 149\u001b[0m i2minval \u001b[38;5;241m=\u001b[39m \u001b[43mjnp\u001b[49m\u001b[38;5;241;43m.\u001b[39;49m\u001b[43mconcatenate\u001b[49m\u001b[43m(\u001b[49m\u001b[43m[\u001b[49m\u001b[43mx\u001b[49m\u001b[38;5;241;43m.\u001b[39;49m\u001b[43mmin_val\u001b[49m\u001b[43m \u001b[49m\u001b[38;5;28;43;01mfor\u001b[39;49;00m\u001b[43m \u001b[49m\u001b[43mx\u001b[49m\u001b[43m \u001b[49m\u001b[38;5;129;43;01min\u001b[39;49;00m\u001b[43m \u001b[49m\u001b[43mi2v\u001b[49m\u001b[43m]\u001b[49m\u001b[43m)\u001b[49m\u001b[38;5;241m.\u001b[39mreshape(\u001b[38;5;241m-\u001b[39m\u001b[38;5;241m1\u001b[39m, \u001b[38;5;241m1\u001b[39m)\n\u001b[1;32m    150\u001b[0m i2maxval \u001b[38;5;241m=\u001b[39m jnp\u001b[38;5;241m.\u001b[39mconcatenate([x\u001b[38;5;241m.\u001b[39mmax_val \u001b[38;5;28;01mfor\u001b[39;00m x \u001b[38;5;129;01min\u001b[39;00m i2v])\u001b[38;5;241m.\u001b[39mreshape(\u001b[38;5;241m-\u001b[39m\u001b[38;5;241m1\u001b[39m, \u001b[38;5;241m1\u001b[39m)\n\u001b[1;32m    151\u001b[0m bounds \u001b[38;5;241m=\u001b[39m jnp\u001b[38;5;241m.\u001b[39mconcatenate([i2minval, i2maxval], axis\u001b[38;5;241m=\u001b[39m\u001b[38;5;241m1\u001b[39m)\n",
      "File \u001b[0;32m~/PycharmProjects/PySyft/.tox/syft.jupyter/lib/python3.8/site-packages/jax/_src/numpy/lax_numpy.py:3446\u001b[0m, in \u001b[0;36mconcatenate\u001b[0;34m(arrays, axis)\u001b[0m\n\u001b[1;32m   3444\u001b[0m   \u001b[38;5;28;01mraise\u001b[39;00m \u001b[38;5;167;01mValueError\u001b[39;00m(\u001b[38;5;124m\"\u001b[39m\u001b[38;5;124mNeed at least one array to concatenate.\u001b[39m\u001b[38;5;124m\"\u001b[39m)\n\u001b[1;32m   3445\u001b[0m \u001b[38;5;28;01mif\u001b[39;00m ndim(arrays[\u001b[38;5;241m0\u001b[39m]) \u001b[38;5;241m==\u001b[39m \u001b[38;5;241m0\u001b[39m:\n\u001b[0;32m-> 3446\u001b[0m   \u001b[38;5;28;01mraise\u001b[39;00m \u001b[38;5;167;01mValueError\u001b[39;00m(\u001b[38;5;124m\"\u001b[39m\u001b[38;5;124mZero-dimensional arrays cannot be concatenated.\u001b[39m\u001b[38;5;124m\"\u001b[39m)\n\u001b[1;32m   3447\u001b[0m \u001b[38;5;28;01mif\u001b[39;00m axis \u001b[38;5;129;01mis\u001b[39;00m \u001b[38;5;28;01mNone\u001b[39;00m:\n\u001b[1;32m   3448\u001b[0m   \u001b[38;5;28;01mreturn\u001b[39;00m concatenate([ravel(a) \u001b[38;5;28;01mfor\u001b[39;00m a \u001b[38;5;129;01min\u001b[39;00m arrays], axis\u001b[38;5;241m=\u001b[39m\u001b[38;5;241m0\u001b[39m)\n",
      "\u001b[0;31mValueError\u001b[0m: Zero-dimensional arrays cannot be concatenated."
     ]
    }
   ],
   "source": [
    "d.lipschitz_bound"
   ]
  },
  {
   "cell_type": "code",
   "execution_count": 40,
   "id": "317f719a-0a88-4fc5-a669-c6a6eee9a611",
   "metadata": {},
   "outputs": [],
   "source": [
    "from syft.core.tensor.autodp.gamma_tensor import create_lookup_tables, create_new_lookup_tables"
   ]
  },
  {
   "cell_type": "code",
   "execution_count": 46,
   "id": "fc709d42-bd7d-49cc-acf7-c36559205d4e",
   "metadata": {},
   "outputs": [
    {
     "name": "stdout",
     "output_type": "stream",
     "text": [
      "788 ns ± 18.1 ns per loop (mean ± std. dev. of 7 runs, 1,000,000 loops each)\n"
     ]
    }
   ],
   "source": [
    "%%timeit\n",
    "i2k, k2i, i2v = create_lookup_tables(large_array.state)"
   ]
  },
  {
   "cell_type": "code",
   "execution_count": 47,
   "id": "9ed31790-8d19-4f6a-8c12-d114bbc435ad",
   "metadata": {},
   "outputs": [
    {
     "name": "stdout",
     "output_type": "stream",
     "text": [
      "566 ns ± 3.55 ns per loop (mean ± std. dev. of 7 runs, 1,000,000 loops each)\n"
     ]
    }
   ],
   "source": [
    "%%timeit\n",
    "i2k, k2i, i2v = create_new_lookup_tables(large_array.state)"
   ]
  },
  {
   "cell_type": "code",
   "execution_count": 48,
   "id": "49d0ff9c-7f4e-4636-aa70-4992b17a9505",
   "metadata": {},
   "outputs": [
    {
     "name": "stdout",
     "output_type": "stream",
     "text": [
      "CPU times: user 11 µs, sys: 0 ns, total: 11 µs\n",
      "Wall time: 14.3 µs\n"
     ]
    }
   ],
   "source": [
    "%%time\n",
    "i2k, k2i, i2v = create_lookup_tables(large_array.state)"
   ]
  },
  {
   "cell_type": "code",
   "execution_count": 49,
   "id": "2d941978-9f9a-4625-9ad8-f34461204b0e",
   "metadata": {},
   "outputs": [
    {
     "name": "stdout",
     "output_type": "stream",
     "text": [
      "CPU times: user 11 µs, sys: 0 ns, total: 11 µs\n",
      "Wall time: 14.8 µs\n"
     ]
    }
   ],
   "source": [
    "%%time\n",
    "i2k, k2i, i2v = create_new_lookup_tables(large_array.state)"
   ]
  },
  {
   "cell_type": "code",
   "execution_count": 51,
   "id": "08ebe7bd-b0c8-4042-a5c3-ee5f4a0576c0",
   "metadata": {},
   "outputs": [],
   "source": [
    "from collections import deque"
   ]
  },
  {
   "cell_type": "code",
   "execution_count": 52,
   "id": "da6a082b-8889-466b-8755-b7c3c16c6df3",
   "metadata": {},
   "outputs": [
    {
     "name": "stdout",
     "output_type": "stream",
     "text": [
      "CPU times: user 3 µs, sys: 1e+03 ns, total: 4 µs\n",
      "Wall time: 9.54 µs\n"
     ]
    }
   ],
   "source": [
    "%%time\n",
    "_ = deque()"
   ]
  },
  {
   "cell_type": "code",
   "execution_count": 53,
   "id": "8ba0d5f1-27f8-44b3-b0a9-78e496897611",
   "metadata": {},
   "outputs": [
    {
     "name": "stdout",
     "output_type": "stream",
     "text": [
      "CPU times: user 4 µs, sys: 2 µs, total: 6 µs\n",
      "Wall time: 9.06 µs\n"
     ]
    }
   ],
   "source": [
    "%%time\n",
    "_ = []"
   ]
  },
  {
   "cell_type": "code",
   "execution_count": 54,
   "id": "c99c1ec3-56fc-4c25-9373-f8f8fd30290c",
   "metadata": {},
   "outputs": [
    {
     "name": "stdout",
     "output_type": "stream",
     "text": [
      "47 ns ± 0.346 ns per loop (mean ± std. dev. of 7 runs, 10,000,000 loops each)\n"
     ]
    }
   ],
   "source": [
    "%%timeit\n",
    "_ = deque()"
   ]
  },
  {
   "cell_type": "code",
   "execution_count": 55,
   "id": "30136661-ecfc-4f9c-9a36-6c52d7579662",
   "metadata": {},
   "outputs": [
    {
     "name": "stdout",
     "output_type": "stream",
     "text": [
      "17.1 ns ± 0.0394 ns per loop (mean ± std. dev. of 7 runs, 100,000,000 loops each)\n"
     ]
    }
   ],
   "source": [
    "%%timeit\n",
    "_ = []"
   ]
  },
  {
   "cell_type": "code",
   "execution_count": 56,
   "id": "2bf2480c-bcad-41c0-adbb-30978ec19e8c",
   "metadata": {},
   "outputs": [
    {
     "name": "stdout",
     "output_type": "stream",
     "text": [
      "55.3 ns ± 0.609 ns per loop (mean ± std. dev. of 7 runs, 10,000,000 loops each)\n"
     ]
    }
   ],
   "source": [
    "%%timeit\n",
    "_ = list()"
   ]
  },
  {
   "cell_type": "code",
   "execution_count": null,
   "id": "d681bf70-07db-4294-84c7-13b4e745e2c5",
   "metadata": {},
   "outputs": [],
   "source": [
    "import jax\n",
    "from jax import numpy as jnp\n",
    "import flax\n",
    "from typing import Set, Union, Callable\n",
    "import random\n",
    "from scipy.optimize import shgo\n",
    "from functools import partial\n",
    "\n",
    "def create_lookup_tables(dictionary):\n",
    "\n",
    "\n",
    "    index2key = [str(x) for x in dictionary.keys()]\n",
    "    key2index = {key:i  for i, key in enumerate(index2key)}\n",
    "    index2value = [dictionary[i] for i in index2key]\n",
    "\n",
    "    return index2key, key2index, index2value\n",
    "\n",
    "def no_op(x):\n",
    "    return x\n",
    "\n",
    "@flax.struct.dataclass\n",
    "class GammaTensor:\n",
    "    value: jnp.array \n",
    "    min_val: float = flax.struct.field(pytree_node=False)\n",
    "    max_val: float = flax.struct.field(pytree_node=False)\n",
    "    func: Callable = flax.struct.field(pytree_node=False, default_factory=lambda: no_op)\n",
    "    id: str = flax.struct.field(pytree_node = False, default_factory=lambda: str(random.randint(0, 2**32 - 1)))\n",
    "    state: dict = flax.struct.field(pytree_node=False, default_factory=dict)\n",
    "\n",
    "    def __post_init__(self):\n",
    "        if len(self.state) == 0:\n",
    "            self.state[self.id] = self\n",
    "\n",
    "    def run(self, state):\n",
    "        # we hit a private input\n",
    "        if self.func is no_op:\n",
    "            inp = state[self.id]\n",
    "            if hasattr(inp, 'value'):\n",
    "                inp = inp.value\n",
    "\n",
    "            return self.func(inp)\n",
    "        return self.func(state)\n",
    "\n",
    "    def __add__(self, other):\n",
    "        state = dict()\n",
    "        state.update(self.state)\n",
    "\n",
    "        if isinstance(other, GammaTensor):\n",
    "            func = lambda state: jnp.add(self.run(state), other.run(state))\n",
    "            state.update(other.state)\n",
    "            value = self.value + other.value\n",
    "        else:\n",
    "            func = lambda state: jnp.add(self.run(state), other)      \n",
    "            value = self.value + other\n",
    "\n",
    "        return GammaTensor(value=value, min_val=0, max_val=10, func=func, state=state)\n",
    "    \n",
    "    def __sub__(self, other):\n",
    "        state = dict()\n",
    "        state.update(self.state)\n",
    "\n",
    "        if isinstance(other, GammaTensor):\n",
    "            func = lambda state: jnp.subtract(self.run(state), other.run(state))\n",
    "            state.update(other.state)\n",
    "            value = self.value - other.value\n",
    "        else:\n",
    "            func = lambda state: jnp.subtract(self.run(state), other)      \n",
    "            value = self.value - other\n",
    "\n",
    "        return GammaTensor(value=value, min_val=0, max_val=10, func=func, state=state)\n",
    "\n",
    "    def __mul__(self, other):\n",
    "        state = dict()\n",
    "        state.update(self.state)\n",
    "\n",
    "        if isinstance(other, GammaTensor):\n",
    "            func = lambda state: jnp.multiply(self.run(state), other.run(state))\n",
    "            state.update(other.state)\n",
    "            value = self.value * other.value\n",
    "        else:\n",
    "            func = lambda state: jnp.multiply(self.run(state), other)      \n",
    "            value = self.value * other\n",
    "\n",
    "        return GammaTensor(value=value, min_val=0, max_val=10, func=func, state=state)\n",
    "    \n",
    "    def sum(self):\n",
    "        state = dict()\n",
    "        state.update(self.state)\n",
    "        \n",
    "        func = lambda state: jnp.sum(self.run(state))\n",
    "        value = jnp.sum(self.value)\n",
    "        \n",
    "        return GammaTensor(value=value, min_val=0, max_val=0, func=func, state=state)\n",
    "    \n",
    "    def __pow__(self, *args, **kwargs):\n",
    "        state = dict()\n",
    "        state.update(self.state)\n",
    "        \n",
    "        func = lambda state: self.run(state).__pow__(*args, **kwargs)\n",
    "        value = jnp.power(self.value, *args, **kwargs)\n",
    "        \n",
    "        return GammaTensor(value=value, min_val=0, max_val=0, func=func, state=state)    \n",
    "\n",
    "    @property\n",
    "    def lipschitz_bound(self):\n",
    "\n",
    "        fn = jax.jit(self.func)\n",
    "        grad_fn = jax.grad(fn)\n",
    "        i2k, k2i, i2v = create_lookup_tables(self.state)\n",
    "        i2size = [x.value.size for x in i2v]\n",
    "\n",
    "        i2minval = jnp.concatenate([x.min_val for x in i2v]).reshape(-1,1)\n",
    "        i2maxval = jnp.concatenate([x.max_val for x in i2v]).reshape(-1,1)\n",
    "        bounds = jnp.concatenate([i2minval, i2maxval], axis=1)\n",
    "\n",
    "        sample_input = i2minval.reshape(-1)\n",
    "        def max_grad_fn(input):\n",
    "\n",
    "            vectors = {}\n",
    "            n = 0\n",
    "            for i, size_param in enumerate(i2size):\n",
    "                vectors[i2k[i]] = input[n:n+size_param]\n",
    "                n+=size_param\n",
    "\n",
    "            grad_pred = grad_fn(vectors)\n",
    "\n",
    "            m = 0\n",
    "            for value in grad_pred.values():\n",
    "                m = max(m, jnp.max(value))\n",
    "\n",
    "            # return negative because we want to maximize instaed of minimize\n",
    "            return -m\n",
    "\n",
    "        res = shgo(max_grad_fn, bounds, iters=1, constraints=tuple())\n",
    "           \n",
    "        # return negative because we flipped earlier\n",
    "        return -float(res.fun)\n",
    "    \n",
    "data = GammaTensor(value=jnp.array([1.,2,3,4]), min_val=jnp.array([0.,0,0,0]), max_val=jnp.array([4.,4,4,4]))\n",
    "target = GammaTensor(value=jnp.array([4.,4,4,4]), min_val=jnp.array([0.,0,0,0]), max_val=jnp.array([4.,4,4,4]))\n",
    "weights = GammaTensor(value=jnp.array([1.,2,1,0]), min_val=jnp.array([0.,0,0,0]), max_val=jnp.array([4.,4,4,4]))\n",
    "\n",
    "for epoch in range(10):\n",
    "    pred = (data + weights)\n",
    "    loss = ((pred - target)**2).sum()\n",
    "    grads = jax.grad(loss.func)(loss.state)\n",
    "    \n",
    "    lipschitz = grads[data.id].sum().lipschitz_bound\n",
    "    \n",
    "    weights = GammaTensor(value=(weights.value - grads[weights.id].value * 0.1), min_val=jnp.array([0.,0,0,0]), max_val=jnp.array([4.,4,4,4]))\n",
    "    print(loss.func(loss.state), lipschitz)"
   ]
  }
 ],
 "metadata": {
  "kernelspec": {
   "display_name": "Python 3 (ipykernel)",
   "language": "python",
   "name": "python3"
  },
  "language_info": {
   "codemirror_mode": {
    "name": "ipython",
    "version": 3
   },
   "file_extension": ".py",
   "mimetype": "text/x-python",
   "name": "python",
   "nbconvert_exporter": "python",
   "pygments_lexer": "ipython3",
   "version": "3.8.10"
  }
 },
 "nbformat": 4,
 "nbformat_minor": 5
}
