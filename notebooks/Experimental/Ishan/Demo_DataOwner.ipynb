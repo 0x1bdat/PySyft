{
 "cells": [
  {
   "cell_type": "markdown",
   "metadata": {},
   "source": [
    "<h1>Data Owner </h1>"
   ]
  },
  {
   "cell_type": "code",
   "execution_count": 4,
   "metadata": {},
   "outputs": [],
   "source": [
    "# Import libraries\n",
    "import syft as sy\n",
    "import torch\n",
    "import numpy as np\n",
    "from syft.core.adp.entity import Entity"
   ]
  },
  {
   "cell_type": "code",
   "execution_count": 5,
   "metadata": {},
   "outputs": [
    {
     "name": "stdout",
     "output_type": "stream",
     "text": [
      "Connecting to http://localhost:8081..."
     ]
    },
    {
     "name": "stderr",
     "output_type": "stream",
     "text": [
      "[2021-08-11T15:01:57.202398+0100][CRITICAL][logger]][20514] Skipping torchvision.torchvision.datasets.Omniglot not supported in 0.7.0\n",
      "[2021-08-11T15:01:57.203117+0100][CRITICAL][logger]][20514] Skipping torchvision.torchvision.datasets.Omniglot.__len__ not supported in 0.7.0\n",
      "[2021-08-11T15:01:57.204241+0100][CRITICAL][logger]][20514] Skipping torchvision.torchvision.datasets.Places365 not supported in 0.7.0\n",
      "[2021-08-11T15:01:57.204876+0100][CRITICAL][logger]][20514] Skipping torchvision.torchvision.datasets.Places365.__len__ not supported in 0.7.0\n",
      "[2021-08-11T15:01:57.206934+0100][CRITICAL][logger]][20514] Skipping torchvision.torchvision.transforms.GaussianBlur not supported in 0.7.0\n",
      "[2021-08-11T15:01:57.207792+0100][CRITICAL][logger]][20514] Skipping torchvision.torchvision.transforms.ConvertImageDtype not supported in 0.7.0\n",
      "[2021-08-11T15:01:57.209201+0100][CRITICAL][logger]][20514] Skipping torchvision.torchvision.transforms.functional.adjust_sharpness not supported in 0.7.0\n",
      "[2021-08-11T15:01:57.209852+0100][CRITICAL][logger]][20514] Skipping torchvision.torchvision.transforms.functional.autocontrast not supported in 0.7.0\n",
      "[2021-08-11T15:01:57.210750+0100][CRITICAL][logger]][20514] Skipping torchvision.torchvision.transforms.functional.equalize not supported in 0.7.0\n",
      "[2021-08-11T15:01:57.211755+0100][CRITICAL][logger]][20514] Skipping torchvision.torchvision.transforms.functional.gaussian_blur not supported in 0.7.0\n",
      "[2021-08-11T15:01:57.212702+0100][CRITICAL][logger]][20514] Skipping torchvision.torchvision.transforms.functional.invert not supported in 0.7.0\n",
      "[2021-08-11T15:01:57.213868+0100][CRITICAL][logger]][20514] Skipping torchvision.torchvision.transforms.functional.posterize not supported in 0.7.0\n",
      "[2021-08-11T15:01:57.214668+0100][CRITICAL][logger]][20514] Skipping torchvision.torchvision.transforms.functional.rgb_to_grayscale not supported in 0.7.0\n",
      "[2021-08-11T15:01:57.216767+0100][CRITICAL][logger]][20514] Skipping torchvision.torchvision.transforms.functional.solarize not supported in 0.7.0\n"
     ]
    },
    {
     "name": "stdout",
     "output_type": "stream",
     "text": [
      " done! \t Logging into canada... done!\n"
     ]
    }
   ],
   "source": [
    "# Login to new Domain \n",
    "uk = sy.login(email=\"info@openmined.org\", password=\"changethis\", port=8081)"
   ]
  },
  {
   "cell_type": "code",
   "execution_count": 13,
   "metadata": {},
   "outputs": [
    {
     "data": {
      "text/html": [
       "<div>\n",
       "<style scoped>\n",
       "    .dataframe tbody tr th:only-of-type {\n",
       "        vertical-align: middle;\n",
       "    }\n",
       "\n",
       "    .dataframe tbody tr th {\n",
       "        vertical-align: top;\n",
       "    }\n",
       "\n",
       "    .dataframe thead th {\n",
       "        text-align: right;\n",
       "    }\n",
       "</style>\n",
       "<table border=\"1\" class=\"dataframe\">\n",
       "  <thead>\n",
       "    <tr style=\"text-align: right;\">\n",
       "      <th></th>\n",
       "    </tr>\n",
       "  </thead>\n",
       "  <tbody>\n",
       "  </tbody>\n",
       "</table>\n",
       "</div>"
      ],
      "text/plain": [
       "[]"
      ]
     },
     "execution_count": 13,
     "metadata": {},
     "output_type": "execute_result"
    }
   ],
   "source": [
    "# Look at data already in the Domain\n",
    "uk.store"
   ]
  },
  {
   "cell_type": "code",
   "execution_count": 19,
   "metadata": {
    "tags": []
   },
   "outputs": [],
   "source": [
    "# Load some sample data\n",
    "data_batch = np.random.rand(1, 3)\n",
    "label_batch = np.random.rand(1, 3)\n",
    "\n",
    "# Initialize an Entity object named Ishan\n",
    "ishan = Entity(name=\"Ishan\")\n",
    "\n",
    "# Upload a private dataset to the Domain object, as the root owner\n",
    "data = sy.Tensor(data_batch).private(0, 120, entity=ishan).autograd(requires_grad=True).tag(\"data\")\n",
    "target = sy.Tensor(label_batch).private(0.01, 1, entity=ishan).autograd(requires_grad=True).tag(\"target\")"
   ]
  },
  {
   "cell_type": "code",
   "execution_count": 20,
   "metadata": {},
   "outputs": [],
   "source": [
    "# Send data to the domain object\n",
    "data_ptr = data.send(uk)"
   ]
  },
  {
   "cell_type": "code",
   "execution_count": 21,
   "metadata": {},
   "outputs": [],
   "source": [
    "target_ptr = target.send(uk)"
   ]
  },
  {
   "cell_type": "code",
   "execution_count": 16,
   "metadata": {},
   "outputs": [
    {
     "name": "stdout",
     "output_type": "stream",
     "text": [
      "[<UID: 727a531b5d6e4a5fb7d7f4fbe4dae72d>, <UID: 83f6979e005b4f388698ebff6dd2c4b3>]\n"
     ]
    }
   ],
   "source": [
    "# Step 3: Verify data was logged correctly\n",
    "print([i.id_at_location for i in (data_ptr, target_ptr)])"
   ]
  },
  {
   "cell_type": "code",
   "execution_count": 23,
   "metadata": {},
   "outputs": [
    {
     "data": {
      "text/html": [
       "<div>\n",
       "<style scoped>\n",
       "    .dataframe tbody tr th:only-of-type {\n",
       "        vertical-align: middle;\n",
       "    }\n",
       "\n",
       "    .dataframe tbody tr th {\n",
       "        vertical-align: top;\n",
       "    }\n",
       "\n",
       "    .dataframe thead th {\n",
       "        text-align: right;\n",
       "    }\n",
       "</style>\n",
       "<table border=\"1\" class=\"dataframe\">\n",
       "  <thead>\n",
       "    <tr style=\"text-align: right;\">\n",
       "      <th></th>\n",
       "      <th>ID</th>\n",
       "      <th>Tags</th>\n",
       "      <th>Description</th>\n",
       "      <th>object_type</th>\n",
       "    </tr>\n",
       "  </thead>\n",
       "  <tbody>\n",
       "    <tr>\n",
       "      <th>0</th>\n",
       "      <td>&lt;UID: ebdbf84829864d188437220b4c4bbc79&gt;</td>\n",
       "      <td>[]</td>\n",
       "      <td></td>\n",
       "      <td>&lt;class 'syft.lib.python.Int'&gt;</td>\n",
       "    </tr>\n",
       "    <tr>\n",
       "      <th>1</th>\n",
       "      <td>&lt;UID: 56eedb1f6a13465c865ccf74f3559b3a&gt;</td>\n",
       "      <td>[data]</td>\n",
       "      <td></td>\n",
       "      <td>&lt;class 'syft.core.tensor.tensor.Tensor'&gt;</td>\n",
       "    </tr>\n",
       "    <tr>\n",
       "      <th>2</th>\n",
       "      <td>&lt;UID: bbe22e3030f1428c948a8404d7058b08&gt;</td>\n",
       "      <td>[target]</td>\n",
       "      <td></td>\n",
       "      <td>&lt;class 'syft.core.tensor.tensor.Tensor'&gt;</td>\n",
       "    </tr>\n",
       "  </tbody>\n",
       "</table>\n",
       "</div>"
      ],
      "text/plain": [
       "[<syft.proxy.syft.lib.python.IntPointer object at 0x7fcf48ffe810>, <syft.proxy.syft.core.tensor.tensor.TensorPointer object at 0x7fcf2989eb90>, <syft.proxy.syft.core.tensor.tensor.TensorPointer object at 0x7fcf2989ecd0>]"
      ]
     },
     "execution_count": 23,
     "metadata": {},
     "output_type": "execute_result"
    }
   ],
   "source": [
    "uk.store"
   ]
  },
  {
   "cell_type": "code",
   "execution_count": null,
   "metadata": {},
   "outputs": [],
   "source": []
  },
  {
   "cell_type": "code",
   "execution_count": null,
   "metadata": {},
   "outputs": [],
   "source": []
  }
 ],
 "metadata": {
  "kernelspec": {
   "display_name": "Python 3",
   "language": "python",
   "name": "python3"
  },
  "language_info": {
   "codemirror_mode": {
    "name": "ipython",
    "version": 3
   },
   "file_extension": ".py",
   "mimetype": "text/x-python",
   "name": "python",
   "nbconvert_exporter": "python",
   "pygments_lexer": "ipython3",
   "version": "3.7.9"
  }
 },
 "nbformat": 4,
 "nbformat_minor": 5
}
