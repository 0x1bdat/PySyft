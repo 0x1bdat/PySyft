{
 "cells": [
  {
   "cell_type": "code",
   "execution_count": 1,
   "id": "128e0a96-e001-413a-9696-9d3504d05e7e",
   "metadata": {},
   "outputs": [],
   "source": [
    "import syft as sy"
   ]
  },
  {
   "cell_type": "code",
   "execution_count": 2,
   "id": "042b71be-16d6-4bfc-95b1-3be86a02d296",
   "metadata": {},
   "outputs": [],
   "source": [
    "from syft.core.node.common.node_manager.ledger_manager import LedgerManager\n",
    "from sqlalchemy import create_engine\n",
    "from syft.core.adp.idp_gaussian_mechanism import iDPGaussianMechanism\n",
    "from syft.core.node.common.node_table import Base\n",
    "from syft.core.adp.entity import Entity\n",
    "from syft.core.adp.adversarial_accountant import AdversarialAccountant\n",
    "from syft import serialize,deserialize\n",
    "\n",
    "engine = create_engine(\"sqlite:///nodedatabase.db\", pool_pre_ping=True)\n",
    "Base.metadata.create_all(engine)\n",
    "\n",
    "mechanism1 = iDPGaussianMechanism(1.0,2.0,3.0, \"Trask\")\n",
    "\n",
    "trask = Entity(name=\"Trask\")\n",
    "\n",
    "ad = AdversarialAccountant(db_engine=engine, max_budget=20)"
   ]
  },
  {
   "cell_type": "code",
   "execution_count": 3,
   "id": "c324c05a-3249-4e68-a797-24f1f1ab1154",
   "metadata": {},
   "outputs": [],
   "source": [
    "ad.append({trask.name : [mechanism1]})"
   ]
  },
  {
   "cell_type": "code",
   "execution_count": 4,
   "id": "eff157dc-2aeb-4d0e-980c-69fa9736442e",
   "metadata": {},
   "outputs": [
    {
     "data": {
      "text/plain": [
       "<syft.core.adp.adversarial_accountant.AdversarialAccountant at 0x7fcea0c995b0>"
      ]
     },
     "execution_count": 4,
     "metadata": {},
     "output_type": "execute_result"
    }
   ],
   "source": []
  },
  {
   "cell_type": "code",
   "execution_count": null,
   "id": "ec4d81ed-f762-49d7-94e2-08f1b7b08735",
   "metadata": {},
   "outputs": [],
   "source": []
  }
 ],
 "metadata": {
  "kernelspec": {
   "display_name": "Python 3 (ipykernel)",
   "language": "python",
   "name": "python3"
  },
  "language_info": {
   "codemirror_mode": {
    "name": "ipython",
    "version": 3
   },
   "file_extension": ".py",
   "mimetype": "text/x-python",
   "name": "python",
   "nbconvert_exporter": "python",
   "pygments_lexer": "ipython3",
   "version": "3.8.10"
  }
 },
 "nbformat": 4,
 "nbformat_minor": 5
}
