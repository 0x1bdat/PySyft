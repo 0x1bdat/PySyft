{
 "cells": [
  {
   "cell_type": "code",
   "execution_count": 9,
   "id": "d41d9d10",
   "metadata": {},
   "outputs": [],
   "source": [
    "# %load_ext autoreload\n",
    "# %autoreload 2"
   ]
  },
  {
   "cell_type": "code",
   "execution_count": 18,
   "id": "d5da7ab6",
   "metadata": {},
   "outputs": [],
   "source": [
    "import syft as sy\n",
    "import numpy as np\n",
    "import pandas as pd"
   ]
  },
  {
   "cell_type": "code",
   "execution_count": 2,
   "id": "d899b31b",
   "metadata": {},
   "outputs": [
    {
     "name": "stdout",
     "output_type": "stream",
     "text": [
      "Connecting to http://localhost:8081... done! \t Logging into mednode... done!\n"
     ]
    }
   ],
   "source": [
    "domain = sy.login(\n",
    "    email=\"info@openmined.org\",\n",
    "    password=\"changethis\",\n",
    "    port=8081,\n",
    "\n",
    ")"
   ]
  },
  {
   "cell_type": "code",
   "execution_count": 4,
   "id": "504342e0",
   "metadata": {},
   "outputs": [
    {
     "name": "stdout",
     "output_type": "stream",
     "text": [
      ".\n",
      "\n",
      "WARNING - Dataset Name Conflict: A dataset named 'Empty Dataset' already exists.\n",
      "\n",
      "Do you want to upload this dataset anyway? (y/n)y\n",
      "\n",
      "Creating an empty dataset... Creating... SUCCESS!"
     ]
    }
   ],
   "source": [
    "# Let's create an empty dataset\n",
    "\n",
    "domain.create_dataset(\n",
    "    name=\"Empty Dataset\",\n",
    "    description=\"Test delete\",\n",
    ")"
   ]
  },
  {
   "cell_type": "code",
   "execution_count": 10,
   "id": "e5fce563",
   "metadata": {},
   "outputs": [
    {
     "data": {
      "text/html": [
       "<style>\n",
       "                #myInput {\n",
       "                  background-position: 10px 12px; /* Position the search icon */\n",
       "                  background-repeat: no-repeat; /* Do not repeat the icon image */\n",
       "                  background-color: #bbb;\n",
       "                  width: 98%; /* Full-width */\n",
       "                  font-size: 14px; /* Increase font-size */\n",
       "                  padding: 12px 20px 12px 40px; /* Add some padding */\n",
       "                  border: 1px solid #ddd; /* Add a grey border */\n",
       "                  margin-bottom: 12px; /* Add some space below the input */\n",
       "                }\n",
       "\n",
       "                #myTable {\n",
       "                  border-collapse: collapse; /* Collapse borders */\n",
       "                  width: 100%; /* Full-width */\n",
       "                  border: 1px solid #ddd; /* Add a grey border */\n",
       "                  font-size: 14px; /* Increase font-size */\n",
       "                }\n",
       "\n",
       "                #myTable th, #myTable td {\n",
       "                  text-align: left; /* Left-align text */\n",
       "                  padding: 10px; /* Add padding */\n",
       "                }\n",
       "\n",
       "                #myTable tr {\n",
       "                  /* Add a bottom border to all table rows */\n",
       "                  border-bottom: 1px solid #ddd;\n",
       "                }\n",
       "\n",
       "                #myTable tr.header, #myTable tr:hover {\n",
       "                  /* Add a grey background color to the table header and on hover */\n",
       "                  background-color: #777;\n",
       "                }\n",
       "                </style>\n",
       "\n",
       "                <input type=\"text\" id=\"myInput\" onkeyup=\"myFunction()\" placeholder=\"Search for datasets..\">\n",
       "\n",
       "                <table id=\"myTable\">\n",
       "                  <tr class=\"header\">\n",
       "                    <th style=\"width:30px\">Idx</th>\n",
       "                    <th style=\"width:20%;\">Name</th>\n",
       "                    <th style=\"width:35%;\">Description</th>\n",
       "                    <th style=\"width:20%;\">Assets</th>\n",
       "                    <th style=\"width:300px;\">Id</th>\n",
       "                  </tr>\n",
       "                \n",
       "\n",
       "          <tr>\n",
       "            <td>[0]</td>\n",
       "            <td>Empty Dataset</td>\n",
       "            <td>Test delete</td>\n",
       "            <td></td>\n",
       "            <td>17030881-6f2a-45e0-8283-434fdd014740</td>\n",
       "          </tr>\n",
       "        </table>\n",
       "\n",
       "        <script>\n",
       "        function myFunction() {\n",
       "          // Declare variables\n",
       "          var input, filter, table, tr, td, i, txtValue;\n",
       "          input = document.getElementById(\"myInput\");\n",
       "          filter = input.value.toUpperCase();\n",
       "          table = document.getElementById(\"myTable\");\n",
       "          tr = table.getElementsByTagName(\"tr\");\n",
       "\n",
       "          // Loop through all table rows, and hide those who don't match the search query\n",
       "          for (i = 0; i < tr.length; i++) {\n",
       "            name_td = tr[i].getElementsByTagName(\"td\")[1];\n",
       "            desc_td = tr[i].getElementsByTagName(\"td\")[2];\n",
       "            asset_td = tr[i].getElementsByTagName(\"td\")[3];\n",
       "            id_td = tr[i].getElementsByTagName(\"td\")[4];\n",
       "            if (name_td || desc_td || asset_td || id_td) {\n",
       "              name_txtValue = name_td.textContent || name_td.innerText;\n",
       "              desc_txtValue = desc_td.textContent || name_td.innerText;\n",
       "              asset_txtValue = asset_td.textContent || name_td.innerText;\n",
       "              id_txtValue = id_td.textContent || name_td.innerText;\n",
       "              name_bool = name_txtValue.toUpperCase().indexOf(filter) > -1;\n",
       "              desc_bool = desc_txtValue.toUpperCase().indexOf(filter) > -1;\n",
       "              asset_bool = asset_txtValue.toUpperCase().indexOf(filter) > -1;\n",
       "              id_bool = id_txtValue.toUpperCase().indexOf(filter) > -1;\n",
       "              if (name_bool || desc_bool || asset_bool || id_bool) {\n",
       "                tr[i].style.display = \"\";\n",
       "              } else {\n",
       "                tr[i].style.display = \"none\";\n",
       "              }\n",
       "            }\n",
       "          }\n",
       "        }\n",
       "        </script>"
      ],
      "text/plain": [
       "<syft.core.node.common.client_manager.dataset_api.DatasetRequestAPI at 0x7f0bd919da90>"
      ]
     },
     "execution_count": 10,
     "metadata": {},
     "output_type": "execute_result"
    }
   ],
   "source": [
    "# We can see that there are not existing assets attached to the dataset\n",
    "domain.datasets"
   ]
  },
  {
   "cell_type": "code",
   "execution_count": 15,
   "id": "04277455",
   "metadata": {},
   "outputs": [],
   "source": [
    "# Let's grab the dataset pointer\n",
    "dataset_pointer = domain.datasets[0]"
   ]
  },
  {
   "cell_type": "code",
   "execution_count": 16,
   "id": "f177e4ee",
   "metadata": {},
   "outputs": [
    {
     "name": "stdout",
     "output_type": "stream",
     "text": [
      "Dataset: Empty Dataset\n",
      "Description: Test delete\n",
      "\n"
     ]
    },
    {
     "data": {
      "text/html": [
       "<style>\n",
       "        #myInput {\n",
       "          background-position: 10px 12px; /* Position the search icon */\n",
       "          background-repeat: no-repeat; /* Do not repeat the icon image */\n",
       "          background-color: #bbb;\n",
       "          width: 98%; /* Full-width */\n",
       "          font-size: 14px; /* Increase font-size */\n",
       "          padding: 12px 20px 12px 40px; /* Add some padding */\n",
       "          border: 1px solid #ddd; /* Add a grey border */\n",
       "          margin-bottom: 12px; /* Add some space below the input */\n",
       "        }\n",
       "\n",
       "        #myTable {\n",
       "          border-collapse: collapse; /* Collapse borders */\n",
       "          width: 50%; /* Full-width */\n",
       "          border: 1px solid #ddd; /* Add a grey border */\n",
       "          font-size: 14px; /* Increase font-size */\n",
       "        }\n",
       "\n",
       "        #myTable th, #myTable td {\n",
       "          text-align: left; /* Left-align text */\n",
       "          padding: 10px; /* Add padding */\n",
       "        }\n",
       "\n",
       "        #myTable tr {\n",
       "          /* Add a bottom border to all table rows */\n",
       "          border-bottom: 1px solid #ddd;\n",
       "        }\n",
       "\n",
       "        #myTable tr.header, #myTable tr:hover {\n",
       "          /* Add a grey background color to the table header and on hover */\n",
       "          background-color: #777;\n",
       "        }\n",
       "        </style>\n",
       "\n",
       "        <table id=\"myTable\">\n",
       "          <tr class=\"header\">\n",
       "            <th style=\"width:15%;\">Asset Key</th>\n",
       "            <th style=\"width:20%;\">Type</th>\n",
       "            <th style=\"width:10%;\">Shape</th>\n",
       "          </tr>\n",
       "        \n",
       "        </table>\n",
       "\n",
       "        "
      ],
      "text/plain": [
       "<syft.core.node.common.client_manager.dataset_api.Dataset at 0x7f0bd7a9a880>"
      ]
     },
     "execution_count": 16,
     "metadata": {},
     "output_type": "execute_result"
    }
   ],
   "source": [
    "dataset_pointer"
   ]
  },
  {
   "cell_type": "code",
   "execution_count": 23,
   "id": "70cb8d45",
   "metadata": {},
   "outputs": [
    {
     "name": "stdout",
     "output_type": "stream",
     "text": [
      "\n",
      "\n",
      "WARNING - Non-DP Asset: You just passed in a asset 'random-asset' which cannot be tracked with differential privacy because it is a <class 'numpy.ndarray'> object.\n",
      "\n",
      "This means you'll need to manually approve any requests which leverage this data. If this is ok with you, proceed. If you'd like to use automatic differential privacy budgeting, please pass in a DP-compatible tensor type such as by calling .private() on a sy.Tensor with a np.int32 or np.float32 inside.\n",
      "Are you sure you want to proceed? (y/n)y\n",
      "Loading dataset... uploading... SUCCESS!"
     ]
    }
   ],
   "source": [
    "# Let's add a random asset to the dataset\n",
    "\n",
    "dataset_pointer.add(name=\"random-asset\", value=np.random.rand(100, 8))"
   ]
  },
  {
   "cell_type": "code",
   "execution_count": 24,
   "id": "b4477f2f",
   "metadata": {},
   "outputs": [
    {
     "name": "stdout",
     "output_type": "stream",
     "text": [
      "Dataset: Empty Dataset\n",
      "Description: Test delete\n",
      "\n"
     ]
    },
    {
     "data": {
      "text/html": [
       "<style>\n",
       "        #myInput {\n",
       "          background-position: 10px 12px; /* Position the search icon */\n",
       "          background-repeat: no-repeat; /* Do not repeat the icon image */\n",
       "          background-color: #bbb;\n",
       "          width: 98%; /* Full-width */\n",
       "          font-size: 14px; /* Increase font-size */\n",
       "          padding: 12px 20px 12px 40px; /* Add some padding */\n",
       "          border: 1px solid #ddd; /* Add a grey border */\n",
       "          margin-bottom: 12px; /* Add some space below the input */\n",
       "        }\n",
       "\n",
       "        #myTable {\n",
       "          border-collapse: collapse; /* Collapse borders */\n",
       "          width: 50%; /* Full-width */\n",
       "          border: 1px solid #ddd; /* Add a grey border */\n",
       "          font-size: 14px; /* Increase font-size */\n",
       "        }\n",
       "\n",
       "        #myTable th, #myTable td {\n",
       "          text-align: left; /* Left-align text */\n",
       "          padding: 10px; /* Add padding */\n",
       "        }\n",
       "\n",
       "        #myTable tr {\n",
       "          /* Add a bottom border to all table rows */\n",
       "          border-bottom: 1px solid #ddd;\n",
       "        }\n",
       "\n",
       "        #myTable tr.header, #myTable tr:hover {\n",
       "          /* Add a grey background color to the table header and on hover */\n",
       "          background-color: #777;\n",
       "        }\n",
       "        </style>\n",
       "\n",
       "        <table id=\"myTable\">\n",
       "          <tr class=\"header\">\n",
       "            <th style=\"width:15%;\">Asset Key</th>\n",
       "            <th style=\"width:20%;\">Type</th>\n",
       "            <th style=\"width:10%;\">Shape</th>\n",
       "          </tr>\n",
       "        \n",
       "\n",
       "              <tr>\n",
       "            <td>[\"random-asset\"]</td>\n",
       "            <td>ndarray</td>\n",
       "            <td>(100, 8)</td>\n",
       "          </tr>\n",
       "        </table>\n",
       "\n",
       "        "
      ],
      "text/plain": [
       "<syft.core.node.common.client_manager.dataset_api.Dataset at 0x7f0bd7a9a880>"
      ]
     },
     "execution_count": 24,
     "metadata": {},
     "output_type": "execute_result"
    }
   ],
   "source": [
    "# Let's check the dataset pointer\n",
    "dataset_pointer"
   ]
  },
  {
   "cell_type": "code",
   "execution_count": 25,
   "id": "7e6f7891",
   "metadata": {},
   "outputs": [
    {
     "name": "stdout",
     "output_type": "stream",
     "text": [
      "\n",
      "\n",
      "WARNING - Non-DP Asset: You just passed in a asset 'random-asset' which cannot be tracked with differential privacy because it is a <class 'numpy.ndarray'> object.\n",
      "\n",
      "This means you'll need to manually approve any requests which leverage this data. If this is ok with you, proceed. If you'd like to use automatic differential privacy budgeting, please pass in a DP-compatible tensor type such as by calling .private() on a sy.Tensor with a np.int32 or np.float32 inside.\n",
      "Are you sure you want to proceed? (y/n)y\n"
     ]
    },
    {
     "ename": "KeyError",
     "evalue": "'Asset with name: `random-asset` already exists.Please use a different name.'",
     "output_type": "error",
     "traceback": [
      "\u001b[0;31m---------------------------------------------------------------------------\u001b[0m",
      "\u001b[0;31mKeyError\u001b[0m                                  Traceback (most recent call last)",
      "\u001b[0;32m/tmp/ipykernel_152124/3217912206.py\u001b[0m in \u001b[0;36m<module>\u001b[0;34m\u001b[0m\n\u001b[1;32m      2\u001b[0m \u001b[0;31m# Let's try an asset with the same name again\u001b[0m\u001b[0;34m\u001b[0m\u001b[0;34m\u001b[0m\u001b[0;34m\u001b[0m\u001b[0m\n\u001b[1;32m      3\u001b[0m \u001b[0;34m\u001b[0m\u001b[0m\n\u001b[0;32m----> 4\u001b[0;31m \u001b[0mdataset_pointer\u001b[0m\u001b[0;34m.\u001b[0m\u001b[0madd\u001b[0m\u001b[0;34m(\u001b[0m\u001b[0mname\u001b[0m\u001b[0;34m=\u001b[0m\u001b[0;34m\"random-asset\"\u001b[0m\u001b[0;34m,\u001b[0m \u001b[0mvalue\u001b[0m\u001b[0;34m=\u001b[0m\u001b[0mnp\u001b[0m\u001b[0;34m.\u001b[0m\u001b[0mrandom\u001b[0m\u001b[0;34m.\u001b[0m\u001b[0mrand\u001b[0m\u001b[0;34m(\u001b[0m\u001b[0;36m50\u001b[0m\u001b[0;34m,\u001b[0m \u001b[0;36m4\u001b[0m\u001b[0;34m)\u001b[0m\u001b[0;34m)\u001b[0m\u001b[0;34m\u001b[0m\u001b[0;34m\u001b[0m\u001b[0m\n\u001b[0m",
      "\u001b[0;32m~/Documents/myfolder/pysyft/PySyft/packages/syft/src/syft/core/node/common/client_manager/dataset_api.py\u001b[0m in \u001b[0;36madd\u001b[0;34m(self, name, value, skip_checks)\u001b[0m\n\u001b[1;32m    383\u001b[0m             \u001b[0mexisting_asset_names\u001b[0m \u001b[0;34m=\u001b[0m \u001b[0;34m[\u001b[0m\u001b[0md\u001b[0m\u001b[0;34m.\u001b[0m\u001b[0mget\u001b[0m\u001b[0;34m(\u001b[0m\u001b[0;34m\"name\"\u001b[0m\u001b[0;34m)\u001b[0m \u001b[0;32mfor\u001b[0m \u001b[0md\u001b[0m \u001b[0;32min\u001b[0m \u001b[0mself\u001b[0m\u001b[0;34m.\u001b[0m\u001b[0mdata\u001b[0m\u001b[0;34m]\u001b[0m\u001b[0;34m\u001b[0m\u001b[0;34m\u001b[0m\u001b[0m\n\u001b[1;32m    384\u001b[0m             \u001b[0;32mif\u001b[0m \u001b[0mname\u001b[0m \u001b[0;32min\u001b[0m \u001b[0mexisting_asset_names\u001b[0m\u001b[0;34m:\u001b[0m\u001b[0;34m\u001b[0m\u001b[0;34m\u001b[0m\u001b[0m\n\u001b[0;32m--> 385\u001b[0;31m                 raise KeyError(\n\u001b[0m\u001b[1;32m    386\u001b[0m                     \u001b[0;34mf\"Asset with name: `{name}` already exists.\"\u001b[0m\u001b[0;34m\u001b[0m\u001b[0;34m\u001b[0m\u001b[0m\n\u001b[1;32m    387\u001b[0m                     \u001b[0;34m\"Please use a different name.\"\u001b[0m\u001b[0;34m\u001b[0m\u001b[0;34m\u001b[0m\u001b[0m\n",
      "\u001b[0;31mKeyError\u001b[0m: 'Asset with name: `random-asset` already exists.Please use a different name.'"
     ]
    }
   ],
   "source": [
    "# Great !!! we have an asset attached to the dataset\n",
    "# Let's try an asset with the same name again\n",
    "\n",
    "dataset_pointer.add(name=\"random-asset\", value=np.random.rand(50, 4))"
   ]
  },
  {
   "cell_type": "code",
   "execution_count": 26,
   "id": "9ebd89bd",
   "metadata": {},
   "outputs": [
    {
     "data": {
      "text/plain": [
       "True"
      ]
     },
     "execution_count": 26,
     "metadata": {},
     "output_type": "execute_result"
    }
   ],
   "source": [
    "# Great!!! So, we cannot add asset with the same name.\n",
    "# Let's try and delete the asset\n",
    "\n",
    "dataset_pointer.delete(name=\"random-asset\")"
   ]
  },
  {
   "cell_type": "code",
   "execution_count": 27,
   "id": "ec06ebd1",
   "metadata": {},
   "outputs": [
    {
     "name": "stdout",
     "output_type": "stream",
     "text": [
      "Dataset: Empty Dataset\n",
      "Description: Test delete\n",
      "\n"
     ]
    },
    {
     "data": {
      "text/html": [
       "<style>\n",
       "        #myInput {\n",
       "          background-position: 10px 12px; /* Position the search icon */\n",
       "          background-repeat: no-repeat; /* Do not repeat the icon image */\n",
       "          background-color: #bbb;\n",
       "          width: 98%; /* Full-width */\n",
       "          font-size: 14px; /* Increase font-size */\n",
       "          padding: 12px 20px 12px 40px; /* Add some padding */\n",
       "          border: 1px solid #ddd; /* Add a grey border */\n",
       "          margin-bottom: 12px; /* Add some space below the input */\n",
       "        }\n",
       "\n",
       "        #myTable {\n",
       "          border-collapse: collapse; /* Collapse borders */\n",
       "          width: 50%; /* Full-width */\n",
       "          border: 1px solid #ddd; /* Add a grey border */\n",
       "          font-size: 14px; /* Increase font-size */\n",
       "        }\n",
       "\n",
       "        #myTable th, #myTable td {\n",
       "          text-align: left; /* Left-align text */\n",
       "          padding: 10px; /* Add padding */\n",
       "        }\n",
       "\n",
       "        #myTable tr {\n",
       "          /* Add a bottom border to all table rows */\n",
       "          border-bottom: 1px solid #ddd;\n",
       "        }\n",
       "\n",
       "        #myTable tr.header, #myTable tr:hover {\n",
       "          /* Add a grey background color to the table header and on hover */\n",
       "          background-color: #777;\n",
       "        }\n",
       "        </style>\n",
       "\n",
       "        <table id=\"myTable\">\n",
       "          <tr class=\"header\">\n",
       "            <th style=\"width:15%;\">Asset Key</th>\n",
       "            <th style=\"width:20%;\">Type</th>\n",
       "            <th style=\"width:10%;\">Shape</th>\n",
       "          </tr>\n",
       "        \n",
       "        </table>\n",
       "\n",
       "        "
      ],
      "text/plain": [
       "<syft.core.node.common.client_manager.dataset_api.Dataset at 0x7f0bd7a9a880>"
      ]
     },
     "execution_count": 27,
     "metadata": {},
     "output_type": "execute_result"
    }
   ],
   "source": [
    "# The dataset is deleted. \n",
    "# let's check the dataset_pointer again\n",
    "\n",
    "dataset_pointer"
   ]
  },
  {
   "cell_type": "code",
   "execution_count": 28,
   "id": "b4bb9877",
   "metadata": {},
   "outputs": [
    {
     "ename": "KeyError",
     "evalue": "'The asset with name `key-not-exists` does not exists.'",
     "output_type": "error",
     "traceback": [
      "\u001b[0;31m---------------------------------------------------------------------------\u001b[0m",
      "\u001b[0;31mKeyError\u001b[0m                                  Traceback (most recent call last)",
      "\u001b[0;32m/tmp/ipykernel_152124/735981193.py\u001b[0m in \u001b[0;36m<module>\u001b[0;34m\u001b[0m\n\u001b[1;32m      2\u001b[0m \u001b[0;34m\u001b[0m\u001b[0m\n\u001b[1;32m      3\u001b[0m \u001b[0;31m# If we delete an asset that does not exists, we will get an error\u001b[0m\u001b[0;34m\u001b[0m\u001b[0;34m\u001b[0m\u001b[0;34m\u001b[0m\u001b[0m\n\u001b[0;32m----> 4\u001b[0;31m \u001b[0mdataset_pointer\u001b[0m\u001b[0;34m.\u001b[0m\u001b[0mdelete\u001b[0m\u001b[0;34m(\u001b[0m\u001b[0;34m\"key-not-exists\"\u001b[0m\u001b[0;34m)\u001b[0m\u001b[0;34m\u001b[0m\u001b[0;34m\u001b[0m\u001b[0m\n\u001b[0m",
      "\u001b[0;32m~/Documents/myfolder/pysyft/PySyft/packages/syft/src/syft/core/node/common/client_manager/dataset_api.py\u001b[0m in \u001b[0;36mdelete\u001b[0;34m(self, name)\u001b[0m\n\u001b[1;32m    414\u001b[0m \u001b[0;34m\u001b[0m\u001b[0m\n\u001b[1;32m    415\u001b[0m         \u001b[0;32mif\u001b[0m \u001b[0masset_id\u001b[0m \u001b[0;32mis\u001b[0m \u001b[0;32mNone\u001b[0m\u001b[0;34m:\u001b[0m\u001b[0;34m\u001b[0m\u001b[0;34m\u001b[0m\u001b[0m\n\u001b[0;32m--> 416\u001b[0;31m             \u001b[0;32mraise\u001b[0m \u001b[0mKeyError\u001b[0m\u001b[0;34m(\u001b[0m\u001b[0;34mf\"The asset with name `{name}` does not exists.\"\u001b[0m\u001b[0;34m)\u001b[0m\u001b[0;34m\u001b[0m\u001b[0;34m\u001b[0m\u001b[0m\n\u001b[0m\u001b[1;32m    417\u001b[0m \u001b[0;34m\u001b[0m\u001b[0m\n\u001b[1;32m    418\u001b[0m         DatasetRequestAPI(self.client).delete(\n",
      "\u001b[0;31mKeyError\u001b[0m: 'The asset with name `key-not-exists` does not exists.'"
     ]
    }
   ],
   "source": [
    "# We don't have any assets attached, which is what is expected.\n",
    "\n",
    "# If we delete an asset that does not exists, we will get an error\n",
    "dataset_pointer.delete(\"key-not-exists\")"
   ]
  },
  {
   "cell_type": "code",
   "execution_count": 29,
   "id": "ede7c652",
   "metadata": {},
   "outputs": [],
   "source": [
    "# Great, now that we can add/delete assets, we can upload the dataset\n",
    "# in batches, let's try to do that."
   ]
  },
  {
   "cell_type": "markdown",
   "id": "95a0077b",
   "metadata": {},
   "source": [
    "Let's load some data... into memory"
   ]
  },
  {
   "cell_type": "code",
   "execution_count": 33,
   "id": "b993b1bf",
   "metadata": {},
   "outputs": [],
   "source": [
    "# Load the first 100 rows\n",
    "ca_data = pd.read_csv(\"../../trade_demo/datasets/ca - feb 2021.csv\")[:100]"
   ]
  },
  {
   "cell_type": "code",
   "execution_count": 34,
   "id": "677f8435",
   "metadata": {},
   "outputs": [],
   "source": [
    "# We will transfer data in batches of 10"
   ]
  },
  {
   "cell_type": "code",
   "execution_count": 39,
   "id": "fdf7ae1a",
   "metadata": {},
   "outputs": [
    {
     "name": "stdout",
     "output_type": "stream",
     "text": [
      "\n",
      "\n",
      "WARNING - Non-DP Asset: You just passed in a asset 'ca_batch_2' which cannot be tracked with differential privacy because it is a <class 'pandas.core.frame.DataFrame'> object.\n",
      "\n",
      "This means you'll need to manually approve any requests which leverage this data. If this is ok with you, proceed. If you'd like to use automatic differential privacy budgeting, please pass in a DP-compatible tensor type such as by calling .private() on a sy.Tensor with a np.int32 or np.float32 inside.\n",
      "Are you sure you want to proceed? (y/n)y\n",
      "Loading dataset... uploading... SUCCESS!Batches successfully uploaded: 1/10\n",
      "\n",
      "\n",
      "WARNING - Non-DP Asset: You just passed in a asset 'ca_batch_3' which cannot be tracked with differential privacy because it is a <class 'pandas.core.frame.DataFrame'> object.\n",
      "\n",
      "This means you'll need to manually approve any requests which leverage this data. If this is ok with you, proceed. If you'd like to use automatic differential privacy budgeting, please pass in a DP-compatible tensor type such as by calling .private() on a sy.Tensor with a np.int32 or np.float32 inside.\n",
      "Are you sure you want to proceed? (y/n)y\n",
      "Loading dataset... uploading... SUCCESS!Batches successfully uploaded: 2/10\n",
      "\n",
      "\n",
      "WARNING - Non-DP Asset: You just passed in a asset 'ca_batch_4' which cannot be tracked with differential privacy because it is a <class 'pandas.core.frame.DataFrame'> object.\n",
      "\n",
      "This means you'll need to manually approve any requests which leverage this data. If this is ok with you, proceed. If you'd like to use automatic differential privacy budgeting, please pass in a DP-compatible tensor type such as by calling .private() on a sy.Tensor with a np.int32 or np.float32 inside.\n",
      "Are you sure you want to proceed? (y/n)y\n",
      "Loading dataset... uploading... SUCCESS!Batches successfully uploaded: 3/10\n",
      "\n",
      "\n",
      "WARNING - Non-DP Asset: You just passed in a asset 'ca_batch_5' which cannot be tracked with differential privacy because it is a <class 'pandas.core.frame.DataFrame'> object.\n",
      "\n",
      "This means you'll need to manually approve any requests which leverage this data. If this is ok with you, proceed. If you'd like to use automatic differential privacy budgeting, please pass in a DP-compatible tensor type such as by calling .private() on a sy.Tensor with a np.int32 or np.float32 inside.\n",
      "Are you sure you want to proceed? (y/n)y\n",
      "Loading dataset... uploading... SUCCESS!Batches successfully uploaded: 4/10\n",
      "\n",
      "\n",
      "WARNING - Non-DP Asset: You just passed in a asset 'ca_batch_6' which cannot be tracked with differential privacy because it is a <class 'pandas.core.frame.DataFrame'> object.\n",
      "\n",
      "This means you'll need to manually approve any requests which leverage this data. If this is ok with you, proceed. If you'd like to use automatic differential privacy budgeting, please pass in a DP-compatible tensor type such as by calling .private() on a sy.Tensor with a np.int32 or np.float32 inside.\n",
      "Are you sure you want to proceed? (y/n)y\n",
      "Loading dataset... uploading... SUCCESS!Batches successfully uploaded: 5/10\n",
      "\n",
      "\n",
      "WARNING - Non-DP Asset: You just passed in a asset 'ca_batch_7' which cannot be tracked with differential privacy because it is a <class 'pandas.core.frame.DataFrame'> object.\n",
      "\n",
      "This means you'll need to manually approve any requests which leverage this data. If this is ok with you, proceed. If you'd like to use automatic differential privacy budgeting, please pass in a DP-compatible tensor type such as by calling .private() on a sy.Tensor with a np.int32 or np.float32 inside.\n",
      "Are you sure you want to proceed? (y/n)y\n",
      "Loading dataset... uploading... SUCCESS!Batches successfully uploaded: 6/10\n",
      "\n",
      "\n",
      "WARNING - Non-DP Asset: You just passed in a asset 'ca_batch_8' which cannot be tracked with differential privacy because it is a <class 'pandas.core.frame.DataFrame'> object.\n",
      "\n",
      "This means you'll need to manually approve any requests which leverage this data. If this is ok with you, proceed. If you'd like to use automatic differential privacy budgeting, please pass in a DP-compatible tensor type such as by calling .private() on a sy.Tensor with a np.int32 or np.float32 inside.\n",
      "Are you sure you want to proceed? (y/n)y\n",
      "Loading dataset... uploading... SUCCESS!Batches successfully uploaded: 7/10\n",
      "\n",
      "\n",
      "WARNING - Non-DP Asset: You just passed in a asset 'ca_batch_9' which cannot be tracked with differential privacy because it is a <class 'pandas.core.frame.DataFrame'> object.\n",
      "\n",
      "This means you'll need to manually approve any requests which leverage this data. If this is ok with you, proceed. If you'd like to use automatic differential privacy budgeting, please pass in a DP-compatible tensor type such as by calling .private() on a sy.Tensor with a np.int32 or np.float32 inside.\n",
      "Are you sure you want to proceed? (y/n)y\n",
      "Loading dataset... uploading... SUCCESS!Batches successfully uploaded: 8/10\n",
      "\n",
      "\n",
      "WARNING - Non-DP Asset: You just passed in a asset 'ca_batch_10' which cannot be tracked with differential privacy because it is a <class 'pandas.core.frame.DataFrame'> object.\n",
      "\n",
      "This means you'll need to manually approve any requests which leverage this data. If this is ok with you, proceed. If you'd like to use automatic differential privacy budgeting, please pass in a DP-compatible tensor type such as by calling .private() on a sy.Tensor with a np.int32 or np.float32 inside.\n",
      "Are you sure you want to proceed? (y/n)y\n",
      "Loading dataset... uploading... SUCCESS!Batches successfully uploaded: 9/10\n",
      "\n",
      "\n",
      "WARNING - Non-DP Asset: You just passed in a asset 'ca_batch_11' which cannot be tracked with differential privacy because it is a <class 'pandas.core.frame.DataFrame'> object.\n",
      "\n",
      "This means you'll need to manually approve any requests which leverage this data. If this is ok with you, proceed. If you'd like to use automatic differential privacy budgeting, please pass in a DP-compatible tensor type such as by calling .private() on a sy.Tensor with a np.int32 or np.float32 inside.\n",
      "Are you sure you want to proceed? (y/n)y\n",
      "Loading dataset... uploading... SUCCESS!Batches successfully uploaded: 10/10\n"
     ]
    }
   ],
   "source": [
    "start, end = 0, len(ca_data)\n",
    "batch_size = 10\n",
    "idx = 0\n",
    "while(start < end):\n",
    "    idx += 1\n",
    "    \n",
    "    batch = ca_data[start:start+batch_size] # Select a batch of images\n",
    "    \n",
    "    name = f\"ca_batch_{idx+1}\"  # Asset key name\n",
    "    dataset_pointer.add(name=name, value=batch)  # Add asset to the dataset pointer\n",
    "    start += batch_size\n",
    "    print(f\"Batches successfully uploaded: {idx}/{end//batch_size}\")"
   ]
  },
  {
   "cell_type": "code",
   "execution_count": 40,
   "id": "eae6e0f1",
   "metadata": {},
   "outputs": [
    {
     "name": "stdout",
     "output_type": "stream",
     "text": [
      "Dataset: Empty Dataset\n",
      "Description: Test delete\n",
      "\n"
     ]
    },
    {
     "data": {
      "text/html": [
       "<style>\n",
       "        #myInput {\n",
       "          background-position: 10px 12px; /* Position the search icon */\n",
       "          background-repeat: no-repeat; /* Do not repeat the icon image */\n",
       "          background-color: #bbb;\n",
       "          width: 98%; /* Full-width */\n",
       "          font-size: 14px; /* Increase font-size */\n",
       "          padding: 12px 20px 12px 40px; /* Add some padding */\n",
       "          border: 1px solid #ddd; /* Add a grey border */\n",
       "          margin-bottom: 12px; /* Add some space below the input */\n",
       "        }\n",
       "\n",
       "        #myTable {\n",
       "          border-collapse: collapse; /* Collapse borders */\n",
       "          width: 50%; /* Full-width */\n",
       "          border: 1px solid #ddd; /* Add a grey border */\n",
       "          font-size: 14px; /* Increase font-size */\n",
       "        }\n",
       "\n",
       "        #myTable th, #myTable td {\n",
       "          text-align: left; /* Left-align text */\n",
       "          padding: 10px; /* Add padding */\n",
       "        }\n",
       "\n",
       "        #myTable tr {\n",
       "          /* Add a bottom border to all table rows */\n",
       "          border-bottom: 1px solid #ddd;\n",
       "        }\n",
       "\n",
       "        #myTable tr.header, #myTable tr:hover {\n",
       "          /* Add a grey background color to the table header and on hover */\n",
       "          background-color: #777;\n",
       "        }\n",
       "        </style>\n",
       "\n",
       "        <table id=\"myTable\">\n",
       "          <tr class=\"header\">\n",
       "            <th style=\"width:15%;\">Asset Key</th>\n",
       "            <th style=\"width:20%;\">Type</th>\n",
       "            <th style=\"width:10%;\">Shape</th>\n",
       "          </tr>\n",
       "        \n",
       "\n",
       "              <tr>\n",
       "            <td>[\"ca_batch_2\"]</td>\n",
       "            <td>DataFrame</td>\n",
       "            <td>(10, 22)</td>\n",
       "          </tr>\n",
       "\n",
       "              <tr>\n",
       "            <td>[\"ca_batch_3\"]</td>\n",
       "            <td>DataFrame</td>\n",
       "            <td>(10, 22)</td>\n",
       "          </tr>\n",
       "\n",
       "              <tr>\n",
       "            <td>[\"ca_batch_4\"]</td>\n",
       "            <td>DataFrame</td>\n",
       "            <td>(10, 22)</td>\n",
       "          </tr>\n",
       "\n",
       "              <tr>\n",
       "            <td>[\"ca_batch_5\"]</td>\n",
       "            <td>DataFrame</td>\n",
       "            <td>(10, 22)</td>\n",
       "          </tr>\n",
       "\n",
       "              <tr>\n",
       "            <td>[\"ca_batch_6\"]</td>\n",
       "            <td>DataFrame</td>\n",
       "            <td>(10, 22)</td>\n",
       "          </tr>\n",
       "\n",
       "              <tr>\n",
       "            <td>[\"ca_batch_7\"]</td>\n",
       "            <td>DataFrame</td>\n",
       "            <td>(10, 22)</td>\n",
       "          </tr>\n",
       "\n",
       "              <tr>\n",
       "            <td>[\"ca_batch_8\"]</td>\n",
       "            <td>DataFrame</td>\n",
       "            <td>(10, 22)</td>\n",
       "          </tr>\n",
       "\n",
       "              <tr>\n",
       "            <td>[\"ca_batch_9\"]</td>\n",
       "            <td>DataFrame</td>\n",
       "            <td>(10, 22)</td>\n",
       "          </tr>\n",
       "\n",
       "              <tr>\n",
       "            <td>[\"ca_batch_10\"]</td>\n",
       "            <td>DataFrame</td>\n",
       "            <td>(10, 22)</td>\n",
       "          </tr>\n",
       "\n",
       "              <tr>\n",
       "            <td>[\"ca_batch_11\"]</td>\n",
       "            <td>DataFrame</td>\n",
       "            <td>(10, 22)</td>\n",
       "          </tr>\n",
       "        </table>\n",
       "\n",
       "        "
      ],
      "text/plain": [
       "<syft.core.node.common.client_manager.dataset_api.Dataset at 0x7f0bd7a9a880>"
      ]
     },
     "execution_count": 40,
     "metadata": {},
     "output_type": "execute_result"
    }
   ],
   "source": [
    "# Great !!! we uploaded the whole data into batches of 10.\n",
    "# Let's check the dataset pointer\n",
    "dataset_pointer"
   ]
  },
  {
   "cell_type": "code",
   "execution_count": 41,
   "id": "451275af",
   "metadata": {},
   "outputs": [
    {
     "data": {
      "text/html": [
       "<style>\n",
       "                #myInput {\n",
       "                  background-position: 10px 12px; /* Position the search icon */\n",
       "                  background-repeat: no-repeat; /* Do not repeat the icon image */\n",
       "                  background-color: #bbb;\n",
       "                  width: 98%; /* Full-width */\n",
       "                  font-size: 14px; /* Increase font-size */\n",
       "                  padding: 12px 20px 12px 40px; /* Add some padding */\n",
       "                  border: 1px solid #ddd; /* Add a grey border */\n",
       "                  margin-bottom: 12px; /* Add some space below the input */\n",
       "                }\n",
       "\n",
       "                #myTable {\n",
       "                  border-collapse: collapse; /* Collapse borders */\n",
       "                  width: 100%; /* Full-width */\n",
       "                  border: 1px solid #ddd; /* Add a grey border */\n",
       "                  font-size: 14px; /* Increase font-size */\n",
       "                }\n",
       "\n",
       "                #myTable th, #myTable td {\n",
       "                  text-align: left; /* Left-align text */\n",
       "                  padding: 10px; /* Add padding */\n",
       "                }\n",
       "\n",
       "                #myTable tr {\n",
       "                  /* Add a bottom border to all table rows */\n",
       "                  border-bottom: 1px solid #ddd;\n",
       "                }\n",
       "\n",
       "                #myTable tr.header, #myTable tr:hover {\n",
       "                  /* Add a grey background color to the table header and on hover */\n",
       "                  background-color: #777;\n",
       "                }\n",
       "                </style>\n",
       "\n",
       "                <input type=\"text\" id=\"myInput\" onkeyup=\"myFunction()\" placeholder=\"Search for datasets..\">\n",
       "\n",
       "                <table id=\"myTable\">\n",
       "                  <tr class=\"header\">\n",
       "                    <th style=\"width:30px\">Idx</th>\n",
       "                    <th style=\"width:20%;\">Name</th>\n",
       "                    <th style=\"width:35%;\">Description</th>\n",
       "                    <th style=\"width:20%;\">Assets</th>\n",
       "                    <th style=\"width:300px;\">Id</th>\n",
       "                  </tr>\n",
       "                \n",
       "\n",
       "          <tr>\n",
       "            <td>[0]</td>\n",
       "            <td>Empty Dataset</td>\n",
       "            <td>Test delete</td>\n",
       "            <td>[\"ca_batch_2\"] -> DataFrame<br /><br />[\"ca_batch_3\"] -> DataFrame<br /><br />[\"ca_batch_4\"] -> DataFrame<br /><br />[\"ca_batch_5\"] -> DataFrame<br /><br />[\"ca_batch_6\"] -> DataFrame<br /><br />[\"ca_batch_7\"] -> DataFrame<br /><br />[\"ca_batch_8\"] -> DataFrame<br /><br />[\"ca_batch_9\"] -> DataFrame<br /><br />[\"ca_batch_10\"] -> DataFrame<br /><br />[\"ca_batch_11\"] -> DataFrame<br /><br /></td>\n",
       "            <td>17030881-6f2a-45e0-8283-434fdd014740</td>\n",
       "          </tr>\n",
       "        </table>\n",
       "\n",
       "        <script>\n",
       "        function myFunction() {\n",
       "          // Declare variables\n",
       "          var input, filter, table, tr, td, i, txtValue;\n",
       "          input = document.getElementById(\"myInput\");\n",
       "          filter = input.value.toUpperCase();\n",
       "          table = document.getElementById(\"myTable\");\n",
       "          tr = table.getElementsByTagName(\"tr\");\n",
       "\n",
       "          // Loop through all table rows, and hide those who don't match the search query\n",
       "          for (i = 0; i < tr.length; i++) {\n",
       "            name_td = tr[i].getElementsByTagName(\"td\")[1];\n",
       "            desc_td = tr[i].getElementsByTagName(\"td\")[2];\n",
       "            asset_td = tr[i].getElementsByTagName(\"td\")[3];\n",
       "            id_td = tr[i].getElementsByTagName(\"td\")[4];\n",
       "            if (name_td || desc_td || asset_td || id_td) {\n",
       "              name_txtValue = name_td.textContent || name_td.innerText;\n",
       "              desc_txtValue = desc_td.textContent || name_td.innerText;\n",
       "              asset_txtValue = asset_td.textContent || name_td.innerText;\n",
       "              id_txtValue = id_td.textContent || name_td.innerText;\n",
       "              name_bool = name_txtValue.toUpperCase().indexOf(filter) > -1;\n",
       "              desc_bool = desc_txtValue.toUpperCase().indexOf(filter) > -1;\n",
       "              asset_bool = asset_txtValue.toUpperCase().indexOf(filter) > -1;\n",
       "              id_bool = id_txtValue.toUpperCase().indexOf(filter) > -1;\n",
       "              if (name_bool || desc_bool || asset_bool || id_bool) {\n",
       "                tr[i].style.display = \"\";\n",
       "              } else {\n",
       "                tr[i].style.display = \"none\";\n",
       "              }\n",
       "            }\n",
       "          }\n",
       "        }\n",
       "        </script>"
      ],
      "text/plain": [
       "<syft.core.node.common.client_manager.dataset_api.DatasetRequestAPI at 0x7f0bd919da90>"
      ]
     },
     "execution_count": 41,
     "metadata": {},
     "output_type": "execute_result"
    }
   ],
   "source": [
    "# Let's check the dataset in the domain\n",
    "domain.datasets"
   ]
  },
  {
   "cell_type": "code",
   "execution_count": 47,
   "id": "899152ef",
   "metadata": {},
   "outputs": [],
   "source": [
    "# Now, lastly, accessing the assets as an iterator\n",
    "# We want to access the assets of this dataset as an iterator\n",
    "\n",
    "dataset_ptr = domain.datasets[0] # Selected the MedNIST dataset\n",
    "\n",
    "# We want an iterator and exclude certain assets.\n",
    "data_iterator = dataset_ptr.iter(exclude=[\"ca_batch_2\", \"ca_batch_3\", \"ca_batch_4\"])"
   ]
  },
  {
   "cell_type": "code",
   "execution_count": 48,
   "id": "b16dc25b",
   "metadata": {},
   "outputs": [
    {
     "name": "stdout",
     "output_type": "stream",
     "text": [
      "<DataFramePointer -> mednode:fa5193365dd6433996c6e9d3d2440154>\n",
      "<DataFramePointer -> mednode:a909f5c3392345869c3e142d95464efd>\n",
      "<DataFramePointer -> mednode:6104f67f1145431991ce4afbc4218146>\n",
      "<DataFramePointer -> mednode:d023af1ca3fa4971ada4ce1fa244d2e1>\n",
      "<DataFramePointer -> mednode:eb83e8b89a8b4cbcb8532b018f292337>\n",
      "<DataFramePointer -> mednode:58dcb428f81148c7a402bc09a0c13dd4>\n",
      "<DataFramePointer -> mednode:d03fcdcd9a7143c4aa0a176f8580031c>\n",
      "total assets in the iterator: 7\n"
     ]
    }
   ],
   "source": [
    "cnt = 0\n",
    "for d in data_iterator:\n",
    "    cnt += 1\n",
    "    print(d)\n",
    "print(f\"total assets in the iterator: {cnt}\")"
   ]
  },
  {
   "cell_type": "markdown",
   "id": "32e73696",
   "metadata": {},
   "source": [
    "Since we excluded three assets, so we had pointers to the remaining seven assets."
   ]
  }
 ],
 "metadata": {
  "kernelspec": {
   "display_name": "Python 3 (ipykernel)",
   "language": "python",
   "name": "python3"
  },
  "language_info": {
   "codemirror_mode": {
    "name": "ipython",
    "version": 3
   },
   "file_extension": ".py",
   "mimetype": "text/x-python",
   "name": "python",
   "nbconvert_exporter": "python",
   "pygments_lexer": "ipython3",
   "version": "3.9.6"
  }
 },
 "nbformat": 4,
 "nbformat_minor": 5
}
