{
 "cells": [
  {
   "cell_type": "markdown",
   "id": "4566c135",
   "metadata": {},
   "source": [
    "# CH1842"
   ]
  },
  {
   "cell_type": "code",
   "execution_count": 2,
   "id": "8a5b3a02",
   "metadata": {},
   "outputs": [],
   "source": [
    "import syft as sy\n",
    "import numpy as np"
   ]
  },
  {
   "cell_type": "code",
   "execution_count": 3,
   "id": "7ee531df",
   "metadata": {},
   "outputs": [
    {
     "name": "stdout",
     "output_type": "stream",
     "text": [
      "Connecting to http://docker-host:8081... done! \t Logging into brazil... done!\n"
     ]
    }
   ],
   "source": [
    "domain = sy.login(email=\"info@openmined.org\", password=\"changethis\", port=8081)"
   ]
  },
  {
   "cell_type": "markdown",
   "id": "03f4415f",
   "metadata": {},
   "source": [
    "### 1 - Creating DS users with PB always equals 0"
   ]
  },
  {
   "cell_type": "code",
   "execution_count": 4,
   "id": "385e7191",
   "metadata": {},
   "outputs": [],
   "source": [
    "domain.users.create(email=\"data_scientist1@openmined.org\", password=\"tst123\", name=\"Ana\")\n",
    "domain.users.create(email=\"data_scientist2@openmined.org\", password=\"tst123\", name=\"Bob\")\n",
    "domain.users.create(email=\"data_scientist3@openmined.org\", password=\"tst123\", name=\"Phil\")\n",
    "domain.users.create(email=\"data_scientist4@openmined.org\", password=\"tst123\", name=\"Alice\")"
   ]
  },
  {
   "cell_type": "code",
   "execution_count": 5,
   "id": "707164e2",
   "metadata": {},
   "outputs": [
    {
     "data": {
      "text/html": [
       "<div>\n",
       "<style scoped>\n",
       "    .dataframe tbody tr th:only-of-type {\n",
       "        vertical-align: middle;\n",
       "    }\n",
       "\n",
       "    .dataframe tbody tr th {\n",
       "        vertical-align: top;\n",
       "    }\n",
       "\n",
       "    .dataframe thead th {\n",
       "        text-align: right;\n",
       "    }\n",
       "</style>\n",
       "<table border=\"1\" class=\"dataframe\">\n",
       "  <thead>\n",
       "    <tr style=\"text-align: right;\">\n",
       "      <th></th>\n",
       "      <th>budget</th>\n",
       "      <th>budget_spent</th>\n",
       "      <th>email</th>\n",
       "      <th>groups</th>\n",
       "      <th>id</th>\n",
       "      <th>name</th>\n",
       "      <th>role</th>\n",
       "      <th>verify_key</th>\n",
       "    </tr>\n",
       "  </thead>\n",
       "  <tbody>\n",
       "    <tr>\n",
       "      <th>0</th>\n",
       "      <td>55.55</td>\n",
       "      <td>0.0</td>\n",
       "      <td>info@openmined.org</td>\n",
       "      <td>[]</td>\n",
       "      <td>1</td>\n",
       "      <td>Jane Doe</td>\n",
       "      <td>Owner</td>\n",
       "      <td>c690fdbf0c335ebd0640da0cc9503aa6b4d16e6494cf7a...</td>\n",
       "    </tr>\n",
       "    <tr>\n",
       "      <th>1</th>\n",
       "      <td>0.00</td>\n",
       "      <td>0.0</td>\n",
       "      <td>data_scientist1@openmined.org</td>\n",
       "      <td>[]</td>\n",
       "      <td>2</td>\n",
       "      <td>Ana</td>\n",
       "      <td>Data Scientist</td>\n",
       "      <td>36f654a3d6de919fbd211e30f1c8c4bd08db803a7621d3...</td>\n",
       "    </tr>\n",
       "    <tr>\n",
       "      <th>2</th>\n",
       "      <td>0.00</td>\n",
       "      <td>0.0</td>\n",
       "      <td>data_scientist2@openmined.org</td>\n",
       "      <td>[]</td>\n",
       "      <td>3</td>\n",
       "      <td>Bob</td>\n",
       "      <td>Data Scientist</td>\n",
       "      <td>a69d2fb186e745d0d1100b6cccec41ac050d4e99b4792e...</td>\n",
       "    </tr>\n",
       "    <tr>\n",
       "      <th>3</th>\n",
       "      <td>0.00</td>\n",
       "      <td>0.0</td>\n",
       "      <td>data_scientist3@openmined.org</td>\n",
       "      <td>[]</td>\n",
       "      <td>4</td>\n",
       "      <td>Phil</td>\n",
       "      <td>Data Scientist</td>\n",
       "      <td>b648735e1d6c82650397c67daca0b65490fc88da9828be...</td>\n",
       "    </tr>\n",
       "    <tr>\n",
       "      <th>4</th>\n",
       "      <td>0.00</td>\n",
       "      <td>0.0</td>\n",
       "      <td>data_scientist4@openmined.org</td>\n",
       "      <td>[]</td>\n",
       "      <td>5</td>\n",
       "      <td>Alice</td>\n",
       "      <td>Data Scientist</td>\n",
       "      <td>5d6b7550d50c3342a51bd7e0024be90f1f4cb19031109a...</td>\n",
       "    </tr>\n",
       "  </tbody>\n",
       "</table>\n",
       "</div>"
      ],
      "text/plain": [
       "   budget  budget_spent                          email groups  id      name  \\\n",
       "0   55.55           0.0             info@openmined.org     []   1  Jane Doe   \n",
       "1    0.00           0.0  data_scientist1@openmined.org     []   2       Ana   \n",
       "2    0.00           0.0  data_scientist2@openmined.org     []   3       Bob   \n",
       "3    0.00           0.0  data_scientist3@openmined.org     []   4      Phil   \n",
       "4    0.00           0.0  data_scientist4@openmined.org     []   5     Alice   \n",
       "\n",
       "             role                                         verify_key  \n",
       "0           Owner  c690fdbf0c335ebd0640da0cc9503aa6b4d16e6494cf7a...  \n",
       "1  Data Scientist  36f654a3d6de919fbd211e30f1c8c4bd08db803a7621d3...  \n",
       "2  Data Scientist  a69d2fb186e745d0d1100b6cccec41ac050d4e99b4792e...  \n",
       "3  Data Scientist  b648735e1d6c82650397c67daca0b65490fc88da9828be...  \n",
       "4  Data Scientist  5d6b7550d50c3342a51bd7e0024be90f1f4cb19031109a...  "
      ]
     },
     "execution_count": 5,
     "metadata": {},
     "output_type": "execute_result"
    }
   ],
   "source": [
    "domain.users.pandas()"
   ]
  },
  {
   "cell_type": "markdown",
   "id": "82cfa855",
   "metadata": {},
   "source": [
    "#### 1.1 - Updating DS users PB using Owner account"
   ]
  },
  {
   "cell_type": "code",
   "execution_count": 6,
   "id": "b3605e1d",
   "metadata": {},
   "outputs": [],
   "source": [
    "domain.users.update(user_id=2, budget=10.0)\n",
    "domain.users.update(user_id=3, budget=15.0)\n",
    "domain.users.update(user_id=4, budget=20.0)\n",
    "domain.users.update(user_id=5, budget=25.0)"
   ]
  },
  {
   "cell_type": "code",
   "execution_count": 7,
   "id": "55b6c885",
   "metadata": {},
   "outputs": [
    {
     "data": {
      "text/html": [
       "<div>\n",
       "<style scoped>\n",
       "    .dataframe tbody tr th:only-of-type {\n",
       "        vertical-align: middle;\n",
       "    }\n",
       "\n",
       "    .dataframe tbody tr th {\n",
       "        vertical-align: top;\n",
       "    }\n",
       "\n",
       "    .dataframe thead th {\n",
       "        text-align: right;\n",
       "    }\n",
       "</style>\n",
       "<table border=\"1\" class=\"dataframe\">\n",
       "  <thead>\n",
       "    <tr style=\"text-align: right;\">\n",
       "      <th></th>\n",
       "      <th>budget</th>\n",
       "      <th>budget_spent</th>\n",
       "      <th>email</th>\n",
       "      <th>groups</th>\n",
       "      <th>id</th>\n",
       "      <th>name</th>\n",
       "      <th>role</th>\n",
       "      <th>verify_key</th>\n",
       "    </tr>\n",
       "  </thead>\n",
       "  <tbody>\n",
       "    <tr>\n",
       "      <th>0</th>\n",
       "      <td>55.55</td>\n",
       "      <td>0.0</td>\n",
       "      <td>info@openmined.org</td>\n",
       "      <td>[]</td>\n",
       "      <td>1</td>\n",
       "      <td>Jane Doe</td>\n",
       "      <td>Owner</td>\n",
       "      <td>c690fdbf0c335ebd0640da0cc9503aa6b4d16e6494cf7a...</td>\n",
       "    </tr>\n",
       "    <tr>\n",
       "      <th>1</th>\n",
       "      <td>10.00</td>\n",
       "      <td>0.0</td>\n",
       "      <td>data_scientist1@openmined.org</td>\n",
       "      <td>[]</td>\n",
       "      <td>2</td>\n",
       "      <td>Ana</td>\n",
       "      <td>Data Scientist</td>\n",
       "      <td>36f654a3d6de919fbd211e30f1c8c4bd08db803a7621d3...</td>\n",
       "    </tr>\n",
       "    <tr>\n",
       "      <th>2</th>\n",
       "      <td>15.00</td>\n",
       "      <td>0.0</td>\n",
       "      <td>data_scientist2@openmined.org</td>\n",
       "      <td>[]</td>\n",
       "      <td>3</td>\n",
       "      <td>Bob</td>\n",
       "      <td>Data Scientist</td>\n",
       "      <td>a69d2fb186e745d0d1100b6cccec41ac050d4e99b4792e...</td>\n",
       "    </tr>\n",
       "    <tr>\n",
       "      <th>3</th>\n",
       "      <td>20.00</td>\n",
       "      <td>0.0</td>\n",
       "      <td>data_scientist3@openmined.org</td>\n",
       "      <td>[]</td>\n",
       "      <td>4</td>\n",
       "      <td>Phil</td>\n",
       "      <td>Data Scientist</td>\n",
       "      <td>b648735e1d6c82650397c67daca0b65490fc88da9828be...</td>\n",
       "    </tr>\n",
       "    <tr>\n",
       "      <th>4</th>\n",
       "      <td>25.00</td>\n",
       "      <td>0.0</td>\n",
       "      <td>data_scientist4@openmined.org</td>\n",
       "      <td>[]</td>\n",
       "      <td>5</td>\n",
       "      <td>Alice</td>\n",
       "      <td>Data Scientist</td>\n",
       "      <td>5d6b7550d50c3342a51bd7e0024be90f1f4cb19031109a...</td>\n",
       "    </tr>\n",
       "  </tbody>\n",
       "</table>\n",
       "</div>"
      ],
      "text/plain": [
       "   budget  budget_spent                          email groups  id      name  \\\n",
       "0   55.55           0.0             info@openmined.org     []   1  Jane Doe   \n",
       "1   10.00           0.0  data_scientist1@openmined.org     []   2       Ana   \n",
       "2   15.00           0.0  data_scientist2@openmined.org     []   3       Bob   \n",
       "3   20.00           0.0  data_scientist3@openmined.org     []   4      Phil   \n",
       "4   25.00           0.0  data_scientist4@openmined.org     []   5     Alice   \n",
       "\n",
       "             role                                         verify_key  \n",
       "0           Owner  c690fdbf0c335ebd0640da0cc9503aa6b4d16e6494cf7a...  \n",
       "1  Data Scientist  36f654a3d6de919fbd211e30f1c8c4bd08db803a7621d3...  \n",
       "2  Data Scientist  a69d2fb186e745d0d1100b6cccec41ac050d4e99b4792e...  \n",
       "3  Data Scientist  b648735e1d6c82650397c67daca0b65490fc88da9828be...  \n",
       "4  Data Scientist  5d6b7550d50c3342a51bd7e0024be90f1f4cb19031109a...  "
      ]
     },
     "execution_count": 7,
     "metadata": {},
     "output_type": "execute_result"
    }
   ],
   "source": [
    "domain.users.pandas()"
   ]
  },
  {
   "cell_type": "markdown",
   "id": "3ab1060c",
   "metadata": {},
   "source": [
    "### 2 - Deleting / Reseting a node ..."
   ]
  },
  {
   "cell_type": "code",
   "execution_count": 13,
   "id": "d516eee9",
   "metadata": {},
   "outputs": [],
   "source": [
    "import torch as th\n",
    "\n",
    "x = th.tensor([1,2,3,4,5])\n",
    "\n",
    "x_s = x.send(domain, tags=[\"#x\", \"testing\"], description=\"features!\", pointable=True)"
   ]
  },
  {
   "cell_type": "code",
   "execution_count": 9,
   "id": "f71098fa",
   "metadata": {},
   "outputs": [
    {
     "name": "stdout",
     "output_type": "stream",
     "text": [
      "Connecting to http://docker-host:8081... done! \t Logging into brazil... done!\n",
      "Connecting to http://docker-host:8081... done! \t Logging into brazil... done!\n",
      "Connecting to http://docker-host:8081... done! \t Logging into brazil... done!\n",
      "Connecting to http://docker-host:8081... done! \t Logging into brazil... done!\n"
     ]
    }
   ],
   "source": [
    "ds1_domain_session = sy.login(email=\"data_scientist1@openmined.org\", password=\"tst123\", port=8081)\n",
    "ds2_domain_session = sy.login(email=\"data_scientist2@openmined.org\", password=\"tst123\", port=8081)\n",
    "ds3_domain_session = sy.login(email=\"data_scientist3@openmined.org\", password=\"tst123\", port=8081)\n",
    "ds4_domain_session = sy.login(email=\"data_scientist4@openmined.org\", password=\"tst123\", port=8081)"
   ]
  },
  {
   "cell_type": "code",
   "execution_count": 14,
   "id": "dec72ea0",
   "metadata": {},
   "outputs": [],
   "source": [
    "x_s1 = ds1_domain_session.store['#x'].request(reason=\"DS1 - I need to see this data!\")\n",
    "x_s1 = ds2_domain_session.store['#x'].request(reason=\"DS2 - I need to see this data!\")\n",
    "x_s1 = ds3_domain_session.store['#x'].request(reason=\"DS3 - I need to see this data!\")\n",
    "x_s1 = ds4_domain_session.store['#x'].request(reason=\"DS4 - I need to see this data!\")"
   ]
  },
  {
   "cell_type": "markdown",
   "id": "7ad540c4",
   "metadata": {},
   "source": [
    "#### 2.2 - Check hosted data / Data Requets"
   ]
  },
  {
   "cell_type": "code",
   "execution_count": 15,
   "id": "0a5c33a1",
   "metadata": {},
   "outputs": [
    {
     "data": {
      "text/html": [
       "<div>\n",
       "<style scoped>\n",
       "    .dataframe tbody tr th:only-of-type {\n",
       "        vertical-align: middle;\n",
       "    }\n",
       "\n",
       "    .dataframe tbody tr th {\n",
       "        vertical-align: top;\n",
       "    }\n",
       "\n",
       "    .dataframe thead th {\n",
       "        text-align: right;\n",
       "    }\n",
       "</style>\n",
       "<table border=\"1\" class=\"dataframe\">\n",
       "  <thead>\n",
       "    <tr style=\"text-align: right;\">\n",
       "      <th></th>\n",
       "      <th>ID</th>\n",
       "      <th>Tags</th>\n",
       "      <th>Description</th>\n",
       "      <th>object_type</th>\n",
       "    </tr>\n",
       "  </thead>\n",
       "  <tbody>\n",
       "    <tr>\n",
       "      <th>0</th>\n",
       "      <td>&lt;UID: 877436aa27764954856df35900f2b736&gt;</td>\n",
       "      <td>[#x, testing]</td>\n",
       "      <td>features!</td>\n",
       "      <td>&lt;class 'torch.Tensor'&gt;</td>\n",
       "    </tr>\n",
       "  </tbody>\n",
       "</table>\n",
       "</div>"
      ],
      "text/plain": [
       "                                        ID           Tags Description  \\\n",
       "0  <UID: 877436aa27764954856df35900f2b736>  [#x, testing]   features!   \n",
       "\n",
       "              object_type  \n",
       "0  <class 'torch.Tensor'>  "
      ]
     },
     "execution_count": 15,
     "metadata": {},
     "output_type": "execute_result"
    }
   ],
   "source": [
    "domain.store.pandas"
   ]
  },
  {
   "cell_type": "code",
   "execution_count": 16,
   "id": "ca381742",
   "metadata": {},
   "outputs": [
    {
     "data": {
      "text/html": [
       "<div>\n",
       "<style scoped>\n",
       "    .dataframe tbody tr th:only-of-type {\n",
       "        vertical-align: middle;\n",
       "    }\n",
       "\n",
       "    .dataframe tbody tr th {\n",
       "        vertical-align: top;\n",
       "    }\n",
       "\n",
       "    .dataframe thead th {\n",
       "        text-align: right;\n",
       "    }\n",
       "</style>\n",
       "<table border=\"1\" class=\"dataframe\">\n",
       "  <thead>\n",
       "    <tr style=\"text-align: right;\">\n",
       "      <th></th>\n",
       "      <th>Requested Object's tags</th>\n",
       "      <th>Reason</th>\n",
       "      <th>Request ID</th>\n",
       "      <th>Requested Object's ID</th>\n",
       "      <th>Requested Object's type</th>\n",
       "    </tr>\n",
       "  </thead>\n",
       "  <tbody>\n",
       "    <tr>\n",
       "      <th>0</th>\n",
       "      <td>[#x, testing]</td>\n",
       "      <td>DS1 - I need to see this data!</td>\n",
       "      <td>&lt;UID: 03b71a1bf4f54651bff16e113c50b7cc&gt;</td>\n",
       "      <td>&lt;UID: 877436aa27764954856df35900f2b736&gt;</td>\n",
       "      <td>&lt;class 'torch.Tensor'&gt;</td>\n",
       "    </tr>\n",
       "    <tr>\n",
       "      <th>1</th>\n",
       "      <td>[#x, testing]</td>\n",
       "      <td>DS2 - I need to see this data!</td>\n",
       "      <td>&lt;UID: 5d47d048baa24ebf9022a46d0e4740de&gt;</td>\n",
       "      <td>&lt;UID: 877436aa27764954856df35900f2b736&gt;</td>\n",
       "      <td>&lt;class 'torch.Tensor'&gt;</td>\n",
       "    </tr>\n",
       "    <tr>\n",
       "      <th>2</th>\n",
       "      <td>[#x, testing]</td>\n",
       "      <td>DS3 - I need to see this data!</td>\n",
       "      <td>&lt;UID: 351ab4fd7c234d41a0ff1d90f6cdd791&gt;</td>\n",
       "      <td>&lt;UID: 877436aa27764954856df35900f2b736&gt;</td>\n",
       "      <td>&lt;class 'torch.Tensor'&gt;</td>\n",
       "    </tr>\n",
       "    <tr>\n",
       "      <th>3</th>\n",
       "      <td>[#x, testing]</td>\n",
       "      <td>DS4 - I need to see this data!</td>\n",
       "      <td>&lt;UID: 94e7475382a8482a8a28c8421f7358af&gt;</td>\n",
       "      <td>&lt;UID: 877436aa27764954856df35900f2b736&gt;</td>\n",
       "      <td>&lt;class 'torch.Tensor'&gt;</td>\n",
       "    </tr>\n",
       "  </tbody>\n",
       "</table>\n",
       "</div>"
      ],
      "text/plain": [
       "  Requested Object's tags                          Reason  \\\n",
       "0           [#x, testing]  DS1 - I need to see this data!   \n",
       "1           [#x, testing]  DS2 - I need to see this data!   \n",
       "2           [#x, testing]  DS3 - I need to see this data!   \n",
       "3           [#x, testing]  DS4 - I need to see this data!   \n",
       "\n",
       "                                Request ID  \\\n",
       "0  <UID: 03b71a1bf4f54651bff16e113c50b7cc>   \n",
       "1  <UID: 5d47d048baa24ebf9022a46d0e4740de>   \n",
       "2  <UID: 351ab4fd7c234d41a0ff1d90f6cdd791>   \n",
       "3  <UID: 94e7475382a8482a8a28c8421f7358af>   \n",
       "\n",
       "                     Requested Object's ID Requested Object's type  \n",
       "0  <UID: 877436aa27764954856df35900f2b736>  <class 'torch.Tensor'>  \n",
       "1  <UID: 877436aa27764954856df35900f2b736>  <class 'torch.Tensor'>  \n",
       "2  <UID: 877436aa27764954856df35900f2b736>  <class 'torch.Tensor'>  \n",
       "3  <UID: 877436aa27764954856df35900f2b736>  <class 'torch.Tensor'>  "
      ]
     },
     "execution_count": 16,
     "metadata": {},
     "output_type": "execute_result"
    }
   ],
   "source": [
    "domain.requests.pandas"
   ]
  },
  {
   "cell_type": "markdown",
   "id": "df2210eb",
   "metadata": {},
   "source": [
    "#### 2.3 - Reset Node"
   ]
  },
  {
   "cell_type": "code",
   "execution_count": 17,
   "id": "04110595",
   "metadata": {},
   "outputs": [
    {
     "name": "stderr",
     "output_type": "stream",
     "text": [
      "WARNING:root:When resetting the node, all stored data will be lost, as well as the request history. Are you sure you want to continue (y/N)?\n"
     ]
    },
    {
     "name": "stdout",
     "output_type": "stream",
     "text": [
      "y\n"
     ]
    }
   ],
   "source": [
    "domain.reset()"
   ]
  },
  {
   "cell_type": "markdown",
   "id": "c7880522",
   "metadata": {},
   "source": [
    "#### 2.4 - Check hosted data / Data Requets"
   ]
  },
  {
   "cell_type": "code",
   "execution_count": 18,
   "id": "fc640be1",
   "metadata": {},
   "outputs": [
    {
     "data": {
      "text/html": [
       "<div>\n",
       "<style scoped>\n",
       "    .dataframe tbody tr th:only-of-type {\n",
       "        vertical-align: middle;\n",
       "    }\n",
       "\n",
       "    .dataframe tbody tr th {\n",
       "        vertical-align: top;\n",
       "    }\n",
       "\n",
       "    .dataframe thead th {\n",
       "        text-align: right;\n",
       "    }\n",
       "</style>\n",
       "<table border=\"1\" class=\"dataframe\">\n",
       "  <thead>\n",
       "    <tr style=\"text-align: right;\">\n",
       "      <th></th>\n",
       "    </tr>\n",
       "  </thead>\n",
       "  <tbody>\n",
       "  </tbody>\n",
       "</table>\n",
       "</div>"
      ],
      "text/plain": [
       "Empty DataFrame\n",
       "Columns: []\n",
       "Index: []"
      ]
     },
     "execution_count": 18,
     "metadata": {},
     "output_type": "execute_result"
    }
   ],
   "source": [
    "domain.store.pandas"
   ]
  },
  {
   "cell_type": "code",
   "execution_count": 19,
   "id": "7d1f2f42",
   "metadata": {},
   "outputs": [
    {
     "data": {
      "text/html": [
       "<div>\n",
       "<style scoped>\n",
       "    .dataframe tbody tr th:only-of-type {\n",
       "        vertical-align: middle;\n",
       "    }\n",
       "\n",
       "    .dataframe tbody tr th {\n",
       "        vertical-align: top;\n",
       "    }\n",
       "\n",
       "    .dataframe thead th {\n",
       "        text-align: right;\n",
       "    }\n",
       "</style>\n",
       "<table border=\"1\" class=\"dataframe\">\n",
       "  <thead>\n",
       "    <tr style=\"text-align: right;\">\n",
       "      <th></th>\n",
       "    </tr>\n",
       "  </thead>\n",
       "  <tbody>\n",
       "  </tbody>\n",
       "</table>\n",
       "</div>"
      ],
      "text/plain": [
       "Empty DataFrame\n",
       "Columns: []\n",
       "Index: []"
      ]
     },
     "execution_count": 19,
     "metadata": {},
     "output_type": "execute_result"
    }
   ],
   "source": [
    "domain.requests.pandas"
   ]
  },
  {
   "cell_type": "markdown",
   "id": "776e8221",
   "metadata": {},
   "source": [
    "### 3 - Transfering Ownership"
   ]
  },
  {
   "cell_type": "code",
   "execution_count": 20,
   "id": "0fbf65db",
   "metadata": {},
   "outputs": [],
   "source": [
    "domain.users.update(user_id=2, role=\"Owner\")"
   ]
  },
  {
   "cell_type": "code",
   "execution_count": 21,
   "id": "e05815ad",
   "metadata": {},
   "outputs": [
    {
     "data": {
      "text/html": [
       "<div>\n",
       "<style scoped>\n",
       "    .dataframe tbody tr th:only-of-type {\n",
       "        vertical-align: middle;\n",
       "    }\n",
       "\n",
       "    .dataframe tbody tr th {\n",
       "        vertical-align: top;\n",
       "    }\n",
       "\n",
       "    .dataframe thead th {\n",
       "        text-align: right;\n",
       "    }\n",
       "</style>\n",
       "<table border=\"1\" class=\"dataframe\">\n",
       "  <thead>\n",
       "    <tr style=\"text-align: right;\">\n",
       "      <th></th>\n",
       "      <th>budget</th>\n",
       "      <th>budget_spent</th>\n",
       "      <th>email</th>\n",
       "      <th>groups</th>\n",
       "      <th>id</th>\n",
       "      <th>name</th>\n",
       "      <th>role</th>\n",
       "      <th>verify_key</th>\n",
       "    </tr>\n",
       "  </thead>\n",
       "  <tbody>\n",
       "    <tr>\n",
       "      <th>0</th>\n",
       "      <td>15.00</td>\n",
       "      <td>0.0</td>\n",
       "      <td>data_scientist2@openmined.org</td>\n",
       "      <td>[]</td>\n",
       "      <td>3</td>\n",
       "      <td>Bob</td>\n",
       "      <td>Data Scientist</td>\n",
       "      <td>a69d2fb186e745d0d1100b6cccec41ac050d4e99b4792e...</td>\n",
       "    </tr>\n",
       "    <tr>\n",
       "      <th>1</th>\n",
       "      <td>20.00</td>\n",
       "      <td>0.0</td>\n",
       "      <td>data_scientist3@openmined.org</td>\n",
       "      <td>[]</td>\n",
       "      <td>4</td>\n",
       "      <td>Phil</td>\n",
       "      <td>Data Scientist</td>\n",
       "      <td>b648735e1d6c82650397c67daca0b65490fc88da9828be...</td>\n",
       "    </tr>\n",
       "    <tr>\n",
       "      <th>2</th>\n",
       "      <td>25.00</td>\n",
       "      <td>0.0</td>\n",
       "      <td>data_scientist4@openmined.org</td>\n",
       "      <td>[]</td>\n",
       "      <td>5</td>\n",
       "      <td>Alice</td>\n",
       "      <td>Data Scientist</td>\n",
       "      <td>5d6b7550d50c3342a51bd7e0024be90f1f4cb19031109a...</td>\n",
       "    </tr>\n",
       "    <tr>\n",
       "      <th>3</th>\n",
       "      <td>10.00</td>\n",
       "      <td>0.0</td>\n",
       "      <td>data_scientist1@openmined.org</td>\n",
       "      <td>[]</td>\n",
       "      <td>2</td>\n",
       "      <td>Ana</td>\n",
       "      <td>Owner</td>\n",
       "      <td>36f654a3d6de919fbd211e30f1c8c4bd08db803a7621d3...</td>\n",
       "    </tr>\n",
       "    <tr>\n",
       "      <th>4</th>\n",
       "      <td>55.55</td>\n",
       "      <td>0.0</td>\n",
       "      <td>info@openmined.org</td>\n",
       "      <td>[]</td>\n",
       "      <td>1</td>\n",
       "      <td>Jane Doe</td>\n",
       "      <td>Administrator</td>\n",
       "      <td>c690fdbf0c335ebd0640da0cc9503aa6b4d16e6494cf7a...</td>\n",
       "    </tr>\n",
       "  </tbody>\n",
       "</table>\n",
       "</div>"
      ],
      "text/plain": [
       "   budget  budget_spent                          email groups  id      name  \\\n",
       "0   15.00           0.0  data_scientist2@openmined.org     []   3       Bob   \n",
       "1   20.00           0.0  data_scientist3@openmined.org     []   4      Phil   \n",
       "2   25.00           0.0  data_scientist4@openmined.org     []   5     Alice   \n",
       "3   10.00           0.0  data_scientist1@openmined.org     []   2       Ana   \n",
       "4   55.55           0.0             info@openmined.org     []   1  Jane Doe   \n",
       "\n",
       "             role                                         verify_key  \n",
       "0  Data Scientist  a69d2fb186e745d0d1100b6cccec41ac050d4e99b4792e...  \n",
       "1  Data Scientist  b648735e1d6c82650397c67daca0b65490fc88da9828be...  \n",
       "2  Data Scientist  5d6b7550d50c3342a51bd7e0024be90f1f4cb19031109a...  \n",
       "3           Owner  36f654a3d6de919fbd211e30f1c8c4bd08db803a7621d3...  \n",
       "4   Administrator  c690fdbf0c335ebd0640da0cc9503aa6b4d16e6494cf7a...  "
      ]
     },
     "execution_count": 21,
     "metadata": {},
     "output_type": "execute_result"
    }
   ],
   "source": [
    "domain.users.pandas()"
   ]
  }
 ],
 "metadata": {
  "kernelspec": {
   "display_name": "Python 3 (ipykernel)",
   "language": "python",
   "name": "python3"
  },
  "language_info": {
   "codemirror_mode": {
    "name": "ipython",
    "version": 3
   },
   "file_extension": ".py",
   "mimetype": "text/x-python",
   "name": "python",
   "nbconvert_exporter": "python",
   "pygments_lexer": "ipython3",
   "version": "3.8.10"
  }
 },
 "nbformat": 4,
 "nbformat_minor": 5
}
