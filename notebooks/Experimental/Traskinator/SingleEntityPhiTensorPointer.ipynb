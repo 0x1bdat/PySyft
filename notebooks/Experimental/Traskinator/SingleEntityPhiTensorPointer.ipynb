{
 "cells": [
  {
   "cell_type": "code",
   "execution_count": null,
   "id": "992ff431-39b9-4c72-b1c5-d6f16ba39ade",
   "metadata": {},
   "outputs": [],
   "source": [
    "import syft as sy\n",
    "import pandas as pd\n",
    "import numpy as np\n",
    "from nacl.encoding import HexEncoder\n",
    "from nacl.signing import SigningKey\n",
    "from syft.core.adp.entity import Entity"
   ]
  },
  {
   "cell_type": "code",
   "execution_count": null,
   "id": "5e2e2e22-c295-4f4c-93d8-4c61cb1c58ea",
   "metadata": {},
   "outputs": [],
   "source": [
    "data = pd.read_csv(\"../../trade_demo/datasets/ca - feb 2021.csv\")\n",
    "\n",
    "# Get canada trade data and convert into unit millions\n",
    "canada_trade = (np.array(list(data['Trade Value (US$)'])) / 1000000)[0:10]\n",
    "trade_partners = ((list(data['Partner'])))[0:10]\n",
    "\n",
    "data_batch = canada_trade\n",
    "data_batch = (data_batch * 10).astype('int32')\n",
    "\n",
    "entities = list()\n",
    "for i in range(len(data_batch)):\n",
    "    entities.append(Entity(name=trade_partners[i]))\n",
    "\n",
    "# Upload a private dataset to the Domain object, as the root owner\n",
    "x = sy.Tensor(data_batch)#.private(0, 2, entity=entities[0]).tag(\"trade_flow\")\n",
    "x.public_shape = x.shape\n",
    "\n",
    "y = sy.Tensor(data_batch)#.private(0, 2, entity=entities[0]).tag(\"trade_flow\")\n",
    "y.public_shape = y.shape"
   ]
  },
  {
   "cell_type": "code",
   "execution_count": null,
   "id": "02ab05e1-569a-4997-bd29-6eee3b21610e",
   "metadata": {},
   "outputs": [],
   "source": [
    "def encode_key(key: SigningKey) -> str:\n",
    "    return key.encode(encoder=HexEncoder).decode(\"utf-8\")\n",
    "\n",
    "_alice = sy.Domain(\"alice\")\n",
    "alice = _alice.get_root_client()\n",
    "\n",
    "alice_key = SigningKey.generate()\n",
    "_alice.users.signup(\n",
    "    name=\"Bob\",\n",
    "    email=\"bob@gmail.com\",\n",
    "    password=\"letmein\",\n",
    "    budget=10000000000,\n",
    "    role=1,\n",
    "    private_key=encode_key(alice_key),\n",
    "    verify_key=encode_key(alice_key.verify_key),\n",
    ")\n",
    "alice.verify_key = alice_key.verify_key\n",
    "alice.signing_key = alice_key\n",
    "\n",
    "_bob = sy.Domain(\"bob\")\n",
    "bob = _bob.get_root_client()\n",
    "\n",
    "bob_key = SigningKey.generate()\n",
    "_bob.users.signup(\n",
    "    name=\"Bob\",\n",
    "    email=\"bob@gmail.com\",\n",
    "    password=\"letmein\",\n",
    "    budget=10000000000,\n",
    "    role=1,\n",
    "    private_key=encode_key(bob_key),\n",
    "    verify_key=encode_key(bob_key.verify_key),\n",
    ")\n",
    "bob.verify_key = bob_key.verify_key\n",
    "bob.signing_key = bob_key"
   ]
  },
  {
   "cell_type": "code",
   "execution_count": null,
   "id": "9a285caa-8cb4-44bc-b3fe-e7de63e8cda0",
   "metadata": {},
   "outputs": [],
   "source": [
    "xp = x.send(alice)\n",
    "yp = y.send(bob)\n",
    "\n",
    "dp_x = x.private(0, 2, entity=entities[0]).tag(\"trade_flow\")"
   ]
  },
  {
   "cell_type": "code",
   "execution_count": null,
   "id": "015bed05-4a58-4f8b-a3eb-f516b29e7e9f",
   "metadata": {},
   "outputs": [],
   "source": [
    "dp_x"
   ]
  },
  {
   "cell_type": "code",
   "execution_count": null,
   "id": "960127bb-98c2-412a-a8f1-ab853a332180",
   "metadata": {},
   "outputs": [],
   "source": [
    "dp_x_p = dp_x.send(alice)"
   ]
  },
  {
   "cell_type": "code",
   "execution_count": null,
   "id": "c02c8237-e08d-45fd-9d57-7a30be548db5",
   "metadata": {},
   "outputs": [],
   "source": [
    "type(dp_x_p), dp_x_p.id_at_location"
   ]
  },
  {
   "cell_type": "code",
   "execution_count": null,
   "id": "2a06c1c8-6fd7-43c0-9e05-c33eb69f4363",
   "metadata": {},
   "outputs": [],
   "source": [
    "out = dp_x_p.share(bob)"
   ]
  },
  {
   "cell_type": "code",
   "execution_count": null,
   "id": "c0d92a67-c0c3-404f-a4b9-f8d879eac86c",
   "metadata": {},
   "outputs": [],
   "source": [
    "type(out), [child.id_at_location for child in out.child]"
   ]
  },
  {
   "cell_type": "code",
   "execution_count": null,
   "id": "fdf58aa1-b992-4ee8-9749-16a27cca7b68",
   "metadata": {},
   "outputs": [],
   "source": [
    "# out2 = out.publish(sigma=0.01)\n",
    "out2 = out.publish(sigma=0.1)"
   ]
  },
  {
   "cell_type": "code",
   "execution_count": null,
   "id": "b5eec26f-8517-4622-9fb2-79643b79e487",
   "metadata": {},
   "outputs": [],
   "source": [
    "type(out2), [child.id_at_location for child in out.child]"
   ]
  },
  {
   "cell_type": "code",
   "execution_count": null,
   "id": "25f00198-cadc-474a-8f90-1d2b11cf1125",
   "metadata": {},
   "outputs": [],
   "source": [
    "f = out2.get()"
   ]
  },
  {
   "cell_type": "code",
   "execution_count": null,
   "id": "bf42c3da-266f-42c7-9065-53f960538f37",
   "metadata": {},
   "outputs": [],
   "source": [
    "type(f)"
   ]
  },
  {
   "cell_type": "code",
   "execution_count": null,
   "id": "98abd0c9-1d0a-4959-947a-e6da93151782",
   "metadata": {},
   "outputs": [],
   "source": [
    "f"
   ]
  },
  {
   "cell_type": "code",
   "execution_count": null,
   "id": "e7f8e58c-6933-4dfb-8b80-317b57a833c8",
   "metadata": {},
   "outputs": [],
   "source": [
    "x"
   ]
  },
  {
   "cell_type": "code",
   "execution_count": null,
   "id": "ff241395-48aa-4055-a3aa-8b96f0707285",
   "metadata": {},
   "outputs": [],
   "source": []
  }
 ],
 "metadata": {
  "kernelspec": {
   "display_name": "Python 3 (ipykernel)",
   "language": "python",
   "name": "python3"
  },
  "language_info": {
   "codemirror_mode": {
    "name": "ipython",
    "version": 3
   },
   "file_extension": ".py",
   "mimetype": "text/x-python",
   "name": "python",
   "nbconvert_exporter": "python",
   "pygments_lexer": "ipython3",
   "version": "3.9.4"
  }
 },
 "nbformat": 4,
 "nbformat_minor": 5
}
