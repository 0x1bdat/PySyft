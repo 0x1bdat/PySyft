{
 "cells": [
  {
   "cell_type": "code",
   "execution_count": 1,
   "id": "f14130c4-ffe8-4ea4-8b34-8c5f175ebae9",
   "metadata": {},
   "outputs": [
    {
     "name": "stdout",
     "output_type": "stream",
     "text": [
      "Seeding DB with roles!\n"
     ]
    },
    {
     "name": "stderr",
     "output_type": "stream",
     "text": [
      "/Users/andrewliamtrask/opt/anaconda3/envs/syft/lib/python3.8/site-packages/IPython/core/interactiveshell.py:3169: DtypeWarning: Columns (14) have mixed types.Specify dtype option on import or set low_memory=False.\n",
      "  has_raised = await self.run_ast_nodes(code_ast.body, cell_name,\n"
     ]
    },
    {
     "name": "stdout",
     "output_type": "stream",
     "text": [
      "Seeding DB with roles!\n",
      "Setup hasnt run yet so ignoring set_node_uid\n",
      "Seeding DB with roles!\n",
      "Setup hasnt run yet so ignoring set_node_uid\n"
     ]
    }
   ],
   "source": [
    "import syft as sy\n",
    "import pandas as pd\n",
    "import numpy as np\n",
    "from nacl.encoding import HexEncoder\n",
    "from nacl.signing import SigningKey\n",
    "\n",
    "from syft.core.adp.entity import Entity\n",
    "data = pd.read_csv(\"../../trade_demo/datasets/ca - feb 2021.csv\")\n",
    "\n",
    "# Get canada trade data and convert into unit millions\n",
    "canada_trade = (np.array(list(data['Trade Value (US$)'])) / 1000000)[0:10]\n",
    "trade_partners = ((list(data['Partner'])))[0:10]\n",
    "\n",
    "data_batch = canada_trade\n",
    "data_batch = (data_batch * 10).astype('int')\n",
    "\n",
    "entities = list()\n",
    "for i in range(len(data_batch)):\n",
    "    entities.append(Entity(name=trade_partners[i]))\n",
    "\n",
    "# Upload a private dataset to the Domain object, as the root owner\n",
    "x = sy.Tensor(data_batch)#.private(0, 2, entity=entities[0]).tag(\"trade_flow\")\n",
    "x.public_shape = x.shape\n",
    "\n",
    "y = sy.Tensor(data_batch)#.private(0, 2, entity=entities[0]).tag(\"trade_flow\")\n",
    "y.public_shape = y.shape\n",
    "\n",
    "\n",
    "_alice = sy.Domain(\"alice\")\n",
    "alice = _alice.get_root_client()\n",
    "\n",
    "\n",
    "def encode_key(key: SigningKey) -> str:\n",
    "    return key.encode(encoder=HexEncoder).decode(\"utf-8\")\n",
    "\n",
    "alice_key = SigningKey.generate()\n",
    "_alice.users.signup(\n",
    "    name=\"Bob\",\n",
    "    email=\"bob@gmail.com\",\n",
    "    password=\"letmein\",\n",
    "    budget=10000000000,\n",
    "    role=1,\n",
    "    private_key=encode_key(alice_key),\n",
    "    verify_key=encode_key(alice_key.verify_key),\n",
    ")\n",
    "alice.verify_key = alice_key.verify_key\n",
    "alice.signing_key = alice_key\n",
    "\n",
    "_bob = sy.Domain(\"bob\")\n",
    "bob = _bob.get_root_client()\n",
    "\n",
    "bob_key = SigningKey.generate()\n",
    "_bob.users.signup(\n",
    "    name=\"Bob\",\n",
    "    email=\"bob@gmail.com\",\n",
    "    password=\"letmein\",\n",
    "    budget=10000000000,\n",
    "    role=1,\n",
    "    private_key=encode_key(bob_key),\n",
    "    verify_key=encode_key(bob_key.verify_key),\n",
    ")\n",
    "bob.verify_key = bob_key.verify_key\n",
    "bob.signing_key = bob_key\n",
    "\n",
    "\n",
    "xp = x.send(alice)\n",
    "yp = y.send(bob)\n",
    "\n",
    "\n",
    "dp_x = x.private(0, 2, entity=entities[0]).tag(\"trade_flow\")"
   ]
  },
  {
   "cell_type": "code",
   "execution_count": 2,
   "id": "fb34d99b-3286-4e1c-bd27-71513ab79ff7",
   "metadata": {},
   "outputs": [],
   "source": [
    "from syft import proxy"
   ]
  },
  {
   "cell_type": "code",
   "execution_count": 3,
   "id": "015bed05-4a58-4f8b-a3eb-f516b29e7e9f",
   "metadata": {},
   "outputs": [
    {
     "data": {
      "text/plain": [
       "Tensor(child=SingleEntityPhiTensor(entity=Other Asia, nes, child=[ 0  1 14  0  0  0  0  3  0  0]))"
      ]
     },
     "execution_count": 3,
     "metadata": {},
     "output_type": "execute_result"
    }
   ],
   "source": [
    "dp_x"
   ]
  },
  {
   "cell_type": "code",
   "execution_count": 4,
   "id": "960127bb-98c2-412a-a8f1-ab853a332180",
   "metadata": {},
   "outputs": [],
   "source": [
    "dp_x_p = dp_x.send(alice)"
   ]
  },
  {
   "cell_type": "code",
   "execution_count": 5,
   "id": "2a06c1c8-6fd7-43c0-9e05-c33eb69f4363",
   "metadata": {},
   "outputs": [
    {
     "name": "stderr",
     "output_type": "stream",
     "text": [
      "[2021-08-27T04:10:41.202248+0100][CRITICAL][logger]][20510] __getattribute__ failed. If you are trying to access an EnumAttribute or a StaticAttribute, be sure they have been added to the AST. Falling back on__getattr__ to search in self.attrs for the requested field.\n",
      "[2021-08-27T04:10:41.202932+0100][CRITICAL][logger]][20510] 'Class' object has no attribute 'generate_przs_on_dp_tensor'\n",
      "[2021-08-27T04:10:41.247281+0100][CRITICAL][logger]][20510] __getattribute__ failed. If you are trying to access an EnumAttribute or a StaticAttribute, be sure they have been added to the AST. Falling back on__getattr__ to search in self.attrs for the requested field.\n",
      "[2021-08-27T04:10:41.248137+0100][CRITICAL][logger]][20510] 'Class' object has no attribute 'generate_przs_on_dp_tensor'\n"
     ]
    }
   ],
   "source": [
    "out = dp_x_p.share(bob)"
   ]
  },
  {
   "cell_type": "code",
   "execution_count": 6,
   "id": "fdf58aa1-b992-4ee8-9749-16a27cca7b68",
   "metadata": {},
   "outputs": [
    {
     "name": "stdout",
     "output_type": "stream",
     "text": [
      "a\n",
      "b\n",
      "c\n",
      "\n",
      "\n",
      "PROCESSING PUBLISH SCALAR ACTION!!!\n",
      "\n",
      "\n",
      "Verify Key:<class 'nacl.signing.VerifyKey'>\n",
      "<syft.core.node.common.node_manager.ledger_manager.LedgerManager object at 0x7fb1f94843a0>\n",
      "<syft.core.adp.adversarial_accountant.AdversarialAccountant object at 0x7fb1f9484310>\n",
      "<UID: baf7deb30fc2406cacec168519eb09e1>\n",
      "IntermediateGamma.publish\n",
      "<class 'syft.core.tensor.autodp.initial_gamma.InitialGammaTensor'>\n",
      "<class 'list'>\n",
      "\n",
      "\n",
      "Has Budget:True\n",
      "SPEND:203318.72183883536\n",
      "USER BUDGET:10000000000.0\n",
      "d\n",
      "a\n",
      "b\n",
      "c\n",
      "\n",
      "\n",
      "PROCESSING PUBLISH SCALAR ACTION!!!\n",
      "\n",
      "\n",
      "Verify Key:<class 'nacl.signing.VerifyKey'>\n",
      "<syft.core.node.common.node_manager.ledger_manager.LedgerManager object at 0x7fb1a94c1a30>\n",
      "<syft.core.adp.adversarial_accountant.AdversarialAccountant object at 0x7fb1a94c19a0>\n",
      "<UID: 461bac27ed9c45f08fee3ca3c029050b>\n",
      "IntermediateGamma.publish\n",
      "<class 'syft.core.tensor.autodp.initial_gamma.InitialGammaTensor'>\n",
      "<class 'list'>\n",
      "\n",
      "\n",
      "Has Budget:True\n",
      "SPEND:203318.72183883536\n",
      "USER BUDGET:10000000000.0\n",
      "d\n"
     ]
    }
   ],
   "source": [
    "out2 = out.publish(sigma=0.01)"
   ]
  },
  {
   "cell_type": "code",
   "execution_count": 7,
   "id": "25f00198-cadc-474a-8f90-1d2b11cf1125",
   "metadata": {},
   "outputs": [
    {
     "data": {
      "text/plain": [
       "Tensor(child=ShareTensor(child=[0. 0. 0. 0. 0. 0. 0. 0. 0. 0.]))"
      ]
     },
     "execution_count": 7,
     "metadata": {},
     "output_type": "execute_result"
    }
   ],
   "source": [
    "out2.get()"
   ]
  },
  {
   "cell_type": "code",
   "execution_count": null,
   "id": "bf42c3da-266f-42c7-9065-53f960538f37",
   "metadata": {},
   "outputs": [],
   "source": []
  },
  {
   "cell_type": "code",
   "execution_count": null,
   "id": "98abd0c9-1d0a-4959-947a-e6da93151782",
   "metadata": {},
   "outputs": [],
   "source": []
  },
  {
   "cell_type": "code",
   "execution_count": null,
   "id": "02f5cb73-a1a0-497c-8e18-7217284fed20",
   "metadata": {},
   "outputs": [],
   "source": []
  },
  {
   "cell_type": "code",
   "execution_count": null,
   "id": "bc26de2e-4f66-4747-a604-1b9ed75f78a1",
   "metadata": {},
   "outputs": [],
   "source": []
  },
  {
   "cell_type": "code",
   "execution_count": null,
   "id": "9ca67132-0e97-447a-963b-eb8d58a47670",
   "metadata": {},
   "outputs": [],
   "source": []
  },
  {
   "cell_type": "code",
   "execution_count": null,
   "id": "83e74d33-f217-4203-b01f-a8ce5d8fcfb8",
   "metadata": {},
   "outputs": [],
   "source": []
  },
  {
   "cell_type": "code",
   "execution_count": null,
   "id": "ceeafa42-dc71-4f81-8802-27493f4e85f4",
   "metadata": {},
   "outputs": [],
   "source": []
  },
  {
   "cell_type": "code",
   "execution_count": null,
   "id": "a40e4b25-7112-4060-9d76-63e7902537bb",
   "metadata": {},
   "outputs": [],
   "source": []
  },
  {
   "cell_type": "code",
   "execution_count": 17,
   "id": "d05f7130-35cf-4b79-ba5c-79eb26fe927b",
   "metadata": {},
   "outputs": [],
   "source": [
    "obj2 = \n",
    "dp_on_bob = obj2"
   ]
  },
  {
   "cell_type": "code",
   "execution_count": 23,
   "id": "b4834e64-9507-4207-83ec-75e1f345c09a",
   "metadata": {},
   "outputs": [
    {
     "name": "stdout",
     "output_type": "stream",
     "text": [
      "<class 'syft.core.node.common.node_manager.bin_obj_manager.BinObjectManager'> Exception in __delitem__ error <UID: dafc1aa6db8a456db47456a02e986f56>. Class 'builtins.NoneType' is not mapped\n",
      "<class 'syft.core.node.common.node_manager.bin_obj_manager.BinObjectManager'> Exception in __delitem__ error <UID: 169d3470c5f448f285bf8e5ec8db7039>. Class 'builtins.NoneType' is not mapped\n",
      "<class 'syft.core.node.common.node_manager.bin_obj_manager.BinObjectManager'> Exception in __delitem__ error <UID: 3a9e85d6a98a43b587fd921bcbbb986d>. Class 'builtins.NoneType' is not mapped\n"
     ]
    }
   ],
   "source": [
    "new_shares = list()\n",
    "for share in shares:\n",
    "    db_on_party = dp_x_p.to_local_object_without_private_data_child().send(share.client)\n",
    "    db_on_party.wrap_object_as_grandchild_syft_inplace(share)\n",
    "    new_shares.append(db_on_party)"
   ]
  },
  {
   "cell_type": "code",
   "execution_count": 11,
   "id": "4bb5d399-e863-4b98-8f20-b0fb73f588bf",
   "metadata": {},
   "outputs": [
    {
     "data": {
      "text/plain": [
       "<_SyNonePointer -> bob:603197a839534c8dae24c5d9a29cacd5>"
      ]
     },
     "execution_count": 11,
     "metadata": {},
     "output_type": "execute_result"
    }
   ],
   "source": []
  },
  {
   "cell_type": "code",
   "execution_count": 12,
   "id": "30b62986-7bd2-45f2-814a-614d4097364e",
   "metadata": {},
   "outputs": [],
   "source": [
    "out = dp_on_bob.get()"
   ]
  },
  {
   "cell_type": "code",
   "execution_count": 14,
   "id": "5c3b7c4a-d25a-4f7f-bdba-bb3580ec7742",
   "metadata": {},
   "outputs": [
    {
     "data": {
      "text/plain": [
       "Tensor(child=SingleEntityPhiTensor(entity=Other Asia, nes, child=ShareTensor(child=[ 5128380185159659209 -5289073601262147519 -3328721886515353403\n",
       "  9115167135579215990 -3248790819813871118 -7096867462685165506\n",
       " -2029997020623991003  3422436150232718540 -7275308837455777905\n",
       "  2757870220752755633])))"
      ]
     },
     "execution_count": 14,
     "metadata": {},
     "output_type": "execute_result"
    }
   ],
   "source": [
    "out"
   ]
  },
  {
   "cell_type": "code",
   "execution_count": null,
   "id": "d0c710ca-2e8c-42d3-9289-8fb767c74c04",
   "metadata": {},
   "outputs": [],
   "source": []
  },
  {
   "cell_type": "code",
   "execution_count": null,
   "id": "f85f3f5c-b4f2-4c83-ad46-74d27578162a",
   "metadata": {},
   "outputs": [],
   "source": [
    "from syft.c"
   ]
  },
  {
   "cell_type": "code",
   "execution_count": 6,
   "id": "5bc67fd6-9ad4-4f3d-9430-109e507edacb",
   "metadata": {},
   "outputs": [],
   "source": [
    "# alice.store[0]"
   ]
  },
  {
   "cell_type": "code",
   "execution_count": 6,
   "id": "f322039d-c96a-49e2-bcf5-07f72485d45c",
   "metadata": {},
   "outputs": [
    {
     "name": "stderr",
     "output_type": "stream",
     "text": [
      "[2021-08-27T01:32:50.287241+0100][CRITICAL][logger]][17749] __getattribute__ failed. If you are trying to access an EnumAttribute or a StaticAttribute, be sure they have been added to the AST. Falling back on__getattr__ to search in self.attrs for the requested field.\n",
      "[2021-08-27T01:32:50.288117+0100][CRITICAL][logger]][17749] 'Class' object has no attribute 'generate_przs'\n",
      "[2021-08-27T01:32:50.318787+0100][CRITICAL][logger]][17749] __getattribute__ failed. If you are trying to access an EnumAttribute or a StaticAttribute, be sure they have been added to the AST. Falling back on__getattr__ to search in self.attrs for the requested field.\n",
      "[2021-08-27T01:32:50.319491+0100][CRITICAL][logger]][17749] 'Class' object has no attribute 'generate_przs'\n",
      "[2021-08-27T01:32:50.355008+0100][CRITICAL][logger]][17749] __getattribute__ failed. If you are trying to access an EnumAttribute or a StaticAttribute, be sure they have been added to the AST. Falling back on__getattr__ to search in self.attrs for the requested field.\n",
      "[2021-08-27T01:32:50.355801+0100][CRITICAL][logger]][17749] 'Class' object has no attribute 'generate_przs'\n",
      "[2021-08-27T01:32:50.387124+0100][CRITICAL][logger]][17749] __getattribute__ failed. If you are trying to access an EnumAttribute or a StaticAttribute, be sure they have been added to the AST. Falling back on__getattr__ to search in self.attrs for the requested field.\n",
      "[2021-08-27T01:32:50.388045+0100][CRITICAL][logger]][17749] 'Class' object has no attribute 'generate_przs'\n"
     ]
    },
    {
     "name": "stdout",
     "output_type": "stream",
     "text": [
      "MPCTensor.shape=(10,)\n",
      "\t .child[0] = <ShareTensorPointer -> alice:f37123c27129404fa471c0dedc63c897>\n",
      "\t .child[1] = <ShareTensorPointer -> bob:8cac821e0dff41d78581ba7a46de6ee7>\n",
      "MPCTensor.shape=(10,)\n",
      "\t .child[0] = <ShareTensorPointer -> alice:c0180d15af7e438f921cb359922263c7>\n",
      "\t .child[1] = <ShareTensorPointer -> bob:b17496b3427f4d5090f0d3de3ec29fa6>\n"
     ]
    }
   ],
   "source": []
  },
  {
   "cell_type": "code",
   "execution_count": 7,
   "id": "2395fdb0-babb-4802-b308-0ab6dbddd12b",
   "metadata": {},
   "outputs": [],
   "source": []
  },
  {
   "cell_type": "code",
   "execution_count": 10,
   "id": "87b8149b-0b73-4210-a3fc-81c15bc65571",
   "metadata": {},
   "outputs": [
    {
     "data": {
      "text/plain": [
       "<ShareTensorPointer -> alice:4e082ff76c045bc3350f9d4403ea6b52>"
      ]
     },
     "execution_count": 10,
     "metadata": {},
     "output_type": "execute_result"
    }
   ],
   "source": [
    "share"
   ]
  },
  {
   "cell_type": "code",
   "execution_count": null,
   "id": "0b3a0209-1a86-4736-86b6-2029fb7168fa",
   "metadata": {},
   "outputs": [],
   "source": []
  },
  {
   "cell_type": "code",
   "execution_count": null,
   "id": "a9eb6da5-6bac-4886-9ca1-c06315e77b1b",
   "metadata": {},
   "outputs": [],
   "source": []
  },
  {
   "cell_type": "code",
   "execution_count": 5,
   "id": "6871d0da-61df-4dee-a308-e553097ab4d3",
   "metadata": {},
   "outputs": [
    {
     "data": {
      "text/plain": [
       "array([ 0,  2, 28,  0,  0,  0,  0,  6,  0,  0])"
      ]
     },
     "execution_count": 5,
     "metadata": {},
     "output_type": "execute_result"
    }
   ],
   "source": [
    "zp.get()"
   ]
  },
  {
   "cell_type": "code",
   "execution_count": null,
   "id": "1fab9743-54a0-4cd9-8bff-89b26d8cb65d",
   "metadata": {},
   "outputs": [],
   "source": []
  },
  {
   "cell_type": "code",
   "execution_count": null,
   "id": "3c77b1a4-6b24-4f03-8292-ed5c9d6f288a",
   "metadata": {},
   "outputs": [],
   "source": []
  },
  {
   "cell_type": "code",
   "execution_count": 2,
   "id": "152a4a41-30f8-4bbe-8446-0bc605b26c6c",
   "metadata": {},
   "outputs": [],
   "source": [
    "ptr = private_data.send(client)"
   ]
  },
  {
   "cell_type": "code",
   "execution_count": 3,
   "id": "1bdc1928-f1e3-4726-89b1-44db8edd628f",
   "metadata": {},
   "outputs": [],
   "source": [
    "y = ptr + ptr"
   ]
  },
  {
   "cell_type": "code",
   "execution_count": 4,
   "id": "4b4e2def-2047-4319-9cd7-363e28558308",
   "metadata": {},
   "outputs": [
    {
     "data": {
      "text/plain": [
       "<TensorPointer -> test:e4b05ae8caa942138e73e29e0ef92c3a>"
      ]
     },
     "execution_count": 4,
     "metadata": {},
     "output_type": "execute_result"
    }
   ],
   "source": [
    "y.gamma"
   ]
  },
  {
   "cell_type": "code",
   "execution_count": 5,
   "id": "0e03648c-f0b1-4753-8d2f-2e4cd5328d63",
   "metadata": {},
   "outputs": [
    {
     "data": {
      "text/html": [
       "<div>\n",
       "<style scoped>\n",
       "    .dataframe tbody tr th:only-of-type {\n",
       "        vertical-align: middle;\n",
       "    }\n",
       "\n",
       "    .dataframe tbody tr th {\n",
       "        vertical-align: top;\n",
       "    }\n",
       "\n",
       "    .dataframe thead th {\n",
       "        text-align: right;\n",
       "    }\n",
       "</style>\n",
       "<table border=\"1\" class=\"dataframe\">\n",
       "  <thead>\n",
       "    <tr style=\"text-align: right;\">\n",
       "      <th></th>\n",
       "      <th>ID</th>\n",
       "      <th>Tags</th>\n",
       "      <th>Description</th>\n",
       "      <th>object_type</th>\n",
       "    </tr>\n",
       "  </thead>\n",
       "  <tbody>\n",
       "    <tr>\n",
       "      <th>0</th>\n",
       "      <td>&lt;UID: 977e03582b594049b75efab52aa86a3a&gt;</td>\n",
       "      <td>[trade_flow]</td>\n",
       "      <td></td>\n",
       "      <td>&lt;class 'syft.core.tensor.tensor.Tensor'&gt;</td>\n",
       "    </tr>\n",
       "    <tr>\n",
       "      <th>1</th>\n",
       "      <td>&lt;UID: e4b05ae8caa942138e73e29e0ef92c3a&gt;</td>\n",
       "      <td>[trade_flow, __add__, gamma]</td>\n",
       "      <td></td>\n",
       "      <td>&lt;class 'syft.core.tensor.tensor.Tensor'&gt;</td>\n",
       "    </tr>\n",
       "    <tr>\n",
       "      <th>2</th>\n",
       "      <td>&lt;UID: f6922fa19e824974847fdbb6a81f2a84&gt;</td>\n",
       "      <td>[trade_flow, __add__]</td>\n",
       "      <td></td>\n",
       "      <td>&lt;class 'syft.core.tensor.tensor.Tensor'&gt;</td>\n",
       "    </tr>\n",
       "  </tbody>\n",
       "</table>\n",
       "</div>"
      ],
      "text/plain": [
       "[<TensorPointer -> test:977e03582b594049b75efab52aa86a3a>, <TensorPointer -> test:e4b05ae8caa942138e73e29e0ef92c3a>, <TensorPointer -> test:f6922fa19e824974847fdbb6a81f2a84>]"
      ]
     },
     "execution_count": 5,
     "metadata": {},
     "output_type": "execute_result"
    }
   ],
   "source": [
    "client.store"
   ]
  },
  {
   "cell_type": "code",
   "execution_count": 11,
   "id": "c0d19e35-8fac-4a6f-8940-c8ac9e1de25c",
   "metadata": {},
   "outputs": [],
   "source": [
    "ptpr = client.store[0]"
   ]
  },
  {
   "cell_type": "code",
   "execution_count": 12,
   "id": "01a1ed88-9e36-4831-9da6-50d4ec8e155d",
   "metadata": {},
   "outputs": [
    {
     "data": {
      "text/plain": [
       "syft.core.tensor.tensor.TensorPointer"
      ]
     },
     "execution_count": 12,
     "metadata": {},
     "output_type": "execute_result"
    }
   ],
   "source": [
    "type(ptr)"
   ]
  },
  {
   "cell_type": "code",
   "execution_count": null,
   "id": "ffdbeed2-0530-40c4-abdb-b4bc067cc3ef",
   "metadata": {},
   "outputs": [],
   "source": []
  }
 ],
 "metadata": {
  "kernelspec": {
   "display_name": "Python 3",
   "language": "python",
   "name": "python3"
  },
  "language_info": {
   "codemirror_mode": {
    "name": "ipython",
    "version": 3
   },
   "file_extension": ".py",
   "mimetype": "text/x-python",
   "name": "python",
   "nbconvert_exporter": "python",
   "pygments_lexer": "ipython3",
   "version": "3.8.10"
  }
 },
 "nbformat": 4,
 "nbformat_minor": 5
}
