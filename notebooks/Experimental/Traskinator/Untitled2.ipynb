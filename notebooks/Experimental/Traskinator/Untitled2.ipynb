{
 "cells": [
  {
   "cell_type": "code",
   "execution_count": 1,
   "id": "a7ba5efe-517a-4fb4-ab3f-96363955ca0b",
   "metadata": {},
   "outputs": [
    {
     "name": "stdout",
     "output_type": "stream",
     "text": [
      "/Users/areopagus/Laboratory/PySyft/packages/syft/src/syft/lib/__init__.py:load:195\n"
     ]
    }
   ],
   "source": [
    "import syft as sy\n",
    "import numpy as np\n",
    "from syft.core.common.uid import UID"
   ]
  },
  {
   "cell_type": "code",
   "execution_count": 2,
   "id": "e5d8275f-689e-4fd0-ad8f-16b2565f2d25",
   "metadata": {},
   "outputs": [],
   "source": [
    "# NETWORK_HOST_IP = \"localhost:9081\""
   ]
  },
  {
   "cell_type": "code",
   "execution_count": 3,
   "id": "9b83f5cc-46f2-45c7-bad8-89bf2ebd1479",
   "metadata": {},
   "outputs": [],
   "source": [
    "from syft.core.node.common.node_service.simple.obj_exists import DoesObjectExistMessage"
   ]
  },
  {
   "cell_type": "code",
   "execution_count": 4,
   "id": "3ed7d7c0-75c8-47b6-a201-2189980d5425",
   "metadata": {},
   "outputs": [
    {
     "name": "stdout",
     "output_type": "stream",
     "text": [
      "Connecting to http://localhost:8081... done! \t Logging into crazy_gardner... done!\n"
     ]
    }
   ],
   "source": [
    "domain = sy.login(email=\"info@openmined.org\", password=\"changethis\", port=8081)"
   ]
  },
  {
   "cell_type": "code",
   "execution_count": 9,
   "id": "b150b4c7-9d84-4d52-861b-42a4b72f72b6",
   "metadata": {},
   "outputs": [],
   "source": [
    "x = np.array([1,2,3,4]).astype(np.int32)"
   ]
  },
  {
   "cell_type": "code",
   "execution_count": 10,
   "id": "bca09698-8215-47f6-8ea3-43b502df8985",
   "metadata": {},
   "outputs": [],
   "source": [
    "uid = UID()"
   ]
  },
  {
   "cell_type": "code",
   "execution_count": 11,
   "id": "3c997092-1128-439c-b96c-903938f5114c",
   "metadata": {},
   "outputs": [
    {
     "data": {
      "text/plain": [
       "'0c497ca9c9d54a49b890fb6f8b30fc15'"
      ]
     },
     "execution_count": 11,
     "metadata": {},
     "output_type": "execute_result"
    }
   ],
   "source": [
    "uid.no_dash"
   ]
  },
  {
   "cell_type": "code",
   "execution_count": 12,
   "id": "93c0bbdf-3edd-4998-b0cb-12e5006897e8",
   "metadata": {},
   "outputs": [],
   "source": [
    "ptr = x.send(domain, id_at_location_override=uid)"
   ]
  },
  {
   "cell_type": "code",
   "execution_count": 9,
   "id": "058b4c25-25d5-4f15-8d63-4327202e112d",
   "metadata": {},
   "outputs": [
    {
     "data": {
      "text/plain": [
       "<ndarrayPointer -> crazy_gardner:f20515f194844c8b83f0874be16f4eaf>"
      ]
     },
     "execution_count": 9,
     "metadata": {},
     "output_type": "execute_result"
    }
   ],
   "source": [
    "ptr.block"
   ]
  },
  {
   "cell_type": "code",
   "execution_count": 7,
   "id": "13749d83-73c7-4625-8ee9-a8b2a7b078dd",
   "metadata": {},
   "outputs": [],
   "source": [
    "reply = domain.send_immediate_msg_with_reply(msg)"
   ]
  },
  {
   "cell_type": "code",
   "execution_count": 9,
   "id": "33f3ee1f-5aee-4da6-9996-15ca7f86e002",
   "metadata": {},
   "outputs": [
    {
     "data": {
      "text/plain": [
       "True"
      ]
     },
     "execution_count": 9,
     "metadata": {},
     "output_type": "execute_result"
    }
   ],
   "source": [
    "reply.payload"
   ]
  },
  {
   "cell_type": "code",
   "execution_count": 12,
   "id": "95c301c5-3dbd-4c09-97d4-a45209fb21aa",
   "metadata": {},
   "outputs": [],
   "source": []
  },
  {
   "cell_type": "code",
   "execution_count": 17,
   "id": "1e7a8531-efcc-4c5e-983c-a4b3c12370f1",
   "metadata": {},
   "outputs": [],
   "source": [
    "reply = domain.send_immediate_msg_with_reply(DoesObjectExistMessage(obj_id=UID()))"
   ]
  },
  {
   "cell_type": "code",
   "execution_count": 18,
   "id": "5c41fcf3-fdec-45fc-8509-da1df608d438",
   "metadata": {},
   "outputs": [
    {
     "data": {
      "text/plain": [
       "False"
      ]
     },
     "execution_count": 18,
     "metadata": {},
     "output_type": "execute_result"
    }
   ],
   "source": [
    "reply.payload"
   ]
  },
  {
   "cell_type": "code",
   "execution_count": null,
   "id": "fd8e5bf8-b6c1-42a9-b021-0a8aab87d114",
   "metadata": {},
   "outputs": [],
   "source": []
  }
 ],
 "metadata": {
  "kernelspec": {
   "display_name": "Python 3 (ipykernel)",
   "language": "python",
   "name": "python3"
  },
  "language_info": {
   "codemirror_mode": {
    "name": "ipython",
    "version": 3
   },
   "file_extension": ".py",
   "mimetype": "text/x-python",
   "name": "python",
   "nbconvert_exporter": "python",
   "pygments_lexer": "ipython3",
   "version": "3.9.7"
  }
 },
 "nbformat": 4,
 "nbformat_minor": 5
}
