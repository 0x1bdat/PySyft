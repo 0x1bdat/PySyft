{
 "cells": [
  {
   "cell_type": "code",
   "execution_count": 1,
   "metadata": {},
   "outputs": [],
   "source": [
    "import pandas as pd\n",
    "import syft as sy\n",
    "import numpy as np"
   ]
  },
  {
   "cell_type": "code",
   "execution_count": 2,
   "metadata": {},
   "outputs": [],
   "source": [
    "data = pd.read_csv(\"../../trade_demo/datasets/ca - feb 2021.csv\", low_memory=False)[0:10]\n",
    "data.head()\n",
    "\n",
    "# We will upload only the first few rows\n",
    "# All these three columns are of `int` type\n",
    "\n",
    "# NOTE: casting this tensor as np.int32 is REALLY IMPORTANT. We need to create flags for this or something\n",
    "canada_trade = ((np.array(list(data['Trade Value (US$)'])) / 100000)[0:10]).astype(np.int32)\n",
    "\n",
    "# Upload a private dataset to the Domain object, as the root owner\n",
    "sampled_canada_dataset = sy.Tensor(canada_trade)"
   ]
  },
  {
   "cell_type": "code",
   "execution_count": 3,
   "metadata": {},
   "outputs": [
    {
     "name": "stdout",
     "output_type": "stream",
     "text": [
      "ALERT: You didn't pass in any entities. Launching entity wizard...\n",
      "\n",
      "\t=====================================================================\n",
      "\tWelcome to the Data Subject Annotation Wizard!!!\n",
      "\t=====================================================================\n",
      "\n",
      "\tYou've arrived here because you called Tensor.private() without\n",
      "\tpassing in any entities! Since the purpose of .private() is to add\n",
      "\tmetadata for the support of automatic differential privacy budgeting,\n",
      "\tyou need to describe which parts of your Tensor correspond to which\n",
      "\treal-world data subjects (entities) whose privacy you want to\n",
      "\tprotect. This is the only way the system knows, for example, that it\n",
      "\tcosts twice as much privacy budget when twice as much of your data\n",
      "\t(say, 2 rows instead of 1 row) refer to the same entity.\n",
      "\n",
      "\tEntities can be people (such as a medical patient), places (such as a\n",
      "\tfamily's address), or even organizations (such as a business, state,\n",
      "\tor country). If you're not sure what kind of entity to include, just\n",
      "\task yourself the question, \"who am I trying to protect the privacy\n",
      "\tof?\". If it's an organization, make one entity per organization. If\n",
      "\tit's people, make one entity per person. If it's a group of people\n",
      "\twho are somehow similar/linked to each other (such as a family), make\n",
      "\teach entity a different group. For more information on differential\n",
      "\tprivacy, see OpenMined's course on the subject:\n",
      "\thttps://courses.openmined.org/\n",
      "\n",
      "\tSince you didn't pass in entities into .private() (or you did so\n",
      "\tincorrectly), this wizard is going to guide you through the process\n",
      "\tof annotating your data with entities.\n",
      "\n",
      "\tIn this wizard, we're going to ask you for *unique identifiers* which\n",
      "\trefer to the entities in your data. While the unique identifiers need\n",
      "\tnot be personal data (they can be random strings of letters and\n",
      "\tnumbers if you like). It is ESSENTIAL that you use the same\n",
      "\tidentifier when referring to the same entity in the data that you\n",
      "\tnever accidentally refer to two entities by the same identifier.\n",
      "\tAdditionally, if you plan to do any kind of data JOIN with another\n",
      "\tdataset, it is ESSENTIAL that you are using the same unique\n",
      "\tidentifiers for entities as the data you're joining with. Since these\n",
      "\tunique identifiers may be personal information, PySyft might not be\n",
      "\table to detect if two tensors are using different identifiers for the\n",
      "\tsame person.\n",
      "\n",
      "\tSo, in this tutorial we're going to be asking you to specify Unique\n",
      "\tIdentifiers (UIDs) for each entity in your data. This could be an\n",
      "\temail, street address, or any other string that identifies someone\n",
      "\tuniquely in your data and in the data you intend to use with your\n",
      "\tdata (if any).\n",
      "\n",
      "\tDo you understand, and are you ready to proceed? (yes/no)\n",
      "\n"
     ]
    },
    {
     "name": "stdin",
     "output_type": "stream",
     "text": [
      "\t yes\n"
     ]
    },
    {
     "name": "stdout",
     "output_type": "stream",
     "text": [
      "\n",
      "\tExcellent! Let's begin!\n",
      "\n",
      "\t---------------------------------------------------------------------\n",
      "\n",
      "\tQuestion 1: Is this entire tensor referring to the same entity?\n",
      "\n",
      "\tExamples:\n",
      "\t - a single medical scan of one patient\n",
      "\t - a single spreadsheet of proprietary statistics about a business\n",
      "\t - a tensor of facts about a country\n",
      "\n",
      "\t(if the tensor is about one entity, but it also contains multiple\n",
      "\tother entities within, such as a tensor about all the customers of\n",
      "\tone business, ask yourself, are you trying to protect the people or\n",
      "\tthe business)\n",
      "\n",
      "\tIf yes, write the UID of the entity this data is about, otherwise\n",
      "\twrite 'no'  because this data is about more than one entity.\n",
      "\n"
     ]
    },
    {
     "name": "stdin",
     "output_type": "stream",
     "text": [
      "\t no\n"
     ]
    },
    {
     "name": "stdout",
     "output_type": "stream",
     "text": [
      "\n",
      "\t---------------------------------------------------------------------\n",
      "\n",
      "\tQuestion 2: Does each row correspond to an entity, perhaps with\n",
      "\toccasional repeats (yes/no)?\n",
      "\n"
     ]
    },
    {
     "name": "stdin",
     "output_type": "stream",
     "text": [
      "\t no\n"
     ]
    },
    {
     "name": "stdout",
     "output_type": "stream",
     "text": [
      "\n",
      "\t---------------------------------------------------------------------\n",
      "\n",
      "\tQuestion 3:\n",
      "\n",
      "\t_____________________________________________________________________\n",
      "[ 0  1 14  0  0  0  0  3  0  0]\n"
     ]
    }
   ],
   "source": [
    "bob = sampled_canada_dataset.private(min_val=0, max_val=1)"
   ]
  },
  {
   "cell_type": "code",
   "execution_count": null,
   "metadata": {},
   "outputs": [],
   "source": []
  },
  {
   "cell_type": "code",
   "execution_count": null,
   "metadata": {},
   "outputs": [],
   "source": [
    "trade_partners = ((list(data['Partner'])))[0:10]\n",
    "\n",
    "entities = list()\n",
    "for i in range(len(trade_partners)):\n",
    "    entities.append(Entity(name=trade_partners[i]))\n",
    "    \n",
    "sampled_canada_dataset.public_shape = sampled_canada_dataset.shape\n",
    "sampled_canada_dataset = sampled_canada_dataset.private(0, 3, entity=entities[0]).tag(\"trade_flow\")    "
   ]
  },
  {
   "cell_type": "code",
   "execution_count": 1,
   "metadata": {},
   "outputs": [],
   "source": [
    "import numpy as np"
   ]
  },
  {
   "cell_type": "code",
   "execution_count": 22,
   "metadata": {},
   "outputs": [
    {
     "name": "stdout",
     "output_type": "stream",
     "text": [
      "Loading dataset... checking asset types...                                                                                                                                    \n",
      "\n",
      "WARNING - Non-DP Asset: You just passed in a asset 'More Trade' which cannot be tracked with differential privacy because it is a <class 'pandas.core.frame.DataFrame'> object.\n",
      "\n",
      "This means you'll need to manually approve any requests which leverage this data. If this is ok with you, proceed. If you'd like to use automatic differential privacy budgeting, please pass in a DP-compatible tensor type such as by calling .private() on a sy.Tensor with a np.int32 or np.float32 inside.\n"
     ]
    },
    {
     "name": "stdin",
     "output_type": "stream",
     "text": [
      "Are you sure you want to proceed? (y/n) y\n"
     ]
    },
    {
     "name": "stdout",
     "output_type": "stream",
     "text": [
      "Loading dataset... uploading... SUCCESS!                        \n",
      "\n",
      "Run <your client variable>.datasets to see your new dataset loaded into your machine!\n"
     ]
    }
   ],
   "source": [
    "ca.load_dataset(assets={\"Canada Trade\": sampled_canada_dataset, \"More Trade\": data},\n",
    "                name=\"ASdfasfasdf\",\n",
    "                description=\"asdfadsf\")"
   ]
  },
  {
   "cell_type": "code",
   "execution_count": 29,
   "metadata": {},
   "outputs": [
    {
     "data": {
      "text/html": [
       "<style>\n",
       "                #myInput {\n",
       "                  background-position: 10px 12px; /* Position the search icon */\n",
       "                  background-repeat: no-repeat; /* Do not repeat the icon image */\n",
       "                  background-color: #bbb;\n",
       "                  width: 98%; /* Full-width */\n",
       "                  font-size: 14px; /* Increase font-size */\n",
       "                  padding: 12px 20px 12px 40px; /* Add some padding */\n",
       "                  border: 1px solid #ddd; /* Add a grey border */\n",
       "                  margin-bottom: 12px; /* Add some space below the input */\n",
       "                }\n",
       "\n",
       "                #myTable {\n",
       "                  border-collapse: collapse; /* Collapse borders */\n",
       "                  width: 100%; /* Full-width */\n",
       "                  border: 1px solid #ddd; /* Add a grey border */\n",
       "                  font-size: 14px; /* Increase font-size */\n",
       "                }\n",
       "\n",
       "                #myTable th, #myTable td {\n",
       "                  text-align: left; /* Left-align text */\n",
       "                  padding: 10px; /* Add padding */\n",
       "                }\n",
       "\n",
       "                #myTable tr {\n",
       "                  /* Add a bottom border to all table rows */\n",
       "                  border-bottom: 1px solid #ddd;\n",
       "                }\n",
       "\n",
       "                #myTable tr.header, #myTable tr:hover {\n",
       "                  /* Add a grey background color to the table header and on hover */\n",
       "                  background-color: #777;\n",
       "                }\n",
       "                </style>\n",
       "\n",
       "                <input type=\"text\" id=\"myInput\" onkeyup=\"myFunction()\" placeholder=\"Search for datasets..\">\n",
       "\n",
       "                <table id=\"myTable\">\n",
       "                  <tr class=\"header\">\n",
       "                    <th style=\"width:30px\">Idx</th>\n",
       "                    <th style=\"width:20%;\">Name</th>\n",
       "                    <th style=\"width:35%;\">Description</th>\n",
       "                    <th style=\"width:20%;\">Assets</th>\n",
       "                    <th style=\"width:300px;\">Id</th>\n",
       "                  </tr>\n",
       "                \n",
       "\n",
       "          <tr>\n",
       "            <td>[0]</td>\n",
       "            <td>Sample Dataset10</td>\n",
       "            <td>A nice description.</td>\n",
       "            <td>[\"Canada Trade\"] -> Tensor<br /><br />[\"More Trade\"] -> Tensor<br /><br /></td>\n",
       "            <td>5c749798-c166-4ae5-8dc7-895a90399cc7</td>\n",
       "          </tr>\n",
       "\n",
       "          <tr>\n",
       "            <td>[1]</td>\n",
       "            <td>Sample Dataset</td>\n",
       "            <td>A nice description.</td>\n",
       "            <td>[\"Canada Trade\"] -> Tensor<br /><br />[\"More Trade\"] -> Tensor<br /><br /></td>\n",
       "            <td>52df3559-b9e1-4402-a7d9-161527a53efa</td>\n",
       "          </tr>\n",
       "\n",
       "          <tr>\n",
       "            <td>[2]</td>\n",
       "            <td>Sample Dataset13</td>\n",
       "            <td>A nice description.</td>\n",
       "            <td>[\"Canada Trade\"] -> Tensor<br /><br />[\"More Trade\"] -> DataFrame<br /><br /></td>\n",
       "            <td>29ef2aa0-99b8-4132-a198-40b7dc37dff0</td>\n",
       "          </tr>\n",
       "\n",
       "          <tr>\n",
       "            <td>[3]</td>\n",
       "            <td>Sample Dataset3</td>\n",
       "            <td>A nice description.</td>\n",
       "            <td>[\"Canada Trade\"] -> Tensor<br /><br />[\"More Trade\"] -> DataFrame<br /><br /></td>\n",
       "            <td>2d4aa206-4904-41cb-8744-2435b1334732</td>\n",
       "          </tr>\n",
       "\n",
       "          <tr>\n",
       "            <td>[4]</td>\n",
       "            <td>Sample Dataset3</td>\n",
       "            <td>A nice description.</td>\n",
       "            <td>[\"Canada Trade\"] -> Tensor<br /><br />[\"More Trade\"] -> DataFrame<br /><br /></td>\n",
       "            <td>c5b3c4ae-d3fd-4ea4-8d60-eaa99536a4b5</td>\n",
       "          </tr>\n",
       "\n",
       "          <tr>\n",
       "            <td>[5]</td>\n",
       "            <td>ASdfasfasdf</td>\n",
       "            <td>asdfadsf</td>\n",
       "            <td>[\"Canada Trade\"] -> Tensor<br /><br />[\"More Trade\"] -> DataFrame<br /><br /></td>\n",
       "            <td>8d618dea-7430-4b15-99df-b353577f090d</td>\n",
       "          </tr>\n",
       "        </table>\n",
       "\n",
       "        <script>\n",
       "        function myFunction() {\n",
       "          // Declare variables\n",
       "          var input, filter, table, tr, td, i, txtValue;\n",
       "          input = document.getElementById(\"myInput\");\n",
       "          filter = input.value.toUpperCase();\n",
       "          table = document.getElementById(\"myTable\");\n",
       "          tr = table.getElementsByTagName(\"tr\");\n",
       "\n",
       "          // Loop through all table rows, and hide those who don't match the search query\n",
       "          for (i = 0; i < tr.length; i++) {\n",
       "            name_td = tr[i].getElementsByTagName(\"td\")[1];\n",
       "            desc_td = tr[i].getElementsByTagName(\"td\")[2];\n",
       "            asset_td = tr[i].getElementsByTagName(\"td\")[3];\n",
       "            id_td = tr[i].getElementsByTagName(\"td\")[4];\n",
       "            if (name_td || desc_td || asset_td || id_td) {\n",
       "              name_txtValue = name_td.textContent || name_td.innerText;\n",
       "              desc_txtValue = desc_td.textContent || name_td.innerText;\n",
       "              asset_txtValue = asset_td.textContent || name_td.innerText;\n",
       "              id_txtValue = id_td.textContent || name_td.innerText;\n",
       "              name_bool = name_txtValue.toUpperCase().indexOf(filter) > -1;\n",
       "              desc_bool = desc_txtValue.toUpperCase().indexOf(filter) > -1;\n",
       "              asset_bool = asset_txtValue.toUpperCase().indexOf(filter) > -1;\n",
       "              id_bool = id_txtValue.toUpperCase().indexOf(filter) > -1;\n",
       "              if (name_bool || desc_bool || asset_bool || id_bool) {\n",
       "                tr[i].style.display = \"\";\n",
       "              } else {\n",
       "                tr[i].style.display = \"none\";\n",
       "              }\n",
       "            }\n",
       "          }\n",
       "        }\n",
       "        </script>"
      ],
      "text/plain": [
       "<syft.core.node.common.client_manager.dataset_api.DatasetRequestAPI at 0x7fb8a91cdd60>"
      ]
     },
     "execution_count": 29,
     "metadata": {},
     "output_type": "execute_result"
    }
   ],
   "source": [
    "ca.datasets"
   ]
  },
  {
   "cell_type": "code",
   "execution_count": null,
   "metadata": {},
   "outputs": [],
   "source": []
  }
 ],
 "metadata": {
  "kernelspec": {
   "display_name": "Python 3",
   "language": "python",
   "name": "python3"
  },
  "language_info": {
   "codemirror_mode": {
    "name": "ipython",
    "version": 3
   },
   "file_extension": ".py",
   "mimetype": "text/x-python",
   "name": "python",
   "nbconvert_exporter": "python",
   "pygments_lexer": "ipython3",
   "version": "3.7.9"
  }
 },
 "nbformat": 4,
 "nbformat_minor": 5
}
