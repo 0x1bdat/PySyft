{
 "cells": [
  {
   "cell_type": "code",
   "execution_count": 1,
   "id": "12c31af5-0efe-4e3a-ab4e-35d0de9c0ed1",
   "metadata": {},
   "outputs": [],
   "source": [
    "import syft as sy"
   ]
  },
  {
   "cell_type": "code",
   "execution_count": 2,
   "id": "94b4223c-a253-48bb-9898-6264cdc24d87",
   "metadata": {},
   "outputs": [
    {
     "name": "stdout",
     "output_type": "stream",
     "text": [
      "Setup hasnt run yet so ignoring set_node_uid\n"
     ]
    }
   ],
   "source": [
    "d = sy.Domain(\"asdf\")\n",
    "c = d.get_root_client()"
   ]
  },
  {
   "cell_type": "code",
   "execution_count": 3,
   "id": "f5937d6c-df97-4042-aeaf-e25b0dca0e6a",
   "metadata": {},
   "outputs": [],
   "source": [
    "from syft.core.node.common.node_service.simple.simple_messages import SimpleMessage"
   ]
  },
  {
   "cell_type": "code",
   "execution_count": 4,
   "id": "d4edf59d-6d1b-4e79-991c-2b36fd1a6f5e",
   "metadata": {},
   "outputs": [],
   "source": [
    "msg = SimpleMessage(address=c.address, \n",
    "                    reply_to=c.address, \n",
    "                    id_at_location=c.id)"
   ]
  },
  {
   "cell_type": "code",
   "execution_count": 6,
   "id": "275bd966-fe26-4193-9261-2d05e522cc4a",
   "metadata": {},
   "outputs": [],
   "source": [
    "reply_msg = c.send_immediate_msg_with_reply(msg)"
   ]
  },
  {
   "cell_type": "code",
   "execution_count": 7,
   "id": "f6f5d3b8-3f47-4f41-9064-50022fa5734b",
   "metadata": {},
   "outputs": [
    {
     "data": {
      "text/plain": [
       "'A result'"
      ]
     },
     "execution_count": 7,
     "metadata": {},
     "output_type": "execute_result"
    }
   ],
   "source": [
    "reply_msg.repr"
   ]
  },
  {
   "cell_type": "code",
   "execution_count": null,
   "id": "891b8bf7-4dd8-473b-b9f9-da1f613a2d49",
   "metadata": {},
   "outputs": [],
   "source": []
  }
 ],
 "metadata": {
  "kernelspec": {
   "display_name": "Python 3",
   "language": "python",
   "name": "python3"
  },
  "language_info": {
   "codemirror_mode": {
    "name": "ipython",
    "version": 3
   },
   "file_extension": ".py",
   "mimetype": "text/x-python",
   "name": "python",
   "nbconvert_exporter": "python",
   "pygments_lexer": "ipython3",
   "version": "3.8.10"
  }
 },
 "nbformat": 4,
 "nbformat_minor": 5
}
