{
 "cells": [
  {
   "cell_type": "code",
   "execution_count": 1,
   "id": "12c31af5-0efe-4e3a-ab4e-35d0de9c0ed1",
   "metadata": {},
   "outputs": [],
   "source": [
    "import syft as sy"
   ]
  },
  {
   "cell_type": "code",
   "execution_count": 2,
   "id": "94b4223c-a253-48bb-9898-6264cdc24d87",
   "metadata": {},
   "outputs": [
    {
     "name": "stdout",
     "output_type": "stream",
     "text": [
      "Setup hasnt run yet so ignoring set_node_uid\n"
     ]
    }
   ],
   "source": [
    "d = sy.Domain(\"asdf\")\n",
    "c = d.get_root_client()"
   ]
  },
  {
   "cell_type": "code",
   "execution_count": 3,
   "id": "f5937d6c-df97-4042-aeaf-e25b0dca0e6a",
   "metadata": {},
   "outputs": [],
   "source": [
    "from syft.core.node.common.node_service.simple.simple_messages import NodeRunnableMessageWithReply"
   ]
  },
  {
   "cell_type": "code",
   "execution_count": 5,
   "id": "5319ba65-042f-44eb-a9c9-1b0e14e3bd00",
   "metadata": {},
   "outputs": [],
   "source": [
    "msg = NodeRunnableMessageWithReply(\"My Favourite\")"
   ]
  },
  {
   "cell_type": "code",
   "execution_count": 6,
   "id": "275bd966-fe26-4193-9261-2d05e522cc4a",
   "metadata": {},
   "outputs": [],
   "source": [
    "reply_msg = c.send_immediate_msg_with_reply(msg)"
   ]
  },
  {
   "cell_type": "code",
   "execution_count": 7,
   "id": "f6f5d3b8-3f47-4f41-9064-50022fa5734b",
   "metadata": {},
   "outputs": [
    {
     "data": {
      "text/plain": [
       "'Processed:My Favourite Domain: asdf: <UID: 37591f055f564b0d980b06f62ee37b55> b\"\\\\x84\\\\xd2\\\\x96uT\\\\x83\\'_\\\\xa8g\\\\x1a\\\\xddJh\\\\xa1L\\\\x1a\\\\xd5\\\\xc0\\\\x16\\\\x02\\\\xa1\\\\xacg4dL#\\\\x1f\\\\xdeY\\\\xe8\"'"
      ]
     },
     "execution_count": 7,
     "metadata": {},
     "output_type": "execute_result"
    }
   ],
   "source": [
    "reply_msg.payload"
   ]
  },
  {
   "cell_type": "code",
   "execution_count": null,
   "id": "8b5485a9-b8d8-490a-a732-cae393925cad",
   "metadata": {},
   "outputs": [],
   "source": []
  }
 ],
 "metadata": {
  "kernelspec": {
   "display_name": "Python 3",
   "language": "python",
   "name": "python3"
  },
  "language_info": {
   "codemirror_mode": {
    "name": "ipython",
    "version": 3
   },
   "file_extension": ".py",
   "mimetype": "text/x-python",
   "name": "python",
   "nbconvert_exporter": "python",
   "pygments_lexer": "ipython3",
   "version": "3.8.10"
  }
 },
 "nbformat": 4,
 "nbformat_minor": 5
}
