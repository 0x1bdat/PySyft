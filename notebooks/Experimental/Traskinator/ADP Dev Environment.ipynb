{
 "cells": [
  {
   "cell_type": "code",
   "execution_count": 19,
   "id": "bd04d5a5-3e60-4398-8a83-7ed3dfad5944",
   "metadata": {},
   "outputs": [],
   "source": [
    "import syft as sy\n",
    "import numpy as np\n",
    "from sqlalchemy import create_engine\n",
    "from syft.core.node.common.node_table import Base\n",
    "from nacl.encoding import HexEncoder\n",
    "from nacl.signing import SigningKey\n",
    "from syft.core.adp.scalar.gamma_scalar import GammaScalar\n",
    "from syft.core.tensor.autodp.initial_gamma import InitialGammaTensor\n",
    "from syft.core.tensor.autodp.intermediate_gamma import IntermediateGammaTensor\n",
    "from syft.core.adp.entity import Entity\n",
    "from syft.core.adp.entity import DataSubjectGroup\n",
    "from syft.core.adp.adversarial_accountant import AdversarialAccountant"
   ]
  },
  {
   "cell_type": "code",
   "execution_count": 2,
   "id": "1cc1b3e2-0a80-4f4b-b3c6-eaa0711dad38",
   "metadata": {},
   "outputs": [],
   "source": [
    "from syft.core.io.virtual import create_virtual_connection"
   ]
  },
  {
   "cell_type": "code",
   "execution_count": 20,
   "id": "2d0108ef-75db-47d3-bd9d-17d591bfaee5",
   "metadata": {},
   "outputs": [
    {
     "name": "stdout",
     "output_type": "stream",
     "text": [
      "Setup hasnt run yet so ignoring set_node_uid\n",
      "Performing initial setup...\n"
     ]
    }
   ],
   "source": [
    "alice = sy.Domain(\"alice\").initial_setup()"
   ]
  },
  {
   "cell_type": "code",
   "execution_count": 21,
   "id": "4c9e6441-cdd7-4480-a671-95364b1f7738",
   "metadata": {},
   "outputs": [],
   "source": [
    "child = np.array([1,2,3,4], dtype=np.int32)"
   ]
  },
  {
   "cell_type": "code",
   "execution_count": 23,
   "id": "74a25110-6ecd-41c5-9ac9-b3451951d67d",
   "metadata": {},
   "outputs": [],
   "source": [
    "traskmaster = Entity(name=\"Andrew\")\n",
    "amber = Entity(name=\"Amber\")\n",
    "DSG = DataSubjectGroup([traskmaster, amber])"
   ]
  },
  {
   "cell_type": "code",
   "execution_count": 30,
   "id": "cfbe1fa8-f8d3-493b-82b9-eb2b236ed1c3",
   "metadata": {
    "tags": []
   },
   "outputs": [
    {
     "data": {
      "text/plain": [
       "array([1, 1, 1, 1], dtype=object)"
      ]
     },
     "execution_count": 30,
     "metadata": {},
     "output_type": "execute_result"
    }
   ],
   "source": [
    "np.array(np.ones_like(child), dtype=object)"
   ]
  },
  {
   "cell_type": "code",
   "execution_count": 35,
   "id": "1961c484-cc9d-411a-93f3-6961d16db0b7",
   "metadata": {},
   "outputs": [],
   "source": [
    "ent1 = np.array([traskmaster, traskmaster, traskmaster, traskmaster], dtype=object)\n",
    "ent2 = np.array([amber, amber, amber, amber], dtype=object)"
   ]
  },
  {
   "cell_type": "code",
   "execution_count": 36,
   "id": "dbc2d5d1-3ad1-465e-8166-30012329e1df",
   "metadata": {},
   "outputs": [
    {
     "ename": "Exception",
     "evalue": "Cannot add two tensors with different symbol encodings",
     "output_type": "error",
     "traceback": [
      "\u001b[0;31m---------------------------------------------------------------------------\u001b[0m",
      "\u001b[0;31mException\u001b[0m                                 Traceback (most recent call last)",
      "\u001b[0;32m/tmp/ipykernel_178013/3079973179.py\u001b[0m in \u001b[0;36m<module>\u001b[0;34m\u001b[0m\n\u001b[1;32m      2\u001b[0m \u001b[0mtensor1\u001b[0m \u001b[0;34m=\u001b[0m \u001b[0mInitialGammaTensor\u001b[0m\u001b[0;34m(\u001b[0m\u001b[0mvalues\u001b[0m\u001b[0;34m=\u001b[0m\u001b[0mchild\u001b[0m\u001b[0;34m,\u001b[0m \u001b[0mmin_vals\u001b[0m\u001b[0;34m=\u001b[0m\u001b[0mnp\u001b[0m\u001b[0;34m.\u001b[0m\u001b[0mzeros_like\u001b[0m\u001b[0;34m(\u001b[0m\u001b[0mchild\u001b[0m\u001b[0;34m)\u001b[0m\u001b[0;34m,\u001b[0m \u001b[0mmax_vals\u001b[0m\u001b[0;34m=\u001b[0m\u001b[0mnp\u001b[0m\u001b[0;34m.\u001b[0m\u001b[0mones_like\u001b[0m\u001b[0;34m(\u001b[0m\u001b[0mchild\u001b[0m\u001b[0;34m)\u001b[0m \u001b[0;34m*\u001b[0m \u001b[0;36m5\u001b[0m\u001b[0;34m,\u001b[0m \u001b[0mentities\u001b[0m\u001b[0;34m=\u001b[0m\u001b[0ment1\u001b[0m\u001b[0;34m)\u001b[0m\u001b[0;34m\u001b[0m\u001b[0;34m\u001b[0m\u001b[0m\n\u001b[1;32m      3\u001b[0m \u001b[0mtensor2\u001b[0m \u001b[0;34m=\u001b[0m \u001b[0mInitialGammaTensor\u001b[0m\u001b[0;34m(\u001b[0m\u001b[0mvalues\u001b[0m\u001b[0;34m=\u001b[0m\u001b[0mchild\u001b[0m\u001b[0;34m,\u001b[0m \u001b[0mmin_vals\u001b[0m\u001b[0;34m=\u001b[0m\u001b[0mnp\u001b[0m\u001b[0;34m.\u001b[0m\u001b[0mzeros_like\u001b[0m\u001b[0;34m(\u001b[0m\u001b[0mchild\u001b[0m\u001b[0;34m)\u001b[0m\u001b[0;34m,\u001b[0m \u001b[0mmax_vals\u001b[0m\u001b[0;34m=\u001b[0m\u001b[0mnp\u001b[0m\u001b[0;34m.\u001b[0m\u001b[0mones_like\u001b[0m\u001b[0;34m(\u001b[0m\u001b[0mchild\u001b[0m\u001b[0;34m)\u001b[0m\u001b[0;34m*\u001b[0m \u001b[0;36m5\u001b[0m\u001b[0;34m,\u001b[0m \u001b[0mentities\u001b[0m\u001b[0;34m=\u001b[0m\u001b[0ment2\u001b[0m\u001b[0;34m)\u001b[0m\u001b[0;34m\u001b[0m\u001b[0;34m\u001b[0m\u001b[0m\n\u001b[0;32m----> 4\u001b[0;31m \u001b[0mtensor\u001b[0m \u001b[0;34m=\u001b[0m \u001b[0mtensor1\u001b[0m \u001b[0;34m+\u001b[0m \u001b[0mtensor2\u001b[0m\u001b[0;34m\u001b[0m\u001b[0;34m\u001b[0m\u001b[0m\n\u001b[0m",
      "\u001b[0;32m~/PySyft/packages/syft/src/syft/core/tensor/autodp/intermediate_gamma.py\u001b[0m in \u001b[0;36m__add__\u001b[0;34m(self, other)\u001b[0m\n\u001b[1;32m    202\u001b[0m             \u001b[0;32mif\u001b[0m \u001b[0mself\u001b[0m\u001b[0;34m.\u001b[0m\u001b[0mscalar_manager\u001b[0m \u001b[0;34m!=\u001b[0m \u001b[0mother\u001b[0m\u001b[0;34m.\u001b[0m\u001b[0mscalar_manager\u001b[0m\u001b[0;34m:\u001b[0m\u001b[0;34m\u001b[0m\u001b[0;34m\u001b[0m\u001b[0m\n\u001b[1;32m    203\u001b[0m                 \u001b[0;31m# TODO: come up with a method for combining symbol factories\u001b[0m\u001b[0;34m\u001b[0m\u001b[0;34m\u001b[0m\u001b[0;34m\u001b[0m\u001b[0m\n\u001b[0;32m--> 204\u001b[0;31m                 raise Exception(\n\u001b[0m\u001b[1;32m    205\u001b[0m                     \u001b[0;34m\"Cannot add two tensors with different symbol encodings\"\u001b[0m\u001b[0;34m\u001b[0m\u001b[0;34m\u001b[0m\u001b[0m\n\u001b[1;32m    206\u001b[0m                 )\n",
      "\u001b[0;31mException\u001b[0m: Cannot add two tensors with different symbol encodings"
     ]
    }
   ],
   "source": [
    "# gs = GammaScalar(min_val=0, max_val=5, value=3, prime=13, entity=traskmaster)\n",
    "tensor1 = InitialGammaTensor(values=child, min_vals=np.zeros_like(child), max_vals=np.ones_like(child) * 5, entities=ent1)\n",
    "tensor2 = InitialGammaTensor(values=child, min_vals=np.zeros_like(child), max_vals=np.ones_like(child)* 5, entities=ent2)\n",
    "tensor = tensor1 + tensor2"
   ]
  },
  {
   "cell_type": "code",
   "execution_count": 47,
   "id": "fa51db77-ba1b-4d26-b5d0-973104f52ee5",
   "metadata": {},
   "outputs": [
    {
     "name": "stdout",
     "output_type": "stream",
     "text": [
      "\n",
      "\n",
      "Has Budget:True\n",
      "YOU'VE SPENT:1.8973764246417422\n",
      "USER BUDGET:5.55\n",
      "\n",
      "\n",
      "Has Budget:True\n",
      "YOU'VE SPENT:1.6237585327286315\n",
      "USER BUDGET:5.55\n"
     ]
    },
    {
     "data": {
      "text/plain": [
       "array([ 96.05169759,  42.13581006, -14.12950504, -33.17249436])"
      ]
     },
     "execution_count": 47,
     "metadata": {},
     "output_type": "execute_result"
    }
   ],
   "source": [
    "tensor1.publish(sigma=50, acc=alice.acc, user_key=alice.verify_key)"
   ]
  },
  {
   "cell_type": "code",
   "execution_count": 48,
   "id": "360e135d-a9dd-4173-b8af-eefa36e17582",
   "metadata": {},
   "outputs": [
    {
     "name": "stdout",
     "output_type": "stream",
     "text": [
      "Andrew\t2.141938928385474\n",
      "Amber\t1.8973764246417422\n"
     ]
    }
   ],
   "source": [
    "alice.acc.print_ledger()"
   ]
  },
  {
   "cell_type": "code",
   "execution_count": 40,
   "id": "fbe52d05-8836-4f3f-ae97-ec1b7b0a8a34",
   "metadata": {},
   "outputs": [],
   "source": [
    "dsg_ent = np.array([DSG, DSG, DSG, DSG], dtype=object)\n",
    "tensor1 = InitialGammaTensor(values=child, min_vals=np.zeros_like(child), max_vals=np.ones_like(child) * 5, entities=dsg_ent)"
   ]
  },
  {
   "cell_type": "code",
   "execution_count": 49,
   "id": "514536c2-a036-48ea-aefd-a8ecbf40c5e2",
   "metadata": {},
   "outputs": [
    {
     "data": {
      "text/plain": [
       "array([1, 2, 3, 4], dtype=int32)"
      ]
     },
     "execution_count": 49,
     "metadata": {},
     "output_type": "execute_result"
    }
   ],
   "source": [
    "tensor1.values"
   ]
  },
  {
   "cell_type": "code",
   "execution_count": 50,
   "id": "a98ee028-676d-4d3d-86e3-bf16de03fe85",
   "metadata": {},
   "outputs": [
    {
     "ename": "TypeError",
     "evalue": "__init__() missing 2 required positional arguments: 'min_vals' and 'max_vals'",
     "output_type": "error",
     "traceback": [
      "\u001b[0;31m---------------------------------------------------------------------------\u001b[0m",
      "\u001b[0;31mTypeError\u001b[0m                                 Traceback (most recent call last)",
      "\u001b[0;32m/tmp/ipykernel_178013/1943808778.py\u001b[0m in \u001b[0;36m<module>\u001b[0;34m\u001b[0m\n\u001b[0;32m----> 1\u001b[0;31m \u001b[0mIGT\u001b[0m \u001b[0;34m=\u001b[0m \u001b[0mtensor1\u001b[0m \u001b[0;34m+\u001b[0m \u001b[0mtensor1\u001b[0m\u001b[0;34m\u001b[0m\u001b[0;34m\u001b[0m\u001b[0m\n\u001b[0m",
      "\u001b[0;32m~/PySyft/packages/syft/src/syft/core/tensor/autodp/intermediate_gamma.py\u001b[0m in \u001b[0;36m__add__\u001b[0;34m(self, other)\u001b[0m\n\u001b[1;32m    215\u001b[0m                     \u001b[0;34m\"Cannot add two tensors with different symbol encodings\"\u001b[0m\u001b[0;34m\u001b[0m\u001b[0;34m\u001b[0m\u001b[0m\n\u001b[1;32m    216\u001b[0m                 )\n\u001b[0;32m--> 217\u001b[0;31m \u001b[0;34m\u001b[0m\u001b[0m\n\u001b[0m\u001b[1;32m    218\u001b[0m             \u001b[0;31m# Step 1: Concatenate\u001b[0m\u001b[0;34m\u001b[0m\u001b[0;34m\u001b[0m\u001b[0;34m\u001b[0m\u001b[0m\n\u001b[1;32m    219\u001b[0m             \u001b[0mterm_tensor\u001b[0m \u001b[0;34m=\u001b[0m \u001b[0mnp\u001b[0m\u001b[0;34m.\u001b[0m\u001b[0mconcatenate\u001b[0m\u001b[0;34m(\u001b[0m\u001b[0;34m[\u001b[0m\u001b[0mself\u001b[0m\u001b[0;34m.\u001b[0m\u001b[0mterm_tensor\u001b[0m\u001b[0;34m,\u001b[0m \u001b[0mother\u001b[0m\u001b[0;34m.\u001b[0m\u001b[0mterm_tensor\u001b[0m\u001b[0;34m]\u001b[0m\u001b[0;34m,\u001b[0m \u001b[0maxis\u001b[0m\u001b[0;34m=\u001b[0m\u001b[0;34m-\u001b[0m\u001b[0;36m1\u001b[0m\u001b[0;34m)\u001b[0m\u001b[0;34m\u001b[0m\u001b[0;34m\u001b[0m\u001b[0m\n",
      "\u001b[0;31mTypeError\u001b[0m: __init__() missing 2 required positional arguments: 'min_vals' and 'max_vals'"
     ]
    }
   ],
   "source": [
    "IGT = tensor1 + tensor1"
   ]
  },
  {
   "cell_type": "code",
   "execution_count": 45,
   "id": "453cdb41-5a3f-4875-a69f-3103209b4e1f",
   "metadata": {},
   "outputs": [
    {
     "name": "stdout",
     "output_type": "stream",
     "text": [
      "\n",
      "\n",
      "Has Budget:True\n",
      "YOU'VE SPENT:1.6237585327286315\n",
      "USER BUDGET:5.55\n",
      "\n",
      "\n",
      "Has Budget:True\n",
      "YOU'VE SPENT:1.3049911193525312\n",
      "USER BUDGET:5.55\n"
     ]
    },
    {
     "data": {
      "text/plain": [
       "array([-30.44032147, -27.2562177 ,   8.3017705 ,  31.02271977])"
      ]
     },
     "execution_count": 45,
     "metadata": {},
     "output_type": "execute_result"
    }
   ],
   "source": [
    "tensor1.publish(sigma=50, acc=alice.acc, user_key=alice.verify_key)"
   ]
  },
  {
   "cell_type": "code",
   "execution_count": 46,
   "id": "0df9350e-bdf7-4f43-a56a-5166a7e1fb46",
   "metadata": {},
   "outputs": [
    {
     "name": "stdout",
     "output_type": "stream",
     "text": [
      "Andrew\t1.8973764246417422\n",
      "Amber\t1.6237585327286315\n"
     ]
    }
   ],
   "source": [
    "alice.acc.print_ledger()"
   ]
  },
  {
   "cell_type": "code",
   "execution_count": 10,
   "id": "1c5c6c96-f984-4c17-9723-d02d90149ab9",
   "metadata": {},
   "outputs": [
    {
     "name": "stdout",
     "output_type": "stream",
     "text": [
      "\n",
      "\n",
      "Has Budget:True\n",
      "YOU'VE SPENT:0.02146495064126424\n",
      "USER BUDGET:5.55\n"
     ]
    },
    {
     "data": {
      "text/plain": [
       "[108.13167523840627]"
      ]
     },
     "execution_count": 10,
     "metadata": {},
     "output_type": "execute_result"
    }
   ],
   "source": [
    "gs.publish(sigma=500, acc=alice.acc, user_key=alice.verify_key)"
   ]
  },
  {
   "cell_type": "code",
   "execution_count": null,
   "id": "aa443b1e-4027-4e82-914b-a5332402f9ad",
   "metadata": {},
   "outputs": [],
   "source": []
  },
  {
   "cell_type": "code",
   "execution_count": null,
   "id": "ef3a9c9d-012a-4715-88b0-a35988ba8d07",
   "metadata": {},
   "outputs": [],
   "source": []
  },
  {
   "cell_type": "code",
   "execution_count": 11,
   "id": "9825434f-d543-41a4-89c7-0528a27b171f",
   "metadata": {},
   "outputs": [
    {
     "name": "stdout",
     "output_type": "stream",
     "text": [
      "bob\t0.8999352676606419\n",
      "Andrew\t0.03710462684103462\n"
     ]
    }
   ],
   "source": [
    "alice.acc.print_ledger()"
   ]
  },
  {
   "cell_type": "code",
   "execution_count": 12,
   "id": "300e6d52-2d56-42d6-b6cb-8f9336549db7",
   "metadata": {},
   "outputs": [
    {
     "data": {
      "text/plain": [
       "[<syft.core.node.common.node_table.mechanism.Mechanism at 0x7f33e82480a0>,\n",
       " <syft.core.node.common.node_table.mechanism.Mechanism at 0x7f330c8da760>]"
      ]
     },
     "execution_count": 12,
     "metadata": {},
     "output_type": "execute_result"
    }
   ],
   "source": [
    "alice.acc.entity2ledger.mechanism_manager.all()"
   ]
  },
  {
   "cell_type": "code",
   "execution_count": 13,
   "id": "29204191-126a-4120-80b8-ef08e75e6ab7",
   "metadata": {},
   "outputs": [],
   "source": [
    "# conn = create_virtual_connection(alice)"
   ]
  },
  {
   "cell_type": "code",
   "execution_count": 14,
   "id": "882bb4b3-9a0e-40f7-994e-b33a4ac3dc59",
   "metadata": {},
   "outputs": [],
   "source": []
  },
  {
   "cell_type": "code",
   "execution_count": 15,
   "id": "553ef09a-e031-4e13-9fc6-8b42647175b2",
   "metadata": {},
   "outputs": [],
   "source": []
  },
  {
   "cell_type": "code",
   "execution_count": 16,
   "id": "acef8501-aa01-431b-8936-4b24b36c4fc6",
   "metadata": {},
   "outputs": [],
   "source": [
    "gs = GammaScalar(min_val=0, max_val=5, value=3, prime=7, entity=DSG)"
   ]
  },
  {
   "cell_type": "code",
   "execution_count": 17,
   "id": "c17f14b9-8956-4523-af77-81ff319fb357",
   "metadata": {},
   "outputs": [
    {
     "name": "stdout",
     "output_type": "stream",
     "text": [
      "\n",
      "\n",
      "Has Budget:True\n",
      "YOU'VE SPENT:0.0\n",
      "USER BUDGET:5.55\n",
      "\n",
      "\n",
      "Has Budget:True\n",
      "YOU'VE SPENT:0.02146495064126424\n",
      "USER BUDGET:5.55\n"
     ]
    },
    {
     "data": {
      "text/plain": [
       "[-151.52066275854878]"
      ]
     },
     "execution_count": 17,
     "metadata": {},
     "output_type": "execute_result"
    }
   ],
   "source": [
    "gs.publish(sigma=500, acc=alice.acc, user_key=alice.verify_key)"
   ]
  },
  {
   "cell_type": "code",
   "execution_count": 18,
   "id": "f8a45b88-d3ef-4395-a678-64e0afcf243b",
   "metadata": {},
   "outputs": [
    {
     "name": "stdout",
     "output_type": "stream",
     "text": [
      "bob\t0.8999352676606419\n",
      "Andrew\t0.05372712063485986\n",
      "Amber\t0.03710462684103462\n"
     ]
    }
   ],
   "source": [
    "alice.acc.print_ledger()"
   ]
  },
  {
   "cell_type": "code",
   "execution_count": 42,
   "id": "ffa02d12-7d99-4132-b550-0080be6f1677",
   "metadata": {},
   "outputs": [
    {
     "data": {
      "text/plain": [
       "KeysView([<syft.core.node.common.node_table.entity.Entity object at 0x7f3b9ea61a60>, <syft.core.node.common.node_table.entity.Entity object at 0x7f3b9ea61f10>, <syft.core.node.common.node_table.entity.Entity object at 0x7f3b9ea61fd0>])"
      ]
     },
     "execution_count": 42,
     "metadata": {},
     "output_type": "execute_result"
    }
   ],
   "source": [
    "alice.acc.entities"
   ]
  }
 ],
 "metadata": {
  "kernelspec": {
   "display_name": "Python 3 (ipykernel)",
   "language": "python",
   "name": "python3"
  },
  "language_info": {
   "codemirror_mode": {
    "name": "ipython",
    "version": 3
   },
   "file_extension": ".py",
   "mimetype": "text/x-python",
   "name": "python",
   "nbconvert_exporter": "python",
   "pygments_lexer": "ipython3",
   "version": "3.8.11"
  }
 },
 "nbformat": 4,
 "nbformat_minor": 5
}
