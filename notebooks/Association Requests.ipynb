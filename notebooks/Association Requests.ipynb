{
 "cells": [
  {
   "cell_type": "markdown",
   "id": "dcbc42e7-c110-4a98-ab53-459df7c07fdb",
   "metadata": {},
   "source": [
    "## Association Request\n",
    "\n",
    "This notebook aims to give a brief explanation on  how the association request works."
   ]
  },
  {
   "cell_type": "code",
   "execution_count": 1,
   "id": "f06c5bb5-e22f-44c8-a111-f849c37b7e6d",
   "metadata": {},
   "outputs": [
    {
     "name": "stdout",
     "output_type": "stream",
     "text": [
      "/Users/madhavajay/dev/PySyft/packages/syft/src/syft/lib/__init__.py:load:194\n"
     ]
    }
   ],
   "source": [
    "import syft as sy\n",
    "import torch as th"
   ]
  },
  {
   "cell_type": "markdown",
   "id": "89da5873",
   "metadata": {},
   "source": [
    "# start two different stacks\n",
    "```\n",
    "hagrid launch test_network_1 network to docker:9081\n",
    "hagrid launch test_domain_1 domain to docker:9082\n",
    "```"
   ]
  },
  {
   "cell_type": "markdown",
   "id": "52ab6d0a-efe5-47e3-b0e5-a470290883fa",
   "metadata": {},
   "source": [
    "### Connect with Domain"
   ]
  },
  {
   "cell_type": "code",
   "execution_count": 2,
   "id": "0d488390-95d3-4371-ba5c-5ae1550f6e83",
   "metadata": {},
   "outputs": [],
   "source": [
    "NETWORK_HOST_IP = \"localhost:9081\""
   ]
  },
  {
   "cell_type": "code",
   "execution_count": 3,
   "id": "83310158-7358-4531-b74e-83358c24cd87",
   "metadata": {},
   "outputs": [
    {
     "name": "stdout",
     "output_type": "stream",
     "text": [
      "Connecting to http://localhost:9082... done! \t Logging into test_domain_1... done!\n"
     ]
    }
   ],
   "source": [
    "domain = sy.login(email=\"info@openmined.org\", password=\"changethis\", port=9082)"
   ]
  },
  {
   "cell_type": "markdown",
   "id": "b0eb0ca7-8a6d-470e-8eda-c28c188237f1",
   "metadata": {},
   "source": [
    "### Request Node Association"
   ]
  },
  {
   "cell_type": "code",
   "execution_count": 14,
   "id": "442485af-127a-479b-94d3-c008d09d4615",
   "metadata": {},
   "outputs": [],
   "source": [
    "vpn_status = domain.vpn_status()"
   ]
  },
  {
   "cell_type": "code",
   "execution_count": 15,
   "id": "d53fa3b1-f149-4ed1-a53d-bb27a95404eb",
   "metadata": {},
   "outputs": [
    {
     "data": {
      "text/plain": [
       "{'status': 'ok',\n",
       " 'connected': True,\n",
       " 'host': {'ip': '100.64.0.2',\n",
       "  'hostname': 'test_domain_1',\n",
       "  'network': 'omnet',\n",
       "  'os': 'linux',\n",
       "  'connection_info': '-',\n",
       "  'connection_status': 'n/a',\n",
       "  'connection_type': 'n/a'},\n",
       " 'peers': [{'ip': '100.64.0.3',\n",
       "   'hostname': 'test_domain_2',\n",
       "   'network': 'omnet',\n",
       "   'os': 'linux',\n",
       "   'connection_info': 'active; relay \"syd\", tx 10220 rx 14248',\n",
       "   'connection_status': 'active',\n",
       "   'connection_type': 'relay'},\n",
       "  {'ip': '100.64.0.1',\n",
       "   'hostname': 'test_network_1',\n",
       "   'network': 'omnet',\n",
       "   'os': 'linux',\n",
       "   'connection_info': 'active; relay \"syd\", tx 203788 rx 58004',\n",
       "   'connection_status': 'active',\n",
       "   'connection_type': 'relay'}]}"
      ]
     },
     "execution_count": 15,
     "metadata": {},
     "output_type": "execute_result"
    }
   ],
   "source": [
    "vpn_status"
   ]
  },
  {
   "cell_type": "code",
   "execution_count": 6,
   "id": "67b66b16-81ee-4dd7-b5d7-3650a2b62dba",
   "metadata": {},
   "outputs": [],
   "source": [
    "DOMAIN_VPN_IP = vpn_status[\"host\"][\"ip\"]\n",
    "for peer in vpn_status[\"peers\"]:\n",
    "    if peer[\"hostname\"] == \"test_network_1\":\n",
    "        NETWORK_VPN_IP = peer[\"ip\"]"
   ]
  },
  {
   "cell_type": "code",
   "execution_count": 7,
   "id": "590426a6-258d-4296-bf73-13b1e12cf525",
   "metadata": {},
   "outputs": [
    {
     "name": "stdout",
     "output_type": "stream",
     "text": [
      "100.64.0.2 100.64.0.1\n"
     ]
    }
   ],
   "source": [
    "print(DOMAIN_VPN_IP, NETWORK_VPN_IP)"
   ]
  },
  {
   "cell_type": "code",
   "execution_count": 8,
   "id": "5a326e43-85a5-4fd0-bde1-395b79d9de81",
   "metadata": {},
   "outputs": [],
   "source": [
    "# we need to refactor this so that the VPN IPs are not required to be supplied\n",
    "domain.apply_to_network(\n",
    "    host_or_ip=NETWORK_HOST_IP,\n",
    "    domain_vpn_ip=DOMAIN_VPN_IP,\n",
    "    network_vpn_ip=NETWORK_VPN_IP\n",
    ")"
   ]
  },
  {
   "cell_type": "markdown",
   "id": "a481503f-c999-4039-9a31-fd50b183d4d7",
   "metadata": {},
   "source": [
    "### Monitor Association Requests"
   ]
  },
  {
   "cell_type": "code",
   "execution_count": 9,
   "id": "5dfef6fd-3acc-41fa-a6fb-ce99f4d4c8d4",
   "metadata": {},
   "outputs": [
    {
     "name": "stdout",
     "output_type": "stream",
     "text": [
      "Connecting to http://localhost:9081... done! \t Logging into test_network_1... done!\n"
     ]
    }
   ],
   "source": [
    "network = sy.login(email=\"info@openmined.org\", password=\"changethis\", port=9081)"
   ]
  },
  {
   "cell_type": "code",
   "execution_count": 10,
   "id": "da4726a8-b9b1-4835-9309-b791a3bae6b1",
   "metadata": {},
   "outputs": [
    {
     "data": {
      "text/html": [
       "<div>\n",
       "<style scoped>\n",
       "    .dataframe tbody tr th:only-of-type {\n",
       "        vertical-align: middle;\n",
       "    }\n",
       "\n",
       "    .dataframe tbody tr th {\n",
       "        vertical-align: top;\n",
       "    }\n",
       "\n",
       "    .dataframe thead th {\n",
       "        text-align: right;\n",
       "    }\n",
       "</style>\n",
       "<table border=\"1\" class=\"dataframe\">\n",
       "  <thead>\n",
       "    <tr style=\"text-align: right;\">\n",
       "      <th></th>\n",
       "      <th>name</th>\n",
       "      <th>status</th>\n",
       "      <th>address</th>\n",
       "      <th>requested_date</th>\n",
       "      <th>reason</th>\n",
       "      <th>association_id</th>\n",
       "      <th>email</th>\n",
       "    </tr>\n",
       "  </thead>\n",
       "  <tbody>\n",
       "    <tr>\n",
       "      <th>0</th>\n",
       "      <td></td>\n",
       "      <td>PENDING</td>\n",
       "      <td>da1bdd25c1824019acdad870e63f6bdf</td>\n",
       "      <td>10/19/2021</td>\n",
       "      <td></td>\n",
       "      <td>5</td>\n",
       "      <td></td>\n",
       "    </tr>\n",
       "  </tbody>\n",
       "</table>\n",
       "</div>"
      ],
      "text/plain": [
       "  name   status                           address requested_date reason  \\\n",
       "0       PENDING  da1bdd25c1824019acdad870e63f6bdf     10/19/2021          \n",
       "\n",
       "  association_id email  \n",
       "0              5        "
      ]
     },
     "execution_count": 10,
     "metadata": {},
     "output_type": "execute_result"
    }
   ],
   "source": [
    "network.association.pandas()"
   ]
  },
  {
   "cell_type": "markdown",
   "id": "9ac295a0-7e57-44f8-9bf6-c6a4107591e6",
   "metadata": {},
   "source": [
    "### Accept/Deny Association Requests"
   ]
  },
  {
   "cell_type": "code",
   "execution_count": 11,
   "id": "4dc3e0fd-64b4-4f94-a9f2-4b7a7b3269be",
   "metadata": {},
   "outputs": [],
   "source": [
    "associations = network.association.all()"
   ]
  },
  {
   "cell_type": "code",
   "execution_count": 12,
   "id": "cda9fc21-17e0-4f93-bf4d-4fcc55b15c37",
   "metadata": {},
   "outputs": [],
   "source": [
    "request_id = int(associations[0][\"association_id\"])"
   ]
  },
  {
   "cell_type": "code",
   "execution_count": 13,
   "id": "d847aeb7-4c3a-4cf8-99f5-2fce904c3c00",
   "metadata": {},
   "outputs": [
    {
     "data": {
      "text/plain": [
       "<SuccessResponseMessage: 6464cd91a4ad48a4843260ba0de07883>"
      ]
     },
     "execution_count": 13,
     "metadata": {},
     "output_type": "execute_result"
    }
   ],
   "source": [
    "network.association[request_id].accept()"
   ]
  },
  {
   "cell_type": "markdown",
   "id": "742d2aff-c426-4c84-9bf8-44dfb93bce8d",
   "metadata": {},
   "source": [
    "### Create Data and Tag"
   ]
  },
  {
   "cell_type": "code",
   "execution_count": 16,
   "id": "bde37dc5-af8f-4be4-8889-26938ebc3639",
   "metadata": {},
   "outputs": [],
   "source": [
    "import torch as th"
   ]
  },
  {
   "cell_type": "code",
   "execution_count": 17,
   "id": "edce4d4c-7fff-46fc-8e11-6b20ea9bec92",
   "metadata": {},
   "outputs": [],
   "source": [
    "x = th.Tensor([1,2,3])"
   ]
  },
  {
   "cell_type": "code",
   "execution_count": 18,
   "id": "b971e1d8-660b-4130-8628-01f6fde8793e",
   "metadata": {},
   "outputs": [],
   "source": [
    "x_ptr = x.send(domain, tags=[\"secret\"])"
   ]
  },
  {
   "cell_type": "code",
   "execution_count": 19,
   "id": "bca256e7-1881-4803-9b7b-fe543f8fba98",
   "metadata": {},
   "outputs": [
    {
     "data": {
      "text/html": [
       "<div>\n",
       "<style scoped>\n",
       "    .dataframe tbody tr th:only-of-type {\n",
       "        vertical-align: middle;\n",
       "    }\n",
       "\n",
       "    .dataframe tbody tr th {\n",
       "        vertical-align: top;\n",
       "    }\n",
       "\n",
       "    .dataframe thead th {\n",
       "        text-align: right;\n",
       "    }\n",
       "</style>\n",
       "<table border=\"1\" class=\"dataframe\">\n",
       "  <thead>\n",
       "    <tr style=\"text-align: right;\">\n",
       "      <th></th>\n",
       "      <th>ID</th>\n",
       "      <th>Tags</th>\n",
       "      <th>Description</th>\n",
       "      <th>object_type</th>\n",
       "    </tr>\n",
       "  </thead>\n",
       "  <tbody>\n",
       "    <tr>\n",
       "      <th>0</th>\n",
       "      <td>&lt;UID: 9db10b371a1a457a923f533cb88dffae&gt;</td>\n",
       "      <td>[]</td>\n",
       "      <td></td>\n",
       "      <td>&lt;class 'syft.core.tensor.tensor.Tensor'&gt;</td>\n",
       "    </tr>\n",
       "    <tr>\n",
       "      <th>1</th>\n",
       "      <td>&lt;UID: 648a55f5963246e49ebdd63efa8d4100&gt;</td>\n",
       "      <td>[]</td>\n",
       "      <td></td>\n",
       "      <td>&lt;class 'syft.lib.python.Int'&gt;</td>\n",
       "    </tr>\n",
       "    <tr>\n",
       "      <th>2</th>\n",
       "      <td>&lt;UID: 50667e2ba32043ea95fbf9a496c2f663&gt;</td>\n",
       "      <td>[]</td>\n",
       "      <td></td>\n",
       "      <td>&lt;class 'syft.lib.python.Int'&gt;</td>\n",
       "    </tr>\n",
       "    <tr>\n",
       "      <th>3</th>\n",
       "      <td>&lt;UID: a2d336f655144d6d8938af6427018fd8&gt;</td>\n",
       "      <td>[]</td>\n",
       "      <td></td>\n",
       "      <td>&lt;class 'syft.lib.python.Tuple'&gt;</td>\n",
       "    </tr>\n",
       "    <tr>\n",
       "      <th>4</th>\n",
       "      <td>&lt;UID: 1179b1060c44491caa6034e3698baea3&gt;</td>\n",
       "      <td>[]</td>\n",
       "      <td></td>\n",
       "      <td>&lt;class 'syft.lib.python.Int'&gt;</td>\n",
       "    </tr>\n",
       "    <tr>\n",
       "      <th>...</th>\n",
       "      <td>...</td>\n",
       "      <td>...</td>\n",
       "      <td>...</td>\n",
       "      <td>...</td>\n",
       "    </tr>\n",
       "    <tr>\n",
       "      <th>59</th>\n",
       "      <td>&lt;UID: d4b0553c32504f31a9d7dc516337ce95&gt;</td>\n",
       "      <td>[]</td>\n",
       "      <td></td>\n",
       "      <td>&lt;class 'syft.lib.python.Int'&gt;</td>\n",
       "    </tr>\n",
       "    <tr>\n",
       "      <th>60</th>\n",
       "      <td>&lt;UID: 45dece1524754538ac751020a2a71b5e&gt;</td>\n",
       "      <td>[secret]</td>\n",
       "      <td></td>\n",
       "      <td>&lt;class 'torch.Tensor'&gt;</td>\n",
       "    </tr>\n",
       "    <tr>\n",
       "      <th>61</th>\n",
       "      <td>&lt;UID: e0b8d29cf17b4b249b72e450eeb89e09&gt;</td>\n",
       "      <td>[secret]</td>\n",
       "      <td></td>\n",
       "      <td>&lt;class 'torch.Tensor'&gt;</td>\n",
       "    </tr>\n",
       "    <tr>\n",
       "      <th>62</th>\n",
       "      <td>&lt;UID: abd1ed35b44e466cabfadcf428cd2cb2&gt;</td>\n",
       "      <td>[secret]</td>\n",
       "      <td></td>\n",
       "      <td>&lt;class 'torch.Tensor'&gt;</td>\n",
       "    </tr>\n",
       "    <tr>\n",
       "      <th>63</th>\n",
       "      <td>&lt;UID: aa9cb8c754a54131883a697eac6755db&gt;</td>\n",
       "      <td>[secret]</td>\n",
       "      <td></td>\n",
       "      <td>&lt;class 'torch.Tensor'&gt;</td>\n",
       "    </tr>\n",
       "  </tbody>\n",
       "</table>\n",
       "<p>64 rows × 4 columns</p>\n",
       "</div>"
      ],
      "text/plain": [
       "[<TensorPointer -> test_domain_1:9db10b371a1a457a923f533cb88dffae>, <IntPointer -> test_domain_1:648a55f5963246e49ebdd63efa8d4100>, <IntPointer -> test_domain_1:50667e2ba32043ea95fbf9a496c2f663>, <TuplePointer -> test_domain_1:a2d336f655144d6d8938af6427018fd8>, <IntPointer -> test_domain_1:1179b1060c44491caa6034e3698baea3>, <TensorPointer -> test_domain_1:6abf5d0dc04b4574ac7d0f2a30080b23>, <IntPointer -> test_domain_1:de753b28f0724ec2a7e6b68130c69394>, <IntPointer -> test_domain_1:006be6a5a187416f8b9c7583311230b8>, <TuplePointer -> test_domain_1:0100b4128918496bab3193fe0773d55e>, <IntPointer -> test_domain_1:8df1484f43a44935bd9fa11a3432c3f6>, <IntPointer -> test_domain_1:810e7c57dd0141e7abb423f3c818bd5d>, <IntPointer -> test_domain_1:ae24a9f86a534e7e9aeda2ca877bbb35>, <_SyNonePointer -> test_domain_1:c1188b9eecfa4b258e4de6bf24adb5a4>, <TuplePointer -> test_domain_1:78c6e3a3f2754c52966074b7186b6a65>, <IntPointer -> test_domain_1:146ddaf2599242f086cdfd84d2d3539d>, <StringPointer -> test_domain_1:3a2b5550171342959ceea0d5cfffcbb9>, <TensorPointer -> test_domain_1:3221bcfca34a4d74b11472187def3c9b>, <IntPointer -> test_domain_1:ec5c7e67d7e748e0aeaf36ef0d212054>, <IntPointer -> test_domain_1:c67907a8b2ff4f5499b1d2b146d60636>, <TuplePointer -> test_domain_1:c5843e3b0dde401584347a4988c84a5a>, <IntPointer -> test_domain_1:1df23779e44d46dd87ba761492ca6c3f>, <IntPointer -> test_domain_1:452cb2a8f2704da799a1e4a850e065f2>, <IntPointer -> test_domain_1:687f2a3f6f574fa1bf9697c81125cb33>, <_SyNonePointer -> test_domain_1:ca33918759bc44ed893e4e67faa58194>, <TuplePointer -> test_domain_1:a6973eee16e843ad934c74029acde567>, <IntPointer -> test_domain_1:87b418c537414fc5ba98bd53efb56044>, <StringPointer -> test_domain_1:a12808832f7143619e050ee0c4e8b90d>, <TensorPointer -> test_domain_1:a2c0343bee8744af97a75719a0e373ea>, <IntPointer -> test_domain_1:6417e9f9283248378aebb13d152f8bd8>, <IntPointer -> test_domain_1:26af258049dd4349b7baeacc3388ac57>, <TuplePointer -> test_domain_1:2f75c7d0239a420ebd4f304ce7d05d93>, <IntPointer -> test_domain_1:aaa926a613044a78b272a83a5052f34e>, <IntPointer -> test_domain_1:25458251b19e401ebed0c2ab32a00f36>, <StringPointer -> test_domain_1:17dcab847fd24bbd831a1423d740061d>, <TensorPointer -> test_domain_1:dfc3fc82b567475798855a3c508cb930>, <IntPointer -> test_domain_1:7f158c684c00454e844026a03b0e6e79>, <IntPointer -> test_domain_1:1f19617934d14246842e951abc06e7a8>, <TuplePointer -> test_domain_1:1b75e1c5866c482a908146e578e8c772>, <IntPointer -> test_domain_1:f18c66de95b842efa9a95337d8de8819>, <IntPointer -> test_domain_1:c5913a680f314da196ea1d7824065b64>, <StringPointer -> test_domain_1:03b0bd0ed7f149ba82512606116f88c5>, <TensorPointer -> test_domain_1:442fde0b980c4d43881c0ef7b97e7874>, <IntPointer -> test_domain_1:3f77c7ffa1744cbf9e34c6ed47ff6fc9>, <IntPointer -> test_domain_1:1e5d2439767c4e019aaa3579d6ed3727>, <TuplePointer -> test_domain_1:00fbe7e3216d465995d5624ec24cf46f>, <IntPointer -> test_domain_1:22e9bfe25af74e8c8d8ece9376967e02>, <IntPointer -> test_domain_1:4d4225c83a5543c8aa8a4cab04c0004d>, <StringPointer -> test_domain_1:89abd5d9146a48babc91bd55682fe508>, <TensorWrappedSingleEntityPhiTensorPointer -> test_domain_1:e491ed7b268f4cdeaad72b3efb415fa4>, <TensorWrappedSingleEntityPhiTensorPointer -> test_domain_1:f8d49c00e79e4e8c9bde1a428a8f8163>, <IntPointer -> test_domain_1:7ca74d2f9c8b4017bc6c66b8046f7382>, <IntPointer -> test_domain_1:bf4a028f89834717affb2a64b9eb547e>, <TuplePointer -> test_domain_1:ef8ccb61348445d484248cb8497ee810>, <IntPointer -> test_domain_1:b0b0d6420fcf4ad6a9f2e513beb45d3e>, <TensorWrappedSingleEntityPhiTensorPointer -> test_domain_1:cc9bca0540a4453a82af790ff88939ba>, <IntPointer -> test_domain_1:7ea57fd1bfaa469b865df120e49a03f2>, <IntPointer -> test_domain_1:af1f58883f514fcfbfda25a46e697422>, <_SyNonePointer -> test_domain_1:7ab8b5bb5ebc45bc965caa77466a8692>, <TuplePointer -> test_domain_1:a8f6da3ea7f14916b987fa23b3d11004>, <IntPointer -> test_domain_1:d4b0553c32504f31a9d7dc516337ce95>, <TensorPointer -> test_domain_1:45dece1524754538ac751020a2a71b5e>, <TensorPointer -> test_domain_1:e0b8d29cf17b4b249b72e450eeb89e09>, <TensorPointer -> test_domain_1:abd1ed35b44e466cabfadcf428cd2cb2>, <TensorPointer -> test_domain_1:aa9cb8c754a54131883a697eac6755db>]"
      ]
     },
     "execution_count": 19,
     "metadata": {},
     "output_type": "execute_result"
    }
   ],
   "source": [
    "domain.store"
   ]
  },
  {
   "cell_type": "code",
   "execution_count": 20,
   "id": "9b6bae2c-8eb0-4c77-817e-e131d62602f9",
   "metadata": {},
   "outputs": [
    {
     "data": {
      "text/plain": [
       "[{'requested_date': '10/19/2021',\n",
       "  'name': '',\n",
       "  'status': 'ACCEPTED',\n",
       "  'email': '',\n",
       "  'address': 'da1bdd25c1824019acdad870e63f6bdf',\n",
       "  'association_id': '10',\n",
       "  'reason': ''}]"
      ]
     },
     "execution_count": 20,
     "metadata": {},
     "output_type": "execute_result"
    }
   ],
   "source": [
    "domain.association.all()"
   ]
  },
  {
   "cell_type": "code",
   "execution_count": 21,
   "id": "971fce8c-0ebd-439b-ab00-4a7d6918f17f",
   "metadata": {},
   "outputs": [
    {
     "data": {
      "text/plain": [
       "'da1bdd25c1824019acdad870e63f6bdf'"
      ]
     },
     "execution_count": 21,
     "metadata": {},
     "output_type": "execute_result"
    }
   ],
   "source": [
    "domain.target_id.id.no_dash"
   ]
  },
  {
   "cell_type": "code",
   "execution_count": 22,
   "id": "25e0e539-0dff-46f9-bc9c-ddfbd1c060d7",
   "metadata": {},
   "outputs": [
    {
     "data": {
      "text/html": [
       "<div>\n",
       "<style scoped>\n",
       "    .dataframe tbody tr th:only-of-type {\n",
       "        vertical-align: middle;\n",
       "    }\n",
       "\n",
       "    .dataframe tbody tr th {\n",
       "        vertical-align: top;\n",
       "    }\n",
       "\n",
       "    .dataframe thead th {\n",
       "        text-align: right;\n",
       "    }\n",
       "</style>\n",
       "<table border=\"1\" class=\"dataframe\">\n",
       "  <thead>\n",
       "    <tr style=\"text-align: right;\">\n",
       "      <th></th>\n",
       "      <th>match-nodes</th>\n",
       "    </tr>\n",
       "  </thead>\n",
       "  <tbody>\n",
       "    <tr>\n",
       "      <th>0</th>\n",
       "      <td>da1bdd25c1824019acdad870e63f6bdf</td>\n",
       "    </tr>\n",
       "  </tbody>\n",
       "</table>\n",
       "</div>"
      ],
      "text/plain": [
       "                        match-nodes\n",
       "0  da1bdd25c1824019acdad870e63f6bdf"
      ]
     },
     "execution_count": 22,
     "metadata": {},
     "output_type": "execute_result"
    }
   ],
   "source": [
    "network.search(query=[\"secret\"], pandas=True)"
   ]
  },
  {
   "cell_type": "code",
   "execution_count": 23,
   "id": "0b02f239-fdcc-48fe-be6e-8e01d348afd8",
   "metadata": {},
   "outputs": [
    {
     "data": {
      "text/plain": [
       "'da1bdd25c1824019acdad870e63f6bdf'"
      ]
     },
     "execution_count": 23,
     "metadata": {},
     "output_type": "execute_result"
    }
   ],
   "source": [
    "domain.address.target_id.id.no_dash"
   ]
  },
  {
   "cell_type": "code",
   "execution_count": null,
   "id": "a7f7b0d3-62be-406e-88d6-d81b66e0ada8",
   "metadata": {},
   "outputs": [],
   "source": []
  }
 ],
 "metadata": {
  "kernelspec": {
   "display_name": "Python 3 (ipykernel)",
   "language": "python",
   "name": "python3"
  },
  "language_info": {
   "codemirror_mode": {
    "name": "ipython",
    "version": 3
   },
   "file_extension": ".py",
   "mimetype": "text/x-python",
   "name": "python",
   "nbconvert_exporter": "python",
   "pygments_lexer": "ipython3",
   "version": "3.9.4"
  }
 },
 "nbformat": 4,
 "nbformat_minor": 5
}
