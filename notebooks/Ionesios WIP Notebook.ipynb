{
 "cells": [
  {
   "cell_type": "markdown",
   "id": "dcbc42e7-c110-4a98-ab53-459df7c07fdb",
   "metadata": {},
   "source": [
    "## Association Request\n",
    "\n",
    "This notebook aims to give a brief explanation on  how the association request works __(Although it's still completely open to suggestions/improvements)__ ."
   ]
  },
  {
   "cell_type": "code",
   "execution_count": null,
   "id": "f06c5bb5-e22f-44c8-a111-f849c37b7e6d",
   "metadata": {},
   "outputs": [],
   "source": [
    "from syft.grid.client.client import connect\n",
    "from syft.grid.client.grid_connection import GridHTTPConnection\n",
    "from syft.grid.client.client import login\n",
    "from syft.core.node.domain.client import DomainClient\n",
    "\n",
    "import syft as sy\n",
    "import torch as th\n",
    "\n",
    "import logging\n",
    "logging.basicConfig()\n",
    "logging.getLogger().setLevel(logging.INFO)"
   ]
  },
  {
   "cell_type": "markdown",
   "id": "89da5873",
   "metadata": {},
   "source": [
    "# start two different domain stacks\n",
    "```\n",
    "DOMAIN_PORT=8081 TRAEFIK_TAG=ca docker compose -p ca up\n",
    "DOMAIN_PORT=8082 TRAEFIK_TAG=au docker compose -p au up\n",
    "```"
   ]
  },
  {
   "cell_type": "markdown",
   "id": "52ab6d0a-efe5-47e3-b0e5-a470290883fa",
   "metadata": {},
   "source": [
    "### Connect with Domain / Network"
   ]
  },
  {
   "cell_type": "code",
   "execution_count": 3,
   "id": "74f6d5f7",
   "metadata": {},
   "outputs": [],
   "source": [
    "DOMAIN_PORT=80\n",
    "NETWORK_PORT=80"
   ]
  },
  {
   "cell_type": "code",
   "execution_count": 4,
   "id": "83310158-7358-4531-b74e-83358c24cd87",
   "metadata": {},
   "outputs": [],
   "source": [
    "# Use this url when running Jupyter inside a container, otherwise the apps won't be able to exchange messages.\n",
    "# API_URL = f\"http://docker-host:{DOMAIN_PORT}/api/v1\"\n",
    "DOMAIN_URL = f'http://grid_backend_1:{DOMAIN_PORT}'\n",
    "NETWORK_URL = f'http://grid_network_node_1:{NETWORK_PORT}'"
   ]
  },
  {
   "cell_type": "code",
   "execution_count": null,
   "id": "b4ec4d82-594f-4cfc-8df4-a479d0f22518",
   "metadata": {},
   "outputs": [],
   "source": [
    "network = login(url=DOMAIN_URL, email=\"info@openmined.org\", password=\"changethis\")\n",
    "domain = login(url=NETWORK_URL,email=\"info@openmined.org\", password=\"changethis\")"
   ]
  },
  {
   "cell_type": "markdown",
   "id": "df3f7904-efaa-4404-87ca-8506b8a02c47",
   "metadata": {},
   "source": [
    "#### Update User Account\n",
    "Since, the default account doesn't have a name, we need to update the Owner account and add one.\n",
    "The user name will be important to identify who made the association request."
   ]
  },
  {
   "cell_type": "code",
   "execution_count": null,
   "id": "18c49a0d-aee0-4227-8192-22a6914c1590",
   "metadata": {},
   "outputs": [],
   "source": [
    "network.users.update(user_id=1, name=\"Bob\")\n",
    "domain.users.update(user_id=1, name=\"Alice\")"
   ]
  },
  {
   "cell_type": "code",
   "execution_count": null,
   "id": "38fd0df2-2a29-4295-afe1-608c487401d5",
   "metadata": {},
   "outputs": [],
   "source": [
    "domain.users.all(pandas=True)"
   ]
  },
  {
   "cell_type": "code",
   "execution_count": null,
   "id": "7f0c4f87-4c1e-4177-b6e6-ad2f9d0c6bb0",
   "metadata": {},
   "outputs": [],
   "source": [
    "network.users.all(pandas=True)"
   ]
  },
  {
   "cell_type": "markdown",
   "id": "b0eb0ca7-8a6d-470e-8eda-c28c188237f1",
   "metadata": {},
   "source": [
    "### Request Node Association"
   ]
  },
  {
   "cell_type": "code",
   "execution_count": null,
   "id": "a23381d0-6f86-42a4-aec1-27b90863f792",
   "metadata": {},
   "outputs": [],
   "source": [
    "domain.apply_to_network(target=NETWORK_URL, reason=\"I'd like join!\")"
   ]
  },
  {
   "cell_type": "markdown",
   "id": "a481503f-c999-4039-9a31-fd50b183d4d7",
   "metadata": {},
   "source": [
    "### Monitor Association Requests"
   ]
  },
  {
   "cell_type": "code",
   "execution_count": null,
   "id": "da4726a8-b9b1-4835-9309-b791a3bae6b1",
   "metadata": {},
   "outputs": [],
   "source": [
    "network.association.all(pandas=True)"
   ]
  },
  {
   "cell_type": "markdown",
   "id": "9ac295a0-7e57-44f8-9bf6-c6a4107591e6",
   "metadata": {},
   "source": [
    "### Accept/Deny Association Requests"
   ]
  },
  {
   "cell_type": "code",
   "execution_count": null,
   "id": "d847aeb7-4c3a-4cf8-99f5-2fce904c3c00",
   "metadata": {},
   "outputs": [],
   "source": [
    "network.association[0].accept()\n",
    "# network.association[0].deny()"
   ]
  }
 ],
 "metadata": {
  "kernelspec": {
   "display_name": "Python 3 (ipykernel)",
   "language": "python",
   "name": "python3"
  },
  "language_info": {
   "codemirror_mode": {
    "name": "ipython",
    "version": 3
   },
   "file_extension": ".py",
   "mimetype": "text/x-python",
   "name": "python",
   "nbconvert_exporter": "python",
   "pygments_lexer": "ipython3",
   "version": "3.7.9"
  }
 },
 "nbformat": 4,
 "nbformat_minor": 5
}
