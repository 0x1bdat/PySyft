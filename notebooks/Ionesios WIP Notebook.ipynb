{
 "cells": [
  {
   "cell_type": "markdown",
   "id": "dcbc42e7-c110-4a98-ab53-459df7c07fdb",
   "metadata": {},
   "source": [
    "## Association Request\n",
    "\n",
    "This notebook aims to give a brief explanation on  how the association request works __(Although it's still completely open to suggestions/improvements)__ ."
   ]
  },
  {
   "cell_type": "code",
   "execution_count": 1,
   "id": "f06c5bb5-e22f-44c8-a111-f849c37b7e6d",
   "metadata": {},
   "outputs": [],
   "source": [
    "from syft.grid.client.client import connect\n",
    "from syft.grid.client.grid_connection import GridHTTPConnection\n",
    "from syft.grid.client.client import login\n",
    "from syft.core.node.domain.client import DomainClient\n",
    "\n",
    "import syft as sy\n",
    "import torch as th\n",
    "\n",
    "import logging\n",
    "logging.basicConfig()\n",
    "logging.getLogger().setLevel(logging.INFO)"
   ]
  },
  {
   "cell_type": "markdown",
   "id": "89da5873",
   "metadata": {},
   "source": [
    "# start two different domain stacks\n",
    "```\n",
    "DOMAIN_PORT=8081 TRAEFIK_TAG=ca docker compose -p ca up\n",
    "DOMAIN_PORT=8082 TRAEFIK_TAG=au docker compose -p au up\n",
    "```"
   ]
  },
  {
   "cell_type": "markdown",
   "id": "52ab6d0a-efe5-47e3-b0e5-a470290883fa",
   "metadata": {},
   "source": [
    "### Connect with Domain / Network"
   ]
  },
  {
   "cell_type": "code",
   "execution_count": null,
   "id": "83310158-7358-4531-b74e-83358c24cd87",
   "metadata": {},
   "outputs": [],
   "source": [
    "domain = sy.login(email=\"info@openmined.org\", password=\"changethis\", port=9082)"
   ]
  },
  {
   "cell_type": "markdown",
   "id": "df3f7904-efaa-4404-87ca-8506b8a02c47",
   "metadata": {},
   "source": [
    "#### Update User Account\n",
    "Since, the default account doesn't have a name, we need to update the Owner account and add one.\n",
    "The user name will be important to identify who made the association request."
   ]
  },
  {
   "cell_type": "markdown",
   "id": "b0eb0ca7-8a6d-470e-8eda-c28c188237f1",
   "metadata": {},
   "source": [
    "### Request Node Association"
   ]
  },
  {
   "cell_type": "code",
   "execution_count": 2,
   "id": "67b66b16-81ee-4dd7-b5d7-3650a2b62dba",
   "metadata": {},
   "outputs": [],
   "source": [
    "NETWORK_URL = f'100.64.0.1'\n",
    "DOMAIN_URL = f'100.64.0.2'"
   ]
  },
  {
   "cell_type": "code",
   "execution_count": null,
   "id": "a23381d0-6f86-42a4-aec1-27b90863f792",
   "metadata": {},
   "outputs": [],
   "source": [
    "# source_vpn = IP / Host that Network can reach domain on\n",
    "# target_vpn = IP / Host that Domain can reach network on\n",
    "# target = \n",
    "# NETWORK_URL = f'http://localhost:{8085}'\n",
    "domain.apply_to_network(source_vpn=DOMAIN_URL, target=\"localhost:9081\", target_vpn=NETWORK_URL)\n",
    "# network.apply_to_network(target=DOMAIN_URL, reason=\"I'd like join!\")"
   ]
  },
  {
   "cell_type": "markdown",
   "id": "a481503f-c999-4039-9a31-fd50b183d4d7",
   "metadata": {},
   "source": [
    "### Monitor Association Requests"
   ]
  },
  {
   "cell_type": "code",
   "execution_count": 3,
   "id": "5dfef6fd-3acc-41fa-a6fb-ce99f4d4c8d4",
   "metadata": {},
   "outputs": [
    {
     "name": "stdout",
     "output_type": "stream",
     "text": [
      "Connecting to http://localhost:9081... done! \t Logging into test_network_1... done!\n"
     ]
    }
   ],
   "source": [
    "network = sy.login(email=\"info@openmined.org\", password=\"changethis\", port=9081)"
   ]
  },
  {
   "cell_type": "code",
   "execution_count": 4,
   "id": "da4726a8-b9b1-4835-9309-b791a3bae6b1",
   "metadata": {},
   "outputs": [
    {
     "data": {
      "text/html": [
       "<div>\n",
       "<style scoped>\n",
       "    .dataframe tbody tr th:only-of-type {\n",
       "        vertical-align: middle;\n",
       "    }\n",
       "\n",
       "    .dataframe tbody tr th {\n",
       "        vertical-align: top;\n",
       "    }\n",
       "\n",
       "    .dataframe thead th {\n",
       "        text-align: right;\n",
       "    }\n",
       "</style>\n",
       "<table border=\"1\" class=\"dataframe\">\n",
       "  <thead>\n",
       "    <tr style=\"text-align: right;\">\n",
       "      <th></th>\n",
       "      <th>name</th>\n",
       "      <th>requested_date</th>\n",
       "      <th>association_id</th>\n",
       "      <th>status</th>\n",
       "      <th>reason</th>\n",
       "      <th>email</th>\n",
       "    </tr>\n",
       "  </thead>\n",
       "  <tbody>\n",
       "    <tr>\n",
       "      <th>0</th>\n",
       "      <td></td>\n",
       "      <td>10/19/2021</td>\n",
       "      <td>2</td>\n",
       "      <td>ACCEPTED</td>\n",
       "      <td></td>\n",
       "      <td></td>\n",
       "    </tr>\n",
       "  </tbody>\n",
       "</table>\n",
       "</div>"
      ],
      "text/plain": [
       "  name requested_date association_id    status reason email\n",
       "0          10/19/2021              2  ACCEPTED             "
      ]
     },
     "execution_count": 4,
     "metadata": {},
     "output_type": "execute_result"
    }
   ],
   "source": [
    "network.association.pandas()"
   ]
  },
  {
   "cell_type": "markdown",
   "id": "9ac295a0-7e57-44f8-9bf6-c6a4107591e6",
   "metadata": {},
   "source": [
    "### Accept/Deny Association Requests"
   ]
  },
  {
   "cell_type": "code",
   "execution_count": null,
   "id": "d847aeb7-4c3a-4cf8-99f5-2fce904c3c00",
   "metadata": {},
   "outputs": [],
   "source": [
    "network.association[2].accept()"
   ]
  },
  {
   "cell_type": "code",
   "execution_count": null,
   "id": "bde37dc5-af8f-4be4-8889-26938ebc3639",
   "metadata": {},
   "outputs": [],
   "source": [
    "import torch as th"
   ]
  },
  {
   "cell_type": "code",
   "execution_count": null,
   "id": "edce4d4c-7fff-46fc-8e11-6b20ea9bec92",
   "metadata": {},
   "outputs": [],
   "source": [
    "x = th.Tensor([1,2,3])"
   ]
  },
  {
   "cell_type": "code",
   "execution_count": null,
   "id": "b971e1d8-660b-4130-8628-01f6fde8793e",
   "metadata": {},
   "outputs": [],
   "source": [
    "x_ptr = x.send(domain, tags=[\"secret\"])"
   ]
  },
  {
   "cell_type": "code",
   "execution_count": null,
   "id": "bca256e7-1881-4803-9b7b-fe543f8fba98",
   "metadata": {},
   "outputs": [],
   "source": [
    "domain.store"
   ]
  },
  {
   "cell_type": "code",
   "execution_count": 5,
   "id": "bec28453-67f7-4750-9ce2-f736eb55cef4",
   "metadata": {},
   "outputs": [
    {
     "name": "stdout",
     "output_type": "stream",
     "text": [
      "Connecting to http://localhost:9081... done! \t Logging into test_network_1... done!\n"
     ]
    }
   ],
   "source": [
    "network = sy.login(email=\"info@openmined.org\", password=\"changethis\", port=9081)"
   ]
  },
  {
   "cell_type": "code",
   "execution_count": 6,
   "id": "25e0e539-0dff-46f9-bc9c-ddfbd1c060d7",
   "metadata": {},
   "outputs": [
    {
     "name": "stderr",
     "output_type": "stream",
     "text": [
      "[2021-10-19T11:05:40.048852+1000][CRITICAL][logger]][63551] UnknownPrivateException has been triggered.\n"
     ]
    },
    {
     "ename": "UnknownPrivateException",
     "evalue": "UnknownPrivateException has been triggered.",
     "output_type": "error",
     "traceback": [
      "\u001b[0;31m---------------------------------------------------------------------------\u001b[0m",
      "\u001b[0;31mUnknownPrivateException\u001b[0m                   Traceback (most recent call last)",
      "\u001b[0;32m/var/folders/3r/2gwlx_5511nf3r555rv0bwc40000gn/T/ipykernel_63551/4169799526.py\u001b[0m in \u001b[0;36m<module>\u001b[0;34m\u001b[0m\n\u001b[0;32m----> 1\u001b[0;31m \u001b[0mnetwork\u001b[0m\u001b[0;34m.\u001b[0m\u001b[0msearch\u001b[0m\u001b[0;34m(\u001b[0m\u001b[0mquery\u001b[0m\u001b[0;34m=\u001b[0m\u001b[0;34m[\u001b[0m\u001b[0;34m\"secret\"\u001b[0m\u001b[0;34m]\u001b[0m\u001b[0;34m)\u001b[0m\u001b[0;34m\u001b[0m\u001b[0;34m\u001b[0m\u001b[0m\n\u001b[0m",
      "\u001b[0;32m~/dev/PySyft/packages/syft/src/syft/core/node/network/client.py\u001b[0m in \u001b[0;36msearch\u001b[0;34m(self, query, pandas)\u001b[0m\n\u001b[1;32m    148\u001b[0m \u001b[0;34m\u001b[0m\u001b[0m\n\u001b[1;32m    149\u001b[0m     \u001b[0;32mdef\u001b[0m \u001b[0msearch\u001b[0m\u001b[0;34m(\u001b[0m\u001b[0mself\u001b[0m\u001b[0;34m,\u001b[0m \u001b[0mquery\u001b[0m\u001b[0;34m:\u001b[0m \u001b[0mList\u001b[0m\u001b[0;34m,\u001b[0m \u001b[0mpandas\u001b[0m\u001b[0;34m:\u001b[0m \u001b[0mbool\u001b[0m \u001b[0;34m=\u001b[0m \u001b[0;32mFalse\u001b[0m\u001b[0;34m)\u001b[0m \u001b[0;34m->\u001b[0m \u001b[0mAny\u001b[0m\u001b[0;34m:\u001b[0m\u001b[0;34m\u001b[0m\u001b[0;34m\u001b[0m\u001b[0m\n\u001b[0;32m--> 150\u001b[0;31m         response = self._perform_grid_request(\n\u001b[0m\u001b[1;32m    151\u001b[0m             \u001b[0mgrid_msg\u001b[0m\u001b[0;34m=\u001b[0m\u001b[0mNetworkSearchMessage\u001b[0m\u001b[0;34m,\u001b[0m \u001b[0mcontent\u001b[0m\u001b[0;34m=\u001b[0m\u001b[0;34m{\u001b[0m\u001b[0;34m\"content\"\u001b[0m\u001b[0;34m:\u001b[0m \u001b[0mquery\u001b[0m\u001b[0;34m}\u001b[0m\u001b[0;34m\u001b[0m\u001b[0;34m\u001b[0m\u001b[0m\n\u001b[1;32m    152\u001b[0m         )\n",
      "\u001b[0;32m~/dev/PySyft/packages/syft/src/syft/core/node/network/client.py\u001b[0m in \u001b[0;36m_perform_grid_request\u001b[0;34m(self, grid_msg, content)\u001b[0m\n\u001b[1;32m    166\u001b[0m         \u001b[0msigned_msg\u001b[0m \u001b[0;34m=\u001b[0m \u001b[0mgrid_msg\u001b[0m\u001b[0;34m(\u001b[0m\u001b[0;34m**\u001b[0m\u001b[0mcontent\u001b[0m\u001b[0;34m)\u001b[0m\u001b[0;34m.\u001b[0m\u001b[0msign\u001b[0m\u001b[0;34m(\u001b[0m\u001b[0msigning_key\u001b[0m\u001b[0;34m=\u001b[0m\u001b[0mself\u001b[0m\u001b[0;34m.\u001b[0m\u001b[0msigning_key\u001b[0m\u001b[0;34m)\u001b[0m\u001b[0;34m\u001b[0m\u001b[0;34m\u001b[0m\u001b[0m\n\u001b[1;32m    167\u001b[0m         \u001b[0;31m# Send to the dest\u001b[0m\u001b[0;34m\u001b[0m\u001b[0;34m\u001b[0m\u001b[0;34m\u001b[0m\u001b[0m\n\u001b[0;32m--> 168\u001b[0;31m         \u001b[0mresponse\u001b[0m \u001b[0;34m=\u001b[0m \u001b[0mself\u001b[0m\u001b[0;34m.\u001b[0m\u001b[0msend_immediate_msg_with_reply\u001b[0m\u001b[0;34m(\u001b[0m\u001b[0mmsg\u001b[0m\u001b[0;34m=\u001b[0m\u001b[0msigned_msg\u001b[0m\u001b[0;34m)\u001b[0m\u001b[0;34m\u001b[0m\u001b[0;34m\u001b[0m\u001b[0m\n\u001b[0m\u001b[1;32m    169\u001b[0m         \u001b[0;32mif\u001b[0m \u001b[0misinstance\u001b[0m\u001b[0;34m(\u001b[0m\u001b[0mresponse\u001b[0m\u001b[0;34m,\u001b[0m \u001b[0mExceptionMessage\u001b[0m\u001b[0;34m)\u001b[0m\u001b[0;34m:\u001b[0m\u001b[0;34m\u001b[0m\u001b[0;34m\u001b[0m\u001b[0m\n\u001b[1;32m    170\u001b[0m             \u001b[0;32mraise\u001b[0m \u001b[0mresponse\u001b[0m\u001b[0;34m.\u001b[0m\u001b[0mexception_type\u001b[0m\u001b[0;34m\u001b[0m\u001b[0;34m\u001b[0m\u001b[0m\n",
      "\u001b[0;32m~/dev/PySyft/packages/syft/src/syft/core/node/common/client.py\u001b[0m in \u001b[0;36msend_immediate_msg_with_reply\u001b[0;34m(self, msg, route_index)\u001b[0m\n\u001b[1;32m    253\u001b[0m                 \u001b[0mexception\u001b[0m \u001b[0;34m=\u001b[0m \u001b[0mexception_msg\u001b[0m\u001b[0;34m.\u001b[0m\u001b[0mexception_type\u001b[0m\u001b[0;34m(\u001b[0m\u001b[0mexception_msg\u001b[0m\u001b[0;34m.\u001b[0m\u001b[0mexception_msg\u001b[0m\u001b[0;34m)\u001b[0m\u001b[0;34m\u001b[0m\u001b[0;34m\u001b[0m\u001b[0m\n\u001b[1;32m    254\u001b[0m                 \u001b[0merror\u001b[0m\u001b[0;34m(\u001b[0m\u001b[0mstr\u001b[0m\u001b[0;34m(\u001b[0m\u001b[0mexception\u001b[0m\u001b[0;34m)\u001b[0m\u001b[0;34m)\u001b[0m\u001b[0;34m\u001b[0m\u001b[0;34m\u001b[0m\u001b[0m\n\u001b[0;32m--> 255\u001b[0;31m                 \u001b[0mtraceback_and_raise\u001b[0m\u001b[0;34m(\u001b[0m\u001b[0mexception\u001b[0m\u001b[0;34m)\u001b[0m\u001b[0;34m\u001b[0m\u001b[0;34m\u001b[0m\u001b[0m\n\u001b[0m\u001b[1;32m    256\u001b[0m             \u001b[0;32melse\u001b[0m\u001b[0;34m:\u001b[0m\u001b[0;34m\u001b[0m\u001b[0;34m\u001b[0m\u001b[0m\n\u001b[1;32m    257\u001b[0m                 \u001b[0;32mreturn\u001b[0m \u001b[0mresponse\u001b[0m\u001b[0;34m.\u001b[0m\u001b[0mmessage\u001b[0m\u001b[0;34m\u001b[0m\u001b[0;34m\u001b[0m\u001b[0m\n",
      "\u001b[0;32m~/dev/PySyft/packages/syft/src/syft/logger.py\u001b[0m in \u001b[0;36mtraceback_and_raise\u001b[0;34m(e, verbose)\u001b[0m\n\u001b[1;32m     59\u001b[0m     \u001b[0;32mif\u001b[0m \u001b[0;32mnot\u001b[0m \u001b[0missubclass\u001b[0m\u001b[0;34m(\u001b[0m\u001b[0mtype\u001b[0m\u001b[0;34m(\u001b[0m\u001b[0me\u001b[0m\u001b[0;34m)\u001b[0m\u001b[0;34m,\u001b[0m \u001b[0mException\u001b[0m\u001b[0;34m)\u001b[0m\u001b[0;34m:\u001b[0m\u001b[0;34m\u001b[0m\u001b[0;34m\u001b[0m\u001b[0m\n\u001b[1;32m     60\u001b[0m         \u001b[0me\u001b[0m \u001b[0;34m=\u001b[0m \u001b[0mException\u001b[0m\u001b[0;34m(\u001b[0m\u001b[0me\u001b[0m\u001b[0;34m)\u001b[0m\u001b[0;34m\u001b[0m\u001b[0;34m\u001b[0m\u001b[0m\n\u001b[0;32m---> 61\u001b[0;31m     \u001b[0;32mraise\u001b[0m \u001b[0me\u001b[0m\u001b[0;34m\u001b[0m\u001b[0;34m\u001b[0m\u001b[0m\n\u001b[0m\u001b[1;32m     62\u001b[0m \u001b[0;34m\u001b[0m\u001b[0m\n\u001b[1;32m     63\u001b[0m \u001b[0;34m\u001b[0m\u001b[0m\n",
      "\u001b[0;31mUnknownPrivateException\u001b[0m: UnknownPrivateException has been triggered."
     ]
    }
   ],
   "source": [
    "network.search(query=[\"secret\"])"
   ]
  },
  {
   "cell_type": "code",
   "execution_count": null,
   "id": "aae47d09-7584-46f9-bbe7-e15a4a379a24",
   "metadata": {},
   "outputs": [],
   "source": []
  },
  {
   "cell_type": "code",
   "execution_count": null,
   "id": "a1253251-9808-477b-b1f7-8459035f2c84",
   "metadata": {},
   "outputs": [],
   "source": [
    "s = \"0A29737966742E636F72652E6E6F64652E646F6D61696E2E636C69656E742E446F6D61696E436C69656E7412CA010A120A106B28F5FDD893451CBF858FC4D1371B4B120D746573745F646F6D61696E5F311A550A120A10F1D70C14A82C4605944E86DD4A937A1212230A120A106B28F5FDD893451CBF858FC4D1371B4B120D746573745F646F6D61696E5F31221A0A18687474703A2F2F3130302E36342E302E322F6170692F76312A230A120A106B28F5FDD893451CBF858FC4D1371B4B120D746573745F646F6D61696E5F314229737966742E636F72652E6E6F64652E646F6D61696E2E636C69656E742E446F6D61696E436C69656E74\""
   ]
  },
  {
   "cell_type": "code",
   "execution_count": null,
   "id": "bc4c9956-c918-44aa-bba2-39f0915104b2",
   "metadata": {},
   "outputs": [],
   "source": [
    "x = bytes.fromhex(s)"
   ]
  },
  {
   "cell_type": "code",
   "execution_count": null,
   "id": "36e1f34f-bfde-4bfe-b9f8-e137fe0559da",
   "metadata": {},
   "outputs": [],
   "source": [
    "x"
   ]
  },
  {
   "cell_type": "code",
   "execution_count": null,
   "id": "b756214d-277c-48b1-888d-b5f9fb7cd73f",
   "metadata": {},
   "outputs": [],
   "source": [
    "y = sy.deserialize(x, from_bytes=True)"
   ]
  },
  {
   "cell_type": "code",
   "execution_count": null,
   "id": "a4afb301-ea5a-474d-9422-2c29abc9bd4a",
   "metadata": {},
   "outputs": [],
   "source": [
    "y.routes[0].connection.base_url"
   ]
  },
  {
   "cell_type": "code",
   "execution_count": null,
   "id": "0c9c6c2b-9762-4456-a3c4-cb716053d983",
   "metadata": {},
   "outputs": [],
   "source": [
    "assert bytes(y.signing_key) != bytes(domain.signing_key)"
   ]
  },
  {
   "cell_type": "code",
   "execution_count": null,
   "id": "7431295f-9c95-4016-a6d0-1232f7fc07af",
   "metadata": {},
   "outputs": [],
   "source": [
    "assert bytes(y.signing_key) != bytes(network.signing_key)"
   ]
  },
  {
   "cell_type": "code",
   "execution_count": null,
   "id": "5c344141-bcbb-445a-8bb8-599f28020c5b",
   "metadata": {},
   "outputs": [],
   "source": [
    "bytes(domain.signing_key)"
   ]
  },
  {
   "cell_type": "code",
   "execution_count": null,
   "id": "c1f19bd2-d4ae-47d5-9767-4cc94d497bcf",
   "metadata": {},
   "outputs": [],
   "source": [
    "bytes(network.signing_key)"
   ]
  },
  {
   "cell_type": "code",
   "execution_count": null,
   "id": "39d361e7-0bf1-4360-b055-d2b220cc5c84",
   "metadata": {},
   "outputs": [],
   "source": [
    "bytes(y.signing_key)"
   ]
  },
  {
   "cell_type": "code",
   "execution_count": null,
   "id": "bb5407a6-6eb5-41e8-82fe-a3c58353051b",
   "metadata": {},
   "outputs": [],
   "source": []
  }
 ],
 "metadata": {
  "kernelspec": {
   "display_name": "Python 3 (ipykernel)",
   "language": "python",
   "name": "python3"
  },
  "language_info": {
   "codemirror_mode": {
    "name": "ipython",
    "version": 3
   },
   "file_extension": ".py",
   "mimetype": "text/x-python",
   "name": "python",
   "nbconvert_exporter": "python",
   "pygments_lexer": "ipython3",
   "version": "3.9.4"
  }
 },
 "nbformat": 4,
 "nbformat_minor": 5
}
