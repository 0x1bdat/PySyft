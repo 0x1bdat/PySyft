{
 "cells": [
  {
   "cell_type": "code",
   "execution_count": 77,
   "metadata": {},
   "outputs": [],
   "source": [
    "from grid import ipfsapi\n",
    "import base64\n",
    "import web3"
   ]
  },
  {
   "cell_type": "code",
   "execution_count": 3,
   "metadata": {
    "collapsed": true
   },
   "outputs": [],
   "source": [
    "api = ipfsapi.connect('127.0.0.1', 5001)"
   ]
  },
  {
   "cell_type": "code",
   "execution_count": null,
   "metadata": {
    "scrolled": false
   },
   "outputs": [
    {
     "name": "stdout",
     "output_type": "stream",
     "text": [
      "{}\n",
      "{'from': b'\\x12 \\xaety\\x95\\xb0\\xeb\\xd2\\xb3f\\xc9\\xe1\\xa9\\x87\\xf8(\\xb0\\x98cm\\xa4\\xd3=\\xf3\\x9a\\xeax~\\xce\\x05mX[', 'data': b'1', 'seqno': b'\\x15\\x0f\\xefJ\\xb2\\xa3\\xdb{', 'topicIDs': ['openmined_model_1']}\n"
     ]
    }
   ],
   "source": [
    "g = api.pubsub_sub(topic='openmined_model_1',stream=True,)\n",
    "\n",
    "results = list()\n",
    "try:\n",
    "    for encoded in g:\n",
    "        try:\n",
    "            decoded = {}\n",
    "            decoded['from'] = base64.standard_b64decode(encoded['from'])\n",
    "            decoded['data'] = base64.standard_b64decode(encoded['data'])\n",
    "            decoded['seqno'] = base64.standard_b64decode(encoded['seqno'])\n",
    "            decoded['topicIDs'] = encoded['topicIDs']\n",
    "            results.append(decoded)\n",
    "            \n",
    "#             api.pubsub_pub(topic='openmined_model_1',payload=int(decoded['data']) + 1)\n",
    "\n",
    "            print(decoded)\n",
    "        except:\n",
    "            print(encoded)\n",
    "except:\n",
    "    \"\""
   ]
  },
  {
   "cell_type": "code",
   "execution_count": null,
   "metadata": {},
   "outputs": [],
   "source": []
  },
  {
   "cell_type": "code",
   "execution_count": null,
   "metadata": {},
   "outputs": [],
   "source": []
  },
  {
   "cell_type": "code",
   "execution_count": null,
   "metadata": {
    "collapsed": true
   },
   "outputs": [],
   "source": []
  }
 ],
 "metadata": {
  "kernelspec": {
   "display_name": "Python 3",
   "language": "python",
   "name": "python3"
  },
  "language_info": {
   "codemirror_mode": {
    "name": "ipython",
    "version": 3
   },
   "file_extension": ".py",
   "mimetype": "text/x-python",
   "name": "python",
   "nbconvert_exporter": "python",
   "pygments_lexer": "ipython3",
   "version": "3.6.1"
  }
 },
 "nbformat": 4,
 "nbformat_minor": 2
}
