{
 "cells": [
  {
   "cell_type": "code",
   "execution_count": 16,
   "metadata": {
    "collapsed": true
   },
   "outputs": [],
   "source": [
    "from grid import ipfsapi\n",
    "import json\n",
    "import web3"
   ]
  },
  {
   "cell_type": "code",
   "execution_count": 53,
   "metadata": {},
   "outputs": [],
   "source": [
    "import base64"
   ]
  },
  {
   "cell_type": "code",
   "execution_count": 101,
   "metadata": {},
   "outputs": [
    {
     "data": {
      "text/plain": [
       "b'see anything?'"
      ]
     },
     "execution_count": 101,
     "metadata": {},
     "output_type": "execute_result"
    }
   ],
   "source": [
    "base64.standard_b64decode(\"c2VlIGFueXRoaW5nPw==\")"
   ]
  },
  {
   "cell_type": "code",
   "execution_count": 2,
   "metadata": {
    "collapsed": true
   },
   "outputs": [],
   "source": [
    "api = ipfsapi.connect('127.0.0.1', 5001)"
   ]
  },
  {
   "cell_type": "code",
   "execution_count": 105,
   "metadata": {},
   "outputs": [
    {
     "data": {
      "text/plain": [
       "[]"
      ]
     },
     "execution_count": 105,
     "metadata": {},
     "output_type": "execute_result"
    }
   ],
   "source": [
    "api.pubsub_pub(topic='openmined_model_1',payload='1')"
   ]
  },
  {
   "cell_type": "code",
   "execution_count": 121,
   "metadata": {},
   "outputs": [
    {
     "data": {
      "text/plain": [
       "'Qma5efEQtBUxDonmSDajv9dZ52axH9MNULKTgVpXWK8Ak2'"
      ]
     },
     "execution_count": 121,
     "metadata": {},
     "output_type": "execute_result"
    }
   ],
   "source": [
    "api.config_show()['Identity']['PeerID']"
   ]
  },
  {
   "cell_type": "code",
   "execution_count": 122,
   "metadata": {},
   "outputs": [
    {
     "data": {
      "text/plain": [
       "{'API': {'HTTPHeaders': None},\n",
       " 'Addresses': {'API': '/ip4/127.0.0.1/tcp/5001',\n",
       "  'Announce': [],\n",
       "  'Gateway': '/ip4/127.0.0.1/tcp/8080',\n",
       "  'NoAnnounce': [],\n",
       "  'Swarm': ['/ip4/0.0.0.0/tcp/4001', '/ip6/::/tcp/4001']},\n",
       " 'Bootstrap': ['/dnsaddr/bootstrap.libp2p.io/ipfs/QmNnooDu7bfjPFoTZYxMNLWUQJyrVwtbZg5gBMjTezGAJN',\n",
       "  '/dnsaddr/bootstrap.libp2p.io/ipfs/QmQCU2EcMqAqQPR2i9bChDtGNJchTbq5TbXJJ16u19uLTa',\n",
       "  '/dnsaddr/bootstrap.libp2p.io/ipfs/QmbLHAnMoJPWSCR5Zhtx6BHJX9KiKNN6tpvbUcqanj75Nb',\n",
       "  '/dnsaddr/bootstrap.libp2p.io/ipfs/QmcZf59bWwK5XFi76CZX8cbJ4BhTzzA3gU1ZjYZcYW3dwt',\n",
       "  '/ip4/104.131.131.82/tcp/4001/ipfs/QmaCpDMGvV2BGHeYERUEnRQAwe3N8SzbUtfsmvsqQLuvuJ',\n",
       "  '/ip4/104.236.179.241/tcp/4001/ipfs/QmSoLPppuBtQSGwKDZT2M73ULpjvfd3aZ6ha4oFGL1KrGM',\n",
       "  '/ip4/128.199.219.111/tcp/4001/ipfs/QmSoLSafTMBsPKadTEgaXctDQVcqN88CNLHXMkTNwMKPnu',\n",
       "  '/ip4/104.236.76.40/tcp/4001/ipfs/QmSoLV4Bbm51jM9C4gDYZQ9Cy3U6aXMJDAbzgu2fzaDs64',\n",
       "  '/ip4/178.62.158.247/tcp/4001/ipfs/QmSoLer265NRgSp2LA3dPaeykiS1J6DifTC88f5uVQKNAd',\n",
       "  '/ip6/2604:a880:1:20::203:d001/tcp/4001/ipfs/QmSoLPppuBtQSGwKDZT2M73ULpjvfd3aZ6ha4oFGL1KrGM',\n",
       "  '/ip6/2400:6180:0:d0::151:6001/tcp/4001/ipfs/QmSoLSafTMBsPKadTEgaXctDQVcqN88CNLHXMkTNwMKPnu',\n",
       "  '/ip6/2604:a880:800:10::4a:5001/tcp/4001/ipfs/QmSoLV4Bbm51jM9C4gDYZQ9Cy3U6aXMJDAbzgu2fzaDs64',\n",
       "  '/ip6/2a03:b0c0:0:1010::23:1001/tcp/4001/ipfs/QmSoLer265NRgSp2LA3dPaeykiS1J6DifTC88f5uVQKNAd'],\n",
       " 'Datastore': {'BloomFilterSize': 0,\n",
       "  'GCPeriod': '1h',\n",
       "  'HashOnRead': False,\n",
       "  'Spec': {'mounts': [{'child': {'path': 'blocks',\n",
       "      'shardFunc': '/repo/flatfs/shard/v1/next-to-last/2',\n",
       "      'sync': True,\n",
       "      'type': 'flatfs'},\n",
       "     'mountpoint': '/blocks',\n",
       "     'prefix': 'flatfs.datastore',\n",
       "     'type': 'measure'},\n",
       "    {'child': {'compression': 'none', 'path': 'datastore', 'type': 'levelds'},\n",
       "     'mountpoint': '/',\n",
       "     'prefix': 'leveldb.datastore',\n",
       "     'type': 'measure'}],\n",
       "   'type': 'mount'},\n",
       "  'StorageGCWatermark': 90,\n",
       "  'StorageMax': '10GB'},\n",
       " 'Discovery': {'MDNS': {'Enabled': True, 'Interval': 10}},\n",
       " 'Experimental': {'FilestoreEnabled': False,\n",
       "  'Libp2pStreamMounting': False,\n",
       "  'ShardingEnabled': False},\n",
       " 'Gateway': {'HTTPHeaders': {'Access-Control-Allow-Headers': ['X-Requested-With',\n",
       "    'Range'],\n",
       "   'Access-Control-Allow-Methods': ['GET'],\n",
       "   'Access-Control-Allow-Origin': ['*']},\n",
       "  'PathPrefixes': [],\n",
       "  'RootRedirect': '',\n",
       "  'Writable': False},\n",
       " 'Identity': {'PeerID': 'Qma5efEQtBUxDonmSDajv9dZ52axH9MNULKTgVpXWK8Ak2'},\n",
       " 'Ipns': {'RecordLifetime': '',\n",
       "  'RepublishPeriod': '',\n",
       "  'ResolveCacheSize': 128},\n",
       " 'Mounts': {'FuseAllowOther': False, 'IPFS': '/ipfs', 'IPNS': '/ipns'},\n",
       " 'Reprovider': {'Interval': '12h', 'Strategy': 'all'},\n",
       " 'SupernodeRouting': {'Servers': None},\n",
       " 'Swarm': {'AddrFilters': None,\n",
       "  'DisableBandwidthMetrics': False,\n",
       "  'DisableNatPortMap': False,\n",
       "  'DisableRelay': False,\n",
       "  'EnableRelayHop': False}}"
      ]
     },
     "execution_count": 122,
     "metadata": {},
     "output_type": "execute_result"
    }
   ],
   "source": [
    "api.config_show()"
   ]
  },
  {
   "cell_type": "code",
   "execution_count": 123,
   "metadata": {},
   "outputs": [],
   "source": [
    "# response = api.dht_findpeer('QmcentASrCDVLzdWjjSVEYfN1StxjrJFv9LkaTqqHGF6br')\n",
    "response = api.dht_findpeer('QmXJMbiCqQdFCUjwy63GMUDDKCfEabJRYo2RHPjheCW8mc') # jvm"
   ]
  },
  {
   "cell_type": "code",
   "execution_count": 128,
   "metadata": {},
   "outputs": [
    {
     "data": {
      "text/plain": [
       "[{'Success': True,\n",
       "  'Text': 'Looking up peer Qma5efEQtBUxDonmSDajv9dZ52axH9MNULKTgVpXWK8Ak2',\n",
       "  'Time': 0},\n",
       " {'Success': False,\n",
       "  'Text': 'Peer lookup error: routing: not found',\n",
       "  'Time': 0}]"
      ]
     },
     "execution_count": 128,
     "metadata": {},
     "output_type": "execute_result"
    }
   ],
   "source": [
    "# api.ping('QmcentASrCDVLzdWjjSVEYfN1StxjrJFv9LkaTqqHGF6br') # bobby\n",
    "# api.ping('QmXJMbiCqQdFCUjwy63GMUDDKCfEabJRYo2RHPjheCW8mc') #jvm\n",
    "api.ping('Qma5efEQtBUxDonmSDajv9dZ52axH9MNULKTgVpXWK8Ak2') # me"
   ]
  },
  {
   "cell_type": "code",
   "execution_count": 132,
   "metadata": {},
   "outputs": [
    {
     "data": {
      "text/plain": [
       "True"
      ]
     },
     "execution_count": 132,
     "metadata": {},
     "output_type": "execute_result"
    }
   ],
   "source": [
    "'QmcentASrCDVLzdWjjSVEYfN1StxjrJFv9LkaTqqHGF6br' in api.pubsub_peers()['Strings']"
   ]
  },
  {
   "cell_type": "code",
   "execution_count": 133,
   "metadata": {},
   "outputs": [
    {
     "data": {
      "text/plain": [
       "{'Peers': ['/dnsaddr/bootstrap.libp2p.io/ipfs/QmNnooDu7bfjPFoTZYxMNLWUQJyrVwtbZg5gBMjTezGAJN',\n",
       "  '/dnsaddr/bootstrap.libp2p.io/ipfs/QmQCU2EcMqAqQPR2i9bChDtGNJchTbq5TbXJJ16u19uLTa',\n",
       "  '/dnsaddr/bootstrap.libp2p.io/ipfs/QmbLHAnMoJPWSCR5Zhtx6BHJX9KiKNN6tpvbUcqanj75Nb',\n",
       "  '/dnsaddr/bootstrap.libp2p.io/ipfs/QmcZf59bWwK5XFi76CZX8cbJ4BhTzzA3gU1ZjYZcYW3dwt',\n",
       "  '/ip4/104.131.131.82/tcp/4001/ipfs/QmaCpDMGvV2BGHeYERUEnRQAwe3N8SzbUtfsmvsqQLuvuJ',\n",
       "  '/ip4/104.236.179.241/tcp/4001/ipfs/QmSoLPppuBtQSGwKDZT2M73ULpjvfd3aZ6ha4oFGL1KrGM',\n",
       "  '/ip4/128.199.219.111/tcp/4001/ipfs/QmSoLSafTMBsPKadTEgaXctDQVcqN88CNLHXMkTNwMKPnu',\n",
       "  '/ip4/104.236.76.40/tcp/4001/ipfs/QmSoLV4Bbm51jM9C4gDYZQ9Cy3U6aXMJDAbzgu2fzaDs64',\n",
       "  '/ip4/178.62.158.247/tcp/4001/ipfs/QmSoLer265NRgSp2LA3dPaeykiS1J6DifTC88f5uVQKNAd',\n",
       "  '/ip6/2604:a880:1:20::203:d001/tcp/4001/ipfs/QmSoLPppuBtQSGwKDZT2M73ULpjvfd3aZ6ha4oFGL1KrGM',\n",
       "  '/ip6/2400:6180:0:d0::151:6001/tcp/4001/ipfs/QmSoLSafTMBsPKadTEgaXctDQVcqN88CNLHXMkTNwMKPnu',\n",
       "  '/ip6/2604:a880:800:10::4a:5001/tcp/4001/ipfs/QmSoLV4Bbm51jM9C4gDYZQ9Cy3U6aXMJDAbzgu2fzaDs64',\n",
       "  '/ip6/2a03:b0c0:0:1010::23:1001/tcp/4001/ipfs/QmSoLer265NRgSp2LA3dPaeykiS1J6DifTC88f5uVQKNAd']}"
      ]
     },
     "execution_count": 133,
     "metadata": {},
     "output_type": "execute_result"
    }
   ],
   "source": [
    "api.bootstrap_list()"
   ]
  },
  {
   "cell_type": "code",
   "execution_count": null,
   "metadata": {
    "collapsed": true
   },
   "outputs": [],
   "source": []
  }
 ],
 "metadata": {
  "kernelspec": {
   "display_name": "Python 3",
   "language": "python",
   "name": "python3"
  },
  "language_info": {
   "codemirror_mode": {
    "name": "ipython",
    "version": 3
   },
   "file_extension": ".py",
   "mimetype": "text/x-python",
   "name": "python",
   "nbconvert_exporter": "python",
   "pygments_lexer": "ipython3",
   "version": "3.6.1"
  }
 },
 "nbformat": 4,
 "nbformat_minor": 2
}
