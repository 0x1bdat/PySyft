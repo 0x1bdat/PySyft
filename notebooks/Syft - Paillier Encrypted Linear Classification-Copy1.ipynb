{
 "cells": [
  {
   "cell_type": "markdown",
   "metadata": {},
   "source": [
    "# Paillier Encrypted Linear Word2vec Example\n",
    "\n",
    "DISCLAIMER: This is a proof-of-concept implementation. It does not represent a remotely product ready implementation or follow proper conventions for security, convenience, or scalability. It is part of a broader proof-of-concept demonstrating the vision of the OpenMined project, its major moving parts, and how they might work together.\n"
   ]
  },
  {
   "cell_type": "code",
   "execution_count": 22,
   "metadata": {
    "collapsed": true
   },
   "outputs": [],
   "source": [
    "from syft.he.Paillier import KeyPair\n",
    "import numpy as np\n",
    "from collections import Counter"
   ]
  },
  {
   "cell_type": "code",
   "execution_count": 2,
   "metadata": {
    "collapsed": true
   },
   "outputs": [],
   "source": [
    "pubkey,prikey = KeyPair().generate(n_length=1024)"
   ]
  },
  {
   "cell_type": "code",
   "execution_count": 4,
   "metadata": {
    "collapsed": true
   },
   "outputs": [],
   "source": [
    "f = open('/Users/amberedmundson/Laboratory/datasets/harryPotter/harryPotterAsciiCleaned.txt')\n",
    "raw = f.readlines()\n",
    "f.close()"
   ]
  },
  {
   "cell_type": "code",
   "execution_count": 43,
   "metadata": {},
   "outputs": [],
   "source": [
    "word2cnt = Counter()\n",
    "\n",
    "sents = list()\n",
    "for line in raw:\n",
    "    sent = list()\n",
    "    for word in line.replace(\"\\'\",\" \\' \").replace(\"\\\"\",\" \\\" \").replace(\".\",\" . \").replace(\"?\",\" ? \").replace(\"!\",\" ! \").split(\" \"):\n",
    "        word2cnt[word] += 1\n",
    "        sent.append(word)\n",
    "        if(word == '.' or word == '?') and len(sent) > 5:\n",
    "            sents.append(sent)\n",
    "            sent = list()\n",
    "    if(len(sent)>5):\n",
    "        sents.append(sent)\n",
    "\n",
    "vocab = set()\n",
    "for word,cnt in word2cnt.most_common()[100:]:\n",
    "    if(cnt > 10):\n",
    "        vocab.add(word)\n",
    "vocab = list(vocab)\n",
    "word2index = {}\n",
    "for i,word in enumerate(vocab):\n",
    "    word2index[word] =i"
   ]
  },
  {
   "cell_type": "code",
   "execution_count": null,
   "metadata": {},
   "outputs": [],
   "source": []
  },
  {
   "cell_type": "code",
   "execution_count": null,
   "metadata": {},
   "outputs": [],
   "source": []
  },
  {
   "cell_type": "code",
   "execution_count": null,
   "metadata": {
    "collapsed": true
   },
   "outputs": [],
   "source": []
  },
  {
   "cell_type": "code",
   "execution_count": 6,
   "metadata": {
    "collapsed": true
   },
   "outputs": [],
   "source": [
    "model = model.decrypt(prikey)"
   ]
  },
  {
   "cell_type": "code",
   "execution_count": 7,
   "metadata": {},
   "outputs": [
    {
     "name": "stdout",
     "output_type": "stream",
     "text": [
      "[0.17156982421875 0.8747100830078125]\n",
      "[0.00225830078125 0.0154266357421875]\n",
      "[1.05718994140625 0.9582366943359375]\n",
      "[0.00225830078125 0.0154266357421875]\n"
     ]
    }
   ],
   "source": [
    "for i in range(len(input)):\n",
    "    print(model.forward(input[i]))"
   ]
  },
  {
   "cell_type": "code",
   "execution_count": null,
   "metadata": {
    "collapsed": true
   },
   "outputs": [],
   "source": []
  },
  {
   "cell_type": "code",
   "execution_count": null,
   "metadata": {
    "collapsed": true
   },
   "outputs": [],
   "source": []
  }
 ],
 "metadata": {
  "kernelspec": {
   "display_name": "Python 3",
   "language": "python",
   "name": "python3"
  },
  "language_info": {
   "codemirror_mode": {
    "name": "ipython",
    "version": 3
   },
   "file_extension": ".py",
   "mimetype": "text/x-python",
   "name": "python",
   "nbconvert_exporter": "python",
   "pygments_lexer": "ipython3",
   "version": "3.6.1"
  }
 },
 "nbformat": 4,
 "nbformat_minor": 2
}
