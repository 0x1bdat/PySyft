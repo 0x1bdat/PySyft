{
 "cells": [
  {
   "cell_type": "code",
   "execution_count": 1,
   "id": "89fc24dc-8898-4b7f-8026-a578f4a6d62a",
   "metadata": {},
   "outputs": [],
   "source": [
    "from syft.grid.client.client import connect\n",
    "from syft.grid.client.grid_connection import GridHTTPConnection\n",
    "from syft.grid.client.client import login, GridClient\n",
    "from syft.core.node.domain.client import DomainClient\n",
    "\n",
    "import syft as sy\n",
    "import torch as th\n",
    "\n",
    "import logging\n",
    "logging.basicConfig()\n",
    "logging.getLogger().setLevel(logging.INFO)"
   ]
  },
  {
   "cell_type": "code",
   "execution_count": 2,
   "id": "09a5d3c0-ef8c-4ba1-be19-440bbc3a54df",
   "metadata": {},
   "outputs": [],
   "source": [
    "usa_domain = GridClient(\n",
    "    url=\"http://grid_usa_node_1/api/v1\",\n",
    "    client_type=DomainClient,\n",
    "    conn_type=GridHTTPConnection\n",
    ")\n",
    "\n",
    "bra_domain = GridClient(\n",
    "    url=\"http://grid_bra_node_1/api/v1\",\n",
    "    client_type=DomainClient,\n",
    "    conn_type=GridHTTPConnection\n",
    ")\n",
    "\n",
    "cnd_domain = GridClient(\n",
    "    url=\"http://grid_cnd_node_1/api/v1\",\n",
    "    client_type=DomainClient,\n",
    "    conn_type=GridHTTPConnection\n",
    ")"
   ]
  },
  {
   "cell_type": "code",
   "execution_count": 5,
   "id": "446ba351-d719-4cc5-b9da-ff63dadcfe94",
   "metadata": {},
   "outputs": [
    {
     "data": {
      "text/html": [
       "<div>\n",
       "<style scoped>\n",
       "    .dataframe tbody tr th:only-of-type {\n",
       "        vertical-align: middle;\n",
       "    }\n",
       "\n",
       "    .dataframe tbody tr th {\n",
       "        vertical-align: top;\n",
       "    }\n",
       "\n",
       "    .dataframe thead th {\n",
       "        text-align: right;\n",
       "    }\n",
       "</style>\n",
       "<table border=\"1\" class=\"dataframe\">\n",
       "  <thead>\n",
       "    <tr style=\"text-align: right;\">\n",
       "      <th></th>\n",
       "      <th>id</th>\n",
       "      <th>email</th>\n",
       "      <th>private_key</th>\n",
       "      <th>verify_key</th>\n",
       "      <th>role</th>\n",
       "      <th>groups</th>\n",
       "    </tr>\n",
       "  </thead>\n",
       "  <tbody>\n",
       "    <tr>\n",
       "      <th>0</th>\n",
       "      <td>1</td>\n",
       "      <td>test</td>\n",
       "      <td>00f88a38e984c7b9385484869871ef418bc537a5a7fd47...</td>\n",
       "      <td>7d7db6345e7f7eeb14a45583cf6d559e0d061d80d8df5e...</td>\n",
       "      <td>4</td>\n",
       "      <td>[]</td>\n",
       "    </tr>\n",
       "  </tbody>\n",
       "</table>\n",
       "</div>"
      ],
      "text/plain": [
       "   id email                                        private_key  \\\n",
       "0   1  test  00f88a38e984c7b9385484869871ef418bc537a5a7fd47...   \n",
       "\n",
       "                                          verify_key  role groups  \n",
       "0  7d7db6345e7f7eeb14a45583cf6d559e0d061d80d8df5e...     4     []  "
      ]
     },
     "execution_count": 5,
     "metadata": {},
     "output_type": "execute_result"
    }
   ],
   "source": [
    "cnd_domain.users.all(pandas=True)"
   ]
  },
  {
   "cell_type": "code",
   "execution_count": null,
   "id": "20b8539c-54dd-44dd-aac3-8deaa97c47a1",
   "metadata": {},
   "outputs": [],
   "source": []
  },
  {
   "cell_type": "code",
   "execution_count": 19,
   "id": "36f3e70c-a6f7-4a79-a33d-510ba41ebf46",
   "metadata": {},
   "outputs": [
    {
     "name": "stderr",
     "output_type": "stream",
     "text": [
      "INFO:root:No token provided... trying PyGrid Default (THIS IS NOT SAFE!!!): 9G9MJ06OQH\n",
      "INFO:root:{'message': 'Running initial setup!'}\n"
     ]
    }
   ],
   "source": [
    "usa_domain.setup(email=\"test\", password=\"tst_pwd\", domain_name=\"Test Node\")"
   ]
  },
  {
   "cell_type": "code",
   "execution_count": null,
   "id": "f8917f49-6546-406d-9c5a-41cc12a31d1b",
   "metadata": {},
   "outputs": [],
   "source": [
    "domain = login(url=\"http://localhost/api/v1\",email=\"test\", password=\"tst_pwd\")"
   ]
  },
  {
   "cell_type": "code",
   "execution_count": null,
   "id": "0a0c0374-a529-4c48-958c-5ccfde77a3a1",
   "metadata": {},
   "outputs": [],
   "source": [
    "domain.conn.session_token"
   ]
  },
  {
   "cell_type": "code",
   "execution_count": null,
   "id": "ec190375-e68c-4a6f-a219-89465e61f704",
   "metadata": {},
   "outputs": [],
   "source": [
    "domain.users.all(pandas=True)"
   ]
  },
  {
   "cell_type": "code",
   "execution_count": null,
   "id": "805134b5-3c2a-4f62-b891-d615d787529e",
   "metadata": {},
   "outputs": [],
   "source": [
    "domain = sy.login(url=\"http://localhost/api/v1\", email=\"test\", password=\"tst_pwd\")"
   ]
  },
  {
   "cell_type": "code",
   "execution_count": null,
   "id": "0eb2f674-5ef0-476c-8ac7-36082e07b701",
   "metadata": {},
   "outputs": [],
   "source": [
    "domain.conn.session_token"
   ]
  },
  {
   "cell_type": "code",
   "execution_count": 23,
   "id": "7f22b22a-1ebe-4be1-9076-304414905d1f",
   "metadata": {},
   "outputs": [],
   "source": [
    "x =  th.tensor([1,2,3,4,5,6,7,8])\n",
    "x_s = x.send(bra_domain,tags=[\"#x-tags\"])"
   ]
  },
  {
   "cell_type": "code",
   "execution_count": 24,
   "id": "7082bf12-17cc-4531-8e26-b1575e6bf911",
   "metadata": {},
   "outputs": [
    {
     "data": {
      "text/html": [
       "<div>\n",
       "<style scoped>\n",
       "    .dataframe tbody tr th:only-of-type {\n",
       "        vertical-align: middle;\n",
       "    }\n",
       "\n",
       "    .dataframe tbody tr th {\n",
       "        vertical-align: top;\n",
       "    }\n",
       "\n",
       "    .dataframe thead th {\n",
       "        text-align: right;\n",
       "    }\n",
       "</style>\n",
       "<table border=\"1\" class=\"dataframe\">\n",
       "  <thead>\n",
       "    <tr style=\"text-align: right;\">\n",
       "      <th></th>\n",
       "      <th>ID</th>\n",
       "      <th>Tags</th>\n",
       "      <th>Description</th>\n",
       "      <th>object_type</th>\n",
       "    </tr>\n",
       "  </thead>\n",
       "  <tbody>\n",
       "    <tr>\n",
       "      <th>0</th>\n",
       "      <td>&lt;UID: 5e72a56dfdd347dd93b7370bd485879f&gt;</td>\n",
       "      <td>[#x-tags]</td>\n",
       "      <td></td>\n",
       "      <td>&lt;class 'torch.Tensor'&gt;</td>\n",
       "    </tr>\n",
       "  </tbody>\n",
       "</table>\n",
       "</div>"
      ],
      "text/plain": [
       "                                        ID       Tags Description  \\\n",
       "0  <UID: 5e72a56dfdd347dd93b7370bd485879f>  [#x-tags]               \n",
       "\n",
       "              object_type  \n",
       "0  <class 'torch.Tensor'>  "
      ]
     },
     "execution_count": 24,
     "metadata": {},
     "output_type": "execute_result"
    }
   ],
   "source": [
    "cnd_domain.store.pandas"
   ]
  },
  {
   "cell_type": "code",
   "execution_count": null,
   "id": "05c89f72-971d-4f95-8557-76d7c09e1d03",
   "metadata": {},
   "outputs": [],
   "source": [
    "domain.store.pandas"
   ]
  },
  {
   "cell_type": "code",
   "execution_count": null,
   "id": "1b04fe65-f547-4b7f-bb32-7848f9a28092",
   "metadata": {},
   "outputs": [],
   "source": [
    "y_s = x_s + x_s"
   ]
  },
  {
   "cell_type": "code",
   "execution_count": null,
   "id": "b6cd3753-db6f-432b-aef6-8df22d33d3d6",
   "metadata": {},
   "outputs": [],
   "source": [
    "y_s.get()"
   ]
  },
  {
   "cell_type": "code",
   "execution_count": null,
   "id": "f8b6fec0-bef1-4352-8fb8-191e359ca778",
   "metadata": {},
   "outputs": [],
   "source": [
    "x_s.get()"
   ]
  },
  {
   "cell_type": "code",
   "execution_count": null,
   "id": "f15d363e-0356-4811-81a4-8edc98bad914",
   "metadata": {},
   "outputs": [],
   "source": [
    "x = domain.users.create(email=\"testing\", password=\"tst_pwd\")"
   ]
  },
  {
   "cell_type": "code",
   "execution_count": null,
   "id": "41ad1684-a6e7-4b8c-8af8-c35697129864",
   "metadata": {},
   "outputs": [],
   "source": [
    "domain.users.all(pandas=True)"
   ]
  },
  {
   "cell_type": "code",
   "execution_count": null,
   "id": "ea69bb9e-0385-4dca-9654-fc9b6ccd3801",
   "metadata": {},
   "outputs": [],
   "source": [
    "domain = sy.login(url=\"http://localhost/api/v1\", email=\"testing\", password=\"tst_pwd\")"
   ]
  }
 ],
 "metadata": {
  "kernelspec": {
   "display_name": "Python 3",
   "language": "python",
   "name": "python3"
  },
  "language_info": {
   "codemirror_mode": {
    "name": "ipython",
    "version": 3
   },
   "file_extension": ".py",
   "mimetype": "text/x-python",
   "name": "python",
   "nbconvert_exporter": "python",
   "pygments_lexer": "ipython3",
   "version": "3.7.9"
  }
 },
 "nbformat": 4,
 "nbformat_minor": 5
}
