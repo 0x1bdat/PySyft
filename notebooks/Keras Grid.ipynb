{
 "cells": [
  {
   "cell_type": "code",
   "execution_count": 1,
   "metadata": {},
   "outputs": [
    {
     "name": "stderr",
     "output_type": "stream",
     "text": [
      "/Users/bendecoste/anaconda3/lib/python3.6/site-packages/IPython/html.py:14: ShimWarning: The `IPython.html` package has been deprecated since IPython 4.0. You should import from `notebook` instead. `IPython.html.widgets` has moved to `ipywidgets`.\n",
      "  \"`IPython.html.widgets` has moved to `ipywidgets`.\", ShimWarning)\n",
      "Using TensorFlow backend.\n"
     ]
    },
    {
     "name": "stdout",
     "output_type": "stream",
     "text": [
      "{\"Name\":\"experiment\",\"Hash\":\"QmVrah2jZ9ptZUHi6NcToa9kdsWyMP6AMrzTAtoHzR67xc\",\"Size\":\"340\"}\n",
      "\n"
     ]
    }
   ],
   "source": [
    "from syft import grid\n",
    "\n",
    "from keras.models import Sequential\n",
    "from keras.layers import Dense\n",
    "\n",
    "import numpy as np\n",
    "\n",
    "model1 = Sequential()\n",
    "model1.add(Dense(units=164, activation='relu', input_dim=100))\n",
    "model1.add(Dense(units=10, activation='softmax'))\n",
    "\n",
    "model2 = Sequential()\n",
    "model2.add(Dense(units=16421, activation='relu', input_dim=100))\n",
    "model2.add(Dense(units=101, activation='softmax'))\n",
    "\n",
    "\n",
    "model1.compile(loss='categorical_crossentropy',\n",
    "              optimizer='sgd',\n",
    "              metrics=['accuracy'])\n",
    "\n",
    "model2.compile(loss='categorical_crossentropy',\n",
    "              optimizer='sgd',\n",
    "              metrics=['accuracy'])\n",
    "\n",
    "g = grid.grid.Grid()\n",
    "\n",
    "config1 = g.configuration(model1, epochs=10, batch_size=32)\n",
    "config2 = g.configuration(model2, epochs=10, batch_size=32)\n",
    "config3 = g.configuration(model1, epochs=100, batch_size=32)\n",
    "config4 = g.configuration(model1, epochs=1000, batch_size=32)\n",
    "\n",
    "g.fit(np.array([[0,0,1],[1,0,1],[1,1,1],[0,1,1]]), np.array([[0],[0],[1],[1]]), [config1, config2, config3, config4], name=\"example\")"
   ]
  },
  {
   "cell_type": "code",
   "execution_count": 2,
   "metadata": {},
   "outputs": [
    {
     "name": "stdout",
     "output_type": "stream",
     "text": [
      "_________________________________________________________________\n",
      "Layer (type)                 Output Shape              Param #   \n",
      "=================================================================\n",
      "dense_1 (Dense)              (None, 64)                6464      \n",
      "_________________________________________________________________\n",
      "dense_2 (Dense)              (None, 10)                650       \n",
      "=================================================================\n",
      "Total params: 7,114\n",
      "Trainable params: 7,114\n",
      "Non-trainable params: 0\n",
      "_________________________________________________________________\n"
     ]
    }
   ],
   "source": [
    "from keras.models import load_model\n",
    "model = load_model('QmZQHDyM7eCLuvpTmwTmG6UNuckrzTBZyt2FMRWHS1pPwk')\n",
    "model.summary()"
   ]
  },
  {
   "cell_type": "code",
   "execution_count": 3,
   "metadata": {
    "collapsed": true
   },
   "outputs": [],
   "source": []
  },
  {
   "cell_type": "code",
   "execution_count": 4,
   "metadata": {
    "collapsed": true
   },
   "outputs": [],
   "source": []
  },
  {
   "cell_type": "code",
   "execution_count": 6,
   "metadata": {},
   "outputs": [
    {
     "name": "stdout",
     "output_type": "stream",
     "text": [
      "here is a config <syft.grid.grid.GridConfiguration object at 0x10ab429b0>\n"
     ]
    }
   ],
   "source": [
    "g.fit([[0,0,1],[1,0,1],[1,1,1],[0,1,1]], [[0],[0],[1],[1]], [config], name=\"example\")"
   ]
  },
  {
   "cell_type": "code",
   "execution_count": null,
   "metadata": {
    "collapsed": true
   },
   "outputs": [],
   "source": []
  }
 ],
 "metadata": {
  "kernelspec": {
   "display_name": "Python 3",
   "language": "python",
   "name": "python3"
  },
  "language_info": {
   "codemirror_mode": {
    "name": "ipython",
    "version": 3
   },
   "file_extension": ".py",
   "mimetype": "text/x-python",
   "name": "python",
   "nbconvert_exporter": "python",
   "pygments_lexer": "ipython3",
   "version": "3.6.3"
  }
 },
 "nbformat": 4,
 "nbformat_minor": 2
}
