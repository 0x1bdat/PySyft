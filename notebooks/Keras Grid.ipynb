{
 "cells": [
  {
   "cell_type": "code",
   "execution_count": null,
   "metadata": {},
   "outputs": [
    {
     "name": "stderr",
     "output_type": "stream",
     "text": [
      "Using TensorFlow backend.\n"
     ]
    }
   ],
   "source": [
    "from grid import GridClient, GridWorker\n",
    "\n",
    "from keras.models import Sequential\n",
    "from keras.layers import Dense\n",
    "\n",
    "import numpy as np\n",
    "\n",
    "model1 = Sequential()\n",
    "model1.add(Dense(units=164, activation='relu', input_dim=100))\n",
    "model1.add(Dense(units=10, activation='softmax'))\n",
    "\n",
    "model2 = Sequential()\n",
    "model2.add(Dense(units=16421, activation='relu', input_dim=100))\n",
    "model2.add(Dense(units=101, activation='softmax'))\n",
    "\n",
    "\n",
    "model1.compile(loss='categorical_crossentropy',\n",
    "              optimizer='sgd',\n",
    "              metrics=['accuracy'])\n",
    "\n",
    "model2.compile(loss='categorical_crossentropy',\n",
    "              optimizer='sgd',\n",
    "              metrics=['accuracy'])\n",
    "\n",
    "g = GridClient()\n",
    "\n",
    "config1 = g.configuration(model1, epochs=10, batch_size=32)\n",
    "config2 = g.configuration(model2, epochs=10, batch_size=32)\n",
    "config3 = g.configuration(model1, epochs=100, batch_size=32)\n",
    "config4 = g.configuration(model1, epochs=1000, batch_size=32)\n",
    "\n",
    "g.fit(np.array([[0,0,1],[1,0,1],[1,1,1],[0,1,1]]), np.array([[0],[0],[1],[1]]), [config1, config2, config3, config4], name=\"example\")"
   ]
  },
  {
   "cell_type": "code",
   "execution_count": 1,
   "metadata": {},
   "outputs": [
    {
     "name": "stderr",
     "output_type": "stream",
     "text": [
      "Using TensorFlow backend.\n"
     ]
    },
    {
     "name": "stdout",
     "output_type": "stream",
     "text": [
      "got resp {'model': 'QmNvHpmB2kouLy4f4yrB5ViZziqK4NBhhiAdtYZVXzKJTu', 'epochs': 10, 'batch_size': 32, 'input': 'Qmav98cw7XLZ3C2pxCJy624F3chHyHkKtAjTfaSRnHtASo', 'target': 'QmdH4R1FiSuCJyiW8ANu3edACptEuJjEKv98yP3iDZyp22'}\n",
      "wow [[0 0 1]\n",
      " [1 0 1]\n",
      " [1 1 1]\n",
      " [0 1 1]]\n"
     ]
    }
   ],
   "source": [
    "from grid import GridWorker\n",
    "\n",
    "w = GridWorker()\n",
    "w.run_experiment('QmaUAmE6YZKyHtXqx9hncrs8S31bTfqN9k4MqskoFWBbLM')"
   ]
  },
  {
   "cell_type": "code",
   "execution_count": null,
   "metadata": {
    "collapsed": true
   },
   "outputs": [],
   "source": []
  }
 ],
 "metadata": {
  "kernelspec": {
   "display_name": "Python 3",
   "language": "python",
   "name": "python3"
  },
  "language_info": {
   "codemirror_mode": {
    "name": "ipython",
    "version": 3
   },
   "file_extension": ".py",
   "mimetype": "text/x-python",
   "name": "python",
   "nbconvert_exporter": "python",
   "pygments_lexer": "ipython3",
   "version": "3.6.3"
  }
 },
 "nbformat": 4,
 "nbformat_minor": 2
}
