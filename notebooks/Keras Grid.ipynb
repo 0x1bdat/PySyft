{
 "cells": [
  {
   "cell_type": "code",
   "execution_count": 1,
   "metadata": {},
   "outputs": [
    {
     "name": "stderr",
     "output_type": "stream",
     "text": [
      "Using TensorFlow backend.\n"
     ]
    },
    {
     "name": "stdout",
     "output_type": "stream",
     "text": [
      "x_train shape: (60000, 28, 28, 1)\n",
      "60000 train samples\n",
      "10000 test samples\n",
      "wrote experiment to: {\"Name\":\"experiment\",\"Hash\":\"QmdTqyTM4qivPc1P1Jnsuaaw7ejaSG6SGVnRDZA3ujiggV\",\"Size\":\"68\"}\n",
      "\n",
      "/experiment <Response [200]>\n"
     ]
    }
   ],
   "source": [
    "from grid import GridClient, GridWorker\n",
    "\n",
    "from keras.models import Sequential\n",
    "from keras.layers import Dense\n",
    "\n",
    "import numpy as np\n",
    "\n",
    "\n",
    "## Taken from https://github.com/keras-team/keras/blob/master/examples/mnist_cnn.py\n",
    "\n",
    "import keras\n",
    "from keras.datasets import mnist\n",
    "from keras.models import Sequential\n",
    "from keras.layers import Dense, Dropout, Flatten\n",
    "from keras.layers import Conv2D, MaxPooling2D\n",
    "from keras import backend as K\n",
    "\n",
    "batch_size = 128\n",
    "num_classes = 10\n",
    "epochs = 12\n",
    "\n",
    "# input image dimensions\n",
    "img_rows, img_cols = 28, 28\n",
    "\n",
    "# the data, shuffled and split between train and test sets\n",
    "(x_train, y_train), (x_test, y_test) = mnist.load_data()\n",
    "\n",
    "if K.image_data_format() == 'channels_first':\n",
    "    x_train = x_train.reshape(x_train.shape[0], 1, img_rows, img_cols)\n",
    "    x_test = x_test.reshape(x_test.shape[0], 1, img_rows, img_cols)\n",
    "    input_shape = (1, img_rows, img_cols)\n",
    "else:\n",
    "    x_train = x_train.reshape(x_train.shape[0], img_rows, img_cols, 1)\n",
    "    x_test = x_test.reshape(x_test.shape[0], img_rows, img_cols, 1)\n",
    "    input_shape = (img_rows, img_cols, 1)\n",
    "\n",
    "x_train = x_train.astype('float32')\n",
    "x_test = x_test.astype('float32')\n",
    "x_train /= 255\n",
    "x_test /= 255\n",
    "print('x_train shape:', x_train.shape)\n",
    "print(x_train.shape[0], 'train samples')\n",
    "print(x_test.shape[0], 'test samples')\n",
    "\n",
    "# convert class vectors to binary class matrices\n",
    "y_train = keras.utils.to_categorical(y_train, num_classes)\n",
    "y_test = keras.utils.to_categorical(y_test, num_classes)\n",
    "\n",
    "model = Sequential()\n",
    "model.add(Conv2D(32, kernel_size=(3, 3),\n",
    "                 activation='relu',\n",
    "                 input_shape=input_shape))\n",
    "model.add(Conv2D(64, (3, 3), activation='relu'))\n",
    "model.add(MaxPooling2D(pool_size=(2, 2)))\n",
    "model.add(Dropout(0.25))\n",
    "model.add(Flatten())\n",
    "model.add(Dense(128, activation='relu'))\n",
    "model.add(Dropout(0.5))\n",
    "model.add(Dense(num_classes, activation='softmax'))\n",
    "\n",
    "model.compile(loss=keras.losses.categorical_crossentropy,\n",
    "              optimizer=keras.optimizers.Adadelta(),\n",
    "              metrics=['accuracy'])\n",
    "\n",
    "\n",
    "\n",
    "## Train on Grid\n",
    "g = GridClient()\n",
    "\n",
    "config = g.configuration(model, epochs=12, batch_size=128)\n",
    "\n",
    "g.fit(x_train[:100], y_train[:100], [config], name=\"MNIST\")"
   ]
  },
  {
   "cell_type": "code",
   "execution_count": 1,
   "metadata": {},
   "outputs": [
    {
     "name": "stderr",
     "output_type": "stream",
     "text": [
      "Using TensorFlow backend.\n"
     ]
    },
    {
     "name": "stdout",
     "output_type": "stream",
     "text": [
      "got resp {'model': 'Qma2EgtwbJ36gi91juc3QHkJdmaXUKQSgkVYTYcHvWRuwq', 'epochs': 12, 'batch_size': 128, 'input': 'QmXdS2gVdf5QH1PUWuUAJQqFL76GcTa4uWfrjJfrg5hC29', 'target': 'QmcgPJ2Nt51znwKdG11dfyi7hff5cE6ZL6D7oTdBXy4ErU'}\n",
      "Epoch 1/12\n",
      "10000/10000 [==============================] - 21s 2ms/step - loss: 0.9417 - acc: 0.7126\n",
      "Epoch 2/12\n",
      "10000/10000 [==============================] - 20s 2ms/step - loss: 0.3415 - acc: 0.8979\n",
      "Epoch 3/12\n",
      "10000/10000 [==============================] - 21s 2ms/step - loss: 0.2228 - acc: 0.9349\n",
      "Epoch 4/12\n",
      "10000/10000 [==============================] - 21s 2ms/step - loss: 0.1768 - acc: 0.9480\n",
      "Epoch 5/12\n",
      "10000/10000 [==============================] - 21s 2ms/step - loss: 0.1377 - acc: 0.9596\n",
      "Epoch 6/12\n",
      "10000/10000 [==============================] - 21s 2ms/step - loss: 0.1203 - acc: 0.9664\n",
      "Epoch 7/12\n",
      "10000/10000 [==============================] - 20s 2ms/step - loss: 0.1074 - acc: 0.9679\n",
      "Epoch 8/12\n",
      "10000/10000 [==============================] - 19s 2ms/step - loss: 0.0917 - acc: 0.9729\n",
      "Epoch 9/12\n",
      "10000/10000 [==============================] - 19s 2ms/step - loss: 0.0878 - acc: 0.9749\n",
      "Epoch 10/12\n",
      "10000/10000 [==============================] - 19s 2ms/step - loss: 0.0739 - acc: 0.9780\n",
      "Epoch 11/12\n",
      "10000/10000 [==============================] - 18s 2ms/step - loss: 0.0697 - acc: 0.9792\n",
      "Epoch 12/12\n",
      "10000/10000 [==============================] - 18s 2ms/step - loss: 0.0632 - acc: 0.9803\n"
     ]
    }
   ],
   "source": [
    "from grid import GridWorker\n",
    "\n",
    "w = GridWorker()\n",
    "w.run_experiment('QmfNUaaRbs22NAEjjd4iB6sz3QsYcchXkYqeFnukAiTMnk')"
   ]
  },
  {
   "cell_type": "code",
   "execution_count": null,
   "metadata": {
    "collapsed": true
   },
   "outputs": [],
   "source": []
  }
 ],
 "metadata": {
  "kernelspec": {
   "display_name": "Python 3",
   "language": "python",
   "name": "python3"
  },
  "language_info": {
   "codemirror_mode": {
    "name": "ipython",
    "version": 3
   },
   "file_extension": ".py",
   "mimetype": "text/x-python",
   "name": "python",
   "nbconvert_exporter": "python",
   "pygments_lexer": "ipython3",
   "version": "3.6.3"
  }
 },
 "nbformat": 4,
 "nbformat_minor": 2
}
