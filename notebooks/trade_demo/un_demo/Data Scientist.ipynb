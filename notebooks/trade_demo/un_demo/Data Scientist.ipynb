{
 "cells": [
  {
   "cell_type": "markdown",
   "id": "390e57f3",
   "metadata": {},
   "source": [
    "### Trade Demo\n",
    "\n",
    "#### Goals:\n",
    "- Login to the Canada domain.\n",
    "- Select the dataset.\n",
    "- Cacluate the sum of total of good imported and exported to Egypt.\n",
    "- Request for the sum\n",
    "- Download the results"
   ]
  },
  {
   "cell_type": "markdown",
   "id": "61b3dd4a",
   "metadata": {},
   "source": [
    "### Step 1: Login into the Canada domain"
   ]
  },
  {
   "cell_type": "code",
   "execution_count": 1,
   "id": "dbcce57a",
   "metadata": {},
   "outputs": [
    {
     "name": "stdout",
     "output_type": "stream",
     "text": [
      "Connecting to http://localhost:8081... done! \t Logging into canada... done!\n"
     ]
    }
   ],
   "source": [
    "# As a Data Scientist we want to perform some analysis on the trade dataset available on the Canada domain.\n",
    "# Our goal is to calculate the sum total of the goods imported (imports + re-imports) \n",
    "# and exported (exports + re-exports) to Egypt.\n",
    "\n",
    "import syft as sy\n",
    "\n",
    "# Let's login into the canada domain\n",
    "canada_domain_node = sy.login(email=\"sheldon@caltech.edu\", password=\"bazinga\", port=8081)"
   ]
  },
  {
   "cell_type": "markdown",
   "id": "72d92c1b",
   "metadata": {},
   "source": [
    "### Step 2: Select the dataset"
   ]
  },
  {
   "cell_type": "code",
   "execution_count": 7,
   "id": "66714cf0",
   "metadata": {},
   "outputs": [
    {
     "data": {
      "text/plain": [
       "[{'id': b'\\n\\x16syft.lib.python.String\\x12<\\n$1192bcd5-e7dc-4312-9fff-8f3b5c06c3ae\\x12\\x12\\n\\x10\\xea\\xed\\xa1`.^I\\\\\\xa4ZI\\xbd\\xd4\\xcd:\\xef\\x18\\x01',\n",
       "  'manifest': b'\\n\\x16syft.lib.python.String\\x12\\x16\\x12\\x12\\n\\x10\\x8a\\xc4\\xc4{S\\xf3Jb\\xa6JC\\x06\\xa8X\\xdfu\\x18\\x01',\n",
       "  'name': b'\\n\\x16syft.lib.python.String\\x12)\\n\\x11Canada Trade Data\\x12\\x12\\n\\x10\\xb7\\x1c\\x81\\x05\\xf0\\xfdC\\xcb\\x87\\x99\\xf1.\\xa8\\xe6\\x94\\x8e\\x18\\x01',\n",
       "  'description': b\"\\n\\x16syft.lib.python.String\\x12\\xab\\x01\\n\\x92\\x01A collection of reports from Canada's statistics \\n                    bureau about how much it thinks it imports and exports from other countries.\\x12\\x12\\n\\x10\\x9b\\xa3V>MUK\\x1a\\xa9G\\x1cv\\xeb\\x8c\\x04<\\x18\\x01\",\n",
       "  'str_metadata': b'\\n\\x14syft.lib.python.Dict\\x12\\x99\\x01\\nQ\\n\\x16syft.lib.python.String\\x127\\n!temp_storage_for_actual_primitive\\x12\\x12\\n\\x10i\\xe8\\xe0\\xe7\\xfdXK%\\xb5\\xd9m\\x82X\\x18\\x96\\x9b\\x12.\\n\\x14syft.lib.python.Bool\\x12\\x16\\x08\\x01\\x12\\x12\\n\\x10sj\\xc3pYjDL\\xb4\\x01\\x9d\\xbeA\\x7f+\\x11\\x1a\\x12\\n\\x10f\\x96\\xfb\\x11$$G\\x19\\x90\\xf7?LJR*\\x0e \\x01',\n",
       "  'data': b'\\n\\x19syft.lib.python.list.List\\x12\\xa1\\x04\\n\\x88\\x04\\n\\x14syft.lib.python.Dict\\x12\\xef\\x03\\n4\\n\\x16syft.lib.python.String\\x12\\x1a\\n\\x04name\\x12\\x12\\n\\x10\\x85\\xd7y\\xf1\\x8c\\xdcBT\\x8c\\x16\\x94\\x86\\x85o\\xeb\\xde\\n2\\n\\x16syft.lib.python.String\\x12\\x18\\n\\x02id\\x12\\x12\\n\\x10\\xa8w@\\xb5g\\xc5C`\\x86H\\xcd\\x9az\\xe7\\x99\\x82\\n5\\n\\x16syft.lib.python.String\\x12\\x1b\\n\\x05dtype\\x12\\x12\\n\\x10\\x83+s\\x94\\xd7\\xfdH\\xec\\x94\\x81=\\xfa\\xd1~\\x0f\\x8c\\n5\\n\\x16syft.lib.python.String\\x12\\x1b\\n\\x05shape\\x12\\x12\\n\\x10\\xafi\\xf2\\x90Y\\xf1O\\xa5\\xb2\\x88\\xd40nF1s\\x127\\n\\x16syft.lib.python.String\\x12\\x1d\\n\\x07feb2020\\x12\\x12\\n\\x10\\x16,\\xfd\\x19\\x00\\x10C_\\x8299\\x95\\x93\\x06\\x1c_\\x12T\\n\\x16syft.lib.python.String\\x12:\\n$a523e69c-c36e-427d-9b4f-2a5dcedd91d6\\x12\\x12\\n\\x10\\x94\\xd70\\xc3\\x96\\xd4H\\xc0\\xa7\\xcdD\\xd4e\\\\\\xf64\\x129\\n\\x16syft.lib.python.String\\x12\\x1f\\n\\tDataFrame\\x12\\x12\\n\\x10\\xb8\\x8dVZ.\\xa5J\\x1b\\xa5}7C\\x8c\\xa7~\\xa5\\x127\\n\\x16syft.lib.python.String\\x12\\x1d\\n\\x07(1, 22)\\x12\\x12\\n\\x10\\xf5\\x89\\xd6w\\xd7nE\\xd1\\x99\\xcf\\x85\\\\\\xde\\x84Pa\\x1a\\x12\\n\\x10\\xae}v\\x02~3L\\xc7\\x8f|\\xe6\\xdae\\x99\\xcd\\x84\\x12\\x12\\n\\x10[hH\\xa3\\xc1\\xdbL\\x1f\\x8bi\\x8e\\xe1\\x89i\\x11\\xb4\\x18\\x01',\n",
       "  'blob_metadata': b'\\n\\x14syft.lib.python.Dict\\x12\\x99\\x01\\nQ\\n\\x16syft.lib.python.String\\x127\\n!temp_storage_for_actual_primitive\\x12\\x12\\n\\x101\\\\\\xfbn\\xf4^N\\\\\\xadg%\\xef\\x9e\\xcd\\xe4G\\x12.\\n\\x14syft.lib.python.Bool\\x12\\x16\\x08\\x01\\x12\\x12\\n\\x10V(\\xfc`\\n0M\\xf0\\x88\\xad\\xaaY\\xf2N\\xc7R\\x1a\\x12\\n\\x10\\xcd\\xc0\\xd4\\xffY0I\\xab\\xb5\\xba\\xb4U\\xd8\\xfe\\x16\\xbe \\x01',\n",
       "  'tags': b'\\n\\x19syft.lib.python.list.List\\x12\\x16\\x12\\x12\\n\\x10\\xe2\\x14g\\xaf\\x17CK\\xab\\xaa\\xb1\\xc8T\\xf8\\xa3P`\\x18\\x01'},\n",
       " {'blob_metadata': b'\\n\\x14syft.lib.python.Dict\\x12\\x99\\x01\\nQ\\n\\x16syft.lib.python.String\\x127\\n!temp_storage_for_actual_primitive\\x12\\x12\\n\\x10n\\xc8\\x18\\xa4(?D\\xd4\\xbe\\xdf\\x10\\x0e\\x03\\x03T\\t\\x12.\\n\\x14syft.lib.python.Bool\\x12\\x16\\x08\\x01\\x12\\x12\\n\\x10\\x89\\x93>[\\x9cfD\\x06\\x92\\xd0LA\\x08%b\\xb4\\x1a\\x12\\n\\x10\\x8a \\x96\\x19\\xbf\\xdfO8\\x9fA\\xbc\\xe5\\x9f$\\xc0x \\x01',\n",
       "  'str_metadata': b'\\n\\x14syft.lib.python.Dict\\x12\\x99\\x01\\nQ\\n\\x16syft.lib.python.String\\x127\\n!temp_storage_for_actual_primitive\\x12\\x12\\n\\x10\\x83\\x98\\x96\\xfe3\\x1eN\\xf1\\x9e\\x08\\xe8\\xb2\\xb7\\x91>\\xa9\\x12.\\n\\x14syft.lib.python.Bool\\x12\\x16\\x08\\x01\\x12\\x12\\n\\x10\\xbd\\xf5\\x81\\xdd:{E3\\xbaM\\x1eK\\xfe\\xdf\\xb6p\\x1a\\x12\\n\\x10\"O\\xb0j\\xf8\\x08Gg\\xa1\\xa45\\x91\\xaf\"\\xd4\\xce \\x01',\n",
       "  'id': b'\\n\\x16syft.lib.python.String\\x12<\\n$269043c0-9067-4557-9c6a-bfd834f1be2d\\x12\\x12\\n\\x10@\\xbc\\x96\\x02q\\x08H\\xe6\\x98\\xd72\\x19\\xc7e\\x13\\xaf\\x18\\x01',\n",
       "  'description': b\"\\n\\x16syft.lib.python.String\\x12\\xab\\x01\\n\\x92\\x01A collection of reports from Canada's statistics \\n                    bureau about how much it thinks it imports and exports from other countries.\\x12\\x12\\n\\x10\\x07\\xae\\x0f\\xc8\\x90\\xca@\\xc6\\xbf\\x8a\\xe2)\\xc8\\x00\\xf0\\xd0\\x18\\x01\",\n",
       "  'tags': b\"\\n\\x19syft.lib.python.list.List\\x12\\x16\\x12\\x12\\n\\x10Y'Z\\x9a\\xff\\xe1N\\x1a\\x9a\\x9e1\\x06\\xee~`P\\x18\\x01\",\n",
       "  'data': b'\\n\\x19syft.lib.python.list.List\\x12\\xa1\\x04\\n\\x88\\x04\\n\\x14syft.lib.python.Dict\\x12\\xef\\x03\\n4\\n\\x16syft.lib.python.String\\x12\\x1a\\n\\x04name\\x12\\x12\\n\\x10\\xd6\\xed\\xe3#Y-C\\xa5\\xaa\\x17\\x0cCW\\x11\\xa9p\\n2\\n\\x16syft.lib.python.String\\x12\\x18\\n\\x02id\\x12\\x12\\n\\x10\\xd3\\x93J\\xc2b\\xb8J\\xc5\\xb8\\r\\r\\xcc}*\\x84\\xd5\\n5\\n\\x16syft.lib.python.String\\x12\\x1b\\n\\x05dtype\\x12\\x12\\n\\x10\\xe73O\\x97+\\x7fA\\xe3\\x9f\\xce\\xd4\\xc5\\xe2\\xc6W\\x1e\\n5\\n\\x16syft.lib.python.String\\x12\\x1b\\n\\x05shape\\x12\\x12\\n\\x10m\\xab&c\\\\.E\\x86\\xa0\\xe6::\\xc6\\xe1\\x9d\\x8e\\x127\\n\\x16syft.lib.python.String\\x12\\x1d\\n\\x07feb2020\\x12\\x12\\n\\x10\\x90V\\x8f\\x00\\xeaVN\\x02\\xb3@\\xc2i\\xfc$|\\xaf\\x12T\\n\\x16syft.lib.python.String\\x12:\\n$f4956227-4869-4682-9c38-94f6cc664443\\x12\\x12\\n\\x10r\\xc9\\x07\\xbd)\\xc2C6\\x90\\xfb\\x00\\xff\\x9a\\xba\\xd5\\xb2\\x129\\n\\x16syft.lib.python.String\\x12\\x1f\\n\\tDataFrame\\x12\\x12\\n\\x10@\\x8e\\x05<fwD.\\xbfs\\x9c9<\\x07\\x15\\xff\\x127\\n\\x16syft.lib.python.String\\x12\\x1d\\n\\x07(1, 22)\\x12\\x12\\n\\x10\\x0c!\\x89\\xdalLI5\\xa6!\\xcf:\\xfaK\\x87\\x11\\x1a\\x12\\n\\x10b\\xd8g\\x8f\\x1c\\xdbA\\xc4\\x93\\x14\\xc7\\x0b<\\xac,7\\x12\\x12\\n\\x10\\xafA\\xa3\\xc7\\xcf\\x90Dd\\xba\\xc6t\\xcfa!gs\\x18\\x01',\n",
       "  'manifest': b'\\n\\x16syft.lib.python.String\\x12\\x16\\x12\\x12\\n\\x10vm:AD{B\\xc1\\xbeg\\xf9~/\\xed\\xce\\x00\\x18\\x01',\n",
       "  'name': b'\\n\\x16syft.lib.python.String\\x12)\\n\\x11Canada Trade Data\\x12\\x12\\n\\x10t\\xbd\\xfb\\x8b\\xee\\xb6H\\xe4\\xb4/\\x03\\xfb\\xadu\\xbbG\\x18\\x01'},\n",
       " {'blob_metadata': b'\\n\\x14syft.lib.python.Dict\\x12\\x99\\x01\\nQ\\n\\x16syft.lib.python.String\\x127\\n!temp_storage_for_actual_primitive\\x12\\x12\\n\\x10I\\xec\\x86\\xb7\\xaf\\x15J\\x1e\\x81\\xdb\\x1aHa\\xa1\\xb1U\\x12.\\n\\x14syft.lib.python.Bool\\x12\\x16\\x08\\x01\\x12\\x12\\n\\x10\\xfd\\xc7\\xdfF%LE\\xc2\\x97N\\xc6\\n\\x00Z/\\xc0\\x1a\\x12\\n\\x107\\x11_F\\xa5\\xd0N\\xb0\\x9f\\xbe\\xcep\\xe4\\x86J\\x9d \\x01',\n",
       "  'tags': b'\\n\\x19syft.lib.python.list.List\\x12\\x16\\x12\\x12\\n\\x10\\xae\\xd5\\x04\\x0b?lI\\xd7\\x99#s\\\\\\r\\x89-\\x1b\\x18\\x01',\n",
       "  'id': b'\\n\\x16syft.lib.python.String\\x12<\\n$3789e774-b4d5-4902-ad4d-7096acd16f0e\\x12\\x12\\n\\x103\\xc1^\\xd7\\x84\\x83L\\xa5\\xb7\\x05\\xdd_\\\\\\x12\\t\\x8e\\x18\\x01',\n",
       "  'name': b'\\n\\x16syft.lib.python.String\\x12)\\n\\x11Canada Trade Data\\x12\\x12\\n\\x10\\xed\\xac\\x10\\x122\\x11H\\x14\\xaf\\xc3<+\\x997\\xd4\\xd2\\x18\\x01',\n",
       "  'manifest': b'\\n\\x16syft.lib.python.String\\x12\\x16\\x12\\x12\\n\\x10;\\xbby\\xdb\\xa6\\xd2I\\xa1\\xaal\\x9f\\x07\\xb4v\\xfe\\xaa\\x18\\x01',\n",
       "  'str_metadata': b'\\n\\x14syft.lib.python.Dict\\x12\\x99\\x01\\nQ\\n\\x16syft.lib.python.String\\x127\\n!temp_storage_for_actual_primitive\\x12\\x12\\n\\x10\\xd0H\\xddgl_@-\\x99\\x1bD\\xe7w\\xf6\\x0c\\xff\\x12.\\n\\x14syft.lib.python.Bool\\x12\\x16\\x08\\x01\\x12\\x12\\n\\x10\\xc2\\x9c\\xdb\\xfd\\x8epCO\\x89K\\xd2K\\x93\\xcc\\xc2\\xc9\\x1a\\x12\\n\\x10\\xd8\\x80CX\\xc8\\xf5O6\\xbc\\x00\\xa3\\x8b\\x10\\xe9!b \\x01',\n",
       "  'data': b'\\n\\x19syft.lib.python.list.List\\x12\\xa1\\x04\\n\\x88\\x04\\n\\x14syft.lib.python.Dict\\x12\\xef\\x03\\n4\\n\\x16syft.lib.python.String\\x12\\x1a\\n\\x04name\\x12\\x12\\n\\x10Q\\rJfC}N\\xc2\\xb5\\x1e\\xfd\\xd1\\x17r>\\\\\\n2\\n\\x16syft.lib.python.String\\x12\\x18\\n\\x02id\\x12\\x12\\n\\x10U\\xb7~\\xcbm\\x05I\\xf4\\xaa!tVY\\x9a\\xfb\\xad\\n5\\n\\x16syft.lib.python.String\\x12\\x1b\\n\\x05dtype\\x12\\x12\\n\\x10\\xad\\xbe\\xa5\\x02\\xcbwKn\\x9f\\xb5\\x16\\xcb%\\x1bQ\\x97\\n5\\n\\x16syft.lib.python.String\\x12\\x1b\\n\\x05shape\\x12\\x12\\n\\x10\\xc5\\xa8\\x17\\xaa\\xd3\\xb5LM\\x84h\\xe4\\xdb\\x0e\\t\\xe2\\xd9\\x127\\n\\x16syft.lib.python.String\\x12\\x1d\\n\\x07feb2020\\x12\\x12\\n\\x10\\x8a\\xf7\\xb9l\\x00\\x05N\\xe1\\x82\\xfb\\xa9\\xb4\\x91#H^\\x12T\\n\\x16syft.lib.python.String\\x12:\\n$440b9751-6b5f-48f0-869b-965dac2d8d9e\\x12\\x12\\n\\x10\\xdc\\x9a\\x8cc\\x1d\\x80K\\xff\\xb0\\x8c\\x85<\\xb5L_\\x08\\x129\\n\\x16syft.lib.python.String\\x12\\x1f\\n\\tDataFrame\\x12\\x12\\n\\x10S^\\xc8\\x95<\\xebFn\\xaeH5\\xfb\\r~\\xfd\\x7f\\x127\\n\\x16syft.lib.python.String\\x12\\x1d\\n\\x07(1, 22)\\x12\\x12\\n\\x10\\xd8\\xd5\\x1d\\xb0\\x99}@\\xe0\\xa7\\xf5\\xa34\\xbe\\xea\\x82\\xdb\\x1a\\x12\\n\\x10Rd\\xc2\\x92=\\xbcKC\\xb1\\xda\\xda\\r\\n\\xfaLf\\x12\\x12\\n\\x10X(\\xbepV\\xd4AM\\x8b}\\xd8\\x92eZW:\\x18\\x01',\n",
       "  'description': b\"\\n\\x16syft.lib.python.String\\x12\\xab\\x01\\n\\x92\\x01A collection of reports from Canada's statistics \\n                    bureau about how much it thinks it imports and exports from other countries.\\x12\\x12\\n\\x10@\\xd1\\xc9\\x88s\\xefE=\\x97\\x18\\xf5\\x93\\xd2\\xed8\\xd3\\x18\\x01\"},\n",
       " {'description': b\"\\n\\x16syft.lib.python.String\\x12\\xab\\x01\\n\\x92\\x01A collection of reports from Canada's statistics \\n                    bureau about how much it thinks it imports and exports from other countries.\\x12\\x12\\n\\x10o\\xd5\\xde!D\\\\@\\x1d\\x88?\\xa3\\xa1n\\x12\\x08\\xae\\x18\\x01\",\n",
       "  'name': b'\\n\\x16syft.lib.python.String\\x12)\\n\\x11Canada Trade Data\\x12\\x12\\n\\x10\\xcb\\xa7\\x88\\xa5lHO1\\x8eo\\xf4\\xed\\x0b\\xa7Z\\xfc\\x18\\x01',\n",
       "  'tags': b'\\n\\x19syft.lib.python.list.List\\x12\\x16\\x12\\x12\\n\\x10|\\xec(L\\x16\\xa3I\\x05\\x95\\xb2\\x16\\xd0\\xca\\x17\\xa5\\x88\\x18\\x01',\n",
       "  'data': b\"\\n\\x19syft.lib.python.list.List\\x12\\xa3\\x04\\n\\x8a\\x04\\n\\x14syft.lib.python.Dict\\x12\\xf1\\x03\\n4\\n\\x16syft.lib.python.String\\x12\\x1a\\n\\x04name\\x12\\x12\\n\\x10Z\\xaf\\x8bC\\xac\\xe5DM\\xb2AF:\\xe9\\xe75\\x16\\n2\\n\\x16syft.lib.python.String\\x12\\x18\\n\\x02id\\x12\\x12\\n\\x10\\x818V\\x124\\xec@w\\x8b[5\\xb36i\\xcd\\xa9\\n5\\n\\x16syft.lib.python.String\\x12\\x1b\\n\\x05dtype\\x12\\x12\\n\\x10\\xca\\x05s\\xaal\\xaeL\\x7f\\xad\\\\p\\x0f\\xc7^\\x17\\x14\\n5\\n\\x16syft.lib.python.String\\x12\\x1b\\n\\x05shape\\x12\\x12\\n\\x10\\xd5H\\x13A^\\x8cBh\\xb8\\xaeI\\x0b{\\x04\\x98\\xc4\\x127\\n\\x16syft.lib.python.String\\x12\\x1d\\n\\x07feb2020\\x12\\x12\\n\\x10\\x82?\\xcd \\x9f\\xf5AI\\xba\\xe7d\\xbc\\x18\\x83\\x83\\x14\\x12T\\n\\x16syft.lib.python.String\\x12:\\n$e167e117-0926-4f93-b861-df012462f74b\\x12\\x12\\n\\x10.4J\\xca\\xd3\\xd0M \\xb7\\xce\\xdao\\xa2@\\xb3\\xeb\\x129\\n\\x16syft.lib.python.String\\x12\\x1f\\n\\tDataFrame\\x12\\x12\\n\\x10\\x18.\\xa3%]\\x14M$\\x96'>eE*\\xd8\\x98\\x129\\n\\x16syft.lib.python.String\\x12\\x1f\\n\\t(100, 22)\\x12\\x12\\n\\x10_\\xe2Y\\xffTLB\\x82\\x90\\xd02`D\\xd3B\\xd9\\x1a\\x12\\n\\x10}\\xb2yo\\x16\\x92L\\xbe\\x85 \\xbd\\x86d\\xbb\\xef\\xbd\\x12\\x12\\n\\x10\\nN`#\\x9f\\x10I\\x0f\\x8d\\xa5\\xd4\\x19[o\\xdb\\xfb\\x18\\x01\",\n",
       "  'manifest': b'\\n\\x16syft.lib.python.String\\x12\\x16\\x12\\x12\\n\\x10\\xf3\\x06\\x8dO\\t\\xfcBu\\x95\\xc55\\xea\\x8f\\xb1\\x1c\\xc2\\x18\\x01',\n",
       "  'str_metadata': b'\\n\\x14syft.lib.python.Dict\\x12\\x99\\x01\\nQ\\n\\x16syft.lib.python.String\\x127\\n!temp_storage_for_actual_primitive\\x12\\x12\\n\\x10\\xc5\\x9fJ\\x86A\\x8dN\\xa2\\x9e5\\xe0\\xa1\\x03(\\x92/\\x12.\\n\\x14syft.lib.python.Bool\\x12\\x16\\x08\\x01\\x12\\x12\\n\\x10\\xb3\\xf988\\xae\\xedN\\x8f\\x9c\\x0f\\xbf\\n\\xc0COc\\x1a\\x12\\n\\x10\\x18\\x9f\\xf5\\x98=qF0\\x86\\x92\\x98\\xb60!\\x10\\x7f \\x01',\n",
       "  'blob_metadata': b'\\n\\x14syft.lib.python.Dict\\x12\\x99\\x01\\nQ\\n\\x16syft.lib.python.String\\x127\\n!temp_storage_for_actual_primitive\\x12\\x12\\n\\x10\"E-\\x12\\xdf\\xe4E5\\x81\\xc9\\x88\\x8a\\xcd\\xcb\\xd5\\xc8\\x12.\\n\\x14syft.lib.python.Bool\\x12\\x16\\x08\\x01\\x12\\x12\\n\\x10\\x8aE\\x0b$\\xb5\\xeaB\\xe3\\xa6\\x9b\\xad!\\xa2\\x04\\xecQ\\x1a\\x12\\n\\x10\\xbaT\\x9dM\\xc17B\\xed\\xb6\\n(\\xc6\\n\\xd1\\x9d\\x94 \\x01',\n",
       "  'id': b'\\n\\x16syft.lib.python.String\\x12<\\n$cc28df5f-1b4c-4725-9762-2fb60c0740db\\x12\\x12\\n\\x10\\xff\\x84\\xc2}\\xce\\xbcK,\\x9c\\xf38\\x8bC\\x7fH-\\x18\\x01'},\n",
       " {'data': b\"\\n\\x19syft.lib.python.list.List\\x12\\xa2\\x04\\n\\x89\\x04\\n\\x14syft.lib.python.Dict\\x12\\xf0\\x03\\n4\\n\\x16syft.lib.python.String\\x12\\x1a\\n\\x04name\\x12\\x12\\n\\x10v\\xc70\\x15+\\x83Os\\x95\\xc4u\\x16i\\x13\\xf2\\xc9\\n2\\n\\x16syft.lib.python.String\\x12\\x18\\n\\x02id\\x12\\x12\\n\\x10\\xe7P\\x86\\xd9\\xbe\\x80@h\\x8e\\xba\\x97\\xad\\\\`#\\xad\\n5\\n\\x16syft.lib.python.String\\x12\\x1b\\n\\x05dtype\\x12\\x12\\n\\x10S\\xa2y\\xb7\\x85\\xaeC3\\x9a\\xea\\xc9\\xae.b\\xf5M\\n5\\n\\x16syft.lib.python.String\\x12\\x1b\\n\\x05shape\\x12\\x12\\n\\x10\\x86\\xf4\\\\\\xb0\\x92\\x82K\\xcb\\x8d\\x0f\\xc10h\\x1b\\xff<\\x127\\n\\x16syft.lib.python.String\\x12\\x1d\\n\\x07feb2020\\x12\\x12\\n\\x10t>\\xfc\\xb2\\x0b\\x82Hy\\x8b\\x12\\xb4:]\\xed)u\\x12T\\n\\x16syft.lib.python.String\\x12:\\n$4c89473a-f7bf-45db-bf51-63752517355f\\x12\\x12\\n\\x10>j\\xc4\\nq\\xd5A\\xc3\\x9c\\xe8O\\xb1v\\xf3\\xe5<\\x129\\n\\x16syft.lib.python.String\\x12\\x1f\\n\\tDataFrame\\x12\\x12\\n\\x10\\x1b*8.\\xeaMLG\\xb7\\x9e\\xc0\\xaf\\xce\\xe9\\xd9r\\x128\\n\\x16syft.lib.python.String\\x12\\x1e\\n\\x08(100, 6)\\x12\\x12\\n\\x10A\\xba\\x01\\x8a\\x06\\x19Jp\\x99\\xf1Z\\x88[\\xff\\n\\x90\\x1a\\x12\\n\\x10'\\xfd\\x95\\x86\\xf1\\xe3L\\x12\\xa5q$\\x17\\xd8\\xff\\xd6\\x1c\\x12\\x12\\n\\x10\\x00d-\\xab^/G \\xb7\\x03|\\x88\\x1d\\xe0\\x9eU\\x18\\x01\",\n",
       "  'tags': b'\\n\\x19syft.lib.python.list.List\\x12\\x16\\x12\\x12\\n\\x10\\xe4\\xcb\\x17x\\xcc\\xa7K\\xd3\\xa1\\xd3\\x85\\x88\\xfev\\x93\\xe1\\x18\\x01',\n",
       "  'name': b'\\n\\x16syft.lib.python.String\\x12)\\n\\x11Canada Trade Data\\x12\\x12\\n\\x10\\x9c\\x1d\\xac\\xe3\\x8c\\xb1M\\xc7\\xa6\\x840\\x00\\x8c|\\x95\\xb2\\x18\\x01',\n",
       "  'description': b\"\\n\\x16syft.lib.python.String\\x12\\xab\\x01\\n\\x92\\x01A collection of reports from Canada's statistics \\n                    bureau about how much it thinks it imports and exports from other countries.\\x12\\x12\\n\\x10\\xe5\\xedST\\x84rG\\xb1\\xb9W\\xb6\\x10\\xba\\xb1EO\\x18\\x01\",\n",
       "  'id': b'\\n\\x16syft.lib.python.String\\x12<\\n$6a49b4ed-0028-45d1-ad89-52b34350d257\\x12\\x12\\n\\x10%)\\x8d\\xd9\\x86EG\\xa1\\x91\\xfd\\xa4x\\x0ec&{\\x18\\x01',\n",
       "  'blob_metadata': b'\\n\\x14syft.lib.python.Dict\\x12\\x99\\x01\\nQ\\n\\x16syft.lib.python.String\\x127\\n!temp_storage_for_actual_primitive\\x12\\x12\\n\\x10%\\xfc\\x06\\x81-\\xfbO\\xbb\\xafT\\x02\\x87p\\xf3p\\xbe\\x12.\\n\\x14syft.lib.python.Bool\\x12\\x16\\x08\\x01\\x12\\x12\\n\\x10\\xa1I\\x82\\xda\\x14\\xd1@o\\xb3q\\xd0$\\xd6\\xaa\\xaa8\\x1a\\x12\\n\\x10\\x8bS\\xec\\x89aPA\\x8b\\xaePS\\x84g\\x80i\\xd2 \\x01',\n",
       "  'manifest': b'\\n\\x16syft.lib.python.String\\x12\\x16\\x12\\x12\\n\\x10\\x1b\\x1a\\x00\\xfbf\"@\\x04\\xaf\\xf1\\xfb\\x88\\xad\\x90\\xbdK\\x18\\x01',\n",
       "  'str_metadata': b'\\n\\x14syft.lib.python.Dict\\x12\\x99\\x01\\nQ\\n\\x16syft.lib.python.String\\x127\\n!temp_storage_for_actual_primitive\\x12\\x12\\n\\x10\\x046/\\x9e\\x8bYMn\\xaa<\\xb6t\\x04\\xc8\\xce\\x91\\x12.\\n\\x14syft.lib.python.Bool\\x12\\x16\\x08\\x01\\x12\\x12\\n\\x100B,\\x1e\\x0bYF\\xdf\\xa7\\x0f\\x9a\\xc4X\\x1e\\x18W\\x1a\\x12\\n\\x10\\x12\\xa2\\xc8\\xdf\\x0c\"C\\xe6\\xa8\\x85\\x11\\xa5\\x90\\xbd\\xacn \\x01'},\n",
       " {'blob_metadata': b'\\n\\x14syft.lib.python.Dict\\x12\\x99\\x01\\nQ\\n\\x16syft.lib.python.String\\x127\\n!temp_storage_for_actual_primitive\\x12\\x12\\n\\x10\\x8b\\xe2\\xa1\\x10\\xc2\\xbcB\\x14\\x86B\\xa6\\xbaz\\xff,\\r\\x12.\\n\\x14syft.lib.python.Bool\\x12\\x16\\x08\\x01\\x12\\x12\\n\\x10Lb\\xbb<\\x0cwJA\\x98B\\xd4\\x1b\\x0e:@\\xae\\x1a\\x12\\n\\x10i\\xec\\xb8\\xa5\\xd6UM\\xad\\xb6bB\\xb4\\xfe\\xfe\\xeey \\x01',\n",
       "  'name': b'\\n\\x16syft.lib.python.String\\x12;\\n#Canada Trade Data - First 5000 rows\\x12\\x12\\n\\x10\\xad\\x1bJ\\xdc\\x7f}AG\\x96\\x96\\xc9\\x8a0b\\xaa\\x7f\\x18\\x01',\n",
       "  'str_metadata': b'\\n\\x14syft.lib.python.Dict\\x12\\x99\\x01\\nQ\\n\\x16syft.lib.python.String\\x127\\n!temp_storage_for_actual_primitive\\x12\\x12\\n\\x10\\t\\x1f\\x9d\\xd8\\xe5\\x01A\\x10\\xa5\\x8a\\xa3q(j\\x1b\\x00\\x12.\\n\\x14syft.lib.python.Bool\\x12\\x16\\x08\\x01\\x12\\x12\\n\\x108\\xd7\\xd1R\\xfd.A\\x06\\x92v\\x13\\x00A\\xde\\xd1\\xe2\\x1a\\x12\\n\\x10B\\xb7\\x82\\xf8\\xddzA\\x82\\x9c\\x07\\x8e\\x8eZ\\xdb\\x81\\n \\x01',\n",
       "  'manifest': b'\\n\\x16syft.lib.python.String\\x12\\x16\\x12\\x12\\n\\x10\\x9a\\xbar\\xd2\\xb2TA\\x05\\x91>\\xd3a\\xef\\x00\\xce\\x05\\x18\\x01',\n",
       "  'id': b'\\n\\x16syft.lib.python.String\\x12<\\n$524c9e2b-ad10-4e39-a772-dc3e997c526e\\x12\\x12\\n\\x10\\xc2\\x1b\\xcaW\\xc4\\x14A\\xaa\\x9eR~\\xab^R9\\x9d\\x18\\x01',\n",
       "  'data': b'\\n\\x19syft.lib.python.list.List\\x12\\xa4\\x04\\n\\x8b\\x04\\n\\x14syft.lib.python.Dict\\x12\\xf2\\x03\\n4\\n\\x16syft.lib.python.String\\x12\\x1a\\n\\x04name\\x12\\x12\\n\\x10\\xf7Lm\\x1e5\\xd3B\\x86\\xbczh\\xe6\\xaf\\x16\\xae\\xd5\\n2\\n\\x16syft.lib.python.String\\x12\\x18\\n\\x02id\\x12\\x12\\n\\x10\\x1b\\xe7\\x16\\x8a% N5\\x8bd0\\xe8Q]\\xd8B\\n5\\n\\x16syft.lib.python.String\\x12\\x1b\\n\\x05dtype\\x12\\x12\\n\\x10\\xfc\\xacg\\x92\\xa9\\xdbO\\xd1\\xaa>f\\xd2B\\xb8\\\\\\xf7\\n5\\n\\x16syft.lib.python.String\\x12\\x1b\\n\\x05shape\\x12\\x12\\n\\x10\\x14\\xdd\\xfdu\\xb6{D\\xe4\\x9a\\x8b0\\x90\\xba\\xd0x\\x93\\x127\\n\\x16syft.lib.python.String\\x12\\x1d\\n\\x07feb2020\\x12\\x12\\n\\x10-J\\x81F\\x14\\xcbG\\x17\\xb59\\x05\\xbf\\xf7\\xf6UE\\x12T\\n\\x16syft.lib.python.String\\x12:\\n$70313e75-0e29-437e-a735-0f279945d675\\x12\\x12\\n\\x10U\\x8f\\xb8\\xbb\\xcf\\x1fC\\x19\\xb7\\xf7i\\xc6\\xd7@\\xbc\\x9a\\x129\\n\\x16syft.lib.python.String\\x12\\x1f\\n\\tDataFrame\\x12\\x12\\n\\x10\\xe7\\xfb\\x8d\\x05\\x98\\xa9IP\\x8b\\xf7\\xf4<\\xa1\\x12\\x92\\xa2\\x12:\\n\\x16syft.lib.python.String\\x12 \\n\\n(5000, 22)\\x12\\x12\\n\\x10Uf\\x13\\xd4\\xb9\\xacG\\xac\\x90\\x82Sl\\x96V\\x1a\\x96\\x1a\\x12\\n\\x10\\xc8\\xf1\\xf1\\xb5\\x81\\xe4B\\x1e\\xb6`\\xb4\\x19\\xd1l,\\xdc\\x12\\x12\\n\\x10K\\x80*\\x0e*\\xe4K\\xe4\\x8d\\xc6\\xd9\\xfd\\xbbG\\x82\"\\x18\\x01',\n",
       "  'tags': b'\\n\\x19syft.lib.python.list.List\\x12\\x16\\x12\\x12\\n\\x10\\xbc\\xc8\\x1c\\xf8\\x8f>L\\x84\\xabX\\xcb\\x00K\\xd9#\\xb9\\x18\\x01',\n",
       "  'description': b\"\\n\\x16syft.lib.python.String\\x12\\xab\\x01\\n\\x92\\x01A collection of reports from Canada's statistics \\n                    bureau about how much it thinks it imports and exports from other countries.\\x12\\x12\\n\\x10y\\xf9\\xe7\\x18\\x8d\\xe5K\\x11\\x84\\x0f@\\xb68\\xd9@W\\x18\\x01\"},\n",
       " {'description': b\"\\n\\x16syft.lib.python.String\\x12\\xab\\x01\\n\\x92\\x01A collection of reports from Canada's statistics \\n                    bureau about how much it thinks it imports and exports from other countries.\\x12\\x12\\n\\x10\\xf8C%y\\r\\xfeK\\x90\\xa2\\xa9\\xb8$\\x9cqm\\xaa\\x18\\x01\",\n",
       "  'manifest': b'\\n\\x16syft.lib.python.String\\x12\\x16\\x12\\x12\\n\\x108\\xe9d\\xa7\"\\xcdI\\xea\\xad5x\"\\xcas}\\xe4\\x18\\x01',\n",
       "  'id': b'\\n\\x16syft.lib.python.String\\x12<\\n$ff32d492-b3de-4e47-9af9-5377faef0bea\\x12\\x12\\n\\x10\\x9b4[\\xc8\\x83gKu\\x99t\\xaa\\xeb!8\\xc1\\xd9\\x18\\x01',\n",
       "  'str_metadata': b'\\n\\x14syft.lib.python.Dict\\x12\\x99\\x01\\nQ\\n\\x16syft.lib.python.String\\x127\\n!temp_storage_for_actual_primitive\\x12\\x12\\n\\x10\\xb6 2E\\x10oK\\xbf\\x91\\xb6\\xe5&\\xc7\\xd6+}\\x12.\\n\\x14syft.lib.python.Bool\\x12\\x16\\x08\\x01\\x12\\x12\\n\\x10\\xc3\\xc3\\xeeF\\xf4\\xf3F\\xf0\\x96\\xea\\x96K\\x1d:\\xca7\\x1a\\x12\\n\\x10x\\x086t\\xab\\xf8L\\xca\\x9d\\xbfG8YE\\xd4\\xa2 \\x01',\n",
       "  'data': b'\\n\\x19syft.lib.python.list.List\\x12\\xa4\\x04\\n\\x8b\\x04\\n\\x14syft.lib.python.Dict\\x12\\xf2\\x03\\n4\\n\\x16syft.lib.python.String\\x12\\x1a\\n\\x04name\\x12\\x12\\n\\x10 3\\xab\\x82.\\xa6J\\xf5\\x8d\\x17~\\xa0\\x82F\\xb5\\t\\n2\\n\\x16syft.lib.python.String\\x12\\x18\\n\\x02id\\x12\\x12\\n\\x10J\\xe3\\x84\\xcc-\\xd3I\\xe5\\xb7n\\x04;\\xc8o\\x0c;\\n5\\n\\x16syft.lib.python.String\\x12\\x1b\\n\\x05dtype\\x12\\x12\\n\\x10\\xea\\x92\\x84\\xf0\\x9eAC\\xf9\\xa8\\x9a\\xe6\\xcc\\xef\\xc2p7\\n5\\n\\x16syft.lib.python.String\\x12\\x1b\\n\\x05shape\\x12\\x12\\n\\x10a\\xba\\x16\\xae9\\xc4L\\xea\\x8b\\x93\\xc4\\x1e\\x87\\x1c\\xa5X\\x127\\n\\x16syft.lib.python.String\\x12\\x1d\\n\\x07feb2020\\x12\\x12\\n\\x10\\xd1_m$8\\xe7I\\x9b\\x93\\x02j\\x9cyx\\xe2\\xb8\\x12T\\n\\x16syft.lib.python.String\\x12:\\n$f5b07736-5cc2-4e5d-b130-326d39edae46\\x12\\x12\\n\\x10~\\xc5\\xb7\\xf0#\\x13M\\x9d\\x96$i\\xb6\\xa6\"\\xac\\xb8\\x129\\n\\x16syft.lib.python.String\\x12\\x1f\\n\\tDataFrame\\x12\\x12\\n\\x10\\xc6\\x16n\\xf0I\\x81F\\xba\\xbcT\\xa91M\\xcc\\x12\\xeb\\x12:\\n\\x16syft.lib.python.String\\x12 \\n\\n(5000, 22)\\x12\\x12\\n\\x10\\xf3\\x8b\\x0e\\x9d0\\xc6G@\\xa1\\xe8\\xcf+\\xc0kq\\x18\\x1a\\x12\\n\\x10iB\\xd6\\xecU3K\\xc6\\xbd5\\xd7\\xf9hdKs\\x12\\x12\\n\\x10\\xf9|.\\xc0\\x85\\xd6B2\\x92\\xd6\\xed\\xcfn\\n\\x86G\\x18\\x01',\n",
       "  'blob_metadata': b'\\n\\x14syft.lib.python.Dict\\x12\\x99\\x01\\nQ\\n\\x16syft.lib.python.String\\x127\\n!temp_storage_for_actual_primitive\\x12\\x12\\n\\x10\\xcbr\\xef\\xcd@\\x87D\\xff\\x82\\xb1\\x08\\xbb\\xdf\\xfb=\\xcf\\x12.\\n\\x14syft.lib.python.Bool\\x12\\x16\\x08\\x01\\x12\\x12\\n\\x10`\\xed\\x82\\xd8\\xc8\\xc0D\\xfb\\x88X\\xef\\xf3\\x8d\\xc9\\xa7\\xd2\\x1a\\x12\\n\\x10\\xc8f\\x98>\\xb3\\xa7HI\\xa9\\x18\\x8d\\xac\\xd2\\x0c{\\x04 \\x01',\n",
       "  'tags': b'\\n\\x19syft.lib.python.list.List\\x12\\x16\\x12\\x12\\n\\x10\\xf4\\xbc\\xcf\\x9a\\xbd\\x02A\\x9a\\x88\\xc9>\\x86\\xe6\\xf7\\xc6\\xdc\\x18\\x01',\n",
       "  'name': b'\\n\\x16syft.lib.python.String\\x12;\\n#Canada Trade Data - First 5000 rows\\x12\\x12\\n\\x10\\xc7\\xe1\\x11\\xbbm1A\\x8c\\xbf\\xfb\\xf7\\x1a\\xe7\\x16\\x80V\\x18\\x01'},\n",
       " {'name': b'\\n\\x16syft.lib.python.String\\x12;\\n#Canada Trade Data - First 5000 rows\\x12\\x12\\n\\x102d\\x10a;\\xb5D\\xde\\xbe\\xadW\\xb1)\\x87\\x13v\\x18\\x01',\n",
       "  'blob_metadata': b\"\\n\\x14syft.lib.python.Dict\\x12\\x99\\x01\\nQ\\n\\x16syft.lib.python.String\\x127\\n!temp_storage_for_actual_primitive\\x12\\x12\\n\\x10\\x14\\xbb>\\xcc\\x143I\\xd9\\x9fc\\x01q\\xbb\\x81R\\x93\\x12.\\n\\x14syft.lib.python.Bool\\x12\\x16\\x08\\x01\\x12\\x12\\n\\x10\\xf41\\x95\\xd4O\\x9aAb\\xafo\\xc6'\\xa8\\xecM[\\x1a\\x12\\n\\x10l\\xd6\\xdc\\x8ej\\x00M\\xa0\\x8f\\xb6\\x0e\\xb8V\\xbf\\xd0\\xac \\x01\",\n",
       "  'description': b\"\\n\\x16syft.lib.python.String\\x12\\xab\\x01\\n\\x92\\x01A collection of reports from Canada's statistics \\n                    bureau about how much it thinks it imports and exports from other countries.\\x12\\x12\\n\\x10\\xfa\\x9c\\xceV\\x11\\xbbG\\x83\\x892\\x80H\\xd4x\\x95\\xf6\\x18\\x01\",\n",
       "  'str_metadata': b'\\n\\x14syft.lib.python.Dict\\x12\\x99\\x01\\nQ\\n\\x16syft.lib.python.String\\x127\\n!temp_storage_for_actual_primitive\\x12\\x12\\n\\x10\\xd1\\xf6\\x97\\x06\\x9f\\xedA\\xa2\\x8c\\x85J\\xef\\xd1\\xb5p\\\\\\x12.\\n\\x14syft.lib.python.Bool\\x12\\x16\\x08\\x01\\x12\\x12\\n\\x10\\xf9\\xef?P\\x9b\\x0fN\\xbf\\x9d\\xf5\\xfd\\xbe\\xcc\\r\\xbb\\xd8\\x1a\\x12\\n\\x10\\xa7\\xbfo\\xdf\\xa3dA%\\xa0\\xcf?\\x82q\\x86\\x1c\\xa4 \\x01',\n",
       "  'id': b'\\n\\x16syft.lib.python.String\\x12<\\n$75bf69bc-1c57-4070-8378-651146e93580\\x12\\x12\\n\\x10\\xb6\\xd79\\xf9\\xfd\\xe9CB\\xba\\xa3\\x10\\x84\\xfe\\xf4\\x07\\x18\\x18\\x01',\n",
       "  'data': b\"\\n\\x19syft.lib.python.list.List\\x12\\xa4\\x04\\n\\x8b\\x04\\n\\x14syft.lib.python.Dict\\x12\\xf2\\x03\\n4\\n\\x16syft.lib.python.String\\x12\\x1a\\n\\x04name\\x12\\x12\\n\\x10yRy\\xad1=D\\xf0\\x85\\xc4J\\xf7/\\xbcb\\xae\\n2\\n\\x16syft.lib.python.String\\x12\\x18\\n\\x02id\\x12\\x12\\n\\x10\\xaeoA\\x01jWH\\x11\\xb0\\x942t~\\x10\\xd5_\\n5\\n\\x16syft.lib.python.String\\x12\\x1b\\n\\x05dtype\\x12\\x12\\n\\x10\\xea\\x18:\\xe7%uGU\\xb7\\x0f\\xa7\\x95\\x95\\x02F\\xed\\n5\\n\\x16syft.lib.python.String\\x12\\x1b\\n\\x05shape\\x12\\x12\\n\\x10\\x92\\x0bO\\xeeZ\\x0bJ~\\x99\\xad`\\xdb\\x18\\xfe=\\x92\\x127\\n\\x16syft.lib.python.String\\x12\\x1d\\n\\x07feb2020\\x12\\x12\\n\\x10\\xb4\\xf5{\\xc8\\x95DO{\\x99\\x85\\xc6\\xb6\\xa3\\xb3@\\x11\\x12T\\n\\x16syft.lib.python.String\\x12:\\n$1838e963-8eaa-443e-bd0c-c7a66996a504\\x12\\x12\\n\\x10\\xc2oe\\xb5\\x81IK\\x1a\\x92Y2]\\xaa \\xce\\xac\\x129\\n\\x16syft.lib.python.String\\x12\\x1f\\n\\tDataFrame\\x12\\x12\\n\\x109\\xc8[\\x90\\xb3\\x8fH\\x13\\xa9\\xd9\\x0f\\xad\\xf2\\rS$\\x12:\\n\\x16syft.lib.python.String\\x12 \\n\\n(5000, 22)\\x12\\x12\\n\\x10D'\\x9d\\xcb\\xd9\\x9eJ\\xd3\\x9f\\x865\\xbcQ\\xd6\\x0f\\xe2\\x1a\\x12\\n\\x10e\\x8c4\\x06E\\x0eH2\\xbb\\x80.\\x02\\x182\\x1f\\x9b\\x12\\x12\\n\\x10\\xcem\\xa6\\xc7\\xc5\\xedD\\x04\\x85m\\xad\\x7f\\x8fiv\\xd4\\x18\\x01\",\n",
       "  'tags': b'\\n\\x19syft.lib.python.list.List\\x12\\x16\\x12\\x12\\n\\x10}kd\\xee\\xf2\\x8bA\\x92\\x84\\x13\\x9e;\\n?\\x1c\\xeb\\x18\\x01',\n",
       "  'manifest': b'\\n\\x16syft.lib.python.String\\x12\\x16\\x12\\x12\\n\\x10\\x86)p\\x1f\\xf3\\x87J<\\xa3Z,{s\\xf4x\\x80\\x18\\x01'},\n",
       " {'str_metadata': b'\\n\\x14syft.lib.python.Dict\\x12\\x99\\x01\\nQ\\n\\x16syft.lib.python.String\\x127\\n!temp_storage_for_actual_primitive\\x12\\x12\\n\\x10\\x03\\xf6\\x86+\\x85iMz\\x9c\\xc5[\\xea\\x8f\\x87\\x9f&\\x12.\\n\\x14syft.lib.python.Bool\\x12\\x16\\x08\\x01\\x12\\x12\\n\\x102\\x08\\xbc\\x9b}\\x0eK\\x9e\\x9cb\\x1d&\\xe7\\xf3\\xe5\\xf5\\x1a\\x12\\n\\x10\\xa5\\x0e\\x0f\\x04\\x9e\\xe9N\\xad\\xa1\\xe5V%o0\\xc2\\xf9 \\x01',\n",
       "  'manifest': b'\\n\\x16syft.lib.python.String\\x12\\x16\\x12\\x12\\n\\x10&)C\\xfb\\xd8G@\\x9a\\x9f\\x85\\x8e\\x01\\x0b\\xaf\\x1cs\\x18\\x01',\n",
       "  'description': b\"\\n\\x16syft.lib.python.String\\x12\\xab\\x01\\n\\x92\\x01A collection of reports from Canada's statistics \\n                    bureau about how much it thinks it imports and exports from other countries.\\x12\\x12\\n\\x10\\x15O\\x19m\\x1a\\xc2I\\xa7\\xac\\x85\\xf9(Y\\x9ak@\\x18\\x01\",\n",
       "  'data': b'\\n\\x19syft.lib.python.list.List\\x12\\xa5\\x04\\n\\x8c\\x04\\n\\x14syft.lib.python.Dict\\x12\\xf3\\x03\\n4\\n\\x16syft.lib.python.String\\x12\\x1a\\n\\x04name\\x12\\x12\\n\\x10<>\\xd9\\x05\\xf8\\xa4G\\x1c\\xaf\\xab\\x8a\\x14\\x9e\\xf8A\\xde\\n2\\n\\x16syft.lib.python.String\\x12\\x18\\n\\x02id\\x12\\x12\\n\\x10/\\x89\\xc6c\\xd1n@\\x95\\x86_\\x9aJ\\xe1\\x92\\xa1\\xc0\\n5\\n\\x16syft.lib.python.String\\x12\\x1b\\n\\x05dtype\\x12\\x12\\n\\x10p\\xd3\\xa6\\xc2k\\xd0O\\xd8\\x8f\\xcbZ;\\xa4\\x86\\xc3\\x86\\n5\\n\\x16syft.lib.python.String\\x12\\x1b\\n\\x05shape\\x12\\x12\\n\\x10\\nHg\\xb0\\x13\\xfaMf\\xb9,\\x17\\xff\\xc7\\xb3c@\\x127\\n\\x16syft.lib.python.String\\x12\\x1d\\n\\x07feb2020\\x12\\x12\\n\\x10\\x82\\t\\xbb\\xa7\"eC\\x9b\\xac\\x08\\xa5\\xd8\\xa7\\xd9L\\xbe\\x12T\\n\\x16syft.lib.python.String\\x12:\\n$bd94c0dc-52b7-43fb-81a7-995495cddbd5\\x12\\x12\\n\\x10\\xcbH\\x90r\\xf4\\x92F\\x99\\x962TN9\\xc4F\\xc3\\x129\\n\\x16syft.lib.python.String\\x12\\x1f\\n\\tDataFrame\\x12\\x12\\n\\x10B\\xea\\xd2\\xc9H\\x90G`\\xb5i/E\\xf9\\xc5\\xd3\\x04\\x12;\\n\\x16syft.lib.python.String\\x12!\\n\\x0b(10000, 22)\\x12\\x12\\n\\x10,\\xf8\\xb6;<\\xcfO%\\xb0\\r\\xf1\\x97\\xd7\\xeb2\\x04\\x1a\\x12\\n\\x10\\xd9X\\x14\\x86K\\xddN\\xe7\\xa4&\\x80F!n\\xcd\\x05\\x12\\x12\\n\\x10\\x13\\x89*\\xb2<\\xbaC\\xda\\x87\\x0c\\xd1\\x8d\\x0c\\xa01\\xbe\\x18\\x01',\n",
       "  'name': b'\\n\\x16syft.lib.python.String\\x12<\\n$Canada Trade Data - First 10000 rows\\x12\\x12\\n\\x10_\\xe4\\xfd\\x87\\xa1\\x1cO7\\xb1h\\x127\\xc3v\\xb4\\xce\\x18\\x01',\n",
       "  'blob_metadata': b'\\n\\x14syft.lib.python.Dict\\x12\\x99\\x01\\nQ\\n\\x16syft.lib.python.String\\x127\\n!temp_storage_for_actual_primitive\\x12\\x12\\n\\x10\\xde7\\xa8\\x8d\\x114N\\xc0\\xb9iHS\\xe5\\x8c9\\xe9\\x12.\\n\\x14syft.lib.python.Bool\\x12\\x16\\x08\\x01\\x12\\x12\\n\\x10\\xdf\\xb1\\x1e\\xb0\\x80`E\\xa9\\x87z\\xee\\xaba\\x85~\\xbb\\x1a\\x12\\n\\x10\\x9b\\xb4\\xc2{\\xa8\\xe5A\\xa7\\x8e1\\xc2\\xae\\xd9\\x89\\x1d{ \\x01',\n",
       "  'id': b'\\n\\x16syft.lib.python.String\\x12<\\n$069eedd0-5f5d-4446-beaa-d89480796ed9\\x12\\x12\\n\\x10vxZ\\xb4Q\\xf5E]\\xb8?\\xf7\\x85\\xee\\tD\\x98\\x18\\x01',\n",
       "  'tags': b'\\n\\x19syft.lib.python.list.List\\x12\\x16\\x12\\x12\\n\\x10cZ\\xc9\\xfeiiE\\x93\\xa1\\x8b\\xff\\xbd\\xd4\\xaf\\x82\\xa1\\x18\\x01'},\n",
       " {'id': b'\\n\\x16syft.lib.python.String\\x12<\\n$1fb490ac-8cd5-4688-8643-6d33d5e5d4b5\\x12\\x12\\n\\x10\\xca\\xcaaX\\x93mA\\xf0\\x8cBO\\xd2h\\xe5\\x90*\\x18\\x01',\n",
       "  'description': b\"\\n\\x16syft.lib.python.String\\x12\\xab\\x01\\n\\x92\\x01A collection of reports from Canada's statistics \\n                    bureau about how much it thinks it imports and exports from other countries.\\x12\\x12\\n\\x10\\xa1\\x8b\\xc3\\xb4\\xb3\\x13@&\\x92\\xa8q\\x93\\xa31\\x1da\\x18\\x01\",\n",
       "  'str_metadata': b'\\n\\x14syft.lib.python.Dict\\x12\\x99\\x01\\nQ\\n\\x16syft.lib.python.String\\x127\\n!temp_storage_for_actual_primitive\\x12\\x12\\n\\x10\\x19 Y\\x8d\\xa6,K\\x03\\xbc|d,+=\\xaf4\\x12.\\n\\x14syft.lib.python.Bool\\x12\\x16\\x08\\x01\\x12\\x12\\n\\x10\\xc0I#_\\xef\\x05J\\xd0\\xb1\\xb1y*\\xb2\\xa1%B\\x1a\\x12\\n\\x10R\\x99\\x12\\xe4\\x85\\xc4Mf\\xbb\\xa7,\\xee\\x8d\\x0e*3 \\x01',\n",
       "  'name': b'\\n\\x16syft.lib.python.String\\x12<\\n$Canada Trade Data - First 10000 rows\\x12\\x12\\n\\x10g%a[\\xf2\\xcfE\\x99\\x8d\\xc9\\xf3.\\xc9\\x0cA\\xd7\\x18\\x01',\n",
       "  'manifest': b'\\n\\x16syft.lib.python.String\\x12\\x16\\x12\\x12\\n\\x10\\x17\\xfc;6\\xc3\\xc6F\\xd6\\xa0\\xcc\\xd6\\x15\\xe3\\xa6}\\xd3\\x18\\x01',\n",
       "  'tags': b'\\n\\x19syft.lib.python.list.List\\x12\\x16\\x12\\x12\\n\\x10\\xe1\\xacc\\x99\\x0f\\xa7CE\\x8f#\\xacz\\xe8O\\xe6\\x89\\x18\\x01',\n",
       "  'data': b'\\n\\x19syft.lib.python.list.List\\x12\\xa5\\x04\\n\\x8c\\x04\\n\\x14syft.lib.python.Dict\\x12\\xf3\\x03\\n4\\n\\x16syft.lib.python.String\\x12\\x1a\\n\\x04name\\x12\\x12\\n\\x10\\xae0\\xe0\\xb9Y\\xedI\\xb5\\xae\\xa8\\xd0\\xb4\\xe2\\xcc\\x00\\x7f\\n2\\n\\x16syft.lib.python.String\\x12\\x18\\n\\x02id\\x12\\x12\\n\\x10\\xa0\\x02\\x99\\xe7H\\xe4A\\xbe\\x9d\\x13a\\xf2\\x1a6\\x1ch\\n5\\n\\x16syft.lib.python.String\\x12\\x1b\\n\\x05dtype\\x12\\x12\\n\\x10\\xab\\xbdQ$\\x9f\\x12G\\xf7\\xb2\\xe9\\\\\\xb8?\\x04\\xca\\xe3\\n5\\n\\x16syft.lib.python.String\\x12\\x1b\\n\\x05shape\\x12\\x12\\n\\x10I\\xbf\\x83\\xbdQ\\'Nu\\xb7#KM\\x9d\\x1e\\\\E\\x127\\n\\x16syft.lib.python.String\\x12\\x1d\\n\\x07feb2020\\x12\\x12\\n\\x10L\\x0eh\\xd9\\xe1\\xacL:\\xb7\\x16\\x001M\\x82t\\x9e\\x12T\\n\\x16syft.lib.python.String\\x12:\\n$7ad73649-e700-4d47-b091-65a747ebc928\\x12\\x12\\n\\x10\\xcf\\xf8\\xa67|\\x1cNO\\x81K\\'xC\\xde\\xbeD\\x129\\n\\x16syft.lib.python.String\\x12\\x1f\\n\\tDataFrame\\x12\\x12\\n\\x10p\\xc1\\xe5\\x02D9H\\xe2\\x83&\\xf0I\\xac\\xb6\\x03\\xdd\\x12;\\n\\x16syft.lib.python.String\\x12!\\n\\x0b(10000, 22)\\x12\\x12\\n\\x10m\\xba\\xa6_\\x10\\xf4Eq\\xb0\\xad$\\'?*U\\xc8\\x1a\\x12\\n\\x10\\xa0^f@\\x81.K*\\x88s\\x8c\\x06\\xea\\xb3\\x8a\\x18\\x12\\x12\\n\\x10\\nl\\xaa\\xf3l\\xc9O\\xbb\\xb1P\\x1f\\x0b\\xbd\"\\x99\\x9a\\x18\\x01',\n",
       "  'blob_metadata': b'\\n\\x14syft.lib.python.Dict\\x12\\x99\\x01\\nQ\\n\\x16syft.lib.python.String\\x127\\n!temp_storage_for_actual_primitive\\x12\\x12\\n\\x10F<\\xfa\\t\\xae\\x98J\\xfb\\xaf\\x07\\x16\\xf5\\xdd\\xb2\\xf9\\xad\\x12.\\n\\x14syft.lib.python.Bool\\x12\\x16\\x08\\x01\\x12\\x12\\n\\x10T\\xb0\\x99\\x83\\xf3\\x93I\\xdc\\xbb\\xdb\\t]_\\xe0P\\xb5\\x1a\\x12\\n\\x10f\\xeezS\\xc8\\x91A\\xe4\\xae\\x92\\r\\xc9\\x02.\\xe0\\xbe \\x01'},\n",
       " {'name': b\"\\n\\x16syft.lib.python.String\\x12<\\n$Canada Trade Data - First 10000 rows\\x12\\x12\\n\\x10*Z\\xbc\\xe9\\x9e\\x01Fc\\xa9N\\xdf\\x9bk\\x96'\\xbb\\x18\\x01\",\n",
       "  'tags': b'\\n\\x19syft.lib.python.list.List\\x12\\x16\\x12\\x12\\n\\x100?{+U\\x13H\\xf4\\x8eRf\\xbb\\xf2\\x7fi%\\x18\\x01',\n",
       "  'blob_metadata': b\"\\n\\x14syft.lib.python.Dict\\x12\\x99\\x01\\nQ\\n\\x16syft.lib.python.String\\x127\\n!temp_storage_for_actual_primitive\\x12\\x12\\n\\x10\\xc2\\x04\\xed\\x9a\\xbc\\x7fH\\x85\\x9fw\\xe6{\\xa7\\xc5\\x8b\\xf2\\x12.\\n\\x14syft.lib.python.Bool\\x12\\x16\\x08\\x01\\x12\\x12\\n\\x10\\x111\\x91\\xf0G\\x8a@\\xcf\\xb4\\x9cxW\\xe5\\xb2X\\x16\\x1a\\x12\\n\\x10'\\xdd\\xd2\\xc3\\xbfYC\\xa3\\xa6\\r\\xa9NS\\xb7\\xd7q \\x01\",\n",
       "  'description': b\"\\n\\x16syft.lib.python.String\\x12\\xab\\x01\\n\\x92\\x01A collection of reports from Canada's statistics \\n                    bureau about how much it thinks it imports and exports from other countries.\\x12\\x12\\n\\x10v\\x0b\\x99\\x8a(RA+\\x83#\\x1bS\\x17\\xe2ps\\x18\\x01\",\n",
       "  'id': b'\\n\\x16syft.lib.python.String\\x12<\\n$5ee0eae2-8ad9-4e4e-83c7-9b27b6d5133e\\x12\\x12\\n\\x10\\xe6\\xb5\\xa9A\\x15\\x99CS\\x9b/\\x06Y\\xb5pu\\xa2\\x18\\x01',\n",
       "  'str_metadata': b'\\n\\x14syft.lib.python.Dict\\x12\\x99\\x01\\nQ\\n\\x16syft.lib.python.String\\x127\\n!temp_storage_for_actual_primitive\\x12\\x12\\n\\x10\\xac\\x16\\xb8\\xbc\\xe8\\xc0H\\xc4\\xbc\\\\&a/\\xce\\x12\\xa1\\x12.\\n\\x14syft.lib.python.Bool\\x12\\x16\\x08\\x01\\x12\\x12\\n\\x10\\xed\\x9c\\xea\\xf6\\x7f\\xc0Kk\\x91\\xfb\\xc3)\\xd7J\\xc9\\x1f\\x1a\\x12\\n\\x10\\x93\\x157\\xca\\xde\\xe8J\\xd4\\x87U\\xcb<\\xf7\\xd4Y\\xaf \\x01',\n",
       "  'manifest': b'\\n\\x16syft.lib.python.String\\x12\\x16\\x12\\x12\\n\\x10\\xb2k\\xb4\\xc7\\xdfcD\\xe1\\x88\\x96\\xcf\\xa98\\xfd\\xa69\\x18\\x01',\n",
       "  'data': b'\\n\\x19syft.lib.python.list.List\\x12\\xa5\\x04\\n\\x8c\\x04\\n\\x14syft.lib.python.Dict\\x12\\xf3\\x03\\n4\\n\\x16syft.lib.python.String\\x12\\x1a\\n\\x04name\\x12\\x12\\n\\x10r]`?\\xf7\\x83H\\x80\\x98\\xd5\\xc6Fah\\x81\\xcb\\n2\\n\\x16syft.lib.python.String\\x12\\x18\\n\\x02id\\x12\\x12\\n\\x10m(\\xd8^,\\x16O\\xac\\x8aF\\xe7\\xf7\\x96\\xa2\\x0f\\x91\\n5\\n\\x16syft.lib.python.String\\x12\\x1b\\n\\x05dtype\\x12\\x12\\n\\x108\\x03\\x14\\xf3&OC\\xbb\\x8c:\\xa9c\\xfc\\x16!V\\n5\\n\\x16syft.lib.python.String\\x12\\x1b\\n\\x05shape\\x12\\x12\\n\\x10}[\\x7f\\x87\\x90\\xe2D8\\x96q\\xce\\xea\\xda\\r4\\xe1\\x127\\n\\x16syft.lib.python.String\\x12\\x1d\\n\\x07feb2020\\x12\\x12\\n\\x10\\xaf\\xa7Q\\xe7\\xdc1D\\x81\\xbe#\\x820\\xad*\\xbcE\\x12T\\n\\x16syft.lib.python.String\\x12:\\n$3ea6c3b1-0bec-4dd2-bd96-b114dba36aea\\x12\\x12\\n\\x10%\\x85\\xd9\\xbd\\x018I\\x08\\x80\\xdf\\x17\\x1f\\xd7\\xd3N\\x90\\x129\\n\\x16syft.lib.python.String\\x12\\x1f\\n\\tDataFrame\\x12\\x12\\n\\x10\\xe3\\xe4gW\\xb5\\xb6F\\xe0\\xbd\\x96a,\\x17d\\x9fJ\\x12;\\n\\x16syft.lib.python.String\\x12!\\n\\x0b(10000, 22)\\x12\\x12\\n\\x10\\x1f\\xe4\\x04\\x12\\xc7\\xc6D\\x8e\\xa4\\x06\\x994/\\xc5f3\\x1a\\x12\\n\\x10/\\xf29n\\x07\\x98A\\xa8\\xb0\\x80i\\x9b\\xf4A\\xa8\\xec\\x12\\x12\\n\\x10\\xde\\xf1w\\xb6\\xc9\\xb9@\\xc8\\x89/\\xefm\\x82O+M\\x18\\x01'}]"
      ]
     },
     "execution_count": 7,
     "metadata": {},
     "output_type": "execute_result"
    }
   ],
   "source": [
    "# Awesome !!! We're logged into the domain node\n",
    "# Let's quickly list all the datasets available on the Canada domain\n",
    "\n",
    "canada_domain_node.datasets.all()"
   ]
  },
  {
   "cell_type": "code",
   "execution_count": 62,
   "id": "a0f5f2f9",
   "metadata": {
    "scrolled": true
   },
   "outputs": [
    {
     "ename": "TypeError",
     "evalue": "b'\\n\\x16syft.lib.python.String\\x12<\\n$5ee0eae2-8ad9-4e4e-83c7-9b27b6d5133e\\x12\\x12\\n\\x10\\x8a\\x8e\\x8d has type bytes, but expected one of: int, long",
     "output_type": "error",
     "traceback": [
      "\u001b[0;31m---------------------------------------------------------------------------\u001b[0m",
      "\u001b[0;31mTypeError\u001b[0m                                 Traceback (most recent call last)",
      "\u001b[0;32m<ipython-input-62-4e2a3d217a9d>\u001b[0m in \u001b[0;36m<module>\u001b[0;34m\u001b[0m\n\u001b[1;32m      2\u001b[0m \u001b[0;31m# with contains the first 1000 rows of trade dataset of Canada.\u001b[0m\u001b[0;34m\u001b[0m\u001b[0;34m\u001b[0m\u001b[0;34m\u001b[0m\u001b[0m\n\u001b[1;32m      3\u001b[0m \u001b[0;34m\u001b[0m\u001b[0m\n\u001b[0;32m----> 4\u001b[0;31m \u001b[0mlast_dataset\u001b[0m \u001b[0;34m=\u001b[0m \u001b[0mcanada_domain_node\u001b[0m\u001b[0;34m.\u001b[0m\u001b[0mdatasets\u001b[0m\u001b[0;34m[\u001b[0m\u001b[0;34m-\u001b[0m\u001b[0;36m1\u001b[0m\u001b[0;34m]\u001b[0m\u001b[0;34m\u001b[0m\u001b[0;34m\u001b[0m\u001b[0m\n\u001b[0m",
      "\u001b[0;32m~/anaconda3/envs/pysyft/lib/python3.9/site-packages/syft/core/node/common/client_manager/dataset_api.py\u001b[0m in \u001b[0;36m__getitem__\u001b[0;34m(self, key)\u001b[0m\n\u001b[1;32m     59\u001b[0m             \u001b[0mkey\u001b[0m \u001b[0;34m=\u001b[0m \u001b[0mself\u001b[0m\u001b[0;34m.\u001b[0m\u001b[0mall\u001b[0m\u001b[0;34m(\u001b[0m\u001b[0;34m)\u001b[0m\u001b[0;34m[\u001b[0m\u001b[0mkey\u001b[0m\u001b[0;34m]\u001b[0m\u001b[0;34m[\u001b[0m\u001b[0;34m\"id\"\u001b[0m\u001b[0;34m]\u001b[0m\u001b[0;34m\u001b[0m\u001b[0;34m\u001b[0m\u001b[0m\n\u001b[1;32m     60\u001b[0m \u001b[0;34m\u001b[0m\u001b[0m\n\u001b[0;32m---> 61\u001b[0;31m         \u001b[0;32mreturn\u001b[0m \u001b[0mself\u001b[0m\u001b[0;34m.\u001b[0m\u001b[0mget\u001b[0m\u001b[0;34m(\u001b[0m\u001b[0mdataset_id\u001b[0m\u001b[0;34m=\u001b[0m\u001b[0mkey\u001b[0m\u001b[0;34m)\u001b[0m\u001b[0;34m\u001b[0m\u001b[0;34m\u001b[0m\u001b[0m\n\u001b[0m\u001b[1;32m     62\u001b[0m \u001b[0;34m\u001b[0m\u001b[0m\n\u001b[1;32m     63\u001b[0m     \u001b[0;32mdef\u001b[0m \u001b[0m__delitem__\u001b[0m\u001b[0;34m(\u001b[0m\u001b[0mself\u001b[0m\u001b[0;34m,\u001b[0m \u001b[0mkey\u001b[0m\u001b[0;34m:\u001b[0m \u001b[0mstr\u001b[0m\u001b[0;34m)\u001b[0m \u001b[0;34m->\u001b[0m \u001b[0mAny\u001b[0m\u001b[0;34m:\u001b[0m\u001b[0;34m\u001b[0m\u001b[0;34m\u001b[0m\u001b[0m\n",
      "\u001b[0;32m~/anaconda3/envs/pysyft/lib/python3.9/site-packages/syft/core/node/common/client_manager/request_api.py\u001b[0m in \u001b[0;36mget\u001b[0;34m(self, **kwargs)\u001b[0m\n\u001b[1;32m     46\u001b[0m \u001b[0;34m\u001b[0m\u001b[0m\n\u001b[1;32m     47\u001b[0m     \u001b[0;32mdef\u001b[0m \u001b[0mget\u001b[0m\u001b[0;34m(\u001b[0m\u001b[0mself\u001b[0m\u001b[0;34m,\u001b[0m \u001b[0;34m**\u001b[0m\u001b[0mkwargs\u001b[0m\u001b[0;34m:\u001b[0m \u001b[0mAny\u001b[0m\u001b[0;34m)\u001b[0m \u001b[0;34m->\u001b[0m \u001b[0mAny\u001b[0m\u001b[0;34m:\u001b[0m\u001b[0;34m\u001b[0m\u001b[0;34m\u001b[0m\u001b[0m\n\u001b[0;32m---> 48\u001b[0;31m         association_table = self.perform_api_request(\n\u001b[0m\u001b[1;32m     49\u001b[0m             \u001b[0msyft_msg\u001b[0m\u001b[0;34m=\u001b[0m\u001b[0mself\u001b[0m\u001b[0;34m.\u001b[0m\u001b[0m__get_message\u001b[0m\u001b[0;34m,\u001b[0m \u001b[0mcontent\u001b[0m\u001b[0;34m=\u001b[0m\u001b[0mkwargs\u001b[0m\u001b[0;34m\u001b[0m\u001b[0;34m\u001b[0m\u001b[0m\n\u001b[1;32m     50\u001b[0m         )\n",
      "\u001b[0;32m~/anaconda3/envs/pysyft/lib/python3.9/site-packages/syft/core/node/common/client_manager/request_api.py\u001b[0m in \u001b[0;36mperform_api_request\u001b[0;34m(self, syft_msg, content)\u001b[0m\n\u001b[1;32m    103\u001b[0m         \u001b[0mcontent\u001b[0m\u001b[0;34m[\u001b[0m\u001b[0mRequestAPIFields\u001b[0m\u001b[0;34m.\u001b[0m\u001b[0mADDRESS\u001b[0m\u001b[0;34m]\u001b[0m \u001b[0;34m=\u001b[0m \u001b[0mself\u001b[0m\u001b[0;34m.\u001b[0m\u001b[0mclient\u001b[0m\u001b[0;34m.\u001b[0m\u001b[0maddress\u001b[0m\u001b[0;34m\u001b[0m\u001b[0;34m\u001b[0m\u001b[0m\n\u001b[1;32m    104\u001b[0m         \u001b[0mcontent\u001b[0m\u001b[0;34m[\u001b[0m\u001b[0mRequestAPIFields\u001b[0m\u001b[0;34m.\u001b[0m\u001b[0mREPLY_TO\u001b[0m\u001b[0;34m]\u001b[0m \u001b[0;34m=\u001b[0m \u001b[0mself\u001b[0m\u001b[0;34m.\u001b[0m\u001b[0mclient\u001b[0m\u001b[0;34m.\u001b[0m\u001b[0maddress\u001b[0m\u001b[0;34m\u001b[0m\u001b[0;34m\u001b[0m\u001b[0m\n\u001b[0;32m--> 105\u001b[0;31m         signed_msg = syft_msg_constructor(**content).sign(\n\u001b[0m\u001b[1;32m    106\u001b[0m             \u001b[0msigning_key\u001b[0m\u001b[0;34m=\u001b[0m\u001b[0mself\u001b[0m\u001b[0;34m.\u001b[0m\u001b[0mclient\u001b[0m\u001b[0;34m.\u001b[0m\u001b[0msigning_key\u001b[0m\u001b[0;34m\u001b[0m\u001b[0;34m\u001b[0m\u001b[0m\n\u001b[1;32m    107\u001b[0m         )  # type: ignore\n",
      "\u001b[0;32m~/anaconda3/envs/pysyft/lib/python3.9/site-packages/syft/core/common/message.py\u001b[0m in \u001b[0;36msign\u001b[0;34m(self, signing_key)\u001b[0m\n\u001b[1;32m     89\u001b[0m         \"\"\"\n\u001b[1;32m     90\u001b[0m         \u001b[0mdebug\u001b[0m\u001b[0;34m(\u001b[0m\u001b[0;34mf\"> Signing with {self.address.key_emoji(key=signing_key.verify_key)}\"\u001b[0m\u001b[0;34m)\u001b[0m\u001b[0;34m\u001b[0m\u001b[0;34m\u001b[0m\u001b[0m\n\u001b[0;32m---> 91\u001b[0;31m         \u001b[0msigned_message\u001b[0m \u001b[0;34m=\u001b[0m \u001b[0msigning_key\u001b[0m\u001b[0;34m.\u001b[0m\u001b[0msign\u001b[0m\u001b[0;34m(\u001b[0m\u001b[0mserialize\u001b[0m\u001b[0;34m(\u001b[0m\u001b[0mself\u001b[0m\u001b[0;34m,\u001b[0m \u001b[0mto_bytes\u001b[0m\u001b[0;34m=\u001b[0m\u001b[0;32mTrue\u001b[0m\u001b[0;34m)\u001b[0m\u001b[0;34m)\u001b[0m\u001b[0;34m\u001b[0m\u001b[0;34m\u001b[0m\u001b[0m\n\u001b[0m\u001b[1;32m     92\u001b[0m \u001b[0;34m\u001b[0m\u001b[0m\n\u001b[1;32m     93\u001b[0m         \u001b[0;31m# signed_type will be the final subclass callee's closest parent signed_type\u001b[0m\u001b[0;34m\u001b[0m\u001b[0;34m\u001b[0m\u001b[0;34m\u001b[0m\u001b[0m\n",
      "\u001b[0;32m~/anaconda3/envs/pysyft/lib/python3.9/site-packages/syft/core/common/serde/serialize.py\u001b[0m in \u001b[0;36m_serialize\u001b[0;34m(obj, to_proto, to_bytes)\u001b[0m\n\u001b[1;32m     82\u001b[0m         \u001b[0;31m# indent=None means no white space or \\n in the serialized version\u001b[0m\u001b[0;34m\u001b[0m\u001b[0;34m\u001b[0m\u001b[0;34m\u001b[0m\u001b[0m\n\u001b[1;32m     83\u001b[0m         \u001b[0;31m# this is compatible with json.dumps(x, indent=None)\u001b[0m\u001b[0;34m\u001b[0m\u001b[0;34m\u001b[0m\u001b[0;34m\u001b[0m\u001b[0m\n\u001b[0;32m---> 84\u001b[0;31m         \u001b[0mserialized_data\u001b[0m \u001b[0;34m=\u001b[0m \u001b[0mis_serializable\u001b[0m\u001b[0;34m.\u001b[0m\u001b[0m_object2proto\u001b[0m\u001b[0;34m(\u001b[0m\u001b[0;34m)\u001b[0m\u001b[0;34m.\u001b[0m\u001b[0mSerializeToString\u001b[0m\u001b[0;34m(\u001b[0m\u001b[0;34m)\u001b[0m\u001b[0;34m\u001b[0m\u001b[0;34m\u001b[0m\u001b[0m\n\u001b[0m\u001b[1;32m     85\u001b[0m         blob: Message = DataMessage(\n\u001b[1;32m     86\u001b[0m             \u001b[0mobj_type\u001b[0m\u001b[0;34m=\u001b[0m\u001b[0mget_fully_qualified_name\u001b[0m\u001b[0;34m(\u001b[0m\u001b[0mobj\u001b[0m\u001b[0;34m=\u001b[0m\u001b[0mis_serializable\u001b[0m\u001b[0;34m)\u001b[0m\u001b[0;34m,\u001b[0m\u001b[0;34m\u001b[0m\u001b[0;34m\u001b[0m\u001b[0m\n",
      "\u001b[0;32m~/anaconda3/envs/pysyft/lib/python3.9/site-packages/syft/core/node/common/node_service/dataset_manager/dataset_manager_messages.py\u001b[0m in \u001b[0;36m_object2proto\u001b[0;34m(self)\u001b[0m\n\u001b[1;32m    143\u001b[0m             \u001b[0mobject\u001b[0m\u001b[0;34m.\u001b[0m\u001b[0;34m\u001b[0m\u001b[0;34m\u001b[0m\u001b[0m\n\u001b[1;32m    144\u001b[0m         \"\"\"\n\u001b[0;32m--> 145\u001b[0;31m         return GetDatasetMessage_PB(\n\u001b[0m\u001b[1;32m    146\u001b[0m             \u001b[0mmsg_id\u001b[0m\u001b[0;34m=\u001b[0m\u001b[0mserialize\u001b[0m\u001b[0;34m(\u001b[0m\u001b[0mself\u001b[0m\u001b[0;34m.\u001b[0m\u001b[0mid\u001b[0m\u001b[0;34m)\u001b[0m\u001b[0;34m,\u001b[0m\u001b[0;34m\u001b[0m\u001b[0;34m\u001b[0m\u001b[0m\n\u001b[1;32m    147\u001b[0m             \u001b[0maddress\u001b[0m\u001b[0;34m=\u001b[0m\u001b[0mserialize\u001b[0m\u001b[0;34m(\u001b[0m\u001b[0mself\u001b[0m\u001b[0;34m.\u001b[0m\u001b[0maddress\u001b[0m\u001b[0;34m)\u001b[0m\u001b[0;34m,\u001b[0m\u001b[0;34m\u001b[0m\u001b[0;34m\u001b[0m\u001b[0m\n",
      "\u001b[0;31mTypeError\u001b[0m: b'\\n\\x16syft.lib.python.String\\x12<\\n$5ee0eae2-8ad9-4e4e-83c7-9b27b6d5133e\\x12\\x12\\n\\x10\\x8a\\x8e\\x8d has type bytes, but expected one of: int, long"
     ]
    }
   ],
   "source": [
    "# From the list, we will select the last dataset, \n",
    "# with contains the first 1000 rows of trade dataset of Canada.\n",
    "\n",
    "last_dataset = canada_domain_node.datasets[-1]"
   ]
  },
  {
   "cell_type": "code",
   "execution_count": 63,
   "id": "e8dc4266",
   "metadata": {},
   "outputs": [],
   "source": [
    "dataset_ptr = canada_domain_node.store[-1]"
   ]
  },
  {
   "cell_type": "code",
   "execution_count": 64,
   "id": "d6c1c189",
   "metadata": {},
   "outputs": [
    {
     "data": {
      "text/plain": [
       "['#feb2020']"
      ]
     },
     "execution_count": 64,
     "metadata": {},
     "output_type": "execute_result"
    }
   ],
   "source": [
    "dataset_ptr.tags"
   ]
  },
  {
   "cell_type": "code",
   "execution_count": 123,
   "id": "04a33945",
   "metadata": {},
   "outputs": [
    {
     "ename": "ModuleNotFoundError",
     "evalue": "No module named 'syft.core.node.domain.service'",
     "output_type": "error",
     "traceback": [
      "\u001b[0;31m---------------------------------------------------------------------------\u001b[0m",
      "\u001b[0;31mModuleNotFoundError\u001b[0m                       Traceback (most recent call last)",
      "\u001b[0;32m<ipython-input-123-efff64460b5f>\u001b[0m in \u001b[0;36m<module>\u001b[0;34m\u001b[0m\n\u001b[1;32m      1\u001b[0m \u001b[0;31m# Let's try to get the whole dataset itself.\u001b[0m\u001b[0;34m\u001b[0m\u001b[0;34m\u001b[0m\u001b[0;34m\u001b[0m\u001b[0m\n\u001b[0;32m----> 2\u001b[0;31m \u001b[0mdataset_ptr\u001b[0m\u001b[0;34m.\u001b[0m\u001b[0mget\u001b[0m\u001b[0;34m(\u001b[0m\u001b[0mrequest_block\u001b[0m\u001b[0;34m=\u001b[0m\u001b[0;32mTrue\u001b[0m\u001b[0;34m,\u001b[0m \u001b[0mdelete_obj\u001b[0m\u001b[0;34m=\u001b[0m\u001b[0;32mTrue\u001b[0m\u001b[0;34m,\u001b[0m \u001b[0mreason\u001b[0m\u001b[0;34m=\u001b[0m\u001b[0;34m\"Access whole dataset\"\u001b[0m\u001b[0;34m)\u001b[0m\u001b[0;34m\u001b[0m\u001b[0;34m\u001b[0m\u001b[0m\n\u001b[0m",
      "\u001b[0;32m~/anaconda3/envs/pysyft/lib/python3.9/site-packages/syft/core/pointer/pointer.py\u001b[0m in \u001b[0;36mget\u001b[0;34m(self, request_block, timeout_secs, reason, delete_obj, verbose)\u001b[0m\n\u001b[1;32m    275\u001b[0m             \u001b[0mresult\u001b[0m \u001b[0;34m=\u001b[0m \u001b[0mself\u001b[0m\u001b[0;34m.\u001b[0m\u001b[0m_get\u001b[0m\u001b[0;34m(\u001b[0m\u001b[0mdelete_obj\u001b[0m\u001b[0;34m=\u001b[0m\u001b[0mdelete_obj\u001b[0m\u001b[0;34m,\u001b[0m \u001b[0mverbose\u001b[0m\u001b[0;34m=\u001b[0m\u001b[0mverbose\u001b[0m\u001b[0;34m)\u001b[0m\u001b[0;34m\u001b[0m\u001b[0;34m\u001b[0m\u001b[0m\n\u001b[1;32m    276\u001b[0m         \u001b[0;32melse\u001b[0m\u001b[0;34m:\u001b[0m\u001b[0;34m\u001b[0m\u001b[0;34m\u001b[0m\u001b[0m\n\u001b[0;32m--> 277\u001b[0;31m             response_status = self.request(\n\u001b[0m\u001b[1;32m    278\u001b[0m                 \u001b[0mreason\u001b[0m\u001b[0;34m=\u001b[0m\u001b[0mreason\u001b[0m\u001b[0;34m,\u001b[0m\u001b[0;34m\u001b[0m\u001b[0;34m\u001b[0m\u001b[0m\n\u001b[1;32m    279\u001b[0m                 \u001b[0mblock\u001b[0m\u001b[0;34m=\u001b[0m\u001b[0;32mTrue\u001b[0m\u001b[0;34m,\u001b[0m\u001b[0;34m\u001b[0m\u001b[0;34m\u001b[0m\u001b[0m\n",
      "\u001b[0;32m~/anaconda3/envs/pysyft/lib/python3.9/site-packages/syft/core/pointer/pointer.py\u001b[0m in \u001b[0;36mrequest\u001b[0;34m(self, reason, block, timeout_secs, verbose)\u001b[0m\n\u001b[1;32m    445\u001b[0m \u001b[0;34m\u001b[0m\u001b[0m\n\u001b[1;32m    446\u001b[0m             \u001b[0;31m# relative\u001b[0m\u001b[0;34m\u001b[0m\u001b[0;34m\u001b[0m\u001b[0;34m\u001b[0m\u001b[0m\n\u001b[0;32m--> 447\u001b[0;31m             \u001b[0;32mfrom\u001b[0m \u001b[0;34m.\u001b[0m\u001b[0;34m.\u001b[0m\u001b[0mnode\u001b[0m\u001b[0;34m.\u001b[0m\u001b[0mdomain\u001b[0m\u001b[0;34m.\u001b[0m\u001b[0mservice\u001b[0m \u001b[0;32mimport\u001b[0m \u001b[0mRequestAnswerMessage\u001b[0m\u001b[0;34m\u001b[0m\u001b[0;34m\u001b[0m\u001b[0m\n\u001b[0m\u001b[1;32m    448\u001b[0m             \u001b[0;32mfrom\u001b[0m \u001b[0;34m.\u001b[0m\u001b[0;34m.\u001b[0m\u001b[0mnode\u001b[0m\u001b[0;34m.\u001b[0m\u001b[0mdomain\u001b[0m\u001b[0;34m.\u001b[0m\u001b[0mservice\u001b[0m \u001b[0;32mimport\u001b[0m \u001b[0mRequestStatus\u001b[0m\u001b[0;34m\u001b[0m\u001b[0;34m\u001b[0m\u001b[0m\n\u001b[1;32m    449\u001b[0m \u001b[0;34m\u001b[0m\u001b[0m\n",
      "\u001b[0;31mModuleNotFoundError\u001b[0m: No module named 'syft.core.node.domain.service'"
     ]
    }
   ],
   "source": [
    "# Let's try to get the whole dataset itself.\n",
    "dataset_ptr.get(request_block=True, delete_obj=True, reason=\"Access whole dataset\")"
   ]
  },
  {
   "cell_type": "code",
   "execution_count": 124,
   "id": "faa69f06",
   "metadata": {},
   "outputs": [
    {
     "name": "stderr",
     "output_type": "stream",
     "text": [
      "[2021-08-05T03:34:52.304241+0530][CRITICAL][logger]][113921] You do not have permission to .get() Object with ID: <UID: 3ea6c3b10bec4dd2bd96b114dba36aea>Please submit a request.\n"
     ]
    },
    {
     "ename": "AuthorizationException",
     "evalue": "You do not have permission to .get() Object with ID: <UID: 3ea6c3b10bec4dd2bd96b114dba36aea>Please submit a request.",
     "output_type": "error",
     "traceback": [
      "\u001b[0;31m---------------------------------------------------------------------------\u001b[0m",
      "\u001b[0;31mAuthorizationException\u001b[0m                    Traceback (most recent call last)",
      "\u001b[0;32m<ipython-input-124-bfa71e2b3e10>\u001b[0m in \u001b[0;36m<module>\u001b[0;34m\u001b[0m\n\u001b[1;32m      1\u001b[0m \u001b[0;31m# Let's see if our request was accepted\u001b[0m\u001b[0;34m\u001b[0m\u001b[0;34m\u001b[0m\u001b[0;34m\u001b[0m\u001b[0m\n\u001b[0;32m----> 2\u001b[0;31m \u001b[0mdataset_ptr\u001b[0m\u001b[0;34m.\u001b[0m\u001b[0mget\u001b[0m\u001b[0;34m(\u001b[0m\u001b[0;34m)\u001b[0m\u001b[0;34m\u001b[0m\u001b[0;34m\u001b[0m\u001b[0m\n\u001b[0m",
      "\u001b[0;32m~/anaconda3/envs/pysyft/lib/python3.9/site-packages/syft/core/pointer/pointer.py\u001b[0m in \u001b[0;36mget\u001b[0;34m(self, request_block, timeout_secs, reason, delete_obj, verbose)\u001b[0m\n\u001b[1;32m    273\u001b[0m \u001b[0;34m\u001b[0m\u001b[0m\n\u001b[1;32m    274\u001b[0m         \u001b[0;32mif\u001b[0m \u001b[0;32mnot\u001b[0m \u001b[0mrequest_block\u001b[0m\u001b[0;34m:\u001b[0m\u001b[0;34m\u001b[0m\u001b[0;34m\u001b[0m\u001b[0m\n\u001b[0;32m--> 275\u001b[0;31m             \u001b[0mresult\u001b[0m \u001b[0;34m=\u001b[0m \u001b[0mself\u001b[0m\u001b[0;34m.\u001b[0m\u001b[0m_get\u001b[0m\u001b[0;34m(\u001b[0m\u001b[0mdelete_obj\u001b[0m\u001b[0;34m=\u001b[0m\u001b[0mdelete_obj\u001b[0m\u001b[0;34m,\u001b[0m \u001b[0mverbose\u001b[0m\u001b[0;34m=\u001b[0m\u001b[0mverbose\u001b[0m\u001b[0;34m)\u001b[0m\u001b[0;34m\u001b[0m\u001b[0;34m\u001b[0m\u001b[0m\n\u001b[0m\u001b[1;32m    276\u001b[0m         \u001b[0;32melse\u001b[0m\u001b[0;34m:\u001b[0m\u001b[0;34m\u001b[0m\u001b[0;34m\u001b[0m\u001b[0m\n\u001b[1;32m    277\u001b[0m             response_status = self.request(\n",
      "\u001b[0;32m~/anaconda3/envs/pysyft/lib/python3.9/site-packages/syft/core/pointer/pointer.py\u001b[0m in \u001b[0;36m_get\u001b[0;34m(self, delete_obj, verbose)\u001b[0m\n\u001b[1;32m    177\u001b[0m         )\n\u001b[1;32m    178\u001b[0m \u001b[0;34m\u001b[0m\u001b[0m\n\u001b[0;32m--> 179\u001b[0;31m         \u001b[0mobj\u001b[0m \u001b[0;34m=\u001b[0m \u001b[0mself\u001b[0m\u001b[0;34m.\u001b[0m\u001b[0mclient\u001b[0m\u001b[0;34m.\u001b[0m\u001b[0msend_immediate_msg_with_reply\u001b[0m\u001b[0;34m(\u001b[0m\u001b[0mmsg\u001b[0m\u001b[0;34m=\u001b[0m\u001b[0mobj_msg\u001b[0m\u001b[0;34m)\u001b[0m\u001b[0;34m.\u001b[0m\u001b[0mdata\u001b[0m\u001b[0;34m\u001b[0m\u001b[0;34m\u001b[0m\u001b[0m\n\u001b[0m\u001b[1;32m    180\u001b[0m         \u001b[0;32mif\u001b[0m \u001b[0mself\u001b[0m\u001b[0;34m.\u001b[0m\u001b[0mis_enum\u001b[0m\u001b[0;34m:\u001b[0m\u001b[0;34m\u001b[0m\u001b[0;34m\u001b[0m\u001b[0m\n\u001b[1;32m    181\u001b[0m             \u001b[0menum_class\u001b[0m \u001b[0;34m=\u001b[0m \u001b[0mself\u001b[0m\u001b[0;34m.\u001b[0m\u001b[0mclient\u001b[0m\u001b[0;34m.\u001b[0m\u001b[0mlib_ast\u001b[0m\u001b[0;34m.\u001b[0m\u001b[0mquery\u001b[0m\u001b[0;34m(\u001b[0m\u001b[0mself\u001b[0m\u001b[0;34m.\u001b[0m\u001b[0mpath_and_name\u001b[0m\u001b[0;34m)\u001b[0m\u001b[0;34m.\u001b[0m\u001b[0mobject_ref\u001b[0m\u001b[0;34m\u001b[0m\u001b[0;34m\u001b[0m\u001b[0m\n",
      "\u001b[0;32m~/anaconda3/envs/pysyft/lib/python3.9/site-packages/syft/core/node/common/client.py\u001b[0m in \u001b[0;36msend_immediate_msg_with_reply\u001b[0;34m(self, msg, route_index)\u001b[0m\n\u001b[1;32m    241\u001b[0m                 \u001b[0mexception\u001b[0m \u001b[0;34m=\u001b[0m \u001b[0mexception_msg\u001b[0m\u001b[0;34m.\u001b[0m\u001b[0mexception_type\u001b[0m\u001b[0;34m(\u001b[0m\u001b[0mexception_msg\u001b[0m\u001b[0;34m.\u001b[0m\u001b[0mexception_msg\u001b[0m\u001b[0;34m)\u001b[0m\u001b[0;34m\u001b[0m\u001b[0;34m\u001b[0m\u001b[0m\n\u001b[1;32m    242\u001b[0m                 \u001b[0merror\u001b[0m\u001b[0;34m(\u001b[0m\u001b[0mstr\u001b[0m\u001b[0;34m(\u001b[0m\u001b[0mexception\u001b[0m\u001b[0;34m)\u001b[0m\u001b[0;34m)\u001b[0m\u001b[0;34m\u001b[0m\u001b[0;34m\u001b[0m\u001b[0m\n\u001b[0;32m--> 243\u001b[0;31m                 \u001b[0mtraceback_and_raise\u001b[0m\u001b[0;34m(\u001b[0m\u001b[0mexception\u001b[0m\u001b[0;34m)\u001b[0m\u001b[0;34m\u001b[0m\u001b[0;34m\u001b[0m\u001b[0m\n\u001b[0m\u001b[1;32m    244\u001b[0m             \u001b[0;32melse\u001b[0m\u001b[0;34m:\u001b[0m\u001b[0;34m\u001b[0m\u001b[0;34m\u001b[0m\u001b[0m\n\u001b[1;32m    245\u001b[0m                 \u001b[0;32mreturn\u001b[0m \u001b[0mresponse\u001b[0m\u001b[0;34m.\u001b[0m\u001b[0mmessage\u001b[0m\u001b[0;34m\u001b[0m\u001b[0;34m\u001b[0m\u001b[0m\n",
      "\u001b[0;32m~/anaconda3/envs/pysyft/lib/python3.9/site-packages/syft/logger.py\u001b[0m in \u001b[0;36mtraceback_and_raise\u001b[0;34m(e, verbose)\u001b[0m\n\u001b[1;32m     59\u001b[0m     \u001b[0;32mif\u001b[0m \u001b[0;32mnot\u001b[0m \u001b[0missubclass\u001b[0m\u001b[0;34m(\u001b[0m\u001b[0mtype\u001b[0m\u001b[0;34m(\u001b[0m\u001b[0me\u001b[0m\u001b[0;34m)\u001b[0m\u001b[0;34m,\u001b[0m \u001b[0mException\u001b[0m\u001b[0;34m)\u001b[0m\u001b[0;34m:\u001b[0m\u001b[0;34m\u001b[0m\u001b[0;34m\u001b[0m\u001b[0m\n\u001b[1;32m     60\u001b[0m         \u001b[0me\u001b[0m \u001b[0;34m=\u001b[0m \u001b[0mException\u001b[0m\u001b[0;34m(\u001b[0m\u001b[0me\u001b[0m\u001b[0;34m)\u001b[0m\u001b[0;34m\u001b[0m\u001b[0;34m\u001b[0m\u001b[0m\n\u001b[0;32m---> 61\u001b[0;31m     \u001b[0;32mraise\u001b[0m \u001b[0me\u001b[0m\u001b[0;34m\u001b[0m\u001b[0;34m\u001b[0m\u001b[0m\n\u001b[0m\u001b[1;32m     62\u001b[0m \u001b[0;34m\u001b[0m\u001b[0m\n\u001b[1;32m     63\u001b[0m \u001b[0;34m\u001b[0m\u001b[0m\n",
      "\u001b[0;31mAuthorizationException\u001b[0m: You do not have permission to .get() Object with ID: <UID: 3ea6c3b10bec4dd2bd96b114dba36aea>Please submit a request."
     ]
    }
   ],
   "source": [
    "# Let's see if our request was accepted\n",
    "dataset_ptr.get()"
   ]
  },
  {
   "cell_type": "code",
   "execution_count": 125,
   "id": "62d5192b",
   "metadata": {},
   "outputs": [],
   "source": [
    "# Seems, like the request to download the whole dataset was denied by the Data Owner."
   ]
  },
  {
   "cell_type": "code",
   "execution_count": 99,
   "id": "cc351052",
   "metadata": {},
   "outputs": [],
   "source": [
    "# Let's continue with the analysis remotely.\n",
    "# Let's calculate the value of the goods import from Egypt.\n",
    "\n",
    "value_of_goods_imported_from_egypt = dataset_ptr[(dataset_ptr['Partner'] == 'Egypt') & (dataset_ptr['Trade Flow'] == 'Imports')]['Trade Value (US$)'].sum()\n",
    "value_of_goods_reimported_from_egypt = dataset_ptr[(dataset_ptr['Partner'] == 'Egypt') & (dataset_ptr['Trade Flow'] == 'Re-imports')]['Trade Value (US$)'].sum()"
   ]
  },
  {
   "cell_type": "code",
   "execution_count": 101,
   "id": "6ac58543",
   "metadata": {},
   "outputs": [
    {
     "ename": "ModuleNotFoundError",
     "evalue": "No module named 'syft.core.node.domain.service'",
     "output_type": "error",
     "traceback": [
      "\u001b[0;31m---------------------------------------------------------------------------\u001b[0m",
      "\u001b[0;31mModuleNotFoundError\u001b[0m                       Traceback (most recent call last)",
      "\u001b[0;32m<ipython-input-101-b92cf7b9db28>\u001b[0m in \u001b[0;36m<module>\u001b[0;34m\u001b[0m\n\u001b[0;32m----> 1\u001b[0;31m \u001b[0mvalue_of_goods_imported_from_egypt\u001b[0m\u001b[0;34m.\u001b[0m\u001b[0mget\u001b[0m\u001b[0;34m(\u001b[0m\u001b[0mrequest_block\u001b[0m\u001b[0;34m=\u001b[0m\u001b[0;32mTrue\u001b[0m\u001b[0;34m,\u001b[0m \u001b[0mdelete_obj\u001b[0m\u001b[0;34m=\u001b[0m\u001b[0;32mFalse\u001b[0m\u001b[0;34m,\u001b[0m \u001b[0mreason\u001b[0m\u001b[0;34m=\u001b[0m\u001b[0;34m\"Goods value imported from Egypt\"\u001b[0m\u001b[0;34m)\u001b[0m\u001b[0;34m\u001b[0m\u001b[0;34m\u001b[0m\u001b[0m\n\u001b[0m\u001b[1;32m      2\u001b[0m \u001b[0mvalue_of_goods_reimported_from_egypt\u001b[0m\u001b[0;34m.\u001b[0m\u001b[0mget\u001b[0m\u001b[0;34m(\u001b[0m\u001b[0mrequest_block\u001b[0m\u001b[0;34m=\u001b[0m\u001b[0;32mTrue\u001b[0m\u001b[0;34m,\u001b[0m \u001b[0mdelete_obj\u001b[0m\u001b[0;34m=\u001b[0m\u001b[0;32mFalse\u001b[0m\u001b[0;34m,\u001b[0m \u001b[0mreason\u001b[0m\u001b[0;34m=\u001b[0m\u001b[0;34m\"Goods value imported from Egypt\"\u001b[0m\u001b[0;34m)\u001b[0m\u001b[0;34m\u001b[0m\u001b[0;34m\u001b[0m\u001b[0m\n",
      "\u001b[0;32m~/anaconda3/envs/pysyft/lib/python3.9/site-packages/syft/core/pointer/pointer.py\u001b[0m in \u001b[0;36mget\u001b[0;34m(self, request_block, timeout_secs, reason, delete_obj, verbose)\u001b[0m\n\u001b[1;32m    275\u001b[0m             \u001b[0mresult\u001b[0m \u001b[0;34m=\u001b[0m \u001b[0mself\u001b[0m\u001b[0;34m.\u001b[0m\u001b[0m_get\u001b[0m\u001b[0;34m(\u001b[0m\u001b[0mdelete_obj\u001b[0m\u001b[0;34m=\u001b[0m\u001b[0mdelete_obj\u001b[0m\u001b[0;34m,\u001b[0m \u001b[0mverbose\u001b[0m\u001b[0;34m=\u001b[0m\u001b[0mverbose\u001b[0m\u001b[0;34m)\u001b[0m\u001b[0;34m\u001b[0m\u001b[0;34m\u001b[0m\u001b[0m\n\u001b[1;32m    276\u001b[0m         \u001b[0;32melse\u001b[0m\u001b[0;34m:\u001b[0m\u001b[0;34m\u001b[0m\u001b[0;34m\u001b[0m\u001b[0m\n\u001b[0;32m--> 277\u001b[0;31m             response_status = self.request(\n\u001b[0m\u001b[1;32m    278\u001b[0m                 \u001b[0mreason\u001b[0m\u001b[0;34m=\u001b[0m\u001b[0mreason\u001b[0m\u001b[0;34m,\u001b[0m\u001b[0;34m\u001b[0m\u001b[0;34m\u001b[0m\u001b[0m\n\u001b[1;32m    279\u001b[0m                 \u001b[0mblock\u001b[0m\u001b[0;34m=\u001b[0m\u001b[0;32mTrue\u001b[0m\u001b[0;34m,\u001b[0m\u001b[0;34m\u001b[0m\u001b[0;34m\u001b[0m\u001b[0m\n",
      "\u001b[0;32m~/anaconda3/envs/pysyft/lib/python3.9/site-packages/syft/core/pointer/pointer.py\u001b[0m in \u001b[0;36mrequest\u001b[0;34m(self, reason, block, timeout_secs, verbose)\u001b[0m\n\u001b[1;32m    445\u001b[0m \u001b[0;34m\u001b[0m\u001b[0m\n\u001b[1;32m    446\u001b[0m             \u001b[0;31m# relative\u001b[0m\u001b[0;34m\u001b[0m\u001b[0;34m\u001b[0m\u001b[0;34m\u001b[0m\u001b[0m\n\u001b[0;32m--> 447\u001b[0;31m             \u001b[0;32mfrom\u001b[0m \u001b[0;34m.\u001b[0m\u001b[0;34m.\u001b[0m\u001b[0mnode\u001b[0m\u001b[0;34m.\u001b[0m\u001b[0mdomain\u001b[0m\u001b[0;34m.\u001b[0m\u001b[0mservice\u001b[0m \u001b[0;32mimport\u001b[0m \u001b[0mRequestAnswerMessage\u001b[0m\u001b[0;34m\u001b[0m\u001b[0;34m\u001b[0m\u001b[0m\n\u001b[0m\u001b[1;32m    448\u001b[0m             \u001b[0;32mfrom\u001b[0m \u001b[0;34m.\u001b[0m\u001b[0;34m.\u001b[0m\u001b[0mnode\u001b[0m\u001b[0;34m.\u001b[0m\u001b[0mdomain\u001b[0m\u001b[0;34m.\u001b[0m\u001b[0mservice\u001b[0m \u001b[0;32mimport\u001b[0m \u001b[0mRequestStatus\u001b[0m\u001b[0;34m\u001b[0m\u001b[0;34m\u001b[0m\u001b[0m\n\u001b[1;32m    449\u001b[0m \u001b[0;34m\u001b[0m\u001b[0m\n",
      "\u001b[0;31mModuleNotFoundError\u001b[0m: No module named 'syft.core.node.domain.service'"
     ]
    }
   ],
   "source": [
    "value_of_goods_imported_from_egypt.get(request_block=True, delete_obj=False, reason=\"Goods value imported from Egypt\")"
   ]
  },
  {
   "cell_type": "code",
   "execution_count": 102,
   "id": "689b4f25",
   "metadata": {},
   "outputs": [
    {
     "ename": "ModuleNotFoundError",
     "evalue": "No module named 'syft.core.node.domain.service'",
     "output_type": "error",
     "traceback": [
      "\u001b[0;31m---------------------------------------------------------------------------\u001b[0m",
      "\u001b[0;31mModuleNotFoundError\u001b[0m                       Traceback (most recent call last)",
      "\u001b[0;32m<ipython-input-102-fcd63b1b619e>\u001b[0m in \u001b[0;36m<module>\u001b[0;34m\u001b[0m\n\u001b[0;32m----> 1\u001b[0;31m \u001b[0mvalue_of_goods_reimported_from_egypt\u001b[0m\u001b[0;34m.\u001b[0m\u001b[0mget\u001b[0m\u001b[0;34m(\u001b[0m\u001b[0mrequest_block\u001b[0m\u001b[0;34m=\u001b[0m\u001b[0;32mTrue\u001b[0m\u001b[0;34m,\u001b[0m \u001b[0mdelete_obj\u001b[0m\u001b[0;34m=\u001b[0m\u001b[0;32mFalse\u001b[0m\u001b[0;34m,\u001b[0m \u001b[0mreason\u001b[0m\u001b[0;34m=\u001b[0m\u001b[0;34m\"Goods value imported from Egypt\"\u001b[0m\u001b[0;34m)\u001b[0m\u001b[0;34m\u001b[0m\u001b[0;34m\u001b[0m\u001b[0m\n\u001b[0m",
      "\u001b[0;32m~/anaconda3/envs/pysyft/lib/python3.9/site-packages/syft/core/pointer/pointer.py\u001b[0m in \u001b[0;36mget\u001b[0;34m(self, request_block, timeout_secs, reason, delete_obj, verbose)\u001b[0m\n\u001b[1;32m    275\u001b[0m             \u001b[0mresult\u001b[0m \u001b[0;34m=\u001b[0m \u001b[0mself\u001b[0m\u001b[0;34m.\u001b[0m\u001b[0m_get\u001b[0m\u001b[0;34m(\u001b[0m\u001b[0mdelete_obj\u001b[0m\u001b[0;34m=\u001b[0m\u001b[0mdelete_obj\u001b[0m\u001b[0;34m,\u001b[0m \u001b[0mverbose\u001b[0m\u001b[0;34m=\u001b[0m\u001b[0mverbose\u001b[0m\u001b[0;34m)\u001b[0m\u001b[0;34m\u001b[0m\u001b[0;34m\u001b[0m\u001b[0m\n\u001b[1;32m    276\u001b[0m         \u001b[0;32melse\u001b[0m\u001b[0;34m:\u001b[0m\u001b[0;34m\u001b[0m\u001b[0;34m\u001b[0m\u001b[0m\n\u001b[0;32m--> 277\u001b[0;31m             response_status = self.request(\n\u001b[0m\u001b[1;32m    278\u001b[0m                 \u001b[0mreason\u001b[0m\u001b[0;34m=\u001b[0m\u001b[0mreason\u001b[0m\u001b[0;34m,\u001b[0m\u001b[0;34m\u001b[0m\u001b[0;34m\u001b[0m\u001b[0m\n\u001b[1;32m    279\u001b[0m                 \u001b[0mblock\u001b[0m\u001b[0;34m=\u001b[0m\u001b[0;32mTrue\u001b[0m\u001b[0;34m,\u001b[0m\u001b[0;34m\u001b[0m\u001b[0;34m\u001b[0m\u001b[0m\n",
      "\u001b[0;32m~/anaconda3/envs/pysyft/lib/python3.9/site-packages/syft/core/pointer/pointer.py\u001b[0m in \u001b[0;36mrequest\u001b[0;34m(self, reason, block, timeout_secs, verbose)\u001b[0m\n\u001b[1;32m    445\u001b[0m \u001b[0;34m\u001b[0m\u001b[0m\n\u001b[1;32m    446\u001b[0m             \u001b[0;31m# relative\u001b[0m\u001b[0;34m\u001b[0m\u001b[0;34m\u001b[0m\u001b[0;34m\u001b[0m\u001b[0m\n\u001b[0;32m--> 447\u001b[0;31m             \u001b[0;32mfrom\u001b[0m \u001b[0;34m.\u001b[0m\u001b[0;34m.\u001b[0m\u001b[0mnode\u001b[0m\u001b[0;34m.\u001b[0m\u001b[0mdomain\u001b[0m\u001b[0;34m.\u001b[0m\u001b[0mservice\u001b[0m \u001b[0;32mimport\u001b[0m \u001b[0mRequestAnswerMessage\u001b[0m\u001b[0;34m\u001b[0m\u001b[0;34m\u001b[0m\u001b[0m\n\u001b[0m\u001b[1;32m    448\u001b[0m             \u001b[0;32mfrom\u001b[0m \u001b[0;34m.\u001b[0m\u001b[0;34m.\u001b[0m\u001b[0mnode\u001b[0m\u001b[0;34m.\u001b[0m\u001b[0mdomain\u001b[0m\u001b[0;34m.\u001b[0m\u001b[0mservice\u001b[0m \u001b[0;32mimport\u001b[0m \u001b[0mRequestStatus\u001b[0m\u001b[0;34m\u001b[0m\u001b[0;34m\u001b[0m\u001b[0m\n\u001b[1;32m    449\u001b[0m \u001b[0;34m\u001b[0m\u001b[0m\n",
      "\u001b[0;31mModuleNotFoundError\u001b[0m: No module named 'syft.core.node.domain.service'"
     ]
    }
   ],
   "source": [
    "value_of_goods_reimported_from_egypt.get(request_block=True, delete_obj=False, reason=\"Goods value imported from Egypt\")"
   ]
  },
  {
   "cell_type": "code",
   "execution_count": 114,
   "id": "545a1edd",
   "metadata": {},
   "outputs": [
    {
     "name": "stdout",
     "output_type": "stream",
     "text": [
      "Total trade value($) of the goods Imported from Egypt to Canada: $4332428\n"
     ]
    }
   ],
   "source": [
    "imported_goods_value = value_of_goods_imported_from_egypt.get(delete_obj=False)\n",
    "reimported_goods_value = value_of_goods_reimported_from_egypt.get(delete_obj=False)\n",
    "print(f\"Total trade value($) of the goods Imported from Egypt to Canada: ${imported_goods_value + reimported_goods_value}\")"
   ]
  },
  {
   "cell_type": "code",
   "execution_count": 115,
   "id": "125b3414",
   "metadata": {},
   "outputs": [],
   "source": [
    "# Similarly, we can get the get the goods being exported to Egypt.\n",
    "\n",
    "value_of_goods_exported_to_egypt = dataset_ptr[(dataset_ptr['Partner'] == 'Egypt') & (dataset_ptr['Trade Flow'] == 'Exports') & (dataset_ptr['Trade Flow'] == 'Exports')]['Trade Value (US$)'].sum()\n",
    "value_of_goods_reexported_to_egypt = dataset_ptr[(dataset_ptr['Partner'] == 'Egypt') & (dataset_ptr['Trade Flow'] == 'Exports') & (dataset_ptr['Trade Flow'] == 'Re-exports')]['Trade Value (US$)'].sum()"
   ]
  },
  {
   "cell_type": "code",
   "execution_count": 119,
   "id": "f4944431",
   "metadata": {},
   "outputs": [
    {
     "ename": "ModuleNotFoundError",
     "evalue": "No module named 'syft.core.node.domain.service'",
     "output_type": "error",
     "traceback": [
      "\u001b[0;31m---------------------------------------------------------------------------\u001b[0m",
      "\u001b[0;31mModuleNotFoundError\u001b[0m                       Traceback (most recent call last)",
      "\u001b[0;32m<ipython-input-119-03403f86fcd6>\u001b[0m in \u001b[0;36m<module>\u001b[0;34m\u001b[0m\n\u001b[0;32m----> 1\u001b[0;31m \u001b[0mvalue_of_goods_exported_to_egypt\u001b[0m\u001b[0;34m.\u001b[0m\u001b[0mget\u001b[0m\u001b[0;34m(\u001b[0m\u001b[0mrequest_block\u001b[0m\u001b[0;34m=\u001b[0m\u001b[0;32mTrue\u001b[0m\u001b[0;34m,\u001b[0m \u001b[0mdelete_obj\u001b[0m\u001b[0;34m=\u001b[0m\u001b[0;32mFalse\u001b[0m\u001b[0;34m,\u001b[0m \u001b[0mreason\u001b[0m\u001b[0;34m=\u001b[0m\u001b[0;34m\"Goods value exported to Egypt\"\u001b[0m\u001b[0;34m)\u001b[0m\u001b[0;34m\u001b[0m\u001b[0;34m\u001b[0m\u001b[0m\n\u001b[0m",
      "\u001b[0;32m~/anaconda3/envs/pysyft/lib/python3.9/site-packages/syft/core/pointer/pointer.py\u001b[0m in \u001b[0;36mget\u001b[0;34m(self, request_block, timeout_secs, reason, delete_obj, verbose)\u001b[0m\n\u001b[1;32m    275\u001b[0m             \u001b[0mresult\u001b[0m \u001b[0;34m=\u001b[0m \u001b[0mself\u001b[0m\u001b[0;34m.\u001b[0m\u001b[0m_get\u001b[0m\u001b[0;34m(\u001b[0m\u001b[0mdelete_obj\u001b[0m\u001b[0;34m=\u001b[0m\u001b[0mdelete_obj\u001b[0m\u001b[0;34m,\u001b[0m \u001b[0mverbose\u001b[0m\u001b[0;34m=\u001b[0m\u001b[0mverbose\u001b[0m\u001b[0;34m)\u001b[0m\u001b[0;34m\u001b[0m\u001b[0;34m\u001b[0m\u001b[0m\n\u001b[1;32m    276\u001b[0m         \u001b[0;32melse\u001b[0m\u001b[0;34m:\u001b[0m\u001b[0;34m\u001b[0m\u001b[0;34m\u001b[0m\u001b[0m\n\u001b[0;32m--> 277\u001b[0;31m             response_status = self.request(\n\u001b[0m\u001b[1;32m    278\u001b[0m                 \u001b[0mreason\u001b[0m\u001b[0;34m=\u001b[0m\u001b[0mreason\u001b[0m\u001b[0;34m,\u001b[0m\u001b[0;34m\u001b[0m\u001b[0;34m\u001b[0m\u001b[0m\n\u001b[1;32m    279\u001b[0m                 \u001b[0mblock\u001b[0m\u001b[0;34m=\u001b[0m\u001b[0;32mTrue\u001b[0m\u001b[0;34m,\u001b[0m\u001b[0;34m\u001b[0m\u001b[0;34m\u001b[0m\u001b[0m\n",
      "\u001b[0;32m~/anaconda3/envs/pysyft/lib/python3.9/site-packages/syft/core/pointer/pointer.py\u001b[0m in \u001b[0;36mrequest\u001b[0;34m(self, reason, block, timeout_secs, verbose)\u001b[0m\n\u001b[1;32m    445\u001b[0m \u001b[0;34m\u001b[0m\u001b[0m\n\u001b[1;32m    446\u001b[0m             \u001b[0;31m# relative\u001b[0m\u001b[0;34m\u001b[0m\u001b[0;34m\u001b[0m\u001b[0;34m\u001b[0m\u001b[0m\n\u001b[0;32m--> 447\u001b[0;31m             \u001b[0;32mfrom\u001b[0m \u001b[0;34m.\u001b[0m\u001b[0;34m.\u001b[0m\u001b[0mnode\u001b[0m\u001b[0;34m.\u001b[0m\u001b[0mdomain\u001b[0m\u001b[0;34m.\u001b[0m\u001b[0mservice\u001b[0m \u001b[0;32mimport\u001b[0m \u001b[0mRequestAnswerMessage\u001b[0m\u001b[0;34m\u001b[0m\u001b[0;34m\u001b[0m\u001b[0m\n\u001b[0m\u001b[1;32m    448\u001b[0m             \u001b[0;32mfrom\u001b[0m \u001b[0;34m.\u001b[0m\u001b[0;34m.\u001b[0m\u001b[0mnode\u001b[0m\u001b[0;34m.\u001b[0m\u001b[0mdomain\u001b[0m\u001b[0;34m.\u001b[0m\u001b[0mservice\u001b[0m \u001b[0;32mimport\u001b[0m \u001b[0mRequestStatus\u001b[0m\u001b[0;34m\u001b[0m\u001b[0;34m\u001b[0m\u001b[0m\n\u001b[1;32m    449\u001b[0m \u001b[0;34m\u001b[0m\u001b[0m\n",
      "\u001b[0;31mModuleNotFoundError\u001b[0m: No module named 'syft.core.node.domain.service'"
     ]
    }
   ],
   "source": [
    "value_of_goods_exported_to_egypt.get(request_block=True, delete_obj=False, reason=\"Goods value exported to Egypt\")"
   ]
  },
  {
   "cell_type": "code",
   "execution_count": 120,
   "id": "a7f10dad",
   "metadata": {},
   "outputs": [
    {
     "ename": "ModuleNotFoundError",
     "evalue": "No module named 'syft.core.node.domain.service'",
     "output_type": "error",
     "traceback": [
      "\u001b[0;31m---------------------------------------------------------------------------\u001b[0m",
      "\u001b[0;31mModuleNotFoundError\u001b[0m                       Traceback (most recent call last)",
      "\u001b[0;32m<ipython-input-120-3a1acfca2aa9>\u001b[0m in \u001b[0;36m<module>\u001b[0;34m\u001b[0m\n\u001b[0;32m----> 1\u001b[0;31m \u001b[0mvalue_of_goods_reexported_to_egypt\u001b[0m\u001b[0;34m.\u001b[0m\u001b[0mget\u001b[0m\u001b[0;34m(\u001b[0m\u001b[0mrequest_block\u001b[0m\u001b[0;34m=\u001b[0m\u001b[0;32mTrue\u001b[0m\u001b[0;34m,\u001b[0m \u001b[0mdelete_obj\u001b[0m\u001b[0;34m=\u001b[0m\u001b[0;32mFalse\u001b[0m\u001b[0;34m,\u001b[0m \u001b[0mreason\u001b[0m\u001b[0;34m=\u001b[0m\u001b[0;34m\"Goods value Re-Exported to Egypt\"\u001b[0m\u001b[0;34m)\u001b[0m\u001b[0;34m\u001b[0m\u001b[0;34m\u001b[0m\u001b[0m\n\u001b[0m",
      "\u001b[0;32m~/anaconda3/envs/pysyft/lib/python3.9/site-packages/syft/core/pointer/pointer.py\u001b[0m in \u001b[0;36mget\u001b[0;34m(self, request_block, timeout_secs, reason, delete_obj, verbose)\u001b[0m\n\u001b[1;32m    275\u001b[0m             \u001b[0mresult\u001b[0m \u001b[0;34m=\u001b[0m \u001b[0mself\u001b[0m\u001b[0;34m.\u001b[0m\u001b[0m_get\u001b[0m\u001b[0;34m(\u001b[0m\u001b[0mdelete_obj\u001b[0m\u001b[0;34m=\u001b[0m\u001b[0mdelete_obj\u001b[0m\u001b[0;34m,\u001b[0m \u001b[0mverbose\u001b[0m\u001b[0;34m=\u001b[0m\u001b[0mverbose\u001b[0m\u001b[0;34m)\u001b[0m\u001b[0;34m\u001b[0m\u001b[0;34m\u001b[0m\u001b[0m\n\u001b[1;32m    276\u001b[0m         \u001b[0;32melse\u001b[0m\u001b[0;34m:\u001b[0m\u001b[0;34m\u001b[0m\u001b[0;34m\u001b[0m\u001b[0m\n\u001b[0;32m--> 277\u001b[0;31m             response_status = self.request(\n\u001b[0m\u001b[1;32m    278\u001b[0m                 \u001b[0mreason\u001b[0m\u001b[0;34m=\u001b[0m\u001b[0mreason\u001b[0m\u001b[0;34m,\u001b[0m\u001b[0;34m\u001b[0m\u001b[0;34m\u001b[0m\u001b[0m\n\u001b[1;32m    279\u001b[0m                 \u001b[0mblock\u001b[0m\u001b[0;34m=\u001b[0m\u001b[0;32mTrue\u001b[0m\u001b[0;34m,\u001b[0m\u001b[0;34m\u001b[0m\u001b[0;34m\u001b[0m\u001b[0m\n",
      "\u001b[0;32m~/anaconda3/envs/pysyft/lib/python3.9/site-packages/syft/core/pointer/pointer.py\u001b[0m in \u001b[0;36mrequest\u001b[0;34m(self, reason, block, timeout_secs, verbose)\u001b[0m\n\u001b[1;32m    445\u001b[0m \u001b[0;34m\u001b[0m\u001b[0m\n\u001b[1;32m    446\u001b[0m             \u001b[0;31m# relative\u001b[0m\u001b[0;34m\u001b[0m\u001b[0;34m\u001b[0m\u001b[0;34m\u001b[0m\u001b[0m\n\u001b[0;32m--> 447\u001b[0;31m             \u001b[0;32mfrom\u001b[0m \u001b[0;34m.\u001b[0m\u001b[0;34m.\u001b[0m\u001b[0mnode\u001b[0m\u001b[0;34m.\u001b[0m\u001b[0mdomain\u001b[0m\u001b[0;34m.\u001b[0m\u001b[0mservice\u001b[0m \u001b[0;32mimport\u001b[0m \u001b[0mRequestAnswerMessage\u001b[0m\u001b[0;34m\u001b[0m\u001b[0;34m\u001b[0m\u001b[0m\n\u001b[0m\u001b[1;32m    448\u001b[0m             \u001b[0;32mfrom\u001b[0m \u001b[0;34m.\u001b[0m\u001b[0;34m.\u001b[0m\u001b[0mnode\u001b[0m\u001b[0;34m.\u001b[0m\u001b[0mdomain\u001b[0m\u001b[0;34m.\u001b[0m\u001b[0mservice\u001b[0m \u001b[0;32mimport\u001b[0m \u001b[0mRequestStatus\u001b[0m\u001b[0;34m\u001b[0m\u001b[0;34m\u001b[0m\u001b[0m\n\u001b[1;32m    449\u001b[0m \u001b[0;34m\u001b[0m\u001b[0m\n",
      "\u001b[0;31mModuleNotFoundError\u001b[0m: No module named 'syft.core.node.domain.service'"
     ]
    }
   ],
   "source": [
    "value_of_goods_reexported_to_egypt.get(request_block=True, delete_obj=False, reason=\"Goods value Re-Exported to Egypt\")"
   ]
  },
  {
   "cell_type": "code",
   "execution_count": 121,
   "id": "81c2c381",
   "metadata": {},
   "outputs": [
    {
     "name": "stdout",
     "output_type": "stream",
     "text": [
      "Total trade value($) of the goods Exported to Egypt from Canada: $4332428\n"
     ]
    }
   ],
   "source": [
    "exported_goods_value = value_of_goods_exported_to_egypt.get(delete_obj=False)\n",
    "reexported_goods_value = value_of_goods_reexported_to_egypt.get(delete_obj=False)\n",
    "print(f\"Total trade value($) of the goods Exported to Egypt from Canada: ${imported_goods_value + reimported_goods_value}\")"
   ]
  },
  {
   "cell_type": "markdown",
   "id": "6ed7a86a",
   "metadata": {},
   "source": [
    "*Great !!! We successfully, finished our analysis.*"
   ]
  },
  {
   "cell_type": "code",
   "execution_count": null,
   "id": "d304bb45",
   "metadata": {},
   "outputs": [],
   "source": []
  }
 ],
 "metadata": {
  "kernelspec": {
   "display_name": "Python 3",
   "language": "python",
   "name": "python3"
  },
  "language_info": {
   "codemirror_mode": {
    "name": "ipython",
    "version": 3
   },
   "file_extension": ".py",
   "mimetype": "text/x-python",
   "name": "python",
   "nbconvert_exporter": "python",
   "pygments_lexer": "ipython3",
   "version": "3.9.6"
  }
 },
 "nbformat": 4,
 "nbformat_minor": 5
}
