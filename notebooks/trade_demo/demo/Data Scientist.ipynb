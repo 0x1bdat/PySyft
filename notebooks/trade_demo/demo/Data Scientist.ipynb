{
 "cells": [
  {
   "cell_type": "code",
   "execution_count": 1,
   "id": "089dcd10",
   "metadata": {},
   "outputs": [
    {
     "name": "stdout",
     "output_type": "stream",
     "text": [
      "Seeding DB with roles!\n"
     ]
    }
   ],
   "source": [
    "import pandas as pd\n",
    "import syft as sy\n",
    "import numpy as np\n",
    "sy.logger.remove()"
   ]
  },
  {
   "cell_type": "markdown",
   "id": "6025d4af",
   "metadata": {},
   "source": [
    "### Logging into the domain Nodes"
   ]
  },
  {
   "cell_type": "code",
   "execution_count": 2,
   "id": "0db3e249",
   "metadata": {},
   "outputs": [
    {
     "name": "stdout",
     "output_type": "stream",
     "text": [
      "Connecting to http://localhost:8081... done! \t Logging into canada... done!\n",
      "Connecting to http://localhost:8082... done! \t Logging into italy... done!\n"
     ]
    }
   ],
   "source": [
    "# We will login into Canada and Italy domain node\n",
    "ca = sy.login(email=\"sheldon@caltech.edu\", password=\"bazinga\", port=8081)\n",
    "it = sy.login(email=\"sheldon@caltech.edu\", password=\"bazinga\", port=8082)"
   ]
  },
  {
   "cell_type": "code",
   "execution_count": 17,
   "id": "f451587a",
   "metadata": {},
   "outputs": [
    {
     "data": {
      "text/html": [
       "<div>\n",
       "<style scoped>\n",
       "    .dataframe tbody tr th:only-of-type {\n",
       "        vertical-align: middle;\n",
       "    }\n",
       "\n",
       "    .dataframe tbody tr th {\n",
       "        vertical-align: top;\n",
       "    }\n",
       "\n",
       "    .dataframe thead th {\n",
       "        text-align: right;\n",
       "    }\n",
       "</style>\n",
       "<table border=\"1\" class=\"dataframe\">\n",
       "  <thead>\n",
       "    <tr style=\"text-align: right;\">\n",
       "      <th></th>\n",
       "      <th>data</th>\n",
       "      <th>id</th>\n",
       "      <th>name</th>\n",
       "      <th>description</th>\n",
       "      <th>tags</th>\n",
       "    </tr>\n",
       "  </thead>\n",
       "  <tbody>\n",
       "    <tr>\n",
       "      <th>0</th>\n",
       "      <td>[{'name': 'feb2020-100', 'id': '57e00ef9-3073-...</td>\n",
       "      <td>8d974739-2f47-43fe-bb0a-98d7608b8ac4</td>\n",
       "      <td>Canada Trade Data - First 100 rows</td>\n",
       "      <td>A collection of reports from Canada's statisti...</td>\n",
       "      <td>[]</td>\n",
       "    </tr>\n",
       "    <tr>\n",
       "      <th>1</th>\n",
       "      <td>[{'name': 'feb2020-100', 'id': '65f584fa-2a86-...</td>\n",
       "      <td>d003ae2b-917b-4ff2-9920-a68aadd530a1</td>\n",
       "      <td>Canada Trade Data - First 100 rows</td>\n",
       "      <td>A collection of reports from Canada's statisti...</td>\n",
       "      <td>[]</td>\n",
       "    </tr>\n",
       "  </tbody>\n",
       "</table>\n",
       "</div>"
      ],
      "text/plain": [
       "<syft.core.node.common.client_manager.dataset_api.DatasetRequestAPI at 0x7fe6e1a25190>"
      ]
     },
     "execution_count": 17,
     "metadata": {},
     "output_type": "execute_result"
    }
   ],
   "source": [
    "ca.datasets"
   ]
  },
  {
   "cell_type": "code",
   "execution_count": 18,
   "id": "5642a57e",
   "metadata": {},
   "outputs": [
    {
     "data": {
      "text/html": [
       "<div>\n",
       "<style scoped>\n",
       "    .dataframe tbody tr th:only-of-type {\n",
       "        vertical-align: middle;\n",
       "    }\n",
       "\n",
       "    .dataframe tbody tr th {\n",
       "        vertical-align: top;\n",
       "    }\n",
       "\n",
       "    .dataframe thead th {\n",
       "        text-align: right;\n",
       "    }\n",
       "</style>\n",
       "<table border=\"1\" class=\"dataframe\">\n",
       "  <thead>\n",
       "    <tr style=\"text-align: right;\">\n",
       "      <th></th>\n",
       "      <th>tags</th>\n",
       "      <th>description</th>\n",
       "      <th>id</th>\n",
       "      <th>data</th>\n",
       "      <th>name</th>\n",
       "    </tr>\n",
       "  </thead>\n",
       "  <tbody>\n",
       "    <tr>\n",
       "      <th>0</th>\n",
       "      <td>[]</td>\n",
       "      <td>A collection of reports from iStat's statistic...</td>\n",
       "      <td>deff7e0b-63c9-4eed-92ab-a334d09bbe92</td>\n",
       "      <td>[{'name': 'feb2020-100', 'id': '47eaf944-6d8b-...</td>\n",
       "      <td>Italy Trade Data - First 100 rows</td>\n",
       "    </tr>\n",
       "    <tr>\n",
       "      <th>1</th>\n",
       "      <td>[]</td>\n",
       "      <td>A collection of reports from iStat's statistic...</td>\n",
       "      <td>c09e1a0c-8314-4338-8ea0-766739fad841</td>\n",
       "      <td>[{'name': 'feb2020-100', 'id': 'd648a7a5-7a45-...</td>\n",
       "      <td>Italy Trade Data - First 100 rows</td>\n",
       "    </tr>\n",
       "  </tbody>\n",
       "</table>\n",
       "</div>"
      ],
      "text/plain": [
       "<syft.core.node.common.client_manager.dataset_api.DatasetRequestAPI at 0x7fe6d1c62e80>"
      ]
     },
     "execution_count": 18,
     "metadata": {},
     "output_type": "execute_result"
    }
   ],
   "source": [
    "it.datasets"
   ]
  },
  {
   "cell_type": "code",
   "execution_count": 19,
   "id": "04f6749d-a513-4c39-b54c-a39b7af73ea2",
   "metadata": {},
   "outputs": [
    {
     "data": {
      "text/plain": [
       "10.0"
      ]
     },
     "execution_count": 19,
     "metadata": {},
     "output_type": "execute_result"
    }
   ],
   "source": [
    "ca.privacy_budget"
   ]
  },
  {
   "cell_type": "code",
   "execution_count": 20,
   "id": "e65df309-4619-4585-8c32-bc829352fe76",
   "metadata": {},
   "outputs": [
    {
     "data": {
      "text/plain": [
       "10.0"
      ]
     },
     "execution_count": 20,
     "metadata": {},
     "output_type": "execute_result"
    }
   ],
   "source": [
    "it.privacy_budget"
   ]
  },
  {
   "cell_type": "code",
   "execution_count": 21,
   "id": "217d5f06",
   "metadata": {},
   "outputs": [],
   "source": [
    "ca_data = ca.datasets[1]['feb2020-100']\n",
    "it_data = it.datasets[1]['feb2020-100']"
   ]
  },
  {
   "cell_type": "code",
   "execution_count": 22,
   "id": "8e6e4700-a1c9-433c-981e-acfa2bf37353",
   "metadata": {},
   "outputs": [
    {
     "data": {
      "text/plain": [
       "<TensorWrappedSingleEntityPhiTensorPointer -> canada:65f584fa2a86440782a658ec4f29b32f>"
      ]
     },
     "execution_count": 22,
     "metadata": {},
     "output_type": "execute_result"
    }
   ],
   "source": [
    "ca_data"
   ]
  },
  {
   "cell_type": "code",
   "execution_count": 24,
   "id": "8049bf70",
   "metadata": {},
   "outputs": [],
   "source": [
    "# result = ca_data + it_data"
   ]
  },
  {
   "cell_type": "code",
   "execution_count": 25,
   "id": "d5b94e05-5c3b-458b-9a99-ea234d12ca2a",
   "metadata": {},
   "outputs": [],
   "source": [
    "result = ca_data.share(it)"
   ]
  },
  {
   "cell_type": "code",
   "execution_count": 41,
   "id": "1d570ea4",
   "metadata": {},
   "outputs": [
    {
     "name": "stdout",
     "output_type": "stream",
     "text": [
      "a\n",
      "b\n",
      "c\n",
      "d\n",
      "a\n",
      "b\n",
      "c\n",
      "d\n"
     ]
    }
   ],
   "source": [
    "public_result = result.publish(sigma=10)"
   ]
  },
  {
   "cell_type": "code",
   "execution_count": 44,
   "id": "05df4ebb",
   "metadata": {},
   "outputs": [
    {
     "data": {
      "text/plain": [
       "Tensor(child=ShareTensor(child=[[-10   7   0]\n",
       " [ 13 -19   4]\n",
       " [ -4  -1  -4]\n",
       " [-18   8  16]\n",
       " [ 17   8 -14]\n",
       " [ 10 -15  -7]\n",
       " [  1  -5  13]\n",
       " [ -5   2   6]\n",
       " [  0  16 -13]\n",
       " [ 20 -19  30]]))"
      ]
     },
     "execution_count": 44,
     "metadata": {},
     "output_type": "execute_result"
    }
   ],
   "source": [
    "public_result.get()"
   ]
  },
  {
   "cell_type": "code",
   "execution_count": 45,
   "id": "c19a3ff5-8188-4ddc-b10a-e7c268473d08",
   "metadata": {},
   "outputs": [
    {
     "data": {
      "text/plain": [
       "10.0"
      ]
     },
     "execution_count": 45,
     "metadata": {},
     "output_type": "execute_result"
    }
   ],
   "source": [
    "it.privacy_budget"
   ]
  },
  {
   "cell_type": "code",
   "execution_count": 46,
   "id": "ef6d3dd9-7aad-4d62-95c4-0309e88ef284",
   "metadata": {},
   "outputs": [
    {
     "data": {
      "text/plain": [
       "10.0"
      ]
     },
     "execution_count": 46,
     "metadata": {},
     "output_type": "execute_result"
    }
   ],
   "source": [
    "ca.privacy_budget"
   ]
  },
  {
   "cell_type": "code",
   "execution_count": null,
   "id": "f75435dd-0c35-4a63-a971-f6e3d858cc31",
   "metadata": {},
   "outputs": [],
   "source": []
  }
 ],
 "metadata": {
  "kernelspec": {
   "display_name": "Python 3",
   "language": "python",
   "name": "python3"
  },
  "language_info": {
   "codemirror_mode": {
    "name": "ipython",
    "version": 3
   },
   "file_extension": ".py",
   "mimetype": "text/x-python",
   "name": "python",
   "nbconvert_exporter": "python",
   "pygments_lexer": "ipython3",
   "version": "3.8.10"
  }
 },
 "nbformat": 4,
 "nbformat_minor": 5
}
