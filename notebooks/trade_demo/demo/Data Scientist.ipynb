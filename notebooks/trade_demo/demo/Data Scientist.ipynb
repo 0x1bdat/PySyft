{
 "cells": [
  {
   "cell_type": "code",
   "execution_count": 1,
   "id": "089dcd10",
   "metadata": {},
   "outputs": [],
   "source": [
    "import pandas as pd\n",
    "import syft as sy\n",
    "import numpy as np\n",
    "sy.logger.remove()"
   ]
  },
  {
   "cell_type": "code",
   "execution_count": 2,
   "id": "97665a15-947e-4210-bd03-a9a4ef7eefb7",
   "metadata": {},
   "outputs": [],
   "source": [
    "from syft.core.node.common.node_service.object_search.obj_search_service import ObjectSearchMessage"
   ]
  },
  {
   "cell_type": "markdown",
   "id": "6025d4af",
   "metadata": {},
   "source": [
    "### Logging into the domain Nodes"
   ]
  },
  {
   "cell_type": "code",
<<<<<<< HEAD
   "execution_count": 73,
=======
   "execution_count": 3,
>>>>>>> 6c89814e11339c8198827806e14219a04816b365
   "id": "0db3e249",
   "metadata": {},
   "outputs": [
    {
     "name": "stdout",
     "output_type": "stream",
     "text": [
<<<<<<< HEAD
      "Connecting to http://localhost:8081... done! \t Logging into musing_kearns... done!\n",
      "Connecting to http://localhost:8082... done! \t Logging into competent_hassabis... done!\n"
=======
      "Connecting to http://localhost:8081... done! \t Logging into keen_silver... done!\n",
      "Connecting to http://localhost:8082... done! \t Logging into hungry_vapnik... done!\n"
>>>>>>> 6c89814e11339c8198827806e14219a04816b365
     ]
    }
   ],
   "source": [
    "# We will login into Canada and Italy domain node\n",
    "ca = sy.login(email=\"sheldon@caltech.edu\", password=\"bazinga\", port=8081)\n",
    "it = sy.login(email=\"sheldon@caltech.edu\", password=\"bazinga\", port=8082)"
   ]
  },
  {
   "cell_type": "code",
<<<<<<< HEAD
   "execution_count": 74,
=======
   "execution_count": 11,
>>>>>>> 6c89814e11339c8198827806e14219a04816b365
   "id": "f451587a",
   "metadata": {},
   "outputs": [
    {
     "data": {
      "text/html": [
       "<style>\n",
       "                #myInput {\n",
       "                  background-position: 10px 12px; /* Position the search icon */\n",
       "                  background-repeat: no-repeat; /* Do not repeat the icon image */\n",
       "                  background-color: #bbb;\n",
       "                  width: 98%; /* Full-width */\n",
       "                  font-size: 14px; /* Increase font-size */\n",
       "                  padding: 12px 20px 12px 40px; /* Add some padding */\n",
       "                  border: 1px solid #ddd; /* Add a grey border */\n",
       "                  margin-bottom: 12px; /* Add some space below the input */\n",
       "                }\n",
       "\n",
       "                #myTable {\n",
       "                  border-collapse: collapse; /* Collapse borders */\n",
       "                  width: 100%; /* Full-width */\n",
       "                  border: 1px solid #ddd; /* Add a grey border */\n",
       "                  font-size: 14px; /* Increase font-size */\n",
       "                }\n",
       "\n",
       "                #myTable th, #myTable td {\n",
       "                  text-align: left; /* Left-align text */\n",
       "                  padding: 10px; /* Add padding */\n",
       "                }\n",
       "\n",
       "                #myTable tr {\n",
       "                  /* Add a bottom border to all table rows */\n",
       "                  border-bottom: 1px solid #ddd;\n",
       "                }\n",
       "\n",
       "                #myTable tr.header, #myTable tr:hover {\n",
       "                  /* Add a grey background color to the table header and on hover */\n",
       "                  background-color: #777;\n",
       "                }\n",
       "                </style>\n",
       "\n",
       "                <table id=\"myTable\" style=\"width:1000px\">\n",
       "                  <tr class=\"header\">\n",
       "                    <th style=\"width:30px\">Idx</th>\n",
       "                    <th style=\"width:20%;\">Name</th>\n",
       "                    <th style=\"width:35%;\">Description</th>\n",
       "                    <th style=\"width:20%;\">Assets</th>\n",
       "                    <th style=\"width:300px;\">Id</th>\n",
       "                  </tr>\n",
       "                \n",
       "\n",
       "          <tr>\n",
       "            <td>[0]</td>\n",
       "            <td>Canada Trade Data - First few rows4</td>\n",
       "            <td>A collection of reports from Canada's statistics \n",
       "                    bureau about how much it thinks it imports and exports from other countries.</td>\n",
       "            <td>[\"Canada Trade\"] -> Tensor<br /><br /></td>\n",
<<<<<<< HEAD
       "            <td>73a1a7b8-11a9-466f-a1c0-91f54e5c6ecd</td>\n",
=======
       "            <td>26035d6e-bad6-489a-8bdb-2e734628b651</td>\n",
>>>>>>> 6c89814e11339c8198827806e14219a04816b365
       "          </tr>\n",
       "        </table>\n",
       "\n",
       "        <script>\n",
       "        function myFunction() {\n",
       "          // Declare variables\n",
       "          var input, filter, table, tr, td, i, txtValue;\n",
       "          input = document.getElementById(\"myInput\");\n",
       "          filter = input.value.toUpperCase();\n",
       "          table = document.getElementById(\"myTable\");\n",
       "          tr = table.getElementsByTagName(\"tr\");\n",
       "\n",
       "          // Loop through all table rows, and hide those who don't match the search query\n",
       "          for (i = 0; i < tr.length; i++) {\n",
       "            name_td = tr[i].getElementsByTagName(\"td\")[1];\n",
       "            desc_td = tr[i].getElementsByTagName(\"td\")[2];\n",
       "            asset_td = tr[i].getElementsByTagName(\"td\")[3];\n",
       "            id_td = tr[i].getElementsByTagName(\"td\")[4];\n",
       "            if (name_td || desc_td || asset_td || id_td) {\n",
       "              name_txtValue = name_td.textContent || name_td.innerText;\n",
       "              desc_txtValue = desc_td.textContent || name_td.innerText;\n",
       "              asset_txtValue = asset_td.textContent || name_td.innerText;\n",
       "              id_txtValue = id_td.textContent || name_td.innerText;\n",
       "              name_bool = name_txtValue.toUpperCase().indexOf(filter) > -1;\n",
       "              desc_bool = desc_txtValue.toUpperCase().indexOf(filter) > -1;\n",
       "              asset_bool = asset_txtValue.toUpperCase().indexOf(filter) > -1;\n",
       "              id_bool = id_txtValue.toUpperCase().indexOf(filter) > -1;\n",
       "              if (name_bool || desc_bool || asset_bool || id_bool) {\n",
       "                tr[i].style.display = \"\";\n",
       "              } else {\n",
       "                tr[i].style.display = \"none\";\n",
       "              }\n",
       "            }\n",
       "          }\n",
       "        }\n",
       "        </script>"
      ],
      "text/plain": [
<<<<<<< HEAD
       "<syft.core.node.common.client_manager.dataset_api.DatasetRequestAPI at 0x7f92f1ea90a0>"
      ]
     },
     "execution_count": 74,
=======
       "<syft.core.node.common.client_manager.dataset_api.DatasetRequestAPI at 0x7f8b39ca4550>"
      ]
     },
     "execution_count": 11,
>>>>>>> 6c89814e11339c8198827806e14219a04816b365
     "metadata": {},
     "output_type": "execute_result"
    }
   ],
   "source": [
    "ca.datasets"
   ]
  },
  {
   "cell_type": "code",
<<<<<<< HEAD
   "execution_count": 75,
=======
   "execution_count": 12,
>>>>>>> 6c89814e11339c8198827806e14219a04816b365
   "id": "5642a57e",
   "metadata": {},
   "outputs": [
    {
     "data": {
      "text/html": [
       "<style>\n",
       "                #myInput {\n",
       "                  background-position: 10px 12px; /* Position the search icon */\n",
       "                  background-repeat: no-repeat; /* Do not repeat the icon image */\n",
       "                  background-color: #bbb;\n",
       "                  width: 98%; /* Full-width */\n",
       "                  font-size: 14px; /* Increase font-size */\n",
       "                  padding: 12px 20px 12px 40px; /* Add some padding */\n",
       "                  border: 1px solid #ddd; /* Add a grey border */\n",
       "                  margin-bottom: 12px; /* Add some space below the input */\n",
       "                }\n",
       "\n",
       "                #myTable {\n",
       "                  border-collapse: collapse; /* Collapse borders */\n",
       "                  width: 100%; /* Full-width */\n",
       "                  border: 1px solid #ddd; /* Add a grey border */\n",
       "                  font-size: 14px; /* Increase font-size */\n",
       "                }\n",
       "\n",
       "                #myTable th, #myTable td {\n",
       "                  text-align: left; /* Left-align text */\n",
       "                  padding: 10px; /* Add padding */\n",
       "                }\n",
       "\n",
       "                #myTable tr {\n",
       "                  /* Add a bottom border to all table rows */\n",
       "                  border-bottom: 1px solid #ddd;\n",
       "                }\n",
       "\n",
       "                #myTable tr.header, #myTable tr:hover {\n",
       "                  /* Add a grey background color to the table header and on hover */\n",
       "                  background-color: #777;\n",
       "                }\n",
       "                </style>\n",
       "\n",
       "                <table id=\"myTable\" style=\"width:1000px\">\n",
       "                  <tr class=\"header\">\n",
       "                    <th style=\"width:30px\">Idx</th>\n",
       "                    <th style=\"width:20%;\">Name</th>\n",
       "                    <th style=\"width:35%;\">Description</th>\n",
       "                    <th style=\"width:20%;\">Assets</th>\n",
       "                    <th style=\"width:300px;\">Id</th>\n",
       "                  </tr>\n",
       "                \n",
       "\n",
       "          <tr>\n",
       "            <td>[0]</td>\n",
       "            <td>Italy Trade Data - First few rows</td>\n",
       "            <td>A collection of reports from iStat's statistics \n",
       "                    bureau about how much it thinks it imports and exports from other countries.</td>\n",
       "            <td>[\"Italy Trade\"] -> Tensor<br /><br /></td>\n",
<<<<<<< HEAD
       "            <td>40547bad-d25b-43c4-b3c0-62293e273282</td>\n",
=======
       "            <td>218c0515-458f-46b5-a938-1a8e7a92099f</td>\n",
>>>>>>> 6c89814e11339c8198827806e14219a04816b365
       "          </tr>\n",
       "        </table>\n",
       "\n",
       "        <script>\n",
       "        function myFunction() {\n",
       "          // Declare variables\n",
       "          var input, filter, table, tr, td, i, txtValue;\n",
       "          input = document.getElementById(\"myInput\");\n",
       "          filter = input.value.toUpperCase();\n",
       "          table = document.getElementById(\"myTable\");\n",
       "          tr = table.getElementsByTagName(\"tr\");\n",
       "\n",
       "          // Loop through all table rows, and hide those who don't match the search query\n",
       "          for (i = 0; i < tr.length; i++) {\n",
       "            name_td = tr[i].getElementsByTagName(\"td\")[1];\n",
       "            desc_td = tr[i].getElementsByTagName(\"td\")[2];\n",
       "            asset_td = tr[i].getElementsByTagName(\"td\")[3];\n",
       "            id_td = tr[i].getElementsByTagName(\"td\")[4];\n",
       "            if (name_td || desc_td || asset_td || id_td) {\n",
       "              name_txtValue = name_td.textContent || name_td.innerText;\n",
       "              desc_txtValue = desc_td.textContent || name_td.innerText;\n",
       "              asset_txtValue = asset_td.textContent || name_td.innerText;\n",
       "              id_txtValue = id_td.textContent || name_td.innerText;\n",
       "              name_bool = name_txtValue.toUpperCase().indexOf(filter) > -1;\n",
       "              desc_bool = desc_txtValue.toUpperCase().indexOf(filter) > -1;\n",
       "              asset_bool = asset_txtValue.toUpperCase().indexOf(filter) > -1;\n",
       "              id_bool = id_txtValue.toUpperCase().indexOf(filter) > -1;\n",
       "              if (name_bool || desc_bool || asset_bool || id_bool) {\n",
       "                tr[i].style.display = \"\";\n",
       "              } else {\n",
       "                tr[i].style.display = \"none\";\n",
       "              }\n",
       "            }\n",
       "          }\n",
       "        }\n",
       "        </script>"
      ],
      "text/plain": [
<<<<<<< HEAD
       "<syft.core.node.common.client_manager.dataset_api.DatasetRequestAPI at 0x7f93102a8610>"
      ]
     },
     "execution_count": 75,
=======
       "<syft.core.node.common.client_manager.dataset_api.DatasetRequestAPI at 0x7f8ac8eb3a90>"
      ]
     },
     "execution_count": 12,
>>>>>>> 6c89814e11339c8198827806e14219a04816b365
     "metadata": {},
     "output_type": "execute_result"
    }
   ],
   "source": [
    "it.datasets"
   ]
  },
  {
   "cell_type": "code",
<<<<<<< HEAD
   "execution_count": 76,
=======
   "execution_count": 13,
>>>>>>> 6c89814e11339c8198827806e14219a04816b365
   "id": "04f6749d-a513-4c39-b54c-a39b7af73ea2",
   "metadata": {},
   "outputs": [
    {
     "data": {
      "text/plain": [
<<<<<<< HEAD
       "77.04790358011721"
      ]
     },
     "execution_count": 76,
=======
       "200.0"
      ]
     },
     "execution_count": 13,
>>>>>>> 6c89814e11339c8198827806e14219a04816b365
     "metadata": {},
     "output_type": "execute_result"
    }
   ],
   "source": [
    "ca.privacy_budget"
   ]
  },
  {
   "cell_type": "code",
<<<<<<< HEAD
   "execution_count": 77,
=======
   "execution_count": 14,
>>>>>>> 6c89814e11339c8198827806e14219a04816b365
   "id": "e65df309-4619-4585-8c32-bc829352fe76",
   "metadata": {},
   "outputs": [
    {
     "data": {
      "text/plain": [
<<<<<<< HEAD
       "77.04790358011721"
      ]
     },
     "execution_count": 77,
=======
       "200.0"
      ]
     },
     "execution_count": 14,
>>>>>>> 6c89814e11339c8198827806e14219a04816b365
     "metadata": {},
     "output_type": "execute_result"
    }
   ],
   "source": [
    "it.privacy_budget"
   ]
  },
  {
   "cell_type": "code",
<<<<<<< HEAD
   "execution_count": 78,
=======
   "execution_count": 15,
>>>>>>> 6c89814e11339c8198827806e14219a04816b365
   "id": "217d5f06",
   "metadata": {},
   "outputs": [],
   "source": [
    "ca_data = ca.datasets[-1]['Canada Trade']\n",
    "it_data = it.datasets[-1]['Italy Trade']"
   ]
  },
  {
   "cell_type": "code",
<<<<<<< HEAD
   "execution_count": 80,
   "id": "aeb18536-d45d-468f-8490-725496823066",
   "metadata": {},
   "outputs": [],
   "source": [
    "import time"
   ]
  },
  {
   "cell_type": "code",
   "execution_count": 81,
   "id": "4326bfea-7713-447a-880a-0ee3aa05dac8",
   "metadata": {
    "tags": []
   },
   "outputs": [
    {
     "ename": "ConnectionError",
     "evalue": "('Connection aborted.', RemoteDisconnected('Remote end closed connection without response'))",
     "output_type": "error",
     "traceback": [
      "\u001b[0;31m---------------------------------------------------------------------------\u001b[0m",
      "\u001b[0;31mRemoteDisconnected\u001b[0m                        Traceback (most recent call last)",
      "\u001b[0;32m~/opt/anaconda3/envs/syft/lib/python3.9/site-packages/urllib3/connectionpool.py\u001b[0m in \u001b[0;36murlopen\u001b[0;34m(self, method, url, body, headers, retries, redirect, assert_same_host, timeout, pool_timeout, release_conn, chunked, body_pos, **response_kw)\u001b[0m\n\u001b[1;32m    698\u001b[0m             \u001b[0;31m# Make the request on the httplib connection object.\u001b[0m\u001b[0;34m\u001b[0m\u001b[0;34m\u001b[0m\u001b[0m\n\u001b[0;32m--> 699\u001b[0;31m             httplib_response = self._make_request(\n\u001b[0m\u001b[1;32m    700\u001b[0m                 \u001b[0mconn\u001b[0m\u001b[0;34m,\u001b[0m\u001b[0;34m\u001b[0m\u001b[0;34m\u001b[0m\u001b[0m\n",
      "\u001b[0;32m~/opt/anaconda3/envs/syft/lib/python3.9/site-packages/urllib3/connectionpool.py\u001b[0m in \u001b[0;36m_make_request\u001b[0;34m(self, conn, method, url, timeout, chunked, **httplib_request_kw)\u001b[0m\n\u001b[1;32m    444\u001b[0m                     \u001b[0;31m# Otherwise it looks like a bug in the code.\u001b[0m\u001b[0;34m\u001b[0m\u001b[0;34m\u001b[0m\u001b[0m\n\u001b[0;32m--> 445\u001b[0;31m                     \u001b[0msix\u001b[0m\u001b[0;34m.\u001b[0m\u001b[0mraise_from\u001b[0m\u001b[0;34m(\u001b[0m\u001b[0me\u001b[0m\u001b[0;34m,\u001b[0m \u001b[0;32mNone\u001b[0m\u001b[0;34m)\u001b[0m\u001b[0;34m\u001b[0m\u001b[0;34m\u001b[0m\u001b[0m\n\u001b[0m\u001b[1;32m    446\u001b[0m         \u001b[0;32mexcept\u001b[0m \u001b[0;34m(\u001b[0m\u001b[0mSocketTimeout\u001b[0m\u001b[0;34m,\u001b[0m \u001b[0mBaseSSLError\u001b[0m\u001b[0;34m,\u001b[0m \u001b[0mSocketError\u001b[0m\u001b[0;34m)\u001b[0m \u001b[0;32mas\u001b[0m \u001b[0me\u001b[0m\u001b[0;34m:\u001b[0m\u001b[0;34m\u001b[0m\u001b[0;34m\u001b[0m\u001b[0m\n",
      "\u001b[0;32m~/opt/anaconda3/envs/syft/lib/python3.9/site-packages/urllib3/packages/six.py\u001b[0m in \u001b[0;36mraise_from\u001b[0;34m(value, from_value)\u001b[0m\n",
      "\u001b[0;32m~/opt/anaconda3/envs/syft/lib/python3.9/site-packages/urllib3/connectionpool.py\u001b[0m in \u001b[0;36m_make_request\u001b[0;34m(self, conn, method, url, timeout, chunked, **httplib_request_kw)\u001b[0m\n\u001b[1;32m    439\u001b[0m                 \u001b[0;32mtry\u001b[0m\u001b[0;34m:\u001b[0m\u001b[0;34m\u001b[0m\u001b[0;34m\u001b[0m\u001b[0m\n\u001b[0;32m--> 440\u001b[0;31m                     \u001b[0mhttplib_response\u001b[0m \u001b[0;34m=\u001b[0m \u001b[0mconn\u001b[0m\u001b[0;34m.\u001b[0m\u001b[0mgetresponse\u001b[0m\u001b[0;34m(\u001b[0m\u001b[0;34m)\u001b[0m\u001b[0;34m\u001b[0m\u001b[0;34m\u001b[0m\u001b[0m\n\u001b[0m\u001b[1;32m    441\u001b[0m                 \u001b[0;32mexcept\u001b[0m \u001b[0mBaseException\u001b[0m \u001b[0;32mas\u001b[0m \u001b[0me\u001b[0m\u001b[0;34m:\u001b[0m\u001b[0;34m\u001b[0m\u001b[0;34m\u001b[0m\u001b[0m\n",
      "\u001b[0;32m~/opt/anaconda3/envs/syft/lib/python3.9/http/client.py\u001b[0m in \u001b[0;36mgetresponse\u001b[0;34m(self)\u001b[0m\n\u001b[1;32m   1370\u001b[0m             \u001b[0;32mtry\u001b[0m\u001b[0;34m:\u001b[0m\u001b[0;34m\u001b[0m\u001b[0;34m\u001b[0m\u001b[0m\n\u001b[0;32m-> 1371\u001b[0;31m                 \u001b[0mresponse\u001b[0m\u001b[0;34m.\u001b[0m\u001b[0mbegin\u001b[0m\u001b[0;34m(\u001b[0m\u001b[0;34m)\u001b[0m\u001b[0;34m\u001b[0m\u001b[0;34m\u001b[0m\u001b[0m\n\u001b[0m\u001b[1;32m   1372\u001b[0m             \u001b[0;32mexcept\u001b[0m \u001b[0mConnectionError\u001b[0m\u001b[0;34m:\u001b[0m\u001b[0;34m\u001b[0m\u001b[0;34m\u001b[0m\u001b[0m\n",
      "\u001b[0;32m~/opt/anaconda3/envs/syft/lib/python3.9/http/client.py\u001b[0m in \u001b[0;36mbegin\u001b[0;34m(self)\u001b[0m\n\u001b[1;32m    318\u001b[0m         \u001b[0;32mwhile\u001b[0m \u001b[0;32mTrue\u001b[0m\u001b[0;34m:\u001b[0m\u001b[0;34m\u001b[0m\u001b[0;34m\u001b[0m\u001b[0m\n\u001b[0;32m--> 319\u001b[0;31m             \u001b[0mversion\u001b[0m\u001b[0;34m,\u001b[0m \u001b[0mstatus\u001b[0m\u001b[0;34m,\u001b[0m \u001b[0mreason\u001b[0m \u001b[0;34m=\u001b[0m \u001b[0mself\u001b[0m\u001b[0;34m.\u001b[0m\u001b[0m_read_status\u001b[0m\u001b[0;34m(\u001b[0m\u001b[0;34m)\u001b[0m\u001b[0;34m\u001b[0m\u001b[0;34m\u001b[0m\u001b[0m\n\u001b[0m\u001b[1;32m    320\u001b[0m             \u001b[0;32mif\u001b[0m \u001b[0mstatus\u001b[0m \u001b[0;34m!=\u001b[0m \u001b[0mCONTINUE\u001b[0m\u001b[0;34m:\u001b[0m\u001b[0;34m\u001b[0m\u001b[0;34m\u001b[0m\u001b[0m\n",
      "\u001b[0;32m~/opt/anaconda3/envs/syft/lib/python3.9/http/client.py\u001b[0m in \u001b[0;36m_read_status\u001b[0;34m(self)\u001b[0m\n\u001b[1;32m    287\u001b[0m             \u001b[0;31m# sending a valid response.\u001b[0m\u001b[0;34m\u001b[0m\u001b[0;34m\u001b[0m\u001b[0m\n\u001b[0;32m--> 288\u001b[0;31m             raise RemoteDisconnected(\"Remote end closed connection without\"\n\u001b[0m\u001b[1;32m    289\u001b[0m                                      \" response\")\n",
      "\u001b[0;31mRemoteDisconnected\u001b[0m: Remote end closed connection without response",
      "\nDuring handling of the above exception, another exception occurred:\n",
      "\u001b[0;31mProtocolError\u001b[0m                             Traceback (most recent call last)",
      "\u001b[0;32m~/opt/anaconda3/envs/syft/lib/python3.9/site-packages/requests/adapters.py\u001b[0m in \u001b[0;36msend\u001b[0;34m(self, request, stream, timeout, verify, cert, proxies)\u001b[0m\n\u001b[1;32m    438\u001b[0m             \u001b[0;32mif\u001b[0m \u001b[0;32mnot\u001b[0m \u001b[0mchunked\u001b[0m\u001b[0;34m:\u001b[0m\u001b[0;34m\u001b[0m\u001b[0;34m\u001b[0m\u001b[0m\n\u001b[0;32m--> 439\u001b[0;31m                 resp = conn.urlopen(\n\u001b[0m\u001b[1;32m    440\u001b[0m                     \u001b[0mmethod\u001b[0m\u001b[0;34m=\u001b[0m\u001b[0mrequest\u001b[0m\u001b[0;34m.\u001b[0m\u001b[0mmethod\u001b[0m\u001b[0;34m,\u001b[0m\u001b[0;34m\u001b[0m\u001b[0;34m\u001b[0m\u001b[0m\n",
      "\u001b[0;32m~/opt/anaconda3/envs/syft/lib/python3.9/site-packages/urllib3/connectionpool.py\u001b[0m in \u001b[0;36murlopen\u001b[0;34m(self, method, url, body, headers, retries, redirect, assert_same_host, timeout, pool_timeout, release_conn, chunked, body_pos, **response_kw)\u001b[0m\n\u001b[1;32m    754\u001b[0m \u001b[0;34m\u001b[0m\u001b[0m\n\u001b[0;32m--> 755\u001b[0;31m             retries = retries.increment(\n\u001b[0m\u001b[1;32m    756\u001b[0m                 \u001b[0mmethod\u001b[0m\u001b[0;34m,\u001b[0m \u001b[0murl\u001b[0m\u001b[0;34m,\u001b[0m \u001b[0merror\u001b[0m\u001b[0;34m=\u001b[0m\u001b[0me\u001b[0m\u001b[0;34m,\u001b[0m \u001b[0m_pool\u001b[0m\u001b[0;34m=\u001b[0m\u001b[0mself\u001b[0m\u001b[0;34m,\u001b[0m \u001b[0m_stacktrace\u001b[0m\u001b[0;34m=\u001b[0m\u001b[0msys\u001b[0m\u001b[0;34m.\u001b[0m\u001b[0mexc_info\u001b[0m\u001b[0;34m(\u001b[0m\u001b[0;34m)\u001b[0m\u001b[0;34m[\u001b[0m\u001b[0;36m2\u001b[0m\u001b[0;34m]\u001b[0m\u001b[0;34m\u001b[0m\u001b[0;34m\u001b[0m\u001b[0m\n",
      "\u001b[0;32m~/opt/anaconda3/envs/syft/lib/python3.9/site-packages/urllib3/util/retry.py\u001b[0m in \u001b[0;36mincrement\u001b[0;34m(self, method, url, response, error, _pool, _stacktrace)\u001b[0m\n\u001b[1;32m    531\u001b[0m             \u001b[0;32mif\u001b[0m \u001b[0mread\u001b[0m \u001b[0;32mis\u001b[0m \u001b[0;32mFalse\u001b[0m \u001b[0;32mor\u001b[0m \u001b[0;32mnot\u001b[0m \u001b[0mself\u001b[0m\u001b[0;34m.\u001b[0m\u001b[0m_is_method_retryable\u001b[0m\u001b[0;34m(\u001b[0m\u001b[0mmethod\u001b[0m\u001b[0;34m)\u001b[0m\u001b[0;34m:\u001b[0m\u001b[0;34m\u001b[0m\u001b[0;34m\u001b[0m\u001b[0m\n\u001b[0;32m--> 532\u001b[0;31m                 \u001b[0;32mraise\u001b[0m \u001b[0msix\u001b[0m\u001b[0;34m.\u001b[0m\u001b[0mreraise\u001b[0m\u001b[0;34m(\u001b[0m\u001b[0mtype\u001b[0m\u001b[0;34m(\u001b[0m\u001b[0merror\u001b[0m\u001b[0;34m)\u001b[0m\u001b[0;34m,\u001b[0m \u001b[0merror\u001b[0m\u001b[0;34m,\u001b[0m \u001b[0m_stacktrace\u001b[0m\u001b[0;34m)\u001b[0m\u001b[0;34m\u001b[0m\u001b[0;34m\u001b[0m\u001b[0m\n\u001b[0m\u001b[1;32m    533\u001b[0m             \u001b[0;32melif\u001b[0m \u001b[0mread\u001b[0m \u001b[0;32mis\u001b[0m \u001b[0;32mnot\u001b[0m \u001b[0;32mNone\u001b[0m\u001b[0;34m:\u001b[0m\u001b[0;34m\u001b[0m\u001b[0;34m\u001b[0m\u001b[0m\n",
      "\u001b[0;32m~/opt/anaconda3/envs/syft/lib/python3.9/site-packages/urllib3/packages/six.py\u001b[0m in \u001b[0;36mreraise\u001b[0;34m(tp, value, tb)\u001b[0m\n\u001b[1;32m    768\u001b[0m             \u001b[0;32mif\u001b[0m \u001b[0mvalue\u001b[0m\u001b[0;34m.\u001b[0m\u001b[0m__traceback__\u001b[0m \u001b[0;32mis\u001b[0m \u001b[0;32mnot\u001b[0m \u001b[0mtb\u001b[0m\u001b[0;34m:\u001b[0m\u001b[0;34m\u001b[0m\u001b[0;34m\u001b[0m\u001b[0m\n\u001b[0;32m--> 769\u001b[0;31m                 \u001b[0;32mraise\u001b[0m \u001b[0mvalue\u001b[0m\u001b[0;34m.\u001b[0m\u001b[0mwith_traceback\u001b[0m\u001b[0;34m(\u001b[0m\u001b[0mtb\u001b[0m\u001b[0;34m)\u001b[0m\u001b[0;34m\u001b[0m\u001b[0;34m\u001b[0m\u001b[0m\n\u001b[0m\u001b[1;32m    770\u001b[0m             \u001b[0;32mraise\u001b[0m \u001b[0mvalue\u001b[0m\u001b[0;34m\u001b[0m\u001b[0;34m\u001b[0m\u001b[0m\n",
      "\u001b[0;32m~/opt/anaconda3/envs/syft/lib/python3.9/site-packages/urllib3/connectionpool.py\u001b[0m in \u001b[0;36murlopen\u001b[0;34m(self, method, url, body, headers, retries, redirect, assert_same_host, timeout, pool_timeout, release_conn, chunked, body_pos, **response_kw)\u001b[0m\n\u001b[1;32m    698\u001b[0m             \u001b[0;31m# Make the request on the httplib connection object.\u001b[0m\u001b[0;34m\u001b[0m\u001b[0;34m\u001b[0m\u001b[0m\n\u001b[0;32m--> 699\u001b[0;31m             httplib_response = self._make_request(\n\u001b[0m\u001b[1;32m    700\u001b[0m                 \u001b[0mconn\u001b[0m\u001b[0;34m,\u001b[0m\u001b[0;34m\u001b[0m\u001b[0;34m\u001b[0m\u001b[0m\n",
      "\u001b[0;32m~/opt/anaconda3/envs/syft/lib/python3.9/site-packages/urllib3/connectionpool.py\u001b[0m in \u001b[0;36m_make_request\u001b[0;34m(self, conn, method, url, timeout, chunked, **httplib_request_kw)\u001b[0m\n\u001b[1;32m    444\u001b[0m                     \u001b[0;31m# Otherwise it looks like a bug in the code.\u001b[0m\u001b[0;34m\u001b[0m\u001b[0;34m\u001b[0m\u001b[0m\n\u001b[0;32m--> 445\u001b[0;31m                     \u001b[0msix\u001b[0m\u001b[0;34m.\u001b[0m\u001b[0mraise_from\u001b[0m\u001b[0;34m(\u001b[0m\u001b[0me\u001b[0m\u001b[0;34m,\u001b[0m \u001b[0;32mNone\u001b[0m\u001b[0;34m)\u001b[0m\u001b[0;34m\u001b[0m\u001b[0;34m\u001b[0m\u001b[0m\n\u001b[0m\u001b[1;32m    446\u001b[0m         \u001b[0;32mexcept\u001b[0m \u001b[0;34m(\u001b[0m\u001b[0mSocketTimeout\u001b[0m\u001b[0;34m,\u001b[0m \u001b[0mBaseSSLError\u001b[0m\u001b[0;34m,\u001b[0m \u001b[0mSocketError\u001b[0m\u001b[0;34m)\u001b[0m \u001b[0;32mas\u001b[0m \u001b[0me\u001b[0m\u001b[0;34m:\u001b[0m\u001b[0;34m\u001b[0m\u001b[0;34m\u001b[0m\u001b[0m\n",
      "\u001b[0;32m~/opt/anaconda3/envs/syft/lib/python3.9/site-packages/urllib3/packages/six.py\u001b[0m in \u001b[0;36mraise_from\u001b[0;34m(value, from_value)\u001b[0m\n",
      "\u001b[0;32m~/opt/anaconda3/envs/syft/lib/python3.9/site-packages/urllib3/connectionpool.py\u001b[0m in \u001b[0;36m_make_request\u001b[0;34m(self, conn, method, url, timeout, chunked, **httplib_request_kw)\u001b[0m\n\u001b[1;32m    439\u001b[0m                 \u001b[0;32mtry\u001b[0m\u001b[0;34m:\u001b[0m\u001b[0;34m\u001b[0m\u001b[0;34m\u001b[0m\u001b[0m\n\u001b[0;32m--> 440\u001b[0;31m                     \u001b[0mhttplib_response\u001b[0m \u001b[0;34m=\u001b[0m \u001b[0mconn\u001b[0m\u001b[0;34m.\u001b[0m\u001b[0mgetresponse\u001b[0m\u001b[0;34m(\u001b[0m\u001b[0;34m)\u001b[0m\u001b[0;34m\u001b[0m\u001b[0;34m\u001b[0m\u001b[0m\n\u001b[0m\u001b[1;32m    441\u001b[0m                 \u001b[0;32mexcept\u001b[0m \u001b[0mBaseException\u001b[0m \u001b[0;32mas\u001b[0m \u001b[0me\u001b[0m\u001b[0;34m:\u001b[0m\u001b[0;34m\u001b[0m\u001b[0;34m\u001b[0m\u001b[0m\n",
      "\u001b[0;32m~/opt/anaconda3/envs/syft/lib/python3.9/http/client.py\u001b[0m in \u001b[0;36mgetresponse\u001b[0;34m(self)\u001b[0m\n\u001b[1;32m   1370\u001b[0m             \u001b[0;32mtry\u001b[0m\u001b[0;34m:\u001b[0m\u001b[0;34m\u001b[0m\u001b[0;34m\u001b[0m\u001b[0m\n\u001b[0;32m-> 1371\u001b[0;31m                 \u001b[0mresponse\u001b[0m\u001b[0;34m.\u001b[0m\u001b[0mbegin\u001b[0m\u001b[0;34m(\u001b[0m\u001b[0;34m)\u001b[0m\u001b[0;34m\u001b[0m\u001b[0;34m\u001b[0m\u001b[0m\n\u001b[0m\u001b[1;32m   1372\u001b[0m             \u001b[0;32mexcept\u001b[0m \u001b[0mConnectionError\u001b[0m\u001b[0;34m:\u001b[0m\u001b[0;34m\u001b[0m\u001b[0;34m\u001b[0m\u001b[0m\n",
      "\u001b[0;32m~/opt/anaconda3/envs/syft/lib/python3.9/http/client.py\u001b[0m in \u001b[0;36mbegin\u001b[0;34m(self)\u001b[0m\n\u001b[1;32m    318\u001b[0m         \u001b[0;32mwhile\u001b[0m \u001b[0;32mTrue\u001b[0m\u001b[0;34m:\u001b[0m\u001b[0;34m\u001b[0m\u001b[0;34m\u001b[0m\u001b[0m\n\u001b[0;32m--> 319\u001b[0;31m             \u001b[0mversion\u001b[0m\u001b[0;34m,\u001b[0m \u001b[0mstatus\u001b[0m\u001b[0;34m,\u001b[0m \u001b[0mreason\u001b[0m \u001b[0;34m=\u001b[0m \u001b[0mself\u001b[0m\u001b[0;34m.\u001b[0m\u001b[0m_read_status\u001b[0m\u001b[0;34m(\u001b[0m\u001b[0;34m)\u001b[0m\u001b[0;34m\u001b[0m\u001b[0;34m\u001b[0m\u001b[0m\n\u001b[0m\u001b[1;32m    320\u001b[0m             \u001b[0;32mif\u001b[0m \u001b[0mstatus\u001b[0m \u001b[0;34m!=\u001b[0m \u001b[0mCONTINUE\u001b[0m\u001b[0;34m:\u001b[0m\u001b[0;34m\u001b[0m\u001b[0;34m\u001b[0m\u001b[0m\n",
      "\u001b[0;32m~/opt/anaconda3/envs/syft/lib/python3.9/http/client.py\u001b[0m in \u001b[0;36m_read_status\u001b[0;34m(self)\u001b[0m\n\u001b[1;32m    287\u001b[0m             \u001b[0;31m# sending a valid response.\u001b[0m\u001b[0;34m\u001b[0m\u001b[0;34m\u001b[0m\u001b[0m\n\u001b[0;32m--> 288\u001b[0;31m             raise RemoteDisconnected(\"Remote end closed connection without\"\n\u001b[0m\u001b[1;32m    289\u001b[0m                                      \" response\")\n",
      "\u001b[0;31mProtocolError\u001b[0m: ('Connection aborted.', RemoteDisconnected('Remote end closed connection without response'))",
      "\nDuring handling of the above exception, another exception occurred:\n",
      "\u001b[0;31mConnectionError\u001b[0m                           Traceback (most recent call last)",
      "\u001b[0;32m/var/folders/d5/5rsdwt8n28l9r0h_pjnp57nw0000gn/T/ipykernel_19918/1678557352.py\u001b[0m in \u001b[0;36m<module>\u001b[0;34m\u001b[0m\n\u001b[1;32m      1\u001b[0m \u001b[0mstart\u001b[0m \u001b[0;34m=\u001b[0m \u001b[0mtime\u001b[0m\u001b[0;34m.\u001b[0m\u001b[0mtime\u001b[0m\u001b[0;34m(\u001b[0m\u001b[0;34m)\u001b[0m\u001b[0;34m\u001b[0m\u001b[0;34m\u001b[0m\u001b[0m\n\u001b[0;32m----> 2\u001b[0;31m \u001b[0mb\u001b[0m \u001b[0;34m=\u001b[0m \u001b[0mca_data\u001b[0m \u001b[0;34m>\u001b[0m \u001b[0mit_data\u001b[0m\u001b[0;34m\u001b[0m\u001b[0;34m\u001b[0m\u001b[0m\n\u001b[0m\u001b[1;32m      3\u001b[0m \u001b[0mb\u001b[0m\u001b[0;34m.\u001b[0m\u001b[0mblock\u001b[0m\u001b[0;34m\u001b[0m\u001b[0;34m\u001b[0m\u001b[0m\n\u001b[1;32m      4\u001b[0m \u001b[0mend\u001b[0m \u001b[0;34m=\u001b[0m \u001b[0mtime\u001b[0m\u001b[0;34m.\u001b[0m\u001b[0mtime\u001b[0m\u001b[0;34m(\u001b[0m\u001b[0;34m)\u001b[0m\u001b[0;34m\u001b[0m\u001b[0;34m\u001b[0m\u001b[0m\n",
      "\u001b[0;32m~/Laboratory/PySyft/packages/syft/src/syft/core/tensor/autodp/single_entity_phi.py\u001b[0m in \u001b[0;36m__gt__\u001b[0;34m(self, other)\u001b[0m\n\u001b[1;32m    337\u001b[0m         \u001b[0m_id_at_location\u001b[0m \u001b[0;34m=\u001b[0m \u001b[0mserialize\u001b[0m\u001b[0;34m(\u001b[0m\u001b[0mself\u001b[0m\u001b[0;34m.\u001b[0m\u001b[0mid_at_location\u001b[0m\u001b[0;34m)\u001b[0m\u001b[0;34m\u001b[0m\u001b[0;34m\u001b[0m\u001b[0m\n\u001b[1;32m    338\u001b[0m         \u001b[0m_object_type\u001b[0m \u001b[0;34m=\u001b[0m \u001b[0mself\u001b[0m\u001b[0;34m.\u001b[0m\u001b[0mobject_type\u001b[0m\u001b[0;34m\u001b[0m\u001b[0;34m\u001b[0m\u001b[0m\n\u001b[0;32m--> 339\u001b[0;31m         \u001b[0m_tags\u001b[0m \u001b[0;34m=\u001b[0m \u001b[0mself\u001b[0m\u001b[0;34m.\u001b[0m\u001b[0mtags\u001b[0m\u001b[0;34m\u001b[0m\u001b[0;34m\u001b[0m\u001b[0m\n\u001b[0m\u001b[1;32m    340\u001b[0m         \u001b[0m_description\u001b[0m \u001b[0;34m=\u001b[0m \u001b[0mself\u001b[0m\u001b[0;34m.\u001b[0m\u001b[0mdescription\u001b[0m\u001b[0;34m\u001b[0m\u001b[0;34m\u001b[0m\u001b[0m\n\u001b[1;32m    341\u001b[0m         \u001b[0m_public_shape\u001b[0m \u001b[0;34m=\u001b[0m \u001b[0mserialize\u001b[0m\u001b[0;34m(\u001b[0m\u001b[0mgetattr\u001b[0m\u001b[0;34m(\u001b[0m\u001b[0mself\u001b[0m\u001b[0;34m,\u001b[0m \u001b[0;34m\"public_shape\"\u001b[0m\u001b[0;34m,\u001b[0m \u001b[0;32mNone\u001b[0m\u001b[0;34m)\u001b[0m\u001b[0;34m,\u001b[0m \u001b[0mto_bytes\u001b[0m\u001b[0;34m=\u001b[0m\u001b[0;32mTrue\u001b[0m\u001b[0;34m)\u001b[0m\u001b[0;34m\u001b[0m\u001b[0;34m\u001b[0m\u001b[0m\n",
      "\u001b[0;32m~/Laboratory/PySyft/packages/syft/src/syft/core/tensor/autodp/single_entity_phi.py\u001b[0m in \u001b[0;36m_apply_op\u001b[0;34m(self, other, op_str)\u001b[0m\n\u001b[1;32m    251\u001b[0m             \u001b[0mTensorWrappedSingleEntityPhiTensorPointer\u001b[0m\u001b[0;34m,\u001b[0m \u001b[0mMPCTensor\u001b[0m\u001b[0;34m,\u001b[0m \u001b[0mint\u001b[0m\u001b[0;34m,\u001b[0m \u001b[0mfloat\u001b[0m\u001b[0;34m,\u001b[0m \u001b[0mnp\u001b[0m\u001b[0;34m.\u001b[0m\u001b[0mndarray\u001b[0m\u001b[0;34m\u001b[0m\u001b[0;34m\u001b[0m\u001b[0m\n\u001b[1;32m    252\u001b[0m         ],\n\u001b[0;32m--> 253\u001b[0;31m     ) -> Union[TensorWrappedSingleEntityPhiTensorPointer, MPCTensor]:\n\u001b[0m\u001b[1;32m    254\u001b[0m         \"\"\"Apply the \"add\" operation between \"self\" and \"other\"\n\u001b[1;32m    255\u001b[0m \u001b[0;34m\u001b[0m\u001b[0m\n",
      "\u001b[0;32m~/Laboratory/PySyft/packages/syft/src/syft/core/tensor/smpc/mpc_tensor.py\u001b[0m in \u001b[0;36mgt\u001b[0;34m(self, y)\u001b[0m\n\u001b[1;32m    740\u001b[0m             \u001b[0my\u001b[0m \u001b[0;34m(\u001b[0m\u001b[0mUnion\u001b[0m\u001b[0;34m[\u001b[0m\u001b[0mint\u001b[0m\u001b[0;34m,\u001b[0m \u001b[0mfloat\u001b[0m\u001b[0;34m,\u001b[0m \u001b[0mnp\u001b[0m\u001b[0;34m.\u001b[0m\u001b[0mndarray\u001b[0m\u001b[0;34m,\u001b[0m \u001b[0mtorch\u001b[0m\u001b[0;34m.\u001b[0m\u001b[0mtensor\u001b[0m\u001b[0;34m,\u001b[0m \u001b[0;34m\"MPCTensor\"\u001b[0m\u001b[0;34m]\u001b[0m\u001b[0;34m)\u001b[0m\u001b[0;34m:\u001b[0m \u001b[0mself\u001b[0m \u001b[0;34m@\u001b[0m \u001b[0my\u001b[0m\u001b[0;34m\u001b[0m\u001b[0;34m\u001b[0m\u001b[0m\n\u001b[1;32m    741\u001b[0m         \u001b[0mReturns\u001b[0m\u001b[0;34m:\u001b[0m\u001b[0;34m\u001b[0m\u001b[0;34m\u001b[0m\u001b[0m\n\u001b[0;32m--> 742\u001b[0;31m             \u001b[0mMPCTensor\u001b[0m\u001b[0;34m:\u001b[0m \u001b[0mResult\u001b[0m \u001b[0mof\u001b[0m \u001b[0mthe\u001b[0m \u001b[0mopeartion\u001b[0m\u001b[0;34m.\u001b[0m\u001b[0;34m\u001b[0m\u001b[0;34m\u001b[0m\u001b[0m\n\u001b[0m\u001b[1;32m    743\u001b[0m         \"\"\"\n\u001b[1;32m    744\u001b[0m         \u001b[0;32mif\u001b[0m \u001b[0misinstance\u001b[0m\u001b[0;34m(\u001b[0m\u001b[0my\u001b[0m\u001b[0;34m,\u001b[0m \u001b[0mShareTensor\u001b[0m\u001b[0;34m)\u001b[0m\u001b[0;34m:\u001b[0m\u001b[0;34m\u001b[0m\u001b[0;34m\u001b[0m\u001b[0m\n",
      "\u001b[0;32m~/Laboratory/PySyft/packages/syft/src/syft/core/tensor/smpc/mpc_tensor.py\u001b[0m in \u001b[0;36mlt\u001b[0;34m(self, y)\u001b[0m\n\u001b[1;32m    732\u001b[0m \u001b[0;34m\u001b[0m\u001b[0m\n\u001b[1;32m    733\u001b[0m         \u001b[0;32mreturn\u001b[0m \u001b[0mmpc_res\u001b[0m\u001b[0;34m\u001b[0m\u001b[0;34m\u001b[0m\u001b[0m\n\u001b[0;32m--> 734\u001b[0;31m \u001b[0;34m\u001b[0m\u001b[0m\n\u001b[0m\u001b[1;32m    735\u001b[0m     def matmul(\n\u001b[1;32m    736\u001b[0m         \u001b[0mself\u001b[0m\u001b[0;34m,\u001b[0m \u001b[0my\u001b[0m\u001b[0;34m:\u001b[0m \u001b[0mUnion\u001b[0m\u001b[0;34m[\u001b[0m\u001b[0mint\u001b[0m\u001b[0;34m,\u001b[0m \u001b[0mfloat\u001b[0m\u001b[0;34m,\u001b[0m \u001b[0mnp\u001b[0m\u001b[0;34m.\u001b[0m\u001b[0mndarray\u001b[0m\u001b[0;34m,\u001b[0m \u001b[0mtorch\u001b[0m\u001b[0;34m.\u001b[0m\u001b[0mtensor\u001b[0m\u001b[0;34m,\u001b[0m \u001b[0;34m\"MPCTensor\"\u001b[0m\u001b[0;34m]\u001b[0m\u001b[0;34m\u001b[0m\u001b[0;34m\u001b[0m\u001b[0m\n",
      "\u001b[0;32m~/Laboratory/PySyft/packages/syft/src/syft/core/smpc/protocol/spdz/spdz.py\u001b[0m in \u001b[0;36mlt_master\u001b[0;34m(x, y, op_str)\u001b[0m\n\u001b[1;32m    107\u001b[0m     \u001b[0;31m# res = sign(diff)\u001b[0m\u001b[0;34m\u001b[0m\u001b[0;34m\u001b[0m\u001b[0m\n\u001b[1;32m    108\u001b[0m     \u001b[0mres_shares\u001b[0m \u001b[0;34m=\u001b[0m \u001b[0mx\u001b[0m \u001b[0;34m-\u001b[0m \u001b[0my\u001b[0m\u001b[0;34m\u001b[0m\u001b[0;34m\u001b[0m\u001b[0m\n\u001b[0;32m--> 109\u001b[0;31m \u001b[0;34m\u001b[0m\u001b[0m\n\u001b[0m\u001b[1;32m    110\u001b[0m     \u001b[0;32mreturn\u001b[0m \u001b[0mMSB\u001b[0m\u001b[0;34m(\u001b[0m\u001b[0mres_shares\u001b[0m\u001b[0;34m)\u001b[0m\u001b[0;34m\u001b[0m\u001b[0;34m\u001b[0m\u001b[0m\n\u001b[1;32m    111\u001b[0m \u001b[0;34m\u001b[0m\u001b[0m\n",
      "\u001b[0;32m~/Laboratory/PySyft/packages/syft/src/syft/core/tensor/smpc/mpc_tensor.py\u001b[0m in \u001b[0;36m__getattribute__\u001b[0;34m(self, attr_name)\u001b[0m\n\u001b[1;32m    470\u001b[0m \u001b[0;34m\u001b[0m\u001b[0m\n\u001b[1;32m    471\u001b[0m     \u001b[0;34m@\u001b[0m\u001b[0mstaticmethod\u001b[0m\u001b[0;34m\u001b[0m\u001b[0;34m\u001b[0m\u001b[0m\n\u001b[0;32m--> 472\u001b[0;31m     \u001b[0;32mdef\u001b[0m \u001b[0mreshare\u001b[0m\u001b[0;34m(\u001b[0m\u001b[0mmpc_tensor\u001b[0m\u001b[0;34m:\u001b[0m \u001b[0mMPCTensor\u001b[0m\u001b[0;34m,\u001b[0m \u001b[0mparties\u001b[0m\u001b[0;34m:\u001b[0m \u001b[0mIterable\u001b[0m\u001b[0;34m[\u001b[0m\u001b[0mAny\u001b[0m\u001b[0;34m]\u001b[0m\u001b[0;34m)\u001b[0m \u001b[0;34m->\u001b[0m \u001b[0mMPCTensor\u001b[0m\u001b[0;34m:\u001b[0m\u001b[0;34m\u001b[0m\u001b[0;34m\u001b[0m\u001b[0m\n\u001b[0m\u001b[1;32m    473\u001b[0m         \"\"\"Reshare a given secret to a superset of parties.\n\u001b[1;32m    474\u001b[0m         \u001b[0mArgs\u001b[0m\u001b[0;34m:\u001b[0m\u001b[0;34m\u001b[0m\u001b[0;34m\u001b[0m\u001b[0m\n",
      "\u001b[0;32m~/Laboratory/PySyft/packages/syft/src/syft/core/tensor/smpc/mpc_tensor.py\u001b[0m in \u001b[0;36mblock\u001b[0;34m(self)\u001b[0m\n\u001b[1;32m    363\u001b[0m \u001b[0;34m\u001b[0m\u001b[0m\n\u001b[1;32m    364\u001b[0m         \u001b[0;32mreturn\u001b[0m \u001b[0mself\u001b[0m\u001b[0;34m\u001b[0m\u001b[0;34m\u001b[0m\u001b[0m\n\u001b[0;32m--> 365\u001b[0;31m \u001b[0;34m\u001b[0m\u001b[0m\n\u001b[0m\u001b[1;32m    366\u001b[0m     \u001b[0;32mdef\u001b[0m \u001b[0mblock_with_timeout\u001b[0m\u001b[0;34m(\u001b[0m\u001b[0mself\u001b[0m\u001b[0;34m,\u001b[0m \u001b[0msecs\u001b[0m\u001b[0;34m:\u001b[0m \u001b[0mint\u001b[0m\u001b[0;34m,\u001b[0m \u001b[0msecs_per_poll\u001b[0m\u001b[0;34m:\u001b[0m \u001b[0mint\u001b[0m \u001b[0;34m=\u001b[0m \u001b[0;36m1\u001b[0m\u001b[0;34m)\u001b[0m \u001b[0;34m->\u001b[0m \u001b[0;34m\"MPCTensor\"\u001b[0m\u001b[0;34m:\u001b[0m\u001b[0;34m\u001b[0m\u001b[0;34m\u001b[0m\u001b[0m\n\u001b[1;32m    367\u001b[0m         \u001b[0;34m\"\"\"Block until all shares have been created or until timeout expires.\"\"\"\u001b[0m\u001b[0;34m\u001b[0m\u001b[0;34m\u001b[0m\u001b[0m\n",
      "\u001b[0;32m~/Laboratory/PySyft/packages/syft/src/syft/core/pointer/pointer.py\u001b[0m in \u001b[0;36mblock\u001b[0;34m(self)\u001b[0m\n\u001b[1;32m    162\u001b[0m     \u001b[0;34m@\u001b[0m\u001b[0mproperty\u001b[0m\u001b[0;34m\u001b[0m\u001b[0;34m\u001b[0m\u001b[0m\n\u001b[1;32m    163\u001b[0m     \u001b[0;32mdef\u001b[0m \u001b[0mblock\u001b[0m\u001b[0;34m(\u001b[0m\u001b[0mself\u001b[0m\u001b[0;34m)\u001b[0m \u001b[0;34m->\u001b[0m \u001b[0mAbstractPointer\u001b[0m\u001b[0;34m:\u001b[0m\u001b[0;34m\u001b[0m\u001b[0;34m\u001b[0m\u001b[0m\n\u001b[0;32m--> 164\u001b[0;31m         \u001b[0;32mwhile\u001b[0m \u001b[0;32mnot\u001b[0m \u001b[0mself\u001b[0m\u001b[0;34m.\u001b[0m\u001b[0mexists\u001b[0m\u001b[0;34m:\u001b[0m\u001b[0;34m\u001b[0m\u001b[0;34m\u001b[0m\u001b[0m\n\u001b[0m\u001b[1;32m    165\u001b[0m             \u001b[0mtime\u001b[0m\u001b[0;34m.\u001b[0m\u001b[0msleep\u001b[0m\u001b[0;34m(\u001b[0m\u001b[0;36m0.2\u001b[0m\u001b[0;34m)\u001b[0m\u001b[0;34m\u001b[0m\u001b[0;34m\u001b[0m\u001b[0m\n\u001b[1;32m    166\u001b[0m         \u001b[0;32mreturn\u001b[0m \u001b[0mself\u001b[0m\u001b[0;34m\u001b[0m\u001b[0;34m\u001b[0m\u001b[0m\n",
      "\u001b[0;32m~/Laboratory/PySyft/packages/syft/src/syft/core/pointer/pointer.py\u001b[0m in \u001b[0;36mexists\u001b[0;34m(self)\u001b[0m\n\u001b[1;32m    187\u001b[0m         \u001b[0masks\u001b[0m \u001b[0ma\u001b[0m \u001b[0mremote\u001b[0m \u001b[0mnode\u001b[0m \u001b[0mwhether\u001b[0m \u001b[0mthe\u001b[0m \u001b[0mobject\u001b[0m \u001b[0mthis\u001b[0m \u001b[0mpointer\u001b[0m \u001b[0;32mis\u001b[0m \u001b[0mpointing\u001b[0m \u001b[0mto\u001b[0m \u001b[0mcan\u001b[0m \u001b[0mbe\u001b[0m\u001b[0;34m\u001b[0m\u001b[0;34m\u001b[0m\u001b[0m\n\u001b[1;32m    188\u001b[0m         found in the database.\"\"\"\n\u001b[0;32m--> 189\u001b[0;31m         \u001b[0;32mreturn\u001b[0m \u001b[0mself\u001b[0m\u001b[0;34m.\u001b[0m\u001b[0mclient\u001b[0m\u001b[0;34m.\u001b[0m\u001b[0mobj_exists\u001b[0m\u001b[0;34m(\u001b[0m\u001b[0mobj_id\u001b[0m\u001b[0;34m=\u001b[0m\u001b[0mself\u001b[0m\u001b[0;34m.\u001b[0m\u001b[0mid_at_location\u001b[0m\u001b[0;34m)\u001b[0m\u001b[0;34m\u001b[0m\u001b[0;34m\u001b[0m\u001b[0m\n\u001b[0m\u001b[1;32m    190\u001b[0m \u001b[0;34m\u001b[0m\u001b[0m\n\u001b[1;32m    191\u001b[0m     \u001b[0;32mdef\u001b[0m \u001b[0m__repr__\u001b[0m\u001b[0;34m(\u001b[0m\u001b[0mself\u001b[0m\u001b[0;34m)\u001b[0m \u001b[0;34m->\u001b[0m \u001b[0mstr\u001b[0m\u001b[0;34m:\u001b[0m\u001b[0;34m\u001b[0m\u001b[0;34m\u001b[0m\u001b[0m\n",
      "\u001b[0;32m~/Laboratory/PySyft/packages/syft/src/syft/core/node/domain/client.py\u001b[0m in \u001b[0;36mobj_exists\u001b[0;34m(self, obj_id)\u001b[0m\n\u001b[1;32m    318\u001b[0m     \u001b[0;32mdef\u001b[0m \u001b[0mobj_exists\u001b[0m\u001b[0;34m(\u001b[0m\u001b[0mself\u001b[0m\u001b[0;34m,\u001b[0m \u001b[0mobj_id\u001b[0m\u001b[0;34m:\u001b[0m \u001b[0mUID\u001b[0m\u001b[0;34m)\u001b[0m \u001b[0;34m->\u001b[0m \u001b[0mbool\u001b[0m\u001b[0;34m:\u001b[0m\u001b[0;34m\u001b[0m\u001b[0;34m\u001b[0m\u001b[0m\n\u001b[1;32m    319\u001b[0m         \u001b[0mmsg\u001b[0m \u001b[0;34m=\u001b[0m \u001b[0mDoesObjectExistMessage\u001b[0m\u001b[0;34m(\u001b[0m\u001b[0mobj_id\u001b[0m\u001b[0;34m=\u001b[0m\u001b[0mobj_id\u001b[0m\u001b[0;34m)\u001b[0m\u001b[0;34m\u001b[0m\u001b[0;34m\u001b[0m\u001b[0m\n\u001b[0;32m--> 320\u001b[0;31m         \u001b[0;32mreturn\u001b[0m \u001b[0mself\u001b[0m\u001b[0;34m.\u001b[0m\u001b[0msend_immediate_msg_with_reply\u001b[0m\u001b[0;34m(\u001b[0m\u001b[0mmsg\u001b[0m\u001b[0;34m=\u001b[0m\u001b[0mmsg\u001b[0m\u001b[0;34m)\u001b[0m\u001b[0;34m.\u001b[0m\u001b[0mpayload\u001b[0m  \u001b[0;31m# type: ignore\u001b[0m\u001b[0;34m\u001b[0m\u001b[0;34m\u001b[0m\u001b[0m\n\u001b[0m\u001b[1;32m    321\u001b[0m \u001b[0;34m\u001b[0m\u001b[0m\n\u001b[1;32m    322\u001b[0m     \u001b[0;34m@\u001b[0m\u001b[0mproperty\u001b[0m\u001b[0;34m\u001b[0m\u001b[0;34m\u001b[0m\u001b[0m\n",
      "\u001b[0;32m~/Laboratory/PySyft/packages/syft/src/syft/core/node/common/client.py\u001b[0m in \u001b[0;36msend_immediate_msg_with_reply\u001b[0;34m(self, msg, route_index)\u001b[0m\n\u001b[1;32m    229\u001b[0m             \u001b[0mmsg\u001b[0m \u001b[0;34m=\u001b[0m \u001b[0mmsg\u001b[0m\u001b[0;34m.\u001b[0m\u001b[0msign\u001b[0m\u001b[0;34m(\u001b[0m\u001b[0msigning_key\u001b[0m\u001b[0;34m=\u001b[0m\u001b[0mself\u001b[0m\u001b[0;34m.\u001b[0m\u001b[0msigning_key\u001b[0m\u001b[0;34m)\u001b[0m\u001b[0;34m\u001b[0m\u001b[0;34m\u001b[0m\u001b[0m\n\u001b[1;32m    230\u001b[0m \u001b[0;34m\u001b[0m\u001b[0m\n\u001b[0;32m--> 231\u001b[0;31m         \u001b[0mresponse\u001b[0m \u001b[0;34m=\u001b[0m \u001b[0mself\u001b[0m\u001b[0;34m.\u001b[0m\u001b[0mroutes\u001b[0m\u001b[0;34m[\u001b[0m\u001b[0mroute_index\u001b[0m\u001b[0;34m]\u001b[0m\u001b[0;34m.\u001b[0m\u001b[0msend_immediate_msg_with_reply\u001b[0m\u001b[0;34m(\u001b[0m\u001b[0mmsg\u001b[0m\u001b[0;34m=\u001b[0m\u001b[0mmsg\u001b[0m\u001b[0;34m)\u001b[0m\u001b[0;34m\u001b[0m\u001b[0;34m\u001b[0m\u001b[0m\n\u001b[0m\u001b[1;32m    232\u001b[0m         \u001b[0;32mif\u001b[0m \u001b[0mresponse\u001b[0m\u001b[0;34m.\u001b[0m\u001b[0mis_valid\u001b[0m\u001b[0;34m:\u001b[0m\u001b[0;34m\u001b[0m\u001b[0;34m\u001b[0m\u001b[0m\n\u001b[1;32m    233\u001b[0m             \u001b[0;31m# check if we have an ExceptionMessage to trigger a local exception\u001b[0m\u001b[0;34m\u001b[0m\u001b[0;34m\u001b[0m\u001b[0m\n",
      "\u001b[0;32m~/Laboratory/PySyft/packages/syft/src/syft/core/io/route.py\u001b[0m in \u001b[0;36msend_immediate_msg_with_reply\u001b[0;34m(self, msg)\u001b[0m\n\u001b[1;32m    179\u001b[0m         \u001b[0mself\u001b[0m\u001b[0;34m,\u001b[0m \u001b[0mmsg\u001b[0m\u001b[0;34m:\u001b[0m \u001b[0mSignedImmediateSyftMessageWithReply\u001b[0m\u001b[0;34m\u001b[0m\u001b[0;34m\u001b[0m\u001b[0m\n\u001b[1;32m    180\u001b[0m     ) -> SignedImmediateSyftMessageWithoutReply:\n\u001b[0;32m--> 181\u001b[0;31m         \u001b[0;32mreturn\u001b[0m \u001b[0mself\u001b[0m\u001b[0;34m.\u001b[0m\u001b[0mconnection\u001b[0m\u001b[0;34m.\u001b[0m\u001b[0msend_immediate_msg_with_reply\u001b[0m\u001b[0;34m(\u001b[0m\u001b[0mmsg\u001b[0m\u001b[0;34m=\u001b[0m\u001b[0mmsg\u001b[0m\u001b[0;34m)\u001b[0m\u001b[0;34m\u001b[0m\u001b[0;34m\u001b[0m\u001b[0m\n\u001b[0m\u001b[1;32m    182\u001b[0m \u001b[0;34m\u001b[0m\u001b[0m\n\u001b[1;32m    183\u001b[0m     \u001b[0;32mdef\u001b[0m \u001b[0m_object2proto\u001b[0m\u001b[0;34m(\u001b[0m\u001b[0mself\u001b[0m\u001b[0;34m)\u001b[0m \u001b[0;34m->\u001b[0m \u001b[0mSoloRoute_PB\u001b[0m\u001b[0;34m:\u001b[0m\u001b[0;34m\u001b[0m\u001b[0;34m\u001b[0m\u001b[0m\n",
      "\u001b[0;32m~/Laboratory/PySyft/packages/syft/src/syft/grid/connections/http_connection.py\u001b[0m in \u001b[0;36msend_immediate_msg_with_reply\u001b[0;34m(self, msg)\u001b[0m\n\u001b[1;32m     37\u001b[0m         \u001b[0;31m# Serializes SignedImmediateSyftMessageWithReply\u001b[0m\u001b[0;34m\u001b[0m\u001b[0;34m\u001b[0m\u001b[0m\n\u001b[1;32m     38\u001b[0m         \u001b[0;31m# and send it using HTTP protocol\u001b[0m\u001b[0;34m\u001b[0m\u001b[0;34m\u001b[0m\u001b[0m\n\u001b[0;32m---> 39\u001b[0;31m         \u001b[0mresponse\u001b[0m \u001b[0;34m=\u001b[0m \u001b[0mself\u001b[0m\u001b[0;34m.\u001b[0m\u001b[0m_send_msg\u001b[0m\u001b[0;34m(\u001b[0m\u001b[0mmsg\u001b[0m\u001b[0;34m=\u001b[0m\u001b[0mmsg\u001b[0m\u001b[0;34m)\u001b[0m\u001b[0;34m\u001b[0m\u001b[0;34m\u001b[0m\u001b[0m\n\u001b[0m\u001b[1;32m     40\u001b[0m \u001b[0;34m\u001b[0m\u001b[0m\n\u001b[1;32m     41\u001b[0m         \u001b[0;31m# Deserialize node's response\u001b[0m\u001b[0;34m\u001b[0m\u001b[0;34m\u001b[0m\u001b[0m\n",
      "\u001b[0;32m~/Laboratory/PySyft/packages/syft/src/syft/grid/client/grid_connection.py\u001b[0m in \u001b[0;36m_send_msg\u001b[0;34m(self, msg)\u001b[0m\n\u001b[1;32m     81\u001b[0m         \u001b[0;31m# if sys.getsizeof(msg_bytes) < GridHTTPConnection.SIZE_THRESHOLD:\u001b[0m\u001b[0;34m\u001b[0m\u001b[0;34m\u001b[0m\u001b[0m\n\u001b[1;32m     82\u001b[0m         \u001b[0;31m# if True:\u001b[0m\u001b[0;34m\u001b[0m\u001b[0;34m\u001b[0m\u001b[0m\n\u001b[0;32m---> 83\u001b[0;31m         r = requests.post(\n\u001b[0m\u001b[1;32m     84\u001b[0m             \u001b[0murl\u001b[0m\u001b[0;34m=\u001b[0m\u001b[0mself\u001b[0m\u001b[0;34m.\u001b[0m\u001b[0mbase_url\u001b[0m \u001b[0;34m+\u001b[0m \u001b[0mroute\u001b[0m\u001b[0;34m,\u001b[0m\u001b[0;34m\u001b[0m\u001b[0;34m\u001b[0m\u001b[0m\n\u001b[1;32m     85\u001b[0m             \u001b[0mdata\u001b[0m\u001b[0;34m=\u001b[0m\u001b[0mmsg_bytes\u001b[0m\u001b[0;34m,\u001b[0m\u001b[0;34m\u001b[0m\u001b[0;34m\u001b[0m\u001b[0m\n",
      "\u001b[0;32m~/opt/anaconda3/envs/syft/lib/python3.9/site-packages/requests/api.py\u001b[0m in \u001b[0;36mpost\u001b[0;34m(url, data, json, **kwargs)\u001b[0m\n\u001b[1;32m    117\u001b[0m     \"\"\"\n\u001b[1;32m    118\u001b[0m \u001b[0;34m\u001b[0m\u001b[0m\n\u001b[0;32m--> 119\u001b[0;31m     \u001b[0;32mreturn\u001b[0m \u001b[0mrequest\u001b[0m\u001b[0;34m(\u001b[0m\u001b[0;34m'post'\u001b[0m\u001b[0;34m,\u001b[0m \u001b[0murl\u001b[0m\u001b[0;34m,\u001b[0m \u001b[0mdata\u001b[0m\u001b[0;34m=\u001b[0m\u001b[0mdata\u001b[0m\u001b[0;34m,\u001b[0m \u001b[0mjson\u001b[0m\u001b[0;34m=\u001b[0m\u001b[0mjson\u001b[0m\u001b[0;34m,\u001b[0m \u001b[0;34m**\u001b[0m\u001b[0mkwargs\u001b[0m\u001b[0;34m)\u001b[0m\u001b[0;34m\u001b[0m\u001b[0;34m\u001b[0m\u001b[0m\n\u001b[0m\u001b[1;32m    120\u001b[0m \u001b[0;34m\u001b[0m\u001b[0m\n\u001b[1;32m    121\u001b[0m \u001b[0;34m\u001b[0m\u001b[0m\n",
      "\u001b[0;32m~/opt/anaconda3/envs/syft/lib/python3.9/site-packages/requests/api.py\u001b[0m in \u001b[0;36mrequest\u001b[0;34m(method, url, **kwargs)\u001b[0m\n\u001b[1;32m     59\u001b[0m     \u001b[0;31m# cases, and look like a memory leak in others.\u001b[0m\u001b[0;34m\u001b[0m\u001b[0;34m\u001b[0m\u001b[0m\n\u001b[1;32m     60\u001b[0m     \u001b[0;32mwith\u001b[0m \u001b[0msessions\u001b[0m\u001b[0;34m.\u001b[0m\u001b[0mSession\u001b[0m\u001b[0;34m(\u001b[0m\u001b[0;34m)\u001b[0m \u001b[0;32mas\u001b[0m \u001b[0msession\u001b[0m\u001b[0;34m:\u001b[0m\u001b[0;34m\u001b[0m\u001b[0;34m\u001b[0m\u001b[0m\n\u001b[0;32m---> 61\u001b[0;31m         \u001b[0;32mreturn\u001b[0m \u001b[0msession\u001b[0m\u001b[0;34m.\u001b[0m\u001b[0mrequest\u001b[0m\u001b[0;34m(\u001b[0m\u001b[0mmethod\u001b[0m\u001b[0;34m=\u001b[0m\u001b[0mmethod\u001b[0m\u001b[0;34m,\u001b[0m \u001b[0murl\u001b[0m\u001b[0;34m=\u001b[0m\u001b[0murl\u001b[0m\u001b[0;34m,\u001b[0m \u001b[0;34m**\u001b[0m\u001b[0mkwargs\u001b[0m\u001b[0;34m)\u001b[0m\u001b[0;34m\u001b[0m\u001b[0;34m\u001b[0m\u001b[0m\n\u001b[0m\u001b[1;32m     62\u001b[0m \u001b[0;34m\u001b[0m\u001b[0m\n\u001b[1;32m     63\u001b[0m \u001b[0;34m\u001b[0m\u001b[0m\n",
      "\u001b[0;32m~/opt/anaconda3/envs/syft/lib/python3.9/site-packages/requests/sessions.py\u001b[0m in \u001b[0;36mrequest\u001b[0;34m(self, method, url, params, data, headers, cookies, files, auth, timeout, allow_redirects, proxies, hooks, stream, verify, cert, json)\u001b[0m\n\u001b[1;32m    540\u001b[0m         }\n\u001b[1;32m    541\u001b[0m         \u001b[0msend_kwargs\u001b[0m\u001b[0;34m.\u001b[0m\u001b[0mupdate\u001b[0m\u001b[0;34m(\u001b[0m\u001b[0msettings\u001b[0m\u001b[0;34m)\u001b[0m\u001b[0;34m\u001b[0m\u001b[0;34m\u001b[0m\u001b[0m\n\u001b[0;32m--> 542\u001b[0;31m         \u001b[0mresp\u001b[0m \u001b[0;34m=\u001b[0m \u001b[0mself\u001b[0m\u001b[0;34m.\u001b[0m\u001b[0msend\u001b[0m\u001b[0;34m(\u001b[0m\u001b[0mprep\u001b[0m\u001b[0;34m,\u001b[0m \u001b[0;34m**\u001b[0m\u001b[0msend_kwargs\u001b[0m\u001b[0;34m)\u001b[0m\u001b[0;34m\u001b[0m\u001b[0;34m\u001b[0m\u001b[0m\n\u001b[0m\u001b[1;32m    543\u001b[0m \u001b[0;34m\u001b[0m\u001b[0m\n\u001b[1;32m    544\u001b[0m         \u001b[0;32mreturn\u001b[0m \u001b[0mresp\u001b[0m\u001b[0;34m\u001b[0m\u001b[0;34m\u001b[0m\u001b[0m\n",
      "\u001b[0;32m~/opt/anaconda3/envs/syft/lib/python3.9/site-packages/requests/sessions.py\u001b[0m in \u001b[0;36msend\u001b[0;34m(self, request, **kwargs)\u001b[0m\n\u001b[1;32m    653\u001b[0m \u001b[0;34m\u001b[0m\u001b[0m\n\u001b[1;32m    654\u001b[0m         \u001b[0;31m# Send the request\u001b[0m\u001b[0;34m\u001b[0m\u001b[0;34m\u001b[0m\u001b[0m\n\u001b[0;32m--> 655\u001b[0;31m         \u001b[0mr\u001b[0m \u001b[0;34m=\u001b[0m \u001b[0madapter\u001b[0m\u001b[0;34m.\u001b[0m\u001b[0msend\u001b[0m\u001b[0;34m(\u001b[0m\u001b[0mrequest\u001b[0m\u001b[0;34m,\u001b[0m \u001b[0;34m**\u001b[0m\u001b[0mkwargs\u001b[0m\u001b[0;34m)\u001b[0m\u001b[0;34m\u001b[0m\u001b[0;34m\u001b[0m\u001b[0m\n\u001b[0m\u001b[1;32m    656\u001b[0m \u001b[0;34m\u001b[0m\u001b[0m\n\u001b[1;32m    657\u001b[0m         \u001b[0;31m# Total elapsed time of the request (approximately)\u001b[0m\u001b[0;34m\u001b[0m\u001b[0;34m\u001b[0m\u001b[0m\n",
      "\u001b[0;32m~/opt/anaconda3/envs/syft/lib/python3.9/site-packages/requests/adapters.py\u001b[0m in \u001b[0;36msend\u001b[0;34m(self, request, stream, timeout, verify, cert, proxies)\u001b[0m\n\u001b[1;32m    496\u001b[0m \u001b[0;34m\u001b[0m\u001b[0m\n\u001b[1;32m    497\u001b[0m         \u001b[0;32mexcept\u001b[0m \u001b[0;34m(\u001b[0m\u001b[0mProtocolError\u001b[0m\u001b[0;34m,\u001b[0m \u001b[0msocket\u001b[0m\u001b[0;34m.\u001b[0m\u001b[0merror\u001b[0m\u001b[0;34m)\u001b[0m \u001b[0;32mas\u001b[0m \u001b[0merr\u001b[0m\u001b[0;34m:\u001b[0m\u001b[0;34m\u001b[0m\u001b[0;34m\u001b[0m\u001b[0m\n\u001b[0;32m--> 498\u001b[0;31m             \u001b[0;32mraise\u001b[0m \u001b[0mConnectionError\u001b[0m\u001b[0;34m(\u001b[0m\u001b[0merr\u001b[0m\u001b[0;34m,\u001b[0m \u001b[0mrequest\u001b[0m\u001b[0;34m=\u001b[0m\u001b[0mrequest\u001b[0m\u001b[0;34m)\u001b[0m\u001b[0;34m\u001b[0m\u001b[0;34m\u001b[0m\u001b[0m\n\u001b[0m\u001b[1;32m    499\u001b[0m \u001b[0;34m\u001b[0m\u001b[0m\n\u001b[1;32m    500\u001b[0m         \u001b[0;32mexcept\u001b[0m \u001b[0mMaxRetryError\u001b[0m \u001b[0;32mas\u001b[0m \u001b[0me\u001b[0m\u001b[0;34m:\u001b[0m\u001b[0;34m\u001b[0m\u001b[0;34m\u001b[0m\u001b[0m\n",
      "\u001b[0;31mConnectionError\u001b[0m: ('Connection aborted.', RemoteDisconnected('Remote end closed connection without response'))"
     ]
    }
   ],
   "source": [
    "start = time.time()\n",
    "b = ca_data > it_data\n",
    "b.block\n",
    "end = time.time()"
=======
   "execution_count": 16,
   "id": "4ad83994-3789-4b77-a0e3-ef31e9d373d3",
   "metadata": {},
   "outputs": [],
   "source": [
    "a = ca_data + it_data"
>>>>>>> 6c89814e11339c8198827806e14219a04816b365
   ]
  },
  {
   "cell_type": "code",
<<<<<<< HEAD
   "execution_count": null,
   "id": "0bf22dae-ad3e-408d-8405-a3a25d150c4f",
   "metadata": {},
   "outputs": [],
   "source": [
    "end - start"
=======
   "execution_count": 17,
   "id": "1b88f9ce-b7c2-41fe-8542-c468bf253d56",
   "metadata": {},
   "outputs": [],
   "source": [
    "result = a.publish(sigma=3)"
>>>>>>> 6c89814e11339c8198827806e14219a04816b365
   ]
  },
  {
   "cell_type": "code",
<<<<<<< HEAD
   "execution_count": 1,
   "id": "670a4278-a6ce-45ae-a202-b8e30f1efd32",
   "metadata": {},
   "outputs": [
    {
     "ename": "NameError",
     "evalue": "name 'b' is not defined",
     "output_type": "error",
     "traceback": [
      "\u001b[0;31m---------------------------------------------------------------------------\u001b[0m",
      "\u001b[0;31mNameError\u001b[0m                                 Traceback (most recent call last)",
      "\u001b[0;32m/var/folders/d5/5rsdwt8n28l9r0h_pjnp57nw0000gn/T/ipykernel_53669/317674578.py\u001b[0m in \u001b[0;36m<module>\u001b[0;34m\u001b[0m\n\u001b[0;32m----> 1\u001b[0;31m \u001b[0mb\u001b[0m\u001b[0;34m.\u001b[0m\u001b[0mrequest\u001b[0m\u001b[0;34m(\u001b[0m\u001b[0;34m)\u001b[0m\u001b[0;34m\u001b[0m\u001b[0;34m\u001b[0m\u001b[0m\n\u001b[0m",
      "\u001b[0;31mNameError\u001b[0m: name 'b' is not defined"
     ]
    }
   ],
   "source": [
    "b.request()"
=======
   "execution_count": 18,
   "id": "80ba2cd2-de97-4948-9bf6-7e13adb5f40a",
   "metadata": {},
   "outputs": [
    {
     "data": {
      "text/plain": [
       "array([-1,  1, 22, -3,  9, 17,  2,  6, -5,  1], dtype=int32)"
      ]
     },
     "execution_count": 18,
     "metadata": {},
     "output_type": "execute_result"
    }
   ],
   "source": [
    "result.get()"
   ]
  },
  {
   "cell_type": "code",
   "execution_count": 19,
   "id": "7996121a-535c-4bef-b5d3-7800f851d150",
   "metadata": {},
   "outputs": [],
   "source": [
    "import time"
>>>>>>> 6c89814e11339c8198827806e14219a04816b365
   ]
  },
  {
   "cell_type": "code",
<<<<<<< HEAD
   "execution_count": 22,
   "id": "3ac4b99b-3184-4410-ad80-b8adc7e77134",
=======
   "execution_count": 20,
   "id": "4326bfea-7713-447a-880a-0ee3aa05dac8",
   "metadata": {
    "tags": []
   },
   "outputs": [
    {
     "name": "stdout",
     "output_type": "stream",
     "text": [
      "((ShareTensor(child=[ True  True False  True  True False False False False False]), ShareTensor(child=[False  True  True False False False False  True False  True]), ShareTensor(child=[ True  True False False  True False False False  True  True])), (ShareTensor(child=[False False  True  True  True False False False False False]), ShareTensor(child=[ True  True  True False False False  True  True False False]), ShareTensor(child=[False  True False False  True False  True  True  True  True])), (ShareTensor(child=[False False False  True  True  True False False False False]), ShareTensor(child=[ True False False  True False False  True False  True  True]), ShareTensor(child=[False False False False False  True False False False  True])), (ShareTensor(child=[ True  True False  True False False  True  True  True  True]), ShareTensor(child=[False False  True  True  True False False  True False False]), ShareTensor(child=[False False  True False  True  True  True  True  True  True])), (ShareTensor(child=[ True False  True False False False False False  True  True]), ShareTensor(child=[False  True False  True False  True False  True  True  True]), ShareTensor(child=[False False False False False  True  True False  True False])), (ShareTensor(child=[ True  True  True False  True  True  True False False False]), ShareTensor(child=[ True  True  True  True  True False  True False False  True]), ShareTensor(child=[ True  True  True False  True False  True  True  True  True])), (ShareTensor(child=[False False False  True  True  True  True  True False  True]), ShareTensor(child=[ True False  True  True False False  True  True  True  True]), ShareTensor(child=[ True  True False False False  True  True False False  True])), (ShareTensor(child=[False False  True False  True False  True False False  True]), ShareTensor(child=[ True False False False False False  True False False  True]), ShareTensor(child=[ True  True False  True False False False  True  True False])), (ShareTensor(child=[ True  True False  True False False False False  True False]), ShareTensor(child=[False  True  True  True  True False False False False False]), ShareTensor(child=[False False  True  True  True  True  True False  True  True])), (ShareTensor(child=[False  True  True  True False  True  True False False  True]), ShareTensor(child=[False False  True  True  True False  True False  True  True]), ShareTensor(child=[False  True  True  True  True  True False  True False  True])), (ShareTensor(child=[ True False  True  True False False False False  True  True]), ShareTensor(child=[ True False False  True False  True False False False False]), ShareTensor(child=[ True  True  True False  True False False  True False  True])), (ShareTensor(child=[False False False False False  True  True False False  True]), ShareTensor(child=[ True False  True False False  True False False  True  True]), ShareTensor(child=[False False  True  True False  True  True False False  True])), (ShareTensor(child=[ True False  True False False False False False  True False]), ShareTensor(child=[ True  True False False  True  True False  True False False]), ShareTensor(child=[False  True False  True  True False  True  True False False])), (ShareTensor(child=[ True False  True  True  True  True  True  True  True  True]), ShareTensor(child=[ True  True False False False  True False False  True  True]), ShareTensor(child=[False  True  True  True  True  True  True  True False False])), (ShareTensor(child=[False  True False False False  True  True False  True  True]), ShareTensor(child=[ True  True  True False False False  True False False False]), ShareTensor(child=[ True  True False False  True  True False  True  True  True])), (ShareTensor(child=[False  True False  True  True  True False  True False False]), ShareTensor(child=[False  True False  True  True False  True  True False  True]), ShareTensor(child=[False  True  True False  True  True False False  True False])), (ShareTensor(child=[ True False False False False False  True False False False]), ShareTensor(child=[ True  True  True False  True  True False  True False  True]), ShareTensor(child=[ True  True  True False  True  True  True  True False False])), (ShareTensor(child=[ True False  True  True False False  True  True False  True]), ShareTensor(child=[False  True False False  True False False  True False False]), ShareTensor(child=[False  True False False  True  True False  True  True False])), (ShareTensor(child=[ True  True False  True False  True False False False False]), ShareTensor(child=[False False  True  True False False False False False  True]), ShareTensor(child=[ True  True  True False  True False  True  True False  True])), (ShareTensor(child=[False False  True False  True False False  True False  True]), ShareTensor(child=[False  True False False  True False  True  True False False]), ShareTensor(child=[ True False False False  True False False  True False  True])), (ShareTensor(child=[False False  True False False  True False  True False  True]), ShareTensor(child=[ True  True  True  True False  True False  True False False]), ShareTensor(child=[False  True  True False False  True  True False  True  True])), (ShareTensor(child=[False  True  True  True False  True False  True False False]), ShareTensor(child=[ True  True False False False False  True False False  True]), ShareTensor(child=[False False  True False  True  True False  True False  True])), (ShareTensor(child=[ True  True False False  True  True False False  True  True]), ShareTensor(child=[False  True False False False  True  True False  True  True]), ShareTensor(child=[False False False False False False  True  True False False])), (ShareTensor(child=[False False False False False False False False False False]), ShareTensor(child=[ True  True  True  True False False  True False  True False]), ShareTensor(child=[ True  True  True False  True  True  True  True False False])), (ShareTensor(child=[ True False  True  True False False False  True False  True]), ShareTensor(child=[ True  True  True False  True  True False False False False]), ShareTensor(child=[ True  True False False  True False False False False False])), (ShareTensor(child=[False False  True  True  True False False False  True  True]), ShareTensor(child=[False False  True  True  True False  True  True  True  True]), ShareTensor(child=[False False  True False False  True False  True  True  True])), (ShareTensor(child=[ True False  True  True False False False False False  True]), ShareTensor(child=[False False  True False  True False  True False  True  True]), ShareTensor(child=[ True False False False  True  True  True  True False False])), (ShareTensor(child=[False  True False False False  True  True  True False  True]), ShareTensor(child=[False  True  True  True False  True  True False False  True]), ShareTensor(child=[ True  True False False False False False  True False False])), (ShareTensor(child=[False False  True False  True  True False  True False  True]), ShareTensor(child=[ True False  True False False False  True  True  True False]), ShareTensor(child=[ True False  True  True  True  True False False False  True])), (ShareTensor(child=[ True  True False False False False False  True False  True]), ShareTensor(child=[False  True  True  True False  True False  True False False]), ShareTensor(child=[False  True  True False  True  True  True False  True  True])), (ShareTensor(child=[ True False  True False  True False  True  True False False]), ShareTensor(child=[ True False False False  True False False False  True  True]), ShareTensor(child=[False False  True False  True False  True  True False  True])), (ShareTensor(child=[False False False False  True  True False  True  True  True]), ShareTensor(child=[ True  True  True  True False False False  True False False]), ShareTensor(child=[ True  True False False  True False  True  True False  True])), (ShareTensor(child=[ True False  True  True False  True  True False  True False]), ShareTensor(child=[ True False  True False False False  True False False False]), ShareTensor(child=[False  True  True False  True False False  True  True False])), (ShareTensor(child=[ True  True  True  True False False False False False False]), ShareTensor(child=[False False False  True False  True  True  True False False]), ShareTensor(child=[False False False False False  True False False False False])), (ShareTensor(child=[False False False  True  True  True False  True False False]), ShareTensor(child=[False False False  True False False  True False  True  True]), ShareTensor(child=[ True False False False  True  True False  True  True False])), (ShareTensor(child=[ True False  True False  True False False  True False  True]), ShareTensor(child=[False False  True  True False  True False  True  True  True]), ShareTensor(child=[ True  True False False  True  True False False  True  True])), (ShareTensor(child=[False  True False False False  True False False  True  True]), ShareTensor(child=[False  True False False  True False False False  True False]), ShareTensor(child=[False False False  True  True False False  True  True  True])), (ShareTensor(child=[ True  True False False  True  True  True False False  True]), ShareTensor(child=[ True  True  True  True  True  True False  True  True False]), ShareTensor(child=[False False  True False False False False  True False  True])), (ShareTensor(child=[False  True  True  True False False  True  True False  True]), ShareTensor(child=[False False False  True  True  True  True  True  True False]), ShareTensor(child=[ True  True  True False  True  True  True False False False])), (ShareTensor(child=[False  True False  True False False  True  True  True False]), ShareTensor(child=[False False  True  True  True False  True  True  True False]), ShareTensor(child=[False  True False  True False  True False False False  True])), (ShareTensor(child=[ True  True  True False  True  True  True  True  True False]), ShareTensor(child=[ True  True False  True  True  True False False False  True]), ShareTensor(child=[False  True  True False  True  True False  True False  True])), (ShareTensor(child=[False  True  True  True False  True  True  True False  True]), ShareTensor(child=[False  True False False  True  True  True False  True False]), ShareTensor(child=[False  True  True False False  True False  True False False])), (ShareTensor(child=[ True  True  True False  True  True False  True  True False]), ShareTensor(child=[ True False  True False  True False False False  True  True]), ShareTensor(child=[False False False False False False False False False False])), (ShareTensor(child=[False False False  True False False False False False False]), ShareTensor(child=[False False False  True False  True  True False  True False]), ShareTensor(child=[False False False  True  True False False False  True  True])), (ShareTensor(child=[ True  True  True False False False False  True  True False]), ShareTensor(child=[ True False  True  True False  True False  True False False]), ShareTensor(child=[False False False False  True  True False False  True False])), (ShareTensor(child=[False  True False  True False  True  True False  True False]), ShareTensor(child=[ True  True False False  True False False False False  True]), ShareTensor(child=[False False  True  True  True False False  True  True False])), (ShareTensor(child=[ True  True  True  True False False  True False False False]), ShareTensor(child=[False  True  True False  True  True False False False False]), ShareTensor(child=[False False False  True False False  True  True  True False])), (ShareTensor(child=[False  True  True False  True  True  True False False  True]), ShareTensor(child=[False  True False False False  True  True  True False False]), ShareTensor(child=[False False False False  True False  True False False  True])), (ShareTensor(child=[False  True False False  True False False False False  True]), ShareTensor(child=[ True  True False  True False  True False  True False False]), ShareTensor(child=[ True  True False False False False  True False False False])), (ShareTensor(child=[ True False False False False  True  True  True False  True]), ShareTensor(child=[ True False  True  True False  True  True False  True False]), ShareTensor(child=[ True  True False False False False  True False  True  True])), (ShareTensor(child=[ True  True  True False  True False  True False  True False]), ShareTensor(child=[False  True  True  True False False  True False  True  True]), ShareTensor(child=[False False  True  True False False False  True  True False])), (ShareTensor(child=[False False  True False  True  True False False  True  True]), ShareTensor(child=[ True  True False  True False  True False False False  True]), ShareTensor(child=[False False  True False False  True False False False  True])), (ShareTensor(child=[False False  True  True False False False  True False False]), ShareTensor(child=[False False False False  True False  True False False False]), ShareTensor(child=[ True False  True False  True False  True  True  True False])), (ShareTensor(child=[False False  True  True  True  True  True False False  True]), ShareTensor(child=[ True  True  True False False  True  True False  True  True]), ShareTensor(child=[False  True  True False False  True False  True  True False])), (ShareTensor(child=[ True False False  True  True False  True False  True False]), ShareTensor(child=[False  True False  True False False False  True False  True]), ShareTensor(child=[ True  True  True  True  True  True  True  True False  True])), (ShareTensor(child=[ True  True  True  True  True  True  True  True False False]), ShareTensor(child=[ True False  True  True  True  True False  True False  True]), ShareTensor(child=[ True  True False  True False False False False  True False])), (ShareTensor(child=[ True False  True  True False  True  True False  True  True]), ShareTensor(child=[False  True False False False  True  True  True  True  True]), ShareTensor(child=[ True  True  True False False False  True  True  True False])), (ShareTensor(child=[False False  True  True False  True False  True False  True]), ShareTensor(child=[ True  True  True False False  True  True  True False False]), ShareTensor(child=[False False  True  True False  True  True False False  True])), (ShareTensor(child=[False  True  True  True  True  True False  True  True  True]), ShareTensor(child=[ True False False False False  True False  True False  True]), ShareTensor(child=[ True  True False False  True False  True  True  True  True])), (ShareTensor(child=[ True False  True  True False  True False False  True  True]), ShareTensor(child=[False False  True  True  True  True False  True  True False]), ShareTensor(child=[ True  True False  True  True  True  True  True  True False])), (ShareTensor(child=[ True  True  True False False  True False  True False False]), ShareTensor(child=[ True False  True False False False False False  True  True]), ShareTensor(child=[ True False False  True False  True  True False False False])), (ShareTensor(child=[ True  True  True  True  True  True False False  True False]), ShareTensor(child=[ True False  True False False  True  True False  True False]), ShareTensor(child=[ True False False False False False False False  True False])), (ShareTensor(child=[ True  True  True  True False  True False False False  True]), ShareTensor(child=[ True False False  True False False  True  True False False]), ShareTensor(child=[ True  True  True  True False False  True False False False])), (ShareTensor(child=[False False  True  True False  True  True  True False  True]), ShareTensor(child=[ True False  True False False False False False  True  True]), ShareTensor(child=[ True  True False  True  True False False False False False])))\n",
      "Ring size 2\n",
      "((ShareTensor(child=[ True  True  True False False False False  True  True False]), ShareTensor(child=[False  True  True  True False  True  True False False False]), ShareTensor(child=[ True  True False  True  True False False  True  True  True])), (ShareTensor(child=[ True  True False  True  True  True False  True False False]), ShareTensor(child=[ True False  True  True  True False False False  True False]), ShareTensor(child=[False False False False  True False  True False  True  True])), (ShareTensor(child=[ True  True  True  True False False False  True  True False]), ShareTensor(child=[ True  True  True  True False  True False False  True False]), ShareTensor(child=[False  True  True False False False False False False  True])), (ShareTensor(child=[False  True  True  True  True  True  True False  True  True]), ShareTensor(child=[False  True  True  True False  True False False  True False]), ShareTensor(child=[False False  True False False False  True False  True  True])), (ShareTensor(child=[ True  True  True  True False  True False False False  True]), ShareTensor(child=[False  True  True  True  True False False  True False False]), ShareTensor(child=[False False False False False False  True False False False])), (ShareTensor(child=[False False  True False  True False False  True  True False]), ShareTensor(child=[ True False  True False False  True False  True False False]), ShareTensor(child=[ True False  True False  True  True False False  True  True])), (ShareTensor(child=[False  True  True False  True  True  True  True  True  True]), ShareTensor(child=[False False  True False  True  True False  True  True False]), ShareTensor(child=[ True  True False  True False  True  True False False  True])), (ShareTensor(child=[False  True  True False False  True False False False  True]), ShareTensor(child=[False  True False  True  True False  True False False  True]), ShareTensor(child=[ True False False  True  True False False  True  True False])), (ShareTensor(child=[False  True False False  True False  True  True  True  True]), ShareTensor(child=[ True  True  True  True False False False  True False  True]), ShareTensor(child=[ True False  True  True False  True  True  True  True False])), (ShareTensor(child=[False  True  True  True  True False False False False False]), ShareTensor(child=[False  True False False False False  True  True False  True]), ShareTensor(child=[False  True  True  True False  True False  True False  True])), (ShareTensor(child=[False False False  True False  True  True False  True False]), ShareTensor(child=[False False  True  True  True  True False  True  True False]), ShareTensor(child=[False  True False False  True False False  True False  True])), (ShareTensor(child=[False  True  True False  True  True False  True False  True]), ShareTensor(child=[ True False  True  True False  True  True False False False]), ShareTensor(child=[False False  True  True False  True False False False  True])), (ShareTensor(child=[False  True  True  True  True  True  True  True  True  True]), ShareTensor(child=[ True False False  True  True False  True  True False  True]), ShareTensor(child=[False False False False  True  True False  True False  True])), (ShareTensor(child=[False  True  True False False False  True  True False False]), ShareTensor(child=[ True  True  True  True False  True  True  True False False]), ShareTensor(child=[False  True  True False  True  True  True  True  True  True])), (ShareTensor(child=[False False False  True False  True False False  True False]), ShareTensor(child=[False  True False  True False False  True False  True False]), ShareTensor(child=[ True  True False  True  True  True False  True  True  True])), (ShareTensor(child=[ True  True  True  True False  True False  True  True False]), ShareTensor(child=[ True  True False  True  True  True  True False  True  True]), ShareTensor(child=[ True  True  True False  True  True False False False False])), (ShareTensor(child=[False  True  True  True  True  True False  True  True  True]), ShareTensor(child=[False  True False  True  True  True False  True False  True]), ShareTensor(child=[False  True False  True  True  True  True  True False False])), (ShareTensor(child=[False False  True False  True  True  True False False False]), ShareTensor(child=[ True  True False  True False False False False  True  True]), ShareTensor(child=[ True  True False  True False  True False False  True  True])), (ShareTensor(child=[ True False False False  True  True  True False False False]), ShareTensor(child=[ True False  True  True False False False False  True False]), ShareTensor(child=[ True  True  True False  True False  True  True False  True])), (ShareTensor(child=[False False  True False  True False  True  True False False]), ShareTensor(child=[ True  True False  True False  True False  True False False]), ShareTensor(child=[ True False False False  True False  True  True False  True])), (ShareTensor(child=[ True  True  True  True False  True  True False  True  True]), ShareTensor(child=[False  True  True  True False  True  True  True  True  True]), ShareTensor(child=[ True  True  True False False  True False False False  True])), (ShareTensor(child=[False  True  True False False  True  True  True  True False]), ShareTensor(child=[False  True False  True False False False  True  True False]), ShareTensor(child=[False False  True  True  True  True  True  True  True  True])), (ShareTensor(child=[ True  True False False  True  True False  True False False]), ShareTensor(child=[False  True  True  True False False False False False False]), ShareTensor(child=[False False False False False False  True  True  True  True])), (ShareTensor(child=[False  True False  True  True  True  True  True  True  True]), ShareTensor(child=[False False False  True False  True  True False  True False]), ShareTensor(child=[ True False  True False  True False  True  True False False])), (ShareTensor(child=[False  True  True False False False  True False  True False]), ShareTensor(child=[False False False False False  True False False False  True]), ShareTensor(child=[False False False False  True False False False False  True])), (ShareTensor(child=[False False  True  True False False  True  True False  True]), ShareTensor(child=[False False  True  True  True False False  True False  True]), ShareTensor(child=[False False  True False False  True  True  True False  True])), (ShareTensor(child=[False False False False False False  True  True  True False]), ShareTensor(child=[ True  True False  True  True  True  True  True  True False]), ShareTensor(child=[False False  True  True  True  True  True False False  True])), (ShareTensor(child=[False  True False False  True False False False False  True]), ShareTensor(child=[ True  True False  True False  True  True False  True  True]), ShareTensor(child=[ True  True False False False False False  True False False])), (ShareTensor(child=[ True  True False False  True  True False  True False False]), ShareTensor(child=[ True  True False  True False False  True False False False]), ShareTensor(child=[ True  True False  True  True  True False False False  True])), (ShareTensor(child=[ True False  True False False False False False  True  True]), ShareTensor(child=[ True  True False False  True False  True False False False]), ShareTensor(child=[False  True False False  True  True  True  True  True  True])), (ShareTensor(child=[False  True False  True False False  True False  True False]), ShareTensor(child=[False False False  True  True  True  True False  True  True]), ShareTensor(child=[ True False  True  True  True False  True  True False  True])), (ShareTensor(child=[ True False  True False False False False False False False]), ShareTensor(child=[ True False False False  True  True False False  True  True]), ShareTensor(child=[ True  True  True False False  True  True False  True False])), (ShareTensor(child=[ True False  True  True False False  True False  True False]), ShareTensor(child=[ True  True False  True  True False  True  True False False]), ShareTensor(child=[False  True  True False  True False False  True  True False])), (ShareTensor(child=[ True  True  True False  True  True  True False False  True]), ShareTensor(child=[False  True False False  True  True False  True  True False]), ShareTensor(child=[False False False  True  True  True  True False False False])), (ShareTensor(child=[ True  True False False False  True False False  True  True]), ShareTensor(child=[ True  True False False False  True False False False False]), ShareTensor(child=[False  True False  True  True  True False  True False  True])), (ShareTensor(child=[False False False False False  True False  True  True  True]), ShareTensor(child=[ True  True False  True  True False  True False  True  True]), ShareTensor(child=[False  True  True False False False False False  True  True])), (ShareTensor(child=[ True  True False False  True  True False  True  True False]), ShareTensor(child=[ True False  True False False False False False False  True]), ShareTensor(child=[ True False False  True False False False  True  True False])), (ShareTensor(child=[ True  True False  True False False False False  True False]), ShareTensor(child=[ True  True False  True False  True False False  True  True]), ShareTensor(child=[False False  True False  True False False  True False False])), (ShareTensor(child=[False False False False False  True  True False  True  True]), ShareTensor(child=[ True  True  True  True False False  True False  True False]), ShareTensor(child=[ True False False False  True False  True  True False False])), (ShareTensor(child=[False  True  True  True False  True  True  True  True  True]), ShareTensor(child=[ True  True False False False False False  True False  True]), ShareTensor(child=[False  True  True  True False  True False False False False])), (ShareTensor(child=[False False  True  True False  True  True  True  True False]), ShareTensor(child=[False False False False  True  True  True False False False]), ShareTensor(child=[ True False  True  True  True  True False  True False  True])), (ShareTensor(child=[ True  True False False  True False  True  True  True  True]), ShareTensor(child=[False  True False False False  True  True  True  True  True]), ShareTensor(child=[False  True  True False  True  True False  True False False])), (ShareTensor(child=[ True  True  True  True False  True  True False False  True]), ShareTensor(child=[ True False  True False False  True  True False False  True]), ShareTensor(child=[False False False False  True False  True False  True False])), (ShareTensor(child=[ True  True False  True False  True False False False  True]), ShareTensor(child=[ True  True  True  True False False  True  True False False]), ShareTensor(child=[ True  True False  True  True  True False False  True  True])), (ShareTensor(child=[ True False  True  True  True False  True False False False]), ShareTensor(child=[False  True False  True  True  True False False False False]), ShareTensor(child=[False  True False False False  True False  True  True False])), (ShareTensor(child=[False False  True False False  True  True  True  True  True]), ShareTensor(child=[ True  True False  True False False False False  True  True]), ShareTensor(child=[False False  True False  True False False  True  True False])), (ShareTensor(child=[False  True  True False  True False False  True False False]), ShareTensor(child=[ True False  True  True  True  True False False False False]), ShareTensor(child=[ True False False False False False  True  True  True False])), (ShareTensor(child=[ True  True  True  True  True  True  True False  True  True]), ShareTensor(child=[ True  True  True False  True  True  True False  True  True]), ShareTensor(child=[ True False False False  True False  True False  True  True])), (ShareTensor(child=[ True False False False  True False False False  True  True]), ShareTensor(child=[False  True  True  True  True  True  True False False False]), ShareTensor(child=[False  True False False False False  True False False False])), (ShareTensor(child=[ True  True False False False False  True  True False  True]), ShareTensor(child=[False False False  True  True False  True False False False]), ShareTensor(child=[ True  True False False False  True  True False  True  True])), (ShareTensor(child=[ True False False False  True False False False  True False]), ShareTensor(child=[ True False  True  True  True False False  True  True  True]), ShareTensor(child=[False  True  True  True False False  True  True  True False])), (ShareTensor(child=[False  True False False False  True  True False False  True]), ShareTensor(child=[False False  True  True False  True  True  True  True  True]), ShareTensor(child=[False  True False False False  True  True False  True  True])), (ShareTensor(child=[ True  True False False  True False False  True  True  True]), ShareTensor(child=[False  True False  True False  True  True  True  True  True]), ShareTensor(child=[ True  True  True  True False False  True  True False  True])), (ShareTensor(child=[ True False  True  True  True  True False  True False False]), ShareTensor(child=[False False False False  True  True  True  True  True  True]), ShareTensor(child=[ True  True  True False False  True False False  True False])), (ShareTensor(child=[False False  True  True  True  True  True  True False False]), ShareTensor(child=[ True  True  True False  True False False  True  True  True]), ShareTensor(child=[False  True False  True  True  True  True  True  True  True])), (ShareTensor(child=[False  True  True False  True  True False  True False False]), ShareTensor(child=[ True  True  True False False  True  True False  True  True]), ShareTensor(child=[ True  True False False False False  True False  True False])), (ShareTensor(child=[ True  True False  True False  True  True False  True False]), ShareTensor(child=[ True False False False  True  True False False  True  True]), ShareTensor(child=[ True False  True False False False  True  True  True False])), (ShareTensor(child=[False  True  True  True  True  True  True  True False  True]), ShareTensor(child=[ True  True False False False  True  True  True  True False]), ShareTensor(child=[False False  True  True False  True  True False False  True])), (ShareTensor(child=[ True  True  True False False  True False  True  True  True]), ShareTensor(child=[ True  True False False  True  True  True  True False False]), ShareTensor(child=[ True  True False False False False  True  True  True  True])), (ShareTensor(child=[False False False False False  True  True False  True  True]), ShareTensor(child=[ True  True  True False  True False  True  True  True  True]), ShareTensor(child=[False  True False False  True  True False  True  True False])), (ShareTensor(child=[ True  True  True False False False  True  True False False]), ShareTensor(child=[False  True  True False  True False False False  True False]), ShareTensor(child=[ True False False  True False  True  True False False False])), (ShareTensor(child=[ True False  True False  True False  True  True  True  True]), ShareTensor(child=[ True False False  True  True  True  True  True False False]), ShareTensor(child=[ True False False  True False False False  True  True False])), (ShareTensor(child=[ True  True False False  True  True False False  True False]), ShareTensor(child=[False  True  True False  True False False False  True False]), ShareTensor(child=[ True  True False False  True False  True False  True False])), (ShareTensor(child=[ True  True  True  True  True False  True False False  True]), ShareTensor(child=[ True  True False False False False False False  True  True]), ShareTensor(child=[ True False False  True  True False False False False False])))\n",
      "Ring size 2\n",
      "Bit Number : 0\n",
      "Bit Number : 1\n",
      "Bit Number : 2\n",
      "Bit Number : 3\n",
      "Bit Number : 4\n",
      "Bit Number : 5\n",
      "Bit Number : 6\n",
      "Bit Number : 7\n",
      "Bit Number : 8\n",
      "Bit Number : 9\n",
      "Bit Number : 10\n",
      "Bit Number : 11\n",
      "Bit Number : 12\n",
      "Bit Number : 13\n",
      "Bit Number : 14\n",
      "Bit Number : 15\n",
      "Bit Number : 16\n",
      "Bit Number : 17\n",
      "Bit Number : 18\n",
      "Bit Number : 19\n",
      "Bit Number : 20\n",
      "Bit Number : 21\n",
      "Bit Number : 22\n",
      "Bit Number : 23\n",
      "Bit Number : 24\n",
      "Bit Number : 25\n",
      "Bit Number : 26\n",
      "Bit Number : 27\n",
      "Bit Number : 28\n",
      "Bit Number : 29\n",
      "Bit Number : 30\n",
      "Bit Number : 31\n",
      "((ShareTensor(child=[ -268445003  1510089810    49008865  -454103488  1781497053 -1587091964\n",
      "   485524473   216267365   918018350  1257252938]), ShareTensor(child=[-1217306875   957851110  1225726196   409695245 -1042547342 -1965174019\n",
      "   -19853896  -274617126  -221150504 -1934319148]), ShareTensor(child=[  233431743  -747084538  1880283040  1473538394   171549215 -1861721086\n",
      "   178413544   324788866  -470862131  -693028387])),)\n",
      "Ring size 4294967296\n",
      "((ShareTensor(child=[  233688242  1036630619  1949830459  2086395502 -1290283857  -950515654\n",
      "   -42417689   873191590 -1901173291  1813781160]), ShareTensor(child=[ -903207933  1236288078   545567023  -375480592  -692894094   795597474\n",
      " -1985964366 -1637306916  -602795843  -988645374]), ShareTensor(child=[-1064694407 -1237803490   757767732  1816664732  1624679057  -341624192\n",
      "   764939992 -1077672624     7024370   -63545745])),)\n",
      "Ring size 4294967296\n"
     ]
    }
   ],
   "source": [
    "start = time.time()\n",
    "b = ca_data > it_data\n",
    "b.block\n",
    "end = time.time()"
   ]
  },
  {
   "cell_type": "code",
   "execution_count": 21,
   "id": "0bf22dae-ad3e-408d-8405-a3a25d150c4f",
>>>>>>> 6c89814e11339c8198827806e14219a04816b365
   "metadata": {},
   "outputs": [
    {
     "name": "stdout",
     "output_type": "stream",
     "text": [
      "=====================================================\n",
      "OP <built-in function add> int32 4294967296\n",
      "====================================================\n"
     ]
    },
    {
     "data": {
      "text/plain": [
<<<<<<< HEAD
       "Tensor(child=SingleEntityPhiTensor(entity=bob, child=ShareTensor(child=[0 0 1 0 0 0 0 1 0 0])))"
      ]
     },
     "execution_count": 22,
=======
       "46.877848625183105"
      ]
     },
     "execution_count": 21,
>>>>>>> 6c89814e11339c8198827806e14219a04816b365
     "metadata": {},
     "output_type": "execute_result"
    }
   ],
   "source": [
<<<<<<< HEAD
    "b.get()"
=======
    "end - start"
>>>>>>> 6c89814e11339c8198827806e14219a04816b365
   ]
  },
  {
   "cell_type": "code",
<<<<<<< HEAD
   "execution_count": 41,
   "id": "4d201a2a-6f5c-43d1-be88-a7e34e6b0020",
   "metadata": {},
   "outputs": [
    {
=======
   "execution_count": 1,
   "id": "670a4278-a6ce-45ae-a202-b8e30f1efd32",
   "metadata": {},
   "outputs": [
    {
     "ename": "NameError",
     "evalue": "name 'b' is not defined",
     "output_type": "error",
     "traceback": [
      "\u001b[0;31m---------------------------------------------------------------------------\u001b[0m",
      "\u001b[0;31mNameError\u001b[0m                                 Traceback (most recent call last)",
      "\u001b[0;32m/var/folders/d5/5rsdwt8n28l9r0h_pjnp57nw0000gn/T/ipykernel_53669/317674578.py\u001b[0m in \u001b[0;36m<module>\u001b[0;34m\u001b[0m\n\u001b[0;32m----> 1\u001b[0;31m \u001b[0mb\u001b[0m\u001b[0;34m.\u001b[0m\u001b[0mrequest\u001b[0m\u001b[0;34m(\u001b[0m\u001b[0;34m)\u001b[0m\u001b[0;34m\u001b[0m\u001b[0;34m\u001b[0m\u001b[0m\n\u001b[0m",
      "\u001b[0;31mNameError\u001b[0m: name 'b' is not defined"
     ]
    }
   ],
   "source": [
    "b.request()"
   ]
  },
  {
   "cell_type": "code",
   "execution_count": 22,
   "id": "3ac4b99b-3184-4410-ad80-b8adc7e77134",
   "metadata": {},
   "outputs": [
    {
>>>>>>> 6c89814e11339c8198827806e14219a04816b365
     "name": "stdout",
     "output_type": "stream",
     "text": [
      "=====================================================\n",
      "OP <built-in function add> int32 4294967296\n",
      "====================================================\n"
     ]
    },
    {
     "data": {
      "text/plain": [
       "Tensor(child=SingleEntityPhiTensor(entity=bob, child=ShareTensor(child=[0 0 1 0 0 0 0 1 0 0])))"
      ]
     },
<<<<<<< HEAD
     "execution_count": 41,
=======
     "execution_count": 22,
>>>>>>> 6c89814e11339c8198827806e14219a04816b365
     "metadata": {},
     "output_type": "execute_result"
    }
   ],
   "source": [
    "b.get()"
   ]
  },
  {
   "cell_type": "code",
<<<<<<< HEAD
=======
   "execution_count": 41,
   "id": "4d201a2a-6f5c-43d1-be88-a7e34e6b0020",
   "metadata": {},
   "outputs": [
    {
     "name": "stdout",
     "output_type": "stream",
     "text": [
      "=====================================================\n",
      "OP <built-in function add> int32 4294967296\n",
      "====================================================\n"
     ]
    },
    {
     "data": {
      "text/plain": [
       "Tensor(child=SingleEntityPhiTensor(entity=bob, child=ShareTensor(child=[0 0 1 0 0 0 0 1 0 0])))"
      ]
     },
     "execution_count": 41,
     "metadata": {},
     "output_type": "execute_result"
    }
   ],
   "source": [
    "b.get()"
   ]
  },
  {
   "cell_type": "code",
>>>>>>> 6c89814e11339c8198827806e14219a04816b365
   "execution_count": 44,
   "id": "93507dfb-b4d7-44b3-9615-9cf3dd1b62ea",
   "metadata": {},
   "outputs": [],
   "source": [
    "c = ca_data + ca_data"
   ]
  },
  {
   "cell_type": "code",
   "execution_count": 45,
   "id": "b2f89da8-561d-4692-a096-71b4a1548f6b",
   "metadata": {},
   "outputs": [],
   "source": [
    "i = it_data + it_data"
   ]
  },
  {
   "cell_type": "code",
   "execution_count": 46,
   "id": "9ab8ce48-f2fd-4543-941c-7caf61fade98",
   "metadata": {},
   "outputs": [],
   "source": [
    "c.request()"
   ]
  },
  {
   "cell_type": "code",
   "execution_count": 47,
   "id": "6c7ce330-e23f-4bc4-9022-36543f418cf2",
   "metadata": {},
   "outputs": [],
   "source": [
    "i.request()"
   ]
  },
  {
   "cell_type": "code",
   "execution_count": 48,
   "id": "a668557c-74d7-4d4f-aa77-46c6bdb154e1",
   "metadata": {},
   "outputs": [
    {
     "data": {
      "text/plain": [
       "Tensor(child=SingleEntityPhiTensor(entity=bob, child=[ 0  2 28  0  0  0  0  6  0  0]))"
      ]
     },
     "execution_count": 48,
     "metadata": {},
     "output_type": "execute_result"
    }
   ],
   "source": [
    "c.get()"
   ]
  },
  {
   "cell_type": "code",
   "execution_count": 49,
   "id": "af7a93d7-0331-4693-ad83-cf89dc0cdbab",
   "metadata": {},
   "outputs": [
    {
     "data": {
      "text/plain": [
       "Tensor(child=SingleEntityPhiTensor(entity=bob, child=[ 0  2  6  0  2 28  0  2  0  0]))"
      ]
     },
     "execution_count": 49,
     "metadata": {},
     "output_type": "execute_result"
    }
   ],
   "source": [
    "i.get()"
   ]
  },
  {
   "cell_type": "code",
   "execution_count": null,
   "id": "eebb8ad5-bcd0-4810-91ae-fa5d1e117c63",
   "metadata": {},
   "outputs": [],
   "source": []
  },
  {
   "cell_type": "code",
   "execution_count": null,
   "id": "c3b4fb5a-3b48-4785-98d0-a079717ba20d",
   "metadata": {},
   "outputs": [],
   "source": []
  },
  {
   "cell_type": "code",
   "execution_count": null,
   "id": "0954c037-becc-4356-812e-613456cceaa7",
   "metadata": {},
   "outputs": [],
   "source": []
  },
  {
   "cell_type": "code",
   "execution_count": null,
   "id": "4a7ce906-1aa2-43ee-a9ce-319f254592ec",
   "metadata": {},
   "outputs": [],
   "source": []
  },
  {
   "cell_type": "code",
   "execution_count": 35,
   "id": "7c1610c6-123d-4b5e-8eb5-591c3ec11ba4",
   "metadata": {},
   "outputs": [],
   "source": [
    "public_result = b.publish(sigma=0.01)"
   ]
  },
  {
   "cell_type": "code",
   "execution_count": 36,
   "id": "4fb736ec-0cab-47ef-bd38-9e0964e7ee82",
   "metadata": {},
   "outputs": [
    {
     "data": {
      "text/plain": [
       "array([ 0,  1,  1, -1,  0,  0,  0,  2, -1,  0], dtype=int32)"
      ]
     },
     "execution_count": 36,
     "metadata": {},
     "output_type": "execute_result"
    }
   ],
   "source": [
    "public_result.get()"
   ]
  },
  {
   "cell_type": "code",
   "execution_count": 37,
   "id": "2aa03396-dbf6-4486-b75e-026d32355f0e",
   "metadata": {},
   "outputs": [
    {
     "data": {
      "text/plain": [
       "114.77127382116737"
      ]
     },
     "execution_count": 37,
     "metadata": {},
     "output_type": "execute_result"
    }
   ],
   "source": [
    "ca.privacy_budget"
   ]
  },
  {
   "cell_type": "code",
   "execution_count": 38,
   "id": "e256efae-6090-48c6-82c5-de816e6e4788",
   "metadata": {},
   "outputs": [
    {
     "data": {
      "text/plain": [
       "114.77127382116737"
      ]
     },
     "execution_count": 38,
     "metadata": {},
     "output_type": "execute_result"
    }
   ],
   "source": [
    "it.privacy_budget"
   ]
  },
  {
   "cell_type": "code",
   "execution_count": null,
   "id": "62534343-02f1-4311-97c3-c3e412fd041d",
   "metadata": {},
   "outputs": [],
   "source": []
  },
  {
   "cell_type": "code",
   "execution_count": 12,
   "id": "b310d4ea-d26c-4f5b-8ea9-45ba79b9877c",
   "metadata": {},
   "outputs": [],
   "source": [
    "from syft.core.tensor.smpc.mpc_tensor import MPCTensor"
   ]
  },
  {
   "cell_type": "code",
   "execution_count": 13,
   "id": "2d8818bf-72b1-4a48-b272-7c673f310371",
   "metadata": {},
   "outputs": [],
   "source": [
    "self = ca_data\n",
    "other = it_data"
   ]
  },
  {
   "cell_type": "code",
   "execution_count": 15,
   "id": "32fa6cce-b357-43fd-be38-c82028966787",
   "metadata": {},
   "outputs": [],
   "source": [
    "parties = [self.client, other.client]\n",
    "self_mpc = MPCTensor(secret=self, shape=self.public_shape, parties=parties)\n",
    "other_mpc = MPCTensor(\n",
    "    secret=other, shape=other.public_shape, parties=parties\n",
    ")"
   ]
  },
  {
   "cell_type": "code",
   "execution_count": 16,
   "id": "2ac41122-97be-4a29-964c-b49ace08d261",
   "metadata": {},
   "outputs": [],
   "source": [
    "(\n",
    "    self_shrs,\n",
    "    other_shrs,\n",
    "    kwargs,\n",
    "    ring_size,\n",
    "    parties,\n",
    "    parties_info,\n",
    "    self_shape,\n",
    "    other_shape,\n",
    ") = MPCTensor.prepare_arguments_and_run_checks(self_mpc, other_mpc)"
   ]
  },
  {
   "cell_type": "code",
   "execution_count": 21,
   "id": "06367484-49c2-4b4e-9bb4-f5dbc77dab33",
   "metadata": {},
   "outputs": [],
   "source": [
    "out = self_shrs[0] + other_shrs[0]"
   ]
  },
  {
   "cell_type": "code",
   "execution_count": 22,
   "id": "400255f6-5375-48fd-9de6-833dfe9dde60",
   "metadata": {},
   "outputs": [],
   "source": [
    "out2 = self_shrs[1] + other_shrs[1]"
   ]
  },
  {
   "cell_type": "code",
   "execution_count": 28,
   "id": "baef6967-0571-42e7-99f1-2e747104f2e0",
   "metadata": {},
   "outputs": [],
   "source": [
    "# Step 6: Execute the SMPC operation\n",
    "# TODO: some complex hooking logic on ShareTensor means we're passing in 'a' twice\n",
    "res_shares = [a.__add__(b, **kwargs) for a, b in zip(self_shrs, other_shrs)]"
   ]
  },
  {
   "cell_type": "code",
   "execution_count": 12,
   "id": "ed33fca7-1933-4012-a623-1470e0d6f22f",
   "metadata": {},
   "outputs": [
    {
     "name": "stdout",
     "output_type": "stream",
     "text": [
      "A:<TensorPointer -> lucid_bostrom:2a873523174947d4837e2a816c83e2b2>\n",
      "B:<TensorPointer -> lucid_bostrom:c26bfa8936f948cd8829288b56e519d4>\n"
     ]
    }
   ],
   "source": [
    "result = ca_data + it_data"
   ]
  },
  {
   "cell_type": "code",
   "execution_count": 13,
   "id": "97c0f1a6-a4be-49ec-9657-3dcfb9993bd8",
   "metadata": {},
   "outputs": [],
   "source": []
  },
  {
   "cell_type": "code",
   "execution_count": 19,
   "id": "ee5696f4-d0cc-44ba-ae5d-c3d42c8f2642",
   "metadata": {},
   "outputs": [
    {
     "ename": "TypeError",
     "evalue": "block_with_timeout() got an unexpected keyword argument 'secs_per_poll'",
     "output_type": "error",
     "traceback": [
      "\u001b[0;31m---------------------------------------------------------------------------\u001b[0m",
      "\u001b[0;31mTypeError\u001b[0m                                 Traceback (most recent call last)",
      "\u001b[0;32m/var/folders/d5/5rsdwt8n28l9r0h_pjnp57nw0000gn/T/ipykernel_15907/1119293525.py\u001b[0m in \u001b[0;36m<module>\u001b[0;34m\u001b[0m\n\u001b[0;32m----> 1\u001b[0;31m \u001b[0mpublic_result\u001b[0m\u001b[0;34m.\u001b[0m\u001b[0mblock_with_timeout\u001b[0m\u001b[0;34m(\u001b[0m\u001b[0;36m3\u001b[0m\u001b[0;34m)\u001b[0m\u001b[0;34m.\u001b[0m\u001b[0mget\u001b[0m\u001b[0;34m(\u001b[0m\u001b[0;34m)\u001b[0m\u001b[0;34m\u001b[0m\u001b[0;34m\u001b[0m\u001b[0m\n\u001b[0m",
      "\u001b[0;32m~/Laboratory/PySyft/packages/syft/src/syft/core/tensor/smpc/mpc_tensor.py\u001b[0m in \u001b[0;36mblock_with_timeout\u001b[0;34m(self, secs, secs_per_poll)\u001b[0m\n\u001b[1;32m    368\u001b[0m \u001b[0;34m\u001b[0m\u001b[0m\n\u001b[1;32m    369\u001b[0m         \u001b[0;32mfor\u001b[0m \u001b[0mshare\u001b[0m \u001b[0;32min\u001b[0m \u001b[0mself\u001b[0m\u001b[0;34m.\u001b[0m\u001b[0mchild\u001b[0m\u001b[0;34m:\u001b[0m\u001b[0;34m\u001b[0m\u001b[0;34m\u001b[0m\u001b[0m\n\u001b[0;32m--> 370\u001b[0;31m             \u001b[0mshare\u001b[0m\u001b[0;34m.\u001b[0m\u001b[0mblock_with_timeout\u001b[0m\u001b[0;34m(\u001b[0m\u001b[0msecs\u001b[0m\u001b[0;34m=\u001b[0m\u001b[0msecs\u001b[0m\u001b[0;34m,\u001b[0m \u001b[0msecs_per_poll\u001b[0m\u001b[0;34m=\u001b[0m\u001b[0msecs_per_poll\u001b[0m\u001b[0;34m)\u001b[0m\u001b[0;34m\u001b[0m\u001b[0;34m\u001b[0m\u001b[0m\n\u001b[0m\u001b[1;32m    371\u001b[0m \u001b[0;34m\u001b[0m\u001b[0m\n\u001b[1;32m    372\u001b[0m         \u001b[0;32mreturn\u001b[0m \u001b[0mself\u001b[0m\u001b[0;34m\u001b[0m\u001b[0;34m\u001b[0m\u001b[0m\n",
      "\u001b[0;31mTypeError\u001b[0m: block_with_timeout() got an unexpected keyword argument 'secs_per_poll'"
     ]
    }
   ],
   "source": [
    "public_result.block_with_timeout(3).get()"
   ]
  },
  {
   "cell_type": "code",
   "execution_count": 16,
   "id": "81986b66-83f3-4c2f-a73a-311d63f3f09e",
   "metadata": {},
   "outputs": [
    {
     "data": {
      "text/plain": [
       "41.592815128439895"
      ]
     },
     "execution_count": 16,
     "metadata": {},
     "output_type": "execute_result"
    }
   ],
   "source": [
    "ca.privacy_budget"
   ]
  },
  {
   "cell_type": "code",
   "execution_count": 17,
   "id": "d817dfa6-b13e-40cb-8e2c-2f94e61a1fef",
   "metadata": {},
   "outputs": [
    {
     "data": {
      "text/plain": [
       "41.592815128439895"
      ]
     },
     "execution_count": 17,
     "metadata": {},
     "output_type": "execute_result"
    }
   ],
   "source": [
    "it.privacy_budget"
   ]
  },
  {
   "cell_type": "code",
   "execution_count": 18,
   "id": "3f92aec5-7e27-41cf-b3b8-4bcac5a2b052",
   "metadata": {},
   "outputs": [
    {
     "data": {
      "text/plain": [
       "array([ 0,  1, -1, -2, -1, -3, -7, -2,  0, -2], dtype=int32)"
      ]
     },
     "execution_count": 18,
     "metadata": {},
     "output_type": "execute_result"
    }
   ],
   "source": [
    "public_result.get()"
   ]
  },
  {
   "cell_type": "code",
   "execution_count": null,
   "id": "e98ed911-31b6-49b0-8cb3-9f05621690e6",
   "metadata": {},
   "outputs": [],
   "source": []
  },
  {
   "cell_type": "code",
   "execution_count": null,
   "id": "a9e03b98-a03b-4f2b-a314-ba162d671a09",
   "metadata": {},
   "outputs": [],
   "source": []
  },
  {
   "cell_type": "code",
   "execution_count": null,
   "id": "f75435dd-0c35-4a63-a971-f6e3d858cc31",
   "metadata": {},
   "outputs": [],
   "source": []
  }
 ],
 "metadata": {
  "kernelspec": {
   "display_name": "Python 3 (ipykernel)",
   "language": "python",
   "name": "python3"
  },
  "language_info": {
   "codemirror_mode": {
    "name": "ipython",
    "version": 3
   },
   "file_extension": ".py",
   "mimetype": "text/x-python",
   "name": "python",
   "nbconvert_exporter": "python",
   "pygments_lexer": "ipython3",
   "version": "3.9.7"
  }
 },
 "nbformat": 4,
 "nbformat_minor": 5
}
