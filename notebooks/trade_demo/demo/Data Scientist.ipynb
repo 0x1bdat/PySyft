{
 "cells": [
  {
   "cell_type": "markdown",
   "metadata": {},
   "source": [
    "# SMPC Trade Demo - Data Scientist"
   ]
  },
  {
   "cell_type": "markdown",
   "metadata": {},
   "source": [
    "# Step 1: Login to new Domains and Find Data"
   ]
  },
  {
   "cell_type": "code",
   "execution_count": 1,
   "metadata": {},
   "outputs": [],
   "source": [
    "\n",
    "nl = sy.login(email=\"sheldon@caltech.edu\", password=\"bazinga\", port=8081)\n",
    "usa = sy.login(email=\"sheldon@caltech.edu\", password=\"bazinga\", port=8082)\n",
    "it = sy.login(email=\"sheldon@caltech.edu\", password=\"bazinga\", port=8083)"
   ]
  },
  {
   "cell_type": "code",
   "execution_count": null,
   "metadata": {},
   "outputs": [],
   "source": [
    "nl.datasets"
   ]
  },
  {
   "cell_type": "code",
   "execution_count": null,
   "metadata": {},
   "outputs": [],
   "source": [
    "usa.datasets"
   ]
  },
  {
   "cell_type": "code",
   "execution_count": 2,
   "metadata": {},
   "outputs": [],
   "source": [
    "it.datasets"
   ]
  },
  {
   "cell_type": "code",
   "execution_count": null,
   "metadata": {},
   "outputs": [],
   "source": [
    "nl_data = nl.datasets['feb2020']\n",
    "usa_data = usa.datasets['feb2020']\n",
    "it_data = it.datasets['feb2020']"
   ]
  },
  {
   "cell_type": "markdown",
   "metadata": {},
   "source": [
    "# Step 2: Local Computation"
   ]
  },
  {
   "cell_type": "code",
   "execution_count": null,
   "metadata": {},
   "outputs": [],
   "source": [
    "nl_sum = nl_data.sum(0)\n",
    "usa_sum = usa_data.sum(0)\n",
    "it_sum = it_data.sum(0)"
   ]
  },
  {
   "cell_type": "markdown",
   "metadata": {},
   "source": [
    "# Step 3: Cross-node Computation"
   ]
  },
  {
   "cell_type": "code",
   "execution_count": 3,
   "metadata": {},
   "outputs": [],
   "source": [
    "# automatically converts tensors to SMPC tensors under the hood\n",
    "# and then runs the sum across them\n",
    "result = nl_sum + usa_sum + it_sum"
   ]
  },
  {
   "cell_type": "markdown",
   "metadata": {},
   "source": [
    "# Step 4: Request Ability to Download Result"
   ]
  },
  {
   "cell_type": "code",
   "execution_count": 1,
   "metadata": {},
   "outputs": [
    {
     "name": "stdout",
     "output_type": "stream",
     "text": [
      "Please wait Computation is still in progress !!!\n"
     ]
    }
   ],
   "source": [
    "# If computation is still in progress\n",
    "result.get()"
   ]
  },
  {
   "cell_type": "code",
   "execution_count": null,
   "metadata": {},
   "outputs": [],
   "source": [
    "# Once computation is finished\n",
    "# fails on `.get` operation\n",
    "result.get()"
   ]
  },
  {
   "cell_type": "markdown",
   "metadata": {},
   "source": [
    "```bash\n",
    "AuthorizationException: You do not have permission to .get() Object with ID: <UID: 140493290c52ee051b5b275c1a44e388> Please submit a request.\n",
    "\n",
    "```"
   ]
  },
  {
   "cell_type": "code",
   "execution_count": 5,
   "metadata": {},
   "outputs": [],
   "source": [
    "# works - creates one request on each shareholder\n",
    "result.request(reason=\"I'd like to decrypt this result\")"
   ]
  },
  {
   "cell_type": "code",
   "execution_count": 7,
   "metadata": {},
   "outputs": [
    {
     "name": "stdout",
     "output_type": "stream",
     "text": [
      "\n",
      "You're request to access the data is either timed out or denied by one or more partners.\n",
      "Partners:\n",
      "    Netherlands: Accepted\n",
      "    USA: Accepted\n",
      "    Italy: Denied\n",
      "\n"
     ]
    }
   ],
   "source": [
    "# If request is denied/timed-out by one or more partners\n",
    "result.get()"
   ]
  },
  {
   "cell_type": "code",
   "execution_count": 10,
   "metadata": {},
   "outputs": [
    {
     "name": "stdout",
     "output_type": "stream",
     "text": [
      "122414124\n"
     ]
    }
   ],
   "source": [
    "# If request is approved !!!\n",
    "# The result of the computation is returned.\n",
    "result.get()"
   ]
  },
  {
   "cell_type": "code",
   "execution_count": null,
   "metadata": {},
   "outputs": [],
   "source": []
  },
  {
   "cell_type": "code",
   "execution_count": null,
   "metadata": {},
   "outputs": [],
   "source": []
  },
  {
   "cell_type": "code",
   "execution_count": null,
   "metadata": {},
   "outputs": [],
   "source": []
  },
  {
   "cell_type": "code",
   "execution_count": null,
   "metadata": {},
   "outputs": [],
   "source": []
  },
  {
   "cell_type": "code",
   "execution_count": null,
   "metadata": {},
   "outputs": [],
   "source": []
  },
  {
   "cell_type": "code",
   "execution_count": 11,
   "metadata": {},
   "outputs": [],
   "source": [
    "##### Dummy Data\n",
    "\n",
    "computation_in_progress_message = \"Please wait Computation is still in progress !!!\"\n",
    "\n",
    "request_denied_message = '''\n",
    "You're request to access the data is either timed out or denied by one or more partners.\n",
    "Partners:\n",
    "    Netherlands: Accepted\n",
    "    USA: Accepted\n",
    "    Italy: Denied\n",
    "'''\n",
    "\n",
    "dummy_computation_result = 122414124\n",
    "#print(request_denied_message)"
   ]
  }
 ],
 "metadata": {
  "kernelspec": {
   "display_name": "Python 3",
   "language": "python",
   "name": "python3"
  },
  "language_info": {
   "codemirror_mode": {
    "name": "ipython",
    "version": 3
   },
   "file_extension": ".py",
   "mimetype": "text/x-python",
   "name": "python",
   "nbconvert_exporter": "python",
   "pygments_lexer": "ipython3",
   "version": "3.9.6"
  }
 },
 "nbformat": 4,
 "nbformat_minor": 4
}
