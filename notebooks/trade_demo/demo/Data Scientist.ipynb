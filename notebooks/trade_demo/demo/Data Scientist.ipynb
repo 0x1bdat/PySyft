{
 "cells": [
  {
   "cell_type": "markdown",
   "id": "390e57f3",
   "metadata": {},
   "source": [
    "### Trade Demo\n",
    "\n",
    "#### Goals:\n",
    "- Login to the Canada domain.\n",
    "- Select the dataset.\n",
    "- Cacluate the sum of total of good imported and exported to Egypt.\n",
    "- Request for the sum\n",
    "- Download the results"
   ]
  },
  {
   "cell_type": "markdown",
   "id": "61b3dd4a",
   "metadata": {},
   "source": [
    "### Step 1: Login into the Canada domain"
   ]
  },
  {
   "cell_type": "code",
   "execution_count": null,
   "id": "dbcce57a",
   "metadata": {},
   "outputs": [],
   "source": [
    "# As a Data Scientist we want to perform some analysis on the trade dataset available on the Canada domain.\n",
    "# Our goal is to calculate the sum total of the goods imported (imports + re-imports) \n",
    "# and exported (exports + re-exports) to Egypt.\n",
    "\n",
    "import syft as sy\n",
    "\n",
    "# Let's login into the canada domain\n",
    "canada_domain_node = sy.login(email=\"sheldon@caltech.edu\", password=\"bazinga\", port=8081)"
   ]
  },
  {
   "cell_type": "markdown",
   "id": "72d92c1b",
   "metadata": {},
   "source": [
    "### Step 2: Select the dataset"
   ]
  },
  {
   "cell_type": "code",
   "execution_count": null,
   "id": "66714cf0",
   "metadata": {},
   "outputs": [],
   "source": [
    "# Awesome !!! We're logged into the domain node\n",
    "# Let's quickly list all the datasets available on the Canada domain\n",
    "\n",
    "canada_domain_node.datasets"
   ]
  },
  {
   "cell_type": "code",
   "execution_count": null,
   "id": "eac1bd20-1314-4efb-8a3b-b395f909f336",
   "metadata": {},
   "outputs": [],
   "source": [
    "canada_domain_node.datasets[0]"
   ]
  },
  {
   "cell_type": "code",
   "execution_count": null,
   "id": "2b163b3d-e7f2-449c-a17f-162b4cf9a579",
   "metadata": {},
   "outputs": [],
   "source": [
    "feb2020 = canada_domain_node.datasets[0]['feb2020']\n",
    "feb2020.tags"
   ]
  },
  {
   "cell_type": "code",
   "execution_count": null,
   "id": "04a33945",
   "metadata": {},
   "outputs": [],
   "source": [
    "# # Let's try to get the whole dataset itself.\n",
    "feb2020.request(reason=\"Access whole dataset\")"
   ]
  },
  {
   "cell_type": "code",
   "execution_count": null,
   "id": "faa69f06",
   "metadata": {},
   "outputs": [],
   "source": [
    "# Let's see if our request was accepted\n",
    "feb2020.get()"
   ]
  },
  {
   "cell_type": "code",
   "execution_count": null,
   "id": "62d5192b",
   "metadata": {},
   "outputs": [],
   "source": [
    "# Seems, like the request to download the whole dataset was denied by the Data Owner."
   ]
  },
  {
   "cell_type": "code",
   "execution_count": null,
   "id": "cc351052",
   "metadata": {},
   "outputs": [],
   "source": [
    "# Let's continue with the analysis remotely.\n",
    "# Let's calculate the value of the goods import from Egypt.\n",
    "\n",
    "value_of_goods_imported_from_egypt = feb2020[(feb2020['Partner'] == 'Egypt') & (feb2020['Trade Flow'] == 'Imports')]['Trade Value (US$)'].sum()\n",
    "value_of_goods_reimported_from_egypt = feb2020[(feb2020['Partner'] == 'Egypt') & (feb2020['Trade Flow'] == 'Re-imports')]['Trade Value (US$)'].sum()"
   ]
  },
  {
   "cell_type": "code",
   "execution_count": null,
   "id": "6ac58543",
   "metadata": {},
   "outputs": [],
   "source": [
    "value_of_goods_imported_from_egypt.request(reason=\"Goods value imported from Egypt\")"
   ]
  },
  {
   "cell_type": "code",
   "execution_count": null,
   "id": "689b4f25",
   "metadata": {},
   "outputs": [],
   "source": [
    "value_of_goods_reimported_from_egypt.request(reason=\"Goods value imported from Egypt\")"
   ]
  },
  {
   "cell_type": "code",
   "execution_count": null,
   "id": "ed55a0f7-9348-45f6-af96-b5141684e5fc",
   "metadata": {},
   "outputs": [],
   "source": [
    "# wait for data owner to accept/deny request"
   ]
  },
  {
   "cell_type": "code",
   "execution_count": null,
   "id": "545a1edd",
   "metadata": {},
   "outputs": [],
   "source": [
    "imported_goods_value = value_of_goods_imported_from_egypt.get(delete_obj=False)\n",
    "reimported_goods_value = value_of_goods_reimported_from_egypt.get(delete_obj=False)\n",
    "print(f\"Total trade value($) of the goods Imported from Egypt to Canada: ${imported_goods_value + reimported_goods_value}\")"
   ]
  },
  {
   "cell_type": "code",
   "execution_count": null,
   "id": "125b3414",
   "metadata": {},
   "outputs": [],
   "source": [
    "# Similarly, we can get the get the goods being exported to Egypt.\n",
    "\n",
    "value_of_goods_exported_to_egypt = feb2020[(feb2020['Partner'] == 'Egypt') & (feb2020['Trade Flow'] == 'Exports') & (feb2020['Trade Flow'] == 'Exports')]['Trade Value (US$)'].sum()\n",
    "value_of_goods_reexported_to_egypt = feb2020[(feb2020['Partner'] == 'Egypt') & (feb2020['Trade Flow'] == 'Exports') & (feb2020['Trade Flow'] == 'Re-exports')]['Trade Value (US$)'].sum()"
   ]
  },
  {
   "cell_type": "code",
   "execution_count": null,
   "id": "f4944431",
   "metadata": {},
   "outputs": [],
   "source": [
    "value_of_goods_exported_to_egypt.request(reason=\"Goods value exported to Egypt\")"
   ]
  },
  {
   "cell_type": "code",
   "execution_count": null,
   "id": "a7f10dad",
   "metadata": {},
   "outputs": [],
   "source": [
    "value_of_goods_reexported_to_egypt.request(reason=\"Goods value Re-Exported to Egypt\")"
   ]
  },
  {
   "cell_type": "code",
   "execution_count": null,
   "id": "81c2c381",
   "metadata": {},
   "outputs": [],
   "source": [
    "exported_goods_value = value_of_goods_exported_to_egypt.get(delete_obj=False)\n",
    "reexported_goods_value = value_of_goods_reexported_to_egypt.get(delete_obj=False)\n",
    "print(f\"Total trade value($) of the goods Exported to Egypt from Canada: ${imported_goods_value + reimported_goods_value}\")"
   ]
  },
  {
   "cell_type": "markdown",
   "id": "6ed7a86a",
   "metadata": {},
   "source": [
    "*Great !!! We successfully, finished our analysis.*"
   ]
  },
  {
   "cell_type": "code",
   "execution_count": null,
   "id": "d304bb45",
   "metadata": {},
   "outputs": [],
   "source": []
  }
 ],
 "metadata": {
  "kernelspec": {
   "display_name": "Python 3 (ipykernel)",
   "language": "python",
   "name": "python3"
  },
  "language_info": {
   "codemirror_mode": {
    "name": "ipython",
    "version": 3
   },
   "file_extension": ".py",
   "mimetype": "text/x-python",
   "name": "python",
   "nbconvert_exporter": "python",
   "pygments_lexer": "ipython3",
   "version": "3.9.6"
  }
 },
 "nbformat": 4,
 "nbformat_minor": 5
}
