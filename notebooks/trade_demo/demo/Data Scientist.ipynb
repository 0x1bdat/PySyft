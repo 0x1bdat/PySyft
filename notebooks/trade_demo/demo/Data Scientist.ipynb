{
 "cells": [
  {
   "cell_type": "code",
   "execution_count": 1,
   "id": "089dcd10",
   "metadata": {},
   "outputs": [],
   "source": [
    "import pandas as pd\n",
    "import syft as sy\n",
    "import numpy as np\n",
    "sy.logger.remove()"
   ]
  },
  {
   "cell_type": "markdown",
   "id": "6025d4af",
   "metadata": {},
   "source": [
    "### Logging into the domain Nodes"
   ]
  },
  {
   "cell_type": "code",
   "execution_count": 4,
   "id": "0db3e249",
   "metadata": {},
   "outputs": [
    {
     "name": "stdout",
     "output_type": "stream",
     "text": [
      "Connecting to http://localhost:8081... done! \t Logging into canada... done!\n",
      "Connecting to http://localhost:8082... done! \t Logging into italy... done!\n"
     ]
    }
   ],
   "source": [
    "# We will login into Canada and Italy domain node\n",
    "ca = sy.login(email=\"sheldon@caltech.edu\", password=\"bazinga\", port=8081)\n",
    "it = sy.login(email=\"sheldon@caltech.edu\", password=\"bazinga\", port=8082)"
   ]
  },
  {
   "cell_type": "code",
   "execution_count": 5,
   "id": "f451587a",
   "metadata": {},
   "outputs": [
    {
     "data": {
      "text/html": [
       "<div>\n",
       "<style scoped>\n",
       "    .dataframe tbody tr th:only-of-type {\n",
       "        vertical-align: middle;\n",
       "    }\n",
       "\n",
       "    .dataframe tbody tr th {\n",
       "        vertical-align: top;\n",
       "    }\n",
       "\n",
       "    .dataframe thead th {\n",
       "        text-align: right;\n",
       "    }\n",
       "</style>\n",
       "<table border=\"1\" class=\"dataframe\">\n",
       "  <thead>\n",
       "    <tr style=\"text-align: right;\">\n",
       "      <th></th>\n",
       "      <th>id</th>\n",
       "      <th>data</th>\n",
       "      <th>name</th>\n",
       "      <th>tags</th>\n",
       "      <th>description</th>\n",
       "    </tr>\n",
       "  </thead>\n",
       "  <tbody>\n",
       "    <tr>\n",
       "      <th>0</th>\n",
       "      <td>4eb575aa-8d2c-4746-b407-51145d518ae3</td>\n",
       "      <td>[{'name': '40k-feb2020-numpy-Tensor', 'id': 'f...</td>\n",
       "      <td>Canada Trade Data - First 40000 rows</td>\n",
       "      <td>[]</td>\n",
       "      <td>A collection of reports from Canada's statisti...</td>\n",
       "    </tr>\n",
       "    <tr>\n",
       "      <th>1</th>\n",
       "      <td>35c78996-37d7-4a30-8511-7c01b425cf3f</td>\n",
       "      <td>[{'name': '40k-feb2020-numpy-Tensor', 'id': '3...</td>\n",
       "      <td>Canada Trade Data - First 40000 rows</td>\n",
       "      <td>[]</td>\n",
       "      <td>A collection of reports from Canada's statisti...</td>\n",
       "    </tr>\n",
       "    <tr>\n",
       "      <th>2</th>\n",
       "      <td>edfd8083-0e2f-4766-996b-23b154d4fa03</td>\n",
       "      <td>[{'name': 'feb2020-100', 'id': '95c776ef-9b64-...</td>\n",
       "      <td>Canada Trade Data - First 100 rows</td>\n",
       "      <td>[]</td>\n",
       "      <td>A collection of reports from Canada's statisti...</td>\n",
       "    </tr>\n",
       "  </tbody>\n",
       "</table>\n",
       "</div>"
      ],
      "text/plain": [
       "<syft.core.node.common.client_manager.dataset_api.DatasetRequestAPI at 0x7fa64a3a1280>"
      ]
     },
     "execution_count": 5,
     "metadata": {},
     "output_type": "execute_result"
    }
   ],
   "source": [
    "ca.datasets"
   ]
  },
  {
   "cell_type": "code",
   "execution_count": 11,
   "id": "5642a57e",
   "metadata": {},
   "outputs": [
    {
     "data": {
      "text/html": [
       "<div>\n",
       "<style scoped>\n",
       "    .dataframe tbody tr th:only-of-type {\n",
       "        vertical-align: middle;\n",
       "    }\n",
       "\n",
       "    .dataframe tbody tr th {\n",
       "        vertical-align: top;\n",
       "    }\n",
       "\n",
       "    .dataframe thead th {\n",
       "        text-align: right;\n",
       "    }\n",
       "</style>\n",
       "<table border=\"1\" class=\"dataframe\">\n",
       "  <thead>\n",
       "    <tr style=\"text-align: right;\">\n",
       "      <th></th>\n",
       "      <th>name</th>\n",
       "      <th>description</th>\n",
       "      <th>data</th>\n",
       "      <th>tags</th>\n",
       "      <th>id</th>\n",
       "    </tr>\n",
       "  </thead>\n",
       "  <tbody>\n",
       "    <tr>\n",
       "      <th>0</th>\n",
       "      <td>Italy Trade Data - First 100 rows</td>\n",
       "      <td>A collection of reports from iStat's statistic...</td>\n",
       "      <td>[{'name': 'feb2020-40k', 'id': '6afa61ae-acdc-...</td>\n",
       "      <td>[]</td>\n",
       "      <td>1a64e064-7e2f-44e7-a575-7a1bf15221e5</td>\n",
       "    </tr>\n",
       "    <tr>\n",
       "      <th>1</th>\n",
       "      <td>Italy Trade Data - First 100 rows</td>\n",
       "      <td>A collection of reports from iStat's statistic...</td>\n",
       "      <td>[{'name': 'feb2020-100', 'id': 'aa9b5a9e-3ada-...</td>\n",
       "      <td>[]</td>\n",
       "      <td>c238968b-729a-4c9d-a0c7-c34dc669c9cc</td>\n",
       "    </tr>\n",
       "  </tbody>\n",
       "</table>\n",
       "</div>"
      ],
      "text/plain": [
       "<syft.core.node.common.client_manager.dataset_api.DatasetRequestAPI at 0x7fa649cd5280>"
      ]
     },
     "execution_count": 11,
     "metadata": {},
     "output_type": "execute_result"
    }
   ],
   "source": [
    "it.datasets"
   ]
  },
  {
   "cell_type": "code",
   "execution_count": 14,
   "id": "217d5f06",
   "metadata": {},
   "outputs": [],
   "source": [
    "ca_data = ca.datasets[2]['feb2020-100']\n",
    "it_data = it.datasets[1]['feb2020-100']"
   ]
  },
  {
   "cell_type": "code",
   "execution_count": 15,
   "id": "8049bf70",
   "metadata": {},
   "outputs": [
    {
     "name": "stdout",
     "output_type": "stream",
     "text": [
      "MPCTensor.shape=(100, 3)\n",
      "\t .child[0] = <ShareTensorPointer -> canada:99460aeb41b64c5aa72ce00a5a5240a9>\n",
      "\t .child[1] = <ShareTensorPointer -> italy:7705d6602c4740b6953a1e24e8b5e3aa>\n",
      "MPCTensor.shape=(100, 3)\n",
      "\t .child[0] = <ShareTensorPointer -> canada:8b3de1091d1e4935b51fde8aa2643867>\n",
      "\t .child[1] = <ShareTensorPointer -> italy:85d7603236a54ac0a70ec92b64694bb5>\n",
      "C.N.0\n",
      "C.N.1\n",
      "C.N.1.A\n",
      "<built-in function add>\n",
      "add\n"
     ]
    }
   ],
   "source": [
    "result = ca_data + it_data"
   ]
  },
  {
   "cell_type": "code",
   "execution_count": 8,
   "id": "1d570ea4",
   "metadata": {},
   "outputs": [],
   "source": [
    "result = result.publish(sigma=100)"
   ]
  },
  {
   "cell_type": "code",
   "execution_count": 9,
   "id": "05df4ebb",
   "metadata": {},
   "outputs": [
    {
     "data": {
      "text/plain": [
       "array([[      2,     526,   11184],\n",
       "       [      2,    1178,  251483],\n",
       "       [      2,    1254, 1809585],\n",
       "       ...,\n",
       "       [      3,    1218,     295],\n",
       "       [      3,     673,    3012],\n",
       "       [      3,     861,    2887]])"
      ]
     },
     "execution_count": 9,
     "metadata": {},
     "output_type": "execute_result"
    }
   ],
   "source": [
    "result.get()"
   ]
  }
 ],
 "metadata": {
  "kernelspec": {
   "display_name": "Python 3",
   "language": "python",
   "name": "python3"
  },
  "language_info": {
   "codemirror_mode": {
    "name": "ipython",
    "version": 3
   },
   "file_extension": ".py",
   "mimetype": "text/x-python",
   "name": "python",
   "nbconvert_exporter": "python",
   "pygments_lexer": "ipython3",
   "version": "3.9.6"
  }
 },
 "nbformat": 4,
 "nbformat_minor": 5
}
