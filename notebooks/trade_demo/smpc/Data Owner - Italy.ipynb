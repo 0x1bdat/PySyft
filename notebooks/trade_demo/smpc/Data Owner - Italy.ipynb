{
 "cells": [
  {
   "cell_type": "code",
   "execution_count": 1,
   "metadata": {},
   "outputs": [],
   "source": [
    "import pandas as pd\n",
    "import syft as sy"
   ]
  },
  {
   "cell_type": "markdown",
   "metadata": {},
   "source": [
    "### Loading the dataset"
   ]
  },
  {
   "cell_type": "code",
   "execution_count": 2,
   "metadata": {},
   "outputs": [
    {
     "name": "stderr",
     "output_type": "stream",
     "text": [
      "/Users/atrask/opt/anaconda3/envs/syft/lib/python3.7/site-packages/IPython/core/interactiveshell.py:3146: DtypeWarning: Columns (14) have mixed types.Specify dtype option on import or set low_memory=False.\n",
      "  interactivity=interactivity, compiler=compiler, result=result)\n"
     ]
    }
   ],
   "source": [
    "italy_dataset = pd.read_csv(\"../datasets/it - feb 2021.csv\")"
   ]
  },
  {
   "cell_type": "code",
   "execution_count": 3,
   "metadata": {},
   "outputs": [
    {
     "data": {
      "text/html": [
       "<div>\n",
       "<style scoped>\n",
       "    .dataframe tbody tr th:only-of-type {\n",
       "        vertical-align: middle;\n",
       "    }\n",
       "\n",
       "    .dataframe tbody tr th {\n",
       "        vertical-align: top;\n",
       "    }\n",
       "\n",
       "    .dataframe thead th {\n",
       "        text-align: right;\n",
       "    }\n",
       "</style>\n",
       "<table border=\"1\" class=\"dataframe\">\n",
       "  <thead>\n",
       "    <tr style=\"text-align: right;\">\n",
       "      <th></th>\n",
       "      <th>Classification</th>\n",
       "      <th>Year</th>\n",
       "      <th>Period</th>\n",
       "      <th>Period Desc.</th>\n",
       "      <th>Aggregate Level</th>\n",
       "      <th>Is Leaf Code</th>\n",
       "      <th>Trade Flow Code</th>\n",
       "      <th>Trade Flow</th>\n",
       "      <th>Reporter Code</th>\n",
       "      <th>Reporter</th>\n",
       "      <th>...</th>\n",
       "      <th>Partner</th>\n",
       "      <th>Partner ISO</th>\n",
       "      <th>Commodity Code</th>\n",
       "      <th>Commodity</th>\n",
       "      <th>Qty Unit Code</th>\n",
       "      <th>Qty Unit</th>\n",
       "      <th>Qty</th>\n",
       "      <th>Netweight (kg)</th>\n",
       "      <th>Trade Value (US$)</th>\n",
       "      <th>Flag</th>\n",
       "    </tr>\n",
       "  </thead>\n",
       "  <tbody>\n",
       "    <tr>\n",
       "      <th>0</th>\n",
       "      <td>HS</td>\n",
       "      <td>2021</td>\n",
       "      <td>202102</td>\n",
       "      <td>February 2021</td>\n",
       "      <td>6</td>\n",
       "      <td>1</td>\n",
       "      <td>1</td>\n",
       "      <td>Imports</td>\n",
       "      <td>381</td>\n",
       "      <td>Italy</td>\n",
       "      <td>...</td>\n",
       "      <td>Australia</td>\n",
       "      <td>NaN</td>\n",
       "      <td>940510</td>\n",
       "      <td>Chandeliers and other electric ceiling or wall...</td>\n",
       "      <td>0</td>\n",
       "      <td>NaN</td>\n",
       "      <td>NaN</td>\n",
       "      <td>6.0</td>\n",
       "      <td>1899</td>\n",
       "      <td>0</td>\n",
       "    </tr>\n",
       "    <tr>\n",
       "      <th>1</th>\n",
       "      <td>HS</td>\n",
       "      <td>2021</td>\n",
       "      <td>202102</td>\n",
       "      <td>February 2021</td>\n",
       "      <td>6</td>\n",
       "      <td>1</td>\n",
       "      <td>1</td>\n",
       "      <td>Imports</td>\n",
       "      <td>381</td>\n",
       "      <td>Italy</td>\n",
       "      <td>...</td>\n",
       "      <td>Indonesia</td>\n",
       "      <td>NaN</td>\n",
       "      <td>292700</td>\n",
       "      <td>Diazo-, azo- or azoxy compounds</td>\n",
       "      <td>0</td>\n",
       "      <td>NaN</td>\n",
       "      <td>NaN</td>\n",
       "      <td>33600.0</td>\n",
       "      <td>134879</td>\n",
       "      <td>0</td>\n",
       "    </tr>\n",
       "    <tr>\n",
       "      <th>2</th>\n",
       "      <td>HS</td>\n",
       "      <td>2021</td>\n",
       "      <td>202102</td>\n",
       "      <td>February 2021</td>\n",
       "      <td>6</td>\n",
       "      <td>1</td>\n",
       "      <td>1</td>\n",
       "      <td>Imports</td>\n",
       "      <td>381</td>\n",
       "      <td>Italy</td>\n",
       "      <td>...</td>\n",
       "      <td>Latvia</td>\n",
       "      <td>NaN</td>\n",
       "      <td>292700</td>\n",
       "      <td>Diazo-, azo- or azoxy compounds</td>\n",
       "      <td>0</td>\n",
       "      <td>NaN</td>\n",
       "      <td>NaN</td>\n",
       "      <td>33127.0</td>\n",
       "      <td>314410</td>\n",
       "      <td>0</td>\n",
       "    </tr>\n",
       "    <tr>\n",
       "      <th>3</th>\n",
       "      <td>HS</td>\n",
       "      <td>2021</td>\n",
       "      <td>202102</td>\n",
       "      <td>February 2021</td>\n",
       "      <td>6</td>\n",
       "      <td>1</td>\n",
       "      <td>1</td>\n",
       "      <td>Imports</td>\n",
       "      <td>381</td>\n",
       "      <td>Italy</td>\n",
       "      <td>...</td>\n",
       "      <td>Latvia</td>\n",
       "      <td>NaN</td>\n",
       "      <td>292990</td>\n",
       "      <td>Nitrogen-function compounds; n.e.s. in chapter...</td>\n",
       "      <td>0</td>\n",
       "      <td>NaN</td>\n",
       "      <td>NaN</td>\n",
       "      <td>4.0</td>\n",
       "      <td>4142</td>\n",
       "      <td>0</td>\n",
       "    </tr>\n",
       "    <tr>\n",
       "      <th>4</th>\n",
       "      <td>HS</td>\n",
       "      <td>2021</td>\n",
       "      <td>202102</td>\n",
       "      <td>February 2021</td>\n",
       "      <td>6</td>\n",
       "      <td>1</td>\n",
       "      <td>1</td>\n",
       "      <td>Imports</td>\n",
       "      <td>381</td>\n",
       "      <td>Italy</td>\n",
       "      <td>...</td>\n",
       "      <td>Malaysia</td>\n",
       "      <td>NaN</td>\n",
       "      <td>293040</td>\n",
       "      <td>Organo-sulphur compounds; methionine</td>\n",
       "      <td>0</td>\n",
       "      <td>NaN</td>\n",
       "      <td>NaN</td>\n",
       "      <td>51000.0</td>\n",
       "      <td>104889</td>\n",
       "      <td>0</td>\n",
       "    </tr>\n",
       "  </tbody>\n",
       "</table>\n",
       "<p>5 rows × 22 columns</p>\n",
       "</div>"
      ],
      "text/plain": [
       "  Classification  Year  Period   Period Desc.  Aggregate Level  Is Leaf Code  \\\n",
       "0             HS  2021  202102  February 2021                6             1   \n",
       "1             HS  2021  202102  February 2021                6             1   \n",
       "2             HS  2021  202102  February 2021                6             1   \n",
       "3             HS  2021  202102  February 2021                6             1   \n",
       "4             HS  2021  202102  February 2021                6             1   \n",
       "\n",
       "   Trade Flow Code Trade Flow  Reporter Code Reporter  ...    Partner  \\\n",
       "0                1    Imports            381    Italy  ...  Australia   \n",
       "1                1    Imports            381    Italy  ...  Indonesia   \n",
       "2                1    Imports            381    Italy  ...     Latvia   \n",
       "3                1    Imports            381    Italy  ...     Latvia   \n",
       "4                1    Imports            381    Italy  ...   Malaysia   \n",
       "\n",
       "   Partner ISO Commodity Code  \\\n",
       "0          NaN         940510   \n",
       "1          NaN         292700   \n",
       "2          NaN         292700   \n",
       "3          NaN         292990   \n",
       "4          NaN         293040   \n",
       "\n",
       "                                           Commodity Qty Unit Code Qty Unit  \\\n",
       "0  Chandeliers and other electric ceiling or wall...             0      NaN   \n",
       "1                    Diazo-, azo- or azoxy compounds             0      NaN   \n",
       "2                    Diazo-, azo- or azoxy compounds             0      NaN   \n",
       "3  Nitrogen-function compounds; n.e.s. in chapter...             0      NaN   \n",
       "4               Organo-sulphur compounds; methionine             0      NaN   \n",
       "\n",
       "   Qty  Netweight (kg)  Trade Value (US$)  Flag  \n",
       "0  NaN             6.0               1899     0  \n",
       "1  NaN         33600.0             134879     0  \n",
       "2  NaN         33127.0             314410     0  \n",
       "3  NaN             4.0               4142     0  \n",
       "4  NaN         51000.0             104889     0  \n",
       "\n",
       "[5 rows x 22 columns]"
      ]
     },
     "execution_count": 3,
     "metadata": {},
     "output_type": "execute_result"
    }
   ],
   "source": [
    "italy_dataset.head()"
   ]
  },
  {
   "cell_type": "markdown",
   "metadata": {},
   "source": [
    "### Logging into the domain"
   ]
  },
  {
   "cell_type": "code",
   "execution_count": 4,
   "metadata": {},
   "outputs": [
    {
     "name": "stdout",
     "output_type": "stream",
     "text": [
      "Connecting to http://localhost:8082... done! \t Logging into istat... done!\n"
     ]
    }
   ],
   "source": [
    "it_domain_node = sy.login(email=\"info@openmined.org\", password=\"changethis\", port=8082)"
   ]
  },
  {
   "cell_type": "markdown",
   "metadata": {},
   "source": [
    "### Upload the dataset to Domain node"
   ]
  },
  {
   "cell_type": "code",
   "execution_count": 5,
   "metadata": {},
   "outputs": [],
   "source": [
    "# Selecting a subset of the dataset\n",
    "italy_dataset = italy_dataset[:40000]"
   ]
  },
  {
   "cell_type": "code",
   "execution_count": 6,
   "metadata": {},
   "outputs": [],
   "source": [
    "# We will upload only the first 40k rows and three columns\n",
    "# All these three columns are of `int` type\n",
    "sampled_italy_dataset = italy_dataset[[\"Trade Flow Code\", \"Partner Code\", \"Trade Value (US$)\"]].values\n",
    "\n",
    "# Convert the dataset to numpy array\n",
    "sampled_italy_datset_numpy = sampled_italy_dataset\n",
    "\n",
    "# Convert the numpy array to Tensor\n",
    "italy_dataset_tensor = sy.Tensor(sampled_italy_datset_numpy)\n",
    "\n",
    "it_domain_node.load_dataset(\n",
    "    assets={\"Italy-Numpy-feb2020-Tensor\": italy_dataset_tensor},\n",
    "    name=\"Italy Trade Data - First 40000 rows\",\n",
    "    description=\"\"\"A collection of reports from Italy's statistics \n",
    "                    bureau about how much it thinks it imports and exports from other countries.\"\"\",\n",
    ")"
   ]
  },
  {
   "cell_type": "code",
   "execution_count": 7,
   "metadata": {},
   "outputs": [
    {
     "data": {
      "text/plain": [
       "array([\"<class 'syft.core.tensor.tensor.Tensor'>\"], dtype=object)"
      ]
     },
     "execution_count": 7,
     "metadata": {},
     "output_type": "execute_result"
    }
   ],
   "source": [
    "it_domain_node.store.pandas['object_type'].unique()"
   ]
  },
  {
   "cell_type": "code",
   "execution_count": 8,
   "metadata": {},
   "outputs": [
    {
     "data": {
      "text/html": [
       "<div>\n",
       "<style scoped>\n",
       "    .dataframe tbody tr th:only-of-type {\n",
       "        vertical-align: middle;\n",
       "    }\n",
       "\n",
       "    .dataframe tbody tr th {\n",
       "        vertical-align: top;\n",
       "    }\n",
       "\n",
       "    .dataframe thead th {\n",
       "        text-align: right;\n",
       "    }\n",
       "</style>\n",
       "<table border=\"1\" class=\"dataframe\">\n",
       "  <thead>\n",
       "    <tr style=\"text-align: right;\">\n",
       "      <th></th>\n",
       "      <th>ID</th>\n",
       "      <th>Tags</th>\n",
       "      <th>Description</th>\n",
       "      <th>object_type</th>\n",
       "    </tr>\n",
       "  </thead>\n",
       "  <tbody>\n",
       "    <tr>\n",
       "      <th>0</th>\n",
       "      <td>&lt;UID: f422ae4696b2484bbf8f3ad02a082d42&gt;</td>\n",
       "      <td>[#Italy-Numpy-feb2020-Tensor]</td>\n",
       "      <td></td>\n",
       "      <td>&lt;class 'syft.core.tensor.tensor.Tensor'&gt;</td>\n",
       "    </tr>\n",
       "  </tbody>\n",
       "</table>\n",
       "</div>"
      ],
      "text/plain": [
       "                                        ID                           Tags  \\\n",
       "0  <UID: f422ae4696b2484bbf8f3ad02a082d42>  [#Italy-Numpy-feb2020-Tensor]   \n",
       "\n",
       "  Description                               object_type  \n",
       "0              <class 'syft.core.tensor.tensor.Tensor'>  "
      ]
     },
     "execution_count": 8,
     "metadata": {},
     "output_type": "execute_result"
    }
   ],
   "source": [
    "it_domain_node.store.pandas[it_domain_node.store.pandas['object_type'] == \"<class 'syft.core.tensor.tensor.Tensor'>\"]"
   ]
  },
  {
   "cell_type": "markdown",
   "metadata": {},
   "source": [
    "### Create a Data Scientist User"
   ]
  },
  {
   "cell_type": "code",
   "execution_count": 10,
   "metadata": {},
   "outputs": [],
   "source": [
    "it_domain_node.users.create(\n",
    "    **{\n",
    "        \"name\": \"Sheldon Cooper\",\n",
    "        \"email\": \"sheldon@caltech.edu\",\n",
    "        \"password\": \"bazinga\",\n",
    "        \"budget\":10\n",
    "    }\n",
    ")"
   ]
  },
  {
   "cell_type": "markdown",
   "metadata": {},
   "source": [
    "### Accept/Deny Requests to the Domain"
   ]
  },
  {
   "cell_type": "code",
   "execution_count": 19,
   "metadata": {},
   "outputs": [
    {
     "data": {
      "text/html": [
       "<div>\n",
       "<style scoped>\n",
       "    .dataframe tbody tr th:only-of-type {\n",
       "        vertical-align: middle;\n",
       "    }\n",
       "\n",
       "    .dataframe tbody tr th {\n",
       "        vertical-align: top;\n",
       "    }\n",
       "\n",
       "    .dataframe thead th {\n",
       "        text-align: right;\n",
       "    }\n",
       "</style>\n",
       "<table border=\"1\" class=\"dataframe\">\n",
       "  <thead>\n",
       "    <tr style=\"text-align: right;\">\n",
       "      <th></th>\n",
       "      <th>Requested Object's tags</th>\n",
       "      <th>Reason</th>\n",
       "      <th>Request ID</th>\n",
       "      <th>Requested Object's ID</th>\n",
       "      <th>Requested Object's type</th>\n",
       "    </tr>\n",
       "  </thead>\n",
       "  <tbody>\n",
       "    <tr>\n",
       "      <th>0</th>\n",
       "      <td>[]</td>\n",
       "      <td>asdf</td>\n",
       "      <td>&lt;UID: b8a0ad281b964e678b11aa11a8cbb82b&gt;</td>\n",
       "      <td>&lt;UID: e790f9431bc84a679e0521f981896d7f&gt;</td>\n",
       "      <td></td>\n",
       "    </tr>\n",
       "  </tbody>\n",
       "</table>\n",
       "</div>"
      ],
      "text/plain": [
       "  Requested Object's tags Reason                               Request ID  \\\n",
       "0                      []   asdf  <UID: b8a0ad281b964e678b11aa11a8cbb82b>   \n",
       "\n",
       "                     Requested Object's ID Requested Object's type  \n",
       "0  <UID: e790f9431bc84a679e0521f981896d7f>                          "
      ]
     },
     "execution_count": 19,
     "metadata": {},
     "output_type": "execute_result"
    }
   ],
   "source": [
    "it_domain_node.requests.pandas"
   ]
  },
  {
   "cell_type": "code",
   "execution_count": 18,
   "metadata": {},
   "outputs": [],
   "source": [
    "it_domain_node.requests[-1].accept()"
   ]
  },
  {
   "cell_type": "code",
   "execution_count": 26,
   "metadata": {},
   "outputs": [
    {
     "data": {
      "text/html": [
       "<div>\n",
       "<style scoped>\n",
       "    .dataframe tbody tr th:only-of-type {\n",
       "        vertical-align: middle;\n",
       "    }\n",
       "\n",
       "    .dataframe tbody tr th {\n",
       "        vertical-align: top;\n",
       "    }\n",
       "\n",
       "    .dataframe thead th {\n",
       "        text-align: right;\n",
       "    }\n",
       "</style>\n",
       "<table border=\"1\" class=\"dataframe\">\n",
       "  <thead>\n",
       "    <tr style=\"text-align: right;\">\n",
       "      <th></th>\n",
       "      <th>ID</th>\n",
       "      <th>Tags</th>\n",
       "      <th>Description</th>\n",
       "      <th>object_type</th>\n",
       "    </tr>\n",
       "  </thead>\n",
       "  <tbody>\n",
       "    <tr>\n",
       "      <th>8</th>\n",
       "      <td>&lt;UID: c0f03abfb23245468f853a242cea0c4d&gt;</td>\n",
       "      <td>[]</td>\n",
       "      <td></td>\n",
       "      <td>&lt;class 'syft.core.tensor.smpc.share_tensor.Sha...</td>\n",
       "    </tr>\n",
       "    <tr>\n",
       "      <th>25</th>\n",
       "      <td>&lt;UID: dc26aad4618a4b7c8a150fc560c2c4af&gt;</td>\n",
       "      <td>[]</td>\n",
       "      <td></td>\n",
       "      <td>&lt;class 'syft.core.tensor.smpc.share_tensor.Sha...</td>\n",
       "    </tr>\n",
       "    <tr>\n",
       "      <th>28</th>\n",
       "      <td>&lt;UID: 5f01a8edfa1c4d22a973bab24f233a89&gt;</td>\n",
       "      <td>[]</td>\n",
       "      <td></td>\n",
       "      <td>&lt;class 'syft.core.tensor.smpc.share_tensor.Sha...</td>\n",
       "    </tr>\n",
       "    <tr>\n",
       "      <th>31</th>\n",
       "      <td>&lt;UID: d2c8c2b691fc48269c85339c8c219be3&gt;</td>\n",
       "      <td>[]</td>\n",
       "      <td></td>\n",
       "      <td>&lt;class 'syft.core.tensor.smpc.share_tensor.Sha...</td>\n",
       "    </tr>\n",
       "    <tr>\n",
       "      <th>52</th>\n",
       "      <td>&lt;UID: dd60be38567a4acaa4dc3e9192737ff4&gt;</td>\n",
       "      <td>[]</td>\n",
       "      <td></td>\n",
       "      <td>&lt;class 'syft.core.tensor.smpc.share_tensor.Sha...</td>\n",
       "    </tr>\n",
       "    <tr>\n",
       "      <th>57</th>\n",
       "      <td>&lt;UID: c5f892c414d94cbb970852bd71ead96a&gt;</td>\n",
       "      <td>[]</td>\n",
       "      <td></td>\n",
       "      <td>&lt;class 'syft.core.tensor.smpc.share_tensor.Sha...</td>\n",
       "    </tr>\n",
       "    <tr>\n",
       "      <th>71</th>\n",
       "      <td>&lt;UID: 181901f0ad9d4c5c88a8009d51f15d0f&gt;</td>\n",
       "      <td>[]</td>\n",
       "      <td></td>\n",
       "      <td>&lt;class 'syft.core.tensor.smpc.share_tensor.Sha...</td>\n",
       "    </tr>\n",
       "    <tr>\n",
       "      <th>80</th>\n",
       "      <td>&lt;UID: ceafef3c4cc744f8b15ec67f2d41921e&gt;</td>\n",
       "      <td>[]</td>\n",
       "      <td></td>\n",
       "      <td>&lt;class 'syft.core.tensor.smpc.share_tensor.Sha...</td>\n",
       "    </tr>\n",
       "    <tr>\n",
       "      <th>95</th>\n",
       "      <td>&lt;UID: 476ae89730c14c12a7c9e2c200d5fb83&gt;</td>\n",
       "      <td>[]</td>\n",
       "      <td></td>\n",
       "      <td>&lt;class 'syft.core.tensor.smpc.share_tensor.Sha...</td>\n",
       "    </tr>\n",
       "    <tr>\n",
       "      <th>103</th>\n",
       "      <td>&lt;UID: 80493fef99a443c3b864a2f6684a6b7a&gt;</td>\n",
       "      <td>[]</td>\n",
       "      <td></td>\n",
       "      <td>&lt;class 'syft.core.tensor.smpc.share_tensor.Sha...</td>\n",
       "    </tr>\n",
       "    <tr>\n",
       "      <th>109</th>\n",
       "      <td>&lt;UID: 39c0c646f9d945b7aa773980d04eabe2&gt;</td>\n",
       "      <td>[]</td>\n",
       "      <td></td>\n",
       "      <td>&lt;class 'syft.core.tensor.smpc.share_tensor.Sha...</td>\n",
       "    </tr>\n",
       "    <tr>\n",
       "      <th>116</th>\n",
       "      <td>&lt;UID: eab8c56f868f421b9c7edf04aa2e56c1&gt;</td>\n",
       "      <td>[]</td>\n",
       "      <td></td>\n",
       "      <td>&lt;class 'syft.core.tensor.smpc.share_tensor.Sha...</td>\n",
       "    </tr>\n",
       "  </tbody>\n",
       "</table>\n",
       "</div>"
      ],
      "text/plain": [
       "                                          ID Tags Description  \\\n",
       "8    <UID: c0f03abfb23245468f853a242cea0c4d>   []               \n",
       "25   <UID: dc26aad4618a4b7c8a150fc560c2c4af>   []               \n",
       "28   <UID: 5f01a8edfa1c4d22a973bab24f233a89>   []               \n",
       "31   <UID: d2c8c2b691fc48269c85339c8c219be3>   []               \n",
       "52   <UID: dd60be38567a4acaa4dc3e9192737ff4>   []               \n",
       "57   <UID: c5f892c414d94cbb970852bd71ead96a>   []               \n",
       "71   <UID: 181901f0ad9d4c5c88a8009d51f15d0f>   []               \n",
       "80   <UID: ceafef3c4cc744f8b15ec67f2d41921e>   []               \n",
       "95   <UID: 476ae89730c14c12a7c9e2c200d5fb83>   []               \n",
       "103  <UID: 80493fef99a443c3b864a2f6684a6b7a>   []               \n",
       "109  <UID: 39c0c646f9d945b7aa773980d04eabe2>   []               \n",
       "116  <UID: eab8c56f868f421b9c7edf04aa2e56c1>   []               \n",
       "\n",
       "                                           object_type  \n",
       "8    <class 'syft.core.tensor.smpc.share_tensor.Sha...  \n",
       "25   <class 'syft.core.tensor.smpc.share_tensor.Sha...  \n",
       "28   <class 'syft.core.tensor.smpc.share_tensor.Sha...  \n",
       "31   <class 'syft.core.tensor.smpc.share_tensor.Sha...  \n",
       "52   <class 'syft.core.tensor.smpc.share_tensor.Sha...  \n",
       "57   <class 'syft.core.tensor.smpc.share_tensor.Sha...  \n",
       "71   <class 'syft.core.tensor.smpc.share_tensor.Sha...  \n",
       "80   <class 'syft.core.tensor.smpc.share_tensor.Sha...  \n",
       "95   <class 'syft.core.tensor.smpc.share_tensor.Sha...  \n",
       "103  <class 'syft.core.tensor.smpc.share_tensor.Sha...  \n",
       "109  <class 'syft.core.tensor.smpc.share_tensor.Sha...  \n",
       "116  <class 'syft.core.tensor.smpc.share_tensor.Sha...  "
      ]
     },
     "execution_count": 26,
     "metadata": {},
     "output_type": "execute_result"
    }
   ],
   "source": [
    "\n",
    "it_domain_node.store.pandas[it_domain_node.store.pandas[\"object_type\"] == \"<class 'syft.core.tensor.smpc.share_tensor.ShareTensor'>\"]"
   ]
  },
  {
   "cell_type": "code",
   "execution_count": null,
   "metadata": {},
   "outputs": [],
   "source": []
  }
 ],
 "metadata": {
  "kernelspec": {
   "display_name": "Python 3",
   "language": "python",
   "name": "python3"
  },
  "language_info": {
   "codemirror_mode": {
    "name": "ipython",
    "version": 3
   },
   "file_extension": ".py",
   "mimetype": "text/x-python",
   "name": "python",
   "nbconvert_exporter": "python",
   "pygments_lexer": "ipython3",
   "version": "3.7.9"
  }
 },
 "nbformat": 4,
 "nbformat_minor": 5
}
