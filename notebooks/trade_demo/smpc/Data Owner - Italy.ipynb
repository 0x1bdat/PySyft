{
 "cells": [
  {
   "cell_type": "code",
   "execution_count": 1,
   "id": "1056b4ec",
   "metadata": {},
   "outputs": [],
   "source": [
    "import pandas as pd\n",
    "import syft as sy"
   ]
  },
  {
   "cell_type": "code",
   "execution_count": 2,
   "id": "d2ace4b0",
   "metadata": {},
   "outputs": [
    {
     "name": "stderr",
     "output_type": "stream",
     "text": [
      "/home/user/anaconda3/envs/pysyft/lib/python3.9/site-packages/IPython/core/interactiveshell.py:3437: DtypeWarning: Columns (14) have mixed types.Specify dtype option on import or set low_memory=False.\n",
      "  exec(code_obj, self.user_global_ns, self.user_ns)\n"
     ]
    }
   ],
   "source": [
    "italy_dataset = pd.read_csv(\"../datasets/it - feb 2021.csv\")"
   ]
  },
  {
   "cell_type": "code",
   "execution_count": 4,
   "id": "ee93d9ca",
   "metadata": {},
   "outputs": [
    {
     "data": {
      "text/html": [
       "<div>\n",
       "<style scoped>\n",
       "    .dataframe tbody tr th:only-of-type {\n",
       "        vertical-align: middle;\n",
       "    }\n",
       "\n",
       "    .dataframe tbody tr th {\n",
       "        vertical-align: top;\n",
       "    }\n",
       "\n",
       "    .dataframe thead th {\n",
       "        text-align: right;\n",
       "    }\n",
       "</style>\n",
       "<table border=\"1\" class=\"dataframe\">\n",
       "  <thead>\n",
       "    <tr style=\"text-align: right;\">\n",
       "      <th></th>\n",
       "      <th>Classification</th>\n",
       "      <th>Year</th>\n",
       "      <th>Period</th>\n",
       "      <th>Period Desc.</th>\n",
       "      <th>Aggregate Level</th>\n",
       "      <th>Is Leaf Code</th>\n",
       "      <th>Trade Flow Code</th>\n",
       "      <th>Trade Flow</th>\n",
       "      <th>Reporter Code</th>\n",
       "      <th>Reporter</th>\n",
       "      <th>...</th>\n",
       "      <th>Partner</th>\n",
       "      <th>Partner ISO</th>\n",
       "      <th>Commodity Code</th>\n",
       "      <th>Commodity</th>\n",
       "      <th>Qty Unit Code</th>\n",
       "      <th>Qty Unit</th>\n",
       "      <th>Qty</th>\n",
       "      <th>Netweight (kg)</th>\n",
       "      <th>Trade Value (US$)</th>\n",
       "      <th>Flag</th>\n",
       "    </tr>\n",
       "  </thead>\n",
       "  <tbody>\n",
       "    <tr>\n",
       "      <th>0</th>\n",
       "      <td>HS</td>\n",
       "      <td>2021</td>\n",
       "      <td>202102</td>\n",
       "      <td>February 2021</td>\n",
       "      <td>6</td>\n",
       "      <td>1</td>\n",
       "      <td>1</td>\n",
       "      <td>Imports</td>\n",
       "      <td>381</td>\n",
       "      <td>Italy</td>\n",
       "      <td>...</td>\n",
       "      <td>Australia</td>\n",
       "      <td>NaN</td>\n",
       "      <td>940510</td>\n",
       "      <td>Chandeliers and other electric ceiling or wall...</td>\n",
       "      <td>0</td>\n",
       "      <td>NaN</td>\n",
       "      <td>NaN</td>\n",
       "      <td>6.0</td>\n",
       "      <td>1899</td>\n",
       "      <td>0</td>\n",
       "    </tr>\n",
       "    <tr>\n",
       "      <th>1</th>\n",
       "      <td>HS</td>\n",
       "      <td>2021</td>\n",
       "      <td>202102</td>\n",
       "      <td>February 2021</td>\n",
       "      <td>6</td>\n",
       "      <td>1</td>\n",
       "      <td>1</td>\n",
       "      <td>Imports</td>\n",
       "      <td>381</td>\n",
       "      <td>Italy</td>\n",
       "      <td>...</td>\n",
       "      <td>Indonesia</td>\n",
       "      <td>NaN</td>\n",
       "      <td>292700</td>\n",
       "      <td>Diazo-, azo- or azoxy compounds</td>\n",
       "      <td>0</td>\n",
       "      <td>NaN</td>\n",
       "      <td>NaN</td>\n",
       "      <td>33600.0</td>\n",
       "      <td>134879</td>\n",
       "      <td>0</td>\n",
       "    </tr>\n",
       "    <tr>\n",
       "      <th>2</th>\n",
       "      <td>HS</td>\n",
       "      <td>2021</td>\n",
       "      <td>202102</td>\n",
       "      <td>February 2021</td>\n",
       "      <td>6</td>\n",
       "      <td>1</td>\n",
       "      <td>1</td>\n",
       "      <td>Imports</td>\n",
       "      <td>381</td>\n",
       "      <td>Italy</td>\n",
       "      <td>...</td>\n",
       "      <td>Latvia</td>\n",
       "      <td>NaN</td>\n",
       "      <td>292700</td>\n",
       "      <td>Diazo-, azo- or azoxy compounds</td>\n",
       "      <td>0</td>\n",
       "      <td>NaN</td>\n",
       "      <td>NaN</td>\n",
       "      <td>33127.0</td>\n",
       "      <td>314410</td>\n",
       "      <td>0</td>\n",
       "    </tr>\n",
       "    <tr>\n",
       "      <th>3</th>\n",
       "      <td>HS</td>\n",
       "      <td>2021</td>\n",
       "      <td>202102</td>\n",
       "      <td>February 2021</td>\n",
       "      <td>6</td>\n",
       "      <td>1</td>\n",
       "      <td>1</td>\n",
       "      <td>Imports</td>\n",
       "      <td>381</td>\n",
       "      <td>Italy</td>\n",
       "      <td>...</td>\n",
       "      <td>Latvia</td>\n",
       "      <td>NaN</td>\n",
       "      <td>292990</td>\n",
       "      <td>Nitrogen-function compounds; n.e.s. in chapter...</td>\n",
       "      <td>0</td>\n",
       "      <td>NaN</td>\n",
       "      <td>NaN</td>\n",
       "      <td>4.0</td>\n",
       "      <td>4142</td>\n",
       "      <td>0</td>\n",
       "    </tr>\n",
       "    <tr>\n",
       "      <th>4</th>\n",
       "      <td>HS</td>\n",
       "      <td>2021</td>\n",
       "      <td>202102</td>\n",
       "      <td>February 2021</td>\n",
       "      <td>6</td>\n",
       "      <td>1</td>\n",
       "      <td>1</td>\n",
       "      <td>Imports</td>\n",
       "      <td>381</td>\n",
       "      <td>Italy</td>\n",
       "      <td>...</td>\n",
       "      <td>Malaysia</td>\n",
       "      <td>NaN</td>\n",
       "      <td>293040</td>\n",
       "      <td>Organo-sulphur compounds; methionine</td>\n",
       "      <td>0</td>\n",
       "      <td>NaN</td>\n",
       "      <td>NaN</td>\n",
       "      <td>51000.0</td>\n",
       "      <td>104889</td>\n",
       "      <td>0</td>\n",
       "    </tr>\n",
       "  </tbody>\n",
       "</table>\n",
       "<p>5 rows × 22 columns</p>\n",
       "</div>"
      ],
      "text/plain": [
       "  Classification  Year  Period   Period Desc.  Aggregate Level  Is Leaf Code  \\\n",
       "0             HS  2021  202102  February 2021                6             1   \n",
       "1             HS  2021  202102  February 2021                6             1   \n",
       "2             HS  2021  202102  February 2021                6             1   \n",
       "3             HS  2021  202102  February 2021                6             1   \n",
       "4             HS  2021  202102  February 2021                6             1   \n",
       "\n",
       "   Trade Flow Code Trade Flow  Reporter Code Reporter  ...    Partner  \\\n",
       "0                1    Imports            381    Italy  ...  Australia   \n",
       "1                1    Imports            381    Italy  ...  Indonesia   \n",
       "2                1    Imports            381    Italy  ...     Latvia   \n",
       "3                1    Imports            381    Italy  ...     Latvia   \n",
       "4                1    Imports            381    Italy  ...   Malaysia   \n",
       "\n",
       "   Partner ISO Commodity Code  \\\n",
       "0          NaN         940510   \n",
       "1          NaN         292700   \n",
       "2          NaN         292700   \n",
       "3          NaN         292990   \n",
       "4          NaN         293040   \n",
       "\n",
       "                                           Commodity Qty Unit Code Qty Unit  \\\n",
       "0  Chandeliers and other electric ceiling or wall...             0      NaN   \n",
       "1                    Diazo-, azo- or azoxy compounds             0      NaN   \n",
       "2                    Diazo-, azo- or azoxy compounds             0      NaN   \n",
       "3  Nitrogen-function compounds; n.e.s. in chapter...             0      NaN   \n",
       "4               Organo-sulphur compounds; methionine             0      NaN   \n",
       "\n",
       "   Qty  Netweight (kg)  Trade Value (US$)  Flag  \n",
       "0  NaN             6.0               1899     0  \n",
       "1  NaN         33600.0             134879     0  \n",
       "2  NaN         33127.0             314410     0  \n",
       "3  NaN             4.0               4142     0  \n",
       "4  NaN         51000.0             104889     0  \n",
       "\n",
       "[5 rows x 22 columns]"
      ]
     },
     "execution_count": 4,
     "metadata": {},
     "output_type": "execute_result"
    }
   ],
   "source": [
    "italy_dataset.head()"
   ]
  },
  {
   "cell_type": "code",
   "execution_count": 5,
   "id": "e4b0213d",
   "metadata": {},
   "outputs": [
    {
     "name": "stdout",
     "output_type": "stream",
     "text": [
      "Connecting to http://localhost:8082... done! \t Logging into italy... done!\n"
     ]
    }
   ],
   "source": [
    "it_domain_node = sy.login(email=\"info@openmined.org\", password=\"changethis\", port=8082)"
   ]
  },
  {
   "cell_type": "code",
   "execution_count": 15,
   "id": "25fc4509",
   "metadata": {},
   "outputs": [],
   "source": [
    "italy_dataset = italy_dataset[:40000]"
   ]
  },
  {
   "cell_type": "code",
   "execution_count": 17,
   "id": "7089f197",
   "metadata": {},
   "outputs": [],
   "source": [
    "it_domain_node.load_dataset(\n",
    "    assets={\"Italy-Numpy-feb2020\": italy_dataset[[\"Trade Flow Code\", \"Partner Code\", \"Trade Value (US$)\"]].values},\n",
    "    name=\"Italy Trade Data - First 40000 rows\",\n",
    "    description=\"\"\"A collection of reports from Italy's statistics \n",
    "                    bureau about how much it thinks it imports and exports from other countries.\"\"\",\n",
    ")"
   ]
  },
  {
   "cell_type": "code",
   "execution_count": 18,
   "id": "29ef8379",
   "metadata": {},
   "outputs": [
    {
     "data": {
      "text/html": [
       "<div>\n",
       "<style scoped>\n",
       "    .dataframe tbody tr th:only-of-type {\n",
       "        vertical-align: middle;\n",
       "    }\n",
       "\n",
       "    .dataframe tbody tr th {\n",
       "        vertical-align: top;\n",
       "    }\n",
       "\n",
       "    .dataframe thead th {\n",
       "        text-align: right;\n",
       "    }\n",
       "</style>\n",
       "<table border=\"1\" class=\"dataframe\">\n",
       "  <thead>\n",
       "    <tr style=\"text-align: right;\">\n",
       "      <th></th>\n",
       "      <th>ID</th>\n",
       "      <th>Tags</th>\n",
       "      <th>Description</th>\n",
       "      <th>object_type</th>\n",
       "    </tr>\n",
       "  </thead>\n",
       "  <tbody>\n",
       "    <tr>\n",
       "      <th>0</th>\n",
       "      <td>&lt;UID: 5d57bbff0b5b4b31abcd57c65f4bb11f&gt;</td>\n",
       "      <td>[#Italy-feb2020]</td>\n",
       "      <td></td>\n",
       "      <td>&lt;class 'pandas.core.frame.DataFrame'&gt;</td>\n",
       "    </tr>\n",
       "  </tbody>\n",
       "</table>\n",
       "</div>"
      ],
      "text/plain": [
       "[<syft.proxy.pandas.DataFramePointer object at 0x7faebc5e5f10>]"
      ]
     },
     "execution_count": 18,
     "metadata": {},
     "output_type": "execute_result"
    }
   ],
   "source": [
    "it_domain_node.store"
   ]
  },
  {
   "cell_type": "code",
   "execution_count": 20,
   "id": "055b2093",
   "metadata": {},
   "outputs": [],
   "source": [
    "it_domain_node.users.create(\n",
    "    **{\n",
    "        \"name\": \"Sheldon Cooper\",\n",
    "        \"email\": \"sheldon@caltech.edu\",\n",
    "        \"password\": \"bazinga\"\n",
    "    }\n",
    ")"
   ]
  },
  {
   "cell_type": "code",
   "execution_count": 21,
   "id": "a008bf88",
   "metadata": {},
   "outputs": [
    {
     "data": {
      "text/plain": [
       "(40000, 22)"
      ]
     },
     "execution_count": 21,
     "metadata": {},
     "output_type": "execute_result"
    }
   ],
   "source": [
    "italy_dataset['Partner Code']"
   ]
  },
  {
   "cell_type": "code",
   "execution_count": null,
   "id": "fd632f6c",
   "metadata": {},
   "outputs": [],
   "source": []
  }
 ],
 "metadata": {
  "kernelspec": {
   "display_name": "Python 3",
   "language": "python",
   "name": "python3"
  },
  "language_info": {
   "codemirror_mode": {
    "name": "ipython",
    "version": 3
   },
   "file_extension": ".py",
   "mimetype": "text/x-python",
   "name": "python",
   "nbconvert_exporter": "python",
   "pygments_lexer": "ipython3",
   "version": "3.9.6"
  }
 },
 "nbformat": 4,
 "nbformat_minor": 5
}
