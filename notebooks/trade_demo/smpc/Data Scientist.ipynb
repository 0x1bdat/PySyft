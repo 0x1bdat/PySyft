{
 "cells": [
  {
   "cell_type": "code",
   "execution_count": null,
   "metadata": {},
   "outputs": [],
   "source": [
    "import pandas as pd\n",
    "import syft as sy\n",
    "import numpy as np\n",
    "# sy.logger.remove()"
   ]
  },
  {
   "cell_type": "markdown",
   "metadata": {},
   "source": [
    "### Logging into the domain Nodes"
   ]
  },
  {
   "cell_type": "code",
   "execution_count": null,
   "metadata": {},
   "outputs": [],
   "source": [
    "# We will login into Canada and Italy domain node\n",
    "ca = sy.login(email=\"sheldon@caltech.edu\", password=\"bazinga\", port=8081)\n",
    "it = sy.login(email=\"sheldon@caltech.edu\", password=\"bazinga\", port=8082)"
   ]
  },
  {
   "cell_type": "code",
   "execution_count": null,
   "metadata": {},
   "outputs": [],
   "source": [
    "# ca.store"
   ]
  },
  {
   "cell_type": "code",
   "execution_count": null,
   "metadata": {},
   "outputs": [],
   "source": [
    "# it.store"
   ]
  },
  {
   "cell_type": "code",
   "execution_count": 13,
   "metadata": {},
   "outputs": [],
   "source": [
    "ca_data = ca.store['data1']\n",
    "it_data = it.store['data1']"
   ]
  },
  {
   "cell_type": "code",
   "execution_count": 9,
   "metadata": {},
   "outputs": [
    {
     "data": {
      "text/plain": [
       "<TensorPointer -> canada:bdf0b7a3b34c47c1895436334a63a17b>"
      ]
     },
     "execution_count": 9,
     "metadata": {},
     "output_type": "execute_result"
    }
   ],
   "source": [
    "ca_data.shape"
   ]
  },
  {
   "cell_type": "code",
   "execution_count": 12,
   "metadata": {},
   "outputs": [],
   "source": [
    "# result = ca_data + it_data"
   ]
  },
  {
   "cell_type": "code",
   "execution_count": null,
   "metadata": {},
   "outputs": [],
   "source": [
    "self = ca_data\n",
    "other = it_data"
   ]
  },
  {
   "cell_type": "code",
   "execution_count": null,
   "metadata": {},
   "outputs": [],
   "source": [
    "# Conveca_data ca_dataset_ptr to mpc tensor\n",
    "\n",
    "parties = [self.client, other.client]\n",
    "\n",
    "self_mpc = MPCTensor(secret=self, shape=(40000, 3), parties=parties)\n",
    "other_mpc = MPCTensor(secret=other, shape=(40000, 3), parties=parties)"
   ]
  },
  {
   "cell_type": "code",
   "execution_count": 11,
   "metadata": {},
   "outputs": [],
   "source": [
    "result.request(\"asdfasdfasdfasfasfasfasfasdf\")"
   ]
  },
  {
   "cell_type": "code",
   "execution_count": 11,
   "metadata": {},
   "outputs": [
    {
     "data": {
      "text/plain": [
       "array([[      2,     526,   11184],\n",
       "       [      2,    1178,  251483],\n",
       "       [      2,    1254, 1809585],\n",
       "       ...,\n",
       "       [      3,    1218,     295],\n",
       "       [      3,     673,    3012],\n",
       "       [      3,     861,    2887]])"
      ]
     },
     "execution_count": 11,
     "metadata": {},
     "output_type": "execute_result"
    }
   ],
   "source": [
    "result.get()"
   ]
  },
  {
   "cell_type": "code",
   "execution_count": 12,
   "metadata": {},
   "outputs": [],
   "source": [
    "from syft.core.tensor.smpc.mpc_tensor import MPCTensor"
   ]
  },
  {
   "cell_type": "code",
   "execution_count": 8,
   "metadata": {},
   "outputs": [
    {
     "name": "stderr",
     "output_type": "stream",
     "text": [
      "[2021-08-19T19:27:30.111696+0100][CRITICAL][logger]][64569] __getattribute__ failed. If you are trying to access an EnumAttribute or a StaticAttribute, be sure they have been added to the AST. Falling back on__getattr__ to search in self.attrs for the requested field.\n",
      "[2021-08-19T19:27:30.113661+0100][CRITICAL][logger]][64569] 'Class' object has no attribute 'generate_przs'\n",
      "[2021-08-19T19:27:30.332322+0100][CRITICAL][logger]][64569] __getattribute__ failed. If you are trying to access an EnumAttribute or a StaticAttribute, be sure they have been added to the AST. Falling back on__getattr__ to search in self.attrs for the requested field.\n",
      "[2021-08-19T19:27:30.333720+0100][CRITICAL][logger]][64569] 'Class' object has no attribute 'generate_przs'\n",
      "[2021-08-19T19:27:30.563990+0100][CRITICAL][logger]][64569] __getattribute__ failed. If you are trying to access an EnumAttribute or a StaticAttribute, be sure they have been added to the AST. Falling back on__getattr__ to search in self.attrs for the requested field.\n",
      "[2021-08-19T19:27:30.565951+0100][CRITICAL][logger]][64569] 'Class' object has no attribute 'generate_przs'\n",
      "[2021-08-19T19:27:30.663059+0100][CRITICAL][logger]][64569] __getattribute__ failed. If you are trying to access an EnumAttribute or a StaticAttribute, be sure they have been added to the AST. Falling back on__getattr__ to search in self.attrs for the requested field.\n",
      "[2021-08-19T19:27:30.664217+0100][CRITICAL][logger]][64569] 'Class' object has no attribute 'generate_przs'\n"
     ]
    }
   ],
   "source": []
  },
  {
   "cell_type": "code",
   "execution_count": 9,
   "metadata": {},
   "outputs": [
    {
     "name": "stdout",
     "output_type": "stream",
     "text": [
      "A\n",
      "C\n",
      "C.1\n",
      "C.N.0\n",
      "C.N.1\n",
      "C.N.1.A\n",
      "<built-in function add>\n",
      "add\n",
      "D\n",
      "D.2\n",
      "Shape seems to be:(40000, 3) of type <class 'tuple'>\n"
     ]
    }
   ],
   "source": [
    "result = ca_mpc + it_mpc"
   ]
  },
  {
   "cell_type": "code",
   "execution_count": 10,
   "metadata": {},
   "outputs": [],
   "source": [
    "result.request(\"asdfjas;ofajwfawef\")"
   ]
  },
  {
   "cell_type": "code",
   "execution_count": 11,
   "metadata": {},
   "outputs": [
    {
     "data": {
      "text/plain": [
       "array([[      2,     526,   11184],\n",
       "       [      2,    1178,  251483],\n",
       "       [      2,    1254, 1809585],\n",
       "       ...,\n",
       "       [      3,    1218,     295],\n",
       "       [      3,     673,    3012],\n",
       "       [      3,     861,    2887]])"
      ]
     },
     "execution_count": 11,
     "metadata": {},
     "output_type": "execute_result"
    }
   ],
   "source": [
    "result.get()"
   ]
  },
  {
   "cell_type": "code",
   "execution_count": 13,
   "metadata": {},
   "outputs": [],
   "source": [
    "import operator"
   ]
  },
  {
   "cell_type": "code",
   "execution_count": 11,
   "metadata": {},
   "outputs": [],
   "source": [
    "ca_child = ca_mpc.child[0]\n",
    "it_child = it_mpc.child[0]"
   ]
  },
  {
   "cell_type": "code",
   "execution_count": 22,
   "metadata": {},
   "outputs": [],
   "source": [
    "self = ca_mpc\n",
    "other = it_mpc\n"
   ]
  },
  {
   "cell_type": "code",
   "execution_count": 24,
   "metadata": {},
   "outputs": [],
   "source": []
  },
  {
   "cell_type": "code",
   "execution_count": 25,
   "metadata": {},
   "outputs": [],
   "source": [
    "mpc_tensor.request(\"asdfasfadsfasfasdfasfasdfasdfasfasfasdfasfasdfasdfadsf\")"
   ]
  },
  {
   "cell_type": "code",
   "execution_count": null,
   "metadata": {},
   "outputs": [],
   "source": []
  },
  {
   "cell_type": "code",
   "execution_count": null,
   "metadata": {},
   "outputs": [],
   "source": []
  },
  {
   "cell_type": "code",
   "execution_count": 15,
   "metadata": {},
   "outputs": [],
   "source": [
    "result_ca_share.request(\"I REALLY WANT IT!!!\")"
   ]
  },
  {
   "cell_type": "code",
   "execution_count": 16,
   "metadata": {},
   "outputs": [
    {
     "data": {
      "text/plain": [
       "ShareTensor(child=[[  120411545686243275  5420364468416716212  4924260048870791973]\n",
       " [-8641641401201989031 -2149982478569540580 -6212756238532366336]\n",
       " [ 5415280196075540049  8659212241275543408  2419037793033825306]\n",
       " ...\n",
       " [-5157422069723653582 -1496009065233679124 -4812975320743786707]\n",
       " [-7522203994420192663 -7042870547401880629 -2297386771529147739]\n",
       " [-5308235108074479184 -6198067076408611232  1545530758790299955]])"
      ]
     },
     "execution_count": 16,
     "metadata": {},
     "output_type": "execute_result"
    }
   ],
   "source": [
    "result_ca_share.get()"
   ]
  },
  {
   "cell_type": "code",
   "execution_count": 43,
   "metadata": {},
   "outputs": [],
   "source": [
    "ca_child = ca_mpc.child[1]\n",
    "it_child = it_mpc.child[1]"
   ]
  },
  {
   "cell_type": "code",
   "execution_count": 44,
   "metadata": {},
   "outputs": [],
   "source": [
    "result_ca_share = ca_child + it_child"
   ]
  },
  {
   "cell_type": "code",
   "execution_count": 45,
   "metadata": {},
   "outputs": [],
   "source": [
    "result_ca_share.request(\"I REALLY WANT IT!!!\")"
   ]
  },
  {
   "cell_type": "code",
   "execution_count": 46,
   "metadata": {},
   "outputs": [
    {
     "data": {
      "text/plain": [
       "ShareTensor(child=[[ 3789326825264276718 -6195432187784671569  7724877658211289854]\n",
       " [ 5086638945853558380 -4163047212382163728  7873674670543014044]\n",
       " [ 8819932998979885411   566006346165101622 -1466510659657682348]\n",
       " ...\n",
       " [ -813453231418351047  1459449186582648287  1084914133896341587]\n",
       " [ 6387086361537578087 -6418132966490085138  9206396216059676139]\n",
       " [-1053403205987492338 -4350634154132594725  7797576070600199993]])"
      ]
     },
     "execution_count": 46,
     "metadata": {},
     "output_type": "execute_result"
    }
   ],
   "source": [
    "result_ca_share.get()"
   ]
  },
  {
   "cell_type": "code",
   "execution_count": null,
   "metadata": {},
   "outputs": [],
   "source": []
  },
  {
   "cell_type": "code",
   "execution_count": null,
   "metadata": {},
   "outputs": [],
   "source": []
  },
  {
   "cell_type": "code",
   "execution_count": null,
   "metadata": {},
   "outputs": [],
   "source": []
  },
  {
   "cell_type": "code",
   "execution_count": null,
   "metadata": {},
   "outputs": [],
   "source": []
  },
  {
   "cell_type": "code",
   "execution_count": null,
   "metadata": {},
   "outputs": [],
   "source": []
  },
  {
   "cell_type": "code",
   "execution_count": 17,
   "metadata": {},
   "outputs": [
    {
     "name": "stderr",
     "output_type": "stream",
     "text": [
      "/Users/atrask/Laboratory/openmined/PySyft/packages/syft/src/syft/core/tensor/smpc/mpc_tensor.py:228: RuntimeWarning: invalid value encountered in add\n",
      "  res = op(np.empty(x_shape), np.empty(y_shape)).shape\n"
     ]
    }
   ],
   "source": [
    "result = ca_mpc + it_mpc"
   ]
  },
  {
   "cell_type": "code",
   "execution_count": 19,
   "metadata": {},
   "outputs": [],
   "source": [
    "result.request(\"Asdfasdfasfsdf\")"
   ]
  },
  {
   "cell_type": "code",
   "execution_count": 61,
   "metadata": {},
   "outputs": [],
   "source": [
    "for c in result.child:\n",
    "    c.request(\"Asdfasfasfasdf\")"
   ]
  },
  {
   "cell_type": "code",
   "execution_count": 63,
   "metadata": {},
   "outputs": [
    {
     "data": {
      "text/plain": [
       "'istat'"
      ]
     },
     "execution_count": 63,
     "metadata": {},
     "output_type": "execute_result"
    }
   ],
   "source": [
    "c.client.name"
   ]
  },
  {
   "cell_type": "code",
   "execution_count": 65,
   "metadata": {},
   "outputs": [
    {
     "data": {
      "text/plain": [
       "<DomainClient: <UID: 683015daa92e43989c58e361eb641679>>"
      ]
     },
     "execution_count": 65,
     "metadata": {},
     "output_type": "execute_result"
    }
   ],
   "source": [
    "c.client"
   ]
  },
  {
   "cell_type": "code",
   "execution_count": 17,
   "metadata": {},
   "outputs": [],
   "source": [
    "# Performing a Private / Public Addition\n",
    "\n",
    "# Creating an array of ones of size (40000, 3)\n",
    "# Converting float to int, for SMPC to work\n",
    "e = np.ones((40000, 3))\n",
    "e = e.astype(int)\n",
    "\n",
    "result = mpc_tensor + e"
   ]
  },
  {
   "cell_type": "code",
   "execution_count": 18,
   "metadata": {},
   "outputs": [],
   "source": [
    "result.request(\"asdfasdfadsdfasdf\")"
   ]
  },
  {
   "cell_type": "code",
   "execution_count": 20,
   "metadata": {},
   "outputs": [
    {
     "data": {
      "text/plain": [
       "array([[      2,     491,    9286],\n",
       "       [      2,     819,  116605],\n",
       "       [      2,     827, 1495176],\n",
       "       ...,\n",
       "       [      2,     599,     281],\n",
       "       [      2,     441,    2988],\n",
       "       [      2,     157,    2864]])"
      ]
     },
     "execution_count": 20,
     "metadata": {},
     "output_type": "execute_result"
    }
   ],
   "source": [
    "result.get()"
   ]
  },
  {
   "cell_type": "code",
   "execution_count": null,
   "metadata": {},
   "outputs": [],
   "source": []
  }
 ],
 "metadata": {
  "kernelspec": {
   "display_name": "Python 3",
   "language": "python",
   "name": "python3"
  },
  "language_info": {
   "codemirror_mode": {
    "name": "ipython",
    "version": 3
   },
   "file_extension": ".py",
   "mimetype": "text/x-python",
   "name": "python",
   "nbconvert_exporter": "python",
   "pygments_lexer": "ipython3",
   "version": "3.7.9"
  }
 },
 "nbformat": 4,
 "nbformat_minor": 5
}
