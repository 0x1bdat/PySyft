{
 "cells": [
  {
   "cell_type": "code",
   "execution_count": 1,
   "id": "751c99b1-4025-4063-a862-4ef9214ce31c",
   "metadata": {},
   "outputs": [],
   "source": [
    "import syft as sy"
   ]
  },
  {
   "cell_type": "code",
   "execution_count": 2,
   "id": "314653c2-1698-43f7-9f8b-9dc4d7bf47c5",
   "metadata": {},
   "outputs": [
    {
     "name": "stdout",
     "output_type": "stream",
     "text": [
      "Connecting to http://localhost:8081... done! \t Logging into Canada... done!\n"
     ]
    }
   ],
   "source": [
    "ca = sy.login(email=\"andrew@openmined.org\", \n",
    "              password=\"abc1232\", \n",
    "              port=8081)"
   ]
  },
  {
   "cell_type": "code",
   "execution_count": 3,
   "id": "8af607fa-0583-42d0-870b-cae3b1b2ae6e",
   "metadata": {},
   "outputs": [],
   "source": [
    "trade_data = ca.datasets[-1]"
   ]
  },
  {
   "cell_type": "code",
   "execution_count": 4,
   "id": "7d5677db-be1b-488f-90f2-83042618f2de",
   "metadata": {},
   "outputs": [
    {
     "data": {
      "text/plain": [
       "\"A collection of reports from canada's statistics \\n                    bureau about how much it thinks it importsa nd exports from other countries.\""
      ]
     },
     "execution_count": 4,
     "metadata": {},
     "output_type": "execute_result"
    }
   ],
   "source": [
    "trade_data.description"
   ]
  },
  {
   "cell_type": "code",
   "execution_count": 5,
   "id": "5978d001-031b-4ac8-89ab-7fc4b430a740",
   "metadata": {},
   "outputs": [],
   "source": [
    "s = trade_data['feb2021']"
   ]
  },
  {
   "cell_type": "code",
   "execution_count": 6,
   "id": "5b707a0d-b3f9-4175-a9df-04e0cec85bbc",
   "metadata": {},
   "outputs": [],
   "source": [
    "out = s[s['Commodity'] == \"Cocoa and cocoa preparations\"]['Trade Value (US$)'].sum()"
   ]
  },
  {
   "cell_type": "code",
   "execution_count": 7,
   "id": "85176071-d387-4710-9657-6d77e10467bb",
   "metadata": {},
   "outputs": [],
   "source": [
    "out.request(reason=\"I'd like to know the sum total of cocoa moved in/out of Canada\")"
   ]
  },
  {
   "cell_type": "code",
   "execution_count": 23,
   "id": "e39e47c2-e36f-4979-b806-f496fb475484",
   "metadata": {},
   "outputs": [],
   "source": [
    "_s = trade_data.sample\n",
    "_s"
   ]
  },
  {
   "cell_type": "code",
   "execution_count": 26,
   "id": "df837724-8844-4de7-a07c-19248fc1e841",
   "metadata": {},
   "outputs": [
    {
     "data": {
      "text/plain": [
       "2027781"
      ]
     },
     "execution_count": 26,
     "metadata": {},
     "output_type": "execute_result"
    }
   ],
   "source": [
    "_s[_s['Commodity'] == \"Cocoa and cocoa preparations\"]['Trade Value (US$)'].sum()"
   ]
  },
  {
   "cell_type": "code",
   "execution_count": 1,
   "id": "123436f8-ca27-45c1-8d9b-81f134a24c3a",
   "metadata": {},
   "outputs": [],
   "source": [
    "from syft import logger"
   ]
  },
  {
   "cell_type": "code",
   "execution_count": 2,
   "id": "2c070143-9939-4520-b5f2-015962109e0e",
   "metadata": {},
   "outputs": [],
   "source": [
    "import sys"
   ]
  },
  {
   "cell_type": "code",
   "execution_count": 3,
   "id": "6e0f1d28-ee01-4c50-a235-9fd2c9043a13",
   "metadata": {},
   "outputs": [],
   "source": [
    "logger.add(sink=sys.stdout, level=\"DEBUG\")"
   ]
  },
  {
   "cell_type": "code",
   "execution_count": null,
   "id": "8535aac1-e7c4-458f-a035-e72c59b57d5e",
   "metadata": {},
   "outputs": [],
   "source": []
  }
 ],
 "metadata": {
  "kernelspec": {
   "display_name": "Python 3 (ipykernel)",
   "language": "python",
   "name": "python3"
  },
  "language_info": {
   "codemirror_mode": {
    "name": "ipython",
    "version": 3
   },
   "file_extension": ".py",
   "mimetype": "text/x-python",
   "name": "python",
   "nbconvert_exporter": "python",
   "pygments_lexer": "ipython3",
   "version": "3.9.5"
  }
 },
 "nbformat": 4,
 "nbformat_minor": 5
}
