{
 "cells": [
  {
   "cell_type": "code",
   "execution_count": 8,
   "metadata": {},
   "outputs": [
    {
     "name": "stdout",
     "output_type": "stream",
     "text": [
      "Welcome info@openmined.org!\n"
     ]
    },
    {
     "name": "stdin",
     "output_type": "stream",
     "text": [
      "Please enter you password: ··········\n"
     ]
    },
    {
     "name": "stdout",
     "output_type": "stream",
     "text": [
      "Connecting to http://137.135.44.171... done! \t Logging into infallible_goodfellow... done!\n"
     ]
    }
   ],
   "source": [
    "import syft as sy\n",
    "import pandas as pd\n",
    "\n",
    "\n",
    "uk = sy.login(url=\"http://137.135.44.171\", \n",
    "              email=\"info@openmined.org\", \n",
    "              port=80)"
   ]
  },
  {
   "cell_type": "code",
   "execution_count": 9,
   "metadata": {},
   "outputs": [
    {
     "data": {
      "text/html": [
       "<div>\n",
       "<style scoped>\n",
       "    .dataframe tbody tr th:only-of-type {\n",
       "        vertical-align: middle;\n",
       "    }\n",
       "\n",
       "    .dataframe tbody tr th {\n",
       "        vertical-align: top;\n",
       "    }\n",
       "\n",
       "    .dataframe thead th {\n",
       "        text-align: right;\n",
       "    }\n",
       "</style>\n",
       "<table border=\"1\" class=\"dataframe\">\n",
       "  <thead>\n",
       "    <tr style=\"text-align: right;\">\n",
       "      <th></th>\n",
       "      <th>ID</th>\n",
       "      <th>Tags</th>\n",
       "      <th>Description</th>\n",
       "      <th>object_type</th>\n",
       "    </tr>\n",
       "  </thead>\n",
       "  <tbody>\n",
       "    <tr>\n",
       "      <th>0</th>\n",
       "      <td>&lt;UID: f329fac51ee141cf9e7405a5ef20dfbe&gt;</td>\n",
       "      <td>[#dec2020]</td>\n",
       "      <td></td>\n",
       "      <td>&lt;class 'pandas.core.frame.DataFrame'&gt;</td>\n",
       "    </tr>\n",
       "    <tr>\n",
       "      <th>1</th>\n",
       "      <td>&lt;UID: 64895c1a2f2748dfb76132ade7b34469&gt;</td>\n",
       "      <td>[#dec2020]</td>\n",
       "      <td></td>\n",
       "      <td>&lt;class 'pandas.core.frame.DataFrame'&gt;</td>\n",
       "    </tr>\n",
       "  </tbody>\n",
       "</table>\n",
       "</div>"
      ],
      "text/plain": [
       "[<syft.proxy.pandas.DataFramePointer object at 0x7f85d0f44e20>, <syft.proxy.pandas.DataFramePointer object at 0x7f85d0f449d0>]"
      ]
     },
     "execution_count": 9,
     "metadata": {},
     "output_type": "execute_result"
    }
   ],
   "source": [
    "uk.store"
   ]
  },
  {
   "cell_type": "code",
   "execution_count": 10,
   "metadata": {},
   "outputs": [
    {
     "name": "stderr",
     "output_type": "stream",
     "text": [
      "/Users/andrewliamtrask/opt/anaconda3/envs/syft39/lib/python3.9/site-packages/IPython/core/interactiveshell.py:3169: DtypeWarning: Columns (14) have mixed types.Specify dtype option on import or set low_memory=False.\n",
      "  has_raised = await self.run_ast_nodes(code_ast.body, cell_name,\n"
     ]
    }
   ],
   "source": [
    "uk_data = pd.read_csv('../datasets/uk - dec 2020.csv')[0:50000]"
   ]
  },
  {
   "cell_type": "code",
   "execution_count": 11,
   "metadata": {},
   "outputs": [
    {
     "data": {
      "text/html": [
       "<div>\n",
       "<style scoped>\n",
       "    .dataframe tbody tr th:only-of-type {\n",
       "        vertical-align: middle;\n",
       "    }\n",
       "\n",
       "    .dataframe tbody tr th {\n",
       "        vertical-align: top;\n",
       "    }\n",
       "\n",
       "    .dataframe thead th {\n",
       "        text-align: right;\n",
       "    }\n",
       "</style>\n",
       "<table border=\"1\" class=\"dataframe\">\n",
       "  <thead>\n",
       "    <tr style=\"text-align: right;\">\n",
       "      <th></th>\n",
       "      <th>Classification</th>\n",
       "      <th>Year</th>\n",
       "      <th>Period</th>\n",
       "      <th>Period Desc.</th>\n",
       "      <th>Aggregate Level</th>\n",
       "      <th>Is Leaf Code</th>\n",
       "      <th>Trade Flow Code</th>\n",
       "      <th>Trade Flow</th>\n",
       "      <th>Reporter Code</th>\n",
       "      <th>Reporter</th>\n",
       "      <th>...</th>\n",
       "      <th>Partner</th>\n",
       "      <th>Partner ISO</th>\n",
       "      <th>Commodity Code</th>\n",
       "      <th>Commodity</th>\n",
       "      <th>Qty Unit Code</th>\n",
       "      <th>Qty Unit</th>\n",
       "      <th>Qty</th>\n",
       "      <th>Netweight (kg)</th>\n",
       "      <th>Trade Value (US$)</th>\n",
       "      <th>Flag</th>\n",
       "    </tr>\n",
       "  </thead>\n",
       "  <tbody>\n",
       "    <tr>\n",
       "      <th>0</th>\n",
       "      <td>HS</td>\n",
       "      <td>2020</td>\n",
       "      <td>202012</td>\n",
       "      <td>December 2020</td>\n",
       "      <td>6</td>\n",
       "      <td>1</td>\n",
       "      <td>2</td>\n",
       "      <td>Exports</td>\n",
       "      <td>826</td>\n",
       "      <td>United Kingdom</td>\n",
       "      <td>...</td>\n",
       "      <td>Australia</td>\n",
       "      <td>NaN</td>\n",
       "      <td>482190</td>\n",
       "      <td>Paper and paperboard; labels of all kinds, unp...</td>\n",
       "      <td>0</td>\n",
       "      <td>NaN</td>\n",
       "      <td>NaN</td>\n",
       "      <td>140.0</td>\n",
       "      <td>5845</td>\n",
       "      <td>0</td>\n",
       "    </tr>\n",
       "    <tr>\n",
       "      <th>1</th>\n",
       "      <td>HS</td>\n",
       "      <td>2020</td>\n",
       "      <td>202012</td>\n",
       "      <td>December 2020</td>\n",
       "      <td>6</td>\n",
       "      <td>1</td>\n",
       "      <td>2</td>\n",
       "      <td>Exports</td>\n",
       "      <td>826</td>\n",
       "      <td>United Kingdom</td>\n",
       "      <td>...</td>\n",
       "      <td>China</td>\n",
       "      <td>NaN</td>\n",
       "      <td>482190</td>\n",
       "      <td>Paper and paperboard; labels of all kinds, unp...</td>\n",
       "      <td>0</td>\n",
       "      <td>NaN</td>\n",
       "      <td>NaN</td>\n",
       "      <td>208.0</td>\n",
       "      <td>70007</td>\n",
       "      <td>0</td>\n",
       "    </tr>\n",
       "    <tr>\n",
       "      <th>2</th>\n",
       "      <td>HS</td>\n",
       "      <td>2020</td>\n",
       "      <td>202012</td>\n",
       "      <td>December 2020</td>\n",
       "      <td>6</td>\n",
       "      <td>1</td>\n",
       "      <td>2</td>\n",
       "      <td>Exports</td>\n",
       "      <td>826</td>\n",
       "      <td>United Kingdom</td>\n",
       "      <td>...</td>\n",
       "      <td>Canada</td>\n",
       "      <td>NaN</td>\n",
       "      <td>482190</td>\n",
       "      <td>Paper and paperboard; labels of all kinds, unp...</td>\n",
       "      <td>0</td>\n",
       "      <td>NaN</td>\n",
       "      <td>NaN</td>\n",
       "      <td>3101.0</td>\n",
       "      <td>4721</td>\n",
       "      <td>0</td>\n",
       "    </tr>\n",
       "    <tr>\n",
       "      <th>3</th>\n",
       "      <td>HS</td>\n",
       "      <td>2020</td>\n",
       "      <td>202012</td>\n",
       "      <td>December 2020</td>\n",
       "      <td>6</td>\n",
       "      <td>1</td>\n",
       "      <td>2</td>\n",
       "      <td>Exports</td>\n",
       "      <td>826</td>\n",
       "      <td>United Kingdom</td>\n",
       "      <td>...</td>\n",
       "      <td>Malaysia</td>\n",
       "      <td>NaN</td>\n",
       "      <td>482190</td>\n",
       "      <td>Paper and paperboard; labels of all kinds, unp...</td>\n",
       "      <td>0</td>\n",
       "      <td>NaN</td>\n",
       "      <td>NaN</td>\n",
       "      <td>112.0</td>\n",
       "      <td>4166</td>\n",
       "      <td>0</td>\n",
       "    </tr>\n",
       "    <tr>\n",
       "      <th>4</th>\n",
       "      <td>HS</td>\n",
       "      <td>2020</td>\n",
       "      <td>202012</td>\n",
       "      <td>December 2020</td>\n",
       "      <td>6</td>\n",
       "      <td>1</td>\n",
       "      <td>2</td>\n",
       "      <td>Exports</td>\n",
       "      <td>826</td>\n",
       "      <td>United Kingdom</td>\n",
       "      <td>...</td>\n",
       "      <td>Morocco</td>\n",
       "      <td>NaN</td>\n",
       "      <td>482190</td>\n",
       "      <td>Paper and paperboard; labels of all kinds, unp...</td>\n",
       "      <td>0</td>\n",
       "      <td>NaN</td>\n",
       "      <td>NaN</td>\n",
       "      <td>171.0</td>\n",
       "      <td>1803</td>\n",
       "      <td>0</td>\n",
       "    </tr>\n",
       "    <tr>\n",
       "      <th>...</th>\n",
       "      <td>...</td>\n",
       "      <td>...</td>\n",
       "      <td>...</td>\n",
       "      <td>...</td>\n",
       "      <td>...</td>\n",
       "      <td>...</td>\n",
       "      <td>...</td>\n",
       "      <td>...</td>\n",
       "      <td>...</td>\n",
       "      <td>...</td>\n",
       "      <td>...</td>\n",
       "      <td>...</td>\n",
       "      <td>...</td>\n",
       "      <td>...</td>\n",
       "      <td>...</td>\n",
       "      <td>...</td>\n",
       "      <td>...</td>\n",
       "      <td>...</td>\n",
       "      <td>...</td>\n",
       "      <td>...</td>\n",
       "      <td>...</td>\n",
       "    </tr>\n",
       "    <tr>\n",
       "      <th>49995</th>\n",
       "      <td>HS</td>\n",
       "      <td>2020</td>\n",
       "      <td>202012</td>\n",
       "      <td>December 2020</td>\n",
       "      <td>6</td>\n",
       "      <td>1</td>\n",
       "      <td>2</td>\n",
       "      <td>Exports</td>\n",
       "      <td>826</td>\n",
       "      <td>United Kingdom</td>\n",
       "      <td>...</td>\n",
       "      <td>World</td>\n",
       "      <td>NaN</td>\n",
       "      <td>90112</td>\n",
       "      <td>Coffee; decaffeinated, not roasted</td>\n",
       "      <td>0</td>\n",
       "      <td>NaN</td>\n",
       "      <td>NaN</td>\n",
       "      <td>16645.0</td>\n",
       "      <td>134956</td>\n",
       "      <td>0</td>\n",
       "    </tr>\n",
       "    <tr>\n",
       "      <th>49996</th>\n",
       "      <td>HS</td>\n",
       "      <td>2020</td>\n",
       "      <td>202012</td>\n",
       "      <td>December 2020</td>\n",
       "      <td>6</td>\n",
       "      <td>1</td>\n",
       "      <td>2</td>\n",
       "      <td>Exports</td>\n",
       "      <td>826</td>\n",
       "      <td>United Kingdom</td>\n",
       "      <td>...</td>\n",
       "      <td>World</td>\n",
       "      <td>NaN</td>\n",
       "      <td>90121</td>\n",
       "      <td>Coffee; roasted, not decaffeinated</td>\n",
       "      <td>0</td>\n",
       "      <td>NaN</td>\n",
       "      <td>NaN</td>\n",
       "      <td>4099880.0</td>\n",
       "      <td>39500622</td>\n",
       "      <td>0</td>\n",
       "    </tr>\n",
       "    <tr>\n",
       "      <th>49997</th>\n",
       "      <td>HS</td>\n",
       "      <td>2020</td>\n",
       "      <td>202012</td>\n",
       "      <td>December 2020</td>\n",
       "      <td>6</td>\n",
       "      <td>1</td>\n",
       "      <td>2</td>\n",
       "      <td>Exports</td>\n",
       "      <td>826</td>\n",
       "      <td>United Kingdom</td>\n",
       "      <td>...</td>\n",
       "      <td>World</td>\n",
       "      <td>NaN</td>\n",
       "      <td>90111</td>\n",
       "      <td>Coffee; not roasted or decaffeinated</td>\n",
       "      <td>0</td>\n",
       "      <td>NaN</td>\n",
       "      <td>NaN</td>\n",
       "      <td>619216.0</td>\n",
       "      <td>3255532</td>\n",
       "      <td>0</td>\n",
       "    </tr>\n",
       "    <tr>\n",
       "      <th>49998</th>\n",
       "      <td>HS</td>\n",
       "      <td>2020</td>\n",
       "      <td>202012</td>\n",
       "      <td>December 2020</td>\n",
       "      <td>6</td>\n",
       "      <td>1</td>\n",
       "      <td>2</td>\n",
       "      <td>Exports</td>\n",
       "      <td>826</td>\n",
       "      <td>United Kingdom</td>\n",
       "      <td>...</td>\n",
       "      <td>World</td>\n",
       "      <td>NaN</td>\n",
       "      <td>81340</td>\n",
       "      <td>Fruit, edible; fruit n.e.s. in heading no. 081...</td>\n",
       "      <td>0</td>\n",
       "      <td>NaN</td>\n",
       "      <td>NaN</td>\n",
       "      <td>74429.0</td>\n",
       "      <td>510181</td>\n",
       "      <td>0</td>\n",
       "    </tr>\n",
       "    <tr>\n",
       "      <th>49999</th>\n",
       "      <td>HS</td>\n",
       "      <td>2020</td>\n",
       "      <td>202012</td>\n",
       "      <td>December 2020</td>\n",
       "      <td>6</td>\n",
       "      <td>1</td>\n",
       "      <td>2</td>\n",
       "      <td>Exports</td>\n",
       "      <td>826</td>\n",
       "      <td>United Kingdom</td>\n",
       "      <td>...</td>\n",
       "      <td>World</td>\n",
       "      <td>NaN</td>\n",
       "      <td>81350</td>\n",
       "      <td>Nuts, edible; mixtures of nuts or dried fruits...</td>\n",
       "      <td>0</td>\n",
       "      <td>NaN</td>\n",
       "      <td>NaN</td>\n",
       "      <td>203839.0</td>\n",
       "      <td>1320496</td>\n",
       "      <td>0</td>\n",
       "    </tr>\n",
       "  </tbody>\n",
       "</table>\n",
       "<p>50000 rows × 22 columns</p>\n",
       "</div>"
      ],
      "text/plain": [
       "      Classification  Year  Period   Period Desc.  Aggregate Level  \\\n",
       "0                 HS  2020  202012  December 2020                6   \n",
       "1                 HS  2020  202012  December 2020                6   \n",
       "2                 HS  2020  202012  December 2020                6   \n",
       "3                 HS  2020  202012  December 2020                6   \n",
       "4                 HS  2020  202012  December 2020                6   \n",
       "...              ...   ...     ...            ...              ...   \n",
       "49995             HS  2020  202012  December 2020                6   \n",
       "49996             HS  2020  202012  December 2020                6   \n",
       "49997             HS  2020  202012  December 2020                6   \n",
       "49998             HS  2020  202012  December 2020                6   \n",
       "49999             HS  2020  202012  December 2020                6   \n",
       "\n",
       "       Is Leaf Code  Trade Flow Code Trade Flow  Reporter Code  \\\n",
       "0                 1                2    Exports            826   \n",
       "1                 1                2    Exports            826   \n",
       "2                 1                2    Exports            826   \n",
       "3                 1                2    Exports            826   \n",
       "4                 1                2    Exports            826   \n",
       "...             ...              ...        ...            ...   \n",
       "49995             1                2    Exports            826   \n",
       "49996             1                2    Exports            826   \n",
       "49997             1                2    Exports            826   \n",
       "49998             1                2    Exports            826   \n",
       "49999             1                2    Exports            826   \n",
       "\n",
       "             Reporter  ...    Partner  Partner ISO Commodity Code  \\\n",
       "0      United Kingdom  ...  Australia          NaN         482190   \n",
       "1      United Kingdom  ...      China          NaN         482190   \n",
       "2      United Kingdom  ...     Canada          NaN         482190   \n",
       "3      United Kingdom  ...   Malaysia          NaN         482190   \n",
       "4      United Kingdom  ...    Morocco          NaN         482190   \n",
       "...               ...  ...        ...          ...            ...   \n",
       "49995  United Kingdom  ...      World          NaN          90112   \n",
       "49996  United Kingdom  ...      World          NaN          90121   \n",
       "49997  United Kingdom  ...      World          NaN          90111   \n",
       "49998  United Kingdom  ...      World          NaN          81340   \n",
       "49999  United Kingdom  ...      World          NaN          81350   \n",
       "\n",
       "                                               Commodity Qty Unit Code  \\\n",
       "0      Paper and paperboard; labels of all kinds, unp...             0   \n",
       "1      Paper and paperboard; labels of all kinds, unp...             0   \n",
       "2      Paper and paperboard; labels of all kinds, unp...             0   \n",
       "3      Paper and paperboard; labels of all kinds, unp...             0   \n",
       "4      Paper and paperboard; labels of all kinds, unp...             0   \n",
       "...                                                  ...           ...   \n",
       "49995                 Coffee; decaffeinated, not roasted             0   \n",
       "49996                 Coffee; roasted, not decaffeinated             0   \n",
       "49997               Coffee; not roasted or decaffeinated             0   \n",
       "49998  Fruit, edible; fruit n.e.s. in heading no. 081...             0   \n",
       "49999  Nuts, edible; mixtures of nuts or dried fruits...             0   \n",
       "\n",
       "      Qty Unit  Qty  Netweight (kg)  Trade Value (US$)  Flag  \n",
       "0          NaN  NaN           140.0               5845     0  \n",
       "1          NaN  NaN           208.0              70007     0  \n",
       "2          NaN  NaN          3101.0               4721     0  \n",
       "3          NaN  NaN           112.0               4166     0  \n",
       "4          NaN  NaN           171.0               1803     0  \n",
       "...        ...  ...             ...                ...   ...  \n",
       "49995      NaN  NaN         16645.0             134956     0  \n",
       "49996      NaN  NaN       4099880.0           39500622     0  \n",
       "49997      NaN  NaN        619216.0            3255532     0  \n",
       "49998      NaN  NaN         74429.0             510181     0  \n",
       "49999      NaN  NaN        203839.0            1320496     0  \n",
       "\n",
       "[50000 rows x 22 columns]"
      ]
     },
     "execution_count": 11,
     "metadata": {},
     "output_type": "execute_result"
    }
   ],
   "source": [
    "uk_data"
   ]
  },
  {
   "cell_type": "code",
   "execution_count": 12,
   "metadata": {},
   "outputs": [],
   "source": [
    "d = uk.load_dataset(assets={\"dec2020\":uk_data}, \n",
    "                    name=b\"UK Trade Data - first 50K rows\", \n",
    "                    description=b\"\"\"A collection of reports from UK's statistics \n",
    "                    bureau about how much it thinks it imports and exports from other countries.\"\"\")"
   ]
  },
  {
   "cell_type": "code",
   "execution_count": 13,
   "metadata": {},
   "outputs": [
    {
     "data": {
      "text/html": [
       "<div>\n",
       "<style scoped>\n",
       "    .dataframe tbody tr th:only-of-type {\n",
       "        vertical-align: middle;\n",
       "    }\n",
       "\n",
       "    .dataframe tbody tr th {\n",
       "        vertical-align: top;\n",
       "    }\n",
       "\n",
       "    .dataframe thead th {\n",
       "        text-align: right;\n",
       "    }\n",
       "</style>\n",
       "<table border=\"1\" class=\"dataframe\">\n",
       "  <thead>\n",
       "    <tr style=\"text-align: right;\">\n",
       "      <th></th>\n",
       "      <th>ID</th>\n",
       "      <th>Tags</th>\n",
       "      <th>Description</th>\n",
       "      <th>object_type</th>\n",
       "    </tr>\n",
       "  </thead>\n",
       "  <tbody>\n",
       "    <tr>\n",
       "      <th>0</th>\n",
       "      <td>&lt;UID: f329fac51ee141cf9e7405a5ef20dfbe&gt;</td>\n",
       "      <td>[#dec2020]</td>\n",
       "      <td></td>\n",
       "      <td>&lt;class 'pandas.core.frame.DataFrame'&gt;</td>\n",
       "    </tr>\n",
       "    <tr>\n",
       "      <th>1</th>\n",
       "      <td>&lt;UID: 64895c1a2f2748dfb76132ade7b34469&gt;</td>\n",
       "      <td>[#dec2020]</td>\n",
       "      <td></td>\n",
       "      <td>&lt;class 'pandas.core.frame.DataFrame'&gt;</td>\n",
       "    </tr>\n",
       "    <tr>\n",
       "      <th>2</th>\n",
       "      <td>&lt;UID: 54d367dad40c4cdd8d594af81c9547a3&gt;</td>\n",
       "      <td>[#dec2020]</td>\n",
       "      <td></td>\n",
       "      <td>&lt;class 'pandas.core.frame.DataFrame'&gt;</td>\n",
       "    </tr>\n",
       "  </tbody>\n",
       "</table>\n",
       "</div>"
      ],
      "text/plain": [
       "[<syft.proxy.pandas.DataFramePointer object at 0x7f85f9e39fd0>, <syft.proxy.pandas.DataFramePointer object at 0x7f85d0f445b0>, <syft.proxy.pandas.DataFramePointer object at 0x7f85d8d9b070>]"
      ]
     },
     "execution_count": 13,
     "metadata": {},
     "output_type": "execute_result"
    }
   ],
   "source": [
    "uk.store"
   ]
  },
  {
   "cell_type": "code",
   "execution_count": null,
   "metadata": {},
   "outputs": [],
   "source": []
  },
  {
   "cell_type": "code",
   "execution_count": null,
   "metadata": {},
   "outputs": [],
   "source": []
  },
  {
   "cell_type": "code",
   "execution_count": null,
   "metadata": {},
   "outputs": [],
   "source": []
  },
  {
   "cell_type": "code",
   "execution_count": null,
   "metadata": {},
   "outputs": [],
   "source": []
  },
  {
   "cell_type": "code",
   "execution_count": null,
   "metadata": {},
   "outputs": [],
   "source": []
  },
  {
   "cell_type": "code",
   "execution_count": null,
   "metadata": {},
   "outputs": [],
   "source": []
  },
  {
   "cell_type": "code",
   "execution_count": null,
   "metadata": {},
   "outputs": [],
   "source": []
  },
  {
   "cell_type": "code",
   "execution_count": null,
   "metadata": {},
   "outputs": [],
   "source": []
  },
  {
   "cell_type": "code",
   "execution_count": null,
   "metadata": {},
   "outputs": [],
   "source": []
  },
  {
   "cell_type": "code",
   "execution_count": null,
   "metadata": {},
   "outputs": [],
   "source": []
  },
  {
   "cell_type": "code",
   "execution_count": null,
   "metadata": {},
   "outputs": [],
   "source": []
  },
  {
   "cell_type": "code",
   "execution_count": null,
   "metadata": {},
   "outputs": [],
   "source": []
  },
  {
   "cell_type": "code",
   "execution_count": null,
   "metadata": {},
   "outputs": [],
   "source": []
  },
  {
   "cell_type": "code",
   "execution_count": null,
   "metadata": {},
   "outputs": [],
   "source": []
  },
  {
   "cell_type": "code",
   "execution_count": null,
   "metadata": {},
   "outputs": [],
   "source": []
  },
  {
   "cell_type": "code",
   "execution_count": null,
   "metadata": {},
   "outputs": [],
   "source": []
  },
  {
   "cell_type": "code",
   "execution_count": null,
   "metadata": {},
   "outputs": [],
   "source": []
  },
  {
   "cell_type": "code",
   "execution_count": null,
   "metadata": {},
   "outputs": [],
   "source": []
  },
  {
   "cell_type": "code",
   "execution_count": null,
   "metadata": {},
   "outputs": [],
   "source": []
  },
  {
   "cell_type": "code",
   "execution_count": null,
   "metadata": {},
   "outputs": [],
   "source": [
    "# uk node\n",
    "# uk = sy.login(url=\"http://54.242.39.40\", email=\"info@openmined.org\", password=\"changethis\", port=80)"
   ]
  },
  {
   "cell_type": "code",
   "execution_count": null,
   "metadata": {},
   "outputs": [],
   "source": [
    "ca.users.create(name=\"Andrew Trask\",\n",
    "                email=\"andrew@openmined.org\",\n",
    "                password=\"abc123\")\n"
   ]
  },
  {
   "cell_type": "code",
   "execution_count": null,
   "metadata": {},
   "outputs": [],
   "source": [
    "ca.users"
   ]
  },
  {
   "cell_type": "code",
   "execution_count": null,
   "metadata": {},
   "outputs": [],
   "source": [
    "ca.store"
   ]
  },
  {
   "cell_type": "code",
   "execution_count": null,
   "metadata": {},
   "outputs": [],
   "source": [
    "ca.requests.pandas"
   ]
  },
  {
   "cell_type": "code",
   "execution_count": null,
   "metadata": {},
   "outputs": [],
   "source": [
    "ca.requests[0].accept()"
   ]
  },
  {
   "cell_type": "code",
   "execution_count": null,
   "metadata": {},
   "outputs": [],
   "source": []
  },
  {
   "cell_type": "code",
   "execution_count": null,
   "metadata": {},
   "outputs": [],
   "source": []
  },
  {
   "cell_type": "code",
   "execution_count": null,
   "metadata": {},
   "outputs": [],
   "source": []
  },
  {
   "cell_type": "code",
   "execution_count": null,
   "metadata": {},
   "outputs": [],
   "source": []
  },
  {
   "cell_type": "code",
   "execution_count": null,
   "metadata": {},
   "outputs": [],
   "source": []
  },
  {
   "cell_type": "code",
   "execution_count": null,
   "metadata": {},
   "outputs": [],
   "source": []
  },
  {
   "cell_type": "code",
   "execution_count": null,
   "metadata": {},
   "outputs": [],
   "source": []
  },
  {
   "cell_type": "code",
   "execution_count": null,
   "metadata": {},
   "outputs": [],
   "source": [
    "ca.users"
   ]
  },
  {
   "cell_type": "code",
   "execution_count": null,
   "metadata": {},
   "outputs": [],
   "source": [
    "d = ca.datasets[-1]"
   ]
  },
  {
   "cell_type": "code",
   "execution_count": null,
   "metadata": {},
   "outputs": [],
   "source": [
    "d.sample"
   ]
  },
  {
   "cell_type": "code",
   "execution_count": null,
   "metadata": {},
   "outputs": [],
   "source": [
    "ca.datasets[0]\n"
   ]
  },
  {
   "cell_type": "code",
   "execution_count": null,
   "metadata": {},
   "outputs": [],
   "source": [
    "# un = sy.login(email=\"info@openmined.org\", password=\"changethis\", port=8082)"
   ]
  },
  {
   "cell_type": "code",
   "execution_count": null,
   "metadata": {},
   "outputs": [],
   "source": [
    "# ca.users.update(user_id=1, name=\"Bob\")\n",
    "# un.users.update(user_id=1, name=\"Alice\")"
   ]
  },
  {
   "cell_type": "code",
   "execution_count": null,
   "metadata": {},
   "outputs": [],
   "source": [
    "un.users.all(pandas=True)"
   ]
  },
  {
   "cell_type": "code",
   "execution_count": null,
   "metadata": {},
   "outputs": [],
   "source": [
    "# us = sy.login(email=\"info@openmined.org\", password=\"changethis\", port=8082)\n",
    "# it = sy.login(email=\"info@openmined.org\", password=\"changethis\", port=8083)\n",
    "# ne = sy.login(email=\"info@openmined.org\", password=\"changethis\", port=8084)\n",
    "\n"
   ]
  },
  {
   "cell_type": "code",
   "execution_count": null,
   "metadata": {},
   "outputs": [],
   "source": []
  },
  {
   "cell_type": "code",
   "execution_count": null,
   "metadata": {},
   "outputs": [],
   "source": [
    "y = p + p"
   ]
  },
  {
   "cell_type": "code",
   "execution_count": null,
   "metadata": {},
   "outputs": [],
   "source": [
    "y.get()"
   ]
  },
  {
   "cell_type": "code",
   "execution_count": null,
   "metadata": {},
   "outputs": [],
   "source": []
  }
 ],
 "metadata": {
  "kernelspec": {
   "display_name": "Python 3 (ipykernel)",
   "language": "python",
   "name": "python3"
  },
  "language_info": {
   "codemirror_mode": {
    "name": "ipython",
    "version": 3
   },
   "file_extension": ".py",
   "mimetype": "text/x-python",
   "name": "python",
   "nbconvert_exporter": "python",
   "pygments_lexer": "ipython3",
   "version": "3.9.5"
  }
 },
 "nbformat": 4,
 "nbformat_minor": 4
}
