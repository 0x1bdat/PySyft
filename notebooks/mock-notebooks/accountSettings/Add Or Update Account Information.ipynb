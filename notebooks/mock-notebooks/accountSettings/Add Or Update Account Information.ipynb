{
 "cells": [
  {
   "cell_type": "code",
   "execution_count": 2,
   "id": "d3b8ed3a",
   "metadata": {},
   "outputs": [],
   "source": [
    "import syft as sy"
   ]
  },
  {
   "cell_type": "markdown",
   "id": "8cad00b2",
   "metadata": {},
   "source": [
    "### User successfully logs into the domain"
   ]
  },
  {
   "cell_type": "code",
   "execution_count": null,
   "id": "80761a10",
   "metadata": {},
   "outputs": [],
   "source": [
    "domain = sy.login(url=\"https://ca.openmined.org\", port=80, email=\"sheldon@caltech.edu\", password=\"bazinga\")"
   ]
  },
  {
   "cell_type": "code",
   "execution_count": 16,
   "id": "179806cf",
   "metadata": {},
   "outputs": [
    {
     "name": "stdout",
     "output_type": "stream",
     "text": [
      "\n",
      "\u001b[1mProfile Details: \u001b[0m\n",
      "\u001b[1mName:\u001b[0m Sheldon Cooper\n",
      "\u001b[1mEmail:\u001b[0m sheldon@caltech.edu\n",
      "\u001b[1mInstitution:\u001b[0m California Institute of Technology\n",
      "\u001b[1mProfile Link:\u001b[0m http://linkedin.com/sheldon\n",
      "\n"
     ]
    }
   ],
   "source": [
    "# Case I\n",
    "# User wants to view their profile details\n",
    "\n",
    "domain.userprofile"
   ]
  },
  {
   "cell_type": "code",
   "execution_count": 55,
   "id": "7b8f11cd",
   "metadata": {},
   "outputs": [
    {
     "name": "stdout",
     "output_type": "stream",
     "text": [
      "Welcome to Profile Update Widget:\n",
      "\n",
      "Note: \n",
      "- The current value of the field is shown inside round brackets (...).\n",
      "- Please enter `s` to skip any field.\n",
      "- Please enter `q` quit the widget. If you quit changes won't be saved.\n",
      "\n",
      "Please enter the new details:\n",
      "\n",
      "Name: (Sheldon Cooper) - Bruce Wayne\n",
      "Institution: (California Institute of Technology) - Wayne Industries\n",
      "Email: (sheldon@caltech.edu) - darkknight@batman.com\n",
      "Profile Link: - (https://www.linkedin.com/sheldon)https://www.iambatman.com\n",
      "\n",
      "\u001b[1mUpdated Details: \u001b[0m\n",
      "\u001b[1mName:\u001b[0m Bruce Wayne\n",
      "\u001b[1mEmail:\u001b[0m darkknight@dc.com\n",
      "\u001b[1mInstitution:\u001b[0m Wayne Industries\n",
      "\u001b[1mProfile Link:\u001b[0m https://iambatman.com\n"
     ]
    },
    {
     "data": {
      "text/plain": [
       "168"
      ]
     },
     "execution_count": 55,
     "metadata": {},
     "output_type": "execute_result"
    }
   ],
   "source": [
    "# Case II\n",
    "# User wants to update their profile details\n",
    "# No arguments are passed to the update method\n",
    "\n",
    "domain.userprofile.update()"
   ]
  },
  {
   "cell_type": "code",
   "execution_count": 61,
   "id": "a2b92e59",
   "metadata": {},
   "outputs": [
    {
     "name": "stdout",
     "output_type": "stream",
     "text": [
      "Please enter the new Name:\n",
      "Name: (Sheldon Cooper) - Bruce Wayne\n",
      "\n",
      "Name is successfully updated !\n"
     ]
    }
   ],
   "source": [
    "# Case III\n",
    "# User wants to update only a single field, e.g. Name\n",
    "\n",
    "domain.userprofile.update(field_name=\"Name\")"
   ]
  },
  {
   "cell_type": "code",
   "execution_count": 66,
   "id": "b91e55a9",
   "metadata": {},
   "outputs": [
    {
     "name": "stdout",
     "output_type": "stream",
     "text": [
      "Please enter the new Email:\n",
      "Email: (sheldon@caltech.edu) - gribberish.com\n",
      "\n",
      "\u001b[91mValidationError:\u001b[0m\n",
      "    Invalid email. Make sure your email is in an name@abc.com format\n",
      "\n"
     ]
    }
   ],
   "source": [
    "# Case IV\n",
    "# User updates the values but\n",
    "# Validation of values fail\n",
    "# Email: Validate if entered valid is a valid email address\n",
    "# Profile Link: Validate if the entered value is a valid link\n",
    "\n",
    "# e.g. Email is invalid\n",
    "#domain.userprofile.update(field_name=\"Email\")\n",
    "\n",
    "input(\"Please enter the new Email:\\nEmail: (sheldon@caltech.edu) - \")\n",
    "print(field_validation)"
   ]
  },
  {
   "cell_type": "code",
   "execution_count": 69,
   "id": "ac68aeb9",
   "metadata": {},
   "outputs": [
    {
     "name": "stdout",
     "output_type": "stream",
     "text": [
      "Please enter the new Email:\n",
      "Email: (sheldon@caltech.edu) - info@openmined.org\n",
      "\n",
      "\u001b[91mValidationError:\u001b[0m\n",
      "    Seems like an account with that email already exists on this domain. Please try a different email address.\n",
      "\n"
     ]
    }
   ],
   "source": [
    "# Case V\n",
    "# User tries to update Email but\n",
    "# another user with that Email already exists\n",
    "\n",
    "domain.userprofile.update(field_name=\"Email\")"
   ]
  },
  {
   "cell_type": "code",
   "execution_count": null,
   "id": "7ea78269",
   "metadata": {},
   "outputs": [],
   "source": [
    "# Case VI\n",
    "\n",
    "# password reset\n",
    "# password validation\n",
    "# password formatting"
   ]
  },
  {
   "cell_type": "markdown",
   "id": "2400b817",
   "metadata": {},
   "source": [
    "### User successfully logs into the domain as guest user"
   ]
  },
  {
   "cell_type": "code",
   "execution_count": 71,
   "id": "fa51313f",
   "metadata": {},
   "outputs": [
    {
     "name": "stdout",
     "output_type": "stream",
     "text": [
      "\n",
      "\u001b[91mAuthorizationError:\u001b[0m\n",
      "    You need to be logged in to perform this operation.\n",
      "\n"
     ]
    }
   ],
   "source": [
    "domain.userprofile"
   ]
  },
  {
   "cell_type": "code",
   "execution_count": null,
   "id": "03b962ae",
   "metadata": {},
   "outputs": [],
   "source": []
  },
  {
   "cell_type": "markdown",
   "id": "bd37bc16",
   "metadata": {},
   "source": [
    "#### Dummy Data"
   ]
  },
  {
   "cell_type": "code",
   "execution_count": 1,
   "id": "826ba51b",
   "metadata": {},
   "outputs": [],
   "source": [
    "import pandas as pd\n",
    "from enum import Enum\n",
    "import uuid\n",
    "from getpass import getpass\n",
    "\n",
    "\n",
    "class bcolors(Enum):\n",
    "    HEADER = \"\\033[95m\"\n",
    "    OKBLUE = \"\\033[94m\"\n",
    "    OKCYAN = \"\\033[96m\"\n",
    "    OKGREEN = \"\\033[92m\"\n",
    "    WARNING = \"\\033[93m\"\n",
    "    FAIL = \"\\033[91m\"\n",
    "    ENDC = \"\\033[0m\"\n",
    "    BOLD = \"\\033[1m\"\n",
    "    UNDERLINE = \"\\033[4m\""
   ]
  },
  {
   "cell_type": "code",
   "execution_count": 22,
   "id": "b36430b7",
   "metadata": {},
   "outputs": [
    {
     "name": "stdout",
     "output_type": "stream",
     "text": [
      "\n",
      "\u001b[1mProfile Details: \u001b[0m\n",
      "\u001b[1mName:\u001b[0m Sheldon Cooper\n",
      "\u001b[1mEmail:\u001b[0m sheldon@caltech.edu\n",
      "\u001b[1mInstitution:\u001b[0m California Institute of Technology\n",
      "\u001b[1mProfile Link:\u001b[0m http://linkedin.com/sheldon\n",
      "\n",
      "To update your profile information, you can call:\n",
      "\n",
      "    `<domain_client>.userprofile.update()`\n",
      "\n"
     ]
    }
   ],
   "source": [
    "profile_details = f\"\"\"\n",
    "{bcolors.BOLD.value}Profile Details: {bcolors.ENDC.value}\n",
    "{bcolors.BOLD.value}Name:{bcolors.ENDC.value} Sheldon Cooper\n",
    "{bcolors.BOLD.value}Email:{bcolors.ENDC.value} sheldon@caltech.edu\n",
    "{bcolors.BOLD.value}Institution:{bcolors.ENDC.value} California Institute of Technology\n",
    "{bcolors.BOLD.value}Profile Link:{bcolors.ENDC.value} http://linkedin.com/sheldon\n",
    "\n",
    "To update your profile information, you can call:\n",
    "\n",
    "    `<domain_client>.userprofile.update()`\n",
    "\"\"\"\n",
    "print(profile_details)"
   ]
  },
  {
   "cell_type": "code",
   "execution_count": 54,
   "id": "d714a020",
   "metadata": {},
   "outputs": [
    {
     "name": "stdout",
     "output_type": "stream",
     "text": [
      "Name: (Sheldon Cooper) - \n",
      "Institution: (California Institute of Technology) - \n",
      "Email: (sheldon@caltech.edu) - \n",
      "Profile Link: - (https://www.linkedin.com/sheldon)\n"
     ]
    }
   ],
   "source": [
    "updated_profile_details = f\"\"\"\n",
    "{bcolors.BOLD.value}Updated Details: {bcolors.ENDC.value}\n",
    "{bcolors.BOLD.value}Name:{bcolors.ENDC.value} Bruce Wayne\n",
    "{bcolors.BOLD.value}Email:{bcolors.ENDC.value} darkknight@dc.com\n",
    "{bcolors.BOLD.value}Institution:{bcolors.ENDC.value} Wayne Industries\n",
    "{bcolors.BOLD.value}Profile Link:{bcolors.ENDC.value} https://iambatman.com\n",
    "\"\"\"\n",
    "\n",
    "help_text = f\"\"\"Welcome to Profile Update Widget:\n",
    "\n",
    "Note: \n",
    "- The current value of the field is shown inside round brackets (...).\n",
    "- Please enter `s` to skip any field.\n",
    "- Please enter `q` quit the widget. If you quit changes won't be saved.\n",
    "\n",
    "Please enter the new details:\n",
    "\n",
    "\"\"\"\n",
    "inputs= f\"\"\"\n",
    "{input(\"Name: (Sheldon Cooper) - \")}\n",
    "{input(\"Institution: (California Institute of Technology) - \")}\n",
    "{input(\"Email: (sheldon@caltech.edu) - \")}\n",
    "{input(\"Profile Link: - (https://www.linkedin.com/sheldon)\")}\n",
    "\"\"\""
   ]
  },
  {
   "cell_type": "code",
   "execution_count": 50,
   "id": "cd8f970d",
   "metadata": {},
   "outputs": [
    {
     "name": "stdout",
     "output_type": "stream",
     "text": [
      "Welcome to Profile Update Widget:\n",
      "\n",
      "Note: \n",
      "- The current value of the field is shown inside round brackets (...).\n",
      "- Please enter `s` to skip any field.\n",
      "- Please enter `q` quit the widget. If you quit changes won't be saved.\n",
      "\n",
      "\n",
      "Name: (Sheldon Cooper) - \n",
      "Institution: (California Institute of Technology) - \n",
      "Email: (sheldon@caltech.edu) - \n",
      "Profile Link: - (https://www.linkedin.com/sheldon)\n",
      "\n",
      "\u001b[1mProfile Details: \u001b[0m\n",
      "\u001b[1mName:\u001b[0m Bruce Wayne\n",
      "\u001b[1mEmail:\u001b[0m darkknight@dc.com\n",
      "\u001b[1mInstitution:\u001b[0m Wayne Industries\n",
      "\u001b[1mProfile Link:\u001b[0m https://iambatman.com\n"
     ]
    },
    {
     "data": {
      "text/plain": [
       "168"
      ]
     },
     "execution_count": 50,
     "metadata": {},
     "output_type": "execute_result"
    }
   ],
   "source": [
    "sys.stdout.write(help_text)\n",
    "inputs= f\"\"\"\n",
    "{input(\"Name: (Sheldon Cooper) - \")}\n",
    "{input(\"Institution: (California Institute of Technology) - \")}\n",
    "{input(\"Email: (sheldon@caltech.edu) - \")}\n",
    "{input(\"Profile Link: - (https://www.linkedin.com/sheldon)\")}\n",
    "\"\"\"\n",
    "sys.stdout.write(updated_profile_details)"
   ]
  },
  {
   "cell_type": "code",
   "execution_count": 67,
   "id": "183911f2",
   "metadata": {},
   "outputs": [],
   "source": [
    "field_validation = f\"\"\"\n",
    "{bcolors.FAIL.value}ValidationError:{bcolors.ENDC.value}\n",
    "    Invalid email. Make sure your email is in an name@abc.com format\n",
    "\"\"\""
   ]
  },
  {
   "cell_type": "code",
   "execution_count": 68,
   "id": "356509f0",
   "metadata": {},
   "outputs": [],
   "source": [
    "email_invalid = f\"\"\"\n",
    "{bcolors.FAIL.value}ValidationError:{bcolors.ENDC.value}\n",
    "    Seems like an account with that email already exists on this domain. Please try a different email address.\n",
    "\"\"\""
   ]
  },
  {
   "cell_type": "code",
   "execution_count": 70,
   "id": "c4e74b61",
   "metadata": {},
   "outputs": [],
   "source": [
    "authorization_error = f\"\"\"\n",
    "{bcolors.FAIL.value}AuthorizationError:{bcolors.ENDC.value}\n",
    "    You need to be logged in to perform this operation.\n",
    "\"\"\""
   ]
  },
  {
   "cell_type": "code",
   "execution_count": null,
   "id": "26c827a2",
   "metadata": {},
   "outputs": [],
   "source": []
  }
 ],
 "metadata": {
  "kernelspec": {
   "display_name": "Python 3 (ipykernel)",
   "language": "python",
   "name": "python3"
  },
  "language_info": {
   "codemirror_mode": {
    "name": "ipython",
    "version": 3
   },
   "file_extension": ".py",
   "mimetype": "text/x-python",
   "name": "python",
   "nbconvert_exporter": "python",
   "pygments_lexer": "ipython3",
   "version": "3.9.7"
  }
 },
 "nbformat": 4,
 "nbformat_minor": 5
}
