{
 "cells": [
  {
   "cell_type": "markdown",
   "id": "26eaa82b",
   "metadata": {},
   "source": [
    "### Registering onto a domain"
   ]
  },
  {
   "cell_type": "code",
   "execution_count": 20,
   "id": "e267123c",
   "metadata": {},
   "outputs": [],
   "source": [
    "import syft as sy"
   ]
  },
  {
   "cell_type": "code",
   "execution_count": 6,
   "id": "4f989000",
   "metadata": {},
   "outputs": [
    {
     "name": "stdout",
     "output_type": "stream",
     "text": [
      "Congratulations !!! \u001b[1mShledon Cooper\u001b[0m is successfully registered. Logging in....Success.\n"
     ]
    }
   ],
   "source": [
    "# Case I\n",
    "# If url to the domain is available to the end user\n",
    "# All details provided by the user are correct\n",
    "# If verbose=True\n",
    "\n",
    "domain_client = sy.register(\n",
    "    name=\"Shledon Cooper\",\n",
    "    email=\"sheldon@caltech.edu\",\n",
    "    password=\"bazinga\",\n",
    "    url=\"https://ca.openmined.org\",\n",
    "    port=8081,\n",
    "    verbose=True\n",
    ")"
   ]
  },
  {
   "cell_type": "code",
   "execution_count": 14,
   "id": "9f8ae548",
   "metadata": {},
   "outputs": [
    {
     "name": "stdout",
     "output_type": "stream",
     "text": [
      "\u001b[91mResourceNotFound:\u001b[0m The domain url is invalid or does not exist.\n"
     ]
    }
   ],
   "source": [
    "# Case II\n",
    "# If url to the domain is available to the end user\n",
    "# If domain url is incorrect\n",
    "# If verbose=True\n",
    "\n",
    "domain_client = sy.register(\n",
    "    name=\"Shledon Cooper\",\n",
    "    email=\"sheldon@caltech.edu\",\n",
    "    password=\"bazinga\",\n",
    "    url=\"https://gibberishdomainurl.com\",\n",
    "    port=80,\n",
    "    verbose=True\n",
    ")"
   ]
  },
  {
   "cell_type": "code",
   "execution_count": 14,
   "id": "1f3a2bcf",
   "metadata": {},
   "outputs": [
    {
     "name": "stdout",
     "output_type": "stream",
     "text": [
      "Please enter your full name (ex: 'Jane Doe'): Sheldon Cooper\n",
      "Please enter your email (ex: 'janedoe@openmined.com'): sheldon@openmined.org\n",
      "Please enter your password (ex: password): ········\n",
      "Please enter URL of domain (ex: 'http://localhost'): https://ca.openmined.org\n",
      "Please enter the port your domain is running on (ex: '8081'): 8081\n",
      "\n",
      "Congratulations !!! \u001b[1mShledon Cooper\u001b[0m is successfully registered. Logging in....Success.\n"
     ]
    }
   ],
   "source": [
    "# Case III\n",
    "# If required parameters are missing from function argument or \n",
    "# `sy.register` is called with any arguments\n",
    "# If domain url is incorrect\n",
    "# If verbose=True\n",
    "\n",
    "domain_client = sy.register()"
   ]
  },
  {
   "cell_type": "code",
   "execution_count": 19,
   "id": "b7de2ceb",
   "metadata": {},
   "outputs": [
    {
     "name": "stdout",
     "output_type": "stream",
     "text": [
      "\u001b[91mResourceExists:\u001b[0m User Already exists for given email address.\n"
     ]
    }
   ],
   "source": [
    "# Case IV\n",
    "# User already exists with given email on the domain\n",
    "# If verbose=True\n",
    "\n",
    "domain_client = sy.register(\n",
    "    name=\"Shledon Cooper\",\n",
    "    email=\"sheldon@caltech.edu\",\n",
    "    password=\"bazinga\",\n",
    "    url=\"https://gibberishdomainurl.com\",\n",
    "    port=80,\n",
    "    verbose=True\n",
    ")"
   ]
  },
  {
   "cell_type": "markdown",
   "id": "8afda35f",
   "metadata": {},
   "source": [
    "### Dummy Data"
   ]
  },
  {
   "cell_type": "code",
   "execution_count": 2,
   "id": "06d51688",
   "metadata": {},
   "outputs": [],
   "source": [
    "import pandas as pd\n",
    "from enum import Enum\n",
    "import uuid\n",
    "from getpass import getpass\n",
    "\n",
    "\n",
    "class bcolors(Enum):\n",
    "    HEADER = \"\\033[95m\"\n",
    "    OKBLUE = \"\\033[94m\"\n",
    "    OKCYAN = \"\\033[96m\"\n",
    "    OKGREEN = \"\\033[92m\"\n",
    "    WARNING = \"\\033[93m\"\n",
    "    FAIL = \"\\033[91m\"\n",
    "    ENDC = \"\\033[0m\"\n",
    "    BOLD = \"\\033[1m\"\n",
    "    UNDERLINE = \"\\033[4m\""
   ]
  },
  {
   "cell_type": "code",
   "execution_count": 3,
   "id": "1223848b",
   "metadata": {},
   "outputs": [
    {
     "name": "stdout",
     "output_type": "stream",
     "text": [
      "\u001b[91mResourceNotFound:\u001b[0m The domain url is invalid or does not exist.\n"
     ]
    }
   ],
   "source": [
    "# Successful signup message\n",
    "success_signup = f\"Congratulations !!! {bcolors.BOLD.value}Shledon Cooper{bcolors.ENDC.value} is successfully registered. Logging in....Success.\"\n",
    "\n",
    "\n",
    "# Invalid domain url\n",
    "invalid_domain_url = f\"{bcolors.FAIL.value}ResourceNotFound:{bcolors.ENDC.value} The domain url is invalid or does not exist.\"\n",
    "print(invalid_domain_url)"
   ]
  },
  {
   "cell_type": "code",
   "execution_count": null,
   "id": "3301915b",
   "metadata": {},
   "outputs": [],
   "source": [
    "# If arguments are not passed to the register method\n",
    "name = input(\"Please enter your full name (ex: 'Jane Doe'):\")\n",
    "email = input(\"Please enter your email (ex: 'janedoe@openmined.com'):\")\n",
    "password = getpass(\"Please enter your password (ex: password)\")\n",
    "url = input(\"Please enter URL of domain (ex: 'http://localhost'):\")\n",
    "port = int(input(\"Please enter the port your domain is running on: (ex: '8081')\"))\n",
    "print(succ)"
   ]
  },
  {
   "cell_type": "code",
   "execution_count": 18,
   "id": "78596f8f",
   "metadata": {},
   "outputs": [],
   "source": [
    "user_exists = f\"{bcolors.FAIL.value}ResourceExists:{bcolors.ENDC.value} User Already exists for given email address.\""
   ]
  }
 ],
 "metadata": {
  "kernelspec": {
   "display_name": "Python 3 (ipykernel)",
   "language": "python",
   "name": "python3"
  },
  "language_info": {
   "codemirror_mode": {
    "name": "ipython",
    "version": 3
   },
   "file_extension": ".py",
   "mimetype": "text/x-python",
   "name": "python",
   "nbconvert_exporter": "python",
   "pygments_lexer": "ipython3",
   "version": "3.9.7"
  }
 },
 "nbformat": 4,
 "nbformat_minor": 5
}
