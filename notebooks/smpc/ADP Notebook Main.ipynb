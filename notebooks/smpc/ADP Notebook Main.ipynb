{
 "cells": [
  {
   "cell_type": "code",
   "execution_count": 1,
   "id": "67c2d127-c955-4313-b7d2-c584f037f85b",
   "metadata": {},
   "outputs": [],
   "source": [
    "%load_ext autoreload\n",
    "%autoreload 2\n",
    "import syft as sy\n",
    "sy.logger.remove()\n",
    "import numpy as np\n",
    "import pandas as pd\n",
    "from syft.core.adp.entity import Entity\n",
    "from syft.core.tensor.autodp.single_entity_phi import SingleEntityPhiTensor as SEPT\n",
    "from syft.core.tensor.smpc.mpc_tensor import MPCTensor\n",
    "import time\n",
    "import uuid\n",
    "from typing import Any\n",
    "from typing import Dict\n",
    "data = sy.Tensor(np.array([1,2,3]))\n",
    "import operator"
   ]
  },
  {
   "cell_type": "code",
   "execution_count": 2,
   "id": "aa74bb27-e8aa-404b-a32f-cdff0c36390b",
   "metadata": {},
   "outputs": [
    {
     "name": "stdout",
     "output_type": "stream",
     "text": [
      "WARNING: CHANGE YOUR USERNAME AND PASSWORD!!! \n",
      "\n",
      "Anyone can login as an admin to your node right now because your password is still the default PySyft username and password!!!\n",
      "\n",
      "Connecting to None... done! \t Logging into canada... done!\n",
      "WARNING: CHANGE YOUR USERNAME AND PASSWORD!!! \n",
      "\n",
      "Anyone can login as an admin to your node right now because your password is still the default PySyft username and password!!!\n",
      "\n",
      "Connecting to None... done! \t Logging into italy... done!\n"
     ]
    }
   ],
   "source": [
    "DOMAIN1_PORT = 8081\n",
    "DOMAIN2_PORT = 8082\n",
    "p1 =  sy.login(email=\"info@openmined.org\",password=\"changethis\",port=DOMAIN1_PORT)\n",
    "p2 = sy.login(email=\"info@openmined.org\",password=\"changethis\",port=DOMAIN2_PORT)"
   ]
  },
  {
   "cell_type": "code",
   "execution_count": 3,
   "id": "61aef60e-249b-435d-bd42-83af7f13d780",
   "metadata": {},
   "outputs": [
    {
     "name": "stdout",
     "output_type": "stream",
     "text": [
      "WARNING: CHANGE YOUR USERNAME AND PASSWORD!!! \n",
      "\n",
      "Anyone can login as an admin to your node right now because your password is still the default PySyft username and password!!!\n",
      "\n",
      "Connecting to None... done! \t Logging into canada... done!\n"
     ]
    },
    {
     "name": "stderr",
     "output_type": "stream",
     "text": [
      "/tmp/ipykernel_335659/2949456313.py:3: DtypeWarning: Columns (14) have mixed types. Specify dtype option on import or set low_memory=False.\n",
      "  return pd.read_csv(f\"{ROOT_DIR}/notebooks/trade_demo/datasets/{csv_file}\")[0:10]\n"
     ]
    },
    {
     "name": "stdout",
     "output_type": "stream",
     "text": [
      "Loading dataset... uploading... SUCCESS!                        \n",
      "\n",
      "Run <your client variable>.datasets to see your new dataset loaded into your machine!\n",
      "WARNING: CHANGE YOUR USERNAME AND PASSWORD!!! \n",
      "\n",
      "Anyone can login as an admin to your node right now because your password is still the default PySyft username and password!!!\n",
      "\n",
      "Connecting to None... done! \t Logging into italy... done!\n",
      "Loading dataset... uploading... SUCCESS!                        \n",
      "\n",
      "Run <your client variable>.datasets to see your new dataset loaded into your machine!\n"
     ]
    },
    {
     "name": "stderr",
     "output_type": "stream",
     "text": [
      "/tmp/ipykernel_335659/2949456313.py:3: DtypeWarning: Columns (14) have mixed types. Specify dtype option on import or set low_memory=False.\n",
      "  return pd.read_csv(f\"{ROOT_DIR}/notebooks/trade_demo/datasets/{csv_file}\")[0:10]\n"
     ]
    }
   ],
   "source": [
    "ROOT_DIR = \"/home/azureuser/PySyft\"\n",
    "def load_data(csv_file: str) -> pd.DataFrame:\n",
    "    return pd.read_csv(f\"{ROOT_DIR}/notebooks/trade_demo/datasets/{csv_file}\")[0:10]\n",
    "\n",
    "def get_user_details(unique_email: str) -> Dict[str, Any]:\n",
    "    return {\n",
    "        \"name\": \"Sheldon Cooper\",\n",
    "        \"email\": unique_email,\n",
    "        \"password\": \"bazinga\",\n",
    "        \"budget\": 10,\n",
    "    }\n",
    "\n",
    "unique_email = f\"{uuid.uuid4()}@caltech.edu\"\n",
    "\n",
    "# Canada\n",
    "ca_root = sy.login(email=\"info@openmined.org\", password=\"changethis\", port=DOMAIN1_PORT)\n",
    "ca_data = load_data(csv_file=\"ca - feb 2021.csv\")\n",
    "\n",
    "# NOTE: casting this tensor as np.int32 is REALLY IMPORTANT\n",
    "# canada_trade = (\n",
    "#     (np.array(list(ca_data[\"Trade Value (US$)\"])) / 1000)[0:10]\n",
    "# ).astype(np.int64)\n",
    "canada_trade = np.array([[1,2],[3,4]])\n",
    "trade_partners = ((list(ca_data[\"Partner\"])))[0:10]\n",
    "\n",
    "entities = list()\n",
    "for i in range(len(trade_partners)):\n",
    "    entities.append(Entity(name=trade_partners[i]))\n",
    "\n",
    "sampled_canada_dataset = sy.Tensor(canada_trade)\n",
    "sampled_canada_dataset.public_shape = sampled_canada_dataset.shape\n",
    "sampled_canada_dataset = sampled_canada_dataset.private(\n",
    "    0, 3, entities=entities[0]\n",
    ").tag(\"trade_flow\")\n",
    "\n",
    "# load dataset\n",
    "ca_root.load_dataset(\n",
    "    assets={\"Canada Trade\": sampled_canada_dataset},\n",
    "    name=\"Canada Trade Data - First few rows\",\n",
    "    description=(\n",
    "        \"A collection of reports from Canada's statistics bureau about how \"\n",
    "        + \"much it thinks it imports and exports from other countries.\"\n",
    "    ),\n",
    "    skip_checks=True,\n",
    ")\n",
    "\n",
    "assert len(ca_root.datasets) > 0\n",
    "\n",
    "\n",
    "\n",
    "# Italy\n",
    "it_root = sy.login(email=\"info@openmined.org\", password=\"changethis\", port=DOMAIN2_PORT)\n",
    "it_data = load_data(csv_file=\"it - feb 2021.csv\")\n",
    "# NOTE: casting this tensor as np.int32 is REALLY IMPORTANT\n",
    "# italy_trade = ((np.array(list(it_data[\"Trade Value (US$)\"])) / 1000)[0:10]).astype(\n",
    "#     np.int64\n",
    "# )\n",
    "italy_trade = np.array([[1,2],[3,4]])\n",
    "trade_partners = ((list(it_data[\"Partner\"])))[0:10]\n",
    "\n",
    "entities = list()\n",
    "for i in range(len(trade_partners)):\n",
    "    entities.append(Entity(name=\"Other Asia, nes\"))\n",
    "\n",
    "# Upload a private dataset to the Domain object, as the root owner\n",
    "sampled_italy_dataset = sy.Tensor(italy_trade)\n",
    "sampled_italy_dataset.public_shape = sampled_italy_dataset.shape\n",
    "sampled_italy_dataset = sampled_italy_dataset.private(\n",
    "    0, 3, entities=entities[0]\n",
    ").tag(\"trade_flow\")\n",
    "\n",
    "it_root.load_dataset(\n",
    "    assets={\"Italy Trade\": sampled_italy_dataset},\n",
    "    name=\"Italy Trade Data - First few rows\",\n",
    "    description=(\n",
    "        \"A collection of reports from iStat's statistics bureau about how \"\n",
    "        + \"much it thinks it imports and exports from other countries.\"\n",
    "    ),\n",
    "    skip_checks=True,\n",
    ")\n",
    "\n"
   ]
  },
  {
   "cell_type": "code",
   "execution_count": 4,
   "id": "61a48e46-80d3-460d-b6de-5ccc46daf72b",
   "metadata": {
    "tags": []
   },
   "outputs": [],
   "source": [
    "x = p1.datasets[-1][\"Canada Trade\"]\n",
    "y = p2.datasets[-1][\"Italy Trade\"]"
   ]
  },
  {
   "cell_type": "code",
   "execution_count": 5,
   "metadata": {},
   "outputs": [
    {
     "name": "stdout",
     "output_type": "stream",
     "text": [
      "shape x (2, 2)\n",
      "result shape (2, 2)\n"
     ]
    }
   ],
   "source": [
    "op = getattr(operator,\"matmul\")\n",
    "res = op(x,y)"
   ]
  },
  {
   "cell_type": "code",
   "execution_count": 12,
   "metadata": {},
   "outputs": [],
   "source": [
    "val = res.get_copy()"
   ]
  },
  {
   "cell_type": "code",
   "execution_count": 13,
   "metadata": {},
   "outputs": [
    {
     "name": "stdout",
     "output_type": "stream",
     "text": [
      "(2, 2)\n",
      "[[ 6.99998474  9.99998474]\n",
      " [14.99998474 21.99998474]]\n"
     ]
    }
   ],
   "source": [
    "print(val.shape)\n",
    "print(val)"
   ]
  },
  {
   "cell_type": "code",
   "execution_count": 11,
   "metadata": {},
   "outputs": [
    {
     "name": "stdout",
     "output_type": "stream",
     "text": [
      "[[ 6.99998474 14.99998474]\n",
      " [ 9.99998474 21.99998474]]\n"
     ]
    }
   ],
   "source": [
    "test = res.T\n",
    "print(test.get_copy())"
   ]
  },
  {
   "cell_type": "code",
   "execution_count": null,
   "metadata": {},
   "outputs": [],
   "source": [
    "(sampled_italy_dataset@sampled_italy_dataset).decode()"
   ]
  },
  {
   "cell_type": "code",
   "execution_count": null,
   "metadata": {},
   "outputs": [],
   "source": [
    "res.get_copy().round()"
   ]
  },
  {
   "cell_type": "code",
   "execution_count": null,
   "metadata": {},
   "outputs": [],
   "source": [
    "res.get_copy() == op(sampled_canada_dataset.decode(),sampled_italy_dataset.decode())"
   ]
  },
  {
   "cell_type": "code",
   "execution_count": null,
   "metadata": {},
   "outputs": [],
   "source": [
    "# DEBUG CELL\n",
    "# print((sampled_canada_dataset).decode())\n",
    "# print((sampled_italy_dataset).decode())\n",
    "# print(op(sampled_canada_dataset.decode(),sampled_italy_dataset.decode()).round())\n",
    "# print(res.get_copy().round())"
   ]
  },
  {
   "cell_type": "code",
   "execution_count": null,
   "id": "93a79b31-f9fa-4f33-8718-ce29ed6ca44d",
   "metadata": {},
   "outputs": [],
   "source": [
    "public_result = res.publish(sigma=10000)"
   ]
  },
  {
   "cell_type": "code",
   "execution_count": null,
   "id": "f3755dd6-13d3-4df9-96f6-8e291b24cf7c",
   "metadata": {},
   "outputs": [],
   "source": [
    "public_result.get_copy()"
   ]
  },
  {
   "cell_type": "code",
   "execution_count": null,
   "id": "983f5748-be7a-4270-80ea-dae37565fe22",
   "metadata": {},
   "outputs": [],
   "source": [
    "a=np.array([ -789925275 ,  798267317, -1708906764,  1806674886,  1165022425,   480477472,\n",
    "    54663083  ,  78462192,  -974424744, -1538872148],dtype=np.int32)\n",
    "b=np.array([  789925275,  -798266317 , 1708920764, -1806674886, -1165022425,  -480477472,\n",
    "   -54663083  , -78459192  , 974424744 , 1538872148],dtype=np.int32)"
   ]
  },
  {
   "cell_type": "code",
   "execution_count": null,
   "id": "1ade5fe6-e98e-462b-9364-219d55ce6444",
   "metadata": {},
   "outputs": [],
   "source": [
    "(a+b)/1000"
   ]
  },
  {
   "cell_type": "code",
   "execution_count": null,
   "metadata": {},
   "outputs": [],
   "source": [
    "sampled_canada_dataset.decode()"
   ]
  },
  {
   "cell_type": "code",
   "execution_count": null,
   "metadata": {},
   "outputs": [],
   "source": [
    "a=np.array([-1362805391  ,1471796679 , 2126726498   ,874113086 , -532526475, -1815214451,\n",
    "  1602118491,  1561978677 , -970006488 ,  792178136],dtype=np.int32)\n",
    "\n",
    "b=np.array([ 1362805391, -1470796679 ,-2084726498  ,-874113086  , 532526475  ,1815214451,\n",
    " -1602118491 ,-1558978677 ,  970006488  ,-792178136],dtype=np.int32)\n"
   ]
  },
  {
   "cell_type": "code",
   "execution_count": null,
   "metadata": {},
   "outputs": [],
   "source": [
    "a= np.array([ 1300758168, -1917863768, -1667359440,  2060242384 ,  -49469704 ,-1556715208,\n",
    "   -95689592 ,   94451448 , -656120896, -1904153536],dtype=np.int32)\n",
    "\n",
    "b=np.array( [-1300758168 ,-1377103528  , 717686480, -2060242384,    49469704,  1556715208,\n",
    "    95689592, -1389418744 ,  656120896  ,1904153536],dtype=np.int32)"
   ]
  },
  {
   "cell_type": "code",
   "execution_count": null,
   "metadata": {},
   "outputs": [],
   "source": [
    "res.child[0].get_copy()+res.child[1].get_copy()"
   ]
  }
 ],
 "metadata": {
  "interpreter": {
   "hash": "630449982b6186a6531308cd76ed4d510e9db65154e43844c2906c6a20ad2a6d"
  },
  "kernelspec": {
   "display_name": "Python 3.9.4 64-bit ('python39-2vM0bQN-': pipenv)",
   "name": "python3"
  },
  "language_info": {
   "codemirror_mode": {
    "name": "ipython",
    "version": 3
   },
   "file_extension": ".py",
   "mimetype": "text/x-python",
   "name": "python",
   "nbconvert_exporter": "python",
   "pygments_lexer": "ipython3",
   "version": "3.9.4"
  }
 },
 "nbformat": 4,
 "nbformat_minor": 5
}
