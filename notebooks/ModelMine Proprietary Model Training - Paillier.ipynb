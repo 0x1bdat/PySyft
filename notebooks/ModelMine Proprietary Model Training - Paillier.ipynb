{
 "cells": [
  {
   "cell_type": "code",
   "execution_count": 1,
   "metadata": {
    "collapsed": true
   },
   "outputs": [],
   "source": [
    "import textwrap,json,zlib,copy,pickle,math,codecs\n",
    "import multihash,ipfsapi\n",
    "from solc import compile_source, compile_files, link_code\n",
    "from web3 import Web3, KeepAliveRPCProvider\n",
    "from os.path import isfile, join\n",
    "from os import listdir\n",
    "import numpy as np\n",
    "import phe as paillier"
   ]
  },
  {
   "cell_type": "code",
   "execution_count": 2,
   "metadata": {
    "collapsed": true
   },
   "outputs": [],
   "source": [
    "class Vector():\n",
    "    \n",
    "    def __init__(self,value):\n",
    "        super(type(self))\n",
    "        self.value = np.array(value)\n",
    "        \n",
    "    def encrypt(self,pubkey):\n",
    "        self.pubkey = pubkey\n",
    "        self.value = np.array([self.pubkey.encrypt(x) for x in self.value])\n",
    "        return self\n",
    "    \n",
    "    def decrypt(self,prikey):\n",
    "        self.pubkey = None\n",
    "        self.value = np.array([prikey.decrypt(x) for x in self.value])\n",
    "        return self\n",
    "        \n",
    "    def __add__(self,x):\n",
    "        v = copy.deepcopy(self)\n",
    "        v.value += x.value\n",
    "        return v\n",
    "    \n",
    "    def __sub__(self,x):\n",
    "        v = copy.deepcopy(self)\n",
    "        v.value -= x.value\n",
    "        return v\n",
    "    \n",
    "    def __mul__(self,scalar):\n",
    "        v = copy.deepcopy(self)\n",
    "        v.value *= scalar\n",
    "        return v\n",
    "    \n",
    "    def __div__(self,scalar):\n",
    "        v = copy.deepcopy(self)\n",
    "        v.value /= scalar\n",
    "        return v\n",
    "    \n",
    "    def __getitem__(self,i):\n",
    "        return self.value[i]\n",
    "    \n",
    "    def __str__(self):\n",
    "        return str(self.value)\n",
    "    \n",
    "    def __repr__(self):\n",
    "        return repr(self.value)\n",
    "    \n",
    "class LinearClassifier():\n",
    "    \n",
    "    def __init__(self,n_inputs=4,n_labels=2,desc=\"\"):\n",
    "        super(type(LinearClassifier))\n",
    "        \n",
    "        self.desc = desc\n",
    "        \n",
    "        self.n_inputs = n_inputs\n",
    "        self.n_labels = n_labels\n",
    "        \n",
    "        self.weights = list()\n",
    "        for i in range(n_inputs):\n",
    "            self.weights.append(Vector(np.zeros(n_labels).astype('float64')))\n",
    "        \n",
    "        self.pubkey = None\n",
    "    \n",
    "    def encrypt(self,pubkey):\n",
    "        self.pubkey = pubkey\n",
    "        for w in self.weights:\n",
    "            w.encrypt(pubkey)\n",
    "        return self\n",
    "            \n",
    "    def decrypt(self,prikey):\n",
    "        for w in self.weights:\n",
    "            w.decrypt(prikey)\n",
    "        self.pubkey = None            \n",
    "        return self\n",
    "    \n",
    "    def forward(self,input=np.array([0,1,1,0])):\n",
    "        \n",
    "        pred = self.weights[0] * input[0]\n",
    "        for j,each_inp in enumerate(input[1:]):\n",
    "            if(each_inp == 1):\n",
    "                pred = pred + self.weights[j+1]\n",
    "            elif(each_inp != 0):\n",
    "                pred = pred + (self.weights[j+1] * input[j+1])\n",
    "                \n",
    "        return pred\n",
    "   \n",
    "    def learn(self,input=np.array([0,1,1,0]),target=np.array([0,1]),alpha=0.5):\n",
    "        target = np.array(target).astype('float64')\n",
    "        pred = self.forward(input)\n",
    "\n",
    "        target_v = Vector(target)\n",
    "        \n",
    "        if(self.pubkey is not None):\n",
    "            target_v = target_v.encrypt(self.pubkey)\n",
    "        \n",
    "        grad = (pred - target_v) * alpha\n",
    "\n",
    "        for i in range(len(input)):\n",
    "            if(input[i] != 1 and input[i] != 0):\n",
    "                self.weights[i] = self.weights[i] - (grad * input[i])\n",
    "            elif(input[i] == 1):\n",
    "                self.weights[i] = self.weights[i] - grad\n",
    "            else:\n",
    "                \"doesn't matter... input == 0\"\n",
    "        \n",
    "        return grad\n",
    "    \n",
    "    def __str__(self):\n",
    "        return \"Linear Model (\"+str(self.n_inputs)+\",\"+str(self.n_labels)+\"): \" + str(self.desc)\n",
    "    \n",
    "    def __repr__(self):\n",
    "        return self.__str__()"
   ]
  },
  {
   "cell_type": "code",
   "execution_count": 3,
   "metadata": {
    "collapsed": true
   },
   "outputs": [],
   "source": [
    "class ModelMine():\n",
    "    \n",
    "    def __init__(self,account=None,deploy_txn=None,web3_port=8545,ipfs_port=5001):\n",
    "        \n",
    "        self.deploy_txn = deploy_txn\n",
    "        self.web3 = Web3(KeepAliveRPCProvider(host='localhost', port=str(web3_port)))\n",
    "        self.ipfs = ipfsapi.connect('127.0.0.1', int(ipfs_port))\n",
    "        \n",
    "        self.compile_and_deploy()\n",
    "        if(account is not None):\n",
    "            self.account = account\n",
    "        else:\n",
    "            print(\"No account submitted... using default[2]\")\n",
    "            self.account = self.web3.eth.accounts[2]\n",
    "            \n",
    "    def compile_and_deploy(self,directory='contracts/'):\n",
    "        \n",
    "        f = open('contracts/ModelMine.sol','r')\n",
    "        source = f.read()\n",
    "        f.close()\n",
    "        \n",
    "        compiled = compile_source(source)['<stdin>:ModelMine']\n",
    "\n",
    "        contract = self.web3.eth.contract(\n",
    "            abi = compiled['abi'],\n",
    "            bytecode = compiled['bin'],\n",
    "            bytecode_runtime = compiled['bin-runtime'],\n",
    "            source = source,\n",
    "            )\n",
    "        \n",
    "        if(self.deploy_txn is None):\n",
    "            self.deploy_txn = contract.deploy()\n",
    "        txn_receipt = self.web3.eth.getTransactionReceipt(self.deploy_txn)\n",
    "        contract_address = txn_receipt['contractAddress']\n",
    "\n",
    "        self.transact = contract.transact({\n",
    "            \"from\":self.web3.eth.accounts[2],\n",
    "            \"to\":contract_address,\n",
    "            })\n",
    "\n",
    "        self.call = contract.call({\n",
    "            \"from\":self.web3.eth.accounts[2],\n",
    "            \"to\":contract_address,\n",
    "            })\n",
    "        \n",
    "        return self.deploy_txn\n",
    "\n",
    "    \n",
    "    def submit_model(self,model):\n",
    "        ipfs_address = self.ipfs.add_pyobj(model)\n",
    "        deploy_trans = self.transact.addModel([ipfs_address[0:32],ipfs_address[32:]])\n",
    "        return self.call.getNumModels()-1\n",
    "    \n",
    "    def __getitem__(self,model_id):\n",
    "        if(model_id < len(self)):\n",
    "            mca = self.call.getModel(model_id)\n",
    "            model_client = self.ipfs.get_pyobj(str(mca[0]+mca[1]).split(\"\\x00\")[0])\n",
    "            return model_client\n",
    "    \n",
    "    def __len__(self):\n",
    "        return self.call.getNumModels()"
   ]
  },
  {
   "cell_type": "code",
   "execution_count": 4,
   "metadata": {},
   "outputs": [
    {
     "name": "stdout",
     "output_type": "stream",
     "text": [
      "No account submitted... using default[2]\n"
     ]
    }
   ],
   "source": [
    "mine = ModelMine()"
   ]
  },
  {
   "cell_type": "code",
   "execution_count": 3,
   "metadata": {},
   "outputs": [
    {
     "name": "stdout",
     "output_type": "stream",
     "text": [
      "Generating paillier keypair\n"
     ]
    }
   ],
   "source": [
    "print(\"Generating paillier keypair\")\n",
    "pubkey, prikey = paillier.generate_paillier_keypair(n_length=2048*2)\n",
    "\n",
    "# create model and upload to blockchain\n",
    "# model = LinearClassifier(desc=\"Binary classification model.\").encrypt(pubkey)\n",
    "# model_id = mine.submit_model(model)"
   ]
  },
  {
   "cell_type": "code",
   "execution_count": 5,
   "metadata": {
    "collapsed": true
   },
   "outputs": [],
   "source": [
    "ct = pubkey.encrypt(1234)"
   ]
  },
  {
   "cell_type": "code",
   "execution_count": 6,
   "metadata": {},
   "outputs": [
    {
     "data": {
      "text/plain": [
       "1234"
      ]
     },
     "execution_count": 6,
     "metadata": {},
     "output_type": "execute_result"
    }
   ],
   "source": [
    "prikey.decrypt(ct)"
   ]
  },
  {
   "cell_type": "code",
   "execution_count": 6,
   "metadata": {},
   "outputs": [
    {
     "data": {
      "text/plain": [
       "Linear Model (4,2): Binary classification model."
      ]
     },
     "execution_count": 6,
     "metadata": {},
     "output_type": "execute_result"
    }
   ],
   "source": [
    "model"
   ]
  },
  {
   "cell_type": "code",
   "execution_count": 7,
   "metadata": {},
   "outputs": [
    {
     "name": "stdout",
     "output_type": "stream",
     "text": [
      "0\n",
      "1\n",
      "2\n",
      "3\n",
      "4\n",
      "5\n",
      "6\n",
      "7\n",
      "8\n",
      "9\n"
     ]
    }
   ],
   "source": [
    "model_client = mine[model_id]\n",
    "\n",
    "for iter in range(10):\n",
    "    print(iter)\n",
    "    model_client.learn([0,0,0,1],np.array([0,1]).astype('float64'))\n",
    "#     model.decrypt(prikey).encrypt(pubkey)\n",
    "\n",
    "updated_id = mine.submit_model(model_client)"
   ]
  },
  {
   "cell_type": "code",
   "execution_count": 154,
   "metadata": {},
   "outputs": [
    {
     "data": {
      "text/plain": [
       "array([ 0.        ,  0.99902344])"
      ]
     },
     "execution_count": 154,
     "metadata": {},
     "output_type": "execute_result"
    }
   ],
   "source": [
    "# download newly trained model, decrypt it and predict\n",
    "model_server = mine[updated_id].decrypt(prikey)\n",
    "pred = model_server.forward(input=[0,0,0,1])\n",
    "pred"
   ]
  },
  {
   "cell_type": "code",
   "execution_count": null,
   "metadata": {
    "collapsed": true
   },
   "outputs": [],
   "source": [
    "len(mine)"
   ]
  },
  {
   "cell_type": "code",
   "execution_count": 125,
   "metadata": {
    "collapsed": true
   },
   "outputs": [],
   "source": [
    "mine2 = ModelMine(mine.deploy_txn)"
   ]
  },
  {
   "cell_type": "code",
   "execution_count": null,
   "metadata": {
    "collapsed": true
   },
   "outputs": [],
   "source": []
  }
 ],
 "metadata": {
  "kernelspec": {
   "display_name": "Python 3",
   "language": "python",
   "name": "python3"
  },
  "language_info": {
   "codemirror_mode": {
    "name": "ipython",
    "version": 3
   },
   "file_extension": ".py",
   "mimetype": "text/x-python",
   "name": "python",
   "nbconvert_exporter": "python",
   "pygments_lexer": "ipython3",
   "version": "3.6.1"
  }
 },
 "nbformat": 4,
 "nbformat_minor": 2
}
