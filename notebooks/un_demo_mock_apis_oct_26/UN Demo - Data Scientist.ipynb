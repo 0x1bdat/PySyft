{
 "cells": [
  {
   "cell_type": "code",
   "execution_count": 6,
   "id": "a0b8357f",
   "metadata": {},
   "outputs": [],
   "source": [
    "import syft as sy\n",
    "import pandas as pd"
   ]
  },
  {
   "cell_type": "code",
   "execution_count": 23,
   "id": "f72f5503",
   "metadata": {},
   "outputs": [
    {
     "data": {
      "text/html": [
       "<div>\n",
       "<style scoped>\n",
       "    .dataframe tbody tr th:only-of-type {\n",
       "        vertical-align: middle;\n",
       "    }\n",
       "\n",
       "    .dataframe tbody tr th {\n",
       "        vertical-align: top;\n",
       "    }\n",
       "\n",
       "    .dataframe thead th {\n",
       "        text-align: right;\n",
       "    }\n",
       "</style>\n",
       "<table border=\"1\" class=\"dataframe\">\n",
       "  <thead>\n",
       "    <tr style=\"text-align: right;\">\n",
       "      <th></th>\n",
       "      <th>Id</th>\n",
       "      <th>Name</th>\n",
       "      <th>Hosted Domains</th>\n",
       "      <th>Hosted Datasets</th>\n",
       "      <th>Description</th>\n",
       "      <th>Tags</th>\n",
       "      <th>Url</th>\n",
       "    </tr>\n",
       "  </thead>\n",
       "  <tbody>\n",
       "    <tr>\n",
       "      <th>0</th>\n",
       "      <td>5f83a0f07abf46dfbd32068e32802d95</td>\n",
       "      <td>United Nations</td>\n",
       "      <td>2</td>\n",
       "      <td>2</td>\n",
       "      <td>The UN hosts data related to the commodity and...</td>\n",
       "      <td>[Commodities, Census, Health]</td>\n",
       "      <td>https://un.openmined.org</td>\n",
       "    </tr>\n",
       "  </tbody>\n",
       "</table>\n",
       "</div>"
      ],
      "text/plain": [
       "                                 Id            Name  Hosted Domains  \\\n",
       "0  5f83a0f07abf46dfbd32068e32802d95  United Nations               2   \n",
       "\n",
       "   Hosted Datasets                                        Description  \\\n",
       "0                2  The UN hosts data related to the commodity and...   \n",
       "\n",
       "                            Tags                       Url  \n",
       "0  [Commodities, Census, Health]  https://un.openmined.org  "
      ]
     },
     "execution_count": 23,
     "metadata": {},
     "output_type": "execute_result"
    }
   ],
   "source": [
    "# List all the available networks\n",
    "\n",
    "sy.networks"
   ]
  },
  {
   "cell_type": "code",
   "execution_count": 24,
   "id": "dc183692",
   "metadata": {},
   "outputs": [
    {
     "data": {
      "text/html": [
       "<div>\n",
       "<style scoped>\n",
       "    .dataframe tbody tr th:only-of-type {\n",
       "        vertical-align: middle;\n",
       "    }\n",
       "\n",
       "    .dataframe tbody tr th {\n",
       "        vertical-align: top;\n",
       "    }\n",
       "\n",
       "    .dataframe thead th {\n",
       "        text-align: right;\n",
       "    }\n",
       "</style>\n",
       "<table border=\"1\" class=\"dataframe\">\n",
       "  <thead>\n",
       "    <tr style=\"text-align: right;\">\n",
       "      <th></th>\n",
       "      <th>Id</th>\n",
       "      <th>Name</th>\n",
       "      <th>Hosted Datasets</th>\n",
       "      <th>Description</th>\n",
       "      <th>Tags</th>\n",
       "    </tr>\n",
       "  </thead>\n",
       "  <tbody>\n",
       "    <tr>\n",
       "      <th>0</th>\n",
       "      <td>102fb6acf9e545c3b0bde7bf7875c9a8</td>\n",
       "      <td>Canada Domain</td>\n",
       "      <td>1</td>\n",
       "      <td>The domain hosted by the government of Canada</td>\n",
       "      <td>[Commodities, Trade]</td>\n",
       "    </tr>\n",
       "    <tr>\n",
       "      <th>1</th>\n",
       "      <td>4f308531aa544f16a7ae64dd886bce69</td>\n",
       "      <td>Italy Domain</td>\n",
       "      <td>1</td>\n",
       "      <td>The domain hosted by the government of Italy</td>\n",
       "      <td>[Commodities, Trade]</td>\n",
       "    </tr>\n",
       "  </tbody>\n",
       "</table>\n",
       "</div>"
      ],
      "text/plain": [
       "                                 Id           Name  Hosted Datasets  \\\n",
       "0  102fb6acf9e545c3b0bde7bf7875c9a8  Canada Domain                1   \n",
       "1  4f308531aa544f16a7ae64dd886bce69   Italy Domain                1   \n",
       "\n",
       "                                     Description                  Tags  \n",
       "0  The domain hosted by the government of Canada  [Commodities, Trade]  \n",
       "1   The domain hosted by the government of Italy  [Commodities, Trade]  "
      ]
     },
     "execution_count": 24,
     "metadata": {},
     "output_type": "execute_result"
    }
   ],
   "source": [
    "# Let's select a network and explore all the domains hosted by the network\n",
    "\n",
    "un_network = sy.network[\"United Nations\"]  # Select network via Name\n",
    "\n",
    "# Let's explore all the domains available in the network\n",
    "un_network.domains"
   ]
  },
  {
   "cell_type": "code",
   "execution_count": null,
   "id": "47d96b09",
   "metadata": {},
   "outputs": [],
   "source": [
    "# Similar to networks, we can select a domain via its index or Id or Name\n",
    "# Let's select the first domain i.e. the Canada domain\n",
    "\n",
    "ca_domain = un_network.domains[\"102fb6acf9e545c3b0bde7bf7875c9a8\"]  # Select via Id\n",
    "\n",
    "# Or\n",
    "\n",
    "ca_domain = un_network.domains[0]  # Select via index\n",
    "\n",
    "# Or \n",
    "\n",
    "ca_domain = un_network.domains[\"Canada Domain\"]  # Select via Name\n",
    "\n",
    "# Currently, we just have an object to the domain, so we cannot perform\n",
    "# any requests or access datasets until we log into the domain."
   ]
  },
  {
   "cell_type": "code",
   "execution_count": null,
   "id": "ce585087",
   "metadata": {},
   "outputs": [],
   "source": [
    "# Similarly, let's select the italy domain\n",
    "\n",
    "it_domain = un_network.domains[\"4f308531aa544f16a7ae64dd886bce69\"]  # Select via Id\n",
    "\n",
    "# Or\n",
    "\n",
    "it_domain = un_network.domains[1]  # Select via index\n",
    "\n",
    "# Or \n",
    "\n",
    "it_domain = un_network.domains[\"Italy Domain\"]  # Select via Name\n",
    "\n",
    "# Currently, we just have an object to the domain, so we cannot perform\n",
    "# any requests or access datasets until we log into the domain."
   ]
  },
  {
   "cell_type": "code",
   "execution_count": null,
   "id": "4acd0a47",
   "metadata": {},
   "outputs": [],
   "source": [
    "# Let's login into both the domains\n",
    "\n",
    "it_domain_client = it_domain.login(email=\"sheldon@caltech.edu\", password=\"bazinga\")\n",
    "ca_domain_client = ca_domain.login(email=\"sheldon@caltech.edu\", password=\"bazinga\")"
   ]
  },
  {
   "cell_type": "code",
   "execution_count": 30,
   "id": "ea8098fa",
   "metadata": {},
   "outputs": [
    {
     "data": {
      "text/html": [
       "<style>\n",
       "                #myInput {\n",
       "                  background-position: 10px 12px; /* Position the search icon */\n",
       "                  background-repeat: no-repeat; /* Do not repeat the icon image */\n",
       "                  background-color: #bbb;\n",
       "                  width: 98%; /* Full-width */\n",
       "                  font-size: 14px; /* Increase font-size */\n",
       "                  padding: 12px 20px 12px 40px; /* Add some padding */\n",
       "                  border: 1px solid #ddd; /* Add a grey border */\n",
       "                  margin-bottom: 12px; /* Add some space below the input */\n",
       "                }\n",
       "\n",
       "                #myTable {\n",
       "                  border-collapse: collapse; /* Collapse borders */\n",
       "                  width: 100%; /* Full-width */\n",
       "                  border: 1px solid #ddd; /* Add a grey border */\n",
       "                  font-size: 14px; /* Increase font-size */\n",
       "                }\n",
       "\n",
       "                #myTable th, #myTable td {\n",
       "                  text-align: left; /* Left-align text */\n",
       "                  padding: 10px; /* Add padding */\n",
       "                }\n",
       "\n",
       "                #myTable tr {\n",
       "                  /* Add a bottom border to all table rows */\n",
       "                  border-bottom: 1px solid #ddd;\n",
       "                }\n",
       "\n",
       "                #myTable tr.header, #myTable tr:hover {\n",
       "                  /* Add a grey background color to the table header and on hover */\n",
       "                  background-color: #777;\n",
       "                }\n",
       "                </style>\n",
       "\n",
       "                <input type=\"text\" id=\"myInput\" onkeyup=\"myFunction()\" placeholder=\"Search for datasets..\">\n",
       "\n",
       "                <table id=\"myTable\">\n",
       "                  <tr class=\"header\">\n",
       "                    <th style=\"width:30px\">Idx</th>\n",
       "                    <th style=\"width:20%;\">Name</th>\n",
       "                    <th style=\"width:35%;\">Description</th>\n",
       "                    <th style=\"width:20%;\">Assets</th>\n",
       "                    <th style=\"width:300px;\">Id</th>\n",
       "                  </tr>\n",
       "                \n",
       "\n",
       "          <tr>\n",
       "            <td>[0]</td>\n",
       "            <td>Italy Trade Dataset</td>\n",
       "            <td>Italy Trade dataset for Febuary</td>\n",
       "            <td>[\"Italy Imports Chandeliers and other electric ceiling or wall light fittings; excluding those used for lighting public open spaces or thoroughfares from Australia\"] -> Tensor<br /><br />[\"Italy Imports Diazo-, azo- or azoxy compounds from Indonesia\"] -> Tensor<br /><br />[\"Italy Imports Diazo-, azo- or azoxy compounds from Latvia\"] -> Tensor<br /><br />[\"Italy Imports Nitrogen-function compounds; n.e.s. in chapter 29, excluding isocyanates from Latvia\"] -> Tensor<br /><br />[\"Italy Imports Organo-sulphur compounds; methionine from Malaysia\"] -> Tensor<br /><br />[\"Italy Imports Organo-sulphur compounds; n.e.s. in heading no. 2930 from Israel\"] -> Tensor<br /><br />[\"Italy Imports Organo-inorganic compounds; other organo-phosphorus derivatives, n.e.c. in heading no. 2931 from Ukraine\"] -> Tensor<br /><br />[\"Italy Imports Organo-inorganic compounds; other than tetramethyl lead, tetraethyl lead, and tributyltin compounds from Mexico\"] -> Tensor<br /><br />[\"Italy Imports Heterocyclic compounds; with oxygen hetero-atom(s) only, containing an unfused furan ring (whether or not hydrogenated) in the structure, lactones from Ireland\"] -> Tensor<br /><br />[\"Italy Imports Heterocyclic compounds; with oxygen hetero-atom(s) only, (other than lactones or compounds containing an unfused furan ring (whether or not hydrogenated) in the structure), n.e.s. in item no. 2932.9 from Israel\"] -> Tensor<br /><br /></td>\n",
       "            <td>b3e6e79c-6028-4339-bfb8-39fd2e08b058</td>\n",
       "          </tr>\n",
       "        </table>\n",
       "\n",
       "        <script>\n",
       "        function myFunction() {\n",
       "          // Declare variables\n",
       "          var input, filter, table, tr, td, i, txtValue;\n",
       "          input = document.getElementById(\"myInput\");\n",
       "          filter = input.value.toUpperCase();\n",
       "          table = document.getElementById(\"myTable\");\n",
       "          tr = table.getElementsByTagName(\"tr\");\n",
       "\n",
       "          // Loop through all table rows, and hide those who don't match the search query\n",
       "          for (i = 0; i < tr.length; i++) {\n",
       "            name_td = tr[i].getElementsByTagName(\"td\")[1];\n",
       "            desc_td = tr[i].getElementsByTagName(\"td\")[2];\n",
       "            asset_td = tr[i].getElementsByTagName(\"td\")[3];\n",
       "            id_td = tr[i].getElementsByTagName(\"td\")[4];\n",
       "            if (name_td || desc_td || asset_td || id_td) {\n",
       "              name_txtValue = name_td.textContent || name_td.innerText;\n",
       "              desc_txtValue = desc_td.textContent || name_td.innerText;\n",
       "              asset_txtValue = asset_td.textContent || name_td.innerText;\n",
       "              id_txtValue = id_td.textContent || name_td.innerText;\n",
       "              name_bool = name_txtValue.toUpperCase().indexOf(filter) > -1;\n",
       "              desc_bool = desc_txtValue.toUpperCase().indexOf(filter) > -1;\n",
       "              asset_bool = asset_txtValue.toUpperCase().indexOf(filter) > -1;\n",
       "              id_bool = id_txtValue.toUpperCase().indexOf(filter) > -1;\n",
       "              if (name_bool || desc_bool || asset_bool || id_bool) {\n",
       "                tr[i].style.display = \"\";\n",
       "              } else {\n",
       "                tr[i].style.display = \"none\";\n",
       "              }\n",
       "            }\n",
       "          }\n",
       "        }\n",
       "        </script>"
      ],
      "text/plain": [
       "<syft.core.node.common.client_manager.dataset_api.DatasetRequestAPI at 0x7fbf396c0280>"
      ]
     },
     "execution_count": 30,
     "metadata": {},
     "output_type": "execute_result"
    }
   ],
   "source": [
    "# List the dataset on the Italy domain\n",
    "\n",
    "it_domain_client.datasets"
   ]
  },
  {
   "cell_type": "code",
   "execution_count": null,
   "id": "2cbb6b9b",
   "metadata": {},
   "outputs": [],
   "source": [
    "# Let's select the respective dataset\n",
    "\n",
    "# Canada trade dataset\n",
    "ca_trade_dataset_ptr = ca_domain.datasets[0]\n",
    "\n",
    "# Italy trade dataset\n",
    "it_trade_dataset_ptr = it_domain.datasets[0]"
   ]
  },
  {
   "cell_type": "code",
   "execution_count": null,
   "id": "7952ef8d",
   "metadata": {},
   "outputs": [],
   "source": [
    "# Get all the assets of the dataset pointer an iterator\n",
    "\n",
    "ca_assets = ca_trade_dataset_ptr.iter()\n",
    "it_assets = it_trade_dataset_ptr.iter() \n",
    "\n",
    "partner_code_italy = 123 # Partner code for italy\n",
    "partner_code_canada = 321 # Partner code for Canada\n",
    "\n",
    "val_of_goods_exported_to_it_from_ca = []\n",
    "val_of_goods_imported_to_it_from_ca = []\n",
    "\n",
    "for ca_asset in ca_assets:\n",
    "    if ca_asset[0] == partner_code_italy and ca_asset[1] == 2: # Partner is Italy and trade type is export\n",
    "        val_of_goods_exported_to_it_from_ca.append(ca_asset[1])\n",
    "\n",
    "for it_asset in it_assets:\n",
    "    if it_asset[0] == partner_code_canada and ca_asset[1] == 1: # Partner is Canada and trade type is import\n",
    "        val_of_goods_imported_to_it_from_ca.append(ca_asset[1])\n",
    "\n",
    "total_val_of_goods_imported_to_it_from_ca = sum(val_of_goods_imported_to_it_from_ca)\n",
    "total_val_of_goods_exported_to_it_from_ca = sum(val_of_goods_exported_to_it_from_ca)"
   ]
  },
  {
   "cell_type": "code",
   "execution_count": null,
   "id": "dc89f097",
   "metadata": {},
   "outputs": [],
   "source": [
    "is_import_equals_exports = total_val_of_goods_imported_to_it_from_ca == total_val_of_goods_exported_to_it_from_ca"
   ]
  },
  {
   "cell_type": "code",
   "execution_count": null,
   "id": "f399bf67",
   "metadata": {},
   "outputs": [],
   "source": [
    "result = is_import_equals_exports.publish(sigma=10)"
   ]
  },
  {
   "cell_type": "code",
   "execution_count": null,
   "id": "935ed43e",
   "metadata": {},
   "outputs": [],
   "source": [
    "result = result.get()"
   ]
  },
  {
   "cell_type": "code",
   "execution_count": 8,
   "id": "0e8e4d76",
   "metadata": {},
   "outputs": [
    {
     "name": "stdout",
     "output_type": "stream",
     "text": [
      "Is the value of the goods export to Italy from Canada equals to the value of goods imported to Italy from Canada: \n",
      "True\n"
     ]
    }
   ],
   "source": [
    "print(\"Is the value of the goods export to Italy from Canada equals to the value of goods imported to Italy from Canada: \\nTrue\")\n",
    "print(result)"
   ]
  },
  {
   "cell_type": "code",
   "execution_count": null,
   "id": "7b4c2488",
   "metadata": {},
   "outputs": [],
   "source": []
  },
  {
   "cell_type": "markdown",
   "id": "57681208",
   "metadata": {
    "heading_collapsed": true
   },
   "source": [
    "### Dummy Data"
   ]
  },
  {
   "cell_type": "code",
   "execution_count": 2,
   "id": "cd48ef23",
   "metadata": {
    "hidden": true
   },
   "outputs": [],
   "source": [
    "import pandas as pd\n",
    "from enum import Enum\n",
    "import uuid\n",
    "\n",
    "\n",
    "class bcolors(Enum):\n",
    "    HEADER = \"\\033[95m\"\n",
    "    OKBLUE = \"\\033[94m\"\n",
    "    OKCYAN = \"\\033[96m\"\n",
    "    OKGREEN = \"\\033[92m\"\n",
    "    WARNING = \"\\033[93m\"\n",
    "    FAIL = \"\\033[91m\"\n",
    "    ENDC = \"\\033[0m\"\n",
    "    BOLD = \"\\033[1m\"\n",
    "    UNDERLINE = \"\\033[4m\""
   ]
  },
  {
   "cell_type": "code",
   "execution_count": 22,
   "id": "6966b6b0",
   "metadata": {
    "hidden": true
   },
   "outputs": [],
   "source": [
    "available_networks = [\n",
    "    {\n",
    "        \"Id\": f\"{uuid.uuid4().hex}\",\n",
    "        \"Name\": \"United Nations\",\n",
    "        \"Hosted Domains\": 2,\n",
    "        \"Hosted Datasets\": 2,\n",
    "        \"Description\": \"The UN hosts data related to the commodity and Census data.\",\n",
    "        \"Tags\": [\"Commodities\", \"Census\", \"Health\"],\n",
    "        \"Url\": \"https://un.openmined.org\",\n",
    "    },\n",
    "]\n",
    "networks_df = pd.DataFrame(available_networks)\n",
    "\n",
    "not_found_error = f\"\"\"\n",
    "    {bcolors.FAIL.value}NetworkNotFoundException {bcolors.ENDC.value}: No Network found with given Id or Index.\n",
    "\"\"\"\n"
   ]
  },
  {
   "cell_type": "code",
   "execution_count": 14,
   "id": "7e1a2e90",
   "metadata": {
    "hidden": true
   },
   "outputs": [],
   "source": [
    "available_domains = [\n",
    "    {\n",
    "        \"Id\": f\"{uuid.uuid4().hex}\",\n",
    "        \"Name\": \"Canada Domain\",\n",
    "        \"Hosted Datasets\": 1,\n",
    "        \"Description\": \"The domain hosted by the government of Canada\",\n",
    "        \"Tags\": [\"Commodities\", \"Trade\"],\n",
    "    },\n",
    "    {\n",
    "        \"Id\": f\"{uuid.uuid4().hex}\",\n",
    "        \"Name\": \"Italy Domain\",\n",
    "        \"Hosted Datasets\": 1,\n",
    "        \"Description\": \"The domain hosted by the government of Italy\",\n",
    "        \"Tags\": [\"Commodities\", \"Trade\"],\n",
    "    },\n",
    "]\n",
    "domain_df = pd.DataFrame(available_domains)"
   ]
  },
  {
   "cell_type": "code",
   "execution_count": 15,
   "id": "33723f7e",
   "metadata": {
    "hidden": true
   },
   "outputs": [],
   "source": [
    "\n",
    "# domain logging\n",
    "\n",
    "domain_login_message = f\"\"\"\n",
    "    Connecting to Canada Domain... {bcolors.OKGREEN.value} Connected{bcolors.ENDC.value} 🥰! \n",
    "    Logging in as {bcolors.BOLD.value}sheldon@caltech.edu{bcolors.ENDC.value}... {bcolors.OKGREEN.value} Logged in 🥳{bcolors.ENDC.value}!\"\"\""
   ]
  },
  {
   "cell_type": "code",
   "execution_count": null,
   "id": "24e16636",
   "metadata": {
    "hidden": true
   },
   "outputs": [],
   "source": []
  }
 ],
 "metadata": {
  "kernelspec": {
   "display_name": "Python 3 (ipykernel)",
   "language": "python",
   "name": "python3"
  },
  "language_info": {
   "codemirror_mode": {
    "name": "ipython",
    "version": 3
   },
   "file_extension": ".py",
   "mimetype": "text/x-python",
   "name": "python",
   "nbconvert_exporter": "python",
   "pygments_lexer": "ipython3",
   "version": "3.9.6"
  }
 },
 "nbformat": 4,
 "nbformat_minor": 5
}
