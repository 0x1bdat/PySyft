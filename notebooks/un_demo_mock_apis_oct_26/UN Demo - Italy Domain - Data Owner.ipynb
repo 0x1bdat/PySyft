{
 "cells": [
  {
   "cell_type": "code",
   "execution_count": 4,
   "id": "25d2d89b",
   "metadata": {},
   "outputs": [],
   "source": [
    "import syft as sy\n",
    "import numpy as np"
   ]
  },
  {
   "cell_type": "code",
   "execution_count": 5,
   "id": "adf0cef7",
   "metadata": {},
   "outputs": [
    {
     "name": "stdout",
     "output_type": "stream",
     "text": [
      "Connecting to http://localhost:8081... done! \t Logging into mednode... done!\n"
     ]
    }
   ],
   "source": [
    "# Login to the domain\n",
    "\n",
    "domain = sy.login(\n",
    "    email=\"info@openmined.org\",\n",
    "    password=\"changethis\",\n",
    "    port=8081,\n",
    ")"
   ]
  },
  {
   "cell_type": "code",
   "execution_count": 6,
   "id": "a911e5b6",
   "metadata": {},
   "outputs": [
    {
     "name": "stdout",
     "output_type": "stream",
     "text": [
      "Creating an empty dataset... Creating... SUCCESS!"
     ]
    }
   ],
   "source": [
    "# Let's create an empty dataset\n",
    "\n",
    "domain.create_dataset(\n",
    "    name=\"Italy Trade Dataset\",\n",
    "    description=\"Italy Trade dataset for Febuary\"\n",
    ")"
   ]
  },
  {
   "cell_type": "code",
   "execution_count": 7,
   "id": "4c4b3782",
   "metadata": {},
   "outputs": [
    {
     "data": {
      "text/html": [
       "<style>\n",
       "                #myInput {\n",
       "                  background-position: 10px 12px; /* Position the search icon */\n",
       "                  background-repeat: no-repeat; /* Do not repeat the icon image */\n",
       "                  background-color: #bbb;\n",
       "                  width: 98%; /* Full-width */\n",
       "                  font-size: 14px; /* Increase font-size */\n",
       "                  padding: 12px 20px 12px 40px; /* Add some padding */\n",
       "                  border: 1px solid #ddd; /* Add a grey border */\n",
       "                  margin-bottom: 12px; /* Add some space below the input */\n",
       "                }\n",
       "\n",
       "                #myTable {\n",
       "                  border-collapse: collapse; /* Collapse borders */\n",
       "                  width: 100%; /* Full-width */\n",
       "                  border: 1px solid #ddd; /* Add a grey border */\n",
       "                  font-size: 14px; /* Increase font-size */\n",
       "                }\n",
       "\n",
       "                #myTable th, #myTable td {\n",
       "                  text-align: left; /* Left-align text */\n",
       "                  padding: 10px; /* Add padding */\n",
       "                }\n",
       "\n",
       "                #myTable tr {\n",
       "                  /* Add a bottom border to all table rows */\n",
       "                  border-bottom: 1px solid #ddd;\n",
       "                }\n",
       "\n",
       "                #myTable tr.header, #myTable tr:hover {\n",
       "                  /* Add a grey background color to the table header and on hover */\n",
       "                  background-color: #777;\n",
       "                }\n",
       "                </style>\n",
       "\n",
       "                <input type=\"text\" id=\"myInput\" onkeyup=\"myFunction()\" placeholder=\"Search for datasets..\">\n",
       "\n",
       "                <table id=\"myTable\">\n",
       "                  <tr class=\"header\">\n",
       "                    <th style=\"width:30px\">Idx</th>\n",
       "                    <th style=\"width:20%;\">Name</th>\n",
       "                    <th style=\"width:35%;\">Description</th>\n",
       "                    <th style=\"width:20%;\">Assets</th>\n",
       "                    <th style=\"width:300px;\">Id</th>\n",
       "                  </tr>\n",
       "                \n",
       "\n",
       "          <tr>\n",
       "            <td>[0]</td>\n",
       "            <td>Italy Trade Dataset</td>\n",
       "            <td>Italy Trade dataset for Febuary</td>\n",
       "            <td></td>\n",
       "            <td>b3e6e79c-6028-4339-bfb8-39fd2e08b058</td>\n",
       "          </tr>\n",
       "        </table>\n",
       "\n",
       "        <script>\n",
       "        function myFunction() {\n",
       "          // Declare variables\n",
       "          var input, filter, table, tr, td, i, txtValue;\n",
       "          input = document.getElementById(\"myInput\");\n",
       "          filter = input.value.toUpperCase();\n",
       "          table = document.getElementById(\"myTable\");\n",
       "          tr = table.getElementsByTagName(\"tr\");\n",
       "\n",
       "          // Loop through all table rows, and hide those who don't match the search query\n",
       "          for (i = 0; i < tr.length; i++) {\n",
       "            name_td = tr[i].getElementsByTagName(\"td\")[1];\n",
       "            desc_td = tr[i].getElementsByTagName(\"td\")[2];\n",
       "            asset_td = tr[i].getElementsByTagName(\"td\")[3];\n",
       "            id_td = tr[i].getElementsByTagName(\"td\")[4];\n",
       "            if (name_td || desc_td || asset_td || id_td) {\n",
       "              name_txtValue = name_td.textContent || name_td.innerText;\n",
       "              desc_txtValue = desc_td.textContent || name_td.innerText;\n",
       "              asset_txtValue = asset_td.textContent || name_td.innerText;\n",
       "              id_txtValue = id_td.textContent || name_td.innerText;\n",
       "              name_bool = name_txtValue.toUpperCase().indexOf(filter) > -1;\n",
       "              desc_bool = desc_txtValue.toUpperCase().indexOf(filter) > -1;\n",
       "              asset_bool = asset_txtValue.toUpperCase().indexOf(filter) > -1;\n",
       "              id_bool = id_txtValue.toUpperCase().indexOf(filter) > -1;\n",
       "              if (name_bool || desc_bool || asset_bool || id_bool) {\n",
       "                tr[i].style.display = \"\";\n",
       "              } else {\n",
       "                tr[i].style.display = \"none\";\n",
       "              }\n",
       "            }\n",
       "          }\n",
       "        }\n",
       "        </script>"
      ],
      "text/plain": [
       "<syft.core.node.common.client_manager.dataset_api.DatasetRequestAPI at 0x7f4c1f1ad3a0>"
      ]
     },
     "execution_count": 7,
     "metadata": {},
     "output_type": "execute_result"
    }
   ],
   "source": [
    "domain.datasets"
   ]
  },
  {
   "cell_type": "code",
   "execution_count": 8,
   "id": "1b913fac",
   "metadata": {},
   "outputs": [],
   "source": [
    "dataset_pointer = domain.datasets[0]"
   ]
  },
  {
   "cell_type": "code",
   "execution_count": null,
   "id": "ec60c2c9",
   "metadata": {},
   "outputs": [],
   "source": []
  },
  {
   "cell_type": "code",
   "execution_count": 9,
   "id": "443b7158",
   "metadata": {},
   "outputs": [
    {
     "name": "stderr",
     "output_type": "stream",
     "text": [
      "/home/user/anaconda3/envs/pysyft/lib/python3.9/site-packages/IPython/core/interactiveshell.py:3441: DtypeWarning: Columns (14) have mixed types.Specify dtype option on import or set low_memory=False.\n",
      "  exec(code_obj, self.user_global_ns, self.user_ns)\n"
     ]
    }
   ],
   "source": [
    "import pandas as pd\n",
    "# Load the first 100 rows\n",
    "it_data = pd.read_csv(\"trade_demo/datasets/it - feb 2021.csv\")[:10]"
   ]
  },
  {
   "cell_type": "code",
   "execution_count": 10,
   "id": "1f3fa540",
   "metadata": {},
   "outputs": [
    {
     "name": "stdout",
     "output_type": "stream",
     "text": [
      "Loading dataset... uploading... \n",
      "SUCCESS! Batches successfully uploaded: 1/10\n",
      "Loading dataset... uploading... \n",
      "SUCCESS! Batches successfully uploaded: 2/10\n",
      "Loading dataset... uploading... \n",
      "SUCCESS! Batches successfully uploaded: 3/10\n",
      "Loading dataset... uploading... \n",
      "SUCCESS! Batches successfully uploaded: 4/10\n",
      "Loading dataset... uploading... \n",
      "SUCCESS! Batches successfully uploaded: 5/10\n",
      "Loading dataset... uploading... \n",
      "SUCCESS! Batches successfully uploaded: 6/10\n",
      "Loading dataset... uploading... \n",
      "SUCCESS! Batches successfully uploaded: 7/10\n",
      "Loading dataset... uploading... \n",
      "SUCCESS! Batches successfully uploaded: 8/10\n",
      "Loading dataset... uploading... \n",
      "SUCCESS! Batches successfully uploaded: 9/10\n",
      "Loading dataset... uploading... \n",
      "SUCCESS! Batches successfully uploaded: 10/10\n"
     ]
    }
   ],
   "source": [
    "start, end = 0, len(it_data)\n",
    "batch_size = 1\n",
    "idx = 0\n",
    "while(start < end):\n",
    "    idx += 1\n",
    "    batch = it_data[start:start+batch_size] # Select the batch\n",
    "    \n",
    "    partner = batch[\"Partner\"].values[0]\n",
    "    trade_type = batch[\"Trade Flow\"].values[0]\n",
    "    commodity_name = batch[\"Commodity\"].values[0]\n",
    "    \n",
    "    entities = [str(partner)]\n",
    "    batch = batch[[\"Partner Code\", \"Trade Flow Code\", \"Trade Value (US$)\", \"Commodity Code\"]]\n",
    "    \n",
    "    # Convert to numpy array\n",
    "    batch = batch.values.astype(np.int32)\n",
    "    # Convert to tensor\n",
    "    batch_tensor = sy.Tensor(batch)\n",
    "    batch_tensor.public_shape = batch_tensor.shape\n",
    "    batch_tensor = batch_tensor.private(0, 1500000, entities=entities)\n",
    "\n",
    "    name = f\"Italy {trade_type} {commodity_name} from {partner}\"  # Asset key name\n",
    "    dataset_pointer.add(name=name, value=batch_tensor)  # Add each row as an asset\n",
    "    start += batch_size\n",
    "    print(f\" Batches successfully uploaded: {idx}/{end//batch_size}\")"
   ]
  },
  {
   "cell_type": "code",
   "execution_count": 11,
   "id": "5f4338ba",
   "metadata": {},
   "outputs": [
    {
     "name": "stdout",
     "output_type": "stream",
     "text": [
      "Dataset: Italy Trade Dataset\n",
      "Description: Italy Trade dataset for Febuary\n",
      "\n"
     ]
    },
    {
     "data": {
      "text/html": [
       "<style>\n",
       "        #myInput {\n",
       "          background-position: 10px 12px; /* Position the search icon */\n",
       "          background-repeat: no-repeat; /* Do not repeat the icon image */\n",
       "          background-color: #bbb;\n",
       "          width: 98%; /* Full-width */\n",
       "          font-size: 14px; /* Increase font-size */\n",
       "          padding: 12px 20px 12px 40px; /* Add some padding */\n",
       "          border: 1px solid #ddd; /* Add a grey border */\n",
       "          margin-bottom: 12px; /* Add some space below the input */\n",
       "        }\n",
       "\n",
       "        #myTable {\n",
       "          border-collapse: collapse; /* Collapse borders */\n",
       "          width: 50%; /* Full-width */\n",
       "          border: 1px solid #ddd; /* Add a grey border */\n",
       "          font-size: 14px; /* Increase font-size */\n",
       "        }\n",
       "\n",
       "        #myTable th, #myTable td {\n",
       "          text-align: left; /* Left-align text */\n",
       "          padding: 10px; /* Add padding */\n",
       "        }\n",
       "\n",
       "        #myTable tr {\n",
       "          /* Add a bottom border to all table rows */\n",
       "          border-bottom: 1px solid #ddd;\n",
       "        }\n",
       "\n",
       "        #myTable tr.header, #myTable tr:hover {\n",
       "          /* Add a grey background color to the table header and on hover */\n",
       "          background-color: #777;\n",
       "        }\n",
       "        </style>\n",
       "\n",
       "        <table id=\"myTable\">\n",
       "          <tr class=\"header\">\n",
       "            <th style=\"width:15%;\">Asset Key</th>\n",
       "            <th style=\"width:20%;\">Type</th>\n",
       "            <th style=\"width:10%;\">Shape</th>\n",
       "          </tr>\n",
       "        \n",
       "\n",
       "              <tr>\n",
       "            <td>[\"Italy Imports Chandeliers and other electric ceiling or wall light fittings; excluding those used for lighting public open spaces or thoroughfares from Australia\"]</td>\n",
       "            <td>Tensor</td>\n",
       "            <td>(1, 4)</td>\n",
       "          </tr>\n",
       "\n",
       "              <tr>\n",
       "            <td>[\"Italy Imports Diazo-, azo- or azoxy compounds from Indonesia\"]</td>\n",
       "            <td>Tensor</td>\n",
       "            <td>(1, 4)</td>\n",
       "          </tr>\n",
       "\n",
       "              <tr>\n",
       "            <td>[\"Italy Imports Diazo-, azo- or azoxy compounds from Latvia\"]</td>\n",
       "            <td>Tensor</td>\n",
       "            <td>(1, 4)</td>\n",
       "          </tr>\n",
       "\n",
       "              <tr>\n",
       "            <td>[\"Italy Imports Nitrogen-function compounds; n.e.s. in chapter 29, excluding isocyanates from Latvia\"]</td>\n",
       "            <td>Tensor</td>\n",
       "            <td>(1, 4)</td>\n",
       "          </tr>\n",
       "\n",
       "              <tr>\n",
       "            <td>[\"Italy Imports Organo-sulphur compounds; methionine from Malaysia\"]</td>\n",
       "            <td>Tensor</td>\n",
       "            <td>(1, 4)</td>\n",
       "          </tr>\n",
       "\n",
       "              <tr>\n",
       "            <td>[\"Italy Imports Organo-sulphur compounds; n.e.s. in heading no. 2930 from Israel\"]</td>\n",
       "            <td>Tensor</td>\n",
       "            <td>(1, 4)</td>\n",
       "          </tr>\n",
       "\n",
       "              <tr>\n",
       "            <td>[\"Italy Imports Organo-inorganic compounds; other organo-phosphorus derivatives, n.e.c. in heading no. 2931 from Ukraine\"]</td>\n",
       "            <td>Tensor</td>\n",
       "            <td>(1, 4)</td>\n",
       "          </tr>\n",
       "\n",
       "              <tr>\n",
       "            <td>[\"Italy Imports Organo-inorganic compounds; other than tetramethyl lead, tetraethyl lead, and tributyltin compounds from Mexico\"]</td>\n",
       "            <td>Tensor</td>\n",
       "            <td>(1, 4)</td>\n",
       "          </tr>\n",
       "\n",
       "              <tr>\n",
       "            <td>[\"Italy Imports Heterocyclic compounds; with oxygen hetero-atom(s) only, containing an unfused furan ring (whether or not hydrogenated) in the structure, lactones from Ireland\"]</td>\n",
       "            <td>Tensor</td>\n",
       "            <td>(1, 4)</td>\n",
       "          </tr>\n",
       "\n",
       "              <tr>\n",
       "            <td>[\"Italy Imports Heterocyclic compounds; with oxygen hetero-atom(s) only, (other than lactones or compounds containing an unfused furan ring (whether or not hydrogenated) in the structure), n.e.s. in item no. 2932.9 from Israel\"]</td>\n",
       "            <td>Tensor</td>\n",
       "            <td>(1, 4)</td>\n",
       "          </tr>\n",
       "        </table>\n",
       "\n",
       "        "
      ],
      "text/plain": [
       "<syft.core.node.common.client_manager.dataset_api.Dataset at 0x7f4c1fd10ac0>"
      ]
     },
     "execution_count": 11,
     "metadata": {},
     "output_type": "execute_result"
    }
   ],
   "source": [
    "dataset_pointer"
   ]
  },
  {
   "cell_type": "code",
   "execution_count": 14,
   "id": "1ef422af",
   "metadata": {},
   "outputs": [
    {
     "ename": "TypeError",
     "evalue": "describe() missing 1 required positional argument: 'description'",
     "output_type": "error",
     "traceback": [
      "\u001b[0;31m---------------------------------------------------------------------------\u001b[0m",
      "\u001b[0;31mTypeError\u001b[0m                                 Traceback (most recent call last)",
      "\u001b[0;32m/tmp/ipykernel_331102/3981584069.py\u001b[0m in \u001b[0;36m<module>\u001b[0;34m\u001b[0m\n\u001b[0;32m----> 1\u001b[0;31m \u001b[0mdomain\u001b[0m\u001b[0;34m.\u001b[0m\u001b[0mdescribe\u001b[0m\u001b[0;34m(\u001b[0m\u001b[0;34m)\u001b[0m\u001b[0;34m\u001b[0m\u001b[0;34m\u001b[0m\u001b[0m\n\u001b[0m",
      "\u001b[0;31mTypeError\u001b[0m: describe() missing 1 required positional argument: 'description'"
     ]
    }
   ],
   "source": []
  },
  {
   "cell_type": "code",
   "execution_count": null,
   "id": "b663d924",
   "metadata": {},
   "outputs": [],
   "source": []
  },
  {
   "cell_type": "code",
   "execution_count": null,
   "id": "449c3e15",
   "metadata": {},
   "outputs": [],
   "source": []
  }
 ],
 "metadata": {
  "kernelspec": {
   "display_name": "Python 3 (ipykernel)",
   "language": "python",
   "name": "python3"
  },
  "language_info": {
   "codemirror_mode": {
    "name": "ipython",
    "version": 3
   },
   "file_extension": ".py",
   "mimetype": "text/x-python",
   "name": "python",
   "nbconvert_exporter": "python",
   "pygments_lexer": "ipython3",
   "version": "3.9.6"
  }
 },
 "nbformat": 4,
 "nbformat_minor": 5
}
