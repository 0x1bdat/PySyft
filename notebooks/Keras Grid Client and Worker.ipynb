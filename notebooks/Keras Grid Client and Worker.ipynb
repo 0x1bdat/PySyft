{
 "cells": [
  {
   "cell_type": "markdown",
   "metadata": {},
   "source": [
    "# Instructions\n",
    "\n",
    "This notebook shows you basic commands for either running a worker that trains other peoples models (Section 1: Run Worker) or to train your own model on the grid using the client (Section 2: Run Client). Before running this notebook, you need to have:\n",
    "\n",
    "- installed IPFS (https://ipfs.io/docs/install/)\n",
    "- run `python3 setup.py install` from the root directory of the OpenMined/Grid project (this project)\n",
    "\n",
    "Then you're ready to run this notebook!"
   ]
  },
  {
   "cell_type": "code",
   "execution_count": null,
   "metadata": {},
   "outputs": [
    {
     "name": "stdout",
     "output_type": "stream",
     "text": [
      "\n",
      "\u001b[34mUPDATE: \u001b[0mConnecting to IPFS... this can take a few seconds...\n",
      "\n",
      "\u001b[32mSUCCESS: \u001b[0mConnected!!!\n",
      "\n",
      "\u001b[34mUPDATE: \u001b[0mQuerying known workers...\n",
      "\tWORKER: /p2p-circuit/ipfs/QmQabt3SWuDvjse9z7GAcH2BGQv4wH8bumkd4x5oXN2obY...\u001b[31mFAIL!!!\u001b[0m\n",
      "\tWORKER: /p2p-circuit/ipfs/Qmaosc64H6Y29VFCFYJzJXCX9AuRp7RCsekLmajHNVEARD...\u001b[32mSUCCESS!!!\u001b[0m\n",
      "\tWORKER: /p2p-circuit/ipfs/QmQabt3SWuDvjse9z7GAcH2BGQv4wH8bumkd4x5oXN2obX...\u001b[32mSUCCESS!!!\u001b[0m\n",
      "\tWORKER: /p2p-circuit/ipfs/QmQabt3SWuDvjse9z7GAcH2BGQv4wH8bumkd4x5oXN2obZ...\u001b[31mFAIL!!!\u001b[0m\n",
      "\tWORKER: /p2p-circuit/ipfs/QmP4Enxp5sZDDjsUaLePbnynd8YbUEEeDq2VcGst4E6PMt...\u001b[32mSUCCESS!!!\u001b[0m\n",
      "\tWORKER: /p2p-circuit/ipfs/Qma5efEQtBUxDonmSDajv9dZ52axH9MNULKTgVpXWK8Ak2...\u001b[31mFAIL!!!\u001b[0m\n",
      "\tWORKER: /p2p-circuit/ipfs/QmcDDzYS7pJzn2HT9MrNMPFU8ViwYu4S5Jm7om6rqNdXp8...\u001b[32mSUCCESS!!!\u001b[0m\n",
      "\n",
      "\u001b[34mUPDATE: \u001b[0mSearching for IPFS nodes - 96 found overall - 4 are OpenMined workers..                 "
     ]
    }
   ],
   "source": [
    "import keras\n",
    "from keras.models import Sequential\n",
    "from keras.layers.core import Dense, Dropout, Activation\n",
    "from keras.optimizers import SGD\n",
    "import numpy as np \n",
    "from grid.pubsub.client import Client\n",
    "\n",
    "known_workers = list()\n",
    "# known_workers.append('/p2p-circuit/ipfs/QmQabt3SWuDvjse9z7GAcH2BGQv4wH8bumkd4x5oXN2obX')\n",
    "known_workers.append('/p2p-circuit/ipfs/QmQabt3SWuDvjse9z7GAcH2BGQv4wH8bumkd4x5oXN2obY') # this node is fake - and should fail gracefully\n",
    "known_workers.append('/p2p-circuit/ipfs/QmQabt3SWuDvjse9z7GAcH2BGQv4wH8bumkd4x5oXN2obZ') # this node is fake - and should fail gracefully\n",
    "known_workers.append('/p2p-circuit/ipfs/QmP4Enxp5sZDDjsUaLePbnynd8YbUEEeDq2VcGst4E6PMt')\n",
    "known_workers.append('/p2p-circuit/ipfs/QmcDDzYS7pJzn2HT9MrNMPFU8ViwYu4S5Jm7om6rqNdXp8')\n",
    "known_workers.append('/p2p-circuit/ipfs/Qma5efEQtBUxDonmSDajv9dZ52axH9MNULKTgVpXWK8Ak2')\n",
    "\n",
    "g = Client(min_om_nodes=5,known_workers=known_workers)"
   ]
  },
  {
   "cell_type": "code",
   "execution_count": 36,
   "metadata": {},
   "outputs": [
    {
     "data": {
      "text/plain": [
       "['QmP4Enxp5sZDDjsUaLePbnynd8YbUEEeDq2VcGst4E6PMt',\n",
       " 'Qmaosc64H6Y29VFCFYJzJXCX9AuRp7RCsekLmajHNVEARD',\n",
       " 'QmcDDzYS7pJzn2HT9MrNMPFU8ViwYu4S5Jm7om6rqNdXp8',\n",
       " 'QmQabt3SWuDvjse9z7GAcH2BGQv4wH8bumkd4x5oXN2obX']"
      ]
     },
     "execution_count": 36,
     "metadata": {},
     "output_type": "execute_result"
    }
   ],
   "source": [
    "g.get_openmined_nodes()"
   ]
  },
  {
   "cell_type": "code",
   "execution_count": 37,
   "metadata": {},
   "outputs": [
    {
     "name": "stdout",
     "output_type": "stream",
     "text": [
      "PREFERRED NODE:QmP4Enxp5sZDDjsUaLePbnynd8YbUEEeDq2VcGst4E6PMt\n",
      "SUBSCRIBING TO openmined_train_QmUavfE5tfNHdMpTjQMWSBFBFav7sRZrCYpP3Ms3REBEDS\n",
      "Worker:E6PMt - Epoch 0 of 20 - Valid Loss: 0.771150\n",
      "Worker:E6PMt - Epoch 1 of 20 - Valid Loss: 0.770564\n",
      "Worker:E6PMt - Epoch 2 of 20 - Valid Loss: 0.765634\n",
      "Worker:E6PMt - Epoch 3 of 20 - Valid Loss: 0.760180\n",
      "Worker:E6PMt - Epoch 4 of 20 - Valid Loss: 0.761233\n",
      "Worker:E6PMt - Epoch 5 of 20 - Valid Loss: 0.758485\n",
      "Worker:E6PMt - Epoch 6 of 20 - Valid Loss: 0.756273\n",
      "Worker:E6PMt - Epoch 7 of 20 - Valid Loss: 0.754081\n",
      "Worker:E6PMt - Epoch 8 of 20 - Valid Loss: 0.751242\n",
      "Worker:E6PMt - Epoch 9 of 20 - Valid Loss: 0.749489\n",
      "Worker:E6PMt - Epoch 10 of 20 - Valid Loss: 0.748773\n",
      "Worker:E6PMt - Epoch 11 of 20 - Valid Loss: 0.747307\n",
      "Worker:E6PMt - Epoch 12 of 20 - Valid Loss: 0.745377\n",
      "Worker:E6PMt - Epoch 13 of 20 - Valid Loss: 0.742304\n",
      "Worker:E6PMt - Epoch 14 of 20 - Valid Loss: 0.742693\n",
      "Worker:E6PMt - Epoch 15 of 20 - Valid Loss: 0.739226\n",
      "Worker:E6PMt - Epoch 16 of 20 - Valid Loss: 0.738748\n",
      "Worker:E6PMt - Epoch 17 of 20 - Valid Loss: 0.739229\n",
      "Worker:E6PMt - Epoch 18 of 20 - Valid Loss: 0.738201\n",
      "Worker:E6PMt - Epoch 19 of 20 - Valid Loss: 0.737326\n",
      "\n",
      "\u001b[34mUPDATE: \u001b[0mConnecting to IPFS... this can take a few seconds...\n",
      "\n",
      "\u001b[32mSUCCESS: \u001b[0mConnected!!!\n",
      "\n",
      "\u001b[34mUPDATE: \u001b[0mConnecting to IPFS... this can take a few seconds...\n",
      "\n",
      "\u001b[32mSUCCESS: \u001b[0mConnected!!!\n"
     ]
    }
   ],
   "source": [
    "input = np.array([[0,0],[0,1],[1,0],[1,1]])\n",
    "target = np.array([[0],[1],[1],[0]])\n",
    "\n",
    "model = Sequential()\n",
    "model.add(Dense(8, input_dim=2))\n",
    "model.add(Activation('tanh'))\n",
    "model.add(Dense(1))\n",
    "model.add(Activation('sigmoid'))\n",
    "\n",
    "sgd = SGD(lr=0.1)\n",
    "model.compile(loss='binary_crossentropy', optimizer=sgd)\n",
    "\n",
    "model, train_spec = g.fit(model,input,target,epochs=20,log_interval=100,preferred_node='QmP4Enxp5sZDDjsUaLePbnynd8YbUEEeDq2VcGst4E6PMt')"
   ]
  },
  {
   "cell_type": "code",
   "execution_count": 38,
   "metadata": {},
   "outputs": [
    {
     "data": {
      "text/plain": [
       "{'batch_size': 1,\n",
       " 'data_addr': 'QmRy2NX5y6LSynVS9DL9ZtJ51yV57CtVAQsLZyuqZ5AB9E',\n",
       " 'epochs': 20,\n",
       " 'framework': 'keras',\n",
       " 'log_interval': 100,\n",
       " 'model_addr': 'QmUavfE5tfNHdMpTjQMWSBFBFav7sRZrCYpP3Ms3REBEDS',\n",
       " 'preferred_node': 'QmP4Enxp5sZDDjsUaLePbnynd8YbUEEeDq2VcGst4E6PMt',\n",
       " 'train_channel': 'openmined_train_QmUavfE5tfNHdMpTjQMWSBFBFav7sRZrCYpP3Ms3REBEDS'}"
      ]
     },
     "execution_count": 38,
     "metadata": {},
     "output_type": "execute_result"
    }
   ],
   "source": [
    "train_spec"
   ]
  },
  {
   "cell_type": "code",
   "execution_count": 39,
   "metadata": {},
   "outputs": [
    {
     "name": "stdout",
     "output_type": "stream",
     "text": [
      "_________________________________________________________________\n",
      "Layer (type)                 Output Shape              Param #   \n",
      "=================================================================\n",
      "dense_23 (Dense)             (None, 8)                 24        \n",
      "_________________________________________________________________\n",
      "activation_23 (Activation)   (None, 8)                 0         \n",
      "_________________________________________________________________\n",
      "dense_24 (Dense)             (None, 1)                 9         \n",
      "_________________________________________________________________\n",
      "activation_24 (Activation)   (None, 1)                 0         \n",
      "=================================================================\n",
      "Total params: 33\n",
      "Trainable params: 33\n",
      "Non-trainable params: 0\n",
      "_________________________________________________________________\n"
     ]
    }
   ],
   "source": [
    "model.summary()"
   ]
  },
  {
   "cell_type": "code",
   "execution_count": null,
   "metadata": {
    "collapsed": true
   },
   "outputs": [],
   "source": []
  },
  {
   "cell_type": "code",
   "execution_count": null,
   "metadata": {
    "collapsed": true
   },
   "outputs": [],
   "source": []
  }
 ],
 "metadata": {
  "kernelspec": {
   "display_name": "Python 3",
   "language": "python",
   "name": "python3"
  },
  "language_info": {
   "codemirror_mode": {
    "name": "ipython",
    "version": 3
   },
   "file_extension": ".py",
   "mimetype": "text/x-python",
   "name": "python",
   "nbconvert_exporter": "python",
   "pygments_lexer": "ipython3",
   "version": "3.6.1"
  }
 },
 "nbformat": 4,
 "nbformat_minor": 2
}
