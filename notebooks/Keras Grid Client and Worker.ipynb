{
 "cells": [
  {
   "cell_type": "markdown",
   "metadata": {},
   "source": [
    "# Instructions\n",
    "\n",
    "This notebook shows you basic commands for either running a worker that trains other peoples models (Section 1: Run Worker) or to train your own model on the grid using the client (Section 2: Run Client). Before running this notebook, you need to have:\n",
    "\n",
    "- installed IPFS (https://ipfs.io/docs/install/)\n",
    "- run the command `ipfs daemon --enable-pubsub-experiment`\n",
    "- run `python3 setup.py install` from the root directory of the OpenMined/Grid project (this project)\n",
    "\n",
    "Then you're ready to run this notebook!"
   ]
  },
  {
   "cell_type": "code",
   "execution_count": 35,
   "metadata": {},
   "outputs": [],
   "source": [
    "from grid import ipfsapi\n",
    "import base64\n",
    "import random\n",
    "import torch\n",
    "import keras\n",
    "import json\n",
    "from keras.models import Sequential\n",
    "from keras.layers.core import Dense, Dropout, Activation\n",
    "from keras.optimizers import SGD\n",
    "import numpy as np \n",
    "from grid.pubsub.client import Client\n",
    "\n",
    "g = Client()\n",
    "\n"
   ]
  },
  {
   "cell_type": "code",
   "execution_count": 47,
   "metadata": {},
   "outputs": [
    {
     "data": {
      "text/plain": [
       "False"
      ]
     },
     "execution_count": 47,
     "metadata": {},
     "output_type": "execute_result"
    }
   ],
   "source": [
    "'QmWViiBWFfqHYU1uCtnGbZ9uLtCK65Gk3FVwHosQiUT2hS' in g.api.pubsub_peers()['Strings']"
   ]
  },
  {
   "cell_type": "code",
   "execution_count": 55,
   "metadata": {},
   "outputs": [
    {
     "data": {
      "text/plain": [
       "207"
      ]
     },
     "execution_count": 55,
     "metadata": {},
     "output_type": "execute_result"
    }
   ],
   "source": [
    "len(g.api.pubsub_peers()['Strings'])"
   ]
  },
  {
   "cell_type": "code",
   "execution_count": 54,
   "metadata": {},
   "outputs": [
    {
     "data": {
      "text/plain": [
       "{'Strings': None}"
      ]
     },
     "execution_count": 54,
     "metadata": {},
     "output_type": "execute_result"
    }
   ],
   "source": [
    "g.api.pubsub_peers('openmined')"
   ]
  },
  {
   "cell_type": "code",
   "execution_count": null,
   "metadata": {},
   "outputs": [],
   "source": []
  },
  {
   "cell_type": "code",
   "execution_count": 49,
   "metadata": {},
   "outputs": [
    {
     "name": "stdout",
     "output_type": "stream",
     "text": [
      "SUBSCRIBING TO openmined_train_QmSy95H5Sg378ZVhRQJ7DJZ9UqvnYNMB4AEhQBXehUa3M4\n",
      "Worker:UT2hS - Epoch 0 of 200 - Valid Loss: 0.809310\n",
      "Worker:UT2hS - Epoch 1 of 200 - Valid Loss: 0.796890\n",
      "Worker:UT2hS - Epoch 2 of 200 - Valid Loss: 0.788953\n",
      "Worker:UT2hS - Epoch 3 of 200 - Valid Loss: 0.779534\n",
      "Worker:UT2hS - Epoch 4 of 200 - Valid Loss: 0.772757\n",
      "Worker:UT2hS - Epoch 5 of 200 - Valid Loss: 0.764972\n",
      "Worker:UT2hS - Epoch 6 of 200 - Valid Loss: 0.761884\n",
      "Worker:UT2hS - Epoch 7 of 200 - Valid Loss: 0.755656\n",
      "Worker:UT2hS - Epoch 8 of 200 - Valid Loss: 0.753244\n",
      "Worker:UT2hS - Epoch 9 of 200 - Valid Loss: 0.749560\n",
      "Worker:UT2hS - Epoch 10 of 200 - Valid Loss: 0.744847\n",
      "Worker:UT2hS - Epoch 11 of 200 - Valid Loss: 0.743188\n",
      "Worker:UT2hS - Epoch 12 of 200 - Valid Loss: 0.740168\n",
      "Worker:UT2hS - Epoch 13 of 200 - Valid Loss: 0.737794\n",
      "Worker:UT2hS - Epoch 14 of 200 - Valid Loss: 0.737254\n",
      "Worker:UT2hS - Epoch 15 of 200 - Valid Loss: 0.734566\n",
      "Worker:UT2hS - Epoch 16 of 200 - Valid Loss: 0.733392\n",
      "Worker:UT2hS - Epoch 17 of 200 - Valid Loss: 0.731438\n",
      "Worker:UT2hS - Epoch 18 of 200 - Valid Loss: 0.730427\n",
      "Worker:UT2hS - Epoch 19 of 200 - Valid Loss: 0.730195\n",
      "Worker:UT2hS - Epoch 20 of 200 - Valid Loss: 0.729694\n",
      "Worker:UT2hS - Epoch 21 of 200 - Valid Loss: 0.728252\n",
      "Worker:UT2hS - Epoch 22 of 200 - Valid Loss: 0.727324\n",
      "Worker:UT2hS - Epoch 23 of 200 - Valid Loss: 0.726941\n",
      "Worker:UT2hS - Epoch 24 of 200 - Valid Loss: 0.725985\n",
      "Worker:UT2hS - Epoch 25 of 200 - Valid Loss: 0.724144\n",
      "Worker:UT2hS - Epoch 26 of 200 - Valid Loss: 0.724495\n",
      "Worker:UT2hS - Epoch 27 of 200 - Valid Loss: 0.723993\n",
      "Worker:UT2hS - Epoch 28 of 200 - Valid Loss: 0.723551\n",
      "Worker:UT2hS - Epoch 29 of 200 - Valid Loss: 0.723837\n",
      "Worker:UT2hS - Epoch 30 of 200 - Valid Loss: 0.723229\n",
      "Worker:UT2hS - Epoch 31 of 200 - Valid Loss: 0.722268\n",
      "Worker:UT2hS - Epoch 32 of 200 - Valid Loss: 0.722462\n",
      "Worker:UT2hS - Epoch 33 of 200 - Valid Loss: 0.722293\n",
      "Worker:UT2hS - Epoch 34 of 200 - Valid Loss: 0.720683\n",
      "Worker:UT2hS - Epoch 35 of 200 - Valid Loss: 0.721025\n",
      "Worker:UT2hS - Epoch 36 of 200 - Valid Loss: 0.721357\n",
      "Worker:UT2hS - Epoch 37 of 200 - Valid Loss: 0.721189\n",
      "Worker:UT2hS - Epoch 38 of 200 - Valid Loss: 0.720639\n",
      "Worker:UT2hS - Epoch 39 of 200 - Valid Loss: 0.720242\n",
      "Worker:UT2hS - Epoch 40 of 200 - Valid Loss: 0.720832\n",
      "Worker:UT2hS - Epoch 41 of 200 - Valid Loss: 0.720485\n",
      "Worker:UT2hS - Epoch 42 of 200 - Valid Loss: 0.720597\n",
      "Worker:UT2hS - Epoch 43 of 200 - Valid Loss: 0.719641\n",
      "Worker:UT2hS - Epoch 44 of 200 - Valid Loss: 0.718830\n",
      "Worker:UT2hS - Epoch 45 of 200 - Valid Loss: 0.720172\n",
      "Worker:UT2hS - Epoch 46 of 200 - Valid Loss: 0.719238\n",
      "Worker:UT2hS - Epoch 47 of 200 - Valid Loss: 0.719974\n",
      "Worker:UT2hS - Epoch 48 of 200 - Valid Loss: 0.719042\n",
      "Worker:UT2hS - Epoch 49 of 200 - Valid Loss: 0.719544\n",
      "Worker:UT2hS - Epoch 50 of 200 - Valid Loss: 0.718955\n",
      "Worker:UT2hS - Epoch 51 of 200 - Valid Loss: 0.717977\n",
      "Worker:UT2hS - Epoch 52 of 200 - Valid Loss: 0.719101\n",
      "Worker:UT2hS - Epoch 53 of 200 - Valid Loss: 0.719057\n",
      "Worker:UT2hS - Epoch 54 of 200 - Valid Loss: 0.718635\n",
      "Worker:UT2hS - Epoch 55 of 200 - Valid Loss: 0.717446\n",
      "Worker:UT2hS - Epoch 56 of 200 - Valid Loss: 0.717409\n",
      "Worker:UT2hS - Epoch 57 of 200 - Valid Loss: 0.718632\n",
      "Worker:UT2hS - Epoch 58 of 200 - Valid Loss: 0.718370\n",
      "Worker:UT2hS - Epoch 59 of 200 - Valid Loss: 0.718283\n",
      "Worker:UT2hS - Epoch 60 of 200 - Valid Loss: 0.717593\n",
      "Worker:UT2hS - Epoch 61 of 200 - Valid Loss: 0.716716\n",
      "Worker:UT2hS - Epoch 62 of 200 - Valid Loss: 0.717916\n",
      "Worker:UT2hS - Epoch 63 of 200 - Valid Loss: 0.717332\n",
      "Worker:UT2hS - Epoch 64 of 200 - Valid Loss: 0.717246\n",
      "Worker:UT2hS - Epoch 65 of 200 - Valid Loss: 0.716609\n",
      "Worker:UT2hS - Epoch 66 of 200 - Valid Loss: 0.717110\n",
      "Worker:UT2hS - Epoch 67 of 200 - Valid Loss: 0.716952\n",
      "Worker:UT2hS - Epoch 68 of 200 - Valid Loss: 0.715330\n",
      "Worker:UT2hS - Epoch 69 of 200 - Valid Loss: 0.715207\n",
      "Worker:UT2hS - Epoch 70 of 200 - Valid Loss: 0.715829\n",
      "Worker:UT2hS - Epoch 71 of 200 - Valid Loss: 0.716179\n",
      "Worker:UT2hS - Epoch 72 of 200 - Valid Loss: 0.714726\n",
      "Worker:UT2hS - Epoch 73 of 200 - Valid Loss: 0.715807\n",
      "Worker:UT2hS - Epoch 74 of 200 - Valid Loss: 0.715191\n",
      "Worker:UT2hS - Epoch 75 of 200 - Valid Loss: 0.713357\n",
      "Worker:UT2hS - Epoch 76 of 200 - Valid Loss: 0.715280\n",
      "Worker:UT2hS - Epoch 77 of 200 - Valid Loss: 0.714532\n",
      "Worker:UT2hS - Epoch 78 of 200 - Valid Loss: 0.713455\n",
      "Worker:UT2hS - Epoch 79 of 200 - Valid Loss: 0.713715\n",
      "Worker:UT2hS - Epoch 80 of 200 - Valid Loss: 0.713610\n",
      "Worker:UT2hS - Epoch 81 of 200 - Valid Loss: 0.713476\n",
      "Worker:UT2hS - Epoch 82 of 200 - Valid Loss: 0.712009\n",
      "Worker:UT2hS - Epoch 83 of 200 - Valid Loss: 0.711662\n",
      "Worker:UT2hS - Epoch 84 of 200 - Valid Loss: 0.710149\n",
      "Worker:UT2hS - Epoch 85 of 200 - Valid Loss: 0.711676\n",
      "Worker:UT2hS - Epoch 86 of 200 - Valid Loss: 0.711494\n",
      "Worker:UT2hS - Epoch 87 of 200 - Valid Loss: 0.710801\n",
      "Worker:UT2hS - Epoch 88 of 200 - Valid Loss: 0.709651\n",
      "Worker:UT2hS - Epoch 89 of 200 - Valid Loss: 0.709580\n",
      "Worker:UT2hS - Epoch 90 of 200 - Valid Loss: 0.709330\n",
      "Worker:UT2hS - Epoch 91 of 200 - Valid Loss: 0.706332\n",
      "Worker:UT2hS - Epoch 92 of 200 - Valid Loss: 0.707112\n",
      "Worker:UT2hS - Epoch 93 of 200 - Valid Loss: 0.704129\n",
      "Worker:UT2hS - Epoch 94 of 200 - Valid Loss: 0.704920\n",
      "Worker:UT2hS - Epoch 95 of 200 - Valid Loss: 0.705158\n",
      "Worker:UT2hS - Epoch 96 of 200 - Valid Loss: 0.704225\n",
      "Worker:UT2hS - Epoch 97 of 200 - Valid Loss: 0.703510\n",
      "Worker:UT2hS - Epoch 98 of 200 - Valid Loss: 0.701254\n",
      "Worker:UT2hS - Epoch 99 of 200 - Valid Loss: 0.702353\n",
      "Worker:UT2hS - Epoch 100 of 200 - Valid Loss: 0.697814\n",
      "Worker:UT2hS - Epoch 101 of 200 - Valid Loss: 0.699839\n",
      "Worker:UT2hS - Epoch 102 of 200 - Valid Loss: 0.695710\n",
      "Worker:UT2hS - Epoch 103 of 200 - Valid Loss: 0.697369\n",
      "Worker:UT2hS - Epoch 104 of 200 - Valid Loss: 0.696376\n",
      "Worker:UT2hS - Epoch 105 of 200 - Valid Loss: 0.694808\n",
      "Worker:UT2hS - Epoch 106 of 200 - Valid Loss: 0.693553\n",
      "Worker:UT2hS - Epoch 107 of 200 - Valid Loss: 0.692727\n",
      "Worker:UT2hS - Epoch 108 of 200 - Valid Loss: 0.690993\n",
      "Worker:UT2hS - Epoch 109 of 200 - Valid Loss: 0.689082\n",
      "Worker:UT2hS - Epoch 110 of 200 - Valid Loss: 0.688523\n",
      "Worker:UT2hS - Epoch 111 of 200 - Valid Loss: 0.683333\n",
      "Worker:UT2hS - Epoch 112 of 200 - Valid Loss: 0.684946\n",
      "Worker:UT2hS - Epoch 113 of 200 - Valid Loss: 0.682484\n",
      "Worker:UT2hS - Epoch 114 of 200 - Valid Loss: 0.679251\n",
      "Worker:UT2hS - Epoch 115 of 200 - Valid Loss: 0.677410\n",
      "Worker:UT2hS - Epoch 116 of 200 - Valid Loss: 0.676107\n",
      "Worker:UT2hS - Epoch 117 of 200 - Valid Loss: 0.675823\n",
      "Worker:UT2hS - Epoch 118 of 200 - Valid Loss: 0.672703\n",
      "Worker:UT2hS - Epoch 119 of 200 - Valid Loss: 0.668818\n",
      "Worker:UT2hS - Epoch 120 of 200 - Valid Loss: 0.669160\n",
      "Worker:UT2hS - Epoch 121 of 200 - Valid Loss: 0.666425\n",
      "Worker:UT2hS - Epoch 122 of 200 - Valid Loss: 0.665456\n",
      "Worker:UT2hS - Epoch 123 of 200 - Valid Loss: 0.660254\n",
      "Worker:UT2hS - Epoch 124 of 200 - Valid Loss: 0.657934\n",
      "Worker:UT2hS - Epoch 125 of 200 - Valid Loss: 0.654565\n",
      "Worker:UT2hS - Epoch 126 of 200 - Valid Loss: 0.653955\n",
      "Worker:UT2hS - Epoch 127 of 200 - Valid Loss: 0.649187\n",
      "Worker:UT2hS - Epoch 128 of 200 - Valid Loss: 0.648808\n",
      "Worker:UT2hS - Epoch 129 of 200 - Valid Loss: 0.645637\n",
      "Worker:UT2hS - Epoch 130 of 200 - Valid Loss: 0.641481\n",
      "Worker:UT2hS - Epoch 131 of 200 - Valid Loss: 0.636587\n",
      "Worker:UT2hS - Epoch 132 of 200 - Valid Loss: 0.631899\n",
      "Worker:UT2hS - Epoch 133 of 200 - Valid Loss: 0.630631\n",
      "Worker:UT2hS - Epoch 134 of 200 - Valid Loss: 0.624023\n",
      "Worker:UT2hS - Epoch 135 of 200 - Valid Loss: 0.625579\n",
      "Worker:UT2hS - Epoch 136 of 200 - Valid Loss: 0.619799\n",
      "Worker:UT2hS - Epoch 137 of 200 - Valid Loss: 0.612242\n",
      "Worker:UT2hS - Epoch 138 of 200 - Valid Loss: 0.611962\n",
      "Worker:UT2hS - Epoch 139 of 200 - Valid Loss: 0.603897\n",
      "Worker:UT2hS - Epoch 140 of 200 - Valid Loss: 0.601876\n",
      "Worker:UT2hS - Epoch 141 of 200 - Valid Loss: 0.597160\n",
      "Worker:UT2hS - Epoch 142 of 200 - Valid Loss: 0.592303\n",
      "Worker:UT2hS - Epoch 143 of 200 - Valid Loss: 0.585415\n",
      "Worker:UT2hS - Epoch 144 of 200 - Valid Loss: 0.581265\n",
      "Worker:UT2hS - Epoch 145 of 200 - Valid Loss: 0.578145\n",
      "Worker:UT2hS - Epoch 146 of 200 - Valid Loss: 0.572941\n",
      "Worker:UT2hS - Epoch 147 of 200 - Valid Loss: 0.567787\n",
      "Worker:UT2hS - Epoch 148 of 200 - Valid Loss: 0.561941\n",
      "Worker:UT2hS - Epoch 149 of 200 - Valid Loss: 0.555369\n",
      "Worker:UT2hS - Epoch 150 of 200 - Valid Loss: 0.551749\n",
      "Worker:UT2hS - Epoch 151 of 200 - Valid Loss: 0.545342\n",
      "Worker:UT2hS - Epoch 152 of 200 - Valid Loss: 0.539633\n",
      "Worker:UT2hS - Epoch 153 of 200 - Valid Loss: 0.532596\n",
      "Worker:UT2hS - Epoch 154 of 200 - Valid Loss: 0.527315\n",
      "Worker:UT2hS - Epoch 155 of 200 - Valid Loss: 0.518770\n",
      "Worker:UT2hS - Epoch 156 of 200 - Valid Loss: 0.514656\n",
      "Worker:UT2hS - Epoch 157 of 200 - Valid Loss: 0.506554\n",
      "Worker:UT2hS - Epoch 158 of 200 - Valid Loss: 0.500246\n",
      "Worker:UT2hS - Epoch 159 of 200 - Valid Loss: 0.494091\n",
      "Worker:UT2hS - Epoch 160 of 200 - Valid Loss: 0.484940\n",
      "Worker:UT2hS - Epoch 161 of 200 - Valid Loss: 0.481268\n",
      "Worker:UT2hS - Epoch 162 of 200 - Valid Loss: 0.469619\n",
      "Worker:UT2hS - Epoch 163 of 200 - Valid Loss: 0.463097\n",
      "Worker:UT2hS - Epoch 164 of 200 - Valid Loss: 0.460660\n",
      "Worker:UT2hS - Epoch 165 of 200 - Valid Loss: 0.448549\n",
      "Worker:UT2hS - Epoch 166 of 200 - Valid Loss: 0.445072\n",
      "Worker:UT2hS - Epoch 167 of 200 - Valid Loss: 0.434678\n",
      "Worker:UT2hS - Epoch 168 of 200 - Valid Loss: 0.428523\n",
      "Worker:UT2hS - Epoch 169 of 200 - Valid Loss: 0.422866\n",
      "Worker:UT2hS - Epoch 170 of 200 - Valid Loss: 0.415900\n",
      "Worker:UT2hS - Epoch 171 of 200 - Valid Loss: 0.407141\n",
      "Worker:UT2hS - Epoch 172 of 200 - Valid Loss: 0.398472\n",
      "Worker:UT2hS - Epoch 173 of 200 - Valid Loss: 0.390412\n",
      "Worker:UT2hS - Epoch 174 of 200 - Valid Loss: 0.381183\n",
      "Worker:UT2hS - Epoch 175 of 200 - Valid Loss: 0.375366\n",
      "Worker:UT2hS - Epoch 176 of 200 - Valid Loss: 0.365326\n",
      "Worker:UT2hS - Epoch 177 of 200 - Valid Loss: 0.360663\n",
      "Worker:UT2hS - Epoch 178 of 200 - Valid Loss: 0.350995\n",
      "Worker:UT2hS - Epoch 179 of 200 - Valid Loss: 0.345807\n",
      "Worker:UT2hS - Epoch 180 of 200 - Valid Loss: 0.336011\n",
      "Worker:UT2hS - Epoch 181 of 200 - Valid Loss: 0.330395\n",
      "Worker:UT2hS - Epoch 182 of 200 - Valid Loss: 0.321842\n",
      "Worker:UT2hS - Epoch 183 of 200 - Valid Loss: 0.315989\n",
      "Worker:UT2hS - Epoch 184 of 200 - Valid Loss: 0.308837\n",
      "Worker:UT2hS - Epoch 185 of 200 - Valid Loss: 0.302217\n",
      "Worker:UT2hS - Epoch 186 of 200 - Valid Loss: 0.294970\n",
      "Worker:UT2hS - Epoch 187 of 200 - Valid Loss: 0.287669\n",
      "Worker:UT2hS - Epoch 188 of 200 - Valid Loss: 0.281346\n",
      "Worker:UT2hS - Epoch 189 of 200 - Valid Loss: 0.276066\n",
      "Worker:UT2hS - Epoch 190 of 200 - Valid Loss: 0.269234\n",
      "Worker:UT2hS - Epoch 191 of 200 - Valid Loss: 0.262683\n",
      "Worker:UT2hS - Epoch 192 of 200 - Valid Loss: 0.257027\n",
      "Worker:UT2hS - Epoch 193 of 200 - Valid Loss: 0.250016\n",
      "Worker:UT2hS - Epoch 194 of 200 - Valid Loss: 0.244344\n",
      "Worker:UT2hS - Epoch 195 of 200 - Valid Loss: 0.239856\n",
      "Worker:UT2hS - Epoch 196 of 200 - Valid Loss: 0.234623\n",
      "Worker:UT2hS - Epoch 197 of 200 - Valid Loss: 0.229406\n",
      "Worker:UT2hS - Epoch 198 of 200 - Valid Loss: 0.223717\n",
      "Worker:UT2hS - Epoch 199 of 200 - Valid Loss: 0.217915\n"
     ]
    }
   ],
   "source": [
    "input = np.array([[0,0],[0,1],[1,0],[1,1]])\n",
    "target = np.array([[0],[1],[1],[0]])\n",
    "\n",
    "model = Sequential()\n",
    "model.add(Dense(8, input_dim=2))\n",
    "model.add(Activation('tanh'))\n",
    "model.add(Dense(1))\n",
    "model.add(Activation('sigmoid'))\n",
    "\n",
    "sgd = SGD(lr=0.1)\n",
    "model.compile(loss='binary_crossentropy', optimizer=sgd)\n",
    "\n",
    "train_spec = g.fit(model,input,target,epochs=200,log_interval=10)"
   ]
  },
  {
   "cell_type": "code",
   "execution_count": 6,
   "metadata": {},
   "outputs": [
    {
     "data": {
      "text/plain": [
       "{'batch_size': 1,\n",
       " 'data_addr': 'QmRy2NX5y6LSynVS9DL9ZtJ51yV57CtVAQsLZyuqZ5AB9E',\n",
       " 'epochs': 200,\n",
       " 'framework': 'keras',\n",
       " 'log_interval': 10,\n",
       " 'model_addr': 'QmWaEog7SEb5LsVxzz1rgqmcwG9JxKimKmiJdkFYEfHdCN',\n",
       " 'train_channel': 'openmined_train_QmWaEog7SEb5LsVxzz1rgqmcwG9JxKimKmiJdkFYEfHdCN'}"
      ]
     },
     "execution_count": 6,
     "metadata": {},
     "output_type": "execute_result"
    }
   ],
   "source": [
    "train_spec"
   ]
  },
  {
   "cell_type": "code",
   "execution_count": 9,
   "metadata": {},
   "outputs": [
    {
     "name": "stdout",
     "output_type": "stream",
     "text": [
      "_________________________________________________________________\n",
      "Layer (type)                 Output Shape              Param #   \n",
      "=================================================================\n",
      "dense_5 (Dense)              (None, 8)                 24        \n",
      "_________________________________________________________________\n",
      "activation_5 (Activation)    (None, 8)                 0         \n",
      "_________________________________________________________________\n",
      "dense_6 (Dense)              (None, 1)                 9         \n",
      "_________________________________________________________________\n",
      "activation_6 (Activation)    (None, 1)                 0         \n",
      "=================================================================\n",
      "Total params: 33\n",
      "Trainable params: 33\n",
      "Non-trainable params: 0\n",
      "_________________________________________________________________\n"
     ]
    }
   ],
   "source": [
    "model.summary()"
   ]
  },
  {
   "cell_type": "code",
   "execution_count": null,
   "metadata": {
    "collapsed": true
   },
   "outputs": [],
   "source": []
  },
  {
   "cell_type": "code",
   "execution_count": null,
   "metadata": {
    "collapsed": true
   },
   "outputs": [],
   "source": []
  }
 ],
 "metadata": {
  "kernelspec": {
   "display_name": "Python 3",
   "language": "python",
   "name": "python3"
  },
  "language_info": {
   "codemirror_mode": {
    "name": "ipython",
    "version": 3
   },
   "file_extension": ".py",
   "mimetype": "text/x-python",
   "name": "python",
   "nbconvert_exporter": "python",
   "pygments_lexer": "ipython3",
   "version": "3.6.1"
  }
 },
 "nbformat": 4,
 "nbformat_minor": 2
}
