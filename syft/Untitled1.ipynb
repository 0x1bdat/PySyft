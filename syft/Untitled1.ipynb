{
 "cells": [
  {
   "cell_type": "code",
   "execution_count": 1,
   "metadata": {},
   "outputs": [],
   "source": [
    "import numpy as np"
   ]
  },
  {
   "cell_type": "code",
   "execution_count": 7,
   "metadata": {},
   "outputs": [],
   "source": [
    "HANDLED_FUNCTIONS = {}\n",
    "\n",
    "class MyArray(np.ndarray):\n",
    "    \n",
    "    defe __init__(self, *args, **kwargs)\n",
    "    \n",
    "    def __array_function__(self, func, types, args, kwargs):\n",
    "        if func not in HANDLED_FUNCTIONS:\n",
    "            return NotImplemented\n",
    "        # Note: this allows subclasses that don't override\n",
    "        # __array_function__ to handle MyArray objects\n",
    "        if not all(issubclass(t, MyArray) for t in types):\n",
    "            return NotImplemented\n",
    "        return HANDLED_FUNCTIONS[func](*args, **kwargs)\n",
    "\n",
    "def implements(numpy_function):\n",
    "    \"\"\"Register an __array_function__ implementation for MyArray objects.\"\"\"\n",
    "    def decorator(func):\n",
    "        HANDLED_FUNCTIONS[numpy_function] = func\n",
    "        return func\n",
    "    return decorator\n",
    "\n",
    "@implements(np.concatenate)\n",
    "def concatenate(arrays, axis=0, out=None):\n",
    "    ...  # implementation of concatenate for MyArray objects\n",
    "\n",
    "@implements(np.broadcast_to)\n",
    "def broadcast_to(array, shape):\n",
    "    ...  # implementation of broadcast_to for MyArray objects"
   ]
  },
  {
   "cell_type": "code",
   "execution_count": 10,
   "metadata": {},
   "outputs": [],
   "source": [
    "x = MyArray([1,2,3])"
   ]
  },
  {
   "cell_type": "code",
   "execution_count": 11,
   "metadata": {},
   "outputs": [
    {
     "data": {
      "text/plain": [
       "MyArray([[[1.72723371e-077, 1.72723371e-077, 1.48219694e-323],\n",
       "          [0.00000000e+000, 0.00000000e+000, 4.17201348e-309]]])"
      ]
     },
     "execution_count": 11,
     "metadata": {},
     "output_type": "execute_result"
    }
   ],
   "source": [
    "x"
   ]
  },
  {
   "cell_type": "code",
   "execution_count": null,
   "metadata": {},
   "outputs": [],
   "source": []
  }
 ],
 "metadata": {
  "kernelspec": {
   "display_name": "Python 3",
   "language": "python",
   "name": "python3"
  },
  "language_info": {
   "codemirror_mode": {
    "name": "ipython",
    "version": 3
   },
   "file_extension": ".py",
   "mimetype": "text/x-python",
   "name": "python",
   "nbconvert_exporter": "python",
   "pygments_lexer": "ipython3",
   "version": "3.6.10"
  }
 },
 "nbformat": 4,
 "nbformat_minor": 4
}
