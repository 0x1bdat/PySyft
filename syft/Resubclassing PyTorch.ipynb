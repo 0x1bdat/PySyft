{
 "cells": [
  {
   "cell_type": "code",
   "execution_count": 30,
   "metadata": {},
   "outputs": [],
   "source": [
    "import torch as th\n",
    "\n",
    "class RestrictedTorchTensor(th.Tensor):\n",
    "    \"\"\"A tensor class which returns a NotImplementedError for all methods which you do not\n",
    "    explicitly override.\"\"\"\n",
    "\n",
    "    def init(self, *args, **kwargs):\n",
    "        self.child = args[0]\n",
    "\n",
    "    def __init__(self, *args, **kwargs):\n",
    "        self.init(*args, **kwargs)\n",
    "\n",
    "    def set(self, **kwargs):\n",
    "        for name, value in kwargs.items():\n",
    "            try:\n",
    "                attr = self.__getattribute__(name)\n",
    "                self.__setattr__(name, value)\n",
    "            except Exception as e:\n",
    "                raise AttributeError(\n",
    "                    f\"Attribute '{name}' does not exist for tensor type {type(self)}\"\n",
    "                    )\n",
    "        return self\n",
    "\n",
    "    def __torch_function__(self, func, args=(), kwargs=None):\n",
    "        print(\"runnuing\")\n",
    "        \"\"\n",
    "        return execute_default_function_on_child_and_wrap(self, func, args,\n",
    "            kwargs)\n",
    "\n",
    "    def __add__(self, other):\n",
    "        result = self.child + other.child\n",
    "        wrapped_result = RestrictedTorchTensor(result.data)\n",
    "        wrapped_result.child = result\n",
    "        return wrapped_result\n"
   ]
  },
  {
   "cell_type": "code",
   "execution_count": 31,
   "metadata": {},
   "outputs": [],
   "source": [
    "result = RestrictedTorchTensor(th.tensor([1,2,3,4.,], requires_grad=True))\n",
    "\n",
    "x = RestrictedTorchTensor(result.data)\n",
    "x.child = result"
   ]
  },
  {
   "cell_type": "code",
   "execution_count": 32,
   "metadata": {},
   "outputs": [],
   "source": [
    "y = x + x"
   ]
  },
  {
   "cell_type": "code",
   "execution_count": 36,
   "metadata": {},
   "outputs": [],
   "source": [
    "y.child.child += 1"
   ]
  },
  {
   "cell_type": "code",
   "execution_count": null,
   "metadata": {},
   "outputs": [],
   "source": []
  },
  {
   "cell_type": "code",
   "execution_count": null,
   "metadata": {},
   "outputs": [],
   "source": []
  },
  {
   "cell_type": "code",
   "execution_count": 66,
   "metadata": {},
   "outputs": [
    {
     "data": {
      "text/plain": [
       "tensor([1., 2., 3., 4.])"
      ]
     },
     "execution_count": 66,
     "metadata": {},
     "output_type": "execute_result"
    }
   ],
   "source": [
    "x.backward(x)\n",
    "x.grad"
   ]
  },
  {
   "cell_type": "code",
   "execution_count": null,
   "metadata": {},
   "outputs": [],
   "source": []
  },
  {
   "cell_type": "code",
   "execution_count": null,
   "metadata": {},
   "outputs": [],
   "source": []
  }
 ],
 "metadata": {
  "kernelspec": {
   "display_name": "torch1.5kernel",
   "language": "python",
   "name": "torch1.5kernel"
  },
  "language_info": {
   "codemirror_mode": {
    "name": "ipython",
    "version": 3
   },
   "file_extension": ".py",
   "mimetype": "text/x-python",
   "name": "python",
   "nbconvert_exporter": "python",
   "pygments_lexer": "ipython3",
   "version": "3.6.10"
  }
 },
 "nbformat": 4,
 "nbformat_minor": 4
}
