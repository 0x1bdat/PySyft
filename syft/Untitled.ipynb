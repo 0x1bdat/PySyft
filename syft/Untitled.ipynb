{
 "cells": [
  {
   "cell_type": "code",
   "execution_count": 3,
   "metadata": {},
   "outputs": [
    {
     "name": "stdout",
     "output_type": "stream",
     "text": [
      "making abstract tensor\n",
      "adding\n"
     ]
    }
   ],
   "source": [
    "from syft._torch.tensor.abstract import AbstractTorchTensor\n",
    "import torch as th\n",
    "\n",
    "\n",
    "method_name = \"__add__\"\n",
    "x_ = th.tensor([[1, 2], [3, 4]])\n",
    "target = x_.__getattribute__(method_name)(x_)\n",
    "\n",
    "x = AbstractTorchTensor([[1, 2], [3, 4]])\n",
    "out = x.__getattribute__(method_name)(x)\n",
    "\n",
    "assert isinstance(target, th.Tensor)\n",
    "# assert isinstance(out, AbstractTorchTensor)\n",
    "# assert (out == target).all()"
   ]
  },
  {
   "cell_type": "code",
   "execution_count": 2,
   "metadata": {},
   "outputs": [
    {
     "data": {
      "text/plain": [
       "tensor([[2., 4.],\n",
       "        [6., 8.]])"
      ]
     },
     "execution_count": 2,
     "metadata": {},
     "output_type": "execute_result"
    }
   ],
   "source": [
    "type(out)"
   ]
  },
  {
   "cell_type": "code",
   "execution_count": null,
   "metadata": {},
   "outputs": [],
   "source": []
  }
 ],
 "metadata": {
  "kernelspec": {
   "display_name": "torch1.5kernel",
   "language": "python",
   "name": "torch1.5kernel"
  },
  "language_info": {
   "codemirror_mode": {
    "name": "ipython",
    "version": 3
   },
   "file_extension": ".py",
   "mimetype": "text/x-python",
   "name": "python",
   "nbconvert_exporter": "python",
   "pygments_lexer": "ipython3",
   "version": "3.6.10"
  }
 },
 "nbformat": 4,
 "nbformat_minor": 4
}
