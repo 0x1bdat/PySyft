{
    "cells": [
        {
            "cell_type": "code",
            "execution_count": 1,
            "metadata": {},
            "outputs": [],
            "source": [
                "import numpy as np\n",
                "import tensorflow as _tf\n",
                "from syft.tensor import tensorflow as tf",
            ],
        },
        {
            "cell_type": "markdown",
            "metadata": {},
            "source": [
                "# Tensorflow Eager Wishlist:\n",
                "\n",
                "- build something which feels like you're subclassing tensorflow even if you're not\n",
                "- GPU support\n",
                "- autograd support",
            ],
        },
        {
            "cell_type": "code",
            "execution_count": 49,
            "metadata": {},
            "outputs": [],
            "source": ["from astor import to_source\n", "import ast"],
        },
        {
            "cell_type": "markdown",
            "metadata": {},
            "source": [
                "## Custom Tensor Workflow\n",
                "\n",
                "1) Create a class that extends SyftTensor, which contains default method executions\n",
                "2) When we want to switch over",
            ],
        },
        {
            "cell_type": "markdown",
            "metadata": {},
            "source": [
                "## Compiler Workflow\n",
                "\n",
                "1) replace inheriting class with framework appropriate\n",
                "2) change method names based on chosen framework\n",
                "3) change method arg based on chosen framework\n",
            ],
        },
        {
            "cell_type": "code",
            "execution_count": 70,
            "metadata": {},
            "outputs": [],
            "source": [
                "class MyCustomTensor()\n",
                "\n",
                "    @pytorch\n",
                "    def __add__(self, other):\n",
                "        return self.matrix_multiply(other)\n",
                "\n",
                "    @tensorflow\n",
                "    def __add__(self, other):\n",
                "        return self.matrix_multiply(other)\n",
                "    \n",
                "    @numpy\n",
                "    def __add__(self, other):\n",
                "        return self.matrix_multiply(other)\n",
                "\n",
                "    def sum(self, dim):\n",
                "        return self.sum(dim)\n",
                "    \n",
                "    def __matmul__(self, other):\n",
                "        return self.__matmul__(other)",
            ],
        },
        {"cell_type": "code", "execution_count": null, "metadata": {}, "outputs": [], "source": []},
        {"cell_type": "code", "execution_count": null, "metadata": {}, "outputs": [], "source": []},
        {"cell_type": "code", "execution_count": null, "metadata": {}, "outputs": [], "source": []},
        {"cell_type": "code", "execution_count": null, "metadata": {}, "outputs": [], "source": []},
        {"cell_type": "code", "execution_count": null, "metadata": {}, "outputs": [], "source": []},
        {
            "cell_type": "code",
            "execution_count": null,
            "metadata": {},
            "outputs": [],
            "source": [
                "class PlaceHolderTensor(SyftTensor):\n",
                "    \n",
                "    def __add__(self, other):\n",
                '        trace.record("__add__", (self, other))\n',
                "        return self.child + other.child",
            ],
        },
        {"cell_type": "code", "execution_count": null, "metadata": {}, "outputs": [], "source": []},
        {
            "cell_type": "code",
            "execution_count": 69,
            "metadata": {},
            "outputs": [],
            "source": [
                "class SyftTensor():\n",
                "    \n",
                "    def __init__(self):\n",
                '        ""\n',
                "    \n",
                "    @chain_method\n",
                "    def __add__(self, other):\n",
                "        return self + other",
            ],
        },
        {
            "cell_type": "code",
            "execution_count": 62,
            "metadata": {},
            "outputs": [],
            "source": [
                'code = """\n',
                "class MyClass():\n",
                "    \n",
                "    def __init__(self):\n",
                '        ""\n',
                "    \n",
                "    def __add__(self, other):\n",
                "        return self.matrix_multiply(self, other)\n",
                '"""',
            ],
        },
        {
            "cell_type": "code",
            "execution_count": 63,
            "metadata": {},
            "outputs": [],
            "source": ["out = ast.parse(code)"],
        },
        {
            "cell_type": "code",
            "execution_count": 67,
            "metadata": {},
            "outputs": [
                {
                    "data": {"text/plain": ["<_ast.ClassDef at 0x7feb29521080>"]},
                    "execution_count": 67,
                    "metadata": {},
                    "output_type": "execute_result",
                }
            ],
            "source": ["cd = out.body[0]\n", "cd."],
        },
        {"cell_type": "code", "execution_count": null, "metadata": {}, "outputs": [], "source": []},
        {
            "cell_type": "code",
            "execution_count": 53,
            "metadata": {},
            "outputs": [
                {
                    "data": {"text/plain": ["\"print('hello world')\\n\""]},
                    "execution_count": 53,
                    "metadata": {},
                    "output_type": "execute_result",
                }
            ],
            "source": ["to_source(out)"],
        },
        {"cell_type": "code", "execution_count": null, "metadata": {}, "outputs": [], "source": []},
        {
            "cell_type": "code",
            "execution_count": 34,
            "metadata": {},
            "outputs": [],
            "source": ["import tensorflow as tf\n", "import torch as th"],
        },
        {"cell_type": "code", "execution_count": null, "metadata": {}, "outputs": [], "source": []},
        {
            "cell_type": "code",
            "execution_count": 36,
            "metadata": {},
            "outputs": [],
            "source": [
                "syft2tf = {}\n",
                "syft2tf['syft_matrix_multiply'] = \"__matmul__\"\n",
                "\n",
                "syft2torch = {}\n",
                "syft2torch['syft_matrix_multiply'] = \"mm\"\n",
                "\n",
                "frameworks = {}\n",
                "frameworks['tensorflow'] = (tf.Variable, syft2tf)\n",
                "frameworks['torch'] = (th.Tensor, syft2torch)\n",
                "\n",
                "class SyftTensor():\n",
                "    \n",
                '    def __init__(self, framework="tensorflow"):\n',
                "        self.framework = framework\n",
                "    \n",
                "    @property\n",
                "    def syft_matrix_multiply(self, other):\n",
                '        method_name = "syft_matrix_multiply"\n',
                "        func = getattr(*frameworks[self.framework][method_name])\n",
                "        return func\n",
                "\n",
                "    @property\n",
                "    def syft_add(self, other):\n",
                '        method_name = "__add__"\n',
                "    \n",
                "        func = getattr(*frameworks[self.framework][method_name])\n",
                "        \n",
                "        return func\n",
                "\n",
                "class EncryptedTensor(SyftTensor):\n",
                "    \n",
                "    def __init__(self):\n",
                '        ""\n',
                "    \n",
                "    def do_something(self, other):\n",
                "        x = self.syft_matrix_multiply(self, other)\n",
                "        y = x.syft_add(x)\n",
                "        return y\n",
            ],
        },
        {
            "cell_type": "code",
            "execution_count": 30,
            "metadata": {},
            "outputs": [],
            "source": ["import torch"],
        },
        {
            "cell_type": "code",
            "execution_count": 31,
            "metadata": {},
            "outputs": [
                {
                    "data": {
                        "text/plain": ["<method '__add__' of 'torch._C._TensorBase' objects>"]
                    },
                    "execution_count": 31,
                    "metadata": {},
                    "output_type": "execute_result",
                }
            ],
            "source": ["getattr(torch.Tensor,'__add__')"],
        },
        {"cell_type": "code", "execution_count": null, "metadata": {}, "outputs": [], "source": []},
        {
            "cell_type": "code",
            "execution_count": null,
            "metadata": {},
            "outputs": [],
            "source": [
                "class EncryptedTensorflowTensor():\n",
                "    \n",
                "    def __init__(self):\n",
                '        ""\n',
                "\n",
                "    def do_something(self, other):\n",
                "        return self.__matmul__(other)\n",
                "    \n",
                "\n",
                "class EncryptedPyTorchTensor():\n",
                "    \n",
                "    def __init__(self):\n",
                '        ""\n',
                "\n",
                "    def do_something(self, other):\n",
                "        return self.mm(other) ",
            ],
        },
        {"cell_type": "code", "execution_count": 20, "metadata": {}, "outputs": [], "source": []},
        {"cell_type": "code", "execution_count": 16, "metadata": {}, "outputs": [], "source": []},
        {
            "cell_type": "code",
            "execution_count": 17,
            "metadata": {},
            "outputs": [],
            "source": [
                "def convert_method_from_syft_to_tf(method):\n",
                "    \n",
                '    """logic here"""\n',
                "    \n",
                "    return new_method",
            ],
        },
        {
            "cell_type": "code",
            "execution_count": 18,
            "metadata": {},
            "outputs": [
                {
                    "ename": "NameError",
                    "evalue": "name 'new_method' is not defined",
                    "output_type": "error",
                    "traceback": [
                        "\u001b[0;31m---------------------------------------------------------------------------\u001b[0m",
                        "\u001b[0;31mNameError\u001b[0m                                 Traceback (most recent call last)",
                        "\u001b[0;32m<ipython-input-18-06cecb307c4a>\u001b[0m in \u001b[0;36m<module>\u001b[0;34m\u001b[0m\n\u001b[0;32m----> 1\u001b[0;31m \u001b[0mconvert_method_from_syft_to_tf\u001b[0m\u001b[0;34m(\u001b[0m\u001b[0mEncryptedTensor\u001b[0m\u001b[0;34m.\u001b[0m\u001b[0m__add__\u001b[0m\u001b[0;34m)\u001b[0m\u001b[0;34m\u001b[0m\u001b[0;34m\u001b[0m\u001b[0m\n\u001b[0m",
                        '\u001b[0;32m<ipython-input-17-7d5eba3a76f7>\u001b[0m in \u001b[0;36mconvert_method_from_syft_to_tf\u001b[0;34m(method)\u001b[0m\n\u001b[1;32m      3\u001b[0m     \u001b[0;34m"""logic here"""\u001b[0m\u001b[0;34m\u001b[0m\u001b[0;34m\u001b[0m\u001b[0m\n\u001b[1;32m      4\u001b[0m \u001b[0;34m\u001b[0m\u001b[0m\n\u001b[0;32m----> 5\u001b[0;31m     \u001b[0;32mreturn\u001b[0m \u001b[0mnew_method\u001b[0m\u001b[0;34m\u001b[0m\u001b[0;34m\u001b[0m\u001b[0m\n\u001b[0m',
                        "\u001b[0;31mNameError\u001b[0m: name 'new_method' is not defined",
                    ],
                }
            ],
            "source": ["convert_method_from_syft_to_tf(EncryptedTensor.__add__)"],
        },
        {"cell_type": "code", "execution_count": null, "metadata": {}, "outputs": [], "source": []},
        {"cell_type": "code", "execution_count": null, "metadata": {}, "outputs": [], "source": []},
        {"cell_type": "code", "execution_count": null, "metadata": {}, "outputs": [], "source": []},
        {"cell_type": "code", "execution_count": null, "metadata": {}, "outputs": [], "source": []},
        {"cell_type": "code", "execution_count": null, "metadata": {}, "outputs": [], "source": []},
        {
            "cell_type": "code",
            "execution_count": 2,
            "metadata": {},
            "outputs": [
                {
                    "data": {"text/plain": ["{}"]},
                    "execution_count": 2,
                    "metadata": {},
                    "output_type": "execute_result",
                }
            ],
            "source": ["tf.attributes.object_store"],
        },
        {"cell_type": "code", "execution_count": null, "metadata": {}, "outputs": [], "source": []},
        {"cell_type": "code", "execution_count": null, "metadata": {}, "outputs": [], "source": []},
        {
            "cell_type": "code",
            "execution_count": 3,
            "metadata": {},
            "outputs": [],
            "source": ["EagerTensor = type(_tf.constant([1,2,3]))"],
        },
        {
            "cell_type": "code",
            "execution_count": 4,
            "metadata": {},
            "outputs": [],
            "source": ["EagerTensor.old__init__ = EagerTensor.__init__"],
        },
        {
            "cell_type": "code",
            "execution_count": 5,
            "metadata": {},
            "outputs": [],
            "source": [
                "def __init__(self, *args, **kwargs):\n",
                '    print("initializing")\n',
                "    return EagerTensor.old__init__(self, *args, **kwargs)\n",
                "\n",
                "EagerTensor.__init__ = __init__",
            ],
        },
        {
            "cell_type": "code",
            "execution_count": 6,
            "metadata": {},
            "outputs": [{"name": "stdout", "output_type": "stream", "text": ["initializing\n"]}],
            "source": ["x = _tf.constant([1,2,3])"],
        },
        {
            "cell_type": "code",
            "execution_count": 7,
            "metadata": {},
            "outputs": [
                {
                    "data": {
                        "text/plain": [
                            "<tf.Tensor: shape=(3,), dtype=int32, numpy=array([1, 2, 3], dtype=int32)>"
                        ]
                    },
                    "execution_count": 7,
                    "metadata": {},
                    "output_type": "execute_result",
                }
            ],
            "source": ["x"],
        },
        {
            "cell_type": "code",
            "execution_count": 8,
            "metadata": {},
            "outputs": [],
            "source": ["y = x + x"],
        },
        {
            "cell_type": "code",
            "execution_count": 9,
            "metadata": {},
            "outputs": [
                {
                    "data": {"text/plain": ["tensorflow.python.framework.ops.EagerTensor"]},
                    "execution_count": 9,
                    "metadata": {},
                    "output_type": "execute_result",
                }
            ],
            "source": ["type(y)"],
        },
        {"cell_type": "code", "execution_count": null, "metadata": {}, "outputs": [], "source": []},
        {
            "cell_type": "code",
            "execution_count": 10,
            "metadata": {},
            "outputs": [
                {
                    "name": "stdout",
                    "output_type": "stream",
                    "text": [
                        "initializing\n",
                        "tf.Tensor([[200.]], shape=(1, 1), dtype=float32)\n",
                        "initializing\n",
                        "initializing\n",
                    ],
                }
            ],
            "source": [
                "w = _tf.Variable([[100.0]])\n",
                "with _tf.GradientTape() as tape:\n",
                "    y = w + w\n",
                "    print(y)\n",
                "    loss = y + y\n",
                "\n",
                "grad = tape.gradient(loss, w)",
            ],
        },
        {"cell_type": "code", "execution_count": null, "metadata": {}, "outputs": [], "source": []},
        {
            "cell_type": "code",
            "execution_count": 11,
            "metadata": {},
            "outputs": [
                {
                    "data": {
                        "text/plain": [
                            "<tf.Tensor: shape=(1, 1), dtype=float32, numpy=array([[400.]], dtype=float32)>"
                        ]
                    },
                    "execution_count": 11,
                    "metadata": {},
                    "output_type": "execute_result",
                }
            ],
            "source": ["loss"],
        },
        {
            "cell_type": "code",
            "execution_count": 12,
            "metadata": {},
            "outputs": [
                {
                    "data": {
                        "text/plain": [
                            "<tf.Tensor: shape=(1, 1), dtype=float32, numpy=array([[4.]], dtype=float32)>"
                        ]
                    },
                    "execution_count": 12,
                    "metadata": {},
                    "output_type": "execute_result",
                }
            ],
            "source": ["grad"],
        },
        {"cell_type": "code", "execution_count": null, "metadata": {}, "outputs": [], "source": []},
        {
            "cell_type": "code",
            "execution_count": 3,
            "metadata": {},
            "outputs": [],
            "source": [
                "# w = tf.Variable([[100.0]]).on(tf.MinusIsMultiplyTensor).on(tf.PlusIsMinusTensor)\n",
                "x_ = np.array([[1, 2], [3, 4]])\n",
                "x = tf.Variable(x_)#.on(tf.AbstractTensor)",
            ],
        },
        {
            "cell_type": "code",
            "execution_count": 4,
            "metadata": {},
            "outputs": [],
            "source": ["y = x + x"],
        },
        {
            "cell_type": "code",
            "execution_count": 5,
            "metadata": {},
            "outputs": [
                {
                    "data": {
                        "text/plain": [
                            "<tf.Tensor: shape=(2, 2), dtype=int64, numpy=\n",
                            "array([[2, 4],\n",
                            "       [6, 8]])>",
                        ]
                    },
                    "execution_count": 5,
                    "metadata": {},
                    "output_type": "execute_result",
                }
            ],
            "source": ["y"],
        },
        {"cell_type": "code", "execution_count": null, "metadata": {}, "outputs": [], "source": []},
        {
            "cell_type": "code",
            "execution_count": 12,
            "metadata": {},
            "outputs": [
                {
                    "ename": "NameError",
                    "evalue": "name 'tf' is not defined",
                    "output_type": "error",
                    "traceback": [
                        "\u001b[0;31m---------------------------------------------------------------------------\u001b[0m",
                        "\u001b[0;31mNameError\u001b[0m                                 Traceback (most recent call last)",
                        "\u001b[0;32m<ipython-input-12-bc14935e2935>\u001b[0m in \u001b[0;36m<module>\u001b[0;34m\u001b[0m\n\u001b[0;32m----> 1\u001b[0;31m \u001b[0mtf\u001b[0m\u001b[0;34m.\u001b[0m\u001b[0mattributes\u001b[0m\u001b[0;34m.\u001b[0m\u001b[0mobject_store\u001b[0m\u001b[0;34m\u001b[0m\u001b[0;34m\u001b[0m\u001b[0m\n\u001b[0m",
                        "\u001b[0;31mNameError\u001b[0m: name 'tf' is not defined",
                    ],
                }
            ],
            "source": ["tf.attributes.object_store"],
        },
        {
            "cell_type": "code",
            "execution_count": 5,
            "metadata": {},
            "outputs": [
                {
                    "name": "stdout",
                    "output_type": "stream",
                    "text": [
                        "creating result wrapper around:tf.Tensor(\n",
                        "[[2 4]\n",
                        " [6 8]], shape=(2, 2), dtype=int64)\n",
                        "Result Id:14\n",
                        "created result wrapper:<syft.tensor.tensorflow.abstract.AbstractTensor object at 0x7fbd28464cc0>\n",
                    ],
                }
            ],
            "source": ["y = x + x"],
        },
        {
            "cell_type": "code",
            "execution_count": 28,
            "metadata": {},
            "outputs": [
                {
                    "data": {
                        "text/plain": [
                            "<tf.Tensor: shape=(2, 2), dtype=int64, numpy=\n",
                            "array([[2, 4],\n",
                            "       [6, 8]])>",
                        ]
                    },
                    "execution_count": 28,
                    "metadata": {},
                    "output_type": "execute_result",
                }
            ],
            "source": ["y"],
        },
        {
            "cell_type": "code",
            "execution_count": 24,
            "metadata": {},
            "outputs": [
                {
                    "data": {
                        "text/plain": [
                            "<tf.Tensor: shape=(2, 2), dtype=int32, numpy=\n",
                            "array([[2, 4],\n",
                            "       [6, 8]], dtype=int32)>",
                        ]
                    },
                    "execution_count": 24,
                    "metadata": {},
                    "output_type": "execute_result",
                }
            ],
            "source": ["_tf.constant([[2,4],[6,8]])"],
        },
        {
            "cell_type": "code",
            "execution_count": 25,
            "metadata": {},
            "outputs": [
                {
                    "data": {
                        "text/plain": [
                            "{140450957125000: {'end': False,\n",
                            "  'child': <syft.tensor.tensorflow.abstract.AbstractTensor at 0x7fbd49686518>},\n",
                            " 7070133580906406508456322468669: {'end': False},\n",
                            " 1369217622948774742773766512678: {},\n",
                            " 14: {'child': <syft.tensor.tensorflow.abstract.AbstractTensor at 0x7fbd28464cc0>}}",
                        ]
                    },
                    "execution_count": 25,
                    "metadata": {},
                    "output_type": "execute_result",
                }
            ],
            "source": ["tf.attributes.object_store"],
        },
        {"cell_type": "code", "execution_count": null, "metadata": {}, "outputs": [], "source": []},
        {"cell_type": "code", "execution_count": null, "metadata": {}, "outputs": [], "source": []},
        {
            "cell_type": "code",
            "execution_count": null,
            "metadata": {},
            "outputs": [],
            "source": [
                "# class FixedPrecisionTensor(AbstractTorchTensor):\n",
                "#     def __init__(self, *args, **kwargs):\n",
                "#         super().__init__(*args, **kwargs)\n",
                "\n",
                "#         self.base = 10\n",
                "#         self.precision_fractional = 3\n",
                "\n",
                "#         self.data = self.data * self.scaling_factor\n",
                "\n",
                "#     @property\n",
                "#     def scaling_factor(self):\n",
                "#         return self.base ** self.precision_fractional\n",
                "\n",
                "\n",
                '# method_name = "__add__"\n',
                "\n",
                "# x_ = np.array([[1, 2], [3, 4]])\n",
                "# target = x_.__getattribute__(method_name)(x_)\n",
                "\n",
                "# x = tf.Variable(x_).on(tf.AbstractTensor)\n",
                "# out = x.__getattribute__(method_name)(x)\n",
                "\n",
                "# # assert isinstance(target, np.ndarray)\n",
                "# # assert isinstance(out.child, tf.AbstractTensor)\n",
                "# # assert (out.numpy() == target).all()",
            ],
        },
        {"cell_type": "code", "execution_count": null, "metadata": {}, "outputs": [], "source": []},
        {"cell_type": "code", "execution_count": null, "metadata": {}, "outputs": [], "source": []},
        {"cell_type": "code", "execution_count": null, "metadata": {}, "outputs": [], "source": []},
        {"cell_type": "code", "execution_count": null, "metadata": {}, "outputs": [], "source": []},
        {"cell_type": "code", "execution_count": 12, "metadata": {}, "outputs": [], "source": []},
        {
            "cell_type": "code",
            "execution_count": 16,
            "metadata": {},
            "outputs": [],
            "source": ["out = w@w"],
        },
        {
            "cell_type": "code",
            "execution_count": 17,
            "metadata": {},
            "outputs": [
                {
                    "data": {
                        "text/plain": [
                            "<tf.Tensor: shape=(1, 1), dtype=float32, numpy=array([[10000.]], dtype=float32)>"
                        ]
                    },
                    "execution_count": 17,
                    "metadata": {},
                    "output_type": "execute_result",
                }
            ],
            "source": ["out"],
        },
        {
            "cell_type": "code",
            "execution_count": 15,
            "metadata": {},
            "outputs": [
                {
                    "data": {
                        "text/plain": [
                            "<tf.Tensor: shape=(1, 1), dtype=float32, numpy=array([[200.]], dtype=float32)>"
                        ]
                    },
                    "execution_count": 15,
                    "metadata": {},
                    "output_type": "execute_result",
                }
            ],
            "source": ["w + w"],
        },
        {"cell_type": "code", "execution_count": null, "metadata": {}, "outputs": [], "source": []},
        {
            "cell_type": "code",
            "execution_count": 19,
            "metadata": {},
            "outputs": [
                {
                    "data": {
                        "text/plain": [
                            "<tf.Tensor: shape=(1, 1), dtype=float32, numpy=array([[4.]], dtype=float32)>"
                        ]
                    },
                    "execution_count": 19,
                    "metadata": {},
                    "output_type": "execute_result",
                }
            ],
            "source": ["grad"],
        },
        {
            "cell_type": "code",
            "execution_count": 4,
            "metadata": {},
            "outputs": [
                {
                    "data": {
                        "text/plain": [
                            "<tf.Tensor: shape=(1, 1), dtype=float32, numpy=array([[400.]], dtype=float32)>"
                        ]
                    },
                    "execution_count": 4,
                    "metadata": {},
                    "output_type": "execute_result",
                }
            ],
            "source": ["loss"],
        },
        {"cell_type": "code", "execution_count": null, "metadata": {}, "outputs": [], "source": []},
        {"cell_type": "code", "execution_count": null, "metadata": {}, "outputs": [], "source": []},
        {"cell_type": "code", "execution_count": null, "metadata": {}, "outputs": [], "source": []},
        {"cell_type": "code", "execution_count": null, "metadata": {}, "outputs": [], "source": []},
        {"cell_type": "code", "execution_count": null, "metadata": {}, "outputs": [], "source": []},
    ],
    "metadata": {
        "kernelspec": {"display_name": "Python 3", "language": "python", "name": "python3"},
        "language_info": {
            "codemirror_mode": {"name": "ipython", "version": 3},
            "file_extension": ".py",
            "mimetype": "text/x-python",
            "name": "python",
            "nbconvert_exporter": "python",
            "pygments_lexer": "ipython3",
            "version": "3.6.10",
        },
    },
    "nbformat": 4,
    "nbformat_minor": 4,
}
