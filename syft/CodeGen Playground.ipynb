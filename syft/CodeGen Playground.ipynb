{
 "cells": [
  {
   "cell_type": "code",
   "execution_count": 1,
   "metadata": {},
   "outputs": [],
   "source": [
    "# from syft import torch as th\n",
    "# from syft import numpy as np\n",
    "import torch as th\n",
    "from syft._torch.tensor import AbstractTensor"
   ]
  },
  {
   "cell_type": "code",
   "execution_count": 4,
   "metadata": {},
   "outputs": [],
   "source": [
    "x = AbstractTensor(AbstractTensor(th.tensor([[1],[2],[3],[4.,]], requires_grad=True)))\n",
    "# x = AbstractTensor(AbstractTensor(th.tensor([[[[1],[2],[3],[4.,]]]], requires_grad=True)))\n",
    "# x = AbstractTensor(AbstractTensor(th.tensor([[[[[[1],[2],[3],[4.,]]]]]], requires_grad=True)))\n",
    "y = x + x\n",
    "\n"
   ]
  },
  {
   "cell_type": "code",
   "execution_count": 3,
   "metadata": {},
   "outputs": [
    {
     "data": {
      "text/plain": [
       "'[AbstractTensor -> AbstractTensor -> tensor([[2.],\\n        [4.],\\n        [6.],\\n        [8.]], grad_fn=<AddBackward0>)]'"
      ]
     },
     "execution_count": 3,
     "metadata": {},
     "output_type": "execute_result"
    }
   ],
   "source": [
    "out = str(y)\n",
    "out"
   ]
  },
  {
   "cell_type": "code",
   "execution_count": null,
   "metadata": {},
   "outputs": [],
   "source": []
  },
  {
   "cell_type": "code",
   "execution_count": 4,
   "metadata": {},
   "outputs": [
    {
     "data": {
      "text/plain": [
       "False"
      ]
     },
     "execution_count": 4,
     "metadata": {},
     "output_type": "execute_result"
    }
   ],
   "source": [
    "type(x) == th.Tensor"
   ]
  },
  {
   "cell_type": "code",
   "execution_count": 4,
   "metadata": {},
   "outputs": [
    {
     "data": {
      "text/plain": [
       "[AbstractTensor -> [AbstractTensor -> tensor([1., 2., 3., 4.], requires_grad=True)]]"
      ]
     },
     "execution_count": 4,
     "metadata": {},
     "output_type": "execute_result"
    }
   ],
   "source": [
    "x"
   ]
  },
  {
   "cell_type": "code",
   "execution_count": 3,
   "metadata": {},
   "outputs": [
    {
     "data": {
      "text/plain": [
       "'AbstractTensor'"
      ]
     },
     "execution_count": 3,
     "metadata": {},
     "output_type": "execute_result"
    }
   ],
   "source": [
    "type(y).__name__"
   ]
  },
  {
   "cell_type": "code",
   "execution_count": 4,
   "metadata": {},
   "outputs": [
    {
     "data": {
      "text/plain": [
       "'[AbstractTensor -> AbstractTensor -> Tensor]'"
      ]
     },
     "execution_count": 4,
     "metadata": {},
     "output_type": "execute_result"
    }
   ],
   "source": [
    "str(x)"
   ]
  },
  {
   "cell_type": "code",
   "execution_count": 5,
   "metadata": {},
   "outputs": [
    {
     "data": {
      "text/plain": [
       "torch.Tensor"
      ]
     },
     "execution_count": 5,
     "metadata": {},
     "output_type": "execute_result"
    }
   ],
   "source": [
    "type(y)"
   ]
  },
  {
   "cell_type": "code",
   "execution_count": null,
   "metadata": {},
   "outputs": [],
   "source": []
  },
  {
   "cell_type": "code",
   "execution_count": 12,
   "metadata": {},
   "outputs": [
    {
     "ename": "IndexError",
     "evalue": "Dimension out of range (expected to be in range of [-1, 0], but got 1)",
     "output_type": "error",
     "traceback": [
      "\u001b[0;31m---------------------------------------------------------------------------\u001b[0m",
      "\u001b[0;31mIndexError\u001b[0m                                Traceback (most recent call last)",
      "\u001b[0;32m<ipython-input-12-656df5b4f6a3>\u001b[0m in \u001b[0;36m<module>\u001b[0;34m\u001b[0m\n\u001b[0;32m----> 1\u001b[0;31m \u001b[0my\u001b[0m \u001b[0;34m=\u001b[0m \u001b[0mx\u001b[0m\u001b[0;34m.\u001b[0m\u001b[0mmm\u001b[0m\u001b[0;34m(\u001b[0m\u001b[0mx\u001b[0m\u001b[0;34m)\u001b[0m\u001b[0;34m\u001b[0m\u001b[0;34m\u001b[0m\u001b[0m\n\u001b[0m\u001b[1;32m      2\u001b[0m \u001b[0my\u001b[0m\u001b[0;34m.\u001b[0m\u001b[0mbackward\u001b[0m\u001b[0;34m(\u001b[0m\u001b[0my\u001b[0m\u001b[0;34m)\u001b[0m\u001b[0;34m\u001b[0m\u001b[0;34m\u001b[0m\u001b[0m\n",
      "\u001b[0;31mIndexError\u001b[0m: Dimension out of range (expected to be in range of [-1, 0], but got 1)"
     ]
    }
   ],
   "source": [
    "y = x.mm(x)\n",
    "y.backward(y)"
   ]
  },
  {
   "cell_type": "code",
   "execution_count": null,
   "metadata": {},
   "outputs": [],
   "source": []
  },
  {
   "cell_type": "code",
   "execution_count": 23,
   "metadata": {},
   "outputs": [
    {
     "data": {
      "text/plain": [
       "tensor([[ 79., 137.],\n",
       "        [133., 241.]])"
      ]
     },
     "execution_count": 23,
     "metadata": {},
     "output_type": "execute_result"
    }
   ],
   "source": [
    "x.grad"
   ]
  },
  {
   "cell_type": "code",
   "execution_count": null,
   "metadata": {},
   "outputs": [],
   "source": []
  },
  {
   "cell_type": "code",
   "execution_count": 8,
   "metadata": {},
   "outputs": [
    {
     "data": {
      "text/plain": [
       "syft._torch.tensor.abstract.AbstractTorchTensor"
      ]
     },
     "execution_count": 8,
     "metadata": {},
     "output_type": "execute_result"
    }
   ],
   "source": [
    "type(x)"
   ]
  },
  {
   "cell_type": "code",
   "execution_count": null,
   "metadata": {},
   "outputs": [],
   "source": []
  },
  {
   "cell_type": "code",
   "execution_count": 12,
   "metadata": {},
   "outputs": [
    {
     "data": {
      "text/plain": [
       "tensor([1., 2., 3., 4.], requires_grad=True)"
      ]
     },
     "execution_count": 12,
     "metadata": {},
     "output_type": "execute_result"
    }
   ],
   "source": [
    "x.child"
   ]
  },
  {
   "cell_type": "code",
   "execution_count": null,
   "metadata": {},
   "outputs": [],
   "source": []
  },
  {
   "cell_type": "code",
   "execution_count": 13,
   "metadata": {},
   "outputs": [
    {
     "data": {
      "text/plain": [
       "tensor([2., 4., 6., 8.])"
      ]
     },
     "execution_count": 13,
     "metadata": {},
     "output_type": "execute_result"
    }
   ],
   "source": [
    "y"
   ]
  },
  {
   "cell_type": "code",
   "execution_count": 7,
   "metadata": {},
   "outputs": [],
   "source": [
    "x = th.tensor([1,2,3,4])"
   ]
  },
  {
   "cell_type": "code",
   "execution_count": 3,
   "metadata": {},
   "outputs": [
    {
     "data": {
      "text/plain": [
       "tensor([1, 2, 3, 4])"
      ]
     },
     "execution_count": 3,
     "metadata": {},
     "output_type": "execute_result"
    }
   ],
   "source": []
  },
  {
   "cell_type": "code",
   "execution_count": null,
   "metadata": {},
   "outputs": [],
   "source": []
  },
  {
   "cell_type": "code",
   "execution_count": null,
   "metadata": {},
   "outputs": [],
   "source": []
  },
  {
   "cell_type": "code",
   "execution_count": null,
   "metadata": {},
   "outputs": [],
   "source": []
  },
  {
   "cell_type": "code",
   "execution_count": null,
   "metadata": {},
   "outputs": [],
   "source": []
  },
  {
   "cell_type": "code",
   "execution_count": null,
   "metadata": {},
   "outputs": [],
   "source": []
  },
  {
   "cell_type": "code",
   "execution_count": null,
   "metadata": {},
   "outputs": [],
   "source": []
  },
  {
   "cell_type": "code",
   "execution_count": null,
   "metadata": {},
   "outputs": [],
   "source": []
  },
  {
   "cell_type": "code",
   "execution_count": null,
   "metadata": {},
   "outputs": [],
   "source": []
  },
  {
   "cell_type": "code",
   "execution_count": null,
   "metadata": {},
   "outputs": [],
   "source": []
  },
  {
   "cell_type": "code",
   "execution_count": null,
   "metadata": {},
   "outputs": [],
   "source": []
  },
  {
   "cell_type": "code",
   "execution_count": null,
   "metadata": {},
   "outputs": [],
   "source": []
  },
  {
   "cell_type": "code",
   "execution_count": null,
   "metadata": {},
   "outputs": [],
   "source": []
  },
  {
   "cell_type": "code",
   "execution_count": null,
   "metadata": {},
   "outputs": [],
   "source": []
  },
  {
   "cell_type": "code",
   "execution_count": null,
   "metadata": {},
   "outputs": [],
   "source": []
  },
  {
   "cell_type": "code",
   "execution_count": null,
   "metadata": {},
   "outputs": [],
   "source": []
  },
  {
   "cell_type": "code",
   "execution_count": null,
   "metadata": {},
   "outputs": [],
   "source": []
  },
  {
   "cell_type": "code",
   "execution_count": null,
   "metadata": {},
   "outputs": [],
   "source": []
  },
  {
   "cell_type": "code",
   "execution_count": null,
   "metadata": {},
   "outputs": [],
   "source": []
  },
  {
   "cell_type": "code",
   "execution_count": null,
   "metadata": {},
   "outputs": [],
   "source": []
  },
  {
   "cell_type": "code",
   "execution_count": null,
   "metadata": {},
   "outputs": [],
   "source": []
  },
  {
   "cell_type": "code",
   "execution_count": null,
   "metadata": {},
   "outputs": [],
   "source": []
  },
  {
   "cell_type": "code",
   "execution_count": null,
   "metadata": {},
   "outputs": [],
   "source": []
  },
  {
   "cell_type": "code",
   "execution_count": null,
   "metadata": {},
   "outputs": [],
   "source": []
  },
  {
   "cell_type": "code",
   "execution_count": null,
   "metadata": {},
   "outputs": [],
   "source": []
  },
  {
   "cell_type": "code",
   "execution_count": null,
   "metadata": {},
   "outputs": [],
   "source": []
  },
  {
   "cell_type": "code",
   "execution_count": null,
   "metadata": {},
   "outputs": [],
   "source": []
  },
  {
   "cell_type": "code",
   "execution_count": null,
   "metadata": {},
   "outputs": [],
   "source": []
  },
  {
   "cell_type": "code",
   "execution_count": null,
   "metadata": {},
   "outputs": [],
   "source": []
  },
  {
   "cell_type": "code",
   "execution_count": null,
   "metadata": {},
   "outputs": [],
   "source": []
  },
  {
   "cell_type": "code",
   "execution_count": null,
   "metadata": {},
   "outputs": [],
   "source": []
  },
  {
   "cell_type": "code",
   "execution_count": 52,
   "metadata": {},
   "outputs": [],
   "source": [
    "import importchecker"
   ]
  },
  {
   "cell_type": "code",
   "execution_count": 53,
   "metadata": {},
   "outputs": [
    {
     "data": {
      "text/plain": [
       "<module 'importchecker' from '/opt/miniconda3/envs/torch1.5/lib/python3.6/site-packages/importchecker/__init__.py'>"
      ]
     },
     "execution_count": 53,
     "metadata": {},
     "output_type": "execute_result"
    }
   ],
   "source": [
    "importchecker"
   ]
  },
  {
   "cell_type": "code",
   "execution_count": 54,
   "metadata": {},
   "outputs": [],
   "source": [
    "import tempfile"
   ]
  },
  {
   "cell_type": "code",
   "execution_count": 107,
   "metadata": {},
   "outputs": [],
   "source": [
    "f = open('/Users/atrask/Laboratory/openmined/PySyft/syft/_torch/tensor/abstract.py')\n",
    "output = f.read()\n",
    "f.close()"
   ]
  },
  {
   "cell_type": "code",
   "execution_count": 108,
   "metadata": {},
   "outputs": [],
   "source": [
    "from syft.generic.compiler.comment_overrides import unused_import_line_numbers"
   ]
  },
  {
   "cell_type": "code",
   "execution_count": 115,
   "metadata": {},
   "outputs": [],
   "source": []
  },
  {
   "cell_type": "code",
   "execution_count": 72,
   "metadata": {},
   "outputs": [
    {
     "ename": "TypeError",
     "evalue": "'_io.BufferedRandom' object is not callable",
     "output_type": "error",
     "traceback": [
      "\u001b[0;31m---------------------------------------------------------------------------\u001b[0m",
      "\u001b[0;31mTypeError\u001b[0m                                 Traceback (most recent call last)",
      "\u001b[0;32m<ipython-input-72-b919b4e368e6>\u001b[0m in \u001b[0;36m<module>\u001b[0;34m\u001b[0m\n\u001b[0;32m----> 1\u001b[0;31m \u001b[0mfile_name\u001b[0m\u001b[0;34m.\u001b[0m\u001b[0mfile\u001b[0m\u001b[0;34m(\u001b[0m\u001b[0moutput\u001b[0m\u001b[0;34m)\u001b[0m\u001b[0;34m\u001b[0m\u001b[0;34m\u001b[0m\u001b[0m\n\u001b[0m\u001b[1;32m      2\u001b[0m \u001b[0;34m\u001b[0m\u001b[0m\n\u001b[1;32m      3\u001b[0m \u001b[0mlines_to_remove\u001b[0m \u001b[0;34m=\u001b[0m \u001b[0munused_import_line_numbers\u001b[0m\u001b[0;34m(\u001b[0m\u001b[0mfile_name\u001b[0m\u001b[0;34m.\u001b[0m\u001b[0mname\u001b[0m\u001b[0;34m)\u001b[0m\u001b[0;34m\u001b[0m\u001b[0;34m\u001b[0m\u001b[0m\n\u001b[1;32m      4\u001b[0m \u001b[0;34m\u001b[0m\u001b[0m\n\u001b[1;32m      5\u001b[0m \u001b[0;34m\u001b[0m\u001b[0m\n",
      "\u001b[0;31mTypeError\u001b[0m: '_io.BufferedRandom' object is not callable"
     ]
    }
   ],
   "source": [
    "\n",
    "\n",
    "\n",
    "\n",
    "file_name.close()\n"
   ]
  },
  {
   "cell_type": "code",
   "execution_count": null,
   "metadata": {},
   "outputs": [],
   "source": []
  },
  {
   "cell_type": "code",
   "execution_count": null,
   "metadata": {},
   "outputs": [],
   "source": []
  },
  {
   "cell_type": "code",
   "execution_count": null,
   "metadata": {},
   "outputs": [],
   "source": []
  },
  {
   "cell_type": "code",
   "execution_count": 1,
   "metadata": {},
   "outputs": [
    {
     "name": "stdout",
     "output_type": "stream",
     "text": [
      "Generic (precision.py) -> Torch (syft/_torch/tensor/precision.py)\n",
      "Generic (abstract.py) -> Torch (syft/_torch/tensor/abstract.py)\n",
      "Generic (util.py) -> Torch (syft/_torch/tensor/util.py)\n",
      "Generic (restricted.py) -> Torch (syft/_torch/tensor/restricted.py)\n",
      "Generic (precision.py) -> Numpy (syft/_numpy/tensor/precision.py)\n",
      "Generic (abstract.py) -> Numpy (syft/_numpy/tensor/abstract.py)\n",
      "Generic (util.py) -> Numpy (syft/_numpy/tensor/util.py)\n",
      "Generic (restricted.py) -> Numpy (syft/_numpy/tensor/restricted.py)\n"
     ]
    }
   ],
   "source": [
    "import syft as sy\n",
    "from pprintast.pprintast import ppast\n",
    "\n",
    "sy.compile_torch()\n",
    "sy.compile_numpy()"
   ]
  },
  {
   "cell_type": "code",
   "execution_count": 2,
   "metadata": {},
   "outputs": [],
   "source": [
    "import ast\n",
    "\n",
    "from syft.generic import tensor\n",
    "\n",
    "from syft.generic.compiler.generic import get_complier_resources\n",
    "from syft.generic.compiler.util import write_ast_to_file\n",
    "from syft.generic.compiler.transformers.naming import SyftToFrameworkNameTransformer\n",
    "from syft.generic.compiler.transformers.framework_decorator import FrameworkSpecificMethodDecoratorFilter\n",
    "from syft.generic.compiler.transformers.handle_transformer import DecoratorAwareFrameworkHandleTransformer\n",
    "\n",
    "# generic tensor python files to compile into torch tensors\n",
    "compile_modules = list(set(dir(tensor)) - tensor.do_not_compile_modules)"
   ]
  },
  {
   "cell_type": "code",
   "execution_count": 3,
   "metadata": {},
   "outputs": [],
   "source": [
    "import numpy as np"
   ]
  },
  {
   "cell_type": "code",
   "execution_count": 4,
   "metadata": {},
   "outputs": [],
   "source": [
    "syft2framework2method = {}\n",
    "syft2framework2method['Torch'] = {}\n",
    "syft2framework2method['Numpy'] = {}\n",
    "\n",
    "syft2framework2method['Numpy']['mm'] = 'matmul'\n",
    "\n",
    "class SyftToFrameworkMethodNameConverter(ast.NodeTransformer):\n",
    "    \"\"\"This decorator searches through functions and methods looking\n",
    "    for occurrences of 'sy.' or 'syft.' and replaces them with the\n",
    "    handle for the appropriate framework.\n",
    "    \n",
    "    Note: This decorator should only be run AFTER \n",
    "    FrameworkSpecificMethodDecoratorFilter has been run.\n",
    "    \n",
    "    \"\"\"\n",
    "    \n",
    "    \n",
    "    def __init__(self, framework):\n",
    "        self.framework = framework\n",
    "\n",
    "        # change imports from Syft -> Framework\n",
    "    def visit_FunctionDef(self, node: ast.ImportFrom):\n",
    "#         print(node.args.defaults)\n",
    "#         print(node.args.kw_defaults)\n",
    "        for arg in node.args.defaults:\n",
    "            if(hasattr(arg, 'id')):\n",
    "                print(arg.id)\n",
    "                \n",
    "#             print(dir(arg))\n",
    "        return node\n"
   ]
  },
  {
   "cell_type": "code",
   "execution_count": 138,
   "metadata": {},
   "outputs": [
    {
     "name": "stdout",
     "output_type": "stream",
     "text": [
      "Generic (abstract.py) -> Torch (syft/_torch/tensor/abstract.py)\n",
      "<_ast.Tuple object at 0x7fcb2899e4e0>\n",
      "<_ast.NameConstant object at 0x7fcb2899e550>\n",
      "<_ast.NameConstant object at 0x7fcb0898ecf8>\n",
      "<_ast.Name object at 0x7fcb0898ec88>\n",
      "AbstractSyftTensor\n",
      "<_ast.NameConstant object at 0x7fcb48909048>\n",
      "<_ast.NameConstant object at 0x7fcb10861978>\n"
     ]
    }
   ],
   "source": [
    "\n",
    "\n",
    "module_name=\"abstract\"\n",
    "framework = \"Torch\"\n",
    "\n",
    "# Get Tensor AST and target folder\n",
    "tree, target_folder = get_complier_resources(tensor, module_name, framework)\n",
    "\n",
    "# Replace occurrences of \"Syft\"with \"Torch\"\n",
    "tree = SyftToFrameworkNameTransformer(framework).visit(tree)\n",
    "tree = FrameworkSpecificMethodDecoratorFilter(framework).visit(tree)\n",
    "tree = DecoratorAwareFrameworkHandleTransformer(framework).visit(tree)\n",
    "tree = SyftToFrameworkMethodNameConverter(framework).visit(tree)\n",
    "\n",
    "write_ast_to_file(tree, target_folder, module_name)"
   ]
  },
  {
   "cell_type": "code",
   "execution_count": 108,
   "metadata": {},
   "outputs": [
    {
     "name": "stdout",
     "output_type": "stream",
     "text": [
      "Module(body=[\n",
      "    ImportFrom(module='syft._torch.tensor.util', names=[\n",
      "        alias(name='override_torch_function', asname=None),\n",
      "      ], level=0),\n",
      "    ImportFrom(module='syft._torch.tensor.util', names=[\n",
      "        alias(name='torch_only', asname=None),\n",
      "      ], level=0),\n",
      "    ImportFrom(module='syft._torch.tensor.util', names=[\n",
      "        alias(name='numpy_only', asname=None),\n",
      "      ], level=0),\n",
      "    ImportFrom(module='syft._torch.tensor.restricted', names=[\n",
      "        alias(name='RestrictedTorchTensor', asname=None),\n",
      "      ], level=0),\n",
      "    Import(names=[\n",
      "        alias(name='syft', asname='sy'),\n",
      "      ]),\n",
      "    Import(names=[\n",
      "        alias(name='torch', asname='th'),\n",
      "      ]),\n",
      "    Import(names=[\n",
      "        alias(name='numpy', asname='np'),\n",
      "      ]),\n",
      "    Assign(targets=[\n",
      "        Name(id='HANDLED_FUNCTIONS_ABSTRACT', ctx=Store()),\n",
      "      ], value=Dict(keys=[], values=[])),\n",
      "    ClassDef(name='AbstractTorchTensor', bases=[\n",
      "        Name(id='RestrictedTorchTensor', ctx=Load()),\n",
      "      ], keywords=[], body=[\n",
      "        Expr(value=Str(s=\"A subclass of syft.Tensor which is necessary to extend Syft's ability\\n    to implement custom functions into an ability to also extend custom methods.\\n    This tensor type execute the same functionality as a normal th.Tensor, but you\\n    can subclass it more conveniently. When subclassed, all default PySyft functionality\\n    will be included.\\n\\n    >>> s = AbstractSyftTensor([[1, 1], [1, 1]])\\n    >>> torch.mm(s, s)\\n    0\\n    >>> t = syft.tensor([[1, 1], [1, 1]])\\n    >>> torch.mm(s, t)\\n    0\\n    >>> torch.mm(t, s)\\n    0\\n    >>> torch.mm(t, t)\\n    tensor([[2, 2],\\n            [2, 2]])\\n    This is useful for testing that the semantics for overriding syft\\n    functions are working correctly.\\n    \")),\n",
      "        FunctionDef(name='__init__', args=arguments(args=[\n",
      "            arg(arg='self', annotation=None),\n",
      "          ], vararg=arg(arg='args', annotation=None), kwonlyargs=[], kw_defaults=[], kwarg=arg(arg='kwargs', annotation=None), defaults=[]), body=[\n",
      "            Expr(value=Call(func=Name(id='print', ctx=Load()), args=[\n",
      "                Str(s='making abstract tensor'),\n",
      "              ], keywords=[])),\n",
      "            Assign(targets=[\n",
      "                Attribute(value=Name(id='self', ctx=Load()), attr='extra', ctx=Store()),\n",
      "              ], value=Str(s='some stuff')),\n",
      "            Assign(targets=[\n",
      "                Attribute(value=Name(id='self', ctx=Load()), attr='some_stuff', ctx=Store()),\n",
      "              ], value=Str(s='more stuff')),\n",
      "          ], decorator_list=[], returns=None),\n",
      "        FunctionDef(name='__torch_function__', args=arguments(args=[\n",
      "            arg(arg='self', annotation=None),\n",
      "            arg(arg='func', annotation=None),\n",
      "            arg(arg='args', annotation=None),\n",
      "            arg(arg='kwargs', annotation=None),\n",
      "          ], vararg=None, kwonlyargs=[], kw_defaults=[], kwarg=None, defaults=[\n",
      "            Tuple(elts=[], ctx=Load()),\n",
      "            NameConstant(value=None),\n",
      "          ]), body=[\n",
      "            If(test=Compare(left=Name(id='kwargs', ctx=Load()), ops=[\n",
      "                Is(),\n",
      "              ], comparators=[\n",
      "                NameConstant(value=None),\n",
      "              ]), body=[\n",
      "                Assign(targets=[\n",
      "                    Name(id='kwargs', ctx=Store()),\n",
      "                  ], value=Dict(keys=[], values=[])),\n",
      "              ], orelse=[]),\n",
      "            If(test=Compare(left=Name(id='func', ctx=Load()), ops=[\n",
      "                NotIn(),\n",
      "              ], comparators=[\n",
      "                Name(id='HANDLED_FUNCTIONS_ABSTRACT', ctx=Load()),\n",
      "              ]), body=[\n",
      "                Return(value=Name(id='NotImplemented', ctx=Load())),\n",
      "              ], orelse=[]),\n",
      "            Return(value=Call(func=Subscript(value=Name(id='HANDLED_FUNCTIONS_ABSTRACT', ctx=Load()), slice=Index(value=Name(id='func', ctx=Load())), ctx=Load()), args=[\n",
      "                Starred(value=Name(id='args', ctx=Load()), ctx=Load()),\n",
      "              ], keywords=[\n",
      "                keyword(arg=None, value=Name(id='kwargs', ctx=Load())),\n",
      "              ])),\n",
      "          ], decorator_list=[], returns=None),\n",
      "        FunctionDef(name='set', args=arguments(args=[\n",
      "            arg(arg='self', annotation=None),\n",
      "          ], vararg=None, kwonlyargs=[], kw_defaults=[], kwarg=arg(arg='kwargs', annotation=None), defaults=[]), body=[\n",
      "            For(target=Tuple(elts=[\n",
      "                Name(id='name', ctx=Store()),\n",
      "                Name(id='value', ctx=Store()),\n",
      "              ], ctx=Store()), iter=Call(func=Attribute(value=Name(id='kwargs', ctx=Load()), attr='items', ctx=Load()), args=[], keywords=[]), body=[\n",
      "                Try(body=[\n",
      "                    Assign(targets=[\n",
      "                        Name(id='attr', ctx=Store()),\n",
      "                      ], value=Call(func=Attribute(value=Name(id='self', ctx=Load()), attr='__getattribute__', ctx=Load()), args=[\n",
      "                        Name(id='name', ctx=Load()),\n",
      "                      ], keywords=[])),\n",
      "                    Expr(value=Call(func=Attribute(value=Name(id='self', ctx=Load()), attr='__setattr__', ctx=Load()), args=[\n",
      "                        Name(id='name', ctx=Load()),\n",
      "                        Name(id='value', ctx=Load()),\n",
      "                      ], keywords=[])),\n",
      "                  ], handlers=[\n",
      "                    ExceptHandler(type=Name(id='Exception', ctx=Load()), name='e', body=[\n",
      "                        Raise(exc=Call(func=Name(id='AttributeError', ctx=Load()), args=[\n",
      "                            JoinedStr(values=[\n",
      "                                Str(s=\"Attribute '\"),\n",
      "                                FormattedValue(value=Name(id='name', ctx=Load()), conversion=-1, format_spec=None),\n",
      "                                Str(s=\"' does not exist for tensor type \"),\n",
      "                                FormattedValue(value=Call(func=Name(id='type', ctx=Load()), args=[\n",
      "                                    Name(id='self', ctx=Load()),\n",
      "                                  ], keywords=[]), conversion=-1, format_spec=None),\n",
      "                              ]),\n",
      "                          ], keywords=[]), cause=None),\n",
      "                      ]),\n",
      "                  ], orelse=[], finalbody=[]),\n",
      "              ], orelse=[]),\n",
      "            Return(value=Name(id='self', ctx=Load())),\n",
      "          ], decorator_list=[], returns=None),\n",
      "        FunctionDef(name='mm', args=arguments(args=[\n",
      "            arg(arg='self', annotation=None),\n",
      "            arg(arg='other', annotation=None),\n",
      "          ], vararg=None, kwonlyargs=[], kw_defaults=[], kwarg=None, defaults=[]), body=[\n",
      "            Return(value=Call(func=Attribute(value=Name(id='th', ctx=Load()), attr='mm', ctx=Load()), args=[\n",
      "                Name(id='self', ctx=Load()),\n",
      "                Name(id='other', ctx=Load()),\n",
      "              ], keywords=[])),\n",
      "          ], decorator_list=[], returns=None),\n",
      "        FunctionDef(name='__matmul__', args=arguments(args=[\n",
      "            arg(arg='self', annotation=None),\n",
      "            arg(arg='other', annotation=None),\n",
      "          ], vararg=None, kwonlyargs=[], kw_defaults=[], kwarg=None, defaults=[]), body=[\n",
      "            Return(value=Call(func=Attribute(value=Name(id='th', ctx=Load()), attr='matmul', ctx=Load()), args=[\n",
      "                Name(id='self', ctx=Load()),\n",
      "                Name(id='other', ctx=Load()),\n",
      "              ], keywords=[])),\n",
      "          ], decorator_list=[], returns=None),\n",
      "        FunctionDef(name='dot', args=arguments(args=[\n",
      "            arg(arg='self', annotation=None),\n",
      "            arg(arg='other', annotation=None),\n",
      "          ], vararg=None, kwonlyargs=[], kw_defaults=[], kwarg=None, defaults=[]), body=[\n",
      "            Return(value=Call(func=Attribute(value=Name(id='th', ctx=Load()), attr='matmul', ctx=Load()), args=[\n",
      "                Name(id='self', ctx=Load()),\n",
      "                Name(id='other', ctx=Load()),\n",
      "              ], keywords=[])),\n",
      "          ], decorator_list=[], returns=None),\n",
      "        FunctionDef(name='__add__', args=arguments(args=[\n",
      "            arg(arg='self', annotation=None),\n",
      "            arg(arg='other', annotation=None),\n",
      "          ], vararg=None, kwonlyargs=[], kw_defaults=[], kwarg=None, defaults=[]), body=[\n",
      "            Return(value=Call(func=Attribute(value=Name(id='th', ctx=Load()), attr='add', ctx=Load()), args=[\n",
      "                Name(id='self', ctx=Load()),\n",
      "                Name(id='other', ctx=Load()),\n",
      "              ], keywords=[])),\n",
      "          ], decorator_list=[], returns=None),\n",
      "        FunctionDef(name='__radd__', args=arguments(args=[\n",
      "            arg(arg='self', annotation=None),\n",
      "            arg(arg='other', annotation=None),\n",
      "          ], vararg=None, kwonlyargs=[], kw_defaults=[], kwarg=None, defaults=[]), body=[\n",
      "            Return(value=Call(func=Attribute(value=Name(id='th', ctx=Load()), attr='add', ctx=Load()), args=[\n",
      "                Name(id='other', ctx=Load()),\n",
      "                Name(id='self', ctx=Load()),\n",
      "              ], keywords=[])),\n",
      "          ], decorator_list=[], returns=None),\n",
      "        FunctionDef(name='__iadd__', args=arguments(args=[\n",
      "            arg(arg='self', annotation=None),\n",
      "            arg(arg='other', annotation=None),\n",
      "          ], vararg=None, kwonlyargs=[], kw_defaults=[], kwarg=None, defaults=[]), body=[\n",
      "            Return(value=Call(func=Attribute(value=Name(id='th', ctx=Load()), attr='add', ctx=Load()), args=[\n",
      "                Name(id='self', ctx=Load()),\n",
      "                Name(id='other', ctx=Load()),\n",
      "              ], keywords=[\n",
      "                keyword(arg='out', value=Tuple(elts=[\n",
      "                    Name(id='self', ctx=Load()),\n",
      "                  ], ctx=Load())),\n",
      "              ])),\n",
      "          ], decorator_list=[], returns=None),\n",
      "      ], decorator_list=[]),\n",
      "    FunctionDef(name='method_argument_pre_process', args=arguments(args=[\n",
      "        arg(arg='x', annotation=None),\n",
      "      ], vararg=None, kwonlyargs=[], kw_defaults=[], kwarg=None, defaults=[]), body=[\n",
      "        Return(value=Attribute(value=Name(id='x', ctx=Load()), attr='data', ctx=Load())),\n",
      "      ], decorator_list=[], returns=None),\n",
      "    FunctionDef(name='method_return_post_process', args=arguments(args=[\n",
      "        arg(arg='result', annotation=None),\n",
      "        arg(arg='out', annotation=None),\n",
      "        arg(arg='obj_type', annotation=None),\n",
      "      ], vararg=None, kwonlyargs=[], kw_defaults=[], kwarg=None, defaults=[\n",
      "        NameConstant(value=None),\n",
      "        Name(id='AbstractSyftTensor', ctx=Load()),\n",
      "      ]), body=[\n",
      "        If(test=Compare(left=Name(id='out', ctx=Load()), ops=[\n",
      "            Is(),\n",
      "          ], comparators=[\n",
      "            NameConstant(value=None),\n",
      "          ]), body=[\n",
      "            Return(value=Call(func=Name(id='obj_type', ctx=Load()), args=[\n",
      "                Name(id='result', ctx=Load()),\n",
      "              ], keywords=[])),\n",
      "          ], orelse=[\n",
      "            Expr(value=Call(func=Attribute(value=Attribute(value=Name(id='out', ctx=Load()), attr='data', ctx=Load()), attr='set_', ctx=Load()), args=[\n",
      "                Name(id='result', ctx=Load()),\n",
      "              ], keywords=[])),\n",
      "          ]),\n",
      "        Return(value=Name(id='out', ctx=Load())),\n",
      "      ], decorator_list=[], returns=None),\n",
      "    FunctionDef(name='abstract_mm', args=arguments(args=[\n",
      "        arg(arg='input', annotation=None),\n",
      "        arg(arg='other', annotation=None),\n",
      "        arg(arg='out', annotation=None),\n",
      "      ], vararg=None, kwonlyargs=[], kw_defaults=[], kwarg=None, defaults=[\n",
      "        NameConstant(value=None),\n",
      "      ]), body=[\n",
      "        Assign(targets=[\n",
      "            Name(id='input_data', ctx=Store()),\n",
      "          ], value=Call(func=Name(id='method_argument_pre_process', ctx=Load()), args=[\n",
      "            Name(id='input', ctx=Load()),\n",
      "          ], keywords=[])),\n",
      "        Assign(targets=[\n",
      "            Name(id='other_data', ctx=Store()),\n",
      "          ], value=Call(func=Name(id='method_argument_pre_process', ctx=Load()), args=[\n",
      "            Name(id='other', ctx=Load()),\n",
      "          ], keywords=[])),\n",
      "        Assign(targets=[\n",
      "            Name(id='result', ctx=Store()),\n",
      "          ], value=Call(func=Attribute(value=Name(id='th', ctx=Load()), attr='mm', ctx=Load()), args=[\n",
      "            Name(id='input_data', ctx=Load()),\n",
      "            Name(id='other_data', ctx=Load()),\n",
      "          ], keywords=[])),\n",
      "        Return(value=Call(func=Name(id='method_return_post_process', ctx=Load()), args=[], keywords=[\n",
      "            keyword(arg='result', value=Name(id='result', ctx=Load())),\n",
      "            keyword(arg='out', value=Name(id='out', ctx=Load())),\n",
      "            keyword(arg='obj_type', value=Call(func=Name(id='type', ctx=Load()), args=[\n",
      "                Name(id='input', ctx=Load()),\n",
      "              ], keywords=[])),\n",
      "          ])),\n",
      "      ], decorator_list=[\n",
      "        Call(func=Name(id='override_torch_function', ctx=Load()), args=[\n",
      "            Attribute(value=Name(id='th', ctx=Load()), attr='mm', ctx=Load()),\n",
      "            Name(id='HANDLED_FUNCTIONS_ABSTRACT', ctx=Load()),\n",
      "          ], keywords=[]),\n",
      "      ], returns=None),\n",
      "    FunctionDef(name='abstract_add', args=arguments(args=[\n",
      "        arg(arg='input', annotation=None),\n",
      "        arg(arg='other', annotation=None),\n",
      "        arg(arg='out', annotation=None),\n",
      "      ], vararg=None, kwonlyargs=[], kw_defaults=[], kwarg=None, defaults=[\n",
      "        NameConstant(value=None),\n",
      "      ]), body=[\n",
      "        Assign(targets=[\n",
      "            Name(id='result', ctx=Store()),\n",
      "          ], value=Call(func=Attribute(value=Name(id='th', ctx=Load()), attr='add', ctx=Load()), args=[\n",
      "            Attribute(value=Name(id='input', ctx=Load()), attr='data', ctx=Load()),\n",
      "            Attribute(value=Name(id='other', ctx=Load()), attr='data', ctx=Load()),\n",
      "          ], keywords=[])),\n",
      "        If(test=Compare(left=Name(id='out', ctx=Load()), ops=[\n",
      "            Is(),\n",
      "          ], comparators=[\n",
      "            NameConstant(value=None),\n",
      "          ]), body=[\n",
      "            Assign(targets=[\n",
      "                Name(id='result', ctx=Store()),\n",
      "              ], value=Call(func=Name(id='AbstractTorchTensor'), args=[\n",
      "                Name(id='result', ctx=Load()),\n",
      "              ], keywords=[])),\n",
      "          ], orelse=[\n",
      "            Expr(value=Call(func=Attribute(value=Attribute(value=Name(id='out', ctx=Load()), attr='data', ctx=Load()), attr='set_', ctx=Load()), args=[\n",
      "                Name(id='result', ctx=Load()),\n",
      "              ], keywords=[])),\n",
      "          ]),\n",
      "        Return(value=Name(id='result', ctx=Load())),\n",
      "      ], decorator_list=[\n",
      "        Call(func=Name(id='override_torch_function', ctx=Load()), args=[\n",
      "            Attribute(value=Name(id='th', ctx=Load()), attr='add', ctx=Load()),\n",
      "            Name(id='HANDLED_FUNCTIONS_ABSTRACT', ctx=Load()),\n",
      "          ], keywords=[]),\n",
      "      ], returns=None),\n",
      "  ])\n"
     ]
    }
   ],
   "source": [
    "\n",
    "ppast(tree)"
   ]
  },
  {
   "cell_type": "code",
   "execution_count": 2,
   "metadata": {},
   "outputs": [
    {
     "ename": "NameError",
     "evalue": "name 'ast' is not defined",
     "output_type": "error",
     "traceback": [
      "\u001b[0;31m---------------------------------------------------------------------------\u001b[0m",
      "\u001b[0;31mNameError\u001b[0m                                 Traceback (most recent call last)",
      "\u001b[0;32m<ipython-input-2-8d29dafaa5bc>\u001b[0m in \u001b[0;36m<module>\u001b[0;34m\u001b[0m\n\u001b[0;32m----> 1\u001b[0;31m \u001b[0;32mclass\u001b[0m \u001b[0mDecoratorAwareMethodContentTransformer\u001b[0m\u001b[0;34m(\u001b[0m\u001b[0mast\u001b[0m\u001b[0;34m.\u001b[0m\u001b[0mNodeTransformer\u001b[0m\u001b[0;34m)\u001b[0m\u001b[0;34m:\u001b[0m\u001b[0;34m\u001b[0m\u001b[0;34m\u001b[0m\u001b[0m\n\u001b[0m\u001b[1;32m      2\u001b[0m \u001b[0;34m\u001b[0m\u001b[0m\n\u001b[1;32m      3\u001b[0m     \u001b[0;32mdef\u001b[0m \u001b[0m__init__\u001b[0m\u001b[0;34m(\u001b[0m\u001b[0mself\u001b[0m\u001b[0;34m,\u001b[0m \u001b[0mframework\u001b[0m\u001b[0;34m)\u001b[0m\u001b[0;34m:\u001b[0m\u001b[0;34m\u001b[0m\u001b[0;34m\u001b[0m\u001b[0m\n\u001b[1;32m      4\u001b[0m         \u001b[0mself\u001b[0m\u001b[0;34m.\u001b[0m\u001b[0mframework\u001b[0m \u001b[0;34m=\u001b[0m \u001b[0mframework\u001b[0m\u001b[0;34m\u001b[0m\u001b[0;34m\u001b[0m\u001b[0m\n\u001b[1;32m      5\u001b[0m \u001b[0;34m\u001b[0m\u001b[0m\n",
      "\u001b[0;31mNameError\u001b[0m: name 'ast' is not defined"
     ]
    }
   ],
   "source": []
  },
  {
   "cell_type": "code",
   "execution_count": 40,
   "metadata": {},
   "outputs": [],
   "source": [
    "import ast\n",
    "\n"
   ]
  },
  {
   "cell_type": "code",
   "execution_count": null,
   "metadata": {},
   "outputs": [],
   "source": []
  },
  {
   "cell_type": "code",
   "execution_count": null,
   "metadata": {},
   "outputs": [],
   "source": []
  },
  {
   "cell_type": "code",
   "execution_count": null,
   "metadata": {},
   "outputs": [],
   "source": []
  },
  {
   "cell_type": "code",
   "execution_count": null,
   "metadata": {},
   "outputs": [],
   "source": []
  },
  {
   "cell_type": "code",
   "execution_count": null,
   "metadata": {},
   "outputs": [],
   "source": []
  },
  {
   "cell_type": "code",
   "execution_count": null,
   "metadata": {},
   "outputs": [],
   "source": []
  },
  {
   "cell_type": "code",
   "execution_count": null,
   "metadata": {},
   "outputs": [],
   "source": []
  },
  {
   "cell_type": "code",
   "execution_count": null,
   "metadata": {},
   "outputs": [],
   "source": []
  },
  {
   "cell_type": "code",
   "execution_count": null,
   "metadata": {},
   "outputs": [],
   "source": []
  },
  {
   "cell_type": "code",
   "execution_count": null,
   "metadata": {},
   "outputs": [],
   "source": []
  },
  {
   "cell_type": "code",
   "execution_count": null,
   "metadata": {},
   "outputs": [],
   "source": []
  },
  {
   "cell_type": "code",
   "execution_count": null,
   "metadata": {},
   "outputs": [],
   "source": []
  },
  {
   "cell_type": "code",
   "execution_count": null,
   "metadata": {},
   "outputs": [],
   "source": []
  },
  {
   "cell_type": "code",
   "execution_count": null,
   "metadata": {},
   "outputs": [],
   "source": []
  },
  {
   "cell_type": "code",
   "execution_count": null,
   "metadata": {},
   "outputs": [],
   "source": []
  },
  {
   "cell_type": "code",
   "execution_count": null,
   "metadata": {},
   "outputs": [],
   "source": []
  },
  {
   "cell_type": "code",
   "execution_count": null,
   "metadata": {},
   "outputs": [],
   "source": []
  },
  {
   "cell_type": "code",
   "execution_count": 22,
   "metadata": {},
   "outputs": [
    {
     "name": "stdout",
     "output_type": "stream",
     "text": [
      "making abstract tensor\n"
     ]
    }
   ],
   "source": [
    "\n",
    "x = th.FixedPrecisionTensor([[1,2],[3,4]]).set(extra=\"high five\")"
   ]
  },
  {
   "cell_type": "code",
   "execution_count": 17,
   "metadata": {},
   "outputs": [
    {
     "data": {
      "text/plain": [
       "tensor([[1000., 2000.],\n",
       "        [3000., 4000.]])"
      ]
     },
     "execution_count": 17,
     "metadata": {},
     "output_type": "execute_result"
    }
   ],
   "source": [
    "x"
   ]
  },
  {
   "cell_type": "code",
   "execution_count": 18,
   "metadata": {},
   "outputs": [
    {
     "data": {
      "text/plain": [
       "'high five'"
      ]
     },
     "execution_count": 18,
     "metadata": {},
     "output_type": "execute_result"
    }
   ],
   "source": [
    "x.extra"
   ]
  },
  {
   "cell_type": "code",
   "execution_count": 19,
   "metadata": {},
   "outputs": [
    {
     "data": {
      "text/plain": [
       "3"
      ]
     },
     "execution_count": 19,
     "metadata": {},
     "output_type": "execute_result"
    }
   ],
   "source": [
    "x.precision_fractional"
   ]
  },
  {
   "cell_type": "code",
   "execution_count": 20,
   "metadata": {},
   "outputs": [
    {
     "data": {
      "text/plain": [
       "10"
      ]
     },
     "execution_count": 20,
     "metadata": {},
     "output_type": "execute_result"
    }
   ],
   "source": [
    "x.base"
   ]
  },
  {
   "cell_type": "code",
   "execution_count": null,
   "metadata": {},
   "outputs": [],
   "source": []
  },
  {
   "cell_type": "code",
   "execution_count": null,
   "metadata": {},
   "outputs": [],
   "source": [
    "# th.tensor([1,2,3]).fix_precision(asdfasdfajsf)"
   ]
  },
  {
   "cell_type": "code",
   "execution_count": 4,
   "metadata": {},
   "outputs": [
    {
     "data": {
      "text/plain": [
       "NoneType"
      ]
     },
     "execution_count": 4,
     "metadata": {},
     "output_type": "execute_result"
    }
   ],
   "source": [
    "type(x)"
   ]
  },
  {
   "cell_type": "code",
   "execution_count": 5,
   "metadata": {},
   "outputs": [
    {
     "data": {
      "text/plain": [
       "getset_descriptor"
      ]
     },
     "execution_count": 5,
     "metadata": {},
     "output_type": "execute_result"
    }
   ],
   "source": [
    "type(x.data)"
   ]
  },
  {
   "cell_type": "code",
   "execution_count": null,
   "metadata": {},
   "outputs": [],
   "source": []
  },
  {
   "cell_type": "code",
   "execution_count": 2,
   "metadata": {},
   "outputs": [
    {
     "data": {
      "text/plain": [
       "tensor([[1., 2.],\n",
       "        [3., 4.]])"
      ]
     },
     "execution_count": 2,
     "metadata": {},
     "output_type": "execute_result"
    }
   ],
   "source": [
    "x"
   ]
  },
  {
   "cell_type": "code",
   "execution_count": null,
   "metadata": {},
   "outputs": [],
   "source": []
  },
  {
   "cell_type": "code",
   "execution_count": 15,
   "metadata": {},
   "outputs": [],
   "source": [
    "import torch as th"
   ]
  },
  {
   "cell_type": "code",
   "execution_count": 23,
   "metadata": {},
   "outputs": [],
   "source": [
    "setattr(th.Tensor, \"hey\", \"ho\")"
   ]
  },
  {
   "cell_type": "code",
   "execution_count": 24,
   "metadata": {},
   "outputs": [],
   "source": [
    "x = th.Tensor([1,2,3])"
   ]
  },
  {
   "cell_type": "code",
   "execution_count": 25,
   "metadata": {},
   "outputs": [
    {
     "data": {
      "text/plain": [
       "'ho'"
      ]
     },
     "execution_count": 25,
     "metadata": {},
     "output_type": "execute_result"
    }
   ],
   "source": [
    "x.hey"
   ]
  },
  {
   "cell_type": "code",
   "execution_count": 8,
   "metadata": {},
   "outputs": [
    {
     "data": {
      "text/plain": [
       "tensor([[2., 4.],\n",
       "        [6., 8.]])"
      ]
     },
     "execution_count": 8,
     "metadata": {},
     "output_type": "execute_result"
    }
   ],
   "source": [
    "out"
   ]
  },
  {
   "cell_type": "code",
   "execution_count": 3,
   "metadata": {},
   "outputs": [
    {
     "name": "stdout",
     "output_type": "stream",
     "text": [
      "making subtensor\n"
     ]
    }
   ],
   "source": []
  },
  {
   "cell_type": "code",
   "execution_count": 4,
   "metadata": {},
   "outputs": [
    {
     "data": {
      "text/plain": [
       "syft.tensor.abstract.AbstractTensor"
      ]
     },
     "execution_count": 4,
     "metadata": {},
     "output_type": "execute_result"
    }
   ],
   "source": []
  },
  {
   "cell_type": "code",
   "execution_count": 5,
   "metadata": {},
   "outputs": [
    {
     "data": {
      "text/plain": [
       "tensor([[ 7., 10.],\n",
       "        [15., 22.]])"
      ]
     },
     "execution_count": 5,
     "metadata": {},
     "output_type": "execute_result"
    }
   ],
   "source": [
    "out"
   ]
  },
  {
   "cell_type": "code",
   "execution_count": 6,
   "metadata": {},
   "outputs": [
    {
     "name": "stdout",
     "output_type": "stream",
     "text": [
      "making subtensor\n"
     ]
    },
    {
     "data": {
      "text/plain": [
       "tensor([[2., 4.],\n",
       "        [6., 8.]])"
      ]
     },
     "execution_count": 6,
     "metadata": {},
     "output_type": "execute_result"
    }
   ],
   "source": [
    "x + x"
   ]
  },
  {
   "cell_type": "code",
   "execution_count": null,
   "metadata": {},
   "outputs": [],
   "source": []
  }
 ],
 "metadata": {
  "kernelspec": {
   "display_name": "torch1.5kernel",
   "language": "python",
   "name": "torch1.5kernel"
  },
  "language_info": {
   "codemirror_mode": {
    "name": "ipython",
    "version": 3
   },
   "file_extension": ".py",
   "mimetype": "text/x-python",
   "name": "python",
   "nbconvert_exporter": "python",
   "pygments_lexer": "ipython3",
   "version": "3.6.10"
  }
 },
 "nbformat": 4,
 "nbformat_minor": 4
}
