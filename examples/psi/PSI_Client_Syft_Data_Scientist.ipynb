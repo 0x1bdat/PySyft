{
 "cells": [
  {
   "cell_type": "code",
   "execution_count": null,
   "metadata": {},
   "outputs": [],
   "source": [
    "%%capture\n",
    "!pip install openmined_psi"
   ]
  },
  {
   "cell_type": "code",
   "execution_count": null,
   "metadata": {},
   "outputs": [],
   "source": [
    "import syft as sy\n",
    "duet = sy.join_duet(loopback=True)"
   ]
  },
  {
   "cell_type": "code",
   "execution_count": null,
   "metadata": {},
   "outputs": [],
   "source": [
    "import openmined_psi as psi"
   ]
  },
  {
   "cell_type": "code",
   "execution_count": null,
   "metadata": {},
   "outputs": [],
   "source": [
    "duet.store.pandas"
   ]
  },
  {
   "cell_type": "code",
   "execution_count": null,
   "metadata": {},
   "outputs": [],
   "source": [
    "# from: https://github.com/OpenMined/PSI/blob/master/private_set_intersection/python/tests.py"
   ]
  },
  {
   "cell_type": "code",
   "execution_count": null,
   "metadata": {},
   "outputs": [],
   "source": [
    "reveal_intersection_ptr = duet.store[\"reveal_intersection\"]"
   ]
  },
  {
   "cell_type": "code",
   "execution_count": null,
   "metadata": {},
   "outputs": [],
   "source": [
    "reveal_intersection = reveal_intersection_ptr.get(\n",
    "    request_block=True,\n",
    "    name=\"reveal_intersection\",\n",
    "    reason=\"Are we revealing or not?\",\n",
    "    timeout_secs=10,\n",
    "    delete_obj=False\n",
    ")\n",
    "reveal_intersection"
   ]
  },
  {
   "cell_type": "code",
   "execution_count": null,
   "metadata": {},
   "outputs": [],
   "source": [
    "c = psi.client.CreateWithNewKey(reveal_intersection)\n",
    "c"
   ]
  },
  {
   "cell_type": "code",
   "execution_count": null,
   "metadata": {},
   "outputs": [],
   "source": [
    "client_items = [\"Element \" + str(i) for i in range(1000)]"
   ]
  },
  {
   "cell_type": "code",
   "execution_count": null,
   "metadata": {},
   "outputs": [],
   "source": [
    "# this lets us access the static methods on the static class for now\n",
    "server_ptr = duet.openmined_psi.server()"
   ]
  },
  {
   "cell_type": "code",
   "execution_count": null,
   "metadata": {},
   "outputs": [],
   "source": [
    "s_ptr = server_ptr.CreateWithNewKey(reveal_intersection_ptr)\n",
    "s_ptr"
   ]
  },
  {
   "cell_type": "code",
   "execution_count": null,
   "metadata": {},
   "outputs": [],
   "source": [
    "server_items_ptr = duet.store[\"server_items\"]\n",
    "server_items_ptr"
   ]
  },
  {
   "cell_type": "code",
   "execution_count": null,
   "metadata": {},
   "outputs": [],
   "source": [
    "fpr = 1.0 / (1000000000)\n",
    "setup_ptr = s_ptr.CreateSetupMessage(fpr, len(client_items), server_items_ptr)"
   ]
  },
  {
   "cell_type": "code",
   "execution_count": null,
   "metadata": {},
   "outputs": [],
   "source": [
    "request = c.CreateRequest(client_items)\n",
    "# TODO: make openmined_psi.proto_request serializable\n",
    "request_ptr = request.send(duet)"
   ]
  },
  {
   "cell_type": "code",
   "execution_count": null,
   "metadata": {},
   "outputs": [],
   "source": [
    "resp_ptr = s.ProcessRequest(request_ptr)"
   ]
  },
  {
   "cell_type": "code",
   "execution_count": null,
   "metadata": {},
   "outputs": [],
   "source": [
    "# TODO make openmined_psi.proto_response serializable\n",
    "resp = resp_ptr.get(\n",
    "    request_block=True,\n",
    "    name=\"reponse\",\n",
    "    reason=\"To get the result\",\n",
    "    timeout_secs=10,\n",
    ")"
   ]
  },
  {
   "cell_type": "code",
   "execution_count": null,
   "metadata": {},
   "outputs": [],
   "source": [
    "if reveal_intersection:\n",
    "    intersection = c.GetIntersection(setup, resp)\n",
    "    iset = set(intersection)\n",
    "    for idx in range(len(client_items)):\n",
    "        if idx % 2 == 0:\n",
    "            assert idx in iset\n",
    "        else:\n",
    "            assert idx not in iset"
   ]
  },
  {
   "cell_type": "code",
   "execution_count": null,
   "metadata": {},
   "outputs": [],
   "source": [
    "if not reveal_intersection:\n",
    "    intersection = c.GetIntersectionSize(setup, resp)\n",
    "    assert intersection >= (len(client_items) / 2.0)\n",
    "    assert intersection <= (1.1 * len(client_items) / 2.0)"
   ]
  },
  {
   "cell_type": "code",
   "execution_count": null,
   "metadata": {},
   "outputs": [],
   "source": [
    "duet.store.pandas"
   ]
  }
 ],
 "metadata": {
  "kernelspec": {
   "display_name": "Python 3",
   "language": "python",
   "name": "python3"
  },
  "language_info": {
   "codemirror_mode": {
    "name": "ipython",
    "version": 3
   },
   "file_extension": ".py",
   "mimetype": "text/x-python",
   "name": "python",
   "nbconvert_exporter": "python",
   "pygments_lexer": "ipython3",
   "version": "3.7.8"
  }
 },
 "nbformat": 4,
 "nbformat_minor": 4
}
