{
 "cells": [
  {
   "cell_type": "markdown",
   "metadata": {},
   "source": [
    "# MNIST Syft Data Scientist"
   ]
  },
  {
   "cell_type": "code",
   "execution_count": 1,
   "metadata": {},
   "outputs": [],
   "source": [
    "import syft as sy\n",
    "sy.LOG_FILE = \"syft_ds.log\"\n",
    "_ = sy.logger.add(sy.LOG_FILE, enqueue=True, colorize=False, diagnose=True, backtrace=True, level=\"TRACE\")"
   ]
  },
  {
   "cell_type": "markdown",
   "metadata": {},
   "source": [
    "# PART 1: Connect to a Remote Duet Server\n",
    "\n",
    "As the data scientist, you want to perform data science on data that is sitting in the Data Owner's Duet server (in their Notebook).\n",
    "\n",
    "In order to do this, we must run the code that the Data Owner sends us, which importantly includes their Duet Session ID. This will create a direct connection from my notebook to the remote Duet server. Once the connection is established all traffic is sent directly between the two nodes.\n",
    "\n",
    "Let's run the code below and follow the instructions it gives."
   ]
  },
  {
   "cell_type": "code",
   "execution_count": 2,
   "metadata": {},
   "outputs": [
    {
     "name": "stdout",
     "output_type": "stream",
     "text": [
      "🎤  🎸  ♪♪♪ joining duet ♫♫♫  🎻  🎹\n",
      "\n",
      "♫♫♫ >\u001b[93m DISCLAIMER\u001b[0m:\u001b[1m Duet is an experimental feature currently \n",
      "♫♫♫ > in alpha. Do not use this to protect real-world data.\n",
      "\u001b[0m♫♫♫ >\n",
      "♫♫♫ > Punching through firewall to OpenGrid Network Node at: http://localhost:5000\n",
      "♫♫♫ > http://localhost:5000\n",
      "♫♫♫ >\n",
      "♫♫♫ > ...waiting for response from OpenGrid Network... id {\n",
      "  value: \"\\\"\\274\\326\\326i~@\\340\\236\\262\\003\\010H7\\032\\265\"\n",
      "}\n",
      "name: \"om-net\"\n",
      "node {\n",
      "  id {\n",
      "    value: \"\\\"\\274\\326\\326i~@\\340\\236\\262\\003\\010H7\\032\\265\"\n",
      "  }\n",
      "  name: \"om-net\"\n",
      "}\n",
      "\n",
      "\u001b[92mDONE!\u001b[0m\n",
      "\n",
      "♫♫♫ > Duet Client ID: \u001b[1m4c8225d3ee54bc9940d9896becac057b\u001b[0m\n",
      "\n",
      "♫♫♫ > \u001b[95mSTEP 1:\u001b[0m Send the Duet Client ID to your duet partner!\n",
      "\n",
      "♫♫♫ > ...waiting for partner to connect...\n",
      "♫♫♫ > ...using a running event loop...\n"
     ]
    },
    {
     "name": "stderr",
     "output_type": "stream",
     "text": [
      "2020-10-31 18:55:58.706 | CRITICAL | syft.grid.connections.webrtc:heartbeat:562 - Joiner PQ: 0 / 0 - CQ: 0 / 0\n"
     ]
    },
    {
     "name": "stdout",
     "output_type": "stream",
     "text": [
      "Joiner PQ: 0 / 0 - CQ: 0 / 0\n"
     ]
    },
    {
     "name": "stderr",
     "output_type": "stream",
     "text": [
      "2020-10-31 18:56:03.712 | CRITICAL | syft.grid.connections.webrtc:heartbeat:562 - Joiner PQ: 0 / 0 - CQ: 0 / 0\n"
     ]
    },
    {
     "name": "stdout",
     "output_type": "stream",
     "text": [
      "Joiner PQ: 0 / 0 - CQ: 0 / 0\n",
      "\n",
      "♫♫♫ > \u001b[92mCONNECTED!\u001b[0m\n"
     ]
    },
    {
     "name": "stderr",
     "output_type": "stream",
     "text": [
      "2020-10-31 18:56:08.717 | CRITICAL | syft.grid.connections.webrtc:heartbeat:562 - Joiner PQ: 0 / 0 - CQ: 0 / 0\n"
     ]
    },
    {
     "name": "stdout",
     "output_type": "stream",
     "text": [
      "Joiner PQ: 0 / 0 - CQ: 0 / 0\n"
     ]
    },
    {
     "name": "stderr",
     "output_type": "stream",
     "text": [
      "2020-10-31 18:56:13.722 | CRITICAL | syft.grid.connections.webrtc:heartbeat:562 - Joiner PQ: 0 / 0 - CQ: 0 / 0\n"
     ]
    },
    {
     "name": "stdout",
     "output_type": "stream",
     "text": [
      "Joiner PQ: 0 / 0 - CQ: 0 / 0\n"
     ]
    },
    {
     "name": "stderr",
     "output_type": "stream",
     "text": [
      "2020-10-31 18:56:18.728 | CRITICAL | syft.grid.connections.webrtc:heartbeat:562 - Joiner PQ: 0 / 0 - CQ: 0 / 0\n"
     ]
    },
    {
     "name": "stdout",
     "output_type": "stream",
     "text": [
      "Joiner PQ: 0 / 0 - CQ: 0 / 0\n"
     ]
    }
   ],
   "source": [
    "#duet = sy.join_duet(network_url=\"http://localhost:5000\")\n",
    "duet = sy.join_duet(network_url=\"http://localhost:5000\", loopback=True)"
   ]
  },
  {
   "cell_type": "markdown",
   "metadata": {},
   "source": [
    "# PART 2: Launch a Duet Server and Connect"
   ]
  },
  {
   "cell_type": "code",
   "execution_count": 3,
   "metadata": {},
   "outputs": [
    {
     "data": {
      "text/html": [
       "<div>\n",
       "<style scoped>\n",
       "    .dataframe tbody tr th:only-of-type {\n",
       "        vertical-align: middle;\n",
       "    }\n",
       "\n",
       "    .dataframe tbody tr th {\n",
       "        vertical-align: top;\n",
       "    }\n",
       "\n",
       "    .dataframe thead th {\n",
       "        text-align: right;\n",
       "    }\n",
       "</style>\n",
       "<table border=\"1\" class=\"dataframe\">\n",
       "  <thead>\n",
       "    <tr style=\"text-align: right;\">\n",
       "      <th></th>\n",
       "      <th>ID</th>\n",
       "      <th>Tags</th>\n",
       "      <th>Description</th>\n",
       "    </tr>\n",
       "  </thead>\n",
       "  <tbody>\n",
       "    <tr>\n",
       "      <th>0</th>\n",
       "      <td>&lt;UID:ccf02189-b13a-4cc5-8d3f-eb1bd42e7ec8&gt;</td>\n",
       "      <td>[#age_data]</td>\n",
       "      <td>This is a list of people's ages. Let's keep it...</td>\n",
       "    </tr>\n",
       "  </tbody>\n",
       "</table>\n",
       "</div>"
      ],
      "text/plain": [
       "                                           ID         Tags  \\\n",
       "0  <UID:ccf02189-b13a-4cc5-8d3f-eb1bd42e7ec8>  [#age_data]   \n",
       "\n",
       "                                         Description  \n",
       "0  This is a list of people's ages. Let's keep it...  "
      ]
     },
     "execution_count": 3,
     "metadata": {},
     "output_type": "execute_result"
    }
   ],
   "source": [
    "duet.store.pandas"
   ]
  },
  {
   "cell_type": "code",
   "execution_count": 4,
   "metadata": {},
   "outputs": [
    {
     "name": "stdout",
     "output_type": "stream",
     "text": [
      "<syft.proxy.syft.lib.python.IntPointer object at 0x140a94820>\n"
     ]
    }
   ],
   "source": [
    "x = duet.syft.lib.python.Int(1)\n",
    "print(x)"
   ]
  },
  {
   "cell_type": "code",
   "execution_count": 5,
   "metadata": {},
   "outputs": [
    {
     "name": "stderr",
     "output_type": "stream",
     "text": [
      "2020-10-31 18:56:22.840 | CRITICAL | __main__:<module>:1 - Start requesting\n"
     ]
    },
    {
     "name": "stdout",
     "output_type": "stream",
     "text": [
      "\n",
      "> Waiting for Blocking Request\n",
      "age_data: I want to see the age data.\n",
      "<UID:b0272382-d190-4444-896f-00fc1a4233bd>\n",
      "\n",
      "> INSIDE Request BLOCK 0.0 seconds False\n"
     ]
    },
    {
     "name": "stderr",
     "output_type": "stream",
     "text": [
      "2020-10-31 18:56:24.512 | CRITICAL | syft.grid.connections.webrtc:heartbeat:562 - Joiner PQ: 0 / 0 - CQ: 0 / 0\n"
     ]
    },
    {
     "name": "stdout",
     "output_type": "stream",
     "text": [
      ".\n",
      "> INSIDE Request BLOCK 1.0618739128112793 seconds False\n",
      "Joiner PQ: 0 / 0 - CQ: 0 / 0\n",
      "\n",
      "> Blocking Request ACCEPTED\n"
     ]
    },
    {
     "name": "stderr",
     "output_type": "stream",
     "text": [
      "2020-10-31 18:56:30.153 | CRITICAL | __main__:<module>:10 - Finished requesting\n"
     ]
    },
    {
     "name": "stdout",
     "output_type": "stream",
     "text": [
      "CPU times: user 5.05 s, sys: 382 ms, total: 5.44 s\n",
      "Wall time: 7.32 s\n"
     ]
    }
   ],
   "source": [
    "%%time\n",
    "sy.logger.critical(\"Start requesting\")\n",
    "if len(duet.store) > 0:\n",
    "    t = duet.store[0].get(\n",
    "        request_block=True,\n",
    "        timeout_secs=15,\n",
    "        request_name=\"age_data\",\n",
    "        reason=\"I want to see the age data\",\n",
    "        delete_obj=False\n",
    "    )\n",
    "    sy.logger.critical(\"Finished requesting\")"
   ]
  },
  {
   "cell_type": "code",
   "execution_count": 6,
   "metadata": {},
   "outputs": [
    {
     "name": "stderr",
     "output_type": "stream",
     "text": [
      "2020-10-31 18:56:30.160 | CRITICAL | syft.grid.connections.webrtc:heartbeat:562 - Joiner PQ: 0 / 0 - CQ: 0 / 0\n"
     ]
    },
    {
     "name": "stdout",
     "output_type": "stream",
     "text": [
      "Joiner PQ: 0 / 0 - CQ: 0 / 0\n"
     ]
    }
   ],
   "source": [
    "# print(t)"
   ]
  },
  {
   "cell_type": "code",
   "execution_count": 7,
   "metadata": {},
   "outputs": [],
   "source": [
    "# lets get some references to our data owners Duet torch and torchvision\n",
    "torch = duet.torch\n",
    "torchvision = duet.torchvision\n",
    "\n",
    "# these are the same as the original mnist example\n",
    "transforms = torchvision.transforms\n",
    "datasets = torchvision.datasets\n",
    "nn = torch.nn\n",
    "F = torch.nn.functional\n",
    "optim = torch.optim\n",
    "StepLR = torch.optim.lr_scheduler.StepLR"
   ]
  },
  {
   "cell_type": "code",
   "execution_count": 8,
   "metadata": {},
   "outputs": [],
   "source": [
    "import torch as th\n",
    "import torchvision as tv"
   ]
  },
  {
   "cell_type": "code",
   "execution_count": 9,
   "metadata": {},
   "outputs": [],
   "source": [
    "# we need some transforms for our MNIST data set\n",
    "local_transform_1 = tv.transforms.ToTensor()  # this converts PIL images to Tensors\n",
    "local_transform_2 = tv.transforms.Normalize(0.1307, 0.3081)  # this normalizes the dataset\n",
    "\n",
    "# compose our transforms\n",
    "local_transforms = tv.transforms.Compose([local_transform_1, local_transform_2])"
   ]
  },
  {
   "cell_type": "code",
   "execution_count": 10,
   "metadata": {},
   "outputs": [],
   "source": [
    "# Training settings from original MNIST example command line args\n",
    "args = {\n",
    "    \"batch_size\": 64,\n",
    "    \"test_batch_size\": 1000,\n",
    "    \"epochs\": 14,\n",
    "    \"lr\": 1.0,\n",
    "    \"gamma\": 0.7,\n",
    "    \"no_cuda\": False,\n",
    "    \"dry_run\": False,\n",
    "    \"seed\": 42, # the meaning of life\n",
    "    \"log_interval\": 10,\n",
    "    \"save_model\": False,\n",
    "}"
   ]
  },
  {
   "cell_type": "code",
   "execution_count": 11,
   "metadata": {},
   "outputs": [],
   "source": [
    "test_kwargs = {\n",
    "    \"batch_size\": args[\"test_batch_size\"],\n",
    "}\n",
    "\n",
    "# this is our carefully curated test data which represents the goal of our problem domain\n",
    "test_data = tv.datasets.MNIST('../data', train=False, download=True, transform=local_transforms)\n",
    "test_loader = th.utils.data.DataLoader(test_data,**test_kwargs)"
   ]
  },
  {
   "cell_type": "code",
   "execution_count": 12,
   "metadata": {},
   "outputs": [
    {
     "name": "stdout",
     "output_type": "stream",
     "text": [
      "10000\n"
     ]
    }
   ],
   "source": [
    "test_data_length = len(test_loader.dataset)\n",
    "print(test_data_length)\n",
    "\n",
    "# test_data_length_ptr = duet.syft.lib.python.Int(test_data_length)\n",
    "# print(test_data_length_ptr)"
   ]
  },
  {
   "cell_type": "code",
   "execution_count": 13,
   "metadata": {},
   "outputs": [
    {
     "name": "stdout",
     "output_type": "stream",
     "text": [
      "Dataset MNIST\n",
      "    Number of datapoints: 10000\n",
      "    Root location: ../data\n",
      "    Split: Test\n",
      "    StandardTransform\n",
      "Transform: Compose(\n",
      "               ToTensor()\n",
      "               Normalize(mean=0.1307, std=0.3081)\n",
      "           ) <class 'torchvision.datasets.mnist.MNIST'>\n"
     ]
    }
   ],
   "source": [
    "print(test_data, type(test_data))"
   ]
  },
  {
   "cell_type": "markdown",
   "metadata": {},
   "source": [
    "The \"duet\" variable is now your reference to a whole world of remote operations including supported libraries like torch."
   ]
  },
  {
   "cell_type": "code",
   "execution_count": 14,
   "metadata": {},
   "outputs": [],
   "source": [
    "# # TODO replace with local inference so this doesn't need to be on the DO side\n",
    "# test_data_ptr = torchvision.datasets.MNIST('../data', train=False, download=True, transform=transforms)\n",
    "# print(test_data_ptr)\n",
    "\n",
    "# test_loader_ptr = torch.utils.data.DataLoader(test_data_ptr,**test_kwargs)\n",
    "# print(test_loader_ptr)\n",
    "# # TODO"
   ]
  },
  {
   "cell_type": "code",
   "execution_count": 15,
   "metadata": {},
   "outputs": [],
   "source": [
    "# seq_model = nn.Sequential(\n",
    "#     nn.Conv2d(1, 32, 3, 1),\n",
    "#     nn.ReLU(),\n",
    "#     nn.Conv2d(32, 64, 3, 1),\n",
    "#     nn.ReLU(),\n",
    "#     nn.MaxPool2d(2),\n",
    "#     nn.Dropout2d(0.25),\n",
    "#     nn.Flatten(),\n",
    "#     nn.Linear(9216, 128),\n",
    "#     nn.ReLU(),\n",
    "#     nn.Dropout2d(0.5),\n",
    "#     nn.Linear(128, 10),\n",
    "#     nn.LogSoftmax(dim=1),\n",
    "# )"
   ]
  },
  {
   "cell_type": "code",
   "execution_count": 16,
   "metadata": {},
   "outputs": [],
   "source": [
    "# class Net:\n",
    "#     modules = []\n",
    "#     training = False\n",
    "\n",
    "#     def __init__(self) -> None:\n",
    "#         super(Net, self).__init__()\n",
    "#         self.conv1 = nn.Conv2d(1, 32, 3, 1)\n",
    "#         self.conv2 = nn.Conv2d(32, 64, 3, 1)\n",
    "#         self.dropout1 = nn.Dropout2d(0.25)\n",
    "#         self.dropout2 = nn.Dropout2d(0.5)\n",
    "#         self.fc1 = nn.Linear(9216, 128)\n",
    "#         self.fc2 = nn.Linear(128, 10)\n",
    "\n",
    "#         # add to modules list\n",
    "#         self.modules.append(self.conv1)\n",
    "#         self.modules.append(self.conv2)\n",
    "#         self.modules.append(self.dropout1)\n",
    "#         self.modules.append(self.dropout2)\n",
    "#         self.modules.append(self.fc1)\n",
    "#         self.modules.append(self.fc2)\n",
    "\n",
    "#     def train(self, mode: bool = True):\n",
    "#         self.training = mode\n",
    "#         for module in self.modules:\n",
    "#             module.train(mode)\n",
    "#         return self\n",
    "\n",
    "#     def eval(self):\n",
    "#         return self.train(False)\n",
    "\n",
    "#     def forward(self, x):\n",
    "#         x = self.conv1(x)\n",
    "#         x = F.relu(x)\n",
    "#         x = self.conv2(x)\n",
    "#         x = F.relu(x)\n",
    "#         x = F.max_pool2d(x, 2)\n",
    "#         x = self.dropout1(x)\n",
    "#         x = torch.flatten(x, 1)\n",
    "#         x = self.fc1(x)\n",
    "#         x = F.relu(x)\n",
    "#         x = self.dropout2(x)\n",
    "#         x = self.fc2(x)\n",
    "#         output = F.log_softmax(x, dim=1)\n",
    "#         return output\n",
    "\n",
    "#     def __call__(self, input):\n",
    "#         return self.forward(input)\n",
    "\n",
    "#     # local list of remote ListPointers of TensorPointers\n",
    "#     def parameters(self, recurse: bool = True):\n",
    "#         params_list = duet.syft.lib.python.List()\n",
    "#         for module in self.modules:\n",
    "#             param_pointers = module.parameters()\n",
    "#             params_list += param_pointers\n",
    "\n",
    "#         return params_list\n",
    "\n",
    "#     def cuda(self, device) -> \"Net\":\n",
    "#         for module in self.modules:\n",
    "#             module.cuda(device)\n",
    "#         return self\n",
    "\n",
    "#     def cpu(self) -> \"Net\":\n",
    "#         for module in self.modules:\n",
    "#             module.cpu()\n",
    "#         return self"
   ]
  },
  {
   "cell_type": "code",
   "execution_count": 17,
   "metadata": {},
   "outputs": [],
   "source": [
    "# lets define our SOTA model to train on the data owners data\n",
    "# note we subclass from sy.Module not nn.Module\n",
    "fc1_scaling_factor = 0.25  # this can let us scale the fc1 layer down a bit\n",
    "class SyNet(sy.Module):\n",
    "    def __init__(self):\n",
    "        super(SyNet, self).__init__()\n",
    "        self.conv1 = nn.Conv2d(1, 32, 3, 1)\n",
    "        self.conv2 = nn.Conv2d(32, int(64 * fc1_scaling_factor), 3, 1)  # keep fc1 size down\n",
    "        self.dropout1 = nn.Dropout2d(0.25)\n",
    "        self.dropout2 = nn.Dropout2d(0.5)\n",
    "        self.fc1 = nn.Linear(int(9216 * fc1_scaling_factor), 128)\n",
    "        self.fc2 = nn.Linear(128, 10)\n",
    "\n",
    "    def forward(self, x):\n",
    "        x = self.conv1(x)\n",
    "        x = F.relu(x)\n",
    "        x = self.conv2(x)\n",
    "        x = F.relu(x)\n",
    "        x = F.max_pool2d(x, 2)\n",
    "        x = self.dropout1(x)\n",
    "        x = torch.flatten(x, 1)\n",
    "        x = self.fc1(x)\n",
    "        x = F.relu(x)\n",
    "        x = self.dropout2(x)\n",
    "        x = self.fc2(x)\n",
    "        output = F.log_softmax(x, dim=1)\n",
    "        return output"
   ]
  },
  {
   "cell_type": "code",
   "execution_count": 18,
   "metadata": {},
   "outputs": [],
   "source": [
    "# lets define our SOTA model to train on the data owners data\n",
    "# note we subclass from sy.Module not nn.Module\n",
    "# WARNING: be extra careful to use th. not the torch from duet here\n",
    "class LocalSyNet(sy.Module):\n",
    "    def __init__(self):\n",
    "        super(LocalSyNet, self).__init__()\n",
    "        self.conv1 = th.nn.Conv2d(1, 32, 3, 1)\n",
    "        self.conv2 = th.nn.Conv2d(32, int(64 * fc1_scaling_factor), 3, 1)\n",
    "        self.dropout1 = th.nn.Dropout2d(0.25)\n",
    "        self.dropout2 = th.nn.Dropout2d(0.5)\n",
    "        self.fc1 = th.nn.Linear(int(9216 * fc1_scaling_factor), 128)\n",
    "        self.fc2 = th.nn.Linear(128, 10)\n",
    "\n",
    "    def forward(self, x):\n",
    "        x = self.conv1(x)\n",
    "        x = th.nn.functional.relu(x)\n",
    "        x = self.conv2(x)\n",
    "        x = th.nn.functional.relu(x)\n",
    "        x = th.nn.functional.max_pool2d(x, 2)\n",
    "        x = self.dropout1(x)\n",
    "        x = th.flatten(x, 1)\n",
    "        x = self.fc1(x)\n",
    "        x = th.nn.functional.relu(x)\n",
    "        x = self.dropout2(x)\n",
    "        x = self.fc2(x)\n",
    "        output = th.nn.functional.log_softmax(x, dim=1)\n",
    "        return output"
   ]
  },
  {
   "cell_type": "code",
   "execution_count": 19,
   "metadata": {},
   "outputs": [],
   "source": [
    "# class SmallSyNet(sy.Module):\n",
    "#     def __init__(self):\n",
    "#         super(SmallSyNet, self).__init__()\n",
    "#         self.fc1 = nn.Linear(784, 392)\n",
    "#         self.fc2 = nn.Linear(392, 10)\n",
    "\n",
    "#     def forward(self, x):\n",
    "#         x = torch.flatten(x, 1)\n",
    "#         x = self.fc1(x)\n",
    "#         x = F.relu(x)\n",
    "#         x = self.fc2(x)\n",
    "#         return x"
   ]
  },
  {
   "cell_type": "code",
   "execution_count": 20,
   "metadata": {},
   "outputs": [],
   "source": [
    "# class LocalSmallSyNet(sy.Module):\n",
    "#     def __init__(self):\n",
    "#         super(LocalSmallSyNet, self).__init__()\n",
    "#         self.fc1 = th.nn.Linear(784, 392)\n",
    "#         self.fc2 = th.nn.Linear(392, 10)\n",
    "\n",
    "#     def forward(self, x):\n",
    "#         x = th.flatten(x, 1)\n",
    "#         x = self.fc1(x)\n",
    "#         x = th.nn.functional.relu(x)\n",
    "#         x = self.fc2(x)\n",
    "#         return x    "
   ]
  },
  {
   "cell_type": "code",
   "execution_count": 21,
   "metadata": {},
   "outputs": [
    {
     "name": "stderr",
     "output_type": "stream",
     "text": [
      "2020-10-31 18:56:35.616 | CRITICAL | syft.grid.connections.webrtc:heartbeat:562 - Joiner PQ: 0 / 0 - CQ: 0 / 0\n"
     ]
    },
    {
     "name": "stdout",
     "output_type": "stream",
     "text": [
      "\n",
      "> Waiting for Blocking Request\n",
      "cuda_is_available: To run test and inference locally.\n",
      "<UID:d6849e4e-db1f-4b95-91eb-245d555af0bb>\n",
      "\n",
      "> INSIDE Request BLOCK 0.0 seconds False\n",
      "Joiner PQ: 0 / 0 - CQ: 0 / 0\n",
      ".\n",
      "> INSIDE Request BLOCK 1.0878069400787354 seconds False\n",
      "\n",
      "> Blocking Request ACCEPTED\n",
      "False\n"
     ]
    }
   ],
   "source": [
    "# lets see if our Data Owner has CUDA\n",
    "has_cuda = False\n",
    "has_cuda_ptr = torch.cuda.is_available()\n",
    "has_cuda = bool(has_cuda_ptr.get(\n",
    "    request_block=True,\n",
    "    request_name=\"cuda_is_available\",\n",
    "    reason=\"To run test and inference locally\",\n",
    "    timeout_secs=30,  # change to something slower\n",
    "))\n",
    "print(has_cuda)"
   ]
  },
  {
   "cell_type": "code",
   "execution_count": 22,
   "metadata": {},
   "outputs": [
    {
     "name": "stdout",
     "output_type": "stream",
     "text": [
      "DO device is cpu\n"
     ]
    }
   ],
   "source": [
    "use_cuda = not args[\"no_cuda\"] and has_cuda\n",
    "torch.manual_seed(args[\"seed\"])\n",
    "\n",
    "device = torch.device(\"cuda\" if use_cuda else \"cpu\")\n",
    "print(f\"DO device is {device.type.get()}\")"
   ]
  },
  {
   "cell_type": "code",
   "execution_count": 23,
   "metadata": {},
   "outputs": [],
   "source": [
    "# instantiate our model\n",
    "# this will construct everything inside init on the DO side\n",
    "# model = Net()\n",
    "model = SyNet()\n",
    "# model = seq_model\n",
    "# model = SmallSyNet()"
   ]
  },
  {
   "cell_type": "code",
   "execution_count": 24,
   "metadata": {},
   "outputs": [
    {
     "name": "stdout",
     "output_type": "stream",
     "text": [
      "6\n",
      "OrderedDict([('conv1', <syft.proxy.torch.nn.Conv2dPointer object at 0x140a85640>), ('conv2', <syft.proxy.torch.nn.Conv2dPointer object at 0x140999850>), ('dropout1', <syft.proxy.torch.nn.Dropout2dPointer object at 0x110e5cbe0>), ('dropout2', <syft.proxy.torch.nn.Dropout2dPointer object at 0x140a85af0>), ('fc1', <syft.proxy.torch.nn.LinearPointer object at 0x140a850d0>), ('fc2', <syft.proxy.torch.nn.LinearPointer object at 0x1409aeee0>)])\n"
     ]
    }
   ],
   "source": [
    "print(len(model.modules))\n",
    "print(model.modules)"
   ]
  },
  {
   "cell_type": "code",
   "execution_count": 25,
   "metadata": {},
   "outputs": [
    {
     "name": "stdout",
     "output_type": "stream",
     "text": [
      "> Layer conv1 sum(weight): 0.0\n",
      "> Layer conv1 sum(bias): 0.0\n",
      "> Layer conv2 sum(weight): 0.0\n",
      "> Layer conv2 sum(bias): 0.0\n",
      "> Layer fc1 sum(weight): 0.0\n",
      "> Layer fc1 sum(bias): 0.0\n",
      "> Layer fc2 sum(weight): 0.0\n",
      "> Layer fc2 sum(bias): 0.0\n",
      "OrderedDict([('conv1', Conv2d(1, 32, kernel_size=(3, 3), stride=(1, 1))), ('conv2', Conv2d(32, 16, kernel_size=(3, 3), stride=(1, 1))), ('dropout1', Dropout2d(p=0.25, inplace=False)), ('dropout2', Dropout2d(p=0.5, inplace=False)), ('fc1', Linear(in_features=2304, out_features=128, bias=True)), ('fc2', Linear(in_features=128, out_features=10, bias=True))])\n"
     ]
    }
   ],
   "source": [
    "local_model = LocalSyNet()\n",
    "# local_model = LocalSmallSyNet()\n",
    "local_model.zero_layers()  # so we can confirm that the weight download works\n",
    "local_model.sum_layers()\n",
    "print(local_model.modules)\n",
    "# assert local_model.fc1.in_features == int(9216 * fc1_scaling_factor)"
   ]
  },
  {
   "cell_type": "code",
   "execution_count": 26,
   "metadata": {},
   "outputs": [
    {
     "name": "stdout",
     "output_type": "stream",
     "text": [
      "> Downloading remote: conv1\n",
      "\n",
      "> Waiting for Blocking Request\n",
      "model_download: test evaluation.\n",
      "<UID:e995a1e9-b5cc-41e9-88e2-0e8179aec517>\n",
      "\n",
      "> INSIDE Request BLOCK 0.0 seconds False\n"
     ]
    },
    {
     "name": "stderr",
     "output_type": "stream",
     "text": [
      "2020-10-31 18:56:40.793 | CRITICAL | syft.grid.connections.webrtc:heartbeat:562 - Joiner PQ: 0 / 0 - CQ: 0 / 0\n"
     ]
    },
    {
     "name": "stdout",
     "output_type": "stream",
     "text": [
      ".\n",
      "> INSIDE Request BLOCK 1.0753378868103027 seconds False\n",
      "Joiner PQ: 0 / 0 - CQ: 0 / 0\n",
      "\n",
      "> Blocking Request ACCEPTED\n",
      ">> Setting weight copy on local conv1\n",
      ">> Setting bias copy on local conv1\n",
      "> Finished downloading model\n",
      "> Downloading remote: conv2\n",
      "\n",
      "> Waiting for Blocking Request\n",
      "model_download: test evaluation.\n",
      "<UID:17637330-b817-4103-ad15-af91335ae683>\n",
      "\n",
      "> INSIDE Request BLOCK 9.5367431640625e-07 seconds False\n",
      ".\n",
      "> INSIDE Request BLOCK 1.073065996170044 seconds False\n",
      "\n",
      "> Blocking Request ACCEPTED\n",
      ">> Setting weight copy on local conv2\n",
      ">> Setting bias copy on local conv2\n",
      "> Finished downloading model\n",
      "> Finished downloading model\n",
      "> Finished downloading model\n",
      "> Downloading remote: fc1\n",
      "\n",
      "> Waiting for Blocking Request\n",
      "model_download: test evaluation.\n",
      "<UID:80b6edfa-645b-49dc-85de-0944b60cac5c>\n",
      "\n",
      "> INSIDE Request BLOCK 0.0 seconds False\n",
      ".\n",
      "> INSIDE Request BLOCK 1.0792078971862793 seconds False\n",
      "\n",
      "> Blocking Request ACCEPTED\n",
      ">> Setting weight copy on local fc1\n",
      ">> Setting bias copy on local fc1\n",
      "> Finished downloading model\n",
      "> Downloading remote: fc2\n"
     ]
    },
    {
     "name": "stderr",
     "output_type": "stream",
     "text": [
      "2020-10-31 18:56:45.799 | CRITICAL | syft.grid.connections.webrtc:heartbeat:562 - Joiner PQ: 0 / 0 - CQ: 0 / 0\n"
     ]
    },
    {
     "name": "stdout",
     "output_type": "stream",
     "text": [
      "\n",
      "> Waiting for Blocking Request\n",
      "model_download: test evaluation.\n",
      "<UID:06e2ab14-6a5f-440a-8800-ee418681d5a2>\n",
      "\n",
      "> INSIDE Request BLOCK 0.0 seconds False\n",
      "Joiner PQ: 0 / 0 - CQ: 0 / 0\n",
      ".\n",
      "> INSIDE Request BLOCK 1.1488988399505615 seconds False\n",
      "\n",
      "> Blocking Request ACCEPTED\n",
      ">> Setting weight copy on local fc2\n",
      ">> Setting bias copy on local fc2\n",
      "> Finished downloading model\n"
     ]
    }
   ],
   "source": [
    "local_model.copy_remote_state(\n",
    "    remote_model=model,\n",
    "    request_name=\"model_download\",\n",
    "    reason=\"test evaluation\",\n",
    "    timeout_secs=30\n",
    ")"
   ]
  },
  {
   "cell_type": "code",
   "execution_count": 27,
   "metadata": {},
   "outputs": [
    {
     "name": "stdout",
     "output_type": "stream",
     "text": [
      "done\n",
      "> Layer conv1 sum(weight): -4.843146324157715\n",
      "> Layer conv1 sum(bias): -0.2682029604911804\n",
      "> Layer conv2 sum(weight): -1.074238896369934\n",
      "> Layer conv2 sum(bias): -0.029183562844991684\n",
      "> Layer fc1 sum(weight): 1.8069207668304443\n",
      "> Layer fc1 sum(bias): -0.15532046556472778\n",
      "> Layer fc2 sum(weight): -4.656699180603027\n",
      "> Layer fc2 sum(bias): -0.148866668343544\n"
     ]
    }
   ],
   "source": [
    "print(\"done\")\n",
    "local_model.sum_layers()\n",
    "# %%time\n",
    "# skip_layers = []\n",
    "# # warning fc1 is 9216x128 and stalls on copy, even a tensor size 9216x96 takes 45 seconds\n",
    "# # skip_layers.append(\"fc1\") # fc1 is too big???\n",
    "# # warning fc1 at 4608x128 takes about 25 seconds\n",
    "# local_model.copy_remote_state(remote_model=model, skip_layers=skip_layers)"
   ]
  },
  {
   "cell_type": "code",
   "execution_count": 28,
   "metadata": {},
   "outputs": [],
   "source": [
    "# # check the weights were copied\n",
    "# local_model.sum_layers()"
   ]
  },
  {
   "cell_type": "code",
   "execution_count": 29,
   "metadata": {},
   "outputs": [],
   "source": [
    "# if we have CUDA lets send our model to the GPU\n",
    "if has_cuda:\n",
    "    model.cuda(device)\n",
    "else:\n",
    "    model.cpu()"
   ]
  },
  {
   "cell_type": "code",
   "execution_count": 30,
   "metadata": {},
   "outputs": [
    {
     "name": "stdout",
     "output_type": "stream",
     "text": [
      "<syft.proxy.syft.lib.python.ListPointer object at 0x140a944c0> <class 'syft.proxy.syft.lib.python.ListPointer'>\n"
     ]
    }
   ],
   "source": [
    "# lets get our parameters for optimization\n",
    "# params_list required for remote list concatenation\n",
    "params = model.parameters(params_list=duet.syft.lib.python.List())\n",
    "print(params, type(params))"
   ]
  },
  {
   "cell_type": "code",
   "execution_count": 31,
   "metadata": {},
   "outputs": [
    {
     "name": "stdout",
     "output_type": "stream",
     "text": [
      "<syft.proxy.torch.optim.AdadeltaPointer object at 0x140b55760> <class 'syft.proxy.torch.optim.AdadeltaPointer'>\n"
     ]
    }
   ],
   "source": [
    "optimizer = optim.Adadelta(params, lr=args[\"lr\"])\n",
    "print(optimizer, type(optimizer))"
   ]
  },
  {
   "cell_type": "code",
   "execution_count": 32,
   "metadata": {},
   "outputs": [
    {
     "name": "stdout",
     "output_type": "stream",
     "text": [
      "<syft.proxy.torch.optim.lr_scheduler.StepLRPointer object at 0x140b39820> <class 'syft.proxy.torch.optim.lr_scheduler.StepLRPointer'>\n"
     ]
    }
   ],
   "source": [
    "scheduler = StepLR(optimizer, step_size=1, gamma=args[\"gamma\"])\n",
    "print(scheduler, type(scheduler))"
   ]
  },
  {
   "cell_type": "code",
   "execution_count": 33,
   "metadata": {},
   "outputs": [
    {
     "name": "stderr",
     "output_type": "stream",
     "text": [
      "2020-10-31 18:56:50.804 | CRITICAL | syft.grid.connections.webrtc:heartbeat:562 - Joiner PQ: 0 / 0 - CQ: 0 / 0\n"
     ]
    },
    {
     "name": "stdout",
     "output_type": "stream",
     "text": [
      "Joiner PQ: 0 / 0 - CQ: 0 / 0\n"
     ]
    }
   ],
   "source": [
    "# now can define a simple training loop very similar to the original PyTorch MNIST example\n",
    "@sy.logger.catch\n",
    "def train(args, model, device, train_loader, optimizer, epoch, train_data_length):\n",
    "    # + 0.5 lets us math.ceil without the import\n",
    "    train_batches = round((train_data_length / args[\"batch_size\"]) + 0.5)\n",
    "#     train_batches = 100\n",
    "    print(f\"> Running train in {train_batches} batches\")\n",
    "    model.train()\n",
    "\n",
    "    for batch_idx, data in enumerate(train_loader):\n",
    "#         time.sleep(1)\n",
    "        data_ptr, target_ptr = data[0], data[1]\n",
    "        optimizer.zero_grad()\n",
    "        output = model(data_ptr)\n",
    "        loss = F.nll_loss(output, target_ptr)\n",
    "        loss.backward()\n",
    "        optimizer.step()\n",
    "        loss_item = loss.item()\n",
    "        train_loss = duet.syft.lib.python.Float(0)\n",
    "        train_loss += loss_item\n",
    "        if batch_idx % args[\"log_interval\"] == 0:\n",
    "#             local_loss = loss_item.get(\n",
    "#                 request_name=\"loss\",\n",
    "#                 reason=\"To evaluate training progress\",\n",
    "#                 request_block=True,\n",
    "#                 timeout_secs=30\n",
    "#             )\n",
    "            local_loss = None\n",
    "            if local_loss is not None:\n",
    "                print(\"Train Epoch: {} {} {:.4}\".format(epoch, batch_idx, local_loss))\n",
    "            else:\n",
    "                print(\"Train Epoch: {} {} ?\".format(epoch, batch_idx))\n",
    "            if args[\"dry_run\"]:\n",
    "                break\n",
    "        if batch_idx >= train_batches - 1:\n",
    "            print(\"batch_idx >= train_batches, breaking\")\n",
    "            break"
   ]
  },
  {
   "cell_type": "code",
   "execution_count": 34,
   "metadata": {},
   "outputs": [
    {
     "name": "stderr",
     "output_type": "stream",
     "text": [
      "2020-10-31 18:56:55.810 | CRITICAL | syft.grid.connections.webrtc:heartbeat:562 - Joiner PQ: 0 / 0 - CQ: 0 / 0\n"
     ]
    },
    {
     "name": "stdout",
     "output_type": "stream",
     "text": [
      "Joiner PQ: 0 / 0 - CQ: 0 / 0\n"
     ]
    },
    {
     "name": "stderr",
     "output_type": "stream",
     "text": [
      "2020-10-31 18:57:00.816 | CRITICAL | syft.grid.connections.webrtc:heartbeat:562 - Joiner PQ: 0 / 0 - CQ: 0 / 0\n"
     ]
    },
    {
     "name": "stdout",
     "output_type": "stream",
     "text": [
      "Joiner PQ: 0 / 0 - CQ: 0 / 0\n"
     ]
    },
    {
     "name": "stderr",
     "output_type": "stream",
     "text": [
      "2020-10-31 18:57:05.821 | CRITICAL | syft.grid.connections.webrtc:heartbeat:562 - Joiner PQ: 0 / 0 - CQ: 0 / 0\n"
     ]
    },
    {
     "name": "stdout",
     "output_type": "stream",
     "text": [
      "Joiner PQ: 0 / 0 - CQ: 0 / 0\n"
     ]
    },
    {
     "name": "stderr",
     "output_type": "stream",
     "text": [
      "2020-10-31 18:57:10.827 | CRITICAL | syft.grid.connections.webrtc:heartbeat:562 - Joiner PQ: 0 / 0 - CQ: 0 / 0\n"
     ]
    },
    {
     "name": "stdout",
     "output_type": "stream",
     "text": [
      "Joiner PQ: 0 / 0 - CQ: 0 / 0\n"
     ]
    },
    {
     "name": "stderr",
     "output_type": "stream",
     "text": [
      "2020-10-31 18:57:15.832 | CRITICAL | syft.grid.connections.webrtc:heartbeat:562 - Joiner PQ: 0 / 0 - CQ: 0 / 0\n"
     ]
    },
    {
     "name": "stdout",
     "output_type": "stream",
     "text": [
      "Joiner PQ: 0 / 0 - CQ: 0 / 0\n"
     ]
    },
    {
     "name": "stderr",
     "output_type": "stream",
     "text": [
      "2020-10-31 18:57:20.838 | CRITICAL | syft.grid.connections.webrtc:heartbeat:562 - Joiner PQ: 0 / 0 - CQ: 0 / 0\n"
     ]
    },
    {
     "name": "stdout",
     "output_type": "stream",
     "text": [
      "Joiner PQ: 0 / 0 - CQ: 0 / 0\n"
     ]
    },
    {
     "name": "stderr",
     "output_type": "stream",
     "text": [
      "2020-10-31 18:57:25.841 | CRITICAL | syft.grid.connections.webrtc:heartbeat:562 - Joiner PQ: 0 / 0 - CQ: 0 / 0\n"
     ]
    },
    {
     "name": "stdout",
     "output_type": "stream",
     "text": [
      "Joiner PQ: 0 / 0 - CQ: 0 / 0\n"
     ]
    },
    {
     "name": "stderr",
     "output_type": "stream",
     "text": [
      "2020-10-31 18:57:30.843 | CRITICAL | syft.grid.connections.webrtc:heartbeat:562 - Joiner PQ: 0 / 0 - CQ: 0 / 0\n"
     ]
    },
    {
     "name": "stdout",
     "output_type": "stream",
     "text": [
      "Joiner PQ: 0 / 0 - CQ: 0 / 0\n"
     ]
    },
    {
     "name": "stderr",
     "output_type": "stream",
     "text": [
      "2020-10-31 18:57:35.845 | CRITICAL | syft.grid.connections.webrtc:heartbeat:562 - Joiner PQ: 0 / 0 - CQ: 0 / 0\n"
     ]
    },
    {
     "name": "stdout",
     "output_type": "stream",
     "text": [
      "Joiner PQ: 0 / 0 - CQ: 0 / 0\n"
     ]
    },
    {
     "name": "stderr",
     "output_type": "stream",
     "text": [
      "2020-10-31 18:57:40.851 | CRITICAL | syft.grid.connections.webrtc:heartbeat:562 - Joiner PQ: 0 / 0 - CQ: 0 / 0\n"
     ]
    },
    {
     "name": "stdout",
     "output_type": "stream",
     "text": [
      "Joiner PQ: 0 / 0 - CQ: 0 / 0\n"
     ]
    },
    {
     "name": "stderr",
     "output_type": "stream",
     "text": [
      "2020-10-31 18:57:45.856 | CRITICAL | syft.grid.connections.webrtc:heartbeat:562 - Joiner PQ: 0 / 0 - CQ: 0 / 0\n"
     ]
    },
    {
     "name": "stdout",
     "output_type": "stream",
     "text": [
      "Joiner PQ: 0 / 0 - CQ: 0 / 0\n"
     ]
    },
    {
     "name": "stderr",
     "output_type": "stream",
     "text": [
      "2020-10-31 18:57:50.862 | CRITICAL | syft.grid.connections.webrtc:heartbeat:562 - Joiner PQ: 0 / 0 - CQ: 0 / 0\n"
     ]
    },
    {
     "name": "stdout",
     "output_type": "stream",
     "text": [
      "Joiner PQ: 0 / 0 - CQ: 0 / 0\n"
     ]
    },
    {
     "name": "stderr",
     "output_type": "stream",
     "text": [
      "2020-10-31 18:57:55.867 | CRITICAL | syft.grid.connections.webrtc:heartbeat:562 - Joiner PQ: 0 / 0 - CQ: 0 / 0\n"
     ]
    },
    {
     "name": "stdout",
     "output_type": "stream",
     "text": [
      "Joiner PQ: 0 / 0 - CQ: 0 / 0\n"
     ]
    },
    {
     "name": "stderr",
     "output_type": "stream",
     "text": [
      "2020-10-31 18:58:00.872 | CRITICAL | syft.grid.connections.webrtc:heartbeat:562 - Joiner PQ: 0 / 0 - CQ: 0 / 0\n"
     ]
    },
    {
     "name": "stdout",
     "output_type": "stream",
     "text": [
      "Joiner PQ: 0 / 0 - CQ: 0 / 0\n"
     ]
    }
   ],
   "source": [
    "# # TODO replace with local inference and local test set\n",
    "# # the same for our test training loop except we will need to send our data over for inference\n",
    "# def test(model, device, test_loader, test_data_length):\n",
    "#     # + 0.5 lets us math.ceil without the import\n",
    "#     test_batches = round((test_data_length / args[\"test_batch_size\"]) + 0.5)\n",
    "#     print(f\"> Running test in {test_batches} batches\")\n",
    "#     model.eval()\n",
    "#     test_loss = duet.syft.lib.python.Float(0)\n",
    "#     correct_ptr = duet.syft.lib.python.Float(0)\n",
    "\n",
    "#     with torch.no_grad():\n",
    "#         for batch_idx, data in enumerate(test_loader):\n",
    "#             data_ptr, target_ptr = data[0], data[1]\n",
    "#             output = model(data_ptr)\n",
    "#             loss = F.nll_loss(output, target_ptr, reduction='sum').item()\n",
    "#             test_loss = test_loss + loss\n",
    "\n",
    "#             pred = output.argmax(dim=1)\n",
    "#             total = pred.eq(target_ptr).sum().item()\n",
    "#             correct_ptr += total\n",
    "\n",
    "#             if args[\"dry_run\"]:\n",
    "#                 break\n",
    "                \n",
    "#             if batch_idx >= test_batches - 1:\n",
    "#                 print(\"batch_idx >= test_batches, breaking\")\n",
    "#                 break\n",
    "\n",
    "#     accuracy = correct_ptr / test_data_length\n",
    "#     # we need to batch or block these requests so the loop doesnt break\n",
    "#     result = None\n",
    "# #     result = accuracy.get(\n",
    "# #         request_block=True,\n",
    "# #         timeout_secs=0,\n",
    "# #         request_name=\"accuracy\",\n",
    "# #         reason=\"To see the accuracy on DO's test set\"\n",
    "# #     )\n",
    "#     if result is not None:\n",
    "#         print(\"Test Set Average Loss:\", 100 * result)\n",
    "#     else:\n",
    "#         print(\"Test Set Average Loss: ?\")"
   ]
  },
  {
   "cell_type": "code",
   "execution_count": 35,
   "metadata": {},
   "outputs": [],
   "source": [
    "# TODO replace with local inference and local test set\n",
    "# the same for our test training loop except we will need to send our data over for inference\n",
    "@sy.logger.catch\n",
    "def test_local(model, remote_model, test_loader, test_data_length):\n",
    "    # download remote model\n",
    "    model.copy_remote_state(\n",
    "        remote_model=remote_model,\n",
    "        request_name=\"model_download\",\n",
    "        reason=\"test evaluation\",\n",
    "        timeout_secs=30\n",
    "    )\n",
    "    # visually check the weights have changed\n",
    "    model.sum_layers()\n",
    "    # + 0.5 lets us math.ceil without the import\n",
    "    test_batches = round((test_data_length / args[\"test_batch_size\"]) + 0.5)\n",
    "    print(f\"> Running test_local in {test_batches} batches\")\n",
    "    model.eval()\n",
    "    test_loss = 0.0\n",
    "    correct = 0.0\n",
    "\n",
    "    with th.no_grad():\n",
    "        for batch_idx, (data, target) in enumerate(test_loader):\n",
    "#             time.sleep(1)\n",
    "            output = model(data)\n",
    "            iter_loss = th.nn.functional.nll_loss(output, target, reduction='sum').item()\n",
    "            test_loss = test_loss + iter_loss\n",
    "            pred = output.argmax(dim=1)\n",
    "            total = pred.eq(target).sum().item()\n",
    "            correct += total\n",
    "            if args[\"dry_run\"]:\n",
    "                break\n",
    "                \n",
    "            if batch_idx >= test_batches - 1:\n",
    "                print(\"batch_idx >= test_batches, breaking\")\n",
    "                break\n",
    "\n",
    "    accuracy = correct / test_data_length\n",
    "    print(\"Test Set Average Loss:\", 100 * accuracy)"
   ]
  },
  {
   "cell_type": "code",
   "execution_count": 36,
   "metadata": {},
   "outputs": [
    {
     "name": "stdout",
     "output_type": "stream",
     "text": [
      "<class 'syft.proxy.torchvision.transforms.ToTensorPointer'> <class 'syft.proxy.torchvision.transforms.NormalizePointer'>\n",
      "<syft.proxy.torchvision.datasets.MNISTPointer object at 0x140b39490>\n",
      "<syft.proxy.torch.utils.data.DataLoaderPointer object at 0x140a85670>\n"
     ]
    }
   ],
   "source": [
    "# we need some transforms for our MNIST data set\n",
    "transform_1 = torchvision.transforms.ToTensor()  # this converts PIL images to Tensors\n",
    "transform_2 = torchvision.transforms.Normalize(0.1307, 0.3081)  # this normalizes the dataset\n",
    "print(type(transform_1), type(transform_2))\n",
    "\n",
    "remote_list = duet.syft.lib.python.List()\n",
    "remote_list.append(transform_1)\n",
    "remote_list.append(transform_2)\n",
    "\n",
    "# compose our transforms\n",
    "transforms = torchvision.transforms.Compose(remote_list)\n",
    "\n",
    "# The DO has kindly let us initialise a DataLoader for their training set\n",
    "train_kwargs = {\n",
    "    \"batch_size\": args[\"batch_size\"],\n",
    "}\n",
    "train_data_ptr = torchvision.datasets.MNIST('../data', train=True, download=True, transform=transforms)\n",
    "print(train_data_ptr)\n",
    "train_loader_ptr = torch.utils.data.DataLoader(train_data_ptr,**train_kwargs)\n",
    "print(train_loader_ptr)"
   ]
  },
  {
   "cell_type": "code",
   "execution_count": 37,
   "metadata": {},
   "outputs": [
    {
     "name": "stdout",
     "output_type": "stream",
     "text": [
      "\n",
      "> Waiting for Blocking Request\n",
      "train_size: To write the training loop.\n",
      "<UID:3b8c8933-d8cc-48d9-97d6-f5162490f00e>\n",
      "\n",
      "> INSIDE Request BLOCK 0.0 seconds False\n"
     ]
    },
    {
     "name": "stderr",
     "output_type": "stream",
     "text": [
      "2020-10-31 18:58:06.122 | CRITICAL | syft.grid.connections.webrtc:heartbeat:562 - Joiner PQ: 0 / 0 - CQ: 0 / 0\n"
     ]
    },
    {
     "name": "stdout",
     "output_type": "stream",
     "text": [
      ".\n",
      "> INSIDE Request BLOCK 1.0774312019348145 seconds False\n",
      "Joiner PQ: 0 / 0 - CQ: 0 / 0\n",
      "\n",
      "> Blocking Request ACCEPTED\n",
      "Training Dataset size is: 60000\n"
     ]
    },
    {
     "name": "stderr",
     "output_type": "stream",
     "text": [
      "2020-10-31 18:58:11.125 | CRITICAL | syft.grid.connections.webrtc:heartbeat:562 - Joiner PQ: 0 / 0 - CQ: 0 / 0\n"
     ]
    },
    {
     "name": "stdout",
     "output_type": "stream",
     "text": [
      "Joiner PQ: 0 / 0 - CQ: 0 / 0\n"
     ]
    },
    {
     "name": "stderr",
     "output_type": "stream",
     "text": [
      "2020-10-31 18:58:16.127 | CRITICAL | syft.grid.connections.webrtc:heartbeat:562 - Joiner PQ: 0 / 0 - CQ: 0 / 0\n"
     ]
    },
    {
     "name": "stdout",
     "output_type": "stream",
     "text": [
      "Joiner PQ: 0 / 0 - CQ: 0 / 0\n"
     ]
    }
   ],
   "source": [
    "def get_train_length(train_data_ptr):\n",
    "    train_length_ptr = train_data_ptr.__len__()\n",
    "    train_data_length = train_length_ptr.get(\n",
    "        request_block=True,\n",
    "        request_name=\"train_size\",\n",
    "        reason=\"To write the training loop\",\n",
    "        timeout_secs=30,\n",
    "    )\n",
    "    return train_data_length\n",
    "\n",
    "try:\n",
    "    if train_data_length is None:\n",
    "        train_data_length = get_train_length(train_data_ptr)\n",
    "except NameError:\n",
    "        train_data_length = get_train_length(train_data_ptr)\n",
    "\n",
    "print(f\"Training Dataset size is: {train_data_length}\")"
   ]
  },
  {
   "cell_type": "code",
   "execution_count": 38,
   "metadata": {},
   "outputs": [
    {
     "name": "stdout",
     "output_type": "stream",
     "text": [
      "Epoch: 1\n",
      "> Running train in 938 batches\n",
      "Train Epoch: 1 0 ?\n"
     ]
    },
    {
     "name": "stderr",
     "output_type": "stream",
     "text": [
      "2020-10-31 18:58:21.139 | CRITICAL | syft.grid.connections.webrtc:heartbeat:562 - Joiner PQ: 0 / 0 - CQ: 0 / 0\n"
     ]
    },
    {
     "name": "stdout",
     "output_type": "stream",
     "text": [
      "Joiner PQ: 0 / 0 - CQ: 0 / 0\n",
      "Train Epoch: 1 10 ?\n"
     ]
    },
    {
     "name": "stderr",
     "output_type": "stream",
     "text": [
      "2020-10-31 18:58:26.152 | CRITICAL | syft.grid.connections.webrtc:heartbeat:562 - Joiner PQ: 0 / 0 - CQ: 0 / 0\n"
     ]
    },
    {
     "name": "stdout",
     "output_type": "stream",
     "text": [
      "Joiner PQ: 0 / 0 - CQ: 0 / 0\n",
      "Train Epoch: 1 20 ?\n"
     ]
    },
    {
     "name": "stderr",
     "output_type": "stream",
     "text": [
      "2020-10-31 18:58:31.163 | CRITICAL | syft.grid.connections.webrtc:heartbeat:562 - Joiner PQ: 0 / 0 - CQ: 0 / 0\n"
     ]
    },
    {
     "name": "stdout",
     "output_type": "stream",
     "text": [
      "Joiner PQ: 0 / 0 - CQ: 0 / 0\n",
      "Train Epoch: 1 30 ?\n"
     ]
    },
    {
     "name": "stderr",
     "output_type": "stream",
     "text": [
      "2020-10-31 18:58:36.174 | CRITICAL | syft.grid.connections.webrtc:heartbeat:562 - Joiner PQ: 0 / 0 - CQ: 0 / 0\n"
     ]
    },
    {
     "name": "stdout",
     "output_type": "stream",
     "text": [
      "Joiner PQ: 0 / 0 - CQ: 0 / 0\n",
      "Train Epoch: 1 40 ?\n"
     ]
    },
    {
     "name": "stderr",
     "output_type": "stream",
     "text": [
      "2020-10-31 18:58:41.188 | CRITICAL | syft.grid.connections.webrtc:heartbeat:562 - Joiner PQ: 0 / 0 - CQ: 0 / 0\n"
     ]
    },
    {
     "name": "stdout",
     "output_type": "stream",
     "text": [
      "Joiner PQ: 0 / 0 - CQ: 0 / 0\n",
      "Train Epoch: 1 50 ?\n"
     ]
    },
    {
     "name": "stderr",
     "output_type": "stream",
     "text": [
      "2020-10-31 18:58:46.206 | CRITICAL | syft.grid.connections.webrtc:heartbeat:562 - Joiner PQ: 0 / 0 - CQ: 0 / 0\n"
     ]
    },
    {
     "name": "stdout",
     "output_type": "stream",
     "text": [
      "Joiner PQ: 0 / 0 - CQ: 0 / 0\n",
      "Train Epoch: 1 60 ?\n"
     ]
    },
    {
     "name": "stderr",
     "output_type": "stream",
     "text": [
      "2020-10-31 18:58:51.223 | CRITICAL | syft.grid.connections.webrtc:heartbeat:562 - Joiner PQ: 0 / 0 - CQ: 0 / 0\n"
     ]
    },
    {
     "name": "stdout",
     "output_type": "stream",
     "text": [
      "Joiner PQ: 0 / 0 - CQ: 0 / 0\n",
      "Train Epoch: 1 70 ?\n"
     ]
    },
    {
     "name": "stderr",
     "output_type": "stream",
     "text": [
      "2020-10-31 18:58:56.233 | CRITICAL | syft.grid.connections.webrtc:heartbeat:562 - Joiner PQ: 0 / 0 - CQ: 0 / 0\n"
     ]
    },
    {
     "name": "stdout",
     "output_type": "stream",
     "text": [
      "Joiner PQ: 0 / 0 - CQ: 0 / 0\n",
      "Train Epoch: 1 80 ?\n"
     ]
    },
    {
     "name": "stderr",
     "output_type": "stream",
     "text": [
      "2020-10-31 18:59:01.248 | CRITICAL | syft.grid.connections.webrtc:heartbeat:562 - Joiner PQ: 0 / 0 - CQ: 0 / 0\n"
     ]
    },
    {
     "name": "stdout",
     "output_type": "stream",
     "text": [
      "Joiner PQ: 0 / 0 - CQ: 0 / 0\n",
      "Train Epoch: 1 90 ?\n"
     ]
    },
    {
     "name": "stderr",
     "output_type": "stream",
     "text": [
      "2020-10-31 18:59:06.262 | CRITICAL | syft.grid.connections.webrtc:heartbeat:562 - Joiner PQ: 0 / 0 - CQ: 0 / 0\n"
     ]
    },
    {
     "name": "stdout",
     "output_type": "stream",
     "text": [
      "Joiner PQ: 0 / 0 - CQ: 0 / 0\n",
      "Train Epoch: 1 100 ?\n"
     ]
    },
    {
     "name": "stderr",
     "output_type": "stream",
     "text": [
      "2020-10-31 18:59:11.278 | CRITICAL | syft.grid.connections.webrtc:heartbeat:562 - Joiner PQ: 0 / 0 - CQ: 0 / 0\n"
     ]
    },
    {
     "name": "stdout",
     "output_type": "stream",
     "text": [
      "Joiner PQ: 0 / 0 - CQ: 0 / 0\n",
      "Train Epoch: 1 110 ?\n"
     ]
    },
    {
     "name": "stderr",
     "output_type": "stream",
     "text": [
      "2020-10-31 18:59:16.301 | CRITICAL | syft.grid.connections.webrtc:heartbeat:562 - Joiner PQ: 0 / 0 - CQ: 0 / 0\n"
     ]
    },
    {
     "name": "stdout",
     "output_type": "stream",
     "text": [
      "Joiner PQ: 0 / 0 - CQ: 0 / 0\n",
      "Train Epoch: 1 120 ?\n"
     ]
    },
    {
     "name": "stderr",
     "output_type": "stream",
     "text": [
      "2020-10-31 18:59:21.313 | CRITICAL | syft.grid.connections.webrtc:heartbeat:562 - Joiner PQ: 0 / 0 - CQ: 0 / 0\n"
     ]
    },
    {
     "name": "stdout",
     "output_type": "stream",
     "text": [
      "Joiner PQ: 0 / 0 - CQ: 0 / 0\n",
      "Train Epoch: 1 130 ?\n"
     ]
    },
    {
     "name": "stderr",
     "output_type": "stream",
     "text": [
      "2020-10-31 18:59:26.327 | CRITICAL | syft.grid.connections.webrtc:heartbeat:562 - Joiner PQ: 0 / 0 - CQ: 0 / 0\n"
     ]
    },
    {
     "name": "stdout",
     "output_type": "stream",
     "text": [
      "Joiner PQ: 0 / 0 - CQ: 0 / 0\n",
      "Train Epoch: 1 140 ?\n"
     ]
    },
    {
     "name": "stderr",
     "output_type": "stream",
     "text": [
      "2020-10-31 18:59:31.344 | CRITICAL | syft.grid.connections.webrtc:heartbeat:562 - Joiner PQ: 0 / 0 - CQ: 0 / 0\n"
     ]
    },
    {
     "name": "stdout",
     "output_type": "stream",
     "text": [
      "Joiner PQ: 0 / 0 - CQ: 0 / 0\n",
      "Train Epoch: 1 150 ?\n"
     ]
    },
    {
     "name": "stderr",
     "output_type": "stream",
     "text": [
      "2020-10-31 18:59:36.360 | CRITICAL | syft.grid.connections.webrtc:heartbeat:562 - Joiner PQ: 0 / 0 - CQ: 0 / 0\n"
     ]
    },
    {
     "name": "stdout",
     "output_type": "stream",
     "text": [
      "Joiner PQ: 0 / 0 - CQ: 0 / 0\n",
      "Train Epoch: 1 160 ?\n"
     ]
    },
    {
     "name": "stderr",
     "output_type": "stream",
     "text": [
      "2020-10-31 18:59:41.376 | CRITICAL | syft.grid.connections.webrtc:heartbeat:562 - Joiner PQ: 0 / 0 - CQ: 0 / 0\n"
     ]
    },
    {
     "name": "stdout",
     "output_type": "stream",
     "text": [
      "Joiner PQ: 0 / 0 - CQ: 0 / 0\n",
      "Train Epoch: 1 170 ?\n",
      "Train Epoch: 1 180 ?\n"
     ]
    },
    {
     "name": "stderr",
     "output_type": "stream",
     "text": [
      "2020-10-31 18:59:46.388 | CRITICAL | syft.grid.connections.webrtc:heartbeat:562 - Joiner PQ: 0 / 0 - CQ: 0 / 0\n"
     ]
    },
    {
     "name": "stdout",
     "output_type": "stream",
     "text": [
      "Joiner PQ: 0 / 0 - CQ: 0 / 0\n",
      "Train Epoch: 1 190 ?\n"
     ]
    },
    {
     "name": "stderr",
     "output_type": "stream",
     "text": [
      "2020-10-31 18:59:51.403 | CRITICAL | syft.grid.connections.webrtc:heartbeat:562 - Joiner PQ: 0 / 0 - CQ: 0 / 0\n"
     ]
    },
    {
     "name": "stdout",
     "output_type": "stream",
     "text": [
      "Joiner PQ: 0 / 0 - CQ: 0 / 0\n",
      "Train Epoch: 1 200 ?\n"
     ]
    },
    {
     "name": "stderr",
     "output_type": "stream",
     "text": [
      "2020-10-31 18:59:56.417 | CRITICAL | syft.grid.connections.webrtc:heartbeat:562 - Joiner PQ: 0 / 0 - CQ: 0 / 0\n"
     ]
    },
    {
     "name": "stdout",
     "output_type": "stream",
     "text": [
      "Joiner PQ: 0 / 0 - CQ: 0 / 0\n",
      "Train Epoch: 1 210 ?\n"
     ]
    },
    {
     "name": "stderr",
     "output_type": "stream",
     "text": [
      "2020-10-31 19:00:01.432 | CRITICAL | syft.grid.connections.webrtc:heartbeat:562 - Joiner PQ: 0 / 0 - CQ: 0 / 0\n"
     ]
    },
    {
     "name": "stdout",
     "output_type": "stream",
     "text": [
      "Joiner PQ: 0 / 0 - CQ: 0 / 0\n",
      "Train Epoch: 1 220 ?\n"
     ]
    },
    {
     "name": "stderr",
     "output_type": "stream",
     "text": [
      "2020-10-31 19:00:06.443 | CRITICAL | syft.grid.connections.webrtc:heartbeat:562 - Joiner PQ: 0 / 0 - CQ: 0 / 0\n"
     ]
    },
    {
     "name": "stdout",
     "output_type": "stream",
     "text": [
      "Joiner PQ: 0 / 0 - CQ: 0 / 0\n",
      "Train Epoch: 1 230 ?\n"
     ]
    },
    {
     "name": "stderr",
     "output_type": "stream",
     "text": [
      "2020-10-31 19:00:11.459 | CRITICAL | syft.grid.connections.webrtc:heartbeat:562 - Joiner PQ: 0 / 0 - CQ: 0 / 0\n"
     ]
    },
    {
     "name": "stdout",
     "output_type": "stream",
     "text": [
      "Joiner PQ: 0 / 0 - CQ: 0 / 0\n",
      "Train Epoch: 1 240 ?\n"
     ]
    },
    {
     "name": "stderr",
     "output_type": "stream",
     "text": [
      "2020-10-31 19:00:16.475 | CRITICAL | syft.grid.connections.webrtc:heartbeat:562 - Joiner PQ: 0 / 0 - CQ: 0 / 0\n"
     ]
    },
    {
     "name": "stdout",
     "output_type": "stream",
     "text": [
      "Joiner PQ: 0 / 0 - CQ: 0 / 0\n",
      "Train Epoch: 1 250 ?\n"
     ]
    },
    {
     "name": "stderr",
     "output_type": "stream",
     "text": [
      "2020-10-31 19:00:21.491 | CRITICAL | syft.grid.connections.webrtc:heartbeat:562 - Joiner PQ: 0 / 0 - CQ: 0 / 0\n"
     ]
    },
    {
     "name": "stdout",
     "output_type": "stream",
     "text": [
      "Joiner PQ: 0 / 0 - CQ: 0 / 0\n",
      "Train Epoch: 1 260 ?\n"
     ]
    },
    {
     "name": "stderr",
     "output_type": "stream",
     "text": [
      "2020-10-31 19:00:26.504 | CRITICAL | syft.grid.connections.webrtc:heartbeat:562 - Joiner PQ: 0 / 0 - CQ: 0 / 0\n"
     ]
    },
    {
     "name": "stdout",
     "output_type": "stream",
     "text": [
      "Joiner PQ: 0 / 0 - CQ: 0 / 0\n",
      "Train Epoch: 1 270 ?\n"
     ]
    },
    {
     "name": "stderr",
     "output_type": "stream",
     "text": [
      "2020-10-31 19:00:31.520 | CRITICAL | syft.grid.connections.webrtc:heartbeat:562 - Joiner PQ: 0 / 0 - CQ: 0 / 0\n"
     ]
    },
    {
     "name": "stdout",
     "output_type": "stream",
     "text": [
      "Joiner PQ: 0 / 0 - CQ: 0 / 0\n",
      "Train Epoch: 1 280 ?\n"
     ]
    },
    {
     "name": "stderr",
     "output_type": "stream",
     "text": [
      "2020-10-31 19:00:36.540 | CRITICAL | syft.grid.connections.webrtc:heartbeat:562 - Joiner PQ: 0 / 0 - CQ: 0 / 0\n"
     ]
    },
    {
     "name": "stdout",
     "output_type": "stream",
     "text": [
      "Joiner PQ: 0 / 0 - CQ: 0 / 0\n",
      "Train Epoch: 1 290 ?\n"
     ]
    },
    {
     "name": "stderr",
     "output_type": "stream",
     "text": [
      "2020-10-31 19:00:41.555 | CRITICAL | syft.grid.connections.webrtc:heartbeat:562 - Joiner PQ: 0 / 0 - CQ: 0 / 0\n"
     ]
    },
    {
     "name": "stdout",
     "output_type": "stream",
     "text": [
      "Joiner PQ: 0 / 0 - CQ: 0 / 0\n",
      "Train Epoch: 1 300 ?\n"
     ]
    },
    {
     "name": "stderr",
     "output_type": "stream",
     "text": [
      "2020-10-31 19:00:46.570 | CRITICAL | syft.grid.connections.webrtc:heartbeat:562 - Joiner PQ: 0 / 0 - CQ: 0 / 0\n"
     ]
    },
    {
     "name": "stdout",
     "output_type": "stream",
     "text": [
      "Joiner PQ: 0 / 0 - CQ: 0 / 0\n",
      "Train Epoch: 1 310 ?\n"
     ]
    },
    {
     "name": "stderr",
     "output_type": "stream",
     "text": [
      "2020-10-31 19:00:51.582 | CRITICAL | syft.grid.connections.webrtc:heartbeat:562 - Joiner PQ: 0 / 0 - CQ: 0 / 0\n"
     ]
    },
    {
     "name": "stdout",
     "output_type": "stream",
     "text": [
      "Joiner PQ: 0 / 0 - CQ: 0 / 0\n",
      "Train Epoch: 1 320 ?\n"
     ]
    },
    {
     "name": "stderr",
     "output_type": "stream",
     "text": [
      "2020-10-31 19:00:56.596 | CRITICAL | syft.grid.connections.webrtc:heartbeat:562 - Joiner PQ: 0 / 0 - CQ: 0 / 0\n"
     ]
    },
    {
     "name": "stdout",
     "output_type": "stream",
     "text": [
      "Joiner PQ: 0 / 0 - CQ: 0 / 0\n",
      "Train Epoch: 1 330 ?\n"
     ]
    },
    {
     "name": "stderr",
     "output_type": "stream",
     "text": [
      "2020-10-31 19:01:01.623 | CRITICAL | syft.grid.connections.webrtc:heartbeat:562 - Joiner PQ: 0 / 0 - CQ: 0 / 0\n"
     ]
    },
    {
     "name": "stdout",
     "output_type": "stream",
     "text": [
      "Joiner PQ: 0 / 0 - CQ: 0 / 0\n",
      "Train Epoch: 1 340 ?\n"
     ]
    },
    {
     "name": "stderr",
     "output_type": "stream",
     "text": [
      "2020-10-31 19:01:06.634 | CRITICAL | syft.grid.connections.webrtc:heartbeat:562 - Joiner PQ: 0 / 0 - CQ: 0 / 0\n"
     ]
    },
    {
     "name": "stdout",
     "output_type": "stream",
     "text": [
      "Joiner PQ: 0 / 0 - CQ: 0 / 0\n",
      "Train Epoch: 1 350 ?\n"
     ]
    },
    {
     "name": "stderr",
     "output_type": "stream",
     "text": [
      "2020-10-31 19:01:11.649 | CRITICAL | syft.grid.connections.webrtc:heartbeat:562 - Joiner PQ: 0 / 0 - CQ: 0 / 0\n"
     ]
    },
    {
     "name": "stdout",
     "output_type": "stream",
     "text": [
      "Joiner PQ: 0 / 0 - CQ: 0 / 0\n"
     ]
    },
    {
     "name": "stderr",
     "output_type": "stream",
     "text": [
      "2020-10-31 19:01:16.663 | CRITICAL | syft.grid.connections.webrtc:heartbeat:562 - Joiner PQ: 0 / 0 - CQ: 0 / 0\n"
     ]
    },
    {
     "name": "stdout",
     "output_type": "stream",
     "text": [
      "Train Epoch: 1 360 ?\n",
      "Train Epoch: 1 370 ?\n",
      "Joiner PQ: 0 / 0 - CQ: 0 / 0\n",
      "Train Epoch: 1 380 ?\n"
     ]
    },
    {
     "name": "stderr",
     "output_type": "stream",
     "text": [
      "2020-10-31 19:01:21.682 | CRITICAL | syft.grid.connections.webrtc:heartbeat:562 - Joiner PQ: 0 / 0 - CQ: 0 / 0\n"
     ]
    },
    {
     "name": "stdout",
     "output_type": "stream",
     "text": [
      "Joiner PQ: 0 / 0 - CQ: 0 / 0\n",
      "Train Epoch: 1 390 ?\n"
     ]
    },
    {
     "name": "stderr",
     "output_type": "stream",
     "text": [
      "2020-10-31 19:01:26.695 | CRITICAL | syft.grid.connections.webrtc:heartbeat:562 - Joiner PQ: 0 / 0 - CQ: 0 / 0\n"
     ]
    },
    {
     "name": "stdout",
     "output_type": "stream",
     "text": [
      "Joiner PQ: 0 / 0 - CQ: 0 / 0\n",
      "Train Epoch: 1 400 ?\n"
     ]
    },
    {
     "name": "stderr",
     "output_type": "stream",
     "text": [
      "2020-10-31 19:01:31.707 | CRITICAL | syft.grid.connections.webrtc:heartbeat:562 - Joiner PQ: 0 / 0 - CQ: 0 / 0\n"
     ]
    },
    {
     "name": "stdout",
     "output_type": "stream",
     "text": [
      "Joiner PQ: 0 / 0 - CQ: 0 / 0\n",
      "Train Epoch: 1 410 ?\n"
     ]
    },
    {
     "name": "stderr",
     "output_type": "stream",
     "text": [
      "2020-10-31 19:01:36.729 | CRITICAL | syft.grid.connections.webrtc:heartbeat:562 - Joiner PQ: 0 / 0 - CQ: 0 / 0\n"
     ]
    },
    {
     "name": "stdout",
     "output_type": "stream",
     "text": [
      "Joiner PQ: 0 / 0 - CQ: 0 / 0\n",
      "Train Epoch: 1 420 ?\n"
     ]
    },
    {
     "name": "stderr",
     "output_type": "stream",
     "text": [
      "2020-10-31 19:01:41.746 | CRITICAL | syft.grid.connections.webrtc:heartbeat:562 - Joiner PQ: 0 / 0 - CQ: 0 / 0\n"
     ]
    },
    {
     "name": "stdout",
     "output_type": "stream",
     "text": [
      "Joiner PQ: 0 / 0 - CQ: 0 / 0\n",
      "Train Epoch: 1 430 ?\n"
     ]
    },
    {
     "name": "stderr",
     "output_type": "stream",
     "text": [
      "2020-10-31 19:01:46.757 | CRITICAL | syft.grid.connections.webrtc:heartbeat:562 - Joiner PQ: 0 / 0 - CQ: 0 / 0\n"
     ]
    },
    {
     "name": "stdout",
     "output_type": "stream",
     "text": [
      "Joiner PQ: 0 / 0 - CQ: 0 / 0\n",
      "Train Epoch: 1 440 ?\n"
     ]
    },
    {
     "name": "stderr",
     "output_type": "stream",
     "text": [
      "2020-10-31 19:01:51.770 | CRITICAL | syft.grid.connections.webrtc:heartbeat:562 - Joiner PQ: 0 / 0 - CQ: 0 / 0\n"
     ]
    },
    {
     "name": "stdout",
     "output_type": "stream",
     "text": [
      "Joiner PQ: 0 / 0 - CQ: 0 / 0\n",
      "Train Epoch: 1 450 ?\n"
     ]
    },
    {
     "name": "stderr",
     "output_type": "stream",
     "text": [
      "2020-10-31 19:01:56.782 | CRITICAL | syft.grid.connections.webrtc:heartbeat:562 - Joiner PQ: 0 / 0 - CQ: 0 / 0\n"
     ]
    },
    {
     "name": "stdout",
     "output_type": "stream",
     "text": [
      "Joiner PQ: 0 / 0 - CQ: 0 / 0\n",
      "Train Epoch: 1 460 ?\n"
     ]
    },
    {
     "name": "stderr",
     "output_type": "stream",
     "text": [
      "2020-10-31 19:02:01.800 | CRITICAL | syft.grid.connections.webrtc:heartbeat:562 - Joiner PQ: 0 / 0 - CQ: 0 / 0\n"
     ]
    },
    {
     "name": "stdout",
     "output_type": "stream",
     "text": [
      "Joiner PQ: 0 / 0 - CQ: 0 / 0\n",
      "Train Epoch: 1 470 ?\n"
     ]
    },
    {
     "name": "stderr",
     "output_type": "stream",
     "text": [
      "2020-10-31 19:02:06.813 | CRITICAL | syft.grid.connections.webrtc:heartbeat:562 - Joiner PQ: 0 / 0 - CQ: 0 / 0\n"
     ]
    },
    {
     "name": "stdout",
     "output_type": "stream",
     "text": [
      "Joiner PQ: 0 / 0 - CQ: 0 / 0\n",
      "Train Epoch: 1 480 ?\n"
     ]
    },
    {
     "name": "stderr",
     "output_type": "stream",
     "text": [
      "2020-10-31 19:02:11.836 | CRITICAL | syft.grid.connections.webrtc:heartbeat:562 - Joiner PQ: 0 / 0 - CQ: 0 / 0\n"
     ]
    },
    {
     "name": "stdout",
     "output_type": "stream",
     "text": [
      "Joiner PQ: 0 / 0 - CQ: 0 / 0\n",
      "Train Epoch: 1 490 ?\n"
     ]
    },
    {
     "name": "stderr",
     "output_type": "stream",
     "text": [
      "2020-10-31 19:02:16.852 | CRITICAL | syft.grid.connections.webrtc:heartbeat:562 - Joiner PQ: 0 / 0 - CQ: 0 / 0\n"
     ]
    },
    {
     "name": "stdout",
     "output_type": "stream",
     "text": [
      "Joiner PQ: 0 / 0 - CQ: 0 / 0\n",
      "Train Epoch: 1 500 ?\n"
     ]
    },
    {
     "name": "stderr",
     "output_type": "stream",
     "text": [
      "2020-10-31 19:02:21.863 | CRITICAL | syft.grid.connections.webrtc:heartbeat:562 - Joiner PQ: 0 / 0 - CQ: 0 / 0\n"
     ]
    },
    {
     "name": "stdout",
     "output_type": "stream",
     "text": [
      "Joiner PQ: 0 / 0 - CQ: 0 / 0\n",
      "Train Epoch: 1 510 ?\n"
     ]
    },
    {
     "name": "stderr",
     "output_type": "stream",
     "text": [
      "2020-10-31 19:02:26.880 | CRITICAL | syft.grid.connections.webrtc:heartbeat:562 - Joiner PQ: 0 / 0 - CQ: 0 / 0\n"
     ]
    },
    {
     "name": "stdout",
     "output_type": "stream",
     "text": [
      "Joiner PQ: 0 / 0 - CQ: 0 / 0\n",
      "Train Epoch: 1 520 ?\n"
     ]
    },
    {
     "name": "stderr",
     "output_type": "stream",
     "text": [
      "2020-10-31 19:02:31.890 | CRITICAL | syft.grid.connections.webrtc:heartbeat:562 - Joiner PQ: 0 / 0 - CQ: 0 / 0\n"
     ]
    },
    {
     "name": "stdout",
     "output_type": "stream",
     "text": [
      "Joiner PQ: 0 / 0 - CQ: 0 / 0\n",
      "Train Epoch: 1 530 ?\n"
     ]
    },
    {
     "name": "stderr",
     "output_type": "stream",
     "text": [
      "2020-10-31 19:02:36.901 | CRITICAL | syft.grid.connections.webrtc:heartbeat:562 - Joiner PQ: 0 / 0 - CQ: 0 / 0\n"
     ]
    },
    {
     "name": "stdout",
     "output_type": "stream",
     "text": [
      "Joiner PQ: 0 / 0 - CQ: 0 / 0\n",
      "Train Epoch: 1 540 ?\n"
     ]
    },
    {
     "name": "stderr",
     "output_type": "stream",
     "text": [
      "2020-10-31 19:02:41.920 | CRITICAL | syft.grid.connections.webrtc:heartbeat:562 - Joiner PQ: 0 / 0 - CQ: 0 / 0\n"
     ]
    },
    {
     "name": "stdout",
     "output_type": "stream",
     "text": [
      "Train Epoch: 1 550 ?\n",
      "Joiner PQ: 0 / 0 - CQ: 0 / 0\n",
      "Train Epoch: 1 560 ?\n"
     ]
    },
    {
     "name": "stderr",
     "output_type": "stream",
     "text": [
      "2020-10-31 19:02:46.939 | CRITICAL | syft.grid.connections.webrtc:heartbeat:562 - Joiner PQ: 0 / 0 - CQ: 0 / 0\n"
     ]
    },
    {
     "name": "stdout",
     "output_type": "stream",
     "text": [
      "Joiner PQ: 0 / 0 - CQ: 0 / 0\n",
      "Train Epoch: 1 570 ?\n"
     ]
    },
    {
     "name": "stderr",
     "output_type": "stream",
     "text": [
      "2020-10-31 19:02:51.958 | CRITICAL | syft.grid.connections.webrtc:heartbeat:562 - Joiner PQ: 0 / 0 - CQ: 0 / 0\n"
     ]
    },
    {
     "name": "stdout",
     "output_type": "stream",
     "text": [
      "Joiner PQ: 0 / 0 - CQ: 0 / 0\n",
      "Train Epoch: 1 580 ?\n"
     ]
    },
    {
     "name": "stderr",
     "output_type": "stream",
     "text": [
      "2020-10-31 19:02:56.975 | CRITICAL | syft.grid.connections.webrtc:heartbeat:562 - Joiner PQ: 0 / 0 - CQ: 0 / 0\n"
     ]
    },
    {
     "name": "stdout",
     "output_type": "stream",
     "text": [
      "Joiner PQ: 0 / 0 - CQ: 0 / 0\n",
      "Train Epoch: 1 590 ?\n"
     ]
    },
    {
     "name": "stderr",
     "output_type": "stream",
     "text": [
      "2020-10-31 19:03:01.991 | CRITICAL | syft.grid.connections.webrtc:heartbeat:562 - Joiner PQ: 0 / 0 - CQ: 0 / 0\n"
     ]
    },
    {
     "name": "stdout",
     "output_type": "stream",
     "text": [
      "Joiner PQ: 0 / 0 - CQ: 0 / 0\n",
      "Train Epoch: 1 600 ?\n"
     ]
    },
    {
     "name": "stderr",
     "output_type": "stream",
     "text": [
      "2020-10-31 19:03:07.005 | CRITICAL | syft.grid.connections.webrtc:heartbeat:562 - Joiner PQ: 0 / 0 - CQ: 0 / 0\n"
     ]
    },
    {
     "name": "stdout",
     "output_type": "stream",
     "text": [
      "Joiner PQ: 0 / 0 - CQ: 0 / 0\n",
      "Train Epoch: 1 610 ?\n"
     ]
    },
    {
     "name": "stderr",
     "output_type": "stream",
     "text": [
      "2020-10-31 19:03:12.018 | CRITICAL | syft.grid.connections.webrtc:heartbeat:562 - Joiner PQ: 0 / 0 - CQ: 0 / 0\n"
     ]
    },
    {
     "name": "stdout",
     "output_type": "stream",
     "text": [
      "Joiner PQ: 0 / 0 - CQ: 0 / 0\n",
      "Train Epoch: 1 620 ?\n"
     ]
    },
    {
     "name": "stderr",
     "output_type": "stream",
     "text": [
      "2020-10-31 19:03:17.038 | CRITICAL | syft.grid.connections.webrtc:heartbeat:562 - Joiner PQ: 0 / 0 - CQ: 0 / 0\n"
     ]
    },
    {
     "name": "stdout",
     "output_type": "stream",
     "text": [
      "Joiner PQ: 0 / 0 - CQ: 0 / 0\n",
      "Train Epoch: 1 630 ?\n"
     ]
    },
    {
     "name": "stderr",
     "output_type": "stream",
     "text": [
      "2020-10-31 19:03:22.051 | CRITICAL | syft.grid.connections.webrtc:heartbeat:562 - Joiner PQ: 0 / 0 - CQ: 0 / 0\n"
     ]
    },
    {
     "name": "stdout",
     "output_type": "stream",
     "text": [
      "Joiner PQ: 0 / 0 - CQ: 0 / 0\n",
      "Train Epoch: 1 640 ?\n"
     ]
    },
    {
     "name": "stderr",
     "output_type": "stream",
     "text": [
      "2020-10-31 19:03:27.069 | CRITICAL | syft.grid.connections.webrtc:heartbeat:562 - Joiner PQ: 0 / 0 - CQ: 0 / 0\n"
     ]
    },
    {
     "name": "stdout",
     "output_type": "stream",
     "text": [
      "Joiner PQ: 0 / 0 - CQ: 0 / 0\n",
      "Train Epoch: 1 650 ?\n"
     ]
    },
    {
     "name": "stderr",
     "output_type": "stream",
     "text": [
      "2020-10-31 19:03:32.078 | CRITICAL | syft.grid.connections.webrtc:heartbeat:562 - Joiner PQ: 0 / 0 - CQ: 0 / 0\n"
     ]
    },
    {
     "name": "stdout",
     "output_type": "stream",
     "text": [
      "Joiner PQ: 0 / 0 - CQ: 0 / 0\n",
      "Train Epoch: 1 660 ?\n",
      "Train Epoch: 1 670 ?\n"
     ]
    },
    {
     "name": "stderr",
     "output_type": "stream",
     "text": [
      "2020-10-31 19:03:37.097 | CRITICAL | syft.grid.connections.webrtc:heartbeat:562 - Joiner PQ: 0 / 0 - CQ: 0 / 0\n"
     ]
    },
    {
     "name": "stdout",
     "output_type": "stream",
     "text": [
      "Joiner PQ: 0 / 0 - CQ: 0 / 0\n",
      "Train Epoch: 1 680 ?\n"
     ]
    },
    {
     "name": "stderr",
     "output_type": "stream",
     "text": [
      "2020-10-31 19:03:42.112 | CRITICAL | syft.grid.connections.webrtc:heartbeat:562 - Joiner PQ: 0 / 0 - CQ: 0 / 0\n"
     ]
    },
    {
     "name": "stdout",
     "output_type": "stream",
     "text": [
      "Joiner PQ: 0 / 0 - CQ: 0 / 0\n",
      "Train Epoch: 1 690 ?\n"
     ]
    },
    {
     "name": "stderr",
     "output_type": "stream",
     "text": [
      "2020-10-31 19:03:47.131 | CRITICAL | syft.grid.connections.webrtc:heartbeat:562 - Joiner PQ: 0 / 0 - CQ: 0 / 0\n"
     ]
    },
    {
     "name": "stdout",
     "output_type": "stream",
     "text": [
      "Joiner PQ: 0 / 0 - CQ: 0 / 0\n",
      "Train Epoch: 1 700 ?\n"
     ]
    },
    {
     "name": "stderr",
     "output_type": "stream",
     "text": [
      "2020-10-31 19:03:52.154 | CRITICAL | syft.grid.connections.webrtc:heartbeat:562 - Joiner PQ: 0 / 0 - CQ: 0 / 0\n"
     ]
    },
    {
     "name": "stdout",
     "output_type": "stream",
     "text": [
      "Joiner PQ: 0 / 0 - CQ: 0 / 0\n",
      "Train Epoch: 1 710 ?\n"
     ]
    },
    {
     "name": "stderr",
     "output_type": "stream",
     "text": [
      "2020-10-31 19:03:57.171 | CRITICAL | syft.grid.connections.webrtc:heartbeat:562 - Joiner PQ: 0 / 0 - CQ: 0 / 0\n"
     ]
    },
    {
     "name": "stdout",
     "output_type": "stream",
     "text": [
      "Joiner PQ: 0 / 0 - CQ: 0 / 0\n",
      "Train Epoch: 1 720 ?\n"
     ]
    },
    {
     "name": "stderr",
     "output_type": "stream",
     "text": [
      "2020-10-31 19:04:02.181 | CRITICAL | syft.grid.connections.webrtc:heartbeat:562 - Joiner PQ: 0 / 0 - CQ: 0 / 0\n"
     ]
    },
    {
     "name": "stdout",
     "output_type": "stream",
     "text": [
      "Joiner PQ: 0 / 0 - CQ: 0 / 0\n",
      "Train Epoch: 1 730 ?\n"
     ]
    },
    {
     "name": "stderr",
     "output_type": "stream",
     "text": [
      "2020-10-31 19:04:07.192 | CRITICAL | syft.grid.connections.webrtc:heartbeat:562 - Joiner PQ: 0 / 0 - CQ: 0 / 0\n"
     ]
    },
    {
     "name": "stdout",
     "output_type": "stream",
     "text": [
      "Joiner PQ: 0 / 0 - CQ: 0 / 0\n",
      "Train Epoch: 1 740 ?\n"
     ]
    },
    {
     "name": "stderr",
     "output_type": "stream",
     "text": [
      "2020-10-31 19:04:12.205 | CRITICAL | syft.grid.connections.webrtc:heartbeat:562 - Joiner PQ: 0 / 0 - CQ: 0 / 0\n"
     ]
    },
    {
     "name": "stdout",
     "output_type": "stream",
     "text": [
      "Joiner PQ: 0 / 0 - CQ: 0 / 0\n",
      "Train Epoch: 1 750 ?\n"
     ]
    },
    {
     "name": "stderr",
     "output_type": "stream",
     "text": [
      "2020-10-31 19:04:17.219 | CRITICAL | syft.grid.connections.webrtc:heartbeat:562 - Joiner PQ: 0 / 0 - CQ: 0 / 0\n"
     ]
    },
    {
     "name": "stdout",
     "output_type": "stream",
     "text": [
      "Joiner PQ: 0 / 0 - CQ: 0 / 0\n",
      "Train Epoch: 1 760 ?\n"
     ]
    },
    {
     "name": "stderr",
     "output_type": "stream",
     "text": [
      "2020-10-31 19:04:22.237 | CRITICAL | syft.grid.connections.webrtc:heartbeat:562 - Joiner PQ: 0 / 0 - CQ: 0 / 0\n"
     ]
    },
    {
     "name": "stdout",
     "output_type": "stream",
     "text": [
      "Train Epoch: 1 770 ?\n",
      "Joiner PQ: 0 / 0 - CQ: 0 / 0\n",
      "Train Epoch: 1 780 ?\n"
     ]
    },
    {
     "name": "stderr",
     "output_type": "stream",
     "text": [
      "2020-10-31 19:04:27.259 | CRITICAL | syft.grid.connections.webrtc:heartbeat:562 - Joiner PQ: 0 / 0 - CQ: 0 / 0\n"
     ]
    },
    {
     "name": "stdout",
     "output_type": "stream",
     "text": [
      "Joiner PQ: 0 / 0 - CQ: 0 / 0\n",
      "Train Epoch: 1 790 ?\n"
     ]
    },
    {
     "name": "stderr",
     "output_type": "stream",
     "text": [
      "2020-10-31 19:04:32.271 | CRITICAL | syft.grid.connections.webrtc:heartbeat:562 - Joiner PQ: 0 / 0 - CQ: 0 / 0\n"
     ]
    },
    {
     "name": "stdout",
     "output_type": "stream",
     "text": [
      "Joiner PQ: 0 / 0 - CQ: 0 / 0\n",
      "Train Epoch: 1 800 ?\n"
     ]
    },
    {
     "name": "stderr",
     "output_type": "stream",
     "text": [
      "2020-10-31 19:04:37.284 | CRITICAL | syft.grid.connections.webrtc:heartbeat:562 - Joiner PQ: 0 / 0 - CQ: 0 / 0\n"
     ]
    },
    {
     "name": "stdout",
     "output_type": "stream",
     "text": [
      "Joiner PQ: 0 / 0 - CQ: 0 / 0\n",
      "Train Epoch: 1 810 ?\n"
     ]
    },
    {
     "name": "stderr",
     "output_type": "stream",
     "text": [
      "2020-10-31 19:04:42.295 | CRITICAL | syft.grid.connections.webrtc:heartbeat:562 - Joiner PQ: 0 / 0 - CQ: 0 / 0\n"
     ]
    },
    {
     "name": "stdout",
     "output_type": "stream",
     "text": [
      "Joiner PQ: 0 / 0 - CQ: 0 / 0\n",
      "Train Epoch: 1 820 ?\n"
     ]
    },
    {
     "name": "stderr",
     "output_type": "stream",
     "text": [
      "2020-10-31 19:04:47.312 | CRITICAL | syft.grid.connections.webrtc:heartbeat:562 - Joiner PQ: 0 / 0 - CQ: 0 / 0\n"
     ]
    },
    {
     "name": "stdout",
     "output_type": "stream",
     "text": [
      "Joiner PQ: 0 / 0 - CQ: 0 / 0\n",
      "Train Epoch: 1 830 ?\n"
     ]
    },
    {
     "name": "stderr",
     "output_type": "stream",
     "text": [
      "2020-10-31 19:04:52.326 | CRITICAL | syft.grid.connections.webrtc:heartbeat:562 - Joiner PQ: 0 / 0 - CQ: 0 / 0\n"
     ]
    },
    {
     "name": "stdout",
     "output_type": "stream",
     "text": [
      "Joiner PQ: 0 / 0 - CQ: 0 / 0\n",
      "Train Epoch: 1 840 ?\n"
     ]
    },
    {
     "name": "stderr",
     "output_type": "stream",
     "text": [
      "2020-10-31 19:04:57.342 | CRITICAL | syft.grid.connections.webrtc:heartbeat:562 - Joiner PQ: 0 / 0 - CQ: 0 / 0\n"
     ]
    },
    {
     "name": "stdout",
     "output_type": "stream",
     "text": [
      "Train Epoch: 1 850 ?\n",
      "Joiner PQ: 0 / 0 - CQ: 0 / 0\n",
      "Train Epoch: 1 860 ?\n"
     ]
    },
    {
     "name": "stderr",
     "output_type": "stream",
     "text": [
      "2020-10-31 19:05:02.359 | CRITICAL | syft.grid.connections.webrtc:heartbeat:562 - Joiner PQ: 0 / 0 - CQ: 0 / 0\n"
     ]
    },
    {
     "name": "stdout",
     "output_type": "stream",
     "text": [
      "Joiner PQ: 0 / 0 - CQ: 0 / 0\n",
      "Train Epoch: 1 870 ?\n"
     ]
    },
    {
     "name": "stderr",
     "output_type": "stream",
     "text": [
      "2020-10-31 19:05:07.374 | CRITICAL | syft.grid.connections.webrtc:heartbeat:562 - Joiner PQ: 0 / 0 - CQ: 0 / 0\n"
     ]
    },
    {
     "name": "stdout",
     "output_type": "stream",
     "text": [
      "Joiner PQ: 0 / 0 - CQ: 0 / 0\n",
      "Train Epoch: 1 880 ?\n"
     ]
    },
    {
     "name": "stderr",
     "output_type": "stream",
     "text": [
      "2020-10-31 19:05:12.394 | CRITICAL | syft.grid.connections.webrtc:heartbeat:562 - Joiner PQ: 0 / 0 - CQ: 0 / 0\n"
     ]
    },
    {
     "name": "stdout",
     "output_type": "stream",
     "text": [
      "Joiner PQ: 0 / 0 - CQ: 0 / 0\n",
      "Train Epoch: 1 890 ?\n"
     ]
    },
    {
     "name": "stderr",
     "output_type": "stream",
     "text": [
      "2020-10-31 19:05:17.405 | CRITICAL | syft.grid.connections.webrtc:heartbeat:562 - Joiner PQ: 0 / 0 - CQ: 0 / 0\n"
     ]
    },
    {
     "name": "stdout",
     "output_type": "stream",
     "text": [
      "Joiner PQ: 0 / 0 - CQ: 0 / 0\n",
      "Train Epoch: 1 900 ?\n"
     ]
    },
    {
     "name": "stderr",
     "output_type": "stream",
     "text": [
      "2020-10-31 19:05:22.418 | CRITICAL | syft.grid.connections.webrtc:heartbeat:562 - Joiner PQ: 0 / 0 - CQ: 0 / 0\n"
     ]
    },
    {
     "name": "stdout",
     "output_type": "stream",
     "text": [
      "Joiner PQ: 0 / 0 - CQ: 0 / 0\n",
      "Train Epoch: 1 910 ?\n"
     ]
    },
    {
     "name": "stderr",
     "output_type": "stream",
     "text": [
      "2020-10-31 19:05:27.436 | CRITICAL | syft.grid.connections.webrtc:heartbeat:562 - Joiner PQ: 0 / 0 - CQ: 0 / 0\n"
     ]
    },
    {
     "name": "stdout",
     "output_type": "stream",
     "text": [
      "Joiner PQ: 0 / 0 - CQ: 0 / 0\n",
      "Train Epoch: 1 920 ?\n"
     ]
    },
    {
     "name": "stderr",
     "output_type": "stream",
     "text": [
      "2020-10-31 19:05:32.450 | CRITICAL | syft.grid.connections.webrtc:heartbeat:562 - Joiner PQ: 0 / 0 - CQ: 0 / 0\n"
     ]
    },
    {
     "name": "stdout",
     "output_type": "stream",
     "text": [
      "Joiner PQ: 0 / 0 - CQ: 0 / 0\n",
      "Train Epoch: 1 930 ?\n",
      "batch_idx >= train_batches, breaking\n",
      "> Downloading remote: conv1\n",
      "\n",
      "> Waiting for Blocking Request\n",
      "model_download: test evaluation.\n",
      "<UID:cbca578a-25d8-4b45-a477-990a002e75c8>\n",
      "\n",
      "> INSIDE Request BLOCK 0.0 seconds False\n"
     ]
    },
    {
     "name": "stderr",
     "output_type": "stream",
     "text": [
      "2020-10-31 19:05:37.452 | CRITICAL | syft.grid.connections.webrtc:heartbeat:562 - Joiner PQ: 0 / 0 - CQ: 0 / 0\n"
     ]
    },
    {
     "name": "stdout",
     "output_type": "stream",
     "text": [
      "Joiner PQ: 0 / 0 - CQ: 0 / 0\n"
     ]
    },
    {
     "name": "stderr",
     "output_type": "stream",
     "text": [
      "2020-10-31 19:05:42.456 | CRITICAL | syft.grid.connections.webrtc:heartbeat:562 - Joiner PQ: 0 / 0 - CQ: 0 / 0\n"
     ]
    },
    {
     "name": "stdout",
     "output_type": "stream",
     "text": [
      "Joiner PQ: 0 / 0 - CQ: 0 / 0\n"
     ]
    },
    {
     "name": "stderr",
     "output_type": "stream",
     "text": [
      "2020-10-31 19:05:47.457 | CRITICAL | syft.grid.connections.webrtc:heartbeat:562 - Joiner PQ: 0 / 0 - CQ: 0 / 0\n"
     ]
    },
    {
     "name": "stdout",
     "output_type": "stream",
     "text": [
      "Joiner PQ: 0 / 0 - CQ: 0 / 0\n"
     ]
    },
    {
     "name": "stderr",
     "output_type": "stream",
     "text": [
      "2020-10-31 19:05:52.460 | CRITICAL | syft.grid.connections.webrtc:heartbeat:562 - Joiner PQ: 0 / 0 - CQ: 0 / 0\n"
     ]
    },
    {
     "name": "stdout",
     "output_type": "stream",
     "text": [
      "Joiner PQ: 0 / 0 - CQ: 0 / 0\n"
     ]
    },
    {
     "name": "stderr",
     "output_type": "stream",
     "text": [
      "2020-10-31 19:05:57.463 | CRITICAL | syft.grid.connections.webrtc:heartbeat:562 - Joiner PQ: 0 / 0 - CQ: 0 / 0\n"
     ]
    },
    {
     "name": "stdout",
     "output_type": "stream",
     "text": [
      "Joiner PQ: 0 / 0 - CQ: 0 / 0\n"
     ]
    },
    {
     "name": "stderr",
     "output_type": "stream",
     "text": [
      "2020-10-31 19:06:02.464 | CRITICAL | syft.grid.connections.webrtc:heartbeat:562 - Joiner PQ: 0 / 0 - CQ: 0 / 0\n"
     ]
    },
    {
     "name": "stdout",
     "output_type": "stream",
     "text": [
      "Joiner PQ: 0 / 0 - CQ: 0 / 0\n"
     ]
    },
    {
     "name": "stderr",
     "output_type": "stream",
     "text": [
      "2020-10-31 19:06:07.466 | CRITICAL | syft.grid.connections.webrtc:heartbeat:562 - Joiner PQ: 0 / 0 - CQ: 0 / 0\n"
     ]
    },
    {
     "name": "stdout",
     "output_type": "stream",
     "text": [
      "Joiner PQ: 0 / 0 - CQ: 0 / 0\n"
     ]
    },
    {
     "name": "stderr",
     "output_type": "stream",
     "text": [
      "2020-10-31 19:06:12.467 | CRITICAL | syft.grid.connections.webrtc:heartbeat:562 - Joiner PQ: 0 / 0 - CQ: 0 / 0\n"
     ]
    },
    {
     "name": "stdout",
     "output_type": "stream",
     "text": [
      "Joiner PQ: 0 / 0 - CQ: 0 / 0\n"
     ]
    },
    {
     "name": "stderr",
     "output_type": "stream",
     "text": [
      "2020-10-31 19:06:17.471 | CRITICAL | syft.grid.connections.webrtc:heartbeat:562 - Joiner PQ: 0 / 0 - CQ: 0 / 0\n"
     ]
    },
    {
     "name": "stdout",
     "output_type": "stream",
     "text": [
      "Joiner PQ: 0 / 0 - CQ: 0 / 0\n"
     ]
    },
    {
     "name": "stderr",
     "output_type": "stream",
     "text": [
      "2020-10-31 19:06:22.472 | CRITICAL | syft.grid.connections.webrtc:heartbeat:562 - Joiner PQ: 0 / 0 - CQ: 0 / 0\n"
     ]
    },
    {
     "name": "stdout",
     "output_type": "stream",
     "text": [
      "Joiner PQ: 0 / 0 - CQ: 0 / 0\n"
     ]
    },
    {
     "name": "stderr",
     "output_type": "stream",
     "text": [
      "2020-10-31 19:06:27.475 | CRITICAL | syft.grid.connections.webrtc:heartbeat:562 - Joiner PQ: 0 / 0 - CQ: 0 / 0\n"
     ]
    },
    {
     "name": "stdout",
     "output_type": "stream",
     "text": [
      "Joiner PQ: 0 / 0 - CQ: 0 / 0\n"
     ]
    },
    {
     "name": "stderr",
     "output_type": "stream",
     "text": [
      "2020-10-31 19:06:32.476 | CRITICAL | syft.grid.connections.webrtc:heartbeat:562 - Joiner PQ: 0 / 0 - CQ: 0 / 0\n"
     ]
    },
    {
     "name": "stdout",
     "output_type": "stream",
     "text": [
      "Joiner PQ: 0 / 0 - CQ: 0 / 0\n"
     ]
    },
    {
     "name": "stderr",
     "output_type": "stream",
     "text": [
      "2020-10-31 19:06:37.479 | CRITICAL | syft.grid.connections.webrtc:heartbeat:562 - Joiner PQ: 0 / 0 - CQ: 0 / 0\n"
     ]
    },
    {
     "name": "stdout",
     "output_type": "stream",
     "text": [
      "Joiner PQ: 0 / 0 - CQ: 0 / 0\n"
     ]
    },
    {
     "name": "stderr",
     "output_type": "stream",
     "text": [
      "2020-10-31 19:06:42.480 | CRITICAL | syft.grid.connections.webrtc:heartbeat:562 - Joiner PQ: 0 / 0 - CQ: 0 / 0\n"
     ]
    },
    {
     "name": "stdout",
     "output_type": "stream",
     "text": [
      "Joiner PQ: 0 / 0 - CQ: 0 / 0\n"
     ]
    },
    {
     "name": "stderr",
     "output_type": "stream",
     "text": [
      "2020-10-31 19:06:47.482 | CRITICAL | syft.grid.connections.webrtc:heartbeat:562 - Joiner PQ: 0 / 0 - CQ: 0 / 0\n"
     ]
    },
    {
     "name": "stdout",
     "output_type": "stream",
     "text": [
      "Joiner PQ: 0 / 0 - CQ: 0 / 0\n"
     ]
    },
    {
     "name": "stderr",
     "output_type": "stream",
     "text": [
      "2020-10-31 19:06:52.485 | CRITICAL | syft.grid.connections.webrtc:heartbeat:562 - Joiner PQ: 0 / 0 - CQ: 0 / 0\n"
     ]
    },
    {
     "name": "stdout",
     "output_type": "stream",
     "text": [
      "Joiner PQ: 0 / 0 - CQ: 0 / 0\n"
     ]
    },
    {
     "name": "stderr",
     "output_type": "stream",
     "text": [
      "2020-10-31 19:06:57.487 | CRITICAL | syft.grid.connections.webrtc:heartbeat:562 - Joiner PQ: 0 / 0 - CQ: 0 / 0\n"
     ]
    },
    {
     "name": "stdout",
     "output_type": "stream",
     "text": [
      "Joiner PQ: 0 / 0 - CQ: 0 / 0\n"
     ]
    },
    {
     "name": "stderr",
     "output_type": "stream",
     "text": [
      "2020-10-31 19:07:02.488 | CRITICAL | syft.grid.connections.webrtc:heartbeat:562 - Joiner PQ: 0 / 0 - CQ: 0 / 0\n"
     ]
    },
    {
     "name": "stdout",
     "output_type": "stream",
     "text": [
      "Joiner PQ: 0 / 0 - CQ: 0 / 0\n"
     ]
    },
    {
     "name": "stderr",
     "output_type": "stream",
     "text": [
      "2020-10-31 19:07:07.489 | CRITICAL | syft.grid.connections.webrtc:heartbeat:562 - Joiner PQ: 0 / 0 - CQ: 0 / 0\n"
     ]
    },
    {
     "name": "stdout",
     "output_type": "stream",
     "text": [
      "Joiner PQ: 0 / 0 - CQ: 0 / 0\n"
     ]
    },
    {
     "name": "stderr",
     "output_type": "stream",
     "text": [
      "2020-10-31 19:07:12.491 | CRITICAL | syft.grid.connections.webrtc:heartbeat:562 - Joiner PQ: 0 / 0 - CQ: 0 / 0\n"
     ]
    },
    {
     "name": "stdout",
     "output_type": "stream",
     "text": [
      "Joiner PQ: 0 / 0 - CQ: 0 / 0\n"
     ]
    },
    {
     "name": "stderr",
     "output_type": "stream",
     "text": [
      "2020-10-31 19:07:17.492 | CRITICAL | syft.grid.connections.webrtc:heartbeat:562 - Joiner PQ: 0 / 0 - CQ: 0 / 0\n"
     ]
    },
    {
     "name": "stdout",
     "output_type": "stream",
     "text": [
      "Joiner PQ: 0 / 0 - CQ: 0 / 0\n"
     ]
    },
    {
     "name": "stderr",
     "output_type": "stream",
     "text": [
      "2020-10-31 19:07:22.493 | CRITICAL | syft.grid.connections.webrtc:heartbeat:562 - Joiner PQ: 0 / 0 - CQ: 0 / 0\n"
     ]
    },
    {
     "name": "stdout",
     "output_type": "stream",
     "text": [
      "Joiner PQ: 0 / 0 - CQ: 0 / 0\n"
     ]
    },
    {
     "name": "stderr",
     "output_type": "stream",
     "text": [
      "2020-10-31 19:07:27.496 | CRITICAL | syft.grid.connections.webrtc:heartbeat:562 - Joiner PQ: 0 / 0 - CQ: 0 / 0\n"
     ]
    },
    {
     "name": "stdout",
     "output_type": "stream",
     "text": [
      "Joiner PQ: 0 / 0 - CQ: 0 / 0\n"
     ]
    },
    {
     "name": "stderr",
     "output_type": "stream",
     "text": [
      "2020-10-31 19:07:32.497 | CRITICAL | syft.grid.connections.webrtc:heartbeat:562 - Joiner PQ: 0 / 0 - CQ: 0 / 0\n"
     ]
    },
    {
     "name": "stdout",
     "output_type": "stream",
     "text": [
      "Joiner PQ: 0 / 0 - CQ: 0 / 0\n"
     ]
    },
    {
     "name": "stderr",
     "output_type": "stream",
     "text": [
      "2020-10-31 19:07:37.500 | CRITICAL | syft.grid.connections.webrtc:heartbeat:562 - Joiner PQ: 0 / 0 - CQ: 0 / 0\n"
     ]
    },
    {
     "name": "stdout",
     "output_type": "stream",
     "text": [
      "Joiner PQ: 0 / 0 - CQ: 0 / 0\n"
     ]
    },
    {
     "name": "stderr",
     "output_type": "stream",
     "text": [
      "2020-10-31 19:07:42.502 | CRITICAL | syft.grid.connections.webrtc:heartbeat:562 - Joiner PQ: 0 / 0 - CQ: 0 / 0\n"
     ]
    },
    {
     "name": "stdout",
     "output_type": "stream",
     "text": [
      "Joiner PQ: 0 / 0 - CQ: 0 / 0\n"
     ]
    },
    {
     "name": "stderr",
     "output_type": "stream",
     "text": [
      "2020-10-31 19:07:47.504 | CRITICAL | syft.grid.connections.webrtc:heartbeat:562 - Joiner PQ: 0 / 0 - CQ: 0 / 0\n"
     ]
    },
    {
     "name": "stdout",
     "output_type": "stream",
     "text": [
      "Joiner PQ: 0 / 0 - CQ: 0 / 0\n"
     ]
    },
    {
     "name": "stderr",
     "output_type": "stream",
     "text": [
      "2020-10-31 19:07:52.506 | CRITICAL | syft.grid.connections.webrtc:heartbeat:562 - Joiner PQ: 0 / 0 - CQ: 0 / 0\n"
     ]
    },
    {
     "name": "stdout",
     "output_type": "stream",
     "text": [
      "Joiner PQ: 0 / 0 - CQ: 0 / 0\n"
     ]
    },
    {
     "name": "stderr",
     "output_type": "stream",
     "text": [
      "2020-10-31 19:07:57.509 | CRITICAL | syft.grid.connections.webrtc:heartbeat:562 - Joiner PQ: 0 / 0 - CQ: 0 / 0\n"
     ]
    },
    {
     "name": "stdout",
     "output_type": "stream",
     "text": [
      "Joiner PQ: 0 / 0 - CQ: 0 / 0\n"
     ]
    },
    {
     "name": "stderr",
     "output_type": "stream",
     "text": [
      "2020-10-31 19:08:02.513 | CRITICAL | syft.grid.connections.webrtc:heartbeat:562 - Joiner PQ: 0 / 0 - CQ: 0 / 0\n"
     ]
    },
    {
     "name": "stdout",
     "output_type": "stream",
     "text": [
      "Joiner PQ: 0 / 0 - CQ: 0 / 0\n"
     ]
    },
    {
     "name": "stderr",
     "output_type": "stream",
     "text": [
      "2020-10-31 19:08:07.513 | CRITICAL | syft.grid.connections.webrtc:heartbeat:562 - Joiner PQ: 0 / 0 - CQ: 0 / 0\n"
     ]
    },
    {
     "name": "stdout",
     "output_type": "stream",
     "text": [
      "Joiner PQ: 0 / 0 - CQ: 0 / 0\n"
     ]
    },
    {
     "name": "stderr",
     "output_type": "stream",
     "text": [
      "2020-10-31 19:08:12.514 | CRITICAL | syft.grid.connections.webrtc:heartbeat:562 - Joiner PQ: 0 / 0 - CQ: 0 / 0\n"
     ]
    },
    {
     "name": "stdout",
     "output_type": "stream",
     "text": [
      "Joiner PQ: 0 / 0 - CQ: 0 / 0\n"
     ]
    },
    {
     "name": "stderr",
     "output_type": "stream",
     "text": [
      "2020-10-31 19:08:17.516 | CRITICAL | syft.grid.connections.webrtc:heartbeat:562 - Joiner PQ: 0 / 0 - CQ: 0 / 0\n"
     ]
    },
    {
     "name": "stdout",
     "output_type": "stream",
     "text": [
      "Joiner PQ: 0 / 0 - CQ: 0 / 0\n"
     ]
    },
    {
     "name": "stderr",
     "output_type": "stream",
     "text": [
      "2020-10-31 19:08:22.518 | CRITICAL | syft.grid.connections.webrtc:heartbeat:562 - Joiner PQ: 0 / 0 - CQ: 0 / 0\n"
     ]
    },
    {
     "name": "stdout",
     "output_type": "stream",
     "text": [
      "Joiner PQ: 0 / 0 - CQ: 0 / 0\n"
     ]
    },
    {
     "name": "stderr",
     "output_type": "stream",
     "text": [
      "2020-10-31 19:08:27.520 | CRITICAL | syft.grid.connections.webrtc:heartbeat:562 - Joiner PQ: 0 / 0 - CQ: 0 / 0\n"
     ]
    },
    {
     "name": "stdout",
     "output_type": "stream",
     "text": [
      "Joiner PQ: 0 / 0 - CQ: 0 / 0\n"
     ]
    },
    {
     "name": "stderr",
     "output_type": "stream",
     "text": [
      "2020-10-31 19:08:32.521 | CRITICAL | syft.grid.connections.webrtc:heartbeat:562 - Joiner PQ: 0 / 0 - CQ: 0 / 0\n"
     ]
    },
    {
     "name": "stdout",
     "output_type": "stream",
     "text": [
      "Joiner PQ: 0 / 0 - CQ: 0 / 0\n"
     ]
    },
    {
     "name": "stderr",
     "output_type": "stream",
     "text": [
      "2020-10-31 19:08:37.525 | CRITICAL | syft.grid.connections.webrtc:heartbeat:562 - Joiner PQ: 0 / 0 - CQ: 0 / 0\n"
     ]
    },
    {
     "name": "stdout",
     "output_type": "stream",
     "text": [
      "Joiner PQ: 0 / 0 - CQ: 0 / 0\n"
     ]
    },
    {
     "name": "stderr",
     "output_type": "stream",
     "text": [
      "2020-10-31 19:08:42.526 | CRITICAL | syft.grid.connections.webrtc:heartbeat:562 - Joiner PQ: 0 / 0 - CQ: 0 / 0\n"
     ]
    },
    {
     "name": "stdout",
     "output_type": "stream",
     "text": [
      "Joiner PQ: 0 / 0 - CQ: 0 / 0\n"
     ]
    },
    {
     "name": "stderr",
     "output_type": "stream",
     "text": [
      "2020-10-31 19:08:47.528 | CRITICAL | syft.grid.connections.webrtc:heartbeat:562 - Joiner PQ: 0 / 0 - CQ: 0 / 0\n"
     ]
    },
    {
     "name": "stdout",
     "output_type": "stream",
     "text": [
      "Joiner PQ: 0 / 0 - CQ: 0 / 0\n"
     ]
    },
    {
     "name": "stderr",
     "output_type": "stream",
     "text": [
      "2020-10-31 19:08:52.531 | CRITICAL | syft.grid.connections.webrtc:heartbeat:562 - Joiner PQ: 0 / 0 - CQ: 0 / 0\n"
     ]
    },
    {
     "name": "stdout",
     "output_type": "stream",
     "text": [
      "Joiner PQ: 0 / 0 - CQ: 0 / 0\n"
     ]
    },
    {
     "name": "stderr",
     "output_type": "stream",
     "text": [
      "2020-10-31 19:08:57.533 | CRITICAL | syft.grid.connections.webrtc:heartbeat:562 - Joiner PQ: 0 / 0 - CQ: 0 / 0\n"
     ]
    },
    {
     "name": "stdout",
     "output_type": "stream",
     "text": [
      "Joiner PQ: 0 / 0 - CQ: 0 / 0\n"
     ]
    },
    {
     "name": "stderr",
     "output_type": "stream",
     "text": [
      "2020-10-31 19:09:02.534 | CRITICAL | syft.grid.connections.webrtc:heartbeat:562 - Joiner PQ: 0 / 0 - CQ: 0 / 0\n"
     ]
    },
    {
     "name": "stdout",
     "output_type": "stream",
     "text": [
      "Joiner PQ: 0 / 0 - CQ: 0 / 0\n"
     ]
    },
    {
     "name": "stderr",
     "output_type": "stream",
     "text": [
      "2020-10-31 19:09:07.535 | CRITICAL | syft.grid.connections.webrtc:heartbeat:562 - Joiner PQ: 0 / 0 - CQ: 0 / 0\n"
     ]
    },
    {
     "name": "stdout",
     "output_type": "stream",
     "text": [
      "Joiner PQ: 0 / 0 - CQ: 0 / 0\n"
     ]
    },
    {
     "name": "stderr",
     "output_type": "stream",
     "text": [
      "2020-10-31 19:09:12.536 | CRITICAL | syft.grid.connections.webrtc:heartbeat:562 - Joiner PQ: 0 / 0 - CQ: 0 / 0\n"
     ]
    },
    {
     "name": "stdout",
     "output_type": "stream",
     "text": [
      "Joiner PQ: 0 / 0 - CQ: 0 / 0\n"
     ]
    },
    {
     "name": "stderr",
     "output_type": "stream",
     "text": [
      "2020-10-31 19:09:17.540 | CRITICAL | syft.grid.connections.webrtc:heartbeat:562 - Joiner PQ: 0 / 0 - CQ: 0 / 0\n"
     ]
    },
    {
     "name": "stdout",
     "output_type": "stream",
     "text": [
      "Joiner PQ: 0 / 0 - CQ: 0 / 0\n"
     ]
    },
    {
     "name": "stderr",
     "output_type": "stream",
     "text": [
      "2020-10-31 19:09:22.542 | CRITICAL | syft.grid.connections.webrtc:heartbeat:562 - Joiner PQ: 0 / 0 - CQ: 0 / 0\n"
     ]
    },
    {
     "name": "stdout",
     "output_type": "stream",
     "text": [
      "Joiner PQ: 0 / 0 - CQ: 0 / 0\n"
     ]
    },
    {
     "name": "stderr",
     "output_type": "stream",
     "text": [
      "2020-10-31 19:09:27.547 | CRITICAL | syft.grid.connections.webrtc:heartbeat:562 - Joiner PQ: 0 / 0 - CQ: 0 / 0\n"
     ]
    },
    {
     "name": "stdout",
     "output_type": "stream",
     "text": [
      "Joiner PQ: 0 / 0 - CQ: 0 / 0\n"
     ]
    },
    {
     "name": "stderr",
     "output_type": "stream",
     "text": [
      "2020-10-31 19:09:32.549 | CRITICAL | syft.grid.connections.webrtc:heartbeat:562 - Joiner PQ: 0 / 0 - CQ: 0 / 0\n"
     ]
    },
    {
     "name": "stdout",
     "output_type": "stream",
     "text": [
      "Joiner PQ: 0 / 0 - CQ: 0 / 0\n"
     ]
    },
    {
     "name": "stderr",
     "output_type": "stream",
     "text": [
      "2020-10-31 19:09:37.551 | CRITICAL | syft.grid.connections.webrtc:heartbeat:562 - Joiner PQ: 0 / 0 - CQ: 0 / 0\n"
     ]
    },
    {
     "name": "stdout",
     "output_type": "stream",
     "text": [
      "Joiner PQ: 0 / 0 - CQ: 0 / 0\n"
     ]
    },
    {
     "name": "stderr",
     "output_type": "stream",
     "text": [
      "2020-10-31 19:09:42.552 | CRITICAL | syft.grid.connections.webrtc:heartbeat:562 - Joiner PQ: 0 / 0 - CQ: 0 / 0\n"
     ]
    },
    {
     "name": "stdout",
     "output_type": "stream",
     "text": [
      "Joiner PQ: 0 / 0 - CQ: 0 / 0\n"
     ]
    },
    {
     "name": "stderr",
     "output_type": "stream",
     "text": [
      "2020-10-31 19:09:47.553 | CRITICAL | syft.grid.connections.webrtc:heartbeat:562 - Joiner PQ: 0 / 0 - CQ: 0 / 0\n"
     ]
    },
    {
     "name": "stdout",
     "output_type": "stream",
     "text": [
      "Joiner PQ: 0 / 0 - CQ: 0 / 0\n"
     ]
    },
    {
     "name": "stderr",
     "output_type": "stream",
     "text": [
      "2020-10-31 19:09:52.555 | CRITICAL | syft.grid.connections.webrtc:heartbeat:562 - Joiner PQ: 0 / 0 - CQ: 0 / 0\n"
     ]
    },
    {
     "name": "stdout",
     "output_type": "stream",
     "text": [
      "Joiner PQ: 0 / 0 - CQ: 0 / 0\n"
     ]
    },
    {
     "name": "stderr",
     "output_type": "stream",
     "text": [
      "2020-10-31 19:09:57.558 | CRITICAL | syft.grid.connections.webrtc:heartbeat:562 - Joiner PQ: 0 / 0 - CQ: 0 / 0\n"
     ]
    },
    {
     "name": "stdout",
     "output_type": "stream",
     "text": [
      "Joiner PQ: 0 / 0 - CQ: 0 / 0\n"
     ]
    },
    {
     "name": "stderr",
     "output_type": "stream",
     "text": [
      "2020-10-31 19:10:02.561 | CRITICAL | syft.grid.connections.webrtc:heartbeat:562 - Joiner PQ: 0 / 0 - CQ: 0 / 0\n"
     ]
    },
    {
     "name": "stdout",
     "output_type": "stream",
     "text": [
      "Joiner PQ: 0 / 0 - CQ: 0 / 0\n"
     ]
    },
    {
     "name": "stderr",
     "output_type": "stream",
     "text": [
      "2020-10-31 19:10:07.564 | CRITICAL | syft.grid.connections.webrtc:heartbeat:562 - Joiner PQ: 0 / 0 - CQ: 0 / 0\n"
     ]
    },
    {
     "name": "stdout",
     "output_type": "stream",
     "text": [
      "Joiner PQ: 0 / 0 - CQ: 0 / 0\n"
     ]
    },
    {
     "name": "stderr",
     "output_type": "stream",
     "text": [
      "2020-10-31 19:10:12.565 | CRITICAL | syft.grid.connections.webrtc:heartbeat:562 - Joiner PQ: 0 / 0 - CQ: 0 / 0\n"
     ]
    },
    {
     "name": "stdout",
     "output_type": "stream",
     "text": [
      "Joiner PQ: 0 / 0 - CQ: 0 / 0\n"
     ]
    },
    {
     "name": "stderr",
     "output_type": "stream",
     "text": [
      "2020-10-31 19:10:17.567 | CRITICAL | syft.grid.connections.webrtc:heartbeat:562 - Joiner PQ: 0 / 0 - CQ: 0 / 0\n"
     ]
    },
    {
     "name": "stdout",
     "output_type": "stream",
     "text": [
      "Joiner PQ: 0 / 0 - CQ: 0 / 0\n"
     ]
    },
    {
     "name": "stderr",
     "output_type": "stream",
     "text": [
      "2020-10-31 19:10:22.570 | CRITICAL | syft.grid.connections.webrtc:heartbeat:562 - Joiner PQ: 0 / 0 - CQ: 0 / 0\n"
     ]
    },
    {
     "name": "stdout",
     "output_type": "stream",
     "text": [
      "Joiner PQ: 0 / 0 - CQ: 0 / 0\n"
     ]
    },
    {
     "name": "stderr",
     "output_type": "stream",
     "text": [
      "2020-10-31 19:10:27.572 | CRITICAL | syft.grid.connections.webrtc:heartbeat:562 - Joiner PQ: 0 / 0 - CQ: 0 / 0\n"
     ]
    },
    {
     "name": "stdout",
     "output_type": "stream",
     "text": [
      "Joiner PQ: 0 / 0 - CQ: 0 / 0\n"
     ]
    },
    {
     "name": "stderr",
     "output_type": "stream",
     "text": [
      "2020-10-31 19:10:32.572 | CRITICAL | syft.grid.connections.webrtc:heartbeat:562 - Joiner PQ: 0 / 0 - CQ: 0 / 0\n"
     ]
    },
    {
     "name": "stdout",
     "output_type": "stream",
     "text": [
      "Joiner PQ: 0 / 0 - CQ: 0 / 0\n"
     ]
    },
    {
     "name": "stderr",
     "output_type": "stream",
     "text": [
      "2020-10-31 19:10:37.575 | CRITICAL | syft.grid.connections.webrtc:heartbeat:562 - Joiner PQ: 0 / 0 - CQ: 0 / 0\n"
     ]
    },
    {
     "name": "stdout",
     "output_type": "stream",
     "text": [
      "Joiner PQ: 0 / 0 - CQ: 0 / 0\n"
     ]
    },
    {
     "name": "stderr",
     "output_type": "stream",
     "text": [
      "2020-10-31 19:10:42.577 | CRITICAL | syft.grid.connections.webrtc:heartbeat:562 - Joiner PQ: 0 / 0 - CQ: 0 / 0\n"
     ]
    },
    {
     "name": "stdout",
     "output_type": "stream",
     "text": [
      "Joiner PQ: 0 / 0 - CQ: 0 / 0\n"
     ]
    },
    {
     "name": "stderr",
     "output_type": "stream",
     "text": [
      "2020-10-31 19:10:47.579 | CRITICAL | syft.grid.connections.webrtc:heartbeat:562 - Joiner PQ: 0 / 0 - CQ: 0 / 0\n"
     ]
    },
    {
     "name": "stdout",
     "output_type": "stream",
     "text": [
      "Joiner PQ: 0 / 0 - CQ: 0 / 0\n"
     ]
    },
    {
     "name": "stderr",
     "output_type": "stream",
     "text": [
      "2020-10-31 19:10:52.581 | CRITICAL | syft.grid.connections.webrtc:heartbeat:562 - Joiner PQ: 0 / 0 - CQ: 0 / 0\n"
     ]
    },
    {
     "name": "stdout",
     "output_type": "stream",
     "text": [
      "Joiner PQ: 0 / 0 - CQ: 0 / 0\n"
     ]
    },
    {
     "name": "stderr",
     "output_type": "stream",
     "text": [
      "2020-10-31 19:10:57.585 | CRITICAL | syft.grid.connections.webrtc:heartbeat:562 - Joiner PQ: 0 / 0 - CQ: 0 / 0\n"
     ]
    },
    {
     "name": "stdout",
     "output_type": "stream",
     "text": [
      "Joiner PQ: 0 / 0 - CQ: 0 / 0\n"
     ]
    },
    {
     "name": "stderr",
     "output_type": "stream",
     "text": [
      "2020-10-31 19:11:02.587 | CRITICAL | syft.grid.connections.webrtc:heartbeat:562 - Joiner PQ: 0 / 0 - CQ: 0 / 0\n"
     ]
    },
    {
     "name": "stdout",
     "output_type": "stream",
     "text": [
      "Joiner PQ: 0 / 0 - CQ: 0 / 0\n"
     ]
    },
    {
     "name": "stderr",
     "output_type": "stream",
     "text": [
      "2020-10-31 19:11:07.589 | CRITICAL | syft.grid.connections.webrtc:heartbeat:562 - Joiner PQ: 0 / 0 - CQ: 0 / 0\n"
     ]
    },
    {
     "name": "stdout",
     "output_type": "stream",
     "text": [
      "Joiner PQ: 0 / 0 - CQ: 0 / 0\n"
     ]
    },
    {
     "name": "stderr",
     "output_type": "stream",
     "text": [
      "2020-10-31 19:11:12.591 | CRITICAL | syft.grid.connections.webrtc:heartbeat:562 - Joiner PQ: 0 / 0 - CQ: 0 / 0\n"
     ]
    },
    {
     "name": "stdout",
     "output_type": "stream",
     "text": [
      "Joiner PQ: 0 / 0 - CQ: 0 / 0\n"
     ]
    },
    {
     "name": "stderr",
     "output_type": "stream",
     "text": [
      "2020-10-31 19:11:17.593 | CRITICAL | syft.grid.connections.webrtc:heartbeat:562 - Joiner PQ: 0 / 0 - CQ: 0 / 0\n"
     ]
    },
    {
     "name": "stdout",
     "output_type": "stream",
     "text": [
      "Joiner PQ: 0 / 0 - CQ: 0 / 0\n"
     ]
    },
    {
     "name": "stderr",
     "output_type": "stream",
     "text": [
      "2020-10-31 19:11:22.594 | CRITICAL | syft.grid.connections.webrtc:heartbeat:562 - Joiner PQ: 0 / 0 - CQ: 0 / 0\n"
     ]
    },
    {
     "name": "stdout",
     "output_type": "stream",
     "text": [
      "Joiner PQ: 0 / 0 - CQ: 0 / 0\n"
     ]
    },
    {
     "name": "stderr",
     "output_type": "stream",
     "text": [
      "2020-10-31 19:11:27.598 | CRITICAL | syft.grid.connections.webrtc:heartbeat:562 - Joiner PQ: 0 / 0 - CQ: 0 / 0\n"
     ]
    },
    {
     "name": "stdout",
     "output_type": "stream",
     "text": [
      "Joiner PQ: 0 / 0 - CQ: 0 / 0\n"
     ]
    },
    {
     "name": "stderr",
     "output_type": "stream",
     "text": [
      "2020-10-31 19:11:32.599 | CRITICAL | syft.grid.connections.webrtc:heartbeat:562 - Joiner PQ: 0 / 0 - CQ: 0 / 0\n"
     ]
    },
    {
     "name": "stdout",
     "output_type": "stream",
     "text": [
      "Joiner PQ: 0 / 0 - CQ: 0 / 0\n"
     ]
    },
    {
     "name": "stderr",
     "output_type": "stream",
     "text": [
      "2020-10-31 19:11:37.600 | CRITICAL | syft.grid.connections.webrtc:heartbeat:562 - Joiner PQ: 0 / 0 - CQ: 0 / 0\n"
     ]
    },
    {
     "name": "stdout",
     "output_type": "stream",
     "text": [
      "Joiner PQ: 0 / 0 - CQ: 0 / 0\n"
     ]
    },
    {
     "name": "stderr",
     "output_type": "stream",
     "text": [
      "2020-10-31 19:11:42.602 | CRITICAL | syft.grid.connections.webrtc:heartbeat:562 - Joiner PQ: 0 / 0 - CQ: 0 / 0\n"
     ]
    },
    {
     "name": "stdout",
     "output_type": "stream",
     "text": [
      "Joiner PQ: 0 / 0 - CQ: 0 / 0\n"
     ]
    },
    {
     "name": "stderr",
     "output_type": "stream",
     "text": [
      "2020-10-31 19:11:47.603 | CRITICAL | syft.grid.connections.webrtc:heartbeat:562 - Joiner PQ: 0 / 0 - CQ: 0 / 0\n"
     ]
    },
    {
     "name": "stdout",
     "output_type": "stream",
     "text": [
      "Joiner PQ: 0 / 0 - CQ: 0 / 0\n"
     ]
    },
    {
     "name": "stderr",
     "output_type": "stream",
     "text": [
      "2020-10-31 19:11:52.606 | CRITICAL | syft.grid.connections.webrtc:heartbeat:562 - Joiner PQ: 0 / 0 - CQ: 0 / 0\n"
     ]
    },
    {
     "name": "stdout",
     "output_type": "stream",
     "text": [
      "Joiner PQ: 0 / 0 - CQ: 0 / 0\n"
     ]
    },
    {
     "name": "stderr",
     "output_type": "stream",
     "text": [
      "2020-10-31 19:11:57.609 | CRITICAL | syft.grid.connections.webrtc:heartbeat:562 - Joiner PQ: 0 / 0 - CQ: 0 / 0\n"
     ]
    },
    {
     "name": "stdout",
     "output_type": "stream",
     "text": [
      "Joiner PQ: 0 / 0 - CQ: 0 / 0\n"
     ]
    },
    {
     "name": "stderr",
     "output_type": "stream",
     "text": [
      "2020-10-31 19:12:02.611 | CRITICAL | syft.grid.connections.webrtc:heartbeat:562 - Joiner PQ: 0 / 0 - CQ: 0 / 0\n"
     ]
    },
    {
     "name": "stdout",
     "output_type": "stream",
     "text": [
      "Joiner PQ: 0 / 0 - CQ: 0 / 0\n"
     ]
    },
    {
     "name": "stderr",
     "output_type": "stream",
     "text": [
      "2020-10-31 19:12:07.613 | CRITICAL | syft.grid.connections.webrtc:heartbeat:562 - Joiner PQ: 0 / 0 - CQ: 0 / 0\n"
     ]
    },
    {
     "name": "stdout",
     "output_type": "stream",
     "text": [
      "Joiner PQ: 0 / 0 - CQ: 0 / 0\n"
     ]
    },
    {
     "name": "stderr",
     "output_type": "stream",
     "text": [
      "2020-10-31 19:12:12.614 | CRITICAL | syft.grid.connections.webrtc:heartbeat:562 - Joiner PQ: 0 / 0 - CQ: 0 / 0\n"
     ]
    },
    {
     "name": "stdout",
     "output_type": "stream",
     "text": [
      "Joiner PQ: 0 / 0 - CQ: 0 / 0\n"
     ]
    },
    {
     "name": "stderr",
     "output_type": "stream",
     "text": [
      "2020-10-31 19:12:17.616 | CRITICAL | syft.grid.connections.webrtc:heartbeat:562 - Joiner PQ: 0 / 0 - CQ: 0 / 0\n"
     ]
    },
    {
     "name": "stdout",
     "output_type": "stream",
     "text": [
      "Joiner PQ: 0 / 0 - CQ: 0 / 0\n"
     ]
    },
    {
     "name": "stderr",
     "output_type": "stream",
     "text": [
      "2020-10-31 19:12:22.618 | CRITICAL | syft.grid.connections.webrtc:heartbeat:562 - Joiner PQ: 0 / 0 - CQ: 0 / 0\n"
     ]
    },
    {
     "name": "stdout",
     "output_type": "stream",
     "text": [
      "Joiner PQ: 0 / 0 - CQ: 0 / 0\n"
     ]
    },
    {
     "name": "stderr",
     "output_type": "stream",
     "text": [
      "2020-10-31 19:12:27.622 | CRITICAL | syft.grid.connections.webrtc:heartbeat:562 - Joiner PQ: 0 / 0 - CQ: 0 / 0\n"
     ]
    },
    {
     "name": "stdout",
     "output_type": "stream",
     "text": [
      "Joiner PQ: 0 / 0 - CQ: 0 / 0\n"
     ]
    },
    {
     "name": "stderr",
     "output_type": "stream",
     "text": [
      "2020-10-31 19:12:32.250 | ERROR    | syft.core.common.module:copy_remote_state:163 - Failed to download remote state for conv1. 'NoneType' object has no attribute 'items'\n"
     ]
    },
    {
     "name": "stdout",
     "output_type": "stream",
     "text": [
      ".\n",
      "> INSIDE Request BLOCK 415.3126759529114 seconds True\n",
      "\n",
      "> Blocking Request Timeout after 30 seconds\n",
      "> Downloading remote: conv2\n"
     ]
    },
    {
     "name": "stderr",
     "output_type": "stream",
     "text": [
      "2020-10-31 19:12:32.792 | CRITICAL | syft.grid.connections.webrtc:heartbeat:562 - Joiner PQ: 0 / 0 - CQ: 0 / 0\n"
     ]
    },
    {
     "name": "stdout",
     "output_type": "stream",
     "text": [
      "\n",
      "> Waiting for Blocking Request\n",
      "model_download: test evaluation.\n",
      "<UID:a1bcafd5-fded-4a1a-92eb-d2b8d42c3709>\n",
      "\n",
      "> INSIDE Request BLOCK 9.5367431640625e-07 seconds False\n",
      "Joiner PQ: 0 / 0 - CQ: 0 / 0\n",
      ".\n",
      "> INSIDE Request BLOCK 1.0744011402130127 seconds False\n",
      "\n",
      "> Blocking Request ACCEPTED\n",
      ">> Setting weight copy on local conv2\n",
      ">> Setting bias copy on local conv2\n",
      "> Finished downloading model\n",
      "> Finished downloading model\n",
      "> Finished downloading model\n",
      "> Downloading remote: fc1\n",
      "\n",
      "> Waiting for Blocking Request\n",
      "model_download: test evaluation.\n",
      "<UID:2188586c-7ade-409c-b6b9-384be459a778>\n",
      "\n",
      "> INSIDE Request BLOCK 0.0 seconds False\n",
      ".\n",
      "> INSIDE Request BLOCK 1.0709500312805176 seconds False\n",
      "\n",
      "> Blocking Request ACCEPTED\n",
      ">> Setting weight copy on local fc1\n",
      ">> Setting bias copy on local fc1\n",
      "> Finished downloading model\n",
      "> Downloading remote: fc2\n",
      "\n",
      "> Waiting for Blocking Request\n",
      "model_download: test evaluation.\n",
      "<UID:940b03a7-ac6b-4ac7-bcc8-5b539ccae5f7>\n",
      "\n",
      "> INSIDE Request BLOCK 7.152557373046875e-07 seconds False\n"
     ]
    },
    {
     "name": "stderr",
     "output_type": "stream",
     "text": [
      "2020-10-31 19:12:38.093 | CRITICAL | syft.grid.connections.webrtc:heartbeat:562 - Joiner PQ: 0 / 0 - CQ: 0 / 0\n"
     ]
    },
    {
     "name": "stdout",
     "output_type": "stream",
     "text": [
      ".\n",
      "> INSIDE Request BLOCK 1.0732359886169434 seconds False\n",
      "Joiner PQ: 0 / 0 - CQ: 0 / 0\n",
      "\n",
      "> Blocking Request ACCEPTED\n",
      ">> Setting weight copy on local fc2\n",
      ">> Setting bias copy on local fc2\n",
      "> Finished downloading model\n",
      "> Layer conv1 sum(weight): -4.843146324157715\n",
      "> Layer conv1 sum(bias): -0.2682029604911804\n",
      "> Layer conv2 sum(weight): -83.55107116699219\n",
      "> Layer conv2 sum(bias): -0.2798648178577423\n",
      "> Layer fc1 sum(weight): -142.457275390625\n",
      "> Layer fc1 sum(bias): -2.2288901805877686\n",
      "> Layer fc2 sum(weight): -69.52107238769531\n",
      "> Layer fc2 sum(bias): -0.1981223225593567\n",
      "> Running test_local in 10 batches\n",
      "batch_idx >= test_batches, breaking\n",
      "Test Set Average Loss: 96.84\n",
      "Epoch time: 862 seconds\n",
      "CPU times: user 7min 37s, sys: 33.2 s, total: 8min 10s\n",
      "Wall time: 14min 22s\n"
     ]
    }
   ],
   "source": [
    "%%time\n",
    "import time\n",
    "# sequential CPU times: user 39.2 s, sys: 390 ms, total: 39.6s per epoch\n",
    "# sy.module CPU times: user 1min 28s, sys: 645 ms, total: 1min 28s per epoch\n",
    "# vanilla class CPU times: user 3min 5s, sys: 3.01 s, total: 3min 8s per epoch\n",
    "\n",
    "args[\"dry_run\"] = False\n",
    "sy.logger.trace(\"Start Training\")\n",
    "for epoch in range(1, args[\"epochs\"] + 1):\n",
    "    epoch_start = time.time()\n",
    "    print(f\"Epoch: {epoch}\")\n",
    "    train(args, model, device, train_loader_ptr, optimizer, epoch, train_data_length)\n",
    "    #test(model, device, test_loader_ptr, test_data_length_ptr)\n",
    "    test_local(local_model, model, test_loader, test_data_length)  # real local data and model\n",
    "    scheduler.step()\n",
    "    epoch_end = time.time()\n",
    "    print(f\"Epoch time: {int(epoch_end - epoch_start)} seconds\")\n",
    "    break\n",
    "sy.logger.trace(\"Finish Training\")"
   ]
  },
  {
   "cell_type": "code",
   "execution_count": 40,
   "metadata": {},
   "outputs": [
    {
     "name": "stdout",
     "output_type": "stream",
     "text": [
      "Done\n"
     ]
    },
    {
     "name": "stderr",
     "output_type": "stream",
     "text": [
      "2020-10-31 19:14:48.207 | CRITICAL | syft.grid.connections.webrtc:heartbeat:562 - Joiner PQ: 0 / 0 - CQ: 0 / 0\n"
     ]
    },
    {
     "name": "stdout",
     "output_type": "stream",
     "text": [
      "Joiner PQ: 0 / 0 - CQ: 0 / 0\n"
     ]
    },
    {
     "name": "stderr",
     "output_type": "stream",
     "text": [
      "2020-10-31 19:14:53.211 | CRITICAL | syft.grid.connections.webrtc:heartbeat:562 - Joiner PQ: 0 / 0 - CQ: 0 / 0\n"
     ]
    },
    {
     "name": "stdout",
     "output_type": "stream",
     "text": [
      "Joiner PQ: 0 / 0 - CQ: 0 / 0\n"
     ]
    },
    {
     "name": "stderr",
     "output_type": "stream",
     "text": [
      "2020-10-31 19:14:58.216 | CRITICAL | syft.grid.connections.webrtc:heartbeat:562 - Joiner PQ: 0 / 0 - CQ: 0 / 0\n"
     ]
    },
    {
     "name": "stdout",
     "output_type": "stream",
     "text": [
      "Joiner PQ: 0 / 0 - CQ: 0 / 0\n"
     ]
    },
    {
     "name": "stderr",
     "output_type": "stream",
     "text": [
      "2020-10-31 19:15:03.221 | CRITICAL | syft.grid.connections.webrtc:heartbeat:562 - Joiner PQ: 0 / 0 - CQ: 0 / 0\n"
     ]
    },
    {
     "name": "stdout",
     "output_type": "stream",
     "text": [
      "Joiner PQ: 0 / 0 - CQ: 0 / 0\n"
     ]
    },
    {
     "name": "stderr",
     "output_type": "stream",
     "text": [
      "2020-10-31 19:15:08.227 | CRITICAL | syft.grid.connections.webrtc:heartbeat:562 - Joiner PQ: 0 / 0 - CQ: 0 / 0\n"
     ]
    },
    {
     "name": "stdout",
     "output_type": "stream",
     "text": [
      "Joiner PQ: 0 / 0 - CQ: 0 / 0\n"
     ]
    },
    {
     "name": "stderr",
     "output_type": "stream",
     "text": [
      "2020-10-31 19:15:13.233 | CRITICAL | syft.grid.connections.webrtc:heartbeat:562 - Joiner PQ: 0 / 0 - CQ: 0 / 0\n"
     ]
    },
    {
     "name": "stdout",
     "output_type": "stream",
     "text": [
      "Joiner PQ: 0 / 0 - CQ: 0 / 0\n"
     ]
    },
    {
     "name": "stderr",
     "output_type": "stream",
     "text": [
      "2020-10-31 19:15:18.237 | CRITICAL | syft.grid.connections.webrtc:heartbeat:562 - Joiner PQ: 0 / 0 - CQ: 0 / 0\n"
     ]
    },
    {
     "name": "stdout",
     "output_type": "stream",
     "text": [
      "Joiner PQ: 0 / 0 - CQ: 0 / 0\n"
     ]
    },
    {
     "name": "stderr",
     "output_type": "stream",
     "text": [
      "2020-10-31 19:15:23.242 | CRITICAL | syft.grid.connections.webrtc:heartbeat:562 - Joiner PQ: 0 / 0 - CQ: 0 / 0\n"
     ]
    },
    {
     "name": "stdout",
     "output_type": "stream",
     "text": [
      "Joiner PQ: 0 / 0 - CQ: 0 / 0\n"
     ]
    },
    {
     "name": "stderr",
     "output_type": "stream",
     "text": [
      "2020-10-31 19:15:28.247 | CRITICAL | syft.grid.connections.webrtc:heartbeat:562 - Joiner PQ: 0 / 0 - CQ: 0 / 0\n"
     ]
    },
    {
     "name": "stdout",
     "output_type": "stream",
     "text": [
      "Joiner PQ: 0 / 0 - CQ: 0 / 0\n"
     ]
    },
    {
     "name": "stderr",
     "output_type": "stream",
     "text": [
      "2020-10-31 19:15:33.250 | CRITICAL | syft.grid.connections.webrtc:heartbeat:562 - Joiner PQ: 0 / 0 - CQ: 0 / 0\n"
     ]
    },
    {
     "name": "stdout",
     "output_type": "stream",
     "text": [
      "Joiner PQ: 0 / 0 - CQ: 0 / 0\n"
     ]
    },
    {
     "name": "stderr",
     "output_type": "stream",
     "text": [
      "2020-10-31 19:15:38.256 | CRITICAL | syft.grid.connections.webrtc:heartbeat:562 - Joiner PQ: 0 / 0 - CQ: 0 / 0\n"
     ]
    },
    {
     "name": "stdout",
     "output_type": "stream",
     "text": [
      "Joiner PQ: 0 / 0 - CQ: 0 / 0\n"
     ]
    },
    {
     "name": "stderr",
     "output_type": "stream",
     "text": [
      "2020-10-31 19:15:43.262 | CRITICAL | syft.grid.connections.webrtc:heartbeat:562 - Joiner PQ: 0 / 0 - CQ: 0 / 0\n"
     ]
    },
    {
     "name": "stdout",
     "output_type": "stream",
     "text": [
      "Joiner PQ: 0 / 0 - CQ: 0 / 0\n"
     ]
    },
    {
     "name": "stderr",
     "output_type": "stream",
     "text": [
      "2020-10-31 19:15:48.263 | CRITICAL | syft.grid.connections.webrtc:heartbeat:562 - Joiner PQ: 0 / 0 - CQ: 0 / 0\n"
     ]
    },
    {
     "name": "stdout",
     "output_type": "stream",
     "text": [
      "Joiner PQ: 0 / 0 - CQ: 0 / 0\n"
     ]
    },
    {
     "name": "stderr",
     "output_type": "stream",
     "text": [
      "2020-10-31 19:15:53.270 | CRITICAL | syft.grid.connections.webrtc:heartbeat:562 - Joiner PQ: 0 / 0 - CQ: 0 / 0\n"
     ]
    },
    {
     "name": "stdout",
     "output_type": "stream",
     "text": [
      "Joiner PQ: 0 / 0 - CQ: 0 / 0\n"
     ]
    },
    {
     "name": "stderr",
     "output_type": "stream",
     "text": [
      "2020-10-31 19:15:58.274 | CRITICAL | syft.grid.connections.webrtc:heartbeat:562 - Joiner PQ: 0 / 0 - CQ: 0 / 0\n"
     ]
    },
    {
     "name": "stdout",
     "output_type": "stream",
     "text": [
      "Joiner PQ: 0 / 0 - CQ: 0 / 0\n"
     ]
    },
    {
     "name": "stderr",
     "output_type": "stream",
     "text": [
      "2020-10-31 19:16:03.280 | CRITICAL | syft.grid.connections.webrtc:heartbeat:562 - Joiner PQ: 0 / 0 - CQ: 0 / 0\n"
     ]
    },
    {
     "name": "stdout",
     "output_type": "stream",
     "text": [
      "Joiner PQ: 0 / 0 - CQ: 0 / 0\n"
     ]
    },
    {
     "name": "stderr",
     "output_type": "stream",
     "text": [
      "2020-10-31 19:16:08.285 | CRITICAL | syft.grid.connections.webrtc:heartbeat:562 - Joiner PQ: 0 / 0 - CQ: 0 / 0\n"
     ]
    },
    {
     "name": "stdout",
     "output_type": "stream",
     "text": [
      "Joiner PQ: 0 / 0 - CQ: 0 / 0\n"
     ]
    },
    {
     "name": "stderr",
     "output_type": "stream",
     "text": [
      "2020-10-31 19:16:13.290 | CRITICAL | syft.grid.connections.webrtc:heartbeat:562 - Joiner PQ: 0 / 0 - CQ: 0 / 0\n"
     ]
    },
    {
     "name": "stdout",
     "output_type": "stream",
     "text": [
      "Joiner PQ: 0 / 0 - CQ: 0 / 0\n"
     ]
    },
    {
     "name": "stderr",
     "output_type": "stream",
     "text": [
      "2020-10-31 19:16:18.295 | CRITICAL | syft.grid.connections.webrtc:heartbeat:562 - Joiner PQ: 0 / 0 - CQ: 0 / 0\n"
     ]
    },
    {
     "name": "stdout",
     "output_type": "stream",
     "text": [
      "Joiner PQ: 0 / 0 - CQ: 0 / 0\n"
     ]
    }
   ],
   "source": [
    "print(\"Done\")"
   ]
  },
  {
   "cell_type": "markdown",
   "metadata": {},
   "source": [
    "# PART 3: Inference"
   ]
  },
  {
   "cell_type": "code",
   "execution_count": 41,
   "metadata": {},
   "outputs": [],
   "source": [
    "import matplotlib.pyplot as plt\n",
    "def draw_image_and_label(image, label):\n",
    "    fig = plt.figure()\n",
    "    plt.tight_layout()\n",
    "    plt.imshow(image, cmap=\"gray\", interpolation=\"none\")\n",
    "    plt.title(\"Ground Truth: {}\".format(label))\n",
    "    \n",
    "def prep_for_inference(image):\n",
    "    image_batch = image.unsqueeze(0).unsqueeze(0)\n",
    "    image_batch = image_batch * 1.0\n",
    "    return image_batch"
   ]
  },
  {
   "cell_type": "code",
   "execution_count": 42,
   "metadata": {},
   "outputs": [],
   "source": [
    "def classify_local(image):\n",
    "    image_tensor = th.Tensor(prep_for_inference(image))\n",
    "    print(\"1\", type(image_tensor))\n",
    "    output = local_model(image_tensor)\n",
    "    print(\"2\", type(output))\n",
    "    preds = th.exp(output)\n",
    "    print(\"3\", type(preds))\n",
    "    local_y = preds\n",
    "    local_y = local_y.squeeze()\n",
    "    pos = local_y == max(local_y)\n",
    "    index = th.nonzero(pos, as_tuple=False)\n",
    "    class_num = index.squeeze()\n",
    "    return class_num, local_y"
   ]
  },
  {
   "cell_type": "code",
   "execution_count": 43,
   "metadata": {},
   "outputs": [
    {
     "name": "stderr",
     "output_type": "stream",
     "text": [
      "2020-10-31 19:16:23.300 | CRITICAL | syft.grid.connections.webrtc:heartbeat:562 - Joiner PQ: 0 / 0 - CQ: 0 / 0\n"
     ]
    }
   ],
   "source": [
    "def classify(image):\n",
    "    image_tensor_ptr = torch.Tensor(prep_for_inference(image))\n",
    "    output = model(image_tensor_ptr)\n",
    "    preds = torch.exp(output)\n",
    "    preds_result = preds.get(\n",
    "        request_block=True,\n",
    "        request_name=\"inference\",\n",
    "        reason=\"To see a real world example of inference\",\n",
    "        timeout_secs=10\n",
    "    )\n",
    "    if preds_result is None:\n",
    "        print(\"No permission to do inference, request again\")\n",
    "        return -1, th.Tensor([-1])\n",
    "    else:\n",
    "        local_y = th.Tensor(preds_result)\n",
    "        local_y = local_y.squeeze()\n",
    "        pos = local_y == max(local_y)\n",
    "        index = th.nonzero(pos, as_tuple=False)\n",
    "        class_num = index.squeeze()\n",
    "        return class_num, local_y"
   ]
  },
  {
   "cell_type": "code",
   "execution_count": 58,
   "metadata": {},
   "outputs": [
    {
     "name": "stdout",
     "output_type": "stream",
     "text": [
      "Random Test Image: 6395\n",
      "Displaying 6395 == 395 in Batch: 6/10\n"
     ]
    },
    {
     "data": {
      "image/png": "[encoded data removed]",
      "text/plain": [
       "<Figure size 432x288 with 1 Axes>"
      ]
     },
     "metadata": {
      "needs_background": "light"
     },
     "output_type": "display_data"
    }
   ],
   "source": [
    "# lets grab something from the test set\n",
    "import random\n",
    "total_images = test_data_length # 10000\n",
    "index = random.randint(0, total_images)\n",
    "print(\"Random Test Image:\", index)\n",
    "count = 0\n",
    "batch = index // test_kwargs[\"batch_size\"]\n",
    "batch_index = index % int(total_images / len(test_loader))\n",
    "for tensor_ptr in test_loader:\n",
    "    data, target = tensor_ptr[0], tensor_ptr[1]\n",
    "    if batch == count:\n",
    "        break\n",
    "    count += 1\n",
    "\n",
    "print(f\"Displaying {index} == {batch_index} in Batch: {batch}/{len(test_loader)}\")\n",
    "image_1 = data[batch_index].reshape((28, 28))\n",
    "label_1 = target[batch_index]\n",
    "draw_image_and_label(image_1, label_1)"
   ]
  },
  {
   "cell_type": "code",
   "execution_count": 59,
   "metadata": {},
   "outputs": [],
   "source": [
    "# # classify remote\n",
    "# sy.logger.trace(\"Before running classify\")\n",
    "# class_num, preds = classify(image_1)\n",
    "# print(f\"Prediction: {class_num} Ground Truth: {label_1}\")\n",
    "# print(preds)"
   ]
  },
  {
   "cell_type": "code",
   "execution_count": 60,
   "metadata": {},
   "outputs": [
    {
     "name": "stdout",
     "output_type": "stream",
     "text": [
      "1 <class 'torch.Tensor'>\n",
      "2 <class 'torch.Tensor'>\n",
      "3 <class 'torch.Tensor'>\n",
      "Prediction: 8 Ground Truth: 8\n",
      "tensor([6.5405e-06, 1.8607e-06, 3.5482e-05, 8.5178e-08, 6.4590e-06, 1.1944e-05,\n",
      "        2.5357e-06, 7.6778e-07, 9.9993e-01, 3.0234e-06],\n",
      "       grad_fn=<SqueezeBackward0>)\n"
     ]
    },
    {
     "name": "stderr",
     "output_type": "stream",
     "text": [
      "2020-10-31 19:20:33.510 | CRITICAL | syft.grid.connections.webrtc:heartbeat:562 - Joiner PQ: 0 / 0 - CQ: 0 / 0\n"
     ]
    },
    {
     "name": "stdout",
     "output_type": "stream",
     "text": [
      "Joiner PQ: 0 / 0 - CQ: 0 / 0\n"
     ]
    },
    {
     "name": "stderr",
     "output_type": "stream",
     "text": [
      "2020-10-31 19:20:38.515 | CRITICAL | syft.grid.connections.webrtc:heartbeat:562 - Joiner PQ: 0 / 0 - CQ: 0 / 0\n"
     ]
    },
    {
     "name": "stdout",
     "output_type": "stream",
     "text": [
      "Joiner PQ: 0 / 0 - CQ: 0 / 0\n"
     ]
    },
    {
     "name": "stderr",
     "output_type": "stream",
     "text": [
      "2020-10-31 19:20:43.521 | CRITICAL | syft.grid.connections.webrtc:heartbeat:562 - Joiner PQ: 0 / 0 - CQ: 0 / 0\n"
     ]
    },
    {
     "name": "stdout",
     "output_type": "stream",
     "text": [
      "Joiner PQ: 0 / 0 - CQ: 0 / 0\n"
     ]
    },
    {
     "name": "stderr",
     "output_type": "stream",
     "text": [
      "2020-10-31 19:20:48.526 | CRITICAL | syft.grid.connections.webrtc:heartbeat:562 - Joiner PQ: 0 / 0 - CQ: 0 / 0\n"
     ]
    },
    {
     "name": "stdout",
     "output_type": "stream",
     "text": [
      "Joiner PQ: 0 / 0 - CQ: 0 / 0\n"
     ]
    },
    {
     "name": "stderr",
     "output_type": "stream",
     "text": [
      "2020-10-31 19:20:53.530 | CRITICAL | syft.grid.connections.webrtc:heartbeat:562 - Joiner PQ: 0 / 0 - CQ: 0 / 0\n"
     ]
    },
    {
     "name": "stdout",
     "output_type": "stream",
     "text": [
      "Joiner PQ: 0 / 0 - CQ: 0 / 0\n"
     ]
    },
    {
     "name": "stderr",
     "output_type": "stream",
     "text": [
      "2020-10-31 19:20:58.534 | CRITICAL | syft.grid.connections.webrtc:heartbeat:562 - Joiner PQ: 0 / 0 - CQ: 0 / 0\n"
     ]
    },
    {
     "name": "stdout",
     "output_type": "stream",
     "text": [
      "Joiner PQ: 0 / 0 - CQ: 0 / 0\n"
     ]
    },
    {
     "name": "stderr",
     "output_type": "stream",
     "text": [
      "2020-10-31 19:21:03.539 | CRITICAL | syft.grid.connections.webrtc:heartbeat:562 - Joiner PQ: 0 / 0 - CQ: 0 / 0\n"
     ]
    },
    {
     "name": "stdout",
     "output_type": "stream",
     "text": [
      "Joiner PQ: 0 / 0 - CQ: 0 / 0\n"
     ]
    },
    {
     "name": "stderr",
     "output_type": "stream",
     "text": [
      "2020-10-31 19:21:08.542 | CRITICAL | syft.grid.connections.webrtc:heartbeat:562 - Joiner PQ: 0 / 0 - CQ: 0 / 0\n"
     ]
    },
    {
     "name": "stdout",
     "output_type": "stream",
     "text": [
      "Joiner PQ: 0 / 0 - CQ: 0 / 0\n"
     ]
    },
    {
     "name": "stderr",
     "output_type": "stream",
     "text": [
      "2020-10-31 19:21:13.546 | CRITICAL | syft.grid.connections.webrtc:heartbeat:562 - Joiner PQ: 0 / 0 - CQ: 0 / 0\n"
     ]
    },
    {
     "name": "stdout",
     "output_type": "stream",
     "text": [
      "Joiner PQ: 0 / 0 - CQ: 0 / 0\n"
     ]
    },
    {
     "name": "stderr",
     "output_type": "stream",
     "text": [
      "2020-10-31 19:21:18.551 | CRITICAL | syft.grid.connections.webrtc:heartbeat:562 - Joiner PQ: 0 / 0 - CQ: 0 / 0\n"
     ]
    },
    {
     "name": "stdout",
     "output_type": "stream",
     "text": [
      "Joiner PQ: 0 / 0 - CQ: 0 / 0\n"
     ]
    },
    {
     "name": "stderr",
     "output_type": "stream",
     "text": [
      "2020-10-31 19:21:23.557 | CRITICAL | syft.grid.connections.webrtc:heartbeat:562 - Joiner PQ: 0 / 0 - CQ: 0 / 0\n"
     ]
    },
    {
     "name": "stdout",
     "output_type": "stream",
     "text": [
      "Joiner PQ: 0 / 0 - CQ: 0 / 0\n"
     ]
    },
    {
     "name": "stderr",
     "output_type": "stream",
     "text": [
      "2020-10-31 19:21:28.562 | CRITICAL | syft.grid.connections.webrtc:heartbeat:562 - Joiner PQ: 0 / 0 - CQ: 0 / 0\n"
     ]
    },
    {
     "name": "stdout",
     "output_type": "stream",
     "text": [
      "Joiner PQ: 0 / 0 - CQ: 0 / 0\n"
     ]
    },
    {
     "name": "stderr",
     "output_type": "stream",
     "text": [
      "2020-10-31 19:21:33.567 | CRITICAL | syft.grid.connections.webrtc:heartbeat:562 - Joiner PQ: 0 / 0 - CQ: 0 / 0\n"
     ]
    },
    {
     "name": "stdout",
     "output_type": "stream",
     "text": [
      "Joiner PQ: 0 / 0 - CQ: 0 / 0\n"
     ]
    },
    {
     "name": "stderr",
     "output_type": "stream",
     "text": [
      "2020-10-31 19:21:38.572 | CRITICAL | syft.grid.connections.webrtc:heartbeat:562 - Joiner PQ: 0 / 0 - CQ: 0 / 0\n"
     ]
    },
    {
     "name": "stdout",
     "output_type": "stream",
     "text": [
      "Joiner PQ: 0 / 0 - CQ: 0 / 0\n"
     ]
    }
   ],
   "source": [
    "# classify local\n",
    "sy.logger.trace(\"Before running classify\")\n",
    "class_num, preds = classify_local(image_1)\n",
    "print(f\"Prediction: {class_num} Ground Truth: {label_1}\")\n",
    "print(preds)"
   ]
  },
  {
   "cell_type": "code",
   "execution_count": null,
   "metadata": {},
   "outputs": [],
   "source": [
    "# error with recv_immediate_msg_with_reply. 'generator' object has no attribute 'serialize'\n",
    "# remote_model_params_ptr = model.parameters()\n",
    "# remote_model_params = remote_model_params_ptr.get(\n",
    "#     request_block=True,\n",
    "#     request_name=\"copy_model\",\n",
    "#     reason=\"To run test and inference locally\",\n",
    "#     timeout_secs=10,\n",
    "#     delete_obj=False,\n",
    "# )"
   ]
  },
  {
   "cell_type": "code",
   "execution_count": null,
   "metadata": {},
   "outputs": [],
   "source": [
    "# print(remote_model_params)"
   ]
  },
  {
   "cell_type": "code",
   "execution_count": null,
   "metadata": {},
   "outputs": [],
   "source": []
  }
 ],
 "metadata": {
  "kernelspec": {
   "display_name": "Python 3",
   "language": "python",
   "name": "python3"
  },
  "language_info": {
   "codemirror_mode": {
    "name": "ipython",
    "version": 3
   },
   "file_extension": ".py",
   "mimetype": "text/x-python",
   "name": "python",
   "nbconvert_exporter": "python",
   "pygments_lexer": "ipython3",
   "version": "3.8.6"
  },
  "pycharm": {
   "stem_cell": {
    "cell_type": "raw",
    "metadata": {
     "collapsed": false
    },
    "source": []
   }
  }
 },
 "nbformat": 4,
 "nbformat_minor": 4
}
