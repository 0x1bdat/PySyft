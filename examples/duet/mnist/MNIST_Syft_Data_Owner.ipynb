{
 "cells": [
  {
   "cell_type": "markdown",
   "metadata": {},
   "source": [
    "# MNIST Syft Data Owner"
   ]
  },
  {
   "cell_type": "code",
   "execution_count": 1,
   "metadata": {},
   "outputs": [],
   "source": [
    "import syft as sy\n",
    "sy.LOG_FILE = \"syft_do.log\"\n",
    "_ = sy.logger.add(sy.LOG_FILE, enqueue=True, colorize=False, diagnose=True, backtrace=True, level=\"TRACE\")"
   ]
  },
  {
   "cell_type": "markdown",
   "metadata": {},
   "source": [
    "# PART 1: Launch a Duet Server and Connect\n",
    "\n",
    "As a data owner, you want to allow someone else to perform data science on data that you own and likely want to protect.\n",
    "\n",
    "In order to do this, we must load our data into a locally running server (within this notebook).\n",
    "We call this server a \"Duet\".\n",
    "\n",
    "To begin, you must launch Duet and help your Duet \"partner\" (a data scientist) connect to this server.\n",
    "\n",
    "You do this by running the code below and following the instructions it gives!"
   ]
  },
  {
   "cell_type": "code",
   "execution_count": 2,
   "metadata": {},
   "outputs": [
    {
     "name": "stdout",
     "output_type": "stream",
     "text": [
      "🎤  🎸  ♪♪♪ Starting Duet ♫♫♫  🎻  🎹\n",
      "\n",
      "♫♫♫ >\u001b[93m DISCLAIMER\u001b[0m:\u001b[1m Duet is an experimental feature currently \n",
      "♫♫♫ > in alpha. Do not use this to protect real-world data.\n",
      "\u001b[0m♫♫♫ >\n",
      "♫♫♫ > Punching through firewall to OpenGrid Network Node at: http://localhost:5000\n",
      "♫♫♫ > http://localhost:5000\n",
      "♫♫♫ >\n",
      "♫♫♫ > ...waiting for response from OpenGrid Network... id {\n",
      "  value: \"\\\"\\274\\326\\326i~@\\340\\236\\262\\003\\010H7\\032\\265\"\n",
      "}\n",
      "name: \"om-net\"\n",
      "node {\n",
      "  id {\n",
      "    value: \"\\\"\\274\\326\\326i~@\\340\\236\\262\\003\\010H7\\032\\265\"\n",
      "  }\n",
      "  name: \"om-net\"\n",
      "}\n",
      "\n",
      "\u001b[92mDONE!\u001b[0m\n",
      "♫♫♫ >\n",
      "♫♫♫ > \u001b[95mSTEP 1:\u001b[0m Send the following code to your Duet Partner!\n",
      "\n",
      "import syft as sy\n",
      "duet = sy.join_duet('\u001b[1me71c3a657a9f8f0463b88bd9ee284b87\u001b[0m')\n",
      "\n",
      "♫♫♫ > \u001b[95mSTEP 2:\u001b[0m The code above will print out a 'Client Id'. Have\n",
      "♫♫♫ >         your duet partner send it to you and enter it below!\n",
      "\n",
      "Running loopback mode. Use sy.join_duet(loopback=True) on the other side.\n",
      "♫♫♫ > Connecting...\n",
      "♫♫♫ > ...using a running event loop...\n"
     ]
    },
    {
     "name": "stderr",
     "output_type": "stream",
     "text": [
      "2020-10-31 18:55:59.103 | CRITICAL | syft.grid.connections.webrtc:heartbeat:562 - Launcher PQ: 0 / 0 - CQ: 0 / 0\n"
     ]
    },
    {
     "name": "stdout",
     "output_type": "stream",
     "text": [
      "Launcher PQ: 0 / 0 - CQ: 0 / 0\n"
     ]
    },
    {
     "name": "stderr",
     "output_type": "stream",
     "text": [
      "2020-10-31 18:56:04.108 | CRITICAL | syft.grid.connections.webrtc:heartbeat:562 - Launcher PQ: 0 / 0 - CQ: 0 / 0\n"
     ]
    },
    {
     "name": "stdout",
     "output_type": "stream",
     "text": [
      "Launcher PQ: 0 / 0 - CQ: 0 / 0\n",
      "\n",
      "♫♫♫ > \u001b[92mCONNECTED!\u001b[0m\n",
      "\n",
      "♫♫♫ > DUET LIVE STATUS  -  Objects: 3  Requests: 1   Messages: 23                                                         > Request cuda_is_available: To run test and inference locally\n",
      "♫♫♫ > DUET LIVE STATUS  *  Objects: 13  Requests: 0   Messages: 137                                                        Launcher PQ: 0 / 0 - CQ: 0 / 0\n",
      "♫♫♫ > DUET LIVE STATUS  -  Objects: 28  Requests: 0   Messages: 426                                Launcher PQ: 0 / 0 - CQ: 0 / 0\n",
      "♫♫♫ > DUET LIVE STATUS  -  Objects: 28  Requests: 0   Messages: 1480                                Launcher PQ: 0 / 0 - CQ: 0 / 0\n",
      "♫♫♫ > DUET LIVE STATUS  -  Objects: 27  Requests: 0   Messages: 2484                                Launcher PQ: 0 / 0 - CQ: 0 / 0\n",
      "♫♫♫ > DUET LIVE STATUS  -  Objects: 26  Requests: 0   Messages: 4115                                Launcher PQ: 0 / 0 - CQ: 0 / 0\n",
      "♫♫♫ > DUET LIVE STATUS  -  Objects: 28  Requests: 0   Messages: 6775                                Launcher PQ: 0 / 0 - CQ: 0 / 0Launcher PQ: 0 / 0 - CQ: 0 / 0\n",
      "♫♫♫ > DUET LIVE STATUS  *  Objects: 27  Requests: 0   Messages: 7049                                Launcher PQ: 0 / 0 - CQ: 0 / 0\n",
      "♫♫♫ > DUET LIVE STATUS  -  Objects: 28  Requests: 0   Messages: 9447                                Launcher PQ: 0 / 0 - CQ: 0 / 0\n",
      "♫♫♫ > DUET LIVE STATUS  *  Objects: 28  Requests: 0   Messages: 9722                                Launcher PQ: 0 / 0 - CQ: 0 / 0\n",
      "♫♫♫ > DUET LIVE STATUS  -  Objects: 27  Requests: 0   Messages: 15366                                Launcher PQ: 0 / 0 - CQ: 0 / 0Launcher PQ: 0 / 0 - CQ: 0 / 0\n",
      "♫♫♫ > DUET LIVE STATUS  *  Objects: 27  Requests: 0   Messages: 16194                                Launcher PQ: 0 / 0 - CQ: 0 / 0\n",
      "♫♫♫ > DUET LIVE STATUS  -  Objects: 27  Requests: 0   Messages: 17353                                Launcher PQ: 0 / 0 - CQ: 0 / 0\n",
      "♫♫♫ > DUET LIVE STATUS  -  Objects: 26  Requests: 0   Messages: 18710                                Launcher PQ: 0 / 0 - CQ: 0 / 0\n",
      "♫♫♫ > DUET LIVE STATUS  *  Objects: 27  Requests: 0   Messages: 18993                                Launcher PQ: 0 / 0 - CQ: 0 / 0\n",
      "♫♫♫ > DUET LIVE STATUS  -  Objects: 28  Requests: 0   Messages: 19870                                Launcher PQ: 0 / 0 - CQ: 0 / 0\n",
      "♫♫♫ > DUET LIVE STATUS  -  Objects: 26  Requests: 0   Messages: 22461                                Launcher PQ: 0 / 0 - CQ: 0 / 0\n",
      "♫♫♫ > DUET LIVE STATUS  *  Objects: 28  Requests: 0   Messages: 25112                                Launcher PQ: 0 / 0 - CQ: 0 / 0Launcher PQ: 0 / 0 - CQ: 0 / 0\n",
      "♫♫♫ > DUET LIVE STATUS  -  Objects: 28  Requests: 0   Messages: 25784                                Launcher PQ: 0 / 0 - CQ: 0 / 0\n",
      "♫♫♫ > DUET LIVE STATUS  -  Objects: 27  Requests: 0   Messages: 29529                                Launcher PQ: 0 / 0 - CQ: 0 / 0\n",
      "♫♫♫ > DUET LIVE STATUS  *  Objects: 29  Requests: 0   Messages: 29836                                Launcher PQ: 0 / 0 - CQ: 0 / 0\n",
      "♫♫♫ > DUET LIVE STATUS  -  Objects: 27  Requests: 0   Messages: 30473                                Launcher PQ: 0 / 0 - CQ: 0 / 0\n",
      "♫♫♫ > DUET LIVE STATUS  -  Objects: 27  Requests: 0   Messages: 33133                                Launcher PQ: 0 / 0 - CQ: 0 / 0\n",
      "♫♫♫ > DUET LIVE STATUS  *  Objects: 27  Requests: 0   Messages: 34287                                Launcher PQ: 0 / 0 - CQ: 0 / 0\n",
      "♫♫♫ > DUET LIVE STATUS  -  Objects: 26  Requests: 0   Messages: 36700                                Launcher PQ: 0 / 0 - CQ: 0 / 0\n",
      "♫♫♫ > DUET LIVE STATUS  *  Objects: 28  Requests: 0   Messages: 39240                                Launcher PQ: 0 / 0 - CQ: 0 / 0\n",
      "♫♫♫ > DUET LIVE STATUS  -  Objects: 26  Requests: 0   Messages: 43147                                Launcher PQ: 0 / 0 - CQ: 0 / 0\n",
      "♫♫♫ > DUET LIVE STATUS  -  Objects: 27  Requests: 0   Messages: 46007                                Launcher PQ: 0 / 0 - CQ: 0 / 0\n",
      "♫♫♫ > DUET LIVE STATUS  *  Objects: 27  Requests: 0   Messages: 46401                                Launcher PQ: 0 / 0 - CQ: 0 / 0\n",
      "♫♫♫ > DUET LIVE STATUS  *  Objects: 26  Requests: 0   Messages: 48952                                Launcher PQ: 0 / 0 - CQ: 0 / 0\n",
      "♫♫♫ > DUET LIVE STATUS  -  Objects: 26  Requests: 0   Messages: 49579                                Launcher PQ: 0 / 0 - CQ: 0 / 0\n",
      "♫♫♫ > DUET LIVE STATUS  -  Objects: 26  Requests: 0   Messages: 52087                                Launcher PQ: 0 / 0 - CQ: 0 / 0\n",
      "♫♫♫ > DUET LIVE STATUS  *  Objects: 18  Requests: 0   Messages: 52745                                                         Launcher PQ: 0 / 0 - CQ: 0 / 0\n",
      "♫♫♫ > DUET LIVE STATUS  -  Objects: 18  Requests: 0   Messages: 52745                                Launcher PQ: 0 / 0 - CQ: 0 / 0\n",
      "♫♫♫ > DUET LIVE STATUS  -  Objects: 18  Requests: 0   Messages: 52745                                Launcher PQ: 0 / 0 - CQ: 0 / 0\n",
      "♫♫♫ > DUET LIVE STATUS  -  Objects: 18  Requests: 0   Messages: 52745                                Launcher PQ: 0 / 0 - CQ: 0 / 0\n",
      "♫♫♫ > DUET LIVE STATUS  *  Objects: 18  Requests: 0   Messages: 52745                                Launcher PQ: 0 / 0 - CQ: 0 / 0\n",
      "♫♫♫ > DUET LIVE STATUS  *  Objects: 18  Requests: 0   Messages: 52745                                Launcher PQ: 0 / 0 - CQ: 0 / 0\n",
      "♫♫♫ > DUET LIVE STATUS  -  Objects: 18  Requests: 0   Messages: 52745                                Launcher PQ: 0 / 0 - CQ: 0 / 0\n",
      "♫♫♫ > DUET LIVE STATUS  -  Objects: 18  Requests: 0   Messages: 52745                                Launcher PQ: 0 / 0 - CQ: 0 / 0\n",
      "♫♫♫ > DUET LIVE STATUS  *  Objects: 18  Requests: 0   Messages: 52745                                Launcher PQ: 0 / 0 - CQ: 0 / 0\n",
      "♫♫♫ > DUET LIVE STATUS  *  Objects: 18  Requests: 0   Messages: 52745                                Launcher PQ: 0 / 0 - CQ: 0 / 0\n",
      "♫♫♫ > DUET LIVE STATUS  *  Objects: 18  Requests: 0   Messages: 52745                                Launcher PQ: 0 / 0 - CQ: 0 / 0\n",
      "♫♫♫ > DUET LIVE STATUS  *  Objects: 18  Requests: 0   Messages: 52745                                Launcher PQ: 0 / 0 - CQ: 0 / 0\n",
      "♫♫♫ > DUET LIVE STATUS  *  Objects: 18  Requests: 0   Messages: 52745                                Launcher PQ: 0 / 0 - CQ: 0 / 0\n",
      "♫♫♫ > DUET LIVE STATUS  -  Objects: 18  Requests: 0   Messages: 52745                                Launcher PQ: 0 / 0 - CQ: 0 / 0\n",
      "♫♫♫ > DUET LIVE STATUS  -  Objects: 18  Requests: 0   Messages: 52745                                "
     ]
    }
   ],
   "source": [
    "# duet = sy.launch_duet(loopback=True)\n",
    "duet = sy.launch_duet(network_url=\"http://localhost:5000\", loopback=True)"
   ]
  },
  {
   "cell_type": "code",
   "execution_count": 3,
   "metadata": {},
   "outputs": [
    {
     "name": "stderr",
     "output_type": "stream",
     "text": [
      "2020-10-31 18:56:09.114 | CRITICAL | syft.grid.connections.webrtc:heartbeat:562 - Launcher PQ: 0 / 0 - CQ: 0 / 0\n"
     ]
    },
    {
     "name": "stdout",
     "output_type": "stream",
     "text": [
      "Launcher PQ: 0 / 0 - CQ: 0 / 0\n"
     ]
    }
   ],
   "source": [
    "# accept all incoming requests, print and log them\n",
    "accept_handler = {\n",
    "    \"request_name\": \"age_data\",\n",
    "    \"timeout_secs\": -1,\n",
    "    \"action\": \"accept\",\n",
    "    \"print_local\": True,\n",
    "    \"log_local\": True\n",
    "}\n",
    "duet.requests.add_handler(accept_handler)\n",
    "accept_handler = {\n",
    "    \"request_name\": \"cuda_is_available\",\n",
    "    \"timeout_secs\": -1,\n",
    "    \"action\": \"accept\",\n",
    "    \"print_local\": True,\n",
    "    \"log_local\": True\n",
    "}\n",
    "duet.requests.add_handler(accept_handler)\n",
    "# accept_handler = {\n",
    "#     \"request_name\": \"loss\",\n",
    "#     \"timeout_secs\": -1,\n",
    "#     \"action\": \"deny\",\n",
    "#     \"print_local\": True,\n",
    "#     \"log_local\": True\n",
    "# }\n",
    "# duet.requests.add_handler(accept_handler)\n",
    "accept_handler = {\n",
    "    \"request_name\": \"loss\",\n",
    "    \"timeout_secs\": -1,\n",
    "    \"action\": \"accept\"\n",
    "}\n",
    "duet.requests.add_handler(accept_handler)\n",
    "accept_handler = {\n",
    "    \"request_name\": \"train_size\",\n",
    "    \"timeout_secs\": -1,\n",
    "    \"action\": \"accept\",\n",
    "    \"print_local\": True,\n",
    "    \"log_local\": True\n",
    "}\n",
    "duet.requests.add_handler(accept_handler)\n",
    "accept_handler = {\n",
    "    \"request_name\": \"inference\",\n",
    "    \"timeout_secs\": -1,\n",
    "    \"action\": \"accept\",\n",
    "    \"print_local\": True,\n",
    "    \"log_local\": True\n",
    "}\n",
    "duet.requests.add_handler(accept_handler)\n",
    "accept_handler = {\n",
    "    \"request_name\": \"model_download\",\n",
    "    \"timeout_secs\": -1,\n",
    "    \"action\": \"accept\",\n",
    "}\n",
    "duet.requests.add_handler(accept_handler)"
   ]
  },
  {
   "cell_type": "code",
   "execution_count": 4,
   "metadata": {},
   "outputs": [
    {
     "data": {
      "text/plain": [
       "[{'request_name': 'age_data',\n",
       "  'timeout_secs': -1,\n",
       "  'action': 'accept',\n",
       "  'print_local': True,\n",
       "  'log_local': True,\n",
       "  'created_time': 1604134528.0},\n",
       " {'request_name': 'cuda_is_available',\n",
       "  'timeout_secs': -1,\n",
       "  'action': 'accept',\n",
       "  'print_local': True,\n",
       "  'log_local': True,\n",
       "  'created_time': 1604134528.0},\n",
       " {'request_name': 'loss',\n",
       "  'timeout_secs': -1,\n",
       "  'action': 'accept',\n",
       "  'created_time': 1604134528.0},\n",
       " {'request_name': 'train_size',\n",
       "  'timeout_secs': -1,\n",
       "  'action': 'accept',\n",
       "  'print_local': True,\n",
       "  'log_local': True,\n",
       "  'created_time': 1604134528.0},\n",
       " {'request_name': 'inference',\n",
       "  'timeout_secs': -1,\n",
       "  'action': 'accept',\n",
       "  'print_local': True,\n",
       "  'log_local': True,\n",
       "  'created_time': 1604134528.0},\n",
       " {'request_name': 'model_download',\n",
       "  'timeout_secs': -1,\n",
       "  'action': 'accept',\n",
       "  'created_time': 1604134528.0}]"
      ]
     },
     "execution_count": 4,
     "metadata": {},
     "output_type": "execute_result"
    },
    {
     "name": "stderr",
     "output_type": "stream",
     "text": [
      "2020-10-31 18:56:14.118 | CRITICAL | syft.grid.connections.webrtc:heartbeat:562 - Launcher PQ: 0 / 0 - CQ: 0 / 0\n"
     ]
    },
    {
     "name": "stdout",
     "output_type": "stream",
     "text": [
      "Launcher PQ: 0 / 0 - CQ: 0 / 0\n"
     ]
    }
   ],
   "source": [
    "duet.requests.handlers"
   ]
  },
  {
   "cell_type": "code",
   "execution_count": null,
   "metadata": {},
   "outputs": [],
   "source": [
    "for handler in duet.requests.handlers:\n",
    "    del handler[\"created_time\"]\n",
    "    duet.requests.remove_handler(handler)"
   ]
  },
  {
   "cell_type": "code",
   "execution_count": null,
   "metadata": {},
   "outputs": [],
   "source": [
    "# deny all incoming requests, print and log them\n",
    "deny_handler = {\n",
    "    \"request_name\": \"loss\",\n",
    "    \"timeout_secs\": -1,\n",
    "    \"action\": \"deny\",\n",
    "    \"print_local\": True,\n",
    "    \"log_local\": True\n",
    "}\n",
    "duet.requests.remove_handler(deny_handler)"
   ]
  },
  {
   "cell_type": "code",
   "execution_count": null,
   "metadata": {},
   "outputs": [],
   "source": [
    "accept_handler = {\n",
    "    \"request_name\": \"loss\",\n",
    "    \"timeout_secs\": -1,\n",
    "    \"action\": \"accept\"\n",
    "}\n",
    "duet.requests.add_handler(accept_handler)"
   ]
  },
  {
   "cell_type": "code",
   "execution_count": null,
   "metadata": {},
   "outputs": [],
   "source": []
  },
  {
   "cell_type": "code",
   "execution_count": null,
   "metadata": {},
   "outputs": [],
   "source": []
  },
  {
   "cell_type": "code",
   "execution_count": null,
   "metadata": {},
   "outputs": [],
   "source": []
  },
  {
   "cell_type": "code",
   "execution_count": null,
   "metadata": {},
   "outputs": [],
   "source": []
  },
  {
   "cell_type": "code",
   "execution_count": null,
   "metadata": {},
   "outputs": [],
   "source": [
    "# # accept all incoming requests, print and log them\n",
    "# accept_handler = {\n",
    "#     \"timeout_secs\": -1,\n",
    "#     \"action\": \"accept\",\n",
    "#     \"print_local\": True,\n",
    "#     \"log_local\": True\n",
    "# }\n",
    "# duet.requests.add_handler(accept_handler)"
   ]
  },
  {
   "cell_type": "markdown",
   "metadata": {},
   "source": [
    "If you are in Jupyter Notebook (not Colab) the ☝🏾DUET LIVE STATUS above will animate "
   ]
  },
  {
   "cell_type": "markdown",
   "metadata": {},
   "source": [
    "# PART 2: Launch a Duet Server and Connect"
   ]
  },
  {
   "cell_type": "code",
   "execution_count": 5,
   "metadata": {},
   "outputs": [],
   "source": [
    "import torch as th\n",
    "import torchvision as tv"
   ]
  },
  {
   "cell_type": "code",
   "execution_count": 6,
   "metadata": {},
   "outputs": [],
   "source": [
    "# # let's pretend we have a tensor of human ages\n",
    "# age_data = th.rand((9216, 128)) # not working too big??\n",
    "# import sys\n",
    "# sys.getsizeof(age_data)"
   ]
  },
  {
   "cell_type": "code",
   "execution_count": 7,
   "metadata": {
    "scrolled": true
   },
   "outputs": [
    {
     "name": "stderr",
     "output_type": "stream",
     "text": [
      "2020-10-31 18:56:19.123 | CRITICAL | syft.grid.connections.webrtc:heartbeat:562 - Launcher PQ: 0 / 0 - CQ: 0 / 0\n"
     ]
    },
    {
     "name": "stdout",
     "output_type": "stream",
     "text": [
      "Launcher PQ: 0 / 0 - CQ: 0 / 0\n"
     ]
    },
    {
     "name": "stderr",
     "output_type": "stream",
     "text": [
      "2020-10-31 18:56:23.683 | INFO     | syft.core.node.domain.domain:check_handler:216 - > Request age_data: I want to see the age data\n",
      "Value: tensor([[0.4980, 0.5522, 0.2799,  ..., 0.5360, 0.8827, 0.5070],\n",
      "        [0.9677, 0.4784, 0.4550,  ..., 0.7684, 0.0693, 0.1368],\n",
      "        [0.8279, 0.9302, 0.7880,  ..., 0.6352, 0.8049, 0.6571],\n",
      "        ...,\n",
      "        [0.1649, 0.4891, 0.6087,  ..., 0.8672, 0.2302, 0.2730],\n",
      "        [0.5153, 0.0215, 0.5692,  ..., 0.1501, 0.1913, 0.1747],\n",
      "        [0.6480, 0.4488, 0.1111,  ..., 0.0328, 0.5419, 0.3349]])\n"
     ]
    },
    {
     "name": "stdout",
     "output_type": "stream",
     "text": [
      "> Request age_data: I want to see the age data\n",
      "Value: tensor([[0.4980, 0.5522, 0.2799,  ..., 0.5360, 0.8827, 0.5070],\n",
      "        [0.9677, 0.4784, 0.4550,  ..., 0.7684, 0.0693, 0.1368],\n",
      "        [0.8279, 0.9302, 0.7880,  ..., 0.6352, 0.8049, 0.6571],\n",
      "        ...,\n",
      "        [0.1649, 0.4891, 0.6087,  ..., 0.8672, 0.2302, 0.2730],\n",
      "        [0.5153, 0.0215, 0.5692,  ..., 0.1501, 0.1913, 0.1747],\n",
      "        [0.6480, 0.4488, 0.1111,  ..., 0.0328, 0.5419, 0.3349]])\n"
     ]
    },
    {
     "name": "stderr",
     "output_type": "stream",
     "text": [
      "2020-10-31 18:56:24.126 | CRITICAL | syft.grid.connections.webrtc:heartbeat:562 - Launcher PQ: 0 / 0 - CQ: 0 / 0\n"
     ]
    },
    {
     "name": "stdout",
     "output_type": "stream",
     "text": [
      "Launcher PQ: 0 / 0 - CQ: 0 / 0\n"
     ]
    },
    {
     "name": "stderr",
     "output_type": "stream",
     "text": [
      "2020-10-31 18:56:29.127 | CRITICAL | syft.grid.connections.webrtc:heartbeat:562 - Launcher PQ: 0 / 0 - CQ: 0 / 0\n"
     ]
    },
    {
     "name": "stdout",
     "output_type": "stream",
     "text": [
      "Launcher PQ: 0 / 0 - CQ: 0 / 0\n"
     ]
    },
    {
     "name": "stderr",
     "output_type": "stream",
     "text": [
      "2020-10-31 18:56:34.133 | CRITICAL | syft.grid.connections.webrtc:heartbeat:562 - Launcher PQ: 0 / 0 - CQ: 0 / 0\n"
     ]
    },
    {
     "name": "stdout",
     "output_type": "stream",
     "text": [
      "Launcher PQ: 0 / 0 - CQ: 0 / 0\n"
     ]
    },
    {
     "name": "stderr",
     "output_type": "stream",
     "text": [
      "2020-10-31 18:56:35.791 | ERROR    | syft.core.node.common.action.get_object_action:execute_action:201 - You do not have permission to .get() Object with ID: <UID:afe288b6-e0e6-4221-8f91-5082110a3d41>Please submit a request.\n",
      "2020-10-31 18:56:35.791 | CRITICAL | syft.core.node.domain.domain:check_handler:201 - Exception getting object. You do not have permission to .get() Object with ID: <UID:afe288b6-e0e6-4221-8f91-5082110a3d41>Please submit a request.\n",
      "2020-10-31 18:56:35.794 | INFO     | syft.core.node.domain.domain:check_handler:216 - > Request cuda_is_available: To run test and inference locally\n",
      "Value: None\n"
     ]
    },
    {
     "name": "stdout",
     "output_type": "stream",
     "text": [
      "\n",
      "Launcher PQ: 0 / 0 - CQ: 0 / 0\n"
     ]
    },
    {
     "name": "stderr",
     "output_type": "stream",
     "text": [
      "2020-10-31 18:56:39.138 | CRITICAL | syft.grid.connections.webrtc:heartbeat:562 - Launcher PQ: 0 / 0 - CQ: 0 / 0\n",
      "2020-10-31 18:56:41.453 | CRITICAL | syft.core.node.common.action.garbage_collect_object_action:execute_action:32 - > Unable to delete id_at_location=<UID:ebf2a023-5482-482a-bf3b-de60413bca43>\n",
      "2020-10-31 18:56:44.146 | CRITICAL | syft.grid.connections.webrtc:heartbeat:562 - Launcher PQ: 0 / 0 - CQ: 0 / 0\n"
     ]
    },
    {
     "name": "stdout",
     "output_type": "stream",
     "text": [
      "Launcher PQ: 0 / 0 - CQ: 0 / 0\n"
     ]
    },
    {
     "name": "stderr",
     "output_type": "stream",
     "text": [
      "2020-10-31 18:56:49.150 | CRITICAL | syft.grid.connections.webrtc:heartbeat:562 - Launcher PQ: 0 / 0 - CQ: 0 / 0\n"
     ]
    },
    {
     "name": "stdout",
     "output_type": "stream",
     "text": [
      "Launcher PQ: 0 / 0 - CQ: 0 / 0\n"
     ]
    },
    {
     "name": "stderr",
     "output_type": "stream",
     "text": [
      "2020-10-31 18:56:54.156 | CRITICAL | syft.grid.connections.webrtc:heartbeat:562 - Launcher PQ: 0 / 0 - CQ: 0 / 0\n"
     ]
    },
    {
     "name": "stdout",
     "output_type": "stream",
     "text": [
      "Launcher PQ: 0 / 0 - CQ: 0 / 0\n"
     ]
    },
    {
     "name": "stderr",
     "output_type": "stream",
     "text": [
      "2020-10-31 18:56:59.161 | CRITICAL | syft.grid.connections.webrtc:heartbeat:562 - Launcher PQ: 0 / 0 - CQ: 0 / 0\n"
     ]
    },
    {
     "name": "stdout",
     "output_type": "stream",
     "text": [
      "Launcher PQ: 0 / 0 - CQ: 0 / 0\n"
     ]
    },
    {
     "name": "stderr",
     "output_type": "stream",
     "text": [
      "2020-10-31 18:57:04.167 | CRITICAL | syft.grid.connections.webrtc:heartbeat:562 - Launcher PQ: 0 / 0 - CQ: 0 / 0\n"
     ]
    },
    {
     "name": "stdout",
     "output_type": "stream",
     "text": [
      "Launcher PQ: 0 / 0 - CQ: 0 / 0\n"
     ]
    },
    {
     "name": "stderr",
     "output_type": "stream",
     "text": [
      "2020-10-31 18:57:09.172 | CRITICAL | syft.grid.connections.webrtc:heartbeat:562 - Launcher PQ: 0 / 0 - CQ: 0 / 0\n"
     ]
    },
    {
     "name": "stdout",
     "output_type": "stream",
     "text": [
      "Launcher PQ: 0 / 0 - CQ: 0 / 0\n"
     ]
    },
    {
     "name": "stderr",
     "output_type": "stream",
     "text": [
      "2020-10-31 18:57:14.177 | CRITICAL | syft.grid.connections.webrtc:heartbeat:562 - Launcher PQ: 0 / 0 - CQ: 0 / 0\n"
     ]
    },
    {
     "name": "stdout",
     "output_type": "stream",
     "text": [
      "Launcher PQ: 0 / 0 - CQ: 0 / 0\n"
     ]
    },
    {
     "name": "stderr",
     "output_type": "stream",
     "text": [
      "2020-10-31 18:57:19.183 | CRITICAL | syft.grid.connections.webrtc:heartbeat:562 - Launcher PQ: 0 / 0 - CQ: 0 / 0\n"
     ]
    },
    {
     "name": "stdout",
     "output_type": "stream",
     "text": [
      "Launcher PQ: 0 / 0 - CQ: 0 / 0\n"
     ]
    },
    {
     "name": "stderr",
     "output_type": "stream",
     "text": [
      "2020-10-31 18:57:24.187 | CRITICAL | syft.grid.connections.webrtc:heartbeat:562 - Launcher PQ: 0 / 0 - CQ: 0 / 0\n",
      "2020-10-31 18:57:29.196 | CRITICAL | syft.grid.connections.webrtc:heartbeat:562 - Launcher PQ: 0 / 0 - CQ: 0 / 0\n"
     ]
    },
    {
     "name": "stdout",
     "output_type": "stream",
     "text": [
      "Launcher PQ: 0 / 0 - CQ: 0 / 0\n"
     ]
    },
    {
     "name": "stderr",
     "output_type": "stream",
     "text": [
      "2020-10-31 18:57:34.201 | CRITICAL | syft.grid.connections.webrtc:heartbeat:562 - Launcher PQ: 0 / 0 - CQ: 0 / 0\n"
     ]
    },
    {
     "name": "stdout",
     "output_type": "stream",
     "text": [
      "Launcher PQ: 0 / 0 - CQ: 0 / 0\n"
     ]
    },
    {
     "name": "stderr",
     "output_type": "stream",
     "text": [
      "2020-10-31 18:57:39.207 | CRITICAL | syft.grid.connections.webrtc:heartbeat:562 - Launcher PQ: 0 / 0 - CQ: 0 / 0\n"
     ]
    },
    {
     "name": "stdout",
     "output_type": "stream",
     "text": [
      "Launcher PQ: 0 / 0 - CQ: 0 / 0\n"
     ]
    },
    {
     "name": "stderr",
     "output_type": "stream",
     "text": [
      "2020-10-31 18:57:44.212 | CRITICAL | syft.grid.connections.webrtc:heartbeat:562 - Launcher PQ: 0 / 0 - CQ: 0 / 0\n"
     ]
    },
    {
     "name": "stdout",
     "output_type": "stream",
     "text": [
      "Launcher PQ: 0 / 0 - CQ: 0 / 0\n"
     ]
    },
    {
     "name": "stderr",
     "output_type": "stream",
     "text": [
      "2020-10-31 18:57:49.217 | CRITICAL | syft.grid.connections.webrtc:heartbeat:562 - Launcher PQ: 0 / 0 - CQ: 0 / 0\n"
     ]
    },
    {
     "name": "stdout",
     "output_type": "stream",
     "text": [
      "Launcher PQ: 0 / 0 - CQ: 0 / 0\n"
     ]
    },
    {
     "name": "stderr",
     "output_type": "stream",
     "text": [
      "2020-10-31 18:57:54.222 | CRITICAL | syft.grid.connections.webrtc:heartbeat:562 - Launcher PQ: 0 / 0 - CQ: 0 / 0\n"
     ]
    },
    {
     "name": "stdout",
     "output_type": "stream",
     "text": [
      "Launcher PQ: 0 / 0 - CQ: 0 / 0\n"
     ]
    },
    {
     "name": "stderr",
     "output_type": "stream",
     "text": [
      "2020-10-31 18:57:59.227 | CRITICAL | syft.grid.connections.webrtc:heartbeat:562 - Launcher PQ: 0 / 0 - CQ: 0 / 0\n"
     ]
    },
    {
     "name": "stdout",
     "output_type": "stream",
     "text": [
      "Launcher PQ: 0 / 0 - CQ: 0 / 0\n"
     ]
    },
    {
     "name": "stderr",
     "output_type": "stream",
     "text": [
      "2020-10-31 18:58:04.233 | CRITICAL | syft.grid.connections.webrtc:heartbeat:562 - Launcher PQ: 0 / 0 - CQ: 0 / 0\n"
     ]
    },
    {
     "name": "stdout",
     "output_type": "stream",
     "text": [
      "Launcher PQ: 0 / 0 - CQ: 0 / 0\n"
     ]
    },
    {
     "name": "stderr",
     "output_type": "stream",
     "text": [
      "2020-10-31 18:58:05.139 | ERROR    | syft.core.node.common.action.get_object_action:execute_action:201 - You do not have permission to .get() Object with ID: <UID:268e5764-3a48-4023-824d-500f46231a3c>Please submit a request.\n",
      "2020-10-31 18:58:05.139 | CRITICAL | syft.core.node.domain.domain:check_handler:201 - Exception getting object. You do not have permission to .get() Object with ID: <UID:268e5764-3a48-4023-824d-500f46231a3c>Please submit a request.\n",
      "2020-10-31 18:58:05.142 | INFO     | syft.core.node.domain.domain:check_handler:216 - > Request train_size: To write the training loop\n",
      "Value: None\n"
     ]
    },
    {
     "name": "stdout",
     "output_type": "stream",
     "text": [
      "> Request train_size: To write the training loop\n",
      "Value: None\n"
     ]
    },
    {
     "name": "stderr",
     "output_type": "stream",
     "text": [
      "2020-10-31 18:58:09.238 | CRITICAL | syft.grid.connections.webrtc:heartbeat:562 - Launcher PQ: 0 / 0 - CQ: 0 / 0\n"
     ]
    },
    {
     "name": "stdout",
     "output_type": "stream",
     "text": [
      "Launcher PQ: 0 / 0 - CQ: 0 / 0\n"
     ]
    },
    {
     "name": "stderr",
     "output_type": "stream",
     "text": [
      "2020-10-31 18:58:14.242 | CRITICAL | syft.grid.connections.webrtc:heartbeat:562 - Launcher PQ: 0 / 0 - CQ: 0 / 0\n"
     ]
    },
    {
     "name": "stdout",
     "output_type": "stream",
     "text": [
      "Launcher PQ: 0 / 0 - CQ: 0 / 0\n"
     ]
    },
    {
     "name": "stderr",
     "output_type": "stream",
     "text": [
      "2020-10-31 18:58:19.245 | CRITICAL | syft.grid.connections.webrtc:heartbeat:562 - Launcher PQ: 0 / 0 - CQ: 0 / 0\n"
     ]
    },
    {
     "name": "stdout",
     "output_type": "stream",
     "text": [
      "Launcher PQ: 0 / 0 - CQ: 0 / 0\n"
     ]
    },
    {
     "name": "stderr",
     "output_type": "stream",
     "text": [
      "2020-10-31 18:58:19.312 | CRITICAL | syft.core.node.common.action.garbage_collect_object_action:execute_action:32 - > Unable to delete id_at_location=<UID:268e5764-3a48-4023-824d-500f46231a3c>\n",
      "2020-10-31 18:58:24.246 | CRITICAL | syft.grid.connections.webrtc:heartbeat:562 - Launcher PQ: 0 / 0 - CQ: 0 / 0\n",
      "2020-10-31 18:58:29.253 | CRITICAL | syft.grid.connections.webrtc:heartbeat:562 - Launcher PQ: 0 / 0 - CQ: 0 / 0\n"
     ]
    },
    {
     "name": "stdout",
     "output_type": "stream",
     "text": [
      "Launcher PQ: 0 / 0 - CQ: 0 / 0\n"
     ]
    },
    {
     "name": "stderr",
     "output_type": "stream",
     "text": [
      "2020-10-31 18:58:34.256 | CRITICAL | syft.grid.connections.webrtc:heartbeat:562 - Launcher PQ: 0 / 0 - CQ: 0 / 0\n"
     ]
    },
    {
     "name": "stdout",
     "output_type": "stream",
     "text": [
      "Launcher PQ: 0 / 0 - CQ: 0 / 0\n"
     ]
    }
   ],
   "source": [
    "# age_data = th.rand((9216, 128)) # works Wall time: 19.4 s\n",
    "age_data = th.rand((9216, 96)) # works Wall time: 46.6 s\n",
    "# age_data = th.rand((4608, 128))   # 589824 params # works Wall time: 24.7 s\n",
    "# age_data = th.rand((10, 1))   # params # works Wall time: 24.7 s\n",
    "age_data_pointer = age_data.send(duet, searchable=True)\n",
    "\n",
    "# Let's tag it as \"age data\"\n",
    "age_data = age_data.tag(\"#age_data\")\n",
    "\n",
    "# Let's add a description to the tensor\n",
    "age_data = age_data.describe(\"This is a list of people's ages. Let's keep it private!\")\n",
    "\n",
    "# Let's UPLOAD THE DATA to the Duet server!\n",
    "age_data_pointer = age_data.send(duet, searchable=True)"
   ]
  },
  {
   "cell_type": "code",
   "execution_count": null,
   "metadata": {},
   "outputs": [],
   "source": [
    "duet.requests.remove_handler(accept_handler)"
   ]
  },
  {
   "cell_type": "code",
   "execution_count": null,
   "metadata": {},
   "outputs": [],
   "source": [
    "# accept all incoming requests, print and log them\n",
    "deny_handler = {\n",
    "    \"timeout_secs\": 10,\n",
    "    \"action\": \"deny\",\n",
    "    \"print_local\": True,\n",
    "    \"log_local\": True\n",
    "}\n",
    "duet.requests.add_handler(deny_handler)"
   ]
  },
  {
   "cell_type": "code",
   "execution_count": null,
   "metadata": {},
   "outputs": [],
   "source": [
    "duet.requests.remove_handler(deny_handler)"
   ]
  },
  {
   "cell_type": "code",
   "execution_count": 8,
   "metadata": {},
   "outputs": [
    {
     "data": {
      "text/html": [
       "<div>\n",
       "<style scoped>\n",
       "    .dataframe tbody tr th:only-of-type {\n",
       "        vertical-align: middle;\n",
       "    }\n",
       "\n",
       "    .dataframe tbody tr th {\n",
       "        vertical-align: top;\n",
       "    }\n",
       "\n",
       "    .dataframe thead th {\n",
       "        text-align: right;\n",
       "    }\n",
       "</style>\n",
       "<table border=\"1\" class=\"dataframe\">\n",
       "  <thead>\n",
       "    <tr style=\"text-align: right;\">\n",
       "      <th></th>\n",
       "    </tr>\n",
       "  </thead>\n",
       "  <tbody>\n",
       "  </tbody>\n",
       "</table>\n",
       "</div>"
      ],
      "text/plain": [
       "Empty DataFrame\n",
       "Columns: []\n",
       "Index: []"
      ]
     },
     "execution_count": 8,
     "metadata": {},
     "output_type": "execute_result"
    },
    {
     "name": "stderr",
     "output_type": "stream",
     "text": [
      "2020-10-31 18:58:39.267 | CRITICAL | syft.grid.connections.webrtc:heartbeat:562 - Launcher PQ: 0 / 0 - CQ: 0 / 0\n"
     ]
    },
    {
     "name": "stdout",
     "output_type": "stream",
     "text": [
      "Launcher PQ: 0 / 0 - CQ: 0 / 0\n"
     ]
    },
    {
     "name": "stderr",
     "output_type": "stream",
     "text": [
      "2020-10-31 18:58:44.274 | CRITICAL | syft.grid.connections.webrtc:heartbeat:562 - Launcher PQ: 0 / 0 - CQ: 0 / 0\n",
      "2020-10-31 18:58:49.275 | CRITICAL | syft.grid.connections.webrtc:heartbeat:562 - Launcher PQ: 0 / 0 - CQ: 0 / 0\n"
     ]
    },
    {
     "name": "stdout",
     "output_type": "stream",
     "text": [
      "Launcher PQ: 0 / 0 - CQ: 0 / 0\n"
     ]
    },
    {
     "name": "stderr",
     "output_type": "stream",
     "text": [
      "2020-10-31 18:58:54.309 | CRITICAL | syft.grid.connections.webrtc:heartbeat:562 - Launcher PQ: 0 / 0 - CQ: 0 / 0\n"
     ]
    },
    {
     "name": "stdout",
     "output_type": "stream",
     "text": [
      "Launcher PQ: 0 / 0 - CQ: 0 / 0\n"
     ]
    },
    {
     "name": "stderr",
     "output_type": "stream",
     "text": [
      "2020-10-31 18:58:59.317 | CRITICAL | syft.grid.connections.webrtc:heartbeat:562 - Launcher PQ: 0 / 0 - CQ: 0 / 0\n"
     ]
    },
    {
     "name": "stdout",
     "output_type": "stream",
     "text": [
      "Launcher PQ: 0 / 0 - CQ: 0 / 0\n"
     ]
    },
    {
     "name": "stderr",
     "output_type": "stream",
     "text": [
      "2020-10-31 18:59:04.340 | CRITICAL | syft.grid.connections.webrtc:heartbeat:562 - Launcher PQ: 0 / 0 - CQ: 0 / 0\n",
      "2020-10-31 18:59:09.342 | CRITICAL | syft.grid.connections.webrtc:heartbeat:562 - Launcher PQ: 0 / 0 - CQ: 0 / 0\n"
     ]
    },
    {
     "name": "stdout",
     "output_type": "stream",
     "text": [
      "Launcher PQ: 0 / 0 - CQ: 0 / 0\n"
     ]
    },
    {
     "name": "stderr",
     "output_type": "stream",
     "text": [
      "2020-10-31 18:59:14.355 | CRITICAL | syft.grid.connections.webrtc:heartbeat:562 - Launcher PQ: 0 / 0 - CQ: 0 / 0\n"
     ]
    },
    {
     "name": "stdout",
     "output_type": "stream",
     "text": [
      "Launcher PQ: 0 / 0 - CQ: 0 / 0\n"
     ]
    },
    {
     "name": "stderr",
     "output_type": "stream",
     "text": [
      "2020-10-31 18:59:19.383 | CRITICAL | syft.grid.connections.webrtc:heartbeat:562 - Launcher PQ: 0 / 0 - CQ: 0 / 0\n"
     ]
    },
    {
     "name": "stdout",
     "output_type": "stream",
     "text": [
      "Launcher PQ: 0 / 0 - CQ: 0 / 0\n"
     ]
    },
    {
     "name": "stderr",
     "output_type": "stream",
     "text": [
      "2020-10-31 18:59:24.400 | CRITICAL | syft.grid.connections.webrtc:heartbeat:562 - Launcher PQ: 0 / 0 - CQ: 0 / 0\n"
     ]
    },
    {
     "name": "stdout",
     "output_type": "stream",
     "text": [
      "Launcher PQ: 0 / 0 - CQ: 0 / 0\n"
     ]
    },
    {
     "name": "stderr",
     "output_type": "stream",
     "text": [
      "2020-10-31 18:59:29.423 | CRITICAL | syft.grid.connections.webrtc:heartbeat:562 - Launcher PQ: 0 / 0 - CQ: 0 / 0\n"
     ]
    },
    {
     "name": "stdout",
     "output_type": "stream",
     "text": [
      "Launcher PQ: 0 / 0 - CQ: 0 / 0\n"
     ]
    },
    {
     "name": "stderr",
     "output_type": "stream",
     "text": [
      "2020-10-31 18:59:34.428 | CRITICAL | syft.grid.connections.webrtc:heartbeat:562 - Launcher PQ: 0 / 0 - CQ: 0 / 0\n",
      "2020-10-31 18:59:39.441 | CRITICAL | syft.grid.connections.webrtc:heartbeat:562 - Launcher PQ: 0 / 0 - CQ: 0 / 0\n"
     ]
    },
    {
     "name": "stdout",
     "output_type": "stream",
     "text": [
      "Launcher PQ: 0 / 0 - CQ: 0 / 0\n"
     ]
    },
    {
     "name": "stderr",
     "output_type": "stream",
     "text": [
      "2020-10-31 18:59:44.446 | CRITICAL | syft.grid.connections.webrtc:heartbeat:562 - Launcher PQ: 0 / 0 - CQ: 0 / 0\n"
     ]
    },
    {
     "name": "stdout",
     "output_type": "stream",
     "text": [
      "Launcher PQ: 0 / 0 - CQ: 0 / 0\n"
     ]
    },
    {
     "name": "stderr",
     "output_type": "stream",
     "text": [
      "2020-10-31 18:59:49.448 | CRITICAL | syft.grid.connections.webrtc:heartbeat:562 - Launcher PQ: 0 / 0 - CQ: 0 / 0\n"
     ]
    },
    {
     "name": "stdout",
     "output_type": "stream",
     "text": [
      "Launcher PQ: 0 / 0 - CQ: 0 / 0\n"
     ]
    },
    {
     "name": "stderr",
     "output_type": "stream",
     "text": [
      "2020-10-31 18:59:54.454 | CRITICAL | syft.grid.connections.webrtc:heartbeat:562 - Launcher PQ: 0 / 0 - CQ: 0 / 0\n"
     ]
    },
    {
     "name": "stdout",
     "output_type": "stream",
     "text": [
      "Launcher PQ: 0 / 0 - CQ: 0 / 0\n"
     ]
    },
    {
     "name": "stderr",
     "output_type": "stream",
     "text": [
      "2020-10-31 18:59:59.455 | CRITICAL | syft.grid.connections.webrtc:heartbeat:562 - Launcher PQ: 0 / 0 - CQ: 0 / 0\n"
     ]
    },
    {
     "name": "stdout",
     "output_type": "stream",
     "text": [
      "Launcher PQ: 0 / 0 - CQ: 0 / 0\n"
     ]
    },
    {
     "name": "stderr",
     "output_type": "stream",
     "text": [
      "2020-10-31 19:00:04.460 | CRITICAL | syft.grid.connections.webrtc:heartbeat:562 - Launcher PQ: 0 / 0 - CQ: 0 / 0\n"
     ]
    },
    {
     "name": "stdout",
     "output_type": "stream",
     "text": [
      "Launcher PQ: 0 / 0 - CQ: 0 / 0\n"
     ]
    },
    {
     "name": "stderr",
     "output_type": "stream",
     "text": [
      "2020-10-31 19:00:09.473 | CRITICAL | syft.grid.connections.webrtc:heartbeat:562 - Launcher PQ: 0 / 0 - CQ: 0 / 0\n"
     ]
    },
    {
     "name": "stdout",
     "output_type": "stream",
     "text": [
      "Launcher PQ: 0 / 0 - CQ: 0 / 0\n"
     ]
    },
    {
     "name": "stderr",
     "output_type": "stream",
     "text": [
      "2020-10-31 19:00:14.480 | CRITICAL | syft.grid.connections.webrtc:heartbeat:562 - Launcher PQ: 0 / 0 - CQ: 0 / 0\n"
     ]
    },
    {
     "name": "stdout",
     "output_type": "stream",
     "text": [
      "\n"
     ]
    },
    {
     "name": "stderr",
     "output_type": "stream",
     "text": [
      "2020-10-31 19:00:19.495 | CRITICAL | syft.grid.connections.webrtc:heartbeat:562 - Launcher PQ: 0 / 0 - CQ: 0 / 0\n"
     ]
    },
    {
     "name": "stdout",
     "output_type": "stream",
     "text": [
      "Launcher PQ: 0 / 0 - CQ: 0 / 0\n"
     ]
    },
    {
     "name": "stderr",
     "output_type": "stream",
     "text": [
      "2020-10-31 19:00:24.506 | CRITICAL | syft.grid.connections.webrtc:heartbeat:562 - Launcher PQ: 0 / 0 - CQ: 0 / 0\n",
      "2020-10-31 19:00:29.514 | CRITICAL | syft.grid.connections.webrtc:heartbeat:562 - Launcher PQ: 0 / 0 - CQ: 0 / 0\n",
      "2020-10-31 19:00:34.529 | CRITICAL | syft.grid.connections.webrtc:heartbeat:562 - Launcher PQ: 0 / 0 - CQ: 0 / 0\n"
     ]
    },
    {
     "name": "stdout",
     "output_type": "stream",
     "text": [
      "Launcher PQ: 0 / 0 - CQ: 0 / 0\n"
     ]
    },
    {
     "name": "stderr",
     "output_type": "stream",
     "text": [
      "2020-10-31 19:00:39.537 | CRITICAL | syft.grid.connections.webrtc:heartbeat:562 - Launcher PQ: 0 / 0 - CQ: 0 / 0\n"
     ]
    },
    {
     "name": "stdout",
     "output_type": "stream",
     "text": [
      "Launcher PQ: 0 / 0 - CQ: 0 / 0\n"
     ]
    },
    {
     "name": "stderr",
     "output_type": "stream",
     "text": [
      "2020-10-31 19:00:44.541 | CRITICAL | syft.grid.connections.webrtc:heartbeat:562 - Launcher PQ: 0 / 0 - CQ: 0 / 0\n"
     ]
    },
    {
     "name": "stdout",
     "output_type": "stream",
     "text": [
      "Launcher PQ: 0 / 0 - CQ: 0 / 0\n"
     ]
    },
    {
     "name": "stderr",
     "output_type": "stream",
     "text": [
      "2020-10-31 19:00:49.560 | CRITICAL | syft.grid.connections.webrtc:heartbeat:562 - Launcher PQ: 0 / 0 - CQ: 0 / 0\n"
     ]
    },
    {
     "name": "stdout",
     "output_type": "stream",
     "text": [
      "Launcher PQ: 0 / 0 - CQ: 0 / 0\n"
     ]
    },
    {
     "name": "stderr",
     "output_type": "stream",
     "text": [
      "2020-10-31 19:00:54.565 | CRITICAL | syft.grid.connections.webrtc:heartbeat:562 - Launcher PQ: 0 / 0 - CQ: 0 / 0\n"
     ]
    },
    {
     "name": "stdout",
     "output_type": "stream",
     "text": [
      "Launcher PQ: 0 / 0 - CQ: 0 / 0\n",
      "Launcher PQ: 0 / 0 - CQ: 0 / 0\n"
     ]
    },
    {
     "name": "stderr",
     "output_type": "stream",
     "text": [
      "2020-10-31 19:00:59.570 | CRITICAL | syft.grid.connections.webrtc:heartbeat:562 - Launcher PQ: 0 / 0 - CQ: 0 / 0\n"
     ]
    },
    {
     "name": "stdout",
     "output_type": "stream",
     "text": [
      "Launcher PQ: 0 / 0 - CQ: 0 / 0\n"
     ]
    },
    {
     "name": "stderr",
     "output_type": "stream",
     "text": [
      "2020-10-31 19:01:04.572 | CRITICAL | syft.grid.connections.webrtc:heartbeat:562 - Launcher PQ: 0 / 0 - CQ: 0 / 0\n",
      "2020-10-31 19:01:09.576 | CRITICAL | syft.grid.connections.webrtc:heartbeat:562 - Launcher PQ: 0 / 0 - CQ: 0 / 0\n"
     ]
    },
    {
     "name": "stdout",
     "output_type": "stream",
     "text": [
      "Launcher PQ: 0 / 0 - CQ: 0 / 0\n"
     ]
    },
    {
     "name": "stderr",
     "output_type": "stream",
     "text": [
      "2020-10-31 19:01:14.595 | CRITICAL | syft.grid.connections.webrtc:heartbeat:562 - Launcher PQ: 0 / 0 - CQ: 0 / 0\n",
      "2020-10-31 19:01:19.596 | CRITICAL | syft.grid.connections.webrtc:heartbeat:562 - Launcher PQ: 0 / 0 - CQ: 0 / 0\n",
      "2020-10-31 19:01:24.606 | CRITICAL | syft.grid.connections.webrtc:heartbeat:562 - Launcher PQ: 0 / 0 - CQ: 0 / 0\n"
     ]
    },
    {
     "name": "stdout",
     "output_type": "stream",
     "text": [
      "\n"
     ]
    },
    {
     "name": "stderr",
     "output_type": "stream",
     "text": [
      "2020-10-31 19:01:29.629 | CRITICAL | syft.grid.connections.webrtc:heartbeat:562 - Launcher PQ: 0 / 0 - CQ: 0 / 0\n"
     ]
    },
    {
     "name": "stdout",
     "output_type": "stream",
     "text": [
      "Launcher PQ: 0 / 0 - CQ: 0 / 0\n"
     ]
    },
    {
     "name": "stderr",
     "output_type": "stream",
     "text": [
      "2020-10-31 19:01:34.645 | CRITICAL | syft.grid.connections.webrtc:heartbeat:562 - Launcher PQ: 0 / 0 - CQ: 0 / 0\n"
     ]
    },
    {
     "name": "stdout",
     "output_type": "stream",
     "text": [
      "Launcher PQ: 0 / 0 - CQ: 0 / 0\n"
     ]
    },
    {
     "name": "stderr",
     "output_type": "stream",
     "text": [
      "2020-10-31 19:01:39.677 | CRITICAL | syft.grid.connections.webrtc:heartbeat:562 - Launcher PQ: 0 / 0 - CQ: 0 / 0\n"
     ]
    },
    {
     "name": "stdout",
     "output_type": "stream",
     "text": [
      "Launcher PQ: 0 / 0 - CQ: 0 / 0\n"
     ]
    },
    {
     "name": "stderr",
     "output_type": "stream",
     "text": [
      "2020-10-31 19:01:44.680 | CRITICAL | syft.grid.connections.webrtc:heartbeat:562 - Launcher PQ: 0 / 0 - CQ: 0 / 0\n"
     ]
    },
    {
     "name": "stdout",
     "output_type": "stream",
     "text": [
      "Launcher PQ: 0 / 0 - CQ: 0 / 0\n"
     ]
    },
    {
     "name": "stderr",
     "output_type": "stream",
     "text": [
      "2020-10-31 19:01:49.692 | CRITICAL | syft.grid.connections.webrtc:heartbeat:562 - Launcher PQ: 0 / 0 - CQ: 0 / 0\n"
     ]
    },
    {
     "name": "stdout",
     "output_type": "stream",
     "text": [
      "Launcher PQ: 0 / 0 - CQ: 0 / 0\n"
     ]
    },
    {
     "name": "stderr",
     "output_type": "stream",
     "text": [
      "2020-10-31 19:01:54.694 | CRITICAL | syft.grid.connections.webrtc:heartbeat:562 - Launcher PQ: 0 / 0 - CQ: 0 / 0\n"
     ]
    },
    {
     "name": "stdout",
     "output_type": "stream",
     "text": [
      "Launcher PQ: 0 / 0 - CQ: 0 / 0\n"
     ]
    },
    {
     "name": "stderr",
     "output_type": "stream",
     "text": [
      "2020-10-31 19:01:59.695 | CRITICAL | syft.grid.connections.webrtc:heartbeat:562 - Launcher PQ: 0 / 0 - CQ: 0 / 0\n"
     ]
    },
    {
     "name": "stdout",
     "output_type": "stream",
     "text": [
      "Launcher PQ: 0 / 0 - CQ: 0 / 0\n"
     ]
    },
    {
     "name": "stderr",
     "output_type": "stream",
     "text": [
      "2020-10-31 19:02:04.701 | CRITICAL | syft.grid.connections.webrtc:heartbeat:562 - Launcher PQ: 0 / 0 - CQ: 0 / 0\n"
     ]
    },
    {
     "name": "stdout",
     "output_type": "stream",
     "text": [
      "Launcher PQ: 0 / 0 - CQ: 0 / 0\n"
     ]
    },
    {
     "name": "stderr",
     "output_type": "stream",
     "text": [
      "2020-10-31 19:02:09.710 | CRITICAL | syft.grid.connections.webrtc:heartbeat:562 - Launcher PQ: 0 / 0 - CQ: 0 / 0\n"
     ]
    },
    {
     "name": "stdout",
     "output_type": "stream",
     "text": [
      "\n"
     ]
    },
    {
     "name": "stderr",
     "output_type": "stream",
     "text": [
      "2020-10-31 19:02:14.720 | CRITICAL | syft.grid.connections.webrtc:heartbeat:562 - Launcher PQ: 0 / 0 - CQ: 0 / 0\n"
     ]
    },
    {
     "name": "stdout",
     "output_type": "stream",
     "text": [
      "Launcher PQ: 0 / 0 - CQ: 0 / 0\n"
     ]
    },
    {
     "name": "stderr",
     "output_type": "stream",
     "text": [
      "2020-10-31 19:02:19.723 | CRITICAL | syft.grid.connections.webrtc:heartbeat:562 - Launcher PQ: 0 / 0 - CQ: 0 / 0\n"
     ]
    },
    {
     "name": "stdout",
     "output_type": "stream",
     "text": [
      "Launcher PQ: 0 / 0 - CQ: 0 / 0\n",
      "Launcher PQ: 0 / 0 - CQ: 0 / 0\n"
     ]
    },
    {
     "name": "stderr",
     "output_type": "stream",
     "text": [
      "2020-10-31 19:02:24.732 | CRITICAL | syft.grid.connections.webrtc:heartbeat:562 - Launcher PQ: 0 / 0 - CQ: 0 / 0\n",
      "2020-10-31 19:02:29.746 | CRITICAL | syft.grid.connections.webrtc:heartbeat:562 - Launcher PQ: 0 / 0 - CQ: 0 / 0\n"
     ]
    },
    {
     "name": "stdout",
     "output_type": "stream",
     "text": [
      "Launcher PQ: 0 / 0 - CQ: 0 / 0\n"
     ]
    },
    {
     "name": "stderr",
     "output_type": "stream",
     "text": [
      "2020-10-31 19:02:34.751 | CRITICAL | syft.grid.connections.webrtc:heartbeat:562 - Launcher PQ: 0 / 0 - CQ: 0 / 0\n"
     ]
    },
    {
     "name": "stdout",
     "output_type": "stream",
     "text": [
      "Launcher PQ: 0 / 0 - CQ: 0 / 0\n",
      "Launcher PQ: 0 / 0 - CQ: 0 / 0\n"
     ]
    },
    {
     "name": "stderr",
     "output_type": "stream",
     "text": [
      "2020-10-31 19:02:39.770 | CRITICAL | syft.grid.connections.webrtc:heartbeat:562 - Launcher PQ: 0 / 0 - CQ: 0 / 0\n"
     ]
    },
    {
     "name": "stdout",
     "output_type": "stream",
     "text": [
      "Launcher PQ: 0 / 0 - CQ: 0 / 0\n"
     ]
    },
    {
     "name": "stderr",
     "output_type": "stream",
     "text": [
      "2020-10-31 19:02:44.777 | CRITICAL | syft.grid.connections.webrtc:heartbeat:562 - Launcher PQ: 0 / 0 - CQ: 0 / 0\n",
      "2020-10-31 19:02:49.786 | CRITICAL | syft.grid.connections.webrtc:heartbeat:562 - Launcher PQ: 0 / 0 - CQ: 0 / 0\n"
     ]
    },
    {
     "name": "stdout",
     "output_type": "stream",
     "text": [
      "Launcher PQ: 0 / 0 - CQ: 0 / 0\n"
     ]
    },
    {
     "name": "stderr",
     "output_type": "stream",
     "text": [
      "2020-10-31 19:02:54.801 | CRITICAL | syft.grid.connections.webrtc:heartbeat:562 - Launcher PQ: 0 / 0 - CQ: 0 / 0\n"
     ]
    },
    {
     "name": "stdout",
     "output_type": "stream",
     "text": [
      "Launcher PQ: 0 / 0 - CQ: 0 / 0\n"
     ]
    },
    {
     "name": "stderr",
     "output_type": "stream",
     "text": [
      "2020-10-31 19:02:59.804 | CRITICAL | syft.grid.connections.webrtc:heartbeat:562 - Launcher PQ: 0 / 0 - CQ: 0 / 0\n"
     ]
    },
    {
     "name": "stdout",
     "output_type": "stream",
     "text": [
      "Launcher PQ: 0 / 0 - CQ: 0 / 0\n"
     ]
    },
    {
     "name": "stderr",
     "output_type": "stream",
     "text": [
      "2020-10-31 19:03:04.813 | CRITICAL | syft.grid.connections.webrtc:heartbeat:562 - Launcher PQ: 0 / 0 - CQ: 0 / 0\n",
      "2020-10-31 19:03:09.844 | CRITICAL | syft.grid.connections.webrtc:heartbeat:562 - Launcher PQ: 0 / 0 - CQ: 0 / 0\n"
     ]
    },
    {
     "name": "stdout",
     "output_type": "stream",
     "text": [
      "Launcher PQ: 0 / 0 - CQ: 0 / 0\n"
     ]
    },
    {
     "name": "stderr",
     "output_type": "stream",
     "text": [
      "2020-10-31 19:03:14.855 | CRITICAL | syft.grid.connections.webrtc:heartbeat:562 - Launcher PQ: 0 / 0 - CQ: 0 / 0\n"
     ]
    },
    {
     "name": "stdout",
     "output_type": "stream",
     "text": [
      "Launcher PQ: 0 / 0 - CQ: 0 / 0\n"
     ]
    },
    {
     "name": "stderr",
     "output_type": "stream",
     "text": [
      "2020-10-31 19:03:19.865 | CRITICAL | syft.grid.connections.webrtc:heartbeat:562 - Launcher PQ: 0 / 0 - CQ: 0 / 0\n",
      "2020-10-31 19:03:24.871 | CRITICAL | syft.grid.connections.webrtc:heartbeat:562 - Launcher PQ: 0 / 0 - CQ: 0 / 0\n"
     ]
    },
    {
     "name": "stdout",
     "output_type": "stream",
     "text": [
      "Launcher PQ: 0 / 0 - CQ: 0 / 0\n"
     ]
    },
    {
     "name": "stderr",
     "output_type": "stream",
     "text": [
      "2020-10-31 19:03:29.873 | CRITICAL | syft.grid.connections.webrtc:heartbeat:562 - Launcher PQ: 0 / 0 - CQ: 0 / 0\n"
     ]
    },
    {
     "name": "stdout",
     "output_type": "stream",
     "text": [
      "Launcher PQ: 0 / 0 - CQ: 0 / 0\n"
     ]
    },
    {
     "name": "stderr",
     "output_type": "stream",
     "text": [
      "2020-10-31 19:03:34.894 | CRITICAL | syft.grid.connections.webrtc:heartbeat:562 - Launcher PQ: 0 / 0 - CQ: 0 / 0\n"
     ]
    },
    {
     "name": "stdout",
     "output_type": "stream",
     "text": [
      "Launcher PQ: 0 / 0 - CQ: 0 / 0\n"
     ]
    },
    {
     "name": "stderr",
     "output_type": "stream",
     "text": [
      "2020-10-31 19:03:39.901 | CRITICAL | syft.grid.connections.webrtc:heartbeat:562 - Launcher PQ: 0 / 0 - CQ: 0 / 0\n",
      "2020-10-31 19:03:44.910 | CRITICAL | syft.grid.connections.webrtc:heartbeat:562 - Launcher PQ: 0 / 0 - CQ: 0 / 0\n"
     ]
    },
    {
     "name": "stdout",
     "output_type": "stream",
     "text": [
      "Launcher PQ: 0 / 0 - CQ: 0 / 0\n"
     ]
    },
    {
     "name": "stderr",
     "output_type": "stream",
     "text": [
      "2020-10-31 19:03:49.912 | CRITICAL | syft.grid.connections.webrtc:heartbeat:562 - Launcher PQ: 0 / 0 - CQ: 0 / 0\n"
     ]
    },
    {
     "name": "stdout",
     "output_type": "stream",
     "text": [
      "Launcher PQ: 0 / 0 - CQ: 0 / 0\n"
     ]
    },
    {
     "name": "stderr",
     "output_type": "stream",
     "text": [
      "2020-10-31 19:03:54.923 | CRITICAL | syft.grid.connections.webrtc:heartbeat:562 - Launcher PQ: 0 / 0 - CQ: 0 / 0\n"
     ]
    },
    {
     "name": "stdout",
     "output_type": "stream",
     "text": [
      "Launcher PQ: 0 / 0 - CQ: 0 / 0\n"
     ]
    },
    {
     "name": "stderr",
     "output_type": "stream",
     "text": [
      "2020-10-31 19:03:59.930 | CRITICAL | syft.grid.connections.webrtc:heartbeat:562 - Launcher PQ: 0 / 0 - CQ: 0 / 0\n"
     ]
    },
    {
     "name": "stdout",
     "output_type": "stream",
     "text": [
      "Launcher PQ: 0 / 0 - CQ: 0 / 0\n"
     ]
    },
    {
     "name": "stderr",
     "output_type": "stream",
     "text": [
      "2020-10-31 19:04:04.938 | CRITICAL | syft.grid.connections.webrtc:heartbeat:562 - Launcher PQ: 0 / 0 - CQ: 0 / 0\n",
      "2020-10-31 19:04:09.939 | CRITICAL | syft.grid.connections.webrtc:heartbeat:562 - Launcher PQ: 0 / 0 - CQ: 0 / 0\n",
      "2020-10-31 19:04:14.954 | CRITICAL | syft.grid.connections.webrtc:heartbeat:562 - Launcher PQ: 0 / 0 - CQ: 0 / 0\n"
     ]
    },
    {
     "name": "stdout",
     "output_type": "stream",
     "text": [
      "Launcher PQ: 0 / 0 - CQ: 0 / 0\n"
     ]
    },
    {
     "name": "stderr",
     "output_type": "stream",
     "text": [
      "2020-10-31 19:04:19.958 | CRITICAL | syft.grid.connections.webrtc:heartbeat:562 - Launcher PQ: 0 / 0 - CQ: 0 / 0\n"
     ]
    },
    {
     "name": "stdout",
     "output_type": "stream",
     "text": [
      "Launcher PQ: 0 / 0 - CQ: 0 / 0\n"
     ]
    },
    {
     "name": "stderr",
     "output_type": "stream",
     "text": [
      "2020-10-31 19:04:24.960 | CRITICAL | syft.grid.connections.webrtc:heartbeat:562 - Launcher PQ: 0 / 0 - CQ: 0 / 0\n",
      "2020-10-31 19:04:29.968 | CRITICAL | syft.grid.connections.webrtc:heartbeat:562 - Launcher PQ: 0 / 0 - CQ: 0 / 0\n"
     ]
    },
    {
     "name": "stdout",
     "output_type": "stream",
     "text": [
      "Launcher PQ: 0 / 0 - CQ: 0 / 0\n"
     ]
    },
    {
     "name": "stderr",
     "output_type": "stream",
     "text": [
      "2020-10-31 19:04:34.980 | CRITICAL | syft.grid.connections.webrtc:heartbeat:562 - Launcher PQ: 0 / 0 - CQ: 0 / 0\n"
     ]
    },
    {
     "name": "stdout",
     "output_type": "stream",
     "text": [
      "Launcher PQ: 0 / 0 - CQ: 0 / 0\n"
     ]
    },
    {
     "name": "stderr",
     "output_type": "stream",
     "text": [
      "2020-10-31 19:04:39.994 | CRITICAL | syft.grid.connections.webrtc:heartbeat:562 - Launcher PQ: 0 / 0 - CQ: 0 / 0\n"
     ]
    },
    {
     "name": "stdout",
     "output_type": "stream",
     "text": [
      "Launcher PQ: 0 / 0 - CQ: 0 / 0\n",
      "Launcher PQ: 0 / 0 - CQ: 0 / 0\n"
     ]
    },
    {
     "name": "stderr",
     "output_type": "stream",
     "text": [
      "2020-10-31 19:04:45.009 | CRITICAL | syft.grid.connections.webrtc:heartbeat:562 - Launcher PQ: 0 / 0 - CQ: 0 / 0\n",
      "2020-10-31 19:04:50.036 | CRITICAL | syft.grid.connections.webrtc:heartbeat:562 - Launcher PQ: 0 / 0 - CQ: 0 / 0\n"
     ]
    },
    {
     "name": "stdout",
     "output_type": "stream",
     "text": [
      "Launcher PQ: 0 / 0 - CQ: 0 / 0\n"
     ]
    },
    {
     "name": "stderr",
     "output_type": "stream",
     "text": [
      "2020-10-31 19:04:55.052 | CRITICAL | syft.grid.connections.webrtc:heartbeat:562 - Launcher PQ: 0 / 0 - CQ: 0 / 0\n"
     ]
    },
    {
     "name": "stdout",
     "output_type": "stream",
     "text": [
      "Launcher PQ: 0 / 0 - CQ: 0 / 0\n"
     ]
    },
    {
     "name": "stderr",
     "output_type": "stream",
     "text": [
      "2020-10-31 19:05:00.066 | CRITICAL | syft.grid.connections.webrtc:heartbeat:562 - Launcher PQ: 0 / 0 - CQ: 0 / 0\n"
     ]
    },
    {
     "name": "stdout",
     "output_type": "stream",
     "text": [
      "Launcher PQ: 0 / 0 - CQ: 0 / 0\n"
     ]
    },
    {
     "name": "stderr",
     "output_type": "stream",
     "text": [
      "2020-10-31 19:05:05.074 | CRITICAL | syft.grid.connections.webrtc:heartbeat:562 - Launcher PQ: 0 / 0 - CQ: 0 / 0\n"
     ]
    },
    {
     "name": "stdout",
     "output_type": "stream",
     "text": [
      "Launcher PQ: 0 / 0 - CQ: 0 / 0\n"
     ]
    },
    {
     "name": "stderr",
     "output_type": "stream",
     "text": [
      "2020-10-31 19:05:10.098 | CRITICAL | syft.grid.connections.webrtc:heartbeat:562 - Launcher PQ: 0 / 0 - CQ: 0 / 0\n",
      "2020-10-31 19:05:15.099 | CRITICAL | syft.grid.connections.webrtc:heartbeat:562 - Launcher PQ: 0 / 0 - CQ: 0 / 0\n"
     ]
    },
    {
     "name": "stdout",
     "output_type": "stream",
     "text": [
      "Launcher PQ: 0 / 0 - CQ: 0 / 0\n"
     ]
    },
    {
     "name": "stderr",
     "output_type": "stream",
     "text": [
      "2020-10-31 19:05:20.106 | CRITICAL | syft.grid.connections.webrtc:heartbeat:562 - Launcher PQ: 0 / 0 - CQ: 0 / 0\n"
     ]
    },
    {
     "name": "stdout",
     "output_type": "stream",
     "text": [
      "Launcher PQ: 0 / 0 - CQ: 0 / 0\n"
     ]
    },
    {
     "name": "stderr",
     "output_type": "stream",
     "text": [
      "2020-10-31 19:05:25.107 | CRITICAL | syft.grid.connections.webrtc:heartbeat:562 - Launcher PQ: 0 / 0 - CQ: 0 / 0\n"
     ]
    },
    {
     "name": "stdout",
     "output_type": "stream",
     "text": [
      "Launcher PQ: 0 / 0 - CQ: 0 / 0\n"
     ]
    },
    {
     "name": "stderr",
     "output_type": "stream",
     "text": [
      "2020-10-31 19:05:30.110 | CRITICAL | syft.grid.connections.webrtc:heartbeat:562 - Launcher PQ: 0 / 0 - CQ: 0 / 0\n"
     ]
    },
    {
     "name": "stdout",
     "output_type": "stream",
     "text": [
      "\n"
     ]
    },
    {
     "name": "stderr",
     "output_type": "stream",
     "text": [
      "2020-10-31 19:05:35.126 | CRITICAL | syft.grid.connections.webrtc:heartbeat:562 - Launcher PQ: 0 / 0 - CQ: 0 / 0\n"
     ]
    },
    {
     "name": "stdout",
     "output_type": "stream",
     "text": [
      "Launcher PQ: 0 / 0 - CQ: 0 / 0\n"
     ]
    },
    {
     "name": "stderr",
     "output_type": "stream",
     "text": [
      "2020-10-31 19:05:40.171 | CRITICAL | syft.grid.connections.webrtc:heartbeat:562 - Launcher PQ: 0 / 0 - CQ: 0 / 0\n"
     ]
    },
    {
     "name": "stdout",
     "output_type": "stream",
     "text": [
      "Launcher PQ: 0 / 0 - CQ: 0 / 0\n"
     ]
    },
    {
     "name": "stderr",
     "output_type": "stream",
     "text": [
      "2020-10-31 19:05:45.191 | CRITICAL | syft.grid.connections.webrtc:heartbeat:562 - Launcher PQ: 0 / 0 - CQ: 0 / 0\n"
     ]
    },
    {
     "name": "stdout",
     "output_type": "stream",
     "text": [
      "Launcher PQ: 0 / 0 - CQ: 0 / 0\n"
     ]
    },
    {
     "name": "stderr",
     "output_type": "stream",
     "text": [
      "2020-10-31 19:05:50.218 | CRITICAL | syft.grid.connections.webrtc:heartbeat:562 - Launcher PQ: 0 / 0 - CQ: 0 / 0\n"
     ]
    },
    {
     "name": "stdout",
     "output_type": "stream",
     "text": [
      "Launcher PQ: 0 / 0 - CQ: 0 / 0\n"
     ]
    },
    {
     "name": "stderr",
     "output_type": "stream",
     "text": [
      "2020-10-31 19:05:55.253 | CRITICAL | syft.grid.connections.webrtc:heartbeat:562 - Launcher PQ: 0 / 0 - CQ: 0 / 0\n",
      "2020-10-31 19:06:00.267 | CRITICAL | syft.grid.connections.webrtc:heartbeat:562 - Launcher PQ: 0 / 0 - CQ: 0 / 0\n"
     ]
    },
    {
     "name": "stdout",
     "output_type": "stream",
     "text": [
      "Launcher PQ: 0 / 0 - CQ: 0 / 0\n"
     ]
    },
    {
     "name": "stderr",
     "output_type": "stream",
     "text": [
      "2020-10-31 19:06:05.304 | CRITICAL | syft.grid.connections.webrtc:heartbeat:562 - Launcher PQ: 0 / 0 - CQ: 0 / 0\n",
      "2020-10-31 19:06:10.321 | CRITICAL | syft.grid.connections.webrtc:heartbeat:562 - Launcher PQ: 0 / 0 - CQ: 0 / 0\n"
     ]
    },
    {
     "name": "stdout",
     "output_type": "stream",
     "text": [
      "Launcher PQ: 0 / 0 - CQ: 0 / 0\n"
     ]
    },
    {
     "name": "stderr",
     "output_type": "stream",
     "text": [
      "2020-10-31 19:06:15.340 | CRITICAL | syft.grid.connections.webrtc:heartbeat:562 - Launcher PQ: 0 / 0 - CQ: 0 / 0\n"
     ]
    },
    {
     "name": "stdout",
     "output_type": "stream",
     "text": [
      "Launcher PQ: 0 / 0 - CQ: 0 / 0\n",
      "Launcher PQ: 0 / 0 - CQ: 0 / 0\n"
     ]
    },
    {
     "name": "stderr",
     "output_type": "stream",
     "text": [
      "2020-10-31 19:06:20.364 | CRITICAL | syft.grid.connections.webrtc:heartbeat:562 - Launcher PQ: 0 / 0 - CQ: 0 / 0\n",
      "2020-10-31 19:06:25.375 | CRITICAL | syft.grid.connections.webrtc:heartbeat:562 - Launcher PQ: 0 / 0 - CQ: 0 / 0\n"
     ]
    },
    {
     "name": "stdout",
     "output_type": "stream",
     "text": [
      "Launcher PQ: 0 / 0 - CQ: 0 / 0\n"
     ]
    },
    {
     "name": "stderr",
     "output_type": "stream",
     "text": [
      "2020-10-31 19:06:30.406 | CRITICAL | syft.grid.connections.webrtc:heartbeat:562 - Launcher PQ: 0 / 0 - CQ: 0 / 0\n"
     ]
    },
    {
     "name": "stdout",
     "output_type": "stream",
     "text": [
      "Launcher PQ: 0 / 0 - CQ: 0 / 0\n"
     ]
    },
    {
     "name": "stderr",
     "output_type": "stream",
     "text": [
      "2020-10-31 19:06:35.418 | CRITICAL | syft.grid.connections.webrtc:heartbeat:562 - Launcher PQ: 0 / 0 - CQ: 0 / 0\n"
     ]
    },
    {
     "name": "stdout",
     "output_type": "stream",
     "text": [
      "Launcher PQ: 0 / 0 - CQ: 0 / 0\n"
     ]
    },
    {
     "name": "stderr",
     "output_type": "stream",
     "text": [
      "2020-10-31 19:06:40.435 | CRITICAL | syft.grid.connections.webrtc:heartbeat:562 - Launcher PQ: 0 / 0 - CQ: 0 / 0\n"
     ]
    },
    {
     "name": "stdout",
     "output_type": "stream",
     "text": [
      "Launcher PQ: 0 / 0 - CQ: 0 / 0\n"
     ]
    },
    {
     "name": "stderr",
     "output_type": "stream",
     "text": [
      "2020-10-31 19:06:45.462 | CRITICAL | syft.grid.connections.webrtc:heartbeat:562 - Launcher PQ: 0 / 0 - CQ: 0 / 0\n"
     ]
    },
    {
     "name": "stdout",
     "output_type": "stream",
     "text": [
      "Launcher PQ: 0 / 0 - CQ: 0 / 0\n"
     ]
    },
    {
     "name": "stderr",
     "output_type": "stream",
     "text": [
      "2020-10-31 19:06:50.477 | CRITICAL | syft.grid.connections.webrtc:heartbeat:562 - Launcher PQ: 0 / 0 - CQ: 0 / 0\n"
     ]
    },
    {
     "name": "stdout",
     "output_type": "stream",
     "text": [
      "Launcher PQ: 0 / 0 - CQ: 0 / 0\n"
     ]
    },
    {
     "name": "stderr",
     "output_type": "stream",
     "text": [
      "2020-10-31 19:06:55.497 | CRITICAL | syft.grid.connections.webrtc:heartbeat:562 - Launcher PQ: 0 / 0 - CQ: 0 / 0\n"
     ]
    },
    {
     "name": "stdout",
     "output_type": "stream",
     "text": [
      "Launcher PQ: 0 / 0 - CQ: 0 / 0\n"
     ]
    },
    {
     "name": "stderr",
     "output_type": "stream",
     "text": [
      "2020-10-31 19:07:00.531 | CRITICAL | syft.grid.connections.webrtc:heartbeat:562 - Launcher PQ: 0 / 0 - CQ: 0 / 0\n",
      "2020-10-31 19:07:05.543 | CRITICAL | syft.grid.connections.webrtc:heartbeat:562 - Launcher PQ: 0 / 0 - CQ: 0 / 0\n",
      "2020-10-31 19:07:10.596 | CRITICAL | syft.grid.connections.webrtc:heartbeat:562 - Launcher PQ: 0 / 0 - CQ: 0 / 0\n"
     ]
    },
    {
     "name": "stdout",
     "output_type": "stream",
     "text": [
      "Launcher PQ: 0 / 0 - CQ: 0 / 0\n"
     ]
    },
    {
     "name": "stderr",
     "output_type": "stream",
     "text": [
      "2020-10-31 19:07:15.645 | CRITICAL | syft.grid.connections.webrtc:heartbeat:562 - Launcher PQ: 0 / 0 - CQ: 0 / 0\n",
      "2020-10-31 19:07:20.677 | CRITICAL | syft.grid.connections.webrtc:heartbeat:562 - Launcher PQ: 0 / 0 - CQ: 0 / 0\n"
     ]
    },
    {
     "name": "stdout",
     "output_type": "stream",
     "text": [
      "Launcher PQ: 0 / 0 - CQ: 0 / 0\n"
     ]
    },
    {
     "name": "stderr",
     "output_type": "stream",
     "text": [
      "2020-10-31 19:07:25.704 | CRITICAL | syft.grid.connections.webrtc:heartbeat:562 - Launcher PQ: 0 / 0 - CQ: 0 / 0\n"
     ]
    },
    {
     "name": "stdout",
     "output_type": "stream",
     "text": [
      "Launcher PQ: 0 / 0 - CQ: 0 / 0\n"
     ]
    },
    {
     "name": "stderr",
     "output_type": "stream",
     "text": [
      "2020-10-31 19:07:30.730 | CRITICAL | syft.grid.connections.webrtc:heartbeat:562 - Launcher PQ: 0 / 0 - CQ: 0 / 0\n"
     ]
    },
    {
     "name": "stdout",
     "output_type": "stream",
     "text": [
      "Launcher PQ: 0 / 0 - CQ: 0 / 0\n"
     ]
    },
    {
     "name": "stderr",
     "output_type": "stream",
     "text": [
      "2020-10-31 19:07:35.754 | CRITICAL | syft.grid.connections.webrtc:heartbeat:562 - Launcher PQ: 0 / 0 - CQ: 0 / 0\n"
     ]
    },
    {
     "name": "stdout",
     "output_type": "stream",
     "text": [
      "Launcher PQ: 0 / 0 - CQ: 0 / 0\n"
     ]
    },
    {
     "name": "stderr",
     "output_type": "stream",
     "text": [
      "2020-10-31 19:07:40.779 | CRITICAL | syft.grid.connections.webrtc:heartbeat:562 - Launcher PQ: 0 / 0 - CQ: 0 / 0\n"
     ]
    },
    {
     "name": "stdout",
     "output_type": "stream",
     "text": [
      "Launcher PQ: 0 / 0 - CQ: 0 / 0\n"
     ]
    },
    {
     "name": "stderr",
     "output_type": "stream",
     "text": [
      "2020-10-31 19:07:45.814 | CRITICAL | syft.grid.connections.webrtc:heartbeat:562 - Launcher PQ: 0 / 0 - CQ: 0 / 0\n"
     ]
    },
    {
     "name": "stdout",
     "output_type": "stream",
     "text": [
      "Launcher PQ: 0 / 0 - CQ: 0 / 0\n"
     ]
    },
    {
     "name": "stderr",
     "output_type": "stream",
     "text": [
      "2020-10-31 19:07:50.837 | CRITICAL | syft.grid.connections.webrtc:heartbeat:562 - Launcher PQ: 0 / 0 - CQ: 0 / 0\n"
     ]
    },
    {
     "name": "stdout",
     "output_type": "stream",
     "text": [
      "Launcher PQ: 0 / 0 - CQ: 0 / 0\n"
     ]
    },
    {
     "name": "stderr",
     "output_type": "stream",
     "text": [
      "2020-10-31 19:07:55.864 | CRITICAL | syft.grid.connections.webrtc:heartbeat:562 - Launcher PQ: 0 / 0 - CQ: 0 / 0\n",
      "2020-10-31 19:08:00.896 | CRITICAL | syft.grid.connections.webrtc:heartbeat:562 - Launcher PQ: 0 / 0 - CQ: 0 / 0\n"
     ]
    },
    {
     "name": "stdout",
     "output_type": "stream",
     "text": [
      "Launcher PQ: 0 / 0 - CQ: 0 / 0\n",
      "Launcher PQ: 0 / 0 - CQ: 0 / 0\n"
     ]
    },
    {
     "name": "stderr",
     "output_type": "stream",
     "text": [
      "2020-10-31 19:08:05.912 | CRITICAL | syft.grid.connections.webrtc:heartbeat:562 - Launcher PQ: 0 / 0 - CQ: 0 / 0\n",
      "2020-10-31 19:08:10.935 | CRITICAL | syft.grid.connections.webrtc:heartbeat:562 - Launcher PQ: 0 / 0 - CQ: 0 / 0\n",
      "2020-10-31 19:08:15.955 | CRITICAL | syft.grid.connections.webrtc:heartbeat:562 - Launcher PQ: 0 / 0 - CQ: 0 / 0\n"
     ]
    },
    {
     "name": "stdout",
     "output_type": "stream",
     "text": [
      "Launcher PQ: 0 / 0 - CQ: 0 / 0\n"
     ]
    },
    {
     "name": "stderr",
     "output_type": "stream",
     "text": [
      "2020-10-31 19:08:20.973 | CRITICAL | syft.grid.connections.webrtc:heartbeat:562 - Launcher PQ: 0 / 0 - CQ: 0 / 0\n"
     ]
    },
    {
     "name": "stdout",
     "output_type": "stream",
     "text": [
      "Launcher PQ: 0 / 0 - CQ: 0 / 0\n"
     ]
    },
    {
     "name": "stderr",
     "output_type": "stream",
     "text": [
      "2020-10-31 19:08:25.989 | CRITICAL | syft.grid.connections.webrtc:heartbeat:562 - Launcher PQ: 0 / 0 - CQ: 0 / 0\n"
     ]
    },
    {
     "name": "stdout",
     "output_type": "stream",
     "text": [
      "Launcher PQ: 0 / 0 - CQ: 0 / 0\n"
     ]
    },
    {
     "name": "stderr",
     "output_type": "stream",
     "text": [
      "2020-10-31 19:08:31.011 | CRITICAL | syft.grid.connections.webrtc:heartbeat:562 - Launcher PQ: 0 / 0 - CQ: 0 / 0\n"
     ]
    },
    {
     "name": "stdout",
     "output_type": "stream",
     "text": [
      "Launcher PQ: 0 / 0 - CQ: 0 / 0\n"
     ]
    },
    {
     "name": "stderr",
     "output_type": "stream",
     "text": [
      "2020-10-31 19:08:36.033 | CRITICAL | syft.grid.connections.webrtc:heartbeat:562 - Launcher PQ: 0 / 0 - CQ: 0 / 0\n"
     ]
    },
    {
     "name": "stdout",
     "output_type": "stream",
     "text": [
      "Launcher PQ: 0 / 0 - CQ: 0 / 0\n"
     ]
    },
    {
     "name": "stderr",
     "output_type": "stream",
     "text": [
      "2020-10-31 19:08:41.062 | CRITICAL | syft.grid.connections.webrtc:heartbeat:562 - Launcher PQ: 0 / 0 - CQ: 0 / 0\n"
     ]
    },
    {
     "name": "stdout",
     "output_type": "stream",
     "text": [
      "Launcher PQ: 0 / 0 - CQ: 0 / 0\n"
     ]
    },
    {
     "name": "stderr",
     "output_type": "stream",
     "text": [
      "2020-10-31 19:08:46.076 | CRITICAL | syft.grid.connections.webrtc:heartbeat:562 - Launcher PQ: 0 / 0 - CQ: 0 / 0\n",
      "2020-10-31 19:08:51.099 | CRITICAL | syft.grid.connections.webrtc:heartbeat:562 - Launcher PQ: 0 / 0 - CQ: 0 / 0\n"
     ]
    },
    {
     "name": "stdout",
     "output_type": "stream",
     "text": [
      "Launcher PQ: 0 / 0 - CQ: 0 / 0\n"
     ]
    },
    {
     "name": "stderr",
     "output_type": "stream",
     "text": [
      "2020-10-31 19:08:56.125 | CRITICAL | syft.grid.connections.webrtc:heartbeat:562 - Launcher PQ: 0 / 0 - CQ: 0 / 0\n"
     ]
    },
    {
     "name": "stdout",
     "output_type": "stream",
     "text": [
      "Launcher PQ: 0 / 0 - CQ: 0 / 0\n",
      "Launcher PQ: 0 / 0 - CQ: 0 / 0\n"
     ]
    },
    {
     "name": "stderr",
     "output_type": "stream",
     "text": [
      "2020-10-31 19:09:01.142 | CRITICAL | syft.grid.connections.webrtc:heartbeat:562 - Launcher PQ: 0 / 0 - CQ: 0 / 0\n"
     ]
    },
    {
     "name": "stdout",
     "output_type": "stream",
     "text": [
      "Launcher PQ: 0 / 0 - CQ: 0 / 0\n"
     ]
    },
    {
     "name": "stderr",
     "output_type": "stream",
     "text": [
      "2020-10-31 19:09:06.158 | CRITICAL | syft.grid.connections.webrtc:heartbeat:562 - Launcher PQ: 0 / 0 - CQ: 0 / 0\n",
      "2020-10-31 19:09:11.178 | CRITICAL | syft.grid.connections.webrtc:heartbeat:562 - Launcher PQ: 0 / 0 - CQ: 0 / 0\n"
     ]
    },
    {
     "name": "stdout",
     "output_type": "stream",
     "text": [
      "Launcher PQ: 0 / 0 - CQ: 0 / 0\n"
     ]
    },
    {
     "name": "stderr",
     "output_type": "stream",
     "text": [
      "2020-10-31 19:09:16.216 | CRITICAL | syft.grid.connections.webrtc:heartbeat:562 - Launcher PQ: 0 / 0 - CQ: 0 / 0\n"
     ]
    },
    {
     "name": "stdout",
     "output_type": "stream",
     "text": [
      "Launcher PQ: 0 / 0 - CQ: 0 / 0\n"
     ]
    },
    {
     "name": "stderr",
     "output_type": "stream",
     "text": [
      "2020-10-31 19:09:21.236 | CRITICAL | syft.grid.connections.webrtc:heartbeat:562 - Launcher PQ: 0 / 0 - CQ: 0 / 0\n",
      "2020-10-31 19:09:26.252 | CRITICAL | syft.grid.connections.webrtc:heartbeat:562 - Launcher PQ: 0 / 0 - CQ: 0 / 0\n"
     ]
    },
    {
     "name": "stdout",
     "output_type": "stream",
     "text": [
      "Launcher PQ: 0 / 0 - CQ: 0 / 0\n"
     ]
    },
    {
     "name": "stderr",
     "output_type": "stream",
     "text": [
      "2020-10-31 19:09:31.265 | CRITICAL | syft.grid.connections.webrtc:heartbeat:562 - Launcher PQ: 0 / 0 - CQ: 0 / 0\n"
     ]
    },
    {
     "name": "stdout",
     "output_type": "stream",
     "text": [
      "Launcher PQ: 0 / 0 - CQ: 0 / 0\n"
     ]
    },
    {
     "name": "stderr",
     "output_type": "stream",
     "text": [
      "2020-10-31 19:09:36.284 | CRITICAL | syft.grid.connections.webrtc:heartbeat:562 - Launcher PQ: 0 / 0 - CQ: 0 / 0\n"
     ]
    },
    {
     "name": "stdout",
     "output_type": "stream",
     "text": [
      "Launcher PQ: 0 / 0 - CQ: 0 / 0\n"
     ]
    },
    {
     "name": "stderr",
     "output_type": "stream",
     "text": [
      "2020-10-31 19:09:41.302 | CRITICAL | syft.grid.connections.webrtc:heartbeat:562 - Launcher PQ: 0 / 0 - CQ: 0 / 0\n"
     ]
    },
    {
     "name": "stdout",
     "output_type": "stream",
     "text": [
      "Launcher PQ: 0 / 0 - CQ: 0 / 0\n"
     ]
    },
    {
     "name": "stderr",
     "output_type": "stream",
     "text": [
      "2020-10-31 19:09:46.322 | CRITICAL | syft.grid.connections.webrtc:heartbeat:562 - Launcher PQ: 0 / 0 - CQ: 0 / 0\n"
     ]
    },
    {
     "name": "stdout",
     "output_type": "stream",
     "text": [
      "Launcher PQ: 0 / 0 - CQ: 0 / 0\n"
     ]
    },
    {
     "name": "stderr",
     "output_type": "stream",
     "text": [
      "2020-10-31 19:09:51.362 | CRITICAL | syft.grid.connections.webrtc:heartbeat:562 - Launcher PQ: 0 / 0 - CQ: 0 / 0\n"
     ]
    },
    {
     "name": "stdout",
     "output_type": "stream",
     "text": [
      "Launcher PQ: 0 / 0 - CQ: 0 / 0\n",
      "Launcher PQ: 0 / 0 - CQ: 0 / 0\n"
     ]
    },
    {
     "name": "stderr",
     "output_type": "stream",
     "text": [
      "2020-10-31 19:09:56.382 | CRITICAL | syft.grid.connections.webrtc:heartbeat:562 - Launcher PQ: 0 / 0 - CQ: 0 / 0\n",
      "2020-10-31 19:10:01.416 | CRITICAL | syft.grid.connections.webrtc:heartbeat:562 - Launcher PQ: 0 / 0 - CQ: 0 / 0\n"
     ]
    },
    {
     "name": "stdout",
     "output_type": "stream",
     "text": [
      "Launcher PQ: 0 / 0 - CQ: 0 / 0\n"
     ]
    },
    {
     "name": "stderr",
     "output_type": "stream",
     "text": [
      "2020-10-31 19:10:06.443 | CRITICAL | syft.grid.connections.webrtc:heartbeat:562 - Launcher PQ: 0 / 0 - CQ: 0 / 0\n"
     ]
    },
    {
     "name": "stdout",
     "output_type": "stream",
     "text": [
      "Launcher PQ: 0 / 0 - CQ: 0 / 0\n"
     ]
    },
    {
     "name": "stderr",
     "output_type": "stream",
     "text": [
      "2020-10-31 19:10:11.472 | CRITICAL | syft.grid.connections.webrtc:heartbeat:562 - Launcher PQ: 0 / 0 - CQ: 0 / 0\n",
      "2020-10-31 19:10:16.501 | CRITICAL | syft.grid.connections.webrtc:heartbeat:562 - Launcher PQ: 0 / 0 - CQ: 0 / 0\n"
     ]
    },
    {
     "name": "stdout",
     "output_type": "stream",
     "text": [
      "Launcher PQ: 0 / 0 - CQ: 0 / 0\n"
     ]
    },
    {
     "name": "stderr",
     "output_type": "stream",
     "text": [
      "2020-10-31 19:10:21.522 | CRITICAL | syft.grid.connections.webrtc:heartbeat:562 - Launcher PQ: 0 / 0 - CQ: 0 / 0\n"
     ]
    },
    {
     "name": "stdout",
     "output_type": "stream",
     "text": [
      "Launcher PQ: 0 / 0 - CQ: 0 / 0\n"
     ]
    },
    {
     "name": "stderr",
     "output_type": "stream",
     "text": [
      "2020-10-31 19:10:26.567 | CRITICAL | syft.grid.connections.webrtc:heartbeat:562 - Launcher PQ: 0 / 0 - CQ: 0 / 0\n"
     ]
    },
    {
     "name": "stdout",
     "output_type": "stream",
     "text": [
      "Launcher PQ: 0 / 0 - CQ: 0 / 0\n"
     ]
    },
    {
     "name": "stderr",
     "output_type": "stream",
     "text": [
      "2020-10-31 19:10:31.590 | CRITICAL | syft.grid.connections.webrtc:heartbeat:562 - Launcher PQ: 0 / 0 - CQ: 0 / 0\n"
     ]
    },
    {
     "name": "stdout",
     "output_type": "stream",
     "text": [
      "Launcher PQ: 0 / 0 - CQ: 0 / 0\n"
     ]
    },
    {
     "name": "stderr",
     "output_type": "stream",
     "text": [
      "2020-10-31 19:10:36.624 | CRITICAL | syft.grid.connections.webrtc:heartbeat:562 - Launcher PQ: 0 / 0 - CQ: 0 / 0\n"
     ]
    },
    {
     "name": "stdout",
     "output_type": "stream",
     "text": [
      "Launcher PQ: 0 / 0 - CQ: 0 / 0\n"
     ]
    },
    {
     "name": "stderr",
     "output_type": "stream",
     "text": [
      "2020-10-31 19:10:41.639 | CRITICAL | syft.grid.connections.webrtc:heartbeat:562 - Launcher PQ: 0 / 0 - CQ: 0 / 0\n"
     ]
    },
    {
     "name": "stdout",
     "output_type": "stream",
     "text": [
      "Launcher PQ: 0 / 0 - CQ: 0 / 0\n",
      "Launcher PQ: 0 / 0 - CQ: 0 / 0\n"
     ]
    },
    {
     "name": "stderr",
     "output_type": "stream",
     "text": [
      "2020-10-31 19:10:46.657 | CRITICAL | syft.grid.connections.webrtc:heartbeat:562 - Launcher PQ: 0 / 0 - CQ: 0 / 0\n",
      "2020-10-31 19:10:51.675 | CRITICAL | syft.grid.connections.webrtc:heartbeat:562 - Launcher PQ: 0 / 0 - CQ: 0 / 0\n",
      "2020-10-31 19:10:56.690 | CRITICAL | syft.grid.connections.webrtc:heartbeat:562 - Launcher PQ: 0 / 0 - CQ: 0 / 0\n",
      "2020-10-31 19:11:01.708 | CRITICAL | syft.grid.connections.webrtc:heartbeat:562 - Launcher PQ: 0 / 0 - CQ: 0 / 0\n"
     ]
    },
    {
     "name": "stdout",
     "output_type": "stream",
     "text": [
      "Launcher PQ: 0 / 0 - CQ: 0 / 0\n"
     ]
    },
    {
     "name": "stderr",
     "output_type": "stream",
     "text": [
      "2020-10-31 19:11:06.728 | CRITICAL | syft.grid.connections.webrtc:heartbeat:562 - Launcher PQ: 0 / 0 - CQ: 0 / 0\n"
     ]
    },
    {
     "name": "stdout",
     "output_type": "stream",
     "text": [
      "Launcher PQ: 0 / 0 - CQ: 0 / 0\n"
     ]
    },
    {
     "name": "stderr",
     "output_type": "stream",
     "text": [
      "2020-10-31 19:11:11.777 | CRITICAL | syft.grid.connections.webrtc:heartbeat:562 - Launcher PQ: 0 / 0 - CQ: 0 / 0\n"
     ]
    },
    {
     "name": "stdout",
     "output_type": "stream",
     "text": [
      "Launcher PQ: 0 / 0 - CQ: 0 / 0\n"
     ]
    },
    {
     "name": "stderr",
     "output_type": "stream",
     "text": [
      "2020-10-31 19:11:16.827 | CRITICAL | syft.grid.connections.webrtc:heartbeat:562 - Launcher PQ: 0 / 0 - CQ: 0 / 0\n"
     ]
    },
    {
     "name": "stdout",
     "output_type": "stream",
     "text": [
      "Launcher PQ: 0 / 0 - CQ: 0 / 0\n"
     ]
    },
    {
     "name": "stderr",
     "output_type": "stream",
     "text": [
      "2020-10-31 19:11:21.844 | CRITICAL | syft.grid.connections.webrtc:heartbeat:562 - Launcher PQ: 0 / 0 - CQ: 0 / 0\n"
     ]
    },
    {
     "name": "stdout",
     "output_type": "stream",
     "text": [
      "Launcher PQ: 0 / 0 - CQ: 0 / 0\n"
     ]
    },
    {
     "name": "stderr",
     "output_type": "stream",
     "text": [
      "2020-10-31 19:11:26.885 | CRITICAL | syft.grid.connections.webrtc:heartbeat:562 - Launcher PQ: 0 / 0 - CQ: 0 / 0\n"
     ]
    },
    {
     "name": "stdout",
     "output_type": "stream",
     "text": [
      "Launcher PQ: 0 / 0 - CQ: 0 / 0\n"
     ]
    },
    {
     "name": "stderr",
     "output_type": "stream",
     "text": [
      "2020-10-31 19:11:31.895 | CRITICAL | syft.grid.connections.webrtc:heartbeat:562 - Launcher PQ: 0 / 0 - CQ: 0 / 0\n"
     ]
    },
    {
     "name": "stdout",
     "output_type": "stream",
     "text": [
      "Launcher PQ: 0 / 0 - CQ: 0 / 0\n"
     ]
    },
    {
     "name": "stderr",
     "output_type": "stream",
     "text": [
      "2020-10-31 19:11:36.919 | CRITICAL | syft.grid.connections.webrtc:heartbeat:562 - Launcher PQ: 0 / 0 - CQ: 0 / 0\n",
      "2020-10-31 19:11:41.946 | CRITICAL | syft.grid.connections.webrtc:heartbeat:562 - Launcher PQ: 0 / 0 - CQ: 0 / 0\n"
     ]
    },
    {
     "name": "stdout",
     "output_type": "stream",
     "text": [
      "Launcher PQ: 0 / 0 - CQ: 0 / 0\n"
     ]
    },
    {
     "name": "stderr",
     "output_type": "stream",
     "text": [
      "2020-10-31 19:11:46.976 | CRITICAL | syft.grid.connections.webrtc:heartbeat:562 - Launcher PQ: 0 / 0 - CQ: 0 / 0\n",
      "2020-10-31 19:11:51.999 | CRITICAL | syft.grid.connections.webrtc:heartbeat:562 - Launcher PQ: 0 / 0 - CQ: 0 / 0\n"
     ]
    },
    {
     "name": "stdout",
     "output_type": "stream",
     "text": [
      "Launcher PQ: 0 / 0 - CQ: 0 / 0\n"
     ]
    },
    {
     "name": "stderr",
     "output_type": "stream",
     "text": [
      "2020-10-31 19:11:57.016 | CRITICAL | syft.grid.connections.webrtc:heartbeat:562 - Launcher PQ: 0 / 0 - CQ: 0 / 0\n"
     ]
    },
    {
     "name": "stdout",
     "output_type": "stream",
     "text": [
      "Launcher PQ: 0 / 0 - CQ: 0 / 0\n"
     ]
    },
    {
     "name": "stderr",
     "output_type": "stream",
     "text": [
      "2020-10-31 19:12:02.036 | CRITICAL | syft.grid.connections.webrtc:heartbeat:562 - Launcher PQ: 0 / 0 - CQ: 0 / 0\n"
     ]
    },
    {
     "name": "stdout",
     "output_type": "stream",
     "text": [
      "Launcher PQ: 0 / 0 - CQ: 0 / 0\n",
      "Launcher PQ: 0 / 0 - CQ: 0 / 0\n"
     ]
    },
    {
     "name": "stderr",
     "output_type": "stream",
     "text": [
      "2020-10-31 19:12:07.051 | CRITICAL | syft.grid.connections.webrtc:heartbeat:562 - Launcher PQ: 0 / 0 - CQ: 0 / 0\n",
      "2020-10-31 19:12:12.103 | CRITICAL | syft.grid.connections.webrtc:heartbeat:562 - Launcher PQ: 0 / 0 - CQ: 0 / 0\n"
     ]
    },
    {
     "name": "stdout",
     "output_type": "stream",
     "text": [
      "Launcher PQ: 0 / 0 - CQ: 0 / 0\n"
     ]
    },
    {
     "name": "stderr",
     "output_type": "stream",
     "text": [
      "2020-10-31 19:12:17.133 | CRITICAL | syft.grid.connections.webrtc:heartbeat:562 - Launcher PQ: 0 / 0 - CQ: 0 / 0\n"
     ]
    },
    {
     "name": "stdout",
     "output_type": "stream",
     "text": [
      "Launcher PQ: 0 / 0 - CQ: 0 / 0\n"
     ]
    },
    {
     "name": "stderr",
     "output_type": "stream",
     "text": [
      "2020-10-31 19:12:22.148 | CRITICAL | syft.grid.connections.webrtc:heartbeat:562 - Launcher PQ: 0 / 0 - CQ: 0 / 0\n",
      "2020-10-31 19:12:27.177 | CRITICAL | syft.grid.connections.webrtc:heartbeat:562 - Launcher PQ: 0 / 0 - CQ: 0 / 0\n"
     ]
    },
    {
     "name": "stdout",
     "output_type": "stream",
     "text": [
      "Launcher PQ: 0 / 0 - CQ: 0 / 0\n"
     ]
    },
    {
     "name": "stderr",
     "output_type": "stream",
     "text": [
      "2020-10-31 19:12:32.183 | CRITICAL | syft.grid.connections.webrtc:heartbeat:562 - Launcher PQ: 0 / 0 - CQ: 0 / 0\n"
     ]
    },
    {
     "name": "stdout",
     "output_type": "stream",
     "text": [
      "Launcher PQ: 0 / 0 - CQ: 0 / 0\n"
     ]
    },
    {
     "name": "stderr",
     "output_type": "stream",
     "text": [
      "2020-10-31 19:12:37.187 | CRITICAL | syft.grid.connections.webrtc:heartbeat:562 - Launcher PQ: 0 / 0 - CQ: 0 / 0\n"
     ]
    },
    {
     "name": "stdout",
     "output_type": "stream",
     "text": [
      "Launcher PQ: 0 / 0 - CQ: 0 / 0\n"
     ]
    },
    {
     "name": "stderr",
     "output_type": "stream",
     "text": [
      "/Users/madhavajay/.local/share/virtualenvs/PySyft-lHlz_cKe/lib/python3.8/site-packages/torch/optim/lr_scheduler.py:118: UserWarning: Detected call of `lr_scheduler.step()` before `optimizer.step()`. In PyTorch 1.1.0 and later, you should call them in the opposite order: `optimizer.step()` before `lr_scheduler.step()`.  Failure to do this will result in PyTorch skipping the first value of the learning rate schedule. See more details at https://pytorch.org/docs/stable/optim.html#how-to-adjust-learning-rate\n",
      "  warnings.warn(\"Detected call of `lr_scheduler.step()` before `optimizer.step()`. \"\n",
      "2020-10-31 19:12:42.188 | CRITICAL | syft.grid.connections.webrtc:heartbeat:562 - Launcher PQ: 0 / 0 - CQ: 0 / 0\n"
     ]
    },
    {
     "name": "stdout",
     "output_type": "stream",
     "text": [
      "Launcher PQ: 0 / 0 - CQ: 0 / 0\n"
     ]
    },
    {
     "name": "stderr",
     "output_type": "stream",
     "text": [
      "2020-10-31 19:12:47.190 | CRITICAL | syft.grid.connections.webrtc:heartbeat:562 - Launcher PQ: 0 / 0 - CQ: 0 / 0\n"
     ]
    },
    {
     "name": "stdout",
     "output_type": "stream",
     "text": [
      "Launcher PQ: 0 / 0 - CQ: 0 / 0\n"
     ]
    },
    {
     "name": "stderr",
     "output_type": "stream",
     "text": [
      "2020-10-31 19:12:52.193 | CRITICAL | syft.grid.connections.webrtc:heartbeat:562 - Launcher PQ: 0 / 0 - CQ: 0 / 0\n"
     ]
    },
    {
     "name": "stdout",
     "output_type": "stream",
     "text": [
      "Launcher PQ: 0 / 0 - CQ: 0 / 0\n"
     ]
    },
    {
     "name": "stderr",
     "output_type": "stream",
     "text": [
      "2020-10-31 19:12:57.199 | CRITICAL | syft.grid.connections.webrtc:heartbeat:562 - Launcher PQ: 0 / 0 - CQ: 0 / 0\n"
     ]
    },
    {
     "name": "stdout",
     "output_type": "stream",
     "text": [
      "Launcher PQ: 0 / 0 - CQ: 0 / 0\n"
     ]
    },
    {
     "name": "stderr",
     "output_type": "stream",
     "text": [
      "2020-10-31 19:13:02.203 | CRITICAL | syft.grid.connections.webrtc:heartbeat:562 - Launcher PQ: 0 / 0 - CQ: 0 / 0\n",
      "2020-10-31 19:13:07.206 | CRITICAL | syft.grid.connections.webrtc:heartbeat:562 - Launcher PQ: 0 / 0 - CQ: 0 / 0\n"
     ]
    },
    {
     "name": "stdout",
     "output_type": "stream",
     "text": [
      "Launcher PQ: 0 / 0 - CQ: 0 / 0\n"
     ]
    },
    {
     "name": "stderr",
     "output_type": "stream",
     "text": [
      "2020-10-31 19:13:12.211 | CRITICAL | syft.grid.connections.webrtc:heartbeat:562 - Launcher PQ: 0 / 0 - CQ: 0 / 0\n"
     ]
    },
    {
     "name": "stdout",
     "output_type": "stream",
     "text": [
      "Launcher PQ: 0 / 0 - CQ: 0 / 0\n"
     ]
    },
    {
     "name": "stderr",
     "output_type": "stream",
     "text": [
      "2020-10-31 19:13:17.216 | CRITICAL | syft.grid.connections.webrtc:heartbeat:562 - Launcher PQ: 0 / 0 - CQ: 0 / 0\n"
     ]
    },
    {
     "name": "stdout",
     "output_type": "stream",
     "text": [
      "Launcher PQ: 0 / 0 - CQ: 0 / 0\n",
      "Launcher PQ: 0 / 0 - CQ: 0 / 0\n"
     ]
    },
    {
     "name": "stderr",
     "output_type": "stream",
     "text": [
      "2020-10-31 19:13:22.222 | CRITICAL | syft.grid.connections.webrtc:heartbeat:562 - Launcher PQ: 0 / 0 - CQ: 0 / 0\n",
      "2020-10-31 19:13:27.225 | CRITICAL | syft.grid.connections.webrtc:heartbeat:562 - Launcher PQ: 0 / 0 - CQ: 0 / 0\n"
     ]
    },
    {
     "name": "stdout",
     "output_type": "stream",
     "text": [
      "Launcher PQ: 0 / 0 - CQ: 0 / 0\n"
     ]
    },
    {
     "name": "stderr",
     "output_type": "stream",
     "text": [
      "2020-10-31 19:13:32.231 | CRITICAL | syft.grid.connections.webrtc:heartbeat:562 - Launcher PQ: 0 / 0 - CQ: 0 / 0\n"
     ]
    },
    {
     "name": "stdout",
     "output_type": "stream",
     "text": [
      "Launcher PQ: 0 / 0 - CQ: 0 / 0\n"
     ]
    },
    {
     "name": "stderr",
     "output_type": "stream",
     "text": [
      "2020-10-31 19:13:37.237 | CRITICAL | syft.grid.connections.webrtc:heartbeat:562 - Launcher PQ: 0 / 0 - CQ: 0 / 0\n"
     ]
    },
    {
     "name": "stdout",
     "output_type": "stream",
     "text": [
      "Launcher PQ: 0 / 0 - CQ: 0 / 0\n"
     ]
    },
    {
     "name": "stderr",
     "output_type": "stream",
     "text": [
      "2020-10-31 19:13:42.242 | CRITICAL | syft.grid.connections.webrtc:heartbeat:562 - Launcher PQ: 0 / 0 - CQ: 0 / 0\n"
     ]
    },
    {
     "name": "stdout",
     "output_type": "stream",
     "text": [
      "Launcher PQ: 0 / 0 - CQ: 0 / 0\n"
     ]
    },
    {
     "name": "stderr",
     "output_type": "stream",
     "text": [
      "2020-10-31 19:13:47.245 | CRITICAL | syft.grid.connections.webrtc:heartbeat:562 - Launcher PQ: 0 / 0 - CQ: 0 / 0\n",
      "2020-10-31 19:13:52.249 | CRITICAL | syft.grid.connections.webrtc:heartbeat:562 - Launcher PQ: 0 / 0 - CQ: 0 / 0\n"
     ]
    },
    {
     "name": "stdout",
     "output_type": "stream",
     "text": [
      "Launcher PQ: 0 / 0 - CQ: 0 / 0\n"
     ]
    },
    {
     "name": "stderr",
     "output_type": "stream",
     "text": [
      "2020-10-31 19:13:57.253 | CRITICAL | syft.grid.connections.webrtc:heartbeat:562 - Launcher PQ: 0 / 0 - CQ: 0 / 0\n"
     ]
    },
    {
     "name": "stdout",
     "output_type": "stream",
     "text": [
      "Launcher PQ: 0 / 0 - CQ: 0 / 0\n"
     ]
    },
    {
     "name": "stderr",
     "output_type": "stream",
     "text": [
      "2020-10-31 19:14:02.259 | CRITICAL | syft.grid.connections.webrtc:heartbeat:562 - Launcher PQ: 0 / 0 - CQ: 0 / 0\n"
     ]
    },
    {
     "name": "stdout",
     "output_type": "stream",
     "text": [
      "Launcher PQ: 0 / 0 - CQ: 0 / 0\n"
     ]
    },
    {
     "name": "stderr",
     "output_type": "stream",
     "text": [
      "2020-10-31 19:14:07.265 | CRITICAL | syft.grid.connections.webrtc:heartbeat:562 - Launcher PQ: 0 / 0 - CQ: 0 / 0\n"
     ]
    },
    {
     "name": "stdout",
     "output_type": "stream",
     "text": [
      "Launcher PQ: 0 / 0 - CQ: 0 / 0\n"
     ]
    },
    {
     "name": "stderr",
     "output_type": "stream",
     "text": [
      "2020-10-31 19:14:12.269 | CRITICAL | syft.grid.connections.webrtc:heartbeat:562 - Launcher PQ: 0 / 0 - CQ: 0 / 0\n"
     ]
    },
    {
     "name": "stdout",
     "output_type": "stream",
     "text": [
      "Launcher PQ: 0 / 0 - CQ: 0 / 0\n"
     ]
    },
    {
     "name": "stderr",
     "output_type": "stream",
     "text": [
      "2020-10-31 19:14:17.273 | CRITICAL | syft.grid.connections.webrtc:heartbeat:562 - Launcher PQ: 0 / 0 - CQ: 0 / 0\n"
     ]
    },
    {
     "name": "stdout",
     "output_type": "stream",
     "text": [
      "Launcher PQ: 0 / 0 - CQ: 0 / 0\n"
     ]
    },
    {
     "name": "stderr",
     "output_type": "stream",
     "text": [
      "2020-10-31 19:14:22.278 | CRITICAL | syft.grid.connections.webrtc:heartbeat:562 - Launcher PQ: 0 / 0 - CQ: 0 / 0\n"
     ]
    },
    {
     "name": "stdout",
     "output_type": "stream",
     "text": [
      "Launcher PQ: 0 / 0 - CQ: 0 / 0\n"
     ]
    },
    {
     "name": "stderr",
     "output_type": "stream",
     "text": [
      "2020-10-31 19:14:27.282 | CRITICAL | syft.grid.connections.webrtc:heartbeat:562 - Launcher PQ: 0 / 0 - CQ: 0 / 0\n"
     ]
    },
    {
     "name": "stdout",
     "output_type": "stream",
     "text": [
      "Launcher PQ: 0 / 0 - CQ: 0 / 0\n"
     ]
    },
    {
     "name": "stderr",
     "output_type": "stream",
     "text": [
      "2020-10-31 19:14:32.286 | CRITICAL | syft.grid.connections.webrtc:heartbeat:562 - Launcher PQ: 0 / 0 - CQ: 0 / 0\n"
     ]
    },
    {
     "name": "stdout",
     "output_type": "stream",
     "text": [
      "Launcher PQ: 0 / 0 - CQ: 0 / 0\n"
     ]
    },
    {
     "name": "stderr",
     "output_type": "stream",
     "text": [
      "2020-10-31 19:14:37.291 | CRITICAL | syft.grid.connections.webrtc:heartbeat:562 - Launcher PQ: 0 / 0 - CQ: 0 / 0\n"
     ]
    },
    {
     "name": "stdout",
     "output_type": "stream",
     "text": [
      "Launcher PQ: 0 / 0 - CQ: 0 / 0\n"
     ]
    },
    {
     "name": "stderr",
     "output_type": "stream",
     "text": [
      "2020-10-31 19:14:42.296 | CRITICAL | syft.grid.connections.webrtc:heartbeat:562 - Launcher PQ: 0 / 0 - CQ: 0 / 0\n"
     ]
    },
    {
     "name": "stdout",
     "output_type": "stream",
     "text": [
      "Launcher PQ: 0 / 0 - CQ: 0 / 0\n"
     ]
    },
    {
     "name": "stderr",
     "output_type": "stream",
     "text": [
      "2020-10-31 19:14:47.302 | CRITICAL | syft.grid.connections.webrtc:heartbeat:562 - Launcher PQ: 0 / 0 - CQ: 0 / 0\n"
     ]
    },
    {
     "name": "stdout",
     "output_type": "stream",
     "text": [
      "Launcher PQ: 0 / 0 - CQ: 0 / 0\n"
     ]
    },
    {
     "name": "stderr",
     "output_type": "stream",
     "text": [
      "2020-10-31 19:14:52.306 | CRITICAL | syft.grid.connections.webrtc:heartbeat:562 - Launcher PQ: 0 / 0 - CQ: 0 / 0\n"
     ]
    },
    {
     "name": "stdout",
     "output_type": "stream",
     "text": [
      "Launcher PQ: 0 / 0 - CQ: 0 / 0\n"
     ]
    },
    {
     "name": "stderr",
     "output_type": "stream",
     "text": [
      "2020-10-31 19:14:57.307 | CRITICAL | syft.grid.connections.webrtc:heartbeat:562 - Launcher PQ: 0 / 0 - CQ: 0 / 0\n"
     ]
    },
    {
     "name": "stdout",
     "output_type": "stream",
     "text": [
      "Launcher PQ: 0 / 0 - CQ: 0 / 0\n"
     ]
    },
    {
     "name": "stderr",
     "output_type": "stream",
     "text": [
      "2020-10-31 19:15:02.312 | CRITICAL | syft.grid.connections.webrtc:heartbeat:562 - Launcher PQ: 0 / 0 - CQ: 0 / 0\n"
     ]
    },
    {
     "name": "stdout",
     "output_type": "stream",
     "text": [
      "Launcher PQ: 0 / 0 - CQ: 0 / 0\n"
     ]
    },
    {
     "name": "stderr",
     "output_type": "stream",
     "text": [
      "2020-10-31 19:15:07.318 | CRITICAL | syft.grid.connections.webrtc:heartbeat:562 - Launcher PQ: 0 / 0 - CQ: 0 / 0\n"
     ]
    },
    {
     "name": "stdout",
     "output_type": "stream",
     "text": [
      "Launcher PQ: 0 / 0 - CQ: 0 / 0\n"
     ]
    },
    {
     "name": "stderr",
     "output_type": "stream",
     "text": [
      "2020-10-31 19:15:12.325 | CRITICAL | syft.grid.connections.webrtc:heartbeat:562 - Launcher PQ: 0 / 0 - CQ: 0 / 0\n"
     ]
    },
    {
     "name": "stdout",
     "output_type": "stream",
     "text": [
      "Launcher PQ: 0 / 0 - CQ: 0 / 0\n"
     ]
    },
    {
     "name": "stderr",
     "output_type": "stream",
     "text": [
      "2020-10-31 19:15:17.330 | CRITICAL | syft.grid.connections.webrtc:heartbeat:562 - Launcher PQ: 0 / 0 - CQ: 0 / 0\n"
     ]
    },
    {
     "name": "stdout",
     "output_type": "stream",
     "text": [
      "Launcher PQ: 0 / 0 - CQ: 0 / 0\n"
     ]
    },
    {
     "name": "stderr",
     "output_type": "stream",
     "text": [
      "2020-10-31 19:15:22.335 | CRITICAL | syft.grid.connections.webrtc:heartbeat:562 - Launcher PQ: 0 / 0 - CQ: 0 / 0\n"
     ]
    },
    {
     "name": "stdout",
     "output_type": "stream",
     "text": [
      "Launcher PQ: 0 / 0 - CQ: 0 / 0\n"
     ]
    },
    {
     "name": "stderr",
     "output_type": "stream",
     "text": [
      "2020-10-31 19:15:27.340 | CRITICAL | syft.grid.connections.webrtc:heartbeat:562 - Launcher PQ: 0 / 0 - CQ: 0 / 0\n"
     ]
    },
    {
     "name": "stdout",
     "output_type": "stream",
     "text": [
      "Launcher PQ: 0 / 0 - CQ: 0 / 0\n",
      "Launcher PQ: 0 / 0 - CQ: 0 / 0\n"
     ]
    },
    {
     "name": "stderr",
     "output_type": "stream",
     "text": [
      "2020-10-31 19:15:32.345 | CRITICAL | syft.grid.connections.webrtc:heartbeat:562 - Launcher PQ: 0 / 0 - CQ: 0 / 0\n",
      "2020-10-31 19:15:37.348 | CRITICAL | syft.grid.connections.webrtc:heartbeat:562 - Launcher PQ: 0 / 0 - CQ: 0 / 0\n"
     ]
    },
    {
     "name": "stdout",
     "output_type": "stream",
     "text": [
      "Launcher PQ: 0 / 0 - CQ: 0 / 0\n"
     ]
    },
    {
     "name": "stderr",
     "output_type": "stream",
     "text": [
      "2020-10-31 19:15:42.354 | CRITICAL | syft.grid.connections.webrtc:heartbeat:562 - Launcher PQ: 0 / 0 - CQ: 0 / 0\n"
     ]
    },
    {
     "name": "stdout",
     "output_type": "stream",
     "text": [
      "Launcher PQ: 0 / 0 - CQ: 0 / 0\n"
     ]
    },
    {
     "name": "stderr",
     "output_type": "stream",
     "text": [
      "2020-10-31 19:15:47.360 | CRITICAL | syft.grid.connections.webrtc:heartbeat:562 - Launcher PQ: 0 / 0 - CQ: 0 / 0\n"
     ]
    },
    {
     "name": "stdout",
     "output_type": "stream",
     "text": [
      "Launcher PQ: 0 / 0 - CQ: 0 / 0\n"
     ]
    },
    {
     "name": "stderr",
     "output_type": "stream",
     "text": [
      "2020-10-31 19:15:52.364 | CRITICAL | syft.grid.connections.webrtc:heartbeat:562 - Launcher PQ: 0 / 0 - CQ: 0 / 0\n"
     ]
    },
    {
     "name": "stdout",
     "output_type": "stream",
     "text": [
      "Launcher PQ: 0 / 0 - CQ: 0 / 0\n"
     ]
    },
    {
     "name": "stderr",
     "output_type": "stream",
     "text": [
      "2020-10-31 19:15:57.370 | CRITICAL | syft.grid.connections.webrtc:heartbeat:562 - Launcher PQ: 0 / 0 - CQ: 0 / 0\n",
      "2020-10-31 19:16:02.374 | CRITICAL | syft.grid.connections.webrtc:heartbeat:562 - Launcher PQ: 0 / 0 - CQ: 0 / 0\n"
     ]
    },
    {
     "name": "stdout",
     "output_type": "stream",
     "text": [
      "Launcher PQ: 0 / 0 - CQ: 0 / 0\n"
     ]
    },
    {
     "name": "stderr",
     "output_type": "stream",
     "text": [
      "2020-10-31 19:16:07.379 | CRITICAL | syft.grid.connections.webrtc:heartbeat:562 - Launcher PQ: 0 / 0 - CQ: 0 / 0\n"
     ]
    },
    {
     "name": "stdout",
     "output_type": "stream",
     "text": [
      "Launcher PQ: 0 / 0 - CQ: 0 / 0\n"
     ]
    },
    {
     "name": "stderr",
     "output_type": "stream",
     "text": [
      "2020-10-31 19:16:12.384 | CRITICAL | syft.grid.connections.webrtc:heartbeat:562 - Launcher PQ: 0 / 0 - CQ: 0 / 0\n",
      "2020-10-31 19:16:17.390 | CRITICAL | syft.grid.connections.webrtc:heartbeat:562 - Launcher PQ: 0 / 0 - CQ: 0 / 0\n"
     ]
    },
    {
     "name": "stdout",
     "output_type": "stream",
     "text": [
      "Launcher PQ: 0 / 0 - CQ: 0 / 0\n"
     ]
    },
    {
     "name": "stderr",
     "output_type": "stream",
     "text": [
      "2020-10-31 19:16:22.393 | CRITICAL | syft.grid.connections.webrtc:heartbeat:562 - Launcher PQ: 0 / 0 - CQ: 0 / 0\n"
     ]
    },
    {
     "name": "stdout",
     "output_type": "stream",
     "text": [
      "Launcher PQ: 0 / 0 - CQ: 0 / 0\n"
     ]
    },
    {
     "name": "stderr",
     "output_type": "stream",
     "text": [
      "2020-10-31 19:16:27.399 | CRITICAL | syft.grid.connections.webrtc:heartbeat:562 - Launcher PQ: 0 / 0 - CQ: 0 / 0\n",
      "2020-10-31 19:16:32.402 | CRITICAL | syft.grid.connections.webrtc:heartbeat:562 - Launcher PQ: 0 / 0 - CQ: 0 / 0\n"
     ]
    },
    {
     "name": "stdout",
     "output_type": "stream",
     "text": [
      "Launcher PQ: 0 / 0 - CQ: 0 / 0\n"
     ]
    },
    {
     "name": "stderr",
     "output_type": "stream",
     "text": [
      "2020-10-31 19:16:37.404 | CRITICAL | syft.grid.connections.webrtc:heartbeat:562 - Launcher PQ: 0 / 0 - CQ: 0 / 0\n"
     ]
    },
    {
     "name": "stdout",
     "output_type": "stream",
     "text": [
      "Launcher PQ: 0 / 0 - CQ: 0 / 0\n"
     ]
    },
    {
     "name": "stderr",
     "output_type": "stream",
     "text": [
      "2020-10-31 19:16:42.406 | CRITICAL | syft.grid.connections.webrtc:heartbeat:562 - Launcher PQ: 0 / 0 - CQ: 0 / 0\n"
     ]
    },
    {
     "name": "stdout",
     "output_type": "stream",
     "text": [
      "Launcher PQ: 0 / 0 - CQ: 0 / 0\n"
     ]
    },
    {
     "name": "stderr",
     "output_type": "stream",
     "text": [
      "2020-10-31 19:16:47.411 | CRITICAL | syft.grid.connections.webrtc:heartbeat:562 - Launcher PQ: 0 / 0 - CQ: 0 / 0\n"
     ]
    },
    {
     "name": "stdout",
     "output_type": "stream",
     "text": [
      "Launcher PQ: 0 / 0 - CQ: 0 / 0\n"
     ]
    },
    {
     "name": "stderr",
     "output_type": "stream",
     "text": [
      "2020-10-31 19:16:52.416 | CRITICAL | syft.grid.connections.webrtc:heartbeat:562 - Launcher PQ: 0 / 0 - CQ: 0 / 0\n"
     ]
    },
    {
     "name": "stdout",
     "output_type": "stream",
     "text": [
      "Launcher PQ: 0 / 0 - CQ: 0 / 0\n"
     ]
    },
    {
     "name": "stderr",
     "output_type": "stream",
     "text": [
      "2020-10-31 19:16:57.422 | CRITICAL | syft.grid.connections.webrtc:heartbeat:562 - Launcher PQ: 0 / 0 - CQ: 0 / 0\n"
     ]
    },
    {
     "name": "stdout",
     "output_type": "stream",
     "text": [
      "Launcher PQ: 0 / 0 - CQ: 0 / 0\n"
     ]
    },
    {
     "name": "stderr",
     "output_type": "stream",
     "text": [
      "2020-10-31 19:17:02.425 | CRITICAL | syft.grid.connections.webrtc:heartbeat:562 - Launcher PQ: 0 / 0 - CQ: 0 / 0\n",
      "2020-10-31 19:17:07.430 | CRITICAL | syft.grid.connections.webrtc:heartbeat:562 - Launcher PQ: 0 / 0 - CQ: 0 / 0\n"
     ]
    },
    {
     "name": "stdout",
     "output_type": "stream",
     "text": [
      "Launcher PQ: 0 / 0 - CQ: 0 / 0\n"
     ]
    },
    {
     "name": "stderr",
     "output_type": "stream",
     "text": [
      "2020-10-31 19:17:12.432 | CRITICAL | syft.grid.connections.webrtc:heartbeat:562 - Launcher PQ: 0 / 0 - CQ: 0 / 0\n"
     ]
    },
    {
     "name": "stdout",
     "output_type": "stream",
     "text": [
      "Launcher PQ: 0 / 0 - CQ: 0 / 0\n"
     ]
    },
    {
     "name": "stderr",
     "output_type": "stream",
     "text": [
      "2020-10-31 19:17:17.437 | CRITICAL | syft.grid.connections.webrtc:heartbeat:562 - Launcher PQ: 0 / 0 - CQ: 0 / 0\n"
     ]
    },
    {
     "name": "stdout",
     "output_type": "stream",
     "text": [
      "Launcher PQ: 0 / 0 - CQ: 0 / 0\n"
     ]
    },
    {
     "name": "stderr",
     "output_type": "stream",
     "text": [
      "2020-10-31 19:17:22.443 | CRITICAL | syft.grid.connections.webrtc:heartbeat:562 - Launcher PQ: 0 / 0 - CQ: 0 / 0\n",
      "2020-10-31 19:17:27.448 | CRITICAL | syft.grid.connections.webrtc:heartbeat:562 - Launcher PQ: 0 / 0 - CQ: 0 / 0\n"
     ]
    },
    {
     "name": "stdout",
     "output_type": "stream",
     "text": [
      "Launcher PQ: 0 / 0 - CQ: 0 / 0\n"
     ]
    },
    {
     "name": "stderr",
     "output_type": "stream",
     "text": [
      "2020-10-31 19:17:32.454 | CRITICAL | syft.grid.connections.webrtc:heartbeat:562 - Launcher PQ: 0 / 0 - CQ: 0 / 0\n"
     ]
    },
    {
     "name": "stdout",
     "output_type": "stream",
     "text": [
      "Launcher PQ: 0 / 0 - CQ: 0 / 0\n"
     ]
    },
    {
     "name": "stderr",
     "output_type": "stream",
     "text": [
      "2020-10-31 19:17:37.456 | CRITICAL | syft.grid.connections.webrtc:heartbeat:562 - Launcher PQ: 0 / 0 - CQ: 0 / 0\n"
     ]
    },
    {
     "name": "stdout",
     "output_type": "stream",
     "text": [
      "Launcher PQ: 0 / 0 - CQ: 0 / 0\n"
     ]
    },
    {
     "name": "stderr",
     "output_type": "stream",
     "text": [
      "2020-10-31 19:17:42.457 | CRITICAL | syft.grid.connections.webrtc:heartbeat:562 - Launcher PQ: 0 / 0 - CQ: 0 / 0\n"
     ]
    },
    {
     "name": "stdout",
     "output_type": "stream",
     "text": [
      "Launcher PQ: 0 / 0 - CQ: 0 / 0\n"
     ]
    },
    {
     "name": "stderr",
     "output_type": "stream",
     "text": [
      "2020-10-31 19:17:47.464 | CRITICAL | syft.grid.connections.webrtc:heartbeat:562 - Launcher PQ: 0 / 0 - CQ: 0 / 0\n",
      "2020-10-31 19:17:52.467 | CRITICAL | syft.grid.connections.webrtc:heartbeat:562 - Launcher PQ: 0 / 0 - CQ: 0 / 0\n"
     ]
    },
    {
     "name": "stdout",
     "output_type": "stream",
     "text": [
      "Launcher PQ: 0 / 0 - CQ: 0 / 0\n"
     ]
    },
    {
     "name": "stderr",
     "output_type": "stream",
     "text": [
      "2020-10-31 19:17:57.470 | CRITICAL | syft.grid.connections.webrtc:heartbeat:562 - Launcher PQ: 0 / 0 - CQ: 0 / 0\n"
     ]
    },
    {
     "name": "stdout",
     "output_type": "stream",
     "text": [
      "Launcher PQ: 0 / 0 - CQ: 0 / 0\n"
     ]
    },
    {
     "name": "stderr",
     "output_type": "stream",
     "text": [
      "2020-10-31 19:18:02.476 | CRITICAL | syft.grid.connections.webrtc:heartbeat:562 - Launcher PQ: 0 / 0 - CQ: 0 / 0\n"
     ]
    },
    {
     "name": "stdout",
     "output_type": "stream",
     "text": [
      "Launcher PQ: 0 / 0 - CQ: 0 / 0\n"
     ]
    },
    {
     "name": "stderr",
     "output_type": "stream",
     "text": [
      "2020-10-31 19:18:07.480 | CRITICAL | syft.grid.connections.webrtc:heartbeat:562 - Launcher PQ: 0 / 0 - CQ: 0 / 0\n"
     ]
    },
    {
     "name": "stdout",
     "output_type": "stream",
     "text": [
      "Launcher PQ: 0 / 0 - CQ: 0 / 0\n"
     ]
    },
    {
     "name": "stderr",
     "output_type": "stream",
     "text": [
      "2020-10-31 19:18:12.485 | CRITICAL | syft.grid.connections.webrtc:heartbeat:562 - Launcher PQ: 0 / 0 - CQ: 0 / 0\n"
     ]
    },
    {
     "name": "stdout",
     "output_type": "stream",
     "text": [
      "Launcher PQ: 0 / 0 - CQ: 0 / 0\n"
     ]
    },
    {
     "name": "stderr",
     "output_type": "stream",
     "text": [
      "2020-10-31 19:18:17.487 | CRITICAL | syft.grid.connections.webrtc:heartbeat:562 - Launcher PQ: 0 / 0 - CQ: 0 / 0\n"
     ]
    },
    {
     "name": "stdout",
     "output_type": "stream",
     "text": [
      "Launcher PQ: 0 / 0 - CQ: 0 / 0\n"
     ]
    },
    {
     "name": "stderr",
     "output_type": "stream",
     "text": [
      "2020-10-31 19:18:22.490 | CRITICAL | syft.grid.connections.webrtc:heartbeat:562 - Launcher PQ: 0 / 0 - CQ: 0 / 0\n"
     ]
    },
    {
     "name": "stdout",
     "output_type": "stream",
     "text": [
      "Launcher PQ: 0 / 0 - CQ: 0 / 0\n"
     ]
    },
    {
     "name": "stderr",
     "output_type": "stream",
     "text": [
      "2020-10-31 19:18:27.495 | CRITICAL | syft.grid.connections.webrtc:heartbeat:562 - Launcher PQ: 0 / 0 - CQ: 0 / 0\n"
     ]
    },
    {
     "name": "stdout",
     "output_type": "stream",
     "text": [
      "Launcher PQ: 0 / 0 - CQ: 0 / 0\n"
     ]
    },
    {
     "name": "stderr",
     "output_type": "stream",
     "text": [
      "2020-10-31 19:18:32.499 | CRITICAL | syft.grid.connections.webrtc:heartbeat:562 - Launcher PQ: 0 / 0 - CQ: 0 / 0\n"
     ]
    },
    {
     "name": "stdout",
     "output_type": "stream",
     "text": [
      "Launcher PQ: 0 / 0 - CQ: 0 / 0\n"
     ]
    },
    {
     "name": "stderr",
     "output_type": "stream",
     "text": [
      "2020-10-31 19:18:37.501 | CRITICAL | syft.grid.connections.webrtc:heartbeat:562 - Launcher PQ: 0 / 0 - CQ: 0 / 0\n"
     ]
    },
    {
     "name": "stdout",
     "output_type": "stream",
     "text": [
      "Launcher PQ: 0 / 0 - CQ: 0 / 0\n"
     ]
    },
    {
     "name": "stderr",
     "output_type": "stream",
     "text": [
      "2020-10-31 19:18:42.506 | CRITICAL | syft.grid.connections.webrtc:heartbeat:562 - Launcher PQ: 0 / 0 - CQ: 0 / 0\n"
     ]
    },
    {
     "name": "stdout",
     "output_type": "stream",
     "text": [
      "Launcher PQ: 0 / 0 - CQ: 0 / 0\n"
     ]
    },
    {
     "name": "stderr",
     "output_type": "stream",
     "text": [
      "2020-10-31 19:18:47.512 | CRITICAL | syft.grid.connections.webrtc:heartbeat:562 - Launcher PQ: 0 / 0 - CQ: 0 / 0\n"
     ]
    },
    {
     "name": "stdout",
     "output_type": "stream",
     "text": [
      "Launcher PQ: 0 / 0 - CQ: 0 / 0\n"
     ]
    },
    {
     "name": "stderr",
     "output_type": "stream",
     "text": [
      "2020-10-31 19:18:52.513 | CRITICAL | syft.grid.connections.webrtc:heartbeat:562 - Launcher PQ: 0 / 0 - CQ: 0 / 0\n"
     ]
    },
    {
     "name": "stdout",
     "output_type": "stream",
     "text": [
      "Launcher PQ: 0 / 0 - CQ: 0 / 0\n"
     ]
    },
    {
     "name": "stderr",
     "output_type": "stream",
     "text": [
      "2020-10-31 19:18:57.519 | CRITICAL | syft.grid.connections.webrtc:heartbeat:562 - Launcher PQ: 0 / 0 - CQ: 0 / 0\n"
     ]
    },
    {
     "name": "stdout",
     "output_type": "stream",
     "text": [
      "Launcher PQ: 0 / 0 - CQ: 0 / 0\n",
      "Launcher PQ: 0 / 0 - CQ: 0 / 0\n"
     ]
    },
    {
     "name": "stderr",
     "output_type": "stream",
     "text": [
      "2020-10-31 19:19:02.524 | CRITICAL | syft.grid.connections.webrtc:heartbeat:562 - Launcher PQ: 0 / 0 - CQ: 0 / 0\n",
      "2020-10-31 19:19:07.528 | CRITICAL | syft.grid.connections.webrtc:heartbeat:562 - Launcher PQ: 0 / 0 - CQ: 0 / 0\n"
     ]
    },
    {
     "name": "stdout",
     "output_type": "stream",
     "text": [
      "Launcher PQ: 0 / 0 - CQ: 0 / 0\n"
     ]
    },
    {
     "name": "stderr",
     "output_type": "stream",
     "text": [
      "2020-10-31 19:19:12.532 | CRITICAL | syft.grid.connections.webrtc:heartbeat:562 - Launcher PQ: 0 / 0 - CQ: 0 / 0\n"
     ]
    },
    {
     "name": "stdout",
     "output_type": "stream",
     "text": [
      "Launcher PQ: 0 / 0 - CQ: 0 / 0\n"
     ]
    },
    {
     "name": "stderr",
     "output_type": "stream",
     "text": [
      "2020-10-31 19:19:17.537 | CRITICAL | syft.grid.connections.webrtc:heartbeat:562 - Launcher PQ: 0 / 0 - CQ: 0 / 0\n"
     ]
    },
    {
     "name": "stdout",
     "output_type": "stream",
     "text": [
      "Launcher PQ: 0 / 0 - CQ: 0 / 0\n"
     ]
    },
    {
     "name": "stderr",
     "output_type": "stream",
     "text": [
      "2020-10-31 19:19:22.540 | CRITICAL | syft.grid.connections.webrtc:heartbeat:562 - Launcher PQ: 0 / 0 - CQ: 0 / 0\n"
     ]
    },
    {
     "name": "stdout",
     "output_type": "stream",
     "text": [
      "Launcher PQ: 0 / 0 - CQ: 0 / 0\n"
     ]
    },
    {
     "name": "stderr",
     "output_type": "stream",
     "text": [
      "2020-10-31 19:19:27.545 | CRITICAL | syft.grid.connections.webrtc:heartbeat:562 - Launcher PQ: 0 / 0 - CQ: 0 / 0\n"
     ]
    },
    {
     "name": "stdout",
     "output_type": "stream",
     "text": [
      "Launcher PQ: 0 / 0 - CQ: 0 / 0\n"
     ]
    },
    {
     "name": "stderr",
     "output_type": "stream",
     "text": [
      "2020-10-31 19:19:32.549 | CRITICAL | syft.grid.connections.webrtc:heartbeat:562 - Launcher PQ: 0 / 0 - CQ: 0 / 0\n"
     ]
    },
    {
     "name": "stdout",
     "output_type": "stream",
     "text": [
      "Launcher PQ: 0 / 0 - CQ: 0 / 0\n"
     ]
    },
    {
     "name": "stderr",
     "output_type": "stream",
     "text": [
      "2020-10-31 19:19:37.556 | CRITICAL | syft.grid.connections.webrtc:heartbeat:562 - Launcher PQ: 0 / 0 - CQ: 0 / 0\n"
     ]
    },
    {
     "name": "stdout",
     "output_type": "stream",
     "text": [
      "Launcher PQ: 0 / 0 - CQ: 0 / 0\n"
     ]
    },
    {
     "name": "stderr",
     "output_type": "stream",
     "text": [
      "2020-10-31 19:19:42.558 | CRITICAL | syft.grid.connections.webrtc:heartbeat:562 - Launcher PQ: 0 / 0 - CQ: 0 / 0\n",
      "2020-10-31 19:19:47.561 | CRITICAL | syft.grid.connections.webrtc:heartbeat:562 - Launcher PQ: 0 / 0 - CQ: 0 / 0\n"
     ]
    },
    {
     "name": "stdout",
     "output_type": "stream",
     "text": [
      "Launcher PQ: 0 / 0 - CQ: 0 / 0\n"
     ]
    },
    {
     "name": "stderr",
     "output_type": "stream",
     "text": [
      "2020-10-31 19:19:52.567 | CRITICAL | syft.grid.connections.webrtc:heartbeat:562 - Launcher PQ: 0 / 0 - CQ: 0 / 0\n"
     ]
    },
    {
     "name": "stdout",
     "output_type": "stream",
     "text": [
      "Launcher PQ: 0 / 0 - CQ: 0 / 0\n"
     ]
    },
    {
     "name": "stderr",
     "output_type": "stream",
     "text": [
      "2020-10-31 19:19:57.573 | CRITICAL | syft.grid.connections.webrtc:heartbeat:562 - Launcher PQ: 0 / 0 - CQ: 0 / 0\n"
     ]
    },
    {
     "name": "stdout",
     "output_type": "stream",
     "text": [
      "Launcher PQ: 0 / 0 - CQ: 0 / 0\n"
     ]
    },
    {
     "name": "stderr",
     "output_type": "stream",
     "text": [
      "2020-10-31 19:20:02.578 | CRITICAL | syft.grid.connections.webrtc:heartbeat:562 - Launcher PQ: 0 / 0 - CQ: 0 / 0\n",
      "2020-10-31 19:20:07.582 | CRITICAL | syft.grid.connections.webrtc:heartbeat:562 - Launcher PQ: 0 / 0 - CQ: 0 / 0\n"
     ]
    },
    {
     "name": "stdout",
     "output_type": "stream",
     "text": [
      "Launcher PQ: 0 / 0 - CQ: 0 / 0\n"
     ]
    },
    {
     "name": "stderr",
     "output_type": "stream",
     "text": [
      "2020-10-31 19:20:12.588 | CRITICAL | syft.grid.connections.webrtc:heartbeat:562 - Launcher PQ: 0 / 0 - CQ: 0 / 0\n"
     ]
    },
    {
     "name": "stdout",
     "output_type": "stream",
     "text": [
      "Launcher PQ: 0 / 0 - CQ: 0 / 0\n"
     ]
    },
    {
     "name": "stderr",
     "output_type": "stream",
     "text": [
      "2020-10-31 19:20:17.593 | CRITICAL | syft.grid.connections.webrtc:heartbeat:562 - Launcher PQ: 0 / 0 - CQ: 0 / 0\n"
     ]
    },
    {
     "name": "stdout",
     "output_type": "stream",
     "text": [
      "Launcher PQ: 0 / 0 - CQ: 0 / 0\n"
     ]
    },
    {
     "name": "stderr",
     "output_type": "stream",
     "text": [
      "2020-10-31 19:20:22.598 | CRITICAL | syft.grid.connections.webrtc:heartbeat:562 - Launcher PQ: 0 / 0 - CQ: 0 / 0\n",
      "2020-10-31 19:20:27.606 | CRITICAL | syft.grid.connections.webrtc:heartbeat:562 - Launcher PQ: 0 / 0 - CQ: 0 / 0\n"
     ]
    },
    {
     "name": "stdout",
     "output_type": "stream",
     "text": [
      "Launcher PQ: 0 / 0 - CQ: 0 / 0\n"
     ]
    },
    {
     "name": "stderr",
     "output_type": "stream",
     "text": [
      "2020-10-31 19:20:32.612 | CRITICAL | syft.grid.connections.webrtc:heartbeat:562 - Launcher PQ: 0 / 0 - CQ: 0 / 0\n"
     ]
    },
    {
     "name": "stdout",
     "output_type": "stream",
     "text": [
      "Launcher PQ: 0 / 0 - CQ: 0 / 0\n"
     ]
    },
    {
     "name": "stderr",
     "output_type": "stream",
     "text": [
      "2020-10-31 19:20:37.618 | CRITICAL | syft.grid.connections.webrtc:heartbeat:562 - Launcher PQ: 0 / 0 - CQ: 0 / 0\n"
     ]
    },
    {
     "name": "stdout",
     "output_type": "stream",
     "text": [
      "Launcher PQ: 0 / 0 - CQ: 0 / 0\n"
     ]
    },
    {
     "name": "stderr",
     "output_type": "stream",
     "text": [
      "2020-10-31 19:20:42.627 | CRITICAL | syft.grid.connections.webrtc:heartbeat:562 - Launcher PQ: 0 / 0 - CQ: 0 / 0\n",
      "2020-10-31 19:20:47.631 | CRITICAL | syft.grid.connections.webrtc:heartbeat:562 - Launcher PQ: 0 / 0 - CQ: 0 / 0\n"
     ]
    },
    {
     "name": "stdout",
     "output_type": "stream",
     "text": [
      "Launcher PQ: 0 / 0 - CQ: 0 / 0\n"
     ]
    },
    {
     "name": "stderr",
     "output_type": "stream",
     "text": [
      "2020-10-31 19:20:52.634 | CRITICAL | syft.grid.connections.webrtc:heartbeat:562 - Launcher PQ: 0 / 0 - CQ: 0 / 0\n"
     ]
    },
    {
     "name": "stdout",
     "output_type": "stream",
     "text": [
      "Launcher PQ: 0 / 0 - CQ: 0 / 0\n"
     ]
    },
    {
     "name": "stderr",
     "output_type": "stream",
     "text": [
      "2020-10-31 19:20:57.640 | CRITICAL | syft.grid.connections.webrtc:heartbeat:562 - Launcher PQ: 0 / 0 - CQ: 0 / 0\n",
      "2020-10-31 19:21:02.644 | CRITICAL | syft.grid.connections.webrtc:heartbeat:562 - Launcher PQ: 0 / 0 - CQ: 0 / 0\n"
     ]
    },
    {
     "name": "stdout",
     "output_type": "stream",
     "text": [
      "Launcher PQ: 0 / 0 - CQ: 0 / 0\n"
     ]
    },
    {
     "name": "stderr",
     "output_type": "stream",
     "text": [
      "2020-10-31 19:21:07.650 | CRITICAL | syft.grid.connections.webrtc:heartbeat:562 - Launcher PQ: 0 / 0 - CQ: 0 / 0\n"
     ]
    },
    {
     "name": "stdout",
     "output_type": "stream",
     "text": [
      "Launcher PQ: 0 / 0 - CQ: 0 / 0\n"
     ]
    },
    {
     "name": "stderr",
     "output_type": "stream",
     "text": [
      "2020-10-31 19:21:12.656 | CRITICAL | syft.grid.connections.webrtc:heartbeat:562 - Launcher PQ: 0 / 0 - CQ: 0 / 0\n"
     ]
    },
    {
     "name": "stdout",
     "output_type": "stream",
     "text": [
      "Launcher PQ: 0 / 0 - CQ: 0 / 0\n"
     ]
    },
    {
     "name": "stderr",
     "output_type": "stream",
     "text": [
      "2020-10-31 19:21:17.659 | CRITICAL | syft.grid.connections.webrtc:heartbeat:562 - Launcher PQ: 0 / 0 - CQ: 0 / 0\n"
     ]
    },
    {
     "name": "stdout",
     "output_type": "stream",
     "text": [
      "Launcher PQ: 0 / 0 - CQ: 0 / 0\n"
     ]
    },
    {
     "name": "stderr",
     "output_type": "stream",
     "text": [
      "2020-10-31 19:21:22.665 | CRITICAL | syft.grid.connections.webrtc:heartbeat:562 - Launcher PQ: 0 / 0 - CQ: 0 / 0\n"
     ]
    },
    {
     "name": "stdout",
     "output_type": "stream",
     "text": [
      "Launcher PQ: 0 / 0 - CQ: 0 / 0\n"
     ]
    },
    {
     "name": "stderr",
     "output_type": "stream",
     "text": [
      "2020-10-31 19:21:27.670 | CRITICAL | syft.grid.connections.webrtc:heartbeat:562 - Launcher PQ: 0 / 0 - CQ: 0 / 0\n",
      "2020-10-31 19:21:32.672 | CRITICAL | syft.grid.connections.webrtc:heartbeat:562 - Launcher PQ: 0 / 0 - CQ: 0 / 0\n"
     ]
    },
    {
     "name": "stdout",
     "output_type": "stream",
     "text": [
      "Launcher PQ: 0 / 0 - CQ: 0 / 0\n"
     ]
    },
    {
     "name": "stderr",
     "output_type": "stream",
     "text": [
      "2020-10-31 19:21:37.678 | CRITICAL | syft.grid.connections.webrtc:heartbeat:562 - Launcher PQ: 0 / 0 - CQ: 0 / 0\n"
     ]
    },
    {
     "name": "stdout",
     "output_type": "stream",
     "text": [
      "Launcher PQ: 0 / 0 - CQ: 0 / 0\n"
     ]
    }
   ],
   "source": [
    "duet.requests.pandas"
   ]
  },
  {
   "cell_type": "code",
   "execution_count": null,
   "metadata": {},
   "outputs": [],
   "source": [
    "print(duet.requests)\n",
    "if len(duet.requests.requests) > 0:\n",
    "    duet.requests[0].approve()\n",
    "duet.requests.pandas    "
   ]
  },
  {
   "cell_type": "code",
   "execution_count": null,
   "metadata": {},
   "outputs": [],
   "source": []
  },
  {
   "cell_type": "code",
   "execution_count": null,
   "metadata": {},
   "outputs": [],
   "source": []
  }
 ],
 "metadata": {
  "kernelspec": {
   "display_name": "Python 3",
   "language": "python",
   "name": "python3"
  },
  "language_info": {
   "codemirror_mode": {
    "name": "ipython",
    "version": 3
   },
   "file_extension": ".py",
   "mimetype": "text/x-python",
   "name": "python",
   "nbconvert_exporter": "python",
   "pygments_lexer": "ipython3",
   "version": "3.8.6"
  }
 },
 "nbformat": 4,
 "nbformat_minor": 4
}
