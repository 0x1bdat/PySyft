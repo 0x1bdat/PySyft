{
 "cells": [
  {
   "cell_type": "markdown",
   "id": "7c9bf226",
   "metadata": {},
   "source": [
    "# PyGrid: Remote Inference\n",
    "\n",
    "<img src=\"../../../docs/img/pygrid_logo.png\" align=\"center\"/>\n",
    "Evaluate custom models using private datasets without even having access to them is a powerfull resource that can change the way we interact with data during a machine learning workflow, PySyft and PyGrid offers the ability to run inferences remotely by using a variety of technologies and applications.\n",
    "\n",
    "In this notebook, we'll be covering all the nuances of this process, showing how to send private datasets _(as data owner)_, how to perform remote computation using private environments _(as data scientist)_ and the most important: **How to make private data _\"accessible\"_ while we empowering data owners with total control of their data.**"
   ]
  },
  {
   "cell_type": "markdown",
   "id": "42e79707",
   "metadata": {},
   "source": [
    "## 1 - Host a private dataset as a Data Owner\n",
    "The first step in this workflow is to send a private dataset to the domain. We can do it using two different approaches:\n",
    "\n",
    "- **Tensor Data Structures**: Using the torch tensor structures and the default PySyft API\n",
    "- **Structured and compressed CSV folder** : We can upload a _.tar.gz_ file  by using the PyGrid API.\n",
    "\n",
    "This notebook aims to cover the second approach. Here, we'll be sending a compressed file containing a structured folder with different CSV files + metadata information about the dataset _(manifest, description and tags)_. These informations will be useful to understand the data structure even without having access to the data values by itself.<br>"
   ]
  },
  {
   "cell_type": "markdown",
   "id": "4d5be667",
   "metadata": {},
   "source": [
    "### 1.1 - Import dependencies\n",
    "As usual, we need to import the syft dependencies to go through this process."
   ]
  },
  {
   "cell_type": "code",
   "execution_count": 1,
   "id": "80032f24",
   "metadata": {},
   "outputs": [],
   "source": [
    "from syft.grid.client.client import connect # Method used to connect with the node.\n",
    "from syft.grid.client.grid_connection import GridHTTPConnection # Protocol used to talk with the node\n",
    "\n",
    "import syft as sy\n",
    "import torch as th\n",
    "\n",
    "# Set logging level\n",
    "import logging\n",
    "logging.basicConfig(level=logging.INFO)\n",
    "\n",
    "sy.VERBOSE = False"
   ]
  },
  {
   "cell_type": "markdown",
   "id": "7abd5260",
   "metadata": {},
   "source": [
    "### 1.2 Connecting using  data owner account credentials\n",
    "As a **data owner**, we need to connect using the proper credentials. \n",
    "<br><br>\n",
    "_PS: If you don't know how to create user accounts, i'd sugest to read this [notebook](https://github.com/OpenMined/PySyft/blob/pygrid_demo/examples/pygrid/user/User%20Client%20API.ipynb)_"
   ]
  },
  {
   "cell_type": "code",
   "execution_count": 2,
   "id": "ca2e4bb1",
   "metadata": {},
   "outputs": [],
   "source": [
    "data_owner = connect(\n",
    "    url=\"http://localhost:5000\", # Domain Address\n",
    "    credentials={\"email\":\"dataowner@email.com\", \"password\":\"user3pwd\"},\n",
    "    conn_type= GridHTTPConnection,) # HTTP Connection Protocol"
   ]
  },
  {
   "cell_type": "markdown",
   "id": "e2b40bcb",
   "metadata": {},
   "source": [
    "***From now on, all the requests made by the data owner will be sent using the \"data_owner\" grid client.***"
   ]
  },
  {
   "cell_type": "markdown",
   "id": "1daa8670",
   "metadata": {},
   "source": [
    "### 1.3 Hosting a dataset\n",
    "In this section we want to cover the process of host a dataset as a ***data owner*** and also how can we use its metadata to understand the dataset structure."
   ]
  },
  {
   "cell_type": "markdown",
   "id": "beac07b8",
   "metadata": {},
   "source": [
    "#### 1.3.1 - Uploading a dataset\n",
    "The next step is to upload our compressed file in the domain node. To acomplish that, we need to specify the proper path where the file lives. \n",
    "\n",
    "_PS1: At the time this article has been written, PyGrid platform offers support for .tag.gz only._<br>\n",
    "_PS2: If you don't know how to struct your files or what can you do using PyGrid Dataset structures, i'd sugest to read this [notebook](http://github.com/OpenMined/PySyft.git))_"
   ]
  },
  {
   "cell_type": "code",
   "execution_count": 3,
   "id": "21f77903",
   "metadata": {},
   "outputs": [],
   "source": [
    "dataset = data_owner.datasets.create(\"diabetes-data.tar.gz\")"
   ]
  },
  {
   "cell_type": "markdown",
   "id": "434a1e3f",
   "metadata": {},
   "source": [
    "_Vioalá_, we have the dataset uploaded in our domain node.This method will return a dataset structure, which can be used to explore/use the dataset pointers remotely."
   ]
  },
  {
   "cell_type": "markdown",
   "id": "cdc4c449",
   "metadata": {},
   "source": [
    "#### 1.3.2 - Understanding the uploaded dataset\n",
    "Now, let's take a look at our dataset to understand how the dataset is structured."
   ]
  },
  {
   "cell_type": "code",
   "execution_count": 4,
   "id": "2e700eb0",
   "metadata": {},
   "outputs": [
    {
     "data": {
      "text/html": [
       "<div>\n",
       "<style scoped>\n",
       "    .dataframe tbody tr th:only-of-type {\n",
       "        vertical-align: middle;\n",
       "    }\n",
       "\n",
       "    .dataframe tbody tr th {\n",
       "        vertical-align: top;\n",
       "    }\n",
       "\n",
       "    .dataframe thead th {\n",
       "        text-align: right;\n",
       "    }\n",
       "</style>\n",
       "<table border=\"1\" class=\"dataframe\">\n",
       "  <thead>\n",
       "    <tr style=\"text-align: right;\">\n",
       "      <th></th>\n",
       "      <th>name</th>\n",
       "      <th>id</th>\n",
       "      <th>tags</th>\n",
       "      <th>dtype</th>\n",
       "      <th>shape</th>\n",
       "    </tr>\n",
       "  </thead>\n",
       "  <tbody>\n",
       "    <tr>\n",
       "      <th>0</th>\n",
       "      <td>diabetes_data/data_02.csv</td>\n",
       "      <td>f20212bc-f435-46ab-b944-06a99dde9b7f</td>\n",
       "      <td>[#diabetes, #pima-indians-database, #data_02.csv]</td>\n",
       "      <td>Tensor</td>\n",
       "      <td>(200, 9)</td>\n",
       "    </tr>\n",
       "    <tr>\n",
       "      <th>1</th>\n",
       "      <td>diabetes_data/data_06.csv</td>\n",
       "      <td>055542f1-71d1-49ef-85a4-a9dd80e56591</td>\n",
       "      <td>[#diabetes, #pima-indians-database, #data_06.csv]</td>\n",
       "      <td>Tensor</td>\n",
       "      <td>(200, 9)</td>\n",
       "    </tr>\n",
       "    <tr>\n",
       "      <th>2</th>\n",
       "      <td>diabetes_data/data_10.csv</td>\n",
       "      <td>d6a59557-97d0-45cf-9821-36d25150f941</td>\n",
       "      <td>[#diabetes, #pima-indians-database, #data_10.csv]</td>\n",
       "      <td>Tensor</td>\n",
       "      <td>(1, 9)</td>\n",
       "    </tr>\n",
       "    <tr>\n",
       "      <th>3</th>\n",
       "      <td>diabetes_data/data_03.csv</td>\n",
       "      <td>caabb3c3-7b8d-471c-a9b9-84779933a39f</td>\n",
       "      <td>[#diabetes, #pima-indians-database, #data_03.csv]</td>\n",
       "      <td>Tensor</td>\n",
       "      <td>(200, 9)</td>\n",
       "    </tr>\n",
       "    <tr>\n",
       "      <th>4</th>\n",
       "      <td>diabetes_data/data_04.csv</td>\n",
       "      <td>d6f58579-da35-41a8-b3c9-09201543c2a2</td>\n",
       "      <td>[#diabetes, #pima-indians-database, #data_04.csv]</td>\n",
       "      <td>Tensor</td>\n",
       "      <td>(200, 9)</td>\n",
       "    </tr>\n",
       "    <tr>\n",
       "      <th>5</th>\n",
       "      <td>diabetes_data/data_07.csv</td>\n",
       "      <td>fc063944-ee58-4837-86ad-12dc850d400e</td>\n",
       "      <td>[#diabetes, #pima-indians-database, #data_07.csv]</td>\n",
       "      <td>Tensor</td>\n",
       "      <td>(200, 9)</td>\n",
       "    </tr>\n",
       "    <tr>\n",
       "      <th>6</th>\n",
       "      <td>diabetes_data/data_08.csv</td>\n",
       "      <td>8ee0067c-d9d6-449e-a0e5-630a6f6bc197</td>\n",
       "      <td>[#diabetes, #pima-indians-database, #data_08.csv]</td>\n",
       "      <td>Tensor</td>\n",
       "      <td>(200, 9)</td>\n",
       "    </tr>\n",
       "    <tr>\n",
       "      <th>7</th>\n",
       "      <td>diabetes_data/data_09.csv</td>\n",
       "      <td>2e4bdd7f-2779-47d3-8624-dee69001fee9</td>\n",
       "      <td>[#diabetes, #pima-indians-database, #data_09.csv]</td>\n",
       "      <td>Tensor</td>\n",
       "      <td>(200, 9)</td>\n",
       "    </tr>\n",
       "    <tr>\n",
       "      <th>8</th>\n",
       "      <td>diabetes_data/data_05.csv</td>\n",
       "      <td>a8f761ee-8c08-4e57-bf2a-bd600248d591</td>\n",
       "      <td>[#diabetes, #pima-indians-database, #data_05.csv]</td>\n",
       "      <td>Tensor</td>\n",
       "      <td>(200, 9)</td>\n",
       "    </tr>\n",
       "    <tr>\n",
       "      <th>9</th>\n",
       "      <td>diabetes_data/data_00.csv</td>\n",
       "      <td>22fe8ee8-b21d-4419-a85b-b5aa9f8d8266</td>\n",
       "      <td>[#diabetes, #pima-indians-database, #data_00.csv]</td>\n",
       "      <td>Tensor</td>\n",
       "      <td>(199, 9)</td>\n",
       "    </tr>\n",
       "    <tr>\n",
       "      <th>10</th>\n",
       "      <td>diabetes_data/data_01.csv</td>\n",
       "      <td>bdf186c7-1b89-4e78-83f3-e62271bffcdc</td>\n",
       "      <td>[#diabetes, #pima-indians-database, #data_01.csv]</td>\n",
       "      <td>Tensor</td>\n",
       "      <td>(200, 9)</td>\n",
       "    </tr>\n",
       "  </tbody>\n",
       "</table>\n",
       "</div>"
      ],
      "text/plain": [
       "                         name                                    id  \\\n",
       "0   diabetes_data/data_02.csv  f20212bc-f435-46ab-b944-06a99dde9b7f   \n",
       "1   diabetes_data/data_06.csv  055542f1-71d1-49ef-85a4-a9dd80e56591   \n",
       "2   diabetes_data/data_10.csv  d6a59557-97d0-45cf-9821-36d25150f941   \n",
       "3   diabetes_data/data_03.csv  caabb3c3-7b8d-471c-a9b9-84779933a39f   \n",
       "4   diabetes_data/data_04.csv  d6f58579-da35-41a8-b3c9-09201543c2a2   \n",
       "5   diabetes_data/data_07.csv  fc063944-ee58-4837-86ad-12dc850d400e   \n",
       "6   diabetes_data/data_08.csv  8ee0067c-d9d6-449e-a0e5-630a6f6bc197   \n",
       "7   diabetes_data/data_09.csv  2e4bdd7f-2779-47d3-8624-dee69001fee9   \n",
       "8   diabetes_data/data_05.csv  a8f761ee-8c08-4e57-bf2a-bd600248d591   \n",
       "9   diabetes_data/data_00.csv  22fe8ee8-b21d-4419-a85b-b5aa9f8d8266   \n",
       "10  diabetes_data/data_01.csv  bdf186c7-1b89-4e78-83f3-e62271bffcdc   \n",
       "\n",
       "                                                 tags   dtype     shape  \n",
       "0   [#diabetes, #pima-indians-database, #data_02.csv]  Tensor  (200, 9)  \n",
       "1   [#diabetes, #pima-indians-database, #data_06.csv]  Tensor  (200, 9)  \n",
       "2   [#diabetes, #pima-indians-database, #data_10.csv]  Tensor    (1, 9)  \n",
       "3   [#diabetes, #pima-indians-database, #data_03.csv]  Tensor  (200, 9)  \n",
       "4   [#diabetes, #pima-indians-database, #data_04.csv]  Tensor  (200, 9)  \n",
       "5   [#diabetes, #pima-indians-database, #data_07.csv]  Tensor  (200, 9)  \n",
       "6   [#diabetes, #pima-indians-database, #data_08.csv]  Tensor  (200, 9)  \n",
       "7   [#diabetes, #pima-indians-database, #data_09.csv]  Tensor  (200, 9)  \n",
       "8   [#diabetes, #pima-indians-database, #data_05.csv]  Tensor  (200, 9)  \n",
       "9   [#diabetes, #pima-indians-database, #data_00.csv]  Tensor  (199, 9)  \n",
       "10  [#diabetes, #pima-indians-database, #data_01.csv]  Tensor  (200, 9)  "
      ]
     },
     "execution_count": 4,
     "metadata": {},
     "output_type": "execute_result"
    }
   ],
   "source": [
    "dataset.pandas"
   ]
  },
  {
   "cell_type": "markdown",
   "id": "f2550cf1",
   "metadata": {},
   "source": [
    "Done! Now we have a dataset hosted and documented properly.From now on, data scientists and machine learning researchers will be able to search by this data just by querying one of these tags."
   ]
  },
  {
   "cell_type": "markdown",
   "id": "3523cfd3",
   "metadata": {},
   "source": [
    "## 2 - Run Remote Inferences as a Data Scientist\n",
    "\n",
    "Now, let's explore the **data scientist** perspective!<br><br>As a data scientist/machine learning researcher, we're insterested in use the private data to evaluate our models or even train a new one improving its accuracy. But since we can't access them directly we must follow several steps to run remote inferences using them.These steps are briefly described in the list below and will be covered during the next sections.\n",
    "\n",
    "- ***Train a model***: Train a model locally using the same features as the private dataset.\n",
    "- ***Create a private environment***: Ask for the domain to create a new worker instance to run our computations.\n",
    "- ***Load the private dataset***: Load the private dataset from the domain node to our private environment.\n",
    "- **Send your trained model**: Send our local pre-trained model trained our remote worker instance.\n",
    "- **Run model Inference**: Run remote inference, controlling both model and private datasets by using pointers."
   ]
  },
  {
   "cell_type": "markdown",
   "id": "e1ba866f",
   "metadata": {},
   "source": [
    "### 2.1 Connecting using  data scientist account credentials\n",
    "As a **data scientist**, we need to connect using the proper credentials."
   ]
  },
  {
   "cell_type": "code",
   "execution_count": 5,
   "id": "c38b01d1",
   "metadata": {},
   "outputs": [],
   "source": [
    "data_scientist = connect(\n",
    "    url=\"http://localhost:5000\", # Domain Address\n",
    "    credentials={\"email\":\"user@email.com\", \"password\":\"user2pwd\"},\n",
    "    conn_type= GridHTTPConnection,) # HTTP Connection Protocol"
   ]
  },
  {
   "cell_type": "markdown",
   "id": "635be0bb",
   "metadata": {},
   "source": [
    "**From now on, all the requests made by the data scientist will be sent by using the \"data_scientist\" grid client.**"
   ]
  },
  {
   "cell_type": "markdown",
   "id": "dcd4d090",
   "metadata": {},
   "source": [
    "### 2.2 Check for available datasets\n",
    "Since we still don't have a proper struct that points to the desired dataset, we need to check for available datasets by looking at the domain store."
   ]
  },
  {
   "cell_type": "code",
   "execution_count": 6,
   "id": "bf7f92b7",
   "metadata": {},
   "outputs": [
    {
     "data": {
      "text/html": [
       "<div>\n",
       "<style scoped>\n",
       "    .dataframe tbody tr th:only-of-type {\n",
       "        vertical-align: middle;\n",
       "    }\n",
       "\n",
       "    .dataframe tbody tr th {\n",
       "        vertical-align: top;\n",
       "    }\n",
       "\n",
       "    .dataframe thead th {\n",
       "        text-align: right;\n",
       "    }\n",
       "</style>\n",
       "<table border=\"1\" class=\"dataframe\">\n",
       "  <thead>\n",
       "    <tr style=\"text-align: right;\">\n",
       "      <th></th>\n",
       "      <th>id</th>\n",
       "      <th>manifest</th>\n",
       "      <th>description</th>\n",
       "      <th>tags</th>\n",
       "      <th>data</th>\n",
       "    </tr>\n",
       "  </thead>\n",
       "  <tbody>\n",
       "    <tr>\n",
       "      <th>0</th>\n",
       "      <td>46da3889-0dc1-47b8-9637-04ac01772581</td>\n",
       "      <td>This dataset is originally from the National I...</td>\n",
       "      <td>This dataset is originally from the National I...</td>\n",
       "      <td>[#diabetes, #pima-indians-database]</td>\n",
       "      <td>[{'name': 'diabetes_data/data_02.csv', 'id': '...</td>\n",
       "    </tr>\n",
       "  </tbody>\n",
       "</table>\n",
       "</div>"
      ],
      "text/plain": [
       "                                     id  \\\n",
       "0  46da3889-0dc1-47b8-9637-04ac01772581   \n",
       "\n",
       "                                            manifest  \\\n",
       "0  This dataset is originally from the National I...   \n",
       "\n",
       "                                         description  \\\n",
       "0  This dataset is originally from the National I...   \n",
       "\n",
       "                                  tags  \\\n",
       "0  [#diabetes, #pima-indians-database]   \n",
       "\n",
       "                                                data  \n",
       "0  [{'name': 'diabetes_data/data_02.csv', 'id': '...  "
      ]
     },
     "execution_count": 6,
     "metadata": {},
     "output_type": "execute_result"
    }
   ],
   "source": [
    "data_scientist.datasets.all(pandas=True)"
   ]
  },
  {
   "cell_type": "code",
   "execution_count": 7,
   "id": "77a707df",
   "metadata": {},
   "outputs": [],
   "source": [
    "dataset = data_scientist.datasets[\"46da3889-0dc1-47b8-9637-04ac01772581\"]"
   ]
  },
  {
   "cell_type": "markdown",
   "id": "ad9309ff",
   "metadata": {},
   "source": [
    "Now we have a structure that points to the same dataset uploaded by the data owner."
   ]
  },
  {
   "cell_type": "markdown",
   "id": "0bce3fe6",
   "metadata": {},
   "source": [
    "### 2.3 Checking the dataset metadata\n",
    "\n",
    "As a **data scientist**, have never seen this dataset before and we cannot access it directly. To understand how the data is structured and its purposes we need to use the documentation attached to them."
   ]
  },
  {
   "cell_type": "code",
   "execution_count": 8,
   "id": "77908491",
   "metadata": {},
   "outputs": [
    {
     "name": "stdout",
     "output_type": "stream",
     "text": [
      "This dataset is originally from the National Institute of Diabetes and Digestive and Kidney Diseases. The objective is to predict based on diagnostic measurements whether a patient has diabetes.\n",
      "\n",
      "Several constraints were placed on the selection of these instances from a larger database. In particular, all patients here are females at least 21 years old of Pima Indian heritage.\n",
      "\n",
      "Diabetes files consist of 8 fields per record.  Each field is\n",
      "separated by a comma and each record is separated by a newline.\n",
      "\n",
      "CSV Columns and format:\n",
      "(1) Pregnancies (Integer) : Number of times pregnant\n",
      "(2) Glucose (Integer) : Plasma glucose concentration a 2 hours in an oral glucose tolerance test\n",
      "(3) Blood Pressure (Integer) : Diastolic blood pressure (mm Hg)\n",
      "(4) Skin Thickness (Integer) : Triceps skin fold thickness (mm)\n",
      "(5) Insulin (Integer) : 2-Hour serum insulin (mu U/ml)\n",
      "(6) BMI (Float) : Body mass index (weight in kg/(height in m)^2)\n",
      "(6) Diabetes Pedigree (Float) : Diabetes Pedigree Function\n",
      "(7) Age (Integer): Patient's age (years)\n",
      "(8) Outcome (Integer): Class variable (0 or 1)\n",
      "\n"
     ]
    }
   ],
   "source": [
    "print(dataset.manifest)"
   ]
  },
  {
   "cell_type": "markdown",
   "id": "f5589146",
   "metadata": {},
   "source": [
    "Reading this manifest document, we can understand the meaning of each column and also get some information about its purposes."
   ]
  },
  {
   "cell_type": "markdown",
   "id": "6a2e624e",
   "metadata": {},
   "source": [
    "### 2.5 - Configuring a compute environment \n",
    "In order to perform remote computing we also need to create a custom and private environment. These environments are ephemeral, attached to your account and will be used by you to perform any computation intended. So, let's create a new environment!"
   ]
  },
  {
   "cell_type": "markdown",
   "id": "b3079c41",
   "metadata": {},
   "source": [
    "#### 2.5.1 - Check available instances\n",
    "Since we'll be creating a new Virtual Machine it's necessary to check what vm instances are available in our cloud service."
   ]
  },
  {
   "cell_type": "code",
   "execution_count": 9,
   "id": "b319fbfe",
   "metadata": {},
   "outputs": [],
   "source": [
    "#domain.workers.instance_type(pandas=True)"
   ]
  },
  {
   "cell_type": "markdown",
   "id": "173ad784",
   "metadata": {},
   "source": [
    "#### 2.5.2 - Create a new Virtual Machine\n",
    "Once we decided about our vm instance, we can request for the domain node to create one for us."
   ]
  },
  {
   "cell_type": "code",
   "execution_count": 10,
   "id": "200274fb",
   "metadata": {},
   "outputs": [
    {
     "name": "stderr",
     "output_type": "stream",
     "text": [
      "INFO:root:Worker created successfully!\n"
     ]
    }
   ],
   "source": [
    "data_scientist.workers.create(instance_type=\"t2.large\")"
   ]
  },
  {
   "cell_type": "markdown",
   "id": "14499c45",
   "metadata": {},
   "source": [
    "#### 2.5.3 - Checking my current environments\n",
    "We can also check if we have other environments created and their respective informations."
   ]
  },
  {
   "cell_type": "code",
   "execution_count": 11,
   "id": "cc75ef61",
   "metadata": {},
   "outputs": [
    {
     "data": {
      "text/html": [
       "<div>\n",
       "<style scoped>\n",
       "    .dataframe tbody tr th:only-of-type {\n",
       "        vertical-align: middle;\n",
       "    }\n",
       "\n",
       "    .dataframe tbody tr th {\n",
       "        vertical-align: top;\n",
       "    }\n",
       "\n",
       "    .dataframe thead th {\n",
       "        text-align: right;\n",
       "    }\n",
       "</style>\n",
       "<table border=\"1\" class=\"dataframe\">\n",
       "  <thead>\n",
       "    <tr style=\"text-align: right;\">\n",
       "      <th></th>\n",
       "      <th>id</th>\n",
       "      <th>state</th>\n",
       "      <th>provider</th>\n",
       "      <th>region</th>\n",
       "      <th>instance_type</th>\n",
       "      <th>address</th>\n",
       "      <th>created_at</th>\n",
       "      <th>destroyed_at</th>\n",
       "    </tr>\n",
       "  </thead>\n",
       "  <tbody>\n",
       "    <tr>\n",
       "      <th>0</th>\n",
       "      <td>1</td>\n",
       "      <td>2</td>\n",
       "      <td>Azure</td>\n",
       "      <td>sa-sao_paulo</td>\n",
       "      <td>local_instance</td>\n",
       "      <td>localhost:5001</td>\n",
       "      <td>2021-04-23 23:22:38.037624</td>\n",
       "      <td>2021-04-23 23:18:26.171166</td>\n",
       "    </tr>\n",
       "  </tbody>\n",
       "</table>\n",
       "</div>"
      ],
      "text/plain": [
       "   id  state provider        region   instance_type         address  \\\n",
       "0   1      2    Azure  sa-sao_paulo  local_instance  localhost:5001   \n",
       "\n",
       "                   created_at                destroyed_at  \n",
       "0  2021-04-23 23:22:38.037624  2021-04-23 23:18:26.171166  "
      ]
     },
     "execution_count": 11,
     "metadata": {},
     "output_type": "execute_result"
    }
   ],
   "source": [
    "data_scientist.workers.all(pandas=True)"
   ]
  },
  {
   "cell_type": "markdown",
   "id": "9d6c6fb5",
   "metadata": {},
   "source": [
    "#### 2.5.4 - Getting a environment proxy\n",
    "\n",
    "As mentioned above, these instances are different machines deployed in a cloud platform. Since they'll be carrying private data, you will not being able access or talk to them directly. So, in order to be able to send commands to, we'll be using client proxies. These proxies will be forwarding our messages to these machines through the domain.<br><br>In short: If we want to send a command to the domain itself we can do it by using our **data_scientist** client, if we want to send a proxy message for one of our private environments we can do it by using the **domain.workers[env_index]**"
   ]
  },
  {
   "cell_type": "code",
   "execution_count": 13,
   "id": "b3deb6ea",
   "metadata": {},
   "outputs": [],
   "source": [
    "worker = data_scientist.workers[1]"
   ]
  },
  {
   "cell_type": "code",
   "execution_count": 14,
   "id": "b86332a9",
   "metadata": {},
   "outputs": [
    {
     "name": "stdout",
     "output_type": "stream",
     "text": [
      "Worker provider:  Azure\n",
      "Worker provider:  2\n",
      "Worker provider:  sa-sao_paulo\n",
      "Worker provider:  local_instance\n",
      "Worker provider:  <Address - Domain:<SpecificLocation:..72a6f>>\n",
      "Worker provider:  2021-04-23 23:22:38.037624\n",
      "Worker provider:  2021-04-23 23:18:26.171166\n"
     ]
    }
   ],
   "source": [
    "print(\"Worker provider: \", worker.provider)\n",
    "print(\"Worker provider: \", worker.state) # 2 == active\n",
    "print(\"Worker provider: \", worker.region)\n",
    "print(\"Worker provider: \", worker.instance_type)\n",
    "print(\"Worker provider: \", worker.address) # Syft Logic Address, not the URI.\n",
    "print(\"Worker provider: \", worker.created_at)\n",
    "print(\"Worker provider: \", worker.destroyed_at)# if destroyed_at ~= current time, vm hasn't been destroyed yet"
   ]
  },
  {
   "cell_type": "markdown",
   "id": "865d13ee",
   "metadata": {},
   "source": [
    "#### 2.5.6 - Load the private dataset\n",
    "\n",
    "Ok, now we have the environment defined, the question is: how do we manage to send the data stored in the domain to these environments without accessing them? The answer is: **_data_scientist.load_**.<br><br>\n",
    "\n",
    "This method will make the domain send an specific data to our own environment. In our use case scenario, we want to use the diabetes datasets uploaded by the data_scientist."
   ]
  },
  {
   "cell_type": "code",
   "execution_count": 15,
   "id": "890e5fc3",
   "metadata": {},
   "outputs": [
    {
     "name": "stdout",
     "output_type": "stream",
     "text": [
      "Dataset Name:  diabetes_data/data_02.csv\n",
      "Dataset Shape:  (200, 9)\n",
      "Dataset Type:  Tensor\n",
      "Dataset Pointer:  <syft.proxy.torch.TensorPointer object at 0x7f5456cdb9a0>\n"
     ]
    }
   ],
   "source": [
    "print( \"Dataset Name: \", dataset.files[0].name )\n",
    "print( \"Dataset Shape: \", dataset.files[0].shape )\n",
    "print( \"Dataset Type: \", dataset.files[0].dtype )\n",
    "print( \"Dataset Pointer: \", dataset.files[0].pointer )"
   ]
  },
  {
   "cell_type": "code",
   "execution_count": 16,
   "id": "2af7e42e",
   "metadata": {},
   "outputs": [],
   "source": [
    "data_scientist.load(dataset.files[0].pointer, worker.address)"
   ]
  },
  {
   "cell_type": "markdown",
   "id": "b3c75f39",
   "metadata": {},
   "source": [
    "#### 2.5.7 Checking your environment store\n",
    "Now we want to check if the data arrived in our environment. We can do it by checking the environment store."
   ]
  },
  {
   "cell_type": "code",
   "execution_count": 17,
   "id": "7ff0d2ac",
   "metadata": {},
   "outputs": [
    {
     "data": {
      "text/html": [
       "<div>\n",
       "<style scoped>\n",
       "    .dataframe tbody tr th:only-of-type {\n",
       "        vertical-align: middle;\n",
       "    }\n",
       "\n",
       "    .dataframe tbody tr th {\n",
       "        vertical-align: top;\n",
       "    }\n",
       "\n",
       "    .dataframe thead th {\n",
       "        text-align: right;\n",
       "    }\n",
       "</style>\n",
       "<table border=\"1\" class=\"dataframe\">\n",
       "  <thead>\n",
       "    <tr style=\"text-align: right;\">\n",
       "      <th></th>\n",
       "      <th>ID</th>\n",
       "      <th>Tags</th>\n",
       "      <th>Description</th>\n",
       "      <th>object_type</th>\n",
       "    </tr>\n",
       "  </thead>\n",
       "  <tbody>\n",
       "    <tr>\n",
       "      <th>0</th>\n",
       "      <td>&lt;UID: 82fab1db68244b31b55a282482c9c683&gt;</td>\n",
       "      <td>[#diabetes, #pima-indians-database, #data_02.csv]</td>\n",
       "      <td></td>\n",
       "      <td>&lt;class 'torch.Tensor'&gt;</td>\n",
       "    </tr>\n",
       "  </tbody>\n",
       "</table>\n",
       "</div>"
      ],
      "text/plain": [
       "                                        ID  \\\n",
       "0  <UID: 82fab1db68244b31b55a282482c9c683>   \n",
       "\n",
       "                                                Tags Description  \\\n",
       "0  [#diabetes, #pima-indians-database, #data_02.csv]               \n",
       "\n",
       "              object_type  \n",
       "0  <class 'torch.Tensor'>  "
      ]
     },
     "execution_count": 17,
     "metadata": {},
     "output_type": "execute_result"
    }
   ],
   "source": [
    "worker.store.pandas"
   ]
  },
  {
   "cell_type": "markdown",
   "id": "3355900b",
   "metadata": {},
   "source": [
    "#### 2.5.8 - Performing remote computations using remote data.\n",
    "\n",
    "The data we sent has (200, 9) as its dimensions, but according to the manifest document, the last column does not represent a feature, but the labels of the dataset. To be able to run inferences properly, we must first remove this column. <br> <br> The cool thing about this step is: **once we're in our private environment, we can compute this using the same code as if we had this data stored locally!**"
   ]
  },
  {
   "cell_type": "code",
   "execution_count": 18,
   "id": "c0c59b96",
   "metadata": {},
   "outputs": [],
   "source": [
    "sliced_dataset = worker.store[0][0:,0:8] # These slices consider all the rows and excludes the last column"
   ]
  },
  {
   "cell_type": "markdown",
   "id": "7f7d7514",
   "metadata": {},
   "source": [
    "As you can see, remote operations will generate new pointers  as a result"
   ]
  },
  {
   "cell_type": "code",
   "execution_count": 19,
   "id": "9fed9d29",
   "metadata": {},
   "outputs": [
    {
     "data": {
      "text/plain": [
       "<syft.proxy.torch.TensorPointer at 0x7f5456d69340>"
      ]
     },
     "execution_count": 19,
     "metadata": {},
     "output_type": "execute_result"
    }
   ],
   "source": [
    "sliced_dataset"
   ]
  },
  {
   "cell_type": "markdown",
   "id": "7dd6e68a",
   "metadata": {},
   "source": [
    "## 3 - Train a model and run remote inferences\n",
    "Ok, now we have remote environment prepared to perform computations using a private dataset. It's time to train our custom model locally using our own data.<br>"
   ]
  },
  {
   "cell_type": "markdown",
   "id": "a7f1b8d3",
   "metadata": {},
   "source": [
    "### 3.1 - Train a local model\n",
    "_PS: The training process has been implemented in a different source file since this isn't the focus of this notebook, but feel free to check it out later._"
   ]
  },
  {
   "cell_type": "code",
   "execution_count": 20,
   "id": "1625018b",
   "metadata": {},
   "outputs": [
    {
     "name": "stdout",
     "output_type": "stream",
     "text": [
      "epoch 0\tloss : 0.661741316318512\t accuracy : 0.6605\n",
      "epoch 50\tloss : 0.4892537295818329\t accuracy : 0.7825\n",
      "epoch 100\tloss : 0.49179765582084656\t accuracy : 0.7875\n",
      "epoch 150\tloss : 0.4829869568347931\t accuracy : 0.789\n",
      "epoch 200\tloss : 0.47383350133895874\t accuracy : 0.799\n",
      "epoch 250\tloss : 0.46235257387161255\t accuracy : 0.8075\n"
     ]
    },
    {
     "data": {
      "image/png": "[encoded data removed]",
      "text/plain": [
       "<Figure size 432x288 with 1 Axes>"
      ]
     },
     "metadata": {
      "needs_background": "light"
     },
     "output_type": "display_data"
    }
   ],
   "source": [
    "from diabetes_model_training import train_diabetes_model, plot_training_acc\n",
    "model, loss, acc, epochs_list = train_diabetes_model(th)\n",
    "plot_training_acc(acc, loss, epochs_list)"
   ]
  },
  {
   "cell_type": "markdown",
   "id": "d8b30299",
   "metadata": {},
   "source": [
    "### 3.2 - Send the model to the environment\n",
    "Cool! Now we set the private environment properly, we trained our custom model using our own data. But our local model is still ... local.<br><p>To send it to our environment we'll be using the **_send_** method, if you are familiar with the PySyft API you probably know that the _send_ is commonly used to send a local data to a remote node.<br>The difference here is: The worker is client proxy, so instead of sending it directly, we're sending it through the domain. Therefore, unlike the datasets who remains on the domain node, this model will not be saved there."
   ]
  },
  {
   "cell_type": "code",
   "execution_count": 21,
   "id": "e823993b",
   "metadata": {},
   "outputs": [],
   "source": [
    "remote_model = model.send(worker)"
   ]
  },
  {
   "cell_type": "code",
   "execution_count": 22,
   "id": "5199921a",
   "metadata": {},
   "outputs": [
    {
     "data": {
      "text/plain": [
       "<diabetes_model_training.set_model_opt_loss.<locals>.SyNet at 0x7f5456d69070>"
      ]
     },
     "execution_count": 22,
     "metadata": {},
     "output_type": "execute_result"
    }
   ],
   "source": [
    "remote_model"
   ]
  },
  {
   "cell_type": "markdown",
   "id": "66632303",
   "metadata": {},
   "source": [
    "### 3.3 - Run Model Inference\n",
    "***__Finally!__*** If you were able to reach this point you did everything right! Congratulations!<br><br> Now, to run inference using our remote model and dataset we just need to use their respective pointers."
   ]
  },
  {
   "cell_type": "code",
   "execution_count": 23,
   "id": "e53913e6",
   "metadata": {},
   "outputs": [],
   "source": [
    "inference_result = remote_model(sliced_dataset)"
   ]
  },
  {
   "cell_type": "code",
   "execution_count": 24,
   "id": "12ed2211",
   "metadata": {},
   "outputs": [
    {
     "data": {
      "text/plain": [
       "<syft.proxy.torch.TensorPointer at 0x7f54566b1be0>"
      ]
     },
     "execution_count": 24,
     "metadata": {},
     "output_type": "execute_result"
    }
   ],
   "source": [
    "inference_result"
   ]
  },
  {
   "cell_type": "markdown",
   "id": "0c057bb4",
   "metadata": {},
   "source": [
    "## 4 - Retrieving the computation results\n",
    "Now we have the inference result in our virtual machine, but we want to get its real values. To acomplish this, we must follow several steps:<br>\n",
    "\n",
    "- **Save inference result**: Transfer the result value from the private environments to the domain.\n",
    "- **Delete the worker instance**: Delete the worker instance deployed to create the environment.\n",
    "- **Request data access**: In order to be able to get the results, we need to ask for get permission for the data owner.\n",
    "- **Data triage**: The data owner who hosted the dataset, will receive data access request and inspect it allowing or denying its access.\n",
    "- **Retrieve the inference result**: If the data owner approves the result retrieval, we can now recover it from the domain."
   ]
  },
  {
   "cell_type": "markdown",
   "id": "50e4db18",
   "metadata": {},
   "source": [
    "### 4.1 - Saving the inference result\n",
    "Since our environments are ephemeral and we can't recover any data directly from them, we need to send it back to the domain node."
   ]
  },
  {
   "cell_type": "code",
   "execution_count": 25,
   "id": "ba058d81",
   "metadata": {},
   "outputs": [],
   "source": [
    "worker.save(inference_result)"
   ]
  },
  {
   "cell_type": "markdown",
   "id": "a6a31b88",
   "metadata": {},
   "source": [
    "We can check if the inference result has arrived by checking the domain store"
   ]
  },
  {
   "cell_type": "code",
   "execution_count": 26,
   "id": "37a56cd2",
   "metadata": {},
   "outputs": [
    {
     "data": {
      "text/html": [
       "<div>\n",
       "<style scoped>\n",
       "    .dataframe tbody tr th:only-of-type {\n",
       "        vertical-align: middle;\n",
       "    }\n",
       "\n",
       "    .dataframe tbody tr th {\n",
       "        vertical-align: top;\n",
       "    }\n",
       "\n",
       "    .dataframe thead th {\n",
       "        text-align: right;\n",
       "    }\n",
       "</style>\n",
       "<table border=\"1\" class=\"dataframe\">\n",
       "  <thead>\n",
       "    <tr style=\"text-align: right;\">\n",
       "      <th></th>\n",
       "      <th>ID</th>\n",
       "      <th>Tags</th>\n",
       "      <th>Description</th>\n",
       "      <th>object_type</th>\n",
       "    </tr>\n",
       "  </thead>\n",
       "  <tbody>\n",
       "    <tr>\n",
       "      <th>0</th>\n",
       "      <td>&lt;UID: 055542f171d149ef85a4a9dd80e56591&gt;</td>\n",
       "      <td>[#diabetes, #pima-indians-database, #data_06.csv]</td>\n",
       "      <td></td>\n",
       "      <td>&lt;class 'torch.Tensor'&gt;</td>\n",
       "    </tr>\n",
       "    <tr>\n",
       "      <th>1</th>\n",
       "      <td>&lt;UID: 22fe8ee8b21d4419a85bb5aa9f8d8266&gt;</td>\n",
       "      <td>[#diabetes, #pima-indians-database, #data_00.csv]</td>\n",
       "      <td></td>\n",
       "      <td>&lt;class 'torch.Tensor'&gt;</td>\n",
       "    </tr>\n",
       "    <tr>\n",
       "      <th>2</th>\n",
       "      <td>&lt;UID: 2e4bdd7f277947d38624dee69001fee9&gt;</td>\n",
       "      <td>[#diabetes, #pima-indians-database, #data_09.csv]</td>\n",
       "      <td></td>\n",
       "      <td>&lt;class 'torch.Tensor'&gt;</td>\n",
       "    </tr>\n",
       "    <tr>\n",
       "      <th>3</th>\n",
       "      <td>&lt;UID: 8ee0067cd9d6449ea0e5630a6f6bc197&gt;</td>\n",
       "      <td>[#diabetes, #pima-indians-database, #data_08.csv]</td>\n",
       "      <td></td>\n",
       "      <td>&lt;class 'torch.Tensor'&gt;</td>\n",
       "    </tr>\n",
       "    <tr>\n",
       "      <th>4</th>\n",
       "      <td>&lt;UID: a8f761ee8c084e57bf2abd600248d591&gt;</td>\n",
       "      <td>[#diabetes, #pima-indians-database, #data_05.csv]</td>\n",
       "      <td></td>\n",
       "      <td>&lt;class 'torch.Tensor'&gt;</td>\n",
       "    </tr>\n",
       "    <tr>\n",
       "      <th>5</th>\n",
       "      <td>&lt;UID: bdf186c71b894e7883f3e62271bffcdc&gt;</td>\n",
       "      <td>[#diabetes, #pima-indians-database, #data_01.csv]</td>\n",
       "      <td></td>\n",
       "      <td>&lt;class 'torch.Tensor'&gt;</td>\n",
       "    </tr>\n",
       "    <tr>\n",
       "      <th>6</th>\n",
       "      <td>&lt;UID: ca722a6370e549928338a05917f827e8&gt;</td>\n",
       "      <td>[#diabetes, #pima-indians-database, #data_02.c...</td>\n",
       "      <td></td>\n",
       "      <td>&lt;class 'torch.Tensor'&gt;</td>\n",
       "    </tr>\n",
       "    <tr>\n",
       "      <th>7</th>\n",
       "      <td>&lt;UID: caabb3c37b8d471ca9b984779933a39f&gt;</td>\n",
       "      <td>[#diabetes, #pima-indians-database, #data_03.csv]</td>\n",
       "      <td></td>\n",
       "      <td>&lt;class 'torch.Tensor'&gt;</td>\n",
       "    </tr>\n",
       "    <tr>\n",
       "      <th>8</th>\n",
       "      <td>&lt;UID: d6a5955797d045cf982136d25150f941&gt;</td>\n",
       "      <td>[#diabetes, #pima-indians-database, #data_10.csv]</td>\n",
       "      <td></td>\n",
       "      <td>&lt;class 'torch.Tensor'&gt;</td>\n",
       "    </tr>\n",
       "    <tr>\n",
       "      <th>9</th>\n",
       "      <td>&lt;UID: d6f58579da3541a8b3c909201543c2a2&gt;</td>\n",
       "      <td>[#diabetes, #pima-indians-database, #data_04.csv]</td>\n",
       "      <td></td>\n",
       "      <td>&lt;class 'torch.Tensor'&gt;</td>\n",
       "    </tr>\n",
       "    <tr>\n",
       "      <th>10</th>\n",
       "      <td>&lt;UID: f20212bcf43546abb94406a99dde9b7f&gt;</td>\n",
       "      <td>[#diabetes, #pima-indians-database, #data_02.csv]</td>\n",
       "      <td></td>\n",
       "      <td>&lt;class 'torch.Tensor'&gt;</td>\n",
       "    </tr>\n",
       "    <tr>\n",
       "      <th>11</th>\n",
       "      <td>&lt;UID: fc063944ee58483786ad12dc850d400e&gt;</td>\n",
       "      <td>[#diabetes, #pima-indians-database, #data_07.csv]</td>\n",
       "      <td></td>\n",
       "      <td>&lt;class 'torch.Tensor'&gt;</td>\n",
       "    </tr>\n",
       "  </tbody>\n",
       "</table>\n",
       "</div>"
      ],
      "text/plain": [
       "                                         ID  \\\n",
       "0   <UID: 055542f171d149ef85a4a9dd80e56591>   \n",
       "1   <UID: 22fe8ee8b21d4419a85bb5aa9f8d8266>   \n",
       "2   <UID: 2e4bdd7f277947d38624dee69001fee9>   \n",
       "3   <UID: 8ee0067cd9d6449ea0e5630a6f6bc197>   \n",
       "4   <UID: a8f761ee8c084e57bf2abd600248d591>   \n",
       "5   <UID: bdf186c71b894e7883f3e62271bffcdc>   \n",
       "6   <UID: ca722a6370e549928338a05917f827e8>   \n",
       "7   <UID: caabb3c37b8d471ca9b984779933a39f>   \n",
       "8   <UID: d6a5955797d045cf982136d25150f941>   \n",
       "9   <UID: d6f58579da3541a8b3c909201543c2a2>   \n",
       "10  <UID: f20212bcf43546abb94406a99dde9b7f>   \n",
       "11  <UID: fc063944ee58483786ad12dc850d400e>   \n",
       "\n",
       "                                                 Tags Description  \\\n",
       "0   [#diabetes, #pima-indians-database, #data_06.csv]               \n",
       "1   [#diabetes, #pima-indians-database, #data_00.csv]               \n",
       "2   [#diabetes, #pima-indians-database, #data_09.csv]               \n",
       "3   [#diabetes, #pima-indians-database, #data_08.csv]               \n",
       "4   [#diabetes, #pima-indians-database, #data_05.csv]               \n",
       "5   [#diabetes, #pima-indians-database, #data_01.csv]               \n",
       "6   [#diabetes, #pima-indians-database, #data_02.c...               \n",
       "7   [#diabetes, #pima-indians-database, #data_03.csv]               \n",
       "8   [#diabetes, #pima-indians-database, #data_10.csv]               \n",
       "9   [#diabetes, #pima-indians-database, #data_04.csv]               \n",
       "10  [#diabetes, #pima-indians-database, #data_02.csv]               \n",
       "11  [#diabetes, #pima-indians-database, #data_07.csv]               \n",
       "\n",
       "               object_type  \n",
       "0   <class 'torch.Tensor'>  \n",
       "1   <class 'torch.Tensor'>  \n",
       "2   <class 'torch.Tensor'>  \n",
       "3   <class 'torch.Tensor'>  \n",
       "4   <class 'torch.Tensor'>  \n",
       "5   <class 'torch.Tensor'>  \n",
       "6   <class 'torch.Tensor'>  \n",
       "7   <class 'torch.Tensor'>  \n",
       "8   <class 'torch.Tensor'>  \n",
       "9   <class 'torch.Tensor'>  \n",
       "10  <class 'torch.Tensor'>  \n",
       "11  <class 'torch.Tensor'>  "
      ]
     },
     "execution_count": 26,
     "metadata": {},
     "output_type": "execute_result"
    }
   ],
   "source": [
    "data_scientist.store.pandas"
   ]
  },
  {
   "cell_type": "markdown",
   "id": "fcbf970d",
   "metadata": {},
   "source": [
    "### 4.2 - Delete Environment\n",
    "Since the computing environment will not be used anymore, we can delete it."
   ]
  },
  {
   "cell_type": "code",
   "execution_count": 27,
   "id": "f9dc27a9",
   "metadata": {},
   "outputs": [],
   "source": [
    "del data_scientist.worker[1] # del worker  != del data_scientist.worker[1]"
   ]
  },
  {
   "cell_type": "markdown",
   "id": "b3ded54f",
   "metadata": {},
   "source": [
    "Check if its state has been changed"
   ]
  },
  {
   "cell_type": "code",
   "execution_count": 28,
   "id": "999014ec",
   "metadata": {},
   "outputs": [
    {
     "data": {
      "text/html": [
       "<div>\n",
       "<style scoped>\n",
       "    .dataframe tbody tr th:only-of-type {\n",
       "        vertical-align: middle;\n",
       "    }\n",
       "\n",
       "    .dataframe tbody tr th {\n",
       "        vertical-align: top;\n",
       "    }\n",
       "\n",
       "    .dataframe thead th {\n",
       "        text-align: right;\n",
       "    }\n",
       "</style>\n",
       "<table border=\"1\" class=\"dataframe\">\n",
       "  <thead>\n",
       "    <tr style=\"text-align: right;\">\n",
       "      <th></th>\n",
       "      <th>id</th>\n",
       "      <th>state</th>\n",
       "      <th>provider</th>\n",
       "      <th>region</th>\n",
       "      <th>instance_type</th>\n",
       "      <th>address</th>\n",
       "      <th>created_at</th>\n",
       "      <th>destroyed_at</th>\n",
       "    </tr>\n",
       "  </thead>\n",
       "  <tbody>\n",
       "    <tr>\n",
       "      <th>0</th>\n",
       "      <td>1</td>\n",
       "      <td>2</td>\n",
       "      <td>Azure</td>\n",
       "      <td>sa-sao_paulo</td>\n",
       "      <td>local_instance</td>\n",
       "      <td>localhost:5001</td>\n",
       "      <td>2021-04-23 23:22:38.037624</td>\n",
       "      <td>2021-04-23 23:18:26.171166</td>\n",
       "    </tr>\n",
       "  </tbody>\n",
       "</table>\n",
       "</div>"
      ],
      "text/plain": [
       "   id  state provider        region   instance_type         address  \\\n",
       "0   1      2    Azure  sa-sao_paulo  local_instance  localhost:5001   \n",
       "\n",
       "                   created_at                destroyed_at  \n",
       "0  2021-04-23 23:22:38.037624  2021-04-23 23:18:26.171166  "
      ]
     },
     "execution_count": 28,
     "metadata": {},
     "output_type": "execute_result"
    }
   ],
   "source": [
    "data_scientist.workers.all(pandas=True)"
   ]
  },
  {
   "cell_type": "markdown",
   "id": "4dec2a0b",
   "metadata": {},
   "source": [
    "### 4.2 - Data access request\n",
    "\n",
    "We can make a data access request by using our data pointer stored in the domain"
   ]
  },
  {
   "cell_type": "code",
   "execution_count": 29,
   "id": "e2fdc961",
   "metadata": {},
   "outputs": [],
   "source": [
    "data_scientist.store[\"ca722a6370e549928338a05917f827e8\"].request(reason=\"I'd like to have my model inference result.\")"
   ]
  },
  {
   "cell_type": "markdown",
   "id": "d91ac8b5",
   "metadata": {},
   "source": [
    "### 4.3 - Data triage\n",
    "Now, it's up to the data owner to evaluate the request, allowing or denying it."
   ]
  },
  {
   "cell_type": "code",
   "execution_count": 30,
   "id": "5cd36a75",
   "metadata": {},
   "outputs": [
    {
     "data": {
      "text/html": [
       "<div>\n",
       "<style scoped>\n",
       "    .dataframe tbody tr th:only-of-type {\n",
       "        vertical-align: middle;\n",
       "    }\n",
       "\n",
       "    .dataframe tbody tr th {\n",
       "        vertical-align: top;\n",
       "    }\n",
       "\n",
       "    .dataframe thead th {\n",
       "        text-align: right;\n",
       "    }\n",
       "</style>\n",
       "<table border=\"1\" class=\"dataframe\">\n",
       "  <thead>\n",
       "    <tr style=\"text-align: right;\">\n",
       "      <th></th>\n",
       "      <th>Requested Object's tags</th>\n",
       "      <th>Reason</th>\n",
       "      <th>Request ID</th>\n",
       "      <th>Requested Object's ID</th>\n",
       "      <th>Requested Object's type</th>\n",
       "    </tr>\n",
       "  </thead>\n",
       "  <tbody>\n",
       "    <tr>\n",
       "      <th>0</th>\n",
       "      <td>[#diabetes, #pima-indians-database, #data_02.c...</td>\n",
       "      <td>I'd like to have my model inference result.</td>\n",
       "      <td>&lt;UID: 751eb51444a3429e8d7b126f38f9a05c&gt;</td>\n",
       "      <td>&lt;UID: ca722a6370e549928338a05917f827e8&gt;</td>\n",
       "      <td>&lt;class 'torch.Tensor'&gt;</td>\n",
       "    </tr>\n",
       "  </tbody>\n",
       "</table>\n",
       "</div>"
      ],
      "text/plain": [
       "                             Requested Object's tags  \\\n",
       "0  [#diabetes, #pima-indians-database, #data_02.c...   \n",
       "\n",
       "                                        Reason  \\\n",
       "0  I'd like to have my model inference result.   \n",
       "\n",
       "                                Request ID  \\\n",
       "0  <UID: 751eb51444a3429e8d7b126f38f9a05c>   \n",
       "\n",
       "                     Requested Object's ID Requested Object's type  \n",
       "0  <UID: ca722a6370e549928338a05917f827e8>  <class 'torch.Tensor'>  "
      ]
     },
     "execution_count": 30,
     "metadata": {},
     "output_type": "execute_result"
    }
   ],
   "source": [
    "data_owner.requests.pandas"
   ]
  },
  {
   "cell_type": "markdown",
   "id": "5ed8e8d2",
   "metadata": {},
   "source": [
    "A data access request can be accepted/denied by using the request pointer"
   ]
  },
  {
   "cell_type": "code",
   "execution_count": 31,
   "id": "4fc459f1",
   "metadata": {},
   "outputs": [],
   "source": [
    "data_owner.requests[0].accept()"
   ]
  },
  {
   "cell_type": "markdown",
   "id": "5a6f78fd",
   "metadata": {},
   "source": [
    "### 4.5 - Retrieving the inference result\n",
    "Finally, we can retrieve the original values of the inference result."
   ]
  },
  {
   "cell_type": "code",
   "execution_count": 32,
   "id": "61dea951",
   "metadata": {},
   "outputs": [
    {
     "data": {
      "text/plain": [
       "tensor([[1.],\n",
       "        [1.],\n",
       "        [1.],\n",
       "        [1.],\n",
       "        [1.],\n",
       "        [1.],\n",
       "        [1.],\n",
       "        [1.],\n",
       "        [1.],\n",
       "        [1.],\n",
       "        [1.],\n",
       "        [1.],\n",
       "        [1.],\n",
       "        [1.],\n",
       "        [1.],\n",
       "        [1.],\n",
       "        [1.],\n",
       "        [1.],\n",
       "        [1.],\n",
       "        [1.],\n",
       "        [1.],\n",
       "        [1.],\n",
       "        [1.],\n",
       "        [1.],\n",
       "        [1.],\n",
       "        [1.],\n",
       "        [1.],\n",
       "        [1.],\n",
       "        [1.],\n",
       "        [1.],\n",
       "        [1.],\n",
       "        [1.],\n",
       "        [1.],\n",
       "        [1.],\n",
       "        [1.],\n",
       "        [1.],\n",
       "        [1.],\n",
       "        [1.],\n",
       "        [1.],\n",
       "        [1.],\n",
       "        [1.],\n",
       "        [1.],\n",
       "        [1.],\n",
       "        [1.],\n",
       "        [1.],\n",
       "        [1.],\n",
       "        [1.],\n",
       "        [1.],\n",
       "        [1.],\n",
       "        [1.],\n",
       "        [1.],\n",
       "        [1.],\n",
       "        [1.],\n",
       "        [1.],\n",
       "        [1.],\n",
       "        [1.],\n",
       "        [1.],\n",
       "        [1.],\n",
       "        [1.],\n",
       "        [1.],\n",
       "        [1.],\n",
       "        [1.],\n",
       "        [1.],\n",
       "        [1.],\n",
       "        [1.],\n",
       "        [1.],\n",
       "        [1.],\n",
       "        [1.],\n",
       "        [1.],\n",
       "        [1.],\n",
       "        [1.],\n",
       "        [1.],\n",
       "        [1.],\n",
       "        [1.],\n",
       "        [1.],\n",
       "        [1.],\n",
       "        [1.],\n",
       "        [1.],\n",
       "        [1.],\n",
       "        [1.],\n",
       "        [1.],\n",
       "        [1.],\n",
       "        [1.],\n",
       "        [1.],\n",
       "        [1.],\n",
       "        [1.],\n",
       "        [1.],\n",
       "        [1.],\n",
       "        [1.],\n",
       "        [1.],\n",
       "        [1.],\n",
       "        [1.],\n",
       "        [1.],\n",
       "        [1.],\n",
       "        [1.],\n",
       "        [1.],\n",
       "        [1.],\n",
       "        [1.],\n",
       "        [1.],\n",
       "        [1.],\n",
       "        [1.],\n",
       "        [1.],\n",
       "        [1.],\n",
       "        [1.],\n",
       "        [1.],\n",
       "        [1.],\n",
       "        [1.],\n",
       "        [1.],\n",
       "        [1.],\n",
       "        [1.],\n",
       "        [1.],\n",
       "        [1.],\n",
       "        [1.],\n",
       "        [1.],\n",
       "        [1.],\n",
       "        [1.],\n",
       "        [1.],\n",
       "        [1.],\n",
       "        [1.],\n",
       "        [1.],\n",
       "        [1.],\n",
       "        [1.],\n",
       "        [1.],\n",
       "        [1.],\n",
       "        [1.],\n",
       "        [1.],\n",
       "        [1.],\n",
       "        [1.],\n",
       "        [1.],\n",
       "        [1.],\n",
       "        [1.],\n",
       "        [1.],\n",
       "        [1.],\n",
       "        [1.],\n",
       "        [1.],\n",
       "        [1.],\n",
       "        [1.],\n",
       "        [1.],\n",
       "        [1.],\n",
       "        [1.],\n",
       "        [1.],\n",
       "        [1.],\n",
       "        [1.],\n",
       "        [1.],\n",
       "        [1.],\n",
       "        [1.],\n",
       "        [1.],\n",
       "        [1.],\n",
       "        [1.],\n",
       "        [1.],\n",
       "        [1.],\n",
       "        [1.],\n",
       "        [1.],\n",
       "        [1.],\n",
       "        [1.],\n",
       "        [1.],\n",
       "        [1.],\n",
       "        [1.],\n",
       "        [1.],\n",
       "        [1.],\n",
       "        [1.],\n",
       "        [1.],\n",
       "        [1.],\n",
       "        [1.],\n",
       "        [1.],\n",
       "        [1.],\n",
       "        [1.],\n",
       "        [1.],\n",
       "        [1.],\n",
       "        [1.],\n",
       "        [1.],\n",
       "        [1.],\n",
       "        [1.],\n",
       "        [1.],\n",
       "        [1.],\n",
       "        [1.],\n",
       "        [1.],\n",
       "        [1.],\n",
       "        [1.],\n",
       "        [1.],\n",
       "        [1.],\n",
       "        [1.],\n",
       "        [1.],\n",
       "        [1.],\n",
       "        [1.],\n",
       "        [1.],\n",
       "        [1.],\n",
       "        [1.],\n",
       "        [1.],\n",
       "        [1.],\n",
       "        [1.],\n",
       "        [1.],\n",
       "        [1.],\n",
       "        [1.],\n",
       "        [1.],\n",
       "        [1.],\n",
       "        [1.],\n",
       "        [1.],\n",
       "        [1.],\n",
       "        [1.]], requires_grad=True)"
      ]
     },
     "execution_count": 32,
     "metadata": {},
     "output_type": "execute_result"
    }
   ],
   "source": [
    "data_scientist.store[\"ca722a6370e549928338a05917f827e8\"].get()"
   ]
  },
  {
   "cell_type": "markdown",
   "id": "4d003345",
   "metadata": {},
   "source": [
    "## Congratulations!!! - Time to Join the Community!\n",
    "\n",
    "Congratulations on completing this notebook tutorial! If you enjoyed this and would like to join the movement toward privacy preserving, decentralized ownership of AI and the AI supply chain (data), you can do so in the following ways!\n",
    "\n",
    "### Star PySyft and SyMPC on GitHub\n",
    "The easiest way to help our community is just by starring the GitHub repos! This helps raise awareness of the cool tools we're building.\n",
    "\n",
    "* [Star PySyft](https://github.com/OpenMined/PySyft)\n",
    "* [Star PyGrid](https://github.com/OpenMined/PyGrid)\n",
    "\n",
    "### Join our Slack!\n",
    "The best way to keep up to date on the latest advancements is to join our community! You can do so by filling out the form at http://slack.openmined.org\n",
    "\n",
    "### Join a Code Project!\n",
    "The best way to contribute to our community is to become a code contributor! At any time you can go to PySyft GitHub Issues page and filter for \"Projects\". This will show you all the top level Tickets giving an overview of what projects you can join! If you don't want to join a project, but you would like to do a bit of coding, you can also look for more \"one off\" mini-projects by searching for GitHub issues marked \"good first issue\".\n",
    "\n",
    "* [PySyft Good First Issue Tickets](https://github.com/OpenMined/PySyft/labels/Good%20first%20issue%20%3Amortar_board%3A)\n",
    "* [PyGrid Good First Issue Tickets](https://github.com/OpenMined/PyGrid/labels/good%20first%20issue)\n",
    "\n",
    "### Donate\n",
    "If you don't have time to contribute to our codebase, but would still like to lend support, you can also become a Backer on our Open Collective. All donations go toward our web hosting and other community expenses such as hackathons and meetups!\n",
    "\n",
    "* [OpenMined's Open Collective Page](https://opencollective.com/openmined)"
   ]
  }
 ],
 "metadata": {
  "kernelspec": {
   "display_name": "Python 3",
   "language": "python",
   "name": "python3"
  },
  "language_info": {
   "codemirror_mode": {
    "name": "ipython",
    "version": 3
   },
   "file_extension": ".py",
   "mimetype": "text/x-python",
   "name": "python",
   "nbconvert_exporter": "python",
   "pygments_lexer": "ipython3",
   "version": "3.8.5"
  }
 },
 "nbformat": 4,
 "nbformat_minor": 5
}
