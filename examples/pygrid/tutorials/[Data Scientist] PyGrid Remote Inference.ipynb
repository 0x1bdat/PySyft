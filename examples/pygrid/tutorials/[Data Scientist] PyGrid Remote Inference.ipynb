{
 "cells": [
  {
   "cell_type": "markdown",
   "id": "dd0200d4",
   "metadata": {},
   "source": [
    "# PyGrid: Remote Inference (Data Scientist)"
   ]
  },
  {
   "cell_type": "markdown",
   "id": "4277a1e3",
   "metadata": {},
   "source": [
    "<img src=\"../../../docs/img/pygrid_logo.png\" align=\"center\"/>\n",
    "\n",
    "Evaluate custom models using private datasets without having access to them is a powerfull resource that can change the way we interact with data during a machine learning workflow, PySyft and PyGrid offers the ability to run inferences remotely by using a variety of technologies and applications.\n",
    "\n",
    "In this notebook series, we'll be covering all the nuances of this process, showing how to send private datasets _(as data owner)_, and how to perform remote computation using private environments _(as data scientist)_.<br><br>The main goal of these notebooks is to explore different techniques and technologies that can turn **private data _\"accessible\"_ while also empower data owners with total control of their own data.**\n",
    "\n",
    "\n",
    "**NOTE**: _This notebook was designed to be executed in pair with the [\\[Data Owner\\] PyGrid Remote Inference](http://github.com/OpenMined). In order to reproduce it properly, follow the checkpoints and instructions described in the next sections._"
   ]
  },
  {
   "cell_type": "markdown",
   "id": "3300b7b3",
   "metadata": {},
   "source": [
    "### Overview\n",
    "\n",
    "- [**Creating User accounts**](#creating-user-accounts)\n",
    "- [**Remote Datasets**](#create-a-compliance-officer-account)\n",
    "- [**Train a local model**]()\n",
    "- [**PyGrid workers**](#setting-computing-environment)\n",
    "- [**Remote inference**](#remote-inference)\n",
    "- [**## Data retrieval + Differencial Privacy**](#data-access-request)"
   ]
  },
  {
   "cell_type": "markdown",
   "id": "473ca1f0",
   "metadata": {},
   "source": [
    "## Creating User accounts"
   ]
  },
  {
   "cell_type": "markdown",
   "id": "6f88538d",
   "metadata": {},
   "source": [
    "#### Import libs"
   ]
  },
  {
   "cell_type": "code",
   "execution_count": 3,
   "id": "247f4467",
   "metadata": {},
   "outputs": [],
   "source": [
    "from syft.grid.client.client import connect # Method used to connect with the node.\n",
    "from syft.grid.client.grid_connection import GridHTTPConnection # Protocol used to talk with the node\n",
    "\n",
    "import syft as sy\n",
    "import torch as th\n",
    "\n",
    "# Set logging level\n",
    "import logging\n",
    "logging.basicConfig(level=logging.INFO)\n",
    "\n",
    "import pydp\n",
    "sy.load('pydp')"
   ]
  },
  {
   "cell_type": "markdown",
   "id": "e4f776d3",
   "metadata": {},
   "source": [
    "#### Create User account\n",
    "In this scenario, we're assuming that the data scientist will start from scratch."
   ]
  },
  {
   "cell_type": "code",
   "execution_count": 4,
   "id": "ecc1cfd1",
   "metadata": {},
   "outputs": [
    {
     "name": "stderr",
     "output_type": "stream",
     "text": [
      "INFO:root:User created successfully!\n"
     ]
    }
   ],
   "source": [
    "# Since we still don't have our own account,\n",
    "# we can connect with the domain without credentials.\n",
    "unauthenticated_client = connect(\n",
    "    url=\"http://localhost:5000\", # Domain Address\n",
    "    conn_type=GridHTTPConnection,) # HTTP Connection Protocol\n",
    "\n",
    "unauthenticated_client.users.create(email=\"datascientist@openmined.org\", password=\"pwd123\")\n",
    "\n",
    "# Now we can finally log-in using our credentials.\n",
    "domain_client = connect(\n",
    "    url=\"http://localhost:5000\", # Domain Address\n",
    "    credentials={\"email\":\"datascientist@openmined.org\", \"password\":\"pwd123\"},\n",
    "    conn_type=GridHTTPConnection,) # HTTP Connection Protocol"
   ]
  },
  {
   "cell_type": "markdown",
   "id": "c54fda53",
   "metadata": {},
   "source": [
    "Done! We have an User account!"
   ]
  },
  {
   "cell_type": "markdown",
   "id": "f0dbc053",
   "metadata": {},
   "source": [
    "## Remote Datasets"
   ]
  },
  {
   "cell_type": "markdown",
   "id": "5a0b66e5",
   "metadata": {},
   "source": [
    "### Checking for available datasets\n",
    "Now, let's take a look at the domain repository."
   ]
  },
  {
   "cell_type": "code",
   "execution_count": 5,
   "id": "6decbe76",
   "metadata": {},
   "outputs": [
    {
     "data": {
      "text/html": [
       "<div>\n",
       "<style scoped>\n",
       "    .dataframe tbody tr th:only-of-type {\n",
       "        vertical-align: middle;\n",
       "    }\n",
       "\n",
       "    .dataframe tbody tr th {\n",
       "        vertical-align: top;\n",
       "    }\n",
       "\n",
       "    .dataframe thead th {\n",
       "        text-align: right;\n",
       "    }\n",
       "</style>\n",
       "<table border=\"1\" class=\"dataframe\">\n",
       "  <thead>\n",
       "    <tr style=\"text-align: right;\">\n",
       "      <th></th>\n",
       "      <th>id</th>\n",
       "      <th>manifest</th>\n",
       "      <th>description</th>\n",
       "      <th>tags</th>\n",
       "      <th>data</th>\n",
       "    </tr>\n",
       "  </thead>\n",
       "  <tbody>\n",
       "    <tr>\n",
       "      <th>0</th>\n",
       "      <td>d6a5178b-3b51-4396-81f6-4dabc3f9e86a</td>\n",
       "      <td>This dataset is originally from the National I...</td>\n",
       "      <td>This dataset is originally from the National I...</td>\n",
       "      <td>[#diabetes, #pima-indians-database]</td>\n",
       "      <td>[{'name': 'diabetes-data/data_02.csv', 'id': '...</td>\n",
       "    </tr>\n",
       "  </tbody>\n",
       "</table>\n",
       "</div>"
      ],
      "text/plain": [
       "                                     id  \\\n",
       "0  d6a5178b-3b51-4396-81f6-4dabc3f9e86a   \n",
       "\n",
       "                                            manifest  \\\n",
       "0  This dataset is originally from the National I...   \n",
       "\n",
       "                                         description  \\\n",
       "0  This dataset is originally from the National I...   \n",
       "\n",
       "                                  tags  \\\n",
       "0  [#diabetes, #pima-indians-database]   \n",
       "\n",
       "                                                data  \n",
       "0  [{'name': 'diabetes-data/data_02.csv', 'id': '...  "
      ]
     },
     "execution_count": 5,
     "metadata": {},
     "output_type": "execute_result"
    }
   ],
   "source": [
    "domain_client.datasets.all(pandas=True)"
   ]
  },
  {
   "cell_type": "code",
   "execution_count": 6,
   "id": "6fb5b963",
   "metadata": {},
   "outputs": [],
   "source": [
    "remote_dataset = domain_client.datasets[\"d6a5178b-3b51-4396-81f6-4dabc3f9e86a\"]"
   ]
  },
  {
   "cell_type": "markdown",
   "id": "97d76194",
   "metadata": {},
   "source": [
    "As we can see, we have a dataset available to be used. Datasets are robust grid structures that were designed to point to several remote data, obeying the structure of those who created it,  they can represent csv files, images, or even the abstraction of train/test datasets. In this example, we'll be covering a dataset composed by different CSV files _(although, they are no longer being stored in their original structure (CSV file) inside of the domain)_."
   ]
  },
  {
   "cell_type": "markdown",
   "id": "aceb4dae",
   "metadata": {},
   "source": [
    "### Exploring the metadata\n",
    "As you probably know, we can't have access to the real values of the dataset. It's private and remote! However, we can explore its metadata information in order to understand how the data has been organized."
   ]
  },
  {
   "cell_type": "markdown",
   "id": "4296386c",
   "metadata": {},
   "source": [
    "#### Manifest\n",
    "Dataset manifest is a document commonly used to describe the data meaning. Here, we expect to know the meaning of each column, their object types and the purpose of the dataset."
   ]
  },
  {
   "cell_type": "code",
   "execution_count": 7,
   "id": "679058d1",
   "metadata": {},
   "outputs": [
    {
     "name": "stdout",
     "output_type": "stream",
     "text": [
      "This dataset is originally from the National Institute of Diabetes and Digestive and Kidney Diseases. The objective is to predict based on diagnostic measurements whether a patient has diabetes.\n",
      "\n",
      "Several constraints were placed on the selection of these instances from a larger database. In particular, all patients here are females at least 21 years old of Pima Indian heritage.\n",
      "\n",
      "Diabetes files consist of 8 fields per record.  Each field is\n",
      "separated by a comma and each record is separated by a newline.\n",
      "\n",
      "CSV Columns and format:\n",
      "(1) Pregnancies (Integer) : Number of times pregnant\n",
      "(2) Glucose (Integer) : Plasma glucose concentration a 2 hours in an oral glucose tolerance test\n",
      "(3) Blood Pressure (Integer) : Diastolic blood pressure (mm Hg)\n",
      "(4) Skin Thickness (Integer) : Triceps skin fold thickness (mm)\n",
      "(5) Insulin (Integer) : 2-Hour serum insulin (mu U/ml)\n",
      "(6) BMI (Float) : Body mass index (weight in kg/(height in m)^2)\n",
      "(6) Diabetes Pedigree (Float) : Diabetes Pedigree Function\n",
      "(7) Age (Integer): Patient's age (years)\n",
      "(8) Outcome (Integer): Class variable (0 or 1)\n",
      "\n"
     ]
    }
   ],
   "source": [
    "print(remote_dataset.manifest)"
   ]
  },
  {
   "cell_type": "markdown",
   "id": "4c0341df",
   "metadata": {},
   "source": [
    "#### Tags\n",
    "Commonly used to give an overview about the data."
   ]
  },
  {
   "cell_type": "code",
   "execution_count": 8,
   "id": "3c4d7497",
   "metadata": {},
   "outputs": [
    {
     "data": {
      "text/plain": [
       "['#diabetes', '#pima-indians-database']"
      ]
     },
     "execution_count": 8,
     "metadata": {},
     "output_type": "execute_result"
    }
   ],
   "source": [
    "remote_dataset.tags"
   ]
  },
  {
   "cell_type": "markdown",
   "id": "70316e03",
   "metadata": {},
   "source": [
    "#### Dataset Pandas\n",
    "Used to understand how the dataset pointers are organized, what's their types, shape and name."
   ]
  },
  {
   "cell_type": "code",
   "execution_count": 9,
   "id": "074947d1",
   "metadata": {},
   "outputs": [
    {
     "data": {
      "text/html": [
       "<div>\n",
       "<style scoped>\n",
       "    .dataframe tbody tr th:only-of-type {\n",
       "        vertical-align: middle;\n",
       "    }\n",
       "\n",
       "    .dataframe tbody tr th {\n",
       "        vertical-align: top;\n",
       "    }\n",
       "\n",
       "    .dataframe thead th {\n",
       "        text-align: right;\n",
       "    }\n",
       "</style>\n",
       "<table border=\"1\" class=\"dataframe\">\n",
       "  <thead>\n",
       "    <tr style=\"text-align: right;\">\n",
       "      <th></th>\n",
       "      <th>name</th>\n",
       "      <th>id</th>\n",
       "      <th>dtype</th>\n",
       "      <th>shape</th>\n",
       "    </tr>\n",
       "  </thead>\n",
       "  <tbody>\n",
       "    <tr>\n",
       "      <th>0</th>\n",
       "      <td>diabetes-data/data_02.csv</td>\n",
       "      <td>3d82e9a3-72b2-4b0c-8b6b-3fd33158eae7</td>\n",
       "      <td>Tensor</td>\n",
       "      <td>(200, 9)</td>\n",
       "    </tr>\n",
       "    <tr>\n",
       "      <th>1</th>\n",
       "      <td>diabetes-data/data_06.csv</td>\n",
       "      <td>ba1d1e5c-7f60-4f01-8a21-cfc57811923b</td>\n",
       "      <td>Tensor</td>\n",
       "      <td>(200, 9)</td>\n",
       "    </tr>\n",
       "    <tr>\n",
       "      <th>2</th>\n",
       "      <td>diabetes-data/data_10.csv</td>\n",
       "      <td>34964199-d7e7-4f2a-be63-6d8385276f93</td>\n",
       "      <td>Tensor</td>\n",
       "      <td>(200, 9)</td>\n",
       "    </tr>\n",
       "    <tr>\n",
       "      <th>3</th>\n",
       "      <td>diabetes-data/data_03.csv</td>\n",
       "      <td>a9d518a9-8607-44a1-a7a8-baf472880b76</td>\n",
       "      <td>Tensor</td>\n",
       "      <td>(200, 9)</td>\n",
       "    </tr>\n",
       "    <tr>\n",
       "      <th>4</th>\n",
       "      <td>diabetes-data/data_04.csv</td>\n",
       "      <td>795a5b38-3ca9-4613-b61d-fe61308a02c7</td>\n",
       "      <td>Tensor</td>\n",
       "      <td>(200, 9)</td>\n",
       "    </tr>\n",
       "    <tr>\n",
       "      <th>5</th>\n",
       "      <td>diabetes-data/new_data.csv</td>\n",
       "      <td>d4d29f93-546c-4574-92f0-845eedd95537</td>\n",
       "      <td>Tensor</td>\n",
       "      <td>(2000, 9)</td>\n",
       "    </tr>\n",
       "    <tr>\n",
       "      <th>6</th>\n",
       "      <td>diabetes-data/data_07.csv</td>\n",
       "      <td>6fe12119-47c5-418a-8d0d-cb4d7b5c4b6e</td>\n",
       "      <td>Tensor</td>\n",
       "      <td>(200, 9)</td>\n",
       "    </tr>\n",
       "    <tr>\n",
       "      <th>7</th>\n",
       "      <td>diabetes-data/data_08.csv</td>\n",
       "      <td>ff42eea7-31f6-491d-898d-5c98e1bc8be6</td>\n",
       "      <td>Tensor</td>\n",
       "      <td>(200, 9)</td>\n",
       "    </tr>\n",
       "    <tr>\n",
       "      <th>8</th>\n",
       "      <td>diabetes-data/data_09.csv</td>\n",
       "      <td>36219d2c-dd27-45c4-8916-7a682039c4b2</td>\n",
       "      <td>Tensor</td>\n",
       "      <td>(200, 9)</td>\n",
       "    </tr>\n",
       "    <tr>\n",
       "      <th>9</th>\n",
       "      <td>diabetes-data/data_05.csv</td>\n",
       "      <td>700422e3-4045-4276-8989-b6fb122e7217</td>\n",
       "      <td>Tensor</td>\n",
       "      <td>(200, 9)</td>\n",
       "    </tr>\n",
       "    <tr>\n",
       "      <th>10</th>\n",
       "      <td>diabetes-data/data_01.csv</td>\n",
       "      <td>6372f553-bda0-4783-997b-58a4828d073f</td>\n",
       "      <td>Tensor</td>\n",
       "      <td>(200, 9)</td>\n",
       "    </tr>\n",
       "  </tbody>\n",
       "</table>\n",
       "</div>"
      ],
      "text/plain": [
       "                          name                                    id   dtype  \\\n",
       "0    diabetes-data/data_02.csv  3d82e9a3-72b2-4b0c-8b6b-3fd33158eae7  Tensor   \n",
       "1    diabetes-data/data_06.csv  ba1d1e5c-7f60-4f01-8a21-cfc57811923b  Tensor   \n",
       "2    diabetes-data/data_10.csv  34964199-d7e7-4f2a-be63-6d8385276f93  Tensor   \n",
       "3    diabetes-data/data_03.csv  a9d518a9-8607-44a1-a7a8-baf472880b76  Tensor   \n",
       "4    diabetes-data/data_04.csv  795a5b38-3ca9-4613-b61d-fe61308a02c7  Tensor   \n",
       "5   diabetes-data/new_data.csv  d4d29f93-546c-4574-92f0-845eedd95537  Tensor   \n",
       "6    diabetes-data/data_07.csv  6fe12119-47c5-418a-8d0d-cb4d7b5c4b6e  Tensor   \n",
       "7    diabetes-data/data_08.csv  ff42eea7-31f6-491d-898d-5c98e1bc8be6  Tensor   \n",
       "8    diabetes-data/data_09.csv  36219d2c-dd27-45c4-8916-7a682039c4b2  Tensor   \n",
       "9    diabetes-data/data_05.csv  700422e3-4045-4276-8989-b6fb122e7217  Tensor   \n",
       "10   diabetes-data/data_01.csv  6372f553-bda0-4783-997b-58a4828d073f  Tensor   \n",
       "\n",
       "        shape  \n",
       "0    (200, 9)  \n",
       "1    (200, 9)  \n",
       "2    (200, 9)  \n",
       "3    (200, 9)  \n",
       "4    (200, 9)  \n",
       "5   (2000, 9)  \n",
       "6    (200, 9)  \n",
       "7    (200, 9)  \n",
       "8    (200, 9)  \n",
       "9    (200, 9)  \n",
       "10   (200, 9)  "
      ]
     },
     "execution_count": 9,
     "metadata": {},
     "output_type": "execute_result"
    }
   ],
   "source": [
    "remote_dataset.pandas"
   ]
  },
  {
   "cell_type": "markdown",
   "id": "7e74030e",
   "metadata": {},
   "source": [
    "\n",
    "_PS: At the time this notebook has been written, the domain node was only supporting compressed \"tar.gz\" files  as a dataset. Contact the author of this article to find out the current status of this feature._"
   ]
  },
  {
   "cell_type": "markdown",
   "id": "039a1a79",
   "metadata": {},
   "source": [
    "## Train a local model"
   ]
  },
  {
   "cell_type": "code",
   "execution_count": 10,
   "id": "89060fa8",
   "metadata": {},
   "outputs": [
    {
     "name": "stdout",
     "output_type": "stream",
     "text": [
      "epoch 0\tloss : 0.6849080920219421\t accuracy : 0.478\n",
      "epoch 50\tloss : 0.5150519013404846\t accuracy : 0.782\n",
      "epoch 100\tloss : 0.5086103081703186\t accuracy : 0.797\n",
      "epoch 150\tloss : 0.4930099546909332\t accuracy : 0.8025\n",
      "epoch 200\tloss : 0.4753744304180145\t accuracy : 0.814\n",
      "epoch 250\tloss : 0.46173909306526184\t accuracy : 0.8205\n"
     ]
    },
    {
     "data": {
      "image/png": "[encoded data removed]",
      "text/plain": [
       "<Figure size 432x288 with 1 Axes>"
      ]
     },
     "metadata": {
      "needs_background": "light"
     },
     "output_type": "display_data"
    }
   ],
   "source": [
    "from diabetes_model_training import train_diabetes_model, plot_training_acc\n",
    "model, loss, acc, epochs_list = train_diabetes_model(th)\n",
    "plot_training_acc(acc, loss, epochs_list)"
   ]
  },
  {
   "cell_type": "markdown",
   "id": "8c2e0219",
   "metadata": {},
   "source": [
    "## PyGrid workers\n",
    "\n",
    "PyGrid aims to provide a custom and private environment for the users to perform their computation. That way, the user is empowered to choose their computing resources. We're currently supporting Azure, GCP and Amazon. In this notebook we'll be using Azure as a cloud platform since it provides an additional secure layer based in a Trusted Execution Environment (TEE). That way, the data owner can protect his data from the user and also from the infrastructure where the node lives."
   ]
  },
  {
   "cell_type": "markdown",
   "id": "db52fda1",
   "metadata": {},
   "source": [
    "#### Get Instance type\n",
    "First, we need to know what instances are available to be deployed."
   ]
  },
  {
   "cell_type": "code",
   "execution_count": null,
   "id": "1202b61d",
   "metadata": {},
   "outputs": [],
   "source": [
    "domain_client.workers.instance_type(pandas=True)"
   ]
  },
  {
   "cell_type": "markdown",
   "id": "bb9bafd0",
   "metadata": {},
   "source": [
    "#### Create a worker\n",
    "Once we decided about the vm instance, we can request for the domain node to create one for us."
   ]
  },
  {
   "cell_type": "code",
   "execution_count": 11,
   "id": "44fb7cc5",
   "metadata": {},
   "outputs": [
    {
     "name": "stderr",
     "output_type": "stream",
     "text": [
      "INFO:root:Worker created successfully!\n"
     ]
    },
    {
     "data": {
      "text/html": [
       "<div>\n",
       "<style scoped>\n",
       "    .dataframe tbody tr th:only-of-type {\n",
       "        vertical-align: middle;\n",
       "    }\n",
       "\n",
       "    .dataframe tbody tr th {\n",
       "        vertical-align: top;\n",
       "    }\n",
       "\n",
       "    .dataframe thead th {\n",
       "        text-align: right;\n",
       "    }\n",
       "</style>\n",
       "<table border=\"1\" class=\"dataframe\">\n",
       "  <thead>\n",
       "    <tr style=\"text-align: right;\">\n",
       "      <th></th>\n",
       "      <th>id</th>\n",
       "      <th>state</th>\n",
       "      <th>provider</th>\n",
       "      <th>region</th>\n",
       "      <th>instance_type</th>\n",
       "      <th>address</th>\n",
       "      <th>created_at</th>\n",
       "      <th>destroyed_at</th>\n",
       "    </tr>\n",
       "  </thead>\n",
       "  <tbody>\n",
       "    <tr>\n",
       "      <th>0</th>\n",
       "      <td>1</td>\n",
       "      <td>2</td>\n",
       "      <td>Azure</td>\n",
       "      <td>sa-sao_paulo</td>\n",
       "      <td>local_instance</td>\n",
       "      <td>localhost:5001</td>\n",
       "      <td>2021-04-25 09:27:05.341740</td>\n",
       "      <td>2021-04-25 09:24:30.994666</td>\n",
       "    </tr>\n",
       "  </tbody>\n",
       "</table>\n",
       "</div>"
      ],
      "text/plain": [
       "   id  state provider        region   instance_type         address  \\\n",
       "0   1      2    Azure  sa-sao_paulo  local_instance  localhost:5001   \n",
       "\n",
       "                   created_at                destroyed_at  \n",
       "0  2021-04-25 09:27:05.341740  2021-04-25 09:24:30.994666  "
      ]
     },
     "execution_count": 11,
     "metadata": {},
     "output_type": "execute_result"
    }
   ],
   "source": [
    "domain_client.workers.create(instance_type=\"t2.large\")\n",
    "domain_client.workers.all(pandas=True)"
   ]
  },
  {
   "cell_type": "markdown",
   "id": "2f29ab24",
   "metadata": {},
   "source": [
    "Then, with the worker deployed, we can get a proxy client which will be used to send messages to the environment through the domain."
   ]
  },
  {
   "cell_type": "code",
   "execution_count": 12,
   "id": "d920cd7c",
   "metadata": {},
   "outputs": [
    {
     "name": "stdout",
     "output_type": "stream",
     "text": [
      "Worker Provider:  Azure\n",
      "Worker Instance Type:  local_instance\n",
      "Worker Region: sa-sao_paulo\n",
      "Worker Syft (Logic) Address <Address - Domain:<SpecificLocation:..65b8c>>\n"
     ]
    }
   ],
   "source": [
    "worker = domain_client.workers[1]\n",
    "print(\"Worker Provider: \", worker.provider)\n",
    "print(\"Worker Instance Type: \", worker.instance_type)\n",
    "print(\"Worker Region:\", worker.region)\n",
    "print(\"Worker Syft (Logic) Address\", worker.address)"
   ]
  },
  {
   "cell_type": "markdown",
   "id": "d2977b30",
   "metadata": {},
   "source": [
    "#### Loading private dataset\n",
    "Ok, now we have the worker able to perform remote computation, but it's still empty. In order to transfer private datasets and tensors we must use the _load_ method. This method will get a pointer of an object that lives in the domain, and send it to our worker."
   ]
  },
  {
   "cell_type": "code",
   "execution_count": 13,
   "id": "bf288f9e",
   "metadata": {},
   "outputs": [
    {
     "name": "stdout",
     "output_type": "stream",
     "text": [
      "Dataset Name:  diabetes-data/data_02.csv\n",
      "Dataset Shape:  (200, 9)\n",
      "Dataset Type:  Tensor\n",
      "Dataset Pointer:  <syft.proxy.torch.TensorPointer object at 0x7fe95ebc1640>\n"
     ]
    },
    {
     "data": {
      "text/html": [
       "<div>\n",
       "<style scoped>\n",
       "    .dataframe tbody tr th:only-of-type {\n",
       "        vertical-align: middle;\n",
       "    }\n",
       "\n",
       "    .dataframe tbody tr th {\n",
       "        vertical-align: top;\n",
       "    }\n",
       "\n",
       "    .dataframe thead th {\n",
       "        text-align: right;\n",
       "    }\n",
       "</style>\n",
       "<table border=\"1\" class=\"dataframe\">\n",
       "  <thead>\n",
       "    <tr style=\"text-align: right;\">\n",
       "      <th></th>\n",
       "      <th>ID</th>\n",
       "      <th>Tags</th>\n",
       "      <th>Description</th>\n",
       "      <th>object_type</th>\n",
       "    </tr>\n",
       "  </thead>\n",
       "  <tbody>\n",
       "    <tr>\n",
       "      <th>0</th>\n",
       "      <td>&lt;UID: f36b94d1d93d406ca5428ac24a6d70bc&gt;</td>\n",
       "      <td>[#diabetes, #pima-indians-database, #data_02.csv]</td>\n",
       "      <td></td>\n",
       "      <td>&lt;class 'torch.Tensor'&gt;</td>\n",
       "    </tr>\n",
       "  </tbody>\n",
       "</table>\n",
       "</div>"
      ],
      "text/plain": [
       "                                        ID  \\\n",
       "0  <UID: f36b94d1d93d406ca5428ac24a6d70bc>   \n",
       "\n",
       "                                                Tags Description  \\\n",
       "0  [#diabetes, #pima-indians-database, #data_02.csv]               \n",
       "\n",
       "              object_type  \n",
       "0  <class 'torch.Tensor'>  "
      ]
     },
     "execution_count": 13,
     "metadata": {},
     "output_type": "execute_result"
    }
   ],
   "source": [
    "# 1 - Let's choose one of those dataset pointers to be our data sample during the remote inference\n",
    "private_data_sample = remote_dataset.files[0]\n",
    "print( \"Dataset Name: \", private_data_sample.name )\n",
    "print( \"Dataset Shape: \", private_data_sample.shape )\n",
    "print( \"Dataset Type: \", private_data_sample.dtype )\n",
    "print( \"Dataset Pointer: \", private_data_sample.pointer )\n",
    "\n",
    "# 2 - Then we can load it from the domain node to our own node.\n",
    "domain_client.load(private_data_sample.pointer, worker.address)\n",
    "\n",
    "# 3 - Finally, we can see the data inside the worker store\n",
    "worker.store.pandas"
   ]
  },
  {
   "cell_type": "markdown",
   "id": "564c4356",
   "metadata": {},
   "source": [
    "#### Loading a model\n",
    "Let's do the same thing with our model trained locally."
   ]
  },
  {
   "cell_type": "code",
   "execution_count": 14,
   "id": "44205812",
   "metadata": {},
   "outputs": [],
   "source": [
    "# PS: Since we're transfering the model from our own machine to our Virtual Machine\n",
    "# we'll be using \"send\" instead of load\n",
    "remote_model = model.send(worker)"
   ]
  },
  {
   "cell_type": "markdown",
   "id": "c095363d",
   "metadata": {},
   "source": [
    "## Remote Inference\n",
    "**Finally!** We have everything ready! "
   ]
  },
  {
   "cell_type": "markdown",
   "id": "6a541082",
   "metadata": {},
   "source": [
    "#### Running inference"
   ]
  },
  {
   "cell_type": "code",
   "execution_count": 15,
   "id": "70fdf8b3",
   "metadata": {},
   "outputs": [],
   "source": [
    "# Spliting the private data set into features and labels\n",
    "feature = worker.store[0][0:,0:8]\n",
    "labels = worker.store[0][0:,8]\n",
    "\n",
    "predicted = remote_model(feature)"
   ]
  },
  {
   "cell_type": "markdown",
   "id": "b3d2b6bd",
   "metadata": {},
   "source": [
    "#### Computing accuracy\n",
    "Now, we need to compare the predicted results with the private dataset labels."
   ]
  },
  {
   "cell_type": "code",
   "execution_count": 16,
   "id": "4ef221e9",
   "metadata": {},
   "outputs": [],
   "source": [
    "acc =  (predicted.reshape(-1).round() == labels).int().tolist()"
   ]
  },
  {
   "cell_type": "markdown",
   "id": "8fd26afb",
   "metadata": {},
   "source": [
    "#### Saving the results\n",
    "Before deleting our ephemeral instance we must save the result of our computation. We can do it by using the _save_ command. This command will send a data from our worker to the domain."
   ]
  },
  {
   "cell_type": "code",
   "execution_count": 17,
   "id": "d74c954f",
   "metadata": {},
   "outputs": [],
   "source": [
    "# 1 - Sending from worker to domain\n",
    "worker.save(acc)\n",
    "\n",
    "# 2 - Deleting our Virtual Machine\n",
    "del domain_client.workers[1]"
   ]
  },
  {
   "cell_type": "markdown",
   "id": "30301a1b",
   "metadata": {},
   "source": [
    "## Data retrieval + Differencial Privacy\n",
    "The last step is to request the compliance officer for data access permissions. To increase the data security we'll be adding a small noise on our result by using Differential Privacy techniques."
   ]
  },
  {
   "cell_type": "code",
   "execution_count": 18,
   "id": "0394fa72",
   "metadata": {},
   "outputs": [
    {
     "data": {
      "text/html": [
       "<div>\n",
       "<style scoped>\n",
       "    .dataframe tbody tr th:only-of-type {\n",
       "        vertical-align: middle;\n",
       "    }\n",
       "\n",
       "    .dataframe tbody tr th {\n",
       "        vertical-align: top;\n",
       "    }\n",
       "\n",
       "    .dataframe thead th {\n",
       "        text-align: right;\n",
       "    }\n",
       "</style>\n",
       "<table border=\"1\" class=\"dataframe\">\n",
       "  <thead>\n",
       "    <tr style=\"text-align: right;\">\n",
       "      <th></th>\n",
       "      <th>ID</th>\n",
       "      <th>Tags</th>\n",
       "      <th>Description</th>\n",
       "      <th>object_type</th>\n",
       "    </tr>\n",
       "  </thead>\n",
       "  <tbody>\n",
       "    <tr>\n",
       "      <th>0</th>\n",
       "      <td>&lt;UID: 3d82e9a372b24b0c8b6b3fd33158eae7&gt;</td>\n",
       "      <td>[#diabetes, #pima-indians-database, #data_02.csv]</td>\n",
       "      <td></td>\n",
       "      <td>&lt;class 'torch.Tensor'&gt;</td>\n",
       "    </tr>\n",
       "    <tr>\n",
       "      <th>1</th>\n",
       "      <td>&lt;UID: ba1d1e5c7f604f018a21cfc57811923b&gt;</td>\n",
       "      <td>[#diabetes, #pima-indians-database, #data_06.csv]</td>\n",
       "      <td></td>\n",
       "      <td>&lt;class 'torch.Tensor'&gt;</td>\n",
       "    </tr>\n",
       "    <tr>\n",
       "      <th>2</th>\n",
       "      <td>&lt;UID: 34964199d7e74f2abe636d8385276f93&gt;</td>\n",
       "      <td>[#diabetes, #pima-indians-database, #data_10.csv]</td>\n",
       "      <td></td>\n",
       "      <td>&lt;class 'torch.Tensor'&gt;</td>\n",
       "    </tr>\n",
       "    <tr>\n",
       "      <th>3</th>\n",
       "      <td>&lt;UID: a9d518a9860744a1a7a8baf472880b76&gt;</td>\n",
       "      <td>[#diabetes, #pima-indians-database, #data_03.csv]</td>\n",
       "      <td></td>\n",
       "      <td>&lt;class 'torch.Tensor'&gt;</td>\n",
       "    </tr>\n",
       "    <tr>\n",
       "      <th>4</th>\n",
       "      <td>&lt;UID: 795a5b383ca94613b61dfe61308a02c7&gt;</td>\n",
       "      <td>[#diabetes, #pima-indians-database, #data_04.csv]</td>\n",
       "      <td></td>\n",
       "      <td>&lt;class 'torch.Tensor'&gt;</td>\n",
       "    </tr>\n",
       "    <tr>\n",
       "      <th>5</th>\n",
       "      <td>&lt;UID: d4d29f93546c457492f0845eedd95537&gt;</td>\n",
       "      <td>[#diabetes, #pima-indians-database, #new_data....</td>\n",
       "      <td></td>\n",
       "      <td>&lt;class 'torch.Tensor'&gt;</td>\n",
       "    </tr>\n",
       "    <tr>\n",
       "      <th>6</th>\n",
       "      <td>&lt;UID: 6fe1211947c5418a8d0dcb4d7b5c4b6e&gt;</td>\n",
       "      <td>[#diabetes, #pima-indians-database, #data_07.csv]</td>\n",
       "      <td></td>\n",
       "      <td>&lt;class 'torch.Tensor'&gt;</td>\n",
       "    </tr>\n",
       "    <tr>\n",
       "      <th>7</th>\n",
       "      <td>&lt;UID: ff42eea731f6491d898d5c98e1bc8be6&gt;</td>\n",
       "      <td>[#diabetes, #pima-indians-database, #data_08.csv]</td>\n",
       "      <td></td>\n",
       "      <td>&lt;class 'torch.Tensor'&gt;</td>\n",
       "    </tr>\n",
       "    <tr>\n",
       "      <th>8</th>\n",
       "      <td>&lt;UID: 36219d2cdd2745c489167a682039c4b2&gt;</td>\n",
       "      <td>[#diabetes, #pima-indians-database, #data_09.csv]</td>\n",
       "      <td></td>\n",
       "      <td>&lt;class 'torch.Tensor'&gt;</td>\n",
       "    </tr>\n",
       "    <tr>\n",
       "      <th>9</th>\n",
       "      <td>&lt;UID: 700422e3404542768989b6fb122e7217&gt;</td>\n",
       "      <td>[#diabetes, #pima-indians-database, #data_05.csv]</td>\n",
       "      <td></td>\n",
       "      <td>&lt;class 'torch.Tensor'&gt;</td>\n",
       "    </tr>\n",
       "    <tr>\n",
       "      <th>10</th>\n",
       "      <td>&lt;UID: 6372f553bda04783997b58a4828d073f&gt;</td>\n",
       "      <td>[#diabetes, #pima-indians-database, #data_01.csv]</td>\n",
       "      <td></td>\n",
       "      <td>&lt;class 'torch.Tensor'&gt;</td>\n",
       "    </tr>\n",
       "    <tr>\n",
       "      <th>11</th>\n",
       "      <td>&lt;UID: ff54fb84a937440aa356057aee9d9c70&gt;</td>\n",
       "      <td>[#diabetes, #pima-indians-database, #data_02.c...</td>\n",
       "      <td></td>\n",
       "      <td>&lt;class 'syft.lib.python.list.List'&gt;</td>\n",
       "    </tr>\n",
       "  </tbody>\n",
       "</table>\n",
       "</div>"
      ],
      "text/plain": [
       "                                         ID  \\\n",
       "0   <UID: 3d82e9a372b24b0c8b6b3fd33158eae7>   \n",
       "1   <UID: ba1d1e5c7f604f018a21cfc57811923b>   \n",
       "2   <UID: 34964199d7e74f2abe636d8385276f93>   \n",
       "3   <UID: a9d518a9860744a1a7a8baf472880b76>   \n",
       "4   <UID: 795a5b383ca94613b61dfe61308a02c7>   \n",
       "5   <UID: d4d29f93546c457492f0845eedd95537>   \n",
       "6   <UID: 6fe1211947c5418a8d0dcb4d7b5c4b6e>   \n",
       "7   <UID: ff42eea731f6491d898d5c98e1bc8be6>   \n",
       "8   <UID: 36219d2cdd2745c489167a682039c4b2>   \n",
       "9   <UID: 700422e3404542768989b6fb122e7217>   \n",
       "10  <UID: 6372f553bda04783997b58a4828d073f>   \n",
       "11  <UID: ff54fb84a937440aa356057aee9d9c70>   \n",
       "\n",
       "                                                 Tags Description  \\\n",
       "0   [#diabetes, #pima-indians-database, #data_02.csv]               \n",
       "1   [#diabetes, #pima-indians-database, #data_06.csv]               \n",
       "2   [#diabetes, #pima-indians-database, #data_10.csv]               \n",
       "3   [#diabetes, #pima-indians-database, #data_03.csv]               \n",
       "4   [#diabetes, #pima-indians-database, #data_04.csv]               \n",
       "5   [#diabetes, #pima-indians-database, #new_data....               \n",
       "6   [#diabetes, #pima-indians-database, #data_07.csv]               \n",
       "7   [#diabetes, #pima-indians-database, #data_08.csv]               \n",
       "8   [#diabetes, #pima-indians-database, #data_09.csv]               \n",
       "9   [#diabetes, #pima-indians-database, #data_05.csv]               \n",
       "10  [#diabetes, #pima-indians-database, #data_01.csv]               \n",
       "11  [#diabetes, #pima-indians-database, #data_02.c...               \n",
       "\n",
       "                            object_type  \n",
       "0                <class 'torch.Tensor'>  \n",
       "1                <class 'torch.Tensor'>  \n",
       "2                <class 'torch.Tensor'>  \n",
       "3                <class 'torch.Tensor'>  \n",
       "4                <class 'torch.Tensor'>  \n",
       "5                <class 'torch.Tensor'>  \n",
       "6                <class 'torch.Tensor'>  \n",
       "7                <class 'torch.Tensor'>  \n",
       "8                <class 'torch.Tensor'>  \n",
       "9                <class 'torch.Tensor'>  \n",
       "10               <class 'torch.Tensor'>  \n",
       "11  <class 'syft.lib.python.list.List'>  "
      ]
     },
     "execution_count": 18,
     "metadata": {},
     "output_type": "execute_result"
    }
   ],
   "source": [
    "domain_client.store.pandas"
   ]
  },
  {
   "cell_type": "code",
   "execution_count": 19,
   "id": "5178f5cb",
   "metadata": {},
   "outputs": [],
   "source": [
    "acc_ptr = domain_client.store['ff54fb84a937440aa356057aee9d9c70']"
   ]
  },
  {
   "cell_type": "markdown",
   "id": "c7d916a1",
   "metadata": {},
   "source": [
    "#### Setting the Differential Privacy Algorithm and parameters\n",
    "Since we intend to compute the accuracy of our prediction, we can just perform a private mean which can vary from 0 to 1. For this example we're defining our privacy budget equals to 0.8."
   ]
  },
  {
   "cell_type": "code",
   "execution_count": 20,
   "id": "4b74224c",
   "metadata": {},
   "outputs": [],
   "source": [
    "BoundedMean = domain_client.pydp.algorithms.laplacian.BoundedMean\n",
    "mean_ptr = BoundedMean(0.8, lower_bound=0.01, upper_bound=1.0, dtype=\"float\")"
   ]
  },
  {
   "cell_type": "code",
   "execution_count": 21,
   "id": "8802d180",
   "metadata": {},
   "outputs": [],
   "source": [
    "acc = mean_ptr.quick_result(acc_ptr)"
   ]
  },
  {
   "cell_type": "markdown",
   "id": "2df447cc",
   "metadata": {},
   "source": [
    "Done! We have an accuracy data stored somewhere inside of our domain node. Now let's finally request the data access."
   ]
  },
  {
   "cell_type": "code",
   "execution_count": 22,
   "id": "85259470",
   "metadata": {},
   "outputs": [],
   "source": [
    "acc.request(reason=\"I'd like to have access to my accuracy result!\")"
   ]
  },
  {
   "cell_type": "markdown",
   "id": "c8e5a3d5",
   "metadata": {},
   "source": [
    "### <img src=\"https://github.com/OpenMined/design-assets/raw/master/logos/OM/mark-primary-light.png\" alt=\"he-black-box\" width=\"100\"/> Checkpoint : Now STOP and run the Data Owner notebook until the next checkpoint."
   ]
  },
  {
   "cell_type": "code",
   "execution_count": 23,
   "id": "488a6201",
   "metadata": {},
   "outputs": [
    {
     "data": {
      "text/plain": [
       "0.7954177260398865"
      ]
     },
     "execution_count": 23,
     "metadata": {},
     "output_type": "execute_result"
    }
   ],
   "source": [
    "acc.get()"
   ]
  },
  {
   "cell_type": "markdown",
   "id": "5500d9a1",
   "metadata": {},
   "source": [
    "**_Voilà!_** This is our accuracy result!"
   ]
  },
  {
   "cell_type": "markdown",
   "id": "6a941773",
   "metadata": {},
   "source": [
    "## Congratulations!!! - Time to Join the Community!\n",
    "\n",
    "Congratulations on completing this notebook tutorial! If you enjoyed this and would like to join the movement toward privacy preserving, decentralized ownership of AI and the AI supply chain (data), you can do so in the following ways!\n",
    "\n",
    "### Star PySyft and SyMPC on GitHub\n",
    "The easiest way to help our community is just by starring the GitHub repos! This helps raise awareness of the cool tools we're building.\n",
    "\n",
    "* [Star PySyft](https://github.com/OpenMined/PySyft)\n",
    "* [Star PyGrid](https://github.com/OpenMined/PyGrid)\n",
    "\n",
    "### Join our Slack!\n",
    "The best way to keep up to date on the latest advancements is to join our community! You can do so by filling out the form at http://slack.openmined.org\n",
    "\n",
    "### Join a Code Project!\n",
    "The best way to contribute to our community is to become a code contributor! At any time you can go to PySyft GitHub Issues page and filter for \"Projects\". This will show you all the top level Tickets giving an overview of what projects you can join! If you don't want to join a project, but you would like to do a bit of coding, you can also look for more \"one off\" mini-projects by searching for GitHub issues marked \"good first issue\".\n",
    "\n",
    "* [PySyft Good First Issue Tickets](https://github.com/OpenMined/PySyft/labels/Good%20first%20issue%20%3Amortar_board%3A)\n",
    "* [PyGrid Good First Issue Tickets](https://github.com/OpenMined/PyGrid/labels/good%20first%20issue)\n",
    "\n",
    "### Donate\n",
    "If you don't have time to contribute to our codebase, but would still like to lend support, you can also become a Backer on our Open Collective. All donations go toward our web hosting and other community expenses such as hackathons and meetups!\n",
    "\n",
    "* [OpenMined's Open Collective Page](https://opencollective.com/openmined)"
   ]
  }
 ],
 "metadata": {
  "kernelspec": {
   "display_name": "Python 3",
   "language": "python",
   "name": "python3"
  },
  "language_info": {
   "codemirror_mode": {
    "name": "ipython",
    "version": 3
   },
   "file_extension": ".py",
   "mimetype": "text/x-python",
   "name": "python",
   "nbconvert_exporter": "python",
   "pygments_lexer": "ipython3",
   "version": "3.8.5"
  }
 },
 "nbformat": 4,
 "nbformat_minor": 5
}
