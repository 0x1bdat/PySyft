{
 "cells": [
  {
   "cell_type": "markdown",
   "id": "7fdcd824",
   "metadata": {},
   "source": [
    "## Initial Setup"
   ]
  },
  {
   "cell_type": "code",
   "execution_count": null,
   "id": "330bb2d3",
   "metadata": {},
   "outputs": [],
   "source": [
    "from syft.grid.client.client import connect # Method used to connect with the domain.\n",
    "from syft.grid.client.grid_connection import GridHTTPConnection # Protocol used to talk with the domain\n",
    "\n",
    "import syft as sy\n",
    "import torch as th\n",
    "\n",
    "# Set logging level\n",
    "import logging\n",
    "logging.basicConfig(level=logging.INFO)"
   ]
  },
  {
   "cell_type": "markdown",
   "id": "29899987",
   "metadata": {},
   "source": [
    "### Create User Account"
   ]
  },
  {
   "cell_type": "code",
   "execution_count": null,
   "id": "deb4d67b",
   "metadata": {},
   "outputs": [],
   "source": [
    "unauthenticated_client = connect(\n",
    "    url=\"http://localhost:5000\",\n",
    "    conn_type=GridHTTPConnection\n",
    ")\n",
    "\n",
    "unauthenticated_client.users.create(email=\"scientist@researchorg.edu\", password=\"pwd123\")"
   ]
  },
  {
   "cell_type": "markdown",
   "id": "09a307af",
   "metadata": {},
   "source": [
    "### Log in as Data Scientist"
   ]
  },
  {
   "cell_type": "code",
   "execution_count": null,
   "id": "25e2833e",
   "metadata": {},
   "outputs": [],
   "source": [
    "domain_client = connect(\n",
    "    url=\"http://localhost:5000\",\n",
    "    credentials={\"email\":\"scientist@researchorg.edu\", \"password\":\"pwd123\"},\n",
    "    conn_type=GridHTTPConnection\n",
    ")"
   ]
  },
  {
   "cell_type": "markdown",
   "id": "5de6face",
   "metadata": {},
   "source": [
    "### Find a Dataset"
   ]
  },
  {
   "cell_type": "code",
   "execution_count": null,
   "id": "f72a51c7",
   "metadata": {},
   "outputs": [],
   "source": [
    "domain_client.datasets.all(pandas=True)"
   ]
  },
  {
   "cell_type": "code",
   "execution_count": null,
   "id": "9fc2dc99",
   "metadata": {},
   "outputs": [],
   "source": [
    "remote_dataset = domain_client.datasets[\"\"]"
   ]
  },
  {
   "cell_type": "code",
   "execution_count": null,
   "id": "75e5208f",
   "metadata": {},
   "outputs": [],
   "source": [
    "print(remote_dataset.manifest)"
   ]
  },
  {
   "cell_type": "code",
   "execution_count": null,
   "id": "d6072e97",
   "metadata": {},
   "outputs": [],
   "source": [
    "remote_dataset.pandas"
   ]
  },
  {
   "cell_type": "markdown",
   "id": "fd5c28c6",
   "metadata": {},
   "source": [
    "### Load Pre-trained Model"
   ]
  },
  {
   "cell_type": "code",
   "execution_count": 1,
   "id": "6e2d5f70",
   "metadata": {},
   "outputs": [
    {
     "name": "stdout",
     "output_type": "stream",
     "text": [
      "epoch 0\tloss : 0.7092297673225403\t accuracy : 0.3005\n",
      "epoch 50\tloss : 0.5071974992752075\t accuracy : 0.7825\n",
      "epoch 100\tloss : 0.48725202679634094\t accuracy : 0.7905\n",
      "epoch 150\tloss : 0.47507500648498535\t accuracy : 0.7995\n",
      "epoch 200\tloss : 0.46798834204673767\t accuracy : 0.811\n",
      "epoch 250\tloss : 0.4574986696243286\t accuracy : 0.819\n"
     ]
    },
    {
     "data": {
      "image/png": "[encoded data removed]",
      "text/plain": [
       "<Figure size 432x288 with 1 Axes>"
      ]
     },
     "metadata": {
      "needs_background": "light"
     },
     "output_type": "display_data"
    }
   ],
   "source": [
    "import torch as th\n",
    "from diabetes_model_training import train_diabetes_model, plot_training_acc\n",
    "model, loss, acc, epochs_list = train_diabetes_model(th)\n",
    "plot_training_acc(acc, loss, epochs_list)"
   ]
  },
  {
   "cell_type": "markdown",
   "id": "9841d104",
   "metadata": {},
   "source": [
    "### Create a Worker"
   ]
  },
  {
   "cell_type": "code",
   "execution_count": null,
   "id": "80bfded0",
   "metadata": {},
   "outputs": [],
   "source": [
    "domain_client.workers.instance_type(pandas=True)"
   ]
  },
  {
   "cell_type": "code",
   "execution_count": null,
   "id": "32c85d26",
   "metadata": {},
   "outputs": [],
   "source": [
    "domain_client.workers.create(instance_type=\"Standard_B2s\")"
   ]
  },
  {
   "cell_type": "code",
   "execution_count": null,
   "id": "7e18f7cc",
   "metadata": {},
   "outputs": [],
   "source": [
    "domain_client.workers.all(pandas=True)"
   ]
  },
  {
   "cell_type": "code",
   "execution_count": null,
   "id": "8a35a6f1",
   "metadata": {},
   "outputs": [],
   "source": [
    "worker = domain_client.workers[1]"
   ]
  },
  {
   "cell_type": "markdown",
   "id": "fb4a6701",
   "metadata": {},
   "source": [
    "### Send the Model to the Worker"
   ]
  },
  {
   "cell_type": "code",
   "execution_count": null,
   "id": "ef6eab34",
   "metadata": {},
   "outputs": [],
   "source": [
    "remote_model = model.send(worker)"
   ]
  },
  {
   "cell_type": "markdown",
   "id": "571f88b8",
   "metadata": {},
   "source": [
    "### Load the Dataset into the Worker"
   ]
  },
  {
   "cell_type": "code",
   "execution_count": null,
   "id": "3ed83fd6",
   "metadata": {},
   "outputs": [],
   "source": [
    "domain_client.load(remote_dataset.files[0].pointer, worker.address)"
   ]
  },
  {
   "cell_type": "code",
   "execution_count": null,
   "id": "a0d269f4",
   "metadata": {},
   "outputs": [],
   "source": [
    "worker.store.pandas"
   ]
  },
  {
   "cell_type": "markdown",
   "id": "91f850ad",
   "metadata": {},
   "source": [
    "### Perform remote inference"
   ]
  },
  {
   "cell_type": "code",
   "execution_count": null,
   "id": "f616cbd3",
   "metadata": {},
   "outputs": [],
   "source": [
    "feature = worker.store[0][0:,0:8]\n",
    "labels = worker.store[0][0:,8]\n",
    "\n",
    "predicted = remote_model(feature)"
   ]
  },
  {
   "cell_type": "markdown",
   "id": "e07a6008",
   "metadata": {},
   "source": [
    "### Add DP noise to the evaluation result"
   ]
  },
  {
   "cell_type": "code",
   "execution_count": null,
   "id": "a78b1f6b",
   "metadata": {},
   "outputs": [],
   "source": [
    "acc = (predicted.reshape(-1).round() == labels).int().tolist()"
   ]
  },
  {
   "cell_type": "code",
   "execution_count": null,
   "id": "ac6a7cba",
   "metadata": {},
   "outputs": [],
   "source": [
    "import pydp\n",
    "sy.load(\"pydp\")"
   ]
  },
  {
   "cell_type": "code",
   "execution_count": null,
   "id": "0fb5597c",
   "metadata": {},
   "outputs": [],
   "source": [
    "BoundedMean = worker.pydp.algorithms.laplacian.BoundedMean\n",
    "mean_ptr = BoundedMean(0.8, lower_bound=0.01, upper_bound=1.0, dtype=\"float\")\n",
    "\n",
    "acc_result = mean_ptr.quick_result(acc)"
   ]
  },
  {
   "cell_type": "markdown",
   "id": "5a081c43",
   "metadata": {},
   "source": [
    "### Save the result to the Domain"
   ]
  },
  {
   "cell_type": "code",
   "execution_count": null,
   "id": "846a86df",
   "metadata": {},
   "outputs": [],
   "source": [
    "worker.save(acc_result)"
   ]
  },
  {
   "cell_type": "markdown",
   "id": "5642d941",
   "metadata": {},
   "source": [
    "### Request to download the result"
   ]
  },
  {
   "cell_type": "code",
   "execution_count": null,
   "id": "71439f12",
   "metadata": {},
   "outputs": [],
   "source": [
    "domain_client.store.pandas"
   ]
  },
  {
   "cell_type": "code",
   "execution_count": null,
   "id": "065d2593",
   "metadata": {},
   "outputs": [],
   "source": [
    "acc_ptr = domain_client.store['']"
   ]
  },
  {
   "cell_type": "code",
   "execution_count": null,
   "id": "3e75e711",
   "metadata": {},
   "outputs": [],
   "source": [
    "acc_ptr.request(reason=\"I'd like to have access to my accuracy result!\")"
   ]
  },
  {
   "cell_type": "markdown",
   "id": "dab0005f",
   "metadata": {},
   "source": [
    "### Download the result"
   ]
  },
  {
   "cell_type": "code",
   "execution_count": null,
   "id": "29c8e85f",
   "metadata": {},
   "outputs": [],
   "source": [
    "acc_ptr.get()"
   ]
  }
 ],
 "metadata": {
  "kernelspec": {
   "display_name": "Python 3",
   "language": "python",
   "name": "python3"
  },
  "language_info": {
   "codemirror_mode": {
    "name": "ipython",
    "version": 3
   },
   "file_extension": ".py",
   "mimetype": "text/x-python",
   "name": "python",
   "nbconvert_exporter": "python",
   "pygments_lexer": "ipython3",
   "version": "3.8.5"
  }
 },
 "nbformat": 4,
 "nbformat_minor": 5
}
