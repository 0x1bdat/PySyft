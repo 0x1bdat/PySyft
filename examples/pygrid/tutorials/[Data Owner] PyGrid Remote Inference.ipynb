{
 "cells": [
  {
   "cell_type": "markdown",
   "id": "fa84a6d1",
   "metadata": {},
   "source": [
    "# PyGrid: Remote Inference (Data Owner)"
   ]
  },
  {
   "cell_type": "markdown",
   "id": "bd1c72fa",
   "metadata": {},
   "source": [
    "<img src=\"../../../docs/img/pygrid_logo.png\" align=\"center\"/>\n",
    "\n",
    "Evaluate custom models using private datasets without having access to them is a powerfull resource that can change the way we interact with data during a machine learning workflow, PySyft and PyGrid offers the ability to run inferences remotely by using a variety of technologies and applications.\n",
    "\n",
    "In this notebook series, we'll be covering all the nuances of this process, showing how to send private datasets _(as data owner)_, and how to perform remote computation using private environments _(as data scientist)_.<br><br>The main goal of these notebooks is to explore different techniques and technologies that can turn **private data _\"accessible\"_ while also empower data owners with total control of their own data.**\n",
    "\n",
    "**NOTE**: _This notebook was designed to be executed in pair with the [\\[Data Scientist\\] PyGrid Remote Inference](http://github.com/OpenMined). In order to reproduce it properly, follow the checkpoints and instructions described in the next sections._"
   ]
  },
  {
   "cell_type": "markdown",
   "id": "270456c1",
   "metadata": {},
   "source": [
    "### Overview\n",
    "\n",
    "- [**Initial setup**](#initial-setup)\n",
    "- [**Create a compliance officer account**](#create-a-compliance-officer-account)\n",
    "- [**Hosting datasets**](#hosting-datasets)\n",
    "- [**Data access triage**](#data-access-request-triage)"
   ]
  },
  {
   "cell_type": "markdown",
   "id": "98ed0f4e",
   "metadata": {},
   "source": [
    "## Initial Setup\n",
    "<p>The first thing to do after deploying a domain, is to set its initial configuration. Here we can define some values and flags that will change how the node will behave. We also use this step to create the node owner account, which will have full control and access to the node. As long as this step is not executed, all other node endpoints/features will be blocked.</p>"
   ]
  },
  {
   "cell_type": "markdown",
   "id": "15381297",
   "metadata": {},
   "source": [
    "### Importing libs"
   ]
  },
  {
   "cell_type": "code",
   "execution_count": 1,
   "id": "7075b444",
   "metadata": {},
   "outputs": [],
   "source": [
    "from syft.grid.client.client import connect # Method used to connect with the node.\n",
    "from syft.grid.client.grid_connection import GridHTTPConnection # Protocol used to talk with the node\n",
    "\n",
    "import syft as sy\n",
    "import torch as th\n",
    "\n",
    "# Set logging level\n",
    "import logging\n",
    "logging.basicConfig(level=logging.INFO)"
   ]
  },
  {
   "cell_type": "code",
   "execution_count": 2,
   "id": "1bca8564",
   "metadata": {},
   "outputs": [
    {
     "name": "stderr",
     "output_type": "stream",
     "text": [
      "INFO:root:Running initial setup!\n"
     ]
    }
   ],
   "source": [
    "# 1 - Since we still don't have any account registered,\n",
    "# we can connect with the domain without credentials.\n",
    "domain_client = connect(\n",
    "    url=\"http://localhost:5000\", # Domain Address\n",
    "    conn_type=GridHTTPConnection,) # HTTP Connection Protocol\n",
    "\n",
    "# 2 - Set the node initial configuration\n",
    "# - Node Owner email/password\n",
    "# - Domain Name used to identify this node.\n",
    "# - Random token generated during deployment\n",
    "domain_client.setup(\n",
    "    email=\"owner@openmined.org\",\n",
    "    password=\"owerpwd\",\n",
    "    domain_name=\"OpenMined Node\",\n",
    "    token=\"9G9MJ06OQH\"\n",
    ")\n",
    "\n",
    "# 3 - Now, we have an account registered!\n",
    "# Let's connect with the node as a node owner.\n",
    "domain = connect(\n",
    "    url=\"http://localhost:5000\", # Domain Address\n",
    "    credentials={\"email\":\"owner@openmined.org\", \"password\":\"owerpwd\"},\n",
    "    conn_type= GridHTTPConnection,) # HTTP Connection Protocol"
   ]
  },
  {
   "cell_type": "markdown",
   "id": "7fca1901",
   "metadata": {},
   "source": [
    "_PS : For didatic purposes, we have reduced the number of parameters used in the \"setup\" process. But the domain also accepts a set of optional parameters. If you want to know more about the initial setup process, it's highly recommended to read our roadmap._"
   ]
  },
  {
   "cell_type": "markdown",
   "id": "8ad88f9d",
   "metadata": {},
   "source": [
    "## Create a compliance officer account\n",
    "By default, PyGrid initializes with 4 pre-set roles that can be attached to the users. These roles are used to define what a user is allowed or not allowed to do when logged-in. You can check its permissions by executing this code snippet."
   ]
  },
  {
   "cell_type": "markdown",
   "id": "4102b365",
   "metadata": {},
   "source": [
    "### Roles"
   ]
  },
  {
   "cell_type": "code",
   "execution_count": 3,
   "id": "bd5dbfe6",
   "metadata": {},
   "outputs": [
    {
     "data": {
      "text/html": [
       "<div>\n",
       "<style scoped>\n",
       "    .dataframe tbody tr th:only-of-type {\n",
       "        vertical-align: middle;\n",
       "    }\n",
       "\n",
       "    .dataframe tbody tr th {\n",
       "        vertical-align: top;\n",
       "    }\n",
       "\n",
       "    .dataframe thead th {\n",
       "        text-align: right;\n",
       "    }\n",
       "</style>\n",
       "<table border=\"1\" class=\"dataframe\">\n",
       "  <thead>\n",
       "    <tr style=\"text-align: right;\">\n",
       "      <th></th>\n",
       "      <th>id</th>\n",
       "      <th>name</th>\n",
       "      <th>can_triage_requests</th>\n",
       "      <th>can_edit_settings</th>\n",
       "      <th>can_create_users</th>\n",
       "      <th>can_create_groups</th>\n",
       "      <th>can_edit_roles</th>\n",
       "      <th>can_manage_infrastructure</th>\n",
       "      <th>can_upload_data</th>\n",
       "    </tr>\n",
       "  </thead>\n",
       "  <tbody>\n",
       "    <tr>\n",
       "      <th>0</th>\n",
       "      <td>1</td>\n",
       "      <td>User</td>\n",
       "      <td>False</td>\n",
       "      <td>False</td>\n",
       "      <td>False</td>\n",
       "      <td>False</td>\n",
       "      <td>False</td>\n",
       "      <td>False</td>\n",
       "      <td>False</td>\n",
       "    </tr>\n",
       "    <tr>\n",
       "      <th>1</th>\n",
       "      <td>2</td>\n",
       "      <td>Compliance Officer</td>\n",
       "      <td>True</td>\n",
       "      <td>False</td>\n",
       "      <td>False</td>\n",
       "      <td>False</td>\n",
       "      <td>False</td>\n",
       "      <td>False</td>\n",
       "      <td>True</td>\n",
       "    </tr>\n",
       "    <tr>\n",
       "      <th>2</th>\n",
       "      <td>3</td>\n",
       "      <td>Administrator</td>\n",
       "      <td>True</td>\n",
       "      <td>True</td>\n",
       "      <td>True</td>\n",
       "      <td>True</td>\n",
       "      <td>False</td>\n",
       "      <td>False</td>\n",
       "      <td>True</td>\n",
       "    </tr>\n",
       "    <tr>\n",
       "      <th>3</th>\n",
       "      <td>4</td>\n",
       "      <td>Owner</td>\n",
       "      <td>True</td>\n",
       "      <td>True</td>\n",
       "      <td>True</td>\n",
       "      <td>True</td>\n",
       "      <td>True</td>\n",
       "      <td>True</td>\n",
       "      <td>True</td>\n",
       "    </tr>\n",
       "  </tbody>\n",
       "</table>\n",
       "</div>"
      ],
      "text/plain": [
       "   id                name  can_triage_requests  can_edit_settings  \\\n",
       "0   1                User                False              False   \n",
       "1   2  Compliance Officer                 True              False   \n",
       "2   3       Administrator                 True               True   \n",
       "3   4               Owner                 True               True   \n",
       "\n",
       "   can_create_users  can_create_groups  can_edit_roles  \\\n",
       "0             False              False           False   \n",
       "1             False              False           False   \n",
       "2              True               True           False   \n",
       "3              True               True            True   \n",
       "\n",
       "   can_manage_infrastructure  can_upload_data  \n",
       "0                      False            False  \n",
       "1                      False             True  \n",
       "2                      False             True  \n",
       "3                       True             True  "
      ]
     },
     "execution_count": 3,
     "metadata": {},
     "output_type": "execute_result"
    }
   ],
   "source": [
    "domain.roles.all(pandas=True)"
   ]
  },
  {
   "cell_type": "markdown",
   "id": "85d031a2",
   "metadata": {},
   "source": [
    "These roles are not static _(excluding owner role)_ and can be updated or deleted if necessary. You can also create new ones if needed."
   ]
  },
  {
   "cell_type": "markdown",
   "id": "4d5e45d8",
   "metadata": {},
   "source": [
    "Using node owner permissions, you can also check and change the roles used by each user registered in the node."
   ]
  },
  {
   "cell_type": "code",
   "execution_count": 4,
   "id": "e63f8643",
   "metadata": {},
   "outputs": [
    {
     "data": {
      "text/html": [
       "<div>\n",
       "<style scoped>\n",
       "    .dataframe tbody tr th:only-of-type {\n",
       "        vertical-align: middle;\n",
       "    }\n",
       "\n",
       "    .dataframe tbody tr th {\n",
       "        vertical-align: top;\n",
       "    }\n",
       "\n",
       "    .dataframe thead th {\n",
       "        text-align: right;\n",
       "    }\n",
       "</style>\n",
       "<table border=\"1\" class=\"dataframe\">\n",
       "  <thead>\n",
       "    <tr style=\"text-align: right;\">\n",
       "      <th></th>\n",
       "      <th>id</th>\n",
       "      <th>email</th>\n",
       "      <th>private_key</th>\n",
       "      <th>verify_key</th>\n",
       "      <th>role</th>\n",
       "      <th>groups</th>\n",
       "    </tr>\n",
       "  </thead>\n",
       "  <tbody>\n",
       "    <tr>\n",
       "      <th>0</th>\n",
       "      <td>1</td>\n",
       "      <td>owner@openmined.org</td>\n",
       "      <td>e736ea6ecb7b8ecebe8c9c42a1fc82b2a09761ef8e6853...</td>\n",
       "      <td>7c3271cab9c60a809bf8c7a34daf4294d251241ef4b07b...</td>\n",
       "      <td>4</td>\n",
       "      <td>[]</td>\n",
       "    </tr>\n",
       "  </tbody>\n",
       "</table>\n",
       "</div>"
      ],
      "text/plain": [
       "   id                email                                        private_key  \\\n",
       "0   1  owner@openmined.org  e736ea6ecb7b8ecebe8c9c42a1fc82b2a09761ef8e6853...   \n",
       "\n",
       "                                          verify_key  role groups  \n",
       "0  7c3271cab9c60a809bf8c7a34daf4294d251241ef4b07b...     4     []  "
      ]
     },
     "execution_count": 4,
     "metadata": {},
     "output_type": "execute_result"
    }
   ],
   "source": [
    "domain.users.all(pandas=True)"
   ]
  },
  {
   "cell_type": "markdown",
   "id": "c0448eea",
   "metadata": {},
   "source": [
    "### User Creation\n",
    "\n",
    "PyGrid allow people to create new accounts by themselves, therefore, these accounts will always be  attached to the User role _(without any management permissions)_. Considering the default roles, only the Owner and Administrator accounts would be able to create new accounts attached with different permissions.<br><br>\n",
    "For our use case, we'll create a **compliance officer** account. This role is commonly assigned for users who will **evaluate data access requests**, approving or rejecting them. Since we're logged-in as a node owner, we have all the requirements."
   ]
  },
  {
   "cell_type": "code",
   "execution_count": 5,
   "id": "4307af35",
   "metadata": {},
   "outputs": [
    {
     "name": "stderr",
     "output_type": "stream",
     "text": [
      "INFO:root:User created successfully!\n"
     ]
    }
   ],
   "source": [
    "domain.users.create(\n",
    "    email=\"complianceofficer@openmined.org\",\n",
    "    password=\"pwd123\",\n",
    "    role=\"Compliance Officer\"\n",
    ")"
   ]
  },
  {
   "cell_type": "code",
   "execution_count": 6,
   "id": "9dc6fd0e",
   "metadata": {},
   "outputs": [
    {
     "data": {
      "text/html": [
       "<div>\n",
       "<style scoped>\n",
       "    .dataframe tbody tr th:only-of-type {\n",
       "        vertical-align: middle;\n",
       "    }\n",
       "\n",
       "    .dataframe tbody tr th {\n",
       "        vertical-align: top;\n",
       "    }\n",
       "\n",
       "    .dataframe thead th {\n",
       "        text-align: right;\n",
       "    }\n",
       "</style>\n",
       "<table border=\"1\" class=\"dataframe\">\n",
       "  <thead>\n",
       "    <tr style=\"text-align: right;\">\n",
       "      <th></th>\n",
       "      <th>id</th>\n",
       "      <th>email</th>\n",
       "      <th>private_key</th>\n",
       "      <th>verify_key</th>\n",
       "      <th>role</th>\n",
       "      <th>groups</th>\n",
       "    </tr>\n",
       "  </thead>\n",
       "  <tbody>\n",
       "    <tr>\n",
       "      <th>0</th>\n",
       "      <td>1</td>\n",
       "      <td>owner@openmined.org</td>\n",
       "      <td>e736ea6ecb7b8ecebe8c9c42a1fc82b2a09761ef8e6853...</td>\n",
       "      <td>7c3271cab9c60a809bf8c7a34daf4294d251241ef4b07b...</td>\n",
       "      <td>4</td>\n",
       "      <td>[]</td>\n",
       "    </tr>\n",
       "    <tr>\n",
       "      <th>1</th>\n",
       "      <td>2</td>\n",
       "      <td>complianceofficer@openmined.org</td>\n",
       "      <td>f9f7340cf2d4931824b0f6ae90481059f538416299541d...</td>\n",
       "      <td>b9a2b3bcc9784437126e90c43483bda2ab39abc67d2f0e...</td>\n",
       "      <td>2</td>\n",
       "      <td>[]</td>\n",
       "    </tr>\n",
       "  </tbody>\n",
       "</table>\n",
       "</div>"
      ],
      "text/plain": [
       "   id                            email  \\\n",
       "0   1              owner@openmined.org   \n",
       "1   2  complianceofficer@openmined.org   \n",
       "\n",
       "                                         private_key  \\\n",
       "0  e736ea6ecb7b8ecebe8c9c42a1fc82b2a09761ef8e6853...   \n",
       "1  f9f7340cf2d4931824b0f6ae90481059f538416299541d...   \n",
       "\n",
       "                                          verify_key  role groups  \n",
       "0  7c3271cab9c60a809bf8c7a34daf4294d251241ef4b07b...     4     []  \n",
       "1  b9a2b3bcc9784437126e90c43483bda2ab39abc67d2f0e...     2     []  "
      ]
     },
     "execution_count": 6,
     "metadata": {},
     "output_type": "execute_result"
    }
   ],
   "source": [
    "domain.users.all(pandas=True)"
   ]
  },
  {
   "cell_type": "markdown",
   "id": "b6e5eb07",
   "metadata": {},
   "source": [
    "### Login as a Compliance Officer\n",
    "To be accurate to this use case, we'll log-in as compliance officer.<br><br>\n",
    "**From now on, we'll use only compliance officer credentials to go through this use case.**"
   ]
  },
  {
   "cell_type": "code",
   "execution_count": 7,
   "id": "091d9c18",
   "metadata": {},
   "outputs": [],
   "source": [
    "cp_officer = connect(\n",
    "    url=\"http://localhost:5000\", # Domain Address\n",
    "    credentials={\"email\":\"complianceofficer@openmined.org\", \"password\":\"pwd123\"},\n",
    "    conn_type= GridHTTPConnection,) # HTTP Connection Protocol"
   ]
  },
  {
   "cell_type": "markdown",
   "id": "e2b51d21",
   "metadata": {},
   "source": [
    "## Hosting Datasets\n",
    "\n",
    "As a compliance officer, we're also able to upload new datasets to the domain. We can do it by using two different approaches:\n",
    "\n",
    "- **Tensor Data Structures**: Using the torch tensor structures and the default PySyft API\n",
    "- **Structured and compressed CSV folder** : We can upload a _.tar.gz_ file  by using the PyGrid API.\n",
    "\n",
    "We'll be covering the second one, sending a compressed file containing a structured folder with different CSV files + metadata information about the dataset _(manifest, description and tags)_."
   ]
  },
  {
   "cell_type": "code",
   "execution_count": 8,
   "id": "c5f4a0e3",
   "metadata": {},
   "outputs": [
    {
     "data": {
      "text/html": [
       "<div>\n",
       "<style scoped>\n",
       "    .dataframe tbody tr th:only-of-type {\n",
       "        vertical-align: middle;\n",
       "    }\n",
       "\n",
       "    .dataframe tbody tr th {\n",
       "        vertical-align: top;\n",
       "    }\n",
       "\n",
       "    .dataframe thead th {\n",
       "        text-align: right;\n",
       "    }\n",
       "</style>\n",
       "<table border=\"1\" class=\"dataframe\">\n",
       "  <thead>\n",
       "    <tr style=\"text-align: right;\">\n",
       "      <th></th>\n",
       "      <th>name</th>\n",
       "      <th>id</th>\n",
       "      <th>tags</th>\n",
       "      <th>dtype</th>\n",
       "      <th>shape</th>\n",
       "    </tr>\n",
       "  </thead>\n",
       "  <tbody>\n",
       "    <tr>\n",
       "      <th>0</th>\n",
       "      <td>diabetes-data/data_02.csv</td>\n",
       "      <td>3d82e9a3-72b2-4b0c-8b6b-3fd33158eae7</td>\n",
       "      <td>[#diabetes, #pima-indians-database, #data_02.csv]</td>\n",
       "      <td>Tensor</td>\n",
       "      <td>(200, 9)</td>\n",
       "    </tr>\n",
       "    <tr>\n",
       "      <th>1</th>\n",
       "      <td>diabetes-data/data_06.csv</td>\n",
       "      <td>ba1d1e5c-7f60-4f01-8a21-cfc57811923b</td>\n",
       "      <td>[#diabetes, #pima-indians-database, #data_06.csv]</td>\n",
       "      <td>Tensor</td>\n",
       "      <td>(200, 9)</td>\n",
       "    </tr>\n",
       "    <tr>\n",
       "      <th>2</th>\n",
       "      <td>diabetes-data/data_10.csv</td>\n",
       "      <td>34964199-d7e7-4f2a-be63-6d8385276f93</td>\n",
       "      <td>[#diabetes, #pima-indians-database, #data_10.csv]</td>\n",
       "      <td>Tensor</td>\n",
       "      <td>(200, 9)</td>\n",
       "    </tr>\n",
       "    <tr>\n",
       "      <th>3</th>\n",
       "      <td>diabetes-data/data_03.csv</td>\n",
       "      <td>a9d518a9-8607-44a1-a7a8-baf472880b76</td>\n",
       "      <td>[#diabetes, #pima-indians-database, #data_03.csv]</td>\n",
       "      <td>Tensor</td>\n",
       "      <td>(200, 9)</td>\n",
       "    </tr>\n",
       "    <tr>\n",
       "      <th>4</th>\n",
       "      <td>diabetes-data/data_04.csv</td>\n",
       "      <td>795a5b38-3ca9-4613-b61d-fe61308a02c7</td>\n",
       "      <td>[#diabetes, #pima-indians-database, #data_04.csv]</td>\n",
       "      <td>Tensor</td>\n",
       "      <td>(200, 9)</td>\n",
       "    </tr>\n",
       "    <tr>\n",
       "      <th>5</th>\n",
       "      <td>diabetes-data/new_data.csv</td>\n",
       "      <td>d4d29f93-546c-4574-92f0-845eedd95537</td>\n",
       "      <td>[#diabetes, #pima-indians-database, #new_data....</td>\n",
       "      <td>Tensor</td>\n",
       "      <td>(2000, 9)</td>\n",
       "    </tr>\n",
       "    <tr>\n",
       "      <th>6</th>\n",
       "      <td>diabetes-data/data_07.csv</td>\n",
       "      <td>6fe12119-47c5-418a-8d0d-cb4d7b5c4b6e</td>\n",
       "      <td>[#diabetes, #pima-indians-database, #data_07.csv]</td>\n",
       "      <td>Tensor</td>\n",
       "      <td>(200, 9)</td>\n",
       "    </tr>\n",
       "    <tr>\n",
       "      <th>7</th>\n",
       "      <td>diabetes-data/data_08.csv</td>\n",
       "      <td>ff42eea7-31f6-491d-898d-5c98e1bc8be6</td>\n",
       "      <td>[#diabetes, #pima-indians-database, #data_08.csv]</td>\n",
       "      <td>Tensor</td>\n",
       "      <td>(200, 9)</td>\n",
       "    </tr>\n",
       "    <tr>\n",
       "      <th>8</th>\n",
       "      <td>diabetes-data/data_09.csv</td>\n",
       "      <td>36219d2c-dd27-45c4-8916-7a682039c4b2</td>\n",
       "      <td>[#diabetes, #pima-indians-database, #data_09.csv]</td>\n",
       "      <td>Tensor</td>\n",
       "      <td>(200, 9)</td>\n",
       "    </tr>\n",
       "    <tr>\n",
       "      <th>9</th>\n",
       "      <td>diabetes-data/data_05.csv</td>\n",
       "      <td>700422e3-4045-4276-8989-b6fb122e7217</td>\n",
       "      <td>[#diabetes, #pima-indians-database, #data_05.csv]</td>\n",
       "      <td>Tensor</td>\n",
       "      <td>(200, 9)</td>\n",
       "    </tr>\n",
       "    <tr>\n",
       "      <th>10</th>\n",
       "      <td>diabetes-data/data_01.csv</td>\n",
       "      <td>6372f553-bda0-4783-997b-58a4828d073f</td>\n",
       "      <td>[#diabetes, #pima-indians-database, #data_01.csv]</td>\n",
       "      <td>Tensor</td>\n",
       "      <td>(200, 9)</td>\n",
       "    </tr>\n",
       "  </tbody>\n",
       "</table>\n",
       "</div>"
      ],
      "text/plain": [
       "                          name                                    id  \\\n",
       "0    diabetes-data/data_02.csv  3d82e9a3-72b2-4b0c-8b6b-3fd33158eae7   \n",
       "1    diabetes-data/data_06.csv  ba1d1e5c-7f60-4f01-8a21-cfc57811923b   \n",
       "2    diabetes-data/data_10.csv  34964199-d7e7-4f2a-be63-6d8385276f93   \n",
       "3    diabetes-data/data_03.csv  a9d518a9-8607-44a1-a7a8-baf472880b76   \n",
       "4    diabetes-data/data_04.csv  795a5b38-3ca9-4613-b61d-fe61308a02c7   \n",
       "5   diabetes-data/new_data.csv  d4d29f93-546c-4574-92f0-845eedd95537   \n",
       "6    diabetes-data/data_07.csv  6fe12119-47c5-418a-8d0d-cb4d7b5c4b6e   \n",
       "7    diabetes-data/data_08.csv  ff42eea7-31f6-491d-898d-5c98e1bc8be6   \n",
       "8    diabetes-data/data_09.csv  36219d2c-dd27-45c4-8916-7a682039c4b2   \n",
       "9    diabetes-data/data_05.csv  700422e3-4045-4276-8989-b6fb122e7217   \n",
       "10   diabetes-data/data_01.csv  6372f553-bda0-4783-997b-58a4828d073f   \n",
       "\n",
       "                                                 tags   dtype      shape  \n",
       "0   [#diabetes, #pima-indians-database, #data_02.csv]  Tensor   (200, 9)  \n",
       "1   [#diabetes, #pima-indians-database, #data_06.csv]  Tensor   (200, 9)  \n",
       "2   [#diabetes, #pima-indians-database, #data_10.csv]  Tensor   (200, 9)  \n",
       "3   [#diabetes, #pima-indians-database, #data_03.csv]  Tensor   (200, 9)  \n",
       "4   [#diabetes, #pima-indians-database, #data_04.csv]  Tensor   (200, 9)  \n",
       "5   [#diabetes, #pima-indians-database, #new_data....  Tensor  (2000, 9)  \n",
       "6   [#diabetes, #pima-indians-database, #data_07.csv]  Tensor   (200, 9)  \n",
       "7   [#diabetes, #pima-indians-database, #data_08.csv]  Tensor   (200, 9)  \n",
       "8   [#diabetes, #pima-indians-database, #data_09.csv]  Tensor   (200, 9)  \n",
       "9   [#diabetes, #pima-indians-database, #data_05.csv]  Tensor   (200, 9)  \n",
       "10  [#diabetes, #pima-indians-database, #data_01.csv]  Tensor   (200, 9)  "
      ]
     },
     "execution_count": 8,
     "metadata": {},
     "output_type": "execute_result"
    }
   ],
   "source": [
    "dataset = cp_officer.datasets.create('diabetes-dataset.tar.gz')\n",
    "dataset.pandas"
   ]
  },
  {
   "cell_type": "markdown",
   "id": "4fde0495",
   "metadata": {},
   "source": [
    "Now, the dataset is available to be used remotely by a data scientist."
   ]
  },
  {
   "cell_type": "markdown",
   "id": "c623fd98",
   "metadata": {},
   "source": [
    "### <img src=\"https://github.com/OpenMined/design-assets/raw/master/logos/OM/mark-primary-light.png\" alt=\"he-black-box\" width=\"100\"/> Checkpoint : Now STOP and run the Data Scientist notebook until the next checkpoint."
   ]
  },
  {
   "cell_type": "markdown",
   "id": "9744298b",
   "metadata": {},
   "source": [
    "## Data access triage"
   ]
  },
  {
   "cell_type": "markdown",
   "id": "9965bdd1",
   "metadata": {},
   "source": [
    "Empowered by the data access management, the compliance officer the evaluate each request accepting or denying them."
   ]
  },
  {
   "cell_type": "code",
   "execution_count": 9,
   "id": "4bf58a8c",
   "metadata": {},
   "outputs": [
    {
     "data": {
      "text/html": [
       "<div>\n",
       "<style scoped>\n",
       "    .dataframe tbody tr th:only-of-type {\n",
       "        vertical-align: middle;\n",
       "    }\n",
       "\n",
       "    .dataframe tbody tr th {\n",
       "        vertical-align: top;\n",
       "    }\n",
       "\n",
       "    .dataframe thead th {\n",
       "        text-align: right;\n",
       "    }\n",
       "</style>\n",
       "<table border=\"1\" class=\"dataframe\">\n",
       "  <thead>\n",
       "    <tr style=\"text-align: right;\">\n",
       "      <th></th>\n",
       "      <th>Requested Object's tags</th>\n",
       "      <th>Reason</th>\n",
       "      <th>Request ID</th>\n",
       "      <th>Requested Object's ID</th>\n",
       "      <th>Requested Object's type</th>\n",
       "    </tr>\n",
       "  </thead>\n",
       "  <tbody>\n",
       "    <tr>\n",
       "      <th>0</th>\n",
       "      <td>[#diabetes, #pima-indians-database, #data_02.c...</td>\n",
       "      <td>I'd like to have access to my accuracy result!</td>\n",
       "      <td>&lt;UID: c33fde8ca5934600889b9fe9cc3f9497&gt;</td>\n",
       "      <td>&lt;UID: 4600eeb273844b60bdaa5d8068047117&gt;</td>\n",
       "      <td></td>\n",
       "    </tr>\n",
       "  </tbody>\n",
       "</table>\n",
       "</div>"
      ],
      "text/plain": [
       "                             Requested Object's tags  \\\n",
       "0  [#diabetes, #pima-indians-database, #data_02.c...   \n",
       "\n",
       "                                           Reason  \\\n",
       "0  I'd like to have access to my accuracy result!   \n",
       "\n",
       "                                Request ID  \\\n",
       "0  <UID: c33fde8ca5934600889b9fe9cc3f9497>   \n",
       "\n",
       "                     Requested Object's ID Requested Object's type  \n",
       "0  <UID: 4600eeb273844b60bdaa5d8068047117>                          "
      ]
     },
     "execution_count": 9,
     "metadata": {},
     "output_type": "execute_result"
    }
   ],
   "source": [
    "cp_officer.requests.pandas"
   ]
  },
  {
   "cell_type": "code",
   "execution_count": 10,
   "id": "59fd9dd7",
   "metadata": {},
   "outputs": [],
   "source": [
    "cp_officer.requests[0].accept()"
   ]
  },
  {
   "cell_type": "markdown",
   "id": "1a6cde92",
   "metadata": {},
   "source": [
    "## Congratulations!!! - Time to Join the Community!\n",
    "\n",
    "Congratulations on completing this notebook tutorial! If you enjoyed this and would like to join the movement toward privacy preserving, decentralized ownership of AI and the AI supply chain (data), you can do so in the following ways!\n",
    "\n",
    "### Star PySyft and SyMPC on GitHub\n",
    "The easiest way to help our community is just by starring the GitHub repos! This helps raise awareness of the cool tools we're building.\n",
    "\n",
    "* [Star PySyft](https://github.com/OpenMined/PySyft)\n",
    "* [Star PyGrid](https://github.com/OpenMined/PyGrid)\n",
    "\n",
    "### Join our Slack!\n",
    "The best way to keep up to date on the latest advancements is to join our community! You can do so by filling out the form at http://slack.openmined.org\n",
    "\n",
    "### Join a Code Project!\n",
    "The best way to contribute to our community is to become a code contributor! At any time you can go to PySyft GitHub Issues page and filter for \"Projects\". This will show you all the top level Tickets giving an overview of what projects you can join! If you don't want to join a project, but you would like to do a bit of coding, you can also look for more \"one off\" mini-projects by searching for GitHub issues marked \"good first issue\".\n",
    "\n",
    "* [PySyft Good First Issue Tickets](https://github.com/OpenMined/PySyft/labels/Good%20first%20issue%20%3Amortar_board%3A)\n",
    "* [PyGrid Good First Issue Tickets](https://github.com/OpenMined/PyGrid/labels/good%20first%20issue)\n",
    "\n",
    "### Donate\n",
    "If you don't have time to contribute to our codebase, but would still like to lend support, you can also become a Backer on our Open Collective. All donations go toward our web hosting and other community expenses such as hackathons and meetups!\n",
    "\n",
    "* [OpenMined's Open Collective Page](https://opencollective.com/openmined)"
   ]
  }
 ],
 "metadata": {
  "kernelspec": {
   "display_name": "Python 3",
   "language": "python",
   "name": "python3"
  },
  "language_info": {
   "codemirror_mode": {
    "name": "ipython",
    "version": 3
   },
   "file_extension": ".py",
   "mimetype": "text/x-python",
   "name": "python",
   "nbconvert_exporter": "python",
   "pygments_lexer": "ipython3",
   "version": "3.8.5"
  }
 },
 "nbformat": 4,
 "nbformat_minor": 5
}
