{
 "cells": [
  {
   "cell_type": "markdown",
   "id": "fa84a6d1",
   "metadata": {},
   "source": [
    "# PyGrid: Remote Inference (Data Owner)"
   ]
  },
  {
   "cell_type": "markdown",
   "id": "bd1c72fa",
   "metadata": {},
   "source": [
    "<img src=\"../../../docs/img/pygrid_logo.png\" align=\"center\"/>\n",
    "\n",
    "Evaluate custom models using private datasets without having access to them is a powerfull resource that can change the way we interact with data during a machine learning workflow, PySyft and PyGrid offers the ability to run inferences remotely by using a variety of technologies and applications.\n",
    "\n",
    "In this notebook series, we'll be covering all the nuances of this process, showing how to send private datasets _(as data owner)_, and how to perform remote computation using private environments _(as data scientist)_.<br><br>The main goal of these notebooks is to explore different techniques and technologies that can turn **private data _\"accessible\"_ while also empower data owners with total control of their own data.**\n",
    "\n",
    "**NOTE**: _This notebook was designed to be executed in pair with the [\\[Data Scientist\\] PyGrid Remote Inference](http://github.com/OpenMined). In order to reproduce it properly, follow the checkpoints and instructions described in the next sections._"
   ]
  },
  {
   "cell_type": "markdown",
   "id": "270456c1",
   "metadata": {},
   "source": [
    "### Overview\n",
    "\n",
    "- [**Initial setup**](#initial-setup)\n",
    "- [**Create a compliance officer account**](#create-a-compliance-officer-account)\n",
    "- [**Hosting datasets**](#hosting-datasets)\n",
    "- [**Data access triage**](#data-access-request-triage)"
   ]
  },
  {
   "cell_type": "markdown",
   "id": "98ed0f4e",
   "metadata": {},
   "source": [
    "## Initial Setup\n",
    "<p>The first thing to do after deploying a domain, is to set its initial configuration. Here we can define some values and flags that will change how the domain will behave. We also use this step to create the owner account, which will have full control and access to the platform. As long as this step is not executed, all other endpoints/features will be blocked.</p>"
   ]
  },
  {
   "cell_type": "markdown",
   "id": "15381297",
   "metadata": {},
   "source": [
    "### Importing libs"
   ]
  },
  {
   "cell_type": "code",
   "execution_count": 1,
   "id": "7075b444",
   "metadata": {},
   "outputs": [],
   "source": [
    "from syft.grid.client.client import connect # Method used to connect with the domain.\n",
    "from syft.grid.client.grid_connection import GridHTTPConnection # Protocol used to talk with the domain\n",
    "\n",
    "import syft as sy\n",
    "import torch as th\n",
    "\n",
    "# Set logging level\n",
    "import logging\n",
    "logging.basicConfig(level=logging.INFO)"
   ]
  },
  {
   "cell_type": "code",
   "execution_count": 2,
   "id": "1bca8564",
   "metadata": {},
   "outputs": [
    {
     "name": "stderr",
     "output_type": "stream",
     "text": [
      "INFO:root:Running initial setup!\n"
     ]
    }
   ],
   "source": [
    "# 1 - Since we still don't have any account registered,\n",
    "# we can connect with the domain without credentials.\n",
    "domain_client = connect(\n",
    "    url=\"http://localhost:5000\", # Domain Address\n",
    "    conn_type=GridHTTPConnection,) # HTTP Connection Protocol\n",
    "\n",
    "# 2 - Set the domain initial configuration\n",
    "# - Owner's email/password\n",
    "# - Domain Name used to identify this owner.\n",
    "# - Random token generated during deployment\n",
    "domain_client.setup(\n",
    "    email=\"owner@myorg.com\",\n",
    "    password=\"owerpwd\",\n",
    "    domain_name=\"OpenMined Domain\",\n",
    "    token=\"9G9MJ06OQH\"\n",
    ")\n",
    "\n",
    "\n",
    "# 3 - Now, we have an account registered!\n",
    "# Let's connect with the domain as using owner credentials.\n",
    "domain = connect(\n",
    "    url=\"http://localhost:5000\", # Domain Address\n",
    "    credentials={\"email\":\"owner@myorg.com\", \"password\":\"owerpwd\"},\n",
    "    conn_type= GridHTTPConnection,) # HTTP Connection Protocol"
   ]
  },
  {
   "cell_type": "markdown",
   "id": "7fca1901",
   "metadata": {},
   "source": [
    "_PS : For didatic purposes, we have reduced the number of parameters used in the \"setup\" process. But the domain also accepts a set of optional parameters. If you want to know more about the initial setup process, it's highly recommended to read our roadmap._"
   ]
  },
  {
   "cell_type": "markdown",
   "id": "519607c5",
   "metadata": {},
   "source": [
    "## Hosting Datasets\n",
    "\n",
    "As a domain owner, we're also able to upload new datasets to the domain. We can do it by using two different approaches:\n",
    "\n",
    "- **Tensor Data Structures**: Using the torch tensor structures and the default PySyft API\n",
    "- **Structured and compressed CSV folder** : We can upload a _.tar.gz_ file  by using the PyGrid API.\n",
    "\n",
    "We'll be covering the second one, sending a compressed file containing a structured folder with different CSV files + metadata information about the dataset _(manifest, description and tags)_."
   ]
  },
  {
   "cell_type": "code",
   "execution_count": 3,
   "id": "e81e43c7",
   "metadata": {},
   "outputs": [
    {
     "data": {
      "text/html": [
       "<div>\n",
       "<style scoped>\n",
       "    .dataframe tbody tr th:only-of-type {\n",
       "        vertical-align: middle;\n",
       "    }\n",
       "\n",
       "    .dataframe tbody tr th {\n",
       "        vertical-align: top;\n",
       "    }\n",
       "\n",
       "    .dataframe thead th {\n",
       "        text-align: right;\n",
       "    }\n",
       "</style>\n",
       "<table border=\"1\" class=\"dataframe\">\n",
       "  <thead>\n",
       "    <tr style=\"text-align: right;\">\n",
       "      <th></th>\n",
       "      <th>name</th>\n",
       "      <th>id</th>\n",
       "      <th>tags</th>\n",
       "      <th>dtype</th>\n",
       "      <th>shape</th>\n",
       "    </tr>\n",
       "  </thead>\n",
       "  <tbody>\n",
       "    <tr>\n",
       "      <th>0</th>\n",
       "      <td>diabetes-data/data_02.csv</td>\n",
       "      <td>3cb1b048-02d7-40b2-9e39-7834fd98fa96</td>\n",
       "      <td>[#diabetes, #pima-indians-database, #data_02.csv]</td>\n",
       "      <td>Tensor</td>\n",
       "      <td>(200, 9)</td>\n",
       "    </tr>\n",
       "    <tr>\n",
       "      <th>1</th>\n",
       "      <td>diabetes-data/data_06.csv</td>\n",
       "      <td>0701de80-8913-469e-b9af-45ad0046d292</td>\n",
       "      <td>[#diabetes, #pima-indians-database, #data_06.csv]</td>\n",
       "      <td>Tensor</td>\n",
       "      <td>(200, 9)</td>\n",
       "    </tr>\n",
       "    <tr>\n",
       "      <th>2</th>\n",
       "      <td>diabetes-data/data_10.csv</td>\n",
       "      <td>ce9955d0-89d5-40bc-99e1-2f6dbc13e3da</td>\n",
       "      <td>[#diabetes, #pima-indians-database, #data_10.csv]</td>\n",
       "      <td>Tensor</td>\n",
       "      <td>(200, 9)</td>\n",
       "    </tr>\n",
       "    <tr>\n",
       "      <th>3</th>\n",
       "      <td>diabetes-data/data_03.csv</td>\n",
       "      <td>3973793e-3ff6-431a-9789-793e259c0ddd</td>\n",
       "      <td>[#diabetes, #pima-indians-database, #data_03.csv]</td>\n",
       "      <td>Tensor</td>\n",
       "      <td>(200, 9)</td>\n",
       "    </tr>\n",
       "    <tr>\n",
       "      <th>4</th>\n",
       "      <td>diabetes-data/data_04.csv</td>\n",
       "      <td>b0bbc51e-fc61-4c93-9335-dd4f39a2baa2</td>\n",
       "      <td>[#diabetes, #pima-indians-database, #data_04.csv]</td>\n",
       "      <td>Tensor</td>\n",
       "      <td>(200, 9)</td>\n",
       "    </tr>\n",
       "    <tr>\n",
       "      <th>5</th>\n",
       "      <td>diabetes-data/new_data.csv</td>\n",
       "      <td>c4bd6609-5ed9-4432-bc1b-390f11270a9e</td>\n",
       "      <td>[#diabetes, #pima-indians-database, #new_data....</td>\n",
       "      <td>Tensor</td>\n",
       "      <td>(2000, 9)</td>\n",
       "    </tr>\n",
       "    <tr>\n",
       "      <th>6</th>\n",
       "      <td>diabetes-data/data_07.csv</td>\n",
       "      <td>3508dfc3-941c-42e7-a2f1-0ddee84b3bb2</td>\n",
       "      <td>[#diabetes, #pima-indians-database, #data_07.csv]</td>\n",
       "      <td>Tensor</td>\n",
       "      <td>(200, 9)</td>\n",
       "    </tr>\n",
       "    <tr>\n",
       "      <th>7</th>\n",
       "      <td>diabetes-data/data_08.csv</td>\n",
       "      <td>b35cb625-00ef-494b-a318-21115ce2c695</td>\n",
       "      <td>[#diabetes, #pima-indians-database, #data_08.csv]</td>\n",
       "      <td>Tensor</td>\n",
       "      <td>(200, 9)</td>\n",
       "    </tr>\n",
       "    <tr>\n",
       "      <th>8</th>\n",
       "      <td>diabetes-data/data_09.csv</td>\n",
       "      <td>213c1e8e-2520-4d82-92e5-d9a4ff202021</td>\n",
       "      <td>[#diabetes, #pima-indians-database, #data_09.csv]</td>\n",
       "      <td>Tensor</td>\n",
       "      <td>(200, 9)</td>\n",
       "    </tr>\n",
       "    <tr>\n",
       "      <th>9</th>\n",
       "      <td>diabetes-data/data_05.csv</td>\n",
       "      <td>37fc6be6-157e-4c7e-987c-03df0447d35a</td>\n",
       "      <td>[#diabetes, #pima-indians-database, #data_05.csv]</td>\n",
       "      <td>Tensor</td>\n",
       "      <td>(200, 9)</td>\n",
       "    </tr>\n",
       "    <tr>\n",
       "      <th>10</th>\n",
       "      <td>diabetes-data/data_01.csv</td>\n",
       "      <td>79c0b605-d1bf-465e-8a63-b2956f655c01</td>\n",
       "      <td>[#diabetes, #pima-indians-database, #data_01.csv]</td>\n",
       "      <td>Tensor</td>\n",
       "      <td>(200, 9)</td>\n",
       "    </tr>\n",
       "  </tbody>\n",
       "</table>\n",
       "</div>"
      ],
      "text/plain": [
       "                          name                                    id  \\\n",
       "0    diabetes-data/data_02.csv  3cb1b048-02d7-40b2-9e39-7834fd98fa96   \n",
       "1    diabetes-data/data_06.csv  0701de80-8913-469e-b9af-45ad0046d292   \n",
       "2    diabetes-data/data_10.csv  ce9955d0-89d5-40bc-99e1-2f6dbc13e3da   \n",
       "3    diabetes-data/data_03.csv  3973793e-3ff6-431a-9789-793e259c0ddd   \n",
       "4    diabetes-data/data_04.csv  b0bbc51e-fc61-4c93-9335-dd4f39a2baa2   \n",
       "5   diabetes-data/new_data.csv  c4bd6609-5ed9-4432-bc1b-390f11270a9e   \n",
       "6    diabetes-data/data_07.csv  3508dfc3-941c-42e7-a2f1-0ddee84b3bb2   \n",
       "7    diabetes-data/data_08.csv  b35cb625-00ef-494b-a318-21115ce2c695   \n",
       "8    diabetes-data/data_09.csv  213c1e8e-2520-4d82-92e5-d9a4ff202021   \n",
       "9    diabetes-data/data_05.csv  37fc6be6-157e-4c7e-987c-03df0447d35a   \n",
       "10   diabetes-data/data_01.csv  79c0b605-d1bf-465e-8a63-b2956f655c01   \n",
       "\n",
       "                                                 tags   dtype      shape  \n",
       "0   [#diabetes, #pima-indians-database, #data_02.csv]  Tensor   (200, 9)  \n",
       "1   [#diabetes, #pima-indians-database, #data_06.csv]  Tensor   (200, 9)  \n",
       "2   [#diabetes, #pima-indians-database, #data_10.csv]  Tensor   (200, 9)  \n",
       "3   [#diabetes, #pima-indians-database, #data_03.csv]  Tensor   (200, 9)  \n",
       "4   [#diabetes, #pima-indians-database, #data_04.csv]  Tensor   (200, 9)  \n",
       "5   [#diabetes, #pima-indians-database, #new_data....  Tensor  (2000, 9)  \n",
       "6   [#diabetes, #pima-indians-database, #data_07.csv]  Tensor   (200, 9)  \n",
       "7   [#diabetes, #pima-indians-database, #data_08.csv]  Tensor   (200, 9)  \n",
       "8   [#diabetes, #pima-indians-database, #data_09.csv]  Tensor   (200, 9)  \n",
       "9   [#diabetes, #pima-indians-database, #data_05.csv]  Tensor   (200, 9)  \n",
       "10  [#diabetes, #pima-indians-database, #data_01.csv]  Tensor   (200, 9)  "
      ]
     },
     "execution_count": 3,
     "metadata": {},
     "output_type": "execute_result"
    }
   ],
   "source": [
    "dataset = domain.datasets.create('diabetes-dataset.tar.gz')\n",
    "dataset.pandas"
   ]
  },
  {
   "cell_type": "markdown",
   "id": "1f9e23d4",
   "metadata": {},
   "source": [
    "Now, the dataset is available to be used remotely by a data scientist."
   ]
  },
  {
   "cell_type": "markdown",
   "id": "8ad88f9d",
   "metadata": {},
   "source": [
    "## Create a compliance officer account\n",
    "By default, PyGrid initializes with 4 pre-set roles that can be attached to the users. These roles are used to define what a user is allowed or not allowed to do when logged-in. You can check its permissions by executing this code snippet."
   ]
  },
  {
   "cell_type": "markdown",
   "id": "4102b365",
   "metadata": {},
   "source": [
    "### Roles"
   ]
  },
  {
   "cell_type": "code",
   "execution_count": 4,
   "id": "bd5dbfe6",
   "metadata": {},
   "outputs": [
    {
     "data": {
      "text/html": [
       "<div>\n",
       "<style scoped>\n",
       "    .dataframe tbody tr th:only-of-type {\n",
       "        vertical-align: middle;\n",
       "    }\n",
       "\n",
       "    .dataframe tbody tr th {\n",
       "        vertical-align: top;\n",
       "    }\n",
       "\n",
       "    .dataframe thead th {\n",
       "        text-align: right;\n",
       "    }\n",
       "</style>\n",
       "<table border=\"1\" class=\"dataframe\">\n",
       "  <thead>\n",
       "    <tr style=\"text-align: right;\">\n",
       "      <th></th>\n",
       "      <th>id</th>\n",
       "      <th>name</th>\n",
       "      <th>can_triage_requests</th>\n",
       "      <th>can_edit_settings</th>\n",
       "      <th>can_create_users</th>\n",
       "      <th>can_create_groups</th>\n",
       "      <th>can_edit_roles</th>\n",
       "      <th>can_manage_infrastructure</th>\n",
       "      <th>can_upload_data</th>\n",
       "    </tr>\n",
       "  </thead>\n",
       "  <tbody>\n",
       "    <tr>\n",
       "      <th>0</th>\n",
       "      <td>1</td>\n",
       "      <td>User</td>\n",
       "      <td>False</td>\n",
       "      <td>False</td>\n",
       "      <td>False</td>\n",
       "      <td>False</td>\n",
       "      <td>False</td>\n",
       "      <td>False</td>\n",
       "      <td>False</td>\n",
       "    </tr>\n",
       "    <tr>\n",
       "      <th>1</th>\n",
       "      <td>2</td>\n",
       "      <td>Compliance Officer</td>\n",
       "      <td>True</td>\n",
       "      <td>False</td>\n",
       "      <td>False</td>\n",
       "      <td>False</td>\n",
       "      <td>False</td>\n",
       "      <td>False</td>\n",
       "      <td>False</td>\n",
       "    </tr>\n",
       "    <tr>\n",
       "      <th>2</th>\n",
       "      <td>3</td>\n",
       "      <td>Administrator</td>\n",
       "      <td>True</td>\n",
       "      <td>True</td>\n",
       "      <td>True</td>\n",
       "      <td>True</td>\n",
       "      <td>False</td>\n",
       "      <td>False</td>\n",
       "      <td>True</td>\n",
       "    </tr>\n",
       "    <tr>\n",
       "      <th>3</th>\n",
       "      <td>4</td>\n",
       "      <td>Owner</td>\n",
       "      <td>True</td>\n",
       "      <td>True</td>\n",
       "      <td>True</td>\n",
       "      <td>True</td>\n",
       "      <td>True</td>\n",
       "      <td>True</td>\n",
       "      <td>True</td>\n",
       "    </tr>\n",
       "  </tbody>\n",
       "</table>\n",
       "</div>"
      ],
      "text/plain": [
       "   id                name  can_triage_requests  can_edit_settings  \\\n",
       "0   1                User                False              False   \n",
       "1   2  Compliance Officer                 True              False   \n",
       "2   3       Administrator                 True               True   \n",
       "3   4               Owner                 True               True   \n",
       "\n",
       "   can_create_users  can_create_groups  can_edit_roles  \\\n",
       "0             False              False           False   \n",
       "1             False              False           False   \n",
       "2              True               True           False   \n",
       "3              True               True            True   \n",
       "\n",
       "   can_manage_infrastructure  can_upload_data  \n",
       "0                      False            False  \n",
       "1                      False            False  \n",
       "2                      False             True  \n",
       "3                       True             True  "
      ]
     },
     "execution_count": 4,
     "metadata": {},
     "output_type": "execute_result"
    }
   ],
   "source": [
    "domain.roles.all(pandas=True)"
   ]
  },
  {
   "cell_type": "markdown",
   "id": "85d031a2",
   "metadata": {},
   "source": [
    "These roles are not static _(excluding owner role)_ and can be updated or deleted if necessary. You can also create new ones if needed."
   ]
  },
  {
   "cell_type": "markdown",
   "id": "4d5e45d8",
   "metadata": {},
   "source": [
    "Using owner permissions, you can also check and change the roles used by each user registered in the domain."
   ]
  },
  {
   "cell_type": "code",
   "execution_count": 5,
   "id": "e63f8643",
   "metadata": {},
   "outputs": [
    {
     "data": {
      "text/html": [
       "<div>\n",
       "<style scoped>\n",
       "    .dataframe tbody tr th:only-of-type {\n",
       "        vertical-align: middle;\n",
       "    }\n",
       "\n",
       "    .dataframe tbody tr th {\n",
       "        vertical-align: top;\n",
       "    }\n",
       "\n",
       "    .dataframe thead th {\n",
       "        text-align: right;\n",
       "    }\n",
       "</style>\n",
       "<table border=\"1\" class=\"dataframe\">\n",
       "  <thead>\n",
       "    <tr style=\"text-align: right;\">\n",
       "      <th></th>\n",
       "      <th>id</th>\n",
       "      <th>email</th>\n",
       "      <th>private_key</th>\n",
       "      <th>verify_key</th>\n",
       "      <th>role</th>\n",
       "      <th>groups</th>\n",
       "    </tr>\n",
       "  </thead>\n",
       "  <tbody>\n",
       "    <tr>\n",
       "      <th>0</th>\n",
       "      <td>1</td>\n",
       "      <td>owner@myorg.com</td>\n",
       "      <td>4cc3337abc17833f230e9ad40a3a497b4db372b6583334...</td>\n",
       "      <td>5a4b76384dd0708608a6bb7985f823cb8c319f8dcb3e25...</td>\n",
       "      <td>4</td>\n",
       "      <td>[]</td>\n",
       "    </tr>\n",
       "  </tbody>\n",
       "</table>\n",
       "</div>"
      ],
      "text/plain": [
       "   id            email                                        private_key  \\\n",
       "0   1  owner@myorg.com  4cc3337abc17833f230e9ad40a3a497b4db372b6583334...   \n",
       "\n",
       "                                          verify_key  role groups  \n",
       "0  5a4b76384dd0708608a6bb7985f823cb8c319f8dcb3e25...     4     []  "
      ]
     },
     "execution_count": 5,
     "metadata": {},
     "output_type": "execute_result"
    }
   ],
   "source": [
    "domain.users.all(pandas=True)"
   ]
  },
  {
   "cell_type": "markdown",
   "id": "c0448eea",
   "metadata": {},
   "source": [
    "### User Creation\n",
    "\n",
    "PyGrid allow people to create new accounts by themselves, therefore, these accounts will always be  attached to the User role _(without any management permissions)_. Considering the default roles, only the Owner and Administrator accounts would be able to create new accounts attached with different permissions.<br><br>\n",
    "For our use case, we'll create a **compliance officer** account. This role is commonly assigned for users who will **evaluate data access requests**, approving or rejecting them. Since we're logged-in as a owner, we have all the requirements."
   ]
  },
  {
   "cell_type": "code",
   "execution_count": 6,
   "id": "4307af35",
   "metadata": {},
   "outputs": [
    {
     "name": "stderr",
     "output_type": "stream",
     "text": [
      "INFO:root:User created successfully!\n"
     ]
    }
   ],
   "source": [
    "domain.users.create(\n",
    "    email=\"compliance@myorg.com\",\n",
    "    password=\"pwd123\",\n",
    "    role=\"Compliance Officer\"\n",
    ")"
   ]
  },
  {
   "cell_type": "code",
   "execution_count": 7,
   "id": "9dc6fd0e",
   "metadata": {},
   "outputs": [
    {
     "data": {
      "text/html": [
       "<div>\n",
       "<style scoped>\n",
       "    .dataframe tbody tr th:only-of-type {\n",
       "        vertical-align: middle;\n",
       "    }\n",
       "\n",
       "    .dataframe tbody tr th {\n",
       "        vertical-align: top;\n",
       "    }\n",
       "\n",
       "    .dataframe thead th {\n",
       "        text-align: right;\n",
       "    }\n",
       "</style>\n",
       "<table border=\"1\" class=\"dataframe\">\n",
       "  <thead>\n",
       "    <tr style=\"text-align: right;\">\n",
       "      <th></th>\n",
       "      <th>id</th>\n",
       "      <th>email</th>\n",
       "      <th>private_key</th>\n",
       "      <th>verify_key</th>\n",
       "      <th>role</th>\n",
       "      <th>groups</th>\n",
       "    </tr>\n",
       "  </thead>\n",
       "  <tbody>\n",
       "    <tr>\n",
       "      <th>0</th>\n",
       "      <td>1</td>\n",
       "      <td>owner@myorg.com</td>\n",
       "      <td>4cc3337abc17833f230e9ad40a3a497b4db372b6583334...</td>\n",
       "      <td>5a4b76384dd0708608a6bb7985f823cb8c319f8dcb3e25...</td>\n",
       "      <td>4</td>\n",
       "      <td>[]</td>\n",
       "    </tr>\n",
       "    <tr>\n",
       "      <th>1</th>\n",
       "      <td>2</td>\n",
       "      <td>compliance@myorg.com</td>\n",
       "      <td>5b1e31e3e3c2a2b897eb3ebf81f9e674a7b1471ef0f116...</td>\n",
       "      <td>0361d9063babfdc08a8e3d78eeee812c3312e3ccc4291f...</td>\n",
       "      <td>2</td>\n",
       "      <td>[]</td>\n",
       "    </tr>\n",
       "  </tbody>\n",
       "</table>\n",
       "</div>"
      ],
      "text/plain": [
       "   id                 email  \\\n",
       "0   1       owner@myorg.com   \n",
       "1   2  compliance@myorg.com   \n",
       "\n",
       "                                         private_key  \\\n",
       "0  4cc3337abc17833f230e9ad40a3a497b4db372b6583334...   \n",
       "1  5b1e31e3e3c2a2b897eb3ebf81f9e674a7b1471ef0f116...   \n",
       "\n",
       "                                          verify_key  role groups  \n",
       "0  5a4b76384dd0708608a6bb7985f823cb8c319f8dcb3e25...     4     []  \n",
       "1  0361d9063babfdc08a8e3d78eeee812c3312e3ccc4291f...     2     []  "
      ]
     },
     "execution_count": 7,
     "metadata": {},
     "output_type": "execute_result"
    }
   ],
   "source": [
    "domain.users.all(pandas=True)"
   ]
  },
  {
   "cell_type": "markdown",
   "id": "b6e5eb07",
   "metadata": {},
   "source": [
    "### Login as a Compliance Officer\n",
    "To be accurate to this use case, we'll log-in as compliance officer.<br><br>\n",
    "**From now on, we'll use only compliance officer credentials to go through this use case.**"
   ]
  },
  {
   "cell_type": "code",
   "execution_count": 8,
   "id": "091d9c18",
   "metadata": {},
   "outputs": [],
   "source": [
    "cp_officer = connect(\n",
    "    url=\"http://localhost:5000\", # Domain Address\n",
    "    credentials={\"email\":\"compliance@myorg.com\", \"password\":\"pwd123\"},\n",
    "    conn_type= GridHTTPConnection,) # HTTP Connection Protocol"
   ]
  },
  {
   "cell_type": "markdown",
   "id": "c623fd98",
   "metadata": {},
   "source": [
    "### <img src=\"https://github.com/OpenMined/design-assets/raw/master/logos/OM/mark-primary-light.png\" alt=\"he-black-box\" width=\"100\"/> Checkpoint : Now STOP and run the Data Scientist notebook until the next checkpoint."
   ]
  },
  {
   "cell_type": "markdown",
   "id": "9744298b",
   "metadata": {},
   "source": [
    "## Data access triage"
   ]
  },
  {
   "cell_type": "markdown",
   "id": "9965bdd1",
   "metadata": {},
   "source": [
    "Empowered by the data access management, the compliance officer the evaluate each request accepting or denying them."
   ]
  },
  {
   "cell_type": "code",
   "execution_count": 9,
   "id": "582602f8",
   "metadata": {},
   "outputs": [
    {
     "data": {
      "text/html": [
       "<div>\n",
       "<style scoped>\n",
       "    .dataframe tbody tr th:only-of-type {\n",
       "        vertical-align: middle;\n",
       "    }\n",
       "\n",
       "    .dataframe tbody tr th {\n",
       "        vertical-align: top;\n",
       "    }\n",
       "\n",
       "    .dataframe thead th {\n",
       "        text-align: right;\n",
       "    }\n",
       "</style>\n",
       "<table border=\"1\" class=\"dataframe\">\n",
       "  <thead>\n",
       "    <tr style=\"text-align: right;\">\n",
       "      <th></th>\n",
       "      <th>Requested Object's tags</th>\n",
       "      <th>Reason</th>\n",
       "      <th>Request ID</th>\n",
       "      <th>Requested Object's ID</th>\n",
       "      <th>Requested Object's type</th>\n",
       "    </tr>\n",
       "  </thead>\n",
       "  <tbody>\n",
       "    <tr>\n",
       "      <th>0</th>\n",
       "      <td>[#diabetes, #pima-indians-database, #data_02.c...</td>\n",
       "      <td>I'd like to have access to my accuracy result!</td>\n",
       "      <td>&lt;UID: 5ebb973b356644dda0f16ff2d256de2a&gt;</td>\n",
       "      <td>&lt;UID: 0cbd040781a04559ba40e983723d8d2c&gt;</td>\n",
       "      <td>&lt;class 'syft.lib.python.Float'&gt;</td>\n",
       "    </tr>\n",
       "  </tbody>\n",
       "</table>\n",
       "</div>"
      ],
      "text/plain": [
       "                             Requested Object's tags  \\\n",
       "0  [#diabetes, #pima-indians-database, #data_02.c...   \n",
       "\n",
       "                                           Reason  \\\n",
       "0  I'd like to have access to my accuracy result!   \n",
       "\n",
       "                                Request ID  \\\n",
       "0  <UID: 5ebb973b356644dda0f16ff2d256de2a>   \n",
       "\n",
       "                     Requested Object's ID          Requested Object's type  \n",
       "0  <UID: 0cbd040781a04559ba40e983723d8d2c>  <class 'syft.lib.python.Float'>  "
      ]
     },
     "execution_count": 9,
     "metadata": {},
     "output_type": "execute_result"
    }
   ],
   "source": [
    "cp_officer.requests.pandas"
   ]
  },
  {
   "cell_type": "code",
   "execution_count": 10,
   "id": "59fd9dd7",
   "metadata": {},
   "outputs": [],
   "source": [
    "cp_officer.requests[0].accept()"
   ]
  },
  {
   "cell_type": "markdown",
   "id": "1a6cde92",
   "metadata": {},
   "source": [
    "## Congratulations!!! - Time to Join the Community!\n",
    "\n",
    "Congratulations on completing this notebook tutorial! If you enjoyed this and would like to join the movement toward privacy preserving, decentralized ownership of AI and the AI supply chain (data), you can do so in the following ways!\n",
    "\n",
    "### Star PySyft and SyMPC on GitHub\n",
    "The easiest way to help our community is just by starring the GitHub repos! This helps raise awareness of the cool tools we're building.\n",
    "\n",
    "* [Star PySyft](https://github.com/OpenMined/PySyft)\n",
    "* [Star PyGrid](https://github.com/OpenMined/PyGrid)\n",
    "\n",
    "### Join our Slack!\n",
    "The best way to keep up to date on the latest advancements is to join our community! You can do so by filling out the form at http://slack.openmined.org\n",
    "\n",
    "### Join a Code Project!\n",
    "The best way to contribute to our community is to become a code contributor! At any time you can go to PySyft GitHub Issues page and filter for \"Projects\". This will show you all the top level Tickets giving an overview of what projects you can join! If you don't want to join a project, but you would like to do a bit of coding, you can also look for more \"one off\" mini-projects by searching for GitHub issues marked \"good first issue\".\n",
    "\n",
    "* [PySyft Good First Issue Tickets](https://github.com/OpenMined/PySyft/labels/Good%20first%20issue%20%3Amortar_board%3A)\n",
    "* [PyGrid Good First Issue Tickets](https://github.com/OpenMined/PyGrid/labels/good%20first%20issue)\n",
    "\n",
    "### Donate\n",
    "If you don't have time to contribute to our codebase, but would still like to lend support, you can also become a Backer on our Open Collective. All donations go toward our web hosting and other community expenses such as hackathons and meetups!\n",
    "\n",
    "* [OpenMined's Open Collective Page](https://opencollective.com/openmined)"
   ]
  }
 ],
 "metadata": {
  "kernelspec": {
   "display_name": "Python 3",
   "language": "python",
   "name": "python3"
  },
  "language_info": {
   "codemirror_mode": {
    "name": "ipython",
    "version": 3
   },
   "file_extension": ".py",
   "mimetype": "text/x-python",
   "name": "python",
   "nbconvert_exporter": "python",
   "pygments_lexer": "ipython3",
   "version": "3.8.5"
  }
 },
 "nbformat": 4,
 "nbformat_minor": 5
}
