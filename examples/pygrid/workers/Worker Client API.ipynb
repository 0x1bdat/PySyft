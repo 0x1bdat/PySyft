{
 "cells": [
  {
   "cell_type": "markdown",
   "metadata": {},
   "source": [
    "# PyGrid Client Worker API"
   ]
  },
  {
   "cell_type": "markdown",
   "metadata": {},
   "source": [
    "### Import Libs"
   ]
  },
  {
   "cell_type": "code",
   "execution_count": 1,
   "metadata": {},
   "outputs": [],
   "source": [
    "from syft.grid.client.client import connect\n",
    "from syft.grid.client.grid_connection import GridHTTPConnection\n",
    "from syft.core.node.domain.client import DomainClient\n",
    "\n",
    "import syft as sy\n",
    "import torch as th\n",
    "\n",
    "sy.VERBOSE = False"
   ]
  },
  {
   "cell_type": "markdown",
   "metadata": {},
   "source": [
    "### Connect performing authentication process"
   ]
  },
  {
   "cell_type": "code",
   "execution_count": 2,
   "metadata": {},
   "outputs": [],
   "source": [
    "client = connect(\n",
    "    url=\"http://localhost:5000\", # Domain Address\n",
    "    credentials={\"email\":\"admin@email.com\", \"password\":\"pwd123\"},\n",
    "    conn_type= GridHTTPConnection, # HTTP Connection Protocol\n",
    "    client_type=DomainClient) # Domain Client type"
   ]
  },
  {
   "cell_type": "markdown",
   "metadata": {},
   "source": [
    "### Create a new workers/environments"
   ]
  },
  {
   "cell_type": "code",
   "execution_count": 3,
   "metadata": {},
   "outputs": [
    {
     "data": {
      "text/plain": [
       "{'msg': 'Worker created succesfully!'}"
      ]
     },
     "execution_count": 3,
     "metadata": {},
     "output_type": "execute_result"
    }
   ],
   "source": [
    "client.create_worker(\n",
    "    name=\"Diabetes Research Environment\",\n",
    "    address=\"http://255.255.255.255\",\n",
    "    memory=\"16gb\",\n",
    "    instance=\"EC2\",\n",
    "    gpu=\"Tesla V100\")\n",
    "\n",
    "client.create_worker(\n",
    "    name=\"Breast Cancer Research Environment\",\n",
    "    address=\"http://255.255.255.255\",\n",
    "    memory=\"32gb\",\n",
    "    instance=\"EC2\",\n",
    "    gpu=\"Tesla V100\")\n",
    "\n",
    "client.create_worker(\n",
    "    name=\"Dementia Research Environment\",\n",
    "    address=\"http://255.255.255.255\",\n",
    "    memory=\"32gb\",\n",
    "    instance=\"EC2\",\n",
    "    gpu=\"Tesla V100\")"
   ]
  },
  {
   "cell_type": "markdown",
   "metadata": {},
   "source": [
    "### Get all Environments"
   ]
  },
  {
   "cell_type": "code",
   "execution_count": 4,
   "metadata": {},
   "outputs": [
    {
     "data": {
      "text/plain": [
       "{'Diabetes Research Environment': {'id': 1,\n",
       "  'name': 'Diabetes Research Environment',\n",
       "  'address': 'http://255.255.255.255',\n",
       "  'syft_address': None,\n",
       "  'memory': '16gb',\n",
       "  'instance': 'EC2',\n",
       "  'gpu': 'Tesla V100'},\n",
       " 'Breast Cancer Research Environment': {'id': 2,\n",
       "  'name': 'Breast Cancer Research Environment',\n",
       "  'address': 'http://255.255.255.255',\n",
       "  'syft_address': None,\n",
       "  'memory': '32gb',\n",
       "  'instance': 'EC2',\n",
       "  'gpu': 'Tesla V100'},\n",
       " 'Dementia Research Environment': {'id': 3,\n",
       "  'name': 'Dementia Research Environment',\n",
       "  'address': 'http://255.255.255.255',\n",
       "  'syft_address': None,\n",
       "  'memory': '32gb',\n",
       "  'instance': 'EC2',\n",
       "  'gpu': 'Tesla V100'}}"
      ]
     },
     "execution_count": 4,
     "metadata": {},
     "output_type": "execute_result"
    }
   ],
   "source": [
    "client.workers"
   ]
  },
  {
   "cell_type": "markdown",
   "metadata": {},
   "source": [
    "### Get Specific Environment"
   ]
  },
  {
   "cell_type": "code",
   "execution_count": 5,
   "metadata": {},
   "outputs": [
    {
     "data": {
      "text/plain": [
       "{'id': 1,\n",
       " 'name': 'Diabetes Research Environment',\n",
       " 'address': 'http://255.255.255.255',\n",
       " 'syft_address': None,\n",
       " 'memory': '16gb',\n",
       " 'instance': 'EC2',\n",
       " 'gpu': 'Tesla V100'}"
      ]
     },
     "execution_count": 5,
     "metadata": {},
     "output_type": "execute_result"
    }
   ],
   "source": [
    "client.get_worker(worker_id=1)"
   ]
  },
  {
   "cell_type": "markdown",
   "metadata": {},
   "source": [
    "### Delete Environment"
   ]
  },
  {
   "cell_type": "code",
   "execution_count": 6,
   "metadata": {},
   "outputs": [
    {
     "data": {
      "text/plain": [
       "{'msg': 'Worker was deleted succesfully!'}"
      ]
     },
     "execution_count": 6,
     "metadata": {},
     "output_type": "execute_result"
    }
   ],
   "source": [
    "client.delete_worker(worker_id=3)"
   ]
  },
  {
   "cell_type": "markdown",
   "metadata": {},
   "source": [
    "### Update Environment"
   ]
  },
  {
   "cell_type": "code",
   "execution_count": 7,
   "metadata": {},
   "outputs": [
    {
     "data": {
      "text/plain": [
       "{'msg': 'Worker was updated succesfully!'}"
      ]
     },
     "execution_count": 7,
     "metadata": {},
     "output_type": "execute_result"
    }
   ],
   "source": [
    "client.set_worker(worker_id=1, name=\"Testing Rename Environment\",memory=\"32gb\")"
   ]
  },
  {
   "cell_type": "code",
   "execution_count": 8,
   "metadata": {},
   "outputs": [
    {
     "data": {
      "text/plain": [
       "{'id': 1,\n",
       " 'name': 'Testing Rename Environment',\n",
       " 'address': 'http://255.255.255.255',\n",
       " 'syft_address': None,\n",
       " 'memory': '32gb',\n",
       " 'instance': 'EC2',\n",
       " 'gpu': 'Tesla V100'}"
      ]
     },
     "execution_count": 8,
     "metadata": {},
     "output_type": "execute_result"
    }
   ],
   "source": [
    "client.get_worker(worker_id=1)"
   ]
  }
 ],
 "metadata": {
  "kernelspec": {
   "display_name": "Python 3",
   "language": "python",
   "name": "python3"
  },
  "language_info": {
   "codemirror_mode": {
    "name": "ipython",
    "version": 3
   },
   "file_extension": ".py",
   "mimetype": "text/x-python",
   "name": "python",
   "nbconvert_exporter": "python",
   "pygments_lexer": "ipython3",
   "version": "3.8.5"
  }
 },
 "nbformat": 4,
 "nbformat_minor": 4
}
