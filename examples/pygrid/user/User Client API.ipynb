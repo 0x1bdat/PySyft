{
 "cells": [
  {
   "cell_type": "markdown",
   "metadata": {},
   "source": [
    "# PyGrid Client User API"
   ]
  },
  {
   "cell_type": "markdown",
   "metadata": {},
   "source": [
    "### Import Libs"
   ]
  },
  {
   "cell_type": "code",
   "execution_count": 12,
   "metadata": {},
   "outputs": [],
   "source": [
    "from syft.grid.client.client import connect\n",
    "from syft.grid.client.grid_connection import GridHTTPConnection\n",
    "from syft.core.node.domain.client import DomainClient\n",
    "\n",
    "import syft as sy\n",
    "import torch as th\n",
    "\n",
    "sy.VERBOSE = False"
   ]
  },
  {
   "cell_type": "markdown",
   "metadata": {},
   "source": [
    "### Connect without authenticate"
   ]
  },
  {
   "cell_type": "code",
   "execution_count": 13,
   "metadata": {},
   "outputs": [],
   "source": [
    "client = connect(\n",
    "    url=\"http://localhost:5000\", # Domain Address\n",
    "    conn_type= GridHTTPConnection, # HTTP Connection Protocol\n",
    "    client_type=DomainClient) # Domain Client type"
   ]
  },
  {
   "cell_type": "markdown",
   "metadata": {},
   "source": [
    "### Create the first user account\n",
    "This account will be the owner"
   ]
  },
  {
   "cell_type": "code",
   "execution_count": 14,
   "metadata": {},
   "outputs": [
    {
     "data": {
      "text/plain": [
       "{'message': 'User created successfully!'}"
      ]
     },
     "execution_count": 14,
     "metadata": {},
     "output_type": "execute_result"
    }
   ],
   "source": [
    "client.users.create(email=\"admin@email.com\", password=\"pwd123\")"
   ]
  },
  {
   "cell_type": "markdown",
   "metadata": {},
   "source": [
    "### Connect performing authentication process"
   ]
  },
  {
   "cell_type": "code",
   "execution_count": 4,
   "metadata": {},
   "outputs": [],
   "source": [
    "client = connect(\n",
    "    url=\"http://localhost:5000\", # Domain Address\n",
    "    credentials={\"email\":\"admin@email.com\", \"password\":\"pwd123\"},\n",
    "    conn_type= GridHTTPConnection, # HTTP Connection Protocol\n",
    "    client_type=DomainClient) # Domain Client type"
   ]
  },
  {
   "cell_type": "markdown",
   "metadata": {},
   "source": [
    "### Create a new users"
   ]
  },
  {
   "cell_type": "code",
   "execution_count": 5,
   "metadata": {},
   "outputs": [
    {
     "data": {
      "text/plain": [
       "{'message': 'User created successfully!'}"
      ]
     },
     "execution_count": 5,
     "metadata": {},
     "output_type": "execute_result"
    }
   ],
   "source": [
    "client.users.create(email=\"user2@email.com\", password=\"user1234\", role=\"Administrator\")\n",
    "client.users.create(email=\"user3@email.com\", password=\"user2pwd\", role=\"User\")\n",
    "client.users.create(email=\"user4@email.com\", password=\"user3pwd\", role=\"User\")\n",
    "client.users.create(email=\"user5@email.com\", password=\"user4pwd\", role=\"User\")"
   ]
  },
  {
   "cell_type": "markdown",
   "metadata": {},
   "source": [
    "### Get All Users"
   ]
  },
  {
   "cell_type": "code",
   "execution_count": 6,
   "metadata": {},
   "outputs": [
    {
     "data": {
      "text/html": [
       "<div>\n",
       "<style scoped>\n",
       "    .dataframe tbody tr th:only-of-type {\n",
       "        vertical-align: middle;\n",
       "    }\n",
       "\n",
       "    .dataframe tbody tr th {\n",
       "        vertical-align: top;\n",
       "    }\n",
       "\n",
       "    .dataframe thead th {\n",
       "        text-align: right;\n",
       "    }\n",
       "</style>\n",
       "<table border=\"1\" class=\"dataframe\">\n",
       "  <thead>\n",
       "    <tr style=\"text-align: right;\">\n",
       "      <th></th>\n",
       "      <th>id</th>\n",
       "      <th>email</th>\n",
       "      <th>private_key</th>\n",
       "      <th>verify_key</th>\n",
       "      <th>role</th>\n",
       "    </tr>\n",
       "  </thead>\n",
       "  <tbody>\n",
       "    <tr>\n",
       "      <th>0</th>\n",
       "      <td>1</td>\n",
       "      <td>admin@email.com</td>\n",
       "      <td>8fd611f4978f596637422bf003811ad3741a714fed9f4d...</td>\n",
       "      <td>1d4d98b77611562aa9eaafbb3537a87e2a6b8066a745b1...</td>\n",
       "      <td>4</td>\n",
       "    </tr>\n",
       "    <tr>\n",
       "      <th>1</th>\n",
       "      <td>2</td>\n",
       "      <td>user2@email.com</td>\n",
       "      <td>c3384a0793bd0411bbb444f59d6b901c9ba77ecd3e2dff...</td>\n",
       "      <td>74938f75d3e652265ede0ca0f3deb6b0115e6951e11d24...</td>\n",
       "      <td>3</td>\n",
       "    </tr>\n",
       "    <tr>\n",
       "      <th>2</th>\n",
       "      <td>3</td>\n",
       "      <td>user3@email.com</td>\n",
       "      <td>8bc0ffe34ebea66074f6dfe94073b0ba47d8c5c53bbc0b...</td>\n",
       "      <td>f380a97ffb87ed79a133a1bbe5fe36857e549a08ecf185...</td>\n",
       "      <td>1</td>\n",
       "    </tr>\n",
       "    <tr>\n",
       "      <th>3</th>\n",
       "      <td>4</td>\n",
       "      <td>user4@email.com</td>\n",
       "      <td>0f203d03884459ae12a2fe0b97b91fc657613d54f6a477...</td>\n",
       "      <td>98db7e1ec5a1820268f4ada08ef1bc062ada14870f4faa...</td>\n",
       "      <td>1</td>\n",
       "    </tr>\n",
       "    <tr>\n",
       "      <th>4</th>\n",
       "      <td>5</td>\n",
       "      <td>user5@email.com</td>\n",
       "      <td>50eeb06ab39ec87d157d3ad8f2d5772b1baa2c1f7910a4...</td>\n",
       "      <td>046c84232ee1cc078723edf32fca5c421bef1bbe1adf94...</td>\n",
       "      <td>1</td>\n",
       "    </tr>\n",
       "  </tbody>\n",
       "</table>\n",
       "</div>"
      ],
      "text/plain": [
       "   id            email                                        private_key  \\\n",
       "0   1  admin@email.com  8fd611f4978f596637422bf003811ad3741a714fed9f4d...   \n",
       "1   2  user2@email.com  c3384a0793bd0411bbb444f59d6b901c9ba77ecd3e2dff...   \n",
       "2   3  user3@email.com  8bc0ffe34ebea66074f6dfe94073b0ba47d8c5c53bbc0b...   \n",
       "3   4  user4@email.com  0f203d03884459ae12a2fe0b97b91fc657613d54f6a477...   \n",
       "4   5  user5@email.com  50eeb06ab39ec87d157d3ad8f2d5772b1baa2c1f7910a4...   \n",
       "\n",
       "                                          verify_key  role  \n",
       "0  1d4d98b77611562aa9eaafbb3537a87e2a6b8066a745b1...     4  \n",
       "1  74938f75d3e652265ede0ca0f3deb6b0115e6951e11d24...     3  \n",
       "2  f380a97ffb87ed79a133a1bbe5fe36857e549a08ecf185...     1  \n",
       "3  98db7e1ec5a1820268f4ada08ef1bc062ada14870f4faa...     1  \n",
       "4  046c84232ee1cc078723edf32fca5c421bef1bbe1adf94...     1  "
      ]
     },
     "execution_count": 6,
     "metadata": {},
     "output_type": "execute_result"
    }
   ],
   "source": [
    "client.users.all(pandas=True)"
   ]
  },
  {
   "cell_type": "markdown",
   "metadata": {},
   "source": [
    "### Get Specifc User"
   ]
  },
  {
   "cell_type": "code",
   "execution_count": 7,
   "metadata": {},
   "outputs": [
    {
     "name": "stdout",
     "output_type": "stream",
     "text": [
      "Email:  user2@email.com\n",
      "Role:  3\n",
      "Private Key:  c3384a0793bd0411bbb444f59d6b901c9ba77ecd3e2dff23d4deb17fa3b3047d\n",
      "Verify Key:  c3384a0793bd0411bbb444f59d6b901c9ba77ecd3e2dff23d4deb17fa3b3047d\n"
     ]
    }
   ],
   "source": [
    "user = client.users.get(user_id=2)\n",
    "print(\"Email: \", user.email)\n",
    "print(\"Role: \", user.role)\n",
    "print(\"Private Key: \", user.private_key)\n",
    "print(\"Verify Key: \", user.private_key)"
   ]
  },
  {
   "cell_type": "markdown",
   "metadata": {},
   "source": [
    "## Update User configs"
   ]
  },
  {
   "cell_type": "code",
   "execution_count": 8,
   "metadata": {},
   "outputs": [
    {
     "data": {
      "text/plain": [
       "{'message': 'User updated successfully!'}"
      ]
     },
     "execution_count": 8,
     "metadata": {},
     "output_type": "execute_result"
    }
   ],
   "source": [
    "client.users.update(user_id=2, email=\"new_email@email\", password=\"new_pwd\")"
   ]
  },
  {
   "cell_type": "code",
   "execution_count": 9,
   "metadata": {},
   "outputs": [],
   "source": [
    "user = client.users.get(user_id=2)\n",
    "assert user.email == \"new_email@email\""
   ]
  },
  {
   "cell_type": "markdown",
   "metadata": {},
   "source": [
    "### Delete User"
   ]
  },
  {
   "cell_type": "code",
   "execution_count": 10,
   "metadata": {},
   "outputs": [
    {
     "data": {
      "text/plain": [
       "{'message': 'User deleted successfully!'}"
      ]
     },
     "execution_count": 10,
     "metadata": {},
     "output_type": "execute_result"
    }
   ],
   "source": [
    "client.users.delete(user_id=2)"
   ]
  },
  {
   "cell_type": "code",
   "execution_count": 11,
   "metadata": {},
   "outputs": [
    {
     "data": {
      "text/html": [
       "<div>\n",
       "<style scoped>\n",
       "    .dataframe tbody tr th:only-of-type {\n",
       "        vertical-align: middle;\n",
       "    }\n",
       "\n",
       "    .dataframe tbody tr th {\n",
       "        vertical-align: top;\n",
       "    }\n",
       "\n",
       "    .dataframe thead th {\n",
       "        text-align: right;\n",
       "    }\n",
       "</style>\n",
       "<table border=\"1\" class=\"dataframe\">\n",
       "  <thead>\n",
       "    <tr style=\"text-align: right;\">\n",
       "      <th></th>\n",
       "      <th>id</th>\n",
       "      <th>email</th>\n",
       "      <th>private_key</th>\n",
       "      <th>verify_key</th>\n",
       "      <th>role</th>\n",
       "    </tr>\n",
       "  </thead>\n",
       "  <tbody>\n",
       "    <tr>\n",
       "      <th>0</th>\n",
       "      <td>1</td>\n",
       "      <td>admin@email.com</td>\n",
       "      <td>8fd611f4978f596637422bf003811ad3741a714fed9f4d...</td>\n",
       "      <td>1d4d98b77611562aa9eaafbb3537a87e2a6b8066a745b1...</td>\n",
       "      <td>4</td>\n",
       "    </tr>\n",
       "    <tr>\n",
       "      <th>1</th>\n",
       "      <td>3</td>\n",
       "      <td>user3@email.com</td>\n",
       "      <td>8bc0ffe34ebea66074f6dfe94073b0ba47d8c5c53bbc0b...</td>\n",
       "      <td>f380a97ffb87ed79a133a1bbe5fe36857e549a08ecf185...</td>\n",
       "      <td>1</td>\n",
       "    </tr>\n",
       "    <tr>\n",
       "      <th>2</th>\n",
       "      <td>4</td>\n",
       "      <td>user4@email.com</td>\n",
       "      <td>0f203d03884459ae12a2fe0b97b91fc657613d54f6a477...</td>\n",
       "      <td>98db7e1ec5a1820268f4ada08ef1bc062ada14870f4faa...</td>\n",
       "      <td>1</td>\n",
       "    </tr>\n",
       "    <tr>\n",
       "      <th>3</th>\n",
       "      <td>5</td>\n",
       "      <td>user5@email.com</td>\n",
       "      <td>50eeb06ab39ec87d157d3ad8f2d5772b1baa2c1f7910a4...</td>\n",
       "      <td>046c84232ee1cc078723edf32fca5c421bef1bbe1adf94...</td>\n",
       "      <td>1</td>\n",
       "    </tr>\n",
       "  </tbody>\n",
       "</table>\n",
       "</div>"
      ],
      "text/plain": [
       "   id            email                                        private_key  \\\n",
       "0   1  admin@email.com  8fd611f4978f596637422bf003811ad3741a714fed9f4d...   \n",
       "1   3  user3@email.com  8bc0ffe34ebea66074f6dfe94073b0ba47d8c5c53bbc0b...   \n",
       "2   4  user4@email.com  0f203d03884459ae12a2fe0b97b91fc657613d54f6a477...   \n",
       "3   5  user5@email.com  50eeb06ab39ec87d157d3ad8f2d5772b1baa2c1f7910a4...   \n",
       "\n",
       "                                          verify_key  role  \n",
       "0  1d4d98b77611562aa9eaafbb3537a87e2a6b8066a745b1...     4  \n",
       "1  f380a97ffb87ed79a133a1bbe5fe36857e549a08ecf185...     1  \n",
       "2  98db7e1ec5a1820268f4ada08ef1bc062ada14870f4faa...     1  \n",
       "3  046c84232ee1cc078723edf32fca5c421bef1bbe1adf94...     1  "
      ]
     },
     "execution_count": 11,
     "metadata": {},
     "output_type": "execute_result"
    }
   ],
   "source": [
    "client.users.all(pandas=True)"
   ]
  }
 ],
 "metadata": {
  "kernelspec": {
   "display_name": "Python 3",
   "language": "python",
   "name": "python3"
  },
  "language_info": {
   "codemirror_mode": {
    "name": "ipython",
    "version": 3
   },
   "file_extension": ".py",
   "mimetype": "text/x-python",
   "name": "python",
   "nbconvert_exporter": "python",
   "pygments_lexer": "ipython3",
   "version": "3.8.5"
  }
 },
 "nbformat": 4,
 "nbformat_minor": 4
}
