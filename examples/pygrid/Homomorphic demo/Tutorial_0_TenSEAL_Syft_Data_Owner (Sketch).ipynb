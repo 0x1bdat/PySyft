{
 "cells": [
  {
   "cell_type": "code",
   "execution_count": 6,
   "metadata": {},
   "outputs": [],
   "source": [
    "import syft as sy\n",
    "import tenseal as ts\n",
    "import pytest\n",
    "from syft.grid.client.client import connect\n",
    "from syft.grid.client.grid_connection import GridHTTPConnection\n",
    "from syft.core.node.domain.client import DomainClient\n",
    "\n",
    "sy.load_lib(\"tenseal\")"
   ]
  },
  {
   "cell_type": "code",
   "execution_count": 8,
   "metadata": {},
   "outputs": [],
   "source": [
    "client = connect(\n",
    "    url=\"http://localhost:5000\", # Domain Address\n",
    "    credentials={\"email\":\"admin@email.com\", \"password\":\"pwd123\"},\n",
    "    conn_type= GridHTTPConnection, # HTTP Connection Protocol\n",
    "    client_type=DomainClient) # Domain Client type"
   ]
  },
  {
   "cell_type": "code",
   "execution_count": 2,
   "metadata": {},
   "outputs": [
    {
     "data": {
      "text/plain": [
       "<tenseal.enc_context.Context at 0x7f623b4130d0>"
      ]
     },
     "execution_count": 2,
     "metadata": {},
     "output_type": "execute_result"
    }
   ],
   "source": [
    "context = ts.Context(\n",
    "    ts.SCHEME_TYPE.CKKS,\n",
    "    poly_modulus_degree=8192,\n",
    "    coeff_mod_bit_sizes=[60, 40, 40, 60]\n",
    ")\n",
    "context.global_scale = 2**40\n",
    "context"
   ]
  },
  {
   "cell_type": "code",
   "execution_count": 3,
   "metadata": {},
   "outputs": [
    {
     "data": {
      "text/plain": [
       "(<tenseal.tensors.ckksvector.CKKSVector at 0x7f623b413730>,\n",
       " <tenseal.tensors.ckksvector.CKKSVector at 0x7f623b409a30>)"
      ]
     },
     "execution_count": 3,
     "metadata": {},
     "output_type": "execute_result"
    }
   ],
   "source": [
    "v1 = [0, 1, 2, 3, 4]\n",
    "v2 = [4, 3, 2, 1, 0]\n",
    "\n",
    "enc_v1 = ts.ckks_vector(context, v1)\n",
    "enc_v2 = ts.ckks_vector(context, v2)\n",
    "(enc_v1, enc_v2)"
   ]
  },
  {
   "cell_type": "code",
   "execution_count": 9,
   "metadata": {},
   "outputs": [],
   "source": [
    "# tag them so our partner can easily reference it\n",
    "ctx_ptr = context.send(client, searchable=True, tags=[\"context\"])\n",
    "enc_v1_ptr = enc_v1.send(client, searchable=True, tags=[\"enc_v1\"])\n",
    "enc_v2_ptr = enc_v2.send(client, searchable=True, tags=[\"enc_v2\"])"
   ]
  },
  {
   "cell_type": "code",
   "execution_count": 10,
   "metadata": {},
   "outputs": [
    {
     "data": {
      "text/html": [
       "<div>\n",
       "<style scoped>\n",
       "    .dataframe tbody tr th:only-of-type {\n",
       "        vertical-align: middle;\n",
       "    }\n",
       "\n",
       "    .dataframe tbody tr th {\n",
       "        vertical-align: top;\n",
       "    }\n",
       "\n",
       "    .dataframe thead th {\n",
       "        text-align: right;\n",
       "    }\n",
       "</style>\n",
       "<table border=\"1\" class=\"dataframe\">\n",
       "  <thead>\n",
       "    <tr style=\"text-align: right;\">\n",
       "      <th></th>\n",
       "      <th>ID</th>\n",
       "      <th>Tags</th>\n",
       "      <th>Description</th>\n",
       "      <th>object_type</th>\n",
       "    </tr>\n",
       "  </thead>\n",
       "  <tbody>\n",
       "    <tr>\n",
       "      <th>0</th>\n",
       "      <td>&lt;UID: 6d9c4fa096e74d70831e62b4a6a122cf&gt;</td>\n",
       "      <td>[context]</td>\n",
       "      <td></td>\n",
       "      <td>&lt;class 'tenseal.enc_context.Context'&gt;</td>\n",
       "    </tr>\n",
       "    <tr>\n",
       "      <th>1</th>\n",
       "      <td>&lt;UID: 4b3c9eb00bf046d4bba22ea7a9cc8cc5&gt;</td>\n",
       "      <td>[enc_v1]</td>\n",
       "      <td></td>\n",
       "      <td>&lt;class 'tenseal.tensors.ckksvector.CKKSVector'&gt;</td>\n",
       "    </tr>\n",
       "    <tr>\n",
       "      <th>2</th>\n",
       "      <td>&lt;UID: a4cd46b267114065b839ba7ea1af97e4&gt;</td>\n",
       "      <td>[enc_v2]</td>\n",
       "      <td></td>\n",
       "      <td>&lt;class 'tenseal.tensors.ckksvector.CKKSVector'&gt;</td>\n",
       "    </tr>\n",
       "  </tbody>\n",
       "</table>\n",
       "</div>"
      ],
      "text/plain": [
       "                                        ID       Tags Description  \\\n",
       "0  <UID: 6d9c4fa096e74d70831e62b4a6a122cf>  [context]               \n",
       "1  <UID: 4b3c9eb00bf046d4bba22ea7a9cc8cc5>   [enc_v1]               \n",
       "2  <UID: a4cd46b267114065b839ba7ea1af97e4>   [enc_v2]               \n",
       "\n",
       "                                       object_type  \n",
       "0            <class 'tenseal.enc_context.Context'>  \n",
       "1  <class 'tenseal.tensors.ckksvector.CKKSVector'>  \n",
       "2  <class 'tenseal.tensors.ckksvector.CKKSVector'>  "
      ]
     },
     "execution_count": 10,
     "metadata": {},
     "output_type": "execute_result"
    }
   ],
   "source": [
    "client.store.pandas"
   ]
  },
  {
   "cell_type": "markdown",
   "metadata": {},
   "source": [
    "###                                                           Checkpoint 1"
   ]
  },
  {
   "cell_type": "code",
   "execution_count": 11,
   "metadata": {},
   "outputs": [
    {
     "data": {
      "text/html": [
       "<div>\n",
       "<style scoped>\n",
       "    .dataframe tbody tr th:only-of-type {\n",
       "        vertical-align: middle;\n",
       "    }\n",
       "\n",
       "    .dataframe tbody tr th {\n",
       "        vertical-align: top;\n",
       "    }\n",
       "\n",
       "    .dataframe thead th {\n",
       "        text-align: right;\n",
       "    }\n",
       "</style>\n",
       "<table border=\"1\" class=\"dataframe\">\n",
       "  <thead>\n",
       "    <tr style=\"text-align: right;\">\n",
       "      <th></th>\n",
       "      <th>Requested Object's tags</th>\n",
       "      <th>Reason</th>\n",
       "      <th>Request ID</th>\n",
       "      <th>Requested Object's ID</th>\n",
       "      <th>Requested Object's type</th>\n",
       "    </tr>\n",
       "  </thead>\n",
       "  <tbody>\n",
       "    <tr>\n",
       "      <th>0</th>\n",
       "      <td>[context]</td>\n",
       "      <td>I would like to get the context</td>\n",
       "      <td>&lt;UID: 2e0039690ed74005b5096d96f9e64564&gt;</td>\n",
       "      <td>&lt;UID: 6d9c4fa096e74d70831e62b4a6a122cf&gt;</td>\n",
       "      <td>&lt;class 'tenseal.enc_context.Context'&gt;</td>\n",
       "    </tr>\n",
       "    <tr>\n",
       "      <th>1</th>\n",
       "      <td>[enc_v1]</td>\n",
       "      <td>I would like to get first vector</td>\n",
       "      <td>&lt;UID: 38b1579ac12a421b955cffb757151920&gt;</td>\n",
       "      <td>&lt;UID: 4b3c9eb00bf046d4bba22ea7a9cc8cc5&gt;</td>\n",
       "      <td>&lt;class 'tenseal.tensors.ckksvector.CKKSVector'&gt;</td>\n",
       "    </tr>\n",
       "    <tr>\n",
       "      <th>2</th>\n",
       "      <td>[enc_v2]</td>\n",
       "      <td>I would like to get second vector</td>\n",
       "      <td>&lt;UID: e1d4ef67223046cda0e941f237e253df&gt;</td>\n",
       "      <td>&lt;UID: a4cd46b267114065b839ba7ea1af97e4&gt;</td>\n",
       "      <td>&lt;class 'tenseal.tensors.ckksvector.CKKSVector'&gt;</td>\n",
       "    </tr>\n",
       "  </tbody>\n",
       "</table>\n",
       "</div>"
      ],
      "text/plain": [
       "  Requested Object's tags                             Reason  \\\n",
       "0               [context]    I would like to get the context   \n",
       "1                [enc_v1]   I would like to get first vector   \n",
       "2                [enc_v2]  I would like to get second vector   \n",
       "\n",
       "                                Request ID  \\\n",
       "0  <UID: 2e0039690ed74005b5096d96f9e64564>   \n",
       "1  <UID: 38b1579ac12a421b955cffb757151920>   \n",
       "2  <UID: e1d4ef67223046cda0e941f237e253df>   \n",
       "\n",
       "                     Requested Object's ID  \\\n",
       "0  <UID: 6d9c4fa096e74d70831e62b4a6a122cf>   \n",
       "1  <UID: 4b3c9eb00bf046d4bba22ea7a9cc8cc5>   \n",
       "2  <UID: a4cd46b267114065b839ba7ea1af97e4>   \n",
       "\n",
       "                           Requested Object's type  \n",
       "0            <class 'tenseal.enc_context.Context'>  \n",
       "1  <class 'tenseal.tensors.ckksvector.CKKSVector'>  \n",
       "2  <class 'tenseal.tensors.ckksvector.CKKSVector'>  "
      ]
     },
     "execution_count": 11,
     "metadata": {},
     "output_type": "execute_result"
    }
   ],
   "source": [
    "client.requests.pandas"
   ]
  },
  {
   "cell_type": "code",
   "execution_count": 12,
   "metadata": {},
   "outputs": [],
   "source": [
    "client.requests[0].accept()\n",
    "client.requests[0].accept()\n",
    "client.requests[0].accept()"
   ]
  },
  {
   "cell_type": "code",
   "execution_count": 14,
   "metadata": {},
   "outputs": [
    {
     "data": {
      "text/html": [
       "<div>\n",
       "<style scoped>\n",
       "    .dataframe tbody tr th:only-of-type {\n",
       "        vertical-align: middle;\n",
       "    }\n",
       "\n",
       "    .dataframe tbody tr th {\n",
       "        vertical-align: top;\n",
       "    }\n",
       "\n",
       "    .dataframe thead th {\n",
       "        text-align: right;\n",
       "    }\n",
       "</style>\n",
       "<table border=\"1\" class=\"dataframe\">\n",
       "  <thead>\n",
       "    <tr style=\"text-align: right;\">\n",
       "      <th></th>\n",
       "    </tr>\n",
       "  </thead>\n",
       "  <tbody>\n",
       "  </tbody>\n",
       "</table>\n",
       "</div>"
      ],
      "text/plain": [
       "Empty DataFrame\n",
       "Columns: []\n",
       "Index: []"
      ]
     },
     "execution_count": 14,
     "metadata": {},
     "output_type": "execute_result"
    }
   ],
   "source": [
    "client.requests.pandas"
   ]
  },
  {
   "cell_type": "markdown",
   "metadata": {},
   "source": [
    "### Checkpoint 2"
   ]
  },
  {
   "cell_type": "code",
   "execution_count": 15,
   "metadata": {},
   "outputs": [
    {
     "data": {
      "text/plain": [
       "<tenseal.tensors.ckksvector.CKKSVector at 0x7f6238a512e0>"
      ]
     },
     "execution_count": 15,
     "metadata": {},
     "output_type": "execute_result"
    }
   ],
   "source": [
    "# Validate the encrypted add\n",
    "result_add = client.store[\"result_add\"].get(delete_obj=False)\n",
    "result_add.link_context(context)\n",
    "\n",
    "result_add"
   ]
  },
  {
   "cell_type": "code",
   "execution_count": 16,
   "metadata": {},
   "outputs": [
    {
     "data": {
      "text/plain": [
       "[3.9999999995135243,\n",
       " 4.000000000248688,\n",
       " 3.999999998543466,\n",
       " 3.9999999993537814,\n",
       " 3.9999999999321147]"
      ]
     },
     "execution_count": 16,
     "metadata": {},
     "output_type": "execute_result"
    }
   ],
   "source": [
    "decrypted_result = result_add.decrypt()\n",
    "assert pytest.approx(decrypted_result, abs=10**-3) == [v1 + v2 for v1, v2 in zip(v1, v2)]\n",
    "\n",
    "decrypted_result"
   ]
  },
  {
   "cell_type": "code",
   "execution_count": 18,
   "metadata": {},
   "outputs": [
    {
     "data": {
      "text/plain": [
       "[10.000000000359641,\n",
       " 11.000000000106214,\n",
       " 11.999999999385691,\n",
       " 13.000000000389708,\n",
       " 14.000000000032443]"
      ]
     },
     "execution_count": 18,
     "metadata": {},
     "output_type": "execute_result"
    }
   ],
   "source": [
    "result_iadd = client.store[\"result_iadd\"].get(delete_obj=False)\n",
    "result_iadd.link_context(context)\n",
    "\n",
    "decrypted_result = result_iadd.decrypt()\n",
    "assert pytest.approx(decrypted_result, abs=10**-3) == [v1 + v2 for v1, v2 in zip(v1, [10, 10, 10, 10, 10])]\n",
    "\n",
    "decrypted_result"
   ]
  },
  {
   "cell_type": "code",
   "execution_count": 19,
   "metadata": {},
   "outputs": [
    {
     "data": {
      "text/plain": [
       "[-3.9999999987795594,\n",
       " -2.0000000000272924,\n",
       " 1.3477974292186445e-10,\n",
       " 2.0000000014695583,\n",
       " 4.000000000041847]"
      ]
     },
     "execution_count": 19,
     "metadata": {},
     "output_type": "execute_result"
    }
   ],
   "source": [
    "# Validate the encrypted subtraction\n",
    "\n",
    "result_sub = client.store[\"result_sub\"].get(delete_obj=False)\n",
    "result_sub.link_context(context)\n",
    "\n",
    "decrypted_result = result_sub.decrypt()\n",
    "assert pytest.approx(decrypted_result, abs=10**-3) == [v1 - v2 for v1, v2 in zip(v1, v2)]\n",
    "\n",
    "decrypted_result"
   ]
  },
  {
   "cell_type": "code",
   "execution_count": 20,
   "metadata": {},
   "outputs": [
    {
     "data": {
      "text/plain": [
       "[1.3283536492991743e-09,\n",
       " 3.000000403307595,\n",
       " 4.000000532791146,\n",
       " 3.0000003984401156,\n",
       " -2.0960744251397045e-10]"
      ]
     },
     "execution_count": 20,
     "metadata": {},
     "output_type": "execute_result"
    }
   ],
   "source": [
    "# Validate the encrypted multiplication\n",
    "\n",
    "result_mul = client.store[\"result_mul\"].get(delete_obj=False)\n",
    "result_mul.link_context(context)\n",
    "\n",
    "decrypted_result = result_mul.decrypt()\n",
    "assert pytest.approx(decrypted_result, abs=10**-3) == [v1 * v2 for v1, v2 in zip(v1, v2)]\n",
    "\n",
    "decrypted_result\n",
    "\n"
   ]
  },
  {
   "cell_type": "code",
   "execution_count": 21,
   "metadata": {},
   "outputs": [
    {
     "data": {
      "text/plain": [
       "[1.4695462624558786e-09,\n",
       " 1.0000008073158178,\n",
       " 8.000006430206803,\n",
       " 27.00002173587953,\n",
       " 64.00005150083823]"
      ]
     },
     "execution_count": 21,
     "metadata": {},
     "output_type": "execute_result"
    }
   ],
   "source": [
    "# Validate the encrypted power\n",
    "\n",
    "result_pow = client.store[\"result_pow\"].get(delete_obj=False)\n",
    "result_pow.link_context(context)\n",
    "\n",
    "decrypted_result = result_pow.decrypt()\n",
    "assert pytest.approx(decrypted_result, abs=10**-3) == [v ** 3 for v in v1]\n",
    "\n",
    "decrypted_result"
   ]
  },
  {
   "cell_type": "code",
   "execution_count": 22,
   "metadata": {},
   "outputs": [
    {
     "data": {
      "text/plain": [
       "[-3.6698222238840117e-10,\n",
       " -1.0000000001106983,\n",
       " -1.9999999993391218,\n",
       " -3.0000000004116703,\n",
       " -3.999999999986981]"
      ]
     },
     "execution_count": 22,
     "metadata": {},
     "output_type": "execute_result"
    }
   ],
   "source": [
    "# Validate the encrypted negation\n",
    "\n",
    "result_neg = client.store[\"result_neg\"].get(delete_obj=False)\n",
    "result_neg.link_context(context)\n",
    "\n",
    "decrypted_result = result_neg.decrypt()\n",
    "assert pytest.approx(decrypted_result, abs=10**-3) == [-v for v in v1]\n",
    "\n",
    "decrypted_result\n",
    "\n"
   ]
  },
  {
   "cell_type": "code",
   "execution_count": 23,
   "metadata": {},
   "outputs": [
    {
     "data": {
      "text/plain": [
       "[1.000000001823338,\n",
       " 3.000000942843002,\n",
       " 13.000006963971988,\n",
       " 37.00002294609983,\n",
       " 81.00005364751098]"
      ]
     },
     "execution_count": 23,
     "metadata": {},
     "output_type": "execute_result"
    }
   ],
   "source": [
    "# Validate the encrypted polynomial evaluation for 1 + X^2 + X^3\n",
    "\n",
    "result_poly = client.store[\"result_poly\"].get(delete_obj=False)\n",
    "result_poly.link_context(context)\n",
    "\n",
    "decrypted_result = result_poly.decrypt()\n",
    "assert pytest.approx(decrypted_result, abs=10**-3) == [1 + v**2 + v**3 for v in v1]\n",
    "\n",
    "decrypted_result"
   ]
  }
 ],
 "metadata": {
  "kernelspec": {
   "display_name": "Python 3",
   "language": "python",
   "name": "python3"
  },
  "language_info": {
   "codemirror_mode": {
    "name": "ipython",
    "version": 3
   },
   "file_extension": ".py",
   "mimetype": "text/x-python",
   "name": "python",
   "nbconvert_exporter": "python",
   "pygments_lexer": "ipython3",
   "version": "3.8.5"
  }
 },
 "nbformat": 4,
 "nbformat_minor": 4
}
