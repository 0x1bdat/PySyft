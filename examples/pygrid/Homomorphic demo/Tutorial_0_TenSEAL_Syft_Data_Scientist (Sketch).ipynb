{
 "cells": [
  {
   "cell_type": "code",
   "execution_count": 1,
   "metadata": {},
   "outputs": [],
   "source": [
    "import syft as sy\n",
    "import tenseal as ts\n",
    "import pytest\n",
    "from syft.grid.client.client import connect\n",
    "from syft.grid.client.grid_connection import GridHTTPConnection\n",
    "from syft.core.node.domain.client import DomainClient\n",
    "\n",
    "sy.load_lib(\"tenseal\")"
   ]
  },
  {
   "cell_type": "code",
   "execution_count": 2,
   "metadata": {},
   "outputs": [],
   "source": [
    "client = connect(\n",
    "    url=\"http://localhost:5000\", # Domain Address\n",
    "    credentials={\"email\":\"admin@email.com\", \"password\":\"pwd123\"},\n",
    "    conn_type= GridHTTPConnection, # HTTP Connection Protocol\n",
    "    client_type=DomainClient) # Domain Client type"
   ]
  },
  {
   "cell_type": "code",
   "execution_count": 3,
   "metadata": {},
   "outputs": [
    {
     "data": {
      "text/html": [
       "<div>\n",
       "<style scoped>\n",
       "    .dataframe tbody tr th:only-of-type {\n",
       "        vertical-align: middle;\n",
       "    }\n",
       "\n",
       "    .dataframe tbody tr th {\n",
       "        vertical-align: top;\n",
       "    }\n",
       "\n",
       "    .dataframe thead th {\n",
       "        text-align: right;\n",
       "    }\n",
       "</style>\n",
       "<table border=\"1\" class=\"dataframe\">\n",
       "  <thead>\n",
       "    <tr style=\"text-align: right;\">\n",
       "      <th></th>\n",
       "      <th>ID</th>\n",
       "      <th>Tags</th>\n",
       "      <th>Description</th>\n",
       "      <th>object_type</th>\n",
       "    </tr>\n",
       "  </thead>\n",
       "  <tbody>\n",
       "    <tr>\n",
       "      <th>0</th>\n",
       "      <td>&lt;UID: 6d9c4fa096e74d70831e62b4a6a122cf&gt;</td>\n",
       "      <td>[context]</td>\n",
       "      <td></td>\n",
       "      <td>&lt;class 'tenseal.enc_context.Context'&gt;</td>\n",
       "    </tr>\n",
       "    <tr>\n",
       "      <th>1</th>\n",
       "      <td>&lt;UID: 4b3c9eb00bf046d4bba22ea7a9cc8cc5&gt;</td>\n",
       "      <td>[enc_v1]</td>\n",
       "      <td></td>\n",
       "      <td>&lt;class 'tenseal.tensors.ckksvector.CKKSVector'&gt;</td>\n",
       "    </tr>\n",
       "    <tr>\n",
       "      <th>2</th>\n",
       "      <td>&lt;UID: a4cd46b267114065b839ba7ea1af97e4&gt;</td>\n",
       "      <td>[enc_v2]</td>\n",
       "      <td></td>\n",
       "      <td>&lt;class 'tenseal.tensors.ckksvector.CKKSVector'&gt;</td>\n",
       "    </tr>\n",
       "  </tbody>\n",
       "</table>\n",
       "</div>"
      ],
      "text/plain": [
       "                                        ID       Tags Description  \\\n",
       "0  <UID: 6d9c4fa096e74d70831e62b4a6a122cf>  [context]               \n",
       "1  <UID: 4b3c9eb00bf046d4bba22ea7a9cc8cc5>   [enc_v1]               \n",
       "2  <UID: a4cd46b267114065b839ba7ea1af97e4>   [enc_v2]               \n",
       "\n",
       "                                       object_type  \n",
       "0            <class 'tenseal.enc_context.Context'>  \n",
       "1  <class 'tenseal.tensors.ckksvector.CKKSVector'>  \n",
       "2  <class 'tenseal.tensors.ckksvector.CKKSVector'>  "
      ]
     },
     "execution_count": 3,
     "metadata": {},
     "output_type": "execute_result"
    }
   ],
   "source": [
    "client.store.pandas"
   ]
  },
  {
   "cell_type": "code",
   "execution_count": 5,
   "metadata": {},
   "outputs": [],
   "source": [
    "ctx_ptr = client.store[\"context\"]\n",
    "enc_v1_ptr = client.store[\"enc_v1\"]\n",
    "enc_v2_ptr = client.store[\"enc_v2\"]"
   ]
  },
  {
   "cell_type": "code",
   "execution_count": 6,
   "metadata": {},
   "outputs": [],
   "source": [
    "ctx_ptr.request(reason=\"I would like to get the context\")\n",
    "enc_v1_ptr.request(reason=\"I would like to get first vector\")\n",
    "enc_v2_ptr.request(reason=\"I would like to get second vector\")"
   ]
  },
  {
   "cell_type": "code",
   "execution_count": 7,
   "metadata": {},
   "outputs": [
    {
     "data": {
      "text/html": [
       "<div>\n",
       "<style scoped>\n",
       "    .dataframe tbody tr th:only-of-type {\n",
       "        vertical-align: middle;\n",
       "    }\n",
       "\n",
       "    .dataframe tbody tr th {\n",
       "        vertical-align: top;\n",
       "    }\n",
       "\n",
       "    .dataframe thead th {\n",
       "        text-align: right;\n",
       "    }\n",
       "</style>\n",
       "<table border=\"1\" class=\"dataframe\">\n",
       "  <thead>\n",
       "    <tr style=\"text-align: right;\">\n",
       "      <th></th>\n",
       "      <th>Requested Object's tags</th>\n",
       "      <th>Reason</th>\n",
       "      <th>Request ID</th>\n",
       "      <th>Requested Object's ID</th>\n",
       "      <th>Requested Object's type</th>\n",
       "    </tr>\n",
       "  </thead>\n",
       "  <tbody>\n",
       "    <tr>\n",
       "      <th>0</th>\n",
       "      <td>[context]</td>\n",
       "      <td>I would like to get the context</td>\n",
       "      <td>&lt;UID: 2e0039690ed74005b5096d96f9e64564&gt;</td>\n",
       "      <td>&lt;UID: 6d9c4fa096e74d70831e62b4a6a122cf&gt;</td>\n",
       "      <td>&lt;class 'tenseal.enc_context.Context'&gt;</td>\n",
       "    </tr>\n",
       "    <tr>\n",
       "      <th>1</th>\n",
       "      <td>[enc_v1]</td>\n",
       "      <td>I would like to get first vector</td>\n",
       "      <td>&lt;UID: 38b1579ac12a421b955cffb757151920&gt;</td>\n",
       "      <td>&lt;UID: 4b3c9eb00bf046d4bba22ea7a9cc8cc5&gt;</td>\n",
       "      <td>&lt;class 'tenseal.tensors.ckksvector.CKKSVector'&gt;</td>\n",
       "    </tr>\n",
       "    <tr>\n",
       "      <th>2</th>\n",
       "      <td>[enc_v2]</td>\n",
       "      <td>I would like to get second vector</td>\n",
       "      <td>&lt;UID: e1d4ef67223046cda0e941f237e253df&gt;</td>\n",
       "      <td>&lt;UID: a4cd46b267114065b839ba7ea1af97e4&gt;</td>\n",
       "      <td>&lt;class 'tenseal.tensors.ckksvector.CKKSVector'&gt;</td>\n",
       "    </tr>\n",
       "  </tbody>\n",
       "</table>\n",
       "</div>"
      ],
      "text/plain": [
       "  Requested Object's tags                             Reason  \\\n",
       "0               [context]    I would like to get the context   \n",
       "1                [enc_v1]   I would like to get first vector   \n",
       "2                [enc_v2]  I would like to get second vector   \n",
       "\n",
       "                                Request ID  \\\n",
       "0  <UID: 2e0039690ed74005b5096d96f9e64564>   \n",
       "1  <UID: 38b1579ac12a421b955cffb757151920>   \n",
       "2  <UID: e1d4ef67223046cda0e941f237e253df>   \n",
       "\n",
       "                     Requested Object's ID  \\\n",
       "0  <UID: 6d9c4fa096e74d70831e62b4a6a122cf>   \n",
       "1  <UID: 4b3c9eb00bf046d4bba22ea7a9cc8cc5>   \n",
       "2  <UID: a4cd46b267114065b839ba7ea1af97e4>   \n",
       "\n",
       "                           Requested Object's type  \n",
       "0            <class 'tenseal.enc_context.Context'>  \n",
       "1  <class 'tenseal.tensors.ckksvector.CKKSVector'>  \n",
       "2  <class 'tenseal.tensors.ckksvector.CKKSVector'>  "
      ]
     },
     "execution_count": 7,
     "metadata": {},
     "output_type": "execute_result"
    }
   ],
   "source": [
    "client.requests.pandas"
   ]
  },
  {
   "cell_type": "markdown",
   "metadata": {},
   "source": [
    "### Checkpoint 1"
   ]
  },
  {
   "cell_type": "code",
   "execution_count": 9,
   "metadata": {},
   "outputs": [
    {
     "data": {
      "text/html": [
       "<div>\n",
       "<style scoped>\n",
       "    .dataframe tbody tr th:only-of-type {\n",
       "        vertical-align: middle;\n",
       "    }\n",
       "\n",
       "    .dataframe tbody tr th {\n",
       "        vertical-align: top;\n",
       "    }\n",
       "\n",
       "    .dataframe thead th {\n",
       "        text-align: right;\n",
       "    }\n",
       "</style>\n",
       "<table border=\"1\" class=\"dataframe\">\n",
       "  <thead>\n",
       "    <tr style=\"text-align: right;\">\n",
       "      <th></th>\n",
       "    </tr>\n",
       "  </thead>\n",
       "  <tbody>\n",
       "  </tbody>\n",
       "</table>\n",
       "</div>"
      ],
      "text/plain": [
       "Empty DataFrame\n",
       "Columns: []\n",
       "Index: []"
      ]
     },
     "execution_count": 9,
     "metadata": {},
     "output_type": "execute_result"
    }
   ],
   "source": [
    "client.requests.pandas"
   ]
  },
  {
   "cell_type": "code",
   "execution_count": 10,
   "metadata": {},
   "outputs": [
    {
     "data": {
      "text/plain": [
       "(<tenseal.tensors.ckksvector.CKKSVector at 0x7f65e29c1ac0>,\n",
       " <tenseal.tensors.ckksvector.CKKSVector at 0x7f65e29c1a90>)"
      ]
     },
     "execution_count": 10,
     "metadata": {},
     "output_type": "execute_result"
    }
   ],
   "source": [
    "ctx = ctx_ptr.get(delete_obj=False)\n",
    "\n",
    "enc_v1 = enc_v1_ptr.get(delete_obj=False)\n",
    "enc_v2 = enc_v2_ptr.get(delete_obj=False)\n",
    "\n",
    "enc_v1.link_context(ctx)\n",
    "enc_v2.link_context(ctx)\n",
    "\n",
    "(enc_v1, enc_v2)"
   ]
  },
  {
   "cell_type": "code",
   "execution_count": 11,
   "metadata": {},
   "outputs": [
    {
     "data": {
      "text/plain": [
       "<tenseal.tensors.ckksvector.CKKSVector at 0x7f65e29db400>"
      ]
     },
     "execution_count": 11,
     "metadata": {},
     "output_type": "execute_result"
    }
   ],
   "source": [
    "result_add = enc_v1 + enc_v2\n",
    "result_iadd = enc_v1 + [10, 10, 10, 10, 10]\n",
    "result_sub = enc_v1 - enc_v2\n",
    "result_mul = enc_v1 * enc_v2\n",
    "result_pow = enc_v1 ** 3\n",
    "result_neg = -enc_v1\n",
    "result_poly = enc_v1.polyval([1,0,1,1]) # 1 + X^2 + X^3\n",
    "result_add"
   ]
  },
  {
   "cell_type": "code",
   "execution_count": 12,
   "metadata": {},
   "outputs": [],
   "source": [
    "result_add_ptr = result_add.send(client, searchable=True, tags=[\"result_add\"])\n",
    "result_iadd_ptr = result_iadd.send(client, searchable=True, tags=[\"result_iadd\"])\n",
    "result_sub_ptr = result_sub.send(client, searchable=True, tags=[\"result_sub\"])\n",
    "result_mul_ptr = result_mul.send(client, searchable=True, tags=[\"result_mul\"])\n",
    "result_pow_ptr = result_pow.send(client, searchable=True, tags=[\"result_pow\"])\n",
    "result_neg_ptr = result_neg.send(client, searchable=True, tags=[\"result_neg\"])\n",
    "result_poly_ptr = result_poly.send(client, searchable=True, tags=[\"result_poly\"])"
   ]
  },
  {
   "cell_type": "code",
   "execution_count": 14,
   "metadata": {},
   "outputs": [
    {
     "data": {
      "text/html": [
       "<div>\n",
       "<style scoped>\n",
       "    .dataframe tbody tr th:only-of-type {\n",
       "        vertical-align: middle;\n",
       "    }\n",
       "\n",
       "    .dataframe tbody tr th {\n",
       "        vertical-align: top;\n",
       "    }\n",
       "\n",
       "    .dataframe thead th {\n",
       "        text-align: right;\n",
       "    }\n",
       "</style>\n",
       "<table border=\"1\" class=\"dataframe\">\n",
       "  <thead>\n",
       "    <tr style=\"text-align: right;\">\n",
       "      <th></th>\n",
       "      <th>ID</th>\n",
       "      <th>Tags</th>\n",
       "      <th>Description</th>\n",
       "      <th>object_type</th>\n",
       "    </tr>\n",
       "  </thead>\n",
       "  <tbody>\n",
       "    <tr>\n",
       "      <th>0</th>\n",
       "      <td>&lt;UID: 6d9c4fa096e74d70831e62b4a6a122cf&gt;</td>\n",
       "      <td>[context]</td>\n",
       "      <td></td>\n",
       "      <td>&lt;class 'tenseal.enc_context.Context'&gt;</td>\n",
       "    </tr>\n",
       "    <tr>\n",
       "      <th>1</th>\n",
       "      <td>&lt;UID: 4b3c9eb00bf046d4bba22ea7a9cc8cc5&gt;</td>\n",
       "      <td>[enc_v1]</td>\n",
       "      <td></td>\n",
       "      <td>&lt;class 'tenseal.tensors.ckksvector.CKKSVector'&gt;</td>\n",
       "    </tr>\n",
       "    <tr>\n",
       "      <th>2</th>\n",
       "      <td>&lt;UID: a4cd46b267114065b839ba7ea1af97e4&gt;</td>\n",
       "      <td>[enc_v2]</td>\n",
       "      <td></td>\n",
       "      <td>&lt;class 'tenseal.tensors.ckksvector.CKKSVector'&gt;</td>\n",
       "    </tr>\n",
       "    <tr>\n",
       "      <th>3</th>\n",
       "      <td>&lt;UID: 494a2cefc57c423c8d2123ec516bb277&gt;</td>\n",
       "      <td>[result_add]</td>\n",
       "      <td></td>\n",
       "      <td>&lt;class 'tenseal.tensors.ckksvector.CKKSVector'&gt;</td>\n",
       "    </tr>\n",
       "    <tr>\n",
       "      <th>4</th>\n",
       "      <td>&lt;UID: ee3145d07bf945369ce14b2c9527047f&gt;</td>\n",
       "      <td>[result_iadd]</td>\n",
       "      <td></td>\n",
       "      <td>&lt;class 'tenseal.tensors.ckksvector.CKKSVector'&gt;</td>\n",
       "    </tr>\n",
       "    <tr>\n",
       "      <th>5</th>\n",
       "      <td>&lt;UID: 64e610ff8a5f41d6994759c113f876ac&gt;</td>\n",
       "      <td>[result_sub]</td>\n",
       "      <td></td>\n",
       "      <td>&lt;class 'tenseal.tensors.ckksvector.CKKSVector'&gt;</td>\n",
       "    </tr>\n",
       "    <tr>\n",
       "      <th>6</th>\n",
       "      <td>&lt;UID: 0aceddf43f4842a2a6030e735788386b&gt;</td>\n",
       "      <td>[result_mul]</td>\n",
       "      <td></td>\n",
       "      <td>&lt;class 'tenseal.tensors.ckksvector.CKKSVector'&gt;</td>\n",
       "    </tr>\n",
       "    <tr>\n",
       "      <th>7</th>\n",
       "      <td>&lt;UID: a0dbe6a1bb274acd921ce4b860c6791b&gt;</td>\n",
       "      <td>[result_pow]</td>\n",
       "      <td></td>\n",
       "      <td>&lt;class 'tenseal.tensors.ckksvector.CKKSVector'&gt;</td>\n",
       "    </tr>\n",
       "    <tr>\n",
       "      <th>8</th>\n",
       "      <td>&lt;UID: abaf736da32a43c7a251e69369413378&gt;</td>\n",
       "      <td>[result_neg]</td>\n",
       "      <td></td>\n",
       "      <td>&lt;class 'tenseal.tensors.ckksvector.CKKSVector'&gt;</td>\n",
       "    </tr>\n",
       "    <tr>\n",
       "      <th>9</th>\n",
       "      <td>&lt;UID: 4167a379fce547d985911bf05f965d2b&gt;</td>\n",
       "      <td>[result_poly]</td>\n",
       "      <td></td>\n",
       "      <td>&lt;class 'tenseal.tensors.ckksvector.CKKSVector'&gt;</td>\n",
       "    </tr>\n",
       "  </tbody>\n",
       "</table>\n",
       "</div>"
      ],
      "text/plain": [
       "                                        ID           Tags Description  \\\n",
       "0  <UID: 6d9c4fa096e74d70831e62b4a6a122cf>      [context]               \n",
       "1  <UID: 4b3c9eb00bf046d4bba22ea7a9cc8cc5>       [enc_v1]               \n",
       "2  <UID: a4cd46b267114065b839ba7ea1af97e4>       [enc_v2]               \n",
       "3  <UID: 494a2cefc57c423c8d2123ec516bb277>   [result_add]               \n",
       "4  <UID: ee3145d07bf945369ce14b2c9527047f>  [result_iadd]               \n",
       "5  <UID: 64e610ff8a5f41d6994759c113f876ac>   [result_sub]               \n",
       "6  <UID: 0aceddf43f4842a2a6030e735788386b>   [result_mul]               \n",
       "7  <UID: a0dbe6a1bb274acd921ce4b860c6791b>   [result_pow]               \n",
       "8  <UID: abaf736da32a43c7a251e69369413378>   [result_neg]               \n",
       "9  <UID: 4167a379fce547d985911bf05f965d2b>  [result_poly]               \n",
       "\n",
       "                                       object_type  \n",
       "0            <class 'tenseal.enc_context.Context'>  \n",
       "1  <class 'tenseal.tensors.ckksvector.CKKSVector'>  \n",
       "2  <class 'tenseal.tensors.ckksvector.CKKSVector'>  \n",
       "3  <class 'tenseal.tensors.ckksvector.CKKSVector'>  \n",
       "4  <class 'tenseal.tensors.ckksvector.CKKSVector'>  \n",
       "5  <class 'tenseal.tensors.ckksvector.CKKSVector'>  \n",
       "6  <class 'tenseal.tensors.ckksvector.CKKSVector'>  \n",
       "7  <class 'tenseal.tensors.ckksvector.CKKSVector'>  \n",
       "8  <class 'tenseal.tensors.ckksvector.CKKSVector'>  \n",
       "9  <class 'tenseal.tensors.ckksvector.CKKSVector'>  "
      ]
     },
     "execution_count": 14,
     "metadata": {},
     "output_type": "execute_result"
    }
   ],
   "source": [
    "client.store.pandas"
   ]
  }
 ],
 "metadata": {
  "kernelspec": {
   "display_name": "Python 3",
   "language": "python",
   "name": "python3"
  },
  "language_info": {
   "codemirror_mode": {
    "name": "ipython",
    "version": 3
   },
   "file_extension": ".py",
   "mimetype": "text/x-python",
   "name": "python",
   "nbconvert_exporter": "python",
   "pygments_lexer": "ipython3",
   "version": "3.8.5"
  }
 },
 "nbformat": 4,
 "nbformat_minor": 4
}
