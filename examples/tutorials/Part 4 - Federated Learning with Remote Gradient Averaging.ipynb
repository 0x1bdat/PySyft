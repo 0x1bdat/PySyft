{
 "cells": [
  {
   "cell_type": "markdown",
   "metadata": {},
   "source": [
    "# Part 4: Federated Learning with Remote Gradient Averaging\n",
    "\n",
    "In Part 2 of this tutorial, we trained a model using a very simple version of Federated Learning. This required each "
   ]
  },
  {
   "cell_type": "code",
   "execution_count": 1,
   "metadata": {},
   "outputs": [],
   "source": [
    "import syft as sy\n",
    "import copy\n",
    "hook = sy.TorchHook()\n",
    "from torch import nn, optim"
   ]
  },
  {
   "cell_type": "code",
   "execution_count": 2,
   "metadata": {},
   "outputs": [],
   "source": [
    "# create a couple workers\n",
    "\n",
    "bob = sy.VirtualWorker(id=\"bob\")\n",
    "alice = sy.VirtualWorker(id=\"alice\")\n",
    "\n",
    "bob.add_worker(alice)\n",
    "alice.add_worker(bob)\n",
    "\n",
    "# A Toy Dataset\n",
    "data = sy.Var(sy.FloatTensor([[0,0],[0,1],[1,0],[1,1]]))\n",
    "target = sy.Var(sy.FloatTensor([[0],[0],[1],[1]]))\n",
    "\n",
    "# get pointers to training data on each worker by\n",
    "# sending some training data to bob and alice\n",
    "data_bob = data[0:2].send(bob)\n",
    "target_bob = target[0:2].send(bob)\n",
    "\n",
    "data_alice = data[2:].send(alice)\n",
    "target_alice = target[2:].send(alice)\n",
    "\n",
    "# organize pointers into a list\n",
    "datasets = [(data_bob,target_bob),(data_alice,target_alice)]\n",
    "\n",
    "# Iniitalize A Toy Model\n",
    "model = nn.Linear(2,1)\n",
    "opt = optim.SGD(params=model.parameters(),lr=0.1)"
   ]
  },
  {
   "cell_type": "code",
   "execution_count": 3,
   "metadata": {},
   "outputs": [
    {
     "name": "stdout",
     "output_type": "stream",
     "text": [
      "4.003336429595947\n",
      "3.572225570678711\n",
      "3.1930911540985107\n",
      "2.859544515609741\n",
      "2.565984010696411\n",
      "2.3074986934661865\n",
      "2.0797829627990723\n",
      "1.8790628910064697\n",
      "1.7020283937454224\n",
      "1.545778512954712\n",
      "1.4077693223953247\n",
      "1.2857705354690552\n",
      "1.1778264045715332\n",
      "1.08222234249115\n",
      "0.9974549412727356\n",
      "0.9222058057785034\n",
      "0.8553187847137451\n",
      "0.7957802414894104\n",
      "0.7427010536193848\n",
      "0.6953015327453613\n",
      "0.652897834777832\n",
      "0.6148902177810669\n",
      "0.5807523727416992\n",
      "0.550023078918457\n",
      "0.5222972631454468\n",
      "0.4972197711467743\n",
      "0.47447872161865234\n",
      "0.453800767660141\n",
      "0.43494582176208496\n",
      "0.41770297288894653\n",
      "0.401887446641922\n",
      "0.38733649253845215\n",
      "0.3739076852798462\n",
      "0.36147552728652954\n",
      "0.34992992877960205\n",
      "0.3391740322113037\n",
      "0.3291229009628296\n",
      "0.31970152258872986\n",
      "0.3108441233634949\n",
      "0.30249279737472534\n",
      "0.29459643363952637\n",
      "0.28711003065109253\n",
      "0.2799941301345825\n",
      "0.2732137143611908\n",
      "0.26673775911331177\n",
      "0.2605392336845398\n",
      "0.2545939087867737\n",
      "0.248880535364151\n",
      "0.24338021874427795\n",
      "0.23807621002197266\n",
      "0.23295360803604126\n",
      "0.22799929976463318\n",
      "0.22320140898227692\n",
      "0.21854948997497559\n",
      "0.21403418481349945\n",
      "0.20964714884757996\n",
      "0.20538084208965302\n",
      "0.20122846961021423\n",
      "0.1971839964389801\n",
      "0.19324199855327606\n",
      "0.18939745426177979\n",
      "0.18564584851264954\n",
      "0.18198314309120178\n",
      "0.17840558290481567\n",
      "0.1749098002910614\n",
      "0.1714925616979599\n",
      "0.16815108060836792\n",
      "0.16488267481327057\n",
      "0.16168491542339325\n",
      "0.1585555076599121\n",
      "0.15549226105213165\n",
      "0.15249329805374146\n",
      "0.14955666661262512\n",
      "0.14668065309524536\n",
      "0.14386358857154846\n",
      "0.14110387861728668\n",
      "0.13840004801750183\n",
      "0.13575078547000885\n",
      "0.1331547051668167\n",
      "0.13061045110225677\n",
      "0.12811684608459473\n",
      "0.12567277252674103\n",
      "0.12327703833580017\n",
      "0.1209285706281662\n",
      "0.11862630397081375\n",
      "0.11636928468942642\n",
      "0.11415647715330124\n",
      "0.11198697984218597\n",
      "0.10985979437828064\n",
      "0.10777410864830017\n",
      "0.10572901368141174\n",
      "0.10372371226549149\n",
      "0.10175734758377075\n",
      "0.09982915222644806\n",
      "0.09793833643198013\n",
      "0.0960841253399849\n",
      "0.09426579624414444\n",
      "0.09248261153697968\n",
      "0.09073387086391449\n",
      "0.08901891112327576\n"
     ]
    }
   ],
   "source": [
    "for iter in range(100):\n",
    "\n",
    "    model2 = copy.deepcopy(model)\n",
    "    opt2 = copy.deepcopy(opt)\n",
    "\n",
    "    data, target = datasets[0]\n",
    "    model.send(data.location)\n",
    "    opt.zero_grad()\n",
    "    pred = model(data)\n",
    "    loss = ((pred - target)**2).sum()\n",
    "    loss.backward()\n",
    "\n",
    "    local_loss = loss.get()\n",
    "\n",
    "    data, target = datasets[1]\n",
    "    model2.send(data.location)\n",
    "    opt2.zero_grad()\n",
    "    pred = model2(data)\n",
    "    loss = ((pred - target)**2).sum()\n",
    "    loss.backward()\n",
    "\n",
    "    local_loss += loss.get()\n",
    "\n",
    "    params = list(model.parameters())\n",
    "    params2 = list(model2.parameters())\n",
    "\n",
    "    params2[0].grad.move(bob)\n",
    "    params2[1].grad.move(bob)\n",
    "\n",
    "    weight_update = (params2[0].grad.data + params[0].grad.data) / 2\n",
    "    model.weight.data -= weight_update * 0.01\n",
    "\n",
    "    bias_update = (params2[1].grad.data + params[1].grad.data) / 2\n",
    "    model.bias.data -= bias_update * 0.01\n",
    "\n",
    "    model.get()\n",
    "\n",
    "    print(local_loss.data[0])"
   ]
  },
  {
   "cell_type": "code",
   "execution_count": 68,
   "metadata": {},
   "outputs": [],
   "source": []
  },
  {
   "cell_type": "code",
   "execution_count": 53,
   "metadata": {},
   "outputs": [
    {
     "data": {
      "text/plain": [
       "torch.Size([1, 2])"
      ]
     },
     "execution_count": 53,
     "metadata": {},
     "output_type": "execute_result"
    }
   ],
   "source": [
    "params2[0].get_shape()"
   ]
  },
  {
   "cell_type": "code",
   "execution_count": 55,
   "metadata": {},
   "outputs": [],
   "source": []
  },
  {
   "cell_type": "code",
   "execution_count": 58,
   "metadata": {},
   "outputs": [],
   "source": []
  },
  {
   "cell_type": "code",
   "execution_count": 61,
   "metadata": {},
   "outputs": [],
   "source": []
  },
  {
   "cell_type": "code",
   "execution_count": 27,
   "metadata": {},
   "outputs": [],
   "source": [
    "model2.get()"
   ]
  },
  {
   "cell_type": "code",
   "execution_count": 28,
   "metadata": {},
   "outputs": [
    {
     "data": {
      "text/plain": [
       "Linear(in_features=2, out_features=1, bias=True)"
      ]
     },
     "execution_count": 28,
     "metadata": {},
     "output_type": "execute_result"
    }
   ],
   "source": [
    "model2"
   ]
  },
  {
   "cell_type": "code",
   "execution_count": 14,
   "metadata": {},
   "outputs": [],
   "source": []
  },
  {
   "cell_type": "code",
   "execution_count": 15,
   "metadata": {},
   "outputs": [
    {
     "data": {
      "text/plain": [
       "Variable containing:FloatTensor[_PointerTensor - id:86598874295 owner:me loc:alice id@loc:49122764949]"
      ]
     },
     "execution_count": 15,
     "metadata": {},
     "output_type": "execute_result"
    }
   ],
   "source": []
  },
  {
   "cell_type": "code",
   "execution_count": 16,
   "metadata": {},
   "outputs": [
    {
     "data": {
      "text/plain": [
       "Variable containing:FloatTensor[_PointerTensor - id:30386184361 owner:me loc:alice id@loc:7485891957]"
      ]
     },
     "execution_count": 16,
     "metadata": {},
     "output_type": "execute_result"
    }
   ],
   "source": []
  },
  {
   "cell_type": "code",
   "execution_count": 17,
   "metadata": {},
   "outputs": [],
   "source": []
  },
  {
   "cell_type": "code",
   "execution_count": 20,
   "metadata": {},
   "outputs": [],
   "source": []
  },
  {
   "cell_type": "code",
   "execution_count": 3,
   "metadata": {},
   "outputs": [
    {
     "name": "stderr",
     "output_type": "stream",
     "text": [
      "WARNING:root:Worker bob already exists. Replacing old worker which could cause unexpected behavior\n",
      "WARNING:root:Worker alice already exists. Replacing old worker which could cause unexpected behavior\n"
     ]
    }
   ],
   "source": [
    "\n",
    "def train():\n",
    "    # Training Logic\n",
    "    \n",
    "    for iter in range(20):\n",
    "        \n",
    "        # NEW) iterate through each worker's dataset\n",
    "        for data,target in datasets:\n",
    "            \n",
    "            # NEW) send model to correct worker\n",
    "            model.send(data.location)\n",
    "\n",
    "            # 1) erase previous gradients (if they exist)\n",
    "            opt.zero_grad()\n",
    "\n",
    "            # 2) make a prediction\n",
    "            pred = model(data)\n",
    "\n",
    "            # 3) calculate how much the missed\n",
    "            loss = ((pred - target)**2).sum()\n",
    "\n",
    "            # 4) figure out which weights caused us to miss\n",
    "            loss.backward()\n",
    "\n",
    "            # NEW) get model (with gradients)\n",
    "            model.get()\n",
    "\n",
    "            # 5) change those weights\n",
    "            opt.step()\n",
    "\n",
    "            # 6) print our progress\n",
    "            print(loss.get().data[0]) # NEW) slight edit... need to call .get() on loss"
   ]
  },
  {
   "cell_type": "code",
   "execution_count": 4,
   "metadata": {},
   "outputs": [
    {
     "name": "stdout",
     "output_type": "stream",
     "text": [
      "1.3705298900604248\n",
      "0.3170836865901947\n",
      "0.6483337879180908\n",
      "0.2467782199382782\n",
      "0.376615971326828\n",
      "0.14604270458221436\n",
      "0.22282710671424866\n",
      "0.08502599596977234\n",
      "0.13248728215694427\n",
      "0.04956699162721634\n",
      "0.07913585752248764\n",
      "0.028994116932153702\n",
      "0.0475175604224205\n",
      "0.017038432881236076\n",
      "0.028705758973956108\n",
      "0.010072916746139526\n",
      "0.017462393268942833\n",
      "0.006000795401632786\n",
      "0.010707026347517967\n",
      "0.0036092933733016253\n",
      "0.006623470224440098\n",
      "0.0021964276675134897\n",
      "0.004137811250984669\n",
      "0.0013553204480558634\n",
      "0.0026128306053578854\n",
      "0.0008497933740727603\n",
      "0.0016689568292349577\n",
      "0.000542371766641736\n",
      "0.001079025911167264\n",
      "0.00035281339660286903\n",
      "0.0007063847733661532\n",
      "0.0002340254868613556\n",
      "0.00046830164501443505\n",
      "0.0001582468394190073\n",
      "0.000314360047923401\n",
      "0.00010896984167629853\n",
      "0.0002135887771146372\n",
      "7.628797175129876e-05\n",
      "0.00014679577725473791\n",
      "5.4188381909625605e-05\n"
     ]
    }
   ],
   "source": [
    "train()"
   ]
  },
  {
   "cell_type": "code",
   "execution_count": null,
   "metadata": {},
   "outputs": [],
   "source": []
  },
  {
   "cell_type": "code",
   "execution_count": null,
   "metadata": {},
   "outputs": [],
   "source": []
  },
  {
   "cell_type": "code",
   "execution_count": null,
   "metadata": {},
   "outputs": [],
   "source": []
  },
  {
   "cell_type": "code",
   "execution_count": null,
   "metadata": {},
   "outputs": [],
   "source": []
  },
  {
   "cell_type": "code",
   "execution_count": null,
   "metadata": {},
   "outputs": [],
   "source": []
  },
  {
   "cell_type": "code",
   "execution_count": null,
   "metadata": {},
   "outputs": [],
   "source": []
  },
  {
   "cell_type": "code",
   "execution_count": null,
   "metadata": {},
   "outputs": [],
   "source": []
  },
  {
   "cell_type": "code",
   "execution_count": null,
   "metadata": {},
   "outputs": [],
   "source": []
  },
  {
   "cell_type": "code",
   "execution_count": null,
   "metadata": {},
   "outputs": [],
   "source": []
  },
  {
   "cell_type": "code",
   "execution_count": null,
   "metadata": {},
   "outputs": [],
   "source": [
    "batch = datasets\n",
    "agg_worker = bob\n",
    "\n",
    "workers = set()\n",
    "for w in batch:\n",
    "    workers.add(w[0].location)\n",
    "\n",
    "remote_models = {}\n",
    "for worker in workers:\n",
    "    remote_models[worker.id] = copy.deepcopy(model).send(worker)\n",
    "\n",
    "for input,target in datasets:\n",
    "    remote_models[input.location.id](data)"
   ]
  }
 ],
 "metadata": {
  "kernelspec": {
   "display_name": "Python 3",
   "language": "python",
   "name": "python3"
  },
  "language_info": {
   "codemirror_mode": {
    "name": "ipython",
    "version": 3
   },
   "file_extension": ".py",
   "mimetype": "text/x-python",
   "name": "python",
   "nbconvert_exporter": "python",
   "pygments_lexer": "ipython3",
   "version": "3.6.1"
  }
 },
 "nbformat": 4,
 "nbformat_minor": 2
}
