{
 "cells": [
  {
   "cell_type": "markdown",
   "metadata": {},
   "source": [
    "# Part 0: Installing PySyft"
   ]
  },
  {
   "cell_type": "markdown",
   "metadata": {},
   "source": [
    "Before you start following the tutorials, you need to install PySyft on your computer.\n",
    "\n",
    "Here are the PySyft installation instructions for Linux, MacOs and Windows. \n",
    "\n",
    "Just scroll down to find your preferred OS:\n",
    "\n",
    "--------------\n",
    "\n",
    "Authors:\n",
    "\n",
    "- Alan Aboudib - Twitter: [@alan_aboudib](https://twitter.com/alan_aboudib)\n",
    "\n",
    "-------------------"
   ]
  },
  {
   "cell_type": "markdown",
   "metadata": {},
   "source": [
    "\n",
    "\n",
    "## <em style='background-color:#99ccff; padding:1.5em 0.5em 1.5em 0.5em'>Linux</em>"
   ]
  },
  {
   "cell_type": "markdown",
   "metadata": {},
   "source": [
    "Installing PySyft on Linux is really straight forward. Here are the steps:\n",
    "\n",
    "### 1. Make sure you have python >= 3.6\n",
    "\n",
    "You can check out the version number by running:\n",
    "\n",
    "<font color='red'>$</font>  `python --version`\n",
    "\n",
    "### 2. Install pytorch 1.0:\n",
    "\n",
    "Get the installation command here:\n",
    "\n",
    "https://pytorch.org/get-started/locally/. (use the pip option)\n",
    "\n",
    "and run it in the terminal. \n",
    "\n",
    "**<font color='red'>Attention:</font>** You might need to use `sudo` to run the installation command if you are not using Conda.\n",
    "\n",
    "\n",
    "### 3. Clone the PySyft repo from github\n",
    "\n",
    "<font color='red'>$</font> `git clone https://github.com/OpenMined/PySyft.git`\n",
    "\n",
    "### 4. Enter the cloned repo\n",
    "\n",
    "<font color='red'>$</font> `cd PySyft`\n",
    "\n",
    "### 5. Install PySyft\n",
    "\n",
    "<font color='red'>$</font> `sudo python setup.py install`\n",
    "\n",
    "### 6. Test your installation:\n",
    "\n",
    "<font color='red'>$</font> `sudo python setup.py test`"
   ]
  },
  {
   "cell_type": "markdown",
   "metadata": {},
   "source": [
    "## <em style='background-color:#99ccff; padding:1.5em 0.5em 1.5em 0.5em'>Mac OS</em>"
   ]
  },
  {
   "cell_type": "markdown",
   "metadata": {},
   "source": [
    "### 1. Install python\n",
    "\n",
    "In order to install python on MacOs, you first need to install **Homebrew** the famous package manager.\n",
    "\n",
    "Start by opening a terminal and type the following:"
   ]
  },
  {
   "cell_type": "markdown",
   "metadata": {},
   "source": [
    "<font color='red'>$</font> `xcode-select --install`\n",
    "\n",
    "<font color='red'>$</font> `/usr/bin/ruby -e \"$(curl -fsSL https://raw.githubusercontent.com/Homebrew/install/master/install)\"`\n",
    "\n",
    "This will install **Homebrew**. Then, install python (version 3.6 or above) by running:\n",
    "\n",
    "<font color='red'>$</font> `brew install python3`"
   ]
  },
  {
   "cell_type": "markdown",
   "metadata": {},
   "source": [
    "### 2. Install pytorch 1.0"
   ]
  },
  {
   "cell_type": "markdown",
   "metadata": {},
   "source": [
    "You should first get the installation command here:\n",
    "\n",
    "https://pytorch.org/get-started/locally/. (use the pip option)\n",
    "\n",
    "Then run that command in the open terminal."
   ]
  },
  {
   "cell_type": "markdown",
   "metadata": {},
   "source": [
    "### 3. Clone the PySyft repo from Github\n",
    "\n",
    "Just type\n",
    "\n",
    "<font color='red'>$</font> `git clone https://github.com/OpenMined/PySyft.git`\n",
    "\n",
    "In the terminal\n",
    "\n",
    "### 4. Install PySyft\n",
    "\n",
    "First, you need to enter the PySyft folder you cloned earlier by typing:\n",
    "\n",
    "<font color='red'>$</font> `cd PySyft`\n",
    "\n",
    "in the terminal. Then, run this to install the package:\n",
    "\n",
    "<font color='red'>$</font> `python setup.py install`\n",
    "\n",
    "You can  test your installation by running:\n",
    "\n",
    "<font color='red'>$</font> `python setup.py test`\n"
   ]
  },
  {
   "cell_type": "markdown",
   "metadata": {},
   "source": [
    "## <em style='background-color:#99ccff; padding:1.5em 0.5em 1.5em 0.5em'>Windows</em>"
   ]
  },
  {
   "cell_type": "markdown",
   "metadata": {},
   "source": [
    "### 1. install python "
   ]
  },
  {
   "cell_type": "markdown",
   "metadata": {},
   "source": [
    "PySyft requires python version 3.6 or above. \n",
    "\n",
    "Here is the link to install python https://www.python.org/downloads"
   ]
  },
  {
   "cell_type": "markdown",
   "metadata": {},
   "source": [
    "### 2. add ***python*** and ***pip*** to the `PATH` environment variable"
   ]
  },
  {
   "cell_type": "markdown",
   "metadata": {},
   "source": [
    "First, you need to find the folder path to which `python.exe` and `pip3` were installed.\n",
    "\n",
    "In my case it is:\n",
    "\n",
    ">C:\\Users\\alan\\AppData\\Local\\Programs\\Python\\Python37\n",
    "    \n",
    "for the former, and:\n",
    "\n",
    ">C:\\Users\\alan\\AppData\\Local\\Programs\\Python\\Python37\\Scripts\n",
    "\n",
    "for the latter. So I will add both paths to the PATH environment variable."
   ]
  },
  {
   "cell_type": "markdown",
   "metadata": {},
   "source": [
    "In order to do that, go to **Run** and type `sysdm.cpl` and press **Enter**. The following window should open:\n"
   ]
  },
  {
   "cell_type": "markdown",
   "metadata": {},
   "source": [
    "<img src='./images/sysdmcpl.png'>"
   ]
  },
  {
   "cell_type": "markdown",
   "metadata": {},
   "source": [
    "Click on the `Environment Variables...` button in the bottom-right corner. The following window should appear:"
   ]
  },
  {
   "cell_type": "markdown",
   "metadata": {},
   "source": [
    "<img src='./images/sysdmcpl2.png'>"
   ]
  },
  {
   "cell_type": "markdown",
   "metadata": {},
   "source": [
    "Select the **Path** row in the `System varibles` section as in the above screenshot and click on `Edit...` \n",
    "\n",
    "In the window that opens, click on `New` and add the installation paths for `python.exe` and `pip`. Here is an example:"
   ]
  },
  {
   "cell_type": "markdown",
   "metadata": {},
   "source": [
    "<img src='./images/sysdmcpl3.png'>"
   ]
  },
  {
   "cell_type": "markdown",
   "metadata": {},
   "source": [
    "Click on `OK`."
   ]
  },
  {
   "cell_type": "markdown",
   "metadata": {},
   "source": [
    "### 3. Install pytorch 1.0"
   ]
  },
  {
   "cell_type": "markdown",
   "metadata": {},
   "source": [
    "You should first get the installation command here:\n",
    "\n",
    "https://pytorch.org/get-started/locally/. (use the pip option)\n",
    "\n",
    "Then open the command prompt by going to **Run** and typing *cmd*, type or paste the pytorch installation command you got from the above link and press **Enter**."
   ]
  },
  {
   "cell_type": "markdown",
   "metadata": {},
   "source": [
    "### 4. Install Git"
   ]
  },
  {
   "cell_type": "markdown",
   "metadata": {},
   "source": [
    "Here is the download link for Git on windows: https://git-scm.com/download/win"
   ]
  },
  {
   "cell_type": "markdown",
   "metadata": {},
   "source": [
    "### 5. Install Microsoft Build tools"
   ]
  },
  {
   "cell_type": "markdown",
   "metadata": {},
   "source": [
    "Go to https://visualstudio.microsoft.com/downloads/#build-tools-for-visual-studio-2017\n",
    "\n",
    "and click on `Free download` under **Community** in the Visual Studio download section. This is illustrated in the following screenshot:\n",
    "\n"
   ]
  },
  {
   "cell_type": "markdown",
   "metadata": {},
   "source": [
    "<img src='./images/visual_sudio_download.png'>"
   ]
  },
  {
   "cell_type": "markdown",
   "metadata": {},
   "source": [
    "After the download is finished, run the downloaded package. You will eventually get the following window:"
   ]
  },
  {
   "cell_type": "markdown",
   "metadata": {},
   "source": [
    "<img src='./images/microsoft_build_tools_choice.png'>"
   ]
  },
  {
   "cell_type": "markdown",
   "metadata": {},
   "source": [
    "Select `Desktop development with C++` and click on `Install` at the bottom-right corner of the page. (In the above screenshot you see a `Close` button instead since I have already installed it.)\n",
    "\n",
    "Wait until the the install has finished."
   ]
  },
  {
   "cell_type": "markdown",
   "metadata": {},
   "source": [
    "### 6. Clone the PySyft repo from Github"
   ]
  },
  {
   "cell_type": "markdown",
   "metadata": {},
   "source": [
    "Just type \n",
    "\n",
    "<font color='red'>**>**</font>`git clone https://github.com/OpenMined/PySyft.git`\n",
    "\n",
    "In the command prompt."
   ]
  },
  {
   "cell_type": "markdown",
   "metadata": {},
   "source": [
    "### 7. Install PySyft"
   ]
  },
  {
   "cell_type": "markdown",
   "metadata": {},
   "source": [
    "First, you need to enter the PySyft folder you cloned earlier by typing:\n",
    "\n",
    "<font color='red'>**>**</font>`cd PySyft`\n",
    "\n",
    "in the command prompt."
   ]
  },
  {
   "cell_type": "markdown",
   "metadata": {},
   "source": [
    "Then, type this in the command prompt as well:\n",
    "\n",
    "<font color='red'>**>**</font> `python setup.py install`\n",
    "\n",
    "This will install PySyft to your system. You should see no errors. \n",
    "\n",
    "You can also test your installation by running:\n",
    "\n",
    "<font color='red'>**>**</font>`python setup.py test`"
   ]
  },
  {
   "cell_type": "markdown",
   "metadata": {},
   "source": [
    "\n",
    "----------------------\n",
    "--------------------"
   ]
  },
  {
   "cell_type": "markdown",
   "metadata": {},
   "source": [
    "## <em style='background-color:red; padding:1.5em 0.5em 1.5em 0.5em'>Troubleshooting</em>"
   ]
  },
  {
   "cell_type": "markdown",
   "metadata": {},
   "source": [
    "If installation is not working for you, please tell us about your issue on our slack channel here:\n",
    "\n",
    "<a href='https://openmined.slack.com'>openmined.slack.com</a>\n",
    "\n",
    "We will do our best to help !!"
   ]
  }
 ],
 "metadata": {
  "kernelspec": {
   "display_name": "Python 3",
   "language": "python",
   "name": "python3"
  },
  "language_info": {
   "codemirror_mode": {
    "name": "ipython",
    "version": 3
   },
   "file_extension": ".py",
   "mimetype": "text/x-python",
   "name": "python",
   "nbconvert_exporter": "python",
   "pygments_lexer": "ipython3",
   "version": "3.7.2"
  }
 },
 "nbformat": 4,
 "nbformat_minor": 2
}
