{
 "cells": [
  {
   "cell_type": "markdown",
   "metadata": {},
   "source": [
    "# Federated Learning of a Recurrent Neural Network for text classification"
   ]
  },
  {
   "cell_type": "markdown",
   "metadata": {},
   "source": [
    "In this tutorial, you are going to learn how to train a Recurrent Neural Network in a federated way with the purpose of *classifying* a person's name as belonging to a certain nationality with a certain probability. \n",
    "\n",
    "Following distributed training, the resulting model is going to be able to perform operations like:"
   ]
  },
  {
   "cell_type": "raw",
   "metadata": {},
   "source": [
    "predict(model_pointers[\"bob\"], \"Qing\", alice) #alice is our worker\n",
    "\n",
    " Qing\n",
    "(-1.43) Korean\n",
    "(-1.74) Vietnamese\n",
    "(-2.18) Arabic\n",
    "\n",
    "predict(model_pointers[\"alice\"], \"Daniele\", alice)\n",
    "\n",
    " Daniele\n",
    "(-1.58) French\n",
    "(-2.04) Scottish\n",
    "(-2.07) Dutch\n"
   ]
  },
  {
   "cell_type": "markdown",
   "metadata": {},
   "source": [
    "The present example is inspired by an official Pytorch [tutorial](https://pytorch.org/tutorials/intermediate/char_rnn_classification_tutorial.html), which I ported to PySyft with  the purpose of learning a Recurrent Neural Network in a federated way.The present tutorial is self-contained, so there are no dependencies on external pieces of code apart from a few Python libraries.\n",
    "\n",
    "**Tutorial's author**: Daniele Gadler. [@DanyEle](https://github.com/danyele). Feel free to contact me in case of issues!\n"
   ]
  },
  {
   "cell_type": "markdown",
   "metadata": {},
   "source": [
    "## 1. Step: Dependencies!\n",
    "\n",
    "Make sure you have all the following packages installed, or install them via:\n",
    "\n",
    "pip3 install <package_name>"
   ]
  },
  {
   "cell_type": "code",
   "execution_count": 1,
   "metadata": {},
   "outputs": [],
   "source": [
    "from __future__ import unicode_literals, print_function, division\n",
    "from torch.utils.data import Dataset\n",
    "\n",
    "import torch\n",
    "from io import open\n",
    "import glob\n",
    "import os\n",
    "import numpy as np\n",
    "import unicodedata\n",
    "import string\n",
    "import random\n",
    "import torch.nn as nn\n",
    "import time\n",
    "import math\n",
    "import syft as sy\n",
    "import pandas as pd\n",
    "import random\n",
    "from syft.frameworks.torch.federated import utils\n",
    "\n",
    "from syft.workers import WebsocketClientWorker\n",
    "import matplotlib.pyplot as plt\n",
    "import matplotlib.ticker as ticker"
   ]
  },
  {
   "cell_type": "markdown",
   "metadata": {},
   "source": [
    "## 2. Step: Data pre-processing and transformation\n",
    "\n",
    "We are going to train our neural network based on some dataset, so download the following dataset [LINK](https://download.pytorch.org/tutorial/data.zip) and extract it to the same directory of this Jupyter notebook. After you've extracted the data, you'll be able to read it in Python after initializing a few basic functions for parsing the data"
   ]
  },
  {
   "cell_type": "code",
   "execution_count": 2,
   "metadata": {},
   "outputs": [],
   "source": [
    "#Load all the files in a certain path\n",
    "def findFiles(path):\n",
    "    return glob.glob(path)\n",
    "\n",
    "# Read a file and split into lines\n",
    "def readLines(filename):\n",
    "    lines = open(filename, encoding='utf-8').read().strip().split('\\n')\n",
    "    return [unicodeToAscii(line) for line in lines]\n",
    "\n",
    "#convert a string 's' in unicode format to ASCII format\n",
    "def unicodeToAscii(s):\n",
    "    return ''.join(\n",
    "        c for c in unicodedata.normalize('NFD', s)\n",
    "        if unicodedata.category(c) != 'Mn'\n",
    "        and c in all_letters\n",
    "    )\n",
    "    "
   ]
  },
  {
   "cell_type": "code",
   "execution_count": 3,
   "metadata": {},
   "outputs": [
    {
     "name": "stdout",
     "output_type": "stream",
     "text": [
      "data/names/Greek.txt\n",
      "data/names/Italian.txt\n",
      "data/names/Chinese.txt\n",
      "data/names/German.txt\n",
      "data/names/Japanese.txt\n",
      "data/names/Russian.txt\n",
      "data/names/Portuguese.txt\n",
      "data/names/Dutch.txt\n",
      "data/names/Scottish.txt\n",
      "data/names/Irish.txt\n",
      "data/names/Arabic.txt\n",
      "data/names/French.txt\n",
      "data/names/Vietnamese.txt\n",
      "data/names/Polish.txt\n",
      "data/names/Korean.txt\n",
      "data/names/Czech.txt\n",
      "data/names/English.txt\n",
      "data/names/Spanish.txt\n",
      "Amount of categories:18\n"
     ]
    }
   ],
   "source": [
    "all_letters = string.ascii_letters + \" .,;'\"\n",
    "n_letters = len(all_letters)\n",
    "\n",
    "#dictionary containing the nation as key and the names as values\n",
    "#Example: category_lines[\"italian\"] = [\"Abandonato\",\"Abatangelo\",\"Abatantuono\",...]\n",
    "category_lines = {}\n",
    "#List containing the different categories in the data\n",
    "all_categories = []\n",
    "\n",
    "for filename in findFiles('data/names/*.txt'):\n",
    "    print(filename)\n",
    "    category = os.path.splitext(os.path.basename(filename))[0]\n",
    "    all_categories.append(category)\n",
    "    lines = readLines(filename)\n",
    "    category_lines[category] = lines   \n",
    "    \n",
    "n_categories = len(all_categories)\n",
    "\n",
    "print(\"Amount of categories:\" + str(n_categories))"
   ]
  },
  {
   "cell_type": "markdown",
   "metadata": {},
   "source": [
    "Now we are going to format the data so as to make it compliant with the format requested by PySyft and Pytorch. Firstly, we define a dataset class, specifying how batches ought to be extracted from the dataset in order for them to be assigned to the different workers."
   ]
  },
  {
   "cell_type": "code",
   "execution_count": 4,
   "metadata": {},
   "outputs": [],
   "source": [
    "class LanguageDataset(Dataset):\n",
    "    #Constructor is mandatory\n",
    "        def __init__(self, text, labels, transform=None):\n",
    "            self.data = text\n",
    "            self.targets = labels #categories\n",
    "            #self.to_torchtensor()\n",
    "            self.transform = transform\n",
    "        \n",
    "        def to_torchtensor(self):            \n",
    "            self.data = torch.from_numpy(self.text, requires_grad=True)\n",
    "            self.labels =torch.from_numpy(self.targets, requires_grad=True)\n",
    "        \n",
    "        def __len__(self):\n",
    "            #Mandatory\n",
    "            '''Returns:\n",
    "                    Length [int]: Length of Dataset/batches\n",
    "            '''\n",
    "            return len(self.data)\n",
    "    \n",
    "        def __getitem__(self, idx): \n",
    "            #Mandatory \n",
    "            \n",
    "            '''Returns:\n",
    "                     Data [Torch Tensor]: \n",
    "                     Target [ Torch Tensor]:\n",
    "            '''\n",
    "            sample=self.data[idx]\n",
    "            target=self.targets[idx]\n",
    "                    \n",
    "            if self.transform:\n",
    "                sample = self.transform(sample)\n",
    "    \n",
    "            return sample,target"
   ]
  },
  {
   "cell_type": "code",
   "execution_count": 5,
   "metadata": {},
   "outputs": [],
   "source": [
    "#The list of arguments for our program. We will be needing most of them soon.\n",
    "class Arguments():\n",
    "    def __init__(self):\n",
    "        self.batch_size = 1\n",
    "        self.learning_rate = 0.005\n",
    "        self.epochs = 10000\n",
    "        self.federate_after_n_batches = 15000\n",
    "        self.seed = 1\n",
    "        self.print_every = 200\n",
    "        self.plot_every = 100\n",
    "        self.use_cuda = False\n",
    "        \n",
    "args = Arguments()\n"
   ]
  },
  {
   "cell_type": "code",
   "execution_count": 6,
   "metadata": {},
   "outputs": [
    {
     "name": "stdout",
     "output_type": "stream",
     "text": [
      "['Adamou', 'Agelakos', 'Akrivopoulos', 'Alexandropoulos', 'Anetakis', 'Angelopoulos', 'Antimisiaris', 'Antipas', 'Antonakos', 'Antoniadis', 'Antonopoulos', 'Antonopoulos', 'Antonopoulos', 'Arvanitoyannis', 'Avgerinos', 'Banos', 'Batsakis', 'Bekyros', 'Belesis']\n",
      "['Greek', 'Greek', 'Greek', 'Greek', 'Greek', 'Greek', 'Greek', 'Greek', 'Greek', 'Greek', 'Greek', 'Greek', 'Greek', 'Greek', 'Greek', 'Greek', 'Greek', 'Greek', 'Greek']\n",
      "\n",
      " \n",
      " Amount of data points loaded: 20074\n"
     ]
    }
   ],
   "source": [
    "#We now need to unwrap data samples so as to have them all in one single list instead of a dictionary\n",
    "#instead of a dictionary where different categories are addressed by key.\n",
    "#We want:\n",
    "#data_points(X) = [d1,....,dn]\n",
    "#categories(Y) = [c1,....,cn]\n",
    "\n",
    "#Set of names(X)\n",
    "names_list = []\n",
    "#Set of labels (Y)\n",
    "category_list = []\n",
    "\n",
    "#Convert into a list with corresponding label.\n",
    "\n",
    "for nation, names in category_lines.items():\n",
    "    #iterate over every single name\n",
    "    for name in names:\n",
    "        names_list.append(name)      #input data point\n",
    "        category_list.append(nation) #label\n",
    "        \n",
    "#let's see if it was successfully loaded. Each data sample(X) should have its own corresponding category(Y)\n",
    "print(names_list[1:20])\n",
    "print(category_list[1:20])\n",
    "\n",
    "print(\"\\n \\n Amount of data points loaded: \" + str(len(names_list)))\n",
    "\n"
   ]
  },
  {
   "cell_type": "code",
   "execution_count": 7,
   "metadata": {},
   "outputs": [],
   "source": [
    "#We now need to turn our categories into numbers, as PyTorch cannot really understand plain text\n",
    "#Example: \"Greek\" ---> 0\n",
    "\n",
    "#Assign an integer to every category\n",
    "categories_numerical = pd.factorize(category_list)[0]\n",
    "#Let's wrap our categories with a tensor, so that it can be loaded by LanguageDataset\n",
    "category_tensor = torch.tensor(np.array(categories_numerical), dtype=torch.long)\n",
    "#Ready to be processed by torch.from_numpy in LanguageDataset\n",
    "categories_numpy = np.array(category_tensor)\n"
   ]
  },
  {
   "cell_type": "code",
   "execution_count": 8,
   "metadata": {},
   "outputs": [
    {
     "name": "stdout",
     "output_type": "stream",
     "text": [
      "Adamidis\n",
      "[[[0. 0. 0. 0. 0. 0. 0. 0. 0. 0. 0. 0. 0. 0. 0. 0. 0. 0. 0. 0. 0. 0. 0.\n",
      "   0. 0. 0. 1. 0. 0. 0. 0. 0. 0. 0. 0. 0. 0. 0. 0. 0. 0. 0. 0. 0. 0. 0.\n",
      "   0. 0. 0. 0. 0. 0. 0. 0. 0. 0. 0.]]\n",
      "\n",
      " [[0. 0. 0. 1. 0. 0. 0. 0. 0. 0. 0. 0. 0. 0. 0. 0. 0. 0. 0. 0. 0. 0. 0.\n",
      "   0. 0. 0. 0. 0. 0. 0. 0. 0. 0. 0. 0. 0. 0. 0. 0. 0. 0. 0. 0. 0. 0. 0.\n",
      "   0. 0. 0. 0. 0. 0. 0. 0. 0. 0. 0.]]\n",
      "\n",
      " [[1. 0. 0. 0. 0. 0. 0. 0. 0. 0. 0. 0. 0. 0. 0. 0. 0. 0. 0. 0. 0. 0. 0.\n",
      "   0. 0. 0. 0. 0. 0. 0. 0. 0. 0. 0. 0. 0. 0. 0. 0. 0. 0. 0. 0. 0. 0. 0.\n",
      "   0. 0. 0. 0. 0. 0. 0. 0. 0. 0. 0.]]\n",
      "\n",
      " [[0. 0. 0. 0. 0. 0. 0. 0. 0. 0. 0. 0. 1. 0. 0. 0. 0. 0. 0. 0. 0. 0. 0.\n",
      "   0. 0. 0. 0. 0. 0. 0. 0. 0. 0. 0. 0. 0. 0. 0. 0. 0. 0. 0. 0. 0. 0. 0.\n",
      "   0. 0. 0. 0. 0. 0. 0. 0. 0. 0. 0.]]\n",
      "\n",
      " [[0. 0. 0. 0. 0. 0. 0. 0. 1. 0. 0. 0. 0. 0. 0. 0. 0. 0. 0. 0. 0. 0. 0.\n",
      "   0. 0. 0. 0. 0. 0. 0. 0. 0. 0. 0. 0. 0. 0. 0. 0. 0. 0. 0. 0. 0. 0. 0.\n",
      "   0. 0. 0. 0. 0. 0. 0. 0. 0. 0. 0.]]\n",
      "\n",
      " [[0. 0. 0. 1. 0. 0. 0. 0. 0. 0. 0. 0. 0. 0. 0. 0. 0. 0. 0. 0. 0. 0. 0.\n",
      "   0. 0. 0. 0. 0. 0. 0. 0. 0. 0. 0. 0. 0. 0. 0. 0. 0. 0. 0. 0. 0. 0. 0.\n",
      "   0. 0. 0. 0. 0. 0. 0. 0. 0. 0. 0.]]\n",
      "\n",
      " [[0. 0. 0. 0. 0. 0. 0. 0. 1. 0. 0. 0. 0. 0. 0. 0. 0. 0. 0. 0. 0. 0. 0.\n",
      "   0. 0. 0. 0. 0. 0. 0. 0. 0. 0. 0. 0. 0. 0. 0. 0. 0. 0. 0. 0. 0. 0. 0.\n",
      "   0. 0. 0. 0. 0. 0. 0. 0. 0. 0. 0.]]\n",
      "\n",
      " [[0. 0. 0. 0. 0. 0. 0. 0. 0. 0. 0. 0. 0. 0. 0. 0. 0. 0. 1. 0. 0. 0. 0.\n",
      "   0. 0. 0. 0. 0. 0. 0. 0. 0. 0. 0. 0. 0. 0. 0. 0. 0. 0. 0. 0. 0. 0. 0.\n",
      "   0. 0. 0. 0. 0. 0. 0. 0. 0. 0. 0.]]]\n",
      "(8, 1, 57)\n"
     ]
    }
   ],
   "source": [
    "#We now need to turn every single character in each input line string into a vector of vector, so that it\n",
    "#can actualyl be processed by our Recurrent Neural Network. \n",
    "#Example: character \"a\" = array([[1., 0., 0., 0., 0., 0., 0., 0., 0., 0., 0., 0., 0., 0., 0., 0.,\n",
    "        #0., 0., 0., 0., 0., 0., 0., 0., 0., 0., 0., 0., 0., 0., 0., 0.,\n",
    "        #0., 0., 0., 0., 0., 0., 0., 0., 0., 0., 0., 0., 0., 0., 0., 0.,\n",
    "        #0., 0., 0., 0., 0., 0., 0., 0., 0.]], dtype=float32)\n",
    "#A word is made up one one such vector per character. This technique is known as generating \"word embeddings\",\n",
    "#as we embed a word into a vector of vectors.\n",
    "       \n",
    "\n",
    "def letterToIndex(letter):\n",
    "    return all_letters.find(letter)\n",
    "    \n",
    "# Just for demonstration, turn a letter into a <1 x n_letters> Tensor\n",
    "def letterToTensor(letter):\n",
    "    tensor = torch.zeros(1, n_letters)\n",
    "    tensor[0][letterToIndex(letter)] = 1\n",
    "    return tensor\n",
    "\n",
    "# Turn a line into a <line_length x 1 x n_letters>,\n",
    "# or an array of one-hot letter vectors\n",
    "def lineToTensor(line):\n",
    "    tensor = torch.zeros(len(line), 1, n_letters) #Daniele: len(max_line_size) was len(line)\n",
    "    for li, letter in enumerate(line):\n",
    "        tensor[li][0][letterToIndex(letter)] = 1\n",
    "    #Daniele: add blank elements over here\n",
    "    return tensor    \n",
    "    \n",
    "    \n",
    "    \n",
    "def list_strings_to_list_tensors(names_list):\n",
    "    lines_tensors = []\n",
    "    for index, line in enumerate(names_list):\n",
    "        lineTensor = lineToTensor(line)\n",
    "        lineNumpy = lineTensor.numpy()\n",
    "        lines_tensors.append(lineNumpy)\n",
    "        \n",
    "    return(lines_tensors)\n",
    "\n",
    "lines_tensors = list_strings_to_list_tensors(names_list)\n",
    "\n",
    "print(names_list[0])\n",
    "print(lines_tensors[0])\n",
    "print(lines_tensors[0].shape)\n",
    "\n"
   ]
  },
  {
   "cell_type": "code",
   "execution_count": 9,
   "metadata": {},
   "outputs": [
    {
     "name": "stdout",
     "output_type": "stream",
     "text": [
      "Adamidis\n",
      "tensor([[[0., 0., 0.,  ..., 0., 0., 0.]],\n",
      "\n",
      "        [[0., 0., 0.,  ..., 0., 0., 0.]],\n",
      "\n",
      "        [[1., 0., 0.,  ..., 0., 0., 0.]],\n",
      "\n",
      "        ...,\n",
      "\n",
      "        [[0., 0., 0.,  ..., 0., 0., 0.]],\n",
      "\n",
      "        [[0., 0., 0.,  ..., 0., 0., 0.]],\n",
      "\n",
      "        [[0., 0., 0.,  ..., 0., 0., 0.]]])\n",
      "torch.Size([19, 1, 57])\n"
     ]
    }
   ],
   "source": [
    "#Now we need to identify the longest word in the dataset, as all tensors need to have the same shape \n",
    "#in order to fit into a numpy array, so we append vectors containing just \"0\"s into our words' up to the maximum\n",
    "#word size, such that all embeddings have the same shape.\n",
    "\n",
    "max_line_size = max(len(x) for x in lines_tensors)\n",
    "\n",
    "def lineToTensorFillEmpty(line, max_line_size):\n",
    "    tensor = torch.zeros(max_line_size, 1, n_letters) #notice the difference between this method and the previous one\n",
    "    for li, letter in enumerate(line):\n",
    "        tensor[li][0][letterToIndex(letter)] = 1\n",
    "        \n",
    "        #Vectors with (0,0,.... ,0) are placed where there are no characters\n",
    "    return tensor\n",
    "\n",
    "def list_strings_to_list_tensors_fill_empty(names_list):\n",
    "    lines_tensors = []\n",
    "    for index, line in enumerate(names_list):\n",
    "        lineTensor = lineToTensorFillEmpty(line, max_line_size)\n",
    "        lines_tensors.append(lineTensor)\n",
    "    return(lines_tensors)\n",
    "\n",
    "lines_tensors = list_strings_to_list_tensors_fill_empty(names_list)\n",
    "\n",
    "#Let's take a look at what a word now looks like\n",
    "print(names_list[0])\n",
    "print(lines_tensors[0])\n",
    "print(lines_tensors[0].shape)"
   ]
  },
  {
   "cell_type": "code",
   "execution_count": 10,
   "metadata": {},
   "outputs": [
    {
     "name": "stdout",
     "output_type": "stream",
     "text": [
      "(20074, 19, 1, 57)\n",
      "(20074, 19, 57)\n"
     ]
    }
   ],
   "source": [
    "#And finally, from a list, we can create a numpy array with all our word embeddings having the same shape:\n",
    "array_lines_tensors = np.stack(lines_tensors)\n",
    "#However, such operation introduces, one extra dimension (look at the dimension with index=2 having size '1')\n",
    "print(array_lines_tensors.shape)\n",
    "#Because that dimension just has size 1, we can get rid of it with the following function call\n",
    "array_lines_proper_dimension = np.squeeze(array_lines_tensors, axis=2)\n",
    "print(array_lines_proper_dimension.shape)\n",
    "\n"
   ]
  },
  {
   "cell_type": "markdown",
   "metadata": {},
   "source": [
    "### Data unbalancing and batch randomization:\n",
    "You may have noticed that our dataset is strongly unbalanced and contains a lot of data points in the \"russian.txt\" dataset. However, we would still like to take a random batch during our training procedure at every iteration. In order to prevent our neural network from classifying a data point as always belonging to the \"Russian\" category, we first pick a random category and then select a data point from that category. To do that, we construct a dictionary mapping a certain category to the corresponding starting index in the list of data points (e.g.: lines). Afterwards, we will take a datapoint starting from the starting index found"
   ]
  },
  {
   "cell_type": "code",
   "execution_count": 11,
   "metadata": {},
   "outputs": [
    {
     "name": "stdout",
     "output_type": "stream",
     "text": [
      "{'Greek': 0, 'Italian': 203, 'Chinese': 912, 'German': 1180, 'Japanese': 1904, 'Russian': 2895, 'Portuguese': 12303, 'Dutch': 12377, 'Scottish': 12674, 'Irish': 12774, 'Arabic': 13006, 'French': 15006, 'Vietnamese': 15283, 'Polish': 15356, 'Korean': 15495, 'Czech': 15589, 'English': 16108, 'Spanish': 19776}\n"
     ]
    }
   ],
   "source": [
    "def find_start_index_per_category(category_list):\n",
    "    categories_start_index = {}\n",
    "    \n",
    "    #Initialize every category with an empty list\n",
    "    for category in all_categories:\n",
    "        categories_start_index[category] = []\n",
    "    \n",
    "    #Insert the start index of each category into the dictionary categories_start_index\n",
    "    #Example: \"Italian\" --> 203\n",
    "    #         \"Spanish\" --> 19776\n",
    "    last_category = None\n",
    "    i = 0\n",
    "    for name in names_list:\n",
    "        cur_category = category_list[i]\n",
    "        if(cur_category != last_category):\n",
    "            categories_start_index[cur_category] = i\n",
    "            last_category = cur_category\n",
    "        \n",
    "        i = i + 1\n",
    "        \n",
    "    return(categories_start_index)\n",
    "\n",
    "categories_start_index = find_start_index_per_category(category_list)\n",
    "\n",
    "print(categories_start_index)\n"
   ]
  },
  {
   "cell_type": "code",
   "execution_count": 12,
   "metadata": {},
   "outputs": [],
   "source": [
    "#Let's define our functions to take a random data sample from the dataset\n",
    "\n",
    "def randomChoice(l):\n",
    "    rand_value = random.randint(0, len(l) - 1)\n",
    "    return l[rand_value], rand_value\n",
    "\n",
    "\n",
    "def randomTrainingIndex():\n",
    "    category, rand_cat_index = randomChoice(all_categories) #cat = category, it's not a random animal\n",
    "    #print(category)\n",
    "    #rand_line_index is a relative index for a data point within the random category rand_cat_index\n",
    "    line, rand_line_index = randomChoice(category_lines[category])\n",
    "    category_start_index = categories_start_index[category]\n",
    "    absolute_index = category_start_index + rand_line_index\n",
    "    return(absolute_index)"
   ]
  },
  {
   "cell_type": "markdown",
   "metadata": {},
   "source": [
    "## 3. Model - Recurrent Neural Network\n",
    "Hey, I must admit that was indeed a lot of data preprocessing and transformation, but it was well worth it. \n",
    "We have defined almost all the function we'll be needing during the training procedure and our data is ready\n",
    "to be fed into the neural network, which we're creating now:"
   ]
  },
  {
   "cell_type": "code",
   "execution_count": 13,
   "metadata": {},
   "outputs": [
    {
     "name": "stdout",
     "output_type": "stream",
     "text": [
      "RNN(\n",
      "  (i2h): Linear(in_features=185, out_features=128, bias=True)\n",
      "  (i2o): Linear(in_features=185, out_features=18, bias=True)\n",
      "  (softmax): LogSoftmax()\n",
      ")\n"
     ]
    }
   ],
   "source": [
    "#Two hidden layers, based on simple linear layers\n",
    "\n",
    "class RNN(nn.Module):\n",
    "    def __init__(self, input_size, hidden_size, output_size):\n",
    "        super(RNN, self).__init__()\n",
    "        self.hidden_size = hidden_size\n",
    "        self.i2h = nn.Linear(input_size + hidden_size, hidden_size)\n",
    "        self.i2o = nn.Linear(input_size + hidden_size, output_size)\n",
    "        self.softmax = nn.LogSoftmax(dim=1)\n",
    "\n",
    "    def forward(self, input, hidden):\n",
    "        combined = torch.cat((input, hidden), 1)\n",
    "        hidden = self.i2h(combined)\n",
    "        output = self.i2o(combined)\n",
    "        output = self.softmax(output)\n",
    "        return output, hidden\n",
    "\n",
    "    def initHidden(self):\n",
    "        return torch.zeros(1, self.hidden_size)\n",
    "\n",
    "#Let's instantiate the neural network already:\n",
    "n_hidden = 128\n",
    "#Instantiate RNN\n",
    "\n",
    "device = torch.device(\"cuda\" if args.use_cuda else \"cpu\")\n",
    "model = RNN(n_letters, n_hidden, n_categories).to(device)\n",
    "#The final softmax layer will produce a probability for each one of our 18 categories\n",
    "print(model)    \n",
    "    "
   ]
  },
  {
   "cell_type": "code",
   "execution_count": 14,
   "metadata": {},
   "outputs": [],
   "source": [
    "#Now let's define our workers. You can either use remote workers or virtual workers\n",
    "hook = sy.TorchHook(torch)  # <-- NEW: hook PyTorch ie add extra functionalities to support Federated Learning\n",
    "alice = sy.VirtualWorker(hook, id=\"alice\")  # <-- NEW: define remote worker dani\n",
    "bob = sy.VirtualWorker(hook, id=\"bob\")  # <-- NEW: also define remote worker ele\n",
    "#inad = sy.VirtualWorker(hook, id=\"inad\")  # <-- NEW: also define remote worker ele\n",
    "\n",
    "workers_virtual = [alice, bob]\n",
    "\n",
    "#If you have your workers operating remotely, like on Raspberry PIs\n",
    "#kwargs_websocket_alice = {\"host\": \"ip_alice\", \"hook\": hook}\n",
    "#alice = WebsocketClientWorker(id=\"alice\", port=8777, **kwargs_websocket_alice)\n",
    "#kwargs_websocket_bob = {\"host\": \"ip_bob\", \"hook\": hook}\n",
    "#bob = WebsocketClientWorker(id=\"bob\", port=8778, **kwargs_websocket_bob)\n",
    "#workers_virtual = [alice, bob]"
   ]
  },
  {
   "cell_type": "code",
   "execution_count": 15,
   "metadata": {},
   "outputs": [],
   "source": [
    "#array_lines_proper_dimension = our data points(X)\n",
    "#categories_numpy = our labels (Y)\n",
    "langDataset =  LanguageDataset(array_lines_proper_dimension, categories_numpy)\n",
    "\n",
    "#assign the data points and the corresponding categories to workers.\n",
    "federated_train_loader = sy.FederatedDataLoader(\n",
    "            langDataset\n",
    "            .federate(workers_virtual),\n",
    "            batch_size=args.batch_size)  \n"
   ]
  },
  {
   "cell_type": "markdown",
   "metadata": {},
   "source": [
    "## 4 - Training!\n",
    "\n",
    "\n",
    "It's now time to train our Recurrent Neural Network based on the processed data. To do that, we need to define a few more functions"
   ]
  },
  {
   "cell_type": "code",
   "execution_count": 16,
   "metadata": {},
   "outputs": [],
   "source": [
    "def categoryFromOutput(output):\n",
    "    top_n, top_i = output.topk(1)\n",
    "    category_i = top_i[0].item()\n",
    "    return all_categories[category_i], category_i\n",
    "\n",
    "def timeSince(since):\n",
    "    now = time.time()\n",
    "    s = now - since\n",
    "    m = math.floor(s / 60)\n",
    "    s -= m * 60\n",
    "    return '%dm %ds' % (m, s)\n",
    "\n",
    "def fw_bw_pass_model(model_pointers, line_single, category_single):\n",
    "    #get the right initialized model\n",
    "    model_ptr = model_pointers[line_single.location.id]   \n",
    "    line_reshaped = line_single.reshape(max_line_size, 1, len(all_letters))\n",
    "    line_reshaped, category_single = line_reshaped.to(device), category_single.to(device)\n",
    "    #Firstly, initialize hidden layer\n",
    "    hidden_init = model_ptr.initHidden() \n",
    "    #And now zero grad the model (not the other way around)\n",
    "    model_ptr.zero_grad()\n",
    "    hidden_ptr = hidden_init.send(line_single.location)\n",
    "    amount_lines_non_zero = len(torch.nonzero(line_reshaped.copy().get()))\n",
    "    #now need to perform forward passes\n",
    "    for i in range(amount_lines_non_zero): \n",
    "        output, hidden_ptr = model_ptr(line_reshaped[i], hidden_ptr) \n",
    "    criterion = nn.NLLLoss()   \n",
    "    loss = criterion(output, category_single) \n",
    "    loss.backward()\n",
    "    \n",
    "    model_got = model_ptr.get() \n",
    "    \n",
    "    #Perform model weights' updates    \n",
    "    for param in model_got.parameters():\n",
    "        param.data.add_(-args.learning_rate, param.grad.data)\n",
    "        \n",
    "    model_sent = model_got.send(line_single.location.id)\n",
    "    model_pointers[line_single.location.id] = model_sent\n",
    "    \n",
    "    return(model_pointers, loss, output)\n",
    "            \n",
    "  \n",
    "    \n",
    "def train_RNN(n_iters, print_every, plot_every, federate_after_n_batches, list_federated_train_loader):\n",
    "    current_loss = 0\n",
    "    all_losses = []    \n",
    "    \n",
    "    model_pointers = {}\n",
    "    \n",
    "    #Send the model to every single worker just before the training procedure starts\n",
    "    for worker in workers_virtual:\n",
    "        model_copied = model.copy()\n",
    "        model_ptr = model_copied.send(worker) \n",
    "        model_pointers[worker.id] = model_ptr\n",
    "\n",
    "    #extract a random element from the list and perform training on it\n",
    "    for iter in range(1, n_iters + 1):        \n",
    "        #random_index = random.randint(0, len(list_federated_train_loader) - 1)\n",
    "        random_index = randomTrainingIndex()\n",
    "        line_single, category_single = list_federated_train_loader[random_index]\n",
    "        #print(category_single.copy().get())\n",
    "        line_name = names_list[random_index]\n",
    "        model_pointers, loss, output = fw_bw_pass_model(model_pointers, line_single, category_single)\n",
    "        #model_pointers = fed_avg_every_n_iters(model_pointers, iter, args.federate_after_n_batches)\n",
    "        #Update the current loss and scale it by the amount of samples in that dataset\n",
    "        loss_got = loss.get().item() \n",
    "        current_loss += loss_got\n",
    "        \n",
    "        if iter % plot_every == 0:\n",
    "            all_losses.append(current_loss / plot_every)\n",
    "            current_loss = 0\n",
    "             \n",
    "        if(iter % print_every == 0):\n",
    "            output_got = output.get()  #Without copy()\n",
    "            guess, guess_i = categoryFromOutput(output_got)\n",
    "            category = all_categories[category_single.copy().get().item()]\n",
    "            correct = '✓' if guess == category else '✗ (%s)' % category\n",
    "            print('%d %d%% (%s) %.4f %s / %s %s' % (iter, iter / n_iters * 100, timeSince(start), loss_got, line_name, guess, correct))\n",
    "    return(all_losses, model_pointers)"
   ]
  },
  {
   "cell_type": "code",
   "execution_count": 17,
   "metadata": {},
   "outputs": [
    {
     "name": "stdout",
     "output_type": "stream",
     "text": [
      "Generating list of batches for the workers...\n"
     ]
    }
   ],
   "source": [
    "#In order for the defined randomization process to work, we need to wrap the data points and categories into\n",
    "#a list, from that we're going to take a random batch. This may take a few seconds\n",
    "\n",
    "print(\"Generating list of batches for the workers...\")\n",
    "list_federated_train_loader = list(federated_train_loader) "
   ]
  },
  {
   "cell_type": "code",
   "execution_count": 18,
   "metadata": {},
   "outputs": [
    {
     "name": "stdout",
     "output_type": "stream",
     "text": [
      "200 2% (0m 4s) 2.8028 Chambers / Arabic ✗ (English)\n",
      "400 4% (0m 8s) 2.6589 Bohler / German ✓\n",
      "600 6% (0m 13s) 2.8136 Akker / Vietnamese ✗ (Dutch)\n",
      "800 8% (0m 17s) 2.8038 Siew / German ✗ (Chinese)\n",
      "1000 10% (0m 21s) 2.3961 Fini / Italian ✓\n",
      "1200 12% (0m 25s) 2.7228 Rheem / Portuguese ✗ (Korean)\n",
      "1400 14% (0m 29s) 2.5078 Yee / German ✗ (Chinese)\n",
      "1600 16% (0m 33s) 1.6568 Jukovin / Greek ✗ (Russian)\n",
      "1800 18% (0m 37s) 2.2568 Stolarz / Scottish ✗ (Polish)\n",
      "2000 20% (0m 41s) 2.5628 Grabski / English ✗ (Czech)\n",
      "2200 22% (0m 45s) 2.2239 Ocaskova / Portuguese ✗ (Czech)\n",
      "2400 24% (0m 49s) 2.6895 Seo / Portuguese ✗ (Korean)\n",
      "2600 26% (0m 53s) 1.8414 Kouretas / Russian ✗ (Greek)\n",
      "2800 28% (0m 57s) 2.6989 Shamon / Czech ✗ (Arabic)\n",
      "3000 30% (1m 1s) 2.2445 Ortega / Spanish ✓\n",
      "3200 32% (1m 5s) 1.1349 Adamidis / Greek ✓\n",
      "3400 34% (1m 9s) 3.7562 Valov / Portuguese ✗ (Russian)\n",
      "3600 36% (1m 13s) 2.2061 Donnell / Dutch ✗ (Irish)\n",
      "3800 38% (1m 17s) 2.3568 Castellano / Polish ✗ (Spanish)\n",
      "4000 40% (1m 21s) 2.2555 Jelobinsky / Italian ✗ (Russian)\n",
      "4200 42% (1m 26s) 2.6169 Helm / Korean ✗ (English)\n",
      "4400 44% (1m 30s) 1.5586 Banh / Vietnamese ✓\n",
      "4600 46% (1m 34s) 2.6749 Magalhaes / Dutch ✗ (Portuguese)\n",
      "4800 48% (1m 38s) 0.9457 Khu / Chinese ✓\n",
      "5000 50% (1m 42s) 2.4379 Brady / English ✗ (Irish)\n",
      "5200 52% (1m 45s) 2.1599 Marqueringh / French ✗ (Dutch)\n",
      "5400 54% (1m 49s) 2.3970 Donnchadh / French ✗ (Irish)\n",
      "5600 56% (1m 53s) 2.8751 Caron / Scottish ✗ (French)\n",
      "5800 57% (1m 57s) 2.8957 Grant / Vietnamese ✗ (Scottish)\n",
      "6000 60% (2m 1s) 2.7254 Salazar / Polish ✗ (Portuguese)\n",
      "6200 62% (2m 5s) 1.9254 Issa / Korean ✗ (Arabic)\n",
      "6400 64% (2m 9s) 2.3535 Schoonenburg / Polish ✗ (Dutch)\n",
      "6600 66% (2m 13s) 1.4826 Peters / Greek ✗ (German)\n",
      "6800 68% (2m 17s) 1.1307 Ngo / Vietnamese ✓\n",
      "7000 70% (2m 21s) 0.6199 Baumhauer / German ✓\n",
      "7200 72% (2m 25s) 1.2334 Alessandri / Italian ✓\n",
      "7400 74% (2m 29s) 1.7646 O'Gorman / Dutch ✗ (Irish)\n",
      "7600 76% (2m 33s) 2.1734 Vandale / French ✗ (Dutch)\n",
      "7800 78% (2m 37s) 2.1211 Kanak / Arabic ✗ (Czech)\n",
      "8000 80% (2m 41s) 2.4031 Pierre / Portuguese ✗ (French)\n",
      "8200 82% (2m 45s) 0.9801 Kuwabara / Japanese ✓\n",
      "8400 84% (2m 49s) 1.5552 Zubizarreta / Spanish ✓\n",
      "8600 86% (2m 53s) 1.5033 Jmulev / German ✗ (Russian)\n",
      "8800 88% (2m 57s) 2.3862 Quyen / Arabic ✗ (Vietnamese)\n",
      "9000 90% (3m 2s) 2.8548 Ito / Chinese ✗ (Japanese)\n",
      "9200 92% (3m 6s) 0.3674 Guan / Chinese ✓\n",
      "9400 94% (3m 10s) 1.8062 Soares / English ✗ (Portuguese)\n",
      "9600 96% (3m 14s) 1.3105 Neville / Irish ✓\n",
      "9800 98% (3m 18s) 0.8155 Yim / Korean ✓\n",
      "10000 100% (3m 22s) 1.9471 Amari / Arabic ✓\n"
     ]
    }
   ],
   "source": [
    "#And finally,let's launch our training\n",
    "start = time.time()\n",
    "all_losses, model_pointers = train_RNN(args.epochs, args.print_every, args.plot_every, args.federate_after_n_batches, list_federated_train_loader)\n"
   ]
  },
  {
   "cell_type": "code",
   "execution_count": 19,
   "metadata": {},
   "outputs": [
    {
     "data": {
      "text/plain": [
       "[<matplotlib.lines.Line2D at 0x7f3a97b8c860>]"
      ]
     },
     "execution_count": 19,
     "metadata": {},
     "output_type": "execute_result"
    },
    {
     "data": {
      "image/png": "[encoded data removed]",
      "text/plain": [
       "<Figure size 432x288 with 1 Axes>"
      ]
     },
     "metadata": {
      "needs_background": "light"
     },
     "output_type": "display_data"
    }
   ],
   "source": [
    "#Let's plot the loss we got during the training procedure\n",
    "plt.figure()\n",
    "plt.ylabel(\"Loss\")\n",
    "plt.xlabel('Epochs (100s)')\n",
    "plt.plot(all_losses)"
   ]
  },
  {
   "cell_type": "markdown",
   "metadata": {},
   "source": [
    "## 5 - Predict\n",
    "Great! We have successfully created our two models for bob and alice in parallel using federated learning! I experimented with federated averaging, but it turned out that for a batch size of 1, as in the present case, the model was diverging. Let's try using our models for prediction now, shall we? The final reward for our effort!"
   ]
  },
  {
   "cell_type": "code",
   "execution_count": 20,
   "metadata": {},
   "outputs": [],
   "source": [
    "def predict(model, input_line, worker, n_predictions=3):\n",
    "    model = model.copy().get()\n",
    "    print('\\n> %s' % input_line)\n",
    "    with torch.no_grad():\n",
    "        model_remote = model.send(worker)\n",
    "        line_tensor = lineToTensor(input_line)\n",
    "        line_remote = line_tensor.copy().send(worker)\n",
    "        #line_tensor = lineToTensor(input_line)\n",
    "        #output = evaluate(model, line_remote)\n",
    "        # Get top N categories\n",
    "        hidden = model_remote.initHidden()\n",
    "        hidden_remote = hidden.copy().send(worker)\n",
    "\n",
    "        for i in range(line_remote.shape[0]):\n",
    "            output, hidden_remote = model_remote(line_remote[i], hidden_remote)\n",
    "        \n",
    "        topv, topi = output.copy().get().topk(n_predictions, 1, True)\n",
    "        predictions = []\n",
    "\n",
    "        for i in range(n_predictions):\n",
    "            value = topv[0][i].item()\n",
    "            category_index = topi[0][i].item()\n",
    "            print('(%.2f) %s' % (value, all_categories[category_index]))\n",
    "            predictions.append([value, all_categories[category_index]])\n",
    "\n"
   ]
  },
  {
   "cell_type": "code",
   "execution_count": 24,
   "metadata": {},
   "outputs": [
    {
     "name": "stdout",
     "output_type": "stream",
     "text": [
      "\n",
      "> Xin\n",
      "(-0.27) Chinese\n",
      "(-2.59) German\n",
      "(-3.29) Japanese\n",
      "\n",
      "> Xin\n",
      "(-0.81) Korean\n",
      "(-1.41) Vietnamese\n",
      "(-3.22) Scottish\n",
      "\n",
      "> Daniele\n",
      "(-1.35) Italian\n",
      "(-1.44) German\n",
      "(-1.60) Japanese\n",
      "\n",
      "> Daniele\n",
      "(-1.58) French\n",
      "(-2.11) Czech\n",
      "(-2.18) Portuguese\n"
     ]
    }
   ],
   "source": [
    "#Notice how the different models learned may perform different predictions, based on the data that\n",
    "#was shown to them.\n",
    "predict(model_pointers[\"alice\"], \"Qing\", alice) \n",
    "predict(model_pointers[\"bob\"], \"Qing\", bob) \n",
    "\n",
    "predict(model_pointers[\"alice\"], \"Daniele\", alice) \n",
    "predict(model_pointers[\"bob\"], \"Daniele\", bob) \n"
   ]
  },
  {
   "cell_type": "code",
   "execution_count": null,
   "metadata": {},
   "outputs": [],
   "source": []
  }
 ],
 "metadata": {
  "kernelspec": {
   "display_name": "Python 3",
   "language": "python",
   "name": "python3"
  },
  "language_info": {
   "codemirror_mode": {
    "name": "ipython",
    "version": 3
   },
   "file_extension": ".py",
   "mimetype": "text/x-python",
   "name": "python",
   "nbconvert_exporter": "python",
   "pygments_lexer": "ipython3",
   "version": "3.6.7"
  }
 },
 "nbformat": 4,
 "nbformat_minor": 2
}
