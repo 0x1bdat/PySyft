{
 "cells": [
  {
   "cell_type": "markdown",
   "metadata": {},
   "source": [
    "<h1>Federated Datasets</h1>"
   ]
  },
  {
   "cell_type": "markdown",
   "metadata": {},
   "source": [
    "This example demonstrates how you can develop your custom datasets that work with federated data loaders.Unfortunately the regular torch datasets do not always work directly with federated data loaders. This example demonstrates how to develop a custom dataset that works with federated data loaders highlighting the differences. Further, you could also use Syft's Base dataset feature which simplifies creating federated datasets.To demonstrate these we will show you how to load the SVHN (Street View House Numbers) dataset and convert it to a federated dataset.\n",
    "\n",
    "SHVN Dataset: <a href=\"http://ufldl.stanford.edu/housenumbers/\">Link</a>\n",
    "\n",
    "Authored By:\n",
    "\n",
    "Hrishikesh Kamath - GitHub: @<a href=\"http://github.com/kamathhrishi\">kamathhrishi</a>"
   ]
  },
  {
   "cell_type": "code",
   "execution_count": 1,
   "metadata": {
    "collapsed": true
   },
   "outputs": [],
   "source": [
    "from torch.utils.data import Dataset\n",
    "import syft as sy  \n",
    "import torch"
   ]
  },
  {
   "cell_type": "markdown",
   "metadata": {},
   "source": [
    "Define the workers you would want to distribute the data to."
   ]
  },
  {
   "cell_type": "code",
   "execution_count": 2,
   "metadata": {
    "collapsed": true
   },
   "outputs": [],
   "source": [
    "hook = sy.TorchHook(torch)  # <-- NEW: hook PyTorch ie add extra functionalities to support Federated Learning\n",
    "bob = sy.VirtualWorker(hook, id=\"bob\")  # <-- NEW: define remote worker bob\n",
    "alice = sy.VirtualWorker(hook, id=\"alice\")  # <-- NEW: and alice"
   ]
  },
  {
   "cell_type": "markdown",
   "metadata": {},
   "source": [
    "The hyperparameters initialized while training the model. For , this tutorial we only need the batch size. In general practice creating a seperate class with hyperparameters or a dictionary is a good practice. "
   ]
  },
  {
   "cell_type": "code",
   "execution_count": 3,
   "metadata": {
    "collapsed": true
   },
   "outputs": [],
   "source": [
    "class Arguments():\n",
    "    def __init__(self):\n",
    "        self.batch_size = 1\n",
    "        self.test_batch_size = 1000\n",
    "        self.seed = 1"
   ]
  },
  {
   "cell_type": "code",
   "execution_count": 4,
   "metadata": {
    "collapsed": true
   },
   "outputs": [],
   "source": [
    "args=Arguments()"
   ]
  },
  {
   "cell_type": "markdown",
   "metadata": {},
   "source": [
    "<h2>Load Data</h2>"
   ]
  },
  {
   "cell_type": "markdown",
   "metadata": {},
   "source": [
    "Download data required for this tutorial from the following sources:-\n",
    "\n",
    "<ul>\n",
    "\n",
    "<li><a href=\"http://ufldl.stanford.edu/housenumbers/train_32x32.mat\">Train Data</li>\n",
    "<li><a href=\"http://ufldl.stanford.edu/housenumbers/test_32x32.mat\">Test Data</li>\n",
    "\n",
    "\n",
    "</ul>\n",
    "\n",
    "The dataset is in MATLAB format \n",
    "\n",
    "This section loads and pre-processes the SHVN dataset and does not have much to do with creating a federated dataset.You can skip the section. "
   ]
  },
  {
   "cell_type": "code",
   "execution_count": 7,
   "metadata": {
    "collapsed": true
   },
   "outputs": [],
   "source": [
    "from scipy.io import loadmat\n",
    "import matplotlib.pyplot as plt\n",
    "\n",
    "def load_data(path):\n",
    "    \"\"\" Helper function for loading a MAT-File\"\"\"\n",
    "    data = loadmat(path)\n",
    "    return data['X'], data['y']"
   ]
  },
  {
   "cell_type": "code",
   "execution_count": 8,
   "metadata": {},
   "outputs": [],
   "source": [
    "train_data,train_labels=load_data(\"data/train_32x32.mat\")\n",
    "test_data,test_labels=load_data(\"data/test_32x32.mat\")"
   ]
  },
  {
   "cell_type": "code",
   "execution_count": 9,
   "metadata": {},
   "outputs": [
    {
     "name": "stdout",
     "output_type": "stream",
     "text": [
      "(32, 32, 3, 73257)\n",
      "(32, 32, 3, 26032)\n"
     ]
    }
   ],
   "source": [
    "print(train_data.shape)\n",
    "print(test_data.shape)"
   ]
  },
  {
   "cell_type": "markdown",
   "metadata": {},
   "source": [
    "Notice the above Numpy array dimensions are not in appropriate dimensions required for an image. For which we will transpose it to regular image dimensions. "
   ]
  },
  {
   "cell_type": "code",
   "execution_count": 10,
   "metadata": {
    "collapsed": true
   },
   "outputs": [],
   "source": [
    "# Transpose the image arrays\n",
    "X_train, y_train = train_data.transpose((3,0,1,2)), train_labels[:,0]\n",
    "X_test, y_test = test_data.transpose((3,0,1,2)), test_labels[:,0]"
   ]
  },
  {
   "cell_type": "markdown",
   "metadata": {},
   "source": [
    "<h2>Visualize Data</h2>"
   ]
  },
  {
   "cell_type": "code",
   "execution_count": 11,
   "metadata": {},
   "outputs": [
    {
     "name": "stdout",
     "output_type": "stream",
     "text": [
      "(73257, 32, 32, 3)\n",
      "9\n"
     ]
    },
    {
     "data": {
      "image/png": "[encoded data removed]",
      "text/plain": [
       "<Figure size 432x288 with 1 Axes>"
      ]
     },
     "metadata": {},
     "output_type": "display_data"
    }
   ],
   "source": [
    "print(X_train.shape)\n",
    "print(y_train[1])\n",
    "plt.imshow(X_train[1])\n",
    "plt.show()"
   ]
  },
  {
   "cell_type": "markdown",
   "metadata": {},
   "source": [
    "<h2>Torch Dataset</h2>"
   ]
  },
  {
   "cell_type": "markdown",
   "metadata": {},
   "source": [
    "SVHN dataset is in numpy array , the data could be in Python Array or any other datatype that could converted to torch tensors.      "
   ]
  },
  {
   "cell_type": "code",
   "execution_count": 12,
   "metadata": {
    "collapsed": true
   },
   "outputs": [],
   "source": [
    "class SVHNDataset(Dataset):\n",
    "\n",
    "    def __init__(self,images,labels,transform=None):\n",
    "        \n",
    "        \"\"\"Args:\n",
    "             \n",
    "             images (Numpy Array): Text corpus \n",
    "             Labels (Numpy Array): Labels corresponding to each image \n",
    "             transform (Optional): If any torch transform has to be performed on the dataset\n",
    "             \n",
    "        \"\"\"\n",
    "        \n",
    "        \"Attributes self.data and self.targets must be initialized\"\n",
    "        \n",
    "        #<--Data must be initialized as self.data,self.train_data or self.test_data\n",
    "        self.data=images\n",
    "        #<--Targets must be initialized as self.targets,self.test_labels or self.train_labels\n",
    "        self.targets=labels\n",
    "        \n",
    "        #<--The data and target must be converted to torch tensors before it is returned by __getitem__ method\n",
    "        self.to_torchtensor()\n",
    "        \n",
    "        #<--If any transforms have to be performed on the dataset\n",
    "        self.transform = transform\n",
    "        \n",
    "        \n",
    "    def to_torchtensor(self):\n",
    "        \n",
    "        \"Transform Numpy Arrays to Torch tensors\"\n",
    "        \n",
    "        self.data=torch.from_numpy(self.data)\n",
    "        self.labels=torch.from_numpy(self.targets)\n",
    "    \n",
    "        \n",
    "    def __len__(self):\n",
    "        \n",
    "        \"\"\"Required Method\n",
    "            \n",
    "           Returns:\n",
    "        \n",
    "                Length [int]: Length of Dataset/batches\n",
    "        \n",
    "        \"\"\"\n",
    "        \n",
    "        return len(self.data)\n",
    "    \n",
    "\n",
    "    def __getitem__(self, idx):\n",
    "        \n",
    "        \"\"\"Required Method\n",
    "        \n",
    "           The output of this method must be torch tensors since torch tensors are overloaded \n",
    "           with share() method which is used to share data to workers.\n",
    "        \n",
    "           Args:\n",
    "                 \n",
    "                 idx [integer]: The index of required batch/example\n",
    "                 \n",
    "           Returns:\n",
    "                 \n",
    "                 Data [Torch Tensor]:     The training examples\n",
    "                 Target [ Torch Tensor]:  Corresponding labels of training examples \n",
    "        \n",
    "        \"\"\"\n",
    "        \n",
    "        sample=self.data[idx]\n",
    "        target=self.targets[idx]\n",
    "                \n",
    "        if self.transform:\n",
    "            sample = self.transform(sample)\n",
    "\n",
    "        return sample,target"
   ]
  },
  {
   "cell_type": "markdown",
   "metadata": {},
   "source": [
    "Call the federate method with the workers as arguments on the torch dataset instance and provide it as an argument to the federated data loader. This distributes the dataset to the required workers and returns their corresponding pointer tensors. The federated train loader can now be used to load the pointer tensors of corresponding examples and labels iteratively like regular torch data loader. "
   ]
  },
  {
   "cell_type": "code",
   "execution_count": 13,
   "metadata": {
    "collapsed": true
   },
   "outputs": [],
   "source": [
    "federated_train_loader = sy.FederatedDataLoader( # <-- this is now a FederatedDataLoader \n",
    "                         SVHNDataset(X_train,y_train)\n",
    "                         .federate((bob, alice)),batch_size=args.batch_size)"
   ]
  },
  {
   "cell_type": "markdown",
   "metadata": {},
   "source": [
    "<h2>Syft Base Datasets</h2>"
   ]
  },
  {
   "cell_type": "markdown",
   "metadata": {},
   "source": [
    "Syft Base Dataset is a simplified dataset feature of Syft Library that allows you create datasets by simply providing training data and corresponding labels. This could also be utilized in federated data loaders. Ensure the inputs to BaseDataset are torch tensors. "
   ]
  },
  {
   "cell_type": "code",
   "execution_count": 17,
   "metadata": {},
   "outputs": [
    {
     "data": {
      "text/plain": [
       "<syft.frameworks.torch.federated.dataset.BaseDataset at 0x181bc227f0>"
      ]
     },
     "execution_count": 17,
     "metadata": {},
     "output_type": "execute_result"
    }
   ],
   "source": [
    "base=sy.BaseDataset(torch.from_numpy(X_train),torch.from_numpy(y_train))\n",
    "base.fix_prec()"
   ]
  },
  {
   "cell_type": "code",
   "execution_count": 18,
   "metadata": {},
   "outputs": [
    {
     "ename": "TypeError",
     "evalue": "Cannot serialize FixedPrecisionTensor>tensor([[[[232,  48, 112],\n          [152, 216,  56],\n          [152, 104,  56],\n          ...,\n          [ 64, 232, 192],\n          [ 80, 200, 168],\n          [168, 152, 120]],\n\n         [[ 96,  88, 184],\n          [176, 168, 240],\n          [176,  32, 104],\n          ...,\n          [ 64,  88,  80],\n          [184, 144,  32],\n          [ 56, 176,  96]],\n\n         [[ 64,  40, 112],\n          [ 80,   8, 144],\n          [128, 104, 216],\n          ...,\n          [216,  72, 200],\n          [184,  16, 224],\n          [ 64, 136,   8]],\n\n         ...,\n\n         [[240, 104, 248],\n          [216,  80,  88],\n          [ 80, 152, 232],\n          ...,\n          [ 64,  64, 216],\n          [ 64,  40, 104],\n          [ 88,  40, 176]],\n\n         [[ 32, 240,   0],\n          [240, 152,  64],\n          [ 80, 224,  64],\n          ...,\n          [176,  88,  32],\n          [ 16,  40,   8],\n          [ 16,  64, 240]],\n\n         [[  8, 192, 160],\n          [168,  80,  64],\n          [  8, 152, 184],\n          ...,\n          [152,  64, 216],\n          [200,  40, 240],\n          [ 88,  16, 152]]],\n\n\n        [[[ 32, 224, 120],\n          [240,  40, 208],\n          [200, 176, 192],\n          ...,\n          [144, 176, 136],\n          [192, 200, 184],\n          [192, 176, 208]],\n\n         [[  8, 200,  72],\n          [ 56,  40,   0],\n          [ 16, 136, 120],\n          ...,\n          [168,  80,   0],\n          [192, 152, 112],\n          [192, 104, 184]],\n\n         [[ 56, 224,  96],\n          [176, 200, 144],\n          [ 72,  80, 240],\n          ...,\n          [144,   8,  24],\n          [192,  56, 208],\n          [  8,  80, 112]],\n\n         ...,\n\n         [[160, 208,  64],\n          [208,  48, 224],\n          [ 24,  72,  40],\n          ...,\n          [ 64,  64, 240],\n          [112, 112, 216],\n          [160, 136, 176]],\n\n         [[ 88,  64, 152],\n          [ 16,  64, 152],\n          [ 88,  88, 216],\n          ...,\n          [ 88,  64, 240],\n          [ 88,  88, 216],\n          [ 40, 184, 104]],\n\n         [[ 88,  16,  80],\n          [ 88,  40, 216],\n          [ 64,  16, 120],\n          ...,\n          [104,  88, 192],\n          [ 64,  64, 192],\n          [ 88, 208, 128]]],\n\n\n        [[[ 56, 240, 176],\n          [ 32,  32, 152],\n          [168, 168,  32],\n          ...,\n          [232, 128,  24],\n          [176,  32, 144],\n          [208,  48,  96]],\n\n         [[  8,   8, 176],\n          [ 56,  32,  16],\n          [168, 192, 152],\n          ...,\n          [ 24,  40, 128],\n          [120, 168, 240],\n          [208,  32, 136]],\n\n         [[  8,   8, 176],\n          [ 32,  56,  16],\n          [240,  32,  16],\n          ...,\n          [152,  56,  80],\n          [ 72,   8, 112],\n          [ 80, 144,  48]],\n\n         ...,\n\n         [[192, 208, 200],\n          [168, 184, 176],\n          [ 32,  96, 112],\n          ...,\n          [ 48, 176, 184],\n          [184, 128, 208],\n          [ 16, 104, 232]],\n\n         [[192, 160, 128],\n          [216,   0, 200],\n          [192,  24, 200],\n          ...,\n          [ 96, 200, 112],\n          [ 72, 200, 160],\n          [232, 152, 208]],\n\n         [[ 32,   0, 176],\n          [104, 144,  40],\n          [216,  48, 176],\n          ...,\n          [ 24, 128, 248],\n          [ 48, 152,  64],\n          [ 24, 104,  88]]],\n\n\n        ...,\n\n\n        [[[ 96, 184, 200],\n          [ 72, 160, 176],\n          [ 72, 160, 128],\n          ...,\n          [  0, 152,  72],\n          [ 72, 224, 192],\n          [144,  40,   8]],\n\n         [[ 96, 112, 104],\n          [ 72, 112,  32],\n          [ 72, 112,  32],\n          ...,\n          [ 48, 200, 120],\n          [ 72, 224, 144],\n          [144, 248, 168]],\n\n         [[ 48,  88,   8],\n          [ 48,  88, 216],\n          [ 24,  64, 192],\n          ...,\n          [ 96, 248, 120],\n          [ 48, 200,  48],\n          [ 48, 176,  48]],\n\n         ...,\n\n         [[216, 136, 168],\n          [192, 112,  96],\n          [192, 112,  96],\n          ...,\n          [ 48, 104,  24],\n          [216, 248, 144],\n          [248,  24, 176]],\n\n         [[216, 136, 168],\n          [192, 112,  96],\n          [216, 112,  96],\n          ...,\n          [ 72, 128,  72],\n          [ 24,  80,  24],\n          [ 72, 128,  24]],\n\n         [[192, 112, 144],\n          [192, 112,  96],\n          [216, 112,  72],\n          ...,\n          [168,  40, 168],\n          [ 72, 200,  72],\n          [ 48, 104,   0]]],\n\n\n        [[[ 48, 248,  96],\n          [ 48, 248,  96],\n          [ 24,  40, 120],\n          ...,\n          [152,  24,  80],\n          [ 16,  96, 152],\n          [248, 144, 128]],\n\n         [[ 72,  16, 120],\n          [ 72,  16, 120],\n          [120,  40, 144],\n          ...,\n          [208,  32,  40],\n          [ 48, 128, 136],\n          [ 96, 176, 184]],\n\n         [[  8, 184,   8],\n          [240, 160, 240],\n          [216, 112, 192],\n          ...,\n          [248,  48,   8],\n          [ 48, 104,  64],\n          [120, 176, 136]],\n\n         ...,\n\n         [[232, 192,  88],\n          [ 16,  24, 200],\n          [240, 248, 144],\n          ...,\n          [144,  88,   0],\n          [176, 120,  32],\n          [ 72,  16, 184]],\n\n         [[160, 144,  64],\n          [ 40,  96, 248],\n          [176, 232, 152],\n          ...,\n          [144,  40,  24],\n          [136,  32,  16],\n          [128,  48,   8]],\n\n         [[104, 160,  56],\n          [ 80, 136,  32],\n          [  8,  64, 240],\n          ...,\n          [ 32, 184, 192],\n          [240, 112, 120],\n          [144,  40,  24]]],\n\n\n        [[[240, 184,  80],\n          [144,  88, 240],\n          [216, 160,  56],\n          ...,\n          [232, 208, 128],\n          [ 24,   0, 176],\n          [ 72,  48, 224]],\n\n         [[216, 136,  32],\n          [120,  64, 144],\n          [120,  40, 144],\n          ...,\n          [232, 208, 128],\n          [  0, 232, 152],\n          [ 48,  24, 200]],\n\n         [[120,  16, 144],\n          [ 24, 200,  24],\n          [232, 128, 208],\n          ...,\n          [208, 208,  56],\n          [232, 232,  80],\n          [ 24,  24, 128]],\n\n         ...,\n\n         [[ 64, 120,  56],\n          [184, 240, 152],\n          [248,  72, 240],\n          ...,\n          [  8,  48, 128],\n          [  8,  48, 128],\n          [ 32,  72, 200]],\n\n         [[ 88, 144, 104],\n          [ 80, 136,  96],\n          [ 16,  96,  56],\n          ...,\n          [216,   0,  80],\n          [216,   0,  80],\n          [216,   0, 128]],\n\n         [[ 72, 104, 184],\n          [ 16,  48,  80],\n          [  0,  32,  64],\n          ...,\n          [192, 232,  56],\n          [192, 232,  56],\n          [192, 232,  56]]]])",
     "output_type": "error",
     "traceback": [
      "\u001b[0;31m---------------------------------------------------------------------------\u001b[0m",
      "\u001b[0;31mTypeError\u001b[0m                                 Traceback (most recent call last)",
      "\u001b[0;32m<ipython-input-18-bd5e83202748>\u001b[0m in \u001b[0;36m<module>\u001b[0;34m()\u001b[0m\n\u001b[0;32m----> 1\u001b[0;31m \u001b[0mbase_federated\u001b[0m\u001b[0;34m=\u001b[0m\u001b[0mbase\u001b[0m\u001b[0;34m.\u001b[0m\u001b[0mfederate\u001b[0m\u001b[0;34m(\u001b[0m\u001b[0;34m(\u001b[0m\u001b[0mbob\u001b[0m\u001b[0;34m,\u001b[0m \u001b[0malice\u001b[0m\u001b[0;34m)\u001b[0m\u001b[0;34m)\u001b[0m\u001b[0;34m\u001b[0m\u001b[0m\n\u001b[0m",
      "\u001b[0;32m~/anaconda3/envs/syft_1/lib/python3.6/site-packages/syft-0.1.12a1-py3.6.egg/syft/frameworks/torch/federated/dataset.py\u001b[0m in \u001b[0;36mdataset_federate\u001b[0;34m(dataset, workers)\u001b[0m\n\u001b[1;32m     92\u001b[0m         \u001b[0mworker\u001b[0m \u001b[0;34m=\u001b[0m \u001b[0mworkers\u001b[0m\u001b[0;34m[\u001b[0m\u001b[0mdataset_idx\u001b[0m \u001b[0;34m%\u001b[0m \u001b[0mlen\u001b[0m\u001b[0;34m(\u001b[0m\u001b[0mworkers\u001b[0m\u001b[0;34m)\u001b[0m\u001b[0;34m]\u001b[0m\u001b[0;34m\u001b[0m\u001b[0m\n\u001b[1;32m     93\u001b[0m         \u001b[0mlogger\u001b[0m\u001b[0;34m.\u001b[0m\u001b[0mdebug\u001b[0m\u001b[0;34m(\u001b[0m\u001b[0;34m\"Sending data to worker %s\"\u001b[0m\u001b[0;34m,\u001b[0m \u001b[0mworker\u001b[0m\u001b[0;34m.\u001b[0m\u001b[0mid\u001b[0m\u001b[0;34m)\u001b[0m\u001b[0;34m\u001b[0m\u001b[0m\n\u001b[0;32m---> 94\u001b[0;31m         \u001b[0mdata\u001b[0m \u001b[0;34m=\u001b[0m \u001b[0mdata\u001b[0m\u001b[0;34m.\u001b[0m\u001b[0msend\u001b[0m\u001b[0;34m(\u001b[0m\u001b[0mworker\u001b[0m\u001b[0;34m)\u001b[0m\u001b[0;34m\u001b[0m\u001b[0m\n\u001b[0m\u001b[1;32m     95\u001b[0m         \u001b[0mtargets\u001b[0m \u001b[0;34m=\u001b[0m \u001b[0mtargets\u001b[0m\u001b[0;34m.\u001b[0m\u001b[0msend\u001b[0m\u001b[0;34m(\u001b[0m\u001b[0mworker\u001b[0m\u001b[0;34m)\u001b[0m\u001b[0;34m\u001b[0m\u001b[0m\n\u001b[1;32m     96\u001b[0m         \u001b[0mdatasets\u001b[0m\u001b[0;34m.\u001b[0m\u001b[0mappend\u001b[0m\u001b[0;34m(\u001b[0m\u001b[0mBaseDataset\u001b[0m\u001b[0;34m(\u001b[0m\u001b[0mdata\u001b[0m\u001b[0;34m,\u001b[0m \u001b[0mtargets\u001b[0m\u001b[0;34m)\u001b[0m\u001b[0;34m)\u001b[0m  \u001b[0;31m# .send(worker)\u001b[0m\u001b[0;34m\u001b[0m\u001b[0m\n",
      "\u001b[0;32m~/anaconda3/envs/syft_1/lib/python3.6/site-packages/syft-0.1.12a1-py3.6.egg/syft/frameworks/torch/tensors/interpreters/native.py\u001b[0m in \u001b[0;36msend\u001b[0;34m(self, inplace, *location)\u001b[0m\n\u001b[1;32m    259\u001b[0m                     \u001b[0mself\u001b[0m\u001b[0;34m.\u001b[0m\u001b[0mdata\u001b[0m\u001b[0;34m.\u001b[0m\u001b[0mchild\u001b[0m\u001b[0;34m.\u001b[0m\u001b[0mgarbage_collect_data\u001b[0m \u001b[0;34m=\u001b[0m \u001b[0;32mFalse\u001b[0m\u001b[0;34m\u001b[0m\u001b[0m\n\u001b[1;32m    260\u001b[0m \u001b[0;34m\u001b[0m\u001b[0m\n\u001b[0;32m--> 261\u001b[0;31m             \u001b[0mptr\u001b[0m \u001b[0;34m=\u001b[0m \u001b[0mself\u001b[0m\u001b[0;34m.\u001b[0m\u001b[0mowner\u001b[0m\u001b[0;34m.\u001b[0m\u001b[0msend\u001b[0m\u001b[0;34m(\u001b[0m\u001b[0mself\u001b[0m\u001b[0;34m,\u001b[0m \u001b[0mlocation\u001b[0m\u001b[0;34m)\u001b[0m\u001b[0;34m\u001b[0m\u001b[0m\n\u001b[0m\u001b[1;32m    262\u001b[0m \u001b[0;34m\u001b[0m\u001b[0m\n\u001b[1;32m    263\u001b[0m             \u001b[0mptr\u001b[0m\u001b[0;34m.\u001b[0m\u001b[0mdescription\u001b[0m \u001b[0;34m=\u001b[0m \u001b[0mself\u001b[0m\u001b[0;34m.\u001b[0m\u001b[0mdescription\u001b[0m\u001b[0;34m\u001b[0m\u001b[0m\n",
      "\u001b[0;32m~/anaconda3/envs/syft_1/lib/python3.6/site-packages/syft-0.1.12a1-py3.6.egg/syft/workers/base.py\u001b[0m in \u001b[0;36msend\u001b[0;34m(self, obj, workers, ptr_id)\u001b[0m\n\u001b[1;32m    300\u001b[0m             \u001b[0mpointer\u001b[0m \u001b[0;34m=\u001b[0m \u001b[0mobj\u001b[0m\u001b[0;34m\u001b[0m\u001b[0m\n\u001b[1;32m    301\u001b[0m         \u001b[0;31m# Send the object\u001b[0m\u001b[0;34m\u001b[0m\u001b[0;34m\u001b[0m\u001b[0m\n\u001b[0;32m--> 302\u001b[0;31m         \u001b[0mself\u001b[0m\u001b[0;34m.\u001b[0m\u001b[0msend_obj\u001b[0m\u001b[0;34m(\u001b[0m\u001b[0mobj\u001b[0m\u001b[0;34m,\u001b[0m \u001b[0mworker\u001b[0m\u001b[0;34m)\u001b[0m\u001b[0;34m\u001b[0m\u001b[0m\n\u001b[0m\u001b[1;32m    303\u001b[0m         \u001b[0;32mreturn\u001b[0m \u001b[0mpointer\u001b[0m\u001b[0;34m\u001b[0m\u001b[0m\n\u001b[1;32m    304\u001b[0m \u001b[0;34m\u001b[0m\u001b[0m\n",
      "\u001b[0;32m~/anaconda3/envs/syft_1/lib/python3.6/site-packages/syft-0.1.12a1-py3.6.egg/syft/workers/base.py\u001b[0m in \u001b[0;36msend_obj\u001b[0;34m(self, obj, location)\u001b[0m\n\u001b[1;32m    521\u001b[0m                 \u001b[0mreceive\u001b[0m \u001b[0mthe\u001b[0m \u001b[0mobject\u001b[0m\u001b[0;34m.\u001b[0m\u001b[0;34m\u001b[0m\u001b[0m\n\u001b[1;32m    522\u001b[0m         \"\"\"\n\u001b[0;32m--> 523\u001b[0;31m         \u001b[0;32mreturn\u001b[0m \u001b[0mself\u001b[0m\u001b[0;34m.\u001b[0m\u001b[0msend_msg\u001b[0m\u001b[0;34m(\u001b[0m\u001b[0mMSGTYPE\u001b[0m\u001b[0;34m.\u001b[0m\u001b[0mOBJ\u001b[0m\u001b[0;34m,\u001b[0m \u001b[0mobj\u001b[0m\u001b[0;34m,\u001b[0m \u001b[0mlocation\u001b[0m\u001b[0;34m)\u001b[0m\u001b[0;34m\u001b[0m\u001b[0m\n\u001b[0m\u001b[1;32m    524\u001b[0m \u001b[0;34m\u001b[0m\u001b[0m\n\u001b[1;32m    525\u001b[0m     \u001b[0;32mdef\u001b[0m \u001b[0mrequest_obj\u001b[0m\u001b[0;34m(\u001b[0m\u001b[0mself\u001b[0m\u001b[0;34m,\u001b[0m \u001b[0mobj_id\u001b[0m\u001b[0;34m:\u001b[0m \u001b[0mUnion\u001b[0m\u001b[0;34m[\u001b[0m\u001b[0mstr\u001b[0m\u001b[0;34m,\u001b[0m \u001b[0mint\u001b[0m\u001b[0;34m]\u001b[0m\u001b[0;34m,\u001b[0m \u001b[0mlocation\u001b[0m\u001b[0;34m:\u001b[0m \u001b[0;34m\"BaseWorker\"\u001b[0m\u001b[0;34m)\u001b[0m \u001b[0;34m->\u001b[0m \u001b[0mobject\u001b[0m\u001b[0;34m:\u001b[0m\u001b[0;34m\u001b[0m\u001b[0m\n",
      "\u001b[0;32m~/anaconda3/envs/syft_1/lib/python3.6/site-packages/syft-0.1.12a1-py3.6.egg/syft/workers/base.py\u001b[0m in \u001b[0;36msend_msg\u001b[0;34m(self, msg_type, message, location)\u001b[0m\n\u001b[1;32m    196\u001b[0m \u001b[0;34m\u001b[0m\u001b[0m\n\u001b[1;32m    197\u001b[0m         \u001b[0;31m# Step 1: serialize the message to simple python objects\u001b[0m\u001b[0;34m\u001b[0m\u001b[0;34m\u001b[0m\u001b[0m\n\u001b[0;32m--> 198\u001b[0;31m         \u001b[0mbin_message\u001b[0m \u001b[0;34m=\u001b[0m \u001b[0msy\u001b[0m\u001b[0;34m.\u001b[0m\u001b[0mserde\u001b[0m\u001b[0;34m.\u001b[0m\u001b[0mserialize\u001b[0m\u001b[0;34m(\u001b[0m\u001b[0mmessage\u001b[0m\u001b[0;34m)\u001b[0m\u001b[0;34m\u001b[0m\u001b[0m\n\u001b[0m\u001b[1;32m    199\u001b[0m \u001b[0;34m\u001b[0m\u001b[0m\n\u001b[1;32m    200\u001b[0m         \u001b[0;31m# Step 2: send the message and wait for a response\u001b[0m\u001b[0;34m\u001b[0m\u001b[0;34m\u001b[0m\u001b[0m\n",
      "\u001b[0;32m~/anaconda3/envs/syft_1/lib/python3.6/site-packages/syft-0.1.12a1-py3.6.egg/syft/serde.py\u001b[0m in \u001b[0;36mserialize\u001b[0;34m(obj, simplified)\u001b[0m\n\u001b[1;32m     98\u001b[0m     \u001b[0;31m# 2) Serialize\u001b[0m\u001b[0;34m\u001b[0m\u001b[0;34m\u001b[0m\u001b[0m\n\u001b[1;32m     99\u001b[0m     \u001b[0;31m# serialize into a binary\u001b[0m\u001b[0;34m\u001b[0m\u001b[0;34m\u001b[0m\u001b[0m\n\u001b[0;32m--> 100\u001b[0;31m     \u001b[0mbinary\u001b[0m \u001b[0;34m=\u001b[0m \u001b[0mmsgpack\u001b[0m\u001b[0;34m.\u001b[0m\u001b[0mdumps\u001b[0m\u001b[0;34m(\u001b[0m\u001b[0msimple_objects\u001b[0m\u001b[0;34m)\u001b[0m\u001b[0;34m\u001b[0m\u001b[0m\n\u001b[0m\u001b[1;32m    101\u001b[0m \u001b[0;34m\u001b[0m\u001b[0m\n\u001b[1;32m    102\u001b[0m     \u001b[0;31m# 3) Compress\u001b[0m\u001b[0;34m\u001b[0m\u001b[0;34m\u001b[0m\u001b[0m\n",
      "\u001b[0;32m~/anaconda3/envs/syft_1/lib/python3.6/site-packages/msgpack/__init__.py\u001b[0m in \u001b[0;36mpackb\u001b[0;34m(o, **kwargs)\u001b[0m\n\u001b[1;32m     44\u001b[0m     \u001b[0mSee\u001b[0m \u001b[0;34m:\u001b[0m\u001b[0;32mclass\u001b[0m\u001b[0;34m:\u001b[0m\u001b[0;31m`\u001b[0m\u001b[0mPacker\u001b[0m\u001b[0;31m`\u001b[0m \u001b[0;32mfor\u001b[0m \u001b[0moptions\u001b[0m\u001b[0;34m.\u001b[0m\u001b[0;34m\u001b[0m\u001b[0m\n\u001b[1;32m     45\u001b[0m     \"\"\"\n\u001b[0;32m---> 46\u001b[0;31m     \u001b[0;32mreturn\u001b[0m \u001b[0mPacker\u001b[0m\u001b[0;34m(\u001b[0m\u001b[0;34m**\u001b[0m\u001b[0mkwargs\u001b[0m\u001b[0;34m)\u001b[0m\u001b[0;34m.\u001b[0m\u001b[0mpack\u001b[0m\u001b[0;34m(\u001b[0m\u001b[0mo\u001b[0m\u001b[0;34m)\u001b[0m\u001b[0;34m\u001b[0m\u001b[0m\n\u001b[0m\u001b[1;32m     47\u001b[0m \u001b[0;34m\u001b[0m\u001b[0m\n\u001b[1;32m     48\u001b[0m \u001b[0;34m\u001b[0m\u001b[0m\n",
      "\u001b[0;32m~/anaconda3/envs/syft_1/lib/python3.6/site-packages/msgpack/fallback.py\u001b[0m in \u001b[0;36mpack\u001b[0;34m(self, obj)\u001b[0m\n\u001b[1;32m    898\u001b[0m     \u001b[0;32mdef\u001b[0m \u001b[0mpack\u001b[0m\u001b[0;34m(\u001b[0m\u001b[0mself\u001b[0m\u001b[0;34m,\u001b[0m \u001b[0mobj\u001b[0m\u001b[0;34m)\u001b[0m\u001b[0;34m:\u001b[0m\u001b[0;34m\u001b[0m\u001b[0m\n\u001b[1;32m    899\u001b[0m         \u001b[0;32mtry\u001b[0m\u001b[0;34m:\u001b[0m\u001b[0;34m\u001b[0m\u001b[0m\n\u001b[0;32m--> 900\u001b[0;31m             \u001b[0mself\u001b[0m\u001b[0;34m.\u001b[0m\u001b[0m_pack\u001b[0m\u001b[0;34m(\u001b[0m\u001b[0mobj\u001b[0m\u001b[0;34m)\u001b[0m\u001b[0;34m\u001b[0m\u001b[0m\n\u001b[0m\u001b[1;32m    901\u001b[0m         \u001b[0;32mexcept\u001b[0m\u001b[0;34m:\u001b[0m\u001b[0;34m\u001b[0m\u001b[0m\n\u001b[1;32m    902\u001b[0m             \u001b[0mself\u001b[0m\u001b[0;34m.\u001b[0m\u001b[0m_buffer\u001b[0m \u001b[0;34m=\u001b[0m \u001b[0mStringIO\u001b[0m\u001b[0;34m(\u001b[0m\u001b[0;34m)\u001b[0m  \u001b[0;31m# force reset\u001b[0m\u001b[0;34m\u001b[0m\u001b[0m\n",
      "\u001b[0;32m~/anaconda3/envs/syft_1/lib/python3.6/site-packages/msgpack/fallback.py\u001b[0m in \u001b[0;36m_pack\u001b[0;34m(self, obj, nest_limit, check, check_type_strict)\u001b[0m\n\u001b[1;32m    885\u001b[0m                 \u001b[0mself\u001b[0m\u001b[0;34m.\u001b[0m\u001b[0m_pack_array_header\u001b[0m\u001b[0;34m(\u001b[0m\u001b[0mn\u001b[0m\u001b[0;34m)\u001b[0m\u001b[0;34m\u001b[0m\u001b[0m\n\u001b[1;32m    886\u001b[0m                 \u001b[0;32mfor\u001b[0m \u001b[0mi\u001b[0m \u001b[0;32min\u001b[0m \u001b[0mxrange\u001b[0m\u001b[0;34m(\u001b[0m\u001b[0mn\u001b[0m\u001b[0;34m)\u001b[0m\u001b[0;34m:\u001b[0m\u001b[0;34m\u001b[0m\u001b[0m\n\u001b[0;32m--> 887\u001b[0;31m                     \u001b[0mself\u001b[0m\u001b[0;34m.\u001b[0m\u001b[0m_pack\u001b[0m\u001b[0;34m(\u001b[0m\u001b[0mobj\u001b[0m\u001b[0;34m[\u001b[0m\u001b[0mi\u001b[0m\u001b[0;34m]\u001b[0m\u001b[0;34m,\u001b[0m \u001b[0mnest_limit\u001b[0m \u001b[0;34m-\u001b[0m \u001b[0;36m1\u001b[0m\u001b[0;34m)\u001b[0m\u001b[0;34m\u001b[0m\u001b[0m\n\u001b[0m\u001b[1;32m    888\u001b[0m                 \u001b[0;32mreturn\u001b[0m\u001b[0;34m\u001b[0m\u001b[0m\n\u001b[1;32m    889\u001b[0m             \u001b[0;32mif\u001b[0m \u001b[0mcheck\u001b[0m\u001b[0;34m(\u001b[0m\u001b[0mobj\u001b[0m\u001b[0;34m,\u001b[0m \u001b[0mdict\u001b[0m\u001b[0;34m)\u001b[0m\u001b[0;34m:\u001b[0m\u001b[0;34m\u001b[0m\u001b[0m\n",
      "\u001b[0;32m~/anaconda3/envs/syft_1/lib/python3.6/site-packages/msgpack/fallback.py\u001b[0m in \u001b[0;36m_pack\u001b[0;34m(self, obj, nest_limit, check, check_type_strict)\u001b[0m\n\u001b[1;32m    885\u001b[0m                 \u001b[0mself\u001b[0m\u001b[0;34m.\u001b[0m\u001b[0m_pack_array_header\u001b[0m\u001b[0;34m(\u001b[0m\u001b[0mn\u001b[0m\u001b[0;34m)\u001b[0m\u001b[0;34m\u001b[0m\u001b[0m\n\u001b[1;32m    886\u001b[0m                 \u001b[0;32mfor\u001b[0m \u001b[0mi\u001b[0m \u001b[0;32min\u001b[0m \u001b[0mxrange\u001b[0m\u001b[0;34m(\u001b[0m\u001b[0mn\u001b[0m\u001b[0;34m)\u001b[0m\u001b[0;34m:\u001b[0m\u001b[0;34m\u001b[0m\u001b[0m\n\u001b[0;32m--> 887\u001b[0;31m                     \u001b[0mself\u001b[0m\u001b[0;34m.\u001b[0m\u001b[0m_pack\u001b[0m\u001b[0;34m(\u001b[0m\u001b[0mobj\u001b[0m\u001b[0;34m[\u001b[0m\u001b[0mi\u001b[0m\u001b[0;34m]\u001b[0m\u001b[0;34m,\u001b[0m \u001b[0mnest_limit\u001b[0m \u001b[0;34m-\u001b[0m \u001b[0;36m1\u001b[0m\u001b[0;34m)\u001b[0m\u001b[0;34m\u001b[0m\u001b[0m\n\u001b[0m\u001b[1;32m    888\u001b[0m                 \u001b[0;32mreturn\u001b[0m\u001b[0;34m\u001b[0m\u001b[0m\n\u001b[1;32m    889\u001b[0m             \u001b[0;32mif\u001b[0m \u001b[0mcheck\u001b[0m\u001b[0;34m(\u001b[0m\u001b[0mobj\u001b[0m\u001b[0;34m,\u001b[0m \u001b[0mdict\u001b[0m\u001b[0;34m)\u001b[0m\u001b[0;34m:\u001b[0m\u001b[0;34m\u001b[0m\u001b[0m\n",
      "\u001b[0;32m~/anaconda3/envs/syft_1/lib/python3.6/site-packages/msgpack/fallback.py\u001b[0m in \u001b[0;36m_pack\u001b[0;34m(self, obj, nest_limit, check, check_type_strict)\u001b[0m\n\u001b[1;32m    885\u001b[0m                 \u001b[0mself\u001b[0m\u001b[0;34m.\u001b[0m\u001b[0m_pack_array_header\u001b[0m\u001b[0;34m(\u001b[0m\u001b[0mn\u001b[0m\u001b[0;34m)\u001b[0m\u001b[0;34m\u001b[0m\u001b[0m\n\u001b[1;32m    886\u001b[0m                 \u001b[0;32mfor\u001b[0m \u001b[0mi\u001b[0m \u001b[0;32min\u001b[0m \u001b[0mxrange\u001b[0m\u001b[0;34m(\u001b[0m\u001b[0mn\u001b[0m\u001b[0;34m)\u001b[0m\u001b[0;34m:\u001b[0m\u001b[0;34m\u001b[0m\u001b[0m\n\u001b[0;32m--> 887\u001b[0;31m                     \u001b[0mself\u001b[0m\u001b[0;34m.\u001b[0m\u001b[0m_pack\u001b[0m\u001b[0;34m(\u001b[0m\u001b[0mobj\u001b[0m\u001b[0;34m[\u001b[0m\u001b[0mi\u001b[0m\u001b[0;34m]\u001b[0m\u001b[0;34m,\u001b[0m \u001b[0mnest_limit\u001b[0m \u001b[0;34m-\u001b[0m \u001b[0;36m1\u001b[0m\u001b[0;34m)\u001b[0m\u001b[0;34m\u001b[0m\u001b[0m\n\u001b[0m\u001b[1;32m    888\u001b[0m                 \u001b[0;32mreturn\u001b[0m\u001b[0;34m\u001b[0m\u001b[0m\n\u001b[1;32m    889\u001b[0m             \u001b[0;32mif\u001b[0m \u001b[0mcheck\u001b[0m\u001b[0;34m(\u001b[0m\u001b[0mobj\u001b[0m\u001b[0;34m,\u001b[0m \u001b[0mdict\u001b[0m\u001b[0;34m)\u001b[0m\u001b[0;34m:\u001b[0m\u001b[0;34m\u001b[0m\u001b[0m\n",
      "\u001b[0;32m~/anaconda3/envs/syft_1/lib/python3.6/site-packages/msgpack/fallback.py\u001b[0m in \u001b[0;36m_pack\u001b[0;34m(self, obj, nest_limit, check, check_type_strict)\u001b[0m\n\u001b[1;32m    885\u001b[0m                 \u001b[0mself\u001b[0m\u001b[0;34m.\u001b[0m\u001b[0m_pack_array_header\u001b[0m\u001b[0;34m(\u001b[0m\u001b[0mn\u001b[0m\u001b[0;34m)\u001b[0m\u001b[0;34m\u001b[0m\u001b[0m\n\u001b[1;32m    886\u001b[0m                 \u001b[0;32mfor\u001b[0m \u001b[0mi\u001b[0m \u001b[0;32min\u001b[0m \u001b[0mxrange\u001b[0m\u001b[0;34m(\u001b[0m\u001b[0mn\u001b[0m\u001b[0;34m)\u001b[0m\u001b[0;34m:\u001b[0m\u001b[0;34m\u001b[0m\u001b[0m\n\u001b[0;32m--> 887\u001b[0;31m                     \u001b[0mself\u001b[0m\u001b[0;34m.\u001b[0m\u001b[0m_pack\u001b[0m\u001b[0;34m(\u001b[0m\u001b[0mobj\u001b[0m\u001b[0;34m[\u001b[0m\u001b[0mi\u001b[0m\u001b[0;34m]\u001b[0m\u001b[0;34m,\u001b[0m \u001b[0mnest_limit\u001b[0m \u001b[0;34m-\u001b[0m \u001b[0;36m1\u001b[0m\u001b[0;34m)\u001b[0m\u001b[0;34m\u001b[0m\u001b[0m\n\u001b[0m\u001b[1;32m    888\u001b[0m                 \u001b[0;32mreturn\u001b[0m\u001b[0;34m\u001b[0m\u001b[0m\n\u001b[1;32m    889\u001b[0m             \u001b[0;32mif\u001b[0m \u001b[0mcheck\u001b[0m\u001b[0;34m(\u001b[0m\u001b[0mobj\u001b[0m\u001b[0;34m,\u001b[0m \u001b[0mdict\u001b[0m\u001b[0;34m)\u001b[0m\u001b[0;34m:\u001b[0m\u001b[0;34m\u001b[0m\u001b[0m\n",
      "\u001b[0;32m~/anaconda3/envs/syft_1/lib/python3.6/site-packages/msgpack/fallback.py\u001b[0m in \u001b[0;36m_pack\u001b[0;34m(self, obj, nest_limit, check, check_type_strict)\u001b[0m\n\u001b[1;32m    894\u001b[0m                 \u001b[0mdefault_used\u001b[0m \u001b[0;34m=\u001b[0m \u001b[0;36m1\u001b[0m\u001b[0;34m\u001b[0m\u001b[0m\n\u001b[1;32m    895\u001b[0m                 \u001b[0;32mcontinue\u001b[0m\u001b[0;34m\u001b[0m\u001b[0m\n\u001b[0;32m--> 896\u001b[0;31m             \u001b[0;32mraise\u001b[0m \u001b[0mTypeError\u001b[0m\u001b[0;34m(\u001b[0m\u001b[0;34m\"Cannot serialize %r\"\u001b[0m \u001b[0;34m%\u001b[0m \u001b[0;34m(\u001b[0m\u001b[0mobj\u001b[0m\u001b[0;34m,\u001b[0m \u001b[0;34m)\u001b[0m\u001b[0;34m)\u001b[0m\u001b[0;34m\u001b[0m\u001b[0m\n\u001b[0m\u001b[1;32m    897\u001b[0m \u001b[0;34m\u001b[0m\u001b[0m\n\u001b[1;32m    898\u001b[0m     \u001b[0;32mdef\u001b[0m \u001b[0mpack\u001b[0m\u001b[0;34m(\u001b[0m\u001b[0mself\u001b[0m\u001b[0;34m,\u001b[0m \u001b[0mobj\u001b[0m\u001b[0;34m)\u001b[0m\u001b[0;34m:\u001b[0m\u001b[0;34m\u001b[0m\u001b[0m\n",
      "\u001b[0;31mTypeError\u001b[0m: Cannot serialize FixedPrecisionTensor>tensor([[[[232,  48, 112],\n          [152, 216,  56],\n          [152, 104,  56],\n          ...,\n          [ 64, 232, 192],\n          [ 80, 200, 168],\n          [168, 152, 120]],\n\n         [[ 96,  88, 184],\n          [176, 168, 240],\n          [176,  32, 104],\n          ...,\n          [ 64,  88,  80],\n          [184, 144,  32],\n          [ 56, 176,  96]],\n\n         [[ 64,  40, 112],\n          [ 80,   8, 144],\n          [128, 104, 216],\n          ...,\n          [216,  72, 200],\n          [184,  16, 224],\n          [ 64, 136,   8]],\n\n         ...,\n\n         [[240, 104, 248],\n          [216,  80,  88],\n          [ 80, 152, 232],\n          ...,\n          [ 64,  64, 216],\n          [ 64,  40, 104],\n          [ 88,  40, 176]],\n\n         [[ 32, 240,   0],\n          [240, 152,  64],\n          [ 80, 224,  64],\n          ...,\n          [176,  88,  32],\n          [ 16,  40,   8],\n          [ 16,  64, 240]],\n\n         [[  8, 192, 160],\n          [168,  80,  64],\n          [  8, 152, 184],\n          ...,\n          [152,  64, 216],\n          [200,  40, 240],\n          [ 88,  16, 152]]],\n\n\n        [[[ 32, 224, 120],\n          [240,  40, 208],\n          [200, 176, 192],\n          ...,\n          [144, 176, 136],\n          [192, 200, 184],\n          [192, 176, 208]],\n\n         [[  8, 200,  72],\n          [ 56,  40,   0],\n          [ 16, 136, 120],\n          ...,\n          [168,  80,   0],\n          [192, 152, 112],\n          [192, 104, 184]],\n\n         [[ 56, 224,  96],\n          [176, 200, 144],\n          [ 72,  80, 240],\n          ...,\n          [144,   8,  24],\n          [192,  56, 208],\n          [  8,  80, 112]],\n\n         ...,\n\n         [[160, 208,  64],\n          [208,  48, 224],\n          [ 24,  72,  40],\n          ...,\n          [ 64,  64, 240],\n          [112, 112, 216],\n          [160, 136, 176]],\n\n         [[ 88,  64, 152],\n          [ 16,  64, 152],\n          [ 88,  88, 216],\n          ...,\n          [ 88,  64, 240],\n          [ 88,  88, 216],\n          [ 40, 184, 104]],\n\n         [[ 88,  16,  80],\n          [ 88,  40, 216],\n          [ 64,  16, 120],\n          ...,\n          [104,  88, 192],\n          [ 64,  64, 192],\n          [ 88, 208, 128]]],\n\n\n        [[[ 56, 240, 176],\n          [ 32,  32, 152],\n          [168, 168,  32],\n          ...,\n          [232, 128,  24],\n          [176,  32, 144],\n          [208,  48,  96]],\n\n         [[  8,   8, 176],\n          [ 56,  32,  16],\n          [168, 192, 152],\n          ...,\n          [ 24,  40, 128],\n          [120, 168, 240],\n          [208,  32, 136]],\n\n         [[  8,   8, 176],\n          [ 32,  56,  16],\n          [240,  32,  16],\n          ...,\n          [152,  56,  80],\n          [ 72,   8, 112],\n          [ 80, 144,  48]],\n\n         ...,\n\n         [[192, 208, 200],\n          [168, 184, 176],\n          [ 32,  96, 112],\n          ...,\n          [ 48, 176, 184],\n          [184, 128, 208],\n          [ 16, 104, 232]],\n\n         [[192, 160, 128],\n          [216,   0, 200],\n          [192,  24, 200],\n          ...,\n          [ 96, 200, 112],\n          [ 72, 200, 160],\n          [232, 152, 208]],\n\n         [[ 32,   0, 176],\n          [104, 144,  40],\n          [216,  48, 176],\n          ...,\n          [ 24, 128, 248],\n          [ 48, 152,  64],\n          [ 24, 104,  88]]],\n\n\n        ...,\n\n\n        [[[ 96, 184, 200],\n          [ 72, 160, 176],\n          [ 72, 160, 128],\n          ...,\n          [  0, 152,  72],\n          [ 72, 224, 192],\n          [144,  40,   8]],\n\n         [[ 96, 112, 104],\n          [ 72, 112,  32],\n          [ 72, 112,  32],\n          ...,\n          [ 48, 200, 120],\n          [ 72, 224, 144],\n          [144, 248, 168]],\n\n         [[ 48,  88,   8],\n          [ 48,  88, 216],\n          [ 24,  64, 192],\n          ...,\n          [ 96, 248, 120],\n          [ 48, 200,  48],\n          [ 48, 176,  48]],\n\n         ...,\n\n         [[216, 136, 168],\n          [192, 112,  96],\n          [192, 112,  96],\n          ...,\n          [ 48, 104,  24],\n          [216, 248, 144],\n          [248,  24, 176]],\n\n         [[216, 136, 168],\n          [192, 112,  96],\n          [216, 112,  96],\n          ...,\n          [ 72, 128,  72],\n          [ 24,  80,  24],\n          [ 72, 128,  24]],\n\n         [[192, 112, 144],\n          [192, 112,  96],\n          [216, 112,  72],\n          ...,\n          [168,  40, 168],\n          [ 72, 200,  72],\n          [ 48, 104,   0]]],\n\n\n        [[[ 48, 248,  96],\n          [ 48, 248,  96],\n          [ 24,  40, 120],\n          ...,\n          [152,  24,  80],\n          [ 16,  96, 152],\n          [248, 144, 128]],\n\n         [[ 72,  16, 120],\n          [ 72,  16, 120],\n          [120,  40, 144],\n          ...,\n          [208,  32,  40],\n          [ 48, 128, 136],\n          [ 96, 176, 184]],\n\n         [[  8, 184,   8],\n          [240, 160, 240],\n          [216, 112, 192],\n          ...,\n          [248,  48,   8],\n          [ 48, 104,  64],\n          [120, 176, 136]],\n\n         ...,\n\n         [[232, 192,  88],\n          [ 16,  24, 200],\n          [240, 248, 144],\n          ...,\n          [144,  88,   0],\n          [176, 120,  32],\n          [ 72,  16, 184]],\n\n         [[160, 144,  64],\n          [ 40,  96, 248],\n          [176, 232, 152],\n          ...,\n          [144,  40,  24],\n          [136,  32,  16],\n          [128,  48,   8]],\n\n         [[104, 160,  56],\n          [ 80, 136,  32],\n          [  8,  64, 240],\n          ...,\n          [ 32, 184, 192],\n          [240, 112, 120],\n          [144,  40,  24]]],\n\n\n        [[[240, 184,  80],\n          [144,  88, 240],\n          [216, 160,  56],\n          ...,\n          [232, 208, 128],\n          [ 24,   0, 176],\n          [ 72,  48, 224]],\n\n         [[216, 136,  32],\n          [120,  64, 144],\n          [120,  40, 144],\n          ...,\n          [232, 208, 128],\n          [  0, 232, 152],\n          [ 48,  24, 200]],\n\n         [[120,  16, 144],\n          [ 24, 200,  24],\n          [232, 128, 208],\n          ...,\n          [208, 208,  56],\n          [232, 232,  80],\n          [ 24,  24, 128]],\n\n         ...,\n\n         [[ 64, 120,  56],\n          [184, 240, 152],\n          [248,  72, 240],\n          ...,\n          [  8,  48, 128],\n          [  8,  48, 128],\n          [ 32,  72, 200]],\n\n         [[ 88, 144, 104],\n          [ 80, 136,  96],\n          [ 16,  96,  56],\n          ...,\n          [216,   0,  80],\n          [216,   0,  80],\n          [216,   0, 128]],\n\n         [[ 72, 104, 184],\n          [ 16,  48,  80],\n          [  0,  32,  64],\n          ...,\n          [192, 232,  56],\n          [192, 232,  56],\n          [192, 232,  56]]]])"
     ]
    }
   ],
   "source": [
    "base_federated=base.federate((bob, alice))"
   ]
  },
  {
   "cell_type": "code",
   "execution_count": 16,
   "metadata": {
    "collapsed": true
   },
   "outputs": [],
   "source": [
    "federated_train_loader = sy.FederatedDataLoader( # <-- this is now a FederatedDataLoader \n",
    "                         base_federated,batch_size=args.batch_size)"
   ]
  },
  {
   "cell_type": "markdown",
   "metadata": {},
   "source": [
    "<h1></h1>"
   ]
  },
  {
   "cell_type": "markdown",
   "metadata": {},
   "source": [
    "## Well Done!\n",
    "\n",
    "And voilà! We now know how to create a custom dataset that works with federated data loaders. \n",
    "\n",
    "## Shortcomings of this Example\n",
    "\n",
    "Currently Federated datasets were developed to allow users to perform federated learning easily with federated data loaders. If you have any features that could improve your experience feel free to create an Github Issue. "
   ]
  },
  {
   "cell_type": "markdown",
   "metadata": {},
   "source": [
    "# Congratulations!!! - Time to Join the Community!\n",
    "\n",
    "Congratulations on completing this notebook tutorial! If you enjoyed this and would like to join the movement toward privacy preserving, decentralized ownership of AI and the AI supply chain (data), you can do so in the following ways!\n",
    "\n",
    "\n",
    "### Star PySyft on GitHub\n",
    "\n",
    "The easiest way to help our community is just by starring the repositories! This helps raise awareness of the cool tools we're building.\n",
    "\n",
    "- [Star PySyft](https://github.com/OpenMined/PySyft)\n",
    "\n",
    "### Pick our tutorials on GitHub!\n",
    "\n",
    "We made really nice tutorials to get a better understanding of what Federated and Privacy-Preserving Learning should look like and how we are building the bricks for this to happen.\n",
    "\n",
    "- [Checkout the PySyft tutorials](https://github.com/OpenMined/PySyft/tree/master/examples/tutorials)\n",
    "\n",
    "\n",
    "### Join our Slack!\n",
    "\n",
    "The best way to keep up to date on the latest advancements is to join our community! \n",
    "\n",
    "- [Join slack.openmined.org](http://slack.openmined.org)\n",
    "\n",
    "### Join a Code Project!\n",
    "\n",
    "The best way to contribute to our community is to become a code contributor! If you want to start \"one off\" mini-projects, you can go to PySyft GitHub Issues page and search for issues marked `Good First Issue`.\n",
    "\n",
    "- [Good First Issue Tickets](https://github.com/OpenMined/PySyft/issues?q=is%3Aopen+is%3Aissue+label%3A%22good+first+issue%22)\n",
    "\n",
    "### Donate\n",
    "\n",
    "If you don't have time to contribute to our codebase, but would still like to lend support, you can also become a Backer on our Open Collective. All donations go toward our web hosting and other community expenses such as hackathons and meetups!\n",
    "\n",
    "- [Donate through OpenMined's Open Collective Page](https://opencollective.com/openmined)"
   ]
  },
  {
   "cell_type": "code",
   "execution_count": null,
   "metadata": {
    "collapsed": true
   },
   "outputs": [],
   "source": []
  },
  {
   "cell_type": "code",
   "execution_count": null,
   "metadata": {
    "collapsed": true
   },
   "outputs": [],
   "source": []
  },
  {
   "cell_type": "code",
   "execution_count": null,
   "metadata": {
    "collapsed": true
   },
   "outputs": [],
   "source": []
  }
 ],
 "metadata": {
  "kernelspec": {
   "display_name": "Python 3",
   "language": "python",
   "name": "python3"
  },
  "language_info": {
   "codemirror_mode": {
    "name": "ipython",
    "version": 3
   },
   "file_extension": ".py",
   "mimetype": "text/x-python",
   "name": "python",
   "nbconvert_exporter": "python",
   "pygments_lexer": "ipython3",
   "version": "3.6.3"
  }
 },
 "nbformat": 4,
 "nbformat_minor": 2
}
