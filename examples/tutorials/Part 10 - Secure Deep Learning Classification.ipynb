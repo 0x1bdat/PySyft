{
 "cells": [
  {
   "cell_type": "markdown",
   "metadata": {},
   "source": [
    "# Part 10 - Secure Deep Learning Classification \n",
    "\n",
    "### Context \n",
    "\n",
    "\n",
    "Data is the driver behind Machine Learning. Companies, organisations or hospitals that create and collect data are able to build and train their own machine learning models in house. This allows them to offer it as a service (MLaaS) to outside collaborators which don't have access to as much data but would like to benefit from this model to gain insights on their own data. This data might be extremely sensitive (think about you sending a picture of your skin to detect skin cancer) and can't be sent in clear to a server. In return, it is likely that the model is also too critical from a business perspective to be sent directly to the client who could potentially steal it.\n",
    "\n",
    "In this context, one possible solution is to encrypt both the model and the data and to perform the machine learning prediction in a completely encrypted setting. Several encryption schemes exist that allow for computation over encrypted data, among which Secure Multi-Party Computation (SMPC), Homomorphic Encryption (FHE/SHE) and Functional Encryption (FE). We will focus here on Multi-Party Computation (which have been introduced in Tutorial 5) which consists of private additive sharing and relies on the crypto protocols SecureNN and SPDZ, the details of which are given [in this excellent blog post](https://mortendahl.github.io/2017/09/03/the-spdz-protocol-part1/).\n",
    "\n",
    "The exact setting in this tutorial is the following: consider that you are the server and you have some data. First, you define and train a model with this data. Second, you get in touch with a client which holds some data and would like to access your model to do some prediction. It encrypts this data by building private shares while you do the same with your model, and then you execute the private evaluation of your model. Finally the result of the prediction is sent back encrypted to the client so that the server (you) learns nothing about the client's data.\n",
    "\n",
    "\n",
    "Author:\n",
    "- Théo Ryffel - Twitter: [@theoryffel](https://twitter.com/theoryffel) · GitHub: [@LaRiffle](https://github.com/LaRiffle)\n",
    "\n",
    "**Let's get started!**"
   ]
  },
  {
   "cell_type": "markdown",
   "metadata": {},
   "source": [
    "### Imports and model specifications"
   ]
  },
  {
   "cell_type": "code",
   "execution_count": 1,
   "metadata": {},
   "outputs": [],
   "source": [
    "import torch\n",
    "import torch.nn as nn\n",
    "import torch.nn.functional as F\n",
    "import torch.optim as optim\n",
    "from torchvision import datasets, transforms"
   ]
  },
  {
   "cell_type": "markdown",
   "metadata": {},
   "source": [
    "Here are PySyft imports. In particular we define remote workers `alice`, `bob` and `charlie` along with a last one, the `crypto_provider` would give all the crypto primitive we may need (See Part 5 for more details)."
   ]
  },
  {
   "cell_type": "code",
   "execution_count": 2,
   "metadata": {},
   "outputs": [],
   "source": [
    "import syft as sy  # <-- NEW: import the Pysyft library\n",
    "hook = sy.TorchHook(torch)  # <-- NEW: hook PyTorch ie add extra functionalities to support Federated Learning\n",
    "client = sy.VirtualWorker(hook, id=\"client\") # <-- NEW: define remote workers charlie, bob & alice\n",
    "bob = sy.VirtualWorker(hook, id=\"bob\")\n",
    "alice = sy.VirtualWorker(hook, id=\"alice\")\n",
    "crypto_provider = sy.VirtualWorker(hook, id=\"crypto_provider\")  # <-- NEW: and crypto_provider"
   ]
  },
  {
   "cell_type": "markdown",
   "metadata": {},
   "source": [
    "We define the setting of the learning task"
   ]
  },
  {
   "cell_type": "code",
   "execution_count": 3,
   "metadata": {},
   "outputs": [],
   "source": [
    "class Arguments():\n",
    "    def __init__(self):\n",
    "        self.batch_size = 64\n",
    "        self.test_batch_size = 10\n",
    "        self.epochs = 10\n",
    "        self.lr = 0.01\n",
    "        self.momentum = 0.5\n",
    "        self.log_interval = 100\n",
    "\n",
    "args = Arguments()"
   ]
  },
  {
   "cell_type": "markdown",
   "metadata": {},
   "source": [
    "### Data loading and sending to workers\n",
    "\n",
    "In our setting, we assume that the server has access to some data to first train its model. Here it is the MNIST training set."
   ]
  },
  {
   "cell_type": "code",
   "execution_count": 4,
   "metadata": {},
   "outputs": [],
   "source": [
    "train_loader = torch.utils.data.DataLoader(\n",
    "    datasets.MNIST('../data', train=True, download=True,\n",
    "                   transform=transforms.Compose([\n",
    "                       transforms.ToTensor(),\n",
    "                       transforms.Normalize((0.1307,), (0.3081,))\n",
    "                   ])),\n",
    "    batch_size=args.batch_size, shuffle=True)"
   ]
  },
  {
   "cell_type": "markdown",
   "metadata": {},
   "source": [
    "Second, there is a client which would like to have predictions on some data from the server's model. This client `charlie` encrypts its data by sharing it additively across two workers alice and bob. Here we use MNIST testing set and we simulate the fact that charlie has initially the data by sending it to him."
   ]
  },
  {
   "cell_type": "code",
   "execution_count": 5,
   "metadata": {},
   "outputs": [],
   "source": [
    "test_dataset = datasets.MNIST('../data', train=False, transform=transforms.Compose([\n",
    "   transforms.ToTensor(),\n",
    "   transforms.Normalize((0.1307,), (0.3081,))\n",
    "]))\n",
    "\n",
    "# The client which owns the data performs the data encryption through sharing\n",
    "#TODO: send the data first to charlie\n",
    "client_data = sy.BaseDataset(\n",
    "        test_dataset.data[:100], test_dataset.targets[:100]\n",
    "    ).fix_precision().share(alice, bob, crypto_provider=crypto_provider)"
   ]
  },
  {
   "cell_type": "code",
   "execution_count": 6,
   "metadata": {},
   "outputs": [],
   "source": [
    "client_data_batches = list(zip(\n",
    "    torch.split(client_data.data, args.test_batch_size),\n",
    "    torch.split(client_data.targets, args.test_batch_size)\n",
    "))"
   ]
  },
  {
   "cell_type": "markdown",
   "metadata": {},
   "source": [
    "### Feed Forward Neural Network specification\n",
    "Here is the network specification used by the server"
   ]
  },
  {
   "cell_type": "code",
   "execution_count": 7,
   "metadata": {},
   "outputs": [],
   "source": [
    "class Net(nn.Module):\n",
    "    def __init__(self):\n",
    "        super(Net, self).__init__()\n",
    "        self.fc1 = nn.Linear(784, 500)\n",
    "        self.fc2 = nn.Linear(500, 10)\n",
    "\n",
    "    def forward(self, x):\n",
    "        x = x.view(-1, 784)\n",
    "        x = F.relu(self.fc1(x))\n",
    "        x = self.fc2(x)\n",
    "        return x"
   ]
  },
  {
   "cell_type": "markdown",
   "metadata": {},
   "source": [
    "### Launch the training\n",
    "The training is done locally so this is pure local PyTorch training, nothing special here!"
   ]
  },
  {
   "cell_type": "code",
   "execution_count": 8,
   "metadata": {},
   "outputs": [],
   "source": [
    "def train(args, model, train_loader, optimizer, epoch):\n",
    "    model.train()\n",
    "    for batch_idx, (data, target) in enumerate(train_loader):\n",
    "        optimizer.zero_grad()\n",
    "        output = model(data)\n",
    "        output = F.log_softmax(output, dim=1)\n",
    "        loss = F.nll_loss(output, target)\n",
    "        loss.backward()\n",
    "        optimizer.step()\n",
    "        if batch_idx % args.log_interval == 0:\n",
    "            print('Train Epoch: {} [{}/{} ({:.0f}%)]\\tLoss: {:.6f}'.format(\n",
    "                epoch, batch_idx * args.batch_size, len(train_loader) * args.batch_size,\n",
    "                100. * batch_idx / len(train_loader), loss.item()))"
   ]
  },
  {
   "cell_type": "code",
   "execution_count": 9,
   "metadata": {
    "scrolled": true
   },
   "outputs": [
    {
     "name": "stdout",
     "output_type": "stream",
     "text": [
      "Train Epoch: 1 [0/60032 (0%)]\tLoss: 2.296171\n",
      "Train Epoch: 1 [6400/60032 (11%)]\tLoss: 0.795802\n",
      "Train Epoch: 1 [12800/60032 (21%)]\tLoss: 0.631407\n",
      "Train Epoch: 1 [19200/60032 (32%)]\tLoss: 0.593516\n",
      "Train Epoch: 1 [25600/60032 (43%)]\tLoss: 0.422055\n",
      "Train Epoch: 1 [32000/60032 (53%)]\tLoss: 0.310432\n",
      "Train Epoch: 1 [38400/60032 (64%)]\tLoss: 0.389072\n",
      "Train Epoch: 1 [44800/60032 (75%)]\tLoss: 0.336873\n",
      "Train Epoch: 1 [51200/60032 (85%)]\tLoss: 0.373875\n",
      "Train Epoch: 1 [57600/60032 (96%)]\tLoss: 0.423060\n",
      "Train Epoch: 2 [0/60032 (0%)]\tLoss: 0.264937\n",
      "Train Epoch: 2 [6400/60032 (11%)]\tLoss: 0.233674\n",
      "Train Epoch: 2 [12800/60032 (21%)]\tLoss: 0.536474\n",
      "Train Epoch: 2 [19200/60032 (32%)]\tLoss: 0.234691\n",
      "Train Epoch: 2 [25600/60032 (43%)]\tLoss: 0.263753\n",
      "Train Epoch: 2 [32000/60032 (53%)]\tLoss: 0.485093\n",
      "Train Epoch: 2 [38400/60032 (64%)]\tLoss: 0.254842\n",
      "Train Epoch: 2 [44800/60032 (75%)]\tLoss: 0.259282\n",
      "Train Epoch: 2 [51200/60032 (85%)]\tLoss: 0.101064\n",
      "Train Epoch: 2 [57600/60032 (96%)]\tLoss: 0.234769\n",
      "Train Epoch: 3 [0/60032 (0%)]\tLoss: 0.234799\n",
      "Train Epoch: 3 [6400/60032 (11%)]\tLoss: 0.302729\n",
      "Train Epoch: 3 [12800/60032 (21%)]\tLoss: 0.269787\n",
      "Train Epoch: 3 [19200/60032 (32%)]\tLoss: 0.211510\n",
      "Train Epoch: 3 [25600/60032 (43%)]\tLoss: 0.220846\n",
      "Train Epoch: 3 [32000/60032 (53%)]\tLoss: 0.216243\n",
      "Train Epoch: 3 [38400/60032 (64%)]\tLoss: 0.134278\n",
      "Train Epoch: 3 [44800/60032 (75%)]\tLoss: 0.303746\n",
      "Train Epoch: 3 [51200/60032 (85%)]\tLoss: 0.196024\n",
      "Train Epoch: 3 [57600/60032 (96%)]\tLoss: 0.166072\n",
      "Train Epoch: 4 [0/60032 (0%)]\tLoss: 0.181632\n",
      "Train Epoch: 4 [6400/60032 (11%)]\tLoss: 0.130419\n",
      "Train Epoch: 4 [12800/60032 (21%)]\tLoss: 0.251109\n",
      "Train Epoch: 4 [19200/60032 (32%)]\tLoss: 0.362437\n",
      "Train Epoch: 4 [25600/60032 (43%)]\tLoss: 0.101583\n",
      "Train Epoch: 4 [32000/60032 (53%)]\tLoss: 0.191003\n",
      "Train Epoch: 4 [38400/60032 (64%)]\tLoss: 0.222955\n",
      "Train Epoch: 4 [44800/60032 (75%)]\tLoss: 0.238697\n",
      "Train Epoch: 4 [51200/60032 (85%)]\tLoss: 0.197644\n",
      "Train Epoch: 4 [57600/60032 (96%)]\tLoss: 0.060204\n",
      "Train Epoch: 5 [0/60032 (0%)]\tLoss: 0.218563\n",
      "Train Epoch: 5 [6400/60032 (11%)]\tLoss: 0.126430\n",
      "Train Epoch: 5 [12800/60032 (21%)]\tLoss: 0.118035\n",
      "Train Epoch: 5 [19200/60032 (32%)]\tLoss: 0.188660\n",
      "Train Epoch: 5 [25600/60032 (43%)]\tLoss: 0.108350\n",
      "Train Epoch: 5 [32000/60032 (53%)]\tLoss: 0.167881\n",
      "Train Epoch: 5 [38400/60032 (64%)]\tLoss: 0.217158\n",
      "Train Epoch: 5 [44800/60032 (75%)]\tLoss: 0.213704\n",
      "Train Epoch: 5 [51200/60032 (85%)]\tLoss: 0.152590\n",
      "Train Epoch: 5 [57600/60032 (96%)]\tLoss: 0.165841\n",
      "Train Epoch: 6 [0/60032 (0%)]\tLoss: 0.245839\n",
      "Train Epoch: 6 [6400/60032 (11%)]\tLoss: 0.095104\n",
      "Train Epoch: 6 [12800/60032 (21%)]\tLoss: 0.078906\n",
      "Train Epoch: 6 [19200/60032 (32%)]\tLoss: 0.091324\n",
      "Train Epoch: 6 [25600/60032 (43%)]\tLoss: 0.156400\n",
      "Train Epoch: 6 [32000/60032 (53%)]\tLoss: 0.087112\n",
      "Train Epoch: 6 [38400/60032 (64%)]\tLoss: 0.060464\n",
      "Train Epoch: 6 [44800/60032 (75%)]\tLoss: 0.146500\n",
      "Train Epoch: 6 [51200/60032 (85%)]\tLoss: 0.214479\n",
      "Train Epoch: 6 [57600/60032 (96%)]\tLoss: 0.177691\n",
      "Train Epoch: 7 [0/60032 (0%)]\tLoss: 0.120778\n",
      "Train Epoch: 7 [6400/60032 (11%)]\tLoss: 0.090191\n",
      "Train Epoch: 7 [12800/60032 (21%)]\tLoss: 0.140981\n",
      "Train Epoch: 7 [19200/60032 (32%)]\tLoss: 0.087680\n",
      "Train Epoch: 7 [25600/60032 (43%)]\tLoss: 0.275701\n",
      "Train Epoch: 7 [32000/60032 (53%)]\tLoss: 0.136882\n",
      "Train Epoch: 7 [38400/60032 (64%)]\tLoss: 0.127759\n",
      "Train Epoch: 7 [44800/60032 (75%)]\tLoss: 0.215515\n",
      "Train Epoch: 7 [51200/60032 (85%)]\tLoss: 0.102542\n",
      "Train Epoch: 7 [57600/60032 (96%)]\tLoss: 0.119823\n",
      "Train Epoch: 8 [0/60032 (0%)]\tLoss: 0.182432\n",
      "Train Epoch: 8 [6400/60032 (11%)]\tLoss: 0.114602\n",
      "Train Epoch: 8 [12800/60032 (21%)]\tLoss: 0.202009\n",
      "Train Epoch: 8 [19200/60032 (32%)]\tLoss: 0.101708\n",
      "Train Epoch: 8 [25600/60032 (43%)]\tLoss: 0.122380\n",
      "Train Epoch: 8 [32000/60032 (53%)]\tLoss: 0.210020\n",
      "Train Epoch: 8 [38400/60032 (64%)]\tLoss: 0.134813\n",
      "Train Epoch: 8 [44800/60032 (75%)]\tLoss: 0.075840\n",
      "Train Epoch: 8 [51200/60032 (85%)]\tLoss: 0.079786\n",
      "Train Epoch: 8 [57600/60032 (96%)]\tLoss: 0.126203\n",
      "Train Epoch: 9 [0/60032 (0%)]\tLoss: 0.251768\n",
      "Train Epoch: 9 [6400/60032 (11%)]\tLoss: 0.076012\n",
      "Train Epoch: 9 [12800/60032 (21%)]\tLoss: 0.074827\n",
      "Train Epoch: 9 [19200/60032 (32%)]\tLoss: 0.126659\n",
      "Train Epoch: 9 [25600/60032 (43%)]\tLoss: 0.075089\n",
      "Train Epoch: 9 [32000/60032 (53%)]\tLoss: 0.093542\n",
      "Train Epoch: 9 [38400/60032 (64%)]\tLoss: 0.042978\n",
      "Train Epoch: 9 [44800/60032 (75%)]\tLoss: 0.075061\n",
      "Train Epoch: 9 [51200/60032 (85%)]\tLoss: 0.169946\n",
      "Train Epoch: 9 [57600/60032 (96%)]\tLoss: 0.097578\n",
      "Train Epoch: 10 [0/60032 (0%)]\tLoss: 0.136248\n",
      "Train Epoch: 10 [6400/60032 (11%)]\tLoss: 0.129240\n",
      "Train Epoch: 10 [12800/60032 (21%)]\tLoss: 0.131617\n",
      "Train Epoch: 10 [19200/60032 (32%)]\tLoss: 0.094239\n",
      "Train Epoch: 10 [25600/60032 (43%)]\tLoss: 0.114532\n",
      "Train Epoch: 10 [32000/60032 (53%)]\tLoss: 0.130200\n",
      "Train Epoch: 10 [38400/60032 (64%)]\tLoss: 0.139924\n",
      "Train Epoch: 10 [44800/60032 (75%)]\tLoss: 0.109009\n",
      "Train Epoch: 10 [51200/60032 (85%)]\tLoss: 0.132764\n",
      "Train Epoch: 10 [57600/60032 (96%)]\tLoss: 0.084208\n"
     ]
    }
   ],
   "source": [
    "model = Net()\n",
    "optimizer = optim.SGD(model.parameters(), lr=args.lr)\n",
    "\n",
    "for epoch in range(1, args.epochs + 1):\n",
    "    train(args, model, train_loader, optimizer, epoch)\n"
   ]
  },
  {
   "cell_type": "markdown",
   "metadata": {},
   "source": [
    "Our model is now trained and ready to be provided as a service"
   ]
  },
  {
   "cell_type": "markdown",
   "metadata": {},
   "source": [
    "## Secure evaluation"
   ]
  },
  {
   "cell_type": "markdown",
   "metadata": {},
   "source": [
    "Now, as the server, we send the model to the workers holding the data. Because the model is sensitive information (you've spent time optimizing it!), you don't want to disclose its weights so you secret share the model just like we did with the dataset earlier."
   ]
  },
  {
   "cell_type": "code",
   "execution_count": 10,
   "metadata": {},
   "outputs": [
    {
     "data": {
      "text/plain": [
       "Net(\n",
       "  (fc1): Linear(in_features=784, out_features=500, bias=True)\n",
       "  (fc2): Linear(in_features=500, out_features=10, bias=True)\n",
       ")"
      ]
     },
     "execution_count": 10,
     "metadata": {},
     "output_type": "execute_result"
    }
   ],
   "source": [
    "model.eval()\n",
    "model.fix_precision().share(alice, bob, crypto_provider=crypto_provider)"
   ]
  },
  {
   "cell_type": "markdown",
   "metadata": {},
   "source": [
    "This test function performs the encrypted evaluation. The model weights, the data inputs, the prediction and the target used for scoring are encrypted!\n",
    "\n",
    "However, the syntax is very similar to pure PyTorch testing of a model, isn't it nice?!\n",
    "\n",
    "The only thing we decrypt from the server side is the final score at the end to verify predictions were on average good."
   ]
  },
  {
   "cell_type": "code",
   "execution_count": 11,
   "metadata": {},
   "outputs": [],
   "source": [
    "def test(args, model, client_data_batches):\n",
    "    print('Computing...')\n",
    "    n_correct = 0\n",
    "    n_total = 0\n",
    "    with torch.no_grad():\n",
    "        for data, target in client_data_batches:\n",
    "            print('...')\n",
    "            output = model(data)\n",
    "            pred = output.argmax(dim=1)\n",
    "            score = pred.eq(target.view_as(pred)).sum()\n",
    "            n_correct += score\n",
    "            n_total += args.test_batch_size\n",
    "\n",
    "    n_correct = n_correct.get().float_precision().long().item()\n",
    "    \n",
    "    print('\\nTest set: Accuracy: {}/{} ({:.0f}%)\\n'.format(\n",
    "        n_correct, n_total,\n",
    "        100. * n_correct / n_total))\n",
    "    #TODO: get back the model to local floats"
   ]
  },
  {
   "cell_type": "code",
   "execution_count": 12,
   "metadata": {},
   "outputs": [
    {
     "name": "stdout",
     "output_type": "stream",
     "text": [
      "Computing...\n",
      "...\n",
      "...\n",
      "...\n",
      "...\n",
      "...\n",
      "...\n",
      "...\n",
      "...\n",
      "...\n",
      "...\n",
      "\n",
      "Test set: Accuracy: 72/100 (72%)\n",
      "\n"
     ]
    }
   ],
   "source": [
    "test(args, model, client_data_batches)"
   ]
  },
  {
   "cell_type": "markdown",
   "metadata": {},
   "source": [
    "Et voilà! Here you are, you have done a completely secure prediction: the weights of the server's model have not leaked to the client and the server has no information about the data input nor the classification output!"
   ]
  },
  {
   "cell_type": "markdown",
   "metadata": {},
   "source": [
    "## Conclusion\n",
    "\n",
    "You have seen here how it is easy to leverage your knowledge of PyTorch to perform secure Machine Learning that protect users data without having to be a crypto expert!\n",
    "\n",
    "More on this topic will come soon, especially on private encrypted training of neural networks, when a organisation resorts to external sensitive data to train its own model.\n",
    "\n",
    "If you enjoyed this and would like to join the movement toward privacy preserving, decentralized ownership of AI and the AI supply chain (data), you can do so in the following ways! \n",
    "\n",
    "### Star PySyft on GitHub\n",
    "\n",
    "The easiest way to help our community is just by starring the repositories! This helps raise awareness of the cool tools we're building.\n",
    "\n",
    "- [Star PySyft](https://github.com/OpenMined/PySyft)\n",
    "\n",
    "### Pick our tutorials on GitHub!\n",
    "\n",
    "We made really nice tutorials to get a better understanding of what Federated and Privacy-Preserving Learning should look like and how we are building the bricks for this to happen.\n",
    "\n",
    "- [Checkout the PySyft tutorials](https://github.com/OpenMined/PySyft/tree/master/examples/tutorials)\n",
    "\n",
    "\n",
    "### Join our Slack!\n",
    "\n",
    "The best way to keep up to date on the latest advancements is to join our community! \n",
    "\n",
    "- [Join slack.openmined.org](http://slack.openmined.org)\n",
    "\n",
    "### Join a Code Project!\n",
    "\n",
    "The best way to contribute to our community is to become a code contributor! If you want to start \"one off\" mini-projects, you can go to PySyft GitHub Issues page and search for issues marked `Good First Issue`.\n",
    "\n",
    "- [Good First Issue Tickets](https://github.com/OpenMined/PySyft/issues?q=is%3Aopen+is%3Aissue+label%3A%22good+first+issue%22)\n",
    "\n",
    "### Donate\n",
    "\n",
    "If you don't have time to contribute to our codebase, but would still like to lend support, you can also become a Backer on our Open Collective. All donations go toward our web hosting and other community expenses such as hackathons and meetups!\n",
    "\n",
    "- [Donate through OpenMined's Open Collective Page](https://opencollective.com/openmined)"
   ]
  },
  {
   "cell_type": "code",
   "execution_count": null,
   "metadata": {},
   "outputs": [],
   "source": []
  }
 ],
 "metadata": {
  "kernelspec": {
   "display_name": "Python 3",
   "language": "python",
   "name": "python3"
  },
  "language_info": {
   "codemirror_mode": {
    "name": "ipython",
    "version": 3
   },
   "file_extension": ".py",
   "mimetype": "text/x-python",
   "name": "python",
   "nbconvert_exporter": "python",
   "pygments_lexer": "ipython3",
   "version": "3.7.0"
  }
 },
 "nbformat": 4,
 "nbformat_minor": 2
}
