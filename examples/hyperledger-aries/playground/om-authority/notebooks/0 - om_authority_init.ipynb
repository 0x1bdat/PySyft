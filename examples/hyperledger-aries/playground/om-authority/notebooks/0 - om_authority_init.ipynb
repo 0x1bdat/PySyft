{
 "cells": [
  {
   "cell_type": "markdown",
   "id": "eef5fdd3",
   "metadata": {},
   "source": [
    "# Initialising Your OpenMined Duet Authority Agent as an Issuer\n",
    "\n",
    "## The OM Authority actor is **ONLY** included to allow you to complete this example without relying on an externally hosted service. The happy path for completing this tutorial however is to interact with a user interface for a Full Stack Application acting as the OM Authority. It just depends if this gets completed, hosted and remains online at the time you are taking this course.\n",
    "\n",
    "#### The code for the Full Stack Application can be found here: https://github.com/wip-abramson/fpc-om-authority-aries-application\n",
    "\n",
    "#### The Full Stack Application should be running here: <some location to be confirmed>\n",
    "    \n",
    "If the application is not accessible you can either attempt to run the Full Stack App from the code linked above. Or you can run through these notebooks to issue the Data Scientist and Data Owner the relevant credentials.\n",
    "    \n",
    "These notebooks are designed to replicate much of the logic used in the Full Stack Application.\n",
    "    \n",
    "#### Also Note: If running the OM Authority through these notebooks then you should only need to run this notebook once. Use `./manage.sh start` to stop the containers and the state will be persisted\n"
   ]
  },
  {
   "cell_type": "markdown",
   "id": "cf837e2f",
   "metadata": {},
   "source": [
    "### Imports"
   ]
  },
  {
   "cell_type": "code",
   "execution_count": null,
   "id": "68910c0e",
   "metadata": {},
   "outputs": [],
   "source": [
    "from aries_cloudcontroller import AriesAgentController\n",
    "import os\n",
    "from termcolor import colored"
   ]
  },
  {
   "cell_type": "markdown",
   "id": "5cbe57d1",
   "metadata": {},
   "source": [
    "### Initialise the Agent Controller"
   ]
  },
  {
   "cell_type": "code",
   "execution_count": null,
   "id": "5251686d",
   "metadata": {},
   "outputs": [],
   "source": [
    "api_key = os.getenv(\"ACAPY_ADMIN_API_KEY\")\n",
    "admin_url = os.getenv(\"ADMIN_URL\")\n",
    "\n",
    "print(\n",
    "    f\"Initialising a controller with admin api at {admin_url} and an api key of {api_key}\"\n",
    ")\n",
    "agent_controller = AriesAgentController(admin_url, api_key)"
   ]
  },
  {
   "cell_type": "markdown",
   "id": "67d0ab61",
   "metadata": {},
   "source": [
    "## Write DID to the Public Ledger\n",
    "\n",
    "Note: if defined a ACAPY_WALLET_SEED value for your agent then this function will return a DID, but this DID still needs to be written to the ledger. If you did not define a seed you will need to create a DID first."
   ]
  },
  {
   "cell_type": "code",
   "execution_count": null,
   "id": "c2022b2d",
   "metadata": {},
   "outputs": [],
   "source": [
    "public_did_response = await agent_controller.wallet.get_public_did()"
   ]
  },
  {
   "cell_type": "code",
   "execution_count": null,
   "id": "99e93516",
   "metadata": {},
   "outputs": [],
   "source": [
    "if public_did_response[\"result\"]:\n",
    "    did_obj = public_did_response[\"result\"]\n",
    "else:\n",
    "    create_did_response = await agent_controller.wallet.create_did()\n",
    "    did_obj = create_did_response[\"result\"]\n",
    "print(\"DID\", did_obj)"
   ]
  },
  {
   "cell_type": "code",
   "execution_count": null,
   "id": "e30ccd70",
   "metadata": {},
   "outputs": [],
   "source": [
    "# write new DID to Sovrin Stagingnet\n",
    "import requests\n",
    "import json\n",
    "\n",
    "url = \"https://selfserve.sovrin.org/nym\"\n",
    "\n",
    "payload = {\n",
    "    \"network\": \"stagingnet\",\n",
    "    \"did\": did_obj[\"did\"],\n",
    "    \"verkey\": did_obj[\"verkey\"],\n",
    "    \"paymentaddr\": \"\",\n",
    "}\n",
    "\n",
    "# Adding empty header as parameters are being sent in payload\n",
    "headers = {}\n",
    "\n",
    "r = requests.post(url, data=json.dumps(payload), headers=headers)\n",
    "print(r.json())"
   ]
  },
  {
   "cell_type": "markdown",
   "id": "93daa6c1",
   "metadata": {},
   "source": [
    "## Accept Transaction Author Agreement\n",
    "\n",
    "Although the Sovrin StagingNet is permissionless, before DID's have the authority to write to the ledger they must accept something called a transaction author agreement by signing it using the DID they have on the ledger.\n",
    "\n",
    "As a global public ledger, the Sovrin Ledger and all its participants are subject to privacy and data protection regulations such as the EU General Data Protection Regulation (GDPR). These regulations require that the participants be explicit about responsibilities for Personal Data.\n",
    "\n",
    "To clarify these responsibilities and provide protection for all parties, the Sovrin Governance Framework Working Group developed an agreement between Transaction Authors and the Sovrin Foundation. The TAA can be found at [Sovrin.org](https://Sovrin.org). It ensures that users are aware of and consent to the fact that all data written to the Sovrin Ledger cannot be removed, even if the original author of the transaction requests its removal.\n",
    "\n",
    "The TAA outlines the policies that users must follow when interacting with the Sovrin Ledger. When a user’s client software is preparing a transaction for submission to the network, it must include a demonstration that the user had the opportunity to review the current TAA and accept it. This is done by including some additional fields in the ledger write transaction: \n",
    "\n",
    "* A hash of the agreement\n",
    "* A date when the agreement was accepted\n",
    "* A string indicating the user interaction that was followed to obtain the acceptance\n",
    "\n",
    "The Indy client API used by Sovrin has been extended to allow users to review current and past agreements and to indicate acceptance through an approved user interaction pattern. - source: https://sovrin.org/preparing-for-the-sovrin-transaction-author-agreement/\n",
    "\n",
    "For more details on TAA please read more at the following links:\n",
    "* [Preparing for the Sovrin Transaction Author Agreement](https://sovrin.org/preparing-for-the-sovrin-transaction-author-agreement/)\n",
    "* [How the recent approval of the Sovrin Governance Framework v2 affects Transaction Authors\n",
    "](https://sovrin.org/how-the-recent-approval-of-the-sovrin-governance-framework-v2-affects-transaction-authors/)\n",
    "* [TAA v2](https://github.com/sovrin-foundation/sovrin/blob/master/TAA/TAA.md)\n",
    "* [TAA Acceptance Mechanism List (AML)](https://github.com/sovrin-foundation/sovrin/blob/master/TAA/AML.md)"
   ]
  },
  {
   "cell_type": "code",
   "execution_count": null,
   "id": "a69eef6e",
   "metadata": {},
   "outputs": [],
   "source": [
    "taa_response = await agent_controller.ledger.get_taa()\n",
    "TAA = taa_response[\"result\"][\"taa_record\"]\n",
    "TAA[\"mechanism\"] = \"service_agreement\"\n",
    "await agent_controller.ledger.accept_taa(TAA)"
   ]
  },
  {
   "cell_type": "markdown",
   "id": "786db640",
   "metadata": {},
   "source": [
    "## Assign Agent Public DID if Not Set\n",
    "\n",
    "Will only be ran if ACAPY_WALLET_SEED not initially set."
   ]
  },
  {
   "cell_type": "code",
   "execution_count": null,
   "id": "08dca75e",
   "metadata": {},
   "outputs": [],
   "source": [
    "if did_obj[\"posture\"] != \"public\":\n",
    "    response = await agent_controller.wallet.assign_public_did(did_obj[\"did\"])\n",
    "print(\"Successfully intialised agent with Public DID : \", did_obj[\"did\"])"
   ]
  },
  {
   "cell_type": "markdown",
   "id": "619e00b4",
   "metadata": {},
   "source": [
    "## Identifying Schema to Use\n",
    "\n",
    "These are the same schema used for the previous set of notebooks in the public key infrastructures course"
   ]
  },
  {
   "cell_type": "code",
   "execution_count": null,
   "id": "34c3c2f1",
   "metadata": {},
   "outputs": [],
   "source": [
    "# Copy these for the next notebook 👇🏾\n",
    "\n",
    "data_scientist_schema_id = \"Sgg1wREgfEwbEPCQn9xEuE:2:OM Data Scientist:0.0.1\"\n",
    "data_owner_schema_id = \"Sgg1wREgfEwbEPCQn9xEuE:2:OM Data Owner:0.0.1\""
   ]
  },
  {
   "cell_type": "markdown",
   "id": "60bb628f",
   "metadata": {},
   "source": [
    "## Writing Credential Definitions\n",
    "\n",
    "For all schema you intend to issue credentials against your agent must author a credential definition transaction to the public ledger. This specifies the public cryptographic material your agent will use to sign all credentials issued against a specific schema. "
   ]
  },
  {
   "cell_type": "code",
   "execution_count": null,
   "id": "dbd95564",
   "metadata": {},
   "outputs": [],
   "source": [
    "cred_def_response = await agent_controller.definitions.write_cred_def(\n",
    "    data_scientist_schema_id\n",
    ")\n",
    "data_scientist_cred_def_id = cred_def_response[\"credential_definition_id\"]"
   ]
  },
  {
   "cell_type": "code",
   "execution_count": null,
   "id": "ab05e8d0",
   "metadata": {},
   "outputs": [],
   "source": [
    "cred_def_response = await agent_controller.definitions.write_cred_def(\n",
    "    data_owner_schema_id\n",
    ")\n",
    "data_owner_cred_def_id = cred_def_response[\"credential_definition_id\"]"
   ]
  },
  {
   "cell_type": "markdown",
   "id": "d521ace3",
   "metadata": {},
   "source": [
    "## Copy Across Credential Definitions to the om_authority_issue.ipynb file\n"
   ]
  },
  {
   "cell_type": "code",
   "execution_count": null,
   "id": "65eb1f55",
   "metadata": {},
   "outputs": [],
   "source": [
    "print(\"Copy these for the next notebook 👇🏾\\n\")\n",
    "\n",
    "print(f'data_scientist_cred_def_id = \"${data_scientist_cred_def_id}\"')\n",
    "print(f'data_owner_cred_def_id = \"${data_owner_cred_def_id}\"')"
   ]
  },
  {
   "cell_type": "markdown",
   "id": "e86800c7",
   "metadata": {},
   "source": [
    "## Terminate Controller\n"
   ]
  },
  {
   "cell_type": "code",
   "execution_count": null,
   "id": "18590ccb",
   "metadata": {},
   "outputs": [],
   "source": [
    "await agent_controller.terminate()"
   ]
  },
  {
   "cell_type": "code",
   "execution_count": null,
   "id": "bdf0767d",
   "metadata": {},
   "outputs": [],
   "source": []
  }
 ],
 "metadata": {
  "kernelspec": {
   "display_name": "Python 3",
   "language": "python",
   "name": "python3"
  },
  "language_info": {
   "codemirror_mode": {
    "name": "ipython",
    "version": 3
   },
   "file_extension": ".py",
   "mimetype": "text/x-python",
   "name": "python",
   "nbconvert_exporter": "python",
   "pygments_lexer": "ipython3",
   "version": "3.8.5"
  }
 },
 "nbformat": 4,
 "nbformat_minor": 5
}
