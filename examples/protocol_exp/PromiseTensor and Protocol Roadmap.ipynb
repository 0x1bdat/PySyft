{
 "cells": [
  {
   "cell_type": "code",
   "execution_count": 1,
   "metadata": {},
   "outputs": [
    {
     "name": "stderr",
     "output_type": "stream",
     "text": [
      "Falling back to insecure randomness since the required custom op could not be found for the installed version of TensorFlow. Fix this by compiling custom ops. Missing file was '/Users/mshang/Desktop/dev_env/openMined/PySyft/venv/lib/python3.7/site-packages/tf_encrypted/operations/secure_random/secure_random_module_tf_1.15.0.so'\n"
     ]
    },
    {
     "name": "stdout",
     "output_type": "stream",
     "text": [
      "WARNING:tensorflow:From /Users/mshang/Desktop/dev_env/openMined/PySyft/venv/lib/python3.7/site-packages/tf_encrypted/session.py:24: The name tf.Session is deprecated. Please use tf.compat.v1.Session instead.\n",
      "\n"
     ]
    }
   ],
   "source": [
    "import syft as sy\n",
    "import torch as th\n",
    "\n",
    "#!pip install -e . ## install local editable copy\n",
    "\n",
    "%load_ext autoreload\n",
    "%autoreload 2"
   ]
  },
  {
   "cell_type": "code",
   "execution_count": 2,
   "metadata": {},
   "outputs": [
    {
     "name": "stdout",
     "output_type": "stream",
     "text": [
      "Name: syft\r\n",
      "Version: 0.2.1a1\r\n",
      "Summary: A Library for Private, Secure Deep Learning\r\n",
      "Home-page: https://github.com/OpenMined/PySyft\r\n",
      "Author: Andrew Trask\r\n",
      "Author-email: contact@openmined.org\r\n",
      "License: Apache-2.0\r\n",
      "Location: /Users/mshang/Desktop/dev_env/openMined/PySyft\r\n",
      "Requires: Flask, flask-socketio, syft-proto, lz4, msgpack, numpy, tblib, torch, torchvision, websocket-client, websockets, zstd, phe\r\n",
      "Required-by: \r\n"
     ]
    }
   ],
   "source": [
    "# verify is using local editable copy\n",
    "!pip show syft"
   ]
  },
  {
   "cell_type": "code",
   "execution_count": 2,
   "metadata": {},
   "outputs": [],
   "source": [
    "hook = sy.TorchHook(th)\n",
    "hook.local_worker.is_client_worker = False"
   ]
  },
  {
   "cell_type": "code",
   "execution_count": 31,
   "metadata": {},
   "outputs": [
    {
     "ename": "NameError",
     "evalue": "name 'plan' is not defined",
     "output_type": "error",
     "traceback": [
      "\u001b[0;31m---------------------------------------------------------------------------\u001b[0m",
      "\u001b[0;31mNameError\u001b[0m                                 Traceback (most recent call last)",
      "\u001b[0;32m<ipython-input-31-9d590745c4d2>\u001b[0m in \u001b[0;36m<module>\u001b[0;34m\u001b[0m\n\u001b[0;32m----> 1\u001b[0;31m \u001b[0;34m@\u001b[0m\u001b[0mplan\u001b[0m\u001b[0;34m(\u001b[0m\u001b[0msy\u001b[0m\u001b[0;34m.\u001b[0m\u001b[0mplaceholder\u001b[0m\u001b[0;34m.\u001b[0m\u001b[0mFloatTensor\u001b[0m\u001b[0;34m(\u001b[0m\u001b[0;36m2\u001b[0m\u001b[0;34m,\u001b[0m\u001b[0;36m3\u001b[0m\u001b[0;34m)\u001b[0m\u001b[0;34m,\u001b[0m \u001b[0msy\u001b[0m\u001b[0;34m.\u001b[0m\u001b[0mplaceholder\u001b[0m\u001b[0;34m.\u001b[0m\u001b[0mFloatTensor\u001b[0m\u001b[0;34m(\u001b[0m\u001b[0;34m(\u001b[0m\u001b[0;36m3\u001b[0m\u001b[0;34m,\u001b[0m\u001b[0;36m5\u001b[0m\u001b[0;34m)\u001b[0m\u001b[0;34m)\u001b[0m\u001b[0;34m)\u001b[0m\u001b[0;34m\u001b[0m\u001b[0;34m\u001b[0m\u001b[0m\n\u001b[0m\u001b[1;32m      2\u001b[0m \u001b[0;32mdef\u001b[0m \u001b[0mmy_plan\u001b[0m\u001b[0;34m(\u001b[0m\u001b[0marg_1\u001b[0m\u001b[0;34m,\u001b[0m \u001b[0marg_2\u001b[0m\u001b[0;34m)\u001b[0m\u001b[0;34m:\u001b[0m\u001b[0;34m\u001b[0m\u001b[0;34m\u001b[0m\u001b[0m\n\u001b[1;32m      3\u001b[0m     \u001b[0moutput\u001b[0m \u001b[0;34m=\u001b[0m \u001b[0marg_1\u001b[0m \u001b[0;34m+\u001b[0m \u001b[0marg_2\u001b[0m\u001b[0;34m\u001b[0m\u001b[0;34m\u001b[0m\u001b[0m\n\u001b[1;32m      4\u001b[0m     \u001b[0;32mreturn\u001b[0m \u001b[0moutput\u001b[0m\u001b[0;34m\u001b[0m\u001b[0;34m\u001b[0m\u001b[0m\n\u001b[1;32m      5\u001b[0m \u001b[0;34m\u001b[0m\u001b[0m\n",
      "\u001b[0;31mNameError\u001b[0m: name 'plan' is not defined"
     ]
    }
   ],
   "source": [
    "@plan(sy.placeholder.FloatTensor(2,3), sy.placeholder.FloatTensor((3,5)))\n",
    "def my_plan(arg_1, arg_2):\n",
    "    output = arg_1 + arg_2\n",
    "    return output\n",
    "\n",
    "plan_ptr = my_plan.send(bob)"
   ]
  },
  {
   "cell_type": "code",
   "execution_count": null,
   "metadata": {},
   "outputs": [],
   "source": [
    "'''experimental code'''"
   ]
  },
  {
   "cell_type": "code",
   "execution_count": 3,
   "metadata": {},
   "outputs": [
    {
     "name": "stdout",
     "output_type": "stream",
     "text": [
      "n obj before 0\n",
      "34 promise messaging 1 <VirtualWorker id:test #objects:0> 2 None\n",
      "n obj after 1\n",
      "owner is None\n",
      "34 promise messaging 1 <VirtualWorker id:me #objects:0> 2 torch.FloatTensor\n",
      "r ======> (Wrapper)>[PromiseTensor(me:73906466585) -future-> type: FloatTensor -blocking-> plans: None plans]\n",
      "test ======> <VirtualWorker id:test #objects:1>\n"
     ]
    }
   ],
   "source": [
    "\n",
    "'''MVP for init promise tensor on worker'''\n",
    "\n",
    "# TODOS: \n",
    "# 1. fix \"multiple values for shape error\" when doing test.promise_tensor().FloatTensor(shape=th.Size((3, 3))\n",
    "\n",
    "test = sy.VirtualWorker(hook=hook, id=\"test\")\n",
    "test2 = sy.VirtualWorker(hook=hook, id=\"test2\")\n",
    "\n",
    "r = test.promise_tensor().FloatTensor()\n",
    "print('r ======>', r)\n",
    "print('test ======>', test)"
   ]
  },
  {
   "cell_type": "code",
   "execution_count": 27,
   "metadata": {},
   "outputs": [],
   "source": [
    "# print(test._objects)\n"
   ]
  },
  {
   "cell_type": "code",
   "execution_count": 34,
   "metadata": {},
   "outputs": [
    {
     "data": {
      "text/plain": [
       "tensor([[1., 1., 1.],\n",
       "        [1., 1., 1.],\n",
       "        [1., 1., 1.]])"
      ]
     },
     "execution_count": 34,
     "metadata": {},
     "output_type": "execute_result"
    }
   ],
   "source": [
    "r.keep(th.ones((3,3)))"
   ]
  },
  {
   "cell_type": "code",
   "execution_count": 30,
   "metadata": {},
   "outputs": [
    {
     "name": "stdout",
     "output_type": "stream",
     "text": [
      "owner is None\n",
      "34 promise messaging 1 <VirtualWorker id:me #objects:185> 2 torch.FloatTensor\n",
      "native send tensor([1, 2, 3, 4, 5]) <VirtualWorker id:test #objects:32>\n",
      "native, self.owner <VirtualWorker id:me #objects:187> True\n",
      "native send (Wrapper)>[PromiseTensor(me:63927114088) -future-> type: FloatTensor -blocking-> plans: None plans] <VirtualWorker id:test #objects:33>\n",
      "native, self.owner <VirtualWorker id:me #objects:189> False\n",
      "49 ter-promise prints shape torch.Size([3, 3])\n",
      "49 ter-promise prints shape torch.Size([3, 3])\n",
      "34 promise messaging 1 <VirtualWorker id:test #objects:33> 2 torch.FloatTensor\n",
      "*** float | promise pointers (Wrapper)>[PointerTensor | me:49561174820 -> test:87568417193] (Wrapper)>[PointerTensor | me:60492009153 -> test:63927114088]\n",
      "ptr tensor.move tensor([1, 2, 3, 4, 5]) <VirtualWorker id:test #objects:34> False\n",
      "*** moved float tensor pointer (Wrapper)>[PointerTensor | me:10415619875 -> test2:49561174820]\n",
      "ptr tensor.move (Wrapper)>[PromiseTensor(test:63927114088) -future-> type: FloatTensor -blocking-> plans: None plans] <VirtualWorker id:test #objects:33> True\n",
      "location <VirtualWorker id:test2 #objects:23> <VirtualWorker id:test #objects:33>\n",
      "n obj before 33\n",
      "34 promise messaging 1 <VirtualWorker id:test #objects:33> 2 None\n",
      "n obj after 34\n",
      "owner is None\n",
      "34 promise messaging 1 <VirtualWorker id:me #objects:193> 2 torch.FloatTensor\n",
      "new_promise (Wrapper)>[PromiseTensor(me:24332441721) -future-> type: FloatTensor -blocking-> plans: None plans]\n",
      "native send (Wrapper)>[PromiseTensor(me:24332441721) -future-> type: FloatTensor -blocking-> plans: None plans] <VirtualWorker id:test2 #objects:23>\n",
      "native, self.owner <VirtualWorker id:me #objects:194> False\n",
      "49 ter-promise prints shape [PromiseTensor(test:84483374179) -future-> type: None -blocking-> plans: None plans]\n",
      "49 ter-promise prints shape [PromiseTensor(test:84483374179) -future-> type: None -blocking-> plans: None plans]\n",
      "49 ter-promise prints shape None\n",
      "34 promise messaging 1 <VirtualWorker id:test2 #objects:23> 2 None\n",
      "34 promise messaging 1 <VirtualWorker id:test2 #objects:23> 2 torch.FloatTensor\n",
      "new_ptr (Wrapper)>[PointerTensor | me:97355788473 -> test2:24332441721]\n",
      "*** moved/extended promise_pointr (Wrapper)>(Wrapper)>[PointerTensor | me:97355788473 -> test2:24332441721]\n",
      "=================\n",
      "{45678262234: [PromiseTensor(test:45678262234) -future-> type: None -blocking-> plans: None plans], 94841997164: [PromiseTensor(test:94841997164) -future-> type: None -blocking-> plans: None plans], 93827561666: [PromiseTensor(test:93827561666) -future-> type: None -blocking-> plans: None plans], 33001980110: [PromiseTensor(test:33001980110) -future-> type: None -blocking-> plans: None plans], 25039812603: (Wrapper)>[PromiseTensor(test:25039812603) -future-> type: FloatTensor -blocking-> plans: None plans], 38056702279: [PromiseTensor(test:38056702279) -future-> type: None -blocking-> plans: None plans], 61357781960: (Wrapper)>[PromiseTensor(test:61357781960) -future-> type: FloatTensor -blocking-> plans: None plans], 15416674064: [PromiseTensor(test:15416674064) -future-> type: None -blocking-> plans: None plans], 95672084623: (Wrapper)>[PromiseTensor(test:95672084623) -future-> type: FloatTensor -blocking-> plans: None plans], 93877108322: [PromiseTensor(test:93877108322) -future-> type: None -blocking-> plans: None plans], 62986271926: (Wrapper)>[PromiseTensor(test:62986271926) -future-> type: FloatTensor -blocking-> plans: None plans], 82399399811: [PromiseTensor(test:82399399811) -future-> type: None -blocking-> plans: None plans], 77985383436: (Wrapper)>[PromiseTensor(test:77985383436) -future-> type: FloatTensor -blocking-> plans: None plans], 38747199072: [PromiseTensor(test:38747199072) -future-> type: None -blocking-> plans: None plans], 26548811008: (Wrapper)>[PromiseTensor(test:26548811008) -future-> type: FloatTensor -blocking-> plans: None plans], 18387025200: [PromiseTensor(test:18387025200) -future-> type: None -blocking-> plans: None plans], 78148625654: (Wrapper)>[PromiseTensor(test:78148625654) -future-> type: FloatTensor -blocking-> plans: None plans], 78441427478: [PromiseTensor(test:78441427478) -future-> type: None -blocking-> plans: None plans], 58424966272: (Wrapper)>[PromiseTensor(test:58424966272) -future-> type: FloatTensor -blocking-> plans: None plans], 32127630146: [PromiseTensor(test:32127630146) -future-> type: None -blocking-> plans: None plans], 61178165519: (Wrapper)>[PromiseTensor(test:61178165519) -future-> type: FloatTensor -blocking-> plans: None plans], 4148125175: [PromiseTensor(test:4148125175) -future-> type: None -blocking-> plans: None plans], 10288466189: tensor([1, 2, 3, 4, 5]), 45720095: tensor([1, 2, 3, 4, 5]), 50293908281: tensor([1, 2, 3, 4, 5]), 680732510: tensor([1, 2, 3, 4, 5]), 49041277967: (Wrapper)>[PromiseTensor(test:49041277967) -future-> type: FloatTensor -blocking-> plans: None plans], 3801802496: [PromiseTensor(test:3801802496) -future-> type: None -blocking-> plans: None plans], 44396322112: (Wrapper)>[PromiseTensor(test:44396322112) -future-> type: FloatTensor -blocking-> plans: None plans], 17498538094: [PromiseTensor(test:17498538094) -future-> type: None -blocking-> plans: None plans], 54921414787: [PromiseTensor(test:54921414787) -future-> type: None -blocking-> plans: None plans], 47784954019: [PromiseTensor(test:47784954019) -future-> type: None -blocking-> plans: None plans], 84483374179: [PromiseTensor(test:84483374179) -future-> type: None -blocking-> plans: None plans]}\n",
      "=================\n",
      "{1399402099: tensor([1, 2, 3, 4, 5]), 32038266388: (Wrapper)>[PromiseTensor(test2:32038266388) -future-> type: FloatTensor -blocking-> plans: None plans], 50890880320: tensor([1, 2, 3, 4, 5]), 81219188173: (Wrapper)>[PromiseTensor(test2:81219188173) -future-> type: FloatTensor -blocking-> plans: None plans], 58671384051: tensor([1, 2, 3, 4, 5]), 78297738676: (Wrapper)>[PromiseTensor(test2:78297738676) -future-> type: FloatTensor -blocking-> plans: None plans], 57175766344: tensor([1, 2, 3, 4, 5]), 76743815374: tensor([1, 2, 3, 4, 5]), 85095216823: tensor([1, 2, 3, 4, 5]), 24081176245: tensor([1, 2, 3, 4, 5]), 13177054824: tensor([1, 2, 3, 4, 5]), 90281094557: tensor([1, 2, 3, 4, 5]), 14503593768: tensor([1, 2, 3, 4, 5]), 38798694044: tensor([1, 2, 3, 4, 5]), 27938947860: tensor([1, 2, 3, 4, 5]), 32272798408: tensor([1, 2, 3, 4, 5]), 58509118119: tensor([1, 2, 3, 4, 5]), 15868437858: tensor([1, 2, 3, 4, 5]), 60444109147: tensor([1, 2, 3, 4, 5]), 99306038266: (Wrapper)>[PromiseTensor(test2:99306038266) -future-> type: FloatTensor -blocking-> plans: None plans], 27265258974: tensor([1, 2, 3, 4, 5]), 86732150843: (Wrapper)>[PromiseTensor(test2:86732150843) -future-> type: FloatTensor -blocking-> plans: None plans], 49561174820: tensor([1, 2, 3, 4, 5]), 24332441721: (Wrapper)>[PromiseTensor(test2:24332441721) -future-> type: FloatTensor -blocking-> plans: None plans]}\n"
     ]
    }
   ],
   "source": [
    "\n",
    "'''MVP for move extends computational graph '''\n",
    "# TODOS: \n",
    "# 1. make it work a promise tensor initated on worker\n",
    "# 2. change method to extend instead of move and doing hacky promise type check\n",
    "# 3. original promise tensor should point to new promise tensor when calling extend. \n",
    "#    i.e. PT(1)@Obj1 => call extend to obj2 => pointerToPT1 at location obj1, PT1@obj2\n",
    "\n",
    "\n",
    "\n",
    "promise_tensor = sy.Promise.FloatTensor(shape=th.Size((3, 3)))\n",
    "floaty =  th.tensor([1,2,3,4,5])\n",
    "\n",
    "floaty_ptr = floaty.send(test)\n",
    "promise_ptr =promise_tensor.send(test)\n",
    "\n",
    "print('*** float | promise pointers', floaty_ptr, promise_ptr)\n",
    "\n",
    "print('*** moved float tensor pointer', floaty_ptr.move(test2))\n",
    "print('*** moved/extended promise_pointr', promise_ptr.move(test2))\n",
    "\n",
    "print('=================')\n",
    "print(test._objects)\n",
    "print('=================')\n",
    "print(test2._objects)"
   ]
  },
  {
   "cell_type": "code",
   "execution_count": 16,
   "metadata": {},
   "outputs": [
    {
     "data": {
      "text/plain": [
       "'end of experimental code'"
      ]
     },
     "execution_count": 16,
     "metadata": {},
     "output_type": "execute_result"
    }
   ],
   "source": [
    "'''end of experimental code'''"
   ]
  },
  {
   "cell_type": "code",
   "execution_count": 8,
   "metadata": {},
   "outputs": [
    {
     "name": "stdout",
     "output_type": "stream",
     "text": [
      "owner is None\n",
      "generic.tensor True\n",
      "generic.tensor is_promise True\n",
      "34 promise messaging 1 <VirtualWorker id:me #objects:11> 2 torch.FloatTensor\n",
      "owner is None\n",
      "generic.tensor True\n",
      "generic.tensor is_promise True\n",
      "34 promise messaging 1 <VirtualWorker id:me #objects:12> 2 torch.FloatTensor\n",
      "(Wrapper)>[PromiseTensor(me:74489990928) -future-> type: FloatTensor -blocking-> plans: None plans]\n",
      "native send\n",
      "49 ter-promise prints shape torch.Size([3, 3])\n",
      "generic.tensor False\n",
      "generic.tensor is_promise False\n",
      "49 ter-promise prints shape torch.Size([3, 3])\n",
      "generic.tensor True\n",
      "generic.tensor is_promise True\n",
      "34 promise messaging 1 <VirtualWorker id:test #objects:3> 2 torch.FloatTensor\n"
     ]
    },
    {
     "ename": "AttributeError",
     "evalue": "'Tensor' object has no attribute 'extend'",
     "output_type": "error",
     "traceback": [
      "\u001b[0;31m---------------------------------------------------------------------------\u001b[0m",
      "\u001b[0;31mAttributeError\u001b[0m                            Traceback (most recent call last)",
      "\u001b[0;32m<ipython-input-8-0f581ba52756>\u001b[0m in \u001b[0;36m<module>\u001b[0;34m\u001b[0m\n\u001b[1;32m      8\u001b[0m \u001b[0;34m\u001b[0m\u001b[0m\n\u001b[1;32m      9\u001b[0m \u001b[0mref\u001b[0m \u001b[0;34m=\u001b[0m \u001b[0ma\u001b[0m\u001b[0;34m.\u001b[0m\u001b[0msend\u001b[0m\u001b[0;34m(\u001b[0m\u001b[0mtest\u001b[0m\u001b[0;34m)\u001b[0m \u001b[0;31m#base def send, inter => native def send\u001b[0m\u001b[0;34m\u001b[0m\u001b[0;34m\u001b[0m\u001b[0m\n\u001b[0;32m---> 10\u001b[0;31m \u001b[0mbref\u001b[0m \u001b[0;34m=\u001b[0m \u001b[0mb\u001b[0m\u001b[0;34m.\u001b[0m\u001b[0mextend\u001b[0m\u001b[0;34m(\u001b[0m\u001b[0mrm\u001b[0m\u001b[0;34m)\u001b[0m\u001b[0;34m\u001b[0m\u001b[0;34m\u001b[0m\u001b[0m\n\u001b[0m",
      "\u001b[0;31mAttributeError\u001b[0m: 'Tensor' object has no attribute 'extend'"
     ]
    }
   ],
   "source": [
    "test = sy.VirtualWorker(hook=hook, id=\"test\")\n",
    "rm = sy.VirtualWorker(hook=hook, id=\"rm\")\n",
    "\n",
    "a = sy.Promise.FloatTensor(shape=th.Size((3, 3)))\n",
    "b = sy.Promise.FloatTensor(shape=th.Size((3, 3)))\n",
    "\n",
    "print(a)\n",
    "\n",
    "ref = a.send(test) #base def send, inter => native def send\n",
    "bref = b.extend(rm)"
   ]
  },
  {
   "cell_type": "code",
   "execution_count": 29,
   "metadata": {},
   "outputs": [
    {
     "name": "stdout",
     "output_type": "stream",
     "text": [
      "(Wrapper)>[PointerTensor | me:79175181073 -> test:17371698329]\n",
      "{75011036619: (Wrapper)>[PromiseTensor(test:75011036619) -future-> FloatTensor -blocking-> 0 plans], 6485164871: (Wrapper)>[PromiseTensor(test:6485164871) -future-> FloatTensor -blocking-> 0 plans], 35378247926: (Wrapper)>[PromiseTensor(test:35378247926) -future-> FloatTensor -blocking-> 0 plans], 50030411072: (Wrapper)>[PromiseTensor(test:50030411072) -future-> FloatTensor -blocking-> 0 plans], 17371698329: (Wrapper)>[PromiseTensor(test:17371698329) -future-> FloatTensor -blocking-> 0 plans]}\n"
     ]
    }
   ],
   "source": [
    "print(ref)\n",
    "print(test._objects)"
   ]
  },
  {
   "cell_type": "code",
   "execution_count": null,
   "metadata": {},
   "outputs": [],
   "source": [
    "x = a.send(bob)"
   ]
  },
  {
   "cell_type": "code",
   "execution_count": 8,
   "metadata": {},
   "outputs": [],
   "source": [
    "president = sy.VirtualWorker(hook=hook, id=\"president\")\n",
    "vice_president = sy.VirtualWorker(hook=hook, id=\"vice_president\")\n",
    "secretary = sy.VirtualWorker(hook=hook, id=\"secretary\")"
   ]
  },
  {
   "cell_type": "code",
   "execution_count": 9,
   "metadata": {},
   "outputs": [
    {
     "ename": "AttributeError",
     "evalue": "'VirtualWorker' object has no attribute 'Promise'",
     "output_type": "error",
     "traceback": [
      "\u001b[0;31m---------------------------------------------------------------------------\u001b[0m",
      "\u001b[0;31mAttributeError\u001b[0m                            Traceback (most recent call last)",
      "\u001b[0;32m<ipython-input-9-a5b15ad5068b>\u001b[0m in \u001b[0;36m<module>\u001b[0;34m\u001b[0m\n\u001b[0;32m----> 1\u001b[0;31m \u001b[0mx\u001b[0m \u001b[0;34m=\u001b[0m \u001b[0mpresident\u001b[0m\u001b[0;34m.\u001b[0m\u001b[0mPromise\u001b[0m\u001b[0;34m.\u001b[0m\u001b[0mFloatTensor\u001b[0m\u001b[0;34m(\u001b[0m\u001b[0;34m(\u001b[0m\u001b[0;36m3\u001b[0m\u001b[0;34m,\u001b[0m\u001b[0;36m5\u001b[0m\u001b[0;34m)\u001b[0m\u001b[0;34m)\u001b[0m\u001b[0;34m\u001b[0m\u001b[0;34m\u001b[0m\u001b[0m\n\u001b[0m\u001b[1;32m      2\u001b[0m \u001b[0my\u001b[0m \u001b[0;34m=\u001b[0m \u001b[0mvice_president\u001b[0m\u001b[0;34m.\u001b[0m\u001b[0mPromise\u001b[0m\u001b[0;34m.\u001b[0m\u001b[0mFloatTensor\u001b[0m\u001b[0;34m(\u001b[0m\u001b[0;34m(\u001b[0m\u001b[0;36m3\u001b[0m\u001b[0;34m,\u001b[0m\u001b[0;36m5\u001b[0m\u001b[0;34m)\u001b[0m\u001b[0;34m)\u001b[0m\u001b[0;34m\u001b[0m\u001b[0;34m\u001b[0m\u001b[0m\n",
      "\u001b[0;31mAttributeError\u001b[0m: 'VirtualWorker' object has no attribute 'Promise'"
     ]
    }
   ],
   "source": [
    "x = president.Promise.FloatTensor((3,5))\n",
    "y = vice_president.Promise.FloatTensor((3,5))"
   ]
  },
  {
   "cell_type": "code",
   "execution_count": 5,
   "metadata": {},
   "outputs": [],
   "source": [
    "x2 = x.move(secretary)\n",
    "y2 = y.move(secretary)"
   ]
  },
  {
   "cell_type": "code",
   "execution_count": 6,
   "metadata": {},
   "outputs": [],
   "source": [
    "z = x2 + y2"
   ]
  },
  {
   "cell_type": "code",
   "execution_count": 7,
   "metadata": {},
   "outputs": [],
   "source": [
    "pres_output = z.move(president)\n",
    "vice_pres_output = z.move(vice_president)"
   ]
  },
  {
   "cell_type": "code",
   "execution_count": null,
   "metadata": {},
   "outputs": [],
   "source": [
    "pres_output.declare_output(0)\n",
    "vice_pres_output.declare_output(0)"
   ]
  },
  {
   "cell_type": "code",
   "execution_count": 8,
   "metadata": {},
   "outputs": [
    {
     "data": {
      "text/plain": [
       "[PointerTensor | me:44509726196 -> secretary:74544206441]"
      ]
     },
     "execution_count": 8,
     "metadata": {},
     "output_type": "execute_result"
    }
   ],
   "source": [
    "x.keep(th.ones((3,5)), keep_id=\"jaw23g23\")\n",
    "y.keep(th.ones((3,5)), keep_id=\"2352351\")\n",
    "\n",
    "# still blocking for both\n",
    "\n",
    "x.keep(th.ones((3,5)), keep_id=\"2352351\") # this execution would finish\n",
    "y.keep(th.ones((3,5)), keep_id=\"jaw23g23\") # this execution would finish"
   ]
  },
  {
   "cell_type": "code",
   "execution_count": null,
   "metadata": {},
   "outputs": [],
   "source": []
  },
  {
   "cell_type": "markdown",
   "metadata": {},
   "source": [
    "### Wishlist:\n",
    "\n",
    "1. initialization of PromiseTensor objects on remote workers\n",
    "2. I want to be able to call .move() on a remote tensor, and instead of it moving the PromiseTensor, I want it to actual extend the PromiseTensor graph across workers. \n",
    "3. I want to be able to call .keep() multiple times.\n",
    "4. I want to be able to call .declare_output() so that sy.Protocol() can know which Promises are each player's output.\n",
    "5. Eliminate need to set \"hook.local_worker.is_client_worker = False\""
   ]
  },
  {
   "cell_type": "code",
   "execution_count": null,
   "metadata": {},
   "outputs": [],
   "source": []
  },
  {
   "cell_type": "code",
   "execution_count": 12,
   "metadata": {},
   "outputs": [],
   "source": [
    "third_party_addition = sy.Protocol(president, vice_president, secretary)"
   ]
  },
  {
   "cell_type": "code",
   "execution_count": 13,
   "metadata": {},
   "outputs": [],
   "source": [
    "trump = sy.VirtualWorker(hook=hook, id=\"Donald Trump\")\n",
    "pence = sy.VirtualWorker(hook=hook, id=\"Mike Pence\")\n",
    "mike = sy.VirtualWorker(hook=hook, id=\"Mike Pompeo\")"
   ]
  },
  {
   "cell_type": "code",
   "execution_count": 15,
   "metadata": {},
   "outputs": [],
   "source": [
    "{\"president\": (x_ptr), \"vice_president\": (y_ptr,)},\n",
    "{\"president\": (pre_output), \"vice_president\": (vp_output)} = third_party_addition.distribute(president=trump, \n",
    "                                                                                   vice_president=pence, \n",
    "                                                                                   secretary=mike)\n",
    "\n",
    "x_ptr.keep(th.tensor([2,3,4,5,6], keep_id=\"123214\").send(trump))\n",
    "y_ptr.keep(th.tensor([1,1,1,1,1], keep_id=\"123214\").send(pence))\n",
    "\n",
    "x_ptr.keep(pre_output.value(\"123214\"), keep_id=\"a23523\")\n",
    "y_ptr.keep(vp_output.value(\"123214\"), keep_id=\"a23523\")"
   ]
  },
  {
   "cell_type": "code",
   "execution_count": null,
   "metadata": {},
   "outputs": [],
   "source": [
    "pointers_to_input_promises = pygrid_node.host(third_party_addition)"
   ]
  }
 ],
 "metadata": {
  "kernelspec": {
   "display_name": "pysyft",
   "language": "python",
   "name": "pysyft"
  },
  "language_info": {
   "codemirror_mode": {
    "name": "ipython",
    "version": 3
   },
   "file_extension": ".py",
   "mimetype": "text/x-python",
   "name": "python",
   "nbconvert_exporter": "python",
   "pygments_lexer": "ipython3",
   "version": "3.7.6"
  }
 },
 "nbformat": 4,
 "nbformat_minor": 4
}
