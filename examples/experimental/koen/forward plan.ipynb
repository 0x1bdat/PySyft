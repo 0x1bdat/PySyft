{
 "cells": [
  {
   "cell_type": "code",
   "execution_count": 1,
   "id": "executed-farmer",
   "metadata": {},
   "outputs": [],
   "source": [
    "%load_ext autoreload\n",
    "%autoreload 2"
   ]
  },
  {
   "cell_type": "code",
   "execution_count": 2,
   "id": "gothic-adjustment",
   "metadata": {},
   "outputs": [],
   "source": [
    "import syft as sy\n",
    "import numpy as np\n",
    "import torch as th\n",
    "from syft import VirtualMachine\n",
    "from pathlib import Path\n",
    "from torchvision import datasets, transforms\n",
    "from syft.core.plan.plan_builder import PLAN_BUILDER_VM, make_plan, build_plan_inputs, ROOT_CLIENT\n",
    "from syft.lib.python.list import List\n",
    "from matplotlib import pyplot as plt\n",
    "from syft import logger\n",
    "from syft.lib.torch.module import ModelExecutor\n",
    "logger.remove()"
   ]
  },
  {
   "cell_type": "code",
   "execution_count": 3,
   "id": "hindu-cliff",
   "metadata": {},
   "outputs": [],
   "source": [
    "# Dataset\n",
    "mnist_path = Path.home() / \".pysyft\" / \"mnist\"\n",
    "mnist_path.mkdir(exist_ok=True, parents=True)\n",
    "\n",
    "mnist_train = datasets.MNIST(str(mnist_path), train=True, download=True,\n",
    "               transform=transforms.Compose([transforms.ToTensor(), transforms.Normalize((0.1307,), (0.3081,))]))\n",
    "\n",
    "mnist_test = datasets.MNIST((mnist_path), train=False, \n",
    "              transform=transforms.Compose([transforms.ToTensor(), transforms.Normalize((0.1307,), (0.3081,))]))\n",
    "\n",
    "train_loader = th.utils.data.DataLoader(mnist_train, batch_size=64, shuffle=True, pin_memory=True)\n",
    "test_loader = th.utils.data.DataLoader(mnist_test, batch_size=1024, shuffle=True, pin_memory=True)"
   ]
  },
  {
   "cell_type": "markdown",
   "id": "musical-wisdom",
   "metadata": {},
   "source": [
    "# define model\n"
   ]
  },
  {
   "cell_type": "code",
   "execution_count": 4,
   "id": "negative-customer",
   "metadata": {},
   "outputs": [],
   "source": [
    "# class NormalModule(th.nn.Module):\n",
    "    \n",
    "#     def __init__(self):\n",
    "#         super().__init__()\n",
    "#         self.p1 = th.nn.Parameter(th.rand(50,50))\n",
    "        \n",
    "#     def fw(self, x):\n",
    "#         out = x @ self.p1\n",
    "#         out.sum().backward()\n",
    "#         print(self.p1.grad)\n",
    "#         return out\n",
    "\n"
   ]
  },
  {
   "cell_type": "code",
   "execution_count": 5,
   "id": "balanced-boost",
   "metadata": {},
   "outputs": [],
   "source": [
    "# mod = NormalModule()"
   ]
  },
  {
   "cell_type": "code",
   "execution_count": 6,
   "id": "beautiful-cricket",
   "metadata": {},
   "outputs": [],
   "source": [
    "# y = mod.fw(th.rand(32,50))"
   ]
  },
  {
   "cell_type": "code",
   "execution_count": 7,
   "id": "logical-zimbabwe",
   "metadata": {},
   "outputs": [],
   "source": [
    "# y.sum().backward()"
   ]
  },
  {
   "cell_type": "code",
   "execution_count": 8,
   "id": "demographic-irish",
   "metadata": {},
   "outputs": [],
   "source": [
    "# mod.p1.grad"
   ]
  },
  {
   "cell_type": "code",
   "execution_count": 9,
   "id": "sitting-pound",
   "metadata": {},
   "outputs": [],
   "source": [
    "class ForwardToPlanConverter(type):\n",
    "    def __call__(cls, *args, **kwargs):\n",
    "        obj = type.__call__(cls, *args, **kwargs)\n",
    "        obj.make_forward_plan()\n",
    "        return obj\n",
    "\n",
    "class SyModule(th.nn.Module, metaclass=ForwardToPlanConverter):\n",
    "    def __init__(self, *args, **kwargs):\n",
    "        super().__init__(*args, **kwargs)\n",
    "        self.building_forward = False\n",
    "        self._parameter_pointers = dict()\n",
    "\n",
    "    def make_forward_plan(self):\n",
    "        if not hasattr(self, \"forward\"):\n",
    "            raise ValueError(\"Missing .forward() method for Module\")\n",
    "        self.building_forward = True\n",
    "        self.forward = make_plan(self.forward)\n",
    "        self.building_forward = False\n",
    "        \n",
    "    def __getattr__(self, name):\n",
    "        # this is __getattr__ instead of __getattribute__ because of the structure of torch.nn.Module\n",
    "        if name in self._parameter_pointers and self.building_forward:\n",
    "            return self._parameter_pointers[name]\n",
    "        \n",
    "        res = super().__getattr__(name)\n",
    "        if isinstance(res, (th.nn.Module, th.nn.Parameter)) and self.building_forward:\n",
    "            res_ptr = res.send(ROOT_CLIENT)\n",
    "            self._parameter_pointers[name] = res_ptr\n",
    "            return res_ptr\n",
    "        else:\n",
    "            return res"
   ]
  },
  {
   "cell_type": "code",
   "execution_count": 10,
   "id": "complex-acceptance",
   "metadata": {},
   "outputs": [],
   "source": [
    "# x = th.nn.Parameter(th.Tensor([1,2])).send(ROOT_CLIENT)"
   ]
  },
  {
   "cell_type": "code",
   "execution_count": 11,
   "id": "sunset-socket",
   "metadata": {},
   "outputs": [],
   "source": [
    "# x.id_at_location"
   ]
  },
  {
   "cell_type": "code",
   "execution_count": 12,
   "id": "silent-thomson",
   "metadata": {},
   "outputs": [],
   "source": [
    "# x @ th.tensor([1,2])"
   ]
  },
  {
   "cell_type": "code",
   "execution_count": 13,
   "id": "expected-wisconsin",
   "metadata": {},
   "outputs": [],
   "source": [
    "# x.grad.get()"
   ]
  },
  {
   "cell_type": "code",
   "execution_count": 14,
   "id": "premium-migration",
   "metadata": {},
   "outputs": [],
   "source": [
    "# class MySyModuleBlock(SyModule):\n",
    "#     def __init__(self):\n",
    "#         super().__init__()\n",
    "#         self.p1 = th.nn.Parameter(th.rand(50,50))\n",
    "#         self.relu1 = th.nn.ReLU()\n",
    "#         self.l2 = th.nn.Linear(50,10)\n",
    "    \n",
    "#     def forward(self, x = th.rand(32, 50)):\n",
    "#         o1 = x @ self.p1\n",
    "#         relu_out = self.relu1(o1)\n",
    "#         out = self.l2(relu_out)\n",
    "#         return out"
   ]
  },
  {
   "cell_type": "code",
   "execution_count": 15,
   "id": "romance-candy",
   "metadata": {},
   "outputs": [],
   "source": [
    "# class MySyModule(SyModule):\n",
    "#     def __init__(self):\n",
    "#         super().__init__()\n",
    "#         self.layer1 = th.nn.Linear(28*28,50)\n",
    "#         self.relu1 = th.nn.ReLU()\n",
    "#         self.layer2 = MySyModuleBlock()\n",
    "    \n",
    "#     def forward(self, x = th.rand(32,28*28)):\n",
    "#         x_reshaped = x.view(-1, 28 * 28)\n",
    "#         o1 = self.layer1(x_reshaped)\n",
    "#         a1 = self.relu1(o1)\n",
    "#         out = self.layer2(x=a1)[0]\n",
    "#         return out"
   ]
  },
  {
   "cell_type": "code",
   "execution_count": 16,
   "id": "imposed-power",
   "metadata": {},
   "outputs": [],
   "source": [
    "class MySyModule(SyModule):\n",
    "    def __init__(self):\n",
    "        super().__init__()\n",
    "        self.layer1 = th.nn.Linear(28*28,10)\n",
    "    \n",
    "    def forward(self, x = th.rand(32,28*28)):\n",
    "        x_reshaped = x.view(-1, 28 * 28)\n",
    "        o1 = self.layer1(x_reshaped)\n",
    "        return o1"
   ]
  },
  {
   "cell_type": "code",
   "execution_count": 17,
   "id": "human-marriage",
   "metadata": {},
   "outputs": [],
   "source": [
    "x = MySyModule()"
   ]
  },
  {
   "cell_type": "code",
   "execution_count": 18,
   "id": "balanced-grace",
   "metadata": {},
   "outputs": [],
   "source": [
    "# model = x.send(ROOT_CLIENT)"
   ]
  },
  {
   "cell_type": "code",
   "execution_count": 19,
   "id": "derived-sender",
   "metadata": {},
   "outputs": [],
   "source": [
    "# for kv in model.state_dict():\n",
    "#     k, v = kv[0], kv[1]\n",
    "#     print(kv.get())\n",
    "#     print(model.__getitem__[kv].get())"
   ]
  },
  {
   "cell_type": "code",
   "execution_count": null,
   "id": "lovely-actress",
   "metadata": {},
   "outputs": [],
   "source": []
  },
  {
   "cell_type": "code",
   "execution_count": null,
   "id": "technological-height",
   "metadata": {},
   "outputs": [],
   "source": []
  },
  {
   "cell_type": "code",
   "execution_count": 20,
   "id": "helpful-craft",
   "metadata": {},
   "outputs": [],
   "source": [
    "# for p in model.state_dict():\n",
    "#     p.data = p.data - lr * p.grad\n",
    "#     print(p.data)"
   ]
  },
  {
   "cell_type": "code",
   "execution_count": 21,
   "id": "accessory-matter",
   "metadata": {},
   "outputs": [],
   "source": [
    "# %debug"
   ]
  },
  {
   "cell_type": "markdown",
   "id": "enabling-sterling",
   "metadata": {},
   "source": [
    "# Train plan"
   ]
  },
  {
   "cell_type": "code",
   "execution_count": 22,
   "id": "incorporate-teens",
   "metadata": {},
   "outputs": [],
   "source": [
    "dummy_dl = sy.lib.python.List([\n",
    "    [th.rand([32,1,28,28]), th.randint(0,10, (32,))] for _ in range(1)\n",
    "])"
   ]
  },
  {
   "cell_type": "code",
   "execution_count": 23,
   "id": "compressed-renewal",
   "metadata": {},
   "outputs": [],
   "source": [
    "remote_torch = ROOT_CLIENT.torch"
   ]
  },
  {
   "cell_type": "code",
   "execution_count": 24,
   "id": "boring-spending",
   "metadata": {},
   "outputs": [],
   "source": [
    "def cross_entropy_loss(logits, targets, batch_size):\n",
    "    norm_logits = logits - logits.max()\n",
    "    log_probs = norm_logits - norm_logits.exp().sum(dim=1, keepdim=True).log()\n",
    "    return -(targets * log_probs).sum() / batch_size\n"
   ]
  },
  {
   "cell_type": "code",
   "execution_count": 25,
   "id": "brown-species",
   "metadata": {},
   "outputs": [],
   "source": [
    "def sgd_step(model, lr=0.1):\n",
    "    with ROOT_CLIENT.torch.no_grad():\n",
    "        i=0\n",
    "        for p in model.parameters():\n",
    "            p.data = p.data - lr * p.grad\n",
    "            print(p)\n",
    "#             y = th.zeros_like(p.grad.get())\n",
    "#             print(y)\n",
    "#             exit()\n",
    "            if i ==0:\n",
    "                p.grad = th.zeros(10,784)\n",
    "            else:\n",
    "                p.grad = th.zeros(10)\n",
    "            i+=1"
   ]
  },
  {
   "cell_type": "code",
   "execution_count": 26,
   "id": "accomplished-passion",
   "metadata": {},
   "outputs": [],
   "source": [
    "# def train(xs = th.rand([64*3, 1, 28, 28]), ys = th.randint(0, 10, [64*3, 10]),\n",
    "#           model = MySyModule()):"
   ]
  },
  {
   "cell_type": "code",
   "execution_count": 27,
   "id": "downtown-bronze",
   "metadata": {
    "scrolled": false
   },
   "outputs": [],
   "source": [
    "@make_plan\n",
    "def train(dl = dummy_dl, model = MySyModule()):\n",
    "#     loss_fn = remote_torch.nn.CrossEntropyLoss()\n",
    "    optimizer = remote_torch.optim.SGD(model.parameters(), lr=1e-1, momentum=0)\n",
    "\n",
    "#     for i in range(1):\n",
    "#         indices = th.tensor(range(64*i, 64*(i+1)))\n",
    "#         x, y = xs.index_select(0, indices), ys.index_select(0, indices)\n",
    "#         out = model.forward(x=x)[0]\n",
    "#         loss = cross_entropy_loss(out, y, 32)\n",
    "#         loss.backward()\n",
    "#         sgd_step(model)\n",
    "\n",
    "    for xy in dl:\n",
    "#         optimizer.zero_grad()\n",
    "        x, y = xy[0], xy[1]\n",
    "        out = model.forward(x=x)[0]\n",
    "        loss = remote_torch.nn.functional.nll_loss(out, y)\n",
    "#         loss = loss_fn(out, y)\n",
    "        loss.backward()\n",
    "        optimizer.step()\n",
    "    \n",
    "    return [model]"
   ]
  },
  {
   "cell_type": "code",
   "execution_count": 28,
   "id": "under-genesis",
   "metadata": {},
   "outputs": [],
   "source": [
    "# %debug"
   ]
  },
  {
   "cell_type": "code",
   "execution_count": 29,
   "id": "rocky-patio",
   "metadata": {},
   "outputs": [],
   "source": [
    "# %debug"
   ]
  },
  {
   "cell_type": "code",
   "execution_count": 30,
   "id": "imposed-issue",
   "metadata": {},
   "outputs": [],
   "source": [
    "# train.actions"
   ]
  },
  {
   "cell_type": "code",
   "execution_count": 31,
   "id": "formed-greensboro",
   "metadata": {},
   "outputs": [],
   "source": [
    "# alice_client = VirtualMachine(name=\"alice\").get_client()\n",
    "# train_ptr = train.send(alice_client)\n",
    "# local_model = MySyModule()"
   ]
  },
  {
   "cell_type": "code",
   "execution_count": 32,
   "id": "strange-mayor",
   "metadata": {},
   "outputs": [],
   "source": [
    "# list(local_model.parameters())[0][0][:5]"
   ]
  },
  {
   "cell_type": "code",
   "execution_count": 33,
   "id": "great-keeping",
   "metadata": {},
   "outputs": [],
   "source": [
    "# local_model, = train_ptr(dl=dummy_dl, model=local_model).get()"
   ]
  },
  {
   "cell_type": "code",
   "execution_count": 34,
   "id": "complimentary-thickness",
   "metadata": {},
   "outputs": [],
   "source": [
    "# list(local_model.parameters())[0][0][:5]"
   ]
  },
  {
   "cell_type": "code",
   "execution_count": null,
   "id": "greek-rocket",
   "metadata": {},
   "outputs": [],
   "source": []
  },
  {
   "cell_type": "code",
   "execution_count": 35,
   "id": "piano-wrist",
   "metadata": {},
   "outputs": [],
   "source": [
    "alice_client = VirtualMachine(name=\"alice\").get_client()\n",
    "train_ptr = train.send(alice_client)"
   ]
  },
  {
   "cell_type": "code",
   "execution_count": 36,
   "id": "spatial-speaker",
   "metadata": {},
   "outputs": [],
   "source": [
    "def test(test_loader, model):\n",
    "    correct = []\n",
    "    model.eval()\n",
    "    for data, target in test_loader:\n",
    "        output = model(x=data)[0]\n",
    "        _, pred = th.max(output, 1)\n",
    "        correct.append(th.sum(np.squeeze(pred.eq(target.data.view_as(pred)))))\n",
    "    acc = sum(correct) / len(test_loader.dataset)\n",
    "    return acc"
   ]
  },
  {
   "cell_type": "code",
   "execution_count": 37,
   "id": "experienced-dress",
   "metadata": {},
   "outputs": [],
   "source": [
    "def show_predictions(test_loader, model, n=6):\n",
    "    xs, ys = next(iter(test_loader))\n",
    "    preds = model(x=xs)[0].detach()\n",
    "    \n",
    "    fig, axs = plt.subplots(1, n, sharex='col', sharey='row', figsize=(16, 8))\n",
    "    for i in range(n):\n",
    "        ax = axs[i]\n",
    "        ax.set_xticks([]),ax.set_yticks([])\n",
    "        ax.set_xlabel(f\"prediction: {np.argmax(preds[i])}, actual: {ys[i]}\")\n",
    "        ax.imshow(xs[i].reshape((28, 28)))"
   ]
  },
  {
   "cell_type": "code",
   "execution_count": 38,
   "id": "naughty-swimming",
   "metadata": {},
   "outputs": [],
   "source": [
    "# list(local_model.parameters())[0]"
   ]
  },
  {
   "cell_type": "code",
   "execution_count": 39,
   "id": "precious-admission",
   "metadata": {},
   "outputs": [],
   "source": [
    "# show_predictions(test_loader, local_model)\n",
    "# print(f\"accuracy: {test(test_loader, local_model):.2F}\")"
   ]
  },
  {
   "cell_type": "markdown",
   "id": "damaged-experiment",
   "metadata": {},
   "source": [
    "# Train"
   ]
  },
  {
   "cell_type": "code",
   "execution_count": 40,
   "id": "based-third",
   "metadata": {},
   "outputs": [],
   "source": [
    "# print(list(local_model.parameters())[0][0][:5])"
   ]
  },
  {
   "cell_type": "code",
   "execution_count": 41,
   "id": "dynamic-joint",
   "metadata": {},
   "outputs": [],
   "source": [
    "local_model = MySyModule()"
   ]
  },
  {
   "cell_type": "code",
   "execution_count": 42,
   "id": "polyphonic-round",
   "metadata": {},
   "outputs": [
    {
     "name": "stdout",
     "output_type": "stream",
     "text": [
      "None\n"
     ]
    }
   ],
   "source": [
    "print(list(local_model.parameters())[0].grad)"
   ]
  },
  {
   "cell_type": "code",
   "execution_count": 51,
   "id": "monthly-heath",
   "metadata": {},
   "outputs": [
    {
     "data": {
      "text/plain": [
       "<UID: 43d1c7d81a754829a05e890085d12c84>"
      ]
     },
     "execution_count": 51,
     "metadata": {},
     "output_type": "execute_result"
    }
   ],
   "source": [
    "train.inputs[\"model\"].id_at_location"
   ]
  },
  {
   "cell_type": "code",
   "execution_count": 48,
   "id": "played-vertex",
   "metadata": {},
   "outputs": [
    {
     "data": {
      "text/plain": [
       "[RunClassMethodAction ModulePointer.parameters(, ),\n",
       " SaveObjectAction <Storable: 0.10000000149011612>,\n",
       " SaveObjectAction <Storable: 0>,\n",
       " RunClassMethodAction SGD(ListPointer, lr=FloatPointer,momentum=IntPointer),\n",
       " RunClassMethodAction ListPointer.__len__(, ),\n",
       " RunClassMethodAction ListPointer.__iter__(, ),\n",
       " RunClassMethodAction IteratorPointer.__next__(, ),\n",
       " SaveObjectAction <Storable: 0>,\n",
       " RunClassMethodAction FloatIntStringTensorParameterUnionPointer.__getitem__(IntPointer, ),\n",
       " SaveObjectAction <Storable: 1>,\n",
       " RunClassMethodAction FloatIntStringTensorParameterUnionPointer.__getitem__(IntPointer, ),\n",
       " RunClassMethodAction ModulePointer.forward(, x=AnyPointer),\n",
       " SaveObjectAction <Storable: 0>,\n",
       " RunClassMethodAction TensorPointer.__getitem__(IntPointer, ),\n",
       " RunClassMethodAction nll_loss(TensorPointer,AnyPointer, ),\n",
       " RunClassMethodAction TensorPointer.backward(, ),\n",
       " RunClassMethodAction SGDPointer.step(, )]"
      ]
     },
     "execution_count": 48,
     "metadata": {},
     "output_type": "execute_result"
    }
   ],
   "source": [
    "train.actions"
   ]
  },
  {
   "cell_type": "code",
   "execution_count": 53,
   "id": "sound-fields",
   "metadata": {},
   "outputs": [
    {
     "data": {
      "text/plain": [
       "<UID: 43d1c7d81a754829a05e890085d12c84>"
      ]
     },
     "execution_count": 53,
     "metadata": {},
     "output_type": "execute_result"
    }
   ],
   "source": [
    "train.actions[0]._self.id_at_location"
   ]
  },
  {
   "cell_type": "code",
   "execution_count": null,
   "id": "directed-sunrise",
   "metadata": {},
   "outputs": [],
   "source": []
  },
  {
   "cell_type": "code",
   "execution_count": 47,
   "id": "adapted-tumor",
   "metadata": {},
   "outputs": [
    {
     "data": {
      "text/plain": [
       "[SaveObjectAction <Storable: -1>,\n",
       " SaveObjectAction <Storable: 784>,\n",
       " RunClassMethodAction AnyPointer.view(IntPointer,IntPointer, ),\n",
       " SaveObjectAction <Storable: Linear(in_features=784, out_features=10 ... , bias=True)>,\n",
       " RunClassMethodAction LinearPointer.__call__(TensorPointer, )]"
      ]
     },
     "execution_count": 47,
     "metadata": {},
     "output_type": "execute_result"
    }
   ],
   "source": [
    "local_model.forward.actions"
   ]
  },
  {
   "cell_type": "code",
   "execution_count": null,
   "id": "ancient-permit",
   "metadata": {},
   "outputs": [],
   "source": [
    "res_ptr  = train_ptr(dl=dl, model=local_model)\n"
   ]
  },
  {
   "cell_type": "code",
   "execution_count": 43,
   "id": "modified-table",
   "metadata": {},
   "outputs": [
    {
     "data": {
      "text/plain": [
       "Parameter containing:\n",
       "tensor([[ 0.0139,  0.0127, -0.0037,  ...,  0.0193,  0.0165, -0.0348],\n",
       "        [ 0.0262,  0.0309, -0.0004,  ...,  0.0342,  0.0341, -0.0166],\n",
       "        [ 0.0241, -0.0271,  0.0044,  ...,  0.0099, -0.0231, -0.0232],\n",
       "        ...,\n",
       "        [-0.0154,  0.0040, -0.0244,  ..., -0.0335, -0.0019,  0.0127],\n",
       "        [-0.0140, -0.0159, -0.0108,  ...,  0.0122, -0.0130, -0.0113],\n",
       "        [-0.0301, -0.0329,  0.0227,  ..., -0.0131,  0.0025, -0.0035]],\n",
       "       requires_grad=True)"
      ]
     },
     "execution_count": 43,
     "metadata": {},
     "output_type": "execute_result"
    }
   ],
   "source": [
    "list(local_model.parameters())[0]"
   ]
  },
  {
   "cell_type": "code",
   "execution_count": 44,
   "id": "amateur-shopping",
   "metadata": {},
   "outputs": [],
   "source": [
    "# for i, (x, y) in enumerate(train_loader):\n",
    "# #     ys = th.nn.functional.one_hot(y)\n",
    "# #     xs = x\n",
    "#     dl = [[x,y]]\n",
    "# #     res_ptr  = train_ptr(dl=dl, model=local_model)\n",
    "#     res_ptr  = train_ptr(xs=xs, ys=ys, model=local_model)\n",
    "# #     local_model.zero_grad()\n",
    "#     local_model, = res_ptr.get()\n",
    "# #     set_params(local_model, params)\n",
    "\n",
    "#     if i%10 == 0:\n",
    "# #         print(list(local_model.parameters())[0].grad[0][0:5])\n",
    "#         print(list(local_model.parameters())[0].grad[0][240:250])\n",
    "#         print(list(local_model.parameters())[0][0][:5])\n",
    "#         acc = test(test_loader, local_model)\n",
    "#         print(f\"Iter: {i} Test accuracy: {acc:.2F}\", flush=True)\n",
    "#     if i>20:\n",
    "#         break"
   ]
  },
  {
   "cell_type": "code",
   "execution_count": 45,
   "id": "oriental-radius",
   "metadata": {
    "scrolled": false
   },
   "outputs": [
    {
     "name": "stdout",
     "output_type": "stream",
     "text": [
      "tensor([-0.1740, -0.1726, -0.1693, -0.1877, -0.2428, -0.1887, -0.1052, -0.0235,\n",
      "         0.0398,  0.0398])\n",
      "tensor([ 0.0099,  0.0087, -0.0077, -0.0034, -0.0293], grad_fn=<SliceBackward>)\n"
     ]
    },
    {
     "name": "stderr",
     "output_type": "stream",
     "text": [
      "/Users/koen/workspace/PySyft/src/syft/lib/torch/uppercase_tensor.py:30: UserWarning: The .grad attribute of a Tensor that is not a leaf Tensor is being accessed. Its .grad attribute won't be populated during autograd.backward(). If you indeed want the gradient for a non-leaf Tensor, use .retain_grad() on the non-leaf Tensor. If you access the non-leaf Tensor by mistake, make sure you access the leaf Tensor instead. See github.com/pytorch/pytorch/pull/30531 for more informations.\n",
      "  grad = getattr(obj, \"grad\", None)\n"
     ]
    },
    {
     "name": "stdout",
     "output_type": "stream",
     "text": [
      "Iter: 0 Test accuracy: 0.34\n",
      "tensor([-0.1740, -0.1726, -0.1693, -0.1877, -0.2428, -0.1887, -0.1052, -0.0235,\n",
      "         0.0398,  0.0398])\n",
      "tensor([-0.0299, -0.0311, -0.0475, -0.0432, -0.0691], grad_fn=<SliceBackward>)\n",
      "Iter: 10 Test accuracy: 0.34\n",
      "tensor([-0.1740, -0.1726, -0.1693, -0.1877, -0.2428, -0.1887, -0.1052, -0.0235,\n",
      "         0.0398,  0.0398])\n",
      "tensor([-0.0696, -0.0709, -0.0872, -0.0830, -0.1089], grad_fn=<SliceBackward>)\n",
      "Iter: 20 Test accuracy: 0.34\n"
     ]
    }
   ],
   "source": [
    "for i, (x, y) in enumerate(train_loader):\n",
    "    dl = [[x,y]]\n",
    "    res_ptr  = train_ptr(dl=dl, model=local_model)\n",
    "#     local_model.zero_grad()\n",
    "    local_model, = res_ptr.get()\n",
    "\n",
    "    if i%10 == 0:\n",
    "        print(list(local_model.parameters())[0].grad[0][240:250])\n",
    "        print(list(local_model.parameters())[0][0][:5])\n",
    "        acc = test(test_loader, local_model)\n",
    "        print(f\"Iter: {i} Test accuracy: {acc:.2F}\", flush=True)\n",
    "    if i>20:\n",
    "        break"
   ]
  },
  {
   "cell_type": "code",
   "execution_count": 45,
   "id": "virtual-bonus",
   "metadata": {},
   "outputs": [
    {
     "name": "stdout",
     "output_type": "stream",
     "text": [
      "tensor([ 0.0564,  0.0503,  0.0422,  0.0390,  0.0390,  0.0390,  0.0603,  0.0601,\n",
      "         0.0511,  0.0658,  0.0872,  0.0868, -0.0227, -0.1257, -0.0915, -0.0602,\n",
      "        -0.2632, -0.3236, -0.2641, -0.1850, -0.2224, -0.2277, -0.2891, -0.4306,\n",
      "        -0.4448, -0.2071, -0.0554,  0.0273,  0.0579,  0.0531])\n"
     ]
    }
   ],
   "source": [
    "self.param_groups[0][\"params\"][0].grad[0][240:250]"
   ]
  },
  {
   "cell_type": "code",
   "execution_count": 41,
   "id": "enhanced-probability",
   "metadata": {},
   "outputs": [
    {
     "data": {
      "text/plain": [
       "torch.Size([784])"
      ]
     },
     "execution_count": 41,
     "metadata": {},
     "output_type": "execute_result"
    }
   ],
   "source": [
    "list(local_model.parameters())[0][0].shape"
   ]
  },
  {
   "cell_type": "code",
   "execution_count": 81,
   "id": "eleven-negative",
   "metadata": {},
   "outputs": [],
   "source": [
    "# %debug"
   ]
  },
  {
   "cell_type": "code",
   "execution_count": 83,
   "id": "conservative-merit",
   "metadata": {},
   "outputs": [
    {
     "name": "stdout",
     "output_type": "stream",
     "text": [
      "tensor([0.0352, 0.0421, 0.0192, 0.0494, 0.0243], grad_fn=<SliceBackward>)\n"
     ]
    }
   ],
   "source": [
    "print(list(local_model.parameters())[0][0][:5])"
   ]
  },
  {
   "cell_type": "code",
   "execution_count": 93,
   "id": "advisory-render",
   "metadata": {},
   "outputs": [],
   "source": [
    "local_model.eval()\n",
    "data, target = next(iter(test_loader))"
   ]
  },
  {
   "cell_type": "code",
   "execution_count": 94,
   "id": "ranging-burlington",
   "metadata": {},
   "outputs": [],
   "source": [
    "output = local_model(x=data)[0]\n",
    "_, pred = th.max(output, 1)"
   ]
  },
  {
   "cell_type": "code",
   "execution_count": 95,
   "id": "given-tuesday",
   "metadata": {},
   "outputs": [
    {
     "data": {
      "text/plain": [
       "tensor([9, 9, 1,  ..., 6, 6, 9])"
      ]
     },
     "execution_count": 95,
     "metadata": {},
     "output_type": "execute_result"
    }
   ],
   "source": [
    "pred"
   ]
  },
  {
   "cell_type": "code",
   "execution_count": 85,
   "id": "wrong-separation",
   "metadata": {},
   "outputs": [],
   "source": [
    "# %debug"
   ]
  },
  {
   "cell_type": "code",
   "execution_count": null,
   "id": "improving-checkout",
   "metadata": {},
   "outputs": [],
   "source": []
  },
  {
   "cell_type": "code",
   "execution_count": null,
   "id": "assumed-therapist",
   "metadata": {},
   "outputs": [],
   "source": []
  },
  {
   "cell_type": "code",
   "execution_count": null,
   "id": "czech-active",
   "metadata": {},
   "outputs": [],
   "source": []
  },
  {
   "cell_type": "code",
   "execution_count": null,
   "id": "single-child",
   "metadata": {},
   "outputs": [],
   "source": []
  },
  {
   "cell_type": "code",
   "execution_count": null,
   "id": "parliamentary-indicator",
   "metadata": {},
   "outputs": [],
   "source": []
  },
  {
   "cell_type": "code",
   "execution_count": null,
   "id": "genetic-citizen",
   "metadata": {},
   "outputs": [],
   "source": []
  },
  {
   "cell_type": "code",
   "execution_count": null,
   "id": "lasting-patent",
   "metadata": {},
   "outputs": [],
   "source": []
  },
  {
   "cell_type": "code",
   "execution_count": null,
   "id": "enabling-estonia",
   "metadata": {},
   "outputs": [],
   "source": []
  },
  {
   "cell_type": "code",
   "execution_count": null,
   "id": "further-teaching",
   "metadata": {},
   "outputs": [],
   "source": []
  },
  {
   "cell_type": "code",
   "execution_count": null,
   "id": "spectacular-craft",
   "metadata": {},
   "outputs": [],
   "source": []
  },
  {
   "cell_type": "code",
   "execution_count": null,
   "id": "steady-worcester",
   "metadata": {},
   "outputs": [],
   "source": []
  },
  {
   "cell_type": "code",
   "execution_count": null,
   "id": "polar-repair",
   "metadata": {},
   "outputs": [],
   "source": []
  },
  {
   "cell_type": "code",
   "execution_count": 26,
   "id": "unable-little",
   "metadata": {
    "scrolled": false
   },
   "outputs": [
    {
     "data": {
      "text/plain": [
       "[[tensor([ 0.1378,  0.0570, -0.2406,  0.2745], requires_grad=True)]]"
      ]
     },
     "execution_count": 26,
     "metadata": {},
     "output_type": "execute_result"
    }
   ],
   "source": [
    "x.forward(x=th.rand(8))"
   ]
  },
  {
   "cell_type": "code",
   "execution_count": 71,
   "id": "scenic-marathon",
   "metadata": {},
   "outputs": [
    {
     "data": {
      "text/plain": [
       "'forward'"
      ]
     },
     "execution_count": 71,
     "metadata": {},
     "output_type": "execute_result"
    }
   ],
   "source": [
    "x.forward.__name__"
   ]
  },
  {
   "cell_type": "code",
   "execution_count": 40,
   "id": "floppy-pension",
   "metadata": {},
   "outputs": [],
   "source": [
    "class Model(th.nn.Module):\n",
    "    \n",
    "    def __init__(self):\n",
    "        super().__init__()\n",
    "        self.w = th.nn.Linear(8,4)\n",
    "        print(self.forward)\n",
    "    \n",
    "#     @make_plan\n",
    "    def forward(self, x=th.rand(32,8)):\n",
    "        return self.w(x)"
   ]
  },
  {
   "cell_type": "code",
   "execution_count": 41,
   "id": "marine-bachelor",
   "metadata": {},
   "outputs": [
    {
     "name": "stdout",
     "output_type": "stream",
     "text": [
      "<bound method Model.forward of Model(\n",
      "  (w): Linear(in_features=8, out_features=4, bias=True)\n",
      ")>\n"
     ]
    },
    {
     "data": {
      "text/plain": [
       "Model(\n",
       "  (w): Linear(in_features=8, out_features=4, bias=True)\n",
       ")"
      ]
     },
     "execution_count": 41,
     "metadata": {},
     "output_type": "execute_result"
    }
   ],
   "source": [
    "Model()"
   ]
  },
  {
   "cell_type": "code",
   "execution_count": 33,
   "id": "infrared-master",
   "metadata": {},
   "outputs": [],
   "source": [
    "import inspect"
   ]
  },
  {
   "cell_type": "code",
   "execution_count": 34,
   "id": "greenhouse-indonesia",
   "metadata": {},
   "outputs": [],
   "source": [
    "params = inspect.signature(Model.forward).parameters.items()"
   ]
  },
  {
   "cell_type": "code",
   "execution_count": 36,
   "id": "steady-workstation",
   "metadata": {},
   "outputs": [],
   "source": [
    "# params"
   ]
  },
  {
   "cell_type": "code",
   "execution_count": 55,
   "id": "cathedral-option",
   "metadata": {},
   "outputs": [],
   "source": [
    "# inspect.signature(Model.forward).parameters[\"x\"]"
   ]
  },
  {
   "cell_type": "code",
   "execution_count": 56,
   "id": "certified-firmware",
   "metadata": {},
   "outputs": [],
   "source": [
    "# %debug"
   ]
  },
  {
   "cell_type": "code",
   "execution_count": 4,
   "id": "designed-wrist",
   "metadata": {},
   "outputs": [],
   "source": [
    "dummy_dl = sy.lib.python.List([\n",
    "    [th.rand([4,8]), th.randint(0,2, (4,))] for _ in range(1)\n",
    "])"
   ]
  },
  {
   "cell_type": "code",
   "execution_count": 5,
   "id": "southern-flight",
   "metadata": {},
   "outputs": [],
   "source": [
    "\n",
    "@make_plan\n",
    "def train(dl=dummy_dl):\n",
    "    x = dl[0]\n",
    "    return [x]"
   ]
  },
  {
   "cell_type": "code",
   "execution_count": 10,
   "id": "virgin-sustainability",
   "metadata": {},
   "outputs": [
    {
     "data": {
      "text/plain": [
       "[SaveObjectAction <Storable: 0>,\n",
       " RunClassMethodAction ListPointer.__getitem__(IntPointer, )]"
      ]
     },
     "execution_count": 10,
     "metadata": {},
     "output_type": "execute_result"
    }
   ],
   "source": [
    "train.actions"
   ]
  },
  {
   "cell_type": "code",
   "execution_count": null,
   "id": "professional-gnome",
   "metadata": {},
   "outputs": [],
   "source": []
  },
  {
   "cell_type": "markdown",
   "id": "considerable-practice",
   "metadata": {},
   "source": [
    "# appendix"
   ]
  },
  {
   "cell_type": "code",
   "execution_count": 18,
   "id": "rational-colony",
   "metadata": {},
   "outputs": [],
   "source": [
    "# %debug"
   ]
  },
  {
   "cell_type": "code",
   "execution_count": 19,
   "id": "determined-passion",
   "metadata": {},
   "outputs": [],
   "source": [
    "# %debug"
   ]
  },
  {
   "cell_type": "code",
   "execution_count": 20,
   "id": "progressive-refund",
   "metadata": {},
   "outputs": [],
   "source": [
    "# x.layer2.forward.actions"
   ]
  },
  {
   "cell_type": "code",
   "execution_count": 21,
   "id": "sunrise-suspect",
   "metadata": {},
   "outputs": [],
   "source": [
    "# x.forward.actions"
   ]
  },
  {
   "cell_type": "code",
   "execution_count": 22,
   "id": "substantial-student",
   "metadata": {},
   "outputs": [],
   "source": [
    "# x.forward.actions[4]._self"
   ]
  },
  {
   "cell_type": "code",
   "execution_count": 23,
   "id": "governmental-compatibility",
   "metadata": {},
   "outputs": [],
   "source": [
    "# x._parameter_pointers[\"layer1\"].id_at_location"
   ]
  },
  {
   "cell_type": "code",
   "execution_count": 24,
   "id": "fitting-thickness",
   "metadata": {},
   "outputs": [],
   "source": [
    "# attr_uid2name = {param.id_at_location: name for name, param in x._parameter_pointers.items()}"
   ]
  },
  {
   "cell_type": "code",
   "execution_count": 25,
   "id": "aware-sustainability",
   "metadata": {},
   "outputs": [],
   "source": [
    "# attr_uid2name"
   ]
  },
  {
   "cell_type": "code",
   "execution_count": 26,
   "id": "unlimited-humanitarian",
   "metadata": {},
   "outputs": [],
   "source": [
    "# from syft.core.node.common.action.save_object_action import SaveObjectAction\n",
    "# from syft.core.node.common.action.run_class_method_action import RunClassMethodAction"
   ]
  },
  {
   "cell_type": "code",
   "execution_count": 27,
   "id": "grand-police",
   "metadata": {},
   "outputs": [],
   "source": [
    "# plan = x.forward"
   ]
  },
  {
   "cell_type": "code",
   "execution_count": 28,
   "id": "difficult-wagner",
   "metadata": {},
   "outputs": [],
   "source": [
    "# for uid, name in attr_uid2name.items():\n",
    "#     for action in plan.actions:\n",
    "# #         if isinstance(action, SaveObjectAction):\n",
    "# #             if action.obj.id == uid:\n",
    "# #                 action.obj.data = getattr(x, name)\n",
    "# #                 print(name, action.obj.data)\n",
    "#         if isinstance(action, RunClassMethodAction):\n",
    "#             if action._self.id_at_location == uid:\n",
    "                \n",
    "                \n",
    "        "
   ]
  },
  {
   "cell_type": "code",
   "execution_count": 29,
   "id": "amazing-georgia",
   "metadata": {},
   "outputs": [],
   "source": [
    "# x.layer1"
   ]
  },
  {
   "cell_type": "code",
   "execution_count": 30,
   "id": "scientific-month",
   "metadata": {},
   "outputs": [],
   "source": [
    "# plan.actions"
   ]
  },
  {
   "cell_type": "code",
   "execution_count": 31,
   "id": "french-telling",
   "metadata": {},
   "outputs": [],
   "source": [
    "# x.layer1.weight"
   ]
  },
  {
   "cell_type": "code",
   "execution_count": 32,
   "id": "fiscal-christianity",
   "metadata": {},
   "outputs": [],
   "source": [
    "# x.forward.actions[3].obj.id"
   ]
  },
  {
   "cell_type": "code",
   "execution_count": 33,
   "id": "architectural-correlation",
   "metadata": {},
   "outputs": [],
   "source": [
    "# x.forward.actions[3].obj.data.weight"
   ]
  },
  {
   "cell_type": "code",
   "execution_count": 34,
   "id": "parliamentary-scope",
   "metadata": {},
   "outputs": [],
   "source": [
    "# x.forward.actions[3].obj.data"
   ]
  },
  {
   "cell_type": "code",
   "execution_count": 35,
   "id": "mysterious-cement",
   "metadata": {},
   "outputs": [],
   "source": [
    "# replace actions where "
   ]
  },
  {
   "cell_type": "code",
   "execution_count": 36,
   "id": "indie-regular",
   "metadata": {},
   "outputs": [],
   "source": [
    "# PLAN_BUILDER_VM.store.clear()"
   ]
  },
  {
   "cell_type": "code",
   "execution_count": 37,
   "id": "muslim-museum",
   "metadata": {},
   "outputs": [],
   "source": [
    "# x.send(ROOT_CLIENT)"
   ]
  },
  {
   "cell_type": "code",
   "execution_count": 38,
   "id": "local-projection",
   "metadata": {},
   "outputs": [],
   "source": [
    "# list(x.data for x in PLAN_BUILDER_VM.store.values())"
   ]
  },
  {
   "cell_type": "code",
   "execution_count": 39,
   "id": "separate-union",
   "metadata": {},
   "outputs": [],
   "source": [
    "# @make_plan\n",
    "# def train(model = x):\n",
    "#     y = model.forward(x = th.rand(32,28*28))\n",
    "#     return [model]"
   ]
  },
  {
   "cell_type": "code",
   "execution_count": 40,
   "id": "static-preparation",
   "metadata": {},
   "outputs": [],
   "source": [
    "# train.inputs[\"model\"].get()"
   ]
  },
  {
   "cell_type": "code",
   "execution_count": 41,
   "id": "tested-overview",
   "metadata": {},
   "outputs": [],
   "source": [
    "# train.actions"
   ]
  },
  {
   "cell_type": "code",
   "execution_count": 42,
   "id": "comic-quilt",
   "metadata": {},
   "outputs": [],
   "source": [
    "# @make_plan\n",
    "# def test(x = th.rand(3)):\n",
    "#     return x"
   ]
  },
  {
   "cell_type": "code",
   "execution_count": 43,
   "id": "narrow-plant",
   "metadata": {},
   "outputs": [],
   "source": [
    "# PLAN_BUILDER_VM.store.clear()"
   ]
  },
  {
   "cell_type": "code",
   "execution_count": 44,
   "id": "modular-catch",
   "metadata": {},
   "outputs": [],
   "source": [
    "# list(x.data for x in PLAN_BUILDER_VM.store.values())"
   ]
  },
  {
   "cell_type": "code",
   "execution_count": 45,
   "id": "assigned-charm",
   "metadata": {},
   "outputs": [],
   "source": [
    "# test_ptr = test.send(ROOT_CLIENT)"
   ]
  },
  {
   "cell_type": "code",
   "execution_count": 46,
   "id": "little-industry",
   "metadata": {},
   "outputs": [],
   "source": [
    "# list(x.data for x in PLAN_BUILDER_VM.store.values())"
   ]
  },
  {
   "cell_type": "code",
   "execution_count": 47,
   "id": "innovative-daily",
   "metadata": {},
   "outputs": [],
   "source": [
    "# y = test_ptr(x=th.rand(3))"
   ]
  },
  {
   "cell_type": "code",
   "execution_count": 48,
   "id": "overall-launch",
   "metadata": {},
   "outputs": [],
   "source": [
    "# y = x.forward(x=th.rand(32,28*28))"
   ]
  },
  {
   "cell_type": "code",
   "execution_count": 49,
   "id": "opposed-minneapolis",
   "metadata": {},
   "outputs": [],
   "source": [
    "# y[0].sum().backward()"
   ]
  },
  {
   "cell_type": "code",
   "execution_count": 50,
   "id": "revolutionary-palmer",
   "metadata": {},
   "outputs": [],
   "source": [
    "# print(x.parameters())"
   ]
  },
  {
   "cell_type": "code",
   "execution_count": 51,
   "id": "dynamic-inflation",
   "metadata": {},
   "outputs": [],
   "source": [
    "# loss = out.sum()\n",
    "# loss.backward()\n",
    "# print(x.layer2.p2.weight.grad.get())"
   ]
  },
  {
   "cell_type": "code",
   "execution_count": 52,
   "id": "fewer-brother",
   "metadata": {},
   "outputs": [],
   "source": [
    "# x.layer2.p1.grad"
   ]
  },
  {
   "cell_type": "code",
   "execution_count": 53,
   "id": "engaging-miniature",
   "metadata": {},
   "outputs": [],
   "source": [
    "# %debug"
   ]
  },
  {
   "cell_type": "code",
   "execution_count": 54,
   "id": "minus-screening",
   "metadata": {},
   "outputs": [],
   "source": [
    "# x.layer2.p1.requires_grad"
   ]
  },
  {
   "cell_type": "code",
   "execution_count": 55,
   "id": "owned-stress",
   "metadata": {},
   "outputs": [],
   "source": [
    "# alice_client = VirtualMachine(name=\"alice\").get_client()\n",
    "# x_ptr = x.send(alice_client)"
   ]
  },
  {
   "cell_type": "code",
   "execution_count": 56,
   "id": "smaller-fishing",
   "metadata": {},
   "outputs": [],
   "source": [
    "# y = x_ptr.forward(x=th.rand(32,28*28))"
   ]
  },
  {
   "cell_type": "code",
   "execution_count": 57,
   "id": "assisted-alloy",
   "metadata": {},
   "outputs": [],
   "source": [
    "# y[0].sum().backward()"
   ]
  },
  {
   "cell_type": "code",
   "execution_count": 58,
   "id": "classified-boutique",
   "metadata": {},
   "outputs": [],
   "source": [
    "# x_ptr.parameters()[0]"
   ]
  },
  {
   "cell_type": "code",
   "execution_count": 59,
   "id": "stunning-planner",
   "metadata": {},
   "outputs": [],
   "source": [
    "# x.send(alice_client)"
   ]
  },
  {
   "cell_type": "code",
   "execution_count": 60,
   "id": "frequent-capture",
   "metadata": {},
   "outputs": [],
   "source": [
    "# y = x.forward(x=th.rand(32,28*28))"
   ]
  },
  {
   "cell_type": "code",
   "execution_count": 61,
   "id": "artistic-executive",
   "metadata": {},
   "outputs": [],
   "source": [
    "# x.forward(x=th.rand([32,1,28,28]))"
   ]
  },
  {
   "cell_type": "code",
   "execution_count": 62,
   "id": "local-least",
   "metadata": {},
   "outputs": [],
   "source": [
    "# x.forward."
   ]
  },
  {
   "cell_type": "code",
   "execution_count": 63,
   "id": "later-fellow",
   "metadata": {},
   "outputs": [],
   "source": [
    "# alice = sy.VirtualMachine()\n",
    "# alice_client = alice.get_root_client()"
   ]
  },
  {
   "cell_type": "code",
   "execution_count": 64,
   "id": "considered-ideal",
   "metadata": {},
   "outputs": [],
   "source": [
    "# x = MySyModule()\n",
    "# x_ptr = x.send(alice_client)\n",
    "# y, = x_ptr(x=th.rand(8)).get()"
   ]
  },
  {
   "cell_type": "code",
   "execution_count": null,
   "id": "inclusive-contamination",
   "metadata": {},
   "outputs": [],
   "source": []
  }
 ],
 "metadata": {
  "kernelspec": {
   "display_name": "Python 3",
   "language": "python",
   "name": "python3"
  },
  "language_info": {
   "codemirror_mode": {
    "name": "ipython",
    "version": 3
   },
   "file_extension": ".py",
   "mimetype": "text/x-python",
   "name": "python",
   "nbconvert_exporter": "python",
   "pygments_lexer": "ipython3",
   "version": "3.7.9"
  },
  "toc": {
   "base_numbering": 1,
   "nav_menu": {},
   "number_sections": true,
   "sideBar": true,
   "skip_h1_title": false,
   "title_cell": "Table of Contents",
   "title_sidebar": "Contents",
   "toc_cell": false,
   "toc_position": {},
   "toc_section_display": true,
   "toc_window_display": true
  }
 },
 "nbformat": 4,
 "nbformat_minor": 5
}
