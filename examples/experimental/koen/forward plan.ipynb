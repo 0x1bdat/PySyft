{
 "cells": [
  {
   "cell_type": "code",
   "execution_count": 1,
   "id": "executed-farmer",
   "metadata": {},
   "outputs": [],
   "source": [
    "%load_ext autoreload\n",
    "%autoreload 2"
   ]
  },
  {
   "cell_type": "code",
   "execution_count": 2,
   "id": "gothic-adjustment",
   "metadata": {},
   "outputs": [],
   "source": [
    "import syft as sy\n",
    "import numpy as np\n",
    "import torch as th\n",
    "from syft import VirtualMachine\n",
    "from pathlib import Path\n",
    "from torchvision import datasets, transforms\n",
    "from syft.core.plan.plan_builder import PLAN_BUILDER_VM, make_plan, build_plan_inputs, ROOT_CLIENT\n",
    "from syft.lib.python.list import List\n",
    "from matplotlib import pyplot as plt\n",
    "from syft import logger\n",
    "from syft.lib.torch.module import ModelExecutor\n",
    "logger.remove()"
   ]
  },
  {
   "cell_type": "code",
   "execution_count": 3,
   "id": "hindu-cliff",
   "metadata": {},
   "outputs": [],
   "source": [
    "# Dataset\n",
    "mnist_path = Path.home() / \".pysyft\" / \"mnist\"\n",
    "mnist_path.mkdir(exist_ok=True, parents=True)\n",
    "\n",
    "mnist_train = datasets.MNIST(str(mnist_path), train=True, download=True,\n",
    "               transform=transforms.Compose([transforms.ToTensor(), transforms.Normalize((0.1307,), (0.3081,))]))\n",
    "\n",
    "mnist_test = datasets.MNIST((mnist_path), train=False, \n",
    "              transform=transforms.Compose([transforms.ToTensor(), transforms.Normalize((0.1307,), (0.3081,))]))\n",
    "\n",
    "train_loader = th.utils.data.DataLoader(mnist_train, batch_size=32, shuffle=True, pin_memory=True)\n",
    "test_loader = th.utils.data.DataLoader(mnist_test, batch_size=1024, shuffle=False, pin_memory=True)"
   ]
  },
  {
   "cell_type": "markdown",
   "id": "musical-wisdom",
   "metadata": {},
   "source": [
    "# define model\n"
   ]
  },
  {
   "cell_type": "code",
   "execution_count": 4,
   "id": "sitting-pound",
   "metadata": {},
   "outputs": [],
   "source": [
    "class ForwardToPlanConverter(type):\n",
    "    def __call__(cls, *args, **kwargs):\n",
    "        obj = type.__call__(cls, *args, **kwargs)\n",
    "        obj.make_forward_plan()\n",
    "        return obj\n",
    "\n",
    "class SyModule(th.nn.Module, metaclass=ForwardToPlanConverter):\n",
    "    def __init__(self, *args, **kwargs):\n",
    "        super().__init__(*args, **kwargs)\n",
    "        self.building_forward = False\n",
    "        self._parameter_pointers = dict()\n",
    "\n",
    "    def make_forward_plan(self):\n",
    "        if not hasattr(self, \"forward\"):\n",
    "            raise ValueError(\"Missing .forward() method for Module\")\n",
    "        self.building_forward = True\n",
    "        plan = make_plan(self.forward)\n",
    "        self.forward = plan\n",
    "        self.__call__ = plan\n",
    "        self.building_forward = False\n",
    "        \n",
    "    def __getattr__(self, name):\n",
    "        # this is __getattr__ instead of __getattribute__ because of the structure of torch.nn.Module\n",
    "        if name in self._parameter_pointers and self.building_forward:\n",
    "            return self._parameter_pointers[name]\n",
    "        \n",
    "        res = super().__getattr__(name)\n",
    "        if isinstance(res, (th.nn.Module, th.nn.Parameter)) and self.building_forward:\n",
    "            res_ptr = res.send(ROOT_CLIENT)\n",
    "            self._parameter_pointers[name] = res_ptr\n",
    "            return res_ptr\n",
    "        else:\n",
    "            return res"
   ]
  },
  {
   "cell_type": "code",
   "execution_count": 5,
   "id": "premium-migration",
   "metadata": {},
   "outputs": [],
   "source": [
    "class MySyModuleBlock(SyModule):\n",
    "    def __init__(self):\n",
    "        super().__init__()\n",
    "        self.p1 = th.nn.Parameter(th.rand(100,10) * 0.01)\n",
    "    \n",
    "    def forward(self, x = th.rand(32, 100)):\n",
    "        o1 = x @ self.p1\n",
    "        return o1"
   ]
  },
  {
   "cell_type": "code",
   "execution_count": 6,
   "id": "romance-candy",
   "metadata": {},
   "outputs": [],
   "source": [
    "class MySyModule(SyModule):\n",
    "    def __init__(self):\n",
    "        super().__init__()\n",
    "        self.layer1 = th.nn.Linear(28*28,100)\n",
    "        self.relu1 = th.nn.ReLU()\n",
    "        self.layer2 = MySyModuleBlock()\n",
    "    \n",
    "    def forward(self, x = th.rand(32,28*28)):\n",
    "        x_reshaped = x.view(-1, 28 * 28)        \n",
    "        o1 = self.layer1(x_reshaped)\n",
    "        a1 = self.relu1(o1)\n",
    "        out = self.layer2(x=a1)[0]\n",
    "        return out"
   ]
  },
  {
   "cell_type": "markdown",
   "id": "enabling-sterling",
   "metadata": {},
   "source": [
    "# Train plan"
   ]
  },
  {
   "cell_type": "code",
   "execution_count": 7,
   "id": "theoretical-secondary",
   "metadata": {},
   "outputs": [],
   "source": [
    "model = MySyModule()"
   ]
  },
  {
   "cell_type": "code",
   "execution_count": 8,
   "id": "welcome-jumping",
   "metadata": {},
   "outputs": [],
   "source": [
    "dummy_dl = sy.lib.python.List([next(iter(train_loader))])"
   ]
  },
  {
   "cell_type": "code",
   "execution_count": 9,
   "id": "compressed-renewal",
   "metadata": {},
   "outputs": [],
   "source": [
    "remote_torch = ROOT_CLIENT.torch"
   ]
  },
  {
   "cell_type": "code",
   "execution_count": 10,
   "id": "downtown-bronze",
   "metadata": {
    "scrolled": false
   },
   "outputs": [],
   "source": [
    "@make_plan\n",
    "def train(dl = dummy_dl, model = model):\n",
    "    optimizer = remote_torch.optim.SGD(model.parameters(), lr=1e-1, momentum=0)\n",
    "\n",
    "    for xy in dl:\n",
    "        optimizer.zero_grad()\n",
    "        x, y = xy[0], xy[1]\n",
    "        out = model(x=x)[0]\n",
    "        loss =  remote_torch.nn.functional.cross_entropy(out, y)\n",
    "        loss.backward()\n",
    "        optimizer.step()\n",
    "    \n",
    "    return [model]"
   ]
  },
  {
   "cell_type": "markdown",
   "id": "sharing-choice",
   "metadata": {},
   "source": [
    "## Util"
   ]
  },
  {
   "cell_type": "code",
   "execution_count": 11,
   "id": "spatial-speaker",
   "metadata": {},
   "outputs": [],
   "source": [
    "def test(test_loader, model):\n",
    "    correct = []\n",
    "    model.eval()\n",
    "\n",
    "    for data, target in test_loader:        \n",
    "        output = model(x=data)[0]\n",
    "        _, pred = th.max(output, 1)\n",
    "        correct.append(th.sum(np.squeeze(pred.eq(target.data))))\n",
    "    acc = sum(correct) / len(test_loader.dataset)\n",
    "    return acc"
   ]
  },
  {
   "cell_type": "code",
   "execution_count": 12,
   "id": "experienced-dress",
   "metadata": {},
   "outputs": [],
   "source": [
    "def show_predictions(test_loader, model, n=6):\n",
    "    xs, ys = next(iter(test_loader))\n",
    "    preds = model(x=xs)[0].detach()\n",
    "    \n",
    "    fig, axs = plt.subplots(1, n, sharex='col', sharey='row', figsize=(16, 8))\n",
    "    for i in range(n):\n",
    "        ax = axs[i]\n",
    "        ax.set_xticks([]),ax.set_yticks([])\n",
    "        ax.set_xlabel(f\"prediction: {np.argmax(preds[i])}, actual: {ys[i]}\")\n",
    "        ax.imshow(xs[i].reshape((28, 28)))"
   ]
  },
  {
   "cell_type": "markdown",
   "id": "damaged-experiment",
   "metadata": {},
   "source": [
    "# Train"
   ]
  },
  {
   "cell_type": "code",
   "execution_count": 13,
   "id": "aging-sugar",
   "metadata": {},
   "outputs": [],
   "source": [
    "alice_client = VirtualMachine(name=\"alice\").get_client()\n",
    "train_ptr = train.send(alice_client)"
   ]
  },
  {
   "cell_type": "code",
   "execution_count": 14,
   "id": "oriental-radius",
   "metadata": {
    "scrolled": false
   },
   "outputs": [
    {
     "name": "stderr",
     "output_type": "stream",
     "text": [
      "/Users/koen/workspace/PySyft/src/syft/lib/torch/uppercase_tensor.py:30: UserWarning: The .grad attribute of a Tensor that is not a leaf Tensor is being accessed. Its .grad attribute won't be populated during autograd.backward(). If you indeed want the gradient for a non-leaf Tensor, use .retain_grad() on the non-leaf Tensor. If you access the non-leaf Tensor by mistake, make sure you access the leaf Tensor instead. See github.com/pytorch/pytorch/pull/30531 for more informations.\n",
      "  grad = getattr(obj, \"grad\", None)\n"
     ]
    },
    {
     "name": "stdout",
     "output_type": "stream",
     "text": [
      "Iter: 10 Test accuracy: 0.47\n",
      "Iter: 20 Test accuracy: 0.68\n",
      "Iter: 30 Test accuracy: 0.68\n",
      "Iter: 40 Test accuracy: 0.80\n",
      "Iter: 50 Test accuracy: 0.76\n"
     ]
    }
   ],
   "source": [
    "for i, (x, y) in enumerate(train_loader):\n",
    "    dl = [[x,y]]\n",
    "    res_ptr  = train_ptr(dl=dl, model=model)\n",
    "    model, = res_ptr.get()\n",
    "    \n",
    "    if i%10 == 0 and i!=0:\n",
    "        acc = test(test_loader, model)\n",
    "        print(f\"Iter: {i} Test accuracy: {acc:.2F}\", flush=True)\n",
    "    if i>50:\n",
    "        break"
   ]
  },
  {
   "cell_type": "code",
   "execution_count": null,
   "id": "informational-confidence",
   "metadata": {},
   "outputs": [],
   "source": []
  }
 ],
 "metadata": {
  "kernelspec": {
   "display_name": "Python 3",
   "language": "python",
   "name": "python3"
  },
  "language_info": {
   "codemirror_mode": {
    "name": "ipython",
    "version": 3
   },
   "file_extension": ".py",
   "mimetype": "text/x-python",
   "name": "python",
   "nbconvert_exporter": "python",
   "pygments_lexer": "ipython3",
   "version": "3.7.9"
  },
  "toc": {
   "base_numbering": 1,
   "nav_menu": {},
   "number_sections": true,
   "sideBar": true,
   "skip_h1_title": false,
   "title_cell": "Table of Contents",
   "title_sidebar": "Contents",
   "toc_cell": false,
   "toc_position": {
    "height": "calc(100% - 180px)",
    "left": "10px",
    "top": "150px",
    "width": "301.979px"
   },
   "toc_section_display": true,
   "toc_window_display": true
  }
 },
 "nbformat": 4,
 "nbformat_minor": 5
}
