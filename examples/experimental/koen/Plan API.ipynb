{
 "cells": [
  {
   "cell_type": "code",
   "execution_count": 1,
   "id": "governing-danish",
   "metadata": {},
   "outputs": [],
   "source": [
    "%load_ext autoreload\n",
    "%autoreload 2"
   ]
  },
  {
   "cell_type": "code",
   "execution_count": 2,
   "id": "executed-wellington",
   "metadata": {},
   "outputs": [
    {
     "ename": "ModuleNotFoundError",
     "evalue": "No module named 'syft.core.node.common.action.common.Action'; 'syft.core.node.common.action.common' is not a package",
     "output_type": "error",
     "traceback": [
      "\u001b[0;31m---------------------------------------------------------------------------\u001b[0m",
      "\u001b[0;31mModuleNotFoundError\u001b[0m                       Traceback (most recent call last)",
      "\u001b[0;32m<ipython-input-2-8e257681b3b8>\u001b[0m in \u001b[0;36m<module>\u001b[0;34m\u001b[0m\n\u001b[1;32m      1\u001b[0m \u001b[0;32mimport\u001b[0m \u001b[0msyft\u001b[0m \u001b[0;32mas\u001b[0m \u001b[0msy\u001b[0m\u001b[0;34m\u001b[0m\u001b[0;34m\u001b[0m\u001b[0m\n\u001b[1;32m      2\u001b[0m \u001b[0;32mimport\u001b[0m \u001b[0mtorch\u001b[0m \u001b[0;32mas\u001b[0m \u001b[0mth\u001b[0m\u001b[0;34m\u001b[0m\u001b[0;34m\u001b[0m\u001b[0m\n\u001b[0;32m----> 3\u001b[0;31m \u001b[0;32mfrom\u001b[0m \u001b[0msyft\u001b[0m\u001b[0;34m.\u001b[0m\u001b[0mcore\u001b[0m\u001b[0;34m.\u001b[0m\u001b[0mnode\u001b[0m\u001b[0;34m.\u001b[0m\u001b[0mvm\u001b[0m\u001b[0;34m.\u001b[0m\u001b[0mplan_vm\u001b[0m \u001b[0;32mimport\u001b[0m \u001b[0mPlanVirtualMachine\u001b[0m\u001b[0;34m\u001b[0m\u001b[0;34m\u001b[0m\u001b[0m\n\u001b[0m\u001b[1;32m      4\u001b[0m \u001b[0;32mfrom\u001b[0m \u001b[0msyft\u001b[0m \u001b[0;32mimport\u001b[0m \u001b[0mPlan\u001b[0m\u001b[0;34m\u001b[0m\u001b[0;34m\u001b[0m\u001b[0m\n",
      "\u001b[0;32m~/workspace/PySyft/src/syft/core/node/vm/plan_vm.py\u001b[0m in \u001b[0;36m<module>\u001b[0;34m\u001b[0m\n\u001b[1;32m     11\u001b[0m \u001b[0;32mfrom\u001b[0m \u001b[0;34m...\u001b[0m\u001b[0mio\u001b[0m\u001b[0;34m.\u001b[0m\u001b[0mlocation\u001b[0m \u001b[0;32mimport\u001b[0m \u001b[0mLocation\u001b[0m\u001b[0;34m\u001b[0m\u001b[0;34m\u001b[0m\u001b[0m\n\u001b[1;32m     12\u001b[0m \u001b[0;32mfrom\u001b[0m \u001b[0;34m...\u001b[0m\u001b[0mio\u001b[0m\u001b[0;34m.\u001b[0m\u001b[0mlocation\u001b[0m \u001b[0;32mimport\u001b[0m \u001b[0mSpecificLocation\u001b[0m\u001b[0;34m\u001b[0m\u001b[0;34m\u001b[0m\u001b[0m\n\u001b[0;32m---> 13\u001b[0;31m \u001b[0;32mfrom\u001b[0m \u001b[0;34m.\u001b[0m\u001b[0;34m.\u001b[0m\u001b[0mcommon\u001b[0m\u001b[0;34m.\u001b[0m\u001b[0maction\u001b[0m\u001b[0;34m.\u001b[0m\u001b[0mcommon\u001b[0m\u001b[0;34m.\u001b[0m\u001b[0mAction\u001b[0m \u001b[0;32mimport\u001b[0m \u001b[0mAction\u001b[0m\u001b[0;34m\u001b[0m\u001b[0;34m\u001b[0m\u001b[0m\n\u001b[0m\u001b[1;32m     14\u001b[0m \u001b[0;32mfrom\u001b[0m \u001b[0;34m.\u001b[0m\u001b[0mvm\u001b[0m \u001b[0;32mimport\u001b[0m \u001b[0mVirtualMachine\u001b[0m\u001b[0;34m\u001b[0m\u001b[0;34m\u001b[0m\u001b[0m\n\u001b[1;32m     15\u001b[0m \u001b[0;34m\u001b[0m\u001b[0m\n",
      "\u001b[0;31mModuleNotFoundError\u001b[0m: No module named 'syft.core.node.common.action.common.Action'; 'syft.core.node.common.action.common' is not a package"
     ]
    }
   ],
   "source": [
    "import syft as sy\n",
    "import torch as th\n",
    "from syft.core.node.vm.plan_vm import PlanVirtualMachine\n",
    "from syft import Plan"
   ]
  },
  {
   "cell_type": "code",
   "execution_count": null,
   "id": "mysterious-reading",
   "metadata": {},
   "outputs": [],
   "source": [
    "alice = PlanVirtualMachine(name=\"alice\")\n",
    "alice_client = alice.get_root_client()\n",
    "remote_torch = alice_client.torch"
   ]
  },
  {
   "cell_type": "markdown",
   "id": "adjustable-principle",
   "metadata": {},
   "source": [
    "# Option 1: make_plan"
   ]
  },
  {
   "cell_type": "code",
   "execution_count": null,
   "id": "labeled-bracket",
   "metadata": {},
   "outputs": [],
   "source": [
    "def make_plan(func):\n",
    "    def func_wrapper(*args):\n",
    "        vm = PlanVirtualMachine(name=\"alice\")\n",
    "        client = vm.get_root_client()\n",
    "        inputs = [arg.send(client) for arg in args]    \n",
    "        vm.record_actions()\n",
    "        res = func(*inputs)\n",
    "        vm.stop_recording()\n",
    "        plan = Plan(actions=vm.recorded_actions, inputs=inputs, outputs=res)\n",
    "        return plan.send(client)\n",
    "    return func_wrapper"
   ]
  },
  {
   "cell_type": "code",
   "execution_count": 5,
   "id": "latest-appraisal",
   "metadata": {},
   "outputs": [],
   "source": [
    "@make_plan\n",
    "def test_plan_builder(inp):\n",
    "    return inp + inp"
   ]
  },
  {
   "cell_type": "code",
   "execution_count": 6,
   "id": "synthetic-reserve",
   "metadata": {},
   "outputs": [],
   "source": [
    "input_tensor = th.tensor([1,2,3])"
   ]
  },
  {
   "cell_type": "code",
   "execution_count": 7,
   "id": "honest-chance",
   "metadata": {},
   "outputs": [
    {
     "data": {
      "text/plain": [
       "<function __main__.make_plan.<locals>.func_wrapper(*args)>"
      ]
     },
     "execution_count": 7,
     "metadata": {},
     "output_type": "execute_result"
    }
   ],
   "source": [
    "test_plan_builder"
   ]
  },
  {
   "cell_type": "code",
   "execution_count": 8,
   "id": "religious-webmaster",
   "metadata": {},
   "outputs": [],
   "source": [
    "test_plan_pointer = test_plan_builder(input_tensor)"
   ]
  },
  {
   "cell_type": "code",
   "execution_count": 9,
   "id": "dried-universe",
   "metadata": {},
   "outputs": [],
   "source": [
    "res = test_plan_pointer(input_tensor)"
   ]
  },
  {
   "cell_type": "code",
   "execution_count": 10,
   "id": "convertible-india",
   "metadata": {},
   "outputs": [
    {
     "data": {
      "text/plain": [
       "tensor([2, 4, 6])"
      ]
     },
     "execution_count": 10,
     "metadata": {},
     "output_type": "execute_result"
    }
   ],
   "source": [
    "res.get()[0]"
   ]
  },
  {
   "cell_type": "markdown",
   "id": "tired-nutrition",
   "metadata": {},
   "source": [
    "# Option 2: @make_plan2 with PlanBuilder"
   ]
  },
  {
   "cell_type": "code",
   "execution_count": 12,
   "id": "express-accident",
   "metadata": {},
   "outputs": [],
   "source": [
    "class PlanBuilder():\n",
    "    def __init__(self, vm):\n",
    "        self.vm=vm\n",
    "    \n",
    "    def build(self, *args) -> 'PointerPlan':\n",
    "        client = self.vm.get_root_client()\n",
    "        inputs = [arg.send(client) for arg in args]    \n",
    "        self.vm.record_actions()\n",
    "        res = self.forward(*inputs)\n",
    "        self.vm.stop_recording()\n",
    "        plan = Plan(actions=self.vm.recorded_actions, inputs=inputs, outputs=res)\n",
    "        return plan.send(client)"
   ]
  },
  {
   "cell_type": "code",
   "execution_count": 13,
   "id": "tight-mission",
   "metadata": {},
   "outputs": [],
   "source": [
    "def make_plan2(func):\n",
    "    res = PlanBuilder(vm=PlanVirtualMachine(name=\"alice\"))\n",
    "    res.forward=func\n",
    "    return res"
   ]
  },
  {
   "cell_type": "code",
   "execution_count": 14,
   "id": "surprising-assessment",
   "metadata": {},
   "outputs": [],
   "source": [
    "@make_plan2\n",
    "def test_plan_builder2(inp):\n",
    "    return inp + inp"
   ]
  },
  {
   "cell_type": "code",
   "execution_count": 15,
   "id": "random-thompson",
   "metadata": {},
   "outputs": [
    {
     "data": {
      "text/plain": [
       "<__main__.PlanBuilder at 0x7fa5c47f1990>"
      ]
     },
     "execution_count": 15,
     "metadata": {},
     "output_type": "execute_result"
    }
   ],
   "source": [
    "test_plan_builder2"
   ]
  },
  {
   "cell_type": "code",
   "execution_count": 16,
   "id": "expressed-colors",
   "metadata": {},
   "outputs": [],
   "source": [
    "test_plan_pointer = test_plan_builder2.build(input_tensor)"
   ]
  },
  {
   "cell_type": "code",
   "execution_count": 17,
   "id": "emotional-robin",
   "metadata": {},
   "outputs": [
    {
     "name": "stderr",
     "output_type": "stream",
     "text": [
      "[2021-03-01T10:42:27.850586+0100][CRITICAL][logger]][3697] <class 'syft.core.store.store_memory.MemoryStore'> __delitem__ error <UID: daadeff0d2bd4079a4b5e4b7820f5794>.\n"
     ]
    }
   ],
   "source": [
    "res = test_plan_pointer(input_tensor)"
   ]
  },
  {
   "cell_type": "code",
   "execution_count": 18,
   "id": "processed-treasury",
   "metadata": {},
   "outputs": [
    {
     "data": {
      "text/plain": [
       "tensor([2, 4, 6])"
      ]
     },
     "execution_count": 18,
     "metadata": {},
     "output_type": "execute_result"
    }
   ],
   "source": [
    "res.get()[0]"
   ]
  },
  {
   "cell_type": "markdown",
   "id": "polar-california",
   "metadata": {},
   "source": [
    "# Extra use case for PlanBuilder, wrapping state"
   ]
  },
  {
   "cell_type": "code",
   "execution_count": 19,
   "id": "handled-mileage",
   "metadata": {},
   "outputs": [],
   "source": [
    "model_pointer1 = th.tensor([1,2,3]).send(alice_client)\n",
    "input_tensor = th.tensor([1,2,3])"
   ]
  },
  {
   "cell_type": "code",
   "execution_count": 20,
   "id": "identified-collapse",
   "metadata": {},
   "outputs": [],
   "source": [
    "class TestPlanBuilder(PlanBuilder):\n",
    "    def __init__(self, vm, model_pointer):\n",
    "        super().__init__(vm)\n",
    "        self.model_pointer = model_pointer\n",
    "    \n",
    "    def forward(self, x):\n",
    "        res = x * self.model_pointer\n",
    "        return res"
   ]
  },
  {
   "cell_type": "code",
   "execution_count": 21,
   "id": "parallel-married",
   "metadata": {},
   "outputs": [],
   "source": [
    "plan_pointer = TestPlanBuilder(alice, model_pointer1).build(input_tensor)"
   ]
  },
  {
   "cell_type": "code",
   "execution_count": 22,
   "id": "authorized-causing",
   "metadata": {},
   "outputs": [
    {
     "name": "stderr",
     "output_type": "stream",
     "text": [
      "[2021-03-01T10:42:29.179597+0100][CRITICAL][logger]][3697] <class 'syft.core.store.store_memory.MemoryStore'> __delitem__ error <UID: 04c53d4795e44c18ad3e949fb5e38e41>.\n"
     ]
    }
   ],
   "source": [
    "res = plan_pointer(input_tensor)"
   ]
  },
  {
   "cell_type": "code",
   "execution_count": 23,
   "id": "differential-fight",
   "metadata": {},
   "outputs": [
    {
     "data": {
      "text/plain": [
       "tensor([1, 4, 9])"
      ]
     },
     "execution_count": 23,
     "metadata": {},
     "output_type": "execute_result"
    }
   ],
   "source": [
    "res.get()[0]"
   ]
  },
  {
   "cell_type": "code",
   "execution_count": null,
   "id": "related-prevention",
   "metadata": {},
   "outputs": [],
   "source": []
  }
 ],
 "metadata": {
  "kernelspec": {
   "display_name": "Python 3",
   "language": "python",
   "name": "python3"
  },
  "language_info": {
   "codemirror_mode": {
    "name": "ipython",
    "version": 3
   },
   "file_extension": ".py",
   "mimetype": "text/x-python",
   "name": "python",
   "nbconvert_exporter": "python",
   "pygments_lexer": "ipython3",
   "version": "3.7.9"
  },
  "toc": {
   "base_numbering": 1,
   "nav_menu": {},
   "number_sections": true,
   "sideBar": true,
   "skip_h1_title": false,
   "title_cell": "Table of Contents",
   "title_sidebar": "Contents",
   "toc_cell": false,
   "toc_position": {
    "height": "calc(100% - 180px)",
    "left": "10px",
    "top": "150px",
    "width": "341.979px"
   },
   "toc_section_display": true,
   "toc_window_display": true
  }
 },
 "nbformat": 4,
 "nbformat_minor": 5
}
