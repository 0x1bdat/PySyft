{
 "cells": [
  {
   "cell_type": "code",
   "execution_count": 1,
   "id": "governing-danish",
   "metadata": {},
   "outputs": [],
   "source": [
    "%load_ext autoreload\n",
    "%autoreload 2"
   ]
  },
  {
   "cell_type": "code",
   "execution_count": 2,
   "id": "executed-wellington",
   "metadata": {},
   "outputs": [],
   "source": [
    "import syft as sy\n",
    "import torch as th\n",
    "from syft.core.node.vm.plan_vm import PlanVirtualMachine\n",
    "from syft import Plan"
   ]
  },
  {
   "cell_type": "code",
   "execution_count": 3,
   "id": "mysterious-reading",
   "metadata": {},
   "outputs": [],
   "source": [
    "alice = PlanVirtualMachine(name=\"alice\")\n",
    "alice_client = alice.get_root_client()\n",
    "remote_torch = alice_client.torch"
   ]
  },
  {
   "cell_type": "markdown",
   "id": "adjustable-principle",
   "metadata": {},
   "source": [
    "# Option 1: make_plan"
   ]
  },
  {
   "cell_type": "code",
   "execution_count": 4,
   "id": "labeled-bracket",
   "metadata": {},
   "outputs": [],
   "source": [
    "def make_plan(func):\n",
    "    def func_wrapper(*args):\n",
    "        vm = PlanVirtualMachine(name=\"alice\")\n",
    "        client = vm.get_root_client()\n",
    "        inputs = [arg.send(client) for arg in args]    \n",
    "        vm.record_actions()\n",
    "        res = func(*inputs)\n",
    "        vm.stop_recording()\n",
    "        plan = Plan(actions=vm.recorded_actions, inputs=inputs, outputs=res)\n",
    "        return plan.send(client)\n",
    "    return func_wrapper"
   ]
  },
  {
   "cell_type": "code",
   "execution_count": 5,
   "id": "latest-appraisal",
   "metadata": {},
   "outputs": [],
   "source": [
    "@make_plan\n",
    "def test_plan_builder(inp):\n",
    "    return inp + inp"
   ]
  },
  {
   "cell_type": "code",
   "execution_count": 6,
   "id": "synthetic-reserve",
   "metadata": {},
   "outputs": [],
   "source": [
    "input_tensor = th.tensor([1,2,3])"
   ]
  },
  {
   "cell_type": "code",
   "execution_count": 7,
   "id": "honest-chance",
   "metadata": {},
   "outputs": [
    {
     "data": {
      "text/plain": [
       "<function __main__.make_plan.<locals>.func_wrapper(*args)>"
      ]
     },
     "execution_count": 7,
     "metadata": {},
     "output_type": "execute_result"
    }
   ],
   "source": [
    "test_plan_builder"
   ]
  },
  {
   "cell_type": "code",
   "execution_count": 8,
   "id": "religious-webmaster",
   "metadata": {},
   "outputs": [],
   "source": [
    "test_plan_pointer = test_plan_builder(input_tensor)"
   ]
  },
  {
   "cell_type": "code",
   "execution_count": 9,
   "id": "dried-universe",
   "metadata": {},
   "outputs": [],
   "source": [
    "res = test_plan_pointer(input_tensor)"
   ]
  },
  {
   "cell_type": "code",
   "execution_count": 10,
   "id": "convertible-india",
   "metadata": {},
   "outputs": [
    {
     "data": {
      "text/plain": [
       "tensor([2, 4, 6])"
      ]
     },
     "execution_count": 10,
     "metadata": {},
     "output_type": "execute_result"
    }
   ],
   "source": [
    "res.get()[0]"
   ]
  },
  {
   "cell_type": "markdown",
   "id": "tired-nutrition",
   "metadata": {},
   "source": [
    "# Option 2: @make_plan2 with PlanBuilder"
   ]
  },
  {
   "cell_type": "code",
   "execution_count": 11,
   "id": "express-accident",
   "metadata": {},
   "outputs": [],
   "source": [
    "class PlanBuilder():\n",
    "    def __init__(self, vm):\n",
    "        self.vm=vm\n",
    "    \n",
    "    def build(self, *args) -> 'PointerPlan':\n",
    "        client = self.vm.get_root_client()\n",
    "        inputs = [arg.send(client) for arg in args]    \n",
    "        self.vm.record_actions()\n",
    "        res = self.forward(*inputs)\n",
    "        self.vm.stop_recording()\n",
    "        plan = Plan(actions=self.vm.recorded_actions, inputs=inputs, outputs=res)\n",
    "        return plan.send(client)"
   ]
  },
  {
   "cell_type": "code",
   "execution_count": 12,
   "id": "tight-mission",
   "metadata": {},
   "outputs": [],
   "source": [
    "def make_plan2(func):\n",
    "    res = PlanBuilder(vm=PlanVirtualMachine(name=\"alice\"))\n",
    "    res.forward=func\n",
    "    return res"
   ]
  },
  {
   "cell_type": "code",
   "execution_count": 13,
   "id": "surprising-assessment",
   "metadata": {},
   "outputs": [],
   "source": [
    "@make_plan2\n",
    "def test_plan_builder2(inp):\n",
    "    return inp + inp"
   ]
  },
  {
   "cell_type": "code",
   "execution_count": 14,
   "id": "random-thompson",
   "metadata": {},
   "outputs": [
    {
     "data": {
      "text/plain": [
       "<__main__.PlanBuilder at 0x7fa04d0c4d10>"
      ]
     },
     "execution_count": 14,
     "metadata": {},
     "output_type": "execute_result"
    }
   ],
   "source": [
    "test_plan_builder2"
   ]
  },
  {
   "cell_type": "code",
   "execution_count": 15,
   "id": "expressed-colors",
   "metadata": {},
   "outputs": [],
   "source": [
    "test_plan_pointer = test_plan_builder2.build(input_tensor)"
   ]
  },
  {
   "cell_type": "code",
   "execution_count": 16,
   "id": "emotional-robin",
   "metadata": {},
   "outputs": [
    {
     "name": "stderr",
     "output_type": "stream",
     "text": [
      "[2021-03-01T10:47:11.050574+0100][CRITICAL][logger]][4819] <class 'syft.core.store.store_memory.MemoryStore'> __delitem__ error <UID: cf0015db878c4ad3b2581b36a5ba10a7>.\n"
     ]
    }
   ],
   "source": [
    "res = test_plan_pointer(input_tensor)"
   ]
  },
  {
   "cell_type": "code",
   "execution_count": 17,
   "id": "processed-treasury",
   "metadata": {},
   "outputs": [
    {
     "data": {
      "text/plain": [
       "tensor([2, 4, 6])"
      ]
     },
     "execution_count": 17,
     "metadata": {},
     "output_type": "execute_result"
    }
   ],
   "source": [
    "res.get()[0]"
   ]
  },
  {
   "cell_type": "markdown",
   "id": "polar-california",
   "metadata": {},
   "source": [
    "# Extra use case for PlanBuilder, wrapping state"
   ]
  },
  {
   "cell_type": "code",
   "execution_count": 18,
   "id": "handled-mileage",
   "metadata": {},
   "outputs": [],
   "source": [
    "model_pointer1 = th.tensor([1,2,3]).send(alice_client)\n",
    "input_tensor = th.tensor([1,2,3])"
   ]
  },
  {
   "cell_type": "code",
   "execution_count": 19,
   "id": "identified-collapse",
   "metadata": {},
   "outputs": [],
   "source": [
    "class TestPlanBuilder(PlanBuilder):\n",
    "    def __init__(self, vm, model_pointer):\n",
    "        super().__init__(vm)\n",
    "        self.model_pointer = model_pointer\n",
    "    \n",
    "    def forward(self, x):\n",
    "        res = x * self.model_pointer\n",
    "        return res"
   ]
  },
  {
   "cell_type": "code",
   "execution_count": 20,
   "id": "parallel-married",
   "metadata": {},
   "outputs": [],
   "source": [
    "plan_pointer = TestPlanBuilder(alice, model_pointer1).build(input_tensor)"
   ]
  },
  {
   "cell_type": "code",
   "execution_count": 21,
   "id": "authorized-causing",
   "metadata": {},
   "outputs": [
    {
     "name": "stderr",
     "output_type": "stream",
     "text": [
      "[2021-03-01T10:47:11.362435+0100][CRITICAL][logger]][4819] <class 'syft.core.store.store_memory.MemoryStore'> __delitem__ error <UID: 6baa1d04b677429c80b83d67f6b53817>.\n"
     ]
    }
   ],
   "source": [
    "res = plan_pointer(input_tensor)"
   ]
  },
  {
   "cell_type": "code",
   "execution_count": 22,
   "id": "differential-fight",
   "metadata": {},
   "outputs": [
    {
     "data": {
      "text/plain": [
       "tensor([1, 4, 9])"
      ]
     },
     "execution_count": 22,
     "metadata": {},
     "output_type": "execute_result"
    }
   ],
   "source": [
    "res.get()[0]"
   ]
  },
  {
   "cell_type": "code",
   "execution_count": null,
   "id": "related-prevention",
   "metadata": {},
   "outputs": [],
   "source": []
  }
 ],
 "metadata": {
  "kernelspec": {
   "display_name": "Python 3",
   "language": "python",
   "name": "python3"
  },
  "language_info": {
   "codemirror_mode": {
    "name": "ipython",
    "version": 3
   },
   "file_extension": ".py",
   "mimetype": "text/x-python",
   "name": "python",
   "nbconvert_exporter": "python",
   "pygments_lexer": "ipython3",
   "version": "3.7.9"
  },
  "toc": {
   "base_numbering": 1,
   "nav_menu": {},
   "number_sections": true,
   "sideBar": true,
   "skip_h1_title": false,
   "title_cell": "Table of Contents",
   "title_sidebar": "Contents",
   "toc_cell": false,
   "toc_position": {
    "height": "calc(100% - 180px)",
    "left": "10px",
    "top": "150px",
    "width": "341.979px"
   },
   "toc_section_display": true,
   "toc_window_display": true
  }
 },
 "nbformat": 4,
 "nbformat_minor": 5
}
