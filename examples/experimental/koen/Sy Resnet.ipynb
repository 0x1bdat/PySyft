{
 "cells": [
  {
   "cell_type": "code",
   "execution_count": 1,
   "id": "covered-atlantic",
   "metadata": {},
   "outputs": [],
   "source": [
    "%load_ext autoreload\n",
    "%autoreload 2"
   ]
  },
  {
   "cell_type": "code",
   "execution_count": 2,
   "id": "killing-russian",
   "metadata": {},
   "outputs": [],
   "source": [
    "import syft as sy\n",
    "import numpy as np\n",
    "import torch as th\n",
    "from syft import VirtualMachine\n",
    "from pathlib import Path\n",
    "from torchvision import datasets, transforms\n",
    "from syft.core.plan.plan_builder import PLAN_BUILDER_VM, make_plan, build_plan_inputs, ROOT_CLIENT\n",
    "from syft.lib.python.collections.ordered_dict import OrderedDict\n",
    "from syft.lib.python.list import List\n",
    "from matplotlib import pyplot as plt\n",
    "from syft import logger\n",
    "from syft import SyModule, SySequential\n",
    "logger.remove()"
   ]
  },
  {
   "cell_type": "markdown",
   "id": "chronic-snake",
   "metadata": {},
   "source": [
    "# Dataset"
   ]
  },
  {
   "cell_type": "code",
   "execution_count": 3,
   "id": "removable-ranch",
   "metadata": {},
   "outputs": [],
   "source": [
    "mnist_path = Path.home() / \".pysyft\" / \"mnist\"\n",
    "mnist_path.mkdir(exist_ok=True, parents=True)"
   ]
  },
  {
   "cell_type": "code",
   "execution_count": 4,
   "id": "proof-gauge",
   "metadata": {},
   "outputs": [],
   "source": [
    "mnist_train = datasets.MNIST(str(mnist_path), train=True, download=True,\n",
    "               transform=transforms.Compose([\n",
    "                   transforms.ToTensor(), transforms.Normalize((0.1307,), (0.3081,))]))\n",
    "\n",
    "mnist_test = datasets.MNIST((mnist_path), train=False, \n",
    "              transform=transforms.Compose([transforms.ToTensor(), transforms.Normalize((0.1307,), (0.3081,))]))"
   ]
  },
  {
   "cell_type": "code",
   "execution_count": 5,
   "id": "received-forward",
   "metadata": {},
   "outputs": [],
   "source": [
    "train_loader = th.utils.data.DataLoader(mnist_train, batch_size=64*3, shuffle=True, pin_memory=True)\n",
    "test_loader = th.utils.data.DataLoader(mnist_test, batch_size=1024, shuffle=True, pin_memory=True)"
   ]
  },
  {
   "cell_type": "markdown",
   "id": "collective-making",
   "metadata": {},
   "source": [
    "# Define Plan"
   ]
  },
  {
   "cell_type": "code",
   "execution_count": 6,
   "id": "union-assurance",
   "metadata": {},
   "outputs": [],
   "source": [
    "# !pip install timm\n",
    "import timm"
   ]
  },
  {
   "cell_type": "code",
   "execution_count": 7,
   "id": "instructional-november",
   "metadata": {},
   "outputs": [],
   "source": [
    "pretrained_model = timm.create_model('resnet18', pretrained=True)\n",
    "# model = timm.create_model('resnet18d', pretrained=True)"
   ]
  },
  {
   "cell_type": "code",
   "execution_count": 8,
   "id": "rental-business",
   "metadata": {},
   "outputs": [],
   "source": [
    "class BasicBlock(SyModule):\n",
    "    \n",
    "    def __init__(self, f_in, f_out, stride1=1, downsample=False, **kwargs):\n",
    "        super().__init__(**kwargs)\n",
    "        \n",
    "        self.conv1 = th.nn.Conv2d(f_in, f_out, kernel_size=(3, 3), stride=stride1, padding=(1, 1), bias=False)\n",
    "        self.bn1 = th.nn.BatchNorm2d(f_out)\n",
    "        self.act1 = th.nn.ReLU()\n",
    "        self.conv2 = th.nn.Conv2d(f_out, f_out, kernel_size=(3, 3), padding=(1, 1), bias=False)\n",
    "        self.bn2 = th.nn.BatchNorm2d(f_out)\n",
    "        self.act2 = th.nn.ReLU()\n",
    "        if downsample ==False:\n",
    "            self.downsample = None\n",
    "        else:\n",
    "            self.downsample = SySequential(\n",
    "                th.nn.Conv2d(f_in, f_out, kernel_size=(1, 1), stride=2, bias=False),\n",
    "                th.nn.BatchNorm2d(f_out),\n",
    "                input_size=self.input_size\n",
    "            )\n",
    "        \n",
    "    \n",
    "    def forward(self, x):\n",
    "        residual = x\n",
    "        x = self.conv1(x)\n",
    "        x = self.bn1(x)\n",
    "        x = self.act1(x)\n",
    "        x = self.conv2(x)\n",
    "        x = self.bn2(x)\n",
    "\n",
    "        if self.downsample is not None:\n",
    "            residual = self.downsample(x=residual)[0]\n",
    "        x += residual\n",
    "        x = self.act2(x)\n",
    "        return x\n",
    "        "
   ]
  },
  {
   "cell_type": "code",
   "execution_count": 9,
   "id": "unnecessary-extension",
   "metadata": {},
   "outputs": [],
   "source": [
    "class ResNet18(SyModule):\n",
    "    \n",
    "    def __init__(self, **kwargs):\n",
    "        super().__init__(**kwargs)\n",
    "        # stem\n",
    "        self.conv1 = th.nn.Conv2d(3, 64, kernel_size=(7,7), stride=(2,2), padding=(3,3), bias=False)\n",
    "        self.bn1 = th.nn.BatchNorm2d(64)\n",
    "        self.act1 = th.nn.ReLU()\n",
    "        self.maxpool = th.nn.MaxPool2d(kernel_size=3, stride=2, padding=1)\n",
    "        \n",
    "        # blocks\n",
    "        filters = [(64, 64), (64, 128), (128, 256), (256, 512)]   \n",
    "        input1_sizes = [(2, 64, 7, 7), (2, 64, 7, 7), (2, 128, 4, 4), (2, 256, 2, 2)]\n",
    "        input2_sizes = [(2, 64, 7, 7), (2, 128, 7, 7), (2, 256, 4, 4), (2, 512, 2, 2)]\n",
    "\n",
    "        for i in range(1,5):\n",
    "            downsample_first = i != 1\n",
    "            f_in, f_out = filters[i-1]\n",
    "            f_in2 = f_out\n",
    "            stride1 = 1 if i == 1 else 2\n",
    "            input1_size = input1_sizes[i-1]\n",
    "            input2_size = input2_sizes[i-1]\n",
    "            \n",
    "            layer = SySequential(\n",
    "                BasicBlock(f_in=f_in, f_out=f_out, downsample=downsample_first, stride1=stride1,\n",
    "                           input_size=input1_size),\n",
    "                BasicBlock(f_in=f_in2, f_out=f_out,\n",
    "                           input_size=input2_size)\n",
    "            )\n",
    "            setattr(self, f\"layer{i}\", layer)\n",
    "            \n",
    "        # head\n",
    "        self.global_pool = th.nn.AdaptiveAvgPool2d(1)\n",
    "        self.fc = th.nn.Linear(in_features=512, out_features=10, bias=True)\n",
    "        \n",
    "    def forward(self, x):\n",
    "        x = self.conv1(x)\n",
    "        x = self.bn1(x)\n",
    "        x = self.act1(x)\n",
    "        x = self.maxpool(x)\n",
    "        \n",
    "        # self.layern are user defined layers and therefore need the self.layern(x=x)[0] stuff\n",
    "        x = self.layer1(x=x)[0]\n",
    "        x = self.layer2(x=x)[0]\n",
    "        x = self.layer3(x=x)[0]\n",
    "        x = self.layer4(x=x)[0]\n",
    "        x = self.global_pool(x).flatten(1)\n",
    "        x = self.fc(x)\n",
    "        return x\n",
    "        \n",
    "        "
   ]
  },
  {
   "cell_type": "code",
   "execution_count": 10,
   "id": "surgical-linux",
   "metadata": {},
   "outputs": [],
   "source": [
    "model = ResNet18(input_size=(2,3,32,32))"
   ]
  },
  {
   "cell_type": "code",
   "execution_count": 11,
   "id": "fleet-prime",
   "metadata": {},
   "outputs": [],
   "source": [
    "state_dict = dict(filter(lambda x: \"fc.\" not in x[0], pretrained_model.state_dict().items()))"
   ]
  },
  {
   "cell_type": "code",
   "execution_count": 12,
   "id": "metallic-colleague",
   "metadata": {},
   "outputs": [],
   "source": [
    "model.load_state_dict(state_dict, strict=False);"
   ]
  },
  {
   "cell_type": "markdown",
   "id": "cubic-nebraska",
   "metadata": {},
   "source": [
    "## Data"
   ]
  },
  {
   "cell_type": "code",
   "execution_count": 13,
   "id": "sacred-sampling",
   "metadata": {},
   "outputs": [
    {
     "name": "stdout",
     "output_type": "stream",
     "text": [
      "Files already downloaded and verified\n"
     ]
    }
   ],
   "source": [
    "cifar10_path = Path.home() / \".pysyft\" / \"cifar10\"\n",
    "cifar10_path.mkdir(exist_ok=True, parents=True)\n",
    "norm = (0.4914, 0.4822, 0.4465), (0.247, 0.243, 0.261)\n",
    "\n",
    "cifar_train = datasets.CIFAR10(cifar10_path, train=True, download=True,\n",
    "               transform=transforms.Compose([\n",
    "                   transforms.RandomHorizontalFlip(),\n",
    "                   transforms.ToTensor(),\n",
    "                   transforms.Normalize(*norm)\n",
    "               ]))\n",
    "\n",
    "cifar_test = datasets.CIFAR10((cifar10_path), train=False, \n",
    "              transform=transforms.Compose([transforms.ToTensor(),\n",
    "                                            transforms.Normalize(*norm)]))"
   ]
  },
  {
   "cell_type": "code",
   "execution_count": 14,
   "id": "collectible-entertainment",
   "metadata": {},
   "outputs": [],
   "source": [
    "train_loader = th.utils.data.DataLoader(cifar_train, batch_size=64, shuffle=True, pin_memory=True)\n",
    "test_loader = th.utils.data.DataLoader(cifar_test, batch_size=1024, shuffle=True, pin_memory=True)"
   ]
  },
  {
   "cell_type": "markdown",
   "id": "wireless-maine",
   "metadata": {},
   "source": [
    "## Plan"
   ]
  },
  {
   "cell_type": "code",
   "execution_count": 15,
   "id": "whole-watson",
   "metadata": {},
   "outputs": [],
   "source": [
    "remote_torch = ROOT_CLIENT.torch\n",
    "dummy_dl = sy.lib.python.List([next(iter(train_loader))])"
   ]
  },
  {
   "cell_type": "code",
   "execution_count": 16,
   "id": "capable-institute",
   "metadata": {},
   "outputs": [],
   "source": [
    "@make_plan\n",
    "def train(dl = dummy_dl, model=model):\n",
    "    \n",
    "    optimizer = remote_torch.optim.AdamW(model.parameters())\n",
    "\n",
    "    for xy in dl:\n",
    "        optimizer.zero_grad()\n",
    "        x, y = xy[0], xy[1]\n",
    "        out = model(x=x)[0]\n",
    "        loss = remote_torch.nn.functional.cross_entropy(out, y)\n",
    "        loss.backward()\n",
    "        optimizer.step()\n",
    "    \n",
    "    return [model]"
   ]
  },
  {
   "cell_type": "code",
   "execution_count": 17,
   "id": "checked-dependence",
   "metadata": {},
   "outputs": [],
   "source": [
    "def test(test_loader, model):\n",
    "    correct = []\n",
    "    model.eval()\n",
    "\n",
    "    for data, target in test_loader:        \n",
    "        output = model(x=data)[0]\n",
    "        _, pred = th.max(output, 1)\n",
    "        correct.append(th.sum(np.squeeze(pred.eq(target.data))))\n",
    "    acc = sum(correct) / len(test_loader.dataset)\n",
    "    return acc"
   ]
  },
  {
   "cell_type": "code",
   "execution_count": 18,
   "id": "unusual-manual",
   "metadata": {},
   "outputs": [],
   "source": [
    "alice_client = VirtualMachine(name=\"alice\").get_client()\n",
    "train_ptr = train.send(alice_client)"
   ]
  },
  {
   "cell_type": "markdown",
   "id": "mediterranean-equilibrium",
   "metadata": {},
   "source": [
    "The expected accuracy for this pretrained model:\n",
    "\n",
    "| iter          | Test acc |\n",
    "|---------------|----------|\n",
    "| 10            | 10%      |\n",
    "| 100           | 25%      |\n",
    "| 200           | 43%      |\n",
    "| 300           | 54%      |\n",
    "| 782 (1 epoch) | 70%      |\n",
    "\n",
    "Currently, this is very slow because the model needs to be serialized & deserialized every time we run it."
   ]
  },
  {
   "cell_type": "code",
   "execution_count": null,
   "id": "soviet-buddy",
   "metadata": {},
   "outputs": [
    {
     "name": "stdout",
     "output_type": "stream",
     "text": [
      "iter 0\n",
      "iter 1\n",
      "iter 2\n",
      "iter 3\n",
      "iter 4\n",
      "iter 5\n",
      "iter 6\n",
      "iter 7\n",
      "iter 8\n",
      "iter 9\n",
      "iter 10\n"
     ]
    },
    {
     "name": "stderr",
     "output_type": "stream",
     "text": [
      "/Users/koen/workspace/PySyft/src/syft/lib/torch/uppercase_tensor.py:30: UserWarning: The .grad attribute of a Tensor that is not a leaf Tensor is being accessed. Its .grad attribute won't be populated during autograd.backward(). If you indeed want the gradient for a non-leaf Tensor, use .retain_grad() on the non-leaf Tensor. If you access the non-leaf Tensor by mistake, make sure you access the leaf Tensor instead. See github.com/pytorch/pytorch/pull/30531 for more informations.\n",
      "  grad = getattr(obj, \"grad\", None)\n"
     ]
    },
    {
     "name": "stdout",
     "output_type": "stream",
     "text": [
      "Iter: 10 Test accuracy: 0.37\n",
      "iter 11\n",
      "iter 12\n",
      "iter 13\n",
      "iter 14\n",
      "iter 15\n"
     ]
    }
   ],
   "source": [
    "for i, (x, y) in enumerate(train_loader):\n",
    "    print(f\"iter {i}\")\n",
    "    dl = [[x,y]]\n",
    "    res_ptr  = train_ptr(dl=dl, model=model)\n",
    "    model, = res_ptr.get()\n",
    "    \n",
    "    if i%10 == 0 and i!=0:\n",
    "        print(f\"Iter: {i} Test accuracy: {test(test_loader, model):.2F}\", flush=True)\n",
    "    if i>50:\n",
    "        break"
   ]
  },
  {
   "cell_type": "markdown",
   "id": "useful-gender",
   "metadata": {},
   "source": [
    "# Appendix"
   ]
  },
  {
   "cell_type": "code",
   "execution_count": 66,
   "id": "daily-behavior",
   "metadata": {},
   "outputs": [],
   "source": [
    "# layer1 = SySequential(\n",
    "#     BasicBlock(f_in=64, f_out=64, stride1=1, input_size=(2, 64, 7, 7)),\n",
    "#     BasicBlock(f_in=64, f_out=64, input_size=(2, 64, 7, 7))\n",
    "# )\n"
   ]
  },
  {
   "cell_type": "code",
   "execution_count": 22,
   "id": "empirical-entrance",
   "metadata": {},
   "outputs": [],
   "source": [
    "# layer2 = SySequential(\n",
    "#     BasicBlock(f_in=64, f_out=128, stride1=2, downsample=True, input_size=(1, 64, 7, 7)),\n",
    "#     BasicBlock(f_in=128, f_out=128, input_size=(1, 128, 7, 7))\n",
    "# )"
   ]
  },
  {
   "cell_type": "code",
   "execution_count": 23,
   "id": "departmental-husband",
   "metadata": {},
   "outputs": [],
   "source": [
    "# layer3 = SySequential(\n",
    "#     BasicBlock(f_in=128, f_out=256, stride1=2, downsample=True, input_size=(1, 128, 4, 4)),\n",
    "#     BasicBlock(f_in=256, f_out=256, input_size=(1, 256, 4, 4))\n",
    "# )"
   ]
  },
  {
   "cell_type": "code",
   "execution_count": 24,
   "id": "precise-kelly",
   "metadata": {},
   "outputs": [],
   "source": [
    "# layer4 = SySequential(\n",
    "#     BasicBlock(f_in=256, f_out=512, stride1=2, downsample=True, input_size=(2, 256, 2, 2)),\n",
    "#     BasicBlock(f_in=512, f_out=512, input_size=(2, 512, 2, 2))\n",
    "# )"
   ]
  },
  {
   "cell_type": "code",
   "execution_count": null,
   "id": "shared-precipitation",
   "metadata": {},
   "outputs": [],
   "source": []
  },
  {
   "cell_type": "code",
   "execution_count": null,
   "id": "thirty-hamburg",
   "metadata": {},
   "outputs": [],
   "source": [
    "# # Cell\n",
    "# class XResNet(nn.Sequential):\n",
    "#     def __init__(self, block, expansion, layers, p=0.0, c_in=3, n_out=1000, stem_szs=(32,32,64),\n",
    "#                  widen=1.0, sa=False, act_cls=defaults.activation, ndim=2, ks=3, stride=2, **kwargs):\n",
    "#         store_attr('block,expansion,act_cls,ndim,ks')\n",
    "#         if ks % 2 == 0: raise Exception('kernel size has to be odd!')\n",
    "#         stem_szs = [c_in, *stem_szs]\n",
    "#         stem = [ConvLayer(stem_szs[i], stem_szs[i+1], ks=ks, stride=stride if i==0 else 1,\n",
    "#                           act_cls=act_cls, ndim=ndim) for i in range(3)]\n",
    "\n",
    "#         block_szs = [int(o*widen) for o in [64,128,256,512] +[256]*(len(layers)-4)]\n",
    "#         block_szs = [64//expansion] + block_szs\n",
    "#         blocks    = self._make_blocks(layers, block_szs, sa, stride, **kwargs)\n",
    "\n",
    "#         super().__init__(\n",
    "#             *stem, MaxPool(ks=ks, stride=stride, padding=ks//2, ndim=ndim),\n",
    "#             *blocks,\n",
    "#             AdaptiveAvgPool(sz=1, ndim=ndim), Flatten(), nn.Dropout(p),\n",
    "#             nn.Linear(block_szs[-1]*expansion, n_out),\n",
    "#         )\n",
    "#         init_cnn(self)\n",
    "\n",
    "#     def _make_blocks(self, layers, block_szs, sa, stride, **kwargs):\n",
    "#         return [self._make_layer(ni=block_szs[i], nf=block_szs[i+1], blocks=l,\n",
    "#                                  stride=1 if i==0 else stride, sa=sa and i==len(layers)-4, **kwargs)\n",
    "#                 for i,l in enumerate(layers)]\n",
    "\n",
    "#     def _make_layer(self, ni, nf, blocks, stride, sa, **kwargs):\n",
    "#         return nn.Sequential(\n",
    "#             *[self.block(self.expansion, ni if i==0 else nf, nf, stride=stride if i==0 else 1,\n",
    "#                       sa=sa and i==(blocks-1), act_cls=self.act_cls, ndim=self.ndim, ks=self.ks, **kwargs)\n",
    "#               for i in range(blocks)])\n"
   ]
  }
 ],
 "metadata": {
  "kernelspec": {
   "display_name": "Python 3",
   "language": "python",
   "name": "python3"
  },
  "language_info": {
   "codemirror_mode": {
    "name": "ipython",
    "version": 3
   },
   "file_extension": ".py",
   "mimetype": "text/x-python",
   "name": "python",
   "nbconvert_exporter": "python",
   "pygments_lexer": "ipython3",
   "version": "3.7.9"
  },
  "toc": {
   "base_numbering": 1,
   "nav_menu": {},
   "number_sections": true,
   "sideBar": true,
   "skip_h1_title": false,
   "title_cell": "Table of Contents",
   "title_sidebar": "Contents",
   "toc_cell": false,
   "toc_position": {},
   "toc_section_display": true,
   "toc_window_display": true
  }
 },
 "nbformat": 4,
 "nbformat_minor": 5
}
