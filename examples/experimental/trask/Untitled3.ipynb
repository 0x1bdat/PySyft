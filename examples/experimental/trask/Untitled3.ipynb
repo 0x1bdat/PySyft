{
 "cells": [
  {
   "cell_type": "code",
   "execution_count": 68,
   "metadata": {},
   "outputs": [],
   "source": [
    "from sympy import symbols, pprint\n",
    "from sympy import diff\n",
    "from sympy.solvers import solve\n",
    "import numpy as np\n",
    "import string\n",
    "import random\n",
    "\n",
    "import syft as sy"
   ]
  },
  {
   "cell_type": "code",
   "execution_count": 97,
   "metadata": {},
   "outputs": [],
   "source": [
    "class Entity():\n",
    "    def __init__(self, name=\"\", id=None):\n",
    "        self.name = name\n",
    "        self.id = id\n",
    "\n",
    "\n",
    "class Scalar():\n",
    "    \n",
    "    def __init__(self, value, poly=None, ent=None, name=None):\n",
    "        \n",
    "        if name is None:\n",
    "            lower_upper_alphabet = string.ascii_letters\n",
    "            name = ''.join([random.choice(lower_upper_alphabet) for i in range(5)])\n",
    "        \n",
    "        self.name = name\n",
    "        self.value = value\n",
    "        \n",
    "        if poly is not None:\n",
    "            self.poly = poly\n",
    "        elif ent is not None:\n",
    "            self.poly = symbols(self.name + \"_\" + ent.name)\n",
    "        else:\n",
    "            raise Exception(\"Poly or ent must be not None\")\n",
    "    \n",
    "    def __mul__(self, other):\n",
    "        result_poly = self.poly * other.poly\n",
    "        result_value = self.value * other.value\n",
    "        \n",
    "        result = Scalar(value=result_value, poly=result_poly)\n",
    "        \n",
    "        return result\n",
    "    \n",
    "    def __str__(self):\n",
    "        return str(self.poly) + \"=\" + str(self.value)\n",
    "    \n",
    "    def __repr__(self):\n",
    "        return str(self)"
   ]
  },
  {
   "cell_type": "code",
   "execution_count": 98,
   "metadata": {},
   "outputs": [],
   "source": [
    "x_ent = np.array(range(0,10))\n",
    "x = Scalar(value=3, ent=Entity(name=\"bob\"))\n",
    "y = Scalar(value=2, ent=Entity(name=\"bob\"))"
   ]
  },
  {
   "cell_type": "code",
   "execution_count": 99,
   "metadata": {},
   "outputs": [],
   "source": [
    "z = x * y"
   ]
  },
  {
   "cell_type": "code",
   "execution_count": 102,
   "metadata": {},
   "outputs": [
    {
     "data": {
      "text/plain": [
       "INFCy_bob*ouYnD_bob=6"
      ]
     },
     "execution_count": 102,
     "metadata": {},
     "output_type": "execute_result"
    }
   ],
   "source": [
    "z"
   ]
  },
  {
   "cell_type": "code",
   "execution_count": 64,
   "metadata": {},
   "outputs": [
    {
     "data": {
      "text/plain": [
       "'EsflsfpsGJ'"
      ]
     },
     "execution_count": 64,
     "metadata": {},
     "output_type": "execute_result"
    }
   ],
   "source": [
    "random_letter"
   ]
  },
  {
   "cell_type": "code",
   "execution_count": 48,
   "metadata": {},
   "outputs": [
    {
     "data": {
      "text/latex": [
       "$\\displaystyle 153252352_{0}$"
      ],
      "text/plain": [
       "153252352_0"
      ]
     },
     "execution_count": 48,
     "metadata": {},
     "output_type": "execute_result"
    }
   ],
   "source": [
    "symbols('153252352_0')"
   ]
  },
  {
   "cell_type": "code",
   "execution_count": 20,
   "metadata": {},
   "outputs": [],
   "source": [
    "x = symbols('x')\n",
    "y = symbols('y')"
   ]
  },
  {
   "cell_type": "code",
   "execution_count": 34,
   "metadata": {},
   "outputs": [],
   "source": [
    "z = (x + 2)**2 * y"
   ]
  },
  {
   "cell_type": "code",
   "execution_count": 35,
   "metadata": {},
   "outputs": [
    {
     "data": {
      "text/plain": [
       "[{x: -2}, {y: 0}]"
      ]
     },
     "execution_count": 35,
     "metadata": {},
     "output_type": "execute_result"
    }
   ],
   "source": [
    "solve(diff(z, x))"
   ]
  },
  {
   "cell_type": "code",
   "execution_count": null,
   "metadata": {},
   "outputs": [],
   "source": []
  }
 ],
 "metadata": {
  "kernelspec": {
   "display_name": "Python 3",
   "language": "python",
   "name": "python3"
  },
  "language_info": {
   "codemirror_mode": {
    "name": "ipython",
    "version": 3
   },
   "file_extension": ".py",
   "mimetype": "text/x-python",
   "name": "python",
   "nbconvert_exporter": "python",
   "pygments_lexer": "ipython3",
   "version": "3.8.3"
  }
 },
 "nbformat": 4,
 "nbformat_minor": 4
}
