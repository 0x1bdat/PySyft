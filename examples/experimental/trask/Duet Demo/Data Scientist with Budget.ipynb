{
 "cells": [
  {
   "cell_type": "code",
   "execution_count": 7,
   "metadata": {},
   "outputs": [
    {
     "name": "stdout",
     "output_type": "stream",
     "text": [
      "🎤  🎸  ♪♪♪ joining duet ♫♫♫  🎻  🎹\n",
      "\n",
      "♫♫♫ >\u001b[93m DISCLAIMER\u001b[0m:\u001b[1m Duet is an experimental feature currently \n",
      "♫♫♫ > in alpha. Do not use this to protect real-world data.\n",
      "\u001b[0m♫♫♫ >\n",
      "♫♫♫ > Punching through firewall to OpenGrid Network Node at network_url: \n",
      "♫♫♫ > http://ec2-18-216-8-163.us-east-2.compute.amazonaws.com:5000\n",
      "♫♫♫ >\n",
      "♫♫♫ > ...waiting for response from OpenGrid Network... \u001b[92mDONE!\u001b[0m\n",
      "\n",
      "♫♫♫ > Duet Client ID: \u001b[1mb6c63710040b1f6426976295ac91b75e\u001b[0m\n",
      "\n",
      "♫♫♫ > \u001b[95mSTEP 1:\u001b[0m Send the Duet Client ID to your duet partner!\n",
      "\n",
      "♫♫♫ > ...waiting for partner to connect...\n",
      "♫♫♫ > ...using a running event loop...\n",
      "\n",
      "♫♫♫ > \u001b[92mCONNECTED!\u001b[0m\n"
     ]
    }
   ],
   "source": [
    "import syft as sy\n",
    "sy.VERBOSE=False\n",
    "duet = sy.join_duet('128d22754a58adbde9fc295765942dfd')"
   ]
  },
  {
   "cell_type": "code",
   "execution_count": 20,
   "metadata": {},
   "outputs": [
    {
     "name": "stdout",
     "output_type": "stream",
     "text": [
      "OVERALL - Per Scientist Entity Budget:3\n",
      "OVERALL - Universal Entity Budget:5\n",
      "\n",
      "EST. REMAINING - MIN Universal Entity Budget:n/a\n",
      "EST. REMAINING - MAX Universal Entity Budget:n/a\n",
      "EST. REMAINING - MEAN Universal Entity Budget:n/a\n",
      "\n",
      "EST. REMAINING - MIN Per Scientist Entity Budget:2.9\n",
      "EST. REMAINING - MAX Per Scientist Entity Budget:3.0\n",
      "EST. REMAINING - MEAN Per Scientist Entity Budget:2.91\n"
     ]
    }
   ],
   "source": [
    "# duet.budget\n",
    "\n",
    "# per_scientist_per_entity_epsilon_budget=3,\n",
    "#                       universal_per_entity_epsilon_budget=5,\n",
    "\n",
    "print(\"OVERALL - Per Scientist Entity Budget:\" + str(3))\n",
    "print(\"OVERALL - Universal Entity Budget:\" + str(5))\n",
    "print()\n",
    "print(\"EST. REMAINING - MIN Universal Entity Budget:\" + str(\"n/a\"))\n",
    "print(\"EST. REMAINING - MAX Universal Entity Budget:\" + str(\"n/a\"))\n",
    "print(\"EST. REMAINING - MEAN Universal Entity Budget:\" + str(\"n/a\"))\n",
    "print()\n",
    "print(\"EST. REMAINING - MIN Per Scientist Entity Budget:\" + str(2.9))\n",
    "print(\"EST. REMAINING - MAX Per Scientist Entity Budget:\" + str(3.0))\n",
    "print(\"EST. REMAINING - MEAN Per Scientist Entity Budget:\" + str(2.91))"
   ]
  },
  {
   "cell_type": "code",
   "execution_count": null,
   "metadata": {},
   "outputs": [],
   "source": [
    "duet.accountant.update_estimates(epsilon=0.1)"
   ]
  },
  {
   "cell_type": "code",
   "execution_count": 19,
   "metadata": {},
   "outputs": [
    {
     "name": "stdout",
     "output_type": "stream",
     "text": [
      "OVERALL - Per Scientist Entity Budget:3\n",
      "OVERALL - Universal Entity Budget:5\n",
      "\n",
      "EST. REMAINING - MIN Universal Entity Budget:4.2\n",
      "EST. REMAINING - MAX Universal Entity Budget:4.9\n",
      "EST. REMAINING - MEAN Universal Entity Budget:4.21\n",
      "\n",
      "EST. REMAINING - MIN Per Scientist Entity Budget:2.91\n",
      "EST. REMAINING - MAX Per Scientist Entity Budget:3.0\n",
      "EST. REMAINING - MEAN Per Scientist Entity Budget:2.92\n"
     ]
    }
   ],
   "source": [
    "# duet.budget\n",
    "\n",
    "print(\"OVERALL - Per Scientist Entity Budget:\" + str(3))\n",
    "print(\"OVERALL - Universal Entity Budget:\" + str(5))\n",
    "print()\n",
    "print(\"EST. REMAINING - MIN Universal Entity Budget:\" + str(4.2))\n",
    "print(\"EST. REMAINING - MAX Universal Entity Budget:\" + str(4.9))\n",
    "print(\"EST. REMAINING - MEAN Universal Entity Budget:\" + str(4.21))\n",
    "print()\n",
    "print(\"EST. REMAINING - MIN Per Scientist Entity Budget:\" + str(2.91))\n",
    "print(\"EST. REMAINING - MAX Per Scientist Entity Budget:\" + str(3.0))\n",
    "print(\"EST. REMAINING - MEAN Per Scientist Entity Budget:\" + str(2.92))"
   ]
  },
  {
   "cell_type": "code",
   "execution_count": 24,
   "metadata": {},
   "outputs": [
    {
     "name": "stdout",
     "output_type": "stream",
     "text": [
      "EST SPEND - MIN Per Scientist Entity Budget:0\n",
      "EST SPEND - MAX Per Scientist Entity Budget:0\n",
      "EST SPEND - MEAN Per Scientist Entity Budget:0.12\n"
     ]
    },
    {
     "data": {
      "text/html": [
       "<div>\n",
       "<style scoped>\n",
       "    .dataframe tbody tr th:only-of-type {\n",
       "        vertical-align: middle;\n",
       "    }\n",
       "\n",
       "    .dataframe tbody tr th {\n",
       "        vertical-align: top;\n",
       "    }\n",
       "\n",
       "    .dataframe thead th {\n",
       "        text-align: right;\n",
       "    }\n",
       "</style>\n",
       "<table border=\"1\" class=\"dataframe\">\n",
       "  <thead>\n",
       "    <tr style=\"text-align: right;\">\n",
       "      <th></th>\n",
       "      <th>ID</th>\n",
       "      <th>Tags</th>\n",
       "      <th>Description</th>\n",
       "    </tr>\n",
       "  </thead>\n",
       "  <tbody>\n",
       "    <tr>\n",
       "      <th>0</th>\n",
       "      <td>&lt;UID:2b025f50-68af-45b1-8e1f-5f7b6af5778d&gt;</td>\n",
       "      <td>[ages]</td>\n",
       "      <td></td>\n",
       "    </tr>\n",
       "    <tr>\n",
       "      <th>1</th>\n",
       "      <td>&lt;UID:a870db53-20a2-42ec-9556-af1e344eee7f&gt;</td>\n",
       "      <td>[heights]</td>\n",
       "      <td></td>\n",
       "    </tr>\n",
       "  </tbody>\n",
       "</table>\n",
       "</div>"
      ],
      "text/plain": [
       "                                           ID       Tags Description\n",
       "0  <UID:2b025f50-68af-45b1-8e1f-5f7b6af5778d>     [ages]            \n",
       "1  <UID:a870db53-20a2-42ec-9556-af1e344eee7f>  [heights]            "
      ]
     },
     "execution_count": 24,
     "metadata": {},
     "output_type": "execute_result"
    }
   ],
   "source": [
    "# estimated budget spend for this tensor\n",
    "print(\"EST SPEND - MIN Per Scientist Entity Budget:\" + str(0))\n",
    "print(\"EST SPEND - MAX Per Scientist Entity Budget:\" + str(0))\n",
    "print(\"EST SPEND - MEAN Per Scientist Entity Budget:\" + str(0.12))\n",
    "\n",
    "# show analytics again as percentage ?\n",
    "\n",
    "duet.store.pandas"
   ]
  },
  {
   "cell_type": "code",
   "execution_count": null,
   "metadata": {},
   "outputs": [],
   "source": []
  },
  {
   "cell_type": "code",
   "execution_count": null,
   "metadata": {},
   "outputs": [],
   "source": []
  },
  {
   "cell_type": "code",
   "execution_count": null,
   "metadata": {},
   "outputs": [],
   "source": []
  },
  {
   "cell_type": "code",
   "execution_count": 5,
   "metadata": {},
   "outputs": [],
   "source": []
  },
  {
   "cell_type": "code",
   "execution_count": null,
   "metadata": {},
   "outputs": [],
   "source": []
  }
 ],
 "metadata": {
  "kernelspec": {
   "display_name": "Python 3",
   "language": "python",
   "name": "python3"
  },
  "language_info": {
   "codemirror_mode": {
    "name": "ipython",
    "version": 3
   },
   "file_extension": ".py",
   "mimetype": "text/x-python",
   "name": "python",
   "nbconvert_exporter": "python",
   "pygments_lexer": "ipython3",
   "version": "3.7.9"
  }
 },
 "nbformat": 4,
 "nbformat_minor": 4
}
