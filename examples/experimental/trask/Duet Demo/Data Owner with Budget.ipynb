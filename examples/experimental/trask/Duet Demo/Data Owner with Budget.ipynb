{
 "cells": [
  {
   "cell_type": "code",
   "execution_count": 1,
   "metadata": {},
   "outputs": [],
   "source": [
    "import syft as sy\n",
    "sy.VERBOSE = False"
   ]
  },
  {
   "cell_type": "code",
   "execution_count": 3,
   "metadata": {},
   "outputs": [
    {
     "name": "stdout",
     "output_type": "stream",
     "text": [
      "🎤  🎸  ♪♪♪ starting duet ♫♫♫  🎻  🎹\n",
      "\n",
      "♫♫♫ >\u001b[93m DISCLAIMER\u001b[0m:\u001b[1m Duet is an experimental feature currently \n",
      "♫♫♫ > in alpha. Do not use this to protect real-world data.\n",
      "\u001b[0m♫♫♫ >\n",
      "♫♫♫ > Punching through firewall to OpenGrid Network Node at network_url: \n",
      "♫♫♫ > http://ec2-18-216-8-163.us-east-2.compute.amazonaws.com:5000\n",
      "♫♫♫ >\n",
      "♫♫♫ > ...waiting for response from OpenGrid Network... \u001b[92mDONE!\u001b[0m\n",
      "♫♫♫ >\n",
      "♫♫♫ > \u001b[95mSTEP 1:\u001b[0m Send the following code to your duet partner!\n",
      "\n",
      "import syft as sy\n",
      "sy.VERBOSE=False\n",
      "duet = sy.join_duet('\u001b[1m128d22754a58adbde9fc295765942dfd\u001b[0m')\n",
      "\n",
      "♫♫♫ > \u001b[95mSTEP 2:\u001b[0m The code above will print out a 'Client Id'. Have\n",
      "♫♫♫ >         your duet partner send it to you and enter it below!\n",
      "\n"
     ]
    },
    {
     "name": "stdin",
     "output_type": "stream",
     "text": [
      "♫♫♫ > Duet Partner's Client Id: b6c63710040b1f6426976295ac91b75e\n"
     ]
    },
    {
     "name": "stdout",
     "output_type": "stream",
     "text": [
      "♫♫♫ > Connecting...\n",
      "♫♫♫ > ...using a running event loop...\n",
      "\n",
      "♫♫♫ > \u001b[92mCONNECTED!\u001b[0m\n",
      "\n",
      "♫♫♫ > DUET LIVE STATUS  *  Objects: 2  Requests: 0   Messages: 7                                "
     ]
    }
   ],
   "source": [
    "duet = sy.launch_duet()\n",
    "\n",
    "# duet = sy.launch_duet(per_scientist_per_entity_epsilon_budget=3,\n",
    "#                       universal_per_entity_epsilon_budget=5,\n",
    "#                       budget_database='~./duet/privacy_budgets.db')"
   ]
  },
  {
   "cell_type": "code",
   "execution_count": 4,
   "metadata": {},
   "outputs": [],
   "source": [
    "import torch as th"
   ]
  },
  {
   "cell_type": "code",
   "execution_count": 5,
   "metadata": {},
   "outputs": [],
   "source": [
    "ages = th.tensor([23,52,31,16]).tag(\"ages\").send(duet, searchable=True)"
   ]
  },
  {
   "cell_type": "code",
   "execution_count": 6,
   "metadata": {},
   "outputs": [],
   "source": [
    "heights = th.tensor([150,160,140,100]).tag(\"heights\").send(duet, searchable=True)"
   ]
  },
  {
   "cell_type": "code",
   "execution_count": null,
   "metadata": {},
   "outputs": [],
   "source": []
  },
  {
   "cell_type": "code",
   "execution_count": null,
   "metadata": {},
   "outputs": [],
   "source": []
  },
  {
   "cell_type": "code",
   "execution_count": null,
   "metadata": {},
   "outputs": [],
   "source": []
  },
  {
   "cell_type": "code",
   "execution_count": null,
   "metadata": {},
   "outputs": [],
   "source": []
  },
  {
   "cell_type": "code",
   "execution_count": null,
   "metadata": {},
   "outputs": [],
   "source": []
  },
  {
   "cell_type": "code",
   "execution_count": null,
   "metadata": {},
   "outputs": [],
   "source": []
  },
  {
   "cell_type": "code",
   "execution_count": 22,
   "metadata": {},
   "outputs": [],
   "source": [
    "ages = th.tensor([23,52,31,16]).tag(\"ages\").private(every_value_unique_entity=True,\n",
    "                                                    every_row_unique_entity=False,\n",
    "                                                    every_column_unique_entity=False,\n",
    "                                                    max_value=125,\n",
    "                                                    min_value=0).send(duet, searchable=True)\n",
    "\n",
    "# ages.entities by default equals = [acc.n_entities+0,acc.n_entities+1,acc.n_entities+2,acc.n_entities+3]\n",
    "\n",
    "heights = th.tensor([150,160,140,100]).tag(\"heights\").private(every_value_unique_entity=True,\n",
    "                                                              max_value=250, \n",
    "                                                              min_value=0, \n",
    "                                                              entities=ages.entities).send(duet, searchable=True)"
   ]
  },
  {
   "cell_type": "code",
   "execution_count": 35,
   "metadata": {},
   "outputs": [
    {
     "data": {
      "text/html": [
       "<div>\n",
       "<style scoped>\n",
       "    .dataframe tbody tr th:only-of-type {\n",
       "        vertical-align: middle;\n",
       "    }\n",
       "\n",
       "    .dataframe tbody tr th {\n",
       "        vertical-align: top;\n",
       "    }\n",
       "\n",
       "    .dataframe thead th {\n",
       "        text-align: right;\n",
       "    }\n",
       "</style>\n",
       "<table border=\"1\" class=\"dataframe\">\n",
       "  <thead>\n",
       "    <tr style=\"text-align: right;\">\n",
       "      <th></th>\n",
       "      <th>Request Name</th>\n",
       "      <th>Reason</th>\n",
       "      <th>Request ID</th>\n",
       "      <th>Requested Object's ID</th>\n",
       "    </tr>\n",
       "  </thead>\n",
       "  <tbody>\n",
       "    <tr>\n",
       "      <th>0</th>\n",
       "      <td></td>\n",
       "      <td>pretty please</td>\n",
       "      <td>&lt;UID:f249f9dd-337f-42a4-b942-d89db9358c68&gt;</td>\n",
       "      <td>&lt;UID:22f398ae-5093-49e4-b98d-fc1a260e87a8&gt;</td>\n",
       "    </tr>\n",
       "  </tbody>\n",
       "</table>\n",
       "</div>"
      ],
      "text/plain": [
       "  Request Name         Reason                                  Request ID  \\\n",
       "0               pretty please  <UID:f249f9dd-337f-42a4-b942-d89db9358c68>   \n",
       "\n",
       "                        Requested Object's ID  \n",
       "0  <UID:22f398ae-5093-49e4-b98d-fc1a260e87a8>  "
      ]
     },
     "execution_count": 35,
     "metadata": {},
     "output_type": "execute_result"
    }
   ],
   "source": [
    "duet.requests.pandas"
   ]
  },
  {
   "cell_type": "code",
   "execution_count": 20,
   "metadata": {},
   "outputs": [],
   "source": [
    "duet.requests[0].grant()"
   ]
  },
  {
   "cell_type": "code",
   "execution_count": null,
   "metadata": {},
   "outputs": [],
   "source": []
  }
 ],
 "metadata": {
  "kernelspec": {
   "display_name": "Python 3",
   "language": "python",
   "name": "python3"
  },
  "language_info": {
   "codemirror_mode": {
    "name": "ipython",
    "version": 3
   },
   "file_extension": ".py",
   "mimetype": "text/x-python",
   "name": "python",
   "nbconvert_exporter": "python",
   "pygments_lexer": "ipython3",
   "version": "3.7.9"
  }
 },
 "nbformat": 4,
 "nbformat_minor": 4
}
