{
 "cells": [
  {
   "cell_type": "code",
   "execution_count": 1,
   "metadata": {
    "id": "-0I2h8hPzfB8"
   },
   "outputs": [],
   "source": [
    "# Step 3: Importing Syft\n",
    "import syft as sy\n",
    "sy.VERBOSE = False"
   ]
  },
  {
   "cell_type": "markdown",
   "metadata": {
    "id": "w6ZgxErNiNqb"
   },
   "source": [
    "# PART 1: Launch a Duet Server and Connect\n",
    "\n",
    "As the data owner, we want to allow someone else to perform data science on data that we own ourselves. \n",
    "\n",
    "In order to do this, we must load our data into a locally running server (within our notebook). We call this server a \"Duet\". \n",
    "\n",
    "To begin, we must launch Duet and help our duet \"partner\" (a data scientist) connect to our server.\n",
    "\n",
    "I do this by running the code below and following the instructions it gives!"
   ]
  },
  {
   "cell_type": "code",
   "execution_count": 3,
   "metadata": {
    "colab": {
     "base_uri": "https://localhost:8080/",
     "height": 459
    },
    "id": "LJdG2avNipW6",
    "outputId": "54692b78-64b2-41f7-a018-c585aab79513"
   },
   "outputs": [
    {
     "name": "stdout",
     "output_type": "stream",
     "text": [
      "🎤  🎸  ♪♪♪ starting duet ♫♫♫  🎻  🎹\n",
      "\n",
      "♫♫♫ >\u001b[93m DISCLAIMER\u001b[0m:\u001b[1m Duet is an experimental feature currently \n",
      "♫♫♫ > in alpha. Do not use this to protect real-world data.\n",
      "\u001b[0m♫♫♫ >\n",
      "♫♫♫ > Punching through firewall to OpenGrid Network Node at network_url: \n",
      "♫♫♫ > http://ec2-18-216-8-163.us-east-2.compute.amazonaws.com:5000\n",
      "♫♫♫ >\n",
      "♫♫♫ > ...waiting for response from OpenGrid Network... \u001b[92mDONE!\u001b[0m\n",
      "♫♫♫ >\n",
      "♫♫♫ > \u001b[95mSTEP 1:\u001b[0m Send the following code to your duet partner!\n",
      "\n",
      "import syft as sy\n",
      "sy.VERBOSE=False\n",
      "duet = sy.join_duet('\u001b[1m1a22ce8679a0ccdd0146266718f363e7\u001b[0m')\n",
      "\n",
      "♫♫♫ > \u001b[95mSTEP 2:\u001b[0m The code above will print out a 'Client Id'. Have\n",
      "♫♫♫ >         your duet partner send it to you and enter it below!\n",
      "\n"
     ]
    },
    {
     "name": "stdin",
     "output_type": "stream",
     "text": [
      "♫♫♫ > Duet Partner's Client Id: 54c20a8c31f1588f6d37b7b9b08b5d0c\n"
     ]
    },
    {
     "name": "stdout",
     "output_type": "stream",
     "text": [
      "♫♫♫ > Connecting...\n",
      "♫♫♫ > ...using a running event loop...\n",
      "\n",
      "♫♫♫ > DUET LIVE STATUS  *  Objects: 1  Requests: 0   Messages: 6                                "
     ]
    }
   ],
   "source": [
    "duet = sy.launch_duet()"
   ]
  },
  {
   "cell_type": "markdown",
   "metadata": {
    "id": "HGwuxhZjjufd"
   },
   "source": [
    "# Part 2: Host My Data On My Duet Server\n",
    "\n",
    "In order for me to allow a data scientist to perform data science on my information, I must first upload it to my Duet server (which I launched in the last cell)\n",
    "\n",
    "I can send data to the server using the PySyft API. By default, when I send data to the server, only I can use it for computation.\n",
    "\n",
    "If I send data with the \"searchable=True\" flag, then others who are connected to my Duet server will be able to find/use my data BUT NOT DOWNLOAD IT.\n",
    "\n",
    "One more detail.... in order for people to find my data, I need to NAME IT so that they know which tensor on Duet is the one they are looking for"
   ]
  },
  {
   "cell_type": "code",
   "execution_count": 4,
   "metadata": {
    "id": "POAZDPcYhqsY"
   },
   "outputs": [],
   "source": [
    "import torch as th\n",
    "\n",
    "# let's pretend we have a tensor of human ages\n",
    "age_data = th.tensor([54,25,32,53,16])\n",
    "\n",
    "# Let's tag it as \"age data\"\n",
    "age_data = age_data.tag(\"#age_data\")\n",
    "\n",
    "# Let's add a description to the tensor\n",
    "age_data = age_data.describe(\"This is a list of people's ages. Let's keep it private!\")\n",
    "\n",
    "# Let's UPLOAD THE DATA to the Duet server!\n",
    "age_data_pointer = age_data.send(duet, searchable=True)"
   ]
  },
  {
   "cell_type": "code",
   "execution_count": 9,
   "metadata": {
    "colab": {
     "base_uri": "https://localhost:8080/",
     "height": 34
    },
    "id": "U3lODE1cpHjN",
    "outputId": "21177401-fa2e-4fa7-8ea0-300ba7b1cf47"
   },
   "outputs": [
    {
     "data": {
      "text/plain": [
       "[<syft.proxy.torch.TensorPointer object at 0x7fe748b82690>]"
      ]
     },
     "execution_count": 9,
     "metadata": {},
     "output_type": "execute_result"
    }
   ],
   "source": [
    "# one way to see what's in our store is to just look at the variable\n",
    "duet.store"
   ]
  },
  {
   "cell_type": "code",
   "execution_count": 5,
   "metadata": {
    "colab": {
     "base_uri": "https://localhost:8080/",
     "height": 80
    },
    "id": "__lLOKN1m_4D",
    "outputId": "b4b2488c-987d-41e0-acb0-867a1a596390"
   },
   "outputs": [
    {
     "data": {
      "text/html": [
       "<div>\n",
       "<style scoped>\n",
       "    .dataframe tbody tr th:only-of-type {\n",
       "        vertical-align: middle;\n",
       "    }\n",
       "\n",
       "    .dataframe tbody tr th {\n",
       "        vertical-align: top;\n",
       "    }\n",
       "\n",
       "    .dataframe thead th {\n",
       "        text-align: right;\n",
       "    }\n",
       "</style>\n",
       "<table border=\"1\" class=\"dataframe\">\n",
       "  <thead>\n",
       "    <tr style=\"text-align: right;\">\n",
       "      <th></th>\n",
       "      <th>ID</th>\n",
       "      <th>Tags</th>\n",
       "      <th>Description</th>\n",
       "    </tr>\n",
       "  </thead>\n",
       "  <tbody>\n",
       "    <tr>\n",
       "      <th>0</th>\n",
       "      <td>&lt;UID:8a99eeb6-0054-49f3-a917-14a44fc08b9e&gt;</td>\n",
       "      <td>[#age_data]</td>\n",
       "      <td>This is a list of people's ages. Let's keep it...</td>\n",
       "    </tr>\n",
       "  </tbody>\n",
       "</table>\n",
       "</div>"
      ],
      "text/plain": [
       "                                           ID         Tags  \\\n",
       "0  <UID:8a99eeb6-0054-49f3-a917-14a44fc08b9e>  [#age_data]   \n",
       "\n",
       "                                         Description  \n",
       "0  This is a list of people's ages. Let's keep it...  "
      ]
     },
     "execution_count": 5,
     "metadata": {},
     "output_type": "execute_result"
    },
    {
     "name": "stderr",
     "output_type": "stream",
     "text": [
      "Exception in callback AsyncIOEventEmitter._emit_run.<locals>._callback(<Task finishe...ng instead.')>) at /Users/atrask/opt/anaconda3/envs/syft/lib/python3.7/site-packages/pyee/_asyncio.py:55\n",
      "handle: <Handle AsyncIOEventEmitter._emit_run.<locals>._callback(<Task finishe...ng instead.')>) at /Users/atrask/opt/anaconda3/envs/syft/lib/python3.7/site-packages/pyee/_asyncio.py:55>\n",
      "Traceback (most recent call last):\n",
      "  File \"/Users/atrask/opt/anaconda3/envs/syft/lib/python3.7/site-packages/nest_asyncio.py\", line 190, in run\n",
      "    ctx.run(self._callback, *self._args)\n",
      "  File \"/Users/atrask/opt/anaconda3/envs/syft/lib/python3.7/site-packages/pyee/_asyncio.py\", line 62, in _callback\n",
      "    self.emit('error', exc)\n",
      "  File \"/Users/atrask/opt/anaconda3/envs/syft/lib/python3.7/site-packages/pyee/_base.py\", line 111, in emit\n",
      "    self._emit_handle_potential_error(event, args[0] if args else None)\n",
      "  File \"/Users/atrask/opt/anaconda3/envs/syft/lib/python3.7/site-packages/pyee/_base.py\", line 83, in _emit_handle_potential_error\n",
      "    raise error\n",
      "  File \"/Users/atrask/opt/anaconda3/envs/syft/lib/python3.7/asyncio/tasks.py\", line 249, in __step\n",
      "    result = coro.send(None)\n",
      "  File \"/Users/atrask/Laboratory/openmined/PySyft/src/syft/grid/connections/webrtc.py\", line 187, in on_message\n",
      "    await self.consumer(msg=message)\n",
      "  File \"/Users/atrask/opt/anaconda3/envs/syft/lib/python3.7/site-packages/typeguard/__init__.py\", line 858, in async_wrapper\n",
      "    retval = await func(*args, **kwargs)\n",
      "  File \"/Users/atrask/Laboratory/openmined/PySyft/src/syft/grid/connections/webrtc.py\", line 315, in consumer\n",
      "    self.recv_immediate_msg_without_reply(msg=_msg)\n",
      "  File \"/Users/atrask/Laboratory/openmined/PySyft/src/syft/decorators/syft_decorator_impl.py\", line 32, in wrapper\n",
      "    return function(*args, **kwargs)\n",
      "  File \"/Users/atrask/Laboratory/openmined/PySyft/src/syft/decorators/typecheck.py\", line 110, in decorator\n",
      "    return typechecked(decorated)(*args, **kwargs)\n",
      "  File \"/Users/atrask/opt/anaconda3/envs/syft/lib/python3.7/site-packages/typeguard/__init__.py\", line 840, in wrapper\n",
      "    retval = func(*args, **kwargs)\n",
      "  File \"/Users/atrask/Laboratory/openmined/PySyft/src/syft/grid/connections/webrtc.py\", line 347, in recv_immediate_msg_without_reply\n",
      "    self.node.recv_immediate_msg_without_reply(msg=msg)\n",
      "  File \"/Users/atrask/Laboratory/openmined/PySyft/src/syft/decorators/syft_decorator_impl.py\", line 32, in wrapper\n",
      "    return function(*args, **kwargs)\n",
      "  File \"/Users/atrask/Laboratory/openmined/PySyft/src/syft/decorators/typecheck.py\", line 110, in decorator\n",
      "    return typechecked(decorated)(*args, **kwargs)\n",
      "  File \"/Users/atrask/opt/anaconda3/envs/syft/lib/python3.7/site-packages/typeguard/__init__.py\", line 840, in wrapper\n",
      "    retval = func(*args, **kwargs)\n",
      "  File \"/Users/atrask/Laboratory/openmined/PySyft/src/syft/core/node/common/node.py\", line 412, in recv_immediate_msg_without_reply\n",
      "    raise e\n",
      "  File \"/Users/atrask/Laboratory/openmined/PySyft/src/syft/core/node/common/node.py\", line 388, in recv_immediate_msg_without_reply\n",
      "    msg=msg, router=self.immediate_msg_without_reply_router\n",
      "  File \"/Users/atrask/Laboratory/openmined/PySyft/src/syft/core/node/common/node.py\", line 470, in process_message\n",
      "    verify_key=msg.verify_key,\n",
      "  File \"/Users/atrask/Laboratory/openmined/PySyft/src/syft/decorators/syft_decorator_impl.py\", line 32, in wrapper\n",
      "    return function(*args, **kwargs)\n",
      "  File \"/Users/atrask/Laboratory/openmined/PySyft/src/syft/decorators/typecheck.py\", line 110, in decorator\n",
      "    return typechecked(decorated)(*args, **kwargs)\n",
      "  File \"/Users/atrask/opt/anaconda3/envs/syft/lib/python3.7/site-packages/typeguard/__init__.py\", line 840, in wrapper\n",
      "    retval = func(*args, **kwargs)\n",
      "  File \"/Users/atrask/Laboratory/openmined/PySyft/src/syft/core/node/common/service/obj_action_service.py\", line 26, in process\n",
      "    msg.execute_action(node=node, verify_key=verify_key)\n",
      "  File \"/Users/atrask/Laboratory/openmined/PySyft/src/syft/core/node/common/action/run_class_method_action.py\", line 116, in execute_action\n",
      "    result = method(resolved_self.data, *upcasted_args, **upcasted_kwargs)\n",
      "RuntimeError: Can only calculate the mean of floating types. Got Long instead.\n"
     ]
    },
    {
     "name": "stdout",
     "output_type": "stream",
     "text": [
      "An <class 'RuntimeError'> has been triggered by <class 'syft.core.node.common.action.run_class_method_action.RunClassMethodAction'> \n",
      "\n",
      "An AuthorizationException has been triggered by <class 'syft.core.node.common.action.get_object_action.GetObjectAction'> from <Address - Domain:<SpecificLocation:..c2356>>\n"
     ]
    }
   ],
   "source": [
    "# alternatively, we can pretty-print the data using a pandas table\n",
    "duet.store.pandas"
   ]
  },
  {
   "cell_type": "markdown",
   "metadata": {
    "id": "Ah5BQuv9pTP6"
   },
   "source": [
    "# Part 3: Wait for Data Scientist to do Analysis\n",
    "\n",
    "During this section, we wait as the data scientist uses our data to answer a question. The key constraint is that while the data scientist can perform analysis, they have to ask permission to download any results for them to see.\n",
    "\n",
    "So while they're doing analysis, we will continue to CHECK to see if they have REQUESTED permission to download anything using the following code"
   ]
  },
  {
   "cell_type": "code",
   "execution_count": 6,
   "metadata": {
    "colab": {
     "base_uri": "https://localhost:8080/",
     "height": 114
    },
    "id": "VnHzjDfBlSIn",
    "outputId": "9867aca4-808a-4c5f-ca56-bcabff895069"
   },
   "outputs": [
    {
     "data": {
      "text/html": [
       "<div>\n",
       "<style scoped>\n",
       "    .dataframe tbody tr th:only-of-type {\n",
       "        vertical-align: middle;\n",
       "    }\n",
       "\n",
       "    .dataframe tbody tr th {\n",
       "        vertical-align: top;\n",
       "    }\n",
       "\n",
       "    .dataframe thead th {\n",
       "        text-align: right;\n",
       "    }\n",
       "</style>\n",
       "<table border=\"1\" class=\"dataframe\">\n",
       "  <thead>\n",
       "    <tr style=\"text-align: right;\">\n",
       "      <th></th>\n",
       "      <th>Request Name</th>\n",
       "      <th>Reason</th>\n",
       "      <th>Request ID</th>\n",
       "      <th>Requested Object's ID</th>\n",
       "    </tr>\n",
       "  </thead>\n",
       "  <tbody>\n",
       "    <tr>\n",
       "      <th>0</th>\n",
       "      <td>Age Request</td>\n",
       "      <td>I am a data scientist and I want to know the a...</td>\n",
       "      <td>&lt;UID:4c9c4ff9-5a02-438c-a504-b67c71a9a095&gt;</td>\n",
       "      <td>&lt;UID:ba56d6a0-e4e7-414a-902f-ee67dc3b6b7c&gt;</td>\n",
       "    </tr>\n",
       "  </tbody>\n",
       "</table>\n",
       "</div>"
      ],
      "text/plain": [
       "  Request Name                                             Reason  \\\n",
       "0  Age Request  I am a data scientist and I want to know the a...   \n",
       "\n",
       "                                   Request ID  \\\n",
       "0  <UID:4c9c4ff9-5a02-438c-a504-b67c71a9a095>   \n",
       "\n",
       "                        Requested Object's ID  \n",
       "0  <UID:ba56d6a0-e4e7-414a-902f-ee67dc3b6b7c>  "
      ]
     },
     "execution_count": 6,
     "metadata": {},
     "output_type": "execute_result"
    }
   ],
   "source": [
    "# run this repeatedly to check if there are requests\n",
    "duet.requests.pandas"
   ]
  },
  {
   "cell_type": "code",
   "execution_count": 7,
   "metadata": {
    "colab": {
     "base_uri": "https://localhost:8080/",
     "height": 35
    },
    "id": "KJ3LIBJwm0Fn",
    "outputId": "2350a859-b9cd-4b0d-d5e0-bd07a28d68c0"
   },
   "outputs": [
    {
     "data": {
      "text/plain": [
       "'I am a data scientist and I want to know the average age of the people in your dataset.'"
      ]
     },
     "execution_count": 7,
     "metadata": {},
     "output_type": "execute_result"
    }
   ],
   "source": [
    "# Looks like we have a request for data! Let's take a look!\n",
    "\n",
    "duet.requests[0].request_description"
   ]
  },
  {
   "cell_type": "code",
   "execution_count": 8,
   "metadata": {
    "id": "AOK2s5T1xkbC"
   },
   "outputs": [
    {
     "name": "stdout",
     "output_type": "stream",
     "text": [
      "Granting request: <UID:4c9c4ff9-5a02-438c-a504-b67c71a9a095>\n"
     ]
    }
   ],
   "source": [
    "# this looks like a great request... \n",
    "# I could deny it by calling .deny(), but I'm going to accept it\n",
    "\n",
    "#duet.requests[0].deny()\n",
    "\n",
    "duet.requests[0].accept()"
   ]
  },
  {
   "cell_type": "code",
   "execution_count": 9,
   "metadata": {},
   "outputs": [
    {
     "data": {
      "text/html": [
       "<div>\n",
       "<style scoped>\n",
       "    .dataframe tbody tr th:only-of-type {\n",
       "        vertical-align: middle;\n",
       "    }\n",
       "\n",
       "    .dataframe tbody tr th {\n",
       "        vertical-align: top;\n",
       "    }\n",
       "\n",
       "    .dataframe thead th {\n",
       "        text-align: right;\n",
       "    }\n",
       "</style>\n",
       "<table border=\"1\" class=\"dataframe\">\n",
       "  <thead>\n",
       "    <tr style=\"text-align: right;\">\n",
       "      <th></th>\n",
       "    </tr>\n",
       "  </thead>\n",
       "  <tbody>\n",
       "  </tbody>\n",
       "</table>\n",
       "</div>"
      ],
      "text/plain": [
       "Empty DataFrame\n",
       "Columns: []\n",
       "Index: []"
      ]
     },
     "execution_count": 9,
     "metadata": {},
     "output_type": "execute_result"
    }
   ],
   "source": [
    "# run this repeatedly to check if there are requests\n",
    "duet.requests.pandas"
   ]
  },
  {
   "cell_type": "code",
   "execution_count": null,
   "metadata": {},
   "outputs": [],
   "source": []
  }
 ],
 "metadata": {
  "accelerator": "GPU",
  "colab": {
   "collapsed_sections": [],
   "name": "Duet Demo - Data Owner Notebook",
   "provenance": []
  },
  "kernelspec": {
   "display_name": "Python 3",
   "language": "python",
   "name": "python3"
  },
  "language_info": {
   "codemirror_mode": {
    "name": "ipython",
    "version": 3
   },
   "file_extension": ".py",
   "mimetype": "text/x-python",
   "name": "python",
   "nbconvert_exporter": "python",
   "pygments_lexer": "ipython3",
   "version": "3.7.9"
  }
 },
 "nbformat": 4,
 "nbformat_minor": 4
}
