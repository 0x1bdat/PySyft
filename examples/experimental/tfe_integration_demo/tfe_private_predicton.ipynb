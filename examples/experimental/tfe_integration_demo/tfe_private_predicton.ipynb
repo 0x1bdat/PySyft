{
 "cells": [
  {
   "cell_type": "markdown",
   "metadata": {},
   "source": [
    "# TF Encrypted Private Prediction"
   ]
  },
  {
   "cell_type": "code",
   "execution_count": 1,
   "metadata": {},
   "outputs": [],
   "source": [
    "import syft\n",
    "import numpy as np\n",
    "import tensorflow as tf"
   ]
  },
  {
   "cell_type": "markdown",
   "metadata": {},
   "source": [
    "## Step 1: Train model with Plaintext Keras"
   ]
  },
  {
   "cell_type": "code",
   "execution_count": 2,
   "metadata": {},
   "outputs": [
    {
     "name": "stderr",
     "output_type": "stream",
     "text": [
      "Using TensorFlow backend.\n"
     ]
    },
    {
     "name": "stdout",
     "output_type": "stream",
     "text": [
      "x_train shape: (60000, 28, 28, 1)\n",
      "60000 train samples\n",
      "10000 test samples\n",
      "WARNING:tensorflow:From /anaconda3/envs/pysyft_36/lib/python3.6/site-packages/tensorflow/python/framework/op_def_library.py:263: colocate_with (from tensorflow.python.framework.ops) is deprecated and will be removed in a future version.\n",
      "Instructions for updating:\n",
      "Colocations handled automatically by placer.\n",
      "WARNING:tensorflow:From /anaconda3/envs/pysyft_36/lib/python3.6/site-packages/tensorflow/python/ops/math_ops.py:3066: to_int32 (from tensorflow.python.ops.math_ops) is deprecated and will be removed in a future version.\n",
      "Instructions for updating:\n",
      "Use tf.cast instead.\n",
      "Train on 60000 samples, validate on 10000 samples\n",
      "Epoch 1/2\n",
      "60000/60000 [==============================] - 7s 113us/step - loss: 0.6592 - acc: 0.7916 - val_loss: 0.2570 - val_acc: 0.9186\n",
      "Epoch 2/2\n",
      "60000/60000 [==============================] - 7s 109us/step - loss: 0.2349 - acc: 0.9293 - val_loss: 0.2035 - val_acc: 0.9359\n",
      "Test loss: 0.2034820306122303\n",
      "Test accuracy: 0.9359\n"
     ]
    }
   ],
   "source": [
    "from __future__ import print_function\n",
    "import keras\n",
    "from keras.datasets import mnist\n",
    "from keras.models import Sequential\n",
    "from keras.layers import Dense, Dropout, Flatten\n",
    "from keras.layers import Conv2D, AveragePooling2D\n",
    "from keras.layers import ReLU\n",
    "\n",
    "batch_size = 128\n",
    "num_classes = 10\n",
    "epochs = 2\n",
    "\n",
    "# input image dimensions\n",
    "img_rows, img_cols = 28, 28\n",
    "\n",
    "# the data, split between train and test sets\n",
    "(x_train, y_train), (x_test, y_test) = mnist.load_data()\n",
    "\n",
    "x_train = x_train.reshape(x_train.shape[0], img_rows, img_cols, 1)\n",
    "x_test = x_test.reshape(x_test.shape[0], img_rows, img_cols, 1)\n",
    "input_shape = (img_rows, img_cols, 1)\n",
    "\n",
    "x_train = x_train.astype('float32')\n",
    "x_test = x_test.astype('float32')\n",
    "x_train /= 255\n",
    "x_test /= 255\n",
    "print('x_train shape:', x_train.shape)\n",
    "print(x_train.shape[0], 'train samples')\n",
    "print(x_test.shape[0], 'test samples')\n",
    "\n",
    "# convert class vectors to binary class matrices\n",
    "y_train = keras.utils.to_categorical(y_train, num_classes)\n",
    "y_test = keras.utils.to_categorical(y_test, num_classes)\n",
    "\n",
    "public_model = Sequential()\n",
    "\n",
    "public_model.add(Conv2D(10, (3, 3), input_shape=input_shape))\n",
    "public_model.add(AveragePooling2D((2, 2)))\n",
    "public_model.add(ReLU())\n",
    "public_model.add(Conv2D(32, (3, 3)))\n",
    "public_model.add(AveragePooling2D((2, 2)))\n",
    "public_model.add(ReLU())\n",
    "public_model.add(Conv2D(64, (3, 3)))\n",
    "public_model.add(AveragePooling2D((2, 2)))\n",
    "public_model.add(ReLU())\n",
    "public_model.add(Flatten())\n",
    "public_model.add(Dense(num_classes, activation='softmax'))\n",
    "\n",
    "public_model.compile(loss=keras.losses.categorical_crossentropy,\n",
    "              optimizer=keras.optimizers.Adadelta(),\n",
    "              metrics=['accuracy'])\n",
    "\n",
    "public_model.fit(x_train, y_train,\n",
    "          batch_size=batch_size,\n",
    "          epochs=epochs,\n",
    "          verbose=1,\n",
    "          validation_data=(x_test, y_test))\n",
    "score = public_model.evaluate(x_test, y_test, verbose=0)\n",
    "print('Test loss:', score[0])\n",
    "print('Test accuracy:', score[1])"
   ]
  },
  {
   "cell_type": "code",
   "execution_count": 3,
   "metadata": {},
   "outputs": [],
   "source": [
    "# Save model weights\n",
    "weights_from_model_owner = public_model.get_weights()"
   ]
  },
  {
   "cell_type": "markdown",
   "metadata": {},
   "source": [
    "## Private Prediction using Syft Keras"
   ]
  },
  {
   "cell_type": "code",
   "execution_count": 4,
   "metadata": {},
   "outputs": [],
   "source": [
    "from syft.keras.model import Sequential\n",
    "from syft.keras.layers import AveragePooling2D, Conv2D, Dense, Activation, Flatten, ReLU"
   ]
  },
  {
   "cell_type": "code",
   "execution_count": 5,
   "metadata": {},
   "outputs": [],
   "source": [
    "task_shape = [None, 28, 28, 1]"
   ]
  },
  {
   "cell_type": "code",
   "execution_count": 6,
   "metadata": {},
   "outputs": [],
   "source": [
    "# Define private model\n",
    "# Should be equvalent to the plaintext model\n",
    "private_model = Sequential()\n",
    "\n",
    "private_model.add(Conv2D(10, (3, 3), input_shape=task_shape[1:]))\n",
    "private_model.add(AveragePooling2D((2, 2)))\n",
    "private_model.add(ReLU())\n",
    "private_model.add(Conv2D(32, (3, 3)))\n",
    "private_model.add(AveragePooling2D((2, 2)))\n",
    "private_model.add(ReLU())\n",
    "private_model.add(Conv2D(64, (3, 3)))\n",
    "private_model.add(AveragePooling2D((2, 2)))\n",
    "private_model.add(ReLU())\n",
    "private_model.add(Flatten())\n",
    "private_model.add(Dense(10, name=\"logit\"))"
   ]
  },
  {
   "cell_type": "code",
   "execution_count": 7,
   "metadata": {},
   "outputs": [],
   "source": [
    "# Load pre-trained model \n",
    "private_model.set_weights(weights_from_model_owner)"
   ]
  },
  {
   "cell_type": "code",
   "execution_count": 8,
   "metadata": {},
   "outputs": [],
   "source": [
    "# prot = tfe.SecureNN(player_0=alice,\n",
    "#                     player_1=bob,\n",
    "#                     comparison_helper=carol,\n",
    "#                     crypto_producer=carol)\n",
    "\n",
    "# Currently using keras under the hood.\n",
    "# will have to provide protocol when tfe.keras is ready\n",
    "# the share method instantiate the keras model and load the weights\n",
    "private_model_secured = private_model.share(prot=None)"
   ]
  },
  {
   "cell_type": "code",
   "execution_count": 9,
   "metadata": {},
   "outputs": [
    {
     "name": "stdout",
     "output_type": "stream",
     "text": [
      "[[  8.462496    -9.085601    10.706078     4.7028933   -0.02719639\n",
      "   -0.5176338   15.803772   -13.880548     9.9395485   -6.1211925 ]]\n"
     ]
    }
   ],
   "source": [
    "# will have to provide data using x = tfe.define_private_input\n",
    "data = np.ones([1, 28, 28, 1])\n",
    "\n",
    "# Compute private prediction. Will have to use `tfe.define_output`\n",
    "private_prediction = private_model_secured.predict(data)\n",
    "\n",
    "print(private_prediction)"
   ]
  },
  {
   "cell_type": "code",
   "execution_count": 10,
   "metadata": {},
   "outputs": [],
   "source": [
    "from scipy.special import softmax\n",
    "\n",
    "np.testing.assert_allclose(softmax(private_prediction), public_model.predict(data), rtol=0.001)"
   ]
  }
 ],
 "metadata": {
  "kernelspec": {
   "display_name": "Python 3",
   "language": "python",
   "name": "python3"
  },
  "language_info": {
   "codemirror_mode": {
    "name": "ipython",
    "version": 3
   },
   "file_extension": ".py",
   "mimetype": "text/x-python",
   "name": "python",
   "nbconvert_exporter": "python",
   "pygments_lexer": "ipython3",
   "version": "3.6.7"
  }
 },
 "nbformat": 4,
 "nbformat_minor": 2
}
