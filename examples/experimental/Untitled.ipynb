{
 "cells": [
  {
   "cell_type": "code",
   "execution_count": 1,
   "metadata": {},
   "outputs": [],
   "source": [
    "# Théo Ryffel [5:16 PM]\n",
    "import syft as sy\n",
    "from syft import optim\n",
    "import sys\n",
    "import torch\n",
    "from torch.nn import Parameter\n",
    "import torch.nn as nn\n",
    "hook = sy.TorchHook(torch)\n",
    "\n",
    "import torch.nn.functional as F\n",
    "\n",
    "me = hook.local_worker\n",
    "alice = sy.VirtualWorker(hook, id=\"alice\")\n",
    "bob = sy.VirtualWorker(hook, id=\"bob\")"
   ]
  },
  {
   "cell_type": "code",
   "execution_count": 2,
   "metadata": {},
   "outputs": [],
   "source": [
    "\n",
    "# TEST: simple remote grad calculation\n",
    "\n",
    "# create a tensor\n",
    "x = torch.tensor([1, 2, 3, 4.0], requires_grad=True)\n",
    "\n",
    "# send tensor to bob\n",
    "x = x.send(bob)\n",
    "\n",
    "# do some calculatinos\n",
    "y = (x + x).sum()\n",
    "\n",
    "# send gradient to backprop to Bob\n",
    "grad = torch.tensor([1.0]).send(bob)\n",
    "\n",
    "# backpropagate on remote machine\n",
    "y.backward(grad)\n",
    "\n",
    "# check that remote gradient is correct\n",
    "xgrad = bob._objects[x.id_at_location].grad\n",
    "xgrad_target = torch.ones(4).float() + 1\n",
    "\n",
    "assert (xgrad == xgrad_target).all()"
   ]
  },
  {
   "cell_type": "code",
   "execution_count": null,
   "metadata": {},
   "outputs": [],
   "source": []
  },
  {
   "cell_type": "code",
   "execution_count": 22,
   "metadata": {},
   "outputs": [],
   "source": [
    "# create a tensor\n",
    "x = torch.tensor([1, 2, 3, 4.0], requires_grad=True)\n",
    "\n",
    "# send tensor to bob\n",
    "x = x.send(bob)\n",
    "\n",
    "# do some calculatinos\n",
    "y = (x + x).sum()\n",
    "\n",
    "# send gradient to backprop to Bob\n",
    "grad = torch.tensor([1.0]).send(bob)\n",
    "\n",
    "# backpropagate on remote machine\n",
    "y.backward(grad)"
   ]
  },
  {
   "cell_type": "code",
   "execution_count": 23,
   "metadata": {},
   "outputs": [],
   "source": [
    "\n",
    "# check that remote gradient is correct\n",
    "xgrad = bob._objects[x.id_at_location].grad\n",
    "xgrad_target = torch.ones(4).float() + 1\n",
    "\n",
    "assert (xgrad == xgrad_target).all()"
   ]
  },
  {
   "cell_type": "code",
   "execution_count": null,
   "metadata": {},
   "outputs": [],
   "source": []
  },
  {
   "cell_type": "code",
   "execution_count": 24,
   "metadata": {},
   "outputs": [],
   "source": [
    "# create a tensor\n",
    "x = torch.tensor([1, 2, 3, 4.0], requires_grad=True)\n",
    "\n",
    "# send tensor to bob\n",
    "x = x.send(bob)\n",
    "\n",
    "# do some calculatinos\n",
    "y = (x + x).sum()\n",
    "\n",
    "# send gradient to backprop to Bob\n",
    "grad = torch.tensor([1.0]).send(bob)\n",
    "\n",
    "# backpropagate on remote machine\n",
    "y.backward(grad)\n",
    "\n",
    "# check that remote gradient is correct\n",
    "xgrad = bob._objects[x.id_at_location].grad\n",
    "xgrad_target = torch.ones(4).float() + 1\n",
    "\n",
    "assert (xgrad == xgrad_target).all()\n",
    "\n",
    "# TEST: Ensure remote grad calculation gets properly serded\n",
    "\n",
    "# create tensor\n",
    "x = torch.tensor([1, 2, 3, 4.0], requires_grad=True).send(bob)\n",
    "\n",
    "# create output gradient\n",
    "out_grad = torch.tensor([1.0]).send(bob)\n",
    "\n",
    "# compute function\n",
    "y = x.sum()\n",
    "\n",
    "# backpropagate\n",
    "y.backward(out_grad)\n",
    "\n",
    "# get the gradient created from backpropagation manually\n",
    "x_grad = bob._objects[x.id_at_location].grad\n",
    "\n",
    "# get the entire x tensor (should bring the grad too)\n",
    "x = x.get()\n",
    "\n",
    "# make sure that the grads match\n",
    "assert (x.grad == x_grad).all()"
   ]
  },
  {
   "cell_type": "code",
   "execution_count": null,
   "metadata": {},
   "outputs": [],
   "source": []
  },
  {
   "cell_type": "code",
   "execution_count": null,
   "metadata": {},
   "outputs": [],
   "source": []
  },
  {
   "cell_type": "code",
   "execution_count": null,
   "metadata": {},
   "outputs": [],
   "source": []
  },
  {
   "cell_type": "code",
   "execution_count": null,
   "metadata": {},
   "outputs": [],
   "source": []
  },
  {
   "cell_type": "code",
   "execution_count": null,
   "metadata": {},
   "outputs": [],
   "source": []
  },
  {
   "cell_type": "code",
   "execution_count": null,
   "metadata": {},
   "outputs": [],
   "source": []
  },
  {
   "cell_type": "code",
   "execution_count": null,
   "metadata": {},
   "outputs": [],
   "source": []
  }
 ],
 "metadata": {
  "kernelspec": {
   "display_name": "Python 3",
   "language": "python",
   "name": "python3"
  },
  "language_info": {
   "codemirror_mode": {
    "name": "ipython",
    "version": 3
   },
   "file_extension": ".py",
   "mimetype": "text/x-python",
   "name": "python",
   "nbconvert_exporter": "python",
   "pygments_lexer": "ipython3",
   "version": "3.6.1"
  }
 },
 "nbformat": 4,
 "nbformat_minor": 2
}
