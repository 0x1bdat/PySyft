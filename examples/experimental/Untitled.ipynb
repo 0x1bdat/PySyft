{
 "cells": [
  {
   "cell_type": "code",
   "execution_count": 1,
   "metadata": {},
   "outputs": [
    {
     "name": "stdout",
     "output_type": "stream",
     "text": [
      "Setting up Sandbox...\n",
      "Done!\n"
     ]
    }
   ],
   "source": [
    "import torch as th\n",
    "import syft as sy\n",
    "sy.create_sandbox(globals(), download_data=False, verbose=False)"
   ]
  },
  {
   "cell_type": "code",
   "execution_count": 10,
   "metadata": {},
   "outputs": [],
   "source": [
    "@sy.func2plan()\n",
    "def plan_double_abs(x):\n",
    "    x = x + x\n",
    "    x = th.abs(x)\n",
    "    return x"
   ]
  },
  {
   "cell_type": "code",
   "execution_count": 11,
   "metadata": {},
   "outputs": [],
   "source": [
    "plan_double_abs.build(th.tensor([1., -2.]))"
   ]
  },
  {
   "cell_type": "code",
   "execution_count": 12,
   "metadata": {},
   "outputs": [
    {
     "data": {
      "text/plain": [
       "(18,\n",
       " ([[6,\n",
       "    [1,\n",
       "     [6,\n",
       "      [[6,\n",
       "        [[5, [b'__add__']],\n",
       "         [19, [77595072276, 66733553180, 39084299439, None, [13, [2]], False]],\n",
       "         [6,\n",
       "          [[19,\n",
       "            [77595072276, 66733553180, 39084299439, None, [13, [2]], False]]]],\n",
       "         [0, []]]],\n",
       "       [1, [27020424311]]]]]],\n",
       "   [6,\n",
       "    [1,\n",
       "     [6,\n",
       "      [[6,\n",
       "        [[5, [b'torch.abs']],\n",
       "         None,\n",
       "         [6,\n",
       "          [[19, [78344051041, 27020424311, 39084299439, None, None, True]]]],\n",
       "         [0, []]]],\n",
       "       [1, [53782158465]]]]]],\n",
       "   [6, [9, 27020424311]]],\n",
       "  39084299439,\n",
       "  (1, [66733553180]),\n",
       "  (1, [53782158465]),\n",
       "  (5, (b'plan_double_abs',)),\n",
       "  None,\n",
       "  None,\n",
       "  True))"
      ]
     },
     "execution_count": 12,
     "metadata": {},
     "output_type": "execute_result"
    }
   ],
   "source": [
    "sy.serde._simplify(plan_double_abs)"
   ]
  },
  {
   "cell_type": "code",
   "execution_count": null,
   "metadata": {},
   "outputs": [],
   "source": []
  }
 ],
 "metadata": {
  "kernelspec": {
   "display_name": "Python 3",
   "language": "python",
   "name": "python3"
  },
  "language_info": {
   "codemirror_mode": {
    "name": "ipython",
    "version": 3
   },
   "file_extension": ".py",
   "mimetype": "text/x-python",
   "name": "python",
   "nbconvert_exporter": "python",
   "pygments_lexer": "ipython3",
   "version": "3.7.3"
  }
 },
 "nbformat": 4,
 "nbformat_minor": 2
}
