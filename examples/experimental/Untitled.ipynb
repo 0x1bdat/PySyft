{
 "cells": [
  {
   "cell_type": "code",
   "execution_count": 1,
   "metadata": {},
   "outputs": [
    {
     "name": "stdout",
     "output_type": "stream",
     "text": [
      "Setting up Sandbox...\n",
      "Done!\n"
     ]
    }
   ],
   "source": [
    "import torch as th\n",
    "import syft as sy\n",
    "sy.create_sandbox(globals(), download_data=False, verbose=False)"
   ]
  },
  {
   "cell_type": "code",
   "execution_count": 2,
   "metadata": {},
   "outputs": [],
   "source": [
    "@sy.func2plan(verbose=True)\n",
    "def plan_double_abs(x):\n",
    "    x = x + x\n",
    "    x = th.abs(x)\n",
    "    return x"
   ]
  },
  {
   "cell_type": "code",
   "execution_count": 3,
   "metadata": {},
   "outputs": [
    {
     "data": {
      "text/plain": [
       "(Wrapper)>[PointerTensor | me:81018173523 -> bob:99759394915]"
      ]
     },
     "execution_count": 3,
     "metadata": {},
     "output_type": "execute_result"
    }
   ],
   "source": [
    "x = th.tensor([1,2,3]).send(bob)\n",
    "x"
   ]
  },
  {
   "cell_type": "code",
   "execution_count": 4,
   "metadata": {},
   "outputs": [
    {
     "data": {
      "text/plain": [
       "(19, (81018173523, 99759394915, 'bob', None, (13, (3,)), True))"
      ]
     },
     "execution_count": 4,
     "metadata": {},
     "output_type": "execute_result"
    }
   ],
   "source": [
    "sy.serde._simplify(x.child)"
   ]
  },
  {
   "cell_type": "code",
   "execution_count": 5,
   "metadata": {},
   "outputs": [],
   "source": [
    "sy.local_worker.verbose=True"
   ]
  },
  {
   "cell_type": "code",
   "execution_count": 6,
   "metadata": {},
   "outputs": [
    {
     "name": "stdout",
     "output_type": "stream",
     "text": [
      "worker <VirtualWorker id:me #objects:0> sending 2 tensor([ 1., -2.]) to <Plan plan_double_abs id:29954790759 owner:me>\n",
      "worker <Plan plan_double_abs id:29954790759 owner:me> received OBJ (12, (66473487986, b'\\x80\\x02\\x8a\\nl\\xfc\\x9cF\\xf9 j\\xa8P\\x19.\\x80\\x02M\\xe9\\x03.\\x80\\x02}q\\x00(X\\x10\\x00\\x00\\x00protocol_versionq\\x01M\\xe9\\x03X\\r\\x00\\x00\\x00little_endianq\\x02\\x88X\\n\\x00\\x00\\x00type_sizesq\\x03}q\\x04(X\\x05\\x00\\x00\\x00shortq\\x05K\\x02X\\x03\\x00\\x00\\x00intq\\x06K\\x04X\\x04\\x00\\x00\\x00longq\\x07K\\x04uu.\\x80\\x02ctorch._utils\\n_rebuild_tensor_v2\\nq\\x00((X\\x07\\x00\\x00\\x00storageq\\x01ctorch\\nFloatStorage\\nq\\x02X\\x0f\\x00\\x00\\x00140258302622064q\\x03X\\x03\\x00\\x00\\x00cpuq\\x04K\\x02Ntq\\x05QK\\x00K\\x02\\x85q\\x06K\\x01\\x85q\\x07\\x89ccollections\\nOrderedDict\\nq\\x08)Rq\\ttq\\nRq\\x0b.\\x80\\x02]q\\x00X\\x0f\\x00\\x00\\x00140258302622064q\\x01a.\\x02\\x00\\x00\\x00\\x00\\x00\\x00\\x00\\x00\\x00\\x80?\\x00\\x00\\x00\\xc0', None, None, None, None))\n",
      "Readable Plan Before:[]\n",
      "worker <VirtualWorker id:me #objects:0> sending 1 (('__add__', [PointerTensor | me:54959246543 -> 29954790759:66473487986], ([PointerTensor | me:54959246543 -> 29954790759:66473487986],), {}), (91753910345,)) to <Plan plan_double_abs id:29954790759 owner:me>\n",
      "worker <Plan plan_double_abs id:29954790759 owner:me> received CMD (6, ((6, ((5, (b'__add__',)), (19, (54959246543, 66473487986, 29954790759, None, (13, (2,)), False)), (6, ((19, (54959246543, 66473487986, 29954790759, None, (13, (2,)), False)),)), (0, ()))), (6, (91753910345,))))\n",
      "(6, (1, (6, ((6, ((5, (b'__add__',)), (19, (54959246543, 66473487986, 29954790759, None, (13, (2,)), False)), (6, ((19, (54959246543, 66473487986, 29954790759, None, (13, (2,)), False)),)), (0, ()))), (6, (91753910345,))))))\n",
      "(6, (1, (6, ((6, ((5, (b'__add__',)), (19, (54959246543, 66473487986, 29954790759, None, (13, (2,)), False)), (6, ((19, (54959246543, 66473487986, 29954790759, None, (13, (2,)), False)),)), (0, ()))), (6, (91753910345,))))))\n",
      "worker <VirtualWorker id:me #objects:0> sending 1 (('torch.abs', None, ([PointerTensor | me:25979279450 -> 29954790759:91753910345],), {}), (92103591170,)) to <Plan plan_double_abs id:29954790759 owner:me>\n",
      "worker <Plan plan_double_abs id:29954790759 owner:me> received CMD (6, ((6, ((5, (b'torch.abs',)), None, (6, ((19, (25979279450, 91753910345, 29954790759, None, None, True)),)), (0, ()))), (6, (92103591170,))))\n",
      "(6, (1, (6, ((6, ((5, (b'torch.abs',)), None, (6, ((19, (25979279450, 91753910345, 29954790759, None, None, True)),)), (0, ()))), (6, (92103591170,))))))\n",
      "(6, (1, (6, ((6, ((5, (b'torch.abs',)), None, (6, ((19, (25979279450, 91753910345, 29954790759, None, None, True)),)), (0, ()))), (6, (92103591170,))))))\n",
      "worker <VirtualWorker id:me #objects:0> sending 9 91753910345 to <Plan plan_double_abs id:29954790759 owner:me>\n",
      "worker <Plan plan_double_abs id:29954790759 owner:me> received FORCE_OBJ_DEL 91753910345\n",
      "(6, (9, 91753910345))\n",
      "(6, (9, 91753910345))\n",
      "Readable Plan After:[(6, (1, (6, ((6, ((5, (b'__add__',)), (19, (54959246543, 66473487986, 29954790759, None, (13, (2,)), False)), (6, ((19, (54959246543, 66473487986, 29954790759, None, (13, (2,)), False)),)), (0, ()))), (6, (91753910345,)))))), (6, (1, (6, ((6, ((5, (b'torch.abs',)), None, (6, ((19, (25979279450, 91753910345, 29954790759, None, None, True)),)), (0, ()))), (6, (92103591170,)))))), (6, (9, 91753910345))]\n",
      "Readable Plan After 1.1:[[6, [1, [6, [[6, [[5, [b'__add__']], [19, [54959246543, 66473487986, 29954790759, None, [13, [2]], False]], [6, [[19, [54959246543, 66473487986, 29954790759, None, [13, [2]], False]]]], [0, []]]], [6, [91753910345]]]]]], [6, [1, [6, [[6, [[5, [b'torch.abs']], None, [6, [[19, [25979279450, 91753910345, 29954790759, None, None, True]]]], [0, []]]], [6, [92103591170]]]]]], [6, [9, 91753910345]]]\n",
      "Readable Plan After 2:[[6, [1, [6, [[6, [[5, [b'__add__']], [19, [54959246543, 66473487986, 29954790759, None, [13, [2]], False]], [6, [[19, [54959246543, 66473487986, 29954790759, None, [13, [2]], False]]]], [0, []]]], [6, [91753910345]]]]]], [6, [1, [6, [[6, [[5, [b'torch.abs']], None, [6, [[19, [25979279450, 91753910345, 29954790759, None, None, True]]]], [0, []]]], [6, [92103591170]]]]]], [6, [9, 91753910345]]]\n"
     ]
    }
   ],
   "source": [
    "plan_double_abs.build(th.tensor([1., -2.]))"
   ]
  },
  {
   "cell_type": "code",
   "execution_count": 7,
   "metadata": {},
   "outputs": [
    {
     "data": {
      "text/plain": [
       "[[6,\n",
       "  [1,\n",
       "   [6,\n",
       "    [[6,\n",
       "      [[5, [b'__add__']],\n",
       "       [19, [45971943903, 83841870641, 95572607455, None, [13, [2]], False]],\n",
       "       [6,\n",
       "        [[19,\n",
       "          [45971943903, 83841870641, 95572607455, None, [13, [2]], False]]]],\n",
       "       [0, []]]],\n",
       "     [6, [89316074701]]]]]],\n",
       " [6,\n",
       "  [1,\n",
       "   [6,\n",
       "    [[6,\n",
       "      [[5, [b'torch.abs']],\n",
       "       None,\n",
       "       [6, [[19, [63248106973, 89316074701, 95572607455, None, None, True]]]],\n",
       "       [0, []]]],\n",
       "     [6, [99839724]]]]]],\n",
       " [6, [9, 89316074701]]]"
      ]
     },
     "execution_count": 7,
     "metadata": {},
     "output_type": "execute_result"
    }
   ],
   "source": [
    "plan_double_abs.readable_plan"
   ]
  },
  {
   "cell_type": "code",
   "execution_count": 14,
   "metadata": {},
   "outputs": [
    {
     "data": {
      "text/plain": [
       "(18,\n",
       " (([6,\n",
       "    [1,\n",
       "     [6,\n",
       "      [[6,\n",
       "        [[5, [b'__add__']],\n",
       "         [19, [47635607273, 51072618100, 91921079158, None, [13, [2]], False]],\n",
       "         [6,\n",
       "          [[19,\n",
       "            [47635607273, 51072618100, 91921079158, None, [13, [2]], False]]]],\n",
       "         [0, []]]],\n",
       "       [6, [28991484391]]]]]],\n",
       "   [6,\n",
       "    [1,\n",
       "     [6,\n",
       "      [[6,\n",
       "        [[5, [b'torch.abs']],\n",
       "         None,\n",
       "         [6, [[19, [4224034574, 28991484391, 91921079158, None, None, True]]]],\n",
       "         [0, []]]],\n",
       "       [6, [40502448450]]]]]],\n",
       "   [6, [9, 28991484391]],\n",
       "   [6,\n",
       "    [1,\n",
       "     [6,\n",
       "      [[6,\n",
       "        [[5, [b'__add__']],\n",
       "         [19, [18667909090, 1116431038, 91921079158, None, [13, [2]], False]],\n",
       "         [6,\n",
       "          [[19,\n",
       "            [18667909090, 1116431038, 91921079158, None, [13, [2]], False]]]],\n",
       "         [0, []]]],\n",
       "       [6, [35138715934]]]]]],\n",
       "   [6,\n",
       "    [1,\n",
       "     [6,\n",
       "      [[6,\n",
       "        [[5, [b'torch.abs']],\n",
       "         None,\n",
       "         [6,\n",
       "          [[19, [21114016784, 35138715934, 91921079158, None, None, True]]]],\n",
       "         [0, []]]],\n",
       "       [6, [48111698639]]]]]],\n",
       "   [6, [9, 35138715934]],\n",
       "   [6,\n",
       "    [1,\n",
       "     [6,\n",
       "      [[6,\n",
       "        [[5, [b'__add__']],\n",
       "         [19, [73889471071, 10506913884, 91921079158, None, [13, [2]], False]],\n",
       "         [6,\n",
       "          [[19,\n",
       "            [73889471071, 10506913884, 91921079158, None, [13, [2]], False]]]],\n",
       "         [0, []]]],\n",
       "       [6, [35201727676]]]]]],\n",
       "   [6,\n",
       "    [1,\n",
       "     [6,\n",
       "      [[6,\n",
       "        [[5, [b'torch.abs']],\n",
       "         None,\n",
       "         [6,\n",
       "          [[19, [58067316762, 35201727676, 91921079158, None, None, True]]]],\n",
       "         [0, []]]],\n",
       "       [6, [69158216495]]]]]],\n",
       "   [6, [9, 35201727676]],\n",
       "   [6,\n",
       "    [1,\n",
       "     [6,\n",
       "      [[6,\n",
       "        [[5, [b'__add__']],\n",
       "         [19, [57863246888, 96234865883, 91921079158, None, [13, [2]], False]],\n",
       "         [6,\n",
       "          [[19,\n",
       "            [57863246888, 96234865883, 91921079158, None, [13, [2]], False]]]],\n",
       "         [0, []]]],\n",
       "       [6, [36101087109]]]]]],\n",
       "   [6,\n",
       "    [1,\n",
       "     [6,\n",
       "      [[6,\n",
       "        [[5, [b'torch.abs']],\n",
       "         None,\n",
       "         [6,\n",
       "          [[19, [62499507381, 36101087109, 91921079158, None, None, True]]]],\n",
       "         [0, []]]],\n",
       "       [6, [80592901397]]]]]],\n",
       "   [6, [9, 36101087109]],\n",
       "   [6,\n",
       "    [1,\n",
       "     [6,\n",
       "      [[6,\n",
       "        [[5, [b'__add__']],\n",
       "         [19, [31245002437, 42760507533, 91921079158, None, [13, [2]], False]],\n",
       "         [6,\n",
       "          [[19,\n",
       "            [31245002437, 42760507533, 91921079158, None, [13, [2]], False]]]],\n",
       "         [0, []]]],\n",
       "       [6, [68377119624]]]]]],\n",
       "   [6,\n",
       "    [1,\n",
       "     [6,\n",
       "      [[6,\n",
       "        [[5, [b'torch.abs']],\n",
       "         None,\n",
       "         [6,\n",
       "          [[19, [16380814508, 68377119624, 91921079158, None, None, True]]]],\n",
       "         [0, []]]],\n",
       "       [6, [57664261607]]]]]],\n",
       "   [6, [9, 68377119624]]),\n",
       "  91921079158,\n",
       "  (1, (42760507533,)),\n",
       "  (6, (57664261607,)),\n",
       "  (5, (b'plan_double_abs',)),\n",
       "  None,\n",
       "  None,\n",
       "  True))"
      ]
     },
     "execution_count": 14,
     "metadata": {},
     "output_type": "execute_result"
    }
   ],
   "source": [
    "out = sy.serde._simplify(plan_double_abs)\n",
    "out"
   ]
  },
  {
   "cell_type": "code",
   "execution_count": null,
   "metadata": {},
   "outputs": [],
   "source": []
  }
 ],
 "metadata": {
  "kernelspec": {
   "display_name": "Python 3",
   "language": "python",
   "name": "python3"
  },
  "language_info": {
   "codemirror_mode": {
    "name": "ipython",
    "version": 3
   },
   "file_extension": ".py",
   "mimetype": "text/x-python",
   "name": "python",
   "nbconvert_exporter": "python",
   "pygments_lexer": "ipython3",
   "version": "3.6.1"
  }
 },
 "nbformat": 4,
 "nbformat_minor": 2
}
