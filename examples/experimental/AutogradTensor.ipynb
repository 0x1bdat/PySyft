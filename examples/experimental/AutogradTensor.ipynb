{
 "cells": [
  {
   "cell_type": "code",
   "execution_count": 92,
   "metadata": {},
   "outputs": [],
   "source": [
    "import sys\n",
    "sys.path.append('/Users/mat/Projects/PySyft')"
   ]
  },
  {
   "cell_type": "code",
   "execution_count": 7,
   "metadata": {},
   "outputs": [],
   "source": [
    "%load_ext autoreload\n",
    "%autoreload 2"
   ]
  },
  {
   "cell_type": "markdown",
   "metadata": {},
   "source": [
    "# AutogradTensor Development\n",
    "\n",
    "We have an issue with backprop in PyTorch. When you call `.backward()` on a torch.Tensor it immediately drops down into C++ code. However, we need to keep track of all operations in Python for use in calculating sensitivity as well as other things. We need to override `.backward()` such that we go through the backpropagation chain in Python instead of the C++ layer.\n",
    "\n",
    "The idea here is we create a `BackpropTensor` that overrides `.backward()`. Maybe a different name, like `GradientTensor` since it should only be used on tensors where we need gradients. We can discuss naming later I suppose. Anyway, this new tensor should override `.backward()`..."
   ]
  },
  {
   "cell_type": "code",
   "execution_count": 2,
   "metadata": {},
   "outputs": [],
   "source": [
    "import torch"
   ]
  },
  {
   "cell_type": "code",
   "execution_count": null,
   "metadata": {},
   "outputs": [],
   "source": [
    "for grad, grad_fn in zip(grads, z.grad_fn.next_functions):\n",
    "    grad_fn[0](grad)"
   ]
  },
  {
   "cell_type": "code",
   "execution_count": 11,
   "metadata": {},
   "outputs": [
    {
     "data": {
      "text/plain": [
       "tensor([[1., 1.]])"
      ]
     },
     "execution_count": 11,
     "metadata": {},
     "output_type": "execute_result"
    }
   ],
   "source": [
    "grad_fn = GradAdd(1, 2)\n",
    "grad_fn(torch.ones(1,2))"
   ]
  },
  {
   "cell_type": "code",
   "execution_count": 70,
   "metadata": {},
   "outputs": [],
   "source": [
    "class GradAdd:\n",
    "    def __init__(self, *args):\n",
    "        self.next_functions = []\n",
    "        \n",
    "    def __call__(self, grad):\n",
    "        return grad # * 1"
   ]
  },
  {
   "cell_type": "code",
   "execution_count": 84,
   "metadata": {},
   "outputs": [],
   "source": [
    "class Accumulate:\n",
    "    def __init__(self, tensor):\n",
    "        self.tensor = tensor\n",
    "        self.next_functions = []\n",
    "        \n",
    "    def __call__(self, grad):\n",
    "        if self.tensor.grad:\n",
    "            self.tensor.grad += grad\n",
    "        else:\n",
    "            self.tensor.grad = grad + 0"
   ]
  },
  {
   "cell_type": "code",
   "execution_count": 85,
   "metadata": {},
   "outputs": [],
   "source": [
    "def backwards_grad(grad_fn, in_grad=None):\n",
    "    back_grad = grad_fn(in_grad)\n",
    "    for next_grad_fn in grad_fn.next_functions:\n",
    "        print(next_grad_fn)\n",
    "        backwards_grad(next_grad_fn, back_grad)\n",
    "    \n",
    "class Tensor:\n",
    "    def __init__(self, data, requires_grad=True):\n",
    "        self.grad = None\n",
    "        self.grad_fn = None\n",
    "        self.child = data\n",
    "        self.requires_grad = requires_grad\n",
    "    \n",
    "    def backward(self, grad=None):\n",
    "        if grad is None:\n",
    "            grad = torch.ones_like(self.child)\n",
    "        backwards_grad(self.grad_fn, grad)\n",
    "        \n",
    "    def add(self, other):\n",
    "        result = Tensor(self.child + other.child)\n",
    "        \n",
    "        grad_fn = GradAdd()\n",
    "        grad_fn.next_functions = (Accumulate(self) if self.grad_fn is None else self.grad_fn, \n",
    "                                  Accumulate(other) if self.grad_fn is None else self.grad_fn)\n",
    "        result.grad_fn = grad_fn\n",
    "        \n",
    "        return result"
   ]
  },
  {
   "cell_type": "code",
   "execution_count": 86,
   "metadata": {},
   "outputs": [],
   "source": [
    "x = Tensor(torch.randn(3), requires_grad=True)\n",
    "y = Tensor(torch.randn(3))"
   ]
  },
  {
   "cell_type": "code",
   "execution_count": 87,
   "metadata": {},
   "outputs": [],
   "source": [
    "z = x.add(y)"
   ]
  },
  {
   "cell_type": "code",
   "execution_count": 88,
   "metadata": {},
   "outputs": [],
   "source": [
    "x.grad"
   ]
  },
  {
   "cell_type": "code",
   "execution_count": 89,
   "metadata": {},
   "outputs": [
    {
     "name": "stdout",
     "output_type": "stream",
     "text": [
      "<__main__.Accumulate object at 0x122deb470>\n",
      "<__main__.Accumulate object at 0x122deb1d0>\n"
     ]
    }
   ],
   "source": [
    "z.backward()"
   ]
  },
  {
   "cell_type": "code",
   "execution_count": 90,
   "metadata": {},
   "outputs": [
    {
     "data": {
      "text/plain": [
       "tensor([1., 1., 1.])"
      ]
     },
     "execution_count": 90,
     "metadata": {},
     "output_type": "execute_result"
    }
   ],
   "source": [
    "x.grad"
   ]
  },
  {
   "cell_type": "code",
   "execution_count": 34,
   "metadata": {},
   "outputs": [],
   "source": [
    "w.grad_fn.next_functions"
   ]
  },
  {
   "cell_type": "code",
   "execution_count": 35,
   "metadata": {},
   "outputs": [],
   "source": [
    "x = torch.rand((1, 3), requires_grad=True)\n",
    "y = torch.rand((3, 1), requires_grad=True)"
   ]
  },
  {
   "cell_type": "code",
   "execution_count": 38,
   "metadata": {},
   "outputs": [
    {
     "data": {
      "text/plain": [
       "((<MmBackward at 0x122deaf60>, 0),)"
      ]
     },
     "execution_count": 38,
     "metadata": {},
     "output_type": "execute_result"
    }
   ],
   "source": [
    "z.grad_fn.next_functions[0][0]"
   ]
  },
  {
   "cell_type": "code",
   "execution_count": 36,
   "metadata": {},
   "outputs": [],
   "source": [
    "z = torch.mm(x, y).mean()"
   ]
  },
  {
   "cell_type": "code",
   "execution_count": 6,
   "metadata": {},
   "outputs": [
    {
     "data": {
      "text/plain": [
       "((<AccumulateGrad at 0x122da5fd0>, 0), (<AccumulateGrad at 0x122d2e048>, 0))"
      ]
     },
     "execution_count": 6,
     "metadata": {},
     "output_type": "execute_result"
    }
   ],
   "source": [
    "z.grad_fn.next_functions"
   ]
  },
  {
   "cell_type": "code",
   "execution_count": 6,
   "metadata": {},
   "outputs": [],
   "source": [
    "for grad, grad_fn in zip(grads, z.grad_fn.next_functions):\n",
    "    grad_fn[0](grad)"
   ]
  },
  {
   "cell_type": "code",
   "execution_count": 13,
   "metadata": {},
   "outputs": [
    {
     "data": {
      "text/plain": [
       "<function torch.autograd.grad(outputs, inputs, grad_outputs=None, retain_graph=None, create_graph=False, only_inputs=True, allow_unused=False)>"
      ]
     },
     "execution_count": 13,
     "metadata": {},
     "output_type": "execute_result"
    }
   ],
   "source": [
    "torch.autograd."
   ]
  },
  {
   "cell_type": "code",
   "execution_count": 52,
   "metadata": {},
   "outputs": [],
   "source": [
    "# gradient of z w.r.t. y\n",
    "grad_z_y = z.grad_fn(torch.ones(1))"
   ]
  },
  {
   "cell_type": "code",
   "execution_count": 56,
   "metadata": {},
   "outputs": [],
   "source": [
    "# gradient of y w.r.t. x\n",
    "grad_y_x = y.grad_fn(grad_z_y)"
   ]
  },
  {
   "cell_type": "code",
   "execution_count": 76,
   "metadata": {},
   "outputs": [],
   "source": [
    "x.grad"
   ]
  },
  {
   "cell_type": "code",
   "execution_count": 77,
   "metadata": {},
   "outputs": [],
   "source": [
    "def backwards_grad(grad_fn, in_grad=None):\n",
    "    back_grad = grad_fn(in_grad)\n",
    "    for next_grad_fn, _ in grad_fn.next_functions:\n",
    "        print(next_grad_fn)\n",
    "        backwards_grad(next_grad_fn, back_grad)\n",
    "\n",
    "def backward(tensor):\n",
    "    backwards_grad(tensor.grad_fn, torch.ones_like(tensor))"
   ]
  },
  {
   "cell_type": "code",
   "execution_count": 80,
   "metadata": {},
   "outputs": [
    {
     "name": "stdout",
     "output_type": "stream",
     "text": [
      "<PowBackward0 object at 0x121875b70>\n",
      "<AccumulateGrad object at 0x1215ca748>\n"
     ]
    }
   ],
   "source": [
    "backward(z)"
   ]
  },
  {
   "cell_type": "code",
   "execution_count": 81,
   "metadata": {},
   "outputs": [
    {
     "data": {
      "text/plain": [
       "tensor([1.3333, 2.6667, 4.0000], grad_fn=<AddBackward0>)"
      ]
     },
     "execution_count": 81,
     "metadata": {},
     "output_type": "execute_result"
    }
   ],
   "source": [
    "x.grad"
   ]
  },
  {
   "cell_type": "code",
   "execution_count": 82,
   "metadata": {},
   "outputs": [
    {
     "data": {
      "text/plain": [
       "tensor([1., 2., 3.], requires_grad=True)"
      ]
     },
     "execution_count": 82,
     "metadata": {},
     "output_type": "execute_result"
    }
   ],
   "source": [
    "x"
   ]
  },
  {
   "cell_type": "code",
   "execution_count": 83,
   "metadata": {},
   "outputs": [
    {
     "data": {
      "text/plain": [
       "tensor([1., 4., 9.], grad_fn=<PowBackward0>)"
      ]
     },
     "execution_count": 83,
     "metadata": {},
     "output_type": "execute_result"
    }
   ],
   "source": [
    "y"
   ]
  },
  {
   "cell_type": "code",
   "execution_count": 88,
   "metadata": {},
   "outputs": [],
   "source": [
    "w = torch.cat((x, y)).mean()"
   ]
  },
  {
   "cell_type": "code",
   "execution_count": 1,
   "metadata": {},
   "outputs": [
    {
     "data": {
      "text/plain": [
       "tensor([1, 2, 3, 4, 5])"
      ]
     },
     "execution_count": 1,
     "metadata": {},
     "output_type": "execute_result"
    }
   ],
   "source": [
    "import sys\n",
    "sys.path.append('/Users/mat/Projects/PySyft')\n",
    "\n",
    "# Run this cell to see if things work\n",
    "import syft as sy\n",
    "from syft.frameworks.torch.tensors.interpreters import AutogradTensor\n",
    "import torch\n",
    "hook = sy.TorchHook(torch)\n",
    "\n",
    "torch.tensor([1,2,3,4,5])"
   ]
  },
  {
   "cell_type": "code",
   "execution_count": 2,
   "metadata": {},
   "outputs": [],
   "source": [
    "a = AutogradTensor().on(torch.tensor([3, 2., 0]))\n",
    "b = AutogradTensor().on(torch.tensor([1, 2., 3]))"
   ]
  },
  {
   "cell_type": "code",
   "execution_count": 3,
   "metadata": {},
   "outputs": [],
   "source": [
    "c = a + b"
   ]
  },
  {
   "cell_type": "code",
   "execution_count": 4,
   "metadata": {},
   "outputs": [
    {
     "data": {
      "text/plain": [
       "(tensor([1., 1., 1.]), tensor([1., 1., 1.]))"
      ]
     },
     "execution_count": 4,
     "metadata": {},
     "output_type": "execute_result"
    }
   ],
   "source": [
    "c.grad_fn(torch.ones(3))"
   ]
  },
  {
   "cell_type": "code",
   "execution_count": 5,
   "metadata": {},
   "outputs": [
    {
     "name": "stdout",
     "output_type": "stream",
     "text": [
      "(tensor([1., 1., 1.]), tensor([1., 1., 1.])) AddBackward tensor([1., 1., 1.])\n",
      "(Accumulate, Accumulate)\n",
      "() Accumulate tensor([1., 1., 1.])\n",
      "[]\n",
      "() Accumulate tensor([1., 1., 1.])\n",
      "[]\n"
     ]
    }
   ],
   "source": [
    "c.backward()"
   ]
  },
  {
   "cell_type": "code",
   "execution_count": 3,
   "metadata": {},
   "outputs": [],
   "source": [
    "import yaml\n",
    "\n",
    "with open('../../syft/frameworks/torch/tensors/interpreters/derivatives.yaml', 'r') as f:\n",
    "    derivatives = yaml.load(f.read())"
   ]
  },
  {
   "cell_type": "code",
   "execution_count": 28,
   "metadata": {},
   "outputs": [
    {
     "data": {
      "text/plain": [
       "[{'name': 'add',\n",
       "  'self': 'grad',\n",
       "  'other': 'grad if type(self) == type(other) else None'},\n",
       " {'name': 'asin', 'self': 'grad * (-self * self + 1).rsqrt()'}]"
      ]
     },
     "execution_count": 28,
     "metadata": {},
     "output_type": "execute_result"
    }
   ],
   "source": [
    "derivatives"
   ]
  },
  {
   "cell_type": "code",
   "execution_count": 5,
   "metadata": {},
   "outputs": [],
   "source": [
    "def construct_grad_fn_class(grad_def):\n",
    "    lines = []\n",
    "    \n",
    "    name = grad_def['name'].capitalize()\n",
    "    input_args = [arg for arg in grad_def if arg != 'name']\n",
    "    signature = ', '.join(input_args).replace('self', 'self_')\n",
    "    tab = \" \"*4\n",
    "    \n",
    "    lines.append(f\"class {name}Backward(GradFunc):\")\n",
    "    lines.append(tab + f\"def __init__(self, {signature}):\")\n",
    "    lines.append(2*tab + f\"super().__init__(self, {signature})\")\n",
    "    for arg in signature.split(', '):\n",
    "        lines.append(2*tab + f\"self.{arg} = {arg}\")\n",
    "    lines.append(\"\")\n",
    "    \n",
    "    lines.append(tab + \"def gradient(self, grad):\")\n",
    "    for arg in input_args:\n",
    "        formula = grad_def[arg]\n",
    "        for in_arg in input_args:\n",
    "            formula = formula.replace(in_arg, f'self.{in_arg}')\n",
    "        formula = formula.replace('.self', '.self_')\n",
    "        lines.append(2*tab + f\"grad_{arg.replace('self', 'self_')} = {formula}\")\n",
    "    grad_signature = ', '.join([f'grad_{arg}'.replace('self', 'self_') for arg in input_args])\n",
    "    lines.append(2*tab + f\"return ({grad_signature},)\")\n",
    "    \n",
    "    return \"\\n\".join(lines) + \"\\n\""
   ]
  },
  {
   "cell_type": "code",
   "execution_count": 6,
   "metadata": {},
   "outputs": [
    {
     "name": "stdout",
     "output_type": "stream",
     "text": [
      "class AddBackward(GradFunc):\n",
      "    def __init__(self, self_, other):\n",
      "        super().__init__(self, self_, other)\n",
      "        self.self_ = self_\n",
      "        self.other = other\n",
      "\n",
      "    def gradient(self, grad):\n",
      "        grad_self_ = grad\n",
      "        grad_other = grad if type(self.self_) == type(self.other) else None\n",
      "        return (grad_self_, grad_other,)\n",
      "\n"
     ]
    }
   ],
   "source": [
    "print(construct_grad_fn_class(derivatives[0]))"
   ]
  },
  {
   "cell_type": "code",
   "execution_count": 7,
   "metadata": {},
   "outputs": [],
   "source": [
    "with open('../../syft/frameworks/torch/tensors/interpreters/gradients.py', 'w') as f:\n",
    "    f.write(\"# This file is generated from build_gradients.py\\n\\n\")\n",
    "    f.write(\"from . gradients_core import *\\n\\n\")\n",
    "    for definition in derivatives:\n",
    "        f.write(construct_grad_fn_class(definition))\n",
    "        f.write('\\n')"
   ]
  },
  {
   "cell_type": "code",
   "execution_count": null,
   "metadata": {},
   "outputs": [],
   "source": []
  }
 ],
 "metadata": {
  "kernelspec": {
   "display_name": "Python 3",
   "language": "python",
   "name": "python3"
  },
  "language_info": {
   "codemirror_mode": {
    "name": "ipython",
    "version": 3
   },
   "file_extension": ".py",
   "mimetype": "text/x-python",
   "name": "python",
   "nbconvert_exporter": "python",
   "pygments_lexer": "ipython3",
   "version": "3.6.8"
  }
 },
 "nbformat": 4,
 "nbformat_minor": 2
}
