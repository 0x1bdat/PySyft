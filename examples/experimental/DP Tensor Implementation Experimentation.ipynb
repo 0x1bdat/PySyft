{
 "cells": [
  {
   "cell_type": "code",
   "execution_count": 1,
   "metadata": {},
   "outputs": [],
   "source": [
    "import torch as th\n",
    "import syft as sy"
   ]
  },
  {
   "cell_type": "code",
   "execution_count": 2,
   "metadata": {},
   "outputs": [
    {
     "name": "stdout",
     "output_type": "stream",
     "text": [
      "Setting up Sandbox...\n",
      "Done!\n"
     ]
    }
   ],
   "source": [
    "sy.sandbox(globals(), False, False)"
   ]
  },
  {
   "cell_type": "code",
   "execution_count": 62,
   "metadata": {},
   "outputs": [],
   "source": [
    "# positive, non-negative, single entitiy, overlapping, symmetric mult\n",
    "x = (\n",
    "    th.tensor([1])\n",
    "    .int()\n",
    "    .track_sensitivity(\n",
    "        min_ent_conts=th.tensor([[0, 0, 0, 0]]), max_ent_conts=th.tensor([[1, 0, 0, 0]])\n",
    "    )\n",
    ")\n",
    "\n",
    "y = -x\n",
    "\n",
    "assert y.sensitivity == th.tensor([1])\n",
    "assert y.max_vals == th.tensor([0])\n",
    "assert y.min_vals == th.tensor([-1])\n",
    "assert (y.entities == th.tensor([[1, 0, 0, 0]])).all()\n",
    "\n",
    "\n",
    "# negative, non-positive, single entitiy, overlapping, symmetric mult\n",
    "x = (\n",
    "    th.tensor([-1])\n",
    "    .int()\n",
    "    .track_sensitivity(\n",
    "        min_ent_conts=th.tensor([[-1, 0, 0, 0]]), max_ent_conts=th.tensor([[0, 0, 0, 0]])\n",
    "    )\n",
    ")\n",
    "\n",
    "y = -x\n",
    "\n",
    "assert y.sensitivity == th.tensor([1])\n",
    "assert y.max_vals == th.tensor([1])\n",
    "assert y.min_vals == th.tensor([0])\n",
    "assert (y.entities == th.tensor([[1, 0, 0, 0]])).all()\n",
    "\n",
    "# negative, positive, single entitiy, overlapping, symmetric mult\n",
    "x = (\n",
    "    th.tensor([-1])\n",
    "    .int()\n",
    "    .track_sensitivity(\n",
    "        min_ent_conts=th.tensor([[-1, 0, 0, 0]]), max_ent_conts=th.tensor([[1, 0, 0, 0]])\n",
    "    )\n",
    ")\n",
    "\n",
    "y = -x\n",
    "\n",
    "assert y.sensitivity == th.tensor([2])\n",
    "assert y.max_vals == th.tensor([1])\n",
    "assert y.min_vals == th.tensor([-1])\n",
    "assert (y.entities == th.tensor([[1, 0, 0, 0]])).all()\n",
    "\n",
    "# negative, positive, dual entitiy, overlapping, symmetric mult\n",
    "x = (\n",
    "    th.tensor([1])\n",
    "    .int()\n",
    "    .track_sensitivity(\n",
    "        min_ent_conts=th.tensor([[-1, 0, 0, 0]]), max_ent_conts=th.tensor([[1, 1, 0, 0]])\n",
    "    )\n",
    ")\n",
    "\n",
    "y = -x\n",
    "\n",
    "assert y.sensitivity == th.tensor([2])\n",
    "assert y.max_vals == th.tensor([1])\n",
    "assert y.min_vals == th.tensor([-2])\n",
    "assert (y.entities == th.tensor([[1, 1, 0, 0]])).all()\n",
    "\n",
    "# negative, positive, dual entitiy, non-overlapping, non-symmetric add\n",
    "x = (\n",
    "    th.tensor([1])\n",
    "    .int()\n",
    "    .track_sensitivity(\n",
    "        min_ent_conts=th.tensor([[-1, 0, 0, 0]]), max_ent_conts=th.tensor([[1, 1, 0, 0]])\n",
    "    )\n",
    ")\n",
    "\n",
    "y = (\n",
    "    th.tensor([5])\n",
    "    .int()\n",
    "    .track_sensitivity(\n",
    "        min_ent_conts=th.tensor([[4, 0, 0, 0]]), max_ent_conts=th.tensor([[5, 5, 0, 0]])\n",
    "    )\n",
    ")\n",
    "\n",
    "z = x * y\n",
    "\n",
    "assert z.sensitivity == th.tensor([20])\n",
    "assert z.max_vals == th.tensor([20])\n",
    "assert z.min_vals == th.tensor([-10])\n",
    "assert (z.entities == th.tensor([[1, 1, 0, 0]])).all()"
   ]
  },
  {
   "cell_type": "code",
   "execution_count": null,
   "metadata": {},
   "outputs": [],
   "source": [
    "\n",
    "\n",
    "\n",
    "\n",
    "\n"
   ]
  },
  {
   "cell_type": "code",
   "execution_count": null,
   "metadata": {},
   "outputs": [],
   "source": []
  },
  {
   "cell_type": "code",
   "execution_count": null,
   "metadata": {},
   "outputs": [],
   "source": []
  },
  {
   "cell_type": "code",
   "execution_count": null,
   "metadata": {},
   "outputs": [],
   "source": []
  }
 ],
 "metadata": {
  "kernelspec": {
   "display_name": "Python 3",
   "language": "python",
   "name": "python3"
  },
  "language_info": {
   "codemirror_mode": {
    "name": "ipython",
    "version": 3
   },
   "file_extension": ".py",
   "mimetype": "text/x-python",
   "name": "python",
   "nbconvert_exporter": "python",
   "pygments_lexer": "ipython3",
   "version": "3.6.1"
  }
 },
 "nbformat": 4,
 "nbformat_minor": 2
}
