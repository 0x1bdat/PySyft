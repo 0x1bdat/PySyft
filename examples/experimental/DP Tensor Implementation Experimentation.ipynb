{
 "cells": [
  {
   "cell_type": "code",
   "execution_count": 1,
   "metadata": {},
   "outputs": [],
   "source": [
    "import torch as th\n",
    "import syft as sy"
   ]
  },
  {
   "cell_type": "code",
   "execution_count": 2,
   "metadata": {},
   "outputs": [
    {
     "name": "stdout",
     "output_type": "stream",
     "text": [
      "Setting up Sandbox...\n",
      "Done!\n"
     ]
    }
   ],
   "source": [
    "sy.sandbox(globals(), False, False)"
   ]
  },
  {
   "cell_type": "code",
   "execution_count": 89,
   "metadata": {},
   "outputs": [],
   "source": [
    "# positive, non-negative, single entitiy, overlapping, symmetric mult\n",
    "x = (\n",
    "    th.tensor([1])\n",
    "    .int()\n",
    "    .track_sensitivity(\n",
    "        min_ent_conts=th.tensor([[0, 0, 0, 0]]), max_ent_conts=th.tensor([[1, 0, 0, 0]])\n",
    "    )\n",
    ")\n",
    "\n",
    "y = (\n",
    "    th.tensor([1])\n",
    "    .int()\n",
    "    .track_sensitivity(\n",
    "        min_ent_conts=th.tensor([[0, 0, 0, 0]]), max_ent_conts=th.tensor([[1, 0, 0, 0]])\n",
    "    )\n",
    ")\n",
    "\n",
    "y = x > y\n",
    "\n",
    "assert y.sensitivity == th.tensor([0]).byte()\n",
    "assert y.max_vals == th.tensor([0])\n",
    "assert y.min_vals == th.tensor([0])\n",
    "assert (y.entities == th.tensor([[0, 0, 0, 0]]).byte()).all()\n",
    "\n"
   ]
  },
  {
   "cell_type": "code",
   "execution_count": 95,
   "metadata": {},
   "outputs": [
    {
     "data": {
      "text/plain": [
       "tensor([[0, 0, 0, 0]], dtype=torch.uint8)"
      ]
     },
     "execution_count": 95,
     "metadata": {},
     "output_type": "execute_result"
    }
   ],
   "source": [
    "x.child._could_overlap_with(x.child)"
   ]
  },
  {
   "cell_type": "code",
   "execution_count": 99,
   "metadata": {},
   "outputs": [
    {
     "data": {
      "text/plain": [
       "tensor([[1, 1, 1, 1]])"
      ]
     },
     "execution_count": 99,
     "metadata": {},
     "output_type": "execute_result"
    }
   ],
   "source": [
    "x.child.expanded_max_vals"
   ]
  },
  {
   "cell_type": "code",
   "execution_count": 100,
   "metadata": {},
   "outputs": [
    {
     "data": {
      "text/plain": [
       "tensor([[0, 0, 0, 0]])"
      ]
     },
     "execution_count": 100,
     "metadata": {},
     "output_type": "execute_result"
    }
   ],
   "source": [
    "x.child.expanded_min_vals"
   ]
  },
  {
   "cell_type": "code",
   "execution_count": 96,
   "metadata": {},
   "outputs": [],
   "source": [
    "could_self_top_overlap_with_other_bottom = (\n",
    "            x.child.expanded_max_vals\n",
    "            < x.child.expanded_min_vals  # TODO: expand later for better efficiency\n",
    "        )"
   ]
  },
  {
   "cell_type": "code",
   "execution_count": 97,
   "metadata": {},
   "outputs": [
    {
     "data": {
      "text/plain": [
       "tensor([[0, 0, 0, 0]], dtype=torch.uint8)"
      ]
     },
     "execution_count": 97,
     "metadata": {},
     "output_type": "execute_result"
    }
   ],
   "source": [
    "could_self_top_overlap_with_other_bottom"
   ]
  },
  {
   "cell_type": "code",
   "execution_count": null,
   "metadata": {},
   "outputs": [],
   "source": []
  },
  {
   "cell_type": "code",
   "execution_count": 92,
   "metadata": {},
   "outputs": [
    {
     "data": {
      "text/plain": [
       "tensor([[0, 0, 0, 0]], dtype=torch.uint8)"
      ]
     },
     "execution_count": 92,
     "metadata": {},
     "output_type": "execute_result"
    }
   ],
   "source": [
    "y.child.max_ent_conts"
   ]
  },
  {
   "cell_type": "code",
   "execution_count": 93,
   "metadata": {},
   "outputs": [
    {
     "data": {
      "text/plain": [
       "tensor([[0, 0, 0, 0]], dtype=torch.uint8)"
      ]
     },
     "execution_count": 93,
     "metadata": {},
     "output_type": "execute_result"
    }
   ],
   "source": [
    "y.child.min_ent_conts"
   ]
  },
  {
   "cell_type": "code",
   "execution_count": null,
   "metadata": {},
   "outputs": [],
   "source": []
  },
  {
   "cell_type": "code",
   "execution_count": 90,
   "metadata": {},
   "outputs": [
    {
     "data": {
      "text/plain": [
       "tensor([0], dtype=torch.uint8)"
      ]
     },
     "execution_count": 90,
     "metadata": {},
     "output_type": "execute_result"
    }
   ],
   "source": [
    "y.sensitivity"
   ]
  },
  {
   "cell_type": "code",
   "execution_count": null,
   "metadata": {},
   "outputs": [],
   "source": []
  },
  {
   "cell_type": "code",
   "execution_count": 62,
   "metadata": {},
   "outputs": [],
   "source": [
    "\n",
    "# negative, non-positive, single entitiy, overlapping, symmetric mult\n",
    "x = (\n",
    "    th.tensor([-1])\n",
    "    .int()\n",
    "    .track_sensitivity(\n",
    "        min_ent_conts=th.tensor([[-1, 0, 0, 0]]), max_ent_conts=th.tensor([[0, 0, 0, 0]])\n",
    "    )\n",
    ")\n",
    "\n",
    "y = -x\n",
    "\n",
    "assert y.sensitivity == th.tensor([1])\n",
    "assert y.max_vals == th.tensor([1])\n",
    "assert y.min_vals == th.tensor([0])\n",
    "assert (y.entities == th.tensor([[1, 0, 0, 0]])).all()\n",
    "\n",
    "# negative, positive, single entitiy, overlapping, symmetric mult\n",
    "x = (\n",
    "    th.tensor([-1])\n",
    "    .int()\n",
    "    .track_sensitivity(\n",
    "        min_ent_conts=th.tensor([[-1, 0, 0, 0]]), max_ent_conts=th.tensor([[1, 0, 0, 0]])\n",
    "    )\n",
    ")\n",
    "\n",
    "y = -x\n",
    "\n",
    "assert y.sensitivity == th.tensor([2])\n",
    "assert y.max_vals == th.tensor([1])\n",
    "assert y.min_vals == th.tensor([-1])\n",
    "assert (y.entities == th.tensor([[1, 0, 0, 0]])).all()\n",
    "\n",
    "# negative, positive, dual entitiy, overlapping, symmetric mult\n",
    "x = (\n",
    "    th.tensor([1])\n",
    "    .int()\n",
    "    .track_sensitivity(\n",
    "        min_ent_conts=th.tensor([[-1, 0, 0, 0]]), max_ent_conts=th.tensor([[1, 1, 0, 0]])\n",
    "    )\n",
    ")\n",
    "\n",
    "y = -x\n",
    "\n",
    "assert y.sensitivity == th.tensor([2])\n",
    "assert y.max_vals == th.tensor([1])\n",
    "assert y.min_vals == th.tensor([-2])\n",
    "assert (y.entities == th.tensor([[1, 1, 0, 0]])).all()\n",
    "\n",
    "# negative, positive, dual entitiy, non-overlapping, non-symmetric add\n",
    "x = (\n",
    "    th.tensor([1])\n",
    "    .int()\n",
    "    .track_sensitivity(\n",
    "        min_ent_conts=th.tensor([[-1, 0, 0, 0]]), max_ent_conts=th.tensor([[1, 1, 0, 0]])\n",
    "    )\n",
    ")\n",
    "\n",
    "y = (\n",
    "    th.tensor([5])\n",
    "    .int()\n",
    "    .track_sensitivity(\n",
    "        min_ent_conts=th.tensor([[4, 0, 0, 0]]), max_ent_conts=th.tensor([[5, 5, 0, 0]])\n",
    "    )\n",
    ")\n",
    "\n",
    "z = x * y\n",
    "\n",
    "assert z.sensitivity == th.tensor([20])\n",
    "assert z.max_vals == th.tensor([20])\n",
    "assert z.min_vals == th.tensor([-10])\n",
    "assert (z.entities == th.tensor([[1, 1, 0, 0]])).all()"
   ]
  },
  {
   "cell_type": "code",
   "execution_count": null,
   "metadata": {},
   "outputs": [],
   "source": [
    "\n",
    "\n",
    "\n",
    "\n",
    "\n"
   ]
  },
  {
   "cell_type": "code",
   "execution_count": null,
   "metadata": {},
   "outputs": [],
   "source": []
  },
  {
   "cell_type": "code",
   "execution_count": null,
   "metadata": {},
   "outputs": [],
   "source": []
  },
  {
   "cell_type": "code",
   "execution_count": null,
   "metadata": {},
   "outputs": [],
   "source": []
  }
 ],
 "metadata": {
  "kernelspec": {
   "display_name": "Python 3",
   "language": "python",
   "name": "python3"
  },
  "language_info": {
   "codemirror_mode": {
    "name": "ipython",
    "version": 3
   },
   "file_extension": ".py",
   "mimetype": "text/x-python",
   "name": "python",
   "nbconvert_exporter": "python",
   "pygments_lexer": "ipython3",
   "version": "3.6.1"
  }
 },
 "nbformat": 4,
 "nbformat_minor": 2
}
