{
 "cells": [
  {
   "cell_type": "code",
   "execution_count": 1,
   "metadata": {},
   "outputs": [],
   "source": [
    "import torch as th\n",
    "import syft as sy"
   ]
  },
  {
   "cell_type": "code",
   "execution_count": 2,
   "metadata": {},
   "outputs": [
    {
     "name": "stdout",
     "output_type": "stream",
     "text": [
      "Setting up Sandbox...\n",
      "Done!\n"
     ]
    }
   ],
   "source": [
    "sy.sandbox(globals(), False, False)"
   ]
  },
  {
   "cell_type": "code",
   "execution_count": 38,
   "metadata": {},
   "outputs": [],
   "source": [
    "# positive, non-negative, single entitiy, overlapping, symmetric mult\n",
    "x = (\n",
    "    th.tensor([1])\n",
    "    .int()\n",
    "    .track_sensitivity(\n",
    "        min_ent_conts=th.tensor([[0, 0, 0, 0]]), max_ent_conts=th.tensor([[1, 0, 0, 0]])\n",
    "    )\n",
    ")\n",
    "\n",
    "y = (\n",
    "    th.tensor([1])\n",
    "    .int()\n",
    "    .track_sensitivity(\n",
    "        min_ent_conts=th.tensor([[0, 0, 0, 0]]), max_ent_conts=th.tensor([[1, 0, 0, 0]])\n",
    "    )\n",
    ")\n",
    "\n",
    "y = x > y\n",
    "\n",
    "assert y.sensitivity == th.tensor([1]).byte()\n",
    "assert y.max_vals == th.tensor([1])\n",
    "assert y.min_vals == th.tensor([0])\n",
    "assert (y.entities == th.tensor([[1, 0, 0, 0]]).byte()).all()\n",
    "\n",
    "# positive, non-negative, single entitiy, overlapping, symmetric mult\n",
    "x = (\n",
    "    th.tensor([1])\n",
    "    .int()\n",
    "    .track_sensitivity(\n",
    "        min_ent_conts=th.tensor([[0, 0, 0, 0]]), max_ent_conts=th.tensor([[1, 0, 0, 0]])\n",
    "    )\n",
    ")\n",
    "\n",
    "y = x > x\n",
    "\n",
    "assert y.sensitivity == th.tensor([1]).byte()\n",
    "assert y.max_vals == th.tensor([1])\n",
    "assert y.min_vals == th.tensor([0])\n",
    "assert (y.entities == th.tensor([[1, 0, 0, 0]]).byte()).all()\n",
    "\n",
    "# negative, non-positive, single entitiy, overlapping, symmetric mult\n",
    "x = (\n",
    "    th.tensor([-1])\n",
    "    .int()\n",
    "    .track_sensitivity(\n",
    "        min_ent_conts=th.tensor([[-1, 0, 0, 0]]), max_ent_conts=th.tensor([[0, 0, 0, 0]])\n",
    "    )\n",
    ")\n",
    "\n",
    "y = x > x\n",
    "\n",
    "assert y.sensitivity == th.tensor([1]).byte()\n",
    "assert y.max_vals == th.tensor([1])\n",
    "assert y.min_vals == th.tensor([0])\n",
    "assert (y.entities == th.tensor([[1, 0, 0, 0]]).byte()).all()\n",
    "\n",
    "# negative, positive, single entitiy, overlapping, symmetric mult\n",
    "x = (\n",
    "    th.tensor([-1])\n",
    "    .int()\n",
    "    .track_sensitivity(\n",
    "        min_ent_conts=th.tensor([[-1, 0, 0, 0]]), max_ent_conts=th.tensor([[1, 0, 0, 0]])\n",
    "    )\n",
    ")\n",
    "\n",
    "y = x > x\n",
    "\n",
    "assert y.sensitivity == th.tensor([1]).byte()\n",
    "assert y.max_vals == th.tensor([1])\n",
    "assert y.min_vals == th.tensor([0])\n",
    "assert (y.entities == th.tensor([[1, 0, 0, 0]]).byte()).all()\n",
    "\n",
    "\n",
    "# negative, positive, dual entitiy, overlapping, symmetric mult\n",
    "x = (\n",
    "    th.tensor([1])\n",
    "    .int()\n",
    "    .track_sensitivity(\n",
    "        min_ent_conts=th.tensor([[-1, 0, 0, 0]]), max_ent_conts=th.tensor([[1, 1, 0, 0]])\n",
    "    )\n",
    ")\n",
    "\n",
    "y = x > x\n",
    "\n",
    "assert y.sensitivity == th.tensor([1]).byte()\n",
    "assert y.max_vals == th.tensor([2]) # TODO: this should return 1 but we don't have smart enough logic for that yet\n",
    "assert y.min_vals == th.tensor([0])\n",
    "assert (y.entities == th.tensor([[1, 1, 0, 0]]).byte()).all()\n",
    "\n",
    "\n",
    "\n",
    "# negative, positive, dual entitiy, non-overlapping, non-symmetric add\n",
    "x = (\n",
    "    th.tensor([1])\n",
    "    .int()\n",
    "    .track_sensitivity(\n",
    "        min_ent_conts=th.tensor([[-1, 0, 0, 0]]), max_ent_conts=th.tensor([[1, 1, 0, 0]])\n",
    "    )\n",
    ")\n",
    "\n",
    "y = (\n",
    "    th.tensor([5])\n",
    "    .int()\n",
    "    .track_sensitivity(\n",
    "        min_ent_conts=th.tensor([[4, 0, 0, 0]]), max_ent_conts=th.tensor([[5, 5, 0, 0]])\n",
    "    )\n",
    ")\n",
    "\n",
    "z = x > y\n",
    "\n",
    "assert z.sensitivity == th.tensor([1]).byte()\n",
    "assert z.max_vals == th.tensor([2]) # TODO: this should return 1 but we don't have smart enough logic for that yet\n",
    "assert z.min_vals == th.tensor([0])\n",
    "assert (z.entities == th.tensor([[1, 1, 0, 0]]).byte()).all()"
   ]
  },
  {
   "cell_type": "code",
   "execution_count": 36,
   "metadata": {},
   "outputs": [
    {
     "data": {
      "text/plain": [
       "tensor([2])"
      ]
     },
     "execution_count": 36,
     "metadata": {},
     "output_type": "execute_result"
    }
   ],
   "source": [
    "z.max_vals"
   ]
  },
  {
   "cell_type": "code",
   "execution_count": null,
   "metadata": {},
   "outputs": [],
   "source": [
    "\n",
    "\n",
    "\n",
    "\n",
    "\n"
   ]
  },
  {
   "cell_type": "code",
   "execution_count": null,
   "metadata": {},
   "outputs": [],
   "source": []
  },
  {
   "cell_type": "code",
   "execution_count": null,
   "metadata": {},
   "outputs": [],
   "source": []
  },
  {
   "cell_type": "code",
   "execution_count": null,
   "metadata": {},
   "outputs": [],
   "source": []
  }
 ],
 "metadata": {
  "kernelspec": {
   "display_name": "Python 3",
   "language": "python",
   "name": "python3"
  },
  "language_info": {
   "codemirror_mode": {
    "name": "ipython",
    "version": 3
   },
   "file_extension": ".py",
   "mimetype": "text/x-python",
   "name": "python",
   "nbconvert_exporter": "python",
   "pygments_lexer": "ipython3",
   "version": "3.6.1"
  }
 },
 "nbformat": 4,
 "nbformat_minor": 2
}
