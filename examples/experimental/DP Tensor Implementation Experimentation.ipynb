{
 "cells": [
  {
   "cell_type": "code",
   "execution_count": 1,
   "metadata": {},
   "outputs": [],
   "source": [
    "import torch as th\n",
    "import syft as sy"
   ]
  },
  {
   "cell_type": "code",
   "execution_count": 2,
   "metadata": {},
   "outputs": [
    {
     "name": "stdout",
     "output_type": "stream",
     "text": [
      "Setting up Sandbox...\n",
      "Done!\n"
     ]
    }
   ],
   "source": [
    "sy.sandbox(globals(), False, False)"
   ]
  },
  {
   "cell_type": "code",
   "execution_count": 22,
   "metadata": {},
   "outputs": [],
   "source": [
    "# positive, non-negative, single entitiy, overlapping, symmetric add\n",
    "x = (\n",
    "    th.tensor([1])\n",
    "    .int()\n",
    "    .track_sensitivity(\n",
    "        min_ent_conts=th.tensor([[0, 0, 0, 0]]), max_ent_conts=th.tensor([[1, 0, 0, 0]])\n",
    "    )\n",
    ")\n",
    "\n",
    "y = x - x\n",
    "\n",
    "assert y.sensitivity == th.tensor([2])\n",
    "assert y.max_vals == th.tensor([1])\n",
    "assert y.min_vals == th.tensor([-1])\n",
    "assert (y.entities == th.tensor([[1, 0, 0, 0]])).all()\n",
    "\n",
    "\n",
    "\n",
    "# negative, non-positive, single entitiy, overlapping, symmetric add\n",
    "x = (\n",
    "    th.tensor([-1])\n",
    "    .int()\n",
    "    .track_sensitivity(\n",
    "        min_ent_conts=th.tensor([[-1, 0, 0, 0]]), max_ent_conts=th.tensor([[0, 0, 0, 0]])\n",
    "    )\n",
    ")\n",
    "\n",
    "y = x - x\n",
    "\n",
    "assert y.sensitivity == th.tensor([2])\n",
    "assert y.max_vals == th.tensor([1])\n",
    "assert y.min_vals == th.tensor([-1])\n",
    "assert (y.entities == th.tensor([[1, 0, 0, 0]])).all()\n",
    "\n",
    "# negative, positive, single entitiy, overlapping, symmetric add\n",
    "x = (\n",
    "    th.tensor([-1])\n",
    "    .int()\n",
    "    .track_sensitivity(\n",
    "        min_ent_conts=th.tensor([[-1, 0, 0, 0]]), max_ent_conts=th.tensor([[1, 0, 0, 0]])\n",
    "    )\n",
    ")\n",
    "\n",
    "y = x - x\n",
    "\n",
    "assert y.sensitivity == th.tensor([4])\n",
    "assert y.max_vals == th.tensor([2])\n",
    "assert y.min_vals == th.tensor([-2])\n",
    "assert (y.entities == th.tensor([[1, 0, 0, 0]])).all()\n",
    "\n",
    "\n",
    "# negative, positive, dual entitiy, overlapping, symmetric add\n",
    "x = (\n",
    "    th.tensor([1])\n",
    "    .int()\n",
    "    .track_sensitivity(\n",
    "        min_ent_conts=th.tensor([[-1, 0, 0, 0]]), max_ent_conts=th.tensor([[1, 1, 0, 0]])\n",
    "    )\n",
    ")\n",
    "\n",
    "y = x - x\n",
    "\n",
    "assert y.sensitivity == th.tensor([4])\n",
    "assert y.max_vals == th.tensor([3])\n",
    "assert y.min_vals == th.tensor([-3])\n",
    "assert (y.entities == th.tensor([[1, 1, 0, 0]])).all()"
   ]
  },
  {
   "cell_type": "code",
   "execution_count": 20,
   "metadata": {},
   "outputs": [
    {
     "data": {
      "text/plain": [
       "tensor([3])"
      ]
     },
     "execution_count": 20,
     "metadata": {},
     "output_type": "execute_result"
    }
   ],
   "source": [
    "y.max_vals"
   ]
  },
  {
   "cell_type": "code",
   "execution_count": null,
   "metadata": {},
   "outputs": [],
   "source": []
  },
  {
   "cell_type": "code",
   "execution_count": 24,
   "metadata": {},
   "outputs": [
    {
     "ename": "AssertionError",
     "evalue": "",
     "output_type": "error",
     "traceback": [
      "\u001b[0;31m---------------------------------------------------------------------------\u001b[0m",
      "\u001b[0;31mAssertionError\u001b[0m                            Traceback (most recent call last)",
      "\u001b[0;32m<ipython-input-24-2adc56d86fc0>\u001b[0m in \u001b[0;36m<module>\u001b[0;34m()\u001b[0m\n\u001b[1;32m     19\u001b[0m \u001b[0;34m\u001b[0m\u001b[0m\n\u001b[1;32m     20\u001b[0m \u001b[0;32massert\u001b[0m \u001b[0mz\u001b[0m\u001b[0;34m.\u001b[0m\u001b[0msensitivity\u001b[0m \u001b[0;34m==\u001b[0m \u001b[0mth\u001b[0m\u001b[0;34m.\u001b[0m\u001b[0mtensor\u001b[0m\u001b[0;34m(\u001b[0m\u001b[0;34m[\u001b[0m\u001b[0;36m6\u001b[0m\u001b[0;34m]\u001b[0m\u001b[0;34m)\u001b[0m\u001b[0;34m\u001b[0m\u001b[0m\n\u001b[0;32m---> 21\u001b[0;31m \u001b[0;32massert\u001b[0m \u001b[0mz\u001b[0m\u001b[0;34m.\u001b[0m\u001b[0mmax_vals\u001b[0m \u001b[0;34m==\u001b[0m \u001b[0mth\u001b[0m\u001b[0;34m.\u001b[0m\u001b[0mtensor\u001b[0m\u001b[0;34m(\u001b[0m\u001b[0;34m[\u001b[0m\u001b[0;36m12\u001b[0m\u001b[0;34m]\u001b[0m\u001b[0;34m)\u001b[0m\u001b[0;34m\u001b[0m\u001b[0m\n\u001b[0m\u001b[1;32m     22\u001b[0m \u001b[0;32massert\u001b[0m \u001b[0mz\u001b[0m\u001b[0;34m.\u001b[0m\u001b[0mmin_vals\u001b[0m \u001b[0;34m==\u001b[0m \u001b[0mth\u001b[0m\u001b[0;34m.\u001b[0m\u001b[0mtensor\u001b[0m\u001b[0;34m(\u001b[0m\u001b[0;34m[\u001b[0m\u001b[0;36m3\u001b[0m\u001b[0;34m]\u001b[0m\u001b[0;34m)\u001b[0m\u001b[0;34m\u001b[0m\u001b[0m\n\u001b[1;32m     23\u001b[0m \u001b[0;32massert\u001b[0m \u001b[0;34m(\u001b[0m\u001b[0mz\u001b[0m\u001b[0;34m.\u001b[0m\u001b[0mentities\u001b[0m \u001b[0;34m==\u001b[0m \u001b[0mth\u001b[0m\u001b[0;34m.\u001b[0m\u001b[0mtensor\u001b[0m\u001b[0;34m(\u001b[0m\u001b[0;34m[\u001b[0m\u001b[0;34m[\u001b[0m\u001b[0;36m1\u001b[0m\u001b[0;34m,\u001b[0m \u001b[0;36m1\u001b[0m\u001b[0;34m,\u001b[0m \u001b[0;36m0\u001b[0m\u001b[0;34m,\u001b[0m \u001b[0;36m0\u001b[0m\u001b[0;34m]\u001b[0m\u001b[0;34m]\u001b[0m\u001b[0;34m)\u001b[0m\u001b[0;34m)\u001b[0m\u001b[0;34m.\u001b[0m\u001b[0mall\u001b[0m\u001b[0;34m(\u001b[0m\u001b[0;34m)\u001b[0m\u001b[0;34m\u001b[0m\u001b[0m\n",
      "\u001b[0;31mAssertionError\u001b[0m: "
     ]
    }
   ],
   "source": [
    "# negative, positive, dual entitiy, non-overlapping, non-symmetric add\n",
    "x = (\n",
    "    th.tensor([1])\n",
    "    .int()\n",
    "    .track_sensitivity(\n",
    "        min_ent_conts=th.tensor([[-1, 0, 0, 0]]), max_ent_conts=th.tensor([[1, 1, 0, 0]])\n",
    "    )\n",
    ")\n",
    "\n",
    "y = (\n",
    "    th.tensor([5])\n",
    "    .int()\n",
    "    .track_sensitivity(\n",
    "        min_ent_conts=th.tensor([[4, 0, 0, 0]]), max_ent_conts=th.tensor([[5, 5, 0, 0]])\n",
    "    )\n",
    ")\n",
    "\n",
    "z = x - y\n",
    "\n",
    "assert z.sensitivity == th.tensor([6])\n",
    "assert z.max_vals == th.tensor([12])\n",
    "assert z.min_vals == th.tensor([3])\n",
    "assert (z.entities == th.tensor([[1, 1, 0, 0]])).all()"
   ]
  },
  {
   "cell_type": "code",
   "execution_count": 28,
   "metadata": {},
   "outputs": [
    {
     "data": {
      "text/plain": [
       "tensor([[6, 6, 0, 0]])"
      ]
     },
     "execution_count": 28,
     "metadata": {},
     "output_type": "execute_result"
    }
   ],
   "source": [
    "z.child.max_ent_conts"
   ]
  },
  {
   "cell_type": "code",
   "execution_count": 29,
   "metadata": {},
   "outputs": [
    {
     "data": {
      "text/plain": [
       "tensor([[3, 0, 0, 0]])"
      ]
     },
     "execution_count": 29,
     "metadata": {},
     "output_type": "execute_result"
    }
   ],
   "source": [
    "z.child.min_ent_conts"
   ]
  },
  {
   "cell_type": "code",
   "execution_count": null,
   "metadata": {},
   "outputs": [],
   "source": []
  }
 ],
 "metadata": {
  "kernelspec": {
   "display_name": "Python 3",
   "language": "python",
   "name": "python3"
  },
  "language_info": {
   "codemirror_mode": {
    "name": "ipython",
    "version": 3
   },
   "file_extension": ".py",
   "mimetype": "text/x-python",
   "name": "python",
   "nbconvert_exporter": "python",
   "pygments_lexer": "ipython3",
   "version": "3.6.1"
  }
 },
 "nbformat": 4,
 "nbformat_minor": 2
}
