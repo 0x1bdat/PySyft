{
 "cells": [
  {
   "cell_type": "code",
   "execution_count": 1,
   "metadata": {},
   "outputs": [],
   "source": [
    "import syft as sy\n",
    "import torch as th\n",
    "from syft.core.plan.plan_builder import make_plan"
   ]
  },
  {
   "cell_type": "code",
   "execution_count": 2,
   "metadata": {},
   "outputs": [
    {
     "name": "stderr",
     "output_type": "stream",
     "text": [
      "[2021-03-23T11:27:16.543157+0800][CRITICAL][logger]][1314] Skipping torchvision.torchvision.transforms.functional.adjust_sharpness not supported in 0.8.1\n",
      "[2021-03-23T11:27:16.543519+0800][CRITICAL][logger]][1314] Skipping torchvision.torchvision.transforms.functional.autocontrast not supported in 0.8.1\n",
      "[2021-03-23T11:27:16.543763+0800][CRITICAL][logger]][1314] Skipping torchvision.torchvision.transforms.functional.equalize not supported in 0.8.1\n",
      "[2021-03-23T11:27:16.544016+0800][CRITICAL][logger]][1314] Skipping torchvision.torchvision.transforms.functional.invert not supported in 0.8.1\n"
     ]
    }
   ],
   "source": [
    "alice = sy.VirtualMachine()\n",
    "alice_client = alice.get_root_client()"
   ]
  },
  {
   "cell_type": "code",
   "execution_count": 3,
   "metadata": {},
   "outputs": [
    {
     "name": "stderr",
     "output_type": "stream",
     "text": [
      "[2021-03-23T11:27:16.544251+0800][CRITICAL][logger]][1314] Skipping torchvision.torchvision.transforms.functional.posterize not supported in 0.8.1\n",
      "[2021-03-23T11:27:16.544511+0800][CRITICAL][logger]][1314] Skipping torchvision.torchvision.transforms.functional.solarize not supported in 0.8.1\n"
     ]
    },
    {
     "name": "stdout",
     "output_type": "stream",
     "text": [
      "<syft.proxy.torch.nn.LinearPointer object at 0x7f59caae0250>\n",
      "<syft.proxy.torch.TensorPointer object at 0x7f5a6c583460>\n",
      "tensor([[ 0.3970, -0.0868, -0.7340, -0.3398, -0.4073,  0.3373, -0.7512,  0.3379,\n",
      "         -0.5889,  0.4390]], requires_grad=True)\n",
      "Linear(in_features=25, out_features=10, bias=True)\n"
     ]
    },
    {
     "name": "stderr",
     "output_type": "stream",
     "text": [
      "/mnt/d/github/PySyft/src/syft/lib/torch/uppercase_tensor.py:30: UserWarning: The .grad attribute of a Tensor that is not a leaf Tensor is being accessed. Its .grad attribute won't be populated during autograd.backward(). If you indeed want the gradient for a non-leaf Tensor, use .retain_grad() on the non-leaf Tensor. If you access the non-leaf Tensor by mistake, make sure you access the leaf Tensor instead. See github.com/pytorch/pytorch/pull/30531 for more informations.\n",
      "  grad = getattr(obj, \"grad\", None)\n"
     ]
    }
   ],
   "source": [
    "# a layer\n",
    "fc = th.nn.Linear(25,10)\n",
    "fc_ptr = fc.send(alice_client)\n",
    "print(fc_ptr)\n",
    "res_ptr = fc_ptr(th.rand([1,25]))\n",
    "print(res_ptr)\n",
    "print(res_ptr.get())\n",
    "print(fc_ptr.get())"
   ]
  },
  {
   "cell_type": "code",
   "execution_count": 4,
   "metadata": {},
   "outputs": [
    {
     "name": "stderr",
     "output_type": "stream",
     "text": [
      "[2021-03-23T11:27:16.669363+0800][CRITICAL][logger]][1314] <class 'syft.core.store.store_memory.MemoryStore'> __delitem__ error <UID: cb366eea6f16403da2b067c5b7bbb328>.\n"
     ]
    },
    {
     "name": "stdout",
     "output_type": "stream",
     "text": [
      "<syft.proxy.torch.nn.SequentialPointer object at 0x7f59cab1a5e0>\n",
      "<syft.proxy.torch.TensorPointer object at 0x7f59caae0d30>\n",
      "tensor([[-0.2357]], requires_grad=True)\n",
      "Sequential(\n",
      "  (fc1): Linear(in_features=25, out_features=10, bias=True)\n",
      "  (fc2): Linear(in_features=10, out_features=1, bias=True)\n",
      ")\n"
     ]
    }
   ],
   "source": [
    "# container of layers\n",
    "seq = th.nn.Sequential()\n",
    "seq.add_module(\"fc1\", th.nn.Linear(25,10))\n",
    "seq.add_module(\"fc2\", th.nn.Linear(10,1))\n",
    "seq_ptr = seq.send(alice_client)\n",
    "print(seq_ptr)\n",
    "res_ptr = seq_ptr(th.rand([1,25]))\n",
    "print(res_ptr)\n",
    "print(res_ptr.get())\n",
    "print(seq_ptr.get())"
   ]
  },
  {
   "cell_type": "code",
   "execution_count": 5,
   "metadata": {},
   "outputs": [
    {
     "name": "stdout",
     "output_type": "stream",
     "text": [
      "<syft.proxy.torch.nn.ModulePointer object at 0x7f59caae0520>\n",
      "Module(\n",
      "  (fc1): Linear(in_features=25, out_features=10, bias=True)\n",
      "  (fc2): Linear(in_features=10, out_features=1, bias=True)\n",
      ")\n"
     ]
    }
   ],
   "source": [
    "# user defined model\n",
    "class M(th.nn.Module):\n",
    "    def __init__(self):\n",
    "        super(M, self).__init__()\n",
    "        self.fc1 = th.nn.Linear(25,10)\n",
    "        self.fc2 = th.nn.Linear(10,1)\n",
    "        \n",
    "    def forward(self,x):\n",
    "        x = self.fc1(x)\n",
    "        x = self.fc2(x)\n",
    "        return x\n",
    "    \n",
    "    @property\n",
    "    def forward_Plan(self):\n",
    "        @make_plan\n",
    "        def remote_forward(\n",
    "            x=th.rand([4,25]), \n",
    "            fc1 = self.fc1,\n",
    "            fc2 = self.fc2\n",
    "        ):\n",
    "            x = fc1(x)\n",
    "            x = fc2(x)\n",
    "            return x\n",
    "        return remote_forward\n",
    "        \n",
    "m = M()\n",
    "m_ptr = m.send(alice_client)\n",
    "print(m_ptr)\n",
    "# res_ptr = mptr(th.rand([1,25])) # TODO\n",
    "# print(res_ptr) # TODO\n",
    "# print(res_ptr.get()) # TODO\n",
    "print(m_ptr.get())"
   ]
  }
 ],
 "metadata": {
  "kernelspec": {
   "display_name": "Python 3",
   "language": "python",
   "name": "python3"
  },
  "language_info": {
   "codemirror_mode": {
    "name": "ipython",
    "version": 3
   },
   "file_extension": ".py",
   "mimetype": "text/x-python",
   "name": "python",
   "nbconvert_exporter": "python",
   "pygments_lexer": "ipython3",
   "version": "3.8.8"
  }
 },
 "nbformat": 4,
 "nbformat_minor": 4
}
