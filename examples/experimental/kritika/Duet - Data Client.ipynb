{
 "cells": [
  {
   "cell_type": "code",
   "execution_count": 1,
   "metadata": {},
   "outputs": [
    {
     "name": "stdout",
     "output_type": "stream",
     "text": [
      "Skipping torch.torch.Tensor.__div__ not supported in 1.4.0\n",
      "Skipping torch.torch.Tensor.__floordiv__ not supported in 1.4.0\n",
      "Skipping torch.torch.Tensor.__rfloordiv__ not supported in 1.4.0\n",
      "Skipping torch.torch.Tensor.bitwise_and not supported in 1.4.0\n",
      "Skipping torch.torch.Tensor.bitwise_and_ not supported in 1.4.0\n",
      "Skipping torch.torch.Tensor.bitwise_or not supported in 1.4.0\n",
      "Skipping torch.torch.Tensor.bitwise_or_ not supported in 1.4.0\n",
      "Skipping torch.torch.Tensor.div not supported in 1.4.0\n",
      "Skipping torch.torch.Tensor.div_ not supported in 1.4.0\n",
      "Skipping torch.torch.Tensor.floor_divide not supported in 1.4.0\n",
      "Skipping torch.torch.Tensor.floor_divide_ not supported in 1.4.0\n",
      "Skipping torch.torch.Tensor.is_meta not supported in 1.4.0\n",
      "Skipping torch.torch.Tensor.logical_and not supported in 1.4.0\n",
      "Skipping torch.torch.Tensor.logical_and_ not supported in 1.4.0\n",
      "Skipping torch.torch.Tensor.logical_or not supported in 1.4.0\n",
      "Skipping torch.torch.Tensor.logical_or_ not supported in 1.4.0\n",
      "Skipping torch.torch.Tensor.remainder not supported in 1.4.0\n",
      "Skipping torch.torch.Tensor.remainder_ not supported in 1.4.0\n",
      "Skipping torch.torch.Tensor.square not supported in 1.4.0\n",
      "Skipping torch.torch.Tensor.square_ not supported in 1.4.0\n",
      "Skipping torch.torch.Tensor.true_divide not supported in 1.4.0\n",
      "Skipping torch.torch.Tensor.true_divide_ not supported in 1.4.0\n"
     ]
    }
   ],
   "source": [
    "import syft as sy\n",
    "import torch as th\n",
    "sy.VERBOSE = False"
   ]
  },
  {
   "cell_type": "code",
   "execution_count": 2,
   "metadata": {},
   "outputs": [
    {
     "name": "stdout",
     "output_type": "stream",
     "text": [
      "creating duet with domain <class 'syft.core.io.location.specific.SpecificLocation'> <SpecificLocation:5bf479fe-35b5-4fd3-b6ed-9f669706bf4a>\n",
      "Skipping torch.torch.Tensor.__div__ not supported in 1.4.0\n",
      "Skipping torch.torch.Tensor.__floordiv__ not supported in 1.4.0\n",
      "Skipping torch.torch.Tensor.__rfloordiv__ not supported in 1.4.0\n",
      "Skipping torch.torch.Tensor.bitwise_and not supported in 1.4.0\n",
      "Skipping torch.torch.Tensor.bitwise_and_ not supported in 1.4.0\n",
      "Skipping torch.torch.Tensor.bitwise_or not supported in 1.4.0\n",
      "Skipping torch.torch.Tensor.bitwise_or_ not supported in 1.4.0\n",
      "Skipping torch.torch.Tensor.div not supported in 1.4.0\n",
      "Skipping torch.torch.Tensor.div_ not supported in 1.4.0\n",
      "Skipping torch.torch.Tensor.floor_divide not supported in 1.4.0\n",
      "Skipping torch.torch.Tensor.floor_divide_ not supported in 1.4.0\n",
      "Skipping torch.torch.Tensor.is_meta not supported in 1.4.0\n",
      "Skipping torch.torch.Tensor.logical_and not supported in 1.4.0\n",
      "Skipping torch.torch.Tensor.logical_and_ not supported in 1.4.0\n",
      "Skipping torch.torch.Tensor.logical_or not supported in 1.4.0\n",
      "Skipping torch.torch.Tensor.logical_or_ not supported in 1.4.0\n",
      "Skipping torch.torch.Tensor.remainder not supported in 1.4.0\n",
      "Skipping torch.torch.Tensor.remainder_ not supported in 1.4.0\n",
      "Skipping torch.torch.Tensor.square not supported in 1.4.0\n",
      "Skipping torch.torch.Tensor.square_ not supported in 1.4.0\n",
      "Skipping torch.torch.Tensor.true_divide not supported in 1.4.0\n",
      "Skipping torch.torch.Tensor.true_divide_ not supported in 1.4.0\n",
      "♫♫♫ > Connected!\n"
     ]
    }
   ],
   "source": [
    "duet = sy.Duet(domain_url=\"http://127.0.0.1:5000/\")"
   ]
  },
  {
   "cell_type": "code",
   "execution_count": 4,
   "metadata": {},
   "outputs": [
    {
     "name": "stdout",
     "output_type": "stream",
     "text": [
      "Request Message Id:<UID:c7e16e50-a24c-4328-b4ab-b6dd37817269>\n"
     ]
    }
   ],
   "source": [
    "duet.store[0].request()"
   ]
  },
  {
   "cell_type": "code",
   "execution_count": 5,
   "metadata": {},
   "outputs": [
    {
     "data": {
      "text/html": [
       "<div>\n",
       "<style scoped>\n",
       "    .dataframe tbody tr th:only-of-type {\n",
       "        vertical-align: middle;\n",
       "    }\n",
       "\n",
       "    .dataframe tbody tr th {\n",
       "        vertical-align: top;\n",
       "    }\n",
       "\n",
       "    .dataframe thead th {\n",
       "        text-align: right;\n",
       "    }\n",
       "</style>\n",
       "<table border=\"1\" class=\"dataframe\">\n",
       "  <thead>\n",
       "    <tr style=\"text-align: right;\">\n",
       "      <th></th>\n",
       "      <th>Request Name</th>\n",
       "      <th>Reason</th>\n",
       "      <th>Request ID</th>\n",
       "      <th>Requested Object's ID</th>\n",
       "    </tr>\n",
       "  </thead>\n",
       "  <tbody>\n",
       "    <tr>\n",
       "      <th>0</th>\n",
       "      <td></td>\n",
       "      <td></td>\n",
       "      <td>&lt;UID:c7e16e50-a24c-4328-b4ab-b6dd37817269&gt;</td>\n",
       "      <td>&lt;UID:0a4468f1-b4fb-4bc8-97d7-526132dff4a8&gt;</td>\n",
       "    </tr>\n",
       "  </tbody>\n",
       "</table>\n",
       "</div>"
      ],
      "text/plain": [
       "  Request Name Reason                                  Request ID  \\\n",
       "0                      <UID:c7e16e50-a24c-4328-b4ab-b6dd37817269>   \n",
       "\n",
       "                        Requested Object's ID  \n",
       "0  <UID:0a4468f1-b4fb-4bc8-97d7-526132dff4a8>  "
      ]
     },
     "execution_count": 5,
     "metadata": {},
     "output_type": "execute_result"
    }
   ],
   "source": [
    "duet.requests.pandas"
   ]
  },
  {
   "cell_type": "code",
   "execution_count": 7,
   "metadata": {},
   "outputs": [
    {
     "data": {
      "text/plain": [
       "tensor([1, 2, 3])"
      ]
     },
     "execution_count": 7,
     "metadata": {},
     "output_type": "execute_result"
    }
   ],
   "source": [
    "duet.store[0].get()"
   ]
  },
  {
   "cell_type": "code",
   "execution_count": 8,
   "metadata": {},
   "outputs": [
    {
     "ename": "IndexError",
     "evalue": "list index out of range",
     "output_type": "error",
     "traceback": [
      "\u001b[0;31m---------------------------------------------------------------------------\u001b[0m",
      "\u001b[0;31mIndexError\u001b[0m                                Traceback (most recent call last)",
      "\u001b[0;32m<ipython-input-8-ea4b048cb782>\u001b[0m in \u001b[0;36m<module>\u001b[0;34m\u001b[0m\n\u001b[0;32m----> 1\u001b[0;31m \u001b[0mx\u001b[0m \u001b[0;34m=\u001b[0m \u001b[0mduet\u001b[0m\u001b[0;34m.\u001b[0m\u001b[0mstore\u001b[0m\u001b[0;34m[\u001b[0m\u001b[0;36m0\u001b[0m\u001b[0;34m]\u001b[0m\u001b[0;34m\u001b[0m\u001b[0;34m\u001b[0m\u001b[0m\n\u001b[0m",
      "\u001b[0;32m~/PySyft/src/syft/core/node/common/client.py\u001b[0m in \u001b[0;36m__getitem__\u001b[0;34m(self, key)\u001b[0m\n\u001b[1;32m    399\u001b[0m             \u001b[0;32mraise\u001b[0m \u001b[0mKeyError\u001b[0m\u001b[0;34m(\u001b[0m\u001b[0;34m\"No such request found for string id:\"\u001b[0m \u001b[0;34m+\u001b[0m \u001b[0mstr\u001b[0m\u001b[0;34m(\u001b[0m\u001b[0mkey\u001b[0m\u001b[0;34m)\u001b[0m\u001b[0;34m)\u001b[0m\u001b[0;34m\u001b[0m\u001b[0;34m\u001b[0m\u001b[0m\n\u001b[1;32m    400\u001b[0m         \u001b[0;32mif\u001b[0m \u001b[0misinstance\u001b[0m\u001b[0;34m(\u001b[0m\u001b[0mkey\u001b[0m\u001b[0;34m,\u001b[0m \u001b[0mint\u001b[0m\u001b[0;34m)\u001b[0m\u001b[0;34m:\u001b[0m\u001b[0;34m\u001b[0m\u001b[0;34m\u001b[0m\u001b[0m\n\u001b[0;32m--> 401\u001b[0;31m             \u001b[0;32mreturn\u001b[0m \u001b[0mself\u001b[0m\u001b[0;34m.\u001b[0m\u001b[0mstore\u001b[0m\u001b[0;34m[\u001b[0m\u001b[0mkey\u001b[0m\u001b[0;34m]\u001b[0m\u001b[0;34m\u001b[0m\u001b[0;34m\u001b[0m\u001b[0m\n\u001b[0m\u001b[1;32m    402\u001b[0m         \u001b[0;32melse\u001b[0m\u001b[0;34m:\u001b[0m\u001b[0;34m\u001b[0m\u001b[0;34m\u001b[0m\u001b[0m\n\u001b[1;32m    403\u001b[0m             \u001b[0;32mraise\u001b[0m \u001b[0mKeyError\u001b[0m\u001b[0;34m(\u001b[0m\u001b[0;34m\"Please pass in a string or int key\"\u001b[0m\u001b[0;34m)\u001b[0m\u001b[0;34m\u001b[0m\u001b[0;34m\u001b[0m\u001b[0m\n",
      "\u001b[0;31mIndexError\u001b[0m: list index out of range"
     ]
    }
   ],
   "source": [
    "x = duet.store[0]"
   ]
  },
  {
   "cell_type": "code",
   "execution_count": 16,
   "metadata": {},
   "outputs": [
    {
     "data": {
      "text/plain": [
       "tensor([1, 2, 3])"
      ]
     },
     "execution_count": 16,
     "metadata": {},
     "output_type": "execute_result"
    }
   ],
   "source": [
    "x.get()"
   ]
  },
  {
   "cell_type": "code",
   "execution_count": null,
   "metadata": {},
   "outputs": [],
   "source": []
  }
 ],
 "metadata": {
  "kernelspec": {
   "display_name": "Python 3",
   "language": "python",
   "name": "python3"
  },
  "language_info": {
   "codemirror_mode": {
    "name": "ipython",
    "version": 3
   },
   "file_extension": ".py",
   "mimetype": "text/x-python",
   "name": "python",
   "nbconvert_exporter": "python",
   "pygments_lexer": "ipython3",
   "version": "3.7.7"
  }
 },
 "nbformat": 4,
 "nbformat_minor": 4
}
