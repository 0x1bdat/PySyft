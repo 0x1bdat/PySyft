{
 "cells": [
  {
   "cell_type": "code",
   "execution_count": 1,
   "metadata": {},
   "outputs": [
    {
     "name": "stdout",
     "output_type": "stream",
     "text": [
      "Skipping torch.torch.Tensor.__div__ not supported in 1.4.0\n",
      "Skipping torch.torch.Tensor.__floordiv__ not supported in 1.4.0\n",
      "Skipping torch.torch.Tensor.__rfloordiv__ not supported in 1.4.0\n",
      "Skipping torch.torch.Tensor.bitwise_and not supported in 1.4.0\n",
      "Skipping torch.torch.Tensor.bitwise_and_ not supported in 1.4.0\n",
      "Skipping torch.torch.Tensor.bitwise_or not supported in 1.4.0\n",
      "Skipping torch.torch.Tensor.bitwise_or_ not supported in 1.4.0\n",
      "Skipping torch.torch.Tensor.div not supported in 1.4.0\n",
      "Skipping torch.torch.Tensor.div_ not supported in 1.4.0\n",
      "Skipping torch.torch.Tensor.floor_divide not supported in 1.4.0\n",
      "Skipping torch.torch.Tensor.floor_divide_ not supported in 1.4.0\n",
      "Skipping torch.torch.Tensor.is_meta not supported in 1.4.0\n",
      "Skipping torch.torch.Tensor.logical_and not supported in 1.4.0\n",
      "Skipping torch.torch.Tensor.logical_and_ not supported in 1.4.0\n",
      "Skipping torch.torch.Tensor.logical_or not supported in 1.4.0\n",
      "Skipping torch.torch.Tensor.logical_or_ not supported in 1.4.0\n",
      "Skipping torch.torch.Tensor.remainder not supported in 1.4.0\n",
      "Skipping torch.torch.Tensor.remainder_ not supported in 1.4.0\n",
      "Skipping torch.torch.Tensor.square not supported in 1.4.0\n",
      "Skipping torch.torch.Tensor.square_ not supported in 1.4.0\n",
      "Skipping torch.torch.Tensor.true_divide not supported in 1.4.0\n",
      "Skipping torch.torch.Tensor.true_divide_ not supported in 1.4.0\n"
     ]
    }
   ],
   "source": [
    "import syft as sy\n",
    "sy.VERBOSE=False"
   ]
  },
  {
   "cell_type": "code",
   "execution_count": 2,
   "metadata": {},
   "outputs": [
    {
     "name": "stdout",
     "output_type": "stream",
     "text": [
      "🎤  🎸  ♪♪♪ starting duet ♫♫♫  🎻  🎹\n",
      "\n",
      "♫♫♫ >\u001b[93m DISCLAIMER\u001b[0m:\u001b[1m Duet is an experimental feature currently \n",
      "♫♫♫ > in alpha. Do not use this to protect real-world data.\n",
      "\u001b[0m♫♫♫ >\n",
      "♫♫♫ > Punching through firewall to OpenGrid Network Node at network_url: \n",
      "♫♫♫ > http://ec2-18-216-8-163.us-east-2.compute.amazonaws.com:5000\n",
      "♫♫♫ >\n",
      "♫♫♫ > ...waiting for response from OpenGrid Network... Skipping torch.torch.Tensor.__div__ not supported in 1.4.0\n",
      "Skipping torch.torch.Tensor.__floordiv__ not supported in 1.4.0\n",
      "Skipping torch.torch.Tensor.__rfloordiv__ not supported in 1.4.0\n",
      "Skipping torch.torch.Tensor.bitwise_and not supported in 1.4.0\n",
      "Skipping torch.torch.Tensor.bitwise_and_ not supported in 1.4.0\n",
      "Skipping torch.torch.Tensor.bitwise_or not supported in 1.4.0\n",
      "Skipping torch.torch.Tensor.bitwise_or_ not supported in 1.4.0\n",
      "Skipping torch.torch.Tensor.div not supported in 1.4.0\n",
      "Skipping torch.torch.Tensor.div_ not supported in 1.4.0\n",
      "Skipping torch.torch.Tensor.floor_divide not supported in 1.4.0\n",
      "Skipping torch.torch.Tensor.floor_divide_ not supported in 1.4.0\n",
      "Skipping torch.torch.Tensor.is_meta not supported in 1.4.0\n",
      "Skipping torch.torch.Tensor.logical_and not supported in 1.4.0\n",
      "Skipping torch.torch.Tensor.logical_and_ not supported in 1.4.0\n",
      "Skipping torch.torch.Tensor.logical_or not supported in 1.4.0\n",
      "Skipping torch.torch.Tensor.logical_or_ not supported in 1.4.0\n",
      "Skipping torch.torch.Tensor.remainder not supported in 1.4.0\n",
      "Skipping torch.torch.Tensor.remainder_ not supported in 1.4.0\n",
      "Skipping torch.torch.Tensor.square not supported in 1.4.0\n",
      "Skipping torch.torch.Tensor.square_ not supported in 1.4.0\n",
      "Skipping torch.torch.Tensor.true_divide not supported in 1.4.0\n",
      "Skipping torch.torch.Tensor.true_divide_ not supported in 1.4.0\n",
      "\u001b[92mDONE!\u001b[0m\n",
      "♫♫♫ >\n",
      "♫♫♫ > \u001b[95mSTEP 1:\u001b[0m Send the following code to your duet partner!\n",
      "\n",
      "import syft as sy\n",
      "sy.VERBOSE=False\n",
      "duet = sy.join_duet('\u001b[1m531dba63d20b75459910f9e7093b5694\u001b[0m')\n",
      "\n",
      "♫♫♫ > \u001b[95mSTEP 2:\u001b[0m The code above will print out a 'Client Id'. Have\n",
      "♫♫♫ >         your duet partner send it to you and enter it below!\n",
      "\n",
      "♫♫♫ > Duet Partner's Client Id:50b7dd58f135ba9ccd30fcca835c553e\n",
      "♫♫♫ > Connecting...\n",
      "♫♫♫ > ...using a running event loop...\n",
      "Skipping torch.torch.Tensor.__div__ not supported in 1.4.0\n",
      "Skipping torch.torch.Tensor.__floordiv__ not supported in 1.4.0\n",
      "Skipping torch.torch.Tensor.__rfloordiv__ not supported in 1.4.0\n",
      "Skipping torch.torch.Tensor.bitwise_and not supported in 1.4.0\n",
      "Skipping torch.torch.Tensor.bitwise_and_ not supported in 1.4.0\n",
      "Skipping torch.torch.Tensor.bitwise_or not supported in 1.4.0\n",
      "Skipping torch.torch.Tensor.bitwise_or_ not supported in 1.4.0\n",
      "Skipping torch.torch.Tensor.div not supported in 1.4.0\n",
      "Skipping torch.torch.Tensor.div_ not supported in 1.4.0\n",
      "Skipping torch.torch.Tensor.floor_divide not supported in 1.4.0\n",
      "Skipping torch.torch.Tensor.floor_divide_ not supported in 1.4.0\n",
      "Skipping torch.torch.Tensor.is_meta not supported in 1.4.0\n",
      "Skipping torch.torch.Tensor.logical_and not supported in 1.4.0\n",
      "Skipping torch.torch.Tensor.logical_and_ not supported in 1.4.0\n",
      "Skipping torch.torch.Tensor.logical_or not supported in 1.4.0\n",
      "Skipping torch.torch.Tensor.logical_or_ not supported in 1.4.0\n",
      "Skipping torch.torch.Tensor.remainder not supported in 1.4.0\n",
      "Skipping torch.torch.Tensor.remainder_ not supported in 1.4.0\n",
      "Skipping torch.torch.Tensor.square not supported in 1.4.0\n",
      "Skipping torch.torch.Tensor.square_ not supported in 1.4.0\n",
      "Skipping torch.torch.Tensor.true_divide not supported in 1.4.0\n",
      "Skipping torch.torch.Tensor.true_divide_ not supported in 1.4.0\n",
      "\n",
      "♫♫♫ > \u001b[92mCONNECTED!\u001b[0m\n",
      "Skipping torch.torch.Tensor.__div__ not supported in 1.4.0\n",
      "Skipping torch.torch.Tensor.__floordiv__ not supported in 1.4.0\n",
      "Skipping torch.torch.Tensor.__rfloordiv__ not supported in 1.4.0\n",
      "Skipping torch.torch.Tensor.bitwise_and not supported in 1.4.0\n",
      "Skipping torch.torch.Tensor.bitwise_and_ not supported in 1.4.0\n",
      "Skipping torch.torch.Tensor.bitwise_or not supported in 1.4.0\n",
      "Skipping torch.torch.Tensor.bitwise_or_ not supported in 1.4.0\n",
      "Skipping torch.torch.Tensor.div not supported in 1.4.0\n",
      "Skipping torch.torch.Tensor.div_ not supported in 1.4.0\n",
      "Skipping torch.torch.Tensor.floor_divide not supported in 1.4.0\n",
      "Skipping torch.torch.Tensor.floor_divide_ not supported in 1.4.0\n",
      "Skipping torch.torch.Tensor.is_meta not supported in 1.4.0\n",
      "Skipping torch.torch.Tensor.logical_and not supported in 1.4.0\n",
      "Skipping torch.torch.Tensor.logical_and_ not supported in 1.4.0\n",
      "Skipping torch.torch.Tensor.logical_or not supported in 1.4.0\n",
      "Skipping torch.torch.Tensor.logical_or_ not supported in 1.4.0\n",
      "Skipping torch.torch.Tensor.remainder not supported in 1.4.0\n",
      "Skipping torch.torch.Tensor.remainder_ not supported in 1.4.0\n",
      "Skipping torch.torch.Tensor.square not supported in 1.4.0\n",
      "Skipping torch.torch.Tensor.square_ not supported in 1.4.0\n",
      "Skipping torch.torch.Tensor.true_divide not supported in 1.4.0\n",
      "Skipping torch.torch.Tensor.true_divide_ not supported in 1.4.0\n",
      "\n",
      "♫♫♫ > DUET LIVE STATUS  *  Objects: 0  Requests: 0   Messages: 3                                "
     ]
    }
   ],
   "source": [
    "duet = sy.launch_duet()"
   ]
  },
  {
   "cell_type": "code",
   "execution_count": 3,
   "metadata": {},
   "outputs": [
    {
     "data": {
      "text/plain": [
       "[<syft.proxy.torch.TensorPointer object at 0x7fdd5f554b90>]"
      ]
     },
     "execution_count": 3,
     "metadata": {},
     "output_type": "execute_result"
    }
   ],
   "source": [
    "duet.store\n"
   ]
  },
  {
   "cell_type": "code",
   "execution_count": null,
   "metadata": {},
   "outputs": [],
   "source": []
  }
 ],
 "metadata": {
  "kernelspec": {
   "display_name": "Python 3",
   "language": "python",
   "name": "python3"
  },
  "language_info": {
   "codemirror_mode": {
    "name": "ipython",
    "version": 3
   },
   "file_extension": ".py",
   "mimetype": "text/x-python",
   "name": "python",
   "nbconvert_exporter": "python",
   "pygments_lexer": "ipython3",
   "version": "3.7.7"
  }
 },
 "nbformat": 4,
 "nbformat_minor": 4
}
