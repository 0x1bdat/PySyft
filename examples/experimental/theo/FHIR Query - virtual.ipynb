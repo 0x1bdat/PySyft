{
 "cells": [
  {
   "cell_type": "markdown",
   "id": "played-tucson",
   "metadata": {},
   "source": [
    "# Test PySyft x F2D"
   ]
  },
  {
   "cell_type": "code",
   "execution_count": 1,
   "id": "small-collar",
   "metadata": {},
   "outputs": [],
   "source": [
    "import syft as sy"
   ]
  },
  {
   "cell_type": "code",
   "execution_count": 2,
   "id": "thousand-pipeline",
   "metadata": {},
   "outputs": [],
   "source": [
    "sy.load(\"sklearn\")\n",
    "sy.load(\"pandas\")\n",
    "sy.load(\"numpy\")"
   ]
  },
  {
   "cell_type": "code",
   "execution_count": 3,
   "id": "entertaining-magic",
   "metadata": {},
   "outputs": [],
   "source": [
    "sy.load(\"fhir2dataset\")"
   ]
  },
  {
   "cell_type": "code",
   "execution_count": 4,
   "id": "israeli-treasurer",
   "metadata": {},
   "outputs": [
    {
     "name": "stderr",
     "output_type": "stream",
     "text": [
      "[2021-04-05T17:19:51.641470+0200][CRITICAL][logger]][44853] Skipping torchvision.torchvision.transforms.functional.adjust_sharpness not supported in 0.8.2\n",
      "[2021-04-05T17:19:51.642341+0200][CRITICAL][logger]][44853] Skipping torchvision.torchvision.transforms.functional.autocontrast not supported in 0.8.2\n",
      "[2021-04-05T17:19:51.642895+0200][CRITICAL][logger]][44853] Skipping torchvision.torchvision.transforms.functional.equalize not supported in 0.8.2\n",
      "[2021-04-05T17:19:51.643667+0200][CRITICAL][logger]][44853] Skipping torchvision.torchvision.transforms.functional.invert not supported in 0.8.2\n",
      "[2021-04-05T17:19:51.644166+0200][CRITICAL][logger]][44853] Skipping torchvision.torchvision.transforms.functional.posterize not supported in 0.8.2\n",
      "[2021-04-05T17:19:51.644934+0200][CRITICAL][logger]][44853] Skipping torchvision.torchvision.transforms.functional.solarize not supported in 0.8.2\n"
     ]
    }
   ],
   "source": [
    "remote = sy.VirtualMachine().get_root_client()"
   ]
  },
  {
   "cell_type": "code",
   "execution_count": 5,
   "id": "removable-designation",
   "metadata": {},
   "outputs": [
    {
     "data": {
      "text/plain": [
       "Module:\n",
       "\t.Query -> <syft.ast.klass.Class object at 0x13e95c8e0>"
      ]
     },
     "execution_count": 5,
     "metadata": {},
     "output_type": "execute_result"
    }
   ],
   "source": [
    "remote.fhir2dataset"
   ]
  },
  {
   "cell_type": "code",
   "execution_count": 6,
   "id": "divided-offense",
   "metadata": {},
   "outputs": [],
   "source": [
    "from fhir2dataset import Query\n",
    "\n",
    "\n",
    "query = Query(fhir_api_url=\"http://hapi.fhir.org/baseR4/\")"
   ]
  },
  {
   "cell_type": "markdown",
   "id": "atmospheric-arcade",
   "metadata": {},
   "source": [
    "## Test serialization"
   ]
  },
  {
   "cell_type": "code",
   "execution_count": 8,
   "id": "closing-jumping",
   "metadata": {},
   "outputs": [],
   "source": [
    "d = sy.serialize(obj=query)"
   ]
  },
  {
   "cell_type": "code",
   "execution_count": 9,
   "id": "opening-failure",
   "metadata": {},
   "outputs": [
    {
     "data": {
      "text/plain": [
       "proto.lib.fhir2dataset.query_pb2.FHIRQuery"
      ]
     },
     "execution_count": 9,
     "metadata": {},
     "output_type": "execute_result"
    }
   ],
   "source": [
    "type(d)"
   ]
  },
  {
   "cell_type": "code",
   "execution_count": 10,
   "id": "english-shaft",
   "metadata": {},
   "outputs": [
    {
     "data": {
      "text/plain": [
       "<fhir2dataset.query.Query at 0x13f0eabe0>"
      ]
     },
     "execution_count": 10,
     "metadata": {},
     "output_type": "execute_result"
    }
   ],
   "source": [
    "sy.deserialize(blob=sy.serialize(obj=query))"
   ]
  },
  {
   "cell_type": "markdown",
   "id": "wrong-theme",
   "metadata": {},
   "source": [
    "# Create remotely a Query"
   ]
  },
  {
   "cell_type": "code",
   "execution_count": 11,
   "id": "certain-burner",
   "metadata": {},
   "outputs": [],
   "source": [
    "remote_query = remote.fhir2dataset.Query(fhir_api_url=\"http://hapi.fhir.org/baseR4/\")"
   ]
  },
  {
   "cell_type": "code",
   "execution_count": 13,
   "id": "tropical-murray",
   "metadata": {},
   "outputs": [],
   "source": [
    "sql_query = \"\"\"\n",
    "SELECT\n",
    "Patient.birthDate,\n",
    "Condition.code.coding.display\n",
    "FROM Condition\n",
    "INNER JOIN Patient \n",
    "ON Condition.subject = Patient._id\n",
    "WHERE Patient.birthdate=ge2000-01-01\n",
    "AND Patient.birthdate=le2000-04-09\n",
    "\"\"\""
   ]
  },
  {
   "cell_type": "code",
   "execution_count": 16,
   "id": "respiratory-integration",
   "metadata": {},
   "outputs": [
    {
     "name": "stderr",
     "output_type": "stream",
     "text": [
      "100%|█████████▉| 100.00/100.00\n"
     ]
    }
   ],
   "source": [
    "response = remote_query.from_sql(sql_query)"
   ]
  },
  {
   "cell_type": "code",
   "execution_count": 17,
   "id": "hourly-bacteria",
   "metadata": {},
   "outputs": [
    {
     "data": {
      "text/plain": [
       "<syft.proxy.pandas.DataFramePointer at 0x145563a00>"
      ]
     },
     "execution_count": 17,
     "metadata": {},
     "output_type": "execute_result"
    }
   ],
   "source": [
    "response"
   ]
  },
  {
   "cell_type": "code",
   "execution_count": 18,
   "id": "compatible-brook",
   "metadata": {},
   "outputs": [
    {
     "data": {
      "text/html": [
       "<div>\n",
       "<style scoped>\n",
       "    .dataframe tbody tr th:only-of-type {\n",
       "        vertical-align: middle;\n",
       "    }\n",
       "\n",
       "    .dataframe tbody tr th {\n",
       "        vertical-align: top;\n",
       "    }\n",
       "\n",
       "    .dataframe thead th {\n",
       "        text-align: right;\n",
       "    }\n",
       "</style>\n",
       "<table border=\"1\" class=\"dataframe\">\n",
       "  <thead>\n",
       "    <tr style=\"text-align: right;\">\n",
       "      <th></th>\n",
       "      <th>Condition:from_id</th>\n",
       "      <th>Condition:Condition.code.coding.display</th>\n",
       "      <th>Patient:from_id</th>\n",
       "      <th>Patient:Patient.birthDate</th>\n",
       "    </tr>\n",
       "  </thead>\n",
       "  <tbody>\n",
       "    <tr>\n",
       "      <th>0</th>\n",
       "      <td>Condition/1656578</td>\n",
       "      <td>rheumatoid arthritis</td>\n",
       "      <td>Patient/1656571</td>\n",
       "      <td>2000-01-01</td>\n",
       "    </tr>\n",
       "    <tr>\n",
       "      <th>1</th>\n",
       "      <td>Condition/1656577</td>\n",
       "      <td>neuropathic pain</td>\n",
       "      <td>Patient/1656571</td>\n",
       "      <td>2000-01-01</td>\n",
       "    </tr>\n",
       "    <tr>\n",
       "      <th>2</th>\n",
       "      <td>Condition/1656579</td>\n",
       "      <td>rheumatoid arthritis</td>\n",
       "      <td>Patient/1656571</td>\n",
       "      <td>2000-01-01</td>\n",
       "    </tr>\n",
       "    <tr>\n",
       "      <th>3</th>\n",
       "      <td>Condition/1656574</td>\n",
       "      <td>diabetes</td>\n",
       "      <td>Patient/1656571</td>\n",
       "      <td>2000-01-01</td>\n",
       "    </tr>\n",
       "    <tr>\n",
       "      <th>4</th>\n",
       "      <td>Condition/1656573</td>\n",
       "      <td>asthma</td>\n",
       "      <td>Patient/1656571</td>\n",
       "      <td>2000-01-01</td>\n",
       "    </tr>\n",
       "    <tr>\n",
       "      <th>...</th>\n",
       "      <td>...</td>\n",
       "      <td>...</td>\n",
       "      <td>...</td>\n",
       "      <td>...</td>\n",
       "    </tr>\n",
       "    <tr>\n",
       "      <th>412</th>\n",
       "      <td>Condition/1499252</td>\n",
       "      <td>rheumatoid arthritis</td>\n",
       "      <td>Patient/1499244</td>\n",
       "      <td>2000-02-01</td>\n",
       "    </tr>\n",
       "    <tr>\n",
       "      <th>413</th>\n",
       "      <td>Condition/1499251</td>\n",
       "      <td>rheumatoid arthritis</td>\n",
       "      <td>Patient/1499244</td>\n",
       "      <td>2000-02-01</td>\n",
       "    </tr>\n",
       "    <tr>\n",
       "      <th>414</th>\n",
       "      <td>Condition/1499254</td>\n",
       "      <td>high cholesterol</td>\n",
       "      <td>Patient/1499244</td>\n",
       "      <td>2000-02-01</td>\n",
       "    </tr>\n",
       "    <tr>\n",
       "      <th>415</th>\n",
       "      <td>Condition/1499253</td>\n",
       "      <td>GERD</td>\n",
       "      <td>Patient/1499244</td>\n",
       "      <td>2000-02-01</td>\n",
       "    </tr>\n",
       "    <tr>\n",
       "      <th>416</th>\n",
       "      <td>Condition/1499250</td>\n",
       "      <td>neuropathic pain</td>\n",
       "      <td>Patient/1499244</td>\n",
       "      <td>2000-02-01</td>\n",
       "    </tr>\n",
       "  </tbody>\n",
       "</table>\n",
       "<p>417 rows × 4 columns</p>\n",
       "</div>"
      ],
      "text/plain": [
       "     Condition:from_id Condition:Condition.code.coding.display  \\\n",
       "0    Condition/1656578                    rheumatoid arthritis   \n",
       "1    Condition/1656577                        neuropathic pain   \n",
       "2    Condition/1656579                    rheumatoid arthritis   \n",
       "3    Condition/1656574                                diabetes   \n",
       "4    Condition/1656573                                  asthma   \n",
       "..                 ...                                     ...   \n",
       "412  Condition/1499252                    rheumatoid arthritis   \n",
       "413  Condition/1499251                    rheumatoid arthritis   \n",
       "414  Condition/1499254                        high cholesterol   \n",
       "415  Condition/1499253                                    GERD   \n",
       "416  Condition/1499250                        neuropathic pain   \n",
       "\n",
       "     Patient:from_id Patient:Patient.birthDate  \n",
       "0    Patient/1656571                2000-01-01  \n",
       "1    Patient/1656571                2000-01-01  \n",
       "2    Patient/1656571                2000-01-01  \n",
       "3    Patient/1656571                2000-01-01  \n",
       "4    Patient/1656571                2000-01-01  \n",
       "..               ...                       ...  \n",
       "412  Patient/1499244                2000-02-01  \n",
       "413  Patient/1499244                2000-02-01  \n",
       "414  Patient/1499244                2000-02-01  \n",
       "415  Patient/1499244                2000-02-01  \n",
       "416  Patient/1499244                2000-02-01  \n",
       "\n",
       "[417 rows x 4 columns]"
      ]
     },
     "execution_count": 18,
     "metadata": {},
     "output_type": "execute_result"
    }
   ],
   "source": [
    "response.get()"
   ]
  },
  {
   "cell_type": "markdown",
   "id": "following-peninsula",
   "metadata": {},
   "source": [
    "# Send a query"
   ]
  },
  {
   "cell_type": "code",
   "execution_count": 24,
   "id": "decent-accident",
   "metadata": {},
   "outputs": [
    {
     "name": "stderr",
     "output_type": "stream",
     "text": [
      "[2021-04-05T17:22:33.493440+0200][CRITICAL][logger]][44853] Skipping torchvision.torchvision.transforms.functional.adjust_sharpness not supported in 0.8.2\n",
      "[2021-04-05T17:22:33.494215+0200][CRITICAL][logger]][44853] Skipping torchvision.torchvision.transforms.functional.autocontrast not supported in 0.8.2\n",
      "[2021-04-05T17:22:33.494775+0200][CRITICAL][logger]][44853] Skipping torchvision.torchvision.transforms.functional.equalize not supported in 0.8.2\n",
      "[2021-04-05T17:22:33.495671+0200][CRITICAL][logger]][44853] Skipping torchvision.torchvision.transforms.functional.invert not supported in 0.8.2\n",
      "[2021-04-05T17:22:33.496377+0200][CRITICAL][logger]][44853] Skipping torchvision.torchvision.transforms.functional.posterize not supported in 0.8.2\n",
      "[2021-04-05T17:22:33.497275+0200][CRITICAL][logger]][44853] Skipping torchvision.torchvision.transforms.functional.solarize not supported in 0.8.2\n"
     ]
    }
   ],
   "source": [
    "alice_vm = sy.VirtualMachine(name=\"alice\")\n",
    "\n",
    "# Get clients from each VM\n",
    "alice = alice_vm.get_root_client()\n",
    "\n",
    "query = Query(fhir_api_url=\"http://hapi.fhir.org/baseR4/\")\n",
    "query.tag('#f2d')\n",
    "\n",
    "query_ptr = query.send(alice)"
   ]
  },
  {
   "cell_type": "code",
   "execution_count": 18,
   "id": "individual-sleeve",
   "metadata": {},
   "outputs": [
    {
     "data": {
      "text/plain": [
       "<syft.proxy.fhir2dataset.QueryPointer at 0x13f26c040>"
      ]
     },
     "execution_count": 18,
     "metadata": {},
     "output_type": "execute_result"
    }
   ],
   "source": [
    "query_ptr"
   ]
  },
  {
   "cell_type": "code",
   "execution_count": null,
   "id": "middle-census",
   "metadata": {},
   "outputs": [],
   "source": [
    "alice.store[0].tags"
   ]
  },
  {
   "cell_type": "code",
   "execution_count": 19,
   "id": "choice-specialist",
   "metadata": {},
   "outputs": [],
   "source": [
    "query_back = query_ptr.get()"
   ]
  },
  {
   "cell_type": "code",
   "execution_count": null,
   "id": "dense-stadium",
   "metadata": {},
   "outputs": [],
   "source": [
    "query_back"
   ]
  },
  {
   "cell_type": "code",
   "execution_count": 20,
   "id": "classical-venice",
   "metadata": {},
   "outputs": [
    {
     "data": {
      "text/plain": [
       "['#f2d']"
      ]
     },
     "execution_count": 20,
     "metadata": {},
     "output_type": "execute_result"
    }
   ],
   "source": [
    "query_back.tags"
   ]
  },
  {
   "cell_type": "code",
   "execution_count": null,
   "id": "shaped-consortium",
   "metadata": {},
   "outputs": [],
   "source": []
  }
 ],
 "metadata": {
  "kernelspec": {
   "display_name": "pysyft",
   "language": "python",
   "name": "pysyft"
  },
  "language_info": {
   "codemirror_mode": {
    "name": "ipython",
    "version": 3
   },
   "file_extension": ".py",
   "mimetype": "text/x-python",
   "name": "python",
   "nbconvert_exporter": "python",
   "pygments_lexer": "ipython3",
   "version": "3.8.8"
  }
 },
 "nbformat": 4,
 "nbformat_minor": 5
}
