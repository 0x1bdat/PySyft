{
 "cells": [
  {
   "cell_type": "markdown",
   "metadata": {},
   "source": [
    "# Test PySyft x F2D"
   ]
  },
  {
   "cell_type": "code",
   "execution_count": 1,
   "metadata": {},
   "outputs": [],
   "source": [
    "import syft as sy"
   ]
  },
  {
   "cell_type": "code",
   "execution_count": 2,
   "metadata": {},
   "outputs": [],
   "source": [
    "sy.load(\"sklearn\")\n",
    "sy.load(\"pandas\")\n",
    "sy.load(\"numpy\")"
   ]
  },
  {
   "cell_type": "code",
   "execution_count": 3,
   "metadata": {},
   "outputs": [],
   "source": [
    "sy.load(\"fhir2dataset\")"
   ]
  },
  {
   "cell_type": "code",
   "execution_count": 4,
   "metadata": {},
   "outputs": [
    {
     "name": "stderr",
     "output_type": "stream",
     "text": [
      "[2021-04-07T15:04:47.519872+0200][CRITICAL][logger]][98023] Skipping torchvision.torchvision.datasets.Omniglot not supported in 0.7.0\n",
      "[2021-04-07T15:04:47.520542+0200][CRITICAL][logger]][98023] Skipping torchvision.torchvision.datasets.Omniglot.__len__ not supported in 0.7.0\n",
      "[2021-04-07T15:04:47.521001+0200][CRITICAL][logger]][98023] Skipping torchvision.torchvision.datasets.Places365 not supported in 0.7.0\n",
      "[2021-04-07T15:04:47.521403+0200][CRITICAL][logger]][98023] Skipping torchvision.torchvision.datasets.Places365.__len__ not supported in 0.7.0\n",
      "[2021-04-07T15:04:47.522988+0200][CRITICAL][logger]][98023] Skipping torchvision.torchvision.transforms.GaussianBlur not supported in 0.7.0\n",
      "[2021-04-07T15:04:47.523859+0200][CRITICAL][logger]][98023] Skipping torchvision.torchvision.transforms.ConvertImageDtype not supported in 0.7.0\n",
      "[2021-04-07T15:04:47.524605+0200][CRITICAL][logger]][98023] Skipping torchvision.torchvision.transforms.functional.adjust_brightness not supported in 0.7.0\n",
      "[2021-04-07T15:04:47.524981+0200][CRITICAL][logger]][98023] Skipping torchvision.torchvision.transforms.functional.adjust_contrast not supported in 0.7.0\n",
      "[2021-04-07T15:04:47.525373+0200][CRITICAL][logger]][98023] Skipping torchvision.torchvision.transforms.functional.adjust_gamma not supported in 0.7.0\n",
      "[2021-04-07T15:04:47.526004+0200][CRITICAL][logger]][98023] Skipping torchvision.torchvision.transforms.functional.adjust_hue not supported in 0.7.0\n",
      "[2021-04-07T15:04:47.526426+0200][CRITICAL][logger]][98023] Skipping torchvision.torchvision.transforms.functional.adjust_saturation not supported in 0.7.0\n",
      "[2021-04-07T15:04:47.526922+0200][CRITICAL][logger]][98023] Skipping torchvision.torchvision.transforms.functional.adjust_sharpness not supported in 0.7.0\n",
      "[2021-04-07T15:04:47.527430+0200][CRITICAL][logger]][98023] Skipping torchvision.torchvision.transforms.functional.affine not supported in 0.7.0\n",
      "[2021-04-07T15:04:47.527845+0200][CRITICAL][logger]][98023] Skipping torchvision.torchvision.transforms.functional.autocontrast not supported in 0.7.0\n",
      "[2021-04-07T15:04:47.528219+0200][CRITICAL][logger]][98023] Skipping torchvision.torchvision.transforms.functional.center_crop not supported in 0.7.0\n",
      "[2021-04-07T15:04:47.528821+0200][CRITICAL][logger]][98023] Skipping torchvision.torchvision.transforms.functional.crop not supported in 0.7.0\n",
      "[2021-04-07T15:04:47.529375+0200][CRITICAL][logger]][98023] Skipping torchvision.torchvision.transforms.functional.equalize not supported in 0.7.0\n",
      "[2021-04-07T15:04:47.529958+0200][CRITICAL][logger]][98023] Skipping torchvision.torchvision.transforms.functional.erase not supported in 0.7.0\n",
      "[2021-04-07T15:04:47.530304+0200][CRITICAL][logger]][98023] Skipping torchvision.torchvision.transforms.functional.five_crop not supported in 0.7.0\n",
      "[2021-04-07T15:04:47.530655+0200][CRITICAL][logger]][98023] Skipping torchvision.torchvision.transforms.functional.gaussian_blur not supported in 0.7.0\n",
      "[2021-04-07T15:04:47.531122+0200][CRITICAL][logger]][98023] Skipping torchvision.torchvision.transforms.functional.invert not supported in 0.7.0\n",
      "[2021-04-07T15:04:47.531550+0200][CRITICAL][logger]][98023] Skipping torchvision.torchvision.transforms.functional.pad not supported in 0.7.0\n",
      "[2021-04-07T15:04:47.532142+0200][CRITICAL][logger]][98023] Skipping torchvision.torchvision.transforms.functional.perspective not supported in 0.7.0\n",
      "[2021-04-07T15:04:47.532566+0200][CRITICAL][logger]][98023] Skipping torchvision.torchvision.transforms.functional.posterize not supported in 0.7.0\n",
      "[2021-04-07T15:04:47.532919+0200][CRITICAL][logger]][98023] Skipping torchvision.torchvision.transforms.functional.resize not supported in 0.7.0\n",
      "[2021-04-07T15:04:47.533284+0200][CRITICAL][logger]][98023] Skipping torchvision.torchvision.transforms.functional.resized_crop not supported in 0.7.0\n",
      "[2021-04-07T15:04:47.533640+0200][CRITICAL][logger]][98023] Skipping torchvision.torchvision.transforms.functional.rgb_to_grayscale not supported in 0.7.0\n",
      "[2021-04-07T15:04:47.534038+0200][CRITICAL][logger]][98023] Skipping torchvision.torchvision.transforms.functional.rotate not supported in 0.7.0\n",
      "[2021-04-07T15:04:47.534685+0200][CRITICAL][logger]][98023] Skipping torchvision.torchvision.transforms.functional.solarize not supported in 0.7.0\n",
      "[2021-04-07T15:04:47.535215+0200][CRITICAL][logger]][98023] Skipping torchvision.torchvision.transforms.functional.ten_crop not supported in 0.7.0\n"
     ]
    }
   ],
   "source": [
    "remote = sy.VirtualMachine().get_root_client()"
   ]
  },
  {
   "cell_type": "code",
   "execution_count": 5,
   "metadata": {},
   "outputs": [],
   "source": [
    "from fhir2dataset import Query\n",
    "\n",
    "\n",
    "query = Query(fhir_api_url=\"http://hapi.fhir.org/baseR4/\")"
   ]
  },
  {
   "cell_type": "markdown",
   "metadata": {},
   "source": [
    "## Test serialization"
   ]
  },
  {
   "cell_type": "code",
   "execution_count": 6,
   "metadata": {},
   "outputs": [],
   "source": [
    "d = sy.serialize(obj=query)"
   ]
  },
  {
   "cell_type": "code",
   "execution_count": 7,
   "metadata": {},
   "outputs": [
    {
     "data": {
      "text/plain": [
       "proto.lib.fhir2dataset.query_pb2.FHIRQuery"
      ]
     },
     "execution_count": 7,
     "metadata": {},
     "output_type": "execute_result"
    }
   ],
   "source": [
    "type(d)"
   ]
  },
  {
   "cell_type": "code",
   "execution_count": 8,
   "metadata": {},
   "outputs": [
    {
     "data": {
      "text/plain": [
       "<fhir2dataset.query.Query at 0x14a81f358>"
      ]
     },
     "execution_count": 8,
     "metadata": {},
     "output_type": "execute_result"
    }
   ],
   "source": [
    "sy.deserialize(blob=sy.serialize(obj=query))"
   ]
  },
  {
   "cell_type": "markdown",
   "metadata": {},
   "source": [
    "# Create remotely a Query"
   ]
  },
  {
   "cell_type": "code",
   "execution_count": 10,
   "metadata": {},
   "outputs": [],
   "source": [
    "sql_query = \"\"\"\n",
    "SELECT\n",
    "Patient.birthDate,\n",
    "Condition.code.coding.display\n",
    "FROM Condition\n",
    "INNER JOIN Patient \n",
    "ON Condition.subject = Patient._id\n",
    "WHERE Patient.birthdate=ge2000-01-01\n",
    "AND Patient.birthdate=le2000-04-09\n",
    "\"\"\""
   ]
  },
  {
   "cell_type": "code",
   "execution_count": 11,
   "metadata": {},
   "outputs": [
    {
     "name": "stderr",
     "output_type": "stream",
     "text": [
      "100%|█████████▉| 100.00/100.00\n"
     ]
    }
   ],
   "source": [
    "remote_query = remote.fhir2dataset.Query(fhir_api_url=\"http://hapi.fhir.org/baseR4/\")\n",
    "remote_df = remote_query.from_sql(sql_query).execute()"
   ]
  },
  {
   "cell_type": "code",
   "execution_count": 12,
   "metadata": {},
   "outputs": [
    {
     "data": {
      "text/plain": [
       "rheumatoid arthritis                       80\n",
       "onychomycosis                              40\n",
       "asthma                                     40\n",
       "GERD                                       40\n",
       "neuropathic pain                           40\n",
       "diabetes                                   40\n",
       "depression                                 40\n",
       "hypertension                               40\n",
       "high cholesterol                           40\n",
       "angina                                     40\n",
       "Normal pregnancy                            5\n",
       "Pointed Ear                                 2\n",
       "Streptococcal sore throat (disorder)        1\n",
       "Fever (finding)                             1\n",
       "Congenital pointed ear                      1\n",
       "COVID-19                                    1\n",
       "Viral sinusitis (disorder)                  1\n",
       "Loss of taste (finding)                     1\n",
       "Nasal congestion (finding)                  1\n",
       "Sore throat symptom (finding)               1\n",
       "Suspected COVID-19                          1\n",
       "Hypertension                                1\n",
       "Antepartum eclampsia                        1\n",
       "Body mass index 30+ - obesity (finding)     1\n",
       "Headache (finding)                          1\n",
       "Cough (finding)                             1\n",
       "dtype: int64"
      ]
     },
     "execution_count": 12,
     "metadata": {},
     "output_type": "execute_result"
    }
   ],
   "source": [
    "remote_counts = remote_df[\"Condition:Condition.code.coding.display\"].value_counts()\n",
    "remote_counts.get()"
   ]
  },
  {
   "cell_type": "code",
   "execution_count": 13,
   "metadata": {},
   "outputs": [
    {
     "data": {
      "text/html": [
       "<div>\n",
       "<style scoped>\n",
       "    .dataframe tbody tr th:only-of-type {\n",
       "        vertical-align: middle;\n",
       "    }\n",
       "\n",
       "    .dataframe tbody tr th {\n",
       "        vertical-align: top;\n",
       "    }\n",
       "\n",
       "    .dataframe thead th {\n",
       "        text-align: right;\n",
       "    }\n",
       "</style>\n",
       "<table border=\"1\" class=\"dataframe\">\n",
       "  <thead>\n",
       "    <tr style=\"text-align: right;\">\n",
       "      <th></th>\n",
       "      <th>Condition:from_id</th>\n",
       "      <th>Condition:Condition.code.coding.display</th>\n",
       "      <th>Patient:from_id</th>\n",
       "      <th>Patient:Patient.birthDate</th>\n",
       "    </tr>\n",
       "  </thead>\n",
       "  <tbody>\n",
       "    <tr>\n",
       "      <th>0</th>\n",
       "      <td>Condition/1660458</td>\n",
       "      <td>GERD</td>\n",
       "      <td>Patient/1660449</td>\n",
       "      <td>2000-01-01</td>\n",
       "    </tr>\n",
       "    <tr>\n",
       "      <th>1</th>\n",
       "      <td>Condition/1660457</td>\n",
       "      <td>rheumatoid arthritis</td>\n",
       "      <td>Patient/1660449</td>\n",
       "      <td>2000-01-01</td>\n",
       "    </tr>\n",
       "    <tr>\n",
       "      <th>2</th>\n",
       "      <td>Condition/1660459</td>\n",
       "      <td>high cholesterol</td>\n",
       "      <td>Patient/1660449</td>\n",
       "      <td>2000-01-01</td>\n",
       "    </tr>\n",
       "    <tr>\n",
       "      <th>3</th>\n",
       "      <td>Condition/1660461</td>\n",
       "      <td>angina</td>\n",
       "      <td>Patient/1660449</td>\n",
       "      <td>2000-01-01</td>\n",
       "    </tr>\n",
       "    <tr>\n",
       "      <th>4</th>\n",
       "      <td>Condition/1660460</td>\n",
       "      <td>onychomycosis</td>\n",
       "      <td>Patient/1660449</td>\n",
       "      <td>2000-01-01</td>\n",
       "    </tr>\n",
       "    <tr>\n",
       "      <th>...</th>\n",
       "      <td>...</td>\n",
       "      <td>...</td>\n",
       "      <td>...</td>\n",
       "      <td>...</td>\n",
       "    </tr>\n",
       "    <tr>\n",
       "      <th>456</th>\n",
       "      <td>Condition/1499252</td>\n",
       "      <td>rheumatoid arthritis</td>\n",
       "      <td>Patient/1499244</td>\n",
       "      <td>2000-02-01</td>\n",
       "    </tr>\n",
       "    <tr>\n",
       "      <th>457</th>\n",
       "      <td>Condition/1499251</td>\n",
       "      <td>rheumatoid arthritis</td>\n",
       "      <td>Patient/1499244</td>\n",
       "      <td>2000-02-01</td>\n",
       "    </tr>\n",
       "    <tr>\n",
       "      <th>458</th>\n",
       "      <td>Condition/1499254</td>\n",
       "      <td>high cholesterol</td>\n",
       "      <td>Patient/1499244</td>\n",
       "      <td>2000-02-01</td>\n",
       "    </tr>\n",
       "    <tr>\n",
       "      <th>459</th>\n",
       "      <td>Condition/1499253</td>\n",
       "      <td>GERD</td>\n",
       "      <td>Patient/1499244</td>\n",
       "      <td>2000-02-01</td>\n",
       "    </tr>\n",
       "    <tr>\n",
       "      <th>460</th>\n",
       "      <td>Condition/1499250</td>\n",
       "      <td>neuropathic pain</td>\n",
       "      <td>Patient/1499244</td>\n",
       "      <td>2000-02-01</td>\n",
       "    </tr>\n",
       "  </tbody>\n",
       "</table>\n",
       "<p>461 rows × 4 columns</p>\n",
       "</div>"
      ],
      "text/plain": [
       "     Condition:from_id Condition:Condition.code.coding.display  \\\n",
       "0    Condition/1660458                                    GERD   \n",
       "1    Condition/1660457                    rheumatoid arthritis   \n",
       "2    Condition/1660459                        high cholesterol   \n",
       "3    Condition/1660461                                  angina   \n",
       "4    Condition/1660460                           onychomycosis   \n",
       "..                 ...                                     ...   \n",
       "456  Condition/1499252                    rheumatoid arthritis   \n",
       "457  Condition/1499251                    rheumatoid arthritis   \n",
       "458  Condition/1499254                        high cholesterol   \n",
       "459  Condition/1499253                                    GERD   \n",
       "460  Condition/1499250                        neuropathic pain   \n",
       "\n",
       "     Patient:from_id Patient:Patient.birthDate  \n",
       "0    Patient/1660449                2000-01-01  \n",
       "1    Patient/1660449                2000-01-01  \n",
       "2    Patient/1660449                2000-01-01  \n",
       "3    Patient/1660449                2000-01-01  \n",
       "4    Patient/1660449                2000-01-01  \n",
       "..               ...                       ...  \n",
       "456  Patient/1499244                2000-02-01  \n",
       "457  Patient/1499244                2000-02-01  \n",
       "458  Patient/1499244                2000-02-01  \n",
       "459  Patient/1499244                2000-02-01  \n",
       "460  Patient/1499244                2000-02-01  \n",
       "\n",
       "[461 rows x 4 columns]"
      ]
     },
     "execution_count": 13,
     "metadata": {},
     "output_type": "execute_result"
    }
   ],
   "source": [
    "df = remote_df.get()\n",
    "df"
   ]
  },
  {
   "cell_type": "code",
   "execution_count": 14,
   "metadata": {},
   "outputs": [
    {
     "data": {
      "text/plain": [
       "pandas.core.series.Series"
      ]
     },
     "execution_count": 14,
     "metadata": {},
     "output_type": "execute_result"
    }
   ],
   "source": [
    "type(df[\"Condition:Condition.code.coding.display\"].value_counts())"
   ]
  },
  {
   "cell_type": "markdown",
   "metadata": {},
   "source": [
    "# Send a query"
   ]
  },
  {
   "cell_type": "code",
   "execution_count": 15,
   "metadata": {},
   "outputs": [
    {
     "name": "stderr",
     "output_type": "stream",
     "text": [
      "[2021-04-07T15:05:01.713232+0200][CRITICAL][logger]][98023] Skipping torchvision.torchvision.datasets.Omniglot not supported in 0.7.0\n",
      "[2021-04-07T15:05:01.713835+0200][CRITICAL][logger]][98023] Skipping torchvision.torchvision.datasets.Omniglot.__len__ not supported in 0.7.0\n",
      "[2021-04-07T15:05:01.714313+0200][CRITICAL][logger]][98023] Skipping torchvision.torchvision.datasets.Places365 not supported in 0.7.0\n",
      "[2021-04-07T15:05:01.714701+0200][CRITICAL][logger]][98023] Skipping torchvision.torchvision.datasets.Places365.__len__ not supported in 0.7.0\n",
      "[2021-04-07T15:05:01.716242+0200][CRITICAL][logger]][98023] Skipping torchvision.torchvision.transforms.GaussianBlur not supported in 0.7.0\n",
      "[2021-04-07T15:05:01.716922+0200][CRITICAL][logger]][98023] Skipping torchvision.torchvision.transforms.ConvertImageDtype not supported in 0.7.0\n",
      "[2021-04-07T15:05:01.717359+0200][CRITICAL][logger]][98023] Skipping torchvision.torchvision.transforms.functional.adjust_brightness not supported in 0.7.0\n",
      "[2021-04-07T15:05:01.717706+0200][CRITICAL][logger]][98023] Skipping torchvision.torchvision.transforms.functional.adjust_contrast not supported in 0.7.0\n",
      "[2021-04-07T15:05:01.718293+0200][CRITICAL][logger]][98023] Skipping torchvision.torchvision.transforms.functional.adjust_gamma not supported in 0.7.0\n",
      "[2021-04-07T15:05:01.718695+0200][CRITICAL][logger]][98023] Skipping torchvision.torchvision.transforms.functional.adjust_hue not supported in 0.7.0\n",
      "[2021-04-07T15:05:01.719072+0200][CRITICAL][logger]][98023] Skipping torchvision.torchvision.transforms.functional.adjust_saturation not supported in 0.7.0\n",
      "[2021-04-07T15:05:01.719546+0200][CRITICAL][logger]][98023] Skipping torchvision.torchvision.transforms.functional.adjust_sharpness not supported in 0.7.0\n",
      "[2021-04-07T15:05:01.719885+0200][CRITICAL][logger]][98023] Skipping torchvision.torchvision.transforms.functional.affine not supported in 0.7.0\n",
      "[2021-04-07T15:05:01.720247+0200][CRITICAL][logger]][98023] Skipping torchvision.torchvision.transforms.functional.autocontrast not supported in 0.7.0\n",
      "[2021-04-07T15:05:01.720760+0200][CRITICAL][logger]][98023] Skipping torchvision.torchvision.transforms.functional.center_crop not supported in 0.7.0\n",
      "[2021-04-07T15:05:01.721182+0200][CRITICAL][logger]][98023] Skipping torchvision.torchvision.transforms.functional.crop not supported in 0.7.0\n",
      "[2021-04-07T15:05:01.721582+0200][CRITICAL][logger]][98023] Skipping torchvision.torchvision.transforms.functional.equalize not supported in 0.7.0\n",
      "[2021-04-07T15:05:01.722042+0200][CRITICAL][logger]][98023] Skipping torchvision.torchvision.transforms.functional.erase not supported in 0.7.0\n",
      "[2021-04-07T15:05:01.722385+0200][CRITICAL][logger]][98023] Skipping torchvision.torchvision.transforms.functional.five_crop not supported in 0.7.0\n",
      "[2021-04-07T15:05:01.722723+0200][CRITICAL][logger]][98023] Skipping torchvision.torchvision.transforms.functional.gaussian_blur not supported in 0.7.0\n",
      "[2021-04-07T15:05:01.723155+0200][CRITICAL][logger]][98023] Skipping torchvision.torchvision.transforms.functional.invert not supported in 0.7.0\n",
      "[2021-04-07T15:05:01.723556+0200][CRITICAL][logger]][98023] Skipping torchvision.torchvision.transforms.functional.pad not supported in 0.7.0\n",
      "[2021-04-07T15:05:01.723895+0200][CRITICAL][logger]][98023] Skipping torchvision.torchvision.transforms.functional.perspective not supported in 0.7.0\n",
      "[2021-04-07T15:05:01.724372+0200][CRITICAL][logger]][98023] Skipping torchvision.torchvision.transforms.functional.posterize not supported in 0.7.0\n",
      "[2021-04-07T15:05:01.724808+0200][CRITICAL][logger]][98023] Skipping torchvision.torchvision.transforms.functional.resize not supported in 0.7.0\n",
      "[2021-04-07T15:05:01.725183+0200][CRITICAL][logger]][98023] Skipping torchvision.torchvision.transforms.functional.resized_crop not supported in 0.7.0\n",
      "[2021-04-07T15:05:01.725681+0200][CRITICAL][logger]][98023] Skipping torchvision.torchvision.transforms.functional.rgb_to_grayscale not supported in 0.7.0\n",
      "[2021-04-07T15:05:01.726088+0200][CRITICAL][logger]][98023] Skipping torchvision.torchvision.transforms.functional.rotate not supported in 0.7.0\n",
      "[2021-04-07T15:05:01.726490+0200][CRITICAL][logger]][98023] Skipping torchvision.torchvision.transforms.functional.solarize not supported in 0.7.0\n",
      "[2021-04-07T15:05:01.726974+0200][CRITICAL][logger]][98023] Skipping torchvision.torchvision.transforms.functional.ten_crop not supported in 0.7.0\n"
     ]
    }
   ],
   "source": [
    "alice_vm = sy.VirtualMachine(name=\"alice\")\n",
    "\n",
    "# Get clients from each VM\n",
    "alice = alice_vm.get_root_client()\n",
    "\n",
    "query = Query(fhir_api_url=\"http://hapi.fhir.org/baseR4/\")\n",
    "query.tag('#f2d')\n",
    "\n",
    "query_ptr = query.send(alice)"
   ]
  },
  {
   "cell_type": "code",
   "execution_count": 16,
   "metadata": {},
   "outputs": [
    {
     "data": {
      "text/plain": [
       "<syft.proxy.fhir2dataset.QueryPointer at 0x14ad32eb8>"
      ]
     },
     "execution_count": 16,
     "metadata": {},
     "output_type": "execute_result"
    }
   ],
   "source": [
    "query_ptr"
   ]
  },
  {
   "cell_type": "code",
   "execution_count": 17,
   "metadata": {},
   "outputs": [
    {
     "data": {
      "text/plain": [
       "['#f2d']"
      ]
     },
     "execution_count": 17,
     "metadata": {},
     "output_type": "execute_result"
    }
   ],
   "source": [
    "alice.store[0].tags"
   ]
  },
  {
   "cell_type": "code",
   "execution_count": 18,
   "metadata": {},
   "outputs": [],
   "source": [
    "query_back = query_ptr.get()"
   ]
  },
  {
   "cell_type": "code",
   "execution_count": 19,
   "metadata": {},
   "outputs": [
    {
     "data": {
      "text/plain": [
       "<fhir2dataset.query.Query at 0x14aa54860>"
      ]
     },
     "execution_count": 19,
     "metadata": {},
     "output_type": "execute_result"
    }
   ],
   "source": [
    "query_back"
   ]
  },
  {
   "cell_type": "code",
   "execution_count": 20,
   "metadata": {},
   "outputs": [
    {
     "data": {
      "text/plain": [
       "['#f2d']"
      ]
     },
     "execution_count": 20,
     "metadata": {},
     "output_type": "execute_result"
    }
   ],
   "source": [
    "query_back.tags"
   ]
  },
  {
   "cell_type": "code",
   "execution_count": null,
   "metadata": {},
   "outputs": [],
   "source": []
  }
 ],
 "metadata": {
  "kernelspec": {
   "display_name": "Python 3",
   "language": "python",
   "name": "python3"
  },
  "language_info": {
   "codemirror_mode": {
    "name": "ipython",
    "version": 3
   },
   "file_extension": ".py",
   "mimetype": "text/x-python",
   "name": "python",
   "nbconvert_exporter": "python",
   "pygments_lexer": "ipython3",
   "version": "3.7.3"
  }
 },
 "nbformat": 4,
 "nbformat_minor": 5
}
