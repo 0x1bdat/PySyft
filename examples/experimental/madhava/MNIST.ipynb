{
 "cells": [
  {
   "cell_type": "code",
   "execution_count": 1,
   "metadata": {
    "scrolled": true
   },
   "outputs": [
    {
     "name": "stderr",
     "output_type": "stream",
     "text": [
      "/Users/madhavajay/.local/share/virtualenvs/PySyft-lHlz_cKe/lib/python3.7/site-packages/torch/distributed/distributed_c10d.py:125: UserWarning: torch.distributed.reduce_op is deprecated, please use torch.distributed.ReduceOp instead\n",
      "  warnings.warn(\"torch.distributed.reduce_op is deprecated, please use \"\n"
     ]
    }
   ],
   "source": [
    "import syft as sy\n",
    "from syft.lib import python\n",
    "sy.VERBOSE = False"
   ]
  },
  {
   "cell_type": "code",
   "execution_count": 2,
   "metadata": {
    "scrolled": true
   },
   "outputs": [],
   "source": [
    "alice = sy.VirtualMachine(name=\"alice\")\n",
    "alice_client = alice.get_root_client()\n",
    "alice.root_verify_key = alice_client.verify_key  # inject 📡🔑 as 📍🗝"
   ]
  },
  {
   "cell_type": "code",
   "execution_count": 3,
   "metadata": {
    "scrolled": true
   },
   "outputs": [],
   "source": [
    "# original MNIST imports\n",
    "# import torch\n",
    "# import torch.nn as nn\n",
    "# import torch.nn.functional as F\n",
    "# import torch.optim as optim\n",
    "# from torchvision import datasets, transforms\n",
    "# from torch.optim.lr_scheduler import StepLR\n",
    "\n",
    "# get imports from remote client to match\n",
    "torch = alice_client.torch\n",
    "torchvision = alice_client.torchvision\n",
    "transforms = torchvision.transforms\n",
    "datasets = torchvision.datasets\n",
    "nn = torch.nn\n",
    "F = torch.nn.functional"
   ]
  },
  {
   "cell_type": "code",
   "execution_count": 4,
   "metadata": {
    "scrolled": true
   },
   "outputs": [],
   "source": [
    "# helper to create and send a primitive\n",
    "def make(thing):\n",
    "    prim = python.primitive_factory.PrimitiveFactory.generate_primitive(value=thing)\n",
    "    ptr = prim.send(alice_client)\n",
    "    return ptr"
   ]
  },
  {
   "cell_type": "code",
   "execution_count": 5,
   "metadata": {},
   "outputs": [
    {
     "name": "stdout",
     "output_type": "stream",
     "text": [
      "<syft.proxy.torch.nn.Conv2dPointer object at 0x13dc2bb90> <class 'syft.proxy.torch.nn.Conv2dPointer'>\n"
     ]
    }
   ],
   "source": [
    "conv1 = nn.Conv2d(make(1), make(32), make(3), make(1))\n",
    "print(conv1, type(conv1))\n",
    "\n",
    "# TODO: make modules callable\n",
    "# conv1()"
   ]
  },
  {
   "cell_type": "code",
   "execution_count": 6,
   "metadata": {},
   "outputs": [],
   "source": [
    "# make a tiny fake image tensor\n",
    "import torch as local_torch\n",
    "g = local_torch.Tensor([[[1, 1, 1] * 3] * 3])\n",
    "g = g.send(alice_client)"
   ]
  },
  {
   "cell_type": "code",
   "execution_count": 7,
   "metadata": {},
   "outputs": [],
   "source": [
    "# test all the Functional methods\n",
    "x = F.relu(g)\n",
    "x = F.relu(x)\n",
    "x = F.max_pool2d(x, make(2))\n",
    "x = torch.flatten(x, make(1))\n",
    "x = F.relu(x)\n",
    "output = F.log_softmax(x, dim=make(1))"
   ]
  },
  {
   "cell_type": "code",
   "execution_count": 8,
   "metadata": {},
   "outputs": [
    {
     "name": "stdout",
     "output_type": "stream",
     "text": [
      "<syft.proxy.torch.TensorPointer object at 0x13dc2b0d0> <class 'syft.proxy.torch.TensorPointer'>\n",
      "tensor([[-1.3863, -1.3863, -1.3863, -1.3863]])\n"
     ]
    }
   ],
   "source": [
    "# get the output\n",
    "print(output, type(output))\n",
    "\n",
    "result = output.get()\n",
    "print(result)"
   ]
  },
  {
   "cell_type": "code",
   "execution_count": 9,
   "metadata": {},
   "outputs": [],
   "source": [
    "# ORIGINAL MNIST NET\n",
    "# class Net(nn.Module):\n",
    "#     def __init__(self) -> None:\n",
    "#         super(Net, self).__init__()\n",
    "#         self.conv1 = nn.Conv2d(1, 32, 3, 1)\n",
    "#         self.conv2 = nn.Conv2d(32, 64, 3, 1)\n",
    "#         self.dropout1 = nn.Dropout2d(0.25)\n",
    "#         self.dropout2 = nn.Dropout2d(0.5)\n",
    "#         self.fc1 = nn.Linear(9216, 128)\n",
    "#         self.fc2 = nn.Linear(128, 10)\n",
    "\n",
    "#     def forward(self, x):\n",
    "#         x = self.conv1(x)\n",
    "#         x = F.relu(x)\n",
    "#         x = self.conv2(x)\n",
    "#         x = F.relu(x)\n",
    "#         x = F.max_pool2d(x, 2)\n",
    "#         x = self.dropout1(x)\n",
    "#         x = torch.flatten(x, 1)\n",
    "#         x = self.fc1(x)\n",
    "#         x = F.relu(x)\n",
    "#         x = self.dropout2(x)\n",
    "#         x = self.fc2(x)\n",
    "#         output = F.log_softmax(x, dim=1)\n",
    "#         return output\n",
    "\n",
    "# define a Network using make\n",
    "# class Net(nn.Module):\n",
    "class Net:\n",
    "    def __init__(self) -> None:\n",
    "        self.conv1 = nn.Conv2d(make(1), make(32), make(3), make(1))\n",
    "        self.conv2 = nn.Conv2d(make(32), make(64), make(3), make(1))\n",
    "        self.dropout1 = nn.Dropout2d(make(0.25))\n",
    "        self.dropout2 = nn.Dropout2d(make(0.5))\n",
    "        self.fc1 = nn.Linear(make(9216), make(128))\n",
    "        self.fc2 = nn.Linear(make(128), make(10))\n",
    "\n",
    "    def forward(self, x):\n",
    "        x = self.conv1(x)\n",
    "        x = F.relu(x)\n",
    "        x = self.conv2(x)\n",
    "        x = F.relu(x)\n",
    "        x = F.max_pool2d(x, make(2))\n",
    "        x = self.dropout1(x)\n",
    "        x = torch.flatten(x, make(1))\n",
    "        x = self.fc1(x)\n",
    "        x = F.relu(x)\n",
    "        x = self.dropout2(x)\n",
    "        x = self.fc2(x)\n",
    "        output = F.log_softmax(x, dim=make(1))\n",
    "        return output"
   ]
  },
  {
   "cell_type": "code",
   "execution_count": 10,
   "metadata": {},
   "outputs": [],
   "source": [
    "net = Net()"
   ]
  },
  {
   "cell_type": "code",
   "execution_count": 11,
   "metadata": {},
   "outputs": [],
   "source": [
    "# net.forward(g)\n",
    "# fix Module callable"
   ]
  },
  {
   "cell_type": "code",
   "execution_count": 12,
   "metadata": {
    "scrolled": true
   },
   "outputs": [],
   "source": [
    "# ORIGINAL TRAIN\n",
    "# def train(args, model, device, train_loader, optimizer, epoch):\n",
    "#     model.train()\n",
    "#     for batch_idx, (data, target) in enumerate(train_loader):\n",
    "#         data, target = data.to(device), target.to(device)\n",
    "#         optimizer.zero_grad()\n",
    "#         output = model(data)\n",
    "#         loss = F.nll_loss(output, target)\n",
    "#         loss.backward()\n",
    "#         optimizer.step()\n",
    "#         if batch_idx % args.log_interval == 0:\n",
    "#             print('Train Epoch: {} [{}/{} ({:.0f}%)]\\tLoss: {:.6f}'.format(\n",
    "#                 epoch, batch_idx * len(data), len(train_loader.dataset),\n",
    "#                 100. * batch_idx / len(train_loader), loss.item()))\n",
    "#             if args.dry_run:\n",
    "#                 break"
   ]
  },
  {
   "cell_type": "code",
   "execution_count": 13,
   "metadata": {
    "scrolled": true
   },
   "outputs": [],
   "source": [
    "# ORIGINAL TEST\n",
    "# def test(model, device, test_loader):\n",
    "#     model.eval()\n",
    "#     test_loss = 0\n",
    "#     correct = 0\n",
    "#     with torch.no_grad():\n",
    "#         for data, target in test_loader:\n",
    "#             data, target = data.to(device), target.to(device)\n",
    "#             output = model(data)\n",
    "#             test_loss += F.nll_loss(output, target, reduction='sum').item()  # sum up batch loss\n",
    "#             pred = output.argmax(dim=1, keepdim=True)  # get the index of the max log-probability\n",
    "#             correct += pred.eq(target.view_as(pred)).sum().item()\n",
    "\n",
    "#     test_loss /= len(test_loader.dataset)\n",
    "\n",
    "#     print('\\nTest set: Average loss: {:.4f}, Accuracy: {}/{} ({:.0f}%)\\n'.format(\n",
    "#         test_loss, correct, len(test_loader.dataset),\n",
    "#         100. * correct / len(test_loader.dataset)))"
   ]
  },
  {
   "cell_type": "code",
   "execution_count": 14,
   "metadata": {
    "scrolled": true
   },
   "outputs": [],
   "source": [
    "# fix issue with \n",
    "transform_1 = torchvision.transforms.ToTensor()\n",
    "transform_2 = torchvision.transforms.Normalize(make(0.1307), make(0.3081))\n",
    "\n",
    "# fix cant store pointer? what to do?\n",
    "# transform = torchvision.transforms.Compose(make([transform_1, transform_2]))"
   ]
  },
  {
   "cell_type": "code",
   "execution_count": 15,
   "metadata": {
    "scrolled": true
   },
   "outputs": [],
   "source": [
    "# utility to convert config to pointers\n",
    "# todo replace with dict\n",
    "def wrap_args_dict(args: dict) -> dict:\n",
    "    wrapped_args = {}\n",
    "    for k, v in args.items():\n",
    "        if sy.lib.python.primitive_factory.isprimitive(v):\n",
    "            wrapped_args[k] = make(v)\n",
    "    return wrapped_args\n",
    "\n",
    "def main():\n",
    "    # Training settings\n",
    "    plain_args = {\"batch_size\":64, \"test_batch_size\":1000,\n",
    "            \"epochs\":14, \"lr\":1.0, \"gamma\":0.7,\n",
    "            \"no_cuda\":True, \"dry_run\":False, \"seed\":42,\n",
    "            \"log_interval\":10, \"save_model\":False}\n",
    "    \n",
    "    args = wrap_args_dict(plain_args)\n",
    "\n",
    "    use_cuda = not args[\"no_cuda\"] and torch.cuda.is_available()\n",
    "    device_type = sy.lib.python.String(\"cuda\" if use_cuda else \"cpu\")\n",
    "    device_type_ptr = device_type.send(alice_client)\n",
    "    torch.manual_seed(args[\"seed\"])\n",
    "\n",
    "    device = torch.device(device_type_ptr)\n",
    "\n",
    "    kwargs = {'batch_size': args[\"batch_size\"]}\n",
    "    if use_cuda:\n",
    "        kwargs.update(\n",
    "            wrap_args_dict(\n",
    "                {\n",
    "                    'num_workers': 1,\n",
    "                    'pin_memory': True,\n",
    "                    'shuffle': True\n",
    "                },\n",
    "            )\n",
    "        )\n",
    "        \n",
    "    transform_1 = torchvision.transforms.ToTensor()\n",
    "    transform_2 = torchvision.transforms.Normalize(make(0.1307), make(0.3081))\n",
    "\n",
    "    # fix cant store pointer? what to do?\n",
    "    # transform = torchvision.transforms.Compose(make([transform_1, transform_2]))\n",
    "\n",
    "    dataset1 = datasets.MNIST(make('../data'), train=make(True), download=make(True))\n",
    "                       #transform=transform)\n",
    "    dataset2 = datasets.MNIST(make('../data'), train=make(False))\n",
    "#                        transform=transform)\n",
    "    train_loader = torch.utils.data.DataLoader(dataset1,**kwargs)\n",
    "    test_loader = torch.utils.data.DataLoader(dataset2, **kwargs)\n",
    "\n",
    "    #model = Net().to(device)\n",
    "    model = Net()\n",
    "#     optimizer = optim.Adadelta(model.parameters(), lr=args.lr)\n",
    "\n",
    "#     scheduler = StepLR(optimizer, step_size=1, gamma=args.gamma)\n",
    "#     for epoch in range(1, args[\"epochs\"] + 1):\n",
    "#         train(args, model, device, train_loader, optimizer, epoch)\n",
    "#         test(model, device, test_loader)\n",
    "#         scheduler.step()\n",
    "\n",
    "#     if args[\"save_model\"]:\n",
    "#         torch.save(model.state_dict(), \"mnist_cnn.pt\")"
   ]
  },
  {
   "cell_type": "code",
   "execution_count": 16,
   "metadata": {
    "scrolled": false
   },
   "outputs": [],
   "source": [
    "main()"
   ]
  },
  {
   "cell_type": "code",
   "execution_count": null,
   "metadata": {
    "scrolled": true
   },
   "outputs": [],
   "source": []
  },
  {
   "cell_type": "code",
   "execution_count": null,
   "metadata": {
    "scrolled": true
   },
   "outputs": [],
   "source": []
  }
 ],
 "metadata": {
  "kernelspec": {
   "display_name": "Python 3",
   "language": "python",
   "name": "python3"
  },
  "language_info": {
   "codemirror_mode": {
    "name": "ipython",
    "version": 3
   },
   "file_extension": ".py",
   "mimetype": "text/x-python",
   "name": "python",
   "nbconvert_exporter": "python",
   "pygments_lexer": "ipython3",
   "version": "3.7.8"
  }
 },
 "nbformat": 4,
 "nbformat_minor": 4
}
