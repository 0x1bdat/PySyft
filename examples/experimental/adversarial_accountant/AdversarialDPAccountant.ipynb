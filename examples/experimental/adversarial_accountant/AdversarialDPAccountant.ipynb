{
 "cells": [
  {
   "cell_type": "code",
   "execution_count": 3,
   "metadata": {},
   "outputs": [],
   "source": [
    "from sympy import symbols, pprint\n",
    "from sympy import diff\n",
    "from sympy.solvers import solve\n",
    "import numpy as np\n",
    "from scipy import optimize\n",
    "import string\n",
    "import random\n",
    "from autodp.transformer_zoo import Composition\n",
    "# data subject\n",
    "class Entity():\n",
    "    def __init__(self, name=\"\", id=None):\n",
    "        self.name = name\n",
    "        self.id = id\n",
    "\n",
    "scalar_name2obj = {}"
   ]
  },
  {
   "cell_type": "code",
   "execution_count": 4,
   "metadata": {},
   "outputs": [],
   "source": [
    "def individual_RDP_gaussian(params, alpha):\n",
    "    \"\"\"\n",
    "    :param params:\n",
    "        'sigma' --- is the normalized noise level: std divided by global L2 sensitivity\n",
    "    :param alpha: The order of the Renyi Divergence\n",
    "    :return: Evaluation of the RDP's epsilon\n",
    "    \"\"\"\n",
    "    sigma = params['sigma']\n",
    "    value = params['value']\n",
    "    L = params['L']\n",
    "    assert(sigma > 0)\n",
    "    assert(alpha >= 0)\n",
    "    \n",
    "    return (alpha * (L ** 2) * (value**2)) / (2 * (sigma**2))\n",
    "\n",
    "import math\n",
    "\n",
    "from autodp.autodp_core import Mechanism\n",
    "from autodp import rdp_bank, dp_bank, fdp_bank, utils\n",
    "from autodp import transformer_zoo\n",
    "\n",
    "from scipy.optimize import minimize_scalar\n",
    "\n",
    "\n",
    "# Example of a specific mechanism that inherits the Mechanism class\n",
    "class iDPGaussianMechanism(Mechanism):\n",
    "    def __init__(self, sigma, value, L, entity, name='Gaussian',\n",
    "                 RDP_off=False, approxDP_off=False, fdp_off=True,\n",
    "                 use_basic_RDP_to_approxDP_conversion=False,\n",
    "                 use_fDP_based_RDP_to_approxDP_conversion=False):\n",
    "        # the sigma parameter is the std of the noise divide by the l2 sensitivity\n",
    "        Mechanism.__init__(self)\n",
    "\n",
    "        self.name = name # When composing\n",
    "        self.params = {'sigma': sigma, 'value':value, 'L':L} # This will be useful for the Calibrator\n",
    "        self.entity = entity\n",
    "        # TODO: should a generic unspecified mechanism have a name and a param dictionary?\n",
    "\n",
    "        self.delta0 = 0\n",
    "        if not RDP_off:\n",
    "            new_rdp = lambda x: individual_RDP_gaussian({'sigma': sigma,\n",
    "                                                        'value': value,\n",
    "                                                        'L':L}, x)\n",
    "            if use_fDP_based_RDP_to_approxDP_conversion:\n",
    "                # This setting is slightly more complex, which involves converting RDP to fDP,\n",
    "                # then to eps-delta-DP via the duality\n",
    "                self.propagate_updates(new_rdp, 'RDP', fDP_based_conversion=True)\n",
    "            elif use_basic_RDP_to_approxDP_conversion:\n",
    "                self.propagate_updates(new_rdp, 'RDP', BBGHS_conversion=False)\n",
    "            else:\n",
    "                # This is the default setting with fast computation of RDP to approx-DP\n",
    "                self.propagate_updates(new_rdp, 'RDP')\n",
    "\n",
    "        if not approxDP_off: # Direct implementation of approxDP\n",
    "            new_approxdp = lambda x: dp_bank.get_eps_ana_gaussian(sigma, x)\n",
    "            self.propagate_updates(new_approxdp,'approxDP_func')\n",
    "\n",
    "        if not fdp_off: # Direct implementation of fDP\n",
    "            fun1 = lambda x: fdp_bank.log_one_minus_fdp_gaussian({'sigma': sigma}, x)\n",
    "            fun2 = lambda x: fdp_bank.log_neg_fdp_grad_gaussian({'sigma': sigma}, x)\n",
    "            self.propagate_updates([fun1,fun2],'fDP_and_grad_log')\n",
    "            # overwrite the fdp computation with the direct computation\n",
    "            self.fdp = lambda x: fdp_bank.fDP_gaussian({'sigma': sigma}, x)\n",
    "\n",
    "        # the fDP of gaussian mechanism is equivalent to analytical calibration of approxdp,\n",
    "        # so it should have been automatically handled numerically above\n",
    "\n",
    "\n",
    "        # Discussion:  Sometimes delta as a function of eps has a closed-form solution\n",
    "        # while eps as a function of delta does not\n",
    "        # Shall we represent delta as a function of eps instead?"
   ]
  },
  {
   "cell_type": "code",
   "execution_count": 53,
   "metadata": {},
   "outputs": [],
   "source": [
    "class AdversarialAccountant():\n",
    "\n",
    "    def __init__(self, max_budget=10, delta=1e-6):\n",
    "        self.entity2ledger = {}\n",
    "        self.max_budget = max_budget\n",
    "        self.delta = delta\n",
    "\n",
    "    def append(self, entity2mechanisms):\n",
    "        for key, ms in entity2mechanisms.items():\n",
    "            if key not in self.entity2ledger.keys():\n",
    "                self.entity2ledger[key] = list()\n",
    "            for m in ms:\n",
    "                self.entity2ledger[key].append(m)\n",
    "\n",
    "    def get_eps_for_entity(self, entity_name):\n",
    "        # compose them with the transformation: compose.\n",
    "        compose = Composition()\n",
    "        mechanisms = self.entity2ledger[entity_name]\n",
    "        composed_mech = compose(mechanisms, [1]*len(mechanisms))\n",
    "\n",
    "        # Query for eps given delta\n",
    "        return Scalar(value=composed_mech.get_approxDP(self.delta), \n",
    "                      min_val=0, \n",
    "                      max_val=self.max_budget,\n",
    "                      ent=Entity(name=entity_name))\n",
    "\n",
    "    def has_budget(self, entity_name):\n",
    "        return self.get_eps_for_entity(entity_name)._value < self.max_budget\n",
    "    \n",
    "    @property\n",
    "    def entities(self):\n",
    "        return self.entity2ledger.keys()\n",
    "    \n",
    "    @property\n",
    "    def overbudgeted_entities(self):\n",
    "        entities = set()\n",
    "        \n",
    "        for ent in self.entities:\n",
    "            if not self.has_budget(ent):\n",
    "                entities.add(ent)\n",
    "                \n",
    "        return entities\n",
    "    \n",
    "    def print_ledger(self, delta=1e-6):\n",
    "        for entity, mechanisms in self.entity2ledger.items():\n",
    "            print(entity + \"\\t\" + str(self.get_eps_for_entity(entity)._value))"
   ]
  },
  {
   "cell_type": "code",
   "execution_count": 239,
   "metadata": {},
   "outputs": [],
   "source": [
    "def run(func, **kwargs):\n",
    "    return func.subs(kwargs)\n",
    "\n",
    "def run_specific(f, **kwargs):\n",
    "    \"\"\"pass in kwargs to run in fixed polynomial because this is what\n",
    "    optimize.brute expects\"\"\"\n",
    "    return run(f, **kwargs)\n",
    "\n",
    "class Scalar():\n",
    "    \n",
    "    def __init__(self, value, min_val=None, max_val=None, poly=None, ent=None, name=None):\n",
    "        \n",
    "        if name is None:\n",
    "            lower_upper_alphabet = string.ascii_letters\n",
    "            name = ''.join([random.choice(lower_upper_alphabet) for i in range(5)])\n",
    "        \n",
    "        self.name = name\n",
    "        self._value = value\n",
    "        self._min_val = min_val\n",
    "        self._max_val = max_val\n",
    "        self.enabled = True\n",
    "        \n",
    "        if poly is not None:\n",
    "            # if this Scalar is being formed as a function of other Scalar objects\n",
    "            self._poly = poly\n",
    "            \n",
    "        elif ent is not None:\n",
    "            # if you're creating a Scalar for the first time (no parents)\n",
    "            self.scalar_name = self.name + \"_\" + ent.name\n",
    "            self._poly = symbols(self.scalar_name)\n",
    "            scalar_name2obj[self.scalar_name] = self            \n",
    "        else:\n",
    "            raise Exception(\"Poly or ent must be not None\")\n",
    "\n",
    "    def disable(self):\n",
    "        self.saved_poly = self._poly * 1\n",
    "        self._poly -= self._poly\n",
    "        self.enabled = False\n",
    "    \n",
    "    def enable(self):\n",
    "        if(not self.enabled):\n",
    "            self._poly += self.saved_poly\n",
    "            self.enabled = True\n",
    "            \n",
    "    @property\n",
    "    def poly(self):\n",
    "        if self.enabled:\n",
    "            return self._poly\n",
    "        return 0\n",
    " \n",
    "    @property\n",
    "    def value(self):\n",
    "        \n",
    "        if not self.enabled:\n",
    "            return 0\n",
    "        \n",
    "        if(self._value is not None):\n",
    "            return self._value\n",
    "        \n",
    "        sy_names = self.poly.free_symbols\n",
    "        sym = list()\n",
    "        for sy_name in sy_names:\n",
    "            sym.append(scalar_name2obj[str(sy_name)])\n",
    "\n",
    "        run_specific_args, index2symbol, symbol2index = out.create_run_specific_args(f=out.poly)\n",
    "\n",
    "        inputs = list()\n",
    "\n",
    "        for sym in index2symbol:\n",
    "            inputs.append(scalar_name2obj[sym]._value)\n",
    "        return run_specific_args(inputs)\n",
    "            \n",
    "    @property\n",
    "    def min_val(self):\n",
    "        if self.enabled:\n",
    "            return self._min_val\n",
    "        return 0\n",
    "    \n",
    "    @property\n",
    "    def max_val(self):    \n",
    "        if self.enabled:\n",
    "            return self._max_val\n",
    "        return 0        \n",
    "    \n",
    "    def __mul__(self, other):\n",
    "        \n",
    "        result_poly = self.poly * other.poly\n",
    "        \n",
    "        result = Scalar(value=None, poly=result_poly)\n",
    "        \n",
    "        return result\n",
    "    \n",
    "    def __add__(self, other):\n",
    "        result_poly = self.poly + other.poly\n",
    "        \n",
    "        result = Scalar(value=None, poly=result_poly)\n",
    "        \n",
    "        return result\n",
    "    \n",
    "    def __sub__(self, other):\n",
    "        result_poly = self.poly - other.poly\n",
    "        \n",
    "        result = Scalar(value=None, poly=result_poly)\n",
    "        \n",
    "        return result\n",
    "    \n",
    "    def __str__(self):\n",
    "        return str(self.poly) + \"=\" + str(self.value)\n",
    "    \n",
    "    def __repr__(self):\n",
    "        return str(self)\n",
    "\n",
    "    @property\n",
    "    def sens(self):\n",
    "        if self.min_val is not None and self.max_val is not None:\n",
    "            return self.max_val - self.min_val\n",
    "\n",
    "    def neg_deriv(self, name):\n",
    "        obj = scalar_name2obj[name]\n",
    "        return -diff(self.poly, obj.poly)\n",
    "        \n",
    "\n",
    "    def create_run_specific_args(self, f):\n",
    "\n",
    "        free_symbols_list = list(self.poly.free_symbols)\n",
    "        index2symbol = list(map(lambda x:str(x), free_symbols_list))\n",
    "\n",
    "        symbol2index = {}\n",
    "        for i,sym in enumerate(index2symbol):\n",
    "            symbol2index[sym] = i\n",
    "\n",
    "        def _run_specific_args(tuple_of_args, *params):\n",
    "            kwargs = {}\n",
    "            for sym,i in symbol2index.items():\n",
    "                kwargs[sym] = tuple_of_args[i]\n",
    "\n",
    "            return run_specific(f=f, **kwargs)\n",
    "\n",
    "        return _run_specific_args, index2symbol, symbol2index\n",
    "    \n",
    "    def get_mechanism(self,\n",
    "            symbol_name = 'b',\n",
    "            sigma = 0.1,\n",
    "            granularity = 0.5):\n",
    "        \n",
    "        # Step 1: get derivative we want to maximize\n",
    "        z = self.neg_deriv(symbol_name)\n",
    "\n",
    "        # Step 2: prepare metadata for optimize.brute() function\n",
    "        sy_names = z.free_symbols\n",
    "        sym = list()\n",
    "        for sy_name in sy_names:\n",
    "            sym.append(scalar_name2obj[str(sy_name)])\n",
    "\n",
    "        run_specific_args, index2symbol, symbol2index = self.create_run_specific_args(f=z)\n",
    "\n",
    "        rranges = list()\n",
    "        for i,sym in enumerate(index2symbol):\n",
    "            obj = scalar_name2obj[sym]\n",
    "            rranges.append(slice(obj.min_val, obj.max_val, granularity))\n",
    "        \n",
    "        # Step 3: maximize the derivative over a bounded range of <entity_name>\n",
    "        resbrute = optimize.brute(run_specific_args,rranges, full_output=False, finish=None, disp=True)\n",
    "\n",
    "        L = resbrute[symbol2index[symbol_name]]\n",
    "        input_obj = scalar_name2obj[symbol_name]\n",
    "\n",
    "        # Step 4: create the gaussian mechanism object\n",
    "        gm1 = iDPGaussianMechanism(sigma=sigma, value=input_obj._value, L=L, entity=symbol_name.split(\"_\")[1], name='gm_'+symbol_name)\n",
    "\n",
    "        return gm1\n",
    "    \n",
    "    def get_all_entity_mechanisms(self,sigma=0.1,granularity=0.5):\n",
    "        sy_names = self.poly.free_symbols\n",
    "        entity2mechanisms = {}\n",
    "        for sy_name in sy_names:\n",
    "            mechanism = self.get_mechanism(symbol_name=str(sy_name), sigma=sigma, granularity=granularity)\n",
    "            \n",
    "            split_name = str(sy_name).split(\"_\")\n",
    "            entity_name = split_name[1]\n",
    "            var_name = split_name[0]\n",
    "            \n",
    "            if entity_name not in entity2mechanisms.keys():\n",
    "                entity2mechanisms[entity_name] = list()\n",
    "            \n",
    "            entity2mechanisms[entity_name].append(mechanism)\n",
    "            \n",
    "            \n",
    "        return entity2mechanisms\n",
    "    \n",
    "    @property\n",
    "    def entities(self):\n",
    "        entities = set()\n",
    "        sy_names = self.poly.free_symbols \n",
    "        for sy_name in sy_names:\n",
    "            entities.add(str(sy_name).split(\"_\")[1])\n",
    "        return entities\n",
    "    \n",
    "    def publish(self, acc, sigma=1.5, granularity=1):\n",
    "        acc_original = acc\n",
    "        \n",
    "        assert sigma > 0\n",
    "        assert granularity > 0\n",
    "        \n",
    "        acc_temp = deepcopy(acc_original)\n",
    "        \n",
    "        # get mechanisms for new publish event\n",
    "        ms = self.get_all_entity_mechanisms(sigma=sigma, granularity=granularity)\n",
    "        acc_temp.append(ms)\n",
    "        \n",
    "        overbudgeted_entities = acc_temp.overbudgeted_entities\n",
    "        \n",
    "        sample = random.gauss(0,sigma)                \n",
    "        \n",
    "        while len(overbudgeted_entities) > 0:\n",
    "            \n",
    "            print(\".\")\n",
    "            for sy_name in self.poly.free_symbols:\n",
    "                entity_name = str(sy_name).split(\"_\")[1]\n",
    "                if(entity_name in overbudgeted_entities):\n",
    "                    sym = scalar_name2obj[str(sy_name)]\n",
    "                    sym.disable()\n",
    "                    self._poly = self.poly.subs(sym.poly, 0)\n",
    "                    \n",
    "            \n",
    "            acc_temp = deepcopy(acc_original)\n",
    "            \n",
    "            # get mechanisms for new publish event\n",
    "            ms = self.get_all_entity_mechanisms(sigma=sigma, granularity=granularity)\n",
    "            acc_temp.append(ms)\n",
    "            \n",
    "            overbudgeted_entities = acc_temp.overbudgeted_entities\n",
    "        \n",
    "\n",
    "        output = self.value + sample\n",
    "        \n",
    "        for sy_name in self.poly.free_symbols:\n",
    "            scalar_name2obj[str(sy_name)].enable()\n",
    "        \n",
    "        acc_original.entity2ledger = deepcopy(acc_temp.entity2ledger)\n",
    "        \n",
    "        return \n",
    "   "
   ]
  },
  {
   "cell_type": "code",
   "execution_count": 240,
   "metadata": {},
   "outputs": [],
   "source": [
    "from copy import deepcopy"
   ]
  },
  {
   "cell_type": "code",
   "execution_count": null,
   "metadata": {},
   "outputs": [],
   "source": []
  },
  {
   "cell_type": "code",
   "execution_count": 241,
   "metadata": {},
   "outputs": [],
   "source": [
    "bob = Scalar(value=1, min_val=-2, max_val=2, ent=Entity(name=\"Bob\"))\n",
    "alice = Scalar(value=1, min_val=-1, max_val=1, ent=Entity(name=\"Alice\"))\n",
    "charlie = Scalar(value=2, min_val=-2, max_val=2, ent=Entity(name=\"Charlie\"))\n",
    "dan = Scalar(value=-1, min_val=-2, max_val=2, ent=Entity(name=\"David\"))\n",
    "\n",
    "acc = AdversarialAccountant(max_budget=20)"
   ]
  },
  {
   "cell_type": "code",
   "execution_count": 242,
   "metadata": {},
   "outputs": [
    {
     "name": "stdout",
     "output_type": "stream",
     "text": [
      "Bob\t7.25415714907092\n",
      "Alice\t3.318643635391174\n",
      "Charlie\t16.59912949887057\n",
      "David\t7.25415714907092\n"
     ]
    }
   ],
   "source": [
    "out = bob * bob * bob + charlie + dan + bob + alice# * 3 + 4 / 3\n",
    "\n",
    "out.publish(acc=acc)\n",
    "acc.print_ledger()"
   ]
  },
  {
   "cell_type": "code",
   "execution_count": 243,
   "metadata": {},
   "outputs": [
    {
     "data": {
      "text/plain": [
       "cMPdY_Charlie=2"
      ]
     },
     "execution_count": 243,
     "metadata": {},
     "output_type": "execute_result"
    }
   ],
   "source": [
    "charlie"
   ]
  },
  {
   "cell_type": "code",
   "execution_count": 244,
   "metadata": {},
   "outputs": [
    {
     "name": "stdout",
     "output_type": "stream",
     "text": [
      ".\n"
     ]
    },
    {
     "ename": "ValueError",
     "evalue": "attempt to get argmin of an empty sequence",
     "output_type": "error",
     "traceback": [
      "\u001b[0;31m---------------------------------------------------------------------------\u001b[0m",
      "\u001b[0;31mValueError\u001b[0m                                Traceback (most recent call last)",
      "\u001b[0;32m<ipython-input-244-87e9e8d444ac>\u001b[0m in \u001b[0;36m<module>\u001b[0;34m\u001b[0m\n\u001b[1;32m      1\u001b[0m \u001b[0mout\u001b[0m \u001b[0;34m=\u001b[0m \u001b[0mbob\u001b[0m \u001b[0;34m*\u001b[0m \u001b[0mbob\u001b[0m \u001b[0;34m*\u001b[0m \u001b[0mbob\u001b[0m \u001b[0;34m+\u001b[0m \u001b[0mcharlie\u001b[0m \u001b[0;34m+\u001b[0m \u001b[0mdan\u001b[0m \u001b[0;34m+\u001b[0m \u001b[0mbob\u001b[0m \u001b[0;34m+\u001b[0m \u001b[0malice\u001b[0m\u001b[0;31m# * 3 + 4 / 3\u001b[0m\u001b[0;34m\u001b[0m\u001b[0;34m\u001b[0m\u001b[0m\n\u001b[1;32m      2\u001b[0m \u001b[0;34m\u001b[0m\u001b[0m\n\u001b[0;32m----> 3\u001b[0;31m \u001b[0mout\u001b[0m\u001b[0;34m.\u001b[0m\u001b[0mpublish\u001b[0m\u001b[0;34m(\u001b[0m\u001b[0macc\u001b[0m\u001b[0;34m=\u001b[0m\u001b[0macc\u001b[0m\u001b[0;34m)\u001b[0m\u001b[0;34m\u001b[0m\u001b[0;34m\u001b[0m\u001b[0m\n\u001b[0m\u001b[1;32m      4\u001b[0m \u001b[0macc\u001b[0m\u001b[0;34m.\u001b[0m\u001b[0mprint_ledger\u001b[0m\u001b[0;34m(\u001b[0m\u001b[0;34m)\u001b[0m\u001b[0;34m\u001b[0m\u001b[0;34m\u001b[0m\u001b[0m\n",
      "\u001b[0;32m<ipython-input-239-ee7b40bff3d5>\u001b[0m in \u001b[0;36mpublish\u001b[0;34m(self, acc, sigma, granularity)\u001b[0m\n\u001b[1;32m    227\u001b[0m \u001b[0;34m\u001b[0m\u001b[0m\n\u001b[1;32m    228\u001b[0m             \u001b[0;31m# get mechanisms for new publish event\u001b[0m\u001b[0;34m\u001b[0m\u001b[0;34m\u001b[0m\u001b[0;34m\u001b[0m\u001b[0m\n\u001b[0;32m--> 229\u001b[0;31m             \u001b[0mms\u001b[0m \u001b[0;34m=\u001b[0m \u001b[0mself\u001b[0m\u001b[0;34m.\u001b[0m\u001b[0mget_all_entity_mechanisms\u001b[0m\u001b[0;34m(\u001b[0m\u001b[0msigma\u001b[0m\u001b[0;34m=\u001b[0m\u001b[0msigma\u001b[0m\u001b[0;34m,\u001b[0m \u001b[0mgranularity\u001b[0m\u001b[0;34m=\u001b[0m\u001b[0mgranularity\u001b[0m\u001b[0;34m)\u001b[0m\u001b[0;34m\u001b[0m\u001b[0;34m\u001b[0m\u001b[0m\n\u001b[0m\u001b[1;32m    230\u001b[0m             \u001b[0macc_temp\u001b[0m\u001b[0;34m.\u001b[0m\u001b[0mappend\u001b[0m\u001b[0;34m(\u001b[0m\u001b[0mms\u001b[0m\u001b[0;34m)\u001b[0m\u001b[0;34m\u001b[0m\u001b[0;34m\u001b[0m\u001b[0m\n\u001b[1;32m    231\u001b[0m \u001b[0;34m\u001b[0m\u001b[0m\n",
      "\u001b[0;32m<ipython-input-239-ee7b40bff3d5>\u001b[0m in \u001b[0;36mget_all_entity_mechanisms\u001b[0;34m(self, sigma, granularity)\u001b[0m\n\u001b[1;32m    175\u001b[0m         \u001b[0mentity2mechanisms\u001b[0m \u001b[0;34m=\u001b[0m \u001b[0;34m{\u001b[0m\u001b[0;34m}\u001b[0m\u001b[0;34m\u001b[0m\u001b[0;34m\u001b[0m\u001b[0m\n\u001b[1;32m    176\u001b[0m         \u001b[0;32mfor\u001b[0m \u001b[0msy_name\u001b[0m \u001b[0;32min\u001b[0m \u001b[0msy_names\u001b[0m\u001b[0;34m:\u001b[0m\u001b[0;34m\u001b[0m\u001b[0;34m\u001b[0m\u001b[0m\n\u001b[0;32m--> 177\u001b[0;31m             \u001b[0mmechanism\u001b[0m \u001b[0;34m=\u001b[0m \u001b[0mself\u001b[0m\u001b[0;34m.\u001b[0m\u001b[0mget_mechanism\u001b[0m\u001b[0;34m(\u001b[0m\u001b[0msymbol_name\u001b[0m\u001b[0;34m=\u001b[0m\u001b[0mstr\u001b[0m\u001b[0;34m(\u001b[0m\u001b[0msy_name\u001b[0m\u001b[0;34m)\u001b[0m\u001b[0;34m,\u001b[0m \u001b[0msigma\u001b[0m\u001b[0;34m=\u001b[0m\u001b[0msigma\u001b[0m\u001b[0;34m,\u001b[0m \u001b[0mgranularity\u001b[0m\u001b[0;34m=\u001b[0m\u001b[0mgranularity\u001b[0m\u001b[0;34m)\u001b[0m\u001b[0;34m\u001b[0m\u001b[0;34m\u001b[0m\u001b[0m\n\u001b[0m\u001b[1;32m    178\u001b[0m \u001b[0;34m\u001b[0m\u001b[0m\n\u001b[1;32m    179\u001b[0m             \u001b[0msplit_name\u001b[0m \u001b[0;34m=\u001b[0m \u001b[0mstr\u001b[0m\u001b[0;34m(\u001b[0m\u001b[0msy_name\u001b[0m\u001b[0;34m)\u001b[0m\u001b[0;34m.\u001b[0m\u001b[0msplit\u001b[0m\u001b[0;34m(\u001b[0m\u001b[0;34m\"_\"\u001b[0m\u001b[0;34m)\u001b[0m\u001b[0;34m\u001b[0m\u001b[0;34m\u001b[0m\u001b[0m\n",
      "\u001b[0;32m<ipython-input-239-ee7b40bff3d5>\u001b[0m in \u001b[0;36mget_mechanism\u001b[0;34m(self, symbol_name, sigma, granularity)\u001b[0m\n\u001b[1;32m    161\u001b[0m \u001b[0;34m\u001b[0m\u001b[0m\n\u001b[1;32m    162\u001b[0m         \u001b[0;31m# Step 3: maximize the derivative over a bounded range of <entity_name>\u001b[0m\u001b[0;34m\u001b[0m\u001b[0;34m\u001b[0m\u001b[0;34m\u001b[0m\u001b[0m\n\u001b[0;32m--> 163\u001b[0;31m         \u001b[0mresbrute\u001b[0m \u001b[0;34m=\u001b[0m \u001b[0moptimize\u001b[0m\u001b[0;34m.\u001b[0m\u001b[0mbrute\u001b[0m\u001b[0;34m(\u001b[0m\u001b[0mrun_specific_args\u001b[0m\u001b[0;34m,\u001b[0m\u001b[0mrranges\u001b[0m\u001b[0;34m,\u001b[0m \u001b[0mfull_output\u001b[0m\u001b[0;34m=\u001b[0m\u001b[0;32mFalse\u001b[0m\u001b[0;34m,\u001b[0m \u001b[0mfinish\u001b[0m\u001b[0;34m=\u001b[0m\u001b[0;32mNone\u001b[0m\u001b[0;34m,\u001b[0m \u001b[0mdisp\u001b[0m\u001b[0;34m=\u001b[0m\u001b[0;32mTrue\u001b[0m\u001b[0;34m)\u001b[0m\u001b[0;34m\u001b[0m\u001b[0;34m\u001b[0m\u001b[0m\n\u001b[0m\u001b[1;32m    164\u001b[0m \u001b[0;34m\u001b[0m\u001b[0m\n\u001b[1;32m    165\u001b[0m         \u001b[0mL\u001b[0m \u001b[0;34m=\u001b[0m \u001b[0mresbrute\u001b[0m\u001b[0;34m[\u001b[0m\u001b[0msymbol2index\u001b[0m\u001b[0;34m[\u001b[0m\u001b[0msymbol_name\u001b[0m\u001b[0;34m]\u001b[0m\u001b[0;34m]\u001b[0m\u001b[0;34m\u001b[0m\u001b[0;34m\u001b[0m\u001b[0m\n",
      "\u001b[0;32m~/opt/anaconda3/lib/python3.8/site-packages/scipy/optimize/optimize.py\u001b[0m in \u001b[0;36mbrute\u001b[0;34m(func, ranges, args, Ns, full_output, finish, disp, workers)\u001b[0m\n\u001b[1;32m   3237\u001b[0m     \u001b[0mNshape\u001b[0m \u001b[0;34m=\u001b[0m \u001b[0mshape\u001b[0m\u001b[0;34m(\u001b[0m\u001b[0mJout\u001b[0m\u001b[0;34m)\u001b[0m\u001b[0;34m\u001b[0m\u001b[0;34m\u001b[0m\u001b[0m\n\u001b[1;32m   3238\u001b[0m \u001b[0;34m\u001b[0m\u001b[0m\n\u001b[0;32m-> 3239\u001b[0;31m     \u001b[0mindx\u001b[0m \u001b[0;34m=\u001b[0m \u001b[0margmin\u001b[0m\u001b[0;34m(\u001b[0m\u001b[0mJout\u001b[0m\u001b[0;34m.\u001b[0m\u001b[0mravel\u001b[0m\u001b[0;34m(\u001b[0m\u001b[0;34m)\u001b[0m\u001b[0;34m,\u001b[0m \u001b[0maxis\u001b[0m\u001b[0;34m=\u001b[0m\u001b[0;34m-\u001b[0m\u001b[0;36m1\u001b[0m\u001b[0;34m)\u001b[0m\u001b[0;34m\u001b[0m\u001b[0;34m\u001b[0m\u001b[0m\n\u001b[0m\u001b[1;32m   3240\u001b[0m     \u001b[0mNindx\u001b[0m \u001b[0;34m=\u001b[0m \u001b[0mzeros\u001b[0m\u001b[0;34m(\u001b[0m\u001b[0mN\u001b[0m\u001b[0;34m,\u001b[0m \u001b[0mint\u001b[0m\u001b[0;34m)\u001b[0m\u001b[0;34m\u001b[0m\u001b[0;34m\u001b[0m\u001b[0m\n\u001b[1;32m   3241\u001b[0m     \u001b[0mxmin\u001b[0m \u001b[0;34m=\u001b[0m \u001b[0mzeros\u001b[0m\u001b[0;34m(\u001b[0m\u001b[0mN\u001b[0m\u001b[0;34m,\u001b[0m \u001b[0mfloat\u001b[0m\u001b[0;34m)\u001b[0m\u001b[0;34m\u001b[0m\u001b[0;34m\u001b[0m\u001b[0m\n",
      "\u001b[0;32m<__array_function__ internals>\u001b[0m in \u001b[0;36margmin\u001b[0;34m(*args, **kwargs)\u001b[0m\n",
      "\u001b[0;32m~/opt/anaconda3/lib/python3.8/site-packages/numpy/core/fromnumeric.py\u001b[0m in \u001b[0;36margmin\u001b[0;34m(a, axis, out)\u001b[0m\n\u001b[1;32m   1265\u001b[0m \u001b[0;34m\u001b[0m\u001b[0m\n\u001b[1;32m   1266\u001b[0m     \"\"\"\n\u001b[0;32m-> 1267\u001b[0;31m     \u001b[0;32mreturn\u001b[0m \u001b[0m_wrapfunc\u001b[0m\u001b[0;34m(\u001b[0m\u001b[0ma\u001b[0m\u001b[0;34m,\u001b[0m \u001b[0;34m'argmin'\u001b[0m\u001b[0;34m,\u001b[0m \u001b[0maxis\u001b[0m\u001b[0;34m=\u001b[0m\u001b[0maxis\u001b[0m\u001b[0;34m,\u001b[0m \u001b[0mout\u001b[0m\u001b[0;34m=\u001b[0m\u001b[0mout\u001b[0m\u001b[0;34m)\u001b[0m\u001b[0;34m\u001b[0m\u001b[0;34m\u001b[0m\u001b[0m\n\u001b[0m\u001b[1;32m   1268\u001b[0m \u001b[0;34m\u001b[0m\u001b[0m\n\u001b[1;32m   1269\u001b[0m \u001b[0;34m\u001b[0m\u001b[0m\n",
      "\u001b[0;32m~/opt/anaconda3/lib/python3.8/site-packages/numpy/core/fromnumeric.py\u001b[0m in \u001b[0;36m_wrapfunc\u001b[0;34m(obj, method, *args, **kwds)\u001b[0m\n\u001b[1;32m     59\u001b[0m \u001b[0;34m\u001b[0m\u001b[0m\n\u001b[1;32m     60\u001b[0m     \u001b[0;32mtry\u001b[0m\u001b[0;34m:\u001b[0m\u001b[0;34m\u001b[0m\u001b[0;34m\u001b[0m\u001b[0m\n\u001b[0;32m---> 61\u001b[0;31m         \u001b[0;32mreturn\u001b[0m \u001b[0mbound\u001b[0m\u001b[0;34m(\u001b[0m\u001b[0;34m*\u001b[0m\u001b[0margs\u001b[0m\u001b[0;34m,\u001b[0m \u001b[0;34m**\u001b[0m\u001b[0mkwds\u001b[0m\u001b[0;34m)\u001b[0m\u001b[0;34m\u001b[0m\u001b[0;34m\u001b[0m\u001b[0m\n\u001b[0m\u001b[1;32m     62\u001b[0m     \u001b[0;32mexcept\u001b[0m \u001b[0mTypeError\u001b[0m\u001b[0;34m:\u001b[0m\u001b[0;34m\u001b[0m\u001b[0;34m\u001b[0m\u001b[0m\n\u001b[1;32m     63\u001b[0m         \u001b[0;31m# A TypeError occurs if the object does have such a method in its\u001b[0m\u001b[0;34m\u001b[0m\u001b[0;34m\u001b[0m\u001b[0;34m\u001b[0m\u001b[0m\n",
      "\u001b[0;31mValueError\u001b[0m: attempt to get argmin of an empty sequence"
     ]
    }
   ],
   "source": [
    "out = bob * bob * bob + charlie + dan + bob + alice# * 3 + 4 / 3\n",
    "\n",
    "out.publish(acc=acc)\n",
    "acc.print_ledger()"
   ]
  },
  {
   "cell_type": "code",
   "execution_count": 235,
   "metadata": {},
   "outputs": [
    {
     "data": {
      "text/plain": [
       "0=0"
      ]
     },
     "execution_count": 235,
     "metadata": {},
     "output_type": "execute_result"
    }
   ],
   "source": [
    "charlie"
   ]
  },
  {
   "cell_type": "code",
   "execution_count": 219,
   "metadata": {},
   "outputs": [],
   "source": [
    "out = bob * bob * bob + charlie + dan + bob + alice# * 3 + 4 / 3"
   ]
  },
  {
   "cell_type": "code",
   "execution_count": 220,
   "metadata": {},
   "outputs": [
    {
     "data": {
      "text/plain": [
       "0=0"
      ]
     },
     "execution_count": 220,
     "metadata": {},
     "output_type": "execute_result"
    }
   ],
   "source": [
    "charlie"
   ]
  },
  {
   "cell_type": "code",
   "execution_count": 192,
   "metadata": {},
   "outputs": [
    {
     "data": {
      "text/latex": [
       "$\\displaystyle UPHPY_{Alice} + XisIp_{Bob}^{3} + XisIp_{Bob} + oFpDV_{David}$"
      ],
      "text/plain": [
       "UPHPY_Alice + XisIp_Bob**3 + XisIp_Bob + oFpDV_David"
      ]
     },
     "execution_count": 192,
     "metadata": {},
     "output_type": "execute_result"
    }
   ],
   "source": [
    "out.poly"
   ]
  },
  {
   "cell_type": "code",
   "execution_count": null,
   "metadata": {},
   "outputs": [],
   "source": [
    "\n",
    "out.publish(acc=acc)\n",
    "acc.print_ledger()"
   ]
  },
  {
   "cell_type": "code",
   "execution_count": null,
   "metadata": {},
   "outputs": [],
   "source": []
  },
  {
   "cell_type": "code",
   "execution_count": null,
   "metadata": {},
   "outputs": [],
   "source": []
  },
  {
   "cell_type": "code",
   "execution_count": null,
   "metadata": {},
   "outputs": [],
   "source": []
  },
  {
   "cell_type": "code",
   "execution_count": null,
   "metadata": {},
   "outputs": [],
   "source": [
    "# TODO: try numpy.roots approach to solving for max derivative definitively\n",
    "# https://numpy.org/doc/stable/reference/generated/numpy.roots.html"
   ]
  },
  {
   "cell_type": "code",
   "execution_count": null,
   "metadata": {},
   "outputs": [],
   "source": []
  },
  {
   "cell_type": "code",
   "execution_count": null,
   "metadata": {},
   "outputs": [],
   "source": []
  },
  {
   "cell_type": "code",
   "execution_count": null,
   "metadata": {},
   "outputs": [],
   "source": []
  }
 ],
 "metadata": {
  "kernelspec": {
   "display_name": "Python 3",
   "language": "python",
   "name": "python3"
  },
  "language_info": {
   "codemirror_mode": {
    "name": "ipython",
    "version": 3
   },
   "file_extension": ".py",
   "mimetype": "text/x-python",
   "name": "python",
   "nbconvert_exporter": "python",
   "pygments_lexer": "ipython3",
   "version": "3.8.3"
  }
 },
 "nbformat": 4,
 "nbformat_minor": 4
}
