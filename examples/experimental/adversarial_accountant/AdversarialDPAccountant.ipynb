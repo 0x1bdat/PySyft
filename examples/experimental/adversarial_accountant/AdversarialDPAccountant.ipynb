{
 "cells": [
  {
   "cell_type": "code",
   "execution_count": 147,
   "metadata": {},
   "outputs": [],
   "source": [
    "from sympy import symbols, pprint\n",
    "from sympy import diff\n",
    "from sympy.solvers import solve\n",
    "import numpy as np\n",
    "from scipy import optimize\n",
    "import string\n",
    "import random\n",
    "\n",
    "# global espilon budget\n",
    "overall_budget_limit = 5\n",
    "\n",
    "# data subject\n",
    "class Entity():\n",
    "    def __init__(self, name=\"\", id=None):\n",
    "        self.name = name\n",
    "        self.id = id\n",
    "        \n",
    "class AdversarialAccountant():\n",
    "    \n",
    "    def __init__(self):\n",
    "        \"\"\n",
    "\n",
    "scalar_name2obj = {}\n",
    "        \n",
    "class Scalar():\n",
    "    \n",
    "    def __init__(self, value, min_val=None, max_val=None, poly=None, ent=None, name=None):\n",
    "        \n",
    "        if name is None:\n",
    "            lower_upper_alphabet = string.ascii_letters\n",
    "            name = ''.join([random.choice(lower_upper_alphabet) for i in range(5)])\n",
    "        \n",
    "        self.name = \"\"\n",
    "        self.value = value\n",
    "        self.min_val = min_val\n",
    "        self.max_val = max_val\n",
    "        \n",
    "        if poly is not None:\n",
    "            self.poly = poly\n",
    "        elif ent is not None:\n",
    "            self.poly = symbols(self.name + \"\" + ent.name)\n",
    "            scalar_name2obj[self.name + \"\" + ent.name] = self            \n",
    "        else:\n",
    "            raise Exception(\"Poly or ent must be not None\")\n",
    "\n",
    "    \n",
    "    def __mul__(self, other):\n",
    "        \n",
    "        result_poly = self.poly * other.poly\n",
    "        result_value = self.value * other.value\n",
    "        \n",
    "        result = Scalar(value=result_value, poly=result_poly)\n",
    "        \n",
    "        return result\n",
    "    \n",
    "    def __add__(self, other):\n",
    "        result_poly = self.poly + other.poly\n",
    "        result_value = self.value + other.value\n",
    "        \n",
    "        result = Scalar(value=result_value, poly=result_poly)\n",
    "        \n",
    "        return result\n",
    "    \n",
    "    def __sub__(self, other):\n",
    "        result_poly = self.poly - other.poly\n",
    "        result_value = self.value - other.value\n",
    "        \n",
    "        result = Scalar(value=result_value, poly=result_poly)\n",
    "        \n",
    "        return result\n",
    "    \n",
    "    def __str__(self):\n",
    "        return str(self.poly) + \"=\" + str(self.value)\n",
    "    \n",
    "    def __repr__(self):\n",
    "        return str(self)\n",
    "\n",
    "#     def ent_sens(self, ent_name=\"Bob\"):\n",
    "        \n",
    "    \n",
    "    @property\n",
    "    def sens(self):\n",
    "        if self.min_val is not None and self.max_val is not None:\n",
    "            return self.max_val - self.min_val\n",
    "\n",
    "    def deriv(self, name):\n",
    "        obj = scalar_name2obj[name]\n",
    "        return -diff(self.poly, obj.poly)\n",
    "        \n",
    "\n",
    "    def create_run_specific_args(self):\n",
    "\n",
    "        free_symbols_list = list(self.poly.free_symbols)\n",
    "        index2symbol = list(map(lambda x:str(x), free_symbols_list))\n",
    "\n",
    "        symbol2index = {}\n",
    "        for i,sym in enumerate(index2symbol):\n",
    "            symbol2index[sym] = i\n",
    "\n",
    "        def _run_specific_args(tuple_of_args, *params):\n",
    "            kwargs = {}\n",
    "            for sym,i in symbol2index.items():\n",
    "                kwargs[sym] = tuple_of_args[i]\n",
    "\n",
    "            return run_specific(**kwargs)\n",
    "\n",
    "        return _run_specific_args, index2symbol, symbol2index\n",
    "    \n",
    "    def eps(self,\n",
    "            entity_name = 'b',\n",
    "            sigma = 0.1,\n",
    "            alpha = 1,\n",
    "            granularity = 0.5):\n",
    "        \n",
    "        z = self.deriv(entity_name)\n",
    "\n",
    "        sy_names = z.free_symbols\n",
    "        sym = list()\n",
    "        for sy_name in sy_names:\n",
    "            sym.append(scalar_name2obj[str(sy_name)])\n",
    "\n",
    "        run_specific_args, index2symbol, symbol2index = self.create_run_specific_args()\n",
    "\n",
    "        rranges = list()\n",
    "        for i,sym in enumerate(index2symbol):\n",
    "            obj = scalar_name2obj[sym]\n",
    "            rranges.append(slice(obj.min_val, obj.max_val, granularity))\n",
    "\n",
    "        resbrute = optimize.brute(run_specific_args,rranges, full_output=False, finish=None, disp=True)\n",
    "        L = resbrute[symbol2index[entity_name]]\n",
    "\n",
    "        input_obj = scalar_name2obj[entity_name]\n",
    "\n",
    "        e = (alpha * (L ** 2) * (input_obj.value**2)) / (2 * (sigma**2))\n",
    "\n",
    "        return e\n",
    "#     def publish(self, epsilon=0.5, mechansim=None):\n",
    "#         # returns the value with noise added and updates\n",
    "#         # the list of entity epsilons\n",
    "#         return self.\n",
    "\n",
    "def run(func, **kwargs):\n",
    "    return func.subs(kwargs)\n",
    "\n",
    "def run_specific(**kwargs):\n",
    "    \"\"\"pass in kwargs to run in fixed polynomial because this is what\n",
    "    optimize.brute expects\"\"\"\n",
    "    return run(z, **kwargs)\n",
    "\n",
    "bob = Scalar(value=1, min_val=-2, max_val=2, ent=Entity(name=\"b\"))\n",
    "alice = Scalar(value=1, min_val=-1, max_val=1, ent=Entity(name=\"a\"))\n",
    "charlie = Scalar(value=2, min_val=-2, max_val=2, ent=Entity(name=\"c\"))\n",
    "dan = Scalar(value=-1, min_val=-2, max_val=2, ent=Entity(name=\"d\"))\n",
    "\n",
    "out = bob * bob * bob + charlie + dan + bob + alice\n",
    "\n",
    "out.eps(entity_name=\"a\", sigma=0.1, alpha=1, granularity=0.5)\n",
    "\n",
    "import numpy as np\n",
    "\n",
    "tensor = np.array([bob, alice, charlie, dan])\n",
    "\n",
    "out = (tensor * tensor).sum()"
   ]
  },
  {
   "cell_type": "code",
   "execution_count": 148,
   "metadata": {},
   "outputs": [
    {
     "data": {
      "text/plain": [
       "a**2 + b**2 + c**2 + d**2=7"
      ]
     },
     "execution_count": 148,
     "metadata": {},
     "output_type": "execute_result"
    }
   ],
   "source": [
    "out"
   ]
  },
  {
   "cell_type": "code",
   "execution_count": null,
   "metadata": {},
   "outputs": [],
   "source": []
  },
  {
   "cell_type": "code",
   "execution_count": 80,
   "metadata": {},
   "outputs": [
    {
     "data": {
      "text/latex": [
       "$\\displaystyle 148$"
      ],
      "text/plain": [
       "148"
      ]
     },
     "execution_count": 80,
     "metadata": {},
     "output_type": "execute_result"
    }
   ],
   "source": [
    "run_specific(b=30, c=30, d=30, a=28)"
   ]
  },
  {
   "cell_type": "code",
   "execution_count": 81,
   "metadata": {},
   "outputs": [
    {
     "data": {
      "text/latex": [
       "$\\displaystyle 12$"
      ],
      "text/plain": [
       "12"
      ]
     },
     "execution_count": 81,
     "metadata": {},
     "output_type": "execute_result"
    }
   ],
   "source": [
    "run_specific_args((28, 30, 30, 30))"
   ]
  },
  {
   "cell_type": "code",
   "execution_count": 89,
   "metadata": {},
   "outputs": [],
   "source": []
  },
  {
   "cell_type": "code",
   "execution_count": 87,
   "metadata": {},
   "outputs": [],
   "source": []
  },
  {
   "cell_type": "code",
   "execution_count": 88,
   "metadata": {},
   "outputs": [
    {
     "data": {
      "text/plain": [
       "array([-2., -2., -2., -2.])"
      ]
     },
     "execution_count": 88,
     "metadata": {},
     "output_type": "execute_result"
    }
   ],
   "source": [
    "resbrute"
   ]
  },
  {
   "cell_type": "code",
   "execution_count": null,
   "metadata": {},
   "outputs": [],
   "source": []
  },
  {
   "cell_type": "code",
   "execution_count": null,
   "metadata": {},
   "outputs": [],
   "source": []
  },
  {
   "cell_type": "code",
   "execution_count": 8,
   "metadata": {},
   "outputs": [],
   "source": [
    "params = (2, 3, 7, 8, 9, 10, 44, -1, 2, 26, 1, -2, 0.5)\n",
    "def f(z, *params):\n",
    "    x, y = z\n",
    "    a, b, c, d, e, f, g, h, i, j, k, l, scale = params\n",
    "    return (a * x**2 + b * x * y + c * y**2 + d*x + e*y + f)\n",
    "\n",
    "rranges = (slice(-4, 4, 0.25), slice(-4, 4, 0.25))\n",
    "\n",
    "resbrute = optimize.brute(f, rranges, args=params, full_output=True,\n",
    "                          finish=optimize.fmin)\n",
    "min_input = resbrute[0]"
   ]
  },
  {
   "cell_type": "code",
   "execution_count": null,
   "metadata": {},
   "outputs": [],
   "source": []
  },
  {
   "cell_type": "code",
   "execution_count": null,
   "metadata": {},
   "outputs": [],
   "source": []
  },
  {
   "cell_type": "code",
   "execution_count": null,
   "metadata": {},
   "outputs": [],
   "source": []
  },
  {
   "cell_type": "code",
   "execution_count": null,
   "metadata": {},
   "outputs": [],
   "source": []
  },
  {
   "cell_type": "code",
   "execution_count": null,
   "metadata": {},
   "outputs": [],
   "source": []
  },
  {
   "cell_type": "code",
   "execution_count": null,
   "metadata": {},
   "outputs": [],
   "source": []
  },
  {
   "cell_type": "code",
   "execution_count": 289,
   "metadata": {},
   "outputs": [],
   "source": [
    "bob = Scalar(value=30, min_val=-1, max_val=110, ent=Entity(name=\"b\"))\n",
    "alice = Scalar(value=28, min_val=-2, max_val=100, ent=Entity(name=\"a\"))\n",
    "charlie = Scalar(value=30, min_val=-3, max_val=120, ent=Entity(name=\"c\"))\n",
    "dan = Scalar(value=30, min_val=-3, max_val=120, ent=Entity(name=\"d\"))"
   ]
  },
  {
   "cell_type": "code",
   "execution_count": null,
   "metadata": {},
   "outputs": [],
   "source": [
    "# ahead of time - Bob, Alice, Charlie, and Dan have all specified that they want to remain under\n",
    "# certain epsilon budgets (B parameter in Feldman et al.)\n",
    "\n",
    "bob = duet.store['bob_age']\n",
    "alice = duet.store['alice_age']\n",
    "charlie = duet.store['charlie_age']\n",
    "dan = duet.store['dan_age']"
   ]
  },
  {
   "cell_type": "code",
   "execution_count": 288,
   "metadata": {},
   "outputs": [],
   "source": [
    "sum_age = bob * alice * charlie * dan + bob*bob + dan*dan + bob*dan + charlie * bob * 0.0000001"
   ]
  },
  {
   "cell_type": "code",
   "execution_count": null,
   "metadata": {},
   "outputs": [],
   "source": [
    "sum_age.get(noise=0.1)"
   ]
  },
  {
   "cell_type": "code",
   "execution_count": null,
   "metadata": {},
   "outputs": [],
   "source": []
  },
  {
   "cell_type": "code",
   "execution_count": null,
   "metadata": {},
   "outputs": [],
   "source": []
  },
  {
   "cell_type": "code",
   "execution_count": null,
   "metadata": {},
   "outputs": [],
   "source": []
  },
  {
   "cell_type": "code",
   "execution_count": 265,
   "metadata": {},
   "outputs": [],
   "source": []
  },
  {
   "cell_type": "code",
   "execution_count": 274,
   "metadata": {},
   "outputs": [],
   "source": []
  },
  {
   "cell_type": "code",
   "execution_count": 275,
   "metadata": {},
   "outputs": [
    {
     "data": {
      "text/latex": [
       "$\\displaystyle a^{3} + c d$"
      ],
      "text/plain": [
       "a**3 + c*d"
      ]
     },
     "execution_count": 275,
     "metadata": {},
     "output_type": "execute_result"
    }
   ],
   "source": [
    "grad"
   ]
  },
  {
   "cell_type": "code",
   "execution_count": 280,
   "metadata": {},
   "outputs": [
    {
     "data": {
      "text/plain": [
       "{a, c, d}"
      ]
     },
     "execution_count": 280,
     "metadata": {},
     "output_type": "execute_result"
    }
   ],
   "source": [
    "grad.free_symbols"
   ]
  },
  {
   "cell_type": "code",
   "execution_count": 287,
   "metadata": {},
   "outputs": [
    {
     "data": {
      "text/latex": [
       "$\\displaystyle 39$"
      ],
      "text/plain": [
       "39"
      ]
     },
     "execution_count": 287,
     "metadata": {},
     "output_type": "execute_result"
    }
   ],
   "source": []
  },
  {
   "cell_type": "code",
   "execution_count": 271,
   "metadata": {},
   "outputs": [],
   "source": [
    "from sympy import Interval\n",
    "from sympy import solveset\n",
    "from scipy import optimize"
   ]
  },
  {
   "cell_type": "code",
   "execution_count": null,
   "metadata": {},
   "outputs": [],
   "source": []
  },
  {
   "cell_type": "code",
   "execution_count": 286,
   "metadata": {},
   "outputs": [],
   "source": [
    "def run(func, **kwargs):\n",
    "    return func.subs(kwargs)\n",
    "\n",
    "from scipy import optimize\n",
    "\n",
    "root = optimize.brentq(f, -2, 0)"
   ]
  },
  {
   "cell_type": "code",
   "execution_count": 268,
   "metadata": {},
   "outputs": [],
   "source": [
    "# sensitivity of bob (also variable x)"
   ]
  },
  {
   "cell_type": "code",
   "execution_count": 269,
   "metadata": {},
   "outputs": [],
   "source": []
  },
  {
   "cell_type": "code",
   "execution_count": 270,
   "metadata": {},
   "outputs": [
    {
     "data": {
      "text/latex": [
       "$\\displaystyle a^{3} + c d$"
      ],
      "text/plain": [
       "a**3 + c*d"
      ]
     },
     "execution_count": 270,
     "metadata": {},
     "output_type": "execute_result"
    }
   ],
   "source": [
    "grad"
   ]
  },
  {
   "cell_type": "code",
   "execution_count": null,
   "metadata": {},
   "outputs": [],
   "source": []
  },
  {
   "cell_type": "code",
   "execution_count": null,
   "metadata": {},
   "outputs": [],
   "source": []
  },
  {
   "cell_type": "code",
   "execution_count": 182,
   "metadata": {},
   "outputs": [],
   "source": [
    "from sympy import Symbol"
   ]
  },
  {
   "cell_type": "code",
   "execution_count": 183,
   "metadata": {},
   "outputs": [
    {
     "data": {
      "text/latex": [
       "$\\displaystyle x = 1.0$"
      ],
      "text/plain": [
       "Eq(x, 1.0)"
      ]
     },
     "execution_count": 183,
     "metadata": {},
     "output_type": "execute_result"
    }
   ],
   "source": [
    "x = Symbol('x')\n",
    "solve([x >= 0.5, x <= 3, x**2 - 1], x)"
   ]
  },
  {
   "cell_type": "code",
   "execution_count": 184,
   "metadata": {},
   "outputs": [
    {
     "data": {
      "text/latex": [
       "$\\displaystyle _alice = 0$"
      ],
      "text/plain": [
       "Eq(_alice, 0)"
      ]
     },
     "execution_count": 184,
     "metadata": {},
     "output_type": "execute_result"
    }
   ],
   "source": [
    "solve([alice.poly >= 0, alice.poly <=120, grad], alice.poly)"
   ]
  },
  {
   "cell_type": "code",
   "execution_count": null,
   "metadata": {},
   "outputs": [],
   "source": []
  },
  {
   "cell_type": "code",
   "execution_count": null,
   "metadata": {},
   "outputs": [],
   "source": []
  },
  {
   "cell_type": "code",
   "execution_count": 77,
   "metadata": {},
   "outputs": [],
   "source": [
    "input_vars = list(map(lambda x:scalar_name2obj[str(x)], z.poly.args))\n",
    "    "
   ]
  },
  {
   "cell_type": "code",
   "execution_count": 50,
   "metadata": {},
   "outputs": [
    {
     "data": {
      "text/plain": [
       "JvtNO_bob=30"
      ]
     },
     "execution_count": 50,
     "metadata": {},
     "output_type": "execute_result"
    }
   ],
   "source": [
    "scalar_name2obj['JvtNO_bob']"
   ]
  },
  {
   "cell_type": "code",
   "execution_count": 38,
   "metadata": {},
   "outputs": [
    {
     "data": {
      "text/plain": [
       "nSnfC_bob + tdSxn_alice=58"
      ]
     },
     "execution_count": 38,
     "metadata": {},
     "output_type": "execute_result"
    }
   ],
   "source": [
    "z"
   ]
  },
  {
   "cell_type": "code",
   "execution_count": null,
   "metadata": {},
   "outputs": [],
   "source": []
  },
  {
   "cell_type": "code",
   "execution_count": null,
   "metadata": {},
   "outputs": [],
   "source": []
  },
  {
   "cell_type": "code",
   "execution_count": null,
   "metadata": {},
   "outputs": [],
   "source": []
  },
  {
   "cell_type": "code",
   "execution_count": null,
   "metadata": {},
   "outputs": [],
   "source": []
  },
  {
   "cell_type": "code",
   "execution_count": null,
   "metadata": {},
   "outputs": [],
   "source": []
  },
  {
   "cell_type": "code",
   "execution_count": null,
   "metadata": {},
   "outputs": [],
   "source": []
  },
  {
   "cell_type": "code",
   "execution_count": 16,
   "metadata": {},
   "outputs": [],
   "source": [
    "class PrivateScalar:\n",
    "    \n",
    "    def __init__(self, value):\n",
    "        self.value = value\n",
    "        \n",
    "    def __add__(self, other):\n",
    "        return PrivateScalar(self.value - other.value)\n",
    "    \n",
    "    def __str__(self):\n",
    "        return self.value\n",
    "    \n",
    "    def __repr__(self):\n",
    "        return str(self.value)"
   ]
  },
  {
   "cell_type": "code",
   "execution_count": 17,
   "metadata": {},
   "outputs": [
    {
     "data": {
      "text/plain": [
       "1"
      ]
     },
     "execution_count": 17,
     "metadata": {},
     "output_type": "execute_result"
    }
   ],
   "source": [
    "x = PrivateScalar(4)\n",
    "y = PrivateScalar(3)\n",
    "\n",
    "z = x + y\n",
    "z.value"
   ]
  },
  {
   "cell_type": "code",
   "execution_count": 18,
   "metadata": {},
   "outputs": [],
   "source": [
    "xv = np.array([x,x,x,x])\n",
    "yv = np.array([y,y,y,y])"
   ]
  },
  {
   "cell_type": "code",
   "execution_count": null,
   "metadata": {},
   "outputs": [],
   "source": []
  }
 ],
 "metadata": {
  "kernelspec": {
   "display_name": "Python 3",
   "language": "python",
   "name": "python3"
  },
  "language_info": {
   "codemirror_mode": {
    "name": "ipython",
    "version": 3
   },
   "file_extension": ".py",
   "mimetype": "text/x-python",
   "name": "python",
   "nbconvert_exporter": "python",
   "pygments_lexer": "ipython3",
   "version": "3.8.3"
  }
 },
 "nbformat": 4,
 "nbformat_minor": 4
}
