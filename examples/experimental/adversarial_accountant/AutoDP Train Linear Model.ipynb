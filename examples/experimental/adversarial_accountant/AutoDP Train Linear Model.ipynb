{
 "cells": [
  {
   "cell_type": "code",
   "execution_count": 26,
   "metadata": {},
   "outputs": [],
   "source": [
    "import numpy as np\n",
    "\n",
    "from syft.lib.adp.scalar import PhiScalar\n",
    "from syft.lib.adp.entity import Entity\n",
    "from syft.lib.adp.tensor import Tensor\n",
    "from syft.lib.adp.adversarial_accountant import AdversarialAccountant, publish"
   ]
  },
  {
   "cell_type": "code",
   "execution_count": 27,
   "metadata": {},
   "outputs": [],
   "source": [
    "x = PhiScalar(0,0.01,1)\n",
    "y = PhiScalar(0,0.02,1)\n",
    "z = PhiScalar(0,0.02,1)\n",
    "\n",
    "o = x*x + y*y + z\n",
    "z = o * o * o"
   ]
  },
  {
   "cell_type": "code",
   "execution_count": 35,
   "metadata": {},
   "outputs": [
    {
     "name": "stderr",
     "output_type": "stream",
     "text": [
      "/Users/andrewliamtrask/opt/anaconda3/lib/python3.8/site-packages/scipy/optimize/optimize.py:2371: RuntimeWarning: invalid value encountered in double_scalars\n",
      "  w = xb - ((xb - xc) * tmp2 - (xb - xa) * tmp1) / denom\n"
     ]
    },
    {
     "data": {
      "text/plain": [
       "[-0.0414688818333109]"
      ]
     },
     "execution_count": 35,
     "metadata": {},
     "output_type": "execute_result"
    }
   ],
   "source": [
    "acc = AdversarialAccountant(max_budget=10)\n",
    "z.publish(acc=acc, sigma=0.2)"
   ]
  },
  {
   "cell_type": "code",
   "execution_count": 36,
   "metadata": {},
   "outputs": [
    {
     "name": "stdout",
     "output_type": "stream",
     "text": [
      "6.49 ms ± 53.2 µs per loop (mean ± std. dev. of 7 runs, 100 loops each)\n"
     ]
    }
   ],
   "source": [
    "acc = AdversarialAccountant(max_budget=10)\n",
    "\n",
    "publish([z,z], acc=acc, sigma=0.2)"
   ]
  },
  {
   "cell_type": "code",
   "execution_count": 31,
   "metadata": {},
   "outputs": [],
   "source": [
    "acc = AdversarialAccountant(max_budget=3000000)\n",
    "\n",
    "entities = [Entity(unique_name=\"Tudor\"), Entity(unique_name=\"Madhava\"), Entity(unique_name=\"Kritika\"), Entity(unique_name=\"George\")]\n",
    "\n",
    "x = Tensor(np.array([[1,1],[1,0],[0,1],[0,0]])).private(min_val=0, max_val=1, entities=entities, is_discrete=True)\n",
    "y = Tensor(np.array([[1],[1],[0],[0]])).private(min_val=0, max_val=1, entities=entities, is_discrete=False)\n",
    "\n",
    "_weights = Tensor(np.random.uniform(size=(2,1)))"
   ]
  },
  {
   "cell_type": "code",
   "execution_count": 32,
   "metadata": {},
   "outputs": [
    {
     "name": "stdout",
     "output_type": "stream",
     "text": [
      "<Entity:George>\t6.464117170860734\n",
      "<Entity:Madhava>\t6.464117170860734\n",
      "<Entity:Tudor>\t6.464117170860734\n",
      "<Entity:Kritika>\t6.464117170860734\n",
      "<Entity:George>\t9.33610515198901\n",
      "<Entity:Madhava>\t9.33610515198901\n",
      "<Entity:Tudor>\t9.33610515198901\n",
      "<Entity:Kritika>\t9.33610515198901\n",
      "<Entity:George>\t10.208274441978073\n",
      "<Entity:Madhava>\t10.208274441978073\n",
      "<Entity:Tudor>\t10.208274441978073\n",
      "<Entity:Kritika>\t10.208274441978073\n",
      "<Entity:George>\t10.969508599418464\n",
      "<Entity:Madhava>\t10.969508599418464\n",
      "<Entity:Tudor>\t10.969508599418464\n",
      "<Entity:Kritika>\t10.969508599418464\n",
      "<Entity:George>\t10.992389408439973\n",
      "<Entity:Madhava>\t10.992389408439973\n",
      "<Entity:Tudor>\t10.992389408439973\n",
      "<Entity:Kritika>\t10.992389408439973\n",
      "<Entity:George>\t11.07126570865547\n",
      "<Entity:Madhava>\t11.07126570865547\n",
      "<Entity:Tudor>\t11.07126570865547\n",
      "<Entity:Kritika>\t11.07126570865547\n",
      "<Entity:George>\t11.079317946102247\n",
      "<Entity:Madhava>\t11.079317946102247\n",
      "<Entity:Tudor>\t11.079317946102247\n",
      "<Entity:Kritika>\t11.079317946102247\n",
      "<Entity:George>\t11.202903325743353\n",
      "<Entity:Madhava>\t11.202903325743353\n",
      "<Entity:Tudor>\t11.202903325743353\n",
      "<Entity:Kritika>\t11.202903325743353\n",
      "<Entity:George>\t11.289488424767843\n",
      "<Entity:Madhava>\t11.289488424767843\n",
      "<Entity:Tudor>\t11.289488424767843\n",
      "<Entity:Kritika>\t11.289488424767843\n",
      "<Entity:George>\t11.356821418337418\n",
      "<Entity:Madhava>\t11.356821418337418\n",
      "<Entity:Tudor>\t11.356821418337418\n",
      "<Entity:Kritika>\t11.356821418337418\n"
     ]
    }
   ],
   "source": [
    "weights = _weights + 0\n",
    "acc = AdversarialAccountant(max_budget=3000000)\n",
    "\n",
    "for i in range(10):\n",
    "    batch_loss = 0\n",
    "\n",
    "    pred = x.dot(weights)\n",
    "    loss = np.mean(np.square(y-pred))\n",
    "    loss.backward()\n",
    "\n",
    "    weight_grad = (weights.grad * 0.5)\n",
    "    weight_grad = weight_grad.publish(acc=acc, sigma=0.1)\n",
    "\n",
    "    weights = weights - weight_grad\n",
    "    batch_loss += loss.value\n",
    "\n",
    "    acc.print_ledger()\n",
    "#     print(weights)"
   ]
  },
  {
   "cell_type": "code",
   "execution_count": null,
   "metadata": {},
   "outputs": [],
   "source": []
  },
  {
   "cell_type": "code",
   "execution_count": null,
   "metadata": {},
   "outputs": [],
   "source": []
  }
 ],
 "metadata": {
  "kernelspec": {
   "display_name": "Python 3",
   "language": "python",
   "name": "python3"
  },
  "language_info": {
   "codemirror_mode": {
    "name": "ipython",
    "version": 3
   },
   "file_extension": ".py",
   "mimetype": "text/x-python",
   "name": "python",
   "nbconvert_exporter": "python",
   "pygments_lexer": "ipython3",
   "version": "3.8.3"
  }
 },
 "nbformat": 4,
 "nbformat_minor": 4
}
