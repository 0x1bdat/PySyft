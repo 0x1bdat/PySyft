{
 "cells": [
  {
   "cell_type": "code",
   "execution_count": 1,
   "metadata": {},
   "outputs": [],
   "source": [
    "import syft as sy\n",
    "import torch as th\n",
    "import nest_asyncio\n",
    "from syft.grid.duet.om_signaling_client import register\n",
    "from syft.grid.duet.webrtc_duet import Duet\n",
    "import sys\n",
    "nest_asyncio.apply()\n",
    "sy.VERBOSE = False\n",
    "\n",
    "def begin_duet_logger(my_domain):\n",
    "    import sys\n",
    "    import threading\n",
    "    import time\n",
    "    from contextlib import contextmanager\n",
    "\n",
    "    # we need a lock, so that other threads don't snatch control\n",
    "    # while we have set a temporary parent\n",
    "    stdout_lock = threading.Lock()\n",
    "\n",
    "    @contextmanager\n",
    "    def set_stdout_parent(parent):\n",
    "        \"\"\"a context manager for setting a particular parent for sys.stdout\n",
    "\n",
    "        the parent determines the destination cell of output\n",
    "        \"\"\"\n",
    "        save_parent = sys.stdout.parent_header\n",
    "        with stdout_lock:\n",
    "            sys.stdout.parent_header = parent\n",
    "            try:\n",
    "                yield\n",
    "            finally:\n",
    "                # the flush is important, because that's when the parent_header actually has its effect\n",
    "                sys.stdout.flush()\n",
    "                sys.stdout.parent_header = save_parent\n",
    "\n",
    "    class counterThread(threading.Thread):\n",
    "        def run(self):\n",
    "            # record the parent when the thread starts\n",
    "            thread_parent = sys.stdout.parent_header\n",
    "            iterator = 0\n",
    "            while(True):\n",
    "                time.sleep(0.1)\n",
    "                # then ensure that the parent is the same as when the thread started\n",
    "                # every time we print\n",
    "                with set_stdout_parent(thread_parent):\n",
    "                    \n",
    "                    n_objects = len(my_domain.store)\n",
    "                    n_requests = len(my_domain.requests)\n",
    "                    n_messages = my_domain.message_counter\n",
    "                    \n",
    "                    blink_on = (int(iterator / 5) % 2) == 0\n",
    "                    \n",
    "                    if blink_on and n_requests > 0:\n",
    "                        left_blink = \">\"\n",
    "                        right_blink = \"<\"\n",
    "                    else:\n",
    "                        left_blink = \" \"\n",
    "                        right_blink = \" \"\n",
    "                        \n",
    "                    if blink_on:\n",
    "                        star = \"*\"\n",
    "                    else:\n",
    "                        star = \"-\"\n",
    "                    \n",
    "                    out = \"♫♫♫ > DUET LIVE STATUS  \"+star+\"  Objects: \" + str(n_objects) + \"  Requests:\"+left_blink + str(n_requests) + right_blink+ \"  Messages: \" + str(n_messages)\n",
    "                    \n",
    "                    sys.stdout.write(\"\\r\" + out)        \n",
    "                iterator += 1\n",
    "                    \n",
    "                \n",
    "    counterThread().start()\n",
    "\n",
    "def launch_duet(logging=True, network_url=\"http://ec2-18-191-23-46.us-east-2.compute.amazonaws.com:5000\"):\n",
    "\n",
    "    print(\"🎤  🎸  ♪♪♪ starting duet ♫♫♫  🎻  🎹\\n\")\n",
    "    sys.stdout.write(\n",
    "        \"♫♫♫ >\\033[93m\" + \" DISCLAIMER\" + \"\\033[0m\"\n",
    "        \":\"\n",
    "        + \"\\033[1m\"\n",
    "        + \" Duet is an experimental feature currently \\n♫♫♫ > \"\n",
    "        + \"in alpha. Do not use this to protect real-world data.\\n\"\n",
    "        + \"\\033[0m\"\n",
    "    )\n",
    "\n",
    "    print(\"♫♫♫ >\")\n",
    "    print(\"♫♫♫ > Punching through firewall to signaling client: \")\n",
    "    print(\"♫♫♫ > \" + str(network_url))\n",
    "    print(\"♫♫♫ >\")\n",
    "    sys.stdout.write(\"♫♫♫ > ...waiting for response... \")\n",
    "\n",
    "    signaling_client = register(url=network_url)\n",
    "\n",
    "    print(\"DONE!\")\n",
    "    \n",
    "#     print(\"♫♫♫ >\")\n",
    "#     print(\"♫♫♫ > Your Duet Id: \" + signaling_client.duet_id)    \n",
    "    \n",
    "    print(\"♫♫♫ >\")\n",
    "    print(\"♫♫♫ > STEP 1: Send the following code to your duet partner!\")    \n",
    "#         print(f\"♫♫♫ > Duet Node ID:{domain.id.value}\")\n",
    "    \n",
    "    print(\"\\n import syft as sy\")\n",
    "    print(\"\\n sy.join_duet('\"+signaling_client.duet_id+\"')\")    \n",
    "\n",
    "    my_domain = sy.Domain(name=\"Launcher\")\n",
    "    \n",
    "    print(\"\\n♫♫♫ > Step 2: The code above will print out a 'Client Id'. Have\")\n",
    "    print(\"♫♫♫ > your duet partner send it to you and enter it below!\")\n",
    "    print()\n",
    "    target_id = input(\"♫♫♫ > Duet Partner's Client Id:\")\n",
    "\n",
    "    duet = Duet(node=my_domain,\n",
    "                target_id=target_id,\n",
    "                signaling_client=signaling_client,\n",
    "                offer=True)\n",
    "    \n",
    "#     return duet, my_domain.get_root_client()\n",
    "    out_duet = my_domain.get_root_client()\n",
    "    \n",
    "    if(logging):\n",
    "        begin_duet_logger(my_domain)\n",
    "    print()\n",
    "    return out_duet"
   ]
  },
  {
   "cell_type": "code",
   "execution_count": 2,
   "metadata": {},
   "outputs": [
    {
     "name": "stdout",
     "output_type": "stream",
     "text": [
      "🎤  🎸  ♪♪♪ starting duet ♫♫♫  🎻  🎹\n",
      "\n",
      "♫♫♫ >\u001b[93m DISCLAIMER\u001b[0m:\u001b[1m Duet is an experimental feature currently \n",
      "♫♫♫ > in alpha. Do not use this to protect real-world data.\n",
      "\u001b[0m♫♫♫ >\n",
      "♫♫♫ > Punching through firewall to signaling client: \n",
      "♫♫♫ > http://ec2-18-191-23-46.us-east-2.compute.amazonaws.com:5000\n",
      "♫♫♫ >\n",
      "♫♫♫ > ...waiting for response... DONE!\n",
      "♫♫♫ >\n",
      "♫♫♫ > STEP 1: Send the following code to your duet partner!\n",
      "\n",
      " import syft as sy\n",
      "\n",
      " sy.join_duet('a3984657536fe7b9cbe3535ee016e380')\n",
      "\n",
      "♫♫♫ > Step 2: The code above will print out a 'Client Id'. Have\n",
      "♫♫♫ > your duet partner send it to you and enter it below!\n",
      "\n"
     ]
    },
    {
     "name": "stdin",
     "output_type": "stream",
     "text": [
      "♫♫♫ > Duet Partner's Client Id: 9d75faca18310d0535db3f29674d2ec3\n"
     ]
    },
    {
     "name": "stdout",
     "output_type": "stream",
     "text": [
      "♫♫♫ > Using a running event loop\n",
      "\n",
      "♫♫♫ > DUET LIVE STATUS  *  Objects: 1  Requests: 0   Messages: 7"
     ]
    }
   ],
   "source": [
    "duet = launch_duet()"
   ]
  },
  {
   "cell_type": "code",
   "execution_count": 3,
   "metadata": {},
   "outputs": [
    {
     "data": {
      "text/html": [
       "<div>\n",
       "<style scoped>\n",
       "    .dataframe tbody tr th:only-of-type {\n",
       "        vertical-align: middle;\n",
       "    }\n",
       "\n",
       "    .dataframe tbody tr th {\n",
       "        vertical-align: top;\n",
       "    }\n",
       "\n",
       "    .dataframe thead th {\n",
       "        text-align: right;\n",
       "    }\n",
       "</style>\n",
       "<table border=\"1\" class=\"dataframe\">\n",
       "  <thead>\n",
       "    <tr style=\"text-align: right;\">\n",
       "      <th></th>\n",
       "    </tr>\n",
       "  </thead>\n",
       "  <tbody>\n",
       "  </tbody>\n",
       "</table>\n",
       "</div>"
      ],
      "text/plain": [
       "Empty DataFrame\n",
       "Columns: []\n",
       "Index: []"
      ]
     },
     "execution_count": 3,
     "metadata": {},
     "output_type": "execute_result"
    }
   ],
   "source": [
    "duet.requests.pandas"
   ]
  },
  {
   "cell_type": "code",
   "execution_count": 4,
   "metadata": {},
   "outputs": [
    {
     "name": "stderr",
     "output_type": "stream",
     "text": [
      "Exception in callback AsyncIOEventEmitter._emit_run.<locals>._callback(<Task finishe... a request.')>) at /Users/atrask/opt/anaconda3/envs/syft/lib/python3.7/site-packages/pyee/_asyncio.py:55\n",
      "handle: <Handle AsyncIOEventEmitter._emit_run.<locals>._callback(<Task finishe... a request.')>) at /Users/atrask/opt/anaconda3/envs/syft/lib/python3.7/site-packages/pyee/_asyncio.py:55>\n",
      "Traceback (most recent call last):\n",
      "  File \"/Users/atrask/opt/anaconda3/envs/syft/lib/python3.7/site-packages/nest_asyncio.py\", line 190, in run\n",
      "    ctx.run(self._callback, *self._args)\n",
      "  File \"/Users/atrask/opt/anaconda3/envs/syft/lib/python3.7/site-packages/pyee/_asyncio.py\", line 62, in _callback\n",
      "    self.emit('error', exc)\n",
      "  File \"/Users/atrask/opt/anaconda3/envs/syft/lib/python3.7/site-packages/pyee/_base.py\", line 111, in emit\n",
      "    self._emit_handle_potential_error(event, args[0] if args else None)\n",
      "  File \"/Users/atrask/opt/anaconda3/envs/syft/lib/python3.7/site-packages/pyee/_base.py\", line 83, in _emit_handle_potential_error\n",
      "    raise error\n",
      "  File \"/Users/atrask/opt/anaconda3/envs/syft/lib/python3.7/asyncio/tasks.py\", line 249, in __step\n",
      "    result = coro.send(None)\n",
      "  File \"/Users/atrask/Laboratory/openmined/PySyft/src/syft/grid/connections/webrtc.py\", line 174, in on_message\n",
      "    await self.consumer(msg=message)\n",
      "  File \"/Users/atrask/opt/anaconda3/envs/syft/lib/python3.7/site-packages/typeguard/__init__.py\", line 858, in async_wrapper\n",
      "    retval = await func(*args, **kwargs)\n",
      "  File \"/Users/atrask/Laboratory/openmined/PySyft/src/syft/grid/connections/webrtc.py\", line 297, in consumer\n",
      "    reply = self.recv_immediate_msg_with_reply(msg=_msg)\n",
      "  File \"/Users/atrask/Laboratory/openmined/PySyft/src/syft/decorators/syft_decorator_impl.py\", line 32, in wrapper\n",
      "    return function(*args, **kwargs)\n",
      "  File \"/Users/atrask/Laboratory/openmined/PySyft/src/syft/decorators/typecheck.py\", line 110, in decorator\n",
      "    return typechecked(decorated)(*args, **kwargs)\n",
      "  File \"/Users/atrask/opt/anaconda3/envs/syft/lib/python3.7/site-packages/typeguard/__init__.py\", line 840, in wrapper\n",
      "    retval = func(*args, **kwargs)\n",
      "  File \"/Users/atrask/Laboratory/openmined/PySyft/src/syft/grid/connections/webrtc.py\", line 326, in recv_immediate_msg_with_reply\n",
      "    reply = self.node.recv_immediate_msg_with_reply(msg=msg)\n",
      "  File \"/Users/atrask/Laboratory/openmined/PySyft/src/syft/decorators/syft_decorator_impl.py\", line 32, in wrapper\n",
      "    return function(*args, **kwargs)\n",
      "  File \"/Users/atrask/Laboratory/openmined/PySyft/src/syft/decorators/typecheck.py\", line 110, in decorator\n",
      "    return typechecked(decorated)(*args, **kwargs)\n",
      "  File \"/Users/atrask/opt/anaconda3/envs/syft/lib/python3.7/site-packages/typeguard/__init__.py\", line 840, in wrapper\n",
      "    retval = func(*args, **kwargs)\n",
      "  File \"/Users/atrask/Laboratory/openmined/PySyft/src/syft/core/node/common/node.py\", line 326, in recv_immediate_msg_with_reply\n",
      "    msg=msg, router=self.immediate_msg_with_reply_router\n",
      "  File \"/Users/atrask/Laboratory/openmined/PySyft/src/syft/core/node/common/node.py\", line 387, in process_message\n",
      "    verify_key=msg.verify_key,\n",
      "  File \"/Users/atrask/Laboratory/openmined/PySyft/src/syft/decorators/syft_decorator_impl.py\", line 32, in wrapper\n",
      "    return function(*args, **kwargs)\n",
      "  File \"/Users/atrask/Laboratory/openmined/PySyft/src/syft/decorators/typecheck.py\", line 110, in decorator\n",
      "    return typechecked(decorated)(*args, **kwargs)\n",
      "  File \"/Users/atrask/opt/anaconda3/envs/syft/lib/python3.7/site-packages/typeguard/__init__.py\", line 840, in wrapper\n",
      "    retval = func(*args, **kwargs)\n",
      "  File \"/Users/atrask/Laboratory/openmined/PySyft/src/syft/core/node/common/service/obj_action_service.py\", line 54, in process\n",
      "    return msg.execute_action(node=node, verify_key=verify_key)\n",
      "  File \"/Users/atrask/Laboratory/openmined/PySyft/src/syft/core/node/common/action/get_object_action.py\", line 151, in execute_action\n",
      "    \"You do not have permission to .get() this tensor. Please submit a request.\"\n",
      "Exception: You do not have permission to .get() this tensor. Please submit a request.\n"
     ]
    }
   ],
   "source": [
    "x = th.tensor([1,2,3]).tag(\"data\").send(duet, searchable=True)"
   ]
  },
  {
   "cell_type": "code",
   "execution_count": null,
   "metadata": {},
   "outputs": [],
   "source": []
  },
  {
   "cell_type": "code",
   "execution_count": null,
   "metadata": {},
   "outputs": [],
   "source": []
  },
  {
   "cell_type": "code",
   "execution_count": null,
   "metadata": {},
   "outputs": [],
   "source": []
  },
  {
   "cell_type": "code",
   "execution_count": 7,
   "metadata": {},
   "outputs": [],
   "source": [
    "duet.requests[0].accept()"
   ]
  },
  {
   "cell_type": "code",
   "execution_count": 12,
   "metadata": {},
   "outputs": [],
   "source": []
  },
  {
   "cell_type": "code",
   "execution_count": 11,
   "metadata": {},
   "outputs": [
    {
     "data": {
      "text/html": [
       "<div>\n",
       "<style scoped>\n",
       "    .dataframe tbody tr th:only-of-type {\n",
       "        vertical-align: middle;\n",
       "    }\n",
       "\n",
       "    .dataframe tbody tr th {\n",
       "        vertical-align: top;\n",
       "    }\n",
       "\n",
       "    .dataframe thead th {\n",
       "        text-align: right;\n",
       "    }\n",
       "</style>\n",
       "<table border=\"1\" class=\"dataframe\">\n",
       "  <thead>\n",
       "    <tr style=\"text-align: right;\">\n",
       "      <th></th>\n",
       "    </tr>\n",
       "  </thead>\n",
       "  <tbody>\n",
       "  </tbody>\n",
       "</table>\n",
       "</div>"
      ],
      "text/plain": [
       "Empty DataFrame\n",
       "Columns: []\n",
       "Index: []"
      ]
     },
     "execution_count": 11,
     "metadata": {},
     "output_type": "execute_result"
    }
   ],
   "source": [
    "duet.requests.pandas"
   ]
  },
  {
   "cell_type": "code",
   "execution_count": 8,
   "metadata": {},
   "outputs": [],
   "source": [
    "import sys"
   ]
  },
  {
   "cell_type": "code",
   "execution_count": 10,
   "metadata": {},
   "outputs": [
    {
     "data": {
      "text/html": [
       "<div>\n",
       "<style scoped>\n",
       "    .dataframe tbody tr th:only-of-type {\n",
       "        vertical-align: middle;\n",
       "    }\n",
       "\n",
       "    .dataframe tbody tr th {\n",
       "        vertical-align: top;\n",
       "    }\n",
       "\n",
       "    .dataframe thead th {\n",
       "        text-align: right;\n",
       "    }\n",
       "</style>\n",
       "<table border=\"1\" class=\"dataframe\">\n",
       "  <thead>\n",
       "    <tr style=\"text-align: right;\">\n",
       "      <th></th>\n",
       "      <th>ID</th>\n",
       "      <th>Tags</th>\n",
       "      <th>Description</th>\n",
       "    </tr>\n",
       "  </thead>\n",
       "  <tbody>\n",
       "    <tr>\n",
       "      <th>0</th>\n",
       "      <td>&lt;UID:f2f38646-72e9-4f7c-8efe-3af2b7273257&gt;</td>\n",
       "      <td>[]</td>\n",
       "      <td></td>\n",
       "    </tr>\n",
       "    <tr>\n",
       "      <th>1</th>\n",
       "      <td>&lt;UID:041c3df4-3da8-4466-b252-e3a7a5026349&gt;</td>\n",
       "      <td>[]</td>\n",
       "      <td></td>\n",
       "    </tr>\n",
       "    <tr>\n",
       "      <th>2</th>\n",
       "      <td>&lt;UID:a501ff1f-2532-4f84-b2c6-030b0898604a&gt;</td>\n",
       "      <td>[data]</td>\n",
       "      <td></td>\n",
       "    </tr>\n",
       "    <tr>\n",
       "      <th>3</th>\n",
       "      <td>&lt;UID:727669aa-f0cb-442a-87ad-62bd35cfb302&gt;</td>\n",
       "      <td>[]</td>\n",
       "      <td></td>\n",
       "    </tr>\n",
       "    <tr>\n",
       "      <th>4</th>\n",
       "      <td>&lt;UID:416fce23-528d-4fca-9880-b3a49293835c&gt;</td>\n",
       "      <td>[]</td>\n",
       "      <td></td>\n",
       "    </tr>\n",
       "    <tr>\n",
       "      <th>5</th>\n",
       "      <td>&lt;UID:6b5e1155-da18-4f0b-9faa-79a099b0c317&gt;</td>\n",
       "      <td>[]</td>\n",
       "      <td></td>\n",
       "    </tr>\n",
       "    <tr>\n",
       "      <th>6</th>\n",
       "      <td>&lt;UID:808be15b-66f5-480d-8e5a-2507f7f40e7d&gt;</td>\n",
       "      <td>[]</td>\n",
       "      <td></td>\n",
       "    </tr>\n",
       "    <tr>\n",
       "      <th>7</th>\n",
       "      <td>&lt;UID:dbc93b21-b6e4-4e21-9958-aefdf50e011a&gt;</td>\n",
       "      <td>[]</td>\n",
       "      <td></td>\n",
       "    </tr>\n",
       "    <tr>\n",
       "      <th>8</th>\n",
       "      <td>&lt;UID:856368ce-52fa-4fe3-83a2-6b9c110cc889&gt;</td>\n",
       "      <td>[]</td>\n",
       "      <td></td>\n",
       "    </tr>\n",
       "    <tr>\n",
       "      <th>9</th>\n",
       "      <td>&lt;UID:d07a8a21-a5b2-4cee-b77a-fdb69bb14367&gt;</td>\n",
       "      <td>[]</td>\n",
       "      <td></td>\n",
       "    </tr>\n",
       "    <tr>\n",
       "      <th>10</th>\n",
       "      <td>&lt;UID:4dcda30e-05cf-4a5f-a056-73653b19be35&gt;</td>\n",
       "      <td>[]</td>\n",
       "      <td></td>\n",
       "    </tr>\n",
       "    <tr>\n",
       "      <th>11</th>\n",
       "      <td>&lt;UID:8b8eee73-1fab-419e-b6f1-92ed7dc1a827&gt;</td>\n",
       "      <td>[]</td>\n",
       "      <td></td>\n",
       "    </tr>\n",
       "    <tr>\n",
       "      <th>12</th>\n",
       "      <td>&lt;UID:a077b77d-5806-4b7e-9f39-f0b333815e48&gt;</td>\n",
       "      <td>[]</td>\n",
       "      <td></td>\n",
       "    </tr>\n",
       "    <tr>\n",
       "      <th>13</th>\n",
       "      <td>&lt;UID:d5ce70e0-6d0a-4f14-a5ac-a168f6913936&gt;</td>\n",
       "      <td>[]</td>\n",
       "      <td></td>\n",
       "    </tr>\n",
       "    <tr>\n",
       "      <th>14</th>\n",
       "      <td>&lt;UID:3bf23a37-ef8f-4a71-98e8-fd37665a600d&gt;</td>\n",
       "      <td>[]</td>\n",
       "      <td></td>\n",
       "    </tr>\n",
       "    <tr>\n",
       "      <th>15</th>\n",
       "      <td>&lt;UID:51eb912f-0468-44b2-95aa-1071d1a4b42b&gt;</td>\n",
       "      <td>[]</td>\n",
       "      <td></td>\n",
       "    </tr>\n",
       "    <tr>\n",
       "      <th>16</th>\n",
       "      <td>&lt;UID:e5d2afd5-1f8f-4817-a7fc-9a240f69bfff&gt;</td>\n",
       "      <td>[]</td>\n",
       "      <td></td>\n",
       "    </tr>\n",
       "    <tr>\n",
       "      <th>17</th>\n",
       "      <td>&lt;UID:3a7af8af-d1e4-4995-a0fb-6b665d57104d&gt;</td>\n",
       "      <td>[]</td>\n",
       "      <td></td>\n",
       "    </tr>\n",
       "    <tr>\n",
       "      <th>18</th>\n",
       "      <td>&lt;UID:2ce49ca9-913f-4ad1-8936-f29c9909bb34&gt;</td>\n",
       "      <td>[]</td>\n",
       "      <td></td>\n",
       "    </tr>\n",
       "    <tr>\n",
       "      <th>19</th>\n",
       "      <td>&lt;UID:7710e342-296b-4cce-b9f7-1665d3dc33ef&gt;</td>\n",
       "      <td>[]</td>\n",
       "      <td></td>\n",
       "    </tr>\n",
       "    <tr>\n",
       "      <th>20</th>\n",
       "      <td>&lt;UID:6002411e-ecdc-4386-a394-680dc0ed379f&gt;</td>\n",
       "      <td>[]</td>\n",
       "      <td></td>\n",
       "    </tr>\n",
       "    <tr>\n",
       "      <th>21</th>\n",
       "      <td>&lt;UID:94c32c29-770c-481e-8f90-c80c3942098d&gt;</td>\n",
       "      <td>[]</td>\n",
       "      <td></td>\n",
       "    </tr>\n",
       "    <tr>\n",
       "      <th>22</th>\n",
       "      <td>&lt;UID:e3b0b16b-c4bf-4593-85fc-213103fe592f&gt;</td>\n",
       "      <td>[]</td>\n",
       "      <td></td>\n",
       "    </tr>\n",
       "    <tr>\n",
       "      <th>23</th>\n",
       "      <td>&lt;UID:af6bd23e-3322-4560-aac7-1b4eced445cf&gt;</td>\n",
       "      <td>[]</td>\n",
       "      <td></td>\n",
       "    </tr>\n",
       "    <tr>\n",
       "      <th>24</th>\n",
       "      <td>&lt;UID:2916a426-3056-4e39-af0c-1b55a0b9c79e&gt;</td>\n",
       "      <td>[]</td>\n",
       "      <td></td>\n",
       "    </tr>\n",
       "    <tr>\n",
       "      <th>25</th>\n",
       "      <td>&lt;UID:9a31e489-192b-4bd2-b3fd-bfa7c08535bf&gt;</td>\n",
       "      <td>[]</td>\n",
       "      <td></td>\n",
       "    </tr>\n",
       "    <tr>\n",
       "      <th>26</th>\n",
       "      <td>&lt;UID:1049f737-6285-4db6-b709-e918fa89cb67&gt;</td>\n",
       "      <td>[]</td>\n",
       "      <td></td>\n",
       "    </tr>\n",
       "    <tr>\n",
       "      <th>27</th>\n",
       "      <td>&lt;UID:abd1b3a3-9282-4117-a363-412b2c3b0559&gt;</td>\n",
       "      <td>[]</td>\n",
       "      <td></td>\n",
       "    </tr>\n",
       "    <tr>\n",
       "      <th>28</th>\n",
       "      <td>&lt;UID:c690851f-343b-4f3d-87ca-f71aa91f60d7&gt;</td>\n",
       "      <td>[]</td>\n",
       "      <td></td>\n",
       "    </tr>\n",
       "    <tr>\n",
       "      <th>29</th>\n",
       "      <td>&lt;UID:b33c65f9-3f06-4cd1-a7eb-879dc68bab05&gt;</td>\n",
       "      <td>[]</td>\n",
       "      <td></td>\n",
       "    </tr>\n",
       "    <tr>\n",
       "      <th>30</th>\n",
       "      <td>&lt;UID:4ed7831e-2e27-419c-841d-e09c3de6cd9b&gt;</td>\n",
       "      <td>[]</td>\n",
       "      <td></td>\n",
       "    </tr>\n",
       "    <tr>\n",
       "      <th>31</th>\n",
       "      <td>&lt;UID:84366b7a-3745-49a7-ba4d-e21e37e2f4bb&gt;</td>\n",
       "      <td>[]</td>\n",
       "      <td></td>\n",
       "    </tr>\n",
       "    <tr>\n",
       "      <th>32</th>\n",
       "      <td>&lt;UID:6b19413c-18e7-4422-a2d5-fa73d204c2de&gt;</td>\n",
       "      <td>[]</td>\n",
       "      <td></td>\n",
       "    </tr>\n",
       "  </tbody>\n",
       "</table>\n",
       "</div>"
      ],
      "text/plain": [
       "                                            ID    Tags Description\n",
       "0   <UID:f2f38646-72e9-4f7c-8efe-3af2b7273257>      []            \n",
       "1   <UID:041c3df4-3da8-4466-b252-e3a7a5026349>      []            \n",
       "2   <UID:a501ff1f-2532-4f84-b2c6-030b0898604a>  [data]            \n",
       "3   <UID:727669aa-f0cb-442a-87ad-62bd35cfb302>      []            \n",
       "4   <UID:416fce23-528d-4fca-9880-b3a49293835c>      []            \n",
       "5   <UID:6b5e1155-da18-4f0b-9faa-79a099b0c317>      []            \n",
       "6   <UID:808be15b-66f5-480d-8e5a-2507f7f40e7d>      []            \n",
       "7   <UID:dbc93b21-b6e4-4e21-9958-aefdf50e011a>      []            \n",
       "8   <UID:856368ce-52fa-4fe3-83a2-6b9c110cc889>      []            \n",
       "9   <UID:d07a8a21-a5b2-4cee-b77a-fdb69bb14367>      []            \n",
       "10  <UID:4dcda30e-05cf-4a5f-a056-73653b19be35>      []            \n",
       "11  <UID:8b8eee73-1fab-419e-b6f1-92ed7dc1a827>      []            \n",
       "12  <UID:a077b77d-5806-4b7e-9f39-f0b333815e48>      []            \n",
       "13  <UID:d5ce70e0-6d0a-4f14-a5ac-a168f6913936>      []            \n",
       "14  <UID:3bf23a37-ef8f-4a71-98e8-fd37665a600d>      []            \n",
       "15  <UID:51eb912f-0468-44b2-95aa-1071d1a4b42b>      []            \n",
       "16  <UID:e5d2afd5-1f8f-4817-a7fc-9a240f69bfff>      []            \n",
       "17  <UID:3a7af8af-d1e4-4995-a0fb-6b665d57104d>      []            \n",
       "18  <UID:2ce49ca9-913f-4ad1-8936-f29c9909bb34>      []            \n",
       "19  <UID:7710e342-296b-4cce-b9f7-1665d3dc33ef>      []            \n",
       "20  <UID:6002411e-ecdc-4386-a394-680dc0ed379f>      []            \n",
       "21  <UID:94c32c29-770c-481e-8f90-c80c3942098d>      []            \n",
       "22  <UID:e3b0b16b-c4bf-4593-85fc-213103fe592f>      []            \n",
       "23  <UID:af6bd23e-3322-4560-aac7-1b4eced445cf>      []            \n",
       "24  <UID:2916a426-3056-4e39-af0c-1b55a0b9c79e>      []            \n",
       "25  <UID:9a31e489-192b-4bd2-b3fd-bfa7c08535bf>      []            \n",
       "26  <UID:1049f737-6285-4db6-b709-e918fa89cb67>      []            \n",
       "27  <UID:abd1b3a3-9282-4117-a363-412b2c3b0559>      []            \n",
       "28  <UID:c690851f-343b-4f3d-87ca-f71aa91f60d7>      []            \n",
       "29  <UID:b33c65f9-3f06-4cd1-a7eb-879dc68bab05>      []            \n",
       "30  <UID:4ed7831e-2e27-419c-841d-e09c3de6cd9b>      []            \n",
       "31  <UID:84366b7a-3745-49a7-ba4d-e21e37e2f4bb>      []            \n",
       "32  <UID:6b19413c-18e7-4422-a2d5-fa73d204c2de>      []            "
      ]
     },
     "execution_count": 10,
     "metadata": {},
     "output_type": "execute_result"
    }
   ],
   "source": [
    "duet.store.pandas"
   ]
  },
  {
   "cell_type": "code",
   "execution_count": null,
   "metadata": {},
   "outputs": [],
   "source": []
  },
  {
   "cell_type": "code",
   "execution_count": null,
   "metadata": {},
   "outputs": [],
   "source": []
  },
  {
   "cell_type": "code",
   "execution_count": 14,
   "metadata": {},
   "outputs": [
    {
     "name": "stdout",
     "output_type": "stream",
     "text": [
      "Send/Request remote operations\n",
      "My Result:  tensor([1024, 2048, 3072, 4096, 5120, 6144])\n"
     ]
    }
   ],
   "source": [
    "print(\"Send/Request remote operations\")\n",
    "x = th.tensor([1,2,3,4,5,6])\n",
    "p_x = x.send(duet)\n",
    "for i in range(10):\n",
    "    p_x = p_x + p_x\n",
    "print(\"My Result: \", p_x.get())"
   ]
  },
  {
   "cell_type": "code",
   "execution_count": null,
   "metadata": {},
   "outputs": [],
   "source": []
  },
  {
   "cell_type": "code",
   "execution_count": null,
   "metadata": {},
   "outputs": [],
   "source": []
  },
  {
   "cell_type": "code",
   "execution_count": null,
   "metadata": {},
   "outputs": [],
   "source": []
  },
  {
   "cell_type": "code",
   "execution_count": 3,
   "metadata": {},
   "outputs": [
    {
     "name": "stdout",
     "output_type": "stream",
     "text": [
      "Duet ID:  ad824e6a7c9c483e138e175ba223bcf7\n",
      "Please enter ID of node you're connecting to!\n"
     ]
    },
    {
     "name": "stdin",
     "output_type": "stream",
     "text": [
      " 820ad28ebb50f10356cf155cdd1c68cb\n"
     ]
    },
    {
     "name": "stdout",
     "output_type": "stream",
     "text": [
      "> Using a running event loop\n"
     ]
    }
   ],
   "source": [
    "signaling_client2 = register(url=\"http://ec2-18-222-9-218.us-east-2.compute.amazonaws.com:5000\")\n",
    "my_domain2 = sy.Domain(name=\"Bob2\")\n",
    "print(\"Please enter ID of node you're connecting to!\")\n",
    "target_id2 = input()\n",
    "\n",
    "duet2 = Duet(node=my_domain2,\n",
    "            target_id=target_id2,\n",
    "            signaling_client=signaling_client2,\n",
    "            offer=True)"
   ]
  },
  {
   "cell_type": "code",
   "execution_count": 4,
   "metadata": {},
   "outputs": [
    {
     "name": "stdout",
     "output_type": "stream",
     "text": [
      "Send/Request remote operations\n",
      "My Result:  tensor([1024, 2048, 3072, 4096, 5120, 6144])\n"
     ]
    }
   ],
   "source": [
    "print(\"Send/Request remote operations\")\n",
    "x = th.tensor([1,2,3,4,5,6])\n",
    "p_x = x.send(duet)\n",
    "for i in range(10):\n",
    "    p_x = p_x + p_x\n",
    "print(\"My Result: \", p_x.get())"
   ]
  },
  {
   "cell_type": "code",
   "execution_count": 10,
   "metadata": {},
   "outputs": [
    {
     "name": "stdout",
     "output_type": "stream",
     "text": [
      "Send/Request remote operations\n",
      "My Result:  tensor([1001, 1002, 1003, 1004, 1005, 1006])\n"
     ]
    }
   ],
   "source": [
    "print(\"Send/Request remote operations\")\n",
    "x = th.tensor([1,2,3,4,5,6])\n",
    "p_x = x.send(duet2)\n",
    "for i in range(1000):\n",
    "    p_x = p_x + 1\n",
    "print(\"My Result: \", p_x.get())"
   ]
  },
  {
   "cell_type": "code",
   "execution_count": null,
   "metadata": {},
   "outputs": [],
   "source": []
  },
  {
   "cell_type": "markdown",
   "metadata": {},
   "source": [
    "## Create Our Domain\n",
    "Now, we need to create our domain which will work as a server, computing remote requests."
   ]
  },
  {
   "cell_type": "code",
   "execution_count": 3,
   "metadata": {},
   "outputs": [],
   "source": []
  },
  {
   "cell_type": "markdown",
   "metadata": {},
   "source": [
    "## Define Target's Domain/Address\n",
    "PS: We don't need to create a domain to our target peer (just its address would be enough)."
   ]
  },
  {
   "cell_type": "markdown",
   "metadata": {},
   "source": [
    "## Start Duet Process\n",
    "Now, we can start our ICE protocol, if everything goes well, at the end of this process we'll be connected\n",
    "with the other side and ready for send/receive messages.\n",
    "\n",
    "**PS: It is important to pay attention to the \"offer\" parameter,if this parameter is the same for both peers, communication will not be established.**"
   ]
  },
  {
   "cell_type": "code",
   "execution_count": 4,
   "metadata": {},
   "outputs": [
    {
     "name": "stdout",
     "output_type": "stream",
     "text": [
      "> Using a running event loop\n"
     ]
    }
   ],
   "source": []
  },
  {
   "cell_type": "markdown",
   "metadata": {},
   "source": [
    "## Send/Receive Requests/Responses\n",
    "The great advantage of a full-duplex channel is: You can act as a server and as a client simultaneously."
   ]
  },
  {
   "cell_type": "code",
   "execution_count": 5,
   "metadata": {},
   "outputs": [
    {
     "name": "stdout",
     "output_type": "stream",
     "text": [
      "Send/Request remote operations\n",
      "My Result:  tensor([1024, 2048, 3072, 4096, 5120, 6144])\n"
     ]
    }
   ],
   "source": [
    "print(\"Send/Request remote operations\")\n",
    "x = th.tensor([1,2,3,4,5,6])\n",
    "p_x = x.send(duet)\n",
    "for i in range(10):\n",
    "    p_x = p_x + p_x\n",
    "print(\"My Result: \", p_x.get())"
   ]
  },
  {
   "cell_type": "code",
   "execution_count": null,
   "metadata": {},
   "outputs": [],
   "source": [
    "duet.close()"
   ]
  }
 ],
 "metadata": {
  "kernelspec": {
   "display_name": "Python 3",
   "language": "python",
   "name": "python3"
  },
  "language_info": {
   "codemirror_mode": {
    "name": "ipython",
    "version": 3
   },
   "file_extension": ".py",
   "mimetype": "text/x-python",
   "name": "python",
   "nbconvert_exporter": "python",
   "pygments_lexer": "ipython3",
   "version": "3.7.9"
  }
 },
 "nbformat": 4,
 "nbformat_minor": 4
}
