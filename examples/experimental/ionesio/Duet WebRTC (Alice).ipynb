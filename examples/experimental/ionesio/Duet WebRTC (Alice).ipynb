{
 "cells": [
  {
   "cell_type": "code",
   "execution_count": 1,
   "metadata": {},
   "outputs": [],
   "source": [
    "## Duet WebRTC Demo"
   ]
  },
  {
   "cell_type": "code",
   "execution_count": 6,
   "metadata": {},
   "outputs": [],
   "source": [
    "import syft as sy\n",
    "import torch as th\n",
    "import nest_asyncio\n",
    "\n",
    "from syft.grid.webrtc_duet import Duet\n",
    "from syft.grid.connections.http_client import HTTPClient\n",
    "from syft.core.io.address import Address\n",
    "nest_asyncio.apply()"
   ]
  },
  {
   "cell_type": "code",
   "execution_count": 3,
   "metadata": {},
   "outputs": [],
   "source": [
    "network_client = HTTPClient(\"http://localhost:5000\") # PyGrid Network Signaling Server"
   ]
  },
  {
   "cell_type": "code",
   "execution_count": 4,
   "metadata": {},
   "outputs": [
    {
     "name": "stdout",
     "output_type": "stream",
     "text": [
      "> Creating 🗃️ (MemoryStore) {}\n",
      "> Creating 🏰 Alice (Domain)@<UID:🚺🙕>\n"
     ]
    }
   ],
   "source": [
    "my_domain = sy.Domain(name=\"Alice\")"
   ]
  },
  {
   "cell_type": "code",
   "execution_count": 7,
   "metadata": {},
   "outputs": [],
   "source": [
    "target_address = Address(name=\"Bob\")"
   ]
  },
  {
   "cell_type": "code",
   "execution_count": 8,
   "metadata": {},
   "outputs": [
    {
     "name": "stdout",
     "output_type": "stream",
     "text": [
      "> Using a running event loop\n",
      "> Creating ✉️  (OfferPullRequestMessage) <UID:🚈🚃>\n",
      "> Creating ✉️  (SignalingOfferMessage) <UID:🚅🙙>\n",
      "> Creating ✉️  (SignalingAnswerMessage) <UID:🚅🙘>\n",
      "> Creating 📡 [🏰] Bob Client (Duet)@<UID:🚹🛞>\n",
      "> Creating ✉️  (SaveObjectAction) <UID:🚋🚮>\n",
      "> Creating Signed ✉️ 🔏 (SignedImmediateSyftMessageWithoutReply) <UID:🚴🚦>\n",
      "> ✉️ 🔏 <- 🔢 Proto\n",
      "> Received ✉️ 🔏 (SignedImmediateSyftMessageWithoutReply) @ 🏰 Alice (Domain)@<UID:🚺🙕>\n",
      "> Processing 📨 ✉️ 🔏 (SignedImmediateSyftMessageWithoutReply) @ 🏰 Alice (Domain)@<UID:🚺🙕>\n",
      "> Recipient Found ✉️ 🔏 (SignedImmediateSyftMessageWithoutReply)@<UID:🚺🙕> == 🏰 Alice (Domain)@<UID:🚺🙕>\n",
      "> Creating ✉️  (SaveObjectAction) <UID:🙔🙞>\n",
      "> Creating RunClassMethodAction(torch.Tensor.__add__) <UID:🚆🜐>\n",
      "> Creating Signed ✉️ 🔏 (SignedImmediateSyftMessageWithoutReply) <UID:🚆🜐>\n",
      "> ✉️ 🔏 <- 🔢 Proto\n",
      "> Received ✉️ 🔏 (SignedImmediateSyftMessageWithoutReply) @ 🏰 Alice (Domain)@<UID:🚺🙕>\n",
      "> Processing 📨 ✉️ 🔏 (SignedImmediateSyftMessageWithoutReply) @ 🏰 Alice (Domain)@<UID:🚺🙕>\n",
      "> Recipient Found ✉️ 🔏 (SignedImmediateSyftMessageWithoutReply)@<UID:🚺🙕> == 🏰 Alice (Domain)@<UID:🚺🙕>\n",
      "> Creating RunClassMethodAction(torch.Tensor.__add__) <UID:🚆🜐>\n",
      "> Creating GetObjectAction(<UID:4460ff43-2e83-4c63-b191-148920cd829e>) <UID:🚹🚅>\n",
      "> Creating Signed ✉️ 🔏 (SignedImmediateSyftMessageWithReply) <UID:🚹🚅>\n",
      "> ✉️ 🔏 <- 🔢 Proto\n",
      "> Processing 📨 ✉️ 🔏 (SignedImmediateSyftMessageWithReply) @ 🏰 Alice (Domain)@<UID:🚺🙕>\n",
      "> Recipient Found ✉️ 🔏 (SignedImmediateSyftMessageWithReply)@<UID:🚺🙕> == 🏰 Alice (Domain)@<UID:🚺🙕>\n",
      "> Creating GetObjectAction(<UID:4460ff43-2e83-4c63-b191-148920cd829e>) <UID:🚹🚅>\n",
      "> Creating ✉️  (GetObjectResponseMessage) <UID:🙒🚷>\n",
      "> Signing with 🜣\n",
      "> Creating Signed ✉️ 🔏 (SignedImmediateSyftMessageWithoutReply) <UID:🙒🚷>\n",
      "> 🏰 Alice (Domain)@<UID:🚺🙕> Signing ✉️ 🔏 (SignedImmediateSyftMessageWithoutReply) with 🜣\n",
      "> ✉️ 🔏 -> Proto 🔢\n"
     ]
    }
   ],
   "source": [
    "duet = Duet(node=my_domain, # My Domain Server\n",
    "           address=target_address, # Target Address\n",
    "           network_client=network_client, # Signaling Server Client\n",
    "           offer=False)"
   ]
  },
  {
   "cell_type": "code",
   "execution_count": 9,
   "metadata": {},
   "outputs": [
    {
     "name": "stdout",
     "output_type": "stream",
     "text": [
      "> Creating ✉️  (SaveObjectAction) <UID:🛣🚁>\n",
      "> 📡 [🏰] Bob Client (Duet)@<UID:🚹🛞> Signing ✉️  (SaveObjectAction) with 🛧\n",
      "> Signing with 🛧\n",
      "> Creating Signed ✉️ 🔏 (SignedImmediateSyftMessageWithoutReply) <UID:🛣🚁>\n",
      "> Sending ✉️ 🔏 (SignedImmediateSyftMessageWithoutReply) 📡 [🏰] Bob Client (Duet)@<UID:🚹🛞> ➡️  💠 [🏰] Bob Client (Address)\n",
      "> Routing ✉️ 🔏 (SignedImmediateSyftMessageWithoutReply) via 🛣️  (SoloRoute)\n",
      "> Creating RunClassMethodAction(torch.Tensor.__add__) <UID:🚱🚀>\n",
      "> 📡 [🏰] Bob Client (Duet)@<UID:🚹🛞> Signing RunClassMethodAction(torch.Tensor.__add__) with 🛧\n",
      "> Signing with 🛧\n",
      "> Creating Signed ✉️ 🔏 (SignedImmediateSyftMessageWithoutReply) <UID:🚱🚀>\n",
      "> Sending ✉️ 🔏 (SignedImmediateSyftMessageWithoutReply) 📡 [🏰] Bob Client (Duet)@<UID:🚹🛞> ➡️  💠 [🏰] Bob Client (Address)\n",
      "> Routing ✉️ 🔏 (SignedImmediateSyftMessageWithoutReply) via 🛣️  (SoloRoute)\n",
      "> ✉️ 🔏 -> Proto 🔢\n",
      "> ✉️ 🔏 -> Proto 🔢\n"
     ]
    }
   ],
   "source": [
    "x = th.tensor([1,2,3,4,5,6])\n",
    "p_x = x.send(duet)\n",
    "p_result = p_x + p_x"
   ]
  },
  {
   "cell_type": "code",
   "execution_count": 10,
   "metadata": {},
   "outputs": [
    {
     "name": "stdout",
     "output_type": "stream",
     "text": [
      "> Creating GetObjectAction(<UID:5d2ec399-b82d-41aa-b415-067ed595af7f>) <UID:🙚🚳>\n",
      "> 📡 [🏰] Bob Client (Duet)@<UID:🚹🛞> Signing GetObjectAction(<UID:5d2ec399-b82d-41aa-b415-067ed595af7f>) with 🛧\n",
      "> Signing with 🛧\n",
      "> Creating Signed ✉️ 🔏 (SignedImmediateSyftMessageWithReply) <UID:🙚🚳>\n",
      "> ✉️ 🔏 -> Proto 🔢\n",
      "> Creating ✉️  (GetObjectResponseMessage) <UID:🛚🚵>\n",
      "> Creating Signed ✉️ 🔏 (SignedImmediateSyftMessageWithoutReply) <UID:🛚🚵>\n",
      "> ✉️ 🔏 <- 🔢 Proto\n",
      "> Creating ✉️  (GetObjectResponseMessage) <UID:🛚🚵>\n"
     ]
    },
    {
     "data": {
      "text/plain": [
       "tensor([ 2,  4,  6,  8, 10, 12])"
      ]
     },
     "execution_count": 10,
     "metadata": {},
     "output_type": "execute_result"
    }
   ],
   "source": [
    "p_result.get()"
   ]
  }
 ],
 "metadata": {
  "kernelspec": {
   "display_name": "Python 3",
   "language": "python",
   "name": "python3"
  },
  "language_info": {
   "codemirror_mode": {
    "name": "ipython",
    "version": 3
   },
   "file_extension": ".py",
   "mimetype": "text/x-python",
   "name": "python",
   "nbconvert_exporter": "python",
   "pygments_lexer": "ipython3",
   "version": "3.8.2"
  }
 },
 "nbformat": 4,
 "nbformat_minor": 4
}
