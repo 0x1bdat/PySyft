{
 "cells": [
  {
   "cell_type": "code",
   "execution_count": 1,
   "metadata": {},
   "outputs": [],
   "source": [
    "import syft as sy\n",
    "import torch as th\n",
    "import nest_asyncio\n",
    "from syft.grid.duet.om_signaling_client import register\n",
    "from syft.grid.duet.webrtc_duet import Duet\n",
    "\n",
    "nest_asyncio.apply()\n",
    "sy.VERBOSE = False\n",
    "\n",
    "\n",
    "def join_duet(target_id):\n",
    "\n",
    "    signaling_client = register(url=\"http://ec2-18-191-23-46.us-east-2.compute.amazonaws.com:5000\")\n",
    "    my_domain = sy.Domain(name=\"Joiner\")\n",
    "    print(\"♫♫♫ > Duet Client ID: \" + signaling_client.duet_id)\n",
    "    duet = Duet(node=my_domain,\n",
    "                target_id=target_id,\n",
    "                signaling_client=signaling_client,\n",
    "                offer=False)\n",
    "    \n",
    "#     begin_duet_client_logger(duet)\n",
    "    \n",
    "    return duet"
   ]
  },
  {
   "cell_type": "markdown",
   "metadata": {},
   "source": [
    "## Create a Signaling Client\n",
    "This resource can be used / developed by different nodes (network, domain, device, vm) using different types of connection protocols (http, websocket, etc.)\n",
    "Thus, we abstracted the concept of signaling server, in order to make this process as generic as possible."
   ]
  },
  {
   "cell_type": "code",
   "execution_count": 2,
   "metadata": {},
   "outputs": [
    {
     "name": "stdout",
     "output_type": "stream",
     "text": [
      "♫♫♫ > Duet Client ID: 1237f7a4513d12d0353e3de5a3fdb11d\n",
      "♫♫♫ > ...using a running event loop...\n"
     ]
    }
   ],
   "source": [
    "duet = join_duet(target_id='1fe27ed437b9ee6e4a9033dff678a934')"
   ]
  },
  {
   "cell_type": "code",
   "execution_count": 3,
   "metadata": {},
   "outputs": [
    {
     "name": "stdout",
     "output_type": "stream",
     "text": [
      "Request Message Id:<UID:58bca5f1-65b3-4932-8944-beb55af2830c>\n"
     ]
    }
   ],
   "source": [
    "duet.store[0].request()"
   ]
  },
  {
   "cell_type": "code",
   "execution_count": 24,
   "metadata": {},
   "outputs": [],
   "source": [
    "import time\n",
    "import sys\n",
    "\n",
    "len(duet.requests.pandas)\n",
    "r = duet.requests[0]"
   ]
  },
  {
   "cell_type": "code",
   "execution_count": 28,
   "metadata": {},
   "outputs": [
    {
     "data": {
      "text/plain": [
       "'UNNAMED'"
      ]
     },
     "execution_count": 28,
     "metadata": {},
     "output_type": "execute_result"
    }
   ],
   "source": [
    "r.named"
   ]
  },
  {
   "cell_type": "code",
   "execution_count": 46,
   "metadata": {},
   "outputs": [
    {
     "data": {
      "text/plain": [
       "tensor([1, 2, 3])"
      ]
     },
     "execution_count": 46,
     "metadata": {},
     "output_type": "execute_result"
    }
   ],
   "source": [
    "duet.store[0].get()"
   ]
  },
  {
   "cell_type": "code",
   "execution_count": null,
   "metadata": {},
   "outputs": [],
   "source": []
  },
  {
   "cell_type": "code",
   "execution_count": 6,
   "metadata": {},
   "outputs": [],
   "source": [
    "x = th.tensor([1,2,3,4,5,6])\n",
    "p_x = x.send(duet, searchable=True)"
   ]
  },
  {
   "cell_type": "code",
   "execution_count": 10,
   "metadata": {},
   "outputs": [],
   "source": [
    "p_x.__del__()"
   ]
  },
  {
   "cell_type": "code",
   "execution_count": 12,
   "metadata": {},
   "outputs": [],
   "source": [
    "import gc"
   ]
  },
  {
   "cell_type": "code",
   "execution_count": 15,
   "metadata": {},
   "outputs": [
    {
     "data": {
      "text/plain": [
       "22"
      ]
     },
     "execution_count": 15,
     "metadata": {},
     "output_type": "execute_result"
    }
   ],
   "source": [
    "gc.collect()"
   ]
  },
  {
   "cell_type": "code",
   "execution_count": 19,
   "metadata": {},
   "outputs": [
    {
     "data": {
      "text/plain": [
       "[]"
      ]
     },
     "execution_count": 19,
     "metadata": {},
     "output_type": "execute_result"
    }
   ],
   "source": [
    "duet.store"
   ]
  },
  {
   "cell_type": "code",
   "execution_count": null,
   "metadata": {},
   "outputs": [],
   "source": []
  },
  {
   "cell_type": "code",
   "execution_count": null,
   "metadata": {},
   "outputs": [],
   "source": []
  },
  {
   "cell_type": "code",
   "execution_count": 8,
   "metadata": {},
   "outputs": [
    {
     "name": "stdout",
     "output_type": "stream",
     "text": [
      "Send/Request remote operations\n",
      "My Result:  tensor([1024, 2048, 3072, 4096, 5120, 6144])\n"
     ]
    }
   ],
   "source": [
    "print(\"Send/Request remote operations\")\n",
    "x = th.tensor([1,2,3,4,5,6])\n",
    "p_x = x.send(duet, searchable=True)\n",
    "for i in range(10):\n",
    "    p_x = p_x + p_x\n",
    "print(\"My Result: \", p_x.get())"
   ]
  },
  {
   "cell_type": "code",
   "execution_count": null,
   "metadata": {},
   "outputs": [],
   "source": [
    "duet.requests"
   ]
  },
  {
   "cell_type": "code",
   "execution_count": null,
   "metadata": {},
   "outputs": [],
   "source": []
  },
  {
   "cell_type": "code",
   "execution_count": 77,
   "metadata": {},
   "outputs": [],
   "source": [
    "x = th.tensor([1,2,3]).send(duet, searchable=True)"
   ]
  },
  {
   "cell_type": "code",
   "execution_count": 78,
   "metadata": {},
   "outputs": [],
   "source": [
    "y = th.tensor([1,2,3]).send(duet, searchable=True)"
   ]
  },
  {
   "cell_type": "code",
   "execution_count": 79,
   "metadata": {},
   "outputs": [
    {
     "data": {
      "text/html": [
       "<div>\n",
       "<style scoped>\n",
       "    .dataframe tbody tr th:only-of-type {\n",
       "        vertical-align: middle;\n",
       "    }\n",
       "\n",
       "    .dataframe tbody tr th {\n",
       "        vertical-align: top;\n",
       "    }\n",
       "\n",
       "    .dataframe thead th {\n",
       "        text-align: right;\n",
       "    }\n",
       "</style>\n",
       "<table border=\"1\" class=\"dataframe\">\n",
       "  <thead>\n",
       "    <tr style=\"text-align: right;\">\n",
       "      <th></th>\n",
       "      <th>ID</th>\n",
       "      <th>Tags</th>\n",
       "      <th>Description</th>\n",
       "    </tr>\n",
       "  </thead>\n",
       "  <tbody>\n",
       "    <tr>\n",
       "      <th>0</th>\n",
       "      <td>&lt;UID:45d14975-0e6c-4ff2-8ba7-31f47cd1a72a&gt;</td>\n",
       "      <td>[]</td>\n",
       "      <td></td>\n",
       "    </tr>\n",
       "    <tr>\n",
       "      <th>1</th>\n",
       "      <td>&lt;UID:9d76f4e1-62c9-45e1-b4ec-01ad88f1661e&gt;</td>\n",
       "      <td>[]</td>\n",
       "      <td></td>\n",
       "    </tr>\n",
       "  </tbody>\n",
       "</table>\n",
       "</div>"
      ],
      "text/plain": [
       "                                           ID Tags Description\n",
       "0  <UID:45d14975-0e6c-4ff2-8ba7-31f47cd1a72a>   []            \n",
       "1  <UID:9d76f4e1-62c9-45e1-b4ec-01ad88f1661e>   []            "
      ]
     },
     "execution_count": 79,
     "metadata": {},
     "output_type": "execute_result"
    }
   ],
   "source": [
    "duet.store.pandas"
   ]
  },
  {
   "cell_type": "code",
   "execution_count": 80,
   "metadata": {},
   "outputs": [],
   "source": [
    "duet.store['45d14975-0e6c-4ff2-8ba7-31f47cd1a72a'].request()"
   ]
  },
  {
   "cell_type": "code",
   "execution_count": 81,
   "metadata": {},
   "outputs": [],
   "source": [
    "duet.store['9d76f4e1-62c9-45e1-b4ec-01ad88f1661e'].request()"
   ]
  },
  {
   "cell_type": "code",
   "execution_count": null,
   "metadata": {},
   "outputs": [],
   "source": []
  },
  {
   "cell_type": "code",
   "execution_count": null,
   "metadata": {},
   "outputs": [],
   "source": []
  },
  {
   "cell_type": "code",
   "execution_count": 59,
   "metadata": {},
   "outputs": [],
   "source": [
    "duet.store[0].request()"
   ]
  },
  {
   "cell_type": "code",
   "execution_count": 66,
   "metadata": {},
   "outputs": [],
   "source": [
    "duet.store[0].request()"
   ]
  },
  {
   "cell_type": "code",
   "execution_count": 51,
   "metadata": {},
   "outputs": [
    {
     "data": {
      "text/plain": [
       "tensor([1, 2, 3])"
      ]
     },
     "execution_count": 51,
     "metadata": {},
     "output_type": "execute_result"
    }
   ],
   "source": [
    "duet.store[0].get()"
   ]
  },
  {
   "cell_type": "code",
   "execution_count": 56,
   "metadata": {},
   "outputs": [
    {
     "data": {
      "text/plain": [
       "tensor([1, 2, 3])"
      ]
     },
     "execution_count": 56,
     "metadata": {},
     "output_type": "execute_result"
    }
   ],
   "source": [
    "duet.store[0].get()"
   ]
  },
  {
   "cell_type": "code",
   "execution_count": null,
   "metadata": {},
   "outputs": [],
   "source": []
  },
  {
   "cell_type": "code",
   "execution_count": 3,
   "metadata": {},
   "outputs": [
    {
     "name": "stdout",
     "output_type": "stream",
     "text": [
      "Send/Request remote operations\n",
      "My Result:  tensor([1024, 2048, 3072, 4096, 5120, 6144])\n"
     ]
    }
   ],
   "source": []
  },
  {
   "cell_type": "code",
   "execution_count": null,
   "metadata": {},
   "outputs": [],
   "source": []
  },
  {
   "cell_type": "code",
   "execution_count": null,
   "metadata": {},
   "outputs": [],
   "source": []
  },
  {
   "cell_type": "code",
   "execution_count": null,
   "metadata": {},
   "outputs": [],
   "source": []
  },
  {
   "cell_type": "code",
   "execution_count": 3,
   "metadata": {},
   "outputs": [
    {
     "name": "stdout",
     "output_type": "stream",
     "text": [
      "Duet ID:  820ad28ebb50f10356cf155cdd1c68cb\n",
      "Please enter ID of node you're connecting to!\n"
     ]
    },
    {
     "name": "stdin",
     "output_type": "stream",
     "text": [
      " ad824e6a7c9c483e138e175ba223bcf7\n"
     ]
    },
    {
     "name": "stdout",
     "output_type": "stream",
     "text": [
      "> Using a running event loop\n"
     ]
    }
   ],
   "source": [
    "signaling_client2 = register(url=\"http://ec2-18-222-9-218.us-east-2.compute.amazonaws.com:5000\")\n",
    "my_domain2 = sy.Domain(name=\"Maria2\")\n",
    "print(\"Please enter ID of node you're connecting to!\")\n",
    "target_id2 = input()\n",
    "\n",
    "duet2 = Duet(node=my_domain2,\n",
    "            target_id=target_id2,\n",
    "            signaling_client=signaling_client2,\n",
    "            offer=False)"
   ]
  },
  {
   "cell_type": "code",
   "execution_count": 4,
   "metadata": {},
   "outputs": [
    {
     "name": "stdout",
     "output_type": "stream",
     "text": [
      "Send/Request remote operations\n",
      "Pointer:  <syft.proxy.torch.TensorPointer object at 0x7fe0010af910>\n",
      "My Result:  tensor([1024, 2048, 3072, 4096, 5120, 6144])\n"
     ]
    }
   ],
   "source": [
    "print(\"Send/Request remote operations\")\n",
    "x = th.tensor([1,2,3,4,5,6])\n",
    "p_x = x.send(duet)\n",
    "for i in range(10):\n",
    "    p_x = p_x + p_x\n",
    "print(\"Pointer: \", p_x)\n",
    "print(\"My Result: \", p_x.get())"
   ]
  },
  {
   "cell_type": "code",
   "execution_count": 5,
   "metadata": {},
   "outputs": [
    {
     "name": "stdout",
     "output_type": "stream",
     "text": [
      "Send/Request remote operations\n",
      "Pointer:  <syft.proxy.torch.TensorPointer object at 0x7fe0010b3a50>\n",
      "My Result:  tensor([1024, 2048, 3072, 4096, 5120, 6144])\n"
     ]
    },
    {
     "name": "stderr",
     "output_type": "stream",
     "text": [
      "Exception in callback Transaction.__retry()\n",
      "handle: <TimerHandle when=250.704957293 Transaction.__retry()>\n",
      "Traceback (most recent call last):\n",
      "  File \"/Users/atrask/opt/anaconda3/envs/syft/lib/python3.7/site-packages/nest_asyncio.py\", line 190, in run\n",
      "    ctx.run(self._callback, *self._args)\n",
      "  File \"/Users/atrask/opt/anaconda3/envs/syft/lib/python3.7/site-packages/aioice/stun.py\", line 299, in __retry\n",
      "    self.__future.set_exception(TransactionTimeout())\n",
      "  File \"/Users/atrask/opt/anaconda3/envs/syft/lib/python3.7/asyncio/futures.py\", line 249, in set_exception\n",
      "    raise InvalidStateError('{}: {!r}'.format(self._state, self))\n",
      "asyncio.base_futures.InvalidStateError: FINISHED: <Future finished result=(Message(messa...xe4\\x17\\xaa+'), ('192.168.0.36', 52893))>\n"
     ]
    }
   ],
   "source": [
    "print(\"Send/Request remote operations\")\n",
    "x = th.tensor([1,2,3,4,5,6])\n",
    "p_x = x.send(duet2)\n",
    "for i in range(10):\n",
    "    p_x = p_x + p_x\n",
    "print(\"Pointer: \", p_x)\n",
    "print(\"My Result: \", p_x.get())"
   ]
  },
  {
   "cell_type": "markdown",
   "metadata": {},
   "source": [
    "## Create Our Domain\n",
    "Now, we need to create our domain which will work as a server, computing remote requests."
   ]
  },
  {
   "cell_type": "code",
   "execution_count": 4,
   "metadata": {},
   "outputs": [],
   "source": [
    "my_domain = sy.Domain(name=\"Maria\")"
   ]
  },
  {
   "cell_type": "markdown",
   "metadata": {},
   "source": [
    "## Start Duet Process\n",
    "Now, we can start our ICE protocol, if everything goes well, at the end of this process we'll be connected\n",
    "with the other side and ready for send/receive messages.\n",
    "\n",
    "**PS: It is important to pay attention to the \"offer\" parameter,if this parameter is the same for both peers, communication will not be established.**"
   ]
  },
  {
   "cell_type": "code",
   "execution_count": 5,
   "metadata": {},
   "outputs": [
    {
     "name": "stdout",
     "output_type": "stream",
     "text": [
      "> Using a running event loop\n"
     ]
    }
   ],
   "source": [
    "duet = Duet(node=my_domain,\n",
    "            target_id=\"265745f02c677aabe7fd8a10b0087ab7\",\n",
    "            signaling_client=signaling_client,\n",
    "            offer=False)"
   ]
  },
  {
   "cell_type": "markdown",
   "metadata": {},
   "source": [
    "## Send/Receive Requests/Responses\n",
    "The great advantage of a full-duplex channel is: You can act as a server and as a client simultaneously."
   ]
  },
  {
   "cell_type": "code",
   "execution_count": 6,
   "metadata": {},
   "outputs": [
    {
     "name": "stdout",
     "output_type": "stream",
     "text": [
      "Send/Request remote operations\n",
      "Pointer:  <syft.proxy.torch.TensorPointer object at 0x7fac80b9c710>\n",
      "My Result:  tensor([1024, 2048, 3072, 4096, 5120, 6144])\n"
     ]
    }
   ],
   "source": [
    "print(\"Send/Request remote operations\")\n",
    "x = th.tensor([1,2,3,4,5,6])\n",
    "p_x = x.send(duet)\n",
    "for i in range(10):\n",
    "    p_x = p_x + p_x\n",
    "print(\"Pointer: \", p_x)\n",
    "print(\"My Result: \", p_x.get())"
   ]
  },
  {
   "cell_type": "code",
   "execution_count": null,
   "metadata": {},
   "outputs": [],
   "source": [
    "duet.close()"
   ]
  }
 ],
 "metadata": {
  "kernelspec": {
   "display_name": "Python 3",
   "language": "python",
   "name": "python3"
  },
  "language_info": {
   "codemirror_mode": {
    "name": "ipython",
    "version": 3
   },
   "file_extension": ".py",
   "mimetype": "text/x-python",
   "name": "python",
   "nbconvert_exporter": "python",
   "pygments_lexer": "ipython3",
   "version": "3.7.9"
  }
 },
 "nbformat": 4,
 "nbformat_minor": 4
}
