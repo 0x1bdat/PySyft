{
 "cells": [
  {
   "cell_type": "markdown",
   "metadata": {},
   "source": [
    "### Ignore the following cell\n",
    "\n",
    "In the following cell I create the fake output that I will return later in the notebook"
   ]
  },
  {
   "cell_type": "code",
   "execution_count": 64,
   "metadata": {},
   "outputs": [],
   "source": [
    "import pandas as pd\n",
    "\n",
    "class Grid():\n",
    "    \"\"\n",
    "gr = Grid()\n",
    "\n",
    "#ignore this...it's just to support the mock API\n",
    "columns=[\"id\", \"Name\", \"Datasets\", \"Models\", \"Domains\", \"Online\", \"Registered\"]\n",
    "data = [[235252, \"OpenGrid\", 235262, 2352, 2532, 2352, 23],\n",
    "       [634252, \"AMA\", 2352, 236622, 53, 52, 23],\n",
    "       [745742, \"CDC\", 35, 0, 5, 5, 5]]\n",
    "networks = pd.DataFrame(columns=columns, data=data)\n",
    "networks = networks.set_index(\"Name\")    \n",
    "gr.networks = networks\n",
    "\n",
    "def register_network(network):\n",
    "    \n",
    "    return True\n",
    "\n",
    "gr.register_network = register_network"
   ]
  },
  {
   "cell_type": "markdown",
   "metadata": {},
   "source": [
    "# Step 1: Imports\n",
    "\n",
    "To start, from a client perspective, we want to maximize for convenience and minimize the number of dependencies one needs to install to work with PyGrid. Thus, in an ideal world, users only have to install one python package in order to work with all of pygrid. I like the current design in syft 0.2.x where we have grid clients in a grid package inside of Syft. The thing we definitely want to avoid here is the need for users of PyGrid to have to install all of the dependencies needed to _run grid nodes_ (flask, databases, etc.) just to be able to interact with the grid. Putting grid inside of syft solves this as well."
   ]
  },
  {
   "cell_type": "code",
   "execution_count": 58,
   "metadata": {},
   "outputs": [],
   "source": [
    "# import syft as sy\n",
    "# from syft import grid as gr"
   ]
  },
  {
   "cell_type": "markdown",
   "metadata": {},
   "source": [
    "# Step 2: Default Networks\n",
    "\n",
    "By default, it would be really great if we could support a combination of two lists of networks:\n",
    "\n",
    "- networks which all users of PySyft have by default (OpenGrid)\n",
    "- a history of all networks previously accessed (stored in some local config file)\n",
    "\n",
    "We should be able to view these available networks by just calling `gr.networks` which should pretty-print information about them. Below we show one way to do pretty-print using just a Pandas table as shown below."
   ]
  },
  {
   "cell_type": "code",
   "execution_count": 71,
   "metadata": {},
   "outputs": [
    {
     "ename": "TypeError",
     "evalue": "'DataFrame' object is not callable",
     "output_type": "error",
     "traceback": [
      "\u001b[0;31m---------------------------------------------------------------------------\u001b[0m",
      "\u001b[0;31mTypeError\u001b[0m                                 Traceback (most recent call last)",
      "\u001b[0;32m<ipython-input-71-5ac4cd93f536>\u001b[0m in \u001b[0;36m<module>\u001b[0;34m\u001b[0m\n\u001b[0;32m----> 1\u001b[0;31m \u001b[0mgr\u001b[0m\u001b[0;34m.\u001b[0m\u001b[0mnetworks\u001b[0m\u001b[0;34m(\u001b[0m\u001b[0mName\u001b[0m\u001b[0;34m=\u001b[0m\u001b[0;34m\"OpenGrid\"\u001b[0m\u001b[0;34m)\u001b[0m\u001b[0;34m\u001b[0m\u001b[0;34m\u001b[0m\u001b[0m\n\u001b[0m",
      "\u001b[0;31mTypeError\u001b[0m: 'DataFrame' object is not callable"
     ]
    }
   ],
   "source": [
    "gr.networks(Name=\"OpenGrid\")"
   ]
  },
  {
   "cell_type": "code",
   "execution_count": 54,
   "metadata": {},
   "outputs": [
    {
     "data": {
      "text/plain": [
       "True"
      ]
     },
     "execution_count": 54,
     "metadata": {},
     "output_type": "execute_result"
    }
   ],
   "source": [
    "gr.register_network('ws://nhs.co.uk/pygrid') # it's a network"
   ]
  },
  {
   "cell_type": "code",
   "execution_count": null,
   "metadata": {},
   "outputs": [],
   "source": []
  },
  {
   "cell_type": "code",
   "execution_count": null,
   "metadata": {},
   "outputs": [],
   "source": []
  },
  {
   "cell_type": "code",
   "execution_count": null,
   "metadata": {},
   "outputs": [],
   "source": [
    "\n",
    "\n",
    "# diabetesSearch = network.search('diabetes') # search dataset name, description, and tags for 'diabetes'\n",
    "diabetesSearch = network.search({ tag: 'diabetes' }) # specifically search for datasets with a tag of 'diabetes'\n",
    "\n",
    "print(diabetesSearch)\n",
    "\n",
    "\"\"\"\n",
    "[\n",
    "  {\n",
    "    id: 1,\n",
    "    name: 'Diabetes is terrible',\n",
    "    description: '',\n",
    "    node: 'ws://ucsf.com/pygrid',\n",
    "    tags: ['diabetes', 'california', 'ucsf'],\n",
    "    tensors: [\n",
    "      {\n",
    "        id: '1a',\n",
    "        name: 'data',\n",
    "        schema: []\n",
    "      },\n",
    "      {\n",
    "        id: '1b',\n",
    "        name: 'target',\n",
    "        schema: []\n",
    "      }\n",
    "    ]\n",
    "  },\n",
    "  ...\n",
    "]\n",
    "\"\"\"\n",
    "\n",
    "network.disconnect()\n",
    "\n",
    "client = grid.connect(diabetesSearch[0].node) # 'ws://ucsf.com/pygrid'\n",
    "\n",
    "user = client.signup('me@patrickcason.com', 'password')\n",
    "# user = client.login('me@patrickcason.com', 'password')  # or, if you're already signed up\n",
    "\n",
    "computeTypes = client.getComputeTypes()\n",
    "\n",
    "\"\"\"\n",
    "[\n",
    "  {\n",
    "    id: 1,\n",
    "    name: 'EC2 P3',\n",
    "    provider: 'AWS',\n",
    "    cpu: {\n",
    "      type: 'Intel Xeon 3.4GHz',\n",
    "      cores: 32\n",
    "    },\n",
    "    gpu: {\n",
    "      type: 'Tesla V100',\n",
    "      min: 0,\n",
    "      max: 8\n",
    "    },\n",
    "    ram: {\n",
    "      value: 64,\n",
    "      ordinal: 'gb'\n",
    "    }\n",
    "  },\n",
    "  ...\n",
    "]\n",
    "\"\"\"\n",
    "\n",
    "# env = user.createEnvironment() # creates the basic \"default\" environment for exploring\n",
    "\n",
    "env = user.createEnvironment(computeTypes[0].id, {\n",
    "    ram: Grid.RAM(32, 'gb'),\n",
    "    gpu: 3\n",
    "})\n",
    "\n",
    "# Do stuff with \"env\"\n",
    "\n",
    "# user.getEnvironments();"
   ]
  }
 ],
 "metadata": {
  "kernelspec": {
   "display_name": "Python 3",
   "language": "python",
   "name": "python3"
  },
  "language_info": {
   "codemirror_mode": {
    "name": "ipython",
    "version": 3
   },
   "file_extension": ".py",
   "mimetype": "text/x-python",
   "name": "python",
   "nbconvert_exporter": "python",
   "pygments_lexer": "ipython3",
   "version": "3.8.1"
  }
 },
 "nbformat": 4,
 "nbformat_minor": 4
}
