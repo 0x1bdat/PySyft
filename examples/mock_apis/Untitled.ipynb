{
 "cells": [
  {
   "cell_type": "code",
   "execution_count": 1,
   "metadata": {},
   "outputs": [],
   "source": [
    "import syft as sy\n",
    "import torch as th\n",
    "from torch import nn\n",
    "import pprint"
   ]
  },
  {
   "cell_type": "code",
   "execution_count": 14,
   "metadata": {},
   "outputs": [],
   "source": [
    "bob = sy.VirtualMachine(name=\"bob\").get_client()\n",
    "\n",
    "class PlanPointer():\n",
    "    \n",
    "    def __init__(self):\n",
    "        self.name = \"train_plan1\"\n",
    "        self.description = \"\"\"This plan can train a linear model with \\\n",
    "one weight update using an internal dataset. You only need \\\n",
    "to pass in a linear model to use it\"\"\"\n",
    "        self.kwarg_types = {'model' : nn.Linear}\n",
    "        self.return_types = {'model' : nn.Linear}\n",
    "        self.quota = 10\n",
    "        \n",
    "    def __call__(self, *args, **kwargs):\n",
    "        self.quota -= 1\n",
    "        return \"\"\n",
    "        \n",
    "    def __str__(self):\n",
    "        pprint.pprint(self.__dict__)\n",
    "        return \"\"\n",
    "    \n",
    "    def __repr__(self):\n",
    "        return str(self)\n",
    "\n",
    "train_plan1 = PlanPointer()\n",
    "    \n",
    "bob.plans = {'train_plan1' : train_plan1}"
   ]
  },
  {
   "cell_type": "code",
   "execution_count": 15,
   "metadata": {},
   "outputs": [
    {
     "name": "stdout",
     "output_type": "stream",
     "text": [
      "{'description': 'This plan can train a linear model with one weight update '\n",
      "                'using an internal dataset. You only need to pass in a linear '\n",
      "                'model to use it',\n",
      " 'kwarg_types': {'model': <class 'torch.nn.modules.linear.Linear'>},\n",
      " 'name': 'train_plan1',\n",
      " 'quota': 10,\n",
      " 'return_types': {'model': <class 'torch.nn.modules.linear.Linear'>}}\n"
     ]
    },
    {
     "data": {
      "text/plain": [
       "{'train_plan1': }"
      ]
     },
     "execution_count": 15,
     "metadata": {},
     "output_type": "execute_result"
    }
   ],
   "source": [
    "bob.plans"
   ]
  },
  {
   "cell_type": "code",
   "execution_count": 22,
   "metadata": {},
   "outputs": [],
   "source": [
    "train_plan1 = bob.plans['train_plan1']"
   ]
  },
  {
   "cell_type": "code",
   "execution_count": 23,
   "metadata": {},
   "outputs": [
    {
     "name": "stdout",
     "output_type": "stream",
     "text": [
      "{'description': 'This plan can train a linear model with one weight update '\n",
      "                'using an internal dataset. You only need to pass in a linear '\n",
      "                'model to use it',\n",
      " 'kwarg_types': {'model': <class 'torch.nn.modules.linear.Linear'>},\n",
      " 'name': 'train_plan1',\n",
      " 'quota': 10,\n",
      " 'return_types': {'model': <class 'torch.nn.modules.linear.Linear'>}}\n"
     ]
    },
    {
     "data": {
      "text/plain": []
     },
     "execution_count": 23,
     "metadata": {},
     "output_type": "execute_result"
    }
   ],
   "source": [
    "train_plan1"
   ]
  },
  {
   "cell_type": "code",
   "execution_count": 24,
   "metadata": {},
   "outputs": [
    {
     "ename": "AttributeError",
     "evalue": "'VirtualMachineClient' object has no attribute 'approved_plans'",
     "output_type": "error",
     "traceback": [
      "\u001b[0;31m---------------------------------------------------------------------------\u001b[0m",
      "\u001b[0;31mAttributeError\u001b[0m                            Traceback (most recent call last)",
      "\u001b[0;32m<ipython-input-24-243310d5b46d>\u001b[0m in \u001b[0;36m<module>\u001b[0;34m\u001b[0m\n\u001b[0;32m----> 1\u001b[0;31m \u001b[0mmodel2\u001b[0m \u001b[0;34m=\u001b[0m \u001b[0mbob\u001b[0m\u001b[0;34m.\u001b[0m\u001b[0mapproved_plans\u001b[0m\u001b[0;34m[\u001b[0m\u001b[0;34m'model_train_step'\u001b[0m\u001b[0;34m]\u001b[0m\u001b[0;34m(\u001b[0m\u001b[0mmodel\u001b[0m\u001b[0;34m)\u001b[0m\u001b[0;34m\u001b[0m\u001b[0;34m\u001b[0m\u001b[0m\n\u001b[0m\u001b[1;32m      2\u001b[0m \u001b[0mmodel2\u001b[0m\u001b[0;34m.\u001b[0m\u001b[0mget\u001b[0m\u001b[0;34m(\u001b[0m\u001b[0;34m)\u001b[0m\u001b[0;34m\u001b[0m\u001b[0;34m\u001b[0m\u001b[0m\n",
      "\u001b[0;31mAttributeError\u001b[0m: 'VirtualMachineClient' object has no attribute 'approved_plans'"
     ]
    }
   ],
   "source": [
    "model2 = bob.approved_plans['model_train_step'](model)\n",
    "model2.get()"
   ]
  },
  {
   "cell_type": "code",
   "execution_count": 3,
   "metadata": {},
   "outputs": [],
   "source": [
    "@create_plan()\n",
    "def some_secure_functionality(x):\n",
    "    \n",
    "    y = x + x\n",
    "    z = y + y\n",
    "    a = z + z\n",
    "    b = a + a\n",
    "    \n",
    "    # some differential privacy code here\n",
    "    \n",
    "    return b"
   ]
  },
  {
   "cell_type": "code",
   "execution_count": null,
   "metadata": {},
   "outputs": [],
   "source": [
    "plan_ptr = some_secure_functionality.send(bob)\n",
    "remote_y = plan_ptr(remote_x)"
   ]
  }
 ],
 "metadata": {
  "kernelspec": {
   "display_name": "Python 3",
   "language": "python",
   "name": "python3"
  },
  "language_info": {
   "codemirror_mode": {
    "name": "ipython",
    "version": 3
   },
   "file_extension": ".py",
   "mimetype": "text/x-python",
   "name": "python",
   "nbconvert_exporter": "python",
   "pygments_lexer": "ipython3",
   "version": "3.8.3"
  }
 },
 "nbformat": 4,
 "nbformat_minor": 4
}
