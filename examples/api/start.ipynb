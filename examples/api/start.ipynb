{
 "cells": [
  {
   "cell_type": "markdown",
   "metadata": {},
   "source": [
    "# Welcome to PySyft"
   ]
  },
  {
   "cell_type": "markdown",
   "metadata": {},
   "source": [
    "The goal of this notebook is to provide step by step explanation of the internal workings of PySyft for developers and have working examples of the API to play with."
   ]
  },
  {
   "cell_type": "markdown",
   "metadata": {},
   "source": [
    "**Note:** You should be able to run these without any issues. This notebook will be automatically run by CI and flagged if it fails. If your commit breaks this notebook, either fix the issue or add some information here for others."
   ]
  },
  {
   "cell_type": "code",
   "execution_count": null,
   "metadata": {},
   "outputs": [],
   "source": [
    "assert True is True"
   ]
  },
  {
   "cell_type": "code",
   "execution_count": null,
   "metadata": {},
   "outputs": [],
   "source": [
    "import sys\n",
    "import pytest\n",
    "import syft as sy\n",
    "from syft.core.node.common.service.auth import AuthorizationException\n",
    "from syft.util import key_emoji\n",
    "sy.LOG_FILE = \"syft_do.log\"\n",
    "sy.logger.remove()\n",
    "_ = sy.logger.add(sys.stdout, level=\"DEBUG\")"
   ]
  },
  {
   "cell_type": "markdown",
   "metadata": {},
   "source": [
    "Bob decides has some data he wants to share with Alice using PySyft.\n",
    "The first thing Bob needs to do is to create a Node to handle all the PySyft services he will need to safely and securely share his data with Alice."
   ]
  },
  {
   "cell_type": "code",
   "execution_count": null,
   "metadata": {},
   "outputs": [],
   "source": [
    "some_device = sy.Device()"
   ]
  },
  {
   "cell_type": "markdown",
   "metadata": {},
   "source": [
    "This is a device, it is a Node and it has a name, id and address."
   ]
  },
  {
   "cell_type": "code",
   "execution_count": null,
   "metadata": {},
   "outputs": [],
   "source": [
    "print(some_device.name, some_device.id, some_device.address)"
   ]
  },
  {
   "cell_type": "markdown",
   "metadata": {},
   "source": [
    "The ID is a class called UID which is essentially a uuid. The address is a combination of up to four different locations, identifying the path to resolve the final target of the address."
   ]
  },
  {
   "cell_type": "code",
   "execution_count": null,
   "metadata": {},
   "outputs": [],
   "source": [
    "print(some_device.address.vm, some_device.address.device, some_device.address.domain, some_device.address.network)\n",
    "print(some_device.address.target_id)"
   ]
  },
  {
   "cell_type": "markdown",
   "metadata": {},
   "source": [
    "UIDs are hard to read and compare so we have a function which converts them to 2 x emoji.\n",
    "Just like the \"name\", Emoji uniqueness is not guaranteed but is very useful during debugging."
   ]
  },
  {
   "cell_type": "code",
   "execution_count": null,
   "metadata": {},
   "outputs": [],
   "source": [
    "print(some_device.address.target_id.pprint)\n",
    "print(some_device.address.pprint)"
   ]
  },
  {
   "cell_type": "markdown",
   "metadata": {},
   "source": [
    "Most things that are \"pretty printed\" include an emoji, a name and a class, additionally with a UID and \"visual UID\" emoji.  \n",
    "📌 some_device.address.target_id is a \"Location\" which is pointing to this specific location with a name and address.  \n",
    "💠 [📱] some_device.address is the \"Address\" of some_device (Think up to 4 x locations) in this case the contents of the List [] show it only has the Location of a device currently.\n",
    "\n",
    "**note:** Sometimes Emojis look like this: 🙓. The dynamically generated code point does not have an Emoji. A PR to fix this, would be welcome. 🙂"
   ]
  },
  {
   "cell_type": "code",
   "execution_count": null,
   "metadata": {},
   "outputs": [],
   "source": [
    "print(some_device.id, some_device.address.target_id.id)\n",
    "print(some_device.id.emoji(), \"==\", some_device.address.target_id.id.emoji())\n",
    "print(some_device.pprint)\n",
    "assert some_device.id == some_device.address.target_id.id"
   ]
  },
  {
   "cell_type": "markdown",
   "metadata": {},
   "source": [
    "Interaction with a Node like a device is always done through a client. Clients can \"send\" messages and Nodes can \"receive\" them. Bob needs to get a client for his device. But first it might be a good idea to name the device so that it's easier to follow."
   ]
  },
  {
   "cell_type": "code",
   "execution_count": null,
   "metadata": {},
   "outputs": [],
   "source": [
    "bob_device = sy.Device(name=\"Bob's iPhone\")\n",
    "assert bob_device.name == \"Bob's iPhone\""
   ]
  },
  {
   "cell_type": "code",
   "execution_count": null,
   "metadata": {},
   "outputs": [],
   "source": [
    "bob_device_client = bob_device.get_client()"
   ]
  },
  {
   "cell_type": "markdown",
   "metadata": {},
   "source": [
    "When you ask a node for a client you get a \"Client\" which is named after the device and has the same \"UID\" and \"Address\" (4 x Locations) as the device it was created from, and it will have a \"Route\" that connects it to the \"Device\""
   ]
  },
  {
   "cell_type": "code",
   "execution_count": null,
   "metadata": {},
   "outputs": [],
   "source": [
    "assert bob_device_client.name == \"Bob's iPhone Client\""
   ]
  },
  {
   "cell_type": "code",
   "execution_count": null,
   "metadata": {},
   "outputs": [],
   "source": [
    "print(bob_device_client.pprint, bob_device.pprint)\n",
    "print(bob_device.id.emoji(), \"==\", bob_device_client.id.emoji())\n",
    "assert bob_device.id == bob_device_client.device.id\n",
    "assert bob_device.address == bob_device_client.address"
   ]
  },
  {
   "cell_type": "markdown",
   "metadata": {},
   "source": [
    "📡 [📱] Bob's iPhone Client is a \"DeviceClient\" and it has the same UID and \"Address\" as Bob's Device"
   ]
  },
  {
   "cell_type": "markdown",
   "metadata": {},
   "source": [
    "Now we have something that can send and receive lets take it for a spin.\n",
    "Since everything is handled with a layer of abstraction the smallest unit of work is a \"SyftMessage\". Very little can be done without sending a message from a Client to a Node. There are many types of \"SyftMessage\" which boil down to whether or not they are Sync or Async, and whether or not they expect a response.\n",
    "\n",
    "Lets make a ReprMessage which simply gets a message and prints it at its destination Node.\n",
    "SyftMessage's all have an \"address\" field, without this they would never get delivered. They also generally have a msg_id which can be used to keep track of them."
   ]
  },
  {
   "cell_type": "code",
   "execution_count": null,
   "metadata": {},
   "outputs": [],
   "source": [
    "msg = sy.ReprMessage(address=bob_device_client.address)\n",
    "print(msg.pprint)\n",
    "print(bob_device_client.address.pprint)\n",
    "assert msg.address == bob_device_client.address"
   ]
  },
  {
   "cell_type": "markdown",
   "metadata": {},
   "source": [
    "What type of Message is ReprMessage you ask?"
   ]
  },
  {
   "cell_type": "code",
   "execution_count": null,
   "metadata": {},
   "outputs": [],
   "source": [
    "print(sy.ReprMessage.mro())"
   ]
  },
  {
   "cell_type": "markdown",
   "metadata": {},
   "source": [
    "It's an \"Immediate\" \"WithoutReply\" okay so Sync and no response."
   ]
  },
  {
   "cell_type": "markdown",
   "metadata": {},
   "source": [
    "Now lets send it, remember we need a Client not a Node for sending."
   ]
  },
  {
   "cell_type": "code",
   "execution_count": null,
   "metadata": {},
   "outputs": [],
   "source": [
    "with pytest.raises(AuthorizationException):\n",
    "    bob_device_client.send_immediate_msg_without_reply(\n",
    "        msg=sy.ReprMessage(address=bob_device_client.address)\n",
    "    )"
   ]
  },
  {
   "cell_type": "markdown",
   "metadata": {},
   "source": [
    "Oh oh! Why did Auth fail? We'll we can see from the debug that the 🔑 (VerifyKey) of the sender was matched to the 🗝 (Root VerifyKey) of the destination and they don't match. This client does not have sufficient permission to send a ReprMessage."
   ]
  },
  {
   "cell_type": "markdown",
   "metadata": {},
   "source": [
    "First lets take a look at the keys involved."
   ]
  },
  {
   "cell_type": "code",
   "execution_count": null,
   "metadata": {},
   "outputs": [],
   "source": [
    "print(bob_device_client.keys)\n",
    "print(bob_device.keys)\n",
    "\n",
    "assert bob_device_client.verify_key != bob_device.root_verify_key"
   ]
  },
  {
   "cell_type": "markdown",
   "metadata": {},
   "source": [
    "Not to worry we have a solution, lets get a client which does have this permission."
   ]
  },
  {
   "cell_type": "code",
   "execution_count": null,
   "metadata": {},
   "outputs": [],
   "source": [
    "bob_device_client = bob_device.get_root_client()"
   ]
  },
  {
   "cell_type": "markdown",
   "metadata": {},
   "source": [
    "Lets take a look again."
   ]
  },
  {
   "cell_type": "code",
   "execution_count": null,
   "metadata": {},
   "outputs": [],
   "source": [
    "print(bob_device_client.keys)\n",
    "print(bob_device.keys)\n",
    "\n",
    "assert bob_device_client.verify_key == bob_device.root_verify_key"
   ]
  },
  {
   "cell_type": "markdown",
   "metadata": {},
   "source": [
    "Lets try sending the message again."
   ]
  },
  {
   "cell_type": "code",
   "execution_count": null,
   "metadata": {},
   "outputs": [],
   "source": [
    "bob_device_client.send_immediate_msg_without_reply(\n",
    "    msg=sy.ReprMessage(address=bob_device_client.address)\n",
    ")"
   ]
  },
  {
   "cell_type": "markdown",
   "metadata": {},
   "source": [
    "Woohoo! 🎉"
   ]
  },
  {
   "cell_type": "markdown",
   "metadata": {},
   "source": [
    "Okay so there's a lot going on but lets step through it.  \n",
    "The ReprMessage is created by the Client, and then signed with the Client's SigningKey.\n",
    "The SigningKey and VerifyKey are a pair and the VerifyKey is public and derived from the SigningKey.\n",
    "When we call get_root_client() we update the Node with the newly generated key on the Client so that the Client will now have permission to execute root actions.\n",
    "\n",
    "Behind every message type is a service which executes the message on a Node.\n",
    "To run ReprMessage on our Device Node, we can see that during startup it adds a service to handle these kinds of messages:\n",
    "```python\n",
    "# common/node.py\n",
    "self.immediate_services_without_reply.append(ReprService)\n",
    "````\n",
    "\n",
    "Not all actions / services require \"root\". To enable this a decorator is added like so:\n",
    "```python\n",
    "# repr_service.py\n",
    "class ReprService(ImmediateNodeServiceWithoutReply):\n",
    "    @staticmethod\n",
    "    @service_auth(root_only=True)\n",
    "```"
   ]
  },
  {
   "cell_type": "markdown",
   "metadata": {},
   "source": [
    "Okay so Bob has root access to his own device, but he wants to share some data and compute resources of this device to someone else. So to do that he needs to create a \"Sub Node\" which will be a \"VirtualMachine\". Think of this as a partition or slice of his device which can be allocated memory, storage and compute."
   ]
  },
  {
   "cell_type": "code",
   "execution_count": null,
   "metadata": {},
   "outputs": [],
   "source": [
    "bob_vm = sy.VirtualMachine(name=\"Bob's VM\")"
   ]
  },
  {
   "cell_type": "markdown",
   "metadata": {},
   "source": [
    "Since VirtualMachine is a Node (Server) it will need a Client to issue commands to it.\n",
    "Lets make one.  \n",
    "**note:** Why do we need a root client? The registration process is two-way and the Registered will need to update its address in response to a successful registration."
   ]
  },
  {
   "cell_type": "code",
   "execution_count": null,
   "metadata": {},
   "outputs": [],
   "source": [
    "bob_vm_client = bob_vm.get_root_client()"
   ]
  },
  {
   "cell_type": "markdown",
   "metadata": {},
   "source": [
    "Okay so now Bob has two Nodes and their respective clients, but they know nothing of each other.\n",
    "They both have addresses that only point to themselves."
   ]
  },
  {
   "cell_type": "code",
   "execution_count": null,
   "metadata": {},
   "outputs": [],
   "source": [
    "print(bob_device_client.address.pprint)\n",
    "print(bob_vm_client.address.pprint)"
   ]
  },
  {
   "cell_type": "markdown",
   "metadata": {},
   "source": [
    "Lets register Bob's vm with its device since the Device is higher up in the level of scope."
   ]
  },
  {
   "cell_type": "code",
   "execution_count": null,
   "metadata": {},
   "outputs": [],
   "source": [
    "bob_device_client.register(client=bob_vm_client)"
   ]
  },
  {
   "cell_type": "markdown",
   "metadata": {},
   "source": [
    "Whoa.. Okay lots happening. As you can see there are two messages and two Authentications. The first one is the `RegisterChildNodeMessage` which is dispatched to the address of the Device. Once it is received it stores the address of the registering Node and then dispatches a new `HeritageUpdateMessage` back to the sender of the first message.\n",
    "\n",
    "**note:** This is not a reply message, this is a completely independent message that happens to be sent back to the sender's address.\n",
    "```python\n",
    "issubclass(RegisterChildNodeMessage, SignedImmediateSyftMessageWithoutReply)\n",
    "issubclass(HeritageUpdateService, SignedImmediateSyftMessageWithoutReply)\n",
    "```"
   ]
  },
  {
   "cell_type": "markdown",
   "metadata": {},
   "source": [
    "You will also notice that the Messages turned into Protobufs and then Signed.  \n",
    "Lets see how this works for `ReprMessage`."
   ]
  },
  {
   "cell_type": "markdown",
   "metadata": {},
   "source": [
    "1) ✉️  -> Proto 🔢"
   ]
  },
  {
   "cell_type": "markdown",
   "metadata": {},
   "source": [
    "Every message that is sent requires and the following method signatures:\n",
    "```python\n",
    "def _object2proto(self) -> ReprMessage_PB:\n",
    "def _proto2object(proto: ReprMessage_PB) -> \"ReprMessage\":\n",
    "def get_protobuf_schema() -> GeneratedProtocolMessageType:\n",
    "```"
   ]
  },
  {
   "cell_type": "markdown",
   "metadata": {},
   "source": [
    "The get_protobuf_schema method will tell the caller what Protobuf class to use, and then the _object2proto method will be called to turn normal python into a protobuf message."
   ]
  },
  {
   "cell_type": "markdown",
   "metadata": {},
   "source": [
    "```python\n",
    "# repr_service.py\n",
    "def _object2proto(self) -> ReprMessage_PB:\n",
    "    return ReprMessage_PB(\n",
    "        msg_id=serialize(self.id), address=serialize(self.address),\n",
    "    )\n",
    "```"
   ]
  },
  {
   "cell_type": "markdown",
   "metadata": {},
   "source": [
    "Any type which isn't a normal Protobuf primitive must be converted to a proto or serialized before being stored.\n",
    "**note:** self.id and self.address also need to be serialized so this will call their `_object2proto` methods.  "
   ]
  },
  {
   "cell_type": "markdown",
   "metadata": {},
   "source": [
    "At this point we are using code auto generated by `protoc` as per the build script:\n",
    "```bash\n",
    "$ ./scripts/build_proto.sh\n",
    "```"
   ]
  },
  {
   "cell_type": "markdown",
   "metadata": {},
   "source": [
    "Here is the .proto definition for `ReprMessage`"
   ]
  },
  {
   "cell_type": "markdown",
   "metadata": {},
   "source": [
    "```c++\n",
    "// repr_service.proto\n",
    "syntax = \"proto3\";\n",
    "\n",
    "package syft.core.node.common.service;\n",
    "\n",
    "import \"proto/core/common/common_object.proto\";\n",
    "import \"proto/core/io/address.proto\";\n",
    "\n",
    "message ReprMessage {\n",
    "    syft.core.common.UID msg_id = 1;\n",
    "    syft.core.io.Address address = 2;\n",
    "}\n",
    "```\n"
   ]
  },
  {
   "cell_type": "markdown",
   "metadata": {},
   "source": [
    "Once the message needs to be Deserialized the `_proto2object` method will be called."
   ]
  },
  {
   "cell_type": "markdown",
   "metadata": {},
   "source": [
    "```python\n",
    "# repr_service.py\n",
    "return ReprMessage(\n",
    "    msg_id=_deserialize(blob=proto.msg_id),\n",
    "    address=_deserialize(blob=proto.address),\n",
    ")\n",
    "```"
   ]
  },
  {
   "cell_type": "markdown",
   "metadata": {},
   "source": [
    "Two things to pay attention to:\n",
    "1) `RegisterChildNodeMessage` has caused Bob's Device to store an entry representing Bob's VM Address  \n",
    "2) `HeritageUpdateService` has caused Bob's VM to update its address to now include the `SpecificLocation` of Bob's Device.\n",
    "\n",
    "**note:** The Address for Bob's VM Client inside the Store does not include the \"Device\" part of the \"Address\" (4 x Locations) since it isn't updated until after the HeritageUpdateService message is sent."
   ]
  },
  {
   "cell_type": "code",
   "execution_count": null,
   "metadata": {},
   "outputs": [],
   "source": [
    "print(bob_device.store.pprint)\n",
    "assert bob_vm_client.address.target_id.id in bob_device.store\n",
    "print(bob_vm_client.address.pprint, bob_vm_client.address.target_id.id.emoji())"
   ]
  },
  {
   "cell_type": "markdown",
   "metadata": {},
   "source": [
    "What about `SignedMessage`? If you read `message.py` you will see that all messages inherit from `SignedMessage` and as such contain the following fields."
   ]
  },
  {
   "cell_type": "markdown",
   "metadata": {},
   "source": [
    "```c++\n",
    "message SignedMessage {\n",
    "  syft.core.common.UID msg_id = 1;\n",
    "  string obj_type = 2;\n",
    "  bytes signature = 3;\n",
    "  bytes verify_key = 4;\n",
    "  bytes message = 5;\n",
    "}\n",
    "```"
   ]
  },
  {
   "cell_type": "markdown",
   "metadata": {},
   "source": [
    "The actual message is serialized and stored in the `message` field and a hash of its bytes is calculated using the Client's `SigningKey`."
   ]
  },
  {
   "cell_type": "markdown",
   "metadata": {},
   "source": [
    "The contents of `message` are not encrypted and can be read at any time by simply deserializing them."
   ]
  },
  {
   "cell_type": "code",
   "execution_count": null,
   "metadata": {},
   "outputs": [],
   "source": [
    "def get_signed_message_bytes() -> bytes:\n",
    "    # return a signed message fixture containing the uid from get_uid\n",
    "    blob = (\n",
    "        b\"\\xfa\\x02\\x8b\\x02\\n\\x12\\n\\x10\\xbaU\\x10\\x0c`\\xbcB\\x06\\x89\\xa3\\xba\\x7f\\n\\xb4\\xb8\\x93\"\n",
    "        b\"\\x126syft.core.node.common.service.repr_service.ReprMessage\\x1a@h;^#a\\xbb\\x8f\\x9f\"\n",
    "        b\"\\xad\\xde\\xf0i\\xb4\\xfa\\x10\\xab\\t\\xe1qt\\xb7\\xbe\\xd9\\xba\\x1di\\x7f\\xc5+\\xbf(\\xa6\\x86\"\n",
    "        b'\\xe96\\xf5\\xc9\\x86\\xad<\\xb1\\x18p\\xe2T\\xaf\\xbd\\xb6h\\xdd\\xafL\\xd9\\x0cg\\xe5\\xe3\\xe5\"h}'\n",
    "        b'\\xf5\\x1e\\x07\" \\xbd\\\\\\xfe\\x89\\t\\xa20\\rp\\xdf\\xcb\\xf6\\x15\\xfe\\xa1U\\r\\x9a\\xf1.]'\n",
    "        b\"\\xfb4\\x1cAH\\xe9\\x7f.\\x17\\xb6-*Y\\xe2\\x01V\\n\\x12\\n\\x10\\xbaU\\x10\\x0c`\\xbcB\\x06\\x89\\xa3\"\n",
    "        b\"\\xba\\x7f\\n\\xb4\\xb8\\x93\\x12@\\n\\x12Zealous Montalcini8\\x01B(\\n\\x12\\n\\x10P\\xf2sP\\x81\"\n",
    "        b\"\\xa5A\\xea\\xb5F\\xe3J\\x0e\\xa0\\x98\\xa2\\x12\\x12Zealous Montalcini\"\n",
    "    )\n",
    "    return blob"
   ]
  },
  {
   "cell_type": "code",
   "execution_count": null,
   "metadata": {},
   "outputs": [],
   "source": [
    "sig_msg = sy.deserialize(blob=get_signed_message_bytes(), from_bytes=True)"
   ]
  },
  {
   "cell_type": "markdown",
   "metadata": {},
   "source": [
    "We can get the nested message with a property called `message`"
   ]
  },
  {
   "cell_type": "code",
   "execution_count": null,
   "metadata": {},
   "outputs": [],
   "source": [
    "repr_msg = sig_msg.message\n",
    "print(repr_msg.pprint, sig_msg.pprint)\n",
    "print(repr_msg.address.pprint, sig_msg.address.pprint)\n",
    "print(repr_msg.address.target_id.id.emoji(), sig_msg.address.target_id.id.emoji())\n",
    "assert sig_msg.id == repr_msg.id\n",
    "assert sig_msg.address == repr_msg.address"
   ]
  },
  {
   "cell_type": "markdown",
   "metadata": {},
   "source": [
    "Notice the UID's of `ReprMessage` and `SignedImmediateSyftMessageWithoutReply` are the same. So are the delivery addresses."
   ]
  },
  {
   "cell_type": "markdown",
   "metadata": {},
   "source": [
    "But the original bytes are still available and serialization / deserialization or serde (ser/de) is bi-directional and reversible"
   ]
  },
  {
   "cell_type": "code",
   "execution_count": null,
   "metadata": {},
   "outputs": [],
   "source": [
    "assert sy.serialize(repr_msg, to_bytes=True) == sig_msg.serialized_message\n",
    "print(repr_msg.pprint, \" ⬅️ \", sig_msg.pprint)"
   ]
  },
  {
   "cell_type": "code",
   "execution_count": null,
   "metadata": {},
   "outputs": [],
   "source": [
    "from nacl.signing import SigningKey, VerifyKey\n",
    "def get_signing_key() -> SigningKey:\n",
    "    # return a the signing key used to sign the get_signed_message_bytes fixture\n",
    "    key = \"0b38fd089aaf9d3794c7845039718977770f40f5500a067935486625c475e7bd\"\n",
    "    return SigningKey(bytes.fromhex(key))"
   ]
  },
  {
   "cell_type": "markdown",
   "metadata": {},
   "source": [
    "Lets try re-signing it with the same key it was signed with."
   ]
  },
  {
   "cell_type": "code",
   "execution_count": null,
   "metadata": {},
   "outputs": [],
   "source": [
    "sig_msg_comp = repr_msg.sign(signing_key=get_signing_key())"
   ]
  },
  {
   "cell_type": "code",
   "execution_count": null,
   "metadata": {},
   "outputs": [],
   "source": [
    "signing_key = get_signing_key()\n",
    "verify_key = signing_key.verify_key\n",
    "\n",
    "print(f\"SigningKey: {key_emoji(key=signing_key)}\")\n",
    "print(f\"VerifyKey: {key_emoji(key=verify_key)}\")\n",
    "print(type(signing_key), type(verify_key))\n",
    "print(f\"🔑 {key_emoji(key=sig_msg.verify_key)} == {key_emoji(key=verify_key)} 🔑\")\n",
    "print(bytes(verify_key))\n",
    "\n",
    "assert sig_msg_comp == sig_msg\n",
    "assert sig_msg.verify_key == verify_key\n",
    "assert VerifyKey(bytes(verify_key)) == verify_key"
   ]
  },
  {
   "cell_type": "markdown",
   "metadata": {},
   "source": [
    "The message is signed with the `SigningKey`, a consistent `VerifyKey` is derived from the `SigningKey`. Both keys can be transformed to bytes and back easily."
   ]
  },
  {
   "cell_type": "markdown",
   "metadata": {},
   "source": [
    "Okay now Bob wants to protect his Device(s) and its / their VM(s). To do that he needs to add them to a higher level Node called a `Domain`."
   ]
  },
  {
   "cell_type": "code",
   "execution_count": null,
   "metadata": {},
   "outputs": [],
   "source": [
    "bob_domain = sy.Domain(name=\"Bob's Domain\")\n",
    "bob_domain_client = bob_domain.get_root_client()"
   ]
  },
  {
   "cell_type": "markdown",
   "metadata": {},
   "source": [
    "Okay lets follow the same procedure and link up these nodes."
   ]
  },
  {
   "cell_type": "code",
   "execution_count": null,
   "metadata": {},
   "outputs": [],
   "source": [
    "print(bob_domain.address.pprint)"
   ]
  },
  {
   "cell_type": "code",
   "execution_count": null,
   "metadata": {},
   "outputs": [],
   "source": [
    "bob_domain_client.register(client=bob_device_client)"
   ]
  },
  {
   "cell_type": "markdown",
   "metadata": {},
   "source": [
    "That's interesting, we see there's two `HeritageUpdateMessage` that get sent. The address update is \"Flowing\" upward to the leaf VM nodes."
   ]
  },
  {
   "cell_type": "code",
   "execution_count": null,
   "metadata": {},
   "outputs": [],
   "source": [
    "print(bob_vm.address.pprint)\n",
    "print(bob_device.address.pprint)\n",
    "print(bob_domain.address.pprint)\n",
    "assert bob_domain_client.id == bob_device.address.domain.id\n",
    "assert bob_device.id == bob_vm.address.device.id"
   ]
  },
  {
   "cell_type": "markdown",
   "metadata": {},
   "source": [
    "Now that the Nodes are aware of each other, we can send a message to any child node by dispatching a message on a parent Client and addressing the Child node.\n",
    "**note:** We are changing the bob_vm root_verify_key because ReprMessage is a root message. We should change this example."
   ]
  },
  {
   "cell_type": "markdown",
   "metadata": {},
   "source": [
    "Note, the repr service has the service_auth decorator.  \n",
    "`@service_auth(root_only=True)`\n",
    "\n",
    "```python\n",
    "class ReprService(ImmediateNodeServiceWithoutReply):\n",
    "    @staticmethod\n",
    "    @service_auth(root_only=True)\n",
    "    def process(node: AbstractNode, msg: ReprMessage, verify_key: VerifyKey) -> None:\n",
    "        print(node.__repr__())\n",
    "\n",
    "    @staticmethod\n",
    "    def message_handler_types() -> List[Type[ReprMessage]]:\n",
    "        return [ReprMessage]\n",
    "\n",
    "```"
   ]
  },
  {
   "cell_type": "markdown",
   "metadata": {},
   "source": [
    "For the purpose of the demonstration we will override the destination nodes root_verify_key with one of our new domain clients and the secure ReprMessage will be executed. Normally the remote node is not running in the same python REPL as the client."
   ]
  },
  {
   "cell_type": "code",
   "execution_count": null,
   "metadata": {},
   "outputs": [],
   "source": [
    "# Just to bypass the auth we will set the root verify key on destination so that it will accept this message\n",
    "bob_vm.root_verify_key = bob_domain_client.verify_key  # inject 📡🔑 as 📍🗝\n",
    "bob_domain_client.send_immediate_msg_without_reply(\n",
    "    msg=sy.ReprMessage(address=bob_vm.address)\n",
    ")"
   ]
  }
 ],
 "metadata": {
  "kernelspec": {
   "display_name": "Python 3",
   "language": "python",
   "name": "python3"
  },
  "language_info": {
   "codemirror_mode": {
    "name": "ipython",
    "version": 3
   },
   "file_extension": ".py",
   "mimetype": "text/x-python",
   "name": "python",
   "nbconvert_exporter": "python",
   "pygments_lexer": "ipython3",
   "version": "3.7.9"
  },
  "pycharm": {
   "stem_cell": {
    "cell_type": "raw",
    "metadata": {
     "collapsed": false
    },
    "source": []
   }
  }
 },
 "nbformat": 4,
 "nbformat_minor": 4
}
