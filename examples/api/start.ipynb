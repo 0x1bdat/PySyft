{
 "cells": [
  {
   "cell_type": "markdown",
   "metadata": {},
   "source": [
    "# Welcome to PySyft"
   ]
  },
  {
   "cell_type": "markdown",
   "metadata": {},
   "source": [
    "The goal of this notebook is to provide step by step explanation of the internal workings of PySyft for developers and have working examples of the API to play with."
   ]
  },
  {
   "cell_type": "markdown",
   "metadata": {},
   "source": [
    "**Note:** You should be able to run these without any issues. This notebook will be automatically run by CI and flagged if it fails. If your commit breaks this notebook, either fix the issue or add some information here for others."
   ]
  },
  {
   "cell_type": "code",
   "execution_count": 1,
   "metadata": {},
   "outputs": [],
   "source": [
    "assert True is True"
   ]
  },
  {
   "cell_type": "code",
   "execution_count": 2,
   "metadata": {},
   "outputs": [],
   "source": [
    "import sys\n",
    "import pytest\n",
    "import syft as sy\n",
    "from syft.core.node.common.service.auth import AuthorizationException\n",
    "from syft.util import key_emoji\n",
    "sy.LOG_FILE = \"syft_do.log\"\n",
    "sy.logger.remove()\n",
    "_ = sy.logger.add(sys.stdout, level=\"DEBUG\")"
   ]
  },
  {
   "cell_type": "markdown",
   "metadata": {},
   "source": [
    "Bob decides has some data he wants to share with Alice using PySyft.\n",
    "The first thing Bob needs to do is to create a Node to handle all the PySyft services he will need to safely and securely share his data with Alice."
   ]
  },
  {
   "cell_type": "code",
   "execution_count": 3,
   "metadata": {},
   "outputs": [
    {
     "name": "stdout",
     "output_type": "stream",
     "text": [
      "[2021-05-06T13:40:22.306660+0300][DEBUG][logger]][448868] > Creating 🗃️ (MemoryStore) {}\n",
      "[2021-05-06T13:40:22.307426+0300][DEBUG][logger]][448868] Created MemoryStore.\n",
      "[2021-05-06T13:40:22.308213+0300][DEBUG][logger]][448868] > Creating 📱 Trusting Kilby (Device)@<UID:🚱🙔>\n"
     ]
    }
   ],
   "source": [
    "some_device = sy.Device()"
   ]
  },
  {
   "cell_type": "markdown",
   "metadata": {},
   "source": [
    "This is a device, it is a Node and it has a name, id and address."
   ]
  },
  {
   "cell_type": "code",
   "execution_count": 4,
   "metadata": {},
   "outputs": [
    {
     "name": "stdout",
     "output_type": "stream",
     "text": [
      "Trusting Kilby <UID: ab8498b778ec497e8a0644752808e4c3> <Address - Device:<SpecificLocation:..8e4c3>>\n"
     ]
    }
   ],
   "source": [
    "print(some_device.name, some_device.id, some_device.address)"
   ]
  },
  {
   "cell_type": "markdown",
   "metadata": {},
   "source": [
    "The ID is a class called UID which is essentially a uuid. The address is a combination of up to four different locations, identifying the path to resolve the final target of the address."
   ]
  },
  {
   "cell_type": "code",
   "execution_count": 5,
   "metadata": {},
   "outputs": [
    {
     "name": "stdout",
     "output_type": "stream",
     "text": [
      "None <SpecificLocation: ab8498b778ec497e8a0644752808e4c3> None None\n",
      "<SpecificLocation: ab8498b778ec497e8a0644752808e4c3>\n"
     ]
    }
   ],
   "source": [
    "print(some_device.address.vm, some_device.address.device, some_device.address.domain, some_device.address.network)\n",
    "print(some_device.address.target_id)"
   ]
  },
  {
   "cell_type": "markdown",
   "metadata": {},
   "source": [
    "UIDs are hard to read and compare so we have a function which converts them to 2 x emoji.\n",
    "Just like the \"name\", Emoji uniqueness is not guaranteed but is very useful during debugging."
   ]
  },
  {
   "cell_type": "code",
   "execution_count": 6,
   "metadata": {},
   "outputs": [
    {
     "name": "stdout",
     "output_type": "stream",
     "text": [
      "📌 Trusting Kilby (SpecificLocation)@<UID:🚱🙔>\n",
      "💠 [📱] Trusting Kilby (Address)\n"
     ]
    }
   ],
   "source": [
    "print(some_device.address.target_id.pprint)\n",
    "print(some_device.address.pprint)"
   ]
  },
  {
   "cell_type": "markdown",
   "metadata": {},
   "source": [
    "Most things that are \"pretty printed\" include an emoji, a name and a class, additionally with a UID and \"visual UID\" emoji.  \n",
    "📌 some_device.address.target_id is a \"Location\" which is pointing to this specific location with a name and address.  \n",
    "💠 [📱] some_device.address is the \"Address\" of some_device (Think up to 4 x locations) in this case the contents of the List [] show it only has the Location of a device currently.\n",
    "\n",
    "**note:** Sometimes Emojis look like this: 🙓. The dynamically generated code point does not have an Emoji. A PR to fix this, would be welcome. 🙂"
   ]
  },
  {
   "cell_type": "code",
   "execution_count": 7,
   "metadata": {},
   "outputs": [
    {
     "name": "stdout",
     "output_type": "stream",
     "text": [
      "<UID: ab8498b778ec497e8a0644752808e4c3> <UID: ab8498b778ec497e8a0644752808e4c3>\n",
      "<UID:🚱🙔> == <UID:🚱🙔>\n",
      "📱 Trusting Kilby (Device)@<UID:🚱🙔>\n"
     ]
    }
   ],
   "source": [
    "print(some_device.id, some_device.address.target_id.id)\n",
    "print(some_device.id.emoji(), \"==\", some_device.address.target_id.id.emoji())\n",
    "print(some_device.pprint)\n",
    "assert some_device.id == some_device.address.target_id.id"
   ]
  },
  {
   "cell_type": "markdown",
   "metadata": {},
   "source": [
    "Interaction with a Node like a device is always done through a client. Clients can \"send\" messages and Nodes can \"receive\" them. Bob needs to get a client for his device. But first it might be a good idea to name the device so that it's easier to follow."
   ]
  },
  {
   "cell_type": "code",
   "execution_count": 8,
   "metadata": {},
   "outputs": [
    {
     "name": "stdout",
     "output_type": "stream",
     "text": [
      "[2021-05-06T13:40:22.339583+0300][DEBUG][logger]][448868] > Creating 🗃️ (MemoryStore) {}\n",
      "[2021-05-06T13:40:22.340439+0300][DEBUG][logger]][448868] Created MemoryStore.\n",
      "[2021-05-06T13:40:22.341291+0300][DEBUG][logger]][448868] > Creating 📱 Bob's iPhone (Device)@<UID:🚁🚃>\n"
     ]
    }
   ],
   "source": [
    "bob_device = sy.Device(name=\"Bob's iPhone\")\n",
    "assert bob_device.name == \"Bob's iPhone\""
   ]
  },
  {
   "cell_type": "code",
   "execution_count": 9,
   "metadata": {},
   "outputs": [
    {
     "name": "stdout",
     "output_type": "stream",
     "text": [
      "[2021-05-06T13:40:22.427264+0300][INFO][logger]][448868] Skipping torch.Tensor.xpu not supported in 1.7.1\n",
      "[2021-05-06T13:40:22.427910+0300][INFO][logger]][448868] Skipping torch.Tensor.tile not supported in 1.7.1\n",
      "[2021-05-06T13:40:22.428416+0300][INFO][logger]][448868] Skipping torch.Tensor.fmax not supported in 1.7.1\n",
      "[2021-05-06T13:40:22.428886+0300][INFO][logger]][448868] Skipping torch.Tensor.ldexp_ not supported in 1.7.1\n",
      "[2021-05-06T13:40:22.429348+0300][INFO][logger]][448868] Skipping torch.Tensor.sinc not supported in 1.7.1\n",
      "[2021-05-06T13:40:22.429875+0300][INFO][logger]][448868] Skipping torch.kron not supported in 1.7.1\n",
      "[2021-05-06T13:40:22.430426+0300][INFO][logger]][448868] Skipping torch.Tensor.nan_to_num not supported in 1.7.1\n",
      "[2021-05-06T13:40:22.431027+0300][INFO][logger]][448868] Skipping torch.msort not supported in 1.7.1\n",
      "[2021-05-06T13:40:22.431615+0300][INFO][logger]][448868] Skipping torch.row_stack not supported in 1.7.1\n",
      "[2021-05-06T13:40:22.432147+0300][INFO][logger]][448868] Skipping torch.Tensor.new_empty_strided not supported in 1.7.1\n",
      "[2021-05-06T13:40:22.432700+0300][INFO][logger]][448868] Skipping torch.Tensor.ravel not supported in 1.7.1\n",
      "[2021-05-06T13:40:22.433309+0300][INFO][logger]][448868] Skipping torch.Tensor.swapdims_ not supported in 1.7.1\n",
      "[2021-05-06T13:40:22.433843+0300][INFO][logger]][448868] Skipping torch.moveaxis not supported in 1.7.1\n",
      "[2021-05-06T13:40:22.434397+0300][INFO][logger]][448868] Skipping torch.Tensor.swapaxes not supported in 1.7.1\n",
      "[2021-05-06T13:40:22.434910+0300][INFO][logger]][448868] Skipping torch.tensor_split not supported in 1.7.1\n",
      "[2021-05-06T13:40:22.435456+0300][INFO][logger]][448868] Skipping torch.Tensor.tensor_split not supported in 1.7.1\n",
      "[2021-05-06T13:40:22.435967+0300][INFO][logger]][448868] Skipping torch.tile not supported in 1.7.1\n",
      "[2021-05-06T13:40:22.438276+0300][INFO][logger]][448868] Skipping torch.Tensor.float_power_ not supported in 1.7.1\n",
      "[2021-05-06T13:40:22.438811+0300][INFO][logger]][448868] Skipping torch.Tensor.broadcast_to not supported in 1.7.1\n",
      "[2021-05-06T13:40:22.439342+0300][INFO][logger]][448868] Skipping torch.fmin not supported in 1.7.1\n",
      "[2021-05-06T13:40:22.439869+0300][INFO][logger]][448868] Skipping torch.ldexp not supported in 1.7.1\n",
      "[2021-05-06T13:40:22.440330+0300][INFO][logger]][448868] Skipping torch.Tensor.swapdims not supported in 1.7.1\n",
      "[2021-05-06T13:40:22.440851+0300][INFO][logger]][448868] Skipping torch.igamma not supported in 1.7.1\n",
      "[2021-05-06T13:40:22.443011+0300][INFO][logger]][448868] Skipping torch.Tensor.nan_to_num_ not supported in 1.7.1\n",
      "[2021-05-06T13:40:22.444013+0300][INFO][logger]][448868] Skipping torch.Tensor.copysign not supported in 1.7.1\n",
      "[2021-05-06T13:40:22.444985+0300][INFO][logger]][448868] Skipping torch.Tensor.swapaxes_ not supported in 1.7.1\n",
      "[2021-05-06T13:40:22.445802+0300][INFO][logger]][448868] Skipping torch.Tensor.cumprod_ not supported in 1.7.1\n",
      "[2021-05-06T13:40:22.446649+0300][INFO][logger]][448868] Skipping torch.Tensor.ldexp not supported in 1.7.1\n",
      "[2021-05-06T13:40:22.447463+0300][INFO][logger]][448868] Skipping torch.Tensor.igamma_ not supported in 1.7.1\n",
      "[2021-05-06T13:40:22.448339+0300][INFO][logger]][448868] Skipping torch.float_power not supported in 1.7.1\n",
      "[2021-05-06T13:40:22.449457+0300][INFO][logger]][448868] Skipping torch.Tensor.igammac_ not supported in 1.7.1\n",
      "[2021-05-06T13:40:22.450578+0300][INFO][logger]][448868] Skipping torch.xlogy not supported in 1.7.1\n",
      "[2021-05-06T13:40:22.451689+0300][INFO][logger]][448868] Skipping torch.copysign not supported in 1.7.1\n",
      "[2021-05-06T13:40:22.454816+0300][INFO][logger]][448868] Skipping torch.nanmedian not supported in 1.7.1\n",
      "[2021-05-06T13:40:22.455548+0300][INFO][logger]][448868] Skipping torch.igammac not supported in 1.7.1\n",
      "[2021-05-06T13:40:22.456806+0300][INFO][logger]][448868] Skipping torch.Tensor.cumsum_ not supported in 1.7.1\n",
      "[2021-05-06T13:40:22.457419+0300][INFO][logger]][448868] Skipping torch.diff not supported in 1.7.1\n",
      "[2021-05-06T13:40:22.458067+0300][INFO][logger]][448868] Skipping torch.Tensor.igamma not supported in 1.7.1\n",
      "[2021-05-06T13:40:22.458730+0300][INFO][logger]][448868] Skipping torch.sinc not supported in 1.7.1\n",
      "[2021-05-06T13:40:22.459359+0300][INFO][logger]][448868] Skipping torch.Tensor.igammac not supported in 1.7.1\n",
      "[2021-05-06T13:40:22.459991+0300][INFO][logger]][448868] Skipping torch.Tensor.kron not supported in 1.7.1\n",
      "[2021-05-06T13:40:22.460658+0300][INFO][logger]][448868] Skipping torch.column_stack not supported in 1.7.1\n",
      "[2021-05-06T13:40:22.461365+0300][INFO][logger]][448868] Skipping torch.Tensor.msort not supported in 1.7.1\n",
      "[2021-05-06T13:40:22.462139+0300][INFO][logger]][448868] Skipping torch.pixel_unshuffle not supported in 1.7.1\n",
      "[2021-05-06T13:40:22.463450+0300][INFO][logger]][448868] Skipping torch.Tensor.fmin not supported in 1.7.1\n",
      "[2021-05-06T13:40:22.464329+0300][INFO][logger]][448868] Skipping torch.Tensor.xlogy not supported in 1.7.1\n",
      "[2021-05-06T13:40:22.465036+0300][INFO][logger]][448868] Skipping torch.Tensor.moveaxis not supported in 1.7.1\n",
      "[2021-05-06T13:40:22.468186+0300][INFO][logger]][448868] Skipping torch.swapaxes not supported in 1.7.1\n",
      "[2021-05-06T13:40:22.469200+0300][INFO][logger]][448868] Skipping torch.nan_to_num not supported in 1.7.1\n",
      "[2021-05-06T13:40:22.470023+0300][INFO][logger]][448868] Skipping torch.inner not supported in 1.7.1\n",
      "[2021-05-06T13:40:22.470752+0300][INFO][logger]][448868] Skipping torch.fmax not supported in 1.7.1\n",
      "[2021-05-06T13:40:22.471438+0300][INFO][logger]][448868] Skipping torch.Tensor.float_power not supported in 1.7.1\n",
      "[2021-05-06T13:40:22.472159+0300][INFO][logger]][448868] Skipping torch.Tensor.nanmedian not supported in 1.7.1\n",
      "[2021-05-06T13:40:22.472820+0300][INFO][logger]][448868] Skipping torch.Tensor.sinc_ not supported in 1.7.1\n",
      "[2021-05-06T13:40:22.473442+0300][INFO][logger]][448868] Skipping torch.Tensor.copysign_ not supported in 1.7.1\n",
      "[2021-05-06T13:40:22.474184+0300][INFO][logger]][448868] Skipping torch.ravel not supported in 1.7.1\n",
      "[2021-05-06T13:40:22.475013+0300][INFO][logger]][448868] Skipping torch.broadcast_to not supported in 1.7.1\n",
      "[2021-05-06T13:40:22.475833+0300][INFO][logger]][448868] Skipping torch.Tensor.diff not supported in 1.7.1\n",
      "[2021-05-06T13:40:22.476698+0300][INFO][logger]][448868] Skipping torch.Tensor.xlogy_ not supported in 1.7.1\n",
      "[2021-05-06T13:40:22.477553+0300][INFO][logger]][448868] Skipping torch.swapdims not supported in 1.7.1\n",
      "[2021-05-06T13:40:22.480533+0300][INFO][logger]][448868] Skipping torch.Tensor.inner not supported in 1.7.1\n",
      "[2021-05-06T13:40:22.520744+0300][CRITICAL][logger]][448868] Skipping torchvision.torchvision.transforms.functional.adjust_sharpness not supported in 0.8.2\n",
      "[2021-05-06T13:40:22.521834+0300][CRITICAL][logger]][448868] Skipping torchvision.torchvision.transforms.functional.autocontrast not supported in 0.8.2\n",
      "[2021-05-06T13:40:22.523176+0300][CRITICAL][logger]][448868] Skipping torchvision.torchvision.transforms.functional.equalize not supported in 0.8.2\n",
      "[2021-05-06T13:40:22.525007+0300][CRITICAL][logger]][448868] Skipping torchvision.torchvision.transforms.functional.invert not supported in 0.8.2\n",
      "[2021-05-06T13:40:22.527014+0300][CRITICAL][logger]][448868] Skipping torchvision.torchvision.transforms.functional.posterize not supported in 0.8.2\n",
      "[2021-05-06T13:40:22.528284+0300][CRITICAL][logger]][448868] Skipping torchvision.torchvision.transforms.functional.solarize not supported in 0.8.2\n",
      "[2021-05-06T13:40:22.678898+0300][DEBUG][logger]][448868] > Creating 📡 [📱] Bob's iPhone Client (DeviceClient)@<UID:🚁🚃>\n"
     ]
    }
   ],
   "source": [
    "bob_device_client = bob_device.get_client()"
   ]
  },
  {
   "cell_type": "markdown",
   "metadata": {},
   "source": [
    "When you ask a node for a client you get a \"Client\" which is named after the device and has the same \"UID\" and \"Address\" (4 x Locations) as the device it was created from, and it will have a \"Route\" that connects it to the \"Device\""
   ]
  },
  {
   "cell_type": "code",
   "execution_count": 10,
   "metadata": {},
   "outputs": [],
   "source": [
    "assert bob_device_client.name == \"Bob's iPhone Client\""
   ]
  },
  {
   "cell_type": "code",
   "execution_count": 11,
   "metadata": {},
   "outputs": [
    {
     "name": "stdout",
     "output_type": "stream",
     "text": [
      "📡 [📱] Bob's iPhone Client (DeviceClient)@<UID:🚁🚃> 📱 Bob's iPhone (Device)@<UID:🚁🚃>\n",
      "<UID:🚁🚃> == <UID:🚁🚃>\n"
     ]
    }
   ],
   "source": [
    "print(bob_device_client.pprint, bob_device.pprint)\n",
    "print(bob_device.id.emoji(), \"==\", bob_device_client.id.emoji())\n",
    "assert bob_device.id == bob_device_client.device.id\n",
    "assert bob_device.address == bob_device_client.address"
   ]
  },
  {
   "cell_type": "markdown",
   "metadata": {},
   "source": [
    "📡 [📱] Bob's iPhone Client is a \"DeviceClient\" and it has the same UID and \"Address\" as Bob's Device"
   ]
  },
  {
   "cell_type": "markdown",
   "metadata": {},
   "source": [
    "Now we have something that can send and receive lets take it for a spin.\n",
    "Since everything is handled with a layer of abstraction the smallest unit of work is a \"SyftMessage\". Very little can be done without sending a message from a Client to a Node. There are many types of \"SyftMessage\" which boil down to whether or not they are Sync or Async, and whether or not they expect a response.\n",
    "\n",
    "Lets make a ReprMessage which simply gets a message and prints it at its destination Node.\n",
    "SyftMessage's all have an \"address\" field, without this they would never get delivered. They also generally have a msg_id which can be used to keep track of them."
   ]
  },
  {
   "cell_type": "code",
   "execution_count": 12,
   "metadata": {},
   "outputs": [
    {
     "name": "stdout",
     "output_type": "stream",
     "text": [
      "[2021-05-06T13:40:22.700621+0300][DEBUG][logger]][448868] > Creating ✉️  (ReprMessage) <UID:🚂🚃>\n",
      "✉️  (ReprMessage)\n",
      "💠 [📱] Bob's iPhone Client (Address)\n"
     ]
    }
   ],
   "source": [
    "msg = sy.ReprMessage(address=bob_device_client.address)\n",
    "print(msg.pprint)\n",
    "print(bob_device_client.address.pprint)\n",
    "assert msg.address == bob_device_client.address"
   ]
  },
  {
   "cell_type": "markdown",
   "metadata": {},
   "source": [
    "What type of Message is ReprMessage you ask?"
   ]
  },
  {
   "cell_type": "code",
   "execution_count": 13,
   "metadata": {},
   "outputs": [
    {
     "name": "stdout",
     "output_type": "stream",
     "text": [
      "[<class 'syft.core.node.common.service.repr_service.ReprMessage'>, <class 'syft.core.common.message.ImmediateSyftMessageWithoutReply'>, <class 'syft.core.common.message.ImmediateSyftMessage'>, <class 'syft.core.common.message.SyftMessageWithoutReply'>, <class 'syft.core.common.message.SyftMessage'>, <class 'syft.core.common.message.AbstractMessage'>, <class 'syft.core.common.object.ObjectWithID'>, <class 'syft.core.common.serde.serializable.Serializable'>, <class 'typing.Generic'>, <class 'object'>]\n"
     ]
    }
   ],
   "source": [
    "print(sy.ReprMessage.mro())"
   ]
  },
  {
   "cell_type": "markdown",
   "metadata": {},
   "source": [
    "It's an \"Immediate\" \"WithoutReply\" okay so Sync and no response."
   ]
  },
  {
   "cell_type": "markdown",
   "metadata": {},
   "source": [
    "Now lets send it, remember we need a Client not a Node for sending."
   ]
  },
  {
   "cell_type": "code",
   "execution_count": 14,
   "metadata": {},
   "outputs": [
    {
     "name": "stdout",
     "output_type": "stream",
     "text": [
      "[2021-05-06T13:40:22.714418+0300][DEBUG][logger]][448868] > Creating ✉️  (ReprMessage) <UID:🚃🚀>\n",
      "[2021-05-06T13:40:22.715596+0300][DEBUG][logger]][448868] > 📡 [📱] Bob's iPhone Client (DeviceClient)@<UID:🚁🚃> Signing ✉️  (ReprMessage) with 🜾\n",
      "[2021-05-06T13:40:22.716444+0300][DEBUG][logger]][448868] > Signing with 🜾\n",
      "[2021-05-06T13:40:22.718036+0300][DEBUG][logger]][448868] > Creating Signed ✉️ 🔏 (SignedImmediateSyftMessageWithoutReply) <UID:🚃🚀>\n",
      "[2021-05-06T13:40:22.718857+0300][DEBUG][logger]][448868] > Sending ✉️ 🔏 (SignedImmediateSyftMessageWithoutReply) 📡 [📱] Bob's iPhone Client (DeviceClient)@<UID:🚁🚃> ➡️  💠 [📱] Bob's iPhone Client (Address)\n",
      "[2021-05-06T13:40:22.719644+0300][DEBUG][logger]][448868] > Routing ✉️ 🔏 (SignedImmediateSyftMessageWithoutReply) via 🛣️  (SoloRoute)\n",
      "[2021-05-06T13:40:22.720942+0300][DEBUG][logger]][448868] > Creating ✉️  (ReprMessage) <UID:🚃🚀>\n",
      "[2021-05-06T13:40:22.721960+0300][DEBUG][logger]][448868] > Received without Reply ✉️  (ReprMessage) <UID: 150b3b8480e441a8a1511df7d3073d64> @ 📱 Bob's iPhone (Device)@<UID:🚁🚃>\n",
      "[2021-05-06T13:40:22.722558+0300][DEBUG][logger]][448868] > Processing 📨 ✉️ 🔏 (SignedImmediateSyftMessageWithoutReply) @ 📱 Bob's iPhone (Device)@<UID:🚁🚃> <ReprMessage: 150b3b8480e441a8a1511df7d3073d64>\n",
      "[2021-05-06T13:40:22.723171+0300][DEBUG][logger]][448868] > Recipient Found ✉️ 🔏 (SignedImmediateSyftMessageWithoutReply)@<UID:🚁🚃> == 📱 Bob's iPhone (Device)@<UID:🚁🚃>\n",
      "[2021-05-06T13:40:22.724357+0300][DEBUG][logger]][448868] > Checking ✉️  (ReprMessage) 🔑 Matches 📱 Bob's iPhone (Device)@<UID:🚁🚃> root 🗝\n",
      "[2021-05-06T13:40:22.724918+0300][DEBUG][logger]][448868] > Matching 🔑 🜾  == 🛁  🗝\n",
      "[2021-05-06T13:40:22.725733+0300][DEBUG][logger]][448868] > ❌ Auth FAILED ✉️  (ReprMessage)\n",
      "[2021-05-06T13:40:22.726242+0300][CRITICAL][logger]][448868] You are not Authorized to access this service\n"
     ]
    }
   ],
   "source": [
    "with pytest.raises(AuthorizationException):\n",
    "    bob_device_client.send_immediate_msg_without_reply(\n",
    "        msg=sy.ReprMessage(address=bob_device_client.address)\n",
    "    )"
   ]
  },
  {
   "cell_type": "markdown",
   "metadata": {},
   "source": [
    "Oh oh! Why did Auth fail? We'll we can see from the debug that the 🔑 (VerifyKey) of the sender was matched to the 🗝 (Root VerifyKey) of the destination and they don't match. This client does not have sufficient permission to send a ReprMessage."
   ]
  },
  {
   "cell_type": "markdown",
   "metadata": {},
   "source": [
    "First lets take a look at the keys involved."
   ]
  },
  {
   "cell_type": "code",
   "execution_count": 15,
   "metadata": {},
   "outputs": [
    {
     "name": "stdout",
     "output_type": "stream",
     "text": [
      "🔑 🜾\n",
      "🔑 🛁🗝 🛁\n"
     ]
    }
   ],
   "source": [
    "print(bob_device_client.keys)\n",
    "print(bob_device.keys)\n",
    "\n",
    "assert bob_device_client.verify_key != bob_device.root_verify_key"
   ]
  },
  {
   "cell_type": "markdown",
   "metadata": {},
   "source": [
    "Not to worry we have a solution, lets get a client which does have this permission."
   ]
  },
  {
   "cell_type": "code",
   "execution_count": 16,
   "metadata": {},
   "outputs": [
    {
     "name": "stdout",
     "output_type": "stream",
     "text": [
      "[2021-05-06T13:40:22.824306+0300][INFO][logger]][448868] Skipping torch.Tensor.xpu not supported in 1.7.1\n",
      "[2021-05-06T13:40:22.824947+0300][INFO][logger]][448868] Skipping torch.Tensor.tile not supported in 1.7.1\n",
      "[2021-05-06T13:40:22.825431+0300][INFO][logger]][448868] Skipping torch.Tensor.fmax not supported in 1.7.1\n",
      "[2021-05-06T13:40:22.825860+0300][INFO][logger]][448868] Skipping torch.Tensor.ldexp_ not supported in 1.7.1\n",
      "[2021-05-06T13:40:22.826299+0300][INFO][logger]][448868] Skipping torch.Tensor.sinc not supported in 1.7.1\n",
      "[2021-05-06T13:40:22.826817+0300][INFO][logger]][448868] Skipping torch.kron not supported in 1.7.1\n",
      "[2021-05-06T13:40:22.827339+0300][INFO][logger]][448868] Skipping torch.Tensor.nan_to_num not supported in 1.7.1\n",
      "[2021-05-06T13:40:22.827828+0300][INFO][logger]][448868] Skipping torch.msort not supported in 1.7.1\n",
      "[2021-05-06T13:40:22.828404+0300][INFO][logger]][448868] Skipping torch.row_stack not supported in 1.7.1\n",
      "[2021-05-06T13:40:22.829910+0300][INFO][logger]][448868] Skipping torch.Tensor.new_empty_strided not supported in 1.7.1\n",
      "[2021-05-06T13:40:22.830410+0300][INFO][logger]][448868] Skipping torch.Tensor.ravel not supported in 1.7.1\n",
      "[2021-05-06T13:40:22.830902+0300][INFO][logger]][448868] Skipping torch.Tensor.swapdims_ not supported in 1.7.1\n",
      "[2021-05-06T13:40:22.831346+0300][INFO][logger]][448868] Skipping torch.moveaxis not supported in 1.7.1\n",
      "[2021-05-06T13:40:22.831809+0300][INFO][logger]][448868] Skipping torch.Tensor.swapaxes not supported in 1.7.1\n",
      "[2021-05-06T13:40:22.832233+0300][INFO][logger]][448868] Skipping torch.tensor_split not supported in 1.7.1\n",
      "[2021-05-06T13:40:22.832713+0300][INFO][logger]][448868] Skipping torch.Tensor.tensor_split not supported in 1.7.1\n",
      "[2021-05-06T13:40:22.833204+0300][INFO][logger]][448868] Skipping torch.tile not supported in 1.7.1\n",
      "[2021-05-06T13:40:22.833652+0300][INFO][logger]][448868] Skipping torch.Tensor.float_power_ not supported in 1.7.1\n",
      "[2021-05-06T13:40:22.834109+0300][INFO][logger]][448868] Skipping torch.Tensor.broadcast_to not supported in 1.7.1\n",
      "[2021-05-06T13:40:22.834577+0300][INFO][logger]][448868] Skipping torch.fmin not supported in 1.7.1\n",
      "[2021-05-06T13:40:22.835040+0300][INFO][logger]][448868] Skipping torch.ldexp not supported in 1.7.1\n",
      "[2021-05-06T13:40:22.835524+0300][INFO][logger]][448868] Skipping torch.Tensor.swapdims not supported in 1.7.1\n",
      "[2021-05-06T13:40:22.836002+0300][INFO][logger]][448868] Skipping torch.igamma not supported in 1.7.1\n",
      "[2021-05-06T13:40:22.837938+0300][INFO][logger]][448868] Skipping torch.Tensor.nan_to_num_ not supported in 1.7.1\n",
      "[2021-05-06T13:40:22.838465+0300][INFO][logger]][448868] Skipping torch.Tensor.copysign not supported in 1.7.1\n",
      "[2021-05-06T13:40:22.838925+0300][INFO][logger]][448868] Skipping torch.Tensor.swapaxes_ not supported in 1.7.1\n",
      "[2021-05-06T13:40:22.839430+0300][INFO][logger]][448868] Skipping torch.Tensor.cumprod_ not supported in 1.7.1\n",
      "[2021-05-06T13:40:22.839855+0300][INFO][logger]][448868] Skipping torch.Tensor.ldexp not supported in 1.7.1\n",
      "[2021-05-06T13:40:22.840331+0300][INFO][logger]][448868] Skipping torch.Tensor.igamma_ not supported in 1.7.1\n",
      "[2021-05-06T13:40:22.840787+0300][INFO][logger]][448868] Skipping torch.float_power not supported in 1.7.1\n",
      "[2021-05-06T13:40:22.841307+0300][INFO][logger]][448868] Skipping torch.Tensor.igammac_ not supported in 1.7.1\n",
      "[2021-05-06T13:40:22.842087+0300][INFO][logger]][448868] Skipping torch.xlogy not supported in 1.7.1\n",
      "[2021-05-06T13:40:22.843015+0300][INFO][logger]][448868] Skipping torch.copysign not supported in 1.7.1\n",
      "[2021-05-06T13:40:22.843695+0300][INFO][logger]][448868] Skipping torch.nanmedian not supported in 1.7.1\n",
      "[2021-05-06T13:40:22.844288+0300][INFO][logger]][448868] Skipping torch.igammac not supported in 1.7.1\n",
      "[2021-05-06T13:40:22.844837+0300][INFO][logger]][448868] Skipping torch.Tensor.cumsum_ not supported in 1.7.1\n",
      "[2021-05-06T13:40:22.845307+0300][INFO][logger]][448868] Skipping torch.diff not supported in 1.7.1\n",
      "[2021-05-06T13:40:22.845786+0300][INFO][logger]][448868] Skipping torch.Tensor.igamma not supported in 1.7.1\n",
      "[2021-05-06T13:40:22.847642+0300][INFO][logger]][448868] Skipping torch.sinc not supported in 1.7.1\n",
      "[2021-05-06T13:40:22.848277+0300][INFO][logger]][448868] Skipping torch.Tensor.igammac not supported in 1.7.1\n",
      "[2021-05-06T13:40:22.848914+0300][INFO][logger]][448868] Skipping torch.Tensor.kron not supported in 1.7.1\n",
      "[2021-05-06T13:40:22.849708+0300][INFO][logger]][448868] Skipping torch.column_stack not supported in 1.7.1\n",
      "[2021-05-06T13:40:22.850411+0300][INFO][logger]][448868] Skipping torch.Tensor.msort not supported in 1.7.1\n",
      "[2021-05-06T13:40:22.851029+0300][INFO][logger]][448868] Skipping torch.pixel_unshuffle not supported in 1.7.1\n",
      "[2021-05-06T13:40:22.851765+0300][INFO][logger]][448868] Skipping torch.Tensor.fmin not supported in 1.7.1\n",
      "[2021-05-06T13:40:22.852364+0300][INFO][logger]][448868] Skipping torch.Tensor.xlogy not supported in 1.7.1\n",
      "[2021-05-06T13:40:22.852839+0300][INFO][logger]][448868] Skipping torch.Tensor.moveaxis not supported in 1.7.1\n",
      "[2021-05-06T13:40:22.853232+0300][INFO][logger]][448868] Skipping torch.swapaxes not supported in 1.7.1\n",
      "[2021-05-06T13:40:22.853683+0300][INFO][logger]][448868] Skipping torch.nan_to_num not supported in 1.7.1\n",
      "[2021-05-06T13:40:22.854509+0300][INFO][logger]][448868] Skipping torch.inner not supported in 1.7.1\n",
      "[2021-05-06T13:40:22.854875+0300][INFO][logger]][448868] Skipping torch.fmax not supported in 1.7.1\n",
      "[2021-05-06T13:40:22.855276+0300][INFO][logger]][448868] Skipping torch.Tensor.float_power not supported in 1.7.1\n",
      "[2021-05-06T13:40:22.855711+0300][INFO][logger]][448868] Skipping torch.Tensor.nanmedian not supported in 1.7.1\n",
      "[2021-05-06T13:40:22.856077+0300][INFO][logger]][448868] Skipping torch.Tensor.sinc_ not supported in 1.7.1\n",
      "[2021-05-06T13:40:22.856441+0300][INFO][logger]][448868] Skipping torch.Tensor.copysign_ not supported in 1.7.1\n",
      "[2021-05-06T13:40:22.856802+0300][INFO][logger]][448868] Skipping torch.ravel not supported in 1.7.1\n",
      "[2021-05-06T13:40:22.857146+0300][INFO][logger]][448868] Skipping torch.broadcast_to not supported in 1.7.1\n",
      "[2021-05-06T13:40:22.857522+0300][INFO][logger]][448868] Skipping torch.Tensor.diff not supported in 1.7.1\n",
      "[2021-05-06T13:40:22.859268+0300][INFO][logger]][448868] Skipping torch.Tensor.xlogy_ not supported in 1.7.1\n",
      "[2021-05-06T13:40:22.859769+0300][INFO][logger]][448868] Skipping torch.swapdims not supported in 1.7.1\n",
      "[2021-05-06T13:40:22.860145+0300][INFO][logger]][448868] Skipping torch.Tensor.inner not supported in 1.7.1\n",
      "[2021-05-06T13:40:22.877729+0300][CRITICAL][logger]][448868] Skipping torchvision.torchvision.transforms.functional.adjust_sharpness not supported in 0.8.2\n",
      "[2021-05-06T13:40:22.878475+0300][CRITICAL][logger]][448868] Skipping torchvision.torchvision.transforms.functional.autocontrast not supported in 0.8.2\n",
      "[2021-05-06T13:40:22.879529+0300][CRITICAL][logger]][448868] Skipping torchvision.torchvision.transforms.functional.equalize not supported in 0.8.2\n",
      "[2021-05-06T13:40:22.881578+0300][CRITICAL][logger]][448868] Skipping torchvision.torchvision.transforms.functional.invert not supported in 0.8.2\n",
      "[2021-05-06T13:40:22.882757+0300][CRITICAL][logger]][448868] Skipping torchvision.torchvision.transforms.functional.posterize not supported in 0.8.2\n",
      "[2021-05-06T13:40:22.883938+0300][CRITICAL][logger]][448868] Skipping torchvision.torchvision.transforms.functional.solarize not supported in 0.8.2\n",
      "[2021-05-06T13:40:22.961835+0300][DEBUG][logger]][448868] > Creating 📡 [📱] Bob's iPhone Client (DeviceClient)@<UID:🚁🚃>\n"
     ]
    }
   ],
   "source": [
    "bob_device_client = bob_device.get_root_client()"
   ]
  },
  {
   "cell_type": "markdown",
   "metadata": {},
   "source": [
    "Lets take a look again."
   ]
  },
  {
   "cell_type": "code",
   "execution_count": 17,
   "metadata": {},
   "outputs": [
    {
     "name": "stdout",
     "output_type": "stream",
     "text": [
      "🔑 🛲\n",
      "🔑 🛁🗝 🛲\n"
     ]
    }
   ],
   "source": [
    "print(bob_device_client.keys)\n",
    "print(bob_device.keys)\n",
    "\n",
    "assert bob_device_client.verify_key == bob_device.root_verify_key"
   ]
  },
  {
   "cell_type": "markdown",
   "metadata": {},
   "source": [
    "Lets try sending the message again."
   ]
  },
  {
   "cell_type": "code",
   "execution_count": 18,
   "metadata": {},
   "outputs": [
    {
     "name": "stdout",
     "output_type": "stream",
     "text": [
      "[2021-05-06T13:40:22.973935+0300][DEBUG][logger]][448868] > Creating ✉️  (ReprMessage) <UID:🚴🚆>\n",
      "[2021-05-06T13:40:22.974595+0300][DEBUG][logger]][448868] > 📡 [📱] Bob's iPhone Client (DeviceClient)@<UID:🚁🚃> Signing ✉️  (ReprMessage) with 🛲\n",
      "[2021-05-06T13:40:22.975141+0300][DEBUG][logger]][448868] > Signing with 🛲\n",
      "[2021-05-06T13:40:22.976270+0300][DEBUG][logger]][448868] > Creating Signed ✉️ 🔏 (SignedImmediateSyftMessageWithoutReply) <UID:🚴🚆>\n",
      "[2021-05-06T13:40:22.976830+0300][DEBUG][logger]][448868] > Sending ✉️ 🔏 (SignedImmediateSyftMessageWithoutReply) 📡 [📱] Bob's iPhone Client (DeviceClient)@<UID:🚁🚃> ➡️  💠 [📱] Bob's iPhone Client (Address)\n",
      "[2021-05-06T13:40:22.977364+0300][DEBUG][logger]][448868] > Routing ✉️ 🔏 (SignedImmediateSyftMessageWithoutReply) via 🛣️  (SoloRoute)\n",
      "[2021-05-06T13:40:22.978361+0300][DEBUG][logger]][448868] > Creating ✉️  (ReprMessage) <UID:🚴🚆>\n",
      "[2021-05-06T13:40:22.978921+0300][DEBUG][logger]][448868] > Received without Reply ✉️  (ReprMessage) <UID: 4d944d304678415a990b4a043a97ca77> @ 📱 Bob's iPhone (Device)@<UID:🚁🚃>\n",
      "[2021-05-06T13:40:22.979555+0300][DEBUG][logger]][448868] > Processing 📨 ✉️ 🔏 (SignedImmediateSyftMessageWithoutReply) @ 📱 Bob's iPhone (Device)@<UID:🚁🚃> <ReprMessage: 4d944d304678415a990b4a043a97ca77>\n",
      "[2021-05-06T13:40:22.980102+0300][DEBUG][logger]][448868] > Recipient Found ✉️ 🔏 (SignedImmediateSyftMessageWithoutReply)@<UID:🚁🚃> == 📱 Bob's iPhone (Device)@<UID:🚁🚃>\n",
      "[2021-05-06T13:40:22.981159+0300][DEBUG][logger]][448868] > Checking ✉️  (ReprMessage) 🔑 Matches 📱 Bob's iPhone (Device)@<UID:🚁🚃> root 🗝\n",
      "[2021-05-06T13:40:22.981790+0300][DEBUG][logger]][448868] > Matching 🔑 🛲  == 🛲  🗝\n",
      "[2021-05-06T13:40:22.982315+0300][DEBUG][logger]][448868] > ✅ Auth Succeeded ✉️  (ReprMessage) 🔑 == 🗝\n",
      "[2021-05-06T13:40:22.982826+0300][CRITICAL][logger]][448868] Device: Bob's iPhone: <UID: 6ba8ac92a16d4a53b150e0a42e371c38>\n"
     ]
    }
   ],
   "source": [
    "bob_device_client.send_immediate_msg_without_reply(\n",
    "    msg=sy.ReprMessage(address=bob_device_client.address)\n",
    ")"
   ]
  },
  {
   "cell_type": "markdown",
   "metadata": {},
   "source": [
    "Woohoo! 🎉"
   ]
  },
  {
   "cell_type": "markdown",
   "metadata": {},
   "source": [
    "Okay so there's a lot going on but lets step through it.  \n",
    "The ReprMessage is created by the Client, and then signed with the Client's SigningKey.\n",
    "The SigningKey and VerifyKey are a pair and the VerifyKey is public and derived from the SigningKey.\n",
    "When we call get_root_client() we update the Node with the newly generated key on the Client so that the Client will now have permission to execute root actions.\n",
    "\n",
    "Behind every message type is a service which executes the message on a Node.\n",
    "To run ReprMessage on our Device Node, we can see that during startup it adds a service to handle these kinds of messages:\n",
    "```python\n",
    "# common/node.py\n",
    "self.immediate_services_without_reply.append(ReprService)\n",
    "````\n",
    "\n",
    "Not all actions / services require \"root\". To enable this a decorator is added like so:\n",
    "```python\n",
    "# repr_service.py\n",
    "class ReprService(ImmediateNodeServiceWithoutReply):\n",
    "    @staticmethod\n",
    "    @service_auth(root_only=True)\n",
    "```"
   ]
  },
  {
   "cell_type": "markdown",
   "metadata": {},
   "source": [
    "Okay so Bob has root access to his own device, but he wants to share some data and compute resources of this device to someone else. So to do that he needs to create a \"Sub Node\" which will be a \"VirtualMachine\". Think of this as a partition or slice of his device which can be allocated memory, storage and compute."
   ]
  },
  {
   "cell_type": "code",
   "execution_count": 19,
   "metadata": {},
   "outputs": [
    {
     "name": "stdout",
     "output_type": "stream",
     "text": [
      "[2021-05-06T13:40:22.988158+0300][DEBUG][logger]][448868] > Creating 🗃️ (MemoryStore) {}\n",
      "[2021-05-06T13:40:22.988939+0300][DEBUG][logger]][448868] Created MemoryStore.\n",
      "[2021-05-06T13:40:22.990067+0300][DEBUG][logger]][448868] > Creating 🍰 Bob's VM (VirtualMachine)@<UID:🙏🚃>\n"
     ]
    }
   ],
   "source": [
    "bob_vm = sy.VirtualMachine(name=\"Bob's VM\")"
   ]
  },
  {
   "cell_type": "markdown",
   "metadata": {},
   "source": [
    "Since VirtualMachine is a Node (Server) it will need a Client to issue commands to it.\n",
    "Lets make one.  \n",
    "**note:** Why do we need a root client? The registration process is two-way and the Registered will need to update its address in response to a successful registration."
   ]
  },
  {
   "cell_type": "code",
   "execution_count": 20,
   "metadata": {},
   "outputs": [
    {
     "name": "stdout",
     "output_type": "stream",
     "text": [
      "[2021-05-06T13:40:23.093578+0300][INFO][logger]][448868] Skipping torch.Tensor.xpu not supported in 1.7.1\n",
      "[2021-05-06T13:40:23.094247+0300][INFO][logger]][448868] Skipping torch.Tensor.tile not supported in 1.7.1\n",
      "[2021-05-06T13:40:23.094732+0300][INFO][logger]][448868] Skipping torch.Tensor.fmax not supported in 1.7.1\n",
      "[2021-05-06T13:40:23.095491+0300][INFO][logger]][448868] Skipping torch.Tensor.ldexp_ not supported in 1.7.1\n",
      "[2021-05-06T13:40:23.096703+0300][INFO][logger]][448868] Skipping torch.Tensor.sinc not supported in 1.7.1\n",
      "[2021-05-06T13:40:23.097333+0300][INFO][logger]][448868] Skipping torch.kron not supported in 1.7.1\n",
      "[2021-05-06T13:40:23.098024+0300][INFO][logger]][448868] Skipping torch.Tensor.nan_to_num not supported in 1.7.1\n",
      "[2021-05-06T13:40:23.098675+0300][INFO][logger]][448868] Skipping torch.msort not supported in 1.7.1\n",
      "[2021-05-06T13:40:23.099363+0300][INFO][logger]][448868] Skipping torch.row_stack not supported in 1.7.1\n",
      "[2021-05-06T13:40:23.099975+0300][INFO][logger]][448868] Skipping torch.Tensor.new_empty_strided not supported in 1.7.1\n",
      "[2021-05-06T13:40:23.100583+0300][INFO][logger]][448868] Skipping torch.Tensor.ravel not supported in 1.7.1\n",
      "[2021-05-06T13:40:23.101137+0300][INFO][logger]][448868] Skipping torch.Tensor.swapdims_ not supported in 1.7.1\n",
      "[2021-05-06T13:40:23.101739+0300][INFO][logger]][448868] Skipping torch.moveaxis not supported in 1.7.1\n",
      "[2021-05-06T13:40:23.102285+0300][INFO][logger]][448868] Skipping torch.Tensor.swapaxes not supported in 1.7.1\n",
      "[2021-05-06T13:40:23.102826+0300][INFO][logger]][448868] Skipping torch.tensor_split not supported in 1.7.1\n",
      "[2021-05-06T13:40:23.103368+0300][INFO][logger]][448868] Skipping torch.Tensor.tensor_split not supported in 1.7.1\n",
      "[2021-05-06T13:40:23.103881+0300][INFO][logger]][448868] Skipping torch.tile not supported in 1.7.1\n",
      "[2021-05-06T13:40:23.104404+0300][INFO][logger]][448868] Skipping torch.Tensor.float_power_ not supported in 1.7.1\n",
      "[2021-05-06T13:40:23.104897+0300][INFO][logger]][448868] Skipping torch.Tensor.broadcast_to not supported in 1.7.1\n",
      "[2021-05-06T13:40:23.105413+0300][INFO][logger]][448868] Skipping torch.fmin not supported in 1.7.1\n",
      "[2021-05-06T13:40:23.106004+0300][INFO][logger]][448868] Skipping torch.ldexp not supported in 1.7.1\n",
      "[2021-05-06T13:40:23.107362+0300][INFO][logger]][448868] Skipping torch.Tensor.swapdims not supported in 1.7.1\n",
      "[2021-05-06T13:40:23.108013+0300][INFO][logger]][448868] Skipping torch.igamma not supported in 1.7.1\n",
      "[2021-05-06T13:40:23.109030+0300][INFO][logger]][448868] Skipping torch.Tensor.nan_to_num_ not supported in 1.7.1\n",
      "[2021-05-06T13:40:23.110077+0300][INFO][logger]][448868] Skipping torch.Tensor.copysign not supported in 1.7.1\n",
      "[2021-05-06T13:40:23.110796+0300][INFO][logger]][448868] Skipping torch.Tensor.swapaxes_ not supported in 1.7.1\n",
      "[2021-05-06T13:40:23.111450+0300][INFO][logger]][448868] Skipping torch.Tensor.cumprod_ not supported in 1.7.1\n",
      "[2021-05-06T13:40:23.112001+0300][INFO][logger]][448868] Skipping torch.Tensor.ldexp not supported in 1.7.1\n",
      "[2021-05-06T13:40:23.112582+0300][INFO][logger]][448868] Skipping torch.Tensor.igamma_ not supported in 1.7.1\n",
      "[2021-05-06T13:40:23.113186+0300][INFO][logger]][448868] Skipping torch.float_power not supported in 1.7.1\n",
      "[2021-05-06T13:40:23.113663+0300][INFO][logger]][448868] Skipping torch.Tensor.igammac_ not supported in 1.7.1\n",
      "[2021-05-06T13:40:23.114092+0300][INFO][logger]][448868] Skipping torch.xlogy not supported in 1.7.1\n",
      "[2021-05-06T13:40:23.114482+0300][INFO][logger]][448868] Skipping torch.copysign not supported in 1.7.1\n",
      "[2021-05-06T13:40:23.114898+0300][INFO][logger]][448868] Skipping torch.nanmedian not supported in 1.7.1\n",
      "[2021-05-06T13:40:23.115865+0300][INFO][logger]][448868] Skipping torch.igammac not supported in 1.7.1\n",
      "[2021-05-06T13:40:23.116900+0300][INFO][logger]][448868] Skipping torch.Tensor.cumsum_ not supported in 1.7.1\n",
      "[2021-05-06T13:40:23.117871+0300][INFO][logger]][448868] Skipping torch.diff not supported in 1.7.1\n",
      "[2021-05-06T13:40:23.118876+0300][INFO][logger]][448868] Skipping torch.Tensor.igamma not supported in 1.7.1\n",
      "[2021-05-06T13:40:23.125119+0300][INFO][logger]][448868] Skipping torch.sinc not supported in 1.7.1\n",
      "[2021-05-06T13:40:23.125992+0300][INFO][logger]][448868] Skipping torch.Tensor.igammac not supported in 1.7.1\n",
      "[2021-05-06T13:40:23.126795+0300][INFO][logger]][448868] Skipping torch.Tensor.kron not supported in 1.7.1\n",
      "[2021-05-06T13:40:23.127600+0300][INFO][logger]][448868] Skipping torch.column_stack not supported in 1.7.1\n",
      "[2021-05-06T13:40:23.128378+0300][INFO][logger]][448868] Skipping torch.Tensor.msort not supported in 1.7.1\n",
      "[2021-05-06T13:40:23.129079+0300][INFO][logger]][448868] Skipping torch.pixel_unshuffle not supported in 1.7.1\n",
      "[2021-05-06T13:40:23.130241+0300][INFO][logger]][448868] Skipping torch.Tensor.fmin not supported in 1.7.1\n",
      "[2021-05-06T13:40:23.131673+0300][INFO][logger]][448868] Skipping torch.Tensor.xlogy not supported in 1.7.1\n",
      "[2021-05-06T13:40:23.132750+0300][INFO][logger]][448868] Skipping torch.Tensor.moveaxis not supported in 1.7.1\n",
      "[2021-05-06T13:40:23.134030+0300][INFO][logger]][448868] Skipping torch.swapaxes not supported in 1.7.1\n",
      "[2021-05-06T13:40:23.135362+0300][INFO][logger]][448868] Skipping torch.nan_to_num not supported in 1.7.1\n",
      "[2021-05-06T13:40:23.136261+0300][INFO][logger]][448868] Skipping torch.inner not supported in 1.7.1\n",
      "[2021-05-06T13:40:23.138464+0300][INFO][logger]][448868] Skipping torch.fmax not supported in 1.7.1\n",
      "[2021-05-06T13:40:23.139325+0300][INFO][logger]][448868] Skipping torch.Tensor.float_power not supported in 1.7.1\n",
      "[2021-05-06T13:40:23.140199+0300][INFO][logger]][448868] Skipping torch.Tensor.nanmedian not supported in 1.7.1\n",
      "[2021-05-06T13:40:23.141382+0300][INFO][logger]][448868] Skipping torch.Tensor.sinc_ not supported in 1.7.1\n",
      "[2021-05-06T13:40:23.142118+0300][INFO][logger]][448868] Skipping torch.Tensor.copysign_ not supported in 1.7.1\n",
      "[2021-05-06T13:40:23.143284+0300][INFO][logger]][448868] Skipping torch.ravel not supported in 1.7.1\n",
      "[2021-05-06T13:40:23.144159+0300][INFO][logger]][448868] Skipping torch.broadcast_to not supported in 1.7.1\n",
      "[2021-05-06T13:40:23.145257+0300][INFO][logger]][448868] Skipping torch.Tensor.diff not supported in 1.7.1\n",
      "[2021-05-06T13:40:23.146395+0300][INFO][logger]][448868] Skipping torch.Tensor.xlogy_ not supported in 1.7.1\n",
      "[2021-05-06T13:40:23.148020+0300][INFO][logger]][448868] Skipping torch.swapdims not supported in 1.7.1\n",
      "[2021-05-06T13:40:23.149133+0300][INFO][logger]][448868] Skipping torch.Tensor.inner not supported in 1.7.1\n",
      "[2021-05-06T13:40:23.175209+0300][CRITICAL][logger]][448868] Skipping torchvision.torchvision.transforms.functional.adjust_sharpness not supported in 0.8.2\n",
      "[2021-05-06T13:40:23.176139+0300][CRITICAL][logger]][448868] Skipping torchvision.torchvision.transforms.functional.autocontrast not supported in 0.8.2\n",
      "[2021-05-06T13:40:23.176870+0300][CRITICAL][logger]][448868] Skipping torchvision.torchvision.transforms.functional.equalize not supported in 0.8.2\n",
      "[2021-05-06T13:40:23.177605+0300][CRITICAL][logger]][448868] Skipping torchvision.torchvision.transforms.functional.invert not supported in 0.8.2\n",
      "[2021-05-06T13:40:23.178317+0300][CRITICAL][logger]][448868] Skipping torchvision.torchvision.transforms.functional.posterize not supported in 0.8.2\n",
      "[2021-05-06T13:40:23.179045+0300][CRITICAL][logger]][448868] Skipping torchvision.torchvision.transforms.functional.solarize not supported in 0.8.2\n",
      "[2021-05-06T13:40:23.318868+0300][DEBUG][logger]][448868] > Creating 📡 [🍰] Bob's VM Client (VirtualMachineClient)@<UID:🙏🚃>\n"
     ]
    }
   ],
   "source": [
    "bob_vm_client = bob_vm.get_root_client()"
   ]
  },
  {
   "cell_type": "markdown",
   "metadata": {},
   "source": [
    "Okay so now Bob has two Nodes and their respective clients, but they know nothing of each other.\n",
    "They both have addresses that only point to themselves."
   ]
  },
  {
   "cell_type": "code",
   "execution_count": 21,
   "metadata": {},
   "outputs": [
    {
     "name": "stdout",
     "output_type": "stream",
     "text": [
      "💠 [📱] Bob's iPhone Client (Address)\n",
      "💠 [🍰] Bob's VM Client (Address)\n"
     ]
    }
   ],
   "source": [
    "print(bob_device_client.address.pprint)\n",
    "print(bob_vm_client.address.pprint)"
   ]
  },
  {
   "cell_type": "markdown",
   "metadata": {},
   "source": [
    "Lets register Bob's vm with its device since the Device is higher up in the level of scope."
   ]
  },
  {
   "cell_type": "code",
   "execution_count": 22,
   "metadata": {},
   "outputs": [
    {
     "name": "stdout",
     "output_type": "stream",
     "text": [
      "[2021-05-06T13:40:23.330728+0300][DEBUG][logger]][448868] > Registering 📡 [🍰] Bob's VM Client (VirtualMachineClient)@<UID:🙏🚃> with 📡 [📱] Bob's iPhone Client (DeviceClient)@<UID:🚁🚃>\n",
      "[2021-05-06T13:40:23.331775+0300][DEBUG][logger]][448868] > Creating ✉️  (RegisterChildNodeMessage) <UID:🚵🚹>\n",
      "[2021-05-06T13:40:23.332411+0300][DEBUG][logger]][448868] > 📡 [📱] Bob's iPhone Client (DeviceClient)@<UID:🚁🚃> Signing ✉️  (RegisterChildNodeMessage) with 🛲\n",
      "[2021-05-06T13:40:23.332941+0300][DEBUG][logger]][448868] > Signing with 🛲\n",
      "[2021-05-06T13:40:23.333337+0300][DEBUG][logger]][448868] > ✉️  -> Proto 🔢\n",
      "[2021-05-06T13:40:23.334530+0300][DEBUG][logger]][448868] > Creating Signed ✉️ 🔏 (SignedImmediateSyftMessageWithoutReply) <UID:🚵🚹>\n",
      "[2021-05-06T13:40:23.335251+0300][DEBUG][logger]][448868] > Sending ✉️ 🔏 (SignedImmediateSyftMessageWithoutReply) 📡 [📱] Bob's iPhone Client (DeviceClient)@<UID:🚁🚃> ➡️  💠 [📱] Bob's iPhone Client (Address)\n",
      "[2021-05-06T13:40:23.335780+0300][DEBUG][logger]][448868] > Routing ✉️ 🔏 (SignedImmediateSyftMessageWithoutReply) via 🛣️  (SoloRoute)\n",
      "[2021-05-06T13:40:23.336838+0300][DEBUG][logger]][448868] > Creating ✉️  (RegisterChildNodeMessage) <UID:🚵🚹>\n",
      "[2021-05-06T13:40:23.337266+0300][DEBUG][logger]][448868] > ✉️  <- 🔢 Proto\n",
      "[2021-05-06T13:40:23.337737+0300][DEBUG][logger]][448868] > Received without Reply ✉️  (RegisterChildNodeMessage) <UID: 12eb046571d8440da4bef3827f9af70f> @ 📱 Bob's iPhone (Device)@<UID:🚁🚃>\n",
      "[2021-05-06T13:40:23.338215+0300][DEBUG][logger]][448868] > Processing 📨 ✉️ 🔏 (SignedImmediateSyftMessageWithoutReply) @ 📱 Bob's iPhone (Device)@<UID:🚁🚃> <RegisterChildNodeMessage: 12eb046571d8440da4bef3827f9af70f>\n",
      "[2021-05-06T13:40:23.338676+0300][DEBUG][logger]][448868] > Recipient Found ✉️ 🔏 (SignedImmediateSyftMessageWithoutReply)@<UID:🚁🚃> == 📱 Bob's iPhone (Device)@<UID:🚁🚃>\n",
      "[2021-05-06T13:40:23.339814+0300][DEBUG][logger]][448868] > Checking ✉️  (RegisterChildNodeMessage) 🔑 Matches 📱 Bob's iPhone (Device)@<UID:🚁🚃> root 🗝\n",
      "[2021-05-06T13:40:23.340274+0300][DEBUG][logger]][448868] > Matching 🔑 🛲  == 🛲  🗝\n",
      "[2021-05-06T13:40:23.340779+0300][DEBUG][logger]][448868] > ✅ Auth Succeeded ✉️  (RegisterChildNodeMessage) 🔑 == 🗝\n",
      "[2021-05-06T13:40:23.341270+0300][DEBUG][logger]][448868] > Executing 💾 (ChildNodeLifecycleService) ✉️  (RegisterChildNodeMessage) on 📱 Bob's iPhone (Device)@<UID:🚁🚃>\n",
      "[2021-05-06T13:40:23.341750+0300][DEBUG][logger]][448868] > Saving 💾 💠 [🍰] Bob's VM Client (Address) @<UID:🙏🚃> with Key: <UID: 685998c5ab374649a068d1da43e58221> ➡️ <class 'syft.core.store.store_memory.MemoryStore'>\n",
      "[2021-05-06T13:40:23.342249+0300][DEBUG][logger]][448868] > Sending 👪 Update from 📱 Bob's iPhone (Device)@<UID:🚁🚃> back to @<UID:🙏🚃>\n",
      "[2021-05-06T13:40:23.343524+0300][DEBUG][logger]][448868] failed to log exception. 'Address' object is not callable\n",
      "[2021-05-06T13:40:23.344947+0300][DEBUG][logger]][448868] > Creating ✉️  (HeritageUpdateMessage) <UID:🚯🚵>\n",
      "[2021-05-06T13:40:23.345835+0300][DEBUG][logger]][448868] > 📡 [🍰📱] Bob's VM Client (VirtualMachineClient)@<UID:🙏🚃> Signing ✉️  (HeritageUpdateMessage) with 🛶\n",
      "[2021-05-06T13:40:23.346719+0300][DEBUG][logger]][448868] > Signing with 🛶\n",
      "[2021-05-06T13:40:23.348048+0300][DEBUG][logger]][448868] > Creating Signed ✉️ 🔏 (SignedImmediateSyftMessageWithoutReply) <UID:🚯🚵>\n",
      "[2021-05-06T13:40:23.348721+0300][DEBUG][logger]][448868] > Sending ✉️ 🔏 (SignedImmediateSyftMessageWithoutReply) 📡 [🍰📱] Bob's VM Client (VirtualMachineClient)@<UID:🙏🚃> ➡️  💠 [🍰] Bob's VM Client (Address)\n",
      "[2021-05-06T13:40:23.349270+0300][DEBUG][logger]][448868] > Routing ✉️ 🔏 (SignedImmediateSyftMessageWithoutReply) via 🛣️  (SoloRoute)\n",
      "[2021-05-06T13:40:23.350749+0300][DEBUG][logger]][448868] > Creating ✉️  (HeritageUpdateMessage) <UID:🚯🚵>\n",
      "[2021-05-06T13:40:23.351447+0300][DEBUG][logger]][448868] > Received without Reply ✉️  (HeritageUpdateMessage) <UID: 330b876a5ce94722ba5cce6393af3db4> @ 🍰 Bob's VM (VirtualMachine)@<UID:🙏🚃>\n",
      "[2021-05-06T13:40:23.352139+0300][DEBUG][logger]][448868] > Processing 📨 ✉️ 🔏 (SignedImmediateSyftMessageWithoutReply) @ 🍰 Bob's VM (VirtualMachine)@<UID:🙏🚃> <HeritageUpdateMessage: 330b876a5ce94722ba5cce6393af3db4>\n",
      "[2021-05-06T13:40:23.352989+0300][DEBUG][logger]][448868] > Recipient Found ✉️ 🔏 (SignedImmediateSyftMessageWithoutReply)@<UID:🙏🚃> == 🍰 Bob's VM (VirtualMachine)@<UID:🙏🚃>\n",
      "[2021-05-06T13:40:23.354004+0300][DEBUG][logger]][448868] > Checking ✉️  (HeritageUpdateMessage) 🔑 Matches 🍰 Bob's VM (VirtualMachine)@<UID:🙏🚃> root 🗝\n",
      "[2021-05-06T13:40:23.354605+0300][DEBUG][logger]][448868] > Matching 🔑 🛶  == 🛶  🗝\n",
      "[2021-05-06T13:40:23.355118+0300][DEBUG][logger]][448868] > ✅ Auth Succeeded ✉️  (HeritageUpdateMessage) 🔑 == 🗝\n",
      "[2021-05-06T13:40:23.355700+0300][DEBUG][logger]][448868] > Executing ⚙️  (HeritageUpdateService) ✉️  (HeritageUpdateMessage) on 🍰 Bob's VM (VirtualMachine)@<UID:🙏🚃>\n",
      "[2021-05-06T13:40:23.356228+0300][DEBUG][logger]][448868] > 🍰 Bob's VM (VirtualMachine)@<UID:🙏🚃> Getting known Children Nodes\n",
      "[2021-05-06T13:40:23.356707+0300][DEBUG][logger]][448868] > Node 🍰 Bob's VM (VirtualMachine)@<UID:🙏🚃> has no children\n",
      "[2021-05-06T13:40:23.357290+0300][DEBUG][logger]][448868] > Forwarding ✉️  (RegisterChildNodeMessage) to @<UID:🙏🚃>\n"
     ]
    }
   ],
   "source": [
    "bob_device_client.register(client=bob_vm_client)"
   ]
  },
  {
   "cell_type": "markdown",
   "metadata": {},
   "source": [
    "Whoa.. Okay lots happening. As you can see there are two messages and two Authentications. The first one is the `RegisterChildNodeMessage` which is dispatched to the address of the Device. Once it is received it stores the address of the registering Node and then dispatches a new `HeritageUpdateMessage` back to the sender of the first message.\n",
    "\n",
    "**note:** This is not a reply message, this is a completely independent message that happens to be sent back to the sender's address.\n",
    "```python\n",
    "issubclass(RegisterChildNodeMessage, SignedImmediateSyftMessageWithoutReply)\n",
    "issubclass(HeritageUpdateService, SignedImmediateSyftMessageWithoutReply)\n",
    "```"
   ]
  },
  {
   "cell_type": "markdown",
   "metadata": {},
   "source": [
    "You will also notice that the Messages turned into Protobufs and then Signed.  \n",
    "Lets see how this works for `ReprMessage`."
   ]
  },
  {
   "cell_type": "markdown",
   "metadata": {},
   "source": [
    "1) ✉️  -> Proto 🔢"
   ]
  },
  {
   "cell_type": "markdown",
   "metadata": {},
   "source": [
    "Every message that is sent requires and the following method signatures:\n",
    "```python\n",
    "def _object2proto(self) -> ReprMessage_PB:\n",
    "def _proto2object(proto: ReprMessage_PB) -> \"ReprMessage\":\n",
    "def get_protobuf_schema() -> GeneratedProtocolMessageType:\n",
    "```"
   ]
  },
  {
   "cell_type": "markdown",
   "metadata": {},
   "source": [
    "The get_protobuf_schema method will tell the caller what Protobuf class to use, and then the _object2proto method will be called to turn normal python into a protobuf message."
   ]
  },
  {
   "cell_type": "markdown",
   "metadata": {},
   "source": [
    "```python\n",
    "# repr_service.py\n",
    "def _object2proto(self) -> ReprMessage_PB:\n",
    "    return ReprMessage_PB(\n",
    "        msg_id=serialize(self.id), address=serialize(self.address),\n",
    "    )\n",
    "```"
   ]
  },
  {
   "cell_type": "markdown",
   "metadata": {},
   "source": [
    "Any type which isn't a normal Protobuf primitive must be converted to a proto or serialized before being stored.\n",
    "**note:** self.id and self.address also need to be serialized so this will call their `_object2proto` methods.  "
   ]
  },
  {
   "cell_type": "markdown",
   "metadata": {},
   "source": [
    "At this point we are using code auto generated by `protoc` as per the build script:\n",
    "```bash\n",
    "$ ./scripts/build_proto.sh\n",
    "```"
   ]
  },
  {
   "cell_type": "markdown",
   "metadata": {},
   "source": [
    "Here is the .proto definition for `ReprMessage`"
   ]
  },
  {
   "cell_type": "markdown",
   "metadata": {},
   "source": [
    "```c++\n",
    "// repr_service.proto\n",
    "syntax = \"proto3\";\n",
    "\n",
    "package syft.core.node.common.service;\n",
    "\n",
    "import \"proto/core/common/common_object.proto\";\n",
    "import \"proto/core/io/address.proto\";\n",
    "\n",
    "message ReprMessage {\n",
    "    syft.core.common.UID msg_id = 1;\n",
    "    syft.core.io.Address address = 2;\n",
    "}\n",
    "```\n"
   ]
  },
  {
   "cell_type": "markdown",
   "metadata": {},
   "source": [
    "Once the message needs to be Deserialized the `_proto2object` method will be called."
   ]
  },
  {
   "cell_type": "markdown",
   "metadata": {},
   "source": [
    "```python\n",
    "# repr_service.py\n",
    "return ReprMessage(\n",
    "    msg_id=_deserialize(blob=proto.msg_id),\n",
    "    address=_deserialize(blob=proto.address),\n",
    ")\n",
    "```"
   ]
  },
  {
   "cell_type": "markdown",
   "metadata": {},
   "source": [
    "Two things to pay attention to:\n",
    "1) `RegisterChildNodeMessage` has caused Bob's Device to store an entry representing Bob's VM Address  \n",
    "2) `HeritageUpdateService` has caused Bob's VM to update its address to now include the `SpecificLocation` of Bob's Device.\n",
    "\n",
    "**note:** The Address for Bob's VM Client inside the Store does not include the \"Device\" part of the \"Address\" (4 x Locations) since it isn't updated until after the HeritageUpdateService message is sent."
   ]
  },
  {
   "cell_type": "code",
   "execution_count": 23,
   "metadata": {},
   "outputs": [
    {
     "name": "stdout",
     "output_type": "stream",
     "text": [
      "🗃️ (MemoryStore) {\n",
      "  > <UID: 685998c5ab374649a068d1da43e58221> <UID:🙏🚃> => 🗂️ (StorableObject) (💠 [🍰] Bob's VM Client (Address))\n",
      "}\n",
      "💠 [🍰📱] Bob's VM Client (Address) <UID:🙏🚃>\n"
     ]
    }
   ],
   "source": [
    "print(bob_device.store.pprint)\n",
    "assert bob_vm_client.address.target_id.id in bob_device.store\n",
    "print(bob_vm_client.address.pprint, bob_vm_client.address.target_id.id.emoji())"
   ]
  },
  {
   "cell_type": "markdown",
   "metadata": {},
   "source": [
    "What about `SignedMessage`? If you read `message.py` you will see that all messages inherit from `SignedMessage` and as such contain the following fields."
   ]
  },
  {
   "cell_type": "markdown",
   "metadata": {},
   "source": [
    "```c++\n",
    "message SignedMessage {\n",
    "  syft.core.common.UID msg_id = 1;\n",
    "  string obj_type = 2;\n",
    "  bytes signature = 3;\n",
    "  bytes verify_key = 4;\n",
    "  bytes message = 5;\n",
    "}\n",
    "```"
   ]
  },
  {
   "cell_type": "markdown",
   "metadata": {},
   "source": [
    "The actual message is serialized and stored in the `message` field and a hash of its bytes is calculated using the Client's `SigningKey`."
   ]
  },
  {
   "cell_type": "markdown",
   "metadata": {},
   "source": [
    "The contents of `message` are not encrypted and can be read at any time by simply deserializing them."
   ]
  },
  {
   "cell_type": "code",
   "execution_count": 24,
   "metadata": {},
   "outputs": [],
   "source": [
    "def get_signed_message_bytes() -> bytes:\n",
    "    # return a signed message fixture containing the uid from get_uid\n",
    "    blob = (\n",
    "        b\"\\xfa\\x02\\x8b\\x02\\n\\x12\\n\\x10\\xbaU\\x10\\x0c`\\xbcB\\x06\\x89\\xa3\\xba\\x7f\\n\\xb4\\xb8\\x93\"\n",
    "        b\"\\x126syft.core.node.common.service.repr_service.ReprMessage\\x1a@h;^#a\\xbb\\x8f\\x9f\"\n",
    "        b\"\\xad\\xde\\xf0i\\xb4\\xfa\\x10\\xab\\t\\xe1qt\\xb7\\xbe\\xd9\\xba\\x1di\\x7f\\xc5+\\xbf(\\xa6\\x86\"\n",
    "        b'\\xe96\\xf5\\xc9\\x86\\xad<\\xb1\\x18p\\xe2T\\xaf\\xbd\\xb6h\\xdd\\xafL\\xd9\\x0cg\\xe5\\xe3\\xe5\"h}'\n",
    "        b'\\xf5\\x1e\\x07\" \\xbd\\\\\\xfe\\x89\\t\\xa20\\rp\\xdf\\xcb\\xf6\\x15\\xfe\\xa1U\\r\\x9a\\xf1.]'\n",
    "        b\"\\xfb4\\x1cAH\\xe9\\x7f.\\x17\\xb6-*Y\\xe2\\x01V\\n\\x12\\n\\x10\\xbaU\\x10\\x0c`\\xbcB\\x06\\x89\\xa3\"\n",
    "        b\"\\xba\\x7f\\n\\xb4\\xb8\\x93\\x12@\\n\\x12Zealous Montalcini8\\x01B(\\n\\x12\\n\\x10P\\xf2sP\\x81\"\n",
    "        b\"\\xa5A\\xea\\xb5F\\xe3J\\x0e\\xa0\\x98\\xa2\\x12\\x12Zealous Montalcini\"\n",
    "    )\n",
    "    return blob"
   ]
  },
  {
   "cell_type": "code",
   "execution_count": 25,
   "metadata": {},
   "outputs": [
    {
     "ename": "DecodeError",
     "evalue": "Error parsing message",
     "output_type": "error",
     "traceback": [
      "\u001b[0;31m---------------------------------------------------------------------------\u001b[0m",
      "\u001b[0;31mDecodeError\u001b[0m                               Traceback (most recent call last)",
      "\u001b[0;32m<ipython-input-25-3afef9f3b188>\u001b[0m in \u001b[0;36m<module>\u001b[0;34m\u001b[0m\n\u001b[0;32m----> 1\u001b[0;31m \u001b[0msig_msg\u001b[0m \u001b[0;34m=\u001b[0m \u001b[0msy\u001b[0m\u001b[0;34m.\u001b[0m\u001b[0mdeserialize\u001b[0m\u001b[0;34m(\u001b[0m\u001b[0mblob\u001b[0m\u001b[0;34m=\u001b[0m\u001b[0mget_signed_message_bytes\u001b[0m\u001b[0;34m(\u001b[0m\u001b[0;34m)\u001b[0m\u001b[0;34m,\u001b[0m \u001b[0mfrom_bytes\u001b[0m\u001b[0;34m=\u001b[0m\u001b[0;32mTrue\u001b[0m\u001b[0;34m)\u001b[0m\u001b[0;34m\u001b[0m\u001b[0;34m\u001b[0m\u001b[0m\n\u001b[0m",
      "\u001b[0;32m~/PySyft/src/syft/core/common/serde/deserialize.py\u001b[0m in \u001b[0;36m_deserialize\u001b[0;34m(blob, from_proto, from_bytes)\u001b[0m\n\u001b[1;32m     54\u001b[0m     \u001b[0;32mif\u001b[0m \u001b[0mfrom_bytes\u001b[0m\u001b[0;34m:\u001b[0m\u001b[0;34m\u001b[0m\u001b[0;34m\u001b[0m\u001b[0m\n\u001b[1;32m     55\u001b[0m         \u001b[0mdata_message\u001b[0m \u001b[0;34m=\u001b[0m \u001b[0mSyftNative\u001b[0m\u001b[0;34m(\u001b[0m\u001b[0;34m)\u001b[0m\u001b[0;34m\u001b[0m\u001b[0;34m\u001b[0m\u001b[0m\n\u001b[0;32m---> 56\u001b[0;31m         \u001b[0mdata_message\u001b[0m\u001b[0;34m.\u001b[0m\u001b[0mParseFromString\u001b[0m\u001b[0;34m(\u001b[0m\u001b[0mblob\u001b[0m\u001b[0;34m)\u001b[0m\u001b[0;34m\u001b[0m\u001b[0;34m\u001b[0m\u001b[0m\n\u001b[0m\u001b[1;32m     57\u001b[0m         \u001b[0mblob\u001b[0m \u001b[0;34m=\u001b[0m \u001b[0mgetattr\u001b[0m\u001b[0;34m(\u001b[0m\u001b[0mdata_message\u001b[0m\u001b[0;34m,\u001b[0m \u001b[0mdata_message\u001b[0m\u001b[0;34m.\u001b[0m\u001b[0mWhichOneof\u001b[0m\u001b[0;34m(\u001b[0m\u001b[0;34m\"data_field\"\u001b[0m\u001b[0;34m)\u001b[0m\u001b[0;34m)\u001b[0m\u001b[0;34m\u001b[0m\u001b[0;34m\u001b[0m\u001b[0m\n\u001b[1;32m     58\u001b[0m \u001b[0;34m\u001b[0m\u001b[0m\n",
      "\u001b[0;31mDecodeError\u001b[0m: Error parsing message"
     ]
    }
   ],
   "source": [
    "sig_msg = sy.deserialize(blob=get_signed_message_bytes(), from_bytes=True)"
   ]
  },
  {
   "cell_type": "markdown",
   "metadata": {},
   "source": [
    "We can get the nested message with a property called `message`"
   ]
  },
  {
   "cell_type": "code",
   "execution_count": null,
   "metadata": {},
   "outputs": [],
   "source": [
    "repr_msg = sig_msg.message\n",
    "print(repr_msg.pprint, sig_msg.pprint)\n",
    "print(repr_msg.address.pprint, sig_msg.address.pprint)\n",
    "print(repr_msg.address.target_id.id.emoji(), sig_msg.address.target_id.id.emoji())\n",
    "assert sig_msg.id == repr_msg.id\n",
    "assert sig_msg.address == repr_msg.address"
   ]
  },
  {
   "cell_type": "markdown",
   "metadata": {},
   "source": [
    "Notice the UID's of `ReprMessage` and `SignedImmediateSyftMessageWithoutReply` are the same. So are the delivery addresses."
   ]
  },
  {
   "cell_type": "markdown",
   "metadata": {},
   "source": [
    "But the original bytes are still available and serialization / deserialization or serde (ser/de) is bi-directional and reversible"
   ]
  },
  {
   "cell_type": "code",
   "execution_count": null,
   "metadata": {},
   "outputs": [],
   "source": [
    "assert sy.serialize(repr_msg, to_bytes=True) == sig_msg.serialized_message\n",
    "print(repr_msg.pprint, \" ⬅️ \", sig_msg.pprint)"
   ]
  },
  {
   "cell_type": "code",
   "execution_count": null,
   "metadata": {},
   "outputs": [],
   "source": [
    "from nacl.signing import SigningKey, VerifyKey\n",
    "def get_signing_key() -> SigningKey:\n",
    "    # return a the signing key used to sign the get_signed_message_bytes fixture\n",
    "    key = \"e89ff2e651b42393b6ecb5956419088781309d953d72bd73a0968525a3a6a951\"\n",
    "    return SigningKey(bytes.fromhex(key))"
   ]
  },
  {
   "cell_type": "markdown",
   "metadata": {},
   "source": [
    "Lets try re-signing it with the same key it was signed with."
   ]
  },
  {
   "cell_type": "code",
   "execution_count": null,
   "metadata": {},
   "outputs": [],
   "source": [
    "sig_msg_comp = repr_msg.sign(signing_key=get_signing_key())"
   ]
  },
  {
   "cell_type": "code",
   "execution_count": null,
   "metadata": {},
   "outputs": [],
   "source": [
    "signing_key = get_signing_key()\n",
    "verify_key = signing_key.verify_key\n",
    "\n",
    "print(f\"SigningKey: {key_emoji(key=signing_key)}\")\n",
    "print(f\"VerifyKey: {key_emoji(key=verify_key)}\")\n",
    "print(type(signing_key), type(verify_key))\n",
    "print(f\"🔑 {key_emoji(key=sig_msg.verify_key)} == {key_emoji(key=verify_key)} 🔑\")\n",
    "print(bytes(verify_key))\n",
    "\n",
    "assert sig_msg_comp == sig_msg\n",
    "assert sig_msg.verify_key == verify_key\n",
    "assert VerifyKey(bytes(verify_key)) == verify_key"
   ]
  },
  {
   "cell_type": "markdown",
   "metadata": {},
   "source": [
    "The message is signed with the `SigningKey`, a consistent `VerifyKey` is derived from the `SigningKey`. Both keys can be transformed to bytes and back easily."
   ]
  },
  {
   "cell_type": "markdown",
   "metadata": {},
   "source": [
    "Okay now Bob wants to protect his Device(s) and its / their VM(s). To do that he needs to add them to a higher level Node called a `Domain`."
   ]
  },
  {
   "cell_type": "code",
   "execution_count": null,
   "metadata": {},
   "outputs": [],
   "source": [
    "bob_domain = sy.Domain(name=\"Bob's Domain\")\n",
    "bob_domain_client = bob_domain.get_root_client()"
   ]
  },
  {
   "cell_type": "markdown",
   "metadata": {},
   "source": [
    "Okay lets follow the same procedure and link up these nodes."
   ]
  },
  {
   "cell_type": "code",
   "execution_count": null,
   "metadata": {},
   "outputs": [],
   "source": [
    "print(bob_domain.address.pprint)"
   ]
  },
  {
   "cell_type": "code",
   "execution_count": null,
   "metadata": {},
   "outputs": [],
   "source": [
    "bob_domain_client.register(client=bob_device_client)"
   ]
  },
  {
   "cell_type": "markdown",
   "metadata": {},
   "source": [
    "That's interesting, we see there's two `HeritageUpdateMessage` that get sent. The address update is \"Flowing\" upward to the leaf VM nodes."
   ]
  },
  {
   "cell_type": "code",
   "execution_count": null,
   "metadata": {},
   "outputs": [],
   "source": [
    "print(bob_vm.address.pprint)\n",
    "print(bob_device.address.pprint)\n",
    "print(bob_domain.address.pprint)\n",
    "assert bob_domain_client.id == bob_device.address.domain.id\n",
    "assert bob_device.id == bob_vm.address.device.id"
   ]
  },
  {
   "cell_type": "markdown",
   "metadata": {},
   "source": [
    "Now that the Nodes are aware of each other, we can send a message to any child node by dispatching a message on a parent Client and addressing the Child node.\n",
    "**note:** We are changing the bob_vm root_verify_key because ReprMessage is a root message. We should change this example."
   ]
  },
  {
   "cell_type": "markdown",
   "metadata": {},
   "source": [
    "Note, the repr service has the service_auth decorator.  \n",
    "`@service_auth(root_only=True)`\n",
    "\n",
    "```python\n",
    "class ReprService(ImmediateNodeServiceWithoutReply):\n",
    "    @staticmethod\n",
    "    @service_auth(root_only=True)\n",
    "    def process(node: AbstractNode, msg: ReprMessage, verify_key: VerifyKey) -> None:\n",
    "        print(node.__repr__())\n",
    "\n",
    "    @staticmethod\n",
    "    def message_handler_types() -> List[Type[ReprMessage]]:\n",
    "        return [ReprMessage]\n",
    "\n",
    "```"
   ]
  },
  {
   "cell_type": "markdown",
   "metadata": {},
   "source": [
    "For the purpose of the demonstration we will override the destination nodes root_verify_key with one of our new domain clients and the secure ReprMessage will be executed. Normally the remote node is not running in the same python REPL as the client."
   ]
  },
  {
   "cell_type": "code",
   "execution_count": null,
   "metadata": {},
   "outputs": [],
   "source": [
    "# Just to bypass the auth we will set the root verify key on destination so that it will accept this message\n",
    "bob_vm.root_verify_key = bob_domain_client.verify_key  # inject 📡🔑 as 📍🗝\n",
    "bob_domain_client.send_immediate_msg_without_reply(\n",
    "    msg=sy.ReprMessage(address=bob_vm.address)\n",
    ")"
   ]
  },
  {
   "cell_type": "code",
   "execution_count": null,
   "metadata": {},
   "outputs": [],
   "source": []
  }
 ],
 "metadata": {
  "kernelspec": {
   "display_name": "Python [conda env:om_work] *",
   "language": "python",
   "name": "conda-env-om_work-py"
  },
  "language_info": {
   "codemirror_mode": {
    "name": "ipython",
    "version": 3
   },
   "file_extension": ".py",
   "mimetype": "text/x-python",
   "name": "python",
   "nbconvert_exporter": "python",
   "pygments_lexer": "ipython3",
   "version": "3.7.9"
  },
  "pycharm": {
   "stem_cell": {
    "cell_type": "raw",
    "source": [],
    "metadata": {
     "collapsed": false
    }
   }
  }
 },
 "nbformat": 4,
 "nbformat_minor": 4
}