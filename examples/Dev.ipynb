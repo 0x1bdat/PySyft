{
 "cells": [
  {
   "cell_type": "code",
   "execution_count": 4,
   "metadata": {},
   "outputs": [],
   "source": [
    "import syft as sy"
   ]
  },
  {
   "cell_type": "markdown",
   "metadata": {},
   "source": [
    "### Test 1: Send a Message from a VM Client to a VM"
   ]
  },
  {
   "cell_type": "code",
   "execution_count": 5,
   "metadata": {},
   "outputs": [],
   "source": [
    "bob = sy.VirtualMachine(name=\"Bob\")\n",
    "bob_client = bob.get_client()"
   ]
  },
  {
   "cell_type": "code",
   "execution_count": 6,
   "metadata": {},
   "outputs": [
    {
     "data": {
      "text/plain": [
       "Public(Network:None, Domain:None)  Private(Device:None, VM:<UID:bbbc3ab7-f9c6-4c31-8a6d-80f182c3f0e5>)"
      ]
     },
     "execution_count": 6,
     "metadata": {},
     "output_type": "execute_result"
    }
   ],
   "source": [
    "bob.address"
   ]
  },
  {
   "cell_type": "code",
   "execution_count": 7,
   "metadata": {},
   "outputs": [],
   "source": [
    "msg = sy.ReprMessage(address=bob_client.address)"
   ]
  },
  {
   "cell_type": "code",
   "execution_count": 8,
   "metadata": {},
   "outputs": [
    {
     "data": {
      "text/plain": [
       "True"
      ]
     },
     "execution_count": 8,
     "metadata": {},
     "output_type": "execute_result"
    }
   ],
   "source": [
    "bob.message_is_for_me(msg)"
   ]
  },
  {
   "cell_type": "code",
   "execution_count": 9,
   "metadata": {},
   "outputs": [
    {
     "name": "stdout",
     "output_type": "stream",
     "text": [
      "the message is for me!!!\n",
      "VirtualMachine:Bob:<UID:bbbc3ab7-f9c6-4c31-8a6d-80f182c3f0e5>\n"
     ]
    }
   ],
   "source": [
    "bob_client.send_msg_without_reply(msg=msg)"
   ]
  },
  {
   "cell_type": "markdown",
   "metadata": {},
   "source": [
    "### Test 2: Send a message from a Device Client to a Device"
   ]
  },
  {
   "cell_type": "code",
   "execution_count": 10,
   "metadata": {},
   "outputs": [],
   "source": [
    "phone = sy.Device(name=\"Bob's iPhone\")\n",
    "phone_client = phone.get_client()"
   ]
  },
  {
   "cell_type": "code",
   "execution_count": 11,
   "metadata": {},
   "outputs": [],
   "source": [
    "msg = sy.ReprMessage(address=bob_client.address)"
   ]
  },
  {
   "cell_type": "code",
   "execution_count": 12,
   "metadata": {},
   "outputs": [
    {
     "name": "stdout",
     "output_type": "stream",
     "text": [
      "the message is for me!!!\n",
      "Device:Bob's iPhone:<UID:d9b13e27-dab7-44fc-b91b-699f320844d3>\n"
     ]
    }
   ],
   "source": [
    "phone_client.send_msg_without_reply(msg=sy.ReprMessage(address=phone_client.address))"
   ]
  },
  {
   "cell_type": "markdown",
   "metadata": {},
   "source": [
    "### Test 2.1: Register a VM on a Device"
   ]
  },
  {
   "cell_type": "code",
   "execution_count": 13,
   "metadata": {},
   "outputs": [
    {
     "name": "stdout",
     "output_type": "stream",
     "text": [
      "the message is for me!!!\n",
      "the message is for me!!!\n",
      "Updating to Public(Network:None, Domain:None)  Private(Device:<UID:d9b13e27-dab7-44fc-b91b-699f320844d3>, VM:None) on note VirtualMachine:Bob:<UID:bbbc3ab7-f9c6-4c31-8a6d-80f182c3f0e5>\n"
     ]
    }
   ],
   "source": [
    "phone_client.register(client=bob_client)"
   ]
  },
  {
   "cell_type": "code",
   "execution_count": 14,
   "metadata": {},
   "outputs": [
    {
     "data": {
      "text/plain": [
       "ObjectStore:{<UID:bbbc3ab7-f9c6-4c31-8a6d-80f182c3f0e5>: <VirtualMachineClient id:Bob>}"
      ]
     },
     "execution_count": 14,
     "metadata": {},
     "output_type": "execute_result"
    }
   ],
   "source": [
    "phone.store"
   ]
  },
  {
   "cell_type": "markdown",
   "metadata": {},
   "source": [
    "### Test 2.2 Test that registration updated \"address\" variable of VM"
   ]
  },
  {
   "cell_type": "code",
   "execution_count": 15,
   "metadata": {},
   "outputs": [],
   "source": [
    "assert bob_client.address.pri_address.device is not None"
   ]
  },
  {
   "cell_type": "markdown",
   "metadata": {},
   "source": [
    "### Test 3: Send a message from a Device Client to a VM"
   ]
  },
  {
   "cell_type": "code",
   "execution_count": 16,
   "metadata": {},
   "outputs": [
    {
     "name": "stdout",
     "output_type": "stream",
     "text": [
      "the message is not for me...\n",
      "the message is for me!!!\n",
      "VirtualMachine:Bob:<UID:bbbc3ab7-f9c6-4c31-8a6d-80f182c3f0e5>\n"
     ]
    }
   ],
   "source": [
    "phone_client.send_msg_without_reply(msg=sy.ReprMessage(address=bob_client.address))"
   ]
  },
  {
   "cell_type": "markdown",
   "metadata": {},
   "source": [
    "### Test 4: Send a message from a Domain Client to a VM"
   ]
  },
  {
   "cell_type": "code",
   "execution_count": 17,
   "metadata": {},
   "outputs": [],
   "source": [
    "import syft as sy"
   ]
  },
  {
   "cell_type": "code",
   "execution_count": 18,
   "metadata": {},
   "outputs": [],
   "source": [
    "bobd = sy.Domain(name=\"Bob's Domain\")\n",
    "bobd_client = bobd.get_client()"
   ]
  },
  {
   "cell_type": "code",
   "execution_count": 19,
   "metadata": {},
   "outputs": [
    {
     "name": "stdout",
     "output_type": "stream",
     "text": [
      "the message is for me!!!\n",
      "the message is for me!!!\n",
      "Updating to Public(Network:None, Domain:<UID:8e4ca174-01c4-4d46-890b-7070353106fc>)  Private(Device:None, VM:None) on note Device:Bob's iPhone:<UID:d9b13e27-dab7-44fc-b91b-699f320844d3>\n",
      "the message is for me!!!\n",
      "Updating to Public(Network:None, Domain:<UID:8e4ca174-01c4-4d46-890b-7070353106fc>)  Private(Device:None, VM:None) on note VirtualMachine:Bob:<UID:bbbc3ab7-f9c6-4c31-8a6d-80f182c3f0e5>\n"
     ]
    }
   ],
   "source": [
    "bobd_client.register(client=phone_client)"
   ]
  },
  {
   "cell_type": "code",
   "execution_count": 24,
   "metadata": {},
   "outputs": [
    {
     "name": "stdout",
     "output_type": "stream",
     "text": [
      "the message is not for me...\n",
      "the message is not for me...\n",
      "the message is for me!!!\n",
      "VirtualMachine:Bob:<UID:bbbc3ab7-f9c6-4c31-8a6d-80f182c3f0e5>\n"
     ]
    }
   ],
   "source": [
    "bobd_client.send_msg_without_reply(msg=sy.ReprMessage(address=bob.address))"
   ]
  },
  {
   "cell_type": "code",
   "execution_count": null,
   "metadata": {},
   "outputs": [],
   "source": []
  },
  {
   "cell_type": "code",
   "execution_count": null,
   "metadata": {},
   "outputs": [],
   "source": []
  },
  {
   "cell_type": "code",
   "execution_count": null,
   "metadata": {},
   "outputs": [],
   "source": []
  },
  {
   "cell_type": "code",
   "execution_count": null,
   "metadata": {},
   "outputs": [],
   "source": []
  },
  {
   "cell_type": "code",
   "execution_count": null,
   "metadata": {},
   "outputs": [],
   "source": []
  }
 ],
 "metadata": {
  "kernelspec": {
   "display_name": "Python 3",
   "language": "python",
   "name": "python3"
  },
  "language_info": {
   "codemirror_mode": {
    "name": "ipython",
    "version": 3
   },
   "file_extension": ".py",
   "mimetype": "text/x-python",
   "name": "python",
   "nbconvert_exporter": "python",
   "pygments_lexer": "ipython3",
   "version": "3.8.1"
  }
 },
 "nbformat": 4,
 "nbformat_minor": 4
}
