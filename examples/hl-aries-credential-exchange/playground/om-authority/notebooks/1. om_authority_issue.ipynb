{
 "cells": [
  {
   "cell_type": "markdown",
   "id": "6c58c6c7",
   "metadata": {},
   "source": [
    "# OpenMined Duet Authority\n",
    "\n",
    "This is replicating the logic which should ideally be hosted as a full stack application. In particular the [OMAuthorityAgent.py](./src/OMAuthorityAgent.py) class has been copied and slightly edited from this full stack application. The full stack application code can be found at this repo - https://github.com/wip-abramson/fpc-om-authority-aries-application"
   ]
  },
  {
   "cell_type": "markdown",
   "id": "14e71a19",
   "metadata": {},
   "source": [
    "### Imports"
   ]
  },
  {
   "cell_type": "code",
   "execution_count": 1,
   "id": "d2aabe99",
   "metadata": {},
   "outputs": [],
   "source": [
    "from aries_cloudcontroller import AriesAgentController\n",
    "\n",
    "from src.OMAuthorityAgent import OMAuthorityAgent\n",
    "\n",
    "import os\n",
    "from termcolor import colored"
   ]
  },
  {
   "cell_type": "markdown",
   "id": "7202b7c7",
   "metadata": {},
   "source": [
    "### Initialise the Agent Controller"
   ]
  },
  {
   "cell_type": "code",
   "execution_count": 2,
   "id": "13cbe2c9",
   "metadata": {},
   "outputs": [
    {
     "name": "stdout",
     "output_type": "stream",
     "text": [
      "Initialising a controller with admin api at http://om-authority-agent:3021 and an api key of OM_Authority\n"
     ]
    }
   ],
   "source": [
    "api_key = os.getenv(\"ACAPY_ADMIN_API_KEY\")\n",
    "admin_url = os.getenv(\"ADMIN_URL\")\n",
    "\n",
    "print(f\"Initialising a controller with admin api at {admin_url} and an api key of {api_key}\")\n",
    "agent_controller = AriesAgentController(admin_url,api_key)"
   ]
  },
  {
   "cell_type": "markdown",
   "id": "959022b6",
   "metadata": {},
   "source": [
    "### Start a Webhook Server"
   ]
  },
  {
   "cell_type": "code",
   "execution_count": 3,
   "id": "db3ddbee",
   "metadata": {},
   "outputs": [],
   "source": [
    "webhook_port = os.getenv(\"WEBHOOK_PORT\")\n",
    "webhook_host = \"0.0.0.0\"\n",
    "\n",
    "agent_controller.init_webhook_server(webhook_host, webhook_port)"
   ]
  },
  {
   "cell_type": "markdown",
   "id": "1d4a9b27",
   "metadata": {},
   "source": [
    "## Store Issuing Schema and Cred Def Identifiers\n",
    "\n",
    "This is helpful as it means as long as you run `./manage stop` to stop the containers you will not need to reinitialise your agent. State will be persisted and the values you copied below will still be valid."
   ]
  },
  {
   "cell_type": "code",
   "execution_count": 4,
   "id": "7ac24109",
   "metadata": {},
   "outputs": [],
   "source": [
    "scientist_schema_id= \"Sgg1wREgfEwbEPCQn9xEuE:2:OM Data Scientist:0.0.1\"\n",
    "\n",
    "### YOU WILL NEED TO REPLACE THIS VALUE WITH THE ONE OUTPUT FROM THE om_authority_init.ipynb file ###\n",
    "scientist_cred_def_id = \"4ZRQ85PM6omuqq4tVtRJcd:3:CL:188831:default\"\n",
    "\n",
    "\n",
    "scientist_config = {\n",
    "    \"schema_id\": scientist_schema_id,\n",
    "    \"cred_def_id\": scientist_cred_def_id\n",
    "}"
   ]
  },
  {
   "cell_type": "code",
   "execution_count": 5,
   "id": "a9701d00",
   "metadata": {},
   "outputs": [],
   "source": [
    "owner_schema_id= \"Sgg1wREgfEwbEPCQn9xEuE:2:OM Data Owner:0.0.1\"\n",
    "\n",
    "### YOU WILL NEED TO REPLACE THIS VALUE WITH THE ONE OUTPUT FROM THE om_authority_init.ipynb file ###\n",
    "owner_cred_def_id = \"4ZRQ85PM6omuqq4tVtRJcd:3:CL:188835:default\"\n",
    "\n",
    "owner_config = {\n",
    "    \"schema_id\": owner_schema_id,\n",
    "    \"cred_def_id\": owner_cred_def_id\n",
    "}"
   ]
  },
  {
   "cell_type": "markdown",
   "id": "1d4e5bd9",
   "metadata": {},
   "source": [
    "## Initialise the OMAuthority Agent\n",
    "\n",
    "By passing in the configuration jsons for scientist and data owner you identify the schema and cred defs that class will issue to the respective actors."
   ]
  },
  {
   "cell_type": "code",
   "execution_count": 6,
   "id": "24e4e247",
   "metadata": {},
   "outputs": [
    {
     "name": "stdout",
     "output_type": "stream",
     "text": [
      "Subscribing too: connections\n",
      "Subscribing too: present_proof\n",
      "Subscribing too: issue_credential\n"
     ]
    }
   ],
   "source": [
    "om_authority_agent = OMAuthorityAgent(agent_controller, owner_config, scientist_config)"
   ]
  },
  {
   "cell_type": "markdown",
   "id": "af164c4f",
   "metadata": {},
   "source": [
    "## Optional: Authentiate Against Agent Using OM PKI Course Credential\n",
    "\n",
    "This is used in the full stack application as a \"login\" before you can generate connections for the data scientist or owner. The full stack application then uses the connection_id to authenticate future api requests, only allowing them for those connections which have succesfully responded to the proof."
   ]
  },
  {
   "cell_type": "markdown",
   "id": "8ed9e7fa",
   "metadata": {},
   "source": [
    "### First Configure the Auth Policy\n",
    "\n",
    "This identifies the set of attributes and constraints under which a proof must be produced. The below cell identifies the OM PKI Course credential you should have issued to your mobile earlier in the course.\n",
    "\n",
    "Note: If you have not got this credential you can skip this part. Or alternatively you could attempt to use combine the recipes to issue yourself a credential against this schema. Or if you are feeling adventurous define and issue a new schema and update the below authentication policy accordingly."
   ]
  },
  {
   "cell_type": "code",
   "execution_count": 7,
   "id": "6c81f859",
   "metadata": {},
   "outputs": [],
   "source": [
    "pki_schema_id = \"Sgg1wREgfEwbEPCQn9xEuE:2:OpenMined PKI Course:0.0.1\"\n",
    "\n",
    "req_attrs = [\n",
    "    {\"name\": \"name\", \"restrictions\": [{\"schema_id\": pki_schema_id}]}, \n",
    "]\n",
    "\n",
    "indy_proof_request = {\n",
    "    \"name\": \"Proof of PKI Course\",\n",
    "    \"version\": \"1.0\",\n",
    "    \"requested_attributes\": {\n",
    "        # They must follow this uuid pattern\n",
    "        f\"0_{req_attr['name']}_uuid\":\n",
    "            req_attr for req_attr in req_attrs\n",
    "    },\n",
    "    # Predicates allow us to specify range proofs or set membership on attributes. For example greater than 10.\n",
    "    # We will ignore these for now.\n",
    "    \"requested_predicates\": {\n",
    "    },\n",
    "}\n",
    "\n",
    "om_authority_agent.set_client_auth_policy(indy_proof_request)\n",
    "\n"
   ]
  },
  {
   "cell_type": "markdown",
   "id": "788662ae",
   "metadata": {},
   "source": [
    "### Get Client Invitation and Display as QR Code.\n",
    "\n",
    "You will need to scan this QRCode using the mobile wallet containing a OpenMined PKI Course Credential"
   ]
  },
  {
   "cell_type": "code",
   "execution_count": 8,
   "id": "e6627c74",
   "metadata": {},
   "outputs": [
    {
     "name": "stderr",
     "output_type": "stream",
     "text": [
      "INFO:aiohttp.access:172.28.0.4 [21/Apr/2021:14:11:22 +0000] \"POST /topic/connections/ HTTP/1.1\" 200 155 \"-\" \"Python/3.6 aiohttp/3.6.3\"\n"
     ]
    },
    {
     "name": "stdout",
     "output_type": "stream",
     "text": [
      "----------------------------------------------------------\n",
      "Connection Webhook Event Received\n",
      "Connection ID :  0541d09d-be7d-4cf0-a9e9-f802c26d3cad\n",
      "State :  invitation\n",
      "Routing State :  none\n",
      "Their Role :  invitee\n",
      "----------------------------------------------------------\n",
      "{'invite_url': 'http://425e6ef2afa7.ngrok.io?c_i=eyJAdHlwZSI6ICJkaWQ6c292OkJ6Q2JzTlloTXJqSGlxWkRUVUFTSGc7c3BlYy9jb25uZWN0aW9ucy8xLjAvaW52aXRhdGlvbiIsICJAaWQiOiAiNDMyMmQwYzEtYWQ2OC00OTgzLWExZWYtNzgyMWYyYTk4ZDU5IiwgImxhYmVsIjogIk9wZW5NaW5lZCBEdWV0IEF1dGhvcml0eSIsICJzZXJ2aWNlRW5kcG9pbnQiOiAiaHR0cDovLzQyNWU2ZWYyYWZhNy5uZ3Jvay5pbyIsICJyZWNpcGllbnRLZXlzIjogWyI1bm94NUo3bUZXdU51c1NLVG1zOGFQd2VDNEpzY1d3QmZLcmJ6UTg5dDZiRSJdfQ==', 'connection_id': '0541d09d-be7d-4cf0-a9e9-f802c26d3cad'}\n"
     ]
    }
   ],
   "source": [
    "client_invite_response = om_authority_agent.client_invitation()\n",
    "## URL For the invitation so it can be displayed as a QRCode\n",
    "invitation_url = client_invite_response[\"invite_url\"]\n",
    "## Connection ID used by OM Authority to identify the agent that responds to this invite\n",
    "client_connection_id = client_invite_response[\"connection_id\"]\n",
    "print(client_invite_response)"
   ]
  },
  {
   "cell_type": "code",
   "execution_count": 9,
   "id": "2209c79f",
   "metadata": {},
   "outputs": [
    {
     "data": {
      "image/png": "[encoded data removed]",
      "text/plain": [
       "<qrcode.image.pil.PilImage at 0x7f30727235d0>"
      ]
     },
     "execution_count": 9,
     "metadata": {},
     "output_type": "execute_result"
    }
   ],
   "source": [
    "import qrcode\n",
    "# Link for connection invitation\n",
    "\n",
    "# Creating an instance of qrcode\n",
    "qr = qrcode.QRCode(\n",
    "        version=1,\n",
    "        box_size=5,\n",
    "        border=5)\n",
    "qr.add_data(invitation_url)\n",
    "qr.make(fit=True)\n",
    "img = qr.make_image(fill='black', back_color='white')\n",
    "img"
   ]
  },
  {
   "cell_type": "markdown",
   "id": "ce9e2e52",
   "metadata": {},
   "source": [
    "### Check Connection ID Trusted List\n",
    "\n",
    "This would be the connection_id used to authenticate a client application. By sending the connection_id with every api request and checking with the agent if this connection_id is \"trusted\" we have created a (very hacky) user authentication system.\n",
    "\n",
    "Work is currently ongoing to use the controller the OpenID Connect protocol."
   ]
  },
  {
   "cell_type": "code",
   "execution_count": 10,
   "id": "6a792ebc",
   "metadata": {},
   "outputs": [
    {
     "name": "stdout",
     "output_type": "stream",
     "text": [
      "Is Client Trusted?  False\n"
     ]
    }
   ],
   "source": [
    "is_trusted = om_authority_agent.client_connection_trusted(client_connection_id)\n",
    "print(\"Is Client Trusted? \", is_trusted)\n"
   ]
  },
  {
   "cell_type": "markdown",
   "id": "a07fc57d",
   "metadata": {},
   "source": [
    "## Issue Data Owner Credential\n",
    "\n",
    "Before you can issue a credential you must first establish a connection across which the credential will be issued."
   ]
  },
  {
   "cell_type": "markdown",
   "id": "afc5f046",
   "metadata": {},
   "source": [
    "### What Attributes Are You Issuing\n",
    "\n",
    "The full stack application allows an authenticated user to submit attributes in a form which are then issued as part of a DataScientist credential. "
   ]
  },
  {
   "cell_type": "code",
   "execution_count": 7,
   "id": "56eca11c",
   "metadata": {},
   "outputs": [],
   "source": [
    "domain = \"Healthcare\"\n",
    "name = \"Some Hospital\""
   ]
  },
  {
   "cell_type": "markdown",
   "id": "b14ec4d9",
   "metadata": {},
   "source": [
    "### Create Data Owner Invitation\n",
    "\n",
    "This invite would be returned to the frontend. Where it can then be shared with the Data Owner by copying across to the relevant notebook. \n",
    "\n",
    "Once the invitation has been accepted and becomes active, the OM Authority agent will automatically issue a Data Owner credential with the attributes passed to it when the invitation was created. See `src/OMAuthorityAgent.py` for the code."
   ]
  },
  {
   "cell_type": "code",
   "execution_count": 8,
   "id": "0d847a46",
   "metadata": {},
   "outputs": [
    {
     "name": "stderr",
     "output_type": "stream",
     "text": [
      "INFO:aiohttp.access:192.168.112.4 [21/Apr/2021:14:35:57 +0000] \"POST /topic/connections/ HTTP/1.1\" 200 155 \"-\" \"Python/3.6 aiohttp/3.6.3\"\n"
     ]
    },
    {
     "name": "stdout",
     "output_type": "stream",
     "text": [
      "----------------------------------------------------------\n",
      "Connection Webhook Event Received\n",
      "Connection ID :  817564e4-4000-41c9-96bf-258f4d765240\n",
      "State :  invitation\n",
      "Routing State :  none\n",
      "Their Role :  invitee\n",
      "----------------------------------------------------------\n",
      "{'@type': 'did:sov:BzCbsNYhMrjHiqZDTUASHg;spec/connections/1.0/invitation', '@id': '86165e42-d747-4047-9e12-ddf8f5007ffd', 'label': 'OpenMined Duet Authority', 'recipientKeys': ['5EgPHwkJwFqzJaYG8QVhDieT7gVz1RXntCfYimLbMKtK'], 'serviceEndpoint': 'https://d67c71672916.ngrok.io'}\n"
     ]
    },
    {
     "name": "stderr",
     "output_type": "stream",
     "text": [
      "INFO:aiohttp.access:192.168.112.4 [21/Apr/2021:14:36:13 +0000] \"POST /topic/connections/ HTTP/1.1\" 200 155 \"-\" \"Python/3.6 aiohttp/3.6.3\"\n",
      "INFO:aiohttp.access:192.168.112.4 [21/Apr/2021:14:36:13 +0000] \"POST /topic/connections/ HTTP/1.1\" 200 155 \"-\" \"Python/3.6 aiohttp/3.6.3\"\n"
     ]
    },
    {
     "name": "stdout",
     "output_type": "stream",
     "text": [
      "----------------------------------------------------------\n",
      "Connection Webhook Event Received\n",
      "Connection ID :  817564e4-4000-41c9-96bf-258f4d765240\n",
      "State :  request\n",
      "Routing State :  none\n",
      "Their Role :  invitee\n",
      "----------------------------------------------------------\n",
      "----------------------------------------------------------\n",
      "Connection Webhook Event Received\n",
      "Connection ID :  817564e4-4000-41c9-96bf-258f4d765240\n",
      "State :  response\n",
      "Routing State :  none\n",
      "Their Role :  invitee\n",
      "----------------------------------------------------------\n"
     ]
    },
    {
     "name": "stderr",
     "output_type": "stream",
     "text": [
      "INFO:root:issuing data scientist - 817564e4-4000-41c9-96bf-258f4d765240 a credential using schema Sgg1wREgfEwbEPCQn9xEuE:2:OM Data Owner:0.0.1 and definition 4ZRQ85PM6omuqq4tVtRJcd:3:CL:188835:default\n"
     ]
    },
    {
     "name": "stdout",
     "output_type": "stream",
     "text": [
      "----------------------------------------------------------\n",
      "Connection Webhook Event Received\n",
      "Connection ID :  817564e4-4000-41c9-96bf-258f4d765240\n",
      "State :  active\n",
      "Routing State :  none\n",
      "Their Role :  invitee\n",
      "----------------------------------------------------------\n"
     ]
    },
    {
     "name": "stderr",
     "output_type": "stream",
     "text": [
      "INFO:aiohttp.access:192.168.112.4 [21/Apr/2021:14:36:14 +0000] \"POST /topic/connections/ HTTP/1.1\" 200 155 \"-\" \"Python/3.6 aiohttp/3.6.3\"\n",
      "INFO:aiohttp.access:192.168.112.4 [21/Apr/2021:14:36:14 +0000] \"POST /topic/issue_credential/ HTTP/1.1\" 200 155 \"-\" \"Python/3.6 aiohttp/3.6.3\"\n"
     ]
    },
    {
     "name": "stdout",
     "output_type": "stream",
     "text": [
      "\n",
      "---------------------------------------------------\n",
      "\n",
      "Handle Issue Credential Webhook\n",
      "Connection ID : 817564e4-4000-41c9-96bf-258f4d765240\n",
      "Credential exchange ID : be26d2b5-86e7-4f17-be50-99206c71ce0a\n",
      "Agent Protocol Role :  issuer\n",
      "Protocol State :  offer_sent\n",
      "\n",
      "---------------------------------------------------\n",
      "\n",
      "Offering credential with attributes  : [{'name': 'name', 'value': 'Some Hospital'}, {'name': 'domain', 'value': 'Healthcare'}]\n"
     ]
    },
    {
     "name": "stderr",
     "output_type": "stream",
     "text": [
      "INFO:aiohttp.access:192.168.112.4 [21/Apr/2021:14:36:15 +0000] \"POST /topic/issue_credential/ HTTP/1.1\" 200 155 \"-\" \"Python/3.6 aiohttp/3.6.3\"\n",
      "INFO:aiohttp.access:192.168.112.4 [21/Apr/2021:14:36:15 +0000] \"POST /topic/issue_credential/ HTTP/1.1\" 200 155 \"-\" \"Python/3.6 aiohttp/3.6.3\"\n"
     ]
    },
    {
     "name": "stdout",
     "output_type": "stream",
     "text": [
      "\n",
      "---------------------------------------------------\n",
      "\n",
      "Handle Issue Credential Webhook\n",
      "Connection ID : 817564e4-4000-41c9-96bf-258f4d765240\n",
      "Credential exchange ID : be26d2b5-86e7-4f17-be50-99206c71ce0a\n",
      "Agent Protocol Role :  issuer\n",
      "Protocol State :  request_received\n",
      "\n",
      "---------------------------------------------------\n",
      "\n",
      "Request for credential received\n",
      "\n",
      "---------------------------------------------------\n",
      "\n",
      "Handle Issue Credential Webhook\n",
      "Connection ID : 817564e4-4000-41c9-96bf-258f4d765240\n",
      "Credential exchange ID : be26d2b5-86e7-4f17-be50-99206c71ce0a\n",
      "Agent Protocol Role :  issuer\n",
      "Protocol State :  credential_issued\n",
      "\n",
      "---------------------------------------------------\n",
      "\n"
     ]
    },
    {
     "name": "stderr",
     "output_type": "stream",
     "text": [
      "INFO:aiohttp.access:192.168.112.4 [21/Apr/2021:14:36:15 +0000] \"POST /topic/issue_credential/ HTTP/1.1\" 200 155 \"-\" \"Python/3.6 aiohttp/3.6.3\"\n"
     ]
    },
    {
     "name": "stdout",
     "output_type": "stream",
     "text": [
      "\n",
      "---------------------------------------------------\n",
      "\n",
      "Handle Issue Credential Webhook\n",
      "Connection ID : 817564e4-4000-41c9-96bf-258f4d765240\n",
      "Credential exchange ID : be26d2b5-86e7-4f17-be50-99206c71ce0a\n",
      "Agent Protocol Role :  issuer\n",
      "Protocol State :  credential_acked\n",
      "\n",
      "---------------------------------------------------\n",
      "\n"
     ]
    }
   ],
   "source": [
    "invitation = om_authority_agent.data_owner_invitation(name, domain)\n",
    "## Copy this to the Data Owner notebook\n",
    "print(invitation)"
   ]
  },
  {
   "cell_type": "markdown",
   "id": "32d2abaf",
   "metadata": {},
   "source": [
    "## Issue Data Scientist Credential"
   ]
  },
  {
   "cell_type": "markdown",
   "id": "85f55a35",
   "metadata": {},
   "source": [
    "### What Attributes Are You Issuing\n",
    "\n",
    "The full stack application allows an authenticated user to submit attributes in a form which are then issued as part of a DataScientist credential. "
   ]
  },
  {
   "cell_type": "code",
   "execution_count": 9,
   "id": "e6a2140f",
   "metadata": {},
   "outputs": [],
   "source": [
    "scope = \"Healthcare\"\n",
    "name = \"Some Healthcare Research Org\""
   ]
  },
  {
   "cell_type": "markdown",
   "id": "0edf9bff",
   "metadata": {},
   "source": [
    "### Create Data Scientist Invitation\n",
    "\n",
    "This invite would be returned to the frontend. Where it can then be shared with the Data Scientist by copying across to the relevant notebook. \n",
    "\n",
    "Once the invitation has been accepted and becomes active, the OM Authority agent will automatically issue a Data Scientist credential with the attributes passed to it when the invitation was created. See `src/OMAuthorityAgent.py` for the code."
   ]
  },
  {
   "cell_type": "code",
   "execution_count": 10,
   "id": "8f04b2a5",
   "metadata": {},
   "outputs": [
    {
     "name": "stderr",
     "output_type": "stream",
     "text": [
      "INFO:aiohttp.access:192.168.112.4 [21/Apr/2021:14:36:29 +0000] \"POST /topic/connections/ HTTP/1.1\" 200 155 \"-\" \"Python/3.6 aiohttp/3.6.3\"\n"
     ]
    },
    {
     "name": "stdout",
     "output_type": "stream",
     "text": [
      "----------------------------------------------------------\n",
      "Connection Webhook Event Received\n",
      "Connection ID :  afcccb28-8654-4ef7-9ace-276bfb81769c\n",
      "State :  invitation\n",
      "Routing State :  none\n",
      "Their Role :  invitee\n",
      "----------------------------------------------------------\n",
      "{'@type': 'did:sov:BzCbsNYhMrjHiqZDTUASHg;spec/connections/1.0/invitation', '@id': 'e2690b2e-d25a-4783-a349-763ab3276004', 'label': 'OpenMined Duet Authority', 'recipientKeys': ['79UeKfvYabjXPgqPryYsQA65xJkG2tQUDEF3tMvYTJcx'], 'serviceEndpoint': 'https://d67c71672916.ngrok.io'}\n"
     ]
    },
    {
     "name": "stderr",
     "output_type": "stream",
     "text": [
      "INFO:aiohttp.access:192.168.112.4 [21/Apr/2021:14:36:51 +0000] \"POST /topic/connections/ HTTP/1.1\" 200 155 \"-\" \"Python/3.6 aiohttp/3.6.3\"\n",
      "INFO:aiohttp.access:192.168.112.4 [21/Apr/2021:14:36:51 +0000] \"POST /topic/connections/ HTTP/1.1\" 200 155 \"-\" \"Python/3.6 aiohttp/3.6.3\"\n"
     ]
    },
    {
     "name": "stdout",
     "output_type": "stream",
     "text": [
      "----------------------------------------------------------\n",
      "Connection Webhook Event Received\n",
      "Connection ID :  afcccb28-8654-4ef7-9ace-276bfb81769c\n",
      "State :  request\n",
      "Routing State :  none\n",
      "Their Role :  invitee\n",
      "----------------------------------------------------------\n",
      "----------------------------------------------------------\n",
      "Connection Webhook Event Received\n",
      "Connection ID :  afcccb28-8654-4ef7-9ace-276bfb81769c\n",
      "State :  response\n",
      "Routing State :  none\n",
      "Their Role :  invitee\n",
      "----------------------------------------------------------\n"
     ]
    },
    {
     "name": "stderr",
     "output_type": "stream",
     "text": [
      "INFO:root:issuing data scientist - afcccb28-8654-4ef7-9ace-276bfb81769c a credential using schema Sgg1wREgfEwbEPCQn9xEuE:2:OM Data Scientist:0.0.1 and definition 4ZRQ85PM6omuqq4tVtRJcd:3:CL:188831:default\n"
     ]
    },
    {
     "name": "stdout",
     "output_type": "stream",
     "text": [
      "----------------------------------------------------------\n",
      "Connection Webhook Event Received\n",
      "Connection ID :  afcccb28-8654-4ef7-9ace-276bfb81769c\n",
      "State :  active\n",
      "Routing State :  none\n",
      "Their Role :  invitee\n",
      "----------------------------------------------------------\n"
     ]
    },
    {
     "name": "stderr",
     "output_type": "stream",
     "text": [
      "INFO:aiohttp.access:192.168.112.4 [21/Apr/2021:14:36:52 +0000] \"POST /topic/connections/ HTTP/1.1\" 200 155 \"-\" \"Python/3.6 aiohttp/3.6.3\"\n",
      "INFO:aiohttp.access:192.168.112.4 [21/Apr/2021:14:36:52 +0000] \"POST /topic/issue_credential/ HTTP/1.1\" 200 155 \"-\" \"Python/3.6 aiohttp/3.6.3\"\n"
     ]
    },
    {
     "name": "stdout",
     "output_type": "stream",
     "text": [
      "\n",
      "---------------------------------------------------\n",
      "\n",
      "Handle Issue Credential Webhook\n",
      "Connection ID : afcccb28-8654-4ef7-9ace-276bfb81769c\n",
      "Credential exchange ID : 97a3283f-4093-4cc5-b388-f6281aa8da98\n",
      "Agent Protocol Role :  issuer\n",
      "Protocol State :  offer_sent\n",
      "\n",
      "---------------------------------------------------\n",
      "\n",
      "Offering credential with attributes  : [{'name': 'name', 'value': 'Some Healthcare Research Org'}, {'name': 'scope', 'value': 'Healthcare'}]\n"
     ]
    },
    {
     "name": "stderr",
     "output_type": "stream",
     "text": [
      "INFO:aiohttp.access:192.168.112.4 [21/Apr/2021:14:36:53 +0000] \"POST /topic/issue_credential/ HTTP/1.1\" 200 155 \"-\" \"Python/3.6 aiohttp/3.6.3\"\n"
     ]
    },
    {
     "name": "stdout",
     "output_type": "stream",
     "text": [
      "\n",
      "---------------------------------------------------\n",
      "\n",
      "Handle Issue Credential Webhook\n",
      "Connection ID : afcccb28-8654-4ef7-9ace-276bfb81769c\n",
      "Credential exchange ID : 97a3283f-4093-4cc5-b388-f6281aa8da98\n",
      "Agent Protocol Role :  issuer\n",
      "Protocol State :  request_received\n",
      "\n",
      "---------------------------------------------------\n",
      "\n",
      "Request for credential received\n"
     ]
    },
    {
     "name": "stderr",
     "output_type": "stream",
     "text": [
      "INFO:aiohttp.access:192.168.112.4 [21/Apr/2021:14:36:53 +0000] \"POST /topic/issue_credential/ HTTP/1.1\" 200 155 \"-\" \"Python/3.6 aiohttp/3.6.3\"\n"
     ]
    },
    {
     "name": "stdout",
     "output_type": "stream",
     "text": [
      "\n",
      "---------------------------------------------------\n",
      "\n",
      "Handle Issue Credential Webhook\n",
      "Connection ID : afcccb28-8654-4ef7-9ace-276bfb81769c\n",
      "Credential exchange ID : 97a3283f-4093-4cc5-b388-f6281aa8da98\n",
      "Agent Protocol Role :  issuer\n",
      "Protocol State :  credential_issued\n",
      "\n",
      "---------------------------------------------------\n",
      "\n"
     ]
    },
    {
     "name": "stderr",
     "output_type": "stream",
     "text": [
      "INFO:aiohttp.access:192.168.112.4 [21/Apr/2021:14:36:54 +0000] \"POST /topic/issue_credential/ HTTP/1.1\" 200 155 \"-\" \"Python/3.6 aiohttp/3.6.3\"\n"
     ]
    },
    {
     "name": "stdout",
     "output_type": "stream",
     "text": [
      "\n",
      "---------------------------------------------------\n",
      "\n",
      "Handle Issue Credential Webhook\n",
      "Connection ID : afcccb28-8654-4ef7-9ace-276bfb81769c\n",
      "Credential exchange ID : 97a3283f-4093-4cc5-b388-f6281aa8da98\n",
      "Agent Protocol Role :  issuer\n",
      "Protocol State :  credential_acked\n",
      "\n",
      "---------------------------------------------------\n",
      "\n"
     ]
    }
   ],
   "source": [
    "invitation = om_authority_agent.data_scientist_invitation(name, scope)\n",
    "## Copy this to the Data Scientist notebook\n",
    "print(invitation)"
   ]
  },
  {
   "cell_type": "markdown",
   "id": "818c164d",
   "metadata": {},
   "source": [
    "## Congratulations. Both the DataScientist and DataOwner \"notebook applications\" should now have the necessary credentials to authenticate each other before establishing a Duet session.\n",
    "\n",
    "Be sure to check out the [full stack application for this notebook](https://github.com/wip-abramson/fpc-om-authority-aries-application). Hopefully it is hosted somewhere so you can get a feel for what that user experience might be like. \n",
    "\n",
    "Much much more work to be done on that front though!"
   ]
  },
  {
   "cell_type": "markdown",
   "id": "5ebdfe47",
   "metadata": {},
   "source": [
    "## Terminate Controller\n",
    "\n",
    "Whenever you have finished with this notebook, be sure to terminate the controller. This is especially important if your business logic runs across multiple notebooks."
   ]
  },
  {
   "cell_type": "code",
   "execution_count": null,
   "id": "0d5a7d13",
   "metadata": {},
   "outputs": [],
   "source": [
    "await agent_controller.terminate()"
   ]
  }
 ],
 "metadata": {
  "kernelspec": {
   "display_name": "Python 3",
   "language": "python",
   "name": "python3"
  },
  "language_info": {
   "codemirror_mode": {
    "name": "ipython",
    "version": 3
   },
   "file_extension": ".py",
   "mimetype": "text/x-python",
   "name": "python",
   "nbconvert_exporter": "python",
   "pygments_lexer": "ipython3",
   "version": "3.7.6"
  }
 },
 "nbformat": 4,
 "nbformat_minor": 5
}
