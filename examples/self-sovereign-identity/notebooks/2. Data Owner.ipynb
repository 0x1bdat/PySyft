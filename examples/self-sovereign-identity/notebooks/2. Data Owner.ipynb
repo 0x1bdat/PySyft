{
 "cells": [
  {
   "cell_type": "markdown",
   "metadata": {},
   "source": [
    "# Data Owner"
   ]
  },
  {
   "cell_type": "code",
   "execution_count": null,
   "metadata": {},
   "outputs": [],
   "source": [
    "from AriesExchanger import AriesDuetTokenExchanger\n",
    "%autoawait\n",
    "import time\n",
    "import asyncio\n",
    "import nest_asyncio\n",
    "from aries_basic_controller.aries_controller import AriesAgentController"
   ]
  },
  {
   "cell_type": "markdown",
   "metadata": {},
   "source": [
    "## Instantiate the Aries Controller\n",
    "\n",
    "Note the current arguments assume you are running the docker-compose environment locally. You will need to change this if you are running it on a VM."
   ]
  },
  {
   "cell_type": "code",
   "execution_count": null,
   "metadata": {},
   "outputs": [],
   "source": [
    "# Anyone know how to get env variables into juypter notebooks through docker easily?\n",
    "WEBHOOK_HOST = \"0.0.0.0\"\n",
    "WEBHOOK_PORT = 8052\n",
    "WEBHOOK_BASE = \"\"\n",
    "ADMIN_URL = \"http://0.0.0.0:8051\"\n",
    "\n",
    "# Note AttachmentController just extends the basic controller to include the new attachment endpoint\n",
    "dataowner_controller = AriesAgentController(webhook_host=WEBHOOK_HOST, webhook_port=WEBHOOK_PORT,\n",
    "                                       webhook_base=WEBHOOK_BASE, admin_url=ADMIN_URL)"
   ]
  },
  {
   "cell_type": "code",
   "execution_count": null,
   "metadata": {},
   "outputs": [],
   "source": [
    "dataowner_exchanger = AriesDuetTokenExchanger(agent_controller=dataowner_controller)"
   ]
  },
  {
   "cell_type": "markdown",
   "metadata": {},
   "source": [
    "## Get Data Owner Credential from Open Mined Authority\n",
    "\n",
    "You will need to navigate to the OM Authority application, authenticate by creating a connection using the mobile wallet that contains the OM PKI credential from the previous notebooks and the create a Data Owner invitation and copy this across."
   ]
  },
  {
   "cell_type": "code",
   "execution_count": null,
   "metadata": {},
   "outputs": [],
   "source": [
    "invite = {\"@type\":\"did:sov:BzCbsNYhMrjHiqZDTUASHg;spec/connections/1.0/invitation\",\"@id\":\"603adb0f-4716-4c8d-8988-939c61c0aaf1\",\"label\":\"OM_AUTHORITY\",\"recipientKeys\":[\"6GML86XMsJMsBJdku6yJjZRxoE3UkAFkKxY7N72FJH6U\"],\"serviceEndpoint\":\"https://0a0f5987e371.ngrok.io\"}"
   ]
  },
  {
   "cell_type": "code",
   "execution_count": null,
   "metadata": {},
   "outputs": [],
   "source": [
    "dataowner_exchanger.accept_connection(invite)"
   ]
  },
  {
   "cell_type": "markdown",
   "metadata": {},
   "source": [
    "## Configure Duet Server Challenge\n",
    "\n",
    "This is a proof request that is made to every entity who attempts to make a connection with the duet server. Before receiving the relevant token they must respond with a valid presentation to this request.\n",
    "\n",
    "Note this challenge could be anything you want, designed to establish context specific trust dependant on the use case. For the challenge to be useful you must be confident that the correct entities will be able to get access to the credential needed to respond. \n",
    "\n",
    "The Data Owner is going to challenge all connections to present the scope attribute issued as part of the following schema `Sgg1wREgfEwbEPCQn9xEuE:2:OM Data Scientist:0.0.1`. \n",
    "\n",
    "Note: An extension might include how to use the value of the scope attribute presented to define permissions."
   ]
  },
  {
   "cell_type": "code",
   "execution_count": null,
   "metadata": {},
   "outputs": [],
   "source": [
    "schema_id =  \"Sgg1wREgfEwbEPCQn9xEuE:2:OM Data Scientist:0.0.1\"\n",
    "\n",
    "\n",
    "revocation = False\n",
    "exchange_tracing = False\n",
    "\n",
    "#Enable this to ask for attributes to identity a user\n",
    "#TODO - change restriction to schemaId or credentialId\n",
    "\n",
    "req_attrs = [\n",
    "    {\"name\": \"scope\", \"restrictions\": [{\"schema_id\": schema_id}]},\n",
    "]\n",
    "\n",
    "global indy_proof_request\n",
    "indy_proof_request = {\n",
    "    \"name\": \"Proof of Scientist\",\n",
    "    \"version\": \"1.0\",\n",
    "    \"requested_attributes\": {\n",
    "        f\"0_{req_attr['name']}_uuid\":\n",
    "        req_attr for req_attr in req_attrs\n",
    "    },\n",
    "    \"requested_predicates\": {\n",
    "#         f\"0_{req_pred['name']}_GE_uuid\":\n",
    "#         req_pred for req_pred in req_preds\n",
    "    },\n",
    "}"
   ]
  },
  {
   "cell_type": "code",
   "execution_count": null,
   "metadata": {},
   "outputs": [],
   "source": [
    "dataowner_exchanger.configure_challenge(indy_proof_request)"
   ]
  },
  {
   "cell_type": "markdown",
   "metadata": {},
   "source": [
    "## Launch Duet Session\n",
    "\n",
    "Notice how we are passing in an optional token_exchanger. This must be a DuetTokenExchanger, that implements a mechanisms to send and recieve a duet token identifier with the other PPML participant. In this case the Data Scientist.\n",
    "\n",
    "As we are using the AriesExchanger class, this is done across a DIDComm connection that first must be established. So rather than printing the duet token and asking you to manually copy this across, we print out an aries invitation. "
   ]
  },
  {
   "cell_type": "code",
   "execution_count": null,
   "metadata": {},
   "outputs": [],
   "source": [
    "import syft as sy\n",
    "duet = sy.launch_duet(credential_exchanger=dataowner_exchanger)"
   ]
  },
  {
   "cell_type": "code",
   "execution_count": null,
   "metadata": {},
   "outputs": [],
   "source": [
    "duet"
   ]
  },
  {
   "cell_type": "code",
   "execution_count": null,
   "metadata": {},
   "outputs": [],
   "source": []
  }
 ],
 "metadata": {
  "kernelspec": {
   "display_name": "Python 3",
   "language": "python",
   "name": "python3"
  },
  "language_info": {
   "codemirror_mode": {
    "name": "ipython",
    "version": 3
   },
   "file_extension": ".py",
   "mimetype": "text/x-python",
   "name": "python",
   "nbconvert_exporter": "python",
   "pygments_lexer": "ipython3",
   "version": "3.8.6"
  }
 },
 "nbformat": 4,
 "nbformat_minor": 4
}
