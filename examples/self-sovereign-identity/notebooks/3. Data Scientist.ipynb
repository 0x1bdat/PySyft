{
 "cells": [
  {
   "cell_type": "markdown",
   "metadata": {},
   "source": [
    "# Data Scientist"
   ]
  },
  {
   "cell_type": "code",
   "execution_count": null,
   "metadata": {},
   "outputs": [],
   "source": [
    "from AriesExchanger import AriesDuetTokenExchanger"
   ]
  },
  {
   "cell_type": "code",
   "execution_count": null,
   "metadata": {},
   "outputs": [],
   "source": [
    "%autoawait\n",
    "import time\n",
    "import asyncio\n",
    "import nest_asyncio\n",
    "from aries_basic_controller.aries_controller import AriesAgentController\n",
    "\n",
    "    \n",
    "# Anyone know how to get env variables into juypter notebooks through docker easily?\n",
    "WEBHOOK_HOST = \"0.0.0.0\"\n",
    "WEBHOOK_PORT = 8022\n",
    "WEBHOOK_BASE = \"\"\n",
    "ADMIN_URL = \"http://0.0.0.0:8021\"\n",
    "\n",
    "nest_asyncio.apply()\n",
    "\n",
    "# Note AttachmentController just extends the basic controller to include the new attachment endpoint\n",
    "scientist_controller = AriesAgentController(webhook_host=WEBHOOK_HOST, webhook_port=WEBHOOK_PORT,\n",
    "                                       webhook_base=WEBHOOK_BASE, admin_url=ADMIN_URL)"
   ]
  },
  {
   "cell_type": "code",
   "execution_count": null,
   "metadata": {},
   "outputs": [],
   "source": [
    "datascientist_exchanger = AriesDuetTokenExchanger(agent_controller=scientist_controller)"
   ]
  },
  {
   "cell_type": "markdown",
   "metadata": {},
   "source": [
    "## Get Credential from Duet Issuer \n",
    "\n",
    "Again you should produce this invite through the relevant entrypoint exposed by the OM Authority user interface.\n",
    "\n",
    "Accepting a connection using the correct invite from the duet issuer will result in the scientists agent being issued a credential from the Duet Issuer which they can use to authenticate with the Data Owner.\n",
    "\n",
    "Note: The process by which the Data Scientist gets a credential can be designed to provide context specific trust to the use case. They might need to fill out a form, get approval from an ethics committee or prove they are a member of an organisation. The credential acts as a digital attestation to the successful completion of the defined process made by a trustworthy entity."
   ]
  },
  {
   "cell_type": "code",
   "execution_count": null,
   "metadata": {},
   "outputs": [],
   "source": [
    "invite = {\"@type\":\"did:sov:BzCbsNYhMrjHiqZDTUASHg;spec/connections/1.0/invitation\",\"@id\":\"b0f83385-b5c7-4551-a5fb-b290c1a9d054\",\"label\":\"OM_AUTHORITY\",\"recipientKeys\":[\"Ezh7Anu7uhP1Gqfcawj9b1vuw7VXiKZq9cHTutnbVzQV\"],\"serviceEndpoint\":\"https://0a0f5987e371.ngrok.io\"}"
   ]
  },
  {
   "cell_type": "code",
   "execution_count": null,
   "metadata": {},
   "outputs": [],
   "source": [
    "datascientist_exchanger.accept_connection(invite)"
   ]
  },
  {
   "cell_type": "markdown",
   "metadata": {},
   "source": [
    "## Configure Duet Server Challenge\n",
    "\n",
    "This is a aries proof request that is made to every entity who attempts to make a connection with the duet server. Before receiving the relevant token they must respond with a valid presentation to this request.\n",
    "\n",
    "Note this challenge could be anything you want, designed to establish context specific trust dependant on the use case. For the challenge to be useful you must be confident that the correct entities will be able to get access to the credential needed to respond. \n",
    "\n",
    "In this example case they need a credential based on a schema with this ID `Sgg1wREgfEwbEPCQn9xEuE:2:OM Data Owner:0.0.1`. Getting this credential is easy, entities simply need to connect to the Duet Issuer and will be automatically issued one. An example of a more realistic scenario could include application for research approval from an ethics committee."
   ]
  },
  {
   "cell_type": "code",
   "execution_count": null,
   "metadata": {},
   "outputs": [],
   "source": [
    "schema_id =  \"Sgg1wREgfEwbEPCQn9xEuE:2:OM Data Owner:0.0.1\"\n",
    "\n",
    "\n",
    "revocation = False\n",
    "exchange_tracing = False\n",
    "\n",
    "#Enable this to ask for attributes to identity a user\n",
    "#TODO - change restriction to schemaId or credentialId\n",
    "\n",
    "req_attrs = [\n",
    "    {\"name\": \"domain\", \"restrictions\": [{\"schema_id\": schema_id}]},\n",
    "]\n",
    "\n",
    "global indy_proof_request\n",
    "indy_proof_request = {\n",
    "    \"name\": \"Proof of Scientist\",\n",
    "    \"version\": \"1.0\",\n",
    "    \"requested_attributes\": {\n",
    "        f\"0_{req_attr['name']}_uuid\":\n",
    "        req_attr for req_attr in req_attrs\n",
    "    },\n",
    "    \"requested_predicates\": {\n",
    "#         f\"0_{req_pred['name']}_GE_uuid\":\n",
    "#         req_pred for req_pred in req_preds\n",
    "    },\n",
    "}"
   ]
  },
  {
   "cell_type": "code",
   "execution_count": null,
   "metadata": {},
   "outputs": [],
   "source": [
    "datascientist_exchanger.configure_challenge(indy_proof_request)"
   ]
  },
  {
   "cell_type": "markdown",
   "metadata": {},
   "source": [
    "## Join Duet Session\n",
    "\n",
    "In this instance rather than launching a new duet server, we are going to join the one created by the Data Owner. Again we pass in a AriesExchanger as the DuetTokenExchanger. This time instead of creating an invitation, the duet instance requests a invitation be submitted as an input. \n",
    "\n",
    "Once this is done, the data scientists agent will establish a connection with the data owner and and authentication policies that were configured will be requested. If successful then the respective parties will communicate their duet token identifiers over the authenticated DIDComm channel. This will be used to establish a duet WebRTC connection across with PPML messages can be exchanged."
   ]
  },
  {
   "cell_type": "code",
   "execution_count": null,
   "metadata": {},
   "outputs": [],
   "source": [
    "import syft as sy\n",
    "duet = sy.join_duet(credential_exchanger=datascientist_exchanger)"
   ]
  },
  {
   "cell_type": "markdown",
   "metadata": {},
   "source": [
    "## Congratulations!\n",
    "\n",
    "Once a duet session has been created, you should be able to run any PPML flows that duet/PySyft supports. This is left as an excercise for the interested. Do let me know if you run into any problems, but this has been designed so that the authentication layer is not tightly coupled to the Syft flows. Rather it act's as an entrypoint to a PPML flow."
   ]
  },
  {
   "cell_type": "code",
   "execution_count": null,
   "metadata": {},
   "outputs": [],
   "source": [
    "duet.torch"
   ]
  },
  {
   "cell_type": "code",
   "execution_count": null,
   "metadata": {},
   "outputs": [],
   "source": []
  }
 ],
 "metadata": {
  "kernelspec": {
   "display_name": "Python 3",
   "language": "python",
   "name": "python3"
  },
  "language_info": {
   "codemirror_mode": {
    "name": "ipython",
    "version": 3
   },
   "file_extension": ".py",
   "mimetype": "text/x-python",
   "name": "python",
   "nbconvert_exporter": "python",
   "pygments_lexer": "ipython3",
   "version": "3.8.6"
  }
 },
 "nbformat": 4,
 "nbformat_minor": 4
}
