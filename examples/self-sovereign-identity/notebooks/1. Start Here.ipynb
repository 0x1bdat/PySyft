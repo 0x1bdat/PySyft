{
 "cells": [
  {
   "cell_type": "markdown",
   "metadata": {},
   "source": [
    "# PySyft Duet with SSI Session Authentication Tutorial"
   ]
  },
  {
   "cell_type": "markdown",
   "metadata": {},
   "source": [
    "## Foundations of Private Computation: Public Key Infrastructures\n",
    "\n",
    "This is the final section of the course, it is highly recommended you start from the beginning of the public key infrastructures course. You can find the full set of Foundations of Private Computation courses [here](https://courses.openmined.org/)\n",
    "\n",
    "Alternatively, if you want to get stuck into the code straight away you will at least need to run through the earlier set of notebooks from this course. These will provide assumed background knowledge and issue you with a Verifiable Credential, both of which are **required** to complete this tutorial. You can find these [here](https://github.com/OpenMined/PyDentity/tree/master/tutorials/5.%20OM%20FoPC%20Course%20-%20Public%20Key%20Infrastructures)"
   ]
  },
  {
   "cell_type": "markdown",
   "metadata": {},
   "source": [
    "## Summary\n",
    "\n",
    "In this tutorial we will be bringing together all the components learnt in the previous notebooks into a slightly more realistic version of the same scenario. The same actors are used - the OM Authority, Data Owner and Data Scientist. Again both the Data Owner and Data Scientist must connect with the OM Authoirty to recieve their respective credential. However, the OM Authority is now a hosted full stack application rather than exposed as part of the docker-compose environment you have run. You can access it at [https://om-issuer-demo.openmined.org](https://om-issuer-demo.openmined.org). Using the user interface you will first authenticate, using the credential you issued to your mobile wallet during [part 4](https://om-issuer-demo.openmined.org). Then you will generate a connection (using a different entrypoint) for both the Scientist and Data Owner. By copying these connections into the relevant notebooks, you will establish a connection with the public OM Authority who will then proceed to issue the associated credential.\n",
    "\n",
    "Both DataScientist and DataOwner notebooks use the aries_controlller within a class called the [AriesExchanger.py](./AriesExchanger.py). This class extends the Syft class the DuetTokenExchanger.py, to use the Aries DIDComm channels to exchange the Duet token identifier and establish a WebRTC session. The AriesExchanger allows an optional authentication policy to be specified, which if set must be successfully responded to with the appropriate presentation before a connection is trusted and sent the duet token.\n",
    "\n",
    "You are encouraged to review both the AriesExchange and the DuetTokenExchange files to see how we have done this. It should be familiar to you if you have completed the previous notebook series."
   ]
  },
  {
   "cell_type": "markdown",
   "metadata": {},
   "source": [
    "## Mapping to a Realistic Scenario\n",
    "\n",
    "We believe this maps quite well to a realistic scenario. If you imagine the OM Authority user interface is an administrative application that requires individual employees to authenticate before they can access it's functionality. These individuals might then review applications to either undertake research on private data, or contribute private data sets to researchers. Successful applicants could then be issued credentials which they can use to establish secure authenticated connections across which a PPML channel can be established.\n",
    "\n",
    "Assuming the issuing authority is trusted by both participants, then we have a contextually relevant mechanism for establishing a baseline of trustworthiness between PPML participants.\n",
    "\n",
    "If you could replace the OM Authoirty with a Health Research Regulator who issues credentials attesting to the constraints on health researchers, or hospitals or univerisities isusing credentials against specific data sets they curated. Then things get really interesting."
   ]
  },
  {
   "cell_type": "markdown",
   "metadata": {},
   "source": [
    "## Extensions\n",
    "\n",
    "It is worth emphasising that this code is designed to demonstrate the possibilities for combining ideas from decentralised identity with OpenMined and more broadly privacy-preserving machine learning flows. This work remains exploratory at the moment, but we believe there is a lot of unexplored terrain here and if you are interested we welcome you to explore it with us.\n",
    "\n",
    "Here are some things we think might be interesting:\n",
    "\n",
    "* Verifiable Data Sets, not just actors\n",
    "* Use of credential exchanges to specify permissioning on Syft operations\n",
    "* DIDComm encryption layer for Syft messages"
   ]
  },
  {
   "cell_type": "markdown",
   "metadata": {},
   "source": [
    "# Enjoy the Final Tutorial!"
   ]
  }
 ],
 "metadata": {
  "kernelspec": {
   "display_name": "Python 3",
   "language": "python",
   "name": "python3"
  },
  "language_info": {
   "codemirror_mode": {
    "name": "ipython",
    "version": 3
   },
   "file_extension": ".py",
   "mimetype": "text/x-python",
   "name": "python",
   "nbconvert_exporter": "python",
   "pygments_lexer": "ipython3",
   "version": "3.8.5"
  }
 },
 "nbformat": 4,
 "nbformat_minor": 4
}
