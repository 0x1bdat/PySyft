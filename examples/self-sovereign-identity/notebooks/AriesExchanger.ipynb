{
 "cells": [
  {
   "cell_type": "code",
   "execution_count": 1,
   "metadata": {},
   "outputs": [],
   "source": [
    "import syft as sy"
   ]
  },
  {
   "cell_type": "code",
   "execution_count": 2,
   "metadata": {},
   "outputs": [],
   "source": [
    "from syft.grid.duet.exchange_ids import DuetCredentialExchanger\n",
    "from typing import Any as TypeAny\n"
   ]
  },
  {
   "cell_type": "code",
   "execution_count": 3,
   "metadata": {},
   "outputs": [],
   "source": [
    "class AriesCredentialExchanger(DuetCredentialExchanger):\n",
    "    def __init__(self, agent: TypeAny) -> None:\n",
    "        super().__init__()\n",
    "        self.agent = agent\n",
    "\n",
    "    def run(\n",
    "        self,\n",
    "        credential: str,\n",
    "    ) -> str:\n",
    "        self.requester_id = credential\n",
    "        self.agent.joiner(self.join)\n",
    "        self.agent.send(self.requester_id)\n",
    "        while True:\n",
    "            if self.agent.has_response():\n",
    "                self.responder_id = self.agent.get_responder_id()\n",
    "\n",
    "        return self.responder_id"
   ]
  },
  {
   "cell_type": "code",
   "execution_count": null,
   "metadata": {},
   "outputs": [],
   "source": []
  }
 ],
 "metadata": {
  "kernelspec": {
   "display_name": "Python 3",
   "language": "python",
   "name": "python3"
  },
  "language_info": {
   "codemirror_mode": {
    "name": "ipython",
    "version": 3
   },
   "file_extension": ".py",
   "mimetype": "text/x-python",
   "name": "python",
   "nbconvert_exporter": "python",
   "pygments_lexer": "ipython3",
   "version": "3.8.5"
  }
 },
 "nbformat": 4,
 "nbformat_minor": 4
}
