{
 "cells": [
  {
   "cell_type": "code",
   "execution_count": null,
   "id": "embedded-elizabeth",
   "metadata": {},
   "outputs": [],
   "source": [
    "import syft as sy\n",
    "import torch\n",
    "from torchvision import datasets\n",
    "from torchvision import transforms\n",
    "from collections import OrderedDict\n",
    "import tenseal as ts\n",
    "sy.load_lib(\"tenseal\")"
   ]
  },
  {
   "cell_type": "code",
   "execution_count": null,
   "id": "civilian-display",
   "metadata": {},
   "outputs": [],
   "source": [
    "duet = sy.duet(loopback=True)"
   ]
  },
  {
   "cell_type": "code",
   "execution_count": null,
   "id": "conditional-canvas",
   "metadata": {},
   "outputs": [],
   "source": [
    "duet.requests.add_handler(action=\"accept\")"
   ]
  },
  {
   "cell_type": "markdown",
   "id": "breathing-myanmar",
   "metadata": {},
   "source": [
    "### <img src=\"https://github.com/OpenMined/design-assets/raw/master/logos/OM/mark-primary-light.png\" alt=\"he-black-box\" width=\"100\"/> Checkpoint 1 : Now STOP and run the Data Scientist notebook until the same checkpoint."
   ]
  },
  {
   "cell_type": "code",
   "execution_count": null,
   "id": "focused-suspension",
   "metadata": {},
   "outputs": [],
   "source": [
    "mnist_mean = 0.1307\n",
    "mnist_std = 0.3081\n",
    "batch_size = 64\n",
    "epochs = 10\n",
    "lr = 0.1\n",
    "sigma = 1.0\n",
    "max_per_sample_grad_norm = 1.0\n",
    "delta = 1e-5\n",
    "root = \".\"\n",
    "weights_filename = \"mnist_cnn_weights.pt\"\n",
    "device = torch.device(\"cpu\")\n",
    "\n",
    "test_loader = torch.utils.data.DataLoader(\n",
    "    datasets.MNIST(\n",
    "        root,\n",
    "        train=False,\n",
    "        download=True,\n",
    "        transform=transforms.Compose(\n",
    "            [\n",
    "                transforms.ToTensor(),\n",
    "                transforms.Normalize((mnist_mean,), (mnist_std,)),\n",
    "            ]\n",
    "        ),\n",
    "    ),\n",
    "    batch_size=100,\n",
    "    shuffle=True,\n",
    "    num_workers = 1,\n",
    "    pin_memory = True\n",
    ")"
   ]
  },
  {
   "cell_type": "code",
   "execution_count": null,
   "id": "disabled-bracket",
   "metadata": {},
   "outputs": [],
   "source": [
    "from torch import nn\n",
    "\n",
    "# this shouldn't be here, but can't make it work\n",
    "class ConvolutionalBase(torch.nn.Module):\n",
    "    def __init__(self):\n",
    "        super().__init__()\n",
    "        self.conv1 = nn.Conv2d(1, 16, 8, 2, padding=3)\n",
    "        self.conv2 = nn.Conv2d(16, 32, 4, 2)\n",
    "        \n",
    "    def forward(self, x):\n",
    "        x = nn.functional.relu(self.conv1(x))\n",
    "        x = nn.functional.max_pool2d(x, 2, 1)\n",
    "        x = nn.functional.relu(self.conv2(x))\n",
    "        x = nn.functional.max_pool2d(x, 2, 1)\n",
    "        x = x.view(-1, 32 * 4 * 4)\n",
    "        return x"
   ]
  },
  {
   "cell_type": "code",
   "execution_count": null,
   "id": "trying-vatican",
   "metadata": {},
   "outputs": [],
   "source": [
    "conv_base_names = duet.store[\"conv_base_names\"].get()\n",
    "conv_base_weights = duet.store[\"conv_base_weights\"].get()"
   ]
  },
  {
   "cell_type": "code",
   "execution_count": null,
   "id": "massive-ballot",
   "metadata": {},
   "outputs": [],
   "source": [
    "conv_base_state_dict = OrderedDict()\n",
    "\n",
    "for conv_base_name, conv_base_weight in zip(conv_base_names, conv_base_weights):\n",
    "    conv_base_state_dict[conv_base_name] = conv_base_weight\n",
    "\n",
    "conv_base = ConvolutionalBase()\n",
    "conv_base.load_state_dict(conv_base_state_dict)"
   ]
  },
  {
   "cell_type": "code",
   "execution_count": null,
   "id": "liked-aerospace",
   "metadata": {},
   "outputs": [],
   "source": [
    "secret_data, secret_labels = next(iter(test_loader))\n",
    "test_batch_size = 1\n",
    "offset = 20\n",
    "data_sample = secret_data[offset: offset + test_batch_size]\n",
    "label_sample = secret_labels[offset: offset + test_batch_size]\n",
    "\n",
    "batch_size_ptr = sy.lib.python.Int(test_batch_size).send(duet, searchable=True, tags=[\"batch_size\"])"
   ]
  },
  {
   "cell_type": "code",
   "execution_count": null,
   "id": "entire-offset",
   "metadata": {},
   "outputs": [],
   "source": [
    "intermediary_activation_data_sample = conv_base(data_sample)"
   ]
  },
  {
   "cell_type": "code",
   "execution_count": null,
   "id": "sticky-favorite",
   "metadata": {},
   "outputs": [],
   "source": [
    "def create_ctx():\n",
    "    poly_mod_degree = 8192\n",
    "    coeff_mod_bit_sizes = [40, 21, 21, 21, 21, 40]\n",
    "    ctx = ts.context(ts.SCHEME_TYPE.CKKS, poly_mod_degree, -1, coeff_mod_bit_sizes)\n",
    "    ctx.global_scale = 2 ** 21\n",
    "    return ctx\n",
    "\n",
    "def prepare_encrypted_activation(context, activation_sample):\n",
    "    return ts.ckks_tensor(context, activation_sample.detach().numpy())"
   ]
  },
  {
   "cell_type": "code",
   "execution_count": null,
   "id": "threaded-slave",
   "metadata": {},
   "outputs": [],
   "source": [
    "context = create_ctx()\n",
    "ctx_ptr = context.send(duet, searchable=True, tags=[\"context\"])"
   ]
  },
  {
   "cell_type": "code",
   "execution_count": null,
   "id": "cutting-product",
   "metadata": {},
   "outputs": [],
   "source": [
    "encrypted_activation = prepare_encrypted_activation(context, intermediary_activation_data_sample)\n",
    "encrypted_activation_ptr = encrypted_activation.send(duet, searchable=True, tags=[\"encrypted_activation\"])"
   ]
  },
  {
   "cell_type": "code",
   "execution_count": null,
   "id": "embedded-scottish",
   "metadata": {},
   "outputs": [],
   "source": [
    "duet.store.pandas"
   ]
  },
  {
   "cell_type": "markdown",
   "id": "handled-worst",
   "metadata": {},
   "source": [
    "### <img src=\"https://github.com/OpenMined/design-assets/raw/master/logos/OM/mark-primary-light.png\" alt=\"he-black-box\" width=\"100\"/> Checkpoint 2 : Now STOP and run the Data Scientist notebook until the same checkpoint."
   ]
  },
  {
   "cell_type": "code",
   "execution_count": null,
   "id": "invisible-conversation",
   "metadata": {},
   "outputs": [],
   "source": [
    "result = duet.store[\"result\"].get(delete_obj=False)\n",
    "result.link_context(context)\n",
    "\n",
    "result = result.decrypt()"
   ]
  },
  {
   "cell_type": "code",
   "execution_count": null,
   "id": "secondary-glucose",
   "metadata": {},
   "outputs": [],
   "source": [
    "probs = torch.nn.functional.softmax(torch.tensor(result.tolist()), dim=1)\n",
    "label_max = torch.argmax(probs, dim=1)\n",
    "\n",
    "print(f\"Maximum probability for label {label_max} with true_label {label_sample}\")"
   ]
  },
  {
   "cell_type": "markdown",
   "id": "varied-joyce",
   "metadata": {},
   "source": [
    "### <img src=\"https://github.com/OpenMined/design-assets/raw/master/logos/OM/mark-primary-light.png\" alt=\"he-black-box\" width=\"100\"/> Checkpoint 3 : Well done!"
   ]
  },
  {
   "cell_type": "markdown",
   "id": "metallic-effectiveness",
   "metadata": {},
   "source": [
    "# Congratulations!!! - Time to Join the Community!\n",
    "\n",
    "Congratulations on completing this notebook tutorial! If you enjoyed this and would like to join the movement toward privacy preserving, decentralized ownership of AI and the AI supply chain (data), you can do so in the following ways!\n",
    "\n",
    "### Star PySyft on GitHub\n",
    "\n",
    "The easiest way to help our community is just by starring the Repos! This helps raise awareness of the cool tools we're building.\n",
    "\n",
    "- [Star PySyft](https://github.com/OpenMined/PySyft)\n",
    "\n",
    "### Join our Slack!\n",
    "\n",
    "The best way to keep up to date on the latest advancements is to join our community! You can do so by filling out the form at [http://slack.openmined.org](http://slack.openmined.org). #lib_tenseal and #code_tenseal are the main channels for the TenSEAL project.\n",
    "\n",
    "### Donate\n",
    "\n",
    "If you don't have time to contribute to our codebase, but would still like to lend support, you can also become a Backer on our Open Collective. All donations go toward our web hosting and other community expenses such as hackathons and meetups!\n",
    "\n",
    "[OpenMined's Open Collective Page](https://opencollective.com/openmined)"
   ]
  },
  {
   "cell_type": "code",
   "execution_count": null,
   "id": "considered-frost",
   "metadata": {},
   "outputs": [],
   "source": []
  }
 ],
 "metadata": {
  "kernelspec": {
   "display_name": "pysyft",
   "language": "python",
   "name": "pysyft"
  },
  "language_info": {
   "codemirror_mode": {
    "name": "ipython",
    "version": 3
   },
   "file_extension": ".py",
   "mimetype": "text/x-python",
   "name": "python",
   "nbconvert_exporter": "python",
   "pygments_lexer": "ipython3",
   "version": "3.8.5"
  }
 },
 "nbformat": 4,
 "nbformat_minor": 5
}
