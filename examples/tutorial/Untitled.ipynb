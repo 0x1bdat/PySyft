{
 "cells": [
  {
   "cell_type": "code",
   "execution_count": 1,
   "metadata": {},
   "outputs": [],
   "source": [
    "import torch\n",
    "import syft as sy\n",
    "import copy\n",
    "hook = sy.TorchHook(torch)\n",
    "from torch import nn\n",
    "from syft import optim\n",
    "\n",
    "# create a couple workers\n",
    "\n",
    "bob = sy.VirtualWorker(hook, id=\"bob\")\n",
    "alice = sy.VirtualWorker(hook, id=\"alice\")\n",
    "secure_worker = sy.VirtualWorker(hook, id=\"secure_worker\")\n",
    "\n",
    "bob.add_workers([alice, secure_worker])\n",
    "alice.add_workers([bob, secure_worker])\n",
    "secure_worker.add_workers([alice, bob])"
   ]
  },
  {
   "cell_type": "code",
   "execution_count": 3,
   "metadata": {},
   "outputs": [],
   "source": [
    "import syft"
   ]
  },
  {
   "cell_type": "code",
   "execution_count": 6,
   "metadata": {},
   "outputs": [
    {
     "name": "stdout",
     "output_type": "stream",
     "text": [
      "Log add\n"
     ]
    }
   ],
   "source": [
    "# create remote object with children\n",
    "x = torch.Tensor([1, 2, 3])\n",
    "x = syft.LoggingTensor().on(x).send(bob)\n",
    "\n",
    "# call method on data tensor directly\n",
    "x.child.point_to_attr = \"child.child\"\n",
    "y = x.add(x)\n",
    "assert isinstance(y.get(), torch.Tensor)\n",
    "\n",
    "# call method on loggingtensor directly\n",
    "x.child.point_to_attr = \"child\"\n",
    "y = x.add(x)\n",
    "y = y.get()\n",
    "assert isinstance(y.child, syft.LoggingTensor)"
   ]
  },
  {
   "cell_type": "code",
   "execution_count": null,
   "metadata": {},
   "outputs": [],
   "source": []
  },
  {
   "cell_type": "code",
   "execution_count": null,
   "metadata": {},
   "outputs": [],
   "source": []
  },
  {
   "cell_type": "code",
   "execution_count": 1,
   "metadata": {},
   "outputs": [
    {
     "name": "stdout",
     "output_type": "stream",
     "text": [
      "routing:('OBJ', tensor([[0., 0.],\n",
      "        [0., 1.]]))\n",
      "routing:('OBJ', tensor([[0.],\n",
      "        [0.]]))\n",
      "routing:('OBJ', tensor([[1., 0.],\n",
      "        [1., 1.]]))\n",
      "routing:('OBJ', tensor([[1.],\n",
      "        [1.]]))\n",
      "routing:('OBJ', Parameter containing:\n",
      "tensor([[-0.0775,  0.4842]], requires_grad=True))\n",
      "disabling gc\n",
      "18266990651\n",
      "18266990651\n",
      "((Wrapper)>[PointerTensor - 68765694695@bob]::grad,)\n",
      "sending command:('__isub__', [PointerTensor - 68765694695@bob]::grad, ([PointerTensor - 68765694695@bob]::grad,))\n",
      "id at locatin:68765694695\n",
      "sending command:('t', [PointerTensor - 68765694695@bob], ())\n",
      "id at locatin:68765694695\n",
      "routing:('CMD', (b't', Parameter containing:\n",
      "tensor([[-0.0775,  0.4842]], requires_grad=True), ()))\n",
      "execute_command:(b't', Parameter containing:\n",
      "tensor([[-0.0775,  0.4842]], requires_grad=True), ())\n",
      "registered response\n",
      "response from execute_command:[PointerTensor - 27163571729@bob]\n",
      "before serialization\n",
      "[PointerTensor - 27163571729@bob]\n",
      "receiving response:[PointerTensor - 27163571729@bob]\n",
      "we got a response!:[PointerTensor - 27163571729@bob]\n",
      "t\n",
      "about to hook response\n",
      "sending command:('mm', [PointerTensor - 40364542538@bob], ([PointerTensor - 27163571729@bob],))\n",
      "id at locatin:40364542538\n",
      "id at locatin:27163571729\n",
      "routing:('CMD', (b'mm', tensor([[0., 0.],\n",
      "        [0., 1.]]), (tensor([[-0.0775],\n",
      "        [ 0.4842]], grad_fn=<TBackward>),)))\n",
      "execute_command:(b'mm', tensor([[0., 0.],\n",
      "        [0., 1.]]), (tensor([[-0.0775],\n",
      "        [ 0.4842]], grad_fn=<TBackward>),))\n",
      "registered response\n",
      "response from execute_command:[PointerTensor - 34858828597@bob]\n",
      "before serialization\n",
      "[PointerTensor - 34858828597@bob]\n",
      "receiving response:[PointerTensor - 34858828597@bob]\n",
      "we got a response!:[PointerTensor - 34858828597@bob]\n",
      "mm\n",
      "about to hook response\n",
      "routing:('OBJ_DEL', 27163571729)\n",
      "sending command:('__sub__', [PointerTensor - 34858828597@bob], ([PointerTensor - 52191301638@bob],))\n",
      "id at locatin:34858828597\n",
      "id at locatin:52191301638\n",
      "routing:('CMD', (b'__sub__', tensor([[0.0000],\n",
      "        [0.4842]], grad_fn=<MmBackward>), (tensor([[0.],\n",
      "        [0.]]),)))\n",
      "execute_command:(b'__sub__', tensor([[0.0000],\n",
      "        [0.4842]], grad_fn=<MmBackward>), (tensor([[0.],\n",
      "        [0.]]),))\n",
      "registered response\n",
      "response from execute_command:[PointerTensor - 95441453794@bob]\n",
      "before serialization\n",
      "[PointerTensor - 95441453794@bob]\n",
      "receiving response:[PointerTensor - 95441453794@bob]\n",
      "we got a response!:[PointerTensor - 95441453794@bob]\n",
      "__sub__\n",
      "about to hook response\n",
      "sending command:('__pow__', [PointerTensor - 95441453794@bob], (2,))\n",
      "id at locatin:95441453794\n",
      "routing:('CMD', (b'__pow__', tensor([[0.0000],\n",
      "        [0.4842]], grad_fn=<SubBackward0>), (2,)))\n",
      "execute_command:(b'__pow__', tensor([[0.0000],\n",
      "        [0.4842]], grad_fn=<SubBackward0>), (2,))\n",
      "registered response\n",
      "response from execute_command:[PointerTensor - 18948140169@bob]\n",
      "before serialization\n",
      "[PointerTensor - 18948140169@bob]\n",
      "receiving response:[PointerTensor - 18948140169@bob]\n",
      "we got a response!:[PointerTensor - 18948140169@bob]\n",
      "__pow__\n",
      "about to hook response\n",
      "routing:('OBJ_DEL', 95441453794)\n",
      "sending command:('sum', [PointerTensor - 18948140169@bob], ())\n",
      "id at locatin:18948140169\n",
      "routing:('CMD', (b'sum', tensor([[0.0000],\n",
      "        [0.2345]], grad_fn=<PowBackward0>), ()))\n",
      "execute_command:(b'sum', tensor([[0.0000],\n",
      "        [0.2345]], grad_fn=<PowBackward0>), ())\n",
      "registered response\n",
      "response from execute_command:[PointerTensor - 71357721663@bob]\n",
      "before serialization\n",
      "[PointerTensor - 71357721663@bob]\n",
      "receiving response:[PointerTensor - 71357721663@bob]\n",
      "we got a response!:[PointerTensor - 71357721663@bob]\n",
      "sum\n",
      "about to hook response\n",
      "routing:('OBJ_DEL', 18948140169)\n",
      "sending command:('backward', [PointerTensor - 71357721663@bob], ())\n",
      "id at locatin:71357721663\n",
      "routing:('CMD', (b'backward', tensor(0.2345, grad_fn=<SumBackward0>), ()))\n",
      "execute_command:(b'backward', tensor(0.2345, grad_fn=<SumBackward0>), ())\n",
      "receiving response:None\n",
      "we got a response!:None\n",
      "backward\n",
      "about to hook response\n",
      "returning child\n",
      "disabling gc\n",
      "18266990651\n",
      "18266990651\n",
      "(2,)\n",
      "sending command:('__isub__', [PointerTensor - 68765694695@bob]::data, (2,))\n",
      "id at locatin:68765694695\n",
      "tensor attr:data id with attr:69321519038\n",
      "routing:('CMD', (b'__isub__', tensor([[-0.0775,  0.4842]]), (2,)))\n",
      "execute_command:(b'__isub__', tensor([[-0.0775,  0.4842]]), (2,))\n",
      "skip registration\n",
      "response from execute_command:[PointerTensor - 69321519038@bob]\n",
      "before serialization\n",
      "[PointerTensor - 69321519038@bob]\n",
      "receiving response:[PointerTensor - 69321519038@bob]\n",
      "we got a response!:[PointerTensor - 69321519038@bob]\n",
      "__isub__\n",
      "about to hook response\n",
      "FOUND INLINE: returning new self\n",
      "routing:('OBJ_DEL', 69321519038)\n",
      "routing:('OBJ_DEL', 68765694695)\n"
     ]
    }
   ],
   "source": [
    "\n",
    "\n",
    "# A Toy Dataset\n",
    "data = torch.tensor([[0,0.],[0,1],[1,0],[1,1]])\n",
    "target = torch.tensor([[0.],[0],[1],[1]])\n",
    "\n",
    "# get pointers to training data on each worker by\n",
    "# sending some training data to bob and alice\n",
    "bobs_data = data[0:2].send(bob)\n",
    "bobs_target = target[0:2].send(bob)\n",
    "\n",
    "alices_data = data[2:].send(alice)\n",
    "alices_target = target[2:].send(alice)\n",
    "\n",
    "import torch\n",
    "from torch.nn.parameter import Parameter\n",
    "from torch.nn import functional as F\n",
    "from torch.nn import init\n",
    "from torch.nn.modules.module import Module\n",
    "import math\n",
    "\n",
    "class Linear(Module):\n",
    "    r\"\"\"Applies a linear transformation to the incoming data: :math:`y = xA^T + b`\n",
    "\n",
    "    Args:\n",
    "        in_features: size of each input sample\n",
    "        out_features: size of each output sample\n",
    "        bias: If set to False, the layer will not learn an additive bias.\n",
    "            Default: ``True``\n",
    "\n",
    "    Shape:\n",
    "        - Input: :math:`(N, *, \\text{in\\_features})` where :math:`*` means any number of\n",
    "          additional dimensions\n",
    "        - Output: :math:`(N, *, \\text{out\\_features})` where all but the last dimension\n",
    "          are the same shape as the input.\n",
    "\n",
    "    Attributes:\n",
    "        weight: the learnable weights of the module of shape\n",
    "            :math:`(\\text{out\\_features}, \\text{in\\_features})`. The values are\n",
    "            initialized from :math:`\\mathcal{U}(-\\sqrt{k}, \\sqrt{k})`, where\n",
    "            :math:`k = \\frac{1}{\\text{in\\_features}}`\n",
    "        bias:   the learnable bias of the module of shape :math:`(\\text{out\\_features})`.\n",
    "                If :attr:`bias` is ``True``, the values are initialized from\n",
    "                :math:`\\mathcal{U}(-\\sqrt{k}, \\sqrt{k})` where\n",
    "                :math:`k = \\frac{1}{\\text{in\\_features}}`\n",
    "\n",
    "    Examples::\n",
    "\n",
    "        >>> m = nn.Linear(20, 30)\n",
    "        >>> input = torch.randn(128, 20)\n",
    "        >>> output = m(input)\n",
    "        >>> print(output.size())\n",
    "        torch.Size([128, 30])\n",
    "    \"\"\"\n",
    "    __constants__ = ['bias']\n",
    "\n",
    "    def __init__(self, in_features, out_features, bias=True):\n",
    "        super(Linear, self).__init__()\n",
    "        self.in_features = in_features\n",
    "        self.out_features = out_features\n",
    "        self.weight = Parameter(torch.Tensor(out_features, in_features))\n",
    "        if bias:\n",
    "            self.bias = Parameter(torch.Tensor(out_features))\n",
    "        else:\n",
    "            self.register_parameter('bias', None)\n",
    "        self.reset_parameters()\n",
    "\n",
    "    def reset_parameters(self):\n",
    "        init.kaiming_uniform_(self.weight, a=math.sqrt(5))\n",
    "        if self.bias is not None:\n",
    "            fan_in, _ = init._calculate_fan_in_and_fan_out(self.weight)\n",
    "            bound = 1 / math.sqrt(fan_in)\n",
    "            init.uniform_(self.bias, -bound, bound)\n",
    "\n",
    "    def forward(self, input):\n",
    "        t = self.weight.t()\n",
    "        return input.mm(t)\n",
    "#         return F.linear(input, self.weight, self.bias)\n",
    "\n",
    "    def extra_repr(self):\n",
    "        return 'in_features={}, out_features={}, bias={}'.format(\n",
    "            self.in_features, self.out_features, self.bias is not None\n",
    "        )\n",
    "\n",
    "class SGD:\n",
    "    def __init__(self, params, lr):\n",
    "\n",
    "        # doing this as a list isn't memory efficient\n",
    "        self.params = list(params)\n",
    "        self.lr = lr\n",
    "\n",
    "    def step(self):\n",
    "\n",
    "        # TODO: all all the SGD features from PyTorch's SGD\n",
    "        for p in self.params:\n",
    "            print(p.location[p.id_at_location])\n",
    "            p.data -= p.grad# * self.lr\n",
    "            print(p.location[p.id_at_location])\n",
    "\n",
    "    def zero_grad(self):\n",
    "        \"\"\"We need to use a try/catch because our pointers\n",
    "        don't always know whether they point to an object\n",
    "        that exists or not. At the moment, finding out requires\n",
    "        calling .get() which compromises privacy. There may be\n",
    "        a more nuanced way to do this in the future.\"\"\"\n",
    "\n",
    "        for p in self.params:\n",
    "            try:\n",
    "                p.grad -= p.grad\n",
    "            except:\n",
    "                \"\"\n",
    "\n",
    "\n",
    "# Iniitalize A Toy Model\n",
    "model = Linear(2,1, bias=False)\n",
    "\n",
    "bobs_model = model.copy().send(bob)\n",
    "\n",
    "bobs_opt = SGD(params=bobs_model.parameters(),lr=0.1)\n",
    "\n",
    "bobs_opt.zero_grad()\n",
    "bobs_pred = bobs_model(bobs_data)\n",
    "bobs_loss = ((bobs_pred - bobs_target)**2).sum()\n",
    "bobs_loss.backward()\n",
    "\n",
    "p = bobs_opt.params[0]\n",
    "# p.data -= 2"
   ]
  },
  {
   "cell_type": "code",
   "execution_count": null,
   "metadata": {},
   "outputs": [],
   "source": [
    "p.location[p.id_at_location]"
   ]
  },
  {
   "cell_type": "code",
   "execution_count": 2,
   "metadata": {},
   "outputs": [
    {
     "data": {
      "text/plain": [
       "68765694695"
      ]
     },
     "execution_count": 2,
     "metadata": {},
     "output_type": "execute_result"
    }
   ],
   "source": [
    "p.id_at_location"
   ]
  },
  {
   "cell_type": "code",
   "execution_count": 3,
   "metadata": {},
   "outputs": [
    {
     "ename": "KeyError",
     "evalue": "68765694695",
     "output_type": "error",
     "traceback": [
      "\u001b[0;31m---------------------------------------------------------------------------\u001b[0m",
      "\u001b[0;31mKeyError\u001b[0m                                  Traceback (most recent call last)",
      "\u001b[0;32m<ipython-input-3-bb1ec4cca90d>\u001b[0m in \u001b[0;36m<module>\u001b[0;34m()\u001b[0m\n\u001b[0;32m----> 1\u001b[0;31m \u001b[0mp\u001b[0m\u001b[0;34m.\u001b[0m\u001b[0mlocation\u001b[0m\u001b[0;34m[\u001b[0m\u001b[0mp\u001b[0m\u001b[0;34m.\u001b[0m\u001b[0mid_at_location\u001b[0m\u001b[0;34m]\u001b[0m\u001b[0;34m\u001b[0m\u001b[0m\n\u001b[0m",
      "\u001b[0;32m/Users/atrask/anaconda/lib/python3.6/site-packages/syft-0.1.0-py3.6.egg/syft/workers/base.py\u001b[0m in \u001b[0;36m__getitem__\u001b[0;34m(self, idx)\u001b[0m\n\u001b[1;32m    585\u001b[0m \u001b[0;34m\u001b[0m\u001b[0m\n\u001b[1;32m    586\u001b[0m     \u001b[0;32mdef\u001b[0m \u001b[0m__getitem__\u001b[0m\u001b[0;34m(\u001b[0m\u001b[0mself\u001b[0m\u001b[0;34m,\u001b[0m \u001b[0midx\u001b[0m\u001b[0;34m)\u001b[0m\u001b[0;34m:\u001b[0m\u001b[0;34m\u001b[0m\u001b[0m\n\u001b[0;32m--> 587\u001b[0;31m         \u001b[0;32mreturn\u001b[0m \u001b[0mself\u001b[0m\u001b[0;34m.\u001b[0m\u001b[0m_objects\u001b[0m\u001b[0;34m[\u001b[0m\u001b[0midx\u001b[0m\u001b[0;34m]\u001b[0m\u001b[0;34m\u001b[0m\u001b[0m\n\u001b[0m",
      "\u001b[0;31mKeyError\u001b[0m: 68765694695"
     ]
    }
   ],
   "source": []
  },
  {
   "cell_type": "code",
   "execution_count": null,
   "metadata": {},
   "outputs": [],
   "source": []
  },
  {
   "cell_type": "code",
   "execution_count": null,
   "metadata": {},
   "outputs": [],
   "source": []
  },
  {
   "cell_type": "code",
   "execution_count": null,
   "metadata": {},
   "outputs": [],
   "source": []
  },
  {
   "cell_type": "code",
   "execution_count": null,
   "metadata": {},
   "outputs": [],
   "source": []
  },
  {
   "cell_type": "code",
   "execution_count": null,
   "metadata": {},
   "outputs": [],
   "source": []
  },
  {
   "cell_type": "code",
   "execution_count": null,
   "metadata": {},
   "outputs": [],
   "source": []
  },
  {
   "cell_type": "code",
   "execution_count": null,
   "metadata": {},
   "outputs": [],
   "source": []
  },
  {
   "cell_type": "code",
   "execution_count": null,
   "metadata": {},
   "outputs": [],
   "source": []
  },
  {
   "cell_type": "code",
   "execution_count": null,
   "metadata": {},
   "outputs": [],
   "source": []
  },
  {
   "cell_type": "code",
   "execution_count": null,
   "metadata": {},
   "outputs": [],
   "source": []
  },
  {
   "cell_type": "code",
   "execution_count": null,
   "metadata": {},
   "outputs": [],
   "source": []
  },
  {
   "cell_type": "code",
   "execution_count": null,
   "metadata": {},
   "outputs": [],
   "source": []
  },
  {
   "cell_type": "code",
   "execution_count": null,
   "metadata": {},
   "outputs": [],
   "source": []
  },
  {
   "cell_type": "code",
   "execution_count": null,
   "metadata": {},
   "outputs": [],
   "source": []
  },
  {
   "cell_type": "code",
   "execution_count": null,
   "metadata": {},
   "outputs": [],
   "source": []
  },
  {
   "cell_type": "code",
   "execution_count": null,
   "metadata": {},
   "outputs": [],
   "source": []
  },
  {
   "cell_type": "code",
   "execution_count": null,
   "metadata": {},
   "outputs": [],
   "source": []
  },
  {
   "cell_type": "code",
   "execution_count": 1,
   "metadata": {},
   "outputs": [
    {
     "name": "stdout",
     "output_type": "stream",
     "text": [
      "routing:('OBJ', Parameter containing:\n",
      "tensor([1., 2., 3., 4.], requires_grad=True))\n"
     ]
    }
   ],
   "source": [
    "import torch\n",
    "import syft as sy\n",
    "import copy\n",
    "hook = sy.TorchHook(torch)\n",
    "from torch import nn\n",
    "from syft import optim\n",
    "\n",
    "# create a couple workers\n",
    "\n",
    "bob = sy.VirtualWorker(hook, id=\"bob\")\n",
    "''\n",
    "x = nn.Parameter(torch.tensor([1.,2,3,4])).send(bob)\n"
   ]
  },
  {
   "cell_type": "code",
   "execution_count": 2,
   "metadata": {},
   "outputs": [],
   "source": [
    "# p = x.location[x.id_at_location].data\n",
    "# message = (b'__iadd__', p, [p])\n",
    "# bob.execute_command(message)\n",
    "# x.location[x.id_at_location]"
   ]
  },
  {
   "cell_type": "code",
   "execution_count": null,
   "metadata": {},
   "outputs": [],
   "source": []
  },
  {
   "cell_type": "code",
   "execution_count": null,
   "metadata": {},
   "outputs": [],
   "source": []
  },
  {
   "cell_type": "code",
   "execution_count": 3,
   "metadata": {},
   "outputs": [
    {
     "name": "stdout",
     "output_type": "stream",
     "text": [
      "returning child\n"
     ]
    },
    {
     "data": {
      "text/plain": [
       "82525288441"
      ]
     },
     "execution_count": 3,
     "metadata": {},
     "output_type": "execute_result"
    }
   ],
   "source": [
    "x.data.id_at_location"
   ]
  },
  {
   "cell_type": "code",
   "execution_count": 4,
   "metadata": {},
   "outputs": [
    {
     "data": {
      "text/plain": [
       "torch.nn.parameter.Parameter"
      ]
     },
     "execution_count": 4,
     "metadata": {},
     "output_type": "execute_result"
    }
   ],
   "source": [
    "type(x.location[x.id_at_location])"
   ]
  },
  {
   "cell_type": "code",
   "execution_count": 5,
   "metadata": {},
   "outputs": [
    {
     "data": {
      "text/plain": [
       "tensor([1., 2., 3., 4.])"
      ]
     },
     "execution_count": 5,
     "metadata": {},
     "output_type": "execute_result"
    }
   ],
   "source": [
    "x.location[x.id_at_location].data"
   ]
  },
  {
   "cell_type": "code",
   "execution_count": 6,
   "metadata": {},
   "outputs": [],
   "source": [
    "x.child.garbage_collect_data = False"
   ]
  },
  {
   "cell_type": "code",
   "execution_count": 7,
   "metadata": {},
   "outputs": [
    {
     "data": {
      "text/plain": [
       "82525288441"
      ]
     },
     "execution_count": 7,
     "metadata": {},
     "output_type": "execute_result"
    }
   ],
   "source": [
    "x.id_at_location"
   ]
  },
  {
   "cell_type": "code",
   "execution_count": 8,
   "metadata": {},
   "outputs": [
    {
     "name": "stdout",
     "output_type": "stream",
     "text": [
      "returning child\n",
      "disabling gc\n",
      "83882526630\n",
      "32458995603\n",
      "(1,)\n",
      "sending command:('__isub__', [PointerTensor - 82525288441@bob]::data, (1,))\n",
      "id at locatin:82525288441\n",
      "tensor attr:data id with attr:58917646075\n",
      "routing:('CMD', (b'__isub__', tensor([1., 2., 3., 4.]), (1,)))\n",
      "execute_command:(b'__isub__', tensor([1., 2., 3., 4.]), (1,))\n",
      "skip registration\n",
      "response from execute_command:[PointerTensor - 58917646075@bob]\n",
      "before serialization\n",
      "[PointerTensor - 58917646075@bob]\n",
      "receiving response:[PointerTensor - 58917646075@bob]\n",
      "we got a response!:[PointerTensor - 58917646075@bob]\n",
      "__isub__\n",
      "about to hook response\n",
      "FOUND INLINE: returning new self\n",
      "routing:('OBJ_DEL', 58917646075)\n"
     ]
    }
   ],
   "source": [
    "x.data -= 1"
   ]
  },
  {
   "cell_type": "code",
   "execution_count": 9,
   "metadata": {},
   "outputs": [
    {
     "data": {
      "text/plain": [
       "82525288441"
      ]
     },
     "execution_count": 9,
     "metadata": {},
     "output_type": "execute_result"
    }
   ],
   "source": [
    "x.id_at_location"
   ]
  },
  {
   "cell_type": "code",
   "execution_count": 10,
   "metadata": {},
   "outputs": [
    {
     "data": {
      "text/plain": [
       "Parameter containing:\n",
       "tensor([0., 1., 2., 3.], requires_grad=True)"
      ]
     },
     "execution_count": 10,
     "metadata": {},
     "output_type": "execute_result"
    }
   ],
   "source": [
    "x.location[x.id_at_location]"
   ]
  },
  {
   "cell_type": "code",
   "execution_count": 5,
   "metadata": {},
   "outputs": [
    {
     "data": {
      "text/plain": [
       "Parameter containing:\n",
       "(Wrapper)>[PointerTensor - 87076410322@bob]"
      ]
     },
     "execution_count": 5,
     "metadata": {},
     "output_type": "execute_result"
    }
   ],
   "source": [
    "x"
   ]
  },
  {
   "cell_type": "code",
   "execution_count": null,
   "metadata": {},
   "outputs": [],
   "source": []
  },
  {
   "cell_type": "code",
   "execution_count": null,
   "metadata": {},
   "outputs": [],
   "source": []
  },
  {
   "cell_type": "code",
   "execution_count": null,
   "metadata": {},
   "outputs": [],
   "source": []
  }
 ],
 "metadata": {
  "kernelspec": {
   "display_name": "Python 3",
   "language": "python",
   "name": "python3"
  },
  "language_info": {
   "codemirror_mode": {
    "name": "ipython",
    "version": 3
   },
   "file_extension": ".py",
   "mimetype": "text/x-python",
   "name": "python",
   "nbconvert_exporter": "python",
   "pygments_lexer": "ipython3",
   "version": "3.6.1"
  }
 },
 "nbformat": 4,
 "nbformat_minor": 2
}
