{
 "cells": [
  {
   "cell_type": "code",
   "execution_count": 1,
   "metadata": {},
   "outputs": [
    {
     "name": "stdout",
     "output_type": "stream",
     "text": [
      "copying static methods from:<built-in method tensor of type object at 0x119e874a0> to <syft.torch_.lowercase_tensor.LowercaseTensorConstructor object at 0x7f93f8d23d68>\n",
      "copying static methods from:<class 'torch.Tensor'> to <syft.torch_.uppercase_tensor.UppercaseTensorConstructor object at 0x7f93d872bf60>\n",
      "copying static methods from:<class 'torch.nn.parameter.Parameter'> to <syft.torch_.parameter.ParameterConstructor object at 0x7f93f8e49080>\n",
      "copying static methods from:<function constant at 0x7f94188eeb70> to <syft.tensorflow_.constant.ConstantConstructor object at 0x7f93f8e49320>\n",
      "copying static methods from:<class 'tensorflow.python.framework.ops.EagerTensor'> to <syft.tensorflow_.eager_tensor.EagerTensorConstructor object at 0x7f93f8e49438>\n",
      "copying static methods from:<class 'tensorflow.python.ops.variables.Variable'> to <syft.tensorflow_.variable.VariableConstructor object at 0x7f93d872bf28>\n"
     ]
    }
   ],
   "source": [
    "import numpy as np\n",
    "import torch as th\n",
    "import tensorflow as tf\n",
    "import jax as jx\n",
    "\n",
    "from syft import torch_ as th_\n",
    "from syft import tensorflow_ as tf_"
   ]
  },
  {
   "cell_type": "code",
   "execution_count": null,
   "metadata": {},
   "outputs": [],
   "source": []
  }
 ],
 "metadata": {
  "kernelspec": {
   "display_name": "torch1.5kernel",
   "language": "python",
   "name": "torch1.5kernel"
  },
  "language_info": {
   "codemirror_mode": {
    "name": "ipython",
    "version": 3
   },
   "file_extension": ".py",
   "mimetype": "text/x-python",
   "name": "python",
   "nbconvert_exporter": "python",
   "pygments_lexer": "ipython3",
   "version": "3.6.10"
  }
 },
 "nbformat": 4,
 "nbformat_minor": 4
}
