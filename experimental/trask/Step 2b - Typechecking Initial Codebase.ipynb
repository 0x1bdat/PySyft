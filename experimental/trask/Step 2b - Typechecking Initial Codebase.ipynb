{
 "cells": [
  {
   "cell_type": "code",
   "execution_count": 1,
   "metadata": {},
   "outputs": [],
   "source": [
    "import numpy as np\n",
    "import torch as th\n",
    "import tensorflow as tf\n",
    "import jax as jx\n",
    "\n",
    "from syft import torch_ as th_\n",
    "from syft import tensorflow_ as tf_"
   ]
  },
  {
   "cell_type": "code",
   "execution_count": null,
   "metadata": {},
   "outputs": [],
   "source": []
  },
  {
   "cell_type": "code",
   "execution_count": null,
   "metadata": {},
   "outputs": [],
   "source": []
  },
  {
   "cell_type": "code",
   "execution_count": null,
   "metadata": {},
   "outputs": [],
   "source": []
  },
  {
   "cell_type": "code",
   "execution_count": 2,
   "metadata": {},
   "outputs": [],
   "source": [
    "from dpcontracts import require, ensure"
   ]
  },
  {
   "cell_type": "code",
   "execution_count": 3,
   "metadata": {},
   "outputs": [],
   "source": [
    "@require(\"`i` must be an integer\", lambda args: isinstance(args.i, int))\n",
    "@require(\"`j` must be an integer\", lambda args: isinstance(args.j, int))\n",
    "def add2(i, j):\n",
    "    return i + j"
   ]
  },
  {
   "cell_type": "code",
   "execution_count": 5,
   "metadata": {},
   "outputs": [],
   "source": [
    "\n",
    "def add2(i:int, j:int):\n",
    "    \"\""
   ]
  },
  {
   "cell_type": "code",
   "execution_count": 171,
   "metadata": {},
   "outputs": [],
   "source": [
    "def check_type_hints(decorated):\n",
    "\n",
    "    def check_argument_types(args):\n",
    "        for arg_name, arg_type in decorated.__annotations__.items():\n",
    "            arg_value = getattr(args, arg_name)\n",
    "            if not isinstance(arg_value, arg_type):\n",
    "                raise AttributeError(f\"Argument '{arg_name}' should be an {arg_type} but received {type(arg_value)} instead\")\n",
    "\n",
    "        return True\n",
    "\n",
    "    def arg_kwarg_policy_checker(args):\n",
    "        print(args)\n",
    "        return True\n",
    "#         lambda args: len(args.args) ==0\n",
    "    \n",
    "    @require(\"Please use kwargs for all variables\", arg_kwarg_policy_checker)    \n",
    "    @require(\"Wrong argument type\", check_argument_types)\n",
    "    def decorator(*args, **kwargs):\n",
    "        return decorated(*args, **kwargs)\n",
    "        \n",
    "    return decorator\n",
    "\n",
    "@check_type_hints\n",
    "def foo(x:str,y:str, z:str, *args:list, **kwargs:dict):\n",
    "    return x + y + str(z)"
   ]
  },
  {
   "cell_type": "code",
   "execution_count": 174,
   "metadata": {},
   "outputs": [
    {
     "name": "stdout",
     "output_type": "stream",
     "text": [
      "Args(args=[2, 3], x='Asdf', y='adsf', z='asdfadsf', kwargs={'p': 23})\n"
     ]
    },
    {
     "data": {
      "text/plain": [
       "'Asdfadsfasdfadsf'"
      ]
     },
     "execution_count": 174,
     "metadata": {},
     "output_type": "execute_result"
    }
   ],
   "source": [
    "foo(x=\"Asdf\", y=\"adsf\", z=\"asdfadsf\", args=[2,3], kwargs={\"p\":23})"
   ]
  },
  {
   "cell_type": "code",
   "execution_count": null,
   "metadata": {},
   "outputs": [],
   "source": []
  },
  {
   "cell_type": "code",
   "execution_count": null,
   "metadata": {},
   "outputs": [],
   "source": []
  },
  {
   "cell_type": "code",
   "execution_count": 151,
   "metadata": {},
   "outputs": [
    {
     "ename": "AttributeError",
     "evalue": "'str' object has no attribute 'i'",
     "output_type": "error",
     "traceback": [
      "\u001b[0;31m---------------------------------------------------------------------------\u001b[0m",
      "\u001b[0;31mAttributeError\u001b[0m                            Traceback (most recent call last)",
      "\u001b[0;32m<ipython-input-151-daeee4ae2a6d>\u001b[0m in \u001b[0;36m<module>\u001b[0;34m\u001b[0m\n\u001b[0;32m----> 1\u001b[0;31m \u001b[0mgetattr\u001b[0m\u001b[0;34m(\u001b[0m\u001b[0ma\u001b[0m\u001b[0;34m,\u001b[0m\u001b[0;34m\"i\"\u001b[0m\u001b[0;34m)\u001b[0m\u001b[0;34m\u001b[0m\u001b[0;34m\u001b[0m\u001b[0m\n\u001b[0m",
      "\u001b[0;31mAttributeError\u001b[0m: 'str' object has no attribute 'i'"
     ]
    }
   ],
   "source": [
    "getattr(a,\"i\")"
   ]
  },
  {
   "cell_type": "code",
   "execution_count": null,
   "metadata": {},
   "outputs": [],
   "source": []
  }
 ],
 "metadata": {
  "kernelspec": {
   "display_name": "torch1.5kernel",
   "language": "python",
   "name": "torch1.5kernel"
  },
  "language_info": {
   "codemirror_mode": {
    "name": "ipython",
    "version": 3
   },
   "file_extension": ".py",
   "mimetype": "text/x-python",
   "name": "python",
   "nbconvert_exporter": "python",
   "pygments_lexer": "ipython3",
   "version": "3.6.10"
  }
 },
 "nbformat": 4,
 "nbformat_minor": 4
}
