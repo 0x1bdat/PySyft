{
 "cells": [
  {
   "cell_type": "code",
   "execution_count": 1,
   "metadata": {},
   "outputs": [],
   "source": [
    "import numpy as np\n",
    "import torch as th\n",
    "import tensorflow as tf\n",
    "\n",
    "import jax.numpy as jax_np\n",
    "from jax import grad, jit, vmap\n",
    "from jax import random\n",
    "\n",
    "from syft import torch_ as th_\n",
    "from syft import tensorflow_ as tf_\n",
    "from syft import numpy_ as np_\n",
    "from syft import jax_ as jx_"
   ]
  },
  {
   "cell_type": "code",
   "execution_count": 2,
   "metadata": {},
   "outputs": [
    {
     "name": "stdout",
     "output_type": "stream",
     "text": [
      "made a numpy array\n"
     ]
    },
    {
     "data": {
      "text/plain": [
       "array([1, 2, 3])"
      ]
     },
     "execution_count": 2,
     "metadata": {},
     "output_type": "execute_result"
    }
   ],
   "source": [
    "x = np.array([1,2,3])\n",
    "x"
   ]
  },
  {
   "cell_type": "code",
   "execution_count": 3,
   "metadata": {},
   "outputs": [
    {
     "name": "stdout",
     "output_type": "stream",
     "text": [
      "made a numpy array\n",
      "made a numpy array\n"
     ]
    },
    {
     "name": "stderr",
     "output_type": "stream",
     "text": [
      "/opt/miniconda3/envs/torch1.5/lib/python3.6/site-packages/jax/lib/xla_bridge.py:122: UserWarning: No GPU/TPU found, falling back to CPU.\n",
      "  warnings.warn('No GPU/TPU found, falling back to CPU.')\n"
     ]
    },
    {
     "data": {
      "text/plain": [
       "DeviceArray([1, 2, 3, 4], dtype=int32)"
      ]
     },
     "execution_count": 3,
     "metadata": {},
     "output_type": "execute_result"
    }
   ],
   "source": [
    "jax_np.array([1,2,3,4])"
   ]
  },
  {
   "cell_type": "code",
   "execution_count": 4,
   "metadata": {},
   "outputs": [
    {
     "name": "stdout",
     "output_type": "stream",
     "text": [
      "made a numpy array\n",
      "made a numpy array\n",
      "made a numpy array\n",
      "made a numpy array\n",
      "made a numpy array\n",
      "made a numpy array\n",
      "made a numpy array\n",
      "made a numpy array\n",
      "made a numpy array\n",
      "made a numpy array\n",
      "made a numpy array\n",
      "made a numpy array\n",
      "made a numpy array\n",
      "made a numpy array\n",
      "made a numpy array\n",
      "made a numpy array\n",
      "made a numpy array\n",
      "made a numpy array\n",
      "made a numpy array\n",
      "made a numpy array\n",
      "made a numpy array\n",
      "made a numpy array\n",
      "made a numpy array\n",
      "made a numpy array\n",
      "made a numpy array\n",
      "made a numpy array\n",
      "made a numpy array\n",
      "made a numpy array\n",
      "made a numpy array\n",
      "made a numpy array\n",
      "made a numpy array\n",
      "made a numpy array\n",
      "made a numpy array\n",
      "made a numpy array\n",
      "made a numpy array\n",
      "made a numpy array\n",
      "made a numpy array\n",
      "made a numpy array\n",
      "made a numpy array\n",
      "made a numpy array\n",
      "made a numpy array\n",
      "made a numpy array\n",
      "made a numpy array\n",
      "made a numpy array\n",
      "made a numpy array\n",
      "made a numpy array\n",
      "made a numpy array\n",
      "made a numpy array\n",
      "made a numpy array\n",
      "made a numpy array\n",
      "made a numpy array\n",
      "made a numpy array\n",
      "made a numpy array\n",
      "made a numpy array\n",
      "made a numpy array\n",
      "made a numpy array\n",
      "made a numpy array\n",
      "made a numpy array\n",
      "made a numpy array\n",
      "made a numpy array\n",
      "made a numpy array\n",
      "made a numpy array\n",
      "made a numpy array\n",
      "made a numpy array\n",
      "made a numpy array\n",
      "made a numpy array\n",
      "made a numpy array\n",
      "made a numpy array\n",
      "made a numpy array\n",
      "made a numpy array\n",
      "made a numpy array\n",
      "made a numpy array\n",
      "made a numpy array\n",
      "made a numpy array\n",
      "made a numpy array\n",
      "made a numpy array\n",
      "made a numpy array\n",
      "made a numpy array\n",
      "made a numpy array\n",
      "made a numpy array\n",
      "made a numpy array\n",
      "made a numpy array\n",
      "made a numpy array\n",
      "made a numpy array\n",
      "[-0.372111    0.26423106 -0.18252774 -0.7368198  -0.44030386 -0.15214427\n",
      " -0.6713536  -0.5908642   0.73168874  0.5673025 ]\n"
     ]
    }
   ],
   "source": [
    "key = random.PRNGKey(0)\n",
    "x = random.normal(key, (10,))\n",
    "print(x)"
   ]
  },
  {
   "cell_type": "code",
   "execution_count": null,
   "metadata": {},
   "outputs": [],
   "source": []
  }
 ],
 "metadata": {
  "kernelspec": {
   "display_name": "torch1.5kernel",
   "language": "python",
   "name": "torch1.5kernel"
  },
  "language_info": {
   "codemirror_mode": {
    "name": "ipython",
    "version": 3
   },
   "file_extension": ".py",
   "mimetype": "text/x-python",
   "name": "python",
   "nbconvert_exporter": "python",
   "pygments_lexer": "ipython3",
   "version": "3.6.10"
  }
 },
 "nbformat": 4,
 "nbformat_minor": 4
}
