{
 "cells": [
  {
   "cell_type": "code",
   "execution_count": 1,
   "metadata": {},
   "outputs": [],
   "source": [
    "import numpy as np\n",
    "\n",
    "from syft.lib.adp.scalar import PhiScalar\n",
    "from syft.lib.adp.entity import Entity\n",
    "from syft.lib.adp.tensor import Tensor\n",
    "from syft.lib.adp.adversarial_accountant import AdversarialAccountant\n",
    "from syft.lib.adp.publish import publish"
   ]
  },
  {
   "cell_type": "markdown",
   "metadata": {},
   "source": [
    "# Data Owner Loads in Private Data"
   ]
  },
  {
   "cell_type": "code",
   "execution_count": 3,
   "metadata": {},
   "outputs": [],
   "source": [
    "# x = PhiScalar(0,0.01,1, entity=Entity(unique_name=\"Bob Jones\"))#|.name('Bob Age').send(domain)\n",
    "# y = PhiScalar(0,0.02,1).name('John Age').send(domain)\n",
    "# z = PhiScalar(0,0.02,1).name('Sue Age').send(domain)"
   ]
  },
  {
   "cell_type": "code",
   "execution_count": null,
   "metadata": {},
   "outputs": [],
   "source": []
  },
  {
   "cell_type": "code",
   "execution_count": null,
   "metadata": {},
   "outputs": [],
   "source": [
    "entities = [Entity(unique_name=\"Tudor\"), Entity(unique_name=\"Madhava\"), Entity(unique_name=\"Kritika\"), Entity(unique_name=\"George\")]\n",
    "\n",
    "a = Tensor(np.array([[1,1],[1,0],[0,1],[0,0]])).private(min_val=0, max_val=1, entities=entities, is_discrete=True)\n",
    "a = a.var('a').send(duet)\n",
    "\n",
    "b = Tensor(np.array([[1],[1],[0],[0]])).private(min_val=0, max_val=1, entities=entities, is_discrete=False)\n",
    "b = b.var('b').send(duet)"
   ]
  },
  {
   "cell_type": "markdown",
   "metadata": {},
   "source": [
    "# Data Scientist Connects with Domain (with new key)\n",
    "\n",
    "Behind the scenes, when a data scientist queries a private tensor, if that verification key doesn't yet have an accountant - we need to initailize one for that person."
   ]
  },
  {
   "cell_type": "code",
   "execution_count": null,
   "metadata": {},
   "outputs": [],
   "source": [
    "# duet = sy.duet()\n",
    "x = duet.store['Bob Age']\n",
    "y = duet.store['John Age']\n",
    "z = duet.store['Sue Age']"
   ]
  },
  {
   "cell_type": "code",
   "execution_count": null,
   "metadata": {},
   "outputs": [],
   "source": [
    "o = x*x + y*y + z\n",
    "z = o * o * o"
   ]
  },
  {
   "cell_type": "code",
   "execution_count": null,
   "metadata": {},
   "outputs": [],
   "source": [
    "z.get() # triggers an error "
   ]
  },
  {
   "cell_type": "code",
   "execution_count": null,
   "metadata": {},
   "outputs": [],
   "source": [
    "z_public = z.publish(sigma=0.1)\n",
    "# BEHIND THE SCENES... it should try to find domain.accountants[verify_key] to \n",
    "# pass into the actual private method"
   ]
  },
  {
   "cell_type": "code",
   "execution_count": null,
   "metadata": {},
   "outputs": [],
   "source": [
    "z_public.get() # will download automatically (no matter what)"
   ]
  },
  {
   "cell_type": "code",
   "execution_count": null,
   "metadata": {},
   "outputs": [],
   "source": []
  },
  {
   "cell_type": "code",
   "execution_count": null,
   "metadata": {},
   "outputs": [],
   "source": []
  },
  {
   "cell_type": "code",
   "execution_count": null,
   "metadata": {},
   "outputs": [],
   "source": []
  },
  {
   "cell_type": "markdown",
   "metadata": {},
   "source": [
    "# Local Demo Code"
   ]
  },
  {
   "cell_type": "code",
   "execution_count": 1,
   "metadata": {},
   "outputs": [],
   "source": [
    "import numpy as np\n",
    "\n",
    "from syft.lib.adp.scalar import PhiScalar\n",
    "from syft.lib.adp.entity import Entity\n",
    "from syft.lib.adp.tensor import Tensor\n",
    "from syft.lib.adp.adversarial_accountant import AdversarialAccountant\n",
    "from syft.lib.adp.publish import publish"
   ]
  },
  {
   "cell_type": "code",
   "execution_count": 2,
   "metadata": {},
   "outputs": [],
   "source": [
    "# str(self.ssid) + \"_\" + str(self.entity.id).split(\" \")[1][:-1]"
   ]
  },
  {
   "cell_type": "code",
   "execution_count": 3,
   "metadata": {},
   "outputs": [
    {
     "name": "stdout",
     "output_type": "stream",
     "text": [
      "<Entity:Coral_Urena>\t0.002943216650579942\n"
     ]
    },
    {
     "name": "stderr",
     "output_type": "stream",
     "text": [
      "/Users/andrewliamtrask/opt/anaconda3/lib/python3.8/site-packages/scipy/optimize/optimize.py:2371: RuntimeWarning: invalid value encountered in double_scalars\n",
      "  w = xb - ((xb - xc) * tmp2 - (xb - xa) * tmp1) / denom\n"
     ]
    }
   ],
   "source": [
    "x = PhiScalar(0,0.01,1) #.tag('x').send(duet)\n",
    "y = PhiScalar(0,0.02,1) #.tag('y').send(duet)\n",
    "z = PhiScalar(0,0.02,1) #.tag('z').send(duet)\n",
    "\n",
    "p = x * x\n",
    "o = p + (y*y) + z\n",
    "z = o * o * o\n",
    "\n",
    "acc = AdversarialAccountant(max_budget=10)\n",
    "x_pub = z.publish(acc=acc, sigma=0.00001)\n",
    "acc.print_ledger()"
   ]
  },
  {
   "cell_type": "code",
   "execution_count": 21,
   "metadata": {},
   "outputs": [],
   "source": []
  },
  {
   "cell_type": "code",
   "execution_count": 9,
   "metadata": {},
   "outputs": [],
   "source": [
    "x = PhiScalar(0,0.01,1) #.tag('x').send(duet)\n",
    "y = PhiScalar(0,0.02,1) #.tag('y').send(duet)\n",
    "z = PhiScalar(0,0.02,1) #.tag('z').send(duet)\n",
    "\n",
    "p = x * x\n",
    "o = p + (y*y) + z\n",
    "z = o * o\n"
   ]
  },
  {
   "cell_type": "code",
   "execution_count": 12,
   "metadata": {},
   "outputs": [
    {
     "data": {
      "text/plain": [
       "([     fun: -10.392304845413264\n",
       "      funl: array([-10.39230485])\n",
       "   message: 'Optimization terminated successfully.'\n",
       "      nfev: 14\n",
       "       nit: 2\n",
       "     nlfev: 5\n",
       "     nlhev: 0\n",
       "     nljev: 1\n",
       "   success: True\n",
       "         x: array([1., 1., 1.])\n",
       "        xl: array([[1., 1., 1.]])],\n",
       " -1.73205080756888*((2*_7fa7c8db57944be78bc833d7b57775e0_524ae14734d14da48e8eb4986e58df93 + 2*_8d3e56a5762f46bb821343cbbc13828c_9c4afa25c3ca4a338ac7200eb46b2eba + 2*_a18512b59f0d45b28c2365c8b2301904_2fb5fd831d6d41728a06488599bc2dea)**2)**0.5)"
      ]
     },
     "execution_count": 12,
     "metadata": {},
     "output_type": "execute_result"
    }
   ],
   "source": [
    "z.max_lipschitz_via_jacobian()"
   ]
  },
  {
   "cell_type": "code",
   "execution_count": 10,
   "metadata": {},
   "outputs": [
    {
     "data": {
      "text/plain": [
       "([     fun: -9.797958971132516\n",
       "      funl: array([-9.79795897, -9.79795897, -9.79795897])\n",
       "   message: 'Optimization terminated successfully.'\n",
       "      nfev: 78\n",
       "       nit: 2\n",
       "     nlfev: 49\n",
       "     nlhev: 0\n",
       "     nljev: 6\n",
       "   success: True\n",
       "         x: array([0.5       , 1.        , 1.        , 0.49999988, 0.5       ,\n",
       "         0.50000012])\n",
       "        xl: array([[0.5       , 1.        , 1.        , 0.49999988, 0.5       ,\n",
       "          0.50000012],\n",
       "         [0.5       , 1.        , 1.        , 0.5       , 0.5       ,\n",
       "          0.5       ],\n",
       "         [0.5       , 1.        , 1.        , 0.5       , 0.5       ,\n",
       "          0.5       ]])],\n",
       " -(_1a93738aafc54d1e874f60cd90b54a15_524ae14734d14da48e8eb4986e58df93**2 + _46f4fca6063d471698adc5c4b9c7a5e4_2fb5fd831d6d41728a06488599bc2dea**2 + _f10eda464495460aa2bf1af9e41221f8_9c4afa25c3ca4a338ac7200eb46b2eba**2)**(-0.5)*(((_7fa7c8db57944be78bc833d7b57775e0_524ae14734d14da48e8eb4986e58df93 + _8d3e56a5762f46bb821343cbbc13828c_9c4afa25c3ca4a338ac7200eb46b2eba + _a18512b59f0d45b28c2365c8b2301904_2fb5fd831d6d41728a06488599bc2dea)**2 - (_1a93738aafc54d1e874f60cd90b54a15_524ae14734d14da48e8eb4986e58df93 + _46f4fca6063d471698adc5c4b9c7a5e4_2fb5fd831d6d41728a06488599bc2dea + _7fa7c8db57944be78bc833d7b57775e0_524ae14734d14da48e8eb4986e58df93 + _8d3e56a5762f46bb821343cbbc13828c_9c4afa25c3ca4a338ac7200eb46b2eba + _a18512b59f0d45b28c2365c8b2301904_2fb5fd831d6d41728a06488599bc2dea + _f10eda464495460aa2bf1af9e41221f8_9c4afa25c3ca4a338ac7200eb46b2eba)**2)**2)**0.5)"
      ]
     },
     "execution_count": 10,
     "metadata": {},
     "output_type": "execute_result"
    }
   ],
   "source": [
    "z.max_lipschitz_via_explicit_search()"
   ]
  },
  {
   "cell_type": "code",
   "execution_count": null,
   "metadata": {},
   "outputs": [],
   "source": []
  },
  {
   "cell_type": "code",
   "execution_count": 6,
   "metadata": {},
   "outputs": [
    {
     "data": {
      "text/plain": [
       "[-0.289880508368386, -0.319446255506735]"
      ]
     },
     "execution_count": 6,
     "metadata": {},
     "output_type": "execute_result"
    }
   ],
   "source": [
    "# the data scientist should never see this\n",
    "acc = AdversarialAccountant(max_budget=10)\n",
    "\n",
    "publish([z,z], acc=acc, sigma=0.2)"
   ]
  },
  {
   "cell_type": "code",
   "execution_count": 8,
   "metadata": {},
   "outputs": [],
   "source": [
    "x = set(['a','b'])"
   ]
  },
  {
   "cell_type": "code",
   "execution_count": 10,
   "metadata": {},
   "outputs": [
    {
     "data": {
      "text/plain": [
       "set()"
      ]
     },
     "execution_count": 10,
     "metadata": {},
     "output_type": "execute_result"
    }
   ],
   "source": [
    "x.difference(x)"
   ]
  },
  {
   "cell_type": "code",
   "execution_count": 1,
   "metadata": {},
   "outputs": [],
   "source": [
    "import numpy as np\n",
    "\n",
    "from syft.lib.adp.scalar import PhiScalar\n",
    "from syft.lib.adp.entity import Entity\n",
    "from syft.lib.adp.tensor import Tensor\n",
    "from syft.lib.adp.adversarial_accountant import AdversarialAccountant\n",
    "from syft.lib.adp.publish import publish\n",
    "\n",
    "acc = AdversarialAccountant(max_budget=3000000)\n",
    "\n",
    "\n",
    "entities = [Entity(unique_name=\"Tudor\"), Entity(unique_name=\"Madhava\"), Entity(unique_name=\"Kritika\"), Entity(unique_name=\"George\")]\n",
    "\n",
    "x = Tensor(np.array([[1,1],[1,0],[0,1],[0,0]])).private(min_val=0, max_val=1, entities=entities, is_discrete=True)\n",
    "y = Tensor(np.array([[1],[1],[0],[0]])).private(min_val=0, max_val=1, entities=entities, is_discrete=False)\n",
    "\n",
    "_weights = Tensor(np.random.uniform(size=(2,1)))"
   ]
  },
  {
   "cell_type": "code",
   "execution_count": 2,
   "metadata": {},
   "outputs": [
    {
     "name": "stdout",
     "output_type": "stream",
     "text": [
      "0.18681761491555116\n",
      "0.05987435472401427\n",
      "0.030627729254210076\n",
      "<Entity:Kritika>\t462.0803959807997\n",
      "<Entity:George>\t462.0803959807997\n",
      "<Entity:Tudor>\t462.0803959807997\n",
      "<Entity:Madhava>\t462.0803959807997\n"
     ]
    }
   ],
   "source": [
    "weights = _weights + 0\n",
    "# acc = AdversarialAccountant(max_budget=7)  # causes error at end of budget\n",
    "acc = AdversarialAccountant(max_budget=500000000000)  \n",
    "\n",
    "for i in range(3):\n",
    "    batch_loss = 0\n",
    "\n",
    "    pred = x.dot(weights)\n",
    "    pre_loss = np.square(y-pred)\n",
    "    loss = np.mean(pre_loss, axis=1)\n",
    "#     loss = np.mean(pre_loss)    \n",
    "    ledger = loss.backward(accumulate_grads=True)\n",
    "    weight_grad = (weights.grad*0.3)\n",
    "    weight_grad_noise = weight_grad.publish(acc=acc, sigma=0.005)\n",
    "    weights = weights - weight_grad_noise\n",
    "    ledger.zero_grads()\n",
    "    batch_loss += loss.value\n",
    "    print(np.sum([loss.value]))\n",
    "    \n",
    "acc.print_ledger()\n"
   ]
  },
  {
   "cell_type": "code",
   "execution_count": null,
   "metadata": {},
   "outputs": [],
   "source": []
  },
  {
   "cell_type": "code",
   "execution_count": null,
   "metadata": {},
   "outputs": [],
   "source": []
  },
  {
   "cell_type": "code",
   "execution_count": 13,
   "metadata": {},
   "outputs": [],
   "source": [
    "x = PhiScalar(0,0.01,1)"
   ]
  },
  {
   "cell_type": "code",
   "execution_count": 14,
   "metadata": {},
   "outputs": [],
   "source": [
    "out = x * x"
   ]
  },
  {
   "cell_type": "code",
   "execution_count": 15,
   "metadata": {},
   "outputs": [
    {
     "name": "stdout",
     "output_type": "stream",
     "text": [
      "<IntermediatePhiScalar: (0.0 < 0.000100000000000000 < 1.0)>\n",
      "found one!\n"
     ]
    },
    {
     "data": {
      "text/plain": [
       "[0.703353940208477]"
      ]
     },
     "execution_count": 15,
     "metadata": {},
     "output_type": "execute_result"
    }
   ],
   "source": [
    "out.publish(acc=acc)"
   ]
  },
  {
   "cell_type": "code",
   "execution_count": 10,
   "metadata": {},
   "outputs": [
    {
     "name": "stdout",
     "output_type": "stream",
     "text": [
      "<Entity:George>\t0.0\n",
      "<Entity:Richard_Alvarez>\t0.0002737137892581691\n"
     ]
    }
   ],
   "source": [
    "acc.print_ledger()"
   ]
  },
  {
   "cell_type": "code",
   "execution_count": 1,
   "metadata": {},
   "outputs": [
    {
     "ename": "NameError",
     "evalue": "name 'x' is not defined",
     "output_type": "error",
     "traceback": [
      "\u001b[0;31m---------------------------------------------------------------------------\u001b[0m",
      "\u001b[0;31mNameError\u001b[0m                                 Traceback (most recent call last)",
      "\u001b[0;32m<ipython-input-1-cb1926d9db53>\u001b[0m in \u001b[0;36m<module>\u001b[0;34m\u001b[0m\n\u001b[0;32m----> 1\u001b[0;31m \u001b[0mx\u001b[0m\u001b[0;34m.\u001b[0m\u001b[0mentity\u001b[0m\u001b[0;34m\u001b[0m\u001b[0;34m\u001b[0m\u001b[0m\n\u001b[0m",
      "\u001b[0;31mNameError\u001b[0m: name 'x' is not defined"
     ]
    }
   ],
   "source": [
    "x.entity"
   ]
  },
  {
   "cell_type": "code",
   "execution_count": 7,
   "metadata": {},
   "outputs": [],
   "source": [
    "import sympy as sym"
   ]
  },
  {
   "cell_type": "code",
   "execution_count": 9,
   "metadata": {},
   "outputs": [],
   "source": [
    "a,b = sym.symbols('a,b')"
   ]
  },
  {
   "cell_type": "code",
   "execution_count": 10,
   "metadata": {},
   "outputs": [],
   "source": [
    "y = a + b"
   ]
  },
  {
   "cell_type": "code",
   "execution_count": 38,
   "metadata": {},
   "outputs": [],
   "source": [
    "from sympy.core.numbers import Number\n",
    "class Float2(Number):\n",
    "    \n",
    "    def __init__(self, val):\n",
    "        self.val = val\n",
    "        \n",
    "    def __add__(self, other):\n",
    "        print(\"adding\")\n",
    "        return Float(self.val - other.val)"
   ]
  },
  {
   "cell_type": "code",
   "execution_count": 39,
   "metadata": {},
   "outputs": [
    {
     "data": {
      "text/latex": [
       "$\\displaystyle b + 3$"
      ],
      "text/plain": [
       "b + 3"
      ]
     },
     "execution_count": 39,
     "metadata": {},
     "output_type": "execute_result"
    }
   ],
   "source": [
    "out = y.subs({a:Float2(3)})\n",
    "out"
   ]
  },
  {
   "cell_type": "code",
   "execution_count": 40,
   "metadata": {},
   "outputs": [
    {
     "data": {
      "text/latex": [
       "$\\displaystyle 5$"
      ],
      "text/plain": [
       "5"
      ]
     },
     "execution_count": 40,
     "metadata": {},
     "output_type": "execute_result"
    }
   ],
   "source": [
    "out.subs({b:Float2(2)})"
   ]
  },
  {
   "cell_type": "code",
   "execution_count": 9,
   "metadata": {},
   "outputs": [
    {
     "ename": "IndexError",
     "evalue": "too many indices for array",
     "output_type": "error",
     "traceback": [
      "\u001b[0;31m---------------------------------------------------------------------------\u001b[0m",
      "\u001b[0;31mIndexError\u001b[0m                                Traceback (most recent call last)",
      "\u001b[0;32m<ipython-input-9-5e8add4df465>\u001b[0m in \u001b[0;36m<module>\u001b[0;34m\u001b[0m\n\u001b[0;32m----> 1\u001b[0;31m \u001b[0mloss\u001b[0m\u001b[0;34m[\u001b[0m\u001b[0;36m0\u001b[0m\u001b[0;34m]\u001b[0m\u001b[0;34m.\u001b[0m\u001b[0mvalue\u001b[0m\u001b[0;34m.\u001b[0m\u001b[0mpoly\u001b[0m\u001b[0;34m\u001b[0m\u001b[0;34m\u001b[0m\u001b[0m\n\u001b[0m",
      "\u001b[0;31mIndexError\u001b[0m: too many indices for array"
     ]
    }
   ],
   "source": [
    "# loss[0].value.poly"
   ]
  },
  {
   "cell_type": "code",
   "execution_count": null,
   "metadata": {},
   "outputs": [],
   "source": []
  },
  {
   "cell_type": "code",
   "execution_count": null,
   "metadata": {},
   "outputs": [],
   "source": []
  },
  {
   "cell_type": "code",
   "execution_count": null,
   "metadata": {},
   "outputs": [],
   "source": []
  },
  {
   "cell_type": "code",
   "execution_count": 10,
   "metadata": {},
   "outputs": [
    {
     "data": {
      "text/latex": [
       "$\\displaystyle 24ffce1fe8ab44a583abecf0b2e1ca69_{c06e7e291fdb4cb6b5ec0b9abbabf1bf} + 3 \\cdot 3175e5ebc4944304bb4a1a010fa5003d_{162afbde9a87417a9a49c14568ea1c11} + 4 \\cdot 5ec1e3788c314340a6ea45342375281e_{162afbde9a87417a9a49c14568ea1c11} + 6 \\cdot 68ed3172c1f6417faa4f5ca24611e12d_{d59083b02ef74bdf8122e0c51454aa71} + 6 \\cdot 98d310c205b743be9af907ff4646238b_{b63effdec6ba47bf93a126d0b5cc7086} + d082ac7660e84d0c806997c2dbe4f600_{b63effdec6ba47bf93a126d0b5cc7086} + 5 eeffa282abe44326ae5fc1b8a6f8c6a0_{d59083b02ef74bdf8122e0c51454aa71} + 2 fdefb3e070394d5cbf22820ac0ab7b00_{c06e7e291fdb4cb6b5ec0b9abbabf1bf}$"
      ],
      "text/plain": [
       "24ffce1fe8ab44a583abecf0b2e1ca69_c06e7e291fdb4cb6b5ec0b9abbabf1bf + 3*3175e5ebc4944304bb4a1a010fa5003d_162afbde9a87417a9a49c14568ea1c11 + 4*5ec1e3788c314340a6ea45342375281e_162afbde9a87417a9a49c14568ea1c11 + 6*68ed3172c1f6417faa4f5ca24611e12d_d59083b02ef74bdf8122e0c51454aa71 + 6*98d310c205b743be9af907ff4646238b_b63effdec6ba47bf93a126d0b5cc7086 + d082ac7660e84d0c806997c2dbe4f600_b63effdec6ba47bf93a126d0b5cc7086 + 5*eeffa282abe44326ae5fc1b8a6f8c6a0_d59083b02ef74bdf8122e0c51454aa71 + 2*fdefb3e070394d5cbf22820ac0ab7b00_c06e7e291fdb4cb6b5ec0b9abbabf1bf"
      ]
     },
     "execution_count": 10,
     "metadata": {},
     "output_type": "execute_result"
    }
   ],
   "source": []
  },
  {
   "cell_type": "code",
   "execution_count": null,
   "metadata": {},
   "outputs": [],
   "source": []
  },
  {
   "cell_type": "code",
   "execution_count": null,
   "metadata": {},
   "outputs": [],
   "source": []
  }
 ],
 "metadata": {
  "kernelspec": {
   "display_name": "Python 3",
   "language": "python",
   "name": "python3"
  },
  "language_info": {
   "codemirror_mode": {
    "name": "ipython",
    "version": 3
   },
   "file_extension": ".py",
   "mimetype": "text/x-python",
   "name": "python",
   "nbconvert_exporter": "python",
   "pygments_lexer": "ipython3",
   "version": "3.8.3"
  }
 },
 "nbformat": 4,
 "nbformat_minor": 4
}
