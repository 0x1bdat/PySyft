{
 "cells": [
  {
   "cell_type": "markdown",
   "metadata": {},
   "source": [
    "# Local Demo Code"
   ]
  },
  {
   "cell_type": "code",
   "execution_count": 28,
   "metadata": {},
   "outputs": [
    {
     "name": "stdout",
     "output_type": "stream",
     "text": [
      "Setup hasnt run yet so ignoring set_node_uid\n",
      "publish with user key:b\"\\xb2\\x05C\\xf4\\xee\\xd5\\xb2\\x88a\\x0e\\x80\\xdb\\xaf\\x85_\\xb8)K\\xebM\\x90\\x1d\\xe2\\x18'\\xfe\\xea\\xbao\\xf9-\\r\"\n",
      "GET EPS FOR ENTITY()\n",
      "Entity Type:<class 'syft.core.node.common.node_table.entity.Entity'>\n",
      "Entity:<syft.core.node.common.node_table.entity.Entity object at 0x7fde5ae33c50>\n",
      "entity name:Keith_Thompson_g\n",
      "Num mechanisms before TEMP:1\n",
      "self.temp_entity2ledger:{'Keith_Thompson_g': [<syft.core.adp.idp_gaussian_mechanism.iDPGaussianMechanism object at 0x7fde5ab14c10>], 'Anne_Madden_g': [<syft.core.adp.idp_gaussian_mechanism.iDPGaussianMechanism object at 0x7fde02c4dc10>], 'Carl_Alford_g': [<syft.core.adp.idp_gaussian_mechanism.iDPGaussianMechanism object at 0x7fde02ad9e50>]}\n",
      "Num mechanisms after TEMP:2\n",
      "Epsilon1033.0480138682633\n",
      "Keith_Thompson_g\t1033.0480138682633\n",
      "GET EPS FOR ENTITY()\n",
      "Entity Type:<class 'syft.core.node.common.node_table.entity.Entity'>\n",
      "Entity:<syft.core.node.common.node_table.entity.Entity object at 0x7fde931be310>\n",
      "entity name:Anne_Madden_g\n",
      "Num mechanisms before TEMP:1\n",
      "self.temp_entity2ledger:{'Keith_Thompson_g': [<syft.core.adp.idp_gaussian_mechanism.iDPGaussianMechanism object at 0x7fde5ab14c10>], 'Anne_Madden_g': [<syft.core.adp.idp_gaussian_mechanism.iDPGaussianMechanism object at 0x7fde02c4dc10>], 'Carl_Alford_g': [<syft.core.adp.idp_gaussian_mechanism.iDPGaussianMechanism object at 0x7fde02ad9e50>]}\n",
      "Num mechanisms after TEMP:2\n",
      "Epsilon263.4447555853477\n",
      "Anne_Madden_g\t263.4447555853477\n",
      "GET EPS FOR ENTITY()\n",
      "Entity Type:<class 'syft.core.node.common.node_table.entity.Entity'>\n",
      "Entity:<syft.core.node.common.node_table.entity.Entity object at 0x7fde931db7d0>\n",
      "entity name:Carl_Alford_g\n",
      "Num mechanisms before TEMP:1\n",
      "self.temp_entity2ledger:{'Keith_Thompson_g': [<syft.core.adp.idp_gaussian_mechanism.iDPGaussianMechanism object at 0x7fde5ab14c10>], 'Anne_Madden_g': [<syft.core.adp.idp_gaussian_mechanism.iDPGaussianMechanism object at 0x7fde02c4dc10>], 'Carl_Alford_g': [<syft.core.adp.idp_gaussian_mechanism.iDPGaussianMechanism object at 0x7fde02ad9e50>]}\n",
      "Num mechanisms after TEMP:2\n",
      "Epsilon255.1246328841549\n",
      "Carl_Alford_g\t255.1246328841549\n"
     ]
    }
   ],
   "source": [
    "import numpy as np\n",
    "\n",
    "from syft.core.adp.scalar import PhiScalar\n",
    "from syft.core.adp.entity import Entity\n",
    "from syft.core.adp.adversarial_accountant import AdversarialAccountant\n",
    "from syft.core.adp.publish import publish\n",
    "\n",
    "from sqlalchemy import create_engine\n",
    "from syft.core.node.common.node_table import Base\n",
    "from syft.core.node.common.node_table.utils import seed_db\n",
    "from sqlalchemy.orm import sessionmaker\n",
    "from syft import Domain\n",
    "\n",
    "db_engine = create_engine(\"sqlite://\", echo=False)\n",
    "\n",
    "my_domain = Domain(name=\"Launcher\", db_engine=db_engine)\n",
    "client = my_domain.get_root_client()\n",
    "\n",
    "key = client.verify_key\n",
    "\n",
    "Base.metadata.create_all(db_engine)  # type: ignore\n",
    "SessionLocal = sessionmaker(autocommit=False, autoflush=False, bind=db_engine)\n",
    "\n",
    "seed_db(SessionLocal())\n",
    "from syft.core.node.common.node_table.utils import seed_db\n",
    "\n",
    "\n",
    "acc = AdversarialAccountant(max_budget=1000000, db_engine=db_engine)\n",
    "\n",
    "x = PhiScalar(min_val=0,value=1,max_val=1) #.tag('x').send(duet)\n",
    "y = PhiScalar(0,0.02,1) #.tag('y').send(duet)\n",
    "z = PhiScalar(0,0.02,1) #.tag('z').send(duet)\n",
    "\n",
    "p = x * x\n",
    "o = p + (y*y) + z\n",
    "z = o * o * o\n",
    "\n",
    "x_pub = z.publish(acc=acc, sigma=1, user_key=key)\n",
    "acc.print_ledger()"
   ]
  },
  {
   "cell_type": "code",
   "execution_count": 29,
   "metadata": {},
   "outputs": [
    {
     "data": {
      "text/plain": [
       "[0.7273867958513724]"
      ]
     },
     "execution_count": 29,
     "metadata": {},
     "output_type": "execute_result"
    }
   ],
   "source": [
    "x_pub"
   ]
  },
  {
   "cell_type": "code",
   "execution_count": null,
   "metadata": {},
   "outputs": [],
   "source": []
  },
  {
   "cell_type": "code",
   "execution_count": null,
   "metadata": {},
   "outputs": [],
   "source": []
  },
  {
   "cell_type": "code",
   "execution_count": 16,
   "metadata": {},
   "outputs": [],
   "source": [
    "from syft.core.tensor.tensor import Tensor\n",
    "from syft.core.adp.entity import Entity\n",
    "import numpy as np\n",
    "from syft.core.adp.adversarial_accountant import AdversarialAccountant\n",
    "import syft as sy"
   ]
  },
  {
   "cell_type": "code",
   "execution_count": 11,
   "metadata": {},
   "outputs": [],
   "source": [
    "gonzalo = Entity(name=\"Gonzalo\")\n",
    "x = Tensor(np.array([1,2,3,4,5]))"
   ]
  },
  {
   "cell_type": "code",
   "execution_count": 14,
   "metadata": {},
   "outputs": [],
   "source": [
    "x = x.private(min_val=2,max_val=5,entity=gonzalo)"
   ]
  },
  {
   "cell_type": "code",
   "execution_count": 15,
   "metadata": {},
   "outputs": [
    {
     "data": {
      "text/plain": [
       "syft.core.tensor.autodp.single_entity_phi.SingleEntityPhiTensor"
      ]
     },
     "execution_count": 15,
     "metadata": {},
     "output_type": "execute_result"
    }
   ],
   "source": []
  },
  {
   "cell_type": "code",
   "execution_count": null,
   "metadata": {},
   "outputs": [],
   "source": []
  },
  {
   "cell_type": "code",
   "execution_count": 9,
   "metadata": {},
   "outputs": [],
   "source": [
    "acc = AdversarialAccountant(max_budget=1000000)"
   ]
  },
  {
   "cell_type": "code",
   "execution_count": 10,
   "metadata": {},
   "outputs": [
    {
     "data": {
      "text/plain": [
       "Tensor(child=[0.8326994  2.35616242 1.62809485 4.49147025 5.43088198])"
      ]
     },
     "execution_count": 10,
     "metadata": {},
     "output_type": "execute_result"
    }
   ],
   "source": [
    "x.gamma.publish(acc=acc, sigma=0.5)"
   ]
  },
  {
   "cell_type": "code",
   "execution_count": 4,
   "metadata": {},
   "outputs": [
    {
     "data": {
      "text/plain": [
       "Tensor(child=[5 5 5 5 5])"
      ]
     },
     "execution_count": 4,
     "metadata": {},
     "output_type": "execute_result"
    }
   ],
   "source": [
    "x.max_vals"
   ]
  },
  {
   "cell_type": "code",
   "execution_count": 5,
   "metadata": {},
   "outputs": [
    {
     "data": {
      "text/plain": [
       "Tensor(child=[2 2 2 2 2])"
      ]
     },
     "execution_count": 5,
     "metadata": {},
     "output_type": "execute_result"
    }
   ],
   "source": [
    "x.min_vals"
   ]
  },
  {
   "cell_type": "code",
   "execution_count": 6,
   "metadata": {},
   "outputs": [],
   "source": [
    "y = x > 3"
   ]
  },
  {
   "cell_type": "code",
   "execution_count": 7,
   "metadata": {},
   "outputs": [
    {
     "data": {
      "text/plain": [
       "Tensor(child=SingleEntityPhiTensor(entity=Gonzalo, child=[0 0 0 1 1]))"
      ]
     },
     "execution_count": 7,
     "metadata": {},
     "output_type": "execute_result"
    }
   ],
   "source": [
    "y"
   ]
  },
  {
   "cell_type": "code",
   "execution_count": 8,
   "metadata": {},
   "outputs": [
    {
     "data": {
      "text/plain": [
       "Tensor(child=[1 1 1 1 1])"
      ]
     },
     "execution_count": 8,
     "metadata": {},
     "output_type": "execute_result"
    }
   ],
   "source": [
    "y.max_vals"
   ]
  },
  {
   "cell_type": "code",
   "execution_count": 9,
   "metadata": {},
   "outputs": [
    {
     "data": {
      "text/plain": [
       "Tensor(child=[0 0 0 0 0])"
      ]
     },
     "execution_count": 9,
     "metadata": {},
     "output_type": "execute_result"
    }
   ],
   "source": [
    "y.min_vals"
   ]
  },
  {
   "cell_type": "code",
   "execution_count": null,
   "metadata": {},
   "outputs": [],
   "source": []
  }
 ],
 "metadata": {
  "kernelspec": {
   "display_name": "Python 3",
   "language": "python",
   "name": "python3"
  },
  "language_info": {
   "codemirror_mode": {
    "name": "ipython",
    "version": 3
   },
   "file_extension": ".py",
   "mimetype": "text/x-python",
   "name": "python",
   "nbconvert_exporter": "python",
   "pygments_lexer": "ipython3",
   "version": "3.7.9"
  }
 },
 "nbformat": 4,
 "nbformat_minor": 4
}
