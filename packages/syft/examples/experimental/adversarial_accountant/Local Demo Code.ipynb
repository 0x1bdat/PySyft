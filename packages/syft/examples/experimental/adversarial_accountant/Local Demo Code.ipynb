{
 "cells": [
  {
   "cell_type": "markdown",
   "metadata": {},
   "source": [
    "# Local Demo Code"
   ]
  },
  {
   "cell_type": "code",
   "execution_count": 1,
   "metadata": {},
   "outputs": [],
   "source": [
    "import numpy as np\n",
    "\n",
    "from syft.core.adp.scalar import PhiScalar\n",
    "from syft.core.adp.entity import Entity\n",
    "from syft.core.adp.adversarial_accountant import AdversarialAccountant\n",
    "from syft.core.adp.publish import publish\n",
    "\n",
    "from sqlalchemy import create_engine\n",
    "from syft.core.node.common.node_table import Base\n",
    "from syft.core.node.common.node_table.utils import seed_db\n",
    "from syft.core.node.common.node_table.utils import create_memory_db_engine\n",
    "from nacl.signing import SigningKey\n",
    "from nacl.signing import VerifyKey\n",
    "from nacl.encoding import HexEncoder\n",
    "from syft import Domain"
   ]
  },
  {
   "cell_type": "code",
   "execution_count": 2,
   "metadata": {},
   "outputs": [],
   "source": [
    "db_engine, SessionMaker = create_memory_db_engine()"
   ]
  },
  {
   "cell_type": "code",
   "execution_count": 3,
   "metadata": {},
   "outputs": [
    {
     "name": "stdout",
     "output_type": "stream",
     "text": [
      "Setup hasnt run yet so ignoring set_node_uid\n"
     ]
    }
   ],
   "source": [
    "domain = Domain(name=\"Bob\", db_engine=db_engine)"
   ]
  },
  {
   "cell_type": "code",
   "execution_count": 4,
   "metadata": {},
   "outputs": [],
   "source": [
    "def get_key() -> VerifyKey:\n",
    "    return SigningKey.generate()"
   ]
  },
  {
   "cell_type": "code",
   "execution_count": 5,
   "metadata": {},
   "outputs": [],
   "source": [
    "def encode_key(key) -> str:\n",
    "    return key.encode(encoder=HexEncoder).decode(\"utf-8\")"
   ]
  },
  {
   "cell_type": "code",
   "execution_count": 6,
   "metadata": {},
   "outputs": [
    {
     "data": {
      "text/plain": [
       "<syft.core.node.common.node_table.user.SyftUser at 0x1185c0070>"
      ]
     },
     "execution_count": 6,
     "metadata": {},
     "output_type": "execute_result"
    }
   ],
   "source": [
    "key = get_key()\n",
    "domain.users.signup(\n",
    "    name=\"Bob\", email=\"bob@gmail.com\", password=\"letmein\", budget=0.1, role=1,\n",
    "    private_key=encode_key(key), verify_key=encode_key(key.verify_key)\n",
    ")"
   ]
  },
  {
   "cell_type": "code",
   "execution_count": null,
   "metadata": {},
   "outputs": [],
   "source": []
  },
  {
   "cell_type": "code",
   "execution_count": 7,
   "metadata": {},
   "outputs": [],
   "source": [
    "# acc = AdversarialAccountant(max_budget=1000000, db_engine=db_engine)"
   ]
  },
  {
   "cell_type": "code",
   "execution_count": 8,
   "metadata": {},
   "outputs": [],
   "source": [
    "x = PhiScalar(min_val=0,value=1,max_val=1) #.tag('x').send(duet)\n",
    "y = PhiScalar(0,0.02,1) #.tag('y').send(duet)\n",
    "z = PhiScalar(0,0.02,1) #.tag('z').send(duet)\n",
    "\n",
    "p = x * x\n",
    "o = p + (y*y) + z\n",
    "z = o * o * o"
   ]
  },
  {
   "cell_type": "code",
   "execution_count": 9,
   "metadata": {},
   "outputs": [
    {
     "data": {
      "text/plain": [
       "(0, 0)"
      ]
     },
     "execution_count": 9,
     "metadata": {},
     "output_type": "execute_result"
    }
   ],
   "source": [
    "len(domain.acc.entities), len(domain.acc.entity2ledger)"
   ]
  },
  {
   "cell_type": "code",
   "execution_count": 10,
   "metadata": {},
   "outputs": [
    {
     "name": "stdout",
     "output_type": "stream",
     "text": [
      "Num mechanisms before TEMP:0\n",
      "self.temp_entity2ledger:{<Entity:Brian_Rosser_g>: [<syft.core.adp.idp_gaussian_mechanism.iDPGaussianMechanism object at 0x106007550>], <Entity:Catherine_Garcia_g>: [<syft.core.adp.idp_gaussian_mechanism.iDPGaussianMechanism object at 0x15453f2e0>], <Entity:Danny_Valado_g>: [<syft.core.adp.idp_gaussian_mechanism.iDPGaussianMechanism object at 0x154545ee0>]}\n",
      "Num mechanisms after TEMP:1\n",
      "Epsilon150.8493459958509\n",
      "SPEND:150.8493459958509\n",
      "USER BUDGET:0.1\n",
      "ACCOUNTANT MAX BUDGET 10000\n",
      "has_budget = 150.8493459958509 < 0.1\n",
      "Num mechanisms before TEMP:0\n",
      "self.temp_entity2ledger:{<Entity:Brian_Rosser_g>: [<syft.core.adp.idp_gaussian_mechanism.iDPGaussianMechanism object at 0x106007550>], <Entity:Catherine_Garcia_g>: [<syft.core.adp.idp_gaussian_mechanism.iDPGaussianMechanism object at 0x15453f2e0>], <Entity:Danny_Valado_g>: [<syft.core.adp.idp_gaussian_mechanism.iDPGaussianMechanism object at 0x154545ee0>]}\n",
      "Num mechanisms after TEMP:1\n",
      "Epsilon146.31033996537138\n",
      "SPEND:146.31033996537138\n",
      "USER BUDGET:0.1\n",
      "ACCOUNTANT MAX BUDGET 10000\n",
      "has_budget = 146.31033996537138 < 0.1\n",
      "Num mechanisms before TEMP:0\n",
      "self.temp_entity2ledger:{<Entity:Brian_Rosser_g>: [<syft.core.adp.idp_gaussian_mechanism.iDPGaussianMechanism object at 0x106007550>], <Entity:Catherine_Garcia_g>: [<syft.core.adp.idp_gaussian_mechanism.iDPGaussianMechanism object at 0x15453f2e0>], <Entity:Danny_Valado_g>: [<syft.core.adp.idp_gaussian_mechanism.iDPGaussianMechanism object at 0x154545ee0>]}\n",
      "Num mechanisms after TEMP:1\n",
      "Epsilon559.45712484921\n",
      "SPEND:559.45712484921\n",
      "USER BUDGET:0.1\n",
      "ACCOUNTANT MAX BUDGET 10000\n",
      "has_budget = 559.45712484921 < 0.1\n",
      "\n",
      "\n",
      " QUERY IS OVER BUDGET!!! \n",
      "\n",
      "\n"
     ]
    }
   ],
   "source": [
    "x_pub = z.publish(acc=domain.acc, sigma=1, user_key=key.verify_key)\n",
    "# acc.print_ledger()"
   ]
  },
  {
   "cell_type": "code",
   "execution_count": 11,
   "metadata": {},
   "outputs": [
    {
     "data": {
      "text/plain": [
       "(0, 0)"
      ]
     },
     "execution_count": 11,
     "metadata": {},
     "output_type": "execute_result"
    }
   ],
   "source": [
    "len(domain.acc.entities), len(domain.acc.entity2ledger)"
   ]
  },
  {
   "cell_type": "code",
   "execution_count": 12,
   "metadata": {},
   "outputs": [
    {
     "data": {
      "text/plain": [
       "[-0.00454271382747322]"
      ]
     },
     "execution_count": 12,
     "metadata": {},
     "output_type": "execute_result"
    }
   ],
   "source": [
    "x_pub"
   ]
  },
  {
   "cell_type": "code",
   "execution_count": null,
   "metadata": {},
   "outputs": [],
   "source": []
  },
  {
   "cell_type": "code",
   "execution_count": null,
   "metadata": {},
   "outputs": [],
   "source": []
  },
  {
   "cell_type": "code",
   "execution_count": null,
   "metadata": {},
   "outputs": [],
   "source": [
    "from syft.core.tensor.tensor import Tensor\n",
    "from syft.core.adp.entity import Entity\n",
    "import numpy as np\n",
    "from syft.core.adp.adversarial_accountant import AdversarialAccountant\n",
    "import syft as sy"
   ]
  },
  {
   "cell_type": "code",
   "execution_count": null,
   "metadata": {},
   "outputs": [],
   "source": [
    "gonzalo = Entity(name=\"Gonzalo\")\n",
    "x = Tensor(np.array([1,2,3,4,5]))"
   ]
  },
  {
   "cell_type": "code",
   "execution_count": null,
   "metadata": {},
   "outputs": [],
   "source": [
    "x = x.private(min_val=2,max_val=5,entity=gonzalo)"
   ]
  },
  {
   "cell_type": "code",
   "execution_count": null,
   "metadata": {},
   "outputs": [],
   "source": []
  },
  {
   "cell_type": "code",
   "execution_count": null,
   "metadata": {},
   "outputs": [],
   "source": []
  },
  {
   "cell_type": "code",
   "execution_count": null,
   "metadata": {},
   "outputs": [],
   "source": [
    "acc = AdversarialAccountant(max_budget=1000000)"
   ]
  },
  {
   "cell_type": "code",
   "execution_count": null,
   "metadata": {},
   "outputs": [],
   "source": [
    "x.gamma.publish(acc=acc, sigma=0.5)"
   ]
  },
  {
   "cell_type": "code",
   "execution_count": null,
   "metadata": {},
   "outputs": [],
   "source": [
    "x.max_vals"
   ]
  },
  {
   "cell_type": "code",
   "execution_count": null,
   "metadata": {},
   "outputs": [],
   "source": [
    "x.min_vals"
   ]
  },
  {
   "cell_type": "code",
   "execution_count": null,
   "metadata": {},
   "outputs": [],
   "source": [
    "y = x > 3"
   ]
  },
  {
   "cell_type": "code",
   "execution_count": null,
   "metadata": {},
   "outputs": [],
   "source": [
    "y"
   ]
  },
  {
   "cell_type": "code",
   "execution_count": null,
   "metadata": {},
   "outputs": [],
   "source": [
    "y.max_vals"
   ]
  },
  {
   "cell_type": "code",
   "execution_count": null,
   "metadata": {},
   "outputs": [],
   "source": [
    "y.min_vals"
   ]
  },
  {
   "cell_type": "code",
   "execution_count": null,
   "metadata": {},
   "outputs": [],
   "source": []
  }
 ],
 "metadata": {
  "kernelspec": {
   "display_name": "Python 3 (ipykernel)",
   "language": "python",
   "name": "python3"
  },
  "language_info": {
   "codemirror_mode": {
    "name": "ipython",
    "version": 3
   },
   "file_extension": ".py",
   "mimetype": "text/x-python",
   "name": "python",
   "nbconvert_exporter": "python",
   "pygments_lexer": "ipython3",
   "version": "3.9.4"
  }
 },
 "nbformat": 4,
 "nbformat_minor": 4
}
