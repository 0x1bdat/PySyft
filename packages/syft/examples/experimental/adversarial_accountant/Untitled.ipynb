{
 "cells": [
  {
   "cell_type": "code",
   "execution_count": 2,
   "metadata": {},
   "outputs": [],
   "source": [
    "import syft as sy\n",
    "from syft.core.adp.entity import Entity\n",
    "from syft.core.adp.scalar import Scalar\n",
    "from syft.core.adp.adversarial_accountant import AdversarialAccountant"
   ]
  },
  {
   "cell_type": "code",
   "execution_count": 3,
   "metadata": {},
   "outputs": [
    {
     "name": "stdout",
     "output_type": "stream",
     "text": [
      "-1\n",
      "Alice\t1509.521000470553\n",
      "{'sigma': 0.01, 'value': 0.5, 'L': -1.0}\n",
      "-1\n",
      "Alice\t1509.521000470553\n",
      "{'sigma': 0.01, 'value': 0.5, 'L': -1.0}\n"
     ]
    }
   ],
   "source": [
    "alice = Scalar(value=0.5, min_val=0.1, max_val=1, entity=Entity(name=\"Alice\"))\n",
    "acc = AdversarialAccountant(max_budget=3000)\n",
    "alice.publish(acc=acc, sigma=0.01)\n",
    "acc.print_ledger()\n",
    "print(acc.entity2ledger['Alice'][0].params)\n",
    "\n",
    "alice = Scalar(value=0.5, min_val=0.2, max_val=1, entity=Entity(name=\"Alice\"))\n",
    "acc = AdversarialAccountant(max_budget=3000)\n",
    "alice.publish(acc=acc, sigma=0.01)\n",
    "acc.print_ledger()\n",
    "print(acc.entity2ledger['Alice'][0].params)"
   ]
  },
  {
   "cell_type": "code",
   "execution_count": 4,
   "metadata": {},
   "outputs": [
    {
     "name": "stdout",
     "output_type": "stream",
     "text": [
      "-1\n"
     ]
    },
    {
     "name": "stderr",
     "output_type": "stream",
     "text": [
      "/Users/atrask/opt/anaconda3/lib/python3.8/site-packages/scipy/optimize/optimize.py:2522: RuntimeWarning: invalid value encountered in double_scalars\n",
      "  w = xb - ((xb - xc) * tmp2 - (xb - xa) * tmp1) / denom\n"
     ]
    },
    {
     "data": {
      "text/plain": [
       "0.16393927362487104"
      ]
     },
     "execution_count": 4,
     "metadata": {},
     "output_type": "execute_result"
    }
   ],
   "source": [
    "\n",
    "\n",
    "alice = Scalar(value=0, min_val=-1, max_val=1, entity=Entity(name=\"Alice\"))\n",
    "bob = Scalar(value=0.01, min_val=-2, max_val=2, entity=Entity(name=\"Bob\"))\n",
    "charlie = Scalar(value=0.001, min_val=-2, max_val=2, entity=Entity(name=\"Charlie\"))\n",
    "david = Scalar(value=0.0001, min_val=-2, max_val=2, entity=Entity(name=\"David\"))\n",
    "\n",
    "acc = AdversarialAccountant(max_budget=3)\n",
    "\n",
    "out = bob + alice + charlie + david\n",
    "\n",
    "bob.publish(acc=acc, sigma=0.1)"
   ]
  },
  {
   "cell_type": "code",
   "execution_count": 5,
   "metadata": {},
   "outputs": [
    {
     "name": "stdout",
     "output_type": "stream",
     "text": [
      "Bob\t0.4299414688369493\n"
     ]
    }
   ],
   "source": [
    "acc.print_ledger()"
   ]
  },
  {
   "cell_type": "code",
   "execution_count": 6,
   "metadata": {},
   "outputs": [
    {
     "name": "stdout",
     "output_type": "stream",
     "text": [
      "-1\n",
      "-1\n",
      "-1\n",
      "-1\n",
      "Bob\t0.429964321462872\n",
      "David\t1.2965358717155473e-05\n",
      "Charlie\t0.00023173957391452442\n",
      "Alice\t0.0\n"
     ]
    }
   ],
   "source": [
    "out = bob + alice + charlie + david\n",
    "out.publish(acc=acc, sigma=10)\n",
    "acc.print_ledger()"
   ]
  },
  {
   "cell_type": "code",
   "execution_count": 51,
   "metadata": {},
   "outputs": [
    {
     "data": {
      "text/plain": [
       "AkIvg_David + ELDQz_Charlie + HkuRN_Alice + axvOW_Bob=0.0111"
      ]
     },
     "execution_count": 51,
     "metadata": {},
     "output_type": "execute_result"
    }
   ],
   "source": [
    "out"
   ]
  },
  {
   "cell_type": "code",
   "execution_count": null,
   "metadata": {},
   "outputs": [],
   "source": []
  }
 ],
 "metadata": {
  "kernelspec": {
   "display_name": "Python 3",
   "language": "python",
   "name": "python3"
  },
  "language_info": {
   "codemirror_mode": {
    "name": "ipython",
    "version": 3
   },
   "file_extension": ".py",
   "mimetype": "text/x-python",
   "name": "python",
   "nbconvert_exporter": "python",
   "pygments_lexer": "ipython3",
   "version": "3.8.3"
  }
 },
 "nbformat": 4,
 "nbformat_minor": 4
}
