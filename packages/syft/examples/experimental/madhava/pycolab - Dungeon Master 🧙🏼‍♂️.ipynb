{
 "cells": [
  {
   "cell_type": "code",
   "execution_count": null,
   "id": "048b7f1c",
   "metadata": {},
   "outputs": [],
   "source": [
    "import syft as sy\n",
    "import pycolab"
   ]
  },
  {
   "cell_type": "code",
   "execution_count": null,
   "id": "2b45c140",
   "metadata": {},
   "outputs": [],
   "source": [
    "duet = sy.launch_duet(loopback=True)"
   ]
  },
  {
   "cell_type": "markdown",
   "id": "194ca048",
   "metadata": {},
   "source": [
    "### <img src=\"https://github.com/OpenMined/design-assets/raw/master/logos/OM/mark-primary-light.png\" alt=\"he-black-box\" width=\"100\"/> Checkpoint 1 : Now STOP and run the Dungeon Agent notebook until the same checkpoint."
   ]
  },
  {
   "cell_type": "markdown",
   "id": "271f14d6",
   "metadata": {},
   "source": [
    "## Add Custom Python at a Secure Entrypoint"
   ]
  },
  {
   "cell_type": "markdown",
   "id": "283bb874",
   "metadata": {},
   "source": [
    "This functionality allows the 🗝 Root Key holding Dungeon Master 🧙🏼‍♂️ to write plain Python including custom classes and have that added to a remotely executable entrypoint for the Dungeon Agent 🎮. Simply annotate a `func` with `sendable` and an optional `return_type` and then run `func.send(duet)`. The `return_type` must be a valid type on the Dungeon Agents AST."
   ]
  },
  {
   "cell_type": "code",
   "execution_count": null,
   "id": "58b3f310",
   "metadata": {},
   "outputs": [],
   "source": [
    "# @sy.sendable(return_type=\"pycolab.engine.Engine\")\n",
    "# def make_game():\n",
    "#     from pycolab import ascii_art\n",
    "#     from pycolab import things\n",
    "    \n",
    "#     ART = [\"1@\"]\n",
    "    \n",
    "#     class RollingDrape(things.Drape):\n",
    "#         def update(self, *args):\n",
    "#             pass\n",
    "\n",
    "\n",
    "#     class SlidingSprite(things.Sprite):\n",
    "#         def __init__(self, *args):\n",
    "#             self._visible = False\n",
    "#             pass\n",
    "\n",
    "#         def update(self, *args):\n",
    "#             pass\n",
    "\n",
    "\n",
    "#     return ascii_art.ascii_art_to_game(\n",
    "#         ART,\n",
    "#         what_lies_beneath=\" \",\n",
    "#         sprites={\n",
    "#             \"1\": ascii_art.Partial(SlidingSprite, 0),\n",
    "#         },\n",
    "#         drapes={\"@\": RollingDrape},\n",
    "#         z_order=\"1@\",\n",
    "#     )"
   ]
  },
  {
   "cell_type": "code",
   "execution_count": null,
   "id": "77959522",
   "metadata": {},
   "outputs": [],
   "source": [
    "@sy.sendable(return_type=\"pycolab.engine.Engine\")\n",
    "def make_game():\n",
    "    # third party\n",
    "    import numpy as np\n",
    "    from pycolab import ascii_art\n",
    "    from pycolab import things\n",
    "\n",
    "    HELLO_ART = [\n",
    "        \"                                    \",\n",
    "        \"  #   #  ### #    #     ###         \",\n",
    "        \"  #   # #    #    #    #   #        \",\n",
    "        \"  ##### #### #    #    #   #        \",\n",
    "        \"  #   # #    #    #    #   #        \",\n",
    "        \"  #   #  ###  ###  ###  ###         \",\n",
    "        \"                                    \",\n",
    "        \"     @   @  @@@   @@@  @    @@@@  1 \",\n",
    "        \"     @   @ @   @ @   @ @    @   @ 2 \",\n",
    "        \"     @ @ @ @   @ @@@@  @    @   @ 3 \",\n",
    "        \"     @ @ @ @   @ @   @ @    @   @   \",\n",
    "        \"      @@@   @@@  @   @  @@@ @@@@  4 \",\n",
    "        \"                                    \",\n",
    "    ]\n",
    "\n",
    "    class RollingDrape(things.Drape):\n",
    "        \"\"\"A Drape that just `np.roll`s the mask around either axis.\"\"\"\n",
    "\n",
    "        # There are four rolls to choose from: two shifts of size 1 along both axes.\n",
    "        _ROLL_AXES = [0, 0, 1, 1]\n",
    "        _ROLL_SHIFTS = [-1, 1, -1, 1]\n",
    "\n",
    "        def update(self, actions, board, layers, backdrop, all_things, the_plot):\n",
    "            del board, layers, backdrop, all_things  # unused\n",
    "\n",
    "            if actions is None:\n",
    "                return  # No work needed to make the first observation.\n",
    "            if actions == 4:\n",
    "                the_plot.terminate_episode()  # Action 4 means \"quit\".\n",
    "\n",
    "            # If the player has chosen a motion action, use that action to index into\n",
    "            # the set of four rolls.\n",
    "            if actions < 4:\n",
    "                rolled = np.roll(\n",
    "                    self.curtain,  # Makes a copy, alas.\n",
    "                    self._ROLL_SHIFTS[actions],\n",
    "                    self._ROLL_AXES[actions],\n",
    "                )\n",
    "                np.copyto(self.curtain, rolled)\n",
    "                the_plot.add_reward(1)  # Give ourselves a point for moving.\n",
    "\n",
    "    class SlidingSprite(things.Sprite):\n",
    "        \"\"\"A Sprite that moves in diagonal directions.\"\"\"\n",
    "\n",
    "        # We have four mappings from actions to motions to choose from. The mappings\n",
    "        # are arranged so that given any index i, then across all sets, the motion\n",
    "        # that undoes motion i always has the same index j.\n",
    "        _DX = ([-1, 1, -1, 1], [-1, 1, -1, 1], [1, -1, 1, -1], [1, -1, 1, -1])\n",
    "        _DY = ([-1, 1, 1, -1], [1, -1, -1, 1], [1, -1, -1, 1], [-1, 1, 1, -1])\n",
    "\n",
    "        def __init__(self, corner, position, character, direction_set):\n",
    "            \"\"\"Build a SlidingSprite.\n",
    "\n",
    "            Args:\n",
    "            corner: required argument for Sprite.\n",
    "            position: required argument for Sprite.\n",
    "            character: required argument for Sprite.\n",
    "            direction_set: an integer in `[0,3]` that selects from any of four\n",
    "                mappings from actions to (diagonal) motions.\n",
    "            \"\"\"\n",
    "            super(SlidingSprite, self).__init__(corner, position, character)\n",
    "            self._dx = self._DX[direction_set]\n",
    "            self._dy = self._DY[direction_set]\n",
    "\n",
    "        def update(self, actions, board, layers, backdrop, all_things, the_plot):\n",
    "            del board, layers, backdrop, all_things, the_plot  # unused\n",
    "            # Actions 0-3 are motion actions; the others we ignore.\n",
    "            if actions is None or actions > 3:\n",
    "                return\n",
    "            new_col = (self._position.col + self._dx[actions]) % self.corner.col\n",
    "            new_row = (self._position.row + self._dy[actions]) % self.corner.row\n",
    "            self._position = self.Position(new_row, new_col)\n",
    "\n",
    "    return ascii_art.ascii_art_to_game(\n",
    "        HELLO_ART,\n",
    "        what_lies_beneath=\" \",\n",
    "        sprites={\n",
    "            \"1\": ascii_art.Partial(SlidingSprite, 0),\n",
    "            \"2\": ascii_art.Partial(SlidingSprite, 1),\n",
    "            \"3\": ascii_art.Partial(SlidingSprite, 2),\n",
    "            \"4\": ascii_art.Partial(SlidingSprite, 3),\n",
    "        },\n",
    "        drapes={\"@\": RollingDrape},\n",
    "        z_order=\"12@34\",\n",
    "    )"
   ]
  },
  {
   "cell_type": "markdown",
   "id": "ccaea76d",
   "metadata": {},
   "source": [
    "## Now send the code to the Duet Domain"
   ]
  },
  {
   "cell_type": "code",
   "execution_count": null,
   "id": "cedd6ef7",
   "metadata": {},
   "outputs": [],
   "source": [
    "make_game.send(duet)"
   ]
  },
  {
   "cell_type": "markdown",
   "id": "23956255",
   "metadata": {},
   "source": [
    "## Test It Locally\n",
    "We can see it exists at `syft.sandbox.{func}` and run it if we like."
   ]
  },
  {
   "cell_type": "code",
   "execution_count": null,
   "id": "c3709526",
   "metadata": {},
   "outputs": [],
   "source": [
    "# test the entrypoint locally\n",
    "game = sy.sandbox.make_game()\n",
    "print(type(game))"
   ]
  },
  {
   "cell_type": "markdown",
   "id": "da495e97",
   "metadata": {},
   "source": [
    "## Allow State Download"
   ]
  },
  {
   "cell_type": "code",
   "execution_count": null,
   "id": "97b6e643",
   "metadata": {},
   "outputs": [],
   "source": [
    "duet.requests.add_handler(action=\"accept\")"
   ]
  },
  {
   "cell_type": "markdown",
   "id": "594c42d1",
   "metadata": {},
   "source": [
    "### <img src=\"https://github.com/OpenMined/design-assets/raw/master/logos/OM/mark-primary-light.png\" alt=\"he-black-box\" width=\"100\"/> Checkpoint 2 : Now STOP and run the Dungeon Agent 🎮 notebook until the same checkpoint."
   ]
  },
  {
   "cell_type": "code",
   "execution_count": null,
   "id": "27e82374",
   "metadata": {},
   "outputs": [],
   "source": [
    "duet.store.pandas"
   ]
  },
  {
   "cell_type": "code",
   "execution_count": null,
   "id": "99ffb1fb",
   "metadata": {},
   "outputs": [],
   "source": []
  }
 ],
 "metadata": {
  "kernelspec": {
   "display_name": "Python 3",
   "language": "python",
   "name": "python3"
  },
  "language_info": {
   "codemirror_mode": {
    "name": "ipython",
    "version": 3
   },
   "file_extension": ".py",
   "mimetype": "text/x-python",
   "name": "python",
   "nbconvert_exporter": "python",
   "pygments_lexer": "ipython3",
   "version": "3.9.5"
  }
 },
 "nbformat": 4,
 "nbformat_minor": 5
}
