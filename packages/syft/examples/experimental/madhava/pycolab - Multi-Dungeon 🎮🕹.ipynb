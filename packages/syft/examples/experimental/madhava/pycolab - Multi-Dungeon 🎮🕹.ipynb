{
 "cells": [
  {
   "cell_type": "code",
   "execution_count": 1,
   "id": "048b7f1c",
   "metadata": {},
   "outputs": [],
   "source": [
    "import syft as sy\n",
    "import pycolab"
   ]
  },
  {
   "cell_type": "code",
   "execution_count": 2,
   "id": "9ce6e7c6",
   "metadata": {},
   "outputs": [],
   "source": [
    "# import sys\n",
    "# sy.logger.add(sink=sys.stdout)"
   ]
  },
  {
   "cell_type": "code",
   "execution_count": 3,
   "id": "5c28608f",
   "metadata": {},
   "outputs": [],
   "source": [
    "domain = sy.Domain(name=\"DM\")"
   ]
  },
  {
   "cell_type": "code",
   "execution_count": 16,
   "id": "b29df727",
   "metadata": {},
   "outputs": [
    {
     "name": "stderr",
     "output_type": "stream",
     "text": [
      "[2021-06-24T22:53:10.634421+1000][CRITICAL][logger]][10252] <class 'syft.core.store.store_memory.MemoryStore'> __delitem__ error <UID: 871ae043f3164e63aac65cf6718cf315>.\n"
     ]
    }
   ],
   "source": [
    "@sy.sendable(return_type=\"pycolab.engine.Engine\")\n",
    "def make_game(level=0):\n",
    "    # third party\n",
    "    import numpy as np\n",
    "    from pycolab import ascii_art\n",
    "    from pycolab import things\n",
    "\n",
    "    HELLO_ART = [\n",
    "        \"                                    \",\n",
    "        \"  #   #  ### #    #     ###         \",\n",
    "        \"  #   # #    #    #    #   #        \",\n",
    "        \"  ##### #### #    #    #   #        \",\n",
    "        \"  #   # #    #    #    #   #        \",\n",
    "        \"  #   #  ###  ###  ###  ###         \",\n",
    "        \"                                    \",\n",
    "        \"     @   @  @@@   @@@  @    @@@@  1 \",\n",
    "        \"     @   @ @   @ @   @ @    @   @ 2 \",\n",
    "        \"     @ @ @ @   @ @@@@  @    @   @ 3 \",\n",
    "        \"     @ @ @ @   @ @   @ @    @   @   \",\n",
    "        \"      @@@   @@@  @   @  @@@ @@@@  4 \",\n",
    "        \"                                    \",\n",
    "    ]\n",
    "\n",
    "    class RollingDrape(things.Drape):\n",
    "        \"\"\"A Drape that just `np.roll`s the mask around either axis.\"\"\"\n",
    "\n",
    "        # There are four rolls to choose from: two shifts of size 1 along both axes.\n",
    "        _ROLL_AXES = [0, 0, 1, 1]\n",
    "        _ROLL_SHIFTS = [-1, 1, -1, 1]\n",
    "\n",
    "        def update(self, actions, board, layers, backdrop, all_things, the_plot):\n",
    "            del board, layers, backdrop, all_things  # unused\n",
    "\n",
    "            if actions is None:\n",
    "                return  # No work needed to make the first observation.\n",
    "            if actions == 4:\n",
    "                the_plot.terminate_episode()  # Action 4 means \"quit\".\n",
    "\n",
    "            # If the player has chosen a motion action, use that action to index into\n",
    "            # the set of four rolls.\n",
    "            if actions < 4:\n",
    "                rolled = np.roll(\n",
    "                    self.curtain,  # Makes a copy, alas.\n",
    "                    self._ROLL_SHIFTS[actions],\n",
    "                    self._ROLL_AXES[actions],\n",
    "                )\n",
    "                np.copyto(self.curtain, rolled)\n",
    "                the_plot.add_reward(1)  # Give ourselves a point for moving.\n",
    "\n",
    "    class SlidingSprite(things.Sprite):\n",
    "        \"\"\"A Sprite that moves in diagonal directions.\"\"\"\n",
    "\n",
    "        # We have four mappings from actions to motions to choose from. The mappings\n",
    "        # are arranged so that given any index i, then across all sets, the motion\n",
    "        # that undoes motion i always has the same index j.\n",
    "        _DX = ([-1, 1, -1, 1], [-1, 1, -1, 1], [1, -1, 1, -1], [1, -1, 1, -1])\n",
    "        _DY = ([-1, 1, 1, -1], [1, -1, -1, 1], [1, -1, -1, 1], [-1, 1, 1, -1])\n",
    "\n",
    "        def __init__(self, corner, position, character, direction_set):\n",
    "            \"\"\"Build a SlidingSprite.\n",
    "\n",
    "            Args:\n",
    "            corner: required argument for Sprite.\n",
    "            position: required argument for Sprite.\n",
    "            character: required argument for Sprite.\n",
    "            direction_set: an integer in `[0,3]` that selects from any of four\n",
    "                mappings from actions to (diagonal) motions.\n",
    "            \"\"\"\n",
    "            super(SlidingSprite, self).__init__(corner, position, character)\n",
    "            self._dx = self._DX[direction_set]\n",
    "            self._dy = self._DY[direction_set]\n",
    "\n",
    "        def update(self, actions, board, layers, backdrop, all_things, the_plot):\n",
    "            del board, layers, backdrop, all_things, the_plot  # unused\n",
    "            # Actions 0-3 are motion actions; the others we ignore.\n",
    "            if actions is None or actions > 3:\n",
    "                return\n",
    "            new_col = (self._position.col + self._dx[actions]) % self.corner.col\n",
    "            new_row = (self._position.row + self._dy[actions]) % self.corner.row\n",
    "            self._position = self.Position(new_row, new_col)\n",
    "\n",
    "    return ascii_art.ascii_art_to_game(\n",
    "        HELLO_ART,\n",
    "        what_lies_beneath=\" \",\n",
    "        sprites={\n",
    "            \"1\": ascii_art.Partial(SlidingSprite, 0),\n",
    "            \"2\": ascii_art.Partial(SlidingSprite, 1),\n",
    "            \"3\": ascii_art.Partial(SlidingSprite, 2),\n",
    "            \"4\": ascii_art.Partial(SlidingSprite, 3),\n",
    "        },\n",
    "        drapes={\"@\": RollingDrape},\n",
    "        z_order=\"12@34\",\n",
    "    )"
   ]
  },
  {
   "cell_type": "code",
   "execution_count": 17,
   "id": "3eca7011",
   "metadata": {},
   "outputs": [],
   "source": [
    "# helper functions for pointer resolution\n",
    "def _resolve(tuple_ptr, size=1):\n",
    "    resolved = []\n",
    "    for i in range(size):\n",
    "        resolved.append(tuple_ptr[i].resolve_pointer_type())\n",
    "    return tuple(resolved)\n",
    "\n",
    "def resolve(tuple_ptr):\n",
    "    return _resolve(tuple_ptr, 3)"
   ]
  },
  {
   "cell_type": "code",
   "execution_count": 18,
   "id": "2112a613",
   "metadata": {},
   "outputs": [],
   "source": [
    "root_client = domain.get_root_client()"
   ]
  },
  {
   "cell_type": "code",
   "execution_count": 19,
   "id": "0bb8963a",
   "metadata": {},
   "outputs": [
    {
     "name": "stdout",
     "output_type": "stream",
     "text": [
      "=============================\n",
      "Remote Secure Exec\n",
      "=============================\n",
      "WARNING: `import numpy` not allowed 3:4\n",
      "WARNING: `from pycolab import ascii_art` not allowed 4:4\n",
      "WARNING: `from pycolab import things` not allowed 5:4\n",
      "Compiling...\n",
      "... compiled!\n",
      "Accepting, code bound at entry point successfully!\n",
      "=============================\n",
      "Give this to your DS:\n",
      "ptr = client.run(\n",
      "    entrypoint=\"make_game\",\n",
      "    return_type=\"pycolab.engine.Engine\"\n",
      ")\n"
     ]
    }
   ],
   "source": [
    "make_game.send(root_client)"
   ]
  },
  {
   "cell_type": "code",
   "execution_count": 20,
   "id": "ed68456c",
   "metadata": {},
   "outputs": [],
   "source": [
    "# # test the entrypoint locally\n",
    "# game = sy.sandbox.make_game()\n",
    "# print(type(game))"
   ]
  },
  {
   "cell_type": "code",
   "execution_count": 21,
   "id": "9283e287",
   "metadata": {},
   "outputs": [],
   "source": [
    "# player 1\n",
    "client_1 = domain.get_client()"
   ]
  },
  {
   "cell_type": "code",
   "execution_count": 22,
   "id": "3e29619b",
   "metadata": {},
   "outputs": [],
   "source": [
    "# # player 2\n",
    "# client_2 = domain.get_client()"
   ]
  },
  {
   "cell_type": "code",
   "execution_count": 23,
   "id": "a5b05ee9",
   "metadata": {},
   "outputs": [],
   "source": [
    "# client_1 == client_2"
   ]
  },
  {
   "cell_type": "code",
   "execution_count": 24,
   "id": "bc8edae9",
   "metadata": {},
   "outputs": [
    {
     "name": "stdout",
     "output_type": "stream",
     "text": [
      "executing with args [<syft.proxy.syft.lib.python.IntPointer object at 0x141736df0>]\n",
      "executing with kwargs dict_items([])\n",
      "storing something <Storable: 0>\n",
      "tyoe of thing <class 'syft.core.store.storeable_object.StorableObject'>\n",
      "permission {<nacl.signing.VerifyKey object at 0x140155a60>: <UID: ea3737e7f4f94febb5ec5833689eef84>, <nacl.signing.VerifyKey object at 0x14115edf0>: None}\n"
     ]
    }
   ],
   "source": [
    "int_ptr = client_1.python.Int(0)"
   ]
  },
  {
   "cell_type": "code",
   "execution_count": 25,
   "id": "7b0ea367",
   "metadata": {},
   "outputs": [
    {
     "name": "stdout",
     "output_type": "stream",
     "text": [
      "executing with args [<syft.proxy.syft.lib.python.IntPointer object at 0x141736370>]\n",
      "executing with kwargs dict_items([])\n",
      "storing something <Storable: <pycolab.engine.Engine object at 0x1409be790>>\n",
      "tyoe of thing <class 'syft.core.store.storeable_object.StorableObject'>\n",
      "permission {<nacl.signing.VerifyKey object at 0x140155a60>: <UID: ea3737e7f4f94febb5ec5833689eef84>, <nacl.signing.VerifyKey object at 0x14115edf0>: None}\n"
     ]
    },
    {
     "name": "stderr",
     "output_type": "stream",
     "text": [
      "/Users/madhavajay/dev/PySyft/.tox/syft.jupyter/lib/python3.9/site-packages/pycolab/ascii_art.py:318: FutureWarning: arrays to stack must be passed as a \"sequence\" type such as list or tuple. Support for non-sequence iterables such as generators is deprecated as of NumPy 1.16 and will raise an error in the future.\n",
      "  art = np.vstack(np.fromstring(line, dtype=np.uint8) for line in art)\n"
     ]
    }
   ],
   "source": [
    "game_ptr = client_1.run(\n",
    "    entrypoint=\"make_game\",\n",
    "    return_type=\"pycolab.engine.Engine\",\n",
    "    args=int_ptr\n",
    ")"
   ]
  },
  {
   "cell_type": "markdown",
   "id": "5eb93364",
   "metadata": {},
   "source": [
    "# Engine Pointer\n",
    "We get back a pointer to the game engine and from here its the normal pycolab interface."
   ]
  },
  {
   "cell_type": "code",
   "execution_count": null,
   "id": "3f5c128d",
   "metadata": {},
   "outputs": [],
   "source": [
    "game_ptr"
   ]
  },
  {
   "cell_type": "code",
   "execution_count": null,
   "id": "aa1a464f",
   "metadata": {},
   "outputs": [],
   "source": [
    "try:\n",
    "    game_ptr.get()\n",
    "except Exception as e:\n",
    "    print(\"Not allowed to get the game!\")"
   ]
  },
  {
   "cell_type": "markdown",
   "id": "4137b664",
   "metadata": {},
   "source": [
    "## Start Game"
   ]
  },
  {
   "cell_type": "code",
   "execution_count": null,
   "id": "02b74d5f",
   "metadata": {},
   "outputs": [],
   "source": [
    "board_ptr, reward_ptr, discount_ptr = resolve(game_ptr.its_showtime())"
   ]
  },
  {
   "cell_type": "code",
   "execution_count": null,
   "id": "00f4a538",
   "metadata": {},
   "outputs": [],
   "source": [
    "board_ptr, reward_ptr, discount_ptr"
   ]
  },
  {
   "cell_type": "markdown",
   "id": "b5032edd",
   "metadata": {},
   "source": [
    "## Run Play"
   ]
  },
  {
   "cell_type": "code",
   "execution_count": null,
   "id": "45ee07f6",
   "metadata": {},
   "outputs": [],
   "source": [
    "down = 258\n",
    "up = 259\n",
    "left = 260\n",
    "right = 261"
   ]
  },
  {
   "cell_type": "code",
   "execution_count": null,
   "id": "7c742f2e",
   "metadata": {},
   "outputs": [],
   "source": [
    "board_ptr, reward_ptr, discount_ptr = resolve(game_ptr.play(up))"
   ]
  },
  {
   "cell_type": "code",
   "execution_count": null,
   "id": "d969893f",
   "metadata": {},
   "outputs": [],
   "source": [
    "board_ptr, reward_ptr, discount_ptr"
   ]
  },
  {
   "cell_type": "code",
   "execution_count": null,
   "id": "fad6740b",
   "metadata": {},
   "outputs": [],
   "source": [
    "board_ptr.get(request_block=True, delete_obj=False)"
   ]
  },
  {
   "cell_type": "code",
   "execution_count": null,
   "id": "43a199b3",
   "metadata": {},
   "outputs": [],
   "source": [
    "reward_ptr.get(request_block=True, delete_obj=False)"
   ]
  },
  {
   "cell_type": "code",
   "execution_count": null,
   "id": "ea5381c8",
   "metadata": {},
   "outputs": [],
   "source": [
    "discount_ptr.get(request_block=True, delete_obj=False)"
   ]
  },
  {
   "cell_type": "code",
   "execution_count": null,
   "id": "b00dd4d3",
   "metadata": {},
   "outputs": [],
   "source": []
  }
 ],
 "metadata": {
  "kernelspec": {
   "display_name": "Python 3",
   "language": "python",
   "name": "python3"
  },
  "language_info": {
   "codemirror_mode": {
    "name": "ipython",
    "version": 3
   },
   "file_extension": ".py",
   "mimetype": "text/x-python",
   "name": "python",
   "nbconvert_exporter": "python",
   "pygments_lexer": "ipython3",
   "version": "3.9.4"
  }
 },
 "nbformat": 4,
 "nbformat_minor": 5
}
