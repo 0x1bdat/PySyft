{
 "cells": [
  {
   "cell_type": "code",
   "execution_count": null,
   "id": "048b7f1c",
   "metadata": {},
   "outputs": [],
   "source": [
    "import syft as sy\n",
    "import pycolab"
   ]
  },
  {
   "cell_type": "code",
   "execution_count": null,
   "id": "869f6c2d",
   "metadata": {},
   "outputs": [],
   "source": [
    "duet = sy.join_duet(loopback=True)"
   ]
  },
  {
   "cell_type": "markdown",
   "id": "b1d3b65e",
   "metadata": {},
   "source": [
    "### <img src=\"https://github.com/OpenMined/design-assets/raw/master/logos/OM/mark-primary-light.png\" alt=\"he-black-box\" width=\"100\"/> Checkpoint 1 : Now STOP and run the Dungeon Master notebook until the next checkpoint."
   ]
  },
  {
   "cell_type": "markdown",
   "id": "b5606155",
   "metadata": {},
   "source": [
    "## Helper Functions\n",
    "Since the pycolab.engine.Engine methods return a Tuple, we need to resolve the types of each item."
   ]
  },
  {
   "cell_type": "code",
   "execution_count": null,
   "id": "3eca7011",
   "metadata": {},
   "outputs": [],
   "source": [
    "# helper functions for pointer resolution\n",
    "def _resolve(tuple_ptr, size=1):\n",
    "    resolved = []\n",
    "    for i in range(size):\n",
    "        resolved.append(tuple_ptr[i].resolve_pointer_type())\n",
    "    return tuple(resolved)\n",
    "\n",
    "def resolve(tuple_ptr):\n",
    "    return _resolve(tuple_ptr, 3)"
   ]
  },
  {
   "cell_type": "markdown",
   "id": "4254cfcc",
   "metadata": {},
   "source": [
    "## Create Game\n",
    "Given the code from the Dungeon Master we can call the new game init entry point."
   ]
  },
  {
   "cell_type": "code",
   "execution_count": null,
   "id": "7b0ea367",
   "metadata": {},
   "outputs": [],
   "source": [
    "game_ptr = duet.run(\n",
    "    entrypoint=\"make_game\",\n",
    "    return_type=\"pycolab.engine.Engine\"\n",
    ")"
   ]
  },
  {
   "cell_type": "markdown",
   "id": "5eb93364",
   "metadata": {},
   "source": [
    "# Engine Pointer\n",
    "We get back a pointer to the game engine and from here its the normal pycolab interface."
   ]
  },
  {
   "cell_type": "code",
   "execution_count": null,
   "id": "3f5c128d",
   "metadata": {},
   "outputs": [],
   "source": [
    "game_ptr"
   ]
  },
  {
   "cell_type": "code",
   "execution_count": null,
   "id": "aa1a464f",
   "metadata": {},
   "outputs": [],
   "source": [
    "try:\n",
    "    game_ptr.get()\n",
    "except Exception as e:\n",
    "    print(\"Not allowed to get the game!\")"
   ]
  },
  {
   "cell_type": "markdown",
   "id": "4137b664",
   "metadata": {},
   "source": [
    "## Start Game"
   ]
  },
  {
   "cell_type": "code",
   "execution_count": null,
   "id": "02b74d5f",
   "metadata": {},
   "outputs": [],
   "source": [
    "board_ptr, reward_ptr, discount_ptr = resolve(game_ptr.its_showtime())"
   ]
  },
  {
   "cell_type": "code",
   "execution_count": null,
   "id": "00f4a538",
   "metadata": {},
   "outputs": [],
   "source": [
    "board_ptr, reward_ptr, discount_ptr"
   ]
  },
  {
   "cell_type": "markdown",
   "id": "b5032edd",
   "metadata": {},
   "source": [
    "## Run Play"
   ]
  },
  {
   "cell_type": "code",
   "execution_count": null,
   "id": "45ee07f6",
   "metadata": {},
   "outputs": [],
   "source": [
    "down = 258\n",
    "up = 259\n",
    "left = 260\n",
    "right = 261"
   ]
  },
  {
   "cell_type": "code",
   "execution_count": null,
   "id": "7c742f2e",
   "metadata": {},
   "outputs": [],
   "source": [
    "board_ptr, reward_ptr, discount_ptr = resolve(game_ptr.play(up))"
   ]
  },
  {
   "cell_type": "code",
   "execution_count": null,
   "id": "d969893f",
   "metadata": {},
   "outputs": [],
   "source": [
    "board_ptr, reward_ptr, discount_ptr"
   ]
  },
  {
   "cell_type": "code",
   "execution_count": null,
   "id": "fad6740b",
   "metadata": {},
   "outputs": [],
   "source": [
    "board_ptr.get(request_block=True, delete_obj=False)"
   ]
  },
  {
   "cell_type": "code",
   "execution_count": null,
   "id": "43a199b3",
   "metadata": {},
   "outputs": [],
   "source": [
    "reward_ptr.get(request_block=True, delete_obj=False)"
   ]
  },
  {
   "cell_type": "code",
   "execution_count": null,
   "id": "ea5381c8",
   "metadata": {},
   "outputs": [],
   "source": [
    "discount_ptr.get(request_block=True, delete_obj=False)"
   ]
  },
  {
   "cell_type": "code",
   "execution_count": null,
   "id": "b00dd4d3",
   "metadata": {},
   "outputs": [],
   "source": []
  }
 ],
 "metadata": {
  "kernelspec": {
   "display_name": "Python 3",
   "language": "python",
   "name": "python3"
  },
  "language_info": {
   "codemirror_mode": {
    "name": "ipython",
    "version": 3
   },
   "file_extension": ".py",
   "mimetype": "text/x-python",
   "name": "python",
   "nbconvert_exporter": "python",
   "pygments_lexer": "ipython3",
   "version": "3.9.5"
  }
 },
 "nbformat": 4,
 "nbformat_minor": 5
}
