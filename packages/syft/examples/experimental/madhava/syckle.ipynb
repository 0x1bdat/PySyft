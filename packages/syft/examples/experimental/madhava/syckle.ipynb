{
 "cells": [
  {
   "cell_type": "code",
   "execution_count": 1,
   "metadata": {},
   "outputs": [],
   "source": [
    "import ast\n",
    "import syft as sy\n",
    "from syft.core.node.common.action.function_or_constructor_action import (\n",
    "    RunFunctionOrConstructorAction,\n",
    ")\n",
    "from syft.core.common.uid import UID\n",
    "from syft.core.io.address import Address\n",
    "from syft.core.node.common.action.run_class_method_action import RunClassMethodAction\n",
    "from syft.core.pointer.pointer import Pointer"
   ]
  },
  {
   "cell_type": "code",
   "execution_count": 23,
   "metadata": {},
   "outputs": [],
   "source": [
    "code_str = \"\"\"\n",
    "## USER CODE\n",
    "\n",
    "{custom_code}\n",
    "\n",
    "## Sandboxing Code\n",
    "import syft\n",
    "module_type = type(syft)\n",
    "\n",
    "if \"sandbox\" not in syft.__dict__:\n",
    "    syft.__dict__[\"sandbox\"] = module_type(name=\"sandbox\")\n",
    "\n",
    "parent = syft.__dict__[\"sandbox\"]\n",
    "\n",
    "namespace = \"mylib\"\n",
    "\n",
    "import_path = f\"{namespace}.Test\"\n",
    "module_parts = import_path.split(\".\")\n",
    "\n",
    "klass = module_parts.pop()\n",
    "Test.__module__ = f\"syft.sandbox.{namespace}\"\n",
    "Test.__name__ = klass\n",
    "\n",
    "for n in module_parts:\n",
    "    if n not in parent.__dict__:\n",
    "        parent.__dict__[n] = module_type(name=n)\n",
    "    parent = parent.__dict__[n]\n",
    "\n",
    "parent.__dict__[Test.__name__] = Test\n",
    "\n",
    "print(\"done\", syft.sandbox.mylib)\n",
    "\"\"\""
   ]
  },
  {
   "cell_type": "code",
   "execution_count": 24,
   "metadata": {},
   "outputs": [],
   "source": [
    "def send_custom_code(client, code):\n",
    "    code = code_str.replace(\"{custom_code}\", code)\n",
    "    tree = ast.parse(code)\n",
    "    client.secure_exec(tree)"
   ]
  },
  {
   "cell_type": "code",
   "execution_count": 25,
   "metadata": {},
   "outputs": [],
   "source": [
    "def init_class(client, path: str):\n",
    "    action = RunFunctionOrConstructorAction(\n",
    "        path=\"syft.sandbox.mylib.Test\",\n",
    "        args=tuple(),\n",
    "        kwargs={},\n",
    "        id_at_location=UID(),\n",
    "        address=client.address,\n",
    "        msg_id=UID(),\n",
    "    )\n",
    "\n",
    "    client.send_immediate_msg_without_reply(msg=action)\n",
    "\n",
    "    module_parts = path.split(\".\")\n",
    "    klass_name = module_parts.pop()\n",
    "    # syft.proxy.torch.TensorPointer\n",
    "    fake_pointer = Pointer(id_at_location=action.id_at_location, client=client)\n",
    "    fake_pointer.path_and_name=action.path\n",
    "    fake_pointer.__class__.__module__ = f\"syft.proxy.{'.'.join(module_parts)}\"\n",
    "    fake_pointer.__class__.__name__ = f\"{klass_name}Pointer\"\n",
    "    fake_pointer.__class__.__qualname__ = f\"{klass_name}Pointer\"\n",
    "    return fake_pointer"
   ]
  },
  {
   "cell_type": "code",
   "execution_count": 26,
   "metadata": {},
   "outputs": [],
   "source": [
    "def run_on(pointer, method: str, args = [], kwargs = {}):\n",
    "    action = RunClassMethodAction(\n",
    "        path=f\"{pointer.path_and_name}.{method}\",\n",
    "        _self=pointer,\n",
    "        args=args,\n",
    "        kwargs=kwargs,\n",
    "        id_at_location=UID(),\n",
    "        address=pointer.client.address,\n",
    "        msg_id=UID(),\n",
    "    )\n",
    "    pointer.client.send_immediate_msg_without_reply(msg=action)\n",
    "\n",
    "    fake_pointer = Pointer(id_at_location=action.id_at_location, client=pointer.client)\n",
    "    fake_pointer.path_and_name = action.path\n",
    "#     fake_pointer.__class__.__module__ = f\"syft.proxy.{'.'.join(module_parts)}\"\n",
    "#     fake_pointer.__class__.__name__ = f\"{klass_name}Pointer\"\n",
    "#     fake_pointer.__class__.__qualname__ = f\"{klass_name}Pointer\"\n",
    "    return fake_pointer"
   ]
  },
  {
   "cell_type": "code",
   "execution_count": 27,
   "metadata": {},
   "outputs": [],
   "source": [
    "# use new syckle secure custom code delivery and remote execution"
   ]
  },
  {
   "cell_type": "code",
   "execution_count": 18,
   "metadata": {},
   "outputs": [],
   "source": [
    "domain = sy.Domain(name=\"Bob\")\n",
    "root_client = domain.get_root_client()"
   ]
  },
  {
   "cell_type": "code",
   "execution_count": 19,
   "metadata": {},
   "outputs": [
    {
     "name": "stdout",
     "output_type": "stream",
     "text": [
      "=============================\n",
      "Remote Secure Exec\n",
      "=============================\n",
      "WARNING: `import syft` not allowed 9:0\n",
      "Compiling!\n",
      "done <module 'mylib'>\n",
      "Compiled!\n",
      "Accepting, code executed successfully!\n",
      "=============================\n"
     ]
    }
   ],
   "source": [
    "# first we must create the remote code\n",
    "\n",
    "our_code = \"\"\"\n",
    "class Test:\n",
    "    def hello(self) -> str:\n",
    "        return \"syckle hello\"\n",
    "\"\"\"\n",
    "\n",
    "send_custom_code(root_client, our_code)"
   ]
  },
  {
   "cell_type": "code",
   "execution_count": 20,
   "metadata": {},
   "outputs": [],
   "source": [
    "# now we just use these custom functions to execute without knowledge of the AST\n",
    "test_ptr = init_class(root_client, \"syft.sandbox.mylib.Test\")\n",
    "hello_ptr = run_on(test_ptr, \"hello\")"
   ]
  },
  {
   "cell_type": "code",
   "execution_count": 21,
   "metadata": {},
   "outputs": [
    {
     "data": {
      "text/plain": [
       "'syckle hello'"
      ]
     },
     "execution_count": 21,
     "metadata": {},
     "output_type": "execute_result"
    }
   ],
   "source": [
    "hello_ptr.get(delete_obj=False)"
   ]
  },
  {
   "cell_type": "code",
   "execution_count": 22,
   "metadata": {},
   "outputs": [
    {
     "data": {
      "text/html": [
       "<div>\n",
       "<style scoped>\n",
       "    .dataframe tbody tr th:only-of-type {\n",
       "        vertical-align: middle;\n",
       "    }\n",
       "\n",
       "    .dataframe tbody tr th {\n",
       "        vertical-align: top;\n",
       "    }\n",
       "\n",
       "    .dataframe thead th {\n",
       "        text-align: right;\n",
       "    }\n",
       "</style>\n",
       "<table border=\"1\" class=\"dataframe\">\n",
       "  <thead>\n",
       "    <tr style=\"text-align: right;\">\n",
       "      <th></th>\n",
       "      <th>ID</th>\n",
       "      <th>Tags</th>\n",
       "      <th>Description</th>\n",
       "      <th>object_type</th>\n",
       "    </tr>\n",
       "  </thead>\n",
       "  <tbody>\n",
       "    <tr>\n",
       "      <th>0</th>\n",
       "      <td>&lt;UID: 43927cae1d9544c0b69732d810f6709c&gt;</td>\n",
       "      <td>[]</td>\n",
       "      <td></td>\n",
       "      <td>&lt;class 'syft.sandbox.mylib.Test'&gt;</td>\n",
       "    </tr>\n",
       "    <tr>\n",
       "      <th>1</th>\n",
       "      <td>&lt;UID: 63f4eb0fd103462faac95b7115b53e82&gt;</td>\n",
       "      <td>[]</td>\n",
       "      <td></td>\n",
       "      <td>&lt;class 'syft.lib.python.String'&gt;</td>\n",
       "    </tr>\n",
       "  </tbody>\n",
       "</table>\n",
       "</div>"
      ],
      "text/plain": [
       "                                        ID Tags Description  \\\n",
       "0  <UID: 43927cae1d9544c0b69732d810f6709c>   []               \n",
       "1  <UID: 63f4eb0fd103462faac95b7115b53e82>   []               \n",
       "\n",
       "                         object_type  \n",
       "0  <class 'syft.sandbox.mylib.Test'>  \n",
       "1   <class 'syft.lib.python.String'>  "
      ]
     },
     "execution_count": 22,
     "metadata": {},
     "output_type": "execute_result"
    }
   ],
   "source": [
    "root_client.store.pandas"
   ]
  },
  {
   "cell_type": "code",
   "execution_count": 12,
   "metadata": {},
   "outputs": [
    {
     "data": {
      "text/plain": [
       "syft.sandbox.mylib.Test"
      ]
     },
     "execution_count": 12,
     "metadata": {},
     "output_type": "execute_result"
    }
   ],
   "source": [
    "import sys\n",
    "sys.modules[\"syft\"].sandbox\n",
    "sy.sandbox.mylib.Test"
   ]
  },
  {
   "cell_type": "code",
   "execution_count": null,
   "metadata": {},
   "outputs": [],
   "source": []
  }
 ],
 "metadata": {
  "kernelspec": {
   "display_name": "Python 3",
   "language": "python",
   "name": "python3"
  },
  "language_info": {
   "codemirror_mode": {
    "name": "ipython",
    "version": 3
   },
   "file_extension": ".py",
   "mimetype": "text/x-python",
   "name": "python",
   "nbconvert_exporter": "python",
   "pygments_lexer": "ipython3",
   "version": "3.8.3"
  }
 },
 "nbformat": 4,
 "nbformat_minor": 5
}
