{
 "cells": [
  {
   "cell_type": "code",
   "execution_count": 1,
   "id": "ad9d2cb5",
   "metadata": {},
   "outputs": [],
   "source": [
    "import syft as sy"
   ]
  },
  {
   "cell_type": "code",
   "execution_count": 2,
   "id": "926cccf4",
   "metadata": {},
   "outputs": [],
   "source": [
    "domain = sy.Domain(name=\"Bob\")"
   ]
  },
  {
   "cell_type": "code",
   "execution_count": 3,
   "id": "0a087e60",
   "metadata": {},
   "outputs": [],
   "source": [
    "root_client = domain.get_root_client()"
   ]
  },
  {
   "cell_type": "code",
   "execution_count": 4,
   "id": "ec760f0f",
   "metadata": {},
   "outputs": [],
   "source": [
    "client = domain.get_client()"
   ]
  },
  {
   "cell_type": "code",
   "execution_count": 5,
   "id": "cc628cb9",
   "metadata": {},
   "outputs": [],
   "source": [
    "# code_path = \"/Users/madhavajay/dev/PySyft/packages/syft/scripts/code.py\"\n",
    "# code_str = \"\"\n",
    "# with open(code_path) as f:\n",
    "#     code_str = f.read()\n",
    "\n",
    "# print(\"RAW CODE\")\n",
    "# print(\"=============================\")\n",
    "# print(code_str)\n",
    "# print(\"=============================\")\n",
    "# print(\"\\n\\n\")"
   ]
  },
  {
   "cell_type": "code",
   "execution_count": 37,
   "id": "8605f59d",
   "metadata": {},
   "outputs": [],
   "source": [
    "code_str = \"\"\"\n",
    "print(\"test\")\n",
    "import syft\n",
    "\n",
    "class Test:\n",
    "    pass\n",
    "\n",
    "module_type = type(syft)\n",
    "\n",
    "if \"sandbox\" not in syft.__dict__:\n",
    "    syft.__dict__[\"sandbox\"] = module_type(name=\"sandbox\")\n",
    "\n",
    "parent = syft.__dict__[\"sandbox\"]\n",
    "\n",
    "import_path = \"mylib.Test\"\n",
    "\n",
    "module_parts = import_path.split(\".\")\n",
    "klass = module_parts.pop()\n",
    "\n",
    "# Test.__module__ = f\"syft.sandbox.{'.'.join(module_parts)}\"\n",
    "\n",
    "for n in module_parts:\n",
    "    if n not in parent.__dict__:\n",
    "        parent.__dict__[n] = module_type(name=n)\n",
    "    parent = parent.__dict__[n]\n",
    "\n",
    "parent.__dict__[Test.__name__] = Test\n",
    "\n",
    "print(\"done\", dir(syft.sandbox))\n",
    "\"\"\""
   ]
  },
  {
   "cell_type": "code",
   "execution_count": 38,
   "id": "2d476fe1",
   "metadata": {},
   "outputs": [
    {
     "name": "stdout",
     "output_type": "stream",
     "text": [
      "=============================\n",
      "Remote Secure Exec\n",
      "=============================\n",
      "WARNING: `import syft` not allowed 3:0\n",
      "test\n",
      "done ['__doc__', '__loader__', '__name__', '__package__', '__spec__', 'mylib']\n",
      "Accepting, code executed successfully!\n",
      "=============================\n"
     ]
    }
   ],
   "source": [
    "import ast\n",
    "tree = ast.parse(code_str)\n",
    "root_client.secure_exec(tree)"
   ]
  },
  {
   "cell_type": "code",
   "execution_count": 11,
   "id": "1681c072",
   "metadata": {},
   "outputs": [
    {
     "name": "stderr",
     "output_type": "stream",
     "text": [
      "[2021-06-16T14:04:36.398395+1000][CRITICAL][logger]][10621] You are not Authorized to access this service\n"
     ]
    },
    {
     "name": "stdout",
     "output_type": "stream",
     "text": [
      "Cant because not root\n"
     ]
    }
   ],
   "source": [
    "try:\n",
    "    client.secure_exec(tree)\n",
    "except Exception as e:\n",
    "    print(\"Cant because not root\")"
   ]
  },
  {
   "cell_type": "code",
   "execution_count": 39,
   "id": "3a6ce251",
   "metadata": {},
   "outputs": [],
   "source": [
    "import sys"
   ]
  },
  {
   "cell_type": "code",
   "execution_count": 40,
   "id": "6feff01e",
   "metadata": {},
   "outputs": [
    {
     "data": {
      "text/plain": [
       "<module 'sandbox'>"
      ]
     },
     "execution_count": 40,
     "metadata": {},
     "output_type": "execute_result"
    }
   ],
   "source": [
    "sys.modules[\"syft\"].sandbox"
   ]
  },
  {
   "cell_type": "code",
   "execution_count": 42,
   "id": "2e17bf6d",
   "metadata": {},
   "outputs": [
    {
     "data": {
      "text/plain": [
       "syft.core.node.common.service.secure_exec_service.Test"
      ]
     },
     "execution_count": 42,
     "metadata": {},
     "output_type": "execute_result"
    }
   ],
   "source": [
    "sy.sandbox.mylib.Test"
   ]
  },
  {
   "cell_type": "code",
   "execution_count": null,
   "id": "43f90d59",
   "metadata": {},
   "outputs": [],
   "source": []
  }
 ],
 "metadata": {
  "kernelspec": {
   "display_name": "Python 3",
   "language": "python",
   "name": "python3"
  },
  "language_info": {
   "codemirror_mode": {
    "name": "ipython",
    "version": 3
   },
   "file_extension": ".py",
   "mimetype": "text/x-python",
   "name": "python",
   "nbconvert_exporter": "python",
   "pygments_lexer": "ipython3",
   "version": "3.8.2"
  }
 },
 "nbformat": 4,
 "nbformat_minor": 5
}
