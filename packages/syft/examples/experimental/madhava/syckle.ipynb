{
 "cells": [
  {
   "cell_type": "code",
   "execution_count": 1,
   "id": "42461609",
   "metadata": {},
   "outputs": [],
   "source": [
    "import ast\n",
    "import syft as sy\n",
    "from syft.core.node.common.action.function_or_constructor_action import (\n",
    "    RunFunctionOrConstructorAction,\n",
    ")\n",
    "from syft.core.common.uid import UID\n",
    "from syft.core.io.address import Address\n",
    "from syft.core.node.common.action.run_class_method_action import RunClassMethodAction\n",
    "from syft.core.pointer.pointer import Pointer"
   ]
  },
  {
   "cell_type": "code",
   "execution_count": 2,
   "id": "213a5827",
   "metadata": {},
   "outputs": [],
   "source": [
    "code_str = \"\"\"\n",
    "## USER CODE\n",
    "\n",
    "{custom_code}\n",
    "\n",
    "## Sandboxing Code\n",
    "import syft\n",
    "module_type = type(syft)\n",
    "\n",
    "if \"sandbox\" not in syft.__dict__:\n",
    "    syft.__dict__[\"sandbox\"] = module_type(name=\"sandbox\")\n",
    "\n",
    "parent = syft.__dict__[\"sandbox\"]\n",
    "\n",
    "namespace = \"mylib\"\n",
    "\n",
    "import_path = f\"{namespace}.Test\"\n",
    "module_parts = import_path.split(\".\")\n",
    "\n",
    "klass = module_parts.pop()\n",
    "Test.__module__ = f\"syft.sandbox.{namespace}\"\n",
    "Test.__name__ = klass\n",
    "\n",
    "for n in module_parts:\n",
    "    if n not in parent.__dict__:\n",
    "        parent.__dict__[n] = module_type(name=n)\n",
    "    parent = parent.__dict__[n]\n",
    "\n",
    "parent.__dict__[Test.__name__] = Test\n",
    "\n",
    "print(\"done\", syft.sandbox.mylib)\n",
    "\"\"\""
   ]
  },
  {
   "cell_type": "code",
   "execution_count": 3,
   "id": "283ef959",
   "metadata": {},
   "outputs": [],
   "source": [
    "def send_custom_code(client, code):\n",
    "    code = code_str.replace(\"{custom_code}\", code)\n",
    "    tree = ast.parse(code)\n",
    "    client.secure_exec(tree)"
   ]
  },
  {
   "cell_type": "code",
   "execution_count": 4,
   "id": "35fbd3e1",
   "metadata": {},
   "outputs": [],
   "source": [
    "def init_class(client, path: str):\n",
    "    action = RunFunctionOrConstructorAction(\n",
    "        path=\"syft.sandbox.mylib.Test\",\n",
    "        args=tuple(),\n",
    "        kwargs={},\n",
    "        id_at_location=UID(),\n",
    "        address=client.address,\n",
    "        msg_id=UID(),\n",
    "    )\n",
    "\n",
    "    client.send_immediate_msg_without_reply(msg=action)\n",
    "\n",
    "    module_parts = path.split(\".\")\n",
    "    klass_name = module_parts.pop()\n",
    "    # syft.proxy.torch.TensorPointer\n",
    "    fake_pointer = Pointer(id_at_location=action.id_at_location, client=client)\n",
    "    fake_pointer.path_and_name=action.path\n",
    "    fake_pointer.__class__.__module__ = f\"syft.proxy.{'.'.join(module_parts)}\"\n",
    "    fake_pointer.__class__.__name__ = f\"{klass_name}Pointer\"\n",
    "    fake_pointer.__class__.__qualname__ = f\"{klass_name}Pointer\"\n",
    "    return fake_pointer"
   ]
  },
  {
   "cell_type": "code",
   "execution_count": 5,
   "id": "f626529f",
   "metadata": {},
   "outputs": [],
   "source": [
    "def run_on(pointer, method: str, args = [], kwargs = {}):\n",
    "    action = RunClassMethodAction(\n",
    "        path=f\"{pointer.path_and_name}.{method}\",\n",
    "        _self=pointer,\n",
    "        args=args,\n",
    "        kwargs=kwargs,\n",
    "        id_at_location=UID(),\n",
    "        address=pointer.client.address,\n",
    "        msg_id=UID(),\n",
    "    )\n",
    "    pointer.client.send_immediate_msg_without_reply(msg=action)\n",
    "\n",
    "    fake_pointer = Pointer(id_at_location=action.id_at_location, client=pointer.client)\n",
    "    fake_pointer.path_and_name = action.path\n",
    "#     fake_pointer.__class__.__module__ = f\"syft.proxy.{'.'.join(module_parts)}\"\n",
    "#     fake_pointer.__class__.__name__ = f\"{klass_name}Pointer\"\n",
    "#     fake_pointer.__class__.__qualname__ = f\"{klass_name}Pointer\"\n",
    "    return fake_pointer"
   ]
  },
  {
   "cell_type": "code",
   "execution_count": 6,
   "id": "d3aa6c53",
   "metadata": {},
   "outputs": [],
   "source": [
    "# use new syckle secure custom code delivery and remote execution"
   ]
  },
  {
   "cell_type": "code",
   "execution_count": 7,
   "id": "c0705415",
   "metadata": {},
   "outputs": [],
   "source": [
    "domain = sy.Domain(name=\"Bob\")\n",
    "root_client = domain.get_root_client()"
   ]
  },
  {
   "cell_type": "code",
   "execution_count": 8,
   "id": "6e00b078",
   "metadata": {},
   "outputs": [
    {
     "name": "stdout",
     "output_type": "stream",
     "text": [
      "=============================\n",
      "Remote Secure Exec\n",
      "=============================\n",
      "WARNING: `import syft` not allowed 11:0\n",
      "done <module 'mylib'>\n",
      "Accepting, code executed successfully!\n",
      "=============================\n"
     ]
    }
   ],
   "source": [
    "# first we must create the remote code\n",
    "\n",
    "our_code = \"\"\"\n",
    "class Test:\n",
    "    def hello(self) -> str:\n",
    "        return \"syckle hello\"\n",
    "\"\"\"\n",
    "\n",
    "send_custom_code(root_client, our_code)"
   ]
  },
  {
   "cell_type": "code",
   "execution_count": 9,
   "id": "9e5dc86d",
   "metadata": {},
   "outputs": [],
   "source": [
    "# now we just use these custom functions to execute without knowledge of the AST\n",
    "test_ptr = init_class(root_client, \"syft.sandbox.mylib.Test\")\n",
    "hello_ptr = run_on(test_ptr, \"hello\")"
   ]
  },
  {
   "cell_type": "code",
   "execution_count": 10,
   "id": "0d0b6a38",
   "metadata": {},
   "outputs": [
    {
     "data": {
      "text/plain": [
       "'syckle hello'"
      ]
     },
     "execution_count": 10,
     "metadata": {},
     "output_type": "execute_result"
    }
   ],
   "source": [
    "hello_ptr.get(delete_obj=False)"
   ]
  },
  {
   "cell_type": "code",
   "execution_count": 11,
   "id": "33689b77",
   "metadata": {},
   "outputs": [
    {
     "data": {
      "text/html": [
       "<div>\n",
       "<style scoped>\n",
       "    .dataframe tbody tr th:only-of-type {\n",
       "        vertical-align: middle;\n",
       "    }\n",
       "\n",
       "    .dataframe tbody tr th {\n",
       "        vertical-align: top;\n",
       "    }\n",
       "\n",
       "    .dataframe thead th {\n",
       "        text-align: right;\n",
       "    }\n",
       "</style>\n",
       "<table border=\"1\" class=\"dataframe\">\n",
       "  <thead>\n",
       "    <tr style=\"text-align: right;\">\n",
       "      <th></th>\n",
       "      <th>ID</th>\n",
       "      <th>Tags</th>\n",
       "      <th>Description</th>\n",
       "      <th>object_type</th>\n",
       "    </tr>\n",
       "  </thead>\n",
       "  <tbody>\n",
       "    <tr>\n",
       "      <th>0</th>\n",
       "      <td>&lt;UID: 35cbaa0dc30b4d4d95cf830649d1d3b4&gt;</td>\n",
       "      <td>[]</td>\n",
       "      <td></td>\n",
       "      <td>&lt;class 'syft.sandbox.mylib.Test'&gt;</td>\n",
       "    </tr>\n",
       "    <tr>\n",
       "      <th>1</th>\n",
       "      <td>&lt;UID: 5face671061f4c7eb2195a317eb5d28c&gt;</td>\n",
       "      <td>[]</td>\n",
       "      <td></td>\n",
       "      <td>&lt;class 'syft.lib.python.String'&gt;</td>\n",
       "    </tr>\n",
       "  </tbody>\n",
       "</table>\n",
       "</div>"
      ],
      "text/plain": [
       "                                        ID Tags Description  \\\n",
       "0  <UID: 35cbaa0dc30b4d4d95cf830649d1d3b4>   []               \n",
       "1  <UID: 5face671061f4c7eb2195a317eb5d28c>   []               \n",
       "\n",
       "                         object_type  \n",
       "0  <class 'syft.sandbox.mylib.Test'>  \n",
       "1   <class 'syft.lib.python.String'>  "
      ]
     },
     "execution_count": 11,
     "metadata": {},
     "output_type": "execute_result"
    }
   ],
   "source": [
    "root_client.store.pandas"
   ]
  },
  {
   "cell_type": "code",
   "execution_count": 12,
   "id": "bbbd64e0",
   "metadata": {},
   "outputs": [
    {
     "data": {
      "text/plain": [
       "syft.sandbox.mylib.Test"
      ]
     },
     "execution_count": 12,
     "metadata": {},
     "output_type": "execute_result"
    }
   ],
   "source": [
    "import sys\n",
    "sys.modules[\"syft\"].sandbox\n",
    "sy.sandbox.mylib.Test"
   ]
  },
  {
   "cell_type": "code",
   "execution_count": null,
   "id": "3e79f2f0",
   "metadata": {},
   "outputs": [],
   "source": []
  }
 ],
 "metadata": {
  "kernelspec": {
   "display_name": "Python 3",
   "language": "python",
   "name": "python3"
  },
  "language_info": {
   "codemirror_mode": {
    "name": "ipython",
    "version": 3
   },
   "file_extension": ".py",
   "mimetype": "text/x-python",
   "name": "python",
   "nbconvert_exporter": "python",
   "pygments_lexer": "ipython3",
   "version": "3.8.2"
  }
 },
 "nbformat": 4,
 "nbformat_minor": 5
}
