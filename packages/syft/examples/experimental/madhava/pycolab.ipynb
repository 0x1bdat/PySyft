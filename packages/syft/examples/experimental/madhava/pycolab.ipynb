{
 "cells": [
  {
   "cell_type": "code",
   "execution_count": 1,
   "id": "048b7f1c",
   "metadata": {},
   "outputs": [],
   "source": [
    "import ast\n",
    "import syft as sy\n",
    "import re\n",
    "import biwrap\n",
    "from syft.core.node.common.action.function_or_constructor_action import (\n",
    "    RunFunctionOrConstructorAction,\n",
    ")\n",
    "from syft.core.common.uid import UID\n",
    "from syft.core.io.address import Address\n",
    "from syft.core.node.common.action.run_class_method_action import RunClassMethodAction\n",
    "from syft.core.pointer.pointer import Pointer"
   ]
  },
  {
   "cell_type": "code",
   "execution_count": 2,
   "id": "869f6c2d",
   "metadata": {},
   "outputs": [],
   "source": [
    "# use new syckle secure custom code delivery and remote execution"
   ]
  },
  {
   "cell_type": "code",
   "execution_count": 3,
   "id": "8bc3db7d",
   "metadata": {},
   "outputs": [],
   "source": [
    "domain = sy.Domain(name=\"Bob\")\n",
    "root_client = domain.get_root_client()"
   ]
  },
  {
   "cell_type": "code",
   "execution_count": 4,
   "id": "d1fdde86",
   "metadata": {},
   "outputs": [],
   "source": [
    "import inspect, sys\n",
    "\n",
    "def new_getfile(object, _old_getfile=inspect.getfile):\n",
    "    if not inspect.isclass(object):\n",
    "        return _old_getfile(object)\n",
    "    \n",
    "    # Lookup by parent module (as in current inspect)\n",
    "    if hasattr(object, '__module__'):\n",
    "        object_ = sys.modules.get(object.__module__)\n",
    "        if hasattr(object_, '__file__'):\n",
    "            return object_.__file__\n",
    "    \n",
    "    # If parent module is __main__, lookup by methods (NEW)\n",
    "    for name, member in inspect.getmembers(object):\n",
    "        if inspect.isfunction(member) and object.__qualname__ + '.' + member.__name__ == member.__qualname__:\n",
    "            return inspect.getfile(member)\n",
    "    else:\n",
    "        raise TypeError('Source for {!r} not found'.format(object))\n",
    "inspect.getfile = new_getfile\n",
    "\n",
    "import inspect\n",
    "from IPython.core.magics.code import extract_symbols\n",
    "\n",
    "def get_code(obj):\n",
    "\n",
    "    try:\n",
    "        return inspect.getsource(obj)\n",
    "    except Exception as e:\n",
    "        # in case we're looking for a class that was generated within a\n",
    "        # Jupyter notebook we use the following\n",
    "        cell_code = \"\".join(inspect.linecache.getlines(new_getfile(obj)))\n",
    "        class_code = extract_symbols(cell_code, obj.__name__)[0][0]\n",
    "        return class_code"
   ]
  },
  {
   "cell_type": "code",
   "execution_count": 5,
   "id": "bf8dc244",
   "metadata": {},
   "outputs": [],
   "source": [
    "class ClassCode():\n",
    "    def __init__(self, entrypoint: str, return_type: str, code: str) -> None:\n",
    "        self.code = code\n",
    "        self.entrypoint = entrypoint\n",
    "        self.return_type = return_type\n",
    "        \n",
    "    def send(self, client):\n",
    "        tree = ast.parse(self.code)\n",
    "        client.secure_exec(entrypoint=self.entrypoint, return_type=self.return_type, ast_tree=tree)\n",
    "        print(self.usage_code())\n",
    "        \n",
    "    def usage_code(self) -> str:\n",
    "        return (\n",
    "            \"Give this to your DS:\\n\"\n",
    "            + \"ptr = client.run(\\n\"\n",
    "            + f\"    entrypoint=\\\"{self.entrypoint}\\\",\\n\"\n",
    "            + f\"    return_type=\\\"{self.return_type}\\\"\\n\"\n",
    "            +\")\"\n",
    "        )\n",
    "\n",
    "    def __repr__(self):\n",
    "        return self.code"
   ]
  },
  {
   "cell_type": "code",
   "execution_count": 6,
   "id": "eae56f77",
   "metadata": {},
   "outputs": [],
   "source": [
    "@biwrap.biwrap\n",
    "def sendable(func_or_class, return_type=\"syft.lib.python._SyNone\"):\n",
    "    strip_decorator = re.sub(r\"@sendable.+\\n\",\"\", get_code(func_or_class))\n",
    "    return ClassCode(entrypoint = func_or_class.__name__, return_type=return_type, code=strip_decorator)"
   ]
  },
  {
   "cell_type": "code",
   "execution_count": 12,
   "id": "58b3f310",
   "metadata": {},
   "outputs": [],
   "source": [
    "@sendable(return_type=\"pycolab.engine.Engine\")\n",
    "def make_game():\n",
    "    from pycolab import ascii_art\n",
    "    from pycolab import things\n",
    "    \n",
    "    ART = [\"1@\"]\n",
    "    \n",
    "    class RollingDrape(things.Drape):\n",
    "        def update(self, *args):\n",
    "            pass\n",
    "\n",
    "\n",
    "    class SlidingSprite(things.Sprite):\n",
    "        def __init__(self, *args):\n",
    "            self._visible = False\n",
    "            pass\n",
    "\n",
    "        def update(self, *args):\n",
    "            pass\n",
    "\n",
    "\n",
    "    return ascii_art.ascii_art_to_game(\n",
    "        ART,\n",
    "        what_lies_beneath=\" \",\n",
    "        sprites={\n",
    "            \"1\": ascii_art.Partial(SlidingSprite, 0),\n",
    "        },\n",
    "        drapes={\"@\": RollingDrape},\n",
    "        z_order=\"1@\",\n",
    "    )"
   ]
  },
  {
   "cell_type": "code",
   "execution_count": 13,
   "id": "cedd6ef7",
   "metadata": {},
   "outputs": [
    {
     "name": "stdout",
     "output_type": "stream",
     "text": [
      "=============================\n",
      "Remote Secure Exec\n",
      "=============================\n",
      "WARNING: `from pycolab import ascii_art` not allowed 2:4\n",
      "WARNING: `from pycolab import things` not allowed 3:4\n",
      "Compiling...\n",
      "... compiled!\n",
      "Accepting, code bound at entry point successfully!\n",
      "=============================\n",
      "Give this to your DS:\n",
      "ptr = client.run(\n",
      "    entrypoint=\"make_game\",\n",
      "    return_type=\"pycolab.engine.Engine\"\n",
      ")\n"
     ]
    }
   ],
   "source": [
    "make_game.send(root_client)"
   ]
  },
  {
   "cell_type": "code",
   "execution_count": 14,
   "id": "27e82374",
   "metadata": {},
   "outputs": [],
   "source": [
    "game = sy.sandbox.make_game()"
   ]
  },
  {
   "cell_type": "code",
   "execution_count": 15,
   "id": "eb2f8385",
   "metadata": {},
   "outputs": [],
   "source": [
    "def run(client, entrypoint: str, return_type: str):\n",
    "    # make a real existing pointer\n",
    "    import syft\n",
    "    ref = syft.lib_ast.query(return_type)\n",
    "    ptr_type = ref.pointer_type\n",
    "    ptr = ptr_type(\n",
    "        client=client,\n",
    "        id_at_location=UID(),\n",
    "        object_type=return_type,\n",
    "    )\n",
    "    \n",
    "    action = RunFunctionOrConstructorAction(\n",
    "        path=f\"syft.sandbox.{entrypoint}\",\n",
    "        args=tuple(),\n",
    "        kwargs={},\n",
    "        id_at_location=ptr.id_at_location,\n",
    "        address=client.address,\n",
    "        msg_id=UID(),\n",
    "    )\n",
    "\n",
    "    client.send_immediate_msg_without_reply(msg=action)\n",
    "\n",
    "    return ptr"
   ]
  },
  {
   "cell_type": "code",
   "execution_count": 16,
   "id": "14127714",
   "metadata": {},
   "outputs": [
    {
     "name": "stdout",
     "output_type": "stream",
     "text": [
      "calling into module ['syft', 'sandbox', 'make_game'] 1 None\n",
      "calling into module ['syft', 'sandbox', 'make_game'] 2 None\n"
     ]
    }
   ],
   "source": [
    "ptr = run(root_client,\n",
    "    entrypoint=\"make_game\",\n",
    "    return_type=\"pycolab.engine.Engine\"\n",
    ")"
   ]
  },
  {
   "cell_type": "code",
   "execution_count": 17,
   "id": "9dee33e4",
   "metadata": {},
   "outputs": [
    {
     "data": {
      "text/html": [
       "<div>\n",
       "<style scoped>\n",
       "    .dataframe tbody tr th:only-of-type {\n",
       "        vertical-align: middle;\n",
       "    }\n",
       "\n",
       "    .dataframe tbody tr th {\n",
       "        vertical-align: top;\n",
       "    }\n",
       "\n",
       "    .dataframe thead th {\n",
       "        text-align: right;\n",
       "    }\n",
       "</style>\n",
       "<table border=\"1\" class=\"dataframe\">\n",
       "  <thead>\n",
       "    <tr style=\"text-align: right;\">\n",
       "      <th></th>\n",
       "      <th>ID</th>\n",
       "      <th>Tags</th>\n",
       "      <th>Description</th>\n",
       "      <th>object_type</th>\n",
       "    </tr>\n",
       "  </thead>\n",
       "  <tbody>\n",
       "    <tr>\n",
       "      <th>0</th>\n",
       "      <td>&lt;UID: febebce52f2c4fff93f400ea317b4e31&gt;</td>\n",
       "      <td>[]</td>\n",
       "      <td></td>\n",
       "      <td>&lt;class 'pycolab.engine.Engine'&gt;</td>\n",
       "    </tr>\n",
       "  </tbody>\n",
       "</table>\n",
       "</div>"
      ],
      "text/plain": [
       "                                        ID Tags Description  \\\n",
       "0  <UID: febebce52f2c4fff93f400ea317b4e31>   []               \n",
       "\n",
       "                       object_type  \n",
       "0  <class 'pycolab.engine.Engine'>  "
      ]
     },
     "execution_count": 17,
     "metadata": {},
     "output_type": "execute_result"
    }
   ],
   "source": [
    "root_client.store.pandas"
   ]
  },
  {
   "cell_type": "code",
   "execution_count": 20,
   "id": "c9642b20",
   "metadata": {},
   "outputs": [
    {
     "name": "stdout",
     "output_type": "stream",
     "text": [
      "calling into module ['pycolab', 'engine', 'Engine', 'its_showtime'] 1 None\n",
      "calling into module ['pycolab', 'engine', 'Engine', 'its_showtime'] 2 None\n"
     ]
    }
   ],
   "source": [
    "start_tuple_ptr = ptr.its_showtime()"
   ]
  },
  {
   "cell_type": "code",
   "execution_count": 25,
   "id": "6340b2e0",
   "metadata": {},
   "outputs": [
    {
     "name": "stdout",
     "output_type": "stream",
     "text": [
      "calling into module ['syft', 'lib', 'python', 'Tuple', '__getitem__'] 1 None\n",
      "calling into module ['syft', 'lib', 'python', 'Tuple', '__getitem__'] 2 None\n",
      "calling into module ['syft', 'lib', 'python', 'Tuple', '__getitem__'] 3 None\n",
      "calling into module ['syft', 'lib', 'python', 'Tuple', '__getitem__'] 1 None\n",
      "calling into module ['syft', 'lib', 'python', 'Tuple', '__getitem__'] 2 None\n",
      "calling into module ['syft', 'lib', 'python', 'Tuple', '__getitem__'] 3 None\n",
      "calling into module ['syft', 'lib', 'python', 'Tuple', '__getitem__'] 1 None\n",
      "calling into module ['syft', 'lib', 'python', 'Tuple', '__getitem__'] 2 None\n",
      "calling into module ['syft', 'lib', 'python', 'Tuple', '__getitem__'] 3 None\n"
     ]
    }
   ],
   "source": [
    "board_ptr = start_tuple_ptr[0].resolve_pointer_type()\n",
    "reward_ptr = start_tuple_ptr[1].resolve_pointer_type()\n",
    "discount_ptr = start_tuple_ptr[2].resolve_pointer_type()"
   ]
  },
  {
   "cell_type": "code",
   "execution_count": null,
   "id": "7c742f2e",
   "metadata": {},
   "outputs": [],
   "source": []
  },
  {
   "cell_type": "code",
   "execution_count": 29,
   "id": "fad6740b",
   "metadata": {},
   "outputs": [
    {
     "data": {
      "text/plain": [
       "Observation(board=array([[32, 64]], dtype=uint8), layers={'1': array([[0, 0]], dtype=uint8), ' ': array([[1, 0]], dtype=uint8), '@': array([[0, 1]], dtype=uint8)})"
      ]
     },
     "execution_count": 29,
     "metadata": {},
     "output_type": "execute_result"
    }
   ],
   "source": [
    "board_ptr.get(delete_obj=False)"
   ]
  },
  {
   "cell_type": "code",
   "execution_count": 30,
   "id": "43a199b3",
   "metadata": {},
   "outputs": [
    {
     "data": {
      "text/plain": [
       "<syft.lib.python._SyNone at 0x13efc2040>"
      ]
     },
     "execution_count": 30,
     "metadata": {},
     "output_type": "execute_result"
    }
   ],
   "source": [
    "reward_ptr.get(delete_obj=False)"
   ]
  },
  {
   "cell_type": "code",
   "execution_count": 31,
   "id": "ea5381c8",
   "metadata": {},
   "outputs": [
    {
     "data": {
      "text/plain": [
       "1.0"
      ]
     },
     "execution_count": 31,
     "metadata": {},
     "output_type": "execute_result"
    }
   ],
   "source": [
    "discount_ptr.get(delete_obj=False)"
   ]
  },
  {
   "cell_type": "code",
   "execution_count": null,
   "id": "6c48b5ac",
   "metadata": {},
   "outputs": [],
   "source": [
    "game_tuple_ptr = ptr.play(\"0\")"
   ]
  },
  {
   "cell_type": "code",
   "execution_count": 46,
   "id": "60773a48",
   "metadata": {},
   "outputs": [],
   "source": [
    "def resolve_game(tuple_ptr):\n",
    "    return resolve(tuple_ptr, 3)"
   ]
  },
  {
   "cell_type": "code",
   "execution_count": 49,
   "id": "07fc86ea",
   "metadata": {},
   "outputs": [],
   "source": [
    "def resolve(tuple_ptr, size=1):\n",
    "    resolved = []\n",
    "    for i in range(size):\n",
    "        resolved.append(tuple_ptr[i].resolve_pointer_type())\n",
    "    return tuple(resolved)"
   ]
  },
  {
   "cell_type": "code",
   "execution_count": 50,
   "id": "fa4c77cc",
   "metadata": {},
   "outputs": [
    {
     "name": "stdout",
     "output_type": "stream",
     "text": [
      "calling into module ['pycolab', 'engine', 'Engine', 'play'] 1 None\n",
      "calling into module ['pycolab', 'engine', 'Engine', 'play'] 2 None\n",
      "calling into module ['syft', 'lib', 'python', 'Tuple', '__getitem__'] 1 None\n",
      "calling into module ['syft', 'lib', 'python', 'Tuple', '__getitem__'] 2 None\n",
      "calling into module ['syft', 'lib', 'python', 'Tuple', '__getitem__'] 3 None\n",
      "calling into module ['syft', 'lib', 'python', 'Tuple', '__getitem__'] 1 None\n",
      "calling into module ['syft', 'lib', 'python', 'Tuple', '__getitem__'] 2 None\n",
      "calling into module ['syft', 'lib', 'python', 'Tuple', '__getitem__'] 3 None\n",
      "calling into module ['syft', 'lib', 'python', 'Tuple', '__getitem__'] 1 None\n",
      "calling into module ['syft', 'lib', 'python', 'Tuple', '__getitem__'] 2 None\n",
      "calling into module ['syft', 'lib', 'python', 'Tuple', '__getitem__'] 3 None\n"
     ]
    }
   ],
   "source": [
    "game_tuple_ptrs = resolve_game(ptr.play(\"0\"))"
   ]
  },
  {
   "cell_type": "code",
   "execution_count": 51,
   "id": "7f634d94",
   "metadata": {},
   "outputs": [
    {
     "data": {
      "text/plain": [
       "(<syft.proxy.pycolab.rendering.ObservationPointer at 0x13efcca30>,\n",
       " <syft.proxy.syft.lib.python._SyNonePointer at 0x13efc2a00>,\n",
       " <syft.proxy.syft.lib.python.FloatPointer at 0x13efc2370>)"
      ]
     },
     "execution_count": 51,
     "metadata": {},
     "output_type": "execute_result"
    }
   ],
   "source": [
    "game_tuple_ptrs"
   ]
  },
  {
   "cell_type": "code",
   "execution_count": null,
   "id": "789e5895",
   "metadata": {},
   "outputs": [],
   "source": [
    "\n",
    "#     # syft.lib.python.Tuple\n",
    "#     fake_pointer = Pointer(id_at_location=action.id_at_location, client=client)\n",
    "#     fake_pointer.path_and_name=action.path\n",
    "#     fake_pointer.__class__.__module__ = f\"syft.proxy.syft.lib.python\"\n",
    "#     fake_pointer.__class__.__name__ = f\"TuplePointer\"\n",
    "#     fake_pointer.__class__.__qualname__ = f\"TuplePointer\"\n",
    "#     return fake_pointer"
   ]
  },
  {
   "cell_type": "code",
   "execution_count": null,
   "id": "78bedb13",
   "metadata": {},
   "outputs": [],
   "source": [
    "def run_on(pointer, method: str, args = [], kwargs = {}):\n",
    "    action = RunClassMethodAction(\n",
    "        path=f\"{pointer.path_and_name}.{method}\",\n",
    "        _self=pointer,\n",
    "        args=args,\n",
    "        kwargs=kwargs,\n",
    "        id_at_location=UID(),\n",
    "        address=pointer.client.address,\n",
    "        msg_id=UID(),\n",
    "    )\n",
    "    pointer.client.send_immediate_msg_without_reply(msg=action)\n",
    "\n",
    "    fake_pointer = Pointer(id_at_location=action.id_at_location, client=pointer.client)\n",
    "    fake_pointer.path_and_name = action.path\n",
    "#     fake_pointer.__class__.__module__ = f\"syft.proxy.{'.'.join(module_parts)}\"\n",
    "#     fake_pointer.__class__.__name__ = f\"{klass_name}Pointer\"\n",
    "#     fake_pointer.__class__.__qualname__ = f\"{klass_name}Pointer\"\n",
    "    return fake_pointer"
   ]
  },
  {
   "cell_type": "code",
   "execution_count": null,
   "id": "616c04f0",
   "metadata": {},
   "outputs": [],
   "source": [
    "# def init_class(client, path: str):\n",
    "#     action = RunFunctionOrConstructorAction(\n",
    "#         path=\"syft.sandbox.mylib.Test\",\n",
    "#         args=tuple(),\n",
    "#         kwargs={},\n",
    "#         id_at_location=UID(),\n",
    "#         address=client.address,\n",
    "#         msg_id=UID(),\n",
    "#     )\n",
    "\n",
    "#     client.send_immediate_msg_without_reply(msg=action)\n",
    "\n",
    "#     module_parts = path.split(\".\")\n",
    "#     klass_name = module_parts.pop()\n",
    "#     # syft.proxy.torch.TensorPointer\n",
    "#     fake_pointer = Pointer(id_at_location=action.id_at_location, client=client)\n",
    "#     fake_pointer.path_and_name=action.path\n",
    "#     fake_pointer.__class__.__module__ = f\"syft.proxy.{'.'.join(module_parts)}\"\n",
    "#     fake_pointer.__class__.__name__ = f\"{klass_name}Pointer\"\n",
    "#     fake_pointer.__class__.__qualname__ = f\"{klass_name}Pointer\"\n",
    "#     return fake_pointer\n",
    "\n",
    "# def run_on(pointer, method: str, args = [], kwargs = {}):\n",
    "#     action = RunClassMethodAction(\n",
    "#         path=f\"{pointer.path_and_name}.{method}\",\n",
    "#         _self=pointer,\n",
    "#         args=args,\n",
    "#         kwargs=kwargs,\n",
    "#         id_at_location=UID(),\n",
    "#         address=pointer.client.address,\n",
    "#         msg_id=UID(),\n",
    "#     )\n",
    "#     pointer.client.send_immediate_msg_without_reply(msg=action)\n",
    "\n",
    "#     fake_pointer = Pointer(id_at_location=action.id_at_location, client=pointer.client)\n",
    "#     fake_pointer.path_and_name = action.path\n",
    "# #     fake_pointer.__class__.__module__ = f\"syft.proxy.{'.'.join(module_parts)}\"\n",
    "# #     fake_pointer.__class__.__name__ = f\"{klass_name}Pointer\"\n",
    "# #     fake_pointer.__class__.__qualname__ = f\"{klass_name}Pointer\"\n",
    "#     return fake_pointer"
   ]
  },
  {
   "cell_type": "code",
   "execution_count": null,
   "id": "33e33da7",
   "metadata": {},
   "outputs": [],
   "source": [
    "test_ptr = init_class(root_client, \"syft.sandbox.mylib.Test\")\n",
    "hello_ptr = run_on(test_ptr, \"hello\")"
   ]
  },
  {
   "cell_type": "code",
   "execution_count": null,
   "id": "8b600e8d",
   "metadata": {},
   "outputs": [],
   "source": [
    "# run_on(test_ptr, \"__init__\")"
   ]
  },
  {
   "cell_type": "code",
   "execution_count": null,
   "id": "de20332f",
   "metadata": {},
   "outputs": [],
   "source": [
    "hello_ptr.get()"
   ]
  }
 ],
 "metadata": {
  "kernelspec": {
   "display_name": "Python 3",
   "language": "python",
   "name": "python3"
  },
  "language_info": {
   "codemirror_mode": {
    "name": "ipython",
    "version": 3
   },
   "file_extension": ".py",
   "mimetype": "text/x-python",
   "name": "python",
   "nbconvert_exporter": "python",
   "pygments_lexer": "ipython3",
   "version": "3.9.5"
  }
 },
 "nbformat": 4,
 "nbformat_minor": 5
}
