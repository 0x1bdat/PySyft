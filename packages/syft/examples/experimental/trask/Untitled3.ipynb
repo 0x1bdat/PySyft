{
 "cells": [
  {
   "cell_type": "code",
   "execution_count": 1,
   "id": "f5749726-eae9-4a4d-9adf-604aa416da51",
   "metadata": {},
   "outputs": [],
   "source": [
    "import syft as sy"
   ]
  },
  {
   "cell_type": "code",
   "execution_count": 2,
   "id": "ee582fb5-a055-4786-8003-78a0c3afadc0",
   "metadata": {},
   "outputs": [],
   "source": [
    "node = sy.Domain(\"My Domain\")\n",
    "client = node.get_root_client()"
   ]
  },
  {
   "cell_type": "code",
   "execution_count": 3,
   "id": "00eebd1c-2ac0-4ac5-b23a-cd332a34ddfe",
   "metadata": {},
   "outputs": [],
   "source": [
    "import torch as th"
   ]
  },
  {
   "cell_type": "code",
   "execution_count": 4,
   "id": "22ea23a1-a1ce-4a15-9717-a13f0521fd4b",
   "metadata": {},
   "outputs": [],
   "source": [
    "x = th.tensor([1,2,3,4]).send(client)"
   ]
  },
  {
   "cell_type": "code",
   "execution_count": 5,
   "id": "177f2c98-7ae7-4464-9f38-47afa305b75b",
   "metadata": {},
   "outputs": [
    {
     "data": {
      "text/plain": [
       "[<Storable: tensor([1, 2, 3, 4])>]"
      ]
     },
     "execution_count": 5,
     "metadata": {},
     "output_type": "execute_result"
    }
   ],
   "source": [
    "node.store.values()"
   ]
  },
  {
   "cell_type": "code",
   "execution_count": null,
   "id": "f785b77b-c529-4fa7-81c2-9129f8afdadd",
   "metadata": {},
   "outputs": [],
   "source": []
  },
  {
   "cell_type": "code",
   "execution_count": 24,
   "id": "42541ed0-3fcb-420c-98fe-56fe3747aedf",
   "metadata": {},
   "outputs": [],
   "source": [
    "from sqlalchemy import create_engine"
   ]
  },
  {
   "cell_type": "code",
   "execution_count": 25,
   "id": "9cd96d9d-b9cf-4e41-9b4f-3b17c5cdeef5",
   "metadata": {},
   "outputs": [],
   "source": [
    "engine = create_engine('sqlite:///:memory:', echo=False)"
   ]
  },
  {
   "cell_type": "code",
   "execution_count": 26,
   "id": "167e10a6-b4c1-40b1-94ed-01f54a54007e",
   "metadata": {},
   "outputs": [],
   "source": [
    "from sqlalchemy.orm import declarative_base"
   ]
  },
  {
   "cell_type": "code",
   "execution_count": 27,
   "id": "e1744636-3f12-49ee-be41-4080648eaa28",
   "metadata": {},
   "outputs": [],
   "source": [
    "from sqlalchemy import Column, Integer, String"
   ]
  },
  {
   "cell_type": "code",
   "execution_count": 28,
   "id": "a7550c2f-acd0-49ae-b810-81e7964ef3bf",
   "metadata": {},
   "outputs": [],
   "source": [
    "Base = declarative_base()"
   ]
  },
  {
   "cell_type": "code",
   "execution_count": null,
   "id": "6f8be4b6-e699-4a5c-8d52-7543ac6f7310",
   "metadata": {},
   "outputs": [],
   "source": []
  },
  {
   "cell_type": "code",
   "execution_count": 29,
   "id": "201339e5-53b5-457a-9ffa-437117d2547b",
   "metadata": {
    "collapsed": true,
    "jupyter": {
     "outputs_hidden": true
    },
    "tags": []
   },
   "outputs": [
    {
     "data": {
      "text/plain": [
       "sqlalchemy.orm.decl_api.DeclarativeMeta"
      ]
     },
     "execution_count": 29,
     "metadata": {},
     "output_type": "execute_result"
    }
   ],
   "source": [
    "type(Base)"
   ]
  },
  {
   "cell_type": "code",
   "execution_count": 30,
   "id": "ce102810-affd-427d-9c98-057f7654c148",
   "metadata": {},
   "outputs": [],
   "source": [
    "class User(Base):\n",
    "    __tablename__ = 'users'\n",
    "    id = Column(Integer, primary_key=True)\n",
    "    name = Column(String)\n",
    "    fullname = Column(String)\n",
    "    nickname = Column(String)\n",
    "\n",
    "    def __repr__(self):\n",
    "        return \"<User(name='%s', fullname='%s', nickname='%s')>\" % (\n",
    "                            self.name, self.fullname, self.nickname)"
   ]
  },
  {
   "cell_type": "code",
   "execution_count": 31,
   "id": "85500fb6-82e8-4755-9ce6-a5eea07b42a5",
   "metadata": {},
   "outputs": [],
   "source": [
    "Base.metadata.create_all(engine)"
   ]
  },
  {
   "cell_type": "code",
   "execution_count": 32,
   "id": "807706b6-bd66-4ea8-95a6-d98092c7e07c",
   "metadata": {},
   "outputs": [],
   "source": [
    "ed_user = User(name='ed', fullname='Ed Jones', nickname='edsnickname')"
   ]
  },
  {
   "cell_type": "code",
   "execution_count": 33,
   "id": "9d2c041a-14f4-4fc8-905d-6ed6e2d2c20e",
   "metadata": {},
   "outputs": [],
   "source": [
    "from sqlalchemy.orm import sessionmaker\n",
    "Session = sessionmaker(bind=engine)"
   ]
  },
  {
   "cell_type": "code",
   "execution_count": 34,
   "id": "7614969d-ba6a-4e50-8aec-788c29806c7d",
   "metadata": {},
   "outputs": [],
   "source": [
    "session = Session()"
   ]
  },
  {
   "cell_type": "code",
   "execution_count": 36,
   "id": "3717b22b-a7bf-43fb-aefe-a744f358ed85",
   "metadata": {},
   "outputs": [
    {
     "data": {
      "text/plain": [
       "sqlalchemy.orm.session.Session"
      ]
     },
     "execution_count": 36,
     "metadata": {},
     "output_type": "execute_result"
    }
   ],
   "source": [
    "type(session)"
   ]
  },
  {
   "cell_type": "code",
   "execution_count": 17,
   "id": "5e2e85c4-e455-47dd-bbad-cdf808cb8b12",
   "metadata": {},
   "outputs": [],
   "source": [
    "session.add(ed_user)"
   ]
  },
  {
   "cell_type": "code",
   "execution_count": null,
   "id": "c67c147d-a659-40fa-9b35-148a15e8cf31",
   "metadata": {},
   "outputs": [],
   "source": []
  }
 ],
 "metadata": {
  "kernelspec": {
   "display_name": "Python 3",
   "language": "python",
   "name": "python3"
  },
  "language_info": {
   "codemirror_mode": {
    "name": "ipython",
    "version": 3
   },
   "file_extension": ".py",
   "mimetype": "text/x-python",
   "name": "python",
   "nbconvert_exporter": "python",
   "pygments_lexer": "ipython3",
   "version": "3.8.10"
  }
 },
 "nbformat": 4,
 "nbformat_minor": 5
}
