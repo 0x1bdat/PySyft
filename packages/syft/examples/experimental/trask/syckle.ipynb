{
 "cells": [
  {
   "cell_type": "code",
   "execution_count": 1,
   "id": "048b7f1c",
   "metadata": {},
   "outputs": [],
   "source": [
    "import ast\n",
    "import syft as sy\n",
    "from syft.core.node.common.action.function_or_constructor_action import (\n",
    "    RunFunctionOrConstructorAction,\n",
    ")\n",
    "from syft.core.common.uid import UID\n",
    "from syft.core.io.address import Address\n",
    "from syft.core.node.common.action.run_class_method_action import RunClassMethodAction\n",
    "from syft.core.pointer.pointer import Pointer"
   ]
  },
  {
   "cell_type": "code",
   "execution_count": null,
   "id": "05b85954",
   "metadata": {},
   "outputs": [],
   "source": []
  },
  {
   "cell_type": "code",
   "execution_count": null,
   "id": "88f7383f",
   "metadata": {},
   "outputs": [],
   "source": []
  },
  {
   "cell_type": "code",
   "execution_count": 2,
   "id": "869f6c2d",
   "metadata": {},
   "outputs": [],
   "source": [
    "# use new syckle secure custom code delivery and remote execution"
   ]
  },
  {
   "cell_type": "code",
   "execution_count": 3,
   "id": "8bc3db7d",
   "metadata": {},
   "outputs": [],
   "source": [
    "domain = sy.Domain(name=\"Bob\")\n",
    "root_client = domain.get_root_client()"
   ]
  },
  {
   "cell_type": "code",
   "execution_count": 4,
   "id": "8e57aa25",
   "metadata": {},
   "outputs": [],
   "source": [
    "# # first we must create the remote code\n",
    "\n",
    "# our_code = \"\"\"\n",
    "# class Test:\n",
    "#     def hello(self) -> str:\n",
    "#         return \"syckle hello\"\n",
    "# \"\"\"\n",
    "\n",
    "# send_custom_class_code(root_client, our_code,\"Test\")"
   ]
  },
  {
   "cell_type": "code",
   "execution_count": 5,
   "id": "bd7ef451",
   "metadata": {},
   "outputs": [],
   "source": [
    "# # now we just use these custom functions to execute without knowledge of the AST\n",
    "# test_ptr = init_class(root_client, \"syft.sandbox.mylib.Test\")\n",
    "# hello_ptr = run_on(test_ptr, \"hello\")"
   ]
  },
  {
   "cell_type": "code",
   "execution_count": 6,
   "id": "610f897c",
   "metadata": {},
   "outputs": [],
   "source": [
    "# hello_ptr.get(delete_obj=False)"
   ]
  },
  {
   "cell_type": "code",
   "execution_count": 7,
   "id": "9ac91c20",
   "metadata": {},
   "outputs": [],
   "source": [
    "# root_client.store.pandas"
   ]
  },
  {
   "cell_type": "code",
   "execution_count": 8,
   "id": "414c81c0",
   "metadata": {},
   "outputs": [],
   "source": [
    "# import sys\n",
    "# sys.modules[\"syft\"].sandbox\n",
    "# sy.sandbox.mylib.Test"
   ]
  },
  {
   "cell_type": "code",
   "execution_count": 9,
   "id": "d1fdde86",
   "metadata": {},
   "outputs": [],
   "source": [
    "import inspect, sys\n",
    "\n",
    "def new_getfile(object, _old_getfile=inspect.getfile):\n",
    "    if not inspect.isclass(object):\n",
    "        return _old_getfile(object)\n",
    "    \n",
    "    # Lookup by parent module (as in current inspect)\n",
    "    if hasattr(object, '__module__'):\n",
    "        object_ = sys.modules.get(object.__module__)\n",
    "        if hasattr(object_, '__file__'):\n",
    "            return object_.__file__\n",
    "    \n",
    "    # If parent module is __main__, lookup by methods (NEW)\n",
    "    for name, member in inspect.getmembers(object):\n",
    "        if inspect.isfunction(member) and object.__qualname__ + '.' + member.__name__ == member.__qualname__:\n",
    "            return inspect.getfile(member)\n",
    "    else:\n",
    "        raise TypeError('Source for {!r} not found'.format(object))\n",
    "inspect.getfile = new_getfile\n",
    "\n",
    "import inspect\n",
    "from IPython.core.magics.code import extract_symbols\n",
    "\n",
    "def get_code(obj):\n",
    "\n",
    "    try:\n",
    "        return inspect.getsource(obj)\n",
    "    except Exception as e:\n",
    "        # in case we're looking for a class that was generated within a\n",
    "        # Jupyter notebook we use the following\n",
    "        cell_code = \"\".join(inspect.linecache.getlines(new_getfile(obj)))\n",
    "        class_code = extract_symbols(cell_code, obj.__name__)[0][0]\n",
    "        return class_code"
   ]
  },
  {
   "cell_type": "code",
   "execution_count": null,
   "id": "94a406ec",
   "metadata": {},
   "outputs": [],
   "source": []
  },
  {
   "cell_type": "code",
   "execution_count": 10,
   "id": "2380dabf",
   "metadata": {},
   "outputs": [],
   "source": [
    "code_str = \"\"\"\n",
    "## USER CODE\n",
    "\n",
    "{custom_code}\n",
    "\n",
    "## Sandboxing Code\n",
    "import syft\n",
    "module_type = type(syft)\n",
    "\n",
    "if \"sandbox\" not in syft.__dict__:\n",
    "    syft.__dict__[\"sandbox\"] = module_type(name=\"sandbox\")\n",
    "\n",
    "parent = syft.__dict__[\"sandbox\"]\n",
    "\n",
    "namespace = \"mylib\"\n",
    "\n",
    "import_path = f\"{namespace}.{class_name}\"\n",
    "module_parts = import_path.split(\".\")\n",
    "\n",
    "klass = module_parts.pop()\n",
    "{class_name}.__module__ = f\"syft.sandbox.{namespace}\"\n",
    "{class_name}.__name__ = klass\n",
    "\n",
    "for n in module_parts:\n",
    "    if n not in parent.__dict__:\n",
    "        parent.__dict__[n] = module_type(name=n)\n",
    "    parent = parent.__dict__[n]\n",
    "\n",
    "parent.__dict__[{class_name}.__name__] = {class_name}\n",
    "\n",
    "print(\"done\", syft.sandbox.mylib)\n",
    "\"\"\"\n",
    "\n",
    "def send_custom_class_code(client, code, class_name):\n",
    "    code = code_str.replace(\"{custom_code}\", code)\n",
    "    code = code.replace(\"{class_name}\", class_name)\n",
    "    tree = ast.parse(code)\n",
    "    client.secure_exec(tree)"
   ]
  },
  {
   "cell_type": "code",
   "execution_count": 11,
   "id": "bf8dc244",
   "metadata": {},
   "outputs": [],
   "source": [
    "class ClassCode():\n",
    "    \n",
    "    def __init__(self, code, class_name) -> None:\n",
    "        self.code = code\n",
    "        self.class_name = class_name\n",
    "        \n",
    "    def send(self, destination_client):\n",
    "        return send_custom_class_code(destination_client, self.code, self.class_name)\n",
    "        \n",
    "    def __repr__(self):\n",
    "        return self.code"
   ]
  },
  {
   "cell_type": "code",
   "execution_count": 12,
   "id": "eae56f77",
   "metadata": {},
   "outputs": [],
   "source": [
    "def sendable(func_or_class):\n",
    "    return ClassCode(get_code(func_or_class).replace(\"@sendable\\n\",\"\"), func_or_class.__name__)"
   ]
  },
  {
   "cell_type": "code",
   "execution_count": 13,
   "id": "987d8d00",
   "metadata": {},
   "outputs": [],
   "source": [
    "@sendable\n",
    "def myfunc():\n",
    "    return 3\n",
    "\n",
    "@sendable\n",
    "class MyClass(object):\n",
    "    test:int = 2\n",
    "    \n",
    "    def __init__(self):\n",
    "        self.L = 5\n",
    "    \n",
    "    def test(self, x:str) -> str:\n",
    "        return True\n",
    "    \n",
    "    @classmethod\n",
    "    def forward(cls, x):\n",
    "        return x\n",
    "    \n",
    "    def hello(self) -> str:\n",
    "        return \"syckle helasdfasdfa\"    \n",
    "    \n",
    "@sendable\n",
    "class Test:\n",
    "    def hello(self) -> str:\n",
    "        return \"syckle helasdfasdfa\""
   ]
  },
  {
   "cell_type": "code",
   "execution_count": 14,
   "id": "24c26e43",
   "metadata": {},
   "outputs": [
    {
     "name": "stdout",
     "output_type": "stream",
     "text": [
      "=============================\n",
      "Remote Secure Exec\n",
      "=============================\n",
      "WARNING: `import syft` not allowed 10:0\n",
      "Compiling...\n",
      "done <module 'mylib'>\n",
      "... compiled!\n",
      "Accepting, code executed successfully!\n",
      "=============================\n"
     ]
    }
   ],
   "source": [
    "Test.send(root_client)"
   ]
  },
  {
   "cell_type": "code",
   "execution_count": 15,
   "id": "616c04f0",
   "metadata": {},
   "outputs": [],
   "source": [
    "def init_class(client, path: str):\n",
    "    action = RunFunctionOrConstructorAction(\n",
    "        path=\"syft.sandbox.mylib.Test\",\n",
    "        args=tuple(),\n",
    "        kwargs={},\n",
    "        id_at_location=UID(),\n",
    "        address=client.address,\n",
    "        msg_id=UID(),\n",
    "    )\n",
    "\n",
    "    client.send_immediate_msg_without_reply(msg=action)\n",
    "\n",
    "    module_parts = path.split(\".\")\n",
    "    klass_name = module_parts.pop()\n",
    "    # syft.proxy.torch.TensorPointer\n",
    "    fake_pointer = Pointer(id_at_location=action.id_at_location, client=client)\n",
    "    fake_pointer.path_and_name=action.path\n",
    "    fake_pointer.__class__.__module__ = f\"syft.proxy.{'.'.join(module_parts)}\"\n",
    "    fake_pointer.__class__.__name__ = f\"{klass_name}Pointer\"\n",
    "    fake_pointer.__class__.__qualname__ = f\"{klass_name}Pointer\"\n",
    "    return fake_pointer\n",
    "\n",
    "def run_on(pointer, method: str, args = [], kwargs = {}):\n",
    "    action = RunClassMethodAction(\n",
    "        path=f\"{pointer.path_and_name}.{method}\",\n",
    "        _self=pointer,\n",
    "        args=args,\n",
    "        kwargs=kwargs,\n",
    "        id_at_location=UID(),\n",
    "        address=pointer.client.address,\n",
    "        msg_id=UID(),\n",
    "    )\n",
    "    pointer.client.send_immediate_msg_without_reply(msg=action)\n",
    "\n",
    "    fake_pointer = Pointer(id_at_location=action.id_at_location, client=pointer.client)\n",
    "    fake_pointer.path_and_name = action.path\n",
    "#     fake_pointer.__class__.__module__ = f\"syft.proxy.{'.'.join(module_parts)}\"\n",
    "#     fake_pointer.__class__.__name__ = f\"{klass_name}Pointer\"\n",
    "#     fake_pointer.__class__.__qualname__ = f\"{klass_name}Pointer\"\n",
    "    return fake_pointer"
   ]
  },
  {
   "cell_type": "code",
   "execution_count": 16,
   "id": "33e33da7",
   "metadata": {},
   "outputs": [],
   "source": [
    "test_ptr = init_class(root_client, \"syft.sandbox.mylib.Test\")\n",
    "hello_ptr = run_on(test_ptr, \"hello\")"
   ]
  },
  {
   "cell_type": "code",
   "execution_count": 17,
   "id": "8b600e8d",
   "metadata": {},
   "outputs": [],
   "source": [
    "# run_on(test_ptr, \"__init__\")"
   ]
  },
  {
   "cell_type": "code",
   "execution_count": 18,
   "id": "de20332f",
   "metadata": {},
   "outputs": [
    {
     "data": {
      "text/plain": [
       "'syckle helasdfasdfa'"
      ]
     },
     "execution_count": 18,
     "metadata": {},
     "output_type": "execute_result"
    }
   ],
   "source": [
    "hello_ptr.get()"
   ]
  }
 ],
 "metadata": {
  "kernelspec": {
   "display_name": "Python 3",
   "language": "python",
   "name": "python3"
  },
  "language_info": {
   "codemirror_mode": {
    "name": "ipython",
    "version": 3
   },
   "file_extension": ".py",
   "mimetype": "text/x-python",
   "name": "python",
   "nbconvert_exporter": "python",
   "pygments_lexer": "ipython3",
   "version": "3.9.5"
  }
 },
 "nbformat": 4,
 "nbformat_minor": 5
}
