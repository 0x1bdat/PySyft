{
 "cells": [
  {
   "cell_type": "markdown",
   "id": "9aa97d65",
   "metadata": {},
   "source": [
    "# 🦀 Rusty Data Owner"
   ]
  },
  {
   "cell_type": "code",
   "execution_count": null,
   "id": "a0444f46",
   "metadata": {},
   "outputs": [],
   "source": [
    "import syft as sy"
   ]
  },
  {
   "cell_type": "code",
   "execution_count": null,
   "id": "ed626af8",
   "metadata": {},
   "outputs": [],
   "source": [
    "rust = sy.libsyft"
   ]
  },
  {
   "cell_type": "code",
   "execution_count": null,
   "id": "8a03263f",
   "metadata": {},
   "outputs": [],
   "source": [
    "print(dir(rust))\n",
    "print(dir(rust.node))\n",
    "print(dir(rust.message))"
   ]
  },
  {
   "cell_type": "code",
   "execution_count": null,
   "id": "25917750",
   "metadata": {},
   "outputs": [],
   "source": [
    "# start a server"
   ]
  },
  {
   "cell_type": "code",
   "execution_count": null,
   "id": "a2031ba1",
   "metadata": {},
   "outputs": [],
   "source": [
    "rust.node.start(local_iface=\"0.0.0.0\", port=50001)"
   ]
  },
  {
   "cell_type": "code",
   "execution_count": null,
   "id": "c5c95267",
   "metadata": {},
   "outputs": [],
   "source": [
    "from msg import create_handler"
   ]
  },
  {
   "cell_type": "code",
   "execution_count": null,
   "id": "105dec9c",
   "metadata": {},
   "outputs": [],
   "source": [
    "_none = sy.lib.python._SyNone()\n",
    "fake_reply = sy.lib.python.String(\"Reply Message\")"
   ]
  },
  {
   "cell_type": "code",
   "execution_count": null,
   "id": "eaeb183b",
   "metadata": {},
   "outputs": [],
   "source": [
    "def message_with_reply(msg: bytes) -> bytes:\n",
    "    print(\"message_with_reply\", msg)\n",
    "    response = fake_reply\n",
    "    print(\"replying with\", response)\n",
    "    return response"
   ]
  },
  {
   "cell_type": "code",
   "execution_count": null,
   "id": "3ea4f0e6",
   "metadata": {},
   "outputs": [],
   "source": [
    "def message_without_reply(msg: bytes) -> None:\n",
    "    print(\"message_without_reply\", msg)\n",
    "    return _none"
   ]
  },
  {
   "cell_type": "code",
   "execution_count": null,
   "id": "db990333",
   "metadata": {},
   "outputs": [],
   "source": [
    "rust.node.register(\"message_with_reply\", create_handler(message_with_reply))\n",
    "rust.node.register(\"message_without_reply\", create_handler(message_without_reply))"
   ]
  },
  {
   "cell_type": "code",
   "execution_count": null,
   "id": "46a4a9bd",
   "metadata": {},
   "outputs": [],
   "source": []
  }
 ],
 "metadata": {
  "kernelspec": {
   "display_name": "Python 3",
   "language": "python",
   "name": "python3"
  },
  "language_info": {
   "codemirror_mode": {
    "name": "ipython",
    "version": 3
   },
   "file_extension": ".py",
   "mimetype": "text/x-python",
   "name": "python",
   "nbconvert_exporter": "python",
   "pygments_lexer": "ipython3",
   "version": "3.8.9"
  }
 },
 "nbformat": 4,
 "nbformat_minor": 5
}
