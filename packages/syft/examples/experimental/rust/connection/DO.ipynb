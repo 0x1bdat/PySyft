{
 "cells": [
  {
   "cell_type": "markdown",
   "id": "9aa97d65",
   "metadata": {},
   "source": [
    "# 🦀 Rusty Data Owner"
   ]
  },
  {
   "cell_type": "code",
   "execution_count": 1,
   "id": "a0444f46",
   "metadata": {},
   "outputs": [],
   "source": [
    "import syft as sy"
   ]
  },
  {
   "cell_type": "code",
   "execution_count": 2,
   "id": "ed626af8",
   "metadata": {},
   "outputs": [],
   "source": [
    "rust = sy.libsyft"
   ]
  },
  {
   "cell_type": "code",
   "execution_count": 3,
   "id": "8a03263f",
   "metadata": {},
   "outputs": [
    {
     "name": "stdout",
     "output_type": "stream",
     "text": [
      "['__all__', '__doc__', '__file__', '__loader__', '__name__', '__package__', '__spec__', 'core', 'message', 'node']\n",
      "['__all__', '__doc__', '__loader__', '__name__', '__package__', '__spec__', 'connect', 'register', 'request_capabilities', 'start']\n",
      "['__all__', '__doc__', '__loader__', '__name__', '__package__', '__spec__', 'run_class_method_message', 'say_hello']\n"
     ]
    }
   ],
   "source": [
    "print(dir(rust))\n",
    "print(dir(rust.node))\n",
    "print(dir(rust.message))"
   ]
  },
  {
   "cell_type": "code",
   "execution_count": 5,
   "id": "25917750",
   "metadata": {},
   "outputs": [],
   "source": [
    "# start a server"
   ]
  },
  {
   "cell_type": "code",
   "execution_count": 6,
   "id": "a2031ba1",
   "metadata": {},
   "outputs": [],
   "source": [
    "rust.node.start(local_iface=\"0.0.0.0\", port=50001)"
   ]
  },
  {
   "cell_type": "code",
   "execution_count": 17,
   "id": "c5c95267",
   "metadata": {},
   "outputs": [
    {
     "name": "stdout",
     "output_type": "stream",
     "text": [
      "Handling a hello message <class 'str'> Client 1\n"
     ]
    }
   ],
   "source": [
    "from msg import create_handler"
   ]
  },
  {
   "cell_type": "code",
   "execution_count": 16,
   "id": "20ef07c3",
   "metadata": {},
   "outputs": [],
   "source": [
    "def hello_handler(input: str) -> str:\n",
    "    print(f\"Handling a hello message {type(input)} {input}\")\n",
    "    return f\"Hello: {input}\"\n",
    "\n",
    "\n",
    "rust.node.register(\"hello\", create_handler(hello_handler))"
   ]
  },
  {
   "cell_type": "code",
   "execution_count": null,
   "id": "636f680a",
   "metadata": {},
   "outputs": [],
   "source": []
  },
  {
   "cell_type": "code",
   "execution_count": null,
   "id": "3ea4f0e6",
   "metadata": {},
   "outputs": [],
   "source": []
  }
 ],
 "metadata": {
  "kernelspec": {
   "display_name": "Python 3",
   "language": "python",
   "name": "python3"
  },
  "language_info": {
   "codemirror_mode": {
    "name": "ipython",
    "version": 3
   },
   "file_extension": ".py",
   "mimetype": "text/x-python",
   "name": "python",
   "nbconvert_exporter": "python",
   "pygments_lexer": "ipython3",
   "version": "3.9.5"
  }
 },
 "nbformat": 4,
 "nbformat_minor": 5
}
