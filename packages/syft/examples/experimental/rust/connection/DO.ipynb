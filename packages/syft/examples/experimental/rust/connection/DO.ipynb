{
 "cells": [
  {
   "cell_type": "markdown",
   "id": "9aa97d65",
   "metadata": {},
   "source": [
    "# 🦀 Rusty Data Owner"
   ]
  },
  {
   "cell_type": "code",
   "execution_count": 1,
   "id": "a0444f46",
   "metadata": {},
   "outputs": [
    {
     "name": "stdout",
     "output_type": "stream",
     "text": [
      "sy.load() is deprecated and not needed anymore\n",
      "sy.load() is deprecated and not needed anymore\n",
      "sy.load() is deprecated and not needed anymore\n"
     ]
    }
   ],
   "source": [
    "import syft as sy"
   ]
  },
  {
   "cell_type": "code",
   "execution_count": 2,
   "id": "ed626af8",
   "metadata": {},
   "outputs": [],
   "source": [
    "rust = sy.libsyft"
   ]
  },
  {
   "cell_type": "code",
   "execution_count": 3,
   "id": "8a03263f",
   "metadata": {},
   "outputs": [
    {
     "name": "stdout",
     "output_type": "stream",
     "text": [
      "['__all__', '__doc__', '__file__', '__loader__', '__name__', '__package__', '__spec__', 'core', 'message', 'node']\n",
      "['__all__', '__doc__', '__loader__', '__name__', '__package__', '__spec__', 'connect', 'register', 'request_capabilities', 'start']\n",
      "['__all__', '__doc__', '__loader__', '__name__', '__package__', '__spec__', 'run_class_method_message', 'say_hello']\n"
     ]
    }
   ],
   "source": [
    "print(dir(rust))\n",
    "print(dir(rust.node))\n",
    "print(dir(rust.message))"
   ]
  },
  {
   "cell_type": "code",
   "execution_count": 4,
   "id": "25917750",
   "metadata": {},
   "outputs": [],
   "source": [
    "# start a server"
   ]
  },
  {
   "cell_type": "code",
   "execution_count": 5,
   "id": "a2031ba1",
   "metadata": {},
   "outputs": [],
   "source": [
    "rust.node.start(local_iface=\"0.0.0.0\", port=50001)"
   ]
  },
  {
   "cell_type": "code",
   "execution_count": 6,
   "id": "c5c95267",
   "metadata": {},
   "outputs": [],
   "source": [
    "from msg import create_handler"
   ]
  },
  {
   "cell_type": "code",
   "execution_count": 7,
   "id": "105dec9c",
   "metadata": {},
   "outputs": [],
   "source": [
    "_none = sy.lib.python._SyNone()\n",
    "fake_reply = sy.lib.python.String(\"Reply Message\")"
   ]
  },
  {
   "cell_type": "code",
   "execution_count": 8,
   "id": "eaeb183b",
   "metadata": {},
   "outputs": [],
   "source": [
    "def message_with_reply(msg: bytes) -> bytes:\n",
    "    print(\"message_with_reply\", msg)\n",
    "    response = fake_reply\n",
    "    print(\"replying with\", response)\n",
    "    return response"
   ]
  },
  {
   "cell_type": "code",
   "execution_count": 9,
   "id": "3ea4f0e6",
   "metadata": {},
   "outputs": [],
   "source": [
    "def message_without_reply(msg: bytes) -> None:\n",
    "    print(\"message_without_reply\", msg)\n",
    "    return _none"
   ]
  },
  {
   "cell_type": "code",
   "execution_count": 10,
   "id": "db990333",
   "metadata": {},
   "outputs": [
    {
     "name": "stdout",
     "output_type": "stream",
     "text": [
      "message_with_reply a\n",
      "replying with Reply Message\n",
      "message_without_reply a\n"
     ]
    }
   ],
   "source": [
    "rust.node.register(\"message_with_reply\", create_handler(message_with_reply))\n",
    "rust.node.register(\"message_without_reply\", create_handler(message_without_reply))"
   ]
  },
  {
   "cell_type": "code",
   "execution_count": null,
   "id": "46a4a9bd",
   "metadata": {},
   "outputs": [],
   "source": []
  }
 ],
 "metadata": {
  "kernelspec": {
   "display_name": "Python 3",
   "language": "python",
   "name": "python3"
  },
  "language_info": {
   "codemirror_mode": {
    "name": "ipython",
    "version": 3
   },
   "file_extension": ".py",
   "mimetype": "text/x-python",
   "name": "python",
   "nbconvert_exporter": "python",
   "pygments_lexer": "ipython3",
   "version": "3.7.9"
  }
 },
 "nbformat": 4,
 "nbformat_minor": 5
}
