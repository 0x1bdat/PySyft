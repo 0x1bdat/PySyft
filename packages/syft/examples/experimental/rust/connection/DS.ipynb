{
 "cells": [
  {
   "cell_type": "markdown",
   "id": "9293fd02",
   "metadata": {},
   "source": [
    "# 🦀 Rusty Data Scientist"
   ]
  },
  {
   "cell_type": "code",
   "execution_count": 1,
   "id": "82845c7c",
   "metadata": {},
   "outputs": [],
   "source": [
    "import syft as sy"
   ]
  },
  {
   "cell_type": "code",
   "execution_count": 2,
   "id": "37bb724e",
   "metadata": {},
   "outputs": [],
   "source": [
    "rust = sy.libsyft"
   ]
  },
  {
   "cell_type": "code",
   "execution_count": 3,
   "id": "29cf7cc7",
   "metadata": {},
   "outputs": [
    {
     "name": "stdout",
     "output_type": "stream",
     "text": [
      "['__all__', '__doc__', '__file__', '__loader__', '__name__', '__package__', '__spec__', 'core', 'message', 'node']\n",
      "['__all__', '__doc__', '__loader__', '__name__', '__package__', '__spec__', 'connect', 'register', 'request_capabilities', 'start']\n",
      "['__all__', '__doc__', '__loader__', '__name__', '__package__', '__spec__', 'run_class_method_message', 'say_hello']\n"
     ]
    }
   ],
   "source": [
    "print(dir(rust))\n",
    "print(dir(rust.node))\n",
    "print(dir(rust.message))"
   ]
  },
  {
   "cell_type": "code",
   "execution_count": 4,
   "id": "8369c836",
   "metadata": {},
   "outputs": [],
   "source": [
    "target_addr = \"http://0.0.0.0:50001\""
   ]
  },
  {
   "cell_type": "code",
   "execution_count": 5,
   "id": "70147550",
   "metadata": {},
   "outputs": [],
   "source": [
    "sy.libsyft.node.connect(target_addr=target_addr)"
   ]
  },
  {
   "cell_type": "code",
   "execution_count": 9,
   "id": "4cb81a20",
   "metadata": {},
   "outputs": [
    {
     "data": {
      "text/plain": [
       "'Hello Bob! From Node 9493b61b05ee440f95d6d76ec86496a1'"
      ]
     },
     "execution_count": 9,
     "metadata": {},
     "output_type": "execute_result"
    }
   ],
   "source": [
    "rust.message.say_hello(target_addr=target_addr, name=\"Bob\")"
   ]
  },
  {
   "cell_type": "code",
   "execution_count": 8,
   "id": "9865bacc",
   "metadata": {},
   "outputs": [],
   "source": [
    "remote_caps = rust.node.request_capabilities(target_addr)"
   ]
  },
  {
   "cell_type": "code",
   "execution_count": 14,
   "id": "e8d06ca6",
   "metadata": {},
   "outputs": [],
   "source": [
    "from msg import execute_capability"
   ]
  },
  {
   "cell_type": "code",
   "execution_count": 16,
   "id": "33a05b6a",
   "metadata": {},
   "outputs": [
    {
     "name": "stdout",
     "output_type": "stream",
     "text": [
      "Node at: http://0.0.0.0:50001 has capabilities: ['hello']\n",
      "Hello: Client 1\n"
     ]
    }
   ],
   "source": [
    "print(f\"Node at: {target_addr} has capabilities: {remote_caps}\")\n",
    "\n",
    "message = execute_capability(target_addr, \"hello\", \"Client 1\")\n",
    "print(message)"
   ]
  },
  {
   "cell_type": "code",
   "execution_count": null,
   "id": "dcc3a239",
   "metadata": {},
   "outputs": [],
   "source": []
  }
 ],
 "metadata": {
  "kernelspec": {
   "display_name": "Python 3",
   "language": "python",
   "name": "python3"
  },
  "language_info": {
   "codemirror_mode": {
    "name": "ipython",
    "version": 3
   },
   "file_extension": ".py",
   "mimetype": "text/x-python",
   "name": "python",
   "nbconvert_exporter": "python",
   "pygments_lexer": "ipython3",
   "version": "3.9.5"
  }
 },
 "nbformat": 4,
 "nbformat_minor": 5
}
