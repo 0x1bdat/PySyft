{
 "cells": [
  {
   "cell_type": "markdown",
   "id": "9293fd02",
   "metadata": {},
   "source": [
    "# 🦀 Rusty Data Scientist"
   ]
  },
  {
   "cell_type": "code",
   "execution_count": null,
   "id": "82845c7c",
   "metadata": {},
   "outputs": [],
   "source": [
    "import syft as sy"
   ]
  },
  {
   "cell_type": "code",
   "execution_count": null,
   "id": "37bb724e",
   "metadata": {},
   "outputs": [],
   "source": [
    "rust = sy.libsyft"
   ]
  },
  {
   "cell_type": "code",
   "execution_count": null,
   "id": "29cf7cc7",
   "metadata": {},
   "outputs": [],
   "source": [
    "print(dir(rust))\n",
    "print(dir(rust.node))\n",
    "print(dir(rust.message))"
   ]
  },
  {
   "cell_type": "code",
   "execution_count": null,
   "id": "8369c836",
   "metadata": {},
   "outputs": [],
   "source": [
    "target_addr = \"http://0.0.0.0:50001\""
   ]
  },
  {
   "cell_type": "code",
   "execution_count": null,
   "id": "70147550",
   "metadata": {},
   "outputs": [],
   "source": [
    "sy.libsyft.node.connect(target_addr=target_addr)"
   ]
  },
  {
   "cell_type": "code",
   "execution_count": null,
   "id": "4cb81a20",
   "metadata": {},
   "outputs": [],
   "source": [
    "rust.message.say_hello(target_addr=target_addr, name=\"Bob\")"
   ]
  },
  {
   "cell_type": "code",
   "execution_count": null,
   "id": "9865bacc",
   "metadata": {},
   "outputs": [],
   "source": [
    "remote_caps = rust.node.request_capabilities(target_addr)\n",
    "print(remote_caps)"
   ]
  },
  {
   "cell_type": "code",
   "execution_count": null,
   "id": "e8d06ca6",
   "metadata": {},
   "outputs": [],
   "source": [
    "from msg import execute_capability"
   ]
  },
  {
   "cell_type": "code",
   "execution_count": null,
   "id": "ef7813a3",
   "metadata": {},
   "outputs": [],
   "source": [
    "print(f\"Node at: {target_addr} has capabilities: {remote_caps}\")"
   ]
  },
  {
   "cell_type": "code",
   "execution_count": null,
   "id": "1912d234",
   "metadata": {},
   "outputs": [],
   "source": [
    "msg = sy.lib.python.String(\"a\")"
   ]
  },
  {
   "cell_type": "code",
   "execution_count": null,
   "id": "eb0af3d1",
   "metadata": {},
   "outputs": [],
   "source": [
    "type(msg), msg"
   ]
  },
  {
   "cell_type": "code",
   "execution_count": null,
   "id": "dcc3a239",
   "metadata": {},
   "outputs": [],
   "source": [
    "message = execute_capability(target_addr, \"message_with_reply\", msg)\n",
    "print(message)"
   ]
  },
  {
   "cell_type": "code",
   "execution_count": null,
   "id": "6630fe5a",
   "metadata": {},
   "outputs": [],
   "source": [
    "message = execute_capability(target_addr, \"message_without_reply\", msg)\n",
    "print(message)"
   ]
  },
  {
   "cell_type": "code",
   "execution_count": null,
   "id": "75e5f590",
   "metadata": {},
   "outputs": [],
   "source": []
  }
 ],
 "metadata": {
  "kernelspec": {
   "display_name": "Python 3",
   "language": "python",
   "name": "python3"
  },
  "language_info": {
   "codemirror_mode": {
    "name": "ipython",
    "version": 3
   },
   "file_extension": ".py",
   "mimetype": "text/x-python",
   "name": "python",
   "nbconvert_exporter": "python",
   "pygments_lexer": "ipython3",
   "version": "3.8.9"
  }
 },
 "nbformat": 4,
 "nbformat_minor": 5
}
