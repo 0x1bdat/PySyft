{
 "cells": [
  {
   "cell_type": "markdown",
   "id": "9293fd02",
   "metadata": {},
   "source": [
    "# 🦀 Rusty Data Scientist"
   ]
  },
  {
   "cell_type": "code",
   "execution_count": 3,
   "id": "82845c7c",
   "metadata": {},
   "outputs": [],
   "source": [
    "import syft as sy"
   ]
  },
  {
   "cell_type": "code",
   "execution_count": 4,
   "id": "37bb724e",
   "metadata": {},
   "outputs": [],
   "source": [
    "rust = sy.libsyft"
   ]
  },
  {
   "cell_type": "code",
   "execution_count": 5,
   "id": "29cf7cc7",
   "metadata": {},
   "outputs": [
    {
     "name": "stdout",
     "output_type": "stream",
     "text": [
      "['__all__', '__doc__', '__file__', '__loader__', '__name__', '__package__', '__spec__', 'core', 'message', 'node']\n",
      "['__all__', '__doc__', '__loader__', '__name__', '__package__', '__spec__', 'connect', 'register', 'request_capabilities', 'start']\n",
      "['__all__', '__doc__', '__loader__', '__name__', '__package__', '__spec__', 'run_class_method_message', 'say_hello']\n"
     ]
    }
   ],
   "source": [
    "print(dir(rust))\n",
    "print(dir(rust.node))\n",
    "print(dir(rust.message))"
   ]
  },
  {
   "cell_type": "code",
   "execution_count": 6,
   "id": "8369c836",
   "metadata": {},
   "outputs": [],
   "source": [
    "target_addr = \"http://0.0.0.0:50001\""
   ]
  },
  {
   "cell_type": "code",
   "execution_count": 7,
   "id": "70147550",
   "metadata": {},
   "outputs": [],
   "source": [
    "sy.libsyft.node.connect(target_addr=target_addr)"
   ]
  },
  {
   "cell_type": "code",
   "execution_count": 8,
   "id": "4cb81a20",
   "metadata": {},
   "outputs": [
    {
     "data": {
      "text/plain": [
       "'Hello Bob! From Node 2c3ec41b46aa47d39cc9f47b5af2ea75'"
      ]
     },
     "execution_count": 8,
     "metadata": {},
     "output_type": "execute_result"
    }
   ],
   "source": [
    "rust.message.say_hello(target_addr=target_addr, name=\"Bob\")"
   ]
  },
  {
   "cell_type": "code",
   "execution_count": 9,
   "id": "9865bacc",
   "metadata": {},
   "outputs": [
    {
     "name": "stdout",
     "output_type": "stream",
     "text": [
      "['message_with_reply', 'message_without_reply']\n"
     ]
    }
   ],
   "source": [
    "remote_caps = rust.node.request_capabilities(target_addr)\n",
    "print(remote_caps)"
   ]
  },
  {
   "cell_type": "code",
   "execution_count": 10,
   "id": "e8d06ca6",
   "metadata": {},
   "outputs": [],
   "source": [
    "from msg import execute_capability"
   ]
  },
  {
   "cell_type": "code",
   "execution_count": 11,
   "id": "ef7813a3",
   "metadata": {},
   "outputs": [
    {
     "name": "stdout",
     "output_type": "stream",
     "text": [
      "Node at: http://0.0.0.0:50001 has capabilities: ['message_with_reply', 'message_without_reply']\n"
     ]
    }
   ],
   "source": [
    "print(f\"Node at: {target_addr} has capabilities: {remote_caps}\")"
   ]
  },
  {
   "cell_type": "code",
   "execution_count": 12,
   "id": "1912d234",
   "metadata": {},
   "outputs": [],
   "source": [
    "msg = sy.lib.python.String(\"a\")"
   ]
  },
  {
   "cell_type": "code",
   "execution_count": 13,
   "id": "eb0af3d1",
   "metadata": {},
   "outputs": [
    {
     "data": {
      "text/plain": [
       "(syft.lib.python.String, 'a')"
      ]
     },
     "execution_count": 13,
     "metadata": {},
     "output_type": "execute_result"
    }
   ],
   "source": [
    "type(msg), msg"
   ]
  },
  {
   "cell_type": "code",
   "execution_count": 14,
   "id": "dcc3a239",
   "metadata": {},
   "outputs": [
    {
     "name": "stdout",
     "output_type": "stream",
     "text": [
      "Reply Message\n"
     ]
    }
   ],
   "source": [
    "message = execute_capability(target_addr, \"message_with_reply\", msg)\n",
    "print(message)"
   ]
  },
  {
   "cell_type": "code",
   "execution_count": 15,
   "id": "6630fe5a",
   "metadata": {},
   "outputs": [
    {
     "name": "stdout",
     "output_type": "stream",
     "text": [
      "<syft.lib.python._SyNone object at 0x7f3badee1c90>\n"
     ]
    }
   ],
   "source": [
    "message = execute_capability(target_addr, \"message_without_reply\", msg)\n",
    "print(message)"
   ]
  },
  {
   "cell_type": "code",
   "execution_count": null,
   "id": "75e5f590",
   "metadata": {},
   "outputs": [],
   "source": []
  }
 ],
 "metadata": {
  "kernelspec": {
   "display_name": "Python 3",
   "language": "python",
   "name": "python3"
  },
  "language_info": {
   "codemirror_mode": {
    "name": "ipython",
    "version": 3
   },
   "file_extension": ".py",
   "mimetype": "text/x-python",
   "name": "python",
   "nbconvert_exporter": "python",
   "pygments_lexer": "ipython3",
   "version": "3.7.9"
  }
 },
 "nbformat": 4,
 "nbformat_minor": 5
}
