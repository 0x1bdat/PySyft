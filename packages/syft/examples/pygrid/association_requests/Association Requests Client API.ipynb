{
 "cells": [
  {
   "cell_type": "markdown",
   "metadata": {},
   "source": [
    "# PyGrid Client Association Requests API"
   ]
  },
  {
   "cell_type": "markdown",
   "metadata": {},
   "source": [
    "### Import Libs"
   ]
  },
  {
   "cell_type": "code",
   "execution_count": 1,
   "metadata": {},
   "outputs": [],
   "source": [
    "from syft.grid.client.client import connect\n",
    "from syft.grid.client.grid_connection import GridHTTPConnection\n",
    "from syft.core.node.domain.client import DomainClient\n",
    "\n",
    "import syft as sy\n",
    "import torch as th\n",
    "\n",
    "sy.VERBOSE = False"
   ]
  },
  {
   "cell_type": "code",
   "execution_count": 2,
   "metadata": {},
   "outputs": [],
   "source": [
    "domain_client = connect(\n",
    "    url=\"http://localhost:5000\", # Domain Address\n",
    "    conn_type= GridHTTPConnection, # HTTP Connection Protocol\n",
    ")\n",
    "\n",
    "network_node = connect(\n",
    "    url=\"http://localhost:5001\", # Network Address\n",
    "    conn_type= GridHTTPConnection, # HTTP Connection Protocol\n",
    ")\n",
    "\n",
    "domain_client.setup(\n",
    "    email=\"owner@myorg.com\",\n",
    "    password=\"owerpwd\",\n",
    "    domain_name=\"OpenMined Domain\",\n",
    "    token=\"9G9MJ06OQH\",\n",
    ")"
   ]
  },
  {
   "cell_type": "code",
   "execution_count": 3,
   "metadata": {},
   "outputs": [],
   "source": [
    "network_node.users.create(\n",
    "    email=\"owner@myorg.com\", password=\"owerpwd\"\n",
    ")"
   ]
  },
  {
   "cell_type": "markdown",
   "metadata": {},
   "source": [
    "### Connect performing authentication process on both nodes"
   ]
  },
  {
   "cell_type": "code",
   "execution_count": 4,
   "metadata": {},
   "outputs": [],
   "source": [
    "domain_node = connect(\n",
    "    url=\"http://localhost:5000\", # Domain Address\n",
    "    credentials={\"email\":\"owner@myorg.com\", \"password\":\"owerpwd\"},\n",
    "    conn_type= GridHTTPConnection, # HTTP Connection Protocol\n",
    ")\n",
    "\n",
    "network_node = connect(\n",
    "    url=\"http://localhost:5001\", # Network Address\n",
    "    credentials={\"email\":\"owner@myorg.com\", \"password\":\"owerpwd\"},\n",
    "    conn_type= GridHTTPConnection, # HTTP Connection Protocol\n",
    ")"
   ]
  },
  {
   "cell_type": "markdown",
   "metadata": {},
   "source": [
    "### Create an association request on Node1 to node2"
   ]
  },
  {
   "cell_type": "code",
   "execution_count": 5,
   "metadata": {},
   "outputs": [],
   "source": [
    "domain_node.association_requests.create(\n",
    "    name=\"OpenMined Network Association Request\",\n",
    "    address=\"http://localhost:5001\",\n",
    "    sender_address=\"http://localhost:5000\")"
   ]
  },
  {
   "cell_type": "markdown",
   "metadata": {},
   "source": [
    "### Check association requests on Node 1"
   ]
  },
  {
   "cell_type": "code",
   "execution_count": 6,
   "metadata": {},
   "outputs": [
    {
     "data": {
      "text/html": [
       "<div>\n",
       "<style scoped>\n",
       "    .dataframe tbody tr th:only-of-type {\n",
       "        vertical-align: middle;\n",
       "    }\n",
       "\n",
       "    .dataframe tbody tr th {\n",
       "        vertical-align: top;\n",
       "    }\n",
       "\n",
       "    .dataframe thead th {\n",
       "        text-align: right;\n",
       "    }\n",
       "</style>\n",
       "<table border=\"1\" class=\"dataframe\">\n",
       "  <thead>\n",
       "    <tr style=\"text-align: right;\">\n",
       "      <th></th>\n",
       "      <th>id</th>\n",
       "      <th>date</th>\n",
       "      <th>name</th>\n",
       "      <th>address</th>\n",
       "      <th>sender_address</th>\n",
       "      <th>accepted</th>\n",
       "      <th>pending</th>\n",
       "      <th>handshake_value</th>\n",
       "    </tr>\n",
       "  </thead>\n",
       "  <tbody>\n",
       "    <tr>\n",
       "      <th>0</th>\n",
       "      <td>1</td>\n",
       "      <td>2021-06-16 09:06:12.747511</td>\n",
       "      <td>OpenMined Network Association Request</td>\n",
       "      <td>http://localhost:5001</td>\n",
       "      <td>http://localhost:5000</td>\n",
       "      <td>False</td>\n",
       "      <td>True</td>\n",
       "      <td>c0d6e99927df2f8364996201a12a098d173c755e278286...</td>\n",
       "    </tr>\n",
       "  </tbody>\n",
       "</table>\n",
       "</div>"
      ],
      "text/plain": [
       "   id                        date                                   name  \\\n",
       "0   1  2021-06-16 09:06:12.747511  OpenMined Network Association Request   \n",
       "\n",
       "                 address         sender_address  accepted  pending  \\\n",
       "0  http://localhost:5001  http://localhost:5000     False     True   \n",
       "\n",
       "                                     handshake_value  \n",
       "0  c0d6e99927df2f8364996201a12a098d173c755e278286...  "
      ]
     },
     "execution_count": 6,
     "metadata": {},
     "output_type": "execute_result"
    }
   ],
   "source": [
    "domain_node.association_requests.all(pandas=True)"
   ]
  },
  {
   "cell_type": "markdown",
   "metadata": {},
   "source": [
    "### Check association requests on Node 2"
   ]
  },
  {
   "cell_type": "code",
   "execution_count": 7,
   "metadata": {},
   "outputs": [
    {
     "data": {
      "text/html": [
       "<div>\n",
       "<style scoped>\n",
       "    .dataframe tbody tr th:only-of-type {\n",
       "        vertical-align: middle;\n",
       "    }\n",
       "\n",
       "    .dataframe tbody tr th {\n",
       "        vertical-align: top;\n",
       "    }\n",
       "\n",
       "    .dataframe thead th {\n",
       "        text-align: right;\n",
       "    }\n",
       "</style>\n",
       "<table border=\"1\" class=\"dataframe\">\n",
       "  <thead>\n",
       "    <tr style=\"text-align: right;\">\n",
       "      <th></th>\n",
       "      <th>id</th>\n",
       "      <th>date</th>\n",
       "      <th>name</th>\n",
       "      <th>address</th>\n",
       "      <th>sender_address</th>\n",
       "      <th>accepted</th>\n",
       "      <th>pending</th>\n",
       "      <th>handshake_value</th>\n",
       "    </tr>\n",
       "  </thead>\n",
       "  <tbody>\n",
       "    <tr>\n",
       "      <th>0</th>\n",
       "      <td>1</td>\n",
       "      <td>2021-06-16 09:06:12.767212</td>\n",
       "      <td>OpenMined Network Association Request</td>\n",
       "      <td>http://localhost:5000</td>\n",
       "      <td>http://localhost:5001</td>\n",
       "      <td>False</td>\n",
       "      <td>True</td>\n",
       "      <td>c0d6e99927df2f8364996201a12a098d173c755e278286...</td>\n",
       "    </tr>\n",
       "  </tbody>\n",
       "</table>\n",
       "</div>"
      ],
      "text/plain": [
       "   id                        date                                   name  \\\n",
       "0   1  2021-06-16 09:06:12.767212  OpenMined Network Association Request   \n",
       "\n",
       "                 address         sender_address  accepted  pending  \\\n",
       "0  http://localhost:5000  http://localhost:5001     False     True   \n",
       "\n",
       "                                     handshake_value  \n",
       "0  c0d6e99927df2f8364996201a12a098d173c755e278286...  "
      ]
     },
     "execution_count": 7,
     "metadata": {},
     "output_type": "execute_result"
    }
   ],
   "source": [
    "network_node.association_requests.all(pandas=True)"
   ]
  },
  {
   "cell_type": "markdown",
   "metadata": {},
   "source": [
    "### Accept/Deny Association Request on Node 2"
   ]
  },
  {
   "cell_type": "code",
   "execution_count": 8,
   "metadata": {},
   "outputs": [
    {
     "data": {
      "text/plain": [
       "{'msg': 'Association request replied!'}"
      ]
     },
     "execution_count": 8,
     "metadata": {},
     "output_type": "execute_result"
    }
   ],
   "source": [
    "network_node.association_requests[1].accept()"
   ]
  },
  {
   "cell_type": "code",
   "execution_count": 9,
   "metadata": {},
   "outputs": [
    {
     "data": {
      "text/html": [
       "<div>\n",
       "<style scoped>\n",
       "    .dataframe tbody tr th:only-of-type {\n",
       "        vertical-align: middle;\n",
       "    }\n",
       "\n",
       "    .dataframe tbody tr th {\n",
       "        vertical-align: top;\n",
       "    }\n",
       "\n",
       "    .dataframe thead th {\n",
       "        text-align: right;\n",
       "    }\n",
       "</style>\n",
       "<table border=\"1\" class=\"dataframe\">\n",
       "  <thead>\n",
       "    <tr style=\"text-align: right;\">\n",
       "      <th></th>\n",
       "      <th>id</th>\n",
       "      <th>date</th>\n",
       "      <th>name</th>\n",
       "      <th>address</th>\n",
       "      <th>sender_address</th>\n",
       "      <th>accepted</th>\n",
       "      <th>pending</th>\n",
       "      <th>handshake_value</th>\n",
       "    </tr>\n",
       "  </thead>\n",
       "  <tbody>\n",
       "    <tr>\n",
       "      <th>0</th>\n",
       "      <td>1</td>\n",
       "      <td>2021-06-16 09:06:12.747511</td>\n",
       "      <td>OpenMined Network Association Request</td>\n",
       "      <td>http://localhost:5001</td>\n",
       "      <td>http://localhost:5000</td>\n",
       "      <td>True</td>\n",
       "      <td>False</td>\n",
       "      <td>c0d6e99927df2f8364996201a12a098d173c755e278286...</td>\n",
       "    </tr>\n",
       "  </tbody>\n",
       "</table>\n",
       "</div>"
      ],
      "text/plain": [
       "   id                        date                                   name  \\\n",
       "0   1  2021-06-16 09:06:12.747511  OpenMined Network Association Request   \n",
       "\n",
       "                 address         sender_address  accepted  pending  \\\n",
       "0  http://localhost:5001  http://localhost:5000      True    False   \n",
       "\n",
       "                                     handshake_value  \n",
       "0  c0d6e99927df2f8364996201a12a098d173c755e278286...  "
      ]
     },
     "execution_count": 9,
     "metadata": {},
     "output_type": "execute_result"
    }
   ],
   "source": [
    "domain_node.association_requests.all(pandas=True)"
   ]
  },
  {
   "cell_type": "code",
   "execution_count": 10,
   "metadata": {},
   "outputs": [
    {
     "data": {
      "text/html": [
       "<div>\n",
       "<style scoped>\n",
       "    .dataframe tbody tr th:only-of-type {\n",
       "        vertical-align: middle;\n",
       "    }\n",
       "\n",
       "    .dataframe tbody tr th {\n",
       "        vertical-align: top;\n",
       "    }\n",
       "\n",
       "    .dataframe thead th {\n",
       "        text-align: right;\n",
       "    }\n",
       "</style>\n",
       "<table border=\"1\" class=\"dataframe\">\n",
       "  <thead>\n",
       "    <tr style=\"text-align: right;\">\n",
       "      <th></th>\n",
       "      <th>id</th>\n",
       "      <th>date</th>\n",
       "      <th>name</th>\n",
       "      <th>address</th>\n",
       "      <th>sender_address</th>\n",
       "      <th>accepted</th>\n",
       "      <th>pending</th>\n",
       "      <th>handshake_value</th>\n",
       "    </tr>\n",
       "  </thead>\n",
       "  <tbody>\n",
       "    <tr>\n",
       "      <th>0</th>\n",
       "      <td>1</td>\n",
       "      <td>2021-06-16 09:06:12.767212</td>\n",
       "      <td>OpenMined Network Association Request</td>\n",
       "      <td>http://localhost:5000</td>\n",
       "      <td>http://localhost:5001</td>\n",
       "      <td>True</td>\n",
       "      <td>False</td>\n",
       "      <td>c0d6e99927df2f8364996201a12a098d173c755e278286...</td>\n",
       "    </tr>\n",
       "  </tbody>\n",
       "</table>\n",
       "</div>"
      ],
      "text/plain": [
       "   id                        date                                   name  \\\n",
       "0   1  2021-06-16 09:06:12.767212  OpenMined Network Association Request   \n",
       "\n",
       "                 address         sender_address  accepted  pending  \\\n",
       "0  http://localhost:5000  http://localhost:5001      True    False   \n",
       "\n",
       "                                     handshake_value  \n",
       "0  c0d6e99927df2f8364996201a12a098d173c755e278286...  "
      ]
     },
     "execution_count": 10,
     "metadata": {},
     "output_type": "execute_result"
    }
   ],
   "source": [
    "network_node.association_requests.all(pandas=True)"
   ]
  },
  {
   "cell_type": "markdown",
   "metadata": {},
   "source": [
    "### Check if association request status were updated on both nodes"
   ]
  },
  {
   "cell_type": "code",
   "execution_count": 11,
   "metadata": {},
   "outputs": [],
   "source": [
    "assert domain_node.association_requests[1].accepted == True\n",
    "assert domain_node.association_requests[1].pending == False\n",
    "assert network_node.association_requests[1].accepted == True\n",
    "assert network_node.association_requests[1].pending == False"
   ]
  },
  {
   "cell_type": "markdown",
   "metadata": {},
   "source": [
    "### Broadcast Search\n",
    "\n",
    "Use this association to perform reach the domain by performing broadcast queries through the network"
   ]
  },
  {
   "cell_type": "code",
   "execution_count": 12,
   "metadata": {},
   "outputs": [],
   "source": [
    "import torch as th\n",
    "\n",
    "x = th.tensor([1,2,3,4,5,6,7,8,9])\n",
    "x_s = x.send(domain_node, pointable=True, tags=['#diabetes', \"x\"])"
   ]
  },
  {
   "cell_type": "code",
   "execution_count": 13,
   "metadata": {},
   "outputs": [
    {
     "data": {
      "text/html": [
       "<div>\n",
       "<style scoped>\n",
       "    .dataframe tbody tr th:only-of-type {\n",
       "        vertical-align: middle;\n",
       "    }\n",
       "\n",
       "    .dataframe tbody tr th {\n",
       "        vertical-align: top;\n",
       "    }\n",
       "\n",
       "    .dataframe thead th {\n",
       "        text-align: right;\n",
       "    }\n",
       "</style>\n",
       "<table border=\"1\" class=\"dataframe\">\n",
       "  <thead>\n",
       "    <tr style=\"text-align: right;\">\n",
       "      <th></th>\n",
       "      <th>node</th>\n",
       "      <th>items</th>\n",
       "      <th>address</th>\n",
       "    </tr>\n",
       "  </thead>\n",
       "  <tbody>\n",
       "    <tr>\n",
       "      <th>0</th>\n",
       "      <td>OpenMined Domain</td>\n",
       "      <td>1</td>\n",
       "      <td>http://localhost:5000</td>\n",
       "    </tr>\n",
       "  </tbody>\n",
       "</table>\n",
       "</div>"
      ],
      "text/plain": [
       "               node  items                address\n",
       "0  OpenMined Domain      1  http://localhost:5000"
      ]
     },
     "execution_count": 13,
     "metadata": {},
     "output_type": "execute_result"
    }
   ],
   "source": [
    "network_node.search(query=[\"#diabetes\"],pandas=True)"
   ]
  }
 ],
 "metadata": {
  "kernelspec": {
   "display_name": "Python 3",
   "language": "python",
   "name": "python3"
  },
  "language_info": {
   "codemirror_mode": {
    "name": "ipython",
    "version": 3
   },
   "file_extension": ".py",
   "mimetype": "text/x-python",
   "name": "python",
   "nbconvert_exporter": "python",
   "pygments_lexer": "ipython3",
   "version": "3.8.5"
  }
 },
 "nbformat": 4,
 "nbformat_minor": 4
}
