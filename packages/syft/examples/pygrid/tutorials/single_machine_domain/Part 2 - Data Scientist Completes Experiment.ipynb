{
 "cells": [
  {
   "cell_type": "markdown",
   "metadata": {},
   "source": [
    "# Part 2: Data Scientist Completes Experiment\n",
    "\n",
    "In this notebook, a we will show how a data scientist can create an account with a Domain client (localhost:5000 by default), perform an experiment, and then request their results.\n",
    "\n",
    "### Step 1: Login as a Data Scientist\n",
    "\n",
    "_(create an account first if necessary)_"
   ]
  },
  {
   "cell_type": "code",
   "execution_count": 3,
   "metadata": {},
   "outputs": [],
   "source": [
    "import syft as sy"
   ]
  },
  {
   "cell_type": "code",
   "execution_count": 4,
   "metadata": {},
   "outputs": [],
   "source": [
    "# run this cell first/instead if you havne't created an account yet\n",
    "# comment it out if the account already exists. Note that this logs you\n",
    "# in automatically as well (returning a domain node)\n",
    "domain = sy.register(email=\"scientist6@researchorg.edu\", password=\"pwd123\")\n",
    "\n",
    "# login as a data scientist if you didn't just register\n",
    "domain = sy.login(email=\"scientist6@researchorg.edu\", password=\"pwd123\")"
   ]
  },
  {
   "cell_type": "markdown",
   "metadata": {},
   "source": [
    "### Step 2: Find a Dataset\n",
    "\n",
    "Now a data scientist must search for a dataset relevant to their problem."
   ]
  },
  {
   "cell_type": "code",
   "execution_count": 6,
   "metadata": {},
   "outputs": [
    {
     "data": {
      "text/html": [
       "<div>\n",
       "<style scoped>\n",
       "    .dataframe tbody tr th:only-of-type {\n",
       "        vertical-align: middle;\n",
       "    }\n",
       "\n",
       "    .dataframe tbody tr th {\n",
       "        vertical-align: top;\n",
       "    }\n",
       "\n",
       "    .dataframe thead th {\n",
       "        text-align: right;\n",
       "    }\n",
       "</style>\n",
       "<table border=\"1\" class=\"dataframe\">\n",
       "  <thead>\n",
       "    <tr style=\"text-align: right;\">\n",
       "      <th></th>\n",
       "      <th>id</th>\n",
       "      <th>manifest</th>\n",
       "      <th>description</th>\n",
       "      <th>tags</th>\n",
       "      <th>data</th>\n",
       "    </tr>\n",
       "  </thead>\n",
       "  <tbody>\n",
       "    <tr>\n",
       "      <th>0</th>\n",
       "      <td>9a72ef51-d364-4d55-bd4d-8b5b0e0146c9</td>\n",
       "      <td>XOR dataset inputs</td>\n",
       "      <td>XOR dataset inputs</td>\n",
       "      <td>[#xor, #inputs]</td>\n",
       "      <td>[{'name': 'tmp/data_01.csv', 'id': '6d512d91-c...</td>\n",
       "    </tr>\n",
       "    <tr>\n",
       "      <th>1</th>\n",
       "      <td>a6632237-f950-483a-bd15-b69f58d62cae</td>\n",
       "      <td>XOR dataset targets</td>\n",
       "      <td>XOR dataset targets</td>\n",
       "      <td>[#xor, #targets]</td>\n",
       "      <td>[{'name': 'tmp/data_01.csv', 'id': 'a6273056-1...</td>\n",
       "    </tr>\n",
       "  </tbody>\n",
       "</table>\n",
       "</div>"
      ],
      "text/plain": [
       "<syft.grid.client.request_api.dataset_api.DatasetRequestAPI at 0x7f880189e580>"
      ]
     },
     "execution_count": 6,
     "metadata": {},
     "output_type": "execute_result"
    }
   ],
   "source": [
    "domain.datasets"
   ]
  },
  {
   "cell_type": "code",
   "execution_count": null,
   "metadata": {},
   "outputs": [],
   "source": [
    " "
   ]
  }
 ],
 "metadata": {
  "kernelspec": {
   "display_name": "Python 3",
   "language": "python",
   "name": "python3"
  },
  "language_info": {
   "codemirror_mode": {
    "name": "ipython",
    "version": 3
   },
   "file_extension": ".py",
   "mimetype": "text/x-python",
   "name": "python",
   "nbconvert_exporter": "python",
   "pygments_lexer": "ipython3",
   "version": "3.8.3"
  }
 },
 "nbformat": 4,
 "nbformat_minor": 4
}
