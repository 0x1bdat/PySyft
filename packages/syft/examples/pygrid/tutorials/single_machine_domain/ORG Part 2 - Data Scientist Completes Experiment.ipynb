{
 "cells": [
  {
   "cell_type": "markdown",
   "metadata": {},
   "source": [
    "# Part 2: Data Scientist Completes Experiment\n",
    "\n",
    "In this notebook, a we will show how a data scientist can create an account with a Domain client (localhost:5000 by default), perform an experiment, and then request their results.\n",
    "\n",
    "### Step 1: Login as a Data Scientist\n",
    "\n",
    "_(create an account first if necessary)_"
   ]
  },
  {
   "cell_type": "code",
   "execution_count": 1,
   "metadata": {},
   "outputs": [],
   "source": [
    "import torch as th\n",
    "import syft as sy"
   ]
  },
  {
   "cell_type": "code",
   "execution_count": 2,
   "metadata": {},
   "outputs": [],
   "source": [
    "root_domain = sy.login(email=\"owner@myorg.com\", password=\"owerpwd\")"
   ]
  },
  {
   "cell_type": "code",
   "execution_count": 3,
   "metadata": {},
   "outputs": [
    {
     "data": {
      "text/html": [
       "<div>\n",
       "<style scoped>\n",
       "    .dataframe tbody tr th:only-of-type {\n",
       "        vertical-align: middle;\n",
       "    }\n",
       "\n",
       "    .dataframe tbody tr th {\n",
       "        vertical-align: top;\n",
       "    }\n",
       "\n",
       "    .dataframe thead th {\n",
       "        text-align: right;\n",
       "    }\n",
       "</style>\n",
       "<table border=\"1\" class=\"dataframe\">\n",
       "  <thead>\n",
       "    <tr style=\"text-align: right;\">\n",
       "      <th></th>\n",
       "      <th>ID</th>\n",
       "      <th>Tags</th>\n",
       "      <th>Description</th>\n",
       "      <th>object_type</th>\n",
       "    </tr>\n",
       "  </thead>\n",
       "  <tbody>\n",
       "    <tr>\n",
       "      <th>0</th>\n",
       "      <td>&lt;UID: 1a8c13a7f11e43ff930c531acfa7a6d5&gt;</td>\n",
       "      <td>[a]</td>\n",
       "      <td></td>\n",
       "      <td>&lt;class 'syft.lib.python.Int'&gt;</td>\n",
       "    </tr>\n",
       "    <tr>\n",
       "      <th>1</th>\n",
       "      <td>&lt;UID: 244c19aadaec46bbbd047d3b9d20719d&gt;</td>\n",
       "      <td>[data]</td>\n",
       "      <td></td>\n",
       "      <td>&lt;class 'torch.Tensor'&gt;</td>\n",
       "    </tr>\n",
       "    <tr>\n",
       "      <th>2</th>\n",
       "      <td>&lt;UID: 33b15dbac58b4058ab31ac43e8431a54&gt;</td>\n",
       "      <td>[model]</td>\n",
       "      <td></td>\n",
       "      <td>&lt;class 'torch.nn.modules.linear.Linear'&gt;</td>\n",
       "    </tr>\n",
       "    <tr>\n",
       "      <th>3</th>\n",
       "      <td>&lt;UID: 46fac3351be94a75842a54d80faf77fb&gt;</td>\n",
       "      <td>[a]</td>\n",
       "      <td></td>\n",
       "      <td>&lt;class 'syft.lib.python.Int'&gt;</td>\n",
       "    </tr>\n",
       "    <tr>\n",
       "      <th>4</th>\n",
       "      <td>&lt;UID: 608d3745f8ec4c348652541391155c84&gt;</td>\n",
       "      <td>[]</td>\n",
       "      <td></td>\n",
       "      <td>&lt;class 'torch.Tensor'&gt;</td>\n",
       "    </tr>\n",
       "    <tr>\n",
       "      <th>5</th>\n",
       "      <td>&lt;UID: 64914e74cf81412d93f818d7e6f7004f&gt;</td>\n",
       "      <td>[y]</td>\n",
       "      <td></td>\n",
       "      <td>&lt;class 'torch.Tensor'&gt;</td>\n",
       "    </tr>\n",
       "    <tr>\n",
       "      <th>6</th>\n",
       "      <td>&lt;UID: 6dea71a863e4405ebba2bf8976d53de1&gt;</td>\n",
       "      <td>[#xor, #targets, #data_01.csv]</td>\n",
       "      <td></td>\n",
       "      <td>&lt;class 'torch.Tensor'&gt;</td>\n",
       "    </tr>\n",
       "    <tr>\n",
       "      <th>7</th>\n",
       "      <td>&lt;UID: 7214fab037fa469794f491252d9c763c&gt;</td>\n",
       "      <td>[]</td>\n",
       "      <td></td>\n",
       "      <td>&lt;class 'torch.Tensor'&gt;</td>\n",
       "    </tr>\n",
       "    <tr>\n",
       "      <th>8</th>\n",
       "      <td>&lt;UID: b64665ec54904aa39f19250318fc9957&gt;</td>\n",
       "      <td>[#xor, #inputs, #data_01.csv]</td>\n",
       "      <td></td>\n",
       "      <td>&lt;class 'torch.Tensor'&gt;</td>\n",
       "    </tr>\n",
       "    <tr>\n",
       "      <th>9</th>\n",
       "      <td>&lt;UID: cec3d1507cac451a965bf19d21bcc9cb&gt;</td>\n",
       "      <td>[y]</td>\n",
       "      <td></td>\n",
       "      <td>&lt;class 'torch.Tensor'&gt;</td>\n",
       "    </tr>\n",
       "    <tr>\n",
       "      <th>10</th>\n",
       "      <td>&lt;UID: e2f25daee2e74eea8d92b52847c05951&gt;</td>\n",
       "      <td>[]</td>\n",
       "      <td></td>\n",
       "      <td>&lt;class 'torch.nn.modules.linear.Linear'&gt;</td>\n",
       "    </tr>\n",
       "    <tr>\n",
       "      <th>11</th>\n",
       "      <td>&lt;UID: ee3fd0727b0a4f1dbdcb5019edb61e16&gt;</td>\n",
       "      <td>[#xor, #targets, #data_01.csv]</td>\n",
       "      <td></td>\n",
       "      <td>&lt;class 'torch.Tensor'&gt;</td>\n",
       "    </tr>\n",
       "  </tbody>\n",
       "</table>\n",
       "</div>"
      ],
      "text/plain": [
       "[<syft.proxy.syft.lib.python.IntPointer object at 0x1439e4b50>, <syft.proxy.torch.TensorPointer object at 0x1439e4970>, <syft.proxy.torch.nn.LinearPointer object at 0x143875220>, <syft.proxy.syft.lib.python.IntPointer object at 0x1438752b0>, <syft.proxy.torch.TensorPointer object at 0x1438754c0>, <syft.proxy.torch.TensorPointer object at 0x1438756d0>, <syft.proxy.torch.TensorPointer object at 0x1438758e0>, <syft.proxy.torch.TensorPointer object at 0x143875af0>, <syft.proxy.torch.TensorPointer object at 0x143875d00>, <syft.proxy.torch.TensorPointer object at 0x143875fd0>, <syft.proxy.torch.nn.LinearPointer object at 0x1438850a0>, <syft.proxy.torch.TensorPointer object at 0x143885250>]"
      ]
     },
     "execution_count": 3,
     "metadata": {},
     "output_type": "execute_result"
    }
   ],
   "source": [
    "root_domain.store"
   ]
  },
  {
   "cell_type": "code",
   "execution_count": 4,
   "metadata": {},
   "outputs": [],
   "source": [
    "m = th.nn.Linear(2,1)\n",
    "x = th.zeros(6,2)\n",
    "y = m(x)"
   ]
  },
  {
   "cell_type": "code",
   "execution_count": 5,
   "metadata": {},
   "outputs": [],
   "source": [
    "# y = y.detach()"
   ]
  },
  {
   "cell_type": "code",
   "execution_count": 6,
   "metadata": {},
   "outputs": [
    {
     "data": {
      "text/plain": [
       "tensor([[0.6022],\n",
       "        [0.6022],\n",
       "        [0.6022],\n",
       "        [0.6022],\n",
       "        [0.6022],\n",
       "        [0.6022]], grad_fn=<AddmmBackward>)"
      ]
     },
     "execution_count": 6,
     "metadata": {},
     "output_type": "execute_result"
    }
   ],
   "source": [
    "y"
   ]
  },
  {
   "cell_type": "code",
   "execution_count": 7,
   "metadata": {},
   "outputs": [
    {
     "name": "stderr",
     "output_type": "stream",
     "text": [
      "<ipython-input-7-10b3a7061f6d>:1: UserWarning: The .grad attribute of a Tensor that is not a leaf Tensor is being accessed. Its .grad attribute won't be populated during autograd.backward(). If you indeed want the gradient for a non-leaf Tensor, use .retain_grad() on the non-leaf Tensor. If you access the non-leaf Tensor by mistake, make sure you access the leaf Tensor instead. See github.com/pytorch/pytorch/pull/30531 for more informations.\n",
      "  y.grad\n"
     ]
    }
   ],
   "source": [
    "y.grad"
   ]
  },
  {
   "cell_type": "code",
   "execution_count": 8,
   "metadata": {},
   "outputs": [
    {
     "name": "stderr",
     "output_type": "stream",
     "text": [
      "/Users/madhavajay/dev/PySyft/packages/syft/src/syft/lib/torch/uppercase_tensor.py:30: UserWarning: The .grad attribute of a Tensor that is not a leaf Tensor is being accessed. Its .grad attribute won't be populated during autograd.backward(). If you indeed want the gradient for a non-leaf Tensor, use .retain_grad() on the non-leaf Tensor. If you access the non-leaf Tensor by mistake, make sure you access the leaf Tensor instead. See github.com/pytorch/pytorch/pull/30531 for more informations.\n",
      "  grad = getattr(obj, \"grad\", None)\n"
     ]
    },
    {
     "data": {
      "text/plain": [
       "<syft.proxy.torch.TensorPointer at 0x1439e46d0>"
      ]
     },
     "execution_count": 8,
     "metadata": {},
     "output_type": "execute_result"
    }
   ],
   "source": [
    "y.send(root_domain, tags=[\"y\"])"
   ]
  },
  {
   "cell_type": "code",
   "execution_count": 9,
   "metadata": {},
   "outputs": [],
   "source": [
    "try:\n",
    "    # if model exists skip\n",
    "    root_domain.store[\"model\"]\n",
    "except Exception as e:\n",
    "    if \"More than one\" not in str(e):\n",
    "        # model doesnt exist so make it\n",
    "        model = th.nn.Linear(2,1)\n",
    "        model_ptr = model.send(root_domain, tags=[\"model\"])"
   ]
  },
  {
   "cell_type": "code",
   "execution_count": 10,
   "metadata": {},
   "outputs": [
    {
     "data": {
      "text/html": [
       "<div>\n",
       "<style scoped>\n",
       "    .dataframe tbody tr th:only-of-type {\n",
       "        vertical-align: middle;\n",
       "    }\n",
       "\n",
       "    .dataframe tbody tr th {\n",
       "        vertical-align: top;\n",
       "    }\n",
       "\n",
       "    .dataframe thead th {\n",
       "        text-align: right;\n",
       "    }\n",
       "</style>\n",
       "<table border=\"1\" class=\"dataframe\">\n",
       "  <thead>\n",
       "    <tr style=\"text-align: right;\">\n",
       "      <th></th>\n",
       "      <th>ID</th>\n",
       "      <th>Tags</th>\n",
       "      <th>Description</th>\n",
       "      <th>object_type</th>\n",
       "    </tr>\n",
       "  </thead>\n",
       "  <tbody>\n",
       "    <tr>\n",
       "      <th>0</th>\n",
       "      <td>&lt;UID: 1a8c13a7f11e43ff930c531acfa7a6d5&gt;</td>\n",
       "      <td>[a]</td>\n",
       "      <td></td>\n",
       "      <td>&lt;class 'syft.lib.python.Int'&gt;</td>\n",
       "    </tr>\n",
       "    <tr>\n",
       "      <th>1</th>\n",
       "      <td>&lt;UID: 244c19aadaec46bbbd047d3b9d20719d&gt;</td>\n",
       "      <td>[data]</td>\n",
       "      <td></td>\n",
       "      <td>&lt;class 'torch.Tensor'&gt;</td>\n",
       "    </tr>\n",
       "    <tr>\n",
       "      <th>2</th>\n",
       "      <td>&lt;UID: 33b15dbac58b4058ab31ac43e8431a54&gt;</td>\n",
       "      <td>[model]</td>\n",
       "      <td></td>\n",
       "      <td>&lt;class 'torch.nn.modules.linear.Linear'&gt;</td>\n",
       "    </tr>\n",
       "    <tr>\n",
       "      <th>3</th>\n",
       "      <td>&lt;UID: 46fac3351be94a75842a54d80faf77fb&gt;</td>\n",
       "      <td>[a]</td>\n",
       "      <td></td>\n",
       "      <td>&lt;class 'syft.lib.python.Int'&gt;</td>\n",
       "    </tr>\n",
       "    <tr>\n",
       "      <th>4</th>\n",
       "      <td>&lt;UID: 608d3745f8ec4c348652541391155c84&gt;</td>\n",
       "      <td>[]</td>\n",
       "      <td></td>\n",
       "      <td>&lt;class 'torch.Tensor'&gt;</td>\n",
       "    </tr>\n",
       "    <tr>\n",
       "      <th>5</th>\n",
       "      <td>&lt;UID: 64914e74cf81412d93f818d7e6f7004f&gt;</td>\n",
       "      <td>[y]</td>\n",
       "      <td></td>\n",
       "      <td>&lt;class 'torch.Tensor'&gt;</td>\n",
       "    </tr>\n",
       "    <tr>\n",
       "      <th>6</th>\n",
       "      <td>&lt;UID: 6dea71a863e4405ebba2bf8976d53de1&gt;</td>\n",
       "      <td>[#xor, #targets, #data_01.csv]</td>\n",
       "      <td></td>\n",
       "      <td>&lt;class 'torch.Tensor'&gt;</td>\n",
       "    </tr>\n",
       "    <tr>\n",
       "      <th>7</th>\n",
       "      <td>&lt;UID: 7214fab037fa469794f491252d9c763c&gt;</td>\n",
       "      <td>[]</td>\n",
       "      <td></td>\n",
       "      <td>&lt;class 'torch.Tensor'&gt;</td>\n",
       "    </tr>\n",
       "    <tr>\n",
       "      <th>8</th>\n",
       "      <td>&lt;UID: b64665ec54904aa39f19250318fc9957&gt;</td>\n",
       "      <td>[#xor, #inputs, #data_01.csv]</td>\n",
       "      <td></td>\n",
       "      <td>&lt;class 'torch.Tensor'&gt;</td>\n",
       "    </tr>\n",
       "    <tr>\n",
       "      <th>9</th>\n",
       "      <td>&lt;UID: bce7469f785c4d79be19a95665ec4cde&gt;</td>\n",
       "      <td>[y]</td>\n",
       "      <td></td>\n",
       "      <td>&lt;class 'torch.Tensor'&gt;</td>\n",
       "    </tr>\n",
       "    <tr>\n",
       "      <th>10</th>\n",
       "      <td>&lt;UID: cec3d1507cac451a965bf19d21bcc9cb&gt;</td>\n",
       "      <td>[y]</td>\n",
       "      <td></td>\n",
       "      <td>&lt;class 'torch.Tensor'&gt;</td>\n",
       "    </tr>\n",
       "    <tr>\n",
       "      <th>11</th>\n",
       "      <td>&lt;UID: e2f25daee2e74eea8d92b52847c05951&gt;</td>\n",
       "      <td>[]</td>\n",
       "      <td></td>\n",
       "      <td>&lt;class 'torch.nn.modules.linear.Linear'&gt;</td>\n",
       "    </tr>\n",
       "    <tr>\n",
       "      <th>12</th>\n",
       "      <td>&lt;UID: ee3fd0727b0a4f1dbdcb5019edb61e16&gt;</td>\n",
       "      <td>[#xor, #targets, #data_01.csv]</td>\n",
       "      <td></td>\n",
       "      <td>&lt;class 'torch.Tensor'&gt;</td>\n",
       "    </tr>\n",
       "  </tbody>\n",
       "</table>\n",
       "</div>"
      ],
      "text/plain": [
       "[<syft.proxy.syft.lib.python.IntPointer object at 0x143afa760>, <syft.proxy.torch.TensorPointer object at 0x143afaeb0>, <syft.proxy.torch.nn.LinearPointer object at 0x143afac70>, <syft.proxy.syft.lib.python.IntPointer object at 0x143afa700>, <syft.proxy.torch.TensorPointer object at 0x143afa160>, <syft.proxy.torch.TensorPointer object at 0x1439c4dc0>, <syft.proxy.torch.TensorPointer object at 0x143875a30>, <syft.proxy.torch.TensorPointer object at 0x1438751c0>, <syft.proxy.torch.TensorPointer object at 0x1439e4460>, <syft.proxy.torch.TensorPointer object at 0x143afc0d0>, <syft.proxy.torch.TensorPointer object at 0x143afc2e0>, <syft.proxy.torch.nn.LinearPointer object at 0x143afc4f0>, <syft.proxy.torch.TensorPointer object at 0x143afc700>]"
      ]
     },
     "execution_count": 10,
     "metadata": {},
     "output_type": "execute_result"
    }
   ],
   "source": [
    "root_domain.store"
   ]
  },
  {
   "cell_type": "code",
   "execution_count": 11,
   "metadata": {},
   "outputs": [
    {
     "name": "stderr",
     "output_type": "stream",
     "text": [
      "[2021-06-15T16:28:27.463423+1000][CRITICAL][logger]][78005] UnknownPrivateException has been triggered.\n"
     ]
    },
    {
     "name": "stdout",
     "output_type": "stream",
     "text": [
      "Already created scientist6@researchorg.edu\n"
     ]
    }
   ],
   "source": [
    "# run this cell first/instead if you havne't created an account yet\n",
    "# comment it out if the account already exists. Note that this logs you\n",
    "# in automatically as well (returning a domain node)\n",
    "try:\n",
    "    domain = sy.register(email=\"scientist6@researchorg.edu\", password=\"pwd123\")\n",
    "except Exception as e:\n",
    "    print(\"Already created scientist6@researchorg.edu\")\n",
    "\n",
    "# login as a data scientist if you didn't just register\n",
    "domain = sy.login(email=\"scientist6@researchorg.edu\", password=\"pwd123\")\n",
    "\n",
    "compliance = sy.login(email=\"compliance@myorg.com\", password=\"pwd123\")"
   ]
  },
  {
   "cell_type": "markdown",
   "metadata": {},
   "source": [
    "### Step 2: Find a Dataset\n",
    "\n",
    "Now a data scientist must search for a dataset relevant to their problem."
   ]
  },
  {
   "cell_type": "code",
   "execution_count": 12,
   "metadata": {},
   "outputs": [
    {
     "data": {
      "text/html": [
       "<div>\n",
       "<style scoped>\n",
       "    .dataframe tbody tr th:only-of-type {\n",
       "        vertical-align: middle;\n",
       "    }\n",
       "\n",
       "    .dataframe tbody tr th {\n",
       "        vertical-align: top;\n",
       "    }\n",
       "\n",
       "    .dataframe thead th {\n",
       "        text-align: right;\n",
       "    }\n",
       "</style>\n",
       "<table border=\"1\" class=\"dataframe\">\n",
       "  <thead>\n",
       "    <tr style=\"text-align: right;\">\n",
       "      <th></th>\n",
       "      <th>ID</th>\n",
       "      <th>Tags</th>\n",
       "      <th>Description</th>\n",
       "      <th>object_type</th>\n",
       "    </tr>\n",
       "  </thead>\n",
       "  <tbody>\n",
       "    <tr>\n",
       "      <th>0</th>\n",
       "      <td>&lt;UID: 1a8c13a7f11e43ff930c531acfa7a6d5&gt;</td>\n",
       "      <td>[a]</td>\n",
       "      <td></td>\n",
       "      <td>&lt;class 'syft.lib.python.Int'&gt;</td>\n",
       "    </tr>\n",
       "    <tr>\n",
       "      <th>1</th>\n",
       "      <td>&lt;UID: 244c19aadaec46bbbd047d3b9d20719d&gt;</td>\n",
       "      <td>[data]</td>\n",
       "      <td></td>\n",
       "      <td>&lt;class 'torch.Tensor'&gt;</td>\n",
       "    </tr>\n",
       "    <tr>\n",
       "      <th>2</th>\n",
       "      <td>&lt;UID: 33b15dbac58b4058ab31ac43e8431a54&gt;</td>\n",
       "      <td>[model]</td>\n",
       "      <td></td>\n",
       "      <td>&lt;class 'torch.nn.modules.linear.Linear'&gt;</td>\n",
       "    </tr>\n",
       "    <tr>\n",
       "      <th>3</th>\n",
       "      <td>&lt;UID: 46fac3351be94a75842a54d80faf77fb&gt;</td>\n",
       "      <td>[a]</td>\n",
       "      <td></td>\n",
       "      <td>&lt;class 'syft.lib.python.Int'&gt;</td>\n",
       "    </tr>\n",
       "    <tr>\n",
       "      <th>4</th>\n",
       "      <td>&lt;UID: 608d3745f8ec4c348652541391155c84&gt;</td>\n",
       "      <td>[]</td>\n",
       "      <td></td>\n",
       "      <td>&lt;class 'torch.Tensor'&gt;</td>\n",
       "    </tr>\n",
       "    <tr>\n",
       "      <th>5</th>\n",
       "      <td>&lt;UID: 64914e74cf81412d93f818d7e6f7004f&gt;</td>\n",
       "      <td>[y]</td>\n",
       "      <td></td>\n",
       "      <td>&lt;class 'torch.Tensor'&gt;</td>\n",
       "    </tr>\n",
       "    <tr>\n",
       "      <th>6</th>\n",
       "      <td>&lt;UID: 6dea71a863e4405ebba2bf8976d53de1&gt;</td>\n",
       "      <td>[#xor, #targets, #data_01.csv]</td>\n",
       "      <td></td>\n",
       "      <td>&lt;class 'torch.Tensor'&gt;</td>\n",
       "    </tr>\n",
       "    <tr>\n",
       "      <th>7</th>\n",
       "      <td>&lt;UID: 7214fab037fa469794f491252d9c763c&gt;</td>\n",
       "      <td>[]</td>\n",
       "      <td></td>\n",
       "      <td>&lt;class 'torch.Tensor'&gt;</td>\n",
       "    </tr>\n",
       "    <tr>\n",
       "      <th>8</th>\n",
       "      <td>&lt;UID: b64665ec54904aa39f19250318fc9957&gt;</td>\n",
       "      <td>[#xor, #inputs, #data_01.csv]</td>\n",
       "      <td></td>\n",
       "      <td>&lt;class 'torch.Tensor'&gt;</td>\n",
       "    </tr>\n",
       "    <tr>\n",
       "      <th>9</th>\n",
       "      <td>&lt;UID: bce7469f785c4d79be19a95665ec4cde&gt;</td>\n",
       "      <td>[y]</td>\n",
       "      <td></td>\n",
       "      <td>&lt;class 'torch.Tensor'&gt;</td>\n",
       "    </tr>\n",
       "    <tr>\n",
       "      <th>10</th>\n",
       "      <td>&lt;UID: cec3d1507cac451a965bf19d21bcc9cb&gt;</td>\n",
       "      <td>[y]</td>\n",
       "      <td></td>\n",
       "      <td>&lt;class 'torch.Tensor'&gt;</td>\n",
       "    </tr>\n",
       "    <tr>\n",
       "      <th>11</th>\n",
       "      <td>&lt;UID: e2f25daee2e74eea8d92b52847c05951&gt;</td>\n",
       "      <td>[]</td>\n",
       "      <td></td>\n",
       "      <td>&lt;class 'torch.nn.modules.linear.Linear'&gt;</td>\n",
       "    </tr>\n",
       "    <tr>\n",
       "      <th>12</th>\n",
       "      <td>&lt;UID: ee3fd0727b0a4f1dbdcb5019edb61e16&gt;</td>\n",
       "      <td>[#xor, #targets, #data_01.csv]</td>\n",
       "      <td></td>\n",
       "      <td>&lt;class 'torch.Tensor'&gt;</td>\n",
       "    </tr>\n",
       "  </tbody>\n",
       "</table>\n",
       "</div>"
      ],
      "text/plain": [
       "                                         ID                            Tags  \\\n",
       "0   <UID: 1a8c13a7f11e43ff930c531acfa7a6d5>                             [a]   \n",
       "1   <UID: 244c19aadaec46bbbd047d3b9d20719d>                          [data]   \n",
       "2   <UID: 33b15dbac58b4058ab31ac43e8431a54>                         [model]   \n",
       "3   <UID: 46fac3351be94a75842a54d80faf77fb>                             [a]   \n",
       "4   <UID: 608d3745f8ec4c348652541391155c84>                              []   \n",
       "5   <UID: 64914e74cf81412d93f818d7e6f7004f>                             [y]   \n",
       "6   <UID: 6dea71a863e4405ebba2bf8976d53de1>  [#xor, #targets, #data_01.csv]   \n",
       "7   <UID: 7214fab037fa469794f491252d9c763c>                              []   \n",
       "8   <UID: b64665ec54904aa39f19250318fc9957>   [#xor, #inputs, #data_01.csv]   \n",
       "9   <UID: bce7469f785c4d79be19a95665ec4cde>                             [y]   \n",
       "10  <UID: cec3d1507cac451a965bf19d21bcc9cb>                             [y]   \n",
       "11  <UID: e2f25daee2e74eea8d92b52847c05951>                              []   \n",
       "12  <UID: ee3fd0727b0a4f1dbdcb5019edb61e16>  [#xor, #targets, #data_01.csv]   \n",
       "\n",
       "   Description                               object_type  \n",
       "0                          <class 'syft.lib.python.Int'>  \n",
       "1                                 <class 'torch.Tensor'>  \n",
       "2               <class 'torch.nn.modules.linear.Linear'>  \n",
       "3                          <class 'syft.lib.python.Int'>  \n",
       "4                                 <class 'torch.Tensor'>  \n",
       "5                                 <class 'torch.Tensor'>  \n",
       "6                                 <class 'torch.Tensor'>  \n",
       "7                                 <class 'torch.Tensor'>  \n",
       "8                                 <class 'torch.Tensor'>  \n",
       "9                                 <class 'torch.Tensor'>  \n",
       "10                                <class 'torch.Tensor'>  \n",
       "11              <class 'torch.nn.modules.linear.Linear'>  \n",
       "12                                <class 'torch.Tensor'>  "
      ]
     },
     "execution_count": 12,
     "metadata": {},
     "output_type": "execute_result"
    }
   ],
   "source": [
    "domain.store.pandas"
   ]
  },
  {
   "cell_type": "code",
   "execution_count": 13,
   "metadata": {},
   "outputs": [],
   "source": [
    "model = domain.store[\"model\"]\n",
    "try:\n",
    "    data = domain.store[\"data\"]\n",
    "except Exception as e:\n",
    "    if \"More than one\" not in str(e):\n",
    "        data = th.zeros(6,2).send(domain, tags=[\"data\"])"
   ]
  },
  {
   "cell_type": "code",
   "execution_count": 14,
   "metadata": {},
   "outputs": [],
   "source": [
    "pred = model(data)"
   ]
  },
  {
   "cell_type": "code",
   "execution_count": 22,
   "metadata": {},
   "outputs": [
    {
     "data": {
      "text/html": [
       "<div>\n",
       "<style scoped>\n",
       "    .dataframe tbody tr th:only-of-type {\n",
       "        vertical-align: middle;\n",
       "    }\n",
       "\n",
       "    .dataframe tbody tr th {\n",
       "        vertical-align: top;\n",
       "    }\n",
       "\n",
       "    .dataframe thead th {\n",
       "        text-align: right;\n",
       "    }\n",
       "</style>\n",
       "<table border=\"1\" class=\"dataframe\">\n",
       "  <thead>\n",
       "    <tr style=\"text-align: right;\">\n",
       "      <th></th>\n",
       "      <th>ID</th>\n",
       "      <th>Tags</th>\n",
       "      <th>Description</th>\n",
       "      <th>object_type</th>\n",
       "    </tr>\n",
       "  </thead>\n",
       "  <tbody>\n",
       "    <tr>\n",
       "      <th>0</th>\n",
       "      <td>&lt;UID: 1a8c13a7f11e43ff930c531acfa7a6d5&gt;</td>\n",
       "      <td>[a]</td>\n",
       "      <td></td>\n",
       "      <td>&lt;class 'syft.lib.python.Int'&gt;</td>\n",
       "    </tr>\n",
       "    <tr>\n",
       "      <th>1</th>\n",
       "      <td>&lt;UID: 244c19aadaec46bbbd047d3b9d20719d&gt;</td>\n",
       "      <td>[data]</td>\n",
       "      <td></td>\n",
       "      <td>&lt;class 'torch.Tensor'&gt;</td>\n",
       "    </tr>\n",
       "    <tr>\n",
       "      <th>2</th>\n",
       "      <td>&lt;UID: 33b15dbac58b4058ab31ac43e8431a54&gt;</td>\n",
       "      <td>[model]</td>\n",
       "      <td></td>\n",
       "      <td>&lt;class 'torch.nn.modules.linear.Linear'&gt;</td>\n",
       "    </tr>\n",
       "    <tr>\n",
       "      <th>3</th>\n",
       "      <td>&lt;UID: 46fac3351be94a75842a54d80faf77fb&gt;</td>\n",
       "      <td>[a]</td>\n",
       "      <td></td>\n",
       "      <td>&lt;class 'syft.lib.python.Int'&gt;</td>\n",
       "    </tr>\n",
       "    <tr>\n",
       "      <th>4</th>\n",
       "      <td>&lt;UID: 55b57428cec347638e87aeca27a91651&gt;</td>\n",
       "      <td>[model, data, __call__]</td>\n",
       "      <td></td>\n",
       "      <td>&lt;class 'torch.Tensor'&gt;</td>\n",
       "    </tr>\n",
       "    <tr>\n",
       "      <th>5</th>\n",
       "      <td>&lt;UID: 608d3745f8ec4c348652541391155c84&gt;</td>\n",
       "      <td>[]</td>\n",
       "      <td></td>\n",
       "      <td>&lt;class 'torch.Tensor'&gt;</td>\n",
       "    </tr>\n",
       "    <tr>\n",
       "      <th>6</th>\n",
       "      <td>&lt;UID: 64914e74cf81412d93f818d7e6f7004f&gt;</td>\n",
       "      <td>[y]</td>\n",
       "      <td></td>\n",
       "      <td>&lt;class 'torch.Tensor'&gt;</td>\n",
       "    </tr>\n",
       "    <tr>\n",
       "      <th>7</th>\n",
       "      <td>&lt;UID: 6dea71a863e4405ebba2bf8976d53de1&gt;</td>\n",
       "      <td>[#xor, #targets, #data_01.csv]</td>\n",
       "      <td></td>\n",
       "      <td>&lt;class 'torch.Tensor'&gt;</td>\n",
       "    </tr>\n",
       "    <tr>\n",
       "      <th>8</th>\n",
       "      <td>&lt;UID: 7214fab037fa469794f491252d9c763c&gt;</td>\n",
       "      <td>[]</td>\n",
       "      <td></td>\n",
       "      <td>&lt;class 'torch.Tensor'&gt;</td>\n",
       "    </tr>\n",
       "    <tr>\n",
       "      <th>9</th>\n",
       "      <td>&lt;UID: b64665ec54904aa39f19250318fc9957&gt;</td>\n",
       "      <td>[#xor, #inputs, #data_01.csv]</td>\n",
       "      <td></td>\n",
       "      <td>&lt;class 'torch.Tensor'&gt;</td>\n",
       "    </tr>\n",
       "    <tr>\n",
       "      <th>10</th>\n",
       "      <td>&lt;UID: bce7469f785c4d79be19a95665ec4cde&gt;</td>\n",
       "      <td>[y]</td>\n",
       "      <td></td>\n",
       "      <td>&lt;class 'torch.Tensor'&gt;</td>\n",
       "    </tr>\n",
       "    <tr>\n",
       "      <th>11</th>\n",
       "      <td>&lt;UID: cec3d1507cac451a965bf19d21bcc9cb&gt;</td>\n",
       "      <td>[y]</td>\n",
       "      <td></td>\n",
       "      <td>&lt;class 'torch.Tensor'&gt;</td>\n",
       "    </tr>\n",
       "    <tr>\n",
       "      <th>12</th>\n",
       "      <td>&lt;UID: e2f25daee2e74eea8d92b52847c05951&gt;</td>\n",
       "      <td>[]</td>\n",
       "      <td></td>\n",
       "      <td>&lt;class 'torch.nn.modules.linear.Linear'&gt;</td>\n",
       "    </tr>\n",
       "    <tr>\n",
       "      <th>13</th>\n",
       "      <td>&lt;UID: ee3fd0727b0a4f1dbdcb5019edb61e16&gt;</td>\n",
       "      <td>[#xor, #targets, #data_01.csv]</td>\n",
       "      <td></td>\n",
       "      <td>&lt;class 'torch.Tensor'&gt;</td>\n",
       "    </tr>\n",
       "  </tbody>\n",
       "</table>\n",
       "</div>"
      ],
      "text/plain": [
       "[<syft.proxy.syft.lib.python.IntPointer object at 0x144a017c0>, <syft.proxy.torch.TensorPointer object at 0x144a01e20>, <syft.proxy.torch.nn.LinearPointer object at 0x144a01ac0>, <syft.proxy.syft.lib.python.IntPointer object at 0x144a01820>, <syft.proxy.torch.TensorPointer object at 0x1438756d0>, <syft.proxy.torch.TensorPointer object at 0x1443ae130>, <syft.proxy.torch.TensorPointer object at 0x1443ae340>, <syft.proxy.torch.TensorPointer object at 0x1443ae550>, <syft.proxy.torch.TensorPointer object at 0x1443ae910>, <syft.proxy.torch.TensorPointer object at 0x1443aeb20>, <syft.proxy.torch.TensorPointer object at 0x1443aed30>, <syft.proxy.torch.TensorPointer object at 0x1443aef70>, <syft.proxy.torch.nn.LinearPointer object at 0x1443ac0d0>, <syft.proxy.torch.TensorPointer object at 0x1443ac2e0>]"
      ]
     },
     "execution_count": 22,
     "metadata": {},
     "output_type": "execute_result"
    }
   ],
   "source": [
    "domain.store"
   ]
  },
  {
   "cell_type": "code",
   "execution_count": 16,
   "metadata": {},
   "outputs": [],
   "source": [
    "# root_domain.store[\"674e24b4507e42e6b84618ac7db65e44\"].get()"
   ]
  },
  {
   "cell_type": "code",
   "execution_count": 17,
   "metadata": {},
   "outputs": [
    {
     "data": {
      "text/plain": [
       "(syft.proxy.torch.nn.LinearPointer, <UID: 33b15dbac58b4058ab31ac43e8431a54>)"
      ]
     },
     "execution_count": 17,
     "metadata": {},
     "output_type": "execute_result"
    }
   ],
   "source": [
    "type(model), model.id_at_location"
   ]
  },
  {
   "cell_type": "code",
   "execution_count": 18,
   "metadata": {},
   "outputs": [
    {
     "data": {
      "text/plain": [
       "(syft.proxy.torch.TensorPointer, <UID: 244c19aadaec46bbbd047d3b9d20719d>)"
      ]
     },
     "execution_count": 18,
     "metadata": {},
     "output_type": "execute_result"
    }
   ],
   "source": [
    "type(data), data.id_at_location"
   ]
  },
  {
   "cell_type": "code",
   "execution_count": 19,
   "metadata": {},
   "outputs": [],
   "source": [
    "pred = model(data)"
   ]
  },
  {
   "cell_type": "code",
   "execution_count": 20,
   "metadata": {},
   "outputs": [
    {
     "data": {
      "text/plain": [
       "(syft.proxy.torch.TensorPointer, <UID: 55b57428cec347638e87aeca27a91651>)"
      ]
     },
     "execution_count": 20,
     "metadata": {},
     "output_type": "execute_result"
    }
   ],
   "source": [
    "type(pred), pred.id_at_location"
   ]
  },
  {
   "cell_type": "code",
   "execution_count": 21,
   "metadata": {},
   "outputs": [
    {
     "data": {
      "text/html": [
       "<div>\n",
       "<style scoped>\n",
       "    .dataframe tbody tr th:only-of-type {\n",
       "        vertical-align: middle;\n",
       "    }\n",
       "\n",
       "    .dataframe tbody tr th {\n",
       "        vertical-align: top;\n",
       "    }\n",
       "\n",
       "    .dataframe thead th {\n",
       "        text-align: right;\n",
       "    }\n",
       "</style>\n",
       "<table border=\"1\" class=\"dataframe\">\n",
       "  <thead>\n",
       "    <tr style=\"text-align: right;\">\n",
       "      <th></th>\n",
       "      <th>ID</th>\n",
       "      <th>Tags</th>\n",
       "      <th>Description</th>\n",
       "      <th>object_type</th>\n",
       "    </tr>\n",
       "  </thead>\n",
       "  <tbody>\n",
       "    <tr>\n",
       "      <th>0</th>\n",
       "      <td>&lt;UID: 1a8c13a7f11e43ff930c531acfa7a6d5&gt;</td>\n",
       "      <td>[a]</td>\n",
       "      <td></td>\n",
       "      <td>&lt;class 'syft.lib.python.Int'&gt;</td>\n",
       "    </tr>\n",
       "    <tr>\n",
       "      <th>1</th>\n",
       "      <td>&lt;UID: 244c19aadaec46bbbd047d3b9d20719d&gt;</td>\n",
       "      <td>[data]</td>\n",
       "      <td></td>\n",
       "      <td>&lt;class 'torch.Tensor'&gt;</td>\n",
       "    </tr>\n",
       "    <tr>\n",
       "      <th>2</th>\n",
       "      <td>&lt;UID: 33b15dbac58b4058ab31ac43e8431a54&gt;</td>\n",
       "      <td>[model]</td>\n",
       "      <td></td>\n",
       "      <td>&lt;class 'torch.nn.modules.linear.Linear'&gt;</td>\n",
       "    </tr>\n",
       "    <tr>\n",
       "      <th>3</th>\n",
       "      <td>&lt;UID: 46fac3351be94a75842a54d80faf77fb&gt;</td>\n",
       "      <td>[a]</td>\n",
       "      <td></td>\n",
       "      <td>&lt;class 'syft.lib.python.Int'&gt;</td>\n",
       "    </tr>\n",
       "    <tr>\n",
       "      <th>4</th>\n",
       "      <td>&lt;UID: 55b57428cec347638e87aeca27a91651&gt;</td>\n",
       "      <td>[model, data, __call__]</td>\n",
       "      <td></td>\n",
       "      <td>&lt;class 'torch.Tensor'&gt;</td>\n",
       "    </tr>\n",
       "    <tr>\n",
       "      <th>5</th>\n",
       "      <td>&lt;UID: 608d3745f8ec4c348652541391155c84&gt;</td>\n",
       "      <td>[]</td>\n",
       "      <td></td>\n",
       "      <td>&lt;class 'torch.Tensor'&gt;</td>\n",
       "    </tr>\n",
       "    <tr>\n",
       "      <th>6</th>\n",
       "      <td>&lt;UID: 64914e74cf81412d93f818d7e6f7004f&gt;</td>\n",
       "      <td>[y]</td>\n",
       "      <td></td>\n",
       "      <td>&lt;class 'torch.Tensor'&gt;</td>\n",
       "    </tr>\n",
       "    <tr>\n",
       "      <th>7</th>\n",
       "      <td>&lt;UID: 6dea71a863e4405ebba2bf8976d53de1&gt;</td>\n",
       "      <td>[#xor, #targets, #data_01.csv]</td>\n",
       "      <td></td>\n",
       "      <td>&lt;class 'torch.Tensor'&gt;</td>\n",
       "    </tr>\n",
       "    <tr>\n",
       "      <th>8</th>\n",
       "      <td>&lt;UID: 7214fab037fa469794f491252d9c763c&gt;</td>\n",
       "      <td>[]</td>\n",
       "      <td></td>\n",
       "      <td>&lt;class 'torch.Tensor'&gt;</td>\n",
       "    </tr>\n",
       "    <tr>\n",
       "      <th>9</th>\n",
       "      <td>&lt;UID: b64665ec54904aa39f19250318fc9957&gt;</td>\n",
       "      <td>[#xor, #inputs, #data_01.csv]</td>\n",
       "      <td></td>\n",
       "      <td>&lt;class 'torch.Tensor'&gt;</td>\n",
       "    </tr>\n",
       "    <tr>\n",
       "      <th>10</th>\n",
       "      <td>&lt;UID: bce7469f785c4d79be19a95665ec4cde&gt;</td>\n",
       "      <td>[y]</td>\n",
       "      <td></td>\n",
       "      <td>&lt;class 'torch.Tensor'&gt;</td>\n",
       "    </tr>\n",
       "    <tr>\n",
       "      <th>11</th>\n",
       "      <td>&lt;UID: cec3d1507cac451a965bf19d21bcc9cb&gt;</td>\n",
       "      <td>[y]</td>\n",
       "      <td></td>\n",
       "      <td>&lt;class 'torch.Tensor'&gt;</td>\n",
       "    </tr>\n",
       "    <tr>\n",
       "      <th>12</th>\n",
       "      <td>&lt;UID: e2f25daee2e74eea8d92b52847c05951&gt;</td>\n",
       "      <td>[]</td>\n",
       "      <td></td>\n",
       "      <td>&lt;class 'torch.nn.modules.linear.Linear'&gt;</td>\n",
       "    </tr>\n",
       "    <tr>\n",
       "      <th>13</th>\n",
       "      <td>&lt;UID: ee3fd0727b0a4f1dbdcb5019edb61e16&gt;</td>\n",
       "      <td>[#xor, #targets, #data_01.csv]</td>\n",
       "      <td></td>\n",
       "      <td>&lt;class 'torch.Tensor'&gt;</td>\n",
       "    </tr>\n",
       "  </tbody>\n",
       "</table>\n",
       "</div>"
      ],
      "text/plain": [
       "[<syft.proxy.syft.lib.python.IntPointer object at 0x144a012b0>, <syft.proxy.torch.TensorPointer object at 0x144a01c70>, <syft.proxy.torch.nn.LinearPointer object at 0x144a017c0>, <syft.proxy.syft.lib.python.IntPointer object at 0x144a015e0>, <syft.proxy.torch.TensorPointer object at 0x10a2325b0>, <syft.proxy.torch.TensorPointer object at 0x1443ae280>, <syft.proxy.torch.TensorPointer object at 0x1443ae490>, <syft.proxy.torch.TensorPointer object at 0x1443ae6a0>, <syft.proxy.torch.TensorPointer object at 0x1443ae910>, <syft.proxy.torch.TensorPointer object at 0x1443aeb20>, <syft.proxy.torch.TensorPointer object at 0x1443aed30>, <syft.proxy.torch.TensorPointer object at 0x1443aef40>, <syft.proxy.torch.nn.LinearPointer object at 0x1443ac190>, <syft.proxy.torch.TensorPointer object at 0x1443ac3a0>]"
      ]
     },
     "execution_count": 21,
     "metadata": {},
     "output_type": "execute_result"
    }
   ],
   "source": [
    "domain.store"
   ]
  },
  {
   "cell_type": "code",
   "execution_count": 23,
   "metadata": {},
   "outputs": [],
   "source": [
    "pred.request(reason=\"i want to see it\")"
   ]
  },
  {
   "cell_type": "code",
   "execution_count": 24,
   "metadata": {},
   "outputs": [
    {
     "data": {
      "text/html": [
       "<div>\n",
       "<style scoped>\n",
       "    .dataframe tbody tr th:only-of-type {\n",
       "        vertical-align: middle;\n",
       "    }\n",
       "\n",
       "    .dataframe tbody tr th {\n",
       "        vertical-align: top;\n",
       "    }\n",
       "\n",
       "    .dataframe thead th {\n",
       "        text-align: right;\n",
       "    }\n",
       "</style>\n",
       "<table border=\"1\" class=\"dataframe\">\n",
       "  <thead>\n",
       "    <tr style=\"text-align: right;\">\n",
       "      <th></th>\n",
       "      <th>Requested Object's tags</th>\n",
       "      <th>Reason</th>\n",
       "      <th>Request ID</th>\n",
       "      <th>Requested Object's ID</th>\n",
       "      <th>Requested Object's type</th>\n",
       "    </tr>\n",
       "  </thead>\n",
       "  <tbody>\n",
       "    <tr>\n",
       "      <th>0</th>\n",
       "      <td>[model, data, __call__]</td>\n",
       "      <td>i want to see it</td>\n",
       "      <td>&lt;UID: 77dfd9680bf04df1ae10e83bf7f0743a&gt;</td>\n",
       "      <td>&lt;UID: f2995b62b31542749b62f0e6c568ae85&gt;</td>\n",
       "      <td></td>\n",
       "    </tr>\n",
       "    <tr>\n",
       "      <th>1</th>\n",
       "      <td>[#xor, #inputs, #data_01.csv]</td>\n",
       "      <td>asdf</td>\n",
       "      <td>&lt;UID: f323765e01e2422b974abfddefab8138&gt;</td>\n",
       "      <td>&lt;UID: 70ea239981494b84a2561cd02146c7e9&gt;</td>\n",
       "      <td>&lt;class 'torch.Tensor'&gt;</td>\n",
       "    </tr>\n",
       "    <tr>\n",
       "      <th>2</th>\n",
       "      <td>[]</td>\n",
       "      <td>i want</td>\n",
       "      <td>&lt;UID: 101af5224abf409a9c51f451f3c2ba7d&gt;</td>\n",
       "      <td>&lt;UID: effdd66fabc54da088bc2687b39da405&gt;</td>\n",
       "      <td></td>\n",
       "    </tr>\n",
       "    <tr>\n",
       "      <th>3</th>\n",
       "      <td>[model, data, __call__]</td>\n",
       "      <td>i want to see it</td>\n",
       "      <td>&lt;UID: cb65126647c346dcb1256b889dba1702&gt;</td>\n",
       "      <td>&lt;UID: 55b57428cec347638e87aeca27a91651&gt;</td>\n",
       "      <td></td>\n",
       "    </tr>\n",
       "  </tbody>\n",
       "</table>\n",
       "</div>"
      ],
      "text/plain": [
       "[<RequestMessage: 77dfd9680bf04df1ae10e83bf7f0743a>, <RequestMessage: f323765e01e2422b974abfddefab8138>, <RequestMessage: 101af5224abf409a9c51f451f3c2ba7d>, <RequestMessage: cb65126647c346dcb1256b889dba1702>]"
      ]
     },
     "execution_count": 24,
     "metadata": {},
     "output_type": "execute_result"
    }
   ],
   "source": [
    "compliance.requests"
   ]
  },
  {
   "cell_type": "code",
   "execution_count": null,
   "metadata": {},
   "outputs": [],
   "source": []
  },
  {
   "cell_type": "code",
   "execution_count": 27,
   "metadata": {},
   "outputs": [],
   "source": [
    "# data = domain.datasets[0][0]\n",
    "# target = domain.datasets[1][0]"
   ]
  },
  {
   "cell_type": "code",
   "execution_count": 28,
   "metadata": {},
   "outputs": [],
   "source": [
    "data.request(reason=\"asdf\")"
   ]
  },
  {
   "cell_type": "code",
   "execution_count": 29,
   "metadata": {},
   "outputs": [],
   "source": [
    "compliance.requests[-1].accept()"
   ]
  },
  {
   "cell_type": "code",
   "execution_count": 30,
   "metadata": {},
   "outputs": [
    {
     "name": "stderr",
     "output_type": "stream",
     "text": [
      "[2021-06-15T16:29:26.752089+1000][CRITICAL][logger]][78005] You do not have permission to .get() Object with ID: <UID: 55b57428cec347638e87aeca27a91651>Please submit a request.\n"
     ]
    },
    {
     "ename": "AuthorizationException",
     "evalue": "You do not have permission to .get() Object with ID: <UID: 55b57428cec347638e87aeca27a91651>Please submit a request.",
     "output_type": "error",
     "traceback": [
      "\u001b[0;31m-------------------------------------------------------------------------\u001b[0m",
      "\u001b[0;31mAuthorizationException\u001b[0m                  Traceback (most recent call last)",
      "\u001b[0;32m<ipython-input-30-b52ebe0ac7ff>\u001b[0m in \u001b[0;36m<module>\u001b[0;34m\u001b[0m\n\u001b[0;32m----> 1\u001b[0;31m \u001b[0mpred\u001b[0m\u001b[0;34m.\u001b[0m\u001b[0mget\u001b[0m\u001b[0;34m(\u001b[0m\u001b[0;34m)\u001b[0m\u001b[0;34m\u001b[0m\u001b[0;34m\u001b[0m\u001b[0m\n\u001b[0m",
      "\u001b[0;32m~/dev/PySyft/packages/syft/src/syft/core/pointer/pointer.py\u001b[0m in \u001b[0;36mget\u001b[0;34m(self, request_block, timeout_secs, reason, delete_obj, verbose)\u001b[0m\n\u001b[1;32m    267\u001b[0m \u001b[0;34m\u001b[0m\u001b[0m\n\u001b[1;32m    268\u001b[0m         \u001b[0;32mif\u001b[0m \u001b[0;32mnot\u001b[0m \u001b[0mrequest_block\u001b[0m\u001b[0;34m:\u001b[0m\u001b[0;34m\u001b[0m\u001b[0;34m\u001b[0m\u001b[0m\n\u001b[0;32m--> 269\u001b[0;31m             \u001b[0mresult\u001b[0m \u001b[0;34m=\u001b[0m \u001b[0mself\u001b[0m\u001b[0;34m.\u001b[0m\u001b[0m_get\u001b[0m\u001b[0;34m(\u001b[0m\u001b[0mdelete_obj\u001b[0m\u001b[0;34m=\u001b[0m\u001b[0mdelete_obj\u001b[0m\u001b[0;34m,\u001b[0m \u001b[0mverbose\u001b[0m\u001b[0;34m=\u001b[0m\u001b[0mverbose\u001b[0m\u001b[0;34m)\u001b[0m\u001b[0;34m\u001b[0m\u001b[0;34m\u001b[0m\u001b[0m\n\u001b[0m\u001b[1;32m    270\u001b[0m         \u001b[0;32melse\u001b[0m\u001b[0;34m:\u001b[0m\u001b[0;34m\u001b[0m\u001b[0;34m\u001b[0m\u001b[0m\n\u001b[1;32m    271\u001b[0m             response_status = self.request(\n",
      "\u001b[0;32m~/dev/PySyft/packages/syft/src/syft/core/pointer/pointer.py\u001b[0m in \u001b[0;36m_get\u001b[0;34m(self, delete_obj, verbose)\u001b[0m\n\u001b[1;32m    177\u001b[0m         )\n\u001b[1;32m    178\u001b[0m \u001b[0;34m\u001b[0m\u001b[0m\n\u001b[0;32m--> 179\u001b[0;31m         \u001b[0mobj\u001b[0m \u001b[0;34m=\u001b[0m \u001b[0mself\u001b[0m\u001b[0;34m.\u001b[0m\u001b[0mclient\u001b[0m\u001b[0;34m.\u001b[0m\u001b[0msend_immediate_msg_with_reply\u001b[0m\u001b[0;34m(\u001b[0m\u001b[0mmsg\u001b[0m\u001b[0;34m=\u001b[0m\u001b[0mobj_msg\u001b[0m\u001b[0;34m)\u001b[0m\u001b[0;34m.\u001b[0m\u001b[0mdata\u001b[0m\u001b[0;34m\u001b[0m\u001b[0;34m\u001b[0m\u001b[0m\n\u001b[0m\u001b[1;32m    180\u001b[0m         \u001b[0;32mif\u001b[0m \u001b[0mself\u001b[0m\u001b[0;34m.\u001b[0m\u001b[0mis_enum\u001b[0m\u001b[0;34m:\u001b[0m\u001b[0;34m\u001b[0m\u001b[0;34m\u001b[0m\u001b[0m\n\u001b[1;32m    181\u001b[0m             \u001b[0menum_class\u001b[0m \u001b[0;34m=\u001b[0m \u001b[0mself\u001b[0m\u001b[0;34m.\u001b[0m\u001b[0mclient\u001b[0m\u001b[0;34m.\u001b[0m\u001b[0mlib_ast\u001b[0m\u001b[0;34m.\u001b[0m\u001b[0mquery\u001b[0m\u001b[0;34m(\u001b[0m\u001b[0mself\u001b[0m\u001b[0;34m.\u001b[0m\u001b[0mpath_and_name\u001b[0m\u001b[0;34m)\u001b[0m\u001b[0;34m.\u001b[0m\u001b[0mobject_ref\u001b[0m\u001b[0;34m\u001b[0m\u001b[0;34m\u001b[0m\u001b[0m\n",
      "\u001b[0;32m~/dev/PySyft/packages/syft/src/syft/grid/client/client.py\u001b[0m in \u001b[0;36msend_immediate_msg_with_reply\u001b[0;34m(self, msg, route_index)\u001b[0m\n\u001b[1;32m    176\u001b[0m         \u001b[0mSignedImmediateSyftMessageWithoutReply\u001b[0m\u001b[0;34m,\u001b[0m \u001b[0mImmediateSyftMessageWithoutReply\u001b[0m\u001b[0;34m\u001b[0m\u001b[0;34m\u001b[0m\u001b[0m\n\u001b[1;32m    177\u001b[0m     ]:\n\u001b[0;32m--> 178\u001b[0;31m         return super(GridClient, self).send_immediate_msg_with_reply(  # type: ignore\n\u001b[0m\u001b[1;32m    179\u001b[0m             \u001b[0mmsg\u001b[0m\u001b[0;34m=\u001b[0m\u001b[0mmsg\u001b[0m\u001b[0;34m,\u001b[0m \u001b[0mroute_index\u001b[0m\u001b[0;34m=\u001b[0m\u001b[0mroute_index\u001b[0m\u001b[0;34m\u001b[0m\u001b[0;34m\u001b[0m\u001b[0m\n\u001b[1;32m    180\u001b[0m         )\n",
      "\u001b[0;32m~/dev/PySyft/packages/syft/src/syft/core/node/common/client.py\u001b[0m in \u001b[0;36msend_immediate_msg_with_reply\u001b[0;34m(self, msg, route_index)\u001b[0m\n\u001b[1;32m    234\u001b[0m                 \u001b[0mexception\u001b[0m \u001b[0;34m=\u001b[0m \u001b[0mexception_msg\u001b[0m\u001b[0;34m.\u001b[0m\u001b[0mexception_type\u001b[0m\u001b[0;34m(\u001b[0m\u001b[0mexception_msg\u001b[0m\u001b[0;34m.\u001b[0m\u001b[0mexception_msg\u001b[0m\u001b[0;34m)\u001b[0m\u001b[0;34m\u001b[0m\u001b[0;34m\u001b[0m\u001b[0m\n\u001b[1;32m    235\u001b[0m                 \u001b[0merror\u001b[0m\u001b[0;34m(\u001b[0m\u001b[0mstr\u001b[0m\u001b[0;34m(\u001b[0m\u001b[0mexception\u001b[0m\u001b[0;34m)\u001b[0m\u001b[0;34m)\u001b[0m\u001b[0;34m\u001b[0m\u001b[0;34m\u001b[0m\u001b[0m\n\u001b[0;32m--> 236\u001b[0;31m                 \u001b[0mtraceback_and_raise\u001b[0m\u001b[0;34m(\u001b[0m\u001b[0mexception\u001b[0m\u001b[0;34m)\u001b[0m\u001b[0;34m\u001b[0m\u001b[0;34m\u001b[0m\u001b[0m\n\u001b[0m\u001b[1;32m    237\u001b[0m             \u001b[0;32melse\u001b[0m\u001b[0;34m:\u001b[0m\u001b[0;34m\u001b[0m\u001b[0;34m\u001b[0m\u001b[0m\n\u001b[1;32m    238\u001b[0m                 \u001b[0;32mreturn\u001b[0m \u001b[0mresponse\u001b[0m\u001b[0;34m.\u001b[0m\u001b[0mmessage\u001b[0m\u001b[0;34m\u001b[0m\u001b[0;34m\u001b[0m\u001b[0m\n",
      "\u001b[0;32m~/dev/PySyft/packages/syft/src/syft/logger.py\u001b[0m in \u001b[0;36mtraceback_and_raise\u001b[0;34m(e, verbose)\u001b[0m\n\u001b[1;32m     59\u001b[0m     \u001b[0;32mif\u001b[0m \u001b[0;32mnot\u001b[0m \u001b[0missubclass\u001b[0m\u001b[0;34m(\u001b[0m\u001b[0mtype\u001b[0m\u001b[0;34m(\u001b[0m\u001b[0me\u001b[0m\u001b[0;34m)\u001b[0m\u001b[0;34m,\u001b[0m \u001b[0mException\u001b[0m\u001b[0;34m)\u001b[0m\u001b[0;34m:\u001b[0m\u001b[0;34m\u001b[0m\u001b[0;34m\u001b[0m\u001b[0m\n\u001b[1;32m     60\u001b[0m         \u001b[0me\u001b[0m \u001b[0;34m=\u001b[0m \u001b[0mException\u001b[0m\u001b[0;34m(\u001b[0m\u001b[0me\u001b[0m\u001b[0;34m)\u001b[0m\u001b[0;34m\u001b[0m\u001b[0;34m\u001b[0m\u001b[0m\n\u001b[0;32m---> 61\u001b[0;31m     \u001b[0;32mraise\u001b[0m \u001b[0me\u001b[0m\u001b[0;34m\u001b[0m\u001b[0;34m\u001b[0m\u001b[0m\n\u001b[0m\u001b[1;32m     62\u001b[0m \u001b[0;34m\u001b[0m\u001b[0m\n\u001b[1;32m     63\u001b[0m \u001b[0;34m\u001b[0m\u001b[0m\n",
      "\u001b[0;31mAuthorizationException\u001b[0m: You do not have permission to .get() Object with ID: <UID: 55b57428cec347638e87aeca27a91651>Please submit a request."
     ]
    }
   ],
   "source": [
    "# TODO: fix issue with AuthorizationException\n",
    "pred.get()"
   ]
  },
  {
   "cell_type": "code",
   "execution_count": 31,
   "metadata": {},
   "outputs": [],
   "source": [
    "_th = domain.torch\n",
    "_nn = _th.nn"
   ]
  },
  {
   "cell_type": "code",
   "execution_count": 32,
   "metadata": {},
   "outputs": [],
   "source": [
    "model = _nn.Linear(2,1)"
   ]
  },
  {
   "cell_type": "code",
   "execution_count": 33,
   "metadata": {},
   "outputs": [],
   "source": [
    "pred = model(data[0])"
   ]
  },
  {
   "cell_type": "code",
   "execution_count": 34,
   "metadata": {},
   "outputs": [],
   "source": [
    "pred.request(reason=\"I want\")"
   ]
  },
  {
   "cell_type": "code",
   "execution_count": 35,
   "metadata": {},
   "outputs": [
    {
     "name": "stdout",
     "output_type": "stream",
     "text": [
      "Can't deserialize grad with b''\n",
      "Can't deserialize grad with b''\n"
     ]
    },
    {
     "data": {
      "text/plain": [
       "tensor([0.0621], requires_grad=True)"
      ]
     },
     "execution_count": 35,
     "metadata": {},
     "output_type": "execute_result"
    }
   ],
   "source": [
    "pred.get()"
   ]
  },
  {
   "cell_type": "code",
   "execution_count": 36,
   "metadata": {},
   "outputs": [],
   "source": [
    "model.weight.data.request(reason=\"i want\")"
   ]
  },
  {
   "cell_type": "code",
   "execution_count": 37,
   "metadata": {},
   "outputs": [
    {
     "data": {
      "text/plain": [
       "tensor([[ 0.4172, -0.3451]])"
      ]
     },
     "execution_count": 37,
     "metadata": {},
     "output_type": "execute_result"
    }
   ],
   "source": [
    "model.weight.data.get()"
   ]
  },
  {
   "cell_type": "code",
   "execution_count": null,
   "metadata": {},
   "outputs": [],
   "source": []
  }
 ],
 "metadata": {
  "kernelspec": {
   "display_name": "Python 3",
   "language": "python",
   "name": "python3"
  },
  "language_info": {
   "codemirror_mode": {
    "name": "ipython",
    "version": 3
   },
   "file_extension": ".py",
   "mimetype": "text/x-python",
   "name": "python",
   "nbconvert_exporter": "python",
   "pygments_lexer": "ipython3",
   "version": "3.9.5"
  }
 },
 "nbformat": 4,
 "nbformat_minor": 4
}
