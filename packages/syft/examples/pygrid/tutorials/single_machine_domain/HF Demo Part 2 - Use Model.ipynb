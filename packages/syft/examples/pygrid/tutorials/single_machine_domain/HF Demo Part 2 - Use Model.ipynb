{
 "cells": [
  {
   "cell_type": "code",
   "execution_count": 16,
   "metadata": {},
   "outputs": [],
   "source": [
    "import syft as sy\n",
    "import transformers"
   ]
  },
  {
   "cell_type": "code",
   "execution_count": 17,
   "metadata": {},
   "outputs": [],
   "source": [
    "domain = sy.register(email=\"user@openmined.org\", password=\"pwd123\")"
   ]
  },
  {
   "cell_type": "code",
   "execution_count": 18,
   "metadata": {},
   "outputs": [
    {
     "data": {
      "text/html": [
       "<div>\n",
       "<style scoped>\n",
       "    .dataframe tbody tr th:only-of-type {\n",
       "        vertical-align: middle;\n",
       "    }\n",
       "\n",
       "    .dataframe tbody tr th {\n",
       "        vertical-align: top;\n",
       "    }\n",
       "\n",
       "    .dataframe thead th {\n",
       "        text-align: right;\n",
       "    }\n",
       "</style>\n",
       "<table border=\"1\" class=\"dataframe\">\n",
       "  <thead>\n",
       "    <tr style=\"text-align: right;\">\n",
       "      <th></th>\n",
       "      <th>ID</th>\n",
       "      <th>Tags</th>\n",
       "      <th>Description</th>\n",
       "      <th>object_type</th>\n",
       "    </tr>\n",
       "  </thead>\n",
       "  <tbody>\n",
       "    <tr>\n",
       "      <th>0</th>\n",
       "      <td>&lt;UID: 4f10644e5c26483ea934f690189878cf&gt;</td>\n",
       "      <td>[]</td>\n",
       "      <td></td>\n",
       "      <td>&lt;class 'torch.Tensor'&gt;</td>\n",
       "    </tr>\n",
       "    <tr>\n",
       "      <th>1</th>\n",
       "      <td>&lt;UID: eeeff0eb43d44a0480718568fda7c379&gt;</td>\n",
       "      <td>[#xor, #inputs, #data_01.csv]</td>\n",
       "      <td></td>\n",
       "      <td>&lt;class 'torch.Tensor'&gt;</td>\n",
       "    </tr>\n",
       "    <tr>\n",
       "      <th>2</th>\n",
       "      <td>&lt;UID: 309ae60256ce4ac3b461c3b948e3999f&gt;</td>\n",
       "      <td>[#xor, #targets, #data_01.csv]</td>\n",
       "      <td></td>\n",
       "      <td>&lt;class 'torch.Tensor'&gt;</td>\n",
       "    </tr>\n",
       "    <tr>\n",
       "      <th>3</th>\n",
       "      <td>&lt;UID: f9bf1df9ab484abaaf7e502d05deff28&gt;</td>\n",
       "      <td>[distilbert]</td>\n",
       "      <td></td>\n",
       "      <td>&lt;class 'transformers.models.distilbert.modelin...</td>\n",
       "    </tr>\n",
       "    <tr>\n",
       "      <th>4</th>\n",
       "      <td>&lt;UID: d4c407442bd440aeba920df2c878b317&gt;</td>\n",
       "      <td>[tokenizer]</td>\n",
       "      <td></td>\n",
       "      <td>&lt;class 'transformers.tokenization_utils_fast.P...</td>\n",
       "    </tr>\n",
       "    <tr>\n",
       "      <th>5</th>\n",
       "      <td>&lt;UID: 9ee2d8a8e8564c64bee4392d1ea170ca&gt;</td>\n",
       "      <td>[tokenizer]</td>\n",
       "      <td></td>\n",
       "      <td>&lt;class 'transformers.tokenization_utils_fast.P...</td>\n",
       "    </tr>\n",
       "  </tbody>\n",
       "</table>\n",
       "</div>"
      ],
      "text/plain": [
       "[<syft.proxy.torch.TensorPointer object at 0x7fe08260eac0>, <syft.proxy.torch.TensorPointer object at 0x7fe08260e370>, <syft.proxy.torch.TensorPointer object at 0x7fe08260e5e0>, <syft.proxy.transformers.models.distilbert.modeling_distilbert.DistilBertModelPointer object at 0x7fe08260eca0>, <syft.proxy.transformers.tokenization_utils_fast.PreTrainedTokenizerFastPointer object at 0x7fe08260ee50>, <syft.proxy.transformers.tokenization_utils_fast.PreTrainedTokenizerFastPointer object at 0x7fe06109f7c0>]"
      ]
     },
     "execution_count": 18,
     "metadata": {},
     "output_type": "execute_result"
    }
   ],
   "source": [
    "domain.store"
   ]
  },
  {
   "cell_type": "code",
   "execution_count": 19,
   "metadata": {},
   "outputs": [
    {
     "name": "stderr",
     "output_type": "stream",
     "text": [
      "WARNING:datasets.builder:No config specified, defaulting to: sst/default\n",
      "WARNING:datasets.builder:Reusing dataset sst (/Users/atrask/.cache/huggingface/datasets/sst/default/1.0.0/b8a7889ef01c5d3ae8c379b84cc4080f8aad3ac2bc538701cbe0ac6416fb76ff)\n"
     ]
    }
   ],
   "source": [
    "import datasets\n",
    "import torch\n",
    "train_set = datasets.load_dataset('sst', split='train')\n",
    "train_loader = torch.utils.data.DataLoader(train_set, batch_size=32, shuffle=True)\n",
    "\n",
    "num_labels = len(set(train_set['label']))\n",
    "# config.num_labels = num_labels\n",
    "\n",
    "bx = next(iter(train_loader))['sentence']\n",
    "bx_ptr = sy.lib.python.List(bx).send(domain)"
   ]
  },
  {
   "cell_type": "code",
   "execution_count": 22,
   "metadata": {},
   "outputs": [],
   "source": [
    "tokenizer_ptr = domain.store[4]"
   ]
  },
  {
   "cell_type": "code",
   "execution_count": 23,
   "metadata": {},
   "outputs": [
    {
     "name": "stdout",
     "output_type": "stream",
     "text": [
      "<syft.proxy.transformers.tokenization_utils_base.BatchEncodingPointer object at 0x7fe082622730>\n"
     ]
    }
   ],
   "source": [
    "# Tokenize on client\n",
    "bt_ptr = tokenizer_ptr(bx_ptr, padding=True, return_tensors='pt', truncation=True)\n",
    "print(bt_ptr)"
   ]
  },
  {
   "cell_type": "code",
   "execution_count": 25,
   "metadata": {},
   "outputs": [],
   "source": [
    "# Forward on client\n",
    "model_ptr.eval()\n",
    "out_ptr = model_ptr(bt_ptr['input_ids'], bt_ptr['attention_mask'], return_dict=False)\n",
    "# client_out = out_ptr.get()"
   ]
  },
  {
   "cell_type": "code",
   "execution_count": 26,
   "metadata": {},
   "outputs": [
    {
     "data": {
      "text/plain": [
       "<syft.proxy.torch.TensorPointer at 0x7fe06109f250>"
      ]
     },
     "execution_count": 26,
     "metadata": {},
     "output_type": "execute_result"
    }
   ],
   "source": [
    "out_ptr"
   ]
  },
  {
   "cell_type": "code",
   "execution_count": null,
   "metadata": {},
   "outputs": [],
   "source": []
  }
 ],
 "metadata": {
  "kernelspec": {
   "display_name": "Python 3",
   "language": "python",
   "name": "python3"
  },
  "language_info": {
   "codemirror_mode": {
    "name": "ipython",
    "version": 3
   },
   "file_extension": ".py",
   "mimetype": "text/x-python",
   "name": "python",
   "nbconvert_exporter": "python",
   "pygments_lexer": "ipython3",
   "version": "3.8.3"
  }
 },
 "nbformat": 4,
 "nbformat_minor": 4
}
