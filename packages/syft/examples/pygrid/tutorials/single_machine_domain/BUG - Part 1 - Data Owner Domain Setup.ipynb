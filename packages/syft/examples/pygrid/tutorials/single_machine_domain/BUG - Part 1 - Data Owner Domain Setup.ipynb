{
 "cells": [
  {
   "cell_type": "markdown",
   "metadata": {},
   "source": [
    "# Part 1: Data Owner Domain Setup\n",
    "\n",
    "In this notebook, you will walk through the steps to setup a single-machine Domain node, load some data into it, and create two user accounts:\n",
    "\n",
    "- *Data Compliance Officer:* someone who has the ability to respond to data-access requests\n",
    "- *Data Scientist:* someone who will find your data, run an experiment, and then create a data-access request to download their results.\n",
    "\n",
    "### Step 1: Clone PyGrid\n",
    "First begin by cloning PyGrid (https://github.com/OpenMined/PyGrid) and cd-ing into the Domain application directory.\n",
    "\n",
    "\n",
    "```bash\n",
    "git clone https://github.com/OpenMined/PyGrid.git\n",
    "cd apps/domain\n",
    "```\n",
    "\n",
    "### Step 2: Install Poetry (if you don't have it)\n",
    "\n",
    "Now we need to ensure that poetry is installed. The following command should work for you (OSX/linux/bashonwindows), but if it doesn't visit the poetry docs (https://python-poetry.org/docs/)\n",
    "\n",
    "```bash\n",
    "curl -sSL https://raw.githubusercontent.com/python-poetry/poetry/master/get-poetry.py | python -\n",
    "```\n",
    "\n",
    "### Step 3: Install Poetry Dependencies\n",
    "\n",
    "If you're following this tutorial you should still be in the \"PyGrid/apps/domain\" folder of PyGrid. From that folder, run the following command:\n",
    "\n",
    "```bash\n",
    "poetry install\n",
    "```\n",
    "\n",
    "### Step 4 (Optional): Reset Node first?\n",
    "If you've run a single-machine PyGrid domain before on this machine, you might have a \"nodedatabase.db\" file in \"PyGrid/Apps/domain/src/nodedatabase.db\". If you'd like to refresh your machine from scratch run the following (again assuming your CWD is \"PyGrid/apps/domain\".\n",
    "\n",
    "```bash\n",
    "rm src/nodedatabase.db\n",
    "```\n",
    "\n",
    "### Step 5: Launch Domain Node\n",
    "\n",
    "Now with all your dependencies installed, you're ready to launch the domain node!\n",
    "\n",
    "```bash\n",
    "./run.sh --port 5000 --start_local_db\n",
    "```\n",
    "\n",
    "### Step 6: Create Root Owner and Login\n",
    "\n",
    "The node is currently launched in \"sleep mode\" (you can see by visiting 'http://localhost:5000/'). This means that there isn't a root user yet and you need to declare one."
   ]
  },
  {
   "cell_type": "code",
   "execution_count": 1,
   "metadata": {},
   "outputs": [],
   "source": [
    "import sqlite3\n",
    "cursor = sqlite3.connect('/Users/atrask/Laboratory/openmined/PySyft/packages/grid/apps/domain/src/nodedatabase.db').cursor()\n",
    "\n",
    "def q(msg):\n",
    "    cursor.execute(msg)\n",
    "    return cursor.fetchall()\n",
    "\n",
    "def db():\n",
    "    for table in q(\"SELECT name FROM sqlite_master WHERE type='table';\"):\n",
    "        if table[0] != \"group\":\n",
    "            res = q(\"Select * from \" + str(table[0]) + \";\")\n",
    "            if len(res) > 0:\n",
    "                print()\n",
    "                print(table[0])                \n",
    "                print(res)"
   ]
  },
  {
   "cell_type": "code",
   "execution_count": 1,
   "metadata": {},
   "outputs": [],
   "source": [
    "import syft as sy\n",
    "import torch as th\n",
    "import numpy as np\n",
    "\n",
    "# UNCOMMENT THIS FOR FIRST-TIME SETUP\n",
    "# sy.login().setup(email=\"owner@myorg.com\", password=\"owerpwd\", domain_name=\"Trask's Node\")\n",
    "\n",
    "# LOGIN AS ROOT USER\n",
    "root_domain = sy.login(email=\"owner@myorg.com\", password=\"owerpwd\")"
   ]
  },
  {
   "cell_type": "code",
   "execution_count": 3,
   "metadata": {},
   "outputs": [],
   "source": [
    "# db()"
   ]
  },
  {
   "cell_type": "code",
   "execution_count": 4,
   "metadata": {},
   "outputs": [],
   "source": [
    "model = th.nn.Linear(2,1)\n",
    "model_ptr = model.send(root_domain)"
   ]
  },
  {
   "cell_type": "code",
   "execution_count": 5,
   "metadata": {},
   "outputs": [
    {
     "data": {
      "text/html": [
       "<div>\n",
       "<style scoped>\n",
       "    .dataframe tbody tr th:only-of-type {\n",
       "        vertical-align: middle;\n",
       "    }\n",
       "\n",
       "    .dataframe tbody tr th {\n",
       "        vertical-align: top;\n",
       "    }\n",
       "\n",
       "    .dataframe thead th {\n",
       "        text-align: right;\n",
       "    }\n",
       "</style>\n",
       "<table border=\"1\" class=\"dataframe\">\n",
       "  <thead>\n",
       "    <tr style=\"text-align: right;\">\n",
       "      <th></th>\n",
       "      <th>ID</th>\n",
       "      <th>Tags</th>\n",
       "      <th>Description</th>\n",
       "      <th>object_type</th>\n",
       "    </tr>\n",
       "  </thead>\n",
       "  <tbody>\n",
       "    <tr>\n",
       "      <th>0</th>\n",
       "      <td>&lt;UID: 5fe761f397c747019f7a376441761acf&gt;</td>\n",
       "      <td>[]</td>\n",
       "      <td></td>\n",
       "      <td>&lt;class 'torch.nn.modules.linear.Linear'&gt;</td>\n",
       "    </tr>\n",
       "  </tbody>\n",
       "</table>\n",
       "</div>"
      ],
      "text/plain": [
       "[<syft.proxy.torch.nn.LinearPointer object at 0x7fb981212e20>]"
      ]
     },
     "execution_count": 5,
     "metadata": {},
     "output_type": "execute_result"
    }
   ],
   "source": [
    "root_domain.store"
   ]
  },
  {
   "cell_type": "code",
   "execution_count": 6,
   "metadata": {},
   "outputs": [],
   "source": [
    "root_domain.users.create(\n",
    "    email=\"compliance@myorg.com\", password=\"pwd123\", role=\"Compliance Officer\"\n",
    ")"
   ]
  },
  {
   "cell_type": "code",
   "execution_count": 7,
   "metadata": {},
   "outputs": [
    {
     "data": {
      "text/html": [
       "<div>\n",
       "<style scoped>\n",
       "    .dataframe tbody tr th:only-of-type {\n",
       "        vertical-align: middle;\n",
       "    }\n",
       "\n",
       "    .dataframe tbody tr th {\n",
       "        vertical-align: top;\n",
       "    }\n",
       "\n",
       "    .dataframe thead th {\n",
       "        text-align: right;\n",
       "    }\n",
       "</style>\n",
       "<table border=\"1\" class=\"dataframe\">\n",
       "  <thead>\n",
       "    <tr style=\"text-align: right;\">\n",
       "      <th></th>\n",
       "    </tr>\n",
       "  </thead>\n",
       "  <tbody>\n",
       "  </tbody>\n",
       "</table>\n",
       "</div>"
      ],
      "text/plain": [
       "[]"
      ]
     },
     "execution_count": 7,
     "metadata": {},
     "output_type": "execute_result"
    }
   ],
   "source": [
    "root_domain.store"
   ]
  },
  {
   "cell_type": "code",
   "execution_count": 9,
   "metadata": {},
   "outputs": [
    {
     "name": "stdout",
     "output_type": "stream",
     "text": [
      "\n",
      "bin_object\n",
      "[('5fe761f3-97c7-4701-9f7a-376441761acf', b'\\n$syft.wrappers.torch.nn.ModuleWrapper\\x12\\x97\\x06\\n\\x06Linear\\x1a(in_features=2, out_features=1, bias=True2\\xe2\\x05\\n6\\n\\x16syft.lib.python.String\\x12\\x1c\\n\\x06weight\\x12\\x12\\n\\x10\\xc6\\xeb\\xff\\xcd\\xd48H\\x18\\x8b\\xdb\\xc0\\xf0\\xa9\\x99\\xc8\\xb6\\n4\\n\\x16syft.lib.python.String\\x12\\x1a\\n\\x04bias\\x12\\x12\\n\\x10\\xe2a\\x93\\xed\\xfa\\xf6O!\\xb4s\\xb8\\xad,C[]\\x12\\xcf\\x02\\n1syft.wrappers.torch.nn.parameter.ParameterWrapper\\x12\\x99\\x02\\n\\x94\\x02*\\x88\\x02\\xff\\xff\\xff\\xff\\xf8\\x00\\x00\\x00\\x14\\x00\\x00\\x00\\x00\\x00\\x00\\x00\\x0c\\x00\\x1a\\x00\\x06\\x00\\x05\\x00\\x08\\x00\\x0c\\x00\\x0c\\x00\\x00\\x00\\x00\\x04\\x04\\x00 \\x00\\x00\\x00\\x08\\x00\\x00\\x00\\x00\\x00\\x00\\x00\\x00\\x00\\x00\\x00\\x00\\x00\\x0e\\x00(\\x00\\x07\\x00\\x08\\x00\\x0c\\x00\\x10\\x00\\x14\\x00\\x0e\\x00\\x00\\x00\\x00\\x00\\x00\\x03\\x8c\\x00\\x00\\x004\\x00\\x00\\x00\\x18\\x00\\x00\\x00\\x00\\x00\\x00\\x00\\x00\\x00\\x00\\x00\\x08\\x00\\x00\\x00\\x00\\x00\\x00\\x00\\x00\\x00\\x00\\x00\\x02\\x00\\x00\\x00\\x08\\x00\\x00\\x00\\x00\\x00\\x00\\x00\\x04\\x00\\x00\\x00\\x00\\x00\\x00\\x00\\x00\\x00\\x00\\x00\\x02\\x00\\x00\\x000\\x00\\x00\\x00\\x0c\\x00\\x00\\x00\\x08\\x00\\x10\\x00\\x08\\x00\\x04\\x00\\x08\\x00\\x00\\x00\\x0c\\x00\\x00\\x00\\x02\\x00\\x00\\x00\\x00\\x00\\x00\\x00\\x00\\x00\\x00\\x00\\x00\\x00\\x00\\x00\\x08\\x00\\x14\\x00\\x08\\x00\\x04\\x00\\x08\\x00\\x00\\x00\\x10\\x00\\x00\\x00\\x01\\x00\\x00\\x00\\x00\\x00\\x00\\x00\\x00\\x00\\x00\\x00\\x00\\x00\\x00\\x00\\x00\\x00\\x06\\x00\\x08\\x00\\x06\\x00\\x06\\x00\\x00\\x00\\x00\\x00\\x01\\x00\\x00\\x00\\x00\\x00\\x00\\x00\\x00\\x00\\x00\\x00\\x00\\x00\\x00\\x00\\x00\\x00\\x00\\x00\\x00\\x00\\x00\\x00\\x00\\x00\\x00\\x00\\x00\\x00\\x00\\x00\\x00\\x00\\xe44\\x91\\xbe\\xb3\\xce)\\xbf2\\x07float32\\x10\\x01\\x12\\x8b\\x02\\n1syft.wrappers.torch.nn.parameter.ParameterWrapper\\x12\\xd5\\x01\\n\\xd0\\x01*\\xc4\\x01\\xff\\xff\\xff\\xff\\xb8\\x00\\x00\\x00\\x14\\x00\\x00\\x00\\x00\\x00\\x00\\x00\\x0c\\x00\\x1a\\x00\\x06\\x00\\x05\\x00\\x08\\x00\\x0c\\x00\\x0c\\x00\\x00\\x00\\x00\\x04\\x04\\x00 \\x00\\x00\\x00\\x04\\x00\\x00\\x00\\x00\\x00\\x00\\x00\\x00\\x00\\x00\\x00\\x00\\x00\\x0e\\x00(\\x00\\x07\\x00\\x08\\x00\\x0c\\x00\\x10\\x00\\x14\\x00\\x0e\\x00\\x00\\x00\\x00\\x00\\x00\\x03\\\\\\x00\\x00\\x00(\\x00\\x00\\x00\\x18\\x00\\x00\\x00\\x00\\x00\\x00\\x00\\x00\\x00\\x00\\x00\\x04\\x00\\x00\\x00\\x00\\x00\\x00\\x00\\x00\\x00\\x00\\x00\\x01\\x00\\x00\\x00\\x04\\x00\\x00\\x00\\x00\\x00\\x00\\x00\\x01\\x00\\x00\\x00\\x0c\\x00\\x00\\x00\\x08\\x00\\x14\\x00\\x08\\x00\\x04\\x00\\x08\\x00\\x00\\x00\\x10\\x00\\x00\\x00\\x01\\x00\\x00\\x00\\x00\\x00\\x00\\x00\\x00\\x00\\x00\\x00\\x00\\x00\\x00\\x00\\x00\\x00\\x06\\x00\\x08\\x00\\x06\\x00\\x06\\x00\\x00\\x00\\x00\\x00\\x01\\x00\\x00\\x00\\x00\\x00\\x00\\x00\\x00\\x00\\x00\\x00\\x00\\x00\\x00\\x00\\x00\\x00\\xb0\\x97\\xca\\xbd2\\x07float32\\x10\\x01\\x1a\\x12\\n\\x10\\xc4F\\xa0B}\\xccN3\\xb0\\x9c\\x0f\\x08\\xce\\xcb^\\x1d', 'Linear'), ('79df51ff-9afc-4244-9ca9-7a9ab3d937e2', b'\\n!syft.wrappers.torch.TensorWrapper\\x12\\xc6\\x02\\n\\xbc\\x02*\\xb0\\x02\\xff\\xff\\xff\\xff\\xf8\\x00\\x00\\x00\\x14\\x00\\x00\\x00\\x00\\x00\\x00\\x00\\x0c\\x00\\x1a\\x00\\x06\\x00\\x05\\x00\\x08\\x00\\x0c\\x00\\x0c\\x00\\x00\\x00\\x00\\x04\\x04\\x00 \\x00\\x00\\x000\\x00\\x00\\x00\\x00\\x00\\x00\\x00\\x00\\x00\\x00\\x00\\x00\\x00\\x0e\\x00(\\x00\\x07\\x00\\x08\\x00\\x0c\\x00\\x10\\x00\\x14\\x00\\x0e\\x00\\x00\\x00\\x00\\x00\\x00\\x03\\x8c\\x00\\x00\\x004\\x00\\x00\\x00\\x18\\x00\\x00\\x00\\x00\\x00\\x00\\x00\\x00\\x00\\x00\\x000\\x00\\x00\\x00\\x00\\x00\\x00\\x00\\x00\\x00\\x00\\x00\\x02\\x00\\x00\\x00\\x08\\x00\\x00\\x00\\x00\\x00\\x00\\x00\\x04\\x00\\x00\\x00\\x00\\x00\\x00\\x00\\x00\\x00\\x00\\x00\\x02\\x00\\x00\\x000\\x00\\x00\\x00\\x0c\\x00\\x00\\x00\\x08\\x00\\x10\\x00\\x08\\x00\\x04\\x00\\x08\\x00\\x00\\x00\\x0c\\x00\\x00\\x00\\x02\\x00\\x00\\x00\\x00\\x00\\x00\\x00\\x00\\x00\\x00\\x00\\x00\\x00\\x00\\x00\\x08\\x00\\x14\\x00\\x08\\x00\\x04\\x00\\x08\\x00\\x00\\x00\\x10\\x00\\x00\\x00\\x06\\x00\\x00\\x00\\x00\\x00\\x00\\x00\\x00\\x00\\x00\\x00\\x00\\x00\\x00\\x00\\x00\\x00\\x06\\x00\\x08\\x00\\x06\\x00\\x06\\x00\\x00\\x00\\x00\\x00\\x01\\x00\\x00\\x00\\x00\\x00\\x00\\x00\\x00\\x00\\x00\\x00\\x00\\x00\\x00\\x00\\x00\\x00\\x00\\x00\\x00\\x00\\x00\\x00\\x00\\x00\\x00\\x00\\x00\\x00\\x00\\x00\\x00\\x00\\x00\\x00\\x00\\x00\\x00\\x00\\x00\\x00\\x00\\x00\\x00\\x00\\x00\\x00\\x00\\x00\\x00\\x00\\x00\\x00\\x00\\x00\\x00\\x00\\x00\\x00\\x00\\x00\\x00\\x00\\x00\\x00\\x00\\x00\\x00\\x00\\x00\\x00\\x00\\x00\\x00\\x00\\x00\\x00\\x00\\x00\\x00\\x002\\x07float32\"\\x05\\n\\x03cpu', 'Tensor'), ('5fecc3d4-273b-4fac-beb9-5832581fc9a1', b'\\n!syft.wrappers.torch.TensorWrapper\\x12\\xb0\\x02\\n\\xa4\\x02*\\x98\\x02\\xff\\xff\\xff\\xff\\xf8\\x00\\x00\\x00\\x14\\x00\\x00\\x00\\x00\\x00\\x00\\x00\\x0c\\x00\\x1a\\x00\\x06\\x00\\x05\\x00\\x08\\x00\\x0c\\x00\\x0c\\x00\\x00\\x00\\x00\\x04\\x04\\x00 \\x00\\x00\\x00\\x18\\x00\\x00\\x00\\x00\\x00\\x00\\x00\\x00\\x00\\x00\\x00\\x00\\x00\\x0e\\x00(\\x00\\x07\\x00\\x08\\x00\\x0c\\x00\\x10\\x00\\x14\\x00\\x0e\\x00\\x00\\x00\\x00\\x00\\x00\\x03\\x8c\\x00\\x00\\x004\\x00\\x00\\x00\\x18\\x00\\x00\\x00\\x00\\x00\\x00\\x00\\x00\\x00\\x00\\x00\\x18\\x00\\x00\\x00\\x00\\x00\\x00\\x00\\x00\\x00\\x00\\x00\\x02\\x00\\x00\\x00\\x04\\x00\\x00\\x00\\x00\\x00\\x00\\x00\\x04\\x00\\x00\\x00\\x00\\x00\\x00\\x00\\x00\\x00\\x00\\x00\\x02\\x00\\x00\\x000\\x00\\x00\\x00\\x0c\\x00\\x00\\x00\\x08\\x00\\x10\\x00\\x08\\x00\\x04\\x00\\x08\\x00\\x00\\x00\\x0c\\x00\\x00\\x00\\x01\\x00\\x00\\x00\\x00\\x00\\x00\\x00\\x00\\x00\\x00\\x00\\x00\\x00\\x00\\x00\\x08\\x00\\x14\\x00\\x08\\x00\\x04\\x00\\x08\\x00\\x00\\x00\\x10\\x00\\x00\\x00\\x06\\x00\\x00\\x00\\x00\\x00\\x00\\x00\\x00\\x00\\x00\\x00\\x00\\x00\\x00\\x00\\x00\\x00\\x06\\x00\\x08\\x00\\x06\\x00\\x06\\x00\\x00\\x00\\x00\\x00\\x01\\x00\\x00\\x00\\x00\\x00\\x00\\x00\\x00\\x00\\x00\\x00\\x00\\x00\\x00\\x00\\x00\\x00\\x00\\x00\\x00\\x00\\x00\\x00\\x00\\x00\\x00\\x00\\x00\\x00\\x00\\x00\\x00\\x00\\xb0\\x97\\xca\\xbd\\xb0\\x97\\xca\\xbd\\xb0\\x97\\xca\\xbd\\xb0\\x97\\xca\\xbd\\xb0\\x97\\xca\\xbd\\xb0\\x97\\xca\\xbd2\\x07float32\\x10\\x01\"\\x05\\n\\x03cpu', 'Tensor')]\n",
      "\n",
      "role\n",
      "[(1, 'User', 0, 0, 0, 0, 0, 0, 0), (2, 'Compliance Officer', 1, 0, 0, 0, 0, 0, 0), (3, 'Administrator', 1, 1, 1, 1, 0, 0, 1), (4, 'Owner', 1, 1, 1, 1, 1, 1, 1)]\n",
      "\n",
      "setup\n",
      "[(1, \"Trask's Node\", '', '', '', '', '', 0, 0, 0, 0)]\n",
      "\n",
      "obj_metadata\n",
      "[(1, '5fe761f3-97c7-4701-9f7a-376441761acf', '[]', '', '{\"505805c11057f1301623d88688e4d20b62f10e3c11c3b099d7cb46d34f996888\": null}', '{}'), (2, '79df51ff-9afc-4244-9ca9-7a9ab3d937e2', '[]', '', '{\"505805c11057f1301623d88688e4d20b62f10e3c11c3b099d7cb46d34f996888\": null, \"3283011fdb81923c92fa9170acb37f441c6a3a88798976cdc66dc9e156cb2271\": null}', '{}'), (3, '5fecc3d4-273b-4fac-beb9-5832581fc9a1', '[]', '', '{\"505805c11057f1301623d88688e4d20b62f10e3c11c3b099d7cb46d34f996888\": null}', '{}')]\n",
      "\n",
      "user\n",
      "[(1, 'owner@myorg.com', '/xxbKzk2PybmycQhOZdYvdvoOw.3tvy', '$2b$12$6CUV1bVxFPTMKl5Ie.cDde', '7769226ca3a6ed1344907d7345fe1e1a8d1ac15463b88dcfd96c601967bce008', '505805c11057f1301623d88688e4d20b62f10e3c11c3b099d7cb46d34f996888', 4), (2, 'compliance@myorg.com', 'w7.mV/d2wZLltwEKbuLJg8GkUuOa4Tq', '$2b$12$QZtIeOHzmKXaq7n9fov4pe', '70b693b3b134a68ff17d7397a04cdf61073cf18063c080f0fcd472b4034c94f2', 'd953680a08f6ee81f5ee45d15229a43dd1dbc9a5b85266644454cf9fa461e328', 2), (3, 'scientist6@researchorg.edu', '7RyrUIhFKzpdg8yIS0WJXeMyglJH/0.', '$2b$12$TYIEv7sqZKmJwfvIXe4pVu', '849debe3a9bd9b6a6c7ad4b9906ab3c4949276d4ad949afe6fe7933f3c108d61', '3283011fdb81923c92fa9170acb37f441c6a3a88798976cdc66dc9e156cb2271', 1)]\n"
     ]
    }
   ],
   "source": [
    "db()"
   ]
  },
  {
   "cell_type": "code",
   "execution_count": 5,
   "metadata": {},
   "outputs": [],
   "source": [
    "# model_ptr.get()"
   ]
  },
  {
   "cell_type": "code",
   "execution_count": 6,
   "metadata": {},
   "outputs": [],
   "source": [
    "# db()"
   ]
  },
  {
   "cell_type": "code",
   "execution_count": 7,
   "metadata": {},
   "outputs": [],
   "source": [
    "# root_domain.store"
   ]
  },
  {
   "cell_type": "code",
   "execution_count": 8,
   "metadata": {},
   "outputs": [],
   "source": [
    "# root_domain.datasets"
   ]
  },
  {
   "cell_type": "code",
   "execution_count": null,
   "metadata": {},
   "outputs": [],
   "source": []
  },
  {
   "cell_type": "markdown",
   "metadata": {},
   "source": [
    "# Create and Upload a Few Datasets\n",
    "\n",
    "We can add datasets to the Domain using our root-user login. Note that unless you've done something special no other user is able to add datasets by default."
   ]
  },
  {
   "cell_type": "code",
   "execution_count": 2,
   "metadata": {},
   "outputs": [],
   "source": [
    "x = th.tensor([1,2,3,4]).send(root_domain)"
   ]
  },
  {
   "cell_type": "code",
   "execution_count": 3,
   "metadata": {},
   "outputs": [
    {
     "ename": "NameError",
     "evalue": "name 'db' is not defined",
     "output_type": "error",
     "traceback": [
      "\u001b[0;31m---------------------------------------------------------------------------\u001b[0m",
      "\u001b[0;31mNameError\u001b[0m                                 Traceback (most recent call last)",
      "\u001b[0;32m<ipython-input-3-152d4971df8d>\u001b[0m in \u001b[0;36m<module>\u001b[0;34m\u001b[0m\n\u001b[0;32m----> 1\u001b[0;31m \u001b[0mdb\u001b[0m\u001b[0;34m(\u001b[0m\u001b[0;34m)\u001b[0m\u001b[0;34m\u001b[0m\u001b[0;34m\u001b[0m\u001b[0m\n\u001b[0m",
      "\u001b[0;31mNameError\u001b[0m: name 'db' is not defined"
     ]
    }
   ],
   "source": [
    "db()"
   ]
  },
  {
   "cell_type": "code",
   "execution_count": 4,
   "metadata": {},
   "outputs": [],
   "source": [
    "xor_inputs = np.array([[0,0],\n",
    "                       [0,1],\n",
    "                       [1,0],\n",
    "                       [1,1]])\n",
    "\n",
    "xor_input_dataset = root_domain.upload_dataset(data=xor_inputs, \n",
    "                                          description=\"XOR dataset inputs\", \n",
    "                                          tags=['#xor', '#inputs'])\n",
    "\n",
    "xor_targets = np.array([[0],\n",
    "                       [1],\n",
    "                       [1],\n",
    "                       [0]])\n",
    "\n",
    "xor_target_dataset = root_domain.upload_dataset(data=xor_targets, \n",
    "                                          description=\"XOR dataset targets\", \n",
    "                                          tags=['#xor', '#targets'])"
   ]
  },
  {
   "cell_type": "code",
   "execution_count": 8,
   "metadata": {},
   "outputs": [
    {
     "data": {
      "text/html": [
       "<div>\n",
       "<style scoped>\n",
       "    .dataframe tbody tr th:only-of-type {\n",
       "        vertical-align: middle;\n",
       "    }\n",
       "\n",
       "    .dataframe tbody tr th {\n",
       "        vertical-align: top;\n",
       "    }\n",
       "\n",
       "    .dataframe thead th {\n",
       "        text-align: right;\n",
       "    }\n",
       "</style>\n",
       "<table border=\"1\" class=\"dataframe\">\n",
       "  <thead>\n",
       "    <tr style=\"text-align: right;\">\n",
       "      <th></th>\n",
       "      <th>id</th>\n",
       "      <th>manifest</th>\n",
       "      <th>description</th>\n",
       "      <th>tags</th>\n",
       "      <th>data</th>\n",
       "    </tr>\n",
       "  </thead>\n",
       "  <tbody>\n",
       "    <tr>\n",
       "      <th>0</th>\n",
       "      <td>edf24b85-8446-45e7-93f7-88d35efe6d30</td>\n",
       "      <td>XOR dataset inputs</td>\n",
       "      <td>XOR dataset inputs</td>\n",
       "      <td>[#xor, #inputs]</td>\n",
       "      <td>[{'name': 'tmp/data_01.csv', 'id': 'aea648ee-1...</td>\n",
       "    </tr>\n",
       "    <tr>\n",
       "      <th>1</th>\n",
       "      <td>7a068408-83d5-4d1e-91a8-6ab5cda82311</td>\n",
       "      <td>XOR dataset targets</td>\n",
       "      <td>XOR dataset targets</td>\n",
       "      <td>[#xor, #targets]</td>\n",
       "      <td>[{'name': 'tmp/data_01.csv', 'id': 'a9fd788f-c...</td>\n",
       "    </tr>\n",
       "  </tbody>\n",
       "</table>\n",
       "</div>"
      ],
      "text/plain": [
       "<syft.grid.client.request_api.dataset_api.DatasetRequestAPI at 0x7fd1c0889280>"
      ]
     },
     "execution_count": 8,
     "metadata": {},
     "output_type": "execute_result"
    }
   ],
   "source": [
    "root_domain.datasets"
   ]
  },
  {
   "cell_type": "markdown",
   "metadata": {},
   "source": [
    "# Create a Data Compliance Officer\n",
    "\n",
    "Eventually a Data Scientist is going to need some management, particularly when they want to download their statistical results. While this doesn't always need manual review, sometimes it does and it's important we create a user who is capable of reviewing and approving data access requests."
   ]
  },
  {
   "cell_type": "code",
   "execution_count": 9,
   "metadata": {},
   "outputs": [
    {
     "data": {
      "text/html": [
       "<div>\n",
       "<style scoped>\n",
       "    .dataframe tbody tr th:only-of-type {\n",
       "        vertical-align: middle;\n",
       "    }\n",
       "\n",
       "    .dataframe tbody tr th {\n",
       "        vertical-align: top;\n",
       "    }\n",
       "\n",
       "    .dataframe thead th {\n",
       "        text-align: right;\n",
       "    }\n",
       "</style>\n",
       "<table border=\"1\" class=\"dataframe\">\n",
       "  <thead>\n",
       "    <tr style=\"text-align: right;\">\n",
       "      <th></th>\n",
       "      <th>id</th>\n",
       "      <th>name</th>\n",
       "      <th>can_triage_requests</th>\n",
       "      <th>can_edit_settings</th>\n",
       "      <th>can_create_users</th>\n",
       "      <th>can_create_groups</th>\n",
       "      <th>can_edit_roles</th>\n",
       "      <th>can_manage_infrastructure</th>\n",
       "      <th>can_upload_data</th>\n",
       "    </tr>\n",
       "  </thead>\n",
       "  <tbody>\n",
       "    <tr>\n",
       "      <th>0</th>\n",
       "      <td>1</td>\n",
       "      <td>User</td>\n",
       "      <td>False</td>\n",
       "      <td>False</td>\n",
       "      <td>False</td>\n",
       "      <td>False</td>\n",
       "      <td>False</td>\n",
       "      <td>False</td>\n",
       "      <td>False</td>\n",
       "    </tr>\n",
       "    <tr>\n",
       "      <th>1</th>\n",
       "      <td>2</td>\n",
       "      <td>Compliance Officer</td>\n",
       "      <td>True</td>\n",
       "      <td>False</td>\n",
       "      <td>False</td>\n",
       "      <td>False</td>\n",
       "      <td>False</td>\n",
       "      <td>False</td>\n",
       "      <td>False</td>\n",
       "    </tr>\n",
       "    <tr>\n",
       "      <th>2</th>\n",
       "      <td>3</td>\n",
       "      <td>Administrator</td>\n",
       "      <td>True</td>\n",
       "      <td>True</td>\n",
       "      <td>True</td>\n",
       "      <td>True</td>\n",
       "      <td>False</td>\n",
       "      <td>False</td>\n",
       "      <td>True</td>\n",
       "    </tr>\n",
       "    <tr>\n",
       "      <th>3</th>\n",
       "      <td>4</td>\n",
       "      <td>Owner</td>\n",
       "      <td>True</td>\n",
       "      <td>True</td>\n",
       "      <td>True</td>\n",
       "      <td>True</td>\n",
       "      <td>True</td>\n",
       "      <td>True</td>\n",
       "      <td>True</td>\n",
       "    </tr>\n",
       "  </tbody>\n",
       "</table>\n",
       "</div>"
      ],
      "text/plain": [
       "<syft.grid.client.request_api.role_api.RoleRequestAPI at 0x7fd1c08891f0>"
      ]
     },
     "execution_count": 9,
     "metadata": {},
     "output_type": "execute_result"
    }
   ],
   "source": [
    "root_domain.roles"
   ]
  },
  {
   "cell_type": "code",
   "execution_count": 21,
   "metadata": {},
   "outputs": [],
   "source": [
    "root_domain.users.create(\n",
    "    email=\"compliance@myorg.com\", password=\"pwd123\", role=\"Compliance Officer\"\n",
    ")"
   ]
  },
  {
   "cell_type": "code",
   "execution_count": 16,
   "metadata": {},
   "outputs": [
    {
     "data": {
      "text/html": [
       "<div>\n",
       "<style scoped>\n",
       "    .dataframe tbody tr th:only-of-type {\n",
       "        vertical-align: middle;\n",
       "    }\n",
       "\n",
       "    .dataframe tbody tr th {\n",
       "        vertical-align: top;\n",
       "    }\n",
       "\n",
       "    .dataframe thead th {\n",
       "        text-align: right;\n",
       "    }\n",
       "</style>\n",
       "<table border=\"1\" class=\"dataframe\">\n",
       "  <thead>\n",
       "    <tr style=\"text-align: right;\">\n",
       "      <th></th>\n",
       "      <th>id</th>\n",
       "      <th>email</th>\n",
       "      <th>private_key</th>\n",
       "      <th>verify_key</th>\n",
       "      <th>role</th>\n",
       "      <th>groups</th>\n",
       "    </tr>\n",
       "  </thead>\n",
       "  <tbody>\n",
       "    <tr>\n",
       "      <th>0</th>\n",
       "      <td>1</td>\n",
       "      <td>owner@myorg.com</td>\n",
       "      <td>ae8799746d945cf1dce1f819c74cd35902465f7c303ed6...</td>\n",
       "      <td>7369f4951a6f30143ded8fbeb3bb94968237170a2652b6...</td>\n",
       "      <td>4</td>\n",
       "      <td>[]</td>\n",
       "    </tr>\n",
       "    <tr>\n",
       "      <th>1</th>\n",
       "      <td>2</td>\n",
       "      <td>compliance@myorg.com</td>\n",
       "      <td>489c1ad1948172f54ffa10f72aa962b3c9ff4bf195d182...</td>\n",
       "      <td>65ec383b86a4b28b77ca5499a98456a39e0a5281470400...</td>\n",
       "      <td>2</td>\n",
       "      <td>[]</td>\n",
       "    </tr>\n",
       "  </tbody>\n",
       "</table>\n",
       "</div>"
      ],
      "text/plain": [
       "<syft.grid.client.request_api.user_api.UserRequestAPI at 0x7ff17a18f520>"
      ]
     },
     "execution_count": 16,
     "metadata": {},
     "output_type": "execute_result"
    }
   ],
   "source": [
    "root_domain.users"
   ]
  },
  {
   "cell_type": "markdown",
   "metadata": {},
   "source": [
    "# Done with Part 1!\n",
    "\n",
    "You may now proceed to Part 2!"
   ]
  },
  {
   "cell_type": "code",
   "execution_count": null,
   "metadata": {},
   "outputs": [],
   "source": []
  },
  {
   "cell_type": "code",
   "execution_count": null,
   "metadata": {},
   "outputs": [],
   "source": []
  }
 ],
 "metadata": {
  "kernelspec": {
   "display_name": "Python 3",
   "language": "python",
   "name": "python3"
  },
  "language_info": {
   "codemirror_mode": {
    "name": "ipython",
    "version": 3
   },
   "file_extension": ".py",
   "mimetype": "text/x-python",
   "name": "python",
   "nbconvert_exporter": "python",
   "pygments_lexer": "ipython3",
   "version": "3.8.3"
  }
 },
 "nbformat": 4,
 "nbformat_minor": 4
}
