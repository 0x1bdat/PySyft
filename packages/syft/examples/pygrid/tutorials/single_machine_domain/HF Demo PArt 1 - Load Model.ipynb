{
 "cells": [
  {
   "cell_type": "code",
   "execution_count": 3,
   "metadata": {},
   "outputs": [
    {
     "name": "stderr",
     "output_type": "stream",
     "text": [
      "WARNING:root:This node probably already has an owner. Trying to log in instead.\n",
      "[2021-06-15T22:17:48.939776+0100][CRITICAL][logger]][62411] UnknownPrivateException has been triggered.\n",
      "WARNING:root:An exception occurred during registration (does this user already exist?) - trying to login instead.\n"
     ]
    }
   ],
   "source": [
    "import syft as sy\n",
    "import torch as th\n",
    "import numpy as np\n",
    "\n",
    "root_domain = sy.register_root(email=\"owner@myorg.com\", password=\"owerpwd\", domain_name=\"Trask's Node\")\n",
    "\n",
    "\n",
    "\n",
    "# create a compliance officer user\n",
    "compliance = root_domain.register_compliance(\n",
    "                                email=\"compliance@myorg.com\", \n",
    "                                password=\"pwd123\")\n",
    "\n"
   ]
  },
  {
   "cell_type": "code",
   "execution_count": 2,
   "metadata": {},
   "outputs": [
    {
     "name": "stderr",
     "output_type": "stream",
     "text": [
      "Some weights of the model checkpoint at distilbert-base-uncased were not used when initializing DistilBertModel: ['vocab_projector.bias', 'vocab_transform.bias', 'vocab_layer_norm.bias', 'vocab_transform.weight', 'vocab_projector.weight', 'vocab_layer_norm.weight']\n",
      "- This IS expected if you are initializing DistilBertModel from the checkpoint of a model trained on another task or with another architecture (e.g. initializing a BertForSequenceClassification model from a BertForPreTraining model).\n",
      "- This IS NOT expected if you are initializing DistilBertModel from the checkpoint of a model that you expect to be exactly identical (initializing a BertForSequenceClassification model from a BertForSequenceClassification model).\n"
     ]
    }
   ],
   "source": [
    "import transformers\n",
    "\n",
    "# Load model\n",
    "model = transformers.AutoModel.from_pretrained(\"distilbert-base-uncased\")\n",
    "tokenizer = transformers.AutoTokenizer.from_pretrained(\"distilbert-base-uncased\")\n",
    "config = model.config\n",
    "\n",
    "# Turn off dropout\n",
    "model = model.eval()"
   ]
  },
  {
   "cell_type": "code",
   "execution_count": 5,
   "metadata": {},
   "outputs": [],
   "source": [
    "model_ptr = model.tag('distilbert').send(root_domain)"
   ]
  },
  {
   "cell_type": "code",
   "execution_count": 10,
   "metadata": {},
   "outputs": [],
   "source": [
    "tokenizer_ptr = tokenizer.tag('tokenizer').send(root_domain)"
   ]
  },
  {
   "cell_type": "code",
   "execution_count": 11,
   "metadata": {},
   "outputs": [
    {
     "data": {
      "text/html": [
       "<div>\n",
       "<style scoped>\n",
       "    .dataframe tbody tr th:only-of-type {\n",
       "        vertical-align: middle;\n",
       "    }\n",
       "\n",
       "    .dataframe tbody tr th {\n",
       "        vertical-align: top;\n",
       "    }\n",
       "\n",
       "    .dataframe thead th {\n",
       "        text-align: right;\n",
       "    }\n",
       "</style>\n",
       "<table border=\"1\" class=\"dataframe\">\n",
       "  <thead>\n",
       "    <tr style=\"text-align: right;\">\n",
       "      <th></th>\n",
       "      <th>ID</th>\n",
       "      <th>Tags</th>\n",
       "      <th>Description</th>\n",
       "      <th>object_type</th>\n",
       "    </tr>\n",
       "  </thead>\n",
       "  <tbody>\n",
       "    <tr>\n",
       "      <th>0</th>\n",
       "      <td>&lt;UID: 4f10644e5c26483ea934f690189878cf&gt;</td>\n",
       "      <td>[]</td>\n",
       "      <td></td>\n",
       "      <td>&lt;class 'torch.Tensor'&gt;</td>\n",
       "    </tr>\n",
       "    <tr>\n",
       "      <th>1</th>\n",
       "      <td>&lt;UID: eeeff0eb43d44a0480718568fda7c379&gt;</td>\n",
       "      <td>[#xor, #inputs, #data_01.csv]</td>\n",
       "      <td></td>\n",
       "      <td>&lt;class 'torch.Tensor'&gt;</td>\n",
       "    </tr>\n",
       "    <tr>\n",
       "      <th>2</th>\n",
       "      <td>&lt;UID: 309ae60256ce4ac3b461c3b948e3999f&gt;</td>\n",
       "      <td>[#xor, #targets, #data_01.csv]</td>\n",
       "      <td></td>\n",
       "      <td>&lt;class 'torch.Tensor'&gt;</td>\n",
       "    </tr>\n",
       "    <tr>\n",
       "      <th>3</th>\n",
       "      <td>&lt;UID: f9bf1df9ab484abaaf7e502d05deff28&gt;</td>\n",
       "      <td>[distilbert]</td>\n",
       "      <td></td>\n",
       "      <td>&lt;class 'transformers.models.distilbert.modelin...</td>\n",
       "    </tr>\n",
       "    <tr>\n",
       "      <th>4</th>\n",
       "      <td>&lt;UID: d4c407442bd440aeba920df2c878b317&gt;</td>\n",
       "      <td>[tokenizer]</td>\n",
       "      <td></td>\n",
       "      <td>&lt;class 'transformers.tokenization_utils_fast.P...</td>\n",
       "    </tr>\n",
       "    <tr>\n",
       "      <th>5</th>\n",
       "      <td>&lt;UID: 9ee2d8a8e8564c64bee4392d1ea170ca&gt;</td>\n",
       "      <td>[tokenizer]</td>\n",
       "      <td></td>\n",
       "      <td>&lt;class 'transformers.tokenization_utils_fast.P...</td>\n",
       "    </tr>\n",
       "  </tbody>\n",
       "</table>\n",
       "</div>"
      ],
      "text/plain": [
       "[<syft.proxy.torch.TensorPointer object at 0x7fcff4ebc490>, <syft.proxy.torch.TensorPointer object at 0x7fcff4ebc5e0>, <syft.proxy.torch.TensorPointer object at 0x7fcff4ebc880>, <syft.proxy.transformers.models.distilbert.modeling_distilbert.DistilBertModelPointer object at 0x7fcff4ebca30>, <syft.proxy.transformers.tokenization_utils_fast.PreTrainedTokenizerFastPointer object at 0x7fcff4ebcc40>, <syft.proxy.transformers.tokenization_utils_fast.PreTrainedTokenizerFastPointer object at 0x7fcff4ebce50>]"
      ]
     },
     "execution_count": 11,
     "metadata": {},
     "output_type": "execute_result"
    }
   ],
   "source": [
    "root_domain.store"
   ]
  },
  {
   "cell_type": "code",
   "execution_count": null,
   "metadata": {},
   "outputs": [],
   "source": []
  }
 ],
 "metadata": {
  "kernelspec": {
   "display_name": "Python 3",
   "language": "python",
   "name": "python3"
  },
  "language_info": {
   "codemirror_mode": {
    "name": "ipython",
    "version": 3
   },
   "file_extension": ".py",
   "mimetype": "text/x-python",
   "name": "python",
   "nbconvert_exporter": "python",
   "pygments_lexer": "ipython3",
   "version": "3.8.3"
  }
 },
 "nbformat": 4,
 "nbformat_minor": 4
}
