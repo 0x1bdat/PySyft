{
 "cells": [
  {
   "cell_type": "code",
   "execution_count": 30,
   "metadata": {},
   "outputs": [],
   "source": [
    "# model_to_save = model.module if hasattr(model, 'module') else model\n",
    "\n",
    "# torch.save(model_to_save.state_dict(), output_model_file)\n",
    "# model_to_save.config.to_json_file(output_config_file)\n",
    "# tokenizer.save_vocabulary(output_vocab_file)"
   ]
  },
  {
   "cell_type": "code",
   "execution_count": null,
   "metadata": {},
   "outputs": [],
   "source": [
    "!pip install transformers"
   ]
  },
  {
   "cell_type": "code",
   "execution_count": 1,
   "metadata": {},
   "outputs": [],
   "source": [
    "import syft as sy"
   ]
  },
  {
   "cell_type": "code",
   "execution_count": 21,
   "metadata": {},
   "outputs": [],
   "source": [
    "from transformers import pipeline, set_seed\n",
    "generator = pipeline('text-generation', model='gpt-2')"
   ]
  },
  {
   "cell_type": "code",
   "execution_count": null,
   "metadata": {},
   "outputs": [],
   "source": [
    "# https://huggingface.co/transformers/v1.2.0/serialization.html"
   ]
  },
  {
   "cell_type": "code",
   "execution_count": 15,
   "metadata": {},
   "outputs": [],
   "source": [
    "sd = generator.model.base_model.state_dict()"
   ]
  },
  {
   "cell_type": "code",
   "execution_count": 18,
   "metadata": {},
   "outputs": [],
   "source": [
    "# 1) data owner can call .send()"
   ]
  },
  {
   "cell_type": "code",
   "execution_count": null,
   "metadata": {},
   "outputs": [],
   "source": [
    "blob = sy.serialize(generator.model.base_model.wte, to_bytes=True)"
   ]
  },
  {
   "cell_type": "code",
   "execution_count": 17,
   "metadata": {},
   "outputs": [],
   "source": [
    "state_dict = generator.model.state_dict()\n",
    "sd3 = Dict(state_dict)\n",
    "state_dict_blob = sy.serialize(sd3, to_bytes=True)"
   ]
  },
  {
   "cell_type": "code",
   "execution_count": 27,
   "metadata": {},
   "outputs": [],
   "source": [
    "from syft.lib.transformers.models import distilbert"
   ]
  },
  {
   "cell_type": "code",
   "execution_count": 25,
   "metadata": {},
   "outputs": [],
   "source": [
    "import transformers"
   ]
  },
  {
   "cell_type": "code",
   "execution_count": 26,
   "metadata": {},
   "outputs": [
    {
     "name": "stderr",
     "output_type": "stream",
     "text": [
      "Exception in callback BaseAsyncIOLoop._handle_events(15, 1)\n",
      "handle: <Handle BaseAsyncIOLoop._handle_events(15, 1)>\n",
      "Traceback (most recent call last):\n",
      "  File \"/Users/atrask/opt/anaconda3/lib/python3.8/asyncio/events.py\", line 81, in _run\n",
      "    self._context.run(self._callback, *self._args)\n",
      "RuntimeError: cannot enter context: <Context object at 0x7f8a202c5440> is already entered\n"
     ]
    },
    {
     "ename": "NameError",
     "evalue": "name 'distilbert' is not defined",
     "output_type": "error",
     "traceback": [
      "\u001b[0;31m---------------------------------------------------------------------------\u001b[0m",
      "\u001b[0;31mNameError\u001b[0m                                 Traceback (most recent call last)",
      "\u001b[0;32m<ipython-input-26-74864be338f2>\u001b[0m in \u001b[0;36m<module>\u001b[0;34m\u001b[0m\n\u001b[0;32m----> 1\u001b[0;31m \u001b[0mmodel\u001b[0m \u001b[0;34m=\u001b[0m \u001b[0mdistilbert\u001b[0m\u001b[0;34m.\u001b[0m\u001b[0mSyDistilBert\u001b[0m\u001b[0;34m(\u001b[0m\u001b[0mconfig\u001b[0m\u001b[0;34m,\u001b[0m \u001b[0minputs\u001b[0m\u001b[0;34m=\u001b[0m\u001b[0minputs\u001b[0m\u001b[0;34m)\u001b[0m\u001b[0;34m\u001b[0m\u001b[0;34m\u001b[0m\u001b[0m\n\u001b[0m",
      "\u001b[0;31mNameError\u001b[0m: name 'distilbert' is not defined"
     ]
    }
   ],
   "source": [
    "model = distilbert.SyDistilBert(config, inputs=inputs)"
   ]
  },
  {
   "cell_type": "code",
   "execution_count": 29,
   "metadata": {},
   "outputs": [],
   "source": []
  },
  {
   "cell_type": "code",
   "execution_count": null,
   "metadata": {},
   "outputs": [],
   "source": []
  },
  {
   "cell_type": "code",
   "execution_count": 6,
   "metadata": {},
   "outputs": [
    {
     "name": "stderr",
     "output_type": "stream",
     "text": [
      "Setting `pad_token_id` to `eos_token_id`:50256 for open-end generation.\n"
     ]
    },
    {
     "data": {
      "text/plain": [
       "[{'generated_text': 'Hello, I like to play cricket, I love to play cricket\". You hear that one about India and then it gets translated, \"I love to play cricket\". And now it gets translated from \"I\\'m sorry but it\\'s a bit boring\". Is that right? There was a piece of history'},\n",
       " {'generated_text': 'Hello, I like to play cricket, I like to drink cricket.\"\\n\\nThere could be a big difference in their view – and there is one such difference that is difficult to explain.\\n\\nHe was speaking in his native state of New Zealand, where he\\'s played for his local club,'},\n",
       " {'generated_text': 'Hello, I like to play cricket, in fact, I have always believed that cricket would never have started in India, in fact I never really believed that because I was born in Pakistan, in fact I never believed that it would start in India even though I love me here. I love Pakistan so'},\n",
       " {'generated_text': 'Hello, I like to play cricket, I love to play cricket, I enjoy playing cricket,\" he said.\\n\\nHis father and his former cricket coach, who will be a consultant, have been in the state for a season, but he didn\\'t get his chance to play cricket till the end'},\n",
       " {'generated_text': 'Hello, I like to play cricket, and I haven\\'t got the money to play my games. But I\\'m very lucky to be playing here in Sri Lanka. I have a team - the cricket team - and I want to play for the national team if possible.\\n\\n\"I wanted to'},\n",
       " {'generated_text': \"Hello, I like to play cricket, but now that I have grown enough to be active in the world of cricket, we need to give ourselves an opportunity to grow in that respect.\\n\\nAs we continue this journey, we're going to have to ask the next big question: what is cricket\"},\n",
       " {'generated_text': 'Hello, I like to play cricket, you\\'ll probably have seen it on TV.\"\\n\\nBut that\\'s not how it\\'s done in America.\\n\\nNot only is there no way on earth to track down all the kids that would be at risk if hit during any sort of cricket match with'}]"
      ]
     },
     "execution_count": 6,
     "metadata": {},
     "output_type": "execute_result"
    }
   ],
   "source": [
    "generator(\"Hello, I like to play cricket,\", max_length=60, num_return_sequences=7)"
   ]
  },
  {
   "cell_type": "code",
   "execution_count": null,
   "metadata": {},
   "outputs": [],
   "source": []
  }
 ],
 "metadata": {
  "kernelspec": {
   "display_name": "Python 3",
   "language": "python",
   "name": "python3"
  },
  "language_info": {
   "codemirror_mode": {
    "name": "ipython",
    "version": 3
   },
   "file_extension": ".py",
   "mimetype": "text/x-python",
   "name": "python",
   "nbconvert_exporter": "python",
   "pygments_lexer": "ipython3",
   "version": "3.8.3"
  }
 },
 "nbformat": 4,
 "nbformat_minor": 4
}
