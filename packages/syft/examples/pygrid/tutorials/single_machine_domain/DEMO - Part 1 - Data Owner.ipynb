{
 "cells": [
  {
   "cell_type": "code",
   "execution_count": 1,
   "metadata": {},
   "outputs": [],
   "source": [
    "import syft as sy\n",
    "import torch as th\n",
    "import numpy as np\n",
    "\n",
    "# UNCOMMENT THIS FOR FIRST-TIME SETUP\n",
    "sy.login().setup(email=\"owner@myorg.com\", password=\"owerpwd\", domain_name=\"Trask's Node\")\n",
    "\n",
    "# LOGIN AS ROOT USER\n",
    "root_domain = sy.login(email=\"owner@myorg.com\", password=\"owerpwd\")\n",
    "\n",
    "# create data compliance officer\n",
    "root_domain.users.create(\n",
    "    email=\"compliance@myorg.com\", password=\"pwd123\", role=\"Compliance Officer\"\n",
    ")"
   ]
  },
  {
   "cell_type": "code",
   "execution_count": null,
   "metadata": {},
   "outputs": [],
   "source": []
  },
  {
   "cell_type": "code",
   "execution_count": null,
   "metadata": {},
   "outputs": [],
   "source": []
  },
  {
   "cell_type": "code",
   "execution_count": null,
   "metadata": {},
   "outputs": [],
   "source": []
  },
  {
   "cell_type": "code",
   "execution_count": null,
   "metadata": {},
   "outputs": [],
   "source": [
    "# Upload Model"
   ]
  },
  {
   "cell_type": "code",
   "execution_count": 26,
   "metadata": {},
   "outputs": [],
   "source": [
    "from transformers import pipeline, set_seed\n",
    "generator = pipeline('text-generation', model='gpt2')\n",
    "# generator = pipeline('text-generation', model='<another one>')\n",
    "\n",
    "# generator(\"Hello, I like to play cricket,\", max_length=60, num_return_sequences=7)"
   ]
  },
  {
   "cell_type": "code",
   "execution_count": 51,
   "metadata": {},
   "outputs": [],
   "source": [
    "# BEGIN REFERENCE\" CODE\n",
    "import syft as sy\n",
    "from syft.lib.python.dict import Dict\n",
    "sd = generator.model.state_dict()\n",
    "blob_params = sy.serialize(Dict(sd), to_bytes=True)\n",
    "blob_config = sy.serialize(Dict(generator.model.config.to_dict()), to_bytes=True)\n",
    "blob_vocab = sy.serialize(Dict(generator.tokenizer.vocab), to_bytes=True)"
   ]
  },
  {
   "cell_type": "code",
   "execution_count": null,
   "metadata": {},
   "outputs": [],
   "source": []
  },
  {
   "cell_type": "code",
   "execution_count": 20,
   "metadata": {},
   "outputs": [],
   "source": [
    "model = generator.model"
   ]
  },
  {
   "cell_type": "code",
   "execution_count": 23,
   "metadata": {},
   "outputs": [
    {
     "data": {
      "text/plain": [
       "['XLNetLMHeadModel',\n",
       " 'TransfoXLLMHeadModel',\n",
       " 'ReformerModelWithLMHead',\n",
       " 'GPT2LMHeadModel',\n",
       " 'GPTNeoForCausalLM',\n",
       " 'OpenAIGPTLMHeadModel',\n",
       " 'CTRLLMHeadModel',\n",
       " 'TFXLNetLMHeadModel',\n",
       " 'TFTransfoXLLMHeadModel',\n",
       " 'TFGPT2LMHeadModel',\n",
       " 'TFOpenAIGPTLMHeadModel',\n",
       " 'TFCTRLLMHeadModel']"
      ]
     },
     "execution_count": 23,
     "metadata": {},
     "output_type": "execute_result"
    }
   ],
   "source": [
    "generator.ALLOWED_MODELS"
   ]
  },
  {
   "cell_type": "code",
   "execution_count": 14,
   "metadata": {},
   "outputs": [],
   "source": [
    "import torch as th"
   ]
  },
  {
   "cell_type": "code",
   "execution_count": 17,
   "metadata": {},
   "outputs": [],
   "source": [
    "pred = model(th.zeros(1).long())"
   ]
  },
  {
   "cell_type": "code",
   "execution_count": 19,
   "metadata": {},
   "outputs": [],
   "source": [
    "# serialize using: https://huggingface.co/transformers/v1.2.0/serialization.html\n",
    "model_ptr = model.send(root_domain, tags=[\"GPT2\"])"
   ]
  },
  {
   "cell_type": "code",
   "execution_count": 7,
   "metadata": {},
   "outputs": [],
   "source": [
    "# should print the list with the model in it\n",
    "root_domain.store"
   ]
  },
  {
   "cell_type": "markdown",
   "metadata": {},
   "source": [
    "# PART 2: Data Scientist"
   ]
  },
  {
   "cell_type": "code",
   "execution_count": 8,
   "metadata": {},
   "outputs": [],
   "source": [
    "# run this cell first/instead if you havne't created an account yet\n",
    "# comment it out if the account already exists. Note that this logs you\n",
    "# in automatically as well (returning a domain node)\n",
    "domain = sy.register(email=\"scientist6@researchorg.edu\", password=\"pwd123\")\n",
    "\n",
    "# login as a data scientist if you didn't just register\n",
    "domain = sy.login(email=\"scientist6@researchorg.edu\", password=\"pwd123\")\n",
    "\n",
    "compliance = sy.login(email=\"compliance@myorg.com\", password=\"pwd123\")"
   ]
  },
  {
   "cell_type": "code",
   "execution_count": null,
   "metadata": {},
   "outputs": [],
   "source": [
    "# should show the model\n",
    "domain.store"
   ]
  },
  {
   "cell_type": "code",
   "execution_count": null,
   "metadata": {},
   "outputs": [],
   "source": [
    "# should get pointer to model\n",
    "model = domain.store[0]"
   ]
  },
  {
   "cell_type": "code",
   "execution_count": null,
   "metadata": {},
   "outputs": [],
   "source": [
    "data = th.zeros(1).long().send(domain)"
   ]
  },
  {
   "cell_type": "code",
   "execution_count": 9,
   "metadata": {},
   "outputs": [],
   "source": [
    "# STRETCH GOAL: initialize a remote Huggingface \"generator\" object \n",
    "# and pass in some text... a remote version of\n",
    "# generator(\"Hello, I like to play cricket,\", max_length=60, num_return_sequences=7)\n",
    "\n",
    "pred = model(data)"
   ]
  },
  {
   "cell_type": "code",
   "execution_count": 10,
   "metadata": {},
   "outputs": [],
   "source": [
    "pred.request(reason=\"i want to see it\")"
   ]
  },
  {
   "cell_type": "code",
   "execution_count": null,
   "metadata": {},
   "outputs": [],
   "source": [
    "pred.get()"
   ]
  }
 ],
 "metadata": {
  "kernelspec": {
   "display_name": "Python 3",
   "language": "python",
   "name": "python3"
  },
  "language_info": {
   "codemirror_mode": {
    "name": "ipython",
    "version": 3
   },
   "file_extension": ".py",
   "mimetype": "text/x-python",
   "name": "python",
   "nbconvert_exporter": "python",
   "pygments_lexer": "ipython3",
   "version": "3.8.3"
  }
 },
 "nbformat": 4,
 "nbformat_minor": 4
}
