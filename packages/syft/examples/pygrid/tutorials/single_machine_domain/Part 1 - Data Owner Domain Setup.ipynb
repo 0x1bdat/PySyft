{
 "cells": [
  {
   "cell_type": "markdown",
   "metadata": {},
   "source": [
    "# Part 1: Data Owner Domain Setup\n",
    "\n",
    "In this notebook, you will walk through the steps to setup a single-machine Domain node, load some data into it, and create two user accounts:\n",
    "\n",
    "- *Data Compliance Officer:* someone who has the ability to respond to data-access requests\n",
    "- *Data Scientist:* someone who will find your data, run an experiment, and then create a data-access request to download their results.\n",
    "\n",
    "### Step 1: Clone PyGrid\n",
    "First begin by cloning PyGrid (https://github.com/OpenMined/PyGrid) and cd-ing into the Domain application directory.\n",
    "\n",
    "\n",
    "```bash\n",
    "git clone https://github.com/OpenMined/PyGrid.git\n",
    "cd apps/domain\n",
    "```\n",
    "\n",
    "### Step 2: Install Poetry (if you don't have it)\n",
    "\n",
    "Now we need to ensure that poetry is installed. The following command should work for you (OSX/linux/bashonwindows), but if it doesn't visit the poetry docs (https://python-poetry.org/docs/)\n",
    "\n",
    "```bash\n",
    "curl -sSL https://raw.githubusercontent.com/python-poetry/poetry/master/get-poetry.py | python -\n",
    "```\n",
    "\n",
    "### Step 3: Install Poetry Dependencies\n",
    "\n",
    "If you're following this tutorial you should still be in the \"PyGrid/apps/domain\" folder of PyGrid. From that folder, run the following command:\n",
    "\n",
    "```bash\n",
    "poetry install\n",
    "```\n",
    "\n",
    "### Step 4 (Optional): Reset Node first?\n",
    "If you've run a single-machine PyGrid domain before on this machine, you might have a \"nodedatabase.db\" file in \"PyGrid/Apps/domain/src/nodedatabase.db\". If you'd like to refresh your machine from scratch run the following (again assuming your CWD is \"PyGrid/apps/domain\".\n",
    "\n",
    "```bash\n",
    "rm src/nodedatabase.db\n",
    "```\n",
    "\n",
    "### Step 5: Launch Domain Node\n",
    "\n",
    "Now with all your dependencies installed, you're ready to launch the domain node!\n",
    "\n",
    "```bash\n",
    "./run.sh --id bob --port 5000 --start_local_db\n",
    "```\n",
    "\n",
    "### Step 6: Create Root Owner and Login\n",
    "\n",
    "The node is currently launched in \"sleep mode\" (you can see by visiting 'http://localhost:5000/'). This means that there isn't a root user yet and you need to declare one."
   ]
  },
  {
   "cell_type": "code",
   "execution_count": 7,
   "metadata": {},
   "outputs": [],
   "source": [
    "import syft as sy\n",
    "import torch as th\n",
    "import numpy as np\n",
    "\n",
    "# UNCOMMENT THIS FOR FIRST-TIME SETUP\n",
    "sy.login().setup(email=\"owner@myorg.com\", password=\"owerpwd\", domain_name=\"Trask's Node\")\n",
    "\n",
    "# LOGIN AS ROOT USER\n",
    "root_domain = sy.login(email=\"owner@myorg.com\", password=\"owerpwd\")"
   ]
  },
  {
   "cell_type": "markdown",
   "metadata": {},
   "source": [
    "# Create and Upload a Few Datasets\n",
    "\n",
    "We can add datasets to the Domain using our root-user login. Note that unless you've done something special no other user is able to add datasets by default."
   ]
  },
  {
   "cell_type": "code",
   "execution_count": 8,
   "metadata": {},
   "outputs": [],
   "source": [
    "xor_inputs = np.array([[0,0],\n",
    "                       [0,1],\n",
    "                       [1,0],\n",
    "                       [1,1]])\n",
    "\n",
    "xor_input_dataset = root_domain.upload_dataset(data=xor_inputs, \n",
    "                                          description=\"XOR dataset inputs\", \n",
    "                                          tags=['#xor', '#inputs'])\n",
    "\n",
    "xor_targets = np.array([[0],\n",
    "                       [1],\n",
    "                       [1],\n",
    "                       [0]])\n",
    "\n",
    "xor_target_dataset = root_domain.upload_dataset(data=xor_targets, \n",
    "                                          description=\"XOR dataset targets\", \n",
    "                                          tags=['#xor', '#targets'])"
   ]
  },
  {
   "cell_type": "code",
   "execution_count": 9,
   "metadata": {},
   "outputs": [
    {
     "data": {
      "text/html": [
       "<div>\n",
       "<style scoped>\n",
       "    .dataframe tbody tr th:only-of-type {\n",
       "        vertical-align: middle;\n",
       "    }\n",
       "\n",
       "    .dataframe tbody tr th {\n",
       "        vertical-align: top;\n",
       "    }\n",
       "\n",
       "    .dataframe thead th {\n",
       "        text-align: right;\n",
       "    }\n",
       "</style>\n",
       "<table border=\"1\" class=\"dataframe\">\n",
       "  <thead>\n",
       "    <tr style=\"text-align: right;\">\n",
       "      <th></th>\n",
       "      <th>id</th>\n",
       "      <th>manifest</th>\n",
       "      <th>description</th>\n",
       "      <th>tags</th>\n",
       "      <th>data</th>\n",
       "    </tr>\n",
       "  </thead>\n",
       "  <tbody>\n",
       "    <tr>\n",
       "      <th>0</th>\n",
       "      <td>9a72ef51-d364-4d55-bd4d-8b5b0e0146c9</td>\n",
       "      <td>XOR dataset inputs</td>\n",
       "      <td>XOR dataset inputs</td>\n",
       "      <td>[#xor, #inputs]</td>\n",
       "      <td>[{'name': 'tmp/data_01.csv', 'id': '6d512d91-c...</td>\n",
       "    </tr>\n",
       "    <tr>\n",
       "      <th>1</th>\n",
       "      <td>a6632237-f950-483a-bd15-b69f58d62cae</td>\n",
       "      <td>XOR dataset targets</td>\n",
       "      <td>XOR dataset targets</td>\n",
       "      <td>[#xor, #targets]</td>\n",
       "      <td>[{'name': 'tmp/data_01.csv', 'id': 'a6273056-1...</td>\n",
       "    </tr>\n",
       "  </tbody>\n",
       "</table>\n",
       "</div>"
      ],
      "text/plain": [
       "<syft.grid.client.request_api.dataset_api.DatasetRequestAPI at 0x7f8871ec59d0>"
      ]
     },
     "execution_count": 9,
     "metadata": {},
     "output_type": "execute_result"
    }
   ],
   "source": [
    "root_domain.datasets"
   ]
  },
  {
   "cell_type": "markdown",
   "metadata": {},
   "source": [
    "# Create a Data Compliance Officer\n",
    "\n",
    "Eventually a Data Scientist is going to need some management, particularly when they want to download their statistical results. While this doesn't always need manual review, sometimes it does and it's important we create a user who is capable of reviewing and approving data access requests."
   ]
  },
  {
   "cell_type": "code",
   "execution_count": 10,
   "metadata": {},
   "outputs": [
    {
     "data": {
      "text/html": [
       "<div>\n",
       "<style scoped>\n",
       "    .dataframe tbody tr th:only-of-type {\n",
       "        vertical-align: middle;\n",
       "    }\n",
       "\n",
       "    .dataframe tbody tr th {\n",
       "        vertical-align: top;\n",
       "    }\n",
       "\n",
       "    .dataframe thead th {\n",
       "        text-align: right;\n",
       "    }\n",
       "</style>\n",
       "<table border=\"1\" class=\"dataframe\">\n",
       "  <thead>\n",
       "    <tr style=\"text-align: right;\">\n",
       "      <th></th>\n",
       "      <th>id</th>\n",
       "      <th>name</th>\n",
       "      <th>can_triage_requests</th>\n",
       "      <th>can_edit_settings</th>\n",
       "      <th>can_create_users</th>\n",
       "      <th>can_create_groups</th>\n",
       "      <th>can_edit_roles</th>\n",
       "      <th>can_manage_infrastructure</th>\n",
       "      <th>can_upload_data</th>\n",
       "    </tr>\n",
       "  </thead>\n",
       "  <tbody>\n",
       "    <tr>\n",
       "      <th>0</th>\n",
       "      <td>1</td>\n",
       "      <td>User</td>\n",
       "      <td>False</td>\n",
       "      <td>False</td>\n",
       "      <td>False</td>\n",
       "      <td>False</td>\n",
       "      <td>False</td>\n",
       "      <td>False</td>\n",
       "      <td>False</td>\n",
       "    </tr>\n",
       "    <tr>\n",
       "      <th>1</th>\n",
       "      <td>2</td>\n",
       "      <td>Compliance Officer</td>\n",
       "      <td>True</td>\n",
       "      <td>False</td>\n",
       "      <td>False</td>\n",
       "      <td>False</td>\n",
       "      <td>False</td>\n",
       "      <td>False</td>\n",
       "      <td>False</td>\n",
       "    </tr>\n",
       "    <tr>\n",
       "      <th>2</th>\n",
       "      <td>3</td>\n",
       "      <td>Administrator</td>\n",
       "      <td>True</td>\n",
       "      <td>True</td>\n",
       "      <td>True</td>\n",
       "      <td>True</td>\n",
       "      <td>False</td>\n",
       "      <td>False</td>\n",
       "      <td>True</td>\n",
       "    </tr>\n",
       "    <tr>\n",
       "      <th>3</th>\n",
       "      <td>4</td>\n",
       "      <td>Owner</td>\n",
       "      <td>True</td>\n",
       "      <td>True</td>\n",
       "      <td>True</td>\n",
       "      <td>True</td>\n",
       "      <td>True</td>\n",
       "      <td>True</td>\n",
       "      <td>True</td>\n",
       "    </tr>\n",
       "  </tbody>\n",
       "</table>\n",
       "</div>"
      ],
      "text/plain": [
       "<syft.grid.client.request_api.role_api.RoleRequestAPI at 0x7f8871ec5910>"
      ]
     },
     "execution_count": 10,
     "metadata": {},
     "output_type": "execute_result"
    }
   ],
   "source": [
    "root_domain.roles"
   ]
  },
  {
   "cell_type": "code",
   "execution_count": 11,
   "metadata": {},
   "outputs": [],
   "source": [
    "root_domain.users.create(\n",
    "    email=\"compliance@myorg.com\", password=\"pwd123\", role=\"Compliance Officer\"\n",
    ")"
   ]
  },
  {
   "cell_type": "code",
   "execution_count": 12,
   "metadata": {},
   "outputs": [
    {
     "data": {
      "text/html": [
       "<div>\n",
       "<style scoped>\n",
       "    .dataframe tbody tr th:only-of-type {\n",
       "        vertical-align: middle;\n",
       "    }\n",
       "\n",
       "    .dataframe tbody tr th {\n",
       "        vertical-align: top;\n",
       "    }\n",
       "\n",
       "    .dataframe thead th {\n",
       "        text-align: right;\n",
       "    }\n",
       "</style>\n",
       "<table border=\"1\" class=\"dataframe\">\n",
       "  <thead>\n",
       "    <tr style=\"text-align: right;\">\n",
       "      <th></th>\n",
       "      <th>id</th>\n",
       "      <th>email</th>\n",
       "      <th>private_key</th>\n",
       "      <th>verify_key</th>\n",
       "      <th>role</th>\n",
       "      <th>groups</th>\n",
       "    </tr>\n",
       "  </thead>\n",
       "  <tbody>\n",
       "    <tr>\n",
       "      <th>0</th>\n",
       "      <td>1</td>\n",
       "      <td>owner@myorg.com</td>\n",
       "      <td>a3be8d32a34d2b8d9cc0db91ead81d1a5f7ba38fa9801f...</td>\n",
       "      <td>228ed5b367dd3a6bd6218b578fc8e64fd88f9fc6e3714e...</td>\n",
       "      <td>4</td>\n",
       "      <td>[]</td>\n",
       "    </tr>\n",
       "    <tr>\n",
       "      <th>1</th>\n",
       "      <td>2</td>\n",
       "      <td>compliance@myorg.com</td>\n",
       "      <td>9505a8940510c2cf30256a6ee4436c69b19bdc36ba9314...</td>\n",
       "      <td>0704e1a1707d56de59d431df4e14975c2044651f74704c...</td>\n",
       "      <td>2</td>\n",
       "      <td>[]</td>\n",
       "    </tr>\n",
       "  </tbody>\n",
       "</table>\n",
       "</div>"
      ],
      "text/plain": [
       "<syft.grid.client.request_api.user_api.UserRequestAPI at 0x7f8871ec58e0>"
      ]
     },
     "execution_count": 12,
     "metadata": {},
     "output_type": "execute_result"
    }
   ],
   "source": [
    "root_domain.users"
   ]
  },
  {
   "cell_type": "markdown",
   "metadata": {},
   "source": [
    "# Done with Part 1!\n",
    "\n",
    "You may now proceed to Part 2!"
   ]
  },
  {
   "cell_type": "code",
   "execution_count": null,
   "metadata": {},
   "outputs": [],
   "source": []
  }
 ],
 "metadata": {
  "kernelspec": {
   "display_name": "Python 3",
   "language": "python",
   "name": "python3"
  },
  "language_info": {
   "codemirror_mode": {
    "name": "ipython",
    "version": 3
   },
   "file_extension": ".py",
   "mimetype": "text/x-python",
   "name": "python",
   "nbconvert_exporter": "python",
   "pygments_lexer": "ipython3",
   "version": "3.8.3"
  }
 },
 "nbformat": 4,
 "nbformat_minor": 4
}
