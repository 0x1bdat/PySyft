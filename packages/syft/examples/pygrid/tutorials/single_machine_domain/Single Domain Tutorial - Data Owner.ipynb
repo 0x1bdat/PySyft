{
 "cells": [
  {
   "cell_type": "code",
   "execution_count": 1,
   "id": "f4dc9bd2-5278-477d-9473-8c46da910ffb",
   "metadata": {},
   "outputs": [
    {
     "name": "stdout",
     "output_type": "stream",
     "text": [
      "INITIALIZING IN MEMORY STORE!!!\n"
     ]
    }
   ],
   "source": [
    "# third party\n",
    "import torch as th\n",
    "\n",
    "# syft absolute\n",
    "import syft as sy\n",
    "from syft.core.node.common.service.obj_search_permission_service import (\n",
    "    ImmediateObjectSearchPermissionUpdateService,\n",
    ")\n",
    "from syft.core.node.common.service.obj_search_permission_service import (\n",
    "    ObjectSearchPermissionUpdateMessage,\n",
    ")"
   ]
  },
  {
   "cell_type": "code",
   "execution_count": 2,
   "id": "e516600b-e995-4b75-ac4c-fba815dc4624",
   "metadata": {},
   "outputs": [
    {
     "name": "stdout",
     "output_type": "stream",
     "text": [
      "INITIALIZING IN MEMORY STORE!!!\n",
      "SaveObjectAction <Storable: tensor([1, 2, 3])>\n",
      "Storing object:<UID: 19e7f83675ed48409cd7c82077749ed3> -> <Storable: tensor([1, 2, 3])>\n",
      "Storing object:<UID: 19e7f83675ed48409cd7c82077749ed3> -> <Storable: tensor([1, 2, 3])>\n",
      "Deleting object:<UID: 19e7f83675ed48409cd7c82077749ed3>\n"
     ]
    }
   ],
   "source": [
    "bob_phone = sy.Device(name=\"Bob's iPhone\")\n",
    "bob_phone_client = bob_phone.get_client()\n",
    "\n",
    "ptr = th.tensor([1, 2, 3]).send(bob_phone_client)\n",
    "\n",
    "msg = ObjectSearchPermissionUpdateMessage(\n",
    "    add_instead_of_remove=True,\n",
    "    target_verify_key=bob_phone_client.verify_key,\n",
    "    target_object_id=ptr.id_at_location,\n",
    "    address=bob_phone_client.address,\n",
    ")\n",
    "\n",
    "ImmediateObjectSearchPermissionUpdateService.process(\n",
    "    node=bob_phone, msg=msg, verify_key=bob_phone.verify_key\n",
    ")"
   ]
  },
  {
   "cell_type": "code",
   "execution_count": 3,
   "id": "fec790e6-4abb-4dcc-818f-0e439d95ac95",
   "metadata": {},
   "outputs": [
    {
     "data": {
      "text/plain": [
       "{<syft.core.common.group._create_VERIFYALL.<locals>.VerifyAll at 0x7fbab8794400>: <syft.lib.python._SyNone at 0x7fbaf8de7c40>,\n",
       " <nacl.signing.VerifyKey at 0x7fbab8cb4e50>: <UID: 6032dd1262ff4989b773b37c79889a84>}"
      ]
     },
     "execution_count": 3,
     "metadata": {},
     "output_type": "execute_result"
    }
   ],
   "source": [
    "bob_phone.store[ptr.id_at_location].search_permissions"
   ]
  },
  {
   "cell_type": "code",
   "execution_count": 4,
   "id": "2dc3c702-d387-4db5-9a48-df54268d84c4",
   "metadata": {},
   "outputs": [
    {
     "data": {
      "text/plain": [
       "<UID: 6032dd1262ff4989b773b37c79889a84>"
      ]
     },
     "execution_count": 4,
     "metadata": {},
     "output_type": "execute_result"
    }
   ],
   "source": [
    "bob_phone.store[ptr.id_at_location].search_permissions[bob_phone_client.verify_key]\n"
   ]
  },
  {
   "cell_type": "code",
   "execution_count": 5,
   "id": "8b71ad03-9a5a-43a6-8ccd-e13a31f8d4e7",
   "metadata": {},
   "outputs": [
    {
     "data": {
      "text/plain": [
       "<UID: 6032dd1262ff4989b773b37c79889a84>"
      ]
     },
     "execution_count": 5,
     "metadata": {},
     "output_type": "execute_result"
    }
   ],
   "source": [
    "msg.id"
   ]
  },
  {
   "cell_type": "code",
   "execution_count": null,
   "id": "580fd16c-4ba4-4e78-b945-48a1ca598a1f",
   "metadata": {},
   "outputs": [],
   "source": []
  }
 ],
 "metadata": {
  "kernelspec": {
   "display_name": "Python 3",
   "language": "python",
   "name": "python3"
  },
  "language_info": {
   "codemirror_mode": {
    "name": "ipython",
    "version": 3
   },
   "file_extension": ".py",
   "mimetype": "text/x-python",
   "name": "python",
   "nbconvert_exporter": "python",
   "pygments_lexer": "ipython3",
   "version": "3.9.5"
  }
 },
 "nbformat": 4,
 "nbformat_minor": 5
}
