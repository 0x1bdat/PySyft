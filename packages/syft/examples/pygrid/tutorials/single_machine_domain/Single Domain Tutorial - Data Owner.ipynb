{
 "cells": [
  {
   "cell_type": "code",
   "execution_count": 1,
   "id": "fde0b115-5286-46b9-810b-1143864f0369",
   "metadata": {},
   "outputs": [
    {
     "name": "stdout",
     "output_type": "stream",
     "text": [
      "INITIALIZING IN MEMORY STORE!!!\n",
      "INITIALIZING IN MEMORY STORE!!!\n",
      "Getting all of those values\n"
     ]
    },
    {
     "data": {
      "text/plain": [
       "[]"
      ]
     },
     "execution_count": 1,
     "metadata": {},
     "output_type": "execute_result"
    }
   ],
   "source": [
    "import logging\n",
    "logging.basicConfig(level=logging.WARN)\n",
    "\n",
    "# stdlib\n",
    "from functools import partial\n",
    "from importlib import reload\n",
    "import sys\n",
    "from typing import List\n",
    "from typing import Optional\n",
    "from typing import Tuple\n",
    "from typing import Union as TypeUnion\n",
    "import syft as sy\n",
    "# third party\n",
    "import pytest\n",
    "\n",
    "# syft absolute\n",
    "import syft\n",
    "from syft.ast import add_dynamic_objects\n",
    "from syft.ast.globals import Globals\n",
    "from syft.core.node.abstract.node import AbstractNodeClient\n",
    "from syft.core.node.common.client import Client\n",
    "from syft.lib import lib_ast\n",
    "\n",
    "from syft.core.test import module_test\n",
    "\n",
    "sys.modules[\"module_test\"] = module_test\n",
    "\n",
    "module_test_methods = [\n",
    "    (\"module_test.A\", \"module_test.A\"),\n",
    "    (\"module_test.A.__len__\", \"syft.lib.python.Int\"),\n",
    "    (\"module_test.A.__iter__\", \"syft.lib.python.Iterator\"),\n",
    "    (\"module_test.A.__next__\", \"syft.lib.python.Int\"),\n",
    "    (\"module_test.A.test_method\", \"syft.lib.python.Int\"),\n",
    "    (\"module_test.A.test_property\", \"syft.lib.python.Float\"),\n",
    "    (\"module_test.A._private_attr\", \"syft.lib.python.Float\"),\n",
    "    (\"module_test.A.static_method\", \"syft.lib.python.Float\"),\n",
    "    (\"module_test.A.static_attr\", \"syft.lib.python.Int\"),\n",
    "    (\"module_test.B.Car\", \"module_test.B\"),\n",
    "    (\"module_test.C\", \"module_test.C\"),\n",
    "    (\"module_test.C.type_reload_func\", \"syft.lib.python._SyNone\"),\n",
    "    (\"module_test.C.obj_reload_func\", \"syft.lib.python._SyNone\"),\n",
    "    (\"module_test.C.dummy_reloadable_func\", \"syft.lib.python.Int\"),\n",
    "    (\"module_test.global_value\", \"syft.lib.python.Int\"),\n",
    "    (\"module_test.global_function\", \"syft.lib.python.Int\"),\n",
    "]\n",
    "\n",
    "dynamic_objects = [(\"module_test.C.dynamic_object\", \"syft.lib.python.Int\")]\n",
    "\n",
    "\n",
    "def update_ast_test(\n",
    "    ast_or_client: TypeUnion[Globals, AbstractNodeClient],\n",
    "    methods: List[Tuple[str, str]],\n",
    "    dynamic_objects: Optional[List[Tuple[str, str]]] = None,\n",
    ") -> None:\n",
    "    \"\"\"Checks functionality of update_ast, uses create_ast\"\"\"\n",
    "    if isinstance(ast_or_client, Globals):\n",
    "        ast = ast_or_client\n",
    "        test_ast = create_ast_test(\n",
    "            client=None, methods=methods, dynamic_objects=dynamic_objects\n",
    "        )\n",
    "        ast.add_attr(attr_name=\"module_test\", attr=test_ast.attrs[\"module_test\"])\n",
    "    elif isinstance(ast_or_client, AbstractNodeClient):\n",
    "        client = ast_or_client\n",
    "        test_ast = create_ast_test(\n",
    "            client=client, methods=methods, dynamic_objects=dynamic_objects\n",
    "        )\n",
    "        client.lib_ast.attrs[\"module_test\"] = test_ast.attrs[\"module_test\"]\n",
    "        setattr(client, \"module_test\", test_ast.attrs[\"module_test\"])\n",
    "    else:\n",
    "        raise ValueError(\n",
    "            f\"Expected param of type (Globals, AbstractNodeClient), but got {type(ast_or_client)}\"\n",
    "        )\n",
    "\n",
    "\n",
    "def create_ast_test(\n",
    "    client: Optional[AbstractNodeClient],\n",
    "    methods: List[Tuple[str, str]],\n",
    "    dynamic_objects: Optional[List[Tuple[str, str]]],\n",
    ") -> Globals:\n",
    "    \"\"\"Unit test for create_ast functionality\"\"\"\n",
    "    ast = Globals(client)\n",
    "\n",
    "    for method, return_type in methods:\n",
    "        ast.add_path(\n",
    "            path=method, framework_reference=module_test, return_type_name=return_type\n",
    "        )\n",
    "\n",
    "    if dynamic_objects:\n",
    "        add_dynamic_objects(ast, dynamic_objects)\n",
    "\n",
    "    for klass in ast.classes:\n",
    "        klass.create_pointer_class()\n",
    "        klass.create_send_method()\n",
    "        klass.create_storable_object_attr_convenience_methods()\n",
    "\n",
    "    return ast\n",
    "\n",
    "\n",
    "def register_module_test() -> None:\n",
    "    \"\"\"Test which is required for every other tests (runs first even in random execution)\"\"\"\n",
    "    # Make lib_ast contain the specific methods/attributes\n",
    "    update_ast_test(\n",
    "        ast_or_client=syft.lib_ast,\n",
    "        methods=module_test_methods,\n",
    "        dynamic_objects=dynamic_objects,\n",
    "    )\n",
    "\n",
    "    # Make sure that when we register a new client it would update the specific AST\n",
    "    lib_ast.loaded_lib_constructors[\"module_test\"] = partial(\n",
    "        update_ast_test, methods=module_test_methods, dynamic_objects=dynamic_objects\n",
    "    )\n",
    "\n",
    "\n",
    "\n",
    "def custom_client() -> Client:\n",
    "    \"\"\"Return VM for unit tests\"\"\"\n",
    "    alice = syft.VirtualMachine(name=\"alice\")\n",
    "    alice_client = alice.get_root_client()\n",
    "\n",
    "    return alice_client\n",
    "\n",
    "register_module_test()\n",
    "\n",
    "domain = syft.Domain(\"me\")\n",
    "root_client = domain.get_root_client()\n",
    "\n",
    "domain.store"
   ]
  },
  {
   "cell_type": "code",
   "execution_count": 2,
   "id": "c3106b12-95d4-40be-8475-c566ed9e1717",
   "metadata": {},
   "outputs": [
    {
     "name": "stdout",
     "output_type": "stream",
     "text": [
      "Storing object:<UID: dbd9f0b44c194a2487c5d2e707add8b2> -> <Storable: <syft.core.test.module_test.A object at 0x7fb60023a400>>\n"
     ]
    }
   ],
   "source": [
    "value_to_set = 7.5\n",
    "\n",
    "a_ptr = root_client.module_test.A()"
   ]
  },
  {
   "cell_type": "code",
   "execution_count": 3,
   "id": "40ce6861-e345-4dfb-87c7-667e4086b238",
   "metadata": {},
   "outputs": [
    {
     "name": "stdout",
     "output_type": "stream",
     "text": [
      "Storing object:<UID: df2d20f4e78744f1a2e71464d01dfa70> -> <Storable: 7.5>\n",
      "Begin executing action...\n",
      "Storing object:<UID: dbd9f0b44c194a2487c5d2e707add8b2> -> <Storable: <syft.core.test.module_test.A object at 0x7fb5f1967100>>\n",
      "Deleting object:<UID: dbd9f0b44c194a2487c5d2e707add8b2>\n",
      "Storing object:<UID: 8bc90c2e0a8e435e903b5111a6d9f757> -> <Storable: <syft.lib.python._SyNone object at 0x7fb60091f430>>\n",
      "Deleting object:<UID: df2d20f4e78744f1a2e71464d01dfa70>\n",
      "Deleting object:<UID: 8bc90c2e0a8e435e903b5111a6d9f757>\n"
     ]
    }
   ],
   "source": [
    "a_ptr.test_property = value_to_set"
   ]
  },
  {
   "cell_type": "code",
   "execution_count": 5,
   "id": "284876e3-ed4a-459f-b347-291a2ec76a43",
   "metadata": {},
   "outputs": [
    {
     "name": "stdout",
     "output_type": "stream",
     "text": [
      "Begin executing action...\n",
      "Storing object:<UID: c330ec611b964874879343cd3511972f> -> <Storable: 7.5>\n"
     ]
    }
   ],
   "source": [
    "result_ptr = a_ptr.test_property"
   ]
  },
  {
   "cell_type": "code",
   "execution_count": 7,
   "id": "8a274cf9-0aa4-401e-887d-0be23383b31c",
   "metadata": {},
   "outputs": [
    {
     "data": {
      "text/plain": [
       "7.5"
      ]
     },
     "execution_count": 7,
     "metadata": {},
     "output_type": "execute_result"
    }
   ],
   "source": [
    "a = module_test.A()\n",
    "a.test_property = value_to_set\n",
    "result = a.test_property\n",
    "\n",
    "\n",
    "result"
   ]
  },
  {
   "cell_type": "code",
   "execution_count": 8,
   "id": "b94cb0bc-7aec-4557-8c35-77e3af980d3f",
   "metadata": {},
   "outputs": [
    {
     "name": "stdout",
     "output_type": "stream",
     "text": [
      "Deleting object:<UID: c330ec611b964874879343cd3511972f>\n"
     ]
    },
    {
     "data": {
      "text/plain": [
       "7.5"
      ]
     },
     "execution_count": 8,
     "metadata": {},
     "output_type": "execute_result"
    }
   ],
   "source": [
    "result_ptr.get()"
   ]
  },
  {
   "cell_type": "code",
   "execution_count": null,
   "id": "594ffe3d-0fa6-4ee5-ae32-ec5191329ce9",
   "metadata": {},
   "outputs": [],
   "source": []
  }
 ],
 "metadata": {
  "kernelspec": {
   "display_name": "Python 3",
   "language": "python",
   "name": "python3"
  },
  "language_info": {
   "codemirror_mode": {
    "name": "ipython",
    "version": 3
   },
   "file_extension": ".py",
   "mimetype": "text/x-python",
   "name": "python",
   "nbconvert_exporter": "python",
   "pygments_lexer": "ipython3",
   "version": "3.9.5"
  }
 },
 "nbformat": 4,
 "nbformat_minor": 5
}
