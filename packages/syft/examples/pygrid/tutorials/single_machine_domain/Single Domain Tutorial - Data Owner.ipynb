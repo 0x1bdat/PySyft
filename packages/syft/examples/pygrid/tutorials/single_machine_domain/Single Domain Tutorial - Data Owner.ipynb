{
 "cells": [
  {
   "cell_type": "code",
   "execution_count": 1,
   "id": "3c1d6f29-9cf4-4f28-801c-f7c86ddb468c",
   "metadata": {},
   "outputs": [
    {
     "name": "stdout",
     "output_type": "stream",
     "text": [
      "INITIALIZING IN MEMORY STORE!!!\n"
     ]
    }
   ],
   "source": [
    "# third party\n",
    "import pytest\n",
    "import torch as th\n",
    "\n",
    "# syft absolute\n",
    "from syft.core.common.message import SyftMessage\n",
    "from syft.core.node.domain import Domain\n",
    "from syft.core.node.domain.service import RequestStatus"
   ]
  },
  {
   "cell_type": "code",
   "execution_count": 2,
   "id": "3ba68ed2-0140-43c5-bf7a-e87fd052e5d9",
   "metadata": {},
   "outputs": [],
   "source": [
    "import syft as sy"
   ]
  },
  {
   "cell_type": "code",
   "execution_count": 3,
   "id": "2c261d1e-77d4-4515-840b-d38a28c55b7f",
   "metadata": {},
   "outputs": [
    {
     "name": "stdout",
     "output_type": "stream",
     "text": [
      "INITIALIZING IN MEMORY STORE!!!\n",
      "SaveObjectAction <Storable: tensor([1, 2, 3])>\n",
      "Storing object:<UID: adf6c8f737ae4f7e8d3438c92abfe87c> -> <Storable: tensor([1, 2, 3])>\n"
     ]
    }
   ],
   "source": [
    "domain_1 = Domain(name=\"remote domain\")\n",
    "tensor = th.tensor([1, 2, 3])\n",
    "\n",
    "domain_1_client = domain_1.get_root_client()\n",
    "data_ptr_domain_1 = tensor.send(domain_1_client)\n",
    "\n",
    "# domain_2 = Domain(name=\"my domain\")"
   ]
  },
  {
   "cell_type": "code",
   "execution_count": 4,
   "id": "b19365a7-94f7-4baf-8511-061798f268aa",
   "metadata": {},
   "outputs": [
    {
     "name": "stdout",
     "output_type": "stream",
     "text": [
      "<RequestMessage: d1d13d97798b478d811ccf4abf2b3d03>\n",
      "<GetAllRequestsMessage: ba7eb7de0c154dd382e4bab1ce22e335>\n"
     ]
    }
   ],
   "source": [
    "data_ptr_domain_1.request(reason=\"I'd lke to see this pointer\")\n",
    "\n",
    "requested_object = data_ptr_domain_1.id_at_location\n",
    "\n",
    "message_request_id = domain_1_client.requests.get_request_id_from_object_id(\n",
    "    object_id=requested_object\n",
    ")"
   ]
  },
  {
   "cell_type": "code",
   "execution_count": 5,
   "id": "32efbbbb-fd04-425a-9694-eca688df17cc",
   "metadata": {},
   "outputs": [
    {
     "name": "stdout",
     "output_type": "stream",
     "text": [
      "Getting all of those values\n"
     ]
    },
    {
     "data": {
      "text/plain": [
       "{<nacl.signing.VerifyKey at 0x7f9689fcf430>: <UID: cb9444580d3941efbb9fb9b760c5434c>,\n",
       " <nacl.signing.VerifyKey at 0x7f9689fcf220>: None}"
      ]
     },
     "execution_count": 5,
     "metadata": {},
     "output_type": "execute_result"
    }
   ],
   "source": [
    "domain_1.store.values()[0].read_permissions"
   ]
  },
  {
   "cell_type": "code",
   "execution_count": 6,
   "id": "8bbb4dbc-2c2b-40e1-8322-9c7910448806",
   "metadata": {},
   "outputs": [
    {
     "name": "stdout",
     "output_type": "stream",
     "text": [
      "<GetAllRequestsMessage: 0d3df0bb2d6e4af7a9fa9a859d65821b>\n"
     ]
    },
    {
     "data": {
      "text/html": [
       "<div>\n",
       "<style scoped>\n",
       "    .dataframe tbody tr th:only-of-type {\n",
       "        vertical-align: middle;\n",
       "    }\n",
       "\n",
       "    .dataframe tbody tr th {\n",
       "        vertical-align: top;\n",
       "    }\n",
       "\n",
       "    .dataframe thead th {\n",
       "        text-align: right;\n",
       "    }\n",
       "</style>\n",
       "<table border=\"1\" class=\"dataframe\">\n",
       "  <thead>\n",
       "    <tr style=\"text-align: right;\">\n",
       "      <th></th>\n",
       "      <th>Requested Object's tags</th>\n",
       "      <th>Reason</th>\n",
       "      <th>Request ID</th>\n",
       "      <th>Requested Object's ID</th>\n",
       "      <th>Requested Object's type</th>\n",
       "    </tr>\n",
       "  </thead>\n",
       "  <tbody>\n",
       "    <tr>\n",
       "      <th>0</th>\n",
       "      <td>[]</td>\n",
       "      <td>I'd lke to see this pointer</td>\n",
       "      <td>&lt;UID: d1d13d97798b478d811ccf4abf2b3d03&gt;</td>\n",
       "      <td>&lt;UID: adf6c8f737ae4f7e8d3438c92abfe87c&gt;</td>\n",
       "      <td></td>\n",
       "    </tr>\n",
       "  </tbody>\n",
       "</table>\n",
       "</div>"
      ],
      "text/plain": [
       "  Requested Object's tags                       Reason  \\\n",
       "0                      []  I'd lke to see this pointer   \n",
       "\n",
       "                                Request ID  \\\n",
       "0  <UID: d1d13d97798b478d811ccf4abf2b3d03>   \n",
       "\n",
       "                     Requested Object's ID Requested Object's type  \n",
       "0  <UID: adf6c8f737ae4f7e8d3438c92abfe87c>                          "
      ]
     },
     "execution_count": 6,
     "metadata": {},
     "output_type": "execute_result"
    }
   ],
   "source": [
    "domain_1_client.requests.pandas"
   ]
  },
  {
   "cell_type": "code",
   "execution_count": 7,
   "id": "7e45883b-4bd0-4ee8-9982-b817bec36d7f",
   "metadata": {},
   "outputs": [
    {
     "data": {
      "text/plain": [
       "<RequestStatus.Rejected: 2>"
      ]
     },
     "execution_count": 7,
     "metadata": {},
     "output_type": "execute_result"
    }
   ],
   "source": [
    "domain_1.get_request_status(message_request_id)"
   ]
  },
  {
   "cell_type": "code",
   "execution_count": 8,
   "id": "e9c00250-62ff-43ad-bbd0-8455456431ac",
   "metadata": {},
   "outputs": [
    {
     "name": "stdout",
     "output_type": "stream",
     "text": [
      "<AcceptOrDenyRequestMessage: 2342d6d8ae624e388fc450b25d9fd29c>\n",
      "accepting reqest\n",
      "{<nacl.signing.VerifyKey object at 0x7f96683f7d60>: <UID: cb9444580d3941efbb9fb9b760c5434c>, <nacl.signing.VerifyKey object at 0x7f96683f7e80>: <UID: d1d13d97798b478d811ccf4abf2b3d03>}\n",
      "Storing object:<UID: adf6c8f737ae4f7e8d3438c92abfe87c> -> <Storable: tensor([1, 2, 3])>\n",
      "Deleting object:<UID: adf6c8f737ae4f7e8d3438c92abfe87c>\n",
      "{<nacl.signing.VerifyKey object at 0x7f96683f7b20>: <UID: cb9444580d3941efbb9fb9b760c5434c>, <nacl.signing.VerifyKey object at 0x7f9678798a30>: <UID: d1d13d97798b478d811ccf4abf2b3d03>}\n"
     ]
    }
   ],
   "source": [
    "domain_1.requests[0].owner_client_if_available = domain_1_client\n",
    "domain_1.requests[0].accept()"
   ]
  },
  {
   "cell_type": "code",
   "execution_count": 15,
   "id": "ed950f1f-828d-4e17-8980-218026f96206",
   "metadata": {},
   "outputs": [
    {
     "data": {
      "text/plain": [
       "<RequestStatus.Accepted: 3>"
      ]
     },
     "execution_count": 15,
     "metadata": {},
     "output_type": "execute_result"
    }
   ],
   "source": [
    "domain_1.get_request_status(message_request_id)"
   ]
  },
  {
   "cell_type": "code",
   "execution_count": 14,
   "id": "cf4cdaf9-f918-42a7-a46e-1ff9c00494a3",
   "metadata": {},
   "outputs": [
    {
     "data": {
      "text/plain": [
       "<UID: d1d13d97798b478d811ccf4abf2b3d03>"
      ]
     },
     "execution_count": 14,
     "metadata": {},
     "output_type": "execute_result"
    }
   ],
   "source": []
  },
  {
   "cell_type": "code",
   "execution_count": 12,
   "id": "59b53864-96e1-492e-8afc-ecd76ecc38fa",
   "metadata": {},
   "outputs": [
    {
     "name": "stdout",
     "output_type": "stream",
     "text": [
      "Getting all of those values\n"
     ]
    },
    {
     "data": {
      "text/plain": [
       "{<nacl.signing.VerifyKey at 0x7f9648038a60>: <UID: cb9444580d3941efbb9fb9b760c5434c>,\n",
       " <nacl.signing.VerifyKey at 0x7f9678798790>: <UID: d1d13d97798b478d811ccf4abf2b3d03>}"
      ]
     },
     "execution_count": 12,
     "metadata": {},
     "output_type": "execute_result"
    }
   ],
   "source": [
    "domain_1.store.values()[0].read_permissions"
   ]
  },
  {
   "cell_type": "code",
   "execution_count": null,
   "id": "b6e20486-092e-407d-81ac-5dafcbe13cd1",
   "metadata": {},
   "outputs": [],
   "source": []
  },
  {
   "cell_type": "code",
   "execution_count": 10,
   "id": "0b3e1b14-3a4e-4b2f-9e56-46b69e9da1f7",
   "metadata": {},
   "outputs": [
    {
     "name": "stdout",
     "output_type": "stream",
     "text": [
      "<RequestAnswerMessage: 3938edc3eba84aaea59324684d90db5e>\n"
     ]
    }
   ],
   "source": [
    "response = data_ptr_domain_1.check_access(\n",
    "    node=domain_2, request_id=message_request_id\n",
    ")"
   ]
  },
  {
   "cell_type": "code",
   "execution_count": 11,
   "id": "468dff7b-f041-4866-bb11-3ccd54b45c94",
   "metadata": {},
   "outputs": [
    {
     "data": {
      "text/plain": [
       "<RequestStatus.Rejected: 2>"
      ]
     },
     "execution_count": 11,
     "metadata": {},
     "output_type": "execute_result"
    }
   ],
   "source": [
    "response"
   ]
  },
  {
   "cell_type": "code",
   "execution_count": null,
   "id": "e516600b-e995-4b75-ac4c-fba815dc4624",
   "metadata": {},
   "outputs": [],
   "source": []
  }
 ],
 "metadata": {
  "kernelspec": {
   "display_name": "Python 3",
   "language": "python",
   "name": "python3"
  },
  "language_info": {
   "codemirror_mode": {
    "name": "ipython",
    "version": 3
   },
   "file_extension": ".py",
   "mimetype": "text/x-python",
   "name": "python",
   "nbconvert_exporter": "python",
   "pygments_lexer": "ipython3",
   "version": "3.9.5"
  }
 },
 "nbformat": 4,
 "nbformat_minor": 5
}
