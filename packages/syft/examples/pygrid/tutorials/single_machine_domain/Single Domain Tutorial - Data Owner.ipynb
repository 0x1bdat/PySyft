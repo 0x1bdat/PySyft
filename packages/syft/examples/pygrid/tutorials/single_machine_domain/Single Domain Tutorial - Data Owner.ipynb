{
 "cells": [
  {
   "cell_type": "code",
   "execution_count": 1,
   "id": "158ffb0f",
   "metadata": {},
   "outputs": [
    {
     "name": "stdout",
     "output_type": "stream",
     "text": [
      "INITIALIZING IN MEMORY STORE!!!\n"
     ]
    }
   ],
   "source": [
    "import syft as sy"
   ]
  },
  {
   "cell_type": "code",
   "execution_count": 2,
   "id": "248e403e-507a-40d4-95de-27e592a2d9b1",
   "metadata": {},
   "outputs": [
    {
     "name": "stdout",
     "output_type": "stream",
     "text": [
      "INITIALIZING IN MEMORY STORE!!!\n"
     ]
    }
   ],
   "source": [
    "root_client = sy.Domain(\"me\").get_root_client()"
   ]
  },
  {
   "cell_type": "code",
   "execution_count": 3,
   "id": "8ac2c989-22a9-453b-8cb6-4d66013e32c5",
   "metadata": {},
   "outputs": [],
   "source": [
    "from syft.lib.python.collections.ordered_dict import OrderedDict"
   ]
  },
  {
   "cell_type": "code",
   "execution_count": 4,
   "id": "5db268da-f427-4190-9698-9903b0e5b4c8",
   "metadata": {},
   "outputs": [
    {
     "name": "stdout",
     "output_type": "stream",
     "text": [
      "Storing object:<Storable: OrderedDict([('#1', 1), ('#2', 2)])>\n"
     ]
    }
   ],
   "source": [
    "method_name = \"keys\"\n",
    "\n",
    "d = OrderedDict({\"#1\": 1, \"#2\": 2})\n",
    "dptr = d.send(root_client)"
   ]
  },
  {
   "cell_type": "code",
   "execution_count": 5,
   "id": "2c538142-3f6b-415c-8da1-38a7808d03f3",
   "metadata": {},
   "outputs": [
    {
     "data": {
      "text/plain": [
       "<syft.lib.python.iterator.Iterator at 0x7fb8891b6520>"
      ]
     },
     "execution_count": 5,
     "metadata": {},
     "output_type": "execute_result"
    }
   ],
   "source": [
    "it = d.keys()\n",
    "it"
   ]
  },
  {
   "cell_type": "code",
   "execution_count": 6,
   "id": "b4242f0f-2497-41b7-999a-b29b62e04297",
   "metadata": {},
   "outputs": [],
   "source": [
    "blob = sy.serialize(it, to_bytes=True)"
   ]
  },
  {
   "cell_type": "code",
   "execution_count": 7,
   "id": "a355dc18-affc-41d4-8aa6-a54d839b45db",
   "metadata": {},
   "outputs": [
    {
     "data": {
      "text/plain": [
       "<syft.lib.python.iterator.Iterator at 0x7fb8891b6e50>"
      ]
     },
     "execution_count": 7,
     "metadata": {},
     "output_type": "execute_result"
    }
   ],
   "source": [
    "sy.deserialize(blob, from_bytes=True)"
   ]
  },
  {
   "cell_type": "code",
   "execution_count": 8,
   "id": "f312b211-266b-4c60-b158-a7b5071c63c3",
   "metadata": {},
   "outputs": [
    {
     "name": "stdout",
     "output_type": "stream",
     "text": [
      "Storing object:<Storable: <syft.lib.python.iterator.Iterator object at 0x7fb8891272e0>>\n"
     ]
    },
    {
     "data": {
      "text/plain": [
       "<syft.proxy.syft.lib.python.IteratorPointer at 0x7fb8891b68e0>"
      ]
     },
     "execution_count": 8,
     "metadata": {},
     "output_type": "execute_result"
    }
   ],
   "source": [
    "dptr.keys()"
   ]
  },
  {
   "cell_type": "code",
   "execution_count": null,
   "id": "c3106b12-95d4-40be-8475-c566ed9e1717",
   "metadata": {},
   "outputs": [],
   "source": []
  }
 ],
 "metadata": {
  "kernelspec": {
   "display_name": "Python 3",
   "language": "python",
   "name": "python3"
  },
  "language_info": {
   "codemirror_mode": {
    "name": "ipython",
    "version": 3
   },
   "file_extension": ".py",
   "mimetype": "text/x-python",
   "name": "python",
   "nbconvert_exporter": "python",
   "pygments_lexer": "ipython3",
   "version": "3.9.5"
  }
 },
 "nbformat": 4,
 "nbformat_minor": 5
}
