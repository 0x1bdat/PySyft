{
 "cells": [
  {
   "cell_type": "markdown",
   "metadata": {},
   "source": [
    "# Part 1: Data Owner Domain Setup\n",
    "\n",
    "In this notebook, you will walk through the steps to setup a single-machine Domain node, load some data into it, and create two user accounts:\n",
    "\n",
    "- *Data Compliance Officer:* someone who has the ability to respond to data-access requests\n",
    "- *Data Scientist:* someone who will find your data, run an experiment, and then create a data-access request to download their results.\n",
    "\n",
    "### Step 1: Clone PyGrid\n",
    "First begin by cloning PyGrid (https://github.com/OpenMined/PyGrid) and cd-ing into the Domain application directory.\n",
    "\n",
    "\n",
    "```bash\n",
    "git clone https://github.com/OpenMined/PyGrid.git\n",
    "cd apps/domain\n",
    "```\n",
    "\n",
    "### Step 2: Install Poetry (if you don't have it)\n",
    "\n",
    "Now we need to ensure that poetry is installed. The following command should work for you (OSX/linux/bashonwindows), but if it doesn't visit the poetry docs (https://python-poetry.org/docs/)\n",
    "\n",
    "```bash\n",
    "curl -sSL https://raw.githubusercontent.com/python-poetry/poetry/master/get-poetry.py | python -\n",
    "```\n",
    "\n",
    "### Step 3: Install Poetry Dependencies\n",
    "\n",
    "If you're following this tutorial you should still be in the \"PyGrid/apps/domain\" folder of PyGrid. From that folder, run the following command:\n",
    "\n",
    "```bash\n",
    "poetry install\n",
    "```\n",
    "\n",
    "### Step 4 (Optional): Reset Node first?\n",
    "If you've run a single-machine PyGrid domain before on this machine, you might have a \"nodedatabase.db\" file in \"PyGrid/Apps/domain/src/nodedatabase.db\". If you'd like to refresh your machine from scratch run the following (again assuming your CWD is \"PyGrid/apps/domain\".\n",
    "\n",
    "```bash\n",
    "rm src/nodedatabase.db\n",
    "```\n",
    "\n",
    "### Step 5: Launch Domain Node\n",
    "\n",
    "Now with all your dependencies installed, you're ready to launch the domain node!\n",
    "\n",
    "```bash\n",
    "./run.sh --port 5000 --start_local_db\n",
    "```\n",
    "\n",
    "### Step 6: Create Root Owner and Login\n",
    "\n",
    "The node is currently launched in \"sleep mode\" (you can see by visiting 'http://localhost:5000/'). This means that there isn't a root user yet and you need to declare one."
   ]
  },
  {
   "cell_type": "code",
   "execution_count": 1,
   "metadata": {},
   "outputs": [],
   "source": [
    "from pathlib import Path\n",
    "import os\n",
    "cwd = Path().resolve()"
   ]
  },
  {
   "cell_type": "code",
   "execution_count": 2,
   "metadata": {},
   "outputs": [
    {
     "name": "stdout",
     "output_type": "stream",
     "text": [
      "/Users/madhavajay/dev/PySyft/packages/grid/apps/domain/src/nodedatabase.db\n"
     ]
    }
   ],
   "source": [
    "grid_relative = f\"{cwd}/../../../../../grid\"\n",
    "grid_path = Path(os.path.abspath(grid_relative))\n",
    "db_path = grid_path / \"apps/domain/src/nodedatabase.db\"\n",
    "print(db_path)"
   ]
  },
  {
   "cell_type": "code",
   "execution_count": 3,
   "metadata": {},
   "outputs": [],
   "source": [
    "import sqlite3\n",
    "cursor = sqlite3.connect(db_path).cursor()\n",
    "\n",
    "def q(msg):\n",
    "    cursor.execute(msg)\n",
    "    return cursor.fetchall()\n",
    "\n",
    "def db():\n",
    "    for table in q(\"SELECT name FROM sqlite_master WHERE type='table';\"):\n",
    "        if table[0] != \"group\":\n",
    "            res = q(\"Select * from \" + str(table[0]) + \";\")\n",
    "            if len(res) > 0:\n",
    "                print()\n",
    "                print(table[0])                \n",
    "                print(res)"
   ]
  },
  {
   "cell_type": "code",
   "execution_count": 4,
   "metadata": {},
   "outputs": [
    {
     "name": "stdout",
     "output_type": "stream",
     "text": [
      "This PyGrid domain already has an owner!\n"
     ]
    }
   ],
   "source": [
    "import syft as sy\n",
    "import torch as th\n",
    "import numpy as np\n",
    "\n",
    "# UNCOMMENT THIS FOR FIRST-TIME SETUP\n",
    "try:\n",
    "    sy.login().setup(email=\"owner@myorg.com\", password=\"owerpwd\", domain_name=\"Trask's Node\")\n",
    "except Exception as e:\n",
    "    print(\"This PyGrid domain already has an owner!\")\n",
    "\n",
    "# LOGIN AS ROOT USER\n",
    "root_domain = sy.login(email=\"owner@myorg.com\", password=\"owerpwd\")"
   ]
  },
  {
   "cell_type": "code",
   "execution_count": 5,
   "metadata": {},
   "outputs": [
    {
     "data": {
      "text/html": [
       "<div>\n",
       "<style scoped>\n",
       "    .dataframe tbody tr th:only-of-type {\n",
       "        vertical-align: middle;\n",
       "    }\n",
       "\n",
       "    .dataframe tbody tr th {\n",
       "        vertical-align: top;\n",
       "    }\n",
       "\n",
       "    .dataframe thead th {\n",
       "        text-align: right;\n",
       "    }\n",
       "</style>\n",
       "<table border=\"1\" class=\"dataframe\">\n",
       "  <thead>\n",
       "    <tr style=\"text-align: right;\">\n",
       "      <th></th>\n",
       "      <th>ID</th>\n",
       "      <th>Tags</th>\n",
       "      <th>Description</th>\n",
       "      <th>object_type</th>\n",
       "    </tr>\n",
       "  </thead>\n",
       "  <tbody>\n",
       "    <tr>\n",
       "      <th>0</th>\n",
       "      <td>&lt;UID: 1a8c13a7f11e43ff930c531acfa7a6d5&gt;</td>\n",
       "      <td>[a]</td>\n",
       "      <td></td>\n",
       "      <td>&lt;class 'syft.lib.python.Int'&gt;</td>\n",
       "    </tr>\n",
       "    <tr>\n",
       "      <th>1</th>\n",
       "      <td>&lt;UID: 244c19aadaec46bbbd047d3b9d20719d&gt;</td>\n",
       "      <td>[data]</td>\n",
       "      <td></td>\n",
       "      <td>&lt;class 'torch.Tensor'&gt;</td>\n",
       "    </tr>\n",
       "    <tr>\n",
       "      <th>2</th>\n",
       "      <td>&lt;UID: 33b15dbac58b4058ab31ac43e8431a54&gt;</td>\n",
       "      <td>[model]</td>\n",
       "      <td></td>\n",
       "      <td>&lt;class 'torch.nn.modules.linear.Linear'&gt;</td>\n",
       "    </tr>\n",
       "    <tr>\n",
       "      <th>3</th>\n",
       "      <td>&lt;UID: 608d3745f8ec4c348652541391155c84&gt;</td>\n",
       "      <td>[]</td>\n",
       "      <td></td>\n",
       "      <td>&lt;class 'torch.Tensor'&gt;</td>\n",
       "    </tr>\n",
       "    <tr>\n",
       "      <th>4</th>\n",
       "      <td>&lt;UID: 64914e74cf81412d93f818d7e6f7004f&gt;</td>\n",
       "      <td>[y]</td>\n",
       "      <td></td>\n",
       "      <td>&lt;class 'torch.Tensor'&gt;</td>\n",
       "    </tr>\n",
       "    <tr>\n",
       "      <th>5</th>\n",
       "      <td>&lt;UID: 70ea239981494b84a2561cd02146c7e9&gt;</td>\n",
       "      <td>[#xor, #inputs, #data_01.csv]</td>\n",
       "      <td></td>\n",
       "      <td>&lt;class 'torch.Tensor'&gt;</td>\n",
       "    </tr>\n",
       "    <tr>\n",
       "      <th>6</th>\n",
       "      <td>&lt;UID: ee3fd0727b0a4f1dbdcb5019edb61e16&gt;</td>\n",
       "      <td>[#xor, #targets, #data_01.csv]</td>\n",
       "      <td></td>\n",
       "      <td>&lt;class 'torch.Tensor'&gt;</td>\n",
       "    </tr>\n",
       "  </tbody>\n",
       "</table>\n",
       "</div>"
      ],
      "text/plain": [
       "[<syft.proxy.syft.lib.python.IntPointer object at 0x13f3b1ee0>, <syft.proxy.torch.TensorPointer object at 0x13f3b1ac0>, <syft.proxy.torch.nn.LinearPointer object at 0x10566f190>, <syft.proxy.torch.TensorPointer object at 0x13ec91190>, <syft.proxy.torch.TensorPointer object at 0x13ec912e0>, <syft.proxy.torch.TensorPointer object at 0x13ec914f0>, <syft.proxy.torch.TensorPointer object at 0x13ec91700>]"
      ]
     },
     "execution_count": 5,
     "metadata": {},
     "output_type": "execute_result"
    }
   ],
   "source": [
    "root_domain.store"
   ]
  },
  {
   "cell_type": "code",
   "execution_count": 6,
   "metadata": {},
   "outputs": [],
   "source": [
    "a = sy.lib.python.Int(1)\n",
    "a_ptr = a.send(root_domain, tags=[\"a\"])"
   ]
  },
  {
   "cell_type": "code",
   "execution_count": 7,
   "metadata": {},
   "outputs": [
    {
     "data": {
      "text/plain": [
       "<UID: 46fac3351be94a75842a54d80faf77fb>"
      ]
     },
     "execution_count": 7,
     "metadata": {},
     "output_type": "execute_result"
    }
   ],
   "source": [
    "a_ptr.id_at_location"
   ]
  },
  {
   "cell_type": "code",
   "execution_count": 8,
   "metadata": {},
   "outputs": [
    {
     "data": {
      "text/plain": [
       "1"
      ]
     },
     "execution_count": 8,
     "metadata": {},
     "output_type": "execute_result"
    }
   ],
   "source": [
    "a_ptr.get(delete_obj=False)"
   ]
  },
  {
   "cell_type": "code",
   "execution_count": 9,
   "metadata": {},
   "outputs": [
    {
     "name": "stdout",
     "output_type": "stream",
     "text": [
      "\n",
      "bin_object\n",
      "[('1a8c13a7-f11e-43ff-930c-531acfa7a6d5', b'\\n\\x13syft.lib.python.Int\\x12\\x16\\x08\\x01\\x12\\x12\\n\\x10\\xee1Aky\\xa6C\\xa1\\xb6\\xf4\\x9b\\x13\\xc8\\x19\\xacS', 'Int'), ('33b15dba-c58b-4058-ab31-ac43e8431a54', b'\\n$syft.wrappers.torch.nn.ModuleWrapper\\x12\\x97\\x06\\n\\x06Linear\\x1a(in_features=2, out_features=1, bias=True2\\xe2\\x05\\n6\\n\\x16syft.lib.python.String\\x12\\x1c\\n\\x06weight\\x12\\x12\\n\\x10\\xb6:O\\xeb\\xf3%N\\xbf\\x99$:\\xd2\\x18\\x1fZA\\n4\\n\\x16syft.lib.python.String\\x12\\x1a\\n\\x04bias\\x12\\x12\\n\\x10\\xf2H[#\\x1d\\x9dNu\\xac\\x02~?c\\x83\\xf0\\xff\\x12\\xcf\\x02\\n1syft.wrappers.torch.nn.parameter.ParameterWrapper\\x12\\x99\\x02\\n\\x94\\x02*\\x88\\x02\\xff\\xff\\xff\\xff\\xf8\\x00\\x00\\x00\\x14\\x00\\x00\\x00\\x00\\x00\\x00\\x00\\x0c\\x00\\x1a\\x00\\x06\\x00\\x05\\x00\\x08\\x00\\x0c\\x00\\x0c\\x00\\x00\\x00\\x00\\x04\\x04\\x00 \\x00\\x00\\x00\\x08\\x00\\x00\\x00\\x00\\x00\\x00\\x00\\x00\\x00\\x00\\x00\\x00\\x00\\x0e\\x00(\\x00\\x07\\x00\\x08\\x00\\x0c\\x00\\x10\\x00\\x14\\x00\\x0e\\x00\\x00\\x00\\x00\\x00\\x00\\x03\\x8c\\x00\\x00\\x004\\x00\\x00\\x00\\x18\\x00\\x00\\x00\\x00\\x00\\x00\\x00\\x00\\x00\\x00\\x00\\x08\\x00\\x00\\x00\\x00\\x00\\x00\\x00\\x00\\x00\\x00\\x00\\x02\\x00\\x00\\x00\\x08\\x00\\x00\\x00\\x00\\x00\\x00\\x00\\x04\\x00\\x00\\x00\\x00\\x00\\x00\\x00\\x00\\x00\\x00\\x00\\x02\\x00\\x00\\x000\\x00\\x00\\x00\\x0c\\x00\\x00\\x00\\x08\\x00\\x10\\x00\\x08\\x00\\x04\\x00\\x08\\x00\\x00\\x00\\x0c\\x00\\x00\\x00\\x02\\x00\\x00\\x00\\x00\\x00\\x00\\x00\\x00\\x00\\x00\\x00\\x00\\x00\\x00\\x00\\x08\\x00\\x14\\x00\\x08\\x00\\x04\\x00\\x08\\x00\\x00\\x00\\x10\\x00\\x00\\x00\\x01\\x00\\x00\\x00\\x00\\x00\\x00\\x00\\x00\\x00\\x00\\x00\\x00\\x00\\x00\\x00\\x00\\x00\\x06\\x00\\x08\\x00\\x06\\x00\\x06\\x00\\x00\\x00\\x00\\x00\\x01\\x00\\x00\\x00\\x00\\x00\\x00\\x00\\x00\\x00\\x00\\x00\\x00\\x00\\x00\\x00\\x00\\x00\\x00\\x00\\x00\\x00\\x00\\x00\\x00\\x00\\x00\\x00\\x00\\x00\\x00\\x00\\x00\\x00\\xe3\\xb2\\x1e?\\xc8I\\xdb=2\\x07float32\\x10\\x01\\x12\\x8b\\x02\\n1syft.wrappers.torch.nn.parameter.ParameterWrapper\\x12\\xd5\\x01\\n\\xd0\\x01*\\xc4\\x01\\xff\\xff\\xff\\xff\\xb8\\x00\\x00\\x00\\x14\\x00\\x00\\x00\\x00\\x00\\x00\\x00\\x0c\\x00\\x1a\\x00\\x06\\x00\\x05\\x00\\x08\\x00\\x0c\\x00\\x0c\\x00\\x00\\x00\\x00\\x04\\x04\\x00 \\x00\\x00\\x00\\x04\\x00\\x00\\x00\\x00\\x00\\x00\\x00\\x00\\x00\\x00\\x00\\x00\\x00\\x0e\\x00(\\x00\\x07\\x00\\x08\\x00\\x0c\\x00\\x10\\x00\\x14\\x00\\x0e\\x00\\x00\\x00\\x00\\x00\\x00\\x03\\\\\\x00\\x00\\x00(\\x00\\x00\\x00\\x18\\x00\\x00\\x00\\x00\\x00\\x00\\x00\\x00\\x00\\x00\\x00\\x04\\x00\\x00\\x00\\x00\\x00\\x00\\x00\\x00\\x00\\x00\\x00\\x01\\x00\\x00\\x00\\x04\\x00\\x00\\x00\\x00\\x00\\x00\\x00\\x01\\x00\\x00\\x00\\x0c\\x00\\x00\\x00\\x08\\x00\\x14\\x00\\x08\\x00\\x04\\x00\\x08\\x00\\x00\\x00\\x10\\x00\\x00\\x00\\x01\\x00\\x00\\x00\\x00\\x00\\x00\\x00\\x00\\x00\\x00\\x00\\x00\\x00\\x00\\x00\\x00\\x00\\x06\\x00\\x08\\x00\\x06\\x00\\x06\\x00\\x00\\x00\\x00\\x00\\x01\\x00\\x00\\x00\\x00\\x00\\x00\\x00\\x00\\x00\\x00\\x00\\x00\\x00\\x00\\x00\\x00\\x00\\x020\\xcb>2\\x07float32\\x10\\x01\\x1a\\x12\\n\\x10\\xdfg\\xfe\\xaa\\xdc3Ce\\x89\\xb6\\xf5i3j\\x98\\xdc', 'Linear'), ('608d3745-f8ec-4c34-8652-541391155c84', b'\\n!syft.wrappers.torch.TensorWrapper\\x12\\xf4\\x01\\n\\xea\\x01*\\xe0\\x01\\xff\\xff\\xff\\xff\\xb8\\x00\\x00\\x00\\x14\\x00\\x00\\x00\\x00\\x00\\x00\\x00\\x0c\\x00\\x1a\\x00\\x06\\x00\\x05\\x00\\x08\\x00\\x0c\\x00\\x0c\\x00\\x00\\x00\\x00\\x04\\x04\\x00 \\x00\\x00\\x00 \\x00\\x00\\x00\\x00\\x00\\x00\\x00\\x00\\x00\\x00\\x00\\x00\\x00\\x0e\\x00(\\x00\\x07\\x00\\x08\\x00\\x0c\\x00\\x10\\x00\\x14\\x00\\x0e\\x00\\x00\\x00\\x00\\x00\\x00\\x02`\\x00\\x00\\x00(\\x00\\x00\\x00\\x18\\x00\\x00\\x00\\x00\\x00\\x00\\x00\\x00\\x00\\x00\\x00 \\x00\\x00\\x00\\x00\\x00\\x00\\x00\\x00\\x00\\x00\\x00\\x01\\x00\\x00\\x00\\x08\\x00\\x00\\x00\\x00\\x00\\x00\\x00\\x01\\x00\\x00\\x00\\x0c\\x00\\x00\\x00\\x08\\x00\\x14\\x00\\x08\\x00\\x04\\x00\\x08\\x00\\x00\\x00\\x10\\x00\\x00\\x00\\x04\\x00\\x00\\x00\\x00\\x00\\x00\\x00\\x00\\x00\\x00\\x00\\x00\\x00\\x00\\x00\\x00\\x00\\x00\\x00\\x08\\x00\\x0c\\x00\\x08\\x00\\x07\\x00\\x08\\x00\\x00\\x00\\x00\\x00\\x00\\x01@\\x00\\x00\\x00\\x00\\x00\\x00\\x00\\x00\\x00\\x00\\x00\\x01\\x00\\x00\\x00\\x00\\x00\\x00\\x00\\x02\\x00\\x00\\x00\\x00\\x00\\x00\\x00\\x03\\x00\\x00\\x00\\x00\\x00\\x00\\x00\\x04\\x00\\x00\\x00\\x00\\x00\\x00\\x002\\x05int64\"\\x05\\n\\x03cpu', 'Tensor'), ('70ea2399-8149-4b84-a256-1cd02146c7e9', b'\\n!syft.wrappers.torch.TensorWrapper\\x12\\xb6\\x02\\n\\xac\\x02*\\xa0\\x02\\xff\\xff\\xff\\xff\\xf8\\x00\\x00\\x00\\x14\\x00\\x00\\x00\\x00\\x00\\x00\\x00\\x0c\\x00\\x1a\\x00\\x06\\x00\\x05\\x00\\x08\\x00\\x0c\\x00\\x0c\\x00\\x00\\x00\\x00\\x04\\x04\\x00 \\x00\\x00\\x00 \\x00\\x00\\x00\\x00\\x00\\x00\\x00\\x00\\x00\\x00\\x00\\x00\\x00\\x0e\\x00(\\x00\\x07\\x00\\x08\\x00\\x0c\\x00\\x10\\x00\\x14\\x00\\x0e\\x00\\x00\\x00\\x00\\x00\\x00\\x03\\x8c\\x00\\x00\\x004\\x00\\x00\\x00\\x18\\x00\\x00\\x00\\x00\\x00\\x00\\x00\\x00\\x00\\x00\\x00 \\x00\\x00\\x00\\x00\\x00\\x00\\x00\\x00\\x00\\x00\\x00\\x02\\x00\\x00\\x00\\x08\\x00\\x00\\x00\\x00\\x00\\x00\\x00\\x04\\x00\\x00\\x00\\x00\\x00\\x00\\x00\\x00\\x00\\x00\\x00\\x02\\x00\\x00\\x000\\x00\\x00\\x00\\x0c\\x00\\x00\\x00\\x08\\x00\\x10\\x00\\x08\\x00\\x04\\x00\\x08\\x00\\x00\\x00\\x0c\\x00\\x00\\x00\\x02\\x00\\x00\\x00\\x00\\x00\\x00\\x00\\x00\\x00\\x00\\x00\\x00\\x00\\x00\\x00\\x08\\x00\\x14\\x00\\x08\\x00\\x04\\x00\\x08\\x00\\x00\\x00\\x10\\x00\\x00\\x00\\x04\\x00\\x00\\x00\\x00\\x00\\x00\\x00\\x00\\x00\\x00\\x00\\x00\\x00\\x00\\x00\\x00\\x00\\x06\\x00\\x08\\x00\\x06\\x00\\x06\\x00\\x00\\x00\\x00\\x00\\x01\\x00\\x00\\x00\\x00\\x00\\x00\\x00\\x00\\x00\\x00\\x00\\x00\\x00\\x00\\x00\\x00\\x00\\x00\\x00\\x00\\x00\\x00\\x00\\x00\\x00\\x00\\x00\\x00\\x00\\x00\\x00\\x00\\x00\\x00\\x00\\x00\\x00\\x00\\x00\\x00\\x00\\x00\\x00\\x00\\x00\\x00\\x00\\x80?\\x00\\x00\\x80?\\x00\\x00\\x00\\x00\\x00\\x00\\x80?\\x00\\x00\\x80?2\\x07float32\"\\x05\\n\\x03cpu', 'Tensor'), ('ee3fd072-7b0a-4f1d-bdcb-5019edb61e16', b'\\n!syft.wrappers.torch.TensorWrapper\\x12\\xa6\\x02\\n\\x9c\\x02*\\x90\\x02\\xff\\xff\\xff\\xff\\xf8\\x00\\x00\\x00\\x14\\x00\\x00\\x00\\x00\\x00\\x00\\x00\\x0c\\x00\\x1a\\x00\\x06\\x00\\x05\\x00\\x08\\x00\\x0c\\x00\\x0c\\x00\\x00\\x00\\x00\\x04\\x04\\x00 \\x00\\x00\\x00\\x10\\x00\\x00\\x00\\x00\\x00\\x00\\x00\\x00\\x00\\x00\\x00\\x00\\x00\\x0e\\x00(\\x00\\x07\\x00\\x08\\x00\\x0c\\x00\\x10\\x00\\x14\\x00\\x0e\\x00\\x00\\x00\\x00\\x00\\x00\\x03\\x8c\\x00\\x00\\x004\\x00\\x00\\x00\\x18\\x00\\x00\\x00\\x00\\x00\\x00\\x00\\x00\\x00\\x00\\x00\\x10\\x00\\x00\\x00\\x00\\x00\\x00\\x00\\x00\\x00\\x00\\x00\\x02\\x00\\x00\\x00\\x04\\x00\\x00\\x00\\x00\\x00\\x00\\x00\\x04\\x00\\x00\\x00\\x00\\x00\\x00\\x00\\x00\\x00\\x00\\x00\\x02\\x00\\x00\\x000\\x00\\x00\\x00\\x0c\\x00\\x00\\x00\\x08\\x00\\x10\\x00\\x08\\x00\\x04\\x00\\x08\\x00\\x00\\x00\\x0c\\x00\\x00\\x00\\x01\\x00\\x00\\x00\\x00\\x00\\x00\\x00\\x00\\x00\\x00\\x00\\x00\\x00\\x00\\x00\\x08\\x00\\x14\\x00\\x08\\x00\\x04\\x00\\x08\\x00\\x00\\x00\\x10\\x00\\x00\\x00\\x04\\x00\\x00\\x00\\x00\\x00\\x00\\x00\\x00\\x00\\x00\\x00\\x00\\x00\\x00\\x00\\x00\\x00\\x06\\x00\\x08\\x00\\x06\\x00\\x06\\x00\\x00\\x00\\x00\\x00\\x01\\x00\\x00\\x00\\x00\\x00\\x00\\x00\\x00\\x00\\x00\\x00\\x00\\x00\\x00\\x00\\x00\\x00\\x00\\x00\\x00\\x00\\x00\\x00\\x00\\x00\\x00\\x00\\x00\\x00\\x00\\x00\\x00\\x00\\x00\\x00\\x00\\x00\\x00\\x00\\x80?\\x00\\x00\\x80?\\x00\\x00\\x00\\x002\\x07float32\"\\x05\\n\\x03cpu', 'Tensor'), ('64914e74-cf81-412d-93f8-18d7e6f7004f', b'\\n!syft.wrappers.torch.TensorWrapper\\x12\\xb0\\x02\\n\\xa4\\x02*\\x98\\x02\\xff\\xff\\xff\\xff\\xf8\\x00\\x00\\x00\\x14\\x00\\x00\\x00\\x00\\x00\\x00\\x00\\x0c\\x00\\x1a\\x00\\x06\\x00\\x05\\x00\\x08\\x00\\x0c\\x00\\x0c\\x00\\x00\\x00\\x00\\x04\\x04\\x00 \\x00\\x00\\x00\\x18\\x00\\x00\\x00\\x00\\x00\\x00\\x00\\x00\\x00\\x00\\x00\\x00\\x00\\x0e\\x00(\\x00\\x07\\x00\\x08\\x00\\x0c\\x00\\x10\\x00\\x14\\x00\\x0e\\x00\\x00\\x00\\x00\\x00\\x00\\x03\\x8c\\x00\\x00\\x004\\x00\\x00\\x00\\x18\\x00\\x00\\x00\\x00\\x00\\x00\\x00\\x00\\x00\\x00\\x00\\x18\\x00\\x00\\x00\\x00\\x00\\x00\\x00\\x00\\x00\\x00\\x00\\x02\\x00\\x00\\x00\\x04\\x00\\x00\\x00\\x00\\x00\\x00\\x00\\x04\\x00\\x00\\x00\\x00\\x00\\x00\\x00\\x00\\x00\\x00\\x00\\x02\\x00\\x00\\x000\\x00\\x00\\x00\\x0c\\x00\\x00\\x00\\x08\\x00\\x10\\x00\\x08\\x00\\x04\\x00\\x08\\x00\\x00\\x00\\x0c\\x00\\x00\\x00\\x01\\x00\\x00\\x00\\x00\\x00\\x00\\x00\\x00\\x00\\x00\\x00\\x00\\x00\\x00\\x00\\x08\\x00\\x14\\x00\\x08\\x00\\x04\\x00\\x08\\x00\\x00\\x00\\x10\\x00\\x00\\x00\\x06\\x00\\x00\\x00\\x00\\x00\\x00\\x00\\x00\\x00\\x00\\x00\\x00\\x00\\x00\\x00\\x00\\x00\\x06\\x00\\x08\\x00\\x06\\x00\\x06\\x00\\x00\\x00\\x00\\x00\\x01\\x00\\x00\\x00\\x00\\x00\\x00\\x00\\x00\\x00\\x00\\x00\\x00\\x00\\x00\\x00\\x00\\x00\\x00\\x00\\x00\\x00\\x00\\x00\\x00\\x00\\x00\\x00\\x00\\x00\\x00\\x00\\x00\\x00*\\x9f\\xb8>*\\x9f\\xb8>*\\x9f\\xb8>*\\x9f\\xb8>*\\x9f\\xb8>*\\x9f\\xb8>2\\x07float32\\x10\\x01\"\\x05\\n\\x03cpu', 'Tensor'), ('244c19aa-daec-46bb-bd04-7d3b9d20719d', b'\\n!syft.wrappers.torch.TensorWrapper\\x12\\xc6\\x02\\n\\xbc\\x02*\\xb0\\x02\\xff\\xff\\xff\\xff\\xf8\\x00\\x00\\x00\\x14\\x00\\x00\\x00\\x00\\x00\\x00\\x00\\x0c\\x00\\x1a\\x00\\x06\\x00\\x05\\x00\\x08\\x00\\x0c\\x00\\x0c\\x00\\x00\\x00\\x00\\x04\\x04\\x00 \\x00\\x00\\x000\\x00\\x00\\x00\\x00\\x00\\x00\\x00\\x00\\x00\\x00\\x00\\x00\\x00\\x0e\\x00(\\x00\\x07\\x00\\x08\\x00\\x0c\\x00\\x10\\x00\\x14\\x00\\x0e\\x00\\x00\\x00\\x00\\x00\\x00\\x03\\x8c\\x00\\x00\\x004\\x00\\x00\\x00\\x18\\x00\\x00\\x00\\x00\\x00\\x00\\x00\\x00\\x00\\x00\\x000\\x00\\x00\\x00\\x00\\x00\\x00\\x00\\x00\\x00\\x00\\x00\\x02\\x00\\x00\\x00\\x08\\x00\\x00\\x00\\x00\\x00\\x00\\x00\\x04\\x00\\x00\\x00\\x00\\x00\\x00\\x00\\x00\\x00\\x00\\x00\\x02\\x00\\x00\\x000\\x00\\x00\\x00\\x0c\\x00\\x00\\x00\\x08\\x00\\x10\\x00\\x08\\x00\\x04\\x00\\x08\\x00\\x00\\x00\\x0c\\x00\\x00\\x00\\x02\\x00\\x00\\x00\\x00\\x00\\x00\\x00\\x00\\x00\\x00\\x00\\x00\\x00\\x00\\x00\\x08\\x00\\x14\\x00\\x08\\x00\\x04\\x00\\x08\\x00\\x00\\x00\\x10\\x00\\x00\\x00\\x06\\x00\\x00\\x00\\x00\\x00\\x00\\x00\\x00\\x00\\x00\\x00\\x00\\x00\\x00\\x00\\x00\\x00\\x06\\x00\\x08\\x00\\x06\\x00\\x06\\x00\\x00\\x00\\x00\\x00\\x01\\x00\\x00\\x00\\x00\\x00\\x00\\x00\\x00\\x00\\x00\\x00\\x00\\x00\\x00\\x00\\x00\\x00\\x00\\x00\\x00\\x00\\x00\\x00\\x00\\x00\\x00\\x00\\x00\\x00\\x00\\x00\\x00\\x00\\x00\\x00\\x00\\x00\\x00\\x00\\x00\\x00\\x00\\x00\\x00\\x00\\x00\\x00\\x00\\x00\\x00\\x00\\x00\\x00\\x00\\x00\\x00\\x00\\x00\\x00\\x00\\x00\\x00\\x00\\x00\\x00\\x00\\x00\\x00\\x00\\x00\\x00\\x00\\x00\\x00\\x00\\x00\\x00\\x00\\x00\\x00\\x002\\x07float32\"\\x05\\n\\x03cpu', 'Tensor'), ('46fac335-1be9-4a75-842a-54d80faf77fb', b'\\n\\x13syft.lib.python.Int\\x12\\x16\\x08\\x01\\x12\\x12\\n\\x10\\xceG^\\x04\\xac\\x89@\\xaf\\x80_\\x8c0\\xa3[N\\xb5', 'Int')]\n",
      "\n",
      "dataset\n",
      "[('c726fe8d-c7ed-494c-99c5-e613109776fd', 'XOR dataset inputs', 'XOR dataset inputs', '[\"#xor\", \"#inputs\"]'), ('06d35eeb-0cae-4c8e-9bca-8437b1ad8350', 'XOR dataset targets', 'XOR dataset targets', '[\"#xor\", \"#targets\"]')]\n",
      "\n",
      "role\n",
      "[(1, 'User', 0, 0, 0, 0, 0, 0, 0), (2, 'Compliance Officer', 1, 0, 0, 0, 0, 0, 0), (3, 'Administrator', 1, 1, 1, 1, 0, 0, 1), (4, 'Owner', 1, 1, 1, 1, 1, 1, 1)]\n",
      "\n",
      "setup\n",
      "[(1, \"Trask's Node\", '', '', '', '', '', 0, 0, 0, 0)]\n",
      "\n",
      "obj_metadata\n",
      "[(1, '1a8c13a7-f11e-43ff-930c-531acfa7a6d5', '[\"a\"]', '', '{\"a0dae1eba2ac6469f2992e44412a90661131ef575155a938180ea271b1e87175\": null}', '{}'), (2, '33b15dba-c58b-4058-ab31-ac43e8431a54', '[\"model\"]', '', '{\"a0dae1eba2ac6469f2992e44412a90661131ef575155a938180ea271b1e87175\": null}', '{}'), (3, '608d3745-f8ec-4c34-8652-541391155c84', '[]', '', '{\"a0dae1eba2ac6469f2992e44412a90661131ef575155a938180ea271b1e87175\": null}', '{}'), (4, '70ea2399-8149-4b84-a256-1cd02146c7e9', '[\"#xor\", \"#inputs\", \"#data_01.csv\"]', '', '{\"a0dae1eba2ac6469f2992e44412a90661131ef575155a938180ea271b1e87175\": null}', '{}'), (5, 'ee3fd072-7b0a-4f1d-bdcb-5019edb61e16', '[\"#xor\", \"#targets\", \"#data_01.csv\"]', '', '{\"a0dae1eba2ac6469f2992e44412a90661131ef575155a938180ea271b1e87175\": null}', '{}'), (6, '64914e74-cf81-412d-93f8-18d7e6f7004f', '[\"y\"]', '', '{\"a0dae1eba2ac6469f2992e44412a90661131ef575155a938180ea271b1e87175\": null}', '{}'), (7, '244c19aa-daec-46bb-bd04-7d3b9d20719d', '[\"data\"]', '', '{\"a0dae1eba2ac6469f2992e44412a90661131ef575155a938180ea271b1e87175\": null, \"915520156fdd566da28fda6ef2f1c8208009695de63fa70e4c4e6932f48aac1b\": null}', '{}'), (8, '46fac335-1be9-4a75-842a-54d80faf77fb', '[\"a\"]', '', '{\"a0dae1eba2ac6469f2992e44412a90661131ef575155a938180ea271b1e87175\": null}', '{}')]\n",
      "\n",
      "bin_obj_dataset\n",
      "[(1, 'tmp/data_01.csv', '70ea2399-8149-4b84-a256-1cd02146c7e9', 'c726fe8d-c7ed-494c-99c5-e613109776fd', 'Tensor', '(4, 2)'), (2, 'tmp/data_01.csv', 'ee3fd072-7b0a-4f1d-bdcb-5019edb61e16', '06d35eeb-0cae-4c8e-9bca-8437b1ad8350', 'Tensor', '(4, 1)')]\n",
      "\n",
      "user\n",
      "[(1, 'owner@myorg.com', 'hIrqgKWEWN2THzThhszg/r/RySmvneG', '$2b$12$tkJtdWAphb30vvurpi.k.e', '9c7700cd631502f0a071be9028b21bb73dba1ab838a2db3270537327831d6b8f', 'a0dae1eba2ac6469f2992e44412a90661131ef575155a938180ea271b1e87175', 4), (2, 'compliance@myorg.com', '6ujEdN26Bo7WkRxdT2Z7TQUm1BkV8Kq', '$2b$12$FnXwtt2zBL/yiNQfiGwf1O', 'e33ea8ea9c367acf7c92c908cfeb25cb5b9e8b2c22e18d658d9a9a768b8ba9c3', '2c38ad2413731c24c565108ee83b96784a8d269fbdbee958059334c2205980ec', 2), (3, 'scientist6@researchorg.edu', 'KIyZIWSKM4n5CfhZLloEZXnBCfNxncq', '$2b$12$lUCdO2WQLZQbQqMdpOs5du', '63f62256c8df3f7abc3ff04e9a7032083983dc2d2a5fa550926eb65de5a2de3e', '915520156fdd566da28fda6ef2f1c8208009695de63fa70e4c4e6932f48aac1b', 1)]\n"
     ]
    }
   ],
   "source": [
    "db()"
   ]
  },
  {
   "cell_type": "code",
   "execution_count": 10,
   "metadata": {},
   "outputs": [],
   "source": [
    "try:\n",
    "    # if model exists skip\n",
    "    root_domain.store[\"model\"]\n",
    "except Exception as e:\n",
    "    if \"More than one\" not in str(e):\n",
    "        # model doesnt exist so make it\n",
    "        model = th.nn.Linear(2,1)\n",
    "        model_ptr = model.send(root_domain, tags=[\"model\"])"
   ]
  },
  {
   "cell_type": "code",
   "execution_count": 11,
   "metadata": {},
   "outputs": [
    {
     "data": {
      "text/html": [
       "<div>\n",
       "<style scoped>\n",
       "    .dataframe tbody tr th:only-of-type {\n",
       "        vertical-align: middle;\n",
       "    }\n",
       "\n",
       "    .dataframe tbody tr th {\n",
       "        vertical-align: top;\n",
       "    }\n",
       "\n",
       "    .dataframe thead th {\n",
       "        text-align: right;\n",
       "    }\n",
       "</style>\n",
       "<table border=\"1\" class=\"dataframe\">\n",
       "  <thead>\n",
       "    <tr style=\"text-align: right;\">\n",
       "      <th></th>\n",
       "      <th>ID</th>\n",
       "      <th>Tags</th>\n",
       "      <th>Description</th>\n",
       "      <th>object_type</th>\n",
       "    </tr>\n",
       "  </thead>\n",
       "  <tbody>\n",
       "    <tr>\n",
       "      <th>0</th>\n",
       "      <td>&lt;UID: 1a8c13a7f11e43ff930c531acfa7a6d5&gt;</td>\n",
       "      <td>[a]</td>\n",
       "      <td></td>\n",
       "      <td>&lt;class 'syft.lib.python.Int'&gt;</td>\n",
       "    </tr>\n",
       "    <tr>\n",
       "      <th>1</th>\n",
       "      <td>&lt;UID: 244c19aadaec46bbbd047d3b9d20719d&gt;</td>\n",
       "      <td>[data]</td>\n",
       "      <td></td>\n",
       "      <td>&lt;class 'torch.Tensor'&gt;</td>\n",
       "    </tr>\n",
       "    <tr>\n",
       "      <th>2</th>\n",
       "      <td>&lt;UID: 33b15dbac58b4058ab31ac43e8431a54&gt;</td>\n",
       "      <td>[model]</td>\n",
       "      <td></td>\n",
       "      <td>&lt;class 'torch.nn.modules.linear.Linear'&gt;</td>\n",
       "    </tr>\n",
       "    <tr>\n",
       "      <th>3</th>\n",
       "      <td>&lt;UID: 46fac3351be94a75842a54d80faf77fb&gt;</td>\n",
       "      <td>[a]</td>\n",
       "      <td></td>\n",
       "      <td>&lt;class 'syft.lib.python.Int'&gt;</td>\n",
       "    </tr>\n",
       "    <tr>\n",
       "      <th>4</th>\n",
       "      <td>&lt;UID: 608d3745f8ec4c348652541391155c84&gt;</td>\n",
       "      <td>[]</td>\n",
       "      <td></td>\n",
       "      <td>&lt;class 'torch.Tensor'&gt;</td>\n",
       "    </tr>\n",
       "    <tr>\n",
       "      <th>5</th>\n",
       "      <td>&lt;UID: 64914e74cf81412d93f818d7e6f7004f&gt;</td>\n",
       "      <td>[y]</td>\n",
       "      <td></td>\n",
       "      <td>&lt;class 'torch.Tensor'&gt;</td>\n",
       "    </tr>\n",
       "    <tr>\n",
       "      <th>6</th>\n",
       "      <td>&lt;UID: 70ea239981494b84a2561cd02146c7e9&gt;</td>\n",
       "      <td>[#xor, #inputs, #data_01.csv]</td>\n",
       "      <td></td>\n",
       "      <td>&lt;class 'torch.Tensor'&gt;</td>\n",
       "    </tr>\n",
       "    <tr>\n",
       "      <th>7</th>\n",
       "      <td>&lt;UID: ee3fd0727b0a4f1dbdcb5019edb61e16&gt;</td>\n",
       "      <td>[#xor, #targets, #data_01.csv]</td>\n",
       "      <td></td>\n",
       "      <td>&lt;class 'torch.Tensor'&gt;</td>\n",
       "    </tr>\n",
       "  </tbody>\n",
       "</table>\n",
       "</div>"
      ],
      "text/plain": [
       "[<syft.proxy.syft.lib.python.IntPointer object at 0x13f228a90>, <syft.proxy.torch.TensorPointer object at 0x13f228670>, <syft.proxy.torch.nn.LinearPointer object at 0x13f228400>, <syft.proxy.syft.lib.python.IntPointer object at 0x13f228e50>, <syft.proxy.torch.TensorPointer object at 0x13eca5f40>, <syft.proxy.torch.TensorPointer object at 0x13f22b0a0>, <syft.proxy.torch.TensorPointer object at 0x13f22b250>, <syft.proxy.torch.TensorPointer object at 0x13f22b460>]"
      ]
     },
     "execution_count": 11,
     "metadata": {},
     "output_type": "execute_result"
    }
   ],
   "source": [
    "root_domain.store"
   ]
  },
  {
   "cell_type": "code",
   "execution_count": 12,
   "metadata": {},
   "outputs": [
    {
     "name": "stderr",
     "output_type": "stream",
     "text": [
      "[2021-06-15T16:25:10.478615+1000][CRITICAL][logger]][77687] UnknownPrivateException has been triggered.\n"
     ]
    },
    {
     "name": "stdout",
     "output_type": "stream",
     "text": [
      "Compliance Officer already created.\n"
     ]
    }
   ],
   "source": [
    "try:\n",
    "    root_domain.users.create(\n",
    "        email=\"compliance@myorg.com\", password=\"pwd123\", role=\"Compliance Officer\"\n",
    "    )\n",
    "except Exception as e:\n",
    "    print(\"Compliance Officer already created.\")"
   ]
  },
  {
   "cell_type": "code",
   "execution_count": 13,
   "metadata": {},
   "outputs": [
    {
     "data": {
      "text/html": [
       "<div>\n",
       "<style scoped>\n",
       "    .dataframe tbody tr th:only-of-type {\n",
       "        vertical-align: middle;\n",
       "    }\n",
       "\n",
       "    .dataframe tbody tr th {\n",
       "        vertical-align: top;\n",
       "    }\n",
       "\n",
       "    .dataframe thead th {\n",
       "        text-align: right;\n",
       "    }\n",
       "</style>\n",
       "<table border=\"1\" class=\"dataframe\">\n",
       "  <thead>\n",
       "    <tr style=\"text-align: right;\">\n",
       "      <th></th>\n",
       "      <th>ID</th>\n",
       "      <th>Tags</th>\n",
       "      <th>Description</th>\n",
       "      <th>object_type</th>\n",
       "    </tr>\n",
       "  </thead>\n",
       "  <tbody>\n",
       "    <tr>\n",
       "      <th>0</th>\n",
       "      <td>&lt;UID: 1a8c13a7f11e43ff930c531acfa7a6d5&gt;</td>\n",
       "      <td>[a]</td>\n",
       "      <td></td>\n",
       "      <td>&lt;class 'syft.lib.python.Int'&gt;</td>\n",
       "    </tr>\n",
       "    <tr>\n",
       "      <th>1</th>\n",
       "      <td>&lt;UID: 244c19aadaec46bbbd047d3b9d20719d&gt;</td>\n",
       "      <td>[data]</td>\n",
       "      <td></td>\n",
       "      <td>&lt;class 'torch.Tensor'&gt;</td>\n",
       "    </tr>\n",
       "    <tr>\n",
       "      <th>2</th>\n",
       "      <td>&lt;UID: 33b15dbac58b4058ab31ac43e8431a54&gt;</td>\n",
       "      <td>[model]</td>\n",
       "      <td></td>\n",
       "      <td>&lt;class 'torch.nn.modules.linear.Linear'&gt;</td>\n",
       "    </tr>\n",
       "    <tr>\n",
       "      <th>3</th>\n",
       "      <td>&lt;UID: 46fac3351be94a75842a54d80faf77fb&gt;</td>\n",
       "      <td>[a]</td>\n",
       "      <td></td>\n",
       "      <td>&lt;class 'syft.lib.python.Int'&gt;</td>\n",
       "    </tr>\n",
       "    <tr>\n",
       "      <th>4</th>\n",
       "      <td>&lt;UID: 608d3745f8ec4c348652541391155c84&gt;</td>\n",
       "      <td>[]</td>\n",
       "      <td></td>\n",
       "      <td>&lt;class 'torch.Tensor'&gt;</td>\n",
       "    </tr>\n",
       "    <tr>\n",
       "      <th>5</th>\n",
       "      <td>&lt;UID: 64914e74cf81412d93f818d7e6f7004f&gt;</td>\n",
       "      <td>[y]</td>\n",
       "      <td></td>\n",
       "      <td>&lt;class 'torch.Tensor'&gt;</td>\n",
       "    </tr>\n",
       "    <tr>\n",
       "      <th>6</th>\n",
       "      <td>&lt;UID: 70ea239981494b84a2561cd02146c7e9&gt;</td>\n",
       "      <td>[#xor, #inputs, #data_01.csv]</td>\n",
       "      <td></td>\n",
       "      <td>&lt;class 'torch.Tensor'&gt;</td>\n",
       "    </tr>\n",
       "    <tr>\n",
       "      <th>7</th>\n",
       "      <td>&lt;UID: ee3fd0727b0a4f1dbdcb5019edb61e16&gt;</td>\n",
       "      <td>[#xor, #targets, #data_01.csv]</td>\n",
       "      <td></td>\n",
       "      <td>&lt;class 'torch.Tensor'&gt;</td>\n",
       "    </tr>\n",
       "  </tbody>\n",
       "</table>\n",
       "</div>"
      ],
      "text/plain": [
       "[<syft.proxy.syft.lib.python.IntPointer object at 0x13f228370>, <syft.proxy.torch.TensorPointer object at 0x13f230040>, <syft.proxy.torch.nn.LinearPointer object at 0x13f2301c0>, <syft.proxy.syft.lib.python.IntPointer object at 0x13f230430>, <syft.proxy.torch.TensorPointer object at 0x13f230640>, <syft.proxy.torch.TensorPointer object at 0x13f230850>, <syft.proxy.torch.TensorPointer object at 0x13f230a60>, <syft.proxy.torch.TensorPointer object at 0x13f230c70>]"
      ]
     },
     "execution_count": 13,
     "metadata": {},
     "output_type": "execute_result"
    }
   ],
   "source": [
    "root_domain.store"
   ]
  },
  {
   "cell_type": "code",
   "execution_count": 14,
   "metadata": {},
   "outputs": [],
   "source": [
    "# db()"
   ]
  },
  {
   "cell_type": "code",
   "execution_count": 15,
   "metadata": {},
   "outputs": [],
   "source": [
    "# model_ptr.get()"
   ]
  },
  {
   "cell_type": "code",
   "execution_count": 16,
   "metadata": {},
   "outputs": [],
   "source": [
    "# db()"
   ]
  },
  {
   "cell_type": "code",
   "execution_count": 17,
   "metadata": {},
   "outputs": [],
   "source": [
    "# root_domain.store"
   ]
  },
  {
   "cell_type": "code",
   "execution_count": 18,
   "metadata": {},
   "outputs": [],
   "source": [
    "# root_domain.datasets"
   ]
  },
  {
   "cell_type": "markdown",
   "metadata": {},
   "source": [
    "# Create and Upload a Few Datasets\n",
    "\n",
    "We can add datasets to the Domain using our root-user login. Note that unless you've done something special no other user is able to add datasets by default."
   ]
  },
  {
   "cell_type": "code",
   "execution_count": 19,
   "metadata": {},
   "outputs": [],
   "source": [
    "x = th.tensor([1,2,3,4]).send(root_domain)"
   ]
  },
  {
   "cell_type": "code",
   "execution_count": 20,
   "metadata": {},
   "outputs": [],
   "source": [
    "# db()"
   ]
  },
  {
   "cell_type": "code",
   "execution_count": 21,
   "metadata": {},
   "outputs": [],
   "source": [
    "xor_inputs = np.array([[0,0],\n",
    "                       [0,1],\n",
    "                       [1,0],\n",
    "                       [1,1]])\n",
    "\n",
    "xor_input_dataset = root_domain.upload_dataset(data=xor_inputs, \n",
    "                                          description=\"XOR dataset inputs\", \n",
    "                                          tags=['#xor', '#inputs'])\n",
    "\n",
    "xor_targets = np.array([[0],\n",
    "                       [1],\n",
    "                       [1],\n",
    "                       [0]])\n",
    "\n",
    "xor_target_dataset = root_domain.upload_dataset(data=xor_targets, \n",
    "                                          description=\"XOR dataset targets\", \n",
    "                                          tags=['#xor', '#targets'])"
   ]
  },
  {
   "cell_type": "code",
   "execution_count": 22,
   "metadata": {},
   "outputs": [
    {
     "data": {
      "text/html": [
       "<div>\n",
       "<style scoped>\n",
       "    .dataframe tbody tr th:only-of-type {\n",
       "        vertical-align: middle;\n",
       "    }\n",
       "\n",
       "    .dataframe tbody tr th {\n",
       "        vertical-align: top;\n",
       "    }\n",
       "\n",
       "    .dataframe thead th {\n",
       "        text-align: right;\n",
       "    }\n",
       "</style>\n",
       "<table border=\"1\" class=\"dataframe\">\n",
       "  <thead>\n",
       "    <tr style=\"text-align: right;\">\n",
       "      <th></th>\n",
       "      <th>id</th>\n",
       "      <th>manifest</th>\n",
       "      <th>description</th>\n",
       "      <th>tags</th>\n",
       "      <th>data</th>\n",
       "    </tr>\n",
       "  </thead>\n",
       "  <tbody>\n",
       "    <tr>\n",
       "      <th>0</th>\n",
       "      <td>c726fe8d-c7ed-494c-99c5-e613109776fd</td>\n",
       "      <td>XOR dataset inputs</td>\n",
       "      <td>XOR dataset inputs</td>\n",
       "      <td>[#xor, #inputs]</td>\n",
       "      <td>[{'name': 'tmp/data_01.csv', 'id': '70ea2399-8...</td>\n",
       "    </tr>\n",
       "    <tr>\n",
       "      <th>1</th>\n",
       "      <td>06d35eeb-0cae-4c8e-9bca-8437b1ad8350</td>\n",
       "      <td>XOR dataset targets</td>\n",
       "      <td>XOR dataset targets</td>\n",
       "      <td>[#xor, #targets]</td>\n",
       "      <td>[{'name': 'tmp/data_01.csv', 'id': 'ee3fd072-7...</td>\n",
       "    </tr>\n",
       "    <tr>\n",
       "      <th>2</th>\n",
       "      <td>ac124d65-306e-49cf-803f-202103a7f8f1</td>\n",
       "      <td>XOR dataset inputs</td>\n",
       "      <td>XOR dataset inputs</td>\n",
       "      <td>[#xor, #inputs]</td>\n",
       "      <td>[{'name': 'tmp/data_01.csv', 'id': 'b64665ec-5...</td>\n",
       "    </tr>\n",
       "    <tr>\n",
       "      <th>3</th>\n",
       "      <td>9b533c42-fa15-4e85-a3ba-a064fc9bd162</td>\n",
       "      <td>XOR dataset targets</td>\n",
       "      <td>XOR dataset targets</td>\n",
       "      <td>[#xor, #targets]</td>\n",
       "      <td>[{'name': 'tmp/data_01.csv', 'id': '6dea71a8-6...</td>\n",
       "    </tr>\n",
       "  </tbody>\n",
       "</table>\n",
       "</div>"
      ],
      "text/plain": [
       "<syft.grid.client.request_api.dataset_api.DatasetRequestAPI at 0x13f2d5fd0>"
      ]
     },
     "execution_count": 22,
     "metadata": {},
     "output_type": "execute_result"
    }
   ],
   "source": [
    "root_domain.datasets"
   ]
  },
  {
   "cell_type": "markdown",
   "metadata": {},
   "source": [
    "# Create a Data Compliance Officer\n",
    "\n",
    "Eventually a Data Scientist is going to need some management, particularly when they want to download their statistical results. While this doesn't always need manual review, sometimes it does and it's important we create a user who is capable of reviewing and approving data access requests."
   ]
  },
  {
   "cell_type": "code",
   "execution_count": 23,
   "metadata": {},
   "outputs": [
    {
     "data": {
      "text/html": [
       "<div>\n",
       "<style scoped>\n",
       "    .dataframe tbody tr th:only-of-type {\n",
       "        vertical-align: middle;\n",
       "    }\n",
       "\n",
       "    .dataframe tbody tr th {\n",
       "        vertical-align: top;\n",
       "    }\n",
       "\n",
       "    .dataframe thead th {\n",
       "        text-align: right;\n",
       "    }\n",
       "</style>\n",
       "<table border=\"1\" class=\"dataframe\">\n",
       "  <thead>\n",
       "    <tr style=\"text-align: right;\">\n",
       "      <th></th>\n",
       "      <th>id</th>\n",
       "      <th>name</th>\n",
       "      <th>can_triage_requests</th>\n",
       "      <th>can_edit_settings</th>\n",
       "      <th>can_create_users</th>\n",
       "      <th>can_create_groups</th>\n",
       "      <th>can_edit_roles</th>\n",
       "      <th>can_manage_infrastructure</th>\n",
       "      <th>can_upload_data</th>\n",
       "    </tr>\n",
       "  </thead>\n",
       "  <tbody>\n",
       "    <tr>\n",
       "      <th>0</th>\n",
       "      <td>1</td>\n",
       "      <td>User</td>\n",
       "      <td>False</td>\n",
       "      <td>False</td>\n",
       "      <td>False</td>\n",
       "      <td>False</td>\n",
       "      <td>False</td>\n",
       "      <td>False</td>\n",
       "      <td>False</td>\n",
       "    </tr>\n",
       "    <tr>\n",
       "      <th>1</th>\n",
       "      <td>2</td>\n",
       "      <td>Compliance Officer</td>\n",
       "      <td>True</td>\n",
       "      <td>False</td>\n",
       "      <td>False</td>\n",
       "      <td>False</td>\n",
       "      <td>False</td>\n",
       "      <td>False</td>\n",
       "      <td>False</td>\n",
       "    </tr>\n",
       "    <tr>\n",
       "      <th>2</th>\n",
       "      <td>3</td>\n",
       "      <td>Administrator</td>\n",
       "      <td>True</td>\n",
       "      <td>True</td>\n",
       "      <td>True</td>\n",
       "      <td>True</td>\n",
       "      <td>False</td>\n",
       "      <td>False</td>\n",
       "      <td>True</td>\n",
       "    </tr>\n",
       "    <tr>\n",
       "      <th>3</th>\n",
       "      <td>4</td>\n",
       "      <td>Owner</td>\n",
       "      <td>True</td>\n",
       "      <td>True</td>\n",
       "      <td>True</td>\n",
       "      <td>True</td>\n",
       "      <td>True</td>\n",
       "      <td>True</td>\n",
       "      <td>True</td>\n",
       "    </tr>\n",
       "  </tbody>\n",
       "</table>\n",
       "</div>"
      ],
      "text/plain": [
       "<syft.grid.client.request_api.role_api.RoleRequestAPI at 0x13f2d5f10>"
      ]
     },
     "execution_count": 23,
     "metadata": {},
     "output_type": "execute_result"
    }
   ],
   "source": [
    "root_domain.roles"
   ]
  },
  {
   "cell_type": "code",
   "execution_count": 24,
   "metadata": {},
   "outputs": [
    {
     "data": {
      "text/html": [
       "<div>\n",
       "<style scoped>\n",
       "    .dataframe tbody tr th:only-of-type {\n",
       "        vertical-align: middle;\n",
       "    }\n",
       "\n",
       "    .dataframe tbody tr th {\n",
       "        vertical-align: top;\n",
       "    }\n",
       "\n",
       "    .dataframe thead th {\n",
       "        text-align: right;\n",
       "    }\n",
       "</style>\n",
       "<table border=\"1\" class=\"dataframe\">\n",
       "  <thead>\n",
       "    <tr style=\"text-align: right;\">\n",
       "      <th></th>\n",
       "      <th>id</th>\n",
       "      <th>email</th>\n",
       "      <th>private_key</th>\n",
       "      <th>verify_key</th>\n",
       "      <th>role</th>\n",
       "      <th>groups</th>\n",
       "    </tr>\n",
       "  </thead>\n",
       "  <tbody>\n",
       "    <tr>\n",
       "      <th>0</th>\n",
       "      <td>1</td>\n",
       "      <td>owner@myorg.com</td>\n",
       "      <td>9c7700cd631502f0a071be9028b21bb73dba1ab838a2db...</td>\n",
       "      <td>a0dae1eba2ac6469f2992e44412a90661131ef575155a9...</td>\n",
       "      <td>4</td>\n",
       "      <td>[]</td>\n",
       "    </tr>\n",
       "    <tr>\n",
       "      <th>1</th>\n",
       "      <td>2</td>\n",
       "      <td>compliance@myorg.com</td>\n",
       "      <td>e33ea8ea9c367acf7c92c908cfeb25cb5b9e8b2c22e18d...</td>\n",
       "      <td>2c38ad2413731c24c565108ee83b96784a8d269fbdbee9...</td>\n",
       "      <td>2</td>\n",
       "      <td>[]</td>\n",
       "    </tr>\n",
       "    <tr>\n",
       "      <th>2</th>\n",
       "      <td>3</td>\n",
       "      <td>scientist6@researchorg.edu</td>\n",
       "      <td>63f62256c8df3f7abc3ff04e9a7032083983dc2d2a5fa5...</td>\n",
       "      <td>915520156fdd566da28fda6ef2f1c8208009695de63fa7...</td>\n",
       "      <td>1</td>\n",
       "      <td>[]</td>\n",
       "    </tr>\n",
       "  </tbody>\n",
       "</table>\n",
       "</div>"
      ],
      "text/plain": [
       "<syft.grid.client.request_api.user_api.UserRequestAPI at 0x13f2d5ee0>"
      ]
     },
     "execution_count": 24,
     "metadata": {},
     "output_type": "execute_result"
    }
   ],
   "source": [
    "root_domain.users"
   ]
  },
  {
   "cell_type": "markdown",
   "metadata": {},
   "source": [
    "# Done with Part 1!\n",
    "\n",
    "You may now proceed to Part 2!"
   ]
  },
  {
   "cell_type": "code",
   "execution_count": 25,
   "metadata": {},
   "outputs": [
    {
     "data": {
      "text/html": [
       "<div>\n",
       "<style scoped>\n",
       "    .dataframe tbody tr th:only-of-type {\n",
       "        vertical-align: middle;\n",
       "    }\n",
       "\n",
       "    .dataframe tbody tr th {\n",
       "        vertical-align: top;\n",
       "    }\n",
       "\n",
       "    .dataframe thead th {\n",
       "        text-align: right;\n",
       "    }\n",
       "</style>\n",
       "<table border=\"1\" class=\"dataframe\">\n",
       "  <thead>\n",
       "    <tr style=\"text-align: right;\">\n",
       "      <th></th>\n",
       "      <th>ID</th>\n",
       "      <th>Tags</th>\n",
       "      <th>Description</th>\n",
       "      <th>object_type</th>\n",
       "    </tr>\n",
       "  </thead>\n",
       "  <tbody>\n",
       "    <tr>\n",
       "      <th>0</th>\n",
       "      <td>&lt;UID: 1a8c13a7f11e43ff930c531acfa7a6d5&gt;</td>\n",
       "      <td>[a]</td>\n",
       "      <td></td>\n",
       "      <td>&lt;class 'syft.lib.python.Int'&gt;</td>\n",
       "    </tr>\n",
       "    <tr>\n",
       "      <th>1</th>\n",
       "      <td>&lt;UID: 244c19aadaec46bbbd047d3b9d20719d&gt;</td>\n",
       "      <td>[data]</td>\n",
       "      <td></td>\n",
       "      <td>&lt;class 'torch.Tensor'&gt;</td>\n",
       "    </tr>\n",
       "    <tr>\n",
       "      <th>2</th>\n",
       "      <td>&lt;UID: 33b15dbac58b4058ab31ac43e8431a54&gt;</td>\n",
       "      <td>[model]</td>\n",
       "      <td></td>\n",
       "      <td>&lt;class 'torch.nn.modules.linear.Linear'&gt;</td>\n",
       "    </tr>\n",
       "    <tr>\n",
       "      <th>3</th>\n",
       "      <td>&lt;UID: 46fac3351be94a75842a54d80faf77fb&gt;</td>\n",
       "      <td>[a]</td>\n",
       "      <td></td>\n",
       "      <td>&lt;class 'syft.lib.python.Int'&gt;</td>\n",
       "    </tr>\n",
       "    <tr>\n",
       "      <th>4</th>\n",
       "      <td>&lt;UID: 608d3745f8ec4c348652541391155c84&gt;</td>\n",
       "      <td>[]</td>\n",
       "      <td></td>\n",
       "      <td>&lt;class 'torch.Tensor'&gt;</td>\n",
       "    </tr>\n",
       "    <tr>\n",
       "      <th>5</th>\n",
       "      <td>&lt;UID: 64914e74cf81412d93f818d7e6f7004f&gt;</td>\n",
       "      <td>[y]</td>\n",
       "      <td></td>\n",
       "      <td>&lt;class 'torch.Tensor'&gt;</td>\n",
       "    </tr>\n",
       "    <tr>\n",
       "      <th>6</th>\n",
       "      <td>&lt;UID: 6dea71a863e4405ebba2bf8976d53de1&gt;</td>\n",
       "      <td>[#xor, #targets, #data_01.csv]</td>\n",
       "      <td></td>\n",
       "      <td>&lt;class 'torch.Tensor'&gt;</td>\n",
       "    </tr>\n",
       "    <tr>\n",
       "      <th>7</th>\n",
       "      <td>&lt;UID: 70ea239981494b84a2561cd02146c7e9&gt;</td>\n",
       "      <td>[#xor, #inputs, #data_01.csv]</td>\n",
       "      <td></td>\n",
       "      <td>&lt;class 'torch.Tensor'&gt;</td>\n",
       "    </tr>\n",
       "    <tr>\n",
       "      <th>8</th>\n",
       "      <td>&lt;UID: 7214fab037fa469794f491252d9c763c&gt;</td>\n",
       "      <td>[]</td>\n",
       "      <td></td>\n",
       "      <td>&lt;class 'torch.Tensor'&gt;</td>\n",
       "    </tr>\n",
       "    <tr>\n",
       "      <th>9</th>\n",
       "      <td>&lt;UID: b64665ec54904aa39f19250318fc9957&gt;</td>\n",
       "      <td>[#xor, #inputs, #data_01.csv]</td>\n",
       "      <td></td>\n",
       "      <td>&lt;class 'torch.Tensor'&gt;</td>\n",
       "    </tr>\n",
       "    <tr>\n",
       "      <th>10</th>\n",
       "      <td>&lt;UID: ee3fd0727b0a4f1dbdcb5019edb61e16&gt;</td>\n",
       "      <td>[#xor, #targets, #data_01.csv]</td>\n",
       "      <td></td>\n",
       "      <td>&lt;class 'torch.Tensor'&gt;</td>\n",
       "    </tr>\n",
       "  </tbody>\n",
       "</table>\n",
       "</div>"
      ],
      "text/plain": [
       "[<syft.proxy.syft.lib.python.IntPointer object at 0x13eca5df0>, <syft.proxy.torch.TensorPointer object at 0x1056d9820>, <syft.proxy.torch.nn.LinearPointer object at 0x13f3b1af0>, <syft.proxy.syft.lib.python.IntPointer object at 0x105743580>, <syft.proxy.torch.TensorPointer object at 0x13f234ac0>, <syft.proxy.torch.TensorPointer object at 0x13f234490>, <syft.proxy.torch.TensorPointer object at 0x13f234130>, <syft.proxy.torch.TensorPointer object at 0x13f234730>, <syft.proxy.torch.TensorPointer object at 0x13f2417c0>, <syft.proxy.torch.TensorPointer object at 0x13f241790>, <syft.proxy.torch.TensorPointer object at 0x13f2416d0>]"
      ]
     },
     "execution_count": 25,
     "metadata": {},
     "output_type": "execute_result"
    }
   ],
   "source": [
    "root_domain.store"
   ]
  },
  {
   "cell_type": "code",
   "execution_count": 26,
   "metadata": {},
   "outputs": [
    {
     "name": "stdout",
     "output_type": "stream",
     "text": [
      "\n",
      "bin_object\n",
      "[('1a8c13a7-f11e-43ff-930c-531acfa7a6d5', b'\\n\\x13syft.lib.python.Int\\x12\\x16\\x08\\x01\\x12\\x12\\n\\x10\\xee1Aky\\xa6C\\xa1\\xb6\\xf4\\x9b\\x13\\xc8\\x19\\xacS', 'Int'), ('33b15dba-c58b-4058-ab31-ac43e8431a54', b'\\n$syft.wrappers.torch.nn.ModuleWrapper\\x12\\x97\\x06\\n\\x06Linear\\x1a(in_features=2, out_features=1, bias=True2\\xe2\\x05\\n6\\n\\x16syft.lib.python.String\\x12\\x1c\\n\\x06weight\\x12\\x12\\n\\x10\\xb6:O\\xeb\\xf3%N\\xbf\\x99$:\\xd2\\x18\\x1fZA\\n4\\n\\x16syft.lib.python.String\\x12\\x1a\\n\\x04bias\\x12\\x12\\n\\x10\\xf2H[#\\x1d\\x9dNu\\xac\\x02~?c\\x83\\xf0\\xff\\x12\\xcf\\x02\\n1syft.wrappers.torch.nn.parameter.ParameterWrapper\\x12\\x99\\x02\\n\\x94\\x02*\\x88\\x02\\xff\\xff\\xff\\xff\\xf8\\x00\\x00\\x00\\x14\\x00\\x00\\x00\\x00\\x00\\x00\\x00\\x0c\\x00\\x1a\\x00\\x06\\x00\\x05\\x00\\x08\\x00\\x0c\\x00\\x0c\\x00\\x00\\x00\\x00\\x04\\x04\\x00 \\x00\\x00\\x00\\x08\\x00\\x00\\x00\\x00\\x00\\x00\\x00\\x00\\x00\\x00\\x00\\x00\\x00\\x0e\\x00(\\x00\\x07\\x00\\x08\\x00\\x0c\\x00\\x10\\x00\\x14\\x00\\x0e\\x00\\x00\\x00\\x00\\x00\\x00\\x03\\x8c\\x00\\x00\\x004\\x00\\x00\\x00\\x18\\x00\\x00\\x00\\x00\\x00\\x00\\x00\\x00\\x00\\x00\\x00\\x08\\x00\\x00\\x00\\x00\\x00\\x00\\x00\\x00\\x00\\x00\\x00\\x02\\x00\\x00\\x00\\x08\\x00\\x00\\x00\\x00\\x00\\x00\\x00\\x04\\x00\\x00\\x00\\x00\\x00\\x00\\x00\\x00\\x00\\x00\\x00\\x02\\x00\\x00\\x000\\x00\\x00\\x00\\x0c\\x00\\x00\\x00\\x08\\x00\\x10\\x00\\x08\\x00\\x04\\x00\\x08\\x00\\x00\\x00\\x0c\\x00\\x00\\x00\\x02\\x00\\x00\\x00\\x00\\x00\\x00\\x00\\x00\\x00\\x00\\x00\\x00\\x00\\x00\\x00\\x08\\x00\\x14\\x00\\x08\\x00\\x04\\x00\\x08\\x00\\x00\\x00\\x10\\x00\\x00\\x00\\x01\\x00\\x00\\x00\\x00\\x00\\x00\\x00\\x00\\x00\\x00\\x00\\x00\\x00\\x00\\x00\\x00\\x00\\x06\\x00\\x08\\x00\\x06\\x00\\x06\\x00\\x00\\x00\\x00\\x00\\x01\\x00\\x00\\x00\\x00\\x00\\x00\\x00\\x00\\x00\\x00\\x00\\x00\\x00\\x00\\x00\\x00\\x00\\x00\\x00\\x00\\x00\\x00\\x00\\x00\\x00\\x00\\x00\\x00\\x00\\x00\\x00\\x00\\x00\\xe3\\xb2\\x1e?\\xc8I\\xdb=2\\x07float32\\x10\\x01\\x12\\x8b\\x02\\n1syft.wrappers.torch.nn.parameter.ParameterWrapper\\x12\\xd5\\x01\\n\\xd0\\x01*\\xc4\\x01\\xff\\xff\\xff\\xff\\xb8\\x00\\x00\\x00\\x14\\x00\\x00\\x00\\x00\\x00\\x00\\x00\\x0c\\x00\\x1a\\x00\\x06\\x00\\x05\\x00\\x08\\x00\\x0c\\x00\\x0c\\x00\\x00\\x00\\x00\\x04\\x04\\x00 \\x00\\x00\\x00\\x04\\x00\\x00\\x00\\x00\\x00\\x00\\x00\\x00\\x00\\x00\\x00\\x00\\x00\\x0e\\x00(\\x00\\x07\\x00\\x08\\x00\\x0c\\x00\\x10\\x00\\x14\\x00\\x0e\\x00\\x00\\x00\\x00\\x00\\x00\\x03\\\\\\x00\\x00\\x00(\\x00\\x00\\x00\\x18\\x00\\x00\\x00\\x00\\x00\\x00\\x00\\x00\\x00\\x00\\x00\\x04\\x00\\x00\\x00\\x00\\x00\\x00\\x00\\x00\\x00\\x00\\x00\\x01\\x00\\x00\\x00\\x04\\x00\\x00\\x00\\x00\\x00\\x00\\x00\\x01\\x00\\x00\\x00\\x0c\\x00\\x00\\x00\\x08\\x00\\x14\\x00\\x08\\x00\\x04\\x00\\x08\\x00\\x00\\x00\\x10\\x00\\x00\\x00\\x01\\x00\\x00\\x00\\x00\\x00\\x00\\x00\\x00\\x00\\x00\\x00\\x00\\x00\\x00\\x00\\x00\\x00\\x06\\x00\\x08\\x00\\x06\\x00\\x06\\x00\\x00\\x00\\x00\\x00\\x01\\x00\\x00\\x00\\x00\\x00\\x00\\x00\\x00\\x00\\x00\\x00\\x00\\x00\\x00\\x00\\x00\\x00\\x020\\xcb>2\\x07float32\\x10\\x01\\x1a\\x12\\n\\x10\\xdfg\\xfe\\xaa\\xdc3Ce\\x89\\xb6\\xf5i3j\\x98\\xdc', 'Linear'), ('608d3745-f8ec-4c34-8652-541391155c84', b'\\n!syft.wrappers.torch.TensorWrapper\\x12\\xf4\\x01\\n\\xea\\x01*\\xe0\\x01\\xff\\xff\\xff\\xff\\xb8\\x00\\x00\\x00\\x14\\x00\\x00\\x00\\x00\\x00\\x00\\x00\\x0c\\x00\\x1a\\x00\\x06\\x00\\x05\\x00\\x08\\x00\\x0c\\x00\\x0c\\x00\\x00\\x00\\x00\\x04\\x04\\x00 \\x00\\x00\\x00 \\x00\\x00\\x00\\x00\\x00\\x00\\x00\\x00\\x00\\x00\\x00\\x00\\x00\\x0e\\x00(\\x00\\x07\\x00\\x08\\x00\\x0c\\x00\\x10\\x00\\x14\\x00\\x0e\\x00\\x00\\x00\\x00\\x00\\x00\\x02`\\x00\\x00\\x00(\\x00\\x00\\x00\\x18\\x00\\x00\\x00\\x00\\x00\\x00\\x00\\x00\\x00\\x00\\x00 \\x00\\x00\\x00\\x00\\x00\\x00\\x00\\x00\\x00\\x00\\x00\\x01\\x00\\x00\\x00\\x08\\x00\\x00\\x00\\x00\\x00\\x00\\x00\\x01\\x00\\x00\\x00\\x0c\\x00\\x00\\x00\\x08\\x00\\x14\\x00\\x08\\x00\\x04\\x00\\x08\\x00\\x00\\x00\\x10\\x00\\x00\\x00\\x04\\x00\\x00\\x00\\x00\\x00\\x00\\x00\\x00\\x00\\x00\\x00\\x00\\x00\\x00\\x00\\x00\\x00\\x00\\x00\\x08\\x00\\x0c\\x00\\x08\\x00\\x07\\x00\\x08\\x00\\x00\\x00\\x00\\x00\\x00\\x01@\\x00\\x00\\x00\\x00\\x00\\x00\\x00\\x00\\x00\\x00\\x00\\x01\\x00\\x00\\x00\\x00\\x00\\x00\\x00\\x02\\x00\\x00\\x00\\x00\\x00\\x00\\x00\\x03\\x00\\x00\\x00\\x00\\x00\\x00\\x00\\x04\\x00\\x00\\x00\\x00\\x00\\x00\\x002\\x05int64\"\\x05\\n\\x03cpu', 'Tensor'), ('70ea2399-8149-4b84-a256-1cd02146c7e9', b'\\n!syft.wrappers.torch.TensorWrapper\\x12\\xb6\\x02\\n\\xac\\x02*\\xa0\\x02\\xff\\xff\\xff\\xff\\xf8\\x00\\x00\\x00\\x14\\x00\\x00\\x00\\x00\\x00\\x00\\x00\\x0c\\x00\\x1a\\x00\\x06\\x00\\x05\\x00\\x08\\x00\\x0c\\x00\\x0c\\x00\\x00\\x00\\x00\\x04\\x04\\x00 \\x00\\x00\\x00 \\x00\\x00\\x00\\x00\\x00\\x00\\x00\\x00\\x00\\x00\\x00\\x00\\x00\\x0e\\x00(\\x00\\x07\\x00\\x08\\x00\\x0c\\x00\\x10\\x00\\x14\\x00\\x0e\\x00\\x00\\x00\\x00\\x00\\x00\\x03\\x8c\\x00\\x00\\x004\\x00\\x00\\x00\\x18\\x00\\x00\\x00\\x00\\x00\\x00\\x00\\x00\\x00\\x00\\x00 \\x00\\x00\\x00\\x00\\x00\\x00\\x00\\x00\\x00\\x00\\x00\\x02\\x00\\x00\\x00\\x08\\x00\\x00\\x00\\x00\\x00\\x00\\x00\\x04\\x00\\x00\\x00\\x00\\x00\\x00\\x00\\x00\\x00\\x00\\x00\\x02\\x00\\x00\\x000\\x00\\x00\\x00\\x0c\\x00\\x00\\x00\\x08\\x00\\x10\\x00\\x08\\x00\\x04\\x00\\x08\\x00\\x00\\x00\\x0c\\x00\\x00\\x00\\x02\\x00\\x00\\x00\\x00\\x00\\x00\\x00\\x00\\x00\\x00\\x00\\x00\\x00\\x00\\x00\\x08\\x00\\x14\\x00\\x08\\x00\\x04\\x00\\x08\\x00\\x00\\x00\\x10\\x00\\x00\\x00\\x04\\x00\\x00\\x00\\x00\\x00\\x00\\x00\\x00\\x00\\x00\\x00\\x00\\x00\\x00\\x00\\x00\\x00\\x06\\x00\\x08\\x00\\x06\\x00\\x06\\x00\\x00\\x00\\x00\\x00\\x01\\x00\\x00\\x00\\x00\\x00\\x00\\x00\\x00\\x00\\x00\\x00\\x00\\x00\\x00\\x00\\x00\\x00\\x00\\x00\\x00\\x00\\x00\\x00\\x00\\x00\\x00\\x00\\x00\\x00\\x00\\x00\\x00\\x00\\x00\\x00\\x00\\x00\\x00\\x00\\x00\\x00\\x00\\x00\\x00\\x00\\x00\\x00\\x80?\\x00\\x00\\x80?\\x00\\x00\\x00\\x00\\x00\\x00\\x80?\\x00\\x00\\x80?2\\x07float32\"\\x05\\n\\x03cpu', 'Tensor'), ('ee3fd072-7b0a-4f1d-bdcb-5019edb61e16', b'\\n!syft.wrappers.torch.TensorWrapper\\x12\\xa6\\x02\\n\\x9c\\x02*\\x90\\x02\\xff\\xff\\xff\\xff\\xf8\\x00\\x00\\x00\\x14\\x00\\x00\\x00\\x00\\x00\\x00\\x00\\x0c\\x00\\x1a\\x00\\x06\\x00\\x05\\x00\\x08\\x00\\x0c\\x00\\x0c\\x00\\x00\\x00\\x00\\x04\\x04\\x00 \\x00\\x00\\x00\\x10\\x00\\x00\\x00\\x00\\x00\\x00\\x00\\x00\\x00\\x00\\x00\\x00\\x00\\x0e\\x00(\\x00\\x07\\x00\\x08\\x00\\x0c\\x00\\x10\\x00\\x14\\x00\\x0e\\x00\\x00\\x00\\x00\\x00\\x00\\x03\\x8c\\x00\\x00\\x004\\x00\\x00\\x00\\x18\\x00\\x00\\x00\\x00\\x00\\x00\\x00\\x00\\x00\\x00\\x00\\x10\\x00\\x00\\x00\\x00\\x00\\x00\\x00\\x00\\x00\\x00\\x00\\x02\\x00\\x00\\x00\\x04\\x00\\x00\\x00\\x00\\x00\\x00\\x00\\x04\\x00\\x00\\x00\\x00\\x00\\x00\\x00\\x00\\x00\\x00\\x00\\x02\\x00\\x00\\x000\\x00\\x00\\x00\\x0c\\x00\\x00\\x00\\x08\\x00\\x10\\x00\\x08\\x00\\x04\\x00\\x08\\x00\\x00\\x00\\x0c\\x00\\x00\\x00\\x01\\x00\\x00\\x00\\x00\\x00\\x00\\x00\\x00\\x00\\x00\\x00\\x00\\x00\\x00\\x00\\x08\\x00\\x14\\x00\\x08\\x00\\x04\\x00\\x08\\x00\\x00\\x00\\x10\\x00\\x00\\x00\\x04\\x00\\x00\\x00\\x00\\x00\\x00\\x00\\x00\\x00\\x00\\x00\\x00\\x00\\x00\\x00\\x00\\x00\\x06\\x00\\x08\\x00\\x06\\x00\\x06\\x00\\x00\\x00\\x00\\x00\\x01\\x00\\x00\\x00\\x00\\x00\\x00\\x00\\x00\\x00\\x00\\x00\\x00\\x00\\x00\\x00\\x00\\x00\\x00\\x00\\x00\\x00\\x00\\x00\\x00\\x00\\x00\\x00\\x00\\x00\\x00\\x00\\x00\\x00\\x00\\x00\\x00\\x00\\x00\\x00\\x80?\\x00\\x00\\x80?\\x00\\x00\\x00\\x002\\x07float32\"\\x05\\n\\x03cpu', 'Tensor'), ('64914e74-cf81-412d-93f8-18d7e6f7004f', b'\\n!syft.wrappers.torch.TensorWrapper\\x12\\xb0\\x02\\n\\xa4\\x02*\\x98\\x02\\xff\\xff\\xff\\xff\\xf8\\x00\\x00\\x00\\x14\\x00\\x00\\x00\\x00\\x00\\x00\\x00\\x0c\\x00\\x1a\\x00\\x06\\x00\\x05\\x00\\x08\\x00\\x0c\\x00\\x0c\\x00\\x00\\x00\\x00\\x04\\x04\\x00 \\x00\\x00\\x00\\x18\\x00\\x00\\x00\\x00\\x00\\x00\\x00\\x00\\x00\\x00\\x00\\x00\\x00\\x0e\\x00(\\x00\\x07\\x00\\x08\\x00\\x0c\\x00\\x10\\x00\\x14\\x00\\x0e\\x00\\x00\\x00\\x00\\x00\\x00\\x03\\x8c\\x00\\x00\\x004\\x00\\x00\\x00\\x18\\x00\\x00\\x00\\x00\\x00\\x00\\x00\\x00\\x00\\x00\\x00\\x18\\x00\\x00\\x00\\x00\\x00\\x00\\x00\\x00\\x00\\x00\\x00\\x02\\x00\\x00\\x00\\x04\\x00\\x00\\x00\\x00\\x00\\x00\\x00\\x04\\x00\\x00\\x00\\x00\\x00\\x00\\x00\\x00\\x00\\x00\\x00\\x02\\x00\\x00\\x000\\x00\\x00\\x00\\x0c\\x00\\x00\\x00\\x08\\x00\\x10\\x00\\x08\\x00\\x04\\x00\\x08\\x00\\x00\\x00\\x0c\\x00\\x00\\x00\\x01\\x00\\x00\\x00\\x00\\x00\\x00\\x00\\x00\\x00\\x00\\x00\\x00\\x00\\x00\\x00\\x08\\x00\\x14\\x00\\x08\\x00\\x04\\x00\\x08\\x00\\x00\\x00\\x10\\x00\\x00\\x00\\x06\\x00\\x00\\x00\\x00\\x00\\x00\\x00\\x00\\x00\\x00\\x00\\x00\\x00\\x00\\x00\\x00\\x00\\x06\\x00\\x08\\x00\\x06\\x00\\x06\\x00\\x00\\x00\\x00\\x00\\x01\\x00\\x00\\x00\\x00\\x00\\x00\\x00\\x00\\x00\\x00\\x00\\x00\\x00\\x00\\x00\\x00\\x00\\x00\\x00\\x00\\x00\\x00\\x00\\x00\\x00\\x00\\x00\\x00\\x00\\x00\\x00\\x00\\x00*\\x9f\\xb8>*\\x9f\\xb8>*\\x9f\\xb8>*\\x9f\\xb8>*\\x9f\\xb8>*\\x9f\\xb8>2\\x07float32\\x10\\x01\"\\x05\\n\\x03cpu', 'Tensor'), ('244c19aa-daec-46bb-bd04-7d3b9d20719d', b'\\n!syft.wrappers.torch.TensorWrapper\\x12\\xc6\\x02\\n\\xbc\\x02*\\xb0\\x02\\xff\\xff\\xff\\xff\\xf8\\x00\\x00\\x00\\x14\\x00\\x00\\x00\\x00\\x00\\x00\\x00\\x0c\\x00\\x1a\\x00\\x06\\x00\\x05\\x00\\x08\\x00\\x0c\\x00\\x0c\\x00\\x00\\x00\\x00\\x04\\x04\\x00 \\x00\\x00\\x000\\x00\\x00\\x00\\x00\\x00\\x00\\x00\\x00\\x00\\x00\\x00\\x00\\x00\\x0e\\x00(\\x00\\x07\\x00\\x08\\x00\\x0c\\x00\\x10\\x00\\x14\\x00\\x0e\\x00\\x00\\x00\\x00\\x00\\x00\\x03\\x8c\\x00\\x00\\x004\\x00\\x00\\x00\\x18\\x00\\x00\\x00\\x00\\x00\\x00\\x00\\x00\\x00\\x00\\x000\\x00\\x00\\x00\\x00\\x00\\x00\\x00\\x00\\x00\\x00\\x00\\x02\\x00\\x00\\x00\\x08\\x00\\x00\\x00\\x00\\x00\\x00\\x00\\x04\\x00\\x00\\x00\\x00\\x00\\x00\\x00\\x00\\x00\\x00\\x00\\x02\\x00\\x00\\x000\\x00\\x00\\x00\\x0c\\x00\\x00\\x00\\x08\\x00\\x10\\x00\\x08\\x00\\x04\\x00\\x08\\x00\\x00\\x00\\x0c\\x00\\x00\\x00\\x02\\x00\\x00\\x00\\x00\\x00\\x00\\x00\\x00\\x00\\x00\\x00\\x00\\x00\\x00\\x00\\x08\\x00\\x14\\x00\\x08\\x00\\x04\\x00\\x08\\x00\\x00\\x00\\x10\\x00\\x00\\x00\\x06\\x00\\x00\\x00\\x00\\x00\\x00\\x00\\x00\\x00\\x00\\x00\\x00\\x00\\x00\\x00\\x00\\x00\\x06\\x00\\x08\\x00\\x06\\x00\\x06\\x00\\x00\\x00\\x00\\x00\\x01\\x00\\x00\\x00\\x00\\x00\\x00\\x00\\x00\\x00\\x00\\x00\\x00\\x00\\x00\\x00\\x00\\x00\\x00\\x00\\x00\\x00\\x00\\x00\\x00\\x00\\x00\\x00\\x00\\x00\\x00\\x00\\x00\\x00\\x00\\x00\\x00\\x00\\x00\\x00\\x00\\x00\\x00\\x00\\x00\\x00\\x00\\x00\\x00\\x00\\x00\\x00\\x00\\x00\\x00\\x00\\x00\\x00\\x00\\x00\\x00\\x00\\x00\\x00\\x00\\x00\\x00\\x00\\x00\\x00\\x00\\x00\\x00\\x00\\x00\\x00\\x00\\x00\\x00\\x00\\x00\\x002\\x07float32\"\\x05\\n\\x03cpu', 'Tensor'), ('46fac335-1be9-4a75-842a-54d80faf77fb', b'\\n\\x13syft.lib.python.Int\\x12\\x16\\x08\\x01\\x12\\x12\\n\\x10\\xceG^\\x04\\xac\\x89@\\xaf\\x80_\\x8c0\\xa3[N\\xb5', 'Int'), ('7214fab0-37fa-4697-94f4-91252d9c763c', b'\\n!syft.wrappers.torch.TensorWrapper\\x12\\xf4\\x01\\n\\xea\\x01*\\xe0\\x01\\xff\\xff\\xff\\xff\\xb8\\x00\\x00\\x00\\x14\\x00\\x00\\x00\\x00\\x00\\x00\\x00\\x0c\\x00\\x1a\\x00\\x06\\x00\\x05\\x00\\x08\\x00\\x0c\\x00\\x0c\\x00\\x00\\x00\\x00\\x04\\x04\\x00 \\x00\\x00\\x00 \\x00\\x00\\x00\\x00\\x00\\x00\\x00\\x00\\x00\\x00\\x00\\x00\\x00\\x0e\\x00(\\x00\\x07\\x00\\x08\\x00\\x0c\\x00\\x10\\x00\\x14\\x00\\x0e\\x00\\x00\\x00\\x00\\x00\\x00\\x02`\\x00\\x00\\x00(\\x00\\x00\\x00\\x18\\x00\\x00\\x00\\x00\\x00\\x00\\x00\\x00\\x00\\x00\\x00 \\x00\\x00\\x00\\x00\\x00\\x00\\x00\\x00\\x00\\x00\\x00\\x01\\x00\\x00\\x00\\x08\\x00\\x00\\x00\\x00\\x00\\x00\\x00\\x01\\x00\\x00\\x00\\x0c\\x00\\x00\\x00\\x08\\x00\\x14\\x00\\x08\\x00\\x04\\x00\\x08\\x00\\x00\\x00\\x10\\x00\\x00\\x00\\x04\\x00\\x00\\x00\\x00\\x00\\x00\\x00\\x00\\x00\\x00\\x00\\x00\\x00\\x00\\x00\\x00\\x00\\x00\\x00\\x08\\x00\\x0c\\x00\\x08\\x00\\x07\\x00\\x08\\x00\\x00\\x00\\x00\\x00\\x00\\x01@\\x00\\x00\\x00\\x00\\x00\\x00\\x00\\x00\\x00\\x00\\x00\\x01\\x00\\x00\\x00\\x00\\x00\\x00\\x00\\x02\\x00\\x00\\x00\\x00\\x00\\x00\\x00\\x03\\x00\\x00\\x00\\x00\\x00\\x00\\x00\\x04\\x00\\x00\\x00\\x00\\x00\\x00\\x002\\x05int64\"\\x05\\n\\x03cpu', 'Tensor'), ('b64665ec-5490-4aa3-9f19-250318fc9957', b'\\n!syft.wrappers.torch.TensorWrapper\\x12\\xb6\\x02\\n\\xac\\x02*\\xa0\\x02\\xff\\xff\\xff\\xff\\xf8\\x00\\x00\\x00\\x14\\x00\\x00\\x00\\x00\\x00\\x00\\x00\\x0c\\x00\\x1a\\x00\\x06\\x00\\x05\\x00\\x08\\x00\\x0c\\x00\\x0c\\x00\\x00\\x00\\x00\\x04\\x04\\x00 \\x00\\x00\\x00 \\x00\\x00\\x00\\x00\\x00\\x00\\x00\\x00\\x00\\x00\\x00\\x00\\x00\\x0e\\x00(\\x00\\x07\\x00\\x08\\x00\\x0c\\x00\\x10\\x00\\x14\\x00\\x0e\\x00\\x00\\x00\\x00\\x00\\x00\\x03\\x8c\\x00\\x00\\x004\\x00\\x00\\x00\\x18\\x00\\x00\\x00\\x00\\x00\\x00\\x00\\x00\\x00\\x00\\x00 \\x00\\x00\\x00\\x00\\x00\\x00\\x00\\x00\\x00\\x00\\x00\\x02\\x00\\x00\\x00\\x08\\x00\\x00\\x00\\x00\\x00\\x00\\x00\\x04\\x00\\x00\\x00\\x00\\x00\\x00\\x00\\x00\\x00\\x00\\x00\\x02\\x00\\x00\\x000\\x00\\x00\\x00\\x0c\\x00\\x00\\x00\\x08\\x00\\x10\\x00\\x08\\x00\\x04\\x00\\x08\\x00\\x00\\x00\\x0c\\x00\\x00\\x00\\x02\\x00\\x00\\x00\\x00\\x00\\x00\\x00\\x00\\x00\\x00\\x00\\x00\\x00\\x00\\x00\\x08\\x00\\x14\\x00\\x08\\x00\\x04\\x00\\x08\\x00\\x00\\x00\\x10\\x00\\x00\\x00\\x04\\x00\\x00\\x00\\x00\\x00\\x00\\x00\\x00\\x00\\x00\\x00\\x00\\x00\\x00\\x00\\x00\\x00\\x06\\x00\\x08\\x00\\x06\\x00\\x06\\x00\\x00\\x00\\x00\\x00\\x01\\x00\\x00\\x00\\x00\\x00\\x00\\x00\\x00\\x00\\x00\\x00\\x00\\x00\\x00\\x00\\x00\\x00\\x00\\x00\\x00\\x00\\x00\\x00\\x00\\x00\\x00\\x00\\x00\\x00\\x00\\x00\\x00\\x00\\x00\\x00\\x00\\x00\\x00\\x00\\x00\\x00\\x00\\x00\\x00\\x00\\x00\\x00\\x80?\\x00\\x00\\x80?\\x00\\x00\\x00\\x00\\x00\\x00\\x80?\\x00\\x00\\x80?2\\x07float32\"\\x05\\n\\x03cpu', 'Tensor'), ('6dea71a8-63e4-405e-bba2-bf8976d53de1', b'\\n!syft.wrappers.torch.TensorWrapper\\x12\\xa6\\x02\\n\\x9c\\x02*\\x90\\x02\\xff\\xff\\xff\\xff\\xf8\\x00\\x00\\x00\\x14\\x00\\x00\\x00\\x00\\x00\\x00\\x00\\x0c\\x00\\x1a\\x00\\x06\\x00\\x05\\x00\\x08\\x00\\x0c\\x00\\x0c\\x00\\x00\\x00\\x00\\x04\\x04\\x00 \\x00\\x00\\x00\\x10\\x00\\x00\\x00\\x00\\x00\\x00\\x00\\x00\\x00\\x00\\x00\\x00\\x00\\x0e\\x00(\\x00\\x07\\x00\\x08\\x00\\x0c\\x00\\x10\\x00\\x14\\x00\\x0e\\x00\\x00\\x00\\x00\\x00\\x00\\x03\\x8c\\x00\\x00\\x004\\x00\\x00\\x00\\x18\\x00\\x00\\x00\\x00\\x00\\x00\\x00\\x00\\x00\\x00\\x00\\x10\\x00\\x00\\x00\\x00\\x00\\x00\\x00\\x00\\x00\\x00\\x00\\x02\\x00\\x00\\x00\\x04\\x00\\x00\\x00\\x00\\x00\\x00\\x00\\x04\\x00\\x00\\x00\\x00\\x00\\x00\\x00\\x00\\x00\\x00\\x00\\x02\\x00\\x00\\x000\\x00\\x00\\x00\\x0c\\x00\\x00\\x00\\x08\\x00\\x10\\x00\\x08\\x00\\x04\\x00\\x08\\x00\\x00\\x00\\x0c\\x00\\x00\\x00\\x01\\x00\\x00\\x00\\x00\\x00\\x00\\x00\\x00\\x00\\x00\\x00\\x00\\x00\\x00\\x00\\x08\\x00\\x14\\x00\\x08\\x00\\x04\\x00\\x08\\x00\\x00\\x00\\x10\\x00\\x00\\x00\\x04\\x00\\x00\\x00\\x00\\x00\\x00\\x00\\x00\\x00\\x00\\x00\\x00\\x00\\x00\\x00\\x00\\x00\\x06\\x00\\x08\\x00\\x06\\x00\\x06\\x00\\x00\\x00\\x00\\x00\\x01\\x00\\x00\\x00\\x00\\x00\\x00\\x00\\x00\\x00\\x00\\x00\\x00\\x00\\x00\\x00\\x00\\x00\\x00\\x00\\x00\\x00\\x00\\x00\\x00\\x00\\x00\\x00\\x00\\x00\\x00\\x00\\x00\\x00\\x00\\x00\\x00\\x00\\x00\\x00\\x80?\\x00\\x00\\x80?\\x00\\x00\\x00\\x002\\x07float32\"\\x05\\n\\x03cpu', 'Tensor')]\n",
      "\n",
      "dataset\n",
      "[('c726fe8d-c7ed-494c-99c5-e613109776fd', 'XOR dataset inputs', 'XOR dataset inputs', '[\"#xor\", \"#inputs\"]'), ('06d35eeb-0cae-4c8e-9bca-8437b1ad8350', 'XOR dataset targets', 'XOR dataset targets', '[\"#xor\", \"#targets\"]'), ('ac124d65-306e-49cf-803f-202103a7f8f1', 'XOR dataset inputs', 'XOR dataset inputs', '[\"#xor\", \"#inputs\"]'), ('9b533c42-fa15-4e85-a3ba-a064fc9bd162', 'XOR dataset targets', 'XOR dataset targets', '[\"#xor\", \"#targets\"]')]\n",
      "\n",
      "role\n",
      "[(1, 'User', 0, 0, 0, 0, 0, 0, 0), (2, 'Compliance Officer', 1, 0, 0, 0, 0, 0, 0), (3, 'Administrator', 1, 1, 1, 1, 0, 0, 1), (4, 'Owner', 1, 1, 1, 1, 1, 1, 1)]\n",
      "\n",
      "setup\n",
      "[(1, \"Trask's Node\", '', '', '', '', '', 0, 0, 0, 0)]\n",
      "\n",
      "obj_metadata\n",
      "[(1, '1a8c13a7-f11e-43ff-930c-531acfa7a6d5', '[\"a\"]', '', '{\"a0dae1eba2ac6469f2992e44412a90661131ef575155a938180ea271b1e87175\": null}', '{}'), (2, '33b15dba-c58b-4058-ab31-ac43e8431a54', '[\"model\"]', '', '{\"a0dae1eba2ac6469f2992e44412a90661131ef575155a938180ea271b1e87175\": null}', '{}'), (3, '608d3745-f8ec-4c34-8652-541391155c84', '[]', '', '{\"a0dae1eba2ac6469f2992e44412a90661131ef575155a938180ea271b1e87175\": null}', '{}'), (4, '70ea2399-8149-4b84-a256-1cd02146c7e9', '[\"#xor\", \"#inputs\", \"#data_01.csv\"]', '', '{\"a0dae1eba2ac6469f2992e44412a90661131ef575155a938180ea271b1e87175\": null}', '{}'), (5, 'ee3fd072-7b0a-4f1d-bdcb-5019edb61e16', '[\"#xor\", \"#targets\", \"#data_01.csv\"]', '', '{\"a0dae1eba2ac6469f2992e44412a90661131ef575155a938180ea271b1e87175\": null}', '{}'), (6, '64914e74-cf81-412d-93f8-18d7e6f7004f', '[\"y\"]', '', '{\"a0dae1eba2ac6469f2992e44412a90661131ef575155a938180ea271b1e87175\": null}', '{}'), (7, '244c19aa-daec-46bb-bd04-7d3b9d20719d', '[\"data\"]', '', '{\"a0dae1eba2ac6469f2992e44412a90661131ef575155a938180ea271b1e87175\": null, \"915520156fdd566da28fda6ef2f1c8208009695de63fa70e4c4e6932f48aac1b\": null}', '{}'), (8, '46fac335-1be9-4a75-842a-54d80faf77fb', '[\"a\"]', '', '{\"a0dae1eba2ac6469f2992e44412a90661131ef575155a938180ea271b1e87175\": null}', '{}'), (9, '7214fab0-37fa-4697-94f4-91252d9c763c', '[]', '', '{\"a0dae1eba2ac6469f2992e44412a90661131ef575155a938180ea271b1e87175\": null}', '{}'), (10, 'b64665ec-5490-4aa3-9f19-250318fc9957', '[\"#xor\", \"#inputs\", \"#data_01.csv\"]', '', '{\"a0dae1eba2ac6469f2992e44412a90661131ef575155a938180ea271b1e87175\": null}', '{}'), (11, '6dea71a8-63e4-405e-bba2-bf8976d53de1', '[\"#xor\", \"#targets\", \"#data_01.csv\"]', '', '{\"a0dae1eba2ac6469f2992e44412a90661131ef575155a938180ea271b1e87175\": null}', '{}')]\n",
      "\n",
      "bin_obj_dataset\n",
      "[(1, 'tmp/data_01.csv', '70ea2399-8149-4b84-a256-1cd02146c7e9', 'c726fe8d-c7ed-494c-99c5-e613109776fd', 'Tensor', '(4, 2)'), (2, 'tmp/data_01.csv', 'ee3fd072-7b0a-4f1d-bdcb-5019edb61e16', '06d35eeb-0cae-4c8e-9bca-8437b1ad8350', 'Tensor', '(4, 1)'), (3, 'tmp/data_01.csv', 'b64665ec-5490-4aa3-9f19-250318fc9957', 'ac124d65-306e-49cf-803f-202103a7f8f1', 'Tensor', '(4, 2)'), (4, 'tmp/data_01.csv', '6dea71a8-63e4-405e-bba2-bf8976d53de1', '9b533c42-fa15-4e85-a3ba-a064fc9bd162', 'Tensor', '(4, 1)')]\n",
      "\n",
      "user\n",
      "[(1, 'owner@myorg.com', 'hIrqgKWEWN2THzThhszg/r/RySmvneG', '$2b$12$tkJtdWAphb30vvurpi.k.e', '9c7700cd631502f0a071be9028b21bb73dba1ab838a2db3270537327831d6b8f', 'a0dae1eba2ac6469f2992e44412a90661131ef575155a938180ea271b1e87175', 4), (2, 'compliance@myorg.com', '6ujEdN26Bo7WkRxdT2Z7TQUm1BkV8Kq', '$2b$12$FnXwtt2zBL/yiNQfiGwf1O', 'e33ea8ea9c367acf7c92c908cfeb25cb5b9e8b2c22e18d658d9a9a768b8ba9c3', '2c38ad2413731c24c565108ee83b96784a8d269fbdbee958059334c2205980ec', 2), (3, 'scientist6@researchorg.edu', 'KIyZIWSKM4n5CfhZLloEZXnBCfNxncq', '$2b$12$lUCdO2WQLZQbQqMdpOs5du', '63f62256c8df3f7abc3ff04e9a7032083983dc2d2a5fa550926eb65de5a2de3e', '915520156fdd566da28fda6ef2f1c8208009695de63fa70e4c4e6932f48aac1b', 1)]\n"
     ]
    }
   ],
   "source": [
    "db()"
   ]
  },
  {
   "cell_type": "code",
   "execution_count": null,
   "metadata": {},
   "outputs": [],
   "source": []
  },
  {
   "cell_type": "code",
   "execution_count": null,
   "metadata": {},
   "outputs": [],
   "source": []
  },
  {
   "cell_type": "code",
   "execution_count": null,
   "metadata": {},
   "outputs": [],
   "source": []
  },
  {
   "cell_type": "code",
   "execution_count": null,
   "metadata": {},
   "outputs": [],
   "source": []
  }
 ],
 "metadata": {
  "kernelspec": {
   "display_name": "Python 3",
   "language": "python",
   "name": "python3"
  },
  "language_info": {
   "codemirror_mode": {
    "name": "ipython",
    "version": 3
   },
   "file_extension": ".py",
   "mimetype": "text/x-python",
   "name": "python",
   "nbconvert_exporter": "python",
   "pygments_lexer": "ipython3",
   "version": "3.9.5"
  }
 },
 "nbformat": 4,
 "nbformat_minor": 4
}
