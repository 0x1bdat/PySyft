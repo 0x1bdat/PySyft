{
 "cells": [
  {
   "cell_type": "code",
   "execution_count": 1,
   "id": "94c8a5cc-b074-483a-ad9a-9cbc19a2d095",
   "metadata": {},
   "outputs": [],
   "source": [
    "# stdlib\n",
    "from random import randint\n",
    "from typing import List\n",
    "# third party\n",
    "import numpy as np\n",
    "import pytest\n",
    "\n",
    "# syft absolute\n",
    "from syft import deserialize\n",
    "from syft import serialize\n",
    "from syft.core.adp.entity import Entity\n",
    "from syft.core.tensor.autodp.single_entity_phi import SingleEntityPhiTensor\n",
    "from syft.core.tensor.autodp.row_entity_phi import RowEntityPhiTensor\n",
    "from syft.core.tensor.tensor import Tensor\n",
    "\n",
    "gonzalo = Entity(name=\"Gonzalo\")\n",
    "\n",
    "\n",
    "@pytest.fixture(scope=\"function\")\n",
    "def x() -> Tensor:\n",
    "    x = Tensor(np.array([[1, 2, 3], [4, 5, 6]]))\n",
    "    x = x.private(min_val=-1, max_val=7, entities=[gonzalo])\n",
    "    return x\n",
    "\n",
    "\n",
    "@pytest.fixture(scope=\"function\")\n",
    "def y() -> Tensor:\n",
    "    y = Tensor(np.array([[-1, -2, -3], [-4, -5, -6]]))\n",
    "    y = y.private(min_val=-7, max_val=1, entities=[gonzalo])\n",
    "    return y\n",
    "\n",
    "\n",
    "ent = Entity(name=\"test\")\n",
    "ent2 = Entity(name=\"test2\")\n",
    "\n",
    "dims = np.random.randint(10) + 1\n",
    "\n",
    "child1 = np.random.randint(low=-2, high=4, size=dims)\n",
    "upper1 = np.full(dims, 3, dtype=np.int32)\n",
    "low1 = np.full(dims, -2, dtype=np.int32)\n",
    "child2 = np.random.randint(low=4, high=7, size=dims)\n",
    "upper2 = np.full(dims, 6, dtype=np.int32)\n",
    "low2 = np.full(dims, 4, dtype=np.int32)\n",
    "\n",
    "tensor1 = SingleEntityPhiTensor(\n",
    "    child=child1, entity=ent, max_vals=upper1, min_vals=low1\n",
    ")\n",
    "# same entity, same data\n",
    "tensor2 = SingleEntityPhiTensor(\n",
    "    child=child1, entity=ent, max_vals=upper1, min_vals=low1\n",
    ")\n",
    "# same entity, different data\n",
    "tensor3 = SingleEntityPhiTensor(\n",
    "    child=child2, entity=ent, max_vals=upper2, min_vals=low2\n",
    ")\n",
    "# different entity, same data\n",
    "tensor4 = SingleEntityPhiTensor(\n",
    "    child=child1, entity=ent2, max_vals=upper1, min_vals=low1\n",
    ")\n",
    "# different entity, different data\n",
    "tensor5 = SingleEntityPhiTensor(\n",
    "    child=child2, entity=ent2, max_vals=upper2, min_vals=low2\n",
    ")\n",
    "\n",
    "simple_type1 = randint(-6, -4)\n",
    "simple_type2 = randint(4, 6)\n"
   ]
  },
  {
   "cell_type": "code",
   "execution_count": 2,
   "id": "d44b5a57-2788-414a-9741-f279bba8ef42",
   "metadata": {},
   "outputs": [],
   "source": [
    "dims = np.random.randint(10) + 1\n",
    "row_count = np.random.randint(10) + 1\n",
    "\n",
    "def rept(low, high, entity) -> List:\n",
    "    data = []\n",
    "    for _ in range(row_count):\n",
    "        data.append(\n",
    "            SingleEntityPhiTensor(\n",
    "                child = np.random.randint(low=low, high=high, size=dims),\n",
    "                entity=entity,\n",
    "                max_vals=np.full(dims, high-1, dtype=np.int32),\n",
    "                min_vals=np.full(dims, low, dtype=np.int32)\n",
    "            )\n",
    "        )\n",
    "    return RowEntityPhiTensor(rows=data, check_shape=False) \n",
    "\n",
    "tensor1 = rept(-2, 4, ent)\n",
    "# same entity, same data\n",
    "tensor2 = tensor1\n",
    "# same entity, different data\n",
    "tensor3 = rept(4, 7, ent)\n",
    "\n",
    "simple_type1 = randint(-6, -4)\n",
    "simple_type2 = randint(4, 6)\n"
   ]
  },
  {
   "cell_type": "code",
   "execution_count": 3,
   "id": "b6799cf7-3268-4a97-8bbf-dbf7654bc123",
   "metadata": {},
   "outputs": [
    {
     "data": {
      "text/plain": [
       "RowEntityPhiTensor(child=[SingleEntityPhiTensor(entity=test, child=[2]), SingleEntityPhiTensor(entity=test, child=[3]), SingleEntityPhiTensor(entity=test, child=[-2]), SingleEntityPhiTensor(entity=test, child=[1]), SingleEntityPhiTensor(entity=test, child=[0]), SingleEntityPhiTensor(entity=test, child=[3])])"
      ]
     },
     "execution_count": 3,
     "metadata": {},
     "output_type": "execute_result"
    }
   ],
   "source": [
    "tensor1"
   ]
  },
  {
   "cell_type": "code",
   "execution_count": 4,
   "id": "fd5239f2-e891-4ec9-9068-d5c993856fe7",
   "metadata": {},
   "outputs": [],
   "source": [
    "a_min = 1\n",
    "a_max = 2\n",
    "new_list = list()\n",
    "for row in tensor1.child:\n",
    "    new_list.append(row.clip(a_min=a_min, a_max=a_max))"
   ]
  },
  {
   "cell_type": "code",
   "execution_count": 5,
   "id": "7448e546-2782-4d65-815b-eeb9560bd31f",
   "metadata": {},
   "outputs": [],
   "source": [
    "a = RowEntityPhiTensor(rows=new_list)"
   ]
  },
  {
   "cell_type": "code",
   "execution_count": 6,
   "id": "de0dfc3d-2e15-4fe5-b25a-49a0ce6750d1",
   "metadata": {},
   "outputs": [
    {
     "name": "stdout",
     "output_type": "stream",
     "text": [
      "True\n",
      "True\n",
      "True\n",
      "True\n",
      "True\n",
      "True\n"
     ]
    }
   ],
   "source": [
    "for i in a.child:\n",
    "    print((i.child >= 1).all())"
   ]
  },
  {
   "cell_type": "code",
   "execution_count": 7,
   "id": "1ede780b-e75f-487d-a470-6219e2316429",
   "metadata": {},
   "outputs": [],
   "source": [
    "rand1 = np.random.randint(-4, 1)\n",
    "rand2 = np.random.randint(1, 5)\n",
    "clipped_tensor1 = tensor1.clip(rand1, rand2).child\n",
    "clipped_tensor2 = tensor1.clip(rand2, rand1).child\n",
    "clipped_tensor3 = tensor1.clip(rand1, None).child\n"
   ]
  },
  {
   "cell_type": "code",
   "execution_count": 9,
   "id": "026e45e0-2189-44a9-a6b9-675f75a32f7b",
   "metadata": {},
   "outputs": [
    {
     "name": "stdout",
     "output_type": "stream",
     "text": [
      "True\n",
      "True\n",
      "True\n",
      "True\n",
      "True\n",
      "True\n"
     ]
    }
   ],
   "source": [
    "for i in clipped_tensor1:\n",
    "    print((i.child >= rand1).all())"
   ]
  },
  {
   "cell_type": "code",
   "execution_count": null,
   "id": "dbb2afd7-cb11-4278-87c6-250e17c73f4d",
   "metadata": {},
   "outputs": [],
   "source": []
  }
 ],
 "metadata": {
  "kernelspec": {
   "display_name": "Python 3 (ipykernel)",
   "language": "python",
   "name": "python3"
  },
  "language_info": {
   "codemirror_mode": {
    "name": "ipython",
    "version": 3
   },
   "file_extension": ".py",
   "mimetype": "text/x-python",
   "name": "python",
   "nbconvert_exporter": "python",
   "pygments_lexer": "ipython3",
   "version": "3.8.10"
  }
 },
 "nbformat": 4,
 "nbformat_minor": 5
}
