{
 "cells": [
  {
   "cell_type": "code",
   "execution_count": 1,
   "id": "390cbcd6-e959-48d9-8458-3f729359a6cd",
   "metadata": {
    "scrolled": true,
    "tags": []
   },
   "outputs": [
    {
     "name": "stderr",
     "output_type": "stream",
     "text": [
      "[2021-06-17T10:06:45.531085+0530][CRITICAL][logger]][13567] Unable to load package support for: statsmodels. 'NoneType' object has no attribute 'update'\n"
     ]
    }
   ],
   "source": [
    "import syft_statsmodels"
   ]
  },
  {
   "cell_type": "code",
   "execution_count": 5,
   "id": "a11a8c6f-cdd6-45d5-8cf1-d03e194b0243",
   "metadata": {},
   "outputs": [],
   "source": [
    "import syft as sy\n",
    "import statsmodels\n",
    "import re\n",
    "import pandas as pd"
   ]
  },
  {
   "cell_type": "code",
   "execution_count": 6,
   "id": "dcc59747-171c-4719-8248-09fd9c8ae864",
   "metadata": {},
   "outputs": [],
   "source": [
    "root_client = sy.VirtualMachine().get_root_client()"
   ]
  },
  {
   "cell_type": "code",
   "execution_count": 7,
   "id": "31221530-a4dd-4fe8-8859-53930efe0613",
   "metadata": {},
   "outputs": [
    {
     "name": "stdout",
     "output_type": "stream",
     "text": [
      "<class 'statsmodels.genmod.families.family.Binomial'> <class 'statsmodels.genmod.families.links.logit'>\n",
      "<class 'statsmodels.genmod.families.family.Binomial'> <class 'statsmodels.genmod.families.links.probit'>\n",
      "<class 'statsmodels.genmod.families.family.Binomial'> <class 'statsmodels.genmod.families.links.cauchy'>\n",
      "<class 'statsmodels.genmod.families.family.Binomial'> <class 'statsmodels.genmod.families.links.log'>\n",
      "<class 'statsmodels.genmod.families.family.Binomial'> <class 'statsmodels.genmod.families.links.cloglog'>\n",
      "<class 'statsmodels.genmod.families.family.Binomial'> <class 'statsmodels.genmod.families.links.identity'>\n"
     ]
    },
    {
     "name": "stderr",
     "output_type": "stream",
     "text": [
      "/home/alpha91/miniconda3/envs/torch/lib/python3.9/site-packages/statsmodels/genmod/generalized_linear_model.py:293: DomainWarning: The log link function does not respect the domain of the Binomial family.\n",
      "  warnings.warn((f\"The {type(family.link).__name__} link function \"\n",
      "/home/alpha91/miniconda3/envs/torch/lib/python3.9/site-packages/statsmodels/genmod/generalized_linear_model.py:293: DomainWarning: The log link function does not respect the domain of the Binomial family.\n",
      "  warnings.warn((f\"The {type(family.link).__name__} link function \"\n",
      "/home/alpha91/miniconda3/envs/torch/lib/python3.9/site-packages/statsmodels/genmod/generalized_linear_model.py:293: DomainWarning: The identity link function does not respect the domain of the Binomial family.\n",
      "  warnings.warn((f\"The {type(family.link).__name__} link function \"\n",
      "/home/alpha91/miniconda3/envs/torch/lib/python3.9/site-packages/statsmodels/genmod/generalized_linear_model.py:293: DomainWarning: The identity link function does not respect the domain of the Binomial family.\n",
      "  warnings.warn((f\"The {type(family.link).__name__} link function \"\n",
      "/home/alpha91/miniconda3/envs/torch/lib/python3.9/site-packages/statsmodels/genmod/families/family.py:735: RuntimeWarning: divide by zero encountered in log\n",
      "  ll_obs -= special.gammaln(weight_scale) + np.log(endog)\n"
     ]
    },
    {
     "name": "stdout",
     "output_type": "stream",
     "text": [
      "<class 'statsmodels.genmod.families.family.Gamma'> <class 'statsmodels.genmod.families.links.log'>\n",
      "<class 'statsmodels.genmod.families.family.Gamma'> <class 'statsmodels.genmod.families.links.identity'>\n",
      "<class 'statsmodels.genmod.families.family.Gamma'> <class 'statsmodels.genmod.families.links.inverse_power'>\n",
      "<class 'statsmodels.genmod.families.family.Gaussian'> <class 'statsmodels.genmod.families.links.log'>\n",
      "<class 'statsmodels.genmod.families.family.Gaussian'> <class 'statsmodels.genmod.families.links.identity'>\n",
      "<class 'statsmodels.genmod.families.family.Gaussian'> <class 'statsmodels.genmod.families.links.inverse_power'>\n",
      "<class 'statsmodels.genmod.families.family.InverseGaussian'> <class 'statsmodels.genmod.families.links.inverse_squared'>\n",
      "<class 'statsmodels.genmod.families.family.InverseGaussian'> <class 'statsmodels.genmod.families.links.inverse_power'>\n",
      "<class 'statsmodels.genmod.families.family.InverseGaussian'> <class 'statsmodels.genmod.families.links.identity'>\n"
     ]
    },
    {
     "name": "stderr",
     "output_type": "stream",
     "text": [
      "/home/alpha91/miniconda3/envs/torch/lib/python3.9/site-packages/statsmodels/genmod/families/family.py:735: RuntimeWarning: divide by zero encountered in log\n",
      "  ll_obs -= special.gammaln(weight_scale) + np.log(endog)\n",
      "/home/alpha91/miniconda3/envs/torch/lib/python3.9/site-packages/statsmodels/genmod/generalized_linear_model.py:293: DomainWarning: The identity link function does not respect the domain of the Gamma family.\n",
      "  warnings.warn((f\"The {type(family.link).__name__} link function \"\n",
      "/home/alpha91/miniconda3/envs/torch/lib/python3.9/site-packages/statsmodels/genmod/families/family.py:735: RuntimeWarning: divide by zero encountered in log\n",
      "  ll_obs -= special.gammaln(weight_scale) + np.log(endog)\n",
      "/home/alpha91/miniconda3/envs/torch/lib/python3.9/site-packages/statsmodels/genmod/generalized_linear_model.py:293: DomainWarning: The identity link function does not respect the domain of the Gamma family.\n",
      "  warnings.warn((f\"The {type(family.link).__name__} link function \"\n",
      "/home/alpha91/miniconda3/envs/torch/lib/python3.9/site-packages/statsmodels/genmod/families/family.py:735: RuntimeWarning: divide by zero encountered in log\n",
      "  ll_obs -= special.gammaln(weight_scale) + np.log(endog)\n",
      "/home/alpha91/miniconda3/envs/torch/lib/python3.9/site-packages/statsmodels/genmod/generalized_linear_model.py:293: DomainWarning: The inverse_power link function does not respect the domain of the Gamma family.\n",
      "  warnings.warn((f\"The {type(family.link).__name__} link function \"\n",
      "/home/alpha91/miniconda3/envs/torch/lib/python3.9/site-packages/statsmodels/genmod/families/family.py:735: RuntimeWarning: divide by zero encountered in log\n",
      "  ll_obs -= special.gammaln(weight_scale) + np.log(endog)\n",
      "/home/alpha91/miniconda3/envs/torch/lib/python3.9/site-packages/statsmodels/genmod/generalized_linear_model.py:293: DomainWarning: The inverse_power link function does not respect the domain of the Gamma family.\n",
      "  warnings.warn((f\"The {type(family.link).__name__} link function \"\n",
      "/home/alpha91/miniconda3/envs/torch/lib/python3.9/site-packages/statsmodels/genmod/families/family.py:735: RuntimeWarning: divide by zero encountered in log\n",
      "  ll_obs -= special.gammaln(weight_scale) + np.log(endog)\n",
      "/home/alpha91/miniconda3/envs/torch/lib/python3.9/site-packages/statsmodels/genmod/families/family.py:1077: RuntimeWarning: divide by zero encountered in true_divide\n",
      "  return 1. / (endog * mu ** 2) * (endog - mu) ** 2\n",
      "/home/alpha91/miniconda3/envs/torch/lib/python3.9/site-packages/statsmodels/genmod/families/family.py:1109: RuntimeWarning: divide by zero encountered in true_divide\n",
      "  ll_obs = -var_weights * (endog - mu) ** 2 / (scale * endog * mu ** 2)\n",
      "/home/alpha91/miniconda3/envs/torch/lib/python3.9/site-packages/statsmodels/genmod/families/family.py:1110: RuntimeWarning: divide by zero encountered in log\n",
      "  ll_obs += -np.log(scale * endog ** 3 / var_weights) - np.log(2 * np.pi)\n",
      "/home/alpha91/miniconda3/envs/torch/lib/python3.9/site-packages/statsmodels/genmod/families/family.py:1110: RuntimeWarning: invalid value encountered in add\n",
      "  ll_obs += -np.log(scale * endog ** 3 / var_weights) - np.log(2 * np.pi)\n",
      "/home/alpha91/miniconda3/envs/torch/lib/python3.9/site-packages/statsmodels/genmod/families/family.py:1077: RuntimeWarning: divide by zero encountered in true_divide\n",
      "  return 1. / (endog * mu ** 2) * (endog - mu) ** 2\n",
      "/home/alpha91/miniconda3/envs/torch/lib/python3.9/site-packages/statsmodels/genmod/families/family.py:1109: RuntimeWarning: divide by zero encountered in true_divide\n",
      "  ll_obs = -var_weights * (endog - mu) ** 2 / (scale * endog * mu ** 2)\n",
      "/home/alpha91/miniconda3/envs/torch/lib/python3.9/site-packages/statsmodels/genmod/families/family.py:1110: RuntimeWarning: divide by zero encountered in log\n",
      "  ll_obs += -np.log(scale * endog ** 3 / var_weights) - np.log(2 * np.pi)\n",
      "/home/alpha91/miniconda3/envs/torch/lib/python3.9/site-packages/statsmodels/genmod/families/family.py:1110: RuntimeWarning: invalid value encountered in add\n",
      "  ll_obs += -np.log(scale * endog ** 3 / var_weights) - np.log(2 * np.pi)\n",
      "/home/alpha91/miniconda3/envs/torch/lib/python3.9/site-packages/statsmodels/genmod/generalized_linear_model.py:293: DomainWarning: The inverse_power link function does not respect the domain of the InverseGaussian family.\n",
      "  warnings.warn((f\"The {type(family.link).__name__} link function \"\n",
      "/home/alpha91/miniconda3/envs/torch/lib/python3.9/site-packages/statsmodels/genmod/families/family.py:1077: RuntimeWarning: divide by zero encountered in true_divide\n",
      "  return 1. / (endog * mu ** 2) * (endog - mu) ** 2\n",
      "/home/alpha91/miniconda3/envs/torch/lib/python3.9/site-packages/statsmodels/genmod/families/family.py:1109: RuntimeWarning: divide by zero encountered in true_divide\n",
      "  ll_obs = -var_weights * (endog - mu) ** 2 / (scale * endog * mu ** 2)\n",
      "/home/alpha91/miniconda3/envs/torch/lib/python3.9/site-packages/statsmodels/genmod/families/family.py:1110: RuntimeWarning: divide by zero encountered in log\n",
      "  ll_obs += -np.log(scale * endog ** 3 / var_weights) - np.log(2 * np.pi)\n",
      "/home/alpha91/miniconda3/envs/torch/lib/python3.9/site-packages/statsmodels/genmod/families/family.py:1110: RuntimeWarning: invalid value encountered in add\n",
      "  ll_obs += -np.log(scale * endog ** 3 / var_weights) - np.log(2 * np.pi)\n",
      "/home/alpha91/miniconda3/envs/torch/lib/python3.9/site-packages/statsmodels/genmod/generalized_linear_model.py:293: DomainWarning: The inverse_power link function does not respect the domain of the InverseGaussian family.\n",
      "  warnings.warn((f\"The {type(family.link).__name__} link function \"\n",
      "/home/alpha91/miniconda3/envs/torch/lib/python3.9/site-packages/statsmodels/genmod/families/family.py:1077: RuntimeWarning: divide by zero encountered in true_divide\n",
      "  return 1. / (endog * mu ** 2) * (endog - mu) ** 2\n",
      "/home/alpha91/miniconda3/envs/torch/lib/python3.9/site-packages/statsmodels/genmod/families/family.py:1109: RuntimeWarning: divide by zero encountered in true_divide\n",
      "  ll_obs = -var_weights * (endog - mu) ** 2 / (scale * endog * mu ** 2)\n",
      "/home/alpha91/miniconda3/envs/torch/lib/python3.9/site-packages/statsmodels/genmod/families/family.py:1110: RuntimeWarning: divide by zero encountered in log\n",
      "  ll_obs += -np.log(scale * endog ** 3 / var_weights) - np.log(2 * np.pi)\n",
      "/home/alpha91/miniconda3/envs/torch/lib/python3.9/site-packages/statsmodels/genmod/families/family.py:1110: RuntimeWarning: invalid value encountered in add\n",
      "  ll_obs += -np.log(scale * endog ** 3 / var_weights) - np.log(2 * np.pi)\n",
      "/home/alpha91/miniconda3/envs/torch/lib/python3.9/site-packages/statsmodels/genmod/generalized_linear_model.py:293: DomainWarning: The identity link function does not respect the domain of the InverseGaussian family.\n",
      "  warnings.warn((f\"The {type(family.link).__name__} link function \"\n",
      "/home/alpha91/miniconda3/envs/torch/lib/python3.9/site-packages/statsmodels/genmod/families/family.py:1077: RuntimeWarning: divide by zero encountered in true_divide\n",
      "  return 1. / (endog * mu ** 2) * (endog - mu) ** 2\n",
      "/home/alpha91/miniconda3/envs/torch/lib/python3.9/site-packages/statsmodels/genmod/families/family.py:1109: RuntimeWarning: divide by zero encountered in true_divide\n",
      "  ll_obs = -var_weights * (endog - mu) ** 2 / (scale * endog * mu ** 2)\n",
      "/home/alpha91/miniconda3/envs/torch/lib/python3.9/site-packages/statsmodels/genmod/families/family.py:1110: RuntimeWarning: divide by zero encountered in log\n",
      "  ll_obs += -np.log(scale * endog ** 3 / var_weights) - np.log(2 * np.pi)\n",
      "/home/alpha91/miniconda3/envs/torch/lib/python3.9/site-packages/statsmodels/genmod/families/family.py:1110: RuntimeWarning: invalid value encountered in add\n",
      "  ll_obs += -np.log(scale * endog ** 3 / var_weights) - np.log(2 * np.pi)\n",
      "/home/alpha91/miniconda3/envs/torch/lib/python3.9/site-packages/statsmodels/genmod/generalized_linear_model.py:293: DomainWarning: The identity link function does not respect the domain of the InverseGaussian family.\n",
      "  warnings.warn((f\"The {type(family.link).__name__} link function \"\n",
      "/home/alpha91/miniconda3/envs/torch/lib/python3.9/site-packages/statsmodels/genmod/families/family.py:1077: RuntimeWarning: divide by zero encountered in true_divide\n",
      "  return 1. / (endog * mu ** 2) * (endog - mu) ** 2\n",
      "/home/alpha91/miniconda3/envs/torch/lib/python3.9/site-packages/statsmodels/genmod/families/family.py:1109: RuntimeWarning: divide by zero encountered in true_divide\n",
      "  ll_obs = -var_weights * (endog - mu) ** 2 / (scale * endog * mu ** 2)\n",
      "/home/alpha91/miniconda3/envs/torch/lib/python3.9/site-packages/statsmodels/genmod/families/family.py:1110: RuntimeWarning: divide by zero encountered in log\n",
      "  ll_obs += -np.log(scale * endog ** 3 / var_weights) - np.log(2 * np.pi)\n",
      "/home/alpha91/miniconda3/envs/torch/lib/python3.9/site-packages/statsmodels/genmod/families/family.py:1110: RuntimeWarning: invalid value encountered in add\n",
      "  ll_obs += -np.log(scale * endog ** 3 / var_weights) - np.log(2 * np.pi)\n",
      "/home/alpha91/miniconda3/envs/torch/lib/python3.9/site-packages/statsmodels/genmod/families/family.py:1077: RuntimeWarning: divide by zero encountered in true_divide\n",
      "  return 1. / (endog * mu ** 2) * (endog - mu) ** 2\n",
      "/home/alpha91/miniconda3/envs/torch/lib/python3.9/site-packages/statsmodels/genmod/families/family.py:1109: RuntimeWarning: divide by zero encountered in true_divide\n",
      "  ll_obs = -var_weights * (endog - mu) ** 2 / (scale * endog * mu ** 2)\n",
      "/home/alpha91/miniconda3/envs/torch/lib/python3.9/site-packages/statsmodels/genmod/families/family.py:1110: RuntimeWarning: divide by zero encountered in log\n",
      "  ll_obs += -np.log(scale * endog ** 3 / var_weights) - np.log(2 * np.pi)\n",
      "/home/alpha91/miniconda3/envs/torch/lib/python3.9/site-packages/statsmodels/genmod/families/family.py:1110: RuntimeWarning: invalid value encountered in add\n",
      "  ll_obs += -np.log(scale * endog ** 3 / var_weights) - np.log(2 * np.pi)\n",
      "/home/alpha91/miniconda3/envs/torch/lib/python3.9/site-packages/statsmodels/genmod/families/family.py:1077: RuntimeWarning: divide by zero encountered in true_divide\n",
      "  return 1. / (endog * mu ** 2) * (endog - mu) ** 2\n",
      "/home/alpha91/miniconda3/envs/torch/lib/python3.9/site-packages/statsmodels/genmod/families/family.py:1109: RuntimeWarning: divide by zero encountered in true_divide\n",
      "  ll_obs = -var_weights * (endog - mu) ** 2 / (scale * endog * mu ** 2)\n",
      "/home/alpha91/miniconda3/envs/torch/lib/python3.9/site-packages/statsmodels/genmod/families/family.py:1110: RuntimeWarning: divide by zero encountered in log\n",
      "  ll_obs += -np.log(scale * endog ** 3 / var_weights) - np.log(2 * np.pi)\n",
      "/home/alpha91/miniconda3/envs/torch/lib/python3.9/site-packages/statsmodels/genmod/families/family.py:1110: RuntimeWarning: invalid value encountered in add\n",
      "  ll_obs += -np.log(scale * endog ** 3 / var_weights) - np.log(2 * np.pi)\n",
      "/home/alpha91/miniconda3/envs/torch/lib/python3.9/site-packages/statsmodels/genmod/generalized_linear_model.py:293: DomainWarning: The cloglog link function does not respect the domain of the NegativeBinomial family.\n",
      "  warnings.warn((f\"The {type(family.link).__name__} link function \"\n",
      "/home/alpha91/miniconda3/envs/torch/lib/python3.9/site-packages/statsmodels/genmod/generalized_linear_model.py:293: DomainWarning: The cloglog link function does not respect the domain of the NegativeBinomial family.\n",
      "  warnings.warn((f\"The {type(family.link).__name__} link function \"\n",
      "/home/alpha91/miniconda3/envs/torch/lib/python3.9/site-packages/statsmodels/genmod/generalized_linear_model.py:293: DomainWarning: The identity link function does not respect the domain of the NegativeBinomial family.\n",
      "  warnings.warn((f\"The {type(family.link).__name__} link function \"\n",
      "/home/alpha91/miniconda3/envs/torch/lib/python3.9/site-packages/statsmodels/genmod/generalized_linear_model.py:293: DomainWarning: The identity link function does not respect the domain of the NegativeBinomial family.\n",
      "  warnings.warn((f\"The {type(family.link).__name__} link function \"\n",
      "/home/alpha91/miniconda3/envs/torch/lib/python3.9/site-packages/statsmodels/genmod/generalized_linear_model.py:293: DomainWarning: The nbinom link function does not respect the domain of the NegativeBinomial family.\n",
      "  warnings.warn((f\"The {type(family.link).__name__} link function \"\n"
     ]
    },
    {
     "name": "stdout",
     "output_type": "stream",
     "text": [
      "<class 'statsmodels.genmod.families.family.InverseGaussian'> <class 'statsmodels.genmod.families.links.log'>\n",
      "<class 'statsmodels.genmod.families.family.NegativeBinomial'> <class 'statsmodels.genmod.families.links.log'>\n",
      "<class 'statsmodels.genmod.families.family.NegativeBinomial'> <class 'statsmodels.genmod.families.links.cloglog'>\n",
      "<class 'statsmodels.genmod.families.family.NegativeBinomial'> <class 'statsmodels.genmod.families.links.identity'>\n",
      "<class 'statsmodels.genmod.families.family.NegativeBinomial'> <class 'statsmodels.genmod.families.links.nbinom'>\n",
      "<class 'statsmodels.genmod.families.family.NegativeBinomial'> <class 'statsmodels.genmod.families.links.Power'>\n",
      "<class 'statsmodels.genmod.families.family.Poisson'> <class 'statsmodels.genmod.families.links.log'>\n",
      "<class 'statsmodels.genmod.families.family.Poisson'> <class 'statsmodels.genmod.families.links.identity'>\n",
      "<class 'statsmodels.genmod.families.family.Poisson'> <class 'statsmodels.genmod.families.links.sqrt'>\n",
      "<class 'statsmodels.genmod.families.family.Tweedie'> <class 'statsmodels.genmod.families.links.log'>\n",
      "<class 'statsmodels.genmod.families.family.Tweedie'> <class 'statsmodels.genmod.families.links.Power'>\n"
     ]
    },
    {
     "name": "stderr",
     "output_type": "stream",
     "text": [
      "/home/alpha91/miniconda3/envs/torch/lib/python3.9/site-packages/statsmodels/genmod/generalized_linear_model.py:293: DomainWarning: The nbinom link function does not respect the domain of the NegativeBinomial family.\n",
      "  warnings.warn((f\"The {type(family.link).__name__} link function \"\n",
      "/home/alpha91/miniconda3/envs/torch/lib/python3.9/site-packages/statsmodels/genmod/generalized_linear_model.py:293: DomainWarning: The Power link function does not respect the domain of the NegativeBinomial family.\n",
      "  warnings.warn((f\"The {type(family.link).__name__} link function \"\n",
      "/home/alpha91/miniconda3/envs/torch/lib/python3.9/site-packages/statsmodels/genmod/generalized_linear_model.py:293: DomainWarning: The Power link function does not respect the domain of the NegativeBinomial family.\n",
      "  warnings.warn((f\"The {type(family.link).__name__} link function \"\n",
      "/home/alpha91/miniconda3/envs/torch/lib/python3.9/site-packages/statsmodels/genmod/generalized_linear_model.py:293: DomainWarning: The identity link function does not respect the domain of the Poisson family.\n",
      "  warnings.warn((f\"The {type(family.link).__name__} link function \"\n",
      "/home/alpha91/miniconda3/envs/torch/lib/python3.9/site-packages/statsmodels/genmod/generalized_linear_model.py:293: DomainWarning: The identity link function does not respect the domain of the Poisson family.\n",
      "  warnings.warn((f\"The {type(family.link).__name__} link function \"\n",
      "/home/alpha91/miniconda3/envs/torch/lib/python3.9/site-packages/statsmodels/genmod/generalized_linear_model.py:293: DomainWarning: The sqrt link function does not respect the domain of the Poisson family.\n",
      "  warnings.warn((f\"The {type(family.link).__name__} link function \"\n",
      "/home/alpha91/miniconda3/envs/torch/lib/python3.9/site-packages/statsmodels/genmod/generalized_linear_model.py:293: DomainWarning: The sqrt link function does not respect the domain of the Poisson family.\n",
      "  warnings.warn((f\"The {type(family.link).__name__} link function \"\n",
      "/home/alpha91/miniconda3/envs/torch/lib/python3.9/site-packages/statsmodels/genmod/families/family.py:1444: RuntimeWarning: divide by zero encountered in log\n",
      "  endog * np.log(endog / mu) + (mu - endog))\n",
      "/home/alpha91/miniconda3/envs/torch/lib/python3.9/site-packages/statsmodels/genmod/families/family.py:1444: RuntimeWarning: invalid value encountered in multiply\n",
      "  endog * np.log(endog / mu) + (mu - endog))\n",
      "/home/alpha91/miniconda3/envs/torch/lib/python3.9/site-packages/statsmodels/genmod/families/family.py:1444: RuntimeWarning: divide by zero encountered in log\n",
      "  endog * np.log(endog / mu) + (mu - endog))\n",
      "/home/alpha91/miniconda3/envs/torch/lib/python3.9/site-packages/statsmodels/genmod/families/family.py:1444: RuntimeWarning: invalid value encountered in multiply\n",
      "  endog * np.log(endog / mu) + (mu - endog))\n",
      "/home/alpha91/miniconda3/envs/torch/lib/python3.9/site-packages/statsmodels/genmod/families/family.py:1444: RuntimeWarning: divide by zero encountered in log\n",
      "  endog * np.log(endog / mu) + (mu - endog))\n",
      "/home/alpha91/miniconda3/envs/torch/lib/python3.9/site-packages/statsmodels/genmod/families/family.py:1444: RuntimeWarning: invalid value encountered in multiply\n",
      "  endog * np.log(endog / mu) + (mu - endog))\n",
      "/home/alpha91/miniconda3/envs/torch/lib/python3.9/site-packages/statsmodels/genmod/families/family.py:1444: RuntimeWarning: divide by zero encountered in log\n",
      "  endog * np.log(endog / mu) + (mu - endog))\n",
      "/home/alpha91/miniconda3/envs/torch/lib/python3.9/site-packages/statsmodels/genmod/families/family.py:1444: RuntimeWarning: invalid value encountered in multiply\n",
      "  endog * np.log(endog / mu) + (mu - endog))\n"
     ]
    }
   ],
   "source": [
    "FAMILY = [\n",
    "    statsmodels.genmod.families.Binomial,\n",
    "    statsmodels.genmod.families.Gamma,\n",
    "    statsmodels.genmod.families.Gaussian,\n",
    "    statsmodels.genmod.families.InverseGaussian,\n",
    "    statsmodels.genmod.families.NegativeBinomial,\n",
    "    statsmodels.genmod.families.Poisson,\n",
    "    statsmodels.genmod.families.Tweedie,\n",
    "]\n",
    "\n",
    "UNNECESSARY_STR = r\"Time(.*)(?=Pearson)|Date(.*)(?=Deviance)\"\n",
    "\n",
    "# sy.load(\"pandas\")\n",
    "# sy.load(\"statsmodels\")\n",
    "\n",
    "# load data\n",
    "url = \"https://raw.githubusercontent.com/chemo-wakate/tutorial-6th/master/beginner/data/winequality-red.txt\"\n",
    "df = pd.read_csv(url, sep=\"\\t\")\n",
    "df[\"quality\"] = df[\"quality\"].apply(lambda x: 1 if x >= 6 else 0)\n",
    "df = df.sample(100, random_state=42)\n",
    "df_ptr = df.send(root_client)\n",
    "\n",
    "# explanatory variable\n",
    "x = df[\"fixed acidity\"]\n",
    "x_ptr = df_ptr[\"fixed acidity\"]\n",
    "\n",
    "# add constant\n",
    "_x = statsmodels.api.add_constant(x)\n",
    "_x_ptr = root_client.statsmodels.api.add_constant(x_ptr)\n",
    "\n",
    "# dependent variable\n",
    "_y = df[\"quality\"]\n",
    "_y_ptr = df_ptr[\"quality\"]\n",
    "\n",
    "# test all possible combinations of families and links\n",
    "for family in FAMILY:\n",
    "    for link in family.links:\n",
    "\n",
    "        print(family, link)\n",
    "\n",
    "        model = statsmodels.genmod.generalized_linear_model.GLM(\n",
    "            _y, _x, family=family(link=link())\n",
    "        )\n",
    "        result = model.fit()\n",
    "        summary = result.summary().as_csv()\n",
    "\n",
    "        remote_model = root_client.statsmodels.genmod.generalized_linear_model.GLM(\n",
    "            _y_ptr, _x_ptr, family=family(link=link())\n",
    "        )\n",
    "        remote_result = remote_model.fit()\n",
    "        # `get` corresponds to `summary().as_csv()`\n",
    "        remote_summary = remote_result.get()\n",
    "\n",
    "        # remove unnnecessary strings such as proccesing time and date\n",
    "        summary = re.sub(UNNECESSARY_STR, \"\", summary)\n",
    "        remote_summary = re.sub(UNNECESSARY_STR, \"\", remote_summary)\n",
    "\n",
    "        assert summary == remote_summary\n"
   ]
  },
  {
   "cell_type": "code",
   "execution_count": 10,
   "id": "6b77618d-011f-4604-8213-d3a0a8105567",
   "metadata": {},
   "outputs": [
    {
     "data": {
      "text/plain": [
       "['PIL',\n",
       " '__doc__',\n",
       " '__loader__',\n",
       " '__name__',\n",
       " '__package__',\n",
       " '__spec__',\n",
       " 'nacl',\n",
       " 'numpy',\n",
       " 'pandas',\n",
       " 'statsmodels',\n",
       " 'torch']"
      ]
     },
     "execution_count": 10,
     "metadata": {},
     "output_type": "execute_result"
    }
   ],
   "source": [
    "dir(sy.wrappers)"
   ]
  },
  {
   "cell_type": "code",
   "execution_count": null,
   "id": "5f187a00-163b-4978-b972-4a36a4d83aa1",
   "metadata": {},
   "outputs": [],
   "source": []
  }
 ],
 "metadata": {
  "kernelspec": {
   "display_name": "Python 3",
   "language": "python",
   "name": "python3"
  },
  "language_info": {
   "codemirror_mode": {
    "name": "ipython",
    "version": 3
   },
   "file_extension": ".py",
   "mimetype": "text/x-python",
   "name": "python",
   "nbconvert_exporter": "python",
   "pygments_lexer": "ipython3",
   "version": "3.9.5"
  }
 },
 "nbformat": 4,
 "nbformat_minor": 5
}
